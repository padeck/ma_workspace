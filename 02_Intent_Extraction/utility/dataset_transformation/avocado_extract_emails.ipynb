{
 "cells": [
  {
   "cell_type": "markdown",
   "metadata": {},
   "source": [
    "# Extract Email Texts\n",
    "The email-texts contain unwanted information such as signatures and preceding conversations. This is to be extracted."
   ]
  },
  {
   "cell_type": "markdown",
   "metadata": {},
   "source": [
    "### Filter DF into sender_access: EX / SMTP / NaN"
   ]
  },
  {
   "cell_type": "code",
   "execution_count": 1,
   "metadata": {},
   "outputs": [],
   "source": [
    "import pandas as pd\n",
    "import re"
   ]
  },
  {
   "cell_type": "code",
   "execution_count": 2,
   "metadata": {},
   "outputs": [],
   "source": [
    "df = pd.read_parquet('avocado-1.0.2/avocado_light.parquet', engine='pyarrow')\n"
   ]
  },
  {
   "cell_type": "code",
   "execution_count": 3,
   "metadata": {},
   "outputs": [
    {
     "data": {
      "text/plain": [
       "(938035, 14)"
      ]
     },
     "execution_count": 3,
     "metadata": {},
     "output_type": "execute_result"
    }
   ],
   "source": [
    "df.shape"
   ]
  },
  {
   "cell_type": "code",
   "execution_count": 4,
   "metadata": {},
   "outputs": [],
   "source": [
    "df = df.loc[~df.isna().all(axis=1)]"
   ]
  },
  {
   "cell_type": "code",
   "execution_count": 5,
   "metadata": {},
   "outputs": [
    {
     "data": {
      "text/plain": [
       "(937958, 14)"
      ]
     },
     "execution_count": 5,
     "metadata": {},
     "output_type": "execute_result"
    }
   ],
   "source": [
    "df.shape"
   ]
  },
  {
   "cell_type": "code",
   "execution_count": 6,
   "metadata": {},
   "outputs": [],
   "source": [
    "df_ex = df[df['sender_access'] == 'EX']"
   ]
  },
  {
   "cell_type": "markdown",
   "metadata": {},
   "source": [
    "#### Sender Type EX"
   ]
  },
  {
   "cell_type": "code",
   "execution_count": 7,
   "metadata": {},
   "outputs": [
    {
     "data": {
      "text/plain": [
       "(600564, 14)"
      ]
     },
     "execution_count": 7,
     "metadata": {},
     "output_type": "execute_result"
    }
   ],
   "source": [
    "df_ex.shape"
   ]
  },
  {
   "cell_type": "code",
   "execution_count": 8,
   "metadata": {},
   "outputs": [
    {
     "data": {
      "text/plain": [
       "np.int64(600564)"
      ]
     },
     "execution_count": 8,
     "metadata": {},
     "output_type": "execute_result"
    }
   ],
   "source": [
    "df_ex['body_content'].str.contains('Message-ID:', case=False).sum()"
   ]
  },
  {
   "cell_type": "code",
   "execution_count": 9,
   "metadata": {},
   "outputs": [],
   "source": [
    "df_ex.loc[:, 'body_content'] = df_ex['body_content'].fillna('')\n",
    "\n",
    "# Define the regex pattern\n",
    "pattern = re.compile(r'message-id:\\s*<[^>]+>\\s*(.*)', re.IGNORECASE | re.DOTALL)\n",
    "\n",
    "# Filter DataFrame to get only rows that contain the Message-ID pattern\n",
    "df_ex = df_ex[df_ex['body_content'].str.contains(r'message-id:\\s*<[^>]+>', case=False, regex=True)]\n",
    "\n",
    "# Extract the text following the Message-ID using .loc to avoid SettingWithCopyWarning\n",
    "df_ex.loc[:, 'extracted_text'] = df_ex['body_content'].str.extract(pattern, expand=False)\n"
   ]
  },
  {
   "cell_type": "code",
   "execution_count": 10,
   "metadata": {},
   "outputs": [
    {
     "data": {
      "text/html": [
       "<div>\n",
       "<style scoped>\n",
       "    .dataframe tbody tr th:only-of-type {\n",
       "        vertical-align: middle;\n",
       "    }\n",
       "\n",
       "    .dataframe tbody tr th {\n",
       "        vertical-align: top;\n",
       "    }\n",
       "\n",
       "    .dataframe thead th {\n",
       "        text-align: right;\n",
       "    }\n",
       "</style>\n",
       "<table border=\"1\" class=\"dataframe\">\n",
       "  <thead>\n",
       "    <tr style=\"text-align: right;\">\n",
       "      <th></th>\n",
       "      <th>messageid</th>\n",
       "      <th>sender_access</th>\n",
       "      <th>outlook_sender_name</th>\n",
       "      <th>outlook_recipient_name</th>\n",
       "      <th>sentto_address</th>\n",
       "      <th>cc_address</th>\n",
       "      <th>subject</th>\n",
       "      <th>processed_subject</th>\n",
       "      <th>sent_date</th>\n",
       "      <th>arrival_date</th>\n",
       "      <th>body_file_path</th>\n",
       "      <th>body_content</th>\n",
       "      <th>in_reply_to</th>\n",
       "      <th>Keywords</th>\n",
       "      <th>extracted_text</th>\n",
       "    </tr>\n",
       "  </thead>\n",
       "  <tbody>\n",
       "    <tr>\n",
       "      <th>0</th>\n",
       "      <td>&lt;FC38A9406AA4D411AB62009027DE9DA5E6545D@HQEXCH01&gt;</td>\n",
       "      <td>EX</td>\n",
       "      <td>Fortunata Hermoso</td>\n",
       "      <td>Meshele Ko</td>\n",
       "      <td>Meshele Ko</td>\n",
       "      <td>'ray_rahamin@hp.com'; Dan Baca; Elba Linscott</td>\n",
       "      <td>Fw: RE: AvocadoIT's CEO committed to winning B...</td>\n",
       "      <td>AvocadoIT's CEO committed to winning Banamex deal</td>\n",
       "      <td>2001-04-12T22:02:41Z</td>\n",
       "      <td>2001-04-12T22:02:41Z</td>\n",
       "      <td>text/162/162-000001-EM.txt</td>\n",
       "      <td>From: \"Fortunata Hermoso\" &lt;fortunata.hermoso@a...</td>\n",
       "      <td>None</td>\n",
       "      <td>None</td>\n",
       "      <td>Fyi on Venks commitment on Banamex. The next s...</td>\n",
       "    </tr>\n",
       "    <tr>\n",
       "      <th>1</th>\n",
       "      <td>&lt;19B3B310D020D311B57E00105A9A55241D5975@COFFEE&gt;</td>\n",
       "      <td>EX</td>\n",
       "      <td>Paiman Komeilizadeh</td>\n",
       "      <td>Meshele Ko</td>\n",
       "      <td>All Employees</td>\n",
       "      <td>None</td>\n",
       "      <td>Expense reimbursement request- Amendment</td>\n",
       "      <td>Expense reimbursement request- Amendment</td>\n",
       "      <td>2000-04-24T23:06:06Z</td>\n",
       "      <td>2000-04-24T23:06:15Z</td>\n",
       "      <td>text/162/162-000003-EM.txt</td>\n",
       "      <td>From: \"Paiman Komeilizadeh\" &lt;pkomeilizadeh@avo...</td>\n",
       "      <td>None</td>\n",
       "      <td>None</td>\n",
       "      <td>Dear  friends,\\r\\n\\r\\n\\r\\nTo expedite the expe...</td>\n",
       "    </tr>\n",
       "    <tr>\n",
       "      <th>2</th>\n",
       "      <td>&lt;F57EA917353BD411B5BA00D0B708160C121B24@COFFEE&gt;</td>\n",
       "      <td>EX</td>\n",
       "      <td>Meshele Ko</td>\n",
       "      <td>None</td>\n",
       "      <td>Piyush Goel; Dan Baca</td>\n",
       "      <td>None</td>\n",
       "      <td>FW: Information</td>\n",
       "      <td>Information</td>\n",
       "      <td>2000-06-20T20:51:04Z</td>\n",
       "      <td>2000-06-20T20:51:04Z</td>\n",
       "      <td>text/162/162-000004-EM.txt</td>\n",
       "      <td>From: \"Meshele Ko\" &lt;mko@avocadoit.com&gt;\\r\\nTo: ...</td>\n",
       "      <td>None</td>\n",
       "      <td>None</td>\n",
       "      <td>Here is the information from Send.com.  They h...</td>\n",
       "    </tr>\n",
       "    <tr>\n",
       "      <th>3</th>\n",
       "      <td>&lt;9640A23C9075D411B5CB00D0B708160C23A93D@COFFEE&gt;</td>\n",
       "      <td>EX</td>\n",
       "      <td>Meshele Ko</td>\n",
       "      <td>None</td>\n",
       "      <td>'jbmcbryde@fedex.com'</td>\n",
       "      <td>None</td>\n",
       "      <td>Fedex</td>\n",
       "      <td>Fedex</td>\n",
       "      <td>2000-09-12T17:01:08Z</td>\n",
       "      <td>2000-09-12T17:01:08Z</td>\n",
       "      <td>text/162/162-000005-EM.txt</td>\n",
       "      <td>From: \"Meshele Ko\" &lt;mko@avocadoit.com&gt;\\r\\nTo: ...</td>\n",
       "      <td>None</td>\n",
       "      <td>None</td>\n",
       "      <td>Hello Jim,\\r\\n\\r\\nI am following up on a piece...</td>\n",
       "    </tr>\n",
       "    <tr>\n",
       "      <th>5</th>\n",
       "      <td>&lt;19B3B310D020D311B57E00105A9A55243C6C85@COFFEE&gt;</td>\n",
       "      <td>EX</td>\n",
       "      <td>Ron Silverton</td>\n",
       "      <td>Meshele Ko</td>\n",
       "      <td>Marketing&amp;Business Development; Sales Team; Ex...</td>\n",
       "      <td>None</td>\n",
       "      <td>m-commerce over $120 billion by 2008</td>\n",
       "      <td>ASG News &amp; Analysis - 6 April 2000</td>\n",
       "      <td>2000-04-10T19:19:56Z</td>\n",
       "      <td>2000-04-10T19:19:57Z</td>\n",
       "      <td>text/162/162-000008-EM.txt</td>\n",
       "      <td>From: \"Ron Silverton\" &lt;rsilverton@avocadoit.co...</td>\n",
       "      <td>None</td>\n",
       "      <td>None</td>\n",
       "      <td>Attached are some recent projections from Merr...</td>\n",
       "    </tr>\n",
       "  </tbody>\n",
       "</table>\n",
       "</div>"
      ],
      "text/plain": [
       "                                           messageid sender_access  \\\n",
       "0  <FC38A9406AA4D411AB62009027DE9DA5E6545D@HQEXCH01>            EX   \n",
       "1    <19B3B310D020D311B57E00105A9A55241D5975@COFFEE>            EX   \n",
       "2    <F57EA917353BD411B5BA00D0B708160C121B24@COFFEE>            EX   \n",
       "3    <9640A23C9075D411B5CB00D0B708160C23A93D@COFFEE>            EX   \n",
       "5    <19B3B310D020D311B57E00105A9A55243C6C85@COFFEE>            EX   \n",
       "\n",
       "   outlook_sender_name outlook_recipient_name  \\\n",
       "0    Fortunata Hermoso             Meshele Ko   \n",
       "1  Paiman Komeilizadeh             Meshele Ko   \n",
       "2           Meshele Ko                   None   \n",
       "3           Meshele Ko                   None   \n",
       "5        Ron Silverton             Meshele Ko   \n",
       "\n",
       "                                      sentto_address  \\\n",
       "0                                         Meshele Ko   \n",
       "1                                      All Employees   \n",
       "2                              Piyush Goel; Dan Baca   \n",
       "3                              'jbmcbryde@fedex.com'   \n",
       "5  Marketing&Business Development; Sales Team; Ex...   \n",
       "\n",
       "                                      cc_address  \\\n",
       "0  'ray_rahamin@hp.com'; Dan Baca; Elba Linscott   \n",
       "1                                           None   \n",
       "2                                           None   \n",
       "3                                           None   \n",
       "5                                           None   \n",
       "\n",
       "                                             subject  \\\n",
       "0  Fw: RE: AvocadoIT's CEO committed to winning B...   \n",
       "1           Expense reimbursement request- Amendment   \n",
       "2                                    FW: Information   \n",
       "3                                              Fedex   \n",
       "5               m-commerce over $120 billion by 2008   \n",
       "\n",
       "                                   processed_subject             sent_date  \\\n",
       "0  AvocadoIT's CEO committed to winning Banamex deal  2001-04-12T22:02:41Z   \n",
       "1           Expense reimbursement request- Amendment  2000-04-24T23:06:06Z   \n",
       "2                                        Information  2000-06-20T20:51:04Z   \n",
       "3                                              Fedex  2000-09-12T17:01:08Z   \n",
       "5                 ASG News & Analysis - 6 April 2000  2000-04-10T19:19:56Z   \n",
       "\n",
       "           arrival_date              body_file_path  \\\n",
       "0  2001-04-12T22:02:41Z  text/162/162-000001-EM.txt   \n",
       "1  2000-04-24T23:06:15Z  text/162/162-000003-EM.txt   \n",
       "2  2000-06-20T20:51:04Z  text/162/162-000004-EM.txt   \n",
       "3  2000-09-12T17:01:08Z  text/162/162-000005-EM.txt   \n",
       "5  2000-04-10T19:19:57Z  text/162/162-000008-EM.txt   \n",
       "\n",
       "                                        body_content in_reply_to Keywords  \\\n",
       "0  From: \"Fortunata Hermoso\" <fortunata.hermoso@a...        None     None   \n",
       "1  From: \"Paiman Komeilizadeh\" <pkomeilizadeh@avo...        None     None   \n",
       "2  From: \"Meshele Ko\" <mko@avocadoit.com>\\r\\nTo: ...        None     None   \n",
       "3  From: \"Meshele Ko\" <mko@avocadoit.com>\\r\\nTo: ...        None     None   \n",
       "5  From: \"Ron Silverton\" <rsilverton@avocadoit.co...        None     None   \n",
       "\n",
       "                                      extracted_text  \n",
       "0  Fyi on Venks commitment on Banamex. The next s...  \n",
       "1  Dear  friends,\\r\\n\\r\\n\\r\\nTo expedite the expe...  \n",
       "2  Here is the information from Send.com.  They h...  \n",
       "3  Hello Jim,\\r\\n\\r\\nI am following up on a piece...  \n",
       "5  Attached are some recent projections from Merr...  "
      ]
     },
     "execution_count": 10,
     "metadata": {},
     "output_type": "execute_result"
    }
   ],
   "source": [
    "df_ex.head()"
   ]
  },
  {
   "cell_type": "markdown",
   "metadata": {},
   "source": [
    "##### Extract Original Message"
   ]
  },
  {
   "cell_type": "code",
   "execution_count": 11,
   "metadata": {},
   "outputs": [
    {
     "data": {
      "text/plain": [
       "'Fyi on Venks commitment on Banamex. The next step is to set a conference call with Nicollo and Venk next week. EP is committed to do whatever it takes to close this accoiunt.\\r\\n\\r\\nWe have a lot of support. Let\\'s keep the communcation going. Please use me to escalate any support needed to close this account.\\r\\n--------------------------\\r\\nFortunata Hermoso\\r\\nAvocadoIT, Inc.\\r\\nGlobal Alliance Manager\\r\\nMobile Phone: 408.464.8998\\r\\nemail: fortunata.hermoso@avocadoit.com\\r\\n\\r\\n\\r\\n-----Original Message-----\\r\\nFrom: Venk Shukla <shukla@avocadoit.com>\\r\\nTo: \\'DEPERALTA,AIREEN (HP-Cupertino,ex1)\\' <aireen_deperalta@hp.com>; Venk Shukla <shukla@avocadoit.com>; ARENAS,MARTHA (HP-Mexico,ex1) <martha_arenas@hp.com>; SPATARO,NICCOLO (HP-Mexico,ex1) <niccolo_spataro@hp.com>\\r\\nCC: KOMORI,ZENKI (HP-Mexico,ex1) <zenki_komori@hp.com>; ZAMORA,EDUARDO (HP-Mexico,ex1) <eduardo_zamora@hp.com>; Fortunata Hermoso <Fortunata.Hermoso@avocadoit.com>; WATSON,JULIE (HP-Cupertino,ex1) <julie_watson@hp.com>; GRATTON,RANDOLPH (HP-UK,unix1) <randolph_gratton@hp.com>; Ray Rahamin <Ray.Rahamin@avocadoit.com>\\r\\nSent: Thu Apr 12 14:11:07 2001\\r\\nSubject: RE: AvocadoIT\\'s CEO committed to winning Banamex deal\\r\\n\\r\\nThanks for your initiative. We look to Benamex as a potential \"anchor\" account for our banking industry initiative. Goodwill and great reference from anchor accounts are vital to our strategy for success. Our existing customers such as ETrade and Alaska Airlines have nothing but great things to say about our level of commitment to them. We want to add Benamex to this list as well. Winning this account is even more crucial because of our connection to HP. We hope our success here will provide a model for how to work together to crack big accounts.  I am excited about this opportunity and am happy to offer whatever help I can provide in moving the sales process forward.\\r\\n\\r\\n\\r\\n\\r\\nVenktesh Shukla\\r\\nChief Executive Officer\\r\\n\\r\\nAvocadoIT, Inc.\\r\\n2211 No. First Street, Ste. 200\\r\\nSan Jose, CA  95131\\r\\n\\r\\nDirect:   (408) 562-8010\\r\\nPager:   (888) 763-0797\\r\\nFax:      (408) 562-8108\\r\\n\\r\\n\\r\\n-----Original Message-----\\r\\nFrom: DEPERALTA,AIREEN (HP-Cupertino,ex1)\\r\\n[mailto:aireen_deperalta@hp.com]\\r\\nSent: Wednesday, April 11, 2001 1:51 PM\\r\\nTo: \\'venk.shukla@avocadoit.com\\'; ARENAS,MARTHA (HP-Mexico,ex1);\\r\\nSPATARO,NICCOLO (HP-Mexico,ex1)\\r\\nCc: KOMORI,ZENKI (HP-Mexico,ex1); ZAMORA,EDUARDO (HP-Mexico,ex1);\\r\\n\\'fortunata hermoso\\'; WATSON,JULIE (HP-Cupertino,ex1); GRATTON,RANDOLPH\\r\\n(HP-UK,unix1)\\r\\nSubject: AvocadoIT\\'s CEO committed to winning Banamex deal\\r\\n\\r\\n\\r\\nHola, Martha and Niccolo,\\r\\n\\r\\nI would like to introduce you to Venk Shukla, CEO of AvocadoIT, one of the\\r\\nE-services Partner Division\\'s (ESPD) mobile partners. We are currently\\r\\nworking with them on creating a qualified worldwide funnel and closing some\\r\\ndeals. I am their Sales Engagement manager incented to making this happen,\\r\\nand I have been in touch with Eduardo and Zenki to provide help in moving\\r\\nthe process along.\\r\\n\\r\\nVenk is making himself available to help win the deal at Banamex against\\r\\nEdify/Unisys. He\\'s aware that Unisys is the incumbent since they implemented\\r\\nBanamex\\'s internet banking solution and may have an advantage. Please feel\\r\\nfree to pull him in when talking to the executives at Banamex so that we can\\r\\nprovide a unified team. His number is 408-562-8010,\\r\\nVenk.Shukla@avocadoit.com. I\\'ve copied Venk on this message.\\r\\n\\r\\nVenk, \\r\\n\\r\\nThe Mexico team is doing their best to win this deal, also. Banamex is one\\r\\nof our \"Must Win\" accounts, so you can be sure that all levels of HP\\r\\nmanagement are going to get involved to win this one. Marta is the GM of\\r\\nFinancial Services and Nicolo is the GM of HPC in Mexico. They will be\\r\\nmeeting with one of the Banamex directors next week. HP Mexico has a good\\r\\nrelationship with Banamex, who is one of our top customers, so this should\\r\\nhelp us in the decision-making.\\r\\n\\r\\nThank you for offering your services and showing your commitment to close\\r\\nBanamex. Fortunata and I will keep you updated as these discussions\\r\\nprogress. \\r\\n\\r\\nLet me know if anyone needs anything else,\\r\\n\\r\\n-Aireen de Peralta\\r\\ntn 447-8740\\r\\n'"
      ]
     },
     "execution_count": 11,
     "metadata": {},
     "output_type": "execute_result"
    }
   ],
   "source": [
    "df_ex.loc[0]['extracted_text']"
   ]
  },
  {
   "cell_type": "code",
   "execution_count": 12,
   "metadata": {},
   "outputs": [],
   "source": [
    "\n",
    "# Adjust the search string to capture exactly five dashes, spaces, and words\n",
    "search_string = r\"-{5}[\\w\\s]+-{5}\"\n",
    "\n",
    "# Regex pattern to match and capture text after the search string\n",
    "pattern = re.compile(rf'{search_string}[\\r\\n]*(.*)', re.DOTALL)\n",
    "\n",
    "# Extract text after the search string into 'preceding_conversation'\n",
    "df_ex['preceding_conversation'] = df_ex['extracted_text'].str.extract(pattern, expand=False)\n",
    "\n",
    "# Remove the search string and everything after it from 'extracted_text'\n",
    "df_ex['extracted_text'] = df_ex['extracted_text'].str.replace(pattern, '', regex=True).str.strip()\n"
   ]
  },
  {
   "cell_type": "code",
   "execution_count": 13,
   "metadata": {},
   "outputs": [
    {
     "data": {
      "text/plain": [
       "(600564, 16)"
      ]
     },
     "execution_count": 13,
     "metadata": {},
     "output_type": "execute_result"
    }
   ],
   "source": [
    "df_ex.shape"
   ]
  },
  {
   "cell_type": "code",
   "execution_count": 14,
   "metadata": {},
   "outputs": [
    {
     "data": {
      "text/plain": [
       "np.int64(240095)"
      ]
     },
     "execution_count": 14,
     "metadata": {},
     "output_type": "execute_result"
    }
   ],
   "source": [
    "df_ex['extracted_text'].str.contains('In-Reply-To').sum()"
   ]
  },
  {
   "cell_type": "code",
   "execution_count": 15,
   "metadata": {},
   "outputs": [],
   "source": [
    "# Apply the regex pattern to remove matching lines from 'extracted_text' column\n",
    "df_ex['extracted_text'] = df_ex['extracted_text'].replace(r'^In-Reply-To: <[^>]*>\\s*', '', regex=True)"
   ]
  },
  {
   "cell_type": "code",
   "execution_count": 16,
   "metadata": {},
   "outputs": [
    {
     "name": "stdout",
     "output_type": "stream",
     "text": [
      "Fyi on Venks commitment on Banamex. The next step is to set a conference call with Nicollo and Venk next week. EP is committed to do whatever it takes to close this accoiunt.\n",
      "\n",
      "We have a lot of support. Let's keep the communcation going. Please use me to escalate any support needed to close this account.\n",
      "--------------------------\n",
      "Fortunata Hermoso\n",
      "AvocadoIT, Inc.\n",
      "Global Alliance Manager\n",
      "Mobile Phone: 408.464.8998\n",
      "email: fortunata.hermoso@avocadoit.com\n"
     ]
    }
   ],
   "source": [
    "print(df_ex.iloc[0]['extracted_text'])"
   ]
  },
  {
   "cell_type": "code",
   "execution_count": 17,
   "metadata": {},
   "outputs": [
    {
     "data": {
      "text/plain": [
       "np.int64(1)"
      ]
     },
     "execution_count": 17,
     "metadata": {},
     "output_type": "execute_result"
    }
   ],
   "source": [
    "df_ex['extracted_text'].str.contains('In-Reply-To').sum()"
   ]
  },
  {
   "cell_type": "code",
   "execution_count": 18,
   "metadata": {},
   "outputs": [],
   "source": [
    "pattern = re.compile(\n",
    "    r'(From:.*|Sent:.*|To:.*|Subject:.*)(?:\\n|\\r\\n|$)', re.IGNORECASE | re.MULTILINE\n",
    ")\n",
    "\n",
    "# Extract matching lines into 'preceding_conversation'\n",
    "df_ex['preceding_conversation'] = df_ex['extracted_text'].str.extract(\n",
    "    rf'((From:.*\\n.*\\n.*\\n.*\\n)(.*))', expand=False\n",
    ")[0]\n",
    "\n",
    "# Remove matching lines from 'extracted_text'\n",
    "df_ex['extracted_text'] = df_ex['extracted_text'].str.replace(pattern, '', regex=True).str.strip()\n"
   ]
  },
  {
   "cell_type": "markdown",
   "metadata": {},
   "source": [
    "#### Sender Type SMTP"
   ]
  },
  {
   "cell_type": "code",
   "execution_count": 19,
   "metadata": {},
   "outputs": [],
   "source": [
    "df_smtp = df[df['sender_access'] == 'SMTP']\n",
    "df_smtp = df_smtp.copy()"
   ]
  },
  {
   "cell_type": "code",
   "execution_count": 20,
   "metadata": {},
   "outputs": [
    {
     "data": {
      "text/plain": [
       "(333599, 14)"
      ]
     },
     "execution_count": 20,
     "metadata": {},
     "output_type": "execute_result"
    }
   ],
   "source": [
    "df_smtp.shape"
   ]
  },
  {
   "cell_type": "code",
   "execution_count": 21,
   "metadata": {},
   "outputs": [
    {
     "data": {
      "text/plain": [
       "'Received: from exsrvr.homebid.com (197-175-161-216.customers.uswest.net [216.161.175.197]) by coffee.avocadoit.com with SMTP (Microsoft Exchange Internet Mail Service Version 5.5.2448.0)\\r\\n\\tid J5NF4M7L; Tue, 2 May 2000 18:30:53 -0700\\r\\nReceived: by EXSRVR with Internet Mail Service (5.5.2448.0)\\r\\n\\tid <JGX7RSRQ>; Tue, 2 May 2000 18:27:20 -0700\\r\\nMessage-ID: <019D8990549CD3118A30009027D609CD25BF69@EXSRVR>\\r\\nFrom: Cindy Hilker <chilker@homebid.com>\\r\\nTo: \"Meshele Ko (E-mail)\" <mko@avocadoit.com>\\r\\nCc: Wayne Thayer <wthayer@homebid.com>\\r\\nSubject: Icon and graphic for our WAP APPs\\r\\nDate: Tue, 2 May 2000 18:27:13 -0700 \\r\\nMIME-Version: 1.0\\r\\nX-Mailer: Internet Mail Service (5.5.2448.0)\\r\\nContent-Type: multipart/alternative;\\r\\n\\tboundary=\"----_=_NextPart_001_01BFB49E.B93D8574\"\\r\\n\\r\\nThis message is in MIME format. Since your mail reader does not understand\\r\\nthis format, some or all of this message may not be legible.\\r\\n\\r\\n------_=_NextPart_001_01BFB49E.B93D8574\\r\\nContent-Type: text/plain;\\r\\n\\tcharset=\"iso-8859-1\"\\r\\n\\r\\n------_=_NextPart_001_01BFB49E.B93D8574\\r\\nContent-Type: text/html;\\r\\n\\tcharset=\"iso-8859-1\"\\r\\nContent-Transfer-Encoding: quoted-printable\\r\\n\\r\\n------_=_NextPart_001_01BFB49E.B93D8574--\\r\\n\\r\\nMeshele: \\r\\n\\r\\nI forgot to mention in our call today, are there any plans to create a custom Palm icon for the Homebid app? Also, we noticed that the Homebid logo on the sample front page does not render very well, are there any plans to do this over with a cleaner logo? We can send you graphics source files if that will help.\\r\\n\\r\\nThanks, \\r\\n\\r\\nCindy\\r\\n\\r\\n\\r\\n........................................................ \\r\\nCynthia Hilker \\r\\nInformation Architect \\r\\nHomebid.com \\r\\n8700 N. Gainey Center Drive Suite 150 \\r\\nScottsdale AZ 85258 \\r\\n(480) 609-4633 direct \\r\\n(602) 617-6072 mobile \\r\\n(480) 609-4646 fax \\r\\nchilker@homebid.com \\r\\nwww.homebid.com\\r\\n'"
      ]
     },
     "execution_count": 21,
     "metadata": {},
     "output_type": "execute_result"
    }
   ],
   "source": [
    "df_smtp.iloc[0]['body_content']"
   ]
  },
  {
   "cell_type": "code",
   "execution_count": 22,
   "metadata": {},
   "outputs": [],
   "source": [
    "pattern_1 = r'Received.*?\\\\r\\\\n\\\\r\\\\n'\n",
    "\n",
    "# Apply the regex pattern to 'body_content' column and replace matches with an empty string\n",
    "df_smtp['body_content'] = df_smtp['body_content'].apply(repr)\n",
    "df_smtp.loc[:, 'extracted_text'] = df_smtp['body_content'].str.replace(pattern_1, '', regex=True)\n"
   ]
  },
  {
   "cell_type": "code",
   "execution_count": 23,
   "metadata": {},
   "outputs": [],
   "source": [
    "def extract_email(row):\n",
    "    try:\n",
    "        if 'Content-Transfer-Encoding:' in row['extracted_text']:\n",
    "            if '--============newsletter============' in row['extracted_text']:\n",
    "                pattern = r\"Contact \\\\r\\\\n\\\\r\\\\n(.*).*'\"\n",
    "                res = re.search(pattern, row['extracted_text'])\n",
    "                row['extracted_text'] = res.group(1)\n",
    "            pattern = r\"--\\\\\\\\r\\\\\\\\n\\\\\\\\r|--\\\\r\\\\n\\\\r(.*)\"\n",
    "            res = re.search(pattern, row['extracted_text'])\n",
    "            row['extracted_text'] = res.group(1)\n",
    "    except Exception as e:\n",
    "        row['problematic'] = True\n",
    "    return row"
   ]
  },
  {
   "cell_type": "code",
   "execution_count": 24,
   "metadata": {},
   "outputs": [],
   "source": [
    "df_smtp = df_smtp.apply(extract_email, axis=1)"
   ]
  },
  {
   "cell_type": "code",
   "execution_count": 25,
   "metadata": {},
   "outputs": [
    {
     "data": {
      "text/html": [
       "<div>\n",
       "<style scoped>\n",
       "    .dataframe tbody tr th:only-of-type {\n",
       "        vertical-align: middle;\n",
       "    }\n",
       "\n",
       "    .dataframe tbody tr th {\n",
       "        vertical-align: top;\n",
       "    }\n",
       "\n",
       "    .dataframe thead th {\n",
       "        text-align: right;\n",
       "    }\n",
       "</style>\n",
       "<table border=\"1\" class=\"dataframe\">\n",
       "  <thead>\n",
       "    <tr style=\"text-align: right;\">\n",
       "      <th></th>\n",
       "      <th>Keywords</th>\n",
       "      <th>arrival_date</th>\n",
       "      <th>body_content</th>\n",
       "      <th>body_file_path</th>\n",
       "      <th>cc_address</th>\n",
       "      <th>extracted_text</th>\n",
       "      <th>in_reply_to</th>\n",
       "      <th>messageid</th>\n",
       "      <th>outlook_recipient_name</th>\n",
       "      <th>outlook_sender_name</th>\n",
       "      <th>problematic</th>\n",
       "      <th>processed_subject</th>\n",
       "      <th>sender_access</th>\n",
       "      <th>sent_date</th>\n",
       "      <th>sentto_address</th>\n",
       "      <th>subject</th>\n",
       "    </tr>\n",
       "  </thead>\n",
       "  <tbody>\n",
       "    <tr>\n",
       "      <th>4</th>\n",
       "      <td>None</td>\n",
       "      <td>2000-05-03T01:30:54Z</td>\n",
       "      <td>'Received: from exsrvr.homebid.com (197-175-16...</td>\n",
       "      <td>text/162/162-000006-EM.txt</td>\n",
       "      <td>Wayne Thayer</td>\n",
       "      <td>\\nMeshele: \\r\\n\\r\\nI forgot to mention in our ...</td>\n",
       "      <td>None</td>\n",
       "      <td>&lt;019D8990549CD3118A30009027D609CD25BF69@EXSRVR&gt;</td>\n",
       "      <td>Meshele Ko</td>\n",
       "      <td>Cindy Hilker</td>\n",
       "      <td>NaN</td>\n",
       "      <td>Icon and graphic for our WAP APPs</td>\n",
       "      <td>SMTP</td>\n",
       "      <td>2000-05-03T01:27:13Z</td>\n",
       "      <td>Meshele Ko (E-mail)</td>\n",
       "      <td>Icon and graphic for our WAP APPs</td>\n",
       "    </tr>\n",
       "    <tr>\n",
       "      <th>7</th>\n",
       "      <td>None</td>\n",
       "      <td>2000-02-01T23:47:19Z</td>\n",
       "      <td>'Received: from office.violet.com (216.186.186...</td>\n",
       "      <td>text/162/162-000010-EM.txt</td>\n",
       "      <td>None</td>\n",
       "      <td>\\nHi Meshele~ \\r\\n  \\r\\n  \\r\\nThanks for your ...</td>\n",
       "      <td>None</td>\n",
       "      <td>&lt;57F6D4070FCAD3119D8F00C04F10A7C2058196@EXCH01&gt;</td>\n",
       "      <td>Meshele Ko</td>\n",
       "      <td>Violet Customer Service</td>\n",
       "      <td>NaN</td>\n",
       "      <td>Non-PC access to Web application</td>\n",
       "      <td>SMTP</td>\n",
       "      <td>2000-02-01T23:38:46Z</td>\n",
       "      <td>'Meshele Ko'</td>\n",
       "      <td>RE: Non-PC access to Web application</td>\n",
       "    </tr>\n",
       "    <tr>\n",
       "      <th>8</th>\n",
       "      <td>None</td>\n",
       "      <td>2000-08-08T01:16:24Z</td>\n",
       "      <td>'Received: from mail02-oak.pilot.net (mail-oak...</td>\n",
       "      <td>text/162/162-000013-EM.txt</td>\n",
       "      <td>vasuki_narayan@peoplesoft.com</td>\n",
       "      <td>\\nMeshele,\\r\\n\\r\\nThanks again for coming to P...</td>\n",
       "      <td>None</td>\n",
       "      <td>&lt;OFA65BD9FB.792EF8BC-ON88256935.0004FEA0@peopl...</td>\n",
       "      <td>Meshele Ko</td>\n",
       "      <td>diana_smith@peoplesoft.com</td>\n",
       "      <td>NaN</td>\n",
       "      <td>AvocadoIT Demo</td>\n",
       "      <td>SMTP</td>\n",
       "      <td>2000-08-08T01:05:59Z</td>\n",
       "      <td>mko@avocadoit.com</td>\n",
       "      <td>AvocadoIT Demo</td>\n",
       "    </tr>\n",
       "    <tr>\n",
       "      <th>9</th>\n",
       "      <td>None</td>\n",
       "      <td>2000-12-07T22:00:03Z</td>\n",
       "      <td>'Received: from mailer.avocadoit.com (10.7.1.4...</td>\n",
       "      <td>text/162/162-000015-EM.txt</td>\n",
       "      <td>None</td>\n",
       "      <td>'Meshele, \\r\\n\\r\\nI have been informed that th...</td>\n",
       "      <td>None</td>\n",
       "      <td>&lt;55900733E95DD2119A7400A0C9975CD70353C83D@MSGT...</td>\n",
       "      <td>Meshele Ko</td>\n",
       "      <td>Knox, Ron</td>\n",
       "      <td>NaN</td>\n",
       "      <td>Signed SOW</td>\n",
       "      <td>SMTP</td>\n",
       "      <td>2000-12-07T21:38:55Z</td>\n",
       "      <td>'Meshele Ko'</td>\n",
       "      <td>Signed SOW</td>\n",
       "    </tr>\n",
       "    <tr>\n",
       "      <th>14</th>\n",
       "      <td>None</td>\n",
       "      <td>2000-03-06T21:30:18Z</td>\n",
       "      <td>'Received: from MAILSERVER (206.57.35.4 [206.5...</td>\n",
       "      <td>text/162/162-000023-EM.txt</td>\n",
       "      <td>Keylan Qazzaz</td>\n",
       "      <td>'Hi Meshele,\\r\\n\\r\\nAs you know I will be out ...</td>\n",
       "      <td>None</td>\n",
       "      <td>&lt;NCBBJBIBCLLIOIJIMPCHCEDECAAA.johnn@theplunge....</td>\n",
       "      <td>Meshele Ko</td>\n",
       "      <td>John Nunez</td>\n",
       "      <td>NaN</td>\n",
       "      <td>While I'm Away</td>\n",
       "      <td>SMTP</td>\n",
       "      <td>2000-03-06T21:24:47Z</td>\n",
       "      <td>Meshele Ko</td>\n",
       "      <td>While I'm Away</td>\n",
       "    </tr>\n",
       "  </tbody>\n",
       "</table>\n",
       "</div>"
      ],
      "text/plain": [
       "   Keywords          arrival_date  \\\n",
       "4      None  2000-05-03T01:30:54Z   \n",
       "7      None  2000-02-01T23:47:19Z   \n",
       "8      None  2000-08-08T01:16:24Z   \n",
       "9      None  2000-12-07T22:00:03Z   \n",
       "14     None  2000-03-06T21:30:18Z   \n",
       "\n",
       "                                         body_content  \\\n",
       "4   'Received: from exsrvr.homebid.com (197-175-16...   \n",
       "7   'Received: from office.violet.com (216.186.186...   \n",
       "8   'Received: from mail02-oak.pilot.net (mail-oak...   \n",
       "9   'Received: from mailer.avocadoit.com (10.7.1.4...   \n",
       "14  'Received: from MAILSERVER (206.57.35.4 [206.5...   \n",
       "\n",
       "                body_file_path                     cc_address  \\\n",
       "4   text/162/162-000006-EM.txt                   Wayne Thayer   \n",
       "7   text/162/162-000010-EM.txt                           None   \n",
       "8   text/162/162-000013-EM.txt  vasuki_narayan@peoplesoft.com   \n",
       "9   text/162/162-000015-EM.txt                           None   \n",
       "14  text/162/162-000023-EM.txt                  Keylan Qazzaz   \n",
       "\n",
       "                                       extracted_text in_reply_to  \\\n",
       "4   \\nMeshele: \\r\\n\\r\\nI forgot to mention in our ...        None   \n",
       "7   \\nHi Meshele~ \\r\\n  \\r\\n  \\r\\nThanks for your ...        None   \n",
       "8   \\nMeshele,\\r\\n\\r\\nThanks again for coming to P...        None   \n",
       "9   'Meshele, \\r\\n\\r\\nI have been informed that th...        None   \n",
       "14  'Hi Meshele,\\r\\n\\r\\nAs you know I will be out ...        None   \n",
       "\n",
       "                                            messageid outlook_recipient_name  \\\n",
       "4     <019D8990549CD3118A30009027D609CD25BF69@EXSRVR>             Meshele Ko   \n",
       "7     <57F6D4070FCAD3119D8F00C04F10A7C2058196@EXCH01>             Meshele Ko   \n",
       "8   <OFA65BD9FB.792EF8BC-ON88256935.0004FEA0@peopl...             Meshele Ko   \n",
       "9   <55900733E95DD2119A7400A0C9975CD70353C83D@MSGT...             Meshele Ko   \n",
       "14  <NCBBJBIBCLLIOIJIMPCHCEDECAAA.johnn@theplunge....             Meshele Ko   \n",
       "\n",
       "           outlook_sender_name problematic                  processed_subject  \\\n",
       "4                 Cindy Hilker         NaN  Icon and graphic for our WAP APPs   \n",
       "7      Violet Customer Service         NaN   Non-PC access to Web application   \n",
       "8   diana_smith@peoplesoft.com         NaN                     AvocadoIT Demo   \n",
       "9                    Knox, Ron         NaN                         Signed SOW   \n",
       "14                  John Nunez         NaN                     While I'm Away   \n",
       "\n",
       "   sender_access             sent_date       sentto_address  \\\n",
       "4           SMTP  2000-05-03T01:27:13Z  Meshele Ko (E-mail)   \n",
       "7           SMTP  2000-02-01T23:38:46Z         'Meshele Ko'   \n",
       "8           SMTP  2000-08-08T01:05:59Z    mko@avocadoit.com   \n",
       "9           SMTP  2000-12-07T21:38:55Z         'Meshele Ko'   \n",
       "14          SMTP  2000-03-06T21:24:47Z           Meshele Ko   \n",
       "\n",
       "                                 subject  \n",
       "4      Icon and graphic for our WAP APPs  \n",
       "7   RE: Non-PC access to Web application  \n",
       "8                         AvocadoIT Demo  \n",
       "9                             Signed SOW  \n",
       "14                        While I'm Away  "
      ]
     },
     "execution_count": 25,
     "metadata": {},
     "output_type": "execute_result"
    }
   ],
   "source": [
    "df_smtp.head()"
   ]
  },
  {
   "cell_type": "code",
   "execution_count": 26,
   "metadata": {},
   "outputs": [
    {
     "data": {
      "text/plain": [
       "\"'Meshele, \\\\r\\\\n\\\\r\\\\nI have been informed that the signed SOW has now been faxed back to\\\\r\\\\nAvocadoIT. Please call me if you did not receive it.\\\\r\\\\n\\\\r\\\\nRegards, Ron.\\\\r\\\\n\\\\r\\\\n> Ron Knox\\\\r\\\\n> Project Manager, e.Business Division\\\\r\\\\n> Fidelity Investments\\\\r\\\\n> ron.knox@fidelity.com\\\\r\\\\n> 416.217.7599\\\\r\\\\n> \\\\r\\\\n>\\\\r\\\\n'\""
      ]
     },
     "execution_count": 26,
     "metadata": {},
     "output_type": "execute_result"
    }
   ],
   "source": [
    "df_smtp.iloc[3]['extracted_text']"
   ]
  },
  {
   "cell_type": "markdown",
   "metadata": {},
   "source": [
    "#### Sender Type not available"
   ]
  },
  {
   "cell_type": "code",
   "execution_count": 27,
   "metadata": {},
   "outputs": [],
   "source": [
    "df_nan = df[(df['sender_access'] != 'SMTP' ) & (df['sender_access'] != 'EX') ]"
   ]
  },
  {
   "cell_type": "code",
   "execution_count": 28,
   "metadata": {},
   "outputs": [
    {
     "data": {
      "text/plain": [
       "(3795, 14)"
      ]
     },
     "execution_count": 28,
     "metadata": {},
     "output_type": "execute_result"
    }
   ],
   "source": [
    "df_nan.shape"
   ]
  },
  {
   "cell_type": "code",
   "execution_count": 29,
   "metadata": {},
   "outputs": [
    {
     "name": "stderr",
     "output_type": "stream",
     "text": [
      "/var/folders/vh/4lm899sj0tdgnf9d98kzk1800000gn/T/ipykernel_38209/2766733130.py:4: SettingWithCopyWarning: \n",
      "A value is trying to be set on a copy of a slice from a DataFrame.\n",
      "Try using .loc[row_indexer,col_indexer] = value instead\n",
      "\n",
      "See the caveats in the documentation: https://pandas.pydata.org/pandas-docs/stable/user_guide/indexing.html#returning-a-view-versus-a-copy\n",
      "  df_nan['body_content'] = df_nan['body_content'].apply(repr)\n"
     ]
    }
   ],
   "source": [
    "\n",
    "# Drop columns where all values are None\n",
    "\n",
    "\n",
    "df_nan['body_content'] = df_nan['body_content'].apply(repr)\n"
   ]
  },
  {
   "cell_type": "code",
   "execution_count": 30,
   "metadata": {},
   "outputs": [
    {
     "data": {
      "text/plain": [
       "(3795, 14)"
      ]
     },
     "execution_count": 30,
     "metadata": {},
     "output_type": "execute_result"
    }
   ],
   "source": [
    "df_nan.shape"
   ]
  },
  {
   "cell_type": "code",
   "execution_count": 31,
   "metadata": {},
   "outputs": [
    {
     "data": {
      "text/plain": [
       "3588"
      ]
     },
     "execution_count": 31,
     "metadata": {},
     "output_type": "execute_result"
    }
   ],
   "source": [
    "df_nan_w_message = df_nan[df_nan['body_content'].str.contains('Message-ID:')]\n",
    "df_nan_w_message.shape[0]"
   ]
  },
  {
   "cell_type": "code",
   "execution_count": 32,
   "metadata": {},
   "outputs": [
    {
     "data": {
      "text/plain": [
       "207"
      ]
     },
     "execution_count": 32,
     "metadata": {},
     "output_type": "execute_result"
    }
   ],
   "source": [
    "df_nan_wo_message = df_nan[~df_nan['body_content'].str.contains('Message-ID:')]\n",
    "df_nan_wo_message.shape[0]"
   ]
  },
  {
   "cell_type": "code",
   "execution_count": 33,
   "metadata": {},
   "outputs": [],
   "source": [
    "# make sure that entries with and without having \"message id\" in their body content still adds up to the amount of rows of the original df\n",
    "if df_nan[df_nan['body_content'].str.contains('Message-ID:')].shape[0] + df_nan_wo_message.shape[0] != df_nan.shape[0]:\n",
    "    raise Exception"
   ]
  },
  {
   "cell_type": "code",
   "execution_count": 34,
   "metadata": {},
   "outputs": [
    {
     "data": {
      "text/plain": [
       "'\\'From: \"Marcia Kadanoff\" <marciak@avocadoit.com>\\\\r\\\\nTo: \"Venk Shukla\" <shukla@avocadoit.com>\\\\r\\\\nCc: \"Pam Fong\" <pfong@avocadoit.com>\\\\r\\\\nSubject: Marketing Organization\\\\r\\\\nDate: 04 Jan 2000 02:50:58 UTC\\\\r\\\\n\\\\r\\\\nProposal on the table - as shared with you today\\\\r\\\\n \\\\r\\\\nMarcia Kadanoff\\\\r\\\\nChief Marketing Officer\\\\r\\\\nAvocadoIT\\\\r\\\\n\\\\r\\\\n650.270.4309\\\\r\\\\nwww.avocadoit.com\\\\r\\\\n\\''"
      ]
     },
     "execution_count": 34,
     "metadata": {},
     "output_type": "execute_result"
    }
   ],
   "source": [
    "df_nan_wo_message.iloc[115]['body_content']"
   ]
  },
  {
   "cell_type": "code",
   "execution_count": 35,
   "metadata": {},
   "outputs": [],
   "source": [
    "def extract_email_nan(row):\n",
    "    try:\n",
    "        row['extracted_text'] = row['body_content']\n",
    "        if 'Date:' in row['body_content']:\n",
    "            pattern = r'(Date:.*?\\\\r\\\\n\\\\r\\\\n|Date:.*?\\\\\\\\r\\\\\\\\n\\\\\\\\r\\\\\\\\n)(.*)'\n",
    "            res = re.search(pattern, row['body_content'])\n",
    "            row['extracted_text'] = res.group(2)\n",
    "    except:\n",
    "        print('exception happened')\n",
    "        row['problematic'] = True\n",
    "    return row"
   ]
  },
  {
   "cell_type": "code",
   "execution_count": 36,
   "metadata": {},
   "outputs": [],
   "source": [
    "df_nan_wo_message = df_nan_wo_message.apply(extract_email_nan, axis=1)"
   ]
  },
  {
   "cell_type": "code",
   "execution_count": 37,
   "metadata": {},
   "outputs": [
    {
     "data": {
      "text/plain": [
       "\"When I chatted with Joe G. he mentioned he was about to  make an offer to someone to handle Europe...\\\\r\\\\n\\\\r\\\\nmk\\\\r\\\\n\\\\r\\\\nMarcia Kadanoff\\\\r\\\\nChief Marketing Officer\\\\r\\\\nAvocadoIT\\\\r\\\\n\\\\r\\\\n650.270.4309\\\\r\\\\nwww.avocadoit.com\\\\r\\\\n'\""
      ]
     },
     "execution_count": 37,
     "metadata": {},
     "output_type": "execute_result"
    }
   ],
   "source": [
    "df_nan_wo_message.iloc[100]['extracted_text']"
   ]
  },
  {
   "cell_type": "code",
   "execution_count": 38,
   "metadata": {},
   "outputs": [
    {
     "data": {
      "text/plain": [
       "(207, 15)"
      ]
     },
     "execution_count": 38,
     "metadata": {},
     "output_type": "execute_result"
    }
   ],
   "source": [
    "df_nan_wo_message.shape"
   ]
  },
  {
   "cell_type": "code",
   "execution_count": 39,
   "metadata": {},
   "outputs": [],
   "source": [
    "df_nan_w_message.loc[:, 'body_content'] = df_nan['body_content'].fillna('')\n",
    "\n",
    "# Define the regex pattern\n",
    "pattern = re.compile(r'message-id:\\s*<[^>]+>\\s*(.*)', re.IGNORECASE | re.DOTALL)\n",
    "\n",
    "# Filter DataFrame to get only rows that contain the Message-ID pattern\n",
    "df_nan_w_message = df_nan_w_message[df_nan_w_message['body_content'].str.contains(r'message-id:\\s*<[^>]+>', case=False, regex=True)]\n",
    "\n",
    "# Extract the text following the Message-ID using .loc to avoid SettingWithCopyWarning\n",
    "df_nan_w_message.loc[:, 'extracted_text'] = df_nan_w_message['body_content'].str.extract(pattern, expand=False)\n"
   ]
  },
  {
   "cell_type": "code",
   "execution_count": 40,
   "metadata": {},
   "outputs": [
    {
     "data": {
      "text/plain": [
       "(3588, 15)"
      ]
     },
     "execution_count": 40,
     "metadata": {},
     "output_type": "execute_result"
    }
   ],
   "source": [
    "df_nan_w_message.shape"
   ]
  },
  {
   "cell_type": "code",
   "execution_count": 41,
   "metadata": {},
   "outputs": [
    {
     "data": {
      "text/plain": [
       "(207, 15)"
      ]
     },
     "execution_count": 41,
     "metadata": {},
     "output_type": "execute_result"
    }
   ],
   "source": [
    "df_nan_wo_message.shape"
   ]
  },
  {
   "cell_type": "code",
   "execution_count": 42,
   "metadata": {},
   "outputs": [],
   "source": [
    "df_nan_new = pd.concat([df_nan_w_message, df_nan_wo_message], axis=0)"
   ]
  },
  {
   "cell_type": "code",
   "execution_count": 43,
   "metadata": {},
   "outputs": [
    {
     "data": {
      "text/plain": [
       "(3795, 15)"
      ]
     },
     "execution_count": 43,
     "metadata": {},
     "output_type": "execute_result"
    }
   ],
   "source": [
    "df_nan_new.shape"
   ]
  },
  {
   "cell_type": "code",
   "execution_count": 44,
   "metadata": {},
   "outputs": [],
   "source": [
    "df_final = pd.concat([df_ex, df_smtp, df_nan_new])"
   ]
  },
  {
   "cell_type": "code",
   "execution_count": 45,
   "metadata": {},
   "outputs": [
    {
     "data": {
      "text/plain": [
       "(937958, 17)"
      ]
     },
     "execution_count": 45,
     "metadata": {},
     "output_type": "execute_result"
    }
   ],
   "source": [
    "df_final.shape"
   ]
  },
  {
   "cell_type": "code",
   "execution_count": 46,
   "metadata": {},
   "outputs": [
    {
     "data": {
      "text/plain": [
       "(937958, 17)"
      ]
     },
     "execution_count": 46,
     "metadata": {},
     "output_type": "execute_result"
    }
   ],
   "source": [
    "df_final.shape"
   ]
  },
  {
   "cell_type": "code",
   "execution_count": 61,
   "metadata": {},
   "outputs": [],
   "source": [
    "df_final.to_parquet('avocado_extracted_text.parquet', engine='pyarrow')"
   ]
  },
  {
   "cell_type": "code",
   "execution_count": null,
   "metadata": {},
   "outputs": [],
   "source": []
  }
 ],
 "metadata": {
  "kernelspec": {
   "display_name": "ma_exp_intent",
   "language": "python",
   "name": "python3"
  },
  "language_info": {
   "codemirror_mode": {
    "name": "ipython",
    "version": 3
   },
   "file_extension": ".py",
   "mimetype": "text/x-python",
   "name": "python",
   "nbconvert_exporter": "python",
   "pygments_lexer": "ipython3",
   "version": "3.12.4"
  }
 },
 "nbformat": 4,
 "nbformat_minor": 2
}
