{
 "cells": [
  {
   "cell_type": "markdown",
   "metadata": {},
   "source": [
    "# This Notebook is here to turn a Dataframe into the specific format of TEXTOIR Benchmark datasets"
   ]
  },
  {
   "cell_type": "code",
   "execution_count": 9,
   "metadata": {},
   "outputs": [],
   "source": [
    "import pandas as pd"
   ]
  },
  {
   "cell_type": "code",
   "execution_count": 10,
   "metadata": {},
   "outputs": [],
   "source": [
    "df = pd.read_parquet('../../../data/avocado_train_50k_summarized.parquet')"
   ]
  },
  {
   "cell_type": "code",
   "execution_count": 11,
   "metadata": {},
   "outputs": [],
   "source": [
    "df_textoir = df.sample(10000, random_state=42)"
   ]
  },
  {
   "cell_type": "code",
   "execution_count": 12,
   "metadata": {},
   "outputs": [
    {
     "data": {
      "text/html": [
       "<div>\n",
       "<style scoped>\n",
       "    .dataframe tbody tr th:only-of-type {\n",
       "        vertical-align: middle;\n",
       "    }\n",
       "\n",
       "    .dataframe tbody tr th {\n",
       "        vertical-align: top;\n",
       "    }\n",
       "\n",
       "    .dataframe thead th {\n",
       "        text-align: right;\n",
       "    }\n",
       "</style>\n",
       "<table border=\"1\" class=\"dataframe\">\n",
       "  <thead>\n",
       "    <tr style=\"text-align: right;\">\n",
       "      <th></th>\n",
       "      <th>messageid</th>\n",
       "      <th>sender_access</th>\n",
       "      <th>outlook_sender_name</th>\n",
       "      <th>outlook_recipient_name</th>\n",
       "      <th>sentto_address</th>\n",
       "      <th>cc_address</th>\n",
       "      <th>subject</th>\n",
       "      <th>processed_subject</th>\n",
       "      <th>sent_date</th>\n",
       "      <th>arrival_date</th>\n",
       "      <th>body_file_path</th>\n",
       "      <th>body_content</th>\n",
       "      <th>in_reply_to</th>\n",
       "      <th>Keywords</th>\n",
       "      <th>extracted_text</th>\n",
       "      <th>preceding_conversation</th>\n",
       "      <th>problematic</th>\n",
       "      <th>heuristics</th>\n",
       "      <th>target_sentence</th>\n",
       "      <th>chatgpt_summ</th>\n",
       "    </tr>\n",
       "  </thead>\n",
       "  <tbody>\n",
       "    <tr>\n",
       "      <th>816013</th>\n",
       "      <td>&lt;01370F5B01AAD411BE8100D0B744338C110A5E@HQEXCH&gt;</td>\n",
       "      <td>EX</td>\n",
       "      <td>Debbie Margulies</td>\n",
       "      <td>Ritesh Adval</td>\n",
       "      <td>Santa Clara Employees</td>\n",
       "      <td>None</td>\n",
       "      <td>AvocadoIT exhibiting at the Wireless Developer...</td>\n",
       "      <td>AvocadoIT exhibiting at the Wireless Developer...</td>\n",
       "      <td>2000-11-21T23:32:10Z</td>\n",
       "      <td>2000-11-21T23:32:17Z</td>\n",
       "      <td>text/196/196-015013-EM.txt</td>\n",
       "      <td>From: \"Debbie Margulies\" &lt;dmargulies@avocadoit...</td>\n",
       "      <td>None</td>\n",
       "      <td>None</td>\n",
       "      <td>We are exhibiting at the Wireless Developer Co...</td>\n",
       "      <td>None</td>\n",
       "      <td>None</td>\n",
       "      <td>pos</td>\n",
       "      <td>we get one free vip registration (if an execut...</td>\n",
       "      <td>The company will be exhibiting at the Wireless...</td>\n",
       "    </tr>\n",
       "    <tr>\n",
       "      <th>480236</th>\n",
       "      <td>&lt;001a01c099f9$80e1c500$b25284a1@usmp.edu.pe&gt;</td>\n",
       "      <td>SMTP</td>\n",
       "      <td>christian hamann</td>\n",
       "      <td>Dan Baca</td>\n",
       "      <td>JSP-INTEREST@JAVA.SUN.COM</td>\n",
       "      <td>None</td>\n",
       "      <td>RV: URGENT HELP ME!!!!!</td>\n",
       "      <td>URGENT HELP ME!!!!!</td>\n",
       "      <td>2001-02-18T22:24:02Z</td>\n",
       "      <td>2001-02-19T06:40:21Z</td>\n",
       "      <td>text/055/055-018968-EM.txt</td>\n",
       "      <td>'Received: from mailer.avocadoit.com (10.7.1.4...</td>\n",
       "      <td>None</td>\n",
       "      <td>None</td>\n",
       "      <td>'Christian Hamann Linares\\r\\nArea de Desarroll...</td>\n",
       "      <td>None</td>\n",
       "      <td>None</td>\n",
       "      <td>pos</td>\n",
       "      <td>first i have to send an array since my servlet...</td>\n",
       "      <td>A request for urgent assistance was made regar...</td>\n",
       "    </tr>\n",
       "    <tr>\n",
       "      <th>320812</th>\n",
       "      <td>&lt;200112080159.fB81xMf19666@inet-mail5.oracle.com&gt;</td>\n",
       "      <td>SMTP</td>\n",
       "      <td>Oracle University</td>\n",
       "      <td>HH</td>\n",
       "      <td>HHUA@AVOCADOIT.COM</td>\n",
       "      <td>None</td>\n",
       "      <td>Train Anytime, Anywhere with These Technology-...</td>\n",
       "      <td>Train Anytime, Anywhere with These Technology-...</td>\n",
       "      <td>2001-12-08T01:59:23Z</td>\n",
       "      <td>2001-12-08T02:04:22Z</td>\n",
       "      <td>text/089/089-006378-EM.txt</td>\n",
       "      <td>'Received: from mailer.avocadoit.com (10.7.1.4...</td>\n",
       "      <td>None</td>\n",
       "      <td>None</td>\n",
       "      <td>\\nOracle Corporation \\t\\r\\n\\r\\nDear Oracle IT ...</td>\n",
       "      <td>None</td>\n",
       "      <td>None</td>\n",
       "      <td>pos</td>\n",
       "      <td>all rights reserved.\\t contact us | legal noti...</td>\n",
       "      <td>Oracle offers a variety of self-paced training...</td>\n",
       "    </tr>\n",
       "    <tr>\n",
       "      <th>651936</th>\n",
       "      <td>&lt;20030211193427.19894.qmail@mail9.uptilt.com&gt;</td>\n",
       "      <td>SMTP</td>\n",
       "      <td>FierceWireless</td>\n",
       "      <td>Srikanth Raghavan</td>\n",
       "      <td>sraghavan@avocadoit.com</td>\n",
       "      <td>None</td>\n",
       "      <td>| 02.11.03 | U.S. wireless penetration reaches...</td>\n",
       "      <td>| 02.11.03 | U.S. wireless penetration reaches...</td>\n",
       "      <td>2003-02-11T19:34:27Z</td>\n",
       "      <td>2003-02-11T19:37:12Z</td>\n",
       "      <td>text/235/235-000281-EM.txt</td>\n",
       "      <td>'Received: from mailer.avocadoit.com (10.7.1.4...</td>\n",
       "      <td>None</td>\n",
       "      <td>None</td>\n",
       "      <td>\\n--=_35001be81685d0e9ee1fcc180ee09f4d--\\r\\n\\r...</td>\n",
       "      <td>None</td>\n",
       "      <td>None</td>\n",
       "      <td>pos</td>\n",
       "      <td>send resume to: kyle@prdot.com</td>\n",
       "      <td>The email provides updates on U.S. wireless ma...</td>\n",
       "    </tr>\n",
       "    <tr>\n",
       "      <th>169694</th>\n",
       "      <td>&lt;FC38A9406AA4D411AB62009027DE9DA548C6EE@HQEXCH01&gt;</td>\n",
       "      <td>EX</td>\n",
       "      <td>Ryan Glover</td>\n",
       "      <td>None</td>\n",
       "      <td>David Chan</td>\n",
       "      <td>None</td>\n",
       "      <td>FW: Wireless ASP seminar - AvocadoIT</td>\n",
       "      <td>Wireless ASP seminar - AvocadoIT</td>\n",
       "      <td>2001-02-23T02:25:38Z</td>\n",
       "      <td>2001-02-23T02:25:38Z</td>\n",
       "      <td>text/205/205-009407-EM.txt</td>\n",
       "      <td>From: \"Ryan Glover\" &lt;rglover@avocadoit.com&gt;\\r\\...</td>\n",
       "      <td>None</td>\n",
       "      <td>None</td>\n",
       "      <td>Hi David,\\r\\n\\r\\nAvocadoIT has been invited to...</td>\n",
       "      <td>None</td>\n",
       "      <td>None</td>\n",
       "      <td>pos</td>\n",
       "      <td>please let me know at your earliest convenienc...</td>\n",
       "      <td>AvocadoIT has the opportunity to participate i...</td>\n",
       "    </tr>\n",
       "  </tbody>\n",
       "</table>\n",
       "</div>"
      ],
      "text/plain": [
       "                                                messageid sender_access  \\\n",
       "816013    <01370F5B01AAD411BE8100D0B744338C110A5E@HQEXCH>            EX   \n",
       "480236       <001a01c099f9$80e1c500$b25284a1@usmp.edu.pe>          SMTP   \n",
       "320812  <200112080159.fB81xMf19666@inet-mail5.oracle.com>          SMTP   \n",
       "651936      <20030211193427.19894.qmail@mail9.uptilt.com>          SMTP   \n",
       "169694  <FC38A9406AA4D411AB62009027DE9DA548C6EE@HQEXCH01>            EX   \n",
       "\n",
       "       outlook_sender_name outlook_recipient_name             sentto_address  \\\n",
       "816013    Debbie Margulies           Ritesh Adval      Santa Clara Employees   \n",
       "480236    christian hamann               Dan Baca  JSP-INTEREST@JAVA.SUN.COM   \n",
       "320812   Oracle University                     HH         HHUA@AVOCADOIT.COM   \n",
       "651936      FierceWireless      Srikanth Raghavan    sraghavan@avocadoit.com   \n",
       "169694         Ryan Glover                   None                 David Chan   \n",
       "\n",
       "       cc_address                                            subject  \\\n",
       "816013       None  AvocadoIT exhibiting at the Wireless Developer...   \n",
       "480236       None                            RV: URGENT HELP ME!!!!!   \n",
       "320812       None  Train Anytime, Anywhere with These Technology-...   \n",
       "651936       None  | 02.11.03 | U.S. wireless penetration reaches...   \n",
       "169694       None               FW: Wireless ASP seminar - AvocadoIT   \n",
       "\n",
       "                                        processed_subject  \\\n",
       "816013  AvocadoIT exhibiting at the Wireless Developer...   \n",
       "480236                                URGENT HELP ME!!!!!   \n",
       "320812  Train Anytime, Anywhere with These Technology-...   \n",
       "651936  | 02.11.03 | U.S. wireless penetration reaches...   \n",
       "169694                   Wireless ASP seminar - AvocadoIT   \n",
       "\n",
       "                   sent_date          arrival_date  \\\n",
       "816013  2000-11-21T23:32:10Z  2000-11-21T23:32:17Z   \n",
       "480236  2001-02-18T22:24:02Z  2001-02-19T06:40:21Z   \n",
       "320812  2001-12-08T01:59:23Z  2001-12-08T02:04:22Z   \n",
       "651936  2003-02-11T19:34:27Z  2003-02-11T19:37:12Z   \n",
       "169694  2001-02-23T02:25:38Z  2001-02-23T02:25:38Z   \n",
       "\n",
       "                    body_file_path  \\\n",
       "816013  text/196/196-015013-EM.txt   \n",
       "480236  text/055/055-018968-EM.txt   \n",
       "320812  text/089/089-006378-EM.txt   \n",
       "651936  text/235/235-000281-EM.txt   \n",
       "169694  text/205/205-009407-EM.txt   \n",
       "\n",
       "                                             body_content in_reply_to  \\\n",
       "816013  From: \"Debbie Margulies\" <dmargulies@avocadoit...        None   \n",
       "480236  'Received: from mailer.avocadoit.com (10.7.1.4...        None   \n",
       "320812  'Received: from mailer.avocadoit.com (10.7.1.4...        None   \n",
       "651936  'Received: from mailer.avocadoit.com (10.7.1.4...        None   \n",
       "169694  From: \"Ryan Glover\" <rglover@avocadoit.com>\\r\\...        None   \n",
       "\n",
       "       Keywords                                     extracted_text  \\\n",
       "816013     None  We are exhibiting at the Wireless Developer Co...   \n",
       "480236     None  'Christian Hamann Linares\\r\\nArea de Desarroll...   \n",
       "320812     None  \\nOracle Corporation \\t\\r\\n\\r\\nDear Oracle IT ...   \n",
       "651936     None  \\n--=_35001be81685d0e9ee1fcc180ee09f4d--\\r\\n\\r...   \n",
       "169694     None  Hi David,\\r\\n\\r\\nAvocadoIT has been invited to...   \n",
       "\n",
       "       preceding_conversation problematic heuristics  \\\n",
       "816013                   None        None        pos   \n",
       "480236                   None        None        pos   \n",
       "320812                   None        None        pos   \n",
       "651936                   None        None        pos   \n",
       "169694                   None        None        pos   \n",
       "\n",
       "                                          target_sentence  \\\n",
       "816013  we get one free vip registration (if an execut...   \n",
       "480236  first i have to send an array since my servlet...   \n",
       "320812  all rights reserved.\\t contact us | legal noti...   \n",
       "651936                     send resume to: kyle@prdot.com   \n",
       "169694  please let me know at your earliest convenienc...   \n",
       "\n",
       "                                             chatgpt_summ  \n",
       "816013  The company will be exhibiting at the Wireless...  \n",
       "480236  A request for urgent assistance was made regar...  \n",
       "320812  Oracle offers a variety of self-paced training...  \n",
       "651936  The email provides updates on U.S. wireless ma...  \n",
       "169694  AvocadoIT has the opportunity to participate i...  "
      ]
     },
     "execution_count": 12,
     "metadata": {},
     "output_type": "execute_result"
    }
   ],
   "source": [
    "df_textoir.head()"
   ]
  },
  {
   "cell_type": "code",
   "execution_count": 13,
   "metadata": {},
   "outputs": [],
   "source": [
    "df_textoir_new = df_textoir[['chatgpt_summ']]"
   ]
  },
  {
   "cell_type": "code",
   "execution_count": 14,
   "metadata": {},
   "outputs": [
    {
     "data": {
      "text/html": [
       "<div>\n",
       "<style scoped>\n",
       "    .dataframe tbody tr th:only-of-type {\n",
       "        vertical-align: middle;\n",
       "    }\n",
       "\n",
       "    .dataframe tbody tr th {\n",
       "        vertical-align: top;\n",
       "    }\n",
       "\n",
       "    .dataframe thead th {\n",
       "        text-align: right;\n",
       "    }\n",
       "</style>\n",
       "<table border=\"1\" class=\"dataframe\">\n",
       "  <thead>\n",
       "    <tr style=\"text-align: right;\">\n",
       "      <th></th>\n",
       "      <th>chatgpt_summ</th>\n",
       "    </tr>\n",
       "  </thead>\n",
       "  <tbody>\n",
       "    <tr>\n",
       "      <th>816013</th>\n",
       "      <td>The company will be exhibiting at the Wireless...</td>\n",
       "    </tr>\n",
       "    <tr>\n",
       "      <th>480236</th>\n",
       "      <td>A request for urgent assistance was made regar...</td>\n",
       "    </tr>\n",
       "    <tr>\n",
       "      <th>320812</th>\n",
       "      <td>Oracle offers a variety of self-paced training...</td>\n",
       "    </tr>\n",
       "    <tr>\n",
       "      <th>651936</th>\n",
       "      <td>The email provides updates on U.S. wireless ma...</td>\n",
       "    </tr>\n",
       "    <tr>\n",
       "      <th>169694</th>\n",
       "      <td>AvocadoIT has the opportunity to participate i...</td>\n",
       "    </tr>\n",
       "  </tbody>\n",
       "</table>\n",
       "</div>"
      ],
      "text/plain": [
       "                                             chatgpt_summ\n",
       "816013  The company will be exhibiting at the Wireless...\n",
       "480236  A request for urgent assistance was made regar...\n",
       "320812  Oracle offers a variety of self-paced training...\n",
       "651936  The email provides updates on U.S. wireless ma...\n",
       "169694  AvocadoIT has the opportunity to participate i..."
      ]
     },
     "execution_count": 14,
     "metadata": {},
     "output_type": "execute_result"
    }
   ],
   "source": [
    "df_textoir_new.head()"
   ]
  },
  {
   "cell_type": "code",
   "execution_count": 15,
   "metadata": {},
   "outputs": [],
   "source": [
    "df_textoir_new = df_textoir_new.rename(columns={'chatgpt_summ': 'text'})"
   ]
  },
  {
   "cell_type": "code",
   "execution_count": 16,
   "metadata": {},
   "outputs": [],
   "source": [
    "df_textoir_new['label'] = 'no_label'"
   ]
  },
  {
   "cell_type": "code",
   "execution_count": 21,
   "metadata": {},
   "outputs": [
    {
     "data": {
      "text/plain": [
       "82"
      ]
     },
     "execution_count": 21,
     "metadata": {},
     "output_type": "execute_result"
    }
   ],
   "source": [
    "df_textoir_new['word_count'] = df_textoir_new['text'].apply(lambda x: len(x.split()))\n",
    "\n",
    "df_textoir_new['word_count'].max()"
   ]
  },
  {
   "cell_type": "code",
   "execution_count": 27,
   "metadata": {},
   "outputs": [],
   "source": [
    "df_textoir_new = df_textoir_new[['text','label']]"
   ]
  },
  {
   "cell_type": "code",
   "execution_count": 33,
   "metadata": {},
   "outputs": [],
   "source": [
    "df_train = df_textoir_new.iloc[0:6000]\n",
    "df_val = df_textoir_new.iloc[6000:8000]\n",
    "df_test = df_textoir_new.iloc[8000:10000]"
   ]
  },
  {
   "cell_type": "code",
   "execution_count": 35,
   "metadata": {},
   "outputs": [],
   "source": [
    "df_train.to_csv('train.tsv', sep='\\t', index=False)\n",
    "df_textoir_new.to_csv('dev.tsv', sep='\\t', index=False)\n",
    "df_test.to_csv('test.tsv', sep='\\t', index=False)"
   ]
  },
  {
   "cell_type": "code",
   "execution_count": null,
   "metadata": {},
   "outputs": [],
   "source": []
  }
 ],
 "metadata": {
  "kernelspec": {
   "display_name": "ma_exp_intent",
   "language": "python",
   "name": "python3"
  },
  "language_info": {
   "codemirror_mode": {
    "name": "ipython",
    "version": 3
   },
   "file_extension": ".py",
   "mimetype": "text/x-python",
   "name": "python",
   "nbconvert_exporter": "python",
   "pygments_lexer": "ipython3",
   "version": "3.12.4"
  }
 },
 "nbformat": 4,
 "nbformat_minor": 2
}
