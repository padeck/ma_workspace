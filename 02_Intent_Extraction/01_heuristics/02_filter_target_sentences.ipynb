{
 "cells": [
  {
   "cell_type": "code",
   "execution_count": 30,
   "metadata": {},
   "outputs": [],
   "source": [
    "import pandas as pd\n",
    "from collections import Counter\n",
    "import spacy\n",
    "from spacy.matcher import Matcher\n",
    "from tqdm import tqdm\n",
    "tqdm.pandas()\n",
    "\n",
    "\n",
    "# Load the English model\n",
    "nlp = spacy.load(\"en_core_web_lg\")"
   ]
  },
  {
   "cell_type": "code",
   "execution_count": 9,
   "metadata": {},
   "outputs": [],
   "source": [
    "df = pd.read_parquet('../../data/processed/avocado_train_individual_sentences.parquet')"
   ]
  },
  {
   "cell_type": "markdown",
   "metadata": {},
   "source": [
    "### Create list of words for filtering requests"
   ]
  },
  {
   "cell_type": "code",
   "execution_count": 11,
   "metadata": {},
   "outputs": [],
   "source": [
    "intent_words = [\n",
    "    'dinner', 'lunch', 'breakfast', 'meeting', 'appointment', 'reminder', 'review', 'send me', \n",
    "    'need', 'how', 'schedule', 'please', 'send', 'sent', 'join', 'make sure', \n",
    "    'discuss', 'email', 'attend', 'call', 'provide', 'help', 'are there', 'are you', 'available', \n",
    "    'can i', 'can you', 'can we', 'can he', 'can she', 'can they', 'could you', 'could we', 'could i', \n",
    "    'did you', 'did i', 'did we', 'did he', 'did she', 'did they', 'do you', 'do they', 'does he', 'does she', 'do we',\n",
    "    'do not', \"don't\", 'want', 'does that', 'does this', 'give', 'go ahead',\n",
    "    'have you', 'have there', 'mail', 'is it', 'possible', \n",
    "]"
   ]
  },
  {
   "cell_type": "code",
   "execution_count": null,
   "metadata": {},
   "outputs": [],
   "source": [
    "def filter_sentences(sentences, intent_words):\n",
    "    if sentences is None:\n",
    "        return []  # Return an empty list for None values\n",
    "    return [sentence for sentence in sentences if any(keyword in sentence.lower() for keyword in intent_words)]\n",
    "\n",
    "df['targets'] = df['sentences'].progress_apply(lambda sentences: filter_sentences(sentences, intent_words))\n"
   ]
  },
  {
   "cell_type": "code",
   "execution_count": null,
   "metadata": {},
   "outputs": [],
   "source": [
    "df.head()"
   ]
  },
  {
   "cell_type": "markdown",
   "metadata": {},
   "source": [
    "### EDA Action-Object Pairs"
   ]
  },
  {
   "cell_type": "code",
   "execution_count": null,
   "metadata": {},
   "outputs": [],
   "source": [
    "def filter_action_object(targets):\n",
    "    pairs = []\n",
    "    matcher = Matcher(nlp.vocab)\n",
    "    pattern = [{\"POS\": \"VERB\"}]\n",
    "    matcher.add(\"VERB\", [pattern])\n",
    "\n",
    "    for target in targets:\n",
    "        doc = nlp(target)\n",
    "        matches = matcher(doc)\n",
    "        for match_id, start, end in matches:\n",
    "            verb = doc[start]\n",
    "            for child in verb.children:\n",
    "                # Check for direct or prepositional object that is alphabetic\n",
    "                if child.dep_ in (\"dobj\", \"pobj\") and child.is_alpha:\n",
    "                    pairs.append(verb.lemma_ + \"_\" + child.text)\n",
    "    return pairs\n",
    "\n",
    "# Example usage\n",
    "df['action_object_pairs'] = df['targets'].progress_apply(lambda targets: filter_action_object(targets))"
   ]
  },
  {
   "cell_type": "code",
   "execution_count": 39,
   "metadata": {},
   "outputs": [],
   "source": [
    "all_words = [word for sublist in df['action_object_pairs'] for word in sublist]\n",
    "\n",
    "# Use Counter to count occurrences of each word\n",
    "word_counts = Counter(all_words)\n",
    "\n",
    "# Convert to DataFrame (optional, if you want to keep it in tabular form)\n",
    "distinct_words_df = pd.DataFrame(word_counts.items(), columns=['Word', 'Count'])\n",
    "distinct_words_df = distinct_words_df.sort_values(by='Count', ascending=False)"
   ]
  },
  {
   "cell_type": "code",
   "execution_count": null,
   "metadata": {},
   "outputs": [],
   "source": [
    "distinct_words_df.head(20)"
   ]
  },
  {
   "cell_type": "code",
   "execution_count": null,
   "metadata": {},
   "outputs": [],
   "source": []
  }
 ],
 "metadata": {
  "kernelspec": {
   "display_name": "ma_exp_intent",
   "language": "python",
   "name": "python3"
  },
  "language_info": {
   "codemirror_mode": {
    "name": "ipython",
    "version": 3
   },
   "file_extension": ".py",
   "mimetype": "text/x-python",
   "name": "python",
   "nbconvert_exporter": "python",
   "pygments_lexer": "ipython3",
   "version": "3.12.4"
  }
 },
 "nbformat": 4,
 "nbformat_minor": 2
}
