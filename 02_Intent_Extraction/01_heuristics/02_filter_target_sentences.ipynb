{
 "cells": [
  {
   "cell_type": "code",
   "execution_count": 12,
   "metadata": {},
   "outputs": [],
   "source": [
    "import pandas as pd\n",
    "import spacy\n",
    "\n",
    "# Load the English model\n",
    "nlp = spacy.load(\"en_core_web_lg\")"
   ]
  },
  {
   "cell_type": "code",
   "execution_count": 4,
   "metadata": {},
   "outputs": [],
   "source": [
    "df = pd.read_parquet('../../data/processed/avocado_train_individual_sentences.parquet')"
   ]
  },
  {
   "cell_type": "code",
   "execution_count": 19,
   "metadata": {},
   "outputs": [
    {
     "name": "stdout",
     "output_type": "stream",
     "text": [
      "'Dear Joe:\\r\\n\\r\\nI know that you have been in touch with Kelsey Kerr in the past and she has asked me to follow-up with you to present some special pricing that is being offered to new AvocadoIT customers.'\n",
      "Action: asked, Object: me\n",
      "Action: follow, Object: up\n",
      "Action: present, Object: pricing\n",
      "...\n",
      "'Here is an outline of the package:\\r\\n\\r\\nWireless Requirements Design and Consulting\\r\\nApplication Development (3 weeks)\\r\\nHosting and Monitoring (6 months)\\r\\nCustomer Support \\r\\nGuaranteed service levels\\r\\nApplication Maintenance (5 hours per month)\\r\\nMonthly Usage Reports\\r\\n\\r\\nThe price for this package is $69,500 and it is available to new AvocadoIT customers through year end.'\n",
      "...\n",
      "'Please let me know how your wireless plans are coming along and if you are interested in speaking with Kelsey or me further about mobilizing the Workout.com site.'\n",
      "Action: mobilizing, Object: site\n",
      "...\n",
      "\"Also, here's an article that I thought you might be interested in.\"\n",
      "...\n",
      "'It was in USA Today that highlights one of our customers: E*TRADE.'\n",
      "Action: highlights, Object: one\n",
      "...\n",
      "'http://www.usatoday.com/money/perfi/tips/0008.htm\\r\\n\\r\\nI look forward to hearing from you.'\n",
      "...\n",
      "'Kind Regards,\\r\\n\\r\\nLaura\\r\\n\\r\\n \\r\\n\\r\\nLaura C. Henderson\\r\\nAccount Development Representative\\r\\nAvocadoIT, Inc.\\r\\nemail: lhenderson@avocadoit.com\\r\\n(800) 355.1103  ext 8187\\r\\nDirect: (408) 562.8187\\r\\nhttp://www.avocadoit.com'\n",
      "...\n"
     ]
    }
   ],
   "source": [
    "for sent in df.iloc[20]['sentences']:\n",
    "    print(repr(sent))\n",
    "    doc = nlp(sent)\n",
    "    for token in doc:\n",
    "        # Check if the token is a verb\n",
    "        if token.pos_ == \"VERB\":\n",
    "            # Find the direct object (dobj) of the verb\n",
    "            for child in token.children:\n",
    "                if child.dep_ == \"dobj\":\n",
    "                    print(f\"Action: {token.text}, Object: {child.text}\")\n",
    "    doc = nlp(sent)\n",
    "\n",
    "\n",
    "    print('...')"
   ]
  },
  {
   "cell_type": "code",
   "execution_count": null,
   "metadata": {},
   "outputs": [],
   "source": []
  }
 ],
 "metadata": {
  "kernelspec": {
   "display_name": "ma_exp_intent",
   "language": "python",
   "name": "python3"
  },
  "language_info": {
   "codemirror_mode": {
    "name": "ipython",
    "version": 3
   },
   "file_extension": ".py",
   "mimetype": "text/x-python",
   "name": "python",
   "nbconvert_exporter": "python",
   "pygments_lexer": "ipython3",
   "version": "3.12.4"
  }
 },
 "nbformat": 4,
 "nbformat_minor": 2
}
