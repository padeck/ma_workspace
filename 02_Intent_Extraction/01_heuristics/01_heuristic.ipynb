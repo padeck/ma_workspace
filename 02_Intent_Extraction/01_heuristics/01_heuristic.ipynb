{
 "cells": [
  {
   "cell_type": "markdown",
   "metadata": {},
   "source": [
    "# First experiments for intent extraction using heuristics"
   ]
  },
  {
   "cell_type": "code",
   "execution_count": 1,
   "metadata": {},
   "outputs": [],
   "source": [
    "import pandas as pd"
   ]
  },
  {
   "cell_type": "code",
   "execution_count": 2,
   "metadata": {},
   "outputs": [],
   "source": [
    "df = pd.read_parquet('../../data/avocado_train.parquet')"
   ]
  },
  {
   "cell_type": "code",
   "execution_count": 9,
   "metadata": {},
   "outputs": [
    {
     "name": "stdout",
     "output_type": "stream",
     "text": [
      "Hello Jorg,\n",
      "\n",
      "I just left you a voicemail as well. I found out some more alarming news on Thursday.  Sun has purchased Brience licenses within their GSO organization.  I don't know who the Brience champion is within Sun.  This is not good news for you or me.  Brience is very closely linked with KPMG.  The CEO was third in command at KPMG.  I think they are using their CXO contacts to get into Sun at a very high level.  We are both now being hit by two competitors - Aether and CGE&Y/KPMG.  I would like to get a working session with you, face to face, as soon as possible to share information, strategize on the account and get some high level meeting going between AvocadoIT/Accenture and Sun.  We need to do this quickly.\n",
      "\n",
      "Thanks Jorg and I look forward to working with you.\n",
      "\n",
      "Let me know if this week works for you.\n",
      "\n",
      "Regards,\n",
      "Helen\n"
     ]
    }
   ],
   "source": [
    "entry = 2\n",
    "print(df.iloc[entry]['extracted_text'])"
   ]
  },
  {
   "cell_type": "code",
   "execution_count": null,
   "metadata": {},
   "outputs": [],
   "source": []
  }
 ],
 "metadata": {
  "kernelspec": {
   "display_name": "ma_exp_intent",
   "language": "python",
   "name": "python3"
  },
  "language_info": {
   "codemirror_mode": {
    "name": "ipython",
    "version": 3
   },
   "file_extension": ".py",
   "mimetype": "text/x-python",
   "name": "python",
   "nbconvert_exporter": "python",
   "pygments_lexer": "ipython3",
   "version": "3.12.4"
  }
 },
 "nbformat": 4,
 "nbformat_minor": 2
}
