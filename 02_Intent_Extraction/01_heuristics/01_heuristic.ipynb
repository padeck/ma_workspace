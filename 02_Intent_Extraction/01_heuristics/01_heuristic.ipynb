{
 "cells": [
  {
   "cell_type": "markdown",
   "metadata": {},
   "source": [
    "# First experiments for intent extraction using heuristics"
   ]
  },
  {
   "cell_type": "code",
   "execution_count": 1,
   "metadata": {},
   "outputs": [],
   "source": [
    "import pandas as pd"
   ]
  },
  {
   "cell_type": "code",
   "execution_count": 2,
   "metadata": {},
   "outputs": [],
   "source": [
    "df = pd.read_parquet('../../data/avocado_train.parquet')"
   ]
  },
  {
   "cell_type": "code",
   "execution_count": 3,
   "metadata": {},
   "outputs": [],
   "source": [
    "df_sample = df.sample(n=1000,random_state=42)"
   ]
  },
  {
   "cell_type": "markdown",
   "metadata": {},
   "source": [
    "# Manual Labeling"
   ]
  },
  {
   "cell_type": "markdown",
   "metadata": {},
   "source": [
    "### Inspecting entries to subsequently add labels to them"
   ]
  },
  {
   "cell_type": "code",
   "execution_count": 15,
   "metadata": {},
   "outputs": [],
   "source": [
    "df_sample['label_finegrain'] = df_sample.get('label_finegrain', pd.Series(dtype='object'))\n",
    "df_sample['label_coarse'] = df_sample.get('label_coarse', pd.Series(dtype='object'))\n",
    "df_sample['number_intents'] = df_sample.get('number_intents', pd.Series(dtype='object'))\n",
    "df_sample['target_sentences'] = df_sample.get('target_sentences', pd.Series(dtype='object'))\n",
    "df_sample['requires_action'] = df_sample.get('requires_action', pd.Series(dtype='object'))\n"
   ]
  },
  {
   "cell_type": "code",
   "execution_count": 16,
   "metadata": {},
   "outputs": [
    {
     "name": "stdout",
     "output_type": "stream",
     "text": [
      "Guys:\n",
      "\n",
      "If Carey is comfortable with our capabilities and would move forward with EP, WITHOUT engaging other\n",
      "vendors (Brience,Airt2Web,Aether) then our options for success improve.How do they fell about us?\n",
      "Can we diplomatically ask them about a commitment now?\n",
      "\n",
      "Don\n"
     ]
    }
   ],
   "source": [
    "entry = 0\n",
    "print(df_sample.iloc[entry]['extracted_text'])"
   ]
  },
  {
   "cell_type": "code",
   "execution_count": 17,
   "metadata": {},
   "outputs": [
    {
     "data": {
      "text/plain": [
       "0"
      ]
     },
     "execution_count": 17,
     "metadata": {},
     "output_type": "execute_result"
    }
   ],
   "source": [
    "entry"
   ]
  },
  {
   "cell_type": "code",
   "execution_count": 32,
   "metadata": {},
   "outputs": [],
   "source": [
    "df_sample.at[df_sample.index[entry], 'label_finegrain'] = ['request_opinion','request_commitment']\n",
    "df_sample.at[df_sample.index[entry], 'label_coarse'] = ['request','request']\n",
    "df_sample.at[df_sample.index[entry], 'number_intents'] = '2'\n",
    "df_sample.at[df_sample.index[entry], 'target_sentences'] = ['How do they fell about us?','Can we diplomatically ask them about a commitment now?']\n",
    "df_sample.at[df_sample.index[entry], 'requires_action'] = True"
   ]
  },
  {
   "cell_type": "code",
   "execution_count": 33,
   "metadata": {},
   "outputs": [
    {
     "data": {
      "text/plain": [
       "messageid                 <FC38A9406AA4D411AB62009027DE9DA5013DC38C@HQEX...\n",
       "sender_access                                                            EX\n",
       "outlook_sender_name                                              Don Giesen\n",
       "outlook_recipient_name                                             Dan Baca\n",
       "sentto_address                                Anthony Tarsia; Peter Smialek\n",
       "cc_address                                                         Dan Baca\n",
       "subject                                        FW: Carey Limo and MobileSys\n",
       "processed_subject                                  Carey Limo and MobileSys\n",
       "sent_date                                              2001-05-02T23:27:12Z\n",
       "arrival_date                                           2001-05-02T23:27:01Z\n",
       "body_file_path                                   text/055/055-007634-EM.txt\n",
       "body_content              From: \"Don Giesen\" <don.giesen@avocadoit.com>\\...\n",
       "in_reply_to                                                            None\n",
       "Keywords                                                               None\n",
       "extracted_text            Guys:\\r\\n\\r\\nIf Carey is comfortable with our ...\n",
       "preceding_conversation                                                 None\n",
       "label_1                                                                test\n",
       "label_finegrain                       [request_opinion, request_commitment]\n",
       "label_coarse                                             [request, request]\n",
       "requires_action                                                        True\n",
       "number_intents                                                            2\n",
       "target_sentences          [How do they fell about us?, Can we diplomatic...\n",
       "Name: 469373, dtype: object"
      ]
     },
     "execution_count": 33,
     "metadata": {},
     "output_type": "execute_result"
    }
   ],
   "source": [
    "df_sample.iloc[entry]"
   ]
  },
  {
   "cell_type": "code",
   "execution_count": 10,
   "metadata": {},
   "outputs": [
    {
     "data": {
      "text/html": [
       "<div>\n",
       "<style scoped>\n",
       "    .dataframe tbody tr th:only-of-type {\n",
       "        vertical-align: middle;\n",
       "    }\n",
       "\n",
       "    .dataframe tbody tr th {\n",
       "        vertical-align: top;\n",
       "    }\n",
       "\n",
       "    .dataframe thead th {\n",
       "        text-align: right;\n",
       "    }\n",
       "</style>\n",
       "<table border=\"1\" class=\"dataframe\">\n",
       "  <thead>\n",
       "    <tr style=\"text-align: right;\">\n",
       "      <th></th>\n",
       "      <th>messageid</th>\n",
       "      <th>sender_access</th>\n",
       "      <th>outlook_sender_name</th>\n",
       "      <th>outlook_recipient_name</th>\n",
       "      <th>sentto_address</th>\n",
       "      <th>cc_address</th>\n",
       "      <th>subject</th>\n",
       "      <th>processed_subject</th>\n",
       "      <th>sent_date</th>\n",
       "      <th>arrival_date</th>\n",
       "      <th>body_file_path</th>\n",
       "      <th>body_content</th>\n",
       "      <th>in_reply_to</th>\n",
       "      <th>Keywords</th>\n",
       "      <th>extracted_text</th>\n",
       "      <th>preceding_conversation</th>\n",
       "      <th>label_1</th>\n",
       "      <th>label_finegrain</th>\n",
       "      <th>label_coarse</th>\n",
       "      <th>requires_action</th>\n",
       "    </tr>\n",
       "  </thead>\n",
       "  <tbody>\n",
       "    <tr>\n",
       "      <th>469373</th>\n",
       "      <td>&lt;FC38A9406AA4D411AB62009027DE9DA5013DC38C@HQEX...</td>\n",
       "      <td>EX</td>\n",
       "      <td>Don Giesen</td>\n",
       "      <td>Dan Baca</td>\n",
       "      <td>Anthony Tarsia; Peter Smialek</td>\n",
       "      <td>Dan Baca</td>\n",
       "      <td>FW: Carey Limo and MobileSys</td>\n",
       "      <td>Carey Limo and MobileSys</td>\n",
       "      <td>2001-05-02T23:27:12Z</td>\n",
       "      <td>2001-05-02T23:27:01Z</td>\n",
       "      <td>text/055/055-007634-EM.txt</td>\n",
       "      <td>From: \"Don Giesen\" &lt;don.giesen@avocadoit.com&gt;\\...</td>\n",
       "      <td>None</td>\n",
       "      <td>None</td>\n",
       "      <td>Guys:\\r\\n\\r\\nIf Carey is comfortable with our ...</td>\n",
       "      <td>None</td>\n",
       "      <td>test</td>\n",
       "      <td>ask_for_commitment</td>\n",
       "      <td>asking</td>\n",
       "      <td>True</td>\n",
       "    </tr>\n",
       "    <tr>\n",
       "      <th>622663</th>\n",
       "      <td>&lt;BD17BD4D5123D31186BF00105A9C9FBC14423E@donald&gt;</td>\n",
       "      <td>EX</td>\n",
       "      <td>Marcia Kadanoff</td>\n",
       "      <td>None</td>\n",
       "      <td>Marcos Sanchez</td>\n",
       "      <td>None</td>\n",
       "      <td>Richard's schedule - FYI</td>\n",
       "      <td>Richard's schedule - FYI</td>\n",
       "      <td>1999-10-11T16:20:23Z</td>\n",
       "      <td>1999-10-11T16:20:23Z</td>\n",
       "      <td>text/279/279-000841-EM.txt</td>\n",
       "      <td>From: \"Marcia Kadanoff\" &lt;marciak@avocadoit.com...</td>\n",
       "      <td>None</td>\n",
       "      <td>None</td>\n",
       "      <td>My current schedule is this: I go \"official\", ...</td>\n",
       "      <td>None</td>\n",
       "      <td>NaN</td>\n",
       "      <td>NaN</td>\n",
       "      <td>NaN</td>\n",
       "      <td>NaN</td>\n",
       "    </tr>\n",
       "    <tr>\n",
       "      <th>275534</th>\n",
       "      <td>&lt;-1535613024.999603664513.JavaMail.sreddy@sreddy&gt;</td>\n",
       "      <td>SMTP</td>\n",
       "      <td>MonitorEtrade@avocadoit.com</td>\n",
       "      <td>DA</td>\n",
       "      <td>MonitorEtrade@avocadoit.com</td>\n",
       "      <td>None</td>\n",
       "      <td>App Failure: appid=testetraderim EPXML=logoff....</td>\n",
       "      <td>App Failure: appid=testetraderim EPXML=logoff....</td>\n",
       "      <td>2001-09-04T11:41:04Z</td>\n",
       "      <td>2001-09-04T11:36:20Z</td>\n",
       "      <td>text/062/062-029190-EM.txt</td>\n",
       "      <td>Received: from sreddy (10.7.10.74 [10.7.10.74]...</td>\n",
       "      <td>None</td>\n",
       "      <td>None</td>\n",
       "      <td>Script: session_3000020\\r\\nAppid: testetraderi...</td>\n",
       "      <td>None</td>\n",
       "      <td>NaN</td>\n",
       "      <td>NaN</td>\n",
       "      <td>NaN</td>\n",
       "      <td>NaN</td>\n",
       "    </tr>\n",
       "    <tr>\n",
       "      <th>892295</th>\n",
       "      <td>&lt;FC38A9406AA4D411AB62009027DE9DA5CB2697@ntmach...</td>\n",
       "      <td>EX</td>\n",
       "      <td>Rajeev Mohindra</td>\n",
       "      <td>Om Sonie</td>\n",
       "      <td>Howard Mora; Ravi Pachipala; Nihar Mehta; Srik...</td>\n",
       "      <td>None</td>\n",
       "      <td>Branching diagram for codeline.</td>\n",
       "      <td>code names for releases</td>\n",
       "      <td>2001-06-06T02:19:06Z</td>\n",
       "      <td>2001-06-06T02:18:51Z</td>\n",
       "      <td>text/178/178-004362-EM.txt</td>\n",
       "      <td>From: \"Rajeev Mohindra\" &lt;rajeev@avocadoit.com&gt;...</td>\n",
       "      <td>&lt;FC38A9406AA4D411AB62009027DE9DA501162802@ntma...</td>\n",
       "      <td>None</td>\n",
       "      <td>Om,\\r\\n\\r\\nWe need to create a branch for 3.3....</td>\n",
       "      <td>None</td>\n",
       "      <td>NaN</td>\n",
       "      <td>NaN</td>\n",
       "      <td>NaN</td>\n",
       "      <td>NaN</td>\n",
       "    </tr>\n",
       "    <tr>\n",
       "      <th>231442</th>\n",
       "      <td>&lt;FC38A9406AA4D411AB62009027DE9DA5B86803@ntmach...</td>\n",
       "      <td>EX</td>\n",
       "      <td>Dondi Gaskill</td>\n",
       "      <td>Dondi Gaskill</td>\n",
       "      <td>EMDS</td>\n",
       "      <td>None</td>\n",
       "      <td>app tree minutes</td>\n",
       "      <td>app tree minutes</td>\n",
       "      <td>2001-08-17T21:15:12Z</td>\n",
       "      <td>2001-08-17T21:15:13Z</td>\n",
       "      <td>text/048/048-000293-EM.txt</td>\n",
       "      <td>From: \"Dondi Gaskill\" &lt;dondi.gaskill@avocadoit...</td>\n",
       "      <td>None</td>\n",
       "      <td>None</td>\n",
       "      <td>The user may rename the root of a screenset or...</td>\n",
       "      <td>None</td>\n",
       "      <td>NaN</td>\n",
       "      <td>NaN</td>\n",
       "      <td>NaN</td>\n",
       "      <td>NaN</td>\n",
       "    </tr>\n",
       "  </tbody>\n",
       "</table>\n",
       "</div>"
      ],
      "text/plain": [
       "                                                messageid sender_access  \\\n",
       "469373  <FC38A9406AA4D411AB62009027DE9DA5013DC38C@HQEX...            EX   \n",
       "622663    <BD17BD4D5123D31186BF00105A9C9FBC14423E@donald>            EX   \n",
       "275534  <-1535613024.999603664513.JavaMail.sreddy@sreddy>          SMTP   \n",
       "892295  <FC38A9406AA4D411AB62009027DE9DA5CB2697@ntmach...            EX   \n",
       "231442  <FC38A9406AA4D411AB62009027DE9DA5B86803@ntmach...            EX   \n",
       "\n",
       "                outlook_sender_name outlook_recipient_name  \\\n",
       "469373                   Don Giesen               Dan Baca   \n",
       "622663              Marcia Kadanoff                   None   \n",
       "275534  MonitorEtrade@avocadoit.com                     DA   \n",
       "892295              Rajeev Mohindra               Om Sonie   \n",
       "231442                Dondi Gaskill          Dondi Gaskill   \n",
       "\n",
       "                                           sentto_address cc_address  \\\n",
       "469373                      Anthony Tarsia; Peter Smialek   Dan Baca   \n",
       "622663                                     Marcos Sanchez       None   \n",
       "275534                        MonitorEtrade@avocadoit.com       None   \n",
       "892295  Howard Mora; Ravi Pachipala; Nihar Mehta; Srik...       None   \n",
       "231442                                               EMDS       None   \n",
       "\n",
       "                                                  subject  \\\n",
       "469373                       FW: Carey Limo and MobileSys   \n",
       "622663                           Richard's schedule - FYI   \n",
       "275534  App Failure: appid=testetraderim EPXML=logoff....   \n",
       "892295                    Branching diagram for codeline.   \n",
       "231442                                   app tree minutes   \n",
       "\n",
       "                                        processed_subject  \\\n",
       "469373                           Carey Limo and MobileSys   \n",
       "622663                           Richard's schedule - FYI   \n",
       "275534  App Failure: appid=testetraderim EPXML=logoff....   \n",
       "892295                            code names for releases   \n",
       "231442                                   app tree minutes   \n",
       "\n",
       "                   sent_date          arrival_date  \\\n",
       "469373  2001-05-02T23:27:12Z  2001-05-02T23:27:01Z   \n",
       "622663  1999-10-11T16:20:23Z  1999-10-11T16:20:23Z   \n",
       "275534  2001-09-04T11:41:04Z  2001-09-04T11:36:20Z   \n",
       "892295  2001-06-06T02:19:06Z  2001-06-06T02:18:51Z   \n",
       "231442  2001-08-17T21:15:12Z  2001-08-17T21:15:13Z   \n",
       "\n",
       "                    body_file_path  \\\n",
       "469373  text/055/055-007634-EM.txt   \n",
       "622663  text/279/279-000841-EM.txt   \n",
       "275534  text/062/062-029190-EM.txt   \n",
       "892295  text/178/178-004362-EM.txt   \n",
       "231442  text/048/048-000293-EM.txt   \n",
       "\n",
       "                                             body_content  \\\n",
       "469373  From: \"Don Giesen\" <don.giesen@avocadoit.com>\\...   \n",
       "622663  From: \"Marcia Kadanoff\" <marciak@avocadoit.com...   \n",
       "275534  Received: from sreddy (10.7.10.74 [10.7.10.74]...   \n",
       "892295  From: \"Rajeev Mohindra\" <rajeev@avocadoit.com>...   \n",
       "231442  From: \"Dondi Gaskill\" <dondi.gaskill@avocadoit...   \n",
       "\n",
       "                                              in_reply_to Keywords  \\\n",
       "469373                                               None     None   \n",
       "622663                                               None     None   \n",
       "275534                                               None     None   \n",
       "892295  <FC38A9406AA4D411AB62009027DE9DA501162802@ntma...     None   \n",
       "231442                                               None     None   \n",
       "\n",
       "                                           extracted_text  \\\n",
       "469373  Guys:\\r\\n\\r\\nIf Carey is comfortable with our ...   \n",
       "622663  My current schedule is this: I go \"official\", ...   \n",
       "275534  Script: session_3000020\\r\\nAppid: testetraderi...   \n",
       "892295  Om,\\r\\n\\r\\nWe need to create a branch for 3.3....   \n",
       "231442  The user may rename the root of a screenset or...   \n",
       "\n",
       "       preceding_conversation label_1     label_finegrain label_coarse  \\\n",
       "469373                   None    test  ask_for_commitment       asking   \n",
       "622663                   None     NaN                 NaN          NaN   \n",
       "275534                   None     NaN                 NaN          NaN   \n",
       "892295                   None     NaN                 NaN          NaN   \n",
       "231442                   None     NaN                 NaN          NaN   \n",
       "\n",
       "       requires_action  \n",
       "469373            True  \n",
       "622663             NaN  \n",
       "275534             NaN  \n",
       "892295             NaN  \n",
       "231442             NaN  "
      ]
     },
     "execution_count": 10,
     "metadata": {},
     "output_type": "execute_result"
    }
   ],
   "source": [
    "df_sample.head()"
   ]
  },
  {
   "cell_type": "markdown",
   "metadata": {},
   "source": [
    "# Automatic Labeling"
   ]
  },
  {
   "cell_type": "markdown",
   "metadata": {},
   "source": []
  }
 ],
 "metadata": {
  "kernelspec": {
   "display_name": "ma_exp_intent",
   "language": "python",
   "name": "python3"
  },
  "language_info": {
   "codemirror_mode": {
    "name": "ipython",
    "version": 3
   },
   "file_extension": ".py",
   "mimetype": "text/x-python",
   "name": "python",
   "nbconvert_exporter": "python",
   "pygments_lexer": "ipython3",
   "version": "3.12.4"
  }
 },
 "nbformat": 4,
 "nbformat_minor": 2
}
