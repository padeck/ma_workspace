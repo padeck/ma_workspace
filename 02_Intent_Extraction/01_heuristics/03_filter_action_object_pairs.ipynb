{
 "cells": [
  {
   "cell_type": "markdown",
   "metadata": {},
   "source": [
    "## Filter Action-Object Pairs"
   ]
  },
  {
   "cell_type": "code",
   "execution_count": 2,
   "metadata": {},
   "outputs": [],
   "source": [
    "import pandas as pd\n",
    "from collections import Counter\n",
    "import spacy\n",
    "from spacy.matcher import Matcher\n",
    "from tqdm import tqdm\n",
    "from IPython.display import display, HTML\n",
    "tqdm.pandas()\n",
    "\n",
    "\n",
    "# Load the English model\n",
    "nlp = spacy.load(\"en_core_web_lg\")"
   ]
  },
  {
   "cell_type": "markdown",
   "metadata": {},
   "source": [
    "#### Functions"
   ]
  },
  {
   "cell_type": "code",
   "execution_count": null,
   "metadata": {},
   "outputs": [],
   "source": [
    "# Function to replace PERSON and GPE entities\n",
    "def replace_entities(text):\n",
    "    doc = nlp(text)\n",
    "    modified_text = []\n",
    "    for token in doc:\n",
    "        if (token.ent_type_ == \"PERSON\") or (token.ent_type_ == \"GPE\"):\n",
    "            modified_text.append(\"[ENTITY]\")\n",
    "        else:\n",
    "            modified_text.append(token.text)\n",
    "    return \" \".join(modified_text)"
   ]
  },
  {
   "cell_type": "markdown",
   "metadata": {},
   "source": [
    "####"
   ]
  },
  {
   "cell_type": "code",
   "execution_count": 2,
   "metadata": {},
   "outputs": [],
   "source": [
    "df = pd.read_parquet('../../data/processed/targets/avocado_train_targets_exploded.parquet', engine='fastparquet')\n",
    "df = df.rename(columns={'targets': 'target'})"
   ]
  },
  {
   "cell_type": "code",
   "execution_count": null,
   "metadata": {},
   "outputs": [],
   "source": [
    "df.shape"
   ]
  },
  {
   "cell_type": "code",
   "execution_count": 4,
   "metadata": {},
   "outputs": [],
   "source": [
    "# Remove empty entries\n",
    "df_filtered = df[~df['action_object_pairs'].apply(lambda x: x is None or (isinstance(x, list) and len(x) == 0))]"
   ]
  },
  {
   "cell_type": "code",
   "execution_count": null,
   "metadata": {},
   "outputs": [],
   "source": [
    "df_filtered.shape"
   ]
  },
  {
   "cell_type": "markdown",
   "metadata": {},
   "source": [
    "### Inspect Action-Object-Pairs results"
   ]
  },
  {
   "cell_type": "markdown",
   "metadata": {},
   "source": [
    "#### Functions"
   ]
  },
  {
   "cell_type": "code",
   "execution_count": 6,
   "metadata": {},
   "outputs": [],
   "source": [
    "def get_distinct_words_df(df):\n",
    "    all_words = [word for sublist in df['action_object_pairs'] for word in sublist]\n",
    "\n",
    "    # Use Counter to count occurrences of each word\n",
    "    word_counts = Counter(all_words)\n",
    "\n",
    "    # Convert to DataFrame (optional, if you want to keep it in tabular form)\n",
    "    distinct_words_df = pd.DataFrame(word_counts.items(), columns=['action_object_pairs', 'count'])\n",
    "    distinct_words_df = distinct_words_df.sort_values(by='count', ascending=False)\n",
    "    #display(HTML(distinct_words_df.head(n).to_html()))\n",
    "    return distinct_words_df\n",
    "\n",
    "# Define a function to inspect entries for a given action-object pair\n",
    "def inspect_action_object_pair(pair_to_inspect, entry, print_extracted_text=True, print_target=True):\n",
    "    test = df_filtered[df_filtered['action_object_pairs'].apply(lambda x: pair_to_inspect in x)]\n",
    "    if print_extracted_text:\n",
    "        print(test.iloc[entry]['extracted_text'])\n",
    "    if print_target:\n",
    "        if print_extracted_text:\n",
    "            print('----------------------')\n",
    "    print(test.iloc[entry]['target'])\n",
    "    del test"
   ]
  },
  {
   "cell_type": "markdown",
   "metadata": {},
   "source": [
    "####"
   ]
  },
  {
   "cell_type": "code",
   "execution_count": 14,
   "metadata": {},
   "outputs": [
    {
     "data": {
      "text/html": [
       "<div>\n",
       "<style scoped>\n",
       "    .dataframe tbody tr th:only-of-type {\n",
       "        vertical-align: middle;\n",
       "    }\n",
       "\n",
       "    .dataframe tbody tr th {\n",
       "        vertical-align: top;\n",
       "    }\n",
       "\n",
       "    .dataframe thead th {\n",
       "        text-align: right;\n",
       "    }\n",
       "</style>\n",
       "<table border=\"1\" class=\"dataframe\">\n",
       "  <thead>\n",
       "    <tr style=\"text-align: right;\">\n",
       "      <th></th>\n",
       "      <th>action_object_pairs</th>\n",
       "      <th>count</th>\n",
       "    </tr>\n",
       "  </thead>\n",
       "  <tbody>\n",
       "    <tr>\n",
       "      <th>172</th>\n",
       "      <td>have_questions</td>\n",
       "      <td>11024</td>\n",
       "    </tr>\n",
       "    <tr>\n",
       "      <th>296</th>\n",
       "      <td>send_email</td>\n",
       "      <td>8182</td>\n",
       "    </tr>\n",
       "    <tr>\n",
       "      <th>60</th>\n",
       "      <td>send_it</td>\n",
       "      <td>6188</td>\n",
       "    </tr>\n",
       "    <tr>\n",
       "      <th>389</th>\n",
       "      <td>call_me</td>\n",
       "      <td>6177</td>\n",
       "    </tr>\n",
       "    <tr>\n",
       "      <th>61</th>\n",
       "      <td>send_message</td>\n",
       "      <td>4856</td>\n",
       "    </tr>\n",
       "    <tr>\n",
       "      <th>99</th>\n",
       "      <td>thank_you</td>\n",
       "      <td>4433</td>\n",
       "    </tr>\n",
       "    <tr>\n",
       "      <th>229</th>\n",
       "      <td>contact_me</td>\n",
       "      <td>3994</td>\n",
       "    </tr>\n",
       "    <tr>\n",
       "      <th>404</th>\n",
       "      <td>do_what</td>\n",
       "      <td>3567</td>\n",
       "    </tr>\n",
       "    <tr>\n",
       "      <th>668</th>\n",
       "      <td>send_mail</td>\n",
       "      <td>3490</td>\n",
       "    </tr>\n",
       "    <tr>\n",
       "      <th>148</th>\n",
       "      <td>do_it</td>\n",
       "      <td>2806</td>\n",
       "    </tr>\n",
       "    <tr>\n",
       "      <th>936</th>\n",
       "      <td>give_call</td>\n",
       "      <td>2642</td>\n",
       "    </tr>\n",
       "    <tr>\n",
       "      <th>853</th>\n",
       "      <td>need_help</td>\n",
       "      <td>2540</td>\n",
       "    </tr>\n",
       "    <tr>\n",
       "      <th>63</th>\n",
       "      <td>join_us</td>\n",
       "      <td>2443</td>\n",
       "    </tr>\n",
       "    <tr>\n",
       "      <th>8</th>\n",
       "      <td>do_this</td>\n",
       "      <td>2402</td>\n",
       "    </tr>\n",
       "    <tr>\n",
       "      <th>527</th>\n",
       "      <td>call_you</td>\n",
       "      <td>2392</td>\n",
       "    </tr>\n",
       "    <tr>\n",
       "      <th>90</th>\n",
       "      <td>have_meeting</td>\n",
       "      <td>2311</td>\n",
       "    </tr>\n",
       "    <tr>\n",
       "      <th>37</th>\n",
       "      <td>take_look</td>\n",
       "      <td>2144</td>\n",
       "    </tr>\n",
       "    <tr>\n",
       "      <th>1893</th>\n",
       "      <td>send_e</td>\n",
       "      <td>2031</td>\n",
       "    </tr>\n",
       "    <tr>\n",
       "      <th>478</th>\n",
       "      <td>tell_me</td>\n",
       "      <td>2027</td>\n",
       "    </tr>\n",
       "    <tr>\n",
       "      <th>791</th>\n",
       "      <td>provide_information</td>\n",
       "      <td>2006</td>\n",
       "    </tr>\n",
       "  </tbody>\n",
       "</table>\n",
       "</div>"
      ],
      "text/plain": [
       "      action_object_pairs  count\n",
       "172        have_questions  11024\n",
       "296            send_email   8182\n",
       "60                send_it   6188\n",
       "389               call_me   6177\n",
       "61           send_message   4856\n",
       "99              thank_you   4433\n",
       "229            contact_me   3994\n",
       "404               do_what   3567\n",
       "668             send_mail   3490\n",
       "148                 do_it   2806\n",
       "936             give_call   2642\n",
       "853             need_help   2540\n",
       "63                join_us   2443\n",
       "8                 do_this   2402\n",
       "527              call_you   2392\n",
       "90           have_meeting   2311\n",
       "37              take_look   2144\n",
       "1893               send_e   2031\n",
       "478               tell_me   2027\n",
       "791   provide_information   2006"
      ]
     },
     "execution_count": 14,
     "metadata": {},
     "output_type": "execute_result"
    }
   ],
   "source": [
    "get_distinct_words_df(df_filtered).head(20)"
   ]
  },
  {
   "cell_type": "markdown",
   "metadata": {},
   "source": [
    "### Inspect Messages\n"
   ]
  },
  {
   "cell_type": "markdown",
   "metadata": {},
   "source": [
    "| Action-Object-Pair    | Count |\n",
    "|-------------|-------------|\n",
    " start_Server |\t12831\n",
    "send_it |\t12052\n",
    "have_questions |\t11024\n",
    "send_message |\t10704\n",
    "send_email |\t8186\n",
    "fail_Message |\t8065\n",
    "start_Failures |\t6983\n",
    "start_Occurrences |\t6428\n",
    "call_me\t| 6177\n",
    "thank_you | 4472\n",
    "contact_me | 3995\n",
    "post_message | 3790\n",
    "miss_UNIVERSE | 3742\n",
    "do_what | 3584\n",
    "send_mail | 3490\n",
    "start_occurrence | 3152\n",
    "do_it | 2816\n",
    "give_call | 2642\n",
    "need_help | 2541\n",
    "unsubscribe_mailto | 2468"
   ]
  },
  {
   "cell_type": "code",
   "execution_count": 16,
   "metadata": {},
   "outputs": [
    {
     "name": "stdout",
     "output_type": "stream",
     "text": [
      "I might have sent the e - mail to the wrong person because you mentioned before that we should have a meeting with [PERSON]\n"
     ]
    }
   ],
   "source": [
    "inspect_action_object_pair('send_e', 1,print_extracted_text=False)"
   ]
  },
  {
   "cell_type": "markdown",
   "metadata": {},
   "source": [
    "## Entry Removal"
   ]
  },
  {
   "cell_type": "markdown",
   "metadata": {},
   "source": [
    "After inspecting the most-frequently occurring action-object-pairs, the following ones will not be considered further:\n",
    "\n",
    "| Action-Object-Pair    | Reason |\n",
    "|-------------|-------------|\n",
    "|fail_Message|belongs to error message and thus does not contain a humanly intent|\n",
    "|start_Failures|belongs to error message and thus does not contain a humanly intent|\n",
    "|start_Occurrences|belongs to error message and thus does not contain a humanly intent|\n",
    "|post_message|belongs to an automated message|\n",
    "|unsubscribe_mailto|belongs to an automated message|\n",
    "|miss_UNIVERSE|belongs to an automated message|\n",
    "|start_occurrence|belongs to an automated message|\n",
    "\n",
    "also the extremeprogramming unsubscribe message is being filtered from the original dataframe, as well as java messages"
   ]
  },
  {
   "cell_type": "code",
   "execution_count": 39,
   "metadata": {},
   "outputs": [],
   "source": [
    "entries_to_remove = [\n",
    "    'fail_Message',\n",
    "    'start_Failures',\n",
    "    'start_Occurrences',\n",
    "    'post_message',\n",
    "    'unsubscribe_mailto',\n",
    "    'miss_UNIVERSE',\n",
    "    'start_occurrence',\n",
    "    'set_sender'\n",
    "]\n",
    "\n",
    "# Remove these entries\n",
    "df_filtered = df_filtered[~df_filtered['action_object_pairs'].apply(lambda x: any(item in entries_to_remove for item in x))]"
   ]
  },
  {
   "cell_type": "code",
   "execution_count": null,
   "metadata": {},
   "outputs": [],
   "source": [
    "df_filtered.shape"
   ]
  },
  {
   "cell_type": "code",
   "execution_count": 41,
   "metadata": {},
   "outputs": [],
   "source": [
    "test_string = \"Unexpected flow reached by the server\"\n",
    "\n",
    "df_filtered = df_filtered[~df_filtered['extracted_text'].apply(lambda x: test_string in str(x))]\n"
   ]
  },
  {
   "cell_type": "code",
   "execution_count": null,
   "metadata": {},
   "outputs": [],
   "source": [
    "df_filtered.shape"
   ]
  },
  {
   "cell_type": "code",
   "execution_count": 13,
   "metadata": {},
   "outputs": [],
   "source": [
    "# Save the cleaned model\n",
    "\n",
    "#df_filtered.to_parquet('../../data/processed/targets/avocado_train_targets_exploded_cleaned.parquet')"
   ]
  },
  {
   "cell_type": "code",
   "execution_count": 17,
   "metadata": {},
   "outputs": [
    {
     "name": "stderr",
     "output_type": "stream",
     "text": [
      "Exception ignored in: <bound method IPythonKernel._clean_thread_parent_frames of <ipykernel.ipkernel.IPythonKernel object at 0x1048d1df0>>\n",
      "Traceback (most recent call last):\n",
      "  File \"/opt/homebrew/Caskroom/miniforge/base/envs/ma_exp_intent/lib/python3.12/site-packages/ipykernel/ipkernel.py\", line 775, in _clean_thread_parent_frames\n",
      "    def _clean_thread_parent_frames(\n",
      "\n",
      "KeyboardInterrupt: \n"
     ]
    },
    {
     "ename": "",
     "evalue": "",
     "output_type": "error",
     "traceback": [
      "\u001b[1;31mCannot execute code, session has been disposed. Please try restarting the Kernel."
     ]
    },
    {
     "ename": "",
     "evalue": "",
     "output_type": "error",
     "traceback": [
      "\u001b[1;31mCannot execute code, session has been disposed. Please try restarting the Kernel. \n",
      "\u001b[1;31mView Jupyter <a href='command:jupyter.viewOutput'>log</a> for further details."
     ]
    }
   ],
   "source": [
    "df_filtered = pd.read_parquet('../../data/processed/targets/avocado_train_targets_exploded_cleaned.parquet', engine='fastparquet')"
   ]
  },
  {
   "cell_type": "code",
   "execution_count": 4,
   "metadata": {},
   "outputs": [
    {
     "name": "stderr",
     "output_type": "stream",
     "text": [
      "100%|██████████| 686570/686570 [1:25:37<00:00, 133.64it/s]  \n"
     ]
    }
   ],
   "source": [
    "# Apply the function to the 'target' column\n",
    "df_filtered['target'] = df_filtered['target'].progress_apply(replace_entities)"
   ]
  },
  {
   "cell_type": "code",
   "execution_count": 7,
   "metadata": {},
   "outputs": [],
   "source": [
    "df_filtered.to_parquet('../../data/processed/targets/avocado_train_targets_exploded_cleaned_entities.parquet')"
   ]
  },
  {
   "cell_type": "markdown",
   "metadata": {},
   "source": [
    "## Group Action-Object-Pairs"
   ]
  },
  {
   "cell_type": "markdown",
   "metadata": {},
   "source": [
    "#### Functions"
   ]
  },
  {
   "cell_type": "code",
   "execution_count": 3,
   "metadata": {},
   "outputs": [],
   "source": [
    "def is_aggregated(entry):\n",
    "    \"\"\"\n",
    "    Check if the entry is an aggregated row (i.e., a list of keywords).\n",
    "    \n",
    "    Parameters:\n",
    "    - entry: The action-object pair to check.\n",
    "    \n",
    "    Returns:\n",
    "    - True if the entry is aggregated, otherwise False.\n",
    "    \"\"\"\n",
    "    return isinstance(entry, str) and ', ' in entry\n",
    "\n",
    "\n",
    "\n",
    "def aggregate_by_keywords(df, keywords):\n",
    "    \"\"\"\n",
    "    Aggregate action-object pairs based on a coherent list of keywords,\n",
    "    excluding already aggregated entries from being re-aggregated.\n",
    "    \n",
    "    Parameters:\n",
    "    - df: The DataFrame to aggregate.\n",
    "    - keywords: A list of strings representing a coherent group of keywords.\n",
    "    \n",
    "    Returns:\n",
    "    - A DataFrame with the newly aggregated action-object pairs.\n",
    "    \"\"\"\n",
    "    # Create a single pattern to match any of the keywords\n",
    "    pattern = '|'.join(keywords)\n",
    "    \n",
    "    # Filter entries that match the keywords but are not already aggregated\n",
    "    matching_entries = df[\n",
    "        df['action_object_pairs'].str.contains(pattern, case=False, na=False) &\n",
    "        ~df['action_object_pairs'].apply(is_aggregated)\n",
    "    ]\n",
    "    \n",
    "    # Create a new DataFrame for aggregated results\n",
    "    aggregated_rows = []\n",
    "    \n",
    "    # Only create a new entry for the matched pairs if there are any\n",
    "    if not matching_entries.empty:\n",
    "        aggregated_row = {\n",
    "            'action_object_pairs': ', '.join(matching_entries['action_object_pairs'].tolist()),\n",
    "            'count': matching_entries['count'].sum()\n",
    "        }\n",
    "        aggregated_rows.append(aggregated_row)\n",
    "\n",
    "        # Remove the matching entries from the original DataFrame\n",
    "        df = df.drop(matching_entries.index)\n",
    "\n",
    "    # Convert aggregated rows to DataFrame if any\n",
    "    aggregated_df = pd.DataFrame(aggregated_rows)\n",
    "\n",
    "    # Concatenate remaining entries with the aggregated DataFrame\n",
    "    final_df = pd.concat([df, aggregated_df], ignore_index=True)\n",
    "\n",
    "    return final_df.sort_values(by='count', ascending=False).reset_index(drop=True)\n",
    "\n",
    "def remove_entries_containing(aggregated_df, original_df, substring):\n",
    "    original_df = get_distinct_words_df(original_df)\n",
    "    # Step 1: Identify the aggregated row index\n",
    "    aggregated_row_index = aggregated_df[aggregated_df['action_object_pairs'].str.contains(',', case=False)].index\n",
    "    if not aggregated_row_index.empty:\n",
    "        aggregated_row_index = aggregated_row_index[0]\n",
    "        \n",
    "        # Step 2: Get the current list and split into individual entries\n",
    "        current_list = aggregated_df.at[aggregated_row_index, 'action_object_pairs'].split(', ')\n",
    "        \n",
    "        # Step 3: Identify entries to remove\n",
    "        entries_to_remove = [entry for entry in current_list if substring in entry]\n",
    "        \n",
    "        # Step 4: Create new rows for each removed entry using original counts\n",
    "        new_rows = []\n",
    "        for entry in entries_to_remove:\n",
    "            # Get the count of the removed entry from the original DataFrame\n",
    "            count_of_entry = original_df.loc[original_df['action_object_pairs'] == entry, 'count']\n",
    "            if not count_of_entry.empty:\n",
    "                new_rows.append({'action_object_pairs': entry, 'count': count_of_entry.values[0]})\n",
    "            else:\n",
    "                print(f\"Warning: Could not find count for entry '{entry}'\")\n",
    "\n",
    "        # Step 5: Remove the entries from the current list\n",
    "        updated_list = [entry for entry in current_list if entry not in entries_to_remove]\n",
    "\n",
    "        # Step 6: Update the aggregated row\n",
    "        if new_rows:\n",
    "            aggregated_df.at[aggregated_row_index, 'action_object_pairs'] = ', '.join(updated_list)\n",
    "            updated_count = aggregated_df.at[aggregated_row_index, 'count'] - sum(row['count'] for row in new_rows)\n",
    "            aggregated_df.at[aggregated_row_index, 'count'] = updated_count\n",
    "\n",
    "            # Step 7: Convert new_rows to DataFrame\n",
    "            new_rows_df = pd.DataFrame(new_rows)\n",
    "\n",
    "            # Step 8: Concatenate new rows for removed entries to the aggregated DataFrame\n",
    "            aggregated_df = pd.concat([aggregated_df, new_rows_df], ignore_index=True)\n",
    "\n",
    "            # Step 9: Sort the DataFrame by count in descending order\n",
    "            aggregated_df = aggregated_df.sort_values(by='count', ascending=False).reset_index(drop=True)\n",
    "    \n",
    "    return aggregated_df\n",
    "\n",
    "\n",
    "def aggregate_specific_indices(df, index_pairs):\n",
    "    \"\"\"\n",
    "    Aggregate entries in the DataFrame based on specific index pairs.\n",
    "\n",
    "    Parameters:\n",
    "    - df: The DataFrame to aggregate.\n",
    "    - index_pairs: A list of tuples, where each tuple contains indices of rows to aggregate.\n",
    "\n",
    "    Returns:\n",
    "    - A DataFrame with aggregated action-object pairs and their counts.\n",
    "    \"\"\"\n",
    "    # Create a list to hold new aggregated rows\n",
    "    aggregated_rows = []\n",
    "\n",
    "    # Track which indices have been aggregated to avoid duplicates\n",
    "    aggregated_indices = set()\n",
    "\n",
    "    for indices in index_pairs:\n",
    "        # Check if all indices are valid and not already aggregated\n",
    "        if all(idx < len(df) for idx in indices) and not any(idx in aggregated_indices for idx in indices):\n",
    "            # Select the rows to aggregate\n",
    "            group = df.iloc[list(indices)]\n",
    "            # Aggregate the action_object_pairs and the counts\n",
    "            aggregated_row = {\n",
    "                'action_object_pairs': ', '.join(group['action_object_pairs']),\n",
    "                'count': group['count'].sum()\n",
    "            }\n",
    "            aggregated_rows.append(aggregated_row)\n",
    "            # Mark these indices as aggregated\n",
    "            aggregated_indices.update(indices)\n",
    "\n",
    "    # Create a new DataFrame from aggregated rows\n",
    "    aggregated_df = pd.DataFrame(aggregated_rows)\n",
    "\n",
    "    # Add remaining unaggregated rows to the aggregated DataFrame\n",
    "    unaggregated_rows = df[~df.index.isin(aggregated_indices)]\n",
    "    aggregated_df = pd.concat([aggregated_df, unaggregated_rows], ignore_index=True)\n",
    "\n",
    "    return aggregated_df.sort_values(by='count', ascending=False).reset_index(drop=True)"
   ]
  },
  {
   "cell_type": "markdown",
   "metadata": {},
   "source": [
    "#### Implementation"
   ]
  },
  {
   "cell_type": "code",
   "execution_count": 4,
   "metadata": {},
   "outputs": [],
   "source": [
    "# Read filtered DF\n",
    "df_filtered = pd.read_parquet('../../data/processed/targets/avocado_train_targets_exploded_cleaned_entities.parquet', engine='fastparquet')"
   ]
  },
  {
   "cell_type": "code",
   "execution_count": 7,
   "metadata": {},
   "outputs": [
    {
     "data": {
      "text/html": [
       "<div>\n",
       "<style scoped>\n",
       "    .dataframe tbody tr th:only-of-type {\n",
       "        vertical-align: middle;\n",
       "    }\n",
       "\n",
       "    .dataframe tbody tr th {\n",
       "        vertical-align: top;\n",
       "    }\n",
       "\n",
       "    .dataframe thead th {\n",
       "        text-align: right;\n",
       "    }\n",
       "</style>\n",
       "<table border=\"1\" class=\"dataframe\">\n",
       "  <thead>\n",
       "    <tr style=\"text-align: right;\">\n",
       "      <th></th>\n",
       "      <th>action_object_pairs</th>\n",
       "      <th>count</th>\n",
       "    </tr>\n",
       "  </thead>\n",
       "  <tbody>\n",
       "    <tr>\n",
       "      <th>172</th>\n",
       "      <td>have_questions</td>\n",
       "      <td>11024</td>\n",
       "    </tr>\n",
       "    <tr>\n",
       "      <th>296</th>\n",
       "      <td>send_email</td>\n",
       "      <td>8182</td>\n",
       "    </tr>\n",
       "    <tr>\n",
       "      <th>60</th>\n",
       "      <td>send_it</td>\n",
       "      <td>6188</td>\n",
       "    </tr>\n",
       "    <tr>\n",
       "      <th>389</th>\n",
       "      <td>call_me</td>\n",
       "      <td>6177</td>\n",
       "    </tr>\n",
       "    <tr>\n",
       "      <th>61</th>\n",
       "      <td>send_message</td>\n",
       "      <td>4856</td>\n",
       "    </tr>\n",
       "    <tr>\n",
       "      <th>99</th>\n",
       "      <td>thank_you</td>\n",
       "      <td>4433</td>\n",
       "    </tr>\n",
       "    <tr>\n",
       "      <th>229</th>\n",
       "      <td>contact_me</td>\n",
       "      <td>3994</td>\n",
       "    </tr>\n",
       "    <tr>\n",
       "      <th>404</th>\n",
       "      <td>do_what</td>\n",
       "      <td>3567</td>\n",
       "    </tr>\n",
       "    <tr>\n",
       "      <th>668</th>\n",
       "      <td>send_mail</td>\n",
       "      <td>3490</td>\n",
       "    </tr>\n",
       "    <tr>\n",
       "      <th>148</th>\n",
       "      <td>do_it</td>\n",
       "      <td>2806</td>\n",
       "    </tr>\n",
       "    <tr>\n",
       "      <th>936</th>\n",
       "      <td>give_call</td>\n",
       "      <td>2642</td>\n",
       "    </tr>\n",
       "    <tr>\n",
       "      <th>853</th>\n",
       "      <td>need_help</td>\n",
       "      <td>2540</td>\n",
       "    </tr>\n",
       "    <tr>\n",
       "      <th>63</th>\n",
       "      <td>join_us</td>\n",
       "      <td>2443</td>\n",
       "    </tr>\n",
       "    <tr>\n",
       "      <th>8</th>\n",
       "      <td>do_this</td>\n",
       "      <td>2402</td>\n",
       "    </tr>\n",
       "    <tr>\n",
       "      <th>527</th>\n",
       "      <td>call_you</td>\n",
       "      <td>2392</td>\n",
       "    </tr>\n",
       "    <tr>\n",
       "      <th>90</th>\n",
       "      <td>have_meeting</td>\n",
       "      <td>2311</td>\n",
       "    </tr>\n",
       "    <tr>\n",
       "      <th>37</th>\n",
       "      <td>take_look</td>\n",
       "      <td>2144</td>\n",
       "    </tr>\n",
       "    <tr>\n",
       "      <th>1893</th>\n",
       "      <td>send_e</td>\n",
       "      <td>2031</td>\n",
       "    </tr>\n",
       "    <tr>\n",
       "      <th>478</th>\n",
       "      <td>tell_me</td>\n",
       "      <td>2027</td>\n",
       "    </tr>\n",
       "    <tr>\n",
       "      <th>791</th>\n",
       "      <td>provide_information</td>\n",
       "      <td>2006</td>\n",
       "    </tr>\n",
       "  </tbody>\n",
       "</table>\n",
       "</div>"
      ],
      "text/plain": [
       "      action_object_pairs  count\n",
       "172        have_questions  11024\n",
       "296            send_email   8182\n",
       "60                send_it   6188\n",
       "389               call_me   6177\n",
       "61           send_message   4856\n",
       "99              thank_you   4433\n",
       "229            contact_me   3994\n",
       "404               do_what   3567\n",
       "668             send_mail   3490\n",
       "148                 do_it   2806\n",
       "936             give_call   2642\n",
       "853             need_help   2540\n",
       "63                join_us   2443\n",
       "8                 do_this   2402\n",
       "527              call_you   2392\n",
       "90           have_meeting   2311\n",
       "37              take_look   2144\n",
       "1893               send_e   2031\n",
       "478               tell_me   2027\n",
       "791   provide_information   2006"
      ]
     },
     "execution_count": 7,
     "metadata": {},
     "output_type": "execute_result"
    }
   ],
   "source": [
    "df_grouped = get_distinct_words_df(df_filtered)\n",
    "df_grouped.head(20)"
   ]
  },
  {
   "cell_type": "code",
   "execution_count": 33,
   "metadata": {},
   "outputs": [],
   "source": [
    "df_grouped = aggregate_by_keywords(df_grouped, ['attend', ])\n"
   ]
  },
  {
   "cell_type": "code",
   "execution_count": 35,
   "metadata": {},
   "outputs": [
    {
     "data": {
      "text/html": [
       "<div>\n",
       "<style scoped>\n",
       "    .dataframe tbody tr th:only-of-type {\n",
       "        vertical-align: middle;\n",
       "    }\n",
       "\n",
       "    .dataframe tbody tr th {\n",
       "        vertical-align: top;\n",
       "    }\n",
       "\n",
       "    .dataframe thead th {\n",
       "        text-align: right;\n",
       "    }\n",
       "</style>\n",
       "<table border=\"1\" class=\"dataframe\">\n",
       "  <thead>\n",
       "    <tr style=\"text-align: right;\">\n",
       "      <th></th>\n",
       "      <th>action_object_pairs</th>\n",
       "      <th>count</th>\n",
       "    </tr>\n",
       "  </thead>\n",
       "  <tbody>\n",
       "    <tr>\n",
       "      <th>0</th>\n",
       "      <td>send_email, send_it, send_message, send_mail, ...</td>\n",
       "      <td>68255</td>\n",
       "    </tr>\n",
       "    <tr>\n",
       "      <th>1</th>\n",
       "      <td>call_me, give_call, call_you, have_call, set_c...</td>\n",
       "      <td>37338</td>\n",
       "    </tr>\n",
       "    <tr>\n",
       "      <th>2</th>\n",
       "      <td>have_questions, need_help, have_question, need...</td>\n",
       "      <td>29876</td>\n",
       "    </tr>\n",
       "    <tr>\n",
       "      <th>3</th>\n",
       "      <td>do_what, do_it, do_this, do_that, do_What, do_...</td>\n",
       "      <td>28753</td>\n",
       "    </tr>\n",
       "    <tr>\n",
       "      <th>4</th>\n",
       "      <td>have_meeting, set_meeting, schedule_meeting, a...</td>\n",
       "      <td>20347</td>\n",
       "    </tr>\n",
       "    <tr>\n",
       "      <th>...</th>\n",
       "      <td>...</td>\n",
       "      <td>...</td>\n",
       "    </tr>\n",
       "    <tr>\n",
       "      <th>196876</th>\n",
       "      <td>host_presentations</td>\n",
       "      <td>1</td>\n",
       "    </tr>\n",
       "    <tr>\n",
       "      <th>196877</th>\n",
       "      <td>drop_thread</td>\n",
       "      <td>1</td>\n",
       "    </tr>\n",
       "    <tr>\n",
       "      <th>196878</th>\n",
       "      <td>assess_overhaul</td>\n",
       "      <td>1</td>\n",
       "    </tr>\n",
       "    <tr>\n",
       "      <th>196879</th>\n",
       "      <td>make_margin</td>\n",
       "      <td>1</td>\n",
       "    </tr>\n",
       "    <tr>\n",
       "      <th>196880</th>\n",
       "      <td>break_message</td>\n",
       "      <td>1</td>\n",
       "    </tr>\n",
       "  </tbody>\n",
       "</table>\n",
       "<p>196881 rows × 2 columns</p>\n",
       "</div>"
      ],
      "text/plain": [
       "                                      action_object_pairs  count\n",
       "0       send_email, send_it, send_message, send_mail, ...  68255\n",
       "1       call_me, give_call, call_you, have_call, set_c...  37338\n",
       "2       have_questions, need_help, have_question, need...  29876\n",
       "3       do_what, do_it, do_this, do_that, do_What, do_...  28753\n",
       "4       have_meeting, set_meeting, schedule_meeting, a...  20347\n",
       "...                                                   ...    ...\n",
       "196876                                 host_presentations      1\n",
       "196877                                        drop_thread      1\n",
       "196878                                    assess_overhaul      1\n",
       "196879                                        make_margin      1\n",
       "196880                                      break_message      1\n",
       "\n",
       "[196881 rows x 2 columns]"
      ]
     },
     "execution_count": 35,
     "metadata": {},
     "output_type": "execute_result"
    }
   ],
   "source": [
    "df_grouped = aggregate_specific_indices(df_grouped, [(5,8)])\n",
    "df_grouped"
   ]
  },
  {
   "cell_type": "code",
   "execution_count": 199,
   "metadata": {},
   "outputs": [
    {
     "data": {
      "text/html": [
       "<div>\n",
       "<style scoped>\n",
       "    .dataframe tbody tr th:only-of-type {\n",
       "        vertical-align: middle;\n",
       "    }\n",
       "\n",
       "    .dataframe tbody tr th {\n",
       "        vertical-align: top;\n",
       "    }\n",
       "\n",
       "    .dataframe thead th {\n",
       "        text-align: right;\n",
       "    }\n",
       "</style>\n",
       "<table border=\"1\" class=\"dataframe\">\n",
       "  <thead>\n",
       "    <tr style=\"text-align: right;\">\n",
       "      <th></th>\n",
       "      <th>action_object_pairs</th>\n",
       "      <th>count</th>\n",
       "    </tr>\n",
       "  </thead>\n",
       "  <tbody>\n",
       "    <tr>\n",
       "      <th>0</th>\n",
       "      <td>send_it, send_message, send_mail, send_e, send...</td>\n",
       "      <td>59541</td>\n",
       "    </tr>\n",
       "    <tr>\n",
       "      <th>1</th>\n",
       "      <td>have_questions</td>\n",
       "      <td>11024</td>\n",
       "    </tr>\n",
       "    <tr>\n",
       "      <th>2</th>\n",
       "      <td>have_meeting, set_meeting, schedule_meeting, a...</td>\n",
       "      <td>10989</td>\n",
       "    </tr>\n",
       "    <tr>\n",
       "      <th>3</th>\n",
       "      <td>send_email</td>\n",
       "      <td>8182</td>\n",
       "    </tr>\n",
       "    <tr>\n",
       "      <th>4</th>\n",
       "      <td>call_me</td>\n",
       "      <td>6177</td>\n",
       "    </tr>\n",
       "    <tr>\n",
       "      <th>5</th>\n",
       "      <td>thank_you</td>\n",
       "      <td>4433</td>\n",
       "    </tr>\n",
       "    <tr>\n",
       "      <th>6</th>\n",
       "      <td>contact_me</td>\n",
       "      <td>3994</td>\n",
       "    </tr>\n",
       "    <tr>\n",
       "      <th>7</th>\n",
       "      <td>do_what</td>\n",
       "      <td>3567</td>\n",
       "    </tr>\n",
       "    <tr>\n",
       "      <th>8</th>\n",
       "      <td>do_it</td>\n",
       "      <td>2806</td>\n",
       "    </tr>\n",
       "    <tr>\n",
       "      <th>9</th>\n",
       "      <td>give_call</td>\n",
       "      <td>2642</td>\n",
       "    </tr>\n",
       "  </tbody>\n",
       "</table>\n",
       "</div>"
      ],
      "text/plain": [
       "                                 action_object_pairs  count\n",
       "0  send_it, send_message, send_mail, send_e, send...  59541\n",
       "1                                     have_questions  11024\n",
       "2  have_meeting, set_meeting, schedule_meeting, a...  10989\n",
       "3                                         send_email   8182\n",
       "4                                            call_me   6177\n",
       "5                                          thank_you   4433\n",
       "6                                         contact_me   3994\n",
       "7                                            do_what   3567\n",
       "8                                              do_it   2806\n",
       "9                                          give_call   2642"
      ]
     },
     "execution_count": 199,
     "metadata": {},
     "output_type": "execute_result"
    }
   ],
   "source": [
    "df_grouped = remove_entries_containing(df_grouped, df_filtered, 'send_email')\n",
    "df_grouped.head(10)"
   ]
  },
  {
   "cell_type": "markdown",
   "metadata": {},
   "source": [
    "#### Iteratively apply the grouping-function to derive at a taxonomy and retrieve their action-object-pairs"
   ]
  },
  {
   "cell_type": "code",
   "execution_count": 38,
   "metadata": {},
   "outputs": [
    {
     "data": {
      "text/html": [
       "<div>\n",
       "<style scoped>\n",
       "    .dataframe tbody tr th:only-of-type {\n",
       "        vertical-align: middle;\n",
       "    }\n",
       "\n",
       "    .dataframe tbody tr th {\n",
       "        vertical-align: top;\n",
       "    }\n",
       "\n",
       "    .dataframe thead th {\n",
       "        text-align: right;\n",
       "    }\n",
       "</style>\n",
       "<table border=\"1\" class=\"dataframe\">\n",
       "  <thead>\n",
       "    <tr style=\"text-align: right;\">\n",
       "      <th></th>\n",
       "      <th>action_object_pairs</th>\n",
       "      <th>count</th>\n",
       "    </tr>\n",
       "  </thead>\n",
       "  <tbody>\n",
       "    <tr>\n",
       "      <th>0</th>\n",
       "      <td>send_email, send_it, send_message, send_mail, ...</td>\n",
       "      <td>68255</td>\n",
       "    </tr>\n",
       "    <tr>\n",
       "      <th>1</th>\n",
       "      <td>call_me, give_call, call_you, have_call, set_c...</td>\n",
       "      <td>37338</td>\n",
       "    </tr>\n",
       "    <tr>\n",
       "      <th>2</th>\n",
       "      <td>have_questions, need_help, have_question, need...</td>\n",
       "      <td>29876</td>\n",
       "    </tr>\n",
       "    <tr>\n",
       "      <th>3</th>\n",
       "      <td>do_what, do_it, do_this, do_that, do_What, do_...</td>\n",
       "      <td>28753</td>\n",
       "    </tr>\n",
       "    <tr>\n",
       "      <th>4</th>\n",
       "      <td>have_meeting, set_meeting, schedule_meeting, a...</td>\n",
       "      <td>20347</td>\n",
       "    </tr>\n",
       "    <tr>\n",
       "      <th>5</th>\n",
       "      <td>provide_information, contain_information, need...</td>\n",
       "      <td>17776</td>\n",
       "    </tr>\n",
       "    <tr>\n",
       "      <th>6</th>\n",
       "      <td>make_changes, change_address, make_change, tes...</td>\n",
       "      <td>14091</td>\n",
       "    </tr>\n",
       "    <tr>\n",
       "      <th>7</th>\n",
       "      <td>thank_you, have_Thanks, thank_You, thank_every...</td>\n",
       "      <td>10457</td>\n",
       "    </tr>\n",
       "    <tr>\n",
       "      <th>8</th>\n",
       "      <td>tell_me</td>\n",
       "      <td>2027</td>\n",
       "    </tr>\n",
       "    <tr>\n",
       "      <th>9</th>\n",
       "      <td>notify_sender</td>\n",
       "      <td>1923</td>\n",
       "    </tr>\n",
       "  </tbody>\n",
       "</table>\n",
       "</div>"
      ],
      "text/plain": [
       "                                 action_object_pairs  count\n",
       "0  send_email, send_it, send_message, send_mail, ...  68255\n",
       "1  call_me, give_call, call_you, have_call, set_c...  37338\n",
       "2  have_questions, need_help, have_question, need...  29876\n",
       "3  do_what, do_it, do_this, do_that, do_What, do_...  28753\n",
       "4  have_meeting, set_meeting, schedule_meeting, a...  20347\n",
       "5  provide_information, contain_information, need...  17776\n",
       "6  make_changes, change_address, make_change, tes...  14091\n",
       "7  thank_you, have_Thanks, thank_You, thank_every...  10457\n",
       "8                                            tell_me   2027\n",
       "9                                      notify_sender   1923"
      ]
     },
     "execution_count": 38,
     "metadata": {},
     "output_type": "execute_result"
    }
   ],
   "source": [
    "df_grouped.head(10)"
   ]
  },
  {
   "cell_type": "markdown",
   "metadata": {},
   "source": [
    "#### Final Taxonomy"
   ]
  },
  {
   "cell_type": "markdown",
   "metadata": {},
   "source": [
    "| Action-Object-Pairs    | Overarching Intent |\n",
    "|-----------------------|-------------|\n",
    "|send_  | Send something or request somebody to send something|\n",
    "| call_ | Contacting somebody or request somebody to contact them |\n",
    "| have_questions, need_help | request help or provide help |\n",
    "| do_ | unspecified doing of something |\n",
    "| meeting | planning of meetings |\n",
    "| information | requesting or providing information |\n",
    "| change | making changes or request for changes |\n",
    "| thank_you | thank you messages |\n",
    "| ... | rest of the Dataframe |"
   ]
  },
  {
   "cell_type": "markdown",
   "metadata": {},
   "source": [
    "### Create Dataframe Subsets for overarching intents"
   ]
  },
  {
   "cell_type": "code",
   "execution_count": 49,
   "metadata": {},
   "outputs": [],
   "source": [
    "def split_dataframes(df, action_object_pairs):\n",
    "    mask = df['action_object_pairs'].progress_apply(lambda pairs: any(pair in action_object_pairs for pair in pairs))\n",
    "\n",
    "    # Extract the rows that match the filter criteria into a new DataFrame\n",
    "    df_intent = df[mask].copy()\n",
    "\n",
    "    # Remove the matching rows from the original DataFrame\n",
    "    df_remaining = df[~mask].copy()\n",
    "    \n",
    "    return df_intent, df_remaining\n"
   ]
  },
  {
   "cell_type": "code",
   "execution_count": 42,
   "metadata": {},
   "outputs": [],
   "source": [
    "df_start = df_filtered.copy()"
   ]
  },
  {
   "cell_type": "markdown",
   "metadata": {},
   "source": [
    "##### Send DF"
   ]
  },
  {
   "cell_type": "code",
   "execution_count": 40,
   "metadata": {},
   "outputs": [
    {
     "data": {
      "text/plain": [
       "'send_email, send_it, send_message, send_mail, send_e, send_courtesy, send_this, send_them, send_information, send_request, send_that, send_feedback, send_comments, send_list, send_messages, send_copy, send_questions, send_you, send_info, send_emails, send_file, send_me, send_Thanks, send_files, send_resume, send_details, send_document, send_Street, send_update, send_Jose, send_note, send_letters, send_one, send_requests, send_letter, send_what, send_mails, send_number, send_address, send_version, send_Regards, send_which, send_card, send_PQA, send_copies, send_Archives, send_data, send_presentation, send_report, send_replies, send_Hello, send_alerts, send_URL, send_newsletter, send_updates, send_status, send_Resources, send_Help, send_us, send_response, send_reminder, send_Feedback, send_these, send_something, send_materials, send_E, send_alert, send_company, send_him, send_code, send_check, send_someone, send_Welcome, send_page, send_way, send_Us, send_people, send_samples, send_notification, send_tips, send_link, send_cards, send_invitation, send_invitations, send_results, send_name, send_invite, send_reply, send_draft, send_attachments, send_Mail, send_Copyright, send_thanks, send_all, send_notice, send_form, send_documents, send_resumes, send_release, send_plan, send_money, send_instructions, send_Greeting, send_suggestions, send_items, send_fax, send_contributions, send_offers, send_anything, send_Clara, resend_it, send_agenda, send_notifications, send_package, send_up, send_images, send_NDA, send_summary, send_pages, send_input, send_docs, send_invoice, send_confirmation, send_schedule, send_contract, send_engineers, send_call, send_notes, send_sheet, send_COMMENTS, send_spreadsheet, send_logo, send_pictures, send_evening, send_names, send_requirements, send_announcement, send_stuff, send_reports, send_example, send_inquiries, send_couple, send_addresses, send_slides, send_news, send_application, send_estimate, send_itself, send_promotion, send_proposal, send_Founder, resend_attachment, send_material, send_documentation, send_text, send_RFP, send_schedules, send_Packsges, send_types, send_build, send_versions, send_newsletters, send_pqa, send_help, send_agreement, send_Sent, send_order, send_template, send_attachment, send_payment, send_some, send_certificate, send_ideas, send_spec, send_set, send_location, send_presentations, send_description, send_forms, send_doc, send_her, send_EMAIL, send_url, send_while, send_CD, send_Manager, send_person, send_survey, send_greetings, send_responses, send_numbers, send_Rajeev, send_faxes, send_content, send_dilemma, send_minutes, send_work, send_virus, send_command, send_collateral, send_communication, send_gift, send_changes, send_issues, send_queries, send_bottles, send_those, send_referrals, send_employees, send_Contacts, send_Blvd, send_newstips, send_RFI, send_examples, send_more, send_script, send_AvocadoIT, send_answers, send_Unsubscribe, send_frog, send_outline, send_Developers, send_releases, send_html, send_contact, send_HTML, send_article, send_flowers, send_copyright, send_eCards, send_What, send_Email, send_thoughts, send_book, send_type, send_kits, send_ART, send_write, send_logs, send_photos, send_errors, send_Card, send_contacts, send_string, send_video, send_Prakash, send_Craig, send_Director, send_SMS, send_thank, send_shots, send_DDS, send_kit, send_picture, send_specs, send_log, send_proposals, send_patch, send_blast, send_Company, send_Template, send_password, send_plans, send_device, send_paper, send_bulletins, send_Blankenhorn, send_pdf, send_team, send_Example, send_shares, send_Service, send_directions, send_any, send_ads, send_Date, send_announcements, send_Palm, send_time, send_headers, send_process, send_correspondence, send_sample, send_memo, send_News, send_following, send_req, send_question, send_thing, send_packet, send_greeting, send_quote, send_guide, send_THIS, send_templates, send_Questions, send_itinerary, send_pricing, send_links, send_Note, send_photo, send_wireless, send_jokes, send_planning, send_key, send_anyone, send_output, send_questionnaire, send_inputs, send_jpegs, send_story, send_sheets, send_overview, send_rest, send_bio, send_project, send_Baca, send_notices, send_Fax, send_regards, send_Terminology, send_AML, send_software, send_amount, send_gifts, send_invites, send_meeting, send_re, send_analysis, send_slide, send_procedure, send_Infrastructure, send_error, send_checks, send_AE, send_detail, send_study, send_folder, send_representatives, send_job, send_parameters, send_bill, send_Agreement, send_runs, send_strings, send_d, send_estimates, send_everyone, send_box, send_everything, send_image, send_who, send_test, send_Office, send_Marketplace, send_etc, send_bottle, send_Nihar, send_word, send_value, send_screenshots, send_site, send_issue, send_lot, send_commands, send_calendar, send_result, send_film, send_PO, send_XML, send_requirement, send_feed, send_revised, send_steps, send_Srik, send_path, send_literature, send_studies, send_demo, send_BabyCenter, send_rights, send_horoscope, send_username, send_profile, send_deliveries, send_books, send_case, send_allNetDevices, send_Place, send_answer, send_each, send_postcard, send_keys, send_phone, send_minder, send_language, send_PC, send_Letters, send_ballots, send_msg, send_Ruyben, send_u, send_love, send_subscription, send_things, send_cc, send_comment, send_chart, resend_notes, send_signal, send_ours, send_edits, send_whatever, send_two, send_Douga, send_visitors, send_records, send_references, send_snapshots, send_dates, send_animation, send_softcopy, send_PRAVEEN, resend_email, send_yourself, send_original, send_traffic, send_invoices, send_world, send_ASAP, send_URLs, send_pmguid, send_part, send_amlvars, send_Venk, send_screen, send_query, send_Alert, send_unsubscribe, send_sweets, send_asap, send_ID, send_bug, send_Subscription, send_ones, send_Greetings, send_values, send_breakdown, send_scoping, send_leads, send_submissions, send_section, send_screens, resend_them, send_paperwork, send_developer, send_usernames, send_diagram, send_emulator, send_Ravi, send_John, resend_information, send_cancellation, send_others, send_dial, send_packets, send_valentines, send_testing, send_Thanx, send_boxes, send_parameter, -send_requests, send_warning, send_guidelines, send_mine, send_srik, send_Click, send_tip, send_Direct, send_event, send_Interested, send_an, send_lists, send_codes, send_folks, send_waves, send_latest, send_signals, send_problem, send_extensions, send_CV, send_contents, send_yours, send_logos, send_Cards, send_supply, send_aways, send_applications, send_ups, send_approval, send_recommendations, send_soaring, send_Valentine, send_maker, send_pipeline, send_photographer, send_alias, send_Avila, send_tags, send_program, send_votes, send_synopsis, send_shot, send_Mark, send_cheque, send_instruction, send_PDF, send_pmg, send_Werner, send_IT, send_prices, send_Certificate, send_congratulations, send_funds, send_bytes, send_Rights, send_Stuart, send_header, send_originals, send_browser, send_same, send_shortcut, send_Subject, send_prospects, send_database, send_pointer, send_receipts, send_line, send_slots, send_server, send_staff, send_Insider, send_piece, send_specifics, send_Ray, send_Form, send_Development, send_lead, send_statement, send_Launches, send_C, send_ad, send_fix, send_review, send_More, send_calls, send_refresh, send_item, send_format, send_inquiry, send_Request, send_directory, send_Chan, send_entry, send_letterhead, send_bunch, send_Nomula, send_contracts, send_date, send_intro, send_regrets, send_end, send_tests, send_announcments, send_SOW, send_substitute, send_cash, send_mgr, send_consultants, send_bills, send_use, send_apologies, send_reminders, send_app, send_bugs, send_access, send_prema, send_assignments, send_UNSUBSCRIBE, send_SPEAKER, send_REGISTER, send_IDs, send_brochure, send_backgrounder, send_matrix, send_timesheet, send_cookies, send_ticket, send_pics, send_LAST, send_THAT, send_m, send_NIGHT, send_snapshot, send_Document, send_myself, send_machine, send_programs, send_resolution, send_Glenn, send_characters, send_connection, send_kind, send_papers, send_OR, send_surveys, send_tickets, send_DEUTSCHE, send_Webcertificate, send_support, send_Om, send_shirt, send_signature, send_Seal, send_fields, send_Engineer, send_adress, send_PQAs, send_wishes, send_objectives, send_HDML, send_solution, send_choice, send_ppt, send_transaction, send_meetings, send_packages, send_corrections, send_orders, send_members, send_Guide, send_Richard, send_Zaplet, send_Specification, send_engineer, send_S, send_tag, send_HighNotes, send_final, send_Sheets, send_week, send_technicians, send_guys, send_webcertificate, send_handouts, send_song, send_FYI, send_FAX, send_opinions, resend_Thanks, send_CLICK, send_average, send_login, send_expenses, send_hardcopy, send_Andy, send_Resume, send_contribution, send_Carlos, send_completed, send_coupons, send_availability, send_Overview, send_day, send_configuration, send_shampoo, send_pieces, send_Tips, send_urls, send_am, send_sets, send_Paper, send_w, send_cheer, send_updated, send_ROM, send_Gift, send_much, send_mailing, send_most, send_kaur, send_graphics, send_Helen, send_paragraph, send_laptop, send_pager, send_shipment, send_class, resend_message, send_promotions, send_Agenda, send_pack, send_guy, send_Qtrly, send_Who, send_Info, send_customer, send_budget, send_speaker, send_topic, send_Stephen, send_logistics, send_million, send_modifications, send_Notification, send_Presentation, send_topics, send_Review, send_SRF, send_Plan, send_Mike, send_scripts, send_statements, send_layout, send_candidates, send_array, send_batch, send_roses, send_b, send_statistics, send_other, send_assets, send_hundreds, send_words, send_Tel, resend_info, send_child, send_ur, send_network, send_Order, send_entries, send_Arganbright, send_MRD, send_offer, send_projects, send_flow, send_infos, send_table, send_features, send_in, send_both, send_Phone, send_Diana, send_pointers, send_receipt, send_redirect, send_problems, send_pdfs, send_Susan, send_cases, send_donation, send_Ricardo, send_opinion, send_prescriptions, send_limit, send_size, send_songs, send_fixes, send_tape, send_field, send_Howard, send_Data, send_representative, send_West, send_user, send_pointing, send_prompts, send_feedbacks, send_joke, send_needs, send_proof, send_terms, send_variables, send_APP, send_logfile, send_President, send_timesheets, send_gif, send_criteria, send_concerns, send_Love, send_Praveen, send_a, send_FS, send_stream, send_basket, send_reference, send_Report, send_product, send_communications, send_friends, send_Utility, send_sessions, send_rules, send_moving, send_Update, send_Presentations, send_account, send_Messages, send_Sheet, send_clips, send_advertisements, send_points, send_Kiss, send_VII, send_LOI, send_costs, send_counts, send_descriptions, send_son, send_Yahoo, send_conenction, send_pitch, send_Divakar, send_source, send_stats, send_icons, send_coupon, send_looks, send_GoAmerica, send_Discussion, send_Mobile, send_CDs, send_voicemail, send_Echos, send_projections, send_Cheers, send_assessment, send_map, send_Mitch, send_Day, send_follow, send_Amit, send_scores, send_Wilhan, send_eMail, send_Flooz, send_sales, send_Wiil, send_recommendation, send_informations, send_Flash, send_supplement, send_whitepaper, send_articles, send_telegram, send_Flowers, send_graphic, send_bundle, send_pens, send_developers, send_List, send_iPlanet, send_Portal, send_sentiment, send_Jackie, send_Advertisement, send_stories, send_revision, send_Contents, send_amlvar, send_smile, send_campaigns, send_cd, send_Access, send_milestone, send_installer, send_times, send_explanation, send_Check, send_photograph, send_questionaire, send_Replicas, send_certificates, send_bracelet, send_Requirement, send_interview, send_George, send_infromation, send_hardware, send_Aug, send_properties, send_dump, send_activity, resend_document, send_FedEx, send_SDM, send_accounts, send_Nunn, send_Lloyd, send_games, send_fine, send_cartridges, send_SAP, send_Suggestions, send_X, send_wire, send_roadmap, send_apps, send_jobs, send_balance, send_SFS, send_events, send_PDFs, send_OLD, send_views, send_Barry, send_abstract, send_eGift, send_step, send_Thank, send_additions, send_hte, send_sites, send_students, send_Finance, send_batches, send_pic, send_Miyuki, send_Topics, send_website, send_brief, send_financials, send_Meltzer, send_File, send_projector, send_jaime, send_another, send_chairs, send_Platform, send_Washington, send_Technology, send_Sloan, send_DVDs, send_crew, send_milestones, send_Web, send_session, send_vote, send_checkins, send_RFPs, send_structure, send_friend, send_priority, send_Kwanzaa, send_Christmas, send_Coupon, resend_resume, send_reuest, send_Ram, send_Best, send_shoutout, send_Don, send_incase, send_Push, send_Partners, send_stumpers, send_debbie, send_Shoutout, send_Shailesh, send_workers, send_the, send_queues, resend_fax, resend_faxes, send_Ones, send_HISTORY, send_home, send_deck, resend_this, send_thousands, send_flooz, send_Dave, send_Nora, send_Literature, send_Thiruchelvam, send_VITO, send_Quote, send_Message, send_charsets, send_agent, send_back, send_Banamex, resend_file, send_iGo, send_Enhancements, resend_version, send_MBOs, send_Strategies, send_Lisa, send_Selling, send_Commerce, send_best, send_s, send_City, resend_doc, send_quotes, send_portion, send_suggestion, send_first, send_highlights, send_Anything, send_Chris, send_Arun, send_point, send_bullets, send_Money, send_Krishna, send_EP, send_experience, send_Work, send_Neil, send_Structure, resend_URL, send_Lee, send_CA, send_prompt, send_unit, send_bid, send_titles, send_jacket, send_slacks, send_post, send_Messenger, send_millions, send_Rajiv, send_advertisement, resend_files, send_Imperative, send_units, send_Analysis, send_Bob, send_Meshele, send_Roopak, send_BT, send_forecast, send_node, send_Sony, send_Teams, send_count, send_somene, send_Advertisements, send_choices, send_Accenture, send_patches, resend_device, send_Schwarz, send_datasheet, send_opportunity, send_men, send_PP, send_additional, send_Module, send_spam, send_credentials, send_Klee, send_shockwaves, send_Assistant, send_syntax, send_cover, send_talks, send_letting, send_kasi, send_xml, send_artwork, send_laptops, send_tonite, send_t, send_mesages, send_preference, send_DTD, send_Architecture, send_Fulfillment, send_https, send_whoever, send_month, send_half, send_range, send_margulies, send_blind, send_Stories, send_no, send_worth, send_signatures, send_clarification, send_confirmations, send_sharon, send_readme, send_InstallProject, send_collection, send_vegetables, send_Priority, send_screenshot, send_executives, send_Time, send_Phong, send_third, send_equipment, send_prize, send_Kimberlie, send_drop, send_deliverable, send_Francisco, send_Fri, send_ray, send_MOU, send_specification, send_API, send_shivers, send_agreements, send_Darshan, send_Installer, send_Ashish, send_postings, send_Roses, send_blasts, send_button, send_hers, send_index, send_Set, send_Number, send_acknowledgement, send_audio, send_blanks, send_Rishi, send_postcards, send_Everclear, send_User, send_habit, send_attendees, send_Finish, send_Developer, send_stock, send_Spotlight, send_Team, send_Gal, send_course, send_Talk, send_Synchronization, send_rates, send_Importance, send_UIDL, send_cookie, send_kids, send_G, send_frame, send_coordinates, send_Meet, send_Project, send_Support, send_diagrams, send_Regrets, send_Ron, send_agmt, send_business, send_feature, send_Jagrati, send_puns, send_drafts, send_companies, send_roster, send_schematic, send_object, send_Nadir, send_Siebel, send_emial, send_PCS, send_Images, send_kisses, send_Adds, send_Changes, send_McCann, send_Dan, send_Func, send_second, send_Chicago, send_method, send_price, resend_dates, send_history, send_Salzmann, send_credit, send_Information, send_Vivek, send_Kit, send_group, send_incentives, send_Yoza, send_Canada, send_Reviewer, send_icon, send_founder, send_commercial, send_Share, send_tidbits, send_drink, send_round, send_grammar, send_Scott, send_cut, send_design, send_technology, send_services, send_chapter, send_guideline, send_your, send_training, send_loads, send_Zaplets, send_Donivan, resend_Regards, resend_originals, send_Peter, send_Attn, send_questionnaires, send_Events, send_many, send_old, send_new, send_Tom, send_accruals, send_arounds, send_Katt, send_resource, send_Factors, send_WAP, send_Tues, send_Camera, send_payments, send_amlid, send_demos, send_gateway, send_translation, send_Thx, send_adventure, send_Kheny, send_Goal, send_marilisa, send_magazine, send_troops, send_Wireless, send_reset, send_Editor, send_WINS, send_flows, send_Death, send_CASH, send_change, send_deliverables, send_SE, send_comps, send_customers, send_boost, send_handler, send_entertainment, send_Specials, send_Co, send_PRC, send_percentages, resend_emails, send_DDSs, send_Hideki, send_videos, send_Me, resend_package, send_Planning, send_Toronto, send_magnitude, send_revisions, send_Enables, send_Launched, send_Invests, send_Aims, send_Clearinghouse, resend_numbers, send_Mahadev, send_VOLUNTEERS, send_capabilities, send_symbol, send_webstats, send_Link, send_passes, send_reconciliation, send_amendment, send_Phase, send_Bio, send_summaries, send_VP, send_ME, send_Main, send_Ecard, send_exe, send_thingy, send_EMail, send_Needs, send_pigs, send_rounding, send_String, send_Park, send_background, send_MB, send_partners, send_Reviewed, send_soo, send_SiebelCredentials, send_explorer, send_Fox, send_approach, send_charmer, send_o, send_equivalent, send_PART, send_commission, send_intead, send_Directory, send_organizers, send_Invoice, send_Diagram, send_IP, send_Karna, send_nos, send_definition, send_Confirm, send_development, send_Announces, send_expectation, send_dummypage, send_trial, send_Instructions, send_Planet, send_taste, send_repository, send_gram, send_sanity, send_VENUE, send_INSIGHT, send_ya, send_sequence, resend_URLs, resend_copy, send_Neomar, send_Documentation, send_serverlog, send_Plans, send_emulators, send_Sriram, send_Mom, send_Marc, send_thankyou, send_lines, send_snippets, send_Toni, send_attribute, send_Reviews, send_DIEGO, send_heap, send_analysts, send_toon, send_involvements, send_contemplates, send_Prosa, send_webex, send_market, send_visual, send_Halloween, send_Dusya, send_ringtone, send_situation, send_goals, send_potential, send_months, send_alond, send_devices, send_kinds, send_stocks, send_Angel, send_beforeImage, resend_analysis, send_Blink, send_scope, send_Jacinda, resend_request, send_above, send_Sharon, send_air, send_folders, send_Alpharetta, send_reorganization, send_arun, send_levels, send_BACK, send_SOS, send_pres, send_qtr, send_flags, send_Anderson, send_Eating, send_campaign, send_Ph, send_workarounds, send_Design, send_Create, send_servlet, send_infor, send_followup, send_mug, send_feeds, send_Collateral, send_otherway, send_Inc, send_voice, send_Take, send_options, send_listing, send_datacards, send_WebEx, send_verbiage, send_yahoo, send_Guys, send_EMAS, send_gossip, send_Intent, send_nite, send_Working, send_amil, send_Goals, send_Listserv, resend_study, send_arecipe, send_IDC, send_Tool, send_teams, send_Piyush, send_Casio, send_matt, send_pc, send_cap, send_logfiles, send_trace, send_failures, send_mailings, send_direct, send_id, send_nothing, send_idc, send_Internet, send_res, send_writeup, send_onsite, send_proposol, send_head, send_works, send_A, send_packing, send_Doug, send_appt, send_Code, send_goldmine, send_browsers, send_Thurs, send_OpenTV, send_upto, send_Projector, send_SampleApp, resend_me, send_anybody, send_EK, send_reprints, send_Jaime, send_pm, send_ordinate, send_Chaitanya, send_scene, send_Resend, send_datasheets, send_WHO, send_install, send_East, send_region, send_desc, send_Cell, send_Motorola, send_referal, send_Plaza, send_Results, send_lioness, send_hello, resend_Baca, send_DD, send_tagline, send_ringtones, send_i, send_three, send_cookbook, send_dictionary, send_manual, send_Nasdaq, send_small, send_face, resend_Director, send_DATE, send_alternates, send_Drive, send_clip, send_man, send_scent, send_Media, send_suite, send_cheers, send_itineraries, send_Release, send_print, send_variable, send_clothes, send_pix, send_banner, send_sync, resend_Infrastructure, send_DiMaria, send_shiver, send_trip, send_series, send_MMS, send_Comments, send_Notice, send_Proofing, send_enquiries, send_Ryan, send_biz, send_weekend, send_comparison, send_Survey, send_chills, send_iPAQ, send_load, send_layouts, send_tommorrow, send_Subscribe, send_hint, send_employee, send_Tools, send_drive, send_consultant, send_STOCKHOLM, send_our, send_studio, send_eMails, send_SyncML, send_Volunteers, send_manuals, send_internet, send_warnings, send_Expectations, send_ExtractionWorkerThread, send_processExtraction, send_l, send_legislation, send_users, send_ERROR, send_communiqué, send_needhitsnow, send_Piscataway, send_intelligence, send_Users, send_CIOs, send_testscripts, send_passcode, send_COPYRIGHT, send_forum, send_showing, send_mapping, send_ack, send_bunches, send_explanations, send_pre, send_reviews, send_classpath, send_Letter, send_DM, send_Grant, send_sessionid, send_queue, send_clearing, send_download, send_Kick, send_embrace, send_approx, send_sort, send_ryan, resend_address, send_monitors, send_Iwas, send_Administrator, send_kumi, send_remittance, send_Javadocs, send_buglist, send_accelerator, send_amlscript, send_clients, send_servers, send_toyou, send_sound, send_library, send_Property, send_cable, send_Freeserve, send_Winners, send_MimeOLE, send_deviceid, send_Brings, send_Requirements, send_Whaley, send_weeks, send_KDDI, send_Networks, send_respond, send_router, send_complaint, send_economies, resend_invoices, send_AST, send_LLC, send_yahoogroups, send_Publishing, send_managers, send_plaintext, send_Biogen, send_Location, send_formats, send_environement, send_Pack, send_CJ, send_label, send_informaiton, send_overnite, resend_template, send_Restrepo, send_OCA, send_fromabove, send_resources, send_Pictures, send_aTim, send_DoCoMo, send_portfolio, send_javascript, send_ESPOO, send_douga, send_Summary, send_Florence, send_zips, send_renderSession, send_II, send_CONTENTS, send_Volume, send_need, send_estimation, send_Right, send_web, send_level, send_upgrade, send_Business, send_bithi, send_heads, send_Hope, send_encoding, send_edition, send_sailboat, send_states, send_conditions, send_Requests, send_documnets, send_role, send_Emails, send_ops, send_EMAILs, resend_Contact, send_cheques, send_Elisabeth, send_Firm, send_worksheet, send_PR, send_End, send_charges, send_prints, resend_documents, send_Macromedia, send_Aleksandar, send_Get, send_accomplishments, send_OSA, send_goods, send_Attention, send_symbols, send_Fart, send_mobile, send_logon, send_introduction, send_phrases, send_It, send_Nytimes, send_percent, send_Audio, send_Consultants, send_utility, send_acceptance, send_We, send_evaluation, send_squads, send_privileges, send_sign, send_Liner, send_ok, resend_list, send_Invite, send_scoop, send_networks, send_ref, send_body, send_products, send_setting, send_pcdata, send_ship, send_Watkins, send_simulators, send_close, send_instrumented, send_activities, send_checklist, send_listings, send_sources, send_messaging, send_VODAFONE, send_texts, send_heart, send_BrowserRequest, send_passwords, send_handles, send_communities, send_hunter, send_Muze, send_Mehrak, send_start, send_statuses, send_visitor, send_worry, send_Application, send_zipped, send_considerations, send_Messaging, send_Basics, send_editor, send_proxy, send_Janet, send_attachement, send_B, send_Back, send_brochures, send_reps, send_Submissions, send_HIDDEN, send_K, send_remainder, send_Ritesh, send_future, send_PPT, send_redlines, resend_scope, send_boilerplate, resend_draft, send_Explosion, send_battery, send_Point, send_Lars, send_Contest, send_herself, send_his, send_RSVP, send_contractor, send_Invitation, send_paths, send_emailer, send_WML, send_gifs, send_Postcards, send_OS, send_Requriements, send_wrick, send_NAME, send_Sprint, send_findings, send_external, send_Mobility, send_vice, send_NOTES, send_payroll, send_license, send_basic, send_Whitepaper, send_salesforce, send_mailer, send_headset, send_blackline, send_Opportunity, send_AEC, send_creations, send_welcome, send_hand, send_option, send_EXECUTIVE, send_RIM, send_hugs, send_salary, send_Nikhil, send_spreadsheets, send_People, send_payload, send_clarifications, send_Server, send_singleserving, send_Sagar, send_Pinnock, send_Kumar, send_To, send_representation, send_Plus, send_reservation, send_DOM, send_Monica, send_Rajev, send_Reprinted, send_EarthWeb, send_testimonials, send_searches, send_timeline, send_Agendas, send_pounds, send_PhotoJam, resend_attachements, send_YOU, send_wknd, send_scenarios, send_Kendall, send_charts, send_MARKET, send_srf, send_Alliance, send_Xybernaut, send_cent, send_skeleton, send_Tetra, send_sortie, send_errored, send_scenario, send_Easter, send_tasks, resend_presentation, send_Fofo, send_whereever, send_D, send_individual, send_portal, send_Signal, send_toners, send_routes, send_transactions, send_variety, send_Kimberly, send_replacments, send_FORMCRED, send_JP, send_designs, send_anythng, send_intinerary, send_Timesheet, send_equipments, send_null, send_afternoon, send_becaue, send_Jamba, send_earlier, send_Mktg, send_License, send_postage, send_Cars, send_onemails, send_Sherman, send_toys, send_yourselves, send_BLUESOLUTIONS, send_traceroutes, send_wallpaper, send_Wellman, resend_iteninary, send_Edit, send_Receive, send_Chenepalli, send_calculation, send_Cc, send_Industry, send_Airtel, send_EPhone, send_PDQ, send_WAN, send_byte, send_Silver, send_anupdate, send_Hon, send_hints, send_txts, send_verifcation, send_miles, send_Curtis, send_VT, send_tommorow, resend_tag, send_Srinivas, send_slip, send_Rakhee, send_Debbie, send_HTTPrequest, send_amounts, send_MST, send_Bodade, send_agin, send_MBO, send_confirm, send_filter, send_officers, send_Principles, send_retailer, send_idea, send_parcels, send_jeans, resend_Hideki, send_callflow, send_propositions, send_Seattle, send_Book, send_ex, send_deftemplate, send_defrule, send_complaints, send_deffunction, send_sexp, send_max, send_Rick, send_regulators, send_finding, send_Part, send_selection, send_hdml, send_direction, send_procedures, send_Prema, send_curriculum, send_caps, send_snap, send_deletes, send_vite, send_Acquisition, send_diff, send_junks, send_Ming, send_CNET, send_BeFree, send_paychecks, send_Yam, send_Nolan, send_Feldon, send_buttons, send_itinery, send_Rd, send_framework, send_Oxnard, send_requessts, send_Address, send_Shin, send_Collection, send_Antivirus, send_HELLO, send_Deadlines, send_janice, send_nominations, send_U, send_ResultSet, send_Memos, send_Sun, send_cycle, send_annoucements, resend_RSVP, send_refill, resend_Thanx, send_DOCUMENTS, send_Holloway, resend_recipe, send_ipaddress, send_student, send_seeya, send_Mercedes, send_parrot, send_Boeing, send_powerpoint, send_effort, send_chautal, send_Kicking, send_Read, send_Robert, send_exec, send_everypne, send_Karwal, send_Makie, send_Partner, send_Mercury, send_OracleMobile, send_JSPs, send_placeHolder, send_Bridgewater, send_outlook, send_UPS, send_attention, send_DTMF, send_cake, send_liner, send_yeeeeeeeehhhhhhhhhh, send_Mortgages, send_Turner, send_metrics, send_ImagePort, send_cache, send_advice, send_breakup, send_redeemable, send_fireman, send_everybody, send_staement, send_Emma, send_Randy, send_THANKS, send_Monday, send_economy, send_eCompany, send_Suzanne, send_argument, send_presentaion, send_Prabhu, send_Tim, send_Officer, send_Melissa, send_place, send_Osman, send_sql, resend_slides, send_Penetration, send_delete, send_Raymond, send_Period, send_Graham, send_stations, send_Plant, send_Swell, send_dat, send_preannouncement, send_character, send_FREE, send_alternate, send_scheds, send_fyi, send_Thought, send_BS, resend_goals, send_scan, send_rev, send_VOB, send_escalation, send_sensations, send_SUNNYVALE, send_zip, send_Multipart, send_Text, send_ORiNOCO, send_CIC, send_Systems, send_DB, send_op, send_Center, send_subclass, send_requisites, send_Strategy, send_Headphone, send_retry, send_hardcopies, send_warmest, send_replacement, send_dbm, send_QATeam, send_VVeB, send_antelope, send_Japanese, send_PocketPC, send_Dale, send_thinking, send_donivan, send_BizTalk, send_WINNINGS, send_deal, send_Secures, send_preso, send_Braitman, send_Movies, send_Floodgate, send_Ericsson, send_Mbrane, send_MAIL, send_Loring, send_cartoons, send_oultine, send_prizes, send_signing, send_termsheet, send_Stuff, send_Douglas, send_fighter, send_PT, send_Speed, send_daddy, send_Market, send_ReplayTV, send_regd, send_right, send_advance, send_kiss, send_gaskets, send_TOC, send_JOSE, send_Wadsworth, send_c, send_equivalents, send_markup, send_setVersion, send_Stammeier, send_todya, send_Envelope, send_Mails, send_INSTEAD, send_PROGRAMS, send_I, send_vision, send_Vegas, send_bomber, send_barry, send_dollars, send_briefing, send_TNWTC, send_Nein, send_Antworten, send_Rufnummer, resend_rules, resend_certificate, send_Modem, send_x, send_Reprints, send_montha, send_badge, send_cry, send_toeveryone, send_Angels, send_itinenary, send_Mechanics, send_fees, send_Cabe, send_THANK, send_deposits, send_Moran, send_Beth, send_LastDownloadTime, send_Opens, send_advisories, send_testplan, send_Alerts, resend_reply, send_women, send_appliction, send_Dell, send_colon, send_semi, send_Sales, send_Tnx, send_devloper, send_Lara, send_Deloitte, send_bowl, send_Kathy, send_folderin, send_palm, send_Operations, send_wen, send_saliva, send_synchdr, send_cassette, send_office, send_pilot, send_Chooses, send_predictions, send_fans, send_Devi, send_suggesstions, send_mortgages, send_represents, send_policeman, send_tooo, send_markets, send_oca, send_trail, resend_invitation, send_presents, send_ecard, send_Gifts, send_Bithi, send_delegation, send_CONNECTION, send_module, send_VoiceXML, send_Cheer, send_Map, send_disk, send_guess, send_rumors, send_NEWSLETTER, send_cvs, send_service, send_chesaavu, send_mistake, send_kane, resend_those, send_puzzle, send_mixes, resend_which, send_base, send_catalog, send_Viewbook, send_terminals, send_Sreenivas, send_logging, send_ATHM, send_modules, send_advising, send_mtg, resend_Place, send_extract, send_mom, send_Articles, send_Nasser, send_Ltd, send_bits, send_urgent, send_IBM, send_Tortuga, send_deposit, send_nda, resend_Analysis, send_tone, send_congrats, send_Bill, send_aml, send_quotation, send_P, send_Teresa, send_Harry, send_EMDS, send_captures, send_Features, send_executable, send_lawyer, send_several, send_ids, send_Testscripts, send_Dial, send_Errors, send_Pqa, send_Fonts, send_Kejriwal, send_FAQ, send_approvals, send_mother, send_T, send_Step, send_GoWeb, send_adpter, send_exept, send_Automobiles, send_Breakdown, send_Vickie, send_detailed, send_DLLs, send_builds, send_pqas, send_quick, send_HOURS, send_questons, send_registers, send_claim, send_squad, send_biography, send_funnnnyyyyeeeeee, send_detials, andsend_it, send_Joe, send_provider, send_HP, send_Device, re)send_information, send_Chernaskey, send_nodes, send_coz, send_tjhis, send_CarePackage, send_unsolicited, send_cuttings, send_NLT, send_marks, send_WHOOPS, send_SLIDES, send_CONGRATULATIONS, send_DSS, send_Andrew, send_texr, send_phones, send_banamex, resend_Praveen, send_Michelle, send_glossary, send_prakash, send_BRIEFS, send_attributes, send_rep, send_beloved, send_Santana, send_Ad, send_Cash, send_Him, resend_you, send_Premamalini, send_mode, send_Mobilizer, send_volume, send_ipaq, send_ratings, send_slips, send_ton, send_out, send_aletter, send_sesssiosn, send_BuyerTouch, send_Username, resend_Sent, send_Syntegra, send_lastDownloadTime, send_volumes, send_doh, send_deals, send_helmet, send_PerformedThirumanjanam, send_blessings, send_oneliner, send_appl, send_timely, send_directive, send_policies, send_hope, send_comp, send_MANAGER, send_Styrofoam, send_music, send_model, send_Introduction, send_specifications, send_Snoozing, send_sketches, send_Seminar, send_Correct, send_POST, send_tricks, send_suspension, send_Preamble, send_Ideal, send_Port, send_Switching, send_distances, send_hub, send_Selene, send_Sunny, send_Yvette, send_below, send_ediary, send_Picture, send_Steps, send_Travel, send_telephons, send_againif, send_Tower, send_messenger, send_pin, send_L, send_talking, send_Cramer, send_subscriptions, resend_yours, send_messgage, send_kudo, send_Integration, send_Screens, send_anagrams, send_Pat, send_correction, send_Large, send_failure, send_sugesstions, send_Foo, send_aliase, send_California, send_Checklist, send_diffs, send_standalone, send_Advertise, send_poem, send_andy, send_Branson, send_userID, send_shortcuts, send_lots, send_Deck, send_swanson, send_nulls, send_Week, send_Solutions, send_Mateo, send_Himmat, send_fileserver, send_redline, send_Invitations, send_addition, send_earlie, send_firm, send_Betty, send_Documents, send_shorlty, send_VCF, send_Travis, send_communicator, send_manager, send_MFG, send_Frederiksen, send_hits, send_color, send_System, resend_messages, send_appreciation, send_split, resend_Mohindra, resend_Krothapalli, send_un, send_Jenae, send_FACE, send_JK, send_acknowledgment, send_SEMINAR, send_executive, send_Etrade, send_Provo, send_theirs, send_Intel, send_Maker, send_bruthuh, send_themes, send_RSVPs, send_zipfile, send_commentary, send_VMs, send_breakout, send_decline, send_streams, send_NIhar, send_receive, send_Technologies, send_Warner, send_typed, send_speakers, send_chf, send_vouchers, send_compilation, resend_thanks, send_Focuses, send_CIO, send_EMAILS, send_PEOPLE, send_shoot, send_Rim, send_preferences, send_permission, send_monitor, send_Class, resend_report, send_personalized, send_Powerpoint, send_Wednesdays, send_IMs, send_host, send_PDT, send_weaver, send_dreams, send_ripples, send_targets, send_pair, send_computers, send_tally, send_SYW, send_Beverage, send_Publishers, send_mentioning, send_dlls, send_scholarship, send_Ascotel, send_limitations, send_Keshen, resend_guidlines, send_Kumi, send_delegates, send_sms, send_Microns, send_TICKERTAPE, send_speadsheet, send_insults, send_lettter, send_dollar, send_Permissions, send_Register, send_multiple, send_England, send_Ex, send_Affiliates, send_mesasage, send_testcase, send_summer, send_Things, send_Replies, send_adapter, send_presciptions, send_quickliner, send_Send, send_tab, send_Yours, send_reactions, send_meesage, send_eBANK, send_Queued, send_Suisse, send_Brian, send_Television, send_Cam, send_token, send_UI, send_negatives, send_headlines, send_subscribers, send_chance, send_assessments, send_traceroute, send_gupta, send_clara, send_daggers, send_recipe, send_Telephone, send_Usage, send_roshan, send_spending, send_coder, resend_mail, send_calculations, send_URI, send_Newsflash, send_po, send_swatches, send_XXXXXX, resend_thing, resend_logo, send_bees, send_India, send_alarms, send_props, send_Url, send_extras, send_PST, send_anthing, send_One, send_iCAP, send_clipper, send_blazer, send_CRAIG, send_Opts, send_Prism, send_steve, send_tones, send_Bangladesh, send_calsspath, send_Padma, send_modem, send_Opportunities, send_globe, send_will, send_uid, send_addendum, send_hood, send_Whom, send_digits, send_pkts, send_charm, send_Shukla, send_photographs, send_Analyzer, send_Nokia, send_parenting, send_Surveys, send_static, send_Services, send_synchronize, send_Facts, send_Tags, send_Sync, send_demonstration, send_director, send_somebody, send_satellite, send_HDTV, send_Philly, send_mesage, send_police, send_mb, send_clarifier, send_NDAs, send_msgs, resend_set, resend_survey, send_talk, send_Capture, send_OCR, send_Collaborate, send_p, send_Software, send_invitee, send_Nobu, send_swag, resend_spreadsheets, send_keychain, send_competitors, send_computer, send_RECRUITERS, send_PRINCIPALS, send_today, send_tr, send_criticisms, resend_docs, agutzman@internet.com\">send_me, send_EliteXpo, send_octel, send_MacVittie, send_hi, send_hime, send_Forum, send_Grill, send_Pennsylvania, send_condolences, send_EBC, send_shoppers, send_Person, send_broadcasts, send_shopper, send_Antonio, send_quality, send_Sweetie, send_Valentines, send_num, send_messeges, send_phase, send_arrangement, send_days, resend_Actions, send_Dad, send_consent, send_orginals, send_appplications, send_messge, send_make, send_goodie, send_Employees, send_becasue, send_phil, send_rahima, send_Ways, send_Brett, send_falling, send_ripple, send_posting, send_puppy, send_click, send_large, send_saver, send_Red, send_clues, send_online, send_wrong, send_Name, send_Glover, send_schemes, send_commuting, send_soldier, send_hours, send_Coffee, send_clue, send_Music, send_daughter, send_ZingCard, send_tapling, send_Mixers, send_Customer, send_Bills, send_INTEREST, send_prezo, send_Seth, send_tool, send_Candy, send_ARTG, send_fleet, send_itinerieries, send_slew, resend_pqa, send_advertising, resend_question, send_plug, send_cartoon, presend_them, send_ranges, send_RETURNING, send_kgr, send_dll, send_itin, send_movies, send_bids, send_DNS, send_client, send_vm, send_Paiman, send_ph, send_movie, send_parmeters, send_doucment, send_regret, resend_Helen, send_definitions, send_Object, send_Iam, send_duckies, send_Consultant, send_Req, send_Shen, send_briefs, send_sendRedirect, send_food, send_PostScript, send_participants, send_increase, send_Marketing, send_Napolean, send_Muthukaruppan, send_cellphone, send_f, send_keep, send_morning, send_All, send_respository, send_First, send_Suite, send_Works, send_Conversay, send_Page, send_snippet, send_Gates, send_Netra, send_em, send_power, send_space, send_This, send_prayer, send_David, send_Observatory, send_Products, send_wishlist, send_thanx, send_selling, send_woes, resend_article, send_reservations, send_metaphor, send_hin, send_backpack, send_ASP, send_assist, send_boris, send_agrement, send_CAUTION, send_Integrates, send_Photos, send_makers, send_lit, send_HURST, send_Zary, send_pal, send_Nights, send_Turkey, send_QNX, send_Unveils, send_Wayport, send_Label, send_porkers, send_turn, send_Charlotte, send_Cara, send_ahead, send_expense, send_cost, send_AWA, send_Exec, send_machines, send_etrade, resend_questions, send_forwards, send_focus, send_Program, send_suit, send_iil, send_APB, send_sessionID, send_traps, send_Visio, send_pile, send_buffer, send_onOk, send_Baulch, send_dude, send_Sponsors, send_Jornadas, send_cube, send_Brandon, send_proofs, send_Cititrade, send_Adding, send_addVariable, send_identifyAmlList, send_Ciao, send_Video, send_PS, send_volley, send_Appliances, resend_following, send_sections, send_Affiliate, send_glenn, send_weekly, send_apges, send_June, send_stacks, send_Phipip, send_passport, send_Bhagavan, send_flyers, send_LOVES, resend_all, send_bouquet, resend_Requests, send_about, send_selections, send_Projects, send_Version, send_WP, send_redraft, send_York, send_Amsterdam, send_Wendi, send_LCA, send_standard, send_successes, send_record, send_south, send_Dow, send_worksheets, send_indicator, send_IDEAS, send_Glad, send_Randhawa, send_fun, send_pen, send_PERSON, send_cigar, send_Bruce, send_AShish, send_crap, send_userid, send_mock, send_Babu, send_legend, send_Mayer, send_PM, send_Lucent, send_Price, send_Expo, send_present, send_preosentations, send_Kevin, send_throught, send_ATs, send_tale, send_broachure, send_confusion, send_Item, send_Rules, send_dos, send_Ihave, send_tablets, send_task, resend_password, send_Zenki, send_Cases, send_cell, send_return, send_media, send_Download, send_Sounds, send_Architects, send_get, send_OPs, send_pkz, send_funnies, send_hug, send_InstaHug, send_xerox, send_MK, send_PDA, send_scroll, send_heartbeat, send_Please, send_Briefing, send_driver, send_foot, send_ammendment, send_Re, send_stamp, send_investigation, send_Awards, send_possibilities, send_Kirshna, send_Vacation, send_Secrets, send_libraries, send_OKS, send_guests, send_Journal, send_Sethi, send_wave, resend_inquiry, send_Demo, send_mahesh, send_registration, send_infomation, send_Conde, send_Communications, send_decision, send_girlfriends, send_Notifications, send_wait, send_policy, send_contestants, send_to, send_tech, send_Coordinator, resend_plan, send_Eric, send_Signals, send_Touch, send_delay, send_Gallon, send_Handwriting, send_PersonalId, send_Faxes, send_ADS, resend_Jose, resend_invite, resend_WebEx, send_videotapes, send_SMILE, send_US, send_total, send_Billing, send_Database, resend_attached, send_Gatos, send_matertial, send_carriers, send_difference, send_Jace, send_Scorecard, send_RITESH, send_instant, send_Weekends, send_writer, send_Todd, send_Marilisa, send_Banks, send_prasad, send_gold, send_Nancy, send_submission, send_cigarette, send_stuf, send_Johnson, send_Marcia, send_locations, send_Group, send_ONE, send_snaps, send_Uli, send_Eyes, send_Bow, send_tremors, send_Gartner, send_licenses, send_Megan, send_locators, send_Board, send_parents, send_subset, send_heading, send_Simplification, send_carl, send_fact, send_mailshot, send_reco, send_Kelsey, send_Rocks, send_exception, send_apprx, send_phases, send_phtotos, send_Numbers, send_tel, send_Sterling, send_Eddie, send_reqs, send_correct, send_alleys, send_airport, send_egreetings, send_Endnotes, send_sons, send_Abroad, send_Children, send_Sons, resend_something, send_Break, send_COB, send_Somerset, send_Distefano, send_Christie, send_graphs, send_Schedule, send_Leopoldstr, send_AOL, send_partner, send_handango, send_stylus, send_announce, send_young, resend_response, send_tomorrow, send_garbage, send_fotos, send_Millions, send_capture, send_Nike, send_kid, send_Releases, send_exchange, resend_description, send_dispatches, send_endorsement, send_Mary, send_min, send_EPS, send_cuts, resend_PS, send_talent, send_generic, send_LONDON, send_Higgins, send_proceeds, send_reasons, send_truck, send_patty, send_PPC, send_Usher, send_Party, send_Packages, send_Cisco, send_Longstaffe, send_LifeMinder, send_viruses, send_Bugs, send_epservlet, send_Icon, send_Move, send_Save, send_Touchpoints, send_Courteous, send_Completed, send_credential, send_Rao, send_whom, send_PERMAN, send_Elba, send_workstation, send_Town, send_Shop, send_station, send_projection, send_Simon, send_Canadians, send_Yatin, send_Newsletter, send_thingamajiggy, send_tnx, send_settings, send_BELLBOY, send_crystal, send_figure, send_bandwidth, send_Sunil, send_Nos, send_acct, send_Criteria, send_rsvp, resend_these, send_Addresses, send_Applet, send_apology, send_ILY, send_Sign, send_Taplings, send_Classic, send_Chandu, send_baby, send_rsult, send_Bryan, send_tons, send_porn, send_App, send_QAB, send_dets, send_TTYS, send_Giants, send_Holidays, send_notepads, send_ino, send_prayers, send_installbuild, send_SmartMoney, send_board, send_Certificates, send_Simmons, send_pairs, send_appname, send_environment, send_acronyms, send_Brooks, send_search, send_Conversions, send_declaration, send_sponsorship, send_initialize, send_Explorer, send_Trent, send_Nilesh, send_few, send_long, send_cause, resend_kit, send_tapes, send_Committee, send_pipelines, send_summery, send_Go, send_soup, send_microphone, send_popup, send_de, send_Mate, send_detains, send_sent, send_burglars, send_reccomender, send_Emeryville, send_basketball, send_Queen, send_Theme, send_creative, send_MONDAY, send_OPSrequest, send_Z, send_You, send_timestamp, send_Browser, send_summ, send_vibes, send_scampering, send_Laden, send_PCs, send_telegrams, send_binders, send_TalkAbout, send_thsi, send_Emirates, send_mailA, send_bank, SEND_KISSES, send_technologies, send_visio'"
      ]
     },
     "execution_count": 40,
     "metadata": {},
     "output_type": "execute_result"
    }
   ],
   "source": [
    "pairs_send = df_grouped.iloc[0]['action_object_pairs']\n",
    "pairs_send"
   ]
  },
  {
   "cell_type": "code",
   "execution_count": 50,
   "metadata": {},
   "outputs": [
    {
     "name": "stderr",
     "output_type": "stream",
     "text": [
      "100%|██████████| 686570/686570 [00:23<00:00, 29597.29it/s]\n"
     ]
    },
    {
     "name": "stdout",
     "output_type": "stream",
     "text": [
      "Intent DF shape: (54316, 19); Remaining DF shape: (632254, 19)\n"
     ]
    }
   ],
   "source": [
    "df_send, df_remaining = split_dataframes(df_start,pairs_send)\n",
    "print(f'Intent DF shape: {df_send.shape}; Remaining DF shape: {df_remaining.shape}')"
   ]
  },
  {
   "cell_type": "markdown",
   "metadata": {},
   "source": [
    "##### Call DF"
   ]
  },
  {
   "cell_type": "code",
   "execution_count": 51,
   "metadata": {},
   "outputs": [
    {
     "data": {
      "text/plain": [
       "\"call_me, give_call, call_you, have_call, set_call, call_him, call_it, call_us, make_calls, make_call, call_number, get_call, call_them, call_what, call_her, schedule_call, receive_call, call_Fazio, arrange_call, call_method, receive_calls, do_call, call_phone, call_toll, return_call, get_calls, handle_calls, expect_call, have_calls, call_that, call_office, place_call, take_call, call_cell, call_this, join_call, call_section, call_mail, follow_call, call_which, call_function, call_Center, call_reps, put_call, miss_call, attend_call, call_support, return_calls, call_methods, take_calls, answer_call, activate_call, call_What, call_release, setup_call, hold_call, call_line, call_Support, call_system, call_company, call_code, set_calls, call_Jose, schedule_calls, coordinate_call, initiate_call, call_Stewart, call_whatever, call_one, call_servlet, call_person, call_guy, call_people, place_calls, add_call, reschedule_call, confirm_call, call_Managers, call_u, call_Code, call_mobile, call_Passcode, transfer_call, call_service, call_AvocadoIT, call_Regards, get_callers, call_numbers, call_e, call_throughput, call_IT, call_Who, recall_handsets, call_attention, use_call, call_contact, call_customer, need_call, insert_PharmaProfessionalCall, remove_calls, answer_calls, call_customers, call_seat, call_OCC, call_McManus, call_hotel, call_who, call_department, add_Call, call_Andy, field_calls, regard_call, call_Jaime, host_call, call_page, conf_call, support_calls, conduct_call, call_Department, call_hotline, call_center, call_McNeely, call_shots, call_We, call_Jason, call_Nadir, call_Flynn, insert_PharmaAccountCall, dial_calls, call_desk, call_Venk, complete_call, recall_phones, call_ENGAGE, cancel_call, call_email, lob_call, accept_call, call_ID, call_someone, follow_calls, call_rep, call_Service, recall_that, call_Joe, call_functions, plan_call, field_call, call_guys, call_file, offer_calls, call_h, include_call, await_call, call_OLD, set_concall, call_Street, call_Store, submit_call, do_calls, insert_call, call_emailing, handle_call, suggest_call, log_call, call_application, warn_callers, call_Whaley, call_sqaPass, move_call, call_Matt, call_functionality, call_jsp, call_thing, recall_message, call_representative, appreciate_call, like_call, call_extension, call_Michael, call_Steve, call_bank, call_Me, call_each, call_all, work_calls, call_Jeff, call_CEO, call_Director, call_driver, call_Team, lead_call, put_calls, call_URL, avoid_calls, call_Java, propose_call, track_calls, call_Solution, locate_callers, have_concall, call_Hirata, call_cards, call_set, reduce_calls, call_Tim, call_myself, route_calls, duplicate_PharmaProfessionalCall, edit_PharmaProfessionalCall, duplicate_calls, call_services, call_questions, call_Lisa, call_Ryan, call_friend, call_Teresa, call_feature, call_deterrent, call_Rajeev, end_call, call_contacts, call_Jim, call_tender, drive_call, call_ourselves, call_everyone, call_admin, call_Covington, call_Jennifer, miss_calls, add_calls, call_Number, call_ya, request_call, call_bean, call_Richard, call_Stephen, call_Baca, call_staff, call_Prakash, conference_call, lob_calls, call_Mattoon, call_police, call_group, call_Mark, call_carriers, call_Tom, cover_call, use_calls, call_Chris, call_John, call_house, want_call, call_Debbie, include_calls, arrange_calls, call_home, initiate_calls, call_friends, call_Germana, call_Ray, recall_name, call_some, call_Status, call_class, call_Jagrati, call_Craig, call_anyone, call_themselves, change_call, call_Care, block_calls, call_David, direct_call, organize_call, call_Moran, call_cellphone, call_companies, call_centers, acknowledge_call, give_calls, terminate_call, call_Claudia, call_US, call_time, leave_call, call_agents, call_team, call_scripts, call_yourself, thiscall_line, call_Martinez, book_call, call_Zenki, accept_calls, call_Nihar, recall_AvocadoIT, call_assistant, call_process, remove_call, call_Om, recall_this, present_call, call_info, call_Kimberlie, call_GOLD, call_Date, transfer_calls, call_name, connect_calls, provide_call, wish_caller, call_Don, call_Microsoft, call_Peter, call_Terms, call_Ron, call_construction, call_DCI, screen_calls, call_Robert, call_bases, call_Amy, add_NewCall, forward_call, recall_conversation, call_Dave, recall_time, call_things, call_NET, call_Dom, call_Srik, call_Wilhan, call_Founder, call_Phil, call_Barry, call_Gold, call_EARN, call_program, call_wife, call_Ty, call_Darshan, call_list, fail_call, call_Reservations, call_rates, hangup_call, call_Roopak, call_Centers, call_doctor, call_Toll, wait_call, call_Management, call_x, call_b, call_joe, call_Keith, hear_call, call_itself, provide_calls, plan_Call, call_Sanjay, recall_what, call_Carlos, call_Business, call_connection, call_Glover, call_Bill, call_Divakar, call_version, call_plan, call_anybody, call_manager, pass_calls, call_Conf, call_caterer, call_procedure, terminate_calls, call_Evan, activate_calling, call_Server, call_setUIButtonSize, bind_call, call_details, call_agent, update_PharmaProfessionalCall, call_whom, call_Douga, call_mom, call_Viacord, recall_conversations, broker_call, call_Bob, call_broker, call_restaurant, direct_caller, hit_call, direct_calls, call_plans, provide_callers, call_Glenn, call_business, call_Desk, call_minutes, call_Communications, see_call, call_Manager, call_development, call_Q, call_folks, catch_call, call_It, call_app, call_constructor, replace_calls, call_object, support_call, call_Douglass, call_TMC, conduct_calls, call_files, call_Dan, call_President, enjoy_call, discuss_call, call_Inc, call_Execution, get_Call, include_Call, call_systems, call_both, keep_call, gimme_call, call_routers, call_other, divert_calls, call_deal, call_Grant, call_IDC, call_Lobby, call_Mike, call_Taxi, call_own, call_test, call_resort, call_product, call_SCODE, call_Walski, -ongoe_calls, sign_Calling, recall_it, access_call, do_calling, call_block, call_couple, call_server, postpone_call, call_Pearce, call_Hideki, call_GHETTO, redirect_calls, call_CJ, call_PC, call_any, call_Heidelburg, call_VITO, call_references, pass_call, call_Group, call_setElementProperties, hold_calls, call_Topics, call_Centre, recall_them, welcome_call, call_Griffin, call_Haney, create_call, handle_callers, call_renderPrompt, call_element, call_specialists, organise_call, require_call, recall_us, call_Todd, recall_range, render_calls, hang_call, call_care, call_Fernandez, drop_calls, call_voice, provision_call, call_distances, call_call, call_tools, call_Path, recall_points, call_Jorg, call_Mainline, push_call, call_project, call_names, call_management, call_a, call_Gene, call_individuals, allow_calls, call_Sun, call_META, want_calls, call_Scott, call_duty, attend_calls, call_ph, call_targets, call_phones, trace_calls, cancel_calls, call_Alice, call_director, differentiate_calls, call_co, call_Palm, call_no, call_Quaglietti, get_callback, recall_seats, call_hotels, call_JSP, call_Express, call_colleagues, call_CTO, coordinate_calls, create_callers, call_Application, call_build, use_callback, call_Partner, call_tommorow, call_Jeremy, call_HP, call_Raymond, call_Bean, call_Research, call_fee, call_MRC, call_operator, call_parties, update_Call, line_calls, recall_discussion, call_party, log_calls, call_room, call_Clapp, call_Phone, call_George, call_Organization, refile_calls, call_relative, owe_call, call_attendees, call_Geoff, call_TAS, call_man, call_auction, call_reset, join_calls, get_Calls, call_subscriptions, call_Becky, call_Banamex, call_Enel, click_Call, retry_call, call_asap, last_CALL, miss_Call, call_Servlet, verify_call, call_UPS, call_fees, call_Ruyben, call_captain, call_update, call_Kazarian, recall_history, call_Andrew, please_CALL, call_lead, call_Rossi, call_am, call_mother, call_gentleman, call_India, recall_reference, call_anything, recall_number, recall_sub, call_Pat, call_Kim, call_Cards, recall_NTT, ask_caller, establish_calls, contain_calls, delay_call, prevent_calls, call_Hotline, recall_issue, call_Shimp, call_RSVP, redirect_Calls, call_networks, call_provider, call_Shailesh, launch_calls, call_reference, call_managers, call_action, call_Heather, redirect_call, check_calls, run_call, call_Hotel, call_connector, call_brother, automate_calls, make_Call, carry_calls, call_Fontanini, demonstrate_calls, call_getAllFonts, gather_call, call_head, call_software, call_AMEX, manage_calls, eliminate_call, call_story, call_applications, email_call, establish_call, call_CFO, call_engineers, call_following, call_airlines, call_components, call_Noemi, call_Priya, call_types, call_Helen, attend_ccall, call_exodus, call_engine, call_pager, trace_call, call_carlos, answer_Call, call_ant, call_location, use_palmcall, call_boss, call_Praveen, call_Hiss, interrupt_calls, call_decision, call_Elba, finish_call, start_call, call_Kiessling, call_Prasad, call_Suzanne, call_tags, register_call, regard_calls, call_servlets, call_suit, call_developers, call_Newman, call_TEALMAGNIFY, reverse_calls, tell_callers, call_apologies, call_FONT, complete_CALL, miss_calling, call_the, call_America, call_Representative, call_Christina, recall_comment, call_analysts, call_Admin, call_Tharp, like_calls, call_ones, call_Review, call_Raj, call_woman, call_UPOC, call_spade, give_CALL, call_situations, call_pages, call_Lindsey, enable_call, call_sales, schedule_concall, echo_call, call_Dad, call_Judy, call_template, call_Amit, recall_What, call_Karas, set_Call, lose_call, call_offices, call_stack, call_prospects, contact_call, call_Kathi, wrap_call, call_up, call_Susan, call_Herb, recall_smartphones, call_Marla, start_calling, call_levels, call_Ng, call_solution, call_steve, recall_endorsement, convene_call, call_Rob, call_tune, prompt_calls, call_marissa, call_Hamilton, call_Carolyn, call_Hankey, call_P, call_YesClicked, call_headquarters, call_family, call_Line, recall_Jose, attande_call, read_Call, call_merger, call_Iyer, call_Client, call_Connections, call_control, pull_call, call_Office, call_Marriott, cancel_Call, give_phonecall, display_call, call_statements, recall_you, call_EJB, call_account, use_Call, call_threat, recall_notebooks, call_generator, see_Call, call_organizations, close_call, call_worker, receive_callback, call_Ken, call_stories, call_Us, extend_Call, call_Lists, call_data, prompt_call, call_BDUF, call_Siebel, note_Call, pick_call, call_address, call_script, appreciate_calls, call_partner, call_Marcus, open_call, go_calls, call_blockers, call_Russell, push_calls, call_locations, call_Bithi, call_Sujan, call_Infrastructure, consider_call, call_setter, call_classes, accommodate_call, call_FOMA, call_MARRIOTT, call_claim, call_david, call_Longstaffe, call_itinerary, call_Arun, call_shop, create_calls, call_acquisition, precede_call, call_members, call_cops, commit_antcall, generate_calls, call_problem, call_way, recall_problems, arrange_ccall, call_venture, call_GenCab, call_VP, initate_call, recall_Handsets, call_approach, call_chukkan, drop_call, call_routine, go_call, call_mins, call_CreateScreen, call_EVENT, recall_pounds, call_PDMA, call_net, call_Rimbault, call_exit, have_ccall, plan_calls, do_concall, call_discussion, call_agency, call_findByPrimaryKey, jump_call, call_cu, call_Salesforce, call_parents, call_position, call_Ming, cover_calls, reject_call, call_VoiceGenie, pickup_call, call_bridge, call_Andersen, log_Call, call_Commit, call_U, call_THX, call_YOU, call_Dev, recall_devices, call_Tracy, locate_calls, call_Applications, offer_Calls, call_Internet, call_machine, learn_call, call_visit, call_solutions, localise_calls, call_IBM, call_Ricardo, enable_calls, call_talks, call_DEBBIEM, issue_call, call_Club, record_PharmaProfessionalCall, generalize_call, screen_Calls, call_Sauce, call_Janie, call_interface, eliminate_callbacks, line_call, recall_Categoric, call_Meshele, miss_called, call_probelm, call_Chan, pursue_call, call_ART, call_Sales, arrange_Call, call_Ops, call_distance, call_Rebecca, call_Vigon, spawn_calls, call_Agenda, call_getAttribute, recall_wording, call_club, see_calls, call_products, conference_caller, call_makers, call_duration, call_somebody, call_himself, organize_concall, call_Amanda, call_Park, prefer_call, call_EPhone, call_doGet, conference_CALL, call_executives, recall_one, call_TEMP, harass_Calls, call_Aravinda, call_calls, offer_call, call->submitte_call, call_forecasts, call_nadir, recall_tool, call_corner, call_HUTCHISON, call_java, call_Allen, build_CALL, conference_calls, call_NoClicked, charge_calls, change_calls, show_syncAll, call_boo, call_hoo, call_CreateOrderedXDACursor, sound_Call, call_Bethoney, call_Program, call_labels, call_tenders, call_tool, call_UUNET, call_Sprint, call_Details, abstract_calls, call_Heaven, prevent_callers, call_Lewis, promise_call, call_Analyst, call_lisa, set_concalls, call_Aladdin, call_statistics, call_Mary, call_CTIA, call_sm, call_Housing, call_Developers, call_Doctor, -adde_calls, call_banks, call_Jackie, call_bug, call_AML, call_asHtml, analyze_callflows, call_Qualcomm, extend_call, call_Design, call_Landwehr, call_campaigns, call_K, call_document, present_Call, call_coordinator, call_Toshi, refer_calls, recall_practice, call_Degree, call_Simmons, call_Waiting, call_Verizon, call_work, call_Jonas, engage_Call, call_Katz, call_emergency, win_calls, call_Joel, recall_Craig, call_Bisson, call_fellow, display_calls, call_D, skip_call, call_EMAS, call_repaint, insert_NewCall, call_record, recall_funds, call_ALERT, call_dondi, call_ken, call_Nomula, mean_call, call_setItemResponse, create_Calls, submit_calls, call_branch, news.(calle_servlet, call_Delta, recall_Bears, call_Nokia, call_processes, call_getOutputStream, call_Dept, call_Len, call_JetBlue, make_concall, call_EXHIBITING, call_times, call_cupboard, call_CONSULATE, call_GOVERNOR, call_Sian, call_INFO, track_call, train_call, call_Ivette, call_Media, call_advertisers, call_Personify, call_dialog, call_facilities, call_Gisol, call_usage, service_calls, call_South, call_James, call_guide, disable_call, call_waitress, call_Mats, call_Kane, call_case, call_Toni, follow_recalls, announce_recall, call_vet, complete_calls, call_Rico, call_Erik, call_students, call_yours, recall_ads, call_Info, write_call, call_value, eliminate_calls, call_uunet, define_calls, call_ref, call_failure, call_commands, call_Neel, let_concall, head_call, carry_call, ensure_calls, call_Specialist, face_calls, call_Frost, call_error, include_calling, call_Jinmei, connect_call, call_waterhouse, recall_Amy, call_Warme, call_Oropeza, call_w, call_setEpHome, provide_callback, call_Enrico, eradicate_recall, call_XG, call_G, call_place, call_Yuyu, call_Jeannie, call_Patty, call_HTTP, call_Vijay, insert_ContactNewCall, apply_calls, call_mails, route_call, call_Fondo, call_Mexico, call_Mahon, call_Marcos, disconnect_call, have_callout, call_technology, charge_Technically, call_L, call_Ali, call_Canada, call_Nobu, call_suggestions, call_Crowder, call_Dadi, call_collector, call_taxi, forward_calls, call_E, call_Password, call_McCoy, call_few, call_Linda, call_Jimmy, call_Cohn, start_calls, call_CD, call_PDA, call_design, call_gccUnit, call_Lowe, call_progress, call_SetContext, call_Jordet, call_iBoard, call_Ritchie, call_dial, call_portal, call_REPLACE, call_ChandraSekhar, call_Grace, implement_calls, include_CallDate, call_Max, call_Schaefer, recall_activity, call_AmlException, call_deliverables, call_Pinhead, recall_life, call_Notes, -continue_calls, call_Lindsay, deal_calls, call_tab, call_Airlines, work_call, call_Carlson, make_callbacks, call_Dixon, dispatch_calls, call_much, call_Mahesh, call_Melissa, call_thinkers, call_baby, call_Pick, call_subprogram, call_vendor, recall_any, call_Muoi, call_RADVIEW, recall_moment, call_banker, call_Jsp, call_MCI, call_Mars, call_Harbison, call_reports, call_Sethi, call_GE, call_we, have_callme, call_IR, supplement_call, call_prospect, call_policy, recieve_call, download_Callwave, call_Applciation, call_peter, recall_handful, call_Neomar, call_WYDIWTG, call_nigga, call_debug, qualify_call, call_Laura, end_calls, call_ATC, signal_call, call_Bryan, call_Greg, help_Caller, call_print, call_Wang, test_call, call_doctors, call_client, call_Bruno, manualy_call, call_children, call_isAutoVScroll, call_users, call_candidates, call_Chief, call_Meltzer, call_Ravi, call_Seth, call_callback, call_SHOTGUN, call_Cochran, recall_demo, call_Marc, call_Toronto, call_Kumi, call_Dorothy, waste_call, setup_calls, call_Ralph, support_caller, call_SWIttsSpeak, call_routing, call_my, call_ambulance, call_requests, conclude_call, work_Theoritically, call_Wardzinski, launch_Calling, call_PM, call_ABODE, call_Sandra, call_DNIS, asnwere_call, call_ingersol, call_Workshop, gettin_calls, call_Dhaval, call_updateUI, call_Cearley, intro_call, recall_models, call_Home, call_Netherlands, call_Eric, call_Sharon, call_OS, call_Thoughts, call_Call, implement_callout, call_WAP, call_Martucci, call_getXXX, call_flow, call_these, call_mark, call_ray, call_days, meet_Callos, call_chunk, call_Milan, call_Rich, call_Attendees, focus_call, call_ENGINE, enable_PharmaCallSampleDropped, call_Free, call_ATM, call_result, call_applet, call_God, recall_request, recall_mention, trigger_call, call_love, call_partners, call_Poe, call_initnames, call_dentist, call_Troi, call_NAME, call_projects, promise_callers, call_MPLANET, call_Canon, call_frame, work_Call, call_lists, call_alerts, call_HER, call_haste, call_homes, seek_CALLCENTERYELLOWPAGES, screen_call, call_Alex, cap_call, call_getConnection, call_tracking, catch_calls, call_FedEx, have_callers, call_Dir, manage_callflow, call_Schemena, call_Samir, call_years, miss_Calls, call_Travel, recall_days, call_vendors, call_Schumaker, call_accounts, call_Leo, call_candidate, call_Ramon, call_Bhagavan, call_Amitabh, call_activities, call_screens, call_consistency, call_Carey, call_Owens, call_AJAY, call_technologies, call_Whatever, recall_Easter, call_tests, call_Automart, call_Pickett, call_Sri, call_JSC, generate_call, call_Daniel, call_airline, call_writer, call_businesses, call_Srikumar, prioritize_calls, recall_details, call_dude, call_FindByPrimaryKey, call_investment, call_Blvd, write_calls, call_API, visit_Call, call_rita, call_Ed, call_Asia, call_second, resist_calls, call_Kaiser, call_Brad, prompt_caller, call_ejbLoad, call_instance, call_isModified, call_ejbActivate, call_EY, call_Jaigak, call_Agreement, call_CATS, call_marquise, call_Lubis, call_Donna, call_site, know_call, call_Jon, call_Brian, call_book, call_TAC, call_library, call_Bart, call_tommorrow, call_Diana, call_srinath, call_Dylan, call_Juniper, post_call, recall_button, call_Callaway, call_configurationReader, call_plays, call_bluff, reach_calls, call_CTE, call_ideas, remake_call, follow_Calls, call_re, call_counsel, call_TSE, call_traffic, position_call, call_Zeenat, fix_callback, call_publications, call_regards, recall_study, call_Karsten, recommend_call, call_Razorfish, setup_concall, call_point, call_doug, show_call, call_Kumar, call_Alpine, call_Weil, call_clashes, call_AEs, call_beans, call_platform, call_Alerts, call_Fax, call_of, call_Valley, call_faults, recall_strollers, call_Accenture, call_AM, call_daylight, call_Hung, call_Premium, switch_call, call_Kerry, find_Call, call_Schwab, call_isCurrentDirection, distinguish_calls, call_Services, recall_DoCoMo, recall_password, call_cd, call_Chernaskey, secure_call, call_Rajiv, have_calling, call_Press, call_morn, need_callbacks, call_engineer, call_APIs, diret_call, call_Exodus, servletstate.callservice(compile_Code, recall_parameters, call_Specialists, call_LaVois, call_syntax, call_bankers, call_Executive, call_Elise, call_Edgar, recall_wedding, say_call, recall_instances, call_Query, recall_run, call_Larissa, use_CallableStatement, sell_calls, integrate_calling, call_PELORUS, call_Esssex, call_OPTIONS, call_woburn, recall_amount, call_Ann, call_SetPreviewHtml, call_DiMaggio, call_Krista, insert_calls, call_Kushi, call_must, call_roll, call_colleague, call_rain, modify_callflow, call_mobiles, understand_callflow, call_module, suggest_concall, call_McKelvey, host_Call, call_Profiling, call_UHAUL, call_dog, make_Calls, call_setBuffer, call_WGS, call_Platform, call_Ramesh, recall_game, call_Crumb, bang_calls, call_Hosting, call_Investment, call_research, recall_decision, call_leaf, call_vibrator, help_Call, call_BLOCK, make_callback, bring_caller, call_raj, call_De, call_moms, call_Lapham, call_DSL, call_Folder, select_Call, bridige_call, finish_concall, recall_thoughts, call_elem, call_l, call_downing, setup_ccall, call_tragedy, call_Helpers, launch_Call, call_whoever, recall_Parliament, call_Colombia, call_mehrak, call_ups, necessitate_call, call_tenants, call_Debra, call_india, recall_flight, call_defiance, call_Garret, call_Bolton, call_VISA, call_ADI, call_display, sprinkle_calls, call_food, call_Burton, call_Merridon, call_MemoryImageSource, explain_call, call_finalizers, recall_notes, call_Julianna, call_Clara, hire_McCallum, recall_playing, recall_which, call_getInt, call_Schema, execute_WaitForCall, call_Powell, manage_Calls, call_hen, call_Priorities, call_Sign, call_Fortunata, forward_caller, call_andy, call_Westcorp, call_ET, call_handler, call_report, call_Environment, call_jseSetAttributes, call_Skytel, call_Professional, call_items, call_everything, call_Brongiel, describe_Call, call_Chawla, describe_call, recall_critique, apply_CALLS, call_BIll, call_fort, call_Cindy, call_Relations, call_UAL, call_optimizations, recall_examples, migrate_calls, call_Sergeant, call_Abinov, call_boat, call_Atkins, follow_concall, call_Doug, call_sinitthread, call_FieldToVector, recall_me, delay_Call, call_halt, call_UW, offer_Calling, call_Peterson, call_Danne, call_setStatus, call_lab, limit_calls, call_demo, call_Andrey, recall_volunteering, call_difference, call_Margulies, call_editor, call_Ria, call_viruses, call_Thompson, call_directives, call_Legacy, call_Monitor, call_Mobilocity, call_base, call_Oboyle, call_Sina, call_Architect, call_those, show_calls, call_camera, call_tape, call_Kimberly, call_Derek, call_MS, call_duplication, call_tech, call_Picket, call_System, call_amir, call_OpenAir, call_Interface, call_Puglia, know_calligraphy, call_mtgs, call_rollout, call_Papi, call_Tibco, compare_calls, call_papi, recall_Malik, call_Zimmerman, call_framework, return_Oncall, verify_Oncall, call_gerry, recall_item, have_calliNg, call_Coleman, call_mix, call_RaviK, gemme_call, call_Susie, call_ExtraAttribsDlg, call_activity, include_CALL, call_Joey, call_Language, recall_encounter, call_Joyce, call_sleep, call_Madhu, call_UMTS, call_review, result_call, call_gurus, call_shell, hirata)calle_Weston, recall_wall, call_OFC, call_Adapter, support_calling, tape_calls, call_Corio, call_getFoo, stop_calls, call_sheila, call_Wants, recall_loading, call_getVariable, call_dogs, call_believers, call_lookups, call_measure, call_Zawel, call_Diercks, call_arun, call_Subhash, call_fact, call_Milpitas, call_monetizing, callback_code, orchestrate_call, call_waiter, recall_suggestions, launch_call, call_NaiXun, call_Doerr, recall_times, integrate_calls, call_yolu, recall_FedEx, call_fans, call_tailor, call_srik, call_mainline, call_getConsoleMessages, call_Boloni, call_spot, call_Levine, call_createCabFile, call_message, believe_calls, call_Rayhan, expect_recall, call_Marilyn, call_InitializeBuiltInVariables, call_InitGlobalPrototype, call_Telecharge, call_studios, call_Gardner, call_Bonetti, recall_leads, call_Raju, call_Emma, call_market, call_change, call_shakeup, call_Romanski, call_sequence, call_Faul, tell_call, call_win, call_type, call_organization, call_database, fix_concall, call_heck, call_Argus, call_groomer, launch_OnCallData, trade_calls, call_Michaels, rec'd_call, recall_conflict, obtain_call, call_tum, strategize_call, call_Jeanette, call_Jasmina, call_terms, call_path, call_liquidators, call_d, call_bastard, call_Channel, call_Nilesh, elevate_calls, recall_presentation, wake_calls, recall_occasions, call_XP, call_Shabel, call_lee, call_AvantGo, call_Chees, add_callback, use_Calls, call_pilot, call_elements, call_Karna, call_student, call_Candeloria, call_xp, call_RAFT, call_Ernie, interview_call, recall_PCs, call_integration, please_call, call_Corvette, release_call, call_experts, call_karna, inturn_call, call_Sender, exclude_calls, call_Steven, call_Tue, call_OneBox, involve_call, call_Sciences, call_BLACK, call_Unify, call_Santana, revert_calls, call_etrieve, call_prakash, announce_call, capture_calls, call_Tapan, call_displays, call_reqs, recall_reps, grab_call, call_Levels, charge_call, host_ccalls, call_protections, call_acquaintance, call_theory, keep_callin, host_calls, calle_me, call_Thomas, call_Moreno, call_turkey, explain_calls, call_fillPolygon, call_ramu, recall_anyone, call_dad, deliver_callers, call_phase, call_Alessio, call_owners, call_security, call_ban, forecast_call, call_Raam, GLITCH_CALLS, call_Marketing, call_McKinney, call_Giselle, call_Scooter, call_picture, call_poles, call_field, call_san, call_Software, call_Lee, call_first, call_Chancellor, call_himon, call_Fernand, call_States, call_Markus, call_Luftansia, call_Editors, call_jackass, call_jackasses, call_Jackass, call_ursula, call_Plesha, call_BeanA, invoke_calls, call_sections, can't_CALL, call_assignID, call_event, call_WebEx, call_PhotoDisc, call_destructor, call_hans, call_Utility, call_APX, recall_him, keep_calls, recall_dates, call_Meta, call_war, divide_calls, call_WHAT, call_course, call_mtg, call_Lau, call_Worldcom, call_Fedex, call_Vinay, call_Binu, call_MGM, call_jon, call_CGEY, recall_STD, call_bishop, recall_years, call_Sebastiano, monitor_call, call_finders, service_call, call_pool, call_Camarota, call_Hotspot, call_Harriet, call_Sally, call_mexico, call_ARTS, call_addStepToCollection, call_vars, call_HOSPITALS, call_Hospital, leverage_calls, talk_call, call_Thousands, advertise_call, encompass_calls, call_Procedure, call_Obrien, call_Hwang, compare_Call, attend_Call, call_Anderson, call_Roth, call_lady, miss_caller, call_Neil, call_programmer, call_Barton, call_DEVELOPERS, call_manufacturer, call_THAT, call_Vero, form_call, call_Yanke, have_Call, call_getRBG, call_Kelsey, call_append, call_AIM, call_Pages, call_Moore, call_TOLL, call_String, call_Resort, call_cellular, regulate_calls, manage_call, call_delight, call_templates, handle_callbacks, call_Darayush, call_Marshall, call_Rogers, call_Motorola, call_Singh, call_donna, call_EarthWeb, call_escargot, call_power, call_Contacts, call_Activities, recall_faces, call_Ian, call_Cheese, call_JavaScript, recall_FVCX, call_schemes, call_Numbering, displace_calls, call_transfer, call_JR, call_maximum, recall_disarray, call_Jamie, call_USBX, call_unloadAll, call_revolution, call_RNW, call_tradeshop, call_church, call_professional, call_fouls, run_calls, implement_call, hit_Call, stop_Calls, convert_calls, recall_idea, call_go, comment_calls, call_points, call_Minutes, invite_calls, alleviate_calls, call_Refresh, stop_call, call_Wicharz, call_Meyer, call_logout, call_Conversations, call_item, call_local, call_Fusion, call_microchip, call_Alverson, call_Operations, recall_contact, call_counting, price_Call, call_Diwakar, call_store, got_call, leave_caller, call_JseLibraryFunction, call_Parente, call_Elizabeth, advertise_CALL, call_retailing, call_Registry, recall_effort, call_fleet, deliver_calls, call_Phillip, call_need, call_Subject, shoot_call, highlight_calls, imagine_calling, call_RefreshParser, call_EA, call_yuyu, call_STAPLES, call_Vino, call_biatch, call_Wes, call_logs, call_United, name_callers, call_Werner, find_calls, recall_Woebegon, call_Linux, call_BANK, call_getCookies, call_getName, call_getValue, replace_call, call_music, enjoy_calling, call_profiler, recall_enhancements, call_santhya, call_Onsubmit, call_Zone, call_Muslim, call_computer, call_objects, encapsulate_call, call_Travis, call_processState, call_subscribers, call_ma, call_Smith, call_MAGIC, review_calls, call_Mkt, call_Bishop, scheduel_call, call_concept, call_rink, call_Milano, avoid_CALL, call_protocol, mind_call, call_HDR, call_Array, call_searchTypeList, call_handlers, call_himm, call_Abraham, call_NOTICE, call_authorities, call_Roxin, shedule_call, reroute_calls, wake_call, prevent_call, pursue_calls, call_EVS, embed_calls, call_PDT, call_Spooner, call_ceo, call_Roy, recall_Ericsson, call_dials, call_Merrimac, call_counterpart, call_Dell, call_Find, call_press, call_MobileVillage, use_callout, collect_calls, call_others, recall_error, call_Mascom, call_weeks, call_Arya, concall_you, recall_both, lookup_call, reinstitute_Call, call_Tucker, prompt_callers, call_Gould, recall_Office, recall_messages, call_ia, call_INgrid, call_min, recall_job, call_Sundar, call_programmers, call_Space, call_Entel, call_analysis, call_isInvalid, call_Harry, recall_fiasco, call_architects, recall_forecasts, expand_call, sue_Calls, call_TellMe, call_frequency, call_Computers, call_sale, call_Taxes, call_premiums, call_Leslie, call_admins, call_Simon, submit_Calls, call_Pandey, call_secretaries, call_secretary, call_recipient, call_recovery, call_Lipowski, call_Alicia, call_form, call_Bhatt, call_average, allow_Calls, call_father, call_Al, call_EIG, recall_offhand, recall_explanation, call_Tudor, recall_price, call_Display, call_Garcia, call_Malcolm, reschedule_Call, call_Grigori, call_getParser, call_Something, call_agreement, call_Wendy, call_Bruce, call_Priscilla, follow_Call, delete_Call, call_ME, call_GOP, call_InvoiceAmount, do_callbacks, call_Robin, int_call, reflect_call, call_Forum, call_Development, disconnect_calls, recall_birthright, call_Engineers, call_girls, call_his, call_Calvin, call_board, use_TestCaller, call_Burgess, call_MarketFirst, call_fella, suspend_call, recieve_calls, serve_calls, call_Courtyard, note_CALL, call_Westover, call_Ahmed, call_Amado, call_Parker, call_Cathie, call_scott, call_McCall, recall_era, call_PTS, call_popup, call_Bernard, call_fence, call_Day, call_kyle, call_afternnon, call_evaluating, call_background, time_calls, recall_lookup, call_many, call_discrepancy, call_participants, call_WESERVE, call_PR, try_Call, call_salesguy, delight_callers, call_Laporte, treat_calls, call_Handcuffs, process_call, call_women, call_usher, call_fields, call_Beans, call_goodbye, call_Cuyler, propose_Calls, call_Stella, call_reg, affect_calls, call_Air, call_pointer, call_Manjiv, call_gift, call_apps, call_Quinter, call_Stair, call_Coffee, have_Calls, call_sweetheart, call_Deal, call_Burst, call_Larry, call_date, call_travel, update_call, recall_date, call_CMC, call_wierd, call_STING, call_slowdown, call_growth, call_IRS, call_CRUE, call_Committee, call_COUNTING, rig_call, call_pound, recall_landscapes, call_Cook, call_Tanesha, call_Federer, place_recall, call_Sent, call_Tulloch, call_JM, inititate_call, call_Krishna, call_Leeds, transport_calls, call_CobraServ, call_Padmanabhan, originate_call, call_Custer, call_MyApplication, call_Debrea, call_Oberle, call_discussions, call_tom, call_Handspring, close_calls, call_Suck, call_hundreds, move_calls, call_Constructor, call_Monica, recall_Frost, left_call, recall_deal, call_Laff, call_electrician, call_Spivak, call_setModel, call_Juno, call_libraries, call_fuck, call_All, call_Acker, call_Raquel, call_Cohen, call_Pamar, call_SelectDevice, call_checkXML, call_Akshay, call_dads, incorporate_Calls, call_gathering, meet_call, give_acall, call_JavaBean, join_PassCall, PST_call, call_cells, call_Donoghue, squeeze_call, visit_callings, call_viagra, call_Henshaw, call_editors, call_writing, call_Consultant, call_Staib, call_principle, drive_calls, call_Nurse, call_gardner, call_option, call_procedures, move_ccall, call_M, call_ABUSE, call_CnC, call_Rick, call_Jens, call_pal, call_Linderman, call_queries, recall_lessions, call_TIKS, call_Perry, call_question, call_debugger, call_Policy, call_fax, call_Compubank, call_Banner, call_Dean, call_Cheng, call_Geri, call_Berber, call_linda, call_step, say_Caller, call_Pio, call_Julie, call_bureau, call_Porsche, call_HelpLine, call_Omnisky, call_Snickers, call_Gloria, do_Call, call_Etrade, call_CIO, call_Stephanie, have_confcall, nest_calls, call_Enterprise, escape_recall, gibe_call, call_Gemini, call_getFieldValue, call_Isroff, call_Vicente, call_Joachim, call_ANITA, call_Imhoff, call_setBoundingRect, call_adviser, call_text, welcome_calls, need_caller, round_calls, call_Lueth, received_call, call_jyoti, call_GetLength, accompany_call, call_THEM, call_Ba, call_structure, call_Mosque, call_results, recall_units, call_Ph, call_payment, call_openwave, sell_call, call_Washington, call_addEntry, call_Wireless, call_Boy, call_VAR, call_Graubart, call_Rohit, call_Nico, recall_vendors, recall_steps, feed_calls, call_Boulter, appoint_McAllister, call_Gupta, call_passing, call_hospital, call_handyphone, reschedule_calls, call_CodingStyle, recall_month, call_attribute, call_clerk, call_performances, call_gentlemen, call_Miyuki, call_reservations, call_Protocol, swamp_call, call_newsletter, call_yiu, call_GregorianCalendar, call_Larsen, call_Marcie, call_idnames, call_ChannelWave, speak_calls, call_membership, call_PlaceWare, lose_calls, call_Shopping, view_calls, anticipate_call, call_Engineer, invoke_call, render_CALLS, call_borrowers, call_Procedures, call_pepes, call_AE, call_DSC, call_TiE, call_Kinnion, call_wireless, hear_Call, call_countries, call_Caller, call_Gumm, call_surgeries, call_indicators, call_p, call_PassCode, call_reasons, call_Lonnie, call_resources, call_luck, call_back, touch_calls, recall_email, call_Fortney, call_waiting, call_HOA, call_rancher, call_Heller, call_Donnelly, call_delete, call_rumours, recall_Batteries, recall_batteries, call_HIM, call_RE, learn_Call, cancle_call, test_NewCall, quit_callin, call_Jacqui, call_Timeouts, call_Ticketmaster, recall_focus, call_Stinger, call_weblogic, cut_callers, support_callers, call_suite, call_john, enusre_call, think_calls, call_aryans, call_Objects, call_Maribel, call_Marie, return_InputCallback, call_CELLPHONE, recall_Salesforce, call_player, call_schmoe, call_Himmat, call_clients, call_hospitals, call_hotlines, call_Conn, call_most, call_Patel, call_R, illcall_you, restart_call, call_scanner, refuse_CALL, call_Westbrook, know_Call, call_Adams, call_g, make_ctcallreports, call_PHONE, call_payroll, call_voicemail, call_Harper, accomodate_call, call_hope, call_Darshen, call_setPacketState, call_ACE, call_HeyAnita, call_layer, recall_medicines, sponsor_calls, call_BERRY, recall_agreement, call_offspring, recall_application, recall_millions, make_CALLS, call_Metricom, allow_callers, call_network, call_Conference, get_calling, free_calling, own_firstcall, call_University, call_Atmosphere, call_Pelan, call_idx, call_Vik, review_call, recall_discussions, provide_callout, call_hit, call_reporters, call_Rose, recall_TOKYO, call_BOINGO, call_maintenance, understand_REALISTICALLY, call_etc, call_Dalzell, call_fail, call_Guy, call_Broadband, call_EJBs, call_Rates, call_TaxAmount, call_King, call_funding, call_StanCorp, call_lot, call_Dara, call_RNF, call_technique, call_something, call_Michelle, call_Warren, call_courier, call_TRAVELOCITY, provide_calling, feel_call, call_Customer, call_Affairs, ycalle_you, call_Kristin, revise_call, call_Globe, call_setters, |please_CALL, call_ANS, call_Jerry, call_see, call_balances, call_dispatch, call_Johnson, have_caller, call_Earthlink, call_WorldCom, call_passcode, call_EQUAL, have_Caller, mute_caller, require_calling, edit_call, arrage_call, call_PNC, end_Calls, call_getitsm, call_hunter, call_Darlene, call_asst, setup_Call, use_PharmaCallProductsDetailedBiogen, recall_environment, call_Reference, call_CIComputePosition, leak_call, call_MCs, call_testplan, call_Zelinsky, call_Paul, call_Marlene, call_features, call_sender, call_collaboration, execute_call, call_Plzak, call_nothing, call_Fong, call_YadaYada, call_repudiation, call_Forringer, call_reporter, whoiitiate_call, call_Carter, call_Fidelity, decrease_calls, call_Quits, take_Metrocall, call_administrator, call_Shannon, hook_call, recommend_calls, recall_others, call_Fries, call_Anritsu, call_guru, call_CENTER, call_joyce, call_currentPEHF, call_Dashiell, call_Logan, call_Novell, call_Samolis, reply_call, call_station, call_AT, call_xTest, commit_call, call_centre, remove_calling, call_Dial, call_Anthony, call_Rowena, call_Rodrigues, call_West, call_Kevin, call_Web, call_Kisken, call_hours, call_ASAP, call_comair, call_removeAllElements, call_COLORADO, call_Matthew, call_Brauner, call_order, call_Ashish, call_BK, call_Sheraton, include_Calling, edit_calls, call_COUPLE, call_VII, call_balls, call_pitches, call_shopping, call_font, call_Heidi, call_nos, call_level, call_Novatell, recall_hearing, call_McDonald, call_plumber, call_kettle, call_Hess, call_sendRedirect, call_trip, call_guests, fulfill_callings, recall_much, call_transactions, dispel_Call, call_Institute, call_access, call_selling, call_DM, call_JSPs, call_domains, call_funciton, call_Priority, create_Historically, describe_Specifically, call_This, call_Les, call_street, call_child, call_cheers, call_Payne, call_Overview, call_Zaremba, call_Piazza, call_experience, have_phonecall, call_Restaurant, attach_call, call_TestRunner, call_SUBSCRIBE, discuss_Call, call_Pharris, call_Satya, call_sensitivity, call_McGurl, call_Marcia, call_coastguards, call_Gonzales, call_Swanson, call_GTE, call_ejbs, call_McEuen, call_Agent, base_call, call_Stammer, recall_advice, call_everybody, call_Tran, call_Jorge, call_Meher, call_BANG, call_LADY, call_WOE, call_MEUP, call_renderForm, call_DOPE, call_Culvyhouse, call_logger, call_toaday, call_LaPorte, call_NUMBER, call_passengers, call_day, call_coach, learn_calls, recall_spec, hire_Callison, call_Duckett, call_Puorto, call_utilities, call_Annette, call_tiers, call_foo, call_abiut, facilitate_call, call_sendmail, call_assurance, call_encoding, hit_calling, experience_recall, recall_Infrastructure, force_recalls, call_logo, recall_Director, call_Channelwave, recall_Mobile, recall_Nokia, call_DMs, clarify_calls, call_cupids, call_Time, call_Switchboard, buy_Metrocall, advise_callers, call_Lloyd, call_getParameter, call_start, organize_calls, call_peer, call_mona, call_men, call_Dutra, call_Buhr, recall_Tony, call_Moody, call_datasafe, call_ron, call_packages, call_aggregators, call_gateways, call_GoAmerica, call_out, call_artist, call_sujan, call_seperation, call_MYGC, include_MarginCall, take_calling, call_kanwar, call_Krisha, schedule_confcall, call_EVERYONE, call_Pronto, call_setObjectName, call_MacCormick, call_Winston, call_iyer, call_Wolff, call_Looksmart, recall_texts, call_comforts, firm_call, call_stream, recall_toys, call_Squeeze, issue_Call, attach_Calls, call_AAA, call_Wallmart, call_weekend, call_getText, call_Hoovers, recall_generation, call_Cruise, call_Lebovic, pay_calls, call_Teece, call_Spruance, call_circumstances, call_Fans, call_Silverton, call_drink, call_Failures, recall_anything, deliver_call, call_Kalaspudi, call_turn, call_comparison, call_scores, call_Finalizes, call_Shaw, escallate_this, call_Book, call_periumma, get_callgraph, trust_calls, bring_Call, call_barrier, call_Kuhn, call_Stuff, call_engieer, abandon_calls, call_IVR, call_qa, call_Nora, call_openStream, call_praise, call_ysterday, recall_situation, recall_packet, call_assistance, specify_call, call_insurance, change_Call, call_MIke, call_Mom, call_logistics, call_box, call_Mehrak, call_wcom, call_Greenberg, call_Clearwater, forget_call, call_Pakis, attach_Call, call_Savage, call_schedules, call_Message, call_works, call_Lori, call_Laurent, call_Erica, call_Engstrom, call_medium, call_histories, use_ccall, call_issue, call_ParAvion, call_car, call_KalaDarshan, enter_call, call_recruiter, call_deshield, call_SYBASE, call_F, call_PALM, call_Perusina, call_Hell, call_son, call_KT, leave_McCallister, call_parameters, refactor_call, call_vote, call_Satan, swing_call, call_facility, call_Bayer, call_Resttepo, fuck_call, call_oevr, broadcast_call, call_getter, hand_call, call_delegation, call_brett, insert_Call, call_guidance, call_i, call_PQA, call_Nona, call_Clark, struct_EnumerationCallback, call_Lindfield, call_Donny, call_subpages, get_ELECTRONICALLY, call_joel, recall_promise, concern_call, fulfill_calls, call_Liz, call_school, call_carte, call_BRIENCE, encode_callbacks, recall_ad, call_Representatives, call_Facilities, call_Alyssa, call_routines, call_Colleen, call_Stellcom, call_InitToolBarButtons, call_Binoy, call_languages, call_target, win_call, call_Goff, swtich_call, call_either, call_OACCA, call_setParameterText, return_Funcall, call_Picture, call_switchboard, call_mocks, deflect_calls, involve_calls, recall_moves, call_newspapers, play_call, call_Yahoo, call_STORIES, call_Stories, call_leads, call_Vyas, call_Juan, call_em, call_Kirsten, call_EJBean, call_mos, call_agencies, call_Lata, call_Son, call_Williams, call_Boost, call_Linupy, call_Rep, call_Basex, call_Darcy, recall_some, call_Sachs, call_munns, call_DMZPIX, call_Yankoskie, help_calls, call_views, call_StoredProcedure, call_Tower, call_Vacations, use_prepareCall, call_same, attempt_call, help_recall, check_call, control_calls, call_lines, hire_Callie, recall_ABCDs, call_Pechtel, call_eve, recall_term, perform_calls, call_callers, mptravels@im.eth.net.calle_passouts, call_generation, call_Amrin, call_view, call_strategy, call_Cox, |reture_CALL, call_Syamala, call_trainers, call_OFFICE, fix_call, call_Dynegy, call_options, accommodate_calls, call_families, call_nanny, call_offerings, call_Shukla, ignore_call, recall_context, confine_calls, call_multipliers, recall_stream, offer_calling, unveil_calling, quash_calling, ensure_call, call_Cameron, call_rack, call_Shot, call_distribution, call_surrendra, call_history, call_perform, call_Domain, call_invokeTag, call_VPN, call_BREW, improve_callflow, call_Lacik, call_AC, call_Life, tell_caller, call_Laverne, call_cookbook, call_cop, instruct_caller, call_Estill, time_call, recall_complications, call_moveForward, call_ORDER, call_insert, call_Shields, call_Spike, know_calling, call_lightwave, name_Callahan, call_cartoons, call_Baradari, call_mgr, need_Call, call_Forsberg, call_Monitoring, call_foundations, call_Girl, call_phil, recall_Fred, calculate_calls, call_Treo, call_Departmnet, call_PayStar, call_VServlet, call_desire, call_helpdesk, call_Oconnell, escalate_call, call_exceptions, void_doStuffDynamically, call_helicopters, call_AMs, call_Paula, recvd_call, wha't_call, call_Kolla, call_Martin, call_wrath, call_Continental, call_dope, recall_where, call_Cathy, call_Law, call_Mahiar, call_idea, call_ACN, call_Ex, call_user, contact_me\""
      ]
     },
     "execution_count": 51,
     "metadata": {},
     "output_type": "execute_result"
    }
   ],
   "source": [
    "pairs_call = df_grouped.iloc[1]['action_object_pairs']\n",
    "pairs_call"
   ]
  },
  {
   "cell_type": "code",
   "execution_count": null,
   "metadata": {},
   "outputs": [
    {
     "name": "stderr",
     "output_type": "stream",
     "text": [
      "100%|██████████| 632254/632254 [00:19<00:00, 32695.74it/s]\n"
     ]
    },
    {
     "name": "stdout",
     "output_type": "stream",
     "text": [
      "Intent DF shape: (54316, 19); Remaining DF shape: (596807, 19)\n"
     ]
    }
   ],
   "source": [
    "df_call, df_remaining = split_dataframes(df_remaining,pairs_call)\n",
    "print(f'Intent DF shape: {df_call.shape}; Remaining DF shape: {df_remaining.shape}')"
   ]
  },
  {
   "cell_type": "markdown",
   "metadata": {},
   "source": [
    "##### Help DF"
   ]
  },
  {
   "cell_type": "code",
   "execution_count": 53,
   "metadata": {},
   "outputs": [
    {
     "data": {
      "text/plain": [
       "'have_questions, need_help, have_question, need_HELP, have_QUESTIONS, need_Help, have_Question, have_Questions, need_helps, have_questionnaire, need_helpone, have_problems, help_you, help_me, help_us, appreciate_help, get_help, help_them, help_yourself, help_AvocadoIT, offer_help, help_others, help_him, help_lot, use_help, help_those, help_executives, want_help, provide_help, help_companies, have_help, help_that, contact_Helpdesk, help_yourselves, help_customers, help_her, take_help, help_progress, check_Help, help_business, help_team, help_company, help_other, help_Schramm, give_help, help_Advertising, help_Desk, help_students, help_people, receive_help, visit_Help, help_services, help_deal, ask_help, help_self, like_help, help_QA, help_redevelopment, help_much, help_users, help_process, help_Accenture, request_help, help_guys, help_customer, help_IDC, help_Tel, help_it, find_help, require_help, help_Regards, help_organization, help_which, enlist_help, help_law, help_Jose, get_Help, help_efforts, help_everyone, help_cities, help_families, help_developers, help_app, help_one, help_environment, help_sales, help_management, help_themselves, help_Thanx, seek_help, help_docs, help_effort, help_tools, help_Peter, hope_help, help_businesses, help_bit, help_round, help_pick, help_system, help_situation, help_someone, help_files, help_members, help_what, help_US, help_Werner, help_issues, help_Rajeev, help_some, assist_Help, help_bugs, help_Wire, help_clients, help_cause, help_Arun, help_victims, help_folks, help_AE, help_Street, help_carriers, help_AETH, help_workers, help_any, help_John, visit_help, help_group, help_understanding, help_line, solicit_help, help_sharon, create_help, help_Doug, help_Donivan, help_Chan, help_IBM, help_enterprise, help_Ray, help_providers, use_helpdesk, help_Hope, help_support, help_Matt, help_ergonomics, help_Feedback, help_server, help_person, help_Baca, select_Help, help_developer, lead_help, help_Laporte, extend_help, help_desk, help_myself, help_Miyuki, help_testing, help_user, help_both, help_shape, help_setup, help_design, help_centers, help_development, help_load, help_Dondi, help_u, acknowledge_help, help_project, help_Amit, expect_help, include_help, submit_help, bring_help, help_buttons, help_Emile, help_friends, help_SkyGo, have_Help, help_problem, help_things, help_Devi, see_Help, help_Team, help_more, help_anyone, unsubscribe_HELP, help_mailto, use_Help, consider_help, help_goals, help_Canuel, w/_help, help_Ricardo, help_Chad, help_representatives, display_help, help_Richard, help_Infrastructure, help_corporations, help_w, help_Nilesh, help_force, help_input, help_operators, help_test, help_transactions, help_this, helpam_Prakash, help_Jimmy, help_thousands, help_Nora, help_servers, help_groups, help_Portal, help_up, help_staff, help_stock, help_work, help_school, help_each, help_Wilhan, help_document, help_applications, help_Rayhan, help_risk, help_time, help_de, help_credibility, help_Japan, help_Venk, email_HELP, help_market, help_man, help_SAP, help_Sounds, help_Helen, help_Click, help_Director, add_help, help_all, help_marketers, help_programmers, help_thoughts, help_GMT, help_pill, help_who, help_kyocera, welcome_help, help_David, help_brother, help_IT, help_transition, help_Janie, help_Business, help_partners, help_srik, help_etc, help_topics, join_Help, help_doctors, help_Sharon, help_employees, help_You, help_Hung, help_France, help_peers, help_friend, help_passengers, help_review, help_vinayak, help_morale, help_manufacturers, help_Debbie, help_Edward, help_children, help_documentation, help_Office, request_Helpdesk, help_Vans, help_Roopak, help_step, help_Schedule, help_Srik, help_Hilton, help_regards, help_Ty, love_help, help_Message, help_device, help_mail, help_Mike, help_opportunities, involve_help, help_systems, help_West, help_Motorola, unsubscribe_help, help_daughter, help_Policy, help_parents, help_sleep, help_functionality, help_Ron, help_goal, help_purchase, help_refinance, help_concern, help_Ravi, help_Nokia, help_Germana, help_charities, help_Jacinda, help_Kelsey, complete_help, help_ourselves, help_evolution, transform_Help, request_helpdesk, help_Jon, help_Yuyu, help_Joe, help_workforce, help_decisions, help_Advertise, help_xml, notify_helpdesk, help_country, help_requirements, help_d, help_Maersk, help_Amy, help_Dave, help_teams, help_training, help_Carlos, help_Documentation, help_deals, write_help, help_way, help_partner, help_thing, help_content, appriciate_help, help_Default, help_VP, help_Chapman, help_Toni, help_ups, help_position, help_types, help_TSPs, support_help, help_Work, help_Rosh, help_event, help_Restrepo, deliver_help, help_E, help_procedure, help_Elba, telephone_Helpdesk, help_Senior, volunteer_help, help_Bithi, use_RoboHelp, help_Glenn, help_Brian, help_Piyush, look_help, put_help, help_host, help_Who, help_Dan, help_Mark, help_everybody, help_Nihar, help_Demo, help_problems, help_Nigeria, update_help, help_productivity, help_Professionals, help_planners, help_Subject, help_sites, help_Sreenivas, help_task, help_individual, help_designer, help_Mitch, help_Vivek, help_Craig, help_experienced, help_talk, help_Jin, help_volunteer, help_WAP, help_Coordinator, help_e, help_plans, help_lots, help_FFE, try_help, help_performance, help_child, help_Sun, click_Help, help_DOC, help_Prakash, review_Help, help_Services, help_Andy, help_out, help_desks, help_industry, help_Fax, help_field, help_EP, help_yuyu, help_Ops, help_Users, help_digress, help_professionals, help_airports, help_Memory, help_ease, summon_help, help_Kavitha, help_component, help_Host, help_results, help_Founder, help_Himmat, help_Inspiration, help_Developers, help_enterprises, help_Those, add_Help, help_startup, help_victim, help_Rajdeep, help_Operations, help_Materials, help_solutions, help_Networks, help_proof, make_help, help_enforcement, help_issue, help_Finnair, go_help, help_Tony, help_Testing, help_Siebel, arrange_help, launch_Help, help_TI, help_Alerts, help_ritesh, help_coworkers, help_lobby, help_frame, help_news, help_a, help_foods, help_overview, help_Concerns, help_Number, make_Help, quantify_help, help_commuters, help_needs, help_yo, help_Search, help_Clara, help_sizing, help_reps, help_German, help_Name, help_re, help_Tests, help_cu, help_sinners, help_competitor, help_Field, help_budget, help_ones, help_arun, help_SIS, help_PROBLEMS, state_help, help_costs, help_Amin, help_Ability, help_coorindate, help_resellers, ask_helpdesk, help_search, help_functions, help_grasshopper, help_KPN, help_buttion, help_salespeople, help_rest, help_plan, help_HP, help_nothing, help_exploration, help_filing, help_Site, help_tracking, help_guy, help_Cisco, help_PS, help_Collaboration, help_Network, help_blind, help_NTT, help_Review, help_profitability, help_move, route_help, help_Braganza, close_Help, know_help, help_status, help_execution, plan_help, help_arm, help_flourish, help_guard, help_campaign, save_help, help_Test, ask_Helpdesk, help_U, ne_help, help_babies, help_Dadi, help_career, help_OrderName, help_Terms, help_san, set_Help, help_prices, help_number, help_chances, finish_help, help_network, help_Headlines, help_Newswire, help_catalogue, help_Nasdaq, help_iota, help_Eisenhower, help_tips, help_Calient, express_helplessness, help_Silverton, help_agencies, localize_help, help_Navitaire, help_track, help_tool, help_makers, help_Grant, help_strategy, help_consumers, help_Hackers, help_crew, help_individuals, help_rm, help_database, help_Daisy, help_gatherings, help_personnel, help_ray, have_RoboHelp, endorse_help, help_function, help_Mexico, help_Archive, help_participants, help_breath, accept_help, update_HELP, help_Whatever, help_schools, train_Help, help_day, help_clarity, help_institutions, help_old, help_loads, help_Airlines, help_separation, help_maintenance, help_Dad, bill_help, help_Srilatha, help_projects, help_brand, help_Uli, help_Darshan, help_eachother, help_anybody, help_software, provide_Help, help_facts, help_scheme, help_somebody, help_items, help_kids, help_standard, help_fr, help_email, help_Parnian, help_Bhagavan, help_facility, help_hours, help_details, use_HELP, help_Tom, establish_HELP, help_Beneficiary, negotiate_help, help_contact, help_residents, help_Box, hit_help, help_another, access_help, automate_helpfulness, help_Jagriti, help_Phong, click_help, help_Screens, help_Ruth, help_Dossy, help_sickness, help_geoff, help_adoption, help_alot, help_Ruyben, choose_Help, help_Assit, help_Brad, help_gaps, help_bussiness, help_demo, help_Set, help_firm, help_neighbor, help_Jaime, help_little, help_Shailesh, help_audit, help_Europe, help_startups, mobilize_help, help_Benefit, help_Discover, help_money, help_ISPs, help_Chhattisgarh, help_Keith, help_Levine, help_Ritesh, help_anything, help_Tarsia, help_patients, help_Raghu, help_Om, help_managers, help_screen, help_Toshi, help_TMN, help_YOU, help_citizens, help_asap, help_department, help_Dean, help_trouble, build_HELP, help_question, help_Pros, help_Manager, help_President, help_facilities, help_p, help_figure, help_nets, help_Hegarty, help_devices, generate_Javahelp, eliminate_helpings, help_download, promote_Help, needs_HELP, help_Douga, help_Y, apreciate_help, help_Indu, help_retailers, help_program, regard_help, help_Consult, help_readability, generate_JavaHelp, help_purchasing, save_HELP, help_Notes, help_redirection, help_Praveen, help_Russell, help_Columbus, help_recommendations, help_luminaries, help_Navigate, help_spacer, help_newsletter, help_emails, help_whatever, help_Platform, know_Help, help_Srilata, help_Nathan, help_contribution, help_Blvd, help_digestion, tell_Help, help_Risks, help_ruyben, help_Professional, redirect_Help, help_Rafique, help_middletag, help_His, help_practitioners, Quit_Help, help_brainstorm, help_quarter, help_Mom, help_Citihomes, find_HELPS, help_greening, help_Date, help_Messaging, help_Kimberlie, help_Cross, help_part, help_Whitney, help_rungs, help_Avaya, help_Newman, ship_help, help_Unica, help_quasi, help_Torin, help_matter, help_organizations, help_sweetie, help_Muthu, bolster_help, help_survivors, define_helpbutton, help_SUCCEED, help_UK, help_India, give_JavaHelp, help_Surf, go_HELP, help_State, help_Them, help_girlfriend, help_nilesh, link_help, help_Prasad, help_Fibromyalgia, help_supporter, help_boost, help_Santosh, help_Jogi, help_hurdles, help_Easwar, help_documents, get_HELP, help_use, help_Phani, help_Arris, help_text, help_Rakesh, work_HELP, manage_help, help_bond, help_Raymond, help_Indira, help_Thomson, help_ERT, help_Mandy, help_simulation, help_Collector, help_handle, help_poor, help_Agreement, help_uptake, build_JavaHelp, help_Andrew, help_Advanced, help_boys, help_DUE, help_Sign, help_Anees, conditionalize_help, help_vishnu, help_automation, help_copies, help_Mobilocity, lend_help, help_Autos, help_Uma, help_Lohia, help_ECS, pillow_help, help_HPL, help_parties, help_panels, help_Yahoo, help_debbie, help_Merchants, help_flow, help_matters, help_Met, help_translators, help_billion, help_competitors, help_planning, help_entry, help_EDI, help_viewer, help_keywords, help_Signup, visit_HELP, help_case, mush_help, help_good, identify_help, helpdesk_it, compile_help, help_curriculum, help_uncle, help_Arts, help_architect, help_Divakar, help_Webmasters, help_Enterprise, help_transportation, help_Service, help_Investment, help_Code, help_WEB, help_Deal, help_Reston, access_helper, help_Carl, help_Bonnie, pair_Helps, help_Kumi, help_Help, help_delay, help_revealing, let_help, help_corner, help_pros, help_page, help_Alice, help_transactionid, find_Help, offerre_help, help_Rauy, recommend_HelpDesk, help_policies, help_income, help_Scott, help_Research, help_something, help_formation, help_substances, help_place, help_Prasanjeet, help_Sie, help_woman, help_Ajay, help_sheet, help_nature, help_departments, look_HELP, help_Family, die_Help, assign_help, help_Error, help_Nuance, help_big, help_Pei, help_units, help_betreiben, help_zero, help_organizers, help_heroes, appreceiate_help, help_format, help_greetings, help_Shin, help_feature, help_Day, help_jazz, help_Jennifer, help_margins, create_Help, help_SPs, help_quality, help_doc, help_Automation, help_Robinson, use_InterHelp, help_queries, re_help, help_Johnson, help_target, help_Strategies, help_Design, help_revenue, help_LYNX, help_HOWEVER, help_Map, help_Soda, help_Vinayak, help_Ericson, help_Jim, help_Study, help_Configuration, help_travel, help_Betty, help_BTexact, help_Elisabeth, help_Lisa, help_Shankar, help_pages, help_data, help_Satya, help_Specketer, help_Anyone, include_Help, help_show, consist_help, help_community, help_What, help_Nate, help_walk, help_Facility, help_Emma, help_Strugnell, recommend_help, help_McCann, help_ON, help_Reach, help_Businesses, help_PST, help_Newsletter, help_businessman, help_profiler, help_proliferation, help_student, use_Helper, help_media, help_TRUSTe, help_Ming, help_asthma, help_Sager, help_discussions, help_Loco, help_commerce, help_author, think_Help, help_XENICAL, output_Help, work_help, help_Apps, improve_help, write_WebHelp, help_impacts, help_Hideki, help_Lucent, help_SITES, help_Dalal, help_Bushnell, help_Recovery, help_Home, help_Stephen, outline_help, help_defendants, pratice_help, help_topic, help_Toshiba, hire_help, help_Markets, help_experts, help_Hidalgo, help_B, help_piece, help_Copywriters, help_Reg, help_shipping, help_charge, help_admin, replace_help, help_Fernand, help_Jason, help_rescuers, help_recruit, help_Club, hangin_help, click_HELP, help_Bob, help_advertising, help_fix, help_promote, entitle_help, help_FORWARD, help_initiatives, help_Chris, help_Ng, help_colleagues, help_CLECs, help_gel, help_boss, help_America, translate_help, help_Meltzer, help_Entrepreneurs, help_marketing, help_hand, help_schedule, help_manufacturer, help_ops, help_Manabu, help_Engr, help_model, help_GROW, help_username, implement_help, help_TCS, connect_Help, help_MJ, help_Appetite, help_vendors, help_Shower, imagine_Help, help_Coke, help_increase, generate_help, help_deployments, help_cusotmer, help_beginner, help_doors, modify_help, help_Purdy, help_phases, help_Quotes, help_Features, help_Advertisements, help_Les, help_i, help_tnx, discuss_help, help_Interwoven, help_Lady, help_underprividged, help_guide, help_several, help_bunch, help_Game, help_code, help_point, help_Session, try_HELP, cross_help, help_fern, mark_help, help_scientists, help_Spur, help_Ellis, help_Corner, help_solution, help_models, help_visitors, help_delivery, help_Philip, help_responses, help_xgh, help_collateral, help_Elektrim, help_Enterprises, help_Gracie, help_hundreds, help_HTH, compare_Help, help_candidate, help_divakar, elicit_help, fix_help, help_fields, offer_Help, help_conv, help_IMPORT, help_larry, help_Moore, help_Participation, help_expenses, help_screens, require_HELP, help_programming, help_Telfort, help_quota, help_Startups, help_luck, email_helpdesk, help_right, help_organisation, help_Purav, help_CONWAY, help_chairs, help_co, help_Tips, help_engines, help_Shawn, help_Mamta, help_novice, help_technology, enforce_help, test_OnlineHelp, help_fence, help_balance, use_HelpDesk, contact_helpdesk, help_pls, deliver_Help, help_Florence, help_LEAN, help_Workers, help_Training, help_prepare, help_Kids, help_site, help_dog, help_Project, help_penetration, help_OPTeam, help_publish, help_mid, help_presenters, help_Back, help_merchants, help_Q, accept_Whelp, help_roger, help_Sales, help_Enjoy, develop_JavaHelp, help_Hola, help_majority, help_Deliverables, help_Gurung, help_willhan, help_feelin, help_Access, remind_helpdesk, wih_help, round_help, help_servlets, help_PRIORITY, help_honey, notify_HelpDesk, help_Detect, help_videos, help_games, help_Hutchison, help_relative, help_ticket, help_Suites, help_Presentation, buy_Help, help_error, hope_helpd, help_Phone, help_my, help_Sherman, help_wordsmithing, help_billers, help_TECH, help_persons, help_Hi, help_Gracias, render_help, help_Rajiv, help_Products, help_advertisers, help_Jansi, help_rollout, help_Krishan, help_filmmakers, help_Russ, deliver_helping, help_needy, create_helper, help_himself, help_Stuart, help_proposal, help_flesh, help_Menu, help_Farshan, help_graphics, help_structure, help_quantify, help_XRM, help_Party, help_Camera, go_HELPS, help_XP, help_Bhatt, help_Harpar, -helpe_Nadir, check_help, -helpe_Mamta, read_help, help_cheers, follow_HELP, help_Robert, help_Nadir, help_cases, help_metrics, help_procedures, figure_help, help_tks, apprecaite_help, simulate_help, help_Applications, help_MobileSys, mean_help, help_activity, help_Managers, help_Mobile, help_areas, help_alerts, help_Dallas, design_Javahelp, help_Israel, help_BOYCOTTS, help_Carothers, foir_help, help_reduction, help_fight, help_TAR, help_Profile, help_banks, secure_help, help_TNT, help_Nips, helps--_Henretig, help_Stuff, help_partnership, help_name, help_futures, help_meter, start_help, help_Deepak, help_Mail, help_Calm, ensure_help, help_Aravinda, help_Icon, help_power, help_basics, help_Plan, help_Soror, help_repertoires, help_notification, help_warriors, help_Reports, help_Develop, help_info, help_Leo, help_monies, handle_help, include_helpdesks, prefer_help, help_rate, help_Jeff, help_bug, help_sandbags, hope_helps, help_News, help_G, help_competion, help_approach, ned_help, help_passwords, help_RFP, help_VICTIMS, help_CHARLOTTE, help_its, help_Individuals, help_colleague, work_Help, mimic_Help, submit_Help, help_land, help_girlfriends, hamper_help, help_reqd, help_Guys, help_Kid, help_Relief, help_voice, author_Help, help_PayTrust, help_Standard, help_Melissa, help_Online, help_Alvin, help_regulations, help_SBC, help_Overview, help_Engineer, canhelp_position, help_operation, help_Third, process_helpings, canhelp_Meshele, help_moms, resist_helping, help_strategies, help_gears, criticise_help, help_t, help_small, help_Salud, help_DiMaria, help_Fortch, help_dad, help_krishna, help_EETimes, help_isoalte, help_comment, help_Bodade, help_Request, help_BRN, help_passage, help_comments, help_Thks, help_Borders, help_bridge, help_krish, help_Agillion, help_Srinvias, help_help, help_ISVs, get_helps, help_Wireless, helps_brushes, help_itself, help_IMO, help_Cheers, help_Rao, ask_HelpDesk, help_Excellence, help_SNR, considerate_help, help_loans, help_DoE, help_buyers, see_help, customize_help, help_AMRO, help_materials, help_Phil, help_millions, help_rise, help_Topics, help_James, invest_HELP, help_Oberoi, help_readers, help_Boards, help_birthday, help_surya, vandalize_HELP, help_Shanki, help_Certificate, help_UIDL, help_seminars, help_geeks, help_M, utilize_help, track_help, help_order, help_Focus, help_telecommunications, help_Thoughts, help_Quinn, help_Purpose, help_c, help_research, help_cells, help_searches, help_aid, help_Vehicles, help_Gunaseelan, http://nyt.com/help?rd=hcmcp?p=03m_o03my14gp9b012000mkxb0kxcp_Suggestions, join_HELP, help_beta, help_manabu, enable_Help, help_cushion, help_HER, help_volunteers, help_Rene, help_stocks, help_recovery, help_Offers, help_operator, help_classes, help_mahesh, repay_help, help_C, help_musicians, help_Ait, help_verification, help_Rebecca, help_communication, help_EMAIL, help_specialists, help_kick, manage_Help, help_address, help_Shane, help_Roth, help_Kawarjit, help_donors, help_Toolkit, help_ChandraSekhar, adopt_help, help_names, help_bride, hope_Help, deploy_Help, hook_HTMLHelp, empower_help, help_list, support_helpline, help_fears, helpe_me, help_Teresa, got_Help, help_caterers, help_idea, help_states, help_section, help_States, miss_Helper, help_shares, help_repond, help_fragmentation, help_Journal, help_Lloyd, help_Dilemma, help_AC, include_Helpdesk, help_ciao, help_Aneesha, help_Engineers, help_troubleshoot, help_Communities, simplyget_help, find_helpings, help_Basic, consult_Help, help_coolness, help_EMAS, help_AGARWAL, mail_helpdesk, help_store, help_subscribers, help_criteria, help_Otto, help_Suzanne, help_giant, help_years, pick_help, quash_HELP, help_Ryder, help_displays, infect_help, help_texts, help_Seekers, help_sessions, help_Objectives, help_BizDev, test_help, help_worlds, help_OS, help_AIM, help_jsp, help_phone, help_Snippet, pass_Help, help_recooperate, help_Mukesh, help_Wayne, help_Sameer, help_negotiations, help_spec, remember_help, help_activities, help_confidence, canhelp_you, help_Busey, take_look'"
      ]
     },
     "execution_count": 53,
     "metadata": {},
     "output_type": "execute_result"
    }
   ],
   "source": [
    "pairs_help = df_grouped.iloc[2]['action_object_pairs']\n",
    "pairs_help"
   ]
  },
  {
   "cell_type": "code",
   "execution_count": null,
   "metadata": {},
   "outputs": [
    {
     "name": "stderr",
     "output_type": "stream",
     "text": [
      "100%|██████████| 596807/596807 [00:09<00:00, 61461.35it/s]\n"
     ]
    },
    {
     "name": "stdout",
     "output_type": "stream",
     "text": [
      "Intent DF shape: (54316, 19); Remaining DF shape: (572415, 19)\n"
     ]
    }
   ],
   "source": [
    "df_help, df_remaining = split_dataframes(df_remaining,pairs_help)\n",
    "print(f'Intent DF shape: {df_help.shape}; Remaining DF shape: {df_remaining.shape}')"
   ]
  },
  {
   "cell_type": "markdown",
   "metadata": {},
   "source": [
    "##### Do something DF"
   ]
  },
  {
   "cell_type": "code",
   "execution_count": 55,
   "metadata": {},
   "outputs": [
    {
     "data": {
      "text/plain": [
       "'do_what, do_it, do_this, do_that, do_What, do_job, do_work, do_anything, do_Yahoo, do_something, do_testing, do_business, do_file, do_things, do_thing, do_following, do_You, do_review, do_best, do_presentation, do_build, do_same, do_demo, do_more, do_everything, do_which, do_test, do_kind, do_development, do_nothing, do_lunch, do_favor, do_research, do_part, do_XP, do_check, do_much, do_stuff, do_tests, do_training, do_lot, do_one, do_analysis, do_relocating, do_email, do_all, do_them, do_release, do_needful, do_project, do_Save, do_jobs, do_mailing, do_you, do_dinner, do_homework, do_demos, do_search, do_reviews, do_task, do_session, do_integration, do_blast, do_deal, do_diligence, do_communications, do_design, do_both, do_pilot, do_interview, do_update, do_Sent, do_conversion, do_tap, do_investigation, do_some, do_Regards, do_study, do_whatever, do_revision, do_evaluation, do_most, do_bit, do_little, do_any, do_wrong, do_attitude, do_time, do_modifications, do_assessment, do_applications, do_scoping, do_refactoring, do_presentations, do_application, do_QA, do_validation, sendo_you, do_type, do_show, do_rest, do_projects, do_alerts, do_round, do_voice, do_More, do_Infrastructure, do_run, do_events, do_identification, do_activities, do_up, do_process, do_merge, do_Jose, do_good, do_need, do_entry, do_transfer, do_ART, do_petition, do_upgrade, do_m, do_commerce, do_list, do_support, do_number, do_inventory, do_It, do_piece, do_wallet, do_mail, do_transformation, do_translation, do_amount, do_prevention, do_processing, do_digging, do_app, do_checkin, do_presentment, do_trick, redo_work, do_consumers, do_install, do_sync, do_implementation, do_swap, do_mobilization, do_tour, do_programming, do_step, do_poohing, do_images, do_planning, do_these, do_drag, do_request, do_backups, do_Chinese, do_Date, do_hosting, do_marketing, do_iteration, do_ASAP, do_PalmDoNotCache, do_rendering, do_edits, do_Baca, do_Business, do_math, do_pricing, do_comparison, do_thingy, do_modification, do_campaign, do_steps, do_rebase, do_story, do_cleanup, do_estimate, do_transactions, do_TODAY, do_download, do_shopping, do_briefing, do_fix, do_redirect, do_coding, do_copy, do_feature, do_FASTER, do_a, do_blasts, do_discussion, do_simulation, do_needfull, do_sort, do_course, do_Lead, do_searches, do_maintenance, do_e, do_reading, do_debugging, do_demonstration, do_baseline, do_activation, do_actions, do_paperwork, do_items, overdo_it, do_lots, do_tasks, do_address, do_version, do_survey, do_operation, do_favour, do_WHAT, do_wireless, do_screen, do_Checking, do_installation, do_item, do_site, do_report, do_Show, do_migration, do_Craig, do_solution, do_submission, do_reply, do_Rajeev, do_positioning, do_AvocadoIT, do_less, do_justice, do_internationalization, do_proof, do_documentation, do_event, do_installer, do_services, do_implementations, do_laundry, do_functionality, do_audit, do_JNI, Do_updates, do_deals, do_days, do_way, do_scope, do_other, do_sites, do_overview, do_Reviews, do_ok, do_setup, do_interviews, do_investigations, do_Street, do_attachments, do_code, do_validations, do_bunch, do_logic, do_breakfast, do_ill, do_we, do_emails, do_A, do_section, do_profile, do_great, redo_it, do_above, do_seminar, do_IT, do_dance, do_kinds, do_authentication, do_stories, do_re, do_hell, do_TONIGHT, do_Out, do_caching, do_talk, do_updates, do_management, do_X, do_follow, do_tonite, do_exercises, do_Founder, do_Work, do_schedule, do_structure, do_etc, do_d, do_drinks, do_help, do_fixes, do_AM, do_shows, do_Kanji, do_srik, do_form, do_functions, do_dishes, do_status, do_education, do_calendaring, do_exercise, do_Marketing, do_practices, do_cvs, do_XML, do_Q, do_DDS, do_Hung, do_ad, do_keynote, do_estimates, do_loans, do_many, do_DEAL, do_service, do_obfuscation, do_port, do_harm, do_runs, do_pass, do_BDUF, do_checking, do_write, do_those, do_localization, do_Favor, do_control, do_arun, do_Brasil, do_Cintra, do_diff, do_monitoring, redo_anything, do_damage, do_talking, do_enough, do_apps, do_List, do_activity, do_THIS, do_photos, do_level, do_enrollment, do_rework, do_intro, do_queries, do_Office, do_co, do_builds, do_rename, do_preparation, do_needs, do_hesitate, do_taxes, do_enhancements, do_action, do_financing, do_alot, do_command, do_cut, do_themselves, do_thinking, do_sanity, do_Helen, do_video, do_basis, do_Tutorials, do_portion, do_reset, do_rate, do_magic, do_agreement, do_ourselves, do_Sync, do_browsing, do_refresh, do_forms, do_graphics, do_TFD, do_teamwork, do_shots, do_approach, do_packing, do_Email, do_troubleshooting, do_Thousands, do_access, do_checks, do_am, do_article, do_feedback, do_Devi, do_cleaning, do_performance, do_synching, do_program, do_none, do_Review, do_me, do_refactorings, do_requirements, do_translating, do_heck, do_messages, do_lists, do_experiment, do_Srik, do_fine, do_experiments, do_sizing, do_XHTML, do_editing, do_releases, do_brunch, do_Gee, do_software, do_either, do_languages, do_pre, do_Ravi, do_utility, do_yourself, do_effort, do_pages, do_pairing, do_architecture, do_detail, do_launch, do_calculations, do_relationships, do_checkins, do_initiatives, do_Development, do_configuration, do_substitution, do_Online, do_upload, do_Clara, do_selling, do_deployment, do_Demo, do_ship, do_sessions, do_UI, do_plan, do_cycle, do_use, do_Manager, redo_them, redo_this, do_mortem, do_someone, do_bookkeeping, do_each, do_NOTHING, do_billing, do_Praveen, do_ID, do_regards, do_push, do_couple, do_filter, do_deed, do_installtion, do_offs, do_tracking, do_conversions, do_conversation, do_data, do_conference, do_prioritization, do_problems, do_buttons, do_strategy, do_dump, do_Plan, do_edit, do_assistance, do_server, do_Anderson, do_cards, do_they, do_selection, do_ones, do_back, do_assignment, do_drill, do_own, do_vis, do_alert, do_inspection, do_PR, do_platforms, do_Presentation, do_Palm, do_login, do_URL, do_CRM, do_banking, do_merges, do_detection, do_html, do_database, do_IVR, do_ANYTHING, do_loop, do_redirects, do_timeline, do_Project, do_That, do_contract, do_webex, do_scheduling, do_Validations, do_c, do_scan, do_tricks, do_statistics, do_uninstall, do_recording, redo_user, do_switch, do_Direct, do_taping, do_creative, do_enhancement, do_estimation, do_invitations, do_man, do_get, do_ads, do_settings, do_Ruyben, do_samples, do_groups, do_Iyer, do_campaigns, do_post, do_ups, do_encryption, do_trial, do_response, do_assignments, do_press, do_model, do_App, do_Gone, do_LAUNCH, do_names, do_Research, do_encodeUrl, do_backup, do_cross, do_trading, do_debrief, do_an, do_prospecting, do_Amit, do_loadLibrary, do_Director, do_customer, do_binding, do_calendar, do_writing, do_RUP, do_trip, do_improvements, do_buy, do_translations, do_portal, do_end, do_repository, do_spec, do_Report, do_games, do_source, do_draft, do_Santos, do_import, do_discussions, redo_application, do_utilization, do_Sales, do_insert, do_engineering, do_Tel, do_We, do_anyone, do_aggregation, do_aspects, do_handoff, do_massages, do_shoot, do_overtime, do_Help, do_w, do_cost, do_redirection, do_WebEx, do_page, do_netstat, do_duty, do_advertising, do_porting, do_questions, do_day, do_Seminar, do_Sign, do_speaking, do_building, do_bits, do_pilots, do_Thanx, do_segments, do_guess, do_DMA, do_docs, do_head, do_wonders, do_XH, do_mode, do_Order, do_Whatever, do_find, do_Arun, do_devices, do_tweaks, do_Message, do_Nothing, do_ths, do_OK, do_SO, do_visit, do_legwork, do_US, do_lo, do_upsells, do_teleconference, do_portions, do_types, do_load, do_function, do_works, do_features, do_freeze, do_blurbs, do_kits, do_engagements, do_tickets, do_favors, do_Connectors, do_announcement, redo_demo, do_CONTACT, do_blessing, do_prefill, do_transaction, do_Paper, do_userid, do_AutoCradleSync, do_scrolling, do_beta, do_quality, do_replace, do_Testing, do_shit, do_image, do_scaling, do_bid, do_clean, do_ins, do_memory, do_disconnect, do_Motorola, do_host, do_b, do_Rahamin, do_attendance, do_necessary, do_Orders, do_synchs, do_staff, do_statement, do_RIM, do_option, do_foollowing, do_news, do_Werner, do_filming, do_state, do_share, do_installations, do_segmentation, do_week, do_web, do_ton, do_him, do_others, do_Phase, do_followings, do_Java, do_transition, do_imode, do_Z, do_relations, do_compare, do_delivery, do_roll, do_query, do_consultation, do_workshop, do_operations, do_Team, do_I, do_Collect, do_Clip, do_budget, do_opposite, do_servers, do_save, do_profiling, do_iterations, do_filtering, do_background, do_deligence, redo_plan, do_analyses, do_conenctors, do_impossible, do_sampling, do_Identification, do_Blvd, do_proposals, do_key, do_options, do_SMS, do_license, do_care, do_cakes, do_decision, do_tags, do_evaluatiion, do_IDE, do_driving, do_pm, do_rewrite, do_programs, do_overs, do_pitch, do_errands, do_slides, do_count, do_rollout, do_customization, do_reporting, do_Dave, do_POC, undo_this, do_break, do_location, do_contact, do_phone, do_basics, do_edition, do_writeup, do_drawing, do_Buggy, do_ownership, do_members, do_yours, do_shot, do_practice, do_advice, do_downloads, do_weeks, do_upgrades, do_hers, do_the, do_FAIL, do_Uninstall, do_notes, do_Server, do_Rock, do_INSTALLATION, do_diagram, do_eval, do_live, do_ARTs, do_partnerships, do_vacations, do_trips, do_attachment, do_Strategy, do_thru, do_screenshots, do_object, do_taiji, outdo_FW, do_BUFD, do_passthrough, do_meaning, do_matter, do_Anything, do_insertion, do_bill, do_SR, do_NOTE, do_include, do_sorts, do_women, do_stabilization, do_conflicts, do_UCD, do_THAT, do_Assessment, do_Officer, do_take, do_postage, do_LCA, do_Haas, do_yoga, do_technology, do_combination, do_boxes, do_Krishna, do_parsing, do_bugs, do_files, do_extraction, do_like, do_dev, do_Release, do_hour, do_asap, do_Island, do_latter, do_means, do_uploading, do_outs, do_drop, willdo_test, do_abhishekamu, do_customers, do_explorations, do_David, do_Engineer, do_points, do_append, do_pulldown, do_personalization, do_Messaging, do_cancan, do_PSF, do_opportunity, do_move, do_administration, do_backyard, do_fsck, do_branding, do_serach, do_evaluations, do_Tues, do_thoughts, do_product, do_payroll, do_spread, do_rounds, do_lines, do_mine, do_tools, do_offline, do_recon, do_ADVERTISING, do_sales, do_internship, do_groupings, do_USAA, do_commit, do_jet, do_thang, do_prototype, do_matching, do_PQA, do_workflow, do_rebranding, do_integrations, do_filing, do_document, undo_programming, do_industry, do_art, do_mini, do_please, do_FFA, do_kickoff, do_order, do_favours, do_JSP, do_smartphone, do_providers, do_roadshow, do_Lunch, do_conditions, do_TEE, do_night, sentido_bien, do_platform, do_merciless, do_visibility, do_Challenges, do_ta, do_invoices, do_initiative, do_Steps, do_Overall, do_Douga, do_by, do_downs, do_next, redo_ART, do_face, do_busines, redo_that, do_phase, do_referral, do_brainstorming, do_Detroit, do_hope, do_Right, do_Prakash, do_certification, do_month, do_turns, do_us, do_installs, do_few, do_PREFER, do_Plans, do_requirement, do_bang, do_managegment, do_picture, do_Bid, do_party, do_hours, do_start, do_ICEbrowser, do_bug, do_modeling, do_capture, do_submissions, do_v, do_restart, do_bonding, do_panel, do_diagnosis, do_emulator, do_guessing, do_evangelism, do_Click, do_Taxes, do_sponsorship, do_message, do_Day, do_impact, do_splash, do_Lorraine, do_PDA, do_offer, redo_budget, do_hair, do_interface, do_restructuring, do_stock, do_cruise, do_eBay, do_lookup, do_formatting, do_massaging, do_Solaris, do_cancellation, do_tax, do_sketch, do_registration, redo_look, do_OAOO, do_timesheets, do_GMT, do_minimum, do_VoiceAlerts, do_OEM, redo_signature, do_reuse, do_versions, do_overhauls, do_Warning, do_system, do_consultancy, do_scanning, outdo_forerunners, do_side, do_phases, do_WLAN, do_flippers, do_segment, do_Deepak, do_labels, do_definition, do_shower, do_SUCCESSFUL, do_locks, do_Rendering, do_TV, do_ftp, do_characterization, redo_site, do_evening, do_rewriting, do_book, do_Internet, do_Elbow, do_reference, do_Subject, do_trimming, do_TellMe, do_component, do_comp, do_pull, do_PDF, do_Gene, do_print, do_relative, do_Dilemma, do_pooling, do_TASKS, do_tarbup, do_volver, do_Consulting, do_Paulo, do_right, do_compaign, do_methodology, do_jaime, do_DUF, do_Behavior, do_EMAS, do_Support, do_PCAnywhere, do_disservice, do_SOMETHING, do_arrangement, do_x, do_gathering, do_imagery, do_polarity, do_Communications, do_layoff, do_postmortem, do_route, do_folks, do_EMS, do_tango, do_Tasks, do_interfaces, do_Como, undo_them, do_reports, do_Western, do_Ride, do_acl, do_NETWORKING, do_ADHOC, do_map, do_bhangra, do_comparisons, do_Reply, do_front, do_printf, do_collection, do_alliance, do_purchase, do_creation, do_ie, do_Democenter, do_customizations, do_chili, do_followup, do_lynch, do_mapping, do_execution, do_partnership, do_Nadir, do_export, do_walkthroughs, do_Policies, do_jpg, do_metrics, do_luck, do_cheking, do_balance, do_view, do_writeups, do_debate, do_Analysis, do_housework, do_Customer, do_PS, do_samething, do_HTML, do_Guide, do_power, do_paragraph, do_shares, do_movie, do_artwork, do_ours, do_millions, redo_files, do_adjustments, do_turn, do_routines, do_marathon, do_Betty, do_hardware, do_Briefing, do_V, do_ways, do_Replace, do_properties, do_ck, do_behavior, do_passthru, do_GUIs, do_waterfall, do_FYI, do_morteum, do_walk, do_Chan, do_audiofication, do_seminars, do_introductions, do_such, do_rev, undo_check, do_contemplation, do_quotes, do_rebuild, do_Center, do_JBR, redo_Dadi, do_instruction, do_converter, do_sports, do_snapshots, do_memorandum, do_UIDL, do_presenting, do_dances, do_hand, do_Mai, do_CIRCULATION, do_possible, do_Off, do_pets, do_This, do_package, do_accessment, do_mid, do_attach, do_Rice, do_referring, do_representations, do_Spain, do_quantity, do_classic, do_milk, do_issue, do_Rebecca, do_Malati, do_Harshad, redo_applications, do_cell, do_interior, do_laps, do_requisition, do_Application, do_summary, do_tech, do_Wendy, do_Yikes, do_connector, do_manners, do_loading, do_Bill, do_walkthrough, do_scans, do_Accessing, do_Swipe, do_IPC, do_guy, do_Cheers, do_organization, do_Baulch, do_description, do_grabs, do_configurations, do_Sanjay, do_C, do_better, do_introduction, do_performers, do_Crystal, do_WAP, do_Daily, do_PhD, do_timings, do_letters, do_Agent, do_preparations, do_Ability, do_technique, do_Webvan, do_on, do_Way, do_barbeque, do_designing, do_LOC, do_agenda, do_ALARM, do_pres, do_lies, do_create, do_JV, do_PIM, do_name, do_in, do_think, do_optimization, do_booth, do_overlay, do_indexing, redo_diagrams, do_reviewing, do_sam, do_OptimizeIt, do_supplement, do_binder, do_makefile, do_land, do_spot, do_Access, do_wirkshop, do_respect, do_pair, do_return, do_Cookies, do_Security, do_scopes, do_bonfire, do_input, do_min, do_painting, do_mathematics, do_cheque, do_deploy, do_Asst, do_developer, do_log, do_connection, do_specs, do_layouts, do_procedure, do_upto, do_format, undo_seatbelt, do_moving, do_bait, redo_images, do_repeat, do_effective, do_Brk, do_entering, do_quarantine, do_guys, do_allocation, do_grant, do_Item, do_price, do_girlfriend, do_Same, do_prepping, do_dilligence, do_nite, do_sell, do_Ginny, do_play, do_refresher, do_styles, do_tutorial, do_wtech, do_All, do_Connects, do_chores, do_checkouts, do_crap, do_risks, do_siebel, do_E, sentido_hoy, do_dispatch, do_workarounds, do_Performances, do_value, do_admissions, do_partners, do_remnants, do_character, do_douga, do_ESPOO, do_Raza, do_projeto, do_Shop, do_Ticket, do_Porto, do_Better, do_declarations, do_movement, do_munging, do_DearSrikanth, do_timesheet, do_method, do_dialogs, do_TSTTCPW, do_breaking, do_WML, do_translator, do_point, do_B, do_snaps, do_populateDB, do_Anders, do_G, do_webinar, do_growth, do_myriad, do_details, do_zone, do_stint, do_transations, do_fucntioanlity, do_vendor, do_Request, do_output, do_Updations, do_EJB, do_Life, do_Harper, do_lead, do_Beck, do_scenarios, redo_stuff, do_Peddada, do_Siebel, do_metaphors, do_static, do_instance, do_making, do_affinity, do_explanations, do_cancel, do_everyting, do_kindness, do_Exit, do_SaveAll, do_series, do_presentaion, do_anybody, do_timer, do_qualification, do_dancing, do_Prasad, do_several, do_Confidential, do_presention, do_refectoring, do_Mobilizer, do_cuts, do_Turn, do_Been, do_Owner, do_brief, do_funding, do_looking, do_SOON, do_ShowStoppers, do_deployments, do_Clear, do_automation, do_suggestions, do_transitions, do_joins, do_qualifying, do_attack, do_Workshop, do_gig, do_sowthing, do_baking, do_damnedest, do_charges, do_months, do_reboot, do_jokes, do_honor, do_size, do_PO, do_timing, do_arrangements, do_recount, redo_customization, do_Darshan, do_account, do_todays, do_pops, do_steakhouse, do_tcpdumps, do_comparision, do_iPAQ, do_shifting, do_School, do_epr, do_links, do_Indu, do_shipment, do_propositions, do_Giga, do_USX, do_setter, undo_selection, do_editor, do_Editor, do_Marcia, do_AGAIN, do_Nunberg, do_compilation, do_tweaking, do_GROUP, do_bumpf, do_Webinar, do_button, do_SSH, do_loadtest, do_conf, do_Appts, do_wires, do_soor, do_exams, do_regression, do_Wechsler, do_Overview, do_solo, do_tommorrow, do_editors, do_layoffs, do_years, do_developments, do_imitation, do_reformat, do_cases, do_EDITING, do_notification, do_testFirst, do_DTSTTCPW, do_ultrasound, do_decorating, do_Logos, do_checkout, do_percentages, do_leaning, do_y, do_resource, do_cousefor, do_broadcast, do_mapquest, do_mobilized, do_game, do_module, do_costs, do_telecons, do_second, do_gigs, do_Search, do_expectations, redo_financing, do_idea, do_Mindrum, do_wordsmithing, do_rule, do_Things, do_cookies, do_question, do_Insert, do_visuals, do_store, do_plenty, do_questionnaire, do_queue, do_certificates, do_obligation, do_Meshele, do_rollover, do_Custom, do_STEMS, do_ALL, do_Flash, do_XXXXXXXXXXXXXXXXXXXX, do_Lots, do_about, do_onsite, do_u, do_answer, redo_identification, do_Pacific, do_timeout, do_Past, do_throughs, do_clone, do_eweek, do_stats, do_weights, do_yards, do_pack, do_remote, do_evolution, do_Strategies, do_comps, do_style, do_RJ, do_Plaza, do_PARAMETERS, do_UPBrowser, do_billboard, do_Erase, do_Introductions, do_Coordinator, do_helps, redo_shots, do_no, do_mx, do_landscape, do_my, do_Paytrust, do_stocks, do_prep, do_SUNDAY, do_equipment, do_self, do_webwork, do_capital, redo_Facilities, do_consulting, do_SEARCH, do_mailbox, do_itself, do_faunt, do_Launch, do_Highlight, outdo_herself, do_Del, do_notion, do_DO, do_Trey, do_forcast, do_bigString, do_max, do_headshots, do_date, do_Job, do_Subscriber, do_GOOD, do_triage, do_mailto, redo_part, do_switches, do_Subscribe, do_Reeder, do_iii, do_somethings, do_Ritesh, do_fax, do_floor, do_Dallas, undo_front, do_assessments, do_feeling, do_click, do_mock, do_sometome, redo_detail, do_ake, do_Offline, do_correspondence, do_advisories, do_Mobility, do_lifting, do_synchronization, do_Yoga, do_videotaping, do_pictures, do_locations, do_Voiceover, do_girl, do_Music, do_TT, do_probing, do_compression, do_drawings, do_sky, do_offsite, do_replacement, do_bus, do_Ca, do_Type, do_JOB, do_LSU, do_LOT, do_parse, do_Ericsson, do_accruals, do_Cell, do_interest, do_xml, do_Trish, do_concept, do_techniques, do_getUserChoice, do_interviewing, do_leading, do_position, redo_Severity, do_Excel, do_postmorteum, do_schema, do_EMDS, do_Ponder, do_OCA, do_ls, do_inserts, do_machine, do_cleaner, do_Nita, do_resets, do_mockups, do_costume, do_errors, do_Name, do_PDQs, do_rebooting, do_navigation, do_million, do_minute, redo_wedding, do_speech, do_thursday, do_functional, do_times, do_preprocessing, do_afternoons, do_sport, redo_compid, do_thurs, do_mtg, do_requests, do_Ty, do_letter, do_Michigan, do_similair, do_archival, do_pieces, do_line, do_increments, do_quota, do_close, do_split, do_HOw, do_Susie, do_carpool, do_invitation, do_FAQ, do_gates, do_Robert, do_books, do_engines, do_servlet, do_economics, do_mockup, do_Woman, do_Proof, do_compatability, redo_steps, do_signoff, redo_updates, do_Ashish, do_playing, do_keeping, do_fulfillment, do_communication, do_Quantities, do_CONSUMERS, do_VIEW, do_washes, do_want, do_drive, do_somthing, do_doPrint, do_f, do_SaleFixture, do_Head, do_majority, do_default, redo_what, do_hires, do_Inches, do_TIRASPOL, do_CAMBRIDGE, do_Demonstration, do_todaay, redo_estimate, do_Register, do_unnatural, do_fullinstaller, do_manual, do_id, do_flows, do_PORTAL, do_laden, do_Thur, do_ejbCreate, do_recheck, do_realignment, do_ass, do_Overloading, redo_module, do_Spikes, do_arranging, do_Competitors, do_Smalltalk, do_cap, do_exploration, do_baptism, do_Need, do_dates, do_receivables, do_science, do_JavaHelp, do_Upstream, do_ps, do_VOICE, do_Serialization, do_flights, do_ssi, do_vendors, do_users, do_TYPING, do_Ltd, do_weeding, do_HP, do_IDC, do_substitute, do_investors, do_wise, do_stores, do_refactory, do_deo, do_Pooja, do_Capacity, redo_app, do_Lehman, do_Management, do_sequence, do_dad, redo_screen, do_Intro, do_race, do_carts, do_cc, do_XXX, do_SUPPORT, do_rigth, do_SRC, do_collections, do_Windows, do_explanation, do_Wilhan, do_sublease, do_Ph, do_DOH, do_RFI, do_Presentations, do_Yipes, do_Servlet, do_eCommerce, do_webserver, do_Nihar, do_website, do_screaming, do_Tags, do_Cars, torpedo_threats, do_interactions, do_Vendor, do_container, do_distribution, do_giveaways, do_himself, do_GUI, do_correct, do_booking, do_newsletter, do_focus, do_departments, do_spate, do_PQAs, do_five, do_ref, do_failovers, do_Telephony, do_TOOLS, do_strategizing, redo_development, do_scales, do_mailings, do_prakash, do_cubes, do_breakfasts, do_HTC, do_display, do_Dondi, do_surveys, do_packs, do_ATs, do_coNf, do_inventories, do_technologies, redo_West, do_barebones, do_coverage, do_Nomula, do_phones, do_poll, do_OR, do_emphasis, do_Assit, do_Profile, do_Cash, do_solutions, do_concurrency, do_Pharmerica, undo_upgrade, do_client, do_badge, do_reservations, do_Jens, do_Value, do_Millions, do_text, redo_action, redo_presentations, do_OneLongPath, do_Mahon, do_references, do_scripting, do_usual, do_xp, do_center, do_workaround, do_Sat, do_licensing, do_Synchronizes, do_trace, do_TABLE, do_EOD, do_IPO, do_robbin, do_consolidation, do_Model, do_free, sendo_that, do_parameter, do_join, do_widget, do_purging, do_inviting, do_matches, do_Split, do_Programming, redo_most, do_telesales, do_your, do_revisions, do_Brainstorm, do_BUSINESS, do_Goals, do_http, do_color, do_DEPENDENCIES, do_sweeps, do_Inhale, do_spike, do_telephony, do_Suites, do_saying, do_menus, do_Training, do_setting, do_methodologies, do_summer, do_Generator, do_reductions, do_Buffet, do_Spike, do_corrections, do_billings, do_chatka, do_subtraction, do_meal, do_beginning, do_Yoza, do_moblization, do_Apps, do_protocol, do_bulk, do_generate, do_SP, do_outsourcing, do_negotiating, do_publishing, do_procurement, do_grin, do_unstuffed, sentido_malestar, do_steve, do_content, do_scene, do_reshuffle, do_setProperty, do_UFD, do_base, do_fresh, do_Stylesheet, do_trait, do_scroll, do_luncheon, sentido_trabajo, do_MSDW, do_CA, do_penance, do_raising, sentido_catarro, do_later, do_holding, do_FaqMainServlet, do_rs, do_Submit, do_sA, do_alignment, do_logo, do_labor, do_maintanince, do_table, do_PC, do_pick, do_commitment, do_suggestion, do_Third, do_sea, do_fire, do_future, do_reloads, do_expression, do_life, do_copies, do_enquiry, do_Test, do_user, do_inquiry, do_vip, do_extract, do_ANNOUNCEMENTS, do_redesign, do_Archives, do_toyota, do_Resources, do_GetUsersChoice, do_Finlayson, do_News, do_Webex, do_pics, do_stints, do_last, do_schooling, do_branch, do_dlgs, do_thought, do_Sound, do_Square, do_Automation, do_getaway, undo_mess, do_Names, do_influence, comprado_sobre, do_delete, do_nights, do_Kasrel, do_ping, do_unload, selected.do_it, do_reinstall, do_Baby, do_plus, do_role, do_gratis, do_Valley, do_his, do_offering, do_travelbreak, do_stairs, do_classes, do_clusters, do_opinion, do_studies, do_opportunities, do_systems, do_twice, do_TIMING, do_Consultant, do_worst, do_will, undo_shackles, do_mehrak, torpedo_calf, do_Rajdeep, do_intros, do_loaning, do_Phone, do_NOVEMBER, do_preview, do_sir, do_Tree, do_sign, do_lesson, do_windex, do_admin, do_respiration, do_weekend, do_growing, do_moveout, do_balancing, do_battle, torpedo_operation, do_Grammar, do_opt, do_manipulations, do_recap, do_trainer, do_train, do_proposal, do_Masters, do_Usability, do_Build, do_Investor, do_evidence, do_developers, do_Sonie, do_surfing, do_pic, do_look, do_Drive, do_executing, do_routes, do_extrapolation, do_Feature, do_specification, undo_couple, do_traveling, do_Who, do_AC, do_breakdown, do_diffs, do_learning, do_visitors, do_WAYS, do_companies, do_M, do_accenture, do_rebasing, do_WebX, do_clients, do_Piece, do_EP, do_ePharma, do_FS, do_gee, do_rountine, do_whiz, do_range, do_pens, do_YOU, do_PDT, do_minutes, do_ocupados, do_ra, do_Querie, do_DCI, do_off, do_PRIOR, do_whitepaper, do_luandry, do_Source, do_routine, do_least, do_Filtering, do_pleading, do_grt, do_recruitment, do_PoC, do_Accenture, do_so, do_Bank, do_read, do_make, do_slide, do_briefings, do_INTEGRATION, do_road, do_interaction, do_rollup, do_coordination, do_upfront, do_Thapas, do_sequencing, do_buid, do_advertisement, do_excercise, do_Beta, do_Magic, do_union, do_quote, do_honors, do_tailgates, do_g, do_equivalent, do_lock, do_Jeff, do_patterns, do_heroics, do_survery, do_documents, do_hunting, do_screening, do_multitude, do_animation, do_xlate, do_Parkway, do_velocities, do_Blackberry, do_Leads, do_Ideas, do_Mehrak, do_proces, do_HOW, do_generation, do_connectivity, do_purchasing, do_deletes, do_mobile, do_hack, do_quarter, do_strength, do_TO, do_sleuthing, do_storming, do_Wednesday, do_Adult, do_accounting, do_assigning, do_robin, do_competition, do_expenses, do_contacts, do_datasheet, sentido_afortunadamente, do_calibration, do_specific, do_Futures, do_ties, do_mom, do_flow, do_designs, do_Reagan, do_peek, do_scheduled, do_PRESENTATION, do_case, do_populatedDb, do_Efficiency, do_replies, do_compatibility, do_progress, do_clicking, do_layer, do_Committee, do_Co, do_Raam, do_syncing, do_Mondays, do_myself, do_sightseeing, do_jars, do_reconciliation, do_channel, do_Remove, do_UK, do_Y, do_Chanaka'"
      ]
     },
     "execution_count": 55,
     "metadata": {},
     "output_type": "execute_result"
    }
   ],
   "source": [
    "pairs_do = df_grouped.iloc[3]['action_object_pairs']\n",
    "pairs_do"
   ]
  },
  {
   "cell_type": "code",
   "execution_count": null,
   "metadata": {},
   "outputs": [
    {
     "name": "stderr",
     "output_type": "stream",
     "text": [
      "100%|██████████| 572415/572415 [00:11<00:00, 48762.41it/s]\n"
     ]
    },
    {
     "name": "stdout",
     "output_type": "stream",
     "text": [
      "Intent DF shape: (54316, 19); Remaining DF shape: (548564, 19)\n"
     ]
    }
   ],
   "source": [
    "df_do, df_remaining = split_dataframes(df_remaining,pairs_do)\n",
    "print(f'Intent DF shape: {df_do.shape}; Remaining DF shape: {df_remaining.shape}')"
   ]
  },
  {
   "cell_type": "markdown",
   "metadata": {},
   "source": [
    "##### Meeting DF"
   ]
  },
  {
   "cell_type": "code",
   "execution_count": 57,
   "metadata": {},
   "outputs": [
    {
     "data": {
      "text/plain": [
       "'have_meeting, set_meeting, schedule_meeting, attend_meeting, have_meetings, arrange_meeting, join_meeting, schedule_meetings, attend_meetings, have_appointment, set_meetings, hold_meeting, get_meeting, reschedule_meeting, call_meeting, follow_meeting, make_meeting, setup_meeting, set_appointment, confirm_meeting, move_meeting, do_meeting, attend_Meeting, coordinate_meeting, announce_appointment, cancel_meeting, start_meeting, setup_meetings, schedule_appointment, miss_meeting, hold_Meeting, regard_meeting, hold_meetings, need_meeting, join_MEETING, enjoy_meeting, get_appointment, leave_meeting, create_meeting, make_appointment, arrange_meetings, host_meeting, request_meeting, facilitate_meeting, plan_meeting, get_meetings, make_appointments, complete_meetings, disrupt_meeting, move_meetings, discuss_meeting, conduct_meetings, propose_meeting, organize_meeting, start_MEETING, postpone_meeting, coordinate_meetings, cancel_appointment, record_meetings, have_appointments, start_meetings, keep_meeting, finish_meeting, have_Meeting, change_meeting, set_appointments, cover_meeting, schedule_appointments, do_meetings, create_meetings, pull_meeting, forget_Meeting, push_meeting, remember_appointment, drive_meeting, run_meeting, join_meetings, suggest_meeting, follow_meetings, cancel_meetings, skip_meeting, summarize_meeting, include_meeting, regard_Meeting, plan_meetings, call_meetings, put_meeting, use_meeting, get_appointments, organize_meetings, post_meeting, kick_meeting, look_MEETING, need_meetings, delay_meeting, confirm_appointment, conduct_meeting, like_meeting, regard_meetings, follow_appointment, finalize_meeting, decline_meeting, defer_meeting, book_meeting, complete_meeting, include_meetings, facilitate_meetings, start_Meeting, put_meetings, setup_appointment, see_meeting, give_meeting, check_meeting, run_meetings, book_meetings, provide_Meeting, change_meetings, use_meetings, invite_meeting, share_Meetings, bring_meeting, support_meeting, tell_meeting, take_meetings, form_meeting, handle_meeting, reschedule_appointment, chair_meeting, accept_meeting, add_meeting, offer_appointment, update_meeting, use_NetMeeting, convene_meeting, broker_meeting, click_Meeting, remember_meeting, initiate_meeting, take_meeting, want_meeting, accommodate_meeting, see_Meeting, delete_meetings, move_appointment, find_meeting, prepare_meeting, take_appointment, host_Meeting, disrupt_meetings, affect_meeting, visit_meeting, arrange_appointment, end_meeting, head_meeting, lead_meeting, confirm_meetings, staff_meeting, work_meeting, miss_meetings, meet_meeting, resist_meeting, chair_meetings, resume_meeting, extend_meeting, manage_meetings, cover_meetings, face_meetings, tot_meeting, run_Meeting, reschedule_meetings, keep_appointment, find_Meeting, know_meeting, consider_meeting, greate_meeting, reconfirm_meeting, initiate_meetings, lead_meetings, announce_meeting, accelerate_meeting, like_Meeting, prefer_meeting, cut_meeting, require_meetings, implement_meetings, canx_meeting, give_disappointments, announce_appointments, request_meetings, announce_Appointment, continue_meeting, give_appointment, book_appointment, need_MEETING, organise_meeting, influence_appointment, pursue_meeting, mention_meeting, coordinate_appointments, make_meetings, select_meeting, avoid_disappointment, firm_meeting, nail_meeting, attend_Meetings, hade_meeting, discuss_Meeting, understand_Meeting, fix_meeting, understand_meeting, end_Meeting, show_meeting, join_Meeting, forward_meeting, approve_reappointment, approve_appointment, create_appointment, open_meeting, enter_meeting, mark_Meeting, regard_appointment, describe_meeting, switch_meetings, back_appointment, like_meetings, handle_meetings, firm_appointment, understand_disappointment, suffer_disappointment, hear_meeting, gather_meeting, qualify_meeting, want_meetings, target_meeting, gather_meetings, turn_meeting, brainstorm_meeting, drive_meetings, share_disappointment, market_meeting, reshedule_meeting, -attende_meetings, have_Appointment, miss_appointment, complete_Meetings, focus_Meeting, require_meeting, host_meetings, cancel_appointments, use_Meeting, take_appointments, update_appointment, got_appointment, disregard_meeting, select_meetings, kick_meetings, delete_meeting, follow_Meeting, create_Meeting, come_meeting, schedule_Appointment, sponsor_meeting, begin_meeting, receive_meeting, mobilize_meeting, express_disappointment, expect_meeting, install_meetings, configure_meeting, show_appointments, change_appointment, present_Meeting, accomodate_meeting, decline_meetings, create_Appointment, discuss_meetings, d._meeting, define_meeting, agree_meeting, permit_meetings, evaluate_meeting, broadcast_meetings, develop_Meeting, view_Meeting, offer_meetings, scope_meeting, include_appointment, -meete_Meeting, use_netmeeting, resume_meetings, promise_mEeting, face_meeting, arrage_meetings, pursue_meetings, ratify_appointment, use_Meetings, select_Meeting, help_meetings, chg_meeting, add_appointment, secure_meetings, avoid_meeting, keep_meetings, keep_appointments, think_meeting, update_meetings, mean_meeting, address_meeting, provide_meeting, build_meeting, share_meeting, arrange_Meeting, summarize_meetings, secure_meeting, support_meetings, tag_meeting, replace_meeting, set_Meeting, work_Meeting, upgrade_meeting, orchestrate_meeting, see_appointments, go_meeting, conclude_meeting, map_Meeting, juggle_meetings, proceed_meeting, focus_meeting, align_meetings, re_meeting, blow_meeting, recall_meeting, produce_meetings, suggest_meetings, initate_meetings, click_Meetings, have_Meetings, provide_meetings, line_appointment, look_meeting, manage_meeting, launch_meeting, speed_meeting, close_meeting, blow_meetings, meeting_priority, adjourn_meeting, maximize_meetings, rearrange_meetings, join_Meetings, line_meetings, stage_meetings, fly_meeting, determine_meeting, accomdate_meeting, insure_meeting, staff_meetings, include_Meetings, ordinate_meeting, reference_meeting, represent_meetings, die_Meeting, keep_Meeting, do_appointment, cal_meeting, finialize_meeting, team_meetings, run_MEETINGS, orchestrate_meetings, secure_appointments, let_appointment, durre_meeting, restart_meeting, notify_meeting, b/4_meeting, recommend_meeting, use_appointment, repeat_appointment, scope_Meeting, ensure_meetings, pull_meetings, list_meeting, fit_meetings, size_meeting, recap_meeting, announce_eMeeting, offer_MeetingZone, find_meetings, execute_meetings, outline_meeting, recap_meetings, re_meetings, have_weeklymeeting, base_meeting, reflect_meetings, modify_appointments, agree_meetings, debrief_meeting, schedue_meeting, view_appointments, synchronize_appointments, identify_meeting, ensure_meeting, sell_disappointments, convene_Meeting, get_MEETING, repeat_appointments, remember_meetings, surround_meeting, review_meetings, work_Meetings, try_NetMeeting, miss_appointments, maintain_appointments, attach_meeting, spend_meeting, appointment-_hours, reserve_meeting, schedule_Meeting, moderate_meeting, mark_meeting, shorten_meetings, sit_meeting, get_APPOINTMENTS, whip_meeting, bring_Meeting, serve_meeting, bypass_meeting, let_meeting, see_meetings, -attende_meeting, resemble_meetings, interpret_meeting, seek_meeting, ask_meeting, ordinate_meetings, depart_meeting, reserve_appointment, create_newmeeting, seek_meetings, -have_meeting, liberate_meeting, give_meetings, pitch_meetings, write_appointments, mean_Meeting, arrange_Meetings, face_Meeting, calender_meeting, resche_meeting, reach_appointments, list_meetings, postpone_appointment, break_meeting, confrime_meeting, request_Meeting, allow_meeting, resolve_meeting, have_MEETING, assemble_meeting, add_appointments, accept_Appointments, shape_meetings, await_meeting, arrnge_meeting, meeting_d, meeting_We, nominate_Meeting, freeze_appointments, anounce_appointment, note_Meeting, have_StandupMeeting, try_meeting, carry_meeting, structure_meeting, champion_meeting, insert_appointment, enter_Meetings, allhand_meetings, switch_meeting, reschedule_Meeting, create_appointments, notice_appointments, plan_Meeting, arange_meeting, forget_appointments, liberate_meetings, prefer_meetings, http://weightwatchers.lifecycle-email.com/go/wghtwwwn001nstxtmeetingrooms+findameeting00005ave/direct_EXCUSES, welcome_meetings, produce_Meeting, imagine_disappointment, put_appointment, avoid_meetings, participate_meetings, work_meetings, display_appointments, enter_appointments, enter_meetings, wait_meetings, say_Meetings, detail_appointment, view_meetings, proceedin_meeting, decide_meeting, prearrange_meetings, continue_meetings, seek_appointment, find_appointment, create_Meetings, sort_meetings, hold_Meetings, offer_meeting, rescope_meetings, need_Meeting, front_meeting, enhance_Meetings, feel_meeting, improve_meetings, participate_meeting, enjoy_meetings, refer_meeting, stop_meeting, finish_meetings, postpone_meetings, share_meetings, check_meetings, execute_meeting, deny_appointment, hope_meeting, have_premeeting, adapt_Appointment, test_NetMeeting, get_Appointments, sponsor_meetings, secure_appointment, hear_appointment, transition_meetings, move_appointments, open_appointment, stand_meetings, cancell_meeting, okay_meeting, highlight_meeting, schedulie_meetings, study_meeting, say_meeting, begin_meetings, interrupt_meetings, broker_meetings, rearrange_meeting, give_appointments, realize_meeting, announce_Meeting, block_appointment, reflect_meeting, ignore_PharmaMeeting, influence_meeting, stage_meeting, line_meeting, pick_Meeting, go_meetings, miss_Meeting, force_appointment, applaud_appointment, protect_meetings, write_meeting, click_meeting, email_meeting, remove_meeting, slip_meeting, govern_meetings, accept_meetings, orgnaize_meeting, escalate_meeting, finesse_meetings, bootstrappe_meetings, regard_appointments, appreciate_meeting, pende_meeting, present_meeting, squeeze_meetings, b/4_meetings, arrive_Meetings, search_appointments, mention_meetings, gain_meeting, tee_meeting, arrange_appointments, avoid_DISAPPOINTMENT, contact_Meetings, land_meeting, call_Meeting, control_meeting, corrdinate_meetings, think_meetings, approach_meeting, reschedule_appointments, select_PharmaMeetings, show_meetings, accept_appointment, manage_Meetings, w/_meeting, establish_meeting, ihave_meeting, rescedule_meeting, view_appointment, calender_meetings, receive_disappointment, intersperse_meeting, delay_meetings, enable_appointments, turn_Meeting, remove_meetings, talk_meeting, release_meeting, promise_appointment, duree_meeting, delete_appointments, recheck_appointments, meet_Meeting, limit_meetings, s_meeting, stretch_meeting, combine_meeting, reconstitute_meeting, remove_appointments, reinstitute_meetings, join_us, attend_event, attend_conference, attend_training, attend_NetSession, attend_session, attend_Conference, attend_that, attend_seminar, attend_one, attend_class, attend_sessions, confirm_attendance, attend_show, attend_presentation, attend_Seminar, attend_events, attend_this, attend_school, attend_portion, attend_Series, attend_Summit, attend_classes, attend_Outside, attend_conferences, attend_course, attend_Business, attend_both, SHOULD_ATTEND, attend_day, attend_lunch, attend_dinner, attend_program, engage_attendees, attend_which, provide_attendees, attend_Expo, attend_seminars, attend_workshop, attend_Forum, have_attendees, attend_exhibition, reward_attendance, attend_Solutions, attend_message, attend_Lunch, attend_Watchers, attend_type, attend_party, attract_attendees, attend_CTIA, attend_any, attend_site, attend_demo, attend_days, attend_it, attend_trial, attend_Event, attend_button, attend_conf, attend_suite, click_Attend, attend_pre, invite_attendee, request_attendance, attend_opportunities, attend_exposition, attend_workshops, attend_studies, attend_alpha, include_attendees, attend_some, draw_attendees, attend_Edge, attend_University, attend_reception, attend_eSeminar, attend_function, attend_mtg, attend_support, regard_attendance, attend_launch, attend_presentations, attend_overview, attend_Congress, attend_Banking, attend_funeral, attend_Message, attend_Briefing, attend_activities, meet_attendees, attend_transfer, attend_either, attend_these, attend_Study, attend_half, attend_e, attend_webcast, attend_courses, expect_attendees, attend_breakfast, attend_part, attend_Workshop, expect_attendance, educate_attendees, attend_summit, attend_Party, attend_World, attend_game, attend_Regards, attend_forum, encourage_attendance, attend_keynotes, attend_Prakash, show_attendees, attend_executives, meet_Attendees, attend_shows, get_Attendant, attend_wedding, register_attendees, attend_October, attend_am, attend_Training, require_attendance, attend_systems, attend_Exposition, confirm_attendees, add_attendees, attend_briefing, attend_college, attend_farewell, have_attendance, attend_most, attend_review, attend_tradeshows, attend_Strategies, attend_Rajeev, attend_time, attend_Webinar, attend_Thurs, attend_Divakar, attend_Institute, attend_PCIA, attend_all, attend_series, attend_dinners, attend_Hall, estimate_attendance, get_attendees, drive_attendance, attend_tradeshow, attend_visits, attend_Deadline, attend_Show, attend_eStaff, attend_AvocadoIT, attend_Symposium, attend_staff, attend_companies, attend_programs, attend_Electric, attend_discussion, attend_TechDay, attend_NetCast, attend_E, attend_reviews, attend_influence, attend_press, attend_offsite, tell_attendees, attend_parts, attend_webcasts, attend_anyone, attend_Who, attend_engagement, attend_Pumatech, attend_Dinner, attend_PalmSource, attend_who, attend_ShowStoppers, attend_weddings, come_attendess, attend_Ricardo, attend_Day, attend_Clara, attend_Immersion, attend_Panel, attend_panel, attend_ceremony, attend_media, attend_DCI, attend_developers, get_attendance, attend_DMA, attend_Beader, attend_job, attend_Showcase, attend_etc, attend_Infrastructure, train_attendees, attend_planning, attend_need, attend_many, assign_attendees, attend_marriage, attend_Picnic, attend_stuff, attend_Tues, persuade_attendees, attend_people, attend_College, attend_picnic, attend_Fair, attend_plan, attend_interview, discuss_attendance, attend_engineers, meet_ATTENDEES, attend_USA, attend_estaff, attend_Helen, attend_Keynote, attend_Culture, attend_Session, attend_Review, attend_them, attend_what, attend_parties, attend_Discussions, attend_Morris, join_attendees, attend_talk, attend_Outlook, attend_collateral, attend_Webcast, attend_end, attend_ward, attend_Sent, add_Attendees, attend_hour, attend_broadcast, attend_Service, attend_Markets, should_ATTEND, attend_service, confirm_attendence, attend_mtgs, attend_teleconference, attend_FastTracks, attend_solution, attend_showcase, attend_Mobile, attend_myself, attend_address, attend_Simulation, attend_Services, attend_eSeminars, supply_attendees, attend_appt, attend_Access, attend_way, invite_attendees, attend_vendor, attend_Channels, attend_webinar, attend_church, attend_gathering, attend_discussions, attend_sections, attend_Camera, attend_below, attend_fair, attend_cafes, attend_Shower, attend_Applications, select_Attendees, select_attendees, attend_ones, have_attendee, attend_few, attend_minutes, attend_luncheon, attend_func, attend_Premier, attend_even, attend_Network, attend_center, attend_Seminars, attend_Banamex, find_attendees, attend_much, expose_attendees, attend_anything, attend_mcommerce, attend_those, attend_face, attend_Director, attend_XSL, finalize_attendees, attend_name, attend_Amit, attend_roundtable, give_attendant, drum_attendees, leave_attendees, make_attendees, attend_feasts, attend_Cluster, attend_CA, attend_OUT, tradeshow_attendees, say_Attendees, attend_partners, attend_setup, -attende_Mtg, secure_attendance, attend_Village, attend_Insights, attend_Items, attend_II, forget_ATTENDING, attend_Optimization, attend_other, attend_contact, attend_ASAP, attend_CRM, attend_Managers, choose_attendees, attend_Members, post_attendees, add_Attendee, attend_interaction, attend_Wohl, attend_interviews, attend_COMDEX, attend_Exhibition, attend_ppt, attend_functions, attend_rota, attend_ostaff, attend_Cannes, attend_Roundtable, attend_tutorial, attend_ISPCON, attend_Conferences, prioritize_attendees, oversubscribe_attendance, attend_updates, attend_concert, attend_GSM, attend_Week, event_attendees, attend_Developer, increase_attendance, wow_attendees, attend_taping, attend_online, attend_Live, attend_mSchool, jump_attendance, attend_Tutorial, attend_centers, attend_CGEYcomm, attend_Mesa, attend_VP, welcome_attendees, attend_trip, attend_TiECon, attend_week, attend_everything, attend_birth, attend_Owner, attend_ctia, attend_EMAS, attend_DevCon, attend_thru, reach_attendees, attend_BUSINESS, attend_booth, port_attendees, sign_attendees, attend_whatever, see_attendees, attend_drill, attend_Comdex, represent_attendees, attend_representatives, attend_Webinars, supplement_attendance, attend_exhibit, attend_QMM, attend_West, attend_classroom, attend_Presenter, assess_attendance, attend_Register, attend_yours, mean_Attendees, attend_CIOs, add_attendee, go_attendees, win_attendance, attend_agreement, assume_attendance, take_attendees, attend_Platforms, attend_month, attend_trainings, attend_IETF, attend_Manager, attend_Line, attend_Group, attend_sales, attend_PSD, attend_BASH, attend_BAYOU, enable_attendant, attend_symposium, attend_position, attend_academy, guarantee_attendance, attend_KEYNOTES, attend_BorCon, enable_attendees, attend_Oracle, attend_marriages, attend_Webseminar, attend_School, estimate_attendees, attend_chat, attend_Superg, attend_IT, attend_fitting, workshop_attendees, attend_co, attend_banquet, save_attend, attend_Rgrds, limit_attendance, attend_lessons, attend_festival, get_attendant, bring_attendees, attend_Methodologies, attend_trends, attend_trg, attend_HP, attend_tutoring, attend_VALUE, attend_Preview, lose_attendees, attend_nights, attend_team, cancel_attendance, limit_attendees, attend_exp, attend_JC, attend_Users, arrange_attendees, attend_p, attend_project, attend_implementation, attend_design, attend_Whom, attend_CODE, hear_attendant, attend_charity, generate_attendance, select_Attendess, attend_Stanford, attend_out, attend_choreographer, attend_Team, outline_attendees, attend_Plaza, address_attendees, attend_development, attend_Blank, attend_Philip, attend_Gala, attend_thing, attend_entertain, attend_projectY, secure_attendants, attend_ANY, attend_celebration, attend_placement, coordinate_attendance, attend_speech, attend_Chan, attend_SEMINAR, attend_Sys, attend_Outsourcing, attend_baptism, attend_Ryan, attend_assemblies, attend_Point, attend_management, attend_Europe, attend_One, tell_attendant, win_Attendees, attend_lot, attend_lots, attend_Cicada, designate_attendee, attend_Online, assist_attendees, attend_offering, attend_Chicago, attend_Tuesday, -attende_GMCF, attend_Implementation, attend_Interview, attend_functionality, attend_strings, regard_attendees, attend_Tip, attend_AppsWorld, attend_CLICK, attend_EXPO, attend_trees, attend_Centers, attend_Universe, attend_title, attend_Branch, attend_follow, attend_Association, attend_srik, attend_Inside, attend_DemoMobile, attend_Luck, attend_HIDDEN, attend_bash, attend_tommorrow, attend_another, attend_Fall, attend_master, cover_attendance, attend_back, coordinate_attendees, attend_memorial, attend_stop, attend_Video, target_attendees, ctia_attendees, attend_WDU, attend_SEATTLE, appreciate_attendance, attend_persons, attend_ITI, attend_Philly, attend_k, attend_Necessity, attend_Couse, attend_Tour, mention_attendance, meet_Attendants, attend_court, attend_Debbie, attend_exec, attend_schools, attend_Instruction, attend_outline, attend_MSI, attend_Mingle, provide_attendance, attend_JavaPlus, attend_Tactics, attend_torture, attend_players, attend_flight, attend_portions, attend_businesses, attend_lecture, set_Attendees, attend_Moore, attend_jupiter, attend_demos, attend_Forums, attend_confernce, attend_shashi, evaluate_attendee, attract_Attendee, accept_attendees, attend_Discussion, listen_attendance, provide_attendee, attend_Meet, attend_approx, attend_FS, attend_eXtreme, attend_ITxpo, attend_computers, attend_link, attend_SUPERnet, clear_attendance, attend_CTOs, treat_attendees, attend_challenge, attend_SuperComm, attend_track, develop_attendant, attend_Pam, attend_staffs, attend_outlook, forward_attendees, attend_build, attend_professionals, create_Attendees, inform_attendees, attend_GoMobile, annoy_attendee, instruct_attendees, attend_couple, attend_IS, attend_Problem, attend_piece, attend_centre, evaluate_attendees, attend_Tnx, verify_attendance, contact_attendees, attend_institution, attend_reunion, attend_Boston, distribute_attendees, attend_retreat, attend_games, attend_meting, attend_objective, follow_Attendees, attend_section, exclude_attendees, attend_RSVP, schedule_attendance, attend_cost, attend_work, hit_attendees, attend_demonstrations, attend_chance, attend_Eric, attend_Name, attend_Office, attend_Anza, attend_BRUNCH, attend_No, attend_theses, cheer_attendees, attend_IBC, mattend_PCIA, refer_attendees, ensure_attendees, attend_officials, attend_SWAMI, perform_Attendees, attend_each, pay_attendees, attend_extravaganza, permit_attendance, pinpoint_attendence, involve_attendees, attend_SIG, attend_MEC, ask_attendees, attend_ATT, attend_issues, attend_PCExpo, attend_WAVE, attend_Nextel, attend_opportunity, attend_CEOs, reconfirm_attendance, attend_ADMISSION, attend_Desktop, attend_Spend, attend_latest, attend_Open, gather_attendance, attend_versions, attend_house, attend_Bazaar, attend_Getstartup, attend_models, attend_rooftop, attend_Development, attend_roundtables, let_attendees, qualify_attendee, download_attendees, attend_Taking, show_attendee, attend_programme, attend_emergency, attend_experience, attend_RFP, have_attendant, attend_IST, show_attendence, attend_performance, attend_draft, attend_blah, attend_Directions, attend_scheduled, attend_m, attend_We, attend_d, attend_Discover, attend_Mecca, create_attendance, attend_CAFE, attend_you, attend_Look, enumerate_attendent, attend_cheers, attend_mob, include_attendance, attend_Friday, attend_he, attend_Coke, promote_attendence, attend_standup, attend_please, attend_night, attend_sponsor, attend_Man, attend_integrators, attend_commerce, attend_statement, set_attendees, attend_majority, attend_Presentation, defer_attendance, upload_Attendee, attend_busts, attend_Boozefest, attend_Class, attend_council, attend_yourself, attend_INSIGHT, attend_Mobility, attend_graduation, attend_Kumi, attend_JavaOne, attend_Capitalize, hold_Attendees, conference_attendees, attend_telcos, attend_vigil, attend_countdown, attend_WIT, attend_confirmation, attend_mini, qualify_attendees, provide_Attend, keep_attendees, attend_Craig, deliver_attendees, attend_GM, attend_offices, finalize_Attendees, attend_demonstration, attend_ProBusiness, attend_Developers, attend_fairs, program_attendant, attend_social, attend_spec, attend_kar, attend_ChinaTech, attend_Reaching, attend_Ameya, raise_attendance, tutorial_attendees, attend_music, transport_attendees, attend_outing, attend_lectures, attend_Trends, attend_HIPAA, attend_Ricketts, attend_Birds, attend_evening, attend_Davis, arm_attendees, attend_free, attend_rest, attend_Click, specify_attendee, attend_birthday, attend_WEST, like_attendence'"
      ]
     },
     "execution_count": 57,
     "metadata": {},
     "output_type": "execute_result"
    }
   ],
   "source": [
    "pairs_meeting = df_grouped.iloc[4]['action_object_pairs']\n",
    "pairs_meeting"
   ]
  },
  {
   "cell_type": "code",
   "execution_count": null,
   "metadata": {},
   "outputs": [
    {
     "name": "stderr",
     "output_type": "stream",
     "text": [
      "100%|██████████| 548564/548564 [00:11<00:00, 47522.00it/s]\n"
     ]
    },
    {
     "name": "stdout",
     "output_type": "stream",
     "text": [
      "Intent DF shape: (54316, 19); Remaining DF shape: (521583, 19)\n"
     ]
    }
   ],
   "source": [
    "df_meeting, df_remaining = split_dataframes(df_remaining,pairs_meeting)\n",
    "print(f'Intent DF shape: {df_meeting.shape}; Remaining DF shape: {df_remaining.shape}')"
   ]
  },
  {
   "cell_type": "markdown",
   "metadata": {},
   "source": [
    "##### Information DF"
   ]
  },
  {
   "cell_type": "code",
   "execution_count": 60,
   "metadata": {},
   "outputs": [
    {
     "data": {
      "text/plain": [
       "'provide_information, contain_information, need_information, have_information, get_information, receive_information, give_information, access_information, update_information, pass_information, include_information, verify_information, request_information, use_information, find_information, review_information, share_information, email_information, like_information, want_information, gather_information, add_information, require_information, deliver_information, collect_information, forward_information, obtain_information, capture_information, keep_information, submit_information, present_information, select_Information, take_information, enter_information, change_information, see_information, read_information, disclose_INFORMATION, note_information, support_information, communicate_information, know_information, publish_information, distribute_information, fill_information, put_information, store_information, retrieve_information, pull_information, manage_information, zap_information, extract_information, supply_information, disclose_information, offer_information, recommend_information, relate_information, make_information, regard_information, show_information, display_information, leave_information, convey_information, attach_information, check_information, link_information, maintain_information, write_information, bring_information, click_INFORMATION, incorporate_information, track_information, treat_information, view_information, call_information, discuss_information, translate_information, exchange_information, miss_information, go_INFORMATION, edit_information, transmit_information, turn_information, protect_information, download_information, alter_information, identify_information, lose_information, leverage_information, organize_information, change_Information, mobilize_information, hold_information, appreciate_information, mobilise_information, define_information, unsubscribe_information, filter_information, transfer_information, feed_information, complete_information, push_information, seek_information, tell_information, input_information, confirm_information, hear_information, look_information, document_information, follow_information, disseminate_information, modify_information, size_information, upload_information, save_information, absorb_information, include_INFORMATION, log_information, compile_information, generate_information, get_INFORMATION, render_information, fax_information, post_information, set_information, apply_information, gain_information, integrate_information, correct_information, interchange_information, mail_information, control_information, omit_information, seat_information, recall_information, remove_information, consolidate_information, release_information, aggregate_information, license_information, login_information, sell_information, represent_information, setup_information, browse_information, combine_information, expect_information, have_INFORMATION, bill_information, detail_information, develop_information, type_information, time_information, extend_information, cover_information, hand_information, build_information, locate_information, convert_information, delete_information, process_information, relay_information, secure_information, trust_information, retain_information, determine_information, handle_information, break_information, exhibit_information, register_information, acquire_information, reveal_information, need_Information, accept_information, specify_information, host_information, load_information, analyze_information, visit_information, source_information, trap_information, contact_information, personalize_information, begin_information, record_information, call_Information, understand_information, carry_information, move_information, beef_information, do_information, fill_INFORMATION, divulge_information, assimilate_information, sync_information, enclose_information, address_information, make_Information, target_information, await_information, select_information, create_information, please_information, pick_information, place_information, copy_information, go_Information, see_Information, pende_information, attain_information, coordinate_information, deliver_Information, report_information, schedule_information, order_information, click_Information, limit_information, draw_information, republish_information, consider_information, keep_informations, provide_Information, collect_Information, recover_information, prevent_information, respond_information, repeat_information, populate_information, |meete_Information, return_information, claim_information, purge_information, encrypt_information, cache_information, get_informations, account_information, profile_information, ignore_information, figure_information, allow_information, feel_information, RECEIVE_INFORMATION, print_information, apply_INFORMATION, list_information, have_Information, apply_Information, learn_information, endorse_information, broadcast_information, announce_information, add_Information, present_Information, grab_information, request_Information, update_Information, need_INFORMATION, travel_information, ask_information, structure_information, monitor_information, s_information, concern_information, recieve_information, indicate_information, rent_information, sort_information, owe_information, customize_information, synchronize_information, include_Information, feature_information, garthere_information, file_information, join_information, drop_information, prepare_information, cull_information, output_information, get_Information, revise_Information, mention_information, detect_information, sensor_information, want_INFORMATION, help_information, fetch_information, notice_information, own_information, eliminate_information, implement_information, persist_information, accumulate_information, cut_information, need_informations, preface_information, requirement_information, clarify_information, guarantee_INFORMATION, lookup_information, insert_informations, enter_informations, assign_information, give_accurateinformation, obtain_INFORMATION, incle_information, meet_Information, evaluate_information, debug_information, dump_information, match_information, scratch_information, assess_information, mine_information, damage_information, backup_information, skill_information, research_information, interview_information, transform_information, name_information, contain_Information, direct_information, paste_information, transport_information, request_INFORMATION, leak_information, validate_information, authenticate_information, assemble_information, examine_information, entry_information, suggest_information, explain_information, give_INFORMATION, navigate_information, survey_information, upgrade_information, customise_information, unsubscribe_Information, restore_information, channel_information, recycle_information, dessiminate_information, club_information, pinpoint_information, reactivate_information, hyperpersonalize_information, advertise_information, reconcile_information, engineer_information, like_Information, manage_Information, digest_information, follow_Information, furnish_information, overwrite_information, refer_Information, attend_information, find_informations, synch_information, utilize_information, logs_information, summary_information, resupply_information, fit_information, lock_information, put_Information, willprovide_information, run_information, bring_Information, ruin_Information, clean_information, produce_information, offer_Information, love_information, know_informations, refer_information, statistic_information, plug_information, tide_information, price_information, believe_information, position_information, ship_INFORMATION, collate_information, senden_Produktinformationen, announce_Information, archive_information, associate_information, serve_Information, end_information, receive_Information, show_Information, hit_Information, receive_INFORMATION, package_information, construct_information, circulate_information, read_misinformation, assist_information, play_information, redirect_information, forget_information, rewind_information, enhance_information, optimize_information, sign_information, pickup_information, synchronise_information, mislead_information, invite_Information, jot_information, reflect_information, trade_information, help_Information, overnighte_information, cobra_information, let_information, stream_information, soak_information, grade_information, inputte_information, showcase_information, connect_information, derive_information, fund_information, swap_information, serve_information, destroy_information, spit_information, compute_information, inform_information, reenter_information, handle_Information, generate_Information, forward_INFORMATION, extrace_information, resende_information, say_information, spread_information, plan_INFORMATION, insert_information, order_INFORMATION, keep_INFORMATION, vandalize_information, give_Information, promote_information, refuse_information, forward_informationrequest, annotate_information, talk_Information, troubleshoot_information, dicuss_information, export_information, enjoy_information, review_Information, purpose_information, ensure_information, pass_INFORMATION, move_Information, cast_information, unify_information, gleam_information, influence_information, evaluate_Information, checkpointe_information, describe_information, guard_information, highlight_information, effect_information, fail_Information, pls_information, forwatd_information, flesh_information, study_information, express_information, check_Information, desire_information, glean_information, squeeze_information, reentere_information, arrive_INFORMATION, conference_INFORMATION, ferret_information, decrypt_information, defend_information, revise_information, order_Information, print_INFORMATION, fault_information, discover_information, enable_information, massage_information, roopak_information, manipulate_information, tailor_information, dislike_information, misuse_information, earthshake_information, accomodate_information, comment_information, dig_information, append_information, reset_information, test_information, improve_Information, enought_information, acquire_Information, conduct_information, write_Information, find_Information, lead_information, solicit_information, get_Informations, buy_information, lay_information, expose_information, decide_information, correlate_information, obstruct_information, focus_information, outline_information, transcribe_information, streamline_information, decode_information, improve_information, reach_Information, cater_information, finalize_information, nab_information, migrate_information, dice_information, scan_information, retype_information, hide_information, say_Information, decorate_information, exclude_information, cite_information, update_INFORMATION, exhibit_Information, catch_information, think_Information, deliver_INFORMATION, contact_Information, syndicate_information, call_INFORMATION, meet_information, constitute_information, flow_information, embed_information, younee_information, finish_information, map_information, perform_information, summarize_information, involve_information, scale_information, .for_information, fail_information, juggle_information, import_information, affect_information, impart_information, guide_information, safeguard_information, warn_information, unite_information, install_information, define_Information'"
      ]
     },
     "execution_count": 60,
     "metadata": {},
     "output_type": "execute_result"
    }
   ],
   "source": [
    "pairs_information = df_grouped.iloc[5]['action_object_pairs']\n",
    "pairs_information"
   ]
  },
  {
   "cell_type": "code",
   "execution_count": null,
   "metadata": {},
   "outputs": [
    {
     "name": "stderr",
     "output_type": "stream",
     "text": [
      "100%|██████████| 521583/521583 [00:04<00:00, 104392.32it/s]\n"
     ]
    },
    {
     "name": "stdout",
     "output_type": "stream",
     "text": [
      "Intent DF shape: (54316, 19); Remaining DF shape: (503645, 19)\n"
     ]
    }
   ],
   "source": [
    "df_information, df_remaining = split_dataframes(df_remaining,pairs_information)\n",
    "print(f'Intent DF shape: {df_information.shape}; Remaining DF shape: {df_remaining.shape}')"
   ]
  },
  {
   "cell_type": "markdown",
   "metadata": {},
   "source": [
    "##### Change DF"
   ]
  },
  {
   "cell_type": "code",
   "execution_count": 62,
   "metadata": {},
   "outputs": [
    {
     "data": {
      "text/plain": [
       "\"make_changes, change_address, make_change, test_changes, change_it, have_changes, change_password, change_name, change_preferences, change_this, require_changes, need_changes, review_changes, change_format, change_way, change_number, change_code, change_status, change_Reviewer, change_signature, do_changes, change_anything, change_Code, change_them, have_change, incorporate_changes, change_that, change_date, reflect_changes, note_changes, change_value, change_order, discuss_changes, change_IP, change_mail, change_state, see_changes, give_change, show_changes, change_settings, regard_changes, change_system, change_things, implement_changes, deliver_changes, change_options, change_what, change_navigation, change_file, include_changes, change_destination, change_browser, change_profile, exchange_it, start-->programs-->nortel_Changer, change_files, update_changes, include_Exchange, list_changes, do_change, require_change, change_e, change_mind, change_Accenture, change_versions, change_site, note_change, exchange_ideas, reflect_change, change_time, change_wheels, change_Unsubscribe, report_changes, count_change, get_changes, change_profiles, change_names, exchange_emails, merge_changes, give_changes, change_path, need_change, change_plan, change_message, incorporate_change, follow_changes, change_bug, know_changes, want_changes, want_change, change_coverage, announce_changes, change_application, place_change, change_graphic, regard_change, mobilize_Exchange, change_parameters, contain_changes, change_greeting, change_something, change_EP, change_setting, change_values, change_Profile, change_parameter, change_behavior, enter_changes, change_ADDRESS, accept_changes, change_text, track_changes, document_changes, change_version, change_title, verify_changes, change_interface, change_references, leave_CHANGES, save_changes, suggest_changes, discuss_change, change_build, communicate_changes, change_rules, change_URLs, change_Fund, change_world, expect_changes, change_E, change_website, change_signatures, check_changes, change_stage, use_changes, provide_changes, change_following, exchange_e, change_size, change_page, change_server, change_device, change_schedule, request_changes, change_any, change_Review, change_keymapping, change_Cookies, change_data, change_directory, read_changes, change_reservation, get_change, change_URL, change_route, change_script, represent_change, change_plans, change_requirements, provide_change, complete_changes, like_changes, change_life, change_hands, change_type, change_UI, change_owner, change_arun, indicate_change, change_wording, change_Jose, see_change, submit_changes, change_model, change_configuration, change_Edward, test_change, change_structure, change_tests, change_pricing, change_Click, implement_change, change_minds, change_shortcoming, change_Settings, review_change, change_itinerary, change_guidance, change_providers, exchange_mails, apply_changes, change_question, change_models, change_much, change_Chair, change_subject, change_landscape, exchange_messages, change_habits, change_class, enhance_Exchange, add_changes, pick_changes, change_presentation, change_timeout, change_line, change_Start, clear_changes, involve_changes, select_Change, do_Changes, change_you, change_definition, exchange_mail, change_processes, change_strategy, change_dates, change_some, do_exchange, change_label, represent_changes, change_Face, indicate_changes, change_Deepak, change_everything, change_link, bring_changes, change_encoding, handle_changes, change_routes, change_sets, change_sentence, change_email, change_list, change_typo, change_gateway, enable_change, change_process, find_changes, exchange_data, change_design, change_timeouts, make_CHANGES, exchange_reports, propose_changes, highlight_changes, change_needs, change_preference, change_course, email_changes, change_frequency, change_relationship, include_change, change_filename, change_Description, change_delivery, embrace_change, cause_changes, change_field, change_Change, change_level, checkin_changes, use_Exchange, assess_changes, change_Address, change_environment, see_exchanges, identify_changes, change_thing, confirm_changes, merge_change, change_review, change_case, change_word, change_story, access_Exchange, manage_changes, change_pages, change_functions, support_changes, change_face, roll_changes, anticipate_changes, change_numbers, describe_changes, revert_changes, change_Landscape, perform_change, change_focus, commit_changes, change_types, create_change, bring_change, change_part, change_these, change_option, change_behaviour, change_intervals, change_both, give_Exchange, change_classes, change_Jaigak, recommend_changes, change_priority, change_jobs, change_contract, change_VS, change_source, change_passwords, change_bugs, divide_changes, change_Date, accommodate_changes, change_AvocadoIT, enable_exchange, shape_changes, change_bit, change_properties, exchange_email, change_Status, change_flight, provide_exchange, change_lives, change_layout, change_price, change_form, change_meaning, undergo_changes, accomodate_change, notice_change, change_CREATED, drive_changes, change_installer, change_severity, approve_changes, cover_changes, change_classpath, change_database, consider_changes, accept_change, change_machine, change_prospects, change_dialog, undergo_change, change_bulb, change_ScriptingDLL, change_monitoring, change_port, change_IE, change_criteria, change_letter, change_Prakash, change_services, change_development, change_subscription, present_changes, change_card, change_one, cause_change, change_pqa, change_inputs, change_messages, change_look, explain_changes, change_connection, change_addresses, change_documentation, view_changes, perform_changes, change_hours, change_fields, change_length, change_Keys, mark_changes, change_designer, change_image, change_all, change_implementation, change_content, catch_change, necessitate_changes, support_Exchange, onload_onchange, change_formatting, change_shots, change_step, have_exchange, change_variable, finish_changes, change_scripts, change_terminology, change_program, change_changes, change_location, warrant_change, change_direction, change_which, change_cursor, change_Done, change_Management, change_schedules, back_changes, change_Version, change_tag, address_changes, change_Name, change_EMAIL, change_jsp, change_docs, move_changes, change_arrangements, change_test, define_changes, go_changes, change_conditions, change_days, change_permissions, change_default, try_change, change_entry, exchange_couple, change_mode, change_epoperation, introduce_changes, change_prompt, change_Bedi, use_exchange, absorb_change, capture_changes, tell_exchange, add_change, change_ip, anticipate_change, change_testing, state_changes, change_section, share_changes, change_thinking, change_software, change_slides, change_spec, change_industry, specify_changes, effect_change, change_calculation, include_exchange, change_messaging, change_task, change_attribute, outline_changes, change_stuff, change_color, change_issues, propogate_change, change_Changes, change_EMDS, change_doc, show_change, change_interests, exchange_lists, install_changes, exchange_ticket, change_HOW, change_positions, change_jar, review_Changes, change_info, change_uptime, introduce_change, change_times, scope_changes, change_statuses, exchange_them, change_support, forward_changes, submit_change, need_exchange, involve_change, change_point, announce_change, access_changes, change_interfaces, change_investigations, change_discussions, change_view, detail_changes, change_priorities, change_Sent, change_phrase, modify_changes, change_Login, take_changes, keep_changes, change_font, deliver_change, build_changes, change_username, describe_change, change_terms, change_copy, change_links, change_role, manage_change, change_attitude, change_reference, handle_change, undo_changes, change_dns, demonstrate_change, change_features, contribute_exchange, change_pathnm, change_Browsing, change_products, change_fact, change_rank, change_product, change_logic, overwrite_changes, change_DTD, change_market, speed_changes, change_limit, put_changes, change_ranking, communicate_change, paste_changes, change_functionality, publish_changes, change_header, notice_changes, change_Clara, complete_change, take_change, change_quo, change_balance, change_approach, mean_changes, change_DNS, confirm_change, change_icon, change_servers, change_elements, change_keys, exchange_that, change_demo, consummate_change, change_colleteral, change_architectures, change_intention, change_banks, follow_change, change_contact, support_change, change_baselines, compare_changes, change_account, change_screen, change_tags, change_diaper, facilitate_exchange, change_button, change_FS, relate_changes, change_business, change_day, change_his, change_entries, change_Dimension, signal_change, change_presentations, change_partners, change_config, change_career, change_dispatcher, change_itineraries, change_BusinessObject, change_bundles, change_Regards, set_change, change_provision, change_Topics, enjoy_exchange, change_ratio, change_scheme, operate_exchange, update_change, change_etc, trigger_change, change_reviewers, block_change, see_CHANGES, change_decision, change_width, launch_exchange, change_EXDS, need_Changes, change_methods, change_Till, change_equation, isolate_changes, characterize_change, change_templates, change_HR, lock_changes, interchange_it, map_changes, change_descriptions, change_updates, change_TableDlg, change_future, reach_Exchange, tell_changes, fax_changes, change_template, check_Changes, fix_changes, negotiate_changes, change_assumption, change_fonts, change_flights, change_service, change_debug, change_game, change_bundle, change_the, change_privileges, change_recurrence, exchange_shares, change_policy, have_exchanges, know_change, leave_changes, say_changes, change_defaults, join_exchanges, affect_changes, lose_changes, change_Testing, change_Shares, change_answers, apply_CHANGES, change_bean, change_writing, change_property, change_memory, change_locale, change_Customer, change_labels, change_XP, change_cell, deliver_MSExchangeMTA, import_changes, change_Error, rebase_changes, exchange_views, change_Tested, change_nature, change_Questions, change_headline, exchange_card, change_graphics, drive_change, change_ordering, predict_changes, change_AML, change_Adapter, exchange_documents, apply_change, change_STATUS, change_SUPPORT, improve_exchange, change_schema, change_outlook, work_changes, change_verbiage, change_tsetserver, change_carriers, accomodate_changes, change_string, change_expressions, change_room, change_reservations, change_results, change_method, minimize_changes, change_opinion, change_mechanism, change_copyright, change_Alerts, detect_changes, change_LOOK, change_db, change_couple, oluser_changetrade_cstub.c_oluser, test_Change, wait_Changes, reduce_changes, change_document, change_setup, change_identification, run_changes, replicate_changes, change_Paragraph, change_quantity, change_Files, unsubscribe_change, join_exchange, change_post, change_charset, change_most, spare_Change, change_JSP, changes_tags, change_architecture, change_INC, change_aliases, change_Symbol, change_instructions, initiate_change, change_chain, change_infrastructure, approve_change, change_choice, change_project, fit_changes, change_EMAS, extend_Exchange, exchange_voicemails, defer_changes, change_Rajdeep, understand_change, change_Life, change_drivers, change_object, focus_Exchange, change_vocabularies, change_package, change_months, give_Change, change_paragraph, change_makeup, change_Problems, change_David, change_hotel, change_Money, exchange_customers, change_Strategy, change_planes, change_adapter, here're_changes, create_exchanges, rollout_changes, exchange_details, change_srf, replace_changes, change_verbage, change_control, happen_changes, exchange_desktop, change_reputation, like_change, change_component, change_President, exchange_tips, loose_changes, exchange_thoughts, change_behaviors, change_ID, return_Changes, change_Resolved, invite_exchanges, change_aspects, change_flow, advise_changes, change_panel, change_deal, change_formating, commit_Changes, inform_Exchange, change_timesheet, change_situation, exchange_images, clarify_changes, change_pairs, request_change, allow_change, change_return, exchange_knowledge, plan_changes, minimize_change, change_Workshops, change_details, change_Time, change_xsl, exchange_info, prepare_changes, change_aml, change_handhelds, look_changes, exchange_Notes, change_titles, change_shape, change_Trust, change_salary, change_oil, change_client, exchange_keys, add_Change, change_cheers, fill_Change, redo_changes, delete_changes, encrypt_changes, change_mobileStudio, click_Changes, use_change, change_set, change_display, prevent_changes, change_ERROR, change_ticket, coordinate_changes, report_change, treat_changes, pass_changes, exchange_pleansantries, mail_changes, reset_CHANGEME, som_changes, change_RSVP, change_policies, change_ability, change_distribution, change_alias, help_changes, change_us, change_rates, change_netmask, change_relation, change_syntax, change_output, change_spin, exchange_perspectives, change_management, form_exchange, change_Tests, change_leadership, run_Changes, exchange_names, identify_change, understand_changes, change_quote, change_SiebelResource, roll_change, change_feedback, maintain_changes, change_solutions, change_cases, change_oder, change_sensitivity, change(sette_flag, change_manager, change_plugin, change_buttons, change_perception, change_tune, change_tomorrow, deliver_Changes, change_srik, change_registry, change_box, change_environement, change_cards, change_departments, attribute_change, change_MockB, finalize_changes, change_ours, change_SyncML, change_semantics, change_What, change_query, synchronize_changes, change_Sanjay, change_Palm, learn_changes, change_fees, change_report, defer_change, change_sequence, tell_Exchange, continue_changes, change_directions, change_P, use_ChangePoint, accommodate_change, change_Everything, change_repository, change_eVal, check_change, upload_changes, contain_change, reject_changes, change_resources, ignore_change, introduce_Exchange, change_subscriptions, change_positios, register_exchanges, change_next, change_Password, own_changes, change_banner, keep_change, prepare_change, exchange_MESSAGES, exchange_expertise, encorporate_changes, change_optionValues, change_footers, change_body, signify_changes, change_Number, change_protocol, change_strings, host_Exchange, exchange_gifts, change_tickets, change_hang, print_changes, ask_changes, change_selects, email_change, change_Capacity, download_changes, fare_EXCHANGED, change_quotes, change_sizes, miss_changes, change_GOSLING, change_lot, imply_changes, open_change, change_resv, norweb_CHANGES, exchange_signatures, change_logo, watch_changes, build_exchange, change_rendering, change_Yahoo, change_flows, change_Partners, change_algorithm, remember_change, change_efficacy, change_Werner, turn_changes, change_packaging, change_paths, change_afoot, tell_Change, change_app, write_changes, change_ticker, source_changes, exchange_Sorry, support_Changes, help_change, change_developers, exchange_We, control_changes, change_substance, change_icons, change_TextField, change_Subject, turn_change, change_estimates, change_Director, scrape_change, change_Delivery, change_objecting, change_Person, change_sorts, change_corner, have_Exchange, aftermake_changes, change_rights, ensure_changes, change_allocation, test_Changes, summarize_changes, change_Darren, change_Directions, change_lines, allow_changes, change_postcard, change_grammar, change_intentions, change_Attributes, require_Exchange, change_territories, change_headcount, change_Training, change_forms, change_panels, change_note, change_Yuyu, scribble_changes, change_gui, change_Ruyben, change_Please, change_AM, change_Case, underscore_change, change_guide, sense_change, change_lots, change_VP, change_Studio, institute_change, change_platform, change_IDS, facilitate_exchanges, change_amount, change_servlet, change_appt, change_web, accept_Changes, change_N, change_area, change_spreadsheet, change_Oil, exchange_maps, change_book, change_descriptor, change_assignments, change_Access, change_Filter, secure_Exchange, change_noise, exchange_notes, exchange_process, change_guy, change_customer, instal_change, change_paradigm, change_Business, change_ver, change_cost, change_Goman, change_feel, merge_interchange, change_Complete, change_unit, rollback_changes, change_upshot, change_orders, change_variables, change_input, change_usage, explain_change, change_brokers, form_exchanges, change_communications, change_tack, change_Founder, change_mesh, throw_change, change_term, hemade_change, exchange_Rajeev, change_ciao, change_cycles, change_places, receive_changes, investigate_changes, consider_change, change_Messaging, change_Institute, change_fault, change_attitudes, review_microchanges, cancel_CHANGES, change_AppId, change_slide, change_engine, motivate_change, promise_changes, direct_changes, change_table, change_contents, change_News, change_Javascript, change_chunk, exchange_etc, change_majority, change_representations, enter_changeit, change_food, change_filters, exchange_money, change_announcements, change_regulations, change_goal, intend_changes, change_oca, change_Fun, ignore_changes, propose_change, change_style, recognize_changes, change_printer, use_Changes, change_interest, change_d, change_concept, change_economy, exchange_experiences, change_programs, offer_CHANGE, change_demos, change_Wihan, -change_permissions, change_responsibilities, change_failings, change_interaction, change_cluster, change_attention, change_organization, exchange_file, set_exchanges, talk_changes, change_Support, change_instruction, confirm_Change, change_light, change_aspect, extend_exchanges, authorize_changes, change_owners, drive_Change, change_tab, envisage_changes, change_collateral, change_performance, change_Location, avoid_changes, change_Lots, change_total, change_Switches, change_IPs, change_mailinglist, change_shot, change_dateline, change_Withdrawals, prioritize_changes, change_timing, change_badge, change_airfare, change_billing, change_interpretations, change_Index, exchange_specialties, change_verbs, change_practices, change_crontab, change_up, seperate_changes, change_Individuals, change_history, do_interchange, change_demands, exchange_vm, refine_changes, nurture_Exchanges, change_commitment, change_Velakaturi, change_directories, estimate_changes, change_ActionScript, change_DELL, change_NASDAQ, create_exchange, change_url, change_Montrusco, accept_PropertyChangeListeners, focus_Changes, change_Ritchie, fuel_Change, pickup_changes, isolate_change, change_rating, change_xml, change_bo, change_sides, back_change, imagine_change, change_yours, change_diapers, join_Exchange, change_cartridge, exchange_leads, improve_change, nail_changes, attend_Exchange, change_SMS, change_thickness, make?os_changes, change_codes, change_layer, backout_changes, change_Units, change_climates, change_Smartphone, discuss_Changes, spend_Change, change_datasource, backout_change, change_shoq, change_ShopNow, change_objects, change_ship, meet_CHANGED, change_guards, change_incorporate, ripple_changes, change_prompts, ring_changes, exchange_VM, scan_changes, change_SyncURL, change_lists, change_understandings, change_Plan, change_muich, change_count, change_ALT, signify_change, change_POST, change_comparisons, change_root, change_laptops, change_questions, have_OnChange, makew_changes, reprint_changes, change_JSESSIONID, change_LIFE, change_user, change_rentee, change_Mode, change_menu, change_DB, change_Executive, change_Java, change_lifestyles, contact_Changes, change_appid, affect_change, change_holder, change_Tap, change_agenda, change_Baca, change_credential, change_LIBERTY, change_AMRN, change_Legend, change_Satya, change_language, change_courseware, result_change, change_leads, change_pre, change_figures, change_assignment, change_boundaries, reconcile_change, remove_Changes, see_Exchange, change_z, change_index, adopt_changes, exchange_these, change_Carlos, quantify_changes, checkin_change, change_sections, write_change, aggregate_changes, change_ADR, change_JDEC, change_BVSN, change_JONES, come_onchange, change_GenCAB, recognize_change, share_change, attach_change, change_fluctuate, change_addrress, change_velocity, change_Way, change_Power, change_outreach, change_volumes, release_changes, give_Onchange, change_technology, change_spots, change_error, change_Technology, change_directives, continue_exchange, rekey_changes, change_Ability, change_jose, change_legacy, change_experiment, change_clause, exchange_order, change_INDEX, change_texts, change_EPPErrorMessages, change_selection, change_prints, avoid_exchange, exchange_charges, develop_change, change_Direct, change_channel, change_whatever, change_Tracking, convey_changes, change_base, display_changes, push_changes, change_people, change_drive, change_tennis, exchange_E, change_channels, note_CHANGE, change_items, change_Matt, change_markets, change_offs, change_Studies, change_mPharma, change_Country, show_Change, exchange_partners, change_freeze, change_Reviewd, mobilize_exchanges, showcase_changes, change_ECS, change_PERSON, change_localhost, change_Email, change_mine, exchange_addresses, change_Features, change_commerce, change_Format, change_element, change_column, change_caching, change_State, exchange_device, change_listing, need_Change, exchange_capabilities, change_universe, change_Divakar, change_Marilisa, change_serán, change_appearance, change_statements, change_Objectives, list_Changes, change_PACK, change_constraints, promote_change, change_backend, change_Om, attempt_change, change_Thinking, change_suffix, change_itself, change_entrepreneurship, attend_Change, change_businesses, change_rulkes, need_changer, change_leader, change_offsite, integrate_changes, change_FAQ, change_Times, change_bhe, exchange_music, change_SUBJECT, change_representation, prompt_change, expect_change, change_logos, change_EXERCISE, change_DLL, change_UTs, change_workout, encode_changes, change_sort, change_char, change_TestServlet, change_deposit, exchange_Siebel, change_daily, change_AdapterWithMap, collect_change, change_graph, change_news, change_tone, change_records, chat_changes, regard_Changes, note_Changes, purge_changes, reference_Change, exchange_BMW, change_promixe, change_deviceid, consolidate_changes, receive_exchange, change_others, contain_exchange, change_sale, validate_changes, change_instances, deploy_Exchanges, change_infastructure, change_passwd, integrate_Exchange, govern_exchange, change_obstacles, receive_Change, use_changeEncoding, set_changeEncoding, change_job, negotiate_Change, change_travel, change_specifics, change_softcopy, change_access, change_problem, set_changes, change_nav, change_assertions, change_statistics, change_spouse, change_prefs, change_proxy, change_Vettro, change_sich, change_PIN, change_person, change_Patches, spot_changes, change_help, inspect_changes, process_change, have_exchanger, change_deadline, respond_change, change_philosophy, sound_changes, change_need, change_treatment, change_EPIgnore, change_JavaScript, change_Beach, change_bookmarks, input_changes, change_banking, change_install, change_FIGURE, change_BeanXporter, change_agent, exchange_BlackBerry, lead_Change, change_Strings, change_convention, change_circumstances, change_tablespaces, change_neccessary, sync_changes, concern_change, say_change, encourage_changes, epservlet_changes, manage_Exchange, change_metaphor, exchange_Messages, change_work, change_phone, change_Mailbag, cxchange_it, welcome_Exchange, observe_changes, change_images, change_cty, change_breakfast, change_resolution, change_workgroups, change_Apps, change_quantization, change_headings, discard_changes, contemplate_change, include_Interchange, change_filter, experience_changes, change_Item, change_culture, help_Change, change_host, deploy_change, read_change, parse_changes, provide_Changes, think_changes, exchange_million, change_selections, change_Phone, change_dogmatism, change_modes, change_epr, change_protocols, change_SyncError, strip_Changes, catalyse_change, change_builds, select_exchange, change_Collection, exchange_funds, change_litter, change_lighting, mention_changes, meet_exchange, change_same, change_few, change_man, stack_changes, exchange_presence, exchange_energy, change_emphasis, change_Powered, change_statement, commit_change, exchange_Helen, hand_changes, plan_Exchange, change_Logic, change_energy, exchange_items, reset_changes, exchange_shirt, handle_Change, change_Steven, change_lens, make_exchange, change_constructors, change_company, change_In, exchange_which, change_mailto, change_practice, release_change, change_McCann, change_A, stimulate_exchange, change_booking, change_care, change_opportunities, change_patterns, rethink_change, change_PQAa, change_events, change_misspelling, change_venue, change_beliefs, implement_onChange, change_ASAP, inform_changes, title_Changes, plan_change, change_mindset, change_xyz, migrate_changes, change_testsessions, change_environments, catch_changes, change_routine, change_Ltd, change_habit, equate_change, change_mobilestudio, remove_change, change_sematics, change_wordings, change_alist, change_Slides, change_percentage, change_submission, relax_changes, change_Shower, change_userlogin, change_Blankenhorn, change_Options, change_cities, change_meals, redline_changes, change_consumption, provide_WorldxChange, change_startoca, change_sheet, change_HTTP, change_modifications, change_Daily, integrate_exchange, change_ringtone, bless_changes, reschedule_changes, change_amounts, change_ecs, mimic_onchange, change_mandates, manage_exchanges, sell_exchange, change_ui, change_sites, change_Solutions, change_DragIdentified, change_html, change_Client, exchange_opinions, change_caption, change_bar, force_change, reload_changes, exchange_currency, expose_changes, undo_change, change_context, change_tentative, sell_change, get_CHANGE, journal_changes, change_round, exchange_traffic, change_dynamic, schema_change, make_Changes, change_reporting, interchange_data, change_many, change_acct, verify_change, run_Exchange, change_re, change_redirect, change_speaker, announce_Change, change_workflow, change_position, change_Improvement, change_CascadeWorks, change_firm, profile_changes, change_API, change_ads, change_material, change_devices, change_numbering, exchange_type, entertain_change, change_companies, join_XCHANGE, change_Portfolio, change_Monetization, change_Mobile, change_Tel, change_item, change_meta, build_change, download_change, change_extension, change_friends, change_desktop, change_hub, change_Street, develop_changes, change_end, change_OSS, change_timezone, date_changes, change_Partner, change_symbol, store_changes, exchange_metadata, change_getaway, please_change, change_Autosignature, change_Webonphone, change_benefits, change_params, change_Upgrade, change(stre_str, monitor_changes, sell_changeproofing, change_diet, discover_changes, assume_changes, support_ChangePoint, flash_changes, honor_change, regard_onchange, change_BUSINESS, exchange_records, change_Siebel, attack_Change, issue_changes, exchange_thing, encourage_exchanges, produce_Change, predict_change, exchange_cards, change_Office, change_appts, post_changes, monetize_change, change_tree, involve_onchange, change_regards, back_Exchange, change_Classes, change_OH, change_Hideki, exchange_message, change_senetence, accomplish_change, recommend_exchanges, change_SLA, cancel_changes, change_EVERYTHING, change_idea, see_exchange, change_Text, initiate_Changes, change_Applet, change_Mehta, change_stance, cause_exchange, sense_changes, change_change, change_members, change_lunch, change_key, contact_change, change_itin, change_Warning, acquire_Exchange, change_iteration, exchange_files, change_tht, change_login, change_buildings, enable_changes, change_little, change_load, ask_change, start_change, change_Smalltalk, change_Web, instal_Exchange\""
      ]
     },
     "execution_count": 62,
     "metadata": {},
     "output_type": "execute_result"
    }
   ],
   "source": [
    "pairs_change = df_grouped.iloc[6]['action_object_pairs']\n",
    "pairs_change"
   ]
  },
  {
   "cell_type": "code",
   "execution_count": null,
   "metadata": {},
   "outputs": [
    {
     "name": "stderr",
     "output_type": "stream",
     "text": [
      "100%|██████████| 503645/503645 [00:11<00:00, 44552.05it/s]\n"
     ]
    },
    {
     "name": "stdout",
     "output_type": "stream",
     "text": [
      "Intent DF shape: (54316, 19); Remaining DF shape: (490806, 19)\n"
     ]
    }
   ],
   "source": [
    "df_change, df_remaining = split_dataframes(df_remaining,pairs_change)\n",
    "print(f'Intent DF shape: {df_change.shape}; Remaining DF shape: {df_remaining.shape}')"
   ]
  },
  {
   "cell_type": "markdown",
   "metadata": {},
   "source": [
    "##### Thank You DF"
   ]
  },
  {
   "cell_type": "code",
   "execution_count": 64,
   "metadata": {},
   "outputs": [
    {
     "data": {
      "text/plain": [
       "'thank_you, have_Thanks, thank_You, thank_everyone, give_Thanks, provide_Thanks, use_Thanks, know_Thanks, advise_Thanks, need_Thanks, thank_all, extend_thanks, thank_Jose, thank_YOU, tell_Thanks, help_Thanks, thank_Team, ask_Thanks, find_Thanks, thank_Manager, thank_each, do_Thanks, thank_Miyuki, thank_team, take_Thanks, thank_Kathy, thank_Trish, thank_Mohindra, make_Thanks, confirm_Thanks, get_Thanks, put_Thanks, want_Thanks, thank_jaime, check_Thanks, have_thanks, add_Thanks, contact_Thanks, include_Thanks, think_Thanks, thank_Regards, give_thanks, discuss_Thanks, update_Thanks, say_thanks, see_Thanks, copy_Thanks, thank_Betty, try_Thanks, change_Thanks, get_thanks, set_Thanks, like_Thanks, thank_Street, require_Thanks, say_Thanks, thank_Baxish, thank_success, thank_many, thank_Prakash, ask_thanks, test_Thanks, thank_Director, select_Thanks, attend_Thanks, show_Thanks, let_Thanks, create_Thanks, use_thanks, thank_them, email_Thanks, direct_Thanks, thank_letters, review_Thanks, thank_her, call_Thanks, thank_Chan, understand_Thanks, congratulate_Thanks, write_Thanks, do_thanks, thank_him, thank_Jennifer, schedule_Thanks, need_thanks, thank_email, deliver_Thanks, tell_thanks, inform_Thanks, thank_Message, file_Thanks, thank_Assistant, bring_Thanks, express_thanks, start_thanks, thank_PS, receive_Thanks, count_thanks, mark_Thanks, explain_Thanks, pay_Thanks, thank_Baca, work_Thanks, remove_Thanks, coordinate_Thanks, correct_Thanks, follow_Thanks, please_Thanks, fix_Thanks, discuss_thanks, thank_jm, build_Thanks, make_thanks, thank_AvocadoIT, share_Thanks, thank_effort, investigate_Thanks, add_thanks, print_Thanks, thank_u, run_Thanks, answer_Thanks, remember_Thanks, keep_Thanks, thank_me, handle_Thanks, find_thanks, thank_letter, thank_chan, take_thanks, assist_Thanks, thank_Onward, fax_Thanks, thank_those, thank_sales, respond_Thanks, thank_regards, craft_Thanks, thank_both, int\\'l_Thanks, verify_thanks, remind_Thanks, thank_REMINDER, mean_Thanks, support_Thanks, thank_mail, know_thanks, thank_Susan, click_Thanks, thank_Remember, pick_Thanks, include_thanks, thank_Sent, meet_Thanks, file_thanks, help_thanks, thank_guys, set_thanks, cover_Thanks, shed_Thanks, thank_Committee, thank_NOTICE, pass_Thanks, appreciate_Thanks, thank_Administrator, thank_Phani, thank_blvd, pass_thanks, read_Thanks, replace_Thanks, thank_Bithi, check_thanks, spend_Thanks, bug_Thanks, thank_Founder, wish_Thanksgiving, enter_Thanks, join_Thanks, thank_Direct, assume_Thanks, thank_zhugang, create_thanks, start_Thanks, promise_Thanks, visit_Thanks, address_Thanks, mind_Thanks, thank_one, thank_Loring, thank_god, wonder_Thanks, offer_Thanks, have_Thanksgiving, borrow_Thanks, insert_Thanks, figure_Thanks, arrange_Thanks, thank_Office, delete_Thanks, thank_Phone, contact_thanks, point_thanks, treat_Thanks, thank_Costs, thank_provider, put_thanks, modify_Thanks, fill_Thanks, thank_us, thank_response, approve_Thanks, provide_thanks, work_thanks, scope_Thanks, request_Thanks, accept_thanks, thank_Giesen, copy_thanks, suggest_Thanks, report_Thanks, thank_JA, thank_Thanks, thank_Roopak, go_Thanks, let_thanks, submit_Thanks, pick_thanks, bring_thanks, want_thanks, thank_Ron, regard_Thanks, thank_e, thank_Week, hear_Thanks, plan_Thanks, sign_Thanks, obtain_Thanks, thank_goodness, thank_AR, thank_Richard, show_thanks, recommend_Thanks, plan_thanks, mark_thanks, prepare_Thanks, talk_Thanks, thank_Support, install_Thanks, thank_FREQ, clarify_Thanks, thank_fix, supply_Thanks, continue_Thanks, reschedule_Thanks, distribute_Thanks, expect_Thanks, assign_Thanks, inform_thanks, sell_Thanks, thank_U, thank_Marilisa, leave_Thanks, remind_Thank, thank_God, force_Thanks, leave_thanks, evaluate_Thanks, thank_Howard, checkin_Thanks, reconfirm_Thanks, turn_Thanks, thank_Program, thank_cost, load_Thanks, thank_Adkins, extend_Thanks, track_Thanks, thank_help, finalize_Thanks, write_thank, thank_Yadavalli, thank_Fax, thank_Han, thank_Business, thank_Elba, attach_Thanks, forward_Thanks, thank_Privacy, thank_Rishi, stack_Thanks, care_Thanks, introduce_Thanks, wonder_thanks, thank_JAPAN, attend_thanks, thank_your, mobilize_Thanks, thank_Transfer, move_Thanks, update_thanks, visit_Thankyou, host_Thanks, thank_Ray, facilitate_Thanks, thank_Yukari, iterate_thanks, thank_Jaime, implement_thanks, reply_Thanks, thank_Ca, upgrade_Thanks, give_THANK, account_Thanks, thank_Mitch, thank_Jimmy, thank_PITTSBURGH, acknowledge_Thanks, thank_bunch, transfer_Thanks, decide_Thanks, thank_Nikhil, thank_case, thank_Jason, thank_honey, describe_Thanks, thank_Hung, verify_Thanks, capture_Thanks, believe_Thanks, finish_Thanks, thank_Tapling, present_Thanks, reassign_thanks, thank_Option, call_thanks, email_Thank, strip_Thanks, thank_AVAILABLE, have_thanksgiving, remove_thanks, thank_Clara, thank_Version, thank_Capital, thank_Lutz, thank_Stephen, define_thanks, thank_Palm, generate_Thanks, comment_Thanks, postpone_Thanks, access_Thanks, build_thanks, thank_Alexis, propose_Thanks, feel_Thanks, convey_thanks, share_thanks, open_Thanks, install_thanks, thank_Multibalances, thank_Burlington, thank_Companies, view_Thanks, indicate_thanks, brief_Thanks, thank_Yatin, involve_Thanks, expect_thanks, alert_Thanks, enclose_Thanks, say_Thanksgiving, thank_MT, merge_Thanks, thank_Paiman, thank_Dondi, thank_Quinn, join_thanks, receive_thanks, mail_Thanks, refer_Thanks, thank_Mobile, thank_address, mail_thank, thank_Mail, hold_Thanks, list_Thanks, throw_thanks, thank_RULES, thank_Longstaff, shut_Thanks, drive_thanks, thank_re, thank_Participants, thank_PST, thank_Kouragian, thank_Pages, miss_Thanks, thank_stars, paste_Thanks, thank_York, find_thank, thank_Yours, thank_assistance, thank_Rajeev, complete_Thanks, thank_Michael, thank_following, .pdf_Thanks, thank_Paige, thank_participants, complete_thanks, thank_cards, keep_thanks, guess_thanks, look_Thanks, extend_thank, thank_tom, thank_Commitments, call_THanks, thank_James, thank_WEBSITE, thank_VISIT, thank_IN, thank_GUARANTEED, thank_PRIOR, forward_thank, thank_Creek, ticket_Thanks, thank_Venk, deactivate_Thanks, configure_Thanks, thank_centers, thank_plan, thank_structure, thank_UNSUBSCRIBE, thank_Barsky, quote_THANKS, confirm_Thank, convert_Thanks, patten_Thanks, thank_Finalist, include_THanks, thank_EuclidNet, thank_volunteers, upset_Thanks, thank_Informix, thank_Talent, notedown_Thanks, thank_Identification, contact_thankyou, thank_CALIFORNIA, thank_AISLE, thank_AIRWAYS, thank_JUN, overlay_Thanks, accept_Thanks, recieve_Thanks, confirm_thanks, equal_Thanks, thank_Cambridge, thank_Engines, thank_INTEREST, thank_Srivaishanavas, thank_CAR, thank_Guys, misspell_Thanks, thank_movers, rename_Thanks, notify_Thanks, thank_Reference, thank_Vlad, postmaster@dotco.co.uk_Thanks, refer_thanks, imagine_Thanks, catch_Thanks, summarize_Thanks, thank_dignitaries, thank_members, trash_Thanks, display_Thanks, tell_Thank, sit_Thanks, thank_prompt, hand_Thanks, tour_Thanks, explain_thanks, thank_Info, save_thanks, thank_everybody, thank_No, thank_Access, reach_Thanks, thank_father, receive_thank, thank_photos, default_Thanks, blame_Thanks, thank_friends, thank_artists, thank_Appointments, thank_mobile, thank_ood, okthank_Clara, thank_Engineer, thank_Chaitanya, localize_Thanks, choose_thanks, upload_thanks, define_Thanks, go_thanks, thank_record, impact_Thanks, recommend_thanks, thank_company, connect_Thanks, explore_Thanks, help_thankx, confirm_thankyou, thank_Praveen, owe_Thanks, enjoy_Thanks, fyi_Thanks, helpme_Thanks, thank_Douga, remember_thanks, write_thanks, thank_Wang, thank_RT, thank_speakers, educate_Thanks, speak_Thanks, proceed_Thanks, envy_Thanks, download_THANKS, offer_thanks, pull_Thanks, thank_ps, thank_this, thank_operator, thank_some, thank_Rich, thank_much, invite_thanks, minimize_Thanks, thank_fleet, resende_Thanks, advise_thanks, thank_service, scheduel_Thanks, hit_Thanks, appreciate_thanks, prefer_Thanks, thank_Checks, advise_Thank, rememember_Thanks, thank_CEO, post_Thanks, love_thank, upload_Thanks, thank_sponsors, thank_Insight, shorten_Thanks, thank_partner, thank_Software, thank_PERSON, thank_Amitabh, redirect_Thanks, rebook_thanks, give_THANKS, enable_Thanks, contain_Thanks, disable_thanks, thank_Status, thank_NEWS, thank_Infrastructures, toil_unthanked, thank_Wilhan, suggest_thanks, demonstrate_Thanks, thank_Name, thank_Dates, push_Thanks, thank_Fremont, thank_someone, thank_Brett, indicate_Thanks, invoke_Thanks, email_thank, represent_Thank, thank_SERVICES, please_thanks, thank_Coordinator, bear_Thanks, gather_Thanks, thank_Nami, invite_Thanks, correct_thanks, cancel_Thanks, thank_Simmons, hope_thanks, pay_thanks, thank_resolution, thank_readers, experience_Thanks, thank_SHUKLA, thank_Reply, thank_Comment, thank_Date, thank_HER, stop_thanks, said,\"thank_you, thank_Number, reproduce_Thanks, note_Thanks, hit_thanks, reproduce_thanks, thank_Response, label_Thanks, thank_input, approve_thanks, investigate_ThanKs, agree_Thanks, thank_hope, thank_committee, thank_Nori, suspend_Thanks, thank_book, thank_Garrett, thank_information, thank_dial, thank_Corporation, chat_thanks, thank_Arvinda, render_Thanks, thank_nami, thank_Systems, pursue_Thanks, return_Thanks, thank_IMPORTANT, slip_Thanks, develop_Thanks, deploy_thanks, preserve_Thanks, resolve_Thanks, charge_Thanks, follow_Thanksgiving, lend_Thanks, thank_Gande, thank_blasts, thank_marketing, spend_Thanksgiving, thank_message, pull_thanks, thank_Thee, deploy_Thanks, request_thanks, setup_thanks, thank_Wishes, reflect_Thanks, highlight_Thanks, thank_HOW, package_Thanks, thank_John, match_Thanks, alert_thanks, thank_eWeek, segment_Thanks, collect_Thanks, choose_Thanks, thank_Blvd, thank_Wendi, issue_Thanks, point_Thanks, thank_home, thank_Management, thank_Initiatives, thank_Danz, thank_Ltd, thank_Bartee, deny_Thanks, thank_Mehta, click_thanks, thank_Receive, thank_Ty, thank_need, thank_dias, ignore_Thanks, thank_YOu, thank_Greetings, outline_Thanks, tell_thankyou, cut_Thanks, \\\\\\\\Utilitysrv1\\\\home\\\\SalesEngineering\\\\Specs\\\\AppReq\\\\Buyertouch_AppReq_Thanks, achieve_thanks, thank_two, thank_ladies, purge_Thanks, own_Thanks, thank_Srik, forget_Thanks, thank_Subject, log_Thanks, solve_Thanks, thank_Chandu, thank_Darshan, thank_Email, thank_thing, format_thanks, thank_manager, unlock_Thanks, celebrate_Thanksgiving, ASAP_Thanks, cut_thanks, facilitate_thanks, perform_Thanks, urge_Thanks, tag_Thanks, thank_customers, thank_support, fix_thanks, thank_Sterling, thank_Request, watch_Thanks, thank_Tennille, thank_Venkat, meet_thanks, thank_Scott, cost_Thanks, thank_Cheers, kill_Thanks, lose_Thanks, sort_thanks, foresee_Thanks, distribute_thanks, respect_Thanks, increase_Thanks, notice_Thanks, arrange_thanks, thank_users, figure_thanks, thank_Bruce, thank_eWEEK, log_thanks, thank_Wu, thank_Tuyen, find_THANKS, thank_ids, thank_Abrams, thank_Manabu, thank_grazie, prompt_Thanks, build\\\\classes\\\\script\\\\util\\\\_thanks, thanks.got_it, shoot_thanks, thank_Shiva, categorize_Thanks, thank_men, tell_THanks, unlock_thanks, reboot_Thanks, thank_ARRIVAL, thank_SIMMONS, thank_Natasha, refresh_Thanks, thank_Training, ponder_Thanks, improve_Thanks, instal_Thanks, reference_Thanks, implement_Thanks, thankj_you, reminder_Thanks, thank_Area, thank_people, preset_Thanks, count_Thanks, get_Thank, thank_Collins, thank_Davis, validate_thanks, thank_Lisa, end_Thanks, thank_NUMBERS, detect_Thanks, thank_Swamy, thank_Chat, thank_gift, plan_Thanksgiving, prevent_Thanks, thank_E, book_Thanks, thank_engineers, mobilize_thanks, thank_ph, replace_thankyou, reforward_Thanks, reposition_Thanks, thank_NOTE, thank_Fx, save_Thanks, thank_steve, prepare_thank, re_Thanks, needs_THANKS, fix_THanks, bounce_Thanks, shoot_Thanks, determine_Thanks, ship_Thanks'"
      ]
     },
     "execution_count": 64,
     "metadata": {},
     "output_type": "execute_result"
    }
   ],
   "source": [
    "pairs_thanks = df_grouped.iloc[7]['action_object_pairs']\n",
    "pairs_thanks"
   ]
  },
  {
   "cell_type": "code",
   "execution_count": 65,
   "metadata": {},
   "outputs": [
    {
     "name": "stderr",
     "output_type": "stream",
     "text": [
      "100%|██████████| 490806/490806 [00:04<00:00, 110866.48it/s]\n"
     ]
    },
    {
     "name": "stdout",
     "output_type": "stream",
     "text": [
      "Intent DF shape: (7106, 19); Remaining DF shape: (483700, 19)\n"
     ]
    }
   ],
   "source": [
    "df_thanks, df_remaining = split_dataframes(df_remaining,pairs_thanks)\n",
    "print(f'Intent DF shape: {df_thanks.shape}; Remaining DF shape: {df_remaining.shape}')"
   ]
  },
  {
   "cell_type": "markdown",
   "metadata": {},
   "source": [
    "##### Save DF Subsets"
   ]
  },
  {
   "cell_type": "code",
   "execution_count": 66,
   "metadata": {},
   "outputs": [],
   "source": [
    "df_send.to_parquet('../../data/processed/intents/send.parquet')\n",
    "df_call.to_parquet('../../data/processed/intents/call.parquet')\n",
    "df_help.to_parquet('../../data/processed/intents/help.parquet')\n",
    "df_do.to_parquet('../../data/processed/intents/do.parquet')\n",
    "df_meeting.to_parquet('../../data/processed/intents/meeting.parquet')\n",
    "df_information.to_parquet('../../data/processed/intents/info.parquet')\n",
    "df_change.to_parquet('../../data/processed/intents/change.parquet')\n",
    "df_thanks.to_parquet('../../data/processed/intents/thanks.parquet')\n",
    "df_remaining.to_parquet('../../data/processed/intents/remaining.parquet')"
   ]
  },
  {
   "cell_type": "code",
   "execution_count": null,
   "metadata": {},
   "outputs": [],
   "source": []
  }
 ],
 "metadata": {
  "kernelspec": {
   "display_name": "ma_exp_intent",
   "language": "python",
   "name": "python3"
  },
  "language_info": {
   "codemirror_mode": {
    "name": "ipython",
    "version": 3
   },
   "file_extension": ".py",
   "mimetype": "text/x-python",
   "name": "python",
   "nbconvert_exporter": "python",
   "pygments_lexer": "ipython3",
   "version": "3.12.4"
  }
 },
 "nbformat": 4,
 "nbformat_minor": 2
}
