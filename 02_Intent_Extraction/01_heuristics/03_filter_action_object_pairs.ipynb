{
 "cells": [
  {
   "cell_type": "markdown",
   "metadata": {},
   "source": [
    "## Filter Action-Object Pairs"
   ]
  },
  {
   "cell_type": "code",
   "execution_count": 1,
   "metadata": {},
   "outputs": [],
   "source": [
    "import pandas as pd\n",
    "from collections import Counter\n",
    "import spacy\n",
    "from spacy.matcher import Matcher\n",
    "from tqdm import tqdm\n",
    "from IPython.display import display, HTML\n",
    "tqdm.pandas()\n",
    "\n",
    "\n",
    "# Load the English model\n",
    "nlp = spacy.load(\"en_core_web_lg\")"
   ]
  },
  {
   "cell_type": "code",
   "execution_count": 2,
   "metadata": {},
   "outputs": [],
   "source": [
    "df = pd.read_parquet('../../data/processed/targets/avocado_train_targets_exploded.parquet', engine='fastparquet')\n",
    "df = df.rename(columns={'targets': 'target'})"
   ]
  },
  {
   "cell_type": "code",
   "execution_count": 3,
   "metadata": {},
   "outputs": [
    {
     "data": {
      "text/plain": [
       "(1205714, 19)"
      ]
     },
     "execution_count": 3,
     "metadata": {},
     "output_type": "execute_result"
    }
   ],
   "source": [
    "df.shape"
   ]
  },
  {
   "cell_type": "code",
   "execution_count": 4,
   "metadata": {},
   "outputs": [],
   "source": [
    "# Remove empty entries\n",
    "df_filtered = df[~df['action_object_pairs'].apply(lambda x: x is None or (isinstance(x, list) and len(x) == 0))]"
   ]
  },
  {
   "cell_type": "code",
   "execution_count": 5,
   "metadata": {},
   "outputs": [
    {
     "data": {
      "text/plain": [
       "(722472, 19)"
      ]
     },
     "execution_count": 5,
     "metadata": {},
     "output_type": "execute_result"
    }
   ],
   "source": [
    "df_filtered.shape"
   ]
  },
  {
   "cell_type": "markdown",
   "metadata": {},
   "source": [
    "### Inspect Action-Object-Pairs results"
   ]
  },
  {
   "cell_type": "code",
   "execution_count": 6,
   "metadata": {},
   "outputs": [],
   "source": [
    "def get_distinct_words_df(df):\n",
    "    all_words = [word for sublist in df['action_object_pairs'] for word in sublist]\n",
    "\n",
    "    # Use Counter to count occurrences of each word\n",
    "    word_counts = Counter(all_words)\n",
    "\n",
    "    # Convert to DataFrame (optional, if you want to keep it in tabular form)\n",
    "    distinct_words_df = pd.DataFrame(word_counts.items(), columns=['action_object_pairs', 'count'])\n",
    "    distinct_words_df = distinct_words_df.sort_values(by='count', ascending=False)\n",
    "    #display(HTML(distinct_words_df.head(n).to_html()))\n",
    "    return distinct_words_df"
   ]
  },
  {
   "cell_type": "code",
   "execution_count": 7,
   "metadata": {},
   "outputs": [
    {
     "data": {
      "text/html": [
       "<div>\n",
       "<style scoped>\n",
       "    .dataframe tbody tr th:only-of-type {\n",
       "        vertical-align: middle;\n",
       "    }\n",
       "\n",
       "    .dataframe tbody tr th {\n",
       "        vertical-align: top;\n",
       "    }\n",
       "\n",
       "    .dataframe thead th {\n",
       "        text-align: right;\n",
       "    }\n",
       "</style>\n",
       "<table border=\"1\" class=\"dataframe\">\n",
       "  <thead>\n",
       "    <tr style=\"text-align: right;\">\n",
       "      <th></th>\n",
       "      <th>action_object_pairs</th>\n",
       "      <th>count</th>\n",
       "    </tr>\n",
       "  </thead>\n",
       "  <tbody>\n",
       "    <tr>\n",
       "      <th>20</th>\n",
       "      <td>start_Server</td>\n",
       "      <td>12831</td>\n",
       "    </tr>\n",
       "    <tr>\n",
       "      <th>63</th>\n",
       "      <td>send_it</td>\n",
       "      <td>12052</td>\n",
       "    </tr>\n",
       "    <tr>\n",
       "      <th>177</th>\n",
       "      <td>have_questions</td>\n",
       "      <td>11024</td>\n",
       "    </tr>\n",
       "    <tr>\n",
       "      <th>64</th>\n",
       "      <td>send_message</td>\n",
       "      <td>10704</td>\n",
       "    </tr>\n",
       "    <tr>\n",
       "      <th>301</th>\n",
       "      <td>send_email</td>\n",
       "      <td>8186</td>\n",
       "    </tr>\n",
       "    <tr>\n",
       "      <th>19</th>\n",
       "      <td>fail_Message</td>\n",
       "      <td>8065</td>\n",
       "    </tr>\n",
       "    <tr>\n",
       "      <th>18</th>\n",
       "      <td>start_Failures</td>\n",
       "      <td>6983</td>\n",
       "    </tr>\n",
       "    <tr>\n",
       "      <th>376</th>\n",
       "      <td>start_Occurrences</td>\n",
       "      <td>6428</td>\n",
       "    </tr>\n",
       "    <tr>\n",
       "      <th>395</th>\n",
       "      <td>call_me</td>\n",
       "      <td>6177</td>\n",
       "    </tr>\n",
       "    <tr>\n",
       "      <th>103</th>\n",
       "      <td>thank_you</td>\n",
       "      <td>4472</td>\n",
       "    </tr>\n",
       "    <tr>\n",
       "      <th>234</th>\n",
       "      <td>contact_me</td>\n",
       "      <td>3995</td>\n",
       "    </tr>\n",
       "    <tr>\n",
       "      <th>75</th>\n",
       "      <td>post_message</td>\n",
       "      <td>3790</td>\n",
       "    </tr>\n",
       "    <tr>\n",
       "      <th>165</th>\n",
       "      <td>miss_UNIVERSE</td>\n",
       "      <td>3742</td>\n",
       "    </tr>\n",
       "    <tr>\n",
       "      <th>410</th>\n",
       "      <td>do_what</td>\n",
       "      <td>3584</td>\n",
       "    </tr>\n",
       "    <tr>\n",
       "      <th>675</th>\n",
       "      <td>send_mail</td>\n",
       "      <td>3490</td>\n",
       "    </tr>\n",
       "    <tr>\n",
       "      <th>425</th>\n",
       "      <td>start_occurrence</td>\n",
       "      <td>3152</td>\n",
       "    </tr>\n",
       "    <tr>\n",
       "      <th>152</th>\n",
       "      <td>do_it</td>\n",
       "      <td>2816</td>\n",
       "    </tr>\n",
       "    <tr>\n",
       "      <th>943</th>\n",
       "      <td>give_call</td>\n",
       "      <td>2642</td>\n",
       "    </tr>\n",
       "    <tr>\n",
       "      <th>860</th>\n",
       "      <td>need_help</td>\n",
       "      <td>2541</td>\n",
       "    </tr>\n",
       "    <tr>\n",
       "      <th>1371</th>\n",
       "      <td>unsubscribe_mailto</td>\n",
       "      <td>2468</td>\n",
       "    </tr>\n",
       "  </tbody>\n",
       "</table>\n",
       "</div>"
      ],
      "text/plain": [
       "     action_object_pairs  count\n",
       "20          start_Server  12831\n",
       "63               send_it  12052\n",
       "177       have_questions  11024\n",
       "64          send_message  10704\n",
       "301           send_email   8186\n",
       "19          fail_Message   8065\n",
       "18        start_Failures   6983\n",
       "376    start_Occurrences   6428\n",
       "395              call_me   6177\n",
       "103            thank_you   4472\n",
       "234           contact_me   3995\n",
       "75          post_message   3790\n",
       "165        miss_UNIVERSE   3742\n",
       "410              do_what   3584\n",
       "675            send_mail   3490\n",
       "425     start_occurrence   3152\n",
       "152                do_it   2816\n",
       "943            give_call   2642\n",
       "860            need_help   2541\n",
       "1371  unsubscribe_mailto   2468"
      ]
     },
     "execution_count": 7,
     "metadata": {},
     "output_type": "execute_result"
    }
   ],
   "source": [
    "get_distinct_words_df(df_filtered).head(20)"
   ]
  },
  {
   "cell_type": "markdown",
   "metadata": {},
   "source": [
    "### Inspect Messages\n"
   ]
  },
  {
   "cell_type": "markdown",
   "metadata": {},
   "source": [
    "| Action-Object-Pair    | Count |\n",
    "|-------------|-------------|\n",
    " start_Server |\t12831\n",
    "send_it |\t12052\n",
    "have_questions |\t11024\n",
    "send_message |\t10704\n",
    "send_email |\t8186\n",
    "fail_Message |\t8065\n",
    "start_Failures |\t6983\n",
    "start_Occurrences |\t6428\n",
    "call_me\t| 6177\n",
    "thank_you | 4472\n",
    "contact_me | 3995\n",
    "post_message | 3790\n",
    "miss_UNIVERSE | 3742\n",
    "do_what | 3584\n",
    "send_mail | 3490\n",
    "start_occurrence | 3152\n",
    "do_it | 2816\n",
    "give_call | 2642\n",
    "need_help | 2541\n",
    "unsubscribe_mailto | 2468"
   ]
  },
  {
   "cell_type": "code",
   "execution_count": 8,
   "metadata": {},
   "outputs": [],
   "source": [
    "# Define a function to inspect entries for a given action-object pair\n",
    "def inspect_action_object_pair(pair_to_inspect, entry, print_extracted_text=True, print_target=True):\n",
    "    test = df_filtered[df_filtered['action_object_pairs'].apply(lambda x: pair_to_inspect in x)]\n",
    "    if print_extracted_text:\n",
    "        print(test.iloc[entry]['extracted_text'])\n",
    "    if print_target:\n",
    "        if print_extracted_text:\n",
    "            print('----------------------')\n",
    "    print(test.iloc[entry]['target'])\n",
    "    del test"
   ]
  },
  {
   "cell_type": "code",
   "execution_count": 9,
   "metadata": {},
   "outputs": [
    {
     "name": "stdout",
     "output_type": "stream",
     "text": [
      "I might have sent the e-mail to the wrong person because you mentioned before that we should have a meeting with Mark\n"
     ]
    }
   ],
   "source": [
    "inspect_action_object_pair('send_e', 1,print_extracted_text=False)"
   ]
  },
  {
   "cell_type": "markdown",
   "metadata": {},
   "source": [
    "## Entry Removal"
   ]
  },
  {
   "cell_type": "markdown",
   "metadata": {},
   "source": [
    "After inspecting the most-frequently occurring action-object-pairs, the following ones will not be considered further:\n",
    "\n",
    "| Action-Object-Pair    | Reason |\n",
    "|-------------|-------------|\n",
    "|fail_Message|belongs to error message and thus does not contain a humanly intent|\n",
    "|start_Failures|belongs to error message and thus does not contain a humanly intent|\n",
    "|start_Occurrences|belongs to error message and thus does not contain a humanly intent|\n",
    "|post_message|belongs to an automated message|\n",
    "|unsubscribe_mailto|belongs to an automated message|\n",
    "|miss_UNIVERSE|belongs to an automated message|\n",
    "|start_occurrence|belongs to an automated message|\n",
    "\n",
    "also the extremeprogramming unsubscribe message is being filtered from the original dataframe, as well as java messages"
   ]
  },
  {
   "cell_type": "code",
   "execution_count": 10,
   "metadata": {},
   "outputs": [],
   "source": [
    "entries_to_remove = [\n",
    "    'fail_Message',\n",
    "    'start_Failures',\n",
    "    'start_Occurrences',\n",
    "    'post_message',\n",
    "    'unsubscribe_mailto',\n",
    "    'miss_UNIVERSE',\n",
    "    'start_occurrence'\n",
    "]\n",
    "\n",
    "# Remove these entries\n",
    "df_filtered = df_filtered[~df_filtered['action_object_pairs'].apply(lambda x: any(item in entries_to_remove for item in x))]"
   ]
  },
  {
   "cell_type": "code",
   "execution_count": 11,
   "metadata": {},
   "outputs": [
    {
     "data": {
      "text/plain": [
       "(699454, 19)"
      ]
     },
     "execution_count": 11,
     "metadata": {},
     "output_type": "execute_result"
    }
   ],
   "source": [
    "df_filtered.shape"
   ]
  },
  {
   "cell_type": "code",
   "execution_count": 21,
   "metadata": {},
   "outputs": [],
   "source": [
    "test_string = \"Unexpected flow reached by the server\"\n",
    "\n",
    "df_filtered = df_filtered[~df_filtered['extracted_text'].apply(lambda x: test_string in str(x))]\n"
   ]
  },
  {
   "cell_type": "code",
   "execution_count": 13,
   "metadata": {},
   "outputs": [],
   "source": [
    "# Save the cleaned model\n",
    "\n",
    "df_filtered.to_parquet('../../data/processed/targets/avocado_train_targets_exploded_cleaned.parquet')"
   ]
  },
  {
   "cell_type": "code",
   "execution_count": 22,
   "metadata": {},
   "outputs": [
    {
     "data": {
      "text/html": [
       "<div>\n",
       "<style scoped>\n",
       "    .dataframe tbody tr th:only-of-type {\n",
       "        vertical-align: middle;\n",
       "    }\n",
       "\n",
       "    .dataframe tbody tr th {\n",
       "        vertical-align: top;\n",
       "    }\n",
       "\n",
       "    .dataframe thead th {\n",
       "        text-align: right;\n",
       "    }\n",
       "</style>\n",
       "<table border=\"1\" class=\"dataframe\">\n",
       "  <thead>\n",
       "    <tr style=\"text-align: right;\">\n",
       "      <th></th>\n",
       "      <th>action_object_pairs</th>\n",
       "      <th>count</th>\n",
       "    </tr>\n",
       "  </thead>\n",
       "  <tbody>\n",
       "    <tr>\n",
       "      <th>172</th>\n",
       "      <td>have_questions</td>\n",
       "      <td>11024</td>\n",
       "    </tr>\n",
       "    <tr>\n",
       "      <th>296</th>\n",
       "      <td>send_email</td>\n",
       "      <td>8182</td>\n",
       "    </tr>\n",
       "    <tr>\n",
       "      <th>60</th>\n",
       "      <td>send_it</td>\n",
       "      <td>6188</td>\n",
       "    </tr>\n",
       "    <tr>\n",
       "      <th>389</th>\n",
       "      <td>call_me</td>\n",
       "      <td>6177</td>\n",
       "    </tr>\n",
       "    <tr>\n",
       "      <th>61</th>\n",
       "      <td>send_message</td>\n",
       "      <td>4856</td>\n",
       "    </tr>\n",
       "    <tr>\n",
       "      <th>99</th>\n",
       "      <td>thank_you</td>\n",
       "      <td>4433</td>\n",
       "    </tr>\n",
       "    <tr>\n",
       "      <th>229</th>\n",
       "      <td>contact_me</td>\n",
       "      <td>3994</td>\n",
       "    </tr>\n",
       "    <tr>\n",
       "      <th>404</th>\n",
       "      <td>do_what</td>\n",
       "      <td>3567</td>\n",
       "    </tr>\n",
       "    <tr>\n",
       "      <th>668</th>\n",
       "      <td>send_mail</td>\n",
       "      <td>3490</td>\n",
       "    </tr>\n",
       "    <tr>\n",
       "      <th>148</th>\n",
       "      <td>do_it</td>\n",
       "      <td>2806</td>\n",
       "    </tr>\n",
       "    <tr>\n",
       "      <th>936</th>\n",
       "      <td>give_call</td>\n",
       "      <td>2642</td>\n",
       "    </tr>\n",
       "    <tr>\n",
       "      <th>853</th>\n",
       "      <td>need_help</td>\n",
       "      <td>2540</td>\n",
       "    </tr>\n",
       "    <tr>\n",
       "      <th>63</th>\n",
       "      <td>join_us</td>\n",
       "      <td>2443</td>\n",
       "    </tr>\n",
       "    <tr>\n",
       "      <th>8</th>\n",
       "      <td>do_this</td>\n",
       "      <td>2402</td>\n",
       "    </tr>\n",
       "    <tr>\n",
       "      <th>527</th>\n",
       "      <td>call_you</td>\n",
       "      <td>2392</td>\n",
       "    </tr>\n",
       "    <tr>\n",
       "      <th>90</th>\n",
       "      <td>have_meeting</td>\n",
       "      <td>2311</td>\n",
       "    </tr>\n",
       "    <tr>\n",
       "      <th>37</th>\n",
       "      <td>take_look</td>\n",
       "      <td>2144</td>\n",
       "    </tr>\n",
       "    <tr>\n",
       "      <th>1893</th>\n",
       "      <td>send_e</td>\n",
       "      <td>2031</td>\n",
       "    </tr>\n",
       "    <tr>\n",
       "      <th>478</th>\n",
       "      <td>tell_me</td>\n",
       "      <td>2027</td>\n",
       "    </tr>\n",
       "    <tr>\n",
       "      <th>791</th>\n",
       "      <td>provide_information</td>\n",
       "      <td>2006</td>\n",
       "    </tr>\n",
       "  </tbody>\n",
       "</table>\n",
       "</div>"
      ],
      "text/plain": [
       "      action_object_pairs  count\n",
       "172        have_questions  11024\n",
       "296            send_email   8182\n",
       "60                send_it   6188\n",
       "389               call_me   6177\n",
       "61           send_message   4856\n",
       "99              thank_you   4433\n",
       "229            contact_me   3994\n",
       "404               do_what   3567\n",
       "668             send_mail   3490\n",
       "148                 do_it   2806\n",
       "936             give_call   2642\n",
       "853             need_help   2540\n",
       "63                join_us   2443\n",
       "8                 do_this   2402\n",
       "527              call_you   2392\n",
       "90           have_meeting   2311\n",
       "37              take_look   2144\n",
       "1893               send_e   2031\n",
       "478               tell_me   2027\n",
       "791   provide_information   2006"
      ]
     },
     "execution_count": 22,
     "metadata": {},
     "output_type": "execute_result"
    }
   ],
   "source": [
    "get_distinct_words_df(df_filtered).head(20)"
   ]
  },
  {
   "cell_type": "code",
   "execution_count": 31,
   "metadata": {},
   "outputs": [
    {
     "name": "stdout",
     "output_type": "stream",
     "text": [
      "Steve,\n",
      "Please disregard Wendy's request until I get a chance to determine from our\n",
      "database engineer, Shari Brown, if we require suplemental data beyond the\n",
      "mass files that we already load.\n",
      "\n",
      "I think that we have the right mix of data in house.  I have been swamped\n",
      "with various undertakings (RIM, Omnisky,etc.), and as a result have not had\n",
      "time to close the loop with Shari Brown to get the final form of the\n",
      "standard reports summarized and regularized.\n",
      "\n",
      "In the meantime, thanks for your prompt response.\n",
      "\n",
      "Regards,\n",
      "Joe\n",
      "\n",
      "   \n",
      "\n",
      "\n",
      "-------------------------------------\n",
      "Steve,\n",
      "Please disregard Wendy's request until I get a chance to determine from our\n",
      "database engineer, Shari Brown, if we require suplemental data beyond the\n",
      "mass files that we already load.\n",
      "-------------------------------------\n",
      "['disregard_request', 'get_chance', 'require_data', 'load_that']\n"
     ]
    }
   ],
   "source": [
    "# Filter to keep only unique message IDs\n",
    "unique_df = df_filtered[~df_filtered['messageid'].duplicated(keep=False)]\n",
    "\n",
    "entry = \n",
    "print(unique_df.iloc[entry]['extracted_text'])\n",
    "print('-------------------------------------')\n",
    "print(unique_df.iloc[entry]['target'])\n",
    "print('-------------------------------------')\n",
    "print(unique_df.iloc[entry]['action_object_pairs'])"
   ]
  },
  {
   "cell_type": "markdown",
   "metadata": {},
   "source": [
    "### Group Pairs"
   ]
  },
  {
   "cell_type": "code",
   "execution_count": 15,
   "metadata": {},
   "outputs": [],
   "source": [
    "df_distinct_words = get_distinct_words_df(df_filtered)"
   ]
  },
  {
   "cell_type": "code",
   "execution_count": null,
   "metadata": {},
   "outputs": [],
   "source": [
    "df_distinct_words.head(60)"
   ]
  },
  {
   "cell_type": "code",
   "execution_count": 15,
   "metadata": {},
   "outputs": [],
   "source": [
    "# Define function to aggregate rows for a given word. If an action-object-pair contains the given word, entries and their occurrence-count will be aggregated.\n",
    "\n",
    "def aggregate_rows(df, word_to_group):\n",
    "    # Step 1: Filter rows where 'action_object_pairs' contains the word to group\n",
    "    filtered_df = df[df['action_object_pairs'].str.contains(word_to_group, case=False, na=False)]\n",
    "\n",
    "    # Step 2: Aggregate the filtered entries\n",
    "    new_entry = pd.DataFrame({\n",
    "        'action_object_pairs': [filtered_df['action_object_pairs'].tolist()],  # Aggregate label\n",
    "        'count': [filtered_df['count'].sum()]                   # Sum the counts\n",
    "    })\n",
    "\n",
    "    # Step 3: Remove the filtered entries from the original DataFrame\n",
    "    df = df[~df['action_object_pairs'].str.contains(word_to_group, case=False, na=False)]\n",
    "\n",
    "    # Step 4: Append the new entry to the original DataFrame\n",
    "    df = pd.concat([df, new_entry], ignore_index=True)\n",
    "\n",
    "    # Sort the DataFrame by 'count' column in descending order\n",
    "    return df.sort_values(by='count', ascending=False).reset_index(drop=True)\n"
   ]
  },
  {
   "cell_type": "code",
   "execution_count": 93,
   "metadata": {},
   "outputs": [],
   "source": [
    "# Group for words \"send\", \"call\", \"meeting\", \"join\", \"thank\", \"do\", \"receive\", \"provide\", \"discuss\", \"changes\", \"need\"\n",
    "df_distinct_words = aggregate_rows(df_distinct_words,'see')"
   ]
  },
  {
   "cell_type": "code",
   "execution_count": null,
   "metadata": {},
   "outputs": [],
   "source": [
    "df_distinct_words.head(60)"
   ]
  },
  {
   "cell_type": "code",
   "execution_count": null,
   "metadata": {},
   "outputs": [],
   "source": [
    "df_distinct_words.shape"
   ]
  },
  {
   "cell_type": "code",
   "execution_count": null,
   "metadata": {},
   "outputs": [],
   "source": []
  }
 ],
 "metadata": {
  "kernelspec": {
   "display_name": "ma_exp_intent",
   "language": "python",
   "name": "python3"
  },
  "language_info": {
   "codemirror_mode": {
    "name": "ipython",
    "version": 3
   },
   "file_extension": ".py",
   "mimetype": "text/x-python",
   "name": "python",
   "nbconvert_exporter": "python",
   "pygments_lexer": "ipython3",
   "version": "3.12.4"
  }
 },
 "nbformat": 4,
 "nbformat_minor": 2
}
