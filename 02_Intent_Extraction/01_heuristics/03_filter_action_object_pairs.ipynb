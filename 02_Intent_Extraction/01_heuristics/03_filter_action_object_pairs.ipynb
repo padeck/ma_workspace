{
 "cells": [
  {
   "cell_type": "markdown",
   "metadata": {},
   "source": [
    "## Filter Action-Object Pairs"
   ]
  },
  {
   "cell_type": "code",
   "execution_count": 1,
   "metadata": {},
   "outputs": [],
   "source": [
    "import pandas as pd\n",
    "from collections import Counter\n",
    "import spacy\n",
    "from spacy.matcher import Matcher\n",
    "from tqdm import tqdm\n",
    "tqdm.pandas()\n",
    "\n",
    "\n",
    "# Load the English model\n",
    "nlp = spacy.load(\"en_core_web_lg\")"
   ]
  },
  {
   "cell_type": "code",
   "execution_count": 2,
   "metadata": {},
   "outputs": [],
   "source": [
    "df = pd.read_parquet('../../data/processed/targets/avocado_train_targets_exploded.parquet', engine='fastparquet')\n",
    "df = df.rename(columns={'targets': 'target'})\n"
   ]
  },
  {
   "cell_type": "code",
   "execution_count": null,
   "metadata": {},
   "outputs": [],
   "source": [
    "df.shape"
   ]
  },
  {
   "cell_type": "code",
   "execution_count": 4,
   "metadata": {},
   "outputs": [],
   "source": [
    "# Remove empty entries\n",
    "\n",
    "df_filtered = df[~df['action_object_pairs'].apply(lambda x: x is None or (isinstance(x, list) and len(x) == 0))]"
   ]
  },
  {
   "cell_type": "code",
   "execution_count": null,
   "metadata": {},
   "outputs": [],
   "source": [
    "df_filtered.shape"
   ]
  },
  {
   "cell_type": "markdown",
   "metadata": {},
   "source": [
    "### Inspect Action-Object-Pairs results"
   ]
  },
  {
   "cell_type": "code",
   "execution_count": 6,
   "metadata": {},
   "outputs": [],
   "source": [
    "all_words = [word for sublist in df_filtered['action_object_pairs'] for word in sublist]\n",
    "\n",
    "# Use Counter to count occurrences of each word\n",
    "word_counts = Counter(all_words)\n",
    "\n",
    "# Convert to DataFrame (optional, if you want to keep it in tabular form)\n",
    "distinct_words_df = pd.DataFrame(word_counts.items(), columns=['Word', 'Count'])\n",
    "distinct_words_df = distinct_words_df.sort_values(by='Count', ascending=False)"
   ]
  },
  {
   "cell_type": "code",
   "execution_count": null,
   "metadata": {},
   "outputs": [],
   "source": [
    "distinct_words_df.head(20)"
   ]
  },
  {
   "cell_type": "markdown",
   "metadata": {},
   "source": [
    "### Inspect Messages\n"
   ]
  },
  {
   "cell_type": "markdown",
   "metadata": {},
   "source": [
    "| Action-Object-Pair    | Count |\n",
    "|-------------|-------------|\n",
    " start_Server |\t12831\n",
    "send_it |\t12052\n",
    "have_questions |\t11024\n",
    "send_message |\t10704\n",
    "send_email |\t8186\n",
    "fail_Message |\t8065\n",
    "start_Failures |\t6983\n",
    "start_Occurrences |\t6428\n",
    "call_me\t| 6177\n",
    "thank_you | 4472\n",
    "contact_me | 3995\n",
    "post_message | 3790\n",
    "miss_UNIVERSE | 3742\n",
    "do_what | 3584\n",
    "send_mail | 3490\n",
    "start_occurrence | 3152\n",
    "do_it | 2816\n",
    "give_call | 2642\n",
    "need_help | 2541\n",
    "unsubscribe_mailto | 2468"
   ]
  },
  {
   "cell_type": "markdown",
   "metadata": {},
   "source": [
    "After inspecting the most-frequently occurring action-object-pairs, the following ones will not be considered further:\n",
    "\n",
    "| Action-Object-Pair    | Reason |\n",
    "|-------------|-------------|\n",
    "|fail_Message|belongs to error message and thus does not contain a humanly intent|\n",
    "|start_Failures|belongs to error message and thus does not contain a humanly intent|\n",
    "|start_Occurrences|belongs to error message and thus does not contain a humanly intent|\n",
    "|post_message|belongs to an automated message|\n",
    "|unsubscribe_mailto|belongs to an automated message|\n",
    "|miss_UNIVERSE|belongs to an automated message|\n",
    "|start_occurrence|belongs to an automated message|\n",
    "\n",
    "also the extremeprogramming unsubscribe message is being filtered from the original dataframe, as well as java messages"
   ]
  },
  {
   "cell_type": "code",
   "execution_count": null,
   "metadata": {},
   "outputs": [],
   "source": [
    "df_filtered.iloc[1]"
   ]
  },
  {
   "cell_type": "code",
   "execution_count": null,
   "metadata": {},
   "outputs": [],
   "source": [
    "df_filtered[df['action_object_pairs']]"
   ]
  }
 ],
 "metadata": {
  "kernelspec": {
   "display_name": "ma_exp_intent",
   "language": "python",
   "name": "python3"
  },
  "language_info": {
   "codemirror_mode": {
    "name": "ipython",
    "version": 3
   },
   "file_extension": ".py",
   "mimetype": "text/x-python",
   "name": "python",
   "nbconvert_exporter": "python",
   "pygments_lexer": "ipython3",
   "version": "3.12.4"
  }
 },
 "nbformat": 4,
 "nbformat_minor": 2
}
