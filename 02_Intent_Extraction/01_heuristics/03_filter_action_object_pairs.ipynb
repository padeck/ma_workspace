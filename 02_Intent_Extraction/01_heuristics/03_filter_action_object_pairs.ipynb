{
 "cells": [
  {
   "cell_type": "markdown",
   "metadata": {},
   "source": [
    "## Filter Action-Object Pairs"
   ]
  },
  {
   "cell_type": "code",
   "execution_count": 1,
   "metadata": {},
   "outputs": [],
   "source": [
    "import pandas as pd\n",
    "from collections import Counter\n",
    "import spacy\n",
    "from spacy.matcher import Matcher\n",
    "from tqdm import tqdm\n",
    "from IPython.display import display, HTML\n",
    "tqdm.pandas()\n",
    "import sys\n",
    "sys.path.append('../../')\n",
    "from utility.utility_functions import *\n",
    "\n",
    "# Load the English model\n",
    "nlp = spacy.load(\"en_core_web_lg\")"
   ]
  },
  {
   "cell_type": "markdown",
   "metadata": {},
   "source": [
    "#### Functions"
   ]
  },
  {
   "cell_type": "code",
   "execution_count": null,
   "metadata": {},
   "outputs": [],
   "source": [
    "# Function to replace PERSON and GPE entities\n",
    "def replace_entities(text):\n",
    "    doc = nlp(text)\n",
    "    modified_text = []\n",
    "    for token in doc:\n",
    "        if (token.ent_type_ == \"PERSON\") or (token.ent_type_ == \"GPE\"):\n",
    "            modified_text.append(\"[ENTITY]\")\n",
    "        else:\n",
    "            modified_text.append(token.text)\n",
    "    return \" \".join(modified_text)"
   ]
  },
  {
   "cell_type": "markdown",
   "metadata": {},
   "source": [
    "####"
   ]
  },
  {
   "cell_type": "code",
   "execution_count": null,
   "metadata": {},
   "outputs": [],
   "source": [
    "df = pd.read_parquet('../../data/processed/targets/avocado_train_targets_exploded.parquet', engine='fastparquet')\n",
    "df = df.rename(columns={'targets': 'target'})"
   ]
  },
  {
   "cell_type": "code",
   "execution_count": null,
   "metadata": {},
   "outputs": [],
   "source": [
    "df.shape"
   ]
  },
  {
   "cell_type": "code",
   "execution_count": null,
   "metadata": {},
   "outputs": [],
   "source": [
    "# Remove empty entries\n",
    "df_filtered = df[~df['action_object_pairs'].apply(lambda x: x is None or (isinstance(x, list) and len(x) == 0))]"
   ]
  },
  {
   "cell_type": "code",
   "execution_count": null,
   "metadata": {},
   "outputs": [],
   "source": [
    "df_filtered.shape"
   ]
  },
  {
   "cell_type": "markdown",
   "metadata": {},
   "source": [
    "### Inspect Action-Object-Pairs results"
   ]
  },
  {
   "cell_type": "markdown",
   "metadata": {},
   "source": [
    "#### Functions"
   ]
  },
  {
   "cell_type": "code",
   "execution_count": null,
   "metadata": {},
   "outputs": [],
   "source": [
    "def get_distinct_words_df(df):\n",
    "    all_words = [word for sublist in df['action_object_pairs'] for word in sublist]\n",
    "\n",
    "    # Use Counter to count occurrences of each word\n",
    "    word_counts = Counter(all_words)\n",
    "\n",
    "    # Convert to DataFrame (optional, if you want to keep it in tabular form)\n",
    "    distinct_words_df = pd.DataFrame(word_counts.items(), columns=['action_object_pairs', 'count'])\n",
    "    distinct_words_df = distinct_words_df.sort_values(by='count', ascending=False)\n",
    "    #display(HTML(distinct_words_df.head(n).to_html()))\n",
    "    return distinct_words_df\n",
    "\n",
    "# Define a function to inspect entries for a given action-object pair\n",
    "def inspect_action_object_pair(pair_to_inspect, entry, print_extracted_text=True, print_target=True):\n",
    "    test = df_filtered[df_filtered['action_object_pairs'].apply(lambda x: pair_to_inspect in x)]\n",
    "    if print_extracted_text:\n",
    "        print(test.iloc[entry]['extracted_text'])\n",
    "    if print_target:\n",
    "        if print_extracted_text:\n",
    "            print('----------------------')\n",
    "    print(test.iloc[entry]['target'])\n",
    "    del test"
   ]
  },
  {
   "cell_type": "markdown",
   "metadata": {},
   "source": [
    "####"
   ]
  },
  {
   "cell_type": "code",
   "execution_count": null,
   "metadata": {},
   "outputs": [],
   "source": [
    "get_distinct_words_df(df_filtered).head(20)"
   ]
  },
  {
   "cell_type": "markdown",
   "metadata": {},
   "source": [
    "### Inspect Messages\n"
   ]
  },
  {
   "cell_type": "markdown",
   "metadata": {},
   "source": [
    "| Action-Object-Pair    | Count |\n",
    "|-------------|-------------|\n",
    " start_Server |\t12831\n",
    "send_it |\t12052\n",
    "have_questions |\t11024\n",
    "send_message |\t10704\n",
    "send_email |\t8186\n",
    "fail_Message |\t8065\n",
    "start_Failures |\t6983\n",
    "start_Occurrences |\t6428\n",
    "call_me\t| 6177\n",
    "thank_you | 4472\n",
    "contact_me | 3995\n",
    "post_message | 3790\n",
    "miss_UNIVERSE | 3742\n",
    "do_what | 3584\n",
    "send_mail | 3490\n",
    "start_occurrence | 3152\n",
    "do_it | 2816\n",
    "give_call | 2642\n",
    "need_help | 2541\n",
    "unsubscribe_mailto | 2468"
   ]
  },
  {
   "cell_type": "code",
   "execution_count": null,
   "metadata": {},
   "outputs": [],
   "source": [
    "inspect_action_object_pair('send_e', 1,print_extracted_text=False)"
   ]
  },
  {
   "cell_type": "markdown",
   "metadata": {},
   "source": [
    "## Entry Removal"
   ]
  },
  {
   "cell_type": "markdown",
   "metadata": {},
   "source": [
    "After inspecting the most-frequently occurring action-object-pairs, the following ones will not be considered further:\n",
    "\n",
    "| Action-Object-Pair    | Reason |\n",
    "|-------------|-------------|\n",
    "|fail_Message|belongs to error message and thus does not contain a humanly intent|\n",
    "|start_Failures|belongs to error message and thus does not contain a humanly intent|\n",
    "|start_Occurrences|belongs to error message and thus does not contain a humanly intent|\n",
    "|post_message|belongs to an automated message|\n",
    "|unsubscribe_mailto|belongs to an automated message|\n",
    "|miss_UNIVERSE|belongs to an automated message|\n",
    "|start_occurrence|belongs to an automated message|\n",
    "\n",
    "also the extremeprogramming unsubscribe message is being filtered from the original dataframe, as well as java messages"
   ]
  },
  {
   "cell_type": "code",
   "execution_count": null,
   "metadata": {},
   "outputs": [],
   "source": [
    "entries_to_remove = [\n",
    "    'fail_Message',\n",
    "    'start_Failures',\n",
    "    'start_Occurrences',\n",
    "    'post_message',\n",
    "    'unsubscribe_mailto',\n",
    "    'miss_UNIVERSE',\n",
    "    'start_occurrence',\n",
    "    'set_sender'\n",
    "]\n",
    "\n",
    "# Remove these entries\n",
    "df_filtered = df_filtered[~df_filtered['action_object_pairs'].apply(lambda x: any(item in entries_to_remove for item in x))]"
   ]
  },
  {
   "cell_type": "code",
   "execution_count": null,
   "metadata": {},
   "outputs": [],
   "source": [
    "df_filtered.shape"
   ]
  },
  {
   "cell_type": "code",
   "execution_count": null,
   "metadata": {},
   "outputs": [],
   "source": [
    "test_string = \"Unexpected flow reached by the server\"\n",
    "\n",
    "df_filtered = df_filtered[~df_filtered['extracted_text'].apply(lambda x: test_string in str(x))]\n"
   ]
  },
  {
   "cell_type": "code",
   "execution_count": null,
   "metadata": {},
   "outputs": [],
   "source": [
    "df_filtered.shape"
   ]
  },
  {
   "cell_type": "code",
   "execution_count": null,
   "metadata": {},
   "outputs": [],
   "source": [
    "# Save the cleaned model\n",
    "\n",
    "#df_filtered.to_parquet('../../data/processed/targets/avocado_train_targets_exploded_cleaned.parquet')"
   ]
  },
  {
   "cell_type": "code",
   "execution_count": null,
   "metadata": {},
   "outputs": [],
   "source": [
    "df_filtered = pd.read_parquet('../../data/processed/targets/avocado_train_targets_exploded_cleaned.parquet', engine='fastparquet')"
   ]
  },
  {
   "cell_type": "code",
   "execution_count": null,
   "metadata": {},
   "outputs": [],
   "source": [
    "# Apply the function to the 'target' column\n",
    "df_filtered['target'] = df_filtered['target'].progress_apply(replace_entities)"
   ]
  },
  {
   "cell_type": "code",
   "execution_count": null,
   "metadata": {},
   "outputs": [],
   "source": [
    "df_filtered.to_parquet('../../data/processed/targets/avocado_train_targets_exploded_cleaned_entities.parquet')"
   ]
  },
  {
   "cell_type": "markdown",
   "metadata": {},
   "source": [
    "## Group Action-Object-Pairs"
   ]
  },
  {
   "cell_type": "markdown",
   "metadata": {},
   "source": [
    "#### Implementation"
   ]
  },
  {
   "cell_type": "code",
   "execution_count": 2,
   "metadata": {},
   "outputs": [],
   "source": [
    "# Read filtered DF\n",
    "df_filtered = pd.read_parquet('../../data/processed/targets/avocado_train_targets_exploded_cleaned_entities.parquet', engine='fastparquet')"
   ]
  },
  {
   "cell_type": "code",
   "execution_count": 113,
   "metadata": {},
   "outputs": [
    {
     "data": {
      "text/html": [
       "<div>\n",
       "<style scoped>\n",
       "    .dataframe tbody tr th:only-of-type {\n",
       "        vertical-align: middle;\n",
       "    }\n",
       "\n",
       "    .dataframe tbody tr th {\n",
       "        vertical-align: top;\n",
       "    }\n",
       "\n",
       "    .dataframe thead th {\n",
       "        text-align: right;\n",
       "    }\n",
       "</style>\n",
       "<table border=\"1\" class=\"dataframe\">\n",
       "  <thead>\n",
       "    <tr style=\"text-align: right;\">\n",
       "      <th></th>\n",
       "      <th>action_object_pairs</th>\n",
       "      <th>count</th>\n",
       "    </tr>\n",
       "  </thead>\n",
       "  <tbody>\n",
       "    <tr>\n",
       "      <th>172</th>\n",
       "      <td>have_questions</td>\n",
       "      <td>11024</td>\n",
       "    </tr>\n",
       "    <tr>\n",
       "      <th>296</th>\n",
       "      <td>send_email</td>\n",
       "      <td>8182</td>\n",
       "    </tr>\n",
       "    <tr>\n",
       "      <th>60</th>\n",
       "      <td>send_it</td>\n",
       "      <td>6188</td>\n",
       "    </tr>\n",
       "    <tr>\n",
       "      <th>389</th>\n",
       "      <td>call_me</td>\n",
       "      <td>6177</td>\n",
       "    </tr>\n",
       "    <tr>\n",
       "      <th>61</th>\n",
       "      <td>send_message</td>\n",
       "      <td>4856</td>\n",
       "    </tr>\n",
       "    <tr>\n",
       "      <th>99</th>\n",
       "      <td>thank_you</td>\n",
       "      <td>4433</td>\n",
       "    </tr>\n",
       "    <tr>\n",
       "      <th>229</th>\n",
       "      <td>contact_me</td>\n",
       "      <td>3994</td>\n",
       "    </tr>\n",
       "    <tr>\n",
       "      <th>404</th>\n",
       "      <td>do_what</td>\n",
       "      <td>3567</td>\n",
       "    </tr>\n",
       "    <tr>\n",
       "      <th>668</th>\n",
       "      <td>send_mail</td>\n",
       "      <td>3490</td>\n",
       "    </tr>\n",
       "    <tr>\n",
       "      <th>148</th>\n",
       "      <td>do_it</td>\n",
       "      <td>2806</td>\n",
       "    </tr>\n",
       "    <tr>\n",
       "      <th>936</th>\n",
       "      <td>give_call</td>\n",
       "      <td>2642</td>\n",
       "    </tr>\n",
       "    <tr>\n",
       "      <th>853</th>\n",
       "      <td>need_help</td>\n",
       "      <td>2540</td>\n",
       "    </tr>\n",
       "    <tr>\n",
       "      <th>63</th>\n",
       "      <td>join_us</td>\n",
       "      <td>2443</td>\n",
       "    </tr>\n",
       "    <tr>\n",
       "      <th>8</th>\n",
       "      <td>do_this</td>\n",
       "      <td>2402</td>\n",
       "    </tr>\n",
       "    <tr>\n",
       "      <th>527</th>\n",
       "      <td>call_you</td>\n",
       "      <td>2392</td>\n",
       "    </tr>\n",
       "    <tr>\n",
       "      <th>90</th>\n",
       "      <td>have_meeting</td>\n",
       "      <td>2311</td>\n",
       "    </tr>\n",
       "    <tr>\n",
       "      <th>37</th>\n",
       "      <td>take_look</td>\n",
       "      <td>2144</td>\n",
       "    </tr>\n",
       "    <tr>\n",
       "      <th>1893</th>\n",
       "      <td>send_e</td>\n",
       "      <td>2031</td>\n",
       "    </tr>\n",
       "    <tr>\n",
       "      <th>478</th>\n",
       "      <td>tell_me</td>\n",
       "      <td>2027</td>\n",
       "    </tr>\n",
       "    <tr>\n",
       "      <th>791</th>\n",
       "      <td>provide_information</td>\n",
       "      <td>2006</td>\n",
       "    </tr>\n",
       "  </tbody>\n",
       "</table>\n",
       "</div>"
      ],
      "text/plain": [
       "      action_object_pairs  count\n",
       "172        have_questions  11024\n",
       "296            send_email   8182\n",
       "60                send_it   6188\n",
       "389               call_me   6177\n",
       "61           send_message   4856\n",
       "99              thank_you   4433\n",
       "229            contact_me   3994\n",
       "404               do_what   3567\n",
       "668             send_mail   3490\n",
       "148                 do_it   2806\n",
       "936             give_call   2642\n",
       "853             need_help   2540\n",
       "63                join_us   2443\n",
       "8                 do_this   2402\n",
       "527              call_you   2392\n",
       "90           have_meeting   2311\n",
       "37              take_look   2144\n",
       "1893               send_e   2031\n",
       "478               tell_me   2027\n",
       "791   provide_information   2006"
      ]
     },
     "execution_count": 113,
     "metadata": {},
     "output_type": "execute_result"
    }
   ],
   "source": [
    "df_grouped = get_distinct_words_df(df_filtered)\n",
    "df_grouped.head(20)"
   ]
  },
  {
   "cell_type": "markdown",
   "metadata": {},
   "source": [
    "### Grouping"
   ]
  },
  {
   "cell_type": "code",
   "execution_count": 138,
   "metadata": {},
   "outputs": [
    {
     "data": {
      "text/html": [
       "<div>\n",
       "<style scoped>\n",
       "    .dataframe tbody tr th:only-of-type {\n",
       "        vertical-align: middle;\n",
       "    }\n",
       "\n",
       "    .dataframe tbody tr th {\n",
       "        vertical-align: top;\n",
       "    }\n",
       "\n",
       "    .dataframe thead th {\n",
       "        text-align: right;\n",
       "    }\n",
       "</style>\n",
       "<table border=\"1\" class=\"dataframe\">\n",
       "  <thead>\n",
       "    <tr style=\"text-align: right;\">\n",
       "      <th></th>\n",
       "      <th>action_object_pairs</th>\n",
       "      <th>count</th>\n",
       "    </tr>\n",
       "  </thead>\n",
       "  <tbody>\n",
       "    <tr>\n",
       "      <th>0</th>\n",
       "      <td>do_what, do_it, do_this, tell_me, do_that, pro...</td>\n",
       "      <td>194854</td>\n",
       "    </tr>\n",
       "    <tr>\n",
       "      <th>1</th>\n",
       "      <td>have_questions, need_help, take_look, help_you...</td>\n",
       "      <td>70971</td>\n",
       "    </tr>\n",
       "    <tr>\n",
       "      <th>2</th>\n",
       "      <td>send_it, send_e, send_courtesy, send_this, sen...</td>\n",
       "      <td>43530</td>\n",
       "    </tr>\n",
       "    <tr>\n",
       "      <th>3</th>\n",
       "      <td>send_email, send_mail, receive_email, receive_...</td>\n",
       "      <td>37063</td>\n",
       "    </tr>\n",
       "    <tr>\n",
       "      <th>4</th>\n",
       "      <td>join_us, have_meeting, set_meeting, schedule_m...</td>\n",
       "      <td>34014</td>\n",
       "    </tr>\n",
       "    <tr>\n",
       "      <th>5</th>\n",
       "      <td>call_me, give_call, call_you, have_call, set_c...</td>\n",
       "      <td>32895</td>\n",
       "    </tr>\n",
       "    <tr>\n",
       "      <th>6</th>\n",
       "      <td>provide_information, contain_information, need...</td>\n",
       "      <td>32579</td>\n",
       "    </tr>\n",
       "    <tr>\n",
       "      <th>7</th>\n",
       "      <td>make_changes, change_address, give_update, mak...</td>\n",
       "      <td>29808</td>\n",
       "    </tr>\n",
       "    <tr>\n",
       "      <th>8</th>\n",
       "      <td>send_message, contact_me, contact_us, receive_...</td>\n",
       "      <td>29205</td>\n",
       "    </tr>\n",
       "    <tr>\n",
       "      <th>9</th>\n",
       "      <td>send_feedback, provide_feedback, review_it, se...</td>\n",
       "      <td>20537</td>\n",
       "    </tr>\n",
       "    <tr>\n",
       "      <th>10</th>\n",
       "      <td>thank_you, appreciate_it, send_Thanks, have_Th...</td>\n",
       "      <td>12524</td>\n",
       "    </tr>\n",
       "    <tr>\n",
       "      <th>11</th>\n",
       "      <td>notify_sender</td>\n",
       "      <td>1923</td>\n",
       "    </tr>\n",
       "    <tr>\n",
       "      <th>12</th>\n",
       "      <td>have_time</td>\n",
       "      <td>1657</td>\n",
       "    </tr>\n",
       "    <tr>\n",
       "      <th>13</th>\n",
       "      <td>have_access</td>\n",
       "      <td>1617</td>\n",
       "    </tr>\n",
       "    <tr>\n",
       "      <th>14</th>\n",
       "      <td>provide_services</td>\n",
       "      <td>1380</td>\n",
       "    </tr>\n",
       "    <tr>\n",
       "      <th>15</th>\n",
       "      <td>receive_e</td>\n",
       "      <td>1338</td>\n",
       "    </tr>\n",
       "    <tr>\n",
       "      <th>16</th>\n",
       "      <td>set_DIGEST</td>\n",
       "      <td>1328</td>\n",
       "    </tr>\n",
       "    <tr>\n",
       "      <th>17</th>\n",
       "      <td>take_care</td>\n",
       "      <td>1322</td>\n",
       "    </tr>\n",
       "    <tr>\n",
       "      <th>18</th>\n",
       "      <td>make_sense</td>\n",
       "      <td>1268</td>\n",
       "    </tr>\n",
       "    <tr>\n",
       "      <th>19</th>\n",
       "      <td>learn_more</td>\n",
       "      <td>1244</td>\n",
       "    </tr>\n",
       "    <tr>\n",
       "      <th>20</th>\n",
       "      <td>provide_access</td>\n",
       "      <td>1180</td>\n",
       "    </tr>\n",
       "    <tr>\n",
       "      <th>21</th>\n",
       "      <td>take_advantage</td>\n",
       "      <td>1141</td>\n",
       "    </tr>\n",
       "    <tr>\n",
       "      <th>22</th>\n",
       "      <td>have_chance</td>\n",
       "      <td>1129</td>\n",
       "    </tr>\n",
       "    <tr>\n",
       "      <th>23</th>\n",
       "      <td>take_time</td>\n",
       "      <td>1119</td>\n",
       "    </tr>\n",
       "    <tr>\n",
       "      <th>24</th>\n",
       "      <td>delete_original</td>\n",
       "      <td>969</td>\n",
       "    </tr>\n",
       "    <tr>\n",
       "      <th>25</th>\n",
       "      <td>give_access</td>\n",
       "      <td>928</td>\n",
       "    </tr>\n",
       "    <tr>\n",
       "      <th>26</th>\n",
       "      <td>provide_customers</td>\n",
       "      <td>894</td>\n",
       "    </tr>\n",
       "    <tr>\n",
       "      <th>27</th>\n",
       "      <td>meet_needs</td>\n",
       "      <td>859</td>\n",
       "    </tr>\n",
       "    <tr>\n",
       "      <th>28</th>\n",
       "      <td>get_chance</td>\n",
       "      <td>784</td>\n",
       "    </tr>\n",
       "    <tr>\n",
       "      <th>29</th>\n",
       "      <td>give_ability</td>\n",
       "      <td>764</td>\n",
       "    </tr>\n",
       "    <tr>\n",
       "      <th>30</th>\n",
       "      <td>take_place</td>\n",
       "      <td>756</td>\n",
       "    </tr>\n",
       "    <tr>\n",
       "      <th>31</th>\n",
       "      <td>make_decisions</td>\n",
       "      <td>722</td>\n",
       "    </tr>\n",
       "    <tr>\n",
       "      <th>32</th>\n",
       "      <td>spend_time</td>\n",
       "      <td>715</td>\n",
       "    </tr>\n",
       "    <tr>\n",
       "      <th>33</th>\n",
       "      <td>follow_up</td>\n",
       "      <td>709</td>\n",
       "    </tr>\n",
       "    <tr>\n",
       "      <th>34</th>\n",
       "      <td>need_anything</td>\n",
       "      <td>703</td>\n",
       "    </tr>\n",
       "    <tr>\n",
       "      <th>35</th>\n",
       "      <td>receive_offers</td>\n",
       "      <td>677</td>\n",
       "    </tr>\n",
       "    <tr>\n",
       "      <th>36</th>\n",
       "      <td>copy_files</td>\n",
       "      <td>665</td>\n",
       "    </tr>\n",
       "    <tr>\n",
       "      <th>37</th>\n",
       "      <td>enter_address</td>\n",
       "      <td>662</td>\n",
       "    </tr>\n",
       "    <tr>\n",
       "      <th>38</th>\n",
       "      <td>visit_site</td>\n",
       "      <td>660</td>\n",
       "    </tr>\n",
       "    <tr>\n",
       "      <th>39</th>\n",
       "      <td>include_services</td>\n",
       "      <td>648</td>\n",
       "    </tr>\n",
       "  </tbody>\n",
       "</table>\n",
       "</div>"
      ],
      "text/plain": [
       "                                  action_object_pairs   count\n",
       "0   do_what, do_it, do_this, tell_me, do_that, pro...  194854\n",
       "1   have_questions, need_help, take_look, help_you...   70971\n",
       "2   send_it, send_e, send_courtesy, send_this, sen...   43530\n",
       "3   send_email, send_mail, receive_email, receive_...   37063\n",
       "4   join_us, have_meeting, set_meeting, schedule_m...   34014\n",
       "5   call_me, give_call, call_you, have_call, set_c...   32895\n",
       "6   provide_information, contain_information, need...   32579\n",
       "7   make_changes, change_address, give_update, mak...   29808\n",
       "8   send_message, contact_me, contact_us, receive_...   29205\n",
       "9   send_feedback, provide_feedback, review_it, se...   20537\n",
       "10  thank_you, appreciate_it, send_Thanks, have_Th...   12524\n",
       "11                                      notify_sender    1923\n",
       "12                                          have_time    1657\n",
       "13                                        have_access    1617\n",
       "14                                   provide_services    1380\n",
       "15                                          receive_e    1338\n",
       "16                                         set_DIGEST    1328\n",
       "17                                          take_care    1322\n",
       "18                                         make_sense    1268\n",
       "19                                         learn_more    1244\n",
       "20                                     provide_access    1180\n",
       "21                                     take_advantage    1141\n",
       "22                                        have_chance    1129\n",
       "23                                          take_time    1119\n",
       "24                                    delete_original     969\n",
       "25                                        give_access     928\n",
       "26                                  provide_customers     894\n",
       "27                                         meet_needs     859\n",
       "28                                         get_chance     784\n",
       "29                                       give_ability     764\n",
       "30                                         take_place     756\n",
       "31                                     make_decisions     722\n",
       "32                                         spend_time     715\n",
       "33                                          follow_up     709\n",
       "34                                      need_anything     703\n",
       "35                                     receive_offers     677\n",
       "36                                         copy_files     665\n",
       "37                                      enter_address     662\n",
       "38                                         visit_site     660\n",
       "39                                   include_services     648"
      ]
     },
     "execution_count": 138,
     "metadata": {},
     "output_type": "execute_result"
    }
   ],
   "source": [
    "df_grouped.head(40)"
   ]
  },
  {
   "cell_type": "code",
   "execution_count": 64,
   "metadata": {},
   "outputs": [],
   "source": [
    "#for entry in df_grouped.iloc[10]['action_object_pairs'].split(', '):\n",
    "#  print(entry)"
   ]
  },
  {
   "cell_type": "markdown",
   "metadata": {},
   "source": [
    "- 'meeting','appointment'\n",
    "- 'issue','problem','help','question', 'assistance', 'take_look', 'ask_'\n",
    "- 'thank', 'appreciate'\n",
    "- 'contact', 'reach', 'message',\n",
    "- 'information'\n",
    "- 'change', 'amend'\n",
    "- 'call'\n",
    "- 'mail'\n",
    "- 'send'\n",
    "- 'do_','use_'\n",
    "- '_it','_us','_them','_you','_her','_him','_me','_what','_this','_that'\n"
   ]
  },
  {
   "cell_type": "code",
   "execution_count": null,
   "metadata": {},
   "outputs": [],
   "source": [
    "kw_meeting = ['meeting','appointment','join_us',\"_con\",'discussion' ]\n",
    "kw_feedback = ['feedback','comment','review',\"input\",'criticism', 'critique']\n",
    "kw_problem = ['issue','problem','help','question', 'assist', 'take_look', 'aid', 'support', 'guide', 'give_hand','lend_hand','solution','solve']\n",
    "kw_thank = ['thank', 'appreciate']\n",
    "kw_contact = ['contact', 'reach', 'message',]\n",
    "kw_information = ['information', \"data\", \"details\", \"report\", ]\n",
    "kw_change = ['change', 'amend', \"modify\", \"adjust\", \"revise\", \"alter\", \"transform\", \"edit\", \"update\", \"convert\", \"rework\", \"refine\", \"adapt\", \"remodel\", \"reorganize\", \"reform\", \"shift\", \"rebuild\", \"vary\", \"recalibrate\", \"rectify\"]\n",
    "kw_call = ['call']\n",
    "kw_mail = ['mail']\n",
    "kw_send = ['send_']\n",
    "kw_this_and_that = ['do_','use_','_it','_us','_them','_you','_her','_him','_me','_what','_this','_that']\n",
    "\n",
    "groups = [\n",
    "   kw_meeting, kw_feedback, kw_problem, kw_thank, kw_contact,kw_information, kw_change, kw_call, kw_mail, kw_send, kw_this_and_that\n",
    "]\n"
   ]
  },
  {
   "cell_type": "code",
   "execution_count": 122,
   "metadata": {},
   "outputs": [],
   "source": [
    "for group in groups:\n",
    "    df_grouped = aggregate_by_keywords_substring(df_grouped, group)"
   ]
  },
  {
   "cell_type": "code",
   "execution_count": null,
   "metadata": {},
   "outputs": [],
   "source": [
    "#df_grouped = aggregate_specific_indices(df_grouped, [(0,2)])"
   ]
  },
  {
   "cell_type": "code",
   "execution_count": null,
   "metadata": {},
   "outputs": [],
   "source": [
    "#df_grouped = remove_entries_containing(df_grouped, df_filtered, 'send_email')\n",
    "#df_grouped.head(10)"
   ]
  },
  {
   "cell_type": "markdown",
   "metadata": {},
   "source": [
    "#### Final Taxonomy"
   ]
  },
  {
   "cell_type": "markdown",
   "metadata": {},
   "source": [
    "| Action-Object-Pairs    | Overarching Intent |\n",
    "|-----------------------|-------------|\n",
    "|send_  | Send something or request somebody to send something|\n",
    "| call_ | Contacting somebody or request somebody to contact them |\n",
    "| have_questions, need_help | request help or provide help |\n",
    "| do_ | unspecified doing of something |\n",
    "| meeting | planning of meetings |\n",
    "| information | requesting or providing information |\n",
    "| change | making changes or request for changes |\n",
    "| thank_you | thank you messages |\n",
    "| ... | rest of the Dataframe |"
   ]
  },
  {
   "cell_type": "markdown",
   "metadata": {},
   "source": [
    "### Create Dataframe Subsets for overarching intents"
   ]
  },
  {
   "cell_type": "code",
   "execution_count": 139,
   "metadata": {},
   "outputs": [],
   "source": [
    "df_start = df_filtered.copy()"
   ]
  },
  {
   "cell_type": "code",
   "execution_count": 140,
   "metadata": {},
   "outputs": [
    {
     "name": "stderr",
     "output_type": "stream",
     "text": [
      "100%|██████████| 686570/686570 [00:47<00:00, 14394.11it/s]\n"
     ]
    },
    {
     "name": "stdout",
     "output_type": "stream",
     "text": [
      "Intent DF shape: (51036, 19); Remaining DF shape: (635534, 19)\n"
     ]
    }
   ],
   "source": [
    "pairs_meeting = df_grouped.iloc[4]['action_object_pairs']\n",
    "df_meeting, df_remaining = split_dataframes(df_start, pairs_meeting)\n",
    "print(f'Intent DF shape: {df_meeting.shape}; Remaining DF shape: {df_remaining.shape}')"
   ]
  },
  {
   "cell_type": "code",
   "execution_count": 141,
   "metadata": {},
   "outputs": [
    {
     "name": "stderr",
     "output_type": "stream",
     "text": [
      "100%|██████████| 635534/635534 [00:16<00:00, 37434.83it/s]\n"
     ]
    },
    {
     "name": "stdout",
     "output_type": "stream",
     "text": [
      "Intent DF shape: (22285, 19); Remaining DF shape: (613249, 19)\n"
     ]
    }
   ],
   "source": [
    "pairs_feedback = df_grouped.iloc[9]['action_object_pairs']\n",
    "df_feedback, df_remaining = split_dataframes(df_remaining, pairs_feedback)\n",
    "print(f'Intent DF shape: {df_feedback.shape}; Remaining DF shape: {df_remaining.shape}')"
   ]
  },
  {
   "cell_type": "code",
   "execution_count": 142,
   "metadata": {},
   "outputs": [
    {
     "name": "stderr",
     "output_type": "stream",
     "text": [
      "100%|██████████| 613249/613249 [00:42<00:00, 14479.58it/s]\n"
     ]
    },
    {
     "name": "stdout",
     "output_type": "stream",
     "text": [
      "Intent DF shape: (64233, 19); Remaining DF shape: (549016, 19)\n"
     ]
    }
   ],
   "source": [
    "pairs_problem = df_grouped.iloc[1]['action_object_pairs']\n",
    "df_problem, df_remaining = split_dataframes(df_remaining, pairs_problem)\n",
    "print(f'Intent DF shape: {df_problem.shape}; Remaining DF shape: {df_remaining.shape}')"
   ]
  },
  {
   "cell_type": "code",
   "execution_count": 143,
   "metadata": {},
   "outputs": [
    {
     "name": "stderr",
     "output_type": "stream",
     "text": [
      "100%|██████████| 549016/549016 [00:07<00:00, 77068.45it/s]\n"
     ]
    },
    {
     "name": "stdout",
     "output_type": "stream",
     "text": [
      "Intent DF shape: (5772, 19); Remaining DF shape: (543244, 19)\n"
     ]
    }
   ],
   "source": [
    "pairs_thank = df_grouped.iloc[10]['action_object_pairs']\n",
    "df_thank, df_remaining = split_dataframes(df_remaining, pairs_thank)\n",
    "print(f'Intent DF shape: {df_thank.shape}; Remaining DF shape: {df_remaining.shape}')"
   ]
  },
  {
   "cell_type": "code",
   "execution_count": 144,
   "metadata": {},
   "outputs": [
    {
     "name": "stderr",
     "output_type": "stream",
     "text": [
      "100%|██████████| 543244/543244 [00:15<00:00, 36125.04it/s]\n"
     ]
    },
    {
     "name": "stdout",
     "output_type": "stream",
     "text": [
      "Intent DF shape: (21185, 19); Remaining DF shape: (522059, 19)\n"
     ]
    }
   ],
   "source": [
    "pairs_contact = df_grouped.iloc[8]['action_object_pairs']\n",
    "df_contact, df_remaining = split_dataframes(df_remaining, pairs_contact)\n",
    "print(f'Intent DF shape: {df_contact.shape}; Remaining DF shape: {df_remaining.shape}')"
   ]
  },
  {
   "cell_type": "code",
   "execution_count": 145,
   "metadata": {},
   "outputs": [
    {
     "name": "stderr",
     "output_type": "stream",
     "text": [
      "100%|██████████| 522059/522059 [00:14<00:00, 35324.34it/s]\n"
     ]
    },
    {
     "name": "stdout",
     "output_type": "stream",
     "text": [
      "Intent DF shape: (29829, 19); Remaining DF shape: (492230, 19)\n"
     ]
    }
   ],
   "source": [
    "pairs_information = df_grouped.iloc[6]['action_object_pairs']\n",
    "df_info, df_remaining = split_dataframes(df_remaining, pairs_information)\n",
    "print(f'Intent DF shape: {df_info.shape}; Remaining DF shape: {df_remaining.shape}')"
   ]
  },
  {
   "cell_type": "code",
   "execution_count": 146,
   "metadata": {},
   "outputs": [
    {
     "name": "stderr",
     "output_type": "stream",
     "text": [
      "100%|██████████| 492230/492230 [00:27<00:00, 18055.84it/s]\n"
     ]
    },
    {
     "name": "stdout",
     "output_type": "stream",
     "text": [
      "Intent DF shape: (27758, 19); Remaining DF shape: (464472, 19)\n"
     ]
    }
   ],
   "source": [
    "pairs_change = df_grouped.iloc[7]['action_object_pairs']\n",
    "df_change, df_remaining = split_dataframes(df_remaining, pairs_change)\n",
    "print(f'Intent DF shape: {df_change.shape}; Remaining DF shape: {df_remaining.shape}')"
   ]
  },
  {
   "cell_type": "code",
   "execution_count": 147,
   "metadata": {},
   "outputs": [
    {
     "name": "stderr",
     "output_type": "stream",
     "text": [
      "  0%|          | 0/464472 [00:00<?, ?it/s]"
     ]
    },
    {
     "name": "stderr",
     "output_type": "stream",
     "text": [
      "100%|██████████| 464472/464472 [00:12<00:00, 36678.14it/s]\n"
     ]
    },
    {
     "name": "stdout",
     "output_type": "stream",
     "text": [
      "Intent DF shape: (20327, 19); Remaining DF shape: (444145, 19)\n"
     ]
    }
   ],
   "source": [
    "pairs_call = df_grouped.iloc[5]['action_object_pairs']\n",
    "df_call, df_remaining = split_dataframes(df_remaining, pairs_call)\n",
    "print(f'Intent DF shape: {df_call.shape}; Remaining DF shape: {df_remaining.shape}')"
   ]
  },
  {
   "cell_type": "code",
   "execution_count": 148,
   "metadata": {},
   "outputs": [
    {
     "name": "stderr",
     "output_type": "stream",
     "text": [
      "100%|██████████| 444145/444145 [00:10<00:00, 42025.87it/s]\n"
     ]
    },
    {
     "name": "stdout",
     "output_type": "stream",
     "text": [
      "Intent DF shape: (23250, 19); Remaining DF shape: (420895, 19)\n"
     ]
    }
   ],
   "source": [
    "pairs_mail = df_grouped.iloc[3]['action_object_pairs']\n",
    "df_mail, df_remaining = split_dataframes(df_remaining, pairs_mail)\n",
    "print(f'Intent DF shape: {df_mail.shape}; Remaining DF shape: {df_remaining.shape}')"
   ]
  },
  {
   "cell_type": "code",
   "execution_count": 149,
   "metadata": {},
   "outputs": [
    {
     "name": "stderr",
     "output_type": "stream",
     "text": [
      "100%|██████████| 420895/420895 [00:12<00:00, 34315.86it/s]\n"
     ]
    },
    {
     "name": "stdout",
     "output_type": "stream",
     "text": [
      "Intent DF shape: (23710, 19); Remaining DF shape: (397185, 19)\n"
     ]
    }
   ],
   "source": [
    "pairs_send = df_grouped.iloc[2]['action_object_pairs']\n",
    "df_send, df_remaining = split_dataframes(df_remaining, pairs_send)\n",
    "print(f'Intent DF shape: {df_send.shape}; Remaining DF shape: {df_remaining.shape}')"
   ]
  },
  {
   "cell_type": "code",
   "execution_count": 150,
   "metadata": {},
   "outputs": [
    {
     "name": "stderr",
     "output_type": "stream",
     "text": [
      "100%|██████████| 397185/397185 [00:46<00:00, 8625.40it/s]\n"
     ]
    },
    {
     "name": "stdout",
     "output_type": "stream",
     "text": [
      "Intent DF shape: (112704, 19); Remaining DF shape: (284481, 19)\n"
     ]
    }
   ],
   "source": [
    "pairs_this_that = df_grouped.iloc[0]['action_object_pairs']\n",
    "df_this_that, df_remaining = split_dataframes(df_remaining, pairs_this_that)\n",
    "print(f'Intent DF shape: {df_this_that.shape}; Remaining DF shape: {df_remaining.shape}')"
   ]
  },
  {
   "cell_type": "markdown",
   "metadata": {},
   "source": [
    "##### Save DF Subsets"
   ]
  },
  {
   "cell_type": "code",
   "execution_count": 151,
   "metadata": {},
   "outputs": [],
   "source": [
    "df_meeting.to_parquet('../../data/processed/intents/meeting.parquet')\n",
    "df_feedback.to_parquet('../../data/processed/intents/feedback.parquet')\n",
    "df_problem.to_parquet('../../data/processed/intents/problem.parquet')\n",
    "df_thank.to_parquet('../../data/processed/intents/thank.parquet')\n",
    "df_contact.to_parquet('../../data/processed/intents/contact.parquet')\n",
    "df_info.to_parquet('../../data/processed/intents/info.parquet')\n",
    "df_change.to_parquet('../../data/processed/intents/change.parquet')\n",
    "df_call.to_parquet('../../data/processed/intents/call.parquet')\n",
    "df_mail.to_parquet('../../data/processed/intents/mail.parquet')\n",
    "df_send.to_parquet('../../data/processed/intents/send.parquet')\n",
    "df_this_that.to_parquet('../../data/processed/intents/this_that.parquet')\n",
    "df_remaining.to_parquet('../../data/processed/intents/remaining.parquet')"
   ]
  },
  {
   "cell_type": "code",
   "execution_count": null,
   "metadata": {},
   "outputs": [],
   "source": []
  }
 ],
 "metadata": {
  "kernelspec": {
   "display_name": "ma_exp_intent",
   "language": "python",
   "name": "python3"
  },
  "language_info": {
   "codemirror_mode": {
    "name": "ipython",
    "version": 3
   },
   "file_extension": ".py",
   "mimetype": "text/x-python",
   "name": "python",
   "nbconvert_exporter": "python",
   "pygments_lexer": "ipython3",
   "version": "3.12.4"
  }
 },
 "nbformat": 4,
 "nbformat_minor": 2
}
