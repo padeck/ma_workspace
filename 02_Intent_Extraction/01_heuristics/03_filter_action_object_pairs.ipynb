{
 "cells": [
  {
   "cell_type": "markdown",
   "metadata": {},
   "source": [
    "## Filter Action-Object Pairs"
   ]
  },
  {
   "cell_type": "code",
   "execution_count": 1,
   "metadata": {},
   "outputs": [],
   "source": [
    "import pandas as pd\n",
    "from collections import Counter\n",
    "import spacy\n",
    "from spacy.matcher import Matcher\n",
    "from tqdm import tqdm\n",
    "from IPython.display import display, HTML\n",
    "tqdm.pandas()\n",
    "\n",
    "\n",
    "# Load the English model\n",
    "nlp = spacy.load(\"en_core_web_lg\")"
   ]
  },
  {
   "cell_type": "code",
   "execution_count": 2,
   "metadata": {},
   "outputs": [],
   "source": [
    "df = pd.read_parquet('../../data/processed/targets/avocado_train_targets_exploded.parquet', engine='fastparquet')\n",
    "df = df.rename(columns={'targets': 'target'})"
   ]
  },
  {
   "cell_type": "code",
   "execution_count": 3,
   "metadata": {},
   "outputs": [
    {
     "data": {
      "text/plain": [
       "(1205714, 19)"
      ]
     },
     "execution_count": 3,
     "metadata": {},
     "output_type": "execute_result"
    }
   ],
   "source": [
    "df.shape"
   ]
  },
  {
   "cell_type": "code",
   "execution_count": 4,
   "metadata": {},
   "outputs": [],
   "source": [
    "# Remove empty entries\n",
    "df_filtered = df[~df['action_object_pairs'].apply(lambda x: x is None or (isinstance(x, list) and len(x) == 0))]"
   ]
  },
  {
   "cell_type": "code",
   "execution_count": 5,
   "metadata": {},
   "outputs": [
    {
     "data": {
      "text/plain": [
       "(722472, 19)"
      ]
     },
     "execution_count": 5,
     "metadata": {},
     "output_type": "execute_result"
    }
   ],
   "source": [
    "df_filtered.shape"
   ]
  },
  {
   "cell_type": "markdown",
   "metadata": {},
   "source": [
    "### Inspect Action-Object-Pairs results"
   ]
  },
  {
   "cell_type": "code",
   "execution_count": 6,
   "metadata": {},
   "outputs": [],
   "source": [
    "def get_distinct_words_df(df):\n",
    "    all_words = [word for sublist in df['action_object_pairs'] for word in sublist]\n",
    "\n",
    "    # Use Counter to count occurrences of each word\n",
    "    word_counts = Counter(all_words)\n",
    "\n",
    "    # Convert to DataFrame (optional, if you want to keep it in tabular form)\n",
    "    distinct_words_df = pd.DataFrame(word_counts.items(), columns=['action_object_pairs', 'count'])\n",
    "    distinct_words_df = distinct_words_df.sort_values(by='count', ascending=False)\n",
    "    #display(HTML(distinct_words_df.head(n).to_html()))\n",
    "    return distinct_words_df"
   ]
  },
  {
   "cell_type": "code",
   "execution_count": 7,
   "metadata": {},
   "outputs": [
    {
     "data": {
      "text/html": [
       "<div>\n",
       "<style scoped>\n",
       "    .dataframe tbody tr th:only-of-type {\n",
       "        vertical-align: middle;\n",
       "    }\n",
       "\n",
       "    .dataframe tbody tr th {\n",
       "        vertical-align: top;\n",
       "    }\n",
       "\n",
       "    .dataframe thead th {\n",
       "        text-align: right;\n",
       "    }\n",
       "</style>\n",
       "<table border=\"1\" class=\"dataframe\">\n",
       "  <thead>\n",
       "    <tr style=\"text-align: right;\">\n",
       "      <th></th>\n",
       "      <th>action_object_pairs</th>\n",
       "      <th>count</th>\n",
       "    </tr>\n",
       "  </thead>\n",
       "  <tbody>\n",
       "    <tr>\n",
       "      <th>20</th>\n",
       "      <td>start_Server</td>\n",
       "      <td>12831</td>\n",
       "    </tr>\n",
       "    <tr>\n",
       "      <th>63</th>\n",
       "      <td>send_it</td>\n",
       "      <td>12052</td>\n",
       "    </tr>\n",
       "    <tr>\n",
       "      <th>177</th>\n",
       "      <td>have_questions</td>\n",
       "      <td>11024</td>\n",
       "    </tr>\n",
       "    <tr>\n",
       "      <th>64</th>\n",
       "      <td>send_message</td>\n",
       "      <td>10704</td>\n",
       "    </tr>\n",
       "    <tr>\n",
       "      <th>301</th>\n",
       "      <td>send_email</td>\n",
       "      <td>8186</td>\n",
       "    </tr>\n",
       "    <tr>\n",
       "      <th>19</th>\n",
       "      <td>fail_Message</td>\n",
       "      <td>8065</td>\n",
       "    </tr>\n",
       "    <tr>\n",
       "      <th>18</th>\n",
       "      <td>start_Failures</td>\n",
       "      <td>6983</td>\n",
       "    </tr>\n",
       "    <tr>\n",
       "      <th>376</th>\n",
       "      <td>start_Occurrences</td>\n",
       "      <td>6428</td>\n",
       "    </tr>\n",
       "    <tr>\n",
       "      <th>395</th>\n",
       "      <td>call_me</td>\n",
       "      <td>6177</td>\n",
       "    </tr>\n",
       "    <tr>\n",
       "      <th>103</th>\n",
       "      <td>thank_you</td>\n",
       "      <td>4472</td>\n",
       "    </tr>\n",
       "    <tr>\n",
       "      <th>234</th>\n",
       "      <td>contact_me</td>\n",
       "      <td>3995</td>\n",
       "    </tr>\n",
       "    <tr>\n",
       "      <th>75</th>\n",
       "      <td>post_message</td>\n",
       "      <td>3790</td>\n",
       "    </tr>\n",
       "    <tr>\n",
       "      <th>165</th>\n",
       "      <td>miss_UNIVERSE</td>\n",
       "      <td>3742</td>\n",
       "    </tr>\n",
       "    <tr>\n",
       "      <th>410</th>\n",
       "      <td>do_what</td>\n",
       "      <td>3584</td>\n",
       "    </tr>\n",
       "    <tr>\n",
       "      <th>675</th>\n",
       "      <td>send_mail</td>\n",
       "      <td>3490</td>\n",
       "    </tr>\n",
       "    <tr>\n",
       "      <th>425</th>\n",
       "      <td>start_occurrence</td>\n",
       "      <td>3152</td>\n",
       "    </tr>\n",
       "    <tr>\n",
       "      <th>152</th>\n",
       "      <td>do_it</td>\n",
       "      <td>2816</td>\n",
       "    </tr>\n",
       "    <tr>\n",
       "      <th>943</th>\n",
       "      <td>give_call</td>\n",
       "      <td>2642</td>\n",
       "    </tr>\n",
       "    <tr>\n",
       "      <th>860</th>\n",
       "      <td>need_help</td>\n",
       "      <td>2541</td>\n",
       "    </tr>\n",
       "    <tr>\n",
       "      <th>1371</th>\n",
       "      <td>unsubscribe_mailto</td>\n",
       "      <td>2468</td>\n",
       "    </tr>\n",
       "  </tbody>\n",
       "</table>\n",
       "</div>"
      ],
      "text/plain": [
       "     action_object_pairs  count\n",
       "20          start_Server  12831\n",
       "63               send_it  12052\n",
       "177       have_questions  11024\n",
       "64          send_message  10704\n",
       "301           send_email   8186\n",
       "19          fail_Message   8065\n",
       "18        start_Failures   6983\n",
       "376    start_Occurrences   6428\n",
       "395              call_me   6177\n",
       "103            thank_you   4472\n",
       "234           contact_me   3995\n",
       "75          post_message   3790\n",
       "165        miss_UNIVERSE   3742\n",
       "410              do_what   3584\n",
       "675            send_mail   3490\n",
       "425     start_occurrence   3152\n",
       "152                do_it   2816\n",
       "943            give_call   2642\n",
       "860            need_help   2541\n",
       "1371  unsubscribe_mailto   2468"
      ]
     },
     "execution_count": 7,
     "metadata": {},
     "output_type": "execute_result"
    }
   ],
   "source": [
    "get_distinct_words_df(df_filtered).head(20)"
   ]
  },
  {
   "cell_type": "markdown",
   "metadata": {},
   "source": [
    "### Inspect Messages\n"
   ]
  },
  {
   "cell_type": "markdown",
   "metadata": {},
   "source": [
    "| Action-Object-Pair    | Count |\n",
    "|-------------|-------------|\n",
    " start_Server |\t12831\n",
    "send_it |\t12052\n",
    "have_questions |\t11024\n",
    "send_message |\t10704\n",
    "send_email |\t8186\n",
    "fail_Message |\t8065\n",
    "start_Failures |\t6983\n",
    "start_Occurrences |\t6428\n",
    "call_me\t| 6177\n",
    "thank_you | 4472\n",
    "contact_me | 3995\n",
    "post_message | 3790\n",
    "miss_UNIVERSE | 3742\n",
    "do_what | 3584\n",
    "send_mail | 3490\n",
    "start_occurrence | 3152\n",
    "do_it | 2816\n",
    "give_call | 2642\n",
    "need_help | 2541\n",
    "unsubscribe_mailto | 2468"
   ]
  },
  {
   "cell_type": "code",
   "execution_count": 8,
   "metadata": {},
   "outputs": [],
   "source": [
    "# Define a function to inspect entries for a given action-object pair\n",
    "def inspect_action_object_pair(pair_to_inspect, entry, print_extracted_text=True, print_target=True):\n",
    "    test = df_filtered[df_filtered['action_object_pairs'].apply(lambda x: pair_to_inspect in x)]\n",
    "    if print_extracted_text:\n",
    "        print(test.iloc[entry]['extracted_text'])\n",
    "    if print_target:\n",
    "        if print_extracted_text:\n",
    "            print('----------------------')\n",
    "    print(test.iloc[entry]['target'])\n",
    "    del test"
   ]
  },
  {
   "cell_type": "code",
   "execution_count": 9,
   "metadata": {},
   "outputs": [
    {
     "name": "stdout",
     "output_type": "stream",
     "text": [
      "I might have sent the e-mail to the wrong person because you mentioned before that we should have a meeting with Mark\n"
     ]
    }
   ],
   "source": [
    "inspect_action_object_pair('send_e', 1,print_extracted_text=False)"
   ]
  },
  {
   "cell_type": "markdown",
   "metadata": {},
   "source": [
    "## Entry Removal"
   ]
  },
  {
   "cell_type": "markdown",
   "metadata": {},
   "source": [
    "After inspecting the most-frequently occurring action-object-pairs, the following ones will not be considered further:\n",
    "\n",
    "| Action-Object-Pair    | Reason |\n",
    "|-------------|-------------|\n",
    "|fail_Message|belongs to error message and thus does not contain a humanly intent|\n",
    "|start_Failures|belongs to error message and thus does not contain a humanly intent|\n",
    "|start_Occurrences|belongs to error message and thus does not contain a humanly intent|\n",
    "|post_message|belongs to an automated message|\n",
    "|unsubscribe_mailto|belongs to an automated message|\n",
    "|miss_UNIVERSE|belongs to an automated message|\n",
    "|start_occurrence|belongs to an automated message|\n",
    "\n",
    "also the extremeprogramming unsubscribe message is being filtered from the original dataframe, as well as java messages"
   ]
  },
  {
   "cell_type": "code",
   "execution_count": 39,
   "metadata": {},
   "outputs": [],
   "source": [
    "entries_to_remove = [\n",
    "    'fail_Message',\n",
    "    'start_Failures',\n",
    "    'start_Occurrences',\n",
    "    'post_message',\n",
    "    'unsubscribe_mailto',\n",
    "    'miss_UNIVERSE',\n",
    "    'start_occurrence',\n",
    "    'set_sender'\n",
    "]\n",
    "\n",
    "# Remove these entries\n",
    "df_filtered = df_filtered[~df_filtered['action_object_pairs'].apply(lambda x: any(item in entries_to_remove for item in x))]"
   ]
  },
  {
   "cell_type": "code",
   "execution_count": 40,
   "metadata": {},
   "outputs": [
    {
     "data": {
      "text/plain": [
       "(686512, 19)"
      ]
     },
     "execution_count": 40,
     "metadata": {},
     "output_type": "execute_result"
    }
   ],
   "source": [
    "df_filtered.shape"
   ]
  },
  {
   "cell_type": "code",
   "execution_count": 41,
   "metadata": {},
   "outputs": [],
   "source": [
    "test_string = \"Unexpected flow reached by the server\"\n",
    "\n",
    "df_filtered = df_filtered[~df_filtered['extracted_text'].apply(lambda x: test_string in str(x))]\n"
   ]
  },
  {
   "cell_type": "code",
   "execution_count": 42,
   "metadata": {},
   "outputs": [
    {
     "data": {
      "text/plain": [
       "(686512, 19)"
      ]
     },
     "execution_count": 42,
     "metadata": {},
     "output_type": "execute_result"
    }
   ],
   "source": [
    "df_filtered.shape"
   ]
  },
  {
   "cell_type": "code",
   "execution_count": 13,
   "metadata": {},
   "outputs": [],
   "source": [
    "# Save the cleaned model\n",
    "\n",
    "df_filtered.to_parquet('../../data/processed/targets/avocado_train_targets_exploded_cleaned.parquet')"
   ]
  },
  {
   "cell_type": "code",
   "execution_count": 43,
   "metadata": {},
   "outputs": [
    {
     "data": {
      "text/html": [
       "<div>\n",
       "<style scoped>\n",
       "    .dataframe tbody tr th:only-of-type {\n",
       "        vertical-align: middle;\n",
       "    }\n",
       "\n",
       "    .dataframe tbody tr th {\n",
       "        vertical-align: top;\n",
       "    }\n",
       "\n",
       "    .dataframe thead th {\n",
       "        text-align: right;\n",
       "    }\n",
       "</style>\n",
       "<table border=\"1\" class=\"dataframe\">\n",
       "  <thead>\n",
       "    <tr style=\"text-align: right;\">\n",
       "      <th></th>\n",
       "      <th>action_object_pairs</th>\n",
       "      <th>count</th>\n",
       "    </tr>\n",
       "  </thead>\n",
       "  <tbody>\n",
       "    <tr>\n",
       "      <th>170</th>\n",
       "      <td>have_questions</td>\n",
       "      <td>11024</td>\n",
       "    </tr>\n",
       "    <tr>\n",
       "      <th>294</th>\n",
       "      <td>send_email</td>\n",
       "      <td>8182</td>\n",
       "    </tr>\n",
       "    <tr>\n",
       "      <th>58</th>\n",
       "      <td>send_it</td>\n",
       "      <td>6188</td>\n",
       "    </tr>\n",
       "    <tr>\n",
       "      <th>387</th>\n",
       "      <td>call_me</td>\n",
       "      <td>6177</td>\n",
       "    </tr>\n",
       "    <tr>\n",
       "      <th>59</th>\n",
       "      <td>send_message</td>\n",
       "      <td>4856</td>\n",
       "    </tr>\n",
       "    <tr>\n",
       "      <th>97</th>\n",
       "      <td>thank_you</td>\n",
       "      <td>4426</td>\n",
       "    </tr>\n",
       "    <tr>\n",
       "      <th>227</th>\n",
       "      <td>contact_me</td>\n",
       "      <td>3994</td>\n",
       "    </tr>\n",
       "    <tr>\n",
       "      <th>402</th>\n",
       "      <td>do_what</td>\n",
       "      <td>3567</td>\n",
       "    </tr>\n",
       "    <tr>\n",
       "      <th>666</th>\n",
       "      <td>send_mail</td>\n",
       "      <td>3490</td>\n",
       "    </tr>\n",
       "    <tr>\n",
       "      <th>146</th>\n",
       "      <td>do_it</td>\n",
       "      <td>2806</td>\n",
       "    </tr>\n",
       "    <tr>\n",
       "      <th>934</th>\n",
       "      <td>give_call</td>\n",
       "      <td>2642</td>\n",
       "    </tr>\n",
       "    <tr>\n",
       "      <th>851</th>\n",
       "      <td>need_help</td>\n",
       "      <td>2540</td>\n",
       "    </tr>\n",
       "    <tr>\n",
       "      <th>61</th>\n",
       "      <td>join_us</td>\n",
       "      <td>2443</td>\n",
       "    </tr>\n",
       "    <tr>\n",
       "      <th>8</th>\n",
       "      <td>do_this</td>\n",
       "      <td>2402</td>\n",
       "    </tr>\n",
       "    <tr>\n",
       "      <th>525</th>\n",
       "      <td>call_you</td>\n",
       "      <td>2392</td>\n",
       "    </tr>\n",
       "    <tr>\n",
       "      <th>88</th>\n",
       "      <td>have_meeting</td>\n",
       "      <td>2311</td>\n",
       "    </tr>\n",
       "    <tr>\n",
       "      <th>35</th>\n",
       "      <td>take_look</td>\n",
       "      <td>2144</td>\n",
       "    </tr>\n",
       "    <tr>\n",
       "      <th>1891</th>\n",
       "      <td>send_e</td>\n",
       "      <td>2031</td>\n",
       "    </tr>\n",
       "    <tr>\n",
       "      <th>476</th>\n",
       "      <td>tell_me</td>\n",
       "      <td>2027</td>\n",
       "    </tr>\n",
       "    <tr>\n",
       "      <th>789</th>\n",
       "      <td>provide_information</td>\n",
       "      <td>2006</td>\n",
       "    </tr>\n",
       "  </tbody>\n",
       "</table>\n",
       "</div>"
      ],
      "text/plain": [
       "      action_object_pairs  count\n",
       "170        have_questions  11024\n",
       "294            send_email   8182\n",
       "58                send_it   6188\n",
       "387               call_me   6177\n",
       "59           send_message   4856\n",
       "97              thank_you   4426\n",
       "227            contact_me   3994\n",
       "402               do_what   3567\n",
       "666             send_mail   3490\n",
       "146                 do_it   2806\n",
       "934             give_call   2642\n",
       "851             need_help   2540\n",
       "61                join_us   2443\n",
       "8                 do_this   2402\n",
       "525              call_you   2392\n",
       "88           have_meeting   2311\n",
       "35              take_look   2144\n",
       "1891               send_e   2031\n",
       "476               tell_me   2027\n",
       "789   provide_information   2006"
      ]
     },
     "execution_count": 43,
     "metadata": {},
     "output_type": "execute_result"
    }
   ],
   "source": [
    "get_distinct_words_df(df_filtered).head(20)"
   ]
  },
  {
   "cell_type": "code",
   "execution_count": 44,
   "metadata": {},
   "outputs": [
    {
     "name": "stdout",
     "output_type": "stream",
     "text": [
      "Venk,\n",
      "\n",
      "Congratulations. This is wonderful.\n",
      "\n",
      "Let me know if I can help in any way.\n",
      "\n",
      "best\n",
      "\n",
      "raman\n",
      "\n",
      "At 08:17 PM 7/20/00 -0700, you wrote:\n",
      ">\n",
      ">Friends,\n",
      ">\n",
      ">I am happy to share with you our excitement at being selected as one of the\n",
      ">top 25 b-to-b companies by the Forbes magazine.\n",
      ">\n",
      ">http://www.forbesbest.com/b2b/asp/industry.asp\n",
      ">\n",
      "\n",
      ">\n",
      ">\n",
      "\n",
      "-------------------------------------\n",
      "Let me know if I can help in any way.\n",
      "\n",
      "best\n",
      "\n",
      "raman\n",
      "\n",
      "At 08:17 PM 7/20/00 -0700, you wrote:\n",
      ">\n",
      ">Friends,\n",
      ">\n",
      ">\n",
      "-------------------------------------\n",
      "['write_raman']\n"
     ]
    }
   ],
   "source": [
    "# Filter to keep only unique message IDs\n",
    "unique_df = df_filtered[~df_filtered['messageid'].duplicated(keep=False)]\n",
    "\n",
    "entry = 0\n",
    "print(unique_df.iloc[entry]['extracted_text'])\n",
    "print('-------------------------------------')\n",
    "print(unique_df.iloc[entry]['target'])\n",
    "print('-------------------------------------')\n",
    "print(unique_df.iloc[entry]['action_object_pairs'])"
   ]
  },
  {
   "cell_type": "markdown",
   "metadata": {},
   "source": [
    "### Group Pairs"
   ]
  },
  {
   "cell_type": "code",
   "execution_count": 49,
   "metadata": {},
   "outputs": [],
   "source": [
    "target_strings = 'send_'\n",
    "df_send = df_filtered[df_filtered['action_object_pairs'].apply(lambda x: isinstance(x, list) and any(target_strings in item for item in x))]"
   ]
  },
  {
   "cell_type": "code",
   "execution_count": 50,
   "metadata": {},
   "outputs": [
    {
     "data": {
      "text/html": [
       "<div>\n",
       "<style scoped>\n",
       "    .dataframe tbody tr th:only-of-type {\n",
       "        vertical-align: middle;\n",
       "    }\n",
       "\n",
       "    .dataframe tbody tr th {\n",
       "        vertical-align: top;\n",
       "    }\n",
       "\n",
       "    .dataframe thead th {\n",
       "        text-align: right;\n",
       "    }\n",
       "</style>\n",
       "<table border=\"1\" class=\"dataframe\">\n",
       "  <thead>\n",
       "    <tr style=\"text-align: right;\">\n",
       "      <th></th>\n",
       "      <th>messageid</th>\n",
       "      <th>sender_access</th>\n",
       "      <th>outlook_sender_name</th>\n",
       "      <th>outlook_recipient_name</th>\n",
       "      <th>sentto_address</th>\n",
       "      <th>cc_address</th>\n",
       "      <th>subject</th>\n",
       "      <th>processed_subject</th>\n",
       "      <th>sent_date</th>\n",
       "      <th>arrival_date</th>\n",
       "      <th>body_file_path</th>\n",
       "      <th>body_content</th>\n",
       "      <th>in_reply_to</th>\n",
       "      <th>Keywords</th>\n",
       "      <th>extracted_text</th>\n",
       "      <th>preceding_conversation</th>\n",
       "      <th>sentences</th>\n",
       "      <th>target</th>\n",
       "      <th>action_object_pairs</th>\n",
       "    </tr>\n",
       "  </thead>\n",
       "  <tbody>\n",
       "    <tr>\n",
       "      <th>2</th>\n",
       "      <td>&lt;01370F5B01AAD411BE8100D0B744338C24F5A0@HQEXCH&gt;</td>\n",
       "      <td>EX</td>\n",
       "      <td>Jackie Valle</td>\n",
       "      <td>None</td>\n",
       "      <td>Toshiya Otani</td>\n",
       "      <td>Jackie Valle</td>\n",
       "      <td>Tickets to Tokyo</td>\n",
       "      <td>Tickets to Tokyo</td>\n",
       "      <td>2001-02-22T19:38:41Z</td>\n",
       "      <td>2001-02-22T19:38:41Z</td>\n",
       "      <td>text/096/096-001089-EM.txt</td>\n",
       "      <td>From: \"Jackie Valle\" &lt;jackie.valle@avocadoit.c...</td>\n",
       "      <td>None</td>\n",
       "      <td>None</td>\n",
       "      <td>Hi,\\r\\n\\r\\nToday I received your tickets to To...</td>\n",
       "      <td>None</td>\n",
       "      <td>[Hi,\\r\\n\\r\\nToday I received your tickets to T...</td>\n",
       "      <td>Being that she told you and I [on the phone]\\r...</td>\n",
       "      <td>[tell_you, send_them]</td>\n",
       "    </tr>\n",
       "    <tr>\n",
       "      <th>34</th>\n",
       "      <td>&lt;FC38A9406AA4D411AB62009027DE9DA502214BAD@ntma...</td>\n",
       "      <td>EX</td>\n",
       "      <td>Arun Kalasapudi</td>\n",
       "      <td>Shailesh Kheny</td>\n",
       "      <td>Shailesh Kheny</td>\n",
       "      <td>None</td>\n",
       "      <td>FW: Email Update</td>\n",
       "      <td>Email Update</td>\n",
       "      <td>2001-09-07T13:42:58Z</td>\n",
       "      <td>2001-09-07T13:41:53Z</td>\n",
       "      <td>text/232/232-001946-EM.txt</td>\n",
       "      <td>Received: from mailer.avocadoit.com (10.7.1.4 ...</td>\n",
       "      <td>None</td>\n",
       "      <td>None</td>\n",
       "      <td>X-Authentication-Warning: bayunix.bayrentals.c...</td>\n",
       "      <td>From: Bay Rentals &lt;support@bayrentals.com&gt;\\r\\n...</td>\n",
       "      <td>[X-Authentication-Warning: bayunix.bayrentals....</td>\n",
       "      <td>* * *\\r\\n      Please do not send EMAIL for ch...</td>\n",
       "      <td>[send_EMAIL, delay_service]</td>\n",
       "    </tr>\n",
       "    <tr>\n",
       "      <th>70</th>\n",
       "      <td>&lt;m27kum7vak.fsf@zip.local.thomases.com&gt;</td>\n",
       "      <td>SMTP</td>\n",
       "      <td>Dave Thomas</td>\n",
       "      <td>Madhava Gullapalli</td>\n",
       "      <td>extremeprogramming@yahoogroups.com</td>\n",
       "      <td>None</td>\n",
       "      <td>Re: [XP] Arguments for Always Pair Programming</td>\n",
       "      <td>[XP] Arguments for Always Pair Programming</td>\n",
       "      <td>2001-09-25T22:36:03Z</td>\n",
       "      <td>2001-09-25T22:43:01Z</td>\n",
       "      <td>text/142/142-015683-EM.txt</td>\n",
       "      <td>Received: from mailer.avocadoit.com (10.7.1.4 ...</td>\n",
       "      <td>None</td>\n",
       "      <td>None</td>\n",
       "      <td>\"Glew, Andy\" &lt;andy.glew@intel.com&gt; writes:\\r\\n...</td>\n",
       "      <td>None</td>\n",
       "      <td>[\"Glew, Andy\" &lt;andy.glew@intel.com&gt; writes:\\r\\...</td>\n",
       "      <td>Dave\\r\\n\\r\\nTo Post a message, send it to:   e...</td>\n",
       "      <td>[send_it, send_message]</td>\n",
       "    </tr>\n",
       "    <tr>\n",
       "      <th>87</th>\n",
       "      <td>&lt;FC38A9406AA4D411AB62009027DE9DA5018F4EFA@ntma...</td>\n",
       "      <td>EX</td>\n",
       "      <td>Richard Yoza</td>\n",
       "      <td>DA</td>\n",
       "      <td>'neel.k.sata@accenture.com'; Shailesh Kheny</td>\n",
       "      <td>Support; aimee.e.grevemberg@accenture.com; dev...</td>\n",
       "      <td>RE: Worldcom NOE AvocadoIT Error</td>\n",
       "      <td>Worldcom NOE AvocadoIT Error</td>\n",
       "      <td>2001-07-25T19:53:42Z</td>\n",
       "      <td>2001-07-25T19:53:11Z</td>\n",
       "      <td>text/062/062-056161-EM.txt</td>\n",
       "      <td>From: \"Richard Yoza\" &lt;ryoza@avocadoit.com&gt;\\r\\n...</td>\n",
       "      <td>&lt;OF683AAED3.D6A69485-ON85256A94.006A8314@accen...</td>\n",
       "      <td>None</td>\n",
       "      <td>Neel,\\r\\nTo help us offer more efficient servi...</td>\n",
       "      <td>None</td>\n",
       "      <td>[Neel,\\r\\nTo help us offer more efficient serv...</td>\n",
       "      <td>Neel,\\r\\nTo help us offer more efficient servi...</td>\n",
       "      <td>[offer_service, send_requests, note_change]</td>\n",
       "    </tr>\n",
       "    <tr>\n",
       "      <th>90</th>\n",
       "      <td>&lt;FC38A9406AA4D411AB62009027DE9DA5018F4EFA@ntma...</td>\n",
       "      <td>EX</td>\n",
       "      <td>Richard Yoza</td>\n",
       "      <td>DA</td>\n",
       "      <td>'neel.k.sata@accenture.com'; Shailesh Kheny</td>\n",
       "      <td>Support; aimee.e.grevemberg@accenture.com; dev...</td>\n",
       "      <td>RE: Worldcom NOE AvocadoIT Error</td>\n",
       "      <td>Worldcom NOE AvocadoIT Error</td>\n",
       "      <td>2001-07-25T19:53:42Z</td>\n",
       "      <td>2001-07-25T19:53:11Z</td>\n",
       "      <td>text/062/062-056161-EM.txt</td>\n",
       "      <td>From: \"Richard Yoza\" &lt;ryoza@avocadoit.com&gt;\\r\\n...</td>\n",
       "      <td>&lt;OF683AAED3.D6A69485-ON85256A94.006A8314@accen...</td>\n",
       "      <td>None</td>\n",
       "      <td>Neel,\\r\\nTo help us offer more efficient servi...</td>\n",
       "      <td>None</td>\n",
       "      <td>[Neel,\\r\\nTo help us offer more efficient serv...</td>\n",
       "      <td>Send any additional questions or concerns thro...</td>\n",
       "      <td>[send_questions, send_Richard]</td>\n",
       "    </tr>\n",
       "  </tbody>\n",
       "</table>\n",
       "</div>"
      ],
      "text/plain": [
       "                                            messageid sender_access  \\\n",
       "2     <01370F5B01AAD411BE8100D0B744338C24F5A0@HQEXCH>            EX   \n",
       "34  <FC38A9406AA4D411AB62009027DE9DA502214BAD@ntma...            EX   \n",
       "70            <m27kum7vak.fsf@zip.local.thomases.com>          SMTP   \n",
       "87  <FC38A9406AA4D411AB62009027DE9DA5018F4EFA@ntma...            EX   \n",
       "90  <FC38A9406AA4D411AB62009027DE9DA5018F4EFA@ntma...            EX   \n",
       "\n",
       "   outlook_sender_name outlook_recipient_name  \\\n",
       "2         Jackie Valle                   None   \n",
       "34     Arun Kalasapudi         Shailesh Kheny   \n",
       "70         Dave Thomas     Madhava Gullapalli   \n",
       "87        Richard Yoza                     DA   \n",
       "90        Richard Yoza                     DA   \n",
       "\n",
       "                                 sentto_address  \\\n",
       "2                                 Toshiya Otani   \n",
       "34                               Shailesh Kheny   \n",
       "70           extremeprogramming@yahoogroups.com   \n",
       "87  'neel.k.sata@accenture.com'; Shailesh Kheny   \n",
       "90  'neel.k.sata@accenture.com'; Shailesh Kheny   \n",
       "\n",
       "                                           cc_address  \\\n",
       "2                                        Jackie Valle   \n",
       "34                                               None   \n",
       "70                                               None   \n",
       "87  Support; aimee.e.grevemberg@accenture.com; dev...   \n",
       "90  Support; aimee.e.grevemberg@accenture.com; dev...   \n",
       "\n",
       "                                           subject  \\\n",
       "2                                 Tickets to Tokyo   \n",
       "34                                FW: Email Update   \n",
       "70  Re: [XP] Arguments for Always Pair Programming   \n",
       "87                RE: Worldcom NOE AvocadoIT Error   \n",
       "90                RE: Worldcom NOE AvocadoIT Error   \n",
       "\n",
       "                             processed_subject             sent_date  \\\n",
       "2                             Tickets to Tokyo  2001-02-22T19:38:41Z   \n",
       "34                                Email Update  2001-09-07T13:42:58Z   \n",
       "70  [XP] Arguments for Always Pair Programming  2001-09-25T22:36:03Z   \n",
       "87                Worldcom NOE AvocadoIT Error  2001-07-25T19:53:42Z   \n",
       "90                Worldcom NOE AvocadoIT Error  2001-07-25T19:53:42Z   \n",
       "\n",
       "            arrival_date              body_file_path  \\\n",
       "2   2001-02-22T19:38:41Z  text/096/096-001089-EM.txt   \n",
       "34  2001-09-07T13:41:53Z  text/232/232-001946-EM.txt   \n",
       "70  2001-09-25T22:43:01Z  text/142/142-015683-EM.txt   \n",
       "87  2001-07-25T19:53:11Z  text/062/062-056161-EM.txt   \n",
       "90  2001-07-25T19:53:11Z  text/062/062-056161-EM.txt   \n",
       "\n",
       "                                         body_content  \\\n",
       "2   From: \"Jackie Valle\" <jackie.valle@avocadoit.c...   \n",
       "34  Received: from mailer.avocadoit.com (10.7.1.4 ...   \n",
       "70  Received: from mailer.avocadoit.com (10.7.1.4 ...   \n",
       "87  From: \"Richard Yoza\" <ryoza@avocadoit.com>\\r\\n...   \n",
       "90  From: \"Richard Yoza\" <ryoza@avocadoit.com>\\r\\n...   \n",
       "\n",
       "                                          in_reply_to Keywords  \\\n",
       "2                                                None     None   \n",
       "34                                               None     None   \n",
       "70                                               None     None   \n",
       "87  <OF683AAED3.D6A69485-ON85256A94.006A8314@accen...     None   \n",
       "90  <OF683AAED3.D6A69485-ON85256A94.006A8314@accen...     None   \n",
       "\n",
       "                                       extracted_text  \\\n",
       "2   Hi,\\r\\n\\r\\nToday I received your tickets to To...   \n",
       "34  X-Authentication-Warning: bayunix.bayrentals.c...   \n",
       "70  \"Glew, Andy\" <andy.glew@intel.com> writes:\\r\\n...   \n",
       "87  Neel,\\r\\nTo help us offer more efficient servi...   \n",
       "90  Neel,\\r\\nTo help us offer more efficient servi...   \n",
       "\n",
       "                               preceding_conversation  \\\n",
       "2                                                None   \n",
       "34  From: Bay Rentals <support@bayrentals.com>\\r\\n...   \n",
       "70                                               None   \n",
       "87                                               None   \n",
       "90                                               None   \n",
       "\n",
       "                                            sentences  \\\n",
       "2   [Hi,\\r\\n\\r\\nToday I received your tickets to T...   \n",
       "34  [X-Authentication-Warning: bayunix.bayrentals....   \n",
       "70  [\"Glew, Andy\" <andy.glew@intel.com> writes:\\r\\...   \n",
       "87  [Neel,\\r\\nTo help us offer more efficient serv...   \n",
       "90  [Neel,\\r\\nTo help us offer more efficient serv...   \n",
       "\n",
       "                                               target  \\\n",
       "2   Being that she told you and I [on the phone]\\r...   \n",
       "34  * * *\\r\\n      Please do not send EMAIL for ch...   \n",
       "70  Dave\\r\\n\\r\\nTo Post a message, send it to:   e...   \n",
       "87  Neel,\\r\\nTo help us offer more efficient servi...   \n",
       "90  Send any additional questions or concerns thro...   \n",
       "\n",
       "                            action_object_pairs  \n",
       "2                         [tell_you, send_them]  \n",
       "34                  [send_EMAIL, delay_service]  \n",
       "70                      [send_it, send_message]  \n",
       "87  [offer_service, send_requests, note_change]  \n",
       "90               [send_questions, send_Richard]  "
      ]
     },
     "execution_count": 50,
     "metadata": {},
     "output_type": "execute_result"
    }
   ],
   "source": [
    "df_send.head()"
   ]
  },
  {
   "cell_type": "code",
   "execution_count": 51,
   "metadata": {},
   "outputs": [
    {
     "data": {
      "text/plain": [
       "(54000, 19)"
      ]
     },
     "execution_count": 51,
     "metadata": {},
     "output_type": "execute_result"
    }
   ],
   "source": [
    "df_send.shape"
   ]
  },
  {
   "cell_type": "code",
   "execution_count": 53,
   "metadata": {},
   "outputs": [],
   "source": [
    "df_send.to_parquet('../../data/processed/intents/send.parquet')"
   ]
  },
  {
   "cell_type": "code",
   "execution_count": 57,
   "metadata": {},
   "outputs": [
    {
     "name": "stdout",
     "output_type": "stream",
     "text": [
      "Well, since I did not send the official invite, here's one from the Bday\n",
      "boy.\n"
     ]
    }
   ],
   "source": [
    "print(df_send.iloc[10]['target'])"
   ]
  },
  {
   "cell_type": "markdown",
   "metadata": {},
   "source": [
    "#### obsolete code"
   ]
  },
  {
   "cell_type": "code",
   "execution_count": 15,
   "metadata": {},
   "outputs": [],
   "source": [
    "df_distinct_words = get_distinct_words_df(df_filtered)"
   ]
  },
  {
   "cell_type": "code",
   "execution_count": null,
   "metadata": {},
   "outputs": [],
   "source": [
    "df_distinct_words.head(60)"
   ]
  },
  {
   "cell_type": "code",
   "execution_count": 15,
   "metadata": {},
   "outputs": [],
   "source": [
    "# Define function to aggregate rows for a given word. If an action-object-pair contains the given word, entries and their occurrence-count will be aggregated.\n",
    "\n",
    "def aggregate_rows(df, word_to_group):\n",
    "    # Step 1: Filter rows where 'action_object_pairs' contains the word to group\n",
    "    filtered_df = df[df['action_object_pairs'].str.contains(word_to_group, case=False, na=False)]\n",
    "\n",
    "    # Step 2: Aggregate the filtered entries\n",
    "    new_entry = pd.DataFrame({\n",
    "        'action_object_pairs': [filtered_df['action_object_pairs'].tolist()],  # Aggregate label\n",
    "        'count': [filtered_df['count'].sum()]                   # Sum the counts\n",
    "    })\n",
    "\n",
    "    # Step 3: Remove the filtered entries from the original DataFrame\n",
    "    df = df[~df['action_object_pairs'].str.contains(word_to_group, case=False, na=False)]\n",
    "\n",
    "    # Step 4: Append the new entry to the original DataFrame\n",
    "    df = pd.concat([df, new_entry], ignore_index=True)\n",
    "\n",
    "    # Sort the DataFrame by 'count' column in descending order\n",
    "    return df.sort_values(by='count', ascending=False).reset_index(drop=True)\n"
   ]
  },
  {
   "cell_type": "code",
   "execution_count": 93,
   "metadata": {},
   "outputs": [],
   "source": [
    "# Group for words \"send\", \"call\", \"meeting\", \"join\", \"thank\", \"do\", \"receive\", \"provide\", \"discuss\", \"changes\", \"need\"\n",
    "df_distinct_words = aggregate_rows(df_distinct_words,'see')"
   ]
  },
  {
   "cell_type": "code",
   "execution_count": null,
   "metadata": {},
   "outputs": [],
   "source": [
    "df_distinct_words.head(60)"
   ]
  },
  {
   "cell_type": "code",
   "execution_count": null,
   "metadata": {},
   "outputs": [],
   "source": [
    "df_distinct_words.shape"
   ]
  }
 ],
 "metadata": {
  "kernelspec": {
   "display_name": "ma_exp_intent",
   "language": "python",
   "name": "python3"
  },
  "language_info": {
   "codemirror_mode": {
    "name": "ipython",
    "version": 3
   },
   "file_extension": ".py",
   "mimetype": "text/x-python",
   "name": "python",
   "nbconvert_exporter": "python",
   "pygments_lexer": "ipython3",
   "version": "3.12.4"
  }
 },
 "nbformat": 4,
 "nbformat_minor": 2
}
