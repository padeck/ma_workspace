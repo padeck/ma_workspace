{
 "cells": [
  {
   "cell_type": "code",
   "execution_count": 1,
   "metadata": {},
   "outputs": [],
   "source": [
    "from bertopic import BERTopic\n",
    "from scipy.cluster import hierarchy as sch\n",
    "import pandas as pd\n",
    "import ast\n",
    "from sklearn.metrics.pairwise import cosine_distances\n",
    "from tqdm import tqdm\n",
    "import numpy as np\n",
    "from umap import UMAP\n",
    "from hdbscan import HDBSCAN\n",
    "from sentence_transformers import SentenceTransformer\n",
    "import openai\n",
    "from openai import OpenAI\n",
    "import re\n",
    "import sys\n",
    "sys.path.append('../../')\n",
    "import json\n",
    "from utility.llm_utility import *"
   ]
  },
  {
   "cell_type": "code",
   "execution_count": 2,
   "metadata": {},
   "outputs": [],
   "source": [
    "with open(\"secret_api_key.txt\", \"r\") as file:\n",
    "    api_key = file.readline()\n",
    "    \n",
    "client = OpenAI(\n",
    "    api_key=api_key,\n",
    "    )"
   ]
  },
  {
   "cell_type": "code",
   "execution_count": 95,
   "metadata": {},
   "outputs": [],
   "source": [
    "batch_nr=12"
   ]
  },
  {
   "cell_type": "code",
   "execution_count": 96,
   "metadata": {},
   "outputs": [
    {
     "name": "stdout",
     "output_type": "stream",
     "text": [
      "Cell executed using Batch-ID: 12\n"
     ]
    }
   ],
   "source": [
    "print(f'Cell executed using Batch-ID: {batch_nr}')\n",
    "batch_input_file = client.files.create(\n",
    "  file=open(f\"../../data/llm_batches/signature_removal/batch_{batch_nr}.jsonl\", \"rb\"),\n",
    "  purpose=\"batch\"\n",
    ")\n",
    "\n",
    "batch_input_file_id = batch_input_file.id\n",
    "\n",
    "batch_object = client.batches.create(\n",
    "    input_file_id=batch_input_file_id,\n",
    "    endpoint=\"/v1/chat/completions\",\n",
    "    completion_window=\"24h\",\n",
    "    metadata={\n",
    "      \"description\": f\"Batch Nr: {batch_nr} - signature removal\"\n",
    "    }\n",
    ")"
   ]
  },
  {
   "cell_type": "code",
   "execution_count": 104,
   "metadata": {},
   "outputs": [
    {
     "name": "stdout",
     "output_type": "stream",
     "text": [
      "Batch ID: batch_674eddcf2a0c81908735b6cffe9d273f\n",
      "Status: in_progress\n",
      "Batch Nr: 12 - signature removal\n",
      "Output ID: None\n",
      "\n",
      "--------------------------------\n",
      "Batch ID: batch_674ea90a8fd4819086ed44ef84e5b5b9\n",
      "Status: completed\n",
      "Batch Nr: 11 - signature removal\n",
      "Output ID: file-ETtwDBB9hGjHkP52nBMg8R\n",
      "\n",
      "--------------------------------\n",
      "Batch ID: batch_674e3ba5d3588190bd6694c0450fdb9c\n",
      "Status: completed\n",
      "Batch Nr: 10 - signature removal\n",
      "Output ID: file-SHAuJF72cVyJVUXuwFxyUT\n",
      "\n",
      "--------------------------------\n",
      "Batch ID: batch_674e292334e08190a12063b5619a028a\n",
      "Status: completed\n",
      "Batch Nr: 9 - signature removal\n",
      "Output ID: file-5WKRX48B49Vwekg4XanZMV\n",
      "\n",
      "--------------------------------\n",
      "Batch ID: batch_674e1c98c6bc8190a2ade93c7f2ce45c\n",
      "Status: completed\n",
      "Batch Nr: 8 - signature removal\n",
      "Output ID: file-JTv6GV6qeGYHYAgNogXRkF\n",
      "\n",
      "--------------------------------\n",
      "Batch ID: batch_674e0d92fac08190a7689137ce7db458\n",
      "Status: completed\n",
      "Batch Nr: 7 - signature removal\n",
      "Output ID: file-4ohjCKQTfdLfW6QhhV9Yj1\n",
      "\n",
      "--------------------------------\n",
      "Batch ID: batch_674ddc00ec988190a1ef50aee3e892ab\n",
      "Status: completed\n",
      "Batch Nr: 6 - signature removal\n",
      "Output ID: file-X2qD5eWXQba54yMMXjkFWx\n",
      "\n",
      "--------------------------------\n",
      "Batch ID: batch_674dcb7a15188190833e25a6b3e1d7cd\n",
      "Status: completed\n",
      "Batch Nr: 5 - signature removal\n",
      "Output ID: file-LHj1k7dF6Q2Nyr9nWCnhxp\n",
      "\n",
      "--------------------------------\n",
      "Batch ID: batch_674dc016b2008190906a9c375c2e8c03\n",
      "Status: completed\n",
      "Batch Nr: 4 - signature removal\n",
      "Output ID: file-LH7d1pAPAdZ6KjVqqFVDGL\n",
      "\n",
      "--------------------------------\n",
      "Batch ID: batch_674daf398e348190b6a6bdbe34c24f7a\n",
      "Status: completed\n",
      "Batch: 3 - signature removal\n",
      "Output ID: file-ABfPhPB7ZfLDjpWUJuxkbd\n",
      "\n",
      "--------------------------------\n",
      "Batch ID: batch_674d93bb41d48190af5900a09ebf1dec\n",
      "Status: completed\n",
      "Batch: 2 signature removal; revised System-Prompt\n",
      "Output ID: file-M4USj27GRUSE3R4YDoM17i\n",
      "\n",
      "--------------------------------\n",
      "Batch ID: batch_674d003cbf5481908e8d76a1b2cda9b5\n",
      "Status: completed\n",
      "Batch: 0 signature removal; revised System-Prompt\n",
      "Output ID: file-3mjGxexxixNQ8a1Xp3ekRR\n",
      "\n",
      "--------------------------------\n",
      "Batch ID: batch_674cf4b4ffcc819098219130836db006\n",
      "Status: completed\n",
      "1 signature removal; revised System-Prompt\n",
      "Output ID: file-BEFd8pU3E24DffZgRSPxj2\n",
      "\n",
      "--------------------------------\n",
      "Batch ID: batch_674ce927bb0881908952b9820f7b39f3\n",
      "Status: failed\n",
      "1 signature removal\n",
      "Output ID: None\n",
      "\n",
      "--------------------------------\n",
      "Batch ID: batch_674ce78fcb808190963fc5b2d4517c4d\n",
      "Status: cancelled\n",
      "print(f'Cell executed using Batch-ID:{batch_id}') signature removal\n",
      "Output ID: None\n",
      "\n",
      "--------------------------------\n",
      "Batch ID: batch_674cd4c8c1588190bf3725f75cf0fd9e\n",
      "Status: completed\n",
      "batch_0 signature removal\n",
      "Output ID: file-XkGtat3KFXTnT2HLvTB3SQ\n",
      "\n",
      "--------------------------------\n",
      "Batch ID: batch_674cd207d84881909a6acd254cad39ee\n",
      "Status: failed\n",
      "testing of batch job\n",
      "Output ID: None\n",
      "\n",
      "--------------------------------\n",
      "Batch ID: batch_674ccb5681c08190978405602e220bef\n",
      "Status: cancelled\n",
      "testing of batch job\n",
      "Output ID: None\n",
      "\n",
      "--------------------------------\n",
      "Batch ID: batch_674cca9e627881909cafdc4f9f463bba\n",
      "Status: failed\n",
      "testing of batch job\n",
      "Output ID: None\n",
      "\n",
      "--------------------------------\n"
     ]
    }
   ],
   "source": [
    "print_batches(client,limit=2)"
   ]
  },
  {
   "cell_type": "code",
   "execution_count": null,
   "metadata": {},
   "outputs": [],
   "source": [
    "file_response = client.files.content(\"\")\n",
    "print(file_response.text)"
   ]
  },
  {
   "cell_type": "code",
   "execution_count": 94,
   "metadata": {},
   "outputs": [
    {
     "name": "stdout",
     "output_type": "stream",
     "text": [
      "Saved 'batch_11_output.jsonl' !\n"
     ]
    }
   ],
   "source": [
    "# Save batch\n",
    "file_response = client.files.content(\"file-ETtwDBB9hGjHkP52nBMg8R\")\n",
    "with open(f'../../data/llm_batches_output/signature_removal/batch_{batch_nr}_output.jsonl', 'wb') as f:\n",
    "    f.write(file_response.content)\n",
    "print(f\"Saved 'batch_{batch_nr}_output.jsonl' !\")"
   ]
  },
  {
   "cell_type": "code",
   "execution_count": null,
   "metadata": {},
   "outputs": [],
   "source": []
  },
  {
   "cell_type": "code",
   "execution_count": null,
   "metadata": {},
   "outputs": [],
   "source": []
  }
 ],
 "metadata": {
  "kernelspec": {
   "display_name": "ma_env",
   "language": "python",
   "name": "python3"
  },
  "language_info": {
   "codemirror_mode": {
    "name": "ipython",
    "version": 3
   },
   "file_extension": ".py",
   "mimetype": "text/x-python",
   "name": "python",
   "nbconvert_exporter": "python",
   "pygments_lexer": "ipython3",
   "version": "3.12.7"
  }
 },
 "nbformat": 4,
 "nbformat_minor": 2
}
