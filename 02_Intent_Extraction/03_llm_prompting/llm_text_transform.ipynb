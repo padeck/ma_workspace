{
 "cells": [
  {
   "cell_type": "markdown",
   "metadata": {},
   "source": [
    "# LLM Transform of extracted text\n",
    "This notebook is used to leverage LLM-Prompting via ChatGPT to summarize the emails into one sentence. This one sentence is supposed to be the new target-sentence that is used for the three approaches."
   ]
  },
  {
   "cell_type": "code",
   "execution_count": 3,
   "metadata": {},
   "outputs": [],
   "source": [
    "import pandas as pd\n",
    "import openai\n",
    "from openai import OpenAI\n",
    "from tqdm.auto import tqdm\n",
    "tqdm.pandas()"
   ]
  },
  {
   "cell_type": "code",
   "execution_count": 4,
   "metadata": {},
   "outputs": [],
   "source": [
    "df = pd.read_parquet('../../data/avocado_train.parquet')"
   ]
  },
  {
   "cell_type": "code",
   "execution_count": 5,
   "metadata": {},
   "outputs": [],
   "source": [
    "with open(\"secret_api_key.txt\", \"r\") as file:\n",
    "    api_key = file.readline()"
   ]
  },
  {
   "cell_type": "code",
   "execution_count": 6,
   "metadata": {},
   "outputs": [],
   "source": [
    "with open(\"secret_api_key.txt\", \"r\") as file:\n",
    "    api_key = file.readline()\n",
    "    \n",
    "client = OpenAI(\n",
    "    api_key=api_key,\n",
    "    )"
   ]
  },
  {
   "cell_type": "code",
   "execution_count": 22,
   "metadata": {},
   "outputs": [],
   "source": [
    "def chat_gpt(prompt):\n",
    "    response = client.chat.completions.create(\n",
    "                model=\"gpt-4o-mini\",\n",
    "                messages=[\n",
    "                    {\"role\": \"user\", \"content\": prompt},\n",
    "                    {\"role\": \"system\", \"content\": \n",
    "                        '''\n",
    "                        You are a concise assistant whose answer is merely the desired output to a task given by the user.\n",
    "                        '''\n",
    "                     }\n",
    "                    ],max_tokens=1000\n",
    "                )\n",
    "    return response.choices[0].message.content.strip()"
   ]
  },
  {
   "cell_type": "markdown",
   "metadata": {},
   "source": [
    "## Removing Signatures"
   ]
  },
  {
   "cell_type": "code",
   "execution_count": 15,
   "metadata": {},
   "outputs": [],
   "source": [
    "df_slice_100 = df.iloc[:20]"
   ]
  },
  {
   "cell_type": "code",
   "execution_count": 116,
   "metadata": {},
   "outputs": [
    {
     "name": "stdout",
     "output_type": "stream",
     "text": [
      "You're doing too much work. The HTTP protocol allows authentication and\n",
      "portable than a hand-written solution.\n",
      "\n",
      "Don't store user/pass in sessions!\n",
      "\n",
      "\n",
      ">From: CJ Smessaert <cj@IGNITIONSTATE.COM>\n",
      ">Reply-To: A mailing list about Java Server Pages specification and\n",
      ">     reference <JSP-INTEREST@java.sun.com>\n"
     ]
    }
   ],
   "source": [
    "test = \"You're doing too much work. The HTTP protocol allows authentication and\\nportable than a hand-written solution.\\n\\nDon't store user/pass in sessions!\\n\\n\\n>From: CJ Smessaert <cj@IGNITIONSTATE.COM>\\n>Reply-To: A mailing list about Java Server Pages specification and\\n>     reference <JSP-INTEREST@java.sun.com>\"\n",
    "print(test)\n",
    "test = pd.Series(test,name='text').to_frame()"
   ]
  },
  {
   "cell_type": "code",
   "execution_count": 23,
   "metadata": {},
   "outputs": [
    {
     "data": {
      "application/vnd.jupyter.widget-view+json": {
       "model_id": "3f6a2c6c92ed4f05a37784ec42d4d811",
       "version_major": 2,
       "version_minor": 0
      },
      "text/plain": [
       "  0%|          | 0/20 [00:00<?, ?it/s]"
      ]
     },
     "metadata": {},
     "output_type": "display_data"
    },
    {
     "name": "stderr",
     "output_type": "stream",
     "text": [
      "/var/folders/vh/4lm899sj0tdgnf9d98kzk1800000gn/T/ipykernel_45770/10547528.py:1: SettingWithCopyWarning: \n",
      "A value is trying to be set on a copy of a slice from a DataFrame.\n",
      "Try using .loc[row_indexer,col_indexer] = value instead\n",
      "\n",
      "See the caveats in the documentation: https://pandas.pydata.org/pandas-docs/stable/user_guide/indexing.html#returning-a-view-versus-a-copy\n",
      "  df_slice_100['wo_signature'] = df_slice_100.progress_apply(lambda x: chat_gpt(\n"
     ]
    }
   ],
   "source": [
    "df_slice_100['wo_signature'] = df_slice_100.progress_apply(lambda x: chat_gpt(\n",
    "    \"The following email-text I provide to you in triple-quotation marks might contain a signature. I want you to return the original email-text but exclude the signature.:'''\" + x['text']+\"'''\"),\n",
    "    axis =1\n",
    "    )"
   ]
  },
  {
   "cell_type": "code",
   "execution_count": 25,
   "metadata": {},
   "outputs": [
    {
     "name": "stdout",
     "output_type": "stream",
     "text": [
      "'I have put the latest slides on Admin tool, FileBasedAppids, Reporting in utilitysrv1/homedir/rpachipala'\n",
      "'Can you add andy.wagoner to my list of email names'\n",
      "'Dear Sir/Madam,  \\nAttached here is my resume for a suitable posn. I have eight plus years of IT exp. with last 4 years in USA. I have a Masters degree from IT, Kanpur. Do let me know if you need any further info. Currently, I am located in Mumbai.'\n",
      "'Craig,  \\nI made the mistake of giving  \\n\"/musicshop/servlet/ShoppingServlet/MainJSP.do\", instead  \\nof \"/musicshop/MainJSP.do\". Now, I get \"/MainJSP.do\" from getServletPath(),  \\nand after truncating \".do\", I get what I was looking for.  \\n\\nIs there any way of getting \"/MainJSP.do\" from  \\n\"/musicshop/servlet/ShoppingServlet/MainJSP.do\"? In that case,  \\nI don\\'t have to do servlet mapping in web.xml of the application.'\n",
      "'Om,  \\nThanks for the invitation. IS there anybody else also attending a dinner ?'\n",
      "\"Wow!  You've been busy!  Looks great!  Could you stop by next time you're in the area and explain how to clear the slide on MRO Example?\\n\\nThanks!\"\n",
      "'Fixes for the following:\\n\\n\\nFiles changed: \\n\\n\\n\\nunit tests passed'\n",
      "\"oh.. you're good. thanks.\"\n",
      "'Dear Debbie,  \\nHere are the initial concepts, please let me know what you think, and also,  \\nplease let me know the exact date and time, name etc. for the show.'\n",
      "\"One more fact:\\n\\nAirlines are our sweetspot:  we already signed Alaska and America West, and are close to signing American, Frontier, Delta, and Northwest.\\n\\nI'd love to pitch Continental anytime on March 9 in Houston.\"\n",
      "'Ryan, did you get the copy of changes from Barry and I?\\n\\n<< OLE Object: Picture (Metafile) >>\\n\\nEnabling Infrastructure for Post-PC Era'\n",
      "\"Hi Jon,\\n\\nHope you had a wonderful Thanksgiving and had a chance to take some time away from work. I've attached the latest and greatest. Give me a ring on my cell or shoot me an email if you have any questions/comments.\"\n",
      "'This is really good.\\n\\nJust another quick thought -\\nWe can easily add other URL\\'s to the portal. This can be done using our existing technology of \"intelligent rendering\" and thereby have a portal become a true plug and play for different sites.\\n\\nScott - our idea of being in the face of Verizon is the approach I discussed with Venk last evening and having him join us for a meeting on Monday - 15th - if we can get hold of Tom and/or his boss to meet with Venk.\\n\\nAmitabh - wondering whether you can join us as well to discuss these issues if we can get the appropriate folks involved from Verizon.'\n",
      "'It is updated, you can use it now.'\n",
      "\"Richard,\\n\\nThis is a very good Q.\\nTony, please correct if the reasoning is not correct.\\n\\nEarlier 'internet_url->url_guid' column was referenced as\\nforeign key by 'appids->aml_id' column. That is - you cannot\\nadd an entry into the appids table with aml_id which does\\nnot have corresponding entry into internet_url table.\\n\\nCopy project works on project basis. What HTML pages and\\nAML pages belong to a given project is defined by the\\ninternet_url entries. Copy project performs a join between\\n*****'internet_url->url_guid' and 'appids->aml_id' columns to\\nidentify what row to copy from source appids table to\\ndestination appids table.\\n\\nIf the join returns 0 rows - no row will get copied.\\nWhen we create manual entries into the appids table without\\ncreating corresponding entry into internet_url table - this\\ncan occur.\\n\\nRichard - can you find out what are the exact entries in\\nthese two tables for the project you are trying to copy and\\nsend a reply to all on this list?\"\n",
      "'Thanks. I figured it would be a good way for me to get in tight with Steve...as they are probably going to spend some $$ with us this quarter.'\n",
      "'Well, lucky for you I like you so much *and* this Friday is free!! So, yes!  \\nLunch this Friday. Got any ideas where? Remember that I\\'m now at North First and Guadalupe (not too far from Sun Agnews).  \\n  \\nUmmm ... I\\'ve got downtown MTV somewhere in the vicinity (i.e. Moffet Exit on 101) ... lot\\'s of good restaurants, lousy parking.  \\n  \\nThere is an excellent Japanese restaurant there (\"Yuki Fuki\" or something like that ... hopefully you know the place).  \\n  \\nYour turn.'\n",
      "'09:54:27 PM  \\nRishi,  \\nThanks for your message below. I lead the Accenture Program Management Office on the eBusiness Portfolio at USPS. I am sending you this reply to acknowledge that the development and testing efforts for USPS.com wireless release 1 are complete. CAT testing was completed on 3/19. Changes that were specified during the testing have been implemented into the application.  \\n\\nIn regards to your other questions, we are still waiting on the hosting agreement. Tim will be in touch with you with more specifics in this area.  \\n\\nIf you have any questions please contact me at 703-947-2091 or reply to this message.'\n",
      "\"Dear Business Subscriber:\\n\\nWelcome to Hoover's Online! Thank you for completing the individual registration form.\\n\\nThis e-mail confirms your new case-sensitive log-in information. We recommend that you save this e-mail for future reference. Please use the following user name and password for all future visits to Hoover's Online:\\n\\nUser Name: mike.richman@avocadoit.com\\nPassword: finao\\n\\nTo save your password now, go to http://access.hoovers.com/lookup_password_saver.html.\\n\\nWant to know what you get with this subscription? You can view all subscriber benefits at http://www.hoovers.com/hoov/join/index.html.\\n\\nIf you have any questions about Hoover's Online or your subscription, we'll be happy to answer them. You may reach us at 800-486-8666 or 512-374-4500, or e-mail us at custsupport@hoovers.com. Telephone support is available Monday through Friday from 8 a.m. to 6 p.m. CST.\"\n",
      "\"Sorry, it's been one of those days. The dinner list is in the kitchen. Please select your dish by 7:10pm. Tonight it'll be High Thai.\\n\\nPlease pick a dish from the menu & write it beside your name on the list. Please indicate if you are vegetarian.\"\n"
     ]
    }
   ],
   "source": [
    "for t in df_slice_100['wo_signature'].tolist():\n",
    "    print(repr(t))"
   ]
  },
  {
   "cell_type": "code",
   "execution_count": 26,
   "metadata": {},
   "outputs": [
    {
     "name": "stdout",
     "output_type": "stream",
     "text": [
      "'I have put the latest slides on Admin tool,FileBasedAppids,Reporting  in utilitysrv1/homedir/rpachipala\\n\\nRajdeep'\n",
      "'Can you add andy.wagoner to my list of email names\\n\\n\\n\\n\\nAndrew Wagoner\\nPurchasing Agent\\n408.562.8174 Direct\\n3231 Scott Blvd\\nSanta Clara, CA 95054\\nandrew.wagoner@avocadoit.com'\n",
      "'Dear Sir/Madam,\\nAttached here is my resume for a suitable posn. I have eight plus years\\nof IT exp. with last 4 years in USA. I have a Masters degree from IT,\\nKanpur. Do let me know if you need any further info. Currently, I am located\\nin Mumbai.'\n",
      "'> Craig,\\n> I made the mistake of giving\\n> \"/musicshop/servlet/ShoppingServlet/MainJSP.do\", instead\\n> of \"/musicshop/MainJSP.do\". Now, I get \"/MainJSP.do\" from getServletPath(),\\n> and after truncating \".do\", I get what I was looking for.\\n>\\n> Is there any way of getting \"/MainJSP.do\" from\\n> \"/musicshop/servlet/ShoppingServlet/MainJSP.do\"?  In that case,\\n> I don\\'t have to do servlet mapping in web.xml of the applicaiton.'\n",
      "'Om,\\nThanks for the invitation. IS there anybody else also attending a dinner ?\\n\\nVinay'\n",
      "\"Wow!  You've been busy!  Looks great!  Could you stop by next time you're in the area and explain how to clear the slide on MRO Example?\\n\\nThanks!\\n\\nK\"\n",
      "'Fixes for the following:\\n\\n\\nFiles changed:\\n\\n\\n\\nCode reviewed by Dave\\nunit tests passed'\n",
      "\"oh.. you're good. thanks.\"\n",
      "'Dear Debbie,\\nHere are the initial concepts, please let me know what you think,and also,\\nplease let me know  the exact date and time,name etc. for the show.\\n\\nsincerely,\\narmen'\n",
      "\"One more fact:\\n\\nAirlines are our sweetspot:  we already signed Alaska and America West, and are close to signing American, Frontier, Delta, and Northwest.\\n\\nI'd love to pitch Continental anytime on March 9 in Houston.\\n\\nDavid Marcus\\nDirector of Sales\\nAvocadoIT, Inc.\\n2211 North First Street, Suite 200\\nSan Jose, CA  95131\\ndirect (408) 562-7978\\nmobile (650) 281-9010\\nfax (408) 562-8100\\ndavid.marcus@avocadoit.com\\nwww.avocadoit.com\"\n",
      "'Ryan, did you get the copy of changes from Barry and I?\\n\\n<< OLE Object: Picture (Metafile) >>\\n\\nEnabling Infrastructure for Post-PC Era\\n************************************\\n\\nRon D Silverton\\nDirector of Strategic Marketing\\nAvocadoIT, Inc.\\n3231 Scott Boulevard\\nSanta Clara, CA  95054\\nTel: 408.562.8039\\nMobile: 415.845.6789\\nFax:  408.562.8100\\n************************************\\n<< File: Ron Silverton.vcf >>'\n",
      "\"Hi Jon,\\n\\nHope you had a wonderful Thanksgiving and had a chance to take some time\\naway from work.  I've attached the latest and greatest.  Give me a ring on\\nmy cell or shoot me an email if you have any questions/comments.\"\n",
      "'This is really good.\\n\\nJust another quick thought -\\nWe can easily add other URL\\'s to the portal.  This can be done using our existing technology of \"intelligent rendering\" and thereby have a portal become a true plug and play for different sites.\\n\\nScott - our idea of being in the face of Verizon is the approach I discussed with Venk last evening and having him join us for a meeting on Monday - 15th - if we can get hold of Tom and/or his boss to meet with Venk.\\n\\nAmitabh - wondering whether you can join us as well to discuss these issues if we can get the appropriate folks involved from Verizon.\\n\\n...ajay'\n",
      "'It is updated, you can use it now.'\n",
      "\"Richard,\\n\\nThis is a very good Q.\\nTony, please correct if the reasoning is not correct.\\n\\nEarlier 'internet_url->url_guid' column was referenced as\\nforeign key by 'appids->aml_id' column. That is - you cannot\\nadd an entry into the appids table with aml_id which does\\nnot have corresponding entry into internet_url table.\\n\\nCopy project works on project basis. What HTML pages and\\nAML pages belong to a given project is defined by the\\ninternet_url entries. Copy project performs a join between\\n*****'internet_url->url_guid' and 'appids->aml_id' columns to\\nidentify what row to copy from source appids table to\\ndestination appids table.\\n\\nIf the join returns 0 rows - no row will get copied.\\nWhen we create manual entries into the appids table without\\ncreating corresponding entry into internet_url table - this\\ncan occur.\\n\\nRichard - can you find out what are the exact entries in\\nthese two tables for the project you are trying to copy and\\nsend a reply to all on this list?\"\n",
      "'Thanks.  I figured it would be a good way for me to get in tight with Steve...as they are probably going to spend some $$ with us this quarter.\\n\\nJon'\n",
      "'>>\\n>>Well, lucky for you I like you so much *and* this Friday is free!!  So, yes!\\n>>Lunch this Friday.  Got any ideas where?  Remember that I\\'m now at North\\n>>First and Guadalupe (not too far from Sun Agnews).\\n>>\\n>>-- Sheri\\n\\nSheri,\\n\\nUmmm ... I\\'ve got downtown MTV somewhere in the vicinity (i.e. Moffet Exit\\non 101) ... lot\\'s of good restaurants, lousy parking.\\n\\nThere is an excellent Japanese restaurant there (\"Yuki Fuki\" or something\\nlike that ... hopefully you know the place).\\n\\nYour turn.'\n",
      "'09:54:27 PM\\nRishi,\\nThanks for your message below.  I lead the Accenture Program Mangement\\nOffice on the eBusiness Portfolio at USPS.  I am sending you this reply to\\nacknowledge that the development and testing efforts for USPS.com wireless\\nrelease 1 are complete.  CAT testing was completed on 3/19.  Changes that\\nwere specified during the testing have been implemented into the\\napplication.\\n\\nIn regards to your other questions, we are still waiting on the hosting\\nagreement.  Tim will be in touch with you with more specifics in this area.\\n\\nIf you have any questions please contact me at 703-947-2091 or reply to\\nthis message.'\n",
      "\"Dear Business Subscriber:\\n\\nWelcome to Hoover's Online! Thank you for completing the individual registration form.\\n\\nThis e-mail confirms your new case-sensitive log-in information. We recommend that you save this e-mail for future reference. Please use the following user name and password for all future visits to Hoover's Online:\\n\\nUser Name: mike.richman@avocadoit.com\\nPassword: finao\\n\\nTo save your password now, go to http://access.hoovers.com/lookup_password_saver.html.\\n\\nWant to know what you get with this subscription?  You can view all subscriber benefits at http://www.hoovers.com/hoov/join/index.html.\\n\\nIf you have any questions about Hoover's Online or your subscription, we'll be happy to answer them. You may reach us at 800-486-8666 or 512-374-4500, or e-mail us at custsupport@hoovers.com. Telephone support is available Monday through Friday from 8 a.m. to 6 p.m. CST.\"\n",
      "\"Sorry, it's been one of those days.  The dinner list is in the kitchen.  Please select your dish by 7:10pm.  Tonight it'll be High Thai.\\n\\nPlease pick a dish from the menu & write it beside your name on the list.  Please indicate if you are vegetarian.\\n\\n\\nSincerely,\\n\\nJohn Schemena\\nSenior Manager\\nApplications Engineering\\n\\n\\n3231 Scott Boulevard\\nSanta Clara, CA  95054\\n(408) 588-4057 x28\\njschemena@avocadoit.com\"\n"
     ]
    }
   ],
   "source": [
    "for t in df_slice_100['text'].tolist():\n",
    "    print(repr(t))"
   ]
  },
  {
   "cell_type": "markdown",
   "metadata": {},
   "source": [
    "## Summarize Text"
   ]
  },
  {
   "cell_type": "code",
   "execution_count": null,
   "metadata": {},
   "outputs": [
    {
     "data": {
      "application/vnd.jupyter.widget-view+json": {
       "model_id": "250e0c2d643e4dfbae09363cbfdb135c",
       "version_major": 2,
       "version_minor": 0
      },
      "text/plain": [
       "  0%|          | 0/5 [00:00<?, ?it/s]"
      ]
     },
     "metadata": {},
     "output_type": "display_data"
    },
    {
     "name": "stderr",
     "output_type": "stream",
     "text": [
      "/var/folders/vh/4lm899sj0tdgnf9d98kzk1800000gn/T/ipykernel_59125/447098827.py:1: SettingWithCopyWarning: \n",
      "A value is trying to be set on a copy of a slice from a DataFrame.\n",
      "Try using .loc[row_indexer,col_indexer] = value instead\n",
      "\n",
      "See the caveats in the documentation: https://pandas.pydata.org/pandas-docs/stable/user_guide/indexing.html#returning-a-view-versus-a-copy\n",
      "  test['chatgpt_summ'] = test.progress_apply(lambda x: chat_gpt(\n"
     ]
    }
   ],
   "source": [
    "df['chatgpt_summ'] = df.progress_apply(lambda x: chat_gpt(\n",
    "    'I want you to summarize the following text in quotation marks. The text is an email of a corporate environment. I want the summarized email to still be written from the original point of view of the person sending the email. Strictly only include the email body without the subject. The maximum length of the summarized text is also strictly limited to only one sentence. Here is the email text to summarize:\"' + x['text']+\"'\"),\n",
    "    axis =1\n",
    "    )"
   ]
  },
  {
   "cell_type": "code",
   "execution_count": null,
   "metadata": {},
   "outputs": [],
   "source": []
  }
 ],
 "metadata": {
  "kernelspec": {
   "display_name": "ma_env",
   "language": "python",
   "name": "python3"
  },
  "language_info": {
   "codemirror_mode": {
    "name": "ipython",
    "version": 3
   },
   "file_extension": ".py",
   "mimetype": "text/x-python",
   "name": "python",
   "nbconvert_exporter": "python",
   "pygments_lexer": "ipython3",
   "version": "3.12.7"
  }
 },
 "nbformat": 4,
 "nbformat_minor": 2
}
