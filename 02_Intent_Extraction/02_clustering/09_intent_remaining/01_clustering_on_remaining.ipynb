{
 "cells": [
  {
   "cell_type": "markdown",
   "metadata": {},
   "source": [
    "# Hierarchical Clustering on Target Sentences\n",
    "to help deriving a taxonomy for intents, hierarchical clustering is being leveraged."
   ]
  },
  {
   "cell_type": "markdown",
   "metadata": {},
   "source": [
    "#### Functions"
   ]
  },
  {
   "cell_type": "code",
   "execution_count": 1,
   "metadata": {},
   "outputs": [],
   "source": [
    "def inspect_topic(topic_nr):\n",
    "    top_words = topic_model.get_topic(topic_nr)\n",
    "    print(\"Topic: \"+str(topic_nr)+\"\\n\\nTop Words:\")\n",
    "    for word in top_words:\n",
    "        print(word[0], end=\", \")\n",
    "    print('\\n\\nRepresentative Target Sentences: ')\n",
    "    rep_sents = []\n",
    "    for doc in topic_model.get_topic_info().iloc[topic_nr+1]['Representative_Docs']:\n",
    "        print(doc)\n",
    "        rep_sents.append(doc)\n",
    "    return top_words, rep_sents\n",
    "\n",
    "def create_custom_label(custom_label, topic_id):\n",
    "    custom_labels = {\n",
    "        topic_id: str(topic_id)+\"_\"+custom_label,\n",
    "    }\n",
    "    topic_model.set_topic_labels(custom_labels)\n",
    "\n",
    "# Function to retrieve custom label from topic model\n",
    "def get_label_from_topic_nr(topic_nr):\n",
    "    for label in topic_model.custom_labels_:\n",
    "        if label.startswith(str(topic_nr)):\n",
    "            label = label\n",
    "            label = re.sub(r\"^\\d+_\", \"\", label)\n",
    "            return label\n",
    "    raise Exception('Provided Topic Number has no label assigned!')\n",
    "\n",
    "# Function to inspect a topic by its number and retrieve its documents\n",
    "def inspect_topic_and_its_docs(topic_nr,n_docs=50):\n",
    "    topic_docs = list(set([doc for doc, topic in zip(docs, topic_model.topics_) if topic == topic_nr]))\n",
    "    print(\"Label: \" + get_label_from_topic_nr(topic_nr)+\"\\n\")\n",
    "    print(\"Number of sentences for label: \"+str(len(topic_docs)))\n",
    "    print('\\nSentences:\\n')\n",
    "    if len(topic_docs) < n_docs:\n",
    "        n_docs = len(topic_docs)\n",
    "    for i in range(n_docs):\n",
    "        print(topic_docs[i])\n",
    "    return topic_docs\n",
    "\n",
    "# given a list of strings, returns a list of documents that contain at least one of the strings in the given list\n",
    "def filter_topic_documents(topic_docs, white_list, black_list=[] ):\n",
    "    sentences_to_keep = []\n",
    "    for doc in topic_docs:\n",
    "        if any(substring in doc for substring in white_list):\n",
    "            sentences_to_keep.append(doc)\n",
    "    sentences_to_keep = [\n",
    "    item for item in sentences_to_keep\n",
    "        if not any(substring in item for substring in black_list)\n",
    "    ]\n",
    "    sentences_to_keep = list(set(sentences_to_keep)) # remove duplicates\n",
    "    print('Amount of sentences: '+str(len(sentences_to_keep)))\n",
    "    return sentences_to_keep\n",
    "\n",
    "# Function to facilitate the concatenation of new DFs\n",
    "def concat_to_df(new_df,filepath, overwrite=False, ):\n",
    "    try:\n",
    "        df = pd.read_csv(filepath, sep='\\t')\n",
    "    except FileNotFoundError:\n",
    "        df = pd.DataFrame(columns=[\"text\", \"label\"])\n",
    "    if new_df.iloc[0]['label'] not in df['label'].values: # Make sure that DF does not already contain entry for label\n",
    "        new_df = new_df.reset_index(drop=True)\n",
    "        df = df.reset_index(drop=True)\n",
    "        df = pd.concat([df, new_df], ignore_index=True)\n",
    "        df = df.reset_index(drop=True)\n",
    "        df = df.loc[:, ~df.columns.str.contains('^Unnamed')]\n",
    "        df.to_csv(filepath, sep='\\t')\n",
    "        return df\n",
    "    else:\n",
    "        if overwrite:\n",
    "            df = df[~df['label'].str.contains(new_df.iloc[0]['label'])]\n",
    "            df = pd.concat([df, new_df], ignore_index=True)\n",
    "            df = df.loc[:, ~df.columns.str.contains('^Unnamed')]\n",
    "            df.to_csv(\"../../data/labeled/send.tsv\", sep='\\t', index=False)\n",
    "            return df\n",
    "        else:\n",
    "            print(\"Label '\"+new_df.iloc[0]['label']+\"' already in the final DF, so it's being skipped.\")\n"
   ]
  },
  {
   "cell_type": "markdown",
   "metadata": {},
   "source": [
    "####"
   ]
  },
  {
   "cell_type": "code",
   "execution_count": 2,
   "metadata": {},
   "outputs": [],
   "source": [
    "from bertopic import BERTopic\n",
    "from scipy.cluster import hierarchy as sch\n",
    "import pandas as pd\n",
    "import logging\n",
    "from sklearn.metrics.pairwise import cosine_distances\n",
    "from tqdm import tqdm\n",
    "import numpy as np\n",
    "from umap import UMAP\n",
    "from hdbscan import HDBSCAN\n",
    "from sentence_transformers import SentenceTransformer\n",
    "import re"
   ]
  },
  {
   "cell_type": "code",
   "execution_count": 6,
   "metadata": {},
   "outputs": [],
   "source": [
    "df = pd.read_parquet('../../../data/processed/intents/remaining.parquet', engine='fastparquet')"
   ]
  },
  {
   "cell_type": "code",
   "execution_count": 7,
   "metadata": {},
   "outputs": [],
   "source": [
    "df['target'] = df['target'].str.replace(r'\\r\\n', ' ', regex=True)\n",
    "docs = list(set(df['target'].tolist()))"
   ]
  },
  {
   "cell_type": "code",
   "execution_count": 8,
   "metadata": {},
   "outputs": [
    {
     "data": {
      "text/plain": [
       "281466"
      ]
     },
     "execution_count": 8,
     "metadata": {},
     "output_type": "execute_result"
    }
   ],
   "source": [
    "# Amount of unique target sentences\n",
    "len(docs)"
   ]
  },
  {
   "cell_type": "markdown",
   "metadata": {},
   "source": [
    "## Training the Model"
   ]
  },
  {
   "cell_type": "code",
   "execution_count": 9,
   "metadata": {},
   "outputs": [],
   "source": [
    "# Configure logging\n",
    "logging.basicConfig(level=logging.INFO)\n",
    "logger = logging.getLogger(\"BERTopic\")\n",
    "logger.setLevel(logging.INFO)"
   ]
  },
  {
   "cell_type": "code",
   "execution_count": 13,
   "metadata": {},
   "outputs": [
    {
     "name": "stderr",
     "output_type": "stream",
     "text": [
      "INFO:sentence_transformers.SentenceTransformer:Use pytorch device_name: mps\n",
      "INFO:sentence_transformers.SentenceTransformer:Load pretrained SentenceTransformer: all-MiniLM-L6-v2\n",
      "2024-11-06 12:50:18,552 - BERTopic - Embedding - Transforming documents to embeddings.\n"
     ]
    },
    {
     "data": {
      "application/vnd.jupyter.widget-view+json": {
       "model_id": "01c26db24419484da461073487cfdb0c",
       "version_major": 2,
       "version_minor": 0
      },
      "text/plain": [
       "Batches:   0%|          | 0/8796 [00:00<?, ?it/s]"
      ]
     },
     "metadata": {},
     "output_type": "display_data"
    },
    {
     "name": "stderr",
     "output_type": "stream",
     "text": [
      "2024-11-06 12:55:19,092 - BERTopic - Embedding - Completed ✓\n",
      "2024-11-06 12:55:19,093 - BERTopic - Dimensionality - Fitting the dimensionality reduction algorithm\n",
      "2024-11-06 12:58:49,702 - BERTopic - Dimensionality - Completed ✓\n",
      "2024-11-06 12:58:49,704 - BERTopic - Cluster - Start clustering the reduced embeddings\n",
      "huggingface/tokenizers: The current process just got forked, after parallelism has already been used. Disabling parallelism to avoid deadlocks...\n",
      "To disable this warning, you can either:\n",
      "\t- Avoid using `tokenizers` before the fork if possible\n",
      "\t- Explicitly set the environment variable TOKENIZERS_PARALLELISM=(true | false)\n",
      "huggingface/tokenizers: The current process just got forked, after parallelism has already been used. Disabling parallelism to avoid deadlocks...\n",
      "To disable this warning, you can either:\n",
      "\t- Avoid using `tokenizers` before the fork if possible\n",
      "\t- Explicitly set the environment variable TOKENIZERS_PARALLELISM=(true | false)\n",
      "huggingface/tokenizers: The current process just got forked, after parallelism has already been used. Disabling parallelism to avoid deadlocks...\n",
      "To disable this warning, you can either:\n",
      "\t- Avoid using `tokenizers` before the fork if possible\n",
      "\t- Explicitly set the environment variable TOKENIZERS_PARALLELISM=(true | false)\n",
      "huggingface/tokenizers: The current process just got forked, after parallelism has already been used. Disabling parallelism to avoid deadlocks...\n",
      "To disable this warning, you can either:\n",
      "\t- Avoid using `tokenizers` before the fork if possible\n",
      "\t- Explicitly set the environment variable TOKENIZERS_PARALLELISM=(true | false)\n",
      "2024-11-06 12:59:09,702 - BERTopic - Cluster - Completed ✓\n",
      "2024-11-06 12:59:09,703 - BERTopic - Representation - Extracting topics from clusters using representation models.\n",
      "2024-11-06 12:59:13,200 - BERTopic - Representation - Completed ✓\n",
      "2024-11-06 12:59:13,202 - BERTopic - Topic reduction - Reducing number of topics\n",
      "2024-11-06 12:59:16,127 - BERTopic - Topic reduction - Reduced number of topics from 1906 to 100\n"
     ]
    }
   ],
   "source": [
    "# Initialize UMAP with a fixed random state\n",
    "random_state = 1 # Other seeds sometimes caused negative values in the distanace matrix\n",
    "\n",
    "# Set global random seeds\n",
    "np.random.seed(random_state)\n",
    "\n",
    "embedding_model = SentenceTransformer(\"all-MiniLM-L6-v2\")\n",
    "umap_model = UMAP(n_neighbors=15, n_components=5, random_state=random_state)\n",
    "hdbscan_model = HDBSCAN(min_cluster_size=10, prediction_data=True)\n",
    "\n",
    "topic_model = BERTopic(nr_topics=100, verbose=True, umap_model=umap_model, hdbscan_model=hdbscan_model, embedding_model=embedding_model)\n",
    "topics, probs = topic_model.fit_transform(docs)"
   ]
  },
  {
   "cell_type": "code",
   "execution_count": 14,
   "metadata": {},
   "outputs": [
    {
     "name": "stderr",
     "output_type": "stream",
     "text": [
      "100%|██████████| 98/98 [00:00<00:00, 218.30it/s]\n"
     ]
    }
   ],
   "source": [
    "hierarchical_topics = topic_model.hierarchical_topics(docs)"
   ]
  },
  {
   "cell_type": "code",
   "execution_count": 12,
   "metadata": {},
   "outputs": [
    {
     "name": "stderr",
     "output_type": "stream",
     "text": [
      "2024-11-06 12:38:42,547 - BERTopic - WARNING: When you use `pickle` to save/load a BERTopic model,please make sure that the environments in which you saveand load the model are **exactly** the same. The version of BERTopic,its dependencies, and python need to remain the same.\n"
     ]
    }
   ],
   "source": [
    "topic_model.save(\"../../../data/bertopic_models/intents/09_remaining/remaining_unprocessed\")"
   ]
  },
  {
   "cell_type": "markdown",
   "metadata": {},
   "source": [
    "## Inspecting clustering results"
   ]
  },
  {
   "cell_type": "code",
   "execution_count": null,
   "metadata": {},
   "outputs": [],
   "source": [
    "#topic_model = BERTopic.load(\"../../../data/bertopic_models/intents/00_all_intents/all_unprocessed\")"
   ]
  },
  {
   "cell_type": "code",
   "execution_count": 15,
   "metadata": {},
   "outputs": [
    {
     "data": {
      "application/vnd.plotly.v1+json": {
       "config": {
        "plotlyServerURL": "https://plot.ly"
       },
       "data": [
        {
         "hoverinfo": "text",
         "marker": {
          "color": "rgb(61,153,112)"
         },
         "mode": "lines",
         "text": [
          "jsp_java_servlet_sun_jar",
          "",
          "",
          "xml_wml_dax_component_html"
         ],
         "type": "scatter",
         "x": [
          0,
          0.6096565992985647,
          0.6096565992985647,
          0
         ],
         "xaxis": "x",
         "y": [
          -25,
          -25,
          -35,
          -35
         ],
         "yaxis": "y"
        },
        {
         "hoverinfo": "text",
         "marker": {
          "color": "rgb(61,153,112)"
         },
         "mode": "lines",
         "text": [
          "vss_files_aml_file_script",
          "",
          "",
          "pager_button_screen_key_keys"
         ],
         "type": "scatter",
         "x": [
          0,
          0.5953783441993674,
          0.5953783441993674,
          0
         ],
         "xaxis": "x",
         "y": [
          -45,
          -45,
          -55,
          -55
         ],
         "yaxis": "y"
        },
        {
         "hoverinfo": "text",
         "marker": {
          "color": "rgb(61,153,112)"
         },
         "mode": "lines",
         "text": [
          "vss_files_aml_file_the",
          "",
          "",
          "vpn_ip_server_session_sessions"
         ],
         "type": "scatter",
         "x": [
          0.5953783441993674,
          0.6160477653879646,
          0.6160477653879646,
          0
         ],
         "xaxis": "x",
         "y": [
          -50,
          -50,
          -65,
          -65
         ],
         "yaxis": "y"
        },
        {
         "hoverinfo": "text",
         "marker": {
          "color": "rgb(61,153,112)"
         },
         "mode": "lines",
         "text": [
          "vss_files_aml_file_vpn",
          "",
          "",
          "cookies_cookie_browser_url_netscape"
         ],
         "type": "scatter",
         "x": [
          0.6160477653879646,
          0.6725908893537114,
          0.6725908893537114,
          0
         ],
         "xaxis": "x",
         "y": [
          -57.5,
          -57.5,
          -75,
          -75
         ],
         "yaxis": "y"
        },
        {
         "hoverinfo": "text",
         "marker": {
          "color": "rgb(61,153,112)"
         },
         "mode": "lines",
         "text": [
          "jsp_xml_java_servlet_the",
          "",
          "",
          "vss_files_aml_file_the"
         ],
         "type": "scatter",
         "x": [
          0.6096565992985647,
          0.702549373920165,
          0.702549373920165,
          0.6725908893537114
         ],
         "xaxis": "x",
         "y": [
          -30,
          -30,
          -66.25,
          -66.25
         ],
         "yaxis": "y"
        },
        {
         "hoverinfo": "text",
         "marker": {
          "color": "rgb(61,153,112)"
         },
         "mode": "lines",
         "text": [
          "oracle_oca_database_weblogic_lotus",
          "",
          "",
          "jsp_xml_java_the_files"
         ],
         "type": "scatter",
         "x": [
          0,
          0.714507586702311,
          0.714507586702311,
          0.702549373920165
         ],
         "xaxis": "x",
         "y": [
          -15,
          -15,
          -48.125,
          -48.125
         ],
         "yaxis": "y"
        },
        {
         "hoverinfo": "text",
         "marker": {
          "color": "rgb(61,153,112)"
         },
         "mode": "lines",
         "text": [
          "jsp_xml_oracle_the_java",
          "",
          "",
          "japanese_germana_toshi_font_english"
         ],
         "type": "scatter",
         "x": [
          0.714507586702311,
          0.7296974875023503,
          0.7296974875023503,
          0
         ],
         "xaxis": "x",
         "y": [
          -31.5625,
          -31.5625,
          -85,
          -85
         ],
         "yaxis": "y"
        },
        {
         "hoverinfo": "text",
         "marker": {
          "color": "rgb(61,153,112)"
         },
         "mode": "lines",
         "text": [
          "keyboard_mouse_bar_keypad_scanner",
          "",
          "",
          "jsp_xml_the_oracle_java"
         ],
         "type": "scatter",
         "x": [
          0,
          0.8133316156949814,
          0.8133316156949814,
          0.7296974875023503
         ],
         "xaxis": "x",
         "y": [
          -5,
          -5,
          -58.28125,
          -58.28125
         ],
         "yaxis": "y"
        },
        {
         "hoverinfo": "text",
         "marker": {
          "color": "rgb(61,153,112)"
         },
         "mode": "lines",
         "text": [
          "biogen_downloadobject_criterias_bayer_selected",
          "",
          "",
          "names_name_trademark_acronyms_glossary"
         ],
         "type": "scatter",
         "x": [
          0,
          0.7684039517381307,
          0.7684039517381307,
          0
         ],
         "xaxis": "x",
         "y": [
          -95,
          -95,
          -105,
          -105
         ],
         "yaxis": "y"
        },
        {
         "hoverinfo": "text",
         "marker": {
          "color": "rgb(61,153,112)"
         },
         "mode": "lines",
         "text": [
          "code_stories_refactoring_story_design",
          "",
          "",
          "xp_bugs_bug_bugzilla_the"
         ],
         "type": "scatter",
         "x": [
          0,
          0.5073916758762365,
          0.5073916758762365,
          0
         ],
         "xaxis": "x",
         "y": [
          -135,
          -135,
          -145,
          -145
         ],
         "yaxis": "y"
        },
        {
         "hoverinfo": "text",
         "marker": {
          "color": "rgb(61,153,112)"
         },
         "mode": "lines",
         "text": [
          "team_skills_he_they_risk",
          "",
          "",
          "xp_bugs_bug_code_that"
         ],
         "type": "scatter",
         "x": [
          0,
          0.5316838547214807,
          0.5316838547214807,
          0.5073916758762365
         ],
         "xaxis": "x",
         "y": [
          -125,
          -125,
          -140,
          -140
         ],
         "yaxis": "y"
        },
        {
         "hoverinfo": "text",
         "marker": {
          "color": "rgb(61,153,112)"
         },
         "mode": "lines",
         "text": [
          "views_sender_evidence_blame_do",
          "",
          "",
          "xp_bugs_bug_that_the"
         ],
         "type": "scatter",
         "x": [
          0,
          0.6617246995975608,
          0.6617246995975608,
          0.5316838547214807
         ],
         "xaxis": "x",
         "y": [
          -115,
          -115,
          -132.5,
          -132.5
         ],
         "yaxis": "y"
        },
        {
         "hoverinfo": "text",
         "marker": {
          "color": "rgb(61,153,112)"
         },
         "mode": "lines",
         "text": [
          "schedule_time_days_please_date",
          "",
          "",
          "let_me_please_know_discuss"
         ],
         "type": "scatter",
         "x": [
          0,
          0.4019665476339185,
          0.4019665476339185,
          0
         ],
         "xaxis": "x",
         "y": [
          -155,
          -155,
          -165,
          -165
         ],
         "yaxis": "y"
        },
        {
         "hoverinfo": "text",
         "marker": {
          "color": "rgb(61,153,112)"
         },
         "mode": "lines",
         "text": [
          "let_me_please_know_you",
          "",
          "",
          "survey_spreadsheet_excel_data_estimate"
         ],
         "type": "scatter",
         "x": [
          0.4019665476339185,
          0.5774946408987605,
          0.5774946408987605,
          0
         ],
         "xaxis": "x",
         "y": [
          -160,
          -160,
          -175,
          -175
         ],
         "yaxis": "y"
        },
        {
         "hoverinfo": "text",
         "marker": {
          "color": "rgb(61,153,112)"
         },
         "mode": "lines",
         "text": [
          "xp_bugs_bug_that_the",
          "",
          "",
          "let_me_please_know_you"
         ],
         "type": "scatter",
         "x": [
          0.6617246995975608,
          0.7084553235811486,
          0.7084553235811486,
          0.5774946408987605
         ],
         "xaxis": "x",
         "y": [
          -123.75,
          -123.75,
          -167.5,
          -167.5
         ],
         "yaxis": "y"
        },
        {
         "hoverinfo": "text",
         "marker": {
          "color": "rgb(61,153,112)"
         },
         "mode": "lines",
         "text": [
          "xp_please_you_me_let",
          "",
          "",
          "boxes_kits_box_press_binder"
         ],
         "type": "scatter",
         "x": [
          0.7084553235811486,
          0.7585888043037474,
          0.7585888043037474,
          0
         ],
         "xaxis": "x",
         "y": [
          -145.625,
          -145.625,
          -185,
          -185
         ],
         "yaxis": "y"
        },
        {
         "hoverinfo": "text",
         "marker": {
          "color": "rgb(61,153,112)"
         },
         "mode": "lines",
         "text": [
          "biogen_downloadobject_criterias_bayer_selected",
          "",
          "",
          "xp_please_you_me_let"
         ],
         "type": "scatter",
         "x": [
          0.7684039517381307,
          0.7861545634810049,
          0.7861545634810049,
          0.7585888043037474
         ],
         "xaxis": "x",
         "y": [
          -100,
          -100,
          -165.3125,
          -165.3125
         ],
         "yaxis": "y"
        },
        {
         "hoverinfo": "text",
         "marker": {
          "color": "rgb(61,153,112)"
         },
         "mode": "lines",
         "text": [
          "person_you_please_location_this",
          "",
          "",
          "review_presentation_meeting_demo_the"
         ],
         "type": "scatter",
         "x": [
          0,
          0.22098850362401778,
          0.22098850362401778,
          0
         ],
         "xaxis": "x",
         "y": [
          -235,
          -235,
          -245,
          -245
         ],
         "yaxis": "y"
        },
        {
         "hoverinfo": "text",
         "marker": {
          "color": "rgb(61,153,112)"
         },
         "mode": "lines",
         "text": [
          "wireless_and_the_of_to",
          "",
          "",
          "person_you_please_this_to"
         ],
         "type": "scatter",
         "x": [
          0,
          0.342949101223685,
          0.342949101223685,
          0.22098850362401778
         ],
         "xaxis": "x",
         "y": [
          -225,
          -225,
          -240,
          -240
         ],
         "yaxis": "y"
        },
        {
         "hoverinfo": "text",
         "marker": {
          "color": "rgb(61,153,112)"
         },
         "mode": "lines",
         "text": [
          "trade_etrade_stock_nortel_canada",
          "",
          "",
          "person_and_to_the_of"
         ],
         "type": "scatter",
         "x": [
          0,
          0.4921199940624406,
          0.4921199940624406,
          0.342949101223685
         ],
         "xaxis": "x",
         "y": [
          -215,
          -215,
          -232.5,
          -232.5
         ],
         "yaxis": "y"
        },
        {
         "hoverinfo": "text",
         "marker": {
          "color": "rgb(61,153,112)"
         },
         "mode": "lines",
         "text": [
          "person_to_the_and_of",
          "",
          "",
          "99_pricing_credit_expense_tickets"
         ],
         "type": "scatter",
         "x": [
          0.4921199940624406,
          0.5145049493185037,
          0.5145049493185037,
          0
         ],
         "xaxis": "x",
         "y": [
          -223.75,
          -223.75,
          -255,
          -255
         ],
         "yaxis": "y"
        },
        {
         "hoverinfo": "text",
         "marker": {
          "color": "rgb(61,153,112)"
         },
         "mode": "lines",
         "text": [
          "com_email_message_mail_http",
          "",
          "",
          "training_resume_jobs_apply_interview"
         ],
         "type": "scatter",
         "x": [
          0,
          0.5827563607902876,
          0.5827563607902876,
          0
         ],
         "xaxis": "x",
         "y": [
          -265,
          -265,
          -275,
          -275
         ],
         "yaxis": "y"
        },
        {
         "hoverinfo": "text",
         "marker": {
          "color": "rgb(61,153,112)"
         },
         "mode": "lines",
         "text": [
          "person_to_the_and_of",
          "",
          "",
          "com_email_message_mail_http"
         ],
         "type": "scatter",
         "x": [
          0.5145049493185037,
          0.617919985281759,
          0.617919985281759,
          0.5827563607902876
         ],
         "xaxis": "x",
         "y": [
          -239.375,
          -239.375,
          -270,
          -270
         ],
         "yaxis": "y"
        },
        {
         "hoverinfo": "text",
         "marker": {
          "color": "rgb(61,153,112)"
         },
         "mode": "lines",
         "text": [
          "logo_visto_icons_photos_flash",
          "",
          "",
          "person_to_the_and_com"
         ],
         "type": "scatter",
         "x": [
          0,
          0.6631037751918363,
          0.6631037751918363,
          0.617919985281759
         ],
         "xaxis": "x",
         "y": [
          -205,
          -205,
          -254.6875,
          -254.6875
         ],
         "yaxis": "y"
        },
        {
         "hoverinfo": "text",
         "marker": {
          "color": "rgb(61,153,112)"
         },
         "mode": "lines",
         "text": [
          "person_to_the_and_com",
          "",
          "",
          "avocadoit_408_accenture_562_location"
         ],
         "type": "scatter",
         "x": [
          0.6631037751918363,
          0.6827722014681186,
          0.6827722014681186,
          0
         ],
         "xaxis": "x",
         "y": [
          -229.84375,
          -229.84375,
          -285,
          -285
         ],
         "yaxis": "y"
        },
        {
         "hoverinfo": "text",
         "marker": {
          "color": "rgb(61,153,112)"
         },
         "mode": "lines",
         "text": [
          "security_license_verisign_privacy_certificate",
          "",
          "",
          "person_to_com_the_and"
         ],
         "type": "scatter",
         "x": [
          0,
          0.6983409272754568,
          0.6983409272754568,
          0.6827722014681186
         ],
         "xaxis": "x",
         "y": [
          -195,
          -195,
          -257.421875,
          -257.421875
         ],
         "yaxis": "y"
        },
        {
         "hoverinfo": "text",
         "marker": {
          "color": "rgb(61,153,112)"
         },
         "mode": "lines",
         "text": [
          "person_to_com_the_and",
          "",
          "",
          "hp_storage_memory_laptop_intel"
         ],
         "type": "scatter",
         "x": [
          0.6983409272754568,
          0.7443641027543029,
          0.7443641027543029,
          0
         ],
         "xaxis": "x",
         "y": [
          -226.2109375,
          -226.2109375,
          -295,
          -295
         ],
         "yaxis": "y"
        },
        {
         "hoverinfo": "text",
         "marker": {
          "color": "rgb(61,153,112)"
         },
         "mode": "lines",
         "text": [
          "xp_please_you_me_do",
          "",
          "",
          "person_to_the_and_com"
         ],
         "type": "scatter",
         "x": [
          0.7861545634810049,
          0.9129601756648555,
          0.9129601756648555,
          0.7443641027543029
         ],
         "xaxis": "x",
         "y": [
          -132.65625,
          -132.65625,
          -260.60546875,
          -260.60546875
         ],
         "yaxis": "y"
        },
        {
         "hoverinfo": "text",
         "marker": {
          "color": "rgb(61,153,112)"
         },
         "mode": "lines",
         "text": [
          "xml_jsp_the_oracle_java",
          "",
          "",
          "person_to_the_and_you"
         ],
         "type": "scatter",
         "x": [
          0.8133316156949814,
          0.956243098686735,
          0.956243098686735,
          0.9129601756648555
         ],
         "xaxis": "x",
         "y": [
          -31.640625,
          -31.640625,
          -196.630859375,
          -196.630859375
         ],
         "yaxis": "y"
        },
        {
         "hoverinfo": "text",
         "marker": {
          "color": "rgb(255,65,54)"
         },
         "mode": "lines",
         "text": [
          "reproduce_spot_her_vagina_orgasm",
          "",
          "",
          "her_she_baby_babycenter_1fc7nw"
         ],
         "type": "scatter",
         "x": [
          0,
          0.6794788657343439,
          0.6794788657343439,
          0
         ],
         "xaxis": "x",
         "y": [
          -305,
          -305,
          -315,
          -315
         ],
         "yaxis": "y"
        },
        {
         "hoverinfo": "text",
         "marker": {
          "color": "rgb(255,65,54)"
         },
         "mode": "lines",
         "text": [
          "her_she_baby_babycenter_1fc7nw",
          "",
          "",
          "shower_massage_baby_hair_curl"
         ],
         "type": "scatter",
         "x": [
          0.6794788657343439,
          0.8948281950557226,
          0.8948281950557226,
          0
         ],
         "xaxis": "x",
         "y": [
          -310,
          -310,
          -325,
          -325
         ],
         "yaxis": "y"
        },
        {
         "hoverinfo": "text",
         "marker": {
          "color": "rgb(255,65,54)"
         },
         "mode": "lines",
         "text": [
          "her_she_baby_babycenter_1fc7nw",
          "",
          "",
          "steal_diva_look_person_wardrobe"
         ],
         "type": "scatter",
         "x": [
          0.8948281950557226,
          0.9425518490145818,
          0.9425518490145818,
          0
         ],
         "xaxis": "x",
         "y": [
          -317.5,
          -317.5,
          -335,
          -335
         ],
         "yaxis": "y"
        },
        {
         "hoverinfo": "text",
         "marker": {
          "color": "rgb(35,205,205)"
         },
         "mode": "lines",
         "text": [
          "416_nor_darcy_mighty_much",
          "",
          "",
          "him_he_his_email_you"
         ],
         "type": "scatter",
         "x": [
          0,
          0.703674283097387,
          0.703674283097387,
          0
         ],
         "xaxis": "x",
         "y": [
          -355,
          -355,
          -365,
          -365
         ],
         "yaxis": "y"
        },
        {
         "hoverinfo": "text",
         "marker": {
          "color": "rgb(35,205,205)"
         },
         "mode": "lines",
         "text": [
          "laden_rm_rf_terrorism_terrorists",
          "",
          "",
          "him_he_his_you_416"
         ],
         "type": "scatter",
         "x": [
          0,
          0.8696062483632776,
          0.8696062483632776,
          0.703674283097387
         ],
         "xaxis": "x",
         "y": [
          -345,
          -345,
          -360,
          -360
         ],
         "yaxis": "y"
        },
        {
         "hoverinfo": "text",
         "marker": {
          "color": "rgb(35,205,205)"
         },
         "mode": "lines",
         "text": [
          "visa_passport_ins_h1_immigration",
          "",
          "",
          "hotwire_burn_rate_energy_blinds"
         ],
         "type": "scatter",
         "x": [
          0,
          0.8982912376282792,
          0.8982912376282792,
          0
         ],
         "xaxis": "x",
         "y": [
          -375,
          -375,
          -385,
          -385
         ],
         "yaxis": "y"
        },
        {
         "hoverinfo": "text",
         "marker": {
          "color": "rgb(35,205,205)"
         },
         "mode": "lines",
         "text": [
          "loan_mortgage_lease_rent_loans",
          "",
          "",
          "insurance_volunteers_dental_nursing_volunteer"
         ],
         "type": "scatter",
         "x": [
          0,
          0.7777517044367049,
          0.7777517044367049,
          0
         ],
         "xaxis": "x",
         "y": [
          -405,
          -405,
          -415,
          -415
         ],
         "yaxis": "y"
        },
        {
         "hoverinfo": "text",
         "marker": {
          "color": "rgb(35,205,205)"
         },
         "mode": "lines",
         "text": [
          "car_driveway_parking_raced_bike",
          "",
          "",
          "insurance_loan_mortgage_lease_volunteers"
         ],
         "type": "scatter",
         "x": [
          0,
          0.854258603132376,
          0.854258603132376,
          0.7777517044367049
         ],
         "xaxis": "x",
         "y": [
          -395,
          -395,
          -410,
          -410
         ],
         "yaxis": "y"
        },
        {
         "hoverinfo": "text",
         "marker": {
          "color": "rgb(35,205,205)"
         },
         "mode": "lines",
         "text": [
          "weight_fitness_diet_lose_yoga",
          "",
          "",
          "lunch_dinner_dance_wine_have"
         ],
         "type": "scatter",
         "x": [
          0,
          0.8041757599594441,
          0.8041757599594441,
          0
         ],
         "xaxis": "x",
         "y": [
          -425,
          -425,
          -435,
          -435
         ],
         "yaxis": "y"
        },
        {
         "hoverinfo": "text",
         "marker": {
          "color": "rgb(35,205,205)"
         },
         "mode": "lines",
         "text": [
          "lunch_dinner_weight_dance_have",
          "",
          "",
          "golf_mlb_tennis_pitch_giants"
         ],
         "type": "scatter",
         "x": [
          0.8041757599594441,
          0.8341164098002893,
          0.8341164098002893,
          0
         ],
         "xaxis": "x",
         "y": [
          -430,
          -430,
          -445,
          -445
         ],
         "yaxis": "y"
        },
        {
         "hoverinfo": "text",
         "marker": {
          "color": "rgb(35,205,205)"
         },
         "mode": "lines",
         "text": [
          "lunch_dinner_golf_weight_you",
          "",
          "",
          "cards_card_bluemountain_badge_www1"
         ],
         "type": "scatter",
         "x": [
          0.8341164098002893,
          0.8400800398193043,
          0.8400800398193043,
          0
         ],
         "xaxis": "x",
         "y": [
          -437.5,
          -437.5,
          -455,
          -455
         ],
         "yaxis": "y"
        },
        {
         "hoverinfo": "text",
         "marker": {
          "color": "rgb(35,205,205)"
         },
         "mode": "lines",
         "text": [
          "sizing_nike_wear_gap_study",
          "",
          "",
          "book_font_books_bookkeeping_rewrite"
         ],
         "type": "scatter",
         "x": [
          0,
          0.8548461599399262,
          0.8548461599399262,
          0
         ],
         "xaxis": "x",
         "y": [
          -465,
          -465,
          -475,
          -475
         ],
         "yaxis": "y"
        },
        {
         "hoverinfo": "text",
         "marker": {
          "color": "rgb(35,205,205)"
         },
         "mode": "lines",
         "text": [
          "lunch_cards_dinner_card_bluemountain",
          "",
          "",
          "book_sizing_nike_wear_font"
         ],
         "type": "scatter",
         "x": [
          0.8400800398193043,
          0.8667564185487282,
          0.8667564185487282,
          0.8548461599399262
         ],
         "xaxis": "x",
         "y": [
          -446.25,
          -446.25,
          -470,
          -470
         ],
         "yaxis": "y"
        },
        {
         "hoverinfo": "text",
         "marker": {
          "color": "rgb(35,205,205)"
         },
         "mode": "lines",
         "text": [
          "car_insurance_loan_mortgage_lease",
          "",
          "",
          "lunch_cards_dinner_you_card"
         ],
         "type": "scatter",
         "x": [
          0.854258603132376,
          0.8875666728505284,
          0.8875666728505284,
          0.8667564185487282
         ],
         "xaxis": "x",
         "y": [
          -402.5,
          -402.5,
          -458.125,
          -458.125
         ],
         "yaxis": "y"
        },
        {
         "hoverinfo": "text",
         "marker": {
          "color": "rgb(35,205,205)"
         },
         "mode": "lines",
         "text": [
          "visa_passport_ins_h1_immigration",
          "",
          "",
          "lunch_cards_you_dinner_your"
         ],
         "type": "scatter",
         "x": [
          0.8982912376282792,
          0.9323718787702129,
          0.9323718787702129,
          0.8875666728505284
         ],
         "xaxis": "x",
         "y": [
          -380,
          -380,
          -430.3125,
          -430.3125
         ],
         "yaxis": "y"
        },
        {
         "hoverinfo": "text",
         "marker": {
          "color": "rgb(35,205,205)"
         },
         "mode": "lines",
         "text": [
          "him_he_his_you_do",
          "",
          "",
          "lunch_cards_you_dinner_your"
         ],
         "type": "scatter",
         "x": [
          0.8696062483632776,
          0.9387154720697191,
          0.9387154720697191,
          0.9323718787702129
         ],
         "xaxis": "x",
         "y": [
          -352.5,
          -352.5,
          -405.15625,
          -405.15625
         ],
         "yaxis": "y"
        },
        {
         "hoverinfo": "text",
         "marker": {
          "color": "rgb(35,205,205)"
         },
         "mode": "lines",
         "text": [
          "cd_cds_dvd_video_burn",
          "",
          "",
          "camera_digital_video_camcorder_cameras"
         ],
         "type": "scatter",
         "x": [
          0,
          0.7989985575698421,
          0.7989985575698421,
          0
         ],
         "xaxis": "x",
         "y": [
          -485,
          -485,
          -495,
          -495
         ],
         "yaxis": "y"
        },
        {
         "hoverinfo": "text",
         "marker": {
          "color": "rgb(35,205,205)"
         },
         "mode": "lines",
         "text": [
          "cd_camera_video_cds_digital",
          "",
          "",
          "color_colors_orange_green_black"
         ],
         "type": "scatter",
         "x": [
          0.7989985575698421,
          0.8974566219492247,
          0.8974566219492247,
          0
         ],
         "xaxis": "x",
         "y": [
          -490,
          -490,
          -505,
          -505
         ],
         "yaxis": "y"
        },
        {
         "hoverinfo": "text",
         "marker": {
          "color": "rgb(35,205,205)"
         },
         "mode": "lines",
         "text": [
          "him_he_lunch_you_cards",
          "",
          "",
          "cd_camera_color_video_cds"
         ],
         "type": "scatter",
         "x": [
          0.9387154720697191,
          0.9784207312749945,
          0.9784207312749945,
          0.8974566219492247
         ],
         "xaxis": "x",
         "y": [
          -378.828125,
          -378.828125,
          -497.5,
          -497.5
         ],
         "yaxis": "y"
        },
        {
         "hoverinfo": "text",
         "marker": {
          "color": "rgb(0,116,217)"
         },
         "mode": "lines",
         "text": [
          "her_she_baby_babycenter_1fc7nw",
          "",
          "",
          "him_you_he_lunch_cards"
         ],
         "type": "scatter",
         "x": [
          0.9425518490145818,
          1.0872376881025767,
          1.0872376881025767,
          0.9784207312749945
         ],
         "xaxis": "x",
         "y": [
          -326.25,
          -326.25,
          -438.1640625,
          -438.1640625
         ],
         "yaxis": "y"
        },
        {
         "hoverinfo": "text",
         "marker": {
          "color": "rgb(133,20,75)"
         },
         "mode": "lines",
         "text": [
          "rim_application_pager_dds_device",
          "",
          "",
          "xsellsys_auctions_auction_prices_buy"
         ],
         "type": "scatter",
         "x": [
          0,
          0.8968869937213816,
          0.8968869937213816,
          0
         ],
         "xaxis": "x",
         "y": [
          -515,
          -515,
          -525,
          -525
         ],
         "yaxis": "y"
        },
        {
         "hoverinfo": "text",
         "marker": {
          "color": "rgb(133,20,75)"
         },
         "mode": "lines",
         "text": [
          "getparameter_string_date_simpledateformat_request",
          "",
          "",
          "scoping_grammar_strings_parameters_tree"
         ],
         "type": "scatter",
         "x": [
          0,
          0.8549686018583728,
          0.8549686018583728,
          0
         ],
         "xaxis": "x",
         "y": [
          -535,
          -535,
          -545,
          -545
         ],
         "yaxis": "y"
        },
        {
         "hoverinfo": "text",
         "marker": {
          "color": "rgb(133,20,75)"
         },
         "mode": "lines",
         "text": [
          "content_attachment_disposition_filename_base64",
          "",
          "",
          "1_yes_form_companyurl_2other_3_to"
         ],
         "type": "scatter",
         "x": [
          0,
          0.8777096229147673,
          0.8777096229147673,
          0
         ],
         "xaxis": "x",
         "y": [
          -555,
          -555,
          -565,
          -565
         ],
         "yaxis": "y"
        },
        {
         "hoverinfo": "text",
         "marker": {
          "color": "rgb(133,20,75)"
         },
         "mode": "lines",
         "text": [
          "scoping_grammar_string_strings_parameters",
          "",
          "",
          "content_attachment_disposition_filename_base64"
         ],
         "type": "scatter",
         "x": [
          0.8549686018583728,
          0.9367119341045624,
          0.9367119341045624,
          0.8777096229147673
         ],
         "xaxis": "x",
         "y": [
          -540,
          -540,
          -560,
          -560
         ],
         "yaxis": "y"
        },
        {
         "hoverinfo": "text",
         "marker": {
          "color": "rgb(133,20,75)"
         },
         "mode": "lines",
         "text": [
          "rim_xsellsys_application_auctions_pager",
          "",
          "",
          "content_attachment_disposition_filename_base64"
         ],
         "type": "scatter",
         "x": [
          0.8968869937213816,
          0.9445575811751853,
          0.9445575811751853,
          0.9367119341045624
         ],
         "xaxis": "x",
         "y": [
          -520,
          -520,
          -550,
          -550
         ],
         "yaxis": "y"
        },
        {
         "hoverinfo": "text",
         "marker": {
          "color": "rgb(255,220,0)"
         },
         "mode": "lines",
         "text": [
          "log_log4j_logs_logging_logger",
          "",
          "",
          "smell_clean_smells_dishwasher_smelly"
         ],
         "type": "scatter",
         "x": [
          0,
          0.8747458039668936,
          0.8747458039668936,
          0
         ],
         "xaxis": "x",
         "y": [
          -575,
          -575,
          -585,
          -585
         ],
         "yaxis": "y"
        },
        {
         "hoverinfo": "text",
         "marker": {
          "color": "rgb(255,220,0)"
         },
         "mode": "lines",
         "text": [
          "test_tests_testing_unit_code",
          "",
          "",
          "class_private_classes_methods_public"
         ],
         "type": "scatter",
         "x": [
          0,
          0.6427105435456771,
          0.6427105435456771,
          0
         ],
         "xaxis": "x",
         "y": [
          -595,
          -595,
          -605,
          -605
         ],
         "yaxis": "y"
        },
        {
         "hoverinfo": "text",
         "marker": {
          "color": "rgb(255,220,0)"
         },
         "mode": "lines",
         "text": [
          "test_tests_testing_unit_code",
          "",
          "",
          "duplication_adapter_interface_interfaces_merge"
         ],
         "type": "scatter",
         "x": [
          0.6427105435456771,
          0.7116901765377952,
          0.7116901765377952,
          0
         ],
         "xaxis": "x",
         "y": [
          -600,
          -600,
          -615,
          -615
         ],
         "yaxis": "y"
        },
        {
         "hoverinfo": "text",
         "marker": {
          "color": "rgb(255,220,0)"
         },
         "mode": "lines",
         "text": [
          "log_log4j_logs_logging_smell",
          "",
          "",
          "test_tests_unit_testing_code"
         ],
         "type": "scatter",
         "x": [
          0.8747458039668936,
          0.8814122752090058,
          0.8814122752090058,
          0.7116901765377952
         ],
         "xaxis": "x",
         "y": [
          -580,
          -580,
          -607.5,
          -607.5
         ],
         "yaxis": "y"
        },
        {
         "hoverinfo": "text",
         "marker": {
          "color": "rgb(255,220,0)"
         },
         "mode": "lines",
         "text": [
          "test_tests_unit_testing_code",
          "",
          "",
          "hash_sort_dutch_tmp_dutchname"
         ],
         "type": "scatter",
         "x": [
          0.8814122752090058,
          0.913009356438676,
          0.913009356438676,
          0
         ],
         "xaxis": "x",
         "y": [
          -593.75,
          -593.75,
          -625,
          -625
         ],
         "yaxis": "y"
        },
        {
         "hoverinfo": "text",
         "marker": {
          "color": "rgb(0,116,217)"
         },
         "mode": "lines",
         "text": [
          "rim_content_attachment_disposition_filename",
          "",
          "",
          "test_tests_unit_testing_code"
         ],
         "type": "scatter",
         "x": [
          0.9445575811751853,
          1.0415236615332273,
          1.0415236615332273,
          0.913009356438676
         ],
         "xaxis": "x",
         "y": [
          -535,
          -535,
          -609.375,
          -609.375
         ],
         "yaxis": "y"
        },
        {
         "hoverinfo": "text",
         "marker": {
          "color": "rgb(40,35,35)"
         },
         "mode": "lines",
         "text": [
          "watch_rest_break_computer_do",
          "",
          "",
          "metaphor_do_mean_understand_example"
         ],
         "type": "scatter",
         "x": [
          0,
          0.7793143286423563,
          0.7793143286423563,
          0
         ],
         "xaxis": "x",
         "y": [
          -655,
          -655,
          -665,
          -665
         ],
         "yaxis": "y"
        },
        {
         "hoverinfo": "text",
         "marker": {
          "color": "rgb(40,35,35)"
         },
         "mode": "lines",
         "text": [
          "did_missed_seen_miss_anything",
          "",
          "",
          "metaphor_do_mean_understand_example"
         ],
         "type": "scatter",
         "x": [
          0,
          0.8142383606632895,
          0.8142383606632895,
          0.7793143286423563
         ],
         "xaxis": "x",
         "y": [
          -645,
          -645,
          -660,
          -660
         ],
         "yaxis": "y"
        },
        {
         "hoverinfo": "text",
         "marker": {
          "color": "rgb(40,35,35)"
         },
         "mode": "lines",
         "text": [
          "metaphor_do_you_know_mean",
          "",
          "",
          "try_give_shot_it_using"
         ],
         "type": "scatter",
         "x": [
          0.8142383606632895,
          0.8606033944973748,
          0.8606033944973748,
          0
         ],
         "xaxis": "x",
         "y": [
          -652.5,
          -652.5,
          -675,
          -675
         ],
         "yaxis": "y"
        },
        {
         "hoverinfo": "text",
         "marker": {
          "color": "rgb(40,35,35)"
         },
         "mode": "lines",
         "text": [
          "door_open_doors_it_release",
          "",
          "",
          "metaphor_do_it_you_know"
         ],
         "type": "scatter",
         "x": [
          0,
          0.8917225420435306,
          0.8917225420435306,
          0.8606033944973748
         ],
         "xaxis": "x",
         "y": [
          -635,
          -635,
          -663.75,
          -663.75
         ],
         "yaxis": "y"
        },
        {
         "hoverinfo": "text",
         "marker": {
          "color": "rgb(40,35,35)"
         },
         "mode": "lines",
         "text": [
          "numbers_correct_matrix_wrong_number",
          "",
          "",
          "touch_base_ring_meeting_forward"
         ],
         "type": "scatter",
         "x": [
          0,
          0.8732915014224343,
          0.8732915014224343,
          0
         ],
         "xaxis": "x",
         "y": [
          -685,
          -685,
          -695,
          -695
         ],
         "yaxis": "y"
        },
        {
         "hoverinfo": "text",
         "marker": {
          "color": "rgb(40,35,35)"
         },
         "mode": "lines",
         "text": [
          "metaphor_do_it_you_know",
          "",
          "",
          "touch_base_ring_meeting_wanted"
         ],
         "type": "scatter",
         "x": [
          0.8917225420435306,
          0.8987089220852906,
          0.8987089220852906,
          0.8732915014224343
         ],
         "xaxis": "x",
         "y": [
          -649.375,
          -649.375,
          -690,
          -690
         ],
         "yaxis": "y"
        },
        {
         "hoverinfo": "text",
         "marker": {
          "color": "rgb(40,35,35)"
         },
         "mode": "lines",
         "text": [
          "wilhan_donivan_baseline_build_ricardo",
          "",
          "",
          "clearcase_case_judge_cases_clear"
         ],
         "type": "scatter",
         "x": [
          0,
          0.8682749832113932,
          0.8682749832113932,
          0
         ],
         "xaxis": "x",
         "y": [
          -705,
          -705,
          -715,
          -715
         ],
         "yaxis": "y"
        },
        {
         "hoverinfo": "text",
         "marker": {
          "color": "rgb(40,35,35)"
         },
         "mode": "lines",
         "text": [
          "loop_hung_keep_infinite_loops",
          "",
          "",
          "velocity_iteration_estimates_how_speed"
         ],
         "type": "scatter",
         "x": [
          0,
          0.9151589459268713,
          0.9151589459268713,
          0
         ],
         "xaxis": "x",
         "y": [
          -725,
          -725,
          -735,
          -735
         ],
         "yaxis": "y"
        },
        {
         "hoverinfo": "text",
         "marker": {
          "color": "rgb(40,35,35)"
         },
         "mode": "lines",
         "text": [
          "velocity_loop_hung_keep_iteration",
          "",
          "",
          "rup_ruyben_xp_agile_framework"
         ],
         "type": "scatter",
         "x": [
          0.9151589459268713,
          0.9430213727064773,
          0.9430213727064773,
          0
         ],
         "xaxis": "x",
         "y": [
          -730,
          -730,
          -745,
          -745
         ],
         "yaxis": "y"
        },
        {
         "hoverinfo": "text",
         "marker": {
          "color": "rgb(40,35,35)"
         },
         "mode": "lines",
         "text": [
          "wilhan_donivan_clearcase_baseline_build",
          "",
          "",
          "velocity_loop_rup_hung_keep"
         ],
         "type": "scatter",
         "x": [
          0.8682749832113932,
          0.9531403268379134,
          0.9531403268379134,
          0.9430213727064773
         ],
         "xaxis": "x",
         "y": [
          -710,
          -710,
          -737.5,
          -737.5
         ],
         "yaxis": "y"
        },
        {
         "hoverinfo": "text",
         "marker": {
          "color": "rgb(40,35,35)"
         },
         "mode": "lines",
         "text": [
          "wilhan_velocity_donivan_loop_rup",
          "",
          "",
          "holes_hole_dig_plugs_fill"
         ],
         "type": "scatter",
         "x": [
          0.9531403268379134,
          0.9582677078546951,
          0.9582677078546951,
          0
         ],
         "xaxis": "x",
         "y": [
          -723.75,
          -723.75,
          -755,
          -755
         ],
         "yaxis": "y"
        },
        {
         "hoverinfo": "text",
         "marker": {
          "color": "rgb(40,35,35)"
         },
         "mode": "lines",
         "text": [
          "touch_base_metaphor_you_ring",
          "",
          "",
          "wilhan_velocity_donivan_loop_rup"
         ],
         "type": "scatter",
         "x": [
          0.8987089220852906,
          0.9783944061945039,
          0.9783944061945039,
          0.9582677078546951
         ],
         "xaxis": "x",
         "y": [
          -669.6875,
          -669.6875,
          -739.375,
          -739.375
         ],
         "yaxis": "y"
        },
        {
         "hoverinfo": "text",
         "marker": {
          "color": "rgb(0,116,217)"
         },
         "mode": "lines",
         "text": [
          "test_rim_tests_content_attachment",
          "",
          "",
          "base_touch_metaphor_you_wilhan"
         ],
         "type": "scatter",
         "x": [
          1.0415236615332273,
          1.0758904384233698,
          1.0758904384233698,
          0.9783944061945039
         ],
         "xaxis": "x",
         "y": [
          -572.1875,
          -572.1875,
          -704.53125,
          -704.53125
         ],
         "yaxis": "y"
        },
        {
         "hoverinfo": "text",
         "marker": {
          "color": "rgb(0,116,217)"
         },
         "mode": "lines",
         "text": [
          "her_she_him_you_baby",
          "",
          "",
          "test_rim_tests_content_attachment"
         ],
         "type": "scatter",
         "x": [
          1.0872376881025767,
          1.1684214731755322,
          1.1684214731755322,
          1.0758904384233698
         ],
         "xaxis": "x",
         "y": [
          -382.20703125,
          -382.20703125,
          -638.359375,
          -638.359375
         ],
         "yaxis": "y"
        },
        {
         "hoverinfo": "text",
         "marker": {
          "color": "rgb(61,153,112)"
         },
         "mode": "lines",
         "text": [
          "synchronizing_folder_17_sync_offline",
          "",
          "",
          "src_ejolt_service_services_templates"
         ],
         "type": "scatter",
         "x": [
          0,
          0.951501635539769,
          0.951501635539769,
          0
         ],
         "xaxis": "x",
         "y": [
          -765,
          -765,
          -775,
          -775
         ],
         "yaxis": "y"
        },
        {
         "hoverinfo": "text",
         "marker": {
          "color": "rgb(61,153,112)"
         },
         "mode": "lines",
         "text": [
          "canon_parser_release2_features_elapsedtime",
          "",
          "",
          "epservlet_opt_servlet_https_pass"
         ],
         "type": "scatter",
         "x": [
          0,
          0.9163626267629581,
          0.9163626267629581,
          0
         ],
         "xaxis": "x",
         "y": [
          -785,
          -785,
          -795,
          -795
         ],
         "yaxis": "y"
        },
        {
         "hoverinfo": "text",
         "marker": {
          "color": "rgb(61,153,112)"
         },
         "mode": "lines",
         "text": [
          "src_ejolt_service_services_templates",
          "",
          "",
          "epservlet_opt_servlet_canon_parser"
         ],
         "type": "scatter",
         "x": [
          0.951501635539769,
          0.9845127912307361,
          0.9845127912307361,
          0.9163626267629581
         ],
         "xaxis": "x",
         "y": [
          -770,
          -770,
          -790,
          -790
         ],
         "yaxis": "y"
        },
        {
         "hoverinfo": "text",
         "marker": {
          "color": "rgb(255,65,54)"
         },
         "mode": "lines",
         "text": [
          "illuminations_2findex_2femail_coupon_9997613371",
          "",
          "",
          "mp3_music_unsubscribe_1996_com"
         ],
         "type": "scatter",
         "x": [
          0,
          0.9216351296311603,
          0.9216351296311603,
          0
         ],
         "xaxis": "x",
         "y": [
          -805,
          -805,
          -815,
          -815
         ],
         "yaxis": "y"
        },
        {
         "hoverinfo": "text",
         "marker": {
          "color": "rgb(255,65,54)"
         },
         "mode": "lines",
         "text": [
          "indian_superdukan_asian_south_grocery",
          "",
          "",
          "map_exit_directions_139th_south"
         ],
         "type": "scatter",
         "x": [
          0,
          0.8953683426199069,
          0.8953683426199069,
          0
         ],
         "xaxis": "x",
         "y": [
          -825,
          -825,
          -835,
          -835
         ],
         "yaxis": "y"
        },
        {
         "hoverinfo": "text",
         "marker": {
          "color": "rgb(255,65,54)"
         },
         "mode": "lines",
         "text": [
          "mp3_music_unsubscribe_com_1996",
          "",
          "",
          "south_map_exit_directions_indian"
         ],
         "type": "scatter",
         "x": [
          0.9216351296311603,
          0.9805838842783097,
          0.9805838842783097,
          0.8953683426199069
         ],
         "xaxis": "x",
         "y": [
          -810,
          -810,
          -830,
          -830
         ],
         "yaxis": "y"
        },
        {
         "hoverinfo": "text",
         "marker": {
          "color": "rgb(35,205,205)"
         },
         "mode": "lines",
         "text": [
          "termination_compensation_culpepper_hrhero_severance",
          "",
          "",
          "ebulletin_culpepper_instat_cat_reedbusiness"
         ],
         "type": "scatter",
         "x": [
          0,
          0.8089475854451232,
          0.8089475854451232,
          0
         ],
         "xaxis": "x",
         "y": [
          -845,
          -845,
          -855,
          -855
         ],
         "yaxis": "y"
        },
        {
         "hoverinfo": "text",
         "marker": {
          "color": "rgb(0,116,217)"
         },
         "mode": "lines",
         "text": [
          "mp3_music_unsubscribe_com_1996",
          "",
          "",
          "culpepper_termination_ebulletin_compensation_hrhero"
         ],
         "type": "scatter",
         "x": [
          0.9805838842783097,
          1.0373799771889618,
          1.0373799771889618,
          0.8089475854451232
         ],
         "xaxis": "x",
         "y": [
          -820,
          -820,
          -850,
          -850
         ],
         "yaxis": "y"
        },
        {
         "hoverinfo": "text",
         "marker": {
          "color": "rgb(61,153,112)"
         },
         "mode": "lines",
         "text": [
          "census_ancestry_aged_1885_records",
          "",
          "",
          "tree_parent_ancestor_node_likes"
         ],
         "type": "scatter",
         "x": [
          0,
          0.9393176131625256,
          0.9393176131625256,
          0
         ],
         "xaxis": "x",
         "y": [
          -885,
          -885,
          -895,
          -895
         ],
         "yaxis": "y"
        },
        {
         "hoverinfo": "text",
         "marker": {
          "color": "rgb(61,153,112)"
         },
         "mode": "lines",
         "text": [
          "declined_refused_however_give_details",
          "",
          "",
          "census_tree_ancestry_parent_aged"
         ],
         "type": "scatter",
         "x": [
          0,
          0.9590897539491322,
          0.9590897539491322,
          0.9393176131625256
         ],
         "xaxis": "x",
         "y": [
          -875,
          -875,
          -890,
          -890
         ],
         "yaxis": "y"
        },
        {
         "hoverinfo": "text",
         "marker": {
          "color": "rgb(61,153,112)"
         },
         "mode": "lines",
         "text": [
          "brience_empower_against_compete_tangentially",
          "",
          "",
          "declined_census_tree_ancestry_parent"
         ],
         "type": "scatter",
         "x": [
          0,
          0.9828003520744766,
          0.9828003520744766,
          0.9590897539491322
         ],
         "xaxis": "x",
         "y": [
          -865,
          -865,
          -882.5,
          -882.5
         ],
         "yaxis": "y"
        },
        {
         "hoverinfo": "text",
         "marker": {
          "color": "rgb(255,65,54)"
         },
         "mode": "lines",
         "text": [
          "battery_batteries_fuel_lithium_power",
          "",
          "",
          "webex_confid_uuid_time_takes"
         ],
         "type": "scatter",
         "x": [
          0,
          0.962645900632724,
          0.962645900632724,
          0
         ],
         "xaxis": "x",
         "y": [
          -915,
          -915,
          -925,
          -925
         ],
         "yaxis": "y"
        },
        {
         "hoverinfo": "text",
         "marker": {
          "color": "rgb(255,65,54)"
         },
         "mode": "lines",
         "text": [
          "webex_time_confid_uuid_takes",
          "",
          "",
          "sleep_apnea_snoring_angel_obstructive"
         ],
         "type": "scatter",
         "x": [
          0.962645900632724,
          0.9680863708570835,
          0.9680863708570835,
          0
         ],
         "xaxis": "x",
         "y": [
          -920,
          -920,
          -935,
          -935
         ],
         "yaxis": "y"
        },
        {
         "hoverinfo": "text",
         "marker": {
          "color": "rgb(255,65,54)"
         },
         "mode": "lines",
         "text": [
          "quotas_quota_softwareshelf_manager_zero",
          "",
          "",
          "webex_sleep_time_confid_uuid"
         ],
         "type": "scatter",
         "x": [
          0,
          0.9757806928565156,
          0.9757806928565156,
          0.9680863708570835
         ],
         "xaxis": "x",
         "y": [
          -905,
          -905,
          -927.5,
          -927.5
         ],
         "yaxis": "y"
        },
        {
         "hoverinfo": "text",
         "marker": {
          "color": "rgb(255,65,54)"
         },
         "mode": "lines",
         "text": [
          "lifeminder_garden_friend_lifeminders_gardening",
          "",
          "",
          "water_body_gym_drink_histamine"
         ],
         "type": "scatter",
         "x": [
          0,
          0.9561279847911383,
          0.9561279847911383,
          0
         ],
         "xaxis": "x",
         "y": [
          -945,
          -945,
          -955,
          -955
         ],
         "yaxis": "y"
        },
        {
         "hoverinfo": "text",
         "marker": {
          "color": "rgb(255,65,54)"
         },
         "mode": "lines",
         "text": [
          "webex_sleep_time_confid_uuid",
          "",
          "",
          "lifeminder_garden_friend_lifeminders_gardening"
         ],
         "type": "scatter",
         "x": [
          0.9757806928565156,
          0.990526941981996,
          0.990526941981996,
          0.9561279847911383
         ],
         "xaxis": "x",
         "y": [
          -916.25,
          -916.25,
          -950,
          -950
         ],
         "yaxis": "y"
        },
        {
         "hoverinfo": "text",
         "marker": {
          "color": "rgb(35,205,205)"
         },
         "mode": "lines",
         "text": [
          "believe_can_you_why_could",
          "",
          "",
          "imode_378_374_support_ceritification"
         ],
         "type": "scatter",
         "x": [
          0,
          0.9614817196852552,
          0.9614817196852552,
          0
         ],
         "xaxis": "x",
         "y": [
          -965,
          -965,
          -975,
          -975
         ],
         "yaxis": "y"
        },
        {
         "hoverinfo": "text",
         "marker": {
          "color": "rgb(0,116,217)"
         },
         "mode": "lines",
         "text": [
          "lifeminder_webex_sleep_time_garden",
          "",
          "",
          "imode_believe_378_374_can"
         ],
         "type": "scatter",
         "x": [
          0.990526941981996,
          1.0016213149281545,
          1.0016213149281545,
          0.9614817196852552
         ],
         "xaxis": "x",
         "y": [
          -933.125,
          -933.125,
          -970,
          -970
         ],
         "yaxis": "y"
        },
        {
         "hoverinfo": "text",
         "marker": {
          "color": "rgb(0,116,217)"
         },
         "mode": "lines",
         "text": [
          "lifeminder_webex_sleep_time_garden",
          "",
          "",
          "jess_inferior_mode_comint_defun"
         ],
         "type": "scatter",
         "x": [
          1.0016213149281545,
          1.0084987243191097,
          1.0084987243191097,
          0
         ],
         "xaxis": "x",
         "y": [
          -951.5625,
          -951.5625,
          -985,
          -985
         ],
         "yaxis": "y"
        },
        {
         "hoverinfo": "text",
         "marker": {
          "color": "rgb(0,116,217)"
         },
         "mode": "lines",
         "text": [
          "declined_census_tree_brience_ancestry",
          "",
          "",
          "jess_lifeminder_webex_sleep_time"
         ],
         "type": "scatter",
         "x": [
          0.9828003520744766,
          1.0145655043157384,
          1.0145655043157384,
          1.0084987243191097
         ],
         "xaxis": "x",
         "y": [
          -873.75,
          -873.75,
          -968.28125,
          -968.28125
         ],
         "yaxis": "y"
        },
        {
         "hoverinfo": "text",
         "marker": {
          "color": "rgb(0,116,217)"
         },
         "mode": "lines",
         "text": [
          "mp3_music_unsubscribe_com_1996",
          "",
          "",
          "jess_lifeminder_webex_sleep_time"
         ],
         "type": "scatter",
         "x": [
          1.0373799771889618,
          1.0510078498883964,
          1.0510078498883964,
          1.0145655043157384
         ],
         "xaxis": "x",
         "y": [
          -835,
          -835,
          -921.015625,
          -921.015625
         ],
         "yaxis": "y"
        },
        {
         "hoverinfo": "text",
         "marker": {
          "color": "rgb(0,116,217)"
         },
         "mode": "lines",
         "text": [
          "src_ejolt_service_services_templates",
          "",
          "",
          "mp3_music_unsubscribe_com_click"
         ],
         "type": "scatter",
         "x": [
          0.9845127912307361,
          1.0702259146131614,
          1.0702259146131614,
          1.0510078498883964
         ],
         "xaxis": "x",
         "y": [
          -780,
          -780,
          -878.0078125,
          -878.0078125
         ],
         "yaxis": "y"
        },
        {
         "hoverinfo": "text",
         "marker": {
          "color": "rgb(0,116,217)"
         },
         "mode": "lines",
         "text": [
          "you_her_she_do_to",
          "",
          "",
          "src_ejolt_service_services_templates"
         ],
         "type": "scatter",
         "x": [
          1.1684214731755322,
          1.381302680606714,
          1.381302680606714,
          1.0702259146131614
         ],
         "xaxis": "x",
         "y": [
          -510.283203125,
          -510.283203125,
          -829.00390625,
          -829.00390625
         ],
         "yaxis": "y"
        },
        {
         "hoverinfo": "text",
         "marker": {
          "color": "rgb(0,116,217)"
         },
         "mode": "lines",
         "text": [
          "person_to_the_and_you",
          "",
          "",
          "src_ejolt_service_services_templates"
         ],
         "type": "scatter",
         "x": [
          0.956243098686735,
          1.8613339947114025,
          1.8613339947114025,
          1.381302680606714
         ],
         "xaxis": "x",
         "y": [
          -114.1357421875,
          -114.1357421875,
          -669.6435546875,
          -669.6435546875
         ],
         "yaxis": "y"
        },
        {
         "hoverinfo": "text",
         "hovertext": [
          "vss_files_aml_file_the",
          "vss_files_aml_file_vpn",
          "jsp_xml_java_servlet_the",
          "jsp_xml_oracle_the_java",
          "let_me_please_know_you",
          "xp_bugs_bug_that_the",
          "xp_please_you_me_let",
          "biogen_downloadobject_criterias_bayer_selected",
          "person_to_the_and_of",
          "person_to_the_and_of",
          "person_to_the_and_com",
          "person_to_com_the_and",
          "xp_please_you_me_do",
          "xml_jsp_the_oracle_java",
          "her_she_baby_babycenter_1fc7nw",
          "her_she_baby_babycenter_1fc7nw",
          "lunch_dinner_weight_dance_have",
          "lunch_dinner_golf_weight_you",
          "lunch_cards_dinner_card_bluemountain",
          "car_insurance_loan_mortgage_lease",
          "visa_passport_ins_h1_immigration",
          "him_he_his_you_do",
          "cd_camera_video_cds_digital",
          "him_he_lunch_you_cards",
          "her_she_baby_babycenter_1fc7nw",
          "scoping_grammar_string_strings_parameters",
          "rim_xsellsys_application_auctions_pager",
          "test_tests_testing_unit_code",
          "log_log4j_logs_logging_smell",
          "test_tests_unit_testing_code",
          "rim_content_attachment_disposition_filename",
          "metaphor_do_you_know_mean",
          "metaphor_do_it_you_know",
          "velocity_loop_hung_keep_iteration",
          "wilhan_donivan_clearcase_baseline_build",
          "wilhan_velocity_donivan_loop_rup",
          "touch_base_metaphor_you_ring",
          "test_rim_tests_content_attachment",
          "her_she_him_you_baby",
          "src_ejolt_service_services_templates",
          "mp3_music_unsubscribe_com_1996",
          "mp3_music_unsubscribe_com_1996",
          "webex_time_confid_uuid_takes",
          "webex_sleep_time_confid_uuid",
          "lifeminder_webex_sleep_time_garden",
          "lifeminder_webex_sleep_time_garden",
          "declined_census_tree_brience_ancestry",
          "mp3_music_unsubscribe_com_1996",
          "src_ejolt_service_services_templates",
          "you_her_she_do_to",
          "person_to_the_and_you"
         ],
         "marker": {
          "color": "black"
         },
         "mode": "markers",
         "showlegend": false,
         "type": "scatter",
         "x": [
          0.5953783441993674,
          0.6160477653879646,
          0.6096565992985647,
          0.714507586702311,
          0.4019665476339185,
          0.6617246995975608,
          0.7084553235811486,
          0.7684039517381307,
          0.4921199940624406,
          0.5145049493185037,
          0.6631037751918363,
          0.6983409272754568,
          0.7861545634810049,
          0.8133316156949814,
          0.6794788657343439,
          0.8948281950557226,
          0.8041757599594441,
          0.8341164098002893,
          0.8400800398193043,
          0.854258603132376,
          0.8982912376282792,
          0.8696062483632776,
          0.7989985575698421,
          0.9387154720697191,
          0.9425518490145818,
          0.8549686018583728,
          0.8968869937213816,
          0.6427105435456771,
          0.8747458039668936,
          0.8814122752090058,
          0.9445575811751853,
          0.8142383606632895,
          0.8917225420435306,
          0.9151589459268713,
          0.8682749832113932,
          0.9531403268379134,
          0.8987089220852906,
          1.0415236615332273,
          1.0872376881025767,
          0.951501635539769,
          0.9216351296311603,
          0.9805838842783097,
          0.962645900632724,
          0.9757806928565156,
          0.990526941981996,
          1.0016213149281545,
          0.9828003520744766,
          1.0373799771889618,
          0.9845127912307361,
          1.1684214731755322,
          0.956243098686735
         ],
         "y": [
          -50,
          -57.5,
          -30,
          -31.5625,
          -160,
          -123.75,
          -145.625,
          -100,
          -223.75,
          -239.375,
          -229.84375,
          -226.2109375,
          -132.65625,
          -31.640625,
          -310,
          -317.5,
          -430,
          -437.5,
          -446.25,
          -402.5,
          -380,
          -352.5,
          -490,
          -378.828125,
          -326.25,
          -540,
          -520,
          -600,
          -580,
          -593.75,
          -535,
          -652.5,
          -649.375,
          -730,
          -710,
          -723.75,
          -669.6875,
          -572.1875,
          -382.20703125,
          -770,
          -810,
          -820,
          -920,
          -916.25,
          -933.125,
          -951.5625,
          -873.75,
          -835,
          -780,
          -510.283203125,
          -114.1357421875
         ]
        },
        {
         "hoverinfo": "text",
         "hovertext": [
          "vss_files_aml_file_the",
          "jsp_xml_java_the_files",
          "jsp_xml_the_oracle_java",
          "xp_bugs_bug_code_that",
          "xp_bugs_bug_that_the",
          "let_me_please_know_you",
          "xp_please_you_me_let",
          "person_you_please_this_to",
          "person_and_to_the_of",
          "com_email_message_mail_http",
          "person_to_the_and_com",
          "person_to_com_the_and",
          "person_to_the_and_com",
          "person_to_the_and_you",
          "him_he_his_you_416",
          "insurance_loan_mortgage_lease_volunteers",
          "book_sizing_nike_wear_font",
          "lunch_cards_dinner_you_card",
          "lunch_cards_you_dinner_your",
          "lunch_cards_you_dinner_your",
          "cd_camera_color_video_cds",
          "him_you_he_lunch_cards",
          "content_attachment_disposition_filename_base64",
          "content_attachment_disposition_filename_base64",
          "test_tests_unit_testing_code",
          "test_tests_unit_testing_code",
          "metaphor_do_mean_understand_example",
          "metaphor_do_it_you_know",
          "touch_base_ring_meeting_wanted",
          "velocity_loop_rup_hung_keep",
          "wilhan_velocity_donivan_loop_rup",
          "base_touch_metaphor_you_wilhan",
          "test_rim_tests_content_attachment",
          "epservlet_opt_servlet_canon_parser",
          "south_map_exit_directions_indian",
          "culpepper_termination_ebulletin_compensation_hrhero",
          "census_tree_ancestry_parent_aged",
          "declined_census_tree_ancestry_parent",
          "webex_sleep_time_confid_uuid",
          "lifeminder_garden_friend_lifeminders_gardening",
          "imode_believe_378_374_can",
          "jess_lifeminder_webex_sleep_time",
          "jess_lifeminder_webex_sleep_time",
          "mp3_music_unsubscribe_com_click",
          "src_ejolt_service_services_templates",
          "src_ejolt_service_services_templates"
         ],
         "marker": {
          "color": "black"
         },
         "mode": "markers",
         "showlegend": false,
         "type": "scatter",
         "x": [
          0.6725908893537114,
          0.702549373920165,
          0.7296974875023503,
          0.5073916758762365,
          0.5316838547214807,
          0.5774946408987605,
          0.7585888043037474,
          0.22098850362401778,
          0.342949101223685,
          0.5827563607902876,
          0.617919985281759,
          0.6827722014681186,
          0.7443641027543029,
          0.9129601756648555,
          0.703674283097387,
          0.7777517044367049,
          0.8548461599399262,
          0.8667564185487282,
          0.8875666728505284,
          0.9323718787702129,
          0.8974566219492247,
          0.9784207312749945,
          0.8777096229147673,
          0.9367119341045624,
          0.7116901765377952,
          0.913009356438676,
          0.7793143286423563,
          0.8606033944973748,
          0.8732915014224343,
          0.9430213727064773,
          0.9582677078546951,
          0.9783944061945039,
          1.0758904384233698,
          0.9163626267629581,
          0.8953683426199069,
          0.8089475854451232,
          0.9393176131625256,
          0.9590897539491322,
          0.9680863708570835,
          0.9561279847911383,
          0.9614817196852552,
          1.0084987243191097,
          1.0145655043157384,
          1.0510078498883964,
          1.0702259146131614,
          1.381302680606714
         ],
         "y": [
          -66.25,
          -48.125,
          -58.28125,
          -140,
          -132.5,
          -167.5,
          -165.3125,
          -240,
          -232.5,
          -270,
          -254.6875,
          -257.421875,
          -260.60546875,
          -196.630859375,
          -360,
          -410,
          -470,
          -458.125,
          -430.3125,
          -405.15625,
          -497.5,
          -438.1640625,
          -560,
          -550,
          -607.5,
          -609.375,
          -660,
          -663.75,
          -690,
          -737.5,
          -739.375,
          -704.53125,
          -638.359375,
          -790,
          -830,
          -850,
          -890,
          -882.5,
          -927.5,
          -950,
          -970,
          -968.28125,
          -921.015625,
          -878.0078125,
          -829.00390625,
          -669.6435546875
         ]
        }
       ],
       "layout": {
        "autosize": false,
        "height": 1685,
        "hoverlabel": {
         "bgcolor": "white",
         "font": {
          "family": "Rockwell",
          "size": 16
         }
        },
        "hovermode": "closest",
        "plot_bgcolor": "#ECEFF1",
        "showlegend": false,
        "template": {
         "data": {
          "bar": [
           {
            "error_x": {
             "color": "#2a3f5f"
            },
            "error_y": {
             "color": "#2a3f5f"
            },
            "marker": {
             "line": {
              "color": "white",
              "width": 0.5
             },
             "pattern": {
              "fillmode": "overlay",
              "size": 10,
              "solidity": 0.2
             }
            },
            "type": "bar"
           }
          ],
          "barpolar": [
           {
            "marker": {
             "line": {
              "color": "white",
              "width": 0.5
             },
             "pattern": {
              "fillmode": "overlay",
              "size": 10,
              "solidity": 0.2
             }
            },
            "type": "barpolar"
           }
          ],
          "carpet": [
           {
            "aaxis": {
             "endlinecolor": "#2a3f5f",
             "gridcolor": "#C8D4E3",
             "linecolor": "#C8D4E3",
             "minorgridcolor": "#C8D4E3",
             "startlinecolor": "#2a3f5f"
            },
            "baxis": {
             "endlinecolor": "#2a3f5f",
             "gridcolor": "#C8D4E3",
             "linecolor": "#C8D4E3",
             "minorgridcolor": "#C8D4E3",
             "startlinecolor": "#2a3f5f"
            },
            "type": "carpet"
           }
          ],
          "choropleth": [
           {
            "colorbar": {
             "outlinewidth": 0,
             "ticks": ""
            },
            "type": "choropleth"
           }
          ],
          "contour": [
           {
            "colorbar": {
             "outlinewidth": 0,
             "ticks": ""
            },
            "colorscale": [
             [
              0,
              "#0d0887"
             ],
             [
              0.1111111111111111,
              "#46039f"
             ],
             [
              0.2222222222222222,
              "#7201a8"
             ],
             [
              0.3333333333333333,
              "#9c179e"
             ],
             [
              0.4444444444444444,
              "#bd3786"
             ],
             [
              0.5555555555555556,
              "#d8576b"
             ],
             [
              0.6666666666666666,
              "#ed7953"
             ],
             [
              0.7777777777777778,
              "#fb9f3a"
             ],
             [
              0.8888888888888888,
              "#fdca26"
             ],
             [
              1,
              "#f0f921"
             ]
            ],
            "type": "contour"
           }
          ],
          "contourcarpet": [
           {
            "colorbar": {
             "outlinewidth": 0,
             "ticks": ""
            },
            "type": "contourcarpet"
           }
          ],
          "heatmap": [
           {
            "colorbar": {
             "outlinewidth": 0,
             "ticks": ""
            },
            "colorscale": [
             [
              0,
              "#0d0887"
             ],
             [
              0.1111111111111111,
              "#46039f"
             ],
             [
              0.2222222222222222,
              "#7201a8"
             ],
             [
              0.3333333333333333,
              "#9c179e"
             ],
             [
              0.4444444444444444,
              "#bd3786"
             ],
             [
              0.5555555555555556,
              "#d8576b"
             ],
             [
              0.6666666666666666,
              "#ed7953"
             ],
             [
              0.7777777777777778,
              "#fb9f3a"
             ],
             [
              0.8888888888888888,
              "#fdca26"
             ],
             [
              1,
              "#f0f921"
             ]
            ],
            "type": "heatmap"
           }
          ],
          "heatmapgl": [
           {
            "colorbar": {
             "outlinewidth": 0,
             "ticks": ""
            },
            "colorscale": [
             [
              0,
              "#0d0887"
             ],
             [
              0.1111111111111111,
              "#46039f"
             ],
             [
              0.2222222222222222,
              "#7201a8"
             ],
             [
              0.3333333333333333,
              "#9c179e"
             ],
             [
              0.4444444444444444,
              "#bd3786"
             ],
             [
              0.5555555555555556,
              "#d8576b"
             ],
             [
              0.6666666666666666,
              "#ed7953"
             ],
             [
              0.7777777777777778,
              "#fb9f3a"
             ],
             [
              0.8888888888888888,
              "#fdca26"
             ],
             [
              1,
              "#f0f921"
             ]
            ],
            "type": "heatmapgl"
           }
          ],
          "histogram": [
           {
            "marker": {
             "pattern": {
              "fillmode": "overlay",
              "size": 10,
              "solidity": 0.2
             }
            },
            "type": "histogram"
           }
          ],
          "histogram2d": [
           {
            "colorbar": {
             "outlinewidth": 0,
             "ticks": ""
            },
            "colorscale": [
             [
              0,
              "#0d0887"
             ],
             [
              0.1111111111111111,
              "#46039f"
             ],
             [
              0.2222222222222222,
              "#7201a8"
             ],
             [
              0.3333333333333333,
              "#9c179e"
             ],
             [
              0.4444444444444444,
              "#bd3786"
             ],
             [
              0.5555555555555556,
              "#d8576b"
             ],
             [
              0.6666666666666666,
              "#ed7953"
             ],
             [
              0.7777777777777778,
              "#fb9f3a"
             ],
             [
              0.8888888888888888,
              "#fdca26"
             ],
             [
              1,
              "#f0f921"
             ]
            ],
            "type": "histogram2d"
           }
          ],
          "histogram2dcontour": [
           {
            "colorbar": {
             "outlinewidth": 0,
             "ticks": ""
            },
            "colorscale": [
             [
              0,
              "#0d0887"
             ],
             [
              0.1111111111111111,
              "#46039f"
             ],
             [
              0.2222222222222222,
              "#7201a8"
             ],
             [
              0.3333333333333333,
              "#9c179e"
             ],
             [
              0.4444444444444444,
              "#bd3786"
             ],
             [
              0.5555555555555556,
              "#d8576b"
             ],
             [
              0.6666666666666666,
              "#ed7953"
             ],
             [
              0.7777777777777778,
              "#fb9f3a"
             ],
             [
              0.8888888888888888,
              "#fdca26"
             ],
             [
              1,
              "#f0f921"
             ]
            ],
            "type": "histogram2dcontour"
           }
          ],
          "mesh3d": [
           {
            "colorbar": {
             "outlinewidth": 0,
             "ticks": ""
            },
            "type": "mesh3d"
           }
          ],
          "parcoords": [
           {
            "line": {
             "colorbar": {
              "outlinewidth": 0,
              "ticks": ""
             }
            },
            "type": "parcoords"
           }
          ],
          "pie": [
           {
            "automargin": true,
            "type": "pie"
           }
          ],
          "scatter": [
           {
            "fillpattern": {
             "fillmode": "overlay",
             "size": 10,
             "solidity": 0.2
            },
            "type": "scatter"
           }
          ],
          "scatter3d": [
           {
            "line": {
             "colorbar": {
              "outlinewidth": 0,
              "ticks": ""
             }
            },
            "marker": {
             "colorbar": {
              "outlinewidth": 0,
              "ticks": ""
             }
            },
            "type": "scatter3d"
           }
          ],
          "scattercarpet": [
           {
            "marker": {
             "colorbar": {
              "outlinewidth": 0,
              "ticks": ""
             }
            },
            "type": "scattercarpet"
           }
          ],
          "scattergeo": [
           {
            "marker": {
             "colorbar": {
              "outlinewidth": 0,
              "ticks": ""
             }
            },
            "type": "scattergeo"
           }
          ],
          "scattergl": [
           {
            "marker": {
             "colorbar": {
              "outlinewidth": 0,
              "ticks": ""
             }
            },
            "type": "scattergl"
           }
          ],
          "scattermapbox": [
           {
            "marker": {
             "colorbar": {
              "outlinewidth": 0,
              "ticks": ""
             }
            },
            "type": "scattermapbox"
           }
          ],
          "scatterpolar": [
           {
            "marker": {
             "colorbar": {
              "outlinewidth": 0,
              "ticks": ""
             }
            },
            "type": "scatterpolar"
           }
          ],
          "scatterpolargl": [
           {
            "marker": {
             "colorbar": {
              "outlinewidth": 0,
              "ticks": ""
             }
            },
            "type": "scatterpolargl"
           }
          ],
          "scatterternary": [
           {
            "marker": {
             "colorbar": {
              "outlinewidth": 0,
              "ticks": ""
             }
            },
            "type": "scatterternary"
           }
          ],
          "surface": [
           {
            "colorbar": {
             "outlinewidth": 0,
             "ticks": ""
            },
            "colorscale": [
             [
              0,
              "#0d0887"
             ],
             [
              0.1111111111111111,
              "#46039f"
             ],
             [
              0.2222222222222222,
              "#7201a8"
             ],
             [
              0.3333333333333333,
              "#9c179e"
             ],
             [
              0.4444444444444444,
              "#bd3786"
             ],
             [
              0.5555555555555556,
              "#d8576b"
             ],
             [
              0.6666666666666666,
              "#ed7953"
             ],
             [
              0.7777777777777778,
              "#fb9f3a"
             ],
             [
              0.8888888888888888,
              "#fdca26"
             ],
             [
              1,
              "#f0f921"
             ]
            ],
            "type": "surface"
           }
          ],
          "table": [
           {
            "cells": {
             "fill": {
              "color": "#EBF0F8"
             },
             "line": {
              "color": "white"
             }
            },
            "header": {
             "fill": {
              "color": "#C8D4E3"
             },
             "line": {
              "color": "white"
             }
            },
            "type": "table"
           }
          ]
         },
         "layout": {
          "annotationdefaults": {
           "arrowcolor": "#2a3f5f",
           "arrowhead": 0,
           "arrowwidth": 1
          },
          "autotypenumbers": "strict",
          "coloraxis": {
           "colorbar": {
            "outlinewidth": 0,
            "ticks": ""
           }
          },
          "colorscale": {
           "diverging": [
            [
             0,
             "#8e0152"
            ],
            [
             0.1,
             "#c51b7d"
            ],
            [
             0.2,
             "#de77ae"
            ],
            [
             0.3,
             "#f1b6da"
            ],
            [
             0.4,
             "#fde0ef"
            ],
            [
             0.5,
             "#f7f7f7"
            ],
            [
             0.6,
             "#e6f5d0"
            ],
            [
             0.7,
             "#b8e186"
            ],
            [
             0.8,
             "#7fbc41"
            ],
            [
             0.9,
             "#4d9221"
            ],
            [
             1,
             "#276419"
            ]
           ],
           "sequential": [
            [
             0,
             "#0d0887"
            ],
            [
             0.1111111111111111,
             "#46039f"
            ],
            [
             0.2222222222222222,
             "#7201a8"
            ],
            [
             0.3333333333333333,
             "#9c179e"
            ],
            [
             0.4444444444444444,
             "#bd3786"
            ],
            [
             0.5555555555555556,
             "#d8576b"
            ],
            [
             0.6666666666666666,
             "#ed7953"
            ],
            [
             0.7777777777777778,
             "#fb9f3a"
            ],
            [
             0.8888888888888888,
             "#fdca26"
            ],
            [
             1,
             "#f0f921"
            ]
           ],
           "sequentialminus": [
            [
             0,
             "#0d0887"
            ],
            [
             0.1111111111111111,
             "#46039f"
            ],
            [
             0.2222222222222222,
             "#7201a8"
            ],
            [
             0.3333333333333333,
             "#9c179e"
            ],
            [
             0.4444444444444444,
             "#bd3786"
            ],
            [
             0.5555555555555556,
             "#d8576b"
            ],
            [
             0.6666666666666666,
             "#ed7953"
            ],
            [
             0.7777777777777778,
             "#fb9f3a"
            ],
            [
             0.8888888888888888,
             "#fdca26"
            ],
            [
             1,
             "#f0f921"
            ]
           ]
          },
          "colorway": [
           "#636efa",
           "#EF553B",
           "#00cc96",
           "#ab63fa",
           "#FFA15A",
           "#19d3f3",
           "#FF6692",
           "#B6E880",
           "#FF97FF",
           "#FECB52"
          ],
          "font": {
           "color": "#2a3f5f"
          },
          "geo": {
           "bgcolor": "white",
           "lakecolor": "white",
           "landcolor": "white",
           "showlakes": true,
           "showland": true,
           "subunitcolor": "#C8D4E3"
          },
          "hoverlabel": {
           "align": "left"
          },
          "hovermode": "closest",
          "mapbox": {
           "style": "light"
          },
          "paper_bgcolor": "white",
          "plot_bgcolor": "white",
          "polar": {
           "angularaxis": {
            "gridcolor": "#EBF0F8",
            "linecolor": "#EBF0F8",
            "ticks": ""
           },
           "bgcolor": "white",
           "radialaxis": {
            "gridcolor": "#EBF0F8",
            "linecolor": "#EBF0F8",
            "ticks": ""
           }
          },
          "scene": {
           "xaxis": {
            "backgroundcolor": "white",
            "gridcolor": "#DFE8F3",
            "gridwidth": 2,
            "linecolor": "#EBF0F8",
            "showbackground": true,
            "ticks": "",
            "zerolinecolor": "#EBF0F8"
           },
           "yaxis": {
            "backgroundcolor": "white",
            "gridcolor": "#DFE8F3",
            "gridwidth": 2,
            "linecolor": "#EBF0F8",
            "showbackground": true,
            "ticks": "",
            "zerolinecolor": "#EBF0F8"
           },
           "zaxis": {
            "backgroundcolor": "white",
            "gridcolor": "#DFE8F3",
            "gridwidth": 2,
            "linecolor": "#EBF0F8",
            "showbackground": true,
            "ticks": "",
            "zerolinecolor": "#EBF0F8"
           }
          },
          "shapedefaults": {
           "line": {
            "color": "#2a3f5f"
           }
          },
          "ternary": {
           "aaxis": {
            "gridcolor": "#DFE8F3",
            "linecolor": "#A2B1C6",
            "ticks": ""
           },
           "baxis": {
            "gridcolor": "#DFE8F3",
            "linecolor": "#A2B1C6",
            "ticks": ""
           },
           "bgcolor": "white",
           "caxis": {
            "gridcolor": "#DFE8F3",
            "linecolor": "#A2B1C6",
            "ticks": ""
           }
          },
          "title": {
           "x": 0.05
          },
          "xaxis": {
           "automargin": true,
           "gridcolor": "#EBF0F8",
           "linecolor": "#EBF0F8",
           "ticks": "",
           "title": {
            "standoff": 15
           },
           "zerolinecolor": "#EBF0F8",
           "zerolinewidth": 2
          },
          "yaxis": {
           "automargin": true,
           "gridcolor": "#EBF0F8",
           "linecolor": "#EBF0F8",
           "ticks": "",
           "title": {
            "standoff": 15
           },
           "zerolinecolor": "#EBF0F8",
           "zerolinewidth": 2
          }
         }
        },
        "title": {
         "font": {
          "color": "Black",
          "size": 22
         },
         "text": "<b>Hierarchical Clustering</b>",
         "x": 0.5,
         "xanchor": "center",
         "yanchor": "top"
        },
        "width": 1000,
        "xaxis": {
         "mirror": "allticks",
         "rangemode": "tozero",
         "showgrid": false,
         "showline": true,
         "showticklabels": true,
         "ticks": "outside",
         "type": "linear",
         "zeroline": false
        },
        "yaxis": {
         "mirror": "allticks",
         "range": [
          -990,
          0
         ],
         "rangemode": "tozero",
         "showgrid": false,
         "showline": true,
         "showticklabels": true,
         "tickmode": "array",
         "ticks": "outside",
         "ticktext": [
          "45_keyboard_mouse_bar",
          "16_oracle_oca_database",
          "9_jsp_java_servlet",
          "17_xml_wml_dax",
          "10_vss_files_aml",
          "29_pager_button_screen",
          "19_vpn_ip_server",
          "32_cookies_cookie_browser",
          "22_japanese_germana_toshi",
          "24_biogen_downloadobject_cr...",
          "42_names_name_trademark",
          "63_views_sender_evidence",
          "31_team_skills_he",
          "13_code_stories_refactoring",
          "6_xp_bugs_bug",
          "15_schedule_time_days",
          "5_let_me_please",
          "20_survey_spreadsheet_excel",
          "41_boxes_kits_box",
          "21_security_license_verisign",
          "23_logo_visto_icons",
          "12_trade_etrade_stock",
          "0_wireless_and_the",
          "1_person_you_please",
          "3_review_presentation_meeting",
          "7_99_pricing_credit",
          "2_com_email_message",
          "8_training_resume_jobs",
          "4_avocadoit_408_accenture",
          "11_hp_storage_memory",
          "81_reproduce_spot_her",
          "14_her_she_baby",
          "59_shower_massage_baby",
          "84_steal_diva_look",
          "68_laden_rm_rf",
          "28_416_nor_darcy",
          "25_him_he_his",
          "58_visa_passport_ins",
          "80_hotwire_burn_rate",
          "51_car_driveway_parking",
          "55_loan_mortgage_lease",
          "43_insurance_volunteers_den...",
          "52_weight_fitness_diet",
          "26_lunch_dinner_dance",
          "61_golf_mlb_tennis",
          "33_cards_card_bluemountain",
          "44_sizing_nike_wear",
          "54_book_font_books",
          "40_cd_cds_dvd",
          "56_camera_digital_video",
          "66_color_colors_orange",
          "34_rim_application_pager",
          "65_xsellsys_auctions_auction",
          "91_getparameter_string_date",
          "48_scoping_grammar_strings",
          "27_content_attachment_dispo...",
          "36_1_yes_form_companyurl",
          "60_log_log4j_logs",
          "72_smell_clean_smells",
          "18_test_tests_testing",
          "47_class_private_classes",
          "50_duplication_adapter_inte...",
          "77_hash_sort_dutch",
          "79_door_open_doors",
          "62_did_missed_seen",
          "53_watch_rest_break",
          "38_metaphor_do_mean",
          "73_try_give_shot",
          "70_numbers_correct_matrix",
          "35_touch_base_ring",
          "49_wilhan_donivan_baseline",
          "69_clearcase_case_judge",
          "67_loop_hung_keep",
          "71_velocity_iteration_estim...",
          "82_rup_ruyben_xp",
          "92_holes_hole_dig",
          "39_synchronizing_folder_17",
          "30_src_ejolt_service",
          "64_canon_parser_release2",
          "46_epservlet_opt_servlet",
          "78_illuminations_2findex_2f...",
          "37_mp3_music_unsubscribe",
          "89_indian_superdukan_asian",
          "74_map_exit_directions",
          "57_termination_compensation...",
          "90_ebulletin_culpepper_instat",
          "96_brience_empower_against",
          "76_declined_refused_however",
          "86_census_ancestry_aged",
          "88_tree_parent_ancestor",
          "94_quotas_quota_softwareshelf",
          "85_battery_batteries_fuel",
          "83_webex_confid_uuid",
          "87_sleep_apnea_snoring",
          "75_lifeminder_garden_friend",
          "98_water_body_gym",
          "93_believe_can_you",
          "95_imode_378_374",
          "97_jess_inferior_mode"
         ],
         "tickvals": [
          -5,
          -15,
          -25,
          -35,
          -45,
          -55,
          -65,
          -75,
          -85,
          -95,
          -105,
          -115,
          -125,
          -135,
          -145,
          -155,
          -165,
          -175,
          -185,
          -195,
          -205,
          -215,
          -225,
          -235,
          -245,
          -255,
          -265,
          -275,
          -285,
          -295,
          -305,
          -315,
          -325,
          -335,
          -345,
          -355,
          -365,
          -375,
          -385,
          -395,
          -405,
          -415,
          -425,
          -435,
          -445,
          -455,
          -465,
          -475,
          -485,
          -495,
          -505,
          -515,
          -525,
          -535,
          -545,
          -555,
          -565,
          -575,
          -585,
          -595,
          -605,
          -615,
          -625,
          -635,
          -645,
          -655,
          -665,
          -675,
          -685,
          -695,
          -705,
          -715,
          -725,
          -735,
          -745,
          -755,
          -765,
          -775,
          -785,
          -795,
          -805,
          -815,
          -825,
          -835,
          -845,
          -855,
          -865,
          -875,
          -885,
          -895,
          -905,
          -915,
          -925,
          -935,
          -945,
          -955,
          -965,
          -975,
          -985
         ],
         "type": "linear",
         "zeroline": false
        }
       }
      }
     },
     "metadata": {},
     "output_type": "display_data"
    }
   ],
   "source": [
    "topic_model.visualize_hierarchy(hierarchical_topics=hierarchical_topics)"
   ]
  },
  {
   "cell_type": "markdown",
   "metadata": {},
   "source": [
    "## Merging Topics"
   ]
  },
  {
   "cell_type": "code",
   "execution_count": 36,
   "metadata": {},
   "outputs": [
    {
     "name": "stdout",
     "output_type": "stream",
     "text": [
      "Topic: 500\n",
      "\n",
      "Top Words:\n",
      "explorer, msn, intl, download, egroups, extremeprogramming, unsubscribe, jbr, free, courtesy, \n",
      "\n",
      "Representative Target Sentences: \n",
      "[PERSON]    _ _ _ _ _ _ _ _ _ _ _ _ _ _ _ _ _ _ _ _ _ _ _ _ _ _ _ _ _ _ _ _ _ _ _ _ _ _ _ _ _ _ _ _ _ _ _ _ _ _ _ _ _ _ _ _ _ _ _ _ _ _ _ _ _   Get your FREE download of MSN Explorer at http://explorer.msn.com/intl.asp     To Post a message , send it to :    extremeprogramming@eGroups.com    To Unsubscribe , send a blank message to : extremeprogramming-unsubscribe@eGroups.com    add - free courtesy of objectmentor.com    Your use of Yahoo !\n",
      "Thanks ,   [PERSON] [PERSON]     _ _ _ _ _ _ _ _ _ _ _ _ _ _ _ _ _ _ _ _ _ _ _ _ _ _ _ _ _ _ _ _ _ _ _ _ _ _ _ _ _ _ _ _ _ _ _ _ _ _ _ _ _ _ _ _ _ _ _ _ _ _ _ _ _   Get your FREE download of MSN Explorer at http://explorer.msn.com/intl.asp     To Post a message , send it to :    extremeprogramming@eGroups.com    To Unsubscribe , send a blank message to : extremeprogramming-unsubscribe@eGroups.com    ad - free courtesy of objectmentor.com    Your use of Yahoo !\n",
      "[ ... ]      _ _ _ _ _ _ _ _ _ _ _ _ _ _ _ _ _ _ _ _ _ _ _ _ _ _ _ _ _ _ _ _ _ _ _ _ _ _ _ _ _ _ _ _ _ _ _ _ _ _ _ _ _ _ _ _ _ _ _ _ _ _ _ _ _   Get your FREE download of MSN Explorer at http://explorer.msn.com/intl.asp     To Post a message , send it to :    extremeprogramming@eGroups.com    To Unsubscribe , send a blank message to : extremeprogramming-unsubscribe@eGroups.com    ad - free courtesy of objectmentor.com    Your use of Yahoo !\n"
     ]
    }
   ],
   "source": [
    "topic_id = 500\n",
    "_, rep_sents = inspect_topic(topic_id)"
   ]
  },
  {
   "cell_type": "code",
   "execution_count": 37,
   "metadata": {},
   "outputs": [
    {
     "name": "stdout",
     "output_type": "stream",
     "text": [
      "Number of Documents: 53\n",
      "\n",
      "Followup with Voice Genie for Number \t Oct 23 \t\t Oct 27       announcement ( not in TTS )       I have listed the issues on which we will need support from Voice Genie .\n",
      "If you are committed to driving sales of your product that incorporates Nuance 's speech engines and would like to work with us to optimize the development and delivery of your solution , please learn more about the Nuance OEM Program and complete a Nuance Partner Application .\n",
      "However , SignalSoft do see the potential for AvocadoIT technology to sit between their middleware and other non - wirelessly enabled location specific content to enhance the proposition to carriers .\n",
      "If you received   this message directly from David Allen & Co. , you are   automatically subscribed to this newsletter .\n",
      "do you have any ideas / suggestions for the two gaiting items :   > - Lists - does n't look like partner will work and our list we could do it   >\n",
      "I just spoke with him and he said to go ahead and pass his contact information on and to have the person from Freedrive call him directly .\n",
      "Can you please take a look .\n",
      "Please help the QA team make progress .\n",
      "Return to top ...    The Sponsor Spot    Questra      Wireless Knowledge \t    Psion / Teklogix      AvocadoIT   \t  Wishbone   \t \t  \t  Mobilizer is an opt - in monthly e - mail newsletter providing news and comment on the FFA market , along with highlights from destinationFFA.com .\n",
      "Contact   mailto:mark.dye@terrapinn.com   Features :    Conversations with God over SMS   Sporting chance for WorldZap   DoCoMo unfolded    Video : http://www.mobilecommerceworld.com and scroll down the homepage        Manx Telecom or DoCoMo - who will reach commercial 3 G first ?   VOTE IN THE MOBILE COMMERCE WORLD POLL .   http://www.mobilecommerceworld.com/Tmpl/Archpolls.asp?CID=1      NEWS :   [LOCATION] to triple download speed of i - mode phones   [LOCATION] , Sept 10 ( Reuters ) -\n",
      "It looks like a GUI tool but still requires users to do a lot of scripting and programming ( greater development time , greater need for maintenance , and requirement to have high end programming talent ) .\n",
      "> ( I 've just been reading a book , by the way , that 's   > clarified my position on this stuff greatly it 's called \" Punishment by   >\n",
      "The   sooner , the better so you can start realizing the benefits of your   specific Partner Track !    PS - Please print a copy of your application as you go through , and fax   me a copy for my files .\n",
      "I do n't   have a problem with her , but she is unqualified for the   position ( in my opinion ) .\n",
      "Anyway , though I suspect you do n't have a lot of extra time on your   hands , here 's a link to my trip photos in case you 're interested .\n",
      "Could you respond to this email that 1 ) Travelbreak will notify us of changes to the website , and 2 ) in the event that   changes are made to the website that we are not notified of , that you agree to allow us to reschedule any dates   that the changes may impact ?    Thank you .\n",
      "Develop metrics that will tell us how we are doing in generating awareness around the company and \" buzz \" to make us a hot and happening company .\n",
      "Who says we men are useless ( do n't answer that ) .\n",
      "Aether will also provide real - time quotes and news components ,   as well as third - party hardware and software - to provide access to   E*TRADE 's complete range of mobile financial services across both   brokerage and banking .\n",
      "An advanced reservation is required through enterprise.com using the link from this email .\n",
      "Instead of working on the principle of one chip to send and receive , the new technology requires two chips : one sends BLAST signals , the other decodes them .\n",
      "Agreed on including the whole of IDC on the e - mail ( I did n't see that ) .\n",
      "Why do you refactor ?    YAGNI , no BDUF , Yesterday 's Weather , short iterations , continous   integration , frequent releases , On - site customer come to mind which are all   strongly anti - speculation , if you ask me .\n",
      "To pay only selected bills , mark the check box next to bills you want to pay .\n",
      "Thanks for your help ,   Arun    Note : Attached is a zip file containing the project .\n"
     ]
    }
   ],
   "source": [
    "documents = [docs[i] for i, topic in enumerate(topic_model.topics_) if topic == topic_id]\n",
    "print('Number of Documents: '+str(len(documents))+'\\n')\n",
    "for i in range(25):\n",
    "    print(documents[i])"
   ]
  },
  {
   "cell_type": "code",
   "execution_count": null,
   "metadata": {},
   "outputs": [],
   "source": [
    "topic_model.merge_topics(docs, [-1,topic_id])"
   ]
  },
  {
   "cell_type": "code",
   "execution_count": null,
   "metadata": {},
   "outputs": [],
   "source": [
    "create_custom_label(\"\", )"
   ]
  },
  {
   "cell_type": "code",
   "execution_count": null,
   "metadata": {},
   "outputs": [],
   "source": [
    "len(topic_model.get_topics())"
   ]
  },
  {
   "cell_type": "code",
   "execution_count": null,
   "metadata": {},
   "outputs": [],
   "source": [
    "#topic_model.save(\"../../../data/bertopic_models/intents/00_all_intents/all_processed\")"
   ]
  },
  {
   "cell_type": "code",
   "execution_count": 4,
   "metadata": {},
   "outputs": [],
   "source": [
    "topic_model = BERTopic.load(\"../../../data/bertopic_models/intents/00_all_intents/all_processed_cut_to_600_processed\")"
   ]
  },
  {
   "cell_type": "markdown",
   "metadata": {},
   "source": [
    "### Remove Topics now"
   ]
  },
  {
   "cell_type": "code",
   "execution_count": null,
   "metadata": {},
   "outputs": [],
   "source": [
    "topic_model.save(\"../../../data/bertopic_models/intents/00_all_intents/all_processed_cut_to_600_processed\")"
   ]
  },
  {
   "cell_type": "code",
   "execution_count": null,
   "metadata": {},
   "outputs": [],
   "source": [
    "\n",
    "merge_list = []\n",
    "for i in range(600,1000):\n",
    "    item = [-1,i]\n",
    "    merge_list.append(item)\n",
    "topic_model.merge_topics(docs, merge_list)\n",
    "#topic_model.save(\"../../../data/bertopic_models/intents/00_all_intents/all_processed_cut_to_600\")"
   ]
  },
  {
   "cell_type": "code",
   "execution_count": 50,
   "metadata": {},
   "outputs": [
    {
     "name": "stdout",
     "output_type": "stream",
     "text": [
      "Topic: 5\n",
      "\n",
      "Top Words:\n",
      "ass, person, com, to, it, the, please, that, on, you, \n",
      "\n",
      "Representative Target Sentences: \n",
      "Please call me with any questions you may have .\n",
      "Let me know what help you need here .\n",
      "Please call or e - mail [PERSON] to set up a call with him .\n"
     ]
    }
   ],
   "source": [
    "topic_id = 5\n",
    "_, rep_sents = inspect_topic(topic_id)"
   ]
  },
  {
   "cell_type": "code",
   "execution_count": null,
   "metadata": {},
   "outputs": [
    {
     "name": "stdout",
     "output_type": "stream",
     "text": [
      "Number of Documents: 1700\n",
      "\n",
      "Tell us what you think . \t   E - mail this LifeMinder to a friend   \t  * * * COOL STUFF * * *   Accident ?\n",
      "Under our mutual NDA signed last month , [PERSON] will explain the status of this round and explore with you Chase.com 's possible participation .\n",
      "This will give us 5 E*Trade servers in the cluster .\n",
      "New readers receiving a free   trial will receive their issue the following day , in the afternoon .   _ _ _ _ _ _ _ _ _ _ _ _ _ _ _ _ _ _ _ _ _ _ _ _ _ _ _ _ _ _ _ _ _   For additional information about Cabot 's Internet Stock of the week , please   visit our Web site at http://www.icabot.com .\n",
      "I personally attained [PERSON] 's address , printed out the presentation , wrote the memo note , and FedExed ( along with my business card ) to [PERSON] this afternoon .\n",
      "I will send out a note that properly positions us and the beta .    Thanks .\n",
      "I imagine you folks must have a power point presentation that you use to describe the service .\n",
      "I had hoped to keep this agreement simple , meaning free from indemnity but   if you would like a trademark indemnity then we will need an indemnity from   you with respect to your service as our Logo would appear on the service you   are providing .\n",
      "Take me to the FREE Trial offer , click here :   http://fujitsu.myregistration.com/login.asp?redir=/offers/ofr58.asp&XactID=W98FUJ19990813-04332-52000&prgm=CRNL0500    3 FREE issues of Launch - The Premier Multimedia Music & Entertainment Magazine on CD   ------------------------------------------------------------------------------------   CD - ROM based interactive interviews with your favorite stars , video clips   from sold - out concerts , over 60 song samples and reviews , and the low down   on the latest games and albums .\n",
      "I wanted to get [PERSON] 's approval first .\n",
      "4 . Need to be given sufficient ( at least 2 days ) time to review to make sure that we have done our due diligence .\n",
      "Every trade show I attend has \" best of \" awards , and   they 're meaningless .\n",
      "Hi [PERSON] ,    I just wanted to let you know that I decided I wanted to take my floating holiday on December 26th .\n",
      "The simplest decision can help get the team off the dime .\n",
      "Attached is a short ppt deck that I 'd like to use with analysts and provide for sales situations to respond to those inquiring about AvocadoIT 's capabilities in light of Aether 's presentation .\n",
      "We should also get a supply of garbage bags for the containers since we will probably be changing them frequently .    2 ) \t You need to put the coffee making instructions up by the coffee pot .\n",
      "Can you post the link for a download and documentory site for Resin ?   > >   > >\n",
      "I will be also working on security TOMMORROW on the box , so my plan 's adjusted .     Will resume work on the email server once I 'm done with this ....        [PERSON] [PERSON]   AvocadoIT , Inc.   2211 North First Street   Suite 200   [LOCATION] [LOCATION] , [LOCATION] 95131   Main : 408.562.8000   Direct : 408.562.8175   Fax : 408.562.8100   craig.harper@avocadoit.com    rm -Rf //taliban / [PERSON] / laden\n",
      "Wanted to give you the heads up in case you have a discussion with Verizon .\n",
      "What do we recommend   for each platform , and if at full capacity , does the customer have to purchase another development or deployment license ?\n",
      "keep the history of the file with the development copy    The history of the file is kept where the file existed historically .\n",
      "We need to have a methos of dealing with this , but we are resource constrained .\n",
      "Greetings    If you can please give me the keys to the accounting cabinets ASAP it would be greatly appreciated .\n",
      "The CPA defines the way two business parties will interact in   performing the chosen business collaborations .    REGULATORY AGENCIES    12 - 3   The Securities and Exchange Commission , the New York Stock Exchange   and NASD announced joint actions against five broker - dealers , Deutsche Bank   Securities Inc. ; Goldman , Sachs & Co. ;\n",
      "We must target complext transactional content and applications which provide either incremental revenue or competitive advantage ( through increased efficiency , first mover advantage , better customer service , etc ) .\n"
     ]
    },
    {
     "ename": "",
     "evalue": "",
     "output_type": "error",
     "traceback": [
      "\u001b[1;31mThe Kernel crashed while executing code in the current cell or a previous cell. \n",
      "\u001b[1;31mPlease review the code in the cell(s) to identify a possible cause of the failure. \n",
      "\u001b[1;31mClick <a href='https://aka.ms/vscodeJupyterKernelCrash'>here</a> for more info. \n",
      "\u001b[1;31mView Jupyter <a href='command:jupyter.viewOutput'>log</a> for further details."
     ]
    }
   ],
   "source": [
    "documents = [docs[i] for i, topic in enumerate(topic_model.topics_) if topic == topic_id]\n",
    "print('Number of Documents: '+str(len(documents))+'\\n')\n",
    "for i in range(25):\n",
    "    print(documents[i])"
   ]
  },
  {
   "cell_type": "code",
   "execution_count": 38,
   "metadata": {},
   "outputs": [],
   "source": [
    "topic_model.merge_topics(docs, [-1,500])"
   ]
  },
  {
   "cell_type": "code",
   "execution_count": 39,
   "metadata": {},
   "outputs": [
    {
     "data": {
      "application/vnd.plotly.v1+json": {
       "config": {
        "plotlyServerURL": "https://plot.ly"
       },
       "data": [
        {
         "hoverinfo": "text",
         "marker": {
          "color": "rgb(61,153,112)"
         },
         "mode": "lines",
         "type": "scatter",
         "x": [
          0,
          0.7832235812196174,
          0.7832235812196174,
          0
         ],
         "xaxis": "x",
         "y": [
          -15,
          -15,
          -25,
          -25
         ],
         "yaxis": "y"
        },
        {
         "hoverinfo": "text",
         "marker": {
          "color": "rgb(61,153,112)"
         },
         "mode": "lines",
         "type": "scatter",
         "x": [
          0,
          0.8202468582435113,
          0.8202468582435113,
          0.7832235812196174
         ],
         "xaxis": "x",
         "y": [
          -5,
          -5,
          -20,
          -20
         ],
         "yaxis": "y"
        },
        {
         "hoverinfo": "text",
         "marker": {
          "color": "rgb(61,153,112)"
         },
         "mode": "lines",
         "type": "scatter",
         "x": [
          0,
          0.6239861789720919,
          0.6239861789720919,
          0
         ],
         "xaxis": "x",
         "y": [
          -45,
          -45,
          -55,
          -55
         ],
         "yaxis": "y"
        },
        {
         "hoverinfo": "text",
         "marker": {
          "color": "rgb(61,153,112)"
         },
         "mode": "lines",
         "type": "scatter",
         "x": [
          0,
          0.6859405870704248,
          0.6859405870704248,
          0.6239861789720919
         ],
         "xaxis": "x",
         "y": [
          -35,
          -35,
          -50,
          -50
         ],
         "yaxis": "y"
        },
        {
         "hoverinfo": "text",
         "marker": {
          "color": "rgb(61,153,112)"
         },
         "mode": "lines",
         "type": "scatter",
         "x": [
          0.8202468582435113,
          0.8980475146651564,
          0.8980475146651564,
          0.6859405870704248
         ],
         "xaxis": "x",
         "y": [
          -12.5,
          -12.5,
          -42.5,
          -42.5
         ],
         "yaxis": "y"
        },
        {
         "hoverinfo": "text",
         "marker": {
          "color": "rgb(255,65,54)"
         },
         "mode": "lines",
         "type": "scatter",
         "x": [
          0,
          0.6877045114741569,
          0.6877045114741569,
          0
         ],
         "xaxis": "x",
         "y": [
          -75,
          -75,
          -85,
          -85
         ],
         "yaxis": "y"
        },
        {
         "hoverinfo": "text",
         "marker": {
          "color": "rgb(255,65,54)"
         },
         "mode": "lines",
         "type": "scatter",
         "x": [
          0,
          0.5937241840165962,
          0.5937241840165962,
          0
         ],
         "xaxis": "x",
         "y": [
          -115,
          -115,
          -125,
          -125
         ],
         "yaxis": "y"
        },
        {
         "hoverinfo": "text",
         "marker": {
          "color": "rgb(255,65,54)"
         },
         "mode": "lines",
         "type": "scatter",
         "x": [
          0,
          0.6270914166489666,
          0.6270914166489666,
          0.5937241840165962
         ],
         "xaxis": "x",
         "y": [
          -105,
          -105,
          -120,
          -120
         ],
         "yaxis": "y"
        },
        {
         "hoverinfo": "text",
         "marker": {
          "color": "rgb(255,65,54)"
         },
         "mode": "lines",
         "type": "scatter",
         "x": [
          0.6270914166489666,
          0.6540135724982947,
          0.6540135724982947,
          0
         ],
         "xaxis": "x",
         "y": [
          -112.5,
          -112.5,
          -135,
          -135
         ],
         "yaxis": "y"
        },
        {
         "hoverinfo": "text",
         "marker": {
          "color": "rgb(255,65,54)"
         },
         "mode": "lines",
         "type": "scatter",
         "x": [
          0,
          0.6645239672648968,
          0.6645239672648968,
          0.6540135724982947
         ],
         "xaxis": "x",
         "y": [
          -95,
          -95,
          -123.75,
          -123.75
         ],
         "yaxis": "y"
        },
        {
         "hoverinfo": "text",
         "marker": {
          "color": "rgb(255,65,54)"
         },
         "mode": "lines",
         "type": "scatter",
         "x": [
          0.6877045114741569,
          0.7189988546437485,
          0.7189988546437485,
          0.6645239672648968
         ],
         "xaxis": "x",
         "y": [
          -80,
          -80,
          -109.375,
          -109.375
         ],
         "yaxis": "y"
        },
        {
         "hoverinfo": "text",
         "marker": {
          "color": "rgb(255,65,54)"
         },
         "mode": "lines",
         "type": "scatter",
         "x": [
          0.7189988546437485,
          0.7421879802242484,
          0.7421879802242484,
          0
         ],
         "xaxis": "x",
         "y": [
          -94.6875,
          -94.6875,
          -145,
          -145
         ],
         "yaxis": "y"
        },
        {
         "hoverinfo": "text",
         "marker": {
          "color": "rgb(255,65,54)"
         },
         "mode": "lines",
         "type": "scatter",
         "x": [
          0,
          0.7772880526226824,
          0.7772880526226824,
          0.7421879802242484
         ],
         "xaxis": "x",
         "y": [
          -65,
          -65,
          -119.84375,
          -119.84375
         ],
         "yaxis": "y"
        },
        {
         "hoverinfo": "text",
         "marker": {
          "color": "rgb(0,116,217)"
         },
         "mode": "lines",
         "type": "scatter",
         "x": [
          0.8980475146651564,
          1.0161606459545345,
          1.0161606459545345,
          0.7772880526226824
         ],
         "xaxis": "x",
         "y": [
          -27.5,
          -27.5,
          -92.421875,
          -92.421875
         ],
         "yaxis": "y"
        },
        {
         "hoverinfo": "text",
         "marker": {
          "color": "rgb(35,205,205)"
         },
         "mode": "lines",
         "type": "scatter",
         "x": [
          0,
          0.30192681968260926,
          0.30192681968260926,
          0
         ],
         "xaxis": "x",
         "y": [
          -175,
          -175,
          -185,
          -185
         ],
         "yaxis": "y"
        },
        {
         "hoverinfo": "text",
         "marker": {
          "color": "rgb(35,205,205)"
         },
         "mode": "lines",
         "type": "scatter",
         "x": [
          0,
          0.5242097762140436,
          0.5242097762140436,
          0.30192681968260926
         ],
         "xaxis": "x",
         "y": [
          -165,
          -165,
          -180,
          -180
         ],
         "yaxis": "y"
        },
        {
         "hoverinfo": "text",
         "marker": {
          "color": "rgb(35,205,205)"
         },
         "mode": "lines",
         "type": "scatter",
         "x": [
          0.5242097762140436,
          0.7211661074695547,
          0.7211661074695547,
          0
         ],
         "xaxis": "x",
         "y": [
          -172.5,
          -172.5,
          -195,
          -195
         ],
         "yaxis": "y"
        },
        {
         "hoverinfo": "text",
         "marker": {
          "color": "rgb(35,205,205)"
         },
         "mode": "lines",
         "type": "scatter",
         "x": [
          0,
          0.8209242834028874,
          0.8209242834028874,
          0.7211661074695547
         ],
         "xaxis": "x",
         "y": [
          -155,
          -155,
          -183.75,
          -183.75
         ],
         "yaxis": "y"
        },
        {
         "hoverinfo": "text",
         "marker": {
          "color": "rgb(133,20,75)"
         },
         "mode": "lines",
         "type": "scatter",
         "x": [
          0,
          0.8046106143946801,
          0.8046106143946801,
          0
         ],
         "xaxis": "x",
         "y": [
          -215,
          -215,
          -225,
          -225
         ],
         "yaxis": "y"
        },
        {
         "hoverinfo": "text",
         "marker": {
          "color": "rgb(133,20,75)"
         },
         "mode": "lines",
         "type": "scatter",
         "x": [
          0,
          0.829066272974781,
          0.829066272974781,
          0
         ],
         "xaxis": "x",
         "y": [
          -235,
          -235,
          -245,
          -245
         ],
         "yaxis": "y"
        },
        {
         "hoverinfo": "text",
         "marker": {
          "color": "rgb(133,20,75)"
         },
         "mode": "lines",
         "type": "scatter",
         "x": [
          0.8046106143946801,
          0.8422303932081043,
          0.8422303932081043,
          0.829066272974781
         ],
         "xaxis": "x",
         "y": [
          -220,
          -220,
          -240,
          -240
         ],
         "yaxis": "y"
        },
        {
         "hoverinfo": "text",
         "marker": {
          "color": "rgb(133,20,75)"
         },
         "mode": "lines",
         "type": "scatter",
         "x": [
          0,
          0.8685639471732214,
          0.8685639471732214,
          0.8422303932081043
         ],
         "xaxis": "x",
         "y": [
          -205,
          -205,
          -230,
          -230
         ],
         "yaxis": "y"
        },
        {
         "hoverinfo": "text",
         "marker": {
          "color": "rgb(255,220,0)"
         },
         "mode": "lines",
         "type": "scatter",
         "x": [
          0,
          0.6981276718097806,
          0.6981276718097806,
          0
         ],
         "xaxis": "x",
         "y": [
          -265,
          -265,
          -275,
          -275
         ],
         "yaxis": "y"
        },
        {
         "hoverinfo": "text",
         "marker": {
          "color": "rgb(255,220,0)"
         },
         "mode": "lines",
         "type": "scatter",
         "x": [
          0,
          0.8087509725173666,
          0.8087509725173666,
          0.6981276718097806
         ],
         "xaxis": "x",
         "y": [
          -255,
          -255,
          -270,
          -270
         ],
         "yaxis": "y"
        },
        {
         "hoverinfo": "text",
         "marker": {
          "color": "rgb(255,220,0)"
         },
         "mode": "lines",
         "type": "scatter",
         "x": [
          0,
          0.8535151189493475,
          0.8535151189493475,
          0
         ],
         "xaxis": "x",
         "y": [
          -285,
          -285,
          -295,
          -295
         ],
         "yaxis": "y"
        },
        {
         "hoverinfo": "text",
         "marker": {
          "color": "rgb(255,220,0)"
         },
         "mode": "lines",
         "type": "scatter",
         "x": [
          0,
          0.858452795422509,
          0.858452795422509,
          0
         ],
         "xaxis": "x",
         "y": [
          -305,
          -305,
          -315,
          -315
         ],
         "yaxis": "y"
        },
        {
         "hoverinfo": "text",
         "marker": {
          "color": "rgb(255,220,0)"
         },
         "mode": "lines",
         "type": "scatter",
         "x": [
          0.8535151189493475,
          0.8833000642005823,
          0.8833000642005823,
          0.858452795422509
         ],
         "xaxis": "x",
         "y": [
          -290,
          -290,
          -310,
          -310
         ],
         "yaxis": "y"
        },
        {
         "hoverinfo": "text",
         "marker": {
          "color": "rgb(255,220,0)"
         },
         "mode": "lines",
         "type": "scatter",
         "x": [
          0,
          0.7502766884921019,
          0.7502766884921019,
          0
         ],
         "xaxis": "x",
         "y": [
          -345,
          -345,
          -355,
          -355
         ],
         "yaxis": "y"
        },
        {
         "hoverinfo": "text",
         "marker": {
          "color": "rgb(255,220,0)"
         },
         "mode": "lines",
         "type": "scatter",
         "x": [
          0,
          0.77720272833567,
          0.77720272833567,
          0.7502766884921019
         ],
         "xaxis": "x",
         "y": [
          -335,
          -335,
          -350,
          -350
         ],
         "yaxis": "y"
        },
        {
         "hoverinfo": "text",
         "marker": {
          "color": "rgb(255,220,0)"
         },
         "mode": "lines",
         "type": "scatter",
         "x": [
          0.77720272833567,
          0.7990853294282987,
          0.7990853294282987,
          0
         ],
         "xaxis": "x",
         "y": [
          -342.5,
          -342.5,
          -365,
          -365
         ],
         "yaxis": "y"
        },
        {
         "hoverinfo": "text",
         "marker": {
          "color": "rgb(255,220,0)"
         },
         "mode": "lines",
         "type": "scatter",
         "x": [
          0,
          0.826229857613889,
          0.826229857613889,
          0.7990853294282987
         ],
         "xaxis": "x",
         "y": [
          -325,
          -325,
          -353.75,
          -353.75
         ],
         "yaxis": "y"
        },
        {
         "hoverinfo": "text",
         "marker": {
          "color": "rgb(255,220,0)"
         },
         "mode": "lines",
         "type": "scatter",
         "x": [
          0,
          0.806886104714612,
          0.806886104714612,
          0
         ],
         "xaxis": "x",
         "y": [
          -385,
          -385,
          -395,
          -395
         ],
         "yaxis": "y"
        },
        {
         "hoverinfo": "text",
         "marker": {
          "color": "rgb(255,220,0)"
         },
         "mode": "lines",
         "type": "scatter",
         "x": [
          0,
          0.8235492698025132,
          0.8235492698025132,
          0.806886104714612
         ],
         "xaxis": "x",
         "y": [
          -375,
          -375,
          -390,
          -390
         ],
         "yaxis": "y"
        },
        {
         "hoverinfo": "text",
         "marker": {
          "color": "rgb(255,220,0)"
         },
         "mode": "lines",
         "type": "scatter",
         "x": [
          0,
          0.7987574885295867,
          0.7987574885295867,
          0
         ],
         "xaxis": "x",
         "y": [
          -405,
          -405,
          -415,
          -415
         ],
         "yaxis": "y"
        },
        {
         "hoverinfo": "text",
         "marker": {
          "color": "rgb(255,220,0)"
         },
         "mode": "lines",
         "type": "scatter",
         "x": [
          0.8235492698025132,
          0.8338059115902394,
          0.8338059115902394,
          0.7987574885295867
         ],
         "xaxis": "x",
         "y": [
          -382.5,
          -382.5,
          -410,
          -410
         ],
         "yaxis": "y"
        },
        {
         "hoverinfo": "text",
         "marker": {
          "color": "rgb(255,220,0)"
         },
         "mode": "lines",
         "type": "scatter",
         "x": [
          0,
          0.8099183652843868,
          0.8099183652843868,
          0
         ],
         "xaxis": "x",
         "y": [
          -435,
          -435,
          -445,
          -445
         ],
         "yaxis": "y"
        },
        {
         "hoverinfo": "text",
         "marker": {
          "color": "rgb(255,220,0)"
         },
         "mode": "lines",
         "type": "scatter",
         "x": [
          0,
          0.8223443427157772,
          0.8223443427157772,
          0.8099183652843868
         ],
         "xaxis": "x",
         "y": [
          -425,
          -425,
          -440,
          -440
         ],
         "yaxis": "y"
        },
        {
         "hoverinfo": "text",
         "marker": {
          "color": "rgb(255,220,0)"
         },
         "mode": "lines",
         "type": "scatter",
         "x": [
          0,
          0.7990886322240318,
          0.7990886322240318,
          0
         ],
         "xaxis": "x",
         "y": [
          -455,
          -455,
          -465,
          -465
         ],
         "yaxis": "y"
        },
        {
         "hoverinfo": "text",
         "marker": {
          "color": "rgb(255,220,0)"
         },
         "mode": "lines",
         "type": "scatter",
         "x": [
          0.8223443427157772,
          0.8353368537505507,
          0.8353368537505507,
          0.7990886322240318
         ],
         "xaxis": "x",
         "y": [
          -432.5,
          -432.5,
          -460,
          -460
         ],
         "yaxis": "y"
        },
        {
         "hoverinfo": "text",
         "marker": {
          "color": "rgb(255,220,0)"
         },
         "mode": "lines",
         "type": "scatter",
         "x": [
          0.8338059115902394,
          0.8484787876952361,
          0.8484787876952361,
          0.8353368537505507
         ],
         "xaxis": "x",
         "y": [
          -396.25,
          -396.25,
          -446.25,
          -446.25
         ],
         "yaxis": "y"
        },
        {
         "hoverinfo": "text",
         "marker": {
          "color": "rgb(255,220,0)"
         },
         "mode": "lines",
         "type": "scatter",
         "x": [
          0,
          0.793056072050765,
          0.793056072050765,
          0
         ],
         "xaxis": "x",
         "y": [
          -485,
          -485,
          -495,
          -495
         ],
         "yaxis": "y"
        },
        {
         "hoverinfo": "text",
         "marker": {
          "color": "rgb(255,220,0)"
         },
         "mode": "lines",
         "type": "scatter",
         "x": [
          0,
          0.8089440674953732,
          0.8089440674953732,
          0.793056072050765
         ],
         "xaxis": "x",
         "y": [
          -475,
          -475,
          -490,
          -490
         ],
         "yaxis": "y"
        },
        {
         "hoverinfo": "text",
         "marker": {
          "color": "rgb(255,220,0)"
         },
         "mode": "lines",
         "type": "scatter",
         "x": [
          0.8089440674953732,
          0.830259230192845,
          0.830259230192845,
          0
         ],
         "xaxis": "x",
         "y": [
          -482.5,
          -482.5,
          -505,
          -505
         ],
         "yaxis": "y"
        },
        {
         "hoverinfo": "text",
         "marker": {
          "color": "rgb(255,220,0)"
         },
         "mode": "lines",
         "type": "scatter",
         "x": [
          0.8484787876952361,
          0.8579150191875758,
          0.8579150191875758,
          0.830259230192845
         ],
         "xaxis": "x",
         "y": [
          -421.25,
          -421.25,
          -493.75,
          -493.75
         ],
         "yaxis": "y"
        },
        {
         "hoverinfo": "text",
         "marker": {
          "color": "rgb(255,220,0)"
         },
         "mode": "lines",
         "type": "scatter",
         "x": [
          0.826229857613889,
          0.860760874985516,
          0.860760874985516,
          0.8579150191875758
         ],
         "xaxis": "x",
         "y": [
          -339.375,
          -339.375,
          -457.5,
          -457.5
         ],
         "yaxis": "y"
        },
        {
         "hoverinfo": "text",
         "marker": {
          "color": "rgb(255,220,0)"
         },
         "mode": "lines",
         "type": "scatter",
         "x": [
          0,
          0.8154201179353868,
          0.8154201179353868,
          0
         ],
         "xaxis": "x",
         "y": [
          -525,
          -525,
          -535,
          -535
         ],
         "yaxis": "y"
        },
        {
         "hoverinfo": "text",
         "marker": {
          "color": "rgb(255,220,0)"
         },
         "mode": "lines",
         "type": "scatter",
         "x": [
          0,
          0.830454975628413,
          0.830454975628413,
          0.8154201179353868
         ],
         "xaxis": "x",
         "y": [
          -515,
          -515,
          -530,
          -530
         ],
         "yaxis": "y"
        },
        {
         "hoverinfo": "text",
         "marker": {
          "color": "rgb(255,220,0)"
         },
         "mode": "lines",
         "type": "scatter",
         "x": [
          0,
          0.8177441318109866,
          0.8177441318109866,
          0
         ],
         "xaxis": "x",
         "y": [
          -555,
          -555,
          -565,
          -565
         ],
         "yaxis": "y"
        },
        {
         "hoverinfo": "text",
         "marker": {
          "color": "rgb(255,220,0)"
         },
         "mode": "lines",
         "type": "scatter",
         "x": [
          0,
          0.8365664176087698,
          0.8365664176087698,
          0.8177441318109866
         ],
         "xaxis": "x",
         "y": [
          -545,
          -545,
          -560,
          -560
         ],
         "yaxis": "y"
        },
        {
         "hoverinfo": "text",
         "marker": {
          "color": "rgb(255,220,0)"
         },
         "mode": "lines",
         "type": "scatter",
         "x": [
          0.830454975628413,
          0.8417992922542668,
          0.8417992922542668,
          0.8365664176087698
         ],
         "xaxis": "x",
         "y": [
          -522.5,
          -522.5,
          -552.5,
          -552.5
         ],
         "yaxis": "y"
        },
        {
         "hoverinfo": "text",
         "marker": {
          "color": "rgb(255,220,0)"
         },
         "mode": "lines",
         "type": "scatter",
         "x": [
          0,
          0.8513477045759109,
          0.8513477045759109,
          0
         ],
         "xaxis": "x",
         "y": [
          -575,
          -575,
          -585,
          -585
         ],
         "yaxis": "y"
        },
        {
         "hoverinfo": "text",
         "marker": {
          "color": "rgb(255,220,0)"
         },
         "mode": "lines",
         "type": "scatter",
         "x": [
          0.8417992922542668,
          0.8643578387104819,
          0.8643578387104819,
          0.8513477045759109
         ],
         "xaxis": "x",
         "y": [
          -537.5,
          -537.5,
          -580,
          -580
         ],
         "yaxis": "y"
        },
        {
         "hoverinfo": "text",
         "marker": {
          "color": "rgb(255,220,0)"
         },
         "mode": "lines",
         "type": "scatter",
         "x": [
          0.860760874985516,
          0.8849608073050009,
          0.8849608073050009,
          0.8643578387104819
         ],
         "xaxis": "x",
         "y": [
          -398.4375,
          -398.4375,
          -558.75,
          -558.75
         ],
         "yaxis": "y"
        },
        {
         "hoverinfo": "text",
         "marker": {
          "color": "rgb(255,220,0)"
         },
         "mode": "lines",
         "type": "scatter",
         "x": [
          0.8833000642005823,
          0.9199732609935701,
          0.9199732609935701,
          0.8849608073050009
         ],
         "xaxis": "x",
         "y": [
          -300,
          -300,
          -478.59375,
          -478.59375
         ],
         "yaxis": "y"
        },
        {
         "hoverinfo": "text",
         "marker": {
          "color": "rgb(255,220,0)"
         },
         "mode": "lines",
         "type": "scatter",
         "x": [
          0,
          0.830726075249406,
          0.830726075249406,
          0
         ],
         "xaxis": "x",
         "y": [
          -605,
          -605,
          -615,
          -615
         ],
         "yaxis": "y"
        },
        {
         "hoverinfo": "text",
         "marker": {
          "color": "rgb(255,220,0)"
         },
         "mode": "lines",
         "type": "scatter",
         "x": [
          0.830726075249406,
          0.8429872052248775,
          0.8429872052248775,
          0
         ],
         "xaxis": "x",
         "y": [
          -610,
          -610,
          -625,
          -625
         ],
         "yaxis": "y"
        },
        {
         "hoverinfo": "text",
         "marker": {
          "color": "rgb(255,220,0)"
         },
         "mode": "lines",
         "type": "scatter",
         "x": [
          0,
          0.8523437331254771,
          0.8523437331254771,
          0.8429872052248775
         ],
         "xaxis": "x",
         "y": [
          -595,
          -595,
          -617.5,
          -617.5
         ],
         "yaxis": "y"
        },
        {
         "hoverinfo": "text",
         "marker": {
          "color": "rgb(255,220,0)"
         },
         "mode": "lines",
         "type": "scatter",
         "x": [
          0,
          0.8223873455675359,
          0.8223873455675359,
          0
         ],
         "xaxis": "x",
         "y": [
          -635,
          -635,
          -645,
          -645
         ],
         "yaxis": "y"
        },
        {
         "hoverinfo": "text",
         "marker": {
          "color": "rgb(255,220,0)"
         },
         "mode": "lines",
         "type": "scatter",
         "x": [
          0,
          0.8205144514760464,
          0.8205144514760464,
          0
         ],
         "xaxis": "x",
         "y": [
          -655,
          -655,
          -665,
          -665
         ],
         "yaxis": "y"
        },
        {
         "hoverinfo": "text",
         "marker": {
          "color": "rgb(255,220,0)"
         },
         "mode": "lines",
         "type": "scatter",
         "x": [
          0,
          0.7813239311182691,
          0.7813239311182691,
          0
         ],
         "xaxis": "x",
         "y": [
          -675,
          -675,
          -685,
          -685
         ],
         "yaxis": "y"
        },
        {
         "hoverinfo": "text",
         "marker": {
          "color": "rgb(255,220,0)"
         },
         "mode": "lines",
         "type": "scatter",
         "x": [
          0.7813239311182691,
          0.819812960612295,
          0.819812960612295,
          0
         ],
         "xaxis": "x",
         "y": [
          -680,
          -680,
          -695,
          -695
         ],
         "yaxis": "y"
        },
        {
         "hoverinfo": "text",
         "marker": {
          "color": "rgb(255,220,0)"
         },
         "mode": "lines",
         "type": "scatter",
         "x": [
          0.8205144514760464,
          0.8356680025079473,
          0.8356680025079473,
          0.819812960612295
         ],
         "xaxis": "x",
         "y": [
          -660,
          -660,
          -687.5,
          -687.5
         ],
         "yaxis": "y"
        },
        {
         "hoverinfo": "text",
         "marker": {
          "color": "rgb(255,220,0)"
         },
         "mode": "lines",
         "type": "scatter",
         "x": [
          0,
          0.8371356850079414,
          0.8371356850079414,
          0
         ],
         "xaxis": "x",
         "y": [
          -705,
          -705,
          -715,
          -715
         ],
         "yaxis": "y"
        },
        {
         "hoverinfo": "text",
         "marker": {
          "color": "rgb(255,220,0)"
         },
         "mode": "lines",
         "type": "scatter",
         "x": [
          0.8356680025079473,
          0.8482586888397645,
          0.8482586888397645,
          0.8371356850079414
         ],
         "xaxis": "x",
         "y": [
          -673.75,
          -673.75,
          -710,
          -710
         ],
         "yaxis": "y"
        },
        {
         "hoverinfo": "text",
         "marker": {
          "color": "rgb(255,220,0)"
         },
         "mode": "lines",
         "type": "scatter",
         "x": [
          0.8223873455675359,
          0.8618682635568716,
          0.8618682635568716,
          0.8482586888397645
         ],
         "xaxis": "x",
         "y": [
          -640,
          -640,
          -691.875,
          -691.875
         ],
         "yaxis": "y"
        },
        {
         "hoverinfo": "text",
         "marker": {
          "color": "rgb(255,220,0)"
         },
         "mode": "lines",
         "type": "scatter",
         "x": [
          0,
          0.8033782006109107,
          0.8033782006109107,
          0
         ],
         "xaxis": "x",
         "y": [
          -735,
          -735,
          -745,
          -745
         ],
         "yaxis": "y"
        },
        {
         "hoverinfo": "text",
         "marker": {
          "color": "rgb(255,220,0)"
         },
         "mode": "lines",
         "type": "scatter",
         "x": [
          0,
          0.8316542915983071,
          0.8316542915983071,
          0.8033782006109107
         ],
         "xaxis": "x",
         "y": [
          -725,
          -725,
          -740,
          -740
         ],
         "yaxis": "y"
        },
        {
         "hoverinfo": "text",
         "marker": {
          "color": "rgb(255,220,0)"
         },
         "mode": "lines",
         "type": "scatter",
         "x": [
          0.8316542915983071,
          0.8448322156673164,
          0.8448322156673164,
          0
         ],
         "xaxis": "x",
         "y": [
          -732.5,
          -732.5,
          -755,
          -755
         ],
         "yaxis": "y"
        },
        {
         "hoverinfo": "text",
         "marker": {
          "color": "rgb(255,220,0)"
         },
         "mode": "lines",
         "type": "scatter",
         "x": [
          0.8618682635568716,
          0.8669691592193114,
          0.8669691592193114,
          0.8448322156673164
         ],
         "xaxis": "x",
         "y": [
          -665.9375,
          -665.9375,
          -743.75,
          -743.75
         ],
         "yaxis": "y"
        },
        {
         "hoverinfo": "text",
         "marker": {
          "color": "rgb(255,220,0)"
         },
         "mode": "lines",
         "type": "scatter",
         "x": [
          0.8523437331254771,
          0.8817111873713936,
          0.8817111873713936,
          0.8669691592193114
         ],
         "xaxis": "x",
         "y": [
          -606.25,
          -606.25,
          -704.84375,
          -704.84375
         ],
         "yaxis": "y"
        },
        {
         "hoverinfo": "text",
         "marker": {
          "color": "rgb(255,220,0)"
         },
         "mode": "lines",
         "type": "scatter",
         "x": [
          0.9199732609935701,
          0.9339304905458345,
          0.9339304905458345,
          0.8817111873713936
         ],
         "xaxis": "x",
         "y": [
          -389.296875,
          -389.296875,
          -655.546875,
          -655.546875
         ],
         "yaxis": "y"
        },
        {
         "hoverinfo": "text",
         "marker": {
          "color": "rgb(255,220,0)"
         },
         "mode": "lines",
         "type": "scatter",
         "x": [
          0,
          0.6581339304623826,
          0.6581339304623826,
          0
         ],
         "xaxis": "x",
         "y": [
          -765,
          -765,
          -775,
          -775
         ],
         "yaxis": "y"
        },
        {
         "hoverinfo": "text",
         "marker": {
          "color": "rgb(255,220,0)"
         },
         "mode": "lines",
         "type": "scatter",
         "x": [
          0,
          0.7925226618974487,
          0.7925226618974487,
          0
         ],
         "xaxis": "x",
         "y": [
          -795,
          -795,
          -805,
          -805
         ],
         "yaxis": "y"
        },
        {
         "hoverinfo": "text",
         "marker": {
          "color": "rgb(255,220,0)"
         },
         "mode": "lines",
         "type": "scatter",
         "x": [
          0,
          0.8764881578083642,
          0.8764881578083642,
          0.7925226618974487
         ],
         "xaxis": "x",
         "y": [
          -785,
          -785,
          -800,
          -800
         ],
         "yaxis": "y"
        },
        {
         "hoverinfo": "text",
         "marker": {
          "color": "rgb(255,220,0)"
         },
         "mode": "lines",
         "type": "scatter",
         "x": [
          0,
          0.8106136670901676,
          0.8106136670901676,
          0
         ],
         "xaxis": "x",
         "y": [
          -815,
          -815,
          -825,
          -825
         ],
         "yaxis": "y"
        },
        {
         "hoverinfo": "text",
         "marker": {
          "color": "rgb(255,220,0)"
         },
         "mode": "lines",
         "type": "scatter",
         "x": [
          0.8106136670901676,
          0.8506221438300539,
          0.8506221438300539,
          0
         ],
         "xaxis": "x",
         "y": [
          -820,
          -820,
          -835,
          -835
         ],
         "yaxis": "y"
        },
        {
         "hoverinfo": "text",
         "marker": {
          "color": "rgb(255,220,0)"
         },
         "mode": "lines",
         "type": "scatter",
         "x": [
          0.8764881578083642,
          0.9074802169318075,
          0.9074802169318075,
          0.8506221438300539
         ],
         "xaxis": "x",
         "y": [
          -792.5,
          -792.5,
          -827.5,
          -827.5
         ],
         "yaxis": "y"
        },
        {
         "hoverinfo": "text",
         "marker": {
          "color": "rgb(255,220,0)"
         },
         "mode": "lines",
         "type": "scatter",
         "x": [
          0,
          0.8430226003282127,
          0.8430226003282127,
          0
         ],
         "xaxis": "x",
         "y": [
          -855,
          -855,
          -865,
          -865
         ],
         "yaxis": "y"
        },
        {
         "hoverinfo": "text",
         "marker": {
          "color": "rgb(255,220,0)"
         },
         "mode": "lines",
         "type": "scatter",
         "x": [
          0,
          0.8587475483632859,
          0.8587475483632859,
          0.8430226003282127
         ],
         "xaxis": "x",
         "y": [
          -845,
          -845,
          -860,
          -860
         ],
         "yaxis": "y"
        },
        {
         "hoverinfo": "text",
         "marker": {
          "color": "rgb(255,220,0)"
         },
         "mode": "lines",
         "type": "scatter",
         "x": [
          0,
          0.8384533069987516,
          0.8384533069987516,
          0
         ],
         "xaxis": "x",
         "y": [
          -875,
          -875,
          -885,
          -885
         ],
         "yaxis": "y"
        },
        {
         "hoverinfo": "text",
         "marker": {
          "color": "rgb(255,220,0)"
         },
         "mode": "lines",
         "type": "scatter",
         "x": [
          0.8587475483632859,
          0.8634228595429836,
          0.8634228595429836,
          0.8384533069987516
         ],
         "xaxis": "x",
         "y": [
          -852.5,
          -852.5,
          -880,
          -880
         ],
         "yaxis": "y"
        },
        {
         "hoverinfo": "text",
         "marker": {
          "color": "rgb(255,220,0)"
         },
         "mode": "lines",
         "type": "scatter",
         "x": [
          0,
          0.8423546381941882,
          0.8423546381941882,
          0
         ],
         "xaxis": "x",
         "y": [
          -895,
          -895,
          -905,
          -905
         ],
         "yaxis": "y"
        },
        {
         "hoverinfo": "text",
         "marker": {
          "color": "rgb(255,220,0)"
         },
         "mode": "lines",
         "type": "scatter",
         "x": [
          0.8423546381941882,
          0.8487384617376119,
          0.8487384617376119,
          0
         ],
         "xaxis": "x",
         "y": [
          -900,
          -900,
          -915,
          -915
         ],
         "yaxis": "y"
        },
        {
         "hoverinfo": "text",
         "marker": {
          "color": "rgb(255,220,0)"
         },
         "mode": "lines",
         "type": "scatter",
         "x": [
          0,
          0.8560060290852809,
          0.8560060290852809,
          0
         ],
         "xaxis": "x",
         "y": [
          -925,
          -925,
          -935,
          -935
         ],
         "yaxis": "y"
        },
        {
         "hoverinfo": "text",
         "marker": {
          "color": "rgb(255,220,0)"
         },
         "mode": "lines",
         "type": "scatter",
         "x": [
          0.8487384617376119,
          0.8791866527853648,
          0.8791866527853648,
          0.8560060290852809
         ],
         "xaxis": "x",
         "y": [
          -907.5,
          -907.5,
          -930,
          -930
         ],
         "yaxis": "y"
        },
        {
         "hoverinfo": "text",
         "marker": {
          "color": "rgb(255,220,0)"
         },
         "mode": "lines",
         "type": "scatter",
         "x": [
          0.8634228595429836,
          0.8828846498171673,
          0.8828846498171673,
          0.8791866527853648
         ],
         "xaxis": "x",
         "y": [
          -866.25,
          -866.25,
          -918.75,
          -918.75
         ],
         "yaxis": "y"
        },
        {
         "hoverinfo": "text",
         "marker": {
          "color": "rgb(255,220,0)"
         },
         "mode": "lines",
         "type": "scatter",
         "x": [
          0.9074802169318075,
          0.9100329110364886,
          0.9100329110364886,
          0.8828846498171673
         ],
         "xaxis": "x",
         "y": [
          -810,
          -810,
          -892.5,
          -892.5
         ],
         "yaxis": "y"
        },
        {
         "hoverinfo": "text",
         "marker": {
          "color": "rgb(255,220,0)"
         },
         "mode": "lines",
         "type": "scatter",
         "x": [
          0,
          0.7882508065883365,
          0.7882508065883365,
          0
         ],
         "xaxis": "x",
         "y": [
          -945,
          -945,
          -955,
          -955
         ],
         "yaxis": "y"
        },
        {
         "hoverinfo": "text",
         "marker": {
          "color": "rgb(255,220,0)"
         },
         "mode": "lines",
         "type": "scatter",
         "x": [
          0.7882508065883365,
          0.86459876696702,
          0.86459876696702,
          0
         ],
         "xaxis": "x",
         "y": [
          -950,
          -950,
          -965,
          -965
         ],
         "yaxis": "y"
        },
        {
         "hoverinfo": "text",
         "marker": {
          "color": "rgb(255,220,0)"
         },
         "mode": "lines",
         "type": "scatter",
         "x": [
          0.9100329110364886,
          0.940755978872148,
          0.940755978872148,
          0.86459876696702
         ],
         "xaxis": "x",
         "y": [
          -851.25,
          -851.25,
          -957.5,
          -957.5
         ],
         "yaxis": "y"
        },
        {
         "hoverinfo": "text",
         "marker": {
          "color": "rgb(255,220,0)"
         },
         "mode": "lines",
         "type": "scatter",
         "x": [
          0.6581339304623826,
          0.9462421937258821,
          0.9462421937258821,
          0.940755978872148
         ],
         "xaxis": "x",
         "y": [
          -770,
          -770,
          -904.375,
          -904.375
         ],
         "yaxis": "y"
        },
        {
         "hoverinfo": "text",
         "marker": {
          "color": "rgb(255,220,0)"
         },
         "mode": "lines",
         "type": "scatter",
         "x": [
          0.9339304905458345,
          0.9496530355054402,
          0.9496530355054402,
          0.9462421937258821
         ],
         "xaxis": "x",
         "y": [
          -522.421875,
          -522.421875,
          -837.1875,
          -837.1875
         ],
         "yaxis": "y"
        },
        {
         "hoverinfo": "text",
         "marker": {
          "color": "rgb(255,220,0)"
         },
         "mode": "lines",
         "type": "scatter",
         "x": [
          0.8087509725173666,
          0.9664973973316577,
          0.9664973973316577,
          0.9496530355054402
         ],
         "xaxis": "x",
         "y": [
          -262.5,
          -262.5,
          -679.8046875,
          -679.8046875
         ],
         "yaxis": "y"
        },
        {
         "hoverinfo": "text",
         "marker": {
          "color": "rgb(255,220,0)"
         },
         "mode": "lines",
         "type": "scatter",
         "x": [
          0,
          0.7736756274222125,
          0.7736756274222125,
          0
         ],
         "xaxis": "x",
         "y": [
          -985,
          -985,
          -995,
          -995
         ],
         "yaxis": "y"
        },
        {
         "hoverinfo": "text",
         "marker": {
          "color": "rgb(255,220,0)"
         },
         "mode": "lines",
         "type": "scatter",
         "x": [
          0.7736756274222125,
          0.7868677795232155,
          0.7868677795232155,
          0
         ],
         "xaxis": "x",
         "y": [
          -990,
          -990,
          -1005,
          -1005
         ],
         "yaxis": "y"
        },
        {
         "hoverinfo": "text",
         "marker": {
          "color": "rgb(255,220,0)"
         },
         "mode": "lines",
         "type": "scatter",
         "x": [
          0,
          0.8111046138596979,
          0.8111046138596979,
          0.7868677795232155
         ],
         "xaxis": "x",
         "y": [
          -975,
          -975,
          -997.5,
          -997.5
         ],
         "yaxis": "y"
        },
        {
         "hoverinfo": "text",
         "marker": {
          "color": "rgb(255,220,0)"
         },
         "mode": "lines",
         "type": "scatter",
         "x": [
          0,
          0.7108938446061966,
          0.7108938446061966,
          0
         ],
         "xaxis": "x",
         "y": [
          -1015,
          -1015,
          -1025,
          -1025
         ],
         "yaxis": "y"
        },
        {
         "hoverinfo": "text",
         "marker": {
          "color": "rgb(255,220,0)"
         },
         "mode": "lines",
         "type": "scatter",
         "x": [
          0.7108938446061966,
          0.8227448643613153,
          0.8227448643613153,
          0
         ],
         "xaxis": "x",
         "y": [
          -1020,
          -1020,
          -1035,
          -1035
         ],
         "yaxis": "y"
        },
        {
         "hoverinfo": "text",
         "marker": {
          "color": "rgb(255,220,0)"
         },
         "mode": "lines",
         "type": "scatter",
         "x": [
          0.8111046138596979,
          0.9450919114692679,
          0.9450919114692679,
          0.8227448643613153
         ],
         "xaxis": "x",
         "y": [
          -986.25,
          -986.25,
          -1027.5,
          -1027.5
         ],
         "yaxis": "y"
        },
        {
         "hoverinfo": "text",
         "marker": {
          "color": "rgb(255,220,0)"
         },
         "mode": "lines",
         "type": "scatter",
         "x": [
          0.9664973973316577,
          0.9987102360048856,
          0.9987102360048856,
          0.9450919114692679
         ],
         "xaxis": "x",
         "y": [
          -471.15234375,
          -471.15234375,
          -1006.875,
          -1006.875
         ],
         "yaxis": "y"
        },
        {
         "hoverinfo": "text",
         "marker": {
          "color": "rgb(40,35,35)"
         },
         "mode": "lines",
         "type": "scatter",
         "x": [
          0,
          0.7418115305122341,
          0.7418115305122341,
          0
         ],
         "xaxis": "x",
         "y": [
          -1075,
          -1075,
          -1085,
          -1085
         ],
         "yaxis": "y"
        },
        {
         "hoverinfo": "text",
         "marker": {
          "color": "rgb(40,35,35)"
         },
         "mode": "lines",
         "type": "scatter",
         "x": [
          0,
          0.7921323458207523,
          0.7921323458207523,
          0.7418115305122341
         ],
         "xaxis": "x",
         "y": [
          -1065,
          -1065,
          -1080,
          -1080
         ],
         "yaxis": "y"
        },
        {
         "hoverinfo": "text",
         "marker": {
          "color": "rgb(40,35,35)"
         },
         "mode": "lines",
         "type": "scatter",
         "x": [
          0.7921323458207523,
          0.8221611408184188,
          0.8221611408184188,
          0
         ],
         "xaxis": "x",
         "y": [
          -1072.5,
          -1072.5,
          -1095,
          -1095
         ],
         "yaxis": "y"
        },
        {
         "hoverinfo": "text",
         "marker": {
          "color": "rgb(40,35,35)"
         },
         "mode": "lines",
         "type": "scatter",
         "x": [
          0,
          0.8508576350611224,
          0.8508576350611224,
          0.8221611408184188
         ],
         "xaxis": "x",
         "y": [
          -1055,
          -1055,
          -1083.75,
          -1083.75
         ],
         "yaxis": "y"
        },
        {
         "hoverinfo": "text",
         "marker": {
          "color": "rgb(40,35,35)"
         },
         "mode": "lines",
         "type": "scatter",
         "x": [
          0,
          0.8760298386729984,
          0.8760298386729984,
          0.8508576350611224
         ],
         "xaxis": "x",
         "y": [
          -1045,
          -1045,
          -1069.375,
          -1069.375
         ],
         "yaxis": "y"
        },
        {
         "hoverinfo": "text",
         "marker": {
          "color": "rgb(40,35,35)"
         },
         "mode": "lines",
         "type": "scatter",
         "x": [
          0,
          0.7505134335310517,
          0.7505134335310517,
          0
         ],
         "xaxis": "x",
         "y": [
          -1105,
          -1105,
          -1115,
          -1115
         ],
         "yaxis": "y"
        },
        {
         "hoverinfo": "text",
         "marker": {
          "color": "rgb(40,35,35)"
         },
         "mode": "lines",
         "type": "scatter",
         "x": [
          0,
          0.8056860788869434,
          0.8056860788869434,
          0
         ],
         "xaxis": "x",
         "y": [
          -1125,
          -1125,
          -1135,
          -1135
         ],
         "yaxis": "y"
        },
        {
         "hoverinfo": "text",
         "marker": {
          "color": "rgb(40,35,35)"
         },
         "mode": "lines",
         "type": "scatter",
         "x": [
          0,
          0.8154314122970687,
          0.8154314122970687,
          0
         ],
         "xaxis": "x",
         "y": [
          -1145,
          -1145,
          -1155,
          -1155
         ],
         "yaxis": "y"
        },
        {
         "hoverinfo": "text",
         "marker": {
          "color": "rgb(40,35,35)"
         },
         "mode": "lines",
         "type": "scatter",
         "x": [
          0.8056860788869434,
          0.8442473453398623,
          0.8442473453398623,
          0.8154314122970687
         ],
         "xaxis": "x",
         "y": [
          -1130,
          -1130,
          -1150,
          -1150
         ],
         "yaxis": "y"
        },
        {
         "hoverinfo": "text",
         "marker": {
          "color": "rgb(40,35,35)"
         },
         "mode": "lines",
         "type": "scatter",
         "x": [
          0.7505134335310517,
          0.9253324586255476,
          0.9253324586255476,
          0.8442473453398623
         ],
         "xaxis": "x",
         "y": [
          -1110,
          -1110,
          -1140,
          -1140
         ],
         "yaxis": "y"
        },
        {
         "hoverinfo": "text",
         "marker": {
          "color": "rgb(40,35,35)"
         },
         "mode": "lines",
         "type": "scatter",
         "x": [
          0.8760298386729984,
          0.9326470121651246,
          0.9326470121651246,
          0.9253324586255476
         ],
         "xaxis": "x",
         "y": [
          -1057.1875,
          -1057.1875,
          -1125,
          -1125
         ],
         "yaxis": "y"
        },
        {
         "hoverinfo": "text",
         "marker": {
          "color": "rgb(40,35,35)"
         },
         "mode": "lines",
         "type": "scatter",
         "x": [
          0,
          0.7173521417893391,
          0.7173521417893391,
          0
         ],
         "xaxis": "x",
         "y": [
          -1195,
          -1195,
          -1205,
          -1205
         ],
         "yaxis": "y"
        },
        {
         "hoverinfo": "text",
         "marker": {
          "color": "rgb(40,35,35)"
         },
         "mode": "lines",
         "type": "scatter",
         "x": [
          0,
          0.7301198368508548,
          0.7301198368508548,
          0
         ],
         "xaxis": "x",
         "y": [
          -1215,
          -1215,
          -1225,
          -1225
         ],
         "yaxis": "y"
        },
        {
         "hoverinfo": "text",
         "marker": {
          "color": "rgb(40,35,35)"
         },
         "mode": "lines",
         "type": "scatter",
         "x": [
          0.7173521417893391,
          0.7356734041806747,
          0.7356734041806747,
          0.7301198368508548
         ],
         "xaxis": "x",
         "y": [
          -1200,
          -1200,
          -1220,
          -1220
         ],
         "yaxis": "y"
        },
        {
         "hoverinfo": "text",
         "marker": {
          "color": "rgb(40,35,35)"
         },
         "mode": "lines",
         "type": "scatter",
         "x": [
          0,
          0.7972910721310735,
          0.7972910721310735,
          0.7356734041806747
         ],
         "xaxis": "x",
         "y": [
          -1185,
          -1185,
          -1210,
          -1210
         ],
         "yaxis": "y"
        },
        {
         "hoverinfo": "text",
         "marker": {
          "color": "rgb(40,35,35)"
         },
         "mode": "lines",
         "type": "scatter",
         "x": [
          0.7972910721310735,
          0.8166758821222017,
          0.8166758821222017,
          0
         ],
         "xaxis": "x",
         "y": [
          -1197.5,
          -1197.5,
          -1235,
          -1235
         ],
         "yaxis": "y"
        },
        {
         "hoverinfo": "text",
         "marker": {
          "color": "rgb(40,35,35)"
         },
         "mode": "lines",
         "type": "scatter",
         "x": [
          0,
          0.8603042252093211,
          0.8603042252093211,
          0.8166758821222017
         ],
         "xaxis": "x",
         "y": [
          -1175,
          -1175,
          -1216.25,
          -1216.25
         ],
         "yaxis": "y"
        },
        {
         "hoverinfo": "text",
         "marker": {
          "color": "rgb(40,35,35)"
         },
         "mode": "lines",
         "type": "scatter",
         "x": [
          0.8603042252093211,
          0.8780931319943441,
          0.8780931319943441,
          0
         ],
         "xaxis": "x",
         "y": [
          -1195.625,
          -1195.625,
          -1245,
          -1245
         ],
         "yaxis": "y"
        },
        {
         "hoverinfo": "text",
         "marker": {
          "color": "rgb(40,35,35)"
         },
         "mode": "lines",
         "type": "scatter",
         "x": [
          0,
          0.8876666671879647,
          0.8876666671879647,
          0.8780931319943441
         ],
         "xaxis": "x",
         "y": [
          -1165,
          -1165,
          -1220.3125,
          -1220.3125
         ],
         "yaxis": "y"
        },
        {
         "hoverinfo": "text",
         "marker": {
          "color": "rgb(40,35,35)"
         },
         "mode": "lines",
         "type": "scatter",
         "x": [
          0.9326470121651246,
          0.9790238139556149,
          0.9790238139556149,
          0.8876666671879647
         ],
         "xaxis": "x",
         "y": [
          -1091.09375,
          -1091.09375,
          -1192.65625,
          -1192.65625
         ],
         "yaxis": "y"
        },
        {
         "hoverinfo": "text",
         "marker": {
          "color": "rgb(0,116,217)"
         },
         "mode": "lines",
         "type": "scatter",
         "x": [
          0.9987102360048856,
          1.0152044507214342,
          1.0152044507214342,
          0.9790238139556149
         ],
         "xaxis": "x",
         "y": [
          -739.013671875,
          -739.013671875,
          -1141.875,
          -1141.875
         ],
         "yaxis": "y"
        },
        {
         "hoverinfo": "text",
         "marker": {
          "color": "rgb(0,116,217)"
         },
         "mode": "lines",
         "type": "scatter",
         "x": [
          0.8685639471732214,
          1.0660913898860638,
          1.0660913898860638,
          1.0152044507214342
         ],
         "xaxis": "x",
         "y": [
          -217.5,
          -217.5,
          -940.4443359375,
          -940.4443359375
         ],
         "yaxis": "y"
        },
        {
         "hoverinfo": "text",
         "marker": {
          "color": "rgb(61,153,112)"
         },
         "mode": "lines",
         "type": "scatter",
         "x": [
          0,
          0.6157075808119956,
          0.6157075808119956,
          0
         ],
         "xaxis": "x",
         "y": [
          -1255,
          -1255,
          -1265,
          -1265
         ],
         "yaxis": "y"
        },
        {
         "hoverinfo": "text",
         "marker": {
          "color": "rgb(61,153,112)"
         },
         "mode": "lines",
         "type": "scatter",
         "x": [
          0,
          0.793480006413699,
          0.793480006413699,
          0
         ],
         "xaxis": "x",
         "y": [
          -1285,
          -1285,
          -1295,
          -1295
         ],
         "yaxis": "y"
        },
        {
         "hoverinfo": "text",
         "marker": {
          "color": "rgb(61,153,112)"
         },
         "mode": "lines",
         "type": "scatter",
         "x": [
          0,
          0.8275860891613622,
          0.8275860891613622,
          0.793480006413699
         ],
         "xaxis": "x",
         "y": [
          -1275,
          -1275,
          -1290,
          -1290
         ],
         "yaxis": "y"
        },
        {
         "hoverinfo": "text",
         "marker": {
          "color": "rgb(61,153,112)"
         },
         "mode": "lines",
         "type": "scatter",
         "x": [
          0,
          0.764288062051409,
          0.764288062051409,
          0
         ],
         "xaxis": "x",
         "y": [
          -1305,
          -1305,
          -1315,
          -1315
         ],
         "yaxis": "y"
        },
        {
         "hoverinfo": "text",
         "marker": {
          "color": "rgb(61,153,112)"
         },
         "mode": "lines",
         "type": "scatter",
         "x": [
          0,
          0.7928834747590905,
          0.7928834747590905,
          0
         ],
         "xaxis": "x",
         "y": [
          -1325,
          -1325,
          -1335,
          -1335
         ],
         "yaxis": "y"
        },
        {
         "hoverinfo": "text",
         "marker": {
          "color": "rgb(61,153,112)"
         },
         "mode": "lines",
         "type": "scatter",
         "x": [
          0.764288062051409,
          0.813205097501776,
          0.813205097501776,
          0.7928834747590905
         ],
         "xaxis": "x",
         "y": [
          -1310,
          -1310,
          -1330,
          -1330
         ],
         "yaxis": "y"
        },
        {
         "hoverinfo": "text",
         "marker": {
          "color": "rgb(61,153,112)"
         },
         "mode": "lines",
         "type": "scatter",
         "x": [
          0.8275860891613622,
          0.8454881455828068,
          0.8454881455828068,
          0.813205097501776
         ],
         "xaxis": "x",
         "y": [
          -1282.5,
          -1282.5,
          -1320,
          -1320
         ],
         "yaxis": "y"
        },
        {
         "hoverinfo": "text",
         "marker": {
          "color": "rgb(61,153,112)"
         },
         "mode": "lines",
         "type": "scatter",
         "x": [
          0,
          0.803617600433322,
          0.803617600433322,
          0
         ],
         "xaxis": "x",
         "y": [
          -1355,
          -1355,
          -1365,
          -1365
         ],
         "yaxis": "y"
        },
        {
         "hoverinfo": "text",
         "marker": {
          "color": "rgb(61,153,112)"
         },
         "mode": "lines",
         "type": "scatter",
         "x": [
          0,
          0.8079086149640731,
          0.8079086149640731,
          0
         ],
         "xaxis": "x",
         "y": [
          -1375,
          -1375,
          -1385,
          -1385
         ],
         "yaxis": "y"
        },
        {
         "hoverinfo": "text",
         "marker": {
          "color": "rgb(61,153,112)"
         },
         "mode": "lines",
         "type": "scatter",
         "x": [
          0.803617600433322,
          0.8177660598808627,
          0.8177660598808627,
          0.8079086149640731
         ],
         "xaxis": "x",
         "y": [
          -1360,
          -1360,
          -1380,
          -1380
         ],
         "yaxis": "y"
        },
        {
         "hoverinfo": "text",
         "marker": {
          "color": "rgb(61,153,112)"
         },
         "mode": "lines",
         "type": "scatter",
         "x": [
          0,
          0.8262074905515919,
          0.8262074905515919,
          0.8177660598808627
         ],
         "xaxis": "x",
         "y": [
          -1345,
          -1345,
          -1370,
          -1370
         ],
         "yaxis": "y"
        },
        {
         "hoverinfo": "text",
         "marker": {
          "color": "rgb(61,153,112)"
         },
         "mode": "lines",
         "type": "scatter",
         "x": [
          0.8454881455828068,
          0.8610925111783853,
          0.8610925111783853,
          0.8262074905515919
         ],
         "xaxis": "x",
         "y": [
          -1301.25,
          -1301.25,
          -1357.5,
          -1357.5
         ],
         "yaxis": "y"
        },
        {
         "hoverinfo": "text",
         "marker": {
          "color": "rgb(61,153,112)"
         },
         "mode": "lines",
         "type": "scatter",
         "x": [
          0,
          0.7504599688270908,
          0.7504599688270908,
          0
         ],
         "xaxis": "x",
         "y": [
          -1405,
          -1405,
          -1415,
          -1415
         ],
         "yaxis": "y"
        },
        {
         "hoverinfo": "text",
         "marker": {
          "color": "rgb(61,153,112)"
         },
         "mode": "lines",
         "type": "scatter",
         "x": [
          0,
          0.7911944378070525,
          0.7911944378070525,
          0.7504599688270908
         ],
         "xaxis": "x",
         "y": [
          -1395,
          -1395,
          -1410,
          -1410
         ],
         "yaxis": "y"
        },
        {
         "hoverinfo": "text",
         "marker": {
          "color": "rgb(61,153,112)"
         },
         "mode": "lines",
         "type": "scatter",
         "x": [
          0,
          0.6606603077741131,
          0.6606603077741131,
          0
         ],
         "xaxis": "x",
         "y": [
          -1445,
          -1445,
          -1455,
          -1455
         ],
         "yaxis": "y"
        },
        {
         "hoverinfo": "text",
         "marker": {
          "color": "rgb(61,153,112)"
         },
         "mode": "lines",
         "type": "scatter",
         "x": [
          0,
          0.6848353707522611,
          0.6848353707522611,
          0.6606603077741131
         ],
         "xaxis": "x",
         "y": [
          -1435,
          -1435,
          -1450,
          -1450
         ],
         "yaxis": "y"
        },
        {
         "hoverinfo": "text",
         "marker": {
          "color": "rgb(61,153,112)"
         },
         "mode": "lines",
         "type": "scatter",
         "x": [
          0,
          0.738390165701325,
          0.738390165701325,
          0.6848353707522611
         ],
         "xaxis": "x",
         "y": [
          -1425,
          -1425,
          -1442.5,
          -1442.5
         ],
         "yaxis": "y"
        },
        {
         "hoverinfo": "text",
         "marker": {
          "color": "rgb(61,153,112)"
         },
         "mode": "lines",
         "type": "scatter",
         "x": [
          0.738390165701325,
          0.7722237515395204,
          0.7722237515395204,
          0
         ],
         "xaxis": "x",
         "y": [
          -1433.75,
          -1433.75,
          -1465,
          -1465
         ],
         "yaxis": "y"
        },
        {
         "hoverinfo": "text",
         "marker": {
          "color": "rgb(61,153,112)"
         },
         "mode": "lines",
         "type": "scatter",
         "x": [
          0.7911944378070525,
          0.8113042697676957,
          0.8113042697676957,
          0.7722237515395204
         ],
         "xaxis": "x",
         "y": [
          -1402.5,
          -1402.5,
          -1449.375,
          -1449.375
         ],
         "yaxis": "y"
        },
        {
         "hoverinfo": "text",
         "marker": {
          "color": "rgb(61,153,112)"
         },
         "mode": "lines",
         "type": "scatter",
         "x": [
          0,
          0.7702462791063481,
          0.7702462791063481,
          0
         ],
         "xaxis": "x",
         "y": [
          -1475,
          -1475,
          -1485,
          -1485
         ],
         "yaxis": "y"
        },
        {
         "hoverinfo": "text",
         "marker": {
          "color": "rgb(61,153,112)"
         },
         "mode": "lines",
         "type": "scatter",
         "x": [
          0,
          0.7691299241048911,
          0.7691299241048911,
          0
         ],
         "xaxis": "x",
         "y": [
          -1495,
          -1495,
          -1505,
          -1505
         ],
         "yaxis": "y"
        },
        {
         "hoverinfo": "text",
         "marker": {
          "color": "rgb(61,153,112)"
         },
         "mode": "lines",
         "type": "scatter",
         "x": [
          0.7702462791063481,
          0.7921427027587178,
          0.7921427027587178,
          0.7691299241048911
         ],
         "xaxis": "x",
         "y": [
          -1480,
          -1480,
          -1500,
          -1500
         ],
         "yaxis": "y"
        },
        {
         "hoverinfo": "text",
         "marker": {
          "color": "rgb(61,153,112)"
         },
         "mode": "lines",
         "type": "scatter",
         "x": [
          0,
          0.7517720353517103,
          0.7517720353517103,
          0
         ],
         "xaxis": "x",
         "y": [
          -1515,
          -1515,
          -1525,
          -1525
         ],
         "yaxis": "y"
        },
        {
         "hoverinfo": "text",
         "marker": {
          "color": "rgb(61,153,112)"
         },
         "mode": "lines",
         "type": "scatter",
         "x": [
          0,
          0.739105850958765,
          0.739105850958765,
          0
         ],
         "xaxis": "x",
         "y": [
          -1535,
          -1535,
          -1545,
          -1545
         ],
         "yaxis": "y"
        },
        {
         "hoverinfo": "text",
         "marker": {
          "color": "rgb(61,153,112)"
         },
         "mode": "lines",
         "type": "scatter",
         "x": [
          0.739105850958765,
          0.7603717204041848,
          0.7603717204041848,
          0
         ],
         "xaxis": "x",
         "y": [
          -1540,
          -1540,
          -1555,
          -1555
         ],
         "yaxis": "y"
        },
        {
         "hoverinfo": "text",
         "marker": {
          "color": "rgb(61,153,112)"
         },
         "mode": "lines",
         "type": "scatter",
         "x": [
          0.7517720353517103,
          0.7808278673464042,
          0.7808278673464042,
          0.7603717204041848
         ],
         "xaxis": "x",
         "y": [
          -1520,
          -1520,
          -1547.5,
          -1547.5
         ],
         "yaxis": "y"
        },
        {
         "hoverinfo": "text",
         "marker": {
          "color": "rgb(61,153,112)"
         },
         "mode": "lines",
         "type": "scatter",
         "x": [
          0.7921427027587178,
          0.8000965334904457,
          0.8000965334904457,
          0.7808278673464042
         ],
         "xaxis": "x",
         "y": [
          -1490,
          -1490,
          -1533.75,
          -1533.75
         ],
         "yaxis": "y"
        },
        {
         "hoverinfo": "text",
         "marker": {
          "color": "rgb(61,153,112)"
         },
         "mode": "lines",
         "type": "scatter",
         "x": [
          0,
          0.7634936383340923,
          0.7634936383340923,
          0
         ],
         "xaxis": "x",
         "y": [
          -1565,
          -1565,
          -1575,
          -1575
         ],
         "yaxis": "y"
        },
        {
         "hoverinfo": "text",
         "marker": {
          "color": "rgb(61,153,112)"
         },
         "mode": "lines",
         "type": "scatter",
         "x": [
          0,
          0.7213838814606206,
          0.7213838814606206,
          0
         ],
         "xaxis": "x",
         "y": [
          -1595,
          -1595,
          -1605,
          -1605
         ],
         "yaxis": "y"
        },
        {
         "hoverinfo": "text",
         "marker": {
          "color": "rgb(61,153,112)"
         },
         "mode": "lines",
         "type": "scatter",
         "x": [
          0.7213838814606206,
          0.7516577789949074,
          0.7516577789949074,
          0
         ],
         "xaxis": "x",
         "y": [
          -1600,
          -1600,
          -1615,
          -1615
         ],
         "yaxis": "y"
        },
        {
         "hoverinfo": "text",
         "marker": {
          "color": "rgb(61,153,112)"
         },
         "mode": "lines",
         "type": "scatter",
         "x": [
          0,
          0.7623403108411861,
          0.7623403108411861,
          0.7516577789949074
         ],
         "xaxis": "x",
         "y": [
          -1585,
          -1585,
          -1607.5,
          -1607.5
         ],
         "yaxis": "y"
        },
        {
         "hoverinfo": "text",
         "marker": {
          "color": "rgb(61,153,112)"
         },
         "mode": "lines",
         "type": "scatter",
         "x": [
          0,
          0.7518863064430721,
          0.7518863064430721,
          0
         ],
         "xaxis": "x",
         "y": [
          -1625,
          -1625,
          -1635,
          -1635
         ],
         "yaxis": "y"
        },
        {
         "hoverinfo": "text",
         "marker": {
          "color": "rgb(61,153,112)"
         },
         "mode": "lines",
         "type": "scatter",
         "x": [
          0.7623403108411861,
          0.7747206674849868,
          0.7747206674849868,
          0.7518863064430721
         ],
         "xaxis": "x",
         "y": [
          -1596.25,
          -1596.25,
          -1630,
          -1630
         ],
         "yaxis": "y"
        },
        {
         "hoverinfo": "text",
         "marker": {
          "color": "rgb(61,153,112)"
         },
         "mode": "lines",
         "type": "scatter",
         "x": [
          0.7634936383340923,
          0.7942726873580009,
          0.7942726873580009,
          0.7747206674849868
         ],
         "xaxis": "x",
         "y": [
          -1570,
          -1570,
          -1613.125,
          -1613.125
         ],
         "yaxis": "y"
        },
        {
         "hoverinfo": "text",
         "marker": {
          "color": "rgb(61,153,112)"
         },
         "mode": "lines",
         "type": "scatter",
         "x": [
          0,
          0.7637145802641226,
          0.7637145802641226,
          0
         ],
         "xaxis": "x",
         "y": [
          -1645,
          -1645,
          -1655,
          -1655
         ],
         "yaxis": "y"
        },
        {
         "hoverinfo": "text",
         "marker": {
          "color": "rgb(61,153,112)"
         },
         "mode": "lines",
         "type": "scatter",
         "x": [
          0,
          0.7575362724940025,
          0.7575362724940025,
          0
         ],
         "xaxis": "x",
         "y": [
          -1665,
          -1665,
          -1675,
          -1675
         ],
         "yaxis": "y"
        },
        {
         "hoverinfo": "text",
         "marker": {
          "color": "rgb(61,153,112)"
         },
         "mode": "lines",
         "type": "scatter",
         "x": [
          0.7637145802641226,
          0.7801994738056598,
          0.7801994738056598,
          0.7575362724940025
         ],
         "xaxis": "x",
         "y": [
          -1650,
          -1650,
          -1670,
          -1670
         ],
         "yaxis": "y"
        },
        {
         "hoverinfo": "text",
         "marker": {
          "color": "rgb(61,153,112)"
         },
         "mode": "lines",
         "type": "scatter",
         "x": [
          0,
          0.6976449397124896,
          0.6976449397124896,
          0
         ],
         "xaxis": "x",
         "y": [
          -1705,
          -1705,
          -1715,
          -1715
         ],
         "yaxis": "y"
        },
        {
         "hoverinfo": "text",
         "marker": {
          "color": "rgb(61,153,112)"
         },
         "mode": "lines",
         "type": "scatter",
         "x": [
          0,
          0.7076361685401563,
          0.7076361685401563,
          0.6976449397124896
         ],
         "xaxis": "x",
         "y": [
          -1695,
          -1695,
          -1710,
          -1710
         ],
         "yaxis": "y"
        },
        {
         "hoverinfo": "text",
         "marker": {
          "color": "rgb(61,153,112)"
         },
         "mode": "lines",
         "type": "scatter",
         "x": [
          0.7076361685401563,
          0.7182811453776963,
          0.7182811453776963,
          0
         ],
         "xaxis": "x",
         "y": [
          -1702.5,
          -1702.5,
          -1725,
          -1725
         ],
         "yaxis": "y"
        },
        {
         "hoverinfo": "text",
         "marker": {
          "color": "rgb(61,153,112)"
         },
         "mode": "lines",
         "type": "scatter",
         "x": [
          0,
          0.7367058764520551,
          0.7367058764520551,
          0.7182811453776963
         ],
         "xaxis": "x",
         "y": [
          -1685,
          -1685,
          -1713.75,
          -1713.75
         ],
         "yaxis": "y"
        },
        {
         "hoverinfo": "text",
         "marker": {
          "color": "rgb(61,153,112)"
         },
         "mode": "lines",
         "type": "scatter",
         "x": [
          0,
          0.7329735670368918,
          0.7329735670368918,
          0
         ],
         "xaxis": "x",
         "y": [
          -1735,
          -1735,
          -1745,
          -1745
         ],
         "yaxis": "y"
        },
        {
         "hoverinfo": "text",
         "marker": {
          "color": "rgb(61,153,112)"
         },
         "mode": "lines",
         "type": "scatter",
         "x": [
          0.7367058764520551,
          0.7473463942104077,
          0.7473463942104077,
          0.7329735670368918
         ],
         "xaxis": "x",
         "y": [
          -1699.375,
          -1699.375,
          -1740,
          -1740
         ],
         "yaxis": "y"
        },
        {
         "hoverinfo": "text",
         "marker": {
          "color": "rgb(61,153,112)"
         },
         "mode": "lines",
         "type": "scatter",
         "x": [
          0,
          0.7080074758439159,
          0.7080074758439159,
          0
         ],
         "xaxis": "x",
         "y": [
          -1755,
          -1755,
          -1765,
          -1765
         ],
         "yaxis": "y"
        },
        {
         "hoverinfo": "text",
         "marker": {
          "color": "rgb(61,153,112)"
         },
         "mode": "lines",
         "type": "scatter",
         "x": [
          0,
          0.7121791237032917,
          0.7121791237032917,
          0
         ],
         "xaxis": "x",
         "y": [
          -1775,
          -1775,
          -1785,
          -1785
         ],
         "yaxis": "y"
        },
        {
         "hoverinfo": "text",
         "marker": {
          "color": "rgb(61,153,112)"
         },
         "mode": "lines",
         "type": "scatter",
         "x": [
          0.7080074758439159,
          0.7291937466077074,
          0.7291937466077074,
          0.7121791237032917
         ],
         "xaxis": "x",
         "y": [
          -1760,
          -1760,
          -1780,
          -1780
         ],
         "yaxis": "y"
        },
        {
         "hoverinfo": "text",
         "marker": {
          "color": "rgb(61,153,112)"
         },
         "mode": "lines",
         "type": "scatter",
         "x": [
          0,
          0.6814421593235271,
          0.6814421593235271,
          0
         ],
         "xaxis": "x",
         "y": [
          -1795,
          -1795,
          -1805,
          -1805
         ],
         "yaxis": "y"
        },
        {
         "hoverinfo": "text",
         "marker": {
          "color": "rgb(61,153,112)"
         },
         "mode": "lines",
         "type": "scatter",
         "x": [
          0,
          0.7087193555595293,
          0.7087193555595293,
          0
         ],
         "xaxis": "x",
         "y": [
          -1815,
          -1815,
          -1825,
          -1825
         ],
         "yaxis": "y"
        },
        {
         "hoverinfo": "text",
         "marker": {
          "color": "rgb(61,153,112)"
         },
         "mode": "lines",
         "type": "scatter",
         "x": [
          0,
          0.6832987207582254,
          0.6832987207582254,
          0
         ],
         "xaxis": "x",
         "y": [
          -1845,
          -1845,
          -1855,
          -1855
         ],
         "yaxis": "y"
        },
        {
         "hoverinfo": "text",
         "marker": {
          "color": "rgb(61,153,112)"
         },
         "mode": "lines",
         "type": "scatter",
         "x": [
          0,
          0.6852257909877079,
          0.6852257909877079,
          0.6832987207582254
         ],
         "xaxis": "x",
         "y": [
          -1835,
          -1835,
          -1850,
          -1850
         ],
         "yaxis": "y"
        },
        {
         "hoverinfo": "text",
         "marker": {
          "color": "rgb(61,153,112)"
         },
         "mode": "lines",
         "type": "scatter",
         "x": [
          0,
          0.6796062571512345,
          0.6796062571512345,
          0
         ],
         "xaxis": "x",
         "y": [
          -1865,
          -1865,
          -1875,
          -1875
         ],
         "yaxis": "y"
        },
        {
         "hoverinfo": "text",
         "marker": {
          "color": "rgb(61,153,112)"
         },
         "mode": "lines",
         "type": "scatter",
         "x": [
          0.6852257909877079,
          0.7017399891280431,
          0.7017399891280431,
          0.6796062571512345
         ],
         "xaxis": "x",
         "y": [
          -1842.5,
          -1842.5,
          -1870,
          -1870
         ],
         "yaxis": "y"
        },
        {
         "hoverinfo": "text",
         "marker": {
          "color": "rgb(61,153,112)"
         },
         "mode": "lines",
         "type": "scatter",
         "x": [
          0.7017399891280431,
          0.7082022433500025,
          0.7082022433500025,
          0
         ],
         "xaxis": "x",
         "y": [
          -1856.25,
          -1856.25,
          -1885,
          -1885
         ],
         "yaxis": "y"
        },
        {
         "hoverinfo": "text",
         "marker": {
          "color": "rgb(61,153,112)"
         },
         "mode": "lines",
         "type": "scatter",
         "x": [
          0.7087193555595293,
          0.7210216844602682,
          0.7210216844602682,
          0.7082022433500025
         ],
         "xaxis": "x",
         "y": [
          -1820,
          -1820,
          -1870.625,
          -1870.625
         ],
         "yaxis": "y"
        },
        {
         "hoverinfo": "text",
         "marker": {
          "color": "rgb(61,153,112)"
         },
         "mode": "lines",
         "type": "scatter",
         "x": [
          0.7210216844602682,
          0.7285652030879026,
          0.7285652030879026,
          0
         ],
         "xaxis": "x",
         "y": [
          -1845.3125,
          -1845.3125,
          -1895,
          -1895
         ],
         "yaxis": "y"
        },
        {
         "hoverinfo": "text",
         "marker": {
          "color": "rgb(61,153,112)"
         },
         "mode": "lines",
         "type": "scatter",
         "x": [
          0.6814421593235271,
          0.7339497306716805,
          0.7339497306716805,
          0.7285652030879026
         ],
         "xaxis": "x",
         "y": [
          -1800,
          -1800,
          -1870.15625,
          -1870.15625
         ],
         "yaxis": "y"
        },
        {
         "hoverinfo": "text",
         "marker": {
          "color": "rgb(61,153,112)"
         },
         "mode": "lines",
         "type": "scatter",
         "x": [
          0,
          0.6631691858270248,
          0.6631691858270248,
          0
         ],
         "xaxis": "x",
         "y": [
          -1905,
          -1905,
          -1915,
          -1915
         ],
         "yaxis": "y"
        },
        {
         "hoverinfo": "text",
         "marker": {
          "color": "rgb(61,153,112)"
         },
         "mode": "lines",
         "type": "scatter",
         "x": [
          0,
          0.6687877136156926,
          0.6687877136156926,
          0
         ],
         "xaxis": "x",
         "y": [
          -1925,
          -1925,
          -1935,
          -1935
         ],
         "yaxis": "y"
        },
        {
         "hoverinfo": "text",
         "marker": {
          "color": "rgb(61,153,112)"
         },
         "mode": "lines",
         "type": "scatter",
         "x": [
          0.6631691858270248,
          0.6983766067532745,
          0.6983766067532745,
          0.6687877136156926
         ],
         "xaxis": "x",
         "y": [
          -1910,
          -1910,
          -1930,
          -1930
         ],
         "yaxis": "y"
        },
        {
         "hoverinfo": "text",
         "marker": {
          "color": "rgb(61,153,112)"
         },
         "mode": "lines",
         "type": "scatter",
         "x": [
          0.6983766067532745,
          0.7200178293273132,
          0.7200178293273132,
          0
         ],
         "xaxis": "x",
         "y": [
          -1920,
          -1920,
          -1945,
          -1945
         ],
         "yaxis": "y"
        },
        {
         "hoverinfo": "text",
         "marker": {
          "color": "rgb(61,153,112)"
         },
         "mode": "lines",
         "type": "scatter",
         "x": [
          0.7339497306716805,
          0.7416494353113552,
          0.7416494353113552,
          0.7200178293273132
         ],
         "xaxis": "x",
         "y": [
          -1835.078125,
          -1835.078125,
          -1932.5,
          -1932.5
         ],
         "yaxis": "y"
        },
        {
         "hoverinfo": "text",
         "marker": {
          "color": "rgb(61,153,112)"
         },
         "mode": "lines",
         "type": "scatter",
         "x": [
          0.7291937466077074,
          0.7427672905450103,
          0.7427672905450103,
          0.7416494353113552
         ],
         "xaxis": "x",
         "y": [
          -1770,
          -1770,
          -1883.7890625,
          -1883.7890625
         ],
         "yaxis": "y"
        },
        {
         "hoverinfo": "text",
         "marker": {
          "color": "rgb(61,153,112)"
         },
         "mode": "lines",
         "type": "scatter",
         "x": [
          0.7473463942104077,
          0.754395138302507,
          0.754395138302507,
          0.7427672905450103
         ],
         "xaxis": "x",
         "y": [
          -1719.6875,
          -1719.6875,
          -1826.89453125,
          -1826.89453125
         ],
         "yaxis": "y"
        },
        {
         "hoverinfo": "text",
         "marker": {
          "color": "rgb(61,153,112)"
         },
         "mode": "lines",
         "type": "scatter",
         "x": [
          0,
          0.7577334809637396,
          0.7577334809637396,
          0
         ],
         "xaxis": "x",
         "y": [
          -1955,
          -1955,
          -1965,
          -1965
         ],
         "yaxis": "y"
        },
        {
         "hoverinfo": "text",
         "marker": {
          "color": "rgb(61,153,112)"
         },
         "mode": "lines",
         "type": "scatter",
         "x": [
          0.754395138302507,
          0.7636844891206389,
          0.7636844891206389,
          0.7577334809637396
         ],
         "xaxis": "x",
         "y": [
          -1773.291015625,
          -1773.291015625,
          -1960,
          -1960
         ],
         "yaxis": "y"
        },
        {
         "hoverinfo": "text",
         "marker": {
          "color": "rgb(61,153,112)"
         },
         "mode": "lines",
         "type": "scatter",
         "x": [
          0.7801994738056598,
          0.7837876086504368,
          0.7837876086504368,
          0.7636844891206389
         ],
         "xaxis": "x",
         "y": [
          -1660,
          -1660,
          -1866.6455078125,
          -1866.6455078125
         ],
         "yaxis": "y"
        },
        {
         "hoverinfo": "text",
         "marker": {
          "color": "rgb(61,153,112)"
         },
         "mode": "lines",
         "type": "scatter",
         "x": [
          0,
          0.7868433973518248,
          0.7868433973518248,
          0
         ],
         "xaxis": "x",
         "y": [
          -1975,
          -1975,
          -1985,
          -1985
         ],
         "yaxis": "y"
        },
        {
         "hoverinfo": "text",
         "marker": {
          "color": "rgb(61,153,112)"
         },
         "mode": "lines",
         "type": "scatter",
         "x": [
          0.7837876086504368,
          0.8016821507313927,
          0.8016821507313927,
          0.7868433973518248
         ],
         "xaxis": "x",
         "y": [
          -1763.32275390625,
          -1763.32275390625,
          -1980,
          -1980
         ],
         "yaxis": "y"
        },
        {
         "hoverinfo": "text",
         "marker": {
          "color": "rgb(61,153,112)"
         },
         "mode": "lines",
         "type": "scatter",
         "x": [
          0.7942726873580009,
          0.807617325816778,
          0.807617325816778,
          0.8016821507313927
         ],
         "xaxis": "x",
         "y": [
          -1591.5625,
          -1591.5625,
          -1871.661376953125,
          -1871.661376953125
         ],
         "yaxis": "y"
        },
        {
         "hoverinfo": "text",
         "marker": {
          "color": "rgb(61,153,112)"
         },
         "mode": "lines",
         "type": "scatter",
         "x": [
          0.8000965334904457,
          0.8169668301809455,
          0.8169668301809455,
          0.807617325816778
         ],
         "xaxis": "x",
         "y": [
          -1511.875,
          -1511.875,
          -1731.6119384765625,
          -1731.6119384765625
         ],
         "yaxis": "y"
        },
        {
         "hoverinfo": "text",
         "marker": {
          "color": "rgb(61,153,112)"
         },
         "mode": "lines",
         "type": "scatter",
         "x": [
          0.8113042697676957,
          0.8471365262434454,
          0.8471365262434454,
          0.8169668301809455
         ],
         "xaxis": "x",
         "y": [
          -1425.9375,
          -1425.9375,
          -1621.7434692382812,
          -1621.7434692382812
         ],
         "yaxis": "y"
        },
        {
         "hoverinfo": "text",
         "marker": {
          "color": "rgb(61,153,112)"
         },
         "mode": "lines",
         "type": "scatter",
         "x": [
          0,
          0.6185021644896431,
          0.6185021644896431,
          0
         ],
         "xaxis": "x",
         "y": [
          -1995,
          -1995,
          -2005,
          -2005
         ],
         "yaxis": "y"
        },
        {
         "hoverinfo": "text",
         "marker": {
          "color": "rgb(61,153,112)"
         },
         "mode": "lines",
         "type": "scatter",
         "x": [
          0.6185021644896431,
          0.7267536198399361,
          0.7267536198399361,
          0
         ],
         "xaxis": "x",
         "y": [
          -2000,
          -2000,
          -2015,
          -2015
         ],
         "yaxis": "y"
        },
        {
         "hoverinfo": "text",
         "marker": {
          "color": "rgb(61,153,112)"
         },
         "mode": "lines",
         "type": "scatter",
         "x": [
          0.8471365262434454,
          0.8987148961577908,
          0.8987148961577908,
          0.7267536198399361
         ],
         "xaxis": "x",
         "y": [
          -1523.8404846191406,
          -1523.8404846191406,
          -2007.5,
          -2007.5
         ],
         "yaxis": "y"
        },
        {
         "hoverinfo": "text",
         "marker": {
          "color": "rgb(61,153,112)"
         },
         "mode": "lines",
         "type": "scatter",
         "x": [
          0.8610925111783853,
          0.9229415916712054,
          0.9229415916712054,
          0.8987148961577908
         ],
         "xaxis": "x",
         "y": [
          -1329.375,
          -1329.375,
          -1765.6702423095703,
          -1765.6702423095703
         ],
         "yaxis": "y"
        },
        {
         "hoverinfo": "text",
         "marker": {
          "color": "rgb(61,153,112)"
         },
         "mode": "lines",
         "type": "scatter",
         "x": [
          0.6157075808119956,
          0.9280415132163495,
          0.9280415132163495,
          0.9229415916712054
         ],
         "xaxis": "x",
         "y": [
          -1260,
          -1260,
          -1547.5226211547852,
          -1547.5226211547852
         ],
         "yaxis": "y"
        },
        {
         "hoverinfo": "text",
         "marker": {
          "color": "rgb(0,116,217)"
         },
         "mode": "lines",
         "type": "scatter",
         "x": [
          1.0660913898860638,
          1.1363614327990716,
          1.1363614327990716,
          0.9280415132163495
         ],
         "xaxis": "x",
         "y": [
          -578.97216796875,
          -578.97216796875,
          -1403.7613105773926,
          -1403.7613105773926
         ],
         "yaxis": "y"
        },
        {
         "hoverinfo": "text",
         "marker": {
          "color": "rgb(255,65,54)"
         },
         "mode": "lines",
         "type": "scatter",
         "x": [
          0,
          0.708521297157154,
          0.708521297157154,
          0
         ],
         "xaxis": "x",
         "y": [
          -2035,
          -2035,
          -2045,
          -2045
         ],
         "yaxis": "y"
        },
        {
         "hoverinfo": "text",
         "marker": {
          "color": "rgb(255,65,54)"
         },
         "mode": "lines",
         "type": "scatter",
         "x": [
          0.708521297157154,
          0.711297705945007,
          0.711297705945007,
          0
         ],
         "xaxis": "x",
         "y": [
          -2040,
          -2040,
          -2055,
          -2055
         ],
         "yaxis": "y"
        },
        {
         "hoverinfo": "text",
         "marker": {
          "color": "rgb(255,65,54)"
         },
         "mode": "lines",
         "type": "scatter",
         "x": [
          0,
          0.7519158204618913,
          0.7519158204618913,
          0.711297705945007
         ],
         "xaxis": "x",
         "y": [
          -2025,
          -2025,
          -2047.5,
          -2047.5
         ],
         "yaxis": "y"
        },
        {
         "hoverinfo": "text",
         "marker": {
          "color": "rgb(35,205,205)"
         },
         "mode": "lines",
         "type": "scatter",
         "x": [
          0,
          0.6606265171956808,
          0.6606265171956808,
          0
         ],
         "xaxis": "x",
         "y": [
          -2065,
          -2065,
          -2075,
          -2075
         ],
         "yaxis": "y"
        },
        {
         "hoverinfo": "text",
         "marker": {
          "color": "rgb(35,205,205)"
         },
         "mode": "lines",
         "type": "scatter",
         "x": [
          0.6606265171956808,
          0.8227932659232513,
          0.8227932659232513,
          0
         ],
         "xaxis": "x",
         "y": [
          -2070,
          -2070,
          -2085,
          -2085
         ],
         "yaxis": "y"
        },
        {
         "hoverinfo": "text",
         "marker": {
          "color": "rgb(0,116,217)"
         },
         "mode": "lines",
         "type": "scatter",
         "x": [
          0.7519158204618913,
          1.0567609718499376,
          1.0567609718499376,
          0.8227932659232513
         ],
         "xaxis": "x",
         "y": [
          -2036.25,
          -2036.25,
          -2077.5,
          -2077.5
         ],
         "yaxis": "y"
        },
        {
         "hoverinfo": "text",
         "marker": {
          "color": "rgb(0,116,217)"
         },
         "mode": "lines",
         "type": "scatter",
         "x": [
          1.1363614327990716,
          1.1734647437585093,
          1.1734647437585093,
          1.0567609718499376
         ],
         "xaxis": "x",
         "y": [
          -991.3667392730713,
          -991.3667392730713,
          -2056.875,
          -2056.875
         ],
         "yaxis": "y"
        },
        {
         "hoverinfo": "text",
         "marker": {
          "color": "rgb(0,116,217)"
         },
         "mode": "lines",
         "type": "scatter",
         "x": [
          0.8209242834028874,
          1.4625877633031974,
          1.4625877633031974,
          1.1734647437585093
         ],
         "xaxis": "x",
         "y": [
          -169.375,
          -169.375,
          -1524.1208696365356,
          -1524.1208696365356
         ],
         "yaxis": "y"
        },
        {
         "hoverinfo": "text",
         "marker": {
          "color": "rgb(0,116,217)"
         },
         "mode": "lines",
         "type": "scatter",
         "x": [
          1.0161606459545345,
          1.5510001935453355,
          1.5510001935453355,
          1.4625877633031974
         ],
         "xaxis": "x",
         "y": [
          -59.9609375,
          -59.9609375,
          -846.7479348182678,
          -846.7479348182678
         ],
         "yaxis": "y"
        },
        {
         "hoverinfo": "text",
         "marker": {
          "color": "rgb(61,153,112)"
         },
         "mode": "lines",
         "type": "scatter",
         "x": [
          0,
          0.6094849556387285,
          0.6094849556387285,
          0
         ],
         "xaxis": "x",
         "y": [
          -2105,
          -2105,
          -2115,
          -2115
         ],
         "yaxis": "y"
        },
        {
         "hoverinfo": "text",
         "marker": {
          "color": "rgb(61,153,112)"
         },
         "mode": "lines",
         "type": "scatter",
         "x": [
          0,
          0.6218702076016874,
          0.6218702076016874,
          0
         ],
         "xaxis": "x",
         "y": [
          -2125,
          -2125,
          -2135,
          -2135
         ],
         "yaxis": "y"
        },
        {
         "hoverinfo": "text",
         "marker": {
          "color": "rgb(61,153,112)"
         },
         "mode": "lines",
         "type": "scatter",
         "x": [
          0,
          0.5762417499341045,
          0.5762417499341045,
          0
         ],
         "xaxis": "x",
         "y": [
          -2175,
          -2175,
          -2185,
          -2185
         ],
         "yaxis": "y"
        },
        {
         "hoverinfo": "text",
         "marker": {
          "color": "rgb(61,153,112)"
         },
         "mode": "lines",
         "type": "scatter",
         "x": [
          0,
          0.5922881302449445,
          0.5922881302449445,
          0.5762417499341045
         ],
         "xaxis": "x",
         "y": [
          -2165,
          -2165,
          -2180,
          -2180
         ],
         "yaxis": "y"
        },
        {
         "hoverinfo": "text",
         "marker": {
          "color": "rgb(61,153,112)"
         },
         "mode": "lines",
         "type": "scatter",
         "x": [
          0,
          0.5843339427590197,
          0.5843339427590197,
          0
         ],
         "xaxis": "x",
         "y": [
          -2195,
          -2195,
          -2205,
          -2205
         ],
         "yaxis": "y"
        },
        {
         "hoverinfo": "text",
         "marker": {
          "color": "rgb(61,153,112)"
         },
         "mode": "lines",
         "type": "scatter",
         "x": [
          0.5843339427590197,
          0.5874344701294344,
          0.5874344701294344,
          0
         ],
         "xaxis": "x",
         "y": [
          -2200,
          -2200,
          -2215,
          -2215
         ],
         "yaxis": "y"
        },
        {
         "hoverinfo": "text",
         "marker": {
          "color": "rgb(61,153,112)"
         },
         "mode": "lines",
         "type": "scatter",
         "x": [
          0,
          0.5716185760010681,
          0.5716185760010681,
          0
         ],
         "xaxis": "x",
         "y": [
          -2225,
          -2225,
          -2235,
          -2235
         ],
         "yaxis": "y"
        },
        {
         "hoverinfo": "text",
         "marker": {
          "color": "rgb(61,153,112)"
         },
         "mode": "lines",
         "type": "scatter",
         "x": [
          0,
          0.4835707559229301,
          0.4835707559229301,
          0
         ],
         "xaxis": "x",
         "y": [
          -2295,
          -2295,
          -2305,
          -2305
         ],
         "yaxis": "y"
        },
        {
         "hoverinfo": "text",
         "marker": {
          "color": "rgb(61,153,112)"
         },
         "mode": "lines",
         "type": "scatter",
         "x": [
          0,
          0.496952039355757,
          0.496952039355757,
          0.4835707559229301
         ],
         "xaxis": "x",
         "y": [
          -2285,
          -2285,
          -2300,
          -2300
         ],
         "yaxis": "y"
        },
        {
         "hoverinfo": "text",
         "marker": {
          "color": "rgb(61,153,112)"
         },
         "mode": "lines",
         "type": "scatter",
         "x": [
          0,
          0.4506347119576076,
          0.4506347119576076,
          0
         ],
         "xaxis": "x",
         "y": [
          -2335,
          -2335,
          -2345,
          -2345
         ],
         "yaxis": "y"
        },
        {
         "hoverinfo": "text",
         "marker": {
          "color": "rgb(61,153,112)"
         },
         "mode": "lines",
         "type": "scatter",
         "x": [
          0,
          0.2971707772596036,
          0.2971707772596036,
          0
         ],
         "xaxis": "x",
         "y": [
          -2425,
          -2425,
          -2435,
          -2435
         ],
         "yaxis": "y"
        },
        {
         "hoverinfo": "text",
         "marker": {
          "color": "rgb(61,153,112)"
         },
         "mode": "lines",
         "type": "scatter",
         "x": [
          0,
          0.20930910533777713,
          0.20930910533777713,
          0
         ],
         "xaxis": "x",
         "y": [
          -2465,
          -2465,
          -2475,
          -2475
         ],
         "yaxis": "y"
        },
        {
         "hoverinfo": "text",
         "marker": {
          "color": "rgb(61,153,112)"
         },
         "mode": "lines",
         "type": "scatter",
         "x": [
          0.20930910533777713,
          0.2468969747936772,
          0.2468969747936772,
          0
         ],
         "xaxis": "x",
         "y": [
          -2470,
          -2470,
          -2485,
          -2485
         ],
         "yaxis": "y"
        },
        {
         "hoverinfo": "text",
         "marker": {
          "color": "rgb(61,153,112)"
         },
         "mode": "lines",
         "type": "scatter",
         "x": [
          0,
          0.2562548216483644,
          0.2562548216483644,
          0.2468969747936772
         ],
         "xaxis": "x",
         "y": [
          -2455,
          -2455,
          -2477.5,
          -2477.5
         ],
         "yaxis": "y"
        },
        {
         "hoverinfo": "text",
         "marker": {
          "color": "rgb(61,153,112)"
         },
         "mode": "lines",
         "type": "scatter",
         "x": [
          0.2562548216483644,
          0.2748541668852285,
          0.2748541668852285,
          0
         ],
         "xaxis": "x",
         "y": [
          -2466.25,
          -2466.25,
          -2495,
          -2495
         ],
         "yaxis": "y"
        },
        {
         "hoverinfo": "text",
         "marker": {
          "color": "rgb(61,153,112)"
         },
         "mode": "lines",
         "type": "scatter",
         "x": [
          0,
          0.28145643912691337,
          0.28145643912691337,
          0.2748541668852285
         ],
         "xaxis": "x",
         "y": [
          -2445,
          -2445,
          -2480.625,
          -2480.625
         ],
         "yaxis": "y"
        },
        {
         "hoverinfo": "text",
         "marker": {
          "color": "rgb(61,153,112)"
         },
         "mode": "lines",
         "type": "scatter",
         "x": [
          0.28145643912691337,
          0.2827413174152555,
          0.2827413174152555,
          0
         ],
         "xaxis": "x",
         "y": [
          -2462.8125,
          -2462.8125,
          -2505,
          -2505
         ],
         "yaxis": "y"
        },
        {
         "hoverinfo": "text",
         "marker": {
          "color": "rgb(61,153,112)"
         },
         "mode": "lines",
         "type": "scatter",
         "x": [
          0.2971707772596036,
          0.30555946774785975,
          0.30555946774785975,
          0.2827413174152555
         ],
         "xaxis": "x",
         "y": [
          -2430,
          -2430,
          -2483.90625,
          -2483.90625
         ],
         "yaxis": "y"
        },
        {
         "hoverinfo": "text",
         "marker": {
          "color": "rgb(61,153,112)"
         },
         "mode": "lines",
         "type": "scatter",
         "x": [
          0.30555946774785975,
          0.31319890836018793,
          0.31319890836018793,
          0
         ],
         "xaxis": "x",
         "y": [
          -2456.953125,
          -2456.953125,
          -2515,
          -2515
         ],
         "yaxis": "y"
        },
        {
         "hoverinfo": "text",
         "marker": {
          "color": "rgb(61,153,112)"
         },
         "mode": "lines",
         "type": "scatter",
         "x": [
          0,
          0.33216482054968904,
          0.33216482054968904,
          0.31319890836018793
         ],
         "xaxis": "x",
         "y": [
          -2415,
          -2415,
          -2485.9765625,
          -2485.9765625
         ],
         "yaxis": "y"
        },
        {
         "hoverinfo": "text",
         "marker": {
          "color": "rgb(61,153,112)"
         },
         "mode": "lines",
         "type": "scatter",
         "x": [
          0.33216482054968904,
          0.33823544031599934,
          0.33823544031599934,
          0
         ],
         "xaxis": "x",
         "y": [
          -2450.48828125,
          -2450.48828125,
          -2525,
          -2525
         ],
         "yaxis": "y"
        },
        {
         "hoverinfo": "text",
         "marker": {
          "color": "rgb(61,153,112)"
         },
         "mode": "lines",
         "type": "scatter",
         "x": [
          0,
          0.35359596794222237,
          0.35359596794222237,
          0.33823544031599934
         ],
         "xaxis": "x",
         "y": [
          -2405,
          -2405,
          -2487.744140625,
          -2487.744140625
         ],
         "yaxis": "y"
        },
        {
         "hoverinfo": "text",
         "marker": {
          "color": "rgb(61,153,112)"
         },
         "mode": "lines",
         "type": "scatter",
         "x": [
          0.35359596794222237,
          0.36062212470425103,
          0.36062212470425103,
          0
         ],
         "xaxis": "x",
         "y": [
          -2446.3720703125,
          -2446.3720703125,
          -2535,
          -2535
         ],
         "yaxis": "y"
        },
        {
         "hoverinfo": "text",
         "marker": {
          "color": "rgb(61,153,112)"
         },
         "mode": "lines",
         "type": "scatter",
         "x": [
          0,
          0.3679070879536357,
          0.3679070879536357,
          0.36062212470425103
         ],
         "xaxis": "x",
         "y": [
          -2395,
          -2395,
          -2490.68603515625,
          -2490.68603515625
         ],
         "yaxis": "y"
        },
        {
         "hoverinfo": "text",
         "marker": {
          "color": "rgb(61,153,112)"
         },
         "mode": "lines",
         "type": "scatter",
         "x": [
          0.3679070879536357,
          0.37005361074659543,
          0.37005361074659543,
          0
         ],
         "xaxis": "x",
         "y": [
          -2442.843017578125,
          -2442.843017578125,
          -2545,
          -2545
         ],
         "yaxis": "y"
        },
        {
         "hoverinfo": "text",
         "marker": {
          "color": "rgb(61,153,112)"
         },
         "mode": "lines",
         "type": "scatter",
         "x": [
          0,
          0.37275245970829923,
          0.37275245970829923,
          0.37005361074659543
         ],
         "xaxis": "x",
         "y": [
          -2385,
          -2385,
          -2493.9215087890625,
          -2493.9215087890625
         ],
         "yaxis": "y"
        },
        {
         "hoverinfo": "text",
         "marker": {
          "color": "rgb(61,153,112)"
         },
         "mode": "lines",
         "type": "scatter",
         "x": [
          0.37275245970829923,
          0.3882801347375372,
          0.3882801347375372,
          0
         ],
         "xaxis": "x",
         "y": [
          -2439.4607543945312,
          -2439.4607543945312,
          -2555,
          -2555
         ],
         "yaxis": "y"
        },
        {
         "hoverinfo": "text",
         "marker": {
          "color": "rgb(61,153,112)"
         },
         "mode": "lines",
         "type": "scatter",
         "x": [
          0,
          0.3980325648114809,
          0.3980325648114809,
          0.3882801347375372
         ],
         "xaxis": "x",
         "y": [
          -2375,
          -2375,
          -2497.2303771972656,
          -2497.2303771972656
         ],
         "yaxis": "y"
        },
        {
         "hoverinfo": "text",
         "marker": {
          "color": "rgb(61,153,112)"
         },
         "mode": "lines",
         "type": "scatter",
         "x": [
          0.3980325648114809,
          0.40663205865335134,
          0.40663205865335134,
          0
         ],
         "xaxis": "x",
         "y": [
          -2436.115188598633,
          -2436.115188598633,
          -2565,
          -2565
         ],
         "yaxis": "y"
        },
        {
         "hoverinfo": "text",
         "marker": {
          "color": "rgb(61,153,112)"
         },
         "mode": "lines",
         "type": "scatter",
         "x": [
          0,
          0.4139112970672776,
          0.4139112970672776,
          0.40663205865335134
         ],
         "xaxis": "x",
         "y": [
          -2365,
          -2365,
          -2500.5575942993164,
          -2500.5575942993164
         ],
         "yaxis": "y"
        },
        {
         "hoverinfo": "text",
         "marker": {
          "color": "rgb(61,153,112)"
         },
         "mode": "lines",
         "type": "scatter",
         "x": [
          0,
          0.40646442991995313,
          0.40646442991995313,
          0
         ],
         "xaxis": "x",
         "y": [
          -2575,
          -2575,
          -2585,
          -2585
         ],
         "yaxis": "y"
        },
        {
         "hoverinfo": "text",
         "marker": {
          "color": "rgb(61,153,112)"
         },
         "mode": "lines",
         "type": "scatter",
         "x": [
          0.4139112970672776,
          0.4170982378949358,
          0.4170982378949358,
          0.40646442991995313
         ],
         "xaxis": "x",
         "y": [
          -2432.778797149658,
          -2432.778797149658,
          -2580,
          -2580
         ],
         "yaxis": "y"
        },
        {
         "hoverinfo": "text",
         "marker": {
          "color": "rgb(61,153,112)"
         },
         "mode": "lines",
         "type": "scatter",
         "x": [
          0,
          0.44044156845615984,
          0.44044156845615984,
          0.4170982378949358
         ],
         "xaxis": "x",
         "y": [
          -2355,
          -2355,
          -2506.389398574829,
          -2506.389398574829
         ],
         "yaxis": "y"
        },
        {
         "hoverinfo": "text",
         "marker": {
          "color": "rgb(61,153,112)"
         },
         "mode": "lines",
         "type": "scatter",
         "x": [
          0.44044156845615984,
          0.4450463547343707,
          0.4450463547343707,
          0
         ],
         "xaxis": "x",
         "y": [
          -2430.6946992874146,
          -2430.6946992874146,
          -2595,
          -2595
         ],
         "yaxis": "y"
        },
        {
         "hoverinfo": "text",
         "marker": {
          "color": "rgb(61,153,112)"
         },
         "mode": "lines",
         "type": "scatter",
         "x": [
          0.4450463547343707,
          0.45395878398073314,
          0.45395878398073314,
          0
         ],
         "xaxis": "x",
         "y": [
          -2512.8473496437073,
          -2512.8473496437073,
          -2605,
          -2605
         ],
         "yaxis": "y"
        },
        {
         "hoverinfo": "text",
         "marker": {
          "color": "rgb(61,153,112)"
         },
         "mode": "lines",
         "type": "scatter",
         "x": [
          0.4506347119576076,
          0.4672643746951298,
          0.4672643746951298,
          0.45395878398073314
         ],
         "xaxis": "x",
         "y": [
          -2340,
          -2340,
          -2558.9236748218536,
          -2558.9236748218536
         ],
         "yaxis": "y"
        },
        {
         "hoverinfo": "text",
         "marker": {
          "color": "rgb(61,153,112)"
         },
         "mode": "lines",
         "type": "scatter",
         "x": [
          0.4672643746951298,
          0.4851763691603179,
          0.4851763691603179,
          0
         ],
         "xaxis": "x",
         "y": [
          -2449.461837410927,
          -2449.461837410927,
          -2615,
          -2615
         ],
         "yaxis": "y"
        },
        {
         "hoverinfo": "text",
         "marker": {
          "color": "rgb(61,153,112)"
         },
         "mode": "lines",
         "type": "scatter",
         "x": [
          0,
          0.48893269189257443,
          0.48893269189257443,
          0.4851763691603179
         ],
         "xaxis": "x",
         "y": [
          -2325,
          -2325,
          -2532.2309187054634,
          -2532.2309187054634
         ],
         "yaxis": "y"
        },
        {
         "hoverinfo": "text",
         "marker": {
          "color": "rgb(61,153,112)"
         },
         "mode": "lines",
         "type": "scatter",
         "x": [
          0,
          0.4925299142616265,
          0.4925299142616265,
          0
         ],
         "xaxis": "x",
         "y": [
          -2625,
          -2625,
          -2635,
          -2635
         ],
         "yaxis": "y"
        },
        {
         "hoverinfo": "text",
         "marker": {
          "color": "rgb(61,153,112)"
         },
         "mode": "lines",
         "type": "scatter",
         "x": [
          0.48893269189257443,
          0.49957947347861315,
          0.49957947347861315,
          0.4925299142616265
         ],
         "xaxis": "x",
         "y": [
          -2428.6154593527317,
          -2428.6154593527317,
          -2630,
          -2630
         ],
         "yaxis": "y"
        },
        {
         "hoverinfo": "text",
         "marker": {
          "color": "rgb(61,153,112)"
         },
         "mode": "lines",
         "type": "scatter",
         "x": [
          0,
          0.5077420511810994,
          0.5077420511810994,
          0.49957947347861315
         ],
         "xaxis": "x",
         "y": [
          -2315,
          -2315,
          -2529.307729676366,
          -2529.307729676366
         ],
         "yaxis": "y"
        },
        {
         "hoverinfo": "text",
         "marker": {
          "color": "rgb(61,153,112)"
         },
         "mode": "lines",
         "type": "scatter",
         "x": [
          0.5077420511810994,
          0.5156759073340568,
          0.5156759073340568,
          0
         ],
         "xaxis": "x",
         "y": [
          -2422.153864838183,
          -2422.153864838183,
          -2645,
          -2645
         ],
         "yaxis": "y"
        },
        {
         "hoverinfo": "text",
         "marker": {
          "color": "rgb(61,153,112)"
         },
         "mode": "lines",
         "type": "scatter",
         "x": [
          0.496952039355757,
          0.5198229668000871,
          0.5198229668000871,
          0.5156759073340568
         ],
         "xaxis": "x",
         "y": [
          -2292.5,
          -2292.5,
          -2533.5769324190915,
          -2533.5769324190915
         ],
         "yaxis": "y"
        },
        {
         "hoverinfo": "text",
         "marker": {
          "color": "rgb(61,153,112)"
         },
         "mode": "lines",
         "type": "scatter",
         "x": [
          0,
          0.5217848021528757,
          0.5217848021528757,
          0.5198229668000871
         ],
         "xaxis": "x",
         "y": [
          -2275,
          -2275,
          -2413.0384662095457,
          -2413.0384662095457
         ],
         "yaxis": "y"
        },
        {
         "hoverinfo": "text",
         "marker": {
          "color": "rgb(61,153,112)"
         },
         "mode": "lines",
         "type": "scatter",
         "x": [
          0.5217848021528757,
          0.5232910027316061,
          0.5232910027316061,
          0
         ],
         "xaxis": "x",
         "y": [
          -2344.019233104773,
          -2344.019233104773,
          -2655,
          -2655
         ],
         "yaxis": "y"
        },
        {
         "hoverinfo": "text",
         "marker": {
          "color": "rgb(61,153,112)"
         },
         "mode": "lines",
         "type": "scatter",
         "x": [
          0,
          0.5416906925273456,
          0.5416906925273456,
          0.5232910027316061
         ],
         "xaxis": "x",
         "y": [
          -2265,
          -2265,
          -2499.5096165523864,
          -2499.5096165523864
         ],
         "yaxis": "y"
        },
        {
         "hoverinfo": "text",
         "marker": {
          "color": "rgb(61,153,112)"
         },
         "mode": "lines",
         "type": "scatter",
         "x": [
          0,
          0.5441738342626861,
          0.5441738342626861,
          0
         ],
         "xaxis": "x",
         "y": [
          -2665,
          -2665,
          -2675,
          -2675
         ],
         "yaxis": "y"
        },
        {
         "hoverinfo": "text",
         "marker": {
          "color": "rgb(61,153,112)"
         },
         "mode": "lines",
         "type": "scatter",
         "x": [
          0.5416906925273456,
          0.5525975556990834,
          0.5525975556990834,
          0.5441738342626861
         ],
         "xaxis": "x",
         "y": [
          -2382.254808276193,
          -2382.254808276193,
          -2670,
          -2670
         ],
         "yaxis": "y"
        },
        {
         "hoverinfo": "text",
         "marker": {
          "color": "rgb(61,153,112)"
         },
         "mode": "lines",
         "type": "scatter",
         "x": [
          0,
          0.5578805545710297,
          0.5578805545710297,
          0.5525975556990834
         ],
         "xaxis": "x",
         "y": [
          -2255,
          -2255,
          -2526.1274041380966,
          -2526.1274041380966
         ],
         "yaxis": "y"
        },
        {
         "hoverinfo": "text",
         "marker": {
          "color": "rgb(61,153,112)"
         },
         "mode": "lines",
         "type": "scatter",
         "x": [
          0.5578805545710297,
          0.5602196885044133,
          0.5602196885044133,
          0
         ],
         "xaxis": "x",
         "y": [
          -2390.5637020690483,
          -2390.5637020690483,
          -2685,
          -2685
         ],
         "yaxis": "y"
        },
        {
         "hoverinfo": "text",
         "marker": {
          "color": "rgb(61,153,112)"
         },
         "mode": "lines",
         "type": "scatter",
         "x": [
          0.5602196885044133,
          0.571254970166699,
          0.571254970166699,
          0
         ],
         "xaxis": "x",
         "y": [
          -2537.781851034524,
          -2537.781851034524,
          -2695,
          -2695
         ],
         "yaxis": "y"
        },
        {
         "hoverinfo": "text",
         "marker": {
          "color": "rgb(61,153,112)"
         },
         "mode": "lines",
         "type": "scatter",
         "x": [
          0,
          0.5754613635003705,
          0.5754613635003705,
          0.571254970166699
         ],
         "xaxis": "x",
         "y": [
          -2245,
          -2245,
          -2616.390925517262,
          -2616.390925517262
         ],
         "yaxis": "y"
        },
        {
         "hoverinfo": "text",
         "marker": {
          "color": "rgb(61,153,112)"
         },
         "mode": "lines",
         "type": "scatter",
         "x": [
          0.5716185760010681,
          0.5770509342886332,
          0.5770509342886332,
          0.5754613635003705
         ],
         "xaxis": "x",
         "y": [
          -2230,
          -2230,
          -2430.695462758631,
          -2430.695462758631
         ],
         "yaxis": "y"
        },
        {
         "hoverinfo": "text",
         "marker": {
          "color": "rgb(61,153,112)"
         },
         "mode": "lines",
         "type": "scatter",
         "x": [
          0.5770509342886332,
          0.5811121380647042,
          0.5811121380647042,
          0
         ],
         "xaxis": "x",
         "y": [
          -2330.3477313793155,
          -2330.3477313793155,
          -2705,
          -2705
         ],
         "yaxis": "y"
        },
        {
         "hoverinfo": "text",
         "marker": {
          "color": "rgb(61,153,112)"
         },
         "mode": "lines",
         "type": "scatter",
         "x": [
          0.5874344701294344,
          0.5931289459560474,
          0.5931289459560474,
          0.5811121380647042
         ],
         "xaxis": "x",
         "y": [
          -2207.5,
          -2207.5,
          -2517.6738656896578,
          -2517.6738656896578
         ],
         "yaxis": "y"
        },
        {
         "hoverinfo": "text",
         "marker": {
          "color": "rgb(61,153,112)"
         },
         "mode": "lines",
         "type": "scatter",
         "x": [
          0.5922881302449445,
          0.6072438209120137,
          0.6072438209120137,
          0.5931289459560474
         ],
         "xaxis": "x",
         "y": [
          -2172.5,
          -2172.5,
          -2362.586932844829,
          -2362.586932844829
         ],
         "yaxis": "y"
        },
        {
         "hoverinfo": "text",
         "marker": {
          "color": "rgb(61,153,112)"
         },
         "mode": "lines",
         "type": "scatter",
         "x": [
          0.6072438209120137,
          0.6097261455776066,
          0.6097261455776066,
          0
         ],
         "xaxis": "x",
         "y": [
          -2267.5434664224144,
          -2267.5434664224144,
          -2715,
          -2715
         ],
         "yaxis": "y"
        },
        {
         "hoverinfo": "text",
         "marker": {
          "color": "rgb(61,153,112)"
         },
         "mode": "lines",
         "type": "scatter",
         "x": [
          0,
          0.6114025223427685,
          0.6114025223427685,
          0.6097261455776066
         ],
         "xaxis": "x",
         "y": [
          -2155,
          -2155,
          -2491.271733211207,
          -2491.271733211207
         ],
         "yaxis": "y"
        },
        {
         "hoverinfo": "text",
         "marker": {
          "color": "rgb(61,153,112)"
         },
         "mode": "lines",
         "type": "scatter",
         "x": [
          0,
          0.605729330928185,
          0.605729330928185,
          0
         ],
         "xaxis": "x",
         "y": [
          -2725,
          -2725,
          -2735,
          -2735
         ],
         "yaxis": "y"
        },
        {
         "hoverinfo": "text",
         "marker": {
          "color": "rgb(61,153,112)"
         },
         "mode": "lines",
         "type": "scatter",
         "x": [
          0.6114025223427685,
          0.6163630414927741,
          0.6163630414927741,
          0.605729330928185
         ],
         "xaxis": "x",
         "y": [
          -2323.1358666056035,
          -2323.1358666056035,
          -2730,
          -2730
         ],
         "yaxis": "y"
        },
        {
         "hoverinfo": "text",
         "marker": {
          "color": "rgb(61,153,112)"
         },
         "mode": "lines",
         "type": "scatter",
         "x": [
          0,
          0.6227250146411062,
          0.6227250146411062,
          0.6163630414927741
         ],
         "xaxis": "x",
         "y": [
          -2145,
          -2145,
          -2526.567933302802,
          -2526.567933302802
         ],
         "yaxis": "y"
        },
        {
         "hoverinfo": "text",
         "marker": {
          "color": "rgb(61,153,112)"
         },
         "mode": "lines",
         "type": "scatter",
         "x": [
          0,
          0.6256935075994801,
          0.6256935075994801,
          0
         ],
         "xaxis": "x",
         "y": [
          -2745,
          -2745,
          -2755,
          -2755
         ],
         "yaxis": "y"
        },
        {
         "hoverinfo": "text",
         "marker": {
          "color": "rgb(61,153,112)"
         },
         "mode": "lines",
         "type": "scatter",
         "x": [
          0.6256935075994801,
          0.6409913134731922,
          0.6409913134731922,
          0
         ],
         "xaxis": "x",
         "y": [
          -2750,
          -2750,
          -2765,
          -2765
         ],
         "yaxis": "y"
        },
        {
         "hoverinfo": "text",
         "marker": {
          "color": "rgb(61,153,112)"
         },
         "mode": "lines",
         "type": "scatter",
         "x": [
          0.6227250146411062,
          0.6476045971985395,
          0.6476045971985395,
          0.6409913134731922
         ],
         "xaxis": "x",
         "y": [
          -2335.783966651401,
          -2335.783966651401,
          -2757.5,
          -2757.5
         ],
         "yaxis": "y"
        },
        {
         "hoverinfo": "text",
         "marker": {
          "color": "rgb(61,153,112)"
         },
         "mode": "lines",
         "type": "scatter",
         "x": [
          0.6218702076016874,
          0.650892979898763,
          0.650892979898763,
          0.6476045971985395
         ],
         "xaxis": "x",
         "y": [
          -2130,
          -2130,
          -2546.6419833257005,
          -2546.6419833257005
         ],
         "yaxis": "y"
        },
        {
         "hoverinfo": "text",
         "marker": {
          "color": "rgb(61,153,112)"
         },
         "mode": "lines",
         "type": "scatter",
         "x": [
          0.6094849556387285,
          0.6546611938457323,
          0.6546611938457323,
          0.650892979898763
         ],
         "xaxis": "x",
         "y": [
          -2110,
          -2110,
          -2338.3209916628502,
          -2338.3209916628502
         ],
         "yaxis": "y"
        },
        {
         "hoverinfo": "text",
         "marker": {
          "color": "rgb(61,153,112)"
         },
         "mode": "lines",
         "type": "scatter",
         "x": [
          0,
          0.6605186640818187,
          0.6605186640818187,
          0.6546611938457323
         ],
         "xaxis": "x",
         "y": [
          -2095,
          -2095,
          -2224.160495831425,
          -2224.160495831425
         ],
         "yaxis": "y"
        },
        {
         "hoverinfo": "text",
         "marker": {
          "color": "rgb(61,153,112)"
         },
         "mode": "lines",
         "type": "scatter",
         "x": [
          0.6605186640818187,
          0.6719093007420655,
          0.6719093007420655,
          0
         ],
         "xaxis": "x",
         "y": [
          -2159.580247915713,
          -2159.580247915713,
          -2775,
          -2775
         ],
         "yaxis": "y"
        },
        {
         "hoverinfo": "text",
         "marker": {
          "color": "rgb(0,116,217)"
         },
         "mode": "lines",
         "type": "scatter",
         "x": [
          1.5510001935453355,
          1.7763570104423185,
          1.7763570104423185,
          0.6719093007420655
         ],
         "xaxis": "x",
         "y": [
          -453.3544361591339,
          -453.3544361591339,
          -2467.2901239578564,
          -2467.2901239578564
         ],
         "yaxis": "y"
        },
        {
         "hoverinfo": "text",
         "marker": {
          "color": "rgb(255,65,54)"
         },
         "mode": "lines",
         "type": "scatter",
         "x": [
          0,
          0.23559274210837167,
          0.23559274210837167,
          0
         ],
         "xaxis": "x",
         "y": [
          -2795,
          -2795,
          -2805,
          -2805
         ],
         "yaxis": "y"
        },
        {
         "hoverinfo": "text",
         "marker": {
          "color": "rgb(255,65,54)"
         },
         "mode": "lines",
         "type": "scatter",
         "x": [
          0.23559274210837167,
          0.4828413220141799,
          0.4828413220141799,
          0
         ],
         "xaxis": "x",
         "y": [
          -2800,
          -2800,
          -2815,
          -2815
         ],
         "yaxis": "y"
        },
        {
         "hoverinfo": "text",
         "marker": {
          "color": "rgb(255,65,54)"
         },
         "mode": "lines",
         "type": "scatter",
         "x": [
          0,
          0.5678389688436885,
          0.5678389688436885,
          0.4828413220141799
         ],
         "xaxis": "x",
         "y": [
          -2785,
          -2785,
          -2807.5,
          -2807.5
         ],
         "yaxis": "y"
        },
        {
         "hoverinfo": "text",
         "marker": {
          "color": "rgb(35,205,205)"
         },
         "mode": "lines",
         "type": "scatter",
         "x": [
          0,
          0.71094272342099,
          0.71094272342099,
          0
         ],
         "xaxis": "x",
         "y": [
          -2835,
          -2835,
          -2845,
          -2845
         ],
         "yaxis": "y"
        },
        {
         "hoverinfo": "text",
         "marker": {
          "color": "rgb(35,205,205)"
         },
         "mode": "lines",
         "type": "scatter",
         "x": [
          0,
          0.6070328278139003,
          0.6070328278139003,
          0
         ],
         "xaxis": "x",
         "y": [
          -2875,
          -2875,
          -2885,
          -2885
         ],
         "yaxis": "y"
        },
        {
         "hoverinfo": "text",
         "marker": {
          "color": "rgb(35,205,205)"
         },
         "mode": "lines",
         "type": "scatter",
         "x": [
          0,
          0.6961638436591433,
          0.6961638436591433,
          0.6070328278139003
         ],
         "xaxis": "x",
         "y": [
          -2865,
          -2865,
          -2880,
          -2880
         ],
         "yaxis": "y"
        },
        {
         "hoverinfo": "text",
         "marker": {
          "color": "rgb(35,205,205)"
         },
         "mode": "lines",
         "type": "scatter",
         "x": [
          0.6961638436591433,
          0.7415353836994873,
          0.7415353836994873,
          0
         ],
         "xaxis": "x",
         "y": [
          -2872.5,
          -2872.5,
          -2895,
          -2895
         ],
         "yaxis": "y"
        },
        {
         "hoverinfo": "text",
         "marker": {
          "color": "rgb(35,205,205)"
         },
         "mode": "lines",
         "type": "scatter",
         "x": [
          0,
          0.770181782980892,
          0.770181782980892,
          0.7415353836994873
         ],
         "xaxis": "x",
         "y": [
          -2855,
          -2855,
          -2883.75,
          -2883.75
         ],
         "yaxis": "y"
        },
        {
         "hoverinfo": "text",
         "marker": {
          "color": "rgb(35,205,205)"
         },
         "mode": "lines",
         "type": "scatter",
         "x": [
          0.770181782980892,
          0.8097386650908841,
          0.8097386650908841,
          0
         ],
         "xaxis": "x",
         "y": [
          -2869.375,
          -2869.375,
          -2905,
          -2905
         ],
         "yaxis": "y"
        },
        {
         "hoverinfo": "text",
         "marker": {
          "color": "rgb(35,205,205)"
         },
         "mode": "lines",
         "type": "scatter",
         "x": [
          0.71094272342099,
          0.8278935244494682,
          0.8278935244494682,
          0.8097386650908841
         ],
         "xaxis": "x",
         "y": [
          -2840,
          -2840,
          -2887.1875,
          -2887.1875
         ],
         "yaxis": "y"
        },
        {
         "hoverinfo": "text",
         "marker": {
          "color": "rgb(35,205,205)"
         },
         "mode": "lines",
         "type": "scatter",
         "x": [
          0,
          0.8607954433838528,
          0.8607954433838528,
          0.8278935244494682
         ],
         "xaxis": "x",
         "y": [
          -2825,
          -2825,
          -2863.59375,
          -2863.59375
         ],
         "yaxis": "y"
        },
        {
         "hoverinfo": "text",
         "marker": {
          "color": "rgb(35,205,205)"
         },
         "mode": "lines",
         "type": "scatter",
         "x": [
          0,
          0.8228268673777256,
          0.8228268673777256,
          0
         ],
         "xaxis": "x",
         "y": [
          -2915,
          -2915,
          -2925,
          -2925
         ],
         "yaxis": "y"
        },
        {
         "hoverinfo": "text",
         "marker": {
          "color": "rgb(35,205,205)"
         },
         "mode": "lines",
         "type": "scatter",
         "x": [
          0.8607954433838528,
          0.8939626242697105,
          0.8939626242697105,
          0.8228268673777256
         ],
         "xaxis": "x",
         "y": [
          -2844.296875,
          -2844.296875,
          -2920,
          -2920
         ],
         "yaxis": "y"
        },
        {
         "hoverinfo": "text",
         "marker": {
          "color": "rgb(133,20,75)"
         },
         "mode": "lines",
         "type": "scatter",
         "x": [
          0,
          0.6269465660842152,
          0.6269465660842152,
          0
         ],
         "xaxis": "x",
         "y": [
          -2935,
          -2935,
          -2945,
          -2945
         ],
         "yaxis": "y"
        },
        {
         "hoverinfo": "text",
         "marker": {
          "color": "rgb(255,220,0)"
         },
         "mode": "lines",
         "type": "scatter",
         "x": [
          0,
          0.6938727125304756,
          0.6938727125304756,
          0
         ],
         "xaxis": "x",
         "y": [
          -2955,
          -2955,
          -2965,
          -2965
         ],
         "yaxis": "y"
        },
        {
         "hoverinfo": "text",
         "marker": {
          "color": "rgb(255,220,0)"
         },
         "mode": "lines",
         "type": "scatter",
         "x": [
          0.6938727125304756,
          0.7681183596704946,
          0.7681183596704946,
          0
         ],
         "xaxis": "x",
         "y": [
          -2960,
          -2960,
          -2975,
          -2975
         ],
         "yaxis": "y"
        },
        {
         "hoverinfo": "text",
         "marker": {
          "color": "rgb(40,35,35)"
         },
         "mode": "lines",
         "type": "scatter",
         "x": [
          0,
          0.7826755491033386,
          0.7826755491033386,
          0
         ],
         "xaxis": "x",
         "y": [
          -2995,
          -2995,
          -3005,
          -3005
         ],
         "yaxis": "y"
        },
        {
         "hoverinfo": "text",
         "marker": {
          "color": "rgb(40,35,35)"
         },
         "mode": "lines",
         "type": "scatter",
         "x": [
          0,
          0.8178274835812352,
          0.8178274835812352,
          0.7826755491033386
         ],
         "xaxis": "x",
         "y": [
          -2985,
          -2985,
          -3000,
          -3000
         ],
         "yaxis": "y"
        },
        {
         "hoverinfo": "text",
         "marker": {
          "color": "rgb(40,35,35)"
         },
         "mode": "lines",
         "type": "scatter",
         "x": [
          0,
          0.6792973362360799,
          0.6792973362360799,
          0
         ],
         "xaxis": "x",
         "y": [
          -3015,
          -3015,
          -3025,
          -3025
         ],
         "yaxis": "y"
        },
        {
         "hoverinfo": "text",
         "marker": {
          "color": "rgb(40,35,35)"
         },
         "mode": "lines",
         "type": "scatter",
         "x": [
          0,
          0.8157197680304809,
          0.8157197680304809,
          0
         ],
         "xaxis": "x",
         "y": [
          -3035,
          -3035,
          -3045,
          -3045
         ],
         "yaxis": "y"
        },
        {
         "hoverinfo": "text",
         "marker": {
          "color": "rgb(40,35,35)"
         },
         "mode": "lines",
         "type": "scatter",
         "x": [
          0.6792973362360799,
          0.8346008844359616,
          0.8346008844359616,
          0.8157197680304809
         ],
         "xaxis": "x",
         "y": [
          -3020,
          -3020,
          -3040,
          -3040
         ],
         "yaxis": "y"
        },
        {
         "hoverinfo": "text",
         "marker": {
          "color": "rgb(40,35,35)"
         },
         "mode": "lines",
         "type": "scatter",
         "x": [
          0.8178274835812352,
          0.9105134998206001,
          0.9105134998206001,
          0.8346008844359616
         ],
         "xaxis": "x",
         "y": [
          -2992.5,
          -2992.5,
          -3030,
          -3030
         ],
         "yaxis": "y"
        },
        {
         "hoverinfo": "text",
         "marker": {
          "color": "rgb(40,35,35)"
         },
         "mode": "lines",
         "type": "scatter",
         "x": [
          0,
          0.8144210808460659,
          0.8144210808460659,
          0
         ],
         "xaxis": "x",
         "y": [
          -3065,
          -3065,
          -3075,
          -3075
         ],
         "yaxis": "y"
        },
        {
         "hoverinfo": "text",
         "marker": {
          "color": "rgb(40,35,35)"
         },
         "mode": "lines",
         "type": "scatter",
         "x": [
          0,
          0.8267420295884086,
          0.8267420295884086,
          0.8144210808460659
         ],
         "xaxis": "x",
         "y": [
          -3055,
          -3055,
          -3070,
          -3070
         ],
         "yaxis": "y"
        },
        {
         "hoverinfo": "text",
         "marker": {
          "color": "rgb(40,35,35)"
         },
         "mode": "lines",
         "type": "scatter",
         "x": [
          0.9105134998206001,
          0.9587836315234515,
          0.9587836315234515,
          0.8267420295884086
         ],
         "xaxis": "x",
         "y": [
          -3011.25,
          -3011.25,
          -3062.5,
          -3062.5
         ],
         "yaxis": "y"
        },
        {
         "hoverinfo": "text",
         "marker": {
          "color": "rgb(0,116,217)"
         },
         "mode": "lines",
         "type": "scatter",
         "x": [
          0.7681183596704946,
          1.0167809575487228,
          1.0167809575487228,
          0.9587836315234515
         ],
         "xaxis": "x",
         "y": [
          -2967.5,
          -2967.5,
          -3036.875,
          -3036.875
         ],
         "yaxis": "y"
        },
        {
         "hoverinfo": "text",
         "marker": {
          "color": "rgb(0,116,217)"
         },
         "mode": "lines",
         "type": "scatter",
         "x": [
          0.6269465660842152,
          1.1396321903353057,
          1.1396321903353057,
          1.0167809575487228
         ],
         "xaxis": "x",
         "y": [
          -2940,
          -2940,
          -3002.1875,
          -3002.1875
         ],
         "yaxis": "y"
        },
        {
         "hoverinfo": "text",
         "marker": {
          "color": "rgb(61,153,112)"
         },
         "mode": "lines",
         "type": "scatter",
         "x": [
          0,
          0.8162165193717189,
          0.8162165193717189,
          0
         ],
         "xaxis": "x",
         "y": [
          -3095,
          -3095,
          -3105,
          -3105
         ],
         "yaxis": "y"
        },
        {
         "hoverinfo": "text",
         "marker": {
          "color": "rgb(61,153,112)"
         },
         "mode": "lines",
         "type": "scatter",
         "x": [
          0,
          0.8510198043487326,
          0.8510198043487326,
          0.8162165193717189
         ],
         "xaxis": "x",
         "y": [
          -3085,
          -3085,
          -3100,
          -3100
         ],
         "yaxis": "y"
        },
        {
         "hoverinfo": "text",
         "marker": {
          "color": "rgb(61,153,112)"
         },
         "mode": "lines",
         "type": "scatter",
         "x": [
          0,
          0.7972964627799833,
          0.7972964627799833,
          0
         ],
         "xaxis": "x",
         "y": [
          -3125,
          -3125,
          -3135,
          -3135
         ],
         "yaxis": "y"
        },
        {
         "hoverinfo": "text",
         "marker": {
          "color": "rgb(61,153,112)"
         },
         "mode": "lines",
         "type": "scatter",
         "x": [
          0,
          0.8239925946250264,
          0.8239925946250264,
          0.7972964627799833
         ],
         "xaxis": "x",
         "y": [
          -3115,
          -3115,
          -3130,
          -3130
         ],
         "yaxis": "y"
        },
        {
         "hoverinfo": "text",
         "marker": {
          "color": "rgb(61,153,112)"
         },
         "mode": "lines",
         "type": "scatter",
         "x": [
          0.8239925946250264,
          0.8517105001407638,
          0.8517105001407638,
          0
         ],
         "xaxis": "x",
         "y": [
          -3122.5,
          -3122.5,
          -3145,
          -3145
         ],
         "yaxis": "y"
        },
        {
         "hoverinfo": "text",
         "marker": {
          "color": "rgb(61,153,112)"
         },
         "mode": "lines",
         "type": "scatter",
         "x": [
          0.8510198043487326,
          0.8676939716345964,
          0.8676939716345964,
          0.8517105001407638
         ],
         "xaxis": "x",
         "y": [
          -3092.5,
          -3092.5,
          -3133.75,
          -3133.75
         ],
         "yaxis": "y"
        },
        {
         "hoverinfo": "text",
         "marker": {
          "color": "rgb(61,153,112)"
         },
         "mode": "lines",
         "type": "scatter",
         "x": [
          0,
          0.7652137462852381,
          0.7652137462852381,
          0
         ],
         "xaxis": "x",
         "y": [
          -3165,
          -3165,
          -3175,
          -3175
         ],
         "yaxis": "y"
        },
        {
         "hoverinfo": "text",
         "marker": {
          "color": "rgb(61,153,112)"
         },
         "mode": "lines",
         "type": "scatter",
         "x": [
          0,
          0.7839644724900058,
          0.7839644724900058,
          0.7652137462852381
         ],
         "xaxis": "x",
         "y": [
          -3155,
          -3155,
          -3170,
          -3170
         ],
         "yaxis": "y"
        },
        {
         "hoverinfo": "text",
         "marker": {
          "color": "rgb(61,153,112)"
         },
         "mode": "lines",
         "type": "scatter",
         "x": [
          0.8676939716345964,
          0.9783617236969749,
          0.9783617236969749,
          0.7839644724900058
         ],
         "xaxis": "x",
         "y": [
          -3113.125,
          -3113.125,
          -3162.5,
          -3162.5
         ],
         "yaxis": "y"
        },
        {
         "hoverinfo": "text",
         "marker": {
          "color": "rgb(255,65,54)"
         },
         "mode": "lines",
         "type": "scatter",
         "x": [
          0,
          0.8226308017016819,
          0.8226308017016819,
          0
         ],
         "xaxis": "x",
         "y": [
          -3205,
          -3205,
          -3215,
          -3215
         ],
         "yaxis": "y"
        },
        {
         "hoverinfo": "text",
         "marker": {
          "color": "rgb(255,65,54)"
         },
         "mode": "lines",
         "type": "scatter",
         "x": [
          0,
          0.8281552170317611,
          0.8281552170317611,
          0.8226308017016819
         ],
         "xaxis": "x",
         "y": [
          -3195,
          -3195,
          -3210,
          -3210
         ],
         "yaxis": "y"
        },
        {
         "hoverinfo": "text",
         "marker": {
          "color": "rgb(255,65,54)"
         },
         "mode": "lines",
         "type": "scatter",
         "x": [
          0,
          0.8652998201594944,
          0.8652998201594944,
          0.8281552170317611
         ],
         "xaxis": "x",
         "y": [
          -3185,
          -3185,
          -3202.5,
          -3202.5
         ],
         "yaxis": "y"
        },
        {
         "hoverinfo": "text",
         "marker": {
          "color": "rgb(35,205,205)"
         },
         "mode": "lines",
         "type": "scatter",
         "x": [
          0,
          0.7591365883269033,
          0.7591365883269033,
          0
         ],
         "xaxis": "x",
         "y": [
          -3225,
          -3225,
          -3235,
          -3235
         ],
         "yaxis": "y"
        },
        {
         "hoverinfo": "text",
         "marker": {
          "color": "rgb(35,205,205)"
         },
         "mode": "lines",
         "type": "scatter",
         "x": [
          0,
          0.8287488455940631,
          0.8287488455940631,
          0
         ],
         "xaxis": "x",
         "y": [
          -3245,
          -3245,
          -3255,
          -3255
         ],
         "yaxis": "y"
        },
        {
         "hoverinfo": "text",
         "marker": {
          "color": "rgb(35,205,205)"
         },
         "mode": "lines",
         "type": "scatter",
         "x": [
          0.7591365883269033,
          0.9325837600004585,
          0.9325837600004585,
          0.8287488455940631
         ],
         "xaxis": "x",
         "y": [
          -3230,
          -3230,
          -3250,
          -3250
         ],
         "yaxis": "y"
        },
        {
         "hoverinfo": "text",
         "marker": {
          "color": "rgb(0,116,217)"
         },
         "mode": "lines",
         "type": "scatter",
         "x": [
          0.8652998201594944,
          1.0180855874537114,
          1.0180855874537114,
          0.9325837600004585
         ],
         "xaxis": "x",
         "y": [
          -3193.75,
          -3193.75,
          -3240,
          -3240
         ],
         "yaxis": "y"
        },
        {
         "hoverinfo": "text",
         "marker": {
          "color": "rgb(0,116,217)"
         },
         "mode": "lines",
         "type": "scatter",
         "x": [
          0.9783617236969749,
          1.189184850845681,
          1.189184850845681,
          1.0180855874537114
         ],
         "xaxis": "x",
         "y": [
          -3137.8125,
          -3137.8125,
          -3216.875,
          -3216.875
         ],
         "yaxis": "y"
        },
        {
         "hoverinfo": "text",
         "marker": {
          "color": "rgb(0,116,217)"
         },
         "mode": "lines",
         "type": "scatter",
         "x": [
          1.1396321903353057,
          1.2018840848892043,
          1.2018840848892043,
          1.189184850845681
         ],
         "xaxis": "x",
         "y": [
          -2971.09375,
          -2971.09375,
          -3177.34375,
          -3177.34375
         ],
         "yaxis": "y"
        },
        {
         "hoverinfo": "text",
         "marker": {
          "color": "rgb(0,116,217)"
         },
         "mode": "lines",
         "type": "scatter",
         "x": [
          0.8939626242697105,
          1.313188786382522,
          1.313188786382522,
          1.2018840848892043
         ],
         "xaxis": "x",
         "y": [
          -2882.1484375,
          -2882.1484375,
          -3074.21875,
          -3074.21875
         ],
         "yaxis": "y"
        },
        {
         "hoverinfo": "text",
         "marker": {
          "color": "rgb(61,153,112)"
         },
         "mode": "lines",
         "type": "scatter",
         "x": [
          0,
          0.673100833279784,
          0.673100833279784,
          0
         ],
         "xaxis": "x",
         "y": [
          -3285,
          -3285,
          -3295,
          -3295
         ],
         "yaxis": "y"
        },
        {
         "hoverinfo": "text",
         "marker": {
          "color": "rgb(61,153,112)"
         },
         "mode": "lines",
         "type": "scatter",
         "x": [
          0.673100833279784,
          0.8068722206876131,
          0.8068722206876131,
          0
         ],
         "xaxis": "x",
         "y": [
          -3290,
          -3290,
          -3305,
          -3305
         ],
         "yaxis": "y"
        },
        {
         "hoverinfo": "text",
         "marker": {
          "color": "rgb(61,153,112)"
         },
         "mode": "lines",
         "type": "scatter",
         "x": [
          0,
          0.8335357577646613,
          0.8335357577646613,
          0.8068722206876131
         ],
         "xaxis": "x",
         "y": [
          -3275,
          -3275,
          -3297.5,
          -3297.5
         ],
         "yaxis": "y"
        },
        {
         "hoverinfo": "text",
         "marker": {
          "color": "rgb(61,153,112)"
         },
         "mode": "lines",
         "type": "scatter",
         "x": [
          0,
          0.8372969182263907,
          0.8372969182263907,
          0
         ],
         "xaxis": "x",
         "y": [
          -3315,
          -3315,
          -3325,
          -3325
         ],
         "yaxis": "y"
        },
        {
         "hoverinfo": "text",
         "marker": {
          "color": "rgb(61,153,112)"
         },
         "mode": "lines",
         "type": "scatter",
         "x": [
          0.8335357577646613,
          0.859352923311719,
          0.859352923311719,
          0.8372969182263907
         ],
         "xaxis": "x",
         "y": [
          -3286.25,
          -3286.25,
          -3320,
          -3320
         ],
         "yaxis": "y"
        },
        {
         "hoverinfo": "text",
         "marker": {
          "color": "rgb(61,153,112)"
         },
         "mode": "lines",
         "type": "scatter",
         "x": [
          0,
          0.954105185482374,
          0.954105185482374,
          0.859352923311719
         ],
         "xaxis": "x",
         "y": [
          -3265,
          -3265,
          -3303.125,
          -3303.125
         ],
         "yaxis": "y"
        },
        {
         "hoverinfo": "text",
         "marker": {
          "color": "rgb(255,65,54)"
         },
         "mode": "lines",
         "type": "scatter",
         "x": [
          0,
          0.7126091731155058,
          0.7126091731155058,
          0
         ],
         "xaxis": "x",
         "y": [
          -3335,
          -3335,
          -3345,
          -3345
         ],
         "yaxis": "y"
        },
        {
         "hoverinfo": "text",
         "marker": {
          "color": "rgb(255,65,54)"
         },
         "mode": "lines",
         "type": "scatter",
         "x": [
          0.7126091731155058,
          0.746363261607779,
          0.746363261607779,
          0
         ],
         "xaxis": "x",
         "y": [
          -3340,
          -3340,
          -3355,
          -3355
         ],
         "yaxis": "y"
        },
        {
         "hoverinfo": "text",
         "marker": {
          "color": "rgb(35,205,205)"
         },
         "mode": "lines",
         "type": "scatter",
         "x": [
          0,
          0.8541459543105092,
          0.8541459543105092,
          0
         ],
         "xaxis": "x",
         "y": [
          -3375,
          -3375,
          -3385,
          -3385
         ],
         "yaxis": "y"
        },
        {
         "hoverinfo": "text",
         "marker": {
          "color": "rgb(35,205,205)"
         },
         "mode": "lines",
         "type": "scatter",
         "x": [
          0,
          0.9244727007345206,
          0.9244727007345206,
          0.8541459543105092
         ],
         "xaxis": "x",
         "y": [
          -3365,
          -3365,
          -3380,
          -3380
         ],
         "yaxis": "y"
        },
        {
         "hoverinfo": "text",
         "marker": {
          "color": "rgb(35,205,205)"
         },
         "mode": "lines",
         "type": "scatter",
         "x": [
          0,
          0.8387867285821434,
          0.8387867285821434,
          0
         ],
         "xaxis": "x",
         "y": [
          -3395,
          -3395,
          -3405,
          -3405
         ],
         "yaxis": "y"
        },
        {
         "hoverinfo": "text",
         "marker": {
          "color": "rgb(35,205,205)"
         },
         "mode": "lines",
         "type": "scatter",
         "x": [
          0.9244727007345206,
          0.9372248099834081,
          0.9372248099834081,
          0.8387867285821434
         ],
         "xaxis": "x",
         "y": [
          -3372.5,
          -3372.5,
          -3400,
          -3400
         ],
         "yaxis": "y"
        },
        {
         "hoverinfo": "text",
         "marker": {
          "color": "rgb(35,205,205)"
         },
         "mode": "lines",
         "type": "scatter",
         "x": [
          0,
          0.8773757712411309,
          0.8773757712411309,
          0
         ],
         "xaxis": "x",
         "y": [
          -3415,
          -3415,
          -3425,
          -3425
         ],
         "yaxis": "y"
        },
        {
         "hoverinfo": "text",
         "marker": {
          "color": "rgb(35,205,205)"
         },
         "mode": "lines",
         "type": "scatter",
         "x": [
          0,
          0.9139662479297916,
          0.9139662479297916,
          0
         ],
         "xaxis": "x",
         "y": [
          -3435,
          -3435,
          -3445,
          -3445
         ],
         "yaxis": "y"
        },
        {
         "hoverinfo": "text",
         "marker": {
          "color": "rgb(35,205,205)"
         },
         "mode": "lines",
         "type": "scatter",
         "x": [
          0.8773757712411309,
          0.9371670923419365,
          0.9371670923419365,
          0.9139662479297916
         ],
         "xaxis": "x",
         "y": [
          -3420,
          -3420,
          -3440,
          -3440
         ],
         "yaxis": "y"
        },
        {
         "hoverinfo": "text",
         "marker": {
          "color": "rgb(35,205,205)"
         },
         "mode": "lines",
         "type": "scatter",
         "x": [
          0.9372248099834081,
          0.9570204171115866,
          0.9570204171115866,
          0.9371670923419365
         ],
         "xaxis": "x",
         "y": [
          -3386.25,
          -3386.25,
          -3430,
          -3430
         ],
         "yaxis": "y"
        },
        {
         "hoverinfo": "text",
         "marker": {
          "color": "rgb(35,205,205)"
         },
         "mode": "lines",
         "type": "scatter",
         "x": [
          0,
          0.850822280332949,
          0.850822280332949,
          0
         ],
         "xaxis": "x",
         "y": [
          -3455,
          -3455,
          -3465,
          -3465
         ],
         "yaxis": "y"
        },
        {
         "hoverinfo": "text",
         "marker": {
          "color": "rgb(35,205,205)"
         },
         "mode": "lines",
         "type": "scatter",
         "x": [
          0,
          0.8607968417132946,
          0.8607968417132946,
          0
         ],
         "xaxis": "x",
         "y": [
          -3475,
          -3475,
          -3485,
          -3485
         ],
         "yaxis": "y"
        },
        {
         "hoverinfo": "text",
         "marker": {
          "color": "rgb(35,205,205)"
         },
         "mode": "lines",
         "type": "scatter",
         "x": [
          0.850822280332949,
          0.8853444149906882,
          0.8853444149906882,
          0.8607968417132946
         ],
         "xaxis": "x",
         "y": [
          -3460,
          -3460,
          -3480,
          -3480
         ],
         "yaxis": "y"
        },
        {
         "hoverinfo": "text",
         "marker": {
          "color": "rgb(35,205,205)"
         },
         "mode": "lines",
         "type": "scatter",
         "x": [
          0,
          0.8420451282332098,
          0.8420451282332098,
          0
         ],
         "xaxis": "x",
         "y": [
          -3505,
          -3505,
          -3515,
          -3515
         ],
         "yaxis": "y"
        },
        {
         "hoverinfo": "text",
         "marker": {
          "color": "rgb(35,205,205)"
         },
         "mode": "lines",
         "type": "scatter",
         "x": [
          0,
          0.8492626716662088,
          0.8492626716662088,
          0
         ],
         "xaxis": "x",
         "y": [
          -3525,
          -3525,
          -3535,
          -3535
         ],
         "yaxis": "y"
        },
        {
         "hoverinfo": "text",
         "marker": {
          "color": "rgb(35,205,205)"
         },
         "mode": "lines",
         "type": "scatter",
         "x": [
          0.8420451282332098,
          0.8575335635506658,
          0.8575335635506658,
          0.8492626716662088
         ],
         "xaxis": "x",
         "y": [
          -3510,
          -3510,
          -3530,
          -3530
         ],
         "yaxis": "y"
        },
        {
         "hoverinfo": "text",
         "marker": {
          "color": "rgb(35,205,205)"
         },
         "mode": "lines",
         "type": "scatter",
         "x": [
          0,
          0.8705809550424414,
          0.8705809550424414,
          0.8575335635506658
         ],
         "xaxis": "x",
         "y": [
          -3495,
          -3495,
          -3520,
          -3520
         ],
         "yaxis": "y"
        },
        {
         "hoverinfo": "text",
         "marker": {
          "color": "rgb(35,205,205)"
         },
         "mode": "lines",
         "type": "scatter",
         "x": [
          0,
          0.8632047860383047,
          0.8632047860383047,
          0
         ],
         "xaxis": "x",
         "y": [
          -3545,
          -3545,
          -3555,
          -3555
         ],
         "yaxis": "y"
        },
        {
         "hoverinfo": "text",
         "marker": {
          "color": "rgb(35,205,205)"
         },
         "mode": "lines",
         "type": "scatter",
         "x": [
          0.8632047860383047,
          0.8742863791074352,
          0.8742863791074352,
          0
         ],
         "xaxis": "x",
         "y": [
          -3550,
          -3550,
          -3565,
          -3565
         ],
         "yaxis": "y"
        },
        {
         "hoverinfo": "text",
         "marker": {
          "color": "rgb(35,205,205)"
         },
         "mode": "lines",
         "type": "scatter",
         "x": [
          0.8705809550424414,
          0.90143081573093,
          0.90143081573093,
          0.8742863791074352
         ],
         "xaxis": "x",
         "y": [
          -3507.5,
          -3507.5,
          -3557.5,
          -3557.5
         ],
         "yaxis": "y"
        },
        {
         "hoverinfo": "text",
         "marker": {
          "color": "rgb(35,205,205)"
         },
         "mode": "lines",
         "type": "scatter",
         "x": [
          0.8853444149906882,
          0.9119513718439479,
          0.9119513718439479,
          0.90143081573093
         ],
         "xaxis": "x",
         "y": [
          -3470,
          -3470,
          -3532.5,
          -3532.5
         ],
         "yaxis": "y"
        },
        {
         "hoverinfo": "text",
         "marker": {
          "color": "rgb(35,205,205)"
         },
         "mode": "lines",
         "type": "scatter",
         "x": [
          0,
          0.8145843083539809,
          0.8145843083539809,
          0
         ],
         "xaxis": "x",
         "y": [
          -3575,
          -3575,
          -3585,
          -3585
         ],
         "yaxis": "y"
        },
        {
         "hoverinfo": "text",
         "marker": {
          "color": "rgb(35,205,205)"
         },
         "mode": "lines",
         "type": "scatter",
         "x": [
          0,
          0.8352054859641347,
          0.8352054859641347,
          0
         ],
         "xaxis": "x",
         "y": [
          -3595,
          -3595,
          -3605,
          -3605
         ],
         "yaxis": "y"
        },
        {
         "hoverinfo": "text",
         "marker": {
          "color": "rgb(35,205,205)"
         },
         "mode": "lines",
         "type": "scatter",
         "x": [
          0.8145843083539809,
          0.8599261857998599,
          0.8599261857998599,
          0.8352054859641347
         ],
         "xaxis": "x",
         "y": [
          -3580,
          -3580,
          -3600,
          -3600
         ],
         "yaxis": "y"
        },
        {
         "hoverinfo": "text",
         "marker": {
          "color": "rgb(35,205,205)"
         },
         "mode": "lines",
         "type": "scatter",
         "x": [
          0.9119513718439479,
          0.9256028590461223,
          0.9256028590461223,
          0.8599261857998599
         ],
         "xaxis": "x",
         "y": [
          -3501.25,
          -3501.25,
          -3590,
          -3590
         ],
         "yaxis": "y"
        },
        {
         "hoverinfo": "text",
         "marker": {
          "color": "rgb(35,205,205)"
         },
         "mode": "lines",
         "type": "scatter",
         "x": [
          0,
          0.8764236879529873,
          0.8764236879529873,
          0
         ],
         "xaxis": "x",
         "y": [
          -3625,
          -3625,
          -3635,
          -3635
         ],
         "yaxis": "y"
        },
        {
         "hoverinfo": "text",
         "marker": {
          "color": "rgb(35,205,205)"
         },
         "mode": "lines",
         "type": "scatter",
         "x": [
          0,
          0.9056568042754606,
          0.9056568042754606,
          0.8764236879529873
         ],
         "xaxis": "x",
         "y": [
          -3615,
          -3615,
          -3630,
          -3630
         ],
         "yaxis": "y"
        },
        {
         "hoverinfo": "text",
         "marker": {
          "color": "rgb(35,205,205)"
         },
         "mode": "lines",
         "type": "scatter",
         "x": [
          0,
          0.8737208900535539,
          0.8737208900535539,
          0
         ],
         "xaxis": "x",
         "y": [
          -3655,
          -3655,
          -3665,
          -3665
         ],
         "yaxis": "y"
        },
        {
         "hoverinfo": "text",
         "marker": {
          "color": "rgb(35,205,205)"
         },
         "mode": "lines",
         "type": "scatter",
         "x": [
          0,
          0.8924488026660182,
          0.8924488026660182,
          0.8737208900535539
         ],
         "xaxis": "x",
         "y": [
          -3645,
          -3645,
          -3660,
          -3660
         ],
         "yaxis": "y"
        },
        {
         "hoverinfo": "text",
         "marker": {
          "color": "rgb(35,205,205)"
         },
         "mode": "lines",
         "type": "scatter",
         "x": [
          0,
          0.8716815954699743,
          0.8716815954699743,
          0
         ],
         "xaxis": "x",
         "y": [
          -3675,
          -3675,
          -3685,
          -3685
         ],
         "yaxis": "y"
        },
        {
         "hoverinfo": "text",
         "marker": {
          "color": "rgb(35,205,205)"
         },
         "mode": "lines",
         "type": "scatter",
         "x": [
          0.8716815954699743,
          0.8887448831424541,
          0.8887448831424541,
          0
         ],
         "xaxis": "x",
         "y": [
          -3680,
          -3680,
          -3695,
          -3695
         ],
         "yaxis": "y"
        },
        {
         "hoverinfo": "text",
         "marker": {
          "color": "rgb(35,205,205)"
         },
         "mode": "lines",
         "type": "scatter",
         "x": [
          0.8924488026660182,
          0.9157166565268728,
          0.9157166565268728,
          0.8887448831424541
         ],
         "xaxis": "x",
         "y": [
          -3652.5,
          -3652.5,
          -3687.5,
          -3687.5
         ],
         "yaxis": "y"
        },
        {
         "hoverinfo": "text",
         "marker": {
          "color": "rgb(35,205,205)"
         },
         "mode": "lines",
         "type": "scatter",
         "x": [
          0.9056568042754606,
          0.9322615625672711,
          0.9322615625672711,
          0.9157166565268728
         ],
         "xaxis": "x",
         "y": [
          -3622.5,
          -3622.5,
          -3670,
          -3670
         ],
         "yaxis": "y"
        },
        {
         "hoverinfo": "text",
         "marker": {
          "color": "rgb(35,205,205)"
         },
         "mode": "lines",
         "type": "scatter",
         "x": [
          0,
          0.8875111225132138,
          0.8875111225132138,
          0
         ],
         "xaxis": "x",
         "y": [
          -3705,
          -3705,
          -3715,
          -3715
         ],
         "yaxis": "y"
        },
        {
         "hoverinfo": "text",
         "marker": {
          "color": "rgb(35,205,205)"
         },
         "mode": "lines",
         "type": "scatter",
         "x": [
          0,
          0.8958127515496211,
          0.8958127515496211,
          0
         ],
         "xaxis": "x",
         "y": [
          -3725,
          -3725,
          -3735,
          -3735
         ],
         "yaxis": "y"
        },
        {
         "hoverinfo": "text",
         "marker": {
          "color": "rgb(35,205,205)"
         },
         "mode": "lines",
         "type": "scatter",
         "x": [
          0.8875111225132138,
          0.9073348709343114,
          0.9073348709343114,
          0.8958127515496211
         ],
         "xaxis": "x",
         "y": [
          -3710,
          -3710,
          -3730,
          -3730
         ],
         "yaxis": "y"
        },
        {
         "hoverinfo": "text",
         "marker": {
          "color": "rgb(35,205,205)"
         },
         "mode": "lines",
         "type": "scatter",
         "x": [
          0,
          0.8987430005842529,
          0.8987430005842529,
          0
         ],
         "xaxis": "x",
         "y": [
          -3745,
          -3745,
          -3755,
          -3755
         ],
         "yaxis": "y"
        },
        {
         "hoverinfo": "text",
         "marker": {
          "color": "rgb(35,205,205)"
         },
         "mode": "lines",
         "type": "scatter",
         "x": [
          0.9073348709343114,
          0.9379782184985841,
          0.9379782184985841,
          0.8987430005842529
         ],
         "xaxis": "x",
         "y": [
          -3720,
          -3720,
          -3750,
          -3750
         ],
         "yaxis": "y"
        },
        {
         "hoverinfo": "text",
         "marker": {
          "color": "rgb(35,205,205)"
         },
         "mode": "lines",
         "type": "scatter",
         "x": [
          0.9322615625672711,
          0.9490878997193206,
          0.9490878997193206,
          0.9379782184985841
         ],
         "xaxis": "x",
         "y": [
          -3646.25,
          -3646.25,
          -3735,
          -3735
         ],
         "yaxis": "y"
        },
        {
         "hoverinfo": "text",
         "marker": {
          "color": "rgb(35,205,205)"
         },
         "mode": "lines",
         "type": "scatter",
         "x": [
          0,
          0.7987889877232399,
          0.7987889877232399,
          0
         ],
         "xaxis": "x",
         "y": [
          -3775,
          -3775,
          -3785,
          -3785
         ],
         "yaxis": "y"
        },
        {
         "hoverinfo": "text",
         "marker": {
          "color": "rgb(35,205,205)"
         },
         "mode": "lines",
         "type": "scatter",
         "x": [
          0,
          0.8393908461030551,
          0.8393908461030551,
          0.7987889877232399
         ],
         "xaxis": "x",
         "y": [
          -3765,
          -3765,
          -3780,
          -3780
         ],
         "yaxis": "y"
        },
        {
         "hoverinfo": "text",
         "marker": {
          "color": "rgb(35,205,205)"
         },
         "mode": "lines",
         "type": "scatter",
         "x": [
          0,
          0.8929083454922326,
          0.8929083454922326,
          0
         ],
         "xaxis": "x",
         "y": [
          -3795,
          -3795,
          -3805,
          -3805
         ],
         "yaxis": "y"
        },
        {
         "hoverinfo": "text",
         "marker": {
          "color": "rgb(35,205,205)"
         },
         "mode": "lines",
         "type": "scatter",
         "x": [
          0.8393908461030551,
          0.9280787777360316,
          0.9280787777360316,
          0.8929083454922326
         ],
         "xaxis": "x",
         "y": [
          -3772.5,
          -3772.5,
          -3800,
          -3800
         ],
         "yaxis": "y"
        },
        {
         "hoverinfo": "text",
         "marker": {
          "color": "rgb(35,205,205)"
         },
         "mode": "lines",
         "type": "scatter",
         "x": [
          0.9490878997193206,
          0.9556457540047879,
          0.9556457540047879,
          0.9280787777360316
         ],
         "xaxis": "x",
         "y": [
          -3690.625,
          -3690.625,
          -3786.25,
          -3786.25
         ],
         "yaxis": "y"
        },
        {
         "hoverinfo": "text",
         "marker": {
          "color": "rgb(35,205,205)"
         },
         "mode": "lines",
         "type": "scatter",
         "x": [
          0,
          0.9031312630097585,
          0.9031312630097585,
          0
         ],
         "xaxis": "x",
         "y": [
          -3815,
          -3815,
          -3825,
          -3825
         ],
         "yaxis": "y"
        },
        {
         "hoverinfo": "text",
         "marker": {
          "color": "rgb(35,205,205)"
         },
         "mode": "lines",
         "type": "scatter",
         "x": [
          0,
          0.8590844691750293,
          0.8590844691750293,
          0
         ],
         "xaxis": "x",
         "y": [
          -3835,
          -3835,
          -3845,
          -3845
         ],
         "yaxis": "y"
        },
        {
         "hoverinfo": "text",
         "marker": {
          "color": "rgb(35,205,205)"
         },
         "mode": "lines",
         "type": "scatter",
         "x": [
          0.9031312630097585,
          0.9303914403466407,
          0.9303914403466407,
          0.8590844691750293
         ],
         "xaxis": "x",
         "y": [
          -3820,
          -3820,
          -3840,
          -3840
         ],
         "yaxis": "y"
        },
        {
         "hoverinfo": "text",
         "marker": {
          "color": "rgb(35,205,205)"
         },
         "mode": "lines",
         "type": "scatter",
         "x": [
          0,
          0.8658065825930636,
          0.8658065825930636,
          0
         ],
         "xaxis": "x",
         "y": [
          -3865,
          -3865,
          -3875,
          -3875
         ],
         "yaxis": "y"
        },
        {
         "hoverinfo": "text",
         "marker": {
          "color": "rgb(35,205,205)"
         },
         "mode": "lines",
         "type": "scatter",
         "x": [
          0,
          0.9185883069158163,
          0.9185883069158163,
          0.8658065825930636
         ],
         "xaxis": "x",
         "y": [
          -3855,
          -3855,
          -3870,
          -3870
         ],
         "yaxis": "y"
        },
        {
         "hoverinfo": "text",
         "marker": {
          "color": "rgb(35,205,205)"
         },
         "mode": "lines",
         "type": "scatter",
         "x": [
          0.9185883069158163,
          0.9339772509018716,
          0.9339772509018716,
          0
         ],
         "xaxis": "x",
         "y": [
          -3862.5,
          -3862.5,
          -3885,
          -3885
         ],
         "yaxis": "y"
        },
        {
         "hoverinfo": "text",
         "marker": {
          "color": "rgb(35,205,205)"
         },
         "mode": "lines",
         "type": "scatter",
         "x": [
          0.9303914403466407,
          0.9532425629307401,
          0.9532425629307401,
          0.9339772509018716
         ],
         "xaxis": "x",
         "y": [
          -3830,
          -3830,
          -3873.75,
          -3873.75
         ],
         "yaxis": "y"
        },
        {
         "hoverinfo": "text",
         "marker": {
          "color": "rgb(35,205,205)"
         },
         "mode": "lines",
         "type": "scatter",
         "x": [
          0.9556457540047879,
          0.968387911494283,
          0.968387911494283,
          0.9532425629307401
         ],
         "xaxis": "x",
         "y": [
          -3738.4375,
          -3738.4375,
          -3851.875,
          -3851.875
         ],
         "yaxis": "y"
        },
        {
         "hoverinfo": "text",
         "marker": {
          "color": "rgb(35,205,205)"
         },
         "mode": "lines",
         "type": "scatter",
         "x": [
          0.9256028590461223,
          0.9803120687109544,
          0.9803120687109544,
          0.968387911494283
         ],
         "xaxis": "x",
         "y": [
          -3545.625,
          -3545.625,
          -3795.15625,
          -3795.15625
         ],
         "yaxis": "y"
        },
        {
         "hoverinfo": "text",
         "marker": {
          "color": "rgb(35,205,205)"
         },
         "mode": "lines",
         "type": "scatter",
         "x": [
          0.9570204171115866,
          0.9816887539373051,
          0.9816887539373051,
          0.9803120687109544
         ],
         "xaxis": "x",
         "y": [
          -3408.125,
          -3408.125,
          -3670.390625,
          -3670.390625
         ],
         "yaxis": "y"
        },
        {
         "hoverinfo": "text",
         "marker": {
          "color": "rgb(133,20,75)"
         },
         "mode": "lines",
         "type": "scatter",
         "x": [
          0,
          0.7330523495182145,
          0.7330523495182145,
          0
         ],
         "xaxis": "x",
         "y": [
          -3895,
          -3895,
          -3905,
          -3905
         ],
         "yaxis": "y"
        },
        {
         "hoverinfo": "text",
         "marker": {
          "color": "rgb(0,116,217)"
         },
         "mode": "lines",
         "type": "scatter",
         "x": [
          0.9816887539373051,
          1.02419167755716,
          1.02419167755716,
          0.7330523495182145
         ],
         "xaxis": "x",
         "y": [
          -3539.2578125,
          -3539.2578125,
          -3900,
          -3900
         ],
         "yaxis": "y"
        },
        {
         "hoverinfo": "text",
         "marker": {
          "color": "rgb(255,220,0)"
         },
         "mode": "lines",
         "type": "scatter",
         "x": [
          0,
          0.8084690586540413,
          0.8084690586540413,
          0
         ],
         "xaxis": "x",
         "y": [
          -3925,
          -3925,
          -3935,
          -3935
         ],
         "yaxis": "y"
        },
        {
         "hoverinfo": "text",
         "marker": {
          "color": "rgb(255,220,0)"
         },
         "mode": "lines",
         "type": "scatter",
         "x": [
          0,
          0.9131331261375151,
          0.9131331261375151,
          0.8084690586540413
         ],
         "xaxis": "x",
         "y": [
          -3915,
          -3915,
          -3930,
          -3930
         ],
         "yaxis": "y"
        },
        {
         "hoverinfo": "text",
         "marker": {
          "color": "rgb(255,220,0)"
         },
         "mode": "lines",
         "type": "scatter",
         "x": [
          0,
          0.8289687672336635,
          0.8289687672336635,
          0
         ],
         "xaxis": "x",
         "y": [
          -3945,
          -3945,
          -3955,
          -3955
         ],
         "yaxis": "y"
        },
        {
         "hoverinfo": "text",
         "marker": {
          "color": "rgb(255,220,0)"
         },
         "mode": "lines",
         "type": "scatter",
         "x": [
          0.9131331261375151,
          0.9412828114456127,
          0.9412828114456127,
          0.8289687672336635
         ],
         "xaxis": "x",
         "y": [
          -3922.5,
          -3922.5,
          -3950,
          -3950
         ],
         "yaxis": "y"
        },
        {
         "hoverinfo": "text",
         "marker": {
          "color": "rgb(255,220,0)"
         },
         "mode": "lines",
         "type": "scatter",
         "x": [
          0,
          0.8828143872249674,
          0.8828143872249674,
          0
         ],
         "xaxis": "x",
         "y": [
          -3965,
          -3965,
          -3975,
          -3975
         ],
         "yaxis": "y"
        },
        {
         "hoverinfo": "text",
         "marker": {
          "color": "rgb(255,220,0)"
         },
         "mode": "lines",
         "type": "scatter",
         "x": [
          0.8828143872249674,
          0.8953640718340359,
          0.8953640718340359,
          0
         ],
         "xaxis": "x",
         "y": [
          -3970,
          -3970,
          -3985,
          -3985
         ],
         "yaxis": "y"
        },
        {
         "hoverinfo": "text",
         "marker": {
          "color": "rgb(255,220,0)"
         },
         "mode": "lines",
         "type": "scatter",
         "x": [
          0,
          0.8662356390373107,
          0.8662356390373107,
          0
         ],
         "xaxis": "x",
         "y": [
          -3995,
          -3995,
          -4005,
          -4005
         ],
         "yaxis": "y"
        },
        {
         "hoverinfo": "text",
         "marker": {
          "color": "rgb(255,220,0)"
         },
         "mode": "lines",
         "type": "scatter",
         "x": [
          0,
          0.8557215071261042,
          0.8557215071261042,
          0
         ],
         "xaxis": "x",
         "y": [
          -4015,
          -4015,
          -4025,
          -4025
         ],
         "yaxis": "y"
        },
        {
         "hoverinfo": "text",
         "marker": {
          "color": "rgb(255,220,0)"
         },
         "mode": "lines",
         "type": "scatter",
         "x": [
          0.8662356390373107,
          0.8762800490779445,
          0.8762800490779445,
          0.8557215071261042
         ],
         "xaxis": "x",
         "y": [
          -4000,
          -4000,
          -4020,
          -4020
         ],
         "yaxis": "y"
        },
        {
         "hoverinfo": "text",
         "marker": {
          "color": "rgb(255,220,0)"
         },
         "mode": "lines",
         "type": "scatter",
         "x": [
          0.8953640718340359,
          0.9137442694848947,
          0.9137442694848947,
          0.8762800490779445
         ],
         "xaxis": "x",
         "y": [
          -3977.5,
          -3977.5,
          -4010,
          -4010
         ],
         "yaxis": "y"
        },
        {
         "hoverinfo": "text",
         "marker": {
          "color": "rgb(255,220,0)"
         },
         "mode": "lines",
         "type": "scatter",
         "x": [
          0.9412828114456127,
          0.9505030531012836,
          0.9505030531012836,
          0.9137442694848947
         ],
         "xaxis": "x",
         "y": [
          -3936.25,
          -3936.25,
          -3993.75,
          -3993.75
         ],
         "yaxis": "y"
        },
        {
         "hoverinfo": "text",
         "marker": {
          "color": "rgb(255,220,0)"
         },
         "mode": "lines",
         "type": "scatter",
         "x": [
          0,
          0.8616193828062644,
          0.8616193828062644,
          0
         ],
         "xaxis": "x",
         "y": [
          -4055,
          -4055,
          -4065,
          -4065
         ],
         "yaxis": "y"
        },
        {
         "hoverinfo": "text",
         "marker": {
          "color": "rgb(255,220,0)"
         },
         "mode": "lines",
         "type": "scatter",
         "x": [
          0,
          0.8792190749273933,
          0.8792190749273933,
          0.8616193828062644
         ],
         "xaxis": "x",
         "y": [
          -4045,
          -4045,
          -4060,
          -4060
         ],
         "yaxis": "y"
        },
        {
         "hoverinfo": "text",
         "marker": {
          "color": "rgb(255,220,0)"
         },
         "mode": "lines",
         "type": "scatter",
         "x": [
          0.8792190749273933,
          0.887600982741375,
          0.887600982741375,
          0
         ],
         "xaxis": "x",
         "y": [
          -4052.5,
          -4052.5,
          -4075,
          -4075
         ],
         "yaxis": "y"
        },
        {
         "hoverinfo": "text",
         "marker": {
          "color": "rgb(255,220,0)"
         },
         "mode": "lines",
         "type": "scatter",
         "x": [
          0,
          0.8392211186410394,
          0.8392211186410394,
          0
         ],
         "xaxis": "x",
         "y": [
          -4085,
          -4085,
          -4095,
          -4095
         ],
         "yaxis": "y"
        },
        {
         "hoverinfo": "text",
         "marker": {
          "color": "rgb(255,220,0)"
         },
         "mode": "lines",
         "type": "scatter",
         "x": [
          0.8392211186410394,
          0.8674736324283715,
          0.8674736324283715,
          0
         ],
         "xaxis": "x",
         "y": [
          -4090,
          -4090,
          -4105,
          -4105
         ],
         "yaxis": "y"
        },
        {
         "hoverinfo": "text",
         "marker": {
          "color": "rgb(255,220,0)"
         },
         "mode": "lines",
         "type": "scatter",
         "x": [
          0,
          0.8456218053011538,
          0.8456218053011538,
          0
         ],
         "xaxis": "x",
         "y": [
          -4125,
          -4125,
          -4135,
          -4135
         ],
         "yaxis": "y"
        },
        {
         "hoverinfo": "text",
         "marker": {
          "color": "rgb(255,220,0)"
         },
         "mode": "lines",
         "type": "scatter",
         "x": [
          0,
          0.8632626683200231,
          0.8632626683200231,
          0.8456218053011538
         ],
         "xaxis": "x",
         "y": [
          -4115,
          -4115,
          -4130,
          -4130
         ],
         "yaxis": "y"
        },
        {
         "hoverinfo": "text",
         "marker": {
          "color": "rgb(255,220,0)"
         },
         "mode": "lines",
         "type": "scatter",
         "x": [
          0.8632626683200231,
          0.8848862526509901,
          0.8848862526509901,
          0
         ],
         "xaxis": "x",
         "y": [
          -4122.5,
          -4122.5,
          -4145,
          -4145
         ],
         "yaxis": "y"
        },
        {
         "hoverinfo": "text",
         "marker": {
          "color": "rgb(255,220,0)"
         },
         "mode": "lines",
         "type": "scatter",
         "x": [
          0.8674736324283715,
          0.8931255507066308,
          0.8931255507066308,
          0.8848862526509901
         ],
         "xaxis": "x",
         "y": [
          -4097.5,
          -4097.5,
          -4133.75,
          -4133.75
         ],
         "yaxis": "y"
        },
        {
         "hoverinfo": "text",
         "marker": {
          "color": "rgb(255,220,0)"
         },
         "mode": "lines",
         "type": "scatter",
         "x": [
          0.887600982741375,
          0.8979815629057719,
          0.8979815629057719,
          0.8931255507066308
         ],
         "xaxis": "x",
         "y": [
          -4063.75,
          -4063.75,
          -4115.625,
          -4115.625
         ],
         "yaxis": "y"
        },
        {
         "hoverinfo": "text",
         "marker": {
          "color": "rgb(255,220,0)"
         },
         "mode": "lines",
         "type": "scatter",
         "x": [
          0,
          0.9102161311347697,
          0.9102161311347697,
          0.8979815629057719
         ],
         "xaxis": "x",
         "y": [
          -4035,
          -4035,
          -4089.6875,
          -4089.6875
         ],
         "yaxis": "y"
        },
        {
         "hoverinfo": "text",
         "marker": {
          "color": "rgb(255,220,0)"
         },
         "mode": "lines",
         "type": "scatter",
         "x": [
          0,
          0.8434402432432255,
          0.8434402432432255,
          0
         ],
         "xaxis": "x",
         "y": [
          -4165,
          -4165,
          -4175,
          -4175
         ],
         "yaxis": "y"
        },
        {
         "hoverinfo": "text",
         "marker": {
          "color": "rgb(255,220,0)"
         },
         "mode": "lines",
         "type": "scatter",
         "x": [
          0,
          0.8656763111829419,
          0.8656763111829419,
          0.8434402432432255
         ],
         "xaxis": "x",
         "y": [
          -4155,
          -4155,
          -4170,
          -4170
         ],
         "yaxis": "y"
        },
        {
         "hoverinfo": "text",
         "marker": {
          "color": "rgb(255,220,0)"
         },
         "mode": "lines",
         "type": "scatter",
         "x": [
          0,
          0.8473803857854691,
          0.8473803857854691,
          0
         ],
         "xaxis": "x",
         "y": [
          -4185,
          -4185,
          -4195,
          -4195
         ],
         "yaxis": "y"
        },
        {
         "hoverinfo": "text",
         "marker": {
          "color": "rgb(255,220,0)"
         },
         "mode": "lines",
         "type": "scatter",
         "x": [
          0.8656763111829419,
          0.8893066984107323,
          0.8893066984107323,
          0.8473803857854691
         ],
         "xaxis": "x",
         "y": [
          -4162.5,
          -4162.5,
          -4190,
          -4190
         ],
         "yaxis": "y"
        },
        {
         "hoverinfo": "text",
         "marker": {
          "color": "rgb(255,220,0)"
         },
         "mode": "lines",
         "type": "scatter",
         "x": [
          0,
          0.8641938416680691,
          0.8641938416680691,
          0
         ],
         "xaxis": "x",
         "y": [
          -4215,
          -4215,
          -4225,
          -4225
         ],
         "yaxis": "y"
        },
        {
         "hoverinfo": "text",
         "marker": {
          "color": "rgb(255,220,0)"
         },
         "mode": "lines",
         "type": "scatter",
         "x": [
          0,
          0.8763524672573484,
          0.8763524672573484,
          0.8641938416680691
         ],
         "xaxis": "x",
         "y": [
          -4205,
          -4205,
          -4220,
          -4220
         ],
         "yaxis": "y"
        },
        {
         "hoverinfo": "text",
         "marker": {
          "color": "rgb(255,220,0)"
         },
         "mode": "lines",
         "type": "scatter",
         "x": [
          0,
          0.8708715980103585,
          0.8708715980103585,
          0
         ],
         "xaxis": "x",
         "y": [
          -4235,
          -4235,
          -4245,
          -4245
         ],
         "yaxis": "y"
        },
        {
         "hoverinfo": "text",
         "marker": {
          "color": "rgb(255,220,0)"
         },
         "mode": "lines",
         "type": "scatter",
         "x": [
          0.8763524672573484,
          0.8948622343647694,
          0.8948622343647694,
          0.8708715980103585
         ],
         "xaxis": "x",
         "y": [
          -4212.5,
          -4212.5,
          -4240,
          -4240
         ],
         "yaxis": "y"
        },
        {
         "hoverinfo": "text",
         "marker": {
          "color": "rgb(255,220,0)"
         },
         "mode": "lines",
         "type": "scatter",
         "x": [
          0.8893066984107323,
          0.9105321039588106,
          0.9105321039588106,
          0.8948622343647694
         ],
         "xaxis": "x",
         "y": [
          -4176.25,
          -4176.25,
          -4226.25,
          -4226.25
         ],
         "yaxis": "y"
        },
        {
         "hoverinfo": "text",
         "marker": {
          "color": "rgb(255,220,0)"
         },
         "mode": "lines",
         "type": "scatter",
         "x": [
          0.9102161311347697,
          0.9288634755750074,
          0.9288634755750074,
          0.9105321039588106
         ],
         "xaxis": "x",
         "y": [
          -4062.34375,
          -4062.34375,
          -4201.25,
          -4201.25
         ],
         "yaxis": "y"
        },
        {
         "hoverinfo": "text",
         "marker": {
          "color": "rgb(255,220,0)"
         },
         "mode": "lines",
         "type": "scatter",
         "x": [
          0,
          0.8881510601022006,
          0.8881510601022006,
          0
         ],
         "xaxis": "x",
         "y": [
          -4255,
          -4255,
          -4265,
          -4265
         ],
         "yaxis": "y"
        },
        {
         "hoverinfo": "text",
         "marker": {
          "color": "rgb(255,220,0)"
         },
         "mode": "lines",
         "type": "scatter",
         "x": [
          0,
          0.8338552216581641,
          0.8338552216581641,
          0
         ],
         "xaxis": "x",
         "y": [
          -4275,
          -4275,
          -4285,
          -4285
         ],
         "yaxis": "y"
        },
        {
         "hoverinfo": "text",
         "marker": {
          "color": "rgb(255,220,0)"
         },
         "mode": "lines",
         "type": "scatter",
         "x": [
          0.8338552216581641,
          0.9067000139529111,
          0.9067000139529111,
          0
         ],
         "xaxis": "x",
         "y": [
          -4280,
          -4280,
          -4295,
          -4295
         ],
         "yaxis": "y"
        },
        {
         "hoverinfo": "text",
         "marker": {
          "color": "rgb(255,220,0)"
         },
         "mode": "lines",
         "type": "scatter",
         "x": [
          0.8881510601022006,
          0.9224602326219559,
          0.9224602326219559,
          0.9067000139529111
         ],
         "xaxis": "x",
         "y": [
          -4260,
          -4260,
          -4287.5,
          -4287.5
         ],
         "yaxis": "y"
        },
        {
         "hoverinfo": "text",
         "marker": {
          "color": "rgb(255,220,0)"
         },
         "mode": "lines",
         "type": "scatter",
         "x": [
          0.9288634755750074,
          0.942872938656844,
          0.942872938656844,
          0.9224602326219559
         ],
         "xaxis": "x",
         "y": [
          -4131.796875,
          -4131.796875,
          -4273.75,
          -4273.75
         ],
         "yaxis": "y"
        },
        {
         "hoverinfo": "text",
         "marker": {
          "color": "rgb(255,220,0)"
         },
         "mode": "lines",
         "type": "scatter",
         "x": [
          0.9505030531012836,
          0.9785609910600513,
          0.9785609910600513,
          0.942872938656844
         ],
         "xaxis": "x",
         "y": [
          -3965,
          -3965,
          -4202.7734375,
          -4202.7734375
         ],
         "yaxis": "y"
        },
        {
         "hoverinfo": "text",
         "marker": {
          "color": "rgb(255,220,0)"
         },
         "mode": "lines",
         "type": "scatter",
         "x": [
          0,
          0.8346733378877177,
          0.8346733378877177,
          0
         ],
         "xaxis": "x",
         "y": [
          -4305,
          -4305,
          -4315,
          -4315
         ],
         "yaxis": "y"
        },
        {
         "hoverinfo": "text",
         "marker": {
          "color": "rgb(255,220,0)"
         },
         "mode": "lines",
         "type": "scatter",
         "x": [
          0,
          0.856482389979469,
          0.856482389979469,
          0
         ],
         "xaxis": "x",
         "y": [
          -4335,
          -4335,
          -4345,
          -4345
         ],
         "yaxis": "y"
        },
        {
         "hoverinfo": "text",
         "marker": {
          "color": "rgb(255,220,0)"
         },
         "mode": "lines",
         "type": "scatter",
         "x": [
          0.856482389979469,
          0.8737050058668915,
          0.8737050058668915,
          0
         ],
         "xaxis": "x",
         "y": [
          -4340,
          -4340,
          -4355,
          -4355
         ],
         "yaxis": "y"
        },
        {
         "hoverinfo": "text",
         "marker": {
          "color": "rgb(255,220,0)"
         },
         "mode": "lines",
         "type": "scatter",
         "x": [
          0,
          0.9086717966350117,
          0.9086717966350117,
          0.8737050058668915
         ],
         "xaxis": "x",
         "y": [
          -4325,
          -4325,
          -4347.5,
          -4347.5
         ],
         "yaxis": "y"
        },
        {
         "hoverinfo": "text",
         "marker": {
          "color": "rgb(255,220,0)"
         },
         "mode": "lines",
         "type": "scatter",
         "x": [
          0,
          0.8510204971752032,
          0.8510204971752032,
          0
         ],
         "xaxis": "x",
         "y": [
          -4385,
          -4385,
          -4395,
          -4395
         ],
         "yaxis": "y"
        },
        {
         "hoverinfo": "text",
         "marker": {
          "color": "rgb(255,220,0)"
         },
         "mode": "lines",
         "type": "scatter",
         "x": [
          0,
          0.8933507497338541,
          0.8933507497338541,
          0.8510204971752032
         ],
         "xaxis": "x",
         "y": [
          -4375,
          -4375,
          -4390,
          -4390
         ],
         "yaxis": "y"
        },
        {
         "hoverinfo": "text",
         "marker": {
          "color": "rgb(255,220,0)"
         },
         "mode": "lines",
         "type": "scatter",
         "x": [
          0,
          0.906804598264309,
          0.906804598264309,
          0.8933507497338541
         ],
         "xaxis": "x",
         "y": [
          -4365,
          -4365,
          -4382.5,
          -4382.5
         ],
         "yaxis": "y"
        },
        {
         "hoverinfo": "text",
         "marker": {
          "color": "rgb(255,220,0)"
         },
         "mode": "lines",
         "type": "scatter",
         "x": [
          0.906804598264309,
          0.918443563725532,
          0.918443563725532,
          0
         ],
         "xaxis": "x",
         "y": [
          -4373.75,
          -4373.75,
          -4405,
          -4405
         ],
         "yaxis": "y"
        },
        {
         "hoverinfo": "text",
         "marker": {
          "color": "rgb(255,220,0)"
         },
         "mode": "lines",
         "type": "scatter",
         "x": [
          0.9086717966350117,
          0.9351751634383347,
          0.9351751634383347,
          0.918443563725532
         ],
         "xaxis": "x",
         "y": [
          -4336.25,
          -4336.25,
          -4389.375,
          -4389.375
         ],
         "yaxis": "y"
        },
        {
         "hoverinfo": "text",
         "marker": {
          "color": "rgb(255,220,0)"
         },
         "mode": "lines",
         "type": "scatter",
         "x": [
          0.8346733378877177,
          0.9432904026753413,
          0.9432904026753413,
          0.9351751634383347
         ],
         "xaxis": "x",
         "y": [
          -4310,
          -4310,
          -4362.8125,
          -4362.8125
         ],
         "yaxis": "y"
        },
        {
         "hoverinfo": "text",
         "marker": {
          "color": "rgb(255,220,0)"
         },
         "mode": "lines",
         "type": "scatter",
         "x": [
          0.9785609910600513,
          0.980318047119935,
          0.980318047119935,
          0.9432904026753413
         ],
         "xaxis": "x",
         "y": [
          -4083.88671875,
          -4083.88671875,
          -4336.40625,
          -4336.40625
         ],
         "yaxis": "y"
        },
        {
         "hoverinfo": "text",
         "marker": {
          "color": "rgb(40,35,35)"
         },
         "mode": "lines",
         "type": "scatter",
         "x": [
          0,
          0.8798782154257642,
          0.8798782154257642,
          0
         ],
         "xaxis": "x",
         "y": [
          -4425,
          -4425,
          -4435,
          -4435
         ],
         "yaxis": "y"
        },
        {
         "hoverinfo": "text",
         "marker": {
          "color": "rgb(40,35,35)"
         },
         "mode": "lines",
         "type": "scatter",
         "x": [
          0.8798782154257642,
          0.897840816961828,
          0.897840816961828,
          0
         ],
         "xaxis": "x",
         "y": [
          -4430,
          -4430,
          -4445,
          -4445
         ],
         "yaxis": "y"
        },
        {
         "hoverinfo": "text",
         "marker": {
          "color": "rgb(40,35,35)"
         },
         "mode": "lines",
         "type": "scatter",
         "x": [
          0,
          0.9138989002803113,
          0.9138989002803113,
          0.897840816961828
         ],
         "xaxis": "x",
         "y": [
          -4415,
          -4415,
          -4437.5,
          -4437.5
         ],
         "yaxis": "y"
        },
        {
         "hoverinfo": "text",
         "marker": {
          "color": "rgb(40,35,35)"
         },
         "mode": "lines",
         "type": "scatter",
         "x": [
          0,
          0.870852719578502,
          0.870852719578502,
          0
         ],
         "xaxis": "x",
         "y": [
          -4465,
          -4465,
          -4475,
          -4475
         ],
         "yaxis": "y"
        },
        {
         "hoverinfo": "text",
         "marker": {
          "color": "rgb(40,35,35)"
         },
         "mode": "lines",
         "type": "scatter",
         "x": [
          0,
          0.8842119400127154,
          0.8842119400127154,
          0.870852719578502
         ],
         "xaxis": "x",
         "y": [
          -4455,
          -4455,
          -4470,
          -4470
         ],
         "yaxis": "y"
        },
        {
         "hoverinfo": "text",
         "marker": {
          "color": "rgb(40,35,35)"
         },
         "mode": "lines",
         "type": "scatter",
         "x": [
          0,
          0.8105606057148704,
          0.8105606057148704,
          0
         ],
         "xaxis": "x",
         "y": [
          -4485,
          -4485,
          -4495,
          -4495
         ],
         "yaxis": "y"
        },
        {
         "hoverinfo": "text",
         "marker": {
          "color": "rgb(40,35,35)"
         },
         "mode": "lines",
         "type": "scatter",
         "x": [
          0,
          0.8619843033613984,
          0.8619843033613984,
          0
         ],
         "xaxis": "x",
         "y": [
          -4505,
          -4505,
          -4515,
          -4515
         ],
         "yaxis": "y"
        },
        {
         "hoverinfo": "text",
         "marker": {
          "color": "rgb(40,35,35)"
         },
         "mode": "lines",
         "type": "scatter",
         "x": [
          0.8105606057148704,
          0.8801419641817125,
          0.8801419641817125,
          0.8619843033613984
         ],
         "xaxis": "x",
         "y": [
          -4490,
          -4490,
          -4510,
          -4510
         ],
         "yaxis": "y"
        },
        {
         "hoverinfo": "text",
         "marker": {
          "color": "rgb(40,35,35)"
         },
         "mode": "lines",
         "type": "scatter",
         "x": [
          0.8842119400127154,
          0.9255663769670611,
          0.9255663769670611,
          0.8801419641817125
         ],
         "xaxis": "x",
         "y": [
          -4462.5,
          -4462.5,
          -4500,
          -4500
         ],
         "yaxis": "y"
        },
        {
         "hoverinfo": "text",
         "marker": {
          "color": "rgb(40,35,35)"
         },
         "mode": "lines",
         "type": "scatter",
         "x": [
          0.9138989002803113,
          0.9397378876646952,
          0.9397378876646952,
          0.9255663769670611
         ],
         "xaxis": "x",
         "y": [
          -4426.25,
          -4426.25,
          -4481.25,
          -4481.25
         ],
         "yaxis": "y"
        },
        {
         "hoverinfo": "text",
         "marker": {
          "color": "rgb(40,35,35)"
         },
         "mode": "lines",
         "type": "scatter",
         "x": [
          0,
          0.8423446321480905,
          0.8423446321480905,
          0
         ],
         "xaxis": "x",
         "y": [
          -4525,
          -4525,
          -4535,
          -4535
         ],
         "yaxis": "y"
        },
        {
         "hoverinfo": "text",
         "marker": {
          "color": "rgb(40,35,35)"
         },
         "mode": "lines",
         "type": "scatter",
         "x": [
          0.8423446321480905,
          0.88144238170117,
          0.88144238170117,
          0
         ],
         "xaxis": "x",
         "y": [
          -4530,
          -4530,
          -4545,
          -4545
         ],
         "yaxis": "y"
        },
        {
         "hoverinfo": "text",
         "marker": {
          "color": "rgb(40,35,35)"
         },
         "mode": "lines",
         "type": "scatter",
         "x": [
          0,
          0.8423674761231805,
          0.8423674761231805,
          0
         ],
         "xaxis": "x",
         "y": [
          -4565,
          -4565,
          -4575,
          -4575
         ],
         "yaxis": "y"
        },
        {
         "hoverinfo": "text",
         "marker": {
          "color": "rgb(40,35,35)"
         },
         "mode": "lines",
         "type": "scatter",
         "x": [
          0.8423674761231805,
          0.8699030653823067,
          0.8699030653823067,
          0
         ],
         "xaxis": "x",
         "y": [
          -4570,
          -4570,
          -4585,
          -4585
         ],
         "yaxis": "y"
        },
        {
         "hoverinfo": "text",
         "marker": {
          "color": "rgb(40,35,35)"
         },
         "mode": "lines",
         "type": "scatter",
         "x": [
          0,
          0.8766061439556125,
          0.8766061439556125,
          0.8699030653823067
         ],
         "xaxis": "x",
         "y": [
          -4555,
          -4555,
          -4577.5,
          -4577.5
         ],
         "yaxis": "y"
        },
        {
         "hoverinfo": "text",
         "marker": {
          "color": "rgb(40,35,35)"
         },
         "mode": "lines",
         "type": "scatter",
         "x": [
          0,
          0.8419005187474006,
          0.8419005187474006,
          0
         ],
         "xaxis": "x",
         "y": [
          -4595,
          -4595,
          -4605,
          -4605
         ],
         "yaxis": "y"
        },
        {
         "hoverinfo": "text",
         "marker": {
          "color": "rgb(40,35,35)"
         },
         "mode": "lines",
         "type": "scatter",
         "x": [
          0.8419005187474006,
          0.8659039847311106,
          0.8659039847311106,
          0
         ],
         "xaxis": "x",
         "y": [
          -4600,
          -4600,
          -4615,
          -4615
         ],
         "yaxis": "y"
        },
        {
         "hoverinfo": "text",
         "marker": {
          "color": "rgb(40,35,35)"
         },
         "mode": "lines",
         "type": "scatter",
         "x": [
          0.8766061439556125,
          0.913344424231398,
          0.913344424231398,
          0.8659039847311106
         ],
         "xaxis": "x",
         "y": [
          -4566.25,
          -4566.25,
          -4607.5,
          -4607.5
         ],
         "yaxis": "y"
        },
        {
         "hoverinfo": "text",
         "marker": {
          "color": "rgb(40,35,35)"
         },
         "mode": "lines",
         "type": "scatter",
         "x": [
          0,
          0.8618589052332588,
          0.8618589052332588,
          0
         ],
         "xaxis": "x",
         "y": [
          -4625,
          -4625,
          -4635,
          -4635
         ],
         "yaxis": "y"
        },
        {
         "hoverinfo": "text",
         "marker": {
          "color": "rgb(40,35,35)"
         },
         "mode": "lines",
         "type": "scatter",
         "x": [
          0.913344424231398,
          0.9326876485810957,
          0.9326876485810957,
          0.8618589052332588
         ],
         "xaxis": "x",
         "y": [
          -4586.875,
          -4586.875,
          -4630,
          -4630
         ],
         "yaxis": "y"
        },
        {
         "hoverinfo": "text",
         "marker": {
          "color": "rgb(40,35,35)"
         },
         "mode": "lines",
         "type": "scatter",
         "x": [
          0.88144238170117,
          0.9592965526104,
          0.9592965526104,
          0.9326876485810957
         ],
         "xaxis": "x",
         "y": [
          -4537.5,
          -4537.5,
          -4608.4375,
          -4608.4375
         ],
         "yaxis": "y"
        },
        {
         "hoverinfo": "text",
         "marker": {
          "color": "rgb(40,35,35)"
         },
         "mode": "lines",
         "type": "scatter",
         "x": [
          0.9397378876646952,
          0.9663920976618221,
          0.9663920976618221,
          0.9592965526104
         ],
         "xaxis": "x",
         "y": [
          -4453.75,
          -4453.75,
          -4572.96875,
          -4572.96875
         ],
         "yaxis": "y"
        },
        {
         "hoverinfo": "text",
         "marker": {
          "color": "rgb(40,35,35)"
         },
         "mode": "lines",
         "type": "scatter",
         "x": [
          0,
          0.8645030504943041,
          0.8645030504943041,
          0
         ],
         "xaxis": "x",
         "y": [
          -4655,
          -4655,
          -4665,
          -4665
         ],
         "yaxis": "y"
        },
        {
         "hoverinfo": "text",
         "marker": {
          "color": "rgb(40,35,35)"
         },
         "mode": "lines",
         "type": "scatter",
         "x": [
          0,
          0.8905282514390824,
          0.8905282514390824,
          0.8645030504943041
         ],
         "xaxis": "x",
         "y": [
          -4645,
          -4645,
          -4660,
          -4660
         ],
         "yaxis": "y"
        },
        {
         "hoverinfo": "text",
         "marker": {
          "color": "rgb(40,35,35)"
         },
         "mode": "lines",
         "type": "scatter",
         "x": [
          0,
          0.8500389077112702,
          0.8500389077112702,
          0
         ],
         "xaxis": "x",
         "y": [
          -4685,
          -4685,
          -4695,
          -4695
         ],
         "yaxis": "y"
        },
        {
         "hoverinfo": "text",
         "marker": {
          "color": "rgb(40,35,35)"
         },
         "mode": "lines",
         "type": "scatter",
         "x": [
          0.8500389077112702,
          0.8842143445992255,
          0.8842143445992255,
          0
         ],
         "xaxis": "x",
         "y": [
          -4690,
          -4690,
          -4705,
          -4705
         ],
         "yaxis": "y"
        },
        {
         "hoverinfo": "text",
         "marker": {
          "color": "rgb(40,35,35)"
         },
         "mode": "lines",
         "type": "scatter",
         "x": [
          0,
          0.8963238279682973,
          0.8963238279682973,
          0.8842143445992255
         ],
         "xaxis": "x",
         "y": [
          -4675,
          -4675,
          -4697.5,
          -4697.5
         ],
         "yaxis": "y"
        },
        {
         "hoverinfo": "text",
         "marker": {
          "color": "rgb(40,35,35)"
         },
         "mode": "lines",
         "type": "scatter",
         "x": [
          0,
          0.871963580816196,
          0.871963580816196,
          0
         ],
         "xaxis": "x",
         "y": [
          -4715,
          -4715,
          -4725,
          -4725
         ],
         "yaxis": "y"
        },
        {
         "hoverinfo": "text",
         "marker": {
          "color": "rgb(40,35,35)"
         },
         "mode": "lines",
         "type": "scatter",
         "x": [
          0.8963238279682973,
          0.9188310898726288,
          0.9188310898726288,
          0.871963580816196
         ],
         "xaxis": "x",
         "y": [
          -4686.25,
          -4686.25,
          -4720,
          -4720
         ],
         "yaxis": "y"
        },
        {
         "hoverinfo": "text",
         "marker": {
          "color": "rgb(40,35,35)"
         },
         "mode": "lines",
         "type": "scatter",
         "x": [
          0.8905282514390824,
          0.9477893074738978,
          0.9477893074738978,
          0.9188310898726288
         ],
         "xaxis": "x",
         "y": [
          -4652.5,
          -4652.5,
          -4703.125,
          -4703.125
         ],
         "yaxis": "y"
        },
        {
         "hoverinfo": "text",
         "marker": {
          "color": "rgb(40,35,35)"
         },
         "mode": "lines",
         "type": "scatter",
         "x": [
          0,
          0.8074653960713188,
          0.8074653960713188,
          0
         ],
         "xaxis": "x",
         "y": [
          -4735,
          -4735,
          -4745,
          -4745
         ],
         "yaxis": "y"
        },
        {
         "hoverinfo": "text",
         "marker": {
          "color": "rgb(40,35,35)"
         },
         "mode": "lines",
         "type": "scatter",
         "x": [
          0,
          0.8651949362184361,
          0.8651949362184361,
          0
         ],
         "xaxis": "x",
         "y": [
          -4765,
          -4765,
          -4775,
          -4775
         ],
         "yaxis": "y"
        },
        {
         "hoverinfo": "text",
         "marker": {
          "color": "rgb(40,35,35)"
         },
         "mode": "lines",
         "type": "scatter",
         "x": [
          0.8651949362184361,
          0.886367643615838,
          0.886367643615838,
          0
         ],
         "xaxis": "x",
         "y": [
          -4770,
          -4770,
          -4785,
          -4785
         ],
         "yaxis": "y"
        },
        {
         "hoverinfo": "text",
         "marker": {
          "color": "rgb(40,35,35)"
         },
         "mode": "lines",
         "type": "scatter",
         "x": [
          0,
          0.90211678774246,
          0.90211678774246,
          0.886367643615838
         ],
         "xaxis": "x",
         "y": [
          -4755,
          -4755,
          -4777.5,
          -4777.5
         ],
         "yaxis": "y"
        },
        {
         "hoverinfo": "text",
         "marker": {
          "color": "rgb(40,35,35)"
         },
         "mode": "lines",
         "type": "scatter",
         "x": [
          0,
          0.8161478537254373,
          0.8161478537254373,
          0
         ],
         "xaxis": "x",
         "y": [
          -4805,
          -4805,
          -4815,
          -4815
         ],
         "yaxis": "y"
        },
        {
         "hoverinfo": "text",
         "marker": {
          "color": "rgb(40,35,35)"
         },
         "mode": "lines",
         "type": "scatter",
         "x": [
          0.8161478537254373,
          0.8469720593800336,
          0.8469720593800336,
          0
         ],
         "xaxis": "x",
         "y": [
          -4810,
          -4810,
          -4825,
          -4825
         ],
         "yaxis": "y"
        },
        {
         "hoverinfo": "text",
         "marker": {
          "color": "rgb(40,35,35)"
         },
         "mode": "lines",
         "type": "scatter",
         "x": [
          0,
          0.8538229167027711,
          0.8538229167027711,
          0.8469720593800336
         ],
         "xaxis": "x",
         "y": [
          -4795,
          -4795,
          -4817.5,
          -4817.5
         ],
         "yaxis": "y"
        },
        {
         "hoverinfo": "text",
         "marker": {
          "color": "rgb(40,35,35)"
         },
         "mode": "lines",
         "type": "scatter",
         "x": [
          0.8538229167027711,
          0.878143220271114,
          0.878143220271114,
          0
         ],
         "xaxis": "x",
         "y": [
          -4806.25,
          -4806.25,
          -4835,
          -4835
         ],
         "yaxis": "y"
        },
        {
         "hoverinfo": "text",
         "marker": {
          "color": "rgb(40,35,35)"
         },
         "mode": "lines",
         "type": "scatter",
         "x": [
          0.90211678774246,
          0.9148050937431355,
          0.9148050937431355,
          0.878143220271114
         ],
         "xaxis": "x",
         "y": [
          -4766.25,
          -4766.25,
          -4820.625,
          -4820.625
         ],
         "yaxis": "y"
        },
        {
         "hoverinfo": "text",
         "marker": {
          "color": "rgb(40,35,35)"
         },
         "mode": "lines",
         "type": "scatter",
         "x": [
          0,
          0.8699495016951863,
          0.8699495016951863,
          0
         ],
         "xaxis": "x",
         "y": [
          -4865,
          -4865,
          -4875,
          -4875
         ],
         "yaxis": "y"
        },
        {
         "hoverinfo": "text",
         "marker": {
          "color": "rgb(40,35,35)"
         },
         "mode": "lines",
         "type": "scatter",
         "x": [
          0,
          0.8847278498100135,
          0.8847278498100135,
          0.8699495016951863
         ],
         "xaxis": "x",
         "y": [
          -4855,
          -4855,
          -4870,
          -4870
         ],
         "yaxis": "y"
        },
        {
         "hoverinfo": "text",
         "marker": {
          "color": "rgb(40,35,35)"
         },
         "mode": "lines",
         "type": "scatter",
         "x": [
          0,
          0.8996929309132002,
          0.8996929309132002,
          0.8847278498100135
         ],
         "xaxis": "x",
         "y": [
          -4845,
          -4845,
          -4862.5,
          -4862.5
         ],
         "yaxis": "y"
        },
        {
         "hoverinfo": "text",
         "marker": {
          "color": "rgb(40,35,35)"
         },
         "mode": "lines",
         "type": "scatter",
         "x": [
          0,
          0.9087092475560683,
          0.9087092475560683,
          0
         ],
         "xaxis": "x",
         "y": [
          -4885,
          -4885,
          -4895,
          -4895
         ],
         "yaxis": "y"
        },
        {
         "hoverinfo": "text",
         "marker": {
          "color": "rgb(40,35,35)"
         },
         "mode": "lines",
         "type": "scatter",
         "x": [
          0.9087092475560683,
          0.928617029864845,
          0.928617029864845,
          0
         ],
         "xaxis": "x",
         "y": [
          -4890,
          -4890,
          -4905,
          -4905
         ],
         "yaxis": "y"
        },
        {
         "hoverinfo": "text",
         "marker": {
          "color": "rgb(40,35,35)"
         },
         "mode": "lines",
         "type": "scatter",
         "x": [
          0.8996929309132002,
          0.9424526922321331,
          0.9424526922321331,
          0.928617029864845
         ],
         "xaxis": "x",
         "y": [
          -4853.75,
          -4853.75,
          -4897.5,
          -4897.5
         ],
         "yaxis": "y"
        },
        {
         "hoverinfo": "text",
         "marker": {
          "color": "rgb(40,35,35)"
         },
         "mode": "lines",
         "type": "scatter",
         "x": [
          0.9148050937431355,
          0.9529191825345783,
          0.9529191825345783,
          0.9424526922321331
         ],
         "xaxis": "x",
         "y": [
          -4793.4375,
          -4793.4375,
          -4875.625,
          -4875.625
         ],
         "yaxis": "y"
        },
        {
         "hoverinfo": "text",
         "marker": {
          "color": "rgb(40,35,35)"
         },
         "mode": "lines",
         "type": "scatter",
         "x": [
          0.8074653960713188,
          0.9686356738848515,
          0.9686356738848515,
          0.9529191825345783
         ],
         "xaxis": "x",
         "y": [
          -4740,
          -4740,
          -4834.53125,
          -4834.53125
         ],
         "yaxis": "y"
        },
        {
         "hoverinfo": "text",
         "marker": {
          "color": "rgb(40,35,35)"
         },
         "mode": "lines",
         "type": "scatter",
         "x": [
          0.9477893074738978,
          0.9756551620070887,
          0.9756551620070887,
          0.9686356738848515
         ],
         "xaxis": "x",
         "y": [
          -4677.8125,
          -4677.8125,
          -4787.265625,
          -4787.265625
         ],
         "yaxis": "y"
        },
        {
         "hoverinfo": "text",
         "marker": {
          "color": "rgb(40,35,35)"
         },
         "mode": "lines",
         "type": "scatter",
         "x": [
          0.9663920976618221,
          0.9957525721634082,
          0.9957525721634082,
          0.9756551620070887
         ],
         "xaxis": "x",
         "y": [
          -4513.359375,
          -4513.359375,
          -4732.5390625,
          -4732.5390625
         ],
         "yaxis": "y"
        },
        {
         "hoverinfo": "text",
         "marker": {
          "color": "rgb(0,116,217)"
         },
         "mode": "lines",
         "type": "scatter",
         "x": [
          0.980318047119935,
          1.0060143945392517,
          1.0060143945392517,
          0.9957525721634082
         ],
         "xaxis": "x",
         "y": [
          -4210.146484375,
          -4210.146484375,
          -4622.94921875,
          -4622.94921875
         ],
         "yaxis": "y"
        },
        {
         "hoverinfo": "text",
         "marker": {
          "color": "rgb(61,153,112)"
         },
         "mode": "lines",
         "type": "scatter",
         "x": [
          0,
          0.8267056977509413,
          0.8267056977509413,
          0
         ],
         "xaxis": "x",
         "y": [
          -4925,
          -4925,
          -4935,
          -4935
         ],
         "yaxis": "y"
        },
        {
         "hoverinfo": "text",
         "marker": {
          "color": "rgb(61,153,112)"
         },
         "mode": "lines",
         "type": "scatter",
         "x": [
          0,
          0.8416221251523196,
          0.8416221251523196,
          0.8267056977509413
         ],
         "xaxis": "x",
         "y": [
          -4915,
          -4915,
          -4930,
          -4930
         ],
         "yaxis": "y"
        },
        {
         "hoverinfo": "text",
         "marker": {
          "color": "rgb(61,153,112)"
         },
         "mode": "lines",
         "type": "scatter",
         "x": [
          0.8416221251523196,
          0.8865521318175718,
          0.8865521318175718,
          0
         ],
         "xaxis": "x",
         "y": [
          -4922.5,
          -4922.5,
          -4945,
          -4945
         ],
         "yaxis": "y"
        },
        {
         "hoverinfo": "text",
         "marker": {
          "color": "rgb(0,116,217)"
         },
         "mode": "lines",
         "type": "scatter",
         "x": [
          1.0060143945392517,
          1.018705248845899,
          1.018705248845899,
          0.8865521318175718
         ],
         "xaxis": "x",
         "y": [
          -4416.5478515625,
          -4416.5478515625,
          -4933.75,
          -4933.75
         ],
         "yaxis": "y"
        },
        {
         "hoverinfo": "text",
         "marker": {
          "color": "rgb(0,116,217)"
         },
         "mode": "lines",
         "type": "scatter",
         "x": [
          1.02419167755716,
          1.0305655701454932,
          1.0305655701454932,
          1.018705248845899
         ],
         "xaxis": "x",
         "y": [
          -3719.62890625,
          -3719.62890625,
          -4675.14892578125,
          -4675.14892578125
         ],
         "yaxis": "y"
        },
        {
         "hoverinfo": "text",
         "marker": {
          "color": "rgb(255,65,54)"
         },
         "mode": "lines",
         "type": "scatter",
         "x": [
          0,
          0.8042504234404355,
          0.8042504234404355,
          0
         ],
         "xaxis": "x",
         "y": [
          -4955,
          -4955,
          -4965,
          -4965
         ],
         "yaxis": "y"
        },
        {
         "hoverinfo": "text",
         "marker": {
          "color": "rgb(35,205,205)"
         },
         "mode": "lines",
         "type": "scatter",
         "x": [
          0,
          0.8520437333863267,
          0.8520437333863267,
          0
         ],
         "xaxis": "x",
         "y": [
          -4975,
          -4975,
          -4985,
          -4985
         ],
         "yaxis": "y"
        },
        {
         "hoverinfo": "text",
         "marker": {
          "color": "rgb(35,205,205)"
         },
         "mode": "lines",
         "type": "scatter",
         "x": [
          0,
          0.8823501266203477,
          0.8823501266203477,
          0
         ],
         "xaxis": "x",
         "y": [
          -4995,
          -4995,
          -5005,
          -5005
         ],
         "yaxis": "y"
        },
        {
         "hoverinfo": "text",
         "marker": {
          "color": "rgb(35,205,205)"
         },
         "mode": "lines",
         "type": "scatter",
         "x": [
          0.8520437333863267,
          0.9304487339068909,
          0.9304487339068909,
          0.8823501266203477
         ],
         "xaxis": "x",
         "y": [
          -4980,
          -4980,
          -5000,
          -5000
         ],
         "yaxis": "y"
        },
        {
         "hoverinfo": "text",
         "marker": {
          "color": "rgb(35,205,205)"
         },
         "mode": "lines",
         "type": "scatter",
         "x": [
          0,
          0.866311556711916,
          0.866311556711916,
          0
         ],
         "xaxis": "x",
         "y": [
          -5025,
          -5025,
          -5035,
          -5035
         ],
         "yaxis": "y"
        },
        {
         "hoverinfo": "text",
         "marker": {
          "color": "rgb(35,205,205)"
         },
         "mode": "lines",
         "type": "scatter",
         "x": [
          0.866311556711916,
          0.8850922592232415,
          0.8850922592232415,
          0
         ],
         "xaxis": "x",
         "y": [
          -5030,
          -5030,
          -5045,
          -5045
         ],
         "yaxis": "y"
        },
        {
         "hoverinfo": "text",
         "marker": {
          "color": "rgb(35,205,205)"
         },
         "mode": "lines",
         "type": "scatter",
         "x": [
          0,
          0.888588763176483,
          0.888588763176483,
          0.8850922592232415
         ],
         "xaxis": "x",
         "y": [
          -5015,
          -5015,
          -5037.5,
          -5037.5
         ],
         "yaxis": "y"
        },
        {
         "hoverinfo": "text",
         "marker": {
          "color": "rgb(35,205,205)"
         },
         "mode": "lines",
         "type": "scatter",
         "x": [
          0,
          0.8499537986583641,
          0.8499537986583641,
          0
         ],
         "xaxis": "x",
         "y": [
          -5055,
          -5055,
          -5065,
          -5065
         ],
         "yaxis": "y"
        },
        {
         "hoverinfo": "text",
         "marker": {
          "color": "rgb(35,205,205)"
         },
         "mode": "lines",
         "type": "scatter",
         "x": [
          0.8499537986583641,
          0.9117349352986044,
          0.9117349352986044,
          0
         ],
         "xaxis": "x",
         "y": [
          -5060,
          -5060,
          -5075,
          -5075
         ],
         "yaxis": "y"
        },
        {
         "hoverinfo": "text",
         "marker": {
          "color": "rgb(35,205,205)"
         },
         "mode": "lines",
         "type": "scatter",
         "x": [
          0.888588763176483,
          0.9629944004540294,
          0.9629944004540294,
          0.9117349352986044
         ],
         "xaxis": "x",
         "y": [
          -5026.25,
          -5026.25,
          -5067.5,
          -5067.5
         ],
         "yaxis": "y"
        },
        {
         "hoverinfo": "text",
         "marker": {
          "color": "rgb(35,205,205)"
         },
         "mode": "lines",
         "type": "scatter",
         "x": [
          0.9304487339068909,
          0.9922480164325674,
          0.9922480164325674,
          0.9629944004540294
         ],
         "xaxis": "x",
         "y": [
          -4990,
          -4990,
          -5046.875,
          -5046.875
         ],
         "yaxis": "y"
        },
        {
         "hoverinfo": "text",
         "marker": {
          "color": "rgb(0,116,217)"
         },
         "mode": "lines",
         "type": "scatter",
         "x": [
          0.8042504234404355,
          1.023481554663832,
          1.023481554663832,
          0.9922480164325674
         ],
         "xaxis": "x",
         "y": [
          -4960,
          -4960,
          -5018.4375,
          -5018.4375
         ],
         "yaxis": "y"
        },
        {
         "hoverinfo": "text",
         "marker": {
          "color": "rgb(61,153,112)"
         },
         "mode": "lines",
         "type": "scatter",
         "x": [
          0,
          0.8177091655949777,
          0.8177091655949777,
          0
         ],
         "xaxis": "x",
         "y": [
          -5085,
          -5085,
          -5095,
          -5095
         ],
         "yaxis": "y"
        },
        {
         "hoverinfo": "text",
         "marker": {
          "color": "rgb(61,153,112)"
         },
         "mode": "lines",
         "type": "scatter",
         "x": [
          0,
          0.8786820576762937,
          0.8786820576762937,
          0
         ],
         "xaxis": "x",
         "y": [
          -5105,
          -5105,
          -5115,
          -5115
         ],
         "yaxis": "y"
        },
        {
         "hoverinfo": "text",
         "marker": {
          "color": "rgb(61,153,112)"
         },
         "mode": "lines",
         "type": "scatter",
         "x": [
          0,
          0.8954092592181472,
          0.8954092592181472,
          0
         ],
         "xaxis": "x",
         "y": [
          -5125,
          -5125,
          -5135,
          -5135
         ],
         "yaxis": "y"
        },
        {
         "hoverinfo": "text",
         "marker": {
          "color": "rgb(61,153,112)"
         },
         "mode": "lines",
         "type": "scatter",
         "x": [
          0.8954092592181472,
          0.9114603116868291,
          0.9114603116868291,
          0
         ],
         "xaxis": "x",
         "y": [
          -5130,
          -5130,
          -5145,
          -5145
         ],
         "yaxis": "y"
        },
        {
         "hoverinfo": "text",
         "marker": {
          "color": "rgb(61,153,112)"
         },
         "mode": "lines",
         "type": "scatter",
         "x": [
          0.8786820576762937,
          0.923688705580813,
          0.923688705580813,
          0.9114603116868291
         ],
         "xaxis": "x",
         "y": [
          -5110,
          -5110,
          -5137.5,
          -5137.5
         ],
         "yaxis": "y"
        },
        {
         "hoverinfo": "text",
         "marker": {
          "color": "rgb(61,153,112)"
         },
         "mode": "lines",
         "type": "scatter",
         "x": [
          0.8177091655949777,
          0.973789146868122,
          0.973789146868122,
          0.923688705580813
         ],
         "xaxis": "x",
         "y": [
          -5090,
          -5090,
          -5123.75,
          -5123.75
         ],
         "yaxis": "y"
        },
        {
         "hoverinfo": "text",
         "marker": {
          "color": "rgb(61,153,112)"
         },
         "mode": "lines",
         "type": "scatter",
         "x": [
          0,
          0.8330326341650603,
          0.8330326341650603,
          0
         ],
         "xaxis": "x",
         "y": [
          -5155,
          -5155,
          -5165,
          -5165
         ],
         "yaxis": "y"
        },
        {
         "hoverinfo": "text",
         "marker": {
          "color": "rgb(61,153,112)"
         },
         "mode": "lines",
         "type": "scatter",
         "x": [
          0,
          0.8773862104283537,
          0.8773862104283537,
          0
         ],
         "xaxis": "x",
         "y": [
          -5175,
          -5175,
          -5185,
          -5185
         ],
         "yaxis": "y"
        },
        {
         "hoverinfo": "text",
         "marker": {
          "color": "rgb(61,153,112)"
         },
         "mode": "lines",
         "type": "scatter",
         "x": [
          0.8330326341650603,
          0.9301662457260076,
          0.9301662457260076,
          0.8773862104283537
         ],
         "xaxis": "x",
         "y": [
          -5160,
          -5160,
          -5180,
          -5180
         ],
         "yaxis": "y"
        },
        {
         "hoverinfo": "text",
         "marker": {
          "color": "rgb(61,153,112)"
         },
         "mode": "lines",
         "type": "scatter",
         "x": [
          0,
          0.877758485537192,
          0.877758485537192,
          0
         ],
         "xaxis": "x",
         "y": [
          -5195,
          -5195,
          -5205,
          -5205
         ],
         "yaxis": "y"
        },
        {
         "hoverinfo": "text",
         "marker": {
          "color": "rgb(61,153,112)"
         },
         "mode": "lines",
         "type": "scatter",
         "x": [
          0,
          0.8767560891164796,
          0.8767560891164796,
          0
         ],
         "xaxis": "x",
         "y": [
          -5225,
          -5225,
          -5235,
          -5235
         ],
         "yaxis": "y"
        },
        {
         "hoverinfo": "text",
         "marker": {
          "color": "rgb(61,153,112)"
         },
         "mode": "lines",
         "type": "scatter",
         "x": [
          0,
          0.8924333410209341,
          0.8924333410209341,
          0.8767560891164796
         ],
         "xaxis": "x",
         "y": [
          -5215,
          -5215,
          -5230,
          -5230
         ],
         "yaxis": "y"
        },
        {
         "hoverinfo": "text",
         "marker": {
          "color": "rgb(61,153,112)"
         },
         "mode": "lines",
         "type": "scatter",
         "x": [
          0.877758485537192,
          0.915917822731905,
          0.915917822731905,
          0.8924333410209341
         ],
         "xaxis": "x",
         "y": [
          -5200,
          -5200,
          -5222.5,
          -5222.5
         ],
         "yaxis": "y"
        },
        {
         "hoverinfo": "text",
         "marker": {
          "color": "rgb(61,153,112)"
         },
         "mode": "lines",
         "type": "scatter",
         "x": [
          0,
          0.8982817299626445,
          0.8982817299626445,
          0
         ],
         "xaxis": "x",
         "y": [
          -5255,
          -5255,
          -5265,
          -5265
         ],
         "yaxis": "y"
        },
        {
         "hoverinfo": "text",
         "marker": {
          "color": "rgb(61,153,112)"
         },
         "mode": "lines",
         "type": "scatter",
         "x": [
          0.8982817299626445,
          0.9148801385376559,
          0.9148801385376559,
          0
         ],
         "xaxis": "x",
         "y": [
          -5260,
          -5260,
          -5275,
          -5275
         ],
         "yaxis": "y"
        },
        {
         "hoverinfo": "text",
         "marker": {
          "color": "rgb(61,153,112)"
         },
         "mode": "lines",
         "type": "scatter",
         "x": [
          0,
          0.9180166072898163,
          0.9180166072898163,
          0.9148801385376559
         ],
         "xaxis": "x",
         "y": [
          -5245,
          -5245,
          -5267.5,
          -5267.5
         ],
         "yaxis": "y"
        },
        {
         "hoverinfo": "text",
         "marker": {
          "color": "rgb(61,153,112)"
         },
         "mode": "lines",
         "type": "scatter",
         "x": [
          0.9180166072898163,
          0.9338307035532214,
          0.9338307035532214,
          0
         ],
         "xaxis": "x",
         "y": [
          -5256.25,
          -5256.25,
          -5285,
          -5285
         ],
         "yaxis": "y"
        },
        {
         "hoverinfo": "text",
         "marker": {
          "color": "rgb(61,153,112)"
         },
         "mode": "lines",
         "type": "scatter",
         "x": [
          0.9338307035532214,
          0.9432938089904865,
          0.9432938089904865,
          0
         ],
         "xaxis": "x",
         "y": [
          -5270.625,
          -5270.625,
          -5295,
          -5295
         ],
         "yaxis": "y"
        },
        {
         "hoverinfo": "text",
         "marker": {
          "color": "rgb(61,153,112)"
         },
         "mode": "lines",
         "type": "scatter",
         "x": [
          0.915917822731905,
          0.9614264285194145,
          0.9614264285194145,
          0.9432938089904865
         ],
         "xaxis": "x",
         "y": [
          -5211.25,
          -5211.25,
          -5282.8125,
          -5282.8125
         ],
         "yaxis": "y"
        },
        {
         "hoverinfo": "text",
         "marker": {
          "color": "rgb(61,153,112)"
         },
         "mode": "lines",
         "type": "scatter",
         "x": [
          0.9301662457260076,
          0.9790101362400455,
          0.9790101362400455,
          0.9614264285194145
         ],
         "xaxis": "x",
         "y": [
          -5170,
          -5170,
          -5247.03125,
          -5247.03125
         ],
         "yaxis": "y"
        },
        {
         "hoverinfo": "text",
         "marker": {
          "color": "rgb(61,153,112)"
         },
         "mode": "lines",
         "type": "scatter",
         "x": [
          0.973789146868122,
          0.9872302606592642,
          0.9872302606592642,
          0.9790101362400455
         ],
         "xaxis": "x",
         "y": [
          -5106.875,
          -5106.875,
          -5208.515625,
          -5208.515625
         ],
         "yaxis": "y"
        },
        {
         "hoverinfo": "text",
         "marker": {
          "color": "rgb(255,65,54)"
         },
         "mode": "lines",
         "type": "scatter",
         "x": [
          0,
          0.9085194733607177,
          0.9085194733607177,
          0
         ],
         "xaxis": "x",
         "y": [
          -5305,
          -5305,
          -5315,
          -5315
         ],
         "yaxis": "y"
        },
        {
         "hoverinfo": "text",
         "marker": {
          "color": "rgb(255,65,54)"
         },
         "mode": "lines",
         "type": "scatter",
         "x": [
          0,
          0.8226289903147588,
          0.8226289903147588,
          0
         ],
         "xaxis": "x",
         "y": [
          -5325,
          -5325,
          -5335,
          -5335
         ],
         "yaxis": "y"
        },
        {
         "hoverinfo": "text",
         "marker": {
          "color": "rgb(255,65,54)"
         },
         "mode": "lines",
         "type": "scatter",
         "x": [
          0.8226289903147588,
          0.8457854599291506,
          0.8457854599291506,
          0
         ],
         "xaxis": "x",
         "y": [
          -5330,
          -5330,
          -5345,
          -5345
         ],
         "yaxis": "y"
        },
        {
         "hoverinfo": "text",
         "marker": {
          "color": "rgb(255,65,54)"
         },
         "mode": "lines",
         "type": "scatter",
         "x": [
          0.8457854599291506,
          0.8906657853352327,
          0.8906657853352327,
          0
         ],
         "xaxis": "x",
         "y": [
          -5337.5,
          -5337.5,
          -5355,
          -5355
         ],
         "yaxis": "y"
        },
        {
         "hoverinfo": "text",
         "marker": {
          "color": "rgb(255,65,54)"
         },
         "mode": "lines",
         "type": "scatter",
         "x": [
          0.9085194733607177,
          0.9456848417934262,
          0.9456848417934262,
          0.8906657853352327
         ],
         "xaxis": "x",
         "y": [
          -5310,
          -5310,
          -5346.25,
          -5346.25
         ],
         "yaxis": "y"
        },
        {
         "hoverinfo": "text",
         "marker": {
          "color": "rgb(35,205,205)"
         },
         "mode": "lines",
         "type": "scatter",
         "x": [
          0,
          0.8951345528463011,
          0.8951345528463011,
          0
         ],
         "xaxis": "x",
         "y": [
          -5375,
          -5375,
          -5385,
          -5385
         ],
         "yaxis": "y"
        },
        {
         "hoverinfo": "text",
         "marker": {
          "color": "rgb(35,205,205)"
         },
         "mode": "lines",
         "type": "scatter",
         "x": [
          0,
          0.9129388118506135,
          0.9129388118506135,
          0.8951345528463011
         ],
         "xaxis": "x",
         "y": [
          -5365,
          -5365,
          -5380,
          -5380
         ],
         "yaxis": "y"
        },
        {
         "hoverinfo": "text",
         "marker": {
          "color": "rgb(35,205,205)"
         },
         "mode": "lines",
         "type": "scatter",
         "x": [
          0,
          0.8800707932242,
          0.8800707932242,
          0
         ],
         "xaxis": "x",
         "y": [
          -5395,
          -5395,
          -5405,
          -5405
         ],
         "yaxis": "y"
        },
        {
         "hoverinfo": "text",
         "marker": {
          "color": "rgb(35,205,205)"
         },
         "mode": "lines",
         "type": "scatter",
         "x": [
          0.8800707932242,
          0.9004682155882552,
          0.9004682155882552,
          0
         ],
         "xaxis": "x",
         "y": [
          -5400,
          -5400,
          -5415,
          -5415
         ],
         "yaxis": "y"
        },
        {
         "hoverinfo": "text",
         "marker": {
          "color": "rgb(35,205,205)"
         },
         "mode": "lines",
         "type": "scatter",
         "x": [
          0.9129388118506135,
          0.9503120604768142,
          0.9503120604768142,
          0.9004682155882552
         ],
         "xaxis": "x",
         "y": [
          -5372.5,
          -5372.5,
          -5407.5,
          -5407.5
         ],
         "yaxis": "y"
        },
        {
         "hoverinfo": "text",
         "marker": {
          "color": "rgb(35,205,205)"
         },
         "mode": "lines",
         "type": "scatter",
         "x": [
          0,
          0.8676423062706939,
          0.8676423062706939,
          0
         ],
         "xaxis": "x",
         "y": [
          -5435,
          -5435,
          -5445,
          -5445
         ],
         "yaxis": "y"
        },
        {
         "hoverinfo": "text",
         "marker": {
          "color": "rgb(35,205,205)"
         },
         "mode": "lines",
         "type": "scatter",
         "x": [
          0.8676423062706939,
          0.8855258888266877,
          0.8855258888266877,
          0
         ],
         "xaxis": "x",
         "y": [
          -5440,
          -5440,
          -5455,
          -5455
         ],
         "yaxis": "y"
        },
        {
         "hoverinfo": "text",
         "marker": {
          "color": "rgb(35,205,205)"
         },
         "mode": "lines",
         "type": "scatter",
         "x": [
          0,
          0.9241701054092452,
          0.9241701054092452,
          0.8855258888266877
         ],
         "xaxis": "x",
         "y": [
          -5425,
          -5425,
          -5447.5,
          -5447.5
         ],
         "yaxis": "y"
        },
        {
         "hoverinfo": "text",
         "marker": {
          "color": "rgb(35,205,205)"
         },
         "mode": "lines",
         "type": "scatter",
         "x": [
          0.9241701054092452,
          0.9397549368870821,
          0.9397549368870821,
          0
         ],
         "xaxis": "x",
         "y": [
          -5436.25,
          -5436.25,
          -5465,
          -5465
         ],
         "yaxis": "y"
        },
        {
         "hoverinfo": "text",
         "marker": {
          "color": "rgb(35,205,205)"
         },
         "mode": "lines",
         "type": "scatter",
         "x": [
          0.9503120604768142,
          0.9816451114148131,
          0.9816451114148131,
          0.9397549368870821
         ],
         "xaxis": "x",
         "y": [
          -5390,
          -5390,
          -5450.625,
          -5450.625
         ],
         "yaxis": "y"
        },
        {
         "hoverinfo": "text",
         "marker": {
          "color": "rgb(0,116,217)"
         },
         "mode": "lines",
         "type": "scatter",
         "x": [
          0.9456848417934262,
          1.0095481899194698,
          1.0095481899194698,
          0.9816451114148131
         ],
         "xaxis": "x",
         "y": [
          -5328.125,
          -5328.125,
          -5420.3125,
          -5420.3125
         ],
         "yaxis": "y"
        },
        {
         "hoverinfo": "text",
         "marker": {
          "color": "rgb(0,116,217)"
         },
         "mode": "lines",
         "type": "scatter",
         "x": [
          0.9872302606592642,
          1.0163184463360901,
          1.0163184463360901,
          1.0095481899194698
         ],
         "xaxis": "x",
         "y": [
          -5157.6953125,
          -5157.6953125,
          -5374.21875,
          -5374.21875
         ],
         "yaxis": "y"
        },
        {
         "hoverinfo": "text",
         "marker": {
          "color": "rgb(133,20,75)"
         },
         "mode": "lines",
         "type": "scatter",
         "x": [
          0,
          0.8533525250622663,
          0.8533525250622663,
          0
         ],
         "xaxis": "x",
         "y": [
          -5475,
          -5475,
          -5485,
          -5485
         ],
         "yaxis": "y"
        },
        {
         "hoverinfo": "text",
         "marker": {
          "color": "rgb(255,220,0)"
         },
         "mode": "lines",
         "type": "scatter",
         "x": [
          0,
          0.8197495473526218,
          0.8197495473526218,
          0
         ],
         "xaxis": "x",
         "y": [
          -5495,
          -5495,
          -5505,
          -5505
         ],
         "yaxis": "y"
        },
        {
         "hoverinfo": "text",
         "marker": {
          "color": "rgb(255,220,0)"
         },
         "mode": "lines",
         "type": "scatter",
         "x": [
          0,
          0.8805570085424136,
          0.8805570085424136,
          0
         ],
         "xaxis": "x",
         "y": [
          -5515,
          -5515,
          -5525,
          -5525
         ],
         "yaxis": "y"
        },
        {
         "hoverinfo": "text",
         "marker": {
          "color": "rgb(255,220,0)"
         },
         "mode": "lines",
         "type": "scatter",
         "x": [
          0,
          0.8933866983411779,
          0.8933866983411779,
          0
         ],
         "xaxis": "x",
         "y": [
          -5535,
          -5535,
          -5545,
          -5545
         ],
         "yaxis": "y"
        },
        {
         "hoverinfo": "text",
         "marker": {
          "color": "rgb(255,220,0)"
         },
         "mode": "lines",
         "type": "scatter",
         "x": [
          0.8805570085424136,
          0.9191288478828187,
          0.9191288478828187,
          0.8933866983411779
         ],
         "xaxis": "x",
         "y": [
          -5520,
          -5520,
          -5540,
          -5540
         ],
         "yaxis": "y"
        },
        {
         "hoverinfo": "text",
         "marker": {
          "color": "rgb(255,220,0)"
         },
         "mode": "lines",
         "type": "scatter",
         "x": [
          0,
          0.8359973321193974,
          0.8359973321193974,
          0
         ],
         "xaxis": "x",
         "y": [
          -5555,
          -5555,
          -5565,
          -5565
         ],
         "yaxis": "y"
        },
        {
         "hoverinfo": "text",
         "marker": {
          "color": "rgb(255,220,0)"
         },
         "mode": "lines",
         "type": "scatter",
         "x": [
          0.8359973321193974,
          0.9100897010788533,
          0.9100897010788533,
          0
         ],
         "xaxis": "x",
         "y": [
          -5560,
          -5560,
          -5575,
          -5575
         ],
         "yaxis": "y"
        },
        {
         "hoverinfo": "text",
         "marker": {
          "color": "rgb(255,220,0)"
         },
         "mode": "lines",
         "type": "scatter",
         "x": [
          0.9191288478828187,
          0.9447806616467797,
          0.9447806616467797,
          0.9100897010788533
         ],
         "xaxis": "x",
         "y": [
          -5530,
          -5530,
          -5567.5,
          -5567.5
         ],
         "yaxis": "y"
        },
        {
         "hoverinfo": "text",
         "marker": {
          "color": "rgb(255,220,0)"
         },
         "mode": "lines",
         "type": "scatter",
         "x": [
          0.8197495473526218,
          0.9657857876506268,
          0.9657857876506268,
          0.9447806616467797
         ],
         "xaxis": "x",
         "y": [
          -5500,
          -5500,
          -5548.75,
          -5548.75
         ],
         "yaxis": "y"
        },
        {
         "hoverinfo": "text",
         "marker": {
          "color": "rgb(255,220,0)"
         },
         "mode": "lines",
         "type": "scatter",
         "x": [
          0,
          0.8387842103245765,
          0.8387842103245765,
          0
         ],
         "xaxis": "x",
         "y": [
          -5585,
          -5585,
          -5595,
          -5595
         ],
         "yaxis": "y"
        },
        {
         "hoverinfo": "text",
         "marker": {
          "color": "rgb(255,220,0)"
         },
         "mode": "lines",
         "type": "scatter",
         "x": [
          0.9657857876506268,
          0.9768060506542313,
          0.9768060506542313,
          0.8387842103245765
         ],
         "xaxis": "x",
         "y": [
          -5524.375,
          -5524.375,
          -5590,
          -5590
         ],
         "yaxis": "y"
        },
        {
         "hoverinfo": "text",
         "marker": {
          "color": "rgb(255,220,0)"
         },
         "mode": "lines",
         "type": "scatter",
         "x": [
          0,
          0.8944835092357225,
          0.8944835092357225,
          0
         ],
         "xaxis": "x",
         "y": [
          -5625,
          -5625,
          -5635,
          -5635
         ],
         "yaxis": "y"
        },
        {
         "hoverinfo": "text",
         "marker": {
          "color": "rgb(255,220,0)"
         },
         "mode": "lines",
         "type": "scatter",
         "x": [
          0,
          0.9116581514061696,
          0.9116581514061696,
          0.8944835092357225
         ],
         "xaxis": "x",
         "y": [
          -5615,
          -5615,
          -5630,
          -5630
         ],
         "yaxis": "y"
        },
        {
         "hoverinfo": "text",
         "marker": {
          "color": "rgb(255,220,0)"
         },
         "mode": "lines",
         "type": "scatter",
         "x": [
          0.9116581514061696,
          0.9252708725728519,
          0.9252708725728519,
          0
         ],
         "xaxis": "x",
         "y": [
          -5622.5,
          -5622.5,
          -5645,
          -5645
         ],
         "yaxis": "y"
        },
        {
         "hoverinfo": "text",
         "marker": {
          "color": "rgb(255,220,0)"
         },
         "mode": "lines",
         "type": "scatter",
         "x": [
          0,
          0.9402233976843334,
          0.9402233976843334,
          0.9252708725728519
         ],
         "xaxis": "x",
         "y": [
          -5605,
          -5605,
          -5633.75,
          -5633.75
         ],
         "yaxis": "y"
        },
        {
         "hoverinfo": "text",
         "marker": {
          "color": "rgb(255,220,0)"
         },
         "mode": "lines",
         "type": "scatter",
         "x": [
          0,
          0.9504955219832224,
          0.9504955219832224,
          0
         ],
         "xaxis": "x",
         "y": [
          -5655,
          -5655,
          -5665,
          -5665
         ],
         "yaxis": "y"
        },
        {
         "hoverinfo": "text",
         "marker": {
          "color": "rgb(255,220,0)"
         },
         "mode": "lines",
         "type": "scatter",
         "x": [
          0.9402233976843334,
          0.9596560339167522,
          0.9596560339167522,
          0.9504955219832224
         ],
         "xaxis": "x",
         "y": [
          -5619.375,
          -5619.375,
          -5660,
          -5660
         ],
         "yaxis": "y"
        },
        {
         "hoverinfo": "text",
         "marker": {
          "color": "rgb(255,220,0)"
         },
         "mode": "lines",
         "type": "scatter",
         "x": [
          0.9768060506542313,
          0.9940626985149513,
          0.9940626985149513,
          0.9596560339167522
         ],
         "xaxis": "x",
         "y": [
          -5557.1875,
          -5557.1875,
          -5639.6875,
          -5639.6875
         ],
         "yaxis": "y"
        },
        {
         "hoverinfo": "text",
         "marker": {
          "color": "rgb(0,116,217)"
         },
         "mode": "lines",
         "type": "scatter",
         "x": [
          0.8533525250622663,
          1.0046108834053153,
          1.0046108834053153,
          0.9940626985149513
         ],
         "xaxis": "x",
         "y": [
          -5480,
          -5480,
          -5598.4375,
          -5598.4375
         ],
         "yaxis": "y"
        },
        {
         "hoverinfo": "text",
         "marker": {
          "color": "rgb(0,116,217)"
         },
         "mode": "lines",
         "type": "scatter",
         "x": [
          1.0163184463360901,
          1.0225789930951712,
          1.0225789930951712,
          1.0046108834053153
         ],
         "xaxis": "x",
         "y": [
          -5265.95703125,
          -5265.95703125,
          -5539.21875,
          -5539.21875
         ],
         "yaxis": "y"
        },
        {
         "hoverinfo": "text",
         "marker": {
          "color": "rgb(0,116,217)"
         },
         "mode": "lines",
         "type": "scatter",
         "x": [
          1.023481554663832,
          1.0384634339174972,
          1.0384634339174972,
          1.0225789930951712
         ],
         "xaxis": "x",
         "y": [
          -4989.21875,
          -4989.21875,
          -5402.587890625,
          -5402.587890625
         ],
         "yaxis": "y"
        },
        {
         "hoverinfo": "text",
         "marker": {
          "color": "rgb(40,35,35)"
         },
         "mode": "lines",
         "type": "scatter",
         "x": [
          0,
          0.8749020648305328,
          0.8749020648305328,
          0
         ],
         "xaxis": "x",
         "y": [
          -5685,
          -5685,
          -5695,
          -5695
         ],
         "yaxis": "y"
        },
        {
         "hoverinfo": "text",
         "marker": {
          "color": "rgb(40,35,35)"
         },
         "mode": "lines",
         "type": "scatter",
         "x": [
          0.8749020648305328,
          0.9232035521692231,
          0.9232035521692231,
          0
         ],
         "xaxis": "x",
         "y": [
          -5690,
          -5690,
          -5705,
          -5705
         ],
         "yaxis": "y"
        },
        {
         "hoverinfo": "text",
         "marker": {
          "color": "rgb(40,35,35)"
         },
         "mode": "lines",
         "type": "scatter",
         "x": [
          0,
          0.9834379624224515,
          0.9834379624224515,
          0.9232035521692231
         ],
         "xaxis": "x",
         "y": [
          -5675,
          -5675,
          -5697.5,
          -5697.5
         ],
         "yaxis": "y"
        },
        {
         "hoverinfo": "text",
         "marker": {
          "color": "rgb(61,153,112)"
         },
         "mode": "lines",
         "type": "scatter",
         "x": [
          0,
          0.9803458615209513,
          0.9803458615209513,
          0
         ],
         "xaxis": "x",
         "y": [
          -5715,
          -5715,
          -5725,
          -5725
         ],
         "yaxis": "y"
        },
        {
         "hoverinfo": "text",
         "marker": {
          "color": "rgb(0,116,217)"
         },
         "mode": "lines",
         "type": "scatter",
         "x": [
          0.9834379624224515,
          1.0112555582729725,
          1.0112555582729725,
          0.9803458615209513
         ],
         "xaxis": "x",
         "y": [
          -5686.25,
          -5686.25,
          -5720,
          -5720
         ],
         "yaxis": "y"
        },
        {
         "hoverinfo": "text",
         "marker": {
          "color": "rgb(0,116,217)"
         },
         "mode": "lines",
         "type": "scatter",
         "x": [
          1.0384634339174972,
          1.0583003260511739,
          1.0583003260511739,
          1.0112555582729725
         ],
         "xaxis": "x",
         "y": [
          -5195.9033203125,
          -5195.9033203125,
          -5703.125,
          -5703.125
         ],
         "yaxis": "y"
        },
        {
         "hoverinfo": "text",
         "marker": {
          "color": "rgb(0,116,217)"
         },
         "mode": "lines",
         "type": "scatter",
         "x": [
          1.0305655701454932,
          1.0939865161056832,
          1.0939865161056832,
          1.0583003260511739
         ],
         "xaxis": "x",
         "y": [
          -4197.388916015625,
          -4197.388916015625,
          -5449.51416015625,
          -5449.51416015625
         ],
         "yaxis": "y"
        },
        {
         "hoverinfo": "text",
         "marker": {
          "color": "rgb(0,116,217)"
         },
         "mode": "lines",
         "type": "scatter",
         "x": [
          0.746363261607779,
          1.178356247798321,
          1.178356247798321,
          1.0939865161056832
         ],
         "xaxis": "x",
         "y": [
          -3347.5,
          -3347.5,
          -4823.4515380859375,
          -4823.4515380859375
         ],
         "yaxis": "y"
        },
        {
         "hoverinfo": "text",
         "marker": {
          "color": "rgb(0,116,217)"
         },
         "mode": "lines",
         "type": "scatter",
         "x": [
          0.954105185482374,
          1.2127348563018268,
          1.2127348563018268,
          1.178356247798321
         ],
         "xaxis": "x",
         "y": [
          -3284.0625,
          -3284.0625,
          -4085.4757690429688,
          -4085.4757690429688
         ],
         "yaxis": "y"
        },
        {
         "hoverinfo": "text",
         "marker": {
          "color": "rgb(0,116,217)"
         },
         "mode": "lines",
         "type": "scatter",
         "x": [
          1.313188786382522,
          1.4319258862715876,
          1.4319258862715876,
          1.2127348563018268
         ],
         "xaxis": "x",
         "y": [
          -2978.18359375,
          -2978.18359375,
          -3684.7691345214844,
          -3684.7691345214844
         ],
         "yaxis": "y"
        },
        {
         "hoverinfo": "text",
         "marker": {
          "color": "rgb(0,116,217)"
         },
         "mode": "lines",
         "type": "scatter",
         "x": [
          0.5678389688436885,
          1.6244882682617703,
          1.6244882682617703,
          1.4319258862715876
         ],
         "xaxis": "x",
         "y": [
          -2796.25,
          -2796.25,
          -3331.476364135742,
          -3331.476364135742
         ],
         "yaxis": "y"
        },
        {
         "hoverinfo": "text",
         "marker": {
          "color": "rgb(255,65,54)"
         },
         "mode": "lines",
         "type": "scatter",
         "x": [
          0,
          0.3518878508242299,
          0.3518878508242299,
          0
         ],
         "xaxis": "x",
         "y": [
          -5735,
          -5735,
          -5745,
          -5745
         ],
         "yaxis": "y"
        },
        {
         "hoverinfo": "text",
         "marker": {
          "color": "rgb(35,205,205)"
         },
         "mode": "lines",
         "type": "scatter",
         "x": [
          0,
          0.43845487357047497,
          0.43845487357047497,
          0
         ],
         "xaxis": "x",
         "y": [
          -5765,
          -5765,
          -5775,
          -5775
         ],
         "yaxis": "y"
        },
        {
         "hoverinfo": "text",
         "marker": {
          "color": "rgb(35,205,205)"
         },
         "mode": "lines",
         "type": "scatter",
         "x": [
          0.43845487357047497,
          0.5833649527168195,
          0.5833649527168195,
          0
         ],
         "xaxis": "x",
         "y": [
          -5770,
          -5770,
          -5785,
          -5785
         ],
         "yaxis": "y"
        },
        {
         "hoverinfo": "text",
         "marker": {
          "color": "rgb(35,205,205)"
         },
         "mode": "lines",
         "type": "scatter",
         "x": [
          0,
          0.7015009209022617,
          0.7015009209022617,
          0.5833649527168195
         ],
         "xaxis": "x",
         "y": [
          -5755,
          -5755,
          -5777.5,
          -5777.5
         ],
         "yaxis": "y"
        },
        {
         "hoverinfo": "text",
         "marker": {
          "color": "rgb(35,205,205)"
         },
         "mode": "lines",
         "type": "scatter",
         "x": [
          0,
          0.14707273914520702,
          0.14707273914520702,
          0
         ],
         "xaxis": "x",
         "y": [
          -5795,
          -5795,
          -5805,
          -5805
         ],
         "yaxis": "y"
        },
        {
         "hoverinfo": "text",
         "marker": {
          "color": "rgb(35,205,205)"
         },
         "mode": "lines",
         "type": "scatter",
         "x": [
          0.7015009209022617,
          0.9034363832798428,
          0.9034363832798428,
          0.14707273914520702
         ],
         "xaxis": "x",
         "y": [
          -5766.25,
          -5766.25,
          -5800,
          -5800
         ],
         "yaxis": "y"
        },
        {
         "hoverinfo": "text",
         "marker": {
          "color": "rgb(0,116,217)"
         },
         "mode": "lines",
         "type": "scatter",
         "x": [
          0.3518878508242299,
          1.0725827675681296,
          1.0725827675681296,
          0.9034363832798428
         ],
         "xaxis": "x",
         "y": [
          -5740,
          -5740,
          -5783.125,
          -5783.125
         ],
         "yaxis": "y"
        },
        {
         "hoverinfo": "text",
         "marker": {
          "color": "rgb(61,153,112)"
         },
         "mode": "lines",
         "type": "scatter",
         "x": [
          0,
          0.36821078221748893,
          0.36821078221748893,
          0
         ],
         "xaxis": "x",
         "y": [
          -5835,
          -5835,
          -5845,
          -5845
         ],
         "yaxis": "y"
        },
        {
         "hoverinfo": "text",
         "marker": {
          "color": "rgb(61,153,112)"
         },
         "mode": "lines",
         "type": "scatter",
         "x": [
          0,
          0.4916812979224072,
          0.4916812979224072,
          0.36821078221748893
         ],
         "xaxis": "x",
         "y": [
          -5825,
          -5825,
          -5840,
          -5840
         ],
         "yaxis": "y"
        },
        {
         "hoverinfo": "text",
         "marker": {
          "color": "rgb(61,153,112)"
         },
         "mode": "lines",
         "type": "scatter",
         "x": [
          0.4916812979224072,
          0.5840366212957572,
          0.5840366212957572,
          0
         ],
         "xaxis": "x",
         "y": [
          -5832.5,
          -5832.5,
          -5855,
          -5855
         ],
         "yaxis": "y"
        },
        {
         "hoverinfo": "text",
         "marker": {
          "color": "rgb(61,153,112)"
         },
         "mode": "lines",
         "type": "scatter",
         "x": [
          0,
          0.7096045888080993,
          0.7096045888080993,
          0.5840366212957572
         ],
         "xaxis": "x",
         "y": [
          -5815,
          -5815,
          -5843.75,
          -5843.75
         ],
         "yaxis": "y"
        },
        {
         "hoverinfo": "text",
         "marker": {
          "color": "rgb(61,153,112)"
         },
         "mode": "lines",
         "type": "scatter",
         "x": [
          0.7096045888080993,
          0.7425917027255364,
          0.7425917027255364,
          0
         ],
         "xaxis": "x",
         "y": [
          -5829.375,
          -5829.375,
          -5865,
          -5865
         ],
         "yaxis": "y"
        },
        {
         "hoverinfo": "text",
         "marker": {
          "color": "rgb(255,65,54)"
         },
         "mode": "lines",
         "type": "scatter",
         "x": [
          0,
          0.5700874639927602,
          0.5700874639927602,
          0
         ],
         "xaxis": "x",
         "y": [
          -5895,
          -5895,
          -5905,
          -5905
         ],
         "yaxis": "y"
        },
        {
         "hoverinfo": "text",
         "marker": {
          "color": "rgb(255,65,54)"
         },
         "mode": "lines",
         "type": "scatter",
         "x": [
          0,
          0.7409111131145532,
          0.7409111131145532,
          0.5700874639927602
         ],
         "xaxis": "x",
         "y": [
          -5885,
          -5885,
          -5900,
          -5900
         ],
         "yaxis": "y"
        },
        {
         "hoverinfo": "text",
         "marker": {
          "color": "rgb(255,65,54)"
         },
         "mode": "lines",
         "type": "scatter",
         "x": [
          0,
          0.846739119035003,
          0.846739119035003,
          0.7409111131145532
         ],
         "xaxis": "x",
         "y": [
          -5875,
          -5875,
          -5892.5,
          -5892.5
         ],
         "yaxis": "y"
        },
        {
         "hoverinfo": "text",
         "marker": {
          "color": "rgb(255,65,54)"
         },
         "mode": "lines",
         "type": "scatter",
         "x": [
          0,
          0.600459759197919,
          0.600459759197919,
          0
         ],
         "xaxis": "x",
         "y": [
          -5915,
          -5915,
          -5925,
          -5925
         ],
         "yaxis": "y"
        },
        {
         "hoverinfo": "text",
         "marker": {
          "color": "rgb(255,65,54)"
         },
         "mode": "lines",
         "type": "scatter",
         "x": [
          0.846739119035003,
          0.8782503132214413,
          0.8782503132214413,
          0.600459759197919
         ],
         "xaxis": "x",
         "y": [
          -5883.75,
          -5883.75,
          -5920,
          -5920
         ],
         "yaxis": "y"
        },
        {
         "hoverinfo": "text",
         "marker": {
          "color": "rgb(35,205,205)"
         },
         "mode": "lines",
         "type": "scatter",
         "x": [
          0,
          0.7995945071894909,
          0.7995945071894909,
          0
         ],
         "xaxis": "x",
         "y": [
          -5935,
          -5935,
          -5945,
          -5945
         ],
         "yaxis": "y"
        },
        {
         "hoverinfo": "text",
         "marker": {
          "color": "rgb(0,116,217)"
         },
         "mode": "lines",
         "type": "scatter",
         "x": [
          0.8782503132214413,
          1.0249987481811957,
          1.0249987481811957,
          0.7995945071894909
         ],
         "xaxis": "x",
         "y": [
          -5901.875,
          -5901.875,
          -5940,
          -5940
         ],
         "yaxis": "y"
        },
        {
         "hoverinfo": "text",
         "marker": {
          "color": "rgb(0,116,217)"
         },
         "mode": "lines",
         "type": "scatter",
         "x": [
          0.7425917027255364,
          1.4553326401741107,
          1.4553326401741107,
          1.0249987481811957
         ],
         "xaxis": "x",
         "y": [
          -5847.1875,
          -5847.1875,
          -5920.9375,
          -5920.9375
         ],
         "yaxis": "y"
        },
        {
         "hoverinfo": "text",
         "marker": {
          "color": "rgb(0,116,217)"
         },
         "mode": "lines",
         "type": "scatter",
         "x": [
          1.0725827675681296,
          1.703298252091852,
          1.703298252091852,
          1.4553326401741107
         ],
         "xaxis": "x",
         "y": [
          -5761.5625,
          -5761.5625,
          -5884.0625,
          -5884.0625
         ],
         "yaxis": "y"
        },
        {
         "hoverinfo": "text",
         "marker": {
          "color": "rgb(0,116,217)"
         },
         "mode": "lines",
         "type": "scatter",
         "x": [
          1.6244882682617703,
          2.1604647922308575,
          2.1604647922308575,
          1.703298252091852
         ],
         "xaxis": "x",
         "y": [
          -3063.863182067871,
          -3063.863182067871,
          -5822.8125,
          -5822.8125
         ],
         "yaxis": "y"
        },
        {
         "hoverinfo": "text",
         "marker": {
          "color": "rgb(0,116,217)"
         },
         "mode": "lines",
         "type": "scatter",
         "x": [
          1.7763570104423185,
          2.707256255236792,
          2.707256255236792,
          2.1604647922308575
         ],
         "xaxis": "x",
         "y": [
          -1460.3222800584952,
          -1460.3222800584952,
          -4443.337841033936,
          -4443.337841033936
         ],
         "yaxis": "y"
        }
       ],
       "layout": {
        "autosize": false,
        "height": 9125,
        "hoverlabel": {
         "bgcolor": "white",
         "font": {
          "family": "Rockwell",
          "size": 16
         }
        },
        "hovermode": "closest",
        "plot_bgcolor": "#ECEFF1",
        "showlegend": false,
        "template": {
         "data": {
          "bar": [
           {
            "error_x": {
             "color": "#2a3f5f"
            },
            "error_y": {
             "color": "#2a3f5f"
            },
            "marker": {
             "line": {
              "color": "white",
              "width": 0.5
             },
             "pattern": {
              "fillmode": "overlay",
              "size": 10,
              "solidity": 0.2
             }
            },
            "type": "bar"
           }
          ],
          "barpolar": [
           {
            "marker": {
             "line": {
              "color": "white",
              "width": 0.5
             },
             "pattern": {
              "fillmode": "overlay",
              "size": 10,
              "solidity": 0.2
             }
            },
            "type": "barpolar"
           }
          ],
          "carpet": [
           {
            "aaxis": {
             "endlinecolor": "#2a3f5f",
             "gridcolor": "#C8D4E3",
             "linecolor": "#C8D4E3",
             "minorgridcolor": "#C8D4E3",
             "startlinecolor": "#2a3f5f"
            },
            "baxis": {
             "endlinecolor": "#2a3f5f",
             "gridcolor": "#C8D4E3",
             "linecolor": "#C8D4E3",
             "minorgridcolor": "#C8D4E3",
             "startlinecolor": "#2a3f5f"
            },
            "type": "carpet"
           }
          ],
          "choropleth": [
           {
            "colorbar": {
             "outlinewidth": 0,
             "ticks": ""
            },
            "type": "choropleth"
           }
          ],
          "contour": [
           {
            "colorbar": {
             "outlinewidth": 0,
             "ticks": ""
            },
            "colorscale": [
             [
              0,
              "#0d0887"
             ],
             [
              0.1111111111111111,
              "#46039f"
             ],
             [
              0.2222222222222222,
              "#7201a8"
             ],
             [
              0.3333333333333333,
              "#9c179e"
             ],
             [
              0.4444444444444444,
              "#bd3786"
             ],
             [
              0.5555555555555556,
              "#d8576b"
             ],
             [
              0.6666666666666666,
              "#ed7953"
             ],
             [
              0.7777777777777778,
              "#fb9f3a"
             ],
             [
              0.8888888888888888,
              "#fdca26"
             ],
             [
              1,
              "#f0f921"
             ]
            ],
            "type": "contour"
           }
          ],
          "contourcarpet": [
           {
            "colorbar": {
             "outlinewidth": 0,
             "ticks": ""
            },
            "type": "contourcarpet"
           }
          ],
          "heatmap": [
           {
            "colorbar": {
             "outlinewidth": 0,
             "ticks": ""
            },
            "colorscale": [
             [
              0,
              "#0d0887"
             ],
             [
              0.1111111111111111,
              "#46039f"
             ],
             [
              0.2222222222222222,
              "#7201a8"
             ],
             [
              0.3333333333333333,
              "#9c179e"
             ],
             [
              0.4444444444444444,
              "#bd3786"
             ],
             [
              0.5555555555555556,
              "#d8576b"
             ],
             [
              0.6666666666666666,
              "#ed7953"
             ],
             [
              0.7777777777777778,
              "#fb9f3a"
             ],
             [
              0.8888888888888888,
              "#fdca26"
             ],
             [
              1,
              "#f0f921"
             ]
            ],
            "type": "heatmap"
           }
          ],
          "heatmapgl": [
           {
            "colorbar": {
             "outlinewidth": 0,
             "ticks": ""
            },
            "colorscale": [
             [
              0,
              "#0d0887"
             ],
             [
              0.1111111111111111,
              "#46039f"
             ],
             [
              0.2222222222222222,
              "#7201a8"
             ],
             [
              0.3333333333333333,
              "#9c179e"
             ],
             [
              0.4444444444444444,
              "#bd3786"
             ],
             [
              0.5555555555555556,
              "#d8576b"
             ],
             [
              0.6666666666666666,
              "#ed7953"
             ],
             [
              0.7777777777777778,
              "#fb9f3a"
             ],
             [
              0.8888888888888888,
              "#fdca26"
             ],
             [
              1,
              "#f0f921"
             ]
            ],
            "type": "heatmapgl"
           }
          ],
          "histogram": [
           {
            "marker": {
             "pattern": {
              "fillmode": "overlay",
              "size": 10,
              "solidity": 0.2
             }
            },
            "type": "histogram"
           }
          ],
          "histogram2d": [
           {
            "colorbar": {
             "outlinewidth": 0,
             "ticks": ""
            },
            "colorscale": [
             [
              0,
              "#0d0887"
             ],
             [
              0.1111111111111111,
              "#46039f"
             ],
             [
              0.2222222222222222,
              "#7201a8"
             ],
             [
              0.3333333333333333,
              "#9c179e"
             ],
             [
              0.4444444444444444,
              "#bd3786"
             ],
             [
              0.5555555555555556,
              "#d8576b"
             ],
             [
              0.6666666666666666,
              "#ed7953"
             ],
             [
              0.7777777777777778,
              "#fb9f3a"
             ],
             [
              0.8888888888888888,
              "#fdca26"
             ],
             [
              1,
              "#f0f921"
             ]
            ],
            "type": "histogram2d"
           }
          ],
          "histogram2dcontour": [
           {
            "colorbar": {
             "outlinewidth": 0,
             "ticks": ""
            },
            "colorscale": [
             [
              0,
              "#0d0887"
             ],
             [
              0.1111111111111111,
              "#46039f"
             ],
             [
              0.2222222222222222,
              "#7201a8"
             ],
             [
              0.3333333333333333,
              "#9c179e"
             ],
             [
              0.4444444444444444,
              "#bd3786"
             ],
             [
              0.5555555555555556,
              "#d8576b"
             ],
             [
              0.6666666666666666,
              "#ed7953"
             ],
             [
              0.7777777777777778,
              "#fb9f3a"
             ],
             [
              0.8888888888888888,
              "#fdca26"
             ],
             [
              1,
              "#f0f921"
             ]
            ],
            "type": "histogram2dcontour"
           }
          ],
          "mesh3d": [
           {
            "colorbar": {
             "outlinewidth": 0,
             "ticks": ""
            },
            "type": "mesh3d"
           }
          ],
          "parcoords": [
           {
            "line": {
             "colorbar": {
              "outlinewidth": 0,
              "ticks": ""
             }
            },
            "type": "parcoords"
           }
          ],
          "pie": [
           {
            "automargin": true,
            "type": "pie"
           }
          ],
          "scatter": [
           {
            "fillpattern": {
             "fillmode": "overlay",
             "size": 10,
             "solidity": 0.2
            },
            "type": "scatter"
           }
          ],
          "scatter3d": [
           {
            "line": {
             "colorbar": {
              "outlinewidth": 0,
              "ticks": ""
             }
            },
            "marker": {
             "colorbar": {
              "outlinewidth": 0,
              "ticks": ""
             }
            },
            "type": "scatter3d"
           }
          ],
          "scattercarpet": [
           {
            "marker": {
             "colorbar": {
              "outlinewidth": 0,
              "ticks": ""
             }
            },
            "type": "scattercarpet"
           }
          ],
          "scattergeo": [
           {
            "marker": {
             "colorbar": {
              "outlinewidth": 0,
              "ticks": ""
             }
            },
            "type": "scattergeo"
           }
          ],
          "scattergl": [
           {
            "marker": {
             "colorbar": {
              "outlinewidth": 0,
              "ticks": ""
             }
            },
            "type": "scattergl"
           }
          ],
          "scattermapbox": [
           {
            "marker": {
             "colorbar": {
              "outlinewidth": 0,
              "ticks": ""
             }
            },
            "type": "scattermapbox"
           }
          ],
          "scatterpolar": [
           {
            "marker": {
             "colorbar": {
              "outlinewidth": 0,
              "ticks": ""
             }
            },
            "type": "scatterpolar"
           }
          ],
          "scatterpolargl": [
           {
            "marker": {
             "colorbar": {
              "outlinewidth": 0,
              "ticks": ""
             }
            },
            "type": "scatterpolargl"
           }
          ],
          "scatterternary": [
           {
            "marker": {
             "colorbar": {
              "outlinewidth": 0,
              "ticks": ""
             }
            },
            "type": "scatterternary"
           }
          ],
          "surface": [
           {
            "colorbar": {
             "outlinewidth": 0,
             "ticks": ""
            },
            "colorscale": [
             [
              0,
              "#0d0887"
             ],
             [
              0.1111111111111111,
              "#46039f"
             ],
             [
              0.2222222222222222,
              "#7201a8"
             ],
             [
              0.3333333333333333,
              "#9c179e"
             ],
             [
              0.4444444444444444,
              "#bd3786"
             ],
             [
              0.5555555555555556,
              "#d8576b"
             ],
             [
              0.6666666666666666,
              "#ed7953"
             ],
             [
              0.7777777777777778,
              "#fb9f3a"
             ],
             [
              0.8888888888888888,
              "#fdca26"
             ],
             [
              1,
              "#f0f921"
             ]
            ],
            "type": "surface"
           }
          ],
          "table": [
           {
            "cells": {
             "fill": {
              "color": "#EBF0F8"
             },
             "line": {
              "color": "white"
             }
            },
            "header": {
             "fill": {
              "color": "#C8D4E3"
             },
             "line": {
              "color": "white"
             }
            },
            "type": "table"
           }
          ]
         },
         "layout": {
          "annotationdefaults": {
           "arrowcolor": "#2a3f5f",
           "arrowhead": 0,
           "arrowwidth": 1
          },
          "autotypenumbers": "strict",
          "coloraxis": {
           "colorbar": {
            "outlinewidth": 0,
            "ticks": ""
           }
          },
          "colorscale": {
           "diverging": [
            [
             0,
             "#8e0152"
            ],
            [
             0.1,
             "#c51b7d"
            ],
            [
             0.2,
             "#de77ae"
            ],
            [
             0.3,
             "#f1b6da"
            ],
            [
             0.4,
             "#fde0ef"
            ],
            [
             0.5,
             "#f7f7f7"
            ],
            [
             0.6,
             "#e6f5d0"
            ],
            [
             0.7,
             "#b8e186"
            ],
            [
             0.8,
             "#7fbc41"
            ],
            [
             0.9,
             "#4d9221"
            ],
            [
             1,
             "#276419"
            ]
           ],
           "sequential": [
            [
             0,
             "#0d0887"
            ],
            [
             0.1111111111111111,
             "#46039f"
            ],
            [
             0.2222222222222222,
             "#7201a8"
            ],
            [
             0.3333333333333333,
             "#9c179e"
            ],
            [
             0.4444444444444444,
             "#bd3786"
            ],
            [
             0.5555555555555556,
             "#d8576b"
            ],
            [
             0.6666666666666666,
             "#ed7953"
            ],
            [
             0.7777777777777778,
             "#fb9f3a"
            ],
            [
             0.8888888888888888,
             "#fdca26"
            ],
            [
             1,
             "#f0f921"
            ]
           ],
           "sequentialminus": [
            [
             0,
             "#0d0887"
            ],
            [
             0.1111111111111111,
             "#46039f"
            ],
            [
             0.2222222222222222,
             "#7201a8"
            ],
            [
             0.3333333333333333,
             "#9c179e"
            ],
            [
             0.4444444444444444,
             "#bd3786"
            ],
            [
             0.5555555555555556,
             "#d8576b"
            ],
            [
             0.6666666666666666,
             "#ed7953"
            ],
            [
             0.7777777777777778,
             "#fb9f3a"
            ],
            [
             0.8888888888888888,
             "#fdca26"
            ],
            [
             1,
             "#f0f921"
            ]
           ]
          },
          "colorway": [
           "#636efa",
           "#EF553B",
           "#00cc96",
           "#ab63fa",
           "#FFA15A",
           "#19d3f3",
           "#FF6692",
           "#B6E880",
           "#FF97FF",
           "#FECB52"
          ],
          "font": {
           "color": "#2a3f5f"
          },
          "geo": {
           "bgcolor": "white",
           "lakecolor": "white",
           "landcolor": "white",
           "showlakes": true,
           "showland": true,
           "subunitcolor": "#C8D4E3"
          },
          "hoverlabel": {
           "align": "left"
          },
          "hovermode": "closest",
          "mapbox": {
           "style": "light"
          },
          "paper_bgcolor": "white",
          "plot_bgcolor": "white",
          "polar": {
           "angularaxis": {
            "gridcolor": "#EBF0F8",
            "linecolor": "#EBF0F8",
            "ticks": ""
           },
           "bgcolor": "white",
           "radialaxis": {
            "gridcolor": "#EBF0F8",
            "linecolor": "#EBF0F8",
            "ticks": ""
           }
          },
          "scene": {
           "xaxis": {
            "backgroundcolor": "white",
            "gridcolor": "#DFE8F3",
            "gridwidth": 2,
            "linecolor": "#EBF0F8",
            "showbackground": true,
            "ticks": "",
            "zerolinecolor": "#EBF0F8"
           },
           "yaxis": {
            "backgroundcolor": "white",
            "gridcolor": "#DFE8F3",
            "gridwidth": 2,
            "linecolor": "#EBF0F8",
            "showbackground": true,
            "ticks": "",
            "zerolinecolor": "#EBF0F8"
           },
           "zaxis": {
            "backgroundcolor": "white",
            "gridcolor": "#DFE8F3",
            "gridwidth": 2,
            "linecolor": "#EBF0F8",
            "showbackground": true,
            "ticks": "",
            "zerolinecolor": "#EBF0F8"
           }
          },
          "shapedefaults": {
           "line": {
            "color": "#2a3f5f"
           }
          },
          "ternary": {
           "aaxis": {
            "gridcolor": "#DFE8F3",
            "linecolor": "#A2B1C6",
            "ticks": ""
           },
           "baxis": {
            "gridcolor": "#DFE8F3",
            "linecolor": "#A2B1C6",
            "ticks": ""
           },
           "bgcolor": "white",
           "caxis": {
            "gridcolor": "#DFE8F3",
            "linecolor": "#A2B1C6",
            "ticks": ""
           }
          },
          "title": {
           "x": 0.05
          },
          "xaxis": {
           "automargin": true,
           "gridcolor": "#EBF0F8",
           "linecolor": "#EBF0F8",
           "ticks": "",
           "title": {
            "standoff": 15
           },
           "zerolinecolor": "#EBF0F8",
           "zerolinewidth": 2
          },
          "yaxis": {
           "automargin": true,
           "gridcolor": "#EBF0F8",
           "linecolor": "#EBF0F8",
           "ticks": "",
           "title": {
            "standoff": 15
           },
           "zerolinecolor": "#EBF0F8",
           "zerolinewidth": 2
          }
         }
        },
        "title": {
         "font": {
          "color": "Black",
          "size": 22
         },
         "text": "<b>Hierarchical Clustering</b>",
         "x": 0.5,
         "xanchor": "center",
         "yanchor": "top"
        },
        "width": 1000,
        "xaxis": {
         "mirror": "allticks",
         "rangemode": "tozero",
         "showgrid": false,
         "showline": true,
         "showticklabels": true,
         "ticks": "outside",
         "type": "linear",
         "zeroline": false
        },
        "yaxis": {
         "mirror": "allticks",
         "range": [
          -5950,
          0
         ],
         "rangemode": "tozero",
         "showgrid": false,
         "showline": true,
         "showticklabels": true,
         "tickmode": "array",
         "ticks": "outside",
         "ticktext": [
          "536_nwa_41_mon",
          "282_mon_06_art",
          "502_41_062241_44",
          "366_49_09_thu",
          "231_thu_09_26",
          "375_jboss_222_appsrv_exec",
          "357_jboss_222_appsrv_fri",
          "99_fork_spoon_99",
          "118_33_exec_aug",
          "138_58_jboss_222_appsrv",
          "105_jboss_222_appsrv_09",
          "62_rrt_thu_jboss_222",
          "70_mysap_photochannel_jboss...",
          "103_bugzilla_show_bug_jboss...",
          "185_fgisrfqgqtzoc_bogen_msnbc",
          "208_webapp_visto_jsp",
          "69_biogen_revision_act",
          "21_biogen_epadmin_apps",
          "322_revision_biogen_apps",
          "255_theconstructor_revision...",
          "447_cyberatlas_garthe_itanium",
          "290_cyberatlas_downloads_te...",
          "530_cyberatlas_umts_asera",
          "468_cyberatlas_passivetex_a...",
          "358_biogen_apps_cyberatlas",
          "339_div_satellites_metamess...",
          "93_gt_div_leveraged",
          "146_div_ceutils_cybersure",
          "296_keytools_serverwatch_ma...",
          "363_userland_license_trial",
          "293_breathing_9848198028_ac...",
          "379_ergu0ddidm0dum0oby0ah_i...",
          "329__________sendmessage_st...",
          "191_rightnow_passwd_archives",
          "183_voicegenie_netbook_char...",
          "168_ssa_410_x105",
          "225_smoothe_baybuilder_curves",
          "197_mindspring_drkb_uaa08811",
          "291_mhz_bzs_clickmail",
          "232_itouch_akumiitti_rebran...",
          "184_cybercity_teamstaff_mer...",
          "211_timecard_noida_sonim",
          "283_nottested_testresult_bi...",
          "315_userwantsreport_interop...",
          "179_marquee_added_rsl",
          "226_vsinputstepnoloop_mhz_t...",
          "218_mughniyeh_banner_valdero",
          "198_macromedia_100base_calea",
          "180_marketbc_oo_438",
          "187_compucasecorp_hrs_graphic",
          "305_convergys_telecorppcs_i...",
          "328_nextron_go1_langfordnew...",
          "190_murthy_latestconcurscop...",
          "217_iap_ibmtv_ssml",
          "287_rimulator_beta_ariba",
          "271_2004_efol0ej2ya0b3zr_bz...",
          "308_certified_groupware_new...",
          "316_cannes_servin_rubbermaid",
          "343_itti_1363_indians",
          "228_3238_94117_divisidaro",
          "464_extendedsystems_ant_hom...",
          "279_speedev_driveway_mcw_au...",
          "330_osoris_403925703_ebay",
          "307_managing_ittoolbox_paris",
          "241_ercv0ddidm0dum0oby0ae_m...",
          "301_bladerunner_winblad_jre",
          "213_jeans_sports_attorney",
          "199_misc_ooops_nomura",
          "209_jmm_cvas_e_staff",
          "233_mailprovider_airiq_aig",
          "236_tixx_zone_actix",
          "314_campaign_49555451565453...",
          "258_bdlm_1010149385_3952341",
          "195_amlvar_stripmarkupwithi...",
          "280_uccnet_stamping_noc",
          "107_optind_argv_equals",
          "222_mda_netsanity_statlistics",
          "204_mda_camp_pays",
          "506_microoptical_loe_convene",
          "274_mamax_trivirix_inflow",
          "52_99_sf_property",
          "310_cyantel_repackaging_whi...",
          "242_jess_buffer_inferior",
          "351_bluearc__6261278_swamin...",
          "248_svb_wage_blk",
          "278_participated_rro_atx",
          "277_dvd_fds_semiconductor",
          "360_tac_newest_cisco",
          "403_40pm_testsrvr1_satellite",
          "326_unified_innovative_virt...",
          "356_cellcom_plz1_analine",
          "318_september_corecomm_atx",
          "319_fatbrain_airpanel_dogdays",
          "345_asian_markets_criticals...",
          "383_technews_tn_internetwire",
          "196_quack_technews_tn",
          "422_mdi_bcard_er820ddidm0du...",
          "348_successor_yospace_kpmg",
          "250_messaging_materials_uni...",
          "269_taviz_1885_222",
          "272_nervousness_fixpaks_tis...",
          "188_simulating_ipmp45_price",
          "178_ipmp45_rel4_0ga",
          "175_wl61_is_bld_is_fld",
          "591_flooz_raa00378_bigtoe",
          "244_212310_929_nph",
          "247_sql_layout_d1167941",
          "163_internet_monthlystatusr...",
          "162_internet_iqe_xsi",
          "223_psychology_swing_keyspa...",
          "406_cyberatlas_pre_toolkits",
          "254_pre_aaaaa_planning",
          "205_tradeshow_dienst_antwor...",
          "238_dynamo_mail_simulator",
          "335_equifax_credit_galileo",
          "400_stopmail_dma_869",
          "377_content2_tiecon2002_dilan",
          "385_fields_esut0ddidm0dum0p...",
          "221_zeroimpact_extract_all_...",
          "145_eletters1_bin10_ziffdavis",
          "131_xpi_recenlty_eletters1",
          "176_share_snaz_005",
          "144_timebeat_veritel_java",
          "229_gb_mode_hd",
          "460_mymp3_igo_taxi",
          "31_item_201_data",
          "173_item_201_1005",
          "295_codebase_decreasing_tuc...",
          "154_sony_1002655029_1606677...",
          "200_eluxury_klg_stcetsig",
          "158_newsscan_caribbean_dec",
          "341_extremeprogramming_egro...",
          "227_placeware_jv_sheila",
          "256_spgi_06_brokat",
          "212_ooo_free4all_oo",
          "174_yadda_enloe_telephonygr...",
          "249_english_japanese_javadocs",
          "257_biogentest_sujan_rdtest1",
          "193_adapter_siebel_siebelfi...",
          "189_doodle_superfoobar_void",
          "153_mr_bigstep_bpo",
          "165_datarover_newspapers_bar",
          "139_msg_superdukan_j2me",
          "172_cyberatlas_felicek_chip...",
          "92_cyberatlas_award_lotus",
          "114_xsl_cyberatlas_newsletter",
          "261_cyberatlas_ranger_pitcher",
          "164_tpfa_lokey_zukin",
          "151_vb1_233_ts",
          "155_singleteary_holly_wcdan...",
          "207_tac_yearbook_contracted",
          "148_infoworld_28venk_28408",
          "152_boundary_75763_18460_15...",
          "135_redot_coffeecup_3650",
          "68_define_onlyoneinstance_t...",
          "160_tti_stewart_5sanjose",
          "137_dax_speedchoice_trackweb",
          "122_ebizq_analystq_inc",
          "136_atx_1247506000_rabbit",
          "97_ok_zoning_fidget",
          "91_____1025633880203_hhu3r3...",
          "143_dirty_epstate_kudos",
          "147_intellor_stud_no_twenty",
          "166_2318_37_scpgn",
          "171_652_tasks_lightlogic",
          "167_mta_myimage_imageicon",
          "157_delta_mobilecommercewor...",
          "141_abd_solidstreaming_belm...",
          "161_dell_linux_qt",
          "111_installer_cibc_passed",
          "108_internet_documentation_...",
          "106_tumors_www4_author",
          "104_biweeklyprojectpresenta...",
          "127_days_vta_mecca",
          "132_bugzilla_show_bug_cheng",
          "129_wingate_audium_amplifi",
          "140_eoy_contextadmin_intele...",
          "115_ipo_dontdothis_ipoinfo",
          "116_amgen_devsupport_dontdo...",
          "120_innovation_amlvar_press",
          "94_press_tour_myservlet",
          "95_jadoo_java_3rdparty",
          "119_transat_boot_option",
          "130_omniupdate_medgrup_nove...",
          "102_sortname_emt_etoys",
          "87_huon_pkwy_td",
          "101_score_makesettings_mb",
          "113_klg_jprobe_evals",
          "100_lightsurf_svase_br",
          "134_senate_college411_entom...",
          "90_29_fri_0000",
          "98_deviceadmin_channelclass...",
          "84_23_jul_18",
          "126_powerupdate_43_fri",
          "142_schoolsports_telelogic_...",
          "156_26221_materna_rap",
          "125_wizard_control_screen",
          "159_tries_bol_iam_yogi",
          "206_netgame_bot_01",
          "110_tickets_307_8pm",
          "71_tickets_sale_786",
          "230_tickets_amex_gilman",
          "320_interactivehq_jobs_bowers",
          "262_interactivehq_jobs_org",
          "299_interactivehq_jobs_cons...",
          "124_interactivehq_99_jobs",
          "336_rebate_setlogger_benchm...",
          "170_rebate_hwpkt2m32v2_99",
          "405_eboodle_stats_99",
          "81_max_semaphores_ocl",
          "89_interactivehq_nr_ei",
          "72_ziffdavis_eletters1_bin10",
          "85_bapu_internet_firewire",
          "79_resin1_word_internet",
          "80_font_fp_aldiscon",
          "78_takeda_websense_75758_14...",
          "66_fatwire_follow_c2it",
          "64_macromedia_substring_quot",
          "59_unstrung_mi_macromedia",
          "57_passed_awa_failed",
          "67_mss_ghz_cadbury",
          "60_portalb_jdk1_newsscan",
          "56_internet_titty_attws",
          "58_600_interactivehq_go12",
          "49_reporter_marked_resolved",
          "53_aasaan_parser_cleartrust",
          "55_pilot_pokemon_tomorrow",
          "39_ep_connector_name_ep_que...",
          "47_db2udbnw_l1_l2",
          "41_ziffdavis_eletters1_flo",
          "37_ckeith_macromedia_sitraka",
          "34_jul_rrt_frmcompany",
          "3_applicant_ejolt_src",
          "33_location_16_jboss_222",
          "36_interactivehq_jobs_org",
          "30_epservlet_https_10",
          "24_searchtype_interactivehq...",
          "22_sat_aug_edt",
          "4_makedeviceinstaller_deskt...",
          "20_feedback_siebeljdb_siebe...",
          "17_is_one_that",
          "12_52_13_gz",
          "8_clicked_learning_estation",
          "1_08_alertsstudio_studio",
          "10_person_and_www",
          "6_48_synchronizing_28",
          "2_29_in_to",
          "0_err_in_the",
          "5_ass_person_com",
          "7_failed_log_run",
          "9_installer_and_the",
          "13_408_runoca_for",
          "15_exhibiting_which_is",
          "16_boxa223529d4_www1_bluemo...",
          "14_51_fme_0000",
          "19_content_with_of",
          "25_latin_com_uswebcks",
          "18_biogen_act_apps",
          "27_klg_where_15",
          "29_itanium_htmloptionlist_e...",
          "28_ddd_edtn_it",
          "40_dll_ini_displaydocument",
          "42_thu_49_phatware",
          "45_sat_21_00",
          "43_vp_18_17",
          "32_bugs_components_bug_status",
          "44_thirdparty_weblogic_jar",
          "51_mxi_star_vandenhoeven",
          "63_newsroom_rev_537",
          "65_43_supplyspot_locked",
          "48_800_jpeg_initialvalue",
          "46_gxr_sept_etrade",
          "74_jargon_elsewhere_entry",
          "61_somethinghappened_corete...",
          "88_esec_tblusers_threatened",
          "86_gbs_th_compaq",
          "75_adaptors_insidesessions_...",
          "96_sdk_photography_offline",
          "332_speaking_failed_hp",
          "210_failed_log_run",
          "306_failed_log_run",
          "82_failed_log_run",
          "546_58_34_synchronizing",
          "303_17_21_synchronizing",
          "344_13_synchronizing_17",
          "203_57_50_utility_industry_...",
          "133_59_synchronizing_46",
          "77_50_16_dnt",
          "73_folder_offline_29",
          "202_48_synchronizing_17",
          "181_fund_47_synchronizing",
          "373_48_50_datapower",
          "235_35_50_testroot",
          "270_stream020620_120551_int...",
          "334_08_agents_alerts",
          "386_184_06_wfms",
          "112_wfms_16_20",
          "186_fme_0000_jul",
          "263_hermoso_stumper_floater",
          "354_apr_psp_rrt",
          "224_rrt_37_sat",
          "201_54_jul_04",
          "149_54_jul_26",
          "194_geneer_addressstreet_oaim",
          "324_bullet_digitrends_sep",
          "214_mon_05_jun",
          "340_tue_edt_best",
          "488_32_thu_02",
          "408_aetest_10_14_psion",
          "404_techsummit_959888151_ms...",
          "421_051600t_42_enlist",
          "267_spaceisp_58_msdirect",
          "368_msdirect_marciak_oct",
          "367_exam_oct_ebay",
          "443_ipass_techmall_mtvxfiles",
          "182_spacer_billing_2962",
          "445_spacer_56_internetcontent",
          "424_spacer_dec_paypal",
          "579_manheim_liberate_nextpage",
          "431_seditor_gui_hotjobs",
          "417_ultinet_kp_66",
          "353_xpuniverse_comet_cometi...",
          "415_sitekeeper_938_cacs",
          "448_688_kb_875",
          "581_ncaa_vtiv_cce",
          "434_xxxx_relay_dlci",
          "426_132302_stream020529_5ga...",
          "289_integration_12072_main_...",
          "121_ejb_sources_development",
          "83_htmltemplates_sources_or...",
          "410_cake_sources_nodelistimpl",
          "243_ocacontrol_createproces...",
          "521_datastore_sources_oca",
          "561_hotmail_ea_31177",
          "471_psap_hotmail_aol",
          "216_hotmail_outlook_venture...",
          "467_costco_verilog_ams",
          "489_sadmin_finalize_sporter",
          "389_qsf_insertactivity_wine...",
          "347_sitraka_infonortics_sve...",
          "570_iil_brassring_sitraka",
          "519_feet_zipround_pair",
          "563_slas_jrun_motorola_to",
          "298_jsecontext_ele_var",
          "566_gc_dy_b_3075700683_249719",
          "436_f4u_goldbard_westgroup",
          "387_tablesimplerowtest_wmle...",
          "294_club_gardening_hemp",
          "444_ms000047_ms000035_unlim...",
          "398_morningstar_quarantined...",
          "304_todo_iqfx_radmin",
          "451_kfog_carlos4157_worthgu...",
          "399_bevocal_noise_titanium",
          "264_equiinet_60201_neckties",
          "381_ding_basel_metrics",
          "440_spinner_telxon_ptc",
          "259_brown_edu_canis",
          "362_ws_byte_contention",
          "378_burst_pundit_static",
          "285_prepended_callees_bombi...",
          "564_elba_arrays_linscott",
          "556_nof_sheet_sell",
          "359_sum_of_squeak_healthcare",
          "504_lokey_houlihan_zukin",
          "511_sandra_cmg_atg",
          "458_econtext_informative_te...",
          "265_goto_flavia_srinstitute",
          "240_ivillage_021029fa_rd",
          "558_fastcompany_fast_honor",
          "574_shipped_shipping_jetusaba",
          "532_meta_rediff_snacks",
          "501_cpm_pmi_nz",
          "527_für_ink_0000004175",
          "479_stapled_copies_ha",
          "490_mattmcg_senada_checks",
          "572_jaime_diesel_nadir",
          "412_int_openwave_incredimail",
          "192_getparameter_jtips_props",
          "252_oc_i14_1b569466",
          "374_py_frost_codie",
          "514_amiga_aweeks_thinkmobile",
          "494_eniro_birthday_omx",
          "587_cdma_1xrtt_respondents",
          "512_ciso_citysearch_face",
          "585_whitepaper_republican_t...",
          "586_wiredempire_ehealthcare...",
          "477_ebo_claim_jobs",
          "394_estimated_tut_days",
          "369_f2_fs20_par",
          "220_gomez_radview_s4",
          "592_gomez_ref_vendor_id_5572",
          "559_tomeo__964371777_67842",
          "300_zxf918_amt_sector",
          "438_zxf918_stcetsig_ixi",
          "557_shafeski_peer_worldstreet",
          "430_price_dvd_info",
          "413_m_numbertostringmap_kee...",
          "470_1040047092_flashpreview...",
          "553_june_2002_hdlcon",
          "396_labels_wednesdays_chad",
          "361_alphaworks_e21_gauge",
          "382_tiered_28877165_mbu",
          "397_tents_irish_wirelessdata",
          "543_tx_requires_349_defined",
          "409_sagecircle_headset_menus",
          "337_metrocall_myonthegoport...",
          "364_310_caller_error_messag...",
          "446_winter_dbusiness_finals",
          "352_25113_974439700_copied",
          "266_part1_a5_11511d93_27b45...",
          "450_profiled_newsscan_pri",
          "302_timebills_srfunds_sjain",
          "331_beo_dhtml_delegate",
          "309_webmeeting_857640_sbs",
          "552_spy_quinter_looksmartsu...",
          "251_logger_prefix_loggers",
          "342_europatweb_arnault_phil...",
          "276_fwd_aol_7cd1f5b",
          "338_primaryreport_rdbms_int...",
          "414_sensors_continuous_enpi...",
          "416_mrstock_sqapass_sqalogm...",
          "420_sip_percent_domino",
          "407_competitions_atms_car",
          "395_parser_wininet_intercom...",
          "442_content_type_print_rq",
          "465_mkt_hartsfield_translated",
          "576_burningman_stockholders...",
          "380_answerthink_00am_00pm",
          "260_apache_htdocs_aesrvr1",
          "590_prize_titles_214",
          "391_nightlytest_http_subscr...",
          "452_mcafee_nrt_dispatch",
          "535_osgi_ncra_vehicle",
          "327_dpl_schibsted_keyheader",
          "350_installdir_sdk_sp2",
          "480_satya_s520_ultralight",
          "524_cushman_wakefield_margi",
          "569_llp_herring_cgi",
          "427_boost_desperately_layers",
          "355_dream_oracle9i_transmeta",
          "509_handinc_getfirststep_ge...",
          "491_70201_duel_royals",
          "425_ratio_logoff_memorial",
          "505_pix_pageid_failover",
          "497_techupdate_3960572_conc...",
          "402_scorecards_gourmet_2e",
          "372_erts_usenix_safeharbor",
          "516_isdex_taxrite_stock",
          "215_dendrite_scottb_appserv",
          "418_andes_checkit_phase",
          "428_oracle_9i_sporting",
          "333_securify_ejs_3282",
          "311_speechsecure_backwire_g...",
          "433_sentito_983_boxes",
          "533_cab_murali_chris_purging",
          "365_go12_ban_rowseq",
          "292_192_136_130",
          "286_personals_nexiq_quick_wit",
          "462_hhonors_spouse_viafone",
          "507_kyocera_freeshop_hbs",
          "321_ns10_personals_spillaux",
          "346_satellite_nikkeibp_dixie",
          "528_bean1_informica_pvt",
          "435_measurements_stress_sun...",
          "485_ugu_unix_javaworld",
          "459_maven_cordless_javaworld",
          "486_whosnews_crmcommunity_p...",
          "525_tests_octopus_emds",
          "349_erwe0ddidm0dum0oby0ad_l...",
          "441_omnix_independence_revo...",
          "562_viaquo_mondo_jtidy",
          "456_font_kanji_filesystem",
          "454_handsets_commissioner_i...",
          "475_mbusinessdaily_otcjourn...",
          "392_mbusinessdaily_coding_i...",
          "539_rewtq3wtre_svg_viveca",
          "439__nextpart_000_727fca0a_...",
          "325_intoka_reinvest_bookham",
          "478_tricord_flare_dealmate",
          "246_101509754_lfmn_427",
          "297_interactivehq_org_optim...",
          "237_mbizcentral_vaules_hitc...",
          "284_sesame_zona_earthlink",
          "393_interactivehq_singlethr...",
          "473_ch_dynamat_fantasyteam",
          "578_windows_1817_883",
          "371_ipulsys_5612_6755",
          "390_torys_cooley_lynch",
          "313_coretest_somethinghappe...",
          "518_retaliation_msdn_downlo...",
          "498_dnai_181_onsale",
          "469_jw_infoworld_iwsubscribe",
          "429_equipnet_infoworld_kbit",
          "476_xxx_infoworld_invoice",
          "534_infoworld_gsk_wbs",
          "288_908_211_500",
          "253_908_665_464",
          "499_rak_artesian_mb00",
          "487_emts_mobiletrax_emulation",
          "567_websrv_mecel_compliance",
          "575_rti_otc_purchasers",
          "583_ua_fortunecity_bills",
          "376_ediets_saws_65536",
          "537_prohibitively_prison_pa...",
          "582_esylvan_penny_vito",
          "437__nextpart_000_73a8_6761...",
          "472_fingerhut_grafsgaard_4at3",
          "529_mbps_speeds_eparties",
          "550_tabloid_2254_washington",
          "317_eke_dstorrs_webmama",
          "510_batteries_latency_sparks",
          "526_gbp_realm_object",
          "584_newsscan_clickmarks_par...",
          "453_thread_egrp_aeth",
          "565_br_rro_towns",
          "388_hotjobs_creating_defining",
          "150_instantiate_searchvaria...",
          "544_author_comparison_columns",
          "493_sega_voicegenie_subrout...",
          "275_newsletter3817_spu_shop",
          "432_mi_insider_htm",
          "523_xalted_correo_sharma",
          "483_photonics_breezecom_wor...",
          "455_adicom_mformation_betn",
          "560_outlook_opnet_millennium",
          "481_portal_siliconindia_byair",
          "461_shockmarket_everymobile...",
          "419_udw_verchaska_dataworks",
          "538_touche_deloitte_nuvvu",
          "555_output_sec_packets",
          "495_rly_aol_yg04",
          "571_kumaresan_zensar_journal",
          "384_mrtg_archives_74",
          "268_demoservlet_myservlets_...",
          "449_mot_pobox_naa21291",
          "568_changexmlfile_screenedi...",
          "540_corner_weegear_clothing",
          "500_centered_backgrounder_s...",
          "547_futurestep_routines_xse...",
          "517_airtran_navitaire_don",
          "588_erp_warehouse_clair",
          "548_hindery_aasaan_pavilion",
          "513_jefferson_postal_booth",
          "520_decorating_klg_cargo",
          "281_512_superlibrary_ss",
          "457_klgroup_cinco_p1",
          "531_newmail_ru_saa32350",
          "492_667_javaone__nextpart_0...",
          "593_667_bmc_mapics",
          "541_stanford_gsb_edu",
          "370_gsb_alumni_admin_edu",
          "503_yearly_fi_messagemedia",
          "515_boot_rise_mckinseyquart...",
          "411_weekswill_ship_dayswill",
          "545_proceedings_hereby_warr...",
          "219_kbkids_wengert_members",
          "496_bus_categories_alltelcorp",
          "482_sitekeeper_dbservlet_kddi",
          "463_student_bill_title",
          "474_saltmine_calcium_student",
          "589_mutton_cibres_meatlocker",
          "573_nsd_df_bod",
          "401_netonomy_golfessentials...",
          "484_javaedge_merix_cdr",
          "466_188187_smartserv_epr",
          "549_gobar_aladdinsys_stickd...",
          "554_cout_no_errors_message_...",
          "508_boxa223529v4_www1_bluem...",
          "577_guru_john_monteleone_co...",
          "551_minutes_break_renderingtm",
          "522_85hz_60_agp",
          "423_searchlists_parent_comm...",
          "594_alwayson_filter_txt",
          "54_routex_resalloc_compat",
          "312_routex_sa_resalloc",
          "123_message_templates_broke...",
          "26_ejolt_services_acctcreate",
          "11_lib_ejolt_src",
          "50_locator_lib_ejolt",
          "38_ctnt_csc_ejolt",
          "245_ctnt_csc_ejolt",
          "169_etpro_jump_pages_custpr...",
          "234_app_templates_usa",
          "35_app_templates_zh_tw",
          "109_app_templates_usa",
          "177_usa_home_app",
          "239_spoetools_move_money_app",
          "323_screen_v2_filetransfer_...",
          "542_ddtrading_win_ejolt",
          "273_etradebank_jump_pages_c...",
          "117_etradebank_xmlapi_voice",
          "128_etrade_xmlapi_projects",
          "23_dist_config_shared",
          "76_etrade_csr_java",
          "580_bridge_ui_etrade"
         ],
         "tickvals": [
          -5,
          -15,
          -25,
          -35,
          -45,
          -55,
          -65,
          -75,
          -85,
          -95,
          -105,
          -115,
          -125,
          -135,
          -145,
          -155,
          -165,
          -175,
          -185,
          -195,
          -205,
          -215,
          -225,
          -235,
          -245,
          -255,
          -265,
          -275,
          -285,
          -295,
          -305,
          -315,
          -325,
          -335,
          -345,
          -355,
          -365,
          -375,
          -385,
          -395,
          -405,
          -415,
          -425,
          -435,
          -445,
          -455,
          -465,
          -475,
          -485,
          -495,
          -505,
          -515,
          -525,
          -535,
          -545,
          -555,
          -565,
          -575,
          -585,
          -595,
          -605,
          -615,
          -625,
          -635,
          -645,
          -655,
          -665,
          -675,
          -685,
          -695,
          -705,
          -715,
          -725,
          -735,
          -745,
          -755,
          -765,
          -775,
          -785,
          -795,
          -805,
          -815,
          -825,
          -835,
          -845,
          -855,
          -865,
          -875,
          -885,
          -895,
          -905,
          -915,
          -925,
          -935,
          -945,
          -955,
          -965,
          -975,
          -985,
          -995,
          -1005,
          -1015,
          -1025,
          -1035,
          -1045,
          -1055,
          -1065,
          -1075,
          -1085,
          -1095,
          -1105,
          -1115,
          -1125,
          -1135,
          -1145,
          -1155,
          -1165,
          -1175,
          -1185,
          -1195,
          -1205,
          -1215,
          -1225,
          -1235,
          -1245,
          -1255,
          -1265,
          -1275,
          -1285,
          -1295,
          -1305,
          -1315,
          -1325,
          -1335,
          -1345,
          -1355,
          -1365,
          -1375,
          -1385,
          -1395,
          -1405,
          -1415,
          -1425,
          -1435,
          -1445,
          -1455,
          -1465,
          -1475,
          -1485,
          -1495,
          -1505,
          -1515,
          -1525,
          -1535,
          -1545,
          -1555,
          -1565,
          -1575,
          -1585,
          -1595,
          -1605,
          -1615,
          -1625,
          -1635,
          -1645,
          -1655,
          -1665,
          -1675,
          -1685,
          -1695,
          -1705,
          -1715,
          -1725,
          -1735,
          -1745,
          -1755,
          -1765,
          -1775,
          -1785,
          -1795,
          -1805,
          -1815,
          -1825,
          -1835,
          -1845,
          -1855,
          -1865,
          -1875,
          -1885,
          -1895,
          -1905,
          -1915,
          -1925,
          -1935,
          -1945,
          -1955,
          -1965,
          -1975,
          -1985,
          -1995,
          -2005,
          -2015,
          -2025,
          -2035,
          -2045,
          -2055,
          -2065,
          -2075,
          -2085,
          -2095,
          -2105,
          -2115,
          -2125,
          -2135,
          -2145,
          -2155,
          -2165,
          -2175,
          -2185,
          -2195,
          -2205,
          -2215,
          -2225,
          -2235,
          -2245,
          -2255,
          -2265,
          -2275,
          -2285,
          -2295,
          -2305,
          -2315,
          -2325,
          -2335,
          -2345,
          -2355,
          -2365,
          -2375,
          -2385,
          -2395,
          -2405,
          -2415,
          -2425,
          -2435,
          -2445,
          -2455,
          -2465,
          -2475,
          -2485,
          -2495,
          -2505,
          -2515,
          -2525,
          -2535,
          -2545,
          -2555,
          -2565,
          -2575,
          -2585,
          -2595,
          -2605,
          -2615,
          -2625,
          -2635,
          -2645,
          -2655,
          -2665,
          -2675,
          -2685,
          -2695,
          -2705,
          -2715,
          -2725,
          -2735,
          -2745,
          -2755,
          -2765,
          -2775,
          -2785,
          -2795,
          -2805,
          -2815,
          -2825,
          -2835,
          -2845,
          -2855,
          -2865,
          -2875,
          -2885,
          -2895,
          -2905,
          -2915,
          -2925,
          -2935,
          -2945,
          -2955,
          -2965,
          -2975,
          -2985,
          -2995,
          -3005,
          -3015,
          -3025,
          -3035,
          -3045,
          -3055,
          -3065,
          -3075,
          -3085,
          -3095,
          -3105,
          -3115,
          -3125,
          -3135,
          -3145,
          -3155,
          -3165,
          -3175,
          -3185,
          -3195,
          -3205,
          -3215,
          -3225,
          -3235,
          -3245,
          -3255,
          -3265,
          -3275,
          -3285,
          -3295,
          -3305,
          -3315,
          -3325,
          -3335,
          -3345,
          -3355,
          -3365,
          -3375,
          -3385,
          -3395,
          -3405,
          -3415,
          -3425,
          -3435,
          -3445,
          -3455,
          -3465,
          -3475,
          -3485,
          -3495,
          -3505,
          -3515,
          -3525,
          -3535,
          -3545,
          -3555,
          -3565,
          -3575,
          -3585,
          -3595,
          -3605,
          -3615,
          -3625,
          -3635,
          -3645,
          -3655,
          -3665,
          -3675,
          -3685,
          -3695,
          -3705,
          -3715,
          -3725,
          -3735,
          -3745,
          -3755,
          -3765,
          -3775,
          -3785,
          -3795,
          -3805,
          -3815,
          -3825,
          -3835,
          -3845,
          -3855,
          -3865,
          -3875,
          -3885,
          -3895,
          -3905,
          -3915,
          -3925,
          -3935,
          -3945,
          -3955,
          -3965,
          -3975,
          -3985,
          -3995,
          -4005,
          -4015,
          -4025,
          -4035,
          -4045,
          -4055,
          -4065,
          -4075,
          -4085,
          -4095,
          -4105,
          -4115,
          -4125,
          -4135,
          -4145,
          -4155,
          -4165,
          -4175,
          -4185,
          -4195,
          -4205,
          -4215,
          -4225,
          -4235,
          -4245,
          -4255,
          -4265,
          -4275,
          -4285,
          -4295,
          -4305,
          -4315,
          -4325,
          -4335,
          -4345,
          -4355,
          -4365,
          -4375,
          -4385,
          -4395,
          -4405,
          -4415,
          -4425,
          -4435,
          -4445,
          -4455,
          -4465,
          -4475,
          -4485,
          -4495,
          -4505,
          -4515,
          -4525,
          -4535,
          -4545,
          -4555,
          -4565,
          -4575,
          -4585,
          -4595,
          -4605,
          -4615,
          -4625,
          -4635,
          -4645,
          -4655,
          -4665,
          -4675,
          -4685,
          -4695,
          -4705,
          -4715,
          -4725,
          -4735,
          -4745,
          -4755,
          -4765,
          -4775,
          -4785,
          -4795,
          -4805,
          -4815,
          -4825,
          -4835,
          -4845,
          -4855,
          -4865,
          -4875,
          -4885,
          -4895,
          -4905,
          -4915,
          -4925,
          -4935,
          -4945,
          -4955,
          -4965,
          -4975,
          -4985,
          -4995,
          -5005,
          -5015,
          -5025,
          -5035,
          -5045,
          -5055,
          -5065,
          -5075,
          -5085,
          -5095,
          -5105,
          -5115,
          -5125,
          -5135,
          -5145,
          -5155,
          -5165,
          -5175,
          -5185,
          -5195,
          -5205,
          -5215,
          -5225,
          -5235,
          -5245,
          -5255,
          -5265,
          -5275,
          -5285,
          -5295,
          -5305,
          -5315,
          -5325,
          -5335,
          -5345,
          -5355,
          -5365,
          -5375,
          -5385,
          -5395,
          -5405,
          -5415,
          -5425,
          -5435,
          -5445,
          -5455,
          -5465,
          -5475,
          -5485,
          -5495,
          -5505,
          -5515,
          -5525,
          -5535,
          -5545,
          -5555,
          -5565,
          -5575,
          -5585,
          -5595,
          -5605,
          -5615,
          -5625,
          -5635,
          -5645,
          -5655,
          -5665,
          -5675,
          -5685,
          -5695,
          -5705,
          -5715,
          -5725,
          -5735,
          -5745,
          -5755,
          -5765,
          -5775,
          -5785,
          -5795,
          -5805,
          -5815,
          -5825,
          -5835,
          -5845,
          -5855,
          -5865,
          -5875,
          -5885,
          -5895,
          -5905,
          -5915,
          -5925,
          -5935,
          -5945
         ],
         "type": "linear",
         "zeroline": false
        }
       }
      }
     },
     "metadata": {},
     "output_type": "display_data"
    }
   ],
   "source": [
    "topic_model.visualize_hierarchy(custom_labels=False)"
   ]
  },
  {
   "cell_type": "markdown",
   "metadata": {},
   "source": [
    "### Keep Intent-like Topics"
   ]
  },
  {
   "cell_type": "code",
   "execution_count": null,
   "metadata": {},
   "outputs": [],
   "source": [
    "topic_id = 20\n",
    "inspect_topic(topic_id)"
   ]
  },
  {
   "cell_type": "code",
   "execution_count": null,
   "metadata": {},
   "outputs": [],
   "source": [
    "topic_model.merge_topics(docs, [-1,topic_id])"
   ]
  },
  {
   "cell_type": "code",
   "execution_count": null,
   "metadata": {},
   "outputs": [],
   "source": [
    "documents = [docs[i] for i, topic in enumerate(topic_model.topics_) if topic == topic_id]\n",
    "print('Number of Documents: '+str(len(documents))+'\\n')\n",
    "for i in range(20):\n",
    "    print(documents[i])"
   ]
  },
  {
   "cell_type": "code",
   "execution_count": null,
   "metadata": {},
   "outputs": [],
   "source": [
    "create_custom_label(custom_label='send_check', topic_id=topic_id)"
   ]
  },
  {
   "cell_type": "code",
   "execution_count": null,
   "metadata": {},
   "outputs": [],
   "source": [
    "topic_model.visualize_hierarchy(custom_labels=False)"
   ]
  },
  {
   "cell_type": "code",
   "execution_count": null,
   "metadata": {},
   "outputs": [],
   "source": [
    "topic_model.save(\"../../data/bertopic_models/intent/send_new/send_final\")"
   ]
  },
  {
   "cell_type": "markdown",
   "metadata": {},
   "source": [
    "### Create Dataset for intent 'send'"
   ]
  },
  {
   "cell_type": "markdown",
   "metadata": {},
   "source": [
    "####  Labels"
   ]
  },
  {
   "cell_type": "markdown",
   "metadata": {},
   "source": [
    "Created custom labels for topics\n",
    "\n",
    "| Label                             | Description                                       | Extraction Strings | Context needed |\n",
    "|-----------------------------------|---------------------------------------------------|--------------------|----------------|\n",
    "| send_it                           | Something is being send.                          | Data 2   |\n",
    "|0_send_something\n",
    "|1_send_review  ||'review', 'comment', 'suggestion', 'feedback', 'correction'|\n",
    "|2_send_presentation || 'powerpoint', 'presentation', 'slide', 'ppt', \n",
    "|3_send_files || ''\n",
    "|4_send_contract\n",
    "|5_send_copy   || copy\n",
    "|6_send_pqa || pqa\n",
    "|7_item_oca_data_osa\n",
    "|8_send_fax ||fax\n",
    "|9_send_update_changes || 'update','change' \n",
    "|10_send_pictures || 'pic','jpeg', 'image', 'photo'\n",
    "|11_send_meeting_request || 'meeting'\n",
    "|12_meeting_calendar_request_meetings\n",
    "|13_send_test_results\n",
    "|14_send_details_information || 'information', 'details'\n",
    "|15_send_list\n",
    "|16_send_invitation\n",
    "|17_send_resume\n",
    "|18_resume_resumes_my_me\n",
    "|19_send_bug_status"
   ]
  },
  {
   "cell_type": "markdown",
   "metadata": {},
   "source": [
    "#### Inspecting Topics"
   ]
  },
  {
   "cell_type": "code",
   "execution_count": null,
   "metadata": {},
   "outputs": [],
   "source": [
    "'''\n",
    "for  label in topic_model.custom_labels_:\n",
    "   print(label)'''"
   ]
  },
  {
   "cell_type": "code",
   "execution_count": null,
   "metadata": {},
   "outputs": [],
   "source": [
    "topic_model = BERTopic.load(\"../../data/bertopic_models/processed/send_final\")"
   ]
  },
  {
   "cell_type": "code",
   "execution_count": null,
   "metadata": {},
   "outputs": [],
   "source": []
  },
  {
   "cell_type": "code",
   "execution_count": null,
   "metadata": {},
   "outputs": [],
   "source": [
    "topic_nr_to_inspect = 31\n",
    "topic_docs = inspect_topic_and_its_docs(topic_nr=topic_nr_to_inspect, n_docs=100)"
   ]
  },
  {
   "cell_type": "code",
   "execution_count": null,
   "metadata": {},
   "outputs": [],
   "source": [
    "# Based on the inspection of the sentences\n",
    "white_list = [\n",
    "    'resume', 'cv', \n",
    "]\n",
    "black_list = [\n",
    "]"
   ]
  },
  {
   "cell_type": "code",
   "execution_count": null,
   "metadata": {},
   "outputs": [],
   "source": [
    "sentences_to_keep = filter_topic_documents(topic_docs=topic_docs, white_list=white_list, black_list=black_list)\n",
    "sentences_to_keep[:5]"
   ]
  },
  {
   "cell_type": "code",
   "execution_count": null,
   "metadata": {},
   "outputs": [],
   "source": [
    "df = pd.DataFrame({\"text\": sentences_to_keep, \"label\": get_label_from_topic_nr(topic_nr_to_inspect)})\n",
    "concat_to_df(df, filepath=\"../../data/labeled/send.tsv\", overwrite=True)"
   ]
  },
  {
   "cell_type": "code",
   "execution_count": null,
   "metadata": {},
   "outputs": [],
   "source": [
    "df.head()"
   ]
  },
  {
   "cell_type": "code",
   "execution_count": null,
   "metadata": {},
   "outputs": [],
   "source": []
  }
 ],
 "metadata": {
  "kernelspec": {
   "display_name": "ma_exp_intent",
   "language": "python",
   "name": "python3"
  },
  "language_info": {
   "codemirror_mode": {
    "name": "ipython",
    "version": 3
   },
   "file_extension": ".py",
   "mimetype": "text/x-python",
   "name": "python",
   "nbconvert_exporter": "python",
   "pygments_lexer": "ipython3",
   "version": "3.12.4"
  }
 },
 "nbformat": 4,
 "nbformat_minor": 2
}
