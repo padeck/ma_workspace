{
 "cells": [
  {
   "cell_type": "markdown",
   "metadata": {},
   "source": [
    "# Hierarchical Clustering on Target Sentences"
   ]
  },
  {
   "cell_type": "markdown",
   "metadata": {},
   "source": [
    "to help deriving a taxonomy for intents, hierarchical clustering is being leveraged."
   ]
  },
  {
   "cell_type": "code",
   "execution_count": 1568,
   "metadata": {},
   "outputs": [],
   "source": [
    "from bertopic import BERTopic\n",
    "from scipy.cluster import hierarchy as sch\n",
    "import pandas as pd\n",
    "import logging\n",
    "from sklearn.metrics.pairwise import cosine_distances\n",
    "from tqdm import tqdm\n",
    "import numpy as np\n",
    "from umap import UMAP\n",
    "from hdbscan import HDBSCAN\n",
    "from sentence_transformers import SentenceTransformer\n",
    "import re"
   ]
  },
  {
   "cell_type": "code",
   "execution_count": 2,
   "metadata": {},
   "outputs": [],
   "source": [
    "df = pd.read_parquet('../../data/processed/intents/send.parquet', engine='fastparquet')"
   ]
  },
  {
   "cell_type": "code",
   "execution_count": 3,
   "metadata": {},
   "outputs": [],
   "source": [
    "df['target'] = df['target'].str.replace(r'\\r\\n', ' ', regex=True)\n",
    "docs = df['target'].tolist()[:10000]"
   ]
  },
  {
   "cell_type": "markdown",
   "metadata": {},
   "source": [
    "## Training the Model"
   ]
  },
  {
   "cell_type": "code",
   "execution_count": 4,
   "metadata": {},
   "outputs": [],
   "source": [
    "# Configure logging\n",
    "logging.basicConfig(level=logging.INFO)\n",
    "logger = logging.getLogger(\"BERTopic\")\n",
    "logger.setLevel(logging.INFO)"
   ]
  },
  {
   "cell_type": "code",
   "execution_count": 5,
   "metadata": {},
   "outputs": [
    {
     "name": "stderr",
     "output_type": "stream",
     "text": [
      "INFO:sentence_transformers.SentenceTransformer:Use pytorch device_name: mps\n",
      "INFO:sentence_transformers.SentenceTransformer:Load pretrained SentenceTransformer: all-MiniLM-L6-v2\n",
      "2024-10-29 13:30:53,855 - BERTopic - Embedding - Transforming documents to embeddings.\n",
      "Batches: 100%|██████████| 313/313 [00:22<00:00, 13.76it/s]\n",
      "2024-10-29 13:31:16,671 - BERTopic - Embedding - Completed ✓\n",
      "2024-10-29 13:31:16,672 - BERTopic - Dimensionality - Fitting the dimensionality reduction algorithm\n",
      "OMP: Info #276: omp_set_nested routine deprecated, please use omp_set_max_active_levels instead.\n",
      "2024-10-29 13:31:37,361 - BERTopic - Dimensionality - Completed ✓\n",
      "2024-10-29 13:31:37,362 - BERTopic - Cluster - Start clustering the reduced embeddings\n",
      "2024-10-29 13:31:37,647 - BERTopic - Cluster - Completed ✓\n",
      "2024-10-29 13:31:37,650 - BERTopic - Representation - Extracting topics from clusters using representation models.\n",
      "2024-10-29 13:31:37,818 - BERTopic - Representation - Completed ✓\n"
     ]
    }
   ],
   "source": [
    "# Initialize UMAP with a fixed random state\n",
    "random_state = 250 # Other seeds sometimes caused negative values in the distanace matrix\n",
    "\n",
    "# Set global random seeds\n",
    "np.random.seed(random_state)\n",
    "\n",
    "embedding_model = SentenceTransformer(\"all-MiniLM-L6-v2\")\n",
    "umap_model = UMAP(n_neighbors=15, n_components=5, random_state=random_state)\n",
    "hdbscan_model = HDBSCAN(min_cluster_size=10, prediction_data=True)\n",
    "\n",
    "topic_model = BERTopic(verbose=True, umap_model=umap_model, hdbscan_model=hdbscan_model, embedding_model=embedding_model)\n",
    "topics, probs = topic_model.fit_transform(docs)"
   ]
  },
  {
   "cell_type": "code",
   "execution_count": 6,
   "metadata": {},
   "outputs": [
    {
     "name": "stderr",
     "output_type": "stream",
     "text": [
      "100%|██████████| 212/212 [00:00<00:00, 617.67it/s]\n"
     ]
    }
   ],
   "source": [
    "hierarchical_topics = topic_model.hierarchical_topics(docs)"
   ]
  },
  {
   "cell_type": "code",
   "execution_count": null,
   "metadata": {},
   "outputs": [],
   "source": [
    "#topic_model.save(\"../../data/bertopic_models/send\")"
   ]
  },
  {
   "cell_type": "markdown",
   "metadata": {},
   "source": [
    "## Inspecting clustering results"
   ]
  },
  {
   "cell_type": "code",
   "execution_count": 7,
   "metadata": {},
   "outputs": [],
   "source": [
    "#topic_model = BERTopic.load(\"../../data/bertopic_models/send\")"
   ]
  },
  {
   "cell_type": "code",
   "execution_count": 8,
   "metadata": {},
   "outputs": [],
   "source": [
    "#docs = df['target'].iloc[:10000].tolist()\n",
    "#docs = df['target'].tolist()"
   ]
  },
  {
   "cell_type": "code",
   "execution_count": 7,
   "metadata": {},
   "outputs": [
    {
     "data": {
      "application/vnd.plotly.v1+json": {
       "config": {
        "plotlyServerURL": "https://plot.ly"
       },
       "data": [
        {
         "hoverinfo": "text",
         "marker": {
          "color": "rgb(61,153,112)"
         },
         "mode": "lines",
         "text": [
          "panoptic_dossy_shiobara_computer_network",
          "",
          "",
          "explorer_msn___________________________________________________________________intl_download"
         ],
         "type": "scatter",
         "x": [
          0,
          0.9288800005115789,
          0.9288800005115789,
          0
         ],
         "xaxis": "x",
         "y": [
          -5,
          -5,
          -15,
          -15
         ],
         "yaxis": "y"
        },
        {
         "hoverinfo": "text",
         "marker": {
          "color": "rgb(255,65,54)"
         },
         "mode": "lines",
         "text": [
          "xp_extremeprogramming_egroups_digest_courtesy",
          "",
          "",
          "terms_docs_groups_yahoo_info"
         ],
         "type": "scatter",
         "x": [
          0,
          0.7300625836635641,
          0.7300625836635641,
          0
         ],
         "xaxis": "x",
         "y": [
          -25,
          -25,
          -35,
          -35
         ],
         "yaxis": "y"
        },
        {
         "hoverinfo": "text",
         "marker": {
          "color": "rgb(255,65,54)"
         },
         "mode": "lines",
         "text": [
          "extremeprogramming_egroups_courtesy_ad_objectmentor",
          "",
          "",
          "extremeprogramming_egroups_courtesy_ad_objectmentor"
         ],
         "type": "scatter",
         "x": [
          0,
          0.15739453425479122,
          0.15739453425479122,
          0
         ],
         "xaxis": "x",
         "y": [
          -65,
          -65,
          -75,
          -75
         ],
         "yaxis": "y"
        },
        {
         "hoverinfo": "text",
         "marker": {
          "color": "rgb(255,65,54)"
         },
         "mode": "lines",
         "text": [
          "extremeprogramming_egroups_courtesy_ad_objectmentor",
          "",
          "",
          "extremeprogramming_egroups_ad_courtesy_objectmentor"
         ],
         "type": "scatter",
         "x": [
          0.15739453425479122,
          0.2027111485821166,
          0.2027111485821166,
          0
         ],
         "xaxis": "x",
         "y": [
          -70,
          -70,
          -85,
          -85
         ],
         "yaxis": "y"
        },
        {
         "hoverinfo": "text",
         "marker": {
          "color": "rgb(255,65,54)"
         },
         "mode": "lines",
         "text": [
          "extremeprogramming_egroups_cur_courtesy_objectmentor",
          "",
          "",
          "extremeprogramming_egroups_courtesy_ad_objectmentor"
         ],
         "type": "scatter",
         "x": [
          0,
          0.24428709223485967,
          0.24428709223485967,
          0.2027111485821166
         ],
         "xaxis": "x",
         "y": [
          -55,
          -55,
          -77.5,
          -77.5
         ],
         "yaxis": "y"
        },
        {
         "hoverinfo": "text",
         "marker": {
          "color": "rgb(255,65,54)"
         },
         "mode": "lines",
         "text": [
          "extremeprogramming_egroups_courtesy_ad_objectmentor",
          "",
          "",
          "bill_best_extremeprogramming_egroups_courtesy"
         ],
         "type": "scatter",
         "x": [
          0.24428709223485967,
          0.3381913556862172,
          0.3381913556862172,
          0
         ],
         "xaxis": "x",
         "y": [
          -66.25,
          -66.25,
          -95,
          -95
         ],
         "yaxis": "y"
        },
        {
         "hoverinfo": "text",
         "marker": {
          "color": "rgb(255,65,54)"
         },
         "mode": "lines",
         "text": [
          "personal_extremeprogramming_egroups_yahoo_ad",
          "",
          "",
          "extremeprogramming_egroups_courtesy_ad_objectmentor"
         ],
         "type": "scatter",
         "x": [
          0,
          0.393257884009509,
          0.393257884009509,
          0.3381913556862172
         ],
         "xaxis": "x",
         "y": [
          -45,
          -45,
          -80.625,
          -80.625
         ],
         "yaxis": "y"
        },
        {
         "hoverinfo": "text",
         "marker": {
          "color": "rgb(255,65,54)"
         },
         "mode": "lines",
         "text": [
          "extremeprogramming_egroups_courtesy_ad_objectmentor",
          "",
          "",
          "bryan_extremeprogramming_egroups_ad_courtesy"
         ],
         "type": "scatter",
         "x": [
          0.393257884009509,
          0.403498320402004,
          0.403498320402004,
          0
         ],
         "xaxis": "x",
         "y": [
          -62.8125,
          -62.8125,
          -105,
          -105
         ],
         "yaxis": "y"
        },
        {
         "hoverinfo": "text",
         "marker": {
          "color": "rgb(255,65,54)"
         },
         "mode": "lines",
         "text": [
          "extremeprogramming_egroups_courtesy_ad_objectmentor",
          "",
          "",
          "matthew_azami_speakeasy_extremeprogramming_egroups"
         ],
         "type": "scatter",
         "x": [
          0.403498320402004,
          0.5151696191493356,
          0.5151696191493356,
          0
         ],
         "xaxis": "x",
         "y": [
          -83.90625,
          -83.90625,
          -115,
          -115
         ],
         "yaxis": "y"
        },
        {
         "hoverinfo": "text",
         "marker": {
          "color": "rgb(255,65,54)"
         },
         "mode": "lines",
         "text": [
          "xp_terms_docs_groups_yahoo",
          "",
          "",
          "extremeprogramming_egroups_courtesy_ad_objectmentor"
         ],
         "type": "scatter",
         "x": [
          0.7300625836635641,
          0.743060068589633,
          0.743060068589633,
          0.5151696191493356
         ],
         "xaxis": "x",
         "y": [
          -30,
          -30,
          -99.453125,
          -99.453125
         ],
         "yaxis": "y"
        },
        {
         "hoverinfo": "text",
         "marker": {
          "color": "rgb(255,65,54)"
         },
         "mode": "lines",
         "text": [
          "xprogramming_ronald_jeffries_objectmentor_www",
          "",
          "",
          "ronald_xprogramming_jeffries_objectmentor_www"
         ],
         "type": "scatter",
         "x": [
          0,
          0.12859655900306965,
          0.12859655900306965,
          0
         ],
         "xaxis": "x",
         "y": [
          -125,
          -125,
          -135,
          -135
         ],
         "yaxis": "y"
        },
        {
         "hoverinfo": "text",
         "marker": {
          "color": "rgb(255,65,54)"
         },
         "mode": "lines",
         "text": [
          "extremeprogramming_egroups_courtesy_objectmentor_ad",
          "",
          "",
          "xprogramming_ronald_jeffries_objectmentor_www"
         ],
         "type": "scatter",
         "x": [
          0.743060068589633,
          0.9065513191012757,
          0.9065513191012757,
          0.12859655900306965
         ],
         "xaxis": "x",
         "y": [
          -64.7265625,
          -64.7265625,
          -130,
          -130
         ],
         "yaxis": "y"
        },
        {
         "hoverinfo": "text",
         "marker": {
          "color": "rgb(0,116,217)"
         },
         "mode": "lines",
         "text": [
          "panoptic_dossy_explorer_shiobara_msn",
          "",
          "",
          "extremeprogramming_egroups_objectmentor_courtesy_ad"
         ],
         "type": "scatter",
         "x": [
          0.9288800005115789,
          1.0273062061264453,
          1.0273062061264453,
          0.9065513191012757
         ],
         "xaxis": "x",
         "y": [
          -10,
          -10,
          -97.36328125,
          -97.36328125
         ],
         "yaxis": "y"
        },
        {
         "hoverinfo": "text",
         "marker": {
          "color": "rgb(35,205,205)"
         },
         "mode": "lines",
         "text": [
          "internet_http_commerce_isp_resources",
          "",
          "",
          "internet_http_commerce_resources_662"
         ],
         "type": "scatter",
         "x": [
          0,
          0.07240859961442858,
          0.07240859961442858,
          0
         ],
         "xaxis": "x",
         "y": [
          -155,
          -155,
          -165,
          -165
         ],
         "yaxis": "y"
        },
        {
         "hoverinfo": "text",
         "marker": {
          "color": "rgb(35,205,205)"
         },
         "mode": "lines",
         "text": [
          "internet_http_commerce_resources_662",
          "",
          "",
          "internet_http_newsletters_commerce_resources"
         ],
         "type": "scatter",
         "x": [
          0.07240859961442858,
          0.11741278467938766,
          0.11741278467938766,
          0
         ],
         "xaxis": "x",
         "y": [
          -160,
          -160,
          -175,
          -175
         ],
         "yaxis": "y"
        },
        {
         "hoverinfo": "text",
         "marker": {
          "color": "rgb(35,205,205)"
         },
         "mode": "lines",
         "text": [
          "internet_662_203_commerce_report",
          "",
          "",
          "internet_http_commerce_resources_newsletters"
         ],
         "type": "scatter",
         "x": [
          0,
          0.1962803482018773,
          0.1962803482018773,
          0.11741278467938766
         ],
         "xaxis": "x",
         "y": [
          -145,
          -145,
          -167.5,
          -167.5
         ],
         "yaxis": "y"
        },
        {
         "hoverinfo": "text",
         "marker": {
          "color": "rgb(133,20,75)"
         },
         "mode": "lines",
         "text": [
          "thesuperspecialsales_recurring_vaughn_36116_montgomery",
          "",
          "",
          "dvd_recurring_remove_yourself_clicking"
         ],
         "type": "scatter",
         "x": [
          0,
          0.6112775821913443,
          0.6112775821913443,
          0
         ],
         "xaxis": "x",
         "y": [
          -185,
          -185,
          -195,
          -195
         ],
         "yaxis": "y"
        },
        {
         "hoverinfo": "text",
         "marker": {
          "color": "rgb(133,20,75)"
         },
         "mode": "lines",
         "text": [
          "c0olmail_78720_202885_austin_tx",
          "",
          "",
          "offers_202885_78720_33488063_austin"
         ],
         "type": "scatter",
         "x": [
          0,
          0.1367070818064814,
          0.1367070818064814,
          0
         ],
         "xaxis": "x",
         "y": [
          -205,
          -205,
          -215,
          -215
         ],
         "yaxis": "y"
        },
        {
         "hoverinfo": "text",
         "marker": {
          "color": "rgb(133,20,75)"
         },
         "mode": "lines",
         "text": [
          "recurring_remove_yourself_unsub_mliang",
          "",
          "",
          "offers_202885_78720_austin_tx"
         ],
         "type": "scatter",
         "x": [
          0.6112775821913443,
          0.8856552115860804,
          0.8856552115860804,
          0.1367070818064814
         ],
         "xaxis": "x",
         "y": [
          -190,
          -190,
          -210,
          -210
         ],
         "yaxis": "y"
        },
        {
         "hoverinfo": "text",
         "marker": {
          "color": "rgb(255,220,0)"
         },
         "mode": "lines",
         "text": [
          "mayan_soccer_yahoogroups_sponsor_group_advertisement",
          "",
          "",
          "yahoogroups_group_zingaris_tm_yahoo"
         ],
         "type": "scatter",
         "x": [
          0,
          0.515223262710217,
          0.515223262710217,
          0
         ],
         "xaxis": "x",
         "y": [
          -235,
          -235,
          -245,
          -245
         ],
         "yaxis": "y"
        },
        {
         "hoverinfo": "text",
         "marker": {
          "color": "rgb(255,220,0)"
         },
         "mode": "lines",
         "text": [
          "yahoogroups_group_tm_zingaris_yahoo",
          "",
          "",
          "svase_st3ward_group_svamafriends_unsubscribe"
         ],
         "type": "scatter",
         "x": [
          0.515223262710217,
          0.7736902761083562,
          0.7736902761083562,
          0
         ],
         "xaxis": "x",
         "y": [
          -240,
          -240,
          -255,
          -255
         ],
         "yaxis": "y"
        },
        {
         "hoverinfo": "text",
         "marker": {
          "color": "rgb(255,220,0)"
         },
         "mode": "lines",
         "text": [
          "f4u_polls_groups_yahoogroups_punctuation",
          "",
          "",
          "group_yahoogroups_yahoo_tm_zingaris"
         ],
         "type": "scatter",
         "x": [
          0,
          0.9259272706876723,
          0.9259272706876723,
          0.7736902761083562
         ],
         "xaxis": "x",
         "y": [
          -225,
          -225,
          -247.5,
          -247.5
         ],
         "yaxis": "y"
        },
        {
         "hoverinfo": "text",
         "marker": {
          "color": "rgb(40,35,35)"
         },
         "mode": "lines",
         "text": [
          "banned_flame_advertisements_replies_auto",
          "",
          "",
          "routinely_fellow_banned_flame_advertisements"
         ],
         "type": "scatter",
         "x": [
          0,
          0.14193484741872386,
          0.14193484741872386,
          0
         ],
         "xaxis": "x",
         "y": [
          -265,
          -265,
          -275,
          -275
         ],
         "yaxis": "y"
        },
        {
         "hoverinfo": "text",
         "marker": {
          "color": "rgb(0,116,217)"
         },
         "mode": "lines",
         "text": [
          "group_yahoogroups_f4u_yahoo_groups",
          "",
          "",
          "banned_flame_advertisements_replies_auto"
         ],
         "type": "scatter",
         "x": [
          0.9259272706876723,
          1.3620434675943387,
          1.3620434675943387,
          0.14193484741872386
         ],
         "xaxis": "x",
         "y": [
          -236.25,
          -236.25,
          -270,
          -270
         ],
         "yaxis": "y"
        },
        {
         "hoverinfo": "text",
         "marker": {
          "color": "rgb(61,153,112)"
         },
         "mode": "lines",
         "text": [
          "lifeminders_mails_registered_members_only",
          "",
          "",
          "lifeminders_spotlight_archived_entertainment_see"
         ],
         "type": "scatter",
         "x": [
          0,
          0.6188876219810268,
          0.6188876219810268,
          0
         ],
         "xaxis": "x",
         "y": [
          -285,
          -285,
          -295,
          -295
         ],
         "yaxis": "y"
        },
        {
         "hoverinfo": "text",
         "marker": {
          "color": "rgb(255,65,54)"
         },
         "mode": "lines",
         "text": [
          "pregnancy_tips_parenting_dilemma_own",
          "",
          "",
          "babycenter_parentcenter_line_subject_dubinsky"
         ],
         "type": "scatter",
         "x": [
          0,
          0.8434962033389032,
          0.8434962033389032,
          0
         ],
         "xaxis": "x",
         "y": [
          -305,
          -305,
          -315,
          -315
         ],
         "yaxis": "y"
        },
        {
         "hoverinfo": "text",
         "marker": {
          "color": "rgb(35,205,205)"
         },
         "mode": "lines",
         "text": [
          "basex_subject_line_newsletter_microsoft",
          "",
          "",
          "stopmail_microsoft_stop_word_reply"
         ],
         "type": "scatter",
         "x": [
          0,
          0.6143244377020758,
          0.6143244377020758,
          0
         ],
         "xaxis": "x",
         "y": [
          -325,
          -325,
          -335,
          -335
         ],
         "yaxis": "y"
        },
        {
         "hoverinfo": "text",
         "marker": {
          "color": "rgb(0,116,217)"
         },
         "mode": "lines",
         "text": [
          "babycenter_pregnancy_own_tips_parenting",
          "",
          "",
          "microsoft_subject_basex_line_stopmail"
         ],
         "type": "scatter",
         "x": [
          0.8434962033389032,
          1.027899404990662,
          1.027899404990662,
          0.6143244377020758
         ],
         "xaxis": "x",
         "y": [
          -310,
          -310,
          -330,
          -330
         ],
         "yaxis": "y"
        },
        {
         "hoverinfo": "text",
         "marker": {
          "color": "rgb(61,153,112)"
         },
         "mode": "lines",
         "text": [
          "double_icon_click_simply_type",
          "",
          "",
          "uptilt_304_kenamea_click_here"
         ],
         "type": "scatter",
         "x": [
          0,
          0.8904947483512178,
          0.8904947483512178,
          0
         ],
         "xaxis": "x",
         "y": [
          -345,
          -345,
          -355,
          -355
         ],
         "yaxis": "y"
        },
        {
         "hoverinfo": "text",
         "marker": {
          "color": "rgb(61,153,112)"
         },
         "mode": "lines",
         "text": [
          "click_double_icon_simply_type",
          "",
          "",
          "special_offers_valoffers_receiving__seperator1"
         ],
         "type": "scatter",
         "x": [
          0.8904947483512178,
          0.9258296093745897,
          0.9258296093745897,
          0
         ],
         "xaxis": "x",
         "y": [
          -350,
          -350,
          -365,
          -365
         ],
         "yaxis": "y"
        },
        {
         "hoverinfo": "text",
         "marker": {
          "color": "rgb(255,65,54)"
         },
         "mode": "lines",
         "text": [
          "shoreline_removed_research_roll_hits",
          "",
          "",
          "jdj_permanently_databases_buyer_offerings"
         ],
         "type": "scatter",
         "x": [
          0,
          0.8786219123138804,
          0.8786219123138804,
          0
         ],
         "xaxis": "x",
         "y": [
          -375,
          -375,
          -385,
          -385
         ],
         "yaxis": "y"
        },
        {
         "hoverinfo": "text",
         "marker": {
          "color": "rgb(0,116,217)"
         },
         "mode": "lines",
         "text": [
          "click_double_icon_simply_type",
          "",
          "",
          "removed_jdj_permanently_databases_remove"
         ],
         "type": "scatter",
         "x": [
          0.9258296093745897,
          1.0114744653762564,
          1.0114744653762564,
          0.8786219123138804
         ],
         "xaxis": "x",
         "y": [
          -357.5,
          -357.5,
          -380,
          -380
         ],
         "yaxis": "y"
        },
        {
         "hoverinfo": "text",
         "marker": {
          "color": "rgb(0,116,217)"
         },
         "mode": "lines",
         "text": [
          "subject_line_babycenter_microsoft_click",
          "",
          "",
          "click_requests_removed_jdj_double"
         ],
         "type": "scatter",
         "x": [
          1.027899404990662,
          1.1203283556819126,
          1.1203283556819126,
          1.0114744653762564
         ],
         "xaxis": "x",
         "y": [
          -320,
          -320,
          -368.75,
          -368.75
         ],
         "yaxis": "y"
        },
        {
         "hoverinfo": "text",
         "marker": {
          "color": "rgb(0,116,217)"
         },
         "mode": "lines",
         "text": [
          "lifeminders_spotlight_archived_entertainment_mails",
          "",
          "",
          "click_subject_line_removed_babycenter"
         ],
         "type": "scatter",
         "x": [
          0.6188876219810268,
          1.245746292234429,
          1.245746292234429,
          1.1203283556819126
         ],
         "xaxis": "x",
         "y": [
          -290,
          -290,
          -344.375,
          -344.375
         ],
         "yaxis": "y"
        },
        {
         "hoverinfo": "text",
         "marker": {
          "color": "rgb(35,205,205)"
         },
         "mode": "lines",
         "text": [
          "thestandard_letters_advertising_lien_sacha",
          "",
          "",
          "unsubscribing_idg_problems_receiving_contacts"
         ],
         "type": "scatter",
         "x": [
          0,
          0.7799540501524216,
          0.7799540501524216,
          0
         ],
         "xaxis": "x",
         "y": [
          -395,
          -395,
          -405,
          -405
         ],
         "yaxis": "y"
        },
        {
         "hoverinfo": "text",
         "marker": {
          "color": "rgb(133,20,75)"
         },
         "mode": "lines",
         "text": [
          "clickz_htm_178579g_rsilverton_rest",
          "",
          "",
          "clickz_blankenhorn_advertise_conferences_feedback"
         ],
         "type": "scatter",
         "x": [
          0,
          0.7320977911142659,
          0.7320977911142659,
          0
         ],
         "xaxis": "x",
         "y": [
          -415,
          -415,
          -425,
          -425
         ],
         "yaxis": "y"
        },
        {
         "hoverinfo": "text",
         "marker": {
          "color": "rgb(133,20,75)"
         },
         "mode": "lines",
         "text": [
          "clickz_htm_blankenhorn_advertise_conferences",
          "",
          "",
          "thinkmobile_biz_headlines_small_store"
         ],
         "type": "scatter",
         "x": [
          0.7320977911142659,
          0.9167912637495613,
          0.9167912637495613,
          0
         ],
         "xaxis": "x",
         "y": [
          -420,
          -420,
          -435,
          -435
         ],
         "yaxis": "y"
        },
        {
         "hoverinfo": "text",
         "marker": {
          "color": "rgb(0,116,217)"
         },
         "mode": "lines",
         "text": [
          "thestandard_letters_problems_advertising_sachal",
          "",
          "",
          "clickz_htm_advertise_thinkmobile_blankenhorn"
         ],
         "type": "scatter",
         "x": [
          0.7799540501524216,
          1.1416206028412743,
          1.1416206028412743,
          0.9167912637495613
         ],
         "xaxis": "x",
         "y": [
          -400,
          -400,
          -427.5,
          -427.5
         ],
         "yaxis": "y"
        },
        {
         "hoverinfo": "text",
         "marker": {
          "color": "rgb(255,220,0)"
         },
         "mode": "lines",
         "text": [
          "dial_latest_software_dialer_uu",
          "",
          "",
          "coffeecup_software_dundee_lyris_net"
         ],
         "type": "scatter",
         "x": [
          0,
          0.8957872159578321,
          0.8957872159578321,
          0
         ],
         "xaxis": "x",
         "y": [
          -445,
          -445,
          -455,
          -455
         ],
         "yaxis": "y"
        },
        {
         "hoverinfo": "text",
         "marker": {
          "color": "rgb(40,35,35)"
         },
         "mode": "lines",
         "text": [
          "unplugged_avocadoit_dotcomdeals_unsubscribe_welcome",
          "",
          "",
          "javadevelopersjournal_sys_con_webgain_mailbox"
         ],
         "type": "scatter",
         "x": [
          0,
          0.752849614402592,
          0.752849614402592,
          0
         ],
         "xaxis": "x",
         "y": [
          -475,
          -475,
          -485,
          -485
         ],
         "yaxis": "y"
        },
        {
         "hoverinfo": "text",
         "marker": {
          "color": "rgb(40,35,35)"
         },
         "mode": "lines",
         "text": [
          "stcetsig_stc_34772p_rgantly_org",
          "",
          "",
          "javadevelopersjournal_sys_con_webgain_mailbox"
         ],
         "type": "scatter",
         "x": [
          0,
          0.9483409442129918,
          0.9483409442129918,
          0.752849614402592
         ],
         "xaxis": "x",
         "y": [
          -465,
          -465,
          -480,
          -480
         ],
         "yaxis": "y"
        },
        {
         "hoverinfo": "text",
         "marker": {
          "color": "rgb(0,116,217)"
         },
         "mode": "lines",
         "text": [
          "software_coffeecup_dial_latest_dialer",
          "",
          "",
          "stcetsig_javadevelopersjournal_sys_con_stc"
         ],
         "type": "scatter",
         "x": [
          0.8957872159578321,
          1.0549866886307657,
          1.0549866886307657,
          0.9483409442129918
         ],
         "xaxis": "x",
         "y": [
          -450,
          -450,
          -472.5,
          -472.5
         ],
         "yaxis": "y"
        },
        {
         "hoverinfo": "text",
         "marker": {
          "color": "rgb(61,153,112)"
         },
         "mode": "lines",
         "text": [
          "masti_jokes_fun_desimasala_join",
          "",
          "",
          "masala_netmasti_humor_desi_moderator"
         ],
         "type": "scatter",
         "x": [
          0,
          0.8352312144153304,
          0.8352312144153304,
          0
         ],
         "xaxis": "x",
         "y": [
          -505,
          -505,
          -515,
          -515
         ],
         "yaxis": "y"
        },
        {
         "hoverinfo": "text",
         "marker": {
          "color": "rgb(61,153,112)"
         },
         "mode": "lines",
         "text": [
          "fiercewireless_fiercewirelesshtml_sign_leave_laser",
          "",
          "",
          "desimasala_yahoogroups_masala_masti_netmasti"
         ],
         "type": "scatter",
         "x": [
          0,
          0.9891400581005773,
          0.9891400581005773,
          0.8352312144153304
         ],
         "xaxis": "x",
         "y": [
          -495,
          -495,
          -510,
          -510
         ],
         "yaxis": "y"
        },
        {
         "hoverinfo": "text",
         "marker": {
          "color": "rgb(0,116,217)"
         },
         "mode": "lines",
         "text": [
          "stcetsig_software_javadevelopersjournal_coffeecup_sys",
          "",
          "",
          "fiercewireless_desimasala_yahoogroups_fiercewirelesshtml_subscribe"
         ],
         "type": "scatter",
         "x": [
          1.0549866886307657,
          1.1242090871817372,
          1.1242090871817372,
          0.9891400581005773
         ],
         "xaxis": "x",
         "y": [
          -461.25,
          -461.25,
          -502.5,
          -502.5
         ],
         "yaxis": "y"
        },
        {
         "hoverinfo": "text",
         "marker": {
          "color": "rgb(0,116,217)"
         },
         "mode": "lines",
         "text": [
          "clickz_htm_advertise_thestandard_feedback",
          "",
          "",
          "stcetsig_software_leave_fiercewireless_javadevelopersjournal"
         ],
         "type": "scatter",
         "x": [
          1.1416206028412743,
          1.1816259673787368,
          1.1816259673787368,
          1.1242090871817372
         ],
         "xaxis": "x",
         "y": [
          -413.75,
          -413.75,
          -481.875,
          -481.875
         ],
         "yaxis": "y"
        },
        {
         "hoverinfo": "text",
         "marker": {
          "color": "rgb(0,116,217)"
         },
         "mode": "lines",
         "text": [
          "click_lifeminders_subject_line_removed",
          "",
          "",
          "clickz_leave_currently_subscribed_htm"
         ],
         "type": "scatter",
         "x": [
          1.245746292234429,
          1.2525917441956813,
          1.2525917441956813,
          1.1816259673787368
         ],
         "xaxis": "x",
         "y": [
          -317.1875,
          -317.1875,
          -447.8125,
          -447.8125
         ],
         "yaxis": "y"
        },
        {
         "hoverinfo": "text",
         "marker": {
          "color": "rgb(255,65,54)"
         },
         "mode": "lines",
         "text": [
          "textonly_editor_unplugged_future_receive",
          "",
          "",
          "unplugged_newsletter_force_automation_textonly"
         ],
         "type": "scatter",
         "x": [
          0,
          0.4877000017179616,
          0.4877000017179616,
          0
         ],
         "xaxis": "x",
         "y": [
          -525,
          -525,
          -535,
          -535
         ],
         "yaxis": "y"
        },
        {
         "hoverinfo": "text",
         "marker": {
          "color": "rgb(255,65,54)"
         },
         "mode": "lines",
         "text": [
          "textonly_unplugged_future_editor_receive",
          "",
          "",
          "unplugged_interview_archive_newsletter_register_spotlight"
         ],
         "type": "scatter",
         "x": [
          0.4877000017179616,
          0.8387886772482742,
          0.8387886772482742,
          0
         ],
         "xaxis": "x",
         "y": [
          -530,
          -530,
          -545,
          -545
         ],
         "yaxis": "y"
        },
        {
         "hoverinfo": "text",
         "marker": {
          "color": "rgb(0,116,217)"
         },
         "mode": "lines",
         "text": [
          "clickz_click_leave_lifeminders_unsubscribe",
          "",
          "",
          "unplugged_textonly_avocadoit_newsletter_interview"
         ],
         "type": "scatter",
         "x": [
          1.2525917441956813,
          1.3221988027689213,
          1.3221988027689213,
          0.8387886772482742
         ],
         "xaxis": "x",
         "y": [
          -382.5,
          -382.5,
          -537.5,
          -537.5
         ],
         "yaxis": "y"
        },
        {
         "hoverinfo": "text",
         "marker": {
          "color": "rgb(35,205,205)"
         },
         "mode": "lines",
         "text": [
          "1158_90403_597_monica_26th",
          "",
          "",
          "1158_raghavan_597_90403_monica"
         ],
         "type": "scatter",
         "x": [
          0,
          0.16428647203712154,
          0.16428647203712154,
          0
         ],
         "xaxis": "x",
         "y": [
          -555,
          -555,
          -565,
          -565
         ],
         "yaxis": "y"
        },
        {
         "hoverinfo": "text",
         "marker": {
          "color": "rgb(0,116,217)"
         },
         "mode": "lines",
         "text": [
          "clickz_click_unplugged_leave_lifeminders",
          "",
          "",
          "1158_597_90403_monica_26th"
         ],
         "type": "scatter",
         "x": [
          1.3221988027689213,
          1.3831714021024506,
          1.3831714021024506,
          0.16428647203712154
         ],
         "xaxis": "x",
         "y": [
          -460,
          -460,
          -560,
          -560
         ],
         "yaxis": "y"
        },
        {
         "hoverinfo": "text",
         "marker": {
          "color": "rgb(0,116,217)"
         },
         "mode": "lines",
         "text": [
          "group_yahoogroups_f4u_yahoo_groups",
          "",
          "",
          "clickz_click_unplugged_subscribed_unsubscribe"
         ],
         "type": "scatter",
         "x": [
          1.3620434675943387,
          1.4166443648026983,
          1.4166443648026983,
          1.3831714021024506
         ],
         "xaxis": "x",
         "y": [
          -253.125,
          -253.125,
          -510,
          -510
         ],
         "yaxis": "y"
        },
        {
         "hoverinfo": "text",
         "marker": {
          "color": "rgb(61,153,112)"
         },
         "mode": "lines",
         "text": [
          "allnetdevices_reprinting_linking_text_permissions",
          "",
          "",
          "engine_cyberatlas_text_search_list5"
         ],
         "type": "scatter",
         "x": [
          0,
          0.4621534211825101,
          0.4621534211825101,
          0
         ],
         "xaxis": "x",
         "y": [
          -595,
          -595,
          -605,
          -605
         ],
         "yaxis": "y"
        },
        {
         "hoverinfo": "text",
         "marker": {
          "color": "rgb(61,153,112)"
         },
         "mode": "lines",
         "text": [
          "corporation_allnetdevices_text_list4_currently",
          "",
          "",
          "text_reprinting_linking_permissions_corporate"
         ],
         "type": "scatter",
         "x": [
          0,
          0.6227084725043499,
          0.6227084725043499,
          0.4621534211825101
         ],
         "xaxis": "x",
         "y": [
          -585,
          -585,
          -600,
          -600
         ],
         "yaxis": "y"
        },
        {
         "hoverinfo": "text",
         "marker": {
          "color": "rgb(61,153,112)"
         },
         "mode": "lines",
         "text": [
          "allnetdevices_list3_1420414n_internet_html",
          "",
          "",
          "text_allnetdevices_list4_currently_reprinting"
         ],
         "type": "scatter",
         "x": [
          0,
          0.7759518776927614,
          0.7759518776927614,
          0.6227084725043499
         ],
         "xaxis": "x",
         "y": [
          -575,
          -575,
          -592.5,
          -592.5
         ],
         "yaxis": "y"
        },
        {
         "hoverinfo": "text",
         "marker": {
          "color": "rgb(0,116,217)"
         },
         "mode": "lines",
         "text": [
          "click_unsubscribe_yahoogroups_group_clickz",
          "",
          "",
          "allnetdevices_text_currently_leave_subscribed"
         ],
         "type": "scatter",
         "x": [
          1.4166443648026983,
          1.488926763820703,
          1.488926763820703,
          0.7759518776927614
         ],
         "xaxis": "x",
         "y": [
          -381.5625,
          -381.5625,
          -583.75,
          -583.75
         ],
         "yaxis": "y"
        },
        {
         "hoverinfo": "text",
         "marker": {
          "color": "rgb(255,65,54)"
         },
         "mode": "lines",
         "text": [
          "newsscan_subscribe_daily_word_html",
          "",
          "",
          "newsscan_subscribe_daily_line_subject"
         ],
         "type": "scatter",
         "x": [
          0,
          0.17687295567062067,
          0.17687295567062067,
          0
         ],
         "xaxis": "x",
         "y": [
          -625,
          -625,
          -635,
          -635
         ],
         "yaxis": "y"
        },
        {
         "hoverinfo": "text",
         "marker": {
          "color": "rgb(255,65,54)"
         },
         "mode": "lines",
         "text": [
          "vcbuzz_innovation_trial_word_delivered",
          "",
          "",
          "newsscan_subscribe_daily_version_subject"
         ],
         "type": "scatter",
         "x": [
          0,
          0.7737552941306345,
          0.7737552941306345,
          0.17687295567062067
         ],
         "xaxis": "x",
         "y": [
          -615,
          -615,
          -630,
          -630
         ],
         "yaxis": "y"
        },
        {
         "hoverinfo": "text",
         "marker": {
          "color": "rgb(255,65,54)"
         },
         "mode": "lines",
         "text": [
          "newsscan_subscribe_daily_word_subject",
          "",
          "",
          "douglas_gehl_newsscan_1017_suzanne"
         ],
         "type": "scatter",
         "x": [
          0.7737552941306345,
          0.8961065505578664,
          0.8961065505578664,
          0
         ],
         "xaxis": "x",
         "y": [
          -622.5,
          -622.5,
          -645,
          -645
         ],
         "yaxis": "y"
        },
        {
         "hoverinfo": "text",
         "marker": {
          "color": "rgb(0,116,217)"
         },
         "mode": "lines",
         "text": [
          "subscribed_leave_unsubscribe_currently_click",
          "",
          "",
          "newsscan_subscribe_douglas_gehl_daily"
         ],
         "type": "scatter",
         "x": [
          1.488926763820703,
          1.5047022493185156,
          1.5047022493185156,
          0.8961065505578664
         ],
         "xaxis": "x",
         "y": [
          -482.65625,
          -482.65625,
          -633.75,
          -633.75
         ],
         "yaxis": "y"
        },
        {
         "hoverinfo": "text",
         "marker": {
          "color": "rgb(0,116,217)"
         },
         "mode": "lines",
         "text": [
          "unsub_mliang_offers_postal_customerservice",
          "",
          "",
          "subscribed_leave_unsubscribe_subscribe_currently"
         ],
         "type": "scatter",
         "x": [
          0.8856552115860804,
          1.5830448255992855,
          1.5830448255992855,
          1.5047022493185156
         ],
         "xaxis": "x",
         "y": [
          -200,
          -200,
          -558.203125,
          -558.203125
         ],
         "yaxis": "y"
        },
        {
         "hoverinfo": "text",
         "marker": {
          "color": "rgb(35,205,205)"
         },
         "mode": "lines",
         "text": [
          "servlet_user_sun_lsoft_resources",
          "",
          "",
          "servlet_archives_sun_interest_java"
         ],
         "type": "scatter",
         "x": [
          0,
          0.0888135675650138,
          0.0888135675650138,
          0
         ],
         "xaxis": "x",
         "y": [
          -655,
          -655,
          -665,
          -665
         ],
         "yaxis": "y"
        },
        {
         "hoverinfo": "text",
         "marker": {
          "color": "rgb(35,205,205)"
         },
         "mode": "lines",
         "text": [
          "java2d_body_listserv_include_signoff",
          "",
          "",
          "help_general_body_include_listserv"
         ],
         "type": "scatter",
         "x": [
          0,
          0.3784899570736293,
          0.3784899570736293,
          0
         ],
         "xaxis": "x",
         "y": [
          -675,
          -675,
          -685,
          -685
         ],
         "yaxis": "y"
        },
        {
         "hoverinfo": "text",
         "marker": {
          "color": "rgb(35,205,205)"
         },
         "mode": "lines",
         "text": [
          "servlet_sun_java_archives_listserv",
          "",
          "",
          "body_listserv_include_java2d_help"
         ],
         "type": "scatter",
         "x": [
          0.0888135675650138,
          0.7700170001638227,
          0.7700170001638227,
          0.3784899570736293
         ],
         "xaxis": "x",
         "y": [
          -660,
          -660,
          -680,
          -680
         ],
         "yaxis": "y"
        },
        {
         "hoverinfo": "text",
         "marker": {
          "color": "rgb(0,116,217)"
         },
         "mode": "lines",
         "text": [
          "unsubscribe_subscribed_leave_click_subscribe",
          "",
          "",
          "sun_java_listserv_servlet_interest"
         ],
         "type": "scatter",
         "x": [
          1.5830448255992855,
          1.761747958949332,
          1.761747958949332,
          0.7700170001638227
         ],
         "xaxis": "x",
         "y": [
          -379.1015625,
          -379.1015625,
          -670,
          -670
         ],
         "yaxis": "y"
        },
        {
         "hoverinfo": "text",
         "marker": {
          "color": "rgb(0,116,217)"
         },
         "mode": "lines",
         "text": [
          "internet_http_commerce_662_203",
          "",
          "",
          "unsubscribe_subscribed_email_leave_java"
         ],
         "type": "scatter",
         "x": [
          0.1962803482018773,
          1.8414516145281128,
          1.8414516145281128,
          1.761747958949332
         ],
         "xaxis": "x",
         "y": [
          -156.25,
          -156.25,
          -524.55078125,
          -524.55078125
         ],
         "yaxis": "y"
        },
        {
         "hoverinfo": "text",
         "marker": {
          "color": "rgb(133,20,75)"
         },
         "mode": "lines",
         "text": [
          "avocadoit_wirelessly_everywhere_iyer_margulies",
          "",
          "",
          "margulies_debbie_408_wirelessly_1052"
         ],
         "type": "scatter",
         "x": [
          0,
          0.3278814385129881,
          0.3278814385129881,
          0
         ],
         "xaxis": "x",
         "y": [
          -695,
          -695,
          -705,
          -705
         ],
         "yaxis": "y"
        },
        {
         "hoverinfo": "text",
         "marker": {
          "color": "rgb(133,20,75)"
         },
         "mode": "lines",
         "text": [
          "avocadoit_408_562_adapter_applframe",
          "",
          "",
          "facilities_stewart_mark_features_facility"
         ],
         "type": "scatter",
         "x": [
          0,
          0.5699363820645986,
          0.5699363820645986,
          0
         ],
         "xaxis": "x",
         "y": [
          -725,
          -725,
          -735,
          -735
         ],
         "yaxis": "y"
        },
        {
         "hoverinfo": "text",
         "marker": {
          "color": "rgb(133,20,75)"
         },
         "mode": "lines",
         "text": [
          "newsworthy_basis_circulated_california_opt",
          "",
          "",
          "avocadoit_408_562_adapter_ca"
         ],
         "type": "scatter",
         "x": [
          0,
          0.665903341247652,
          0.665903341247652,
          0.5699363820645986
         ],
         "xaxis": "x",
         "y": [
          -715,
          -715,
          -730,
          -730
         ],
         "yaxis": "y"
        },
        {
         "hoverinfo": "text",
         "marker": {
          "color": "rgb(133,20,75)"
         },
         "mode": "lines",
         "text": [
          "avocadoit_408_562_2211_95131",
          "",
          "",
          "doug_instructor_8744_sr_857"
         ],
         "type": "scatter",
         "x": [
          0.665903341247652,
          0.717948264131039,
          0.717948264131039,
          0
         ],
         "xaxis": "x",
         "y": [
          -722.5,
          -722.5,
          -745,
          -745
         ],
         "yaxis": "y"
        },
        {
         "hoverinfo": "text",
         "marker": {
          "color": "rgb(133,20,75)"
         },
         "mode": "lines",
         "text": [
          "margulies_debbie_wirelessly_408_avocadoit",
          "",
          "",
          "408_562_avocadoit_2211_95131"
         ],
         "type": "scatter",
         "x": [
          0.3278814385129881,
          0.8346676809527624,
          0.8346676809527624,
          0.717948264131039
         ],
         "xaxis": "x",
         "y": [
          -700,
          -700,
          -733.75,
          -733.75
         ],
         "yaxis": "y"
        },
        {
         "hoverinfo": "text",
         "marker": {
          "color": "rgb(255,220,0)"
         },
         "mode": "lines",
         "text": [
          "ritesh_hello_techhelp_ameritrade_2001",
          "",
          "",
          "ritesh_hello_techhelp_ameritrade_2002"
         ],
         "type": "scatter",
         "x": [
          0,
          0.11265697017128595,
          0.11265697017128595,
          0
         ],
         "xaxis": "x",
         "y": [
          -775,
          -775,
          -785,
          -785
         ],
         "yaxis": "y"
        },
        {
         "hoverinfo": "text",
         "marker": {
          "color": "rgb(255,220,0)"
         },
         "mode": "lines",
         "text": [
          "techhelp_ameritrade_comments_questions_any",
          "",
          "",
          "ritesh_hello_techhelp_ameritrade_comments"
         ],
         "type": "scatter",
         "x": [
          0,
          0.36580614549875323,
          0.36580614549875323,
          0.11265697017128595
         ],
         "xaxis": "x",
         "y": [
          -765,
          -765,
          -780,
          -780
         ],
         "yaxis": "y"
        },
        {
         "hoverinfo": "text",
         "marker": {
          "color": "rgb(255,220,0)"
         },
         "mode": "lines",
         "text": [
          "praveen_evening_techhelp_ameritrade_good",
          "",
          "",
          "techhelp_ameritrade_ritesh_hello_comments"
         ],
         "type": "scatter",
         "x": [
          0,
          0.5534719450545885,
          0.5534719450545885,
          0.36580614549875323
         ],
         "xaxis": "x",
         "y": [
          -755,
          -755,
          -772.5,
          -772.5
         ],
         "yaxis": "y"
        },
        {
         "hoverinfo": "text",
         "marker": {
          "color": "rgb(0,116,217)"
         },
         "mode": "lines",
         "text": [
          "408_avocadoit_562_2211_95131",
          "",
          "",
          "techhelp_ameritrade_comments_ritesh_questions"
         ],
         "type": "scatter",
         "x": [
          0.8346676809527624,
          1.863756955504217,
          1.863756955504217,
          0.5534719450545885
         ],
         "xaxis": "x",
         "y": [
          -716.875,
          -716.875,
          -763.75,
          -763.75
         ],
         "yaxis": "y"
        },
        {
         "hoverinfo": "text",
         "marker": {
          "color": "rgb(40,35,35)"
         },
         "mode": "lines",
         "text": [
          "tests_deepak_rosh_ravi_build",
          "",
          "",
          "emds_emas_dave_guide_install"
         ],
         "type": "scatter",
         "x": [
          0,
          0.8377002976994024,
          0.8377002976994024,
          0
         ],
         "xaxis": "x",
         "y": [
          -805,
          -805,
          -815,
          -815
         ],
         "yaxis": "y"
        },
        {
         "hoverinfo": "text",
         "marker": {
          "color": "rgb(40,35,35)"
         },
         "mode": "lines",
         "text": [
          "installation_install_requirement_ashish_aliase",
          "",
          "",
          "emds_emas_tests_deepak_ravi"
         ],
         "type": "scatter",
         "x": [
          0,
          0.8902489576472657,
          0.8902489576472657,
          0.8377002976994024
         ],
         "xaxis": "x",
         "y": [
          -795,
          -795,
          -810,
          -810
         ],
         "yaxis": "y"
        },
        {
         "hoverinfo": "text",
         "marker": {
          "color": "rgb(40,35,35)"
         },
         "mode": "lines",
         "text": [
          "wilhan_build_qa_sanity_results",
          "",
          "",
          "test_results_testsrvr_plan_testing"
         ],
         "type": "scatter",
         "x": [
          0,
          0.7896822176381042,
          0.7896822176381042,
          0
         ],
         "xaxis": "x",
         "y": [
          -825,
          -825,
          -835,
          -835
         ],
         "yaxis": "y"
        },
        {
         "hoverinfo": "text",
         "marker": {
          "color": "rgb(40,35,35)"
         },
         "mode": "lines",
         "text": [
          "emds_install_emas_installation_tests",
          "",
          "",
          "test_results_wilhan_run_testsrvr"
         ],
         "type": "scatter",
         "x": [
          0.8902489576472657,
          0.9325622598949309,
          0.9325622598949309,
          0.7896822176381042
         ],
         "xaxis": "x",
         "y": [
          -802.5,
          -802.5,
          -830,
          -830
         ],
         "yaxis": "y"
        },
        {
         "hoverinfo": "text",
         "marker": {
          "color": "rgb(61,153,112)"
         },
         "mode": "lines",
         "text": [
          "updates_update_apprise_xalan_periodically",
          "",
          "",
          "problem_spoken_why_cleared_diagnose"
         ],
         "type": "scatter",
         "x": [
          0,
          0.8463431535237407,
          0.8463431535237407,
          0
         ],
         "xaxis": "x",
         "y": [
          -855,
          -855,
          -865,
          -865
         ],
         "yaxis": "y"
        },
        {
         "hoverinfo": "text",
         "marker": {
          "color": "rgb(61,153,112)"
         },
         "mode": "lines",
         "text": [
          "updates_update_problem_xalan_apprise",
          "",
          "",
          "idc_error_congestion_deliver_failure"
         ],
         "type": "scatter",
         "x": [
          0.8463431535237407,
          0.9060145504356958,
          0.9060145504356958,
          0
         ],
         "xaxis": "x",
         "y": [
          -860,
          -860,
          -875,
          -875
         ],
         "yaxis": "y"
        },
        {
         "hoverinfo": "text",
         "marker": {
          "color": "rgb(61,153,112)"
         },
         "mode": "lines",
         "text": [
          "siebel_utilization_ipaq_alliances_support",
          "",
          "",
          "idc_problem_updates_error_congestion"
         ],
         "type": "scatter",
         "x": [
          0,
          0.920270627252987,
          0.920270627252987,
          0.9060145504356958
         ],
         "xaxis": "x",
         "y": [
          -845,
          -845,
          -867.5,
          -867.5
         ],
         "yaxis": "y"
        },
        {
         "hoverinfo": "text",
         "marker": {
          "color": "rgb(61,153,112)"
         },
         "mode": "lines",
         "text": [
          "project_plan_answers_updating_end",
          "",
          "",
          "status_ert_wont_week_weekly"
         ],
         "type": "scatter",
         "x": [
          0,
          0.8552044330744457,
          0.8552044330744457,
          0
         ],
         "xaxis": "x",
         "y": [
          -885,
          -885,
          -895,
          -895
         ],
         "yaxis": "y"
        },
        {
         "hoverinfo": "text",
         "marker": {
          "color": "rgb(61,153,112)"
         },
         "mode": "lines",
         "text": [
          "bug_bugs_bugzilla_fixed_fixes",
          "",
          "",
          "features_rajiv_eg_datasheet_list"
         ],
         "type": "scatter",
         "x": [
          0,
          0.8414767951191182,
          0.8414767951191182,
          0
         ],
         "xaxis": "x",
         "y": [
          -905,
          -905,
          -915,
          -915
         ],
         "yaxis": "y"
        },
        {
         "hoverinfo": "text",
         "marker": {
          "color": "rgb(61,153,112)"
         },
         "mode": "lines",
         "text": [
          "bugs_bug_bugzilla_features_fixed",
          "",
          "",
          "list_looks_glance_lance_added"
         ],
         "type": "scatter",
         "x": [
          0.8414767951191182,
          0.8847434968337454,
          0.8847434968337454,
          0
         ],
         "xaxis": "x",
         "y": [
          -910,
          -910,
          -925,
          -925
         ],
         "yaxis": "y"
        },
        {
         "hoverinfo": "text",
         "marker": {
          "color": "rgb(61,153,112)"
         },
         "mode": "lines",
         "text": [
          "status_project_end_plan_ert",
          "",
          "",
          "bugs_bug_bugzilla_list_features"
         ],
         "type": "scatter",
         "x": [
          0.8552044330744457,
          0.9457959016269336,
          0.9457959016269336,
          0.8847434968337454
         ],
         "xaxis": "x",
         "y": [
          -890,
          -890,
          -917.5,
          -917.5
         ],
         "yaxis": "y"
        },
        {
         "hoverinfo": "text",
         "marker": {
          "color": "rgb(61,153,112)"
         },
         "mode": "lines",
         "text": [
          "idc_siebel_problem_updates_update",
          "",
          "",
          "bugs_bug_status_bugzilla_list"
         ],
         "type": "scatter",
         "x": [
          0.920270627252987,
          0.9825477611170176,
          0.9825477611170176,
          0.9457959016269336
         ],
         "xaxis": "x",
         "y": [
          -856.25,
          -856.25,
          -903.75,
          -903.75
         ],
         "yaxis": "y"
        },
        {
         "hoverinfo": "text",
         "marker": {
          "color": "rgb(255,65,54)"
         },
         "mode": "lines",
         "text": [
          "changes_delay_made_additions_may",
          "",
          "",
          "changes_bulletins_roles_responsibilities_affected"
         ],
         "type": "scatter",
         "x": [
          0,
          0.7610031623231323,
          0.7610031623231323,
          0
         ],
         "xaxis": "x",
         "y": [
          -935,
          -935,
          -945,
          -945
         ],
         "yaxis": "y"
        },
        {
         "hoverinfo": "text",
         "marker": {
          "color": "rgb(0,116,217)"
         },
         "mode": "lines",
         "text": [
          "bugs_bug_status_idc_siebel",
          "",
          "",
          "changes_roles_responsibilities_bulletins_delay"
         ],
         "type": "scatter",
         "x": [
          0.9825477611170176,
          1.059807758119206,
          1.059807758119206,
          0.7610031623231323
         ],
         "xaxis": "x",
         "y": [
          -880,
          -880,
          -940,
          -940
         ],
         "yaxis": "y"
        },
        {
         "hoverinfo": "text",
         "marker": {
          "color": "rgb(0,116,217)"
         },
         "mode": "lines",
         "text": [
          "test_wilhan_emds_results_tests",
          "",
          "",
          "bugs_bug_status_changes_idc"
         ],
         "type": "scatter",
         "x": [
          0.9325622598949309,
          1.108102825176063,
          1.108102825176063,
          1.059807758119206
         ],
         "xaxis": "x",
         "y": [
          -816.25,
          -816.25,
          -910,
          -910
         ],
         "yaxis": "y"
        },
        {
         "hoverinfo": "text",
         "marker": {
          "color": "rgb(35,205,205)"
         },
         "mode": "lines",
         "text": [
          "ruyben_seth_intranet_boone_discuss",
          "",
          "",
          "password_webex_login_radford_combination"
         ],
         "type": "scatter",
         "x": [
          0,
          0.8989780474004121,
          0.8989780474004121,
          0
         ],
         "xaxis": "x",
         "y": [
          -955,
          -955,
          -965,
          -965
         ],
         "yaxis": "y"
        },
        {
         "hoverinfo": "text",
         "marker": {
          "color": "rgb(61,153,112)"
         },
         "mode": "lines",
         "text": [
          "any_info_me_information_links",
          "",
          "",
          "reach_me_cell_number_call"
         ],
         "type": "scatter",
         "x": [
          0,
          0.7388773339082826,
          0.7388773339082826,
          0
         ],
         "xaxis": "x",
         "y": [
          -975,
          -975,
          -985,
          -985
         ],
         "yaxis": "y"
        },
        {
         "hoverinfo": "text",
         "marker": {
          "color": "rgb(61,153,112)"
         },
         "mode": "lines",
         "text": [
          "commerceworld_able_providing_reviews_valuable",
          "",
          "",
          "wanted_quick_travelling_contact_hence"
         ],
         "type": "scatter",
         "x": [
          0,
          0.8680101853342876,
          0.8680101853342876,
          0
         ],
         "xaxis": "x",
         "y": [
          -995,
          -995,
          -1005,
          -1005
         ],
         "yaxis": "y"
        },
        {
         "hoverinfo": "text",
         "marker": {
          "color": "rgb(61,153,112)"
         },
         "mode": "lines",
         "text": [
          "able_commerceworld_providing_valuable_reviews",
          "",
          "",
          "accenture_kx_onsite_pointer_arrange"
         ],
         "type": "scatter",
         "x": [
          0.8680101853342876,
          0.9065654642504319,
          0.9065654642504319,
          0
         ],
         "xaxis": "x",
         "y": [
          -1000,
          -1000,
          -1015,
          -1015
         ],
         "yaxis": "y"
        },
        {
         "hoverinfo": "text",
         "marker": {
          "color": "rgb(61,153,112)"
         },
         "mode": "lines",
         "text": [
          "me_reach_info_cell_number",
          "",
          "",
          "accenture_quick_kx_site_onsite"
         ],
         "type": "scatter",
         "x": [
          0.7388773339082826,
          0.9707366128929276,
          0.9707366128929276,
          0.9065654642504319
         ],
         "xaxis": "x",
         "y": [
          -980,
          -980,
          -1007.5,
          -1007.5
         ],
         "yaxis": "y"
        },
        {
         "hoverinfo": "text",
         "marker": {
          "color": "rgb(0,116,217)"
         },
         "mode": "lines",
         "text": [
          "password_ruyben_webex_login_radford",
          "",
          "",
          "accenture_me_reach_info_cell"
         ],
         "type": "scatter",
         "x": [
          0.8989780474004121,
          1.017686183987864,
          1.017686183987864,
          0.9707366128929276
         ],
         "xaxis": "x",
         "y": [
          -960,
          -960,
          -993.75,
          -993.75
         ],
         "yaxis": "y"
        },
        {
         "hoverinfo": "text",
         "marker": {
          "color": "rgb(255,65,54)"
         },
         "mode": "lines",
         "text": [
          "meeting_conference_calendar_agenda_request",
          "",
          "",
          "prakash_india_prasad_rajeev_thanks"
         ],
         "type": "scatter",
         "x": [
          0,
          0.7863993519048598,
          0.7863993519048598,
          0
         ],
         "xaxis": "x",
         "y": [
          -1035,
          -1035,
          -1045,
          -1045
         ],
         "yaxis": "y"
        },
        {
         "hoverinfo": "text",
         "marker": {
          "color": "rgb(255,65,54)"
         },
         "mode": "lines",
         "text": [
          "document_copy_documents_review_print",
          "",
          "",
          "it_ll_sorry_morning_wednesday"
         ],
         "type": "scatter",
         "x": [
          0,
          0.6709849805382633,
          0.6709849805382633,
          0
         ],
         "xaxis": "x",
         "y": [
          -1055,
          -1055,
          -1065,
          -1065
         ],
         "yaxis": "y"
        },
        {
         "hoverinfo": "text",
         "marker": {
          "color": "rgb(255,65,54)"
         },
         "mode": "lines",
         "text": [
          "document_copy_it_documents_review",
          "",
          "",
          "them_these_remote_ll_me"
         ],
         "type": "scatter",
         "x": [
          0.6709849805382633,
          0.7086946597925208,
          0.7086946597925208,
          0
         ],
         "xaxis": "x",
         "y": [
          -1060,
          -1060,
          -1075,
          -1075
         ],
         "yaxis": "y"
        },
        {
         "hoverinfo": "text",
         "marker": {
          "color": "rgb(255,65,54)"
         },
         "mode": "lines",
         "text": [
          "meeting_prakash_india_conference_calendar",
          "",
          "",
          "document_copy_it_documents_review"
         ],
         "type": "scatter",
         "x": [
          0.7863993519048598,
          0.8181252373168616,
          0.8181252373168616,
          0.7086946597925208
         ],
         "xaxis": "x",
         "y": [
          -1040,
          -1040,
          -1067.5,
          -1067.5
         ],
         "yaxis": "y"
        },
        {
         "hoverinfo": "text",
         "marker": {
          "color": "rgb(255,65,54)"
         },
         "mode": "lines",
         "text": [
          "meeting_prakash_me_document_you",
          "",
          "",
          "requirements_demo_team_documentation_whole"
         ],
         "type": "scatter",
         "x": [
          0.8181252373168616,
          0.8497484781653633,
          0.8497484781653633,
          0
         ],
         "xaxis": "x",
         "y": [
          -1053.75,
          -1053.75,
          -1085,
          -1085
         ],
         "yaxis": "y"
        },
        {
         "hoverinfo": "text",
         "marker": {
          "color": "rgb(255,65,54)"
         },
         "mode": "lines",
         "text": [
          "fax_nda_faxes_efax_planetrx",
          "",
          "",
          "meeting_prakash_document_me_you"
         ],
         "type": "scatter",
         "x": [
          0,
          0.8835932790329616,
          0.8835932790329616,
          0.8497484781653633
         ],
         "xaxis": "x",
         "y": [
          -1025,
          -1025,
          -1069.375,
          -1069.375
         ],
         "yaxis": "y"
        },
        {
         "hoverinfo": "text",
         "marker": {
          "color": "rgb(255,65,54)"
         },
         "mode": "lines",
         "text": [
          "him_he_his_sent_me",
          "",
          "",
          "doug_ask_debbie_douga_jim"
         ],
         "type": "scatter",
         "x": [
          0,
          0.7651547535890513,
          0.7651547535890513,
          0
         ],
         "xaxis": "x",
         "y": [
          -1095,
          -1095,
          -1105,
          -1105
         ],
         "yaxis": "y"
        },
        {
         "hoverinfo": "text",
         "marker": {
          "color": "rgb(255,65,54)"
         },
         "mode": "lines",
         "text": [
          "him_he_his_sent_me",
          "",
          "",
          "her_she_alice_told_regrets"
         ],
         "type": "scatter",
         "x": [
          0.7651547535890513,
          0.8586960504269548,
          0.8586960504269548,
          0
         ],
         "xaxis": "x",
         "y": [
          -1100,
          -1100,
          -1115,
          -1115
         ],
         "yaxis": "y"
        },
        {
         "hoverinfo": "text",
         "marker": {
          "color": "rgb(255,65,54)"
         },
         "mode": "lines",
         "text": [
          "meeting_prakash_me_document_you",
          "",
          "",
          "him_he_her_she_his"
         ],
         "type": "scatter",
         "x": [
          0.8835932790329616,
          0.9619919247894299,
          0.9619919247894299,
          0.8586960504269548
         ],
         "xaxis": "x",
         "y": [
          -1047.1875,
          -1047.1875,
          -1107.5,
          -1107.5
         ],
         "yaxis": "y"
        },
        {
         "hoverinfo": "text",
         "marker": {
          "color": "rgb(255,65,54)"
         },
         "mode": "lines",
         "text": [
          "encrypted_outside_confidential_emails_unless",
          "",
          "",
          "people_person_everyone_least_many"
         ],
         "type": "scatter",
         "x": [
          0,
          0.8000652100448138,
          0.8000652100448138,
          0
         ],
         "xaxis": "x",
         "y": [
          -1125,
          -1125,
          -1135,
          -1135
         ],
         "yaxis": "y"
        },
        {
         "hoverinfo": "text",
         "marker": {
          "color": "rgb(255,65,54)"
         },
         "mode": "lines",
         "text": [
          "sent_lynch_merrill_rep_previous",
          "",
          "",
          "ago_tried_but_carry_attaching"
         ],
         "type": "scatter",
         "x": [
          0,
          0.827081327514944,
          0.827081327514944,
          0
         ],
         "xaxis": "x",
         "y": [
          -1145,
          -1145,
          -1155,
          -1155
         ],
         "yaxis": "y"
        },
        {
         "hoverinfo": "text",
         "marker": {
          "color": "rgb(255,65,54)"
         },
         "mode": "lines",
         "text": [
          "people_person_everyone_many_encrypted",
          "",
          "",
          "sent_tried_ago_since_was"
         ],
         "type": "scatter",
         "x": [
          0.8000652100448138,
          0.8946815542394213,
          0.8946815542394213,
          0.827081327514944
         ],
         "xaxis": "x",
         "y": [
          -1130,
          -1130,
          -1150,
          -1150
         ],
         "yaxis": "y"
        },
        {
         "hoverinfo": "text",
         "marker": {
          "color": "rgb(255,65,54)"
         },
         "mode": "lines",
         "text": [
          "meeting_him_he_her_me",
          "",
          "",
          "people_person_emails_everyone_many"
         ],
         "type": "scatter",
         "x": [
          0.9619919247894299,
          0.9740529611552988,
          0.9740529611552988,
          0.8946815542394213
         ],
         "xaxis": "x",
         "y": [
          -1077.34375,
          -1077.34375,
          -1140,
          -1140
         ],
         "yaxis": "y"
        },
        {
         "hoverinfo": "text",
         "marker": {
          "color": "rgb(0,116,217)"
         },
         "mode": "lines",
         "text": [
          "password_accenture_ruyben_me_reach",
          "",
          "",
          "meeting_him_he_her_it"
         ],
         "type": "scatter",
         "x": [
          1.017686183987864,
          1.0681078752203346,
          1.0681078752203346,
          0.9740529611552988
         ],
         "xaxis": "x",
         "y": [
          -976.875,
          -976.875,
          -1108.671875,
          -1108.671875
         ],
         "yaxis": "y"
        },
        {
         "hoverinfo": "text",
         "marker": {
          "color": "rgb(0,116,217)"
         },
         "mode": "lines",
         "text": [
          "status_test_bugs_bug_changes",
          "",
          "",
          "meeting_me_him_he_you"
         ],
         "type": "scatter",
         "x": [
          1.108102825176063,
          1.2194787493970372,
          1.2194787493970372,
          1.0681078752203346
         ],
         "xaxis": "x",
         "y": [
          -863.125,
          -863.125,
          -1042.7734375,
          -1042.7734375
         ],
         "yaxis": "y"
        },
        {
         "hoverinfo": "text",
         "marker": {
          "color": "rgb(35,205,205)"
         },
         "mode": "lines",
         "text": [
          "helpdesk_requests_assistance_reminder_come",
          "",
          "",
          "helpdesk_computer_request_question_related"
         ],
         "type": "scatter",
         "x": [
          0,
          0.6953861737484893,
          0.6953861737484893,
          0
         ],
         "xaxis": "x",
         "y": [
          -1175,
          -1175,
          -1185,
          -1185
         ],
         "yaxis": "y"
        },
        {
         "hoverinfo": "text",
         "marker": {
          "color": "rgb(35,205,205)"
         },
         "mode": "lines",
         "text": [
          "braganza_07_fernand_205_vacation",
          "",
          "",
          "helpdesk_request_requests_computer_assistance"
         ],
         "type": "scatter",
         "x": [
          0,
          0.899525817826344,
          0.899525817826344,
          0.6953861737484893
         ],
         "xaxis": "x",
         "y": [
          -1165,
          -1165,
          -1180,
          -1180
         ],
         "yaxis": "y"
        },
        {
         "hoverinfo": "text",
         "marker": {
          "color": "rgb(133,20,75)"
         },
         "mode": "lines",
         "text": [
          "facilities_concerns_questions_relegated_facility",
          "",
          "",
          "questions_give_hesitate_call_any"
         ],
         "type": "scatter",
         "x": [
          0,
          0.6802328407287145,
          0.6802328407287145,
          0
         ],
         "xaxis": "x",
         "y": [
          -1195,
          -1195,
          -1205,
          -1205
         ],
         "yaxis": "y"
        },
        {
         "hoverinfo": "text",
         "marker": {
          "color": "rgb(133,20,75)"
         },
         "mode": "lines",
         "text": [
          "facilities_questions_concerns_any_relegated",
          "",
          "",
          "seminar_either_attendance_advance_concerns"
         ],
         "type": "scatter",
         "x": [
          0.6802328407287145,
          0.8990669156339874,
          0.8990669156339874,
          0
         ],
         "xaxis": "x",
         "y": [
          -1200,
          -1200,
          -1215,
          -1215
         ],
         "yaxis": "y"
        },
        {
         "hoverinfo": "text",
         "marker": {
          "color": "rgb(0,116,217)"
         },
         "mode": "lines",
         "text": [
          "helpdesk_braganza_07_fernand_related",
          "",
          "",
          "facilities_concerns_questions_any_seminar"
         ],
         "type": "scatter",
         "x": [
          0.899525817826344,
          1.08759890730361,
          1.08759890730361,
          0.8990669156339874
         ],
         "xaxis": "x",
         "y": [
          -1172.5,
          -1172.5,
          -1207.5,
          -1207.5
         ],
         "yaxis": "y"
        },
        {
         "hoverinfo": "text",
         "marker": {
          "color": "rgb(255,220,0)"
         },
         "mode": "lines",
         "text": [
          "feedback_review_please_me_recommendations",
          "",
          "",
          "comments_review_pl_please_ur"
         ],
         "type": "scatter",
         "x": [
          0,
          0.7406984320065847,
          0.7406984320065847,
          0
         ],
         "xaxis": "x",
         "y": [
          -1235,
          -1235,
          -1245,
          -1245
         ],
         "yaxis": "y"
        },
        {
         "hoverinfo": "text",
         "marker": {
          "color": "rgb(255,220,0)"
         },
         "mode": "lines",
         "text": [
          "suggestions_possible_soon_as_omnisky",
          "",
          "",
          "feedback_comments_review_please_me"
         ],
         "type": "scatter",
         "x": [
          0,
          0.8619490620979919,
          0.8619490620979919,
          0.7406984320065847
         ],
         "xaxis": "x",
         "y": [
          -1225,
          -1225,
          -1240,
          -1240
         ],
         "yaxis": "y"
        },
        {
         "hoverinfo": "text",
         "marker": {
          "color": "rgb(255,220,0)"
         },
         "mode": "lines",
         "text": [
          "feedback_comments_suggestions_review_please",
          "",
          "",
          "useful_newsletter_month_twice_truly"
         ],
         "type": "scatter",
         "x": [
          0.8619490620979919,
          0.9250368740669164,
          0.9250368740669164,
          0
         ],
         "xaxis": "x",
         "y": [
          -1232.5,
          -1232.5,
          -1255,
          -1255
         ],
         "yaxis": "y"
        },
        {
         "hoverinfo": "text",
         "marker": {
          "color": "rgb(0,116,217)"
         },
         "mode": "lines",
         "text": [
          "helpdesk_facilities_concerns_questions_request",
          "",
          "",
          "feedback_comments_useful_suggestions_newsletter"
         ],
         "type": "scatter",
         "x": [
          1.08759890730361,
          1.152675540181692,
          1.152675540181692,
          0.9250368740669164
         ],
         "xaxis": "x",
         "y": [
          -1190,
          -1190,
          -1243.75,
          -1243.75
         ],
         "yaxis": "y"
        },
        {
         "hoverinfo": "text",
         "marker": {
          "color": "rgb(0,116,217)"
         },
         "mode": "lines",
         "text": [
          "me_you_meeting_will_him",
          "",
          "",
          "feedback_helpdesk_please_concerns_facilities"
         ],
         "type": "scatter",
         "x": [
          1.2194787493970372,
          1.329203867856708,
          1.329203867856708,
          1.152675540181692
         ],
         "xaxis": "x",
         "y": [
          -952.94921875,
          -952.94921875,
          -1216.875,
          -1216.875
         ],
         "yaxis": "y"
        },
        {
         "hoverinfo": "text",
         "marker": {
          "color": "rgb(40,35,35)"
         },
         "mode": "lines",
         "text": [
          "corp_inc_csco_000_qqq",
          "",
          "",
          "portfolio_index_change_20_14"
         ],
         "type": "scatter",
         "x": [
          0,
          0.4514166733486046,
          0.4514166733486046,
          0
         ],
         "xaxis": "x",
         "y": [
          -1265,
          -1265,
          -1275,
          -1275
         ],
         "yaxis": "y"
        },
        {
         "hoverinfo": "text",
         "marker": {
          "color": "rgb(61,153,112)"
         },
         "mode": "lines",
         "text": [
          "voluntarily_survey_electronically_periodically_individuals",
          "",
          "",
          "survey_questionnaire_mcwhorter_morning_answers"
         ],
         "type": "scatter",
         "x": [
          0,
          0.7572945881664568,
          0.7572945881664568,
          0
         ],
         "xaxis": "x",
         "y": [
          -1285,
          -1285,
          -1295,
          -1295
         ],
         "yaxis": "y"
        },
        {
         "hoverinfo": "text",
         "marker": {
          "color": "rgb(255,65,54)"
         },
         "mode": "lines",
         "text": [
          "fitness_novell_7348_967_ringalsbe",
          "",
          "",
          "ibm_klg_alphaworks_fogel_1998"
         ],
         "type": "scatter",
         "x": [
          0,
          0.9824376030876635,
          0.9824376030876635,
          0
         ],
         "xaxis": "x",
         "y": [
          -1315,
          -1315,
          -1325,
          -1325
         ],
         "yaxis": "y"
        },
        {
         "hoverinfo": "text",
         "marker": {
          "color": "rgb(255,65,54)"
         },
         "mode": "lines",
         "text": [
          "fitness_ibm_novell_967_7348",
          "",
          "",
          "thecounter_submissions_article_webmasters_countersubmissions"
         ],
         "type": "scatter",
         "x": [
          0.9824376030876635,
          0.9904758849317709,
          0.9904758849317709,
          0
         ],
         "xaxis": "x",
         "y": [
          -1320,
          -1320,
          -1335,
          -1335
         ],
         "yaxis": "y"
        },
        {
         "hoverinfo": "text",
         "marker": {
          "color": "rgb(255,65,54)"
         },
         "mode": "lines",
         "text": [
          "theindustrystandard_bellevue_mail_harper_hirata",
          "",
          "",
          "fitness_ibm_novell_7348_967"
         ],
         "type": "scatter",
         "x": [
          0,
          0.9990168400583089,
          0.9990168400583089,
          0.9904758849317709
         ],
         "xaxis": "x",
         "y": [
          -1305,
          -1305,
          -1327.5,
          -1327.5
         ],
         "yaxis": "y"
        },
        {
         "hoverinfo": "text",
         "marker": {
          "color": "rgb(35,205,205)"
         },
         "mode": "lines",
         "text": [
          "2002_june_25_boards_newsfeed",
          "",
          "",
          "unstrung_editors_contact_like_get"
         ],
         "type": "scatter",
         "x": [
          0,
          0.8707150796011565,
          0.8707150796011565,
          0
         ],
         "xaxis": "x",
         "y": [
          -1345,
          -1345,
          -1355,
          -1355
         ],
         "yaxis": "y"
        },
        {
         "hoverinfo": "text",
         "marker": {
          "color": "rgb(0,116,217)"
         },
         "mode": "lines",
         "text": [
          "fitness_ibm_novell_967_7348",
          "",
          "",
          "2002_unstrung_june_25_boards"
         ],
         "type": "scatter",
         "x": [
          0.9990168400583089,
          1.0235241515737514,
          1.0235241515737514,
          0.8707150796011565
         ],
         "xaxis": "x",
         "y": [
          -1316.25,
          -1316.25,
          -1350,
          -1350
         ],
         "yaxis": "y"
        },
        {
         "hoverinfo": "text",
         "marker": {
          "color": "rgb(61,153,112)"
         },
         "mode": "lines",
         "text": [
          "alert_exercise_231_monitoring_anticipates",
          "",
          "",
          "ipw______________________________________________________________________________adv_join_list4"
         ],
         "type": "scatter",
         "x": [
          0,
          0.9003430622938156,
          0.9003430622938156,
          0
         ],
         "xaxis": "x",
         "y": [
          -1375,
          -1375,
          -1385,
          -1385
         ],
         "yaxis": "y"
        },
        {
         "hoverinfo": "text",
         "marker": {
          "color": "rgb(61,153,112)"
         },
         "mode": "lines",
         "text": [
          "venturewire_technologic_copyright_digitrends_partners",
          "",
          "",
          "alert_ipw______________________________________________________________________________adv_join"
         ],
         "type": "scatter",
         "x": [
          0,
          0.9530532632255194,
          0.9530532632255194,
          0.9003430622938156
         ],
         "xaxis": "x",
         "y": [
          -1365,
          -1365,
          -1380,
          -1380
         ],
         "yaxis": "y"
        },
        {
         "hoverinfo": "text",
         "marker": {
          "color": "rgb(0,116,217)"
         },
         "mode": "lines",
         "text": [
          "2002_unstrung_june_register_25",
          "",
          "",
          "venturewire_technologic_alert_copyright_digitrends"
         ],
         "type": "scatter",
         "x": [
          1.0235241515737514,
          1.065770092761321,
          1.065770092761321,
          0.9530532632255194
         ],
         "xaxis": "x",
         "y": [
          -1333.125,
          -1333.125,
          -1372.5,
          -1372.5
         ],
         "yaxis": "y"
        },
        {
         "hoverinfo": "text",
         "marker": {
          "color": "rgb(255,65,54)"
         },
         "mode": "lines",
         "text": [
          "sms_messages_messaging_mobile_users",
          "",
          "",
          "voice_voicegenie_alerts_forget_voicexml"
         ],
         "type": "scatter",
         "x": [
          0,
          0.817742458400181,
          0.817742458400181,
          0
         ],
         "xaxis": "x",
         "y": [
          -1405,
          -1405,
          -1415,
          -1415
         ],
         "yaxis": "y"
        },
        {
         "hoverinfo": "text",
         "marker": {
          "color": "rgb(255,65,54)"
         },
         "mode": "lines",
         "text": [
          "instant____________________________________________________alerts_messages_yahoo",
          "",
          "",
          "sms_messages_messaging_mobile_users"
         ],
         "type": "scatter",
         "x": [
          0,
          0.9127386129828586,
          0.9127386129828586,
          0.817742458400181
         ],
         "xaxis": "x",
         "y": [
          -1395,
          -1395,
          -1410,
          -1410
         ],
         "yaxis": "y"
        },
        {
         "hoverinfo": "text",
         "marker": {
          "color": "rgb(35,205,205)"
         },
         "mode": "lines",
         "text": [
          "rim_rimulator_dds_amit_relay",
          "",
          "",
          "promotion_outgoing_competitors_limited_enter"
         ],
         "type": "scatter",
         "x": [
          0,
          0.8531299929034817,
          0.8531299929034817,
          0
         ],
         "xaxis": "x",
         "y": [
          -1425,
          -1425,
          -1435,
          -1435
         ],
         "yaxis": "y"
        },
        {
         "hoverinfo": "text",
         "marker": {
          "color": "rgb(35,205,205)"
         },
         "mode": "lines",
         "text": [
          "rim_promotion_outgoing_competitors_limited",
          "",
          "",
          "leading_factual_replacement_sig_mobility"
         ],
         "type": "scatter",
         "x": [
          0.8531299929034817,
          0.9943662745462151,
          0.9943662745462151,
          0
         ],
         "xaxis": "x",
         "y": [
          -1430,
          -1430,
          -1445,
          -1445
         ],
         "yaxis": "y"
        },
        {
         "hoverinfo": "text",
         "marker": {
          "color": "rgb(0,116,217)"
         },
         "mode": "lines",
         "text": [
          "messages_sms_messaging_mobile_alerts",
          "",
          "",
          "rim_along_company_promotion_leading"
         ],
         "type": "scatter",
         "x": [
          0.9127386129828586,
          1.0576049775135339,
          1.0576049775135339,
          0.9943662745462151
         ],
         "xaxis": "x",
         "y": [
          -1402.5,
          -1402.5,
          -1437.5,
          -1437.5
         ],
         "yaxis": "y"
        },
        {
         "hoverinfo": "text",
         "marker": {
          "color": "rgb(0,116,217)"
         },
         "mode": "lines",
         "text": [
          "venturewire_2002_unstrung_register_technologic",
          "",
          "",
          "messages_sms_messaging_rim_mobile"
         ],
         "type": "scatter",
         "x": [
          1.065770092761321,
          1.0908754216550465,
          1.0908754216550465,
          1.0576049775135339
         ],
         "xaxis": "x",
         "y": [
          -1352.8125,
          -1352.8125,
          -1420,
          -1420
         ],
         "yaxis": "y"
        },
        {
         "hoverinfo": "text",
         "marker": {
          "color": "rgb(0,116,217)"
         },
         "mode": "lines",
         "text": [
          "survey_voluntarily_electronically_periodically_questionnaire",
          "",
          "",
          "venturewire_2002_unstrung_messages_register"
         ],
         "type": "scatter",
         "x": [
          0.7572945881664568,
          1.1281013979467491,
          1.1281013979467491,
          1.0908754216550465
         ],
         "xaxis": "x",
         "y": [
          -1290,
          -1290,
          -1386.40625,
          -1386.40625
         ],
         "yaxis": "y"
        },
        {
         "hoverinfo": "text",
         "marker": {
          "color": "rgb(133,20,75)"
         },
         "mode": "lines",
         "text": [
          "____apply_resume_salary_cover",
          "",
          "",
          "resume_resumes_my_job_candidates"
         ],
         "type": "scatter",
         "x": [
          0,
          0.7687993864272242,
          0.7687993864272242,
          0
         ],
         "xaxis": "x",
         "y": [
          -1455,
          -1455,
          -1465,
          -1465
         ],
         "yaxis": "y"
        },
        {
         "hoverinfo": "text",
         "marker": {
          "color": "rgb(0,116,217)"
         },
         "mode": "lines",
         "text": [
          "venturewire_2002_unstrung_messages_register",
          "",
          "",
          "resume_____apply_salary_cover"
         ],
         "type": "scatter",
         "x": [
          1.1281013979467491,
          1.1404292097242437,
          1.1404292097242437,
          0.7687993864272242
         ],
         "xaxis": "x",
         "y": [
          -1338.203125,
          -1338.203125,
          -1460,
          -1460
         ],
         "yaxis": "y"
        },
        {
         "hoverinfo": "text",
         "marker": {
          "color": "rgb(255,220,0)"
         },
         "mode": "lines",
         "text": [
          "horizontal_formatted_large_excel_spreadsheet",
          "",
          "",
          "spreadsheet_excel_sheet_inventory_replenish"
         ],
         "type": "scatter",
         "x": [
          0,
          0.7667472630263443,
          0.7667472630263443,
          0
         ],
         "xaxis": "x",
         "y": [
          -1475,
          -1475,
          -1485,
          -1485
         ],
         "yaxis": "y"
        },
        {
         "hoverinfo": "text",
         "marker": {
          "color": "rgb(40,35,35)"
         },
         "mode": "lines",
         "text": [
          "inadvertently_solicit_didn_some_know",
          "",
          "",
          "ip_external_internal_152_120"
         ],
         "type": "scatter",
         "x": [
          0,
          0.9815032906290823,
          0.9815032906290823,
          0
         ],
         "xaxis": "x",
         "y": [
          -1495,
          -1495,
          -1505,
          -1505
         ],
         "yaxis": "y"
        },
        {
         "hoverinfo": "text",
         "marker": {
          "color": "rgb(40,35,35)"
         },
         "mode": "lines",
         "text": [
          "big_soaring_techniques_cities_competitor",
          "",
          "",
          "specials_iflyswa_trip_southwest_travel"
         ],
         "type": "scatter",
         "x": [
          0,
          0.9586379808603382,
          0.9586379808603382,
          0
         ],
         "xaxis": "x",
         "y": [
          -1525,
          -1525,
          -1535,
          -1535
         ],
         "yaxis": "y"
        },
        {
         "hoverinfo": "text",
         "marker": {
          "color": "rgb(40,35,35)"
         },
         "mode": "lines",
         "text": [
          "kimberlie_synopsis_lawsuit_informed_european",
          "",
          "",
          "specials_iflyswa_trip_southwest_big"
         ],
         "type": "scatter",
         "x": [
          0,
          0.9737797590625803,
          0.9737797590625803,
          0.9586379808603382
         ],
         "xaxis": "x",
         "y": [
          -1515,
          -1515,
          -1530,
          -1530
         ],
         "yaxis": "y"
        },
        {
         "hoverinfo": "text",
         "marker": {
          "color": "rgb(40,35,35)"
         },
         "mode": "lines",
         "text": [
          "kimberlie_specials_iflyswa_trip_southwest",
          "",
          "",
          "resumes_dropping_schedules_noticed_desk"
         ],
         "type": "scatter",
         "x": [
          0.9737797590625803,
          0.9848218403362095,
          0.9848218403362095,
          0
         ],
         "xaxis": "x",
         "y": [
          -1522.5,
          -1522.5,
          -1545,
          -1545
         ],
         "yaxis": "y"
        },
        {
         "hoverinfo": "text",
         "marker": {
          "color": "rgb(40,35,35)"
         },
         "mode": "lines",
         "text": [
          "ip_external_internal_inadvertently_solicit",
          "",
          "",
          "kimberlie_noticed_resumes_dropping_schedules"
         ],
         "type": "scatter",
         "x": [
          0.9815032906290823,
          0.9965151202334135,
          0.9965151202334135,
          0.9848218403362095
         ],
         "xaxis": "x",
         "y": [
          -1500,
          -1500,
          -1533.75,
          -1533.75
         ],
         "yaxis": "y"
        },
        {
         "hoverinfo": "text",
         "marker": {
          "color": "rgb(61,153,112)"
         },
         "mode": "lines",
         "text": [
          "gift_certificate_gifts_ticketmaster_choice",
          "",
          "",
          "invite_invitations_invites_evite_online"
         ],
         "type": "scatter",
         "x": [
          0,
          0.9161186538783183,
          0.9161186538783183,
          0
         ],
         "xaxis": "x",
         "y": [
          -1555,
          -1555,
          -1565,
          -1565
         ],
         "yaxis": "y"
        },
        {
         "hoverinfo": "text",
         "marker": {
          "color": "rgb(61,153,112)"
         },
         "mode": "lines",
         "text": [
          "invite_invitations_gift_certificate_invites",
          "",
          "",
          "procedure_next_week_new_helps"
         ],
         "type": "scatter",
         "x": [
          0.9161186538783183,
          0.9735438925284756,
          0.9735438925284756,
          0
         ],
         "xaxis": "x",
         "y": [
          -1560,
          -1560,
          -1575,
          -1575
         ],
         "yaxis": "y"
        },
        {
         "hoverinfo": "text",
         "marker": {
          "color": "rgb(0,116,217)"
         },
         "mode": "lines",
         "text": [
          "ip_external_internal_kimberlie_inadvertently",
          "",
          "",
          "invite_procedure_invitations_gift_certificate"
         ],
         "type": "scatter",
         "x": [
          0.9965151202334135,
          1.0027144071931164,
          1.0027144071931164,
          0.9735438925284756
         ],
         "xaxis": "x",
         "y": [
          -1516.875,
          -1516.875,
          -1567.5,
          -1567.5
         ],
         "yaxis": "y"
        },
        {
         "hoverinfo": "text",
         "marker": {
          "color": "rgb(255,65,54)"
         },
         "mode": "lines",
         "text": [
          "invoice_check_payment_fedex_ups",
          "",
          "",
          "packages_options_fedex_several_credit"
         ],
         "type": "scatter",
         "x": [
          0,
          0.811045837251975,
          0.811045837251975,
          0
         ],
         "xaxis": "x",
         "y": [
          -1585,
          -1585,
          -1595,
          -1595
         ],
         "yaxis": "y"
        },
        {
         "hoverinfo": "text",
         "marker": {
          "color": "rgb(0,116,217)"
         },
         "mode": "lines",
         "text": [
          "ip_external_internal_kimberlie_invite",
          "",
          "",
          "fedex_invoice_check_payment_ups"
         ],
         "type": "scatter",
         "x": [
          1.0027144071931164,
          1.0416758508895998,
          1.0416758508895998,
          0.811045837251975
         ],
         "xaxis": "x",
         "y": [
          -1542.1875,
          -1542.1875,
          -1590,
          -1590
         ],
         "yaxis": "y"
        },
        {
         "hoverinfo": "text",
         "marker": {
          "color": "rgb(35,205,205)"
         },
         "mode": "lines",
         "text": [
          "pc_installed_howard_image_possible",
          "",
          "",
          "om_them_answers_mixes_talents"
         ],
         "type": "scatter",
         "x": [
          0,
          0.9275771667794391,
          0.9275771667794391,
          0
         ],
         "xaxis": "x",
         "y": [
          -1615,
          -1615,
          -1625,
          -1625
         ],
         "yaxis": "y"
        },
        {
         "hoverinfo": "text",
         "marker": {
          "color": "rgb(35,205,205)"
         },
         "mode": "lines",
         "text": [
          "pictures_picture_jpegs_jpg_photos",
          "",
          "",
          "pc_them_om_installed_howard"
         ],
         "type": "scatter",
         "x": [
          0,
          0.9429461660554792,
          0.9429461660554792,
          0.9275771667794391
         ],
         "xaxis": "x",
         "y": [
          -1605,
          -1605,
          -1620,
          -1620
         ],
         "yaxis": "y"
        },
        {
         "hoverinfo": "text",
         "marker": {
          "color": "rgb(35,205,205)"
         },
         "mode": "lines",
         "text": [
          "pictures_them_picture_pc_jpegs",
          "",
          "",
          "resend_shawn_res_can_somehow"
         ],
         "type": "scatter",
         "x": [
          0.9429461660554792,
          0.9760349229466022,
          0.9760349229466022,
          0
         ],
         "xaxis": "x",
         "y": [
          -1612.5,
          -1612.5,
          -1635,
          -1635
         ],
         "yaxis": "y"
        },
        {
         "hoverinfo": "text",
         "marker": {
          "color": "rgb(0,116,217)"
         },
         "mode": "lines",
         "text": [
          "ip_external_fedex_internal_kimberlie",
          "",
          "",
          "resend_pictures_them_picture_pc"
         ],
         "type": "scatter",
         "x": [
          1.0416758508895998,
          1.0531307390495057,
          1.0531307390495057,
          0.9760349229466022
         ],
         "xaxis": "x",
         "y": [
          -1566.09375,
          -1566.09375,
          -1623.75,
          -1623.75
         ],
         "yaxis": "y"
        },
        {
         "hoverinfo": "text",
         "marker": {
          "color": "rgb(0,116,217)"
         },
         "mode": "lines",
         "text": [
          "spreadsheet_excel_horizontal_formatted_large",
          "",
          "",
          "ip_external_fedex_internal_them"
         ],
         "type": "scatter",
         "x": [
          0.7667472630263443,
          1.1035351903167343,
          1.1035351903167343,
          1.0531307390495057
         ],
         "xaxis": "x",
         "y": [
          -1480,
          -1480,
          -1594.921875,
          -1594.921875
         ],
         "yaxis": "y"
        },
        {
         "hoverinfo": "text",
         "marker": {
          "color": "rgb(61,153,112)"
         },
         "mode": "lines",
         "text": [
          "signed_legal_copy_satisfactory_hitech",
          "",
          "",
          "contract_agreement_signed_copy_trish"
         ],
         "type": "scatter",
         "x": [
          0,
          0.754332207421206,
          0.754332207421206,
          0
         ],
         "xaxis": "x",
         "y": [
          -1645,
          -1645,
          -1655,
          -1655
         ],
         "yaxis": "y"
        },
        {
         "hoverinfo": "text",
         "marker": {
          "color": "rgb(255,65,54)"
         },
         "mode": "lines",
         "text": [
          "team_hp_sap_badge_others",
          "",
          "",
          "hp_brodia_resells_discount_a500"
         ],
         "type": "scatter",
         "x": [
          0,
          0.822770911164634,
          0.822770911164634,
          0
         ],
         "xaxis": "x",
         "y": [
          -1665,
          -1665,
          -1675,
          -1675
         ],
         "yaxis": "y"
        },
        {
         "hoverinfo": "text",
         "marker": {
          "color": "rgb(35,205,205)"
         },
         "mode": "lines",
         "text": [
          "journals_regulations_expressed_desire_newsletter",
          "",
          "",
          "wireless_initiative_solution_leads_developing"
         ],
         "type": "scatter",
         "x": [
          0,
          0.888672864564623,
          0.888672864564623,
          0
         ],
         "xaxis": "x",
         "y": [
          -1685,
          -1685,
          -1695,
          -1695
         ],
         "yaxis": "y"
        },
        {
         "hoverinfo": "text",
         "marker": {
          "color": "rgb(133,20,75)"
         },
         "mode": "lines",
         "text": [
          "apologize_marketing_barry_grammatical_8016",
          "",
          "",
          "gartner_pearce_ashley_yes_reason"
         ],
         "type": "scatter",
         "x": [
          0,
          0.9313123969626191,
          0.9313123969626191,
          0
         ],
         "xaxis": "x",
         "y": [
          -1715,
          -1715,
          -1725,
          -1725
         ],
         "yaxis": "y"
        },
        {
         "hoverinfo": "text",
         "marker": {
          "color": "rgb(133,20,75)"
         },
         "mode": "lines",
         "text": [
          "extension_blocked_interfere_someone_rare",
          "",
          "",
          "gartner_apologize_pearce_ashley_marketing"
         ],
         "type": "scatter",
         "x": [
          0,
          0.9706214325138024,
          0.9706214325138024,
          0.9313123969626191
         ],
         "xaxis": "x",
         "y": [
          -1705,
          -1705,
          -1720,
          -1720
         ],
         "yaxis": "y"
        },
        {
         "hoverinfo": "text",
         "marker": {
          "color": "rgb(255,220,0)"
         },
         "mode": "lines",
         "text": [
          "accepted_recently_bid_digital_audio",
          "",
          "",
          "pipeline_pls_rep_cw_sales"
         ],
         "type": "scatter",
         "x": [
          0,
          0.9521365664103942,
          0.9521365664103942,
          0
         ],
         "xaxis": "x",
         "y": [
          -1735,
          -1735,
          -1745,
          -1745
         ],
         "yaxis": "y"
        },
        {
         "hoverinfo": "text",
         "marker": {
          "color": "rgb(0,116,217)"
         },
         "mode": "lines",
         "text": [
          "gartner_extension_apologize_blocked_interfere",
          "",
          "",
          "accepted_recently_bid_digital_audio"
         ],
         "type": "scatter",
         "x": [
          0.9706214325138024,
          1.0015720801225578,
          1.0015720801225578,
          0.9521365664103942
         ],
         "xaxis": "x",
         "y": [
          -1712.5,
          -1712.5,
          -1740,
          -1740
         ],
         "yaxis": "y"
        },
        {
         "hoverinfo": "text",
         "marker": {
          "color": "rgb(0,116,217)"
         },
         "mode": "lines",
         "text": [
          "wireless_journals_regulations_expressed_desire",
          "",
          "",
          "gartner_recently_accepted_bid_extension"
         ],
         "type": "scatter",
         "x": [
          0.888672864564623,
          1.0159651452324665,
          1.0159651452324665,
          1.0015720801225578
         ],
         "xaxis": "x",
         "y": [
          -1690,
          -1690,
          -1726.25,
          -1726.25
         ],
         "yaxis": "y"
        },
        {
         "hoverinfo": "text",
         "marker": {
          "color": "rgb(40,35,35)"
         },
         "mode": "lines",
         "text": [
          "customers_persons_we_intranet_partners",
          "",
          "",
          "presentation_slides_presentations_slide_sales"
         ],
         "type": "scatter",
         "x": [
          0,
          0.8620633288949942,
          0.8620633288949942,
          0
         ],
         "xaxis": "x",
         "y": [
          -1765,
          -1765,
          -1775,
          -1775
         ],
         "yaxis": "y"
        },
        {
         "hoverinfo": "text",
         "marker": {
          "color": "rgb(40,35,35)"
         },
         "mode": "lines",
         "text": [
          "training_someone_class_rsdm_sdm",
          "",
          "",
          "show_pre_planning_tradeshow_marilisa"
         ],
         "type": "scatter",
         "x": [
          0,
          0.8422050389335265,
          0.8422050389335265,
          0
         ],
         "xaxis": "x",
         "y": [
          -1785,
          -1785,
          -1795,
          -1795
         ],
         "yaxis": "y"
        },
        {
         "hoverinfo": "text",
         "marker": {
          "color": "rgb(40,35,35)"
         },
         "mode": "lines",
         "text": [
          "presentation_slides_presentations_slide_customers",
          "",
          "",
          "show_training_pre_planning_tradeshow"
         ],
         "type": "scatter",
         "x": [
          0.8620633288949942,
          0.9119047577799224,
          0.9119047577799224,
          0.8422050389335265
         ],
         "xaxis": "x",
         "y": [
          -1770,
          -1770,
          -1790,
          -1790
         ],
         "yaxis": "y"
        },
        {
         "hoverinfo": "text",
         "marker": {
          "color": "rgb(40,35,35)"
         },
         "mode": "lines",
         "text": [
          "presentation_show_training_pre_planning",
          "",
          "",
          "logo_logos_rushed_appliance_emma"
         ],
         "type": "scatter",
         "x": [
          0.9119047577799224,
          0.9260715575489078,
          0.9260715575489078,
          0
         ],
         "xaxis": "x",
         "y": [
          -1780,
          -1780,
          -1805,
          -1805
         ],
         "yaxis": "y"
        },
        {
         "hoverinfo": "text",
         "marker": {
          "color": "rgb(40,35,35)"
         },
         "mode": "lines",
         "text": [
          "venk_thinque_banc_montreal_silence",
          "",
          "",
          "presentation_show_training_pre_planning"
         ],
         "type": "scatter",
         "x": [
          0,
          0.9769276570170917,
          0.9769276570170917,
          0.9260715575489078
         ],
         "xaxis": "x",
         "y": [
          -1755,
          -1755,
          -1792.5,
          -1792.5
         ],
         "yaxis": "y"
        },
        {
         "hoverinfo": "text",
         "marker": {
          "color": "rgb(61,153,112)"
         },
         "mode": "lines",
         "text": [
          "releases_press_types_wire_notifications",
          "",
          "",
          "investment_ntt_relationship_hosoya_kosaka"
         ],
         "type": "scatter",
         "x": [
          0,
          0.9141660428545879,
          0.9141660428545879,
          0
         ],
         "xaxis": "x",
         "y": [
          -1815,
          -1815,
          -1825,
          -1825
         ],
         "yaxis": "y"
        },
        {
         "hoverinfo": "text",
         "marker": {
          "color": "rgb(0,116,217)"
         },
         "mode": "lines",
         "text": [
          "presentation_show_training_pre_planning",
          "",
          "",
          "investment_press_ntt_relationship_releases"
         ],
         "type": "scatter",
         "x": [
          0.9769276570170917,
          1.0222605287600064,
          1.0222605287600064,
          0.9141660428545879
         ],
         "xaxis": "x",
         "y": [
          -1773.75,
          -1773.75,
          -1820,
          -1820
         ],
         "yaxis": "y"
        },
        {
         "hoverinfo": "text",
         "marker": {
          "color": "rgb(0,116,217)"
         },
         "mode": "lines",
         "text": [
          "wireless_gartner_recently_accepted_bid",
          "",
          "",
          "training_presentation_show_planning_press"
         ],
         "type": "scatter",
         "x": [
          1.0159651452324665,
          1.0523957049362858,
          1.0523957049362858,
          1.0222605287600064
         ],
         "xaxis": "x",
         "y": [
          -1708.125,
          -1708.125,
          -1796.875,
          -1796.875
         ],
         "yaxis": "y"
        },
        {
         "hoverinfo": "text",
         "marker": {
          "color": "rgb(255,65,54)"
         },
         "mode": "lines",
         "text": [
          "days_activities_action_appt_account",
          "",
          "",
          "document_goign_task_ui_powers"
         ],
         "type": "scatter",
         "x": [
          0,
          0.9072495549497555,
          0.9072495549497555,
          0
         ],
         "xaxis": "x",
         "y": [
          -1835,
          -1835,
          -1845,
          -1845
         ],
         "yaxis": "y"
        },
        {
         "hoverinfo": "text",
         "marker": {
          "color": "rgb(255,65,54)"
         },
         "mode": "lines",
         "text": [
          "days_activities_action_appt_account",
          "",
          "",
          "translation_separated_feb_ui_translate"
         ],
         "type": "scatter",
         "x": [
          0.9072495549497555,
          0.9490397942448753,
          0.9490397942448753,
          0
         ],
         "xaxis": "x",
         "y": [
          -1840,
          -1840,
          -1855,
          -1855
         ],
         "yaxis": "y"
        },
        {
         "hoverinfo": "text",
         "marker": {
          "color": "rgb(35,205,205)"
         },
         "mode": "lines",
         "text": [
          "rfp_rfi_response_they_bidders",
          "",
          "",
          "rate_determine_versions_generate_response"
         ],
         "type": "scatter",
         "x": [
          0,
          0.9017733126171862,
          0.9017733126171862,
          0
         ],
         "xaxis": "x",
         "y": [
          -1875,
          -1875,
          -1885,
          -1885
         ],
         "yaxis": "y"
        },
        {
         "hoverinfo": "text",
         "marker": {
          "color": "rgb(35,205,205)"
         },
         "mode": "lines",
         "text": [
          "biogen_973_announce_generate_bios",
          "",
          "",
          "rfp_response_rate_determine_versions"
         ],
         "type": "scatter",
         "x": [
          0,
          0.9455468491128344,
          0.9455468491128344,
          0.9017733126171862
         ],
         "xaxis": "x",
         "y": [
          -1865,
          -1865,
          -1880,
          -1880
         ],
         "yaxis": "y"
        },
        {
         "hoverinfo": "text",
         "marker": {
          "color": "rgb(35,205,205)"
         },
         "mode": "lines",
         "text": [
          "rfp_response_biogen_rate_generate",
          "",
          "",
          "scoping_analysis_doc_scope_estimated"
         ],
         "type": "scatter",
         "x": [
          0.9455468491128344,
          0.9756913674600362,
          0.9756913674600362,
          0
         ],
         "xaxis": "x",
         "y": [
          -1872.5,
          -1872.5,
          -1895,
          -1895
         ],
         "yaxis": "y"
        },
        {
         "hoverinfo": "text",
         "marker": {
          "color": "rgb(0,116,217)"
         },
         "mode": "lines",
         "text": [
          "days_activities_action_appt_account",
          "",
          "",
          "scoping_rfp_response_biogen_rate"
         ],
         "type": "scatter",
         "x": [
          0.9490397942448753,
          1.0312027771640981,
          1.0312027771640981,
          0.9756913674600362
         ],
         "xaxis": "x",
         "y": [
          -1847.5,
          -1847.5,
          -1883.75,
          -1883.75
         ],
         "yaxis": "y"
        },
        {
         "hoverinfo": "text",
         "marker": {
          "color": "rgb(0,116,217)"
         },
         "mode": "lines",
         "text": [
          "wireless_presentation_training_show_for",
          "",
          "",
          "days_scoping_activities_rfp_action"
         ],
         "type": "scatter",
         "x": [
          1.0523957049362858,
          1.0691158237385763,
          1.0691158237385763,
          1.0312027771640981
         ],
         "xaxis": "x",
         "y": [
          -1752.5,
          -1752.5,
          -1865.625,
          -1865.625
         ],
         "yaxis": "y"
        },
        {
         "hoverinfo": "text",
         "marker": {
          "color": "rgb(0,116,217)"
         },
         "mode": "lines",
         "text": [
          "hp_team_sap_badge_hp9000",
          "",
          "",
          "wireless_training_presentation_sales_for"
         ],
         "type": "scatter",
         "x": [
          0.822770911164634,
          1.0772042422604375,
          1.0772042422604375,
          1.0691158237385763
         ],
         "xaxis": "x",
         "y": [
          -1670,
          -1670,
          -1809.0625,
          -1809.0625
         ],
         "yaxis": "y"
        },
        {
         "hoverinfo": "text",
         "marker": {
          "color": "rgb(0,116,217)"
         },
         "mode": "lines",
         "text": [
          "contract_agreement_signed_copy_george",
          "",
          "",
          "wireless_training_presentation_sales_for"
         ],
         "type": "scatter",
         "x": [
          0.754332207421206,
          1.105215076929823,
          1.105215076929823,
          1.0772042422604375
         ],
         "xaxis": "x",
         "y": [
          -1650,
          -1650,
          -1739.53125,
          -1739.53125
         ],
         "yaxis": "y"
        },
        {
         "hoverinfo": "text",
         "marker": {
          "color": "rgb(0,116,217)"
         },
         "mode": "lines",
         "text": [
          "ip_external_spreadsheet_excel_them",
          "",
          "",
          "wireless_training_presentation_for_sales"
         ],
         "type": "scatter",
         "x": [
          1.1035351903167343,
          1.1263168647389694,
          1.1263168647389694,
          1.105215076929823
         ],
         "xaxis": "x",
         "y": [
          -1537.4609375,
          -1537.4609375,
          -1694.765625,
          -1694.765625
         ],
         "yaxis": "y"
        },
        {
         "hoverinfo": "text",
         "marker": {
          "color": "rgb(0,116,217)"
         },
         "mode": "lines",
         "text": [
          "venturewire_2002_unstrung_messages_register",
          "",
          "",
          "ip_we_for_wireless_have"
         ],
         "type": "scatter",
         "x": [
          1.1404292097242437,
          1.1587242497378722,
          1.1587242497378722,
          1.1263168647389694
         ],
         "xaxis": "x",
         "y": [
          -1399.1015625,
          -1399.1015625,
          -1616.11328125,
          -1616.11328125
         ],
         "yaxis": "y"
        },
        {
         "hoverinfo": "text",
         "marker": {
          "color": "rgb(61,153,112)"
         },
         "mode": "lines",
         "text": [
          "card_cards_greeting_greetings_bluemountain",
          "",
          "",
          "music_greeting_valentine_mp3_day"
         ],
         "type": "scatter",
         "x": [
          0,
          0.6931976650084193,
          0.6931976650084193,
          0
         ],
         "xaxis": "x",
         "y": [
          -1905,
          -1905,
          -1915,
          -1915
         ],
         "yaxis": "y"
        },
        {
         "hoverinfo": "text",
         "marker": {
          "color": "rgb(0,116,217)"
         },
         "mode": "lines",
         "text": [
          "wireless_venturewire_2002_for_us",
          "",
          "",
          "greeting_card_music_cards_valentine"
         ],
         "type": "scatter",
         "x": [
          1.1587242497378722,
          1.1776845939423866,
          1.1776845939423866,
          0.6931976650084193
         ],
         "xaxis": "x",
         "y": [
          -1507.607421875,
          -1507.607421875,
          -1910,
          -1910
         ],
         "yaxis": "y"
        },
        {
         "hoverinfo": "text",
         "marker": {
          "color": "rgb(0,116,217)"
         },
         "mode": "lines",
         "text": [
          "change_index_portfolio_000_14",
          "",
          "",
          "wireless_venturewire_for_2002_us"
         ],
         "type": "scatter",
         "x": [
          0.4514166733486046,
          1.3337280032567544,
          1.3337280032567544,
          1.1776845939423866
         ],
         "xaxis": "x",
         "y": [
          -1270,
          -1270,
          -1708.8037109375,
          -1708.8037109375
         ],
         "yaxis": "y"
        },
        {
         "hoverinfo": "text",
         "marker": {
          "color": "rgb(255,65,54)"
         },
         "mode": "lines",
         "text": [
          "trade_managing_notification_being_issue",
          "",
          "",
          "p1_trade_managing_notification_being"
         ],
         "type": "scatter",
         "x": [
          0,
          0.3952523384980393,
          0.3952523384980393,
          0
         ],
         "xaxis": "x",
         "y": [
          -1925,
          -1925,
          -1935,
          -1935
         ],
         "yaxis": "y"
        },
        {
         "hoverinfo": "text",
         "marker": {
          "color": "rgb(35,205,205)"
         },
         "mode": "lines",
         "text": [
          "interpreter_instantiate_kbkids_aml_ae",
          "",
          "",
          "aml_page_file_starting_switch"
         ],
         "type": "scatter",
         "x": [
          0,
          0.754705247918518,
          0.754705247918518,
          0
         ],
         "xaxis": "x",
         "y": [
          -1945,
          -1945,
          -1955,
          -1955
         ],
         "yaxis": "y"
        },
        {
         "hoverinfo": "text",
         "marker": {
          "color": "rgb(133,20,75)"
         },
         "mode": "lines",
         "text": [
          "zaplet_pocketpc_render_screen_divider",
          "",
          "",
          "palm_emulator_pocketpc_application_vii"
         ],
         "type": "scatter",
         "x": [
          0,
          0.813762894004786,
          0.813762894004786,
          0
         ],
         "xaxis": "x",
         "y": [
          -1965,
          -1965,
          -1975,
          -1975
         ],
         "yaxis": "y"
        },
        {
         "hoverinfo": "text",
         "marker": {
          "color": "rgb(133,20,75)"
         },
         "mode": "lines",
         "text": [
          "palm_pocketpc_emulator_screen_image",
          "",
          "",
          "pqa_updated_test_application_icap"
         ],
         "type": "scatter",
         "x": [
          0.813762894004786,
          0.8971510439691484,
          0.8971510439691484,
          0
         ],
         "xaxis": "x",
         "y": [
          -1970,
          -1970,
          -1985,
          -1985
         ],
         "yaxis": "y"
        },
        {
         "hoverinfo": "text",
         "marker": {
          "color": "rgb(133,20,75)"
         },
         "mode": "lines",
         "text": [
          "darshan_cert_vinayak_regarding_adrian",
          "",
          "",
          "url_salesep_redirect_announcement_working"
         ],
         "type": "scatter",
         "x": [
          0,
          0.9176871554185274,
          0.9176871554185274,
          0
         ],
         "xaxis": "x",
         "y": [
          -1995,
          -1995,
          -2005,
          -2005
         ],
         "yaxis": "y"
        },
        {
         "hoverinfo": "text",
         "marker": {
          "color": "rgb(133,20,75)"
         },
         "mode": "lines",
         "text": [
          "url_darshan_salesep_redirect_announcement",
          "",
          "",
          "1661389_pager_pin_weblinkwireless_sendamessage"
         ],
         "type": "scatter",
         "x": [
          0.9176871554185274,
          0.9567397793395969,
          0.9567397793395969,
          0
         ],
         "xaxis": "x",
         "y": [
          -2000,
          -2000,
          -2015,
          -2015
         ],
         "yaxis": "y"
        },
        {
         "hoverinfo": "text",
         "marker": {
          "color": "rgb(133,20,75)"
         },
         "mode": "lines",
         "text": [
          "pqa_palm_pocketpc_emulator_screen",
          "",
          "",
          "url_1661389_pager_pin_darshan"
         ],
         "type": "scatter",
         "x": [
          0.8971510439691484,
          0.9978919230492597,
          0.9978919230492597,
          0.9567397793395969
         ],
         "xaxis": "x",
         "y": [
          -1977.5,
          -1977.5,
          -2007.5,
          -2007.5
         ],
         "yaxis": "y"
        },
        {
         "hoverinfo": "text",
         "marker": {
          "color": "rgb(0,116,217)"
         },
         "mode": "lines",
         "text": [
          "aml_page_interpreter_instantiate_kbkids",
          "",
          "",
          "pqa_palm_url_pocketpc_darshan"
         ],
         "type": "scatter",
         "x": [
          0.754705247918518,
          1.079083547675703,
          1.079083547675703,
          0.9978919230492597
         ],
         "xaxis": "x",
         "y": [
          -1950,
          -1950,
          -1992.5,
          -1992.5
         ],
         "yaxis": "y"
        },
        {
         "hoverinfo": "text",
         "marker": {
          "color": "rgb(255,220,0)"
         },
         "mode": "lines",
         "text": [
          "jsp_seebeyond_epservlet_response_server",
          "",
          "",
          "server_client_sync_response_trigger"
         ],
         "type": "scatter",
         "x": [
          0,
          0.7921953415106515,
          0.7921953415106515,
          0
         ],
         "xaxis": "x",
         "y": [
          -2025,
          -2025,
          -2035,
          -2035
         ],
         "yaxis": "y"
        },
        {
         "hoverinfo": "text",
         "marker": {
          "color": "rgb(255,220,0)"
         },
         "mode": "lines",
         "text": [
          "wml_simulator_emas_xml_nokia",
          "",
          "",
          "br_default_alive_emas_mex"
         ],
         "type": "scatter",
         "x": [
          0,
          0.863338150402394,
          0.863338150402394,
          0
         ],
         "xaxis": "x",
         "y": [
          -2045,
          -2045,
          -2055,
          -2055
         ],
         "yaxis": "y"
        },
        {
         "hoverinfo": "text",
         "marker": {
          "color": "rgb(255,220,0)"
         },
         "mode": "lines",
         "text": [
          "jsp_server_client_response_sends",
          "",
          "",
          "wml_emas_simulator_br_default"
         ],
         "type": "scatter",
         "x": [
          0.7921953415106515,
          0.9263972312305175,
          0.9263972312305175,
          0.863338150402394
         ],
         "xaxis": "x",
         "y": [
          -2030,
          -2030,
          -2050,
          -2050
         ],
         "yaxis": "y"
        },
        {
         "hoverinfo": "text",
         "marker": {
          "color": "rgb(0,116,217)"
         },
         "mode": "lines",
         "text": [
          "pqa_aml_palm_url_page",
          "",
          "",
          "server_jsp_wml_client_sends"
         ],
         "type": "scatter",
         "x": [
          1.079083547675703,
          1.0926523954468772,
          1.0926523954468772,
          0.9263972312305175
         ],
         "xaxis": "x",
         "y": [
          -1971.25,
          -1971.25,
          -2040,
          -2040
         ],
         "yaxis": "y"
        },
        {
         "hoverinfo": "text",
         "marker": {
          "color": "rgb(40,35,35)"
         },
         "mode": "lines",
         "text": [
          "oca_osa_error_log_duplicate",
          "",
          "",
          "logs_log_duplicate_files_component"
         ],
         "type": "scatter",
         "x": [
          0,
          0.8260720652637168,
          0.8260720652637168,
          0
         ],
         "xaxis": "x",
         "y": [
          -2065,
          -2065,
          -2075,
          -2075
         ],
         "yaxis": "y"
        },
        {
         "hoverinfo": "text",
         "marker": {
          "color": "rgb(61,153,112)"
         },
         "mode": "lines",
         "text": [
          "zip_content_base64_carfax_attachment",
          "",
          "",
          "file_files_me_noise_thats"
         ],
         "type": "scatter",
         "x": [
          0,
          0.8033014107141719,
          0.8033014107141719,
          0
         ],
         "xaxis": "x",
         "y": [
          -2085,
          -2085,
          -2095,
          -2095
         ],
         "yaxis": "y"
        },
        {
         "hoverinfo": "text",
         "marker": {
          "color": "rgb(61,153,112)"
         },
         "mode": "lines",
         "text": [
          "zip_file_files_content_attachment",
          "",
          "",
          "vss_quicken_pda_applicationsengineering_webbyphone"
         ],
         "type": "scatter",
         "x": [
          0.8033014107141719,
          0.8395114554556903,
          0.8395114554556903,
          0
         ],
         "xaxis": "x",
         "y": [
          -2090,
          -2090,
          -2105,
          -2105
         ],
         "yaxis": "y"
        },
        {
         "hoverinfo": "text",
         "marker": {
          "color": "rgb(0,116,217)"
         },
         "mode": "lines",
         "text": [
          "osa_oca_log_logs_error",
          "",
          "",
          "zip_file_files_vss_content"
         ],
         "type": "scatter",
         "x": [
          0.8260720652637168,
          1.03622879947557,
          1.03622879947557,
          0.8395114554556903
         ],
         "xaxis": "x",
         "y": [
          -2070,
          -2070,
          -2097.5,
          -2097.5
         ],
         "yaxis": "y"
        },
        {
         "hoverinfo": "text",
         "marker": {
          "color": "rgb(255,65,54)"
         },
         "mode": "lines",
         "text": [
          "virus_infected_attachment_itself_book",
          "",
          "",
          "warnings_ads_attachments_virus_do"
         ],
         "type": "scatter",
         "x": [
          0,
          0.7944415428514371,
          0.7944415428514371,
          0
         ],
         "xaxis": "x",
         "y": [
          -2115,
          -2115,
          -2125,
          -2125
         ],
         "yaxis": "y"
        },
        {
         "hoverinfo": "text",
         "marker": {
          "color": "rgb(0,116,217)"
         },
         "mode": "lines",
         "text": [
          "zip_file_files_osa_oca",
          "",
          "",
          "virus_infected_attachments_attachment_itself"
         ],
         "type": "scatter",
         "x": [
          1.03622879947557,
          1.1038219088396735,
          1.1038219088396735,
          0.7944415428514371
         ],
         "xaxis": "x",
         "y": [
          -2083.75,
          -2083.75,
          -2120,
          -2120
         ],
         "yaxis": "y"
        },
        {
         "hoverinfo": "text",
         "marker": {
          "color": "rgb(0,116,217)"
         },
         "mode": "lines",
         "text": [
          "pqa_aml_palm_page_url",
          "",
          "",
          "virus_files_zip_file_attachment"
         ],
         "type": "scatter",
         "x": [
          1.0926523954468772,
          1.1768389217475583,
          1.1768389217475583,
          1.1038219088396735
         ],
         "xaxis": "x",
         "y": [
          -2005.625,
          -2005.625,
          -2101.875,
          -2101.875
         ],
         "yaxis": "y"
        },
        {
         "hoverinfo": "text",
         "marker": {
          "color": "rgb(0,116,217)"
         },
         "mode": "lines",
         "text": [
          "trade_p1_managing_notification_being",
          "",
          "",
          "pqa_file_aml_files_virus"
         ],
         "type": "scatter",
         "x": [
          0.3952523384980393,
          1.3110648436585288,
          1.3110648436585288,
          1.1768389217475583
         ],
         "xaxis": "x",
         "y": [
          -1930,
          -1930,
          -2053.75,
          -2053.75
         ],
         "yaxis": "y"
        },
        {
         "hoverinfo": "text",
         "marker": {
          "color": "rgb(0,116,217)"
         },
         "mode": "lines",
         "text": [
          "change_wireless_us_14_index",
          "",
          "",
          "pqa_file_aml_files_virus"
         ],
         "type": "scatter",
         "x": [
          1.3337280032567544,
          1.3616813312611251,
          1.3616813312611251,
          1.3110648436585288
         ],
         "xaxis": "x",
         "y": [
          -1489.40185546875,
          -1489.40185546875,
          -1991.875,
          -1991.875
         ],
         "yaxis": "y"
        },
        {
         "hoverinfo": "text",
         "marker": {
          "color": "rgb(0,116,217)"
         },
         "mode": "lines",
         "text": [
          "me_please_you_if_will",
          "",
          "",
          "change_the_us_wireless_and"
         ],
         "type": "scatter",
         "x": [
          1.329203867856708,
          1.5200355807844557,
          1.5200355807844557,
          1.3616813312611251
         ],
         "xaxis": "x",
         "y": [
          -1084.912109375,
          -1084.912109375,
          -1740.638427734375,
          -1740.638427734375
         ],
         "yaxis": "y"
        },
        {
         "hoverinfo": "text",
         "marker": {
          "color": "rgb(0,116,217)"
         },
         "mode": "lines",
         "text": [
          "408_avocadoit_562_2211_95131",
          "",
          "",
          "the_me_and_you_please"
         ],
         "type": "scatter",
         "x": [
          1.863756955504217,
          1.8961767275621253,
          1.8961767275621253,
          1.5200355807844557
         ],
         "xaxis": "x",
         "y": [
          -740.3125,
          -740.3125,
          -1412.7752685546875,
          -1412.7752685546875
         ],
         "yaxis": "y"
        },
        {
         "hoverinfo": "text",
         "marker": {
          "color": "rgb(0,116,217)"
         },
         "mode": "lines",
         "text": [
          "internet_http_newsletters_com_resources",
          "",
          "",
          "408_the_avocadoit_me_562"
         ],
         "type": "scatter",
         "x": [
          1.8414516145281128,
          2.1081430136631423,
          2.1081430136631423,
          1.8961767275621253
         ],
         "xaxis": "x",
         "y": [
          -340.400390625,
          -340.400390625,
          -1076.5438842773438,
          -1076.5438842773438
         ],
         "yaxis": "y"
        },
        {
         "hoverinfo": "text",
         "marker": {
          "color": "rgb(0,116,217)"
         },
         "mode": "lines",
         "text": [
          "extremeprogramming_egroups_objectmentor_courtesy_ad",
          "",
          "",
          "internet_avocadoit_or_http_email"
         ],
         "type": "scatter",
         "x": [
          1.0273062061264453,
          2.911919897938265,
          2.911919897938265,
          2.1081430136631423
         ],
         "xaxis": "x",
         "y": [
          -53.681640625,
          -53.681640625,
          -708.4721374511719,
          -708.4721374511719
         ],
         "yaxis": "y"
        },
        {
         "hoverinfo": "text",
         "hovertext": [
          "extremeprogramming_egroups_courtesy_ad_objectmentor",
          "extremeprogramming_egroups_courtesy_ad_objectmentor",
          "extremeprogramming_egroups_courtesy_ad_objectmentor",
          "extremeprogramming_egroups_courtesy_ad_objectmentor",
          "xp_terms_docs_groups_yahoo",
          "extremeprogramming_egroups_courtesy_objectmentor_ad",
          "panoptic_dossy_explorer_shiobara_msn",
          "internet_http_commerce_resources_662",
          "recurring_remove_yourself_unsub_mliang",
          "yahoogroups_group_tm_zingaris_yahoo",
          "group_yahoogroups_f4u_yahoo_groups",
          "babycenter_pregnancy_own_tips_parenting",
          "click_double_icon_simply_type",
          "click_double_icon_simply_type",
          "subject_line_babycenter_microsoft_click",
          "lifeminders_spotlight_archived_entertainment_mails",
          "clickz_htm_blankenhorn_advertise_conferences",
          "thestandard_letters_problems_advertising_sachal",
          "software_coffeecup_dial_latest_dialer",
          "stcetsig_software_javadevelopersjournal_coffeecup_sys",
          "clickz_htm_advertise_thestandard_feedback",
          "click_lifeminders_subject_line_removed",
          "textonly_unplugged_future_editor_receive",
          "clickz_click_leave_lifeminders_unsubscribe",
          "clickz_click_unplugged_leave_lifeminders",
          "group_yahoogroups_f4u_yahoo_groups",
          "click_unsubscribe_yahoogroups_group_clickz",
          "newsscan_subscribe_daily_word_subject",
          "subscribed_leave_unsubscribe_currently_click",
          "unsub_mliang_offers_postal_customerservice",
          "servlet_sun_java_archives_listserv",
          "unsubscribe_subscribed_leave_click_subscribe",
          "internet_http_commerce_662_203",
          "avocadoit_408_562_2211_95131",
          "margulies_debbie_wirelessly_408_avocadoit",
          "408_avocadoit_562_2211_95131",
          "emds_install_emas_installation_tests",
          "updates_update_problem_xalan_apprise",
          "bugs_bug_bugzilla_features_fixed",
          "status_project_end_plan_ert",
          "idc_siebel_problem_updates_update",
          "bugs_bug_status_idc_siebel",
          "test_wilhan_emds_results_tests",
          "able_commerceworld_providing_valuable_reviews",
          "me_reach_info_cell_number",
          "password_ruyben_webex_login_radford",
          "document_copy_it_documents_review",
          "meeting_prakash_india_conference_calendar",
          "meeting_prakash_me_document_you",
          "him_he_his_sent_me",
          "meeting_prakash_me_document_you",
          "people_person_everyone_many_encrypted",
          "meeting_him_he_her_me",
          "password_accenture_ruyben_me_reach",
          "status_test_bugs_bug_changes",
          "facilities_questions_concerns_any_relegated",
          "helpdesk_braganza_07_fernand_related",
          "feedback_comments_suggestions_review_please",
          "helpdesk_facilities_concerns_questions_request",
          "me_you_meeting_will_him",
          "fitness_ibm_novell_967_7348",
          "fitness_ibm_novell_967_7348",
          "2002_unstrung_june_register_25",
          "rim_promotion_outgoing_competitors_limited",
          "messages_sms_messaging_mobile_alerts",
          "venturewire_2002_unstrung_register_technologic",
          "survey_voluntarily_electronically_periodically_questionnaire",
          "venturewire_2002_unstrung_messages_register",
          "kimberlie_specials_iflyswa_trip_southwest",
          "ip_external_internal_inadvertently_solicit",
          "invite_invitations_gift_certificate_invites",
          "ip_external_internal_kimberlie_inadvertently",
          "ip_external_internal_kimberlie_invite",
          "pictures_them_picture_pc_jpegs",
          "ip_external_fedex_internal_kimberlie",
          "spreadsheet_excel_horizontal_formatted_large",
          "gartner_extension_apologize_blocked_interfere",
          "wireless_journals_regulations_expressed_desire",
          "presentation_slides_presentations_slide_customers",
          "presentation_show_training_pre_planning",
          "presentation_show_training_pre_planning",
          "wireless_gartner_recently_accepted_bid",
          "days_activities_action_appt_account",
          "rfp_response_biogen_rate_generate",
          "days_activities_action_appt_account",
          "wireless_presentation_training_show_for",
          "hp_team_sap_badge_hp9000",
          "contract_agreement_signed_copy_george",
          "ip_external_spreadsheet_excel_them",
          "venturewire_2002_unstrung_messages_register",
          "wireless_venturewire_2002_for_us",
          "change_index_portfolio_000_14",
          "palm_pocketpc_emulator_screen_image",
          "url_darshan_salesep_redirect_announcement",
          "pqa_palm_pocketpc_emulator_screen",
          "aml_page_interpreter_instantiate_kbkids",
          "jsp_server_client_response_sends",
          "pqa_aml_palm_url_page",
          "zip_file_files_content_attachment",
          "osa_oca_log_logs_error",
          "zip_file_files_osa_oca",
          "pqa_aml_palm_page_url",
          "trade_p1_managing_notification_being",
          "change_wireless_us_14_index",
          "me_please_you_if_will",
          "408_avocadoit_562_2211_95131",
          "internet_http_newsletters_com_resources",
          "extremeprogramming_egroups_objectmentor_courtesy_ad"
         ],
         "marker": {
          "color": "black"
         },
         "mode": "markers",
         "showlegend": false,
         "type": "scatter",
         "x": [
          0.15739453425479122,
          0.24428709223485967,
          0.393257884009509,
          0.403498320402004,
          0.7300625836635641,
          0.743060068589633,
          0.9288800005115789,
          0.07240859961442858,
          0.6112775821913443,
          0.515223262710217,
          0.9259272706876723,
          0.8434962033389032,
          0.8904947483512178,
          0.9258296093745897,
          1.027899404990662,
          0.6188876219810268,
          0.7320977911142659,
          0.7799540501524216,
          0.8957872159578321,
          1.0549866886307657,
          1.1416206028412743,
          1.245746292234429,
          0.4877000017179616,
          1.2525917441956813,
          1.3221988027689213,
          1.3620434675943387,
          1.4166443648026983,
          0.7737552941306345,
          1.488926763820703,
          0.8856552115860804,
          0.0888135675650138,
          1.5830448255992855,
          0.1962803482018773,
          0.665903341247652,
          0.3278814385129881,
          0.8346676809527624,
          0.8902489576472657,
          0.8463431535237407,
          0.8414767951191182,
          0.8552044330744457,
          0.920270627252987,
          0.9825477611170176,
          0.9325622598949309,
          0.8680101853342876,
          0.7388773339082826,
          0.8989780474004121,
          0.6709849805382633,
          0.7863993519048598,
          0.8181252373168616,
          0.7651547535890513,
          0.8835932790329616,
          0.8000652100448138,
          0.9619919247894299,
          1.017686183987864,
          1.108102825176063,
          0.6802328407287145,
          0.899525817826344,
          0.8619490620979919,
          1.08759890730361,
          1.2194787493970372,
          0.9824376030876635,
          0.9990168400583089,
          1.0235241515737514,
          0.8531299929034817,
          0.9127386129828586,
          1.065770092761321,
          0.7572945881664568,
          1.1281013979467491,
          0.9737797590625803,
          0.9815032906290823,
          0.9161186538783183,
          0.9965151202334135,
          1.0027144071931164,
          0.9429461660554792,
          1.0416758508895998,
          0.7667472630263443,
          0.9706214325138024,
          0.888672864564623,
          0.8620633288949942,
          0.9119047577799224,
          0.9769276570170917,
          1.0159651452324665,
          0.9072495549497555,
          0.9455468491128344,
          0.9490397942448753,
          1.0523957049362858,
          0.822770911164634,
          0.754332207421206,
          1.1035351903167343,
          1.1404292097242437,
          1.1587242497378722,
          0.4514166733486046,
          0.813762894004786,
          0.9176871554185274,
          0.8971510439691484,
          0.754705247918518,
          0.7921953415106515,
          1.079083547675703,
          0.8033014107141719,
          0.8260720652637168,
          1.03622879947557,
          1.0926523954468772,
          0.3952523384980393,
          1.3337280032567544,
          1.329203867856708,
          1.863756955504217,
          1.8414516145281128,
          1.0273062061264453
         ],
         "y": [
          -70,
          -66.25,
          -62.8125,
          -83.90625,
          -30,
          -64.7265625,
          -10,
          -160,
          -190,
          -240,
          -236.25,
          -310,
          -350,
          -357.5,
          -320,
          -290,
          -420,
          -400,
          -450,
          -461.25,
          -413.75,
          -317.1875,
          -530,
          -382.5,
          -460,
          -253.125,
          -381.5625,
          -622.5,
          -482.65625,
          -200,
          -660,
          -379.1015625,
          -156.25,
          -722.5,
          -700,
          -716.875,
          -802.5,
          -860,
          -910,
          -890,
          -856.25,
          -880,
          -816.25,
          -1000,
          -980,
          -960,
          -1060,
          -1040,
          -1053.75,
          -1100,
          -1047.1875,
          -1130,
          -1077.34375,
          -976.875,
          -863.125,
          -1200,
          -1172.5,
          -1232.5,
          -1190,
          -952.94921875,
          -1320,
          -1316.25,
          -1333.125,
          -1430,
          -1402.5,
          -1352.8125,
          -1290,
          -1338.203125,
          -1522.5,
          -1500,
          -1560,
          -1516.875,
          -1542.1875,
          -1612.5,
          -1566.09375,
          -1480,
          -1712.5,
          -1690,
          -1770,
          -1780,
          -1773.75,
          -1708.125,
          -1840,
          -1872.5,
          -1847.5,
          -1752.5,
          -1670,
          -1650,
          -1537.4609375,
          -1399.1015625,
          -1507.607421875,
          -1270,
          -1970,
          -2000,
          -1977.5,
          -1950,
          -2030,
          -1971.25,
          -2090,
          -2070,
          -2083.75,
          -2005.625,
          -1930,
          -1489.40185546875,
          -1084.912109375,
          -740.3125,
          -340.400390625,
          -53.681640625
         ]
        },
        {
         "hoverinfo": "text",
         "hovertext": [
          "extremeprogramming_egroups_courtesy_ad_objectmentor",
          "extremeprogramming_egroups_courtesy_ad_objectmentor",
          "extremeprogramming_egroups_courtesy_ad_objectmentor",
          "xprogramming_ronald_jeffries_objectmentor_www",
          "extremeprogramming_egroups_objectmentor_courtesy_ad",
          "internet_http_commerce_resources_newsletters",
          "offers_202885_78720_austin_tx",
          "group_yahoogroups_yahoo_tm_zingaris",
          "banned_flame_advertisements_replies_auto",
          "microsoft_subject_basex_line_stopmail",
          "removed_jdj_permanently_databases_remove",
          "click_requests_removed_jdj_double",
          "click_subject_line_removed_babycenter",
          "clickz_htm_advertise_thinkmobile_blankenhorn",
          "javadevelopersjournal_sys_con_webgain_mailbox",
          "stcetsig_javadevelopersjournal_sys_con_stc",
          "desimasala_yahoogroups_masala_masti_netmasti",
          "fiercewireless_desimasala_yahoogroups_fiercewirelesshtml_subscribe",
          "stcetsig_software_leave_fiercewireless_javadevelopersjournal",
          "clickz_leave_currently_subscribed_htm",
          "unplugged_textonly_avocadoit_newsletter_interview",
          "1158_597_90403_monica_26th",
          "clickz_click_unplugged_subscribed_unsubscribe",
          "text_reprinting_linking_permissions_corporate",
          "text_allnetdevices_list4_currently_reprinting",
          "allnetdevices_text_currently_leave_subscribed",
          "newsscan_subscribe_daily_version_subject",
          "newsscan_subscribe_douglas_gehl_daily",
          "subscribed_leave_unsubscribe_subscribe_currently",
          "body_listserv_include_java2d_help",
          "sun_java_listserv_servlet_interest",
          "unsubscribe_subscribed_email_leave_java",
          "avocadoit_408_562_adapter_ca",
          "408_562_avocadoit_2211_95131",
          "ritesh_hello_techhelp_ameritrade_comments",
          "techhelp_ameritrade_ritesh_hello_comments",
          "techhelp_ameritrade_comments_ritesh_questions",
          "emds_emas_tests_deepak_ravi",
          "test_results_wilhan_run_testsrvr",
          "idc_problem_updates_error_congestion",
          "bugs_bug_bugzilla_list_features",
          "bugs_bug_status_bugzilla_list",
          "changes_roles_responsibilities_bulletins_delay",
          "bugs_bug_status_changes_idc",
          "accenture_quick_kx_site_onsite",
          "accenture_me_reach_info_cell",
          "document_copy_it_documents_review",
          "meeting_prakash_document_me_you",
          "him_he_her_she_his",
          "sent_tried_ago_since_was",
          "people_person_emails_everyone_many",
          "meeting_him_he_her_it",
          "meeting_me_him_he_you",
          "helpdesk_request_requests_computer_assistance",
          "facilities_concerns_questions_any_seminar",
          "feedback_comments_review_please_me",
          "feedback_comments_useful_suggestions_newsletter",
          "feedback_helpdesk_please_concerns_facilities",
          "fitness_ibm_novell_7348_967",
          "2002_unstrung_june_25_boards",
          "alert_ipw______________________________________________________________________________adv_join",
          "venturewire_technologic_alert_copyright_digitrends",
          "sms_messages_messaging_mobile_users",
          "rim_along_company_promotion_leading",
          "messages_sms_messaging_rim_mobile",
          "venturewire_2002_unstrung_messages_register",
          "resume_____apply_salary_cover",
          "specials_iflyswa_trip_southwest_big",
          "kimberlie_noticed_resumes_dropping_schedules",
          "invite_procedure_invitations_gift_certificate",
          "fedex_invoice_check_payment_ups",
          "pc_them_om_installed_howard",
          "resend_pictures_them_picture_pc",
          "ip_external_fedex_internal_them",
          "gartner_apologize_pearce_ashley_marketing",
          "accepted_recently_bid_digital_audio",
          "gartner_recently_accepted_bid_extension",
          "show_training_pre_planning_tradeshow",
          "presentation_show_training_pre_planning",
          "investment_press_ntt_relationship_releases",
          "training_presentation_show_planning_press",
          "rfp_response_rate_determine_versions",
          "scoping_rfp_response_biogen_rate",
          "days_scoping_activities_rfp_action",
          "wireless_training_presentation_sales_for",
          "wireless_training_presentation_sales_for",
          "wireless_training_presentation_for_sales",
          "ip_we_for_wireless_have",
          "greeting_card_music_cards_valentine",
          "wireless_venturewire_for_2002_us",
          "url_1661389_pager_pin_darshan",
          "pqa_palm_url_pocketpc_darshan",
          "wml_emas_simulator_br_default",
          "server_jsp_wml_client_sends",
          "zip_file_files_vss_content",
          "virus_infected_attachments_attachment_itself",
          "virus_files_zip_file_attachment",
          "pqa_file_aml_files_virus",
          "pqa_file_aml_files_virus",
          "change_the_us_wireless_and",
          "the_me_and_you_please",
          "408_the_avocadoit_me_562",
          "internet_avocadoit_or_http_email"
         ],
         "marker": {
          "color": "black"
         },
         "mode": "markers",
         "showlegend": false,
         "type": "scatter",
         "x": [
          0.2027111485821166,
          0.3381913556862172,
          0.5151696191493356,
          0.12859655900306965,
          0.9065513191012757,
          0.11741278467938766,
          0.1367070818064814,
          0.7736902761083562,
          0.14193484741872386,
          0.6143244377020758,
          0.8786219123138804,
          1.0114744653762564,
          1.1203283556819126,
          0.9167912637495613,
          0.752849614402592,
          0.9483409442129918,
          0.8352312144153304,
          0.9891400581005773,
          1.1242090871817372,
          1.1816259673787368,
          0.8387886772482742,
          0.16428647203712154,
          1.3831714021024506,
          0.4621534211825101,
          0.6227084725043499,
          0.7759518776927614,
          0.17687295567062067,
          0.8961065505578664,
          1.5047022493185156,
          0.3784899570736293,
          0.7700170001638227,
          1.761747958949332,
          0.5699363820645986,
          0.717948264131039,
          0.11265697017128595,
          0.36580614549875323,
          0.5534719450545885,
          0.8377002976994024,
          0.7896822176381042,
          0.9060145504356958,
          0.8847434968337454,
          0.9457959016269336,
          0.7610031623231323,
          1.059807758119206,
          0.9065654642504319,
          0.9707366128929276,
          0.7086946597925208,
          0.8497484781653633,
          0.8586960504269548,
          0.827081327514944,
          0.8946815542394213,
          0.9740529611552988,
          1.0681078752203346,
          0.6953861737484893,
          0.8990669156339874,
          0.7406984320065847,
          0.9250368740669164,
          1.152675540181692,
          0.9904758849317709,
          0.8707150796011565,
          0.9003430622938156,
          0.9530532632255194,
          0.817742458400181,
          0.9943662745462151,
          1.0576049775135339,
          1.0908754216550465,
          0.7687993864272242,
          0.9586379808603382,
          0.9848218403362095,
          0.9735438925284756,
          0.811045837251975,
          0.9275771667794391,
          0.9760349229466022,
          1.0531307390495057,
          0.9313123969626191,
          0.9521365664103942,
          1.0015720801225578,
          0.8422050389335265,
          0.9260715575489078,
          0.9141660428545879,
          1.0222605287600064,
          0.9017733126171862,
          0.9756913674600362,
          1.0312027771640981,
          1.0691158237385763,
          1.0772042422604375,
          1.105215076929823,
          1.1263168647389694,
          0.6931976650084193,
          1.1776845939423866,
          0.9567397793395969,
          0.9978919230492597,
          0.863338150402394,
          0.9263972312305175,
          0.8395114554556903,
          0.7944415428514371,
          1.1038219088396735,
          1.1768389217475583,
          1.3110648436585288,
          1.3616813312611251,
          1.5200355807844557,
          1.8961767275621253,
          2.1081430136631423
         ],
         "y": [
          -77.5,
          -80.625,
          -99.453125,
          -130,
          -97.36328125,
          -167.5,
          -210,
          -247.5,
          -270,
          -330,
          -380,
          -368.75,
          -344.375,
          -427.5,
          -480,
          -472.5,
          -510,
          -502.5,
          -481.875,
          -447.8125,
          -537.5,
          -560,
          -510,
          -600,
          -592.5,
          -583.75,
          -630,
          -633.75,
          -558.203125,
          -680,
          -670,
          -524.55078125,
          -730,
          -733.75,
          -780,
          -772.5,
          -763.75,
          -810,
          -830,
          -867.5,
          -917.5,
          -903.75,
          -940,
          -910,
          -1007.5,
          -993.75,
          -1067.5,
          -1069.375,
          -1107.5,
          -1150,
          -1140,
          -1108.671875,
          -1042.7734375,
          -1180,
          -1207.5,
          -1240,
          -1243.75,
          -1216.875,
          -1327.5,
          -1350,
          -1380,
          -1372.5,
          -1410,
          -1437.5,
          -1420,
          -1386.40625,
          -1460,
          -1530,
          -1533.75,
          -1567.5,
          -1590,
          -1620,
          -1623.75,
          -1594.921875,
          -1720,
          -1740,
          -1726.25,
          -1790,
          -1792.5,
          -1820,
          -1796.875,
          -1880,
          -1883.75,
          -1865.625,
          -1809.0625,
          -1739.53125,
          -1694.765625,
          -1616.11328125,
          -1910,
          -1708.8037109375,
          -2007.5,
          -1992.5,
          -2050,
          -2040,
          -2097.5,
          -2120,
          -2101.875,
          -2053.75,
          -1991.875,
          -1740.638427734375,
          -1412.7752685546875,
          -1076.5438842773438,
          -708.4721374511719
         ]
        }
       ],
       "layout": {
        "autosize": false,
        "height": 3395,
        "hoverlabel": {
         "bgcolor": "white",
         "font": {
          "family": "Rockwell",
          "size": 16
         }
        },
        "hovermode": "closest",
        "plot_bgcolor": "#ECEFF1",
        "showlegend": false,
        "template": {
         "data": {
          "bar": [
           {
            "error_x": {
             "color": "#2a3f5f"
            },
            "error_y": {
             "color": "#2a3f5f"
            },
            "marker": {
             "line": {
              "color": "white",
              "width": 0.5
             },
             "pattern": {
              "fillmode": "overlay",
              "size": 10,
              "solidity": 0.2
             }
            },
            "type": "bar"
           }
          ],
          "barpolar": [
           {
            "marker": {
             "line": {
              "color": "white",
              "width": 0.5
             },
             "pattern": {
              "fillmode": "overlay",
              "size": 10,
              "solidity": 0.2
             }
            },
            "type": "barpolar"
           }
          ],
          "carpet": [
           {
            "aaxis": {
             "endlinecolor": "#2a3f5f",
             "gridcolor": "#C8D4E3",
             "linecolor": "#C8D4E3",
             "minorgridcolor": "#C8D4E3",
             "startlinecolor": "#2a3f5f"
            },
            "baxis": {
             "endlinecolor": "#2a3f5f",
             "gridcolor": "#C8D4E3",
             "linecolor": "#C8D4E3",
             "minorgridcolor": "#C8D4E3",
             "startlinecolor": "#2a3f5f"
            },
            "type": "carpet"
           }
          ],
          "choropleth": [
           {
            "colorbar": {
             "outlinewidth": 0,
             "ticks": ""
            },
            "type": "choropleth"
           }
          ],
          "contour": [
           {
            "colorbar": {
             "outlinewidth": 0,
             "ticks": ""
            },
            "colorscale": [
             [
              0,
              "#0d0887"
             ],
             [
              0.1111111111111111,
              "#46039f"
             ],
             [
              0.2222222222222222,
              "#7201a8"
             ],
             [
              0.3333333333333333,
              "#9c179e"
             ],
             [
              0.4444444444444444,
              "#bd3786"
             ],
             [
              0.5555555555555556,
              "#d8576b"
             ],
             [
              0.6666666666666666,
              "#ed7953"
             ],
             [
              0.7777777777777778,
              "#fb9f3a"
             ],
             [
              0.8888888888888888,
              "#fdca26"
             ],
             [
              1,
              "#f0f921"
             ]
            ],
            "type": "contour"
           }
          ],
          "contourcarpet": [
           {
            "colorbar": {
             "outlinewidth": 0,
             "ticks": ""
            },
            "type": "contourcarpet"
           }
          ],
          "heatmap": [
           {
            "colorbar": {
             "outlinewidth": 0,
             "ticks": ""
            },
            "colorscale": [
             [
              0,
              "#0d0887"
             ],
             [
              0.1111111111111111,
              "#46039f"
             ],
             [
              0.2222222222222222,
              "#7201a8"
             ],
             [
              0.3333333333333333,
              "#9c179e"
             ],
             [
              0.4444444444444444,
              "#bd3786"
             ],
             [
              0.5555555555555556,
              "#d8576b"
             ],
             [
              0.6666666666666666,
              "#ed7953"
             ],
             [
              0.7777777777777778,
              "#fb9f3a"
             ],
             [
              0.8888888888888888,
              "#fdca26"
             ],
             [
              1,
              "#f0f921"
             ]
            ],
            "type": "heatmap"
           }
          ],
          "heatmapgl": [
           {
            "colorbar": {
             "outlinewidth": 0,
             "ticks": ""
            },
            "colorscale": [
             [
              0,
              "#0d0887"
             ],
             [
              0.1111111111111111,
              "#46039f"
             ],
             [
              0.2222222222222222,
              "#7201a8"
             ],
             [
              0.3333333333333333,
              "#9c179e"
             ],
             [
              0.4444444444444444,
              "#bd3786"
             ],
             [
              0.5555555555555556,
              "#d8576b"
             ],
             [
              0.6666666666666666,
              "#ed7953"
             ],
             [
              0.7777777777777778,
              "#fb9f3a"
             ],
             [
              0.8888888888888888,
              "#fdca26"
             ],
             [
              1,
              "#f0f921"
             ]
            ],
            "type": "heatmapgl"
           }
          ],
          "histogram": [
           {
            "marker": {
             "pattern": {
              "fillmode": "overlay",
              "size": 10,
              "solidity": 0.2
             }
            },
            "type": "histogram"
           }
          ],
          "histogram2d": [
           {
            "colorbar": {
             "outlinewidth": 0,
             "ticks": ""
            },
            "colorscale": [
             [
              0,
              "#0d0887"
             ],
             [
              0.1111111111111111,
              "#46039f"
             ],
             [
              0.2222222222222222,
              "#7201a8"
             ],
             [
              0.3333333333333333,
              "#9c179e"
             ],
             [
              0.4444444444444444,
              "#bd3786"
             ],
             [
              0.5555555555555556,
              "#d8576b"
             ],
             [
              0.6666666666666666,
              "#ed7953"
             ],
             [
              0.7777777777777778,
              "#fb9f3a"
             ],
             [
              0.8888888888888888,
              "#fdca26"
             ],
             [
              1,
              "#f0f921"
             ]
            ],
            "type": "histogram2d"
           }
          ],
          "histogram2dcontour": [
           {
            "colorbar": {
             "outlinewidth": 0,
             "ticks": ""
            },
            "colorscale": [
             [
              0,
              "#0d0887"
             ],
             [
              0.1111111111111111,
              "#46039f"
             ],
             [
              0.2222222222222222,
              "#7201a8"
             ],
             [
              0.3333333333333333,
              "#9c179e"
             ],
             [
              0.4444444444444444,
              "#bd3786"
             ],
             [
              0.5555555555555556,
              "#d8576b"
             ],
             [
              0.6666666666666666,
              "#ed7953"
             ],
             [
              0.7777777777777778,
              "#fb9f3a"
             ],
             [
              0.8888888888888888,
              "#fdca26"
             ],
             [
              1,
              "#f0f921"
             ]
            ],
            "type": "histogram2dcontour"
           }
          ],
          "mesh3d": [
           {
            "colorbar": {
             "outlinewidth": 0,
             "ticks": ""
            },
            "type": "mesh3d"
           }
          ],
          "parcoords": [
           {
            "line": {
             "colorbar": {
              "outlinewidth": 0,
              "ticks": ""
             }
            },
            "type": "parcoords"
           }
          ],
          "pie": [
           {
            "automargin": true,
            "type": "pie"
           }
          ],
          "scatter": [
           {
            "fillpattern": {
             "fillmode": "overlay",
             "size": 10,
             "solidity": 0.2
            },
            "type": "scatter"
           }
          ],
          "scatter3d": [
           {
            "line": {
             "colorbar": {
              "outlinewidth": 0,
              "ticks": ""
             }
            },
            "marker": {
             "colorbar": {
              "outlinewidth": 0,
              "ticks": ""
             }
            },
            "type": "scatter3d"
           }
          ],
          "scattercarpet": [
           {
            "marker": {
             "colorbar": {
              "outlinewidth": 0,
              "ticks": ""
             }
            },
            "type": "scattercarpet"
           }
          ],
          "scattergeo": [
           {
            "marker": {
             "colorbar": {
              "outlinewidth": 0,
              "ticks": ""
             }
            },
            "type": "scattergeo"
           }
          ],
          "scattergl": [
           {
            "marker": {
             "colorbar": {
              "outlinewidth": 0,
              "ticks": ""
             }
            },
            "type": "scattergl"
           }
          ],
          "scattermapbox": [
           {
            "marker": {
             "colorbar": {
              "outlinewidth": 0,
              "ticks": ""
             }
            },
            "type": "scattermapbox"
           }
          ],
          "scatterpolar": [
           {
            "marker": {
             "colorbar": {
              "outlinewidth": 0,
              "ticks": ""
             }
            },
            "type": "scatterpolar"
           }
          ],
          "scatterpolargl": [
           {
            "marker": {
             "colorbar": {
              "outlinewidth": 0,
              "ticks": ""
             }
            },
            "type": "scatterpolargl"
           }
          ],
          "scatterternary": [
           {
            "marker": {
             "colorbar": {
              "outlinewidth": 0,
              "ticks": ""
             }
            },
            "type": "scatterternary"
           }
          ],
          "surface": [
           {
            "colorbar": {
             "outlinewidth": 0,
             "ticks": ""
            },
            "colorscale": [
             [
              0,
              "#0d0887"
             ],
             [
              0.1111111111111111,
              "#46039f"
             ],
             [
              0.2222222222222222,
              "#7201a8"
             ],
             [
              0.3333333333333333,
              "#9c179e"
             ],
             [
              0.4444444444444444,
              "#bd3786"
             ],
             [
              0.5555555555555556,
              "#d8576b"
             ],
             [
              0.6666666666666666,
              "#ed7953"
             ],
             [
              0.7777777777777778,
              "#fb9f3a"
             ],
             [
              0.8888888888888888,
              "#fdca26"
             ],
             [
              1,
              "#f0f921"
             ]
            ],
            "type": "surface"
           }
          ],
          "table": [
           {
            "cells": {
             "fill": {
              "color": "#EBF0F8"
             },
             "line": {
              "color": "white"
             }
            },
            "header": {
             "fill": {
              "color": "#C8D4E3"
             },
             "line": {
              "color": "white"
             }
            },
            "type": "table"
           }
          ]
         },
         "layout": {
          "annotationdefaults": {
           "arrowcolor": "#2a3f5f",
           "arrowhead": 0,
           "arrowwidth": 1
          },
          "autotypenumbers": "strict",
          "coloraxis": {
           "colorbar": {
            "outlinewidth": 0,
            "ticks": ""
           }
          },
          "colorscale": {
           "diverging": [
            [
             0,
             "#8e0152"
            ],
            [
             0.1,
             "#c51b7d"
            ],
            [
             0.2,
             "#de77ae"
            ],
            [
             0.3,
             "#f1b6da"
            ],
            [
             0.4,
             "#fde0ef"
            ],
            [
             0.5,
             "#f7f7f7"
            ],
            [
             0.6,
             "#e6f5d0"
            ],
            [
             0.7,
             "#b8e186"
            ],
            [
             0.8,
             "#7fbc41"
            ],
            [
             0.9,
             "#4d9221"
            ],
            [
             1,
             "#276419"
            ]
           ],
           "sequential": [
            [
             0,
             "#0d0887"
            ],
            [
             0.1111111111111111,
             "#46039f"
            ],
            [
             0.2222222222222222,
             "#7201a8"
            ],
            [
             0.3333333333333333,
             "#9c179e"
            ],
            [
             0.4444444444444444,
             "#bd3786"
            ],
            [
             0.5555555555555556,
             "#d8576b"
            ],
            [
             0.6666666666666666,
             "#ed7953"
            ],
            [
             0.7777777777777778,
             "#fb9f3a"
            ],
            [
             0.8888888888888888,
             "#fdca26"
            ],
            [
             1,
             "#f0f921"
            ]
           ],
           "sequentialminus": [
            [
             0,
             "#0d0887"
            ],
            [
             0.1111111111111111,
             "#46039f"
            ],
            [
             0.2222222222222222,
             "#7201a8"
            ],
            [
             0.3333333333333333,
             "#9c179e"
            ],
            [
             0.4444444444444444,
             "#bd3786"
            ],
            [
             0.5555555555555556,
             "#d8576b"
            ],
            [
             0.6666666666666666,
             "#ed7953"
            ],
            [
             0.7777777777777778,
             "#fb9f3a"
            ],
            [
             0.8888888888888888,
             "#fdca26"
            ],
            [
             1,
             "#f0f921"
            ]
           ]
          },
          "colorway": [
           "#636efa",
           "#EF553B",
           "#00cc96",
           "#ab63fa",
           "#FFA15A",
           "#19d3f3",
           "#FF6692",
           "#B6E880",
           "#FF97FF",
           "#FECB52"
          ],
          "font": {
           "color": "#2a3f5f"
          },
          "geo": {
           "bgcolor": "white",
           "lakecolor": "white",
           "landcolor": "white",
           "showlakes": true,
           "showland": true,
           "subunitcolor": "#C8D4E3"
          },
          "hoverlabel": {
           "align": "left"
          },
          "hovermode": "closest",
          "mapbox": {
           "style": "light"
          },
          "paper_bgcolor": "white",
          "plot_bgcolor": "white",
          "polar": {
           "angularaxis": {
            "gridcolor": "#EBF0F8",
            "linecolor": "#EBF0F8",
            "ticks": ""
           },
           "bgcolor": "white",
           "radialaxis": {
            "gridcolor": "#EBF0F8",
            "linecolor": "#EBF0F8",
            "ticks": ""
           }
          },
          "scene": {
           "xaxis": {
            "backgroundcolor": "white",
            "gridcolor": "#DFE8F3",
            "gridwidth": 2,
            "linecolor": "#EBF0F8",
            "showbackground": true,
            "ticks": "",
            "zerolinecolor": "#EBF0F8"
           },
           "yaxis": {
            "backgroundcolor": "white",
            "gridcolor": "#DFE8F3",
            "gridwidth": 2,
            "linecolor": "#EBF0F8",
            "showbackground": true,
            "ticks": "",
            "zerolinecolor": "#EBF0F8"
           },
           "zaxis": {
            "backgroundcolor": "white",
            "gridcolor": "#DFE8F3",
            "gridwidth": 2,
            "linecolor": "#EBF0F8",
            "showbackground": true,
            "ticks": "",
            "zerolinecolor": "#EBF0F8"
           }
          },
          "shapedefaults": {
           "line": {
            "color": "#2a3f5f"
           }
          },
          "ternary": {
           "aaxis": {
            "gridcolor": "#DFE8F3",
            "linecolor": "#A2B1C6",
            "ticks": ""
           },
           "baxis": {
            "gridcolor": "#DFE8F3",
            "linecolor": "#A2B1C6",
            "ticks": ""
           },
           "bgcolor": "white",
           "caxis": {
            "gridcolor": "#DFE8F3",
            "linecolor": "#A2B1C6",
            "ticks": ""
           }
          },
          "title": {
           "x": 0.05
          },
          "xaxis": {
           "automargin": true,
           "gridcolor": "#EBF0F8",
           "linecolor": "#EBF0F8",
           "ticks": "",
           "title": {
            "standoff": 15
           },
           "zerolinecolor": "#EBF0F8",
           "zerolinewidth": 2
          },
          "yaxis": {
           "automargin": true,
           "gridcolor": "#EBF0F8",
           "linecolor": "#EBF0F8",
           "ticks": "",
           "title": {
            "standoff": 15
           },
           "zerolinecolor": "#EBF0F8",
           "zerolinewidth": 2
          }
         }
        },
        "title": {
         "font": {
          "color": "Black",
          "size": 22
         },
         "text": "<b>Hierarchical Clustering</b>",
         "x": 0.5,
         "xanchor": "center",
         "yanchor": "top"
        },
        "width": 1000,
        "xaxis": {
         "mirror": "allticks",
         "rangemode": "tozero",
         "showgrid": false,
         "showline": true,
         "showticklabels": true,
         "ticks": "outside",
         "type": "linear",
         "zeroline": false
        },
        "yaxis": {
         "mirror": "allticks",
         "range": [
          -2130,
          0
         ],
         "rangemode": "tozero",
         "showgrid": false,
         "showline": true,
         "showticklabels": true,
         "tickmode": "array",
         "ticks": "outside",
         "ticktext": [
          "102_panoptic_dossy_shiobara",
          "195_explorer_msn___________...",
          "113_xp_extremeprogramming_e...",
          "111_terms_docs_groups",
          "181_personal_extremeprogram...",
          "86_extremeprogramming_egrou...",
          "12_extremeprogramming_egrou...",
          "26_extremeprogramming_egrou...",
          "28_extremeprogramming_egrou...",
          "84_bill_best_extremeprogram...",
          "203_bryan_extremeprogrammin...",
          "41_matthew_azami_speakeasy",
          "55_xprogramming_ronald_jeff...",
          "156_ronald_xprogramming_jef...",
          "173_internet_662_203",
          "150_internet_http_commerce",
          "185_internet_http_commerce",
          "74_internet_http_newsletters",
          "108_thesuperspecialsales_re...",
          "73_dvd_recurring_remove",
          "180_c0olmail_78720_202885",
          "36_offers_202885_78720",
          "170_f4u_polls_groups",
          "165_mayan_soccer_yahoogroup...",
          "17_yahoogroups_group_zingaris",
          "66_svase_st3ward_group",
          "209_banned_flame_advertisem...",
          "149_routinely_fellow_banned",
          "169_lifeminders_mails_regis...",
          "100_lifeminders_spotlight_a...",
          "120_pregnancy_tips_parenting",
          "77_babycenter_parentcenter_...",
          "27_basex_subject_line",
          "191_stopmail_microsoft_stop",
          "68_double_icon_click",
          "174_uptilt_304_kenamea",
          "99_special_offers_valoffers",
          "168_shoreline_removed_resea...",
          "147_jdj_permanently_databases",
          "157_thestandard_letters_adv...",
          "189_unsubscribing_idg_probl...",
          "128_clickz_htm_178579g",
          "67_clickz_blankenhorn_adver...",
          "134_thinkmobile_biz_headlines",
          "138_dial_latest_software",
          "196_coffeecup_software_dundee",
          "125_stcetsig_stc_34772p",
          "50_unplugged_avocadoit_dotc...",
          "80_javadevelopersjournal_sy...",
          "114_fiercewireless_fiercewi...",
          "141_masti_jokes_fun",
          "139_masala_netmasti_humor",
          "103_textonly_editor_unplugged",
          "130_unplugged_newsletter_fo...",
          "184_unplugged_interview_arc...",
          "200_1158_90403_597",
          "122_1158_raghavan_597",
          "29_allnetdevices_list3_1420...",
          "48_corporation_allnetdevice...",
          "75_allnetdevices_reprinting...",
          "81_engine_cyberatlas_text",
          "58_vcbuzz_innovation_trial",
          "146_newsscan_subscribe_daily",
          "129_newsscan_subscribe_daily",
          "116_douglas_gehl_newsscan",
          "148_servlet_user_sun",
          "44_servlet_archives_sun",
          "90_java2d_body_listserv",
          "101_help_general_body",
          "98_avocadoit_wirelessly_eve...",
          "39_margulies_debbie_408",
          "89_newsworthy_basis_circula...",
          "0_avocadoit_408_562",
          "110_facilities_stewart_mark",
          "63_doug_instructor_8744",
          "160_praveen_evening_techhelp",
          "56_techhelp_ameritrade_comm...",
          "95_ritesh_hello_techhelp",
          "162_ritesh_hello_techhelp",
          "107_installation_install_re...",
          "142_tests_deepak_rosh",
          "70_emds_emas_dave",
          "112_wilhan_build_qa",
          "15_test_results_testsrvr",
          "96_siebel_utilization_ipaq",
          "54_updates_update_apprise",
          "118_problem_spoken_why",
          "94_idc_error_congestion",
          "117_project_plan_answers",
          "71_status_ert_wont",
          "23_bug_bugs_bugzilla",
          "126_features_rajiv_eg",
          "208_list_looks_glance",
          "62_changes_delay_made",
          "123_changes_bulletins_roles",
          "194_ruyben_seth_intranet",
          "61_password_webex_login",
          "119_any_info_me",
          "30_reach_me_cell",
          "131_commerceworld_able_prov...",
          "206_wanted_quick_travelling",
          "82_accenture_kx_onsite",
          "8_fax_nda_faxes",
          "5_meeting_conference_calendar",
          "1_prakash_india_prasad",
          "2_document_copy_documents",
          "4_it_ll_sorry",
          "24_them_these_remote",
          "57_requirements_demo_team",
          "6_him_he_his",
          "132_doug_ask_debbie",
          "7_her_she_alice",
          "19_encrypted_outside_confid...",
          "9_people_person_everyone",
          "37_sent_lynch_merrill",
          "124_ago_tried_but",
          "177_braganza_07_fernand",
          "42_helpdesk_requests_assist...",
          "83_helpdesk_computer_request",
          "32_facilities_concerns_ques...",
          "65_questions_give_hesitate",
          "188_seminar_either_attendance",
          "193_suggestions_possible_soon",
          "13_feedback_review_please",
          "38_comments_review_pl",
          "33_useful_newsletter_month",
          "47_corp_inc_csco",
          "59_portfolio_index_change",
          "201_voluntarily_survey_elec...",
          "167_survey_questionnaire_mc...",
          "155_theindustrystandard_bel...",
          "121_fitness_novell_7348",
          "198_ibm_klg_alphaworks",
          "152_thecounter_submissions_...",
          "18_2002_june_25",
          "46_unstrung_editors_contact",
          "49_venturewire_technologic_...",
          "115_alert_exercise_231",
          "182_ipw____________________...",
          "92_instant_________________...",
          "3_sms_messages_messaging",
          "153_voice_voicegenie_alerts",
          "158_rim_rimulator_dds",
          "178_promotion_outgoing_comp...",
          "166_leading_factual_replace...",
          "88_____apply_resume",
          "31_resume_resumes_my",
          "176_horizontal_formatted_la...",
          "53_spreadsheet_excel_sheet",
          "143_inadvertently_solicit_d...",
          "104_ip_external_internal",
          "171_kimberlie_synopsis_laws...",
          "85_big_soaring_techniques",
          "51_specials_iflyswa_trip",
          "186_resumes_dropping_schedu...",
          "140_gift_certificate_gifts",
          "60_invite_invitations_invites",
          "192_procedure_next_week",
          "10_invoice_check_payment",
          "154_packages_options_fedex",
          "69_pictures_picture_jpegs",
          "199_pc_installed_howard",
          "151_om_them_answers",
          "161_resend_shawn_res",
          "211_signed_legal_copy",
          "34_contract_agreement_signed",
          "137_team_hp_sap",
          "212_hp_brodia_resells",
          "144_journals_regulations_ex...",
          "78_wireless_initiative_solu...",
          "197_extension_blocked_inter...",
          "205_apologize_marketing_barry",
          "183_gartner_pearce_ashley",
          "106_accepted_recently_bid",
          "204_pipeline_pls_rep",
          "172_venk_thinque_banc",
          "43_customers_persons_we",
          "11_presentation_slides_pres...",
          "45_training_someone_class",
          "79_show_pre_planning",
          "87_logo_logos_rushed",
          "64_releases_press_types",
          "187_investment_ntt_relation...",
          "97_days_activities_action",
          "190_document_goign_task",
          "179_translation_separated_feb",
          "164_biogen_973_announce",
          "105_rfp_rfi_response",
          "202_rate_determine_versions",
          "159_scoping_analysis_doc",
          "14_card_cards_greeting",
          "22_music_greeting_valentine",
          "210_trade_managing_notifica...",
          "72_p1_trade_managing",
          "163_interpreter_instantiate...",
          "40_aml_page_file",
          "136_zaplet_pocketpc_render",
          "16_palm_emulator_pocketpc",
          "20_pqa_updated_test",
          "175_darshan_cert_vinayak",
          "91_url_salesep_redirect",
          "127_1661389_pager_pin",
          "35_jsp_seebeyond_epservlet",
          "109_server_client_sync",
          "93_wml_simulator_emas",
          "207_br_default_alive",
          "76_oca_osa_error",
          "135_logs_log_duplicate",
          "52_zip_content_base64",
          "25_file_files_me",
          "133_vss_quicken_pda",
          "21_virus_infected_attachment",
          "145_warnings_ads_attachments"
         ],
         "tickvals": [
          -5,
          -15,
          -25,
          -35,
          -45,
          -55,
          -65,
          -75,
          -85,
          -95,
          -105,
          -115,
          -125,
          -135,
          -145,
          -155,
          -165,
          -175,
          -185,
          -195,
          -205,
          -215,
          -225,
          -235,
          -245,
          -255,
          -265,
          -275,
          -285,
          -295,
          -305,
          -315,
          -325,
          -335,
          -345,
          -355,
          -365,
          -375,
          -385,
          -395,
          -405,
          -415,
          -425,
          -435,
          -445,
          -455,
          -465,
          -475,
          -485,
          -495,
          -505,
          -515,
          -525,
          -535,
          -545,
          -555,
          -565,
          -575,
          -585,
          -595,
          -605,
          -615,
          -625,
          -635,
          -645,
          -655,
          -665,
          -675,
          -685,
          -695,
          -705,
          -715,
          -725,
          -735,
          -745,
          -755,
          -765,
          -775,
          -785,
          -795,
          -805,
          -815,
          -825,
          -835,
          -845,
          -855,
          -865,
          -875,
          -885,
          -895,
          -905,
          -915,
          -925,
          -935,
          -945,
          -955,
          -965,
          -975,
          -985,
          -995,
          -1005,
          -1015,
          -1025,
          -1035,
          -1045,
          -1055,
          -1065,
          -1075,
          -1085,
          -1095,
          -1105,
          -1115,
          -1125,
          -1135,
          -1145,
          -1155,
          -1165,
          -1175,
          -1185,
          -1195,
          -1205,
          -1215,
          -1225,
          -1235,
          -1245,
          -1255,
          -1265,
          -1275,
          -1285,
          -1295,
          -1305,
          -1315,
          -1325,
          -1335,
          -1345,
          -1355,
          -1365,
          -1375,
          -1385,
          -1395,
          -1405,
          -1415,
          -1425,
          -1435,
          -1445,
          -1455,
          -1465,
          -1475,
          -1485,
          -1495,
          -1505,
          -1515,
          -1525,
          -1535,
          -1545,
          -1555,
          -1565,
          -1575,
          -1585,
          -1595,
          -1605,
          -1615,
          -1625,
          -1635,
          -1645,
          -1655,
          -1665,
          -1675,
          -1685,
          -1695,
          -1705,
          -1715,
          -1725,
          -1735,
          -1745,
          -1755,
          -1765,
          -1775,
          -1785,
          -1795,
          -1805,
          -1815,
          -1825,
          -1835,
          -1845,
          -1855,
          -1865,
          -1875,
          -1885,
          -1895,
          -1905,
          -1915,
          -1925,
          -1935,
          -1945,
          -1955,
          -1965,
          -1975,
          -1985,
          -1995,
          -2005,
          -2015,
          -2025,
          -2035,
          -2045,
          -2055,
          -2065,
          -2075,
          -2085,
          -2095,
          -2105,
          -2115,
          -2125
         ],
         "type": "linear",
         "zeroline": false
        }
       }
      }
     },
     "metadata": {},
     "output_type": "display_data"
    }
   ],
   "source": [
    "topic_model.visualize_hierarchy(hierarchical_topics=hierarchical_topics)"
   ]
  },
  {
   "cell_type": "markdown",
   "metadata": {},
   "source": [
    "## Merging Topics"
   ]
  },
  {
   "cell_type": "code",
   "execution_count": 1679,
   "metadata": {},
   "outputs": [
    {
     "name": "stdout",
     "output_type": "stream",
     "text": [
      "Topic: 0\n",
      "\n",
      "Top Words:\n",
      "him, he, her, it, she, me, sent, send, ll, you, \n",
      "\n",
      "Representative Target Sentences: \n",
      "I'm sending this e-mail to her as well so she can call you.\n",
      "If you want to call him know, it is ok or you can email me your response and I will send it on.\n",
      "so I'll alert him that he needs to send you this info.\n"
     ]
    }
   ],
   "source": [
    "# Inspect Topics to Merge\n",
    "topic_id = 0 # Replace with the ID of the topic you're interested in\n",
    "top_words = topic_model.get_topic(topic_id)\n",
    "print(\"Topic: \"+str(topic_id)+\"\\n\\nTop Words:\")\n",
    "for word in top_words:\n",
    "    print(word[0], end=\", \")\n",
    "print('\\n\\nRepresentative Target Sentences: ')\n",
    "for doc in topic_model.get_topic_info().iloc[topic_id+1]['Representative_Docs']:\n",
    "    print(doc)"
   ]
  },
  {
   "cell_type": "code",
   "execution_count": 1677,
   "metadata": {},
   "outputs": [],
   "source": [
    "custom_labels = {\n",
    "    topic_id: str(topic_id)+\"_\"+\"send_signed_copy\",\n",
    "}\n",
    "topic_model.set_topic_labels(custom_labels)"
   ]
  },
  {
   "cell_type": "code",
   "execution_count": 1553,
   "metadata": {},
   "outputs": [
    {
     "name": "stdout",
     "output_type": "stream",
     "text": [
      "David,  I believe that Sujan will send this to you as soon as the resource assignment gets finalized (after we've completed our internal discussions).\n",
      "Please send that information to the  documentation team.\n",
      "I am documenting the example db demo and I will send it to the whole team shortly.\n",
      "If you have more than one application /demo to do ,please send me the details of what is to be done.\n",
      "I am putting together the requirements document for the demo and I will send it out to everyone when it is complete.\n",
      "Hi Team,  When you need an MC to work on Requirements, please remember to send us an e-mail with the following info.:  1.\n",
      "can you send me the details for the KPMG demo so that I can start working on it.\n",
      "Attached is a list of key requirements that I agreed to send to you.\n",
      "Also, if possible please resend docs on RIR that I requested.\n",
      "Zenki will send out an email tonight with more detail information on what the bank is looking for from the alerts requirements.\n",
      "Steve,  I have just sent the ops request with all the required information for S&P 500 demo that needed to be running for this coming Monday.\n",
      "I've sent Joyce a copy of the updated application requirements document.\n",
      "If you are sending the document on the 3rd, please call a meeting on Friday or the Monday after you send the requirements document to review and and make sure we are all on the same page.\n",
      "call discussion before we send them the manuals.\n",
      "Did you or Michael get a chance to respond to the requirements document that I sent?   Thanks,   Douga....\n",
      "Please send that information to the  documentation team.\n",
      "I also sent the customer Requirements document and a blank Feedback Form (not the attached one).\n",
      "As discussed, please send the information to JParks@corio.com.\n",
      "Praveen,  Documentation is still working on 3.5, soon the info is available they will send us.\n",
      "Can you send me the new documents for the Functional Specs ?   Thanks & Regards, Sreenivas Madiraju, Quality Assurance Engineer, AvocadoIT Inc, 2211 North First Street, Suite 200, San Jose, CA 95131 MAIN - 408 - 562 - 8000 DIRECT - 408 - 562 - 8088 FAX - 408 - 562 - 8100\n"
     ]
    }
   ],
   "source": [
    "documents = [docs[i] for i, topic in enumerate(topic_model.topics_) if topic == topic_id]\n",
    "for i in range(20):\n",
    "    print(documents[i])"
   ]
  },
  {
   "cell_type": "code",
   "execution_count": 1517,
   "metadata": {},
   "outputs": [],
   "source": [
    "topic_model.merge_topics(docs, [-1,topic_id])"
   ]
  },
  {
   "cell_type": "code",
   "execution_count": 1441,
   "metadata": {},
   "outputs": [
    {
     "data": {
      "text/plain": [
       "55"
      ]
     },
     "execution_count": 1441,
     "metadata": {},
     "output_type": "execute_result"
    }
   ],
   "source": [
    "len(topic_model.get_topics())"
   ]
  },
  {
   "cell_type": "code",
   "execution_count": 1680,
   "metadata": {},
   "outputs": [
    {
     "name": "stderr",
     "output_type": "stream",
     "text": [
      "2024-10-29 23:14:53,375 - BERTopic - WARNING: When you use `pickle` to save/load a BERTopic model,please make sure that the environments in which you saveand load the model are **exactly** the same. The version of BERTopic,its dependencies, and python need to remain the same.\n"
     ]
    }
   ],
   "source": [
    "topic_model.save(\"../../data/bertopic_models/processed/send_final\")"
   ]
  },
  {
   "cell_type": "code",
   "execution_count": 1681,
   "metadata": {},
   "outputs": [
    {
     "data": {
      "application/vnd.plotly.v1+json": {
       "config": {
        "plotlyServerURL": "https://plot.ly"
       },
       "data": [
        {
         "hoverinfo": "text",
         "marker": {
          "color": "rgb(61,153,112)"
         },
         "mode": "lines",
         "type": "scatter",
         "x": [
          0,
          0.8395085958533695,
          0.8395085958533695,
          0
         ],
         "xaxis": "x",
         "y": [
          -35,
          -35,
          -45,
          -45
         ],
         "yaxis": "y"
        },
        {
         "hoverinfo": "text",
         "marker": {
          "color": "rgb(61,153,112)"
         },
         "mode": "lines",
         "type": "scatter",
         "x": [
          0,
          0.8792779853078817,
          0.8792779853078817,
          0.8395085958533695
         ],
         "xaxis": "x",
         "y": [
          -25,
          -25,
          -40,
          -40
         ],
         "yaxis": "y"
        },
        {
         "hoverinfo": "text",
         "marker": {
          "color": "rgb(61,153,112)"
         },
         "mode": "lines",
         "type": "scatter",
         "x": [
          0.8792779853078817,
          0.9189644386727304,
          0.9189644386727304,
          0
         ],
         "xaxis": "x",
         "y": [
          -32.5,
          -32.5,
          -55,
          -55
         ],
         "yaxis": "y"
        },
        {
         "hoverinfo": "text",
         "marker": {
          "color": "rgb(61,153,112)"
         },
         "mode": "lines",
         "type": "scatter",
         "x": [
          0,
          0.947751336266121,
          0.947751336266121,
          0.9189644386727304
         ],
         "xaxis": "x",
         "y": [
          -15,
          -15,
          -43.75,
          -43.75
         ],
         "yaxis": "y"
        },
        {
         "hoverinfo": "text",
         "marker": {
          "color": "rgb(61,153,112)"
         },
         "mode": "lines",
         "type": "scatter",
         "x": [
          0,
          0.9532594292238676,
          0.9532594292238676,
          0.947751336266121
         ],
         "xaxis": "x",
         "y": [
          -5,
          -5,
          -29.375,
          -29.375
         ],
         "yaxis": "y"
        },
        {
         "hoverinfo": "text",
         "marker": {
          "color": "rgb(61,153,112)"
         },
         "mode": "lines",
         "type": "scatter",
         "x": [
          0,
          0.8449788990421532,
          0.8449788990421532,
          0
         ],
         "xaxis": "x",
         "y": [
          -65,
          -65,
          -75,
          -75
         ],
         "yaxis": "y"
        },
        {
         "hoverinfo": "text",
         "marker": {
          "color": "rgb(61,153,112)"
         },
         "mode": "lines",
         "type": "scatter",
         "x": [
          0,
          0.7092119072005947,
          0.7092119072005947,
          0
         ],
         "xaxis": "x",
         "y": [
          -85,
          -85,
          -95,
          -95
         ],
         "yaxis": "y"
        },
        {
         "hoverinfo": "text",
         "marker": {
          "color": "rgb(61,153,112)"
         },
         "mode": "lines",
         "type": "scatter",
         "x": [
          0.7092119072005947,
          0.842774438959861,
          0.842774438959861,
          0
         ],
         "xaxis": "x",
         "y": [
          -90,
          -90,
          -105,
          -105
         ],
         "yaxis": "y"
        },
        {
         "hoverinfo": "text",
         "marker": {
          "color": "rgb(61,153,112)"
         },
         "mode": "lines",
         "type": "scatter",
         "x": [
          0.8449788990421532,
          0.8815022688509462,
          0.8815022688509462,
          0.842774438959861
         ],
         "xaxis": "x",
         "y": [
          -70,
          -70,
          -97.5,
          -97.5
         ],
         "yaxis": "y"
        },
        {
         "hoverinfo": "text",
         "marker": {
          "color": "rgb(61,153,112)"
         },
         "mode": "lines",
         "type": "scatter",
         "x": [
          0.8815022688509462,
          0.9162645997262465,
          0.9162645997262465,
          0
         ],
         "xaxis": "x",
         "y": [
          -83.75,
          -83.75,
          -115,
          -115
         ],
         "yaxis": "y"
        },
        {
         "hoverinfo": "text",
         "marker": {
          "color": "rgb(61,153,112)"
         },
         "mode": "lines",
         "type": "scatter",
         "x": [
          0.9532594292238676,
          0.9681657409674581,
          0.9681657409674581,
          0.9162645997262465
         ],
         "xaxis": "x",
         "y": [
          -17.1875,
          -17.1875,
          -99.375,
          -99.375
         ],
         "yaxis": "y"
        },
        {
         "hoverinfo": "text",
         "marker": {
          "color": "rgb(255,65,54)"
         },
         "mode": "lines",
         "type": "scatter",
         "x": [
          0,
          0.7912653748057006,
          0.7912653748057006,
          0
         ],
         "xaxis": "x",
         "y": [
          -135,
          -135,
          -145,
          -145
         ],
         "yaxis": "y"
        },
        {
         "hoverinfo": "text",
         "marker": {
          "color": "rgb(255,65,54)"
         },
         "mode": "lines",
         "type": "scatter",
         "x": [
          0,
          0.8880232736272449,
          0.8880232736272449,
          0.7912653748057006
         ],
         "xaxis": "x",
         "y": [
          -125,
          -125,
          -140,
          -140
         ],
         "yaxis": "y"
        },
        {
         "hoverinfo": "text",
         "marker": {
          "color": "rgb(0,116,217)"
         },
         "mode": "lines",
         "type": "scatter",
         "x": [
          0.9681657409674581,
          1.0061242169905442,
          1.0061242169905442,
          0.8880232736272449
         ],
         "xaxis": "x",
         "y": [
          -58.28125,
          -58.28125,
          -132.5,
          -132.5
         ],
         "yaxis": "y"
        },
        {
         "hoverinfo": "text",
         "marker": {
          "color": "rgb(35,205,205)"
         },
         "mode": "lines",
         "type": "scatter",
         "x": [
          0,
          0.5745469718686392,
          0.5745469718686392,
          0
         ],
         "xaxis": "x",
         "y": [
          -155,
          -155,
          -165,
          -165
         ],
         "yaxis": "y"
        },
        {
         "hoverinfo": "text",
         "marker": {
          "color": "rgb(35,205,205)"
         },
         "mode": "lines",
         "type": "scatter",
         "x": [
          0.5745469718686392,
          0.5979199629432183,
          0.5979199629432183,
          0
         ],
         "xaxis": "x",
         "y": [
          -160,
          -160,
          -175,
          -175
         ],
         "yaxis": "y"
        },
        {
         "hoverinfo": "text",
         "marker": {
          "color": "rgb(133,20,75)"
         },
         "mode": "lines",
         "type": "scatter",
         "x": [
          0,
          0.7214107114384339,
          0.7214107114384339,
          0
         ],
         "xaxis": "x",
         "y": [
          -195,
          -195,
          -205,
          -205
         ],
         "yaxis": "y"
        },
        {
         "hoverinfo": "text",
         "marker": {
          "color": "rgb(133,20,75)"
         },
         "mode": "lines",
         "type": "scatter",
         "x": [
          0,
          0.8301987797352521,
          0.8301987797352521,
          0.7214107114384339
         ],
         "xaxis": "x",
         "y": [
          -185,
          -185,
          -200,
          -200
         ],
         "yaxis": "y"
        },
        {
         "hoverinfo": "text",
         "marker": {
          "color": "rgb(133,20,75)"
         },
         "mode": "lines",
         "type": "scatter",
         "x": [
          0,
          0.7326062989344935,
          0.7326062989344935,
          0
         ],
         "xaxis": "x",
         "y": [
          -215,
          -215,
          -225,
          -225
         ],
         "yaxis": "y"
        },
        {
         "hoverinfo": "text",
         "marker": {
          "color": "rgb(133,20,75)"
         },
         "mode": "lines",
         "type": "scatter",
         "x": [
          0.7326062989344935,
          0.8190223387448914,
          0.8190223387448914,
          0
         ],
         "xaxis": "x",
         "y": [
          -220,
          -220,
          -235,
          -235
         ],
         "yaxis": "y"
        },
        {
         "hoverinfo": "text",
         "marker": {
          "color": "rgb(133,20,75)"
         },
         "mode": "lines",
         "type": "scatter",
         "x": [
          0.8301987797352521,
          0.8547311293164599,
          0.8547311293164599,
          0.8190223387448914
         ],
         "xaxis": "x",
         "y": [
          -192.5,
          -192.5,
          -227.5,
          -227.5
         ],
         "yaxis": "y"
        },
        {
         "hoverinfo": "text",
         "marker": {
          "color": "rgb(133,20,75)"
         },
         "mode": "lines",
         "type": "scatter",
         "x": [
          0,
          0.4995514268262722,
          0.4995514268262722,
          0
         ],
         "xaxis": "x",
         "y": [
          -265,
          -265,
          -275,
          -275
         ],
         "yaxis": "y"
        },
        {
         "hoverinfo": "text",
         "marker": {
          "color": "rgb(133,20,75)"
         },
         "mode": "lines",
         "type": "scatter",
         "x": [
          0,
          0.6251290885245002,
          0.6251290885245002,
          0.4995514268262722
         ],
         "xaxis": "x",
         "y": [
          -255,
          -255,
          -270,
          -270
         ],
         "yaxis": "y"
        },
        {
         "hoverinfo": "text",
         "marker": {
          "color": "rgb(133,20,75)"
         },
         "mode": "lines",
         "type": "scatter",
         "x": [
          0.6251290885245002,
          0.6624920048497606,
          0.6624920048497606,
          0
         ],
         "xaxis": "x",
         "y": [
          -262.5,
          -262.5,
          -285,
          -285
         ],
         "yaxis": "y"
        },
        {
         "hoverinfo": "text",
         "marker": {
          "color": "rgb(133,20,75)"
         },
         "mode": "lines",
         "type": "scatter",
         "x": [
          0.6624920048497606,
          0.7066895811625121,
          0.7066895811625121,
          0
         ],
         "xaxis": "x",
         "y": [
          -273.75,
          -273.75,
          -295,
          -295
         ],
         "yaxis": "y"
        },
        {
         "hoverinfo": "text",
         "marker": {
          "color": "rgb(133,20,75)"
         },
         "mode": "lines",
         "type": "scatter",
         "x": [
          0,
          0.7419961511962582,
          0.7419961511962582,
          0.7066895811625121
         ],
         "xaxis": "x",
         "y": [
          -245,
          -245,
          -284.375,
          -284.375
         ],
         "yaxis": "y"
        },
        {
         "hoverinfo": "text",
         "marker": {
          "color": "rgb(133,20,75)"
         },
         "mode": "lines",
         "type": "scatter",
         "x": [
          0.7419961511962582,
          0.7706219380111783,
          0.7706219380111783,
          0
         ],
         "xaxis": "x",
         "y": [
          -264.6875,
          -264.6875,
          -305,
          -305
         ],
         "yaxis": "y"
        },
        {
         "hoverinfo": "text",
         "marker": {
          "color": "rgb(133,20,75)"
         },
         "mode": "lines",
         "type": "scatter",
         "x": [
          0.7706219380111783,
          0.7965551148308837,
          0.7965551148308837,
          0
         ],
         "xaxis": "x",
         "y": [
          -284.84375,
          -284.84375,
          -315,
          -315
         ],
         "yaxis": "y"
        },
        {
         "hoverinfo": "text",
         "marker": {
          "color": "rgb(133,20,75)"
         },
         "mode": "lines",
         "type": "scatter",
         "x": [
          0.8547311293164599,
          0.8742184637986885,
          0.8742184637986885,
          0.7965551148308837
         ],
         "xaxis": "x",
         "y": [
          -210,
          -210,
          -299.921875,
          -299.921875
         ],
         "yaxis": "y"
        },
        {
         "hoverinfo": "text",
         "marker": {
          "color": "rgb(133,20,75)"
         },
         "mode": "lines",
         "type": "scatter",
         "x": [
          0,
          0.7806973667868604,
          0.7806973667868604,
          0
         ],
         "xaxis": "x",
         "y": [
          -325,
          -325,
          -335,
          -335
         ],
         "yaxis": "y"
        },
        {
         "hoverinfo": "text",
         "marker": {
          "color": "rgb(133,20,75)"
         },
         "mode": "lines",
         "type": "scatter",
         "x": [
          0,
          0.7508815168280829,
          0.7508815168280829,
          0
         ],
         "xaxis": "x",
         "y": [
          -345,
          -345,
          -355,
          -355
         ],
         "yaxis": "y"
        },
        {
         "hoverinfo": "text",
         "marker": {
          "color": "rgb(133,20,75)"
         },
         "mode": "lines",
         "type": "scatter",
         "x": [
          0.7508815168280829,
          0.7843613601669566,
          0.7843613601669566,
          0
         ],
         "xaxis": "x",
         "y": [
          -350,
          -350,
          -365,
          -365
         ],
         "yaxis": "y"
        },
        {
         "hoverinfo": "text",
         "marker": {
          "color": "rgb(133,20,75)"
         },
         "mode": "lines",
         "type": "scatter",
         "x": [
          0.7806973667868604,
          0.8578173179416382,
          0.8578173179416382,
          0.7843613601669566
         ],
         "xaxis": "x",
         "y": [
          -330,
          -330,
          -357.5,
          -357.5
         ],
         "yaxis": "y"
        },
        {
         "hoverinfo": "text",
         "marker": {
          "color": "rgb(133,20,75)"
         },
         "mode": "lines",
         "type": "scatter",
         "x": [
          0.8742184637986885,
          0.9430035758548271,
          0.9430035758548271,
          0.8578173179416382
         ],
         "xaxis": "x",
         "y": [
          -254.9609375,
          -254.9609375,
          -343.75,
          -343.75
         ],
         "yaxis": "y"
        },
        {
         "hoverinfo": "text",
         "marker": {
          "color": "rgb(255,220,0)"
         },
         "mode": "lines",
         "type": "scatter",
         "x": [
          0,
          0.6934329707114986,
          0.6934329707114986,
          0
         ],
         "xaxis": "x",
         "y": [
          -375,
          -375,
          -385,
          -385
         ],
         "yaxis": "y"
        },
        {
         "hoverinfo": "text",
         "marker": {
          "color": "rgb(40,35,35)"
         },
         "mode": "lines",
         "type": "scatter",
         "x": [
          0,
          0.7595562289697408,
          0.7595562289697408,
          0
         ],
         "xaxis": "x",
         "y": [
          -415,
          -415,
          -425,
          -425
         ],
         "yaxis": "y"
        },
        {
         "hoverinfo": "text",
         "marker": {
          "color": "rgb(40,35,35)"
         },
         "mode": "lines",
         "type": "scatter",
         "x": [
          0,
          0.8109485029939393,
          0.8109485029939393,
          0.7595562289697408
         ],
         "xaxis": "x",
         "y": [
          -405,
          -405,
          -420,
          -420
         ],
         "yaxis": "y"
        },
        {
         "hoverinfo": "text",
         "marker": {
          "color": "rgb(40,35,35)"
         },
         "mode": "lines",
         "type": "scatter",
         "x": [
          0.8109485029939393,
          0.830952200185866,
          0.830952200185866,
          0
         ],
         "xaxis": "x",
         "y": [
          -412.5,
          -412.5,
          -435,
          -435
         ],
         "yaxis": "y"
        },
        {
         "hoverinfo": "text",
         "marker": {
          "color": "rgb(40,35,35)"
         },
         "mode": "lines",
         "type": "scatter",
         "x": [
          0,
          0.8971503246175212,
          0.8971503246175212,
          0.830952200185866
         ],
         "xaxis": "x",
         "y": [
          -395,
          -395,
          -423.75,
          -423.75
         ],
         "yaxis": "y"
        },
        {
         "hoverinfo": "text",
         "marker": {
          "color": "rgb(40,35,35)"
         },
         "mode": "lines",
         "type": "scatter",
         "x": [
          0,
          0.8501920526623127,
          0.8501920526623127,
          0
         ],
         "xaxis": "x",
         "y": [
          -455,
          -455,
          -465,
          -465
         ],
         "yaxis": "y"
        },
        {
         "hoverinfo": "text",
         "marker": {
          "color": "rgb(40,35,35)"
         },
         "mode": "lines",
         "type": "scatter",
         "x": [
          0.8501920526623127,
          0.8918257364726143,
          0.8918257364726143,
          0
         ],
         "xaxis": "x",
         "y": [
          -460,
          -460,
          -475,
          -475
         ],
         "yaxis": "y"
        },
        {
         "hoverinfo": "text",
         "marker": {
          "color": "rgb(40,35,35)"
         },
         "mode": "lines",
         "type": "scatter",
         "x": [
          0,
          0.9067786800865282,
          0.9067786800865282,
          0.8918257364726143
         ],
         "xaxis": "x",
         "y": [
          -445,
          -445,
          -467.5,
          -467.5
         ],
         "yaxis": "y"
        },
        {
         "hoverinfo": "text",
         "marker": {
          "color": "rgb(40,35,35)"
         },
         "mode": "lines",
         "type": "scatter",
         "x": [
          0.8971503246175212,
          0.9530549700674317,
          0.9530549700674317,
          0.9067786800865282
         ],
         "xaxis": "x",
         "y": [
          -409.375,
          -409.375,
          -456.25,
          -456.25
         ],
         "yaxis": "y"
        },
        {
         "hoverinfo": "text",
         "marker": {
          "color": "rgb(0,116,217)"
         },
         "mode": "lines",
         "type": "scatter",
         "x": [
          0.6934329707114986,
          1.0363551110225002,
          1.0363551110225002,
          0.9530549700674317
         ],
         "xaxis": "x",
         "y": [
          -380,
          -380,
          -432.8125,
          -432.8125
         ],
         "yaxis": "y"
        },
        {
         "hoverinfo": "text",
         "marker": {
          "color": "rgb(0,116,217)"
         },
         "mode": "lines",
         "type": "scatter",
         "x": [
          0.9430035758548271,
          1.0616736490427492,
          1.0616736490427492,
          1.0363551110225002
         ],
         "xaxis": "x",
         "y": [
          -299.35546875,
          -299.35546875,
          -406.40625,
          -406.40625
         ],
         "yaxis": "y"
        },
        {
         "hoverinfo": "text",
         "marker": {
          "color": "rgb(0,116,217)"
         },
         "mode": "lines",
         "type": "scatter",
         "x": [
          0.5979199629432183,
          1.136465515122497,
          1.136465515122497,
          1.0616736490427492
         ],
         "xaxis": "x",
         "y": [
          -167.5,
          -167.5,
          -352.880859375,
          -352.880859375
         ],
         "yaxis": "y"
        },
        {
         "hoverinfo": "text",
         "marker": {
          "color": "rgb(0,116,217)"
         },
         "mode": "lines",
         "type": "scatter",
         "x": [
          1.0061242169905442,
          1.2019154226483941,
          1.2019154226483941,
          1.136465515122497
         ],
         "xaxis": "x",
         "y": [
          -95.390625,
          -95.390625,
          -260.1904296875,
          -260.1904296875
         ],
         "yaxis": "y"
        }
       ],
       "layout": {
        "autosize": false,
        "height": 920,
        "hoverlabel": {
         "bgcolor": "white",
         "font": {
          "family": "Rockwell",
          "size": 16
         }
        },
        "hovermode": "closest",
        "plot_bgcolor": "#ECEFF1",
        "showlegend": false,
        "template": {
         "data": {
          "bar": [
           {
            "error_x": {
             "color": "#2a3f5f"
            },
            "error_y": {
             "color": "#2a3f5f"
            },
            "marker": {
             "line": {
              "color": "white",
              "width": 0.5
             },
             "pattern": {
              "fillmode": "overlay",
              "size": 10,
              "solidity": 0.2
             }
            },
            "type": "bar"
           }
          ],
          "barpolar": [
           {
            "marker": {
             "line": {
              "color": "white",
              "width": 0.5
             },
             "pattern": {
              "fillmode": "overlay",
              "size": 10,
              "solidity": 0.2
             }
            },
            "type": "barpolar"
           }
          ],
          "carpet": [
           {
            "aaxis": {
             "endlinecolor": "#2a3f5f",
             "gridcolor": "#C8D4E3",
             "linecolor": "#C8D4E3",
             "minorgridcolor": "#C8D4E3",
             "startlinecolor": "#2a3f5f"
            },
            "baxis": {
             "endlinecolor": "#2a3f5f",
             "gridcolor": "#C8D4E3",
             "linecolor": "#C8D4E3",
             "minorgridcolor": "#C8D4E3",
             "startlinecolor": "#2a3f5f"
            },
            "type": "carpet"
           }
          ],
          "choropleth": [
           {
            "colorbar": {
             "outlinewidth": 0,
             "ticks": ""
            },
            "type": "choropleth"
           }
          ],
          "contour": [
           {
            "colorbar": {
             "outlinewidth": 0,
             "ticks": ""
            },
            "colorscale": [
             [
              0,
              "#0d0887"
             ],
             [
              0.1111111111111111,
              "#46039f"
             ],
             [
              0.2222222222222222,
              "#7201a8"
             ],
             [
              0.3333333333333333,
              "#9c179e"
             ],
             [
              0.4444444444444444,
              "#bd3786"
             ],
             [
              0.5555555555555556,
              "#d8576b"
             ],
             [
              0.6666666666666666,
              "#ed7953"
             ],
             [
              0.7777777777777778,
              "#fb9f3a"
             ],
             [
              0.8888888888888888,
              "#fdca26"
             ],
             [
              1,
              "#f0f921"
             ]
            ],
            "type": "contour"
           }
          ],
          "contourcarpet": [
           {
            "colorbar": {
             "outlinewidth": 0,
             "ticks": ""
            },
            "type": "contourcarpet"
           }
          ],
          "heatmap": [
           {
            "colorbar": {
             "outlinewidth": 0,
             "ticks": ""
            },
            "colorscale": [
             [
              0,
              "#0d0887"
             ],
             [
              0.1111111111111111,
              "#46039f"
             ],
             [
              0.2222222222222222,
              "#7201a8"
             ],
             [
              0.3333333333333333,
              "#9c179e"
             ],
             [
              0.4444444444444444,
              "#bd3786"
             ],
             [
              0.5555555555555556,
              "#d8576b"
             ],
             [
              0.6666666666666666,
              "#ed7953"
             ],
             [
              0.7777777777777778,
              "#fb9f3a"
             ],
             [
              0.8888888888888888,
              "#fdca26"
             ],
             [
              1,
              "#f0f921"
             ]
            ],
            "type": "heatmap"
           }
          ],
          "heatmapgl": [
           {
            "colorbar": {
             "outlinewidth": 0,
             "ticks": ""
            },
            "colorscale": [
             [
              0,
              "#0d0887"
             ],
             [
              0.1111111111111111,
              "#46039f"
             ],
             [
              0.2222222222222222,
              "#7201a8"
             ],
             [
              0.3333333333333333,
              "#9c179e"
             ],
             [
              0.4444444444444444,
              "#bd3786"
             ],
             [
              0.5555555555555556,
              "#d8576b"
             ],
             [
              0.6666666666666666,
              "#ed7953"
             ],
             [
              0.7777777777777778,
              "#fb9f3a"
             ],
             [
              0.8888888888888888,
              "#fdca26"
             ],
             [
              1,
              "#f0f921"
             ]
            ],
            "type": "heatmapgl"
           }
          ],
          "histogram": [
           {
            "marker": {
             "pattern": {
              "fillmode": "overlay",
              "size": 10,
              "solidity": 0.2
             }
            },
            "type": "histogram"
           }
          ],
          "histogram2d": [
           {
            "colorbar": {
             "outlinewidth": 0,
             "ticks": ""
            },
            "colorscale": [
             [
              0,
              "#0d0887"
             ],
             [
              0.1111111111111111,
              "#46039f"
             ],
             [
              0.2222222222222222,
              "#7201a8"
             ],
             [
              0.3333333333333333,
              "#9c179e"
             ],
             [
              0.4444444444444444,
              "#bd3786"
             ],
             [
              0.5555555555555556,
              "#d8576b"
             ],
             [
              0.6666666666666666,
              "#ed7953"
             ],
             [
              0.7777777777777778,
              "#fb9f3a"
             ],
             [
              0.8888888888888888,
              "#fdca26"
             ],
             [
              1,
              "#f0f921"
             ]
            ],
            "type": "histogram2d"
           }
          ],
          "histogram2dcontour": [
           {
            "colorbar": {
             "outlinewidth": 0,
             "ticks": ""
            },
            "colorscale": [
             [
              0,
              "#0d0887"
             ],
             [
              0.1111111111111111,
              "#46039f"
             ],
             [
              0.2222222222222222,
              "#7201a8"
             ],
             [
              0.3333333333333333,
              "#9c179e"
             ],
             [
              0.4444444444444444,
              "#bd3786"
             ],
             [
              0.5555555555555556,
              "#d8576b"
             ],
             [
              0.6666666666666666,
              "#ed7953"
             ],
             [
              0.7777777777777778,
              "#fb9f3a"
             ],
             [
              0.8888888888888888,
              "#fdca26"
             ],
             [
              1,
              "#f0f921"
             ]
            ],
            "type": "histogram2dcontour"
           }
          ],
          "mesh3d": [
           {
            "colorbar": {
             "outlinewidth": 0,
             "ticks": ""
            },
            "type": "mesh3d"
           }
          ],
          "parcoords": [
           {
            "line": {
             "colorbar": {
              "outlinewidth": 0,
              "ticks": ""
             }
            },
            "type": "parcoords"
           }
          ],
          "pie": [
           {
            "automargin": true,
            "type": "pie"
           }
          ],
          "scatter": [
           {
            "fillpattern": {
             "fillmode": "overlay",
             "size": 10,
             "solidity": 0.2
            },
            "type": "scatter"
           }
          ],
          "scatter3d": [
           {
            "line": {
             "colorbar": {
              "outlinewidth": 0,
              "ticks": ""
             }
            },
            "marker": {
             "colorbar": {
              "outlinewidth": 0,
              "ticks": ""
             }
            },
            "type": "scatter3d"
           }
          ],
          "scattercarpet": [
           {
            "marker": {
             "colorbar": {
              "outlinewidth": 0,
              "ticks": ""
             }
            },
            "type": "scattercarpet"
           }
          ],
          "scattergeo": [
           {
            "marker": {
             "colorbar": {
              "outlinewidth": 0,
              "ticks": ""
             }
            },
            "type": "scattergeo"
           }
          ],
          "scattergl": [
           {
            "marker": {
             "colorbar": {
              "outlinewidth": 0,
              "ticks": ""
             }
            },
            "type": "scattergl"
           }
          ],
          "scattermapbox": [
           {
            "marker": {
             "colorbar": {
              "outlinewidth": 0,
              "ticks": ""
             }
            },
            "type": "scattermapbox"
           }
          ],
          "scatterpolar": [
           {
            "marker": {
             "colorbar": {
              "outlinewidth": 0,
              "ticks": ""
             }
            },
            "type": "scatterpolar"
           }
          ],
          "scatterpolargl": [
           {
            "marker": {
             "colorbar": {
              "outlinewidth": 0,
              "ticks": ""
             }
            },
            "type": "scatterpolargl"
           }
          ],
          "scatterternary": [
           {
            "marker": {
             "colorbar": {
              "outlinewidth": 0,
              "ticks": ""
             }
            },
            "type": "scatterternary"
           }
          ],
          "surface": [
           {
            "colorbar": {
             "outlinewidth": 0,
             "ticks": ""
            },
            "colorscale": [
             [
              0,
              "#0d0887"
             ],
             [
              0.1111111111111111,
              "#46039f"
             ],
             [
              0.2222222222222222,
              "#7201a8"
             ],
             [
              0.3333333333333333,
              "#9c179e"
             ],
             [
              0.4444444444444444,
              "#bd3786"
             ],
             [
              0.5555555555555556,
              "#d8576b"
             ],
             [
              0.6666666666666666,
              "#ed7953"
             ],
             [
              0.7777777777777778,
              "#fb9f3a"
             ],
             [
              0.8888888888888888,
              "#fdca26"
             ],
             [
              1,
              "#f0f921"
             ]
            ],
            "type": "surface"
           }
          ],
          "table": [
           {
            "cells": {
             "fill": {
              "color": "#EBF0F8"
             },
             "line": {
              "color": "white"
             }
            },
            "header": {
             "fill": {
              "color": "#C8D4E3"
             },
             "line": {
              "color": "white"
             }
            },
            "type": "table"
           }
          ]
         },
         "layout": {
          "annotationdefaults": {
           "arrowcolor": "#2a3f5f",
           "arrowhead": 0,
           "arrowwidth": 1
          },
          "autotypenumbers": "strict",
          "coloraxis": {
           "colorbar": {
            "outlinewidth": 0,
            "ticks": ""
           }
          },
          "colorscale": {
           "diverging": [
            [
             0,
             "#8e0152"
            ],
            [
             0.1,
             "#c51b7d"
            ],
            [
             0.2,
             "#de77ae"
            ],
            [
             0.3,
             "#f1b6da"
            ],
            [
             0.4,
             "#fde0ef"
            ],
            [
             0.5,
             "#f7f7f7"
            ],
            [
             0.6,
             "#e6f5d0"
            ],
            [
             0.7,
             "#b8e186"
            ],
            [
             0.8,
             "#7fbc41"
            ],
            [
             0.9,
             "#4d9221"
            ],
            [
             1,
             "#276419"
            ]
           ],
           "sequential": [
            [
             0,
             "#0d0887"
            ],
            [
             0.1111111111111111,
             "#46039f"
            ],
            [
             0.2222222222222222,
             "#7201a8"
            ],
            [
             0.3333333333333333,
             "#9c179e"
            ],
            [
             0.4444444444444444,
             "#bd3786"
            ],
            [
             0.5555555555555556,
             "#d8576b"
            ],
            [
             0.6666666666666666,
             "#ed7953"
            ],
            [
             0.7777777777777778,
             "#fb9f3a"
            ],
            [
             0.8888888888888888,
             "#fdca26"
            ],
            [
             1,
             "#f0f921"
            ]
           ],
           "sequentialminus": [
            [
             0,
             "#0d0887"
            ],
            [
             0.1111111111111111,
             "#46039f"
            ],
            [
             0.2222222222222222,
             "#7201a8"
            ],
            [
             0.3333333333333333,
             "#9c179e"
            ],
            [
             0.4444444444444444,
             "#bd3786"
            ],
            [
             0.5555555555555556,
             "#d8576b"
            ],
            [
             0.6666666666666666,
             "#ed7953"
            ],
            [
             0.7777777777777778,
             "#fb9f3a"
            ],
            [
             0.8888888888888888,
             "#fdca26"
            ],
            [
             1,
             "#f0f921"
            ]
           ]
          },
          "colorway": [
           "#636efa",
           "#EF553B",
           "#00cc96",
           "#ab63fa",
           "#FFA15A",
           "#19d3f3",
           "#FF6692",
           "#B6E880",
           "#FF97FF",
           "#FECB52"
          ],
          "font": {
           "color": "#2a3f5f"
          },
          "geo": {
           "bgcolor": "white",
           "lakecolor": "white",
           "landcolor": "white",
           "showlakes": true,
           "showland": true,
           "subunitcolor": "#C8D4E3"
          },
          "hoverlabel": {
           "align": "left"
          },
          "hovermode": "closest",
          "mapbox": {
           "style": "light"
          },
          "paper_bgcolor": "white",
          "plot_bgcolor": "white",
          "polar": {
           "angularaxis": {
            "gridcolor": "#EBF0F8",
            "linecolor": "#EBF0F8",
            "ticks": ""
           },
           "bgcolor": "white",
           "radialaxis": {
            "gridcolor": "#EBF0F8",
            "linecolor": "#EBF0F8",
            "ticks": ""
           }
          },
          "scene": {
           "xaxis": {
            "backgroundcolor": "white",
            "gridcolor": "#DFE8F3",
            "gridwidth": 2,
            "linecolor": "#EBF0F8",
            "showbackground": true,
            "ticks": "",
            "zerolinecolor": "#EBF0F8"
           },
           "yaxis": {
            "backgroundcolor": "white",
            "gridcolor": "#DFE8F3",
            "gridwidth": 2,
            "linecolor": "#EBF0F8",
            "showbackground": true,
            "ticks": "",
            "zerolinecolor": "#EBF0F8"
           },
           "zaxis": {
            "backgroundcolor": "white",
            "gridcolor": "#DFE8F3",
            "gridwidth": 2,
            "linecolor": "#EBF0F8",
            "showbackground": true,
            "ticks": "",
            "zerolinecolor": "#EBF0F8"
           }
          },
          "shapedefaults": {
           "line": {
            "color": "#2a3f5f"
           }
          },
          "ternary": {
           "aaxis": {
            "gridcolor": "#DFE8F3",
            "linecolor": "#A2B1C6",
            "ticks": ""
           },
           "baxis": {
            "gridcolor": "#DFE8F3",
            "linecolor": "#A2B1C6",
            "ticks": ""
           },
           "bgcolor": "white",
           "caxis": {
            "gridcolor": "#DFE8F3",
            "linecolor": "#A2B1C6",
            "ticks": ""
           }
          },
          "title": {
           "x": 0.05
          },
          "xaxis": {
           "automargin": true,
           "gridcolor": "#EBF0F8",
           "linecolor": "#EBF0F8",
           "ticks": "",
           "title": {
            "standoff": 15
           },
           "zerolinecolor": "#EBF0F8",
           "zerolinewidth": 2
          },
          "yaxis": {
           "automargin": true,
           "gridcolor": "#EBF0F8",
           "linecolor": "#EBF0F8",
           "ticks": "",
           "title": {
            "standoff": 15
           },
           "zerolinecolor": "#EBF0F8",
           "zerolinewidth": 2
          }
         }
        },
        "title": {
         "font": {
          "color": "Black",
          "size": 22
         },
         "text": "<b>Hierarchical Clustering</b>",
         "x": 0.5,
         "xanchor": "center",
         "yanchor": "top"
        },
        "width": 1000,
        "xaxis": {
         "mirror": "allticks",
         "rangemode": "tozero",
         "showgrid": false,
         "showline": true,
         "showticklabels": true,
         "ticks": "outside",
         "type": "linear",
         "zeroline": false
        },
        "yaxis": {
         "mirror": "allticks",
         "range": [
          -480,
          0
         ],
         "rangemode": "tozero",
         "showgrid": false,
         "showline": true,
         "showticklabels": true,
         "tickmode": "array",
         "ticks": "outside",
         "ticktext": [
          "43_send_scoping",
          "8_send_resume",
          "35_send_installation_requirements",
          "45_send_document_another_version",
          "21_resend_it",
          "44_send_translation",
          "31_send_announcement_salesep",
          "15_jsp_server",
          "17_send_aml_request",
          "4_send_files",
          "10_send_pqa",
          "12_resend_virus",
          "33_idc_error",
          "28_oca_osa_error",
          "40_send_logs",
          "37_send_information",
          "14_reach_me",
          "25_send_mail_in_case_of_questions",
          "24_send_password_login_webex",
          "3_send_fax",
          "5_send_invoice",
          "9_send_helpdesk_request",
          "38_send_problem_description",
          "30_siebel_support",
          "6_send_presentation",
          "7_send_test_results",
          "1_send_feedback",
          "0_send_it",
          "2_send_meeting_request",
          "22_send_documentation_requirements",
          "20_send_excel_spreadsheet",
          "36_send_project_plans",
          "27_send_status_report",
          "19_send_updates",
          "13_send_bug_report",
          "39_send_feature_list",
          "46_send_list",
          "47_send_signed_copy",
          "16_send_contract",
          "32_send_logos",
          "34_send_information",
          "18_send_to_partners_customers",
          "11_send_no_confidential",
          "29_send_accenture_contacts",
          "26_send_pictures",
          "41_send_gifts",
          "23_send_invite_evite",
          "42_survey"
         ],
         "tickvals": [
          -5,
          -15,
          -25,
          -35,
          -45,
          -55,
          -65,
          -75,
          -85,
          -95,
          -105,
          -115,
          -125,
          -135,
          -145,
          -155,
          -165,
          -175,
          -185,
          -195,
          -205,
          -215,
          -225,
          -235,
          -245,
          -255,
          -265,
          -275,
          -285,
          -295,
          -305,
          -315,
          -325,
          -335,
          -345,
          -355,
          -365,
          -375,
          -385,
          -395,
          -405,
          -415,
          -425,
          -435,
          -445,
          -455,
          -465,
          -475
         ],
         "type": "linear",
         "zeroline": false
        }
       }
      }
     },
     "metadata": {},
     "output_type": "display_data"
    }
   ],
   "source": [
    "topic_model.visualize_hierarchy(custom_labels=True)"
   ]
  },
  {
   "cell_type": "markdown",
   "metadata": {},
   "source": [
    "### Create Dataset "
   ]
  },
  {
   "cell_type": "code",
   "execution_count": 1577,
   "metadata": {},
   "outputs": [],
   "source": [
    "def get_label_from_topic_nr(topic_nr):\n",
    "    for label in topic_model.custom_labels_:\n",
    "        if label.startswith(str(topic_nr)):\n",
    "            label = label\n",
    "            label = re.sub(r\"^\\d+_\", \"\", label)\n",
    "            return label\n",
    "    raise Exception('Provided Topic Number has no label assigned!')"
   ]
  },
  {
   "cell_type": "code",
   "execution_count": 1562,
   "metadata": {},
   "outputs": [],
   "source": [
    "topic_number = 0  # Replace this with the specific topic number you want to inspect\n",
    "topic_docs = [doc for doc, topic in zip(docs, topic_model.topics_) if topic == topic_number]"
   ]
  },
  {
   "cell_type": "code",
   "execution_count": 1563,
   "metadata": {},
   "outputs": [
    {
     "data": {
      "text/plain": [
       "['Being that she told you and I [on the phone] that she had already sent them (???).',\n",
       " \"see, that's exactly why i sent it to you first.\",\n",
       " 'Will you please send them by tomorrow morning?',\n",
       " 'no, I sent it to you.',\n",
       " 'Raymond had sent me a mail saying that he was going to collect the car on Friday.',\n",
       " 'I just sent it to you.',\n",
       " \"As soon as I receive them, I'll send them to you.\",\n",
       " 'You sent me only the shortcut.',\n",
       " \"Gents, I'm sending you this for 2 reasons.\",\n",
       " 'Just send it to me.',\n",
       " '[mailto:Mark_Cohen@janus.com] Sent:\\tThursday, February 08, 2001 7:08 PM   Brett, Thanks for the insight into what you do.',\n",
       " '1. Please send him mail for problem with Clear Case.',\n",
       " '(I guess I probably should have checked that out before I sent it, but',\n",
       " 'Did you send it back?',\n",
       " 'I would like to send this out today, if possible.',\n",
       " 'I also tried sending her email.',\n",
       " 'I called her about 20 minutes ago to inform her of the status that Stephen just sent.  Douga...',\n",
       " 'Doug Adkins has been sending these over to me.',\n",
       " 'Would you please send it to me?  Thanks,  Laura',\n",
       " 'I will have to send these by the end of the day.',\n",
       " \"Thought I'd send this along to you in the interim.\",\n",
       " \"I'll send him a request as well.\",\n",
       " 'Your number one daughter, Elisabeth   Well, at the risk of sending another completely idiotic e-mail to the list and getting more people angry with me, I think I need to say something.',\n",
       " 'So I am sending it again.',\n",
       " 'He sent me this song “missing you” by Case. ?????',\n",
       " \"I'll send you email when it goes out.\",\n",
       " \"Hi Gloria,  I'm sure I sent this to you a while back..\",\n",
       " 'I can send them through but we are working through the weekend to finish tighten up etc.',\n",
       " 'If you want me to send this to Marc and Jennifer let me know.',\n",
       " 'I just need one to send them.',\n",
       " 'Did you guys send this?',\n",
       " 'I can send her August financials and 2002 projections by Wednesday.',\n",
       " 'Got it (in fact you sent it to me earlier).',\n",
       " 'Alice was supposed to come and ask you where to send it.',\n",
       " 'So she told me about it on the phone, then, as you\\'ll see down below I said, \"you\\'re fucked up,\" and she thought about it all night and sent this.',\n",
       " 'did he say how many more?  John, I will be sending you the handout materials (20) most likely today for delivery on Tuesday.',\n",
       " \"We'll send it as soon as it is ready.  Thanks.\",\n",
       " 'I  coordinated this with Naomi and am sending her a copy of this message.',\n",
       " \"I'm sending this e-mail to her as well so she can call you.\",\n",
       " 'If you are remote, I will be sending one in the mail Monday afternoon.',\n",
       " 'Devi claimed right after I sent the mail.',\n",
       " 'Just a summary: We discussed that i would send him a list of what I want built into the next site and also what I would need this person to do so that he could figure out if he had the correct person on-hand to fulfill the needs.',\n",
       " 'Since we were saving so much on her ticket, we decided to send my daughter along too',\n",
       " 'It is real important that I have this information by tomorrow morning US time, so can you make sure someone is able to send it.',\n",
       " 'I usually send this email to Teresa and Mitch, and signifies this account as a lead.',\n",
       " 'If you have it pls do send it.',\n",
       " \"He's supposed to be sending me an email soon\",\n",
       " \"As regards Accuweather - I heard from Lowry but he was to send me some files via email which I haven't received.  ...\",\n",
       " 'i will give it a shot and send it back to you tomorrow morning.',\n",
       " 'Can you send a quote for ten of them?',\n",
       " 'I did not send an email/request, because Mark S. told me that he had informed you on Monday and it was to be taken care of.',\n",
       " 'Shall I send it now?',\n",
       " 'This was explicit understanding that is why I got Marie to send that email based on which the agreement was drafted.',\n",
       " 'Hi I sent a mtg request for Thursday 10-11.',\n",
       " 'Appreciate sending them together, I can release all of them from customs in one shot.',\n",
       " 'Please do not send this out until Wednesday morning at 9 am Eastern time.',\n",
       " 'Send me what you have by 10 am today.',\n",
       " 'I need to send him information ASAP so any direction on what docs to send over would be appreciated, otherwise, I will send what I think is appropriate and available to me.',\n",
       " 'no, I sent it around 5:30ish...',\n",
       " 'So the fact that he sent me this email means that we may have a real opportunity here !',\n",
       " 'You sent the email at 11:30 pm.',\n",
       " 'I will send mail to your friend if he can find something for me in SJ area.',\n",
       " 'and then I will be able to send it to you.',\n",
       " 'And be careful sending the entire message to him; this e-mail contains internal communication.',\n",
       " 'Just send him your request.',\n",
       " \"If she's interested, she'll send YOU a drink.\",\n",
       " 'I was going to send it 3rd day saver.',\n",
       " 'You need to send him original letter.',\n",
       " 'I will send one out later.  Thanks, Mahesh',\n",
       " 'Sent him an email today, he asked that we follow-up in 2-3 business days to get his feedback on our service.',\n",
       " 'She has promised to send the details later.',\n",
       " 'Could you please re-send it.',\n",
       " 'I will forward the other mail they had sent us with her photos and biodata.',\n",
       " 'He is going to send me some contact info.',\n",
       " 'He will send me the contact.',\n",
       " 'I will send these to you later today.',\n",
       " 'I need to send this to Salesforce today (ASAP).',\n",
       " \"so if you send something in the morning, I'll get it in the evening (unless I've left the office, then I'll get it the next morning.)\",\n",
       " \"I'm gone next week but have been assured she'll send it to you Monday.\",\n",
       " \"I've sent an e-mail to Kelsey on this so I'll let you know what she says.\",\n",
       " 'I sent him an email asking him to clarify that he wants us to give him information while he works at Brience...',\n",
       " 'Will send them tonight or tomorrow.',\n",
       " \"I'll send them to you.\",\n",
       " 'Please contact her for any issue, and please send email to me.',\n",
       " '> Would you mind sending that to me again? > >',\n",
       " \"I'll send this again since I got no response from anyone.\",\n",
       " 'Send this e-mail to her!',\n",
       " 'Hence I am sending this from my home id, I will be in office Tuesday.',\n",
       " 'Debbie and I can send you one if you did not receive one.',\n",
       " \"so I'll alert him that he needs to send you this info.\",\n",
       " 'Sorry, it took me so long to send this.',\n",
       " 'Can you please send it again?',\n",
       " 'She sends her regrets.',\n",
       " 'Could you please send it to me again?',\n",
       " 'Sorry I could not send it earlier.',\n",
       " 'Alice -  Forgot to send you a note with my address:  Mary Smith 1920 E. 7th Avenue Denver, CO  80206 303 322 3236  Thanks!',\n",
       " 'can you send Renee the collateral she needs.',\n",
       " 'He then sent me a copy of a school program, which had her name in it.',\n",
       " 'I just sent out the story line I had prepared on Friday.',\n",
       " 'Send it over',\n",
       " 'I am not in the office today so I will cc: him on this and send him a req on Monday.',\n",
       " 'VOLT 650-903-0543 Ask for Sophia and tell her I sent you.',\n",
       " 'I want to send this out this afternoon.',\n",
       " 'Also please let me know what you are sending.',\n",
       " \"by god, he just changed his story and now I have it, so I'll send it to GE Now!!\",\n",
       " 'I will send it soon it is available.',\n",
       " 'I will send an e-mail out to him CCing Nobu shortly.',\n",
       " \"I can't remember the name of this co. & its disappeared through email melt down - possibly he still has the email he sent me about this.\",\n",
       " 'He will send me more details on the error he is getting when he gets a chance.',\n",
       " 'I sent it to you Thursday 8/10',\n",
       " \"Please send it to me and I'll take of it.\",\n",
       " 'Please thank her for me, or send me her email address.',\n",
       " \"He has to set up everybody on it still though (he set me up as we talked), and said he'd send a mail round when it's ready.\",\n",
       " 'Muoi: Please advice to Hung if he need to send any thing to me, yo can ship it to Hung for one shiopment, otherwise please ship to me by UPS directly.',\n",
       " 'I sent mine to you Wednesday evening at 10:12.',\n",
       " 'Amit,  Marcie is our KX sent fromabove.',\n",
       " 'Did you send him the paralegal portfolio?',\n",
       " 'I keeping getting mail bounced back to me when I send him mail.',\n",
       " 'Sorry, I forgot to send this to youon Friday...',\n",
       " \"So spend a few seconds to send this and  you'll be glad you did!\",\n",
       " 'Nadir, can you send this to me when you get a chance so that I can connect over the upcoming weekend.',\n",
       " 'She sends her regrets.',\n",
       " \"I'll even send them back to you after I look at them.\",\n",
       " 'Can you send them directly to Vamsi and copy me?   Thanks.',\n",
       " \"I'll send him a separate note.   still working on the other box for steve to do concurrency.  will let him know on my progress once I get a bit further.\",\n",
       " 'I sent Mark an e-mail last week about it.',\n",
       " 'Can you send one to me through Mark?',\n",
       " 'Send tips to him at brian@brianlivingston.com.',\n",
       " \"Hello Dondi, I had planned on sending this early last week but somehow it  just didn't seem that important anymore.\",\n",
       " 'Alternatively, you can have the link open the e-mail software on his own computer so he can send the link himself.',\n",
       " \"Send me and cc Ryan a few high-level bullets and I'd be happy to include them.\",\n",
       " \"Please remind her that I had sent his bio and EP's info to her a while ago...\",\n",
       " 'I just sent him an email Sis.',\n",
       " 'I think I sent her to you guys for inclusion in our email DB; if so, pls update her info, if not, pls add to.   thanks!  ----------------------',\n",
       " \"(He told me he had sent an email to Carlos last night)  I don't see any possibility for us to get in - bottom line I believe that the Accenture's expectations had been a bit unrealistic.\",\n",
       " 'Do me a favor,  if you have it, either send it to me, her send her a message and tell her to send me a message.',\n",
       " 'In the event of emergency can you pls send contact info to Amy for when you are out of town?',\n",
       " \"I've sent him an email stating that (1) hung won't be able to make it unless it is moved to after 1pm, (2) michael is very busy, (3) steve's out till monday, and (4) I've been out sick.\",\n",
       " \"Click here now and we'll send this refreshing scent right out to you.\",\n",
       " \"After I'm done, would you like me to send it to you?\",\n",
       " \"He mentioned that you send him a lot of emails but that he isn't very responsive.\",\n",
       " 'I have called up CJ on her cell, no response, have send emails no response, Matt has left messages for support no response.',\n",
       " \"I'll send more if I find any.\",\n",
       " 'He is preparing the AST and he will send it to you when it is completed.',\n",
       " 'We would appreciate if you could send it back to us ASAP.',\n",
       " 'Shawn,  Alice Sun has asked that I send this communication to you as her email is down.',\n",
       " 'Interestingly, Andrew called me before leaving the office and asked how he could help and what a smart  decision I made to send Carlos there tomorrow.',\n",
       " 'I sent an email to the two people he suggested we contact.',\n",
       " 'Hi All,  I have received input from Andy and Fortunata .. Amit, Ty and Betty:  When can I expect to get yours?  David:  Not sure if Helen has already sent you hers?',\n",
       " 'Please check your sent items and send me the ones from the 12th, 19th 26th and this week.',\n",
       " 'so I sent it to the latter.',\n",
       " 'I will send you a bunch more > stuff like this.',\n",
       " 'I sent him the following info.',\n",
       " 'please send it out.',\n",
       " \"I told Carol about John Drew's policy and sent her a copy and told her to pass it by Mick to cover herself.\",\n",
       " 'Susan Major sent this Keep-in-Touch™ message using GoodContacts® software.',\n",
       " 'Can you send him a thanks no thanks letter  Team felt he was not qualified for the position  mk',\n",
       " 'frank, the tax man, pls send me his name & number ...',\n",
       " 'Mark,  WIll we be able to send it by today evening?',\n",
       " 'Hi Erica,   I would like to follow up on the email that Tom Rollings sent out earlier this week.',\n",
       " \"I'll send her an email today to confirm.\",\n",
       " 'If you are remote, I will be sending one in the mail Monday afternoon.',\n",
       " 'She will be sending you       a final list.',\n",
       " 'Hi Marcia,   I would love to send business her way.',\n",
       " 'below is what i sent in terms of follow-up from the last time you spoke with him.',\n",
       " 'If you can send me a quick email when you send it so I can watch for it that would be great!',\n",
       " 'If anybody wants them please send me an email or stop by my cube.',\n",
       " 'ok btw, he sends it from yahoo/hotmail or other web-based email engines.',\n",
       " 'Jaime,   I will have Nami get one for us and send it to you.',\n",
       " 'If you want to call him know, it is ok or you can email me your response and I will send it on.',\n",
       " \"i'll give him a call at home to see if he is able to send it out.\",\n",
       " 'mark sent a note to steve drake, who we briefed in april of this year.',\n",
       " 'The only other thing I could think to send him was the E*TRADE customer story (which is also on the website).',\n",
       " 'The ball was in my court to send him an email to set it up.',\n",
       " 'Please send these to me by 3 pm today.',\n",
       " 'Yes, I saw when you sent it to me back in December, but I never followed up on it.',\n",
       " 'If I need to send alternates, please let me know.',\n",
       " 'If not, I will send it out to AC/NTT later in the day as a tentative schedule.',\n",
       " 'Do you want me to send him an email?',\n",
       " 'I thought I had sent this to you already - sorry pal!  Thanks!  -->',\n",
       " 'can i just send him all our new lit?',\n",
       " \"I'm sending a more technically explicit email to himmat so he understands the actual scenario unfolding here.\",\n",
       " 'Elisabeth  We are now ready to send out the following email to all the people on our partner training list.',\n",
       " 'By noon tomorrow please send Howard & myself (as release co-ord)',\n",
       " \"If the BEA meeting is the week of the 22nd, we'll send Carlos on his way back from Europe.\",\n",
       " 'I can send you the current ones which I suspect will last till Saturday.',\n",
       " 'I do however appreciate you sending these to me!',\n",
       " 'She may have sent it, but we have been having intermittent email problems.  Mitch.',\n",
       " \"I've sent him a note, so hopefully we'll have some progress on this today sometime.\",\n",
       " 'I did not mean to send this to you, sorry.',\n",
       " 'Can you send over this by end of day tomorrow so that we can plan on a call early Friday afternoon?  Thanks, Barry',\n",
       " \"I'll send this info to Mitch's group and have Jennifer Park run with it..\",\n",
       " \"I'll send a few batches so it won't be SOOOOO big.\",\n",
       " 'i know i just sent him a response, since she just sent this to me.',\n",
       " 'I will send Cara and email right now and a phone call to set a time to meet with her this week.',\n",
       " 'Don,  Ricardo has been sending the ART in a piecemeal fashion (ie.',\n",
       " 'I apologize for the delay in sending the same.',\n",
       " 'She sounds wonderful and will send out an email later, with more details, today when she comes home.',\n",
       " \"They're FREE but I need to know where to send them.\",\n",
       " \"I had send it originally last Friday, you didn't get it!!\",\n",
       " 'The one I sent you?',\n",
       " 'Not true, she sent the email to prove it.',\n",
       " 'you did send it on Friday.',\n",
       " 'Are you sending him the information?',\n",
       " 'I will send you your backpack and converters.',\n",
       " \"I didn't receive the email with the Nextlinx Scoping yet, can you send it by my time on Wednesday morning (for all 4 phases)?\",\n",
       " 'Send Mark an Email introducing yourself as the director responsible for Vanguard and that you look forward to working with him on the account when he was ready to proceed.',\n",
       " 'Send me that information so that I can also communicate that to Melissa and Joel.',\n",
       " 'Karen Davis will soon be sending out an email regarding hotel, travel, expectations, and an upcoming kick-off meeting.',\n",
       " 'Please feel free to send him an email while he is away, but bear in mind that his RIM does not work in India, so his access to email will be limited.',\n",
       " \"Feel free to send him an introductory email directly; here's the info:  David Robinson  Direct Dial: 44-122-372-7432  Email: david.robinson@etrade.co.uk\",\n",
       " 'Can you please send us her correct email address.',\n",
       " 'I sent Craig Harper an email and have paged him along with Michael and Tony La I paged Michael first he is on my first to call rotation person.',\n",
       " 'Does anyone know who I should send him to?',\n",
       " 'but I forgot to send it out.',\n",
       " \"I'll send some more in another email or two.\",\n",
       " 'Please send me an email when it is ready.',\n",
       " 'Jon,  Did you mean to send this to me, or to someone else?  Susan',\n",
       " \"I've sent this to Kelsey and Meshele too.\",\n",
       " \"He didn't want me to send the rest of the equip.\",\n",
       " 'Please send these as well and let me or Toni know if you have any questions.  thanks, Mitch',\n",
       " 'I am sending this to you again.',\n",
       " 'Please send this by Wednesday, February 7.',\n",
       " 'Debbie sent me his info.',\n",
       " 'George:  I had left a message for Pat Dunbar this morning and then sent the email to the IT/Systems team (below) with the following response.',\n",
       " \"I told her I'd send her something, but candidly that was Friday evening\",\n",
       " 'Please send it to us!',\n",
       " 'Please send this to me ASAP.',\n",
       " \"i also hated the email he sent, however he sent it to me for approval prior to sending it out and i was so stunned when i read it i didn't know how to respond.\",\n",
       " 'She sounds wonderful and will send out an email later, with more details, today when she comes home.',\n",
       " 'Of course, as soon as I sent this it sped up again.',\n",
       " 'He sent me an email regarding the types of technology/ products he would like to see.',\n",
       " \"I'll send it to you as soon as it is done.\",\n",
       " 'He is reviewing and passing on the information I sent him.',\n",
       " 'I sent an email to Mark Tolliver.',\n",
       " 'Sharon can send details out when she gets  back from her vacation and we can formalize the process.',\n",
       " 'So I got Sick of it and sent him on his way-way.',\n",
       " 'If you want, I can complete all that I can and send over the weekend.',\n",
       " 'i will be sending his operations staff support for 2 weeks.',\n",
       " 'Alice,   Please kindly send your helpful email to me, thanks!  ---',\n",
       " \"Robert  Fred Osowick wrote:  > Send it over and I'll take a look at it. > >\",\n",
       " 'He told me to check with him before I sent these out.',\n",
       " \"Once I get the go ahead I'll send it out.\",\n",
       " \"(I'm sending this from the elevator, on the way down to the lobby) Thanks!\",\n",
       " 'I will send you soon.',\n",
       " 'Mark, Do you have one you could send us?',\n",
       " 'I am going to call him when Pam sends me his telephone number.',\n",
       " 'India expresses deep regrets for what had happened and sends in a million dollar worth of soaps.',\n",
       " 'Please send it to my attention instead of Alice for faster processing.',\n",
       " \"Ruben,  I'll send you this completed tonight/tomorrow.\",\n",
       " 'Would you like me to send it via Overnight for delivery for Friday?',\n",
       " '1. Please send him mail for problem with Clear Case.',\n",
       " 'Please send one out.',\n",
       " 'Hi Emma, They just sent it back to me.',\n",
       " 'Jennifer,     Can you remind me on the 15th and we have to send it to them by the 18th.',\n",
       " 'Please send me your set of additional wish list items for product capabilities by 11 am Thursday (tomorrow).',\n",
       " \"he needs a yes from you...i'll send an email regarding this.\",\n",
       " \"I'll only send this one.\",\n",
       " 'Can you please send these to me?',\n",
       " 'i sent him yesterday.',\n",
       " 'She will be able to run it, so please send her email which build you want her to run.',\n",
       " \"I'll send another that's more focused (financial), and you saw the one I sent to Tara already.\",\n",
       " 'I can send him this.',\n",
       " 'I think you should send it.',\n",
       " 'Please send these as soon as you are in the office.',\n",
       " \"We'll need her email details in order to send her the Welcome Info.\",\n",
       " 'Any how I have sent you the minutes half an hour back.',\n",
       " \"And, why for all these meetings where she didn't make any changes on the PDA is she getting CR messages?  Please send me the tests you ran and the results.\",\n",
       " 'Chris - is it possible to spend just a little time to whip up something to send him explaining why we are not responding and what our value proposition/positioning is?',\n",
       " 'I will send to Jennifer and have her start sending out, as well as sending this to the people who signed up since August 1st.',\n",
       " 'and I will be happy to send them to you at that time.',\n",
       " 'I asked him if he sent them but he just replied that wasn’t his style.',\n",
       " 'I told him I knew it wasn’t his style but did he send them, never responded.',\n",
       " 'I just know they are from him (felt it the minute I was notified downstairs) but I don’t know why he would send them to me?',\n",
       " 'Robert,  The scoping is for whatever Becky sent our way per the following e-mail:     John',\n",
       " \"Could you send these to D'Arcy and myself?  Thanks,  Glenn.\",\n",
       " 'Joe, our guy in eBusiness, also wants us to meet with his counterpart in Trading, Bruce (he requested us to send an email that he could forward to Bruce with the recommendation that Bruce get with us.',\n",
       " 'I\\'m sending him an email with a truncated version of the Power Point so he can send what he wants to a few of his internal folks (they loved it, but he mentioned it\\'s sort of a \"luxury item\" at this point).',\n",
       " 'Would it be at all possible to send this to me by the end of your working day on MONDAY (17 Sept)?',\n",
       " 'Can you please send it to me.  Regards, Helen',\n",
       " 'Forgot to send this out last night.',\n",
       " \"Why don't we just send him that?\",\n",
       " \"I'm having trouble sending these...\",\n",
       " 'You can email this and I will send it on.',\n",
       " 'She told me that she was sending it out on friday, but I have not seen anything on it.',\n",
       " 'I will send it to you by tomorrow afternoon.',\n",
       " 'no sweat - send it on.',\n",
       " 'I am leaving for home and will send it across to Wendy, first thing in the morning.',\n",
       " 'I will send the bracelet and soya with him.',\n",
       " 'Sent him an email today, he asked that we follow-up in 2-3 business days to get his feedback on our service.',\n",
       " \"I'll remind Ricardo to send his in as well.\",\n",
       " 'Sende what you sent him so far.',\n",
       " '1. Please send him mail for problem with Clear Case.',\n",
       " 'We can send him the PP on this.',\n",
       " 'I sent mine to you Wednesday evening at 10:12.',\n",
       " \"I'll send it to you as well.. since you'll need it for the certification.\",\n",
       " \"I'm sending that one to you so you know what I was looking for.  Thanks,  Ruth\",\n",
       " \"They're FREE, but I need to  know where to send them.\",\n",
       " 'If you have anything to add  send it by noon today.',\n",
       " 'Wendy sent the relevant message to us today.',\n",
       " 'FYI, I sent this out yesterday afternoon.',\n",
       " 'Can you send them to me?  Thanks,  Grant',\n",
       " 'He asked if I had a way to get in touch with you and I told him, I would send him your number.',\n",
       " 'I then decided it would be best to send you his number that way you could decide if you wanted him to have yours.',\n",
       " 'Please do not send this out until Wednesday morning at 9 am Eastern time.',\n",
       " 'She is in the process of reviewing our co-marketing agreement and is sending us their MOU so we can officially do press releases etc.',\n",
       " 'Mark:  I did not get to send it out this weekend and I am traveling on business this week.',\n",
       " \"I've already sent it to her.\",\n",
       " \"Please send it to me and I'll provide it to Tim Gower for the call.\",\n",
       " 'Would you mind sending this info to Elisabeth.  Thanks,  John',\n",
       " 'i already sent her mail on her help.',\n",
       " 'Please send it as soon as possible.',\n",
       " 'I had sent her an email last night asking her if Friday  was OK or if she preferred any other day.',\n",
       " 'After Bill Emery died the Federation decided to take a more active role in the building operation and have sent Brian Keshen to supervise.',\n",
       " 'Please send him email or let me knwo if you need to talk to him.',\n",
       " 'Jaime, Thanks for sending the additional zip codes.',\n",
       " 'Yes, can you have them complete them and then send them all to me together.',\n",
       " 'Micheal,   Please send it to me as well.',\n",
       " 'Sorry for not sending this.',\n",
       " 'I had this last Friday and forgot to send it over.',\n",
       " \"(Since Florence sent me an e-mail it's probably because she felt the need to escalate.)\",\n",
       " 'I sorry that I have been so busy - I ment to send you a thank you for the shirts.',\n",
       " 'Please send it along.',\n",
       " \"I decided I needed to send it out this morning since I'm in the office anyway.\",\n",
       " 'Also, please send me his complete schedule while he is here.',\n",
       " \"Hopefully I'll send it out today.\",\n",
       " 'He will send out an email when the user accounts have been re-created and ready for use.  Glenn.',\n",
       " \"To all,  I've sent a message to Kathy to test at the co-location site.\",\n",
       " \"She says that she will respond to it because she know what it is asking for but the system gives her an error message and sends her to the cust serv rep.  That's it for now.\",\n",
       " 'Then I will export all 24s & resend them to you.',\n",
       " \"I already send him message (3 week ago)  to close DSL, why he keep calling us, when we call them there is no live human to talk to and when we leave message they don't follow it.\",\n",
       " 'Please send your requests to her.',\n",
       " 'I have attached a simulator that Jamie at GoAmerica sent to me yesterday.',\n",
       " 'OK to send it now.',\n",
       " 'Sent it back.',\n",
       " \"I'll do those up and send them off to you from a remote location.\",\n",
       " 'I need to call Janine to go over some questions I sent her earlier.  Ricardo',\n",
       " 'If we send him the Ascotel from the UK, I believe we will save money in the long run.',\n",
       " 'I sent messages to Tom before the holidays, but no responses back.',\n",
       " 'I need to send it to this guy in hong kong.',\n",
       " 'Yeah, I thought of that after I sent it.',\n",
       " 'wierd  anyways, what I was trying to send info on was that fern got an offer yesterday and he accepted.',\n",
       " 'Please send them to me.',\n",
       " 'BUT, you have to send it right now!!',\n",
       " 'I sent it to  Kathy also at that time.',\n",
       " 'Mark,  WIll we be able to send it by today evening?',\n",
       " 'You better send her an email right about now.',\n",
       " \"Hi, Elisabeth.  A box via courier which Hideki asked you to send last Friday hasn't arrived yet.\",\n",
       " 'Send the stuff she needs and cancel the service',\n",
       " 'Did you send on Fri.?',\n",
       " 'He will send a mail soon.',\n",
       " 'I will be able to send it by today evening.',\n",
       " 'just what you feel, make her laugh out loud, recall a special moment you shared, or send a heart-felt thanks.',\n",
       " 'Can you send me a quote for 10 batteries for a star tac phone.',\n",
       " 'Then, you send it to me for final sign off.',\n",
       " 'Feel free to send him an email with your proposal.',\n",
       " 'we just sent one off saturday.',\n",
       " 'I SENT OUT LAST NIGHT',\n",
       " 'I will send it out soon.',\n",
       " \"I just got his email(I've been pretty lax  about keeping up on my personal email), but if we're interested in talking  to him, I gave him a quick shout before sending you this email and he said  he'll be in the South Bay this afternoon; so if you're interested and we've  got folks who can talk to him (the later being a BIG if, I realize), he  should be available.\",\n",
       " 'Hola Cuñadita,  The Doz sent this out last wednesday.',\n",
       " 'i just sent you the same one... happy vd',\n",
       " 'Can you send it to me?  Thanks.',\n",
       " \"If he's finished with them, I'm not intending to use them so if we want to we can just send these to kumi.\",\n",
       " \"Yes, he's back from vacation and I will send him a note now requesting a time tomorrow late morning for us to all speak.\",\n",
       " 'Sorry for sending this out one more time....  1.',\n",
       " 'I sent a couple of messages asking to work with her on this process.',\n",
       " 'Also you will need to send it right back to me after you are done because I will need it in l.a.',\n",
       " 'I sent him the new entries last night - included in the email I also sent to you.',\n",
       " 'Would you like me to send out more???',\n",
       " 'He sent Lars to find me, then, as punishment, put me on the rowing machine - which I sank.',\n",
       " 'we can definitely put him on inhouse project for a month and send him to contract after that.',\n",
       " 'I asked her to send a note this evening and realized >',\n",
       " 'I will be able to send them by tomorrow.',\n",
       " 'that you could send me?',\n",
       " 'Please do not send any more..   Thanks.',\n",
       " 'He sent me  a email yesterday already.',\n",
       " 'Please send it back to both of us.',\n",
       " \"I can send you one (which I'll do).\",\n",
       " 'Can you please send him an update.',\n",
       " \"She's interested -- she sent me an email thank you immediately after the meeting yesterday.\",\n",
       " 'Elisabeth, thanks for sending out the email earlier.',\n",
       " 'See you Thursday (fyi...please send any emails to my  >work address at cstewart@avocadoit.com -',\n",
       " 'VC,  I have talked to her last Sunday before she sends you the shipment.',\n",
       " 'Ideally, we should send it out to him next week.',\n",
       " \"Let me know if you have a fast internet connection and I'll send it to you by email.\",\n",
       " 'He will be sending me the updated Cleveland customer attendee list tomorrow.',\n",
       " \"OK, I'll send it in as well.\",\n",
       " '[on the phone] > that she had already sent them (???).',\n",
       " \"I'll send out a message to her asking if she needs any assistance.\",\n",
       " 'I sent this out as I needed to catch Ed before he left the office today.',\n",
       " 'I have attached an email that I sent to Joe after his visit here on Dec. 6th.',\n",
       " 'However, I asked her to send an ops request next time for tracking purpose.',\n",
       " 'Sending this as it came back the first time.',\n",
       " 'Would it be alright to send you this?',\n",
       " 'She just can\\'t stand the sight of me I guess...  anyways, I\\'ve got my cell phone with a broken \"thingy\", my rim, I\\'ll be carrying my pager as well, and nadir\\'s going to send me some info on a uunet acct so I can dial in if need be.',\n",
       " \"so I sent him an e-mail summarizing what I need from him and we'll discuss tomorrow.\",\n",
       " 'Now I get why you sent this to me.',\n",
       " \"So can I send it to him as an alert as well (demonstrating alerts capabilities though today we don't read attachments)?\",\n",
       " 'She received no reponse I sent jerry hunter and dutra an email we got Joe Barkoviaks contact information just a few weeks ago  For her to say we screwed this up is unacceptable.',\n",
       " 'HE was the one who sent me all of the information for getting approval from the Dept. of Defense!!!!',\n",
       " 'i will be sending additional RSVPs Monday if we receive them.',\n",
       " \"Hey girl, I see that your online, but I didn't know whether it was cool or not to PM you so that's why I'm sending you this email.\",\n",
       " 'Alice , Thanks for sending these forms.',\n",
       " 'You might want to send her a quick note.',\n",
       " \"He didn't have that data and has sent a request out to get it.\",\n",
       " \"He didn't do that, he just sent an email instead.\",\n",
       " 'I sent it to both of you as I feel that Jacinda may also be interested.',\n",
       " 'Sorry if I forgot to send this to you last week.',\n",
       " 'I  coordinated this with Naomi and am sending her a copy of this message.',\n",
       " 'If you had it ready and mailed it to my internal address can you please send it to this one.  Thanks,',\n",
       " \"He'll be sending an e-mail to yourself & Steve (to cover what to do on our servers when a problem occurs) regarding this.\",\n",
       " \"Hi there,  Seeing you just now reminded me that it's about 3:00 and I'm probably not going to get any more leads for you to do your CA-magic on, so I should just go ahead and send this one to you!\",\n",
       " 'Can you please send it to me.',\n",
       " 'We would like to send this to Accenture EOD Monday or first thing Tuesday.',\n",
       " 'I will send it over.',\n",
       " 'I will ask him next time I see him for specifics or have him send details to you (or PM team).',\n",
       " 'I just sent it to you.  JK',\n",
       " 'you said no thanks, so send it back un-opened of course!',\n",
       " 'Will you be sending that to me?',\n",
       " \"When I have them, I'll send them to you.\",\n",
       " 'Please send me that ASAP.',\n",
       " \"I assume he'll send password - or do we simply get PDFs?\"]"
      ]
     },
     "execution_count": 1563,
     "metadata": {},
     "output_type": "execute_result"
    }
   ],
   "source": [
    "topic_docs"
   ]
  },
  {
   "cell_type": "code",
   "execution_count": 1570,
   "metadata": {},
   "outputs": [],
   "source": []
  },
  {
   "cell_type": "code",
   "execution_count": 1576,
   "metadata": {},
   "outputs": [
    {
     "data": {
      "text/plain": [
       "'send_presentation'"
      ]
     },
     "execution_count": 1576,
     "metadata": {},
     "output_type": "execute_result"
    }
   ],
   "source": [
    "get_label_from_topic_nr(6)"
   ]
  },
  {
   "cell_type": "code",
   "execution_count": null,
   "metadata": {},
   "outputs": [],
   "source": []
  }
 ],
 "metadata": {
  "kernelspec": {
   "display_name": "ma_exp_intent",
   "language": "python",
   "name": "python3"
  },
  "language_info": {
   "codemirror_mode": {
    "name": "ipython",
    "version": 3
   },
   "file_extension": ".py",
   "mimetype": "text/x-python",
   "name": "python",
   "nbconvert_exporter": "python",
   "pygments_lexer": "ipython3",
   "version": "3.12.4"
  }
 },
 "nbformat": 4,
 "nbformat_minor": 2
}
