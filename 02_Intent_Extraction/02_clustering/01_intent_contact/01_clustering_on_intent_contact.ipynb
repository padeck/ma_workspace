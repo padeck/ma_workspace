{
 "cells": [
  {
   "cell_type": "markdown",
   "metadata": {},
   "source": [
    "# Hierarchical Clustering on Target Sentences\n",
    "to help deriving a taxonomy for intents, hierarchical clustering is being leveraged."
   ]
  },
  {
   "cell_type": "markdown",
   "metadata": {},
   "source": [
    "####"
   ]
  },
  {
   "cell_type": "code",
   "execution_count": 11,
   "metadata": {},
   "outputs": [],
   "source": [
    "from bertopic import BERTopic\n",
    "from scipy.cluster import hierarchy as sch\n",
    "import pandas as pd\n",
    "import logging\n",
    "from sklearn.metrics.pairwise import cosine_distances\n",
    "from tqdm import tqdm\n",
    "import numpy as np\n",
    "from umap import UMAP\n",
    "from hdbscan import HDBSCAN\n",
    "from sentence_transformers import SentenceTransformer\n",
    "import re\n",
    "import sys\n",
    "sys.path.append('../../../')\n",
    "from utility.utility_functions import *"
   ]
  },
  {
   "cell_type": "code",
   "execution_count": 3,
   "metadata": {},
   "outputs": [],
   "source": [
    "df = pd.read_parquet('../../../data/processed/intents/contact.parquet', engine='fastparquet')"
   ]
  },
  {
   "cell_type": "code",
   "execution_count": 4,
   "metadata": {},
   "outputs": [],
   "source": [
    "df['target'] = df['target'].str.replace(r'\\r\\n', ' ', regex=True)\n",
    "docs = list(set(df['target'].tolist()))#[:10000]"
   ]
  },
  {
   "cell_type": "code",
   "execution_count": 5,
   "metadata": {},
   "outputs": [
    {
     "data": {
      "text/plain": [
       "80374"
      ]
     },
     "execution_count": 5,
     "metadata": {},
     "output_type": "execute_result"
    }
   ],
   "source": [
    "# Amount of unique target sentences\n",
    "len(docs)"
   ]
  },
  {
   "cell_type": "markdown",
   "metadata": {},
   "source": [
    "## Training the Model"
   ]
  },
  {
   "cell_type": "code",
   "execution_count": 5,
   "metadata": {},
   "outputs": [],
   "source": [
    "# Configure logging\n",
    "logging.basicConfig(level=logging.INFO)\n",
    "logger = logging.getLogger(\"BERTopic\")\n",
    "logger.setLevel(logging.INFO)"
   ]
  },
  {
   "cell_type": "code",
   "execution_count": 6,
   "metadata": {},
   "outputs": [
    {
     "name": "stderr",
     "output_type": "stream",
     "text": [
      "2024-11-10 22:56:33,847 - BERTopic - Embedding - Transforming documents to embeddings.\n"
     ]
    },
    {
     "data": {
      "application/vnd.jupyter.widget-view+json": {
       "model_id": "9f5d1b60d71940e8bdf984180c521245",
       "version_major": 2,
       "version_minor": 0
      },
      "text/plain": [
       "Batches:   0%|          | 0/2512 [00:00<?, ?it/s]"
      ]
     },
     "metadata": {},
     "output_type": "display_data"
    },
    {
     "name": "stderr",
     "output_type": "stream",
     "text": [
      "2024-11-10 22:58:29,809 - BERTopic - Embedding - Completed ✓\n",
      "2024-11-10 22:58:29,809 - BERTopic - Dimensionality - Fitting the dimensionality reduction algorithm\n",
      "2024-11-10 22:59:27,195 - BERTopic - Dimensionality - Completed ✓\n",
      "2024-11-10 22:59:27,196 - BERTopic - Cluster - Start clustering the reduced embeddings\n",
      "huggingface/tokenizers: The current process just got forked, after parallelism has already been used. Disabling parallelism to avoid deadlocks...\n",
      "To disable this warning, you can either:\n",
      "\t- Avoid using `tokenizers` before the fork if possible\n",
      "\t- Explicitly set the environment variable TOKENIZERS_PARALLELISM=(true | false)\n",
      "huggingface/tokenizers: The current process just got forked, after parallelism has already been used. Disabling parallelism to avoid deadlocks...\n",
      "To disable this warning, you can either:\n",
      "\t- Avoid using `tokenizers` before the fork if possible\n",
      "\t- Explicitly set the environment variable TOKENIZERS_PARALLELISM=(true | false)\n",
      "huggingface/tokenizers: The current process just got forked, after parallelism has already been used. Disabling parallelism to avoid deadlocks...\n",
      "To disable this warning, you can either:\n",
      "\t- Avoid using `tokenizers` before the fork if possible\n",
      "\t- Explicitly set the environment variable TOKENIZERS_PARALLELISM=(true | false)\n",
      "huggingface/tokenizers: The current process just got forked, after parallelism has already been used. Disabling parallelism to avoid deadlocks...\n",
      "To disable this warning, you can either:\n",
      "\t- Avoid using `tokenizers` before the fork if possible\n",
      "\t- Explicitly set the environment variable TOKENIZERS_PARALLELISM=(true | false)\n",
      "huggingface/tokenizers: The current process just got forked, after parallelism has already been used. Disabling parallelism to avoid deadlocks...\n",
      "To disable this warning, you can either:\n",
      "\t- Avoid using `tokenizers` before the fork if possible\n",
      "\t- Explicitly set the environment variable TOKENIZERS_PARALLELISM=(true | false)\n",
      "2024-11-10 22:59:32,034 - BERTopic - Cluster - Completed ✓\n",
      "2024-11-10 22:59:32,047 - BERTopic - Representation - Extracting topics from clusters using representation models.\n",
      "2024-11-10 22:59:32,948 - BERTopic - Representation - Completed ✓\n"
     ]
    }
   ],
   "source": [
    "# Initialize UMAP with a fixed random state\n",
    "random_state = 1 # Other seeds sometimes caused negative values in the distanace matrix\n",
    "\n",
    "# Set global random seeds\n",
    "np.random.seed(random_state)\n",
    "\n",
    "embedding_model = SentenceTransformer(\"all-MiniLM-L6-v2\")\n",
    "umap_model = UMAP(n_neighbors=15, n_components=5, random_state=random_state)\n",
    "hdbscan_model = HDBSCAN(min_cluster_size=20, prediction_data=True)\n",
    "\n",
    "topic_model = BERTopic(verbose=True, umap_model=umap_model, hdbscan_model=hdbscan_model, embedding_model=embedding_model)\n",
    "topics, probs = topic_model.fit_transform(docs)"
   ]
  },
  {
   "cell_type": "code",
   "execution_count": 7,
   "metadata": {},
   "outputs": [
    {
     "name": "stderr",
     "output_type": "stream",
     "text": [
      "100%|██████████| 357/357 [00:00<00:00, 424.22it/s]\n"
     ]
    }
   ],
   "source": [
    "hierarchical_topics = topic_model.hierarchical_topics(docs)"
   ]
  },
  {
   "cell_type": "code",
   "execution_count": 9,
   "metadata": {},
   "outputs": [
    {
     "name": "stderr",
     "output_type": "stream",
     "text": [
      "2024-11-10 23:00:49,607 - BERTopic - WARNING: When you use `pickle` to save/load a BERTopic model,please make sure that the environments in which you saveand load the model are **exactly** the same. The version of BERTopic,its dependencies, and python need to remain the same.\n"
     ]
    }
   ],
   "source": [
    "topic_model.save(\"../../../data/bertopic_models/intents/01_contact/contact_unprocessed\")"
   ]
  },
  {
   "cell_type": "markdown",
   "metadata": {},
   "source": [
    "## Inspecting clustering results"
   ]
  },
  {
   "cell_type": "code",
   "execution_count": 10,
   "metadata": {},
   "outputs": [
    {
     "data": {
      "application/vnd.plotly.v1+json": {
       "config": {
        "plotlyServerURL": "https://plot.ly"
       },
       "data": [
        {
         "hoverinfo": "text",
         "marker": {
          "color": "rgb(61,153,112)"
         },
         "mode": "lines",
         "text": [
          "evalueexpress_caughlin_89509_4790_recurring",
          "",
          "",
          "36116_vaughn_thesuperspecialsales_al_7956"
         ],
         "type": "scatter",
         "x": [
          0,
          0.7487910533837621,
          0.7487910533837621,
          0
         ],
         "xaxis": "x",
         "y": [
          -5,
          -5,
          -15,
          -15
         ],
         "yaxis": "y"
        },
        {
         "hoverinfo": "text",
         "marker": {
          "color": "rgb(61,153,112)"
         },
         "mode": "lines",
         "text": [
          "dealdelivery_37978415_recurring_clicking_yourself",
          "",
          "",
          "dealseveryday_14715846_03063_amherst_nh"
         ],
         "type": "scatter",
         "x": [
          0,
          0.5786029685516003,
          0.5786029685516003,
          0
         ],
         "xaxis": "x",
         "y": [
          -25,
          -25,
          -35,
          -35
         ],
         "yaxis": "y"
        },
        {
         "hoverinfo": "text",
         "marker": {
          "color": "rgb(61,153,112)"
         },
         "mode": "lines",
         "text": [
          "recurring_36116_vaughn_thesuperspecialsales_al",
          "",
          "",
          "recurring_clicking_14715846_yourself_dealseveryday"
         ],
         "type": "scatter",
         "x": [
          0.7487910533837621,
          0.8058857187468175,
          0.8058857187468175,
          0.5786029685516003
         ],
         "xaxis": "x",
         "y": [
          -10,
          -10,
          -30,
          -30
         ],
         "yaxis": "y"
        },
        {
         "hoverinfo": "text",
         "marker": {
          "color": "rgb(255,65,54)"
         },
         "mode": "lines",
         "text": [
          "offers_33488063_78720_202885_tx",
          "",
          "",
          "offers_202885_78720_33488063_tx"
         ],
         "type": "scatter",
         "x": [
          0,
          0.012992224987556367,
          0.012992224987556367,
          0
         ],
         "xaxis": "x",
         "y": [
          -55,
          -55,
          -65,
          -65
         ],
         "yaxis": "y"
        },
        {
         "hoverinfo": "text",
         "marker": {
          "color": "rgb(255,65,54)"
         },
         "mode": "lines",
         "text": [
          "c0olmail_202885_78720_tx_33488063",
          "",
          "",
          "offers_33488063_78720_202885_tx"
         ],
         "type": "scatter",
         "x": [
          0,
          0.212345135139276,
          0.212345135139276,
          0.012992224987556367
         ],
         "xaxis": "x",
         "y": [
          -45,
          -45,
          -60,
          -60
         ],
         "yaxis": "y"
        },
        {
         "hoverinfo": "text",
         "marker": {
          "color": "rgb(255,65,54)"
         },
         "mode": "lines",
         "text": [
          "offers_78720_202885_33488063_tx",
          "",
          "",
          "greatest_specials_everblur_rem_mliang"
         ],
         "type": "scatter",
         "x": [
          0.212345135139276,
          0.5002295748032665,
          0.5002295748032665,
          0
         ],
         "xaxis": "x",
         "y": [
          -52.5,
          -52.5,
          -75,
          -75
         ],
         "yaxis": "y"
        },
        {
         "hoverinfo": "text",
         "marker": {
          "color": "rgb(0,116,217)"
         },
         "mode": "lines",
         "text": [
          "recurring_yourself_unsub_remove_postal",
          "",
          "",
          "offers_202885_78720_33488063_tx"
         ],
         "type": "scatter",
         "x": [
          0.8058857187468175,
          1.215380176648087,
          1.215380176648087,
          0.5002295748032665
         ],
         "xaxis": "x",
         "y": [
          -20,
          -20,
          -63.75,
          -63.75
         ],
         "yaxis": "y"
        },
        {
         "hoverinfo": "text",
         "marker": {
          "color": "rgb(35,205,205)"
         },
         "mode": "lines",
         "text": [
          "hotmail_private_msn_free_www",
          "",
          "",
          "hotmail_private_msn_www_free"
         ],
         "type": "scatter",
         "x": [
          0,
          0.05683986296171106,
          0.05683986296171106,
          0
         ],
         "xaxis": "x",
         "y": [
          -95,
          -95,
          -105,
          -105
         ],
         "yaxis": "y"
        },
        {
         "hoverinfo": "text",
         "marker": {
          "color": "rgb(35,205,205)"
         },
         "mode": "lines",
         "text": [
          "hotmail_private_msn_www_free",
          "",
          "",
          "hotmail_msn_private_messenger_www"
         ],
         "type": "scatter",
         "x": [
          0.05683986296171106,
          0.10648280573979364,
          0.10648280573979364,
          0
         ],
         "xaxis": "x",
         "y": [
          -100,
          -100,
          -115,
          -115
         ],
         "yaxis": "y"
        },
        {
         "hoverinfo": "text",
         "marker": {
          "color": "rgb(35,205,205)"
         },
         "mode": "lines",
         "text": [
          "private_hotmail_www_free_get",
          "",
          "",
          "hotmail_private_msn_www_free"
         ],
         "type": "scatter",
         "x": [
          0,
          0.27761552124992195,
          0.27761552124992195,
          0.10648280573979364
         ],
         "xaxis": "x",
         "y": [
          -85,
          -85,
          -107.5,
          -107.5
         ],
         "yaxis": "y"
        },
        {
         "hoverinfo": "text",
         "marker": {
          "color": "rgb(35,205,205)"
         },
         "mode": "lines",
         "text": [
          "hotmail_private_msn_www_free",
          "",
          "",
          "mobile_msn_hotmail_device_receive"
         ],
         "type": "scatter",
         "x": [
          0.27761552124992195,
          0.7102874427196613,
          0.7102874427196613,
          0
         ],
         "xaxis": "x",
         "y": [
          -96.25,
          -96.25,
          -125,
          -125
         ],
         "yaxis": "y"
        },
        {
         "hoverinfo": "text",
         "marker": {
          "color": "rgb(133,20,75)"
         },
         "mode": "lines",
         "text": [
          "low_04_minute_international_yahoo",
          "",
          "",
          "yahoo_domain_instant_own_alerts"
         ],
         "type": "scatter",
         "x": [
          0,
          0.7797833165998382,
          0.7797833165998382,
          0
         ],
         "xaxis": "x",
         "y": [
          -135,
          -135,
          -145,
          -145
         ],
         "yaxis": "y"
        },
        {
         "hoverinfo": "text",
         "marker": {
          "color": "rgb(255,220,0)"
         },
         "mode": "lines",
         "text": [
          "groups_docs_terms_yahoo_group",
          "",
          "",
          "extremeprogramming_egroups_objectmentor_courtesy_ad"
         ],
         "type": "scatter",
         "x": [
          0,
          0.5475274678713768,
          0.5475274678713768,
          0
         ],
         "xaxis": "x",
         "y": [
          -165,
          -165,
          -175,
          -175
         ],
         "yaxis": "y"
        },
        {
         "hoverinfo": "text",
         "marker": {
          "color": "rgb(255,220,0)"
         },
         "mode": "lines",
         "text": [
          "extremeprogramming_egroups_objectmentor_courtesy_ad",
          "",
          "",
          "panoptic_dossy_computer_network_extremeprogramming"
         ],
         "type": "scatter",
         "x": [
          0.5475274678713768,
          0.7174339356862482,
          0.7174339356862482,
          0
         ],
         "xaxis": "x",
         "y": [
          -170,
          -170,
          -185,
          -185
         ],
         "yaxis": "y"
        },
        {
         "hoverinfo": "text",
         "marker": {
          "color": "rgb(255,220,0)"
         },
         "mode": "lines",
         "text": [
          "explorer_msn_download_intl_jbr",
          "",
          "",
          "extremeprogramming_egroups_objectmentor_courtesy_ad"
         ],
         "type": "scatter",
         "x": [
          0,
          0.8499736897705271,
          0.8499736897705271,
          0.7174339356862482
         ],
         "xaxis": "x",
         "y": [
          -155,
          -155,
          -177.5,
          -177.5
         ],
         "yaxis": "y"
        },
        {
         "hoverinfo": "text",
         "marker": {
          "color": "rgb(0,116,217)"
         },
         "mode": "lines",
         "text": [
          "yahoo_low_04_minute_international",
          "",
          "",
          "extremeprogramming_egroups_objectmentor_courtesy_ad"
         ],
         "type": "scatter",
         "x": [
          0.7797833165998382,
          1.1570165417996627,
          1.1570165417996627,
          0.8499736897705271
         ],
         "xaxis": "x",
         "y": [
          -140,
          -140,
          -166.25,
          -166.25
         ],
         "yaxis": "y"
        },
        {
         "hoverinfo": "text",
         "marker": {
          "color": "rgb(40,35,35)"
         },
         "mode": "lines",
         "text": [
          "yahoogroups_tm_group_yahoo_jetusaba",
          "",
          "",
          "zingaris_yahoogroups_group_unsubscribe_yahoo"
         ],
         "type": "scatter",
         "x": [
          0,
          0.5174909680015801,
          0.5174909680015801,
          0
         ],
         "xaxis": "x",
         "y": [
          -205,
          -205,
          -215,
          -215
         ],
         "yaxis": "y"
        },
        {
         "hoverinfo": "text",
         "marker": {
          "color": "rgb(40,35,35)"
         },
         "mode": "lines",
         "text": [
          "mayan_soccer_yahoogroups_w7cslb_group_yahoo",
          "",
          "",
          "yahoogroups_group_zingaris_yahoo_tm"
         ],
         "type": "scatter",
         "x": [
          0,
          0.5879001173470741,
          0.5879001173470741,
          0.5174909680015801
         ],
         "xaxis": "x",
         "y": [
          -195,
          -195,
          -210,
          -210
         ],
         "yaxis": "y"
        },
        {
         "hoverinfo": "text",
         "marker": {
          "color": "rgb(40,35,35)"
         },
         "mode": "lines",
         "text": [
          "group_st3ward_svamafriends_yahoo_unsubscribe",
          "",
          "",
          "group_centives_remains_exciteinfo_unfortunately"
         ],
         "type": "scatter",
         "x": [
          0,
          0.706791638739471,
          0.706791638739471,
          0
         ],
         "xaxis": "x",
         "y": [
          -225,
          -225,
          -235,
          -235
         ],
         "yaxis": "y"
        },
        {
         "hoverinfo": "text",
         "marker": {
          "color": "rgb(40,35,35)"
         },
         "mode": "lines",
         "text": [
          "yahoogroups_group_mayan_soccer_yahoo_tm",
          "",
          "",
          "group_st3ward_svamafriends_yahoo_unsubscribe"
         ],
         "type": "scatter",
         "x": [
          0.5879001173470741,
          0.8739850197436413,
          0.8739850197436413,
          0.706791638739471
         ],
         "xaxis": "x",
         "y": [
          -202.5,
          -202.5,
          -230,
          -230
         ],
         "yaxis": "y"
        },
        {
         "hoverinfo": "text",
         "marker": {
          "color": "rgb(0,116,217)"
         },
         "mode": "lines",
         "text": [
          "extremeprogramming_egroups_objectmentor_courtesy_ad",
          "",
          "",
          "yahoogroups_group_yahoo_unsubscribe_mayan_soccer"
         ],
         "type": "scatter",
         "x": [
          1.1570165417996627,
          1.2360282245539065,
          1.2360282245539065,
          0.8739850197436413
         ],
         "xaxis": "x",
         "y": [
          -153.125,
          -153.125,
          -216.25,
          -216.25
         ],
         "yaxis": "y"
        },
        {
         "hoverinfo": "text",
         "marker": {
          "color": "rgb(61,153,112)"
         },
         "mode": "lines",
         "text": [
          "techhelp_ritesh_ameritrade_hello_comments",
          "",
          "",
          "techhelp_ritesh_ameritrade_hello_2002"
         ],
         "type": "scatter",
         "x": [
          0,
          0.08768721597647722,
          0.08768721597647722,
          0
         ],
         "xaxis": "x",
         "y": [
          -255,
          -255,
          -265,
          -265
         ],
         "yaxis": "y"
        },
        {
         "hoverinfo": "text",
         "marker": {
          "color": "rgb(61,153,112)"
         },
         "mode": "lines",
         "text": [
          "praveen_ameritrade_techhelp_evening_comments",
          "",
          "",
          "techhelp_ritesh_ameritrade_hello_comments"
         ],
         "type": "scatter",
         "x": [
          0,
          0.5129847358201794,
          0.5129847358201794,
          0.08768721597647722
         ],
         "xaxis": "x",
         "y": [
          -245,
          -245,
          -260,
          -260
         ],
         "yaxis": "y"
        },
        {
         "hoverinfo": "text",
         "marker": {
          "color": "rgb(255,65,54)"
         },
         "mode": "lines",
         "text": [
          "notify_error_immediately_sender_delete",
          "",
          "",
          "notify_error_sender_received_immediately"
         ],
         "type": "scatter",
         "x": [
          0,
          0.19019887787459033,
          0.19019887787459033,
          0
         ],
         "xaxis": "x",
         "y": [
          -285,
          -285,
          -295,
          -295
         ],
         "yaxis": "y"
        },
        {
         "hoverinfo": "text",
         "marker": {
          "color": "rgb(255,65,54)"
         },
         "mode": "lines",
         "text": [
          "intended_destroy_recipient_sender_copies",
          "",
          "",
          "notify_error_sender_immediately_delete"
         ],
         "type": "scatter",
         "x": [
          0,
          0.6911478354267965,
          0.6911478354267965,
          0.19019887787459033
         ],
         "xaxis": "x",
         "y": [
          -275,
          -275,
          -290,
          -290
         ],
         "yaxis": "y"
        },
        {
         "hoverinfo": "text",
         "marker": {
          "color": "rgb(255,65,54)"
         },
         "mode": "lines",
         "text": [
          "sender_notify_error_immediately_destroy",
          "",
          "",
          "delete_deleting_immediately_badtimes_mvfs"
         ],
         "type": "scatter",
         "x": [
          0.6911478354267965,
          0.8404131642055618,
          0.8404131642055618,
          0
         ],
         "xaxis": "x",
         "y": [
          -282.5,
          -282.5,
          -305,
          -305
         ],
         "yaxis": "y"
        },
        {
         "hoverinfo": "text",
         "marker": {
          "color": "rgb(35,205,205)"
         },
         "mode": "lines",
         "text": [
          "netaddress_permanent_address_www_free",
          "",
          "",
          "netaddress_permanent_mahabhashyam_chandrasekhar_sriram"
         ],
         "type": "scatter",
         "x": [
          0,
          0.24536429458199072,
          0.24536429458199072,
          0
         ],
         "xaxis": "x",
         "y": [
          -315,
          -315,
          -325,
          -325
         ],
         "yaxis": "y"
        },
        {
         "hoverinfo": "text",
         "marker": {
          "color": "rgb(61,153,112)"
         },
         "mode": "lines",
         "text": [
          "unsubscribe_subject_future_wish_line",
          "",
          "",
          "remove_removed_removal_receive_wish"
         ],
         "type": "scatter",
         "x": [
          0,
          0.5326361608940615,
          0.5326361608940615,
          0
         ],
         "xaxis": "x",
         "y": [
          -355,
          -355,
          -365,
          -365
         ],
         "yaxis": "y"
        },
        {
         "hoverinfo": "text",
         "marker": {
          "color": "rgb(61,153,112)"
         },
         "mode": "lines",
         "text": [
          "prefer_future_click_receive_here",
          "",
          "",
          "remove_removed_subject_receive_wish"
         ],
         "type": "scatter",
         "x": [
          0,
          0.5983256045731895,
          0.5983256045731895,
          0.5326361608940615
         ],
         "xaxis": "x",
         "y": [
          -345,
          -345,
          -360,
          -360
         ],
         "yaxis": "y"
        },
        {
         "hoverinfo": "text",
         "marker": {
          "color": "rgb(61,153,112)"
         },
         "mode": "lines",
         "text": [
          "wunsubsec_129_135_141ba223_41",
          "",
          "",
          "remove_receive_future_click_removed"
         ],
         "type": "scatter",
         "x": [
          0,
          0.8310496766711574,
          0.8310496766711574,
          0.5983256045731895
         ],
         "xaxis": "x",
         "y": [
          -335,
          -335,
          -352.5,
          -352.5
         ],
         "yaxis": "y"
        },
        {
         "hoverinfo": "text",
         "marker": {
          "color": "rgb(255,65,54)"
         },
         "mode": "lines",
         "text": [
          "infoworld_iw_ieletters_opinions_forums",
          "",
          "",
          "infoworld_iwsubscribe_newsletters_subscribe_go"
         ],
         "type": "scatter",
         "x": [
          0,
          0.6845870044443989,
          0.6845870044443989,
          0
         ],
         "xaxis": "x",
         "y": [
          -375,
          -375,
          -385,
          -385
         ],
         "yaxis": "y"
        },
        {
         "hoverinfo": "text",
         "marker": {
          "color": "rgb(35,205,205)"
         },
         "mode": "lines",
         "text": [
          "internetwire_hotwire_command_subscribe_wire",
          "",
          "",
          "newsscan_subscribe_daily_version_html"
         ],
         "type": "scatter",
         "x": [
          0,
          0.9040895152462654,
          0.9040895152462654,
          0
         ],
         "xaxis": "x",
         "y": [
          -405,
          -405,
          -415,
          -415
         ],
         "yaxis": "y"
        },
        {
         "hoverinfo": "text",
         "marker": {
          "color": "rgb(35,205,205)"
         },
         "mode": "lines",
         "text": [
          "fiercewireless_fiercewirelesshtml_laser_sparklist_subscribe",
          "",
          "",
          "newsscan_subscribe_internetwire_hotwire_command"
         ],
         "type": "scatter",
         "x": [
          0,
          0.9408182330867968,
          0.9408182330867968,
          0.9040895152462654
         ],
         "xaxis": "x",
         "y": [
          -395,
          -395,
          -410,
          -410
         ],
         "yaxis": "y"
        },
        {
         "hoverinfo": "text",
         "marker": {
          "color": "rgb(133,20,75)"
         },
         "mode": "lines",
         "text": [
          "thestandard_publisher_letters_advertising_newsletters",
          "",
          "",
          "tremendousbuys_1306473_unsub_wish_click"
         ],
         "type": "scatter",
         "x": [
          0,
          0.9415558052897494,
          0.9415558052897494,
          0
         ],
         "xaxis": "x",
         "y": [
          -435,
          -435,
          -445,
          -445
         ],
         "yaxis": "y"
        },
        {
         "hoverinfo": "text",
         "marker": {
          "color": "rgb(133,20,75)"
         },
         "mode": "lines",
         "text": [
          "digitrends_daily_net_mpubentz_949",
          "",
          "",
          "thestandard_publisher_click_letters_advertising"
         ],
         "type": "scatter",
         "x": [
          0,
          0.9777663949510139,
          0.9777663949510139,
          0.9415558052897494
         ],
         "xaxis": "x",
         "y": [
          -425,
          -425,
          -440,
          -440
         ],
         "yaxis": "y"
        },
        {
         "hoverinfo": "text",
         "marker": {
          "color": "rgb(0,116,217)"
         },
         "mode": "lines",
         "text": [
          "fiercewireless_newsscan_subscribe_fiercewirelesshtml_laser",
          "",
          "",
          "digitrends_thestandard_publisher_click_advertising"
         ],
         "type": "scatter",
         "x": [
          0.9408182330867968,
          1.0082321956897111,
          1.0082321956897111,
          0.9777663949510139
         ],
         "xaxis": "x",
         "y": [
          -402.5,
          -402.5,
          -432.5,
          -432.5
         ],
         "yaxis": "y"
        },
        {
         "hoverinfo": "text",
         "marker": {
          "color": "rgb(255,220,0)"
         },
         "mode": "lines",
         "text": [
          "cancel_subscription_word_microsoft_mailing",
          "",
          "",
          "newsletter_ivillage_cewire_1to1_newsletters"
         ],
         "type": "scatter",
         "x": [
          0,
          0.7654193358443673,
          0.7654193358443673,
          0
         ],
         "xaxis": "x",
         "y": [
          -455,
          -455,
          -465,
          -465
         ],
         "yaxis": "y"
        },
        {
         "hoverinfo": "text",
         "marker": {
          "color": "rgb(255,220,0)"
         },
         "mode": "lines",
         "text": [
          "newsletter_subscription_cancel_ivillage_mailing",
          "",
          "",
          "babycenter_baby_1fc7nw_le_ce"
         ],
         "type": "scatter",
         "x": [
          0.7654193358443673,
          0.8927898237474649,
          0.8927898237474649,
          0
         ],
         "xaxis": "x",
         "y": [
          -460,
          -460,
          -475,
          -475
         ],
         "yaxis": "y"
        },
        {
         "hoverinfo": "text",
         "marker": {
          "color": "rgb(0,116,217)"
         },
         "mode": "lines",
         "text": [
          "fiercewireless_subscribe_digitrends_thestandard_newsscan",
          "",
          "",
          "babycenter_newsletter_baby_1fc7nw_le"
         ],
         "type": "scatter",
         "x": [
          1.0082321956897111,
          1.0754785210417377,
          1.0754785210417377,
          0.8927898237474649
         ],
         "xaxis": "x",
         "y": [
          -417.5,
          -417.5,
          -467.5,
          -467.5
         ],
         "yaxis": "y"
        },
        {
         "hoverinfo": "text",
         "marker": {
          "color": "rgb(0,116,217)"
         },
         "mode": "lines",
         "text": [
          "infoworld_iwsubscribe_newsletters_subscribe_go",
          "",
          "",
          "babycenter_subscribe_fiercewireless_newsletter_click"
         ],
         "type": "scatter",
         "x": [
          0.6845870044443989,
          1.139252705280642,
          1.139252705280642,
          1.0754785210417377
         ],
         "xaxis": "x",
         "y": [
          -380,
          -380,
          -442.5,
          -442.5
         ],
         "yaxis": "y"
        },
        {
         "hoverinfo": "text",
         "marker": {
          "color": "rgb(40,35,35)"
         },
         "mode": "lines",
         "text": [
          "realnetworks_trademarks_preference_downloaded_realjukebox",
          "",
          "",
          "receiving_because_offers_indicated_receive"
         ],
         "type": "scatter",
         "x": [
          0,
          0.707650524459552,
          0.707650524459552,
          0
         ],
         "xaxis": "x",
         "y": [
          -485,
          -485,
          -495,
          -495
         ],
         "yaxis": "y"
        },
        {
         "hoverinfo": "text",
         "marker": {
          "color": "rgb(61,153,112)"
         },
         "mode": "lines",
         "text": [
          "mliang_53488875_link2buy_record_receiving",
          "",
          "",
          "mypoints_bonusmail_points_living_color"
         ],
         "type": "scatter",
         "x": [
          0,
          0.9120977268361677,
          0.9120977268361677,
          0
         ],
         "xaxis": "x",
         "y": [
          -505,
          -505,
          -515,
          -515
         ],
         "yaxis": "y"
        },
        {
         "hoverinfo": "text",
         "marker": {
          "color": "rgb(0,116,217)"
         },
         "mode": "lines",
         "text": [
          "receiving_because_indicated_offers_realnetworks",
          "",
          "",
          "mliang_53488875_record_link2buy_receiving"
         ],
         "type": "scatter",
         "x": [
          0.707650524459552,
          1.0229532558928263,
          1.0229532558928263,
          0.9120977268361677
         ],
         "xaxis": "x",
         "y": [
          -490,
          -490,
          -510,
          -510
         ],
         "yaxis": "y"
        },
        {
         "hoverinfo": "text",
         "marker": {
          "color": "rgb(0,116,217)"
         },
         "mode": "lines",
         "text": [
          "infoworld_subscribe_newsletters_iwsubscribe_babycenter",
          "",
          "",
          "receiving_because_mliang_53488875_indicated"
         ],
         "type": "scatter",
         "x": [
          1.139252705280642,
          1.1857945362381472,
          1.1857945362381472,
          1.0229532558928263
         ],
         "xaxis": "x",
         "y": [
          -411.25,
          -411.25,
          -500,
          -500
         ],
         "yaxis": "y"
        },
        {
         "hoverinfo": "text",
         "marker": {
          "color": "rgb(0,116,217)"
         },
         "mode": "lines",
         "text": [
          "click_future_remove_receive_prefer",
          "",
          "",
          "infoworld_receiving_subscribe_newsletters_newsletter"
         ],
         "type": "scatter",
         "x": [
          0.8310496766711574,
          1.2799518217634307,
          1.2799518217634307,
          1.1857945362381472
         ],
         "xaxis": "x",
         "y": [
          -343.75,
          -343.75,
          -455.625,
          -455.625
         ],
         "yaxis": "y"
        },
        {
         "hoverinfo": "text",
         "marker": {
          "color": "rgb(255,65,54)"
         },
         "mode": "lines",
         "text": [
          "otcjournal_plaintext_properly_automatically_newsletter",
          "",
          "",
          "otcjournal_plaintext_properly_automatically_wait"
         ],
         "type": "scatter",
         "x": [
          0,
          0.09466417888505818,
          0.09466417888505818,
          0
         ],
         "xaxis": "x",
         "y": [
          -525,
          -525,
          -535,
          -535
         ],
         "yaxis": "y"
        },
        {
         "hoverinfo": "text",
         "marker": {
          "color": "rgb(0,116,217)"
         },
         "mode": "lines",
         "text": [
          "infoworld_receiving_click_subscribe_newsletters",
          "",
          "",
          "otcjournal_plaintext_properly_automatically_wait"
         ],
         "type": "scatter",
         "x": [
          1.2799518217634307,
          1.3278952468201008,
          1.3278952468201008,
          0.09466417888505818
         ],
         "xaxis": "x",
         "y": [
          -399.6875,
          -399.6875,
          -530,
          -530
         ],
         "yaxis": "y"
        },
        {
         "hoverinfo": "text",
         "marker": {
          "color": "rgb(0,116,217)"
         },
         "mode": "lines",
         "text": [
          "netaddress_permanent_address_www_free",
          "",
          "",
          "click_infoworld_receiving_subscribe_newsletter"
         ],
         "type": "scatter",
         "x": [
          0.24536429458199072,
          1.3921351786580138,
          1.3921351786580138,
          1.3278952468201008
         ],
         "xaxis": "x",
         "y": [
          -320,
          -320,
          -464.84375,
          -464.84375
         ],
         "yaxis": "y"
        },
        {
         "hoverinfo": "text",
         "marker": {
          "color": "rgb(35,205,205)"
         },
         "mode": "lines",
         "text": [
          "internet_newsletters_662_http_resources",
          "",
          "",
          "internet_newsletters_662_http_203"
         ],
         "type": "scatter",
         "x": [
          0,
          0.022283110436037368,
          0.022283110436037368,
          0
         ],
         "xaxis": "x",
         "y": [
          -545,
          -545,
          -555,
          -555
         ],
         "yaxis": "y"
        },
        {
         "hoverinfo": "text",
         "marker": {
          "color": "rgb(35,205,205)"
         },
         "mode": "lines",
         "text": [
          "internet_newsletters_662_http_203",
          "",
          "",
          "ipw_list4_mailto_alert_internetcontent"
         ],
         "type": "scatter",
         "x": [
          0.022283110436037368,
          0.8384097238300101,
          0.8384097238300101,
          0
         ],
         "xaxis": "x",
         "y": [
          -550,
          -550,
          -565,
          -565
         ],
         "yaxis": "y"
        },
        {
         "hoverinfo": "text",
         "marker": {
          "color": "rgb(61,153,112)"
         },
         "mode": "lines",
         "text": [
          "reprinting_linking_text_permissions_internet",
          "",
          "",
          "allnetdevices_list3_internet_subscribed_html"
         ],
         "type": "scatter",
         "x": [
          0,
          0.6367396332611192,
          0.6367396332611192,
          0
         ],
         "xaxis": "x",
         "y": [
          -575,
          -575,
          -585,
          -585
         ],
         "yaxis": "y"
        },
        {
         "hoverinfo": "text",
         "marker": {
          "color": "rgb(61,153,112)"
         },
         "mode": "lines",
         "text": [
          "stcetsig_stc_34772p_rgantly_subscribed",
          "",
          "",
          "subscribed_hrheroline_topica_webeditor_murthy"
         ],
         "type": "scatter",
         "x": [
          0,
          0.8382661842878893,
          0.8382661842878893,
          0
         ],
         "xaxis": "x",
         "y": [
          -595,
          -595,
          -605,
          -605
         ],
         "yaxis": "y"
        },
        {
         "hoverinfo": "text",
         "marker": {
          "color": "rgb(61,153,112)"
         },
         "mode": "lines",
         "text": [
          "stcetsig_stc_34772p_subscribed_rgantly",
          "",
          "",
          "coffeecup_dundee_lyris_software_brew"
         ],
         "type": "scatter",
         "x": [
          0.8382661842878893,
          0.914322526971502,
          0.914322526971502,
          0
         ],
         "xaxis": "x",
         "y": [
          -600,
          -600,
          -615,
          -615
         ],
         "yaxis": "y"
        },
        {
         "hoverinfo": "text",
         "marker": {
          "color": "rgb(61,153,112)"
         },
         "mode": "lines",
         "text": [
          "allnetdevices_internet_reprinting_linking_subscribed",
          "",
          "",
          "coffeecup_stcetsig_subscribed_stc_currently"
         ],
         "type": "scatter",
         "x": [
          0.6367396332611192,
          0.9470167220015522,
          0.9470167220015522,
          0.914322526971502
         ],
         "xaxis": "x",
         "y": [
          -580,
          -580,
          -607.5,
          -607.5
         ],
         "yaxis": "y"
        },
        {
         "hoverinfo": "text",
         "marker": {
          "color": "rgb(0,116,217)"
         },
         "mode": "lines",
         "text": [
          "internet_newsletters_662_http_203",
          "",
          "",
          "coffeecup_subscribed_stcetsig_currently_leave"
         ],
         "type": "scatter",
         "x": [
          0.8384097238300101,
          1.2329886762642999,
          1.2329886762642999,
          0.9470167220015522
         ],
         "xaxis": "x",
         "y": [
          -557.5,
          -557.5,
          -593.75,
          -593.75
         ],
         "yaxis": "y"
        },
        {
         "hoverinfo": "text",
         "marker": {
          "color": "rgb(0,116,217)"
         },
         "mode": "lines",
         "text": [
          "click_infoworld_receiving_subscribe_newsletter",
          "",
          "",
          "internet_coffeecup_subscribed_newsletters_http"
         ],
         "type": "scatter",
         "x": [
          1.3921351786580138,
          1.5036242174998902,
          1.5036242174998902,
          1.2329886762642999
         ],
         "xaxis": "x",
         "y": [
          -392.421875,
          -392.421875,
          -575.625,
          -575.625
         ],
         "yaxis": "y"
        },
        {
         "hoverinfo": "text",
         "marker": {
          "color": "rgb(0,116,217)"
         },
         "mode": "lines",
         "text": [
          "notify_sender_delete_error_immediately",
          "",
          "",
          "internet_newsletters_http_click_infoworld"
         ],
         "type": "scatter",
         "x": [
          0.8404131642055618,
          1.6217943055830246,
          1.6217943055830246,
          1.5036242174998902
         ],
         "xaxis": "x",
         "y": [
          -293.75,
          -293.75,
          -484.0234375,
          -484.0234375
         ],
         "yaxis": "y"
        },
        {
         "hoverinfo": "text",
         "marker": {
          "color": "rgb(0,116,217)"
         },
         "mode": "lines",
         "text": [
          "ameritrade_techhelp_ritesh_hello_comments",
          "",
          "",
          "internet_newsletters_http_click_receiving"
         ],
         "type": "scatter",
         "x": [
          0.5129847358201794,
          1.6707091662072355,
          1.6707091662072355,
          1.6217943055830246
         ],
         "xaxis": "x",
         "y": [
          -252.5,
          -252.5,
          -388.88671875,
          -388.88671875
         ],
         "yaxis": "y"
        },
        {
         "hoverinfo": "text",
         "marker": {
          "color": "rgb(0,116,217)"
         },
         "mode": "lines",
         "text": [
          "extremeprogramming_egroups_objectmentor_courtesy_unsubscribe",
          "",
          "",
          "internet_newsletters_http_ameritrade_techhelp"
         ],
         "type": "scatter",
         "x": [
          1.2360282245539065,
          1.8076393906461057,
          1.8076393906461057,
          1.6707091662072355
         ],
         "xaxis": "x",
         "y": [
          -184.6875,
          -184.6875,
          -320.693359375,
          -320.693359375
         ],
         "yaxis": "y"
        },
        {
         "hoverinfo": "text",
         "marker": {
          "color": "rgb(255,65,54)"
         },
         "mode": "lines",
         "text": [
          "java2d_signoff_body_listserv_include",
          "",
          "",
          "signoff_body_servlet_listserv_interest"
         ],
         "type": "scatter",
         "x": [
          0,
          0.27038806333843535,
          0.27038806333843535,
          0
         ],
         "xaxis": "x",
         "y": [
          -635,
          -635,
          -645,
          -645
         ],
         "yaxis": "y"
        },
        {
         "hoverinfo": "text",
         "marker": {
          "color": "rgb(255,65,54)"
         },
         "mode": "lines",
         "text": [
          "signoff_java2d_body_listserv_include",
          "",
          "",
          "signoff_jsp_body_listserv_interest"
         ],
         "type": "scatter",
         "x": [
          0.27038806333843535,
          0.37378091445703476,
          0.37378091445703476,
          0
         ],
         "xaxis": "x",
         "y": [
          -640,
          -640,
          -655,
          -655
         ],
         "yaxis": "y"
        },
        {
         "hoverinfo": "text",
         "marker": {
          "color": "rgb(255,65,54)"
         },
         "mode": "lines",
         "text": [
          "archives_servlet_java_sun_listserv",
          "",
          "",
          "signoff_body_listserv_interest_java"
         ],
         "type": "scatter",
         "x": [
          0,
          0.5377166052885805,
          0.5377166052885805,
          0.37378091445703476
         ],
         "xaxis": "x",
         "y": [
          -625,
          -625,
          -647.5,
          -647.5
         ],
         "yaxis": "y"
        },
        {
         "hoverinfo": "text",
         "marker": {
          "color": "rgb(35,205,205)"
         },
         "mode": "lines",
         "text": [
          "java_jsp_sun_interest_original",
          "",
          "",
          "jsp_bean_servlet_page_method"
         ],
         "type": "scatter",
         "x": [
          0,
          0.6051559613270825,
          0.6051559613270825,
          0
         ],
         "xaxis": "x",
         "y": [
          -665,
          -665,
          -675,
          -675
         ],
         "yaxis": "y"
        },
        {
         "hoverinfo": "text",
         "marker": {
          "color": "rgb(0,116,217)"
         },
         "mode": "lines",
         "text": [
          "listserv_java_sun_signoff_interest",
          "",
          "",
          "jsp_bean_servlet_java_page"
         ],
         "type": "scatter",
         "x": [
          0.5377166052885805,
          1.0173159959728497,
          1.0173159959728497,
          0.6051559613270825
         ],
         "xaxis": "x",
         "y": [
          -636.25,
          -636.25,
          -670,
          -670
         ],
         "yaxis": "y"
        },
        {
         "hoverinfo": "text",
         "marker": {
          "color": "rgb(0,116,217)"
         },
         "mode": "lines",
         "text": [
          "extremeprogramming_egroups_unsubscribe_objectmentor_courtesy",
          "",
          "",
          "servlet_java_jsp_sun_listserv"
         ],
         "type": "scatter",
         "x": [
          1.8076393906461057,
          1.9014860686548072,
          1.9014860686548072,
          1.0173159959728497
         ],
         "xaxis": "x",
         "y": [
          -252.6904296875,
          -252.6904296875,
          -653.125,
          -653.125
         ],
         "yaxis": "y"
        },
        {
         "hoverinfo": "text",
         "marker": {
          "color": "rgb(0,116,217)"
         },
         "mode": "lines",
         "text": [
          "hotmail_private_msn_www_free",
          "",
          "",
          "extremeprogramming_egroups_unsubscribe_objectmentor_courtesy"
         ],
         "type": "scatter",
         "x": [
          0.7102874427196613,
          1.9815507602917584,
          1.9815507602917584,
          1.9014860686548072
         ],
         "xaxis": "x",
         "y": [
          -110.625,
          -110.625,
          -452.90771484375,
          -452.90771484375
         ],
         "yaxis": "y"
        },
        {
         "hoverinfo": "text",
         "marker": {
          "color": "rgb(0,116,217)"
         },
         "mode": "lines",
         "text": [
          "unsub_postal_offers_33488063_mliang",
          "",
          "",
          "extremeprogramming_egroups_unsubscribe_objectmentor_courtesy"
         ],
         "type": "scatter",
         "x": [
          1.215380176648087,
          2.0225160945779717,
          2.0225160945779717,
          1.9815507602917584
         ],
         "xaxis": "x",
         "y": [
          -41.875,
          -41.875,
          -281.766357421875,
          -281.766357421875
         ],
         "yaxis": "y"
        },
        {
         "hoverinfo": "text",
         "marker": {
          "color": "rgb(133,20,75)"
         },
         "mode": "lines",
         "text": [
          "feel_questions_free_arise_any",
          "",
          "",
          "questions_feel_any_contact_free"
         ],
         "type": "scatter",
         "x": [
          0,
          0.2094135534421807,
          0.2094135534421807,
          0
         ],
         "xaxis": "x",
         "y": [
          -695,
          -695,
          -705,
          -705
         ],
         "yaxis": "y"
        },
        {
         "hoverinfo": "text",
         "marker": {
          "color": "rgb(133,20,75)"
         },
         "mode": "lines",
         "text": [
          "feel_free_anytime_idiot_bored",
          "",
          "",
          "questions_feel_any_free_contact"
         ],
         "type": "scatter",
         "x": [
          0,
          0.4685473044241619,
          0.4685473044241619,
          0.2094135534421807
         ],
         "xaxis": "x",
         "y": [
          -685,
          -685,
          -700,
          -700
         ],
         "yaxis": "y"
        },
        {
         "hoverinfo": "text",
         "marker": {
          "color": "rgb(133,20,75)"
         },
         "mode": "lines",
         "text": [
          "questions_any_call_aboutlogistics_8118",
          "",
          "",
          "questions_any_call_have_me"
         ],
         "type": "scatter",
         "x": [
          0,
          0.2400638434740987,
          0.2400638434740987,
          0
         ],
         "xaxis": "x",
         "y": [
          -725,
          -725,
          -735,
          -735
         ],
         "yaxis": "y"
        },
        {
         "hoverinfo": "text",
         "marker": {
          "color": "rgb(133,20,75)"
         },
         "mode": "lines",
         "text": [
          "questions_any_call_have_if",
          "",
          "",
          "give_questions_any_feel_call"
         ],
         "type": "scatter",
         "x": [
          0.2400638434740987,
          0.3791479947595585,
          0.3791479947595585,
          0
         ],
         "xaxis": "x",
         "y": [
          -730,
          -730,
          -745,
          -745
         ],
         "yaxis": "y"
        },
        {
         "hoverinfo": "text",
         "marker": {
          "color": "rgb(133,20,75)"
         },
         "mode": "lines",
         "text": [
          "questions_any_9729_990_feel",
          "",
          "",
          "questions_any_give_call_have"
         ],
         "type": "scatter",
         "x": [
          0,
          0.5424372327884998,
          0.5424372327884998,
          0.3791479947595585
         ],
         "xaxis": "x",
         "y": [
          -715,
          -715,
          -737.5,
          -737.5
         ],
         "yaxis": "y"
        },
        {
         "hoverinfo": "text",
         "marker": {
          "color": "rgb(133,20,75)"
         },
         "mode": "lines",
         "text": [
          "questions_any_feel_give_have",
          "",
          "",
          "concerns_questions_any_hesitate_feel"
         ],
         "type": "scatter",
         "x": [
          0.5424372327884998,
          0.8321042327203938,
          0.8321042327203938,
          0
         ],
         "xaxis": "x",
         "y": [
          -726.25,
          -726.25,
          -755,
          -755
         ],
         "yaxis": "y"
        },
        {
         "hoverinfo": "text",
         "marker": {
          "color": "rgb(133,20,75)"
         },
         "mode": "lines",
         "text": [
          "feel_questions_any_free_contact",
          "",
          "",
          "questions_any_concerns_feel_have"
         ],
         "type": "scatter",
         "x": [
          0.4685473044241619,
          0.886852786959976,
          0.886852786959976,
          0.8321042327203938
         ],
         "xaxis": "x",
         "y": [
          -692.5,
          -692.5,
          -740.625,
          -740.625
         ],
         "yaxis": "y"
        },
        {
         "hoverinfo": "text",
         "marker": {
          "color": "rgb(255,220,0)"
         },
         "mode": "lines",
         "text": [
          "information_contact_additional_further_more",
          "",
          "",
          "contact_questions_any_please_myself"
         ],
         "type": "scatter",
         "x": [
          0,
          0.5131653158273051,
          0.5131653158273051,
          0
         ],
         "xaxis": "x",
         "y": [
          -785,
          -785,
          -795,
          -795
         ],
         "yaxis": "y"
        },
        {
         "hoverinfo": "text",
         "marker": {
          "color": "rgb(255,220,0)"
         },
         "mode": "lines",
         "text": [
          "contact_any_questions_please_myself",
          "",
          "",
          "interested_personal_contact_touch_info"
         ],
         "type": "scatter",
         "x": [
          0.5131653158273051,
          0.7920017889158139,
          0.7920017889158139,
          0
         ],
         "xaxis": "x",
         "y": [
          -790,
          -790,
          -805,
          -805
         ],
         "yaxis": "y"
        },
        {
         "hoverinfo": "text",
         "marker": {
          "color": "rgb(255,220,0)"
         },
         "mode": "lines",
         "text": [
          "brainbench_tosupport_services_general_illuminations",
          "",
          "",
          "contact_please_any_questions_interested"
         ],
         "type": "scatter",
         "x": [
          0,
          0.8722535244021334,
          0.8722535244021334,
          0.7920017889158139
         ],
         "xaxis": "x",
         "y": [
          -775,
          -775,
          -797.5,
          -797.5
         ],
         "yaxis": "y"
        },
        {
         "hoverinfo": "text",
         "marker": {
          "color": "rgb(255,220,0)"
         },
         "mode": "lines",
         "text": [
          "clarification_clarifications_confusion_further_feel",
          "",
          "",
          "contact_please_questions_any_interested"
         ],
         "type": "scatter",
         "x": [
          0,
          0.9539146812209516,
          0.9539146812209516,
          0.8722535244021334
         ],
         "xaxis": "x",
         "y": [
          -765,
          -765,
          -786.25,
          -786.25
         ],
         "yaxis": "y"
        },
        {
         "hoverinfo": "text",
         "marker": {
          "color": "rgb(255,220,0)"
         },
         "mode": "lines",
         "text": [
          "details_info_detail_later_ll",
          "",
          "",
          "links_details_answer_provide_useful"
         ],
         "type": "scatter",
         "x": [
          0,
          0.6529715796747064,
          0.6529715796747064,
          0
         ],
         "xaxis": "x",
         "y": [
          -815,
          -815,
          -825,
          -825
         ],
         "yaxis": "y"
        },
        {
         "hoverinfo": "text",
         "marker": {
          "color": "rgb(255,220,0)"
         },
         "mode": "lines",
         "text": [
          "contact_please_any_clarification_questions",
          "",
          "",
          "details_info_links_detail_later"
         ],
         "type": "scatter",
         "x": [
          0.9539146812209516,
          0.9932017290908846,
          0.9932017290908846,
          0.6529715796747064
         ],
         "xaxis": "x",
         "y": [
          -775.625,
          -775.625,
          -820,
          -820
         ],
         "yaxis": "y"
        },
        {
         "hoverinfo": "text",
         "marker": {
          "color": "rgb(40,35,35)"
         },
         "mode": "lines",
         "text": [
          "hesitate_questions_do_any_contact",
          "",
          "",
          "assistance_help_hesitate_further_any"
         ],
         "type": "scatter",
         "x": [
          0,
          0.5673003290033793,
          0.5673003290033793,
          0
         ],
         "xaxis": "x",
         "y": [
          -835,
          -835,
          -845,
          -845
         ],
         "yaxis": "y"
        },
        {
         "hoverinfo": "text",
         "marker": {
          "color": "rgb(40,35,35)"
         },
         "mode": "lines",
         "text": [
          "hesitate_assistance_help_any_contact",
          "",
          "",
          "process_steps_hesitate_assistance_slow"
         ],
         "type": "scatter",
         "x": [
          0.5673003290033793,
          0.6200683940536253,
          0.6200683940536253,
          0
         ],
         "xaxis": "x",
         "y": [
          -840,
          -840,
          -855,
          -855
         ],
         "yaxis": "y"
        },
        {
         "hoverinfo": "text",
         "marker": {
          "color": "rgb(0,116,217)"
         },
         "mode": "lines",
         "text": [
          "contact_details_please_any_info",
          "",
          "",
          "hesitate_assistance_help_any_contact"
         ],
         "type": "scatter",
         "x": [
          0.9932017290908846,
          1.1794870944523663,
          1.1794870944523663,
          0.6200683940536253
         ],
         "xaxis": "x",
         "y": [
          -797.8125,
          -797.8125,
          -847.5,
          -847.5
         ],
         "yaxis": "y"
        },
        {
         "hoverinfo": "text",
         "marker": {
          "color": "rgb(61,153,112)"
         },
         "mode": "lines",
         "text": [
          "problems_issues_any_contact_if",
          "",
          "",
          "problems_issues_there_any_issue"
         ],
         "type": "scatter",
         "x": [
          0,
          0.2831536488361007,
          0.2831536488361007,
          0
         ],
         "xaxis": "x",
         "y": [
          -865,
          -865,
          -875,
          -875
         ],
         "yaxis": "y"
        },
        {
         "hoverinfo": "text",
         "marker": {
          "color": "rgb(255,65,54)"
         },
         "mode": "lines",
         "text": [
          "issue_solution_problem_resolved_fix",
          "",
          "",
          "problem_issue_resolved_fix_octel"
         ],
         "type": "scatter",
         "x": [
          0,
          0.5784077765592306,
          0.5784077765592306,
          0
         ],
         "xaxis": "x",
         "y": [
          -885,
          -885,
          -895,
          -895
         ],
         "yaxis": "y"
        },
        {
         "hoverinfo": "text",
         "marker": {
          "color": "rgb(0,116,217)"
         },
         "mode": "lines",
         "text": [
          "problems_issues_any_there_if",
          "",
          "",
          "problem_issue_resolved_fix_solution"
         ],
         "type": "scatter",
         "x": [
          0.2831536488361007,
          1.0183427374623042,
          1.0183427374623042,
          0.5784077765592306
         ],
         "xaxis": "x",
         "y": [
          -870,
          -870,
          -890,
          -890
         ],
         "yaxis": "y"
        },
        {
         "hoverinfo": "text",
         "marker": {
          "color": "rgb(0,116,217)"
         },
         "mode": "lines",
         "text": [
          "hesitate_contact_assistance_any_questions",
          "",
          "",
          "problems_issues_problem_issue_any"
         ],
         "type": "scatter",
         "x": [
          1.1794870944523663,
          1.3008196147990678,
          1.3008196147990678,
          1.0183427374623042
         ],
         "xaxis": "x",
         "y": [
          -822.65625,
          -822.65625,
          -880,
          -880
         ],
         "yaxis": "y"
        },
        {
         "hoverinfo": "text",
         "marker": {
          "color": "rgb(35,205,205)"
         },
         "mode": "lines",
         "text": [
          "cell_tried_disconnected_phone_okay",
          "",
          "",
          "cell_my_phone_reach_need"
         ],
         "type": "scatter",
         "x": [
          0,
          0.4474066718997368,
          0.4474066718997368,
          0
         ],
         "xaxis": "x",
         "y": [
          -905,
          -905,
          -915,
          -915
         ],
         "yaxis": "y"
        },
        {
         "hoverinfo": "text",
         "marker": {
          "color": "rgb(35,205,205)"
         },
         "mode": "lines",
         "text": [
          "cell_my_phone_reach_need",
          "",
          "",
          "urgent_emergency_cell_phone_my"
         ],
         "type": "scatter",
         "x": [
          0.4474066718997368,
          0.8387449037474366,
          0.8387449037474366,
          0
         ],
         "xaxis": "x",
         "y": [
          -910,
          -910,
          -925,
          -925
         ],
         "yaxis": "y"
        },
        {
         "hoverinfo": "text",
         "marker": {
          "color": "rgb(61,153,112)"
         },
         "mode": "lines",
         "text": [
          "5240_243_510_computerrentals_john_monteleone",
          "",
          "",
          "8530_857_need_9149_831"
         ],
         "type": "scatter",
         "x": [
          0,
          0.7092292445546018,
          0.7092292445546018,
          0
         ],
         "xaxis": "x",
         "y": [
          -935,
          -935,
          -945,
          -945
         ],
         "yaxis": "y"
        },
        {
         "hoverinfo": "text",
         "marker": {
          "color": "rgb(61,153,112)"
         },
         "mode": "lines",
         "text": [
          "650_at_408_call_585",
          "",
          "",
          "give_408_convienence_4159909729_562"
         ],
         "type": "scatter",
         "x": [
          0,
          0.7491163490195284,
          0.7491163490195284,
          0
         ],
         "xaxis": "x",
         "y": [
          -955,
          -955,
          -965,
          -965
         ],
         "yaxis": "y"
        },
        {
         "hoverinfo": "text",
         "marker": {
          "color": "rgb(61,153,112)"
         },
         "mode": "lines",
         "text": [
          "8530_9149_need_857_831",
          "",
          "",
          "650_give_408_at_call"
         ],
         "type": "scatter",
         "x": [
          0.7092292445546018,
          0.8829164408227544,
          0.8829164408227544,
          0.7491163490195284
         ],
         "xaxis": "x",
         "y": [
          -940,
          -940,
          -960,
          -960
         ],
         "yaxis": "y"
        },
        {
         "hoverinfo": "text",
         "marker": {
          "color": "rgb(255,65,54)"
         },
         "mode": "lines",
         "text": [
          "800_877_toll_888_pass",
          "",
          "",
          "408_at_562_contact_650"
         ],
         "type": "scatter",
         "x": [
          0,
          0.6742181060421462,
          0.6742181060421462,
          0
         ],
         "xaxis": "x",
         "y": [
          -985,
          -985,
          -995,
          -995
         ],
         "yaxis": "y"
        },
        {
         "hoverinfo": "text",
         "marker": {
          "color": "rgb(255,65,54)"
         },
         "mode": "lines",
         "text": [
          "order_orders_corner_amazon_petco",
          "",
          "",
          "800_877_888_toll_number"
         ],
         "type": "scatter",
         "x": [
          0,
          0.8660504673866435,
          0.8660504673866435,
          0.6742181060421462
         ],
         "xaxis": "x",
         "y": [
          -975,
          -975,
          -990,
          -990
         ],
         "yaxis": "y"
        },
        {
         "hoverinfo": "text",
         "marker": {
          "color": "rgb(35,205,205)"
         },
         "mode": "lines",
         "text": [
          "banking_bank_banks_netbank_hotline",
          "",
          "",
          "paypal_bank_800_money_metro"
         ],
         "type": "scatter",
         "x": [
          0,
          0.8636666922038532,
          0.8636666922038532,
          0
         ],
         "xaxis": "x",
         "y": [
          -1005,
          -1005,
          -1015,
          -1015
         ],
         "yaxis": "y"
        },
        {
         "hoverinfo": "text",
         "marker": {
          "color": "rgb(0,116,217)"
         },
         "mode": "lines",
         "text": [
          "800_877_toll_888_number",
          "",
          "",
          "paypal_bank_800_banking_account"
         ],
         "type": "scatter",
         "x": [
          0.8660504673866435,
          1.0366336988382177,
          1.0366336988382177,
          0.8636666922038532
         ],
         "xaxis": "x",
         "y": [
          -982.5,
          -982.5,
          -1010,
          -1010
         ],
         "yaxis": "y"
        },
        {
         "hoverinfo": "text",
         "marker": {
          "color": "rgb(0,116,217)"
         },
         "mode": "lines",
         "text": [
          "408_me_at_857_9149",
          "",
          "",
          "800_paypal_877_toll_888"
         ],
         "type": "scatter",
         "x": [
          0.8829164408227544,
          1.1704936990900894,
          1.1704936990900894,
          1.0366336988382177
         ],
         "xaxis": "x",
         "y": [
          -950,
          -950,
          -996.25,
          -996.25
         ],
         "yaxis": "y"
        },
        {
         "hoverinfo": "text",
         "marker": {
          "color": "rgb(0,116,217)"
         },
         "mode": "lines",
         "text": [
          "cell_my_phone_reach_408",
          "",
          "",
          "800_paypal_877_at_toll"
         ],
         "type": "scatter",
         "x": [
          0.8387449037474366,
          1.2104661562340926,
          1.2104661562340926,
          1.1704936990900894
         ],
         "xaxis": "x",
         "y": [
          -917.5,
          -917.5,
          -973.125,
          -973.125
         ],
         "yaxis": "y"
        },
        {
         "hoverinfo": "text",
         "marker": {
          "color": "rgb(133,20,75)"
         },
         "mode": "lines",
         "text": [
          "instructor_8744_7956_857_doug",
          "",
          "",
          "avocadoit_562_408_inc_2211"
         ],
         "type": "scatter",
         "x": [
          0,
          0.5703221115649852,
          0.5703221115649852,
          0
         ],
         "xaxis": "x",
         "y": [
          -1025,
          -1025,
          -1035,
          -1035
         ],
         "yaxis": "y"
        },
        {
         "hoverinfo": "text",
         "marker": {
          "color": "rgb(133,20,75)"
         },
         "mode": "lines",
         "text": [
          "avocadoit_562_408_inc_2211",
          "",
          "",
          "era_8039_strategic_enabling_infrastructure"
         ],
         "type": "scatter",
         "x": [
          0.5703221115649852,
          0.805914938590567,
          0.805914938590567,
          0
         ],
         "xaxis": "x",
         "y": [
          -1030,
          -1030,
          -1045,
          -1045
         ],
         "yaxis": "y"
        },
        {
         "hoverinfo": "text",
         "marker": {
          "color": "rgb(0,116,217)"
         },
         "mode": "lines",
         "text": [
          "cell_my_800_408_phone",
          "",
          "",
          "avocadoit_562_408_inc_2211"
         ],
         "type": "scatter",
         "x": [
          1.2104661562340926,
          1.2505533244369604,
          1.2505533244369604,
          0.805914938590567
         ],
         "xaxis": "x",
         "y": [
          -945.3125,
          -945.3125,
          -1037.5,
          -1037.5
         ],
         "yaxis": "y"
        },
        {
         "hoverinfo": "text",
         "marker": {
          "color": "rgb(0,116,217)"
         },
         "mode": "lines",
         "text": [
          "hesitate_contact_any_assistance_please",
          "",
          "",
          "avocadoit_408_562_inc_2211"
         ],
         "type": "scatter",
         "x": [
          1.3008196147990678,
          1.5042781129525609,
          1.5042781129525609,
          1.2505533244369604
         ],
         "xaxis": "x",
         "y": [
          -851.328125,
          -851.328125,
          -991.40625,
          -991.40625
         ],
         "yaxis": "y"
        },
        {
         "hoverinfo": "text",
         "marker": {
          "color": "rgb(0,116,217)"
         },
         "mode": "lines",
         "text": [
          "questions_feel_any_concerns_free",
          "",
          "",
          "avocadoit_408_562_inc_2211"
         ],
         "type": "scatter",
         "x": [
          0.886852786959976,
          1.7311674164180144,
          1.7311674164180144,
          1.5042781129525609
         ],
         "xaxis": "x",
         "y": [
          -716.5625,
          -716.5625,
          -921.3671875,
          -921.3671875
         ],
         "yaxis": "y"
        },
        {
         "hoverinfo": "text",
         "marker": {
          "color": "rgb(255,220,0)"
         },
         "mode": "lines",
         "text": [
          "test_unit_tests_interface_object",
          "",
          "",
          "test_results_testing_tests_plan"
         ],
         "type": "scatter",
         "x": [
          0,
          0.5760068940106988,
          0.5760068940106988,
          0
         ],
         "xaxis": "x",
         "y": [
          -1065,
          -1065,
          -1075,
          -1075
         ],
         "yaxis": "y"
        },
        {
         "hoverinfo": "text",
         "marker": {
          "color": "rgb(255,220,0)"
         },
         "mode": "lines",
         "text": [
          "tests_unit_acceptance_programmers_harmful",
          "",
          "",
          "test_results_testing_tests_plan"
         ],
         "type": "scatter",
         "x": [
          0,
          0.7026610896735843,
          0.7026610896735843,
          0.5760068940106988
         ],
         "xaxis": "x",
         "y": [
          -1055,
          -1055,
          -1070,
          -1070
         ],
         "yaxis": "y"
        },
        {
         "hoverinfo": "text",
         "marker": {
          "color": "rgb(40,35,35)"
         },
         "mode": "lines",
         "text": [
          "ip_external_addresses_address_63",
          "",
          "",
          "servers_server_ip_operations_simulator"
         ],
         "type": "scatter",
         "x": [
          0,
          0.6759719442602994,
          0.6759719442602994,
          0
         ],
         "xaxis": "x",
         "y": [
          -1085,
          -1085,
          -1095,
          -1095
         ],
         "yaxis": "y"
        },
        {
         "hoverinfo": "text",
         "marker": {
          "color": "rgb(61,153,112)"
         },
         "mode": "lines",
         "text": [
          "pocketpc_pocket_pc_application_emulator",
          "",
          "",
          "application_applications_spells_quadralay_updated"
         ],
         "type": "scatter",
         "x": [
          0,
          0.8223589366508728,
          0.8223589366508728,
          0
         ],
         "xaxis": "x",
         "y": [
          -1115,
          -1115,
          -1125,
          -1125
         ],
         "yaxis": "y"
        },
        {
         "hoverinfo": "text",
         "marker": {
          "color": "rgb(61,153,112)"
         },
         "mode": "lines",
         "text": [
          "device_header_deviceid_gateway_id",
          "",
          "",
          "pocketpc_application_pocket_pc_applications"
         ],
         "type": "scatter",
         "x": [
          0,
          0.8674577174234113,
          0.8674577174234113,
          0.8223589366508728
         ],
         "xaxis": "x",
         "y": [
          -1105,
          -1105,
          -1120,
          -1120
         ],
         "yaxis": "y"
        },
        {
         "hoverinfo": "text",
         "marker": {
          "color": "rgb(61,153,112)"
         },
         "mode": "lines",
         "text": [
          "pocketpc_application_device_pocket_header",
          "",
          "",
          "emulator_tcp_netlib_redirect_ip"
         ],
         "type": "scatter",
         "x": [
          0.8674577174234113,
          0.8873528824253133,
          0.8873528824253133,
          0
         ],
         "xaxis": "x",
         "y": [
          -1112.5,
          -1112.5,
          -1135,
          -1135
         ],
         "yaxis": "y"
        },
        {
         "hoverinfo": "text",
         "marker": {
          "color": "rgb(61,153,112)"
         },
         "mode": "lines",
         "text": [
          "palm_vii_emulator_pqa_handheld",
          "",
          "",
          "pqa_quicken_pqas_application_test"
         ],
         "type": "scatter",
         "x": [
          0,
          0.8092648206364124,
          0.8092648206364124,
          0
         ],
         "xaxis": "x",
         "y": [
          -1145,
          -1145,
          -1155,
          -1155
         ],
         "yaxis": "y"
        },
        {
         "hoverinfo": "text",
         "marker": {
          "color": "rgb(61,153,112)"
         },
         "mode": "lines",
         "text": [
          "emulator_application_device_pocketpc_pocket",
          "",
          "",
          "pqa_palm_vii_application_emulator"
         ],
         "type": "scatter",
         "x": [
          0.8873528824253133,
          0.9022513964207162,
          0.9022513964207162,
          0.8092648206364124
         ],
         "xaxis": "x",
         "y": [
          -1123.75,
          -1123.75,
          -1150,
          -1150
         ],
         "yaxis": "y"
        },
        {
         "hoverinfo": "text",
         "marker": {
          "color": "rgb(0,116,217)"
         },
         "mode": "lines",
         "text": [
          "ip_servers_external_server_addresses",
          "",
          "",
          "pqa_palm_emulator_application_device"
         ],
         "type": "scatter",
         "x": [
          0.6759719442602994,
          1.1033921436275076,
          1.1033921436275076,
          0.9022513964207162
         ],
         "xaxis": "x",
         "y": [
          -1090,
          -1090,
          -1136.875,
          -1136.875
         ],
         "yaxis": "y"
        },
        {
         "hoverinfo": "text",
         "marker": {
          "color": "rgb(255,65,54)"
         },
         "mode": "lines",
         "text": [
          "upperdesign_phpclasses_notification_options_user_options",
          "",
          "",
          "url_salesep_urls_geotuch_sore"
         ],
         "type": "scatter",
         "x": [
          0,
          0.911231223732202,
          0.911231223732202,
          0
         ],
         "xaxis": "x",
         "y": [
          -1165,
          -1165,
          -1175,
          -1175
         ],
         "yaxis": "y"
        },
        {
         "hoverinfo": "text",
         "marker": {
          "color": "rgb(255,65,54)"
         },
         "mode": "lines",
         "text": [
          "epservlet_opt_ini_servlet_userid",
          "",
          "",
          "etrade_trade_managing_issue_notification"
         ],
         "type": "scatter",
         "x": [
          0,
          0.8033384413844298,
          0.8033384413844298,
          0
         ],
         "xaxis": "x",
         "y": [
          -1185,
          -1185,
          -1195,
          -1195
         ],
         "yaxis": "y"
        },
        {
         "hoverinfo": "text",
         "marker": {
          "color": "rgb(255,65,54)"
         },
         "mode": "lines",
         "text": [
          "upperdesign_phpclasses_notification_options_user_options",
          "",
          "",
          "etrade_trade_epservlet_opt_servlet"
         ],
         "type": "scatter",
         "x": [
          0.911231223732202,
          0.9987301584153436,
          0.9987301584153436,
          0.8033384413844298
         ],
         "xaxis": "x",
         "y": [
          -1170,
          -1170,
          -1190,
          -1190
         ],
         "yaxis": "y"
        },
        {
         "hoverinfo": "text",
         "marker": {
          "color": "rgb(35,205,205)"
         },
         "mode": "lines",
         "text": [
          "alerts_alert_actionable_devices_bitmo",
          "",
          "",
          "gartner_displaydocument_checkbox_www4_alert"
         ],
         "type": "scatter",
         "x": [
          0,
          0.79445519554549,
          0.79445519554549,
          0
         ],
         "xaxis": "x",
         "y": [
          -1205,
          -1205,
          -1215,
          -1215
         ],
         "yaxis": "y"
        },
        {
         "hoverinfo": "text",
         "marker": {
          "color": "rgb(0,116,217)"
         },
         "mode": "lines",
         "text": [
          "etrade_trade_epservlet_upperdesign_phpclasses",
          "",
          "",
          "gartner_alert_alerts_displaydocument_checkbox"
         ],
         "type": "scatter",
         "x": [
          0.9987301584153436,
          1.0630024065796786,
          1.0630024065796786,
          0.79445519554549
         ],
         "xaxis": "x",
         "y": [
          -1180,
          -1180,
          -1210,
          -1210
         ],
         "yaxis": "y"
        },
        {
         "hoverinfo": "text",
         "marker": {
          "color": "rgb(61,153,112)"
         },
         "mode": "lines",
         "text": [
          "installer_install_installshield_installation_patch",
          "",
          "",
          "bugzilla_bug_bugs_show_cgi_fixed"
         ],
         "type": "scatter",
         "x": [
          0,
          0.864763503254339,
          0.864763503254339,
          0
         ],
         "xaxis": "x",
         "y": [
          -1225,
          -1225,
          -1235,
          -1235
         ],
         "yaxis": "y"
        },
        {
         "hoverinfo": "text",
         "marker": {
          "color": "rgb(61,153,112)"
         },
         "mode": "lines",
         "text": [
          "bugzilla_bug_bugs_show_cgi_installer",
          "",
          "",
          "features_feature_release_enhanced_list"
         ],
         "type": "scatter",
         "x": [
          0.864763503254339,
          0.9000248096958074,
          0.9000248096958074,
          0
         ],
         "xaxis": "x",
         "y": [
          -1230,
          -1230,
          -1245,
          -1245
         ],
         "yaxis": "y"
        },
        {
         "hoverinfo": "text",
         "marker": {
          "color": "rgb(61,153,112)"
         },
         "mode": "lines",
         "text": [
          "sessions_memory_session_concurrent_server",
          "",
          "",
          "item_oca_osa_data_201"
         ],
         "type": "scatter",
         "x": [
          0,
          0.9080683653892808,
          0.9080683653892808,
          0
         ],
         "xaxis": "x",
         "y": [
          -1255,
          -1255,
          -1265,
          -1265
         ],
         "yaxis": "y"
        },
        {
         "hoverinfo": "text",
         "marker": {
          "color": "rgb(61,153,112)"
         },
         "mode": "lines",
         "text": [
          "error_page_messages_errors_activex",
          "",
          "",
          "japanese_translation_miyuki_localized_translated"
         ],
         "type": "scatter",
         "x": [
          0,
          0.8253380125217802,
          0.8253380125217802,
          0
         ],
         "xaxis": "x",
         "y": [
          -1275,
          -1275,
          -1285,
          -1285
         ],
         "yaxis": "y"
        },
        {
         "hoverinfo": "text",
         "marker": {
          "color": "rgb(61,153,112)"
         },
         "mode": "lines",
         "text": [
          "japanese_error_translation_miyuki_messages",
          "",
          "",
          "idc_diva_ae_employees_ptc"
         ],
         "type": "scatter",
         "x": [
          0.8253380125217802,
          0.912704472872377,
          0.912704472872377,
          0
         ],
         "xaxis": "x",
         "y": [
          -1280,
          -1280,
          -1295,
          -1295
         ],
         "yaxis": "y"
        },
        {
         "hoverinfo": "text",
         "marker": {
          "color": "rgb(61,153,112)"
         },
         "mode": "lines",
         "text": [
          "item_oca_osa_data_201",
          "",
          "",
          "idc_japanese_error_translation_messages"
         ],
         "type": "scatter",
         "x": [
          0.9080683653892808,
          0.9395511030509233,
          0.9395511030509233,
          0.912704472872377
         ],
         "xaxis": "x",
         "y": [
          -1260,
          -1260,
          -1287.5,
          -1287.5
         ],
         "yaxis": "y"
        },
        {
         "hoverinfo": "text",
         "marker": {
          "color": "rgb(61,153,112)"
         },
         "mode": "lines",
         "text": [
          "bugzilla_bug_bugs_show_cgi_features",
          "",
          "",
          "item_oca_osa_idc_data"
         ],
         "type": "scatter",
         "x": [
          0.9000248096958074,
          0.9873470931161763,
          0.9873470931161763,
          0.9395511030509233
         ],
         "xaxis": "x",
         "y": [
          -1237.5,
          -1237.5,
          -1273.75,
          -1273.75
         ],
         "yaxis": "y"
        },
        {
         "hoverinfo": "text",
         "marker": {
          "color": "rgb(255,65,54)"
         },
         "mode": "lines",
         "text": [
          "emas_attribute_device_cookies_default",
          "",
          "",
          "ecs_emas_ert_emds_guide"
         ],
         "type": "scatter",
         "x": [
          0,
          0.7859510158780877,
          0.7859510158780877,
          0
         ],
         "xaxis": "x",
         "y": [
          -1305,
          -1305,
          -1315,
          -1315
         ],
         "yaxis": "y"
        },
        {
         "hoverinfo": "text",
         "marker": {
          "color": "rgb(0,116,217)"
         },
         "mode": "lines",
         "text": [
          "item_oca_osa_idc_bug",
          "",
          "",
          "emas_ecs_ert_attribute_emds"
         ],
         "type": "scatter",
         "x": [
          0.9873470931161763,
          1.0055946765461092,
          1.0055946765461092,
          0.7859510158780877
         ],
         "xaxis": "x",
         "y": [
          -1255.625,
          -1255.625,
          -1310,
          -1310
         ],
         "yaxis": "y"
        },
        {
         "hoverinfo": "text",
         "marker": {
          "color": "rgb(0,116,217)"
         },
         "mode": "lines",
         "text": [
          "gartner_alert_alerts_etrade_trade",
          "",
          "",
          "item_oca_osa_idc_bug"
         ],
         "type": "scatter",
         "x": [
          1.0630024065796786,
          1.1070352099059588,
          1.1070352099059588,
          1.0055946765461092
         ],
         "xaxis": "x",
         "y": [
          -1195,
          -1195,
          -1282.8125,
          -1282.8125
         ],
         "yaxis": "y"
        },
        {
         "hoverinfo": "text",
         "marker": {
          "color": "rgb(35,205,205)"
         },
         "mode": "lines",
         "text": [
          "ops_request_op_sent_clearification",
          "",
          "",
          "pager_ops_pagers_alphanumeric_pin"
         ],
         "type": "scatter",
         "x": [
          0,
          0.7980231802057107,
          0.7980231802057107,
          0
         ],
         "xaxis": "x",
         "y": [
          -1325,
          -1325,
          -1335,
          -1335
         ],
         "yaxis": "y"
        },
        {
         "hoverinfo": "text",
         "marker": {
          "color": "rgb(0,116,217)"
         },
         "mode": "lines",
         "text": [
          "item_oca_osa_gartner_idc",
          "",
          "",
          "pager_ops_request_pagers_operations"
         ],
         "type": "scatter",
         "x": [
          1.1070352099059588,
          1.1093111068964019,
          1.1093111068964019,
          0.7980231802057107
         ],
         "xaxis": "x",
         "y": [
          -1238.90625,
          -1238.90625,
          -1330,
          -1330
         ],
         "yaxis": "y"
        },
        {
         "hoverinfo": "text",
         "marker": {
          "color": "rgb(0,116,217)"
         },
         "mode": "lines",
         "text": [
          "pqa_palm_emulator_application_ip",
          "",
          "",
          "item_oca_osa_gartner_idc"
         ],
         "type": "scatter",
         "x": [
          1.1033921436275076,
          1.172721494119793,
          1.172721494119793,
          1.1093111068964019
         ],
         "xaxis": "x",
         "y": [
          -1113.4375,
          -1113.4375,
          -1284.453125,
          -1284.453125
         ],
         "yaxis": "y"
        },
        {
         "hoverinfo": "text",
         "marker": {
          "color": "rgb(133,20,75)"
         },
         "mode": "lines",
         "text": [
          "build_wilhan_testing_jagrati_available",
          "",
          "",
          "wilhan_build_readme_checkin_checkins"
         ],
         "type": "scatter",
         "x": [
          0,
          0.6466949870783848,
          0.6466949870783848,
          0
         ],
         "xaxis": "x",
         "y": [
          -1345,
          -1345,
          -1355,
          -1355
         ],
         "yaxis": "y"
        },
        {
         "hoverinfo": "text",
         "marker": {
          "color": "rgb(0,116,217)"
         },
         "mode": "lines",
         "text": [
          "pqa_palm_item_oca_osa",
          "",
          "",
          "build_wilhan_readme_start_jagrati"
         ],
         "type": "scatter",
         "x": [
          1.172721494119793,
          1.1853439452468795,
          1.1853439452468795,
          0.6466949870783848
         ],
         "xaxis": "x",
         "y": [
          -1198.9453125,
          -1198.9453125,
          -1350,
          -1350
         ],
         "yaxis": "y"
        },
        {
         "hoverinfo": "text",
         "marker": {
          "color": "rgb(0,116,217)"
         },
         "mode": "lines",
         "text": [
          "test_tests_testing_results_unit",
          "",
          "",
          "pqa_palm_item_oca_osa"
         ],
         "type": "scatter",
         "x": [
          0.7026610896735843,
          1.2945384897774148,
          1.2945384897774148,
          1.1853439452468795
         ],
         "xaxis": "x",
         "y": [
          -1062.5,
          -1062.5,
          -1274.47265625,
          -1274.47265625
         ],
         "yaxis": "y"
        },
        {
         "hoverinfo": "text",
         "marker": {
          "color": "rgb(255,220,0)"
         },
         "mode": "lines",
         "text": [
          "vss_files_applicationsengineering_webbyphone_quicken",
          "",
          "",
          "aml_files_pages_amlscript_file"
         ],
         "type": "scatter",
         "x": [
          0,
          0.8710529174564903,
          0.8710529174564903,
          0
         ],
         "xaxis": "x",
         "y": [
          -1365,
          -1365,
          -1375,
          -1375
         ],
         "yaxis": "y"
        },
        {
         "hoverinfo": "text",
         "marker": {
          "color": "rgb(255,220,0)"
         },
         "mode": "lines",
         "text": [
          "files_file_these_folders_brownvm",
          "",
          "",
          "file_files_kaiperm_zip_uploading"
         ],
         "type": "scatter",
         "x": [
          0,
          0.4043333034133889,
          0.4043333034133889,
          0
         ],
         "xaxis": "x",
         "y": [
          -1385,
          -1385,
          -1395,
          -1395
         ],
         "yaxis": "y"
        },
        {
         "hoverinfo": "text",
         "marker": {
          "color": "rgb(255,220,0)"
         },
         "mode": "lines",
         "text": [
          "files_file_kaiperm_zip_these",
          "",
          "",
          "zip_files_file_zipped_zipreality"
         ],
         "type": "scatter",
         "x": [
          0.4043333034133889,
          0.6998395864535727,
          0.6998395864535727,
          0
         ],
         "xaxis": "x",
         "y": [
          -1390,
          -1390,
          -1405,
          -1405
         ],
         "yaxis": "y"
        },
        {
         "hoverinfo": "text",
         "marker": {
          "color": "rgb(255,220,0)"
         },
         "mode": "lines",
         "text": [
          "aml_vss_files_file_pages",
          "",
          "",
          "files_file_zip_kaiperm_zipped"
         ],
         "type": "scatter",
         "x": [
          0.8710529174564903,
          0.9300302092189279,
          0.9300302092189279,
          0.6998395864535727
         ],
         "xaxis": "x",
         "y": [
          -1370,
          -1370,
          -1397.5,
          -1397.5
         ],
         "yaxis": "y"
        },
        {
         "hoverinfo": "text",
         "marker": {
          "color": "rgb(0,116,217)"
         },
         "mode": "lines",
         "text": [
          "pqa_palm_item_oca_test",
          "",
          "",
          "aml_vss_files_file_zip"
         ],
         "type": "scatter",
         "x": [
          1.2945384897774148,
          1.4159057649813713,
          1.4159057649813713,
          0.9300302092189279
         ],
         "xaxis": "x",
         "y": [
          -1168.486328125,
          -1168.486328125,
          -1383.75,
          -1383.75
         ],
         "yaxis": "y"
        },
        {
         "hoverinfo": "text",
         "marker": {
          "color": "rgb(40,35,35)"
         },
         "mode": "lines",
         "text": [
          "status_progress_update_later_keep",
          "",
          "",
          "status_report_reports_weekly_week"
         ],
         "type": "scatter",
         "x": [
          0,
          0.4023298546195905,
          0.4023298546195905,
          0
         ],
         "xaxis": "x",
         "y": [
          -1415,
          -1415,
          -1425,
          -1425
         ],
         "yaxis": "y"
        },
        {
         "hoverinfo": "text",
         "marker": {
          "color": "rgb(40,35,35)"
         },
         "mode": "lines",
         "text": [
          "report_reports_instat_hardcopy_summary",
          "",
          "",
          "expense_reports_report_expenses_receipts"
         ],
         "type": "scatter",
         "x": [
          0,
          0.7020106304327378,
          0.7020106304327378,
          0
         ],
         "xaxis": "x",
         "y": [
          -1435,
          -1435,
          -1445,
          -1445
         ],
         "yaxis": "y"
        },
        {
         "hoverinfo": "text",
         "marker": {
          "color": "rgb(40,35,35)"
         },
         "mode": "lines",
         "text": [
          "status_report_reports_weekly_progress",
          "",
          "",
          "report_expense_reports_expenses_receipts"
         ],
         "type": "scatter",
         "x": [
          0.4023298546195905,
          0.9857801998395674,
          0.9857801998395674,
          0.7020106304327378
         ],
         "xaxis": "x",
         "y": [
          -1420,
          -1420,
          -1440,
          -1440
         ],
         "yaxis": "y"
        },
        {
         "hoverinfo": "text",
         "marker": {
          "color": "rgb(61,153,112)"
         },
         "mode": "lines",
         "text": [
          "correct_wrong_am_gvd_please",
          "",
          "",
          "correct_wrong_directio_studious_notions"
         ],
         "type": "scatter",
         "x": [
          0,
          0.3889856568491806,
          0.3889856568491806,
          0
         ],
         "xaxis": "x",
         "y": [
          -1455,
          -1455,
          -1465,
          -1465
         ],
         "yaxis": "y"
        },
        {
         "hoverinfo": "text",
         "marker": {
          "color": "rgb(255,65,54)"
         },
         "mode": "lines",
         "text": [
          "con_conf_call_schedule_next",
          "",
          "",
          "javadevelopersjournal_sys_con_mailbox_subscribed"
         ],
         "type": "scatter",
         "x": [
          0,
          0.7580451677152031,
          0.7580451677152031,
          0
         ],
         "xaxis": "x",
         "y": [
          -1475,
          -1475,
          -1485,
          -1485
         ],
         "yaxis": "y"
        },
        {
         "hoverinfo": "text",
         "marker": {
          "color": "rgb(35,205,205)"
         },
         "mode": "lines",
         "text": [
          "folders_mailbox_mailboxes_folder_public",
          "",
          "",
          "mailbox_kb_size_100000_cleaning"
         ],
         "type": "scatter",
         "x": [
          0,
          0.6994023565826706,
          0.6994023565826706,
          0
         ],
         "xaxis": "x",
         "y": [
          -1495,
          -1495,
          -1505,
          -1505
         ],
         "yaxis": "y"
        },
        {
         "hoverinfo": "text",
         "marker": {
          "color": "rgb(61,153,112)"
         },
         "mode": "lines",
         "text": [
          "32992900_mbx_evoice_ts_retrieve",
          "",
          "",
          "log_logs_logfile_files_txt"
         ],
         "type": "scatter",
         "x": [
          0,
          0.8837083374576735,
          0.8837083374576735,
          0
         ],
         "xaxis": "x",
         "y": [
          -1515,
          -1515,
          -1525,
          -1525
         ],
         "yaxis": "y"
        },
        {
         "hoverinfo": "text",
         "marker": {
          "color": "rgb(0,116,217)"
         },
         "mode": "lines",
         "text": [
          "mailbox_folders_mailboxes_kb_size",
          "",
          "",
          "32992900_mbx_evoice_log_ts"
         ],
         "type": "scatter",
         "x": [
          0.6994023565826706,
          1.025500218083047,
          1.025500218083047,
          0.8837083374576735
         ],
         "xaxis": "x",
         "y": [
          -1500,
          -1500,
          -1520,
          -1520
         ],
         "yaxis": "y"
        },
        {
         "hoverinfo": "text",
         "marker": {
          "color": "rgb(0,116,217)"
         },
         "mode": "lines",
         "text": [
          "con_javadevelopersjournal_sys_mailbox_subscribed",
          "",
          "",
          "32992900_mailbox_log_mbx_evoice"
         ],
         "type": "scatter",
         "x": [
          0.7580451677152031,
          1.1144383508543205,
          1.1144383508543205,
          1.025500218083047
         ],
         "xaxis": "x",
         "y": [
          -1480,
          -1480,
          -1510,
          -1510
         ],
         "yaxis": "y"
        },
        {
         "hoverinfo": "text",
         "marker": {
          "color": "rgb(255,65,54)"
         },
         "mode": "lines",
         "text": [
          "pics_photo_picture_hair_jc",
          "",
          "",
          "pictures_photos_picture_images_photo"
         ],
         "type": "scatter",
         "x": [
          0,
          0.5861061431742587,
          0.5861061431742587,
          0
         ],
         "xaxis": "x",
         "y": [
          -1535,
          -1535,
          -1545,
          -1545
         ],
         "yaxis": "y"
        },
        {
         "hoverinfo": "text",
         "marker": {
          "color": "rgb(35,205,205)"
         },
         "mode": "lines",
         "text": [
          "attachment_attachments_mb_size_open",
          "",
          "",
          "virus_infected_attachment_norton_scan"
         ],
         "type": "scatter",
         "x": [
          0,
          0.7797584827450125,
          0.7797584827450125,
          0
         ],
         "xaxis": "x",
         "y": [
          -1565,
          -1565,
          -1575,
          -1575
         ],
         "yaxis": "y"
        },
        {
         "hoverinfo": "text",
         "marker": {
          "color": "rgb(35,205,205)"
         },
         "mode": "lines",
         "text": [
          "content_base64_disposition_encoding_filename",
          "",
          "",
          "virus_attachment_infected_norton_scan"
         ],
         "type": "scatter",
         "x": [
          0,
          0.9255779507044847,
          0.9255779507044847,
          0.7797584827450125
         ],
         "xaxis": "x",
         "y": [
          -1555,
          -1555,
          -1570,
          -1570
         ],
         "yaxis": "y"
        },
        {
         "hoverinfo": "text",
         "marker": {
          "color": "rgb(133,20,75)"
         },
         "mode": "lines",
         "text": [
          "germana_bernsen_loewy_fragomen_whom",
          "",
          "",
          "thecounter_submissions_article_countersubmissions_webmasters"
         ],
         "type": "scatter",
         "x": [
          0,
          0.963553407772985,
          0.963553407772985,
          0
         ],
         "xaxis": "x",
         "y": [
          -1585,
          -1585,
          -1595,
          -1595
         ],
         "yaxis": "y"
        },
        {
         "hoverinfo": "text",
         "marker": {
          "color": "rgb(133,20,75)"
         },
         "mode": "lines",
         "text": [
          "2002_bursts_newsfeed_beginners_2003",
          "",
          "",
          "oracle_cout_printers_username_otn"
         ],
         "type": "scatter",
         "x": [
          0,
          0.9177837841662853,
          0.9177837841662853,
          0
         ],
         "xaxis": "x",
         "y": [
          -1605,
          -1605,
          -1615,
          -1615
         ],
         "yaxis": "y"
        },
        {
         "hoverinfo": "text",
         "marker": {
          "color": "rgb(133,20,75)"
         },
         "mode": "lines",
         "text": [
          "thecounter_germana_submissions_article_loewy",
          "",
          "",
          "2002_oracle_bursts_newsfeed_beginners"
         ],
         "type": "scatter",
         "x": [
          0.963553407772985,
          0.9707550469428754,
          0.9707550469428754,
          0.9177837841662853
         ],
         "xaxis": "x",
         "y": [
          -1590,
          -1590,
          -1610,
          -1610
         ],
         "yaxis": "y"
        },
        {
         "hoverinfo": "text",
         "marker": {
          "color": "rgb(255,220,0)"
         },
         "mode": "lines",
         "text": [
          "marketing_permission_yesmail_relationships_responsys",
          "",
          "",
          "clickz_advertise_conferences_feedback_subscription"
         ],
         "type": "scatter",
         "x": [
          0,
          0.8122876318933612,
          0.8122876318933612,
          0
         ],
         "xaxis": "x",
         "y": [
          -1625,
          -1625,
          -1635,
          -1635
         ],
         "yaxis": "y"
        },
        {
         "hoverinfo": "text",
         "marker": {
          "color": "rgb(255,220,0)"
         },
         "mode": "lines",
         "text": [
          "printer_print_pdf_canon_printing",
          "",
          "",
          "verisign_certificate_certificates_renewal_exalink"
         ],
         "type": "scatter",
         "x": [
          0,
          0.9311076919574998,
          0.9311076919574998,
          0
         ],
         "xaxis": "x",
         "y": [
          -1645,
          -1645,
          -1655,
          -1655
         ],
         "yaxis": "y"
        },
        {
         "hoverinfo": "text",
         "marker": {
          "color": "rgb(255,220,0)"
         },
         "mode": "lines",
         "text": [
          "clickz_advertise_conferences_feedback_subscription",
          "",
          "",
          "verisign_printer_print_certificate_pdf"
         ],
         "type": "scatter",
         "x": [
          0.8122876318933612,
          0.9649982039300296,
          0.9649982039300296,
          0.9311076919574998
         ],
         "xaxis": "x",
         "y": [
          -1630,
          -1630,
          -1650,
          -1650
         ],
         "yaxis": "y"
        },
        {
         "hoverinfo": "text",
         "marker": {
          "color": "rgb(0,116,217)"
         },
         "mode": "lines",
         "text": [
          "2002_thecounter_germana_submissions_oracle",
          "",
          "",
          "clickz_advertise_conferences_feedback_printer"
         ],
         "type": "scatter",
         "x": [
          0.9707550469428754,
          1.0163759306470768,
          1.0163759306470768,
          0.9649982039300296
         ],
         "xaxis": "x",
         "y": [
          -1600,
          -1600,
          -1640,
          -1640
         ],
         "yaxis": "y"
        },
        {
         "hoverinfo": "text",
         "marker": {
          "color": "rgb(40,35,35)"
         },
         "mode": "lines",
         "text": [
          "people_friends_who_least_prayer",
          "",
          "",
          "000_each_mails_people_total"
         ],
         "type": "scatter",
         "x": [
          0,
          0.8073470590284003,
          0.8073470590284003,
          0
         ],
         "xaxis": "x",
         "y": [
          -1675,
          -1675,
          -1685,
          -1685
         ],
         "yaxis": "y"
        },
        {
         "hoverinfo": "text",
         "marker": {
          "color": "rgb(40,35,35)"
         },
         "mode": "lines",
         "text": [
          "jokes_funny_laughing_joke_puns",
          "",
          "",
          "people_000_who_friends_each"
         ],
         "type": "scatter",
         "x": [
          0,
          0.9292535288592962,
          0.9292535288592962,
          0.8073470590284003
         ],
         "xaxis": "x",
         "y": [
          -1665,
          -1665,
          -1680,
          -1680
         ],
         "yaxis": "y"
        },
        {
         "hoverinfo": "text",
         "marker": {
          "color": "rgb(40,35,35)"
         },
         "mode": "lines",
         "text": [
          "people_000_jokes_friends_least",
          "",
          "",
          "taliban_laden_rm_rf_dune"
         ],
         "type": "scatter",
         "x": [
          0.9292535288592962,
          0.9605380023510395,
          0.9605380023510395,
          0
         ],
         "xaxis": "x",
         "y": [
          -1672.5,
          -1672.5,
          -1695,
          -1695
         ],
         "yaxis": "y"
        },
        {
         "hoverinfo": "text",
         "marker": {
          "color": "rgb(61,153,112)"
         },
         "mode": "lines",
         "text": [
          "xp_windows_process_specially_madness",
          "",
          "",
          "jargon_elsewhere_entry_agile_architecture"
         ],
         "type": "scatter",
         "x": [
          0,
          0.9010749148237347,
          0.9010749148237347,
          0
         ],
         "xaxis": "x",
         "y": [
          -1705,
          -1705,
          -1715,
          -1715
         ],
         "yaxis": "y"
        },
        {
         "hoverinfo": "text",
         "marker": {
          "color": "rgb(61,153,112)"
         },
         "mode": "lines",
         "text": [
          "method_class_methods_object_void",
          "",
          "",
          "code_sample_gesture_example_raw"
         ],
         "type": "scatter",
         "x": [
          0,
          0.8746788096271187,
          0.8746788096271187,
          0
         ],
         "xaxis": "x",
         "y": [
          -1725,
          -1725,
          -1735,
          -1735
         ],
         "yaxis": "y"
        },
        {
         "hoverinfo": "text",
         "marker": {
          "color": "rgb(61,153,112)"
         },
         "mode": "lines",
         "text": [
          "xp_jargon_elsewhere_windows_entry",
          "",
          "",
          "method_class_methods_object_code"
         ],
         "type": "scatter",
         "x": [
          0.9010749148237347,
          0.9595230851027814,
          0.9595230851027814,
          0.8746788096271187
         ],
         "xaxis": "x",
         "y": [
          -1710,
          -1710,
          -1730,
          -1730
         ],
         "yaxis": "y"
        },
        {
         "hoverinfo": "text",
         "marker": {
          "color": "rgb(255,65,54)"
         },
         "mode": "lines",
         "text": [
          "html_jfax_hob_mobileinsights_known",
          "",
          "",
          "div_font_html_nbsp_td"
         ],
         "type": "scatter",
         "x": [
          0,
          0.8134211055825488,
          0.8134211055825488,
          0
         ],
         "xaxis": "x",
         "y": [
          -1745,
          -1745,
          -1755,
          -1755
         ],
         "yaxis": "y"
        },
        {
         "hoverinfo": "text",
         "marker": {
          "color": "rgb(0,116,217)"
         },
         "mode": "lines",
         "text": [
          "xp_method_class_methods_object",
          "",
          "",
          "html_div_font_nbsp_br"
         ],
         "type": "scatter",
         "x": [
          0.9595230851027814,
          1.034294584980522,
          1.034294584980522,
          0.8134211055825488
         ],
         "xaxis": "x",
         "y": [
          -1720,
          -1720,
          -1750,
          -1750
         ],
         "yaxis": "y"
        },
        {
         "hoverinfo": "text",
         "marker": {
          "color": "rgb(0,116,217)"
         },
         "mode": "lines",
         "text": [
          "people_000_jokes_who_friends",
          "",
          "",
          "xp_method_class_methods_html"
         ],
         "type": "scatter",
         "x": [
          0.9605380023510395,
          1.0851085078165255,
          1.0851085078165255,
          1.034294584980522
         ],
         "xaxis": "x",
         "y": [
          -1683.75,
          -1683.75,
          -1735,
          -1735
         ],
         "yaxis": "y"
        },
        {
         "hoverinfo": "text",
         "marker": {
          "color": "rgb(0,116,217)"
         },
         "mode": "lines",
         "text": [
          "2002_feedback_clickz_thecounter_archives",
          "",
          "",
          "xp_method_people_000_methods"
         ],
         "type": "scatter",
         "x": [
          1.0163759306470768,
          1.1148671894390296,
          1.1148671894390296,
          1.0851085078165255
         ],
         "xaxis": "x",
         "y": [
          -1620,
          -1620,
          -1709.375,
          -1709.375
         ],
         "yaxis": "y"
        },
        {
         "hoverinfo": "text",
         "marker": {
          "color": "rgb(35,205,205)"
         },
         "mode": "lines",
         "text": [
          "invite_invitations_invitation_invites_invitees",
          "",
          "",
          "calendar_outlook_meeting_calendars_invitation"
         ],
         "type": "scatter",
         "x": [
          0,
          0.8344978948140982,
          0.8344978948140982,
          0
         ],
         "xaxis": "x",
         "y": [
          -1765,
          -1765,
          -1775,
          -1775
         ],
         "yaxis": "y"
        },
        {
         "hoverinfo": "text",
         "marker": {
          "color": "rgb(61,153,112)"
         },
         "mode": "lines",
         "text": [
          "pop3_outlook_pop_access_imap",
          "",
          "",
          "lotus_thinairapps_notes_pim_exchange"
         ],
         "type": "scatter",
         "x": [
          0,
          0.8319617289455585,
          0.8319617289455585,
          0
         ],
         "xaxis": "x",
         "y": [
          -1785,
          -1785,
          -1795,
          -1795
         ],
         "yaxis": "y"
        },
        {
         "hoverinfo": "text",
         "marker": {
          "color": "rgb(0,116,217)"
         },
         "mode": "lines",
         "text": [
          "invite_invitations_invitation_calendar_invites",
          "",
          "",
          "lotus_thinairapps_outlook_access_pop3"
         ],
         "type": "scatter",
         "x": [
          0.8344978948140982,
          1.0027822866045804,
          1.0027822866045804,
          0.8319617289455585
         ],
         "xaxis": "x",
         "y": [
          -1770,
          -1770,
          -1790,
          -1790
         ],
         "yaxis": "y"
        },
        {
         "hoverinfo": "text",
         "marker": {
          "color": "rgb(0,116,217)"
         },
         "mode": "lines",
         "text": [
          "2002_xp_feedback_clickz_thecounter",
          "",
          "",
          "invite_invitations_invitation_calendar_invites"
         ],
         "type": "scatter",
         "x": [
          1.1148671894390296,
          1.1320948440605236,
          1.1320948440605236,
          1.0027822866045804
         ],
         "xaxis": "x",
         "y": [
          -1664.6875,
          -1664.6875,
          -1780,
          -1780
         ],
         "yaxis": "y"
        },
        {
         "hoverinfo": "text",
         "marker": {
          "color": "rgb(0,116,217)"
         },
         "mode": "lines",
         "text": [
          "content_attachment_base64_disposition_virus",
          "",
          "",
          "2002_xp_feedback_clickz_thecounter"
         ],
         "type": "scatter",
         "x": [
          0.9255779507044847,
          1.1504301565280923,
          1.1504301565280923,
          1.1320948440605236
         ],
         "xaxis": "x",
         "y": [
          -1562.5,
          -1562.5,
          -1722.34375,
          -1722.34375
         ],
         "yaxis": "y"
        },
        {
         "hoverinfo": "text",
         "marker": {
          "color": "rgb(255,65,54)"
         },
         "mode": "lines",
         "text": [
          "pricing_price_cost_budget_finance",
          "",
          "",
          "price_dvd_95_save_info"
         ],
         "type": "scatter",
         "x": [
          0,
          0.7966172295706203,
          0.7966172295706203,
          0
         ],
         "xaxis": "x",
         "y": [
          -1805,
          -1805,
          -1815,
          -1815
         ],
         "yaxis": "y"
        },
        {
         "hoverinfo": "text",
         "marker": {
          "color": "rgb(255,65,54)"
         },
         "mode": "lines",
         "text": [
          "price_pricing_95_dvd_prices",
          "",
          "",
          "cd_cds_kmt_burn_rom"
         ],
         "type": "scatter",
         "x": [
          0.7966172295706203,
          0.9053192808624646,
          0.9053192808624646,
          0
         ],
         "xaxis": "x",
         "y": [
          -1810,
          -1810,
          -1825,
          -1825
         ],
         "yaxis": "y"
        },
        {
         "hoverinfo": "text",
         "marker": {
          "color": "rgb(35,205,205)"
         },
         "mode": "lines",
         "text": [
          "music_mp3_greeting_song_greetings",
          "",
          "",
          "card_cards_greeting_gift_greetings"
         ],
         "type": "scatter",
         "x": [
          0,
          0.7210097202927795,
          0.7210097202927795,
          0
         ],
         "xaxis": "x",
         "y": [
          -1835,
          -1835,
          -1845,
          -1845
         ],
         "yaxis": "y"
        },
        {
         "hoverinfo": "text",
         "marker": {
          "color": "rgb(0,116,217)"
         },
         "mode": "lines",
         "text": [
          "price_pricing_cd_95_dvd",
          "",
          "",
          "greeting_music_card_mp3_cards"
         ],
         "type": "scatter",
         "x": [
          0.9053192808624646,
          1.0668108930606466,
          1.0668108930606466,
          0.7210097202927795
         ],
         "xaxis": "x",
         "y": [
          -1817.5,
          -1817.5,
          -1840,
          -1840
         ],
         "yaxis": "y"
        },
        {
         "hoverinfo": "text",
         "marker": {
          "color": "rgb(0,116,217)"
         },
         "mode": "lines",
         "text": [
          "content_attachment_2002_base64_disposition",
          "",
          "",
          "greeting_music_card_mp3_price"
         ],
         "type": "scatter",
         "x": [
          1.1504301565280923,
          1.1599465978672145,
          1.1599465978672145,
          1.0668108930606466
         ],
         "xaxis": "x",
         "y": [
          -1642.421875,
          -1642.421875,
          -1828.75,
          -1828.75
         ],
         "yaxis": "y"
        },
        {
         "hoverinfo": "text",
         "marker": {
          "color": "rgb(133,20,75)"
         },
         "mode": "lines",
         "text": [
          "xml_spy_feed_dtd_soap",
          "",
          "",
          "exec_edt_art_aug_xml"
         ],
         "type": "scatter",
         "x": [
          0,
          0.7604537043721891,
          0.7604537043721891,
          0
         ],
         "xaxis": "x",
         "y": [
          -1855,
          -1855,
          -1865,
          -1865
         ],
         "yaxis": "y"
        },
        {
         "hoverinfo": "text",
         "marker": {
          "color": "rgb(255,220,0)"
         },
         "mode": "lines",
         "text": [
          "original_2001_pm_subject_tuesday",
          "",
          "",
          "mime_klg_mimeole_mailer_jun"
         ],
         "type": "scatter",
         "x": [
          0,
          0.7921832094368068,
          0.7921832094368068,
          0
         ],
         "xaxis": "x",
         "y": [
          -1875,
          -1875,
          -1885,
          -1885
         ],
         "yaxis": "y"
        },
        {
         "hoverinfo": "text",
         "marker": {
          "color": "rgb(255,220,0)"
         },
         "mode": "lines",
         "text": [
          "mime_klg_mimeole_mailer_jun",
          "",
          "",
          "synchronizing_36_23_folder_offline"
         ],
         "type": "scatter",
         "x": [
          0.7921832094368068,
          0.9712035178738183,
          0.9712035178738183,
          0
         ],
         "xaxis": "x",
         "y": [
          -1880,
          -1880,
          -1895,
          -1895
         ],
         "yaxis": "y"
        },
        {
         "hoverinfo": "text",
         "marker": {
          "color": "rgb(0,116,217)"
         },
         "mode": "lines",
         "text": [
          "xml_exec_edt_art_aug",
          "",
          "",
          "mime_klg_mimeole_mailer_jun"
         ],
         "type": "scatter",
         "x": [
          0.7604537043721891,
          1.0416533908219996,
          1.0416533908219996,
          0.9712035178738183
         ],
         "xaxis": "x",
         "y": [
          -1860,
          -1860,
          -1887.5,
          -1887.5
         ],
         "yaxis": "y"
        },
        {
         "hoverinfo": "text",
         "marker": {
          "color": "rgb(0,116,217)"
         },
         "mode": "lines",
         "text": [
          "content_attachment_2002_greeting_card",
          "",
          "",
          "xml_2001_edt_exec_aug"
         ],
         "type": "scatter",
         "x": [
          1.1599465978672145,
          1.1952674825297234,
          1.1952674825297234,
          1.0416533908219996
         ],
         "xaxis": "x",
         "y": [
          -1735.5859375,
          -1735.5859375,
          -1873.75,
          -1873.75
         ],
         "yaxis": "y"
        },
        {
         "hoverinfo": "text",
         "marker": {
          "color": "rgb(0,116,217)"
         },
         "mode": "lines",
         "text": [
          "pictures_photos_picture_photo_pics",
          "",
          "",
          "content_attachment_2002_encoding_xml"
         ],
         "type": "scatter",
         "x": [
          0.5861061431742587,
          1.2134839658712766,
          1.2134839658712766,
          1.1952674825297234
         ],
         "xaxis": "x",
         "y": [
          -1540,
          -1540,
          -1804.66796875,
          -1804.66796875
         ],
         "yaxis": "y"
        },
        {
         "hoverinfo": "text",
         "marker": {
          "color": "rgb(40,35,35)"
         },
         "mode": "lines",
         "text": [
          "number_should_what_rings_numbers",
          "",
          "",
          "unconscious_called_waterfall_what_diamond"
         ],
         "type": "scatter",
         "x": [
          0,
          0.8854572937297795,
          0.8854572937297795,
          0
         ],
         "xaxis": "x",
         "y": [
          -1915,
          -1915,
          -1925,
          -1925
         ],
         "yaxis": "y"
        },
        {
         "hoverinfo": "text",
         "marker": {
          "color": "rgb(0,116,217)"
         },
         "mode": "lines",
         "text": [
          "help4u_wcom_should_questions_any",
          "",
          "",
          "number_what_should_called_unconscious"
         ],
         "type": "scatter",
         "x": [
          0,
          1.0007128294506473,
          1.0007128294506473,
          0.8854572937297795
         ],
         "xaxis": "x",
         "y": [
          -1905,
          -1905,
          -1920,
          -1920
         ],
         "yaxis": "y"
        },
        {
         "hoverinfo": "text",
         "marker": {
          "color": "rgb(61,153,112)"
         },
         "mode": "lines",
         "text": [
          "office_desk_my_call_am",
          "",
          "",
          "so_ayec_playanet_if_personally"
         ],
         "type": "scatter",
         "x": [
          0,
          0.8475604351386847,
          0.8475604351386847,
          0
         ],
         "xaxis": "x",
         "y": [
          -1945,
          -1945,
          -1955,
          -1955
         ],
         "yaxis": "y"
        },
        {
         "hoverinfo": "text",
         "marker": {
          "color": "rgb(61,153,112)"
         },
         "mode": "lines",
         "text": [
          "office_desk_so_call_me",
          "",
          "",
          "lunch_dinner_food_restaurant_catering"
         ],
         "type": "scatter",
         "x": [
          0.8475604351386847,
          0.9099506151417253,
          0.9099506151417253,
          0
         ],
         "xaxis": "x",
         "y": [
          -1950,
          -1950,
          -1965,
          -1965
         ],
         "yaxis": "y"
        },
        {
         "hoverinfo": "text",
         "marker": {
          "color": "rgb(61,153,112)"
         },
         "mode": "lines",
         "text": [
          "initiate_calls_appreciate_make_lobbing",
          "",
          "",
          "office_lunch_dinner_food_restaurant"
         ],
         "type": "scatter",
         "x": [
          0,
          0.936902627286298,
          0.936902627286298,
          0.9099506151417253
         ],
         "xaxis": "x",
         "y": [
          -1935,
          -1935,
          -1957.5,
          -1957.5
         ],
         "yaxis": "y"
        },
        {
         "hoverinfo": "text",
         "marker": {
          "color": "rgb(61,153,112)"
         },
         "mode": "lines",
         "text": [
          "office_lunch_dinner_food_restaurant",
          "",
          "",
          "book_bookpool_books_02568_faire"
         ],
         "type": "scatter",
         "x": [
          0.936902627286298,
          0.970027738628069,
          0.970027738628069,
          0
         ],
         "xaxis": "x",
         "y": [
          -1946.25,
          -1946.25,
          -1975,
          -1975
         ],
         "yaxis": "y"
        },
        {
         "hoverinfo": "text",
         "marker": {
          "color": "rgb(0,116,217)"
         },
         "mode": "lines",
         "text": [
          "help4u_wcom_should_number_what",
          "",
          "",
          "office_lunch_dinner_book_food"
         ],
         "type": "scatter",
         "x": [
          1.0007128294506473,
          1.0334604886215872,
          1.0334604886215872,
          0.970027738628069
         ],
         "xaxis": "x",
         "y": [
          -1912.5,
          -1912.5,
          -1960.625,
          -1960.625
         ],
         "yaxis": "y"
        },
        {
         "hoverinfo": "text",
         "marker": {
          "color": "rgb(255,65,54)"
         },
         "mode": "lines",
         "text": [
          "ups_shipment_8900_package_emotion",
          "",
          "",
          "fedex_tracking_ups_packages_receipt"
         ],
         "type": "scatter",
         "x": [
          0,
          0.8668535829253693,
          0.8668535829253693,
          0
         ],
         "xaxis": "x",
         "y": [
          -1985,
          -1985,
          -1995,
          -1995
         ],
         "yaxis": "y"
        },
        {
         "hoverinfo": "text",
         "marker": {
          "color": "rgb(0,116,217)"
         },
         "mode": "lines",
         "text": [
          "office_lunch_help4u_wcom_dinner",
          "",
          "",
          "fedex_ups_tracking_shipment_package"
         ],
         "type": "scatter",
         "x": [
          1.0334604886215872,
          1.0753040748218927,
          1.0753040748218927,
          0.8668535829253693
         ],
         "xaxis": "x",
         "y": [
          -1936.5625,
          -1936.5625,
          -1990,
          -1990
         ],
         "yaxis": "y"
        },
        {
         "hoverinfo": "text",
         "marker": {
          "color": "rgb(35,205,205)"
         },
         "mode": "lines",
         "text": [
          "check_cheque_checks_mailed_expense",
          "",
          "",
          "payment_credit_84130_outstation_reprocess"
         ],
         "type": "scatter",
         "x": [
          0,
          0.8442484750454801,
          0.8442484750454801,
          0
         ],
         "xaxis": "x",
         "y": [
          -2005,
          -2005,
          -2015,
          -2015
         ],
         "yaxis": "y"
        },
        {
         "hoverinfo": "text",
         "marker": {
          "color": "rgb(35,205,205)"
         },
         "mode": "lines",
         "text": [
          "check_cheque_payment_checks_cheques",
          "",
          "",
          "invoice_invoices_payment_outstanding_10200"
         ],
         "type": "scatter",
         "x": [
          0.8442484750454801,
          0.8798019206899975,
          0.8798019206899975,
          0
         ],
         "xaxis": "x",
         "y": [
          -2010,
          -2010,
          -2025,
          -2025
         ],
         "yaxis": "y"
        },
        {
         "hoverinfo": "text",
         "marker": {
          "color": "rgb(0,116,217)"
         },
         "mode": "lines",
         "text": [
          "fedex_office_lunch_help4u_wcom",
          "",
          "",
          "invoice_check_payment_invoices_cheque"
         ],
         "type": "scatter",
         "x": [
          1.0753040748218927,
          1.0880334936318785,
          1.0880334936318785,
          0.8798019206899975
         ],
         "xaxis": "x",
         "y": [
          -1963.28125,
          -1963.28125,
          -2017.5,
          -2017.5
         ],
         "yaxis": "y"
        },
        {
         "hoverinfo": "text",
         "marker": {
          "color": "rgb(61,153,112)"
         },
         "mode": "lines",
         "text": [
          "form_forms_fill_pto_filled",
          "",
          "",
          "selectedindex_form_value_options_dform"
         ],
         "type": "scatter",
         "x": [
          0,
          0.7970366804141292,
          0.7970366804141292,
          0
         ],
         "xaxis": "x",
         "y": [
          -2035,
          -2035,
          -2045,
          -2045
         ],
         "yaxis": "y"
        },
        {
         "hoverinfo": "text",
         "marker": {
          "color": "rgb(0,116,217)"
         },
         "mode": "lines",
         "text": [
          "fedex_invoice_office_lunch_check",
          "",
          "",
          "form_selectedindex_value_options_dform"
         ],
         "type": "scatter",
         "x": [
          1.0880334936318785,
          1.1183903116904803,
          1.1183903116904803,
          0.7970366804141292
         ],
         "xaxis": "x",
         "y": [
          -1990.390625,
          -1990.390625,
          -2040,
          -2040
         ],
         "yaxis": "y"
        },
        {
         "hoverinfo": "text",
         "marker": {
          "color": "rgb(255,65,54)"
         },
         "mode": "lines",
         "text": [
          "conditions_pharmaprofessionalcall_tc_totoal_failed",
          "",
          "",
          "new_add_account_insert_followup"
         ],
         "type": "scatter",
         "x": [
          0,
          0.8410754366628352,
          0.8410754366628352,
          0
         ],
         "xaxis": "x",
         "y": [
          -2055,
          -2055,
          -2065,
          -2065
         ],
         "yaxis": "y"
        },
        {
         "hoverinfo": "text",
         "marker": {
          "color": "rgb(35,205,205)"
         },
         "mode": "lines",
         "text": [
          "spreadsheet_timesheet_excel_sheet_reporting",
          "",
          "",
          "forecast_forecasts_forecasted_nav_excel"
         ],
         "type": "scatter",
         "x": [
          0,
          0.8653119102783341,
          0.8653119102783341,
          0
         ],
         "xaxis": "x",
         "y": [
          -2075,
          -2075,
          -2085,
          -2085
         ],
         "yaxis": "y"
        },
        {
         "hoverinfo": "text",
         "marker": {
          "color": "rgb(133,20,75)"
         },
         "mode": "lines",
         "text": [
          "channelwave_channel_0355_995_617",
          "",
          "",
          "accounts_contacts_duplicate_account_imported"
         ],
         "type": "scatter",
         "x": [
          0,
          0.8568507260592041,
          0.8568507260592041,
          0
         ],
         "xaxis": "x",
         "y": [
          -2095,
          -2095,
          -2105,
          -2105
         ],
         "yaxis": "y"
        },
        {
         "hoverinfo": "text",
         "marker": {
          "color": "rgb(133,20,75)"
         },
         "mode": "lines",
         "text": [
          "channelwave_accounts_channel_0355_995",
          "",
          "",
          "omnisky_5767_casio_860_125"
         ],
         "type": "scatter",
         "x": [
          0.8568507260592041,
          0.9808575495933337,
          0.9808575495933337,
          0
         ],
         "xaxis": "x",
         "y": [
          -2100,
          -2100,
          -2115,
          -2115
         ],
         "yaxis": "y"
        },
        {
         "hoverinfo": "text",
         "marker": {
          "color": "rgb(0,116,217)"
         },
         "mode": "lines",
         "text": [
          "spreadsheet_excel_timesheet_sheet_forecast",
          "",
          "",
          "channelwave_omnisky_accounts_channel_0355"
         ],
         "type": "scatter",
         "x": [
          0.8653119102783341,
          1.0254935181646783,
          1.0254935181646783,
          0.9808575495933337
         ],
         "xaxis": "x",
         "y": [
          -2080,
          -2080,
          -2107.5,
          -2107.5
         ],
         "yaxis": "y"
        },
        {
         "hoverinfo": "text",
         "marker": {
          "color": "rgb(0,116,217)"
         },
         "mode": "lines",
         "text": [
          "conditions_pharmaprofessionalcall_tc_totoal_failed",
          "",
          "",
          "channelwave_spreadsheet_excel_omnisky_timesheet"
         ],
         "type": "scatter",
         "x": [
          0.8410754366628352,
          1.0524940607853792,
          1.0524940607853792,
          1.0254935181646783
         ],
         "xaxis": "x",
         "y": [
          -2060,
          -2060,
          -2093.75,
          -2093.75
         ],
         "yaxis": "y"
        },
        {
         "hoverinfo": "text",
         "marker": {
          "color": "rgb(255,220,0)"
         },
         "mode": "lines",
         "text": [
          "password_username_passwords_login_cybersure",
          "",
          "",
          "webex_password_webexid_support_meeting"
         ],
         "type": "scatter",
         "x": [
          0,
          0.8631506395043507,
          0.8631506395043507,
          0
         ],
         "xaxis": "x",
         "y": [
          -2135,
          -2135,
          -2145,
          -2145
         ],
         "yaxis": "y"
        },
        {
         "hoverinfo": "text",
         "marker": {
          "color": "rgb(255,220,0)"
         },
         "mode": "lines",
         "text": [
          "vpn_1472__972939405_vpns_access",
          "",
          "",
          "password_webex_username_login_passwords"
         ],
         "type": "scatter",
         "x": [
          0,
          0.9630208762835992,
          0.9630208762835992,
          0.8631506395043507
         ],
         "xaxis": "x",
         "y": [
          -2125,
          -2125,
          -2140,
          -2140
         ],
         "yaxis": "y"
        },
        {
         "hoverinfo": "text",
         "marker": {
          "color": "rgb(40,35,35)"
         },
         "mode": "lines",
         "text": [
          "intel_intellor_pumatech_intellisync_program_members",
          "",
          "",
          "alaska_airlines_air_alaskaair_upshot"
         ],
         "type": "scatter",
         "x": [
          0,
          0.9463983887485286,
          0.9463983887485286,
          0
         ],
         "xaxis": "x",
         "y": [
          -2155,
          -2155,
          -2165,
          -2165
         ],
         "yaxis": "y"
        },
        {
         "hoverinfo": "text",
         "marker": {
          "color": "rgb(40,35,35)"
         },
         "mode": "lines",
         "text": [
          "interview_interviews_interviewer_deletions_her",
          "",
          "",
          "approval_shoot_approve_mantram_committments"
         ],
         "type": "scatter",
         "x": [
          0,
          0.9218614382285026,
          0.9218614382285026,
          0
         ],
         "xaxis": "x",
         "y": [
          -2175,
          -2175,
          -2185,
          -2185
         ],
         "yaxis": "y"
        },
        {
         "hoverinfo": "text",
         "marker": {
          "color": "rgb(40,35,35)"
         },
         "mode": "lines",
         "text": [
          "intel_alaska_airlines_intellor_pumatech",
          "",
          "",
          "interview_approval_interviews_interviewer_deletions"
         ],
         "type": "scatter",
         "x": [
          0.9463983887485286,
          0.9781846049417038,
          0.9781846049417038,
          0.9218614382285026
         ],
         "xaxis": "x",
         "y": [
          -2160,
          -2160,
          -2180,
          -2180
         ],
         "yaxis": "y"
        },
        {
         "hoverinfo": "text",
         "marker": {
          "color": "rgb(61,153,112)"
         },
         "mode": "lines",
         "text": [
          "hosting_referencing_ticket_level_concerns",
          "",
          "",
          "europe_european_4437773_sistemas_170"
         ],
         "type": "scatter",
         "x": [
          0,
          0.9307471532034121,
          0.9307471532034121,
          0
         ],
         "xaxis": "x",
         "y": [
          -2195,
          -2195,
          -2205,
          -2205
         ],
         "yaxis": "y"
        },
        {
         "hoverinfo": "text",
         "marker": {
          "color": "rgb(61,153,112)"
         },
         "mode": "lines",
         "text": [
          "analysts_analyst_iap_advise_press",
          "",
          "",
          "usps_locator_deployment_202_ip"
         ],
         "type": "scatter",
         "x": [
          0,
          0.9490452226296062,
          0.9490452226296062,
          0
         ],
         "xaxis": "x",
         "y": [
          -2215,
          -2215,
          -2225,
          -2225
         ],
         "yaxis": "y"
        },
        {
         "hoverinfo": "text",
         "marker": {
          "color": "rgb(61,153,112)"
         },
         "mode": "lines",
         "text": [
          "usps_analysts_analyst_iap_locator",
          "",
          "",
          "ctia_memberservices_strawman_2289_pptf"
         ],
         "type": "scatter",
         "x": [
          0.9490452226296062,
          0.9664947092595957,
          0.9664947092595957,
          0
         ],
         "xaxis": "x",
         "y": [
          -2220,
          -2220,
          -2235,
          -2235
         ],
         "yaxis": "y"
        },
        {
         "hoverinfo": "text",
         "marker": {
          "color": "rgb(61,153,112)"
         },
         "mode": "lines",
         "text": [
          "europe_hosting_european_sistemas_4437773",
          "",
          "",
          "ctia_usps_analysts_analyst_202"
         ],
         "type": "scatter",
         "x": [
          0.9307471532034121,
          0.9802404380479403,
          0.9802404380479403,
          0.9664947092595957
         ],
         "xaxis": "x",
         "y": [
          -2200,
          -2200,
          -2227.5,
          -2227.5
         ],
         "yaxis": "y"
        },
        {
         "hoverinfo": "text",
         "marker": {
          "color": "rgb(255,65,54)"
         },
         "mode": "lines",
         "text": [
          "ibm_audium_db2_websphere_developer",
          "",
          "",
          "survey_surveys_healthcare_736_responsible"
         ],
         "type": "scatter",
         "x": [
          0,
          0.9537485296168519,
          0.9537485296168519,
          0
         ],
         "xaxis": "x",
         "y": [
          -2245,
          -2245,
          -2255,
          -2255
         ],
         "yaxis": "y"
        },
        {
         "hoverinfo": "text",
         "marker": {
          "color": "rgb(255,65,54)"
         },
         "mode": "lines",
         "text": [
          "survey_ibm_audium_surveys_db2",
          "",
          "",
          "alumni_stanford_gsb_edu_ron_silverton"
         ],
         "type": "scatter",
         "x": [
          0.9537485296168519,
          0.9730354171480661,
          0.9730354171480661,
          0
         ],
         "xaxis": "x",
         "y": [
          -2250,
          -2250,
          -2265,
          -2265
         ],
         "yaxis": "y"
        },
        {
         "hoverinfo": "text",
         "marker": {
          "color": "rgb(255,65,54)"
         },
         "mode": "lines",
         "text": [
          "survey_ibm_alumni_stanford_gsb",
          "",
          "",
          "983_san_415_francisco_94105"
         ],
         "type": "scatter",
         "x": [
          0.9730354171480661,
          0.989929790438781,
          0.989929790438781,
          0
         ],
         "xaxis": "x",
         "y": [
          -2257.5,
          -2257.5,
          -2275,
          -2275
         ],
         "yaxis": "y"
        },
        {
         "hoverinfo": "text",
         "marker": {
          "color": "rgb(0,116,217)"
         },
         "mode": "lines",
         "text": [
          "ctia_hosting_europe_usps_analysts",
          "",
          "",
          "survey_ibm_alumni_stanford_gsb"
         ],
         "type": "scatter",
         "x": [
          0.9802404380479403,
          1.0024546560843035,
          1.0024546560843035,
          0.989929790438781
         ],
         "xaxis": "x",
         "y": [
          -2213.75,
          -2213.75,
          -2266.25,
          -2266.25
         ],
         "yaxis": "y"
        },
        {
         "hoverinfo": "text",
         "marker": {
          "color": "rgb(0,116,217)"
         },
         "mode": "lines",
         "text": [
          "interview_intel_alaska_airlines_approval",
          "",
          "",
          "survey_ibm_alumni_stanford_ctia"
         ],
         "type": "scatter",
         "x": [
          0.9781846049417038,
          1.0244449882783675,
          1.0244449882783675,
          1.0024546560843035
         ],
         "xaxis": "x",
         "y": [
          -2170,
          -2170,
          -2240,
          -2240
         ],
         "yaxis": "y"
        },
        {
         "hoverinfo": "text",
         "marker": {
          "color": "rgb(35,205,205)"
         },
         "mode": "lines",
         "text": [
          "license_licensing_licenses_key_rational",
          "",
          "",
          "weblogic_bea_shutdown_ejb_server"
         ],
         "type": "scatter",
         "x": [
          0,
          0.9109303990701296,
          0.9109303990701296,
          0
         ],
         "xaxis": "x",
         "y": [
          -2295,
          -2295,
          -2305,
          -2305
         ],
         "yaxis": "y"
        },
        {
         "hoverinfo": "text",
         "marker": {
          "color": "rgb(35,205,205)"
         },
         "mode": "lines",
         "text": [
          "gardener_fees_taxes_7702_839",
          "",
          "",
          "license_weblogic_bea_licensing_licenses"
         ],
         "type": "scatter",
         "x": [
          0,
          0.9743723366787512,
          0.9743723366787512,
          0.9109303990701296
         ],
         "xaxis": "x",
         "y": [
          -2285,
          -2285,
          -2300,
          -2300
         ],
         "yaxis": "y"
        },
        {
         "hoverinfo": "text",
         "marker": {
          "color": "rgb(35,205,205)"
         },
         "mode": "lines",
         "text": [
          "license_weblogic_bea_licensing_licenses",
          "",
          "",
          "netscape_install_putty_config_path_compatability"
         ],
         "type": "scatter",
         "x": [
          0.9743723366787512,
          0.9895758594103811,
          0.9895758594103811,
          0
         ],
         "xaxis": "x",
         "y": [
          -2292.5,
          -2292.5,
          -2315,
          -2315
         ],
         "yaxis": "y"
        },
        {
         "hoverinfo": "text",
         "marker": {
          "color": "rgb(0,116,217)"
         },
         "mode": "lines",
         "text": [
          "survey_ibm_interview_intel_alumni",
          "",
          "",
          "license_weblogic_netscape_bea_licensing"
         ],
         "type": "scatter",
         "x": [
          1.0244449882783675,
          1.0350115870242382,
          1.0350115870242382,
          0.9895758594103811
         ],
         "xaxis": "x",
         "y": [
          -2205,
          -2205,
          -2303.75,
          -2303.75
         ],
         "yaxis": "y"
        },
        {
         "hoverinfo": "text",
         "marker": {
          "color": "rgb(0,116,217)"
         },
         "mode": "lines",
         "text": [
          "password_webex_vpn_username_login",
          "",
          "",
          "license_survey_weblogic_ibm_interview"
         ],
         "type": "scatter",
         "x": [
          0.9630208762835992,
          1.064153543202178,
          1.064153543202178,
          1.0350115870242382
         ],
         "xaxis": "x",
         "y": [
          -2132.5,
          -2132.5,
          -2254.375,
          -2254.375
         ],
         "yaxis": "y"
        },
        {
         "hoverinfo": "text",
         "marker": {
          "color": "rgb(61,153,112)"
         },
         "mode": "lines",
         "text": [
          "shailesh_md5sum_readme_ashish_baxish",
          "",
          "",
          "agenda_bombard_detailed_conflicting_looked"
         ],
         "type": "scatter",
         "x": [
          0,
          0.9619089800156243,
          0.9619089800156243,
          0
         ],
         "xaxis": "x",
         "y": [
          -2335,
          -2335,
          -2345,
          -2345
         ],
         "yaxis": "y"
        },
        {
         "hoverinfo": "text",
         "marker": {
          "color": "rgb(61,153,112)"
         },
         "mode": "lines",
         "text": [
          "arun_4212_257_arunlekha_8173",
          "",
          "",
          "agenda_shailesh_bombard_detailed_conflicting"
         ],
         "type": "scatter",
         "x": [
          0,
          0.9852542399914749,
          0.9852542399914749,
          0.9619089800156243
         ],
         "xaxis": "x",
         "y": [
          -2325,
          -2325,
          -2340,
          -2340
         ],
         "yaxis": "y"
        },
        {
         "hoverinfo": "text",
         "marker": {
          "color": "rgb(255,65,54)"
         },
         "mode": "lines",
         "text": [
          "pda_consistency_identical_usability_displaying",
          "",
          "",
          "roopak_tbd_jaigak_proxy_postfields"
         ],
         "type": "scatter",
         "x": [
          0,
          0.9359617708261445,
          0.9359617708261445,
          0
         ],
         "xaxis": "x",
         "y": [
          -2355,
          -2355,
          -2365,
          -2365
         ],
         "yaxis": "y"
        },
        {
         "hoverinfo": "text",
         "marker": {
          "color": "rgb(0,116,217)"
         },
         "mode": "lines",
         "text": [
          "arun_agenda_shailesh_4212_bombard",
          "",
          "",
          "roopak_pda_consistency_identical_usability"
         ],
         "type": "scatter",
         "x": [
          0.9852542399914749,
          1.0070717202254182,
          1.0070717202254182,
          0.9359617708261445
         ],
         "xaxis": "x",
         "y": [
          -2332.5,
          -2332.5,
          -2360,
          -2360
         ],
         "yaxis": "y"
        },
        {
         "hoverinfo": "text",
         "marker": {
          "color": "rgb(35,205,205)"
         },
         "mode": "lines",
         "text": [
          "visio_lower_version_mabye_screens",
          "",
          "",
          "resend_paragraph_it_cud_exsiting"
         ],
         "type": "scatter",
         "x": [
          0,
          0.9303270844715379,
          0.9303270844715379,
          0
         ],
         "xaxis": "x",
         "y": [
          -2375,
          -2375,
          -2385,
          -2385
         ],
         "yaxis": "y"
        },
        {
         "hoverinfo": "text",
         "marker": {
          "color": "rgb(0,116,217)"
         },
         "mode": "lines",
         "text": [
          "arun_agenda_roopak_pda_shailesh",
          "",
          "",
          "visio_resend_lower_version_mabye"
         ],
         "type": "scatter",
         "x": [
          1.0070717202254182,
          1.034897257636644,
          1.034897257636644,
          0.9303270844715379
         ],
         "xaxis": "x",
         "y": [
          -2346.25,
          -2346.25,
          -2380,
          -2380
         ],
         "yaxis": "y"
        },
        {
         "hoverinfo": "text",
         "marker": {
          "color": "rgb(133,20,75)"
         },
         "mode": "lines",
         "text": [
          "dds_approval_final_uncompleted_d2040",
          "",
          "",
          "rim_dds_pager_rimulator_application"
         ],
         "type": "scatter",
         "x": [
          0,
          0.8372919137860566,
          0.8372919137860566,
          0
         ],
         "xaxis": "x",
         "y": [
          -2395,
          -2395,
          -2405,
          -2405
         ],
         "yaxis": "y"
        },
        {
         "hoverinfo": "text",
         "marker": {
          "color": "rgb(0,116,217)"
         },
         "mode": "lines",
         "text": [
          "arun_agenda_roopak_visio_resend",
          "",
          "",
          "rim_dds_pager_application_rimulator"
         ],
         "type": "scatter",
         "x": [
          1.034897257636644,
          1.049982598560841,
          1.049982598560841,
          0.8372919137860566
         ],
         "xaxis": "x",
         "y": [
          -2363.125,
          -2363.125,
          -2400,
          -2400
         ],
         "yaxis": "y"
        },
        {
         "hoverinfo": "text",
         "marker": {
          "color": "rgb(255,220,0)"
         },
         "mode": "lines",
         "text": [
          "logo_logos_eps_format_color",
          "",
          "",
          "icons_icon_gif_pixels_screen"
         ],
         "type": "scatter",
         "x": [
          0,
          0.8904719297515942,
          0.8904719297515942,
          0
         ],
         "xaxis": "x",
         "y": [
          -2415,
          -2415,
          -2425,
          -2425
         ],
         "yaxis": "y"
        },
        {
         "hoverinfo": "text",
         "marker": {
          "color": "rgb(255,220,0)"
         },
         "mode": "lines",
         "text": [
          "logo_logos_eps_icons_icon",
          "",
          "",
          "toshi_rishi_icon_bottom_comms"
         ],
         "type": "scatter",
         "x": [
          0.8904719297515942,
          0.974185183955011,
          0.974185183955011,
          0
         ],
         "xaxis": "x",
         "y": [
          -2420,
          -2420,
          -2435,
          -2435
         ],
         "yaxis": "y"
        },
        {
         "hoverinfo": "text",
         "marker": {
          "color": "rgb(0,116,217)"
         },
         "mode": "lines",
         "text": [
          "rim_arun_dds_agenda_roopak",
          "",
          "",
          "logo_toshi_logos_eps_icons"
         ],
         "type": "scatter",
         "x": [
          1.049982598560841,
          1.0610031010747052,
          1.0610031010747052,
          0.974185183955011
         ],
         "xaxis": "x",
         "y": [
          -2381.5625,
          -2381.5625,
          -2427.5,
          -2427.5
         ],
         "yaxis": "y"
        },
        {
         "hoverinfo": "text",
         "marker": {
          "color": "rgb(0,116,217)"
         },
         "mode": "lines",
         "text": [
          "password_webex_license_survey_weblogic",
          "",
          "",
          "rim_logo_arun_dds_agenda"
         ],
         "type": "scatter",
         "x": [
          1.064153543202178,
          1.0764417548048686,
          1.0764417548048686,
          1.0610031010747052
         ],
         "xaxis": "x",
         "y": [
          -2193.4375,
          -2193.4375,
          -2404.53125,
          -2404.53125
         ],
         "yaxis": "y"
        },
        {
         "hoverinfo": "text",
         "marker": {
          "color": "rgb(0,116,217)"
         },
         "mode": "lines",
         "text": [
          "channelwave_spreadsheet_excel_omnisky_conditions",
          "",
          "",
          "password_rim_webex_logo_license"
         ],
         "type": "scatter",
         "x": [
          1.0524940607853792,
          1.1001446561481476,
          1.1001446561481476,
          1.0764417548048686
         ],
         "xaxis": "x",
         "y": [
          -2076.875,
          -2076.875,
          -2298.984375,
          -2298.984375
         ],
         "yaxis": "y"
        },
        {
         "hoverinfo": "text",
         "marker": {
          "color": "rgb(0,116,217)"
         },
         "mode": "lines",
         "text": [
          "fedex_invoice_form_office_lunch",
          "",
          "",
          "password_rim_webex_logo_channelwave"
         ],
         "type": "scatter",
         "x": [
          1.1183903116904803,
          1.1305177359217005,
          1.1305177359217005,
          1.1001446561481476
         ],
         "xaxis": "x",
         "y": [
          -2015.1953125,
          -2015.1953125,
          -2187.9296875,
          -2187.9296875
         ],
         "yaxis": "y"
        },
        {
         "hoverinfo": "text",
         "marker": {
          "color": "rgb(40,35,35)"
         },
         "mode": "lines",
         "text": [
          "hotel_reservations_gate_reservation_marriott",
          "",
          "",
          "itinerary_travel_flight_ticket_airlines"
         ],
         "type": "scatter",
         "x": [
          0,
          0.8163367772961266,
          0.8163367772961266,
          0
         ],
         "xaxis": "x",
         "y": [
          -2455,
          -2455,
          -2465,
          -2465
         ],
         "yaxis": "y"
        },
        {
         "hoverinfo": "text",
         "marker": {
          "color": "rgb(40,35,35)"
         },
         "mode": "lines",
         "text": [
          "hotel_reservations_travel_reservation_itinerary",
          "",
          "",
          "lifeminders_spotlight_archived_friend_lifeminder"
         ],
         "type": "scatter",
         "x": [
          0.8163367772961266,
          0.8859664505324346,
          0.8859664505324346,
          0
         ],
         "xaxis": "x",
         "y": [
          -2460,
          -2460,
          -2475,
          -2475
         ],
         "yaxis": "y"
        },
        {
         "hoverinfo": "text",
         "marker": {
          "color": "rgb(40,35,35)"
         },
         "mode": "lines",
         "text": [
          "directions_place_pky_3296_mere",
          "",
          "",
          "lifeminders_hotel_travel_spotlight_reservations"
         ],
         "type": "scatter",
         "x": [
          0,
          0.9847362949352356,
          0.9847362949352356,
          0.8859664505324346
         ],
         "xaxis": "x",
         "y": [
          -2445,
          -2445,
          -2467.5,
          -2467.5
         ],
         "yaxis": "y"
        },
        {
         "hoverinfo": "text",
         "marker": {
          "color": "rgb(61,153,112)"
         },
         "mode": "lines",
         "text": [
          "tickets_50_sale_ticketmaster_8pm",
          "",
          "",
          "gap_brands_women_sale_jeans"
         ],
         "type": "scatter",
         "x": [
          0,
          0.9393896261421418,
          0.9393896261421418,
          0
         ],
         "xaxis": "x",
         "y": [
          -2485,
          -2485,
          -2495,
          -2495
         ],
         "yaxis": "y"
        },
        {
         "hoverinfo": "text",
         "marker": {
          "color": "rgb(61,153,112)"
         },
         "mode": "lines",
         "text": [
          "ebay_preferences_indicate_promotions_notification",
          "",
          "",
          "win_prize_winners_prizes_drawing"
         ],
         "type": "scatter",
         "x": [
          0,
          0.910314026861796,
          0.910314026861796,
          0
         ],
         "xaxis": "x",
         "y": [
          -2505,
          -2505,
          -2515,
          -2515
         ],
         "yaxis": "y"
        },
        {
         "hoverinfo": "text",
         "marker": {
          "color": "rgb(61,153,112)"
         },
         "mode": "lines",
         "text": [
          "tickets_sale_gap_50_ticketmaster",
          "",
          "",
          "ebay_preferences_indicate_promotions_notification"
         ],
         "type": "scatter",
         "x": [
          0.9393896261421418,
          0.9895144825440328,
          0.9895144825440328,
          0.910314026861796
         ],
         "xaxis": "x",
         "y": [
          -2490,
          -2490,
          -2510,
          -2510
         ],
         "yaxis": "y"
        },
        {
         "hoverinfo": "text",
         "marker": {
          "color": "rgb(255,65,54)"
         },
         "mode": "lines",
         "text": [
          "rsvp_boat_cruise_2001_guest_novell_33495",
          "",
          "",
          "sitraka_mobility_416_594_1026"
         ],
         "type": "scatter",
         "x": [
          0,
          0.9213340604723429,
          0.9213340604723429,
          0
         ],
         "xaxis": "x",
         "y": [
          -2535,
          -2535,
          -2545,
          -2545
         ],
         "yaxis": "y"
        },
        {
         "hoverinfo": "text",
         "marker": {
          "color": "rgb(255,65,54)"
         },
         "mode": "lines",
         "text": [
          "fitness_7348_967_novell_center",
          "",
          "",
          "sitraka_rsvp_mobility_416_594"
         ],
         "type": "scatter",
         "x": [
          0,
          0.9690936276233215,
          0.9690936276233215,
          0.9213340604723429
         ],
         "xaxis": "x",
         "y": [
          -2525,
          -2525,
          -2540,
          -2540
         ],
         "yaxis": "y"
        },
        {
         "hoverinfo": "text",
         "marker": {
          "color": "rgb(0,116,217)"
         },
         "mode": "lines",
         "text": [
          "tickets_ebay_sale_gap_50",
          "",
          "",
          "sitraka_fitness_rsvp_novell_7348"
         ],
         "type": "scatter",
         "x": [
          0.9895144825440328,
          1.06375506367686,
          1.06375506367686,
          0.9690936276233215
         ],
         "xaxis": "x",
         "y": [
          -2500,
          -2500,
          -2532.5,
          -2532.5
         ],
         "yaxis": "y"
        },
        {
         "hoverinfo": "text",
         "marker": {
          "color": "rgb(0,116,217)"
         },
         "mode": "lines",
         "text": [
          "lifeminders_hotel_travel_spotlight_reservations",
          "",
          "",
          "tickets_ebay_sale_sitraka_gap"
         ],
         "type": "scatter",
         "x": [
          0.9847362949352356,
          1.102275037866852,
          1.102275037866852,
          1.06375506367686
         ],
         "xaxis": "x",
         "y": [
          -2456.25,
          -2456.25,
          -2516.25,
          -2516.25
         ],
         "yaxis": "y"
        },
        {
         "hoverinfo": "text",
         "marker": {
          "color": "rgb(0,116,217)"
         },
         "mode": "lines",
         "text": [
          "password_rim_webex_logo_channelwave",
          "",
          "",
          "lifeminders_tickets_hotel_travel_spotlight"
         ],
         "type": "scatter",
         "x": [
          1.1305177359217005,
          1.145490125316356,
          1.145490125316356,
          1.102275037866852
         ],
         "xaxis": "x",
         "y": [
          -2101.5625,
          -2101.5625,
          -2486.25,
          -2486.25
         ],
         "yaxis": "y"
        },
        {
         "hoverinfo": "text",
         "marker": {
          "color": "rgb(0,116,217)"
         },
         "mode": "lines",
         "text": [
          "content_attachment_2002_encoding_xml",
          "",
          "",
          "lifeminders_password_rim_webex_logo"
         ],
         "type": "scatter",
         "x": [
          1.2134839658712766,
          1.2192616670447565,
          1.2192616670447565,
          1.145490125316356
         ],
         "xaxis": "x",
         "y": [
          -1672.333984375,
          -1672.333984375,
          -2293.90625,
          -2293.90625
         ],
         "yaxis": "y"
        },
        {
         "hoverinfo": "text",
         "marker": {
          "color": "rgb(0,116,217)"
         },
         "mode": "lines",
         "text": [
          "mailbox_con_javadevelopersjournal_32992900_sys",
          "",
          "",
          "content_attachment_2002_type_card"
         ],
         "type": "scatter",
         "x": [
          1.1144383508543205,
          1.2672308240111438,
          1.2672308240111438,
          1.2192616670447565
         ],
         "xaxis": "x",
         "y": [
          -1495,
          -1495,
          -1983.1201171875,
          -1983.1201171875
         ],
         "yaxis": "y"
        },
        {
         "hoverinfo": "text",
         "marker": {
          "color": "rgb(0,116,217)"
         },
         "mode": "lines",
         "text": [
          "correct_wrong_am_me_tell",
          "",
          "",
          "content_attachment_2002_xml_type"
         ],
         "type": "scatter",
         "x": [
          0.3889856568491806,
          1.314057454454317,
          1.314057454454317,
          1.2672308240111438
         ],
         "xaxis": "x",
         "y": [
          -1460,
          -1460,
          -1739.06005859375,
          -1739.06005859375
         ],
         "yaxis": "y"
        },
        {
         "hoverinfo": "text",
         "marker": {
          "color": "rgb(35,205,205)"
         },
         "mode": "lines",
         "text": [
          "dci_colleagues_priority_id_470",
          "",
          "",
          "sponsorship_comdex_sponsor_exhibiting_exhibitor"
         ],
         "type": "scatter",
         "x": [
          0,
          0.8165597169692522,
          0.8165597169692522,
          0
         ],
         "xaxis": "x",
         "y": [
          -2555,
          -2555,
          -2565,
          -2565
         ],
         "yaxis": "y"
        },
        {
         "hoverinfo": "text",
         "marker": {
          "color": "rgb(35,205,205)"
         },
         "mode": "lines",
         "text": [
          "event_attend_attending_attendees_events",
          "",
          "",
          "seminar_brochure_informa_seminars_thackray"
         ],
         "type": "scatter",
         "x": [
          0,
          0.8221180309944587,
          0.8221180309944587,
          0
         ],
         "xaxis": "x",
         "y": [
          -2575,
          -2575,
          -2585,
          -2585
         ],
         "yaxis": "y"
        },
        {
         "hoverinfo": "text",
         "marker": {
          "color": "rgb(35,205,205)"
         },
         "mode": "lines",
         "text": [
          "dci_sponsorship_comdex_470_978",
          "",
          "",
          "event_attend_seminar_attending_attendees"
         ],
         "type": "scatter",
         "x": [
          0.8165597169692522,
          0.9384208570048476,
          0.9384208570048476,
          0.8221180309944587
         ],
         "xaxis": "x",
         "y": [
          -2560,
          -2560,
          -2580,
          -2580
         ],
         "yaxis": "y"
        },
        {
         "hoverinfo": "text",
         "marker": {
          "color": "rgb(61,153,112)"
         },
         "mode": "lines",
         "text": [
          "marilisa_she_sweepstakes_unplugged_reemphasizing",
          "",
          "",
          "pre_show_marilisa_planning_tradeshow"
         ],
         "type": "scatter",
         "x": [
          0,
          0.7449032640366122,
          0.7449032640366122,
          0
         ],
         "xaxis": "x",
         "y": [
          -2595,
          -2595,
          -2605,
          -2605
         ],
         "yaxis": "y"
        },
        {
         "hoverinfo": "text",
         "marker": {
          "color": "rgb(61,153,112)"
         },
         "mode": "lines",
         "text": [
          "marilisa_pre_show_planning_tradeshow",
          "",
          "",
          "collateral_822_sooner_3772_3773"
         ],
         "type": "scatter",
         "x": [
          0.7449032640366122,
          0.9126003080752367,
          0.9126003080752367,
          0
         ],
         "xaxis": "x",
         "y": [
          -2600,
          -2600,
          -2615,
          -2615
         ],
         "yaxis": "y"
        },
        {
         "hoverinfo": "text",
         "marker": {
          "color": "rgb(0,116,217)"
         },
         "mode": "lines",
         "text": [
          "dci_sponsorship_event_470_comdex",
          "",
          "",
          "marilisa_pre_show_collateral_planning"
         ],
         "type": "scatter",
         "x": [
          0.9384208570048476,
          1.1253261940765031,
          1.1253261940765031,
          0.9126003080752367
         ],
         "xaxis": "x",
         "y": [
          -2570,
          -2570,
          -2607.5,
          -2607.5
         ],
         "yaxis": "y"
        },
        {
         "hoverinfo": "text",
         "marker": {
          "color": "rgb(255,65,54)"
         },
         "mode": "lines",
         "text": [
          "fortunata_hermoso_negotiation_lead_contracts",
          "",
          "",
          "hp_ux_hppartners_hewlett_packard"
         ],
         "type": "scatter",
         "x": [
          0,
          0.8732057759319286,
          0.8732057759319286,
          0
         ],
         "xaxis": "x",
         "y": [
          -2625,
          -2625,
          -2635,
          -2635
         ],
         "yaxis": "y"
        },
        {
         "hoverinfo": "text",
         "marker": {
          "color": "rgb(35,205,205)"
         },
         "mode": "lines",
         "text": [
          "accenture_amit_with_andersen_ep",
          "",
          "",
          "biogen_rfi_siebel_biogenproject_srf"
         ],
         "type": "scatter",
         "x": [
          0,
          0.8602653831998277,
          0.8602653831998277,
          0
         ],
         "xaxis": "x",
         "y": [
          -2655,
          -2655,
          -2665,
          -2665
         ],
         "yaxis": "y"
        },
        {
         "hoverinfo": "text",
         "marker": {
          "color": "rgb(35,205,205)"
         },
         "mode": "lines",
         "text": [
          "accenture_biogen_amit_rfi_we",
          "",
          "",
          "siebel_siebelwireless_siebeljdb_takeda_neon_view"
         ],
         "type": "scatter",
         "x": [
          0.8602653831998277,
          0.9006497198835232,
          0.9006497198835232,
          0
         ],
         "xaxis": "x",
         "y": [
          -2660,
          -2660,
          -2675,
          -2675
         ],
         "yaxis": "y"
        },
        {
         "hoverinfo": "text",
         "marker": {
          "color": "rgb(35,205,205)"
         },
         "mode": "lines",
         "text": [
          "rfp_rfi_boeing_response_rfq",
          "",
          "",
          "accenture_biogen_siebel_amit_rfi"
         ],
         "type": "scatter",
         "x": [
          0,
          0.950723560961756,
          0.950723560961756,
          0.9006497198835232
         ],
         "xaxis": "x",
         "y": [
          -2645,
          -2645,
          -2667.5,
          -2667.5
         ],
         "yaxis": "y"
        },
        {
         "hoverinfo": "text",
         "marker": {
          "color": "rgb(35,205,205)"
         },
         "mode": "lines",
         "text": [
          "prakash_rajeev_meeting_he_aryans",
          "",
          "",
          "venk_meeting_asked_his_presentation"
         ],
         "type": "scatter",
         "x": [
          0,
          0.9297642157269805,
          0.9297642157269805,
          0
         ],
         "xaxis": "x",
         "y": [
          -2685,
          -2685,
          -2695,
          -2695
         ],
         "yaxis": "y"
        },
        {
         "hoverinfo": "text",
         "marker": {
          "color": "rgb(35,205,205)"
         },
         "mode": "lines",
         "text": [
          "prakash_venk_meeting_asked_he",
          "",
          "",
          "dell_laptop_laptops_backup_restore"
         ],
         "type": "scatter",
         "x": [
          0.9297642157269805,
          0.9568190384751395,
          0.9568190384751395,
          0
         ],
         "xaxis": "x",
         "y": [
          -2690,
          -2690,
          -2705,
          -2705
         ],
         "yaxis": "y"
        },
        {
         "hoverinfo": "text",
         "marker": {
          "color": "rgb(35,205,205)"
         },
         "mode": "lines",
         "text": [
          "accenture_biogen_rfp_siebel_rfi",
          "",
          "",
          "prakash_venk_dell_laptop_meeting"
         ],
         "type": "scatter",
         "x": [
          0.950723560961756,
          0.9850518630006362,
          0.9850518630006362,
          0.9568190384751395
         ],
         "xaxis": "x",
         "y": [
          -2656.25,
          -2656.25,
          -2697.5,
          -2697.5
         ],
         "yaxis": "y"
        },
        {
         "hoverinfo": "text",
         "marker": {
          "color": "rgb(0,116,217)"
         },
         "mode": "lines",
         "text": [
          "hp_fortunata_ux_compaq_hppartners",
          "",
          "",
          "accenture_prakash_venk_biogen_rfp"
         ],
         "type": "scatter",
         "x": [
          0.8732057759319286,
          1.0224434593652172,
          1.0224434593652172,
          0.9850518630006362
         ],
         "xaxis": "x",
         "y": [
          -2630,
          -2630,
          -2676.875,
          -2676.875
         ],
         "yaxis": "y"
        },
        {
         "hoverinfo": "text",
         "marker": {
          "color": "rgb(133,20,75)"
         },
         "mode": "lines",
         "text": [
          "fed_sonata_ex_commission_ceo",
          "",
          "",
          "ceo_vp_sales_president_chairman"
         ],
         "type": "scatter",
         "x": [
          0,
          0.8237902551613654,
          0.8237902551613654,
          0
         ],
         "xaxis": "x",
         "y": [
          -2715,
          -2715,
          -2725,
          -2725
         ],
         "yaxis": "y"
        },
        {
         "hoverinfo": "text",
         "marker": {
          "color": "rgb(255,220,0)"
         },
         "mode": "lines",
         "text": [
          "sun_reps_microsystems_sunsetdirect_sizing",
          "",
          "",
          "presentation_slides_presentations_slide_powerpoint"
         ],
         "type": "scatter",
         "x": [
          0,
          0.858362436846412,
          0.858362436846412,
          0
         ],
         "xaxis": "x",
         "y": [
          -2745,
          -2745,
          -2755,
          -2755
         ],
         "yaxis": "y"
        },
        {
         "hoverinfo": "text",
         "marker": {
          "color": "rgb(255,220,0)"
         },
         "mode": "lines",
         "text": [
          "demo_demos_pemex_him_schedule",
          "",
          "",
          "presentation_sun_slides_presentations_slide"
         ],
         "type": "scatter",
         "x": [
          0,
          0.8888583905457205,
          0.8888583905457205,
          0.858362436846412
         ],
         "xaxis": "x",
         "y": [
          -2735,
          -2735,
          -2750,
          -2750
         ],
         "yaxis": "y"
        },
        {
         "hoverinfo": "text",
         "marker": {
          "color": "rgb(255,220,0)"
         },
         "mode": "lines",
         "text": [
          "wireless_applications_plans_strategy_devices",
          "",
          "",
          "partners_experience_partner_sales_biz"
         ],
         "type": "scatter",
         "x": [
          0,
          0.7066407078797438,
          0.7066407078797438,
          0
         ],
         "xaxis": "x",
         "y": [
          -2765,
          -2765,
          -2775,
          -2775
         ],
         "yaxis": "y"
        },
        {
         "hoverinfo": "text",
         "marker": {
          "color": "rgb(255,220,0)"
         },
         "mode": "lines",
         "text": [
          "wireless_partners_experience_partner_sales",
          "",
          "",
          "technical_engineers_tech_support_technology"
         ],
         "type": "scatter",
         "x": [
          0.7066407078797438,
          0.7984896369177091,
          0.7984896369177091,
          0
         ],
         "xaxis": "x",
         "y": [
          -2770,
          -2770,
          -2785,
          -2785
         ],
         "yaxis": "y"
        },
        {
         "hoverinfo": "text",
         "marker": {
          "color": "rgb(255,220,0)"
         },
         "mode": "lines",
         "text": [
          "presentation_sun_slides_demo_presentations",
          "",
          "",
          "wireless_partners_technical_experience_partner"
         ],
         "type": "scatter",
         "x": [
          0.8888583905457205,
          0.9255501643699803,
          0.9255501643699803,
          0.7984896369177091
         ],
         "xaxis": "x",
         "y": [
          -2742.5,
          -2742.5,
          -2777.5,
          -2777.5
         ],
         "yaxis": "y"
        },
        {
         "hoverinfo": "text",
         "marker": {
          "color": "rgb(255,220,0)"
         },
         "mode": "lines",
         "text": [
          "schedule_dates_january_holidays_will",
          "",
          "",
          "training_classes_participant_course_class"
         ],
         "type": "scatter",
         "x": [
          0,
          0.8472714755912333,
          0.8472714755912333,
          0
         ],
         "xaxis": "x",
         "y": [
          -2805,
          -2805,
          -2815,
          -2815
         ],
         "yaxis": "y"
        },
        {
         "hoverinfo": "text",
         "marker": {
          "color": "rgb(255,220,0)"
         },
         "mode": "lines",
         "text": [
          "proposal_proposals_plan_goals_objectives",
          "",
          "",
          "training_schedule_classes_participant_course"
         ],
         "type": "scatter",
         "x": [
          0,
          0.9001545339323765,
          0.9001545339323765,
          0.8472714755912333
         ],
         "xaxis": "x",
         "y": [
          -2795,
          -2795,
          -2810,
          -2810
         ],
         "yaxis": "y"
        },
        {
         "hoverinfo": "text",
         "marker": {
          "color": "rgb(255,220,0)"
         },
         "mode": "lines",
         "text": [
          "training_proposal_schedule_classes_course",
          "",
          "",
          "materials_material_limitations_entrpreneural_crimson"
         ],
         "type": "scatter",
         "x": [
          0.9001545339323765,
          0.9435141822099139,
          0.9435141822099139,
          0
         ],
         "xaxis": "x",
         "y": [
          -2802.5,
          -2802.5,
          -2825,
          -2825
         ],
         "yaxis": "y"
        },
        {
         "hoverinfo": "text",
         "marker": {
          "color": "rgb(255,220,0)"
         },
         "mode": "lines",
         "text": [
          "presentation_sun_wireless_slides_demo",
          "",
          "",
          "training_proposal_schedule_materials_classes"
         ],
         "type": "scatter",
         "x": [
          0.9255501643699803,
          0.969681203021165,
          0.969681203021165,
          0.9435141822099139
         ],
         "xaxis": "x",
         "y": [
          -2760,
          -2760,
          -2813.75,
          -2813.75
         ],
         "yaxis": "y"
        },
        {
         "hoverinfo": "text",
         "marker": {
          "color": "rgb(0,116,217)"
         },
         "mode": "lines",
         "text": [
          "ceo_vp_sales_president_chairman",
          "",
          "",
          "presentation_training_sun_wireless_slides"
         ],
         "type": "scatter",
         "x": [
          0.8237902551613654,
          1.0094720104124217,
          1.0094720104124217,
          0.969681203021165
         ],
         "xaxis": "x",
         "y": [
          -2720,
          -2720,
          -2786.875,
          -2786.875
         ],
         "yaxis": "y"
        },
        {
         "hoverinfo": "text",
         "marker": {
          "color": "rgb(0,116,217)"
         },
         "mode": "lines",
         "text": [
          "hp_accenture_prakash_venk_biogen",
          "",
          "",
          "presentation_training_sun_wireless_slides"
         ],
         "type": "scatter",
         "x": [
          1.0224434593652172,
          1.0415217837077755,
          1.0415217837077755,
          1.0094720104124217
         ],
         "xaxis": "x",
         "y": [
          -2653.4375,
          -2653.4375,
          -2753.4375,
          -2753.4375
         ],
         "yaxis": "y"
        },
        {
         "hoverinfo": "text",
         "marker": {
          "color": "rgb(40,35,35)"
         },
         "mode": "lines",
         "text": [
          "sprint_oncall_verify_pcs_sprintpcs",
          "",
          "",
          "verizon_sprint_pcs_surf_luck"
         ],
         "type": "scatter",
         "x": [
          0,
          0.7280740336651066,
          0.7280740336651066,
          0
         ],
         "xaxis": "x",
         "y": [
          -2835,
          -2835,
          -2845,
          -2845
         ],
         "yaxis": "y"
        },
        {
         "hoverinfo": "text",
         "marker": {
          "color": "rgb(0,116,217)"
         },
         "mode": "lines",
         "text": [
          "hp_presentation_accenture_prakash_training",
          "",
          "",
          "sprint_verizon_pcs_oncall_verify"
         ],
         "type": "scatter",
         "x": [
          1.0415217837077755,
          1.1564477591629168,
          1.1564477591629168,
          0.7280740336651066
         ],
         "xaxis": "x",
         "y": [
          -2703.4375,
          -2703.4375,
          -2840,
          -2840
         ],
         "yaxis": "y"
        },
        {
         "hoverinfo": "text",
         "marker": {
          "color": "rgb(0,116,217)"
         },
         "mode": "lines",
         "text": [
          "dci_marilisa_sponsorship_show_pre",
          "",
          "",
          "hp_presentation_accenture_prakash_training"
         ],
         "type": "scatter",
         "x": [
          1.1253261940765031,
          1.2020505198508948,
          1.2020505198508948,
          1.1564477591629168
         ],
         "xaxis": "x",
         "y": [
          -2588.75,
          -2588.75,
          -2771.71875,
          -2771.71875
         ],
         "yaxis": "y"
        },
        {
         "hoverinfo": "text",
         "marker": {
          "color": "rgb(61,153,112)"
         },
         "mode": "lines",
         "text": [
          "project_plan_projects_mortgage_suppose",
          "",
          "",
          "project_estimate_estimates_projects_plan"
         ],
         "type": "scatter",
         "x": [
          0,
          0.4362996253356133,
          0.4362996253356133,
          0
         ],
         "xaxis": "x",
         "y": [
          -2855,
          -2855,
          -2865,
          -2865
         ],
         "yaxis": "y"
        },
        {
         "hoverinfo": "text",
         "marker": {
          "color": "rgb(255,65,54)"
         },
         "mode": "lines",
         "text": [
          "comments_review_feedback_inputs_suggestions",
          "",
          "",
          "review_before_it_reviewing_rel1_final_jen"
         ],
         "type": "scatter",
         "x": [
          0,
          0.607867280102734,
          0.607867280102734,
          0
         ],
         "xaxis": "x",
         "y": [
          -2875,
          -2875,
          -2885,
          -2885
         ],
         "yaxis": "y"
        },
        {
         "hoverinfo": "text",
         "marker": {
          "color": "rgb(35,205,205)"
         },
         "mode": "lines",
         "text": [
          "prasad_cricket_rajeev_shiva_om",
          "",
          "",
          "rajeev_raj_rajneel_vlcc_vayusphere"
         ],
         "type": "scatter",
         "x": [
          0,
          0.8773013272003922,
          0.8773013272003922,
          0
         ],
         "xaxis": "x",
         "y": [
          -2895,
          -2895,
          -2905,
          -2905
         ],
         "yaxis": "y"
        },
        {
         "hoverinfo": "text",
         "marker": {
          "color": "rgb(35,205,205)"
         },
         "mode": "lines",
         "text": [
          "srik_srinstitute_srikant_srinivas_sriram",
          "",
          "",
          "docs_doc_doctor_surgery_john_dodge"
         ],
         "type": "scatter",
         "x": [
          0,
          0.9079725256541943,
          0.9079725256541943,
          0
         ],
         "xaxis": "x",
         "y": [
          -2915,
          -2915,
          -2925,
          -2925
         ],
         "yaxis": "y"
        },
        {
         "hoverinfo": "text",
         "marker": {
          "color": "rgb(35,205,205)"
         },
         "mode": "lines",
         "text": [
          "rajeev_prasad_raj_cricket_rajneel",
          "",
          "",
          "srik_docs_doc_srinstitute_srikant"
         ],
         "type": "scatter",
         "x": [
          0.8773013272003922,
          0.9721421551523552,
          0.9721421551523552,
          0.9079725256541943
         ],
         "xaxis": "x",
         "y": [
          -2900,
          -2900,
          -2920,
          -2920
         ],
         "yaxis": "y"
        },
        {
         "hoverinfo": "text",
         "marker": {
          "color": "rgb(61,153,112)"
         },
         "mode": "lines",
         "text": [
          "template_templates_compact_feedback_filling",
          "",
          "",
          "specs_spec_functional_rithesh_lapel"
         ],
         "type": "scatter",
         "x": [
          0,
          0.8761706348080411,
          0.8761706348080411,
          0
         ],
         "xaxis": "x",
         "y": [
          -2945,
          -2945,
          -2955,
          -2955
         ],
         "yaxis": "y"
        },
        {
         "hoverinfo": "text",
         "marker": {
          "color": "rgb(61,153,112)"
         },
         "mode": "lines",
         "text": [
          "cc_ed_cci_emails_ccing",
          "",
          "",
          "specs_spec_template_templates_functional"
         ],
         "type": "scatter",
         "x": [
          0,
          0.9459656404963603,
          0.9459656404963603,
          0.8761706348080411
         ],
         "xaxis": "x",
         "y": [
          -2935,
          -2935,
          -2950,
          -2950
         ],
         "yaxis": "y"
        },
        {
         "hoverinfo": "text",
         "marker": {
          "color": "rgb(255,65,54)"
         },
         "mode": "lines",
         "text": [
          "scoping_ae_document_analysis_completed",
          "",
          "",
          "ae_aes_branch_ae2_aetest_10"
         ],
         "type": "scatter",
         "x": [
          0,
          0.811948860432186,
          0.811948860432186,
          0
         ],
         "xaxis": "x",
         "y": [
          -2965,
          -2965,
          -2975,
          -2975
         ],
         "yaxis": "y"
        },
        {
         "hoverinfo": "text",
         "marker": {
          "color": "rgb(0,116,217)"
         },
         "mode": "lines",
         "text": [
          "cc_specs_spec_template_ed",
          "",
          "",
          "scoping_ae_aes_branch_document"
         ],
         "type": "scatter",
         "x": [
          0.9459656404963603,
          1.0308525641049266,
          1.0308525641049266,
          0.811948860432186
         ],
         "xaxis": "x",
         "y": [
          -2942.5,
          -2942.5,
          -2970,
          -2970
         ],
         "yaxis": "y"
        },
        {
         "hoverinfo": "text",
         "marker": {
          "color": "rgb(0,116,217)"
         },
         "mode": "lines",
         "text": [
          "srik_rajeev_prasad_docs_doc",
          "",
          "",
          "scoping_ae_cc_aes_template"
         ],
         "type": "scatter",
         "x": [
          0.9721421551523552,
          1.0721668072187838,
          1.0721668072187838,
          1.0308525641049266
         ],
         "xaxis": "x",
         "y": [
          -2910,
          -2910,
          -2956.25,
          -2956.25
         ],
         "yaxis": "y"
        },
        {
         "hoverinfo": "text",
         "marker": {
          "color": "rgb(0,116,217)"
         },
         "mode": "lines",
         "text": [
          "comments_review_feedback_suggestions_inputs",
          "",
          "",
          "scoping_srik_ae_cc_rajeev"
         ],
         "type": "scatter",
         "x": [
          0.607867280102734,
          1.1022096285636784,
          1.1022096285636784,
          1.0721668072187838
         ],
         "xaxis": "x",
         "y": [
          -2880,
          -2880,
          -2933.125,
          -2933.125
         ],
         "yaxis": "y"
        },
        {
         "hoverinfo": "text",
         "marker": {
          "color": "rgb(0,116,217)"
         },
         "mode": "lines",
         "text": [
          "project_estimate_estimates_projects_plan",
          "",
          "",
          "scoping_srik_ae_comments_cc"
         ],
         "type": "scatter",
         "x": [
          0.4362996253356133,
          1.185670988930822,
          1.185670988930822,
          1.1022096285636784
         ],
         "xaxis": "x",
         "y": [
          -2860,
          -2860,
          -2906.5625,
          -2906.5625
         ],
         "yaxis": "y"
        },
        {
         "hoverinfo": "text",
         "marker": {
          "color": "rgb(0,116,217)"
         },
         "mode": "lines",
         "text": [
          "hp_accenture_presentation_prakash_training",
          "",
          "",
          "scoping_srik_ae_project_comments"
         ],
         "type": "scatter",
         "x": [
          1.2020505198508948,
          1.2614715370076075,
          1.2614715370076075,
          1.185670988930822
         ],
         "xaxis": "x",
         "y": [
          -2680.234375,
          -2680.234375,
          -2883.28125,
          -2883.28125
         ],
         "yaxis": "y"
        },
        {
         "hoverinfo": "text",
         "marker": {
          "color": "rgb(35,205,205)"
         },
         "mode": "lines",
         "text": [
          "document_documents_pdf_pdfs_copy",
          "",
          "",
          "copy_document_white_paper_documents"
         ],
         "type": "scatter",
         "x": [
          0,
          0.5107757106151809,
          0.5107757106151809,
          0
         ],
         "xaxis": "x",
         "y": [
          -2985,
          -2985,
          -2995,
          -2995
         ],
         "yaxis": "y"
        },
        {
         "hoverinfo": "text",
         "marker": {
          "color": "rgb(35,205,205)"
         },
         "mode": "lines",
         "text": [
          "document_documents_copy_pdf_paper",
          "",
          "",
          "copy_soft_hard_copies_could"
         ],
         "type": "scatter",
         "x": [
          0.5107757106151809,
          0.7389911121613529,
          0.7389911121613529,
          0
         ],
         "xaxis": "x",
         "y": [
          -2990,
          -2990,
          -3005,
          -3005
         ],
         "yaxis": "y"
        },
        {
         "hoverinfo": "text",
         "marker": {
          "color": "rgb(133,20,75)"
         },
         "mode": "lines",
         "text": [
          "fax_faxes_number_faxed_efax",
          "",
          "",
          "signature_sign_signed_signatures_originals"
         ],
         "type": "scatter",
         "x": [
          0,
          0.8357487094183043,
          0.8357487094183043,
          0
         ],
         "xaxis": "x",
         "y": [
          -3015,
          -3015,
          -3025,
          -3025
         ],
         "yaxis": "y"
        },
        {
         "hoverinfo": "text",
         "marker": {
          "color": "rgb(133,20,75)"
         },
         "mode": "lines",
         "text": [
          "fax_faxes_signature_number_sign",
          "",
          "",
          "contract_agreement_signed_contracts_warrant"
         ],
         "type": "scatter",
         "x": [
          0.8357487094183043,
          0.8667322490106499,
          0.8667322490106499,
          0
         ],
         "xaxis": "x",
         "y": [
          -3020,
          -3020,
          -3035,
          -3035
         ],
         "yaxis": "y"
        },
        {
         "hoverinfo": "text",
         "marker": {
          "color": "rgb(133,20,75)"
         },
         "mode": "lines",
         "text": [
          "fax_contract_agreement_faxes_signed",
          "",
          "",
          "nda_mutual_signed_ewap_ours"
         ],
         "type": "scatter",
         "x": [
          0.8667322490106499,
          0.8980580988480845,
          0.8980580988480845,
          0
         ],
         "xaxis": "x",
         "y": [
          -3027.5,
          -3027.5,
          -3045,
          -3045
         ],
         "yaxis": "y"
        },
        {
         "hoverinfo": "text",
         "marker": {
          "color": "rgb(0,116,217)"
         },
         "mode": "lines",
         "text": [
          "copy_document_documents_pdf_soft",
          "",
          "",
          "fax_contract_nda_agreement_signed"
         ],
         "type": "scatter",
         "x": [
          0.7389911121613529,
          1.0779117070863868,
          1.0779117070863868,
          0.8980580988480845
         ],
         "xaxis": "x",
         "y": [
          -2997.5,
          -2997.5,
          -3036.25,
          -3036.25
         ],
         "yaxis": "y"
        },
        {
         "hoverinfo": "text",
         "marker": {
          "color": "rgb(0,116,217)"
         },
         "mode": "lines",
         "text": [
          "hp_presentation_accenture_prakash_training",
          "",
          "",
          "fax_contract_nda_copy_agreement"
         ],
         "type": "scatter",
         "x": [
          1.2614715370076075,
          1.309922561620638,
          1.309922561620638,
          1.0779117070863868
         ],
         "xaxis": "x",
         "y": [
          -2781.7578125,
          -2781.7578125,
          -3016.875,
          -3016.875
         ],
         "yaxis": "y"
        },
        {
         "hoverinfo": "text",
         "marker": {
          "color": "rgb(255,220,0)"
         },
         "mode": "lines",
         "text": [
          "draft_final_hee_tonight_drafted",
          "",
          "",
          "draft_modifications_dahle_erin_qt"
         ],
         "type": "scatter",
         "x": [
          0,
          0.13741157611269217,
          0.13741157611269217,
          0
         ],
         "xaxis": "x",
         "y": [
          -3055,
          -3055,
          -3065,
          -3065
         ],
         "yaxis": "y"
        },
        {
         "hoverinfo": "text",
         "marker": {
          "color": "rgb(0,116,217)"
         },
         "mode": "lines",
         "text": [
          "hp_presentation_accenture_prakash_training",
          "",
          "",
          "draft_final_tonight_hee_first"
         ],
         "type": "scatter",
         "x": [
          1.309922561620638,
          1.3570630766951177,
          1.3570630766951177,
          0.13741157611269217
         ],
         "xaxis": "x",
         "y": [
          -2899.31640625,
          -2899.31640625,
          -3060,
          -3060
         ],
         "yaxis": "y"
        },
        {
         "hoverinfo": "text",
         "marker": {
          "color": "rgb(0,116,217)"
         },
         "mode": "lines",
         "text": [
          "content_attachment_2002_xml_type",
          "",
          "",
          "hp_presentation_accenture_prakash_training"
         ],
         "type": "scatter",
         "x": [
          1.314057454454317,
          1.4072822696542016,
          1.4072822696542016,
          1.3570630766951177
         ],
         "xaxis": "x",
         "y": [
          -1599.530029296875,
          -1599.530029296875,
          -2979.658203125,
          -2979.658203125
         ],
         "yaxis": "y"
        },
        {
         "hoverinfo": "text",
         "marker": {
          "color": "rgb(0,116,217)"
         },
         "mode": "lines",
         "text": [
          "report_status_expense_reports_expenses",
          "",
          "",
          "content_the_for_we_send"
         ],
         "type": "scatter",
         "x": [
          0.9857801998395674,
          1.4378850884020882,
          1.4378850884020882,
          1.4072822696542016
         ],
         "xaxis": "x",
         "y": [
          -1430,
          -1430,
          -2289.5941162109375,
          -2289.5941162109375
         ],
         "yaxis": "y"
        },
        {
         "hoverinfo": "text",
         "marker": {
          "color": "rgb(40,35,35)"
         },
         "mode": "lines",
         "text": [
          "sony_handsets_recalls_recall_kddi",
          "",
          "",
          "nokia_docomo_gprs_mobile_generation"
         ],
         "type": "scatter",
         "x": [
          0,
          0.7545068243457689,
          0.7545068243457689,
          0
         ],
         "xaxis": "x",
         "y": [
          -3075,
          -3075,
          -3085,
          -3085
         ],
         "yaxis": "y"
        },
        {
         "hoverinfo": "text",
         "marker": {
          "color": "rgb(40,35,35)"
         },
         "mode": "lines",
         "text": [
          "distance_unlimited_calls_long_network",
          "",
          "",
          "million_round_series_capital_firm"
         ],
         "type": "scatter",
         "x": [
          0,
          0.8715042656752598,
          0.8715042656752598,
          0
         ],
         "xaxis": "x",
         "y": [
          -3095,
          -3095,
          -3105,
          -3105
         ],
         "yaxis": "y"
        },
        {
         "hoverinfo": "text",
         "marker": {
          "color": "rgb(40,35,35)"
         },
         "mode": "lines",
         "text": [
          "docomo_handsets_sony_nokia_gprs",
          "",
          "",
          "million_round_series_capital_firm"
         ],
         "type": "scatter",
         "x": [
          0.7545068243457689,
          0.9198161248843837,
          0.9198161248843837,
          0.8715042656752598
         ],
         "xaxis": "x",
         "y": [
          -3080,
          -3080,
          -3100,
          -3100
         ],
         "yaxis": "y"
        },
        {
         "hoverinfo": "text",
         "marker": {
          "color": "rgb(40,35,35)"
         },
         "mode": "lines",
         "text": [
          "sms_messaging_messages_text_users",
          "",
          "",
          "pictures_mms_camera_users_sha"
         ],
         "type": "scatter",
         "x": [
          0,
          0.6321185823785502,
          0.6321185823785502,
          0
         ],
         "xaxis": "x",
         "y": [
          -3115,
          -3115,
          -3125,
          -3125
         ],
         "yaxis": "y"
        },
        {
         "hoverinfo": "text",
         "marker": {
          "color": "rgb(40,35,35)"
         },
         "mode": "lines",
         "text": [
          "million_round_docomo_handsets_sony",
          "",
          "",
          "sms_messaging_messages_users_text"
         ],
         "type": "scatter",
         "x": [
          0.9198161248843837,
          0.9476248992476246,
          0.9476248992476246,
          0.6321185823785502
         ],
         "xaxis": "x",
         "y": [
          -3090,
          -3090,
          -3120,
          -3120
         ],
         "yaxis": "y"
        },
        {
         "hoverinfo": "text",
         "marker": {
          "color": "rgb(61,153,112)"
         },
         "mode": "lines",
         "text": [
          "blackberry_cingular_gprs_rim_handheld",
          "",
          "",
          "blackberry_handheld_net_wireless_my"
         ],
         "type": "scatter",
         "x": [
          0,
          0.47670664226011517,
          0.47670664226011517,
          0
         ],
         "xaxis": "x",
         "y": [
          -3135,
          -3135,
          -3145,
          -3145
         ],
         "yaxis": "y"
        },
        {
         "hoverinfo": "text",
         "marker": {
          "color": "rgb(0,116,217)"
         },
         "mode": "lines",
         "text": [
          "sms_million_messaging_mobile_messages",
          "",
          "",
          "blackberry_handheld_net_wireless_my"
         ],
         "type": "scatter",
         "x": [
          0.9476248992476246,
          1.2281996541311027,
          1.2281996541311027,
          0.47670664226011517
         ],
         "xaxis": "x",
         "y": [
          -3105,
          -3105,
          -3140,
          -3140
         ],
         "yaxis": "y"
        },
        {
         "hoverinfo": "text",
         "marker": {
          "color": "rgb(0,116,217)"
         },
         "mode": "lines",
         "text": [
          "content_the_for_we_send",
          "",
          "",
          "blackberry_sms_million_handheld_messaging"
         ],
         "type": "scatter",
         "x": [
          1.4378850884020882,
          1.4889517524793792,
          1.4889517524793792,
          1.2281996541311027
         ],
         "xaxis": "x",
         "y": [
          -1859.7970581054688,
          -1859.7970581054688,
          -3122.5,
          -3122.5
         ],
         "yaxis": "y"
        },
        {
         "hoverinfo": "text",
         "marker": {
          "color": "rgb(255,65,54)"
         },
         "mode": "lines",
         "text": [
          "apply_resume_cover_letter_how",
          "",
          "",
          "resume_resumes_job_interested_mh"
         ],
         "type": "scatter",
         "x": [
          0,
          0.580017993628192,
          0.580017993628192,
          0
         ],
         "xaxis": "x",
         "y": [
          -3165,
          -3165,
          -3175,
          -3175
         ],
         "yaxis": "y"
        },
        {
         "hoverinfo": "text",
         "marker": {
          "color": "rgb(255,65,54)"
         },
         "mode": "lines",
         "text": [
          "jobs_interactivehq_apply_edt_org",
          "",
          "",
          "resume_resumes_apply_job_cover"
         ],
         "type": "scatter",
         "x": [
          0,
          0.7369255418914327,
          0.7369255418914327,
          0.580017993628192
         ],
         "xaxis": "x",
         "y": [
          -3155,
          -3155,
          -3170,
          -3170
         ],
         "yaxis": "y"
        },
        {
         "hoverinfo": "text",
         "marker": {
          "color": "rgb(255,65,54)"
         },
         "mode": "lines",
         "text": [
          "resume_apply_jobs_resumes_interactivehq",
          "",
          "",
          "association_digest_aim_interactive_community"
         ],
         "type": "scatter",
         "x": [
          0.7369255418914327,
          0.8408687858670012,
          0.8408687858670012,
          0
         ],
         "xaxis": "x",
         "y": [
          -3162.5,
          -3162.5,
          -3185,
          -3185
         ],
         "yaxis": "y"
        },
        {
         "hoverinfo": "text",
         "marker": {
          "color": "rgb(0,116,217)"
         },
         "mode": "lines",
         "text": [
          "the_for_content_and_send",
          "",
          "",
          "resume_apply_jobs_resumes_interactivehq"
         ],
         "type": "scatter",
         "x": [
          1.4889517524793792,
          1.507690243210572,
          1.507690243210572,
          0.8408687858670012
         ],
         "xaxis": "x",
         "y": [
          -2491.1485290527344,
          -2491.1485290527344,
          -3173.75,
          -3173.75
         ],
         "yaxis": "y"
        },
        {
         "hoverinfo": "text",
         "marker": {
          "color": "rgb(0,116,217)"
         },
         "mode": "lines",
         "text": [
          "pqa_palm_item_test_oca",
          "",
          "",
          "the_for_content_and_send"
         ],
         "type": "scatter",
         "x": [
          1.4159057649813713,
          1.5487756030498145,
          1.5487756030498145,
          1.507690243210572
         ],
         "xaxis": "x",
         "y": [
          -1276.1181640625,
          -1276.1181640625,
          -2832.449264526367,
          -2832.449264526367
         ],
         "yaxis": "y"
        },
        {
         "hoverinfo": "text",
         "marker": {
          "color": "rgb(35,205,205)"
         },
         "mode": "lines",
         "text": [
          "hi_missed_returning_sorry_chance",
          "",
          "",
          "hi_sorry_got_incomplete_seems"
         ],
         "type": "scatter",
         "x": [
          0,
          0.4505479770290337,
          0.4505479770290337,
          0
         ],
         "xaxis": "x",
         "y": [
          -3205,
          -3205,
          -3215,
          -3215
         ],
         "yaxis": "y"
        },
        {
         "hoverinfo": "text",
         "marker": {
          "color": "rgb(35,205,205)"
         },
         "mode": "lines",
         "text": [
          "missed_sorry_missing_apologize_ajay",
          "",
          "",
          "hi_sorry_missed_returning_chance"
         ],
         "type": "scatter",
         "x": [
          0,
          0.7318447104094907,
          0.7318447104094907,
          0.4505479770290337
         ],
         "xaxis": "x",
         "y": [
          -3195,
          -3195,
          -3210,
          -3210
         ],
         "yaxis": "y"
        },
        {
         "hoverinfo": "text",
         "marker": {
          "color": "rgb(61,153,112)"
         },
         "mode": "lines",
         "text": [
          "disregard_reference_message_save_below",
          "",
          "",
          "ignore_disregard_previous_my_mistake"
         ],
         "type": "scatter",
         "x": [
          0,
          0.5588262267513306,
          0.5588262267513306,
          0
         ],
         "xaxis": "x",
         "y": [
          -3225,
          -3225,
          -3235,
          -3235
         ],
         "yaxis": "y"
        },
        {
         "hoverinfo": "text",
         "marker": {
          "color": "rgb(0,116,217)"
         },
         "mode": "lines",
         "text": [
          "hi_missed_sorry_returning_chance",
          "",
          "",
          "ignore_disregard_previous_reference_message"
         ],
         "type": "scatter",
         "x": [
          0.7318447104094907,
          1.2789753599836078,
          1.2789753599836078,
          0.5588262267513306
         ],
         "xaxis": "x",
         "y": [
          -3202.5,
          -3202.5,
          -3230,
          -3230
         ],
         "yaxis": "y"
        },
        {
         "hoverinfo": "text",
         "marker": {
          "color": "rgb(255,65,54)"
         },
         "mode": "lines",
         "text": [
          "list_onward_consolidation_add_items",
          "",
          "",
          "changes_list_update_version_updated"
         ],
         "type": "scatter",
         "x": [
          0,
          0.5504367868157309,
          0.5504367868157309,
          0
         ],
         "xaxis": "x",
         "y": [
          -3255,
          -3255,
          -3265,
          -3265
         ],
         "yaxis": "y"
        },
        {
         "hoverinfo": "text",
         "marker": {
          "color": "rgb(255,65,54)"
         },
         "mode": "lines",
         "text": [
          "list_changes_update_updated_sent",
          "",
          "",
          "changes_change_modifications_made_necessary"
         ],
         "type": "scatter",
         "x": [
          0.5504367868157309,
          0.764763910220349,
          0.764763910220349,
          0
         ],
         "xaxis": "x",
         "y": [
          -3260,
          -3260,
          -3275,
          -3275
         ],
         "yaxis": "y"
        },
        {
         "hoverinfo": "text",
         "marker": {
          "color": "rgb(255,65,54)"
         },
         "mode": "lines",
         "text": [
          "update_updates_later_an_progress",
          "",
          "",
          "list_changes_update_change_made"
         ],
         "type": "scatter",
         "x": [
          0,
          0.8988763916979471,
          0.8988763916979471,
          0.764763910220349
         ],
         "xaxis": "x",
         "y": [
          -3245,
          -3245,
          -3267.5,
          -3267.5
         ],
         "yaxis": "y"
        },
        {
         "hoverinfo": "text",
         "marker": {
          "color": "rgb(35,205,205)"
         },
         "mode": "lines",
         "text": [
          "them_these_those_ll_send",
          "",
          "",
          "them_they_call_will_calling"
         ],
         "type": "scatter",
         "x": [
          0,
          0.47698690429421775,
          0.47698690429421775,
          0
         ],
         "xaxis": "x",
         "y": [
          -3285,
          -3285,
          -3295,
          -3295
         ],
         "yaxis": "y"
        },
        {
         "hoverinfo": "text",
         "marker": {
          "color": "rgb(35,205,205)"
         },
         "mode": "lines",
         "text": [
          "them_these_those_ll_will",
          "",
          "",
          "contacted_them_contact_bozos_obligated"
         ],
         "type": "scatter",
         "x": [
          0.47698690429421775,
          0.6993941303944244,
          0.6993941303944244,
          0
         ],
         "xaxis": "x",
         "y": [
          -3290,
          -3290,
          -3305,
          -3305
         ],
         "yaxis": "y"
        },
        {
         "hoverinfo": "text",
         "marker": {
          "color": "rgb(0,116,217)"
         },
         "mode": "lines",
         "text": [
          "list_changes_update_updates_change",
          "",
          "",
          "them_these_those_ll_they"
         ],
         "type": "scatter",
         "x": [
          0.8988763916979471,
          1.1587616200740871,
          1.1587616200740871,
          0.6993941303944244
         ],
         "xaxis": "x",
         "y": [
          -3256.25,
          -3256.25,
          -3297.5,
          -3297.5
         ],
         "yaxis": "y"
        },
        {
         "hoverinfo": "text",
         "marker": {
          "color": "rgb(133,20,75)"
         },
         "mode": "lines",
         "text": [
          "sent_person_it_send_what",
          "",
          "",
          "it_again_send_sending_sent"
         ],
         "type": "scatter",
         "x": [
          0,
          0.4143376115999654,
          0.4143376115999654,
          0
         ],
         "xaxis": "x",
         "y": [
          -3335,
          -3335,
          -3345,
          -3345
         ],
         "yaxis": "y"
        },
        {
         "hoverinfo": "text",
         "marker": {
          "color": "rgb(133,20,75)"
         },
         "mode": "lines",
         "text": [
          "location_in_sent_had_that",
          "",
          "",
          "it_sent_send_sending_out"
         ],
         "type": "scatter",
         "x": [
          0,
          0.5921718218534363,
          0.5921718218534363,
          0.4143376115999654
         ],
         "xaxis": "x",
         "y": [
          -3325,
          -3325,
          -3340,
          -3340
         ],
         "yaxis": "y"
        },
        {
         "hoverinfo": "text",
         "marker": {
          "color": "rgb(133,20,75)"
         },
         "mode": "lines",
         "text": [
          "location_it_sent_send_out",
          "",
          "",
          "jazz_message_sent_flair_todya"
         ],
         "type": "scatter",
         "x": [
          0.5921718218534363,
          0.8105957458041695,
          0.8105957458041695,
          0
         ],
         "xaxis": "x",
         "y": [
          -3332.5,
          -3332.5,
          -3355,
          -3355
         ],
         "yaxis": "y"
        },
        {
         "hoverinfo": "text",
         "marker": {
          "color": "rgb(133,20,75)"
         },
         "mode": "lines",
         "text": [
          "her_she_said_called_told",
          "",
          "",
          "location_it_sent_send_out"
         ],
         "type": "scatter",
         "x": [
          0,
          0.8607456120643313,
          0.8607456120643313,
          0.8105957458041695
         ],
         "xaxis": "x",
         "y": [
          -3315,
          -3315,
          -3343.75,
          -3343.75
         ],
         "yaxis": "y"
        },
        {
         "hoverinfo": "text",
         "marker": {
          "color": "rgb(133,20,75)"
         },
         "mode": "lines",
         "text": [
          "email_person_read_emails_did",
          "",
          "",
          "did_got_email_emails_read"
         ],
         "type": "scatter",
         "x": [
          0,
          0.36387166482436584,
          0.36387166482436584,
          0
         ],
         "xaxis": "x",
         "y": [
          -3375,
          -3375,
          -3385,
          -3385
         ],
         "yaxis": "y"
        },
        {
         "hoverinfo": "text",
         "marker": {
          "color": "rgb(133,20,75)"
         },
         "mode": "lines",
         "text": [
          "emails_external_outside_problems_receiving",
          "",
          "",
          "did_email_got_emails_read"
         ],
         "type": "scatter",
         "x": [
          0,
          0.6917557227239306,
          0.6917557227239306,
          0.36387166482436584
         ],
         "xaxis": "x",
         "y": [
          -3365,
          -3365,
          -3380,
          -3380
         ],
         "yaxis": "y"
        },
        {
         "hoverinfo": "text",
         "marker": {
          "color": "rgb(133,20,75)"
         },
         "mode": "lines",
         "text": [
          "email_did_emails_got_read",
          "",
          "",
          "below_see_mail_attached_enclosed"
         ],
         "type": "scatter",
         "x": [
          0.6917557227239306,
          0.7521546654378433,
          0.7521546654378433,
          0
         ],
         "xaxis": "x",
         "y": [
          -3372.5,
          -3372.5,
          -3395,
          -3395
         ],
         "yaxis": "y"
        },
        {
         "hoverinfo": "text",
         "marker": {
          "color": "rgb(133,20,75)"
         },
         "mode": "lines",
         "text": [
          "email_emails_did_got_mail",
          "",
          "",
          "forwarded_forward_forwarding_colleague_montibello"
         ],
         "type": "scatter",
         "x": [
          0.7521546654378433,
          0.8867846040208304,
          0.8867846040208304,
          0
         ],
         "xaxis": "x",
         "y": [
          -3383.75,
          -3383.75,
          -3405,
          -3405
         ],
         "yaxis": "y"
        },
        {
         "hoverinfo": "text",
         "marker": {
          "color": "rgb(133,20,75)"
         },
         "mode": "lines",
         "text": [
          "her_she_location_sent_it",
          "",
          "",
          "email_emails_did_mail_got"
         ],
         "type": "scatter",
         "x": [
          0.8607456120643313,
          0.9557464061056881,
          0.9557464061056881,
          0.8867846040208304
         ],
         "xaxis": "x",
         "y": [
          -3329.375,
          -3329.375,
          -3394.375,
          -3394.375
         ],
         "yaxis": "y"
        },
        {
         "hoverinfo": "text",
         "marker": {
          "color": "rgb(0,116,217)"
         },
         "mode": "lines",
         "text": [
          "list_them_changes_update_these",
          "",
          "",
          "her_she_location_sent_did"
         ],
         "type": "scatter",
         "x": [
          1.1587616200740871,
          1.2484966138229654,
          1.2484966138229654,
          0.9557464061056881
         ],
         "xaxis": "x",
         "y": [
          -3276.875,
          -3276.875,
          -3361.875,
          -3361.875
         ],
         "yaxis": "y"
        },
        {
         "hoverinfo": "text",
         "marker": {
          "color": "rgb(255,220,0)"
         },
         "mode": "lines",
         "text": [
          "checking_check_emails_reading_be",
          "",
          "",
          "checking_office_voice_be_will"
         ],
         "type": "scatter",
         "x": [
          0,
          0.2959614976472563,
          0.2959614976472563,
          0
         ],
         "xaxis": "x",
         "y": [
          -3415,
          -3415,
          -3425,
          -3425
         ],
         "yaxis": "y"
        },
        {
         "hoverinfo": "text",
         "marker": {
          "color": "rgb(40,35,35)"
         },
         "mode": "lines",
         "text": [
          "voice_voicegenie_speech_voicexml_speechworks",
          "",
          "",
          "voicemail_voice_left_got_mail"
         ],
         "type": "scatter",
         "x": [
          0,
          0.6748803822739746,
          0.6748803822739746,
          0
         ],
         "xaxis": "x",
         "y": [
          -3435,
          -3435,
          -3445,
          -3445
         ],
         "yaxis": "y"
        },
        {
         "hoverinfo": "text",
         "marker": {
          "color": "rgb(40,35,35)"
         },
         "mode": "lines",
         "text": [
          "voice_voicemail_left_got_voicegenie",
          "",
          "",
          "vm_vmail_left_got_vmails"
         ],
         "type": "scatter",
         "x": [
          0.6748803822739746,
          0.9401296726233088,
          0.9401296726233088,
          0
         ],
         "xaxis": "x",
         "y": [
          -3440,
          -3440,
          -3455,
          -3455
         ],
         "yaxis": "y"
        },
        {
         "hoverinfo": "text",
         "marker": {
          "color": "rgb(0,116,217)"
         },
         "mode": "lines",
         "text": [
          "checking_check_be_day_will",
          "",
          "",
          "voice_voicemail_left_vm_got"
         ],
         "type": "scatter",
         "x": [
          0.2959614976472563,
          1.0785042319974796,
          1.0785042319974796,
          0.9401296726233088
         ],
         "xaxis": "x",
         "y": [
          -3420,
          -3420,
          -3447.5,
          -3447.5
         ],
         "yaxis": "y"
        },
        {
         "hoverinfo": "text",
         "marker": {
          "color": "rgb(0,116,217)"
         },
         "mode": "lines",
         "text": [
          "her_she_location_sent_did",
          "",
          "",
          "voice_voicemail_left_checking_vm"
         ],
         "type": "scatter",
         "x": [
          1.2484966138229654,
          1.3300734318721126,
          1.3300734318721126,
          1.0785042319974796
         ],
         "xaxis": "x",
         "y": [
          -3319.375,
          -3319.375,
          -3433.75,
          -3433.75
         ],
         "yaxis": "y"
        },
        {
         "hoverinfo": "text",
         "marker": {
          "color": "rgb(0,116,217)"
         },
         "mode": "lines",
         "text": [
          "hi_missed_sorry_ignore_disregard",
          "",
          "",
          "her_voice_she_voicemail_left"
         ],
         "type": "scatter",
         "x": [
          1.2789753599836078,
          1.4361820763142659,
          1.4361820763142659,
          1.3300734318721126
         ],
         "xaxis": "x",
         "y": [
          -3216.25,
          -3216.25,
          -3376.5625,
          -3376.5625
         ],
         "yaxis": "y"
        },
        {
         "hoverinfo": "text",
         "marker": {
          "color": "rgb(61,153,112)"
         },
         "mode": "lines",
         "text": [
          "meeting_meetings_request_board_ll",
          "",
          "",
          "meeting_meetings_set_schedule_meet"
         ],
         "type": "scatter",
         "x": [
          0,
          0.322790624309477,
          0.322790624309477,
          0
         ],
         "xaxis": "x",
         "y": [
          -3475,
          -3475,
          -3485,
          -3485
         ],
         "yaxis": "y"
        },
        {
         "hoverinfo": "text",
         "marker": {
          "color": "rgb(61,153,112)"
         },
         "mode": "lines",
         "text": [
          "meeting_einstein_ostaff_tuesdays_thsi",
          "",
          "",
          "meeting_meetings_request_schedule_meet"
         ],
         "type": "scatter",
         "x": [
          0,
          0.4639791856329812,
          0.4639791856329812,
          0.322790624309477
         ],
         "xaxis": "x",
         "y": [
          -3465,
          -3465,
          -3480,
          -3480
         ],
         "yaxis": "y"
        },
        {
         "hoverinfo": "text",
         "marker": {
          "color": "rgb(255,65,54)"
         },
         "mode": "lines",
         "text": [
          "call_person_called_calling_give",
          "",
          "",
          "give_call_ll_later_when"
         ],
         "type": "scatter",
         "x": [
          0,
          0.39243645126708926,
          0.39243645126708926,
          0
         ],
         "xaxis": "x",
         "y": [
          -3505,
          -3505,
          -3515,
          -3515
         ],
         "yaxis": "y"
        },
        {
         "hoverinfo": "text",
         "marker": {
          "color": "rgb(255,65,54)"
         },
         "mode": "lines",
         "text": [
          "him_he_his_called_call",
          "",
          "",
          "call_give_ll_called_tomorrow"
         ],
         "type": "scatter",
         "x": [
          0,
          0.6403817582355337,
          0.6403817582355337,
          0.39243645126708926
         ],
         "xaxis": "x",
         "y": [
          -3495,
          -3495,
          -3510,
          -3510
         ],
         "yaxis": "y"
        },
        {
         "hoverinfo": "text",
         "marker": {
          "color": "rgb(255,65,54)"
         },
         "mode": "lines",
         "text": [
          "him_he_his_call_give",
          "",
          "",
          "monday_follow_weekend_call_week"
         ],
         "type": "scatter",
         "x": [
          0.6403817582355337,
          0.7406964772704399,
          0.7406964772704399,
          0
         ],
         "xaxis": "x",
         "y": [
          -3502.5,
          -3502.5,
          -3525,
          -3525
         ],
         "yaxis": "y"
        },
        {
         "hoverinfo": "text",
         "marker": {
          "color": "rgb(255,65,54)"
         },
         "mode": "lines",
         "text": [
          "30_around_10_pm_am",
          "",
          "",
          "pst_30_call_scheduled_10"
         ],
         "type": "scatter",
         "x": [
          0,
          0.4816579243471487,
          0.4816579243471487,
          0
         ],
         "xaxis": "x",
         "y": [
          -3535,
          -3535,
          -3545,
          -3545
         ],
         "yaxis": "y"
        },
        {
         "hoverinfo": "text",
         "marker": {
          "color": "rgb(255,65,54)"
         },
         "mode": "lines",
         "text": [
          "30_10_call_am_pm",
          "",
          "",
          "conference_call_set_pst_discuss"
         ],
         "type": "scatter",
         "x": [
          0.4816579243471487,
          0.7126738524878807,
          0.7126738524878807,
          0
         ],
         "xaxis": "x",
         "y": [
          -3540,
          -3540,
          -3555,
          -3555
         ],
         "yaxis": "y"
        },
        {
         "hoverinfo": "text",
         "marker": {
          "color": "rgb(255,65,54)"
         },
         "mode": "lines",
         "text": [
          "him_he_call_his_give",
          "",
          "",
          "conference_call_30_set_pst"
         ],
         "type": "scatter",
         "x": [
          0.7406964772704399,
          0.9171225248207187,
          0.9171225248207187,
          0.7126738524878807
         ],
         "xaxis": "x",
         "y": [
          -3513.75,
          -3513.75,
          -3547.5,
          -3547.5
         ],
         "yaxis": "y"
        },
        {
         "hoverinfo": "text",
         "marker": {
          "color": "rgb(35,205,205)"
         },
         "mode": "lines",
         "text": [
          "discuss_give_call_further_me",
          "",
          "",
          "initiatives_critical_minute_20_northeast"
         ],
         "type": "scatter",
         "x": [
          0,
          0.8006533596292795,
          0.8006533596292795,
          0
         ],
         "xaxis": "x",
         "y": [
          -3565,
          -3565,
          -3575,
          -3575
         ],
         "yaxis": "y"
        },
        {
         "hoverinfo": "text",
         "marker": {
          "color": "rgb(0,116,217)"
         },
         "mode": "lines",
         "text": [
          "him_conference_he_call_his",
          "",
          "",
          "discuss_initiatives_critical_minute_give"
         ],
         "type": "scatter",
         "x": [
          0.9171225248207187,
          1.0612319805947796,
          1.0612319805947796,
          0.8006533596292795
         ],
         "xaxis": "x",
         "y": [
          -3530.625,
          -3530.625,
          -3570,
          -3570
         ],
         "yaxis": "y"
        },
        {
         "hoverinfo": "text",
         "marker": {
          "color": "rgb(0,116,217)"
         },
         "mode": "lines",
         "text": [
          "meeting_meetings_request_schedule_set",
          "",
          "",
          "him_conference_he_call_his"
         ],
         "type": "scatter",
         "x": [
          0.4639791856329812,
          1.3184942645356323,
          1.3184942645356323,
          1.0612319805947796
         ],
         "xaxis": "x",
         "y": [
          -3472.5,
          -3472.5,
          -3550.3125,
          -3550.3125
         ],
         "yaxis": "y"
        },
        {
         "hoverinfo": "text",
         "marker": {
          "color": "rgb(0,116,217)"
         },
         "mode": "lines",
         "text": [
          "her_voice_she_voicemail_left",
          "",
          "",
          "him_conference_he_call_his"
         ],
         "type": "scatter",
         "x": [
          1.4361820763142659,
          1.5268624261027937,
          1.5268624261027937,
          1.3184942645356323
         ],
         "xaxis": "x",
         "y": [
          -3296.40625,
          -3296.40625,
          -3511.40625,
          -3511.40625
         ],
         "yaxis": "y"
        },
        {
         "hoverinfo": "text",
         "marker": {
          "color": "rgb(0,116,217)"
         },
         "mode": "lines",
         "text": [
          "the_for_send_and_we",
          "",
          "",
          "him_he_her_conference_call"
         ],
         "type": "scatter",
         "x": [
          1.5487756030498145,
          1.9587951845871818,
          1.9587951845871818,
          1.5268624261027937
         ],
         "xaxis": "x",
         "y": [
          -2054.2837142944336,
          -2054.2837142944336,
          -3403.90625,
          -3403.90625
         ],
         "yaxis": "y"
        },
        {
         "hoverinfo": "text",
         "marker": {
          "color": "rgb(0,116,217)"
         },
         "mode": "lines",
         "text": [
          "avocadoit_408_562_inc_2211",
          "",
          "",
          "him_call_will_the_he"
         ],
         "type": "scatter",
         "x": [
          1.7311674164180144,
          2.267839920754612,
          2.267839920754612,
          1.9587951845871818
         ],
         "xaxis": "x",
         "y": [
          -818.96484375,
          -818.96484375,
          -2729.094982147217,
          -2729.094982147217
         ],
         "yaxis": "y"
        },
        {
         "hoverinfo": "text",
         "marker": {
          "color": "rgb(0,116,217)"
         },
         "mode": "lines",
         "text": [
          "extremeprogramming_unsubscribe_egroups_blank_objectmentor",
          "",
          "",
          "avocadoit_408_location_call_person"
         ],
         "type": "scatter",
         "x": [
          2.0225160945779717,
          2.4510180271504147,
          2.4510180271504147,
          2.267839920754612
         ],
         "xaxis": "x",
         "y": [
          -161.8206787109375,
          -161.8206787109375,
          -1774.0299129486084,
          -1774.0299129486084
         ],
         "yaxis": "y"
        },
        {
         "hoverinfo": "text",
         "hovertext": [
          "recurring_36116_vaughn_thesuperspecialsales_al",
          "offers_78720_202885_33488063_tx",
          "recurring_yourself_unsub_remove_postal",
          "hotmail_private_msn_www_free",
          "hotmail_private_msn_www_free",
          "extremeprogramming_egroups_objectmentor_courtesy_ad",
          "yahoo_low_04_minute_international",
          "yahoogroups_group_mayan_soccer_yahoo_tm",
          "extremeprogramming_egroups_objectmentor_courtesy_ad",
          "sender_notify_error_immediately_destroy",
          "fiercewireless_newsscan_subscribe_fiercewirelesshtml_laser",
          "newsletter_subscription_cancel_ivillage_mailing",
          "fiercewireless_subscribe_digitrends_thestandard_newsscan",
          "infoworld_iwsubscribe_newsletters_subscribe_go",
          "receiving_because_indicated_offers_realnetworks",
          "infoworld_subscribe_newsletters_iwsubscribe_babycenter",
          "click_future_remove_receive_prefer",
          "infoworld_receiving_click_subscribe_newsletters",
          "netaddress_permanent_address_www_free",
          "internet_newsletters_662_http_203",
          "stcetsig_stc_34772p_subscribed_rgantly",
          "allnetdevices_internet_reprinting_linking_subscribed",
          "internet_newsletters_662_http_203",
          "click_infoworld_receiving_subscribe_newsletter",
          "notify_sender_delete_error_immediately",
          "ameritrade_techhelp_ritesh_hello_comments",
          "extremeprogramming_egroups_objectmentor_courtesy_unsubscribe",
          "signoff_java2d_body_listserv_include",
          "listserv_java_sun_signoff_interest",
          "extremeprogramming_egroups_unsubscribe_objectmentor_courtesy",
          "hotmail_private_msn_www_free",
          "unsub_postal_offers_33488063_mliang",
          "questions_any_call_have_if",
          "questions_any_feel_give_have",
          "feel_questions_any_free_contact",
          "contact_any_questions_please_myself",
          "contact_please_any_clarification_questions",
          "hesitate_assistance_help_any_contact",
          "contact_details_please_any_info",
          "problems_issues_any_there_if",
          "hesitate_contact_assistance_any_questions",
          "cell_my_phone_reach_need",
          "8530_9149_need_857_831",
          "800_877_toll_888_number",
          "408_me_at_857_9149",
          "cell_my_phone_reach_408",
          "avocadoit_562_408_inc_2211",
          "cell_my_800_408_phone",
          "hesitate_contact_any_assistance_please",
          "questions_feel_any_concerns_free",
          "pocketpc_application_device_pocket_header",
          "emulator_application_device_pocketpc_pocket",
          "ip_servers_external_server_addresses",
          "upperdesign_phpclasses_notification_options_user_options",
          "etrade_trade_epservlet_upperdesign_phpclasses",
          "bugzilla_bug_bugs_show_cgi_installer",
          "japanese_error_translation_miyuki_messages",
          "item_oca_osa_data_201",
          "bugzilla_bug_bugs_show_cgi_features",
          "item_oca_osa_idc_bug",
          "gartner_alert_alerts_etrade_trade",
          "item_oca_osa_gartner_idc",
          "pqa_palm_emulator_application_ip",
          "pqa_palm_item_oca_osa",
          "test_tests_testing_results_unit",
          "files_file_kaiperm_zip_these",
          "aml_vss_files_file_pages",
          "pqa_palm_item_oca_test",
          "status_report_reports_weekly_progress",
          "mailbox_folders_mailboxes_kb_size",
          "con_javadevelopersjournal_sys_mailbox_subscribed",
          "thecounter_germana_submissions_article_loewy",
          "clickz_advertise_conferences_feedback_subscription",
          "2002_thecounter_germana_submissions_oracle",
          "people_000_jokes_friends_least",
          "xp_jargon_elsewhere_windows_entry",
          "xp_method_class_methods_object",
          "people_000_jokes_who_friends",
          "2002_feedback_clickz_thecounter_archives",
          "invite_invitations_invitation_calendar_invites",
          "2002_xp_feedback_clickz_thecounter",
          "content_attachment_base64_disposition_virus",
          "price_pricing_95_dvd_prices",
          "price_pricing_cd_95_dvd",
          "content_attachment_2002_base64_disposition",
          "mime_klg_mimeole_mailer_jun",
          "xml_exec_edt_art_aug",
          "content_attachment_2002_greeting_card",
          "pictures_photos_picture_photo_pics",
          "office_desk_so_call_me",
          "office_lunch_dinner_food_restaurant",
          "help4u_wcom_should_number_what",
          "office_lunch_help4u_wcom_dinner",
          "check_cheque_payment_checks_cheques",
          "fedex_office_lunch_help4u_wcom",
          "fedex_invoice_office_lunch_check",
          "channelwave_accounts_channel_0355_995",
          "spreadsheet_excel_timesheet_sheet_forecast",
          "conditions_pharmaprofessionalcall_tc_totoal_failed",
          "intel_alaska_airlines_intellor_pumatech",
          "usps_analysts_analyst_iap_locator",
          "europe_hosting_european_sistemas_4437773",
          "survey_ibm_audium_surveys_db2",
          "survey_ibm_alumni_stanford_gsb",
          "ctia_hosting_europe_usps_analysts",
          "interview_intel_alaska_airlines_approval",
          "license_weblogic_bea_licensing_licenses",
          "survey_ibm_interview_intel_alumni",
          "password_webex_vpn_username_login",
          "arun_agenda_shailesh_4212_bombard",
          "arun_agenda_roopak_pda_shailesh",
          "arun_agenda_roopak_visio_resend",
          "logo_logos_eps_icons_icon",
          "rim_arun_dds_agenda_roopak",
          "password_webex_license_survey_weblogic",
          "channelwave_spreadsheet_excel_omnisky_conditions",
          "fedex_invoice_form_office_lunch",
          "hotel_reservations_travel_reservation_itinerary",
          "tickets_sale_gap_50_ticketmaster",
          "tickets_ebay_sale_gap_50",
          "lifeminders_hotel_travel_spotlight_reservations",
          "password_rim_webex_logo_channelwave",
          "content_attachment_2002_encoding_xml",
          "mailbox_con_javadevelopersjournal_32992900_sys",
          "correct_wrong_am_me_tell",
          "dci_sponsorship_comdex_470_978",
          "marilisa_pre_show_planning_tradeshow",
          "dci_sponsorship_event_470_comdex",
          "accenture_biogen_amit_rfi_we",
          "prakash_venk_meeting_asked_he",
          "accenture_biogen_rfp_siebel_rfi",
          "hp_fortunata_ux_compaq_hppartners",
          "wireless_partners_experience_partner_sales",
          "presentation_sun_slides_demo_presentations",
          "training_proposal_schedule_classes_course",
          "presentation_sun_wireless_slides_demo",
          "ceo_vp_sales_president_chairman",
          "hp_accenture_prakash_venk_biogen",
          "hp_presentation_accenture_prakash_training",
          "dci_marilisa_sponsorship_show_pre",
          "rajeev_prasad_raj_cricket_rajneel",
          "cc_specs_spec_template_ed",
          "srik_rajeev_prasad_docs_doc",
          "comments_review_feedback_suggestions_inputs",
          "project_estimate_estimates_projects_plan",
          "hp_accenture_presentation_prakash_training",
          "document_documents_copy_pdf_paper",
          "fax_faxes_signature_number_sign",
          "fax_contract_agreement_faxes_signed",
          "copy_document_documents_pdf_soft",
          "hp_presentation_accenture_prakash_training",
          "hp_presentation_accenture_prakash_training",
          "content_attachment_2002_xml_type",
          "report_status_expense_reports_expenses",
          "docomo_handsets_sony_nokia_gprs",
          "million_round_docomo_handsets_sony",
          "sms_million_messaging_mobile_messages",
          "content_the_for_we_send",
          "resume_apply_jobs_resumes_interactivehq",
          "the_for_content_and_send",
          "pqa_palm_item_test_oca",
          "hi_missed_sorry_returning_chance",
          "list_changes_update_updated_sent",
          "them_these_those_ll_will",
          "list_changes_update_updates_change",
          "location_it_sent_send_out",
          "email_did_emails_got_read",
          "email_emails_did_got_mail",
          "her_she_location_sent_it",
          "list_them_changes_update_these",
          "voice_voicemail_left_got_voicegenie",
          "checking_check_be_day_will",
          "her_she_location_sent_did",
          "hi_missed_sorry_ignore_disregard",
          "him_he_his_call_give",
          "30_10_call_am_pm",
          "him_he_call_his_give",
          "him_conference_he_call_his",
          "meeting_meetings_request_schedule_set",
          "her_voice_she_voicemail_left",
          "the_for_send_and_we",
          "avocadoit_408_562_inc_2211",
          "extremeprogramming_unsubscribe_egroups_blank_objectmentor"
         ],
         "marker": {
          "color": "black"
         },
         "mode": "markers",
         "showlegend": false,
         "type": "scatter",
         "x": [
          0.7487910533837621,
          0.212345135139276,
          0.8058857187468175,
          0.05683986296171106,
          0.27761552124992195,
          0.5475274678713768,
          0.7797833165998382,
          0.5879001173470741,
          1.1570165417996627,
          0.6911478354267965,
          0.9408182330867968,
          0.7654193358443673,
          1.0082321956897111,
          0.6845870044443989,
          0.707650524459552,
          1.139252705280642,
          0.8310496766711574,
          1.2799518217634307,
          0.24536429458199072,
          0.022283110436037368,
          0.8382661842878893,
          0.6367396332611192,
          0.8384097238300101,
          1.3921351786580138,
          0.8404131642055618,
          0.5129847358201794,
          1.2360282245539065,
          0.27038806333843535,
          0.5377166052885805,
          1.8076393906461057,
          0.7102874427196613,
          1.215380176648087,
          0.2400638434740987,
          0.5424372327884998,
          0.4685473044241619,
          0.5131653158273051,
          0.9539146812209516,
          0.5673003290033793,
          0.9932017290908846,
          0.2831536488361007,
          1.1794870944523663,
          0.4474066718997368,
          0.7092292445546018,
          0.8660504673866435,
          0.8829164408227544,
          0.8387449037474366,
          0.5703221115649852,
          1.2104661562340926,
          1.3008196147990678,
          0.886852786959976,
          0.8674577174234113,
          0.8873528824253133,
          0.6759719442602994,
          0.911231223732202,
          0.9987301584153436,
          0.864763503254339,
          0.8253380125217802,
          0.9080683653892808,
          0.9000248096958074,
          0.9873470931161763,
          1.0630024065796786,
          1.1070352099059588,
          1.1033921436275076,
          1.172721494119793,
          0.7026610896735843,
          0.4043333034133889,
          0.8710529174564903,
          1.2945384897774148,
          0.4023298546195905,
          0.6994023565826706,
          0.7580451677152031,
          0.963553407772985,
          0.8122876318933612,
          0.9707550469428754,
          0.9292535288592962,
          0.9010749148237347,
          0.9595230851027814,
          0.9605380023510395,
          1.0163759306470768,
          0.8344978948140982,
          1.1148671894390296,
          0.9255779507044847,
          0.7966172295706203,
          0.9053192808624646,
          1.1504301565280923,
          0.7921832094368068,
          0.7604537043721891,
          1.1599465978672145,
          0.5861061431742587,
          0.8475604351386847,
          0.936902627286298,
          1.0007128294506473,
          1.0334604886215872,
          0.8442484750454801,
          1.0753040748218927,
          1.0880334936318785,
          0.8568507260592041,
          0.8653119102783341,
          0.8410754366628352,
          0.9463983887485286,
          0.9490452226296062,
          0.9307471532034121,
          0.9537485296168519,
          0.9730354171480661,
          0.9802404380479403,
          0.9781846049417038,
          0.9743723366787512,
          1.0244449882783675,
          0.9630208762835992,
          0.9852542399914749,
          1.0070717202254182,
          1.034897257636644,
          0.8904719297515942,
          1.049982598560841,
          1.064153543202178,
          1.0524940607853792,
          1.1183903116904803,
          0.8163367772961266,
          0.9393896261421418,
          0.9895144825440328,
          0.9847362949352356,
          1.1305177359217005,
          1.2134839658712766,
          1.1144383508543205,
          0.3889856568491806,
          0.8165597169692522,
          0.7449032640366122,
          0.9384208570048476,
          0.8602653831998277,
          0.9297642157269805,
          0.950723560961756,
          0.8732057759319286,
          0.7066407078797438,
          0.8888583905457205,
          0.9001545339323765,
          0.9255501643699803,
          0.8237902551613654,
          1.0224434593652172,
          1.0415217837077755,
          1.1253261940765031,
          0.8773013272003922,
          0.9459656404963603,
          0.9721421551523552,
          0.607867280102734,
          0.4362996253356133,
          1.2020505198508948,
          0.5107757106151809,
          0.8357487094183043,
          0.8667322490106499,
          0.7389911121613529,
          1.2614715370076075,
          1.309922561620638,
          1.314057454454317,
          0.9857801998395674,
          0.7545068243457689,
          0.9198161248843837,
          0.9476248992476246,
          1.4378850884020882,
          0.7369255418914327,
          1.4889517524793792,
          1.4159057649813713,
          0.7318447104094907,
          0.5504367868157309,
          0.47698690429421775,
          0.8988763916979471,
          0.5921718218534363,
          0.6917557227239306,
          0.7521546654378433,
          0.8607456120643313,
          1.1587616200740871,
          0.6748803822739746,
          0.2959614976472563,
          1.2484966138229654,
          1.2789753599836078,
          0.6403817582355337,
          0.4816579243471487,
          0.7406964772704399,
          0.9171225248207187,
          0.4639791856329812,
          1.4361820763142659,
          1.5487756030498145,
          1.7311674164180144,
          2.0225160945779717
         ],
         "y": [
          -10,
          -52.5,
          -20,
          -100,
          -96.25,
          -170,
          -140,
          -202.5,
          -153.125,
          -282.5,
          -402.5,
          -460,
          -417.5,
          -380,
          -490,
          -411.25,
          -343.75,
          -399.6875,
          -320,
          -550,
          -600,
          -580,
          -557.5,
          -392.421875,
          -293.75,
          -252.5,
          -184.6875,
          -640,
          -636.25,
          -252.6904296875,
          -110.625,
          -41.875,
          -730,
          -726.25,
          -692.5,
          -790,
          -775.625,
          -840,
          -797.8125,
          -870,
          -822.65625,
          -910,
          -940,
          -982.5,
          -950,
          -917.5,
          -1030,
          -945.3125,
          -851.328125,
          -716.5625,
          -1112.5,
          -1123.75,
          -1090,
          -1170,
          -1180,
          -1230,
          -1280,
          -1260,
          -1237.5,
          -1255.625,
          -1195,
          -1238.90625,
          -1113.4375,
          -1198.9453125,
          -1062.5,
          -1390,
          -1370,
          -1168.486328125,
          -1420,
          -1500,
          -1480,
          -1590,
          -1630,
          -1600,
          -1672.5,
          -1710,
          -1720,
          -1683.75,
          -1620,
          -1770,
          -1664.6875,
          -1562.5,
          -1810,
          -1817.5,
          -1642.421875,
          -1880,
          -1860,
          -1735.5859375,
          -1540,
          -1950,
          -1946.25,
          -1912.5,
          -1936.5625,
          -2010,
          -1963.28125,
          -1990.390625,
          -2100,
          -2080,
          -2060,
          -2160,
          -2220,
          -2200,
          -2250,
          -2257.5,
          -2213.75,
          -2170,
          -2292.5,
          -2205,
          -2132.5,
          -2332.5,
          -2346.25,
          -2363.125,
          -2420,
          -2381.5625,
          -2193.4375,
          -2076.875,
          -2015.1953125,
          -2460,
          -2490,
          -2500,
          -2456.25,
          -2101.5625,
          -1672.333984375,
          -1495,
          -1460,
          -2560,
          -2600,
          -2570,
          -2660,
          -2690,
          -2656.25,
          -2630,
          -2770,
          -2742.5,
          -2802.5,
          -2760,
          -2720,
          -2653.4375,
          -2703.4375,
          -2588.75,
          -2900,
          -2942.5,
          -2910,
          -2880,
          -2860,
          -2680.234375,
          -2990,
          -3020,
          -3027.5,
          -2997.5,
          -2781.7578125,
          -2899.31640625,
          -1599.530029296875,
          -1430,
          -3080,
          -3090,
          -3105,
          -1859.7970581054688,
          -3162.5,
          -2491.1485290527344,
          -1276.1181640625,
          -3202.5,
          -3260,
          -3290,
          -3256.25,
          -3332.5,
          -3372.5,
          -3383.75,
          -3329.375,
          -3276.875,
          -3440,
          -3420,
          -3319.375,
          -3216.25,
          -3502.5,
          -3540,
          -3513.75,
          -3530.625,
          -3472.5,
          -3296.40625,
          -2054.2837142944336,
          -818.96484375,
          -161.8206787109375
         ]
        },
        {
         "hoverinfo": "text",
         "hovertext": [
          "recurring_clicking_14715846_yourself_dealseveryday",
          "offers_33488063_78720_202885_tx",
          "offers_202885_78720_33488063_tx",
          "hotmail_private_msn_www_free",
          "extremeprogramming_egroups_objectmentor_courtesy_ad",
          "extremeprogramming_egroups_objectmentor_courtesy_ad",
          "yahoogroups_group_zingaris_yahoo_tm",
          "group_st3ward_svamafriends_yahoo_unsubscribe",
          "yahoogroups_group_yahoo_unsubscribe_mayan_soccer",
          "techhelp_ritesh_ameritrade_hello_comments",
          "notify_error_sender_immediately_delete",
          "remove_removed_subject_receive_wish",
          "remove_receive_future_click_removed",
          "newsscan_subscribe_internetwire_hotwire_command",
          "thestandard_publisher_click_letters_advertising",
          "digitrends_thestandard_publisher_click_advertising",
          "babycenter_newsletter_baby_1fc7nw_le",
          "babycenter_subscribe_fiercewireless_newsletter_click",
          "mliang_53488875_record_link2buy_receiving",
          "receiving_because_mliang_53488875_indicated",
          "infoworld_receiving_subscribe_newsletters_newsletter",
          "otcjournal_plaintext_properly_automatically_wait",
          "click_infoworld_receiving_subscribe_newsletter",
          "coffeecup_stcetsig_subscribed_stc_currently",
          "coffeecup_subscribed_stcetsig_currently_leave",
          "internet_coffeecup_subscribed_newsletters_http",
          "internet_newsletters_http_click_infoworld",
          "internet_newsletters_http_click_receiving",
          "internet_newsletters_http_ameritrade_techhelp",
          "signoff_body_listserv_interest_java",
          "jsp_bean_servlet_java_page",
          "servlet_java_jsp_sun_listserv",
          "extremeprogramming_egroups_unsubscribe_objectmentor_courtesy",
          "extremeprogramming_egroups_unsubscribe_objectmentor_courtesy",
          "questions_feel_any_free_contact",
          "questions_any_give_call_have",
          "questions_any_concerns_feel_have",
          "contact_please_any_questions_interested",
          "contact_please_questions_any_interested",
          "details_info_links_detail_later",
          "hesitate_assistance_help_any_contact",
          "problem_issue_resolved_fix_solution",
          "problems_issues_problem_issue_any",
          "650_give_408_at_call",
          "800_877_888_toll_number",
          "paypal_bank_800_banking_account",
          "800_paypal_877_toll_888",
          "800_paypal_877_at_toll",
          "avocadoit_562_408_inc_2211",
          "avocadoit_408_562_inc_2211",
          "avocadoit_408_562_inc_2211",
          "test_results_testing_tests_plan",
          "pocketpc_application_pocket_pc_applications",
          "pqa_palm_vii_application_emulator",
          "pqa_palm_emulator_application_device",
          "etrade_trade_epservlet_opt_servlet",
          "gartner_alert_alerts_displaydocument_checkbox",
          "idc_japanese_error_translation_messages",
          "item_oca_osa_idc_data",
          "emas_ecs_ert_attribute_emds",
          "item_oca_osa_idc_bug",
          "pager_ops_request_pagers_operations",
          "item_oca_osa_gartner_idc",
          "build_wilhan_readme_start_jagrati",
          "pqa_palm_item_oca_osa",
          "files_file_zip_kaiperm_zipped",
          "aml_vss_files_file_zip",
          "report_expense_reports_expenses_receipts",
          "32992900_mbx_evoice_log_ts",
          "32992900_mailbox_log_mbx_evoice",
          "virus_attachment_infected_norton_scan",
          "2002_oracle_bursts_newsfeed_beginners",
          "verisign_printer_print_certificate_pdf",
          "clickz_advertise_conferences_feedback_printer",
          "people_000_who_friends_each",
          "method_class_methods_object_code",
          "html_div_font_nbsp_br",
          "xp_method_class_methods_html",
          "xp_method_people_000_methods",
          "lotus_thinairapps_outlook_access_pop3",
          "invite_invitations_invitation_calendar_invites",
          "2002_xp_feedback_clickz_thecounter",
          "greeting_music_card_mp3_cards",
          "greeting_music_card_mp3_price",
          "mime_klg_mimeole_mailer_jun",
          "xml_2001_edt_exec_aug",
          "content_attachment_2002_encoding_xml",
          "number_what_should_called_unconscious",
          "office_lunch_dinner_food_restaurant",
          "office_lunch_dinner_book_food",
          "fedex_ups_tracking_shipment_package",
          "invoice_check_payment_invoices_cheque",
          "form_selectedindex_value_options_dform",
          "channelwave_omnisky_accounts_channel_0355",
          "channelwave_spreadsheet_excel_omnisky_timesheet",
          "password_webex_username_login_passwords",
          "interview_approval_interviews_interviewer_deletions",
          "ctia_usps_analysts_analyst_202",
          "survey_ibm_alumni_stanford_gsb",
          "survey_ibm_alumni_stanford_ctia",
          "license_weblogic_bea_licensing_licenses",
          "license_weblogic_netscape_bea_licensing",
          "license_survey_weblogic_ibm_interview",
          "agenda_shailesh_bombard_detailed_conflicting",
          "roopak_pda_consistency_identical_usability",
          "visio_resend_lower_version_mabye",
          "rim_dds_pager_application_rimulator",
          "logo_toshi_logos_eps_icons",
          "rim_logo_arun_dds_agenda",
          "password_rim_webex_logo_license",
          "password_rim_webex_logo_channelwave",
          "lifeminders_hotel_travel_spotlight_reservations",
          "ebay_preferences_indicate_promotions_notification",
          "sitraka_rsvp_mobility_416_594",
          "sitraka_fitness_rsvp_novell_7348",
          "tickets_ebay_sale_sitraka_gap",
          "lifeminders_tickets_hotel_travel_spotlight",
          "lifeminders_password_rim_webex_logo",
          "content_attachment_2002_type_card",
          "content_attachment_2002_xml_type",
          "event_attend_seminar_attending_attendees",
          "marilisa_pre_show_collateral_planning",
          "accenture_biogen_siebel_amit_rfi",
          "prakash_venk_dell_laptop_meeting",
          "accenture_prakash_venk_biogen_rfp",
          "presentation_sun_slides_presentations_slide",
          "wireless_partners_technical_experience_partner",
          "training_schedule_classes_participant_course",
          "training_proposal_schedule_materials_classes",
          "presentation_training_sun_wireless_slides",
          "presentation_training_sun_wireless_slides",
          "sprint_verizon_pcs_oncall_verify",
          "hp_presentation_accenture_prakash_training",
          "srik_docs_doc_srinstitute_srikant",
          "specs_spec_template_templates_functional",
          "scoping_ae_aes_branch_document",
          "scoping_ae_cc_aes_template",
          "scoping_srik_ae_cc_rajeev",
          "scoping_srik_ae_comments_cc",
          "scoping_srik_ae_project_comments",
          "fax_contract_nda_agreement_signed",
          "fax_contract_nda_copy_agreement",
          "draft_final_tonight_hee_first",
          "hp_presentation_accenture_prakash_training",
          "content_the_for_we_send",
          "million_round_series_capital_firm",
          "sms_messaging_messages_users_text",
          "blackberry_handheld_net_wireless_my",
          "blackberry_sms_million_handheld_messaging",
          "resume_resumes_apply_job_cover",
          "resume_apply_jobs_resumes_interactivehq",
          "the_for_content_and_send",
          "hi_sorry_missed_returning_chance",
          "ignore_disregard_previous_reference_message",
          "list_changes_update_change_made",
          "them_these_those_ll_they",
          "it_sent_send_sending_out",
          "location_it_sent_send_out",
          "did_email_got_emails_read",
          "email_emails_did_mail_got",
          "her_she_location_sent_did",
          "voice_voicemail_left_vm_got",
          "voice_voicemail_left_checking_vm",
          "her_voice_she_voicemail_left",
          "meeting_meetings_request_schedule_meet",
          "call_give_ll_called_tomorrow",
          "conference_call_30_set_pst",
          "discuss_initiatives_critical_minute_give",
          "him_conference_he_call_his",
          "him_conference_he_call_his",
          "him_he_her_conference_call",
          "him_call_will_the_he",
          "avocadoit_408_location_call_person"
         ],
         "marker": {
          "color": "black"
         },
         "mode": "markers",
         "showlegend": false,
         "type": "scatter",
         "x": [
          0.5786029685516003,
          0.012992224987556367,
          0.5002295748032665,
          0.10648280573979364,
          0.7174339356862482,
          0.8499736897705271,
          0.5174909680015801,
          0.706791638739471,
          0.8739850197436413,
          0.08768721597647722,
          0.19019887787459033,
          0.5326361608940615,
          0.5983256045731895,
          0.9040895152462654,
          0.9415558052897494,
          0.9777663949510139,
          0.8927898237474649,
          1.0754785210417377,
          0.9120977268361677,
          1.0229532558928263,
          1.1857945362381472,
          0.09466417888505818,
          1.3278952468201008,
          0.914322526971502,
          0.9470167220015522,
          1.2329886762642999,
          1.5036242174998902,
          1.6217943055830246,
          1.6707091662072355,
          0.37378091445703476,
          0.6051559613270825,
          1.0173159959728497,
          1.9014860686548072,
          1.9815507602917584,
          0.2094135534421807,
          0.3791479947595585,
          0.8321042327203938,
          0.7920017889158139,
          0.8722535244021334,
          0.6529715796747064,
          0.6200683940536253,
          0.5784077765592306,
          1.0183427374623042,
          0.7491163490195284,
          0.6742181060421462,
          0.8636666922038532,
          1.0366336988382177,
          1.1704936990900894,
          0.805914938590567,
          1.2505533244369604,
          1.5042781129525609,
          0.5760068940106988,
          0.8223589366508728,
          0.8092648206364124,
          0.9022513964207162,
          0.8033384413844298,
          0.79445519554549,
          0.912704472872377,
          0.9395511030509233,
          0.7859510158780877,
          1.0055946765461092,
          0.7980231802057107,
          1.1093111068964019,
          0.6466949870783848,
          1.1853439452468795,
          0.6998395864535727,
          0.9300302092189279,
          0.7020106304327378,
          0.8837083374576735,
          1.025500218083047,
          0.7797584827450125,
          0.9177837841662853,
          0.9311076919574998,
          0.9649982039300296,
          0.8073470590284003,
          0.8746788096271187,
          0.8134211055825488,
          1.034294584980522,
          1.0851085078165255,
          0.8319617289455585,
          1.0027822866045804,
          1.1320948440605236,
          0.7210097202927795,
          1.0668108930606466,
          0.9712035178738183,
          1.0416533908219996,
          1.1952674825297234,
          0.8854572937297795,
          0.9099506151417253,
          0.970027738628069,
          0.8668535829253693,
          0.8798019206899975,
          0.7970366804141292,
          0.9808575495933337,
          1.0254935181646783,
          0.8631506395043507,
          0.9218614382285026,
          0.9664947092595957,
          0.989929790438781,
          1.0024546560843035,
          0.9109303990701296,
          0.9895758594103811,
          1.0350115870242382,
          0.9619089800156243,
          0.9359617708261445,
          0.9303270844715379,
          0.8372919137860566,
          0.974185183955011,
          1.0610031010747052,
          1.0764417548048686,
          1.1001446561481476,
          0.8859664505324346,
          0.910314026861796,
          0.9213340604723429,
          0.9690936276233215,
          1.06375506367686,
          1.102275037866852,
          1.145490125316356,
          1.2192616670447565,
          1.2672308240111438,
          0.8221180309944587,
          0.9126003080752367,
          0.9006497198835232,
          0.9568190384751395,
          0.9850518630006362,
          0.858362436846412,
          0.7984896369177091,
          0.8472714755912333,
          0.9435141822099139,
          0.969681203021165,
          1.0094720104124217,
          0.7280740336651066,
          1.1564477591629168,
          0.9079725256541943,
          0.8761706348080411,
          0.811948860432186,
          1.0308525641049266,
          1.0721668072187838,
          1.1022096285636784,
          1.185670988930822,
          0.8980580988480845,
          1.0779117070863868,
          0.13741157611269217,
          1.3570630766951177,
          1.4072822696542016,
          0.8715042656752598,
          0.6321185823785502,
          0.47670664226011517,
          1.2281996541311027,
          0.580017993628192,
          0.8408687858670012,
          1.507690243210572,
          0.4505479770290337,
          0.5588262267513306,
          0.764763910220349,
          0.6993941303944244,
          0.4143376115999654,
          0.8105957458041695,
          0.36387166482436584,
          0.8867846040208304,
          0.9557464061056881,
          0.9401296726233088,
          1.0785042319974796,
          1.3300734318721126,
          0.322790624309477,
          0.39243645126708926,
          0.7126738524878807,
          0.8006533596292795,
          1.0612319805947796,
          1.3184942645356323,
          1.5268624261027937,
          1.9587951845871818,
          2.267839920754612
         ],
         "y": [
          -30,
          -60,
          -63.75,
          -107.5,
          -177.5,
          -166.25,
          -210,
          -230,
          -216.25,
          -260,
          -290,
          -360,
          -352.5,
          -410,
          -440,
          -432.5,
          -467.5,
          -442.5,
          -510,
          -500,
          -455.625,
          -530,
          -464.84375,
          -607.5,
          -593.75,
          -575.625,
          -484.0234375,
          -388.88671875,
          -320.693359375,
          -647.5,
          -670,
          -653.125,
          -452.90771484375,
          -281.766357421875,
          -700,
          -737.5,
          -740.625,
          -797.5,
          -786.25,
          -820,
          -847.5,
          -890,
          -880,
          -960,
          -990,
          -1010,
          -996.25,
          -973.125,
          -1037.5,
          -991.40625,
          -921.3671875,
          -1070,
          -1120,
          -1150,
          -1136.875,
          -1190,
          -1210,
          -1287.5,
          -1273.75,
          -1310,
          -1282.8125,
          -1330,
          -1284.453125,
          -1350,
          -1274.47265625,
          -1397.5,
          -1383.75,
          -1440,
          -1520,
          -1510,
          -1570,
          -1610,
          -1650,
          -1640,
          -1680,
          -1730,
          -1750,
          -1735,
          -1709.375,
          -1790,
          -1780,
          -1722.34375,
          -1840,
          -1828.75,
          -1887.5,
          -1873.75,
          -1804.66796875,
          -1920,
          -1957.5,
          -1960.625,
          -1990,
          -2017.5,
          -2040,
          -2107.5,
          -2093.75,
          -2140,
          -2180,
          -2227.5,
          -2266.25,
          -2240,
          -2300,
          -2303.75,
          -2254.375,
          -2340,
          -2360,
          -2380,
          -2400,
          -2427.5,
          -2404.53125,
          -2298.984375,
          -2187.9296875,
          -2467.5,
          -2510,
          -2540,
          -2532.5,
          -2516.25,
          -2486.25,
          -2293.90625,
          -1983.1201171875,
          -1739.06005859375,
          -2580,
          -2607.5,
          -2667.5,
          -2697.5,
          -2676.875,
          -2750,
          -2777.5,
          -2810,
          -2813.75,
          -2786.875,
          -2753.4375,
          -2840,
          -2771.71875,
          -2920,
          -2950,
          -2970,
          -2956.25,
          -2933.125,
          -2906.5625,
          -2883.28125,
          -3036.25,
          -3016.875,
          -3060,
          -2979.658203125,
          -2289.5941162109375,
          -3100,
          -3120,
          -3140,
          -3122.5,
          -3170,
          -3173.75,
          -2832.449264526367,
          -3210,
          -3230,
          -3267.5,
          -3297.5,
          -3340,
          -3343.75,
          -3380,
          -3394.375,
          -3361.875,
          -3447.5,
          -3433.75,
          -3376.5625,
          -3480,
          -3510,
          -3547.5,
          -3570,
          -3550.3125,
          -3511.40625,
          -3403.90625,
          -2729.094982147217,
          -1774.0299129486084
         ]
        }
       ],
       "layout": {
        "autosize": false,
        "height": 5570,
        "hoverlabel": {
         "bgcolor": "white",
         "font": {
          "family": "Rockwell",
          "size": 16
         }
        },
        "hovermode": "closest",
        "plot_bgcolor": "#ECEFF1",
        "showlegend": false,
        "template": {
         "data": {
          "bar": [
           {
            "error_x": {
             "color": "#2a3f5f"
            },
            "error_y": {
             "color": "#2a3f5f"
            },
            "marker": {
             "line": {
              "color": "white",
              "width": 0.5
             },
             "pattern": {
              "fillmode": "overlay",
              "size": 10,
              "solidity": 0.2
             }
            },
            "type": "bar"
           }
          ],
          "barpolar": [
           {
            "marker": {
             "line": {
              "color": "white",
              "width": 0.5
             },
             "pattern": {
              "fillmode": "overlay",
              "size": 10,
              "solidity": 0.2
             }
            },
            "type": "barpolar"
           }
          ],
          "carpet": [
           {
            "aaxis": {
             "endlinecolor": "#2a3f5f",
             "gridcolor": "#C8D4E3",
             "linecolor": "#C8D4E3",
             "minorgridcolor": "#C8D4E3",
             "startlinecolor": "#2a3f5f"
            },
            "baxis": {
             "endlinecolor": "#2a3f5f",
             "gridcolor": "#C8D4E3",
             "linecolor": "#C8D4E3",
             "minorgridcolor": "#C8D4E3",
             "startlinecolor": "#2a3f5f"
            },
            "type": "carpet"
           }
          ],
          "choropleth": [
           {
            "colorbar": {
             "outlinewidth": 0,
             "ticks": ""
            },
            "type": "choropleth"
           }
          ],
          "contour": [
           {
            "colorbar": {
             "outlinewidth": 0,
             "ticks": ""
            },
            "colorscale": [
             [
              0,
              "#0d0887"
             ],
             [
              0.1111111111111111,
              "#46039f"
             ],
             [
              0.2222222222222222,
              "#7201a8"
             ],
             [
              0.3333333333333333,
              "#9c179e"
             ],
             [
              0.4444444444444444,
              "#bd3786"
             ],
             [
              0.5555555555555556,
              "#d8576b"
             ],
             [
              0.6666666666666666,
              "#ed7953"
             ],
             [
              0.7777777777777778,
              "#fb9f3a"
             ],
             [
              0.8888888888888888,
              "#fdca26"
             ],
             [
              1,
              "#f0f921"
             ]
            ],
            "type": "contour"
           }
          ],
          "contourcarpet": [
           {
            "colorbar": {
             "outlinewidth": 0,
             "ticks": ""
            },
            "type": "contourcarpet"
           }
          ],
          "heatmap": [
           {
            "colorbar": {
             "outlinewidth": 0,
             "ticks": ""
            },
            "colorscale": [
             [
              0,
              "#0d0887"
             ],
             [
              0.1111111111111111,
              "#46039f"
             ],
             [
              0.2222222222222222,
              "#7201a8"
             ],
             [
              0.3333333333333333,
              "#9c179e"
             ],
             [
              0.4444444444444444,
              "#bd3786"
             ],
             [
              0.5555555555555556,
              "#d8576b"
             ],
             [
              0.6666666666666666,
              "#ed7953"
             ],
             [
              0.7777777777777778,
              "#fb9f3a"
             ],
             [
              0.8888888888888888,
              "#fdca26"
             ],
             [
              1,
              "#f0f921"
             ]
            ],
            "type": "heatmap"
           }
          ],
          "heatmapgl": [
           {
            "colorbar": {
             "outlinewidth": 0,
             "ticks": ""
            },
            "colorscale": [
             [
              0,
              "#0d0887"
             ],
             [
              0.1111111111111111,
              "#46039f"
             ],
             [
              0.2222222222222222,
              "#7201a8"
             ],
             [
              0.3333333333333333,
              "#9c179e"
             ],
             [
              0.4444444444444444,
              "#bd3786"
             ],
             [
              0.5555555555555556,
              "#d8576b"
             ],
             [
              0.6666666666666666,
              "#ed7953"
             ],
             [
              0.7777777777777778,
              "#fb9f3a"
             ],
             [
              0.8888888888888888,
              "#fdca26"
             ],
             [
              1,
              "#f0f921"
             ]
            ],
            "type": "heatmapgl"
           }
          ],
          "histogram": [
           {
            "marker": {
             "pattern": {
              "fillmode": "overlay",
              "size": 10,
              "solidity": 0.2
             }
            },
            "type": "histogram"
           }
          ],
          "histogram2d": [
           {
            "colorbar": {
             "outlinewidth": 0,
             "ticks": ""
            },
            "colorscale": [
             [
              0,
              "#0d0887"
             ],
             [
              0.1111111111111111,
              "#46039f"
             ],
             [
              0.2222222222222222,
              "#7201a8"
             ],
             [
              0.3333333333333333,
              "#9c179e"
             ],
             [
              0.4444444444444444,
              "#bd3786"
             ],
             [
              0.5555555555555556,
              "#d8576b"
             ],
             [
              0.6666666666666666,
              "#ed7953"
             ],
             [
              0.7777777777777778,
              "#fb9f3a"
             ],
             [
              0.8888888888888888,
              "#fdca26"
             ],
             [
              1,
              "#f0f921"
             ]
            ],
            "type": "histogram2d"
           }
          ],
          "histogram2dcontour": [
           {
            "colorbar": {
             "outlinewidth": 0,
             "ticks": ""
            },
            "colorscale": [
             [
              0,
              "#0d0887"
             ],
             [
              0.1111111111111111,
              "#46039f"
             ],
             [
              0.2222222222222222,
              "#7201a8"
             ],
             [
              0.3333333333333333,
              "#9c179e"
             ],
             [
              0.4444444444444444,
              "#bd3786"
             ],
             [
              0.5555555555555556,
              "#d8576b"
             ],
             [
              0.6666666666666666,
              "#ed7953"
             ],
             [
              0.7777777777777778,
              "#fb9f3a"
             ],
             [
              0.8888888888888888,
              "#fdca26"
             ],
             [
              1,
              "#f0f921"
             ]
            ],
            "type": "histogram2dcontour"
           }
          ],
          "mesh3d": [
           {
            "colorbar": {
             "outlinewidth": 0,
             "ticks": ""
            },
            "type": "mesh3d"
           }
          ],
          "parcoords": [
           {
            "line": {
             "colorbar": {
              "outlinewidth": 0,
              "ticks": ""
             }
            },
            "type": "parcoords"
           }
          ],
          "pie": [
           {
            "automargin": true,
            "type": "pie"
           }
          ],
          "scatter": [
           {
            "fillpattern": {
             "fillmode": "overlay",
             "size": 10,
             "solidity": 0.2
            },
            "type": "scatter"
           }
          ],
          "scatter3d": [
           {
            "line": {
             "colorbar": {
              "outlinewidth": 0,
              "ticks": ""
             }
            },
            "marker": {
             "colorbar": {
              "outlinewidth": 0,
              "ticks": ""
             }
            },
            "type": "scatter3d"
           }
          ],
          "scattercarpet": [
           {
            "marker": {
             "colorbar": {
              "outlinewidth": 0,
              "ticks": ""
             }
            },
            "type": "scattercarpet"
           }
          ],
          "scattergeo": [
           {
            "marker": {
             "colorbar": {
              "outlinewidth": 0,
              "ticks": ""
             }
            },
            "type": "scattergeo"
           }
          ],
          "scattergl": [
           {
            "marker": {
             "colorbar": {
              "outlinewidth": 0,
              "ticks": ""
             }
            },
            "type": "scattergl"
           }
          ],
          "scattermapbox": [
           {
            "marker": {
             "colorbar": {
              "outlinewidth": 0,
              "ticks": ""
             }
            },
            "type": "scattermapbox"
           }
          ],
          "scatterpolar": [
           {
            "marker": {
             "colorbar": {
              "outlinewidth": 0,
              "ticks": ""
             }
            },
            "type": "scatterpolar"
           }
          ],
          "scatterpolargl": [
           {
            "marker": {
             "colorbar": {
              "outlinewidth": 0,
              "ticks": ""
             }
            },
            "type": "scatterpolargl"
           }
          ],
          "scatterternary": [
           {
            "marker": {
             "colorbar": {
              "outlinewidth": 0,
              "ticks": ""
             }
            },
            "type": "scatterternary"
           }
          ],
          "surface": [
           {
            "colorbar": {
             "outlinewidth": 0,
             "ticks": ""
            },
            "colorscale": [
             [
              0,
              "#0d0887"
             ],
             [
              0.1111111111111111,
              "#46039f"
             ],
             [
              0.2222222222222222,
              "#7201a8"
             ],
             [
              0.3333333333333333,
              "#9c179e"
             ],
             [
              0.4444444444444444,
              "#bd3786"
             ],
             [
              0.5555555555555556,
              "#d8576b"
             ],
             [
              0.6666666666666666,
              "#ed7953"
             ],
             [
              0.7777777777777778,
              "#fb9f3a"
             ],
             [
              0.8888888888888888,
              "#fdca26"
             ],
             [
              1,
              "#f0f921"
             ]
            ],
            "type": "surface"
           }
          ],
          "table": [
           {
            "cells": {
             "fill": {
              "color": "#EBF0F8"
             },
             "line": {
              "color": "white"
             }
            },
            "header": {
             "fill": {
              "color": "#C8D4E3"
             },
             "line": {
              "color": "white"
             }
            },
            "type": "table"
           }
          ]
         },
         "layout": {
          "annotationdefaults": {
           "arrowcolor": "#2a3f5f",
           "arrowhead": 0,
           "arrowwidth": 1
          },
          "autotypenumbers": "strict",
          "coloraxis": {
           "colorbar": {
            "outlinewidth": 0,
            "ticks": ""
           }
          },
          "colorscale": {
           "diverging": [
            [
             0,
             "#8e0152"
            ],
            [
             0.1,
             "#c51b7d"
            ],
            [
             0.2,
             "#de77ae"
            ],
            [
             0.3,
             "#f1b6da"
            ],
            [
             0.4,
             "#fde0ef"
            ],
            [
             0.5,
             "#f7f7f7"
            ],
            [
             0.6,
             "#e6f5d0"
            ],
            [
             0.7,
             "#b8e186"
            ],
            [
             0.8,
             "#7fbc41"
            ],
            [
             0.9,
             "#4d9221"
            ],
            [
             1,
             "#276419"
            ]
           ],
           "sequential": [
            [
             0,
             "#0d0887"
            ],
            [
             0.1111111111111111,
             "#46039f"
            ],
            [
             0.2222222222222222,
             "#7201a8"
            ],
            [
             0.3333333333333333,
             "#9c179e"
            ],
            [
             0.4444444444444444,
             "#bd3786"
            ],
            [
             0.5555555555555556,
             "#d8576b"
            ],
            [
             0.6666666666666666,
             "#ed7953"
            ],
            [
             0.7777777777777778,
             "#fb9f3a"
            ],
            [
             0.8888888888888888,
             "#fdca26"
            ],
            [
             1,
             "#f0f921"
            ]
           ],
           "sequentialminus": [
            [
             0,
             "#0d0887"
            ],
            [
             0.1111111111111111,
             "#46039f"
            ],
            [
             0.2222222222222222,
             "#7201a8"
            ],
            [
             0.3333333333333333,
             "#9c179e"
            ],
            [
             0.4444444444444444,
             "#bd3786"
            ],
            [
             0.5555555555555556,
             "#d8576b"
            ],
            [
             0.6666666666666666,
             "#ed7953"
            ],
            [
             0.7777777777777778,
             "#fb9f3a"
            ],
            [
             0.8888888888888888,
             "#fdca26"
            ],
            [
             1,
             "#f0f921"
            ]
           ]
          },
          "colorway": [
           "#636efa",
           "#EF553B",
           "#00cc96",
           "#ab63fa",
           "#FFA15A",
           "#19d3f3",
           "#FF6692",
           "#B6E880",
           "#FF97FF",
           "#FECB52"
          ],
          "font": {
           "color": "#2a3f5f"
          },
          "geo": {
           "bgcolor": "white",
           "lakecolor": "white",
           "landcolor": "white",
           "showlakes": true,
           "showland": true,
           "subunitcolor": "#C8D4E3"
          },
          "hoverlabel": {
           "align": "left"
          },
          "hovermode": "closest",
          "mapbox": {
           "style": "light"
          },
          "paper_bgcolor": "white",
          "plot_bgcolor": "white",
          "polar": {
           "angularaxis": {
            "gridcolor": "#EBF0F8",
            "linecolor": "#EBF0F8",
            "ticks": ""
           },
           "bgcolor": "white",
           "radialaxis": {
            "gridcolor": "#EBF0F8",
            "linecolor": "#EBF0F8",
            "ticks": ""
           }
          },
          "scene": {
           "xaxis": {
            "backgroundcolor": "white",
            "gridcolor": "#DFE8F3",
            "gridwidth": 2,
            "linecolor": "#EBF0F8",
            "showbackground": true,
            "ticks": "",
            "zerolinecolor": "#EBF0F8"
           },
           "yaxis": {
            "backgroundcolor": "white",
            "gridcolor": "#DFE8F3",
            "gridwidth": 2,
            "linecolor": "#EBF0F8",
            "showbackground": true,
            "ticks": "",
            "zerolinecolor": "#EBF0F8"
           },
           "zaxis": {
            "backgroundcolor": "white",
            "gridcolor": "#DFE8F3",
            "gridwidth": 2,
            "linecolor": "#EBF0F8",
            "showbackground": true,
            "ticks": "",
            "zerolinecolor": "#EBF0F8"
           }
          },
          "shapedefaults": {
           "line": {
            "color": "#2a3f5f"
           }
          },
          "ternary": {
           "aaxis": {
            "gridcolor": "#DFE8F3",
            "linecolor": "#A2B1C6",
            "ticks": ""
           },
           "baxis": {
            "gridcolor": "#DFE8F3",
            "linecolor": "#A2B1C6",
            "ticks": ""
           },
           "bgcolor": "white",
           "caxis": {
            "gridcolor": "#DFE8F3",
            "linecolor": "#A2B1C6",
            "ticks": ""
           }
          },
          "title": {
           "x": 0.05
          },
          "xaxis": {
           "automargin": true,
           "gridcolor": "#EBF0F8",
           "linecolor": "#EBF0F8",
           "ticks": "",
           "title": {
            "standoff": 15
           },
           "zerolinecolor": "#EBF0F8",
           "zerolinewidth": 2
          },
          "yaxis": {
           "automargin": true,
           "gridcolor": "#EBF0F8",
           "linecolor": "#EBF0F8",
           "ticks": "",
           "title": {
            "standoff": 15
           },
           "zerolinecolor": "#EBF0F8",
           "zerolinewidth": 2
          }
         }
        },
        "title": {
         "font": {
          "color": "Black",
          "size": 22
         },
         "text": "<b>Hierarchical Clustering</b>",
         "x": 0.5,
         "xanchor": "center",
         "yanchor": "top"
        },
        "width": 1000,
        "xaxis": {
         "mirror": "allticks",
         "rangemode": "tozero",
         "showgrid": false,
         "showline": true,
         "showticklabels": true,
         "ticks": "outside",
         "type": "linear",
         "zeroline": false
        },
        "yaxis": {
         "mirror": "allticks",
         "range": [
          -3580,
          0
         ],
         "rangemode": "tozero",
         "showgrid": false,
         "showline": true,
         "showticklabels": true,
         "tickmode": "array",
         "ticks": "outside",
         "ticktext": [
          "283_evalueexpress_caughlin_...",
          "179_36116_vaughn_thesupersp...",
          "285_dealdelivery_37978415_r...",
          "272_dealseveryday_14715846_...",
          "157_c0olmail_202885_78720",
          "52_offers_33488063_78720",
          "302_offers_202885_78720",
          "268_greatest_specials_everb...",
          "253_private_hotmail_www",
          "62_hotmail_private_msn",
          "83_hotmail_private_msn",
          "240_hotmail_msn_private",
          "344_mobile_msn_hotmail",
          "173_low_04_minute",
          "149_yahoo_domain_instant",
          "169_explorer_msn_download",
          "159_groups_docs_terms",
          "2_extremeprogramming_egroup...",
          "114_panoptic_dossy_computer",
          "293_mayan_soccer_yahoogroup...",
          "193_yahoogroups_tm_group",
          "343_zingaris_yahoogroups_gr...",
          "311_group_st3ward_svamafrie...",
          "286_group_centives_remains",
          "142_praveen_ameritrade_tech...",
          "106_techhelp_ritesh_ameritr...",
          "148_techhelp_ritesh_ameritr...",
          "196_intended_destroy_recipi...",
          "97_notify_error_immediately",
          "166_notify_error_sender",
          "350_delete_deleting_immedia...",
          "201_netaddress_permanent_ad...",
          "292_netaddress_permanent_ma...",
          "260_wunsubsec_129_135",
          "219_prefer_future_click",
          "75_unsubscribe_subject_future",
          "61_remove_removed_removal",
          "313_infoworld_iw_ieletters",
          "271_infoworld_iwsubscribe_n...",
          "158_fiercewireless_fiercewi...",
          "251_internetwire_hotwire_co...",
          "327_newsscan_subscribe_daily",
          "349_digitrends_daily_net",
          "229_thestandard_publisher_l...",
          "320_tremendousbuys_1306473_...",
          "317_cancel_subscription_word",
          "109_newsletter_ivillage_cew...",
          "41_babycenter_baby_1fc7nw",
          "225_realnetworks_trademarks...",
          "21_receiving_because_offers",
          "121_mliang_53488875_link2buy",
          "300_mypoints_bonusmail_points",
          "345_otcjournal_plaintext_pr...",
          "319_otcjournal_plaintext_pr...",
          "205_internet_newsletters_662",
          "258_internet_newsletters_662",
          "334_ipw_list4_mailto",
          "198_reprinting_linking_text",
          "269_allnetdevices_list3_int...",
          "167_stcetsig_stc_34772p",
          "222_subscribed_hrheroline_t...",
          "174_coffeecup_dundee_lyris",
          "95_archives_servlet_java",
          "118_java2d_signoff_body",
          "206_signoff_body_servlet",
          "162_signoff_jsp_body",
          "129_java_jsp_sun",
          "12_jsp_bean_servlet",
          "340_feel_free_anytime",
          "262_feel_questions_free",
          "37_questions_feel_any",
          "57_questions_any_9729",
          "237_questions_any_call",
          "116_questions_any_call",
          "124_give_questions_any",
          "144_concerns_questions_any",
          "248_clarification_clarifica...",
          "284_brainbench_tosupport_se...",
          "226_information_contact_add...",
          "20_contact_questions_any",
          "143_interested_personal_con...",
          "151_details_info_detail",
          "310_links_details_answer",
          "112_hesitate_questions_do",
          "60_assistance_help_hesitate",
          "250_process_steps_hesitate",
          "99_problems_issues_any",
          "212_problems_issues_there",
          "168_issue_solution_problem",
          "331_problem_issue_resolved",
          "323_cell_tried_disconnected",
          "9_cell_my_phone",
          "136_urgent_emergency_cell",
          "264_5240_243_510",
          "236_8530_857_need",
          "134_650_at_408",
          "204_give_408_convienence",
          "177_order_orders_corner",
          "15_800_877_toll",
          "17_408_at_562",
          "307_banking_bank_banks",
          "249_paypal_bank_800",
          "215_instructor_8744_7956",
          "0_avocadoit_562_408",
          "154_era_8039_strategic",
          "279_tests_unit_acceptance",
          "289_test_unit_tests",
          "30_test_results_testing",
          "234_ip_external_addresses",
          "303_servers_server_ip",
          "199_device_header_deviceid",
          "270_pocketpc_pocket_pc",
          "164_application_application...",
          "243_emulator_tcp_netlib",
          "25_palm_vii_emulator",
          "26_pqa_quicken_pqas",
          "337_upperdesign_phpclasses_...",
          "332_url_salesep_urls",
          "194_epservlet_opt_ini",
          "47_etrade_trade_managing",
          "93_alerts_alert_actionable",
          "135_gartner_displaydocument...",
          "150_installer_install_insta...",
          "35_bugzilla_bug_bugs",
          "156_features_feature_release",
          "155_sessions_memory_session",
          "27_item_oca_osa",
          "67_error_page_messages",
          "56_japanese_translation_miy...",
          "64_idc_diva_ae",
          "246_emas_attribute_device",
          "245_ecs_emas_ert",
          "233_ops_request_op",
          "163_pager_ops_pagers",
          "123_build_wilhan_testing",
          "202_wilhan_build_readme",
          "160_vss_files_applicationse...",
          "84_aml_files_pages",
          "132_files_file_these",
          "110_file_files_kaiperm",
          "257_zip_files_file",
          "214_status_progress_update",
          "324_status_report_reports",
          "187_report_reports_instat",
          "239_expense_reports_report",
          "277_correct_wrong_am",
          "224_correct_wrong_directio",
          "104_con_conf_call",
          "178_javadevelopersjournal_s...",
          "211_folders_mailbox_mailboxes",
          "348_mailbox_kb_size",
          "208_32992900_mbx_evoice",
          "188_log_logs_logfile",
          "315_pics_photo_picture",
          "78_pictures_photos_picture",
          "125_content_base64_disposit...",
          "126_attachment_attachments_mb",
          "71_virus_infected_attachment",
          "101_germana_bernsen_loewy",
          "209_thecounter_submissions_...",
          "113_2002_bursts_newsfeed",
          "220_oracle_cout_printers",
          "252_marketing_permission_ye...",
          "34_clickz_advertise_confere...",
          "184_printer_print_pdf",
          "210_verisign_certificate_ce...",
          "265_jokes_funny_laughing",
          "68_people_friends_who",
          "100_000_each_mails",
          "200_taliban_laden_rm",
          "119_xp_windows_process",
          "161_jargon_elsewhere_entry",
          "46_method_class_methods",
          "256_code_sample_gesture",
          "217_html_jfax_hob",
          "207_div_font_html",
          "74_invite_invitations_invit...",
          "278_calendar_outlook_meeting",
          "232_pop3_outlook_pop",
          "338_lotus_thinairapps_notes",
          "33_pricing_price_cost",
          "216_price_dvd_95",
          "172_cd_cds_kmt",
          "51_music_mp3_greeting",
          "22_card_cards_greeting",
          "96_xml_spy_feed",
          "316_exec_edt_art",
          "105_original_2001_pm",
          "79_mime_klg_mimeole",
          "314_synchronizing_36_23",
          "309_help4u_wcom_should",
          "259_number_should_what",
          "238_unconscious_called_wate...",
          "322_initiate_calls_appreciate",
          "59_office_desk_my",
          "181_so_ayec_playanet",
          "89_lunch_dinner_food",
          "287_book_bookpool_books",
          "353_ups_shipment_8900",
          "153_fedex_tracking_ups",
          "76_check_cheque_checks",
          "318_payment_credit_84130",
          "98_invoice_invoices_payment",
          "152_form_forms_fill",
          "346_selectedindex_form_value",
          "261_conditions_pharmaprofes...",
          "111_new_add_account",
          "42_spreadsheet_timesheet_ex...",
          "326_forecast_forecasts_fore...",
          "130_channelwave_channel_0355",
          "241_accounts_contacts_dupli...",
          "297_omnisky_5767_casio",
          "274_vpn_1472__972939405",
          "63_password_username_passwo...",
          "102_webex_password_webexid",
          "213_intel_intellor_pumatech",
          "254_alaska_airlines_air",
          "171_interview_interviews_in...",
          "329_approval_shoot_approve",
          "351_hosting_referencing_tic...",
          "228_europe_european_4437773",
          "301_analysts_analyst_iap",
          "325_usps_locator_deployment",
          "280_ctia_memberservices_str...",
          "263_ibm_audium_db2",
          "145_survey_surveys_healthcare",
          "195_alumni_stanford_gsb",
          "336_983_san_415",
          "308_gardener_fees_taxes",
          "107_license_licensing_licen...",
          "247_weblogic_bea_shutdown",
          "347_netscape_install_putty",
          "175_arun_4212_257",
          "288_shailesh_md5sum_readme",
          "185_agenda_bombard_detailed",
          "223_pda_consistency_identical",
          "227_roopak_tbd_jaigak",
          "321_visio_lower_version",
          "218_resend_paragraph_it",
          "294_dds_approval_final",
          "72_rim_dds_pager",
          "85_logo_logos_eps",
          "357_icons_icon_gif",
          "290_toshi_rishi_icon",
          "330_directions_place_pky",
          "45_hotel_reservations_gate",
          "92_itinerary_travel_flight",
          "65_lifeminders_spotlight_ar...",
          "180_tickets_50_sale",
          "333_gap_brands_women",
          "305_ebay_preferences_indicate",
          "304_win_prize_winners",
          "312_fitness_7348_967",
          "306_rsvp_boat_cruise_2001_g...",
          "339_sitraka_mobility_416",
          "242_dci_colleagues_priority",
          "82_sponsorship_comdex_sponsor",
          "69_event_attend_attending",
          "281_seminar_brochure_informa",
          "352_marilisa_she_sweepstakes",
          "273_pre_show_marilisa",
          "342_collateral_822_sooner",
          "244_fortunata_hermoso_negot...",
          "29_hp_ux_hppartners",
          "127_rfp_rfi_boeing",
          "23_accenture_amit_with",
          "81_biogen_rfi_siebel",
          "165_siebel_siebelwireless_s...",
          "43_prakash_rajeev_meeting",
          "48_venk_meeting_asked",
          "182_dell_laptop_laptops",
          "296_fed_sonata_ex",
          "131_ceo_vp_sales",
          "70_demo_demos_pemex",
          "36_sun_reps_microsystems",
          "14_presentation_slides_pres...",
          "19_wireless_applications_pl...",
          "32_partners_experience_part...",
          "90_technical_engineers_tech",
          "146_proposal_proposals_plan",
          "192_schedule_dates_january",
          "38_training_classes_partici...",
          "266_materials_material_limi...",
          "170_sprint_oncall_verify",
          "328_verizon_sprint_pcs",
          "355_project_plan_projects",
          "49_project_estimate_estimates",
          "44_comments_review_feedback",
          "255_review_before_it",
          "221_prasad_cricket_rajeev",
          "191_rajeev_raj_rajneel",
          "103_srik_srinstitute_srikant",
          "190_docs_doc_doctor",
          "140_cc_ed_cci",
          "298_template_templates_comp...",
          "282_specs_spec_functional",
          "128_scoping_ae_document",
          "120_ae_aes_branch",
          "55_document_documents_pdf",
          "138_copy_document_white",
          "77_copy_soft_hard",
          "18_fax_faxes_number",
          "197_signature_sign_signed",
          "28_contract_agreement_signed",
          "86_nda_mutual_signed",
          "176_draft_final_hee",
          "291_draft_modifications_dahle",
          "231_sony_handsets_recalls",
          "117_nokia_docomo_gprs",
          "230_distance_unlimited_calls",
          "108_million_round_series",
          "39_sms_messaging_messages",
          "341_pictures_mms_camera",
          "299_blackberry_cingular_gprs",
          "58_blackberry_handheld_net",
          "133_jobs_interactivehq_apply",
          "137_apply_resume_cover",
          "16_resume_resumes_job",
          "356_association_digest_aim",
          "335_missed_sorry_missing",
          "183_hi_missed_returning",
          "203_hi_sorry_got",
          "295_disregard_reference_mes...",
          "267_ignore_disregard_previous",
          "186_update_updates_later",
          "94_list_onward_consolidation",
          "115_changes_list_update",
          "139_changes_change_modifica...",
          "66_them_these_those",
          "141_them_they_call",
          "275_contacted_them_contact",
          "5_her_she_said",
          "4_location_in_sent",
          "13_sent_person_it",
          "11_it_again_send",
          "276_jazz_message_sent",
          "88_emails_external_outside",
          "10_email_person_read",
          "24_did_got_email",
          "73_below_see_mail",
          "122_forwarded_forward_forwa...",
          "54_checking_check_emails",
          "235_checking_office_voice",
          "40_voice_voicegenie_speech",
          "8_voicemail_voice_left",
          "80_vm_vmail_left",
          "354_meeting_einstein_ostaff",
          "53_meeting_meetings_request",
          "87_meeting_meetings_set",
          "1_him_he_his",
          "3_call_person_called",
          "7_give_call_ll",
          "147_monday_follow_weekend",
          "91_30_around_10",
          "50_pst_30_call",
          "6_conference_call_set",
          "31_discuss_give_call",
          "189_initiatives_critical_mi..."
         ],
         "tickvals": [
          -5,
          -15,
          -25,
          -35,
          -45,
          -55,
          -65,
          -75,
          -85,
          -95,
          -105,
          -115,
          -125,
          -135,
          -145,
          -155,
          -165,
          -175,
          -185,
          -195,
          -205,
          -215,
          -225,
          -235,
          -245,
          -255,
          -265,
          -275,
          -285,
          -295,
          -305,
          -315,
          -325,
          -335,
          -345,
          -355,
          -365,
          -375,
          -385,
          -395,
          -405,
          -415,
          -425,
          -435,
          -445,
          -455,
          -465,
          -475,
          -485,
          -495,
          -505,
          -515,
          -525,
          -535,
          -545,
          -555,
          -565,
          -575,
          -585,
          -595,
          -605,
          -615,
          -625,
          -635,
          -645,
          -655,
          -665,
          -675,
          -685,
          -695,
          -705,
          -715,
          -725,
          -735,
          -745,
          -755,
          -765,
          -775,
          -785,
          -795,
          -805,
          -815,
          -825,
          -835,
          -845,
          -855,
          -865,
          -875,
          -885,
          -895,
          -905,
          -915,
          -925,
          -935,
          -945,
          -955,
          -965,
          -975,
          -985,
          -995,
          -1005,
          -1015,
          -1025,
          -1035,
          -1045,
          -1055,
          -1065,
          -1075,
          -1085,
          -1095,
          -1105,
          -1115,
          -1125,
          -1135,
          -1145,
          -1155,
          -1165,
          -1175,
          -1185,
          -1195,
          -1205,
          -1215,
          -1225,
          -1235,
          -1245,
          -1255,
          -1265,
          -1275,
          -1285,
          -1295,
          -1305,
          -1315,
          -1325,
          -1335,
          -1345,
          -1355,
          -1365,
          -1375,
          -1385,
          -1395,
          -1405,
          -1415,
          -1425,
          -1435,
          -1445,
          -1455,
          -1465,
          -1475,
          -1485,
          -1495,
          -1505,
          -1515,
          -1525,
          -1535,
          -1545,
          -1555,
          -1565,
          -1575,
          -1585,
          -1595,
          -1605,
          -1615,
          -1625,
          -1635,
          -1645,
          -1655,
          -1665,
          -1675,
          -1685,
          -1695,
          -1705,
          -1715,
          -1725,
          -1735,
          -1745,
          -1755,
          -1765,
          -1775,
          -1785,
          -1795,
          -1805,
          -1815,
          -1825,
          -1835,
          -1845,
          -1855,
          -1865,
          -1875,
          -1885,
          -1895,
          -1905,
          -1915,
          -1925,
          -1935,
          -1945,
          -1955,
          -1965,
          -1975,
          -1985,
          -1995,
          -2005,
          -2015,
          -2025,
          -2035,
          -2045,
          -2055,
          -2065,
          -2075,
          -2085,
          -2095,
          -2105,
          -2115,
          -2125,
          -2135,
          -2145,
          -2155,
          -2165,
          -2175,
          -2185,
          -2195,
          -2205,
          -2215,
          -2225,
          -2235,
          -2245,
          -2255,
          -2265,
          -2275,
          -2285,
          -2295,
          -2305,
          -2315,
          -2325,
          -2335,
          -2345,
          -2355,
          -2365,
          -2375,
          -2385,
          -2395,
          -2405,
          -2415,
          -2425,
          -2435,
          -2445,
          -2455,
          -2465,
          -2475,
          -2485,
          -2495,
          -2505,
          -2515,
          -2525,
          -2535,
          -2545,
          -2555,
          -2565,
          -2575,
          -2585,
          -2595,
          -2605,
          -2615,
          -2625,
          -2635,
          -2645,
          -2655,
          -2665,
          -2675,
          -2685,
          -2695,
          -2705,
          -2715,
          -2725,
          -2735,
          -2745,
          -2755,
          -2765,
          -2775,
          -2785,
          -2795,
          -2805,
          -2815,
          -2825,
          -2835,
          -2845,
          -2855,
          -2865,
          -2875,
          -2885,
          -2895,
          -2905,
          -2915,
          -2925,
          -2935,
          -2945,
          -2955,
          -2965,
          -2975,
          -2985,
          -2995,
          -3005,
          -3015,
          -3025,
          -3035,
          -3045,
          -3055,
          -3065,
          -3075,
          -3085,
          -3095,
          -3105,
          -3115,
          -3125,
          -3135,
          -3145,
          -3155,
          -3165,
          -3175,
          -3185,
          -3195,
          -3205,
          -3215,
          -3225,
          -3235,
          -3245,
          -3255,
          -3265,
          -3275,
          -3285,
          -3295,
          -3305,
          -3315,
          -3325,
          -3335,
          -3345,
          -3355,
          -3365,
          -3375,
          -3385,
          -3395,
          -3405,
          -3415,
          -3425,
          -3435,
          -3445,
          -3455,
          -3465,
          -3475,
          -3485,
          -3495,
          -3505,
          -3515,
          -3525,
          -3535,
          -3545,
          -3555,
          -3565,
          -3575
         ],
         "type": "linear",
         "zeroline": false
        }
       }
      }
     },
     "metadata": {},
     "output_type": "display_data"
    }
   ],
   "source": [
    "topic_model.visualize_hierarchy(hierarchical_topics=hierarchical_topics)"
   ]
  },
  {
   "cell_type": "markdown",
   "metadata": {},
   "source": [
    "## Merging Topics"
   ]
  },
  {
   "cell_type": "code",
   "execution_count": 626,
   "metadata": {},
   "outputs": [
    {
     "name": "stdout",
     "output_type": "stream",
     "text": [
      "Topic: 80\n",
      "\n",
      "Top Words:\n",
      "hesitate, questions, do, any, contact, not, have, please, if, me, \n",
      "\n",
      "Representative Target Sentences: \n",
      "Please do not hesitate to contact me if you have any questions .\n",
      "If you   have any questions , please do not hesitate to contact me .\n",
      "Please do not hesitate to contact me if you have any   questions .\n"
     ]
    }
   ],
   "source": [
    "topic_nr = 80\n",
    "inspect_topic(topic_model,topic_nr)"
   ]
  },
  {
   "cell_type": "code",
   "execution_count": null,
   "metadata": {},
   "outputs": [],
   "source": [
    "topic_model.merge_topics(docs, [-1,topic_nr])"
   ]
  },
  {
   "cell_type": "code",
   "execution_count": 89,
   "metadata": {},
   "outputs": [],
   "source": [
    "create_custom_label(\"\", )"
   ]
  },
  {
   "cell_type": "code",
   "execution_count": 22,
   "metadata": {},
   "outputs": [
    {
     "name": "stdout",
     "output_type": "stream",
     "text": [
      "Number of Documents: 1023\n",
      "\n",
      "I 'd like to send and recieve email ( in [LOCATION] ) with my Magic Link .\n",
      "As soon as I get more information I will send another update .    [LOCATION] .\n",
      "We prefer to send people within the territory to their shows .\n",
      "If you need help for [LOCATION] side , please call me .\n",
      "The Depatment of Managed Health Care has requested that   United Healthcare of [LOCATION] send a letter to enrolled subscribers .\n",
      "[PERSON] from the headhunters also called me - he said it was a 12 hour flight to [LOCATION] from where [PERSON] was in [LOCATION] !\n",
      "If you 're OK with it , feel free to send it to [LOCATION] [LOCATION]    [PERSON] .\n",
      "Please contact me if I can be of help   to you .    _ _ _ _ _ _ _ _ _ _ _ _ _ _ _ _ _ _ _ _ _ _ _ _ _ _ _ _ _ _ _ _ _ _ _ _ _ _ _ _ _ _ _ _ _ _ _ _ _ _   Terrorist Attacks on [LOCATION] - How can you help ?\n",
      "I think we should make sure that we send this to the folks in [LOCATION] also .\n",
      "[PERSON] , please send the attached energy alert out to all [LOCATION] [LOCATION] employees .\n",
      "Venk ,    Now that you have convinced [PERSON] that we should get rid of [LOCATION] can you send me the mail to follow up on the Sybase interest ?\n",
      "I 'm not sure how I got this e - mail ( spam ) this morning , but it includes a list of all the people in [LOCATION] 's Alliance Database .\n",
      "IF yes , can you please   tell me what 's the outcome ?   Thanks , [LOCATION] .\n",
      "After you send it back to me , I will forward it on to [LOCATION] .\n",
      "I mentioned to him that   [PERSON] [PERSON] had some thoughts on a possible work around using [LOCATION] or [LOCATION]   Script ( I ca n't remember which ) .\n",
      "So call your sweetheart in [LOCATION] , your friends in [LOCATION] or your compadres in [LOCATION] and tell them you 're on your way !\n",
      "Subject :   Please call [PERSON] [PERSON] at [LOCATION] .\n",
      "QUEUES   Passengers waiting at bus stops in [LOCATION] will soon be able to call up   travel information in the form of text messages .\n",
      "I also sent [PERSON] the updated BS with the one & only change   for [LOCATION] figures .\n",
      "Please read them and send comments from [LOCATION] point of view .\n"
     ]
    }
   ],
   "source": [
    "documents = [docs[i] for i, topic in enumerate(topic_model.topics_) if topic == topic_nr]\n",
    "print('Number of Documents: '+str(len(documents))+'\\n')\n",
    "for i in range(20):\n",
    "    print(documents[i])"
   ]
  },
  {
   "cell_type": "code",
   "execution_count": 668,
   "metadata": {},
   "outputs": [
    {
     "data": {
      "text/plain": [
       "238"
      ]
     },
     "execution_count": 668,
     "metadata": {},
     "output_type": "execute_result"
    }
   ],
   "source": [
    "len(topic_model.get_topics())"
   ]
  },
  {
   "cell_type": "code",
   "execution_count": 704,
   "metadata": {},
   "outputs": [
    {
     "name": "stderr",
     "output_type": "stream",
     "text": [
      "2024-11-02 17:02:36,428 - BERTopic - WARNING: When you use `pickle` to save/load a BERTopic model,please make sure that the environments in which you saveand load the model are **exactly** the same. The version of BERTopic,its dependencies, and python need to remain the same.\n"
     ]
    }
   ],
   "source": [
    "topic_model.save(\"../../data/bertopic_models/intent/send_new/send_processed\")"
   ]
  },
  {
   "cell_type": "code",
   "execution_count": 627,
   "metadata": {},
   "outputs": [
    {
     "data": {
      "application/vnd.plotly.v1+json": {
       "config": {
        "plotlyServerURL": "https://plot.ly"
       },
       "data": [
        {
         "hoverinfo": "text",
         "marker": {
          "color": "rgb(61,153,112)"
         },
         "mode": "lines",
         "type": "scatter",
         "x": [
          0,
          0.3846929808467804,
          0.3846929808467804,
          0
         ],
         "xaxis": "x",
         "y": [
          -5,
          -5,
          -15,
          -15
         ],
         "yaxis": "y"
        },
        {
         "hoverinfo": "text",
         "marker": {
          "color": "rgb(61,153,112)"
         },
         "mode": "lines",
         "type": "scatter",
         "x": [
          0.3846929808467804,
          0.7817073019298205,
          0.7817073019298205,
          0
         ],
         "xaxis": "x",
         "y": [
          -10,
          -10,
          -25,
          -25
         ],
         "yaxis": "y"
        },
        {
         "hoverinfo": "text",
         "marker": {
          "color": "rgb(255,65,54)"
         },
         "mode": "lines",
         "type": "scatter",
         "x": [
          0,
          0.6575451291216918,
          0.6575451291216918,
          0
         ],
         "xaxis": "x",
         "y": [
          -35,
          -35,
          -45,
          -45
         ],
         "yaxis": "y"
        },
        {
         "hoverinfo": "text",
         "marker": {
          "color": "rgb(255,65,54)"
         },
         "mode": "lines",
         "type": "scatter",
         "x": [
          0,
          0.6761744947521782,
          0.6761744947521782,
          0
         ],
         "xaxis": "x",
         "y": [
          -55,
          -55,
          -65,
          -65
         ],
         "yaxis": "y"
        },
        {
         "hoverinfo": "text",
         "marker": {
          "color": "rgb(255,65,54)"
         },
         "mode": "lines",
         "type": "scatter",
         "x": [
          0.6575451291216918,
          0.8287489502640002,
          0.8287489502640002,
          0.6761744947521782
         ],
         "xaxis": "x",
         "y": [
          -40,
          -40,
          -60,
          -60
         ],
         "yaxis": "y"
        },
        {
         "hoverinfo": "text",
         "marker": {
          "color": "rgb(0,116,217)"
         },
         "mode": "lines",
         "type": "scatter",
         "x": [
          0.7817073019298205,
          1.1700714040059677,
          1.1700714040059677,
          0.8287489502640002
         ],
         "xaxis": "x",
         "y": [
          -17.5,
          -17.5,
          -50,
          -50
         ],
         "yaxis": "y"
        },
        {
         "hoverinfo": "text",
         "marker": {
          "color": "rgb(35,205,205)"
         },
         "mode": "lines",
         "type": "scatter",
         "x": [
          0,
          0.2775951303911932,
          0.2775951303911932,
          0
         ],
         "xaxis": "x",
         "y": [
          -95,
          -95,
          -105,
          -105
         ],
         "yaxis": "y"
        },
        {
         "hoverinfo": "text",
         "marker": {
          "color": "rgb(35,205,205)"
         },
         "mode": "lines",
         "type": "scatter",
         "x": [
          0.2775951303911932,
          0.6679700752648597,
          0.6679700752648597,
          0
         ],
         "xaxis": "x",
         "y": [
          -100,
          -100,
          -115,
          -115
         ],
         "yaxis": "y"
        },
        {
         "hoverinfo": "text",
         "marker": {
          "color": "rgb(35,205,205)"
         },
         "mode": "lines",
         "type": "scatter",
         "x": [
          0,
          0.7443060290288783,
          0.7443060290288783,
          0.6679700752648597
         ],
         "xaxis": "x",
         "y": [
          -85,
          -85,
          -107.5,
          -107.5
         ],
         "yaxis": "y"
        },
        {
         "hoverinfo": "text",
         "marker": {
          "color": "rgb(35,205,205)"
         },
         "mode": "lines",
         "type": "scatter",
         "x": [
          0,
          0.9086539904407668,
          0.9086539904407668,
          0.7443060290288783
         ],
         "xaxis": "x",
         "y": [
          -75,
          -75,
          -96.25,
          -96.25
         ],
         "yaxis": "y"
        },
        {
         "hoverinfo": "text",
         "marker": {
          "color": "rgb(133,20,75)"
         },
         "mode": "lines",
         "type": "scatter",
         "x": [
          0,
          0.5450394562724071,
          0.5450394562724071,
          0
         ],
         "xaxis": "x",
         "y": [
          -125,
          -125,
          -135,
          -135
         ],
         "yaxis": "y"
        },
        {
         "hoverinfo": "text",
         "marker": {
          "color": "rgb(133,20,75)"
         },
         "mode": "lines",
         "type": "scatter",
         "x": [
          0.5450394562724071,
          0.5759772609083371,
          0.5759772609083371,
          0
         ],
         "xaxis": "x",
         "y": [
          -130,
          -130,
          -145,
          -145
         ],
         "yaxis": "y"
        },
        {
         "hoverinfo": "text",
         "marker": {
          "color": "rgb(0,116,217)"
         },
         "mode": "lines",
         "type": "scatter",
         "x": [
          0.9086539904407668,
          1.0568612003392097,
          1.0568612003392097,
          0.5759772609083371
         ],
         "xaxis": "x",
         "y": [
          -85.625,
          -85.625,
          -137.5,
          -137.5
         ],
         "yaxis": "y"
        },
        {
         "hoverinfo": "text",
         "marker": {
          "color": "rgb(255,220,0)"
         },
         "mode": "lines",
         "type": "scatter",
         "x": [
          0,
          0.6114460118889463,
          0.6114460118889463,
          0
         ],
         "xaxis": "x",
         "y": [
          -155,
          -155,
          -165,
          -165
         ],
         "yaxis": "y"
        },
        {
         "hoverinfo": "text",
         "marker": {
          "color": "rgb(255,220,0)"
         },
         "mode": "lines",
         "type": "scatter",
         "x": [
          0,
          0.44833846355805496,
          0.44833846355805496,
          0
         ],
         "xaxis": "x",
         "y": [
          -175,
          -175,
          -185,
          -185
         ],
         "yaxis": "y"
        },
        {
         "hoverinfo": "text",
         "marker": {
          "color": "rgb(255,220,0)"
         },
         "mode": "lines",
         "type": "scatter",
         "x": [
          0.44833846355805496,
          0.7148768309192993,
          0.7148768309192993,
          0
         ],
         "xaxis": "x",
         "y": [
          -180,
          -180,
          -195,
          -195
         ],
         "yaxis": "y"
        },
        {
         "hoverinfo": "text",
         "marker": {
          "color": "rgb(255,220,0)"
         },
         "mode": "lines",
         "type": "scatter",
         "x": [
          0.6114460118889463,
          0.872011255011097,
          0.872011255011097,
          0.7148768309192993
         ],
         "xaxis": "x",
         "y": [
          -160,
          -160,
          -187.5,
          -187.5
         ],
         "yaxis": "y"
        },
        {
         "hoverinfo": "text",
         "marker": {
          "color": "rgb(40,35,35)"
         },
         "mode": "lines",
         "type": "scatter",
         "x": [
          0,
          0.6165112720847706,
          0.6165112720847706,
          0
         ],
         "xaxis": "x",
         "y": [
          -205,
          -205,
          -215,
          -215
         ],
         "yaxis": "y"
        },
        {
         "hoverinfo": "text",
         "marker": {
          "color": "rgb(0,116,217)"
         },
         "mode": "lines",
         "type": "scatter",
         "x": [
          0.872011255011097,
          1.0290816381405266,
          1.0290816381405266,
          0.6165112720847706
         ],
         "xaxis": "x",
         "y": [
          -173.75,
          -173.75,
          -210,
          -210
         ],
         "yaxis": "y"
        },
        {
         "hoverinfo": "text",
         "marker": {
          "color": "rgb(0,116,217)"
         },
         "mode": "lines",
         "type": "scatter",
         "x": [
          1.0568612003392097,
          1.22415479557549,
          1.22415479557549,
          1.0290816381405266
         ],
         "xaxis": "x",
         "y": [
          -111.5625,
          -111.5625,
          -191.875,
          -191.875
         ],
         "yaxis": "y"
        },
        {
         "hoverinfo": "text",
         "marker": {
          "color": "rgb(61,153,112)"
         },
         "mode": "lines",
         "type": "scatter",
         "x": [
          0,
          0.2582675658854895,
          0.2582675658854895,
          0
         ],
         "xaxis": "x",
         "y": [
          -225,
          -225,
          -235,
          -235
         ],
         "yaxis": "y"
        },
        {
         "hoverinfo": "text",
         "marker": {
          "color": "rgb(61,153,112)"
         },
         "mode": "lines",
         "type": "scatter",
         "x": [
          0,
          0.5407783826822552,
          0.5407783826822552,
          0
         ],
         "xaxis": "x",
         "y": [
          -245,
          -245,
          -255,
          -255
         ],
         "yaxis": "y"
        },
        {
         "hoverinfo": "text",
         "marker": {
          "color": "rgb(61,153,112)"
         },
         "mode": "lines",
         "type": "scatter",
         "x": [
          0.2582675658854895,
          0.9876817337258487,
          0.9876817337258487,
          0.5407783826822552
         ],
         "xaxis": "x",
         "y": [
          -230,
          -230,
          -250,
          -250
         ],
         "yaxis": "y"
        },
        {
         "hoverinfo": "text",
         "marker": {
          "color": "rgb(0,116,217)"
         },
         "mode": "lines",
         "type": "scatter",
         "x": [
          1.22415479557549,
          1.2942763866397713,
          1.2942763866397713,
          0.9876817337258487
         ],
         "xaxis": "x",
         "y": [
          -151.71875,
          -151.71875,
          -240,
          -240
         ],
         "yaxis": "y"
        },
        {
         "hoverinfo": "text",
         "marker": {
          "color": "rgb(0,116,217)"
         },
         "mode": "lines",
         "type": "scatter",
         "x": [
          1.1700714040059677,
          1.4419730845246157,
          1.4419730845246157,
          1.2942763866397713
         ],
         "xaxis": "x",
         "y": [
          -33.75,
          -33.75,
          -195.859375,
          -195.859375
         ],
         "yaxis": "y"
        },
        {
         "hoverinfo": "text",
         "marker": {
          "color": "rgb(255,65,54)"
         },
         "mode": "lines",
         "type": "scatter",
         "x": [
          0,
          0.378181099943493,
          0.378181099943493,
          0
         ],
         "xaxis": "x",
         "y": [
          -265,
          -265,
          -275,
          -275
         ],
         "yaxis": "y"
        },
        {
         "hoverinfo": "text",
         "marker": {
          "color": "rgb(255,65,54)"
         },
         "mode": "lines",
         "type": "scatter",
         "x": [
          0,
          0.6727841285266052,
          0.6727841285266052,
          0
         ],
         "xaxis": "x",
         "y": [
          -285,
          -285,
          -295,
          -295
         ],
         "yaxis": "y"
        },
        {
         "hoverinfo": "text",
         "marker": {
          "color": "rgb(255,65,54)"
         },
         "mode": "lines",
         "type": "scatter",
         "x": [
          0.378181099943493,
          0.9783323774391007,
          0.9783323774391007,
          0.6727841285266052
         ],
         "xaxis": "x",
         "y": [
          -270,
          -270,
          -290,
          -290
         ],
         "yaxis": "y"
        },
        {
         "hoverinfo": "text",
         "marker": {
          "color": "rgb(35,205,205)"
         },
         "mode": "lines",
         "type": "scatter",
         "x": [
          0,
          0.31920351113389367,
          0.31920351113389367,
          0
         ],
         "xaxis": "x",
         "y": [
          -325,
          -325,
          -335,
          -335
         ],
         "yaxis": "y"
        },
        {
         "hoverinfo": "text",
         "marker": {
          "color": "rgb(35,205,205)"
         },
         "mode": "lines",
         "type": "scatter",
         "x": [
          0.31920351113389367,
          0.6339636602795712,
          0.6339636602795712,
          0
         ],
         "xaxis": "x",
         "y": [
          -330,
          -330,
          -345,
          -345
         ],
         "yaxis": "y"
        },
        {
         "hoverinfo": "text",
         "marker": {
          "color": "rgb(35,205,205)"
         },
         "mode": "lines",
         "type": "scatter",
         "x": [
          0,
          0.7014472669899837,
          0.7014472669899837,
          0.6339636602795712
         ],
         "xaxis": "x",
         "y": [
          -315,
          -315,
          -337.5,
          -337.5
         ],
         "yaxis": "y"
        },
        {
         "hoverinfo": "text",
         "marker": {
          "color": "rgb(35,205,205)"
         },
         "mode": "lines",
         "type": "scatter",
         "x": [
          0,
          0.8373384562127945,
          0.8373384562127945,
          0.7014472669899837
         ],
         "xaxis": "x",
         "y": [
          -305,
          -305,
          -326.25,
          -326.25
         ],
         "yaxis": "y"
        },
        {
         "hoverinfo": "text",
         "marker": {
          "color": "rgb(35,205,205)"
         },
         "mode": "lines",
         "type": "scatter",
         "x": [
          0,
          0.3537132682827381,
          0.3537132682827381,
          0
         ],
         "xaxis": "x",
         "y": [
          -355,
          -355,
          -365,
          -365
         ],
         "yaxis": "y"
        },
        {
         "hoverinfo": "text",
         "marker": {
          "color": "rgb(35,205,205)"
         },
         "mode": "lines",
         "type": "scatter",
         "x": [
          0.3537132682827381,
          0.7367926893047397,
          0.7367926893047397,
          0
         ],
         "xaxis": "x",
         "y": [
          -360,
          -360,
          -375,
          -375
         ],
         "yaxis": "y"
        },
        {
         "hoverinfo": "text",
         "marker": {
          "color": "rgb(35,205,205)"
         },
         "mode": "lines",
         "type": "scatter",
         "x": [
          0.8373384562127945,
          0.9070201849180382,
          0.9070201849180382,
          0.7367926893047397
         ],
         "xaxis": "x",
         "y": [
          -315.625,
          -315.625,
          -367.5,
          -367.5
         ],
         "yaxis": "y"
        },
        {
         "hoverinfo": "text",
         "marker": {
          "color": "rgb(61,153,112)"
         },
         "mode": "lines",
         "type": "scatter",
         "x": [
          0,
          0.5630431615432494,
          0.5630431615432494,
          0
         ],
         "xaxis": "x",
         "y": [
          -385,
          -385,
          -395,
          -395
         ],
         "yaxis": "y"
        },
        {
         "hoverinfo": "text",
         "marker": {
          "color": "rgb(255,65,54)"
         },
         "mode": "lines",
         "type": "scatter",
         "x": [
          0,
          0.4733654573675,
          0.4733654573675,
          0
         ],
         "xaxis": "x",
         "y": [
          -415,
          -415,
          -425,
          -425
         ],
         "yaxis": "y"
        },
        {
         "hoverinfo": "text",
         "marker": {
          "color": "rgb(255,65,54)"
         },
         "mode": "lines",
         "type": "scatter",
         "x": [
          0,
          0.7019501361691006,
          0.7019501361691006,
          0.4733654573675
         ],
         "xaxis": "x",
         "y": [
          -405,
          -405,
          -420,
          -420
         ],
         "yaxis": "y"
        },
        {
         "hoverinfo": "text",
         "marker": {
          "color": "rgb(35,205,205)"
         },
         "mode": "lines",
         "type": "scatter",
         "x": [
          0,
          0.8143381053616894,
          0.8143381053616894,
          0
         ],
         "xaxis": "x",
         "y": [
          -435,
          -435,
          -445,
          -445
         ],
         "yaxis": "y"
        },
        {
         "hoverinfo": "text",
         "marker": {
          "color": "rgb(35,205,205)"
         },
         "mode": "lines",
         "type": "scatter",
         "x": [
          0.8143381053616894,
          0.8385760377225883,
          0.8385760377225883,
          0
         ],
         "xaxis": "x",
         "y": [
          -440,
          -440,
          -455,
          -455
         ],
         "yaxis": "y"
        },
        {
         "hoverinfo": "text",
         "marker": {
          "color": "rgb(35,205,205)"
         },
         "mode": "lines",
         "type": "scatter",
         "x": [
          0.8385760377225883,
          0.8763541965944924,
          0.8763541965944924,
          0
         ],
         "xaxis": "x",
         "y": [
          -447.5,
          -447.5,
          -465,
          -465
         ],
         "yaxis": "y"
        },
        {
         "hoverinfo": "text",
         "marker": {
          "color": "rgb(0,116,217)"
         },
         "mode": "lines",
         "type": "scatter",
         "x": [
          0.7019501361691006,
          1.045168112079447,
          1.045168112079447,
          0.8763541965944924
         ],
         "xaxis": "x",
         "y": [
          -412.5,
          -412.5,
          -456.25,
          -456.25
         ],
         "yaxis": "y"
        },
        {
         "hoverinfo": "text",
         "marker": {
          "color": "rgb(0,116,217)"
         },
         "mode": "lines",
         "type": "scatter",
         "x": [
          0.5630431615432494,
          1.2261175473278232,
          1.2261175473278232,
          1.045168112079447
         ],
         "xaxis": "x",
         "y": [
          -390,
          -390,
          -434.375,
          -434.375
         ],
         "yaxis": "y"
        },
        {
         "hoverinfo": "text",
         "marker": {
          "color": "rgb(133,20,75)"
         },
         "mode": "lines",
         "type": "scatter",
         "x": [
          0,
          0.4184112550090242,
          0.4184112550090242,
          0
         ],
         "xaxis": "x",
         "y": [
          -485,
          -485,
          -495,
          -495
         ],
         "yaxis": "y"
        },
        {
         "hoverinfo": "text",
         "marker": {
          "color": "rgb(133,20,75)"
         },
         "mode": "lines",
         "type": "scatter",
         "x": [
          0,
          0.6336204258780749,
          0.6336204258780749,
          0.4184112550090242
         ],
         "xaxis": "x",
         "y": [
          -475,
          -475,
          -490,
          -490
         ],
         "yaxis": "y"
        },
        {
         "hoverinfo": "text",
         "marker": {
          "color": "rgb(255,220,0)"
         },
         "mode": "lines",
         "type": "scatter",
         "x": [
          0,
          0.49035289582135,
          0.49035289582135,
          0
         ],
         "xaxis": "x",
         "y": [
          -515,
          -515,
          -525,
          -525
         ],
         "yaxis": "y"
        },
        {
         "hoverinfo": "text",
         "marker": {
          "color": "rgb(255,220,0)"
         },
         "mode": "lines",
         "type": "scatter",
         "x": [
          0,
          0.7428950328989333,
          0.7428950328989333,
          0.49035289582135
         ],
         "xaxis": "x",
         "y": [
          -505,
          -505,
          -520,
          -520
         ],
         "yaxis": "y"
        },
        {
         "hoverinfo": "text",
         "marker": {
          "color": "rgb(255,220,0)"
         },
         "mode": "lines",
         "type": "scatter",
         "x": [
          0.7428950328989333,
          0.8818123692479878,
          0.8818123692479878,
          0
         ],
         "xaxis": "x",
         "y": [
          -512.5,
          -512.5,
          -535,
          -535
         ],
         "yaxis": "y"
        },
        {
         "hoverinfo": "text",
         "marker": {
          "color": "rgb(0,116,217)"
         },
         "mode": "lines",
         "type": "scatter",
         "x": [
          0.6336204258780749,
          1.1508086265921729,
          1.1508086265921729,
          0.8818123692479878
         ],
         "xaxis": "x",
         "y": [
          -482.5,
          -482.5,
          -523.75,
          -523.75
         ],
         "yaxis": "y"
        },
        {
         "hoverinfo": "text",
         "marker": {
          "color": "rgb(40,35,35)"
         },
         "mode": "lines",
         "type": "scatter",
         "x": [
          0,
          0.7860516698247125,
          0.7860516698247125,
          0
         ],
         "xaxis": "x",
         "y": [
          -555,
          -555,
          -565,
          -565
         ],
         "yaxis": "y"
        },
        {
         "hoverinfo": "text",
         "marker": {
          "color": "rgb(40,35,35)"
         },
         "mode": "lines",
         "type": "scatter",
         "x": [
          0,
          0.966055117638512,
          0.966055117638512,
          0.7860516698247125
         ],
         "xaxis": "x",
         "y": [
          -545,
          -545,
          -560,
          -560
         ],
         "yaxis": "y"
        },
        {
         "hoverinfo": "text",
         "marker": {
          "color": "rgb(61,153,112)"
         },
         "mode": "lines",
         "type": "scatter",
         "x": [
          0,
          0.894704867620874,
          0.894704867620874,
          0
         ],
         "xaxis": "x",
         "y": [
          -575,
          -575,
          -585,
          -585
         ],
         "yaxis": "y"
        },
        {
         "hoverinfo": "text",
         "marker": {
          "color": "rgb(61,153,112)"
         },
         "mode": "lines",
         "type": "scatter",
         "x": [
          0,
          0.8980411756389871,
          0.8980411756389871,
          0
         ],
         "xaxis": "x",
         "y": [
          -595,
          -595,
          -605,
          -605
         ],
         "yaxis": "y"
        },
        {
         "hoverinfo": "text",
         "marker": {
          "color": "rgb(61,153,112)"
         },
         "mode": "lines",
         "type": "scatter",
         "x": [
          0,
          0.8620897968527166,
          0.8620897968527166,
          0
         ],
         "xaxis": "x",
         "y": [
          -615,
          -615,
          -625,
          -625
         ],
         "yaxis": "y"
        },
        {
         "hoverinfo": "text",
         "marker": {
          "color": "rgb(61,153,112)"
         },
         "mode": "lines",
         "type": "scatter",
         "x": [
          0.8620897968527166,
          0.9073407554057091,
          0.9073407554057091,
          0
         ],
         "xaxis": "x",
         "y": [
          -620,
          -620,
          -635,
          -635
         ],
         "yaxis": "y"
        },
        {
         "hoverinfo": "text",
         "marker": {
          "color": "rgb(61,153,112)"
         },
         "mode": "lines",
         "type": "scatter",
         "x": [
          0.8980411756389871,
          0.9291962068302133,
          0.9291962068302133,
          0.9073407554057091
         ],
         "xaxis": "x",
         "y": [
          -600,
          -600,
          -627.5,
          -627.5
         ],
         "yaxis": "y"
        },
        {
         "hoverinfo": "text",
         "marker": {
          "color": "rgb(61,153,112)"
         },
         "mode": "lines",
         "type": "scatter",
         "x": [
          0.894704867620874,
          0.9560843947601751,
          0.9560843947601751,
          0.9291962068302133
         ],
         "xaxis": "x",
         "y": [
          -580,
          -580,
          -613.75,
          -613.75
         ],
         "yaxis": "y"
        },
        {
         "hoverinfo": "text",
         "marker": {
          "color": "rgb(61,153,112)"
         },
         "mode": "lines",
         "type": "scatter",
         "x": [
          0,
          0.9051831365878213,
          0.9051831365878213,
          0
         ],
         "xaxis": "x",
         "y": [
          -645,
          -645,
          -655,
          -655
         ],
         "yaxis": "y"
        },
        {
         "hoverinfo": "text",
         "marker": {
          "color": "rgb(61,153,112)"
         },
         "mode": "lines",
         "type": "scatter",
         "x": [
          0.9560843947601751,
          0.972591070922787,
          0.972591070922787,
          0.9051831365878213
         ],
         "xaxis": "x",
         "y": [
          -596.875,
          -596.875,
          -650,
          -650
         ],
         "yaxis": "y"
        },
        {
         "hoverinfo": "text",
         "marker": {
          "color": "rgb(255,65,54)"
         },
         "mode": "lines",
         "type": "scatter",
         "x": [
          0,
          0.9062214848377661,
          0.9062214848377661,
          0
         ],
         "xaxis": "x",
         "y": [
          -665,
          -665,
          -675,
          -675
         ],
         "yaxis": "y"
        },
        {
         "hoverinfo": "text",
         "marker": {
          "color": "rgb(255,65,54)"
         },
         "mode": "lines",
         "type": "scatter",
         "x": [
          0,
          0.9159267259713628,
          0.9159267259713628,
          0
         ],
         "xaxis": "x",
         "y": [
          -695,
          -695,
          -705,
          -705
         ],
         "yaxis": "y"
        },
        {
         "hoverinfo": "text",
         "marker": {
          "color": "rgb(255,65,54)"
         },
         "mode": "lines",
         "type": "scatter",
         "x": [
          0,
          0.9584694294032079,
          0.9584694294032079,
          0.9159267259713628
         ],
         "xaxis": "x",
         "y": [
          -685,
          -685,
          -700,
          -700
         ],
         "yaxis": "y"
        },
        {
         "hoverinfo": "text",
         "marker": {
          "color": "rgb(255,65,54)"
         },
         "mode": "lines",
         "type": "scatter",
         "x": [
          0.9062214848377661,
          0.9779061838457243,
          0.9779061838457243,
          0.9584694294032079
         ],
         "xaxis": "x",
         "y": [
          -670,
          -670,
          -692.5,
          -692.5
         ],
         "yaxis": "y"
        },
        {
         "hoverinfo": "text",
         "marker": {
          "color": "rgb(255,65,54)"
         },
         "mode": "lines",
         "type": "scatter",
         "x": [
          0,
          0.8406916743240845,
          0.8406916743240845,
          0
         ],
         "xaxis": "x",
         "y": [
          -725,
          -725,
          -735,
          -735
         ],
         "yaxis": "y"
        },
        {
         "hoverinfo": "text",
         "marker": {
          "color": "rgb(255,65,54)"
         },
         "mode": "lines",
         "type": "scatter",
         "x": [
          0.8406916743240845,
          0.9141879725189928,
          0.9141879725189928,
          0
         ],
         "xaxis": "x",
         "y": [
          -730,
          -730,
          -745,
          -745
         ],
         "yaxis": "y"
        },
        {
         "hoverinfo": "text",
         "marker": {
          "color": "rgb(255,65,54)"
         },
         "mode": "lines",
         "type": "scatter",
         "x": [
          0,
          0.9448225820611957,
          0.9448225820611957,
          0.9141879725189928
         ],
         "xaxis": "x",
         "y": [
          -715,
          -715,
          -737.5,
          -737.5
         ],
         "yaxis": "y"
        },
        {
         "hoverinfo": "text",
         "marker": {
          "color": "rgb(255,65,54)"
         },
         "mode": "lines",
         "type": "scatter",
         "x": [
          0.9448225820611957,
          0.9691688578094075,
          0.9691688578094075,
          0
         ],
         "xaxis": "x",
         "y": [
          -726.25,
          -726.25,
          -755,
          -755
         ],
         "yaxis": "y"
        },
        {
         "hoverinfo": "text",
         "marker": {
          "color": "rgb(255,65,54)"
         },
         "mode": "lines",
         "type": "scatter",
         "x": [
          0.9779061838457243,
          0.998823649723675,
          0.998823649723675,
          0.9691688578094075
         ],
         "xaxis": "x",
         "y": [
          -681.25,
          -681.25,
          -740.625,
          -740.625
         ],
         "yaxis": "y"
        },
        {
         "hoverinfo": "text",
         "marker": {
          "color": "rgb(0,116,217)"
         },
         "mode": "lines",
         "type": "scatter",
         "x": [
          0.972591070922787,
          1.0185583313277293,
          1.0185583313277293,
          0.998823649723675
         ],
         "xaxis": "x",
         "y": [
          -623.4375,
          -623.4375,
          -710.9375,
          -710.9375
         ],
         "yaxis": "y"
        },
        {
         "hoverinfo": "text",
         "marker": {
          "color": "rgb(0,116,217)"
         },
         "mode": "lines",
         "type": "scatter",
         "x": [
          0.966055117638512,
          1.0407702599101896,
          1.0407702599101896,
          1.0185583313277293
         ],
         "xaxis": "x",
         "y": [
          -552.5,
          -552.5,
          -667.1875,
          -667.1875
         ],
         "yaxis": "y"
        },
        {
         "hoverinfo": "text",
         "marker": {
          "color": "rgb(35,205,205)"
         },
         "mode": "lines",
         "type": "scatter",
         "x": [
          0,
          0.6754416909624159,
          0.6754416909624159,
          0
         ],
         "xaxis": "x",
         "y": [
          -775,
          -775,
          -785,
          -785
         ],
         "yaxis": "y"
        },
        {
         "hoverinfo": "text",
         "marker": {
          "color": "rgb(35,205,205)"
         },
         "mode": "lines",
         "type": "scatter",
         "x": [
          0.6754416909624159,
          0.7510681906444077,
          0.7510681906444077,
          0
         ],
         "xaxis": "x",
         "y": [
          -780,
          -780,
          -795,
          -795
         ],
         "yaxis": "y"
        },
        {
         "hoverinfo": "text",
         "marker": {
          "color": "rgb(35,205,205)"
         },
         "mode": "lines",
         "type": "scatter",
         "x": [
          0.7510681906444077,
          0.8133616414211289,
          0.8133616414211289,
          0
         ],
         "xaxis": "x",
         "y": [
          -787.5,
          -787.5,
          -805,
          -805
         ],
         "yaxis": "y"
        },
        {
         "hoverinfo": "text",
         "marker": {
          "color": "rgb(35,205,205)"
         },
         "mode": "lines",
         "type": "scatter",
         "x": [
          0,
          0.925366832082401,
          0.925366832082401,
          0.8133616414211289
         ],
         "xaxis": "x",
         "y": [
          -765,
          -765,
          -796.25,
          -796.25
         ],
         "yaxis": "y"
        },
        {
         "hoverinfo": "text",
         "marker": {
          "color": "rgb(35,205,205)"
         },
         "mode": "lines",
         "type": "scatter",
         "x": [
          0,
          0.8316492512043462,
          0.8316492512043462,
          0
         ],
         "xaxis": "x",
         "y": [
          -815,
          -815,
          -825,
          -825
         ],
         "yaxis": "y"
        },
        {
         "hoverinfo": "text",
         "marker": {
          "color": "rgb(35,205,205)"
         },
         "mode": "lines",
         "type": "scatter",
         "x": [
          0.8316492512043462,
          0.8869580097512332,
          0.8869580097512332,
          0
         ],
         "xaxis": "x",
         "y": [
          -820,
          -820,
          -835,
          -835
         ],
         "yaxis": "y"
        },
        {
         "hoverinfo": "text",
         "marker": {
          "color": "rgb(35,205,205)"
         },
         "mode": "lines",
         "type": "scatter",
         "x": [
          0,
          0.818810306666804,
          0.818810306666804,
          0
         ],
         "xaxis": "x",
         "y": [
          -845,
          -845,
          -855,
          -855
         ],
         "yaxis": "y"
        },
        {
         "hoverinfo": "text",
         "marker": {
          "color": "rgb(35,205,205)"
         },
         "mode": "lines",
         "type": "scatter",
         "x": [
          0.818810306666804,
          0.8393280339334874,
          0.8393280339334874,
          0
         ],
         "xaxis": "x",
         "y": [
          -850,
          -850,
          -865,
          -865
         ],
         "yaxis": "y"
        },
        {
         "hoverinfo": "text",
         "marker": {
          "color": "rgb(35,205,205)"
         },
         "mode": "lines",
         "type": "scatter",
         "x": [
          0,
          0.8160467979570614,
          0.8160467979570614,
          0
         ],
         "xaxis": "x",
         "y": [
          -875,
          -875,
          -885,
          -885
         ],
         "yaxis": "y"
        },
        {
         "hoverinfo": "text",
         "marker": {
          "color": "rgb(35,205,205)"
         },
         "mode": "lines",
         "type": "scatter",
         "x": [
          0.8393280339334874,
          0.8704900181645724,
          0.8704900181645724,
          0.8160467979570614
         ],
         "xaxis": "x",
         "y": [
          -857.5,
          -857.5,
          -880,
          -880
         ],
         "yaxis": "y"
        },
        {
         "hoverinfo": "text",
         "marker": {
          "color": "rgb(35,205,205)"
         },
         "mode": "lines",
         "type": "scatter",
         "x": [
          0.8704900181645724,
          0.8908311024855453,
          0.8908311024855453,
          0
         ],
         "xaxis": "x",
         "y": [
          -868.75,
          -868.75,
          -895,
          -895
         ],
         "yaxis": "y"
        },
        {
         "hoverinfo": "text",
         "marker": {
          "color": "rgb(35,205,205)"
         },
         "mode": "lines",
         "type": "scatter",
         "x": [
          0.8869580097512332,
          0.9018552741818949,
          0.9018552741818949,
          0.8908311024855453
         ],
         "xaxis": "x",
         "y": [
          -827.5,
          -827.5,
          -881.875,
          -881.875
         ],
         "yaxis": "y"
        },
        {
         "hoverinfo": "text",
         "marker": {
          "color": "rgb(35,205,205)"
         },
         "mode": "lines",
         "type": "scatter",
         "x": [
          0.925366832082401,
          0.9526001293914198,
          0.9526001293914198,
          0.9018552741818949
         ],
         "xaxis": "x",
         "y": [
          -780.625,
          -780.625,
          -854.6875,
          -854.6875
         ],
         "yaxis": "y"
        },
        {
         "hoverinfo": "text",
         "marker": {
          "color": "rgb(61,153,112)"
         },
         "mode": "lines",
         "type": "scatter",
         "x": [
          0,
          0.8502133407513777,
          0.8502133407513777,
          0
         ],
         "xaxis": "x",
         "y": [
          -905,
          -905,
          -915,
          -915
         ],
         "yaxis": "y"
        },
        {
         "hoverinfo": "text",
         "marker": {
          "color": "rgb(61,153,112)"
         },
         "mode": "lines",
         "type": "scatter",
         "x": [
          0,
          0.8581014665417425,
          0.8581014665417425,
          0
         ],
         "xaxis": "x",
         "y": [
          -925,
          -925,
          -935,
          -935
         ],
         "yaxis": "y"
        },
        {
         "hoverinfo": "text",
         "marker": {
          "color": "rgb(61,153,112)"
         },
         "mode": "lines",
         "type": "scatter",
         "x": [
          0.8502133407513777,
          0.9168185186017188,
          0.9168185186017188,
          0.8581014665417425
         ],
         "xaxis": "x",
         "y": [
          -910,
          -910,
          -930,
          -930
         ],
         "yaxis": "y"
        },
        {
         "hoverinfo": "text",
         "marker": {
          "color": "rgb(61,153,112)"
         },
         "mode": "lines",
         "type": "scatter",
         "x": [
          0,
          0.8434676129137577,
          0.8434676129137577,
          0
         ],
         "xaxis": "x",
         "y": [
          -945,
          -945,
          -955,
          -955
         ],
         "yaxis": "y"
        },
        {
         "hoverinfo": "text",
         "marker": {
          "color": "rgb(61,153,112)"
         },
         "mode": "lines",
         "type": "scatter",
         "x": [
          0.9168185186017188,
          0.9770337573521455,
          0.9770337573521455,
          0.8434676129137577
         ],
         "xaxis": "x",
         "y": [
          -920,
          -920,
          -950,
          -950
         ],
         "yaxis": "y"
        },
        {
         "hoverinfo": "text",
         "marker": {
          "color": "rgb(0,116,217)"
         },
         "mode": "lines",
         "type": "scatter",
         "x": [
          0.9526001293914198,
          1.0135668711508146,
          1.0135668711508146,
          0.9770337573521455
         ],
         "xaxis": "x",
         "y": [
          -817.65625,
          -817.65625,
          -935,
          -935
         ],
         "yaxis": "y"
        },
        {
         "hoverinfo": "text",
         "marker": {
          "color": "rgb(0,116,217)"
         },
         "mode": "lines",
         "type": "scatter",
         "x": [
          1.0407702599101896,
          1.0618245940841997,
          1.0618245940841997,
          1.0135668711508146
         ],
         "xaxis": "x",
         "y": [
          -609.84375,
          -609.84375,
          -876.328125,
          -876.328125
         ],
         "yaxis": "y"
        },
        {
         "hoverinfo": "text",
         "marker": {
          "color": "rgb(255,65,54)"
         },
         "mode": "lines",
         "type": "scatter",
         "x": [
          0,
          0.40421639244181684,
          0.40421639244181684,
          0
         ],
         "xaxis": "x",
         "y": [
          -965,
          -965,
          -975,
          -975
         ],
         "yaxis": "y"
        },
        {
         "hoverinfo": "text",
         "marker": {
          "color": "rgb(35,205,205)"
         },
         "mode": "lines",
         "type": "scatter",
         "x": [
          0,
          0.7947536338452171,
          0.7947536338452171,
          0
         ],
         "xaxis": "x",
         "y": [
          -985,
          -985,
          -995,
          -995
         ],
         "yaxis": "y"
        },
        {
         "hoverinfo": "text",
         "marker": {
          "color": "rgb(133,20,75)"
         },
         "mode": "lines",
         "type": "scatter",
         "x": [
          0,
          0.8932364601433181,
          0.8932364601433181,
          0
         ],
         "xaxis": "x",
         "y": [
          -1005,
          -1005,
          -1015,
          -1015
         ],
         "yaxis": "y"
        },
        {
         "hoverinfo": "text",
         "marker": {
          "color": "rgb(133,20,75)"
         },
         "mode": "lines",
         "type": "scatter",
         "x": [
          0,
          0.8606445505860666,
          0.8606445505860666,
          0
         ],
         "xaxis": "x",
         "y": [
          -1025,
          -1025,
          -1035,
          -1035
         ],
         "yaxis": "y"
        },
        {
         "hoverinfo": "text",
         "marker": {
          "color": "rgb(133,20,75)"
         },
         "mode": "lines",
         "type": "scatter",
         "x": [
          0.8932364601433181,
          0.9478279424863776,
          0.9478279424863776,
          0.8606445505860666
         ],
         "xaxis": "x",
         "y": [
          -1010,
          -1010,
          -1030,
          -1030
         ],
         "yaxis": "y"
        },
        {
         "hoverinfo": "text",
         "marker": {
          "color": "rgb(0,116,217)"
         },
         "mode": "lines",
         "type": "scatter",
         "x": [
          0.7947536338452171,
          1.0223399363995203,
          1.0223399363995203,
          0.9478279424863776
         ],
         "xaxis": "x",
         "y": [
          -990,
          -990,
          -1020,
          -1020
         ],
         "yaxis": "y"
        },
        {
         "hoverinfo": "text",
         "marker": {
          "color": "rgb(255,220,0)"
         },
         "mode": "lines",
         "type": "scatter",
         "x": [
          0,
          0.5795778139284398,
          0.5795778139284398,
          0
         ],
         "xaxis": "x",
         "y": [
          -1045,
          -1045,
          -1055,
          -1055
         ],
         "yaxis": "y"
        },
        {
         "hoverinfo": "text",
         "marker": {
          "color": "rgb(255,220,0)"
         },
         "mode": "lines",
         "type": "scatter",
         "x": [
          0.5795778139284398,
          0.9080501850977024,
          0.9080501850977024,
          0
         ],
         "xaxis": "x",
         "y": [
          -1050,
          -1050,
          -1065,
          -1065
         ],
         "yaxis": "y"
        },
        {
         "hoverinfo": "text",
         "marker": {
          "color": "rgb(0,116,217)"
         },
         "mode": "lines",
         "type": "scatter",
         "x": [
          1.0223399363995203,
          1.0709949607478313,
          1.0709949607478313,
          0.9080501850977024
         ],
         "xaxis": "x",
         "y": [
          -1005,
          -1005,
          -1057.5,
          -1057.5
         ],
         "yaxis": "y"
        },
        {
         "hoverinfo": "text",
         "marker": {
          "color": "rgb(0,116,217)"
         },
         "mode": "lines",
         "type": "scatter",
         "x": [
          0.40421639244181684,
          1.1537381651216045,
          1.1537381651216045,
          1.0709949607478313
         ],
         "xaxis": "x",
         "y": [
          -970,
          -970,
          -1031.25,
          -1031.25
         ],
         "yaxis": "y"
        },
        {
         "hoverinfo": "text",
         "marker": {
          "color": "rgb(0,116,217)"
         },
         "mode": "lines",
         "type": "scatter",
         "x": [
          1.0618245940841997,
          1.202107620174237,
          1.202107620174237,
          1.1537381651216045
         ],
         "xaxis": "x",
         "y": [
          -743.0859375,
          -743.0859375,
          -1000.625,
          -1000.625
         ],
         "yaxis": "y"
        },
        {
         "hoverinfo": "text",
         "marker": {
          "color": "rgb(0,116,217)"
         },
         "mode": "lines",
         "type": "scatter",
         "x": [
          1.1508086265921729,
          1.246645018916596,
          1.246645018916596,
          1.202107620174237
         ],
         "xaxis": "x",
         "y": [
          -503.125,
          -503.125,
          -871.85546875,
          -871.85546875
         ],
         "yaxis": "y"
        },
        {
         "hoverinfo": "text",
         "marker": {
          "color": "rgb(0,116,217)"
         },
         "mode": "lines",
         "type": "scatter",
         "x": [
          1.2261175473278232,
          1.2884926571116972,
          1.2884926571116972,
          1.246645018916596
         ],
         "xaxis": "x",
         "y": [
          -412.1875,
          -412.1875,
          -687.490234375,
          -687.490234375
         ],
         "yaxis": "y"
        },
        {
         "hoverinfo": "text",
         "marker": {
          "color": "rgb(40,35,35)"
         },
         "mode": "lines",
         "type": "scatter",
         "x": [
          0,
          0.13451663264323388,
          0.13451663264323388,
          0
         ],
         "xaxis": "x",
         "y": [
          -1075,
          -1075,
          -1085,
          -1085
         ],
         "yaxis": "y"
        },
        {
         "hoverinfo": "text",
         "marker": {
          "color": "rgb(0,116,217)"
         },
         "mode": "lines",
         "type": "scatter",
         "x": [
          1.2884926571116972,
          1.354292522029531,
          1.354292522029531,
          0.13451663264323388
         ],
         "xaxis": "x",
         "y": [
          -549.8388671875,
          -549.8388671875,
          -1080,
          -1080
         ],
         "yaxis": "y"
        },
        {
         "hoverinfo": "text",
         "marker": {
          "color": "rgb(0,116,217)"
         },
         "mode": "lines",
         "type": "scatter",
         "x": [
          0.9070201849180382,
          1.41158648129362,
          1.41158648129362,
          1.354292522029531
         ],
         "xaxis": "x",
         "y": [
          -341.5625,
          -341.5625,
          -814.91943359375,
          -814.91943359375
         ],
         "yaxis": "y"
        },
        {
         "hoverinfo": "text",
         "marker": {
          "color": "rgb(0,116,217)"
         },
         "mode": "lines",
         "type": "scatter",
         "x": [
          0.9783323774391007,
          1.426911179229624,
          1.426911179229624,
          1.41158648129362
         ],
         "xaxis": "x",
         "y": [
          -280,
          -280,
          -578.240966796875,
          -578.240966796875
         ],
         "yaxis": "y"
        },
        {
         "hoverinfo": "text",
         "marker": {
          "color": "rgb(61,153,112)"
         },
         "mode": "lines",
         "type": "scatter",
         "x": [
          0,
          0.7771920643607254,
          0.7771920643607254,
          0
         ],
         "xaxis": "x",
         "y": [
          -1105,
          -1105,
          -1115,
          -1115
         ],
         "yaxis": "y"
        },
        {
         "hoverinfo": "text",
         "marker": {
          "color": "rgb(61,153,112)"
         },
         "mode": "lines",
         "type": "scatter",
         "x": [
          0.7771920643607254,
          0.877484091612083,
          0.877484091612083,
          0
         ],
         "xaxis": "x",
         "y": [
          -1110,
          -1110,
          -1125,
          -1125
         ],
         "yaxis": "y"
        },
        {
         "hoverinfo": "text",
         "marker": {
          "color": "rgb(61,153,112)"
         },
         "mode": "lines",
         "type": "scatter",
         "x": [
          0,
          0.9724808530136093,
          0.9724808530136093,
          0.877484091612083
         ],
         "xaxis": "x",
         "y": [
          -1095,
          -1095,
          -1117.5,
          -1117.5
         ],
         "yaxis": "y"
        },
        {
         "hoverinfo": "text",
         "marker": {
          "color": "rgb(255,65,54)"
         },
         "mode": "lines",
         "type": "scatter",
         "x": [
          0,
          0.961942486155867,
          0.961942486155867,
          0
         ],
         "xaxis": "x",
         "y": [
          -1145,
          -1145,
          -1155,
          -1155
         ],
         "yaxis": "y"
        },
        {
         "hoverinfo": "text",
         "marker": {
          "color": "rgb(255,65,54)"
         },
         "mode": "lines",
         "type": "scatter",
         "x": [
          0.961942486155867,
          0.9780717188846829,
          0.9780717188846829,
          0
         ],
         "xaxis": "x",
         "y": [
          -1150,
          -1150,
          -1165,
          -1165
         ],
         "yaxis": "y"
        },
        {
         "hoverinfo": "text",
         "marker": {
          "color": "rgb(255,65,54)"
         },
         "mode": "lines",
         "type": "scatter",
         "x": [
          0,
          0.995949986475084,
          0.995949986475084,
          0.9780717188846829
         ],
         "xaxis": "x",
         "y": [
          -1135,
          -1135,
          -1157.5,
          -1157.5
         ],
         "yaxis": "y"
        },
        {
         "hoverinfo": "text",
         "marker": {
          "color": "rgb(35,205,205)"
         },
         "mode": "lines",
         "type": "scatter",
         "x": [
          0,
          0.8459262902699489,
          0.8459262902699489,
          0
         ],
         "xaxis": "x",
         "y": [
          -1175,
          -1175,
          -1185,
          -1185
         ],
         "yaxis": "y"
        },
        {
         "hoverinfo": "text",
         "marker": {
          "color": "rgb(0,116,217)"
         },
         "mode": "lines",
         "type": "scatter",
         "x": [
          0.995949986475084,
          1.0315503550257852,
          1.0315503550257852,
          0.8459262902699489
         ],
         "xaxis": "x",
         "y": [
          -1146.25,
          -1146.25,
          -1180,
          -1180
         ],
         "yaxis": "y"
        },
        {
         "hoverinfo": "text",
         "marker": {
          "color": "rgb(61,153,112)"
         },
         "mode": "lines",
         "type": "scatter",
         "x": [
          0,
          0.8750383100624399,
          0.8750383100624399,
          0
         ],
         "xaxis": "x",
         "y": [
          -1195,
          -1195,
          -1205,
          -1205
         ],
         "yaxis": "y"
        },
        {
         "hoverinfo": "text",
         "marker": {
          "color": "rgb(255,65,54)"
         },
         "mode": "lines",
         "type": "scatter",
         "x": [
          0,
          0.8838234105036404,
          0.8838234105036404,
          0
         ],
         "xaxis": "x",
         "y": [
          -1225,
          -1225,
          -1235,
          -1235
         ],
         "yaxis": "y"
        },
        {
         "hoverinfo": "text",
         "marker": {
          "color": "rgb(255,65,54)"
         },
         "mode": "lines",
         "type": "scatter",
         "x": [
          0,
          0.9390004090687302,
          0.9390004090687302,
          0.8838234105036404
         ],
         "xaxis": "x",
         "y": [
          -1215,
          -1215,
          -1230,
          -1230
         ],
         "yaxis": "y"
        },
        {
         "hoverinfo": "text",
         "marker": {
          "color": "rgb(0,116,217)"
         },
         "mode": "lines",
         "type": "scatter",
         "x": [
          0.8750383100624399,
          1.0251912425398362,
          1.0251912425398362,
          0.9390004090687302
         ],
         "xaxis": "x",
         "y": [
          -1200,
          -1200,
          -1222.5,
          -1222.5
         ],
         "yaxis": "y"
        },
        {
         "hoverinfo": "text",
         "marker": {
          "color": "rgb(0,116,217)"
         },
         "mode": "lines",
         "type": "scatter",
         "x": [
          1.0315503550257852,
          1.0527858584399317,
          1.0527858584399317,
          1.0251912425398362
         ],
         "xaxis": "x",
         "y": [
          -1163.125,
          -1163.125,
          -1211.25,
          -1211.25
         ],
         "yaxis": "y"
        },
        {
         "hoverinfo": "text",
         "marker": {
          "color": "rgb(35,205,205)"
         },
         "mode": "lines",
         "type": "scatter",
         "x": [
          0,
          0.8579203473584209,
          0.8579203473584209,
          0
         ],
         "xaxis": "x",
         "y": [
          -1245,
          -1245,
          -1255,
          -1255
         ],
         "yaxis": "y"
        },
        {
         "hoverinfo": "text",
         "marker": {
          "color": "rgb(133,20,75)"
         },
         "mode": "lines",
         "type": "scatter",
         "x": [
          0,
          0.958096972799088,
          0.958096972799088,
          0
         ],
         "xaxis": "x",
         "y": [
          -1265,
          -1265,
          -1275,
          -1275
         ],
         "yaxis": "y"
        },
        {
         "hoverinfo": "text",
         "marker": {
          "color": "rgb(255,220,0)"
         },
         "mode": "lines",
         "type": "scatter",
         "x": [
          0,
          0.8775115613912744,
          0.8775115613912744,
          0
         ],
         "xaxis": "x",
         "y": [
          -1285,
          -1285,
          -1295,
          -1295
         ],
         "yaxis": "y"
        },
        {
         "hoverinfo": "text",
         "marker": {
          "color": "rgb(0,116,217)"
         },
         "mode": "lines",
         "type": "scatter",
         "x": [
          0.958096972799088,
          1.0011787669891743,
          1.0011787669891743,
          0.8775115613912744
         ],
         "xaxis": "x",
         "y": [
          -1270,
          -1270,
          -1290,
          -1290
         ],
         "yaxis": "y"
        },
        {
         "hoverinfo": "text",
         "marker": {
          "color": "rgb(40,35,35)"
         },
         "mode": "lines",
         "type": "scatter",
         "x": [
          0,
          0.9220712183797451,
          0.9220712183797451,
          0
         ],
         "xaxis": "x",
         "y": [
          -1305,
          -1305,
          -1315,
          -1315
         ],
         "yaxis": "y"
        },
        {
         "hoverinfo": "text",
         "marker": {
          "color": "rgb(0,116,217)"
         },
         "mode": "lines",
         "type": "scatter",
         "x": [
          1.0011787669891743,
          1.03691599278753,
          1.03691599278753,
          0.9220712183797451
         ],
         "xaxis": "x",
         "y": [
          -1280,
          -1280,
          -1310,
          -1310
         ],
         "yaxis": "y"
        },
        {
         "hoverinfo": "text",
         "marker": {
          "color": "rgb(0,116,217)"
         },
         "mode": "lines",
         "type": "scatter",
         "x": [
          0.8579203473584209,
          1.0736769041893213,
          1.0736769041893213,
          1.03691599278753
         ],
         "xaxis": "x",
         "y": [
          -1250,
          -1250,
          -1295,
          -1295
         ],
         "yaxis": "y"
        },
        {
         "hoverinfo": "text",
         "marker": {
          "color": "rgb(0,116,217)"
         },
         "mode": "lines",
         "type": "scatter",
         "x": [
          1.0527858584399317,
          1.0859897609685858,
          1.0859897609685858,
          1.0736769041893213
         ],
         "xaxis": "x",
         "y": [
          -1187.1875,
          -1187.1875,
          -1272.5,
          -1272.5
         ],
         "yaxis": "y"
        },
        {
         "hoverinfo": "text",
         "marker": {
          "color": "rgb(0,116,217)"
         },
         "mode": "lines",
         "type": "scatter",
         "x": [
          0.9724808530136093,
          1.1688044033062066,
          1.1688044033062066,
          1.0859897609685858
         ],
         "xaxis": "x",
         "y": [
          -1106.25,
          -1106.25,
          -1229.84375,
          -1229.84375
         ],
         "yaxis": "y"
        },
        {
         "hoverinfo": "text",
         "marker": {
          "color": "rgb(61,153,112)"
         },
         "mode": "lines",
         "type": "scatter",
         "x": [
          0,
          0.5002846810862046,
          0.5002846810862046,
          0
         ],
         "xaxis": "x",
         "y": [
          -1325,
          -1325,
          -1335,
          -1335
         ],
         "yaxis": "y"
        },
        {
         "hoverinfo": "text",
         "marker": {
          "color": "rgb(255,65,54)"
         },
         "mode": "lines",
         "type": "scatter",
         "x": [
          0,
          0.5830469895038348,
          0.5830469895038348,
          0
         ],
         "xaxis": "x",
         "y": [
          -1345,
          -1345,
          -1355,
          -1355
         ],
         "yaxis": "y"
        },
        {
         "hoverinfo": "text",
         "marker": {
          "color": "rgb(0,116,217)"
         },
         "mode": "lines",
         "type": "scatter",
         "x": [
          0.5002846810862046,
          1.2283733466404063,
          1.2283733466404063,
          0.5830469895038348
         ],
         "xaxis": "x",
         "y": [
          -1330,
          -1330,
          -1350,
          -1350
         ],
         "yaxis": "y"
        },
        {
         "hoverinfo": "text",
         "marker": {
          "color": "rgb(0,116,217)"
         },
         "mode": "lines",
         "type": "scatter",
         "x": [
          1.1688044033062066,
          1.2905788227954464,
          1.2905788227954464,
          1.2283733466404063
         ],
         "xaxis": "x",
         "y": [
          -1168.046875,
          -1168.046875,
          -1340,
          -1340
         ],
         "yaxis": "y"
        },
        {
         "hoverinfo": "text",
         "marker": {
          "color": "rgb(35,205,205)"
         },
         "mode": "lines",
         "type": "scatter",
         "x": [
          0,
          0.2844590994979017,
          0.2844590994979017,
          0
         ],
         "xaxis": "x",
         "y": [
          -1365,
          -1365,
          -1375,
          -1375
         ],
         "yaxis": "y"
        },
        {
         "hoverinfo": "text",
         "marker": {
          "color": "rgb(61,153,112)"
         },
         "mode": "lines",
         "type": "scatter",
         "x": [
          0,
          0.6307155921416205,
          0.6307155921416205,
          0
         ],
         "xaxis": "x",
         "y": [
          -1385,
          -1385,
          -1395,
          -1395
         ],
         "yaxis": "y"
        },
        {
         "hoverinfo": "text",
         "marker": {
          "color": "rgb(61,153,112)"
         },
         "mode": "lines",
         "type": "scatter",
         "x": [
          0.6307155921416205,
          0.9169755271443341,
          0.9169755271443341,
          0
         ],
         "xaxis": "x",
         "y": [
          -1390,
          -1390,
          -1405,
          -1405
         ],
         "yaxis": "y"
        },
        {
         "hoverinfo": "text",
         "marker": {
          "color": "rgb(0,116,217)"
         },
         "mode": "lines",
         "type": "scatter",
         "x": [
          0.2844590994979017,
          1.0576803347216583,
          1.0576803347216583,
          0.9169755271443341
         ],
         "xaxis": "x",
         "y": [
          -1370,
          -1370,
          -1397.5,
          -1397.5
         ],
         "yaxis": "y"
        },
        {
         "hoverinfo": "text",
         "marker": {
          "color": "rgb(255,65,54)"
         },
         "mode": "lines",
         "type": "scatter",
         "x": [
          0,
          0.5976561312134542,
          0.5976561312134542,
          0
         ],
         "xaxis": "x",
         "y": [
          -1425,
          -1425,
          -1435,
          -1435
         ],
         "yaxis": "y"
        },
        {
         "hoverinfo": "text",
         "marker": {
          "color": "rgb(255,65,54)"
         },
         "mode": "lines",
         "type": "scatter",
         "x": [
          0,
          0.8946421245476935,
          0.8946421245476935,
          0.5976561312134542
         ],
         "xaxis": "x",
         "y": [
          -1415,
          -1415,
          -1430,
          -1430
         ],
         "yaxis": "y"
        },
        {
         "hoverinfo": "text",
         "marker": {
          "color": "rgb(35,205,205)"
         },
         "mode": "lines",
         "type": "scatter",
         "x": [
          0,
          0.713421638899477,
          0.713421638899477,
          0
         ],
         "xaxis": "x",
         "y": [
          -1445,
          -1445,
          -1455,
          -1455
         ],
         "yaxis": "y"
        },
        {
         "hoverinfo": "text",
         "marker": {
          "color": "rgb(0,116,217)"
         },
         "mode": "lines",
         "type": "scatter",
         "x": [
          0.8946421245476935,
          1.1346246139882135,
          1.1346246139882135,
          0.713421638899477
         ],
         "xaxis": "x",
         "y": [
          -1422.5,
          -1422.5,
          -1450,
          -1450
         ],
         "yaxis": "y"
        },
        {
         "hoverinfo": "text",
         "marker": {
          "color": "rgb(0,116,217)"
         },
         "mode": "lines",
         "type": "scatter",
         "x": [
          1.0576803347216583,
          1.2268387257125197,
          1.2268387257125197,
          1.1346246139882135
         ],
         "xaxis": "x",
         "y": [
          -1383.75,
          -1383.75,
          -1436.25,
          -1436.25
         ],
         "yaxis": "y"
        },
        {
         "hoverinfo": "text",
         "marker": {
          "color": "rgb(0,116,217)"
         },
         "mode": "lines",
         "type": "scatter",
         "x": [
          1.2905788227954464,
          1.3522649228127255,
          1.3522649228127255,
          1.2268387257125197
         ],
         "xaxis": "x",
         "y": [
          -1254.0234375,
          -1254.0234375,
          -1410,
          -1410
         ],
         "yaxis": "y"
        },
        {
         "hoverinfo": "text",
         "marker": {
          "color": "rgb(133,20,75)"
         },
         "mode": "lines",
         "type": "scatter",
         "x": [
          0,
          0.3545909747116993,
          0.3545909747116993,
          0
         ],
         "xaxis": "x",
         "y": [
          -1475,
          -1475,
          -1485,
          -1485
         ],
         "yaxis": "y"
        },
        {
         "hoverinfo": "text",
         "marker": {
          "color": "rgb(133,20,75)"
         },
         "mode": "lines",
         "type": "scatter",
         "x": [
          0,
          0.6660471562506389,
          0.6660471562506389,
          0.3545909747116993
         ],
         "xaxis": "x",
         "y": [
          -1465,
          -1465,
          -1480,
          -1480
         ],
         "yaxis": "y"
        },
        {
         "hoverinfo": "text",
         "marker": {
          "color": "rgb(133,20,75)"
         },
         "mode": "lines",
         "type": "scatter",
         "x": [
          0,
          0.8508907626622466,
          0.8508907626622466,
          0
         ],
         "xaxis": "x",
         "y": [
          -1495,
          -1495,
          -1505,
          -1505
         ],
         "yaxis": "y"
        },
        {
         "hoverinfo": "text",
         "marker": {
          "color": "rgb(133,20,75)"
         },
         "mode": "lines",
         "type": "scatter",
         "x": [
          0.6660471562506389,
          0.8944185749691291,
          0.8944185749691291,
          0.8508907626622466
         ],
         "xaxis": "x",
         "y": [
          -1472.5,
          -1472.5,
          -1500,
          -1500
         ],
         "yaxis": "y"
        },
        {
         "hoverinfo": "text",
         "marker": {
          "color": "rgb(255,220,0)"
         },
         "mode": "lines",
         "type": "scatter",
         "x": [
          0,
          0.6272058189188024,
          0.6272058189188024,
          0
         ],
         "xaxis": "x",
         "y": [
          -1515,
          -1515,
          -1525,
          -1525
         ],
         "yaxis": "y"
        },
        {
         "hoverinfo": "text",
         "marker": {
          "color": "rgb(40,35,35)"
         },
         "mode": "lines",
         "type": "scatter",
         "x": [
          0,
          0.7907125465134048,
          0.7907125465134048,
          0
         ],
         "xaxis": "x",
         "y": [
          -1535,
          -1535,
          -1545,
          -1545
         ],
         "yaxis": "y"
        },
        {
         "hoverinfo": "text",
         "marker": {
          "color": "rgb(61,153,112)"
         },
         "mode": "lines",
         "type": "scatter",
         "x": [
          0,
          0.8295724191361884,
          0.8295724191361884,
          0
         ],
         "xaxis": "x",
         "y": [
          -1555,
          -1555,
          -1565,
          -1565
         ],
         "yaxis": "y"
        },
        {
         "hoverinfo": "text",
         "marker": {
          "color": "rgb(255,65,54)"
         },
         "mode": "lines",
         "type": "scatter",
         "x": [
          0,
          0.793123730933107,
          0.793123730933107,
          0
         ],
         "xaxis": "x",
         "y": [
          -1585,
          -1585,
          -1595,
          -1595
         ],
         "yaxis": "y"
        },
        {
         "hoverinfo": "text",
         "marker": {
          "color": "rgb(255,65,54)"
         },
         "mode": "lines",
         "type": "scatter",
         "x": [
          0.793123730933107,
          0.8951800869827282,
          0.8951800869827282,
          0
         ],
         "xaxis": "x",
         "y": [
          -1590,
          -1590,
          -1605,
          -1605
         ],
         "yaxis": "y"
        },
        {
         "hoverinfo": "text",
         "marker": {
          "color": "rgb(255,65,54)"
         },
         "mode": "lines",
         "type": "scatter",
         "x": [
          0,
          0.9422886117023148,
          0.9422886117023148,
          0.8951800869827282
         ],
         "xaxis": "x",
         "y": [
          -1575,
          -1575,
          -1597.5,
          -1597.5
         ],
         "yaxis": "y"
        },
        {
         "hoverinfo": "text",
         "marker": {
          "color": "rgb(0,116,217)"
         },
         "mode": "lines",
         "type": "scatter",
         "x": [
          0.8295724191361884,
          1.022663792088799,
          1.022663792088799,
          0.9422886117023148
         ],
         "xaxis": "x",
         "y": [
          -1560,
          -1560,
          -1586.25,
          -1586.25
         ],
         "yaxis": "y"
        },
        {
         "hoverinfo": "text",
         "marker": {
          "color": "rgb(0,116,217)"
         },
         "mode": "lines",
         "type": "scatter",
         "x": [
          0.7907125465134048,
          1.0879653836930883,
          1.0879653836930883,
          1.022663792088799
         ],
         "xaxis": "x",
         "y": [
          -1540,
          -1540,
          -1573.125,
          -1573.125
         ],
         "yaxis": "y"
        },
        {
         "hoverinfo": "text",
         "marker": {
          "color": "rgb(35,205,205)"
         },
         "mode": "lines",
         "type": "scatter",
         "x": [
          0,
          0.8974060639460412,
          0.8974060639460412,
          0
         ],
         "xaxis": "x",
         "y": [
          -1615,
          -1615,
          -1625,
          -1625
         ],
         "yaxis": "y"
        },
        {
         "hoverinfo": "text",
         "marker": {
          "color": "rgb(61,153,112)"
         },
         "mode": "lines",
         "type": "scatter",
         "x": [
          0,
          0.7607588805811,
          0.7607588805811,
          0
         ],
         "xaxis": "x",
         "y": [
          -1635,
          -1635,
          -1645,
          -1645
         ],
         "yaxis": "y"
        },
        {
         "hoverinfo": "text",
         "marker": {
          "color": "rgb(61,153,112)"
         },
         "mode": "lines",
         "type": "scatter",
         "x": [
          0,
          0.8628871016086622,
          0.8628871016086622,
          0
         ],
         "xaxis": "x",
         "y": [
          -1655,
          -1655,
          -1665,
          -1665
         ],
         "yaxis": "y"
        },
        {
         "hoverinfo": "text",
         "marker": {
          "color": "rgb(61,153,112)"
         },
         "mode": "lines",
         "type": "scatter",
         "x": [
          0.7607588805811,
          0.9408045918144845,
          0.9408045918144845,
          0.8628871016086622
         ],
         "xaxis": "x",
         "y": [
          -1640,
          -1640,
          -1660,
          -1660
         ],
         "yaxis": "y"
        },
        {
         "hoverinfo": "text",
         "marker": {
          "color": "rgb(0,116,217)"
         },
         "mode": "lines",
         "type": "scatter",
         "x": [
          0.8974060639460412,
          1.000505379355292,
          1.000505379355292,
          0.9408045918144845
         ],
         "xaxis": "x",
         "y": [
          -1620,
          -1620,
          -1650,
          -1650
         ],
         "yaxis": "y"
        },
        {
         "hoverinfo": "text",
         "marker": {
          "color": "rgb(255,65,54)"
         },
         "mode": "lines",
         "type": "scatter",
         "x": [
          0,
          0.8475484702651337,
          0.8475484702651337,
          0
         ],
         "xaxis": "x",
         "y": [
          -1685,
          -1685,
          -1695,
          -1695
         ],
         "yaxis": "y"
        },
        {
         "hoverinfo": "text",
         "marker": {
          "color": "rgb(255,65,54)"
         },
         "mode": "lines",
         "type": "scatter",
         "x": [
          0,
          0.9044745741906841,
          0.9044745741906841,
          0.8475484702651337
         ],
         "xaxis": "x",
         "y": [
          -1675,
          -1675,
          -1690,
          -1690
         ],
         "yaxis": "y"
        },
        {
         "hoverinfo": "text",
         "marker": {
          "color": "rgb(255,65,54)"
         },
         "mode": "lines",
         "type": "scatter",
         "x": [
          0,
          0.8413058497098092,
          0.8413058497098092,
          0
         ],
         "xaxis": "x",
         "y": [
          -1705,
          -1705,
          -1715,
          -1715
         ],
         "yaxis": "y"
        },
        {
         "hoverinfo": "text",
         "marker": {
          "color": "rgb(255,65,54)"
         },
         "mode": "lines",
         "type": "scatter",
         "x": [
          0,
          0.7899029104783193,
          0.7899029104783193,
          0
         ],
         "xaxis": "x",
         "y": [
          -1725,
          -1725,
          -1735,
          -1735
         ],
         "yaxis": "y"
        },
        {
         "hoverinfo": "text",
         "marker": {
          "color": "rgb(255,65,54)"
         },
         "mode": "lines",
         "type": "scatter",
         "x": [
          0.7899029104783193,
          0.8641717952617071,
          0.8641717952617071,
          0
         ],
         "xaxis": "x",
         "y": [
          -1730,
          -1730,
          -1745,
          -1745
         ],
         "yaxis": "y"
        },
        {
         "hoverinfo": "text",
         "marker": {
          "color": "rgb(255,65,54)"
         },
         "mode": "lines",
         "type": "scatter",
         "x": [
          0.8641717952617071,
          0.900455054198693,
          0.900455054198693,
          0
         ],
         "xaxis": "x",
         "y": [
          -1737.5,
          -1737.5,
          -1755,
          -1755
         ],
         "yaxis": "y"
        },
        {
         "hoverinfo": "text",
         "marker": {
          "color": "rgb(255,65,54)"
         },
         "mode": "lines",
         "type": "scatter",
         "x": [
          0.8413058497098092,
          0.9436277786071333,
          0.9436277786071333,
          0.900455054198693
         ],
         "xaxis": "x",
         "y": [
          -1710,
          -1710,
          -1746.25,
          -1746.25
         ],
         "yaxis": "y"
        },
        {
         "hoverinfo": "text",
         "marker": {
          "color": "rgb(255,65,54)"
         },
         "mode": "lines",
         "type": "scatter",
         "x": [
          0.9044745741906841,
          0.9933727844694612,
          0.9933727844694612,
          0.9436277786071333
         ],
         "xaxis": "x",
         "y": [
          -1682.5,
          -1682.5,
          -1728.125,
          -1728.125
         ],
         "yaxis": "y"
        },
        {
         "hoverinfo": "text",
         "marker": {
          "color": "rgb(0,116,217)"
         },
         "mode": "lines",
         "type": "scatter",
         "x": [
          1.000505379355292,
          1.0242554241952293,
          1.0242554241952293,
          0.9933727844694612
         ],
         "xaxis": "x",
         "y": [
          -1635,
          -1635,
          -1705.3125,
          -1705.3125
         ],
         "yaxis": "y"
        },
        {
         "hoverinfo": "text",
         "marker": {
          "color": "rgb(0,116,217)"
         },
         "mode": "lines",
         "type": "scatter",
         "x": [
          1.0879653836930883,
          1.097142302346049,
          1.097142302346049,
          1.0242554241952293
         ],
         "xaxis": "x",
         "y": [
          -1556.5625,
          -1556.5625,
          -1670.15625,
          -1670.15625
         ],
         "yaxis": "y"
        },
        {
         "hoverinfo": "text",
         "marker": {
          "color": "rgb(35,205,205)"
         },
         "mode": "lines",
         "type": "scatter",
         "x": [
          0,
          0.7111274738424636,
          0.7111274738424636,
          0
         ],
         "xaxis": "x",
         "y": [
          -1765,
          -1765,
          -1775,
          -1775
         ],
         "yaxis": "y"
        },
        {
         "hoverinfo": "text",
         "marker": {
          "color": "rgb(35,205,205)"
         },
         "mode": "lines",
         "type": "scatter",
         "x": [
          0,
          0.8696137752785238,
          0.8696137752785238,
          0
         ],
         "xaxis": "x",
         "y": [
          -1785,
          -1785,
          -1795,
          -1795
         ],
         "yaxis": "y"
        },
        {
         "hoverinfo": "text",
         "marker": {
          "color": "rgb(35,205,205)"
         },
         "mode": "lines",
         "type": "scatter",
         "x": [
          0.8696137752785238,
          0.9111706323635288,
          0.9111706323635288,
          0
         ],
         "xaxis": "x",
         "y": [
          -1790,
          -1790,
          -1805,
          -1805
         ],
         "yaxis": "y"
        },
        {
         "hoverinfo": "text",
         "marker": {
          "color": "rgb(35,205,205)"
         },
         "mode": "lines",
         "type": "scatter",
         "x": [
          0.7111274738424636,
          0.9977458826289209,
          0.9977458826289209,
          0.9111706323635288
         ],
         "xaxis": "x",
         "y": [
          -1770,
          -1770,
          -1797.5,
          -1797.5
         ],
         "yaxis": "y"
        },
        {
         "hoverinfo": "text",
         "marker": {
          "color": "rgb(0,116,217)"
         },
         "mode": "lines",
         "type": "scatter",
         "x": [
          1.097142302346049,
          1.1262425949867756,
          1.1262425949867756,
          0.9977458826289209
         ],
         "xaxis": "x",
         "y": [
          -1613.359375,
          -1613.359375,
          -1783.75,
          -1783.75
         ],
         "yaxis": "y"
        },
        {
         "hoverinfo": "text",
         "marker": {
          "color": "rgb(0,116,217)"
         },
         "mode": "lines",
         "type": "scatter",
         "x": [
          0.6272058189188024,
          1.1728109837910934,
          1.1728109837910934,
          1.1262425949867756
         ],
         "xaxis": "x",
         "y": [
          -1520,
          -1520,
          -1698.5546875,
          -1698.5546875
         ],
         "yaxis": "y"
        },
        {
         "hoverinfo": "text",
         "marker": {
          "color": "rgb(133,20,75)"
         },
         "mode": "lines",
         "type": "scatter",
         "x": [
          0,
          0.530681222049974,
          0.530681222049974,
          0
         ],
         "xaxis": "x",
         "y": [
          -1815,
          -1815,
          -1825,
          -1825
         ],
         "yaxis": "y"
        },
        {
         "hoverinfo": "text",
         "marker": {
          "color": "rgb(133,20,75)"
         },
         "mode": "lines",
         "type": "scatter",
         "x": [
          0.530681222049974,
          0.6903787892219463,
          0.6903787892219463,
          0
         ],
         "xaxis": "x",
         "y": [
          -1820,
          -1820,
          -1835,
          -1835
         ],
         "yaxis": "y"
        },
        {
         "hoverinfo": "text",
         "marker": {
          "color": "rgb(0,116,217)"
         },
         "mode": "lines",
         "type": "scatter",
         "x": [
          1.1728109837910934,
          1.258265516949655,
          1.258265516949655,
          0.6903787892219463
         ],
         "xaxis": "x",
         "y": [
          -1609.27734375,
          -1609.27734375,
          -1827.5,
          -1827.5
         ],
         "yaxis": "y"
        },
        {
         "hoverinfo": "text",
         "marker": {
          "color": "rgb(0,116,217)"
         },
         "mode": "lines",
         "type": "scatter",
         "x": [
          0.8944185749691291,
          1.3992821529896056,
          1.3992821529896056,
          1.258265516949655
         ],
         "xaxis": "x",
         "y": [
          -1486.25,
          -1486.25,
          -1718.388671875,
          -1718.388671875
         ],
         "yaxis": "y"
        },
        {
         "hoverinfo": "text",
         "marker": {
          "color": "rgb(0,116,217)"
         },
         "mode": "lines",
         "type": "scatter",
         "x": [
          1.3522649228127255,
          1.4829046883905634,
          1.4829046883905634,
          1.3992821529896056
         ],
         "xaxis": "x",
         "y": [
          -1332.01171875,
          -1332.01171875,
          -1602.3193359375,
          -1602.3193359375
         ],
         "yaxis": "y"
        },
        {
         "hoverinfo": "text",
         "marker": {
          "color": "rgb(0,116,217)"
         },
         "mode": "lines",
         "type": "scatter",
         "x": [
          1.426911179229624,
          1.5944941831977553,
          1.5944941831977553,
          1.4829046883905634
         ],
         "xaxis": "x",
         "y": [
          -429.1204833984375,
          -429.1204833984375,
          -1467.16552734375,
          -1467.16552734375
         ],
         "yaxis": "y"
        },
        {
         "hoverinfo": "text",
         "marker": {
          "color": "rgb(255,220,0)"
         },
         "mode": "lines",
         "type": "scatter",
         "x": [
          0,
          0.3549112548423876,
          0.3549112548423876,
          0
         ],
         "xaxis": "x",
         "y": [
          -1865,
          -1865,
          -1875,
          -1875
         ],
         "yaxis": "y"
        },
        {
         "hoverinfo": "text",
         "marker": {
          "color": "rgb(255,220,0)"
         },
         "mode": "lines",
         "type": "scatter",
         "x": [
          0.3549112548423876,
          0.5923669444846845,
          0.5923669444846845,
          0
         ],
         "xaxis": "x",
         "y": [
          -1870,
          -1870,
          -1885,
          -1885
         ],
         "yaxis": "y"
        },
        {
         "hoverinfo": "text",
         "marker": {
          "color": "rgb(255,220,0)"
         },
         "mode": "lines",
         "type": "scatter",
         "x": [
          0,
          0.7664196974590735,
          0.7664196974590735,
          0.5923669444846845
         ],
         "xaxis": "x",
         "y": [
          -1855,
          -1855,
          -1877.5,
          -1877.5
         ],
         "yaxis": "y"
        },
        {
         "hoverinfo": "text",
         "marker": {
          "color": "rgb(255,220,0)"
         },
         "mode": "lines",
         "type": "scatter",
         "x": [
          0.7664196974590735,
          0.8222816692038796,
          0.8222816692038796,
          0
         ],
         "xaxis": "x",
         "y": [
          -1866.25,
          -1866.25,
          -1895,
          -1895
         ],
         "yaxis": "y"
        },
        {
         "hoverinfo": "text",
         "marker": {
          "color": "rgb(255,220,0)"
         },
         "mode": "lines",
         "type": "scatter",
         "x": [
          0,
          0.9114207703679961,
          0.9114207703679961,
          0.8222816692038796
         ],
         "xaxis": "x",
         "y": [
          -1845,
          -1845,
          -1880.625,
          -1880.625
         ],
         "yaxis": "y"
        },
        {
         "hoverinfo": "text",
         "marker": {
          "color": "rgb(255,220,0)"
         },
         "mode": "lines",
         "type": "scatter",
         "x": [
          0,
          0.438945353754158,
          0.438945353754158,
          0
         ],
         "xaxis": "x",
         "y": [
          -1915,
          -1915,
          -1925,
          -1925
         ],
         "yaxis": "y"
        },
        {
         "hoverinfo": "text",
         "marker": {
          "color": "rgb(255,220,0)"
         },
         "mode": "lines",
         "type": "scatter",
         "x": [
          0,
          0.6845363236383347,
          0.6845363236383347,
          0.438945353754158
         ],
         "xaxis": "x",
         "y": [
          -1905,
          -1905,
          -1920,
          -1920
         ],
         "yaxis": "y"
        },
        {
         "hoverinfo": "text",
         "marker": {
          "color": "rgb(255,220,0)"
         },
         "mode": "lines",
         "type": "scatter",
         "x": [
          0.6845363236383347,
          0.7297075677833709,
          0.7297075677833709,
          0
         ],
         "xaxis": "x",
         "y": [
          -1912.5,
          -1912.5,
          -1935,
          -1935
         ],
         "yaxis": "y"
        },
        {
         "hoverinfo": "text",
         "marker": {
          "color": "rgb(255,220,0)"
         },
         "mode": "lines",
         "type": "scatter",
         "x": [
          0.7297075677833709,
          0.8187813855393176,
          0.8187813855393176,
          0
         ],
         "xaxis": "x",
         "y": [
          -1923.75,
          -1923.75,
          -1945,
          -1945
         ],
         "yaxis": "y"
        },
        {
         "hoverinfo": "text",
         "marker": {
          "color": "rgb(255,220,0)"
         },
         "mode": "lines",
         "type": "scatter",
         "x": [
          0.9114207703679961,
          0.971929229840667,
          0.971929229840667,
          0.8187813855393176
         ],
         "xaxis": "x",
         "y": [
          -1862.8125,
          -1862.8125,
          -1934.375,
          -1934.375
         ],
         "yaxis": "y"
        },
        {
         "hoverinfo": "text",
         "marker": {
          "color": "rgb(40,35,35)"
         },
         "mode": "lines",
         "type": "scatter",
         "x": [
          0,
          0.32319626785699507,
          0.32319626785699507,
          0
         ],
         "xaxis": "x",
         "y": [
          -1955,
          -1955,
          -1965,
          -1965
         ],
         "yaxis": "y"
        },
        {
         "hoverinfo": "text",
         "marker": {
          "color": "rgb(40,35,35)"
         },
         "mode": "lines",
         "type": "scatter",
         "x": [
          0.32319626785699507,
          0.7899514535466549,
          0.7899514535466549,
          0
         ],
         "xaxis": "x",
         "y": [
          -1960,
          -1960,
          -1975,
          -1975
         ],
         "yaxis": "y"
        },
        {
         "hoverinfo": "text",
         "marker": {
          "color": "rgb(0,116,217)"
         },
         "mode": "lines",
         "type": "scatter",
         "x": [
          0.971929229840667,
          1.2770001367042714,
          1.2770001367042714,
          0.7899514535466549
         ],
         "xaxis": "x",
         "y": [
          -1898.59375,
          -1898.59375,
          -1967.5,
          -1967.5
         ],
         "yaxis": "y"
        },
        {
         "hoverinfo": "text",
         "marker": {
          "color": "rgb(0,116,217)"
         },
         "mode": "lines",
         "type": "scatter",
         "x": [
          1.5944941831977553,
          1.7169199110573719,
          1.7169199110573719,
          1.2770001367042714
         ],
         "xaxis": "x",
         "y": [
          -948.1430053710938,
          -948.1430053710938,
          -1933.046875,
          -1933.046875
         ],
         "yaxis": "y"
        },
        {
         "hoverinfo": "text",
         "marker": {
          "color": "rgb(0,116,217)"
         },
         "mode": "lines",
         "type": "scatter",
         "x": [
          1.4419730845246157,
          2.142017077528197,
          2.142017077528197,
          1.7169199110573719
         ],
         "xaxis": "x",
         "y": [
          -114.8046875,
          -114.8046875,
          -1440.5949401855469,
          -1440.5949401855469
         ],
         "yaxis": "y"
        }
       ],
       "layout": {
        "autosize": false,
        "height": 3170,
        "hoverlabel": {
         "bgcolor": "white",
         "font": {
          "family": "Rockwell",
          "size": 16
         }
        },
        "hovermode": "closest",
        "plot_bgcolor": "#ECEFF1",
        "showlegend": false,
        "template": {
         "data": {
          "bar": [
           {
            "error_x": {
             "color": "#2a3f5f"
            },
            "error_y": {
             "color": "#2a3f5f"
            },
            "marker": {
             "line": {
              "color": "white",
              "width": 0.5
             },
             "pattern": {
              "fillmode": "overlay",
              "size": 10,
              "solidity": 0.2
             }
            },
            "type": "bar"
           }
          ],
          "barpolar": [
           {
            "marker": {
             "line": {
              "color": "white",
              "width": 0.5
             },
             "pattern": {
              "fillmode": "overlay",
              "size": 10,
              "solidity": 0.2
             }
            },
            "type": "barpolar"
           }
          ],
          "carpet": [
           {
            "aaxis": {
             "endlinecolor": "#2a3f5f",
             "gridcolor": "#C8D4E3",
             "linecolor": "#C8D4E3",
             "minorgridcolor": "#C8D4E3",
             "startlinecolor": "#2a3f5f"
            },
            "baxis": {
             "endlinecolor": "#2a3f5f",
             "gridcolor": "#C8D4E3",
             "linecolor": "#C8D4E3",
             "minorgridcolor": "#C8D4E3",
             "startlinecolor": "#2a3f5f"
            },
            "type": "carpet"
           }
          ],
          "choropleth": [
           {
            "colorbar": {
             "outlinewidth": 0,
             "ticks": ""
            },
            "type": "choropleth"
           }
          ],
          "contour": [
           {
            "colorbar": {
             "outlinewidth": 0,
             "ticks": ""
            },
            "colorscale": [
             [
              0,
              "#0d0887"
             ],
             [
              0.1111111111111111,
              "#46039f"
             ],
             [
              0.2222222222222222,
              "#7201a8"
             ],
             [
              0.3333333333333333,
              "#9c179e"
             ],
             [
              0.4444444444444444,
              "#bd3786"
             ],
             [
              0.5555555555555556,
              "#d8576b"
             ],
             [
              0.6666666666666666,
              "#ed7953"
             ],
             [
              0.7777777777777778,
              "#fb9f3a"
             ],
             [
              0.8888888888888888,
              "#fdca26"
             ],
             [
              1,
              "#f0f921"
             ]
            ],
            "type": "contour"
           }
          ],
          "contourcarpet": [
           {
            "colorbar": {
             "outlinewidth": 0,
             "ticks": ""
            },
            "type": "contourcarpet"
           }
          ],
          "heatmap": [
           {
            "colorbar": {
             "outlinewidth": 0,
             "ticks": ""
            },
            "colorscale": [
             [
              0,
              "#0d0887"
             ],
             [
              0.1111111111111111,
              "#46039f"
             ],
             [
              0.2222222222222222,
              "#7201a8"
             ],
             [
              0.3333333333333333,
              "#9c179e"
             ],
             [
              0.4444444444444444,
              "#bd3786"
             ],
             [
              0.5555555555555556,
              "#d8576b"
             ],
             [
              0.6666666666666666,
              "#ed7953"
             ],
             [
              0.7777777777777778,
              "#fb9f3a"
             ],
             [
              0.8888888888888888,
              "#fdca26"
             ],
             [
              1,
              "#f0f921"
             ]
            ],
            "type": "heatmap"
           }
          ],
          "heatmapgl": [
           {
            "colorbar": {
             "outlinewidth": 0,
             "ticks": ""
            },
            "colorscale": [
             [
              0,
              "#0d0887"
             ],
             [
              0.1111111111111111,
              "#46039f"
             ],
             [
              0.2222222222222222,
              "#7201a8"
             ],
             [
              0.3333333333333333,
              "#9c179e"
             ],
             [
              0.4444444444444444,
              "#bd3786"
             ],
             [
              0.5555555555555556,
              "#d8576b"
             ],
             [
              0.6666666666666666,
              "#ed7953"
             ],
             [
              0.7777777777777778,
              "#fb9f3a"
             ],
             [
              0.8888888888888888,
              "#fdca26"
             ],
             [
              1,
              "#f0f921"
             ]
            ],
            "type": "heatmapgl"
           }
          ],
          "histogram": [
           {
            "marker": {
             "pattern": {
              "fillmode": "overlay",
              "size": 10,
              "solidity": 0.2
             }
            },
            "type": "histogram"
           }
          ],
          "histogram2d": [
           {
            "colorbar": {
             "outlinewidth": 0,
             "ticks": ""
            },
            "colorscale": [
             [
              0,
              "#0d0887"
             ],
             [
              0.1111111111111111,
              "#46039f"
             ],
             [
              0.2222222222222222,
              "#7201a8"
             ],
             [
              0.3333333333333333,
              "#9c179e"
             ],
             [
              0.4444444444444444,
              "#bd3786"
             ],
             [
              0.5555555555555556,
              "#d8576b"
             ],
             [
              0.6666666666666666,
              "#ed7953"
             ],
             [
              0.7777777777777778,
              "#fb9f3a"
             ],
             [
              0.8888888888888888,
              "#fdca26"
             ],
             [
              1,
              "#f0f921"
             ]
            ],
            "type": "histogram2d"
           }
          ],
          "histogram2dcontour": [
           {
            "colorbar": {
             "outlinewidth": 0,
             "ticks": ""
            },
            "colorscale": [
             [
              0,
              "#0d0887"
             ],
             [
              0.1111111111111111,
              "#46039f"
             ],
             [
              0.2222222222222222,
              "#7201a8"
             ],
             [
              0.3333333333333333,
              "#9c179e"
             ],
             [
              0.4444444444444444,
              "#bd3786"
             ],
             [
              0.5555555555555556,
              "#d8576b"
             ],
             [
              0.6666666666666666,
              "#ed7953"
             ],
             [
              0.7777777777777778,
              "#fb9f3a"
             ],
             [
              0.8888888888888888,
              "#fdca26"
             ],
             [
              1,
              "#f0f921"
             ]
            ],
            "type": "histogram2dcontour"
           }
          ],
          "mesh3d": [
           {
            "colorbar": {
             "outlinewidth": 0,
             "ticks": ""
            },
            "type": "mesh3d"
           }
          ],
          "parcoords": [
           {
            "line": {
             "colorbar": {
              "outlinewidth": 0,
              "ticks": ""
             }
            },
            "type": "parcoords"
           }
          ],
          "pie": [
           {
            "automargin": true,
            "type": "pie"
           }
          ],
          "scatter": [
           {
            "fillpattern": {
             "fillmode": "overlay",
             "size": 10,
             "solidity": 0.2
            },
            "type": "scatter"
           }
          ],
          "scatter3d": [
           {
            "line": {
             "colorbar": {
              "outlinewidth": 0,
              "ticks": ""
             }
            },
            "marker": {
             "colorbar": {
              "outlinewidth": 0,
              "ticks": ""
             }
            },
            "type": "scatter3d"
           }
          ],
          "scattercarpet": [
           {
            "marker": {
             "colorbar": {
              "outlinewidth": 0,
              "ticks": ""
             }
            },
            "type": "scattercarpet"
           }
          ],
          "scattergeo": [
           {
            "marker": {
             "colorbar": {
              "outlinewidth": 0,
              "ticks": ""
             }
            },
            "type": "scattergeo"
           }
          ],
          "scattergl": [
           {
            "marker": {
             "colorbar": {
              "outlinewidth": 0,
              "ticks": ""
             }
            },
            "type": "scattergl"
           }
          ],
          "scattermapbox": [
           {
            "marker": {
             "colorbar": {
              "outlinewidth": 0,
              "ticks": ""
             }
            },
            "type": "scattermapbox"
           }
          ],
          "scatterpolar": [
           {
            "marker": {
             "colorbar": {
              "outlinewidth": 0,
              "ticks": ""
             }
            },
            "type": "scatterpolar"
           }
          ],
          "scatterpolargl": [
           {
            "marker": {
             "colorbar": {
              "outlinewidth": 0,
              "ticks": ""
             }
            },
            "type": "scatterpolargl"
           }
          ],
          "scatterternary": [
           {
            "marker": {
             "colorbar": {
              "outlinewidth": 0,
              "ticks": ""
             }
            },
            "type": "scatterternary"
           }
          ],
          "surface": [
           {
            "colorbar": {
             "outlinewidth": 0,
             "ticks": ""
            },
            "colorscale": [
             [
              0,
              "#0d0887"
             ],
             [
              0.1111111111111111,
              "#46039f"
             ],
             [
              0.2222222222222222,
              "#7201a8"
             ],
             [
              0.3333333333333333,
              "#9c179e"
             ],
             [
              0.4444444444444444,
              "#bd3786"
             ],
             [
              0.5555555555555556,
              "#d8576b"
             ],
             [
              0.6666666666666666,
              "#ed7953"
             ],
             [
              0.7777777777777778,
              "#fb9f3a"
             ],
             [
              0.8888888888888888,
              "#fdca26"
             ],
             [
              1,
              "#f0f921"
             ]
            ],
            "type": "surface"
           }
          ],
          "table": [
           {
            "cells": {
             "fill": {
              "color": "#EBF0F8"
             },
             "line": {
              "color": "white"
             }
            },
            "header": {
             "fill": {
              "color": "#C8D4E3"
             },
             "line": {
              "color": "white"
             }
            },
            "type": "table"
           }
          ]
         },
         "layout": {
          "annotationdefaults": {
           "arrowcolor": "#2a3f5f",
           "arrowhead": 0,
           "arrowwidth": 1
          },
          "autotypenumbers": "strict",
          "coloraxis": {
           "colorbar": {
            "outlinewidth": 0,
            "ticks": ""
           }
          },
          "colorscale": {
           "diverging": [
            [
             0,
             "#8e0152"
            ],
            [
             0.1,
             "#c51b7d"
            ],
            [
             0.2,
             "#de77ae"
            ],
            [
             0.3,
             "#f1b6da"
            ],
            [
             0.4,
             "#fde0ef"
            ],
            [
             0.5,
             "#f7f7f7"
            ],
            [
             0.6,
             "#e6f5d0"
            ],
            [
             0.7,
             "#b8e186"
            ],
            [
             0.8,
             "#7fbc41"
            ],
            [
             0.9,
             "#4d9221"
            ],
            [
             1,
             "#276419"
            ]
           ],
           "sequential": [
            [
             0,
             "#0d0887"
            ],
            [
             0.1111111111111111,
             "#46039f"
            ],
            [
             0.2222222222222222,
             "#7201a8"
            ],
            [
             0.3333333333333333,
             "#9c179e"
            ],
            [
             0.4444444444444444,
             "#bd3786"
            ],
            [
             0.5555555555555556,
             "#d8576b"
            ],
            [
             0.6666666666666666,
             "#ed7953"
            ],
            [
             0.7777777777777778,
             "#fb9f3a"
            ],
            [
             0.8888888888888888,
             "#fdca26"
            ],
            [
             1,
             "#f0f921"
            ]
           ],
           "sequentialminus": [
            [
             0,
             "#0d0887"
            ],
            [
             0.1111111111111111,
             "#46039f"
            ],
            [
             0.2222222222222222,
             "#7201a8"
            ],
            [
             0.3333333333333333,
             "#9c179e"
            ],
            [
             0.4444444444444444,
             "#bd3786"
            ],
            [
             0.5555555555555556,
             "#d8576b"
            ],
            [
             0.6666666666666666,
             "#ed7953"
            ],
            [
             0.7777777777777778,
             "#fb9f3a"
            ],
            [
             0.8888888888888888,
             "#fdca26"
            ],
            [
             1,
             "#f0f921"
            ]
           ]
          },
          "colorway": [
           "#636efa",
           "#EF553B",
           "#00cc96",
           "#ab63fa",
           "#FFA15A",
           "#19d3f3",
           "#FF6692",
           "#B6E880",
           "#FF97FF",
           "#FECB52"
          ],
          "font": {
           "color": "#2a3f5f"
          },
          "geo": {
           "bgcolor": "white",
           "lakecolor": "white",
           "landcolor": "white",
           "showlakes": true,
           "showland": true,
           "subunitcolor": "#C8D4E3"
          },
          "hoverlabel": {
           "align": "left"
          },
          "hovermode": "closest",
          "mapbox": {
           "style": "light"
          },
          "paper_bgcolor": "white",
          "plot_bgcolor": "white",
          "polar": {
           "angularaxis": {
            "gridcolor": "#EBF0F8",
            "linecolor": "#EBF0F8",
            "ticks": ""
           },
           "bgcolor": "white",
           "radialaxis": {
            "gridcolor": "#EBF0F8",
            "linecolor": "#EBF0F8",
            "ticks": ""
           }
          },
          "scene": {
           "xaxis": {
            "backgroundcolor": "white",
            "gridcolor": "#DFE8F3",
            "gridwidth": 2,
            "linecolor": "#EBF0F8",
            "showbackground": true,
            "ticks": "",
            "zerolinecolor": "#EBF0F8"
           },
           "yaxis": {
            "backgroundcolor": "white",
            "gridcolor": "#DFE8F3",
            "gridwidth": 2,
            "linecolor": "#EBF0F8",
            "showbackground": true,
            "ticks": "",
            "zerolinecolor": "#EBF0F8"
           },
           "zaxis": {
            "backgroundcolor": "white",
            "gridcolor": "#DFE8F3",
            "gridwidth": 2,
            "linecolor": "#EBF0F8",
            "showbackground": true,
            "ticks": "",
            "zerolinecolor": "#EBF0F8"
           }
          },
          "shapedefaults": {
           "line": {
            "color": "#2a3f5f"
           }
          },
          "ternary": {
           "aaxis": {
            "gridcolor": "#DFE8F3",
            "linecolor": "#A2B1C6",
            "ticks": ""
           },
           "baxis": {
            "gridcolor": "#DFE8F3",
            "linecolor": "#A2B1C6",
            "ticks": ""
           },
           "bgcolor": "white",
           "caxis": {
            "gridcolor": "#DFE8F3",
            "linecolor": "#A2B1C6",
            "ticks": ""
           }
          },
          "title": {
           "x": 0.05
          },
          "xaxis": {
           "automargin": true,
           "gridcolor": "#EBF0F8",
           "linecolor": "#EBF0F8",
           "ticks": "",
           "title": {
            "standoff": 15
           },
           "zerolinecolor": "#EBF0F8",
           "zerolinewidth": 2
          },
          "yaxis": {
           "automargin": true,
           "gridcolor": "#EBF0F8",
           "linecolor": "#EBF0F8",
           "ticks": "",
           "title": {
            "standoff": 15
           },
           "zerolinecolor": "#EBF0F8",
           "zerolinewidth": 2
          }
         }
        },
        "title": {
         "font": {
          "color": "Black",
          "size": 22
         },
         "text": "<b>Hierarchical Clustering</b>",
         "x": 0.5,
         "xanchor": "center",
         "yanchor": "top"
        },
        "width": 1000,
        "xaxis": {
         "mirror": "allticks",
         "rangemode": "tozero",
         "showgrid": false,
         "showline": true,
         "showticklabels": true,
         "ticks": "outside",
         "type": "linear",
         "zeroline": false
        },
        "yaxis": {
         "mirror": "allticks",
         "range": [
          -1980,
          0
         ],
         "rangemode": "tozero",
         "showgrid": false,
         "showline": true,
         "showticklabels": true,
         "tickmode": "array",
         "ticks": "outside",
         "ticktext": [
          "177_cell_tried_phone",
          "5_cell_my_phone",
          "91_urgent_emergency_cell",
          "152_5240_243_510",
          "140_8530_need_857",
          "90_650_at_call",
          "129_give_408_at",
          "151_clarification_clarifica...",
          "190_feel_free_anytime",
          "48_questions_any_feel",
          "11_questions_any_feel",
          "98_concerns_questions_any",
          "80_hesitate_questions_do",
          "50_assistance_help_hesitate",
          "146_process_steps_hesitate",
          "13_800_877_888",
          "15_at_408_contact",
          "137_information_contact_fur...",
          "18_contact_questions_please",
          "97_interested_contact_perso...",
          "175_links_details_answer",
          "103_details_info_later",
          "74_problems_issues_any",
          "132_problems_issues_there",
          "112_issue_problem_solution",
          "178_problem_issue_resolved",
          "131_status_update_progress",
          "182_status_report_reports",
          "121_report_reports_instat",
          "143_expense_report_reports",
          "84_forwarded_forward_forwar...",
          "58_below_see_mail",
          "22_did_email_got",
          "6_email_person_mail",
          "67_emails_external_problems",
          "7_it_send_sent",
          "9_sent_person_it",
          "155_message_sent_jazz",
          "92_apply_resume_cover",
          "14_resume_resumes_job",
          "46_document_documents_pdf",
          "93_copy_document_documents",
          "59_copy_soft_hard",
          "16_fax_faxes_number",
          "126_signature_sign_signed",
          "26_contract_agreement_signed",
          "66_nda_mutual_signed",
          "156_them_contacted_contact",
          "96_them_they_call",
          "53_them_these_those",
          "95_changes_change_modificat...",
          "81_list_changes_update",
          "72_list_onward_add",
          "122_update_updates_an",
          "185_directions_place_pky",
          "39_hotel_reservations_gate",
          "71_itinerary_travel_flight",
          "100_survey_surveys_healthcare",
          "135_correct_wrong_me",
          "86_attachment_attachments_mb",
          "161_group_centives_remains",
          "104_form_forms_fill",
          "60_check_cheque_checks",
          "73_invoice_invoices_payment",
          "183_approval_shoot_approve",
          "115_interview_interviews_in...",
          "174_banking_bank_banks",
          "184_usps_deployment_202",
          "159_ctia_202_pptf",
          "192_hosting_referencing_tic...",
          "136_europe_european_sistemas",
          "119_dell_laptop_laptops",
          "63_biogen_siebel_rfi",
          "20_accenture_amit_person",
          "87_rfp_rfi_boeing",
          "191_collateral_822_sooner",
          "173_analysts_analyst_iap",
          "17_wireless_applications_co...",
          "29_partners_sales_partner",
          "68_technical_tech_support",
          "111_application_application...",
          "12_prakash_venk_meeting",
          "10_presentation_slides_pres...",
          "56_demo_demos_we",
          "101_proposal_proposals_plan",
          "30_pricing_price_cost",
          "125_schedule_dates_will",
          "33_training_classes_course",
          "55_event_attend_attending",
          "69_lunch_dinner_food",
          "32_sun_reps_microsystems",
          "144_accounts_account_contacts",
          "78_new_add_account",
          "107_features_feature_release",
          "37_spreadsheet_excel_timesh...",
          "180_forecast_forecasts_fore...",
          "195_project_plan_projects",
          "42_project_estimate_estimates",
          "88_scoping_ae_document",
          "83_ae_aes_branch",
          "124_docs_doc_doctor",
          "94_cc_ed_emails",
          "169_template_templates_comp...",
          "163_specs_spec_functional",
          "150_review_before_it",
          "38_comments_review_please",
          "148_code_example_sample",
          "165_draft_modifications_per...",
          "117_draft_final_tonight",
          "162_evalueexpress_recurring...",
          "172_offers_78720_202885",
          "19_receiving_because_offers",
          "170_ebay_preferences_promot...",
          "193_digitrends_daily_net",
          "127_alumni_stanford_gsb",
          "168_netaddress_permanent_ma...",
          "116_arun_4212_257",
          "51_password_username_login",
          "75_webex_password_webexid",
          "114_cd_cds_kmt",
          "44_music_mp3_greeting",
          "153_wunsubsec_129_135",
          "36_babycenter_baby_1fc7nw",
          "189_otcjournal_plaintext_ne...",
          "196_ups_shipment_8900",
          "105_fedex_tracking_ups",
          "120_agenda_detailed_bombard",
          "164_toshi_rishi_icon",
          "65_logo_logos_eps",
          "197_icons_icon_gif",
          "176_visio_version_lower",
          "133_resend_it_can",
          "187_missed_sorry_missing",
          "118_hi_missed_sorry",
          "166_disregard_message_refer...",
          "154_ignore_disregard_previous",
          "45_checking_check_be",
          "139_checking_office_voice",
          "35_voice_voicegenie_speech",
          "4_voicemail_voice_left",
          "62_vm_vmail_left",
          "61_pictures_photos_picture",
          "188_pictures_mms_users",
          "34_sms_messages_messaging",
          "179_verizon_sprint_pcs",
          "113_sprint_oncall_verify",
          "145_zip_files_file",
          "79_file_files_kaiperm",
          "89_files_file_these",
          "64_aml_files_pages",
          "108_vss_files_applicationse...",
          "128_wilhan_build_readme",
          "85_build_testing_wilhan",
          "138_ops_request_op",
          "109_pager_ops_pagers",
          "167_dds_approval_final",
          "57_rim_dds_pager",
          "134_pda_consistency_identical",
          "24_pqa_quicken_application",
          "23_palm_vii_emulator",
          "142_emulator_tcp_netlib",
          "77_license_licensing_licenses",
          "149_weblogic_bea_shutdown",
          "171_servers_server_ip",
          "106_sessions_memory_session",
          "147_emas_attribute_device",
          "186_url_salesep_urls",
          "52_idc_diva_ae",
          "130_folders_mailbox_mailboxes",
          "41_trade_etrade_issue",
          "31_bugzilla_bug_bugs",
          "102_installer_install_insta...",
          "47_japanese_translation_miy...",
          "54_error_page_messages",
          "123_log_logs_logfile",
          "25_item_oca_osa",
          "8_jsp_servlet_bean",
          "40_method_class_methods",
          "141_called_what_unconscious",
          "110_jargon_elsewhere_entry",
          "82_xp_windows_process",
          "27_test_results_testing",
          "160_test_unit_tests",
          "157_tests_unit_acceptance",
          "181_initiate_calls_make",
          "28_discuss_give_call",
          "3_give_call_ll",
          "1_call_person_called",
          "0_him_her_he",
          "49_office_desk_call",
          "99_monday_follow_call",
          "43_call_pst_30",
          "70_30_around_10",
          "2_conference_call_set",
          "76_con_conf_call",
          "194_meeting_einstein_tuesdays",
          "21_meeting_meetings_request",
          "158_calendar_meeting_outlook"
         ],
         "tickvals": [
          -5,
          -15,
          -25,
          -35,
          -45,
          -55,
          -65,
          -75,
          -85,
          -95,
          -105,
          -115,
          -125,
          -135,
          -145,
          -155,
          -165,
          -175,
          -185,
          -195,
          -205,
          -215,
          -225,
          -235,
          -245,
          -255,
          -265,
          -275,
          -285,
          -295,
          -305,
          -315,
          -325,
          -335,
          -345,
          -355,
          -365,
          -375,
          -385,
          -395,
          -405,
          -415,
          -425,
          -435,
          -445,
          -455,
          -465,
          -475,
          -485,
          -495,
          -505,
          -515,
          -525,
          -535,
          -545,
          -555,
          -565,
          -575,
          -585,
          -595,
          -605,
          -615,
          -625,
          -635,
          -645,
          -655,
          -665,
          -675,
          -685,
          -695,
          -705,
          -715,
          -725,
          -735,
          -745,
          -755,
          -765,
          -775,
          -785,
          -795,
          -805,
          -815,
          -825,
          -835,
          -845,
          -855,
          -865,
          -875,
          -885,
          -895,
          -905,
          -915,
          -925,
          -935,
          -945,
          -955,
          -965,
          -975,
          -985,
          -995,
          -1005,
          -1015,
          -1025,
          -1035,
          -1045,
          -1055,
          -1065,
          -1075,
          -1085,
          -1095,
          -1105,
          -1115,
          -1125,
          -1135,
          -1145,
          -1155,
          -1165,
          -1175,
          -1185,
          -1195,
          -1205,
          -1215,
          -1225,
          -1235,
          -1245,
          -1255,
          -1265,
          -1275,
          -1285,
          -1295,
          -1305,
          -1315,
          -1325,
          -1335,
          -1345,
          -1355,
          -1365,
          -1375,
          -1385,
          -1395,
          -1405,
          -1415,
          -1425,
          -1435,
          -1445,
          -1455,
          -1465,
          -1475,
          -1485,
          -1495,
          -1505,
          -1515,
          -1525,
          -1535,
          -1545,
          -1555,
          -1565,
          -1575,
          -1585,
          -1595,
          -1605,
          -1615,
          -1625,
          -1635,
          -1645,
          -1655,
          -1665,
          -1675,
          -1685,
          -1695,
          -1705,
          -1715,
          -1725,
          -1735,
          -1745,
          -1755,
          -1765,
          -1775,
          -1785,
          -1795,
          -1805,
          -1815,
          -1825,
          -1835,
          -1845,
          -1855,
          -1865,
          -1875,
          -1885,
          -1895,
          -1905,
          -1915,
          -1925,
          -1935,
          -1945,
          -1955,
          -1965,
          -1975
         ],
         "type": "linear",
         "zeroline": false
        }
       }
      }
     },
     "metadata": {},
     "output_type": "display_data"
    }
   ],
   "source": [
    "topic_model.visualize_hierarchy(custom_labels=False)"
   ]
  },
  {
   "cell_type": "markdown",
   "metadata": {},
   "source": [
    "### Keep Intent-like Topics"
   ]
  },
  {
   "cell_type": "code",
   "execution_count": 1,
   "metadata": {},
   "outputs": [
    {
     "ename": "NameError",
     "evalue": "name 'inspect_topic' is not defined",
     "output_type": "error",
     "traceback": [
      "\u001b[0;31m---------------------------------------------------------------------------\u001b[0m",
      "\u001b[0;31mNameError\u001b[0m                                 Traceback (most recent call last)",
      "Cell \u001b[0;32mIn[1], line 2\u001b[0m\n\u001b[1;32m      1\u001b[0m topic_id \u001b[38;5;241m=\u001b[39m \u001b[38;5;241m15\u001b[39m\n\u001b[0;32m----> 2\u001b[0m \u001b[43minspect_topic\u001b[49m(topic_model,topic_id)\n",
      "\u001b[0;31mNameError\u001b[0m: name 'inspect_topic' is not defined"
     ]
    }
   ],
   "source": [
    "topic_id = 15\n",
    "inspect_topic(topic_model,topic_id)"
   ]
  },
  {
   "cell_type": "code",
   "execution_count": 1146,
   "metadata": {},
   "outputs": [],
   "source": [
    "topic_model.merge_topics(docs, [6, 15])"
   ]
  },
  {
   "cell_type": "code",
   "execution_count": 1108,
   "metadata": {},
   "outputs": [
    {
     "name": "stdout",
     "output_type": "stream",
     "text": [
      "Number of Documents: 40\n",
      "\n",
      "* \t [PERSON] [PERSON] will help connect me with BEA .\n",
      "Hi [PERSON]    [PERSON] also asked me to send you some article examples .\n",
      "[PERSON] , if I 'm wrong , please correct me .\n",
      "[PERSON] ,    Can we please talk about this we you get in ?    Thanks .\n",
      "from [PERSON] like we did last time .. however .. that being said .. you can provide me with some bullet points and you\n",
      "They are all labeled with each persons ' name and size so you can just call off people 's names .\n",
      "Responding to [PERSON] [PERSON] ( 05:07 PM 8/6/2001 [LOCATION] ):   > To review : in our survey of the philosophy of science thus far we 've   > reached the point where we 're starting to question [PERSON] ( as we   > should ) , and are coming upon the notions of [PERSON] ( which we all intuit   > anyway ) , and maybe someday can handle ( if we 're especially studious )   >\n",
      "I do n't think we 've dealt with [PERSON] , though [PERSON] or D'Arcy will correct   me if I am wrong .\n",
      "[PERSON] , Please correct me if I am wrong .\n",
      "Can you please direct me to the right person ?    [PERSON]\n",
      "If I wrong [PERSON] could you correct me on that .\n",
      "[PERSON] ,  \t Please count me in !    Thanks ,   [PERSON]\n",
      "[PERSON] ,   While escalating the problem please keep me in loop .\n",
      "[PERSON] would not confirm or deny the 8 % figure that   you had given me .\n",
      "[PERSON] ,    I am trying to summarize what we are trying to accomplish , please feel free to add and to correct me .\n",
      "Please clarify me on this issue [PERSON] .\n",
      "[PERSON] ,    Please provide me with the following :   1 .\n",
      "( please put me with [PERSON] [PERSON] )\n",
      "Do n't get me wrong - overall [PERSON] provided a good starting point .\n",
      "[PERSON] , please look this over and tell me about it .\n"
     ]
    }
   ],
   "source": [
    "documents = [docs[i] for i, topic in enumerate(topic_model.topics_) if topic == topic_id]\n",
    "print('Number of Documents: '+str(len(documents))+'\\n')\n",
    "for i in range(20):\n",
    "    print(documents[i])"
   ]
  },
  {
   "cell_type": "code",
   "execution_count": 1658,
   "metadata": {},
   "outputs": [],
   "source": [
    "create_custom_label(custom_label='send_check', topic_id=topic_id)"
   ]
  },
  {
   "cell_type": "code",
   "execution_count": 1139,
   "metadata": {},
   "outputs": [
    {
     "data": {
      "text/plain": [
       "104"
      ]
     },
     "execution_count": 1139,
     "metadata": {},
     "output_type": "execute_result"
    }
   ],
   "source": [
    "len(topic_model.get_topics())"
   ]
  },
  {
   "cell_type": "code",
   "execution_count": 1147,
   "metadata": {},
   "outputs": [
    {
     "data": {
      "application/vnd.plotly.v1+json": {
       "config": {
        "plotlyServerURL": "https://plot.ly"
       },
       "data": [
        {
         "hoverinfo": "text",
         "marker": {
          "color": "rgb(61,153,112)"
         },
         "mode": "lines",
         "type": "scatter",
         "x": [
          0,
          0.6261772145676411,
          0.6261772145676411,
          0
         ],
         "xaxis": "x",
         "y": [
          -15,
          -15,
          -25,
          -25
         ],
         "yaxis": "y"
        },
        {
         "hoverinfo": "text",
         "marker": {
          "color": "rgb(61,153,112)"
         },
         "mode": "lines",
         "type": "scatter",
         "x": [
          0.6261772145676411,
          0.7251388321805251,
          0.7251388321805251,
          0
         ],
         "xaxis": "x",
         "y": [
          -20,
          -20,
          -35,
          -35
         ],
         "yaxis": "y"
        },
        {
         "hoverinfo": "text",
         "marker": {
          "color": "rgb(61,153,112)"
         },
         "mode": "lines",
         "type": "scatter",
         "x": [
          0,
          0.8440892261941997,
          0.8440892261941997,
          0.7251388321805251
         ],
         "xaxis": "x",
         "y": [
          -5,
          -5,
          -27.5,
          -27.5
         ],
         "yaxis": "y"
        },
        {
         "hoverinfo": "text",
         "marker": {
          "color": "rgb(61,153,112)"
         },
         "mode": "lines",
         "type": "scatter",
         "x": [
          0,
          0.5762342063764008,
          0.5762342063764008,
          0
         ],
         "xaxis": "x",
         "y": [
          -45,
          -45,
          -55,
          -55
         ],
         "yaxis": "y"
        },
        {
         "hoverinfo": "text",
         "marker": {
          "color": "rgb(61,153,112)"
         },
         "mode": "lines",
         "type": "scatter",
         "x": [
          0.8440892261941997,
          0.9611861361979456,
          0.9611861361979456,
          0.5762342063764008
         ],
         "xaxis": "x",
         "y": [
          -16.25,
          -16.25,
          -50,
          -50
         ],
         "yaxis": "y"
        },
        {
         "hoverinfo": "text",
         "marker": {
          "color": "rgb(255,65,54)"
         },
         "mode": "lines",
         "type": "scatter",
         "x": [
          0,
          0.5425390992346542,
          0.5425390992346542,
          0
         ],
         "xaxis": "x",
         "y": [
          -85,
          -85,
          -95,
          -95
         ],
         "yaxis": "y"
        },
        {
         "hoverinfo": "text",
         "marker": {
          "color": "rgb(255,65,54)"
         },
         "mode": "lines",
         "type": "scatter",
         "x": [
          0,
          0.3795892509934261,
          0.3795892509934261,
          0
         ],
         "xaxis": "x",
         "y": [
          -105,
          -105,
          -115,
          -115
         ],
         "yaxis": "y"
        },
        {
         "hoverinfo": "text",
         "marker": {
          "color": "rgb(255,65,54)"
         },
         "mode": "lines",
         "type": "scatter",
         "x": [
          0.5425390992346542,
          0.6981506900059812,
          0.6981506900059812,
          0.3795892509934261
         ],
         "xaxis": "x",
         "y": [
          -90,
          -90,
          -110,
          -110
         ],
         "yaxis": "y"
        },
        {
         "hoverinfo": "text",
         "marker": {
          "color": "rgb(255,65,54)"
         },
         "mode": "lines",
         "type": "scatter",
         "x": [
          0,
          0.7702108283972082,
          0.7702108283972082,
          0.6981506900059812
         ],
         "xaxis": "x",
         "y": [
          -75,
          -75,
          -100,
          -100
         ],
         "yaxis": "y"
        },
        {
         "hoverinfo": "text",
         "marker": {
          "color": "rgb(255,65,54)"
         },
         "mode": "lines",
         "type": "scatter",
         "x": [
          0.7702108283972082,
          0.7820750377913638,
          0.7820750377913638,
          0
         ],
         "xaxis": "x",
         "y": [
          -87.5,
          -87.5,
          -125,
          -125
         ],
         "yaxis": "y"
        },
        {
         "hoverinfo": "text",
         "marker": {
          "color": "rgb(255,65,54)"
         },
         "mode": "lines",
         "type": "scatter",
         "x": [
          0,
          0.814113026242994,
          0.814113026242994,
          0.7820750377913638
         ],
         "xaxis": "x",
         "y": [
          -65,
          -65,
          -106.25,
          -106.25
         ],
         "yaxis": "y"
        },
        {
         "hoverinfo": "text",
         "marker": {
          "color": "rgb(255,65,54)"
         },
         "mode": "lines",
         "type": "scatter",
         "x": [
          0.814113026242994,
          0.8594631053450389,
          0.8594631053450389,
          0
         ],
         "xaxis": "x",
         "y": [
          -85.625,
          -85.625,
          -135,
          -135
         ],
         "yaxis": "y"
        },
        {
         "hoverinfo": "text",
         "marker": {
          "color": "rgb(0,116,217)"
         },
         "mode": "lines",
         "type": "scatter",
         "x": [
          0.9611861361979456,
          1.254772084149676,
          1.254772084149676,
          0.8594631053450389
         ],
         "xaxis": "x",
         "y": [
          -33.125,
          -33.125,
          -110.3125,
          -110.3125
         ],
         "yaxis": "y"
        },
        {
         "hoverinfo": "text",
         "marker": {
          "color": "rgb(35,205,205)"
         },
         "mode": "lines",
         "type": "scatter",
         "x": [
          0,
          0.4286440750961139,
          0.4286440750961139,
          0
         ],
         "xaxis": "x",
         "y": [
          -145,
          -145,
          -155,
          -155
         ],
         "yaxis": "y"
        },
        {
         "hoverinfo": "text",
         "marker": {
          "color": "rgb(35,205,205)"
         },
         "mode": "lines",
         "type": "scatter",
         "x": [
          0.4286440750961139,
          0.6611493095210124,
          0.6611493095210124,
          0
         ],
         "xaxis": "x",
         "y": [
          -150,
          -150,
          -165,
          -165
         ],
         "yaxis": "y"
        },
        {
         "hoverinfo": "text",
         "marker": {
          "color": "rgb(133,20,75)"
         },
         "mode": "lines",
         "type": "scatter",
         "x": [
          0,
          0.43540513263120095,
          0.43540513263120095,
          0
         ],
         "xaxis": "x",
         "y": [
          -185,
          -185,
          -195,
          -195
         ],
         "yaxis": "y"
        },
        {
         "hoverinfo": "text",
         "marker": {
          "color": "rgb(133,20,75)"
         },
         "mode": "lines",
         "type": "scatter",
         "x": [
          0.43540513263120095,
          0.7624866428428393,
          0.7624866428428393,
          0
         ],
         "xaxis": "x",
         "y": [
          -190,
          -190,
          -205,
          -205
         ],
         "yaxis": "y"
        },
        {
         "hoverinfo": "text",
         "marker": {
          "color": "rgb(133,20,75)"
         },
         "mode": "lines",
         "type": "scatter",
         "x": [
          0,
          0.8702205180951227,
          0.8702205180951227,
          0.7624866428428393
         ],
         "xaxis": "x",
         "y": [
          -175,
          -175,
          -197.5,
          -197.5
         ],
         "yaxis": "y"
        },
        {
         "hoverinfo": "text",
         "marker": {
          "color": "rgb(255,220,0)"
         },
         "mode": "lines",
         "type": "scatter",
         "x": [
          0,
          0.602054301499787,
          0.602054301499787,
          0
         ],
         "xaxis": "x",
         "y": [
          -215,
          -215,
          -225,
          -225
         ],
         "yaxis": "y"
        },
        {
         "hoverinfo": "text",
         "marker": {
          "color": "rgb(40,35,35)"
         },
         "mode": "lines",
         "type": "scatter",
         "x": [
          0,
          0.48966090596753287,
          0.48966090596753287,
          0
         ],
         "xaxis": "x",
         "y": [
          -235,
          -235,
          -245,
          -245
         ],
         "yaxis": "y"
        },
        {
         "hoverinfo": "text",
         "marker": {
          "color": "rgb(40,35,35)"
         },
         "mode": "lines",
         "type": "scatter",
         "x": [
          0,
          0.840780989285432,
          0.840780989285432,
          0
         ],
         "xaxis": "x",
         "y": [
          -255,
          -255,
          -265,
          -265
         ],
         "yaxis": "y"
        },
        {
         "hoverinfo": "text",
         "marker": {
          "color": "rgb(40,35,35)"
         },
         "mode": "lines",
         "type": "scatter",
         "x": [
          0,
          0.8508098787473405,
          0.8508098787473405,
          0
         ],
         "xaxis": "x",
         "y": [
          -275,
          -275,
          -285,
          -285
         ],
         "yaxis": "y"
        },
        {
         "hoverinfo": "text",
         "marker": {
          "color": "rgb(40,35,35)"
         },
         "mode": "lines",
         "type": "scatter",
         "x": [
          0.840780989285432,
          0.8627962423472809,
          0.8627962423472809,
          0.8508098787473405
         ],
         "xaxis": "x",
         "y": [
          -260,
          -260,
          -280,
          -280
         ],
         "yaxis": "y"
        },
        {
         "hoverinfo": "text",
         "marker": {
          "color": "rgb(40,35,35)"
         },
         "mode": "lines",
         "type": "scatter",
         "x": [
          0,
          0.713099127772534,
          0.713099127772534,
          0
         ],
         "xaxis": "x",
         "y": [
          -305,
          -305,
          -315,
          -315
         ],
         "yaxis": "y"
        },
        {
         "hoverinfo": "text",
         "marker": {
          "color": "rgb(40,35,35)"
         },
         "mode": "lines",
         "type": "scatter",
         "x": [
          0.713099127772534,
          0.7689400619371195,
          0.7689400619371195,
          0
         ],
         "xaxis": "x",
         "y": [
          -310,
          -310,
          -325,
          -325
         ],
         "yaxis": "y"
        },
        {
         "hoverinfo": "text",
         "marker": {
          "color": "rgb(40,35,35)"
         },
         "mode": "lines",
         "type": "scatter",
         "x": [
          0,
          0.7987124956762635,
          0.7987124956762635,
          0
         ],
         "xaxis": "x",
         "y": [
          -335,
          -335,
          -345,
          -345
         ],
         "yaxis": "y"
        },
        {
         "hoverinfo": "text",
         "marker": {
          "color": "rgb(40,35,35)"
         },
         "mode": "lines",
         "type": "scatter",
         "x": [
          0.7689400619371195,
          0.825632219458842,
          0.825632219458842,
          0.7987124956762635
         ],
         "xaxis": "x",
         "y": [
          -317.5,
          -317.5,
          -340,
          -340
         ],
         "yaxis": "y"
        },
        {
         "hoverinfo": "text",
         "marker": {
          "color": "rgb(40,35,35)"
         },
         "mode": "lines",
         "type": "scatter",
         "x": [
          0,
          0.8368513978088121,
          0.8368513978088121,
          0.825632219458842
         ],
         "xaxis": "x",
         "y": [
          -295,
          -295,
          -328.75,
          -328.75
         ],
         "yaxis": "y"
        },
        {
         "hoverinfo": "text",
         "marker": {
          "color": "rgb(40,35,35)"
         },
         "mode": "lines",
         "type": "scatter",
         "x": [
          0,
          0.7296959084125716,
          0.7296959084125716,
          0
         ],
         "xaxis": "x",
         "y": [
          -365,
          -365,
          -375,
          -375
         ],
         "yaxis": "y"
        },
        {
         "hoverinfo": "text",
         "marker": {
          "color": "rgb(40,35,35)"
         },
         "mode": "lines",
         "type": "scatter",
         "x": [
          0.7296959084125716,
          0.7590854331445573,
          0.7590854331445573,
          0
         ],
         "xaxis": "x",
         "y": [
          -370,
          -370,
          -385,
          -385
         ],
         "yaxis": "y"
        },
        {
         "hoverinfo": "text",
         "marker": {
          "color": "rgb(40,35,35)"
         },
         "mode": "lines",
         "type": "scatter",
         "x": [
          0,
          0.7814277658603199,
          0.7814277658603199,
          0.7590854331445573
         ],
         "xaxis": "x",
         "y": [
          -355,
          -355,
          -377.5,
          -377.5
         ],
         "yaxis": "y"
        },
        {
         "hoverinfo": "text",
         "marker": {
          "color": "rgb(40,35,35)"
         },
         "mode": "lines",
         "type": "scatter",
         "x": [
          0.7814277658603199,
          0.791988324858913,
          0.791988324858913,
          0
         ],
         "xaxis": "x",
         "y": [
          -366.25,
          -366.25,
          -395,
          -395
         ],
         "yaxis": "y"
        },
        {
         "hoverinfo": "text",
         "marker": {
          "color": "rgb(40,35,35)"
         },
         "mode": "lines",
         "type": "scatter",
         "x": [
          0.8368513978088121,
          0.8672773971351827,
          0.8672773971351827,
          0.791988324858913
         ],
         "xaxis": "x",
         "y": [
          -311.875,
          -311.875,
          -380.625,
          -380.625
         ],
         "yaxis": "y"
        },
        {
         "hoverinfo": "text",
         "marker": {
          "color": "rgb(40,35,35)"
         },
         "mode": "lines",
         "type": "scatter",
         "x": [
          0.8672773971351827,
          0.8892333017032895,
          0.8892333017032895,
          0
         ],
         "xaxis": "x",
         "y": [
          -346.25,
          -346.25,
          -405,
          -405
         ],
         "yaxis": "y"
        },
        {
         "hoverinfo": "text",
         "marker": {
          "color": "rgb(40,35,35)"
         },
         "mode": "lines",
         "type": "scatter",
         "x": [
          0.8627962423472809,
          0.8981952735135929,
          0.8981952735135929,
          0.8892333017032895
         ],
         "xaxis": "x",
         "y": [
          -270,
          -270,
          -375.625,
          -375.625
         ],
         "yaxis": "y"
        },
        {
         "hoverinfo": "text",
         "marker": {
          "color": "rgb(40,35,35)"
         },
         "mode": "lines",
         "type": "scatter",
         "x": [
          0,
          0.9062255156697033,
          0.9062255156697033,
          0
         ],
         "xaxis": "x",
         "y": [
          -425,
          -425,
          -435,
          -435
         ],
         "yaxis": "y"
        },
        {
         "hoverinfo": "text",
         "marker": {
          "color": "rgb(40,35,35)"
         },
         "mode": "lines",
         "type": "scatter",
         "x": [
          0,
          0.9334722912818588,
          0.9334722912818588,
          0.9062255156697033
         ],
         "xaxis": "x",
         "y": [
          -415,
          -415,
          -430,
          -430
         ],
         "yaxis": "y"
        },
        {
         "hoverinfo": "text",
         "marker": {
          "color": "rgb(40,35,35)"
         },
         "mode": "lines",
         "type": "scatter",
         "x": [
          0.8981952735135929,
          0.9553145742552798,
          0.9553145742552798,
          0.9334722912818588
         ],
         "xaxis": "x",
         "y": [
          -322.8125,
          -322.8125,
          -422.5,
          -422.5
         ],
         "yaxis": "y"
        },
        {
         "hoverinfo": "text",
         "marker": {
          "color": "rgb(40,35,35)"
         },
         "mode": "lines",
         "type": "scatter",
         "x": [
          0.48966090596753287,
          0.9737789928880207,
          0.9737789928880207,
          0.9553145742552798
         ],
         "xaxis": "x",
         "y": [
          -240,
          -240,
          -372.65625,
          -372.65625
         ],
         "yaxis": "y"
        },
        {
         "hoverinfo": "text",
         "marker": {
          "color": "rgb(0,116,217)"
         },
         "mode": "lines",
         "type": "scatter",
         "x": [
          0.602054301499787,
          1.0207658725001272,
          1.0207658725001272,
          0.9737789928880207
         ],
         "xaxis": "x",
         "y": [
          -220,
          -220,
          -306.328125,
          -306.328125
         ],
         "yaxis": "y"
        },
        {
         "hoverinfo": "text",
         "marker": {
          "color": "rgb(61,153,112)"
         },
         "mode": "lines",
         "type": "scatter",
         "x": [
          0,
          0.5812523978020854,
          0.5812523978020854,
          0
         ],
         "xaxis": "x",
         "y": [
          -445,
          -445,
          -455,
          -455
         ],
         "yaxis": "y"
        },
        {
         "hoverinfo": "text",
         "marker": {
          "color": "rgb(255,65,54)"
         },
         "mode": "lines",
         "type": "scatter",
         "x": [
          0,
          0.6929548651308681,
          0.6929548651308681,
          0
         ],
         "xaxis": "x",
         "y": [
          -475,
          -475,
          -485,
          -485
         ],
         "yaxis": "y"
        },
        {
         "hoverinfo": "text",
         "marker": {
          "color": "rgb(255,65,54)"
         },
         "mode": "lines",
         "type": "scatter",
         "x": [
          0,
          0.8326009612126956,
          0.8326009612126956,
          0.6929548651308681
         ],
         "xaxis": "x",
         "y": [
          -465,
          -465,
          -480,
          -480
         ],
         "yaxis": "y"
        },
        {
         "hoverinfo": "text",
         "marker": {
          "color": "rgb(255,65,54)"
         },
         "mode": "lines",
         "type": "scatter",
         "x": [
          0.8326009612126956,
          0.8726130518968976,
          0.8726130518968976,
          0
         ],
         "xaxis": "x",
         "y": [
          -472.5,
          -472.5,
          -495,
          -495
         ],
         "yaxis": "y"
        },
        {
         "hoverinfo": "text",
         "marker": {
          "color": "rgb(255,65,54)"
         },
         "mode": "lines",
         "type": "scatter",
         "x": [
          0,
          0.8345602121673619,
          0.8345602121673619,
          0
         ],
         "xaxis": "x",
         "y": [
          -505,
          -505,
          -515,
          -515
         ],
         "yaxis": "y"
        },
        {
         "hoverinfo": "text",
         "marker": {
          "color": "rgb(255,65,54)"
         },
         "mode": "lines",
         "type": "scatter",
         "x": [
          0.8345602121673619,
          0.8990358076985258,
          0.8990358076985258,
          0
         ],
         "xaxis": "x",
         "y": [
          -510,
          -510,
          -525,
          -525
         ],
         "yaxis": "y"
        },
        {
         "hoverinfo": "text",
         "marker": {
          "color": "rgb(255,65,54)"
         },
         "mode": "lines",
         "type": "scatter",
         "x": [
          0.8726130518968976,
          0.9696747559066498,
          0.9696747559066498,
          0.8990358076985258
         ],
         "xaxis": "x",
         "y": [
          -483.75,
          -483.75,
          -517.5,
          -517.5
         ],
         "yaxis": "y"
        },
        {
         "hoverinfo": "text",
         "marker": {
          "color": "rgb(0,116,217)"
         },
         "mode": "lines",
         "type": "scatter",
         "x": [
          0.5812523978020854,
          1.0039099605788828,
          1.0039099605788828,
          0.9696747559066498
         ],
         "xaxis": "x",
         "y": [
          -450,
          -450,
          -500.625,
          -500.625
         ],
         "yaxis": "y"
        },
        {
         "hoverinfo": "text",
         "marker": {
          "color": "rgb(0,116,217)"
         },
         "mode": "lines",
         "type": "scatter",
         "x": [
          1.0207658725001272,
          1.0514270669210437,
          1.0514270669210437,
          1.0039099605788828
         ],
         "xaxis": "x",
         "y": [
          -263.1640625,
          -263.1640625,
          -475.3125,
          -475.3125
         ],
         "yaxis": "y"
        },
        {
         "hoverinfo": "text",
         "marker": {
          "color": "rgb(0,116,217)"
         },
         "mode": "lines",
         "type": "scatter",
         "x": [
          0.8702205180951227,
          1.0745676886625843,
          1.0745676886625843,
          1.0514270669210437
         ],
         "xaxis": "x",
         "y": [
          -186.25,
          -186.25,
          -369.23828125,
          -369.23828125
         ],
         "yaxis": "y"
        },
        {
         "hoverinfo": "text",
         "marker": {
          "color": "rgb(0,116,217)"
         },
         "mode": "lines",
         "type": "scatter",
         "x": [
          0.6611493095210124,
          1.164311859536162,
          1.164311859536162,
          1.0745676886625843
         ],
         "xaxis": "x",
         "y": [
          -157.5,
          -157.5,
          -277.744140625,
          -277.744140625
         ],
         "yaxis": "y"
        },
        {
         "hoverinfo": "text",
         "marker": {
          "color": "rgb(35,205,205)"
         },
         "mode": "lines",
         "type": "scatter",
         "x": [
          0,
          0.6743209763669533,
          0.6743209763669533,
          0
         ],
         "xaxis": "x",
         "y": [
          -545,
          -545,
          -555,
          -555
         ],
         "yaxis": "y"
        },
        {
         "hoverinfo": "text",
         "marker": {
          "color": "rgb(35,205,205)"
         },
         "mode": "lines",
         "type": "scatter",
         "x": [
          0,
          0.7891363290459261,
          0.7891363290459261,
          0.6743209763669533
         ],
         "xaxis": "x",
         "y": [
          -535,
          -535,
          -550,
          -550
         ],
         "yaxis": "y"
        },
        {
         "hoverinfo": "text",
         "marker": {
          "color": "rgb(35,205,205)"
         },
         "mode": "lines",
         "type": "scatter",
         "x": [
          0.7891363290459261,
          0.8269707722516875,
          0.8269707722516875,
          0
         ],
         "xaxis": "x",
         "y": [
          -542.5,
          -542.5,
          -565,
          -565
         ],
         "yaxis": "y"
        },
        {
         "hoverinfo": "text",
         "marker": {
          "color": "rgb(61,153,112)"
         },
         "mode": "lines",
         "type": "scatter",
         "x": [
          0,
          0.8602030708805574,
          0.8602030708805574,
          0
         ],
         "xaxis": "x",
         "y": [
          -575,
          -575,
          -585,
          -585
         ],
         "yaxis": "y"
        },
        {
         "hoverinfo": "text",
         "marker": {
          "color": "rgb(61,153,112)"
         },
         "mode": "lines",
         "type": "scatter",
         "x": [
          0,
          0.7170840989381065,
          0.7170840989381065,
          0
         ],
         "xaxis": "x",
         "y": [
          -595,
          -595,
          -605,
          -605
         ],
         "yaxis": "y"
        },
        {
         "hoverinfo": "text",
         "marker": {
          "color": "rgb(61,153,112)"
         },
         "mode": "lines",
         "type": "scatter",
         "x": [
          0.7170840989381065,
          0.8371220298563979,
          0.8371220298563979,
          0
         ],
         "xaxis": "x",
         "y": [
          -600,
          -600,
          -615,
          -615
         ],
         "yaxis": "y"
        },
        {
         "hoverinfo": "text",
         "marker": {
          "color": "rgb(61,153,112)"
         },
         "mode": "lines",
         "type": "scatter",
         "x": [
          0.8602030708805574,
          0.9170848300113864,
          0.9170848300113864,
          0.8371220298563979
         ],
         "xaxis": "x",
         "y": [
          -580,
          -580,
          -607.5,
          -607.5
         ],
         "yaxis": "y"
        },
        {
         "hoverinfo": "text",
         "marker": {
          "color": "rgb(61,153,112)"
         },
         "mode": "lines",
         "type": "scatter",
         "x": [
          0,
          0.7119990667612213,
          0.7119990667612213,
          0
         ],
         "xaxis": "x",
         "y": [
          -625,
          -625,
          -635,
          -635
         ],
         "yaxis": "y"
        },
        {
         "hoverinfo": "text",
         "marker": {
          "color": "rgb(61,153,112)"
         },
         "mode": "lines",
         "type": "scatter",
         "x": [
          0.9170848300113864,
          0.948382260067976,
          0.948382260067976,
          0.7119990667612213
         ],
         "xaxis": "x",
         "y": [
          -593.75,
          -593.75,
          -630,
          -630
         ],
         "yaxis": "y"
        },
        {
         "hoverinfo": "text",
         "marker": {
          "color": "rgb(255,65,54)"
         },
         "mode": "lines",
         "type": "scatter",
         "x": [
          0,
          0.8124796256709915,
          0.8124796256709915,
          0
         ],
         "xaxis": "x",
         "y": [
          -645,
          -645,
          -655,
          -655
         ],
         "yaxis": "y"
        },
        {
         "hoverinfo": "text",
         "marker": {
          "color": "rgb(0,116,217)"
         },
         "mode": "lines",
         "type": "scatter",
         "x": [
          0.948382260067976,
          1.005817443752546,
          1.005817443752546,
          0.8124796256709915
         ],
         "xaxis": "x",
         "y": [
          -611.875,
          -611.875,
          -650,
          -650
         ],
         "yaxis": "y"
        },
        {
         "hoverinfo": "text",
         "marker": {
          "color": "rgb(0,116,217)"
         },
         "mode": "lines",
         "type": "scatter",
         "x": [
          0.8269707722516875,
          1.0459633328950046,
          1.0459633328950046,
          1.005817443752546
         ],
         "xaxis": "x",
         "y": [
          -553.75,
          -553.75,
          -630.9375,
          -630.9375
         ],
         "yaxis": "y"
        },
        {
         "hoverinfo": "text",
         "marker": {
          "color": "rgb(35,205,205)"
         },
         "mode": "lines",
         "type": "scatter",
         "x": [
          0,
          0.5028951216177142,
          0.5028951216177142,
          0
         ],
         "xaxis": "x",
         "y": [
          -665,
          -665,
          -675,
          -675
         ],
         "yaxis": "y"
        },
        {
         "hoverinfo": "text",
         "marker": {
          "color": "rgb(133,20,75)"
         },
         "mode": "lines",
         "type": "scatter",
         "x": [
          0,
          0.6830303171874245,
          0.6830303171874245,
          0
         ],
         "xaxis": "x",
         "y": [
          -685,
          -685,
          -695,
          -695
         ],
         "yaxis": "y"
        },
        {
         "hoverinfo": "text",
         "marker": {
          "color": "rgb(133,20,75)"
         },
         "mode": "lines",
         "type": "scatter",
         "x": [
          0,
          0.4691129399525784,
          0.4691129399525784,
          0
         ],
         "xaxis": "x",
         "y": [
          -715,
          -715,
          -725,
          -725
         ],
         "yaxis": "y"
        },
        {
         "hoverinfo": "text",
         "marker": {
          "color": "rgb(133,20,75)"
         },
         "mode": "lines",
         "type": "scatter",
         "x": [
          0,
          0.7349100390476672,
          0.7349100390476672,
          0.4691129399525784
         ],
         "xaxis": "x",
         "y": [
          -705,
          -705,
          -720,
          -720
         ],
         "yaxis": "y"
        },
        {
         "hoverinfo": "text",
         "marker": {
          "color": "rgb(133,20,75)"
         },
         "mode": "lines",
         "type": "scatter",
         "x": [
          0.7349100390476672,
          0.8395312916804233,
          0.8395312916804233,
          0
         ],
         "xaxis": "x",
         "y": [
          -712.5,
          -712.5,
          -735,
          -735
         ],
         "yaxis": "y"
        },
        {
         "hoverinfo": "text",
         "marker": {
          "color": "rgb(133,20,75)"
         },
         "mode": "lines",
         "type": "scatter",
         "x": [
          0.6830303171874245,
          0.8913810358510136,
          0.8913810358510136,
          0.8395312916804233
         ],
         "xaxis": "x",
         "y": [
          -690,
          -690,
          -723.75,
          -723.75
         ],
         "yaxis": "y"
        },
        {
         "hoverinfo": "text",
         "marker": {
          "color": "rgb(0,116,217)"
         },
         "mode": "lines",
         "type": "scatter",
         "x": [
          0.5028951216177142,
          1.0271455098123397,
          1.0271455098123397,
          0.8913810358510136
         ],
         "xaxis": "x",
         "y": [
          -670,
          -670,
          -706.875,
          -706.875
         ],
         "yaxis": "y"
        },
        {
         "hoverinfo": "text",
         "marker": {
          "color": "rgb(0,116,217)"
         },
         "mode": "lines",
         "type": "scatter",
         "x": [
          1.0459633328950046,
          1.1904067436180743,
          1.1904067436180743,
          1.0271455098123397
         ],
         "xaxis": "x",
         "y": [
          -592.34375,
          -592.34375,
          -688.4375,
          -688.4375
         ],
         "yaxis": "y"
        },
        {
         "hoverinfo": "text",
         "marker": {
          "color": "rgb(255,220,0)"
         },
         "mode": "lines",
         "type": "scatter",
         "x": [
          0,
          0.6419377988536119,
          0.6419377988536119,
          0
         ],
         "xaxis": "x",
         "y": [
          -745,
          -745,
          -755,
          -755
         ],
         "yaxis": "y"
        },
        {
         "hoverinfo": "text",
         "marker": {
          "color": "rgb(255,220,0)"
         },
         "mode": "lines",
         "type": "scatter",
         "x": [
          0.6419377988536119,
          0.7880188751584792,
          0.7880188751584792,
          0
         ],
         "xaxis": "x",
         "y": [
          -750,
          -750,
          -765,
          -765
         ],
         "yaxis": "y"
        },
        {
         "hoverinfo": "text",
         "marker": {
          "color": "rgb(40,35,35)"
         },
         "mode": "lines",
         "type": "scatter",
         "x": [
          0,
          0.8433387274314954,
          0.8433387274314954,
          0
         ],
         "xaxis": "x",
         "y": [
          -775,
          -775,
          -785,
          -785
         ],
         "yaxis": "y"
        },
        {
         "hoverinfo": "text",
         "marker": {
          "color": "rgb(61,153,112)"
         },
         "mode": "lines",
         "type": "scatter",
         "x": [
          0,
          0.7799311456872617,
          0.7799311456872617,
          0
         ],
         "xaxis": "x",
         "y": [
          -815,
          -815,
          -825,
          -825
         ],
         "yaxis": "y"
        },
        {
         "hoverinfo": "text",
         "marker": {
          "color": "rgb(61,153,112)"
         },
         "mode": "lines",
         "type": "scatter",
         "x": [
          0,
          0.8220118970574197,
          0.8220118970574197,
          0.7799311456872617
         ],
         "xaxis": "x",
         "y": [
          -805,
          -805,
          -820,
          -820
         ],
         "yaxis": "y"
        },
        {
         "hoverinfo": "text",
         "marker": {
          "color": "rgb(61,153,112)"
         },
         "mode": "lines",
         "type": "scatter",
         "x": [
          0.8220118970574197,
          0.8389752768326524,
          0.8389752768326524,
          0
         ],
         "xaxis": "x",
         "y": [
          -812.5,
          -812.5,
          -835,
          -835
         ],
         "yaxis": "y"
        },
        {
         "hoverinfo": "text",
         "marker": {
          "color": "rgb(61,153,112)"
         },
         "mode": "lines",
         "type": "scatter",
         "x": [
          0,
          0.9367087560108082,
          0.9367087560108082,
          0.8389752768326524
         ],
         "xaxis": "x",
         "y": [
          -795,
          -795,
          -823.75,
          -823.75
         ],
         "yaxis": "y"
        },
        {
         "hoverinfo": "text",
         "marker": {
          "color": "rgb(61,153,112)"
         },
         "mode": "lines",
         "type": "scatter",
         "x": [
          0,
          0.8844401682279498,
          0.8844401682279498,
          0
         ],
         "xaxis": "x",
         "y": [
          -855,
          -855,
          -865,
          -865
         ],
         "yaxis": "y"
        },
        {
         "hoverinfo": "text",
         "marker": {
          "color": "rgb(61,153,112)"
         },
         "mode": "lines",
         "type": "scatter",
         "x": [
          0,
          0.870177458987586,
          0.870177458987586,
          0
         ],
         "xaxis": "x",
         "y": [
          -875,
          -875,
          -885,
          -885
         ],
         "yaxis": "y"
        },
        {
         "hoverinfo": "text",
         "marker": {
          "color": "rgb(61,153,112)"
         },
         "mode": "lines",
         "type": "scatter",
         "x": [
          0.8844401682279498,
          0.9141230977003529,
          0.9141230977003529,
          0.870177458987586
         ],
         "xaxis": "x",
         "y": [
          -860,
          -860,
          -880,
          -880
         ],
         "yaxis": "y"
        },
        {
         "hoverinfo": "text",
         "marker": {
          "color": "rgb(61,153,112)"
         },
         "mode": "lines",
         "type": "scatter",
         "x": [
          0,
          0.9333802318231411,
          0.9333802318231411,
          0.9141230977003529
         ],
         "xaxis": "x",
         "y": [
          -845,
          -845,
          -870,
          -870
         ],
         "yaxis": "y"
        },
        {
         "hoverinfo": "text",
         "marker": {
          "color": "rgb(61,153,112)"
         },
         "mode": "lines",
         "type": "scatter",
         "x": [
          0,
          0.8871257908853352,
          0.8871257908853352,
          0
         ],
         "xaxis": "x",
         "y": [
          -895,
          -895,
          -905,
          -905
         ],
         "yaxis": "y"
        },
        {
         "hoverinfo": "text",
         "marker": {
          "color": "rgb(61,153,112)"
         },
         "mode": "lines",
         "type": "scatter",
         "x": [
          0.8871257908853352,
          0.9009200662805428,
          0.9009200662805428,
          0
         ],
         "xaxis": "x",
         "y": [
          -900,
          -900,
          -915,
          -915
         ],
         "yaxis": "y"
        },
        {
         "hoverinfo": "text",
         "marker": {
          "color": "rgb(61,153,112)"
         },
         "mode": "lines",
         "type": "scatter",
         "x": [
          0.9333802318231411,
          0.9547563735023109,
          0.9547563735023109,
          0.9009200662805428
         ],
         "xaxis": "x",
         "y": [
          -857.5,
          -857.5,
          -907.5,
          -907.5
         ],
         "yaxis": "y"
        },
        {
         "hoverinfo": "text",
         "marker": {
          "color": "rgb(61,153,112)"
         },
         "mode": "lines",
         "type": "scatter",
         "x": [
          0.9547563735023109,
          0.9666312860751868,
          0.9666312860751868,
          0
         ],
         "xaxis": "x",
         "y": [
          -882.5,
          -882.5,
          -925,
          -925
         ],
         "yaxis": "y"
        },
        {
         "hoverinfo": "text",
         "marker": {
          "color": "rgb(61,153,112)"
         },
         "mode": "lines",
         "type": "scatter",
         "x": [
          0.9367087560108082,
          0.9808428761470426,
          0.9808428761470426,
          0.9666312860751868
         ],
         "xaxis": "x",
         "y": [
          -809.375,
          -809.375,
          -903.75,
          -903.75
         ],
         "yaxis": "y"
        },
        {
         "hoverinfo": "text",
         "marker": {
          "color": "rgb(0,116,217)"
         },
         "mode": "lines",
         "type": "scatter",
         "x": [
          0.8433387274314954,
          1.0465931921991205,
          1.0465931921991205,
          0.9808428761470426
         ],
         "xaxis": "x",
         "y": [
          -780,
          -780,
          -856.5625,
          -856.5625
         ],
         "yaxis": "y"
        },
        {
         "hoverinfo": "text",
         "marker": {
          "color": "rgb(255,65,54)"
         },
         "mode": "lines",
         "type": "scatter",
         "x": [
          0,
          0.9153505267659999,
          0.9153505267659999,
          0
         ],
         "xaxis": "x",
         "y": [
          -935,
          -935,
          -945,
          -945
         ],
         "yaxis": "y"
        },
        {
         "hoverinfo": "text",
         "marker": {
          "color": "rgb(255,65,54)"
         },
         "mode": "lines",
         "type": "scatter",
         "x": [
          0,
          0.9703072099766603,
          0.9703072099766603,
          0
         ],
         "xaxis": "x",
         "y": [
          -955,
          -955,
          -965,
          -965
         ],
         "yaxis": "y"
        },
        {
         "hoverinfo": "text",
         "marker": {
          "color": "rgb(255,65,54)"
         },
         "mode": "lines",
         "type": "scatter",
         "x": [
          0.9153505267659999,
          0.988381069604403,
          0.988381069604403,
          0.9703072099766603
         ],
         "xaxis": "x",
         "y": [
          -940,
          -940,
          -960,
          -960
         ],
         "yaxis": "y"
        },
        {
         "hoverinfo": "text",
         "marker": {
          "color": "rgb(35,205,205)"
         },
         "mode": "lines",
         "type": "scatter",
         "x": [
          0,
          0.8575938758661583,
          0.8575938758661583,
          0
         ],
         "xaxis": "x",
         "y": [
          -975,
          -975,
          -985,
          -985
         ],
         "yaxis": "y"
        },
        {
         "hoverinfo": "text",
         "marker": {
          "color": "rgb(61,153,112)"
         },
         "mode": "lines",
         "type": "scatter",
         "x": [
          0,
          0.9103409567491634,
          0.9103409567491634,
          0
         ],
         "xaxis": "x",
         "y": [
          -995,
          -995,
          -1005,
          -1005
         ],
         "yaxis": "y"
        },
        {
         "hoverinfo": "text",
         "marker": {
          "color": "rgb(0,116,217)"
         },
         "mode": "lines",
         "type": "scatter",
         "x": [
          0.8575938758661583,
          1.0219595073334264,
          1.0219595073334264,
          0.9103409567491634
         ],
         "xaxis": "x",
         "y": [
          -980,
          -980,
          -1000,
          -1000
         ],
         "yaxis": "y"
        },
        {
         "hoverinfo": "text",
         "marker": {
          "color": "rgb(0,116,217)"
         },
         "mode": "lines",
         "type": "scatter",
         "x": [
          0.988381069604403,
          1.0327603377536916,
          1.0327603377536916,
          1.0219595073334264
         ],
         "xaxis": "x",
         "y": [
          -950,
          -950,
          -990,
          -990
         ],
         "yaxis": "y"
        },
        {
         "hoverinfo": "text",
         "marker": {
          "color": "rgb(0,116,217)"
         },
         "mode": "lines",
         "type": "scatter",
         "x": [
          1.0465931921991205,
          1.0718818543189184,
          1.0718818543189184,
          1.0327603377536916
         ],
         "xaxis": "x",
         "y": [
          -818.28125,
          -818.28125,
          -970,
          -970
         ],
         "yaxis": "y"
        },
        {
         "hoverinfo": "text",
         "marker": {
          "color": "rgb(0,116,217)"
         },
         "mode": "lines",
         "type": "scatter",
         "x": [
          0.7880188751584792,
          1.2118872227616806,
          1.2118872227616806,
          1.0718818543189184
         ],
         "xaxis": "x",
         "y": [
          -757.5,
          -757.5,
          -894.140625,
          -894.140625
         ],
         "yaxis": "y"
        },
        {
         "hoverinfo": "text",
         "marker": {
          "color": "rgb(0,116,217)"
         },
         "mode": "lines",
         "type": "scatter",
         "x": [
          1.1904067436180743,
          1.255119305901095,
          1.255119305901095,
          1.2118872227616806
         ],
         "xaxis": "x",
         "y": [
          -640.390625,
          -640.390625,
          -825.8203125,
          -825.8203125
         ],
         "yaxis": "y"
        },
        {
         "hoverinfo": "text",
         "marker": {
          "color": "rgb(0,116,217)"
         },
         "mode": "lines",
         "type": "scatter",
         "x": [
          1.164311859536162,
          1.2878095499437576,
          1.2878095499437576,
          1.255119305901095
         ],
         "xaxis": "x",
         "y": [
          -217.6220703125,
          -217.6220703125,
          -733.10546875,
          -733.10546875
         ],
         "yaxis": "y"
        },
        {
         "hoverinfo": "text",
         "marker": {
          "color": "rgb(0,116,217)"
         },
         "mode": "lines",
         "type": "scatter",
         "x": [
          1.254772084149676,
          1.4739191787593076,
          1.4739191787593076,
          1.2878095499437576
         ],
         "xaxis": "x",
         "y": [
          -71.71875,
          -71.71875,
          -475.36376953125,
          -475.36376953125
         ],
         "yaxis": "y"
        }
       ],
       "layout": {
        "autosize": false,
        "height": 1715,
        "hoverlabel": {
         "bgcolor": "white",
         "font": {
          "family": "Rockwell",
          "size": 16
         }
        },
        "hovermode": "closest",
        "plot_bgcolor": "#ECEFF1",
        "showlegend": false,
        "template": {
         "data": {
          "bar": [
           {
            "error_x": {
             "color": "#2a3f5f"
            },
            "error_y": {
             "color": "#2a3f5f"
            },
            "marker": {
             "line": {
              "color": "white",
              "width": 0.5
             },
             "pattern": {
              "fillmode": "overlay",
              "size": 10,
              "solidity": 0.2
             }
            },
            "type": "bar"
           }
          ],
          "barpolar": [
           {
            "marker": {
             "line": {
              "color": "white",
              "width": 0.5
             },
             "pattern": {
              "fillmode": "overlay",
              "size": 10,
              "solidity": 0.2
             }
            },
            "type": "barpolar"
           }
          ],
          "carpet": [
           {
            "aaxis": {
             "endlinecolor": "#2a3f5f",
             "gridcolor": "#C8D4E3",
             "linecolor": "#C8D4E3",
             "minorgridcolor": "#C8D4E3",
             "startlinecolor": "#2a3f5f"
            },
            "baxis": {
             "endlinecolor": "#2a3f5f",
             "gridcolor": "#C8D4E3",
             "linecolor": "#C8D4E3",
             "minorgridcolor": "#C8D4E3",
             "startlinecolor": "#2a3f5f"
            },
            "type": "carpet"
           }
          ],
          "choropleth": [
           {
            "colorbar": {
             "outlinewidth": 0,
             "ticks": ""
            },
            "type": "choropleth"
           }
          ],
          "contour": [
           {
            "colorbar": {
             "outlinewidth": 0,
             "ticks": ""
            },
            "colorscale": [
             [
              0,
              "#0d0887"
             ],
             [
              0.1111111111111111,
              "#46039f"
             ],
             [
              0.2222222222222222,
              "#7201a8"
             ],
             [
              0.3333333333333333,
              "#9c179e"
             ],
             [
              0.4444444444444444,
              "#bd3786"
             ],
             [
              0.5555555555555556,
              "#d8576b"
             ],
             [
              0.6666666666666666,
              "#ed7953"
             ],
             [
              0.7777777777777778,
              "#fb9f3a"
             ],
             [
              0.8888888888888888,
              "#fdca26"
             ],
             [
              1,
              "#f0f921"
             ]
            ],
            "type": "contour"
           }
          ],
          "contourcarpet": [
           {
            "colorbar": {
             "outlinewidth": 0,
             "ticks": ""
            },
            "type": "contourcarpet"
           }
          ],
          "heatmap": [
           {
            "colorbar": {
             "outlinewidth": 0,
             "ticks": ""
            },
            "colorscale": [
             [
              0,
              "#0d0887"
             ],
             [
              0.1111111111111111,
              "#46039f"
             ],
             [
              0.2222222222222222,
              "#7201a8"
             ],
             [
              0.3333333333333333,
              "#9c179e"
             ],
             [
              0.4444444444444444,
              "#bd3786"
             ],
             [
              0.5555555555555556,
              "#d8576b"
             ],
             [
              0.6666666666666666,
              "#ed7953"
             ],
             [
              0.7777777777777778,
              "#fb9f3a"
             ],
             [
              0.8888888888888888,
              "#fdca26"
             ],
             [
              1,
              "#f0f921"
             ]
            ],
            "type": "heatmap"
           }
          ],
          "heatmapgl": [
           {
            "colorbar": {
             "outlinewidth": 0,
             "ticks": ""
            },
            "colorscale": [
             [
              0,
              "#0d0887"
             ],
             [
              0.1111111111111111,
              "#46039f"
             ],
             [
              0.2222222222222222,
              "#7201a8"
             ],
             [
              0.3333333333333333,
              "#9c179e"
             ],
             [
              0.4444444444444444,
              "#bd3786"
             ],
             [
              0.5555555555555556,
              "#d8576b"
             ],
             [
              0.6666666666666666,
              "#ed7953"
             ],
             [
              0.7777777777777778,
              "#fb9f3a"
             ],
             [
              0.8888888888888888,
              "#fdca26"
             ],
             [
              1,
              "#f0f921"
             ]
            ],
            "type": "heatmapgl"
           }
          ],
          "histogram": [
           {
            "marker": {
             "pattern": {
              "fillmode": "overlay",
              "size": 10,
              "solidity": 0.2
             }
            },
            "type": "histogram"
           }
          ],
          "histogram2d": [
           {
            "colorbar": {
             "outlinewidth": 0,
             "ticks": ""
            },
            "colorscale": [
             [
              0,
              "#0d0887"
             ],
             [
              0.1111111111111111,
              "#46039f"
             ],
             [
              0.2222222222222222,
              "#7201a8"
             ],
             [
              0.3333333333333333,
              "#9c179e"
             ],
             [
              0.4444444444444444,
              "#bd3786"
             ],
             [
              0.5555555555555556,
              "#d8576b"
             ],
             [
              0.6666666666666666,
              "#ed7953"
             ],
             [
              0.7777777777777778,
              "#fb9f3a"
             ],
             [
              0.8888888888888888,
              "#fdca26"
             ],
             [
              1,
              "#f0f921"
             ]
            ],
            "type": "histogram2d"
           }
          ],
          "histogram2dcontour": [
           {
            "colorbar": {
             "outlinewidth": 0,
             "ticks": ""
            },
            "colorscale": [
             [
              0,
              "#0d0887"
             ],
             [
              0.1111111111111111,
              "#46039f"
             ],
             [
              0.2222222222222222,
              "#7201a8"
             ],
             [
              0.3333333333333333,
              "#9c179e"
             ],
             [
              0.4444444444444444,
              "#bd3786"
             ],
             [
              0.5555555555555556,
              "#d8576b"
             ],
             [
              0.6666666666666666,
              "#ed7953"
             ],
             [
              0.7777777777777778,
              "#fb9f3a"
             ],
             [
              0.8888888888888888,
              "#fdca26"
             ],
             [
              1,
              "#f0f921"
             ]
            ],
            "type": "histogram2dcontour"
           }
          ],
          "mesh3d": [
           {
            "colorbar": {
             "outlinewidth": 0,
             "ticks": ""
            },
            "type": "mesh3d"
           }
          ],
          "parcoords": [
           {
            "line": {
             "colorbar": {
              "outlinewidth": 0,
              "ticks": ""
             }
            },
            "type": "parcoords"
           }
          ],
          "pie": [
           {
            "automargin": true,
            "type": "pie"
           }
          ],
          "scatter": [
           {
            "fillpattern": {
             "fillmode": "overlay",
             "size": 10,
             "solidity": 0.2
            },
            "type": "scatter"
           }
          ],
          "scatter3d": [
           {
            "line": {
             "colorbar": {
              "outlinewidth": 0,
              "ticks": ""
             }
            },
            "marker": {
             "colorbar": {
              "outlinewidth": 0,
              "ticks": ""
             }
            },
            "type": "scatter3d"
           }
          ],
          "scattercarpet": [
           {
            "marker": {
             "colorbar": {
              "outlinewidth": 0,
              "ticks": ""
             }
            },
            "type": "scattercarpet"
           }
          ],
          "scattergeo": [
           {
            "marker": {
             "colorbar": {
              "outlinewidth": 0,
              "ticks": ""
             }
            },
            "type": "scattergeo"
           }
          ],
          "scattergl": [
           {
            "marker": {
             "colorbar": {
              "outlinewidth": 0,
              "ticks": ""
             }
            },
            "type": "scattergl"
           }
          ],
          "scattermapbox": [
           {
            "marker": {
             "colorbar": {
              "outlinewidth": 0,
              "ticks": ""
             }
            },
            "type": "scattermapbox"
           }
          ],
          "scatterpolar": [
           {
            "marker": {
             "colorbar": {
              "outlinewidth": 0,
              "ticks": ""
             }
            },
            "type": "scatterpolar"
           }
          ],
          "scatterpolargl": [
           {
            "marker": {
             "colorbar": {
              "outlinewidth": 0,
              "ticks": ""
             }
            },
            "type": "scatterpolargl"
           }
          ],
          "scatterternary": [
           {
            "marker": {
             "colorbar": {
              "outlinewidth": 0,
              "ticks": ""
             }
            },
            "type": "scatterternary"
           }
          ],
          "surface": [
           {
            "colorbar": {
             "outlinewidth": 0,
             "ticks": ""
            },
            "colorscale": [
             [
              0,
              "#0d0887"
             ],
             [
              0.1111111111111111,
              "#46039f"
             ],
             [
              0.2222222222222222,
              "#7201a8"
             ],
             [
              0.3333333333333333,
              "#9c179e"
             ],
             [
              0.4444444444444444,
              "#bd3786"
             ],
             [
              0.5555555555555556,
              "#d8576b"
             ],
             [
              0.6666666666666666,
              "#ed7953"
             ],
             [
              0.7777777777777778,
              "#fb9f3a"
             ],
             [
              0.8888888888888888,
              "#fdca26"
             ],
             [
              1,
              "#f0f921"
             ]
            ],
            "type": "surface"
           }
          ],
          "table": [
           {
            "cells": {
             "fill": {
              "color": "#EBF0F8"
             },
             "line": {
              "color": "white"
             }
            },
            "header": {
             "fill": {
              "color": "#C8D4E3"
             },
             "line": {
              "color": "white"
             }
            },
            "type": "table"
           }
          ]
         },
         "layout": {
          "annotationdefaults": {
           "arrowcolor": "#2a3f5f",
           "arrowhead": 0,
           "arrowwidth": 1
          },
          "autotypenumbers": "strict",
          "coloraxis": {
           "colorbar": {
            "outlinewidth": 0,
            "ticks": ""
           }
          },
          "colorscale": {
           "diverging": [
            [
             0,
             "#8e0152"
            ],
            [
             0.1,
             "#c51b7d"
            ],
            [
             0.2,
             "#de77ae"
            ],
            [
             0.3,
             "#f1b6da"
            ],
            [
             0.4,
             "#fde0ef"
            ],
            [
             0.5,
             "#f7f7f7"
            ],
            [
             0.6,
             "#e6f5d0"
            ],
            [
             0.7,
             "#b8e186"
            ],
            [
             0.8,
             "#7fbc41"
            ],
            [
             0.9,
             "#4d9221"
            ],
            [
             1,
             "#276419"
            ]
           ],
           "sequential": [
            [
             0,
             "#0d0887"
            ],
            [
             0.1111111111111111,
             "#46039f"
            ],
            [
             0.2222222222222222,
             "#7201a8"
            ],
            [
             0.3333333333333333,
             "#9c179e"
            ],
            [
             0.4444444444444444,
             "#bd3786"
            ],
            [
             0.5555555555555556,
             "#d8576b"
            ],
            [
             0.6666666666666666,
             "#ed7953"
            ],
            [
             0.7777777777777778,
             "#fb9f3a"
            ],
            [
             0.8888888888888888,
             "#fdca26"
            ],
            [
             1,
             "#f0f921"
            ]
           ],
           "sequentialminus": [
            [
             0,
             "#0d0887"
            ],
            [
             0.1111111111111111,
             "#46039f"
            ],
            [
             0.2222222222222222,
             "#7201a8"
            ],
            [
             0.3333333333333333,
             "#9c179e"
            ],
            [
             0.4444444444444444,
             "#bd3786"
            ],
            [
             0.5555555555555556,
             "#d8576b"
            ],
            [
             0.6666666666666666,
             "#ed7953"
            ],
            [
             0.7777777777777778,
             "#fb9f3a"
            ],
            [
             0.8888888888888888,
             "#fdca26"
            ],
            [
             1,
             "#f0f921"
            ]
           ]
          },
          "colorway": [
           "#636efa",
           "#EF553B",
           "#00cc96",
           "#ab63fa",
           "#FFA15A",
           "#19d3f3",
           "#FF6692",
           "#B6E880",
           "#FF97FF",
           "#FECB52"
          ],
          "font": {
           "color": "#2a3f5f"
          },
          "geo": {
           "bgcolor": "white",
           "lakecolor": "white",
           "landcolor": "white",
           "showlakes": true,
           "showland": true,
           "subunitcolor": "#C8D4E3"
          },
          "hoverlabel": {
           "align": "left"
          },
          "hovermode": "closest",
          "mapbox": {
           "style": "light"
          },
          "paper_bgcolor": "white",
          "plot_bgcolor": "white",
          "polar": {
           "angularaxis": {
            "gridcolor": "#EBF0F8",
            "linecolor": "#EBF0F8",
            "ticks": ""
           },
           "bgcolor": "white",
           "radialaxis": {
            "gridcolor": "#EBF0F8",
            "linecolor": "#EBF0F8",
            "ticks": ""
           }
          },
          "scene": {
           "xaxis": {
            "backgroundcolor": "white",
            "gridcolor": "#DFE8F3",
            "gridwidth": 2,
            "linecolor": "#EBF0F8",
            "showbackground": true,
            "ticks": "",
            "zerolinecolor": "#EBF0F8"
           },
           "yaxis": {
            "backgroundcolor": "white",
            "gridcolor": "#DFE8F3",
            "gridwidth": 2,
            "linecolor": "#EBF0F8",
            "showbackground": true,
            "ticks": "",
            "zerolinecolor": "#EBF0F8"
           },
           "zaxis": {
            "backgroundcolor": "white",
            "gridcolor": "#DFE8F3",
            "gridwidth": 2,
            "linecolor": "#EBF0F8",
            "showbackground": true,
            "ticks": "",
            "zerolinecolor": "#EBF0F8"
           }
          },
          "shapedefaults": {
           "line": {
            "color": "#2a3f5f"
           }
          },
          "ternary": {
           "aaxis": {
            "gridcolor": "#DFE8F3",
            "linecolor": "#A2B1C6",
            "ticks": ""
           },
           "baxis": {
            "gridcolor": "#DFE8F3",
            "linecolor": "#A2B1C6",
            "ticks": ""
           },
           "bgcolor": "white",
           "caxis": {
            "gridcolor": "#DFE8F3",
            "linecolor": "#A2B1C6",
            "ticks": ""
           }
          },
          "title": {
           "x": 0.05
          },
          "xaxis": {
           "automargin": true,
           "gridcolor": "#EBF0F8",
           "linecolor": "#EBF0F8",
           "ticks": "",
           "title": {
            "standoff": 15
           },
           "zerolinecolor": "#EBF0F8",
           "zerolinewidth": 2
          },
          "yaxis": {
           "automargin": true,
           "gridcolor": "#EBF0F8",
           "linecolor": "#EBF0F8",
           "ticks": "",
           "title": {
            "standoff": 15
           },
           "zerolinecolor": "#EBF0F8",
           "zerolinewidth": 2
          }
         }
        },
        "title": {
         "font": {
          "color": "Black",
          "size": 22
         },
         "text": "<b>Hierarchical Clustering</b>",
         "x": 0.5,
         "xanchor": "center",
         "yanchor": "top"
        },
        "width": 1000,
        "xaxis": {
         "mirror": "allticks",
         "rangemode": "tozero",
         "showgrid": false,
         "showline": true,
         "showticklabels": true,
         "ticks": "outside",
         "type": "linear",
         "zeroline": false
        },
        "yaxis": {
         "mirror": "allticks",
         "range": [
          -1010,
          0
         ],
         "rangemode": "tozero",
         "showgrid": false,
         "showline": true,
         "showticklabels": true,
         "tickmode": "array",
         "ticks": "outside",
         "ticktext": [
          "80_clarification_clarificat...",
          "2_questions_any_contact",
          "57_interested_contact_perso...",
          "81_me_5240_or",
          "6_cell_my_me",
          "52_urgent_emergency_cell",
          "45_con_conf_call",
          "16_discuss_give_call",
          "5_conference_call_set",
          "14_30_call_am",
          "1_call_give_person",
          "0_him_he_her",
          "28_office_call_desk",
          "93_initiate_calls_make",
          "34_copy_soft_send",
          "54_copy_document_documents",
          "27_document_documents_pdf",
          "73_update_updates_an",
          "47_list_changes_update",
          "43_list_send_me",
          "64_features_feature_release",
          "83_calendar_meeting_outlook",
          "11_meeting_meetings_request",
          "82_them_contact_contacted",
          "22_them_these_will",
          "17_password_webex_username",
          "42_itinerary_travel_flight",
          "35_pictures_photos_picture",
          "40_lunch_dinner_food",
          "31_demo_we_the",
          "67_application_applications...",
          "41_technical_support_tech",
          "30_event_attend_attending",
          "8_presentation_slides_prese...",
          "21_sun_reps_with",
          "76_schedule_will_dates",
          "19_pricing_price_cost",
          "26_project_estimate_plan",
          "58_proposal_plan_proposals",
          "24_spreadsheet_excel_sheet",
          "51_rfp_rfi_boeing",
          "97_forecast_forecasts_forec...",
          "88_analysts_analyst_iap",
          "90_usps_deployment_202",
          "59_details_info_later",
          "89_links_details_answer",
          "84_group_centives_remains",
          "18_comments_review_please",
          "55_changes_change_modificat...",
          "79_code_example_sample",
          "85_specs_spec_functional",
          "87_template_templates_compact",
          "56_cc_ed_emails",
          "63_vss_files_applicationsen...",
          "23_files_file_zip",
          "36_aml_files_pages",
          "75_log_logs_files",
          "20_bugzilla_bug_bugs",
          "49_build_testing_wilhan",
          "86_server_servers_ip",
          "13_test_tests_testing",
          "15_pqa_quicken_application",
          "29_error_page_messages",
          "7_jsp_servlet_bean",
          "66_pager_ops_pagers",
          "32_rim_dds_pager",
          "94_problem_issue_resolved",
          "68_issue_problem_solution",
          "33_check_cheque_checks",
          "25_checking_be_check",
          "4_voicemail_voice_left",
          "3_email_did_person",
          "39_emails_external_mail",
          "50_attachment_attachments_mb",
          "78_expense_report_reports",
          "74_report_reports_me",
          "60_status_report_reports",
          "99_ups_shipment_8900",
          "61_fedex_tracking_ups",
          "48_draft_final_send",
          "38_nda_mutual_signed",
          "12_contract_agreement_signed",
          "10_fax_faxes_number",
          "62_form_forms_fill",
          "98_hosting_referencing_level",
          "44_invoice_invoices_payment",
          "95_approval_shoot_them",
          "70_interview_interviews_int...",
          "9_resume_resumes_job",
          "71_dell_laptop_laptops",
          "69_cd_cds_kmt",
          "46_license_licensing_licenses",
          "92_verizon_sprint_pcs",
          "65_ignore_disregard_previous",
          "53_missed_hi_sorry",
          "72_agenda_detailed_bombard",
          "96_directions_place_3296",
          "100_icons_icon_gif",
          "37_logo_logos_eps",
          "91_visio_version_lower",
          "77_resend_it_can"
         ],
         "tickvals": [
          -5,
          -15,
          -25,
          -35,
          -45,
          -55,
          -65,
          -75,
          -85,
          -95,
          -105,
          -115,
          -125,
          -135,
          -145,
          -155,
          -165,
          -175,
          -185,
          -195,
          -205,
          -215,
          -225,
          -235,
          -245,
          -255,
          -265,
          -275,
          -285,
          -295,
          -305,
          -315,
          -325,
          -335,
          -345,
          -355,
          -365,
          -375,
          -385,
          -395,
          -405,
          -415,
          -425,
          -435,
          -445,
          -455,
          -465,
          -475,
          -485,
          -495,
          -505,
          -515,
          -525,
          -535,
          -545,
          -555,
          -565,
          -575,
          -585,
          -595,
          -605,
          -615,
          -625,
          -635,
          -645,
          -655,
          -665,
          -675,
          -685,
          -695,
          -705,
          -715,
          -725,
          -735,
          -745,
          -755,
          -765,
          -775,
          -785,
          -795,
          -805,
          -815,
          -825,
          -835,
          -845,
          -855,
          -865,
          -875,
          -885,
          -895,
          -905,
          -915,
          -925,
          -935,
          -945,
          -955,
          -965,
          -975,
          -985,
          -995,
          -1005
         ],
         "type": "linear",
         "zeroline": false
        }
       }
      }
     },
     "metadata": {},
     "output_type": "display_data"
    }
   ],
   "source": [
    "topic_model.visualize_hierarchy(custom_labels=False)"
   ]
  },
  {
   "cell_type": "code",
   "execution_count": 1660,
   "metadata": {},
   "outputs": [
    {
     "name": "stderr",
     "output_type": "stream",
     "text": [
      "2024-11-02 19:20:00,206 - BERTopic - WARNING: When you use `pickle` to save/load a BERTopic model,please make sure that the environments in which you saveand load the model are **exactly** the same. The version of BERTopic,its dependencies, and python need to remain the same.\n"
     ]
    }
   ],
   "source": [
    "topic_model.save(\"../../data/bertopic_models/intent/send_new/send_final\")"
   ]
  },
  {
   "cell_type": "markdown",
   "metadata": {},
   "source": [
    "### Create Dataset for intent 'send'"
   ]
  },
  {
   "cell_type": "markdown",
   "metadata": {},
   "source": [
    "####  Labels"
   ]
  },
  {
   "cell_type": "markdown",
   "metadata": {},
   "source": [
    "Created custom labels for topics\n",
    "\n",
    "| Label                             | Description                                       | Extraction Strings | Context needed |\n",
    "|-----------------------------------|---------------------------------------------------|--------------------|----------------|\n",
    "| send_it                           | Something is being send.                          | Data 2   |\n",
    "|0_send_something\n",
    "|1_send_review  ||'review', 'comment', 'suggestion', 'feedback', 'correction'|\n",
    "|2_send_presentation || 'powerpoint', 'presentation', 'slide', 'ppt', \n",
    "|3_send_files || ''\n",
    "|4_send_contract\n",
    "|5_send_copy   || copy\n",
    "|6_send_pqa || pqa\n",
    "|7_item_oca_data_osa\n",
    "|8_send_fax ||fax\n",
    "|9_send_update_changes || 'update','change' \n",
    "|10_send_pictures || 'pic','jpeg', 'image', 'photo'\n",
    "|11_send_meeting_request || 'meeting'\n",
    "|12_meeting_calendar_request_meetings\n",
    "|13_send_test_results\n",
    "|14_send_details_information || 'information', 'details'\n",
    "|15_send_list\n",
    "|16_send_invitation\n",
    "|17_send_resume\n",
    "|18_resume_resumes_my_me\n",
    "|19_send_bug_status"
   ]
  },
  {
   "cell_type": "markdown",
   "metadata": {},
   "source": [
    "#### Inspecting Topics"
   ]
  },
  {
   "cell_type": "code",
   "execution_count": 1672,
   "metadata": {},
   "outputs": [
    {
     "data": {
      "text/plain": [
       "'\\nfor  label in topic_model.custom_labels_:\\n   print(label)'"
      ]
     },
     "execution_count": 1672,
     "metadata": {},
     "output_type": "execute_result"
    }
   ],
   "source": [
    "'''\n",
    "for  label in topic_model.custom_labels_:\n",
    "   print(label)'''"
   ]
  },
  {
   "cell_type": "code",
   "execution_count": 3,
   "metadata": {},
   "outputs": [],
   "source": [
    "topic_model = BERTopic.load(\"../../data/bertopic_models/processed/send_final\")"
   ]
  },
  {
   "cell_type": "code",
   "execution_count": null,
   "metadata": {},
   "outputs": [],
   "source": []
  },
  {
   "cell_type": "code",
   "execution_count": 1833,
   "metadata": {},
   "outputs": [
    {
     "name": "stdout",
     "output_type": "stream",
     "text": [
      "Label: press_release_releases_kits\n",
      "\n",
      "Number of sentences for label: 67\n",
      "\n",
      "Sentences:\n",
      "\n",
      "Gents ,   Thanks for sending this along .\n",
      "Thanks a lot for sending this .\n",
      "Thanks for sending this our way .\n",
      "[PERSON] ,    Thanks for sending the other materials .\n",
      "Yes .     [PERSON] ,     Do you have one that you can send to me ?\n",
      "[PERSON] ,   Thanks for sending this .\n",
      "[PERSON] ,    Thank you for reading the things that I sent you .\n",
      "Thanks for sending this out .\n",
      "Send me what you have thus far .    Thanks ,    [PERSON] .\n",
      "[PERSON] , thanks for sending out the email earlier .\n",
      "[PERSON]    I meant to send this to you also .\n",
      "[PERSON] , thanks for sending this along .\n",
      "[PERSON] ,     Thanks for sending me the itineraries .\n",
      "[PERSON] , Thanks for sending the calculation over .\n",
      "[PERSON] ,    Thanks for sending this message .\n",
      "I thank you for sending a good guy over here .\n",
      "Thanks for sending these .\n",
      "Thanks for sending it out last night !     Amit .\n",
      "Thanks for the sending the request [PERSON] .    Regards ,   Shawn\n",
      "[ Sorry for the delay in sending this out . ]\n",
      "[PERSON] ;    This is the last thing I am going to send you tonite .\n",
      "[PERSON] ;    These are rough , however i will send you my first cut .\n",
      "[PERSON] ,    Thanks for sending this on .\n",
      "[PERSON] ,    Thanks for sending the insertion order .\n",
      "Hey [PERSON]    Thanks for sending that .\n",
      "[PERSON] ,    Thank you for sending this .\n",
      "[PERSON] ,    Thanks for sending me the details .\n",
      "[PERSON] ,   Thanks for sending the additional zip codes .\n",
      "Thanks for sending the snapshot .\n",
      "Jon-   Thanks for sending this .\n",
      "[PERSON] ,     Thanks so much for helping me out and sending me a reminder .\n",
      "[PERSON] , I will keep trying ... also , I will send over the itinerieries I have ticketed .\n",
      "[PERSON] ,    Thanks for sending this over , and for all your work to date .\n",
      "[PERSON] ,    Thanks for sending the info over .\n",
      "[PERSON] ,    thanks for sending this to out everyone .\n",
      "[PERSON] ,     Do n't know if I sent you this .\n",
      "Thanks for sending the link to the pix !\n",
      "[PERSON] ,    Thank you so much for sending this letter .\n",
      "[PERSON] ,    Thank you for sending us some equipments .\n",
      "Thanks for sending this to me ...\n",
      "Sreenivas ,    Thanks for sending this out .\n",
      "Amit , thanks for sending these .\n",
      "Thanks for   sending that to me .\n",
      "Venk ,    Thanks for sending this .\n",
      "Thanks and keep sending it to me ...\n",
      "hey [PERSON] ,    thanks for the urls ...   let me know what you think before i send it out to everyone .\n",
      "Thanks for sending them .\n",
      "Thank you for sending this out .\n",
      "( [PERSON] are n't you glad I   > > am sending this out for you , I bet you are regretting it now ! ) .\n",
      "thanks for the feedback [PERSON] .   may i see what you sent them as your pitch .\n",
      "Thanks [PERSON] , I was just about send my points on this .\n",
      "Thanks for sending this out to me tonight .\n",
      "[PERSON] ,   Thanks for sending these forms .\n",
      "[PERSON] ,    Thanks for sending out the email .\n",
      "[PERSON] Before I send this out let me know what you think .\n",
      "[PERSON] , please do n't send anything without me looking at it first .\n",
      "Great story , thanks for sending it ! ! !\n",
      "[PERSON] , I am sending this again .\n",
      "[PERSON] ,    Thanks for send us your projections earlier this week .\n",
      "Thanks for sending it .\n",
      "[PERSON] sent this out earlier , but thanks for making sure of it .\n",
      "[PERSON] [PERSON] ,    thanks for sending me your info .   have a great day at work .\n",
      "Thanks for sending this to me .\n",
      "[PERSON] ,    Thank you for sending this to me for my approval .\n",
      "[PERSON] ;    Thanks for the feedback on the comp i sent you yesterday .\n",
      "Thanks for sending this .\n",
      "Thanks [PERSON] for sending this out .\n"
     ]
    }
   ],
   "source": [
    "topic_nr_to_inspect = 31\n",
    "topic_docs = inspect_topic_and_its_docs(topic_nr=topic_nr_to_inspect, n_docs=100)"
   ]
  },
  {
   "cell_type": "code",
   "execution_count": 1817,
   "metadata": {},
   "outputs": [],
   "source": [
    "# Based on the inspection of the sentences\n",
    "white_list = [\n",
    "    'resume', 'cv', \n",
    "]\n",
    "black_list = [\n",
    "]"
   ]
  },
  {
   "cell_type": "code",
   "execution_count": 1818,
   "metadata": {},
   "outputs": [
    {
     "name": "stdout",
     "output_type": "stream",
     "text": [
      "Amount of sentences: 121\n"
     ]
    },
    {
     "data": {
      "text/plain": [
       "['Please send me your latest / updated resumes if you are still looking for .',\n",
       " \"If he is interested , send me his resume and I 'll get [PERSON] to   have the right people look at it .\",\n",
       " 'I thought that you might have sent the wrong copy of your resume .',\n",
       " 'I want   to get into Business Development and was wondering if you could send my   resume to your contacts .',\n",
       " 'The other night we talked on the hallway   and you asked me to send you my resume , which I am attaching .']"
      ]
     },
     "execution_count": 1818,
     "metadata": {},
     "output_type": "execute_result"
    }
   ],
   "source": [
    "sentences_to_keep = filter_topic_documents(topic_docs=topic_docs, white_list=white_list, black_list=black_list)\n",
    "sentences_to_keep[:5]"
   ]
  },
  {
   "cell_type": "code",
   "execution_count": 1819,
   "metadata": {},
   "outputs": [
    {
     "data": {
      "text/html": [
       "<div>\n",
       "<style scoped>\n",
       "    .dataframe tbody tr th:only-of-type {\n",
       "        vertical-align: middle;\n",
       "    }\n",
       "\n",
       "    .dataframe tbody tr th {\n",
       "        vertical-align: top;\n",
       "    }\n",
       "\n",
       "    .dataframe thead th {\n",
       "        text-align: right;\n",
       "    }\n",
       "</style>\n",
       "<table border=\"1\" class=\"dataframe\">\n",
       "  <thead>\n",
       "    <tr style=\"text-align: right;\">\n",
       "      <th></th>\n",
       "      <th>text</th>\n",
       "      <th>label</th>\n",
       "    </tr>\n",
       "  </thead>\n",
       "  <tbody>\n",
       "    <tr>\n",
       "      <th>0</th>\n",
       "      <td>Please send   your comments to me ASAP , but n...</td>\n",
       "      <td>send_review</td>\n",
       "    </tr>\n",
       "    <tr>\n",
       "      <th>1</th>\n",
       "      <td>Please review and send feedback .</td>\n",
       "      <td>send_review</td>\n",
       "    </tr>\n",
       "    <tr>\n",
       "      <th>2</th>\n",
       "      <td>If you would like ask a question , or if you j...</td>\n",
       "      <td>send_review</td>\n",
       "    </tr>\n",
       "    <tr>\n",
       "      <th>3</th>\n",
       "      <td>I am sending it to the customer to   review an...</td>\n",
       "      <td>send_review</td>\n",
       "    </tr>\n",
       "    <tr>\n",
       "      <th>4</th>\n",
       "      <td>Thanks for capturing all the feedback and send...</td>\n",
       "      <td>send_review</td>\n",
       "    </tr>\n",
       "    <tr>\n",
       "      <th>...</th>\n",
       "      <td>...</td>\n",
       "      <td>...</td>\n",
       "    </tr>\n",
       "    <tr>\n",
       "      <th>1293</th>\n",
       "      <td>Do you want me to send you my resume ?</td>\n",
       "      <td>send_resume</td>\n",
       "    </tr>\n",
       "    <tr>\n",
       "      <th>1294</th>\n",
       "      <td>I am not sure if you have already sent me your...</td>\n",
       "      <td>send_resume</td>\n",
       "    </tr>\n",
       "    <tr>\n",
       "      <th>1295</th>\n",
       "      <td>Per you request , I am sending you my resume .</td>\n",
       "      <td>send_resume</td>\n",
       "    </tr>\n",
       "    <tr>\n",
       "      <th>1296</th>\n",
       "      <td>I will look for my resume and send it to you .</td>\n",
       "      <td>send_resume</td>\n",
       "    </tr>\n",
       "    <tr>\n",
       "      <th>1297</th>\n",
       "      <td>You also mentioned a name there perhaps I will...</td>\n",
       "      <td>send_resume</td>\n",
       "    </tr>\n",
       "  </tbody>\n",
       "</table>\n",
       "<p>1298 rows × 2 columns</p>\n",
       "</div>"
      ],
      "text/plain": [
       "                                                   text        label\n",
       "0     Please send   your comments to me ASAP , but n...  send_review\n",
       "1                     Please review and send feedback .  send_review\n",
       "2     If you would like ask a question , or if you j...  send_review\n",
       "3     I am sending it to the customer to   review an...  send_review\n",
       "4     Thanks for capturing all the feedback and send...  send_review\n",
       "...                                                 ...          ...\n",
       "1293             Do you want me to send you my resume ?  send_resume\n",
       "1294  I am not sure if you have already sent me your...  send_resume\n",
       "1295     Per you request , I am sending you my resume .  send_resume\n",
       "1296     I will look for my resume and send it to you .  send_resume\n",
       "1297  You also mentioned a name there perhaps I will...  send_resume\n",
       "\n",
       "[1298 rows x 2 columns]"
      ]
     },
     "execution_count": 1819,
     "metadata": {},
     "output_type": "execute_result"
    }
   ],
   "source": [
    "df = pd.DataFrame({\"text\": sentences_to_keep, \"label\": get_label_from_topic_nr(topic_nr_to_inspect)})\n",
    "concat_to_df(df, filepath=\"../../data/labeled/send.tsv\", overwrite=True)"
   ]
  },
  {
   "cell_type": "code",
   "execution_count": 1770,
   "metadata": {},
   "outputs": [
    {
     "data": {
      "text/html": [
       "<div>\n",
       "<style scoped>\n",
       "    .dataframe tbody tr th:only-of-type {\n",
       "        vertical-align: middle;\n",
       "    }\n",
       "\n",
       "    .dataframe tbody tr th {\n",
       "        vertical-align: top;\n",
       "    }\n",
       "\n",
       "    .dataframe thead th {\n",
       "        text-align: right;\n",
       "    }\n",
       "</style>\n",
       "<table border=\"1\" class=\"dataframe\">\n",
       "  <thead>\n",
       "    <tr style=\"text-align: right;\">\n",
       "      <th></th>\n",
       "      <th>text</th>\n",
       "      <th>label</th>\n",
       "    </tr>\n",
       "  </thead>\n",
       "  <tbody>\n",
       "  </tbody>\n",
       "</table>\n",
       "</div>"
      ],
      "text/plain": [
       "Empty DataFrame\n",
       "Columns: [text, label]\n",
       "Index: []"
      ]
     },
     "execution_count": 1770,
     "metadata": {},
     "output_type": "execute_result"
    }
   ],
   "source": [
    "df.head()"
   ]
  },
  {
   "cell_type": "code",
   "execution_count": null,
   "metadata": {},
   "outputs": [],
   "source": []
  }
 ],
 "metadata": {
  "kernelspec": {
   "display_name": "Python 3",
   "language": "python",
   "name": "python3"
  },
  "language_info": {
   "codemirror_mode": {
    "name": "ipython",
    "version": 3
   },
   "file_extension": ".py",
   "mimetype": "text/x-python",
   "name": "python",
   "nbconvert_exporter": "python",
   "pygments_lexer": "ipython3",
   "version": "3.12.7"
  }
 },
 "nbformat": 4,
 "nbformat_minor": 2
}
