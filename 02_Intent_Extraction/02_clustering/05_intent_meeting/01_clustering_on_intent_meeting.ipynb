{
 "cells": [
  {
   "cell_type": "markdown",
   "metadata": {},
   "source": [
    "# Hierarchical Clustering on Target Sentences\n",
    "to help deriving a taxonomy for intents, hierarchical clustering is being leveraged."
   ]
  },
  {
   "cell_type": "markdown",
   "metadata": {},
   "source": [
    "#### Functions"
   ]
  },
  {
   "cell_type": "markdown",
   "metadata": {},
   "source": [
    "####"
   ]
  },
  {
   "cell_type": "code",
   "execution_count": 2,
   "metadata": {},
   "outputs": [],
   "source": [
    "from bertopic import BERTopic\n",
    "from scipy.cluster import hierarchy as sch\n",
    "import pandas as pd\n",
    "import logging\n",
    "from sklearn.metrics.pairwise import cosine_distances\n",
    "from tqdm import tqdm\n",
    "import numpy as np\n",
    "from umap import UMAP\n",
    "from hdbscan import HDBSCAN\n",
    "from sentence_transformers import SentenceTransformer\n",
    "import re\n",
    "import sys\n",
    "sys.path.append('../../../')\n",
    "from utility.utility_functions import *"
   ]
  },
  {
   "cell_type": "code",
   "execution_count": 3,
   "metadata": {},
   "outputs": [],
   "source": [
    "df = pd.read_parquet('../../../data/processed/intents/meeting.parquet', engine='fastparquet')"
   ]
  },
  {
   "cell_type": "code",
   "execution_count": 4,
   "metadata": {},
   "outputs": [],
   "source": [
    "df['target'] = df['target'].str.replace(r'\\r\\n', ' ', regex=True)\n",
    "docs = list(set(df['target'].tolist()))"
   ]
  },
  {
   "cell_type": "code",
   "execution_count": 5,
   "metadata": {},
   "outputs": [
    {
     "data": {
      "text/plain": [
       "10782"
      ]
     },
     "execution_count": 5,
     "metadata": {},
     "output_type": "execute_result"
    }
   ],
   "source": [
    "# Amount of unique target sentences\n",
    "len(docs)"
   ]
  },
  {
   "cell_type": "markdown",
   "metadata": {},
   "source": [
    "## Training the Model"
   ]
  },
  {
   "cell_type": "code",
   "execution_count": 6,
   "metadata": {},
   "outputs": [],
   "source": [
    "# Configure logging\n",
    "logging.basicConfig(level=logging.INFO)\n",
    "logger = logging.getLogger(\"BERTopic\")\n",
    "logger.setLevel(logging.INFO)"
   ]
  },
  {
   "cell_type": "code",
   "execution_count": 7,
   "metadata": {},
   "outputs": [
    {
     "name": "stderr",
     "output_type": "stream",
     "text": [
      "INFO:sentence_transformers.SentenceTransformer:Use pytorch device_name: mps\n",
      "INFO:sentence_transformers.SentenceTransformer:Load pretrained SentenceTransformer: all-MiniLM-L6-v2\n",
      "2024-11-10 16:22:59,113 - BERTopic - Embedding - Transforming documents to embeddings.\n"
     ]
    },
    {
     "data": {
      "application/vnd.jupyter.widget-view+json": {
       "model_id": "3daabe6fb5b54d22aeed78af6859ff65",
       "version_major": 2,
       "version_minor": 0
      },
      "text/plain": [
       "Batches:   0%|          | 0/337 [00:00<?, ?it/s]"
      ]
     },
     "metadata": {},
     "output_type": "display_data"
    },
    {
     "name": "stderr",
     "output_type": "stream",
     "text": [
      "2024-11-10 16:23:21,492 - BERTopic - Embedding - Completed ✓\n",
      "2024-11-10 16:23:21,493 - BERTopic - Dimensionality - Fitting the dimensionality reduction algorithm\n",
      "2024-11-10 16:23:34,030 - BERTopic - Dimensionality - Completed ✓\n",
      "2024-11-10 16:23:34,031 - BERTopic - Cluster - Start clustering the reduced embeddings\n",
      "2024-11-10 16:23:34,312 - BERTopic - Cluster - Completed ✓\n",
      "2024-11-10 16:23:34,315 - BERTopic - Representation - Extracting topics from clusters using representation models.\n",
      "2024-11-10 16:23:34,452 - BERTopic - Representation - Completed ✓\n"
     ]
    }
   ],
   "source": [
    "# Initialize UMAP with a fixed random state\n",
    "random_state = 1 # Other seeds sometimes caused negative values in the distanace matrix\n",
    "\n",
    "# Set global random seeds\n",
    "np.random.seed(random_state)\n",
    "\n",
    "embedding_model = SentenceTransformer(\"all-MiniLM-L6-v2\")\n",
    "umap_model = UMAP(n_neighbors=15, n_components=5, random_state=random_state)\n",
    "hdbscan_model = HDBSCAN(min_cluster_size=10, prediction_data=True)\n",
    "\n",
    "topic_model = BERTopic(verbose=True, umap_model=umap_model, hdbscan_model=hdbscan_model, embedding_model=embedding_model)\n",
    "topics, probs = topic_model.fit_transform(docs)"
   ]
  },
  {
   "cell_type": "code",
   "execution_count": 8,
   "metadata": {},
   "outputs": [
    {
     "name": "stderr",
     "output_type": "stream",
     "text": [
      "100%|██████████| 95/95 [00:00<00:00, 733.70it/s]\n"
     ]
    }
   ],
   "source": [
    "hierarchical_topics = topic_model.hierarchical_topics(docs)"
   ]
  },
  {
   "cell_type": "code",
   "execution_count": 9,
   "metadata": {},
   "outputs": [
    {
     "name": "stderr",
     "output_type": "stream",
     "text": [
      "2024-11-10 16:23:34,820 - BERTopic - WARNING: When you use `pickle` to save/load a BERTopic model,please make sure that the environments in which you saveand load the model are **exactly** the same. The version of BERTopic,its dependencies, and python need to remain the same.\n"
     ]
    }
   ],
   "source": [
    "topic_model.save(\"../../../data/bertopic_models/intents/05_meeting/meeting_unprocessed\")"
   ]
  },
  {
   "cell_type": "markdown",
   "metadata": {},
   "source": [
    "## Inspecting clustering results"
   ]
  },
  {
   "cell_type": "code",
   "execution_count": null,
   "metadata": {},
   "outputs": [],
   "source": [
    "#topic_model = BERTopic.load(\"../../data/bertopic_models/send\")"
   ]
  },
  {
   "cell_type": "code",
   "execution_count": 10,
   "metadata": {},
   "outputs": [
    {
     "data": {
      "application/vnd.plotly.v1+json": {
       "config": {
        "plotlyServerURL": "https://plot.ly"
       },
       "data": [
        {
         "hoverinfo": "text",
         "marker": {
          "color": "rgb(61,153,112)"
         },
         "mode": "lines",
         "text": [
          "webex_js_uuid_url_password",
          "",
          "",
          "webex_click_your_level_presentation"
         ],
         "type": "scatter",
         "x": [
          0,
          0.6333385523140815,
          0.6333385523140815,
          0
         ],
         "xaxis": "x",
         "y": [
          -5,
          -5,
          -15,
          -15
         ],
         "yaxis": "y"
        },
        {
         "hoverinfo": "text",
         "marker": {
          "color": "rgb(255,65,54)"
         },
         "mode": "lines",
         "text": [
          "verizon_resheduling_4th_dec_dummy",
          "",
          "",
          "create_ppu_link_entry_registration"
         ],
         "type": "scatter",
         "x": [
          0,
          0.9367548327027242,
          0.9367548327027242,
          0
         ],
         "xaxis": "x",
         "y": [
          -35,
          -35,
          -45,
          -45
         ],
         "yaxis": "y"
        },
        {
         "hoverinfo": "text",
         "marker": {
          "color": "rgb(255,65,54)"
         },
         "mode": "lines",
         "text": [
          "training_installshield_here_orientation_hello",
          "",
          "",
          "verizon_create_ppu_resheduling_link"
         ],
         "type": "scatter",
         "x": [
          0,
          0.9529049890607174,
          0.9529049890607174,
          0.9367548327027242
         ],
         "xaxis": "x",
         "y": [
          -25,
          -25,
          -40,
          -40
         ],
         "yaxis": "y"
        },
        {
         "hoverinfo": "text",
         "marker": {
          "color": "rgb(255,65,54)"
         },
         "mode": "lines",
         "text": [
          "affiliate_program_visitors_commission_earning",
          "",
          "",
          "club_baby_super_free_books"
         ],
         "type": "scatter",
         "x": [
          0,
          0.877403093639765,
          0.877403093639765,
          0
         ],
         "xaxis": "x",
         "y": [
          -55,
          -55,
          -65,
          -65
         ],
         "yaxis": "y"
        },
        {
         "hoverinfo": "text",
         "marker": {
          "color": "rgb(255,65,54)"
         },
         "mode": "lines",
         "text": [
          "verizon_training_create_ppu_resheduling",
          "",
          "",
          "affiliate_program_visitors_commission_site"
         ],
         "type": "scatter",
         "x": [
          0.9529049890607174,
          0.9782562517690476,
          0.9782562517690476,
          0.877403093639765
         ],
         "xaxis": "x",
         "y": [
          -32.5,
          -32.5,
          -60,
          -60
         ],
         "yaxis": "y"
        },
        {
         "hoverinfo": "text",
         "marker": {
          "color": "rgb(255,65,54)"
         },
         "mode": "lines",
         "text": [
          "portion_audio_presentonline_ten_conference",
          "",
          "",
          "800_415_number_st_suite"
         ],
         "type": "scatter",
         "x": [
          0,
          0.9211341276603512,
          0.9211341276603512,
          0
         ],
         "xaxis": "x",
         "y": [
          -75,
          -75,
          -85,
          -85
         ],
         "yaxis": "y"
        },
        {
         "hoverinfo": "text",
         "marker": {
          "color": "rgb(255,65,54)"
         },
         "mode": "lines",
         "text": [
          "portion_audio_presentonline_ten_conference",
          "",
          "",
          "blackberry_handheld_net_my_wireless"
         ],
         "type": "scatter",
         "x": [
          0.9211341276603512,
          0.9515346065240137,
          0.9515346065240137,
          0
         ],
         "xaxis": "x",
         "y": [
          -80,
          -80,
          -95,
          -95
         ],
         "yaxis": "y"
        },
        {
         "hoverinfo": "text",
         "marker": {
          "color": "rgb(255,65,54)"
         },
         "mode": "lines",
         "text": [
          "affiliate_program_visitors_commission_site",
          "",
          "",
          "portion_blackberry_audio_handheld_presentonline"
         ],
         "type": "scatter",
         "x": [
          0.9782562517690476,
          0.997222233653468,
          0.997222233653468,
          0.9515346065240137
         ],
         "xaxis": "x",
         "y": [
          -46.25,
          -46.25,
          -87.5,
          -87.5
         ],
         "yaxis": "y"
        },
        {
         "hoverinfo": "text",
         "marker": {
          "color": "rgb(35,205,205)"
         },
         "mode": "lines",
         "text": [
          "00_windows_chat_visual_gmt",
          "",
          "",
          "xp_extreme_group_employer_interested"
         ],
         "type": "scatter",
         "x": [
          0,
          0.8831427369851713,
          0.8831427369851713,
          0
         ],
         "xaxis": "x",
         "y": [
          -105,
          -105,
          -115,
          -115
         ],
         "yaxis": "y"
        },
        {
         "hoverinfo": "text",
         "marker": {
          "color": "rgb(35,205,205)"
         },
         "mode": "lines",
         "text": [
          "xp_00_windows_chat_visual",
          "",
          "",
          "jobs_streaming_streamingmedia_media_corporation"
         ],
         "type": "scatter",
         "x": [
          0.8831427369851713,
          0.9732613083713111,
          0.9732613083713111,
          0
         ],
         "xaxis": "x",
         "y": [
          -110,
          -110,
          -125,
          -125
         ],
         "yaxis": "y"
        },
        {
         "hoverinfo": "text",
         "marker": {
          "color": "rgb(0,116,217)"
         },
         "mode": "lines",
         "text": [
          "affiliate_portion_blackberry_program_visitors",
          "",
          "",
          "jobs_streaming_streamingmedia_xp_media"
         ],
         "type": "scatter",
         "x": [
          0.997222233653468,
          1.0158392910298597,
          1.0158392910298597,
          0.9732613083713111
         ],
         "xaxis": "x",
         "y": [
          -66.875,
          -66.875,
          -117.5,
          -117.5
         ],
         "yaxis": "y"
        },
        {
         "hoverinfo": "text",
         "marker": {
          "color": "rgb(0,116,217)"
         },
         "mode": "lines",
         "text": [
          "jobs_affiliate_streaming_portion_blackberry",
          "",
          "",
          "templates_app_html_src_usa"
         ],
         "type": "scatter",
         "x": [
          1.0158392910298597,
          1.0208099516048081,
          1.0208099516048081,
          0
         ],
         "xaxis": "x",
         "y": [
          -92.1875,
          -92.1875,
          -135,
          -135
         ],
         "yaxis": "y"
        },
        {
         "hoverinfo": "text",
         "marker": {
          "color": "rgb(133,20,75)"
         },
         "mode": "lines",
         "text": [
          "hotmail_msn_largest_mail_world",
          "",
          "",
          "received_com_klgroup_esmtp_msdirect"
         ],
         "type": "scatter",
         "x": [
          0,
          0.8499028049634927,
          0.8499028049634927,
          0
         ],
         "xaxis": "x",
         "y": [
          -145,
          -145,
          -155,
          -155
         ],
         "yaxis": "y"
        },
        {
         "hoverinfo": "text",
         "marker": {
          "color": "rgb(133,20,75)"
         },
         "mode": "lines",
         "text": [
          "received_com_mail_klgroup_esmtp",
          "",
          "",
          "content_disposition_encoding_transfer_base64"
         ],
         "type": "scatter",
         "x": [
          0.8499028049634927,
          0.9501835266021013,
          0.9501835266021013,
          0
         ],
         "xaxis": "x",
         "y": [
          -150,
          -150,
          -165,
          -165
         ],
         "yaxis": "y"
        },
        {
         "hoverinfo": "text",
         "marker": {
          "color": "rgb(0,116,217)"
         },
         "mode": "lines",
         "text": [
          "templates_app_html_src_usa",
          "",
          "",
          "received_content_com_mail_klgroup"
         ],
         "type": "scatter",
         "x": [
          1.0208099516048081,
          1.1117756438122257,
          1.1117756438122257,
          0.9501835266021013
         ],
         "xaxis": "x",
         "y": [
          -113.59375,
          -113.59375,
          -157.5,
          -157.5
         ],
         "yaxis": "y"
        },
        {
         "hoverinfo": "text",
         "marker": {
          "color": "rgb(0,116,217)"
         },
         "mode": "lines",
         "text": [
          "webex_password_click_confid_time",
          "",
          "",
          "templates_app_html_src_usa"
         ],
         "type": "scatter",
         "x": [
          0.6333385523140815,
          1.1260230819153043,
          1.1260230819153043,
          1.1117756438122257
         ],
         "xaxis": "x",
         "y": [
          -10,
          -10,
          -135.546875,
          -135.546875
         ],
         "yaxis": "y"
        },
        {
         "hoverinfo": "text",
         "marker": {
          "color": "rgb(255,220,0)"
         },
         "mode": "lines",
         "text": [
          "interwoven_webcast_instructions_seminar_metatagger",
          "",
          "",
          "seminar_free_webinar_radview_web"
         ],
         "type": "scatter",
         "x": [
          0,
          0.770382542552098,
          0.770382542552098,
          0
         ],
         "xaxis": "x",
         "y": [
          -175,
          -175,
          -185,
          -185
         ],
         "yaxis": "y"
        },
        {
         "hoverinfo": "text",
         "marker": {
          "color": "rgb(255,220,0)"
         },
         "mode": "lines",
         "text": [
          "interwoven_seminar_webcast_free_web",
          "",
          "",
          "crm_destinationcrm_businesses_siebel_boards"
         ],
         "type": "scatter",
         "x": [
          0.770382542552098,
          0.8784163623504625,
          0.8784163623504625,
          0
         ],
         "xaxis": "x",
         "y": [
          -180,
          -180,
          -195,
          -195
         ],
         "yaxis": "y"
        },
        {
         "hoverinfo": "text",
         "marker": {
          "color": "rgb(40,35,35)"
         },
         "mode": "lines",
         "text": [
          "gartner_research_backweb_register_vice",
          "",
          "",
          "infoworld_itxpo_symposium_topic_forums"
         ],
         "type": "scatter",
         "x": [
          0,
          0.8134956972682296,
          0.8134956972682296,
          0
         ],
         "xaxis": "x",
         "y": [
          -205,
          -205,
          -215,
          -215
         ],
         "yaxis": "y"
        },
        {
         "hoverinfo": "text",
         "marker": {
          "color": "rgb(40,35,35)"
         },
         "mode": "lines",
         "text": [
          "j2me_sm_j2ee_jcp_jrun",
          "",
          "",
          "voicegenie_voicexml_asr_voice_gateway"
         ],
         "type": "scatter",
         "x": [
          0,
          0.9149657455774487,
          0.9149657455774487,
          0
         ],
         "xaxis": "x",
         "y": [
          -225,
          -225,
          -235,
          -235
         ],
         "yaxis": "y"
        },
        {
         "hoverinfo": "text",
         "marker": {
          "color": "rgb(40,35,35)"
         },
         "mode": "lines",
         "text": [
          "job_description_commerce_business_company",
          "",
          "",
          "wireless_http_news_allnetdevices_ee882a5"
         ],
         "type": "scatter",
         "x": [
          0,
          0.7258613245807899,
          0.7258613245807899,
          0
         ],
         "xaxis": "x",
         "y": [
          -255,
          -255,
          -265,
          -265
         ],
         "yaxis": "y"
        },
        {
         "hoverinfo": "text",
         "marker": {
          "color": "rgb(40,35,35)"
         },
         "mode": "lines",
         "text": [
          "location_executives_experienced_come_in",
          "",
          "",
          "wireless_http_news_allnetdevices_ee882a5"
         ],
         "type": "scatter",
         "x": [
          0,
          0.8142791815729478,
          0.8142791815729478,
          0.7258613245807899
         ],
         "xaxis": "x",
         "y": [
          -245,
          -245,
          -260,
          -260
         ],
         "yaxis": "y"
        },
        {
         "hoverinfo": "text",
         "marker": {
          "color": "rgb(40,35,35)"
         },
         "mode": "lines",
         "text": [
          "wireless_http_news_allnetdevices_ee882a5",
          "",
          "",
          "advertising_iab_market_audiences_advertisers"
         ],
         "type": "scatter",
         "x": [
          0.8142791815729478,
          0.8696520200167352,
          0.8696520200167352,
          0
         ],
         "xaxis": "x",
         "y": [
          -252.5,
          -252.5,
          -275,
          -275
         ],
         "yaxis": "y"
        },
        {
         "hoverinfo": "text",
         "marker": {
          "color": "rgb(40,35,35)"
         },
         "mode": "lines",
         "text": [
          "voicegenie_voicexml_j2me_sm_j2ee",
          "",
          "",
          "wireless_http_news_allnetdevices_ee882a5"
         ],
         "type": "scatter",
         "x": [
          0.9149657455774487,
          0.932440639845716,
          0.932440639845716,
          0.8696520200167352
         ],
         "xaxis": "x",
         "y": [
          -230,
          -230,
          -263.75,
          -263.75
         ],
         "yaxis": "y"
        },
        {
         "hoverinfo": "text",
         "marker": {
          "color": "rgb(40,35,35)"
         },
         "mode": "lines",
         "text": [
          "infoworld_gartner_itxpo_symposium_analysts",
          "",
          "",
          "wireless_http_news_allnetdevices_internet"
         ],
         "type": "scatter",
         "x": [
          0.8134956972682296,
          0.968646467311134,
          0.968646467311134,
          0.932440639845716
         ],
         "xaxis": "x",
         "y": [
          -210,
          -210,
          -246.875,
          -246.875
         ],
         "yaxis": "y"
        },
        {
         "hoverinfo": "text",
         "marker": {
          "color": "rgb(0,116,217)"
         },
         "mode": "lines",
         "text": [
          "interwoven_crm_seminar_free_webcast",
          "",
          "",
          "http_wireless_news_allnetdevices_com"
         ],
         "type": "scatter",
         "x": [
          0.8784163623504625,
          1.0343911617278303,
          1.0343911617278303,
          0.968646467311134
         ],
         "xaxis": "x",
         "y": [
          -187.5,
          -187.5,
          -228.4375,
          -228.4375
         ],
         "yaxis": "y"
        },
        {
         "hoverinfo": "text",
         "marker": {
          "color": "rgb(61,153,112)"
         },
         "mode": "lines",
         "text": [
          "million_ventures_round_investors_capital",
          "",
          "",
          "board_directors_of_president_person"
         ],
         "type": "scatter",
         "x": [
          0,
          0.5691904986312377,
          0.5691904986312377,
          0
         ],
         "xaxis": "x",
         "y": [
          -285,
          -285,
          -295,
          -295
         ],
         "yaxis": "y"
        },
        {
         "hoverinfo": "text",
         "marker": {
          "color": "rgb(61,153,112)"
         },
         "mode": "lines",
         "text": [
          "joining_us_as_consultant_joined",
          "",
          "",
          "vp_person_may_analysts_development"
         ],
         "type": "scatter",
         "x": [
          0,
          0.7806319613294306,
          0.7806319613294306,
          0
         ],
         "xaxis": "x",
         "y": [
          -305,
          -305,
          -315,
          -315
         ],
         "yaxis": "y"
        },
        {
         "hoverinfo": "text",
         "marker": {
          "color": "rgb(61,153,112)"
         },
         "mode": "lines",
         "text": [
          "vp_person_may_development_analysts",
          "",
          "",
          "sales_650_316_wealthy_vp"
         ],
         "type": "scatter",
         "x": [
          0.7806319613294306,
          0.797125616373159,
          0.797125616373159,
          0
         ],
         "xaxis": "x",
         "y": [
          -310,
          -310,
          -325,
          -325
         ],
         "yaxis": "y"
        },
        {
         "hoverinfo": "text",
         "marker": {
          "color": "rgb(61,153,112)"
         },
         "mode": "lines",
         "text": [
          "board_directors_of_president_person",
          "",
          "",
          "vp_person_joining_may_sales"
         ],
         "type": "scatter",
         "x": [
          0.5691904986312377,
          0.9976494795654172,
          0.9976494795654172,
          0.797125616373159
         ],
         "xaxis": "x",
         "y": [
          -290,
          -290,
          -317.5,
          -317.5
         ],
         "yaxis": "y"
        },
        {
         "hoverinfo": "text",
         "marker": {
          "color": "rgb(0,116,217)"
         },
         "mode": "lines",
         "text": [
          "http_wireless_news_com_allnetdevices",
          "",
          "",
          "board_directors_of_person_president"
         ],
         "type": "scatter",
         "x": [
          1.0343911617278303,
          1.1561741757655553,
          1.1561741757655553,
          0.9976494795654172
         ],
         "xaxis": "x",
         "y": [
          -207.96875,
          -207.96875,
          -303.75,
          -303.75
         ],
         "yaxis": "y"
        },
        {
         "hoverinfo": "text",
         "marker": {
          "color": "rgb(0,116,217)"
         },
         "mode": "lines",
         "text": [
          "templates_app_html_src_usa",
          "",
          "",
          "http_of_board_wireless_com"
         ],
         "type": "scatter",
         "x": [
          1.1260230819153043,
          1.2330151552049635,
          1.2330151552049635,
          1.1561741757655553
         ],
         "xaxis": "x",
         "y": [
          -72.7734375,
          -72.7734375,
          -255.859375,
          -255.859375
         ],
         "yaxis": "y"
        },
        {
         "hoverinfo": "text",
         "marker": {
          "color": "rgb(255,65,54)"
         },
         "mode": "lines",
         "text": [
          "us_joining_person_join_be",
          "",
          "",
          "us_join_you_hope_if"
         ],
         "type": "scatter",
         "x": [
          0,
          0.49172489138323205,
          0.49172489138323205,
          0
         ],
         "xaxis": "x",
         "y": [
          -345,
          -345,
          -355,
          -355
         ],
         "yaxis": "y"
        },
        {
         "hoverinfo": "text",
         "marker": {
          "color": "rgb(255,65,54)"
         },
         "mode": "lines",
         "text": [
          "us_join_you_joining_be",
          "",
          "",
          "lunch_us_kitchen_dinner_join"
         ],
         "type": "scatter",
         "x": [
          0.49172489138323205,
          0.6772842385056478,
          0.6772842385056478,
          0
         ],
         "xaxis": "x",
         "y": [
          -350,
          -350,
          -365,
          -365
         ],
         "yaxis": "y"
        },
        {
         "hoverinfo": "text",
         "marker": {
          "color": "rgb(255,65,54)"
         },
         "mode": "lines",
         "text": [
          "event_us_guest_gratitude_special",
          "",
          "",
          "us_join_you_joining_if"
         ],
         "type": "scatter",
         "x": [
          0,
          0.7749717896208685,
          0.7749717896208685,
          0.6772842385056478
         ],
         "xaxis": "x",
         "y": [
          -335,
          -335,
          -357.5,
          -357.5
         ],
         "yaxis": "y"
        },
        {
         "hoverinfo": "text",
         "marker": {
          "color": "rgb(35,205,205)"
         },
         "mode": "lines",
         "text": [
          "notify_email_me_please_any",
          "",
          "",
          "congratulating_role_please_me_his"
         ],
         "type": "scatter",
         "x": [
          0,
          0.8702374289172262,
          0.8702374289172262,
          0
         ],
         "xaxis": "x",
         "y": [
          -385,
          -385,
          -395,
          -395
         ],
         "yaxis": "y"
        },
        {
         "hoverinfo": "text",
         "marker": {
          "color": "rgb(35,205,205)"
         },
         "mode": "lines",
         "text": [
          "birthdays_celebrate_watermelon_occasion_wedding",
          "",
          "",
          "congratulating_notify_me_please_new"
         ],
         "type": "scatter",
         "x": [
          0,
          0.9431229908922313,
          0.9431229908922313,
          0.8702374289172262
         ],
         "xaxis": "x",
         "y": [
          -375,
          -375,
          -390,
          -390
         ],
         "yaxis": "y"
        },
        {
         "hoverinfo": "text",
         "marker": {
          "color": "rgb(61,153,112)"
         },
         "mode": "lines",
         "text": [
          "sitraka_mobility_welcoming_professional_sweetums",
          "",
          "",
          "welcoming_please_me_supporting_in"
         ],
         "type": "scatter",
         "x": [
          0,
          0.6819380514775034,
          0.6819380514775034,
          0
         ],
         "xaxis": "x",
         "y": [
          -405,
          -405,
          -415,
          -415
         ],
         "yaxis": "y"
        },
        {
         "hoverinfo": "text",
         "marker": {
          "color": "rgb(61,153,112)"
         },
         "mode": "lines",
         "text": [
          "sitraka_welcoming_mobility_me_please",
          "",
          "",
          "pub_newest_cable_sponsor_center"
         ],
         "type": "scatter",
         "x": [
          0.6819380514775034,
          0.8925399263418948,
          0.8925399263418948,
          0
         ],
         "xaxis": "x",
         "y": [
          -410,
          -410,
          -425,
          -425
         ],
         "yaxis": "y"
        },
        {
         "hoverinfo": "text",
         "marker": {
          "color": "rgb(0,116,217)"
         },
         "mode": "lines",
         "text": [
          "congratulating_notify_me_please_new",
          "",
          "",
          "welcoming_sitraka_mobility_pub_newest"
         ],
         "type": "scatter",
         "x": [
          0.9431229908922313,
          1.0445299219114705,
          1.0445299219114705,
          0.8925399263418948
         ],
         "xaxis": "x",
         "y": [
          -382.5,
          -382.5,
          -417.5,
          -417.5
         ],
         "yaxis": "y"
        },
        {
         "hoverinfo": "text",
         "marker": {
          "color": "rgb(0,116,217)"
         },
         "mode": "lines",
         "text": [
          "us_join_you_joining_be",
          "",
          "",
          "welcoming_sitraka_me_please_mobility"
         ],
         "type": "scatter",
         "x": [
          0.7749717896208685,
          1.1733022130883743,
          1.1733022130883743,
          1.0445299219114705
         ],
         "xaxis": "x",
         "y": [
          -346.25,
          -346.25,
          -400,
          -400
         ],
         "yaxis": "y"
        },
        {
         "hoverinfo": "text",
         "marker": {
          "color": "rgb(0,116,217)"
         },
         "mode": "lines",
         "text": [
          "html_templates_app_usa_src",
          "",
          "",
          "us_join_please_me_welcoming"
         ],
         "type": "scatter",
         "x": [
          1.2330151552049635,
          1.3342337443233006,
          1.3342337443233006,
          1.1733022130883743
         ],
         "xaxis": "x",
         "y": [
          -164.31640625,
          -164.31640625,
          -373.125,
          -373.125
         ],
         "yaxis": "y"
        },
        {
         "hoverinfo": "text",
         "marker": {
          "color": "rgb(255,65,54)"
         },
         "mode": "lines",
         "text": [
          "hp_vhdl_hdl_systemc_systemverilog",
          "",
          "",
          "hp_qwest_competitive_with_get"
         ],
         "type": "scatter",
         "x": [
          0,
          0.41329136434958247,
          0.41329136434958247,
          0
         ],
         "xaxis": "x",
         "y": [
          -435,
          -435,
          -445,
          -445
         ],
         "yaxis": "y"
        },
        {
         "hoverinfo": "text",
         "marker": {
          "color": "rgb(35,205,205)"
         },
         "mode": "lines",
         "text": [
          "meetings_format_consider_regular_people",
          "",
          "",
          "meetings_stand_day_standup_mins"
         ],
         "type": "scatter",
         "x": [
          0,
          0.7513401513014226,
          0.7513401513014226,
          0
         ],
         "xaxis": "x",
         "y": [
          -455,
          -455,
          -465,
          -465
         ],
         "yaxis": "y"
        },
        {
         "hoverinfo": "text",
         "marker": {
          "color": "rgb(35,205,205)"
         },
         "mode": "lines",
         "text": [
          "srik_rajeev_prasad_can_attend",
          "",
          "",
          "not_attend_able_be_conflict"
         ],
         "type": "scatter",
         "x": [
          0,
          0.7969019637676884,
          0.7969019637676884,
          0
         ],
         "xaxis": "x",
         "y": [
          -495,
          -495,
          -505,
          -505
         ],
         "yaxis": "y"
        },
        {
         "hoverinfo": "text",
         "marker": {
          "color": "rgb(35,205,205)"
         },
         "mode": "lines",
         "text": [
          "prakash_infosys_cto_and_meeting",
          "",
          "",
          "srik_rajeev_attend_not_able"
         ],
         "type": "scatter",
         "x": [
          0,
          0.8368592460849923,
          0.8368592460849923,
          0.7969019637676884
         ],
         "xaxis": "x",
         "y": [
          -485,
          -485,
          -500,
          -500
         ],
         "yaxis": "y"
        },
        {
         "hoverinfo": "text",
         "marker": {
          "color": "rgb(35,205,205)"
         },
         "mode": "lines",
         "text": [
          "prakash_rajeev_attend_srik_not",
          "",
          "",
          "she_her_says_has_then"
         ],
         "type": "scatter",
         "x": [
          0.8368592460849923,
          0.8859640909751069,
          0.8859640909751069,
          0
         ],
         "xaxis": "x",
         "y": [
          -492.5,
          -492.5,
          -515,
          -515
         ],
         "yaxis": "y"
        },
        {
         "hoverinfo": "text",
         "marker": {
          "color": "rgb(35,205,205)"
         },
         "mode": "lines",
         "text": [
          "ae_aes_difficult_sdrs_ep_style_guide",
          "",
          "",
          "prakash_she_her_attend_not"
         ],
         "type": "scatter",
         "x": [
          0,
          0.8952349372139261,
          0.8952349372139261,
          0.8859640909751069
         ],
         "xaxis": "x",
         "y": [
          -475,
          -475,
          -503.75,
          -503.75
         ],
         "yaxis": "y"
        },
        {
         "hoverinfo": "text",
         "marker": {
          "color": "rgb(35,205,205)"
         },
         "mode": "lines",
         "text": [
          "prakash_she_her_attend_not",
          "",
          "",
          "cancel_canceling_plant_handset_cancelled"
         ],
         "type": "scatter",
         "x": [
          0.8952349372139261,
          0.9359658520775906,
          0.9359658520775906,
          0
         ],
         "xaxis": "x",
         "y": [
          -489.375,
          -489.375,
          -525,
          -525
         ],
         "yaxis": "y"
        },
        {
         "hoverinfo": "text",
         "marker": {
          "color": "rgb(35,205,205)"
         },
         "mode": "lines",
         "text": [
          "meetings_stand_day_regular_periodically",
          "",
          "",
          "prakash_she_her_not_attend"
         ],
         "type": "scatter",
         "x": [
          0.7513401513014226,
          0.9607668387254293,
          0.9607668387254293,
          0.9359658520775906
         ],
         "xaxis": "x",
         "y": [
          -460,
          -460,
          -507.1875,
          -507.1875
         ],
         "yaxis": "y"
        },
        {
         "hoverinfo": "text",
         "marker": {
          "color": "rgb(35,205,205)"
         },
         "mode": "lines",
         "text": [
          "demo_ricardo_need_we_after",
          "",
          "",
          "app_need_do_we_give"
         ],
         "type": "scatter",
         "x": [
          0,
          0.6933485394767319,
          0.6933485394767319,
          0
         ],
         "xaxis": "x",
         "y": [
          -535,
          -535,
          -545,
          -545
         ],
         "yaxis": "y"
        },
        {
         "hoverinfo": "text",
         "marker": {
          "color": "rgb(35,205,205)"
         },
         "mode": "lines",
         "text": [
          "requirements_gathering_each_put_deliverables",
          "",
          "",
          "review_schedule_ll_tomorrow_model"
         ],
         "type": "scatter",
         "x": [
          0,
          0.7796346909734799,
          0.7796346909734799,
          0
         ],
         "xaxis": "x",
         "y": [
          -555,
          -555,
          -565,
          -565
         ],
         "yaxis": "y"
        },
        {
         "hoverinfo": "text",
         "marker": {
          "color": "rgb(35,205,205)"
         },
         "mode": "lines",
         "text": [
          "app_demo_need_we_do",
          "",
          "",
          "review_schedule_requirements_each_we"
         ],
         "type": "scatter",
         "x": [
          0.6933485394767319,
          0.8308156712126319,
          0.8308156712126319,
          0.7796346909734799
         ],
         "xaxis": "x",
         "y": [
          -540,
          -540,
          -560,
          -560
         ],
         "yaxis": "y"
        },
        {
         "hoverinfo": "text",
         "marker": {
          "color": "rgb(35,205,205)"
         },
         "mode": "lines",
         "text": [
          "person_meeting_with_up_set",
          "",
          "",
          "00_30_meeting_have_pm"
         ],
         "type": "scatter",
         "x": [
          0,
          0.3063359232064503,
          0.3063359232064503,
          0
         ],
         "xaxis": "x",
         "y": [
          -595,
          -595,
          -605,
          -605
         ],
         "yaxis": "y"
        },
        {
         "hoverinfo": "text",
         "marker": {
          "color": "rgb(35,205,205)"
         },
         "mode": "lines",
         "text": [
          "location_in_meeting_with_be",
          "",
          "",
          "meeting_person_have_00_with"
         ],
         "type": "scatter",
         "x": [
          0,
          0.4153234323446499,
          0.4153234323446499,
          0.3063359232064503
         ],
         "xaxis": "x",
         "y": [
          -585,
          -585,
          -600,
          -600
         ],
         "yaxis": "y"
        },
        {
         "hoverinfo": "text",
         "marker": {
          "color": "rgb(35,205,205)"
         },
         "mode": "lines",
         "text": [
          "meeting_location_person_have_with",
          "",
          "",
          "meeting_discuss_this_set_if"
         ],
         "type": "scatter",
         "x": [
          0.4153234323446499,
          0.4706563780047519,
          0.4706563780047519,
          0
         ],
         "xaxis": "x",
         "y": [
          -592.5,
          -592.5,
          -615,
          -615
         ],
         "yaxis": "y"
        },
        {
         "hoverinfo": "text",
         "marker": {
          "color": "rgb(35,205,205)"
         },
         "mode": "lines",
         "text": [
          "meeting_location_have_person_we",
          "",
          "",
          "sales_customer_pricing_we_training"
         ],
         "type": "scatter",
         "x": [
          0.4706563780047519,
          0.6399353983552459,
          0.6399353983552459,
          0
         ],
         "xaxis": "x",
         "y": [
          -603.75,
          -603.75,
          -625,
          -625
         ],
         "yaxis": "y"
        },
        {
         "hoverinfo": "text",
         "marker": {
          "color": "rgb(35,205,205)"
         },
         "mode": "lines",
         "text": [
          "he_him_his_meeting_has",
          "",
          "",
          "meeting_have_location_we_person"
         ],
         "type": "scatter",
         "x": [
          0,
          0.6943008650250906,
          0.6943008650250906,
          0.6399353983552459
         ],
         "xaxis": "x",
         "y": [
          -575,
          -575,
          -614.375,
          -614.375
         ],
         "yaxis": "y"
        },
        {
         "hoverinfo": "text",
         "marker": {
          "color": "rgb(35,205,205)"
         },
         "mode": "lines",
         "text": [
          "meeting_have_location_we_with",
          "",
          "",
          "technical_engineering_technology_detail_engineers"
         ],
         "type": "scatter",
         "x": [
          0.6943008650250906,
          0.7239837309390558,
          0.7239837309390558,
          0
         ],
         "xaxis": "x",
         "y": [
          -594.6875,
          -594.6875,
          -635,
          -635
         ],
         "yaxis": "y"
        },
        {
         "hoverinfo": "text",
         "marker": {
          "color": "rgb(35,205,205)"
         },
         "mode": "lines",
         "text": [
          "meeting_have_we_location_up",
          "",
          "",
          "confirm_2001_our_confirms_determined"
         ],
         "type": "scatter",
         "x": [
          0.7239837309390558,
          0.7412755087557571,
          0.7412755087557571,
          0
         ],
         "xaxis": "x",
         "y": [
          -614.84375,
          -614.84375,
          -645,
          -645
         ],
         "yaxis": "y"
        },
        {
         "hoverinfo": "text",
         "marker": {
          "color": "rgb(35,205,205)"
         },
         "mode": "lines",
         "text": [
          "review_app_demo_we_need",
          "",
          "",
          "meeting_have_we_location_to"
         ],
         "type": "scatter",
         "x": [
          0.8308156712126319,
          0.867776266209235,
          0.867776266209235,
          0.7412755087557571
         ],
         "xaxis": "x",
         "y": [
          -550,
          -550,
          -629.921875,
          -629.921875
         ],
         "yaxis": "y"
        },
        {
         "hoverinfo": "text",
         "marker": {
          "color": "rgb(35,205,205)"
         },
         "mode": "lines",
         "text": [
          "all_bi_hands_weekly_manager",
          "",
          "",
          "had_good_we_meeting_great"
         ],
         "type": "scatter",
         "x": [
          0,
          0.7817014161127871,
          0.7817014161127871,
          0
         ],
         "xaxis": "x",
         "y": [
          -655,
          -655,
          -665,
          -665
         ],
         "yaxis": "y"
        },
        {
         "hoverinfo": "text",
         "marker": {
          "color": "rgb(35,205,205)"
         },
         "mode": "lines",
         "text": [
          "had_all_we_meeting_good",
          "",
          "",
          "mobile_justifications_where_speak_device"
         ],
         "type": "scatter",
         "x": [
          0.7817014161127871,
          0.8182223406597781,
          0.8182223406597781,
          0
         ],
         "xaxis": "x",
         "y": [
          -660,
          -660,
          -675,
          -675
         ],
         "yaxis": "y"
        },
        {
         "hoverinfo": "text",
         "marker": {
          "color": "rgb(35,205,205)"
         },
         "mode": "lines",
         "text": [
          "meeting_have_we_to_up",
          "",
          "",
          "had_we_mobile_all_meeting"
         ],
         "type": "scatter",
         "x": [
          0.867776266209235,
          0.8944814346665528,
          0.8944814346665528,
          0.8182223406597781
         ],
         "xaxis": "x",
         "y": [
          -589.9609375,
          -589.9609375,
          -667.5,
          -667.5
         ],
         "yaxis": "y"
        },
        {
         "hoverinfo": "text",
         "marker": {
          "color": "rgb(35,205,205)"
         },
         "mode": "lines",
         "text": [
          "prakash_she_attend_not_her",
          "",
          "",
          "meeting_we_have_to_up"
         ],
         "type": "scatter",
         "x": [
          0.9607668387254293,
          0.9936622707578733,
          0.9936622707578733,
          0.8944814346665528
         ],
         "xaxis": "x",
         "y": [
          -483.59375,
          -483.59375,
          -628.73046875,
          -628.73046875
         ],
         "yaxis": "y"
        },
        {
         "hoverinfo": "text",
         "marker": {
          "color": "rgb(133,20,75)"
         },
         "mode": "lines",
         "text": [
          "design_approaches_we_choices_wallet",
          "",
          "",
          "spec_feature_eng_functional_specs"
         ],
         "type": "scatter",
         "x": [
          0,
          0.861408953270271,
          0.861408953270271,
          0
         ],
         "xaxis": "x",
         "y": [
          -685,
          -685,
          -695,
          -695
         ],
         "yaxis": "y"
        },
        {
         "hoverinfo": "text",
         "marker": {
          "color": "rgb(133,20,75)"
         },
         "mode": "lines",
         "text": [
          "qa_test_offline_dlj_should",
          "",
          "",
          "bug_bugs_determine_daily_fix"
         ],
         "type": "scatter",
         "x": [
          0,
          0.8346599648073445,
          0.8346599648073445,
          0
         ],
         "xaxis": "x",
         "y": [
          -705,
          -705,
          -715,
          -715
         ],
         "yaxis": "y"
        },
        {
         "hoverinfo": "text",
         "marker": {
          "color": "rgb(133,20,75)"
         },
         "mode": "lines",
         "text": [
          "spec_feature_eng_design_functional",
          "",
          "",
          "bug_bugs_qa_should_offline"
         ],
         "type": "scatter",
         "x": [
          0.861408953270271,
          0.9661526101101434,
          0.9661526101101434,
          0.8346599648073445
         ],
         "xaxis": "x",
         "y": [
          -690,
          -690,
          -710,
          -710
         ],
         "yaxis": "y"
        },
        {
         "hoverinfo": "text",
         "marker": {
          "color": "rgb(255,220,0)"
         },
         "mode": "lines",
         "text": [
          "alerts_alert_over_go_possible",
          "",
          "",
          "xml_upgraded_s2_demo_ffa"
         ],
         "type": "scatter",
         "x": [
          0,
          0.8311817256112113,
          0.8311817256112113,
          0
         ],
         "xaxis": "x",
         "y": [
          -725,
          -725,
          -735,
          -735
         ],
         "yaxis": "y"
        },
        {
         "hoverinfo": "text",
         "marker": {
          "color": "rgb(0,116,217)"
         },
         "mode": "lines",
         "text": [
          "spec_bug_bugs_qa_feature",
          "",
          "",
          "alerts_xml_alert_et_setup"
         ],
         "type": "scatter",
         "x": [
          0.9661526101101434,
          1.0014633535780866,
          1.0014633535780866,
          0.8311817256112113
         ],
         "xaxis": "x",
         "y": [
          -700,
          -700,
          -730,
          -730
         ],
         "yaxis": "y"
        },
        {
         "hoverinfo": "text",
         "marker": {
          "color": "rgb(40,35,35)"
         },
         "mode": "lines",
         "text": [
          "lunch_breakfast_itrc_ball_30am",
          "",
          "",
          "move_moved_fly_say_thrsday"
         ],
         "type": "scatter",
         "x": [
          0,
          0.871604389928001,
          0.871604389928001,
          0
         ],
         "xaxis": "x",
         "y": [
          -755,
          -755,
          -765,
          -765
         ],
         "yaxis": "y"
        },
        {
         "hoverinfo": "text",
         "marker": {
          "color": "rgb(40,35,35)"
         },
         "mode": "lines",
         "text": [
          "lunch_breakfast_move_itrc_moved",
          "",
          "",
          "missed_sorry_missing_ruyben_did"
         ],
         "type": "scatter",
         "x": [
          0.871604389928001,
          0.9227286289196667,
          0.9227286289196667,
          0
         ],
         "xaxis": "x",
         "y": [
          -760,
          -760,
          -775,
          -775
         ],
         "yaxis": "y"
        },
        {
         "hoverinfo": "text",
         "marker": {
          "color": "rgb(40,35,35)"
         },
         "mode": "lines",
         "text": [
          "banamex_cr_hp_phase_demo",
          "",
          "",
          "lunch_missed_sorry_breakfast_move"
         ],
         "type": "scatter",
         "x": [
          0,
          0.9508150162100987,
          0.9508150162100987,
          0.9227286289196667
         ],
         "xaxis": "x",
         "y": [
          -745,
          -745,
          -767.5,
          -767.5
         ],
         "yaxis": "y"
        },
        {
         "hoverinfo": "text",
         "marker": {
          "color": "rgb(61,153,112)"
         },
         "mode": "lines",
         "text": [
          "marketing_qbr_person_side_progress",
          "",
          "",
          "avocadoit_408_562_location_inc"
         ],
         "type": "scatter",
         "x": [
          0,
          0.7126498083547735,
          0.7126498083547735,
          0
         ],
         "xaxis": "x",
         "y": [
          -795,
          -795,
          -805,
          -805
         ],
         "yaxis": "y"
        },
        {
         "hoverinfo": "text",
         "marker": {
          "color": "rgb(61,153,112)"
         },
         "mode": "lines",
         "text": [
          "marketing_committee_rewarding_participating_tie",
          "",
          "",
          "avocadoit_408_562_location_person"
         ],
         "type": "scatter",
         "x": [
          0,
          0.7909477212182926,
          0.7909477212182926,
          0.7126498083547735
         ],
         "xaxis": "x",
         "y": [
          -785,
          -785,
          -800,
          -800
         ],
         "yaxis": "y"
        },
        {
         "hoverinfo": "text",
         "marker": {
          "color": "rgb(61,153,112)"
         },
         "mode": "lines",
         "text": [
          "accenture_with_partners_in_meetings",
          "",
          "",
          "sun_with_person_meeting_reps"
         ],
         "type": "scatter",
         "x": [
          0,
          0.8115137338398932,
          0.8115137338398932,
          0
         ],
         "xaxis": "x",
         "y": [
          -815,
          -815,
          -825,
          -825
         ],
         "yaxis": "y"
        },
        {
         "hoverinfo": "text",
         "marker": {
          "color": "rgb(61,153,112)"
         },
         "mode": "lines",
         "text": [
          "venk_meeting_staff_with_up",
          "",
          "",
          "board_saturday_springboard_second_mckenna"
         ],
         "type": "scatter",
         "x": [
          0,
          0.8381282902702898,
          0.8381282902702898,
          0
         ],
         "xaxis": "x",
         "y": [
          -845,
          -845,
          -855,
          -855
         ],
         "yaxis": "y"
        },
        {
         "hoverinfo": "text",
         "marker": {
          "color": "rgb(61,153,112)"
         },
         "mode": "lines",
         "text": [
          "trade_ve_4pm_got_fri",
          "",
          "",
          "venk_board_meeting_saturday_friday"
         ],
         "type": "scatter",
         "x": [
          0,
          0.8704056030249814,
          0.8704056030249814,
          0.8381282902702898
         ],
         "xaxis": "x",
         "y": [
          -835,
          -835,
          -850,
          -850
         ],
         "yaxis": "y"
        },
        {
         "hoverinfo": "text",
         "marker": {
          "color": "rgb(61,153,112)"
         },
         "mode": "lines",
         "text": [
          "sun_accenture_with_person_meeting",
          "",
          "",
          "venk_trade_board_meeting_saturday"
         ],
         "type": "scatter",
         "x": [
          0.8115137338398932,
          0.8857475773324218,
          0.8857475773324218,
          0.8704056030249814
         ],
         "xaxis": "x",
         "y": [
          -820,
          -820,
          -842.5,
          -842.5
         ],
         "yaxis": "y"
        },
        {
         "hoverinfo": "text",
         "marker": {
          "color": "rgb(61,153,112)"
         },
         "mode": "lines",
         "text": [
          "avocadoit_408_562_location_person",
          "",
          "",
          "venk_sun_accenture_with_meeting"
         ],
         "type": "scatter",
         "x": [
          0.7909477212182926,
          0.9069731760400478,
          0.9069731760400478,
          0.8857475773324218
         ],
         "xaxis": "x",
         "y": [
          -792.5,
          -792.5,
          -831.25,
          -831.25
         ],
         "yaxis": "y"
        },
        {
         "hoverinfo": "text",
         "marker": {
          "color": "rgb(255,65,54)"
         },
         "mode": "lines",
         "text": [
          "bea_mobility_weblogic_legal_channel",
          "",
          "",
          "goldman_diligence_sachs_process_due"
         ],
         "type": "scatter",
         "x": [
          0,
          0.8964743324023889,
          0.8964743324023889,
          0
         ],
         "xaxis": "x",
         "y": [
          -865,
          -865,
          -875,
          -875
         ],
         "yaxis": "y"
        },
        {
         "hoverinfo": "text",
         "marker": {
          "color": "rgb(255,65,54)"
         },
         "mode": "lines",
         "text": [
          "bea_goldman_with_diligence_sachs",
          "",
          "",
          "channelwave_reps_rep_individual_partner"
         ],
         "type": "scatter",
         "x": [
          0.8964743324023889,
          0.9549377259781437,
          0.9549377259781437,
          0
         ],
         "xaxis": "x",
         "y": [
          -870,
          -870,
          -885,
          -885
         ],
         "yaxis": "y"
        },
        {
         "hoverinfo": "text",
         "marker": {
          "color": "rgb(0,116,217)"
         },
         "mode": "lines",
         "text": [
          "avocadoit_408_562_sun_location",
          "",
          "",
          "bea_goldman_channelwave_reps_ep"
         ],
         "type": "scatter",
         "x": [
          0.9069731760400478,
          1.0128462850313464,
          1.0128462850313464,
          0.9549377259781437
         ],
         "xaxis": "x",
         "y": [
          -811.875,
          -811.875,
          -877.5,
          -877.5
         ],
         "yaxis": "y"
        },
        {
         "hoverinfo": "text",
         "marker": {
          "color": "rgb(0,116,217)"
         },
         "mode": "lines",
         "text": [
          "banamex_lunch_missed_sorry_breakfast",
          "",
          "",
          "avocadoit_408_562_sun_location"
         ],
         "type": "scatter",
         "x": [
          0.9508150162100987,
          1.0202735794397175,
          1.0202735794397175,
          1.0128462850313464
         ],
         "xaxis": "x",
         "y": [
          -756.25,
          -756.25,
          -844.6875,
          -844.6875
         ],
         "yaxis": "y"
        },
        {
         "hoverinfo": "text",
         "marker": {
          "color": "rgb(35,205,205)"
         },
         "mode": "lines",
         "text": [
          "appointment_appointments_an_doctor_have",
          "",
          "",
          "dentist_appointment_dental_conventional_serviced"
         ],
         "type": "scatter",
         "x": [
          0,
          0.6101757213184198,
          0.6101757213184198,
          0
         ],
         "xaxis": "x",
         "y": [
          -895,
          -895,
          -905,
          -905
         ],
         "yaxis": "y"
        },
        {
         "hoverinfo": "text",
         "marker": {
          "color": "rgb(0,116,217)"
         },
         "mode": "lines",
         "text": [
          "avocadoit_408_562_sun_location",
          "",
          "",
          "appointment_appointments_an_doctor_have"
         ],
         "type": "scatter",
         "x": [
          1.0202735794397175,
          1.0622858136618873,
          1.0622858136618873,
          0.6101757213184198
         ],
         "xaxis": "x",
         "y": [
          -800.46875,
          -800.46875,
          -900,
          -900
         ],
         "yaxis": "y"
        },
        {
         "hoverinfo": "text",
         "marker": {
          "color": "rgb(0,116,217)"
         },
         "mode": "lines",
         "text": [
          "spec_bug_bugs_qa_alerts",
          "",
          "",
          "avocadoit_appointment_408_562_person"
         ],
         "type": "scatter",
         "x": [
          1.0014633535780866,
          1.0948707112156995,
          1.0948707112156995,
          1.0622858136618873
         ],
         "xaxis": "x",
         "y": [
          -715,
          -715,
          -850.234375,
          -850.234375
         ],
         "yaxis": "y"
        },
        {
         "hoverinfo": "text",
         "marker": {
          "color": "rgb(61,153,112)"
         },
         "mode": "lines",
         "text": [
          "calendar_calendars_my_your_ve",
          "",
          "",
          "outlook_recurring_calendar_invitees_announcements"
         ],
         "type": "scatter",
         "x": [
          0,
          0.7229771100566074,
          0.7229771100566074,
          0
         ],
         "xaxis": "x",
         "y": [
          -915,
          -915,
          -925,
          -925
         ],
         "yaxis": "y"
        },
        {
         "hoverinfo": "text",
         "marker": {
          "color": "rgb(0,116,217)"
         },
         "mode": "lines",
         "text": [
          "avocadoit_appointment_408_562_with",
          "",
          "",
          "calendar_calendars_outlook_my_recurring"
         ],
         "type": "scatter",
         "x": [
          1.0948707112156995,
          1.1050211801091394,
          1.1050211801091394,
          0.7229771100566074
         ],
         "xaxis": "x",
         "y": [
          -782.6171875,
          -782.6171875,
          -920,
          -920
         ],
         "yaxis": "y"
        },
        {
         "hoverinfo": "text",
         "marker": {
          "color": "rgb(0,116,217)"
         },
         "mode": "lines",
         "text": [
          "meeting_have_we_to_up",
          "",
          "",
          "avocadoit_appointment_408_562_with"
         ],
         "type": "scatter",
         "x": [
          0.9936622707578733,
          1.1322736422572095,
          1.1322736422572095,
          1.1050211801091394
         ],
         "xaxis": "x",
         "y": [
          -556.162109375,
          -556.162109375,
          -851.30859375,
          -851.30859375
         ],
         "yaxis": "y"
        },
        {
         "hoverinfo": "text",
         "marker": {
          "color": "rgb(0,116,217)"
         },
         "mode": "lines",
         "text": [
          "hp_with_vhdl_hpc_get",
          "",
          "",
          "meeting_avocadoit_have_we_to"
         ],
         "type": "scatter",
         "x": [
          0.41329136434958247,
          1.2146183252878449,
          1.2146183252878449,
          1.1322736422572095
         ],
         "xaxis": "x",
         "y": [
          -440,
          -440,
          -703.7353515625,
          -703.7353515625
         ],
         "yaxis": "y"
        },
        {
         "hoverinfo": "text",
         "marker": {
          "color": "rgb(255,65,54)"
         },
         "mode": "lines",
         "text": [
          "reschedule_tuesday_rescheduling_rescheduled_she",
          "",
          "",
          "reschedule_rescheduling_conflicting_meeting_mangement"
         ],
         "type": "scatter",
         "x": [
          0,
          0.41718057452082935,
          0.41718057452082935,
          0
         ],
         "xaxis": "x",
         "y": [
          -935,
          -935,
          -945,
          -945
         ],
         "yaxis": "y"
        },
        {
         "hoverinfo": "text",
         "marker": {
          "color": "rgb(255,65,54)"
         },
         "mode": "lines",
         "text": [
          "reschedule_rescheduling_conflicting_rescheduled_meeting",
          "",
          "",
          "reschedule_possible_rescedule_day_re"
         ],
         "type": "scatter",
         "x": [
          0.41718057452082935,
          0.46866904902308537,
          0.46866904902308537,
          0
         ],
         "xaxis": "x",
         "y": [
          -940,
          -940,
          -955,
          -955
         ],
         "yaxis": "y"
        },
        {
         "hoverinfo": "text",
         "marker": {
          "color": "rgb(0,116,217)"
         },
         "mode": "lines",
         "text": [
          "meeting_avocadoit_have_we_to",
          "",
          "",
          "reschedule_rescheduling_conflicting_meeting_possible"
         ],
         "type": "scatter",
         "x": [
          1.2146183252878449,
          1.4204916705277317,
          1.4204916705277317,
          0.46866904902308537
         ],
         "xaxis": "x",
         "y": [
          -571.86767578125,
          -571.86767578125,
          -947.5,
          -947.5
         ],
         "yaxis": "y"
        },
        {
         "hoverinfo": "text",
         "marker": {
          "color": "rgb(0,116,217)"
         },
         "mode": "lines",
         "text": [
          "html_templates_app_usa_src",
          "",
          "",
          "meeting_avocadoit_have_to_we"
         ],
         "type": "scatter",
         "x": [
          1.3342337443233006,
          1.9068865606912078,
          1.9068865606912078,
          1.4204916705277317
         ],
         "xaxis": "x",
         "y": [
          -268.720703125,
          -268.720703125,
          -759.683837890625,
          -759.683837890625
         ],
         "yaxis": "y"
        },
        {
         "hoverinfo": "text",
         "hovertext": [
          "verizon_training_create_ppu_resheduling",
          "portion_audio_presentonline_ten_conference",
          "affiliate_program_visitors_commission_site",
          "xp_00_windows_chat_visual",
          "affiliate_portion_blackberry_program_visitors",
          "jobs_affiliate_streaming_portion_blackberry",
          "received_com_mail_klgroup_esmtp",
          "templates_app_html_src_usa",
          "webex_password_click_confid_time",
          "interwoven_seminar_webcast_free_web",
          "wireless_http_news_allnetdevices_ee882a5",
          "voicegenie_voicexml_j2me_sm_j2ee",
          "infoworld_gartner_itxpo_symposium_analysts",
          "interwoven_crm_seminar_free_webcast",
          "vp_person_may_development_analysts",
          "board_directors_of_president_person",
          "http_wireless_news_com_allnetdevices",
          "templates_app_html_src_usa",
          "us_join_you_joining_be",
          "sitraka_welcoming_mobility_me_please",
          "congratulating_notify_me_please_new",
          "us_join_you_joining_be",
          "html_templates_app_usa_src",
          "prakash_rajeev_attend_srik_not",
          "prakash_she_her_attend_not",
          "meetings_stand_day_regular_periodically",
          "app_demo_need_we_do",
          "meeting_location_person_have_with",
          "meeting_location_have_person_we",
          "meeting_have_location_we_with",
          "meeting_have_we_location_up",
          "review_app_demo_we_need",
          "had_all_we_meeting_good",
          "meeting_have_we_to_up",
          "prakash_she_attend_not_her",
          "spec_feature_eng_design_functional",
          "spec_bug_bugs_qa_feature",
          "lunch_breakfast_move_itrc_moved",
          "sun_accenture_with_person_meeting",
          "avocadoit_408_562_location_person",
          "bea_goldman_with_diligence_sachs",
          "avocadoit_408_562_sun_location",
          "banamex_lunch_missed_sorry_breakfast",
          "avocadoit_408_562_sun_location",
          "spec_bug_bugs_qa_alerts",
          "avocadoit_appointment_408_562_with",
          "meeting_have_we_to_up",
          "hp_with_vhdl_hpc_get",
          "reschedule_rescheduling_conflicting_rescheduled_meeting",
          "meeting_avocadoit_have_we_to",
          "html_templates_app_usa_src"
         ],
         "marker": {
          "color": "black"
         },
         "mode": "markers",
         "showlegend": false,
         "type": "scatter",
         "x": [
          0.9529049890607174,
          0.9211341276603512,
          0.9782562517690476,
          0.8831427369851713,
          0.997222233653468,
          1.0158392910298597,
          0.8499028049634927,
          1.0208099516048081,
          0.6333385523140815,
          0.770382542552098,
          0.8142791815729478,
          0.9149657455774487,
          0.8134956972682296,
          0.8784163623504625,
          0.7806319613294306,
          0.5691904986312377,
          1.0343911617278303,
          1.1260230819153043,
          0.49172489138323205,
          0.6819380514775034,
          0.9431229908922313,
          0.7749717896208685,
          1.2330151552049635,
          0.8368592460849923,
          0.8952349372139261,
          0.7513401513014226,
          0.6933485394767319,
          0.4153234323446499,
          0.4706563780047519,
          0.6943008650250906,
          0.7239837309390558,
          0.8308156712126319,
          0.7817014161127871,
          0.867776266209235,
          0.9607668387254293,
          0.861408953270271,
          0.9661526101101434,
          0.871604389928001,
          0.8115137338398932,
          0.7909477212182926,
          0.8964743324023889,
          0.9069731760400478,
          0.9508150162100987,
          1.0202735794397175,
          1.0014633535780866,
          1.0948707112156995,
          0.9936622707578733,
          0.41329136434958247,
          0.41718057452082935,
          1.2146183252878449,
          1.3342337443233006
         ],
         "y": [
          -32.5,
          -80,
          -46.25,
          -110,
          -66.875,
          -92.1875,
          -150,
          -113.59375,
          -10,
          -180,
          -252.5,
          -230,
          -210,
          -187.5,
          -310,
          -290,
          -207.96875,
          -72.7734375,
          -350,
          -410,
          -382.5,
          -346.25,
          -164.31640625,
          -492.5,
          -489.375,
          -460,
          -540,
          -592.5,
          -603.75,
          -594.6875,
          -614.84375,
          -550,
          -660,
          -589.9609375,
          -483.59375,
          -690,
          -700,
          -760,
          -820,
          -792.5,
          -870,
          -811.875,
          -756.25,
          -800.46875,
          -715,
          -782.6171875,
          -556.162109375,
          -440,
          -940,
          -571.86767578125,
          -268.720703125
         ]
        },
        {
         "hoverinfo": "text",
         "hovertext": [
          "verizon_create_ppu_resheduling_link",
          "affiliate_program_visitors_commission_site",
          "portion_blackberry_audio_handheld_presentonline",
          "jobs_streaming_streamingmedia_xp_media",
          "received_content_com_mail_klgroup",
          "templates_app_html_src_usa",
          "wireless_http_news_allnetdevices_ee882a5",
          "wireless_http_news_allnetdevices_ee882a5",
          "wireless_http_news_allnetdevices_internet",
          "http_wireless_news_allnetdevices_com",
          "vp_person_joining_may_sales",
          "board_directors_of_person_president",
          "http_of_board_wireless_com",
          "us_join_you_joining_if",
          "congratulating_notify_me_please_new",
          "welcoming_sitraka_mobility_pub_newest",
          "welcoming_sitraka_me_please_mobility",
          "us_join_please_me_welcoming",
          "srik_rajeev_attend_not_able",
          "prakash_she_her_attend_not",
          "prakash_she_her_not_attend",
          "review_schedule_requirements_each_we",
          "meeting_person_have_00_with",
          "meeting_have_location_we_person",
          "meeting_have_we_location_to",
          "had_we_mobile_all_meeting",
          "meeting_we_have_to_up",
          "bug_bugs_qa_should_offline",
          "alerts_xml_alert_et_setup",
          "lunch_missed_sorry_breakfast_move",
          "avocadoit_408_562_location_person",
          "venk_board_meeting_saturday_friday",
          "venk_trade_board_meeting_saturday",
          "venk_sun_accenture_with_meeting",
          "bea_goldman_channelwave_reps_ep",
          "avocadoit_408_562_sun_location",
          "appointment_appointments_an_doctor_have",
          "avocadoit_appointment_408_562_person",
          "calendar_calendars_outlook_my_recurring",
          "avocadoit_appointment_408_562_with",
          "meeting_avocadoit_have_we_to",
          "reschedule_rescheduling_conflicting_meeting_possible",
          "meeting_avocadoit_have_to_we"
         ],
         "marker": {
          "color": "black"
         },
         "mode": "markers",
         "showlegend": false,
         "type": "scatter",
         "x": [
          0.9367548327027242,
          0.877403093639765,
          0.9515346065240137,
          0.9732613083713111,
          0.9501835266021013,
          1.1117756438122257,
          0.7258613245807899,
          0.8696520200167352,
          0.932440639845716,
          0.968646467311134,
          0.797125616373159,
          0.9976494795654172,
          1.1561741757655553,
          0.6772842385056478,
          0.8702374289172262,
          0.8925399263418948,
          1.0445299219114705,
          1.1733022130883743,
          0.7969019637676884,
          0.8859640909751069,
          0.9359658520775906,
          0.7796346909734799,
          0.3063359232064503,
          0.6399353983552459,
          0.7412755087557571,
          0.8182223406597781,
          0.8944814346665528,
          0.8346599648073445,
          0.8311817256112113,
          0.9227286289196667,
          0.7126498083547735,
          0.8381282902702898,
          0.8704056030249814,
          0.8857475773324218,
          0.9549377259781437,
          1.0128462850313464,
          0.6101757213184198,
          1.0622858136618873,
          0.7229771100566074,
          1.1050211801091394,
          1.1322736422572095,
          0.46866904902308537,
          1.4204916705277317
         ],
         "y": [
          -40,
          -60,
          -87.5,
          -117.5,
          -157.5,
          -135.546875,
          -260,
          -263.75,
          -246.875,
          -228.4375,
          -317.5,
          -303.75,
          -255.859375,
          -357.5,
          -390,
          -417.5,
          -400,
          -373.125,
          -500,
          -503.75,
          -507.1875,
          -560,
          -600,
          -614.375,
          -629.921875,
          -667.5,
          -628.73046875,
          -710,
          -730,
          -767.5,
          -800,
          -850,
          -842.5,
          -831.25,
          -877.5,
          -844.6875,
          -900,
          -850.234375,
          -920,
          -851.30859375,
          -703.7353515625,
          -947.5,
          -759.683837890625
         ]
        }
       ],
       "layout": {
        "autosize": false,
        "height": 1640,
        "hoverlabel": {
         "bgcolor": "white",
         "font": {
          "family": "Rockwell",
          "size": 16
         }
        },
        "hovermode": "closest",
        "plot_bgcolor": "#ECEFF1",
        "showlegend": false,
        "template": {
         "data": {
          "bar": [
           {
            "error_x": {
             "color": "#2a3f5f"
            },
            "error_y": {
             "color": "#2a3f5f"
            },
            "marker": {
             "line": {
              "color": "white",
              "width": 0.5
             },
             "pattern": {
              "fillmode": "overlay",
              "size": 10,
              "solidity": 0.2
             }
            },
            "type": "bar"
           }
          ],
          "barpolar": [
           {
            "marker": {
             "line": {
              "color": "white",
              "width": 0.5
             },
             "pattern": {
              "fillmode": "overlay",
              "size": 10,
              "solidity": 0.2
             }
            },
            "type": "barpolar"
           }
          ],
          "carpet": [
           {
            "aaxis": {
             "endlinecolor": "#2a3f5f",
             "gridcolor": "#C8D4E3",
             "linecolor": "#C8D4E3",
             "minorgridcolor": "#C8D4E3",
             "startlinecolor": "#2a3f5f"
            },
            "baxis": {
             "endlinecolor": "#2a3f5f",
             "gridcolor": "#C8D4E3",
             "linecolor": "#C8D4E3",
             "minorgridcolor": "#C8D4E3",
             "startlinecolor": "#2a3f5f"
            },
            "type": "carpet"
           }
          ],
          "choropleth": [
           {
            "colorbar": {
             "outlinewidth": 0,
             "ticks": ""
            },
            "type": "choropleth"
           }
          ],
          "contour": [
           {
            "colorbar": {
             "outlinewidth": 0,
             "ticks": ""
            },
            "colorscale": [
             [
              0,
              "#0d0887"
             ],
             [
              0.1111111111111111,
              "#46039f"
             ],
             [
              0.2222222222222222,
              "#7201a8"
             ],
             [
              0.3333333333333333,
              "#9c179e"
             ],
             [
              0.4444444444444444,
              "#bd3786"
             ],
             [
              0.5555555555555556,
              "#d8576b"
             ],
             [
              0.6666666666666666,
              "#ed7953"
             ],
             [
              0.7777777777777778,
              "#fb9f3a"
             ],
             [
              0.8888888888888888,
              "#fdca26"
             ],
             [
              1,
              "#f0f921"
             ]
            ],
            "type": "contour"
           }
          ],
          "contourcarpet": [
           {
            "colorbar": {
             "outlinewidth": 0,
             "ticks": ""
            },
            "type": "contourcarpet"
           }
          ],
          "heatmap": [
           {
            "colorbar": {
             "outlinewidth": 0,
             "ticks": ""
            },
            "colorscale": [
             [
              0,
              "#0d0887"
             ],
             [
              0.1111111111111111,
              "#46039f"
             ],
             [
              0.2222222222222222,
              "#7201a8"
             ],
             [
              0.3333333333333333,
              "#9c179e"
             ],
             [
              0.4444444444444444,
              "#bd3786"
             ],
             [
              0.5555555555555556,
              "#d8576b"
             ],
             [
              0.6666666666666666,
              "#ed7953"
             ],
             [
              0.7777777777777778,
              "#fb9f3a"
             ],
             [
              0.8888888888888888,
              "#fdca26"
             ],
             [
              1,
              "#f0f921"
             ]
            ],
            "type": "heatmap"
           }
          ],
          "heatmapgl": [
           {
            "colorbar": {
             "outlinewidth": 0,
             "ticks": ""
            },
            "colorscale": [
             [
              0,
              "#0d0887"
             ],
             [
              0.1111111111111111,
              "#46039f"
             ],
             [
              0.2222222222222222,
              "#7201a8"
             ],
             [
              0.3333333333333333,
              "#9c179e"
             ],
             [
              0.4444444444444444,
              "#bd3786"
             ],
             [
              0.5555555555555556,
              "#d8576b"
             ],
             [
              0.6666666666666666,
              "#ed7953"
             ],
             [
              0.7777777777777778,
              "#fb9f3a"
             ],
             [
              0.8888888888888888,
              "#fdca26"
             ],
             [
              1,
              "#f0f921"
             ]
            ],
            "type": "heatmapgl"
           }
          ],
          "histogram": [
           {
            "marker": {
             "pattern": {
              "fillmode": "overlay",
              "size": 10,
              "solidity": 0.2
             }
            },
            "type": "histogram"
           }
          ],
          "histogram2d": [
           {
            "colorbar": {
             "outlinewidth": 0,
             "ticks": ""
            },
            "colorscale": [
             [
              0,
              "#0d0887"
             ],
             [
              0.1111111111111111,
              "#46039f"
             ],
             [
              0.2222222222222222,
              "#7201a8"
             ],
             [
              0.3333333333333333,
              "#9c179e"
             ],
             [
              0.4444444444444444,
              "#bd3786"
             ],
             [
              0.5555555555555556,
              "#d8576b"
             ],
             [
              0.6666666666666666,
              "#ed7953"
             ],
             [
              0.7777777777777778,
              "#fb9f3a"
             ],
             [
              0.8888888888888888,
              "#fdca26"
             ],
             [
              1,
              "#f0f921"
             ]
            ],
            "type": "histogram2d"
           }
          ],
          "histogram2dcontour": [
           {
            "colorbar": {
             "outlinewidth": 0,
             "ticks": ""
            },
            "colorscale": [
             [
              0,
              "#0d0887"
             ],
             [
              0.1111111111111111,
              "#46039f"
             ],
             [
              0.2222222222222222,
              "#7201a8"
             ],
             [
              0.3333333333333333,
              "#9c179e"
             ],
             [
              0.4444444444444444,
              "#bd3786"
             ],
             [
              0.5555555555555556,
              "#d8576b"
             ],
             [
              0.6666666666666666,
              "#ed7953"
             ],
             [
              0.7777777777777778,
              "#fb9f3a"
             ],
             [
              0.8888888888888888,
              "#fdca26"
             ],
             [
              1,
              "#f0f921"
             ]
            ],
            "type": "histogram2dcontour"
           }
          ],
          "mesh3d": [
           {
            "colorbar": {
             "outlinewidth": 0,
             "ticks": ""
            },
            "type": "mesh3d"
           }
          ],
          "parcoords": [
           {
            "line": {
             "colorbar": {
              "outlinewidth": 0,
              "ticks": ""
             }
            },
            "type": "parcoords"
           }
          ],
          "pie": [
           {
            "automargin": true,
            "type": "pie"
           }
          ],
          "scatter": [
           {
            "fillpattern": {
             "fillmode": "overlay",
             "size": 10,
             "solidity": 0.2
            },
            "type": "scatter"
           }
          ],
          "scatter3d": [
           {
            "line": {
             "colorbar": {
              "outlinewidth": 0,
              "ticks": ""
             }
            },
            "marker": {
             "colorbar": {
              "outlinewidth": 0,
              "ticks": ""
             }
            },
            "type": "scatter3d"
           }
          ],
          "scattercarpet": [
           {
            "marker": {
             "colorbar": {
              "outlinewidth": 0,
              "ticks": ""
             }
            },
            "type": "scattercarpet"
           }
          ],
          "scattergeo": [
           {
            "marker": {
             "colorbar": {
              "outlinewidth": 0,
              "ticks": ""
             }
            },
            "type": "scattergeo"
           }
          ],
          "scattergl": [
           {
            "marker": {
             "colorbar": {
              "outlinewidth": 0,
              "ticks": ""
             }
            },
            "type": "scattergl"
           }
          ],
          "scattermapbox": [
           {
            "marker": {
             "colorbar": {
              "outlinewidth": 0,
              "ticks": ""
             }
            },
            "type": "scattermapbox"
           }
          ],
          "scatterpolar": [
           {
            "marker": {
             "colorbar": {
              "outlinewidth": 0,
              "ticks": ""
             }
            },
            "type": "scatterpolar"
           }
          ],
          "scatterpolargl": [
           {
            "marker": {
             "colorbar": {
              "outlinewidth": 0,
              "ticks": ""
             }
            },
            "type": "scatterpolargl"
           }
          ],
          "scatterternary": [
           {
            "marker": {
             "colorbar": {
              "outlinewidth": 0,
              "ticks": ""
             }
            },
            "type": "scatterternary"
           }
          ],
          "surface": [
           {
            "colorbar": {
             "outlinewidth": 0,
             "ticks": ""
            },
            "colorscale": [
             [
              0,
              "#0d0887"
             ],
             [
              0.1111111111111111,
              "#46039f"
             ],
             [
              0.2222222222222222,
              "#7201a8"
             ],
             [
              0.3333333333333333,
              "#9c179e"
             ],
             [
              0.4444444444444444,
              "#bd3786"
             ],
             [
              0.5555555555555556,
              "#d8576b"
             ],
             [
              0.6666666666666666,
              "#ed7953"
             ],
             [
              0.7777777777777778,
              "#fb9f3a"
             ],
             [
              0.8888888888888888,
              "#fdca26"
             ],
             [
              1,
              "#f0f921"
             ]
            ],
            "type": "surface"
           }
          ],
          "table": [
           {
            "cells": {
             "fill": {
              "color": "#EBF0F8"
             },
             "line": {
              "color": "white"
             }
            },
            "header": {
             "fill": {
              "color": "#C8D4E3"
             },
             "line": {
              "color": "white"
             }
            },
            "type": "table"
           }
          ]
         },
         "layout": {
          "annotationdefaults": {
           "arrowcolor": "#2a3f5f",
           "arrowhead": 0,
           "arrowwidth": 1
          },
          "autotypenumbers": "strict",
          "coloraxis": {
           "colorbar": {
            "outlinewidth": 0,
            "ticks": ""
           }
          },
          "colorscale": {
           "diverging": [
            [
             0,
             "#8e0152"
            ],
            [
             0.1,
             "#c51b7d"
            ],
            [
             0.2,
             "#de77ae"
            ],
            [
             0.3,
             "#f1b6da"
            ],
            [
             0.4,
             "#fde0ef"
            ],
            [
             0.5,
             "#f7f7f7"
            ],
            [
             0.6,
             "#e6f5d0"
            ],
            [
             0.7,
             "#b8e186"
            ],
            [
             0.8,
             "#7fbc41"
            ],
            [
             0.9,
             "#4d9221"
            ],
            [
             1,
             "#276419"
            ]
           ],
           "sequential": [
            [
             0,
             "#0d0887"
            ],
            [
             0.1111111111111111,
             "#46039f"
            ],
            [
             0.2222222222222222,
             "#7201a8"
            ],
            [
             0.3333333333333333,
             "#9c179e"
            ],
            [
             0.4444444444444444,
             "#bd3786"
            ],
            [
             0.5555555555555556,
             "#d8576b"
            ],
            [
             0.6666666666666666,
             "#ed7953"
            ],
            [
             0.7777777777777778,
             "#fb9f3a"
            ],
            [
             0.8888888888888888,
             "#fdca26"
            ],
            [
             1,
             "#f0f921"
            ]
           ],
           "sequentialminus": [
            [
             0,
             "#0d0887"
            ],
            [
             0.1111111111111111,
             "#46039f"
            ],
            [
             0.2222222222222222,
             "#7201a8"
            ],
            [
             0.3333333333333333,
             "#9c179e"
            ],
            [
             0.4444444444444444,
             "#bd3786"
            ],
            [
             0.5555555555555556,
             "#d8576b"
            ],
            [
             0.6666666666666666,
             "#ed7953"
            ],
            [
             0.7777777777777778,
             "#fb9f3a"
            ],
            [
             0.8888888888888888,
             "#fdca26"
            ],
            [
             1,
             "#f0f921"
            ]
           ]
          },
          "colorway": [
           "#636efa",
           "#EF553B",
           "#00cc96",
           "#ab63fa",
           "#FFA15A",
           "#19d3f3",
           "#FF6692",
           "#B6E880",
           "#FF97FF",
           "#FECB52"
          ],
          "font": {
           "color": "#2a3f5f"
          },
          "geo": {
           "bgcolor": "white",
           "lakecolor": "white",
           "landcolor": "white",
           "showlakes": true,
           "showland": true,
           "subunitcolor": "#C8D4E3"
          },
          "hoverlabel": {
           "align": "left"
          },
          "hovermode": "closest",
          "mapbox": {
           "style": "light"
          },
          "paper_bgcolor": "white",
          "plot_bgcolor": "white",
          "polar": {
           "angularaxis": {
            "gridcolor": "#EBF0F8",
            "linecolor": "#EBF0F8",
            "ticks": ""
           },
           "bgcolor": "white",
           "radialaxis": {
            "gridcolor": "#EBF0F8",
            "linecolor": "#EBF0F8",
            "ticks": ""
           }
          },
          "scene": {
           "xaxis": {
            "backgroundcolor": "white",
            "gridcolor": "#DFE8F3",
            "gridwidth": 2,
            "linecolor": "#EBF0F8",
            "showbackground": true,
            "ticks": "",
            "zerolinecolor": "#EBF0F8"
           },
           "yaxis": {
            "backgroundcolor": "white",
            "gridcolor": "#DFE8F3",
            "gridwidth": 2,
            "linecolor": "#EBF0F8",
            "showbackground": true,
            "ticks": "",
            "zerolinecolor": "#EBF0F8"
           },
           "zaxis": {
            "backgroundcolor": "white",
            "gridcolor": "#DFE8F3",
            "gridwidth": 2,
            "linecolor": "#EBF0F8",
            "showbackground": true,
            "ticks": "",
            "zerolinecolor": "#EBF0F8"
           }
          },
          "shapedefaults": {
           "line": {
            "color": "#2a3f5f"
           }
          },
          "ternary": {
           "aaxis": {
            "gridcolor": "#DFE8F3",
            "linecolor": "#A2B1C6",
            "ticks": ""
           },
           "baxis": {
            "gridcolor": "#DFE8F3",
            "linecolor": "#A2B1C6",
            "ticks": ""
           },
           "bgcolor": "white",
           "caxis": {
            "gridcolor": "#DFE8F3",
            "linecolor": "#A2B1C6",
            "ticks": ""
           }
          },
          "title": {
           "x": 0.05
          },
          "xaxis": {
           "automargin": true,
           "gridcolor": "#EBF0F8",
           "linecolor": "#EBF0F8",
           "ticks": "",
           "title": {
            "standoff": 15
           },
           "zerolinecolor": "#EBF0F8",
           "zerolinewidth": 2
          },
          "yaxis": {
           "automargin": true,
           "gridcolor": "#EBF0F8",
           "linecolor": "#EBF0F8",
           "ticks": "",
           "title": {
            "standoff": 15
           },
           "zerolinecolor": "#EBF0F8",
           "zerolinewidth": 2
          }
         }
        },
        "title": {
         "font": {
          "color": "Black",
          "size": 22
         },
         "text": "<b>Hierarchical Clustering</b>",
         "x": 0.5,
         "xanchor": "center",
         "yanchor": "top"
        },
        "width": 1000,
        "xaxis": {
         "mirror": "allticks",
         "rangemode": "tozero",
         "showgrid": false,
         "showline": true,
         "showticklabels": true,
         "ticks": "outside",
         "type": "linear",
         "zeroline": false
        },
        "yaxis": {
         "mirror": "allticks",
         "range": [
          -960,
          0
         ],
         "rangemode": "tozero",
         "showgrid": false,
         "showline": true,
         "showticklabels": true,
         "tickmode": "array",
         "ticks": "outside",
         "ticktext": [
          "70_webex_js_uuid",
          "17_webex_click_your",
          "93_training_installshield_h...",
          "91_verizon_resheduling_4th",
          "68_create_ppu_link",
          "18_affiliate_program_visitors",
          "75_club_baby_super",
          "44_portion_audio_presentonl...",
          "83_800_415_number",
          "66_blackberry_handheld_net",
          "64_00_windows_chat",
          "51_xp_extreme_group",
          "46_jobs_streaming_streaming...",
          "81_templates_app_html",
          "87_hotmail_msn_largest",
          "84_received_com_klgroup",
          "80_content_disposition_enco...",
          "37_interwoven_webcast_instr...",
          "39_seminar_free_webinar",
          "35_crm_destinationcrm_busin...",
          "82_gartner_research_backweb",
          "55_infoworld_itxpo_symposium",
          "53_j2me_sm_j2ee",
          "71_voicegenie_voicexml_asr",
          "76_location_executives_expe...",
          "14_job_description_commerce",
          "3_wireless_http_news",
          "73_advertising_iab_market",
          "19_million_ventures_round",
          "2_board_directors_of",
          "43_joining_us_as",
          "61_vp_person_may",
          "85_sales_650_316",
          "90_event_us_guest",
          "9_us_joining_person",
          "8_us_join_you",
          "25_lunch_us_kitchen",
          "94_birthdays_celebrate_wate...",
          "52_notify_email_me",
          "72_congratulating_role_please",
          "42_sitraka_mobility_welcoming",
          "60_welcoming_please_me",
          "89_pub_newest_cable",
          "77_hp_vhdl_hdl",
          "33_hp_qwest_competitive",
          "78_meetings_format_consider",
          "34_meetings_stand_day",
          "69_ae_aes_difficult",
          "13_prakash_infosys_cto",
          "24_srik_rajeev_prasad",
          "26_not_attend_able",
          "23_she_her_says",
          "36_cancel_canceling_plant",
          "32_demo_ricardo_need",
          "12_app_need_do",
          "54_requirements_gathering_e...",
          "22_review_schedule_ll",
          "10_he_him_his",
          "5_location_in_meeting",
          "0_person_meeting_with",
          "4_00_30_meeting",
          "7_meeting_discuss_this",
          "11_sales_customer_pricing",
          "29_technical_engineering_te...",
          "21_confirm_2001_our",
          "40_all_bi_hands",
          "27_had_good_we",
          "57_mobile_justifications_wh...",
          "74_design_approaches_we",
          "38_spec_feature_eng",
          "56_qa_test_offline",
          "28_bug_bugs_determine",
          "50_alerts_alert_over",
          "95_xml_upgraded_s2",
          "62_banamex_cr_hp",
          "45_lunch_breakfast_itrc",
          "86_move_moved_fly",
          "47_missed_sorry_missing",
          "67_marketing_committee_rewa...",
          "65_marketing_qbr_person",
          "1_avocadoit_408_562",
          "20_accenture_with_partners",
          "16_sun_with_person",
          "41_trade_ve_4pm",
          "15_venk_meeting_staff",
          "30_board_saturday_springboard",
          "59_bea_mobility_weblogic",
          "58_goldman_diligence_sachs",
          "79_channelwave_reps_rep",
          "6_appointment_appointments_an",
          "48_dentist_appointment_dental",
          "31_calendar_calendars_my",
          "92_outlook_recurring_calendar",
          "63_reschedule_tuesday_resch...",
          "49_reschedule_rescheduling_...",
          "88_reschedule_possible_resc..."
         ],
         "tickvals": [
          -5,
          -15,
          -25,
          -35,
          -45,
          -55,
          -65,
          -75,
          -85,
          -95,
          -105,
          -115,
          -125,
          -135,
          -145,
          -155,
          -165,
          -175,
          -185,
          -195,
          -205,
          -215,
          -225,
          -235,
          -245,
          -255,
          -265,
          -275,
          -285,
          -295,
          -305,
          -315,
          -325,
          -335,
          -345,
          -355,
          -365,
          -375,
          -385,
          -395,
          -405,
          -415,
          -425,
          -435,
          -445,
          -455,
          -465,
          -475,
          -485,
          -495,
          -505,
          -515,
          -525,
          -535,
          -545,
          -555,
          -565,
          -575,
          -585,
          -595,
          -605,
          -615,
          -625,
          -635,
          -645,
          -655,
          -665,
          -675,
          -685,
          -695,
          -705,
          -715,
          -725,
          -735,
          -745,
          -755,
          -765,
          -775,
          -785,
          -795,
          -805,
          -815,
          -825,
          -835,
          -845,
          -855,
          -865,
          -875,
          -885,
          -895,
          -905,
          -915,
          -925,
          -935,
          -945,
          -955
         ],
         "type": "linear",
         "zeroline": false
        }
       }
      }
     },
     "metadata": {},
     "output_type": "display_data"
    }
   ],
   "source": [
    "topic_model.visualize_hierarchy(hierarchical_topics=hierarchical_topics)"
   ]
  },
  {
   "cell_type": "markdown",
   "metadata": {},
   "source": [
    "## Merging Topics"
   ]
  },
  {
   "cell_type": "code",
   "execution_count": 424,
   "metadata": {},
   "outputs": [
    {
     "name": "stdout",
     "output_type": "stream",
     "text": [
      "Topic: 0\n",
      "\n",
      "Top Words:\n",
      "meeting, person, to, the, have, you, and, with, we, location, \n",
      "\n",
      "Representative Target Sentences: \n",
      "I have a meeting with [PERSON] for next week .\n",
      "Please let me know the next time you will be coming to [LOCATION] [LOCATION] in order that we can arrange a meeting with you and some of our Senior Executive Management Team .\n",
      "[LOCATION] and we 'd like to have you join us .\n"
     ]
    }
   ],
   "source": [
    "topic_nr = 0\n",
    "inspect_topic(topic_model,topic_nr)"
   ]
  },
  {
   "cell_type": "code",
   "execution_count": 427,
   "metadata": {},
   "outputs": [
    {
     "data": {
      "text/plain": [
       "['-1_person_the_to_and',\n",
       " '0_meeting_planning',\n",
       " '1_meeting_reschedule',\n",
       " '2_meeting_confirmation',\n",
       " '3_meeting_not_attendable',\n",
       " '4_meeting_for_bugs',\n",
       " '5_meeting_cancellation',\n",
       " '6_meeting_missed']"
      ]
     },
     "execution_count": 427,
     "metadata": {},
     "output_type": "execute_result"
    }
   ],
   "source": [
    "topic_model.custom_labels_"
   ]
  },
  {
   "cell_type": "code",
   "execution_count": 399,
   "metadata": {},
   "outputs": [],
   "source": [
    "topic_model.merge_topics(docs, [-1,topic_nr])"
   ]
  },
  {
   "cell_type": "code",
   "execution_count": 407,
   "metadata": {},
   "outputs": [],
   "source": [
    "topic_model.merge_topics(docs, [0,5])"
   ]
  },
  {
   "cell_type": "code",
   "execution_count": 422,
   "metadata": {},
   "outputs": [],
   "source": [
    "create_custom_label(topic_model, \"meeting_missed\", topic_nr)"
   ]
  },
  {
   "cell_type": "code",
   "execution_count": 406,
   "metadata": {},
   "outputs": [
    {
     "name": "stdout",
     "output_type": "stream",
     "text": [
      "Number of Documents: 36\n",
      "\n",
      "Ok with me ... Set up a meeting so it goes on my calendar .\n",
      "Let me know what might work best for you and I will put a meeting on the calendar .\n",
      "For some reason , I do n't have Staff Meeting on 4/17 on my calendar .\n",
      "otherwise I 'll just set - up the meeting on your calendar .\n",
      "I 'm hoping that all of you still have this meeting showing up weekly on your calendars .. please let me know if you do not ..\n",
      "These essential software programs will help you remember important dates , set your own reminders , keep better track of your finances , even get you up in time to make that early morning meeting .\n",
      "Thanks [PERSON]    I still need you to delete the meeting you have in the calendar for that room or change it to a different room , the system wo n't let me book it until you have deleted it !\n",
      "We 've had some \" twist and turns \" on individual calendars here and I wanted   to get back intouch with you regarding our planned meeting .\n",
      "I do n't see a meeting scheduled on my calendar ? ?    [PERSON]\n",
      "I missed last meeting because it was not set up as a customer requirement meeting and never got into my calendar .\n",
      "I do n't have a meeting scheduled in my calendar and I have a conflicting meeting that I need to attend .\n",
      "My calendar accurately reflects any meetings already scheduled .\n",
      "you should delete all Engage meetings from your calendar .\n",
      "because i did n't coordinate the appointments -- marcia 's meetings were handed off to me from mark ricktor yesterday .\n",
      "Do you want me to put the meeting on everyone 's calendar with all of the call in information ?\n",
      "As a heads up , I do not have a staff meeting on my calendar for today .\n",
      "Calendar is best for marking meeting , appointment , etc .\n",
      "Otherwise , please select a block and put the meeting on the calendar from your end .\n",
      "Might we sync - up our calendars to facilitate the executive meeting in the   next week ?    Thanks ,    [PERSON] [PERSON]   Project Leader   Alliance Group International , Inc.   925 - 828 - 9292   brian@alliancegroup.net   www.alliancegroup.net\n",
      "I just checked my calendar and realized that I have a conflicting meeting .\n"
     ]
    }
   ],
   "source": [
    "topic_docs = inspect_topic_docs(topic_model,topic_nr,docs,n_docs=20)"
   ]
  },
  {
   "cell_type": "code",
   "execution_count": 43,
   "metadata": {},
   "outputs": [
    {
     "data": {
      "text/plain": [
       "91"
      ]
     },
     "execution_count": 43,
     "metadata": {},
     "output_type": "execute_result"
    }
   ],
   "source": [
    "len(topic_model.get_topics())"
   ]
  },
  {
   "cell_type": "code",
   "execution_count": 425,
   "metadata": {},
   "outputs": [
    {
     "name": "stderr",
     "output_type": "stream",
     "text": [
      "2024-11-10 21:17:58,867 - BERTopic - WARNING: When you use `pickle` to save/load a BERTopic model,please make sure that the environments in which you saveand load the model are **exactly** the same. The version of BERTopic,its dependencies, and python need to remain the same.\n"
     ]
    }
   ],
   "source": [
    "topic_model.save(\"../../../data/bertopic_models/intents/05_meeting/meeting_processed\")"
   ]
  },
  {
   "cell_type": "code",
   "execution_count": 408,
   "metadata": {},
   "outputs": [
    {
     "data": {
      "application/vnd.plotly.v1+json": {
       "config": {
        "plotlyServerURL": "https://plot.ly"
       },
       "data": [
        {
         "hoverinfo": "text",
         "marker": {
          "color": "rgb(61,153,112)"
         },
         "mode": "lines",
         "type": "scatter",
         "x": [
          0,
          0.3466431689729885,
          0.3466431689729885,
          0
         ],
         "xaxis": "x",
         "y": [
          -35,
          -35,
          -45,
          -45
         ],
         "yaxis": "y"
        },
        {
         "hoverinfo": "text",
         "marker": {
          "color": "rgb(61,153,112)"
         },
         "mode": "lines",
         "type": "scatter",
         "x": [
          0,
          0.4669729838210615,
          0.4669729838210615,
          0.3466431689729885
         ],
         "xaxis": "x",
         "y": [
          -25,
          -25,
          -40,
          -40
         ],
         "yaxis": "y"
        },
        {
         "hoverinfo": "text",
         "marker": {
          "color": "rgb(61,153,112)"
         },
         "mode": "lines",
         "type": "scatter",
         "x": [
          0,
          0.6692617822229749,
          0.6692617822229749,
          0.4669729838210615
         ],
         "xaxis": "x",
         "y": [
          -15,
          -15,
          -32.5,
          -32.5
         ],
         "yaxis": "y"
        },
        {
         "hoverinfo": "text",
         "marker": {
          "color": "rgb(61,153,112)"
         },
         "mode": "lines",
         "type": "scatter",
         "x": [
          0.6692617822229749,
          0.7031004524145058,
          0.7031004524145058,
          0
         ],
         "xaxis": "x",
         "y": [
          -23.75,
          -23.75,
          -55,
          -55
         ],
         "yaxis": "y"
        },
        {
         "hoverinfo": "text",
         "marker": {
          "color": "rgb(61,153,112)"
         },
         "mode": "lines",
         "type": "scatter",
         "x": [
          0.7031004524145058,
          0.7583423790262512,
          0.7583423790262512,
          0
         ],
         "xaxis": "x",
         "y": [
          -39.375,
          -39.375,
          -65,
          -65
         ],
         "yaxis": "y"
        },
        {
         "hoverinfo": "text",
         "marker": {
          "color": "rgb(61,153,112)"
         },
         "mode": "lines",
         "type": "scatter",
         "x": [
          0,
          0.7934395894911679,
          0.7934395894911679,
          0.7583423790262512
         ],
         "xaxis": "x",
         "y": [
          -5,
          -5,
          -52.1875,
          -52.1875
         ],
         "yaxis": "y"
        }
       ],
       "layout": {
        "autosize": false,
        "height": 305,
        "hoverlabel": {
         "bgcolor": "white",
         "font": {
          "family": "Rockwell",
          "size": 16
         }
        },
        "hovermode": "closest",
        "plot_bgcolor": "#ECEFF1",
        "showlegend": false,
        "template": {
         "data": {
          "bar": [
           {
            "error_x": {
             "color": "#2a3f5f"
            },
            "error_y": {
             "color": "#2a3f5f"
            },
            "marker": {
             "line": {
              "color": "white",
              "width": 0.5
             },
             "pattern": {
              "fillmode": "overlay",
              "size": 10,
              "solidity": 0.2
             }
            },
            "type": "bar"
           }
          ],
          "barpolar": [
           {
            "marker": {
             "line": {
              "color": "white",
              "width": 0.5
             },
             "pattern": {
              "fillmode": "overlay",
              "size": 10,
              "solidity": 0.2
             }
            },
            "type": "barpolar"
           }
          ],
          "carpet": [
           {
            "aaxis": {
             "endlinecolor": "#2a3f5f",
             "gridcolor": "#C8D4E3",
             "linecolor": "#C8D4E3",
             "minorgridcolor": "#C8D4E3",
             "startlinecolor": "#2a3f5f"
            },
            "baxis": {
             "endlinecolor": "#2a3f5f",
             "gridcolor": "#C8D4E3",
             "linecolor": "#C8D4E3",
             "minorgridcolor": "#C8D4E3",
             "startlinecolor": "#2a3f5f"
            },
            "type": "carpet"
           }
          ],
          "choropleth": [
           {
            "colorbar": {
             "outlinewidth": 0,
             "ticks": ""
            },
            "type": "choropleth"
           }
          ],
          "contour": [
           {
            "colorbar": {
             "outlinewidth": 0,
             "ticks": ""
            },
            "colorscale": [
             [
              0,
              "#0d0887"
             ],
             [
              0.1111111111111111,
              "#46039f"
             ],
             [
              0.2222222222222222,
              "#7201a8"
             ],
             [
              0.3333333333333333,
              "#9c179e"
             ],
             [
              0.4444444444444444,
              "#bd3786"
             ],
             [
              0.5555555555555556,
              "#d8576b"
             ],
             [
              0.6666666666666666,
              "#ed7953"
             ],
             [
              0.7777777777777778,
              "#fb9f3a"
             ],
             [
              0.8888888888888888,
              "#fdca26"
             ],
             [
              1,
              "#f0f921"
             ]
            ],
            "type": "contour"
           }
          ],
          "contourcarpet": [
           {
            "colorbar": {
             "outlinewidth": 0,
             "ticks": ""
            },
            "type": "contourcarpet"
           }
          ],
          "heatmap": [
           {
            "colorbar": {
             "outlinewidth": 0,
             "ticks": ""
            },
            "colorscale": [
             [
              0,
              "#0d0887"
             ],
             [
              0.1111111111111111,
              "#46039f"
             ],
             [
              0.2222222222222222,
              "#7201a8"
             ],
             [
              0.3333333333333333,
              "#9c179e"
             ],
             [
              0.4444444444444444,
              "#bd3786"
             ],
             [
              0.5555555555555556,
              "#d8576b"
             ],
             [
              0.6666666666666666,
              "#ed7953"
             ],
             [
              0.7777777777777778,
              "#fb9f3a"
             ],
             [
              0.8888888888888888,
              "#fdca26"
             ],
             [
              1,
              "#f0f921"
             ]
            ],
            "type": "heatmap"
           }
          ],
          "heatmapgl": [
           {
            "colorbar": {
             "outlinewidth": 0,
             "ticks": ""
            },
            "colorscale": [
             [
              0,
              "#0d0887"
             ],
             [
              0.1111111111111111,
              "#46039f"
             ],
             [
              0.2222222222222222,
              "#7201a8"
             ],
             [
              0.3333333333333333,
              "#9c179e"
             ],
             [
              0.4444444444444444,
              "#bd3786"
             ],
             [
              0.5555555555555556,
              "#d8576b"
             ],
             [
              0.6666666666666666,
              "#ed7953"
             ],
             [
              0.7777777777777778,
              "#fb9f3a"
             ],
             [
              0.8888888888888888,
              "#fdca26"
             ],
             [
              1,
              "#f0f921"
             ]
            ],
            "type": "heatmapgl"
           }
          ],
          "histogram": [
           {
            "marker": {
             "pattern": {
              "fillmode": "overlay",
              "size": 10,
              "solidity": 0.2
             }
            },
            "type": "histogram"
           }
          ],
          "histogram2d": [
           {
            "colorbar": {
             "outlinewidth": 0,
             "ticks": ""
            },
            "colorscale": [
             [
              0,
              "#0d0887"
             ],
             [
              0.1111111111111111,
              "#46039f"
             ],
             [
              0.2222222222222222,
              "#7201a8"
             ],
             [
              0.3333333333333333,
              "#9c179e"
             ],
             [
              0.4444444444444444,
              "#bd3786"
             ],
             [
              0.5555555555555556,
              "#d8576b"
             ],
             [
              0.6666666666666666,
              "#ed7953"
             ],
             [
              0.7777777777777778,
              "#fb9f3a"
             ],
             [
              0.8888888888888888,
              "#fdca26"
             ],
             [
              1,
              "#f0f921"
             ]
            ],
            "type": "histogram2d"
           }
          ],
          "histogram2dcontour": [
           {
            "colorbar": {
             "outlinewidth": 0,
             "ticks": ""
            },
            "colorscale": [
             [
              0,
              "#0d0887"
             ],
             [
              0.1111111111111111,
              "#46039f"
             ],
             [
              0.2222222222222222,
              "#7201a8"
             ],
             [
              0.3333333333333333,
              "#9c179e"
             ],
             [
              0.4444444444444444,
              "#bd3786"
             ],
             [
              0.5555555555555556,
              "#d8576b"
             ],
             [
              0.6666666666666666,
              "#ed7953"
             ],
             [
              0.7777777777777778,
              "#fb9f3a"
             ],
             [
              0.8888888888888888,
              "#fdca26"
             ],
             [
              1,
              "#f0f921"
             ]
            ],
            "type": "histogram2dcontour"
           }
          ],
          "mesh3d": [
           {
            "colorbar": {
             "outlinewidth": 0,
             "ticks": ""
            },
            "type": "mesh3d"
           }
          ],
          "parcoords": [
           {
            "line": {
             "colorbar": {
              "outlinewidth": 0,
              "ticks": ""
             }
            },
            "type": "parcoords"
           }
          ],
          "pie": [
           {
            "automargin": true,
            "type": "pie"
           }
          ],
          "scatter": [
           {
            "fillpattern": {
             "fillmode": "overlay",
             "size": 10,
             "solidity": 0.2
            },
            "type": "scatter"
           }
          ],
          "scatter3d": [
           {
            "line": {
             "colorbar": {
              "outlinewidth": 0,
              "ticks": ""
             }
            },
            "marker": {
             "colorbar": {
              "outlinewidth": 0,
              "ticks": ""
             }
            },
            "type": "scatter3d"
           }
          ],
          "scattercarpet": [
           {
            "marker": {
             "colorbar": {
              "outlinewidth": 0,
              "ticks": ""
             }
            },
            "type": "scattercarpet"
           }
          ],
          "scattergeo": [
           {
            "marker": {
             "colorbar": {
              "outlinewidth": 0,
              "ticks": ""
             }
            },
            "type": "scattergeo"
           }
          ],
          "scattergl": [
           {
            "marker": {
             "colorbar": {
              "outlinewidth": 0,
              "ticks": ""
             }
            },
            "type": "scattergl"
           }
          ],
          "scattermapbox": [
           {
            "marker": {
             "colorbar": {
              "outlinewidth": 0,
              "ticks": ""
             }
            },
            "type": "scattermapbox"
           }
          ],
          "scatterpolar": [
           {
            "marker": {
             "colorbar": {
              "outlinewidth": 0,
              "ticks": ""
             }
            },
            "type": "scatterpolar"
           }
          ],
          "scatterpolargl": [
           {
            "marker": {
             "colorbar": {
              "outlinewidth": 0,
              "ticks": ""
             }
            },
            "type": "scatterpolargl"
           }
          ],
          "scatterternary": [
           {
            "marker": {
             "colorbar": {
              "outlinewidth": 0,
              "ticks": ""
             }
            },
            "type": "scatterternary"
           }
          ],
          "surface": [
           {
            "colorbar": {
             "outlinewidth": 0,
             "ticks": ""
            },
            "colorscale": [
             [
              0,
              "#0d0887"
             ],
             [
              0.1111111111111111,
              "#46039f"
             ],
             [
              0.2222222222222222,
              "#7201a8"
             ],
             [
              0.3333333333333333,
              "#9c179e"
             ],
             [
              0.4444444444444444,
              "#bd3786"
             ],
             [
              0.5555555555555556,
              "#d8576b"
             ],
             [
              0.6666666666666666,
              "#ed7953"
             ],
             [
              0.7777777777777778,
              "#fb9f3a"
             ],
             [
              0.8888888888888888,
              "#fdca26"
             ],
             [
              1,
              "#f0f921"
             ]
            ],
            "type": "surface"
           }
          ],
          "table": [
           {
            "cells": {
             "fill": {
              "color": "#EBF0F8"
             },
             "line": {
              "color": "white"
             }
            },
            "header": {
             "fill": {
              "color": "#C8D4E3"
             },
             "line": {
              "color": "white"
             }
            },
            "type": "table"
           }
          ]
         },
         "layout": {
          "annotationdefaults": {
           "arrowcolor": "#2a3f5f",
           "arrowhead": 0,
           "arrowwidth": 1
          },
          "autotypenumbers": "strict",
          "coloraxis": {
           "colorbar": {
            "outlinewidth": 0,
            "ticks": ""
           }
          },
          "colorscale": {
           "diverging": [
            [
             0,
             "#8e0152"
            ],
            [
             0.1,
             "#c51b7d"
            ],
            [
             0.2,
             "#de77ae"
            ],
            [
             0.3,
             "#f1b6da"
            ],
            [
             0.4,
             "#fde0ef"
            ],
            [
             0.5,
             "#f7f7f7"
            ],
            [
             0.6,
             "#e6f5d0"
            ],
            [
             0.7,
             "#b8e186"
            ],
            [
             0.8,
             "#7fbc41"
            ],
            [
             0.9,
             "#4d9221"
            ],
            [
             1,
             "#276419"
            ]
           ],
           "sequential": [
            [
             0,
             "#0d0887"
            ],
            [
             0.1111111111111111,
             "#46039f"
            ],
            [
             0.2222222222222222,
             "#7201a8"
            ],
            [
             0.3333333333333333,
             "#9c179e"
            ],
            [
             0.4444444444444444,
             "#bd3786"
            ],
            [
             0.5555555555555556,
             "#d8576b"
            ],
            [
             0.6666666666666666,
             "#ed7953"
            ],
            [
             0.7777777777777778,
             "#fb9f3a"
            ],
            [
             0.8888888888888888,
             "#fdca26"
            ],
            [
             1,
             "#f0f921"
            ]
           ],
           "sequentialminus": [
            [
             0,
             "#0d0887"
            ],
            [
             0.1111111111111111,
             "#46039f"
            ],
            [
             0.2222222222222222,
             "#7201a8"
            ],
            [
             0.3333333333333333,
             "#9c179e"
            ],
            [
             0.4444444444444444,
             "#bd3786"
            ],
            [
             0.5555555555555556,
             "#d8576b"
            ],
            [
             0.6666666666666666,
             "#ed7953"
            ],
            [
             0.7777777777777778,
             "#fb9f3a"
            ],
            [
             0.8888888888888888,
             "#fdca26"
            ],
            [
             1,
             "#f0f921"
            ]
           ]
          },
          "colorway": [
           "#636efa",
           "#EF553B",
           "#00cc96",
           "#ab63fa",
           "#FFA15A",
           "#19d3f3",
           "#FF6692",
           "#B6E880",
           "#FF97FF",
           "#FECB52"
          ],
          "font": {
           "color": "#2a3f5f"
          },
          "geo": {
           "bgcolor": "white",
           "lakecolor": "white",
           "landcolor": "white",
           "showlakes": true,
           "showland": true,
           "subunitcolor": "#C8D4E3"
          },
          "hoverlabel": {
           "align": "left"
          },
          "hovermode": "closest",
          "mapbox": {
           "style": "light"
          },
          "paper_bgcolor": "white",
          "plot_bgcolor": "white",
          "polar": {
           "angularaxis": {
            "gridcolor": "#EBF0F8",
            "linecolor": "#EBF0F8",
            "ticks": ""
           },
           "bgcolor": "white",
           "radialaxis": {
            "gridcolor": "#EBF0F8",
            "linecolor": "#EBF0F8",
            "ticks": ""
           }
          },
          "scene": {
           "xaxis": {
            "backgroundcolor": "white",
            "gridcolor": "#DFE8F3",
            "gridwidth": 2,
            "linecolor": "#EBF0F8",
            "showbackground": true,
            "ticks": "",
            "zerolinecolor": "#EBF0F8"
           },
           "yaxis": {
            "backgroundcolor": "white",
            "gridcolor": "#DFE8F3",
            "gridwidth": 2,
            "linecolor": "#EBF0F8",
            "showbackground": true,
            "ticks": "",
            "zerolinecolor": "#EBF0F8"
           },
           "zaxis": {
            "backgroundcolor": "white",
            "gridcolor": "#DFE8F3",
            "gridwidth": 2,
            "linecolor": "#EBF0F8",
            "showbackground": true,
            "ticks": "",
            "zerolinecolor": "#EBF0F8"
           }
          },
          "shapedefaults": {
           "line": {
            "color": "#2a3f5f"
           }
          },
          "ternary": {
           "aaxis": {
            "gridcolor": "#DFE8F3",
            "linecolor": "#A2B1C6",
            "ticks": ""
           },
           "baxis": {
            "gridcolor": "#DFE8F3",
            "linecolor": "#A2B1C6",
            "ticks": ""
           },
           "bgcolor": "white",
           "caxis": {
            "gridcolor": "#DFE8F3",
            "linecolor": "#A2B1C6",
            "ticks": ""
           }
          },
          "title": {
           "x": 0.05
          },
          "xaxis": {
           "automargin": true,
           "gridcolor": "#EBF0F8",
           "linecolor": "#EBF0F8",
           "ticks": "",
           "title": {
            "standoff": 15
           },
           "zerolinecolor": "#EBF0F8",
           "zerolinewidth": 2
          },
          "yaxis": {
           "automargin": true,
           "gridcolor": "#EBF0F8",
           "linecolor": "#EBF0F8",
           "ticks": "",
           "title": {
            "standoff": 15
           },
           "zerolinecolor": "#EBF0F8",
           "zerolinewidth": 2
          }
         }
        },
        "title": {
         "font": {
          "color": "Black",
          "size": 22
         },
         "text": "<b>Hierarchical Clustering</b>",
         "x": 0.5,
         "xanchor": "center",
         "yanchor": "top"
        },
        "width": 1000,
        "xaxis": {
         "mirror": "allticks",
         "rangemode": "tozero",
         "showgrid": false,
         "showline": true,
         "showticklabels": true,
         "ticks": "outside",
         "type": "linear",
         "zeroline": false
        },
        "yaxis": {
         "mirror": "allticks",
         "range": [
          -70,
          0
         ],
         "rangemode": "tozero",
         "showgrid": false,
         "showline": true,
         "showticklabels": true,
         "tickmode": "array",
         "ticks": "outside",
         "ticktext": [
          "6_missed_sorry_meeting",
          "3_not_attend_able",
          "2_meeting_confirm_our",
          "0_meeting_person_to",
          "1_reschedule_meeting_to",
          "5_cancel_meeting_canceling",
          "4_bug_bugs_the"
         ],
         "tickvals": [
          -5,
          -15,
          -25,
          -35,
          -45,
          -55,
          -65
         ],
         "type": "linear",
         "zeroline": false
        }
       }
      }
     },
     "metadata": {},
     "output_type": "display_data"
    }
   ],
   "source": [
    "topic_model.visualize_hierarchy(custom_labels=False)"
   ]
  },
  {
   "cell_type": "code",
   "execution_count": 426,
   "metadata": {},
   "outputs": [
    {
     "name": "stderr",
     "output_type": "stream",
     "text": [
      "2024-11-10 21:18:14,474 - BERTopic - WARNING: When you use `pickle` to save/load a BERTopic model,please make sure that the environments in which you saveand load the model are **exactly** the same. The version of BERTopic,its dependencies, and python need to remain the same.\n"
     ]
    }
   ],
   "source": [
    "topic_model.save(\"../../../data/bertopic_models/intents/05_meeting/meeting_final\")"
   ]
  },
  {
   "cell_type": "markdown",
   "metadata": {},
   "source": [
    "### Create Dataset for intent 'help'"
   ]
  },
  {
   "cell_type": "markdown",
   "metadata": {},
   "source": [
    "####  Labels"
   ]
  },
  {
   "cell_type": "markdown",
   "metadata": {},
   "source": [
    "Created custom labels for topics\n",
    "\n",
    "| Label                             | Description                                       | Extraction Strings | Context needed |\n",
    "|-----------------------------------|---------------------------------------------------|--------------------|----------------|\n",
    "| '0_meeting_planning',\n",
    "| '1_meeting_reschedule',\n",
    "| '2_meeting_confirmation',\n",
    "| '3_meeting_not_attendable',\n",
    "| '4_meeting_for_bugs',\n",
    "| '5_meeting_cancellation',\n",
    "| '6_meeting_missed'"
   ]
  },
  {
   "cell_type": "markdown",
   "metadata": {},
   "source": [
    "#### Inspecting Topics"
   ]
  },
  {
   "cell_type": "code",
   "execution_count": null,
   "metadata": {},
   "outputs": [],
   "source": [
    "'''\n",
    "for  label in topic_model.custom_labels_:\n",
    "   print(label)'''"
   ]
  },
  {
   "cell_type": "code",
   "execution_count": 575,
   "metadata": {},
   "outputs": [
    {
     "name": "stdout",
     "output_type": "stream",
     "text": [
      "Number of Documents: 28\n",
      "\n",
      "Can we cancel meeting tomorrow ?\n",
      "Canceling the meeting sparked much activity .\n",
      "Hi ,    I 'd like to suggest we cancel Monday \" O Staff \" meetings .\n",
      "Let us cancel today 's meeting since many of us are not available .\n",
      "I have asked him to cancel the meeting so that   all of us can concentrate on interviewing the two candidates who are going   to show up .\n",
      "As a result , I have cancelled the meeting you scheduled for Tuesday .\n",
      "Canceling two communications meetings in a row is not   a good practice !\n",
      "[PERSON] [PERSON] , manger at the [LOCATION] plant , said that Ericsson decided   to cancel the meeting following its bombshell warning that it expects to   lose as much as SEK5 billion in Q1 .\n",
      "We would like to cancel SP meeting this week because we has already discussed detail of all issues .\n",
      "Ericsson cancels handset plant meeting to rethink   7 .\n",
      "Currently , we have licensing release meeting everyday at 4:00pm   I have asked [PERSON] if we can cancel that and have this one instead .\n",
      "can you cancel the meeting for next monday and suggest some times .\n",
      "I have to cancel another meeting so I 'll wait to hear from you before canceling .\n",
      "So I have cancelled the Thursday meeting .\n",
      "We would like to cancell today 's SP meeting .\n",
      "The last thing in the world we want to do is set up meetings and then cancel .\n",
      "I had to double - book the meeting on the 20th because I could n't modify nor cancel the first meeting I put on there .\n",
      "I 'm going to cancel today 's meeting and   reschedule .\n",
      "We had to cancel tomorrows meeting .\n",
      "CANCELS HANDSET PLANT MEETING TO RETHINK   Ericsson cancelled a meeting with employees at its mobile plant in   [LOCATION] , [LOCATION] , as it looks at additional ways to turn around its ailing   handset unit .\n"
     ]
    }
   ],
   "source": [
    "topic_id = 5\n",
    "topic_docs = inspect_topic_docs(topic_model=topic_model, topic_nr=topic_id,original_docs=docs, n_docs=20)"
   ]
  },
  {
   "cell_type": "code",
   "execution_count": 579,
   "metadata": {},
   "outputs": [],
   "source": [
    "# Based on the inspection of the sentences\n",
    "white_list = [\n",
    "    'can ', 'let us', 'would like'\n",
    "     #'not be attending', 'unable', 'not able', 'not be able', \"n't be able\", \"n't able to attend\", \"not beable to attend\"\n",
    "    #'please confirm',\n",
    "]\n",
    "black_list = [\n",
    "    'please', 'mailto'\n",
    "    #'should', 'could', \"let's\", 'let me know', 'is it possible', \"did n't\", 'asked', '[PERSON] wrote'\n",
    "]"
   ]
  },
  {
   "cell_type": "code",
   "execution_count": 580,
   "metadata": {},
   "outputs": [
    {
     "name": "stdout",
     "output_type": "stream",
     "text": [
      "Amount of sentences: 8\n"
     ]
    },
    {
     "data": {
      "text/plain": [
       "[\"Let us cancel today 's meeting since many of us are not available .\",\n",
       " 'Can we cancel meeting tomorrow ?',\n",
       " 'can you cancel the meeting for next monday and suggest some times .',\n",
       " \"We would like to cancell today 's SP meeting .\",\n",
       " 'Currently , we have licensing release meeting everyday at 4:00pm   I have asked [PERSON] if we can cancel that and have this one instead .',\n",
       " \"I would like to propose cancelling this Friday 's meeting but instead having everyone agree to review materials and provide feedback by next Tuesday .\",\n",
       " 'We would like to cancel SP meeting this week because we has already discussed detail of all issues .',\n",
       " 'I have asked him to cancel the meeting so that   all of us can concentrate on interviewing the two candidates who are going   to show up .']"
      ]
     },
     "execution_count": 580,
     "metadata": {},
     "output_type": "execute_result"
    }
   ],
   "source": [
    "sents_to_keep, sents_to_discard = filter_topic_documents(topic_docs=topic_docs, white_list=white_list, black_list=black_list)\n",
    "sents_to_keep"
   ]
  },
  {
   "cell_type": "code",
   "execution_count": 581,
   "metadata": {},
   "outputs": [
    {
     "name": "stdout",
     "output_type": "stream",
     "text": [
      "20\n"
     ]
    },
    {
     "data": {
      "text/plain": [
       "['Hi ,    I \\'d like to suggest we cancel Monday \" O Staff \" meetings .',\n",
       " 'The last thing in the world we want to do is set up meetings and then cancel .',\n",
       " \"I had to double - book the meeting on the 20th because I could n't modify nor cancel the first meeting I put on there .\",\n",
       " 'The only reason I will cancel this meeting is if I am physically unable to be here .',\n",
       " 'Unfortunately I have to cancel our tentative meeting next week .',\n",
       " 'Team   I have canceled the Monday weekly team group meetings .',\n",
       " 'We had to cancel tomorrows meeting .',\n",
       " 'So I have cancelled the Thursday meeting .',\n",
       " \"I have to cancel another meeting so I 'll wait to hear from you before canceling .\",\n",
       " 'Ericsson cancels handset plant meeting to rethink   7 .',\n",
       " 'So , i have to cancel the weekly meeting today .',\n",
       " \"I 'm going to cancel today 's meeting and   reschedule .\",\n",
       " 'As a result , I have cancelled the meeting you scheduled for Tuesday .',\n",
       " 'Canceling the meeting sparked much activity .',\n",
       " 'Canceling two communications meetings in a row is not   a good practice !',\n",
       " \"I 'll cancel meeting tomorrow .\",\n",
       " '[PERSON] [PERSON] , manger at the [LOCATION] plant , said that Ericsson decided   to cancel the meeting following its bombshell warning that it expects to   lose as much as SEK5 billion in Q1 .',\n",
       " 'CANCELS HANDSET PLANT MEETING TO RETHINK   Ericsson cancelled a meeting with employees at its mobile plant in   [LOCATION] , [LOCATION] , as it looks at additional ways to turn around its ailing   handset unit .',\n",
       " \"All    I am canceling todays meeting as I just got in this afternoon and have n't   been able to catch up with the latest status .\",\n",
       " \"If we 're lucky , whoever has them may end up canceling their meeting .\"]"
      ]
     },
     "execution_count": 581,
     "metadata": {},
     "output_type": "execute_result"
    }
   ],
   "source": [
    "print(len(sents_to_discard))\n",
    "sents_to_discard"
   ]
  },
  {
   "cell_type": "code",
   "execution_count": 573,
   "metadata": {},
   "outputs": [
    {
     "data": {
      "text/html": [
       "<div>\n",
       "<style scoped>\n",
       "    .dataframe tbody tr th:only-of-type {\n",
       "        vertical-align: middle;\n",
       "    }\n",
       "\n",
       "    .dataframe tbody tr th {\n",
       "        vertical-align: top;\n",
       "    }\n",
       "\n",
       "    .dataframe thead th {\n",
       "        text-align: right;\n",
       "    }\n",
       "</style>\n",
       "<table border=\"1\" class=\"dataframe\">\n",
       "  <thead>\n",
       "    <tr style=\"text-align: right;\">\n",
       "      <th></th>\n",
       "      <th>text</th>\n",
       "      <th>label</th>\n",
       "    </tr>\n",
       "  </thead>\n",
       "  <tbody>\n",
       "    <tr>\n",
       "      <th>0</th>\n",
       "      <td>I could make a meeting before or after that th...</td>\n",
       "      <td>propose_meeting</td>\n",
       "    </tr>\n",
       "    <tr>\n",
       "      <th>1</th>\n",
       "      <td>4 ) How pleasant and instructive could your ex...</td>\n",
       "      <td>propose_meeting</td>\n",
       "    </tr>\n",
       "    <tr>\n",
       "      <th>2</th>\n",
       "      <td>Maybe you should put this in your request back...</td>\n",
       "      <td>propose_meeting</td>\n",
       "    </tr>\n",
       "    <tr>\n",
       "      <th>3</th>\n",
       "      <td>[PERSON] [PERSON] [PERSON] , and I could take ...</td>\n",
       "      <td>propose_meeting</td>\n",
       "    </tr>\n",
       "    <tr>\n",
       "      <th>4</th>\n",
       "      <td>[PERSON] ,    If you could approve these vacat...</td>\n",
       "      <td>propose_meeting</td>\n",
       "    </tr>\n",
       "    <tr>\n",
       "      <th>...</th>\n",
       "      <td>...</td>\n",
       "      <td>...</td>\n",
       "    </tr>\n",
       "    <tr>\n",
       "      <th>787</th>\n",
       "      <td>I will not be attending the meeting .</td>\n",
       "      <td>unable_to_attend_meeting</td>\n",
       "    </tr>\n",
       "    <tr>\n",
       "      <th>788</th>\n",
       "      <td>Om ,    I may not be able to attend this meeti...</td>\n",
       "      <td>unable_to_attend_meeting</td>\n",
       "    </tr>\n",
       "    <tr>\n",
       "      <th>789</th>\n",
       "      <td>Hi there ,    Unfortunately , I wo n't be able...</td>\n",
       "      <td>unable_to_attend_meeting</td>\n",
       "    </tr>\n",
       "    <tr>\n",
       "      <th>790</th>\n",
       "      <td>I 'll be traveling that week and would n't be ...</td>\n",
       "      <td>unable_to_attend_meeting</td>\n",
       "    </tr>\n",
       "    <tr>\n",
       "      <th>791</th>\n",
       "      <td>Unfortunately , I will not be able to attend t...</td>\n",
       "      <td>unable_to_attend_meeting</td>\n",
       "    </tr>\n",
       "  </tbody>\n",
       "</table>\n",
       "<p>792 rows × 2 columns</p>\n",
       "</div>"
      ],
      "text/plain": [
       "                                                  text  \\\n",
       "0    I could make a meeting before or after that th...   \n",
       "1    4 ) How pleasant and instructive could your ex...   \n",
       "2    Maybe you should put this in your request back...   \n",
       "3    [PERSON] [PERSON] [PERSON] , and I could take ...   \n",
       "4    [PERSON] ,    If you could approve these vacat...   \n",
       "..                                                 ...   \n",
       "787              I will not be attending the meeting .   \n",
       "788  Om ,    I may not be able to attend this meeti...   \n",
       "789  Hi there ,    Unfortunately , I wo n't be able...   \n",
       "790  I 'll be traveling that week and would n't be ...   \n",
       "791  Unfortunately , I will not be able to attend t...   \n",
       "\n",
       "                        label  \n",
       "0             propose_meeting  \n",
       "1             propose_meeting  \n",
       "2             propose_meeting  \n",
       "3             propose_meeting  \n",
       "4             propose_meeting  \n",
       "..                        ...  \n",
       "787  unable_to_attend_meeting  \n",
       "788  unable_to_attend_meeting  \n",
       "789  unable_to_attend_meeting  \n",
       "790  unable_to_attend_meeting  \n",
       "791  unable_to_attend_meeting  \n",
       "\n",
       "[792 rows x 2 columns]"
      ]
     },
     "execution_count": 573,
     "metadata": {},
     "output_type": "execute_result"
    }
   ],
   "source": [
    "fp = \"../../../data/labeled/meeting.tsv\"\n",
    "#df = pd.DataFrame({\"text\": sents_to_keep, \"label\": get_label_from_topic_nr(topic_id)})\n",
    "df = pd.DataFrame({\"text\": sents_to_keep, \"label\": 'unable_to_attend_meeting'})\n",
    "concat_to_df(df, filepath=fp, overwrite=False)"
   ]
  },
  {
   "cell_type": "code",
   "execution_count": null,
   "metadata": {},
   "outputs": [],
   "source": [
    "df.head()"
   ]
  },
  {
   "cell_type": "code",
   "execution_count": null,
   "metadata": {},
   "outputs": [],
   "source": []
  }
 ],
 "metadata": {
  "kernelspec": {
   "display_name": "Python 3",
   "language": "python",
   "name": "python3"
  },
  "language_info": {
   "codemirror_mode": {
    "name": "ipython",
    "version": 3
   },
   "file_extension": ".py",
   "mimetype": "text/x-python",
   "name": "python",
   "nbconvert_exporter": "python",
   "pygments_lexer": "ipython3",
   "version": "3.12.7"
  }
 },
 "nbformat": 4,
 "nbformat_minor": 2
}
