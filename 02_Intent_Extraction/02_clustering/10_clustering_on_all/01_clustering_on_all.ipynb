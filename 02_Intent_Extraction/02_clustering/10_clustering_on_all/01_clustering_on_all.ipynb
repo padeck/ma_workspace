{
 "cells": [
  {
   "cell_type": "markdown",
   "metadata": {},
   "source": [
    "# Hierarchical Clustering on Target Sentences\n",
    "to help deriving a taxonomy for intents, hierarchical clustering is being leveraged."
   ]
  },
  {
   "cell_type": "markdown",
   "metadata": {},
   "source": [
    "#### Functions"
   ]
  },
  {
   "cell_type": "code",
   "execution_count": 2,
   "metadata": {},
   "outputs": [],
   "source": [
    "def inspect_topic(topic_nr):\n",
    "    top_words = topic_model.get_topic(topic_nr)\n",
    "    print(\"Topic: \"+str(topic_nr)+\"\\n\\nTop Words:\")\n",
    "    for word in top_words:\n",
    "        print(word[0], end=\", \")\n",
    "    print('\\n\\nRepresentative Target Sentences: ')\n",
    "    for doc in topic_model.get_topic_info().iloc[topic_nr+1]['Representative_Docs']:\n",
    "        print(doc)\n",
    "\n",
    "def create_custom_label(custom_label, topic_id):\n",
    "    custom_labels = {\n",
    "        topic_id: str(topic_id)+\"_\"+custom_label,\n",
    "    }\n",
    "    topic_model.set_topic_labels(custom_labels)\n",
    "\n",
    "# Function to retrieve custom label from topic model\n",
    "def get_label_from_topic_nr(topic_nr):\n",
    "    for label in topic_model.custom_labels_:\n",
    "        if label.startswith(str(topic_nr)):\n",
    "            label = label\n",
    "            label = re.sub(r\"^\\d+_\", \"\", label)\n",
    "            return label\n",
    "    raise Exception('Provided Topic Number has no label assigned!')\n",
    "\n",
    "# Function to inspect a topic by its number and retrieve its documents\n",
    "def inspect_topic_and_its_docs(topic_nr,n_docs=50):\n",
    "    topic_docs = list(set([doc for doc, topic in zip(docs, topic_model.topics_) if topic == topic_nr]))\n",
    "    print(\"Label: \" + get_label_from_topic_nr(topic_nr)+\"\\n\")\n",
    "    print(\"Number of sentences for label: \"+str(len(topic_docs)))\n",
    "    print('\\nSentences:\\n')\n",
    "    if len(topic_docs) < n_docs:\n",
    "        n_docs = len(topic_docs)\n",
    "    for i in range(n_docs):\n",
    "        print(topic_docs[i])\n",
    "    return topic_docs\n",
    "\n",
    "# given a list of strings, returns a list of documents that contain at least one of the strings in the given list\n",
    "def filter_topic_documents(topic_docs, white_list, black_list=[] ):\n",
    "    sentences_to_keep = []\n",
    "    for doc in topic_docs:\n",
    "        if any(substring in doc for substring in white_list):\n",
    "            sentences_to_keep.append(doc)\n",
    "    sentences_to_keep = [\n",
    "    item for item in sentences_to_keep\n",
    "        if not any(substring in item for substring in black_list)\n",
    "    ]\n",
    "    sentences_to_keep = list(set(sentences_to_keep)) # remove duplicates\n",
    "    print('Amount of sentences: '+str(len(sentences_to_keep)))\n",
    "    return sentences_to_keep\n",
    "\n",
    "# Function to facilitate the concatenation of new DFs\n",
    "def concat_to_df(new_df,filepath, overwrite=False, ):\n",
    "    try:\n",
    "        df = pd.read_csv(filepath, sep='\\t')\n",
    "    except FileNotFoundError:\n",
    "        df = pd.DataFrame(columns=[\"text\", \"label\"])\n",
    "    if new_df.iloc[0]['label'] not in df['label'].values: # Make sure that DF does not already contain entry for label\n",
    "        new_df = new_df.reset_index(drop=True)\n",
    "        df = df.reset_index(drop=True)\n",
    "        df = pd.concat([df, new_df], ignore_index=True)\n",
    "        df = df.reset_index(drop=True)\n",
    "        df = df.loc[:, ~df.columns.str.contains('^Unnamed')]\n",
    "        df.to_csv(filepath, sep='\\t')\n",
    "        return df\n",
    "    else:\n",
    "        if overwrite:\n",
    "            df = df[~df['label'].str.contains(new_df.iloc[0]['label'])]\n",
    "            df = pd.concat([df, new_df], ignore_index=True)\n",
    "            df = df.loc[:, ~df.columns.str.contains('^Unnamed')]\n",
    "            df.to_csv(\"../../data/labeled/send.tsv\", sep='\\t', index=False)\n",
    "            return df\n",
    "        else:\n",
    "            print(\"Label '\"+new_df.iloc[0]['label']+\"' already in the final DF, so it's being skipped.\")\n"
   ]
  },
  {
   "cell_type": "markdown",
   "metadata": {},
   "source": [
    "####"
   ]
  },
  {
   "cell_type": "code",
   "execution_count": 3,
   "metadata": {},
   "outputs": [],
   "source": [
    "from bertopic import BERTopic\n",
    "from scipy.cluster import hierarchy as sch\n",
    "import pandas as pd\n",
    "import logging\n",
    "from sklearn.metrics.pairwise import cosine_distances\n",
    "from tqdm import tqdm\n",
    "import numpy as np\n",
    "from umap import UMAP\n",
    "from hdbscan import HDBSCAN\n",
    "from sentence_transformers import SentenceTransformer\n",
    "import re"
   ]
  },
  {
   "cell_type": "code",
   "execution_count": 4,
   "metadata": {},
   "outputs": [],
   "source": [
    "df = pd.read_parquet('../../../data/processed/targets/avocado_train_targets_exploded_cleaned_entities.parquet', engine='fastparquet')"
   ]
  },
  {
   "cell_type": "code",
   "execution_count": 5,
   "metadata": {},
   "outputs": [],
   "source": [
    "df['target'] = df['target'].str.replace(r'\\r\\n', ' ', regex=True)\n",
    "docs = list(set(df['target'].tolist()))"
   ]
  },
  {
   "cell_type": "code",
   "execution_count": 6,
   "metadata": {},
   "outputs": [
    {
     "data": {
      "text/plain": [
       "403329"
      ]
     },
     "execution_count": 6,
     "metadata": {},
     "output_type": "execute_result"
    }
   ],
   "source": [
    "# Amount of unique target sentences\n",
    "len(docs)"
   ]
  },
  {
   "cell_type": "markdown",
   "metadata": {},
   "source": [
    "## Training the Model"
   ]
  },
  {
   "cell_type": "code",
   "execution_count": 7,
   "metadata": {},
   "outputs": [],
   "source": [
    "# Configure logging\n",
    "logging.basicConfig(level=logging.INFO)\n",
    "logger = logging.getLogger(\"BERTopic\")\n",
    "logger.setLevel(logging.INFO)"
   ]
  },
  {
   "cell_type": "code",
   "execution_count": null,
   "metadata": {},
   "outputs": [
    {
     "name": "stderr",
     "output_type": "stream",
     "text": [
      "INFO:sentence_transformers.SentenceTransformer:Use pytorch device_name: mps\n",
      "INFO:sentence_transformers.SentenceTransformer:Load pretrained SentenceTransformer: all-MiniLM-L6-v2\n",
      "2024-11-05 14:30:04,963 - BERTopic - Embedding - Transforming documents to embeddings.\n"
     ]
    },
    {
     "data": {
      "application/vnd.jupyter.widget-view+json": {
       "model_id": "570241b51ce648c28c2fe20bb6421834",
       "version_major": 2,
       "version_minor": 0
      },
      "text/plain": [
       "Batches:   0%|          | 0/12605 [00:00<?, ?it/s]"
      ]
     },
     "metadata": {},
     "output_type": "display_data"
    }
   ],
   "source": [
    "# Initialize UMAP with a fixed random state\n",
    "random_state = 1 # Other seeds sometimes caused negative values in the distanace matrix\n",
    "\n",
    "# Set global random seeds\n",
    "np.random.seed(random_state)\n",
    "\n",
    "embedding_model = SentenceTransformer(\"all-MiniLM-L6-v2\")\n",
    "umap_model = UMAP(n_neighbors=15, n_components=5, random_state=random_state)\n",
    "hdbscan_model = HDBSCAN(min_cluster_size=10, prediction_data=True)\n",
    "\n",
    "topic_model = BERTopic(verbose=True, umap_model=umap_model, hdbscan_model=hdbscan_model, embedding_model=embedding_model)\n",
    "topics, probs = topic_model.fit_transform(docs)"
   ]
  },
  {
   "cell_type": "code",
   "execution_count": null,
   "metadata": {},
   "outputs": [
    {
     "name": "stderr",
     "output_type": "stream",
     "text": [
      "100%|██████████| 395/395 [00:00<00:00, 538.70it/s]\n"
     ]
    }
   ],
   "source": [
    "hierarchical_topics = topic_model.hierarchical_topics(docs)"
   ]
  },
  {
   "cell_type": "code",
   "execution_count": null,
   "metadata": {},
   "outputs": [
    {
     "name": "stderr",
     "output_type": "stream",
     "text": [
      "2024-11-05 14:23:47,281 - BERTopic - WARNING: When you use `pickle` to save/load a BERTopic model,please make sure that the environments in which you saveand load the model are **exactly** the same. The version of BERTopic,its dependencies, and python need to remain the same.\n"
     ]
    }
   ],
   "source": [
    "topic_model.save(\"../../../data/bertopic_models/intents/00_all_intents/all_unprocessed\")"
   ]
  },
  {
   "cell_type": "markdown",
   "metadata": {},
   "source": [
    "## Inspecting clustering results"
   ]
  },
  {
   "cell_type": "code",
   "execution_count": null,
   "metadata": {},
   "outputs": [],
   "source": [
    "#topic_model = BERTopic.load(\"../../../data/bertopic_models/intents/00_all_intents/all_unprocessed\")"
   ]
  },
  {
   "cell_type": "code",
   "execution_count": 12,
   "metadata": {},
   "outputs": [
    {
     "ename": "NameError",
     "evalue": "name 'hierarchical_topics' is not defined",
     "output_type": "error",
     "traceback": [
      "\u001b[0;31m---------------------------------------------------------------------------\u001b[0m",
      "\u001b[0;31mNameError\u001b[0m                                 Traceback (most recent call last)",
      "Cell \u001b[0;32mIn[12], line 1\u001b[0m\n\u001b[0;32m----> 1\u001b[0m topic_model\u001b[38;5;241m.\u001b[39mvisualize_hierarchy(hierarchical_topics\u001b[38;5;241m=\u001b[39m\u001b[43mhierarchical_topics\u001b[49m)\n",
      "\u001b[0;31mNameError\u001b[0m: name 'hierarchical_topics' is not defined"
     ]
    }
   ],
   "source": [
    "topic_model.visualize_hierarchy(hierarchical_topics=hierarchical_topics)"
   ]
  },
  {
   "cell_type": "markdown",
   "metadata": {},
   "source": [
    "## Merging Topics"
   ]
  },
  {
   "cell_type": "code",
   "execution_count": null,
   "metadata": {},
   "outputs": [],
   "source": []
  },
  {
   "cell_type": "code",
   "execution_count": 702,
   "metadata": {},
   "outputs": [
    {
     "name": "stdout",
     "output_type": "stream",
     "text": [
      "Topic: 19\n",
      "\n",
      "Top Words:\n",
      "servlet, archives, java, sun, listserv, interest, html, resources, user, manuals, \n",
      "\n",
      "Representative Target Sentences: \n",
      "_ _ _ _ _ _ _ _ _ _ _ _ _ _ _ _ _ _ _ _ _ _ _ _ _ _ _ _ _ _ _ _ _ _ _ _ _ _ _ _ _ _ _ _ _ _ _ _ _ _ _ _ _ _ _ _ _ _ _ _ _ _ _ _ _ _ _ _ _ _ _ _ _ _ _   To unsubscribe , send email to listserv@java.sun.com and include in the body   of the message \" signoff SERVLET - INTEREST \" .    Archives : http://archives.java.sun.com/archives/servlet-interest.html   Resources : http://java.sun.com/products/servlet/external-resources.html   LISTSERV Help : http://www.lsoft.com/manuals/user/user.html\n",
      "S.    _ _ _ _ _ _ _ _ _ _ _ _ _ _ _ _ _ _ _ _ _ _ _ _ _ _ _ _ _ _ _ _ _ _ _ _ _ _ _ _ _ _ _ _ _ _ _ _ _ _ _ _ _ _ _ _ _ _ _ _ _ _ _ _ _ _ _ _ _ _ _ _ _ _ _   To unsubscribe , send email to listserv@java.sun.com and include in the body   of the message \" signoff SERVLET - INTEREST \" .    Archives : http://archives.java.sun.com/archives/servlet-interest.html   Resources : http://java.sun.com/products/servlet/external-resources.html   LISTSERV Help : http://www.lsoft.com/manuals/user/user.html\n",
      "[PERSON]    _ _ _ _ _ _ _ _ _ _ _ _ _ _ _ _ _ _ _ _ _ _ _ _ _ _ _ _ _ _ _ _ _ _ _ _ _ _ _ _ _ _ _ _ _ _ _ _ _ _ _ _ _ _ _ _ _ _ _ _ _ _ _ _ _ _ _ _ _ _ _ _ _ _ _   To unsubscribe , send email to listserv@java.sun.com and include in the body   of the message \" signoff SERVLET - INTEREST \" .    Archives : http://archives.java.sun.com/archives/servlet-interest.html   Resources : http://java.sun.com/products/servlet/external-resources.html   LISTSERV Help : http://www.lsoft.com/manuals/user/user.html\n"
     ]
    }
   ],
   "source": [
    "topic_id = 19\n",
    "inspect_topic(topic_id)"
   ]
  },
  {
   "cell_type": "code",
   "execution_count": 703,
   "metadata": {},
   "outputs": [],
   "source": [
    "topic_model.merge_topics(docs, [-1,topic_id])"
   ]
  },
  {
   "cell_type": "code",
   "execution_count": 89,
   "metadata": {},
   "outputs": [],
   "source": [
    "create_custom_label(\"\", )"
   ]
  },
  {
   "cell_type": "code",
   "execution_count": 677,
   "metadata": {},
   "outputs": [
    {
     "name": "stdout",
     "output_type": "stream",
     "text": [
      "Number of Documents: 16\n",
      "\n",
      "We are going to send it today unless someone raises a flag that this is not a good idea .\n",
      "I think they are sending that to us .\n",
      "They do not always send these to us .\n",
      "you 're not sure what they believe , or what they will   > > > >       think of you for sending it to them .\n",
      "Are we sending this to them ?\n",
      "i thought we decided not to send this because it would raise more questions ?\n",
      "Let me know what you think of this -- it is much   stronger than what they sent us , so they might freak out .\n",
      "We can still send them to nursing home later on if it is not possible .\n",
      "Go ahead and send them through .\n",
      "We can still send   > them to nursing home later   > on if it is not possible .\n",
      "Alternatively , you can just send them the plug - in ahead of time .\n",
      "However , if you feel that we need to send them something like this , then go ahead .\n",
      "they need to send us the agmt .\n",
      "They send stuff to me once in a while , most of it is not interesting - this is very interesting .\n",
      "When in doubt , here , we should send it out ( to the VPs ) .\n",
      "we told them we 'd send this too .\n"
     ]
    },
    {
     "ename": "IndexError",
     "evalue": "list index out of range",
     "output_type": "error",
     "traceback": [
      "\u001b[0;31m---------------------------------------------------------------------------\u001b[0m",
      "\u001b[0;31mIndexError\u001b[0m                                Traceback (most recent call last)",
      "Cell \u001b[0;32mIn[677], line 4\u001b[0m\n\u001b[1;32m      2\u001b[0m \u001b[38;5;28mprint\u001b[39m(\u001b[38;5;124m'\u001b[39m\u001b[38;5;124mNumber of Documents: \u001b[39m\u001b[38;5;124m'\u001b[39m\u001b[38;5;241m+\u001b[39m\u001b[38;5;28mstr\u001b[39m(\u001b[38;5;28mlen\u001b[39m(documents))\u001b[38;5;241m+\u001b[39m\u001b[38;5;124m'\u001b[39m\u001b[38;5;130;01m\\n\u001b[39;00m\u001b[38;5;124m'\u001b[39m)\n\u001b[1;32m      3\u001b[0m \u001b[38;5;28;01mfor\u001b[39;00m i \u001b[38;5;129;01min\u001b[39;00m \u001b[38;5;28mrange\u001b[39m(\u001b[38;5;241m20\u001b[39m):\n\u001b[0;32m----> 4\u001b[0m     \u001b[38;5;28mprint\u001b[39m(\u001b[43mdocuments\u001b[49m\u001b[43m[\u001b[49m\u001b[43mi\u001b[49m\u001b[43m]\u001b[49m)\n",
      "\u001b[0;31mIndexError\u001b[0m: list index out of range"
     ]
    }
   ],
   "source": [
    "documents = [docs[i] for i, topic in enumerate(topic_model.topics_) if topic == topic_id]\n",
    "print('Number of Documents: '+str(len(documents))+'\\n')\n",
    "for i in range(20):\n",
    "    print(documents[i])"
   ]
  },
  {
   "cell_type": "code",
   "execution_count": 668,
   "metadata": {},
   "outputs": [
    {
     "data": {
      "text/plain": [
       "238"
      ]
     },
     "execution_count": 668,
     "metadata": {},
     "output_type": "execute_result"
    }
   ],
   "source": [
    "len(topic_model.get_topics())"
   ]
  },
  {
   "cell_type": "code",
   "execution_count": 704,
   "metadata": {},
   "outputs": [
    {
     "name": "stderr",
     "output_type": "stream",
     "text": [
      "2024-11-02 17:02:36,428 - BERTopic - WARNING: When you use `pickle` to save/load a BERTopic model,please make sure that the environments in which you saveand load the model are **exactly** the same. The version of BERTopic,its dependencies, and python need to remain the same.\n"
     ]
    }
   ],
   "source": [
    "topic_model.save(\"../../data/bertopic_models/intent/send_new/send_processed\")"
   ]
  },
  {
   "cell_type": "code",
   "execution_count": 705,
   "metadata": {},
   "outputs": [
    {
     "data": {
      "application/vnd.plotly.v1+json": {
       "config": {
        "plotlyServerURL": "https://plot.ly"
       },
       "data": [
        {
         "hoverinfo": "text",
         "marker": {
          "color": "rgb(61,153,112)"
         },
         "mode": "lines",
         "type": "scatter",
         "x": [
          0,
          0.16789165657656346,
          0.16789165657656346,
          0
         ],
         "xaxis": "x",
         "y": [
          -5,
          -5,
          -15,
          -15
         ],
         "yaxis": "y"
        },
        {
         "hoverinfo": "text",
         "marker": {
          "color": "rgb(255,65,54)"
         },
         "mode": "lines",
         "type": "scatter",
         "x": [
          0,
          0.48646556452993406,
          0.48646556452993406,
          0
         ],
         "xaxis": "x",
         "y": [
          -25,
          -25,
          -35,
          -35
         ],
         "yaxis": "y"
        },
        {
         "hoverinfo": "text",
         "marker": {
          "color": "rgb(255,65,54)"
         },
         "mode": "lines",
         "type": "scatter",
         "x": [
          0,
          0.3152661573425045,
          0.3152661573425045,
          0
         ],
         "xaxis": "x",
         "y": [
          -45,
          -45,
          -55,
          -55
         ],
         "yaxis": "y"
        },
        {
         "hoverinfo": "text",
         "marker": {
          "color": "rgb(255,65,54)"
         },
         "mode": "lines",
         "type": "scatter",
         "x": [
          0.48646556452993406,
          0.9400313388562889,
          0.9400313388562889,
          0.3152661573425045
         ],
         "xaxis": "x",
         "y": [
          -30,
          -30,
          -50,
          -50
         ],
         "yaxis": "y"
        },
        {
         "hoverinfo": "text",
         "marker": {
          "color": "rgb(0,116,217)"
         },
         "mode": "lines",
         "type": "scatter",
         "x": [
          0.16789165657656346,
          1.3210682893119485,
          1.3210682893119485,
          0.9400313388562889
         ],
         "xaxis": "x",
         "y": [
          -10,
          -10,
          -40,
          -40
         ],
         "yaxis": "y"
        },
        {
         "hoverinfo": "text",
         "marker": {
          "color": "rgb(35,205,205)"
         },
         "mode": "lines",
         "type": "scatter",
         "x": [
          0,
          0.38034701695560114,
          0.38034701695560114,
          0
         ],
         "xaxis": "x",
         "y": [
          -65,
          -65,
          -75,
          -75
         ],
         "yaxis": "y"
        },
        {
         "hoverinfo": "text",
         "marker": {
          "color": "rgb(133,20,75)"
         },
         "mode": "lines",
         "type": "scatter",
         "x": [
          0,
          0.47686710022218404,
          0.47686710022218404,
          0
         ],
         "xaxis": "x",
         "y": [
          -85,
          -85,
          -95,
          -95
         ],
         "yaxis": "y"
        },
        {
         "hoverinfo": "text",
         "marker": {
          "color": "rgb(133,20,75)"
         },
         "mode": "lines",
         "type": "scatter",
         "x": [
          0,
          0.6575947994427569,
          0.6575947994427569,
          0
         ],
         "xaxis": "x",
         "y": [
          -105,
          -105,
          -115,
          -115
         ],
         "yaxis": "y"
        },
        {
         "hoverinfo": "text",
         "marker": {
          "color": "rgb(133,20,75)"
         },
         "mode": "lines",
         "type": "scatter",
         "x": [
          0.47686710022218404,
          0.8393323563097199,
          0.8393323563097199,
          0.6575947994427569
         ],
         "xaxis": "x",
         "y": [
          -90,
          -90,
          -110,
          -110
         ],
         "yaxis": "y"
        },
        {
         "hoverinfo": "text",
         "marker": {
          "color": "rgb(0,116,217)"
         },
         "mode": "lines",
         "type": "scatter",
         "x": [
          0.38034701695560114,
          1.2376288817111016,
          1.2376288817111016,
          0.8393323563097199
         ],
         "xaxis": "x",
         "y": [
          -70,
          -70,
          -100,
          -100
         ],
         "yaxis": "y"
        },
        {
         "hoverinfo": "text",
         "marker": {
          "color": "rgb(255,220,0)"
         },
         "mode": "lines",
         "type": "scatter",
         "x": [
          0,
          0.8951667141708342,
          0.8951667141708342,
          0
         ],
         "xaxis": "x",
         "y": [
          -135,
          -135,
          -145,
          -145
         ],
         "yaxis": "y"
        },
        {
         "hoverinfo": "text",
         "marker": {
          "color": "rgb(255,220,0)"
         },
         "mode": "lines",
         "type": "scatter",
         "x": [
          0,
          0.9668025265340404,
          0.9668025265340404,
          0.8951667141708342
         ],
         "xaxis": "x",
         "y": [
          -125,
          -125,
          -140,
          -140
         ],
         "yaxis": "y"
        },
        {
         "hoverinfo": "text",
         "marker": {
          "color": "rgb(255,220,0)"
         },
         "mode": "lines",
         "type": "scatter",
         "x": [
          0,
          0.7071541085217083,
          0.7071541085217083,
          0
         ],
         "xaxis": "x",
         "y": [
          -155,
          -155,
          -165,
          -165
         ],
         "yaxis": "y"
        },
        {
         "hoverinfo": "text",
         "marker": {
          "color": "rgb(255,220,0)"
         },
         "mode": "lines",
         "type": "scatter",
         "x": [
          0,
          0.8429103821301855,
          0.8429103821301855,
          0
         ],
         "xaxis": "x",
         "y": [
          -175,
          -175,
          -185,
          -185
         ],
         "yaxis": "y"
        },
        {
         "hoverinfo": "text",
         "marker": {
          "color": "rgb(255,220,0)"
         },
         "mode": "lines",
         "type": "scatter",
         "x": [
          0.8429103821301855,
          0.8855722382217829,
          0.8855722382217829,
          0
         ],
         "xaxis": "x",
         "y": [
          -180,
          -180,
          -195,
          -195
         ],
         "yaxis": "y"
        },
        {
         "hoverinfo": "text",
         "marker": {
          "color": "rgb(255,220,0)"
         },
         "mode": "lines",
         "type": "scatter",
         "x": [
          0.7071541085217083,
          0.9227771409098912,
          0.9227771409098912,
          0.8855722382217829
         ],
         "xaxis": "x",
         "y": [
          -160,
          -160,
          -187.5,
          -187.5
         ],
         "yaxis": "y"
        },
        {
         "hoverinfo": "text",
         "marker": {
          "color": "rgb(255,220,0)"
         },
         "mode": "lines",
         "type": "scatter",
         "x": [
          0.9668025265340404,
          0.9875451926923975,
          0.9875451926923975,
          0.9227771409098912
         ],
         "xaxis": "x",
         "y": [
          -132.5,
          -132.5,
          -173.75,
          -173.75
         ],
         "yaxis": "y"
        },
        {
         "hoverinfo": "text",
         "marker": {
          "color": "rgb(40,35,35)"
         },
         "mode": "lines",
         "type": "scatter",
         "x": [
          0,
          0.6162743704736289,
          0.6162743704736289,
          0
         ],
         "xaxis": "x",
         "y": [
          -205,
          -205,
          -215,
          -215
         ],
         "yaxis": "y"
        },
        {
         "hoverinfo": "text",
         "marker": {
          "color": "rgb(40,35,35)"
         },
         "mode": "lines",
         "type": "scatter",
         "x": [
          0.6162743704736289,
          0.9100154016143246,
          0.9100154016143246,
          0
         ],
         "xaxis": "x",
         "y": [
          -210,
          -210,
          -225,
          -225
         ],
         "yaxis": "y"
        },
        {
         "hoverinfo": "text",
         "marker": {
          "color": "rgb(0,116,217)"
         },
         "mode": "lines",
         "type": "scatter",
         "x": [
          0.9875451926923975,
          1.0438920956544913,
          1.0438920956544913,
          0.9100154016143246
         ],
         "xaxis": "x",
         "y": [
          -153.125,
          -153.125,
          -217.5,
          -217.5
         ],
         "yaxis": "y"
        },
        {
         "hoverinfo": "text",
         "marker": {
          "color": "rgb(61,153,112)"
         },
         "mode": "lines",
         "type": "scatter",
         "x": [
          0,
          0.8448890411693863,
          0.8448890411693863,
          0
         ],
         "xaxis": "x",
         "y": [
          -245,
          -245,
          -255,
          -255
         ],
         "yaxis": "y"
        },
        {
         "hoverinfo": "text",
         "marker": {
          "color": "rgb(61,153,112)"
         },
         "mode": "lines",
         "type": "scatter",
         "x": [
          0,
          0.8957705063032722,
          0.8957705063032722,
          0.8448890411693863
         ],
         "xaxis": "x",
         "y": [
          -235,
          -235,
          -250,
          -250
         ],
         "yaxis": "y"
        },
        {
         "hoverinfo": "text",
         "marker": {
          "color": "rgb(61,153,112)"
         },
         "mode": "lines",
         "type": "scatter",
         "x": [
          0,
          0.7376810169677633,
          0.7376810169677633,
          0
         ],
         "xaxis": "x",
         "y": [
          -265,
          -265,
          -275,
          -275
         ],
         "yaxis": "y"
        },
        {
         "hoverinfo": "text",
         "marker": {
          "color": "rgb(61,153,112)"
         },
         "mode": "lines",
         "type": "scatter",
         "x": [
          0.8957705063032722,
          0.9691887864439188,
          0.9691887864439188,
          0.7376810169677633
         ],
         "xaxis": "x",
         "y": [
          -242.5,
          -242.5,
          -270,
          -270
         ],
         "yaxis": "y"
        },
        {
         "hoverinfo": "text",
         "marker": {
          "color": "rgb(255,65,54)"
         },
         "mode": "lines",
         "type": "scatter",
         "x": [
          0,
          0.5271457150355263,
          0.5271457150355263,
          0
         ],
         "xaxis": "x",
         "y": [
          -285,
          -285,
          -295,
          -295
         ],
         "yaxis": "y"
        },
        {
         "hoverinfo": "text",
         "marker": {
          "color": "rgb(255,65,54)"
         },
         "mode": "lines",
         "type": "scatter",
         "x": [
          0.5271457150355263,
          0.8094703939937892,
          0.8094703939937892,
          0
         ],
         "xaxis": "x",
         "y": [
          -290,
          -290,
          -305,
          -305
         ],
         "yaxis": "y"
        },
        {
         "hoverinfo": "text",
         "marker": {
          "color": "rgb(0,116,217)"
         },
         "mode": "lines",
         "type": "scatter",
         "x": [
          0.9691887864439188,
          1.0890770672403378,
          1.0890770672403378,
          0.8094703939937892
         ],
         "xaxis": "x",
         "y": [
          -256.25,
          -256.25,
          -297.5,
          -297.5
         ],
         "yaxis": "y"
        },
        {
         "hoverinfo": "text",
         "marker": {
          "color": "rgb(0,116,217)"
         },
         "mode": "lines",
         "type": "scatter",
         "x": [
          1.0438920956544913,
          1.1445530113091205,
          1.1445530113091205,
          1.0890770672403378
         ],
         "xaxis": "x",
         "y": [
          -185.3125,
          -185.3125,
          -276.875,
          -276.875
         ],
         "yaxis": "y"
        },
        {
         "hoverinfo": "text",
         "marker": {
          "color": "rgb(35,205,205)"
         },
         "mode": "lines",
         "type": "scatter",
         "x": [
          0,
          0.43755753619405857,
          0.43755753619405857,
          0
         ],
         "xaxis": "x",
         "y": [
          -315,
          -315,
          -325,
          -325
         ],
         "yaxis": "y"
        },
        {
         "hoverinfo": "text",
         "marker": {
          "color": "rgb(35,205,205)"
         },
         "mode": "lines",
         "type": "scatter",
         "x": [
          0.43755753619405857,
          0.7628962590827152,
          0.7628962590827152,
          0
         ],
         "xaxis": "x",
         "y": [
          -320,
          -320,
          -335,
          -335
         ],
         "yaxis": "y"
        },
        {
         "hoverinfo": "text",
         "marker": {
          "color": "rgb(0,116,217)"
         },
         "mode": "lines",
         "type": "scatter",
         "x": [
          1.1445530113091205,
          1.1566292828337739,
          1.1566292828337739,
          0.7628962590827152
         ],
         "xaxis": "x",
         "y": [
          -231.09375,
          -231.09375,
          -327.5,
          -327.5
         ],
         "yaxis": "y"
        },
        {
         "hoverinfo": "text",
         "marker": {
          "color": "rgb(61,153,112)"
         },
         "mode": "lines",
         "type": "scatter",
         "x": [
          0,
          0.4585260712643331,
          0.4585260712643331,
          0
         ],
         "xaxis": "x",
         "y": [
          -355,
          -355,
          -365,
          -365
         ],
         "yaxis": "y"
        },
        {
         "hoverinfo": "text",
         "marker": {
          "color": "rgb(61,153,112)"
         },
         "mode": "lines",
         "type": "scatter",
         "x": [
          0,
          0.6130551505358417,
          0.6130551505358417,
          0
         ],
         "xaxis": "x",
         "y": [
          -375,
          -375,
          -385,
          -385
         ],
         "yaxis": "y"
        },
        {
         "hoverinfo": "text",
         "marker": {
          "color": "rgb(61,153,112)"
         },
         "mode": "lines",
         "type": "scatter",
         "x": [
          0.4585260712643331,
          0.7292319025987057,
          0.7292319025987057,
          0.6130551505358417
         ],
         "xaxis": "x",
         "y": [
          -360,
          -360,
          -380,
          -380
         ],
         "yaxis": "y"
        },
        {
         "hoverinfo": "text",
         "marker": {
          "color": "rgb(61,153,112)"
         },
         "mode": "lines",
         "type": "scatter",
         "x": [
          0,
          0.8696405237811019,
          0.8696405237811019,
          0.7292319025987057
         ],
         "xaxis": "x",
         "y": [
          -345,
          -345,
          -370,
          -370
         ],
         "yaxis": "y"
        },
        {
         "hoverinfo": "text",
         "marker": {
          "color": "rgb(61,153,112)"
         },
         "mode": "lines",
         "type": "scatter",
         "x": [
          0,
          0.7417158192456283,
          0.7417158192456283,
          0
         ],
         "xaxis": "x",
         "y": [
          -405,
          -405,
          -415,
          -415
         ],
         "yaxis": "y"
        },
        {
         "hoverinfo": "text",
         "marker": {
          "color": "rgb(61,153,112)"
         },
         "mode": "lines",
         "type": "scatter",
         "x": [
          0,
          0.7817757108852684,
          0.7817757108852684,
          0.7417158192456283
         ],
         "xaxis": "x",
         "y": [
          -395,
          -395,
          -410,
          -410
         ],
         "yaxis": "y"
        },
        {
         "hoverinfo": "text",
         "marker": {
          "color": "rgb(61,153,112)"
         },
         "mode": "lines",
         "type": "scatter",
         "x": [
          0.7817757108852684,
          0.86875080560903,
          0.86875080560903,
          0
         ],
         "xaxis": "x",
         "y": [
          -402.5,
          -402.5,
          -425,
          -425
         ],
         "yaxis": "y"
        },
        {
         "hoverinfo": "text",
         "marker": {
          "color": "rgb(61,153,112)"
         },
         "mode": "lines",
         "type": "scatter",
         "x": [
          0.8696405237811019,
          0.9804458512859838,
          0.9804458512859838,
          0.86875080560903
         ],
         "xaxis": "x",
         "y": [
          -357.5,
          -357.5,
          -413.75,
          -413.75
         ],
         "yaxis": "y"
        },
        {
         "hoverinfo": "text",
         "marker": {
          "color": "rgb(0,116,217)"
         },
         "mode": "lines",
         "type": "scatter",
         "x": [
          1.1566292828337739,
          1.2134271521660058,
          1.2134271521660058,
          0.9804458512859838
         ],
         "xaxis": "x",
         "y": [
          -279.296875,
          -279.296875,
          -385.625,
          -385.625
         ],
         "yaxis": "y"
        },
        {
         "hoverinfo": "text",
         "marker": {
          "color": "rgb(0,116,217)"
         },
         "mode": "lines",
         "type": "scatter",
         "x": [
          1.2376288817111016,
          1.3157864733978706,
          1.3157864733978706,
          1.2134271521660058
         ],
         "xaxis": "x",
         "y": [
          -85,
          -85,
          -332.4609375,
          -332.4609375
         ],
         "yaxis": "y"
        },
        {
         "hoverinfo": "text",
         "marker": {
          "color": "rgb(0,116,217)"
         },
         "mode": "lines",
         "type": "scatter",
         "x": [
          1.3210682893119485,
          1.3884549109053579,
          1.3884549109053579,
          1.3157864733978706
         ],
         "xaxis": "x",
         "y": [
          -25,
          -25,
          -208.73046875,
          -208.73046875
         ],
         "yaxis": "y"
        },
        {
         "hoverinfo": "text",
         "marker": {
          "color": "rgb(255,65,54)"
         },
         "mode": "lines",
         "type": "scatter",
         "x": [
          0,
          0.3335469110938002,
          0.3335469110938002,
          0
         ],
         "xaxis": "x",
         "y": [
          -445,
          -445,
          -455,
          -455
         ],
         "yaxis": "y"
        },
        {
         "hoverinfo": "text",
         "marker": {
          "color": "rgb(255,65,54)"
         },
         "mode": "lines",
         "type": "scatter",
         "x": [
          0,
          0.5547832240364696,
          0.5547832240364696,
          0.3335469110938002
         ],
         "xaxis": "x",
         "y": [
          -435,
          -435,
          -450,
          -450
         ],
         "yaxis": "y"
        },
        {
         "hoverinfo": "text",
         "marker": {
          "color": "rgb(0,116,217)"
         },
         "mode": "lines",
         "type": "scatter",
         "x": [
          1.3884549109053579,
          1.5093827941278666,
          1.5093827941278666,
          0.5547832240364696
         ],
         "xaxis": "x",
         "y": [
          -116.865234375,
          -116.865234375,
          -442.5,
          -442.5
         ],
         "yaxis": "y"
        },
        {
         "hoverinfo": "text",
         "marker": {
          "color": "rgb(35,205,205)"
         },
         "mode": "lines",
         "type": "scatter",
         "x": [
          0,
          0.7016944230297922,
          0.7016944230297922,
          0
         ],
         "xaxis": "x",
         "y": [
          -465,
          -465,
          -475,
          -475
         ],
         "yaxis": "y"
        },
        {
         "hoverinfo": "text",
         "marker": {
          "color": "rgb(133,20,75)"
         },
         "mode": "lines",
         "type": "scatter",
         "x": [
          0,
          0.6082337287783621,
          0.6082337287783621,
          0
         ],
         "xaxis": "x",
         "y": [
          -485,
          -485,
          -495,
          -495
         ],
         "yaxis": "y"
        },
        {
         "hoverinfo": "text",
         "marker": {
          "color": "rgb(133,20,75)"
         },
         "mode": "lines",
         "type": "scatter",
         "x": [
          0,
          0.8505573256189298,
          0.8505573256189298,
          0
         ],
         "xaxis": "x",
         "y": [
          -505,
          -505,
          -515,
          -515
         ],
         "yaxis": "y"
        },
        {
         "hoverinfo": "text",
         "marker": {
          "color": "rgb(133,20,75)"
         },
         "mode": "lines",
         "type": "scatter",
         "x": [
          0.6082337287783621,
          0.9871973158466232,
          0.9871973158466232,
          0.8505573256189298
         ],
         "xaxis": "x",
         "y": [
          -490,
          -490,
          -510,
          -510
         ],
         "yaxis": "y"
        },
        {
         "hoverinfo": "text",
         "marker": {
          "color": "rgb(255,220,0)"
         },
         "mode": "lines",
         "type": "scatter",
         "x": [
          0,
          0.5457006797885586,
          0.5457006797885586,
          0
         ],
         "xaxis": "x",
         "y": [
          -525,
          -525,
          -535,
          -535
         ],
         "yaxis": "y"
        },
        {
         "hoverinfo": "text",
         "marker": {
          "color": "rgb(0,116,217)"
         },
         "mode": "lines",
         "type": "scatter",
         "x": [
          0.9871973158466232,
          1.1687187976377549,
          1.1687187976377549,
          0.5457006797885586
         ],
         "xaxis": "x",
         "y": [
          -500,
          -500,
          -530,
          -530
         ],
         "yaxis": "y"
        },
        {
         "hoverinfo": "text",
         "marker": {
          "color": "rgb(0,116,217)"
         },
         "mode": "lines",
         "type": "scatter",
         "x": [
          0.7016944230297922,
          1.1941667187288132,
          1.1941667187288132,
          1.1687187976377549
         ],
         "xaxis": "x",
         "y": [
          -470,
          -470,
          -515,
          -515
         ],
         "yaxis": "y"
        },
        {
         "hoverinfo": "text",
         "marker": {
          "color": "rgb(40,35,35)"
         },
         "mode": "lines",
         "type": "scatter",
         "x": [
          0,
          0.7931108206486281,
          0.7931108206486281,
          0
         ],
         "xaxis": "x",
         "y": [
          -555,
          -555,
          -565,
          -565
         ],
         "yaxis": "y"
        },
        {
         "hoverinfo": "text",
         "marker": {
          "color": "rgb(40,35,35)"
         },
         "mode": "lines",
         "type": "scatter",
         "x": [
          0.7931108206486281,
          0.9370731425538372,
          0.9370731425538372,
          0
         ],
         "xaxis": "x",
         "y": [
          -560,
          -560,
          -575,
          -575
         ],
         "yaxis": "y"
        },
        {
         "hoverinfo": "text",
         "marker": {
          "color": "rgb(40,35,35)"
         },
         "mode": "lines",
         "type": "scatter",
         "x": [
          0,
          0.9640240485220396,
          0.9640240485220396,
          0.9370731425538372
         ],
         "xaxis": "x",
         "y": [
          -545,
          -545,
          -567.5,
          -567.5
         ],
         "yaxis": "y"
        },
        {
         "hoverinfo": "text",
         "marker": {
          "color": "rgb(61,153,112)"
         },
         "mode": "lines",
         "type": "scatter",
         "x": [
          0,
          0.9675021237781835,
          0.9675021237781835,
          0
         ],
         "xaxis": "x",
         "y": [
          -585,
          -585,
          -595,
          -595
         ],
         "yaxis": "y"
        },
        {
         "hoverinfo": "text",
         "marker": {
          "color": "rgb(255,65,54)"
         },
         "mode": "lines",
         "type": "scatter",
         "x": [
          0,
          0.9184497000520717,
          0.9184497000520717,
          0
         ],
         "xaxis": "x",
         "y": [
          -615,
          -615,
          -625,
          -625
         ],
         "yaxis": "y"
        },
        {
         "hoverinfo": "text",
         "marker": {
          "color": "rgb(255,65,54)"
         },
         "mode": "lines",
         "type": "scatter",
         "x": [
          0,
          0.9894663410059125,
          0.9894663410059125,
          0.9184497000520717
         ],
         "xaxis": "x",
         "y": [
          -605,
          -605,
          -620,
          -620
         ],
         "yaxis": "y"
        },
        {
         "hoverinfo": "text",
         "marker": {
          "color": "rgb(0,116,217)"
         },
         "mode": "lines",
         "type": "scatter",
         "x": [
          0.9675021237781835,
          1.0236356445275774,
          1.0236356445275774,
          0.9894663410059125
         ],
         "xaxis": "x",
         "y": [
          -590,
          -590,
          -612.5,
          -612.5
         ],
         "yaxis": "y"
        },
        {
         "hoverinfo": "text",
         "marker": {
          "color": "rgb(35,205,205)"
         },
         "mode": "lines",
         "type": "scatter",
         "x": [
          0,
          0.9107885641494747,
          0.9107885641494747,
          0
         ],
         "xaxis": "x",
         "y": [
          -645,
          -645,
          -655,
          -655
         ],
         "yaxis": "y"
        },
        {
         "hoverinfo": "text",
         "marker": {
          "color": "rgb(35,205,205)"
         },
         "mode": "lines",
         "type": "scatter",
         "x": [
          0,
          0.9709614640527572,
          0.9709614640527572,
          0.9107885641494747
         ],
         "xaxis": "x",
         "y": [
          -635,
          -635,
          -650,
          -650
         ],
         "yaxis": "y"
        },
        {
         "hoverinfo": "text",
         "marker": {
          "color": "rgb(0,116,217)"
         },
         "mode": "lines",
         "type": "scatter",
         "x": [
          1.0236356445275774,
          1.0739890309466087,
          1.0739890309466087,
          0.9709614640527572
         ],
         "xaxis": "x",
         "y": [
          -601.25,
          -601.25,
          -642.5,
          -642.5
         ],
         "yaxis": "y"
        },
        {
         "hoverinfo": "text",
         "marker": {
          "color": "rgb(61,153,112)"
         },
         "mode": "lines",
         "type": "scatter",
         "x": [
          0,
          0.8550927605894529,
          0.8550927605894529,
          0
         ],
         "xaxis": "x",
         "y": [
          -665,
          -665,
          -675,
          -675
         ],
         "yaxis": "y"
        },
        {
         "hoverinfo": "text",
         "marker": {
          "color": "rgb(61,153,112)"
         },
         "mode": "lines",
         "type": "scatter",
         "x": [
          0.8550927605894529,
          0.9768844818281077,
          0.9768844818281077,
          0
         ],
         "xaxis": "x",
         "y": [
          -670,
          -670,
          -685,
          -685
         ],
         "yaxis": "y"
        },
        {
         "hoverinfo": "text",
         "marker": {
          "color": "rgb(0,116,217)"
         },
         "mode": "lines",
         "type": "scatter",
         "x": [
          1.0739890309466087,
          1.0808570829146296,
          1.0808570829146296,
          0.9768844818281077
         ],
         "xaxis": "x",
         "y": [
          -621.875,
          -621.875,
          -677.5,
          -677.5
         ],
         "yaxis": "y"
        },
        {
         "hoverinfo": "text",
         "marker": {
          "color": "rgb(0,116,217)"
         },
         "mode": "lines",
         "type": "scatter",
         "x": [
          0.9640240485220396,
          1.1336585059616189,
          1.1336585059616189,
          1.0808570829146296
         ],
         "xaxis": "x",
         "y": [
          -556.25,
          -556.25,
          -649.6875,
          -649.6875
         ],
         "yaxis": "y"
        },
        {
         "hoverinfo": "text",
         "marker": {
          "color": "rgb(255,65,54)"
         },
         "mode": "lines",
         "type": "scatter",
         "x": [
          0,
          0.8623569460990631,
          0.8623569460990631,
          0
         ],
         "xaxis": "x",
         "y": [
          -695,
          -695,
          -705,
          -705
         ],
         "yaxis": "y"
        },
        {
         "hoverinfo": "text",
         "marker": {
          "color": "rgb(35,205,205)"
         },
         "mode": "lines",
         "type": "scatter",
         "x": [
          0,
          0.896414964722081,
          0.896414964722081,
          0
         ],
         "xaxis": "x",
         "y": [
          -715,
          -715,
          -725,
          -725
         ],
         "yaxis": "y"
        },
        {
         "hoverinfo": "text",
         "marker": {
          "color": "rgb(35,205,205)"
         },
         "mode": "lines",
         "type": "scatter",
         "x": [
          0,
          0.9106754552280691,
          0.9106754552280691,
          0
         ],
         "xaxis": "x",
         "y": [
          -735,
          -735,
          -745,
          -745
         ],
         "yaxis": "y"
        },
        {
         "hoverinfo": "text",
         "marker": {
          "color": "rgb(35,205,205)"
         },
         "mode": "lines",
         "type": "scatter",
         "x": [
          0.896414964722081,
          0.9767292524117777,
          0.9767292524117777,
          0.9106754552280691
         ],
         "xaxis": "x",
         "y": [
          -720,
          -720,
          -740,
          -740
         ],
         "yaxis": "y"
        },
        {
         "hoverinfo": "text",
         "marker": {
          "color": "rgb(133,20,75)"
         },
         "mode": "lines",
         "type": "scatter",
         "x": [
          0,
          0.8964006021213606,
          0.8964006021213606,
          0
         ],
         "xaxis": "x",
         "y": [
          -775,
          -775,
          -785,
          -785
         ],
         "yaxis": "y"
        },
        {
         "hoverinfo": "text",
         "marker": {
          "color": "rgb(133,20,75)"
         },
         "mode": "lines",
         "type": "scatter",
         "x": [
          0,
          0.9167164033597008,
          0.9167164033597008,
          0.8964006021213606
         ],
         "xaxis": "x",
         "y": [
          -765,
          -765,
          -780,
          -780
         ],
         "yaxis": "y"
        },
        {
         "hoverinfo": "text",
         "marker": {
          "color": "rgb(133,20,75)"
         },
         "mode": "lines",
         "type": "scatter",
         "x": [
          0,
          0.9585045301054069,
          0.9585045301054069,
          0.9167164033597008
         ],
         "xaxis": "x",
         "y": [
          -755,
          -755,
          -772.5,
          -772.5
         ],
         "yaxis": "y"
        },
        {
         "hoverinfo": "text",
         "marker": {
          "color": "rgb(133,20,75)"
         },
         "mode": "lines",
         "type": "scatter",
         "x": [
          0,
          0.9281014137651487,
          0.9281014137651487,
          0
         ],
         "xaxis": "x",
         "y": [
          -795,
          -795,
          -805,
          -805
         ],
         "yaxis": "y"
        },
        {
         "hoverinfo": "text",
         "marker": {
          "color": "rgb(133,20,75)"
         },
         "mode": "lines",
         "type": "scatter",
         "x": [
          0.9281014137651487,
          0.9485738277872081,
          0.9485738277872081,
          0
         ],
         "xaxis": "x",
         "y": [
          -800,
          -800,
          -815,
          -815
         ],
         "yaxis": "y"
        },
        {
         "hoverinfo": "text",
         "marker": {
          "color": "rgb(133,20,75)"
         },
         "mode": "lines",
         "type": "scatter",
         "x": [
          0.9585045301054069,
          0.9750637634606143,
          0.9750637634606143,
          0.9485738277872081
         ],
         "xaxis": "x",
         "y": [
          -763.75,
          -763.75,
          -807.5,
          -807.5
         ],
         "yaxis": "y"
        },
        {
         "hoverinfo": "text",
         "marker": {
          "color": "rgb(0,116,217)"
         },
         "mode": "lines",
         "type": "scatter",
         "x": [
          0.9767292524117777,
          1.0174071621162646,
          1.0174071621162646,
          0.9750637634606143
         ],
         "xaxis": "x",
         "y": [
          -730,
          -730,
          -785.625,
          -785.625
         ],
         "yaxis": "y"
        },
        {
         "hoverinfo": "text",
         "marker": {
          "color": "rgb(255,220,0)"
         },
         "mode": "lines",
         "type": "scatter",
         "x": [
          0,
          0.8874568305952368,
          0.8874568305952368,
          0
         ],
         "xaxis": "x",
         "y": [
          -825,
          -825,
          -835,
          -835
         ],
         "yaxis": "y"
        },
        {
         "hoverinfo": "text",
         "marker": {
          "color": "rgb(255,220,0)"
         },
         "mode": "lines",
         "type": "scatter",
         "x": [
          0,
          0.8767889364095658,
          0.8767889364095658,
          0
         ],
         "xaxis": "x",
         "y": [
          -845,
          -845,
          -855,
          -855
         ],
         "yaxis": "y"
        },
        {
         "hoverinfo": "text",
         "marker": {
          "color": "rgb(255,220,0)"
         },
         "mode": "lines",
         "type": "scatter",
         "x": [
          0.8874568305952368,
          0.9901051496304268,
          0.9901051496304268,
          0.8767889364095658
         ],
         "xaxis": "x",
         "y": [
          -830,
          -830,
          -850,
          -850
         ],
         "yaxis": "y"
        },
        {
         "hoverinfo": "text",
         "marker": {
          "color": "rgb(0,116,217)"
         },
         "mode": "lines",
         "type": "scatter",
         "x": [
          1.0174071621162646,
          1.0522232869664219,
          1.0522232869664219,
          0.9901051496304268
         ],
         "xaxis": "x",
         "y": [
          -757.8125,
          -757.8125,
          -840,
          -840
         ],
         "yaxis": "y"
        },
        {
         "hoverinfo": "text",
         "marker": {
          "color": "rgb(0,116,217)"
         },
         "mode": "lines",
         "type": "scatter",
         "x": [
          0.8623569460990631,
          1.0618779997573804,
          1.0618779997573804,
          1.0522232869664219
         ],
         "xaxis": "x",
         "y": [
          -700,
          -700,
          -798.90625,
          -798.90625
         ],
         "yaxis": "y"
        },
        {
         "hoverinfo": "text",
         "marker": {
          "color": "rgb(40,35,35)"
         },
         "mode": "lines",
         "type": "scatter",
         "x": [
          0,
          0.8393449080849543,
          0.8393449080849543,
          0
         ],
         "xaxis": "x",
         "y": [
          -865,
          -865,
          -875,
          -875
         ],
         "yaxis": "y"
        },
        {
         "hoverinfo": "text",
         "marker": {
          "color": "rgb(61,153,112)"
         },
         "mode": "lines",
         "type": "scatter",
         "x": [
          0,
          0.9885563198003945,
          0.9885563198003945,
          0
         ],
         "xaxis": "x",
         "y": [
          -885,
          -885,
          -895,
          -895
         ],
         "yaxis": "y"
        },
        {
         "hoverinfo": "text",
         "marker": {
          "color": "rgb(255,65,54)"
         },
         "mode": "lines",
         "type": "scatter",
         "x": [
          0,
          0.9138812222358905,
          0.9138812222358905,
          0
         ],
         "xaxis": "x",
         "y": [
          -905,
          -905,
          -915,
          -915
         ],
         "yaxis": "y"
        },
        {
         "hoverinfo": "text",
         "marker": {
          "color": "rgb(0,116,217)"
         },
         "mode": "lines",
         "type": "scatter",
         "x": [
          0.9885563198003945,
          1.0017893248797574,
          1.0017893248797574,
          0.9138812222358905
         ],
         "xaxis": "x",
         "y": [
          -890,
          -890,
          -910,
          -910
         ],
         "yaxis": "y"
        },
        {
         "hoverinfo": "text",
         "marker": {
          "color": "rgb(35,205,205)"
         },
         "mode": "lines",
         "type": "scatter",
         "x": [
          0,
          0.9120612861018561,
          0.9120612861018561,
          0
         ],
         "xaxis": "x",
         "y": [
          -925,
          -925,
          -935,
          -935
         ],
         "yaxis": "y"
        },
        {
         "hoverinfo": "text",
         "marker": {
          "color": "rgb(35,205,205)"
         },
         "mode": "lines",
         "type": "scatter",
         "x": [
          0.9120612861018561,
          0.9756729923018431,
          0.9756729923018431,
          0
         ],
         "xaxis": "x",
         "y": [
          -930,
          -930,
          -945,
          -945
         ],
         "yaxis": "y"
        },
        {
         "hoverinfo": "text",
         "marker": {
          "color": "rgb(0,116,217)"
         },
         "mode": "lines",
         "type": "scatter",
         "x": [
          1.0017893248797574,
          1.013927042301223,
          1.013927042301223,
          0.9756729923018431
         ],
         "xaxis": "x",
         "y": [
          -900,
          -900,
          -937.5,
          -937.5
         ],
         "yaxis": "y"
        },
        {
         "hoverinfo": "text",
         "marker": {
          "color": "rgb(61,153,112)"
         },
         "mode": "lines",
         "type": "scatter",
         "x": [
          0,
          0.8778218696902411,
          0.8778218696902411,
          0
         ],
         "xaxis": "x",
         "y": [
          -955,
          -955,
          -965,
          -965
         ],
         "yaxis": "y"
        },
        {
         "hoverinfo": "text",
         "marker": {
          "color": "rgb(255,65,54)"
         },
         "mode": "lines",
         "type": "scatter",
         "x": [
          0,
          0.9048080286025122,
          0.9048080286025122,
          0
         ],
         "xaxis": "x",
         "y": [
          -975,
          -975,
          -985,
          -985
         ],
         "yaxis": "y"
        },
        {
         "hoverinfo": "text",
         "marker": {
          "color": "rgb(0,116,217)"
         },
         "mode": "lines",
         "type": "scatter",
         "x": [
          0.8778218696902411,
          1.0068325414135324,
          1.0068325414135324,
          0.9048080286025122
         ],
         "xaxis": "x",
         "y": [
          -960,
          -960,
          -980,
          -980
         ],
         "yaxis": "y"
        },
        {
         "hoverinfo": "text",
         "marker": {
          "color": "rgb(0,116,217)"
         },
         "mode": "lines",
         "type": "scatter",
         "x": [
          1.013927042301223,
          1.0376056290019438,
          1.0376056290019438,
          1.0068325414135324
         ],
         "xaxis": "x",
         "y": [
          -918.75,
          -918.75,
          -970,
          -970
         ],
         "yaxis": "y"
        },
        {
         "hoverinfo": "text",
         "marker": {
          "color": "rgb(35,205,205)"
         },
         "mode": "lines",
         "type": "scatter",
         "x": [
          0,
          0.8851046500178115,
          0.8851046500178115,
          0
         ],
         "xaxis": "x",
         "y": [
          -995,
          -995,
          -1005,
          -1005
         ],
         "yaxis": "y"
        },
        {
         "hoverinfo": "text",
         "marker": {
          "color": "rgb(0,116,217)"
         },
         "mode": "lines",
         "type": "scatter",
         "x": [
          1.0376056290019438,
          1.0503267498798932,
          1.0503267498798932,
          0.8851046500178115
         ],
         "xaxis": "x",
         "y": [
          -944.375,
          -944.375,
          -1000,
          -1000
         ],
         "yaxis": "y"
        },
        {
         "hoverinfo": "text",
         "marker": {
          "color": "rgb(0,116,217)"
         },
         "mode": "lines",
         "type": "scatter",
         "x": [
          0.8393449080849543,
          1.0688228930887496,
          1.0688228930887496,
          1.0503267498798932
         ],
         "xaxis": "x",
         "y": [
          -870,
          -870,
          -972.1875,
          -972.1875
         ],
         "yaxis": "y"
        },
        {
         "hoverinfo": "text",
         "marker": {
          "color": "rgb(0,116,217)"
         },
         "mode": "lines",
         "type": "scatter",
         "x": [
          1.0618779997573804,
          1.0908601886027907,
          1.0908601886027907,
          1.0688228930887496
         ],
         "xaxis": "x",
         "y": [
          -749.453125,
          -749.453125,
          -921.09375,
          -921.09375
         ],
         "yaxis": "y"
        },
        {
         "hoverinfo": "text",
         "marker": {
          "color": "rgb(0,116,217)"
         },
         "mode": "lines",
         "type": "scatter",
         "x": [
          1.1336585059616189,
          1.1461040184478877,
          1.1461040184478877,
          1.0908601886027907
         ],
         "xaxis": "x",
         "y": [
          -602.96875,
          -602.96875,
          -835.2734375,
          -835.2734375
         ],
         "yaxis": "y"
        },
        {
         "hoverinfo": "text",
         "marker": {
          "color": "rgb(133,20,75)"
         },
         "mode": "lines",
         "type": "scatter",
         "x": [
          0,
          0.8044144243432666,
          0.8044144243432666,
          0
         ],
         "xaxis": "x",
         "y": [
          -1015,
          -1015,
          -1025,
          -1025
         ],
         "yaxis": "y"
        },
        {
         "hoverinfo": "text",
         "marker": {
          "color": "rgb(133,20,75)"
         },
         "mode": "lines",
         "type": "scatter",
         "x": [
          0.8044144243432666,
          0.9176215727744301,
          0.9176215727744301,
          0
         ],
         "xaxis": "x",
         "y": [
          -1020,
          -1020,
          -1035,
          -1035
         ],
         "yaxis": "y"
        },
        {
         "hoverinfo": "text",
         "marker": {
          "color": "rgb(255,220,0)"
         },
         "mode": "lines",
         "type": "scatter",
         "x": [
          0,
          0.767927490953076,
          0.767927490953076,
          0
         ],
         "xaxis": "x",
         "y": [
          -1045,
          -1045,
          -1055,
          -1055
         ],
         "yaxis": "y"
        },
        {
         "hoverinfo": "text",
         "marker": {
          "color": "rgb(0,116,217)"
         },
         "mode": "lines",
         "type": "scatter",
         "x": [
          0.9176215727744301,
          1.1214910550174424,
          1.1214910550174424,
          0.767927490953076
         ],
         "xaxis": "x",
         "y": [
          -1027.5,
          -1027.5,
          -1050,
          -1050
         ],
         "yaxis": "y"
        },
        {
         "hoverinfo": "text",
         "marker": {
          "color": "rgb(0,116,217)"
         },
         "mode": "lines",
         "type": "scatter",
         "x": [
          1.1461040184478877,
          1.159556867338118,
          1.159556867338118,
          1.1214910550174424
         ],
         "xaxis": "x",
         "y": [
          -719.12109375,
          -719.12109375,
          -1038.75,
          -1038.75
         ],
         "yaxis": "y"
        },
        {
         "hoverinfo": "text",
         "marker": {
          "color": "rgb(40,35,35)"
         },
         "mode": "lines",
         "type": "scatter",
         "x": [
          0,
          0.5814044386578741,
          0.5814044386578741,
          0
         ],
         "xaxis": "x",
         "y": [
          -1075,
          -1075,
          -1085,
          -1085
         ],
         "yaxis": "y"
        },
        {
         "hoverinfo": "text",
         "marker": {
          "color": "rgb(40,35,35)"
         },
         "mode": "lines",
         "type": "scatter",
         "x": [
          0,
          0.9293808550218738,
          0.9293808550218738,
          0.5814044386578741
         ],
         "xaxis": "x",
         "y": [
          -1065,
          -1065,
          -1080,
          -1080
         ],
         "yaxis": "y"
        },
        {
         "hoverinfo": "text",
         "marker": {
          "color": "rgb(0,116,217)"
         },
         "mode": "lines",
         "type": "scatter",
         "x": [
          1.159556867338118,
          1.2300512808324993,
          1.2300512808324993,
          0.9293808550218738
         ],
         "xaxis": "x",
         "y": [
          -878.935546875,
          -878.935546875,
          -1072.5,
          -1072.5
         ],
         "yaxis": "y"
        },
        {
         "hoverinfo": "text",
         "marker": {
          "color": "rgb(61,153,112)"
         },
         "mode": "lines",
         "type": "scatter",
         "x": [
          0,
          0.800725046396243,
          0.800725046396243,
          0
         ],
         "xaxis": "x",
         "y": [
          -1095,
          -1095,
          -1105,
          -1105
         ],
         "yaxis": "y"
        },
        {
         "hoverinfo": "text",
         "marker": {
          "color": "rgb(255,65,54)"
         },
         "mode": "lines",
         "type": "scatter",
         "x": [
          0,
          0.8301540250474068,
          0.8301540250474068,
          0
         ],
         "xaxis": "x",
         "y": [
          -1115,
          -1115,
          -1125,
          -1125
         ],
         "yaxis": "y"
        },
        {
         "hoverinfo": "text",
         "marker": {
          "color": "rgb(0,116,217)"
         },
         "mode": "lines",
         "type": "scatter",
         "x": [
          0.800725046396243,
          1.0151977659559555,
          1.0151977659559555,
          0.8301540250474068
         ],
         "xaxis": "x",
         "y": [
          -1100,
          -1100,
          -1120,
          -1120
         ],
         "yaxis": "y"
        },
        {
         "hoverinfo": "text",
         "marker": {
          "color": "rgb(35,205,205)"
         },
         "mode": "lines",
         "type": "scatter",
         "x": [
          0,
          0.7152177065829973,
          0.7152177065829973,
          0
         ],
         "xaxis": "x",
         "y": [
          -1145,
          -1145,
          -1155,
          -1155
         ],
         "yaxis": "y"
        },
        {
         "hoverinfo": "text",
         "marker": {
          "color": "rgb(35,205,205)"
         },
         "mode": "lines",
         "type": "scatter",
         "x": [
          0,
          0.8205735269994386,
          0.8205735269994386,
          0.7152177065829973
         ],
         "xaxis": "x",
         "y": [
          -1135,
          -1135,
          -1150,
          -1150
         ],
         "yaxis": "y"
        },
        {
         "hoverinfo": "text",
         "marker": {
          "color": "rgb(35,205,205)"
         },
         "mode": "lines",
         "type": "scatter",
         "x": [
          0.8205735269994386,
          0.9370718271667915,
          0.9370718271667915,
          0
         ],
         "xaxis": "x",
         "y": [
          -1142.5,
          -1142.5,
          -1165,
          -1165
         ],
         "yaxis": "y"
        },
        {
         "hoverinfo": "text",
         "marker": {
          "color": "rgb(0,116,217)"
         },
         "mode": "lines",
         "type": "scatter",
         "x": [
          1.0151977659559555,
          1.1242642611460323,
          1.1242642611460323,
          0.9370718271667915
         ],
         "xaxis": "x",
         "y": [
          -1110,
          -1110,
          -1153.75,
          -1153.75
         ],
         "yaxis": "y"
        },
        {
         "hoverinfo": "text",
         "marker": {
          "color": "rgb(61,153,112)"
         },
         "mode": "lines",
         "type": "scatter",
         "x": [
          0,
          0.6813340174528946,
          0.6813340174528946,
          0
         ],
         "xaxis": "x",
         "y": [
          -1175,
          -1175,
          -1185,
          -1185
         ],
         "yaxis": "y"
        },
        {
         "hoverinfo": "text",
         "marker": {
          "color": "rgb(61,153,112)"
         },
         "mode": "lines",
         "type": "scatter",
         "x": [
          0.6813340174528946,
          0.9140583378660903,
          0.9140583378660903,
          0
         ],
         "xaxis": "x",
         "y": [
          -1180,
          -1180,
          -1195,
          -1195
         ],
         "yaxis": "y"
        },
        {
         "hoverinfo": "text",
         "marker": {
          "color": "rgb(0,116,217)"
         },
         "mode": "lines",
         "type": "scatter",
         "x": [
          1.1242642611460323,
          1.1815915714701217,
          1.1815915714701217,
          0.9140583378660903
         ],
         "xaxis": "x",
         "y": [
          -1131.875,
          -1131.875,
          -1187.5,
          -1187.5
         ],
         "yaxis": "y"
        },
        {
         "hoverinfo": "text",
         "marker": {
          "color": "rgb(0,116,217)"
         },
         "mode": "lines",
         "type": "scatter",
         "x": [
          1.2300512808324993,
          1.2862418134057745,
          1.2862418134057745,
          1.1815915714701217
         ],
         "xaxis": "x",
         "y": [
          -975.7177734375,
          -975.7177734375,
          -1159.6875,
          -1159.6875
         ],
         "yaxis": "y"
        },
        {
         "hoverinfo": "text",
         "marker": {
          "color": "rgb(255,65,54)"
         },
         "mode": "lines",
         "type": "scatter",
         "x": [
          0,
          0.6391879560862428,
          0.6391879560862428,
          0
         ],
         "xaxis": "x",
         "y": [
          -1205,
          -1205,
          -1215,
          -1215
         ],
         "yaxis": "y"
        },
        {
         "hoverinfo": "text",
         "marker": {
          "color": "rgb(35,205,205)"
         },
         "mode": "lines",
         "type": "scatter",
         "x": [
          0,
          0.7180128670801891,
          0.7180128670801891,
          0
         ],
         "xaxis": "x",
         "y": [
          -1235,
          -1235,
          -1245,
          -1245
         ],
         "yaxis": "y"
        },
        {
         "hoverinfo": "text",
         "marker": {
          "color": "rgb(35,205,205)"
         },
         "mode": "lines",
         "type": "scatter",
         "x": [
          0,
          0.9291166032625519,
          0.9291166032625519,
          0.7180128670801891
         ],
         "xaxis": "x",
         "y": [
          -1225,
          -1225,
          -1240,
          -1240
         ],
         "yaxis": "y"
        },
        {
         "hoverinfo": "text",
         "marker": {
          "color": "rgb(0,116,217)"
         },
         "mode": "lines",
         "type": "scatter",
         "x": [
          0.6391879560862428,
          1.2278523377540045,
          1.2278523377540045,
          0.9291166032625519
         ],
         "xaxis": "x",
         "y": [
          -1210,
          -1210,
          -1232.5,
          -1232.5
         ],
         "yaxis": "y"
        },
        {
         "hoverinfo": "text",
         "marker": {
          "color": "rgb(0,116,217)"
         },
         "mode": "lines",
         "type": "scatter",
         "x": [
          1.2862418134057745,
          1.3007527153484226,
          1.3007527153484226,
          1.2278523377540045
         ],
         "xaxis": "x",
         "y": [
          -1067.70263671875,
          -1067.70263671875,
          -1221.25,
          -1221.25
         ],
         "yaxis": "y"
        },
        {
         "hoverinfo": "text",
         "marker": {
          "color": "rgb(0,116,217)"
         },
         "mode": "lines",
         "type": "scatter",
         "x": [
          1.1941667187288132,
          1.305419008167875,
          1.305419008167875,
          1.3007527153484226
         ],
         "xaxis": "x",
         "y": [
          -492.5,
          -492.5,
          -1144.476318359375,
          -1144.476318359375
         ],
         "yaxis": "y"
        },
        {
         "hoverinfo": "text",
         "marker": {
          "color": "rgb(133,20,75)"
         },
         "mode": "lines",
         "type": "scatter",
         "x": [
          0,
          0.3186105008396585,
          0.3186105008396585,
          0
         ],
         "xaxis": "x",
         "y": [
          -1255,
          -1255,
          -1265,
          -1265
         ],
         "yaxis": "y"
        },
        {
         "hoverinfo": "text",
         "marker": {
          "color": "rgb(255,220,0)"
         },
         "mode": "lines",
         "type": "scatter",
         "x": [
          0,
          0.3896664947615094,
          0.3896664947615094,
          0
         ],
         "xaxis": "x",
         "y": [
          -1275,
          -1275,
          -1285,
          -1285
         ],
         "yaxis": "y"
        },
        {
         "hoverinfo": "text",
         "marker": {
          "color": "rgb(255,220,0)"
         },
         "mode": "lines",
         "type": "scatter",
         "x": [
          0.3896664947615094,
          0.7005429309568638,
          0.7005429309568638,
          0
         ],
         "xaxis": "x",
         "y": [
          -1280,
          -1280,
          -1295,
          -1295
         ],
         "yaxis": "y"
        },
        {
         "hoverinfo": "text",
         "marker": {
          "color": "rgb(0,116,217)"
         },
         "mode": "lines",
         "type": "scatter",
         "x": [
          0.3186105008396585,
          1.2818801637396133,
          1.2818801637396133,
          0.7005429309568638
         ],
         "xaxis": "x",
         "y": [
          -1260,
          -1260,
          -1287.5,
          -1287.5
         ],
         "yaxis": "y"
        },
        {
         "hoverinfo": "text",
         "marker": {
          "color": "rgb(40,35,35)"
         },
         "mode": "lines",
         "type": "scatter",
         "x": [
          0,
          0.6686201842829358,
          0.6686201842829358,
          0
         ],
         "xaxis": "x",
         "y": [
          -1305,
          -1305,
          -1315,
          -1315
         ],
         "yaxis": "y"
        },
        {
         "hoverinfo": "text",
         "marker": {
          "color": "rgb(61,153,112)"
         },
         "mode": "lines",
         "type": "scatter",
         "x": [
          0,
          0.7567654407771036,
          0.7567654407771036,
          0
         ],
         "xaxis": "x",
         "y": [
          -1325,
          -1325,
          -1335,
          -1335
         ],
         "yaxis": "y"
        },
        {
         "hoverinfo": "text",
         "marker": {
          "color": "rgb(0,116,217)"
         },
         "mode": "lines",
         "type": "scatter",
         "x": [
          0.6686201842829358,
          1.0975430608932524,
          1.0975430608932524,
          0.7567654407771036
         ],
         "xaxis": "x",
         "y": [
          -1310,
          -1310,
          -1330,
          -1330
         ],
         "yaxis": "y"
        },
        {
         "hoverinfo": "text",
         "marker": {
          "color": "rgb(255,65,54)"
         },
         "mode": "lines",
         "type": "scatter",
         "x": [
          0,
          0.5597514839901272,
          0.5597514839901272,
          0
         ],
         "xaxis": "x",
         "y": [
          -1345,
          -1345,
          -1355,
          -1355
         ],
         "yaxis": "y"
        },
        {
         "hoverinfo": "text",
         "marker": {
          "color": "rgb(35,205,205)"
         },
         "mode": "lines",
         "type": "scatter",
         "x": [
          0,
          0.8565332644375332,
          0.8565332644375332,
          0
         ],
         "xaxis": "x",
         "y": [
          -1365,
          -1365,
          -1375,
          -1375
         ],
         "yaxis": "y"
        },
        {
         "hoverinfo": "text",
         "marker": {
          "color": "rgb(35,205,205)"
         },
         "mode": "lines",
         "type": "scatter",
         "x": [
          0,
          0.8597163905283511,
          0.8597163905283511,
          0
         ],
         "xaxis": "x",
         "y": [
          -1395,
          -1395,
          -1405,
          -1405
         ],
         "yaxis": "y"
        },
        {
         "hoverinfo": "text",
         "marker": {
          "color": "rgb(35,205,205)"
         },
         "mode": "lines",
         "type": "scatter",
         "x": [
          0,
          0.9570445241586029,
          0.9570445241586029,
          0.8597163905283511
         ],
         "xaxis": "x",
         "y": [
          -1385,
          -1385,
          -1400,
          -1400
         ],
         "yaxis": "y"
        },
        {
         "hoverinfo": "text",
         "marker": {
          "color": "rgb(35,205,205)"
         },
         "mode": "lines",
         "type": "scatter",
         "x": [
          0.8565332644375332,
          0.9853947886427,
          0.9853947886427,
          0.9570445241586029
         ],
         "xaxis": "x",
         "y": [
          -1370,
          -1370,
          -1392.5,
          -1392.5
         ],
         "yaxis": "y"
        },
        {
         "hoverinfo": "text",
         "marker": {
          "color": "rgb(61,153,112)"
         },
         "mode": "lines",
         "type": "scatter",
         "x": [
          0,
          0.8320176444109618,
          0.8320176444109618,
          0
         ],
         "xaxis": "x",
         "y": [
          -1415,
          -1415,
          -1425,
          -1425
         ],
         "yaxis": "y"
        },
        {
         "hoverinfo": "text",
         "marker": {
          "color": "rgb(255,65,54)"
         },
         "mode": "lines",
         "type": "scatter",
         "x": [
          0,
          0.8563330247936025,
          0.8563330247936025,
          0
         ],
         "xaxis": "x",
         "y": [
          -1435,
          -1435,
          -1445,
          -1445
         ],
         "yaxis": "y"
        },
        {
         "hoverinfo": "text",
         "marker": {
          "color": "rgb(0,116,217)"
         },
         "mode": "lines",
         "type": "scatter",
         "x": [
          0.8320176444109618,
          1.0194241625860807,
          1.0194241625860807,
          0.8563330247936025
         ],
         "xaxis": "x",
         "y": [
          -1420,
          -1420,
          -1440,
          -1440
         ],
         "yaxis": "y"
        },
        {
         "hoverinfo": "text",
         "marker": {
          "color": "rgb(35,205,205)"
         },
         "mode": "lines",
         "type": "scatter",
         "x": [
          0,
          0.8166575620841359,
          0.8166575620841359,
          0
         ],
         "xaxis": "x",
         "y": [
          -1455,
          -1455,
          -1465,
          -1465
         ],
         "yaxis": "y"
        },
        {
         "hoverinfo": "text",
         "marker": {
          "color": "rgb(35,205,205)"
         },
         "mode": "lines",
         "type": "scatter",
         "x": [
          0,
          0.9121239226285227,
          0.9121239226285227,
          0
         ],
         "xaxis": "x",
         "y": [
          -1475,
          -1475,
          -1485,
          -1485
         ],
         "yaxis": "y"
        },
        {
         "hoverinfo": "text",
         "marker": {
          "color": "rgb(35,205,205)"
         },
         "mode": "lines",
         "type": "scatter",
         "x": [
          0.8166575620841359,
          0.994537376660226,
          0.994537376660226,
          0.9121239226285227
         ],
         "xaxis": "x",
         "y": [
          -1460,
          -1460,
          -1480,
          -1480
         ],
         "yaxis": "y"
        },
        {
         "hoverinfo": "text",
         "marker": {
          "color": "rgb(0,116,217)"
         },
         "mode": "lines",
         "type": "scatter",
         "x": [
          1.0194241625860807,
          1.0382488345419163,
          1.0382488345419163,
          0.994537376660226
         ],
         "xaxis": "x",
         "y": [
          -1430,
          -1430,
          -1470,
          -1470
         ],
         "yaxis": "y"
        },
        {
         "hoverinfo": "text",
         "marker": {
          "color": "rgb(0,116,217)"
         },
         "mode": "lines",
         "type": "scatter",
         "x": [
          0.9853947886427,
          1.0817256550501617,
          1.0817256550501617,
          1.0382488345419163
         ],
         "xaxis": "x",
         "y": [
          -1381.25,
          -1381.25,
          -1450,
          -1450
         ],
         "yaxis": "y"
        },
        {
         "hoverinfo": "text",
         "marker": {
          "color": "rgb(133,20,75)"
         },
         "mode": "lines",
         "type": "scatter",
         "x": [
          0,
          0.7932890723951022,
          0.7932890723951022,
          0
         ],
         "xaxis": "x",
         "y": [
          -1505,
          -1505,
          -1515,
          -1515
         ],
         "yaxis": "y"
        },
        {
         "hoverinfo": "text",
         "marker": {
          "color": "rgb(133,20,75)"
         },
         "mode": "lines",
         "type": "scatter",
         "x": [
          0,
          0.8021607534734422,
          0.8021607534734422,
          0.7932890723951022
         ],
         "xaxis": "x",
         "y": [
          -1495,
          -1495,
          -1510,
          -1510
         ],
         "yaxis": "y"
        },
        {
         "hoverinfo": "text",
         "marker": {
          "color": "rgb(133,20,75)"
         },
         "mode": "lines",
         "type": "scatter",
         "x": [
          0,
          0.8782439544504059,
          0.8782439544504059,
          0
         ],
         "xaxis": "x",
         "y": [
          -1525,
          -1525,
          -1535,
          -1535
         ],
         "yaxis": "y"
        },
        {
         "hoverinfo": "text",
         "marker": {
          "color": "rgb(133,20,75)"
         },
         "mode": "lines",
         "type": "scatter",
         "x": [
          0.8021607534734422,
          0.9311866405482849,
          0.9311866405482849,
          0.8782439544504059
         ],
         "xaxis": "x",
         "y": [
          -1502.5,
          -1502.5,
          -1530,
          -1530
         ],
         "yaxis": "y"
        },
        {
         "hoverinfo": "text",
         "marker": {
          "color": "rgb(255,220,0)"
         },
         "mode": "lines",
         "type": "scatter",
         "x": [
          0,
          0.8586813319593773,
          0.8586813319593773,
          0
         ],
         "xaxis": "x",
         "y": [
          -1555,
          -1555,
          -1565,
          -1565
         ],
         "yaxis": "y"
        },
        {
         "hoverinfo": "text",
         "marker": {
          "color": "rgb(255,220,0)"
         },
         "mode": "lines",
         "type": "scatter",
         "x": [
          0,
          0.9489575931596134,
          0.9489575931596134,
          0.8586813319593773
         ],
         "xaxis": "x",
         "y": [
          -1545,
          -1545,
          -1560,
          -1560
         ],
         "yaxis": "y"
        },
        {
         "hoverinfo": "text",
         "marker": {
          "color": "rgb(40,35,35)"
         },
         "mode": "lines",
         "type": "scatter",
         "x": [
          0,
          0.8848004921717304,
          0.8848004921717304,
          0
         ],
         "xaxis": "x",
         "y": [
          -1575,
          -1575,
          -1585,
          -1585
         ],
         "yaxis": "y"
        },
        {
         "hoverinfo": "text",
         "marker": {
          "color": "rgb(40,35,35)"
         },
         "mode": "lines",
         "type": "scatter",
         "x": [
          0,
          0.7652031113103293,
          0.7652031113103293,
          0
         ],
         "xaxis": "x",
         "y": [
          -1605,
          -1605,
          -1615,
          -1615
         ],
         "yaxis": "y"
        },
        {
         "hoverinfo": "text",
         "marker": {
          "color": "rgb(40,35,35)"
         },
         "mode": "lines",
         "type": "scatter",
         "x": [
          0.7652031113103293,
          0.8186091466276381,
          0.8186091466276381,
          0
         ],
         "xaxis": "x",
         "y": [
          -1610,
          -1610,
          -1625,
          -1625
         ],
         "yaxis": "y"
        },
        {
         "hoverinfo": "text",
         "marker": {
          "color": "rgb(40,35,35)"
         },
         "mode": "lines",
         "type": "scatter",
         "x": [
          0.8186091466276381,
          0.8381926099302627,
          0.8381926099302627,
          0
         ],
         "xaxis": "x",
         "y": [
          -1617.5,
          -1617.5,
          -1635,
          -1635
         ],
         "yaxis": "y"
        },
        {
         "hoverinfo": "text",
         "marker": {
          "color": "rgb(40,35,35)"
         },
         "mode": "lines",
         "type": "scatter",
         "x": [
          0,
          0.8580051110383043,
          0.8580051110383043,
          0.8381926099302627
         ],
         "xaxis": "x",
         "y": [
          -1595,
          -1595,
          -1626.25,
          -1626.25
         ],
         "yaxis": "y"
        },
        {
         "hoverinfo": "text",
         "marker": {
          "color": "rgb(40,35,35)"
         },
         "mode": "lines",
         "type": "scatter",
         "x": [
          0.8580051110383043,
          0.8843952062577687,
          0.8843952062577687,
          0
         ],
         "xaxis": "x",
         "y": [
          -1610.625,
          -1610.625,
          -1645,
          -1645
         ],
         "yaxis": "y"
        },
        {
         "hoverinfo": "text",
         "marker": {
          "color": "rgb(40,35,35)"
         },
         "mode": "lines",
         "type": "scatter",
         "x": [
          0.8848004921717304,
          0.9843850480064341,
          0.9843850480064341,
          0.8843952062577687
         ],
         "xaxis": "x",
         "y": [
          -1580,
          -1580,
          -1627.8125,
          -1627.8125
         ],
         "yaxis": "y"
        },
        {
         "hoverinfo": "text",
         "marker": {
          "color": "rgb(40,35,35)"
         },
         "mode": "lines",
         "type": "scatter",
         "x": [
          0,
          0.8741318283526922,
          0.8741318283526922,
          0
         ],
         "xaxis": "x",
         "y": [
          -1665,
          -1665,
          -1675,
          -1675
         ],
         "yaxis": "y"
        },
        {
         "hoverinfo": "text",
         "marker": {
          "color": "rgb(40,35,35)"
         },
         "mode": "lines",
         "type": "scatter",
         "x": [
          0.8741318283526922,
          0.9218604736062822,
          0.9218604736062822,
          0
         ],
         "xaxis": "x",
         "y": [
          -1670,
          -1670,
          -1685,
          -1685
         ],
         "yaxis": "y"
        },
        {
         "hoverinfo": "text",
         "marker": {
          "color": "rgb(40,35,35)"
         },
         "mode": "lines",
         "type": "scatter",
         "x": [
          0,
          0.943013997607812,
          0.943013997607812,
          0.9218604736062822
         ],
         "xaxis": "x",
         "y": [
          -1655,
          -1655,
          -1677.5,
          -1677.5
         ],
         "yaxis": "y"
        },
        {
         "hoverinfo": "text",
         "marker": {
          "color": "rgb(40,35,35)"
         },
         "mode": "lines",
         "type": "scatter",
         "x": [
          0.943013997607812,
          0.9555759521523165,
          0.9555759521523165,
          0
         ],
         "xaxis": "x",
         "y": [
          -1666.25,
          -1666.25,
          -1695,
          -1695
         ],
         "yaxis": "y"
        },
        {
         "hoverinfo": "text",
         "marker": {
          "color": "rgb(40,35,35)"
         },
         "mode": "lines",
         "type": "scatter",
         "x": [
          0.9843850480064341,
          0.9999320859182077,
          0.9999320859182077,
          0.9555759521523165
         ],
         "xaxis": "x",
         "y": [
          -1603.90625,
          -1603.90625,
          -1680.625,
          -1680.625
         ],
         "yaxis": "y"
        },
        {
         "hoverinfo": "text",
         "marker": {
          "color": "rgb(0,116,217)"
         },
         "mode": "lines",
         "type": "scatter",
         "x": [
          0.9489575931596134,
          1.0391206833958,
          1.0391206833958,
          0.9999320859182077
         ],
         "xaxis": "x",
         "y": [
          -1552.5,
          -1552.5,
          -1642.265625,
          -1642.265625
         ],
         "yaxis": "y"
        },
        {
         "hoverinfo": "text",
         "marker": {
          "color": "rgb(61,153,112)"
         },
         "mode": "lines",
         "type": "scatter",
         "x": [
          0,
          0.8813072359444933,
          0.8813072359444933,
          0
         ],
         "xaxis": "x",
         "y": [
          -1705,
          -1705,
          -1715,
          -1715
         ],
         "yaxis": "y"
        },
        {
         "hoverinfo": "text",
         "marker": {
          "color": "rgb(61,153,112)"
         },
         "mode": "lines",
         "type": "scatter",
         "x": [
          0,
          0.8680699433334474,
          0.8680699433334474,
          0
         ],
         "xaxis": "x",
         "y": [
          -1725,
          -1725,
          -1735,
          -1735
         ],
         "yaxis": "y"
        },
        {
         "hoverinfo": "text",
         "marker": {
          "color": "rgb(61,153,112)"
         },
         "mode": "lines",
         "type": "scatter",
         "x": [
          0.8680699433334474,
          0.9255149336034236,
          0.9255149336034236,
          0
         ],
         "xaxis": "x",
         "y": [
          -1730,
          -1730,
          -1745,
          -1745
         ],
         "yaxis": "y"
        },
        {
         "hoverinfo": "text",
         "marker": {
          "color": "rgb(61,153,112)"
         },
         "mode": "lines",
         "type": "scatter",
         "x": [
          0.8813072359444933,
          0.9600436343844113,
          0.9600436343844113,
          0.9255149336034236
         ],
         "xaxis": "x",
         "y": [
          -1710,
          -1710,
          -1737.5,
          -1737.5
         ],
         "yaxis": "y"
        },
        {
         "hoverinfo": "text",
         "marker": {
          "color": "rgb(61,153,112)"
         },
         "mode": "lines",
         "type": "scatter",
         "x": [
          0.9600436343844113,
          0.9769090476288411,
          0.9769090476288411,
          0
         ],
         "xaxis": "x",
         "y": [
          -1723.75,
          -1723.75,
          -1755,
          -1755
         ],
         "yaxis": "y"
        },
        {
         "hoverinfo": "text",
         "marker": {
          "color": "rgb(0,116,217)"
         },
         "mode": "lines",
         "type": "scatter",
         "x": [
          1.0391206833958,
          1.0520434543210442,
          1.0520434543210442,
          0.9769090476288411
         ],
         "xaxis": "x",
         "y": [
          -1597.3828125,
          -1597.3828125,
          -1739.375,
          -1739.375
         ],
         "yaxis": "y"
        },
        {
         "hoverinfo": "text",
         "marker": {
          "color": "rgb(0,116,217)"
         },
         "mode": "lines",
         "type": "scatter",
         "x": [
          0.9311866405482849,
          1.096929460116712,
          1.096929460116712,
          1.0520434543210442
         ],
         "xaxis": "x",
         "y": [
          -1516.25,
          -1516.25,
          -1668.37890625,
          -1668.37890625
         ],
         "yaxis": "y"
        },
        {
         "hoverinfo": "text",
         "marker": {
          "color": "rgb(0,116,217)"
         },
         "mode": "lines",
         "type": "scatter",
         "x": [
          1.0817256550501617,
          1.1048379490528553,
          1.1048379490528553,
          1.096929460116712
         ],
         "xaxis": "x",
         "y": [
          -1415.625,
          -1415.625,
          -1592.314453125,
          -1592.314453125
         ],
         "yaxis": "y"
        },
        {
         "hoverinfo": "text",
         "marker": {
          "color": "rgb(0,116,217)"
         },
         "mode": "lines",
         "type": "scatter",
         "x": [
          0.5597514839901272,
          1.1538579139868914,
          1.1538579139868914,
          1.1048379490528553
         ],
         "xaxis": "x",
         "y": [
          -1350,
          -1350,
          -1503.9697265625,
          -1503.9697265625
         ],
         "yaxis": "y"
        },
        {
         "hoverinfo": "text",
         "marker": {
          "color": "rgb(255,65,54)"
         },
         "mode": "lines",
         "type": "scatter",
         "x": [
          0,
          0.5927278190378915,
          0.5927278190378915,
          0
         ],
         "xaxis": "x",
         "y": [
          -1765,
          -1765,
          -1775,
          -1775
         ],
         "yaxis": "y"
        },
        {
         "hoverinfo": "text",
         "marker": {
          "color": "rgb(0,116,217)"
         },
         "mode": "lines",
         "type": "scatter",
         "x": [
          1.1538579139868914,
          1.1828108750718294,
          1.1828108750718294,
          0.5927278190378915
         ],
         "xaxis": "x",
         "y": [
          -1426.98486328125,
          -1426.98486328125,
          -1770,
          -1770
         ],
         "yaxis": "y"
        },
        {
         "hoverinfo": "text",
         "marker": {
          "color": "rgb(0,116,217)"
         },
         "mode": "lines",
         "type": "scatter",
         "x": [
          1.0975430608932524,
          1.2020793166249528,
          1.2020793166249528,
          1.1828108750718294
         ],
         "xaxis": "x",
         "y": [
          -1320,
          -1320,
          -1598.492431640625,
          -1598.492431640625
         ],
         "yaxis": "y"
        },
        {
         "hoverinfo": "text",
         "marker": {
          "color": "rgb(35,205,205)"
         },
         "mode": "lines",
         "type": "scatter",
         "x": [
          0,
          0.6393266555685138,
          0.6393266555685138,
          0
         ],
         "xaxis": "x",
         "y": [
          -1785,
          -1785,
          -1795,
          -1795
         ],
         "yaxis": "y"
        },
        {
         "hoverinfo": "text",
         "marker": {
          "color": "rgb(35,205,205)"
         },
         "mode": "lines",
         "type": "scatter",
         "x": [
          0.6393266555685138,
          0.7416434075874047,
          0.7416434075874047,
          0
         ],
         "xaxis": "x",
         "y": [
          -1790,
          -1790,
          -1805,
          -1805
         ],
         "yaxis": "y"
        },
        {
         "hoverinfo": "text",
         "marker": {
          "color": "rgb(0,116,217)"
         },
         "mode": "lines",
         "type": "scatter",
         "x": [
          1.2020793166249528,
          1.2924745431370788,
          1.2924745431370788,
          0.7416434075874047
         ],
         "xaxis": "x",
         "y": [
          -1459.2462158203125,
          -1459.2462158203125,
          -1797.5,
          -1797.5
         ],
         "yaxis": "y"
        },
        {
         "hoverinfo": "text",
         "marker": {
          "color": "rgb(0,116,217)"
         },
         "mode": "lines",
         "type": "scatter",
         "x": [
          1.2818801637396133,
          1.3570101754000137,
          1.3570101754000137,
          1.2924745431370788
         ],
         "xaxis": "x",
         "y": [
          -1273.75,
          -1273.75,
          -1628.3731079101562,
          -1628.3731079101562
         ],
         "yaxis": "y"
        },
        {
         "hoverinfo": "text",
         "marker": {
          "color": "rgb(0,116,217)"
         },
         "mode": "lines",
         "type": "scatter",
         "x": [
          1.305419008167875,
          1.4068369996374142,
          1.4068369996374142,
          1.3570101754000137
         ],
         "xaxis": "x",
         "y": [
          -818.4881591796875,
          -818.4881591796875,
          -1451.0615539550781,
          -1451.0615539550781
         ],
         "yaxis": "y"
        },
        {
         "hoverinfo": "text",
         "marker": {
          "color": "rgb(61,153,112)"
         },
         "mode": "lines",
         "type": "scatter",
         "x": [
          0,
          0.44261424154711415,
          0.44261424154711415,
          0
         ],
         "xaxis": "x",
         "y": [
          -1825,
          -1825,
          -1835,
          -1835
         ],
         "yaxis": "y"
        },
        {
         "hoverinfo": "text",
         "marker": {
          "color": "rgb(61,153,112)"
         },
         "mode": "lines",
         "type": "scatter",
         "x": [
          0.44261424154711415,
          0.6817838585462008,
          0.6817838585462008,
          0
         ],
         "xaxis": "x",
         "y": [
          -1830,
          -1830,
          -1845,
          -1845
         ],
         "yaxis": "y"
        },
        {
         "hoverinfo": "text",
         "marker": {
          "color": "rgb(61,153,112)"
         },
         "mode": "lines",
         "type": "scatter",
         "x": [
          0,
          0.8847875174719606,
          0.8847875174719606,
          0.6817838585462008
         ],
         "xaxis": "x",
         "y": [
          -1815,
          -1815,
          -1837.5,
          -1837.5
         ],
         "yaxis": "y"
        },
        {
         "hoverinfo": "text",
         "marker": {
          "color": "rgb(255,65,54)"
         },
         "mode": "lines",
         "type": "scatter",
         "x": [
          0,
          0.2808435463291712,
          0.2808435463291712,
          0
         ],
         "xaxis": "x",
         "y": [
          -1855,
          -1855,
          -1865,
          -1865
         ],
         "yaxis": "y"
        },
        {
         "hoverinfo": "text",
         "marker": {
          "color": "rgb(0,116,217)"
         },
         "mode": "lines",
         "type": "scatter",
         "x": [
          0.8847875174719606,
          1.3317027067165943,
          1.3317027067165943,
          0.2808435463291712
         ],
         "xaxis": "x",
         "y": [
          -1826.25,
          -1826.25,
          -1860,
          -1860
         ],
         "yaxis": "y"
        },
        {
         "hoverinfo": "text",
         "marker": {
          "color": "rgb(35,205,205)"
         },
         "mode": "lines",
         "type": "scatter",
         "x": [
          0,
          0.8736771557910545,
          0.8736771557910545,
          0
         ],
         "xaxis": "x",
         "y": [
          -1875,
          -1875,
          -1885,
          -1885
         ],
         "yaxis": "y"
        },
        {
         "hoverinfo": "text",
         "marker": {
          "color": "rgb(35,205,205)"
         },
         "mode": "lines",
         "type": "scatter",
         "x": [
          0,
          0.7849591872163293,
          0.7849591872163293,
          0
         ],
         "xaxis": "x",
         "y": [
          -1895,
          -1895,
          -1905,
          -1905
         ],
         "yaxis": "y"
        },
        {
         "hoverinfo": "text",
         "marker": {
          "color": "rgb(35,205,205)"
         },
         "mode": "lines",
         "type": "scatter",
         "x": [
          0,
          0.7897953699183529,
          0.7897953699183529,
          0
         ],
         "xaxis": "x",
         "y": [
          -1925,
          -1925,
          -1935,
          -1935
         ],
         "yaxis": "y"
        },
        {
         "hoverinfo": "text",
         "marker": {
          "color": "rgb(35,205,205)"
         },
         "mode": "lines",
         "type": "scatter",
         "x": [
          0.7897953699183529,
          0.88236561131068,
          0.88236561131068,
          0
         ],
         "xaxis": "x",
         "y": [
          -1930,
          -1930,
          -1945,
          -1945
         ],
         "yaxis": "y"
        },
        {
         "hoverinfo": "text",
         "marker": {
          "color": "rgb(35,205,205)"
         },
         "mode": "lines",
         "type": "scatter",
         "x": [
          0,
          0.9102161320229015,
          0.9102161320229015,
          0.88236561131068
         ],
         "xaxis": "x",
         "y": [
          -1915,
          -1915,
          -1937.5,
          -1937.5
         ],
         "yaxis": "y"
        },
        {
         "hoverinfo": "text",
         "marker": {
          "color": "rgb(35,205,205)"
         },
         "mode": "lines",
         "type": "scatter",
         "x": [
          0.7849591872163293,
          0.9288427985649154,
          0.9288427985649154,
          0.9102161320229015
         ],
         "xaxis": "x",
         "y": [
          -1900,
          -1900,
          -1926.25,
          -1926.25
         ],
         "yaxis": "y"
        },
        {
         "hoverinfo": "text",
         "marker": {
          "color": "rgb(35,205,205)"
         },
         "mode": "lines",
         "type": "scatter",
         "x": [
          0.8736771557910545,
          0.9995828363600617,
          0.9995828363600617,
          0.9288427985649154
         ],
         "xaxis": "x",
         "y": [
          -1880,
          -1880,
          -1913.125,
          -1913.125
         ],
         "yaxis": "y"
        },
        {
         "hoverinfo": "text",
         "marker": {
          "color": "rgb(133,20,75)"
         },
         "mode": "lines",
         "type": "scatter",
         "x": [
          0,
          0.619618872943693,
          0.619618872943693,
          0
         ],
         "xaxis": "x",
         "y": [
          -1955,
          -1955,
          -1965,
          -1965
         ],
         "yaxis": "y"
        },
        {
         "hoverinfo": "text",
         "marker": {
          "color": "rgb(255,220,0)"
         },
         "mode": "lines",
         "type": "scatter",
         "x": [
          0,
          0.7431571504879538,
          0.7431571504879538,
          0
         ],
         "xaxis": "x",
         "y": [
          -1985,
          -1985,
          -1995,
          -1995
         ],
         "yaxis": "y"
        },
        {
         "hoverinfo": "text",
         "marker": {
          "color": "rgb(255,220,0)"
         },
         "mode": "lines",
         "type": "scatter",
         "x": [
          0,
          0.8980114801320344,
          0.8980114801320344,
          0.7431571504879538
         ],
         "xaxis": "x",
         "y": [
          -1975,
          -1975,
          -1990,
          -1990
         ],
         "yaxis": "y"
        },
        {
         "hoverinfo": "text",
         "marker": {
          "color": "rgb(255,220,0)"
         },
         "mode": "lines",
         "type": "scatter",
         "x": [
          0,
          0.8816724937042069,
          0.8816724937042069,
          0
         ],
         "xaxis": "x",
         "y": [
          -2005,
          -2005,
          -2015,
          -2015
         ],
         "yaxis": "y"
        },
        {
         "hoverinfo": "text",
         "marker": {
          "color": "rgb(255,220,0)"
         },
         "mode": "lines",
         "type": "scatter",
         "x": [
          0.8980114801320344,
          0.9962771542012855,
          0.9962771542012855,
          0.8816724937042069
         ],
         "xaxis": "x",
         "y": [
          -1982.5,
          -1982.5,
          -2010,
          -2010
         ],
         "yaxis": "y"
        },
        {
         "hoverinfo": "text",
         "marker": {
          "color": "rgb(0,116,217)"
         },
         "mode": "lines",
         "type": "scatter",
         "x": [
          0.619618872943693,
          1.0250928784653393,
          1.0250928784653393,
          0.9962771542012855
         ],
         "xaxis": "x",
         "y": [
          -1960,
          -1960,
          -1996.25,
          -1996.25
         ],
         "yaxis": "y"
        },
        {
         "hoverinfo": "text",
         "marker": {
          "color": "rgb(0,116,217)"
         },
         "mode": "lines",
         "type": "scatter",
         "x": [
          0.9995828363600617,
          1.1209562081495812,
          1.1209562081495812,
          1.0250928784653393
         ],
         "xaxis": "x",
         "y": [
          -1896.5625,
          -1896.5625,
          -1978.125,
          -1978.125
         ],
         "yaxis": "y"
        },
        {
         "hoverinfo": "text",
         "marker": {
          "color": "rgb(40,35,35)"
         },
         "mode": "lines",
         "type": "scatter",
         "x": [
          0,
          0.8342795137111784,
          0.8342795137111784,
          0
         ],
         "xaxis": "x",
         "y": [
          -2025,
          -2025,
          -2035,
          -2035
         ],
         "yaxis": "y"
        },
        {
         "hoverinfo": "text",
         "marker": {
          "color": "rgb(40,35,35)"
         },
         "mode": "lines",
         "type": "scatter",
         "x": [
          0,
          0.7519761732887933,
          0.7519761732887933,
          0
         ],
         "xaxis": "x",
         "y": [
          -2045,
          -2045,
          -2055,
          -2055
         ],
         "yaxis": "y"
        },
        {
         "hoverinfo": "text",
         "marker": {
          "color": "rgb(40,35,35)"
         },
         "mode": "lines",
         "type": "scatter",
         "x": [
          0.8342795137111784,
          0.9318796259753348,
          0.9318796259753348,
          0.7519761732887933
         ],
         "xaxis": "x",
         "y": [
          -2030,
          -2030,
          -2050,
          -2050
         ],
         "yaxis": "y"
        },
        {
         "hoverinfo": "text",
         "marker": {
          "color": "rgb(61,153,112)"
         },
         "mode": "lines",
         "type": "scatter",
         "x": [
          0,
          0.6560549383762297,
          0.6560549383762297,
          0
         ],
         "xaxis": "x",
         "y": [
          -2075,
          -2075,
          -2085,
          -2085
         ],
         "yaxis": "y"
        },
        {
         "hoverinfo": "text",
         "marker": {
          "color": "rgb(61,153,112)"
         },
         "mode": "lines",
         "type": "scatter",
         "x": [
          0,
          0.9395425945664038,
          0.9395425945664038,
          0.6560549383762297
         ],
         "xaxis": "x",
         "y": [
          -2065,
          -2065,
          -2080,
          -2080
         ],
         "yaxis": "y"
        },
        {
         "hoverinfo": "text",
         "marker": {
          "color": "rgb(61,153,112)"
         },
         "mode": "lines",
         "type": "scatter",
         "x": [
          0,
          0.7877961573584598,
          0.7877961573584598,
          0
         ],
         "xaxis": "x",
         "y": [
          -2095,
          -2095,
          -2105,
          -2105
         ],
         "yaxis": "y"
        },
        {
         "hoverinfo": "text",
         "marker": {
          "color": "rgb(61,153,112)"
         },
         "mode": "lines",
         "type": "scatter",
         "x": [
          0.7877961573584598,
          0.8975105277052009,
          0.8975105277052009,
          0
         ],
         "xaxis": "x",
         "y": [
          -2100,
          -2100,
          -2115,
          -2115
         ],
         "yaxis": "y"
        },
        {
         "hoverinfo": "text",
         "marker": {
          "color": "rgb(61,153,112)"
         },
         "mode": "lines",
         "type": "scatter",
         "x": [
          0.9395425945664038,
          0.982998253666235,
          0.982998253666235,
          0.8975105277052009
         ],
         "xaxis": "x",
         "y": [
          -2072.5,
          -2072.5,
          -2107.5,
          -2107.5
         ],
         "yaxis": "y"
        },
        {
         "hoverinfo": "text",
         "marker": {
          "color": "rgb(0,116,217)"
         },
         "mode": "lines",
         "type": "scatter",
         "x": [
          0.9318796259753348,
          1.059768469646882,
          1.059768469646882,
          0.982998253666235
         ],
         "xaxis": "x",
         "y": [
          -2040,
          -2040,
          -2090,
          -2090
         ],
         "yaxis": "y"
        },
        {
         "hoverinfo": "text",
         "marker": {
          "color": "rgb(0,116,217)"
         },
         "mode": "lines",
         "type": "scatter",
         "x": [
          1.1209562081495812,
          1.2205259831875832,
          1.2205259831875832,
          1.059768469646882
         ],
         "xaxis": "x",
         "y": [
          -1937.34375,
          -1937.34375,
          -2065,
          -2065
         ],
         "yaxis": "y"
        },
        {
         "hoverinfo": "text",
         "marker": {
          "color": "rgb(255,65,54)"
         },
         "mode": "lines",
         "type": "scatter",
         "x": [
          0,
          0.43825207531965527,
          0.43825207531965527,
          0
         ],
         "xaxis": "x",
         "y": [
          -2125,
          -2125,
          -2135,
          -2135
         ],
         "yaxis": "y"
        },
        {
         "hoverinfo": "text",
         "marker": {
          "color": "rgb(35,205,205)"
         },
         "mode": "lines",
         "type": "scatter",
         "x": [
          0,
          0.7173343846031652,
          0.7173343846031652,
          0
         ],
         "xaxis": "x",
         "y": [
          -2145,
          -2145,
          -2155,
          -2155
         ],
         "yaxis": "y"
        },
        {
         "hoverinfo": "text",
         "marker": {
          "color": "rgb(61,153,112)"
         },
         "mode": "lines",
         "type": "scatter",
         "x": [
          0,
          0.45601344049427783,
          0.45601344049427783,
          0
         ],
         "xaxis": "x",
         "y": [
          -2165,
          -2165,
          -2175,
          -2175
         ],
         "yaxis": "y"
        },
        {
         "hoverinfo": "text",
         "marker": {
          "color": "rgb(61,153,112)"
         },
         "mode": "lines",
         "type": "scatter",
         "x": [
          0.45601344049427783,
          0.8390322956488423,
          0.8390322956488423,
          0
         ],
         "xaxis": "x",
         "y": [
          -2170,
          -2170,
          -2185,
          -2185
         ],
         "yaxis": "y"
        },
        {
         "hoverinfo": "text",
         "marker": {
          "color": "rgb(0,116,217)"
         },
         "mode": "lines",
         "type": "scatter",
         "x": [
          0.7173343846031652,
          1.0840906413602847,
          1.0840906413602847,
          0.8390322956488423
         ],
         "xaxis": "x",
         "y": [
          -2150,
          -2150,
          -2177.5,
          -2177.5
         ],
         "yaxis": "y"
        },
        {
         "hoverinfo": "text",
         "marker": {
          "color": "rgb(255,65,54)"
         },
         "mode": "lines",
         "type": "scatter",
         "x": [
          0,
          0.7727359901365025,
          0.7727359901365025,
          0
         ],
         "xaxis": "x",
         "y": [
          -2205,
          -2205,
          -2215,
          -2215
         ],
         "yaxis": "y"
        },
        {
         "hoverinfo": "text",
         "marker": {
          "color": "rgb(255,65,54)"
         },
         "mode": "lines",
         "type": "scatter",
         "x": [
          0,
          0.9077644281169482,
          0.9077644281169482,
          0.7727359901365025
         ],
         "xaxis": "x",
         "y": [
          -2195,
          -2195,
          -2210,
          -2210
         ],
         "yaxis": "y"
        },
        {
         "hoverinfo": "text",
         "marker": {
          "color": "rgb(255,65,54)"
         },
         "mode": "lines",
         "type": "scatter",
         "x": [
          0,
          0.886584147859269,
          0.886584147859269,
          0
         ],
         "xaxis": "x",
         "y": [
          -2225,
          -2225,
          -2235,
          -2235
         ],
         "yaxis": "y"
        },
        {
         "hoverinfo": "text",
         "marker": {
          "color": "rgb(255,65,54)"
         },
         "mode": "lines",
         "type": "scatter",
         "x": [
          0.9077644281169482,
          0.9575915229585164,
          0.9575915229585164,
          0.886584147859269
         ],
         "xaxis": "x",
         "y": [
          -2202.5,
          -2202.5,
          -2230,
          -2230
         ],
         "yaxis": "y"
        },
        {
         "hoverinfo": "text",
         "marker": {
          "color": "rgb(35,205,205)"
         },
         "mode": "lines",
         "type": "scatter",
         "x": [
          0,
          0.7642718090811766,
          0.7642718090811766,
          0
         ],
         "xaxis": "x",
         "y": [
          -2255,
          -2255,
          -2265,
          -2265
         ],
         "yaxis": "y"
        },
        {
         "hoverinfo": "text",
         "marker": {
          "color": "rgb(35,205,205)"
         },
         "mode": "lines",
         "type": "scatter",
         "x": [
          0,
          0.8997204009805512,
          0.8997204009805512,
          0.7642718090811766
         ],
         "xaxis": "x",
         "y": [
          -2245,
          -2245,
          -2260,
          -2260
         ],
         "yaxis": "y"
        },
        {
         "hoverinfo": "text",
         "marker": {
          "color": "rgb(0,116,217)"
         },
         "mode": "lines",
         "type": "scatter",
         "x": [
          0.9575915229585164,
          1.117867211369963,
          1.117867211369963,
          0.8997204009805512
         ],
         "xaxis": "x",
         "y": [
          -2216.25,
          -2216.25,
          -2252.5,
          -2252.5
         ],
         "yaxis": "y"
        },
        {
         "hoverinfo": "text",
         "marker": {
          "color": "rgb(0,116,217)"
         },
         "mode": "lines",
         "type": "scatter",
         "x": [
          1.0840906413602847,
          1.187573019323015,
          1.187573019323015,
          1.117867211369963
         ],
         "xaxis": "x",
         "y": [
          -2163.75,
          -2163.75,
          -2234.375,
          -2234.375
         ],
         "yaxis": "y"
        },
        {
         "hoverinfo": "text",
         "marker": {
          "color": "rgb(133,20,75)"
         },
         "mode": "lines",
         "type": "scatter",
         "x": [
          0,
          0.34288141297403807,
          0.34288141297403807,
          0
         ],
         "xaxis": "x",
         "y": [
          -2275,
          -2275,
          -2285,
          -2285
         ],
         "yaxis": "y"
        },
        {
         "hoverinfo": "text",
         "marker": {
          "color": "rgb(255,220,0)"
         },
         "mode": "lines",
         "type": "scatter",
         "x": [
          0,
          0.6328338933101891,
          0.6328338933101891,
          0
         ],
         "xaxis": "x",
         "y": [
          -2295,
          -2295,
          -2305,
          -2305
         ],
         "yaxis": "y"
        },
        {
         "hoverinfo": "text",
         "marker": {
          "color": "rgb(0,116,217)"
         },
         "mode": "lines",
         "type": "scatter",
         "x": [
          0.34288141297403807,
          1.1677032091113888,
          1.1677032091113888,
          0.6328338933101891
         ],
         "xaxis": "x",
         "y": [
          -2280,
          -2280,
          -2300,
          -2300
         ],
         "yaxis": "y"
        },
        {
         "hoverinfo": "text",
         "marker": {
          "color": "rgb(0,116,217)"
         },
         "mode": "lines",
         "type": "scatter",
         "x": [
          1.187573019323015,
          1.2361244795895747,
          1.2361244795895747,
          1.1677032091113888
         ],
         "xaxis": "x",
         "y": [
          -2199.0625,
          -2199.0625,
          -2290,
          -2290
         ],
         "yaxis": "y"
        },
        {
         "hoverinfo": "text",
         "marker": {
          "color": "rgb(0,116,217)"
         },
         "mode": "lines",
         "type": "scatter",
         "x": [
          0.43825207531965527,
          1.249716388664482,
          1.249716388664482,
          1.2361244795895747
         ],
         "xaxis": "x",
         "y": [
          -2130,
          -2130,
          -2244.53125,
          -2244.53125
         ],
         "yaxis": "y"
        },
        {
         "hoverinfo": "text",
         "marker": {
          "color": "rgb(40,35,35)"
         },
         "mode": "lines",
         "type": "scatter",
         "x": [
          0,
          0.38446956200328186,
          0.38446956200328186,
          0
         ],
         "xaxis": "x",
         "y": [
          -2315,
          -2315,
          -2325,
          -2325
         ],
         "yaxis": "y"
        },
        {
         "hoverinfo": "text",
         "marker": {
          "color": "rgb(40,35,35)"
         },
         "mode": "lines",
         "type": "scatter",
         "x": [
          0.38446956200328186,
          0.806350508334346,
          0.806350508334346,
          0
         ],
         "xaxis": "x",
         "y": [
          -2320,
          -2320,
          -2335,
          -2335
         ],
         "yaxis": "y"
        },
        {
         "hoverinfo": "text",
         "marker": {
          "color": "rgb(0,116,217)"
         },
         "mode": "lines",
         "type": "scatter",
         "x": [
          1.249716388664482,
          1.276561024667166,
          1.276561024667166,
          0.806350508334346
         ],
         "xaxis": "x",
         "y": [
          -2187.265625,
          -2187.265625,
          -2327.5,
          -2327.5
         ],
         "yaxis": "y"
        },
        {
         "hoverinfo": "text",
         "marker": {
          "color": "rgb(0,116,217)"
         },
         "mode": "lines",
         "type": "scatter",
         "x": [
          1.2205259831875832,
          1.3345611381833102,
          1.3345611381833102,
          1.276561024667166
         ],
         "xaxis": "x",
         "y": [
          -2001.171875,
          -2001.171875,
          -2257.3828125,
          -2257.3828125
         ],
         "yaxis": "y"
        },
        {
         "hoverinfo": "text",
         "marker": {
          "color": "rgb(0,116,217)"
         },
         "mode": "lines",
         "type": "scatter",
         "x": [
          1.3317027067165943,
          1.3863372488161436,
          1.3863372488161436,
          1.3345611381833102
         ],
         "xaxis": "x",
         "y": [
          -1843.125,
          -1843.125,
          -2129.27734375,
          -2129.27734375
         ],
         "yaxis": "y"
        },
        {
         "hoverinfo": "text",
         "marker": {
          "color": "rgb(0,116,217)"
         },
         "mode": "lines",
         "type": "scatter",
         "x": [
          1.4068369996374142,
          1.6075852851782801,
          1.6075852851782801,
          1.3863372488161436
         ],
         "xaxis": "x",
         "y": [
          -1134.7748565673828,
          -1134.7748565673828,
          -1986.201171875,
          -1986.201171875
         ],
         "yaxis": "y"
        },
        {
         "hoverinfo": "text",
         "marker": {
          "color": "rgb(0,116,217)"
         },
         "mode": "lines",
         "type": "scatter",
         "x": [
          1.5093827941278666,
          1.7002295844084134,
          1.7002295844084134,
          1.6075852851782801
         ],
         "xaxis": "x",
         "y": [
          -279.6826171875,
          -279.6826171875,
          -1560.4880142211914,
          -1560.4880142211914
         ],
         "yaxis": "y"
        }
       ],
       "layout": {
        "autosize": false,
        "height": 3710,
        "hoverlabel": {
         "bgcolor": "white",
         "font": {
          "family": "Rockwell",
          "size": 16
         }
        },
        "hovermode": "closest",
        "plot_bgcolor": "#ECEFF1",
        "showlegend": false,
        "template": {
         "data": {
          "bar": [
           {
            "error_x": {
             "color": "#2a3f5f"
            },
            "error_y": {
             "color": "#2a3f5f"
            },
            "marker": {
             "line": {
              "color": "white",
              "width": 0.5
             },
             "pattern": {
              "fillmode": "overlay",
              "size": 10,
              "solidity": 0.2
             }
            },
            "type": "bar"
           }
          ],
          "barpolar": [
           {
            "marker": {
             "line": {
              "color": "white",
              "width": 0.5
             },
             "pattern": {
              "fillmode": "overlay",
              "size": 10,
              "solidity": 0.2
             }
            },
            "type": "barpolar"
           }
          ],
          "carpet": [
           {
            "aaxis": {
             "endlinecolor": "#2a3f5f",
             "gridcolor": "#C8D4E3",
             "linecolor": "#C8D4E3",
             "minorgridcolor": "#C8D4E3",
             "startlinecolor": "#2a3f5f"
            },
            "baxis": {
             "endlinecolor": "#2a3f5f",
             "gridcolor": "#C8D4E3",
             "linecolor": "#C8D4E3",
             "minorgridcolor": "#C8D4E3",
             "startlinecolor": "#2a3f5f"
            },
            "type": "carpet"
           }
          ],
          "choropleth": [
           {
            "colorbar": {
             "outlinewidth": 0,
             "ticks": ""
            },
            "type": "choropleth"
           }
          ],
          "contour": [
           {
            "colorbar": {
             "outlinewidth": 0,
             "ticks": ""
            },
            "colorscale": [
             [
              0,
              "#0d0887"
             ],
             [
              0.1111111111111111,
              "#46039f"
             ],
             [
              0.2222222222222222,
              "#7201a8"
             ],
             [
              0.3333333333333333,
              "#9c179e"
             ],
             [
              0.4444444444444444,
              "#bd3786"
             ],
             [
              0.5555555555555556,
              "#d8576b"
             ],
             [
              0.6666666666666666,
              "#ed7953"
             ],
             [
              0.7777777777777778,
              "#fb9f3a"
             ],
             [
              0.8888888888888888,
              "#fdca26"
             ],
             [
              1,
              "#f0f921"
             ]
            ],
            "type": "contour"
           }
          ],
          "contourcarpet": [
           {
            "colorbar": {
             "outlinewidth": 0,
             "ticks": ""
            },
            "type": "contourcarpet"
           }
          ],
          "heatmap": [
           {
            "colorbar": {
             "outlinewidth": 0,
             "ticks": ""
            },
            "colorscale": [
             [
              0,
              "#0d0887"
             ],
             [
              0.1111111111111111,
              "#46039f"
             ],
             [
              0.2222222222222222,
              "#7201a8"
             ],
             [
              0.3333333333333333,
              "#9c179e"
             ],
             [
              0.4444444444444444,
              "#bd3786"
             ],
             [
              0.5555555555555556,
              "#d8576b"
             ],
             [
              0.6666666666666666,
              "#ed7953"
             ],
             [
              0.7777777777777778,
              "#fb9f3a"
             ],
             [
              0.8888888888888888,
              "#fdca26"
             ],
             [
              1,
              "#f0f921"
             ]
            ],
            "type": "heatmap"
           }
          ],
          "heatmapgl": [
           {
            "colorbar": {
             "outlinewidth": 0,
             "ticks": ""
            },
            "colorscale": [
             [
              0,
              "#0d0887"
             ],
             [
              0.1111111111111111,
              "#46039f"
             ],
             [
              0.2222222222222222,
              "#7201a8"
             ],
             [
              0.3333333333333333,
              "#9c179e"
             ],
             [
              0.4444444444444444,
              "#bd3786"
             ],
             [
              0.5555555555555556,
              "#d8576b"
             ],
             [
              0.6666666666666666,
              "#ed7953"
             ],
             [
              0.7777777777777778,
              "#fb9f3a"
             ],
             [
              0.8888888888888888,
              "#fdca26"
             ],
             [
              1,
              "#f0f921"
             ]
            ],
            "type": "heatmapgl"
           }
          ],
          "histogram": [
           {
            "marker": {
             "pattern": {
              "fillmode": "overlay",
              "size": 10,
              "solidity": 0.2
             }
            },
            "type": "histogram"
           }
          ],
          "histogram2d": [
           {
            "colorbar": {
             "outlinewidth": 0,
             "ticks": ""
            },
            "colorscale": [
             [
              0,
              "#0d0887"
             ],
             [
              0.1111111111111111,
              "#46039f"
             ],
             [
              0.2222222222222222,
              "#7201a8"
             ],
             [
              0.3333333333333333,
              "#9c179e"
             ],
             [
              0.4444444444444444,
              "#bd3786"
             ],
             [
              0.5555555555555556,
              "#d8576b"
             ],
             [
              0.6666666666666666,
              "#ed7953"
             ],
             [
              0.7777777777777778,
              "#fb9f3a"
             ],
             [
              0.8888888888888888,
              "#fdca26"
             ],
             [
              1,
              "#f0f921"
             ]
            ],
            "type": "histogram2d"
           }
          ],
          "histogram2dcontour": [
           {
            "colorbar": {
             "outlinewidth": 0,
             "ticks": ""
            },
            "colorscale": [
             [
              0,
              "#0d0887"
             ],
             [
              0.1111111111111111,
              "#46039f"
             ],
             [
              0.2222222222222222,
              "#7201a8"
             ],
             [
              0.3333333333333333,
              "#9c179e"
             ],
             [
              0.4444444444444444,
              "#bd3786"
             ],
             [
              0.5555555555555556,
              "#d8576b"
             ],
             [
              0.6666666666666666,
              "#ed7953"
             ],
             [
              0.7777777777777778,
              "#fb9f3a"
             ],
             [
              0.8888888888888888,
              "#fdca26"
             ],
             [
              1,
              "#f0f921"
             ]
            ],
            "type": "histogram2dcontour"
           }
          ],
          "mesh3d": [
           {
            "colorbar": {
             "outlinewidth": 0,
             "ticks": ""
            },
            "type": "mesh3d"
           }
          ],
          "parcoords": [
           {
            "line": {
             "colorbar": {
              "outlinewidth": 0,
              "ticks": ""
             }
            },
            "type": "parcoords"
           }
          ],
          "pie": [
           {
            "automargin": true,
            "type": "pie"
           }
          ],
          "scatter": [
           {
            "fillpattern": {
             "fillmode": "overlay",
             "size": 10,
             "solidity": 0.2
            },
            "type": "scatter"
           }
          ],
          "scatter3d": [
           {
            "line": {
             "colorbar": {
              "outlinewidth": 0,
              "ticks": ""
             }
            },
            "marker": {
             "colorbar": {
              "outlinewidth": 0,
              "ticks": ""
             }
            },
            "type": "scatter3d"
           }
          ],
          "scattercarpet": [
           {
            "marker": {
             "colorbar": {
              "outlinewidth": 0,
              "ticks": ""
             }
            },
            "type": "scattercarpet"
           }
          ],
          "scattergeo": [
           {
            "marker": {
             "colorbar": {
              "outlinewidth": 0,
              "ticks": ""
             }
            },
            "type": "scattergeo"
           }
          ],
          "scattergl": [
           {
            "marker": {
             "colorbar": {
              "outlinewidth": 0,
              "ticks": ""
             }
            },
            "type": "scattergl"
           }
          ],
          "scattermapbox": [
           {
            "marker": {
             "colorbar": {
              "outlinewidth": 0,
              "ticks": ""
             }
            },
            "type": "scattermapbox"
           }
          ],
          "scatterpolar": [
           {
            "marker": {
             "colorbar": {
              "outlinewidth": 0,
              "ticks": ""
             }
            },
            "type": "scatterpolar"
           }
          ],
          "scatterpolargl": [
           {
            "marker": {
             "colorbar": {
              "outlinewidth": 0,
              "ticks": ""
             }
            },
            "type": "scatterpolargl"
           }
          ],
          "scatterternary": [
           {
            "marker": {
             "colorbar": {
              "outlinewidth": 0,
              "ticks": ""
             }
            },
            "type": "scatterternary"
           }
          ],
          "surface": [
           {
            "colorbar": {
             "outlinewidth": 0,
             "ticks": ""
            },
            "colorscale": [
             [
              0,
              "#0d0887"
             ],
             [
              0.1111111111111111,
              "#46039f"
             ],
             [
              0.2222222222222222,
              "#7201a8"
             ],
             [
              0.3333333333333333,
              "#9c179e"
             ],
             [
              0.4444444444444444,
              "#bd3786"
             ],
             [
              0.5555555555555556,
              "#d8576b"
             ],
             [
              0.6666666666666666,
              "#ed7953"
             ],
             [
              0.7777777777777778,
              "#fb9f3a"
             ],
             [
              0.8888888888888888,
              "#fdca26"
             ],
             [
              1,
              "#f0f921"
             ]
            ],
            "type": "surface"
           }
          ],
          "table": [
           {
            "cells": {
             "fill": {
              "color": "#EBF0F8"
             },
             "line": {
              "color": "white"
             }
            },
            "header": {
             "fill": {
              "color": "#C8D4E3"
             },
             "line": {
              "color": "white"
             }
            },
            "type": "table"
           }
          ]
         },
         "layout": {
          "annotationdefaults": {
           "arrowcolor": "#2a3f5f",
           "arrowhead": 0,
           "arrowwidth": 1
          },
          "autotypenumbers": "strict",
          "coloraxis": {
           "colorbar": {
            "outlinewidth": 0,
            "ticks": ""
           }
          },
          "colorscale": {
           "diverging": [
            [
             0,
             "#8e0152"
            ],
            [
             0.1,
             "#c51b7d"
            ],
            [
             0.2,
             "#de77ae"
            ],
            [
             0.3,
             "#f1b6da"
            ],
            [
             0.4,
             "#fde0ef"
            ],
            [
             0.5,
             "#f7f7f7"
            ],
            [
             0.6,
             "#e6f5d0"
            ],
            [
             0.7,
             "#b8e186"
            ],
            [
             0.8,
             "#7fbc41"
            ],
            [
             0.9,
             "#4d9221"
            ],
            [
             1,
             "#276419"
            ]
           ],
           "sequential": [
            [
             0,
             "#0d0887"
            ],
            [
             0.1111111111111111,
             "#46039f"
            ],
            [
             0.2222222222222222,
             "#7201a8"
            ],
            [
             0.3333333333333333,
             "#9c179e"
            ],
            [
             0.4444444444444444,
             "#bd3786"
            ],
            [
             0.5555555555555556,
             "#d8576b"
            ],
            [
             0.6666666666666666,
             "#ed7953"
            ],
            [
             0.7777777777777778,
             "#fb9f3a"
            ],
            [
             0.8888888888888888,
             "#fdca26"
            ],
            [
             1,
             "#f0f921"
            ]
           ],
           "sequentialminus": [
            [
             0,
             "#0d0887"
            ],
            [
             0.1111111111111111,
             "#46039f"
            ],
            [
             0.2222222222222222,
             "#7201a8"
            ],
            [
             0.3333333333333333,
             "#9c179e"
            ],
            [
             0.4444444444444444,
             "#bd3786"
            ],
            [
             0.5555555555555556,
             "#d8576b"
            ],
            [
             0.6666666666666666,
             "#ed7953"
            ],
            [
             0.7777777777777778,
             "#fb9f3a"
            ],
            [
             0.8888888888888888,
             "#fdca26"
            ],
            [
             1,
             "#f0f921"
            ]
           ]
          },
          "colorway": [
           "#636efa",
           "#EF553B",
           "#00cc96",
           "#ab63fa",
           "#FFA15A",
           "#19d3f3",
           "#FF6692",
           "#B6E880",
           "#FF97FF",
           "#FECB52"
          ],
          "font": {
           "color": "#2a3f5f"
          },
          "geo": {
           "bgcolor": "white",
           "lakecolor": "white",
           "landcolor": "white",
           "showlakes": true,
           "showland": true,
           "subunitcolor": "#C8D4E3"
          },
          "hoverlabel": {
           "align": "left"
          },
          "hovermode": "closest",
          "mapbox": {
           "style": "light"
          },
          "paper_bgcolor": "white",
          "plot_bgcolor": "white",
          "polar": {
           "angularaxis": {
            "gridcolor": "#EBF0F8",
            "linecolor": "#EBF0F8",
            "ticks": ""
           },
           "bgcolor": "white",
           "radialaxis": {
            "gridcolor": "#EBF0F8",
            "linecolor": "#EBF0F8",
            "ticks": ""
           }
          },
          "scene": {
           "xaxis": {
            "backgroundcolor": "white",
            "gridcolor": "#DFE8F3",
            "gridwidth": 2,
            "linecolor": "#EBF0F8",
            "showbackground": true,
            "ticks": "",
            "zerolinecolor": "#EBF0F8"
           },
           "yaxis": {
            "backgroundcolor": "white",
            "gridcolor": "#DFE8F3",
            "gridwidth": 2,
            "linecolor": "#EBF0F8",
            "showbackground": true,
            "ticks": "",
            "zerolinecolor": "#EBF0F8"
           },
           "zaxis": {
            "backgroundcolor": "white",
            "gridcolor": "#DFE8F3",
            "gridwidth": 2,
            "linecolor": "#EBF0F8",
            "showbackground": true,
            "ticks": "",
            "zerolinecolor": "#EBF0F8"
           }
          },
          "shapedefaults": {
           "line": {
            "color": "#2a3f5f"
           }
          },
          "ternary": {
           "aaxis": {
            "gridcolor": "#DFE8F3",
            "linecolor": "#A2B1C6",
            "ticks": ""
           },
           "baxis": {
            "gridcolor": "#DFE8F3",
            "linecolor": "#A2B1C6",
            "ticks": ""
           },
           "bgcolor": "white",
           "caxis": {
            "gridcolor": "#DFE8F3",
            "linecolor": "#A2B1C6",
            "ticks": ""
           }
          },
          "title": {
           "x": 0.05
          },
          "xaxis": {
           "automargin": true,
           "gridcolor": "#EBF0F8",
           "linecolor": "#EBF0F8",
           "ticks": "",
           "title": {
            "standoff": 15
           },
           "zerolinecolor": "#EBF0F8",
           "zerolinewidth": 2
          },
          "yaxis": {
           "automargin": true,
           "gridcolor": "#EBF0F8",
           "linecolor": "#EBF0F8",
           "ticks": "",
           "title": {
            "standoff": 15
           },
           "zerolinecolor": "#EBF0F8",
           "zerolinewidth": 2
          }
         }
        },
        "title": {
         "font": {
          "color": "Black",
          "size": 22
         },
         "text": "<b>Hierarchical Clustering</b>",
         "x": 0.5,
         "xanchor": "center",
         "yanchor": "top"
        },
        "width": 1000,
        "xaxis": {
         "mirror": "allticks",
         "rangemode": "tozero",
         "showgrid": false,
         "showline": true,
         "showticklabels": true,
         "ticks": "outside",
         "type": "linear",
         "zeroline": false
        },
        "yaxis": {
         "mirror": "allticks",
         "range": [
          -2340,
          0
         ],
         "rangemode": "tozero",
         "showgrid": false,
         "showline": true,
         "showticklabels": true,
         "tickmode": "array",
         "ticks": "outside",
         "ticktext": [
          "126_draft_thru_pr",
          "63_draft_final_deck",
          "178_review_saroya_revieweing",
          "38_review_document_before",
          "8_comments_feedback_review",
          "75_comments_feedback_please",
          "137_thanks_sending_for",
          "76_thanks_sending_thank",
          "101_contact_info_information",
          "133_contact_info_condrey",
          "14_details_info_information",
          "230_info_conatct_information",
          "176_quote_tapes_tac",
          "195_materials_material_need",
          "164_office_patrice_sabre",
          "172_mail_decoded_bhagavan",
          "71_mail_me_please",
          "65_helpdesk_assistance_supp...",
          "113_so_if_sendmxsmg",
          "198_group_calling_rmallik",
          "128_them_they_info",
          "10_them_these_ll",
          "163_ideas_methodology_sugge...",
          "147_note_notes_positioned",
          "167_notes_dialled_linger",
          "114_team_nike_roster",
          "52_documentation_docs_docum...",
          "125_docs_doc_surgery",
          "43_changes_made_modifications",
          "48_changes_update_tomorrow",
          "56_update_updates_progress",
          "50_document_documents_copy",
          "29_document_copy_documents",
          "25_copy_soft_me",
          "153_response_todya_inadvert...",
          "1_it_did_tomorrow",
          "3_person_sent_what",
          "11_email_sent_emails",
          "0_him_he_his",
          "140_emails_realized_sent",
          "127_had_mistake_sent",
          "73_problem_having_sendmail",
          "221_aol_address_msierra",
          "220_resume_his_he",
          "24_resume_resumes_my",
          "115_resume_resumes_position",
          "154_video_delta_mro",
          "224_video_bandwidth_vcr",
          "120_messages_million_cent",
          "26_sms_messages_messaging",
          "158_camera_pictures_users",
          "151_sprint_pcs_volunteered",
          "18_pictures_picture_photos",
          "123_pics_photo_picture",
          "102_content_base64_disposit...",
          "79_mb_size_attachment",
          "232_attachment_marrige_ment",
          "118_virus_itself_infected",
          "211_fuseletter_earth_efuse",
          "186_cabot_isw_isw138ts",
          "217_jess_inferior_inf",
          "227_aim_interactive_associa...",
          "218_printed_print_job",
          "194_gap_sale_brands",
          "214_macromedia_classes_remove",
          "222_evalueexpress_recurring...",
          "97_flooz_gift_lfmn",
          "134_thank_gift_snd",
          "209_mountain_bluemountain_b...",
          "184_weblogic_license_pools",
          "99_license_licenses_key",
          "141_visio_lower_screens",
          "148_version_versions_discard",
          "31_logo_logos_eps",
          "199_icons_screen_screens",
          "189_pdf_pdfs_electronic",
          "67_rfp_rfi_boeing",
          "91_demo_url_afternoon",
          "119_design_requirements_stu...",
          "62_cd_kmt_cds",
          "188_wap_toolkit_push",
          "174_certificates_verisign_c...",
          "84_laptop_laptops_dell",
          "92_log_logs_files",
          "191_pda_carry_options",
          "66_vss_webbyphone_files",
          "34_nda_mutual_signed",
          "202_ewap_ewrp_signed",
          "179_directions_product_id_d2",
          "166_ppt_kinkos_10cfr21",
          "116_cc_ccing_cced",
          "169_prasad_jam_comments",
          "146_lead_leads_assessment",
          "110_channelwave_streaming_prm",
          "173_delay_apologize_apologies",
          "90_ae_aes_apache",
          "39_scoping_analysis_ae",
          "182_hosting_deal_virtual",
          "162_ip_external_internal",
          "216_notice_notices_30day",
          "187_cancellation_totally_ca...",
          "183_requests_refrain_demand...",
          "86_ops_request_opssupport",
          "152_arun_arunlekha_ops",
          "208_etrade_boxes_10mbit",
          "207_folders_public_paste",
          "103_timesheet_innova_timesh...",
          "41_spreadsheet_sheet_excel",
          "143_excel_sheet_msproject",
          "200_left_voicemail_voice",
          "74_voice_speechworks_voiceg...",
          "9_fax_faxes_number",
          "219_planetrx_590_770",
          "228_number_font_hook",
          "64_cell_number_phone",
          "45_call_me_touch",
          "69_pager_pagers_pin",
          "206_questions_productive_busy",
          "122_questions_any_feel",
          "165_praveen_evening_techhelp",
          "70_inc_000_corp",
          "159_index_portfolio_change",
          "226_htm_rsilverton_clickz",
          "106_internet_http_newsletters",
          "138_ipw_mailto_alert",
          "121_agenda_out_mpp98",
          "129_agenda_interview_sprang",
          "27_meeting_request_meetings",
          "83_meeting_calendar_dates",
          "145_calendar_calendars_meet...",
          "212_order_confirmation_placed",
          "223_confirmation_shortly_co...",
          "204_flight_tickets_comair",
          "82_itinerary_flight_tickets",
          "225_accenture_leveraged_booth",
          "22_accenture_qwest_they",
          "109_webex_participants_meet...",
          "40_password_login_vpn",
          "136_siebel_dbhost_neon_view",
          "77_conference_call_number",
          "231_enter_dial_press",
          "177_collateral_sheets_yestu...",
          "108_show_pre_marilisa",
          "180_ctia_calea_attached",
          "233_study_case_cases",
          "197_wireless_att_at",
          "58_wireless_essential_appli...",
          "57_survey_surveys_onyx",
          "215_questionnaire_questionn...",
          "13_invite_invitation_invita...",
          "42_attend_event_attendees",
          "160_seminar_registration_in...",
          "68_hotel_reservations_travel",
          "171_lunch_dinner_noon",
          "192_bio_photo_973",
          "5_her_she_sent",
          "93_germana_aec_cobra",
          "196_approval_mrs_approved",
          "81_schedule_objectives_sche...",
          "54_technical_nwoods_engineers",
          "4_contract_agreement_signed",
          "15_sales_company_partner",
          "2_presentation_slides_prese...",
          "12_training_class_people",
          "47_sun_tear_regional",
          "111_venk_signature_asked",
          "139_proposal_plan_proposals",
          "53_pricing_price_hilton",
          "61_forms_form_irs",
          "185_estimate_estimates_task",
          "229_loan_financials_finance",
          "100_expense_expenses_month",
          "28_fedex_ups_tracking",
          "21_check_checks_cheque",
          "35_invoice_invoices_march",
          "130_paypal_money_account",
          "49_press_release_releases",
          "213_kits_press_kit",
          "107_report_pipeline_forecast",
          "157_reports_report_30am",
          "51_status_reports_report",
          "190_class_classpath_file",
          "36_file_files_wrong",
          "33_file_files_kaiperm",
          "98_zip_files_file",
          "59_resend_could_can",
          "203_resend_myhrvold_kcerrone",
          "161_smalltalk_object_method",
          "175_qm_quota_mean",
          "87_device_header_deviceid",
          "44_xml_spy_emas",
          "7_item_oca_data",
          "60_server_htmlhost_cache",
          "19_jsp_method_page",
          "205_parameters_variables_pa...",
          "144_fix_problem_patch",
          "32_problem_error_issue",
          "149_text_html_img",
          "88_html_pages_htmlhost",
          "17_aml_files_pages",
          "80_code_sample_gesture",
          "210_samples_sample_evaluation",
          "193_pocketpc_pocket_pc",
          "170_emulator_gateway_voices...",
          "23_palm_vii_emulator",
          "6_pqa_application_test",
          "105_epservlet_opt_servlet",
          "181_url_application_offline",
          "117_url_salesep_urls",
          "96_parameters_utilization_cpu",
          "78_application_spells_issues",
          "104_spec_specs_functional",
          "155_template_templates_requ...",
          "131_template_templates_art",
          "201_bugzilla_bug_whn",
          "20_bugs_bug_fixes",
          "135_list_partys_sample",
          "16_list_add_onward",
          "72_features_feature_release",
          "168_alias_aliases_processes",
          "55_installation_install_ins...",
          "95_build_builds_available",
          "156_emds_emas_guide",
          "124_roopak_schema_dbupdate",
          "85_translation_localization...",
          "150_japanese_miyuki_transla...",
          "37_idc_diva_ae",
          "132_project_plan_projects",
          "46_project_plan_analysis",
          "94_rim_dds_rimulator",
          "112_dds_final_smart",
          "30_test_tests_testing",
          "89_test_tests_results",
          "142_results_test_ou"
         ],
         "tickvals": [
          -5,
          -15,
          -25,
          -35,
          -45,
          -55,
          -65,
          -75,
          -85,
          -95,
          -105,
          -115,
          -125,
          -135,
          -145,
          -155,
          -165,
          -175,
          -185,
          -195,
          -205,
          -215,
          -225,
          -235,
          -245,
          -255,
          -265,
          -275,
          -285,
          -295,
          -305,
          -315,
          -325,
          -335,
          -345,
          -355,
          -365,
          -375,
          -385,
          -395,
          -405,
          -415,
          -425,
          -435,
          -445,
          -455,
          -465,
          -475,
          -485,
          -495,
          -505,
          -515,
          -525,
          -535,
          -545,
          -555,
          -565,
          -575,
          -585,
          -595,
          -605,
          -615,
          -625,
          -635,
          -645,
          -655,
          -665,
          -675,
          -685,
          -695,
          -705,
          -715,
          -725,
          -735,
          -745,
          -755,
          -765,
          -775,
          -785,
          -795,
          -805,
          -815,
          -825,
          -835,
          -845,
          -855,
          -865,
          -875,
          -885,
          -895,
          -905,
          -915,
          -925,
          -935,
          -945,
          -955,
          -965,
          -975,
          -985,
          -995,
          -1005,
          -1015,
          -1025,
          -1035,
          -1045,
          -1055,
          -1065,
          -1075,
          -1085,
          -1095,
          -1105,
          -1115,
          -1125,
          -1135,
          -1145,
          -1155,
          -1165,
          -1175,
          -1185,
          -1195,
          -1205,
          -1215,
          -1225,
          -1235,
          -1245,
          -1255,
          -1265,
          -1275,
          -1285,
          -1295,
          -1305,
          -1315,
          -1325,
          -1335,
          -1345,
          -1355,
          -1365,
          -1375,
          -1385,
          -1395,
          -1405,
          -1415,
          -1425,
          -1435,
          -1445,
          -1455,
          -1465,
          -1475,
          -1485,
          -1495,
          -1505,
          -1515,
          -1525,
          -1535,
          -1545,
          -1555,
          -1565,
          -1575,
          -1585,
          -1595,
          -1605,
          -1615,
          -1625,
          -1635,
          -1645,
          -1655,
          -1665,
          -1675,
          -1685,
          -1695,
          -1705,
          -1715,
          -1725,
          -1735,
          -1745,
          -1755,
          -1765,
          -1775,
          -1785,
          -1795,
          -1805,
          -1815,
          -1825,
          -1835,
          -1845,
          -1855,
          -1865,
          -1875,
          -1885,
          -1895,
          -1905,
          -1915,
          -1925,
          -1935,
          -1945,
          -1955,
          -1965,
          -1975,
          -1985,
          -1995,
          -2005,
          -2015,
          -2025,
          -2035,
          -2045,
          -2055,
          -2065,
          -2075,
          -2085,
          -2095,
          -2105,
          -2115,
          -2125,
          -2135,
          -2145,
          -2155,
          -2165,
          -2175,
          -2185,
          -2195,
          -2205,
          -2215,
          -2225,
          -2235,
          -2245,
          -2255,
          -2265,
          -2275,
          -2285,
          -2295,
          -2305,
          -2315,
          -2325,
          -2335
         ],
         "type": "linear",
         "zeroline": false
        }
       }
      }
     },
     "metadata": {},
     "output_type": "display_data"
    }
   ],
   "source": [
    "topic_model.visualize_hierarchy(custom_labels=False)"
   ]
  },
  {
   "cell_type": "markdown",
   "metadata": {},
   "source": [
    "### Keep Intent-like Topics"
   ]
  },
  {
   "cell_type": "code",
   "execution_count": 1671,
   "metadata": {},
   "outputs": [
    {
     "name": "stdout",
     "output_type": "stream",
     "text": [
      "Topic: 20\n",
      "\n",
      "Top Words:\n",
      "call, cell, me, number, phone, or, touch, reach, home, at, \n",
      "\n",
      "Representative Target Sentences: \n",
      "If u have anything for me , call me on my cell or send me email .\n",
      "call me on the cell or send email .\n",
      "If you need me send email or call my cell .\n"
     ]
    }
   ],
   "source": [
    "topic_id = 20\n",
    "inspect_topic(topic_id)"
   ]
  },
  {
   "cell_type": "code",
   "execution_count": 1633,
   "metadata": {},
   "outputs": [],
   "source": [
    "topic_model.merge_topics(docs, [-1,topic_id])"
   ]
  },
  {
   "cell_type": "code",
   "execution_count": 1598,
   "metadata": {},
   "outputs": [
    {
     "name": "stdout",
     "output_type": "stream",
     "text": [
      "Number of Documents: 1790\n",
      "\n",
      "I 'll send it back to you as soon as I can finish it .\n",
      "Please send it to us !\n",
      "--------------------------   Sent from [PERSON] 's BB .   Instant E - mail messaging Rocks !\n",
      "I 'm gone next week but have been assured she 'll send it to you Monday .\n",
      "Please email him this along with the PDF I sent this am .\n",
      "I sent this to you already\n",
      "[PERSON] ,    This is the email that I had sent to [PERSON] on Friday in regards to the problem that I had talked to you about .\n",
      "ty ;    i will work on this tomorrow and send it to you .\n",
      "I 'll try to send it again , soon .\n",
      "He 's now sending updates like these .\n",
      "[PERSON] sent this to me .\n",
      "just what you feel , make her laugh out loud , recall a special moment you shared , or send a heart - felt thanks .\n",
      "I 'll copy you all on what I send to [PERSON] .\n",
      "Please send [PERSON] ( bullet point )\n",
      "I will send it to [PERSON] as soon as you receive it .\n",
      "[PERSON] ,    This info below is from [PERSON] :    The last email that you sent to me is this the HTML ?\n",
      "let me know , i can send this out tomorrow .\n",
      "I 'd like to send it to Blueshirt tomorrow morning so they can get the   WAC people to review it .\n",
      "also send me anything you have .\n",
      "I may have sent this to you previously .\n"
     ]
    }
   ],
   "source": [
    "documents = [docs[i] for i, topic in enumerate(topic_model.topics_) if topic == topic_id]\n",
    "print('Number of Documents: '+str(len(documents))+'\\n')\n",
    "for i in range(20):\n",
    "    print(documents[i])"
   ]
  },
  {
   "cell_type": "code",
   "execution_count": 1658,
   "metadata": {},
   "outputs": [],
   "source": [
    "create_custom_label(custom_label='send_check', topic_id=topic_id)"
   ]
  },
  {
   "cell_type": "code",
   "execution_count": 1659,
   "metadata": {},
   "outputs": [
    {
     "data": {
      "application/vnd.plotly.v1+json": {
       "config": {
        "plotlyServerURL": "https://plot.ly"
       },
       "data": [
        {
         "hoverinfo": "text",
         "marker": {
          "color": "rgb(61,153,112)"
         },
         "mode": "lines",
         "type": "scatter",
         "x": [
          0,
          0.8148398126625229,
          0.8148398126625229,
          0
         ],
         "xaxis": "x",
         "y": [
          -5,
          -5,
          -15,
          -15
         ],
         "yaxis": "y"
        },
        {
         "hoverinfo": "text",
         "marker": {
          "color": "rgb(61,153,112)"
         },
         "mode": "lines",
         "type": "scatter",
         "x": [
          0.8148398126625229,
          0.8801974630921071,
          0.8801974630921071,
          0
         ],
         "xaxis": "x",
         "y": [
          -10,
          -10,
          -25,
          -25
         ],
         "yaxis": "y"
        },
        {
         "hoverinfo": "text",
         "marker": {
          "color": "rgb(255,65,54)"
         },
         "mode": "lines",
         "type": "scatter",
         "x": [
          0,
          0.8083306177804389,
          0.8083306177804389,
          0
         ],
         "xaxis": "x",
         "y": [
          -45,
          -45,
          -55,
          -55
         ],
         "yaxis": "y"
        },
        {
         "hoverinfo": "text",
         "marker": {
          "color": "rgb(255,65,54)"
         },
         "mode": "lines",
         "type": "scatter",
         "x": [
          0,
          0.8797258723011755,
          0.8797258723011755,
          0.8083306177804389
         ],
         "xaxis": "x",
         "y": [
          -35,
          -35,
          -50,
          -50
         ],
         "yaxis": "y"
        },
        {
         "hoverinfo": "text",
         "marker": {
          "color": "rgb(35,205,205)"
         },
         "mode": "lines",
         "type": "scatter",
         "x": [
          0,
          0.7619704834781496,
          0.7619704834781496,
          0
         ],
         "xaxis": "x",
         "y": [
          -65,
          -65,
          -75,
          -75
         ],
         "yaxis": "y"
        },
        {
         "hoverinfo": "text",
         "marker": {
          "color": "rgb(35,205,205)"
         },
         "mode": "lines",
         "type": "scatter",
         "x": [
          0.7619704834781496,
          0.8711818642608719,
          0.8711818642608719,
          0
         ],
         "xaxis": "x",
         "y": [
          -70,
          -70,
          -85,
          -85
         ],
         "yaxis": "y"
        },
        {
         "hoverinfo": "text",
         "marker": {
          "color": "rgb(0,116,217)"
         },
         "mode": "lines",
         "type": "scatter",
         "x": [
          0.8797258723011755,
          1.0078209764510744,
          1.0078209764510744,
          0.8711818642608719
         ],
         "xaxis": "x",
         "y": [
          -42.5,
          -42.5,
          -77.5,
          -77.5
         ],
         "yaxis": "y"
        },
        {
         "hoverinfo": "text",
         "marker": {
          "color": "rgb(0,116,217)"
         },
         "mode": "lines",
         "type": "scatter",
         "x": [
          0.8801974630921071,
          1.0369879770162114,
          1.0369879770162114,
          1.0078209764510744
         ],
         "xaxis": "x",
         "y": [
          -17.5,
          -17.5,
          -60,
          -60
         ],
         "yaxis": "y"
        },
        {
         "hoverinfo": "text",
         "marker": {
          "color": "rgb(133,20,75)"
         },
         "mode": "lines",
         "type": "scatter",
         "x": [
          0,
          0.7944156166248404,
          0.7944156166248404,
          0
         ],
         "xaxis": "x",
         "y": [
          -95,
          -95,
          -105,
          -105
         ],
         "yaxis": "y"
        },
        {
         "hoverinfo": "text",
         "marker": {
          "color": "rgb(255,220,0)"
         },
         "mode": "lines",
         "type": "scatter",
         "x": [
          0,
          0.8657477526291475,
          0.8657477526291475,
          0
         ],
         "xaxis": "x",
         "y": [
          -115,
          -115,
          -125,
          -125
         ],
         "yaxis": "y"
        },
        {
         "hoverinfo": "text",
         "marker": {
          "color": "rgb(40,35,35)"
         },
         "mode": "lines",
         "type": "scatter",
         "x": [
          0,
          0.6309719529491862,
          0.6309719529491862,
          0
         ],
         "xaxis": "x",
         "y": [
          -145,
          -145,
          -155,
          -155
         ],
         "yaxis": "y"
        },
        {
         "hoverinfo": "text",
         "marker": {
          "color": "rgb(40,35,35)"
         },
         "mode": "lines",
         "type": "scatter",
         "x": [
          0.6309719529491862,
          0.7278708073662211,
          0.7278708073662211,
          0
         ],
         "xaxis": "x",
         "y": [
          -150,
          -150,
          -165,
          -165
         ],
         "yaxis": "y"
        },
        {
         "hoverinfo": "text",
         "marker": {
          "color": "rgb(40,35,35)"
         },
         "mode": "lines",
         "type": "scatter",
         "x": [
          0.7278708073662211,
          0.851958210687625,
          0.851958210687625,
          0
         ],
         "xaxis": "x",
         "y": [
          -157.5,
          -157.5,
          -175,
          -175
         ],
         "yaxis": "y"
        },
        {
         "hoverinfo": "text",
         "marker": {
          "color": "rgb(40,35,35)"
         },
         "mode": "lines",
         "type": "scatter",
         "x": [
          0,
          0.8599815650436604,
          0.8599815650436604,
          0.851958210687625
         ],
         "xaxis": "x",
         "y": [
          -135,
          -135,
          -166.25,
          -166.25
         ],
         "yaxis": "y"
        },
        {
         "hoverinfo": "text",
         "marker": {
          "color": "rgb(40,35,35)"
         },
         "mode": "lines",
         "type": "scatter",
         "x": [
          0.8599815650436604,
          0.9088317556410018,
          0.9088317556410018,
          0
         ],
         "xaxis": "x",
         "y": [
          -150.625,
          -150.625,
          -185,
          -185
         ],
         "yaxis": "y"
        },
        {
         "hoverinfo": "text",
         "marker": {
          "color": "rgb(40,35,35)"
         },
         "mode": "lines",
         "type": "scatter",
         "x": [
          0.9088317556410018,
          0.9411498928917131,
          0.9411498928917131,
          0
         ],
         "xaxis": "x",
         "y": [
          -167.8125,
          -167.8125,
          -195,
          -195
         ],
         "yaxis": "y"
        },
        {
         "hoverinfo": "text",
         "marker": {
          "color": "rgb(0,116,217)"
         },
         "mode": "lines",
         "type": "scatter",
         "x": [
          0.8657477526291475,
          1.0167607072094917,
          1.0167607072094917,
          0.9411498928917131
         ],
         "xaxis": "x",
         "y": [
          -120,
          -120,
          -181.40625,
          -181.40625
         ],
         "yaxis": "y"
        },
        {
         "hoverinfo": "text",
         "marker": {
          "color": "rgb(0,116,217)"
         },
         "mode": "lines",
         "type": "scatter",
         "x": [
          0.7944156166248404,
          1.0505200375932624,
          1.0505200375932624,
          1.0167607072094917
         ],
         "xaxis": "x",
         "y": [
          -100,
          -100,
          -150.703125,
          -150.703125
         ],
         "yaxis": "y"
        },
        {
         "hoverinfo": "text",
         "marker": {
          "color": "rgb(61,153,112)"
         },
         "mode": "lines",
         "type": "scatter",
         "x": [
          0,
          0.7379692078855825,
          0.7379692078855825,
          0
         ],
         "xaxis": "x",
         "y": [
          -215,
          -215,
          -225,
          -225
         ],
         "yaxis": "y"
        },
        {
         "hoverinfo": "text",
         "marker": {
          "color": "rgb(61,153,112)"
         },
         "mode": "lines",
         "type": "scatter",
         "x": [
          0.7379692078855825,
          0.7586424614487941,
          0.7586424614487941,
          0
         ],
         "xaxis": "x",
         "y": [
          -220,
          -220,
          -235,
          -235
         ],
         "yaxis": "y"
        },
        {
         "hoverinfo": "text",
         "marker": {
          "color": "rgb(61,153,112)"
         },
         "mode": "lines",
         "type": "scatter",
         "x": [
          0,
          0.8455058173629998,
          0.8455058173629998,
          0.7586424614487941
         ],
         "xaxis": "x",
         "y": [
          -205,
          -205,
          -227.5,
          -227.5
         ],
         "yaxis": "y"
        },
        {
         "hoverinfo": "text",
         "marker": {
          "color": "rgb(61,153,112)"
         },
         "mode": "lines",
         "type": "scatter",
         "x": [
          0.8455058173629998,
          0.88050446502512,
          0.88050446502512,
          0
         ],
         "xaxis": "x",
         "y": [
          -216.25,
          -216.25,
          -245,
          -245
         ],
         "yaxis": "y"
        },
        {
         "hoverinfo": "text",
         "marker": {
          "color": "rgb(61,153,112)"
         },
         "mode": "lines",
         "type": "scatter",
         "x": [
          0,
          0.8178781497318172,
          0.8178781497318172,
          0
         ],
         "xaxis": "x",
         "y": [
          -255,
          -255,
          -265,
          -265
         ],
         "yaxis": "y"
        },
        {
         "hoverinfo": "text",
         "marker": {
          "color": "rgb(61,153,112)"
         },
         "mode": "lines",
         "type": "scatter",
         "x": [
          0.88050446502512,
          0.996604838076482,
          0.996604838076482,
          0.8178781497318172
         ],
         "xaxis": "x",
         "y": [
          -230.625,
          -230.625,
          -260,
          -260
         ],
         "yaxis": "y"
        },
        {
         "hoverinfo": "text",
         "marker": {
          "color": "rgb(0,116,217)"
         },
         "mode": "lines",
         "type": "scatter",
         "x": [
          1.0505200375932624,
          1.0727010419568923,
          1.0727010419568923,
          0.996604838076482
         ],
         "xaxis": "x",
         "y": [
          -125.3515625,
          -125.3515625,
          -245.3125,
          -245.3125
         ],
         "yaxis": "y"
        },
        {
         "hoverinfo": "text",
         "marker": {
          "color": "rgb(255,65,54)"
         },
         "mode": "lines",
         "type": "scatter",
         "x": [
          0,
          0.6228940008273292,
          0.6228940008273292,
          0
         ],
         "xaxis": "x",
         "y": [
          -275,
          -275,
          -285,
          -285
         ],
         "yaxis": "y"
        },
        {
         "hoverinfo": "text",
         "marker": {
          "color": "rgb(0,116,217)"
         },
         "mode": "lines",
         "type": "scatter",
         "x": [
          1.0727010419568923,
          1.1822031708258867,
          1.1822031708258867,
          0.6228940008273292
         ],
         "xaxis": "x",
         "y": [
          -185.33203125,
          -185.33203125,
          -280,
          -280
         ],
         "yaxis": "y"
        },
        {
         "hoverinfo": "text",
         "marker": {
          "color": "rgb(0,116,217)"
         },
         "mode": "lines",
         "type": "scatter",
         "x": [
          1.0369879770162114,
          1.2235879288492229,
          1.2235879288492229,
          1.1822031708258867
         ],
         "xaxis": "x",
         "y": [
          -38.75,
          -38.75,
          -232.666015625,
          -232.666015625
         ],
         "yaxis": "y"
        },
        {
         "hoverinfo": "text",
         "marker": {
          "color": "rgb(35,205,205)"
         },
         "mode": "lines",
         "type": "scatter",
         "x": [
          0,
          0.6654751062052956,
          0.6654751062052956,
          0
         ],
         "xaxis": "x",
         "y": [
          -295,
          -295,
          -305,
          -305
         ],
         "yaxis": "y"
        },
        {
         "hoverinfo": "text",
         "marker": {
          "color": "rgb(61,153,112)"
         },
         "mode": "lines",
         "type": "scatter",
         "x": [
          0,
          0.77922965278261,
          0.77922965278261,
          0
         ],
         "xaxis": "x",
         "y": [
          -325,
          -325,
          -335,
          -335
         ],
         "yaxis": "y"
        },
        {
         "hoverinfo": "text",
         "marker": {
          "color": "rgb(61,153,112)"
         },
         "mode": "lines",
         "type": "scatter",
         "x": [
          0,
          0.9358070026832706,
          0.9358070026832706,
          0.77922965278261
         ],
         "xaxis": "x",
         "y": [
          -315,
          -315,
          -330,
          -330
         ],
         "yaxis": "y"
        },
        {
         "hoverinfo": "text",
         "marker": {
          "color": "rgb(255,65,54)"
         },
         "mode": "lines",
         "type": "scatter",
         "x": [
          0,
          0.8713136064629338,
          0.8713136064629338,
          0
         ],
         "xaxis": "x",
         "y": [
          -345,
          -345,
          -355,
          -355
         ],
         "yaxis": "y"
        },
        {
         "hoverinfo": "text",
         "marker": {
          "color": "rgb(0,116,217)"
         },
         "mode": "lines",
         "type": "scatter",
         "x": [
          0.9358070026832706,
          1.037485296363105,
          1.037485296363105,
          0.8713136064629338
         ],
         "xaxis": "x",
         "y": [
          -322.5,
          -322.5,
          -350,
          -350
         ],
         "yaxis": "y"
        },
        {
         "hoverinfo": "text",
         "marker": {
          "color": "rgb(35,205,205)"
         },
         "mode": "lines",
         "type": "scatter",
         "x": [
          0,
          0.8238943198155854,
          0.8238943198155854,
          0
         ],
         "xaxis": "x",
         "y": [
          -365,
          -365,
          -375,
          -375
         ],
         "yaxis": "y"
        },
        {
         "hoverinfo": "text",
         "marker": {
          "color": "rgb(133,20,75)"
         },
         "mode": "lines",
         "type": "scatter",
         "x": [
          0,
          0.8741719812386247,
          0.8741719812386247,
          0
         ],
         "xaxis": "x",
         "y": [
          -395,
          -395,
          -405,
          -405
         ],
         "yaxis": "y"
        },
        {
         "hoverinfo": "text",
         "marker": {
          "color": "rgb(133,20,75)"
         },
         "mode": "lines",
         "type": "scatter",
         "x": [
          0,
          0.9376449175070434,
          0.9376449175070434,
          0.8741719812386247
         ],
         "xaxis": "x",
         "y": [
          -385,
          -385,
          -400,
          -400
         ],
         "yaxis": "y"
        },
        {
         "hoverinfo": "text",
         "marker": {
          "color": "rgb(133,20,75)"
         },
         "mode": "lines",
         "type": "scatter",
         "x": [
          0,
          0.9218096212755238,
          0.9218096212755238,
          0
         ],
         "xaxis": "x",
         "y": [
          -415,
          -415,
          -425,
          -425
         ],
         "yaxis": "y"
        },
        {
         "hoverinfo": "text",
         "marker": {
          "color": "rgb(133,20,75)"
         },
         "mode": "lines",
         "type": "scatter",
         "x": [
          0,
          0.8791251073735532,
          0.8791251073735532,
          0
         ],
         "xaxis": "x",
         "y": [
          -435,
          -435,
          -445,
          -445
         ],
         "yaxis": "y"
        },
        {
         "hoverinfo": "text",
         "marker": {
          "color": "rgb(133,20,75)"
         },
         "mode": "lines",
         "type": "scatter",
         "x": [
          0,
          0.857552475890867,
          0.857552475890867,
          0
         ],
         "xaxis": "x",
         "y": [
          -455,
          -455,
          -465,
          -465
         ],
         "yaxis": "y"
        },
        {
         "hoverinfo": "text",
         "marker": {
          "color": "rgb(133,20,75)"
         },
         "mode": "lines",
         "type": "scatter",
         "x": [
          0.8791251073735532,
          0.9064379925193008,
          0.9064379925193008,
          0.857552475890867
         ],
         "xaxis": "x",
         "y": [
          -440,
          -440,
          -460,
          -460
         ],
         "yaxis": "y"
        },
        {
         "hoverinfo": "text",
         "marker": {
          "color": "rgb(133,20,75)"
         },
         "mode": "lines",
         "type": "scatter",
         "x": [
          0.9218096212755238,
          0.9414394046550323,
          0.9414394046550323,
          0.9064379925193008
         ],
         "xaxis": "x",
         "y": [
          -420,
          -420,
          -450,
          -450
         ],
         "yaxis": "y"
        },
        {
         "hoverinfo": "text",
         "marker": {
          "color": "rgb(133,20,75)"
         },
         "mode": "lines",
         "type": "scatter",
         "x": [
          0,
          0.9125427901158196,
          0.9125427901158196,
          0
         ],
         "xaxis": "x",
         "y": [
          -475,
          -475,
          -485,
          -485
         ],
         "yaxis": "y"
        },
        {
         "hoverinfo": "text",
         "marker": {
          "color": "rgb(133,20,75)"
         },
         "mode": "lines",
         "type": "scatter",
         "x": [
          0.9125427901158196,
          0.920447642289252,
          0.920447642289252,
          0
         ],
         "xaxis": "x",
         "y": [
          -480,
          -480,
          -495,
          -495
         ],
         "yaxis": "y"
        },
        {
         "hoverinfo": "text",
         "marker": {
          "color": "rgb(133,20,75)"
         },
         "mode": "lines",
         "type": "scatter",
         "x": [
          0,
          0.9097591008052447,
          0.9097591008052447,
          0
         ],
         "xaxis": "x",
         "y": [
          -505,
          -505,
          -515,
          -515
         ],
         "yaxis": "y"
        },
        {
         "hoverinfo": "text",
         "marker": {
          "color": "rgb(133,20,75)"
         },
         "mode": "lines",
         "type": "scatter",
         "x": [
          0.920447642289252,
          0.9369177823832003,
          0.9369177823832003,
          0.9097591008052447
         ],
         "xaxis": "x",
         "y": [
          -487.5,
          -487.5,
          -510,
          -510
         ],
         "yaxis": "y"
        },
        {
         "hoverinfo": "text",
         "marker": {
          "color": "rgb(133,20,75)"
         },
         "mode": "lines",
         "type": "scatter",
         "x": [
          0.9369177823832003,
          0.9662141532704187,
          0.9662141532704187,
          0
         ],
         "xaxis": "x",
         "y": [
          -498.75,
          -498.75,
          -525,
          -525
         ],
         "yaxis": "y"
        },
        {
         "hoverinfo": "text",
         "marker": {
          "color": "rgb(133,20,75)"
         },
         "mode": "lines",
         "type": "scatter",
         "x": [
          0.9414394046550323,
          0.975775524358632,
          0.975775524358632,
          0.9662141532704187
         ],
         "xaxis": "x",
         "y": [
          -435,
          -435,
          -511.875,
          -511.875
         ],
         "yaxis": "y"
        },
        {
         "hoverinfo": "text",
         "marker": {
          "color": "rgb(133,20,75)"
         },
         "mode": "lines",
         "type": "scatter",
         "x": [
          0.9376449175070434,
          0.9888978303774958,
          0.9888978303774958,
          0.975775524358632
         ],
         "xaxis": "x",
         "y": [
          -392.5,
          -392.5,
          -473.4375,
          -473.4375
         ],
         "yaxis": "y"
        },
        {
         "hoverinfo": "text",
         "marker": {
          "color": "rgb(255,220,0)"
         },
         "mode": "lines",
         "type": "scatter",
         "x": [
          0,
          0.791959761627222,
          0.791959761627222,
          0
         ],
         "xaxis": "x",
         "y": [
          -535,
          -535,
          -545,
          -545
         ],
         "yaxis": "y"
        },
        {
         "hoverinfo": "text",
         "marker": {
          "color": "rgb(0,116,217)"
         },
         "mode": "lines",
         "type": "scatter",
         "x": [
          0.9888978303774958,
          1.006089147568713,
          1.006089147568713,
          0.791959761627222
         ],
         "xaxis": "x",
         "y": [
          -432.96875,
          -432.96875,
          -540,
          -540
         ],
         "yaxis": "y"
        },
        {
         "hoverinfo": "text",
         "marker": {
          "color": "rgb(40,35,35)"
         },
         "mode": "lines",
         "type": "scatter",
         "x": [
          0,
          0.8504267180554668,
          0.8504267180554668,
          0
         ],
         "xaxis": "x",
         "y": [
          -565,
          -565,
          -575,
          -575
         ],
         "yaxis": "y"
        },
        {
         "hoverinfo": "text",
         "marker": {
          "color": "rgb(40,35,35)"
         },
         "mode": "lines",
         "type": "scatter",
         "x": [
          0,
          0.9070481342450901,
          0.9070481342450901,
          0.8504267180554668
         ],
         "xaxis": "x",
         "y": [
          -555,
          -555,
          -570,
          -570
         ],
         "yaxis": "y"
        },
        {
         "hoverinfo": "text",
         "marker": {
          "color": "rgb(40,35,35)"
         },
         "mode": "lines",
         "type": "scatter",
         "x": [
          0.9070481342450901,
          0.9634334067692986,
          0.9634334067692986,
          0
         ],
         "xaxis": "x",
         "y": [
          -562.5,
          -562.5,
          -585,
          -585
         ],
         "yaxis": "y"
        },
        {
         "hoverinfo": "text",
         "marker": {
          "color": "rgb(0,116,217)"
         },
         "mode": "lines",
         "type": "scatter",
         "x": [
          1.006089147568713,
          1.0133532705118802,
          1.0133532705118802,
          0.9634334067692986
         ],
         "xaxis": "x",
         "y": [
          -486.484375,
          -486.484375,
          -573.75,
          -573.75
         ],
         "yaxis": "y"
        },
        {
         "hoverinfo": "text",
         "marker": {
          "color": "rgb(0,116,217)"
         },
         "mode": "lines",
         "type": "scatter",
         "x": [
          0.8238943198155854,
          1.062029403102415,
          1.062029403102415,
          1.0133532705118802
         ],
         "xaxis": "x",
         "y": [
          -370,
          -370,
          -530.1171875,
          -530.1171875
         ],
         "yaxis": "y"
        },
        {
         "hoverinfo": "text",
         "marker": {
          "color": "rgb(0,116,217)"
         },
         "mode": "lines",
         "type": "scatter",
         "x": [
          1.037485296363105,
          1.0879816841599075,
          1.0879816841599075,
          1.062029403102415
         ],
         "xaxis": "x",
         "y": [
          -336.25,
          -336.25,
          -450.05859375,
          -450.05859375
         ],
         "yaxis": "y"
        },
        {
         "hoverinfo": "text",
         "marker": {
          "color": "rgb(61,153,112)"
         },
         "mode": "lines",
         "type": "scatter",
         "x": [
          0,
          0.9818331807227715,
          0.9818331807227715,
          0
         ],
         "xaxis": "x",
         "y": [
          -595,
          -595,
          -605,
          -605
         ],
         "yaxis": "y"
        },
        {
         "hoverinfo": "text",
         "marker": {
          "color": "rgb(61,153,112)"
         },
         "mode": "lines",
         "type": "scatter",
         "x": [
          0,
          0.8973852027825118,
          0.8973852027825118,
          0
         ],
         "xaxis": "x",
         "y": [
          -615,
          -615,
          -625,
          -625
         ],
         "yaxis": "y"
        },
        {
         "hoverinfo": "text",
         "marker": {
          "color": "rgb(61,153,112)"
         },
         "mode": "lines",
         "type": "scatter",
         "x": [
          0.9818331807227715,
          0.9937684255488981,
          0.9937684255488981,
          0.8973852027825118
         ],
         "xaxis": "x",
         "y": [
          -600,
          -600,
          -620,
          -620
         ],
         "yaxis": "y"
        },
        {
         "hoverinfo": "text",
         "marker": {
          "color": "rgb(255,65,54)"
         },
         "mode": "lines",
         "type": "scatter",
         "x": [
          0,
          0.8389048791475672,
          0.8389048791475672,
          0
         ],
         "xaxis": "x",
         "y": [
          -635,
          -635,
          -645,
          -645
         ],
         "yaxis": "y"
        },
        {
         "hoverinfo": "text",
         "marker": {
          "color": "rgb(35,205,205)"
         },
         "mode": "lines",
         "type": "scatter",
         "x": [
          0,
          0.8741622225058078,
          0.8741622225058078,
          0
         ],
         "xaxis": "x",
         "y": [
          -665,
          -665,
          -675,
          -675
         ],
         "yaxis": "y"
        },
        {
         "hoverinfo": "text",
         "marker": {
          "color": "rgb(35,205,205)"
         },
         "mode": "lines",
         "type": "scatter",
         "x": [
          0.8741622225058078,
          0.9160786402261037,
          0.9160786402261037,
          0
         ],
         "xaxis": "x",
         "y": [
          -670,
          -670,
          -685,
          -685
         ],
         "yaxis": "y"
        },
        {
         "hoverinfo": "text",
         "marker": {
          "color": "rgb(35,205,205)"
         },
         "mode": "lines",
         "type": "scatter",
         "x": [
          0,
          0.9505052741421617,
          0.9505052741421617,
          0.9160786402261037
         ],
         "xaxis": "x",
         "y": [
          -655,
          -655,
          -677.5,
          -677.5
         ],
         "yaxis": "y"
        },
        {
         "hoverinfo": "text",
         "marker": {
          "color": "rgb(61,153,112)"
         },
         "mode": "lines",
         "type": "scatter",
         "x": [
          0,
          0.9313563494400386,
          0.9313563494400386,
          0
         ],
         "xaxis": "x",
         "y": [
          -695,
          -695,
          -705,
          -705
         ],
         "yaxis": "y"
        },
        {
         "hoverinfo": "text",
         "marker": {
          "color": "rgb(61,153,112)"
         },
         "mode": "lines",
         "type": "scatter",
         "x": [
          0.9313563494400386,
          0.9698077928704314,
          0.9698077928704314,
          0
         ],
         "xaxis": "x",
         "y": [
          -700,
          -700,
          -715,
          -715
         ],
         "yaxis": "y"
        },
        {
         "hoverinfo": "text",
         "marker": {
          "color": "rgb(0,116,217)"
         },
         "mode": "lines",
         "type": "scatter",
         "x": [
          0.9505052741421617,
          1.0019352049560728,
          1.0019352049560728,
          0.9698077928704314
         ],
         "xaxis": "x",
         "y": [
          -666.25,
          -666.25,
          -707.5,
          -707.5
         ],
         "yaxis": "y"
        },
        {
         "hoverinfo": "text",
         "marker": {
          "color": "rgb(0,116,217)"
         },
         "mode": "lines",
         "type": "scatter",
         "x": [
          0.8389048791475672,
          1.021247446880476,
          1.021247446880476,
          1.0019352049560728
         ],
         "xaxis": "x",
         "y": [
          -640,
          -640,
          -686.875,
          -686.875
         ],
         "yaxis": "y"
        },
        {
         "hoverinfo": "text",
         "marker": {
          "color": "rgb(0,116,217)"
         },
         "mode": "lines",
         "type": "scatter",
         "x": [
          0.9937684255488981,
          1.0293761154844108,
          1.0293761154844108,
          1.021247446880476
         ],
         "xaxis": "x",
         "y": [
          -610,
          -610,
          -663.4375,
          -663.4375
         ],
         "yaxis": "y"
        },
        {
         "hoverinfo": "text",
         "marker": {
          "color": "rgb(255,65,54)"
         },
         "mode": "lines",
         "type": "scatter",
         "x": [
          0,
          0.8962037790943536,
          0.8962037790943536,
          0
         ],
         "xaxis": "x",
         "y": [
          -735,
          -735,
          -745,
          -745
         ],
         "yaxis": "y"
        },
        {
         "hoverinfo": "text",
         "marker": {
          "color": "rgb(255,65,54)"
         },
         "mode": "lines",
         "type": "scatter",
         "x": [
          0,
          0.9655212476409594,
          0.9655212476409594,
          0.8962037790943536
         ],
         "xaxis": "x",
         "y": [
          -725,
          -725,
          -740,
          -740
         ],
         "yaxis": "y"
        },
        {
         "hoverinfo": "text",
         "marker": {
          "color": "rgb(35,205,205)"
         },
         "mode": "lines",
         "type": "scatter",
         "x": [
          0,
          0.8758393681541459,
          0.8758393681541459,
          0
         ],
         "xaxis": "x",
         "y": [
          -755,
          -755,
          -765,
          -765
         ],
         "yaxis": "y"
        },
        {
         "hoverinfo": "text",
         "marker": {
          "color": "rgb(35,205,205)"
         },
         "mode": "lines",
         "type": "scatter",
         "x": [
          0.8758393681541459,
          0.9177673265062471,
          0.9177673265062471,
          0
         ],
         "xaxis": "x",
         "y": [
          -760,
          -760,
          -775,
          -775
         ],
         "yaxis": "y"
        },
        {
         "hoverinfo": "text",
         "marker": {
          "color": "rgb(0,116,217)"
         },
         "mode": "lines",
         "type": "scatter",
         "x": [
          0.9655212476409594,
          1.0085563490778715,
          1.0085563490778715,
          0.9177673265062471
         ],
         "xaxis": "x",
         "y": [
          -732.5,
          -732.5,
          -767.5,
          -767.5
         ],
         "yaxis": "y"
        },
        {
         "hoverinfo": "text",
         "marker": {
          "color": "rgb(0,116,217)"
         },
         "mode": "lines",
         "type": "scatter",
         "x": [
          1.0293761154844108,
          1.0468897876693448,
          1.0468897876693448,
          1.0085563490778715
         ],
         "xaxis": "x",
         "y": [
          -636.71875,
          -636.71875,
          -750,
          -750
         ],
         "yaxis": "y"
        },
        {
         "hoverinfo": "text",
         "marker": {
          "color": "rgb(133,20,75)"
         },
         "mode": "lines",
         "type": "scatter",
         "x": [
          0,
          0.851312329869536,
          0.851312329869536,
          0
         ],
         "xaxis": "x",
         "y": [
          -785,
          -785,
          -795,
          -795
         ],
         "yaxis": "y"
        },
        {
         "hoverinfo": "text",
         "marker": {
          "color": "rgb(0,116,217)"
         },
         "mode": "lines",
         "type": "scatter",
         "x": [
          1.0468897876693448,
          1.0555861645865874,
          1.0555861645865874,
          0.851312329869536
         ],
         "xaxis": "x",
         "y": [
          -693.359375,
          -693.359375,
          -790,
          -790
         ],
         "yaxis": "y"
        },
        {
         "hoverinfo": "text",
         "marker": {
          "color": "rgb(0,116,217)"
         },
         "mode": "lines",
         "type": "scatter",
         "x": [
          1.0879816841599075,
          1.1027431550074867,
          1.1027431550074867,
          1.0555861645865874
         ],
         "xaxis": "x",
         "y": [
          -393.154296875,
          -393.154296875,
          -741.6796875,
          -741.6796875
         ],
         "yaxis": "y"
        },
        {
         "hoverinfo": "text",
         "marker": {
          "color": "rgb(0,116,217)"
         },
         "mode": "lines",
         "type": "scatter",
         "x": [
          0.6654751062052956,
          1.1775701201714048,
          1.1775701201714048,
          1.1027431550074867
         ],
         "xaxis": "x",
         "y": [
          -300,
          -300,
          -567.4169921875,
          -567.4169921875
         ],
         "yaxis": "y"
        },
        {
         "hoverinfo": "text",
         "marker": {
          "color": "rgb(255,220,0)"
         },
         "mode": "lines",
         "type": "scatter",
         "x": [
          0,
          0.7034719842871132,
          0.7034719842871132,
          0
         ],
         "xaxis": "x",
         "y": [
          -815,
          -815,
          -825,
          -825
         ],
         "yaxis": "y"
        },
        {
         "hoverinfo": "text",
         "marker": {
          "color": "rgb(255,220,0)"
         },
         "mode": "lines",
         "type": "scatter",
         "x": [
          0,
          0.8152896285688497,
          0.8152896285688497,
          0.7034719842871132
         ],
         "xaxis": "x",
         "y": [
          -805,
          -805,
          -820,
          -820
         ],
         "yaxis": "y"
        },
        {
         "hoverinfo": "text",
         "marker": {
          "color": "rgb(255,220,0)"
         },
         "mode": "lines",
         "type": "scatter",
         "x": [
          0,
          0.6377452979820684,
          0.6377452979820684,
          0
         ],
         "xaxis": "x",
         "y": [
          -835,
          -835,
          -845,
          -845
         ],
         "yaxis": "y"
        },
        {
         "hoverinfo": "text",
         "marker": {
          "color": "rgb(255,220,0)"
         },
         "mode": "lines",
         "type": "scatter",
         "x": [
          0.6377452979820684,
          0.8556021683166519,
          0.8556021683166519,
          0
         ],
         "xaxis": "x",
         "y": [
          -840,
          -840,
          -855,
          -855
         ],
         "yaxis": "y"
        },
        {
         "hoverinfo": "text",
         "marker": {
          "color": "rgb(255,220,0)"
         },
         "mode": "lines",
         "type": "scatter",
         "x": [
          0.8152896285688497,
          0.9326188490897115,
          0.9326188490897115,
          0.8556021683166519
         ],
         "xaxis": "x",
         "y": [
          -812.5,
          -812.5,
          -847.5,
          -847.5
         ],
         "yaxis": "y"
        },
        {
         "hoverinfo": "text",
         "marker": {
          "color": "rgb(0,116,217)"
         },
         "mode": "lines",
         "type": "scatter",
         "x": [
          1.1775701201714048,
          1.252436818850252,
          1.252436818850252,
          0.9326188490897115
         ],
         "xaxis": "x",
         "y": [
          -433.70849609375,
          -433.70849609375,
          -830,
          -830
         ],
         "yaxis": "y"
        },
        {
         "hoverinfo": "text",
         "marker": {
          "color": "rgb(40,35,35)"
         },
         "mode": "lines",
         "type": "scatter",
         "x": [
          0,
          0.8301760740301423,
          0.8301760740301423,
          0
         ],
         "xaxis": "x",
         "y": [
          -875,
          -875,
          -885,
          -885
         ],
         "yaxis": "y"
        },
        {
         "hoverinfo": "text",
         "marker": {
          "color": "rgb(40,35,35)"
         },
         "mode": "lines",
         "type": "scatter",
         "x": [
          0,
          0.8754451179843975,
          0.8754451179843975,
          0.8301760740301423
         ],
         "xaxis": "x",
         "y": [
          -865,
          -865,
          -880,
          -880
         ],
         "yaxis": "y"
        },
        {
         "hoverinfo": "text",
         "marker": {
          "color": "rgb(40,35,35)"
         },
         "mode": "lines",
         "type": "scatter",
         "x": [
          0,
          0.5800324316010481,
          0.5800324316010481,
          0
         ],
         "xaxis": "x",
         "y": [
          -905,
          -905,
          -915,
          -915
         ],
         "yaxis": "y"
        },
        {
         "hoverinfo": "text",
         "marker": {
          "color": "rgb(40,35,35)"
         },
         "mode": "lines",
         "type": "scatter",
         "x": [
          0,
          0.695467302440986,
          0.695467302440986,
          0.5800324316010481
         ],
         "xaxis": "x",
         "y": [
          -895,
          -895,
          -910,
          -910
         ],
         "yaxis": "y"
        },
        {
         "hoverinfo": "text",
         "marker": {
          "color": "rgb(40,35,35)"
         },
         "mode": "lines",
         "type": "scatter",
         "x": [
          0.695467302440986,
          0.7911854907679335,
          0.7911854907679335,
          0
         ],
         "xaxis": "x",
         "y": [
          -902.5,
          -902.5,
          -925,
          -925
         ],
         "yaxis": "y"
        },
        {
         "hoverinfo": "text",
         "marker": {
          "color": "rgb(40,35,35)"
         },
         "mode": "lines",
         "type": "scatter",
         "x": [
          0.8754451179843975,
          0.9478128619285585,
          0.9478128619285585,
          0.7911854907679335
         ],
         "xaxis": "x",
         "y": [
          -872.5,
          -872.5,
          -913.75,
          -913.75
         ],
         "yaxis": "y"
        },
        {
         "hoverinfo": "text",
         "marker": {
          "color": "rgb(61,153,112)"
         },
         "mode": "lines",
         "type": "scatter",
         "x": [
          0,
          0.6385701029752708,
          0.6385701029752708,
          0
         ],
         "xaxis": "x",
         "y": [
          -945,
          -945,
          -955,
          -955
         ],
         "yaxis": "y"
        },
        {
         "hoverinfo": "text",
         "marker": {
          "color": "rgb(61,153,112)"
         },
         "mode": "lines",
         "type": "scatter",
         "x": [
          0,
          0.8272781438615906,
          0.8272781438615906,
          0.6385701029752708
         ],
         "xaxis": "x",
         "y": [
          -935,
          -935,
          -950,
          -950
         ],
         "yaxis": "y"
        },
        {
         "hoverinfo": "text",
         "marker": {
          "color": "rgb(0,116,217)"
         },
         "mode": "lines",
         "type": "scatter",
         "x": [
          0.9478128619285585,
          1.0507618091895687,
          1.0507618091895687,
          0.8272781438615906
         ],
         "xaxis": "x",
         "y": [
          -893.125,
          -893.125,
          -942.5,
          -942.5
         ],
         "yaxis": "y"
        },
        {
         "hoverinfo": "text",
         "marker": {
          "color": "rgb(255,65,54)"
         },
         "mode": "lines",
         "type": "scatter",
         "x": [
          0,
          0.8641387650700283,
          0.8641387650700283,
          0
         ],
         "xaxis": "x",
         "y": [
          -965,
          -965,
          -975,
          -975
         ],
         "yaxis": "y"
        },
        {
         "hoverinfo": "text",
         "marker": {
          "color": "rgb(255,65,54)"
         },
         "mode": "lines",
         "type": "scatter",
         "x": [
          0,
          0.8325671926624404,
          0.8325671926624404,
          0
         ],
         "xaxis": "x",
         "y": [
          -985,
          -985,
          -995,
          -995
         ],
         "yaxis": "y"
        },
        {
         "hoverinfo": "text",
         "marker": {
          "color": "rgb(255,65,54)"
         },
         "mode": "lines",
         "type": "scatter",
         "x": [
          0.8325671926624404,
          0.8893707708381943,
          0.8893707708381943,
          0
         ],
         "xaxis": "x",
         "y": [
          -990,
          -990,
          -1005,
          -1005
         ],
         "yaxis": "y"
        },
        {
         "hoverinfo": "text",
         "marker": {
          "color": "rgb(255,65,54)"
         },
         "mode": "lines",
         "type": "scatter",
         "x": [
          0.8641387650700283,
          0.9409660916389507,
          0.9409660916389507,
          0.8893707708381943
         ],
         "xaxis": "x",
         "y": [
          -970,
          -970,
          -997.5,
          -997.5
         ],
         "yaxis": "y"
        },
        {
         "hoverinfo": "text",
         "marker": {
          "color": "rgb(255,65,54)"
         },
         "mode": "lines",
         "type": "scatter",
         "x": [
          0,
          0.7591862990159193,
          0.7591862990159193,
          0
         ],
         "xaxis": "x",
         "y": [
          -1015,
          -1015,
          -1025,
          -1025
         ],
         "yaxis": "y"
        },
        {
         "hoverinfo": "text",
         "marker": {
          "color": "rgb(255,65,54)"
         },
         "mode": "lines",
         "type": "scatter",
         "x": [
          0.7591862990159193,
          0.7735759719253623,
          0.7735759719253623,
          0
         ],
         "xaxis": "x",
         "y": [
          -1020,
          -1020,
          -1035,
          -1035
         ],
         "yaxis": "y"
        },
        {
         "hoverinfo": "text",
         "marker": {
          "color": "rgb(255,65,54)"
         },
         "mode": "lines",
         "type": "scatter",
         "x": [
          0.9409660916389507,
          0.9823062211425598,
          0.9823062211425598,
          0.7735759719253623
         ],
         "xaxis": "x",
         "y": [
          -983.75,
          -983.75,
          -1027.5,
          -1027.5
         ],
         "yaxis": "y"
        },
        {
         "hoverinfo": "text",
         "marker": {
          "color": "rgb(35,205,205)"
         },
         "mode": "lines",
         "type": "scatter",
         "x": [
          0,
          0.7705824466162426,
          0.7705824466162426,
          0
         ],
         "xaxis": "x",
         "y": [
          -1055,
          -1055,
          -1065,
          -1065
         ],
         "yaxis": "y"
        },
        {
         "hoverinfo": "text",
         "marker": {
          "color": "rgb(35,205,205)"
         },
         "mode": "lines",
         "type": "scatter",
         "x": [
          0,
          0.790082792893437,
          0.790082792893437,
          0.7705824466162426
         ],
         "xaxis": "x",
         "y": [
          -1045,
          -1045,
          -1060,
          -1060
         ],
         "yaxis": "y"
        },
        {
         "hoverinfo": "text",
         "marker": {
          "color": "rgb(35,205,205)"
         },
         "mode": "lines",
         "type": "scatter",
         "x": [
          0.790082792893437,
          0.8350769069577909,
          0.8350769069577909,
          0
         ],
         "xaxis": "x",
         "y": [
          -1052.5,
          -1052.5,
          -1075,
          -1075
         ],
         "yaxis": "y"
        },
        {
         "hoverinfo": "text",
         "marker": {
          "color": "rgb(0,116,217)"
         },
         "mode": "lines",
         "type": "scatter",
         "x": [
          0.9823062211425598,
          1.107713496924574,
          1.107713496924574,
          0.8350769069577909
         ],
         "xaxis": "x",
         "y": [
          -1005.625,
          -1005.625,
          -1063.75,
          -1063.75
         ],
         "yaxis": "y"
        },
        {
         "hoverinfo": "text",
         "marker": {
          "color": "rgb(61,153,112)"
         },
         "mode": "lines",
         "type": "scatter",
         "x": [
          0,
          0.748675550606378,
          0.748675550606378,
          0
         ],
         "xaxis": "x",
         "y": [
          -1085,
          -1085,
          -1095,
          -1095
         ],
         "yaxis": "y"
        },
        {
         "hoverinfo": "text",
         "marker": {
          "color": "rgb(255,65,54)"
         },
         "mode": "lines",
         "type": "scatter",
         "x": [
          0,
          0.6986715048744914,
          0.6986715048744914,
          0
         ],
         "xaxis": "x",
         "y": [
          -1115,
          -1115,
          -1125,
          -1125
         ],
         "yaxis": "y"
        },
        {
         "hoverinfo": "text",
         "marker": {
          "color": "rgb(255,65,54)"
         },
         "mode": "lines",
         "type": "scatter",
         "x": [
          0,
          0.8638142285065612,
          0.8638142285065612,
          0.6986715048744914
         ],
         "xaxis": "x",
         "y": [
          -1105,
          -1105,
          -1120,
          -1120
         ],
         "yaxis": "y"
        },
        {
         "hoverinfo": "text",
         "marker": {
          "color": "rgb(255,65,54)"
         },
         "mode": "lines",
         "type": "scatter",
         "x": [
          0.8638142285065612,
          0.917072687873157,
          0.917072687873157,
          0
         ],
         "xaxis": "x",
         "y": [
          -1112.5,
          -1112.5,
          -1135,
          -1135
         ],
         "yaxis": "y"
        },
        {
         "hoverinfo": "text",
         "marker": {
          "color": "rgb(0,116,217)"
         },
         "mode": "lines",
         "type": "scatter",
         "x": [
          0.748675550606378,
          1.038188076381298,
          1.038188076381298,
          0.917072687873157
         ],
         "xaxis": "x",
         "y": [
          -1090,
          -1090,
          -1123.75,
          -1123.75
         ],
         "yaxis": "y"
        },
        {
         "hoverinfo": "text",
         "marker": {
          "color": "rgb(0,116,217)"
         },
         "mode": "lines",
         "type": "scatter",
         "x": [
          1.107713496924574,
          1.1339862417537527,
          1.1339862417537527,
          1.038188076381298
         ],
         "xaxis": "x",
         "y": [
          -1034.6875,
          -1034.6875,
          -1106.875,
          -1106.875
         ],
         "yaxis": "y"
        },
        {
         "hoverinfo": "text",
         "marker": {
          "color": "rgb(0,116,217)"
         },
         "mode": "lines",
         "type": "scatter",
         "x": [
          1.0507618091895687,
          1.156560762463851,
          1.156560762463851,
          1.1339862417537527
         ],
         "xaxis": "x",
         "y": [
          -917.8125,
          -917.8125,
          -1070.78125,
          -1070.78125
         ],
         "yaxis": "y"
        },
        {
         "hoverinfo": "text",
         "marker": {
          "color": "rgb(35,205,205)"
         },
         "mode": "lines",
         "type": "scatter",
         "x": [
          0,
          0.8156193779013926,
          0.8156193779013926,
          0
         ],
         "xaxis": "x",
         "y": [
          -1155,
          -1155,
          -1165,
          -1165
         ],
         "yaxis": "y"
        },
        {
         "hoverinfo": "text",
         "marker": {
          "color": "rgb(35,205,205)"
         },
         "mode": "lines",
         "type": "scatter",
         "x": [
          0,
          0.9141311766505077,
          0.9141311766505077,
          0.8156193779013926
         ],
         "xaxis": "x",
         "y": [
          -1145,
          -1145,
          -1160,
          -1160
         ],
         "yaxis": "y"
        },
        {
         "hoverinfo": "text",
         "marker": {
          "color": "rgb(35,205,205)"
         },
         "mode": "lines",
         "type": "scatter",
         "x": [
          0,
          0.8890641958366982,
          0.8890641958366982,
          0
         ],
         "xaxis": "x",
         "y": [
          -1175,
          -1175,
          -1185,
          -1185
         ],
         "yaxis": "y"
        },
        {
         "hoverinfo": "text",
         "marker": {
          "color": "rgb(35,205,205)"
         },
         "mode": "lines",
         "type": "scatter",
         "x": [
          0.9141311766505077,
          0.9488609344057074,
          0.9488609344057074,
          0.8890641958366982
         ],
         "xaxis": "x",
         "y": [
          -1152.5,
          -1152.5,
          -1180,
          -1180
         ],
         "yaxis": "y"
        },
        {
         "hoverinfo": "text",
         "marker": {
          "color": "rgb(133,20,75)"
         },
         "mode": "lines",
         "type": "scatter",
         "x": [
          0,
          0.6785606976579148,
          0.6785606976579148,
          0
         ],
         "xaxis": "x",
         "y": [
          -1195,
          -1195,
          -1205,
          -1205
         ],
         "yaxis": "y"
        },
        {
         "hoverinfo": "text",
         "marker": {
          "color": "rgb(133,20,75)"
         },
         "mode": "lines",
         "type": "scatter",
         "x": [
          0.6785606976579148,
          0.8127527585647705,
          0.8127527585647705,
          0
         ],
         "xaxis": "x",
         "y": [
          -1200,
          -1200,
          -1215,
          -1215
         ],
         "yaxis": "y"
        },
        {
         "hoverinfo": "text",
         "marker": {
          "color": "rgb(133,20,75)"
         },
         "mode": "lines",
         "type": "scatter",
         "x": [
          0,
          0.74775086364646,
          0.74775086364646,
          0
         ],
         "xaxis": "x",
         "y": [
          -1225,
          -1225,
          -1235,
          -1235
         ],
         "yaxis": "y"
        },
        {
         "hoverinfo": "text",
         "marker": {
          "color": "rgb(133,20,75)"
         },
         "mode": "lines",
         "type": "scatter",
         "x": [
          0.8127527585647705,
          0.9951329046651394,
          0.9951329046651394,
          0.74775086364646
         ],
         "xaxis": "x",
         "y": [
          -1207.5,
          -1207.5,
          -1230,
          -1230
         ],
         "yaxis": "y"
        },
        {
         "hoverinfo": "text",
         "marker": {
          "color": "rgb(0,116,217)"
         },
         "mode": "lines",
         "type": "scatter",
         "x": [
          0.9488609344057074,
          1.0366325902170552,
          1.0366325902170552,
          0.9951329046651394
         ],
         "xaxis": "x",
         "y": [
          -1166.25,
          -1166.25,
          -1218.75,
          -1218.75
         ],
         "yaxis": "y"
        },
        {
         "hoverinfo": "text",
         "marker": {
          "color": "rgb(255,220,0)"
         },
         "mode": "lines",
         "type": "scatter",
         "x": [
          0,
          0.8401294671399034,
          0.8401294671399034,
          0
         ],
         "xaxis": "x",
         "y": [
          -1245,
          -1245,
          -1255,
          -1255
         ],
         "yaxis": "y"
        },
        {
         "hoverinfo": "text",
         "marker": {
          "color": "rgb(255,220,0)"
         },
         "mode": "lines",
         "type": "scatter",
         "x": [
          0.8401294671399034,
          0.9100742270870832,
          0.9100742270870832,
          0
         ],
         "xaxis": "x",
         "y": [
          -1250,
          -1250,
          -1265,
          -1265
         ],
         "yaxis": "y"
        },
        {
         "hoverinfo": "text",
         "marker": {
          "color": "rgb(40,35,35)"
         },
         "mode": "lines",
         "type": "scatter",
         "x": [
          0,
          0.7544712833151787,
          0.7544712833151787,
          0
         ],
         "xaxis": "x",
         "y": [
          -1275,
          -1275,
          -1285,
          -1285
         ],
         "yaxis": "y"
        },
        {
         "hoverinfo": "text",
         "marker": {
          "color": "rgb(40,35,35)"
         },
         "mode": "lines",
         "type": "scatter",
         "x": [
          0.7544712833151787,
          0.8532693941014171,
          0.8532693941014171,
          0
         ],
         "xaxis": "x",
         "y": [
          -1280,
          -1280,
          -1295,
          -1295
         ],
         "yaxis": "y"
        },
        {
         "hoverinfo": "text",
         "marker": {
          "color": "rgb(40,35,35)"
         },
         "mode": "lines",
         "type": "scatter",
         "x": [
          0,
          0.7031922467868637,
          0.7031922467868637,
          0
         ],
         "xaxis": "x",
         "y": [
          -1315,
          -1315,
          -1325,
          -1325
         ],
         "yaxis": "y"
        },
        {
         "hoverinfo": "text",
         "marker": {
          "color": "rgb(40,35,35)"
         },
         "mode": "lines",
         "type": "scatter",
         "x": [
          0,
          0.7300164568618297,
          0.7300164568618297,
          0.7031922467868637
         ],
         "xaxis": "x",
         "y": [
          -1305,
          -1305,
          -1320,
          -1320
         ],
         "yaxis": "y"
        },
        {
         "hoverinfo": "text",
         "marker": {
          "color": "rgb(40,35,35)"
         },
         "mode": "lines",
         "type": "scatter",
         "x": [
          0,
          0.610852110548538,
          0.610852110548538,
          0
         ],
         "xaxis": "x",
         "y": [
          -1345,
          -1345,
          -1355,
          -1355
         ],
         "yaxis": "y"
        },
        {
         "hoverinfo": "text",
         "marker": {
          "color": "rgb(40,35,35)"
         },
         "mode": "lines",
         "type": "scatter",
         "x": [
          0,
          0.6683795122576107,
          0.6683795122576107,
          0.610852110548538
         ],
         "xaxis": "x",
         "y": [
          -1335,
          -1335,
          -1350,
          -1350
         ],
         "yaxis": "y"
        },
        {
         "hoverinfo": "text",
         "marker": {
          "color": "rgb(40,35,35)"
         },
         "mode": "lines",
         "type": "scatter",
         "x": [
          0.6683795122576107,
          0.7798547468723184,
          0.7798547468723184,
          0
         ],
         "xaxis": "x",
         "y": [
          -1342.5,
          -1342.5,
          -1365,
          -1365
         ],
         "yaxis": "y"
        },
        {
         "hoverinfo": "text",
         "marker": {
          "color": "rgb(40,35,35)"
         },
         "mode": "lines",
         "type": "scatter",
         "x": [
          0.7300164568618297,
          0.8249188728235899,
          0.8249188728235899,
          0.7798547468723184
         ],
         "xaxis": "x",
         "y": [
          -1312.5,
          -1312.5,
          -1353.75,
          -1353.75
         ],
         "yaxis": "y"
        },
        {
         "hoverinfo": "text",
         "marker": {
          "color": "rgb(40,35,35)"
         },
         "mode": "lines",
         "type": "scatter",
         "x": [
          0.8532693941014171,
          0.9034230293542382,
          0.9034230293542382,
          0.8249188728235899
         ],
         "xaxis": "x",
         "y": [
          -1287.5,
          -1287.5,
          -1333.125,
          -1333.125
         ],
         "yaxis": "y"
        },
        {
         "hoverinfo": "text",
         "marker": {
          "color": "rgb(40,35,35)"
         },
         "mode": "lines",
         "type": "scatter",
         "x": [
          0.9034230293542382,
          0.9351199312292668,
          0.9351199312292668,
          0
         ],
         "xaxis": "x",
         "y": [
          -1310.3125,
          -1310.3125,
          -1375,
          -1375
         ],
         "yaxis": "y"
        },
        {
         "hoverinfo": "text",
         "marker": {
          "color": "rgb(0,116,217)"
         },
         "mode": "lines",
         "type": "scatter",
         "x": [
          0.9100742270870832,
          1.0131375013218307,
          1.0131375013218307,
          0.9351199312292668
         ],
         "xaxis": "x",
         "y": [
          -1257.5,
          -1257.5,
          -1342.65625,
          -1342.65625
         ],
         "yaxis": "y"
        },
        {
         "hoverinfo": "text",
         "marker": {
          "color": "rgb(0,116,217)"
         },
         "mode": "lines",
         "type": "scatter",
         "x": [
          1.0366325902170552,
          1.0844251909310485,
          1.0844251909310485,
          1.0131375013218307
         ],
         "xaxis": "x",
         "y": [
          -1192.5,
          -1192.5,
          -1300.078125,
          -1300.078125
         ],
         "yaxis": "y"
        },
        {
         "hoverinfo": "text",
         "marker": {
          "color": "rgb(61,153,112)"
         },
         "mode": "lines",
         "type": "scatter",
         "x": [
          0,
          0.642665199074014,
          0.642665199074014,
          0
         ],
         "xaxis": "x",
         "y": [
          -1385,
          -1385,
          -1395,
          -1395
         ],
         "yaxis": "y"
        },
        {
         "hoverinfo": "text",
         "marker": {
          "color": "rgb(61,153,112)"
         },
         "mode": "lines",
         "type": "scatter",
         "x": [
          0.642665199074014,
          0.8416957628274646,
          0.8416957628274646,
          0
         ],
         "xaxis": "x",
         "y": [
          -1390,
          -1390,
          -1405,
          -1405
         ],
         "yaxis": "y"
        },
        {
         "hoverinfo": "text",
         "marker": {
          "color": "rgb(0,116,217)"
         },
         "mode": "lines",
         "type": "scatter",
         "x": [
          1.0844251909310485,
          1.1527313427351993,
          1.1527313427351993,
          0.8416957628274646
         ],
         "xaxis": "x",
         "y": [
          -1246.2890625,
          -1246.2890625,
          -1397.5,
          -1397.5
         ],
         "yaxis": "y"
        },
        {
         "hoverinfo": "text",
         "marker": {
          "color": "rgb(0,116,217)"
         },
         "mode": "lines",
         "type": "scatter",
         "x": [
          1.156560762463851,
          1.240498914852567,
          1.240498914852567,
          1.1527313427351993
         ],
         "xaxis": "x",
         "y": [
          -994.296875,
          -994.296875,
          -1321.89453125,
          -1321.89453125
         ],
         "yaxis": "y"
        },
        {
         "hoverinfo": "text",
         "marker": {
          "color": "rgb(0,116,217)"
         },
         "mode": "lines",
         "type": "scatter",
         "x": [
          1.252436818850252,
          1.3264996053071716,
          1.3264996053071716,
          1.240498914852567
         ],
         "xaxis": "x",
         "y": [
          -631.854248046875,
          -631.854248046875,
          -1158.095703125,
          -1158.095703125
         ],
         "yaxis": "y"
        },
        {
         "hoverinfo": "text",
         "marker": {
          "color": "rgb(0,116,217)"
         },
         "mode": "lines",
         "type": "scatter",
         "x": [
          1.2235879288492229,
          1.4567762767412902,
          1.4567762767412902,
          1.3264996053071716
         ],
         "xaxis": "x",
         "y": [
          -135.7080078125,
          -135.7080078125,
          -894.9749755859375,
          -894.9749755859375
         ],
         "yaxis": "y"
        }
       ],
       "layout": {
        "autosize": false,
        "height": 2315,
        "hoverlabel": {
         "bgcolor": "white",
         "font": {
          "family": "Rockwell",
          "size": 16
         }
        },
        "hovermode": "closest",
        "plot_bgcolor": "#ECEFF1",
        "showlegend": false,
        "template": {
         "data": {
          "bar": [
           {
            "error_x": {
             "color": "#2a3f5f"
            },
            "error_y": {
             "color": "#2a3f5f"
            },
            "marker": {
             "line": {
              "color": "white",
              "width": 0.5
             },
             "pattern": {
              "fillmode": "overlay",
              "size": 10,
              "solidity": 0.2
             }
            },
            "type": "bar"
           }
          ],
          "barpolar": [
           {
            "marker": {
             "line": {
              "color": "white",
              "width": 0.5
             },
             "pattern": {
              "fillmode": "overlay",
              "size": 10,
              "solidity": 0.2
             }
            },
            "type": "barpolar"
           }
          ],
          "carpet": [
           {
            "aaxis": {
             "endlinecolor": "#2a3f5f",
             "gridcolor": "#C8D4E3",
             "linecolor": "#C8D4E3",
             "minorgridcolor": "#C8D4E3",
             "startlinecolor": "#2a3f5f"
            },
            "baxis": {
             "endlinecolor": "#2a3f5f",
             "gridcolor": "#C8D4E3",
             "linecolor": "#C8D4E3",
             "minorgridcolor": "#C8D4E3",
             "startlinecolor": "#2a3f5f"
            },
            "type": "carpet"
           }
          ],
          "choropleth": [
           {
            "colorbar": {
             "outlinewidth": 0,
             "ticks": ""
            },
            "type": "choropleth"
           }
          ],
          "contour": [
           {
            "colorbar": {
             "outlinewidth": 0,
             "ticks": ""
            },
            "colorscale": [
             [
              0,
              "#0d0887"
             ],
             [
              0.1111111111111111,
              "#46039f"
             ],
             [
              0.2222222222222222,
              "#7201a8"
             ],
             [
              0.3333333333333333,
              "#9c179e"
             ],
             [
              0.4444444444444444,
              "#bd3786"
             ],
             [
              0.5555555555555556,
              "#d8576b"
             ],
             [
              0.6666666666666666,
              "#ed7953"
             ],
             [
              0.7777777777777778,
              "#fb9f3a"
             ],
             [
              0.8888888888888888,
              "#fdca26"
             ],
             [
              1,
              "#f0f921"
             ]
            ],
            "type": "contour"
           }
          ],
          "contourcarpet": [
           {
            "colorbar": {
             "outlinewidth": 0,
             "ticks": ""
            },
            "type": "contourcarpet"
           }
          ],
          "heatmap": [
           {
            "colorbar": {
             "outlinewidth": 0,
             "ticks": ""
            },
            "colorscale": [
             [
              0,
              "#0d0887"
             ],
             [
              0.1111111111111111,
              "#46039f"
             ],
             [
              0.2222222222222222,
              "#7201a8"
             ],
             [
              0.3333333333333333,
              "#9c179e"
             ],
             [
              0.4444444444444444,
              "#bd3786"
             ],
             [
              0.5555555555555556,
              "#d8576b"
             ],
             [
              0.6666666666666666,
              "#ed7953"
             ],
             [
              0.7777777777777778,
              "#fb9f3a"
             ],
             [
              0.8888888888888888,
              "#fdca26"
             ],
             [
              1,
              "#f0f921"
             ]
            ],
            "type": "heatmap"
           }
          ],
          "heatmapgl": [
           {
            "colorbar": {
             "outlinewidth": 0,
             "ticks": ""
            },
            "colorscale": [
             [
              0,
              "#0d0887"
             ],
             [
              0.1111111111111111,
              "#46039f"
             ],
             [
              0.2222222222222222,
              "#7201a8"
             ],
             [
              0.3333333333333333,
              "#9c179e"
             ],
             [
              0.4444444444444444,
              "#bd3786"
             ],
             [
              0.5555555555555556,
              "#d8576b"
             ],
             [
              0.6666666666666666,
              "#ed7953"
             ],
             [
              0.7777777777777778,
              "#fb9f3a"
             ],
             [
              0.8888888888888888,
              "#fdca26"
             ],
             [
              1,
              "#f0f921"
             ]
            ],
            "type": "heatmapgl"
           }
          ],
          "histogram": [
           {
            "marker": {
             "pattern": {
              "fillmode": "overlay",
              "size": 10,
              "solidity": 0.2
             }
            },
            "type": "histogram"
           }
          ],
          "histogram2d": [
           {
            "colorbar": {
             "outlinewidth": 0,
             "ticks": ""
            },
            "colorscale": [
             [
              0,
              "#0d0887"
             ],
             [
              0.1111111111111111,
              "#46039f"
             ],
             [
              0.2222222222222222,
              "#7201a8"
             ],
             [
              0.3333333333333333,
              "#9c179e"
             ],
             [
              0.4444444444444444,
              "#bd3786"
             ],
             [
              0.5555555555555556,
              "#d8576b"
             ],
             [
              0.6666666666666666,
              "#ed7953"
             ],
             [
              0.7777777777777778,
              "#fb9f3a"
             ],
             [
              0.8888888888888888,
              "#fdca26"
             ],
             [
              1,
              "#f0f921"
             ]
            ],
            "type": "histogram2d"
           }
          ],
          "histogram2dcontour": [
           {
            "colorbar": {
             "outlinewidth": 0,
             "ticks": ""
            },
            "colorscale": [
             [
              0,
              "#0d0887"
             ],
             [
              0.1111111111111111,
              "#46039f"
             ],
             [
              0.2222222222222222,
              "#7201a8"
             ],
             [
              0.3333333333333333,
              "#9c179e"
             ],
             [
              0.4444444444444444,
              "#bd3786"
             ],
             [
              0.5555555555555556,
              "#d8576b"
             ],
             [
              0.6666666666666666,
              "#ed7953"
             ],
             [
              0.7777777777777778,
              "#fb9f3a"
             ],
             [
              0.8888888888888888,
              "#fdca26"
             ],
             [
              1,
              "#f0f921"
             ]
            ],
            "type": "histogram2dcontour"
           }
          ],
          "mesh3d": [
           {
            "colorbar": {
             "outlinewidth": 0,
             "ticks": ""
            },
            "type": "mesh3d"
           }
          ],
          "parcoords": [
           {
            "line": {
             "colorbar": {
              "outlinewidth": 0,
              "ticks": ""
             }
            },
            "type": "parcoords"
           }
          ],
          "pie": [
           {
            "automargin": true,
            "type": "pie"
           }
          ],
          "scatter": [
           {
            "fillpattern": {
             "fillmode": "overlay",
             "size": 10,
             "solidity": 0.2
            },
            "type": "scatter"
           }
          ],
          "scatter3d": [
           {
            "line": {
             "colorbar": {
              "outlinewidth": 0,
              "ticks": ""
             }
            },
            "marker": {
             "colorbar": {
              "outlinewidth": 0,
              "ticks": ""
             }
            },
            "type": "scatter3d"
           }
          ],
          "scattercarpet": [
           {
            "marker": {
             "colorbar": {
              "outlinewidth": 0,
              "ticks": ""
             }
            },
            "type": "scattercarpet"
           }
          ],
          "scattergeo": [
           {
            "marker": {
             "colorbar": {
              "outlinewidth": 0,
              "ticks": ""
             }
            },
            "type": "scattergeo"
           }
          ],
          "scattergl": [
           {
            "marker": {
             "colorbar": {
              "outlinewidth": 0,
              "ticks": ""
             }
            },
            "type": "scattergl"
           }
          ],
          "scattermapbox": [
           {
            "marker": {
             "colorbar": {
              "outlinewidth": 0,
              "ticks": ""
             }
            },
            "type": "scattermapbox"
           }
          ],
          "scatterpolar": [
           {
            "marker": {
             "colorbar": {
              "outlinewidth": 0,
              "ticks": ""
             }
            },
            "type": "scatterpolar"
           }
          ],
          "scatterpolargl": [
           {
            "marker": {
             "colorbar": {
              "outlinewidth": 0,
              "ticks": ""
             }
            },
            "type": "scatterpolargl"
           }
          ],
          "scatterternary": [
           {
            "marker": {
             "colorbar": {
              "outlinewidth": 0,
              "ticks": ""
             }
            },
            "type": "scatterternary"
           }
          ],
          "surface": [
           {
            "colorbar": {
             "outlinewidth": 0,
             "ticks": ""
            },
            "colorscale": [
             [
              0,
              "#0d0887"
             ],
             [
              0.1111111111111111,
              "#46039f"
             ],
             [
              0.2222222222222222,
              "#7201a8"
             ],
             [
              0.3333333333333333,
              "#9c179e"
             ],
             [
              0.4444444444444444,
              "#bd3786"
             ],
             [
              0.5555555555555556,
              "#d8576b"
             ],
             [
              0.6666666666666666,
              "#ed7953"
             ],
             [
              0.7777777777777778,
              "#fb9f3a"
             ],
             [
              0.8888888888888888,
              "#fdca26"
             ],
             [
              1,
              "#f0f921"
             ]
            ],
            "type": "surface"
           }
          ],
          "table": [
           {
            "cells": {
             "fill": {
              "color": "#EBF0F8"
             },
             "line": {
              "color": "white"
             }
            },
            "header": {
             "fill": {
              "color": "#C8D4E3"
             },
             "line": {
              "color": "white"
             }
            },
            "type": "table"
           }
          ]
         },
         "layout": {
          "annotationdefaults": {
           "arrowcolor": "#2a3f5f",
           "arrowhead": 0,
           "arrowwidth": 1
          },
          "autotypenumbers": "strict",
          "coloraxis": {
           "colorbar": {
            "outlinewidth": 0,
            "ticks": ""
           }
          },
          "colorscale": {
           "diverging": [
            [
             0,
             "#8e0152"
            ],
            [
             0.1,
             "#c51b7d"
            ],
            [
             0.2,
             "#de77ae"
            ],
            [
             0.3,
             "#f1b6da"
            ],
            [
             0.4,
             "#fde0ef"
            ],
            [
             0.5,
             "#f7f7f7"
            ],
            [
             0.6,
             "#e6f5d0"
            ],
            [
             0.7,
             "#b8e186"
            ],
            [
             0.8,
             "#7fbc41"
            ],
            [
             0.9,
             "#4d9221"
            ],
            [
             1,
             "#276419"
            ]
           ],
           "sequential": [
            [
             0,
             "#0d0887"
            ],
            [
             0.1111111111111111,
             "#46039f"
            ],
            [
             0.2222222222222222,
             "#7201a8"
            ],
            [
             0.3333333333333333,
             "#9c179e"
            ],
            [
             0.4444444444444444,
             "#bd3786"
            ],
            [
             0.5555555555555556,
             "#d8576b"
            ],
            [
             0.6666666666666666,
             "#ed7953"
            ],
            [
             0.7777777777777778,
             "#fb9f3a"
            ],
            [
             0.8888888888888888,
             "#fdca26"
            ],
            [
             1,
             "#f0f921"
            ]
           ],
           "sequentialminus": [
            [
             0,
             "#0d0887"
            ],
            [
             0.1111111111111111,
             "#46039f"
            ],
            [
             0.2222222222222222,
             "#7201a8"
            ],
            [
             0.3333333333333333,
             "#9c179e"
            ],
            [
             0.4444444444444444,
             "#bd3786"
            ],
            [
             0.5555555555555556,
             "#d8576b"
            ],
            [
             0.6666666666666666,
             "#ed7953"
            ],
            [
             0.7777777777777778,
             "#fb9f3a"
            ],
            [
             0.8888888888888888,
             "#fdca26"
            ],
            [
             1,
             "#f0f921"
            ]
           ]
          },
          "colorway": [
           "#636efa",
           "#EF553B",
           "#00cc96",
           "#ab63fa",
           "#FFA15A",
           "#19d3f3",
           "#FF6692",
           "#B6E880",
           "#FF97FF",
           "#FECB52"
          ],
          "font": {
           "color": "#2a3f5f"
          },
          "geo": {
           "bgcolor": "white",
           "lakecolor": "white",
           "landcolor": "white",
           "showlakes": true,
           "showland": true,
           "subunitcolor": "#C8D4E3"
          },
          "hoverlabel": {
           "align": "left"
          },
          "hovermode": "closest",
          "mapbox": {
           "style": "light"
          },
          "paper_bgcolor": "white",
          "plot_bgcolor": "white",
          "polar": {
           "angularaxis": {
            "gridcolor": "#EBF0F8",
            "linecolor": "#EBF0F8",
            "ticks": ""
           },
           "bgcolor": "white",
           "radialaxis": {
            "gridcolor": "#EBF0F8",
            "linecolor": "#EBF0F8",
            "ticks": ""
           }
          },
          "scene": {
           "xaxis": {
            "backgroundcolor": "white",
            "gridcolor": "#DFE8F3",
            "gridwidth": 2,
            "linecolor": "#EBF0F8",
            "showbackground": true,
            "ticks": "",
            "zerolinecolor": "#EBF0F8"
           },
           "yaxis": {
            "backgroundcolor": "white",
            "gridcolor": "#DFE8F3",
            "gridwidth": 2,
            "linecolor": "#EBF0F8",
            "showbackground": true,
            "ticks": "",
            "zerolinecolor": "#EBF0F8"
           },
           "zaxis": {
            "backgroundcolor": "white",
            "gridcolor": "#DFE8F3",
            "gridwidth": 2,
            "linecolor": "#EBF0F8",
            "showbackground": true,
            "ticks": "",
            "zerolinecolor": "#EBF0F8"
           }
          },
          "shapedefaults": {
           "line": {
            "color": "#2a3f5f"
           }
          },
          "ternary": {
           "aaxis": {
            "gridcolor": "#DFE8F3",
            "linecolor": "#A2B1C6",
            "ticks": ""
           },
           "baxis": {
            "gridcolor": "#DFE8F3",
            "linecolor": "#A2B1C6",
            "ticks": ""
           },
           "bgcolor": "white",
           "caxis": {
            "gridcolor": "#DFE8F3",
            "linecolor": "#A2B1C6",
            "ticks": ""
           }
          },
          "title": {
           "x": 0.05
          },
          "xaxis": {
           "automargin": true,
           "gridcolor": "#EBF0F8",
           "linecolor": "#EBF0F8",
           "ticks": "",
           "title": {
            "standoff": 15
           },
           "zerolinecolor": "#EBF0F8",
           "zerolinewidth": 2
          },
          "yaxis": {
           "automargin": true,
           "gridcolor": "#EBF0F8",
           "linecolor": "#EBF0F8",
           "ticks": "",
           "title": {
            "standoff": 15
           },
           "zerolinecolor": "#EBF0F8",
           "zerolinewidth": 2
          }
         }
        },
        "title": {
         "font": {
          "color": "Black",
          "size": 22
         },
         "text": "<b>Hierarchical Clustering</b>",
         "x": 0.5,
         "xanchor": "center",
         "yanchor": "top"
        },
        "width": 1000,
        "xaxis": {
         "mirror": "allticks",
         "rangemode": "tozero",
         "showgrid": false,
         "showline": true,
         "showticklabels": true,
         "ticks": "outside",
         "type": "linear",
         "zeroline": false
        },
        "yaxis": {
         "mirror": "allticks",
         "range": [
          -1410,
          0
         ],
         "rangemode": "tozero",
         "showgrid": false,
         "showline": true,
         "showticklabels": true,
         "tickmode": "array",
         "ticks": "outside",
         "ticktext": [
          "132_order_confirmation_placed_shipped",
          "21_jsp_method_page_servlet",
          "99_seminar_registration_invite_thursday",
          "115_wap_push_toolkit_url",
          "23_check_checks_cheque_amount",
          "112_certificates_verisign_certificate_exalink",
          "65_html_pages_htmlhost_files",
          "37_survey_questionnaire_surveys_onyx",
          "97_video_delta_mro_props",
          "94_response_message_sent_todya",
          "61_code_sample_gesture_if",
          "51_helpdesk_assistance_support_request",
          "120_directions_yestreday_pky_product_id",
          "67_log_logs_files_loglevel",
          "63_laptop_laptops_dell_battery",
          "3_send_files",
          "12_meeting_calendar_request_meetings",
          "43_itinerary_flight_tickets_arrive",
          "121_class_classpath_file_saving",
          "124_materials_material_need_limitations",
          "6_send_pqa",
          "52_vss_files_webbyphone_quicken",
          "58_application_spells_issues_applications",
          "68_demo_url_so_afternoon",
          "66_device_header_deviceid_gateway",
          "125_pocketpc_pocket_pc_handles",
          "105_emulator_gateway_test_voicestram",
          "69_rim_dds_rimulator_application",
          "76_webex_participants_meeting_password",
          "134_notice_notices_interns_deviate",
          "130_parameters_variables_newline_param1",
          "110_qm_user_quota_mean",
          "31_press_release_releases_kits",
          "85_paypal_money_account_commission",
          "135_confirmation_shortly_soon_confirmations",
          "119_weblogic_license_pools_jndi",
          "27_logo_logos_eps_our",
          "126_pda_carry_options_pcdata",
          "133_samples_sample_evaluation_aim",
          "122_pdf_pdfs_electronic_file",
          "100_ideas_methodology_suggestions_bit",
          "109_delay_apologize_apologies_sorry",
          "62_translation_localization_language_translate",
          "28_nda_mutual_signed_our",
          "22_send_check",
          "8_send_fax",
          "49_form_forms_irs_filled",
          "138_loan_finance_financials_official",
          "90_visio_lower_screens_version",
          "36_resend_can_could_it",
          "17_send_resume",
          "77_dds_final_copy_smart",
          "96_text_html_known_img",
          "24_sms_messages_messaging_mobile",
          "74_spec_specs_functional_review",
          "117_requests_request_refrain_demanding",
          "88_emails_sent_realized_browny",
          "45_report_reports_pipeline_weekly",
          "108_mail_decoded_bhagavan_chaitanya",
          "83_them_they_info_but",
          "113_lunch_dinner_noon_arrives",
          "102_ip_external_internal_address",
          "114_hosting_deal_virtual_jill",
          "33_scoping_document_analysis_ae",
          "75_timesheet_innova_timesheets_reporting",
          "129_left_voicemail_voice_offensive",
          "123_group_calling_rmallik_numbers",
          "60_schedule_objectives_week_schedules",
          "93_version_versions_discard_older",
          "7_item_oca_data_osa",
          "86_thank_gift_snd_his",
          "103_office_patrice_sabre_come",
          "127_icons_screen_screens_shot",
          "128_ewap_ewrp_signed_info",
          "26_project_plan_projects_create",
          "87_proposal_plan_proposals_tomorrow",
          "92_note_notes_concurrency_briefed",
          "35_attend_event_attendees_attending",
          "71_parameters_server_utilization_cpu",
          "118_estimate_estimates_task_idctasks",
          "95_japanese_miyuki_idc_translation",
          "89_siebel_dbhost_neon_view_alwayson",
          "84_had_sent_mistake_that",
          "107_notes_out_later_dialled",
          "54_url_application_offline_app",
          "136_printed_print_job_batching",
          "101_smalltalk_object_method_argument",
          "82_questions_any_feel_if",
          "10_send_pictures",
          "18_resume_resumes_my_me",
          "14_send_details_information",
          "38_xml_emas_spy_hdml",
          "79_design_requirements_studio_birdsall",
          "46_pricing_price_hilton_premium",
          "81_docs_doc_ve_surgery",
          "131_questions_productive_busy_answers",
          "40_status_reports_report_weekly",
          "59_conference_call_number_siebel",
          "41_agenda_interview_out_will",
          "55_mail_me_please_an",
          "111_quote_tapes_tac_ergo",
          "98_emds_emas_guide_ravi",
          "34_password_login_vpn_passwords",
          "16_send_invitation",
          "11_send_meeting_request",
          "64_ops_request_opssupport_op",
          "116_cancellation_cancel_totally_refund",
          "50_template_templates_art_compact",
          "30_draft_final_tonight_first",
          "140_number_font_hook_okay",
          "57_features_feature_list_release",
          "20_bug_bugs_bugzilla_list",
          "139_enter_dial_press_call",
          "53_hotel_reservations_travel_room",
          "32_thanks_sending_for_thank",
          "48_installation_install_installer_installshield",
          "78_cc_ccing_cced_ialbert",
          "73_license_licenses_key_agreement",
          "106_alias_aliases_om_processes",
          "56_pager_pagers_pin_airmessage",
          "15_send_list",
          "19_send_bug_status",
          "47_technical_engineers_nwoods_8740",
          "70_build_available_builds_5_alerts",
          "104_ppt_kinkos_10cfr21_4608",
          "91_lead_leads_assessment_credit",
          "137_aol_address_msierra_noemigp",
          "13_send_test_results",
          "25_spreadsheet_excel_sheet_jup",
          "80_team_nike_roster_contact",
          "1_send_review",
          "9_send_update_changes",
          "42_documentation_document_docs_updated",
          "4_send_contract",
          "5_send_copy",
          "0_send_something",
          "2_send_presentation",
          "29_invoice_invoices_march_paid",
          "39_contact_info_information_me",
          "44_attachment_mb_size_limit",
          "72_expense_expenses_month_reports"
         ],
         "tickvals": [
          -5,
          -15,
          -25,
          -35,
          -45,
          -55,
          -65,
          -75,
          -85,
          -95,
          -105,
          -115,
          -125,
          -135,
          -145,
          -155,
          -165,
          -175,
          -185,
          -195,
          -205,
          -215,
          -225,
          -235,
          -245,
          -255,
          -265,
          -275,
          -285,
          -295,
          -305,
          -315,
          -325,
          -335,
          -345,
          -355,
          -365,
          -375,
          -385,
          -395,
          -405,
          -415,
          -425,
          -435,
          -445,
          -455,
          -465,
          -475,
          -485,
          -495,
          -505,
          -515,
          -525,
          -535,
          -545,
          -555,
          -565,
          -575,
          -585,
          -595,
          -605,
          -615,
          -625,
          -635,
          -645,
          -655,
          -665,
          -675,
          -685,
          -695,
          -705,
          -715,
          -725,
          -735,
          -745,
          -755,
          -765,
          -775,
          -785,
          -795,
          -805,
          -815,
          -825,
          -835,
          -845,
          -855,
          -865,
          -875,
          -885,
          -895,
          -905,
          -915,
          -925,
          -935,
          -945,
          -955,
          -965,
          -975,
          -985,
          -995,
          -1005,
          -1015,
          -1025,
          -1035,
          -1045,
          -1055,
          -1065,
          -1075,
          -1085,
          -1095,
          -1105,
          -1115,
          -1125,
          -1135,
          -1145,
          -1155,
          -1165,
          -1175,
          -1185,
          -1195,
          -1205,
          -1215,
          -1225,
          -1235,
          -1245,
          -1255,
          -1265,
          -1275,
          -1285,
          -1295,
          -1305,
          -1315,
          -1325,
          -1335,
          -1345,
          -1355,
          -1365,
          -1375,
          -1385,
          -1395,
          -1405
         ],
         "type": "linear",
         "zeroline": false
        }
       }
      }
     },
     "metadata": {},
     "output_type": "display_data"
    }
   ],
   "source": [
    "topic_model.visualize_hierarchy(custom_labels=True)"
   ]
  },
  {
   "cell_type": "code",
   "execution_count": 1660,
   "metadata": {},
   "outputs": [
    {
     "name": "stderr",
     "output_type": "stream",
     "text": [
      "2024-11-02 19:20:00,206 - BERTopic - WARNING: When you use `pickle` to save/load a BERTopic model,please make sure that the environments in which you saveand load the model are **exactly** the same. The version of BERTopic,its dependencies, and python need to remain the same.\n"
     ]
    }
   ],
   "source": [
    "topic_model.save(\"../../data/bertopic_models/intent/send_new/send_final\")"
   ]
  },
  {
   "cell_type": "markdown",
   "metadata": {},
   "source": [
    "### Create Dataset for intent 'send'"
   ]
  },
  {
   "cell_type": "markdown",
   "metadata": {},
   "source": [
    "####  Labels"
   ]
  },
  {
   "cell_type": "markdown",
   "metadata": {},
   "source": [
    "Created custom labels for topics\n",
    "\n",
    "| Label                             | Description                                       | Extraction Strings | Context needed |\n",
    "|-----------------------------------|---------------------------------------------------|--------------------|----------------|\n",
    "| send_it                           | Something is being send.                          | Data 2   |\n",
    "|0_send_something\n",
    "|1_send_review  ||'review', 'comment', 'suggestion', 'feedback', 'correction'|\n",
    "|2_send_presentation || 'powerpoint', 'presentation', 'slide', 'ppt', \n",
    "|3_send_files || ''\n",
    "|4_send_contract\n",
    "|5_send_copy   || copy\n",
    "|6_send_pqa || pqa\n",
    "|7_item_oca_data_osa\n",
    "|8_send_fax ||fax\n",
    "|9_send_update_changes || 'update','change' \n",
    "|10_send_pictures || 'pic','jpeg', 'image', 'photo'\n",
    "|11_send_meeting_request || 'meeting'\n",
    "|12_meeting_calendar_request_meetings\n",
    "|13_send_test_results\n",
    "|14_send_details_information || 'information', 'details'\n",
    "|15_send_list\n",
    "|16_send_invitation\n",
    "|17_send_resume\n",
    "|18_resume_resumes_my_me\n",
    "|19_send_bug_status"
   ]
  },
  {
   "cell_type": "markdown",
   "metadata": {},
   "source": [
    "#### Inspecting Topics"
   ]
  },
  {
   "cell_type": "code",
   "execution_count": 1672,
   "metadata": {},
   "outputs": [
    {
     "data": {
      "text/plain": [
       "'\\nfor  label in topic_model.custom_labels_:\\n   print(label)'"
      ]
     },
     "execution_count": 1672,
     "metadata": {},
     "output_type": "execute_result"
    }
   ],
   "source": [
    "'''\n",
    "for  label in topic_model.custom_labels_:\n",
    "   print(label)'''"
   ]
  },
  {
   "cell_type": "code",
   "execution_count": 3,
   "metadata": {},
   "outputs": [],
   "source": [
    "topic_model = BERTopic.load(\"../../data/bertopic_models/processed/send_final\")"
   ]
  },
  {
   "cell_type": "code",
   "execution_count": null,
   "metadata": {},
   "outputs": [],
   "source": []
  },
  {
   "cell_type": "code",
   "execution_count": 1833,
   "metadata": {},
   "outputs": [
    {
     "name": "stdout",
     "output_type": "stream",
     "text": [
      "Label: press_release_releases_kits\n",
      "\n",
      "Number of sentences for label: 67\n",
      "\n",
      "Sentences:\n",
      "\n",
      "Gents ,   Thanks for sending this along .\n",
      "Thanks a lot for sending this .\n",
      "Thanks for sending this our way .\n",
      "[PERSON] ,    Thanks for sending the other materials .\n",
      "Yes .     [PERSON] ,     Do you have one that you can send to me ?\n",
      "[PERSON] ,   Thanks for sending this .\n",
      "[PERSON] ,    Thank you for reading the things that I sent you .\n",
      "Thanks for sending this out .\n",
      "Send me what you have thus far .    Thanks ,    [PERSON] .\n",
      "[PERSON] , thanks for sending out the email earlier .\n",
      "[PERSON]    I meant to send this to you also .\n",
      "[PERSON] , thanks for sending this along .\n",
      "[PERSON] ,     Thanks for sending me the itineraries .\n",
      "[PERSON] , Thanks for sending the calculation over .\n",
      "[PERSON] ,    Thanks for sending this message .\n",
      "I thank you for sending a good guy over here .\n",
      "Thanks for sending these .\n",
      "Thanks for sending it out last night !     Amit .\n",
      "Thanks for the sending the request [PERSON] .    Regards ,   Shawn\n",
      "[ Sorry for the delay in sending this out . ]\n",
      "[PERSON] ;    This is the last thing I am going to send you tonite .\n",
      "[PERSON] ;    These are rough , however i will send you my first cut .\n",
      "[PERSON] ,    Thanks for sending this on .\n",
      "[PERSON] ,    Thanks for sending the insertion order .\n",
      "Hey [PERSON]    Thanks for sending that .\n",
      "[PERSON] ,    Thank you for sending this .\n",
      "[PERSON] ,    Thanks for sending me the details .\n",
      "[PERSON] ,   Thanks for sending the additional zip codes .\n",
      "Thanks for sending the snapshot .\n",
      "Jon-   Thanks for sending this .\n",
      "[PERSON] ,     Thanks so much for helping me out and sending me a reminder .\n",
      "[PERSON] , I will keep trying ... also , I will send over the itinerieries I have ticketed .\n",
      "[PERSON] ,    Thanks for sending this over , and for all your work to date .\n",
      "[PERSON] ,    Thanks for sending the info over .\n",
      "[PERSON] ,    thanks for sending this to out everyone .\n",
      "[PERSON] ,     Do n't know if I sent you this .\n",
      "Thanks for sending the link to the pix !\n",
      "[PERSON] ,    Thank you so much for sending this letter .\n",
      "[PERSON] ,    Thank you for sending us some equipments .\n",
      "Thanks for sending this to me ...\n",
      "Sreenivas ,    Thanks for sending this out .\n",
      "Amit , thanks for sending these .\n",
      "Thanks for   sending that to me .\n",
      "Venk ,    Thanks for sending this .\n",
      "Thanks and keep sending it to me ...\n",
      "hey [PERSON] ,    thanks for the urls ...   let me know what you think before i send it out to everyone .\n",
      "Thanks for sending them .\n",
      "Thank you for sending this out .\n",
      "( [PERSON] are n't you glad I   > > am sending this out for you , I bet you are regretting it now ! ) .\n",
      "thanks for the feedback [PERSON] .   may i see what you sent them as your pitch .\n",
      "Thanks [PERSON] , I was just about send my points on this .\n",
      "Thanks for sending this out to me tonight .\n",
      "[PERSON] ,   Thanks for sending these forms .\n",
      "[PERSON] ,    Thanks for sending out the email .\n",
      "[PERSON] Before I send this out let me know what you think .\n",
      "[PERSON] , please do n't send anything without me looking at it first .\n",
      "Great story , thanks for sending it ! ! !\n",
      "[PERSON] , I am sending this again .\n",
      "[PERSON] ,    Thanks for send us your projections earlier this week .\n",
      "Thanks for sending it .\n",
      "[PERSON] sent this out earlier , but thanks for making sure of it .\n",
      "[PERSON] [PERSON] ,    thanks for sending me your info .   have a great day at work .\n",
      "Thanks for sending this to me .\n",
      "[PERSON] ,    Thank you for sending this to me for my approval .\n",
      "[PERSON] ;    Thanks for the feedback on the comp i sent you yesterday .\n",
      "Thanks for sending this .\n",
      "Thanks [PERSON] for sending this out .\n"
     ]
    }
   ],
   "source": [
    "topic_nr_to_inspect = 31\n",
    "topic_docs = inspect_topic_and_its_docs(topic_nr=topic_nr_to_inspect, n_docs=100)"
   ]
  },
  {
   "cell_type": "code",
   "execution_count": 1817,
   "metadata": {},
   "outputs": [],
   "source": [
    "# Based on the inspection of the sentences\n",
    "white_list = [\n",
    "    'resume', 'cv', \n",
    "]\n",
    "black_list = [\n",
    "]"
   ]
  },
  {
   "cell_type": "code",
   "execution_count": 1818,
   "metadata": {},
   "outputs": [
    {
     "name": "stdout",
     "output_type": "stream",
     "text": [
      "Amount of sentences: 121\n"
     ]
    },
    {
     "data": {
      "text/plain": [
       "['Please send me your latest / updated resumes if you are still looking for .',\n",
       " \"If he is interested , send me his resume and I 'll get [PERSON] to   have the right people look at it .\",\n",
       " 'I thought that you might have sent the wrong copy of your resume .',\n",
       " 'I want   to get into Business Development and was wondering if you could send my   resume to your contacts .',\n",
       " 'The other night we talked on the hallway   and you asked me to send you my resume , which I am attaching .']"
      ]
     },
     "execution_count": 1818,
     "metadata": {},
     "output_type": "execute_result"
    }
   ],
   "source": [
    "sentences_to_keep = filter_topic_documents(topic_docs=topic_docs, white_list=white_list, black_list=black_list)\n",
    "sentences_to_keep[:5]"
   ]
  },
  {
   "cell_type": "code",
   "execution_count": 1819,
   "metadata": {},
   "outputs": [
    {
     "data": {
      "text/html": [
       "<div>\n",
       "<style scoped>\n",
       "    .dataframe tbody tr th:only-of-type {\n",
       "        vertical-align: middle;\n",
       "    }\n",
       "\n",
       "    .dataframe tbody tr th {\n",
       "        vertical-align: top;\n",
       "    }\n",
       "\n",
       "    .dataframe thead th {\n",
       "        text-align: right;\n",
       "    }\n",
       "</style>\n",
       "<table border=\"1\" class=\"dataframe\">\n",
       "  <thead>\n",
       "    <tr style=\"text-align: right;\">\n",
       "      <th></th>\n",
       "      <th>text</th>\n",
       "      <th>label</th>\n",
       "    </tr>\n",
       "  </thead>\n",
       "  <tbody>\n",
       "    <tr>\n",
       "      <th>0</th>\n",
       "      <td>Please send   your comments to me ASAP , but n...</td>\n",
       "      <td>send_review</td>\n",
       "    </tr>\n",
       "    <tr>\n",
       "      <th>1</th>\n",
       "      <td>Please review and send feedback .</td>\n",
       "      <td>send_review</td>\n",
       "    </tr>\n",
       "    <tr>\n",
       "      <th>2</th>\n",
       "      <td>If you would like ask a question , or if you j...</td>\n",
       "      <td>send_review</td>\n",
       "    </tr>\n",
       "    <tr>\n",
       "      <th>3</th>\n",
       "      <td>I am sending it to the customer to   review an...</td>\n",
       "      <td>send_review</td>\n",
       "    </tr>\n",
       "    <tr>\n",
       "      <th>4</th>\n",
       "      <td>Thanks for capturing all the feedback and send...</td>\n",
       "      <td>send_review</td>\n",
       "    </tr>\n",
       "    <tr>\n",
       "      <th>...</th>\n",
       "      <td>...</td>\n",
       "      <td>...</td>\n",
       "    </tr>\n",
       "    <tr>\n",
       "      <th>1293</th>\n",
       "      <td>Do you want me to send you my resume ?</td>\n",
       "      <td>send_resume</td>\n",
       "    </tr>\n",
       "    <tr>\n",
       "      <th>1294</th>\n",
       "      <td>I am not sure if you have already sent me your...</td>\n",
       "      <td>send_resume</td>\n",
       "    </tr>\n",
       "    <tr>\n",
       "      <th>1295</th>\n",
       "      <td>Per you request , I am sending you my resume .</td>\n",
       "      <td>send_resume</td>\n",
       "    </tr>\n",
       "    <tr>\n",
       "      <th>1296</th>\n",
       "      <td>I will look for my resume and send it to you .</td>\n",
       "      <td>send_resume</td>\n",
       "    </tr>\n",
       "    <tr>\n",
       "      <th>1297</th>\n",
       "      <td>You also mentioned a name there perhaps I will...</td>\n",
       "      <td>send_resume</td>\n",
       "    </tr>\n",
       "  </tbody>\n",
       "</table>\n",
       "<p>1298 rows × 2 columns</p>\n",
       "</div>"
      ],
      "text/plain": [
       "                                                   text        label\n",
       "0     Please send   your comments to me ASAP , but n...  send_review\n",
       "1                     Please review and send feedback .  send_review\n",
       "2     If you would like ask a question , or if you j...  send_review\n",
       "3     I am sending it to the customer to   review an...  send_review\n",
       "4     Thanks for capturing all the feedback and send...  send_review\n",
       "...                                                 ...          ...\n",
       "1293             Do you want me to send you my resume ?  send_resume\n",
       "1294  I am not sure if you have already sent me your...  send_resume\n",
       "1295     Per you request , I am sending you my resume .  send_resume\n",
       "1296     I will look for my resume and send it to you .  send_resume\n",
       "1297  You also mentioned a name there perhaps I will...  send_resume\n",
       "\n",
       "[1298 rows x 2 columns]"
      ]
     },
     "execution_count": 1819,
     "metadata": {},
     "output_type": "execute_result"
    }
   ],
   "source": [
    "df = pd.DataFrame({\"text\": sentences_to_keep, \"label\": get_label_from_topic_nr(topic_nr_to_inspect)})\n",
    "concat_to_df(df, filepath=\"../../data/labeled/send.tsv\", overwrite=True)"
   ]
  },
  {
   "cell_type": "code",
   "execution_count": 1770,
   "metadata": {},
   "outputs": [
    {
     "data": {
      "text/html": [
       "<div>\n",
       "<style scoped>\n",
       "    .dataframe tbody tr th:only-of-type {\n",
       "        vertical-align: middle;\n",
       "    }\n",
       "\n",
       "    .dataframe tbody tr th {\n",
       "        vertical-align: top;\n",
       "    }\n",
       "\n",
       "    .dataframe thead th {\n",
       "        text-align: right;\n",
       "    }\n",
       "</style>\n",
       "<table border=\"1\" class=\"dataframe\">\n",
       "  <thead>\n",
       "    <tr style=\"text-align: right;\">\n",
       "      <th></th>\n",
       "      <th>text</th>\n",
       "      <th>label</th>\n",
       "    </tr>\n",
       "  </thead>\n",
       "  <tbody>\n",
       "  </tbody>\n",
       "</table>\n",
       "</div>"
      ],
      "text/plain": [
       "Empty DataFrame\n",
       "Columns: [text, label]\n",
       "Index: []"
      ]
     },
     "execution_count": 1770,
     "metadata": {},
     "output_type": "execute_result"
    }
   ],
   "source": [
    "df.head()"
   ]
  },
  {
   "cell_type": "code",
   "execution_count": null,
   "metadata": {},
   "outputs": [],
   "source": []
  }
 ],
 "metadata": {
  "kernelspec": {
   "display_name": "ma_exp_intent",
   "language": "python",
   "name": "python3"
  },
  "language_info": {
   "codemirror_mode": {
    "name": "ipython",
    "version": 3
   },
   "file_extension": ".py",
   "mimetype": "text/x-python",
   "name": "python",
   "nbconvert_exporter": "python",
   "pygments_lexer": "ipython3",
   "version": "3.12.4"
  }
 },
 "nbformat": 4,
 "nbformat_minor": 2
}
