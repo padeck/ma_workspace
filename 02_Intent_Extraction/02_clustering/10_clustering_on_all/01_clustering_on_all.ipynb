{
 "cells": [
  {
   "cell_type": "markdown",
   "metadata": {},
   "source": [
    "# Hierarchical Clustering on Target Sentences\n",
    "to help deriving a taxonomy for intents, hierarchical clustering is being leveraged."
   ]
  },
  {
   "cell_type": "markdown",
   "metadata": {},
   "source": [
    "#### Functions"
   ]
  },
  {
   "cell_type": "code",
   "execution_count": 1,
   "metadata": {},
   "outputs": [],
   "source": [
    "def inspect_topic(topic_nr):\n",
    "    top_words = topic_model.get_topic(topic_nr)\n",
    "    print(\"Topic: \"+str(topic_nr)+\"\\n\\nTop Words:\")\n",
    "    for word in top_words:\n",
    "        print(word[0], end=\", \")\n",
    "    print('\\n\\nRepresentative Target Sentences: ')\n",
    "    rep_sents = []\n",
    "    for doc in topic_model.get_topic_info().iloc[topic_nr+1]['Representative_Docs']:\n",
    "        print(doc)\n",
    "        rep_sents.append(doc)\n",
    "    return top_words, rep_sents\n",
    "\n",
    "def create_custom_label(custom_label, topic_id):\n",
    "    custom_labels = {\n",
    "        topic_id: str(topic_id)+\"_\"+custom_label,\n",
    "    }\n",
    "    topic_model.set_topic_labels(custom_labels)\n",
    "\n",
    "# Function to retrieve custom label from topic model\n",
    "def get_label_from_topic_nr(topic_nr):\n",
    "    for label in topic_model.custom_labels_:\n",
    "        if label.startswith(str(topic_nr)):\n",
    "            label = label\n",
    "            label = re.sub(r\"^\\d+_\", \"\", label)\n",
    "            return label\n",
    "    raise Exception('Provided Topic Number has no label assigned!')\n",
    "\n",
    "# Function to inspect a topic by its number and retrieve its documents\n",
    "def inspect_topic_and_its_docs(topic_nr,n_docs=50):\n",
    "    topic_docs = list(set([doc for doc, topic in zip(docs, topic_model.topics_) if topic == topic_nr]))\n",
    "    print(\"Label: \" + get_label_from_topic_nr(topic_nr)+\"\\n\")\n",
    "    print(\"Number of sentences for label: \"+str(len(topic_docs)))\n",
    "    print('\\nSentences:\\n')\n",
    "    if len(topic_docs) < n_docs:\n",
    "        n_docs = len(topic_docs)\n",
    "    for i in range(n_docs):\n",
    "        print(topic_docs[i])\n",
    "    return topic_docs\n",
    "\n",
    "# given a list of strings, returns a list of documents that contain at least one of the strings in the given list\n",
    "def filter_topic_documents(topic_docs, white_list, black_list=[] ):\n",
    "    sentences_to_keep = []\n",
    "    for doc in topic_docs:\n",
    "        if any(substring in doc for substring in white_list):\n",
    "            sentences_to_keep.append(doc)\n",
    "    sentences_to_keep = [\n",
    "    item for item in sentences_to_keep\n",
    "        if not any(substring in item for substring in black_list)\n",
    "    ]\n",
    "    sentences_to_keep = list(set(sentences_to_keep)) # remove duplicates\n",
    "    print('Amount of sentences: '+str(len(sentences_to_keep)))\n",
    "    return sentences_to_keep\n",
    "\n",
    "# Function to facilitate the concatenation of new DFs\n",
    "def concat_to_df(new_df,filepath, overwrite=False, ):\n",
    "    try:\n",
    "        df = pd.read_csv(filepath, sep='\\t')\n",
    "    except FileNotFoundError:\n",
    "        df = pd.DataFrame(columns=[\"text\", \"label\"])\n",
    "    if new_df.iloc[0]['label'] not in df['label'].values: # Make sure that DF does not already contain entry for label\n",
    "        new_df = new_df.reset_index(drop=True)\n",
    "        df = df.reset_index(drop=True)\n",
    "        df = pd.concat([df, new_df], ignore_index=True)\n",
    "        df = df.reset_index(drop=True)\n",
    "        df = df.loc[:, ~df.columns.str.contains('^Unnamed')]\n",
    "        df.to_csv(filepath, sep='\\t')\n",
    "        return df\n",
    "    else:\n",
    "        if overwrite:\n",
    "            df = df[~df['label'].str.contains(new_df.iloc[0]['label'])]\n",
    "            df = pd.concat([df, new_df], ignore_index=True)\n",
    "            df = df.loc[:, ~df.columns.str.contains('^Unnamed')]\n",
    "            df.to_csv(\"../../data/labeled/send.tsv\", sep='\\t', index=False)\n",
    "            return df\n",
    "        else:\n",
    "            print(\"Label '\"+new_df.iloc[0]['label']+\"' already in the final DF, so it's being skipped.\")\n"
   ]
  },
  {
   "cell_type": "markdown",
   "metadata": {},
   "source": [
    "####"
   ]
  },
  {
   "cell_type": "code",
   "execution_count": 2,
   "metadata": {},
   "outputs": [],
   "source": [
    "from bertopic import BERTopic\n",
    "from scipy.cluster import hierarchy as sch\n",
    "import pandas as pd\n",
    "import logging\n",
    "from sklearn.metrics.pairwise import cosine_distances\n",
    "from tqdm import tqdm\n",
    "import numpy as np\n",
    "from umap import UMAP\n",
    "from hdbscan import HDBSCAN\n",
    "from sentence_transformers import SentenceTransformer\n",
    "import re"
   ]
  },
  {
   "cell_type": "code",
   "execution_count": 3,
   "metadata": {},
   "outputs": [],
   "source": [
    "df = pd.read_parquet('../../../data/processed/targets/avocado_train_targets_exploded_cleaned_entities.parquet', engine='fastparquet')"
   ]
  },
  {
   "cell_type": "code",
   "execution_count": 4,
   "metadata": {},
   "outputs": [],
   "source": [
    "df['target'] = df['target'].str.replace(r'\\r\\n', ' ', regex=True)\n",
    "docs = list(set(df['target'].tolist()))"
   ]
  },
  {
   "cell_type": "code",
   "execution_count": 5,
   "metadata": {},
   "outputs": [
    {
     "data": {
      "text/plain": [
       "403329"
      ]
     },
     "execution_count": 5,
     "metadata": {},
     "output_type": "execute_result"
    }
   ],
   "source": [
    "# Amount of unique target sentences\n",
    "len(docs)"
   ]
  },
  {
   "cell_type": "markdown",
   "metadata": {},
   "source": [
    "## Training the Model"
   ]
  },
  {
   "cell_type": "code",
   "execution_count": 6,
   "metadata": {},
   "outputs": [],
   "source": [
    "# Configure logging\n",
    "logging.basicConfig(level=logging.INFO)\n",
    "logger = logging.getLogger(\"BERTopic\")\n",
    "logger.setLevel(logging.INFO)"
   ]
  },
  {
   "cell_type": "code",
   "execution_count": 7,
   "metadata": {},
   "outputs": [
    {
     "name": "stderr",
     "output_type": "stream",
     "text": [
      "INFO:sentence_transformers.SentenceTransformer:Use pytorch device_name: mps\n",
      "INFO:sentence_transformers.SentenceTransformer:Load pretrained SentenceTransformer: all-MiniLM-L6-v2\n",
      "2024-11-06 13:12:04,872 - BERTopic - Embedding - Transforming documents to embeddings.\n"
     ]
    },
    {
     "data": {
      "application/vnd.jupyter.widget-view+json": {
       "model_id": "187f827dbbff4b498d368975466fbd5e",
       "version_major": 2,
       "version_minor": 0
      },
      "text/plain": [
       "Batches:   0%|          | 0/12605 [00:00<?, ?it/s]"
      ]
     },
     "metadata": {},
     "output_type": "display_data"
    },
    {
     "name": "stderr",
     "output_type": "stream",
     "text": [
      "2024-11-06 13:19:35,310 - BERTopic - Embedding - Completed ✓\n",
      "2024-11-06 13:19:35,310 - BERTopic - Dimensionality - Fitting the dimensionality reduction algorithm\n",
      "OMP: Info #276: omp_set_nested routine deprecated, please use omp_set_max_active_levels instead.\n",
      "2024-11-06 13:25:04,027 - BERTopic - Dimensionality - Completed ✓\n",
      "2024-11-06 13:25:04,034 - BERTopic - Cluster - Start clustering the reduced embeddings\n",
      "huggingface/tokenizers: The current process just got forked, after parallelism has already been used. Disabling parallelism to avoid deadlocks...\n",
      "To disable this warning, you can either:\n",
      "\t- Avoid using `tokenizers` before the fork if possible\n",
      "\t- Explicitly set the environment variable TOKENIZERS_PARALLELISM=(true | false)\n",
      "huggingface/tokenizers: The current process just got forked, after parallelism has already been used. Disabling parallelism to avoid deadlocks...\n",
      "To disable this warning, you can either:\n",
      "\t- Avoid using `tokenizers` before the fork if possible\n",
      "\t- Explicitly set the environment variable TOKENIZERS_PARALLELISM=(true | false)\n",
      "huggingface/tokenizers: The current process just got forked, after parallelism has already been used. Disabling parallelism to avoid deadlocks...\n",
      "To disable this warning, you can either:\n",
      "\t- Avoid using `tokenizers` before the fork if possible\n",
      "\t- Explicitly set the environment variable TOKENIZERS_PARALLELISM=(true | false)\n",
      "huggingface/tokenizers: The current process just got forked, after parallelism has already been used. Disabling parallelism to avoid deadlocks...\n",
      "To disable this warning, you can either:\n",
      "\t- Avoid using `tokenizers` before the fork if possible\n",
      "\t- Explicitly set the environment variable TOKENIZERS_PARALLELISM=(true | false)\n",
      "huggingface/tokenizers: The current process just got forked, after parallelism has already been used. Disabling parallelism to avoid deadlocks...\n",
      "To disable this warning, you can either:\n",
      "\t- Avoid using `tokenizers` before the fork if possible\n",
      "\t- Explicitly set the environment variable TOKENIZERS_PARALLELISM=(true | false)\n",
      "2024-11-06 13:25:37,991 - BERTopic - Cluster - Completed ✓\n",
      "2024-11-06 13:25:37,992 - BERTopic - Representation - Extracting topics from clusters using representation models.\n",
      "2024-11-06 13:25:42,878 - BERTopic - Representation - Completed ✓\n",
      "2024-11-06 13:25:42,881 - BERTopic - Topic reduction - Reducing number of topics\n",
      "2024-11-06 13:25:46,952 - BERTopic - Topic reduction - Reduced number of topics from 2608 to 200\n"
     ]
    }
   ],
   "source": [
    "# Initialize UMAP with a fixed random state\n",
    "random_state = 1 # Other seeds sometimes caused negative values in the distanace matrix\n",
    "\n",
    "# Set global random seeds\n",
    "np.random.seed(random_state)\n",
    "\n",
    "embedding_model = SentenceTransformer(\"all-MiniLM-L6-v2\")\n",
    "umap_model = UMAP(n_neighbors=15, n_components=5, random_state=random_state)\n",
    "hdbscan_model = HDBSCAN(min_cluster_size=10, prediction_data=True)\n",
    "\n",
    "topic_model = BERTopic(nr_topics=200, verbose=True, umap_model=umap_model, hdbscan_model=hdbscan_model, embedding_model=embedding_model)\n",
    "topics, probs = topic_model.fit_transform(docs)"
   ]
  },
  {
   "cell_type": "code",
   "execution_count": 8,
   "metadata": {},
   "outputs": [
    {
     "name": "stderr",
     "output_type": "stream",
     "text": [
      "100%|██████████| 198/198 [00:01<00:00, 185.96it/s]\n"
     ]
    }
   ],
   "source": [
    "hierarchical_topics = topic_model.hierarchical_topics(docs)"
   ]
  },
  {
   "cell_type": "code",
   "execution_count": null,
   "metadata": {},
   "outputs": [],
   "source": [
    "topic_model.save(\"../../../data/bertopic_models/intents/00_all_intents/all_unprocessed\")"
   ]
  },
  {
   "cell_type": "markdown",
   "metadata": {},
   "source": [
    "## Inspecting clustering results"
   ]
  },
  {
   "cell_type": "code",
   "execution_count": null,
   "metadata": {},
   "outputs": [],
   "source": [
    "#topic_model = BERTopic.load(\"../../../data/bertopic_models/intents/00_all_intents/all_unprocessed\")"
   ]
  },
  {
   "cell_type": "code",
   "execution_count": 9,
   "metadata": {},
   "outputs": [
    {
     "data": {
      "application/vnd.plotly.v1+json": {
       "config": {
        "plotlyServerURL": "https://plot.ly"
       },
       "data": [
        {
         "hoverinfo": "text",
         "marker": {
          "color": "rgb(61,153,112)"
         },
         "mode": "lines",
         "text": [
          "component_validation_identification_components_duplicate",
          "",
          "",
          "sqapass_sqalogmessage_browser_href_clear_url"
         ],
         "type": "scatter",
         "x": [
          0,
          0.8454670451301978,
          0.8454670451301978,
          0
         ],
         "xaxis": "x",
         "y": [
          -15,
          -15,
          -25,
          -25
         ],
         "yaxis": "y"
        },
        {
         "hoverinfo": "text",
         "marker": {
          "color": "rgb(61,153,112)"
         },
         "mode": "lines",
         "text": [
          "tree_node_leaf_parent_ancestor",
          "",
          "",
          "component_sqapass_sqalogmessage_identification_validation"
         ],
         "type": "scatter",
         "x": [
          0,
          0.941982871319344,
          0.941982871319344,
          0.8454670451301978
         ],
         "xaxis": "x",
         "y": [
          -5,
          -5,
          -20,
          -20
         ],
         "yaxis": "y"
        },
        {
         "hoverinfo": "text",
         "marker": {
          "color": "rgb(255,65,54)"
         },
         "mode": "lines",
         "text": [
          "loop_keep_iteration_infinite_loops",
          "",
          "",
          "vertical_scroll_leaps_strike_yhoo"
         ],
         "type": "scatter",
         "x": [
          0,
          0.9511576830352834,
          0.9511576830352834,
          0
         ],
         "xaxis": "x",
         "y": [
          -45,
          -45,
          -55,
          -55
         ],
         "yaxis": "y"
        },
        {
         "hoverinfo": "text",
         "marker": {
          "color": "rgb(255,65,54)"
         },
         "mode": "lines",
         "text": [
          "checkboxes_selection_multiple_data_biren",
          "",
          "",
          "loop_vertical_scroll_leaps_keep"
         ],
         "type": "scatter",
         "x": [
          0,
          0.9656434664038576,
          0.9656434664038576,
          0.9511576830352834
         ],
         "xaxis": "x",
         "y": [
          -35,
          -35,
          -50,
          -50
         ],
         "yaxis": "y"
        },
        {
         "hoverinfo": "text",
         "marker": {
          "color": "rgb(255,65,54)"
         },
         "mode": "lines",
         "text": [
          "tags_tag_custom_smart_meta",
          "",
          "",
          "table_tr_td_tables_width"
         ],
         "type": "scatter",
         "x": [
          0,
          0.871160835454357,
          0.871160835454357,
          0
         ],
         "xaxis": "x",
         "y": [
          -65,
          -65,
          -75,
          -75
         ],
         "yaxis": "y"
        },
        {
         "hoverinfo": "text",
         "marker": {
          "color": "rgb(255,65,54)"
         },
         "mode": "lines",
         "text": [
          "loop_vertical_scroll_leaps_keep",
          "",
          "",
          "tags_table_tr_td_tag"
         ],
         "type": "scatter",
         "x": [
          0.9656434664038576,
          0.9900091673024993,
          0.9900091673024993,
          0.871160835454357
         ],
         "xaxis": "x",
         "y": [
          -42.5,
          -42.5,
          -70,
          -70
         ],
         "yaxis": "y"
        },
        {
         "hoverinfo": "text",
         "marker": {
          "color": "rgb(0,116,217)"
         },
         "mode": "lines",
         "text": [
          "component_sqapass_tree_sqalogmessage_identification",
          "",
          "",
          "loop_tags_table_tr_vertical"
         ],
         "type": "scatter",
         "x": [
          0.941982871319344,
          1.0407976411024653,
          1.0407976411024653,
          0.9900091673024993
         ],
         "xaxis": "x",
         "y": [
          -12.5,
          -12.5,
          -56.25,
          -56.25
         ],
         "yaxis": "y"
        },
        {
         "hoverinfo": "text",
         "marker": {
          "color": "rgb(35,205,205)"
         },
         "mode": "lines",
         "text": [
          "japanese_germana_english_language_translation",
          "",
          "",
          "font_encoding_charset_fonts_utf"
         ],
         "type": "scatter",
         "x": [
          0,
          0.7977130609958915,
          0.7977130609958915,
          0
         ],
         "xaxis": "x",
         "y": [
          -95,
          -95,
          -105,
          -105
         ],
         "yaxis": "y"
        },
        {
         "hoverinfo": "text",
         "marker": {
          "color": "rgb(35,205,205)"
         },
         "mode": "lines",
         "text": [
          "japanese_germana_english_language_translation",
          "",
          "",
          "content_attachment_disposition_base64_filename"
         ],
         "type": "scatter",
         "x": [
          0.7977130609958915,
          0.8968395734093232,
          0.8968395734093232,
          0
         ],
         "xaxis": "x",
         "y": [
          -100,
          -100,
          -115,
          -115
         ],
         "yaxis": "y"
        },
        {
         "hoverinfo": "text",
         "marker": {
          "color": "rgb(35,205,205)"
         },
         "mode": "lines",
         "text": [
          "cab_dsl_modem_file_analog",
          "",
          "",
          "japanese_content_attachment_encoding_disposition"
         ],
         "type": "scatter",
         "x": [
          0,
          0.9308113625941025,
          0.9308113625941025,
          0.8968395734093232
         ],
         "xaxis": "x",
         "y": [
          -85,
          -85,
          -107.5,
          -107.5
         ],
         "yaxis": "y"
        },
        {
         "hoverinfo": "text",
         "marker": {
          "color": "rgb(35,205,205)"
         },
         "mode": "lines",
         "text": [
          "dax_fields_schema_field_appid",
          "",
          "",
          "xml_wml_feed_hdml_xsl"
         ],
         "type": "scatter",
         "x": [
          0,
          0.7403232652759003,
          0.7403232652759003,
          0
         ],
         "xaxis": "x",
         "y": [
          -125,
          -125,
          -135,
          -135
         ],
         "yaxis": "y"
        },
        {
         "hoverinfo": "text",
         "marker": {
          "color": "rgb(35,205,205)"
         },
         "mode": "lines",
         "text": [
          "xml_wml_dax_feed_hdml",
          "",
          "",
          "oca_item_osa_201_data"
         ],
         "type": "scatter",
         "x": [
          0.7403232652759003,
          0.8714215364057639,
          0.8714215364057639,
          0
         ],
         "xaxis": "x",
         "y": [
          -130,
          -130,
          -145,
          -145
         ],
         "yaxis": "y"
        },
        {
         "hoverinfo": "text",
         "marker": {
          "color": "rgb(35,205,205)"
         },
         "mode": "lines",
         "text": [
          "japanese_content_attachment_encoding_disposition",
          "",
          "",
          "xml_oca_item_data_osa"
         ],
         "type": "scatter",
         "x": [
          0.9308113625941025,
          0.9683451852392668,
          0.9683451852392668,
          0.8714215364057639
         ],
         "xaxis": "x",
         "y": [
          -96.25,
          -96.25,
          -137.5,
          -137.5
         ],
         "yaxis": "y"
        },
        {
         "hoverinfo": "text",
         "marker": {
          "color": "rgb(133,20,75)"
         },
         "mode": "lines",
         "text": [
          "query_string_sql_parameters_resultset",
          "",
          "",
          "jsp_servlet_java_bean_j2ee"
         ],
         "type": "scatter",
         "x": [
          0,
          0.7385933067603423,
          0.7385933067603423,
          0
         ],
         "xaxis": "x",
         "y": [
          -165,
          -165,
          -175,
          -175
         ],
         "yaxis": "y"
        },
        {
         "hoverinfo": "text",
         "marker": {
          "color": "rgb(133,20,75)"
         },
         "mode": "lines",
         "text": [
          "jsp_java_servlet_bean_j2ee",
          "",
          "",
          "method_class_methods_classes_object"
         ],
         "type": "scatter",
         "x": [
          0.7385933067603423,
          0.7958071339798414,
          0.7958071339798414,
          0
         ],
         "xaxis": "x",
         "y": [
          -170,
          -170,
          -185,
          -185
         ],
         "yaxis": "y"
        },
        {
         "hoverinfo": "text",
         "marker": {
          "color": "rgb(133,20,75)"
         },
         "mode": "lines",
         "text": [
          "hash_sort_dutch_dutchname_tmp",
          "",
          "",
          "jsp_java_servlet_bean_j2ee"
         ],
         "type": "scatter",
         "x": [
          0,
          0.9182330435993203,
          0.9182330435993203,
          0.7958071339798414
         ],
         "xaxis": "x",
         "y": [
          -155,
          -155,
          -177.5,
          -177.5
         ],
         "yaxis": "y"
        },
        {
         "hoverinfo": "text",
         "marker": {
          "color": "rgb(133,20,75)"
         },
         "mode": "lines",
         "text": [
          "jsp_java_servlet_bean_j2ee",
          "",
          "",
          "jess_inferior_perl_grammar_parser"
         ],
         "type": "scatter",
         "x": [
          0.9182330435993203,
          0.9491922843884478,
          0.9491922843884478,
          0
         ],
         "xaxis": "x",
         "y": [
          -166.25,
          -166.25,
          -195,
          -195
         ],
         "yaxis": "y"
        },
        {
         "hoverinfo": "text",
         "marker": {
          "color": "rgb(0,116,217)"
         },
         "mode": "lines",
         "text": [
          "xml_content_japanese_oca_attachment",
          "",
          "",
          "jsp_java_servlet_bean_j2ee"
         ],
         "type": "scatter",
         "x": [
          0.9683451852392668,
          1.0028828407827017,
          1.0028828407827017,
          0.9491922843884478
         ],
         "xaxis": "x",
         "y": [
          -116.875,
          -116.875,
          -180.625,
          -180.625
         ],
         "yaxis": "y"
        },
        {
         "hoverinfo": "text",
         "marker": {
          "color": "rgb(255,220,0)"
         },
         "mode": "lines",
         "text": [
          "exception_exceptions_throw_flog_unneccesary",
          "",
          "",
          "adapter_adapters_adaptor_adaptersuspendexception_throws"
         ],
         "type": "scatter",
         "x": [
          0,
          0.8598063159501494,
          0.8598063159501494,
          0
         ],
         "xaxis": "x",
         "y": [
          -205,
          -205,
          -215,
          -215
         ],
         "yaxis": "y"
        },
        {
         "hoverinfo": "text",
         "marker": {
          "color": "rgb(255,220,0)"
         },
         "mode": "lines",
         "text": [
          "exception_adapter_exceptions_adapters_throw",
          "",
          "",
          "filter_filters_filtering_tap_profile"
         ],
         "type": "scatter",
         "x": [
          0.8598063159501494,
          0.9506635336084505,
          0.9506635336084505,
          0
         ],
         "xaxis": "x",
         "y": [
          -210,
          -210,
          -225,
          -225
         ],
         "yaxis": "y"
        },
        {
         "hoverinfo": "text",
         "marker": {
          "color": "rgb(0,116,217)"
         },
         "mode": "lines",
         "text": [
          "xml_jsp_content_japanese_oca",
          "",
          "",
          "exception_adapter_exceptions_adapters_throw"
         ],
         "type": "scatter",
         "x": [
          1.0028828407827017,
          1.0404117933219128,
          1.0404117933219128,
          0.9506635336084505
         ],
         "xaxis": "x",
         "y": [
          -148.75,
          -148.75,
          -217.5,
          -217.5
         ],
         "yaxis": "y"
        },
        {
         "hoverinfo": "text",
         "marker": {
          "color": "rgb(0,116,217)"
         },
         "mode": "lines",
         "text": [
          "component_loop_sqapass_tree_tags",
          "",
          "",
          "xml_jsp_content_japanese_oca"
         ],
         "type": "scatter",
         "x": [
          1.0407976411024653,
          1.090224662158649,
          1.090224662158649,
          1.0404117933219128
         ],
         "xaxis": "x",
         "y": [
          -34.375,
          -34.375,
          -183.125,
          -183.125
         ],
         "yaxis": "y"
        },
        {
         "hoverinfo": "text",
         "marker": {
          "color": "rgb(40,35,35)"
         },
         "mode": "lines",
         "text": [
          "src_ejolt_services_service_templates",
          "",
          "",
          "edt_jun_2001_jul_copying"
         ],
         "type": "scatter",
         "x": [
          0,
          0.8482194011294532,
          0.8482194011294532,
          0
         ],
         "xaxis": "x",
         "y": [
          -235,
          -235,
          -245,
          -245
         ],
         "yaxis": "y"
        },
        {
         "hoverinfo": "text",
         "marker": {
          "color": "rgb(40,35,35)"
         },
         "mode": "lines",
         "text": [
          "million_round_ameritrade_funding_change",
          "",
          "",
          "synchronizing_folder_17_offline_item"
         ],
         "type": "scatter",
         "x": [
          0,
          0.8682092106838427,
          0.8682092106838427,
          0
         ],
         "xaxis": "x",
         "y": [
          -255,
          -255,
          -265,
          -265
         ],
         "yaxis": "y"
        },
        {
         "hoverinfo": "text",
         "marker": {
          "color": "rgb(40,35,35)"
         },
         "mode": "lines",
         "text": [
          "src_ejolt_services_service_templates",
          "",
          "",
          "million_round_synchronizing_folder_ameritrade"
         ],
         "type": "scatter",
         "x": [
          0.8482194011294532,
          0.9767238912540911,
          0.9767238912540911,
          0.8682092106838427
         ],
         "xaxis": "x",
         "y": [
          -240,
          -240,
          -260,
          -260
         ],
         "yaxis": "y"
        },
        {
         "hoverinfo": "text",
         "marker": {
          "color": "rgb(61,153,112)"
         },
         "mode": "lines",
         "text": [
          "rim_application_dds_device_pager",
          "",
          "",
          "dds_pda_dtd_tmtdw_pdq"
         ],
         "type": "scatter",
         "x": [
          0,
          0.8212580334444396,
          0.8212580334444396,
          0
         ],
         "xaxis": "x",
         "y": [
          -285,
          -285,
          -295,
          -295
         ],
         "yaxis": "y"
        },
        {
         "hoverinfo": "text",
         "marker": {
          "color": "rgb(61,153,112)"
         },
         "mode": "lines",
         "text": [
          "rim_dds_pda_application_dtd",
          "",
          "",
          "xsellsys_cygent_martini_pocket_blue"
         ],
         "type": "scatter",
         "x": [
          0.8212580334444396,
          0.8962921592818289,
          0.8962921592818289,
          0
         ],
         "xaxis": "x",
         "y": [
          -290,
          -290,
          -305,
          -305
         ],
         "yaxis": "y"
        },
        {
         "hoverinfo": "text",
         "marker": {
          "color": "rgb(61,153,112)"
         },
         "mode": "lines",
         "text": [
          "epservlet_opt_servlet_https_statistics",
          "",
          "",
          "rim_dds_pda_xsellsys_application"
         ],
         "type": "scatter",
         "x": [
          0,
          0.9581893245691282,
          0.9581893245691282,
          0.8962921592818289
         ],
         "xaxis": "x",
         "y": [
          -275,
          -275,
          -297.5,
          -297.5
         ],
         "yaxis": "y"
        },
        {
         "hoverinfo": "text",
         "marker": {
          "color": "rgb(255,65,54)"
         },
         "mode": "lines",
         "text": [
          "storage_backup_backups_nas_disk",
          "",
          "",
          "latency_ethernet_gigabit_packet_size"
         ],
         "type": "scatter",
         "x": [
          0,
          0.8838195948713738,
          0.8838195948713738,
          0
         ],
         "xaxis": "x",
         "y": [
          -325,
          -325,
          -335,
          -335
         ],
         "yaxis": "y"
        },
        {
         "hoverinfo": "text",
         "marker": {
          "color": "rgb(255,65,54)"
         },
         "mode": "lines",
         "text": [
          "transcoding_zi_ezitext_zimulator_ezitap",
          "",
          "",
          "storage_backup_backups_nas_latency"
         ],
         "type": "scatter",
         "x": [
          0,
          0.9536480944304425,
          0.9536480944304425,
          0.8838195948713738
         ],
         "xaxis": "x",
         "y": [
          -315,
          -315,
          -330,
          -330
         ],
         "yaxis": "y"
        },
        {
         "hoverinfo": "text",
         "marker": {
          "color": "rgb(255,65,54)"
         },
         "mode": "lines",
         "text": [
          "sizing_study_binu_report_garrison",
          "",
          "",
          "zones_utc_daylight_time_ntmachs10"
         ],
         "type": "scatter",
         "x": [
          0,
          0.9412014555814809,
          0.9412014555814809,
          0
         ],
         "xaxis": "x",
         "y": [
          -345,
          -345,
          -355,
          -355
         ],
         "yaxis": "y"
        },
        {
         "hoverinfo": "text",
         "marker": {
          "color": "rgb(255,65,54)"
         },
         "mode": "lines",
         "text": [
          "storage_backup_backups_nas_latency",
          "",
          "",
          "sizing_zones_study_utc_daylight"
         ],
         "type": "scatter",
         "x": [
          0.9536480944304425,
          0.9835942127662074,
          0.9835942127662074,
          0.9412014555814809
         ],
         "xaxis": "x",
         "y": [
          -322.5,
          -322.5,
          -350,
          -350
         ],
         "yaxis": "y"
        },
        {
         "hoverinfo": "text",
         "marker": {
          "color": "rgb(255,65,54)"
         },
         "mode": "lines",
         "text": [
          "thread_threads_affinity_singleton_spu",
          "",
          "",
          "caching_cache_wait_cached_pages"
         ],
         "type": "scatter",
         "x": [
          0,
          0.9128610150611228,
          0.9128610150611228,
          0
         ],
         "xaxis": "x",
         "y": [
          -375,
          -375,
          -385,
          -385
         ],
         "yaxis": "y"
        },
        {
         "hoverinfo": "text",
         "marker": {
          "color": "rgb(255,65,54)"
         },
         "mode": "lines",
         "text": [
          "thread_threads_caching_affinity_cache",
          "",
          "",
          "liberate_dependency_dependencies_prototype_acyclic"
         ],
         "type": "scatter",
         "x": [
          0.9128610150611228,
          0.9535731929467516,
          0.9535731929467516,
          0
         ],
         "xaxis": "x",
         "y": [
          -380,
          -380,
          -395,
          -395
         ],
         "yaxis": "y"
        },
        {
         "hoverinfo": "text",
         "marker": {
          "color": "rgb(255,65,54)"
         },
         "mode": "lines",
         "text": [
          "applet_applets_appt_getimage_mediatracker",
          "",
          "",
          "thread_threads_caching_affinity_cache"
         ],
         "type": "scatter",
         "x": [
          0,
          0.9632319970130435,
          0.9632319970130435,
          0.9535731929467516
         ],
         "xaxis": "x",
         "y": [
          -365,
          -365,
          -387.5,
          -387.5
         ],
         "yaxis": "y"
        },
        {
         "hoverinfo": "text",
         "marker": {
          "color": "rgb(255,65,54)"
         },
         "mode": "lines",
         "text": [
          "storage_sizing_backup_size_backups",
          "",
          "",
          "thread_threads_applet_caching_affinity"
         ],
         "type": "scatter",
         "x": [
          0.9835942127662074,
          0.9926217385684217,
          0.9926217385684217,
          0.9632319970130435
         ],
         "xaxis": "x",
         "y": [
          -336.25,
          -336.25,
          -376.25,
          -376.25
         ],
         "yaxis": "y"
        },
        {
         "hoverinfo": "text",
         "marker": {
          "color": "rgb(35,205,205)"
         },
         "mode": "lines",
         "text": [
          "orange_oem_france_oems_deal",
          "",
          "",
          "vivendi_elektrim_vivek_marconi_shareholders"
         ],
         "type": "scatter",
         "x": [
          0,
          0.9211635589223397,
          0.9211635589223397,
          0
         ],
         "xaxis": "x",
         "y": [
          -405,
          -405,
          -415,
          -415
         ],
         "yaxis": "y"
        },
        {
         "hoverinfo": "text",
         "marker": {
          "color": "rgb(35,205,205)"
         },
         "mode": "lines",
         "text": [
          "declined_fdic_insured_refused_obligations",
          "",
          "",
          "risk_risks_constraints_timing_balance"
         ],
         "type": "scatter",
         "x": [
          0,
          0.9126271193806391,
          0.9126271193806391,
          0
         ],
         "xaxis": "x",
         "y": [
          -425,
          -425,
          -435,
          -435
         ],
         "yaxis": "y"
        },
        {
         "hoverinfo": "text",
         "marker": {
          "color": "rgb(35,205,205)"
         },
         "mode": "lines",
         "text": [
          "orange_oem_vivendi_elektrim_vivek",
          "",
          "",
          "risk_declined_fdic_insured_refused"
         ],
         "type": "scatter",
         "x": [
          0.9211635589223397,
          0.9910187481929803,
          0.9910187481929803,
          0.9126271193806391
         ],
         "xaxis": "x",
         "y": [
          -410,
          -410,
          -430,
          -430
         ],
         "yaxis": "y"
        },
        {
         "hoverinfo": "text",
         "marker": {
          "color": "rgb(0,116,217)"
         },
         "mode": "lines",
         "text": [
          "storage_sizing_backup_thread_size",
          "",
          "",
          "orange_oem_vivendi_elektrim_risk"
         ],
         "type": "scatter",
         "x": [
          0.9926217385684217,
          1.0500464617064793,
          1.0500464617064793,
          0.9910187481929803
         ],
         "xaxis": "x",
         "y": [
          -356.25,
          -356.25,
          -420,
          -420
         ],
         "yaxis": "y"
        },
        {
         "hoverinfo": "text",
         "marker": {
          "color": "rgb(61,153,112)"
         },
         "mode": "lines",
         "text": [
          "burn_rate_energy_conserve_reduce",
          "",
          "",
          "cycles_spin_cycle_spare_spend"
         ],
         "type": "scatter",
         "x": [
          0,
          0.9234054104209289,
          0.9234054104209289,
          0
         ],
         "xaxis": "x",
         "y": [
          -445,
          -445,
          -455,
          -455
         ],
         "yaxis": "y"
        },
        {
         "hoverinfo": "text",
         "marker": {
          "color": "rgb(61,153,112)"
         },
         "mode": "lines",
         "text": [
          "quality_feedback_cost_suggests_belief",
          "",
          "",
          "ranking_rankings_grades_grade_rank"
         ],
         "type": "scatter",
         "x": [
          0,
          0.8631541114116343,
          0.8631541114116343,
          0
         ],
         "xaxis": "x",
         "y": [
          -465,
          -465,
          -475,
          -475
         ],
         "yaxis": "y"
        },
        {
         "hoverinfo": "text",
         "marker": {
          "color": "rgb(61,153,112)"
         },
         "mode": "lines",
         "text": [
          "burn_rate_cycles_spin_energy",
          "",
          "",
          "quality_ranking_rankings_grades_grade"
         ],
         "type": "scatter",
         "x": [
          0.9234054104209289,
          0.9888676915442745,
          0.9888676915442745,
          0.8631541114116343
         ],
         "xaxis": "x",
         "y": [
          -450,
          -450,
          -470,
          -470
         ],
         "yaxis": "y"
        },
        {
         "hoverinfo": "text",
         "marker": {
          "color": "rgb(255,65,54)"
         },
         "mode": "lines",
         "text": [
          "heads_headcount_wanted_give_head",
          "",
          "",
          "numbers_number_numerals_fudging_1135"
         ],
         "type": "scatter",
         "x": [
          0,
          0.9280897325150628,
          0.9280897325150628,
          0
         ],
         "xaxis": "x",
         "y": [
          -495,
          -495,
          -505,
          -505
         ],
         "yaxis": "y"
        },
        {
         "hoverinfo": "text",
         "marker": {
          "color": "rgb(255,65,54)"
         },
         "mode": "lines",
         "text": [
          "numbers_heads_headcount_give_number",
          "",
          "",
          "guys_these_know_hannigans_leeetle"
         ],
         "type": "scatter",
         "x": [
          0.9280897325150628,
          0.9407150237576136,
          0.9407150237576136,
          0
         ],
         "xaxis": "x",
         "y": [
          -500,
          -500,
          -515,
          -515
         ],
         "yaxis": "y"
        },
        {
         "hoverinfo": "text",
         "marker": {
          "color": "rgb(255,65,54)"
         },
         "mode": "lines",
         "text": [
          "ring_give_ringtones_me_ringtone",
          "",
          "",
          "numbers_heads_headcount_give_number"
         ],
         "type": "scatter",
         "x": [
          0,
          0.9717779974327817,
          0.9717779974327817,
          0.9407150237576136
         ],
         "xaxis": "x",
         "y": [
          -485,
          -485,
          -507.5,
          -507.5
         ],
         "yaxis": "y"
        },
        {
         "hoverinfo": "text",
         "marker": {
          "color": "rgb(35,205,205)"
         },
         "mode": "lines",
         "text": [
          "matrix_vector_etour_updated_stored",
          "",
          "",
          "holes_hole_dig_fill_drill"
         ],
         "type": "scatter",
         "x": [
          0,
          0.9603143624104266,
          0.9603143624104266,
          0
         ],
         "xaxis": "x",
         "y": [
          -525,
          -525,
          -535,
          -535
         ],
         "yaxis": "y"
        },
        {
         "hoverinfo": "text",
         "marker": {
          "color": "rgb(35,205,205)"
         },
         "mode": "lines",
         "text": [
          "tutorials_learn_tutorial_intro_introductions",
          "",
          "",
          "venk_fortunata_donivan_marilisa_meeting"
         ],
         "type": "scatter",
         "x": [
          0,
          0.8621226970248148,
          0.8621226970248148,
          0
         ],
         "xaxis": "x",
         "y": [
          -545,
          -545,
          -555,
          -555
         ],
         "yaxis": "y"
        },
        {
         "hoverinfo": "text",
         "marker": {
          "color": "rgb(35,205,205)"
         },
         "mode": "lines",
         "text": [
          "matrix_holes_vector_hole_dig",
          "",
          "",
          "venk_fortunata_donivan_marilisa_meeting"
         ],
         "type": "scatter",
         "x": [
          0.9603143624104266,
          0.9645896328036719,
          0.9645896328036719,
          0.8621226970248148
         ],
         "xaxis": "x",
         "y": [
          -530,
          -530,
          -550,
          -550
         ],
         "yaxis": "y"
        },
        {
         "hoverinfo": "text",
         "marker": {
          "color": "rgb(35,205,205)"
         },
         "mode": "lines",
         "text": [
          "omnisky_hideki_cw_novell_spacer",
          "",
          "",
          "idc_maintenance_catalyst_switches_sc4"
         ],
         "type": "scatter",
         "x": [
          0,
          0.9349393477126156,
          0.9349393477126156,
          0
         ],
         "xaxis": "x",
         "y": [
          -575,
          -575,
          -585,
          -585
         ],
         "yaxis": "y"
        },
        {
         "hoverinfo": "text",
         "marker": {
          "color": "rgb(35,205,205)"
         },
         "mode": "lines",
         "text": [
          "idc_omnisky_hideki_cw_novell",
          "",
          "",
          "roopak_rup_ruyben_xp_fix"
         ],
         "type": "scatter",
         "x": [
          0.9349393477126156,
          0.9434287467757775,
          0.9434287467757775,
          0
         ],
         "xaxis": "x",
         "y": [
          -580,
          -580,
          -595,
          -595
         ],
         "yaxis": "y"
        },
        {
         "hoverinfo": "text",
         "marker": {
          "color": "rgb(35,205,205)"
         },
         "mode": "lines",
         "text": [
          "idc_roopak_omnisky_hideki_cw",
          "",
          "",
          "arun_rro_rover____atherton"
         ],
         "type": "scatter",
         "x": [
          0.9434287467757775,
          0.9522698988368649,
          0.9522698988368649,
          0
         ],
         "xaxis": "x",
         "y": [
          -587.5,
          -587.5,
          -605,
          -605
         ],
         "yaxis": "y"
        },
        {
         "hoverinfo": "text",
         "marker": {
          "color": "rgb(35,205,205)"
         },
         "mode": "lines",
         "text": [
          "hung_lines_hang_draw_constraining",
          "",
          "",
          "idc_roopak_arun_omnisky_hideki"
         ],
         "type": "scatter",
         "x": [
          0,
          0.9659580954103845,
          0.9659580954103845,
          0.9522698988368649
         ],
         "xaxis": "x",
         "y": [
          -565,
          -565,
          -596.25,
          -596.25
         ],
         "yaxis": "y"
        },
        {
         "hoverinfo": "text",
         "marker": {
          "color": "rgb(35,205,205)"
         },
         "mode": "lines",
         "text": [
          "idc_roopak_arun_omnisky_hideki",
          "",
          "",
          "bigstep_bigip_ecv_ideals_vip"
         ],
         "type": "scatter",
         "x": [
          0.9659580954103845,
          0.9700283198923273,
          0.9700283198923273,
          0
         ],
         "xaxis": "x",
         "y": [
          -580.625,
          -580.625,
          -615,
          -615
         ],
         "yaxis": "y"
        },
        {
         "hoverinfo": "text",
         "marker": {
          "color": "rgb(35,205,205)"
         },
         "mode": "lines",
         "text": [
          "venk_fortunata_donivan_marilisa_meeting",
          "",
          "",
          "idc_roopak_arun_omnisky_hideki"
         ],
         "type": "scatter",
         "x": [
          0.9645896328036719,
          0.985093351823234,
          0.985093351823234,
          0.9700283198923273
         ],
         "xaxis": "x",
         "y": [
          -540,
          -540,
          -597.8125,
          -597.8125
         ],
         "yaxis": "y"
        },
        {
         "hoverinfo": "text",
         "marker": {
          "color": "rgb(0,116,217)"
         },
         "mode": "lines",
         "text": [
          "ring_give_numbers_heads_headcount",
          "",
          "",
          "venk_idc_roopak_arun_fortunata"
         ],
         "type": "scatter",
         "x": [
          0.9717779974327817,
          1.0228905250924505,
          1.0228905250924505,
          0.985093351823234
         ],
         "xaxis": "x",
         "y": [
          -496.25,
          -496.25,
          -568.90625,
          -568.90625
         ],
         "yaxis": "y"
        },
        {
         "hoverinfo": "text",
         "marker": {
          "color": "rgb(0,116,217)"
         },
         "mode": "lines",
         "text": [
          "burn_cycles_rate_quality_spin",
          "",
          "",
          "venk_idc_roopak_arun_fortunata"
         ],
         "type": "scatter",
         "x": [
          0.9888676915442745,
          1.0393482008874637,
          1.0393482008874637,
          1.0228905250924505
         ],
         "xaxis": "x",
         "y": [
          -460,
          -460,
          -532.578125,
          -532.578125
         ],
         "yaxis": "y"
        },
        {
         "hoverinfo": "text",
         "marker": {
          "color": "rgb(0,116,217)"
         },
         "mode": "lines",
         "text": [
          "storage_sizing_backup_orange_oem",
          "",
          "",
          "venk_idc_roopak_arun_fortunata"
         ],
         "type": "scatter",
         "x": [
          1.0500464617064793,
          1.0555420688609145,
          1.0555420688609145,
          1.0393482008874637
         ],
         "xaxis": "x",
         "y": [
          -388.125,
          -388.125,
          -496.2890625,
          -496.2890625
         ],
         "yaxis": "y"
        },
        {
         "hoverinfo": "text",
         "marker": {
          "color": "rgb(133,20,75)"
         },
         "mode": "lines",
         "text": [
          "incredimail_ebulletin_culpepper_cite_source",
          "",
          "",
          "termination_severance_compensation_culpepper_hrhero"
         ],
         "type": "scatter",
         "x": [
          0,
          0.839585136163146,
          0.839585136163146,
          0
         ],
         "xaxis": "x",
         "y": [
          -625,
          -625,
          -635,
          -635
         ],
         "yaxis": "y"
        },
        {
         "hoverinfo": "text",
         "marker": {
          "color": "rgb(255,220,0)"
         },
         "mode": "lines",
         "text": [
          "women_gap_jeans_emailsselect_brands",
          "",
          "",
          "quicken_fastcompany_fast_qi_quickinspirations"
         ],
         "type": "scatter",
         "x": [
          0,
          0.9050509823594091,
          0.9050509823594091,
          0
         ],
         "xaxis": "x",
         "y": [
          -645,
          -645,
          -655,
          -655
         ],
         "yaxis": "y"
        },
        {
         "hoverinfo": "text",
         "marker": {
          "color": "rgb(255,220,0)"
         },
         "mode": "lines",
         "text": [
          "quicken_fastcompany_women_gap_fast",
          "",
          "",
          "jamcracker_orbitz_central_848_2586"
         ],
         "type": "scatter",
         "x": [
          0.9050509823594091,
          0.9736703449427702,
          0.9736703449427702,
          0
         ],
         "xaxis": "x",
         "y": [
          -650,
          -650,
          -665,
          -665
         ],
         "yaxis": "y"
        },
        {
         "hoverinfo": "text",
         "marker": {
          "color": "rgb(0,116,217)"
         },
         "mode": "lines",
         "text": [
          "culpepper_termination_incredimail_ebulletin_severance",
          "",
          "",
          "quicken_fastcompany_women_jamcracker_gap"
         ],
         "type": "scatter",
         "x": [
          0.839585136163146,
          1.0175385901875875,
          1.0175385901875875,
          0.9736703449427702
         ],
         "xaxis": "x",
         "y": [
          -630,
          -630,
          -657.5,
          -657.5
         ],
         "yaxis": "y"
        },
        {
         "hoverinfo": "text",
         "marker": {
          "color": "rgb(0,116,217)"
         },
         "mode": "lines",
         "text": [
          "venk_idc_roopak_arun_storage",
          "",
          "",
          "quicken_fastcompany_culpepper_women_jamcracker"
         ],
         "type": "scatter",
         "x": [
          1.0555420688609145,
          1.0569635965172102,
          1.0569635965172102,
          1.0175385901875875
         ],
         "xaxis": "x",
         "y": [
          -442.20703125,
          -442.20703125,
          -643.75,
          -643.75
         ],
         "yaxis": "y"
        },
        {
         "hoverinfo": "text",
         "marker": {
          "color": "rgb(0,116,217)"
         },
         "mode": "lines",
         "text": [
          "rim_epservlet_dds_pda_opt",
          "",
          "",
          "venk_idc_roopak_arun_storage"
         ],
         "type": "scatter",
         "x": [
          0.9581893245691282,
          1.0834329417776198,
          1.0834329417776198,
          1.0569635965172102
         ],
         "xaxis": "x",
         "y": [
          -286.25,
          -286.25,
          -542.978515625,
          -542.978515625
         ],
         "yaxis": "y"
        },
        {
         "hoverinfo": "text",
         "marker": {
          "color": "rgb(40,35,35)"
         },
         "mode": "lines",
         "text": [
          "needle_pump_gas_needles_affixed",
          "",
          "",
          "insulin_diabetes_injections_needles_treatments"
         ],
         "type": "scatter",
         "x": [
          0,
          0.950237567936926,
          0.950237567936926,
          0
         ],
         "xaxis": "x",
         "y": [
          -675,
          -675,
          -685,
          -685
         ],
         "yaxis": "y"
        },
        {
         "hoverinfo": "text",
         "marker": {
          "color": "rgb(61,153,112)"
         },
         "mode": "lines",
         "text": [
          "laden_rm_rf_taliban_bin",
          "",
          "",
          "911_emergency_sony_phones_1920s"
         ],
         "type": "scatter",
         "x": [
          0,
          0.9012260965739766,
          0.9012260965739766,
          0
         ],
         "xaxis": "x",
         "y": [
          -715,
          -715,
          -725,
          -725
         ],
         "yaxis": "y"
        },
        {
         "hoverinfo": "text",
         "marker": {
          "color": "rgb(61,153,112)"
         },
         "mode": "lines",
         "text": [
          "indian_superdukan_asian_south_grocery",
          "",
          "",
          "rf_laden_rm_911_taliban"
         ],
         "type": "scatter",
         "x": [
          0,
          0.947976424544255,
          0.947976424544255,
          0.9012260965739766
         ],
         "xaxis": "x",
         "y": [
          -705,
          -705,
          -720,
          -720
         ],
         "yaxis": "y"
        },
        {
         "hoverinfo": "text",
         "marker": {
          "color": "rgb(61,153,112)"
         },
         "mode": "lines",
         "text": [
          "rf_laden_rm_911_indian",
          "",
          "",
          "records_census_ancestry_1885_aged"
         ],
         "type": "scatter",
         "x": [
          0.947976424544255,
          0.9561793546634084,
          0.9561793546634084,
          0
         ],
         "xaxis": "x",
         "y": [
          -712.5,
          -712.5,
          -735,
          -735
         ],
         "yaxis": "y"
        },
        {
         "hoverinfo": "text",
         "marker": {
          "color": "rgb(61,153,112)"
         },
         "mode": "lines",
         "text": [
          "batteries_battery_fuel_power_lithium",
          "",
          "",
          "rf_laden_rm_911_records"
         ],
         "type": "scatter",
         "x": [
          0,
          0.9742187115430779,
          0.9742187115430779,
          0.9561793546634084
         ],
         "xaxis": "x",
         "y": [
          -695,
          -695,
          -723.75,
          -723.75
         ],
         "yaxis": "y"
        },
        {
         "hoverinfo": "text",
         "marker": {
          "color": "rgb(255,65,54)"
         },
         "mode": "lines",
         "text": [
          "jewish_jews_religion_napoleon_tgij",
          "",
          "",
          "stack_paperstack_paper_scope_stack1"
         ],
         "type": "scatter",
         "x": [
          0,
          0.9799224366011249,
          0.9799224366011249,
          0
         ],
         "xaxis": "x",
         "y": [
          -745,
          -745,
          -755,
          -755
         ],
         "yaxis": "y"
        },
        {
         "hoverinfo": "text",
         "marker": {
          "color": "rgb(255,65,54)"
         },
         "mode": "lines",
         "text": [
          "vegetarian_chickens_steak_meat_veggie",
          "",
          "",
          "bullets_bullet_bulleted_sentences_artists"
         ],
         "type": "scatter",
         "x": [
          0,
          0.9587796312973736,
          0.9587796312973736,
          0
         ],
         "xaxis": "x",
         "y": [
          -765,
          -765,
          -775,
          -775
         ],
         "yaxis": "y"
        },
        {
         "hoverinfo": "text",
         "marker": {
          "color": "rgb(255,65,54)"
         },
         "mode": "lines",
         "text": [
          "jewish_jews_stack_paperstack_paper",
          "",
          "",
          "vegetarian_bullets_chickens_bullet_steak"
         ],
         "type": "scatter",
         "x": [
          0.9799224366011249,
          0.9871747320060186,
          0.9871747320060186,
          0.9587796312973736
         ],
         "xaxis": "x",
         "y": [
          -750,
          -750,
          -770,
          -770
         ],
         "yaxis": "y"
        },
        {
         "hoverinfo": "text",
         "marker": {
          "color": "rgb(255,65,54)"
         },
         "mode": "lines",
         "text": [
          "smoke_smoking_nicorette_quit_cigarette",
          "",
          "",
          "believe_why_could_can_yes"
         ],
         "type": "scatter",
         "x": [
          0,
          0.9678602782782294,
          0.9678602782782294,
          0
         ],
         "xaxis": "x",
         "y": [
          -785,
          -785,
          -795,
          -795
         ],
         "yaxis": "y"
        },
        {
         "hoverinfo": "text",
         "marker": {
          "color": "rgb(255,65,54)"
         },
         "mode": "lines",
         "text": [
          "smoke_smoking_believe_nicorette_quit",
          "",
          "",
          "howard_tackling_encouraging_ashish_suspect"
         ],
         "type": "scatter",
         "x": [
          0.9678602782782294,
          0.9953328054431759,
          0.9953328054431759,
          0
         ],
         "xaxis": "x",
         "y": [
          -790,
          -790,
          -805,
          -805
         ],
         "yaxis": "y"
        },
        {
         "hoverinfo": "text",
         "marker": {
          "color": "rgb(255,65,54)"
         },
         "mode": "lines",
         "text": [
          "vegetarian_bullets_chickens_bullet_jewish",
          "",
          "",
          "howard_smoke_smoking_believe_nicorette"
         ],
         "type": "scatter",
         "x": [
          0.9871747320060186,
          0.9962379117131763,
          0.9962379117131763,
          0.9953328054431759
         ],
         "xaxis": "x",
         "y": [
          -760,
          -760,
          -797.5,
          -797.5
         ],
         "yaxis": "y"
        },
        {
         "hoverinfo": "text",
         "marker": {
          "color": "rgb(0,116,217)"
         },
         "mode": "lines",
         "text": [
          "rf_laden_rm_911_records",
          "",
          "",
          "vegetarian_bullets_chickens_howard_bullet"
         ],
         "type": "scatter",
         "x": [
          0.9742187115430779,
          1.0230485414227442,
          1.0230485414227442,
          0.9962379117131763
         ],
         "xaxis": "x",
         "y": [
          -709.375,
          -709.375,
          -778.75,
          -778.75
         ],
         "yaxis": "y"
        },
        {
         "hoverinfo": "text",
         "marker": {
          "color": "rgb(0,116,217)"
         },
         "mode": "lines",
         "text": [
          "insulin_diabetes_needles_needle_pump",
          "",
          "",
          "rf_laden_rm_911_records"
         ],
         "type": "scatter",
         "x": [
          0.950237567936926,
          1.024068664694398,
          1.024068664694398,
          1.0230485414227442
         ],
         "xaxis": "x",
         "y": [
          -680,
          -680,
          -744.0625,
          -744.0625
         ],
         "yaxis": "y"
        },
        {
         "hoverinfo": "text",
         "marker": {
          "color": "rgb(35,205,205)"
         },
         "mode": "lines",
         "text": [
          "water_body_cells_substances_helps",
          "",
          "",
          "garden_gardening_burpee_lifeminder_flowers"
         ],
         "type": "scatter",
         "x": [
          0,
          0.9419129043936851,
          0.9419129043936851,
          0
         ],
         "xaxis": "x",
         "y": [
          -815,
          -815,
          -825,
          -825
         ],
         "yaxis": "y"
        },
        {
         "hoverinfo": "text",
         "marker": {
          "color": "rgb(35,205,205)"
         },
         "mode": "lines",
         "text": [
          "garden_gardening_water_burpee_lifeminder",
          "",
          "",
          "wine_wines_winetasting_wineries_cabernet"
         ],
         "type": "scatter",
         "x": [
          0.9419129043936851,
          0.9739061208055243,
          0.9739061208055243,
          0
         ],
         "xaxis": "x",
         "y": [
          -820,
          -820,
          -835,
          -835
         ],
         "yaxis": "y"
        },
        {
         "hoverinfo": "text",
         "marker": {
          "color": "rgb(61,153,112)"
         },
         "mode": "lines",
         "text": [
          "color_illuminations_2findex_2femail_9997613371",
          "",
          "",
          "hair_curl_shampoo_shave_rogaine"
         ],
         "type": "scatter",
         "x": [
          0,
          0.9376148339375533,
          0.9376148339375533,
          0
         ],
         "xaxis": "x",
         "y": [
          -845,
          -845,
          -855,
          -855
         ],
         "yaxis": "y"
        },
        {
         "hoverinfo": "text",
         "marker": {
          "color": "rgb(61,153,112)"
         },
         "mode": "lines",
         "text": [
          "dizzy_cats_affect_impact_effect",
          "",
          "",
          "weight_diet_lose_pounds_fat"
         ],
         "type": "scatter",
         "x": [
          0,
          0.8735229043463366,
          0.8735229043463366,
          0
         ],
         "xaxis": "x",
         "y": [
          -865,
          -865,
          -875,
          -875
         ],
         "yaxis": "y"
        },
        {
         "hoverinfo": "text",
         "marker": {
          "color": "rgb(61,153,112)"
         },
         "mode": "lines",
         "text": [
          "weight_diet_lose_pounds_fat",
          "",
          "",
          "sleep_apnea_snoring_angel_obstructive"
         ],
         "type": "scatter",
         "x": [
          0.8735229043463366,
          0.9783175857349927,
          0.9783175857349927,
          0
         ],
         "xaxis": "x",
         "y": [
          -870,
          -870,
          -885,
          -885
         ],
         "yaxis": "y"
        },
        {
         "hoverinfo": "text",
         "marker": {
          "color": "rgb(61,153,112)"
         },
         "mode": "lines",
         "text": [
          "color_illuminations_2femail_2findex_hair",
          "",
          "",
          "weight_sleep_diet_lose_pounds"
         ],
         "type": "scatter",
         "x": [
          0.9376148339375533,
          0.9854154620167973,
          0.9854154620167973,
          0.9783175857349927
         ],
         "xaxis": "x",
         "y": [
          -850,
          -850,
          -877.5,
          -877.5
         ],
         "yaxis": "y"
        },
        {
         "hoverinfo": "text",
         "marker": {
          "color": "rgb(0,116,217)"
         },
         "mode": "lines",
         "text": [
          "garden_wine_wines_gardening_water",
          "",
          "",
          "weight_color_sleep_illuminations_hair"
         ],
         "type": "scatter",
         "x": [
          0.9739061208055243,
          1.0102593118030596,
          1.0102593118030596,
          0.9854154620167973
         ],
         "xaxis": "x",
         "y": [
          -827.5,
          -827.5,
          -863.75,
          -863.75
         ],
         "yaxis": "y"
        },
        {
         "hoverinfo": "text",
         "marker": {
          "color": "rgb(0,116,217)"
         },
         "mode": "lines",
         "text": [
          "rf_laden_rm_911_records",
          "",
          "",
          "weight_color_sleep_illuminations_hair"
         ],
         "type": "scatter",
         "x": [
          1.024068664694398,
          1.0479388742201992,
          1.0479388742201992,
          1.0102593118030596
         ],
         "xaxis": "x",
         "y": [
          -712.03125,
          -712.03125,
          -845.625,
          -845.625
         ],
         "yaxis": "y"
        },
        {
         "hoverinfo": "text",
         "marker": {
          "color": "rgb(255,65,54)"
         },
         "mode": "lines",
         "text": [
          "titanium_4423_instillation_4361_install",
          "",
          "",
          "struts_husted_coading_evvironment_ted"
         ],
         "type": "scatter",
         "x": [
          0,
          0.9888554077430025,
          0.9888554077430025,
          0
         ],
         "xaxis": "x",
         "y": [
          -905,
          -905,
          -915,
          -915
         ],
         "yaxis": "y"
        },
        {
         "hoverinfo": "text",
         "marker": {
          "color": "rgb(255,65,54)"
         },
         "mode": "lines",
         "text": [
          "struts_titanium_husted_coading_evvironment",
          "",
          "",
          "hyperras_aventail_extranet_connect_01"
         ],
         "type": "scatter",
         "x": [
          0.9888554077430025,
          0.9935723086423097,
          0.9935723086423097,
          0
         ],
         "xaxis": "x",
         "y": [
          -910,
          -910,
          -925,
          -925
         ],
         "yaxis": "y"
        },
        {
         "hoverinfo": "text",
         "marker": {
          "color": "rgb(255,65,54)"
         },
         "mode": "lines",
         "text": [
          "trv730_camcorder_dcr_camcorders_lcd",
          "",
          "",
          "hyperras_struts_titanium_aventail_extranet"
         ],
         "type": "scatter",
         "x": [
          0,
          0.993880530639449,
          0.993880530639449,
          0.9935723086423097
         ],
         "xaxis": "x",
         "y": [
          -895,
          -895,
          -917.5,
          -917.5
         ],
         "yaxis": "y"
        },
        {
         "hoverinfo": "text",
         "marker": {
          "color": "rgb(35,205,205)"
         },
         "mode": "lines",
         "text": [
          "error_server4_apache_127_bugreport",
          "",
          "",
          "resin_resin1_documentory_probleem_caucho"
         ],
         "type": "scatter",
         "x": [
          0,
          0.9524694357096649,
          0.9524694357096649,
          0
         ],
         "xaxis": "x",
         "y": [
          -935,
          -935,
          -945,
          -945
         ],
         "yaxis": "y"
        },
        {
         "hoverinfo": "text",
         "marker": {
          "color": "rgb(0,116,217)"
         },
         "mode": "lines",
         "text": [
          "hyperras_struts_titanium_trv730_camcorder",
          "",
          "",
          "resin_error_server4_apache_warning"
         ],
         "type": "scatter",
         "x": [
          0.993880530639449,
          1.008904314746294,
          1.008904314746294,
          0.9524694357096649
         ],
         "xaxis": "x",
         "y": [
          -906.25,
          -906.25,
          -940,
          -940
         ],
         "yaxis": "y"
        },
        {
         "hoverinfo": "text",
         "marker": {
          "color": "rgb(133,20,75)"
         },
         "mode": "lines",
         "text": [
          "publications_research_7772_44_9765",
          "",
          "",
          "nor_416_darcy_1899_triumphs"
         ],
         "type": "scatter",
         "x": [
          0,
          0.9802820130276632,
          0.9802820130276632,
          0
         ],
         "xaxis": "x",
         "y": [
          -965,
          -965,
          -975,
          -975
         ],
         "yaxis": "y"
        },
        {
         "hoverinfo": "text",
         "marker": {
          "color": "rgb(133,20,75)"
         },
         "mode": "lines",
         "text": [
          "instat_cat_cmceuen_reedbusiness_catalog",
          "",
          "",
          "publications_research_7772_44_9765"
         ],
         "type": "scatter",
         "x": [
          0,
          0.9939828493092954,
          0.9939828493092954,
          0.9802820130276632
         ],
         "xaxis": "x",
         "y": [
          -955,
          -955,
          -970,
          -970
         ],
         "yaxis": "y"
        },
        {
         "hoverinfo": "text",
         "marker": {
          "color": "rgb(255,220,0)"
         },
         "mode": "lines",
         "text": [
          "views_sender_audience_expressed_states",
          "",
          "",
          "unstrung_server1_majordomo_sender_stringer"
         ],
         "type": "scatter",
         "x": [
          0,
          0.9542250761795691,
          0.9542250761795691,
          0
         ],
         "xaxis": "x",
         "y": [
          -985,
          -985,
          -995,
          -995
         ],
         "yaxis": "y"
        },
        {
         "hoverinfo": "text",
         "marker": {
          "color": "rgb(0,116,217)"
         },
         "mode": "lines",
         "text": [
          "publications_research_7772_44_9765",
          "",
          "",
          "unstrung_server1_sender_views_majordomo"
         ],
         "type": "scatter",
         "x": [
          0.9939828493092954,
          1.0092808979404335,
          1.0092808979404335,
          0.9542250761795691
         ],
         "xaxis": "x",
         "y": [
          -962.5,
          -962.5,
          -990,
          -990
         ],
         "yaxis": "y"
        },
        {
         "hoverinfo": "text",
         "marker": {
          "color": "rgb(0,116,217)"
         },
         "mode": "lines",
         "text": [
          "hyperras_resin_struts_error_server4",
          "",
          "",
          "publications_research_7772_44_2379"
         ],
         "type": "scatter",
         "x": [
          1.008904314746294,
          1.0210942764231874,
          1.0210942764231874,
          1.0092808979404335
         ],
         "xaxis": "x",
         "y": [
          -923.125,
          -923.125,
          -976.25,
          -976.25
         ],
         "yaxis": "y"
        },
        {
         "hoverinfo": "text",
         "marker": {
          "color": "rgb(40,35,35)"
         },
         "mode": "lines",
         "text": [
          "coffeecup_coffee_dundee_lyris_subscribed",
          "",
          "",
          "jaime_thank_appriciate_jaimemcneely_let"
         ],
         "type": "scatter",
         "x": [
          0,
          0.9332998843421827,
          0.9332998843421827,
          0
         ],
         "xaxis": "x",
         "y": [
          -1005,
          -1005,
          -1015,
          -1015
         ],
         "yaxis": "y"
        },
        {
         "hoverinfo": "text",
         "marker": {
          "color": "rgb(0,116,217)"
         },
         "mode": "lines",
         "text": [
          "publications_research_7772_44_2379",
          "",
          "",
          "coffeecup_coffee_dundee_lyris_subscribed"
         ],
         "type": "scatter",
         "x": [
          1.0210942764231874,
          1.041642227788889,
          1.041642227788889,
          0.9332998843421827
         ],
         "xaxis": "x",
         "y": [
          -949.6875,
          -949.6875,
          -1010,
          -1010
         ],
         "yaxis": "y"
        },
        {
         "hoverinfo": "text",
         "marker": {
          "color": "rgb(0,116,217)"
         },
         "mode": "lines",
         "text": [
          "weight_color_rf_sleep_laden",
          "",
          "",
          "publications_research_7772_44_coffeecup"
         ],
         "type": "scatter",
         "x": [
          1.0479388742201992,
          1.075043231832052,
          1.075043231832052,
          1.041642227788889
         ],
         "xaxis": "x",
         "y": [
          -778.828125,
          -778.828125,
          -979.84375,
          -979.84375
         ],
         "yaxis": "y"
        },
        {
         "hoverinfo": "text",
         "marker": {
          "color": "rgb(61,153,112)"
         },
         "mode": "lines",
         "text": [
          "wilhan_baseline_build_create_start",
          "",
          "",
          "traceability_obfuscation_hunch_contention_wilhan"
         ],
         "type": "scatter",
         "x": [
          0,
          0.8424475060488894,
          0.8424475060488894,
          0
         ],
         "xaxis": "x",
         "y": [
          -1025,
          -1025,
          -1035,
          -1035
         ],
         "yaxis": "y"
        },
        {
         "hoverinfo": "text",
         "marker": {
          "color": "rgb(0,116,217)"
         },
         "mode": "lines",
         "text": [
          "research_publications_7772_44_coffeecup",
          "",
          "",
          "wilhan_baseline_build_traceability_obfuscation"
         ],
         "type": "scatter",
         "x": [
          1.075043231832052,
          1.1039591601910483,
          1.1039591601910483,
          0.8424475060488894
         ],
         "xaxis": "x",
         "y": [
          -879.3359375,
          -879.3359375,
          -1030,
          -1030
         ],
         "yaxis": "y"
        },
        {
         "hoverinfo": "text",
         "marker": {
          "color": "rgb(0,116,217)"
         },
         "mode": "lines",
         "text": [
          "venk_idc_rim_epservlet_dds",
          "",
          "",
          "research_publications_7772_44_coffeecup"
         ],
         "type": "scatter",
         "x": [
          1.0834329417776198,
          1.1472071175271252,
          1.1472071175271252,
          1.1039591601910483
         ],
         "xaxis": "x",
         "y": [
          -414.6142578125,
          -414.6142578125,
          -954.66796875,
          -954.66796875
         ],
         "yaxis": "y"
        },
        {
         "hoverinfo": "text",
         "marker": {
          "color": "rgb(0,116,217)"
         },
         "mode": "lines",
         "text": [
          "src_ejolt_services_service_templates",
          "",
          "",
          "venk_idc_rim_epservlet_research"
         ],
         "type": "scatter",
         "x": [
          0.9767238912540911,
          1.1954163089943957,
          1.1954163089943957,
          1.1472071175271252
         ],
         "xaxis": "x",
         "y": [
          -250,
          -250,
          -684.64111328125,
          -684.64111328125
         ],
         "yaxis": "y"
        },
        {
         "hoverinfo": "text",
         "marker": {
          "color": "rgb(0,116,217)"
         },
         "mode": "lines",
         "text": [
          "xml_jsp_content_japanese_oca",
          "",
          "",
          "src_ejolt_services_service_templates"
         ],
         "type": "scatter",
         "x": [
          1.090224662158649,
          1.35145610879342,
          1.35145610879342,
          1.1954163089943957
         ],
         "xaxis": "x",
         "y": [
          -108.75,
          -108.75,
          -467.320556640625,
          -467.320556640625
         ],
         "yaxis": "y"
        },
        {
         "hoverinfo": "text",
         "marker": {
          "color": "rgb(255,65,54)"
         },
         "mode": "lines",
         "text": [
          "test_tests_stress_acceptance_unit",
          "",
          "",
          "qa_qwest_rational_q4_test"
         ],
         "type": "scatter",
         "x": [
          0,
          0.698112845716963,
          0.698112845716963,
          0
         ],
         "xaxis": "x",
         "y": [
          -1055,
          -1055,
          -1065,
          -1065
         ],
         "yaxis": "y"
        },
        {
         "hoverinfo": "text",
         "marker": {
          "color": "rgb(255,65,54)"
         },
         "mode": "lines",
         "text": [
          "case_cases_investigation_studies_investigate",
          "",
          "",
          "test_tests_qa_testing_stress"
         ],
         "type": "scatter",
         "x": [
          0,
          0.838116974344158,
          0.838116974344158,
          0.698112845716963
         ],
         "xaxis": "x",
         "y": [
          -1045,
          -1045,
          -1060,
          -1060
         ],
         "yaxis": "y"
        },
        {
         "hoverinfo": "text",
         "marker": {
          "color": "rgb(255,65,54)"
         },
         "mode": "lines",
         "text": [
          "bugs_bugzilla_bug_fix_fixed",
          "",
          "",
          "migration_upgrade_transfer_upgrades_knowledge"
         ],
         "type": "scatter",
         "x": [
          0,
          0.84749541150021,
          0.84749541150021,
          0
         ],
         "xaxis": "x",
         "y": [
          -1095,
          -1095,
          -1105,
          -1105
         ],
         "yaxis": "y"
        },
        {
         "hoverinfo": "text",
         "marker": {
          "color": "rgb(255,65,54)"
         },
         "mode": "lines",
         "text": [
          "biogen_downloadobject_criterias_bayer_object",
          "",
          "",
          "bugs_bugzilla_bug_fix_fixed"
         ],
         "type": "scatter",
         "x": [
          0,
          0.8640219975456958,
          0.8640219975456958,
          0.84749541150021
         ],
         "xaxis": "x",
         "y": [
          -1085,
          -1085,
          -1100,
          -1100
         ],
         "yaxis": "y"
        },
        {
         "hoverinfo": "text",
         "marker": {
          "color": "rgb(255,65,54)"
         },
         "mode": "lines",
         "text": [
          "log4j_log_logging_logs_logger",
          "",
          "",
          "bugs_biogen_bugzilla_bug_fix"
         ],
         "type": "scatter",
         "x": [
          0,
          0.8861283156540205,
          0.8861283156540205,
          0.8640219975456958
         ],
         "xaxis": "x",
         "y": [
          -1075,
          -1075,
          -1092.5,
          -1092.5
         ],
         "yaxis": "y"
        },
        {
         "hoverinfo": "text",
         "marker": {
          "color": "rgb(255,65,54)"
         },
         "mode": "lines",
         "text": [
          "license_licensing_licenses_privacy_policy",
          "",
          "",
          "robot_machine_rational_tool_tools"
         ],
         "type": "scatter",
         "x": [
          0,
          0.7797091773129341,
          0.7797091773129341,
          0
         ],
         "xaxis": "x",
         "y": [
          -1125,
          -1125,
          -1135,
          -1135
         ],
         "yaxis": "y"
        },
        {
         "hoverinfo": "text",
         "marker": {
          "color": "rgb(255,65,54)"
         },
         "mode": "lines",
         "text": [
          "memory_concurrent_cpu_sessions_load",
          "",
          "",
          "license_licensing_licenses_privacy_robot"
         ],
         "type": "scatter",
         "x": [
          0,
          0.8006303005404064,
          0.8006303005404064,
          0.7797091773129341
         ],
         "xaxis": "x",
         "y": [
          -1115,
          -1115,
          -1130,
          -1130
         ],
         "yaxis": "y"
        },
        {
         "hoverinfo": "text",
         "marker": {
          "color": "rgb(255,65,54)"
         },
         "mode": "lines",
         "text": [
          "siebel_aml_vss_files_srf",
          "",
          "",
          "netscape_server_webbyphone_proxy_url"
         ],
         "type": "scatter",
         "x": [
          0,
          0.6914529190555352,
          0.6914529190555352,
          0
         ],
         "xaxis": "x",
         "y": [
          -1145,
          -1145,
          -1155,
          -1155
         ],
         "yaxis": "y"
        },
        {
         "hoverinfo": "text",
         "marker": {
          "color": "rgb(255,65,54)"
         },
         "mode": "lines",
         "text": [
          "pager_rendering_javascript_screen_frames",
          "",
          "",
          "emas_ae_ecs_aes_emds"
         ],
         "type": "scatter",
         "x": [
          0,
          0.6625264442258181,
          0.6625264442258181,
          0
         ],
         "xaxis": "x",
         "y": [
          -1185,
          -1185,
          -1195,
          -1195
         ],
         "yaxis": "y"
        },
        {
         "hoverinfo": "text",
         "marker": {
          "color": "rgb(255,65,54)"
         },
         "mode": "lines",
         "text": [
          "logo_design_visto_icons_logos",
          "",
          "",
          "emas_ae_ecs_aes_emds"
         ],
         "type": "scatter",
         "x": [
          0,
          0.7253543432968664,
          0.7253543432968664,
          0.6625264442258181
         ],
         "xaxis": "x",
         "y": [
          -1175,
          -1175,
          -1190,
          -1190
         ],
         "yaxis": "y"
        },
        {
         "hoverinfo": "text",
         "marker": {
          "color": "rgb(255,65,54)"
         },
         "mode": "lines",
         "text": [
          "logo_emas_ae_ecs_aes",
          "",
          "",
          "button_softkey_option_input_amlvar"
         ],
         "type": "scatter",
         "x": [
          0.7253543432968664,
          0.774304472239551,
          0.774304472239551,
          0
         ],
         "xaxis": "x",
         "y": [
          -1182.5,
          -1182.5,
          -1205,
          -1205
         ],
         "yaxis": "y"
        },
        {
         "hoverinfo": "text",
         "marker": {
          "color": "rgb(255,65,54)"
         },
         "mode": "lines",
         "text": [
          "image_camera_upshot_photo_pictures",
          "",
          "",
          "logo_emas_ae_ecs_aes"
         ],
         "type": "scatter",
         "x": [
          0,
          0.7971844987121358,
          0.7971844987121358,
          0.774304472239551
         ],
         "xaxis": "x",
         "y": [
          -1165,
          -1165,
          -1193.75,
          -1193.75
         ],
         "yaxis": "y"
        },
        {
         "hoverinfo": "text",
         "marker": {
          "color": "rgb(255,65,54)"
         },
         "mode": "lines",
         "text": [
          "siebel_vss_aml_netscape_server",
          "",
          "",
          "logo_emas_ae_ecs_aes"
         ],
         "type": "scatter",
         "x": [
          0.6914529190555352,
          0.8373677726236491,
          0.8373677726236491,
          0.7971844987121358
         ],
         "xaxis": "x",
         "y": [
          -1150,
          -1150,
          -1179.375,
          -1179.375
         ],
         "yaxis": "y"
        },
        {
         "hoverinfo": "text",
         "marker": {
          "color": "rgb(255,65,54)"
         },
         "mode": "lines",
         "text": [
          "license_memory_licenses_licensing_privacy",
          "",
          "",
          "siebel_vss_aml_ae_logo"
         ],
         "type": "scatter",
         "x": [
          0.8006303005404064,
          0.8995639442033262,
          0.8995639442033262,
          0.8373677726236491
         ],
         "xaxis": "x",
         "y": [
          -1122.5,
          -1122.5,
          -1164.6875,
          -1164.6875
         ],
         "yaxis": "y"
        },
        {
         "hoverinfo": "text",
         "marker": {
          "color": "rgb(255,65,54)"
         },
         "mode": "lines",
         "text": [
          "bugs_biogen_bugzilla_bug_fix",
          "",
          "",
          "siebel_vss_aml_ae_logo"
         ],
         "type": "scatter",
         "x": [
          0.8861283156540205,
          0.9167454262330252,
          0.9167454262330252,
          0.8995639442033262
         ],
         "xaxis": "x",
         "y": [
          -1083.75,
          -1083.75,
          -1143.59375,
          -1143.59375
         ],
         "yaxis": "y"
        },
        {
         "hoverinfo": "text",
         "marker": {
          "color": "rgb(255,65,54)"
         },
         "mode": "lines",
         "text": [
          "vpn_ip_address_external_port",
          "",
          "",
          "password_cookies_cookie_login_session"
         ],
         "type": "scatter",
         "x": [
          0,
          0.8455767568384274,
          0.8455767568384274,
          0
         ],
         "xaxis": "x",
         "y": [
          -1225,
          -1225,
          -1235,
          -1235
         ],
         "yaxis": "y"
        },
        {
         "hoverinfo": "text",
         "marker": {
          "color": "rgb(255,65,54)"
         },
         "mode": "lines",
         "text": [
          "emulator_games_emulators_simulator_game",
          "",
          "",
          "password_vpn_ip_cookies_cookie"
         ],
         "type": "scatter",
         "x": [
          0,
          0.889871567340804,
          0.889871567340804,
          0.8455767568384274
         ],
         "xaxis": "x",
         "y": [
          -1215,
          -1215,
          -1230,
          -1230
         ],
         "yaxis": "y"
        },
        {
         "hoverinfo": "text",
         "marker": {
          "color": "rgb(255,65,54)"
         },
         "mode": "lines",
         "text": [
          "verisign_hosting_certificate_domain_dns",
          "",
          "",
          "names_trademark_name_glossary_pronunciation"
         ],
         "type": "scatter",
         "x": [
          0,
          0.7601168980674149,
          0.7601168980674149,
          0
         ],
         "xaxis": "x",
         "y": [
          -1245,
          -1245,
          -1255,
          -1255
         ],
         "yaxis": "y"
        },
        {
         "hoverinfo": "text",
         "marker": {
          "color": "rgb(255,65,54)"
         },
         "mode": "lines",
         "text": [
          "password_vpn_ip_cookies_cookie",
          "",
          "",
          "verisign_hosting_certificate_domain_names"
         ],
         "type": "scatter",
         "x": [
          0.889871567340804,
          0.9120736431699665,
          0.9120736431699665,
          0.7601168980674149
         ],
         "xaxis": "x",
         "y": [
          -1222.5,
          -1222.5,
          -1250,
          -1250
         ],
         "yaxis": "y"
        },
        {
         "hoverinfo": "text",
         "marker": {
          "color": "rgb(255,65,54)"
         },
         "mode": "lines",
         "text": [
          "siebel_bugs_bug_biogen_vss",
          "",
          "",
          "password_vpn_ip_cookies_cookie"
         ],
         "type": "scatter",
         "x": [
          0.9167454262330252,
          0.9284500581653797,
          0.9284500581653797,
          0.9120736431699665
         ],
         "xaxis": "x",
         "y": [
          -1113.671875,
          -1113.671875,
          -1236.25,
          -1236.25
         ],
         "yaxis": "y"
        },
        {
         "hoverinfo": "text",
         "marker": {
          "color": "rgb(255,65,54)"
         },
         "mode": "lines",
         "text": [
          "test_tests_qa_testing_stress",
          "",
          "",
          "siebel_password_bug_bugs_the"
         ],
         "type": "scatter",
         "x": [
          0.838116974344158,
          0.976160512612778,
          0.976160512612778,
          0.9284500581653797
         ],
         "xaxis": "x",
         "y": [
          -1052.5,
          -1052.5,
          -1174.9609375,
          -1174.9609375
         ],
         "yaxis": "y"
        },
        {
         "hoverinfo": "text",
         "marker": {
          "color": "rgb(35,205,205)"
         },
         "mode": "lines",
         "text": [
          "webex_channelwave_streaming_macromedia_placeware",
          "",
          "",
          "wireless_mobile_wap_sun_blackberry"
         ],
         "type": "scatter",
         "x": [
          0,
          0.4964889511200161,
          0.4964889511200161,
          0
         ],
         "xaxis": "x",
         "y": [
          -1285,
          -1285,
          -1295,
          -1295
         ],
         "yaxis": "y"
        },
        {
         "hoverinfo": "text",
         "marker": {
          "color": "rgb(35,205,205)"
         },
         "mode": "lines",
         "text": [
          "wireless_mobile_internet_wap_sun",
          "",
          "",
          "avocadoit_408_562_palm_accenture"
         ],
         "type": "scatter",
         "x": [
          0.4964889511200161,
          0.6342014585361246,
          0.6342014585361246,
          0
         ],
         "xaxis": "x",
         "y": [
          -1290,
          -1290,
          -1305,
          -1305
         ],
         "yaxis": "y"
        },
        {
         "hoverinfo": "text",
         "marker": {
          "color": "rgb(35,205,205)"
         },
         "mode": "lines",
         "text": [
          "hp_sybase_intel_dell_laptop",
          "",
          "",
          "avocadoit_wireless_408_562_palm"
         ],
         "type": "scatter",
         "x": [
          0,
          0.7124384643258317,
          0.7124384643258317,
          0.6342014585361246
         ],
         "xaxis": "x",
         "y": [
          -1275,
          -1275,
          -1297.5,
          -1297.5
         ],
         "yaxis": "y"
        },
        {
         "hoverinfo": "text",
         "marker": {
          "color": "rgb(35,205,205)"
         },
         "mode": "lines",
         "text": [
          "avocadoit_wireless_408_562_location",
          "",
          "",
          "oracle_ibm_database_weblogic_bea"
         ],
         "type": "scatter",
         "x": [
          0.7124384643258317,
          0.7482879478997738,
          0.7482879478997738,
          0
         ],
         "xaxis": "x",
         "y": [
          -1286.25,
          -1286.25,
          -1315,
          -1315
         ],
         "yaxis": "y"
        },
        {
         "hoverinfo": "text",
         "marker": {
          "color": "rgb(35,205,205)"
         },
         "mode": "lines",
         "text": [
          "kpmg_europe_c2it_european_kpn",
          "",
          "",
          "avocadoit_wireless_408_562_location"
         ],
         "type": "scatter",
         "x": [
          0,
          0.870328834162019,
          0.870328834162019,
          0.7482879478997738
         ],
         "xaxis": "x",
         "y": [
          -1265,
          -1265,
          -1300.625,
          -1300.625
         ],
         "yaxis": "y"
        },
        {
         "hoverinfo": "text",
         "marker": {
          "color": "rgb(35,205,205)"
         },
         "mode": "lines",
         "text": [
          "fedex_order_shipping_ups_boxes",
          "",
          "",
          "expense_invoice_credit_invoices_paytrust"
         ],
         "type": "scatter",
         "x": [
          0,
          0.6982523646308347,
          0.6982523646308347,
          0
         ],
         "xaxis": "x",
         "y": [
          -1335,
          -1335,
          -1345,
          -1345
         ],
         "yaxis": "y"
        },
        {
         "hoverinfo": "text",
         "marker": {
          "color": "rgb(35,205,205)"
         },
         "mode": "lines",
         "text": [
          "person_prakash_meeting_you_this",
          "",
          "",
          "conference_meeting_presentation_crm_slides"
         ],
         "type": "scatter",
         "x": [
          0,
          0.3038462953510719,
          0.3038462953510719,
          0
         ],
         "xaxis": "x",
         "y": [
          -1385,
          -1385,
          -1395,
          -1395
         ],
         "yaxis": "y"
        },
        {
         "hoverinfo": "text",
         "marker": {
          "color": "rgb(35,205,205)"
         },
         "mode": "lines",
         "text": [
          "discuss_agenda_discussion_we_let",
          "",
          "",
          "meeting_person_conference_you_this"
         ],
         "type": "scatter",
         "x": [
          0,
          0.44570371517956214,
          0.44570371517956214,
          0.3038462953510719
         ],
         "xaxis": "x",
         "y": [
          -1375,
          -1375,
          -1390,
          -1390
         ],
         "yaxis": "y"
        },
        {
         "hoverinfo": "text",
         "marker": {
          "color": "rgb(35,205,205)"
         },
         "mode": "lines",
         "text": [
          "meeting_person_you_this_conference",
          "",
          "",
          "release_spec_offline_patch_build"
         ],
         "type": "scatter",
         "x": [
          0.44570371517956214,
          0.49653581809751196,
          0.49653581809751196,
          0
         ],
         "xaxis": "x",
         "y": [
          -1382.5,
          -1382.5,
          -1405,
          -1405
         ],
         "yaxis": "y"
        },
        {
         "hoverinfo": "text",
         "marker": {
          "color": "rgb(35,205,205)"
         },
         "mode": "lines",
         "text": [
          "review_feedback_survey_spreadsheet_please",
          "",
          "",
          "me_fax_please_pqa_questions"
         ],
         "type": "scatter",
         "x": [
          0,
          0.5073238474249284,
          0.5073238474249284,
          0
         ],
         "xaxis": "x",
         "y": [
          -1415,
          -1415,
          -1425,
          -1425
         ],
         "yaxis": "y"
        },
        {
         "hoverinfo": "text",
         "marker": {
          "color": "rgb(35,205,205)"
         },
         "mode": "lines",
         "text": [
          "meeting_person_this_you_we",
          "",
          "",
          "me_please_fax_if_any"
         ],
         "type": "scatter",
         "x": [
          0.49653581809751196,
          0.5528580291753239,
          0.5528580291753239,
          0.5073238474249284
         ],
         "xaxis": "x",
         "y": [
          -1393.75,
          -1393.75,
          -1420,
          -1420
         ],
         "yaxis": "y"
        },
        {
         "hoverinfo": "text",
         "marker": {
          "color": "rgb(35,205,205)"
         },
         "mode": "lines",
         "text": [
          "schedule_timesheet_date_calendar_time",
          "",
          "",
          "me_please_meeting_person_you"
         ],
         "type": "scatter",
         "x": [
          0,
          0.5984772429346568,
          0.5984772429346568,
          0.5528580291753239
         ],
         "xaxis": "x",
         "y": [
          -1365,
          -1365,
          -1406.875,
          -1406.875
         ],
         "yaxis": "y"
        },
        {
         "hoverinfo": "text",
         "marker": {
          "color": "rgb(35,205,205)"
         },
         "mode": "lines",
         "text": [
          "me_please_person_meeting_you",
          "",
          "",
          "call_base_touch_calls_him"
         ],
         "type": "scatter",
         "x": [
          0.5984772429346568,
          0.6441302883711143,
          0.6441302883711143,
          0
         ],
         "xaxis": "x",
         "y": [
          -1385.9375,
          -1385.9375,
          -1435,
          -1435
         ],
         "yaxis": "y"
        },
        {
         "hoverinfo": "text",
         "marker": {
          "color": "rgb(35,205,205)"
         },
         "mode": "lines",
         "text": [
          "trade_etrade_lead_fidelity_cabot",
          "",
          "",
          "call_me_please_person_meeting"
         ],
         "type": "scatter",
         "x": [
          0,
          0.7051486314977313,
          0.7051486314977313,
          0.6441302883711143
         ],
         "xaxis": "x",
         "y": [
          -1355,
          -1355,
          -1410.46875,
          -1410.46875
         ],
         "yaxis": "y"
        },
        {
         "hoverinfo": "text",
         "marker": {
          "color": "rgb(35,205,205)"
         },
         "mode": "lines",
         "text": [
          "call_me_please_person_meeting",
          "",
          "",
          "training_resume_interview_apply_course"
         ],
         "type": "scatter",
         "x": [
          0.7051486314977313,
          0.71242232619131,
          0.71242232619131,
          0
         ],
         "xaxis": "x",
         "y": [
          -1382.734375,
          -1382.734375,
          -1445,
          -1445
         ],
         "yaxis": "y"
        },
        {
         "hoverinfo": "text",
         "marker": {
          "color": "rgb(35,205,205)"
         },
         "mode": "lines",
         "text": [
          "expense_invoice_credit_order_fedex",
          "",
          "",
          "call_me_please_person_you"
         ],
         "type": "scatter",
         "x": [
          0.6982523646308347,
          0.7957598525661977,
          0.7957598525661977,
          0.71242232619131
         ],
         "xaxis": "x",
         "y": [
          -1340,
          -1340,
          -1413.8671875,
          -1413.8671875
         ],
         "yaxis": "y"
        },
        {
         "hoverinfo": "text",
         "marker": {
          "color": "rgb(35,205,205)"
         },
         "mode": "lines",
         "text": [
          "please_me_call_you_person",
          "",
          "",
          "voicemail_him_voice_left_he"
         ],
         "type": "scatter",
         "x": [
          0.7957598525661977,
          0.8123648064612766,
          0.8123648064612766,
          0
         ],
         "xaxis": "x",
         "y": [
          -1376.93359375,
          -1376.93359375,
          -1455,
          -1455
         ],
         "yaxis": "y"
        },
        {
         "hoverinfo": "text",
         "marker": {
          "color": "rgb(35,205,205)"
         },
         "mode": "lines",
         "text": [
          "appointment_insurance_doctor_appointments_medical",
          "",
          "",
          "me_please_call_you_person"
         ],
         "type": "scatter",
         "x": [
          0,
          0.8130666505438036,
          0.8130666505438036,
          0.8123648064612766
         ],
         "xaxis": "x",
         "y": [
          -1325,
          -1325,
          -1415.966796875,
          -1415.966796875
         ],
         "yaxis": "y"
        },
        {
         "hoverinfo": "text",
         "marker": {
          "color": "rgb(35,205,205)"
         },
         "mode": "lines",
         "text": [
          "avocadoit_wireless_408_562_location",
          "",
          "",
          "me_please_call_you_person"
         ],
         "type": "scatter",
         "x": [
          0.870328834162019,
          0.9758760713509359,
          0.9758760713509359,
          0.8130666505438036
         ],
         "xaxis": "x",
         "y": [
          -1282.8125,
          -1282.8125,
          -1370.4833984375,
          -1370.4833984375
         ],
         "yaxis": "y"
        },
        {
         "hoverinfo": "text",
         "marker": {
          "color": "rgb(0,116,217)"
         },
         "mode": "lines",
         "text": [
          "siebel_password_the_bugs_bug",
          "",
          "",
          "person_avocadoit_you_location_please"
         ],
         "type": "scatter",
         "x": [
          0.976160512612778,
          1.1920697243714558,
          1.1920697243714558,
          0.9758760713509359
         ],
         "xaxis": "x",
         "y": [
          -1113.73046875,
          -1113.73046875,
          -1326.64794921875,
          -1326.64794921875
         ],
         "yaxis": "y"
        },
        {
         "hoverinfo": "text",
         "marker": {
          "color": "rgb(61,153,112)"
         },
         "mode": "lines",
         "text": [
          "shower_baby_massage_showers_therapy",
          "",
          "",
          "baby_babycenter_1fc7nw_le_ce"
         ],
         "type": "scatter",
         "x": [
          0,
          0.7071405083217708,
          0.7071405083217708,
          0
         ],
         "xaxis": "x",
         "y": [
          -1465,
          -1465,
          -1475,
          -1475
         ],
         "yaxis": "y"
        },
        {
         "hoverinfo": "text",
         "marker": {
          "color": "rgb(255,65,54)"
         },
         "mode": "lines",
         "text": [
          "wife_man_he_god_his",
          "",
          "",
          "her_she_call_wants_me"
         ],
         "type": "scatter",
         "x": [
          0,
          0.630622808159376,
          0.630622808159376,
          0
         ],
         "xaxis": "x",
         "y": [
          -1485,
          -1485,
          -1495,
          -1495
         ],
         "yaxis": "y"
        },
        {
         "hoverinfo": "text",
         "marker": {
          "color": "rgb(255,65,54)"
         },
         "mode": "lines",
         "text": [
          "her_she_wife_call_said",
          "",
          "",
          "reproduce_orgasm_spot_her_vagina"
         ],
         "type": "scatter",
         "x": [
          0.630622808159376,
          0.7938519331753344,
          0.7938519331753344,
          0
         ],
         "xaxis": "x",
         "y": [
          -1490,
          -1490,
          -1505,
          -1505
         ],
         "yaxis": "y"
        },
        {
         "hoverinfo": "text",
         "marker": {
          "color": "rgb(0,116,217)"
         },
         "mode": "lines",
         "text": [
          "baby_babycenter_1fc7nw_le_ce",
          "",
          "",
          "her_she_wife_call_said"
         ],
         "type": "scatter",
         "x": [
          0.7071405083217708,
          1.1129806821348225,
          1.1129806821348225,
          0.7938519331753344
         ],
         "xaxis": "x",
         "y": [
          -1470,
          -1470,
          -1497.5,
          -1497.5
         ],
         "yaxis": "y"
        },
        {
         "hoverinfo": "text",
         "marker": {
          "color": "rgb(35,205,205)"
         },
         "mode": "lines",
         "text": [
          "metaphor_example_examples_metaphors_analogy",
          "",
          "",
          "duplication_merge_conflict_merging_conflicts"
         ],
         "type": "scatter",
         "x": [
          0,
          0.8852526149959327,
          0.8852526149959327,
          0
         ],
         "xaxis": "x",
         "y": [
          -1515,
          -1515,
          -1525,
          -1525
         ],
         "yaxis": "y"
        },
        {
         "hoverinfo": "text",
         "marker": {
          "color": "rgb(35,205,205)"
         },
         "mode": "lines",
         "text": [
          "xp_windows_microsoft_dll_installer",
          "",
          "",
          "pair_programming_pairing_patterns_code"
         ],
         "type": "scatter",
         "x": [
          0,
          0.7063706737732922,
          0.7063706737732922,
          0
         ],
         "xaxis": "x",
         "y": [
          -1545,
          -1545,
          -1555,
          -1555
         ],
         "yaxis": "y"
        },
        {
         "hoverinfo": "text",
         "marker": {
          "color": "rgb(35,205,205)"
         },
         "mode": "lines",
         "text": [
          "refactoring_refactor_bduf_code_tests",
          "",
          "",
          "smell_clean_smells_cleaning_smelly"
         ],
         "type": "scatter",
         "x": [
          0,
          0.8276904891206361,
          0.8276904891206361,
          0
         ],
         "xaxis": "x",
         "y": [
          -1565,
          -1565,
          -1575,
          -1575
         ],
         "yaxis": "y"
        },
        {
         "hoverinfo": "text",
         "marker": {
          "color": "rgb(35,205,205)"
         },
         "mode": "lines",
         "text": [
          "xp_programming_pair_windows_microsoft",
          "",
          "",
          "refactoring_refactor_bduf_code_tests"
         ],
         "type": "scatter",
         "x": [
          0.7063706737732922,
          0.8772805784295269,
          0.8772805784295269,
          0.8276904891206361
         ],
         "xaxis": "x",
         "y": [
          -1550,
          -1550,
          -1570,
          -1570
         ],
         "yaxis": "y"
        },
        {
         "hoverinfo": "text",
         "marker": {
          "color": "rgb(35,205,205)"
         },
         "mode": "lines",
         "text": [
          "blame_evidence_blaming_agree_disagree",
          "",
          "",
          "xp_programming_pair_refactoring_windows"
         ],
         "type": "scatter",
         "x": [
          0,
          0.9036377488035016,
          0.9036377488035016,
          0.8772805784295269
         ],
         "xaxis": "x",
         "y": [
          -1535,
          -1535,
          -1560,
          -1560
         ],
         "yaxis": "y"
        },
        {
         "hoverinfo": "text",
         "marker": {
          "color": "rgb(35,205,205)"
         },
         "mode": "lines",
         "text": [
          "xp_programming_pair_refactoring_windows",
          "",
          "",
          "uts_ats_atx_snmp_telematics"
         ],
         "type": "scatter",
         "x": [
          0.9036377488035016,
          0.9100056071829614,
          0.9100056071829614,
          0
         ],
         "xaxis": "x",
         "y": [
          -1547.5,
          -1547.5,
          -1585,
          -1585
         ],
         "yaxis": "y"
        },
        {
         "hoverinfo": "text",
         "marker": {
          "color": "rgb(35,205,205)"
         },
         "mode": "lines",
         "text": [
          "metaphor_duplication_example_merge_examples",
          "",
          "",
          "xp_programming_refactoring_pair_windows"
         ],
         "type": "scatter",
         "x": [
          0.8852526149959327,
          0.945502563381827,
          0.945502563381827,
          0.9100056071829614
         ],
         "xaxis": "x",
         "y": [
          -1520,
          -1520,
          -1566.25,
          -1566.25
         ],
         "yaxis": "y"
        },
        {
         "hoverinfo": "text",
         "marker": {
          "color": "rgb(133,20,75)"
         },
         "mode": "lines",
         "text": [
          "infoworld_news_newspapers_story_category",
          "",
          "",
          "stories_story_iteration_book_quote"
         ],
         "type": "scatter",
         "x": [
          0,
          0.7392210841025224,
          0.7392210841025224,
          0
         ],
         "xaxis": "x",
         "y": [
          -1605,
          -1605,
          -1615,
          -1615
         ],
         "yaxis": "y"
        },
        {
         "hoverinfo": "text",
         "marker": {
          "color": "rgb(133,20,75)"
         },
         "mode": "lines",
         "text": [
          "team_golf_mlb_game_giants",
          "",
          "",
          "story_stories_infoworld_news_quote"
         ],
         "type": "scatter",
         "x": [
          0,
          0.8031086441864868,
          0.8031086441864868,
          0.7392210841025224
         ],
         "xaxis": "x",
         "y": [
          -1595,
          -1595,
          -1610,
          -1610
         ],
         "yaxis": "y"
        },
        {
         "hoverinfo": "text",
         "marker": {
          "color": "rgb(133,20,75)"
         },
         "mode": "lines",
         "text": [
          "story_stories_infoworld_news_quote",
          "",
          "",
          "velocity_iteration_story_estimates_apparatus"
         ],
         "type": "scatter",
         "x": [
          0.8031086441864868,
          0.895355906666493,
          0.895355906666493,
          0
         ],
         "xaxis": "x",
         "y": [
          -1602.5,
          -1602.5,
          -1625,
          -1625
         ],
         "yaxis": "y"
        },
        {
         "hoverinfo": "text",
         "marker": {
          "color": "rgb(0,116,217)"
         },
         "mode": "lines",
         "text": [
          "xp_programming_pair_refactoring_windows",
          "",
          "",
          "story_stories_infoworld_velocity_news"
         ],
         "type": "scatter",
         "x": [
          0.945502563381827,
          1.019957933508949,
          1.019957933508949,
          0.895355906666493
         ],
         "xaxis": "x",
         "y": [
          -1543.125,
          -1543.125,
          -1613.75,
          -1613.75
         ],
         "yaxis": "y"
        },
        {
         "hoverinfo": "text",
         "marker": {
          "color": "rgb(255,220,0)"
         },
         "mode": "lines",
         "text": [
          "vacation_summer_rain_unused_weather",
          "",
          "",
          "weekend_doing_what_watch_rest"
         ],
         "type": "scatter",
         "x": [
          0,
          0.8671211851066316,
          0.8671211851066316,
          0
         ],
         "xaxis": "x",
         "y": [
          -1635,
          -1635,
          -1645,
          -1645
         ],
         "yaxis": "y"
        },
        {
         "hoverinfo": "text",
         "marker": {
          "color": "rgb(255,220,0)"
         },
         "mode": "lines",
         "text": [
          "lunch_dinner_dance_breakfast_wedding",
          "",
          "",
          "join_volunteers_fitness_volunteer_cry"
         ],
         "type": "scatter",
         "x": [
          0,
          0.8398399354386633,
          0.8398399354386633,
          0
         ],
         "xaxis": "x",
         "y": [
          -1655,
          -1655,
          -1665,
          -1665
         ],
         "yaxis": "y"
        },
        {
         "hoverinfo": "text",
         "marker": {
          "color": "rgb(255,220,0)"
         },
         "mode": "lines",
         "text": [
          "loan_lease_mortgage_rent_lenders",
          "",
          "",
          "rich_job_financially_home_money"
         ],
         "type": "scatter",
         "x": [
          0,
          0.8173140312526933,
          0.8173140312526933,
          0
         ],
         "xaxis": "x",
         "y": [
          -1675,
          -1675,
          -1685,
          -1685
         ],
         "yaxis": "y"
        },
        {
         "hoverinfo": "text",
         "marker": {
          "color": "rgb(255,220,0)"
         },
         "mode": "lines",
         "text": [
          "lunch_dinner_join_dance_breakfast",
          "",
          "",
          "loan_lease_mortgage_rent_home"
         ],
         "type": "scatter",
         "x": [
          0.8398399354386633,
          0.8763824517095905,
          0.8763824517095905,
          0.8173140312526933
         ],
         "xaxis": "x",
         "y": [
          -1660,
          -1660,
          -1680,
          -1680
         ],
         "yaxis": "y"
        },
        {
         "hoverinfo": "text",
         "marker": {
          "color": "rgb(255,220,0)"
         },
         "mode": "lines",
         "text": [
          "lunch_dinner_join_dance_breakfast",
          "",
          "",
          "nike_wear_shirts_shirt_pants"
         ],
         "type": "scatter",
         "x": [
          0.8763824517095905,
          0.8782985586648511,
          0.8782985586648511,
          0
         ],
         "xaxis": "x",
         "y": [
          -1670,
          -1670,
          -1695,
          -1695
         ],
         "yaxis": "y"
        },
        {
         "hoverinfo": "text",
         "marker": {
          "color": "rgb(255,220,0)"
         },
         "mode": "lines",
         "text": [
          "vacation_weekend_doing_what_watch",
          "",
          "",
          "lunch_dinner_join_dance_nike"
         ],
         "type": "scatter",
         "x": [
          0.8671211851066316,
          0.9149510182839112,
          0.9149510182839112,
          0.8782985586648511
         ],
         "xaxis": "x",
         "y": [
          -1640,
          -1640,
          -1682.5,
          -1682.5
         ],
         "yaxis": "y"
        },
        {
         "hoverinfo": "text",
         "marker": {
          "color": "rgb(255,220,0)"
         },
         "mode": "lines",
         "text": [
          "exit_map_cities_onto_139th",
          "",
          "",
          "car_driveway_driver_drivers_bike"
         ],
         "type": "scatter",
         "x": [
          0,
          0.8707333680808568,
          0.8707333680808568,
          0
         ],
         "xaxis": "x",
         "y": [
          -1705,
          -1705,
          -1715,
          -1715
         ],
         "yaxis": "y"
        },
        {
         "hoverinfo": "text",
         "marker": {
          "color": "rgb(255,220,0)"
         },
         "mode": "lines",
         "text": [
          "printer_pdf_print_acrobat_adobe",
          "",
          "",
          "keyboard_tablet_mouse_keypad_pen"
         ],
         "type": "scatter",
         "x": [
          0,
          0.8512757642211716,
          0.8512757642211716,
          0
         ],
         "xaxis": "x",
         "y": [
          -1725,
          -1725,
          -1735,
          -1735
         ],
         "yaxis": "y"
        },
        {
         "hoverinfo": "text",
         "marker": {
          "color": "rgb(255,220,0)"
         },
         "mode": "lines",
         "text": [
          "printer_pdf_keyboard_print_acrobat",
          "",
          "",
          "door_keys_key_open_cube"
         ],
         "type": "scatter",
         "x": [
          0.8512757642211716,
          0.8709421344161712,
          0.8709421344161712,
          0
         ],
         "xaxis": "x",
         "y": [
          -1730,
          -1730,
          -1745,
          -1745
         ],
         "yaxis": "y"
        },
        {
         "hoverinfo": "text",
         "marker": {
          "color": "rgb(255,220,0)"
         },
         "mode": "lines",
         "text": [
          "car_driveway_driver_drivers_exit",
          "",
          "",
          "printer_pdf_keyboard_print_acrobat"
         ],
         "type": "scatter",
         "x": [
          0.8707333680808568,
          0.9204443393875233,
          0.9204443393875233,
          0.8709421344161712
         ],
         "xaxis": "x",
         "y": [
          -1710,
          -1710,
          -1737.5,
          -1737.5
         ],
         "yaxis": "y"
        },
        {
         "hoverinfo": "text",
         "marker": {
          "color": "rgb(255,220,0)"
         },
         "mode": "lines",
         "text": [
          "276485_guestid_isit_uninstall_cfm",
          "",
          "",
          "cards_card_bluemountain_greeting_deck"
         ],
         "type": "scatter",
         "x": [
          0,
          0.890122750569645,
          0.890122750569645,
          0
         ],
         "xaxis": "x",
         "y": [
          -1755,
          -1755,
          -1765,
          -1765
         ],
         "yaxis": "y"
        },
        {
         "hoverinfo": "text",
         "marker": {
          "color": "rgb(255,220,0)"
         },
         "mode": "lines",
         "text": [
          "printer_car_pdf_keyboard_print",
          "",
          "",
          "cards_card_bluemountain_greeting_deck"
         ],
         "type": "scatter",
         "x": [
          0.9204443393875233,
          0.950648849258858,
          0.950648849258858,
          0.890122750569645
         ],
         "xaxis": "x",
         "y": [
          -1723.75,
          -1723.75,
          -1760,
          -1760
         ],
         "yaxis": "y"
        },
        {
         "hoverinfo": "text",
         "marker": {
          "color": "rgb(255,220,0)"
         },
         "mode": "lines",
         "text": [
          "lunch_dinner_join_dance_vacation",
          "",
          "",
          "cards_card_bluemountain_printer_car"
         ],
         "type": "scatter",
         "x": [
          0.9149510182839112,
          0.9791896954362461,
          0.9791896954362461,
          0.950648849258858
         ],
         "xaxis": "x",
         "y": [
          -1661.25,
          -1661.25,
          -1741.875,
          -1741.875
         ],
         "yaxis": "y"
        },
        {
         "hoverinfo": "text",
         "marker": {
          "color": "rgb(0,116,217)"
         },
         "mode": "lines",
         "text": [
          "xp_story_stories_programming_pair",
          "",
          "",
          "lunch_dinner_cards_card_you"
         ],
         "type": "scatter",
         "x": [
          1.019957933508949,
          1.0721480904759966,
          1.0721480904759966,
          0.9791896954362461
         ],
         "xaxis": "x",
         "y": [
          -1578.4375,
          -1578.4375,
          -1701.5625,
          -1701.5625
         ],
         "yaxis": "y"
        },
        {
         "hoverinfo": "text",
         "marker": {
          "color": "rgb(40,35,35)"
         },
         "mode": "lines",
         "text": [
          "travel_airlines_alaska_flight_seat",
          "",
          "",
          "hotel_reservations_reservation_marriott_sept"
         ],
         "type": "scatter",
         "x": [
          0,
          0.6888630051113127,
          0.6888630051113127,
          0
         ],
         "xaxis": "x",
         "y": [
          -1785,
          -1785,
          -1795,
          -1795
         ],
         "yaxis": "y"
        },
        {
         "hoverinfo": "text",
         "marker": {
          "color": "rgb(40,35,35)"
         },
         "mode": "lines",
         "text": [
          "tickets_sale_ticket_fantrax_3523115",
          "",
          "",
          "travel_hotel_airlines_alaska_seat"
         ],
         "type": "scatter",
         "x": [
          0,
          0.910275591933019,
          0.910275591933019,
          0.6888630051113127
         ],
         "xaxis": "x",
         "y": [
          -1775,
          -1775,
          -1790,
          -1790
         ],
         "yaxis": "y"
        },
        {
         "hoverinfo": "text",
         "marker": {
          "color": "rgb(61,153,112)"
         },
         "mode": "lines",
         "text": [
          "pricing_99_price_rebate_top20",
          "",
          "",
          "dvd_video_dvds_movie_tapes"
         ],
         "type": "scatter",
         "x": [
          0,
          0.8080060742497808,
          0.8080060742497808,
          0
         ],
         "xaxis": "x",
         "y": [
          -1805,
          -1805,
          -1815,
          -1815
         ],
         "yaxis": "y"
        },
        {
         "hoverinfo": "text",
         "marker": {
          "color": "rgb(61,153,112)"
         },
         "mode": "lines",
         "text": [
          "ebay_paypal_offers_amazon_receive",
          "",
          "",
          "unsubscribe_com_egroups_message_extremeprogramming"
         ],
         "type": "scatter",
         "x": [
          0,
          0.6815472064455415,
          0.6815472064455415,
          0
         ],
         "xaxis": "x",
         "y": [
          -1835,
          -1835,
          -1845,
          -1845
         ],
         "yaxis": "y"
        },
        {
         "hoverinfo": "text",
         "marker": {
          "color": "rgb(61,153,112)"
         },
         "mode": "lines",
         "text": [
          "unsubscribe_com_egroups_message_extremeprogramming",
          "",
          "",
          "security_virus_mcafee_clinic_viruses"
         ],
         "type": "scatter",
         "x": [
          0.6815472064455415,
          0.8373139336751462,
          0.8373139336751462,
          0
         ],
         "xaxis": "x",
         "y": [
          -1840,
          -1840,
          -1855,
          -1855
         ],
         "yaxis": "y"
        },
        {
         "hoverinfo": "text",
         "marker": {
          "color": "rgb(61,153,112)"
         },
         "mode": "lines",
         "text": [
          "mp3_music_cd_unsubscribe_1996",
          "",
          "",
          "unsubscribe_com_egroups_message_extremeprogramming"
         ],
         "type": "scatter",
         "x": [
          0,
          0.8834321425666553,
          0.8834321425666553,
          0.8373139336751462
         ],
         "xaxis": "x",
         "y": [
          -1825,
          -1825,
          -1847.5,
          -1847.5
         ],
         "yaxis": "y"
        },
        {
         "hoverinfo": "text",
         "marker": {
          "color": "rgb(61,153,112)"
         },
         "mode": "lines",
         "text": [
          "pricing_99_price_rebate_save",
          "",
          "",
          "unsubscribe_com_message_egroups_extremeprogramming"
         ],
         "type": "scatter",
         "x": [
          0.8080060742497808,
          0.9245554867474555,
          0.9245554867474555,
          0.8834321425666553
         ],
         "xaxis": "x",
         "y": [
          -1810,
          -1810,
          -1836.25,
          -1836.25
         ],
         "yaxis": "y"
        },
        {
         "hoverinfo": "text",
         "marker": {
          "color": "rgb(0,116,217)"
         },
         "mode": "lines",
         "text": [
          "tickets_travel_ticket_hotel_airlines",
          "",
          "",
          "unsubscribe_com_message_egroups_extremeprogramming"
         ],
         "type": "scatter",
         "x": [
          0.910275591933019,
          1.0230266713931175,
          1.0230266713931175,
          0.9245554867474555
         ],
         "xaxis": "x",
         "y": [
          -1782.5,
          -1782.5,
          -1823.125,
          -1823.125
         ],
         "yaxis": "y"
        },
        {
         "hoverinfo": "text",
         "marker": {
          "color": "rgb(255,65,54)"
         },
         "mode": "lines",
         "text": [
          "invite_invitation_invites_album_invitations",
          "",
          "",
          "yahoo_jokes_laughaway_webcam_instant"
         ],
         "type": "scatter",
         "x": [
          0,
          0.8390615567521577,
          0.8390615567521577,
          0
         ],
         "xaxis": "x",
         "y": [
          -1865,
          -1865,
          -1875,
          -1875
         ],
         "yaxis": "y"
        },
        {
         "hoverinfo": "text",
         "marker": {
          "color": "rgb(0,116,217)"
         },
         "mode": "lines",
         "text": [
          "unsubscribe_com_message_egroups_extremeprogramming",
          "",
          "",
          "yahoo_invite_invitation_invites_album"
         ],
         "type": "scatter",
         "x": [
          1.0230266713931175,
          1.0564252095658115,
          1.0564252095658115,
          0.8390615567521577
         ],
         "xaxis": "x",
         "y": [
          -1802.8125,
          -1802.8125,
          -1870,
          -1870
         ],
         "yaxis": "y"
        },
        {
         "hoverinfo": "text",
         "marker": {
          "color": "rgb(0,116,217)"
         },
         "mode": "lines",
         "text": [
          "xp_lunch_story_do_stories",
          "",
          "",
          "unsubscribe_com_message_egroups_extremeprogramming"
         ],
         "type": "scatter",
         "x": [
          1.0721480904759966,
          1.189671260782401,
          1.189671260782401,
          1.0564252095658115
         ],
         "xaxis": "x",
         "y": [
          -1640,
          -1640,
          -1836.40625,
          -1836.40625
         ],
         "yaxis": "y"
        },
        {
         "hoverinfo": "text",
         "marker": {
          "color": "rgb(0,116,217)"
         },
         "mode": "lines",
         "text": [
          "her_she_baby_babycenter_1fc7nw",
          "",
          "",
          "unsubscribe_com_message_egroups_extremeprogramming"
         ],
         "type": "scatter",
         "x": [
          1.1129806821348225,
          1.219927764644085,
          1.219927764644085,
          1.189671260782401
         ],
         "xaxis": "x",
         "y": [
          -1483.75,
          -1483.75,
          -1738.203125,
          -1738.203125
         ],
         "yaxis": "y"
        },
        {
         "hoverinfo": "text",
         "marker": {
          "color": "rgb(35,205,205)"
         },
         "mode": "lines",
         "text": [
          "comments_clarification_please_think_me",
          "",
          "",
          "suggestions_advise_handle_advice_suggestion"
         ],
         "type": "scatter",
         "x": [
          0,
          0.7067698333221524,
          0.7067698333221524,
          0
         ],
         "xaxis": "x",
         "y": [
          -1895,
          -1895,
          -1905,
          -1905
         ],
         "yaxis": "y"
        },
        {
         "hoverinfo": "text",
         "marker": {
          "color": "rgb(35,205,205)"
         },
         "mode": "lines",
         "text": [
          "decision_convenience_prefer_preference_me",
          "",
          "",
          "comments_please_clarification_me_let"
         ],
         "type": "scatter",
         "x": [
          0,
          0.7746163710576444,
          0.7746163710576444,
          0.7067698333221524
         ],
         "xaxis": "x",
         "y": [
          -1885,
          -1885,
          -1900,
          -1900
         ],
         "yaxis": "y"
        },
        {
         "hoverinfo": "text",
         "marker": {
          "color": "rgb(35,205,205)"
         },
         "mode": "lines",
         "text": [
          "directions_do_try_instructions_know",
          "",
          "",
          "do_one_favor_borrow_need"
         ],
         "type": "scatter",
         "x": [
          0,
          0.5141015197916461,
          0.5141015197916461,
          0
         ],
         "xaxis": "x",
         "y": [
          -1925,
          -1925,
          -1935,
          -1935
         ],
         "yaxis": "y"
        },
        {
         "hoverinfo": "text",
         "marker": {
          "color": "rgb(35,205,205)"
         },
         "mode": "lines",
         "text": [
          "do_directions_it_me_know",
          "",
          "",
          "do_relationship_understand_smile_hug"
         ],
         "type": "scatter",
         "x": [
          0.5141015197916461,
          0.5823484545053783,
          0.5823484545053783,
          0
         ],
         "xaxis": "x",
         "y": [
          -1930,
          -1930,
          -1945,
          -1945
         ],
         "yaxis": "y"
        },
        {
         "hoverinfo": "text",
         "marker": {
          "color": "rgb(35,205,205)"
         },
         "mode": "lines",
         "text": [
          "missed_anything_look_did_miss",
          "",
          "",
          "do_know_it_directions_me"
         ],
         "type": "scatter",
         "x": [
          0,
          0.7310453115481961,
          0.7310453115481961,
          0.5823484545053783
         ],
         "xaxis": "x",
         "y": [
          -1915,
          -1915,
          -1937.5,
          -1937.5
         ],
         "yaxis": "y"
        },
        {
         "hoverinfo": "text",
         "marker": {
          "color": "rgb(35,205,205)"
         },
         "mode": "lines",
         "text": [
          "do_know_it_directions_you",
          "",
          "",
          "just_wanted_do_details_thought"
         ],
         "type": "scatter",
         "x": [
          0.7310453115481961,
          0.7714839290422233,
          0.7714839290422233,
          0
         ],
         "xaxis": "x",
         "y": [
          -1926.25,
          -1926.25,
          -1955,
          -1955
         ],
         "yaxis": "y"
        },
        {
         "hoverinfo": "text",
         "marker": {
          "color": "rgb(35,205,205)"
         },
         "mode": "lines",
         "text": [
          "comments_please_me_let_clarification",
          "",
          "",
          "do_know_it_directions_you"
         ],
         "type": "scatter",
         "x": [
          0.7746163710576444,
          0.8686610973465876,
          0.8686610973465876,
          0.7714839290422233
         ],
         "xaxis": "x",
         "y": [
          -1892.5,
          -1892.5,
          -1940.625,
          -1940.625
         ],
         "yaxis": "y"
        },
        {
         "hoverinfo": "text",
         "marker": {
          "color": "rgb(61,153,112)"
         },
         "mode": "lines",
         "text": [
          "help_anyone_me_anybody_can",
          "",
          "",
          "help_list_appreciate_thank_hope"
         ],
         "type": "scatter",
         "x": [
          0,
          0.5451305624509584,
          0.5451305624509584,
          0
         ],
         "xaxis": "x",
         "y": [
          -1965,
          -1965,
          -1975,
          -1975
         ],
         "yaxis": "y"
        },
        {
         "hoverinfo": "text",
         "marker": {
          "color": "rgb(61,153,112)"
         },
         "mode": "lines",
         "text": [
          "help_list_appreciate_thank_me",
          "",
          "",
          "help4u_wcom_diagram_solve_problem"
         ],
         "type": "scatter",
         "x": [
          0.5451305624509584,
          0.9239944587241117,
          0.9239944587241117,
          0
         ],
         "xaxis": "x",
         "y": [
          -1970,
          -1970,
          -1985,
          -1985
         ],
         "yaxis": "y"
        },
        {
         "hoverinfo": "text",
         "marker": {
          "color": "rgb(0,116,217)"
         },
         "mode": "lines",
         "text": [
          "do_know_me_please_let",
          "",
          "",
          "help_list_appreciate_thank_help4u"
         ],
         "type": "scatter",
         "x": [
          0.8686610973465876,
          1.0841544984782379,
          1.0841544984782379,
          0.9239944587241117
         ],
         "xaxis": "x",
         "y": [
          -1916.5625,
          -1916.5625,
          -1977.5,
          -1977.5
         ],
         "yaxis": "y"
        },
        {
         "hoverinfo": "text",
         "marker": {
          "color": "rgb(0,116,217)"
         },
         "mode": "lines",
         "text": [
          "unsubscribe_com_message_egroups_extremeprogramming",
          "",
          "",
          "do_me_please_know_let"
         ],
         "type": "scatter",
         "x": [
          1.219927764644085,
          1.4614334313732829,
          1.4614334313732829,
          1.0841544984782379
         ],
         "xaxis": "x",
         "y": [
          -1610.9765625,
          -1610.9765625,
          -1947.03125,
          -1947.03125
         ],
         "yaxis": "y"
        },
        {
         "hoverinfo": "text",
         "marker": {
          "color": "rgb(0,116,217)"
         },
         "mode": "lines",
         "text": [
          "person_you_the_please_to",
          "",
          "",
          "unsubscribe_com_message_egroups_extremeprogramming"
         ],
         "type": "scatter",
         "x": [
          1.1920697243714558,
          1.5252556405556383,
          1.5252556405556383,
          1.4614334313732829
         ],
         "xaxis": "x",
         "y": [
          -1220.189208984375,
          -1220.189208984375,
          -1779.00390625,
          -1779.00390625
         ],
         "yaxis": "y"
        },
        {
         "hoverinfo": "text",
         "marker": {
          "color": "rgb(0,116,217)"
         },
         "mode": "lines",
         "text": [
          "src_ejolt_services_service_templates",
          "",
          "",
          "com_person_to_you_the"
         ],
         "type": "scatter",
         "x": [
          1.35145610879342,
          2.1515716974267867,
          2.1515716974267867,
          1.5252556405556383
         ],
         "xaxis": "x",
         "y": [
          -288.0352783203125,
          -288.0352783203125,
          -1499.5965576171875,
          -1499.5965576171875
         ],
         "yaxis": "y"
        },
        {
         "hoverinfo": "text",
         "hovertext": [
          "loop_vertical_scroll_leaps_keep",
          "component_sqapass_tree_sqalogmessage_identification",
          "japanese_germana_english_language_translation",
          "xml_wml_dax_feed_hdml",
          "japanese_content_attachment_encoding_disposition",
          "jsp_java_servlet_bean_j2ee",
          "jsp_java_servlet_bean_j2ee",
          "xml_content_japanese_oca_attachment",
          "exception_adapter_exceptions_adapters_throw",
          "xml_jsp_content_japanese_oca",
          "component_loop_sqapass_tree_tags",
          "src_ejolt_services_service_templates",
          "rim_dds_pda_application_dtd",
          "storage_backup_backups_nas_latency",
          "thread_threads_caching_affinity_cache",
          "storage_sizing_backup_size_backups",
          "orange_oem_vivendi_elektrim_vivek",
          "storage_sizing_backup_thread_size",
          "burn_rate_cycles_spin_energy",
          "numbers_heads_headcount_give_number",
          "matrix_holes_vector_hole_dig",
          "idc_omnisky_hideki_cw_novell",
          "idc_roopak_omnisky_hideki_cw",
          "idc_roopak_arun_omnisky_hideki",
          "venk_fortunata_donivan_marilisa_meeting",
          "ring_give_numbers_heads_headcount",
          "burn_cycles_rate_quality_spin",
          "storage_sizing_backup_orange_oem",
          "quicken_fastcompany_women_gap_fast",
          "culpepper_termination_incredimail_ebulletin_severance",
          "venk_idc_roopak_arun_storage",
          "rim_epservlet_dds_pda_opt",
          "rf_laden_rm_911_indian",
          "jewish_jews_stack_paperstack_paper",
          "smoke_smoking_believe_nicorette_quit",
          "vegetarian_bullets_chickens_bullet_jewish",
          "rf_laden_rm_911_records",
          "insulin_diabetes_needles_needle_pump",
          "garden_gardening_water_burpee_lifeminder",
          "weight_diet_lose_pounds_fat",
          "color_illuminations_2femail_2findex_hair",
          "garden_wine_wines_gardening_water",
          "rf_laden_rm_911_records",
          "struts_titanium_husted_coading_evvironment",
          "hyperras_struts_titanium_trv730_camcorder",
          "publications_research_7772_44_9765",
          "hyperras_resin_struts_error_server4",
          "publications_research_7772_44_2379",
          "weight_color_rf_sleep_laden",
          "research_publications_7772_44_coffeecup",
          "venk_idc_rim_epservlet_dds",
          "src_ejolt_services_service_templates",
          "xml_jsp_content_japanese_oca",
          "logo_emas_ae_ecs_aes",
          "siebel_vss_aml_netscape_server",
          "license_memory_licenses_licensing_privacy",
          "bugs_biogen_bugzilla_bug_fix",
          "password_vpn_ip_cookies_cookie",
          "siebel_bugs_bug_biogen_vss",
          "test_tests_qa_testing_stress",
          "wireless_mobile_internet_wap_sun",
          "avocadoit_wireless_408_562_location",
          "meeting_person_you_this_conference",
          "meeting_person_this_you_we",
          "me_please_person_meeting_you",
          "call_me_please_person_meeting",
          "expense_invoice_credit_order_fedex",
          "please_me_call_you_person",
          "avocadoit_wireless_408_562_location",
          "siebel_password_the_bugs_bug",
          "her_she_wife_call_said",
          "baby_babycenter_1fc7nw_le_ce",
          "xp_programming_pair_windows_microsoft",
          "xp_programming_pair_refactoring_windows",
          "metaphor_duplication_example_merge_examples",
          "story_stories_infoworld_news_quote",
          "xp_programming_pair_refactoring_windows",
          "lunch_dinner_join_dance_breakfast",
          "lunch_dinner_join_dance_breakfast",
          "vacation_weekend_doing_what_watch",
          "printer_pdf_keyboard_print_acrobat",
          "car_driveway_driver_drivers_exit",
          "printer_car_pdf_keyboard_print",
          "lunch_dinner_join_dance_vacation",
          "xp_story_stories_programming_pair",
          "unsubscribe_com_egroups_message_extremeprogramming",
          "pricing_99_price_rebate_save",
          "tickets_travel_ticket_hotel_airlines",
          "unsubscribe_com_message_egroups_extremeprogramming",
          "xp_lunch_story_do_stories",
          "her_she_baby_babycenter_1fc7nw",
          "do_directions_it_me_know",
          "do_know_it_directions_you",
          "comments_please_me_let_clarification",
          "help_list_appreciate_thank_me",
          "do_know_me_please_let",
          "unsubscribe_com_message_egroups_extremeprogramming",
          "person_you_the_please_to",
          "src_ejolt_services_service_templates"
         ],
         "marker": {
          "color": "black"
         },
         "mode": "markers",
         "showlegend": false,
         "type": "scatter",
         "x": [
          0.9656434664038576,
          0.941982871319344,
          0.7977130609958915,
          0.7403232652759003,
          0.9308113625941025,
          0.7385933067603423,
          0.9182330435993203,
          0.9683451852392668,
          0.8598063159501494,
          1.0028828407827017,
          1.0407976411024653,
          0.8482194011294532,
          0.8212580334444396,
          0.9536480944304425,
          0.9128610150611228,
          0.9835942127662074,
          0.9211635589223397,
          0.9926217385684217,
          0.9234054104209289,
          0.9280897325150628,
          0.9603143624104266,
          0.9349393477126156,
          0.9434287467757775,
          0.9659580954103845,
          0.9645896328036719,
          0.9717779974327817,
          0.9888676915442745,
          1.0500464617064793,
          0.9050509823594091,
          0.839585136163146,
          1.0555420688609145,
          0.9581893245691282,
          0.947976424544255,
          0.9799224366011249,
          0.9678602782782294,
          0.9871747320060186,
          0.9742187115430779,
          0.950237567936926,
          0.9419129043936851,
          0.8735229043463366,
          0.9376148339375533,
          0.9739061208055243,
          1.024068664694398,
          0.9888554077430025,
          0.993880530639449,
          0.9939828493092954,
          1.008904314746294,
          1.0210942764231874,
          1.0479388742201992,
          1.075043231832052,
          1.0834329417776198,
          0.9767238912540911,
          1.090224662158649,
          0.7253543432968664,
          0.6914529190555352,
          0.8006303005404064,
          0.8861283156540205,
          0.889871567340804,
          0.9167454262330252,
          0.838116974344158,
          0.4964889511200161,
          0.7124384643258317,
          0.44570371517956214,
          0.49653581809751196,
          0.5984772429346568,
          0.7051486314977313,
          0.6982523646308347,
          0.7957598525661977,
          0.870328834162019,
          0.976160512612778,
          0.630622808159376,
          0.7071405083217708,
          0.7063706737732922,
          0.9036377488035016,
          0.8852526149959327,
          0.8031086441864868,
          0.945502563381827,
          0.8398399354386633,
          0.8763824517095905,
          0.8671211851066316,
          0.8512757642211716,
          0.8707333680808568,
          0.9204443393875233,
          0.9149510182839112,
          1.019957933508949,
          0.6815472064455415,
          0.8080060742497808,
          0.910275591933019,
          1.0230266713931175,
          1.0721480904759966,
          1.1129806821348225,
          0.5141015197916461,
          0.7310453115481961,
          0.7746163710576444,
          0.5451305624509584,
          0.8686610973465876,
          1.219927764644085,
          1.1920697243714558,
          1.35145610879342
         ],
         "y": [
          -42.5,
          -12.5,
          -100,
          -130,
          -96.25,
          -170,
          -166.25,
          -116.875,
          -210,
          -148.75,
          -34.375,
          -240,
          -290,
          -322.5,
          -380,
          -336.25,
          -410,
          -356.25,
          -450,
          -500,
          -530,
          -580,
          -587.5,
          -580.625,
          -540,
          -496.25,
          -460,
          -388.125,
          -650,
          -630,
          -442.20703125,
          -286.25,
          -712.5,
          -750,
          -790,
          -760,
          -709.375,
          -680,
          -820,
          -870,
          -850,
          -827.5,
          -712.03125,
          -910,
          -906.25,
          -962.5,
          -923.125,
          -949.6875,
          -778.828125,
          -879.3359375,
          -414.6142578125,
          -250,
          -108.75,
          -1182.5,
          -1150,
          -1122.5,
          -1083.75,
          -1222.5,
          -1113.671875,
          -1052.5,
          -1290,
          -1286.25,
          -1382.5,
          -1393.75,
          -1385.9375,
          -1382.734375,
          -1340,
          -1376.93359375,
          -1282.8125,
          -1113.73046875,
          -1490,
          -1470,
          -1550,
          -1547.5,
          -1520,
          -1602.5,
          -1543.125,
          -1660,
          -1670,
          -1640,
          -1730,
          -1710,
          -1723.75,
          -1661.25,
          -1578.4375,
          -1840,
          -1810,
          -1782.5,
          -1802.8125,
          -1640,
          -1483.75,
          -1930,
          -1926.25,
          -1892.5,
          -1970,
          -1916.5625,
          -1610.9765625,
          -1220.189208984375,
          -288.0352783203125
         ]
        },
        {
         "hoverinfo": "text",
         "hovertext": [
          "component_sqapass_sqalogmessage_identification_validation",
          "loop_vertical_scroll_leaps_keep",
          "tags_table_tr_td_tag",
          "loop_tags_table_tr_vertical",
          "japanese_content_attachment_encoding_disposition",
          "xml_oca_item_data_osa",
          "jsp_java_servlet_bean_j2ee",
          "jsp_java_servlet_bean_j2ee",
          "exception_adapter_exceptions_adapters_throw",
          "xml_jsp_content_japanese_oca",
          "million_round_synchronizing_folder_ameritrade",
          "rim_dds_pda_xsellsys_application",
          "storage_backup_backups_nas_latency",
          "sizing_zones_study_utc_daylight",
          "thread_threads_caching_affinity_cache",
          "thread_threads_applet_caching_affinity",
          "risk_declined_fdic_insured_refused",
          "orange_oem_vivendi_elektrim_risk",
          "quality_ranking_rankings_grades_grade",
          "numbers_heads_headcount_give_number",
          "venk_fortunata_donivan_marilisa_meeting",
          "idc_roopak_arun_omnisky_hideki",
          "idc_roopak_arun_omnisky_hideki",
          "venk_idc_roopak_arun_fortunata",
          "venk_idc_roopak_arun_fortunata",
          "venk_idc_roopak_arun_fortunata",
          "quicken_fastcompany_women_jamcracker_gap",
          "quicken_fastcompany_culpepper_women_jamcracker",
          "venk_idc_roopak_arun_storage",
          "rf_laden_rm_911_taliban",
          "rf_laden_rm_911_records",
          "vegetarian_bullets_chickens_bullet_steak",
          "howard_smoke_smoking_believe_nicorette",
          "vegetarian_bullets_chickens_howard_bullet",
          "rf_laden_rm_911_records",
          "weight_sleep_diet_lose_pounds",
          "weight_color_sleep_illuminations_hair",
          "weight_color_sleep_illuminations_hair",
          "hyperras_struts_titanium_aventail_extranet",
          "resin_error_server4_apache_warning",
          "publications_research_7772_44_9765",
          "unstrung_server1_sender_views_majordomo",
          "publications_research_7772_44_2379",
          "coffeecup_coffee_dundee_lyris_subscribed",
          "publications_research_7772_44_coffeecup",
          "wilhan_baseline_build_traceability_obfuscation",
          "research_publications_7772_44_coffeecup",
          "venk_idc_rim_epservlet_research",
          "src_ejolt_services_service_templates",
          "test_tests_qa_testing_stress",
          "bugs_bugzilla_bug_fix_fixed",
          "bugs_biogen_bugzilla_bug_fix",
          "license_licensing_licenses_privacy_robot",
          "emas_ae_ecs_aes_emds",
          "logo_emas_ae_ecs_aes",
          "logo_emas_ae_ecs_aes",
          "siebel_vss_aml_ae_logo",
          "siebel_vss_aml_ae_logo",
          "password_vpn_ip_cookies_cookie",
          "verisign_hosting_certificate_domain_names",
          "password_vpn_ip_cookies_cookie",
          "siebel_password_bug_bugs_the",
          "avocadoit_wireless_408_562_palm",
          "avocadoit_wireless_408_562_location",
          "meeting_person_conference_you_this",
          "me_please_fax_if_any",
          "me_please_meeting_person_you",
          "call_me_please_person_meeting",
          "call_me_please_person_you",
          "me_please_call_you_person",
          "me_please_call_you_person",
          "person_avocadoit_you_location_please",
          "her_she_wife_call_said",
          "refactoring_refactor_bduf_code_tests",
          "xp_programming_pair_refactoring_windows",
          "xp_programming_refactoring_pair_windows",
          "story_stories_infoworld_news_quote",
          "story_stories_infoworld_velocity_news",
          "loan_lease_mortgage_rent_home",
          "lunch_dinner_join_dance_nike",
          "printer_pdf_keyboard_print_acrobat",
          "cards_card_bluemountain_greeting_deck",
          "cards_card_bluemountain_printer_car",
          "lunch_dinner_cards_card_you",
          "travel_hotel_airlines_alaska_seat",
          "unsubscribe_com_egroups_message_extremeprogramming",
          "unsubscribe_com_message_egroups_extremeprogramming",
          "unsubscribe_com_message_egroups_extremeprogramming",
          "yahoo_invite_invitation_invites_album",
          "unsubscribe_com_message_egroups_extremeprogramming",
          "unsubscribe_com_message_egroups_extremeprogramming",
          "comments_please_clarification_me_let",
          "do_know_it_directions_me",
          "do_know_it_directions_you",
          "help_list_appreciate_thank_help4u",
          "do_me_please_know_let",
          "unsubscribe_com_message_egroups_extremeprogramming",
          "com_person_to_you_the"
         ],
         "marker": {
          "color": "black"
         },
         "mode": "markers",
         "showlegend": false,
         "type": "scatter",
         "x": [
          0.8454670451301978,
          0.9511576830352834,
          0.871160835454357,
          0.9900091673024993,
          0.8968395734093232,
          0.8714215364057639,
          0.7958071339798414,
          0.9491922843884478,
          0.9506635336084505,
          1.0404117933219128,
          0.8682092106838427,
          0.8962921592818289,
          0.8838195948713738,
          0.9412014555814809,
          0.9535731929467516,
          0.9632319970130435,
          0.9126271193806391,
          0.9910187481929803,
          0.8631541114116343,
          0.9407150237576136,
          0.8621226970248148,
          0.9522698988368649,
          0.9700283198923273,
          0.985093351823234,
          1.0228905250924505,
          1.0393482008874637,
          0.9736703449427702,
          1.0175385901875875,
          1.0569635965172102,
          0.9012260965739766,
          0.9561793546634084,
          0.9587796312973736,
          0.9953328054431759,
          0.9962379117131763,
          1.0230485414227442,
          0.9783175857349927,
          0.9854154620167973,
          1.0102593118030596,
          0.9935723086423097,
          0.9524694357096649,
          0.9802820130276632,
          0.9542250761795691,
          1.0092808979404335,
          0.9332998843421827,
          1.041642227788889,
          0.8424475060488894,
          1.1039591601910483,
          1.1472071175271252,
          1.1954163089943957,
          0.698112845716963,
          0.84749541150021,
          0.8640219975456958,
          0.7797091773129341,
          0.6625264442258181,
          0.774304472239551,
          0.7971844987121358,
          0.8373677726236491,
          0.8995639442033262,
          0.8455767568384274,
          0.7601168980674149,
          0.9120736431699665,
          0.9284500581653797,
          0.6342014585361246,
          0.7482879478997738,
          0.3038462953510719,
          0.5073238474249284,
          0.5528580291753239,
          0.6441302883711143,
          0.71242232619131,
          0.8123648064612766,
          0.8130666505438036,
          0.9758760713509359,
          0.7938519331753344,
          0.8276904891206361,
          0.8772805784295269,
          0.9100056071829614,
          0.7392210841025224,
          0.895355906666493,
          0.8173140312526933,
          0.8782985586648511,
          0.8709421344161712,
          0.890122750569645,
          0.950648849258858,
          0.9791896954362461,
          0.6888630051113127,
          0.8373139336751462,
          0.8834321425666553,
          0.9245554867474555,
          0.8390615567521577,
          1.0564252095658115,
          1.189671260782401,
          0.7067698333221524,
          0.5823484545053783,
          0.7714839290422233,
          0.9239944587241117,
          1.0841544984782379,
          1.4614334313732829,
          1.5252556405556383
         ],
         "y": [
          -20,
          -50,
          -70,
          -56.25,
          -107.5,
          -137.5,
          -177.5,
          -180.625,
          -217.5,
          -183.125,
          -260,
          -297.5,
          -330,
          -350,
          -387.5,
          -376.25,
          -430,
          -420,
          -470,
          -507.5,
          -550,
          -596.25,
          -597.8125,
          -568.90625,
          -532.578125,
          -496.2890625,
          -657.5,
          -643.75,
          -542.978515625,
          -720,
          -723.75,
          -770,
          -797.5,
          -778.75,
          -744.0625,
          -877.5,
          -863.75,
          -845.625,
          -917.5,
          -940,
          -970,
          -990,
          -976.25,
          -1010,
          -979.84375,
          -1030,
          -954.66796875,
          -684.64111328125,
          -467.320556640625,
          -1060,
          -1100,
          -1092.5,
          -1130,
          -1190,
          -1193.75,
          -1179.375,
          -1164.6875,
          -1143.59375,
          -1230,
          -1250,
          -1236.25,
          -1174.9609375,
          -1297.5,
          -1300.625,
          -1390,
          -1420,
          -1406.875,
          -1410.46875,
          -1413.8671875,
          -1415.966796875,
          -1370.4833984375,
          -1326.64794921875,
          -1497.5,
          -1570,
          -1560,
          -1566.25,
          -1610,
          -1613.75,
          -1680,
          -1682.5,
          -1737.5,
          -1760,
          -1741.875,
          -1701.5625,
          -1790,
          -1847.5,
          -1836.25,
          -1823.125,
          -1870,
          -1836.40625,
          -1738.203125,
          -1900,
          -1937.5,
          -1940.625,
          -1977.5,
          -1947.03125,
          -1779.00390625,
          -1499.5965576171875
         ]
        }
       ],
       "layout": {
        "autosize": false,
        "height": 3185,
        "hoverlabel": {
         "bgcolor": "white",
         "font": {
          "family": "Rockwell",
          "size": 16
         }
        },
        "hovermode": "closest",
        "plot_bgcolor": "#ECEFF1",
        "showlegend": false,
        "template": {
         "data": {
          "bar": [
           {
            "error_x": {
             "color": "#2a3f5f"
            },
            "error_y": {
             "color": "#2a3f5f"
            },
            "marker": {
             "line": {
              "color": "white",
              "width": 0.5
             },
             "pattern": {
              "fillmode": "overlay",
              "size": 10,
              "solidity": 0.2
             }
            },
            "type": "bar"
           }
          ],
          "barpolar": [
           {
            "marker": {
             "line": {
              "color": "white",
              "width": 0.5
             },
             "pattern": {
              "fillmode": "overlay",
              "size": 10,
              "solidity": 0.2
             }
            },
            "type": "barpolar"
           }
          ],
          "carpet": [
           {
            "aaxis": {
             "endlinecolor": "#2a3f5f",
             "gridcolor": "#C8D4E3",
             "linecolor": "#C8D4E3",
             "minorgridcolor": "#C8D4E3",
             "startlinecolor": "#2a3f5f"
            },
            "baxis": {
             "endlinecolor": "#2a3f5f",
             "gridcolor": "#C8D4E3",
             "linecolor": "#C8D4E3",
             "minorgridcolor": "#C8D4E3",
             "startlinecolor": "#2a3f5f"
            },
            "type": "carpet"
           }
          ],
          "choropleth": [
           {
            "colorbar": {
             "outlinewidth": 0,
             "ticks": ""
            },
            "type": "choropleth"
           }
          ],
          "contour": [
           {
            "colorbar": {
             "outlinewidth": 0,
             "ticks": ""
            },
            "colorscale": [
             [
              0,
              "#0d0887"
             ],
             [
              0.1111111111111111,
              "#46039f"
             ],
             [
              0.2222222222222222,
              "#7201a8"
             ],
             [
              0.3333333333333333,
              "#9c179e"
             ],
             [
              0.4444444444444444,
              "#bd3786"
             ],
             [
              0.5555555555555556,
              "#d8576b"
             ],
             [
              0.6666666666666666,
              "#ed7953"
             ],
             [
              0.7777777777777778,
              "#fb9f3a"
             ],
             [
              0.8888888888888888,
              "#fdca26"
             ],
             [
              1,
              "#f0f921"
             ]
            ],
            "type": "contour"
           }
          ],
          "contourcarpet": [
           {
            "colorbar": {
             "outlinewidth": 0,
             "ticks": ""
            },
            "type": "contourcarpet"
           }
          ],
          "heatmap": [
           {
            "colorbar": {
             "outlinewidth": 0,
             "ticks": ""
            },
            "colorscale": [
             [
              0,
              "#0d0887"
             ],
             [
              0.1111111111111111,
              "#46039f"
             ],
             [
              0.2222222222222222,
              "#7201a8"
             ],
             [
              0.3333333333333333,
              "#9c179e"
             ],
             [
              0.4444444444444444,
              "#bd3786"
             ],
             [
              0.5555555555555556,
              "#d8576b"
             ],
             [
              0.6666666666666666,
              "#ed7953"
             ],
             [
              0.7777777777777778,
              "#fb9f3a"
             ],
             [
              0.8888888888888888,
              "#fdca26"
             ],
             [
              1,
              "#f0f921"
             ]
            ],
            "type": "heatmap"
           }
          ],
          "heatmapgl": [
           {
            "colorbar": {
             "outlinewidth": 0,
             "ticks": ""
            },
            "colorscale": [
             [
              0,
              "#0d0887"
             ],
             [
              0.1111111111111111,
              "#46039f"
             ],
             [
              0.2222222222222222,
              "#7201a8"
             ],
             [
              0.3333333333333333,
              "#9c179e"
             ],
             [
              0.4444444444444444,
              "#bd3786"
             ],
             [
              0.5555555555555556,
              "#d8576b"
             ],
             [
              0.6666666666666666,
              "#ed7953"
             ],
             [
              0.7777777777777778,
              "#fb9f3a"
             ],
             [
              0.8888888888888888,
              "#fdca26"
             ],
             [
              1,
              "#f0f921"
             ]
            ],
            "type": "heatmapgl"
           }
          ],
          "histogram": [
           {
            "marker": {
             "pattern": {
              "fillmode": "overlay",
              "size": 10,
              "solidity": 0.2
             }
            },
            "type": "histogram"
           }
          ],
          "histogram2d": [
           {
            "colorbar": {
             "outlinewidth": 0,
             "ticks": ""
            },
            "colorscale": [
             [
              0,
              "#0d0887"
             ],
             [
              0.1111111111111111,
              "#46039f"
             ],
             [
              0.2222222222222222,
              "#7201a8"
             ],
             [
              0.3333333333333333,
              "#9c179e"
             ],
             [
              0.4444444444444444,
              "#bd3786"
             ],
             [
              0.5555555555555556,
              "#d8576b"
             ],
             [
              0.6666666666666666,
              "#ed7953"
             ],
             [
              0.7777777777777778,
              "#fb9f3a"
             ],
             [
              0.8888888888888888,
              "#fdca26"
             ],
             [
              1,
              "#f0f921"
             ]
            ],
            "type": "histogram2d"
           }
          ],
          "histogram2dcontour": [
           {
            "colorbar": {
             "outlinewidth": 0,
             "ticks": ""
            },
            "colorscale": [
             [
              0,
              "#0d0887"
             ],
             [
              0.1111111111111111,
              "#46039f"
             ],
             [
              0.2222222222222222,
              "#7201a8"
             ],
             [
              0.3333333333333333,
              "#9c179e"
             ],
             [
              0.4444444444444444,
              "#bd3786"
             ],
             [
              0.5555555555555556,
              "#d8576b"
             ],
             [
              0.6666666666666666,
              "#ed7953"
             ],
             [
              0.7777777777777778,
              "#fb9f3a"
             ],
             [
              0.8888888888888888,
              "#fdca26"
             ],
             [
              1,
              "#f0f921"
             ]
            ],
            "type": "histogram2dcontour"
           }
          ],
          "mesh3d": [
           {
            "colorbar": {
             "outlinewidth": 0,
             "ticks": ""
            },
            "type": "mesh3d"
           }
          ],
          "parcoords": [
           {
            "line": {
             "colorbar": {
              "outlinewidth": 0,
              "ticks": ""
             }
            },
            "type": "parcoords"
           }
          ],
          "pie": [
           {
            "automargin": true,
            "type": "pie"
           }
          ],
          "scatter": [
           {
            "fillpattern": {
             "fillmode": "overlay",
             "size": 10,
             "solidity": 0.2
            },
            "type": "scatter"
           }
          ],
          "scatter3d": [
           {
            "line": {
             "colorbar": {
              "outlinewidth": 0,
              "ticks": ""
             }
            },
            "marker": {
             "colorbar": {
              "outlinewidth": 0,
              "ticks": ""
             }
            },
            "type": "scatter3d"
           }
          ],
          "scattercarpet": [
           {
            "marker": {
             "colorbar": {
              "outlinewidth": 0,
              "ticks": ""
             }
            },
            "type": "scattercarpet"
           }
          ],
          "scattergeo": [
           {
            "marker": {
             "colorbar": {
              "outlinewidth": 0,
              "ticks": ""
             }
            },
            "type": "scattergeo"
           }
          ],
          "scattergl": [
           {
            "marker": {
             "colorbar": {
              "outlinewidth": 0,
              "ticks": ""
             }
            },
            "type": "scattergl"
           }
          ],
          "scattermapbox": [
           {
            "marker": {
             "colorbar": {
              "outlinewidth": 0,
              "ticks": ""
             }
            },
            "type": "scattermapbox"
           }
          ],
          "scatterpolar": [
           {
            "marker": {
             "colorbar": {
              "outlinewidth": 0,
              "ticks": ""
             }
            },
            "type": "scatterpolar"
           }
          ],
          "scatterpolargl": [
           {
            "marker": {
             "colorbar": {
              "outlinewidth": 0,
              "ticks": ""
             }
            },
            "type": "scatterpolargl"
           }
          ],
          "scatterternary": [
           {
            "marker": {
             "colorbar": {
              "outlinewidth": 0,
              "ticks": ""
             }
            },
            "type": "scatterternary"
           }
          ],
          "surface": [
           {
            "colorbar": {
             "outlinewidth": 0,
             "ticks": ""
            },
            "colorscale": [
             [
              0,
              "#0d0887"
             ],
             [
              0.1111111111111111,
              "#46039f"
             ],
             [
              0.2222222222222222,
              "#7201a8"
             ],
             [
              0.3333333333333333,
              "#9c179e"
             ],
             [
              0.4444444444444444,
              "#bd3786"
             ],
             [
              0.5555555555555556,
              "#d8576b"
             ],
             [
              0.6666666666666666,
              "#ed7953"
             ],
             [
              0.7777777777777778,
              "#fb9f3a"
             ],
             [
              0.8888888888888888,
              "#fdca26"
             ],
             [
              1,
              "#f0f921"
             ]
            ],
            "type": "surface"
           }
          ],
          "table": [
           {
            "cells": {
             "fill": {
              "color": "#EBF0F8"
             },
             "line": {
              "color": "white"
             }
            },
            "header": {
             "fill": {
              "color": "#C8D4E3"
             },
             "line": {
              "color": "white"
             }
            },
            "type": "table"
           }
          ]
         },
         "layout": {
          "annotationdefaults": {
           "arrowcolor": "#2a3f5f",
           "arrowhead": 0,
           "arrowwidth": 1
          },
          "autotypenumbers": "strict",
          "coloraxis": {
           "colorbar": {
            "outlinewidth": 0,
            "ticks": ""
           }
          },
          "colorscale": {
           "diverging": [
            [
             0,
             "#8e0152"
            ],
            [
             0.1,
             "#c51b7d"
            ],
            [
             0.2,
             "#de77ae"
            ],
            [
             0.3,
             "#f1b6da"
            ],
            [
             0.4,
             "#fde0ef"
            ],
            [
             0.5,
             "#f7f7f7"
            ],
            [
             0.6,
             "#e6f5d0"
            ],
            [
             0.7,
             "#b8e186"
            ],
            [
             0.8,
             "#7fbc41"
            ],
            [
             0.9,
             "#4d9221"
            ],
            [
             1,
             "#276419"
            ]
           ],
           "sequential": [
            [
             0,
             "#0d0887"
            ],
            [
             0.1111111111111111,
             "#46039f"
            ],
            [
             0.2222222222222222,
             "#7201a8"
            ],
            [
             0.3333333333333333,
             "#9c179e"
            ],
            [
             0.4444444444444444,
             "#bd3786"
            ],
            [
             0.5555555555555556,
             "#d8576b"
            ],
            [
             0.6666666666666666,
             "#ed7953"
            ],
            [
             0.7777777777777778,
             "#fb9f3a"
            ],
            [
             0.8888888888888888,
             "#fdca26"
            ],
            [
             1,
             "#f0f921"
            ]
           ],
           "sequentialminus": [
            [
             0,
             "#0d0887"
            ],
            [
             0.1111111111111111,
             "#46039f"
            ],
            [
             0.2222222222222222,
             "#7201a8"
            ],
            [
             0.3333333333333333,
             "#9c179e"
            ],
            [
             0.4444444444444444,
             "#bd3786"
            ],
            [
             0.5555555555555556,
             "#d8576b"
            ],
            [
             0.6666666666666666,
             "#ed7953"
            ],
            [
             0.7777777777777778,
             "#fb9f3a"
            ],
            [
             0.8888888888888888,
             "#fdca26"
            ],
            [
             1,
             "#f0f921"
            ]
           ]
          },
          "colorway": [
           "#636efa",
           "#EF553B",
           "#00cc96",
           "#ab63fa",
           "#FFA15A",
           "#19d3f3",
           "#FF6692",
           "#B6E880",
           "#FF97FF",
           "#FECB52"
          ],
          "font": {
           "color": "#2a3f5f"
          },
          "geo": {
           "bgcolor": "white",
           "lakecolor": "white",
           "landcolor": "white",
           "showlakes": true,
           "showland": true,
           "subunitcolor": "#C8D4E3"
          },
          "hoverlabel": {
           "align": "left"
          },
          "hovermode": "closest",
          "mapbox": {
           "style": "light"
          },
          "paper_bgcolor": "white",
          "plot_bgcolor": "white",
          "polar": {
           "angularaxis": {
            "gridcolor": "#EBF0F8",
            "linecolor": "#EBF0F8",
            "ticks": ""
           },
           "bgcolor": "white",
           "radialaxis": {
            "gridcolor": "#EBF0F8",
            "linecolor": "#EBF0F8",
            "ticks": ""
           }
          },
          "scene": {
           "xaxis": {
            "backgroundcolor": "white",
            "gridcolor": "#DFE8F3",
            "gridwidth": 2,
            "linecolor": "#EBF0F8",
            "showbackground": true,
            "ticks": "",
            "zerolinecolor": "#EBF0F8"
           },
           "yaxis": {
            "backgroundcolor": "white",
            "gridcolor": "#DFE8F3",
            "gridwidth": 2,
            "linecolor": "#EBF0F8",
            "showbackground": true,
            "ticks": "",
            "zerolinecolor": "#EBF0F8"
           },
           "zaxis": {
            "backgroundcolor": "white",
            "gridcolor": "#DFE8F3",
            "gridwidth": 2,
            "linecolor": "#EBF0F8",
            "showbackground": true,
            "ticks": "",
            "zerolinecolor": "#EBF0F8"
           }
          },
          "shapedefaults": {
           "line": {
            "color": "#2a3f5f"
           }
          },
          "ternary": {
           "aaxis": {
            "gridcolor": "#DFE8F3",
            "linecolor": "#A2B1C6",
            "ticks": ""
           },
           "baxis": {
            "gridcolor": "#DFE8F3",
            "linecolor": "#A2B1C6",
            "ticks": ""
           },
           "bgcolor": "white",
           "caxis": {
            "gridcolor": "#DFE8F3",
            "linecolor": "#A2B1C6",
            "ticks": ""
           }
          },
          "title": {
           "x": 0.05
          },
          "xaxis": {
           "automargin": true,
           "gridcolor": "#EBF0F8",
           "linecolor": "#EBF0F8",
           "ticks": "",
           "title": {
            "standoff": 15
           },
           "zerolinecolor": "#EBF0F8",
           "zerolinewidth": 2
          },
          "yaxis": {
           "automargin": true,
           "gridcolor": "#EBF0F8",
           "linecolor": "#EBF0F8",
           "ticks": "",
           "title": {
            "standoff": 15
           },
           "zerolinecolor": "#EBF0F8",
           "zerolinewidth": 2
          }
         }
        },
        "title": {
         "font": {
          "color": "Black",
          "size": 22
         },
         "text": "<b>Hierarchical Clustering</b>",
         "x": 0.5,
         "xanchor": "center",
         "yanchor": "top"
        },
        "width": 1000,
        "xaxis": {
         "mirror": "allticks",
         "rangemode": "tozero",
         "showgrid": false,
         "showline": true,
         "showticklabels": true,
         "ticks": "outside",
         "type": "linear",
         "zeroline": false
        },
        "yaxis": {
         "mirror": "allticks",
         "range": [
          -1990,
          0
         ],
         "rangemode": "tozero",
         "showgrid": false,
         "showline": true,
         "showticklabels": true,
         "tickmode": "array",
         "ticks": "outside",
         "ticktext": [
          "142_tree_node_leaf",
          "115_component_validation_id...",
          "132_sqapass_sqalogmessage_b...",
          "183_checkboxes_selection_mu...",
          "124_loop_keep_iteration",
          "161_vertical_scroll_leaps",
          "141_tags_tag_custom",
          "140_table_tr_td",
          "108_cab_dsl_modem",
          "30_japanese_germana_english",
          "97_font_encoding_charset",
          "42_content_attachment_dispo...",
          "84_dax_fields_schema",
          "27_xml_wml_feed",
          "59_oca_item_osa",
          "147_hash_sort_dutch",
          "104_query_string_sql",
          "14_jsp_servlet_java",
          "73_method_class_methods",
          "107_jess_inferior_perl",
          "167_exception_exceptions_th...",
          "149_adapter_adapters_adaptor",
          "182_filter_filters_filtering",
          "26_src_ejolt_services",
          "128_edt_jun_2001",
          "13_million_round_ameritrade",
          "61_synchronizing_folder_17",
          "88_epservlet_opt_servlet",
          "64_rim_application_dds",
          "56_dds_pda_dtd",
          "121_xsellsys_cygent_martini",
          "177_transcoding_zi_ezitext",
          "74_storage_backup_backups",
          "134_latency_ethernet_gigabit",
          "125_sizing_study_binu",
          "131_zones_utc_daylight",
          "164_applet_applets_appt",
          "137_thread_threads_affinity",
          "135_caching_cache_wait",
          "179_liberate_dependency_dep...",
          "127_orange_oem_france",
          "143_vivendi_elektrim_vivek",
          "133_declined_fdic_insured",
          "165_risk_risks_constraints",
          "168_burn_rate_energy",
          "174_cycles_spin_cycle",
          "175_quality_feedback_cost",
          "163_ranking_rankings_grades",
          "126_ring_give_ringtones",
          "155_heads_headcount_wanted",
          "138_numbers_number_numerals",
          "194_guys_these_know",
          "162_matrix_vector_etour",
          "176_holes_hole_dig",
          "170_tutorials_learn_tutorial",
          "31_venk_fortunata_donivan",
          "139_hung_lines_hang",
          "79_omnisky_hideki_cw",
          "57_idc_maintenance_catalyst",
          "77_roopak_rup_ruyben",
          "85_arun_rro_rover",
          "159_bigstep_bigip_ecv",
          "152_incredimail_ebulletin_c...",
          "83_termination_severance_co...",
          "130_women_gap_jeans",
          "112_quicken_fastcompany_fast",
          "150_jamcracker_orbitz_central",
          "190_needle_pump_gas",
          "192_insulin_diabetes_inject...",
          "172_batteries_battery_fuel",
          "151_indian_superdukan_asian",
          "119_laden_rm_rf",
          "99_911_emergency_sony",
          "129_records_census_ancestry",
          "184_jewish_jews_religion",
          "178_stack_paperstack_paper",
          "157_vegetarian_chickens_steak",
          "181_bullets_bullet_bulleted",
          "189_smoke_smoking_nicorette",
          "193_believe_why_could",
          "186_howard_tackling_encoura...",
          "185_water_body_cells",
          "154_garden_gardening_burpee",
          "160_wine_wines_winetasting",
          "102_color_illuminations_2fi...",
          "146_hair_curl_shampoo",
          "197_dizzy_cats_affect",
          "98_weight_diet_lose",
          "153_sleep_apnea_snoring",
          "196_trv730_camcorder_dcr",
          "198_titanium_4423_instillat...",
          "191_struts_husted_coading",
          "187_hyperras_aventail_extra...",
          "169_error_server4_apache",
          "180_resin_resin1_documentory",
          "195_instat_cat_cmceuen",
          "106_publications_research_7...",
          "136_nor_416_darcy",
          "173_views_sender_audience",
          "158_unstrung_server1_majord...",
          "114_coffeecup_coffee_dundee",
          "188_jaime_thank_appriciate",
          "101_wilhan_baseline_build",
          "171_traceability_obfuscatio...",
          "96_case_cases_investigation",
          "44_test_tests_stress",
          "66_qa_qwest_rational",
          "80_log4j_log_logging",
          "40_biogen_downloadobject_cr...",
          "22_bugs_bugzilla_bug",
          "105_migration_upgrade_trans...",
          "62_memory_concurrent_cpu",
          "38_license_licensing_licenses",
          "72_robot_machine_rational",
          "24_siebel_aml_vss",
          "39_netscape_server_webbyphone",
          "63_image_camera_upshot",
          "28_logo_design_visto",
          "43_pager_rendering_javascript",
          "17_emas_ae_ecs",
          "76_button_softkey_option",
          "94_emulator_games_emulators",
          "58_vpn_ip_address",
          "34_password_cookies_cookie",
          "49_verisign_hosting_certifi...",
          "82_names_trademark_name",
          "91_kpmg_europe_c2it",
          "11_hp_sybase_intel",
          "9_webex_channelwave_streaming",
          "1_wireless_mobile_wap",
          "4_avocadoit_408_562",
          "16_oracle_ibm_database",
          "36_appointment_insurance_do...",
          "33_fedex_order_shipping",
          "15_expense_invoice_credit",
          "23_trade_etrade_lead",
          "21_schedule_timesheet_date",
          "12_discuss_agenda_discussion",
          "0_person_prakash_meeting",
          "2_conference_meeting_presen...",
          "8_release_spec_offline",
          "7_review_feedback_survey",
          "5_me_fax_please",
          "10_call_base_touch",
          "6_training_resume_interview",
          "19_voicemail_him_voice",
          "109_shower_baby_massage",
          "48_baby_babycenter_1fc7nw",
          "55_wife_man_he",
          "18_her_she_call",
          "144_reproduce_orgasm_spot",
          "90_metaphor_example_examples",
          "113_duplication_merge_confl...",
          "145_blame_evidence_blaming",
          "20_xp_windows_microsoft",
          "47_pair_programming_pairing",
          "78_refactoring_refactor_bduf",
          "122_smell_clean_smells",
          "118_uts_ats_atx",
          "70_team_golf_mlb",
          "65_infoworld_news_newspapers",
          "45_stories_story_iteration",
          "116_velocity_iteration_story",
          "110_vacation_summer_rain",
          "100_weekend_doing_what",
          "25_lunch_dinner_dance",
          "67_join_volunteers_fitness",
          "81_loan_lease_mortgage",
          "156_rich_job_financially",
          "86_nike_wear_shirts",
          "120_exit_map_cities",
          "87_car_driveway_driver",
          "69_printer_pdf_print",
          "92_keyboard_tablet_mouse",
          "111_door_keys_key",
          "103_276485_guestid_isit",
          "68_cards_card_bluemountain",
          "60_tickets_sale_ticket",
          "29_travel_airlines_alaska",
          "53_hotel_reservations_reser...",
          "35_pricing_99_price",
          "95_dvd_video_dvds",
          "41_mp3_music_cd",
          "32_ebay_paypal_offers",
          "3_unsubscribe_com_egroups",
          "37_security_virus_mcafee",
          "89_invite_invitation_invites",
          "71_yahoo_jokes_laughaway",
          "123_decision_convenience_pr...",
          "50_comments_clarification_p...",
          "75_suggestions_advise_handle",
          "93_missed_anything_look",
          "51_directions_do_try",
          "52_do_one_favor",
          "54_do_relationship_understand",
          "148_just_wanted_do",
          "166_help_anyone_me",
          "46_help_list_appreciate",
          "117_help4u_wcom_diagram"
         ],
         "tickvals": [
          -5,
          -15,
          -25,
          -35,
          -45,
          -55,
          -65,
          -75,
          -85,
          -95,
          -105,
          -115,
          -125,
          -135,
          -145,
          -155,
          -165,
          -175,
          -185,
          -195,
          -205,
          -215,
          -225,
          -235,
          -245,
          -255,
          -265,
          -275,
          -285,
          -295,
          -305,
          -315,
          -325,
          -335,
          -345,
          -355,
          -365,
          -375,
          -385,
          -395,
          -405,
          -415,
          -425,
          -435,
          -445,
          -455,
          -465,
          -475,
          -485,
          -495,
          -505,
          -515,
          -525,
          -535,
          -545,
          -555,
          -565,
          -575,
          -585,
          -595,
          -605,
          -615,
          -625,
          -635,
          -645,
          -655,
          -665,
          -675,
          -685,
          -695,
          -705,
          -715,
          -725,
          -735,
          -745,
          -755,
          -765,
          -775,
          -785,
          -795,
          -805,
          -815,
          -825,
          -835,
          -845,
          -855,
          -865,
          -875,
          -885,
          -895,
          -905,
          -915,
          -925,
          -935,
          -945,
          -955,
          -965,
          -975,
          -985,
          -995,
          -1005,
          -1015,
          -1025,
          -1035,
          -1045,
          -1055,
          -1065,
          -1075,
          -1085,
          -1095,
          -1105,
          -1115,
          -1125,
          -1135,
          -1145,
          -1155,
          -1165,
          -1175,
          -1185,
          -1195,
          -1205,
          -1215,
          -1225,
          -1235,
          -1245,
          -1255,
          -1265,
          -1275,
          -1285,
          -1295,
          -1305,
          -1315,
          -1325,
          -1335,
          -1345,
          -1355,
          -1365,
          -1375,
          -1385,
          -1395,
          -1405,
          -1415,
          -1425,
          -1435,
          -1445,
          -1455,
          -1465,
          -1475,
          -1485,
          -1495,
          -1505,
          -1515,
          -1525,
          -1535,
          -1545,
          -1555,
          -1565,
          -1575,
          -1585,
          -1595,
          -1605,
          -1615,
          -1625,
          -1635,
          -1645,
          -1655,
          -1665,
          -1675,
          -1685,
          -1695,
          -1705,
          -1715,
          -1725,
          -1735,
          -1745,
          -1755,
          -1765,
          -1775,
          -1785,
          -1795,
          -1805,
          -1815,
          -1825,
          -1835,
          -1845,
          -1855,
          -1865,
          -1875,
          -1885,
          -1895,
          -1905,
          -1915,
          -1925,
          -1935,
          -1945,
          -1955,
          -1965,
          -1975,
          -1985
         ],
         "type": "linear",
         "zeroline": false
        }
       }
      }
     },
     "metadata": {},
     "output_type": "display_data"
    }
   ],
   "source": [
    "topic_model.visualize_hierarchy(hierarchical_topics=hierarchical_topics)"
   ]
  },
  {
   "cell_type": "markdown",
   "metadata": {},
   "source": [
    "## Merging Topics"
   ]
  },
  {
   "cell_type": "code",
   "execution_count": null,
   "metadata": {},
   "outputs": [
    {
     "name": "stdout",
     "output_type": "stream",
     "text": [
      "Topic: 2\n",
      "\n",
      "Top Words:\n",
      "conference, meeting, presentation, crm, slides, and, for, gartner, the, attend, \n",
      "\n",
      "Representative Target Sentences: \n",
      "Need to schedule a conference call .\n",
      "If you wanted to get on a conference call to discuss more details , we can do that .\n",
      "I 'll set up a conference call for that time .\n"
     ]
    },
    {
     "ename": "",
     "evalue": "",
     "output_type": "error",
     "traceback": [
      "\u001b[1;31mThe Kernel crashed while executing code in the current cell or a previous cell. \n",
      "\u001b[1;31mPlease review the code in the cell(s) to identify a possible cause of the failure. \n",
      "\u001b[1;31mClick <a href='https://aka.ms/vscodeJupyterKernelCrash'>here</a> for more info. \n",
      "\u001b[1;31mView Jupyter <a href='command:jupyter.viewOutput'>log</a> for further details."
     ]
    }
   ],
   "source": [
    "topic_id = 2\n",
    "_, rep_sents = inspect_topic(topic_id)"
   ]
  },
  {
   "cell_type": "code",
   "execution_count": 13,
   "metadata": {},
   "outputs": [
    {
     "name": "stdout",
     "output_type": "stream",
     "text": [
      "Number of Documents: 13573\n",
      "\n",
      "The VoiceXML gateway company   Join our growing developer 's network at http://developer.voicegenie.com\n",
      "Also , we will have bonus distribution at the CTIA Wireless Show in   > September .\n",
      "< < File : [PERSON] [PERSON] ( E - mail).vcf > >    -----Original Message-----   From : \t [PERSON] [PERSON] [PERSON] [PERSON] [PERSON] \t July 16 , 2001 7:16 PM   Hi [PERSON] ,    Since most of the airlines are interested in voice alerts , do you need more info   that this to put voice alerts on the product roadmap for 3.5 or 4.0 ?\n",
      ">   >   > \t  > \t\t\t  > \t\t\t [PERSON] [PERSON]   > \t\t\t System Support Engineer   > \t\t\t Enterprise Services   > \t\t\t Sun Microsystems   > \t\t\t USCA28 - 10   > \t\t\t 3975 Freedom Circle   > \t\t\t [LOCATION] [LOCATION] , [LOCATION] 95054   > \t\t\t 408 276 9685 ( office )   > \t\t\t 408 697 5326 ( pager )   >   >   >     _ _ _ _ _ _ _ _ _ _ _ _ _ _ _ _ _ _ _ _ _ _ _ _ _ _ _ _ _ _ _ _ _ _ _ _ _ _ _ _ _ _ _ _ _ _ _ _ _ _   Do You Yahoo ! ?   Yahoo !\n",
      "\" More and more of our students and staff are buying WAP - enabled mobiles so   this site is an useful tool for anyone on the move who needs to get at   university information quickly , \" [PERSON] said .    = = = = = = = = = = = = = = = = = = = = = = = = = = = = = = = = = = = = = = = = = = = = = = = = = = = = = =   21 .\n",
      "I have planted the seed that we can have their pilot up and going this quarter and that they can learn a tremendous amount about how wireless will benefit PaineWebber in a short time .\n",
      "BIG GUNS FORM WIRELESS RESEARCH FORUM   Ericsson , Nokia , Alcatel , and Siemens are jointly creating the Wireless   World Research Forum , or WWRF .\n",
      "You must appreciate that even in this case VoiceGenie needs its due recognition .\n",
      "It ’s a must - attend event for anyone who uses Sun hardware , software , peripherals or services to give his or her enterprise a technological advantage .\n",
      "In order for us to evaluate [LOCATION] 's request , we need to find out if Sabre provides this type of information thru it 's existing API .\n",
      "Greetings [PERSON] ,    I wanted to follow - up with you in regards to your wireless plans .\n",
      "In   Learn how you can buy your way into the search engines through paid   placement , paid inclusion and paid submission programs .\n",
      "Hi Arun ,    You came by our booth at Javaone and said that you want to go wireless with your 401 K application .\n",
      "We do not anticipate a meaningful ramp of 3 G subscribers until very late 2002 , but more likely 2003 .\n",
      "AT&T Wireless    Tellme Networks \t Tellme Networks will provide voice portal access to the wireless web for AT&T 's users .\n",
      "The Nokia browser does this by itself .\n",
      "I need to [PERSON] [PERSON] ) the Sun contact , contact info to pass on to the Sun sales reps .\n",
      "What evidence is there that implementing a mobile solution will increase the productivity of the enterprise workforce ?   - Can you have a winning strategy without owning the customer relationship ?\n",
      "3.6 \t\t Support maintenance diagnostics \t\t Support the diagnosis of aircraft maintenance events and provide guidance for repair operations .\n",
      "We need to build a mobility center to hold multiple PDAs at an angle appropriate for viewing - much like the kind of fixtures one sees in a retail store .\n",
      "With an existing network , the incumbent operator can afford to be aggressive   in rolling out 3G. Their existing infrastructure and 2 G user base can help   them roll out a viable 3 G service faster and at a lower capital cost than   newcomers .\n",
      "The second week of may I present the pan to estaff anf .ark [PERSON] [PERSON] [PERSON] [PERSON] [PERSON] from my BlackBerry Wireless Handheld ( www.BlackBerry.net )\n",
      "The timing is twofold : first , we are losing customers ( eg Providian ) , or at least allowing the competition ( ie Aether ) get into accounts ( eg Zions ) because we do not have a service bureau offering .\n",
      "We also believe their partnership model of working with one partner will give us a differentiation instead of a \" me too \" position in the market , which we would be with SUN .\n",
      "Bluetooth - WLAN - HyperLAN - 802.11 - DECT - infrared - HomeRF - WiFi    A limited number of free trials are being offered - if you would like to   receive these please contact catherine@visiongain.com    Bluetooth Bytes offers in - depth statistics , analysis and interviews that cut   to the heart of the GSM market .    = = = = = = = = = = = = = = = = = = = = = = = = = = = = = = = = = = = = = = = = = = = = = = = = = = = = = =   Here is your Daily Update for :   Friday , 22nd June 2001\n"
     ]
    }
   ],
   "source": [
    "documents = [docs[i] for i, topic in enumerate(topic_model.topics_) if topic == topic_id]\n",
    "print('Number of Documents: '+str(len(documents))+'\\n')\n",
    "for i in range(25):\n",
    "    print(documents[i])"
   ]
  },
  {
   "cell_type": "code",
   "execution_count": null,
   "metadata": {},
   "outputs": [],
   "source": [
    "topic_model.merge_topics(docs, [-1,topic_id])"
   ]
  },
  {
   "cell_type": "code",
   "execution_count": null,
   "metadata": {},
   "outputs": [],
   "source": [
    "create_custom_label(\"\", )"
   ]
  },
  {
   "cell_type": "code",
   "execution_count": null,
   "metadata": {},
   "outputs": [],
   "source": [
    "len(topic_model.get_topics())"
   ]
  },
  {
   "cell_type": "code",
   "execution_count": null,
   "metadata": {},
   "outputs": [],
   "source": [
    "#topic_model.save(\"../../../data/bertopic_models/intents/00_all_intents/all_processed\")"
   ]
  },
  {
   "cell_type": "code",
   "execution_count": null,
   "metadata": {},
   "outputs": [],
   "source": [
    "topic_model = BERTopic.load(\"../../../data/bertopic_models/intents/00_all_intents/all_processed_cut_to_600_processed\")"
   ]
  },
  {
   "cell_type": "markdown",
   "metadata": {},
   "source": [
    "### Remove Topics now"
   ]
  },
  {
   "cell_type": "code",
   "execution_count": null,
   "metadata": {},
   "outputs": [],
   "source": [
    "topic_model.save(\"../../../data/bertopic_models/intents/00_all_intents/all_processed_cut_to_600_processed\")"
   ]
  },
  {
   "cell_type": "code",
   "execution_count": null,
   "metadata": {},
   "outputs": [],
   "source": [
    "\n",
    "merge_list = []\n",
    "for i in range(600,1000):\n",
    "    item = [-1,i]\n",
    "    merge_list.append(item)\n",
    "topic_model.merge_topics(docs, merge_list)\n",
    "#topic_model.save(\"../../../data/bertopic_models/intents/00_all_intents/all_processed_cut_to_600\")"
   ]
  },
  {
   "cell_type": "code",
   "execution_count": null,
   "metadata": {},
   "outputs": [],
   "source": [
    "topic_id = 5\n",
    "_, rep_sents = inspect_topic(topic_id)"
   ]
  },
  {
   "cell_type": "code",
   "execution_count": null,
   "metadata": {},
   "outputs": [],
   "source": [
    "documents = [docs[i] for i, topic in enumerate(topic_model.topics_) if topic == topic_id]\n",
    "print('Number of Documents: '+str(len(documents))+'\\n')\n",
    "for i in range(25):\n",
    "    print(documents[i])"
   ]
  },
  {
   "cell_type": "code",
   "execution_count": null,
   "metadata": {},
   "outputs": [],
   "source": [
    "topic_model.merge_topics(docs, [-1,500])"
   ]
  },
  {
   "cell_type": "code",
   "execution_count": null,
   "metadata": {},
   "outputs": [],
   "source": [
    "topic_model.visualize_hierarchy(custom_labels=False)"
   ]
  },
  {
   "cell_type": "markdown",
   "metadata": {},
   "source": [
    "### Keep Intent-like Topics"
   ]
  },
  {
   "cell_type": "code",
   "execution_count": null,
   "metadata": {},
   "outputs": [],
   "source": [
    "topic_id = 20\n",
    "inspect_topic(topic_id)"
   ]
  },
  {
   "cell_type": "code",
   "execution_count": null,
   "metadata": {},
   "outputs": [],
   "source": [
    "topic_model.merge_topics(docs, [-1,topic_id])"
   ]
  },
  {
   "cell_type": "code",
   "execution_count": null,
   "metadata": {},
   "outputs": [],
   "source": [
    "documents = [docs[i] for i, topic in enumerate(topic_model.topics_) if topic == topic_id]\n",
    "print('Number of Documents: '+str(len(documents))+'\\n')\n",
    "for i in range(20):\n",
    "    print(documents[i])"
   ]
  },
  {
   "cell_type": "code",
   "execution_count": null,
   "metadata": {},
   "outputs": [],
   "source": [
    "create_custom_label(custom_label='send_check', topic_id=topic_id)"
   ]
  },
  {
   "cell_type": "code",
   "execution_count": null,
   "metadata": {},
   "outputs": [],
   "source": [
    "topic_model.visualize_hierarchy(custom_labels=False)"
   ]
  },
  {
   "cell_type": "code",
   "execution_count": null,
   "metadata": {},
   "outputs": [],
   "source": [
    "topic_model.save(\"../../data/bertopic_models/intent/send_new/send_final\")"
   ]
  },
  {
   "cell_type": "markdown",
   "metadata": {},
   "source": [
    "### Create Dataset for intent 'send'"
   ]
  },
  {
   "cell_type": "markdown",
   "metadata": {},
   "source": [
    "####  Labels"
   ]
  },
  {
   "cell_type": "markdown",
   "metadata": {},
   "source": [
    "Created custom labels for topics\n",
    "\n",
    "| Label                             | Description                                       | Extraction Strings | Context needed |\n",
    "|-----------------------------------|---------------------------------------------------|--------------------|----------------|\n",
    "| send_it                           | Something is being send.                          | Data 2   |\n",
    "|0_send_something\n",
    "|1_send_review  ||'review', 'comment', 'suggestion', 'feedback', 'correction'|\n",
    "|2_send_presentation || 'powerpoint', 'presentation', 'slide', 'ppt', \n",
    "|3_send_files || ''\n",
    "|4_send_contract\n",
    "|5_send_copy   || copy\n",
    "|6_send_pqa || pqa\n",
    "|7_item_oca_data_osa\n",
    "|8_send_fax ||fax\n",
    "|9_send_update_changes || 'update','change' \n",
    "|10_send_pictures || 'pic','jpeg', 'image', 'photo'\n",
    "|11_send_meeting_request || 'meeting'\n",
    "|12_meeting_calendar_request_meetings\n",
    "|13_send_test_results\n",
    "|14_send_details_information || 'information', 'details'\n",
    "|15_send_list\n",
    "|16_send_invitation\n",
    "|17_send_resume\n",
    "|18_resume_resumes_my_me\n",
    "|19_send_bug_status"
   ]
  },
  {
   "cell_type": "markdown",
   "metadata": {},
   "source": [
    "#### Inspecting Topics"
   ]
  },
  {
   "cell_type": "code",
   "execution_count": null,
   "metadata": {},
   "outputs": [],
   "source": [
    "'''\n",
    "for  label in topic_model.custom_labels_:\n",
    "   print(label)'''"
   ]
  },
  {
   "cell_type": "code",
   "execution_count": null,
   "metadata": {},
   "outputs": [],
   "source": [
    "topic_model = BERTopic.load(\"../../data/bertopic_models/processed/send_final\")"
   ]
  },
  {
   "cell_type": "code",
   "execution_count": null,
   "metadata": {},
   "outputs": [],
   "source": []
  },
  {
   "cell_type": "code",
   "execution_count": null,
   "metadata": {},
   "outputs": [],
   "source": [
    "topic_nr_to_inspect = 31\n",
    "topic_docs = inspect_topic_and_its_docs(topic_nr=topic_nr_to_inspect, n_docs=100)"
   ]
  },
  {
   "cell_type": "code",
   "execution_count": null,
   "metadata": {},
   "outputs": [],
   "source": [
    "# Based on the inspection of the sentences\n",
    "white_list = [\n",
    "    'resume', 'cv', \n",
    "]\n",
    "black_list = [\n",
    "]"
   ]
  },
  {
   "cell_type": "code",
   "execution_count": null,
   "metadata": {},
   "outputs": [],
   "source": [
    "sentences_to_keep = filter_topic_documents(topic_docs=topic_docs, white_list=white_list, black_list=black_list)\n",
    "sentences_to_keep[:5]"
   ]
  },
  {
   "cell_type": "code",
   "execution_count": null,
   "metadata": {},
   "outputs": [],
   "source": [
    "df = pd.DataFrame({\"text\": sentences_to_keep, \"label\": get_label_from_topic_nr(topic_nr_to_inspect)})\n",
    "concat_to_df(df, filepath=\"../../data/labeled/send.tsv\", overwrite=True)"
   ]
  },
  {
   "cell_type": "code",
   "execution_count": null,
   "metadata": {},
   "outputs": [],
   "source": [
    "df.head()"
   ]
  },
  {
   "cell_type": "code",
   "execution_count": null,
   "metadata": {},
   "outputs": [],
   "source": []
  }
 ],
 "metadata": {
  "kernelspec": {
   "display_name": "ma_exp_intent",
   "language": "python",
   "name": "python3"
  },
  "language_info": {
   "codemirror_mode": {
    "name": "ipython",
    "version": 3
   },
   "file_extension": ".py",
   "mimetype": "text/x-python",
   "name": "python",
   "nbconvert_exporter": "python",
   "pygments_lexer": "ipython3",
   "version": "3.12.4"
  }
 },
 "nbformat": 4,
 "nbformat_minor": 2
}
