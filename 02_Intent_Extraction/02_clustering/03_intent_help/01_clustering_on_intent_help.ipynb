{
 "cells": [
  {
   "cell_type": "markdown",
   "metadata": {},
   "source": [
    "# Hierarchical Clustering on Target Sentences\n",
    "to help deriving a taxonomy for intents, hierarchical clustering is being leveraged."
   ]
  },
  {
   "cell_type": "markdown",
   "metadata": {},
   "source": [
    "#### Functions"
   ]
  },
  {
   "cell_type": "code",
   "execution_count": 1,
   "metadata": {},
   "outputs": [],
   "source": [
    "def inspect_topic(topic_nr):\n",
    "    print('-----------')\n",
    "    top_words = topic_model.get_topic(topic_nr)\n",
    "    print(\"Topic: \"+str(topic_nr)+\"\\n\\nTop Words:\")\n",
    "    for word in top_words:\n",
    "        print(word[0], end=\", \")\n",
    "    print('\\n\\nRepresentative Target Sentences: ')\n",
    "    for doc in topic_model.get_topic_info().iloc[topic_nr+1]['Representative_Docs']:\n",
    "        print(doc)\n",
    "\n",
    "def create_custom_label(custom_label, topic_id):\n",
    "    custom_labels = {\n",
    "        topic_id: str(topic_id)+\"_\"+custom_label,\n",
    "    }\n",
    "    topic_model.set_topic_labels(custom_labels)\n",
    "\n",
    "# Function to retrieve custom label from topic model\n",
    "def get_label_from_topic_nr(topic_nr):\n",
    "    for label in topic_model.custom_labels_:\n",
    "        if label.startswith(str(topic_nr)):\n",
    "            label = label\n",
    "            label = re.sub(r\"^\\d+_\", \"\", label)\n",
    "            return label\n",
    "    raise Exception('Provided Topic Number has no label assigned!')\n",
    "\n",
    "# Function to inspect a topic by its number and retrieve its documents\n",
    "'''\n",
    "def inspect_topic_and_its_docs(topic_nr,n_docs=50):\n",
    "    topic_docs = list(set([doc for doc, topic in zip(docs, topic_model.topics_) if topic == topic_nr]))\n",
    "    print(\"Label: \" + get_label_from_topic_nr(topic_nr)+\"\\n\")\n",
    "    print(\"Number of sentences for label: \"+str(len(topic_docs)))\n",
    "    print('\\nSentences:\\n')\n",
    "    if len(topic_docs) < n_docs:\n",
    "        n_docs = len(topic_docs)\n",
    "    for i in range(n_docs):\n",
    "        print(topic_docs[i])\n",
    "    return topic_docs\n",
    "'''\n",
    "\n",
    "def inspect_topic_docs(topic_id, n_docs=20):\n",
    "    documents = [docs[i] for i, topic in enumerate(topic_model.topics_) if topic == topic_id]\n",
    "    print('Number of Documents: '+str(len(documents))+'\\n')\n",
    "    if len(documents) < n_docs:\n",
    "        n_docs = len(documents)\n",
    "    for i in range(n_docs):\n",
    "        print(documents[i])\n",
    "    return documents\n",
    "\n",
    "# given a list of strings, returns a list of documents that contain at least one of the strings in the given list\n",
    "def filter_topic_documents(topic_docs, white_list, black_list=[] ):\n",
    "    sentences_to_keep = []\n",
    "    sentences_to_discard = []\n",
    "    for doc in topic_docs:\n",
    "        if any(substring in doc for substring in white_list):\n",
    "            sentences_to_keep.append(doc)\n",
    "    sentences_to_keep = [\n",
    "    item for item in sentences_to_keep\n",
    "        if not any(substring in item for substring in black_list)\n",
    "    ]\n",
    "    sentences_to_keep = list(set(sentences_to_keep)) # remove duplicates\n",
    "    sentences_to_discard = list(set(topic_docs) - set(sentences_to_keep))\n",
    "    print('Amount of sentences: '+str(len(sentences_to_keep)))\n",
    "    return sentences_to_keep, sentences_to_discard\n",
    "\n",
    "# Function to facilitate the concatenation of new DFs\n",
    "def concat_to_df(new_df,filepath, overwrite=False, ):\n",
    "    try:\n",
    "        df = pd.read_csv(filepath, sep='\\t')\n",
    "    except FileNotFoundError:\n",
    "        df = pd.DataFrame(columns=[\"text\", \"label\"])\n",
    "    if new_df.iloc[0]['label'] not in df['label'].values: # Make sure that DF does not already contain entry for label\n",
    "        new_df = new_df.reset_index(drop=True)\n",
    "        df = df.reset_index(drop=True)\n",
    "        df = pd.concat([df, new_df], ignore_index=True)\n",
    "        df = df.reset_index(drop=True)\n",
    "        df = df.loc[:, ~df.columns.str.contains('^Unnamed')]\n",
    "        df.to_csv(filepath, sep='\\t')\n",
    "        return df\n",
    "    else:\n",
    "        if overwrite:\n",
    "            df = df[~df['label'].str.contains(new_df.iloc[0]['label'])]\n",
    "            df = pd.concat([df, new_df], ignore_index=True)\n",
    "            df = df.loc[:, ~df.columns.str.contains('^Unnamed')]\n",
    "            df.to_csv(\"../../data/labeled/send.tsv\", sep='\\t', index=False)\n",
    "            return df\n",
    "        else:\n",
    "            print(\"Label '\"+new_df.iloc[0]['label']+\"' already in the final DF, so it's being skipped.\")\n"
   ]
  },
  {
   "cell_type": "markdown",
   "metadata": {},
   "source": [
    "####"
   ]
  },
  {
   "cell_type": "code",
   "execution_count": 2,
   "metadata": {},
   "outputs": [],
   "source": [
    "from bertopic import BERTopic\n",
    "from scipy.cluster import hierarchy as sch\n",
    "import pandas as pd\n",
    "import logging\n",
    "from sklearn.metrics.pairwise import cosine_distances\n",
    "from tqdm import tqdm\n",
    "import numpy as np\n",
    "from umap import UMAP\n",
    "from hdbscan import HDBSCAN\n",
    "from sentence_transformers import SentenceTransformer\n",
    "import re"
   ]
  },
  {
   "cell_type": "code",
   "execution_count": 3,
   "metadata": {},
   "outputs": [],
   "source": [
    "df = pd.read_parquet('../../../data/processed/intents/help.parquet', engine='fastparquet')"
   ]
  },
  {
   "cell_type": "code",
   "execution_count": 4,
   "metadata": {},
   "outputs": [],
   "source": [
    "df['target'] = df['target'].str.replace(r'\\r\\n', ' ', regex=True)\n",
    "docs = list(set(df['target'].tolist()))"
   ]
  },
  {
   "cell_type": "code",
   "execution_count": 5,
   "metadata": {},
   "outputs": [
    {
     "data": {
      "text/plain": [
       "12672"
      ]
     },
     "execution_count": 5,
     "metadata": {},
     "output_type": "execute_result"
    }
   ],
   "source": [
    "# Amount of unique target sentences\n",
    "len(docs)"
   ]
  },
  {
   "cell_type": "markdown",
   "metadata": {},
   "source": [
    "## Training the Model"
   ]
  },
  {
   "cell_type": "code",
   "execution_count": 6,
   "metadata": {},
   "outputs": [],
   "source": [
    "# Configure logging\n",
    "logging.basicConfig(level=logging.INFO)\n",
    "logger = logging.getLogger(\"BERTopic\")\n",
    "logger.setLevel(logging.INFO)"
   ]
  },
  {
   "cell_type": "code",
   "execution_count": 7,
   "metadata": {},
   "outputs": [
    {
     "name": "stderr",
     "output_type": "stream",
     "text": [
      "INFO:sentence_transformers.SentenceTransformer:Use pytorch device_name: mps\n",
      "INFO:sentence_transformers.SentenceTransformer:Load pretrained SentenceTransformer: all-MiniLM-L6-v2\n",
      "2024-11-06 18:28:39,644 - BERTopic - Embedding - Transforming documents to embeddings.\n"
     ]
    },
    {
     "data": {
      "application/vnd.jupyter.widget-view+json": {
       "model_id": "1c57fd42387f43f487991dd31abd6842",
       "version_major": 2,
       "version_minor": 0
      },
      "text/plain": [
       "Batches:   0%|          | 0/396 [00:00<?, ?it/s]"
      ]
     },
     "metadata": {},
     "output_type": "display_data"
    },
    {
     "name": "stderr",
     "output_type": "stream",
     "text": [
      "2024-11-06 18:29:05,187 - BERTopic - Embedding - Completed ✓\n",
      "2024-11-06 18:29:05,188 - BERTopic - Dimensionality - Fitting the dimensionality reduction algorithm\n",
      "OMP: Info #276: omp_set_nested routine deprecated, please use omp_set_max_active_levels instead.\n",
      "2024-11-06 18:29:19,734 - BERTopic - Dimensionality - Completed ✓\n",
      "2024-11-06 18:29:19,735 - BERTopic - Cluster - Start clustering the reduced embeddings\n",
      "2024-11-06 18:29:20,070 - BERTopic - Cluster - Completed ✓\n",
      "2024-11-06 18:29:20,073 - BERTopic - Representation - Extracting topics from clusters using representation models.\n",
      "2024-11-06 18:29:20,238 - BERTopic - Representation - Completed ✓\n"
     ]
    }
   ],
   "source": [
    "# Initialize UMAP with a fixed random state\n",
    "random_state = 1 # Other seeds sometimes caused negative values in the distanace matrix\n",
    "\n",
    "# Set global random seeds\n",
    "np.random.seed(random_state)\n",
    "\n",
    "embedding_model = SentenceTransformer(\"all-MiniLM-L6-v2\")\n",
    "umap_model = UMAP(n_neighbors=15, n_components=5, random_state=random_state)\n",
    "hdbscan_model = HDBSCAN(min_cluster_size=10, prediction_data=True)\n",
    "\n",
    "topic_model = BERTopic(verbose=True, umap_model=umap_model, hdbscan_model=hdbscan_model, embedding_model=embedding_model)\n",
    "topics, probs = topic_model.fit_transform(docs)"
   ]
  },
  {
   "cell_type": "code",
   "execution_count": 8,
   "metadata": {},
   "outputs": [
    {
     "name": "stderr",
     "output_type": "stream",
     "text": [
      "100%|██████████| 147/147 [00:00<00:00, 722.93it/s]\n"
     ]
    }
   ],
   "source": [
    "hierarchical_topics = topic_model.hierarchical_topics(docs)"
   ]
  },
  {
   "cell_type": "code",
   "execution_count": null,
   "metadata": {},
   "outputs": [
    {
     "name": "stderr",
     "output_type": "stream",
     "text": [
      "2024-11-06 14:36:35,815 - BERTopic - WARNING: When you use `pickle` to save/load a BERTopic model,please make sure that the environments in which you saveand load the model are **exactly** the same. The version of BERTopic,its dependencies, and python need to remain the same.\n"
     ]
    }
   ],
   "source": [
    "topic_model.save(\"../../../data/bertopic_models/intents/03_help/help_unprocessed\")"
   ]
  },
  {
   "cell_type": "markdown",
   "metadata": {},
   "source": [
    "## Inspecting clustering results"
   ]
  },
  {
   "cell_type": "code",
   "execution_count": 7,
   "metadata": {},
   "outputs": [],
   "source": [
    "#topic_model = BERTopic.load(\"../../data/bertopic_models/send\")"
   ]
  },
  {
   "cell_type": "code",
   "execution_count": 10,
   "metadata": {},
   "outputs": [
    {
     "data": {
      "application/vnd.plotly.v1+json": {
       "config": {
        "plotlyServerURL": "https://plot.ly"
       },
       "data": [
        {
         "hoverinfo": "text",
         "marker": {
          "color": "rgb(61,153,112)"
         },
         "mode": "lines",
         "text": [
          "hesitate_call_do_questions_not",
          "",
          "",
          "hesitate_ask_do_questions_any"
         ],
         "type": "scatter",
         "x": [
          0,
          0.3297218244877491,
          0.3297218244877491,
          0
         ],
         "xaxis": "x",
         "y": [
          -15,
          -15,
          -25,
          -25
         ],
         "yaxis": "y"
        },
        {
         "hoverinfo": "text",
         "marker": {
          "color": "rgb(61,153,112)"
         },
         "mode": "lines",
         "text": [
          "hesitate_contact_us_do_not",
          "",
          "",
          "hesitate_ask_call_do_questions"
         ],
         "type": "scatter",
         "x": [
          0,
          0.4263082099621925,
          0.4263082099621925,
          0.3297218244877491
         ],
         "xaxis": "x",
         "y": [
          -5,
          -5,
          -20,
          -20
         ],
         "yaxis": "y"
        },
        {
         "hoverinfo": "text",
         "marker": {
          "color": "rgb(255,65,54)"
         },
         "mode": "lines",
         "text": [
          "call_feel_free_questions_any",
          "",
          "",
          "email_mail_free_feel_questions"
         ],
         "type": "scatter",
         "x": [
          0,
          0.5058106110243017,
          0.5058106110243017,
          0
         ],
         "xaxis": "x",
         "y": [
          -35,
          -35,
          -45,
          -45
         ],
         "yaxis": "y"
        },
        {
         "hoverinfo": "text",
         "marker": {
          "color": "rgb(255,65,54)"
         },
         "mode": "lines",
         "text": [
          "myself_contact_questions_or_any",
          "",
          "",
          "contact_ext_or_person_408"
         ],
         "type": "scatter",
         "x": [
          0,
          0.6253601695629636,
          0.6253601695629636,
          0
         ],
         "xaxis": "x",
         "y": [
          -55,
          -55,
          -65,
          -65
         ],
         "yaxis": "y"
        },
        {
         "hoverinfo": "text",
         "marker": {
          "color": "rgb(255,65,54)"
         },
         "mode": "lines",
         "text": [
          "contact_myself_or_questions_person",
          "",
          "",
          "800_order_contact_questions_service"
         ],
         "type": "scatter",
         "x": [
          0.6253601695629636,
          0.6928085904748855,
          0.6928085904748855,
          0
         ],
         "xaxis": "x",
         "y": [
          -60,
          -60,
          -75,
          -75
         ],
         "yaxis": "y"
        },
        {
         "hoverinfo": "text",
         "marker": {
          "color": "rgb(255,65,54)"
         },
         "mode": "lines",
         "text": [
          "call_feel_free_questions_any",
          "",
          "",
          "contact_800_questions_or_order"
         ],
         "type": "scatter",
         "x": [
          0.5058106110243017,
          0.8207763701292594,
          0.8207763701292594,
          0.6928085904748855
         ],
         "xaxis": "x",
         "y": [
          -40,
          -40,
          -67.5,
          -67.5
         ],
         "yaxis": "y"
        },
        {
         "hoverinfo": "text",
         "marker": {
          "color": "rgb(0,116,217)"
         },
         "mode": "lines",
         "text": [
          "hesitate_do_ask_call_questions",
          "",
          "",
          "contact_questions_call_800_any"
         ],
         "type": "scatter",
         "x": [
          0.4263082099621925,
          1.2273486858856564,
          1.2273486858856564,
          0.8207763701292594
         ],
         "xaxis": "x",
         "y": [
          -12.5,
          -12.5,
          -53.75,
          -53.75
         ],
         "yaxis": "y"
        },
        {
         "hoverinfo": "text",
         "marker": {
          "color": "rgb(35,205,205)"
         },
         "mode": "lines",
         "text": [
          "let_know_questions_please_any",
          "",
          "",
          "let_know_questions_me_any"
         ],
         "type": "scatter",
         "x": [
          0,
          0.11296859817116511,
          0.11296859817116511,
          0
         ],
         "xaxis": "x",
         "y": [
          -115,
          -115,
          -125,
          -125
         ],
         "yaxis": "y"
        },
        {
         "hoverinfo": "text",
         "marker": {
          "color": "rgb(35,205,205)"
         },
         "mode": "lines",
         "text": [
          "let_know_questions_please_me",
          "",
          "",
          "assistance_let_know_questions_further"
         ],
         "type": "scatter",
         "x": [
          0.11296859817116511,
          0.36370871061452426,
          0.36370871061452426,
          0
         ],
         "xaxis": "x",
         "y": [
          -120,
          -120,
          -135,
          -135
         ],
         "yaxis": "y"
        },
        {
         "hoverinfo": "text",
         "marker": {
          "color": "rgb(35,205,205)"
         },
         "mode": "lines",
         "text": [
          "questions_any_ask_have_please",
          "",
          "",
          "let_know_questions_any_me"
         ],
         "type": "scatter",
         "x": [
          0,
          0.5069371764493978,
          0.5069371764493978,
          0.36370871061452426
         ],
         "xaxis": "x",
         "y": [
          -105,
          -105,
          -127.5,
          -127.5
         ],
         "yaxis": "y"
        },
        {
         "hoverinfo": "text",
         "marker": {
          "color": "rgb(35,205,205)"
         },
         "mode": "lines",
         "text": [
          "clarification_additional_information_let_know",
          "",
          "",
          "additional_let_otherwise_further_know"
         ],
         "type": "scatter",
         "x": [
          0,
          0.473003771952757,
          0.473003771952757,
          0
         ],
         "xaxis": "x",
         "y": [
          -145,
          -145,
          -155,
          -155
         ],
         "yaxis": "y"
        },
        {
         "hoverinfo": "text",
         "marker": {
          "color": "rgb(35,205,205)"
         },
         "mode": "lines",
         "text": [
          "let_questions_know_any_please",
          "",
          "",
          "additional_clarification_let_know_questions"
         ],
         "type": "scatter",
         "x": [
          0.5069371764493978,
          0.5230756622618455,
          0.5230756622618455,
          0.473003771952757
         ],
         "xaxis": "x",
         "y": [
          -116.25,
          -116.25,
          -150,
          -150
         ],
         "yaxis": "y"
        },
        {
         "hoverinfo": "text",
         "marker": {
          "color": "rgb(35,205,205)"
         },
         "mode": "lines",
         "text": [
          "comments_let_know_questions_or",
          "",
          "",
          "let_know_questions_any_please"
         ],
         "type": "scatter",
         "x": [
          0,
          0.5973979564361173,
          0.5973979564361173,
          0.5230756622618455
         ],
         "xaxis": "x",
         "y": [
          -95,
          -95,
          -133.125,
          -133.125
         ],
         "yaxis": "y"
        },
        {
         "hoverinfo": "text",
         "marker": {
          "color": "rgb(35,205,205)"
         },
         "mode": "lines",
         "text": [
          "problems_let_know_please_any",
          "",
          "",
          "let_need_know_me_ll"
         ],
         "type": "scatter",
         "x": [
          0,
          0.554275330045366,
          0.554275330045366,
          0
         ],
         "xaxis": "x",
         "y": [
          -165,
          -165,
          -175,
          -175
         ],
         "yaxis": "y"
        },
        {
         "hoverinfo": "text",
         "marker": {
          "color": "rgb(35,205,205)"
         },
         "mode": "lines",
         "text": [
          "let_know_questions_any_please",
          "",
          "",
          "let_know_problems_me_if"
         ],
         "type": "scatter",
         "x": [
          0.5973979564361173,
          0.6630496476899024,
          0.6630496476899024,
          0.554275330045366
         ],
         "xaxis": "x",
         "y": [
          -114.0625,
          -114.0625,
          -170,
          -170
         ],
         "yaxis": "y"
        },
        {
         "hoverinfo": "text",
         "marker": {
          "color": "rgb(35,205,205)"
         },
         "mode": "lines",
         "text": [
          "concerns_or_let_know_questions",
          "",
          "",
          "let_know_me_any_if"
         ],
         "type": "scatter",
         "x": [
          0,
          0.6986882328066487,
          0.6986882328066487,
          0.6630496476899024
         ],
         "xaxis": "x",
         "y": [
          -85,
          -85,
          -142.03125,
          -142.03125
         ],
         "yaxis": "y"
        },
        {
         "hoverinfo": "text",
         "marker": {
          "color": "rgb(35,205,205)"
         },
         "mode": "lines",
         "text": [
          "process_let_know_me_understand",
          "",
          "",
          "review_questions_comments_let_revise"
         ],
         "type": "scatter",
         "x": [
          0,
          0.7586263703499075,
          0.7586263703499075,
          0
         ],
         "xaxis": "x",
         "y": [
          -195,
          -195,
          -205,
          -205
         ],
         "yaxis": "y"
        },
        {
         "hoverinfo": "text",
         "marker": {
          "color": "rgb(35,205,205)"
         },
         "mode": "lines",
         "text": [
          "anything_there_else_hesitate_let",
          "",
          "",
          "review_process_let_know_any"
         ],
         "type": "scatter",
         "x": [
          0,
          0.8492632567350067,
          0.8492632567350067,
          0.7586263703499075
         ],
         "xaxis": "x",
         "y": [
          -185,
          -185,
          -200,
          -200
         ],
         "yaxis": "y"
        },
        {
         "hoverinfo": "text",
         "marker": {
          "color": "rgb(35,205,205)"
         },
         "mode": "lines",
         "text": [
          "let_know_me_any_if",
          "",
          "",
          "review_process_let_know_anything"
         ],
         "type": "scatter",
         "x": [
          0.6986882328066487,
          0.9468664648704855,
          0.9468664648704855,
          0.8492632567350067
         ],
         "xaxis": "x",
         "y": [
          -113.515625,
          -113.515625,
          -192.5,
          -192.5
         ],
         "yaxis": "y"
        },
        {
         "hoverinfo": "text",
         "marker": {
          "color": "rgb(0,116,217)"
         },
         "mode": "lines",
         "text": [
          "contact_questions_call_hesitate_any",
          "",
          "",
          "let_know_me_any_if"
         ],
         "type": "scatter",
         "x": [
          1.2273486858856564,
          1.5132052891454741,
          1.5132052891454741,
          0.9468664648704855
         ],
         "xaxis": "x",
         "y": [
          -33.125,
          -33.125,
          -153.0078125,
          -153.0078125
         ],
         "yaxis": "y"
        },
        {
         "hoverinfo": "text",
         "marker": {
          "color": "rgb(133,20,75)"
         },
         "mode": "lines",
         "text": [
          "look_take_at_it_please",
          "",
          "",
          "look_take_at_person_thanks"
         ],
         "type": "scatter",
         "x": [
          0,
          0.22874382856019237,
          0.22874382856019237,
          0
         ],
         "xaxis": "x",
         "y": [
          -225,
          -225,
          -235,
          -235
         ],
         "yaxis": "y"
        },
        {
         "hoverinfo": "text",
         "marker": {
          "color": "rgb(133,20,75)"
         },
         "mode": "lines",
         "text": [
          "feedback_give_take_look_paddy",
          "",
          "",
          "look_take_at_please_can"
         ],
         "type": "scatter",
         "x": [
          0,
          0.7389695051922283,
          0.7389695051922283,
          0.22874382856019237
         ],
         "xaxis": "x",
         "y": [
          -215,
          -215,
          -230,
          -230
         ],
         "yaxis": "y"
        },
        {
         "hoverinfo": "text",
         "marker": {
          "color": "rgb(133,20,75)"
         },
         "mode": "lines",
         "text": [
          "changes_change_add_let_take",
          "",
          "",
          "items_document_summary_attached_take"
         ],
         "type": "scatter",
         "x": [
          0,
          0.7271928252897346,
          0.7271928252897346,
          0
         ],
         "xaxis": "x",
         "y": [
          -245,
          -245,
          -255,
          -255
         ],
         "yaxis": "y"
        },
        {
         "hoverinfo": "text",
         "marker": {
          "color": "rgb(133,20,75)"
         },
         "mode": "lines",
         "text": [
          "changes_items_change_take_look",
          "",
          "",
          "spreadsheet_excel_begin_attached_chtml"
         ],
         "type": "scatter",
         "x": [
          0.7271928252897346,
          0.7805928056446865,
          0.7805928056446865,
          0
         ],
         "xaxis": "x",
         "y": [
          -250,
          -250,
          -265,
          -265
         ],
         "yaxis": "y"
        },
        {
         "hoverinfo": "text",
         "marker": {
          "color": "rgb(133,20,75)"
         },
         "mode": "lines",
         "text": [
          "look_take_at_please_it",
          "",
          "",
          "changes_spreadsheet_look_take_items"
         ],
         "type": "scatter",
         "x": [
          0.7389695051922283,
          0.9007426392879228,
          0.9007426392879228,
          0.7805928056446865
         ],
         "xaxis": "x",
         "y": [
          -222.5,
          -222.5,
          -257.5,
          -257.5
         ],
         "yaxis": "y"
        },
        {
         "hoverinfo": "text",
         "marker": {
          "color": "rgb(255,220,0)"
         },
         "mode": "lines",
         "text": [
          "paytrust_ameritrade_account_paypal_billcenter",
          "",
          "",
          "password_ragingbull_altavista_shtml_login"
         ],
         "type": "scatter",
         "x": [
          0,
          0.8323332265870396,
          0.8323332265870396,
          0
         ],
         "xaxis": "x",
         "y": [
          -285,
          -285,
          -295,
          -295
         ],
         "yaxis": "y"
        },
        {
         "hoverinfo": "text",
         "marker": {
          "color": "rgb(255,220,0)"
         },
         "mode": "lines",
         "text": [
          "qi_quickinspirations_inspirations_quesitons_assist",
          "",
          "",
          "password_paytrust_account_login_ragingbull"
         ],
         "type": "scatter",
         "x": [
          0,
          0.9415522425387953,
          0.9415522425387953,
          0.8323332265870396
         ],
         "xaxis": "x",
         "y": [
          -275,
          -275,
          -290,
          -290
         ],
         "yaxis": "y"
        },
        {
         "hoverinfo": "text",
         "marker": {
          "color": "rgb(40,35,35)"
         },
         "mode": "lines",
         "text": [
          "privacy_policy_visit_policies_our",
          "",
          "",
          "unsubscribe_cahnersdirect_officemax_privacy_igo"
         ],
         "type": "scatter",
         "x": [
          0,
          0.7582688650694944,
          0.7582688650694944,
          0
         ],
         "xaxis": "x",
         "y": [
          -305,
          -305,
          -315,
          -315
         ],
         "yaxis": "y"
        },
        {
         "hoverinfo": "text",
         "marker": {
          "color": "rgb(40,35,35)"
         },
         "mode": "lines",
         "text": [
          "privacy_unsubscribe_policy_cahnersdirect_officemax",
          "",
          "",
          "fastcompany_fast_rsilverton_fasttake_webmaster"
         ],
         "type": "scatter",
         "x": [
          0.7582688650694944,
          0.9610043349537131,
          0.9610043349537131,
          0
         ],
         "xaxis": "x",
         "y": [
          -310,
          -310,
          -325,
          -325
         ],
         "yaxis": "y"
        },
        {
         "hoverinfo": "text",
         "marker": {
          "color": "rgb(0,116,217)"
         },
         "mode": "lines",
         "text": [
          "qi_password_account_quickinspirations_inspirations",
          "",
          "",
          "fastcompany_fast_privacy_unsubscribe_com"
         ],
         "type": "scatter",
         "x": [
          0.9415522425387953,
          1.0336984876002204,
          1.0336984876002204,
          0.9610043349537131
         ],
         "xaxis": "x",
         "y": [
          -282.5,
          -282.5,
          -317.5,
          -317.5
         ],
         "yaxis": "y"
        },
        {
         "hoverinfo": "text",
         "marker": {
          "color": "rgb(61,153,112)"
         },
         "mode": "lines",
         "text": [
          "emails_bouncing_verity_mail_email",
          "",
          "",
          "email_problems_mail_having_com"
         ],
         "type": "scatter",
         "x": [
          0,
          0.7012271308204623,
          0.7012271308204623,
          0
         ],
         "xaxis": "x",
         "y": [
          -335,
          -335,
          -345,
          -345
         ],
         "yaxis": "y"
        },
        {
         "hoverinfo": "text",
         "marker": {
          "color": "rgb(61,153,112)"
         },
         "mode": "lines",
         "text": [
          "email_mail_problems_having_emails",
          "",
          "",
          "original_message_sent_pm_subject"
         ],
         "type": "scatter",
         "x": [
          0.7012271308204623,
          0.9200036134376812,
          0.9200036134376812,
          0
         ],
         "xaxis": "x",
         "y": [
          -340,
          -340,
          -355,
          -355
         ],
         "yaxis": "y"
        },
        {
         "hoverinfo": "text",
         "marker": {
          "color": "rgb(0,116,217)"
         },
         "mode": "lines",
         "text": [
          "fastcompany_fast_privacy_unsubscribe_com",
          "",
          "",
          "email_mail_problems_having_emails"
         ],
         "type": "scatter",
         "x": [
          1.0336984876002204,
          1.0716785190775568,
          1.0716785190775568,
          0.9200036134376812
         ],
         "xaxis": "x",
         "y": [
          -300,
          -300,
          -347.5,
          -347.5
         ],
         "yaxis": "y"
        },
        {
         "hoverinfo": "text",
         "marker": {
          "color": "rgb(255,65,54)"
         },
         "mode": "lines",
         "text": [
          "bernsen_loewy_fragomen_whom_2002",
          "",
          "",
          "law_legal_hrhero_employers_attorneys"
         ],
         "type": "scatter",
         "x": [
          0,
          0.9176527126447391,
          0.9176527126447391,
          0
         ],
         "xaxis": "x",
         "y": [
          -365,
          -365,
          -375,
          -375
         ],
         "yaxis": "y"
        },
        {
         "hoverinfo": "text",
         "marker": {
          "color": "rgb(35,205,205)"
         },
         "mode": "lines",
         "text": [
          "desk_conference_professionals_center_support",
          "",
          "",
          "hotel_travel_finding_turn_rd"
         ],
         "type": "scatter",
         "x": [
          0,
          0.8734391734375306,
          0.8734391734375306,
          0
         ],
         "xaxis": "x",
         "y": [
          -385,
          -385,
          -395,
          -395
         ],
         "yaxis": "y"
        },
        {
         "hoverinfo": "text",
         "marker": {
          "color": "rgb(35,205,205)"
         },
         "mode": "lines",
         "text": [
          "hosting_ticket_referencing_eseminar_level",
          "",
          "",
          "event_5165_mlgoldenberg_events_343"
         ],
         "type": "scatter",
         "x": [
          0,
          0.8939903737186368,
          0.8939903737186368,
          0
         ],
         "xaxis": "x",
         "y": [
          -405,
          -405,
          -415,
          -415
         ],
         "yaxis": "y"
        },
        {
         "hoverinfo": "text",
         "marker": {
          "color": "rgb(35,205,205)"
         },
         "mode": "lines",
         "text": [
          "event_hosting_ticket_referencing_concerns",
          "",
          "",
          "channelwave_face_comdex_managers_marketing"
         ],
         "type": "scatter",
         "x": [
          0.8939903737186368,
          0.9506272861084824,
          0.9506272861084824,
          0
         ],
         "xaxis": "x",
         "y": [
          -410,
          -410,
          -425,
          -425
         ],
         "yaxis": "y"
        },
        {
         "hoverinfo": "text",
         "marker": {
          "color": "rgb(35,205,205)"
         },
         "mode": "lines",
         "text": [
          "desk_hotel_conference_professionals_center",
          "",
          "",
          "channelwave_face_comdex_event_managers"
         ],
         "type": "scatter",
         "x": [
          0.8734391734375306,
          0.9542768005007516,
          0.9542768005007516,
          0.9506272861084824
         ],
         "xaxis": "x",
         "y": [
          -390,
          -390,
          -417.5,
          -417.5
         ],
         "yaxis": "y"
        },
        {
         "hoverinfo": "text",
         "marker": {
          "color": "rgb(0,116,217)"
         },
         "mode": "lines",
         "text": [
          "bernsen_loewy_fragomen_legal_whom",
          "",
          "",
          "channelwave_desk_face_comdex_event"
         ],
         "type": "scatter",
         "x": [
          0.9176527126447391,
          1.0363148676118108,
          1.0363148676118108,
          0.9542768005007516
         ],
         "xaxis": "x",
         "y": [
          -370,
          -370,
          -403.75,
          -403.75
         ],
         "yaxis": "y"
        },
        {
         "hoverinfo": "text",
         "marker": {
          "color": "rgb(61,153,112)"
         },
         "mode": "lines",
         "text": [
          "debt_rates_credit_payments_lower",
          "",
          "",
          "fund_funds_donate_org_foundation"
         ],
         "type": "scatter",
         "x": [
          0,
          0.947478848344864,
          0.947478848344864,
          0
         ],
         "xaxis": "x",
         "y": [
          -445,
          -445,
          -455,
          -455
         ],
         "yaxis": "y"
        },
        {
         "hoverinfo": "text",
         "marker": {
          "color": "rgb(61,153,112)"
         },
         "mode": "lines",
         "text": [
          "mailbox_cleaning_771_833_currently",
          "",
          "",
          "debt_fund_rates_credit_funds"
         ],
         "type": "scatter",
         "x": [
          0,
          0.9693779830103868,
          0.9693779830103868,
          0.947478848344864
         ],
         "xaxis": "x",
         "y": [
          -435,
          -435,
          -450,
          -450
         ],
         "yaxis": "y"
        },
        {
         "hoverinfo": "text",
         "marker": {
          "color": "rgb(61,153,112)"
         },
         "mode": "lines",
         "text": [
          "baby_babycenter_le_1fc7nw_ce",
          "",
          "",
          "win2000mag_pressed_sponsored_stop_hard"
         ],
         "type": "scatter",
         "x": [
          0,
          0.9182304636281823,
          0.9182304636281823,
          0
         ],
         "xaxis": "x",
         "y": [
          -465,
          -465,
          -475,
          -475
         ],
         "yaxis": "y"
        },
        {
         "hoverinfo": "text",
         "marker": {
          "color": "rgb(61,153,112)"
         },
         "mode": "lines",
         "text": [
          "baby_babycenter_1fc7nw_le_click",
          "",
          "",
          "streaming_media_industry_berlin_spotlight"
         ],
         "type": "scatter",
         "x": [
          0.9182304636281823,
          0.9690261577665681,
          0.9690261577665681,
          0
         ],
         "xaxis": "x",
         "y": [
          -470,
          -470,
          -485,
          -485
         ],
         "yaxis": "y"
        },
        {
         "hoverinfo": "text",
         "marker": {
          "color": "rgb(61,153,112)"
         },
         "mode": "lines",
         "text": [
          "debt_fund_mailbox_cleaning_rates",
          "",
          "",
          "baby_streaming_media_babycenter_1fc7nw"
         ],
         "type": "scatter",
         "x": [
          0.9693779830103868,
          0.9880783742704842,
          0.9880783742704842,
          0.9690261577665681
         ],
         "xaxis": "x",
         "y": [
          -442.5,
          -442.5,
          -477.5,
          -477.5
         ],
         "yaxis": "y"
        },
        {
         "hoverinfo": "text",
         "marker": {
          "color": "rgb(61,153,112)"
         },
         "mode": "lines",
         "text": [
          "ipo_rebound_crash_market_broad",
          "",
          "",
          "finance_yahoo_newswire_home_gainers"
         ],
         "type": "scatter",
         "x": [
          0,
          0.9061793572907442,
          0.9061793572907442,
          0
         ],
         "xaxis": "x",
         "y": [
          -495,
          -495,
          -505,
          -505
         ],
         "yaxis": "y"
        },
        {
         "hoverinfo": "text",
         "marker": {
          "color": "rgb(61,153,112)"
         },
         "mode": "lines",
         "text": [
          "baby_streaming_media_babycenter_1fc7nw",
          "",
          "",
          "finance_ipo_market_yahoo_rebound"
         ],
         "type": "scatter",
         "x": [
          0.9880783742704842,
          0.9998280421947503,
          0.9998280421947503,
          0.9061793572907442
         ],
         "xaxis": "x",
         "y": [
          -460,
          -460,
          -500,
          -500
         ],
         "yaxis": "y"
        },
        {
         "hoverinfo": "text",
         "marker": {
          "color": "rgb(0,116,217)"
         },
         "mode": "lines",
         "text": [
          "channelwave_loewy_bernsen_fragomen_desk",
          "",
          "",
          "baby_streaming_media_click_babycenter"
         ],
         "type": "scatter",
         "x": [
          1.0363148676118108,
          1.056781182542243,
          1.056781182542243,
          0.9998280421947503
         ],
         "xaxis": "x",
         "y": [
          -386.875,
          -386.875,
          -480,
          -480
         ],
         "yaxis": "y"
        },
        {
         "hoverinfo": "text",
         "marker": {
          "color": "rgb(0,116,217)"
         },
         "mode": "lines",
         "text": [
          "email_com_fastcompany_fast_privacy",
          "",
          "",
          "channelwave_loewy_bernsen_baby_streaming"
         ],
         "type": "scatter",
         "x": [
          1.0716785190775568,
          1.1437879815790666,
          1.1437879815790666,
          1.056781182542243
         ],
         "xaxis": "x",
         "y": [
          -323.75,
          -323.75,
          -433.4375,
          -433.4375
         ],
         "yaxis": "y"
        },
        {
         "hoverinfo": "text",
         "marker": {
          "color": "rgb(255,65,54)"
         },
         "mode": "lines",
         "text": [
          "lot_helped_helps_yes_asthma",
          "",
          "",
          "lot_helps_tremendously_bit_rests"
         ],
         "type": "scatter",
         "x": [
          0,
          0.6293526340425228,
          0.6293526340425228,
          0
         ],
         "xaxis": "x",
         "y": [
          -515,
          -515,
          -525,
          -525
         ],
         "yaxis": "y"
        },
        {
         "hoverinfo": "text",
         "marker": {
          "color": "rgb(255,65,54)"
         },
         "mode": "lines",
         "text": [
          "lot_helps_helped_bit_tremendously",
          "",
          "",
          "hope_helps_this_muthu_jason"
         ],
         "type": "scatter",
         "x": [
          0.6293526340425228,
          0.8245365917428055,
          0.8245365917428055,
          0
         ],
         "xaxis": "x",
         "y": [
          -520,
          -520,
          -535,
          -535
         ],
         "yaxis": "y"
        },
        {
         "hoverinfo": "text",
         "marker": {
          "color": "rgb(0,116,217)"
         },
         "mode": "lines",
         "text": [
          "com_email_http_fast_fastcompany",
          "",
          "",
          "hope_helps_lot_this_helped"
         ],
         "type": "scatter",
         "x": [
          1.1437879815790666,
          1.3598759063833827,
          1.3598759063833827,
          0.8245365917428055
         ],
         "xaxis": "x",
         "y": [
          -378.59375,
          -378.59375,
          -527.5,
          -527.5
         ],
         "yaxis": "y"
        },
        {
         "hoverinfo": "text",
         "marker": {
          "color": "rgb(35,205,205)"
         },
         "mode": "lines",
         "text": [
          "yourself_kitchen_food_breakfast_foods",
          "",
          "",
          "yourself_yourselves_really_need_help"
         ],
         "type": "scatter",
         "x": [
          0,
          0.7014670186890115,
          0.7014670186890115,
          0
         ],
         "xaxis": "x",
         "y": [
          -545,
          -545,
          -555,
          -555
         ],
         "yaxis": "y"
        },
        {
         "hoverinfo": "text",
         "marker": {
          "color": "rgb(35,205,205)"
         },
         "mode": "lines",
         "text": [
          "yourself_kitchen_yourselves_food_breakfast",
          "",
          "",
          "list_searching_clue_well_yourself"
         ],
         "type": "scatter",
         "x": [
          0.7014670186890115,
          0.8947799610441316,
          0.8947799610441316,
          0
         ],
         "xaxis": "x",
         "y": [
          -550,
          -550,
          -565,
          -565
         ],
         "yaxis": "y"
        },
        {
         "hoverinfo": "text",
         "marker": {
          "color": "rgb(133,20,75)"
         },
         "mode": "lines",
         "text": [
          "doc_docs_health_ascend_blowing",
          "",
          "",
          "interests_improve_teaching_training_quality"
         ],
         "type": "scatter",
         "x": [
          0,
          0.8928628144316333,
          0.8928628144316333,
          0
         ],
         "xaxis": "x",
         "y": [
          -575,
          -575,
          -585,
          -585
         ],
         "yaxis": "y"
        },
        {
         "hoverinfo": "text",
         "marker": {
          "color": "rgb(133,20,75)"
         },
         "mode": "lines",
         "text": [
          "pair_programming_coding_compiler_code",
          "",
          "",
          "xp_inward_looking_selling_community"
         ],
         "type": "scatter",
         "x": [
          0,
          0.8834932466967285,
          0.8834932466967285,
          0
         ],
         "xaxis": "x",
         "y": [
          -595,
          -595,
          -605,
          -605
         ],
         "yaxis": "y"
        },
        {
         "hoverinfo": "text",
         "marker": {
          "color": "rgb(133,20,75)"
         },
         "mode": "lines",
         "text": [
          "docs_doc_interests_improve_teaching",
          "",
          "",
          "xp_pair_programming_coding_code"
         ],
         "type": "scatter",
         "x": [
          0.8928628144316333,
          0.9495384073601009,
          0.9495384073601009,
          0.8834932466967285
         ],
         "xaxis": "x",
         "y": [
          -580,
          -580,
          -600,
          -600
         ],
         "yaxis": "y"
        },
        {
         "hoverinfo": "text",
         "marker": {
          "color": "rgb(133,20,75)"
         },
         "mode": "lines",
         "text": [
          "happy_everything_want_others_fed",
          "",
          "",
          "them_others_we_they_helping"
         ],
         "type": "scatter",
         "x": [
          0,
          0.6181816074036673,
          0.6181816074036673,
          0
         ],
         "xaxis": "x",
         "y": [
          -615,
          -615,
          -625,
          -625
         ],
         "yaxis": "y"
        },
        {
         "hoverinfo": "text",
         "marker": {
          "color": "rgb(133,20,75)"
         },
         "mode": "lines",
         "text": [
          "person_helping_out_helped_was",
          "",
          "",
          "able_also_prep_odd_swamped"
         ],
         "type": "scatter",
         "x": [
          0,
          0.6751197556167229,
          0.6751197556167229,
          0
         ],
         "xaxis": "x",
         "y": [
          -635,
          -635,
          -645,
          -645
         ],
         "yaxis": "y"
        },
        {
         "hoverinfo": "text",
         "marker": {
          "color": "rgb(133,20,75)"
         },
         "mode": "lines",
         "text": [
          "them_others_we_helping_they",
          "",
          "",
          "person_helping_out_help_helped"
         ],
         "type": "scatter",
         "x": [
          0.6181816074036673,
          0.8211983553051113,
          0.8211983553051113,
          0.6751197556167229
         ],
         "xaxis": "x",
         "y": [
          -620,
          -620,
          -640,
          -640
         ],
         "yaxis": "y"
        },
        {
         "hoverinfo": "text",
         "marker": {
          "color": "rgb(133,20,75)"
         },
         "mode": "lines",
         "text": [
          "xp_pair_programming_coding_code",
          "",
          "",
          "helping_them_others_out_we"
         ],
         "type": "scatter",
         "x": [
          0.9495384073601009,
          0.9665147277683858,
          0.9665147277683858,
          0.8211983553051113
         ],
         "xaxis": "x",
         "y": [
          -590,
          -590,
          -630,
          -630
         ],
         "yaxis": "y"
        },
        {
         "hoverinfo": "text",
         "marker": {
          "color": "rgb(133,20,75)"
         },
         "mode": "lines",
         "text": [
          "problem_do_problems_admitting_uts",
          "",
          "",
          "do_tamra_need_still_filled"
         ],
         "type": "scatter",
         "x": [
          0,
          0.76244588900237,
          0.76244588900237,
          0
         ],
         "xaxis": "x",
         "y": [
          -655,
          -655,
          -665,
          -665
         ],
         "yaxis": "y"
        },
        {
         "hoverinfo": "text",
         "marker": {
          "color": "rgb(133,20,75)"
         },
         "mode": "lines",
         "text": [
          "xp_pair_helping_them_it",
          "",
          "",
          "do_problem_problems_admitting_uts"
         ],
         "type": "scatter",
         "x": [
          0.9665147277683858,
          0.9915758652689471,
          0.9915758652689471,
          0.76244588900237
         ],
         "xaxis": "x",
         "y": [
          -610,
          -610,
          -660,
          -660
         ],
         "yaxis": "y"
        },
        {
         "hoverinfo": "text",
         "marker": {
          "color": "rgb(255,220,0)"
         },
         "mode": "lines",
         "text": [
          "problem_fix_look_issue_take",
          "",
          "",
          "bug_bugs_person_problem_virus"
         ],
         "type": "scatter",
         "x": [
          0,
          0.6040682889219383,
          0.6040682889219383,
          0
         ],
         "xaxis": "x",
         "y": [
          -675,
          -675,
          -685,
          -685
         ],
         "yaxis": "y"
        },
        {
         "hoverinfo": "text",
         "marker": {
          "color": "rgb(255,220,0)"
         },
         "mode": "lines",
         "text": [
          "problem_fix_bug_issue_it",
          "",
          "",
          "bugzilla_bugs_bug_show_bug_id"
         ],
         "type": "scatter",
         "x": [
          0.6040682889219383,
          0.7445918198476329,
          0.7445918198476329,
          0
         ],
         "xaxis": "x",
         "y": [
          -680,
          -680,
          -695,
          -695
         ],
         "yaxis": "y"
        },
        {
         "hoverinfo": "text",
         "marker": {
          "color": "rgb(0,116,217)"
         },
         "mode": "lines",
         "text": [
          "xp_do_pair_problem_helping",
          "",
          "",
          "bugzilla_bug_bugs_problem_show_bug"
         ],
         "type": "scatter",
         "x": [
          0.9915758652689471,
          1.0820544402857792,
          1.0820544402857792,
          0.7445918198476329
         ],
         "xaxis": "x",
         "y": [
          -635,
          -635,
          -687.5,
          -687.5
         ],
         "yaxis": "y"
        },
        {
         "hoverinfo": "text",
         "marker": {
          "color": "rgb(0,116,217)"
         },
         "mode": "lines",
         "text": [
          "yourself_list_kitchen_yourselves_food",
          "",
          "",
          "xp_problem_bugzilla_bug_do"
         ],
         "type": "scatter",
         "x": [
          0.8947799610441316,
          1.1677606120899473,
          1.1677606120899473,
          1.0820544402857792
         ],
         "xaxis": "x",
         "y": [
          -557.5,
          -557.5,
          -661.25,
          -661.25
         ],
         "yaxis": "y"
        },
        {
         "hoverinfo": "text",
         "marker": {
          "color": "rgb(40,35,35)"
         },
         "mode": "lines",
         "text": [
          "her_she_helping_needs_sensations",
          "",
          "",
          "man_she_her_he_beggar"
         ],
         "type": "scatter",
         "x": [
          0,
          0.6200108304060856,
          0.6200108304060856,
          0
         ],
         "xaxis": "x",
         "y": [
          -705,
          -705,
          -715,
          -715
         ],
         "yaxis": "y"
        },
        {
         "hoverinfo": "text",
         "marker": {
          "color": "rgb(61,153,112)"
         },
         "mode": "lines",
         "text": [
          "him_he_his_would_help",
          "",
          "",
          "him_his_6963_firstbrook_8124"
         ],
         "type": "scatter",
         "x": [
          0,
          0.5685794972229066,
          0.5685794972229066,
          0
         ],
         "xaxis": "x",
         "y": [
          -735,
          -735,
          -745,
          -745
         ],
         "yaxis": "y"
        },
        {
         "hoverinfo": "text",
         "marker": {
          "color": "rgb(61,153,112)"
         },
         "mode": "lines",
         "text": [
          "he_resume_job_his_has",
          "",
          "",
          "him_he_his_would_help"
         ],
         "type": "scatter",
         "x": [
          0,
          0.7357086674327139,
          0.7357086674327139,
          0.5685794972229066
         ],
         "xaxis": "x",
         "y": [
          -725,
          -725,
          -740,
          -740
         ],
         "yaxis": "y"
        },
        {
         "hoverinfo": "text",
         "marker": {
          "color": "rgb(0,116,217)"
         },
         "mode": "lines",
         "text": [
          "her_she_man_he_helping",
          "",
          "",
          "he_him_his_would_help"
         ],
         "type": "scatter",
         "x": [
          0.6200108304060856,
          1.0598424715197334,
          1.0598424715197334,
          0.7357086674327139
         ],
         "xaxis": "x",
         "y": [
          -710,
          -710,
          -732.5,
          -732.5
         ],
         "yaxis": "y"
        },
        {
         "hoverinfo": "text",
         "marker": {
          "color": "rgb(0,116,217)"
         },
         "mode": "lines",
         "text": [
          "xp_problem_bugzilla_do_bug",
          "",
          "",
          "he_her_him_she_his"
         ],
         "type": "scatter",
         "x": [
          1.1677606120899473,
          1.245695947585027,
          1.245695947585027,
          1.0598424715197334
         ],
         "xaxis": "x",
         "y": [
          -609.375,
          -609.375,
          -721.25,
          -721.25
         ],
         "yaxis": "y"
        },
        {
         "hoverinfo": "text",
         "marker": {
          "color": "rgb(255,65,54)"
         },
         "mode": "lines",
         "text": [
          "build_cm_01_wilhan_problems",
          "",
          "",
          "cr_branch_between_release_ac"
         ],
         "type": "scatter",
         "x": [
          0,
          0.825017575673044,
          0.825017575673044,
          0
         ],
         "xaxis": "x",
         "y": [
          -765,
          -765,
          -775,
          -775
         ],
         "yaxis": "y"
        },
        {
         "hoverinfo": "text",
         "marker": {
          "color": "rgb(255,65,54)"
         },
         "mode": "lines",
         "text": [
          "epservlet_opt_servlet_ini_testsrvr5",
          "",
          "",
          "build_cm_01_wilhan_problems"
         ],
         "type": "scatter",
         "x": [
          0,
          0.9105555127130809,
          0.9105555127130809,
          0.825017575673044
         ],
         "xaxis": "x",
         "y": [
          -755,
          -755,
          -770,
          -770
         ],
         "yaxis": "y"
        },
        {
         "hoverinfo": "text",
         "marker": {
          "color": "rgb(35,205,205)"
         },
         "mode": "lines",
         "text": [
          "eai_gate_ac_alpha_ep",
          "",
          "",
          "dependencies_planned_tasks_external_status"
         ],
         "type": "scatter",
         "x": [
          0,
          0.8859861087863616,
          0.8859861087863616,
          0
         ],
         "xaxis": "x",
         "y": [
          -785,
          -785,
          -795,
          -795
         ],
         "yaxis": "y"
        },
        {
         "hoverinfo": "text",
         "marker": {
          "color": "rgb(35,205,205)"
         },
         "mode": "lines",
         "text": [
          "test_testing_tests_qa_refactoring",
          "",
          "",
          "japanese_miyuki_i18n_installer_internationalization"
         ],
         "type": "scatter",
         "x": [
          0,
          0.7903038838057493,
          0.7903038838057493,
          0
         ],
         "xaxis": "x",
         "y": [
          -815,
          -815,
          -825,
          -825
         ],
         "yaxis": "y"
        },
        {
         "hoverinfo": "text",
         "marker": {
          "color": "rgb(35,205,205)"
         },
         "mode": "lines",
         "text": [
          "oca_sp2_osa_upload_download",
          "",
          "",
          "test_testing_tests_qa_japanese"
         ],
         "type": "scatter",
         "x": [
          0,
          0.8391791808122039,
          0.8391791808122039,
          0.7903038838057493
         ],
         "xaxis": "x",
         "y": [
          -805,
          -805,
          -820,
          -820
         ],
         "yaxis": "y"
        },
        {
         "hoverinfo": "text",
         "marker": {
          "color": "rgb(35,205,205)"
         },
         "mode": "lines",
         "text": [
          "test_testing_tests_qa_oca",
          "",
          "",
          "xml_xsl_merged_agent_5ga"
         ],
         "type": "scatter",
         "x": [
          0.8391791808122039,
          0.8643478617474568,
          0.8643478617474568,
          0
         ],
         "xaxis": "x",
         "y": [
          -812.5,
          -812.5,
          -835,
          -835
         ],
         "yaxis": "y"
        },
        {
         "hoverinfo": "text",
         "marker": {
          "color": "rgb(35,205,205)"
         },
         "mode": "lines",
         "text": [
          "dependencies_planned_tasks_external_status",
          "",
          "",
          "test_testing_xml_tests_qa"
         ],
         "type": "scatter",
         "x": [
          0.8859861087863616,
          0.9749639879622843,
          0.9749639879622843,
          0.8643478617474568
         ],
         "xaxis": "x",
         "y": [
          -790,
          -790,
          -823.75,
          -823.75
         ],
         "yaxis": "y"
        },
        {
         "hoverinfo": "text",
         "marker": {
          "color": "rgb(0,116,217)"
         },
         "mode": "lines",
         "text": [
          "build_cm_01_epservlet_wilhan",
          "",
          "",
          "test_testing_xml_tests_qa"
         ],
         "type": "scatter",
         "x": [
          0.9105555127130809,
          1.0267921430937004,
          1.0267921430937004,
          0.9749639879622843
         ],
         "xaxis": "x",
         "y": [
          -762.5,
          -762.5,
          -806.875,
          -806.875
         ],
         "yaxis": "y"
        },
        {
         "hoverinfo": "text",
         "marker": {
          "color": "rgb(61,153,112)"
         },
         "mode": "lines",
         "text": [
          "ritesh_cybersure_2520_godoc_branches",
          "",
          "",
          "roopak_vivek_seen_prasad_he"
         ],
         "type": "scatter",
         "x": [
          0,
          0.9263415417521887,
          0.9263415417521887,
          0
         ],
         "xaxis": "x",
         "y": [
          -845,
          -845,
          -855,
          -855
         ],
         "yaxis": "y"
        },
        {
         "hoverinfo": "text",
         "marker": {
          "color": "rgb(255,65,54)"
         },
         "mode": "lines",
         "text": [
          "trade_tackle_long_provided_header",
          "",
          "",
          "alerts_alert_de_xrm_gerencia"
         ],
         "type": "scatter",
         "x": [
          0,
          0.8711575653419796,
          0.8711575653419796,
          0
         ],
         "xaxis": "x",
         "y": [
          -875,
          -875,
          -885,
          -885
         ],
         "yaxis": "y"
        },
        {
         "hoverinfo": "text",
         "marker": {
          "color": "rgb(255,65,54)"
         },
         "mode": "lines",
         "text": [
          "arun_rajeev_components_able_etrade",
          "",
          "",
          "trade_alerts_alert_de_tackle"
         ],
         "type": "scatter",
         "x": [
          0,
          0.9326143444773844,
          0.9326143444773844,
          0.8711575653419796
         ],
         "xaxis": "x",
         "y": [
          -865,
          -865,
          -880,
          -880
         ],
         "yaxis": "y"
        },
        {
         "hoverinfo": "text",
         "marker": {
          "color": "rgb(255,65,54)"
         },
         "mode": "lines",
         "text": [
          "demo_demos_pemex_we_nyse",
          "",
          "",
          "ae_aes_can_bandwidth_someone"
         ],
         "type": "scatter",
         "x": [
          0,
          0.8121621290148416,
          0.8121621290148416,
          0
         ],
         "xaxis": "x",
         "y": [
          -895,
          -895,
          -905,
          -905
         ],
         "yaxis": "y"
        },
        {
         "hoverinfo": "text",
         "marker": {
          "color": "rgb(255,65,54)"
         },
         "mode": "lines",
         "text": [
          "idc_ide_estimates_role_said",
          "",
          "",
          "culture_job_project_millionaires_1284"
         ],
         "type": "scatter",
         "x": [
          0,
          0.849936950223076,
          0.849936950223076,
          0
         ],
         "xaxis": "x",
         "y": [
          -915,
          -915,
          -925,
          -925
         ],
         "yaxis": "y"
        },
        {
         "hoverinfo": "text",
         "marker": {
          "color": "rgb(255,65,54)"
         },
         "mode": "lines",
         "text": [
          "demo_ae_aes_demos_we",
          "",
          "",
          "idc_technical_culture_job_project"
         ],
         "type": "scatter",
         "x": [
          0.8121621290148416,
          0.9194320224237297,
          0.9194320224237297,
          0.849936950223076
         ],
         "xaxis": "x",
         "y": [
          -900,
          -900,
          -920,
          -920
         ],
         "yaxis": "y"
        },
        {
         "hoverinfo": "text",
         "marker": {
          "color": "rgb(255,65,54)"
         },
         "mode": "lines",
         "text": [
          "arun_trade_alerts_alert_rajeev",
          "",
          "",
          "demo_ae_idc_aes_demos"
         ],
         "type": "scatter",
         "x": [
          0.9326143444773844,
          0.9569669782372593,
          0.9569669782372593,
          0.9194320224237297
         ],
         "xaxis": "x",
         "y": [
          -872.5,
          -872.5,
          -910,
          -910
         ],
         "yaxis": "y"
        },
        {
         "hoverinfo": "text",
         "marker": {
          "color": "rgb(255,65,54)"
         },
         "mode": "lines",
         "text": [
          "srik_sriram_srikant_qa_bug",
          "",
          "",
          "prakash_reviewers_official_appreciated_required"
         ],
         "type": "scatter",
         "x": [
          0,
          0.8983475531319473,
          0.8983475531319473,
          0
         ],
         "xaxis": "x",
         "y": [
          -935,
          -935,
          -945,
          -945
         ],
         "yaxis": "y"
        },
        {
         "hoverinfo": "text",
         "marker": {
          "color": "rgb(255,65,54)"
         },
         "mode": "lines",
         "text": [
          "ae_demo_arun_idc_trade",
          "",
          "",
          "prakash_srik_official_reviewers_appreciated"
         ],
         "type": "scatter",
         "x": [
          0.9569669782372593,
          0.9764131124617901,
          0.9764131124617901,
          0.8983475531319473
         ],
         "xaxis": "x",
         "y": [
          -891.25,
          -891.25,
          -940,
          -940
         ],
         "yaxis": "y"
        },
        {
         "hoverinfo": "text",
         "marker": {
          "color": "rgb(0,116,217)"
         },
         "mode": "lines",
         "text": [
          "roopak_ritesh_cybersure_take_vivek",
          "",
          "",
          "demo_ae_arun_idc_prakash"
         ],
         "type": "scatter",
         "x": [
          0.9263415417521887,
          1.0318279555983711,
          1.0318279555983711,
          0.9764131124617901
         ],
         "xaxis": "x",
         "y": [
          -850,
          -850,
          -915.625,
          -915.625
         ],
         "yaxis": "y"
        },
        {
         "hoverinfo": "text",
         "marker": {
          "color": "rgb(35,205,205)"
         },
         "mode": "lines",
         "text": [
          "survey_736_202_wow_conducting",
          "",
          "",
          "form_submission_fill_input_link1"
         ],
         "type": "scatter",
         "x": [
          0,
          0.9122130427049249,
          0.9122130427049249,
          0
         ],
         "xaxis": "x",
         "y": [
          -955,
          -955,
          -965,
          -965
         ],
         "yaxis": "y"
        },
        {
         "hoverinfo": "text",
         "marker": {
          "color": "rgb(35,205,205)"
         },
         "mode": "lines",
         "text": [
          "contract_nda_contracts_section_alliances",
          "",
          "",
          "expense_department_accounting_billing_payments"
         ],
         "type": "scatter",
         "x": [
          0,
          0.849189895696614,
          0.849189895696614,
          0
         ],
         "xaxis": "x",
         "y": [
          -975,
          -975,
          -985,
          -985
         ],
         "yaxis": "y"
        },
        {
         "hoverinfo": "text",
         "marker": {
          "color": "rgb(35,205,205)"
         },
         "mode": "lines",
         "text": [
          "contract_nda_contracts_expense_section",
          "",
          "",
          "proposal_xx_portions_plan_schedules"
         ],
         "type": "scatter",
         "x": [
          0.849189895696614,
          0.9253488634456273,
          0.9253488634456273,
          0
         ],
         "xaxis": "x",
         "y": [
          -980,
          -980,
          -995,
          -995
         ],
         "yaxis": "y"
        },
        {
         "hoverinfo": "text",
         "marker": {
          "color": "rgb(35,205,205)"
         },
         "mode": "lines",
         "text": [
          "survey_form_submission_736_fill",
          "",
          "",
          "proposal_contract_xx_nda_contracts"
         ],
         "type": "scatter",
         "x": [
          0.9122130427049249,
          0.9630827130934074,
          0.9630827130934074,
          0.9253488634456273
         ],
         "xaxis": "x",
         "y": [
          -960,
          -960,
          -987.5,
          -987.5
         ],
         "yaxis": "y"
        },
        {
         "hoverinfo": "text",
         "marker": {
          "color": "rgb(133,20,75)"
         },
         "mode": "lines",
         "text": [
          "oracle_openitx_webmethods_8900_hung",
          "",
          "",
          "siebel_client_select_qatest01_run"
         ],
         "type": "scatter",
         "x": [
          0,
          0.8840283058321706,
          0.8840283058321706,
          0
         ],
         "xaxis": "x",
         "y": [
          -1005,
          -1005,
          -1015,
          -1015
         ],
         "yaxis": "y"
        },
        {
         "hoverinfo": "text",
         "marker": {
          "color": "rgb(133,20,75)"
         },
         "mode": "lines",
         "text": [
          "installing_installation_realone_install_machine",
          "",
          "",
          "operations_deployment_maintenance_entitles_disco"
         ],
         "type": "scatter",
         "x": [
          0,
          0.8994621488360689,
          0.8994621488360689,
          0
         ],
         "xaxis": "x",
         "y": [
          -1025,
          -1025,
          -1035,
          -1035
         ],
         "yaxis": "y"
        },
        {
         "hoverinfo": "text",
         "marker": {
          "color": "rgb(133,20,75)"
         },
         "mode": "lines",
         "text": [
          "oracle_siebel_openitx_select_server",
          "",
          "",
          "installing_configuring_installation_realone_install"
         ],
         "type": "scatter",
         "x": [
          0.8840283058321706,
          0.966192797369742,
          0.966192797369742,
          0.8994621488360689
         ],
         "xaxis": "x",
         "y": [
          -1010,
          -1010,
          -1030,
          -1030
         ],
         "yaxis": "y"
        },
        {
         "hoverinfo": "text",
         "marker": {
          "color": "rgb(133,20,75)"
         },
         "mode": "lines",
         "text": [
          "webex_meeting_4602_functionality_setup",
          "",
          "",
          "setting_up_set_need_paths"
         ],
         "type": "scatter",
         "x": [
          0,
          0.8551318974862478,
          0.8551318974862478,
          0
         ],
         "xaxis": "x",
         "y": [
          -1045,
          -1045,
          -1055,
          -1055
         ],
         "yaxis": "y"
        },
        {
         "hoverinfo": "text",
         "marker": {
          "color": "rgb(133,20,75)"
         },
         "mode": "lines",
         "text": [
          "webex_setting_meeting_up_4602",
          "",
          "",
          "germana_delegated_nt_facilities_cd"
         ],
         "type": "scatter",
         "x": [
          0.8551318974862478,
          0.9267049286275824,
          0.9267049286275824,
          0
         ],
         "xaxis": "x",
         "y": [
          -1050,
          -1050,
          -1065,
          -1065
         ],
         "yaxis": "y"
        },
        {
         "hoverinfo": "text",
         "marker": {
          "color": "rgb(133,20,75)"
         },
         "mode": "lines",
         "text": [
          "oracle_siebel_openitx_installing_select",
          "",
          "",
          "webex_germana_setting_up_meeting"
         ],
         "type": "scatter",
         "x": [
          0.966192797369742,
          0.9946563552952081,
          0.9946563552952081,
          0.9267049286275824
         ],
         "xaxis": "x",
         "y": [
          -1020,
          -1020,
          -1057.5,
          -1057.5
         ],
         "yaxis": "y"
        },
        {
         "hoverinfo": "text",
         "marker": {
          "color": "rgb(0,116,217)"
         },
         "mode": "lines",
         "text": [
          "survey_form_proposal_contract_xx",
          "",
          "",
          "oracle_webex_germana_siebel_setting"
         ],
         "type": "scatter",
         "x": [
          0.9630827130934074,
          1.0166020896820627,
          1.0166020896820627,
          0.9946563552952081
         ],
         "xaxis": "x",
         "y": [
          -973.75,
          -973.75,
          -1038.75,
          -1038.75
         ],
         "yaxis": "y"
        },
        {
         "hoverinfo": "text",
         "marker": {
          "color": "rgb(255,220,0)"
         },
         "mode": "lines",
         "text": [
          "tools_layout_tool_noticeable_autonomy",
          "",
          "",
          "emas_emap_rdbms_tracking_routines"
         ],
         "type": "scatter",
         "x": [
          0,
          0.8984990648861971,
          0.8984990648861971,
          0
         ],
         "xaxis": "x",
         "y": [
          -1075,
          -1075,
          -1085,
          -1085
         ],
         "yaxis": "y"
        },
        {
         "hoverinfo": "text",
         "marker": {
          "color": "rgb(255,220,0)"
         },
         "mode": "lines",
         "text": [
          "menu_cmds3_contexts_drag_default",
          "",
          "",
          "sprint_pcs_cafe_web_their"
         ],
         "type": "scatter",
         "x": [
          0,
          0.9633948703942263,
          0.9633948703942263,
          0
         ],
         "xaxis": "x",
         "y": [
          -1095,
          -1095,
          -1105,
          -1105
         ],
         "yaxis": "y"
        },
        {
         "hoverinfo": "text",
         "marker": {
          "color": "rgb(255,220,0)"
         },
         "mode": "lines",
         "text": [
          "emas_tools_emap_rdbms_say",
          "",
          "",
          "sprint_menu_cmds3_contexts_pcs"
         ],
         "type": "scatter",
         "x": [
          0.8984990648861971,
          0.982586699263816,
          0.982586699263816,
          0.9633948703942263
         ],
         "xaxis": "x",
         "y": [
          -1080,
          -1080,
          -1100,
          -1100
         ],
         "yaxis": "y"
        },
        {
         "hoverinfo": "text",
         "marker": {
          "color": "rgb(0,116,217)"
         },
         "mode": "lines",
         "text": [
          "oracle_webex_survey_siebel_germana",
          "",
          "",
          "sprint_menu_contexts_cmds3_emas"
         ],
         "type": "scatter",
         "x": [
          1.0166020896820627,
          1.0353586737752758,
          1.0353586737752758,
          0.982586699263816
         ],
         "xaxis": "x",
         "y": [
          -1006.25,
          -1006.25,
          -1090,
          -1090
         ],
         "yaxis": "y"
        },
        {
         "hoverinfo": "text",
         "marker": {
          "color": "rgb(40,35,35)"
         },
         "mode": "lines",
         "text": [
          "accessing_aesrvr1_folder_access_file",
          "",
          "",
          "scoping_template_mortgage_leasing_application"
         ],
         "type": "scatter",
         "x": [
          0,
          0.834598966422778,
          0.834598966422778,
          0
         ],
         "xaxis": "x",
         "y": [
          -1125,
          -1125,
          -1135,
          -1135
         ],
         "yaxis": "y"
        },
        {
         "hoverinfo": "text",
         "marker": {
          "color": "rgb(40,35,35)"
         },
         "mode": "lines",
         "text": [
          "error_500_errors_wlserver6_bea",
          "",
          "",
          "scoping_accessing_aesrvr1_folder_access"
         ],
         "type": "scatter",
         "x": [
          0,
          0.9468330751095895,
          0.9468330751095895,
          0.834598966422778
         ],
         "xaxis": "x",
         "y": [
          -1115,
          -1115,
          -1130,
          -1130
         ],
         "yaxis": "y"
        },
        {
         "hoverinfo": "text",
         "marker": {
          "color": "rgb(61,153,112)"
         },
         "mode": "lines",
         "text": [
          "specs_database_device_allnetdevices_improved",
          "",
          "",
          "palm_emulator_fine_pocketpc_device"
         ],
         "type": "scatter",
         "x": [
          0,
          0.8580326182257635,
          0.8580326182257635,
          0
         ],
         "xaxis": "x",
         "y": [
          -1145,
          -1145,
          -1155,
          -1155
         ],
         "yaxis": "y"
        },
        {
         "hoverinfo": "text",
         "marker": {
          "color": "rgb(61,153,112)"
         },
         "mode": "lines",
         "text": [
          "vss_files_aml_same_look",
          "",
          "",
          "shailesh_shakhar_testting_his_take"
         ],
         "type": "scatter",
         "x": [
          0,
          0.9080868739268078,
          0.9080868739268078,
          0
         ],
         "xaxis": "x",
         "y": [
          -1165,
          -1165,
          -1175,
          -1175
         ],
         "yaxis": "y"
        },
        {
         "hoverinfo": "text",
         "marker": {
          "color": "rgb(61,153,112)"
         },
         "mode": "lines",
         "text": [
          "specs_device_database_palm_allnetdevices",
          "",
          "",
          "vss_shailesh_files_look_take"
         ],
         "type": "scatter",
         "x": [
          0.8580326182257635,
          0.9969311101490886,
          0.9969311101490886,
          0.9080868739268078
         ],
         "xaxis": "x",
         "y": [
          -1150,
          -1150,
          -1170,
          -1170
         ],
         "yaxis": "y"
        },
        {
         "hoverinfo": "text",
         "marker": {
          "color": "rgb(0,116,217)"
         },
         "mode": "lines",
         "text": [
          "scoping_error_500_accessing_errors",
          "",
          "",
          "specs_device_database_palm_allnetdevices"
         ],
         "type": "scatter",
         "x": [
          0.9468330751095895,
          1.0163633622039563,
          1.0163633622039563,
          0.9969311101490886
         ],
         "xaxis": "x",
         "y": [
          -1122.5,
          -1122.5,
          -1160,
          -1160
         ],
         "yaxis": "y"
        },
        {
         "hoverinfo": "text",
         "marker": {
          "color": "rgb(0,116,217)"
         },
         "mode": "lines",
         "text": [
          "oracle_webex_survey_siebel_germana",
          "",
          "",
          "specs_device_database_palm_allnetdevices"
         ],
         "type": "scatter",
         "x": [
          1.0353586737752758,
          1.0528019706214486,
          1.0528019706214486,
          1.0163633622039563
         ],
         "xaxis": "x",
         "y": [
          -1048.125,
          -1048.125,
          -1141.25,
          -1141.25
         ],
         "yaxis": "y"
        },
        {
         "hoverinfo": "text",
         "marker": {
          "color": "rgb(0,116,217)"
         },
         "mode": "lines",
         "text": [
          "demo_ae_arun_idc_roopak",
          "",
          "",
          "specs_device_database_palm_allnetdevices"
         ],
         "type": "scatter",
         "x": [
          1.0318279555983711,
          1.0638779523742758,
          1.0638779523742758,
          1.0528019706214486
         ],
         "xaxis": "x",
         "y": [
          -882.8125,
          -882.8125,
          -1094.6875,
          -1094.6875
         ],
         "yaxis": "y"
        },
        {
         "hoverinfo": "text",
         "marker": {
          "color": "rgb(0,116,217)"
         },
         "mode": "lines",
         "text": [
          "build_test_cm_testing_xml",
          "",
          "",
          "specs_device_database_palm_allnetdevices"
         ],
         "type": "scatter",
         "x": [
          1.0267921430937004,
          1.1730920397760856,
          1.1730920397760856,
          1.0638779523742758
         ],
         "xaxis": "x",
         "y": [
          -784.6875,
          -784.6875,
          -988.75,
          -988.75
         ],
         "yaxis": "y"
        },
        {
         "hoverinfo": "text",
         "marker": {
          "color": "rgb(255,65,54)"
         },
         "mode": "lines",
         "text": [
          "accenture_seebeyond_petro_lady_rfp",
          "",
          "",
          "rfp_rfi_rfps_delta_11"
         ],
         "type": "scatter",
         "x": [
          0,
          0.8304164356711765,
          0.8304164356711765,
          0
         ],
         "xaxis": "x",
         "y": [
          -1185,
          -1185,
          -1195,
          -1195
         ],
         "yaxis": "y"
        },
        {
         "hoverinfo": "text",
         "marker": {
          "color": "rgb(255,65,54)"
         },
         "mode": "lines",
         "text": [
          "accenture_rfp_seebeyond_petro_they",
          "",
          "",
          "sun_solaris_iplanet_registration_bringing"
         ],
         "type": "scatter",
         "x": [
          0.8304164356711765,
          0.8600281372555897,
          0.8600281372555897,
          0
         ],
         "xaxis": "x",
         "y": [
          -1190,
          -1190,
          -1205,
          -1205
         ],
         "yaxis": "y"
        },
        {
         "hoverinfo": "text",
         "marker": {
          "color": "rgb(255,65,54)"
         },
         "mode": "lines",
         "text": [
          "netscape_page_browser_ftp_frames",
          "",
          "",
          "jsp_java_tomcat_interest_sun"
         ],
         "type": "scatter",
         "x": [
          0,
          0.7481218973582936,
          0.7481218973582936,
          0
         ],
         "xaxis": "x",
         "y": [
          -1225,
          -1225,
          -1235,
          -1235
         ],
         "yaxis": "y"
        },
        {
         "hoverinfo": "text",
         "marker": {
          "color": "rgb(255,65,54)"
         },
         "mode": "lines",
         "text": [
          "site_macromedia_web_pages_ultradev",
          "",
          "",
          "jsp_java_page_tomcat_interest"
         ],
         "type": "scatter",
         "x": [
          0,
          0.7981854276927307,
          0.7981854276927307,
          0.7481218973582936
         ],
         "xaxis": "x",
         "y": [
          -1215,
          -1215,
          -1230,
          -1230
         ],
         "yaxis": "y"
        },
        {
         "hoverinfo": "text",
         "marker": {
          "color": "rgb(255,65,54)"
         },
         "mode": "lines",
         "text": [
          "leadership_library_subscriber_colleagues_your",
          "",
          "",
          "slides_presentation_slide_presenters_deck"
         ],
         "type": "scatter",
         "x": [
          0,
          0.8606575101057693,
          0.8606575101057693,
          0
         ],
         "xaxis": "x",
         "y": [
          -1255,
          -1255,
          -1265,
          -1265
         ],
         "yaxis": "y"
        },
        {
         "hoverinfo": "text",
         "marker": {
          "color": "rgb(255,65,54)"
         },
         "mode": "lines",
         "text": [
          "99_fork_price_priceline_spoon",
          "",
          "",
          "slides_presentation_slide_presenters_deck"
         ],
         "type": "scatter",
         "x": [
          0,
          0.8943948950316524,
          0.8943948950316524,
          0.8606575101057693
         ],
         "xaxis": "x",
         "y": [
          -1245,
          -1245,
          -1260,
          -1260
         ],
         "yaxis": "y"
        },
        {
         "hoverinfo": "text",
         "marker": {
          "color": "rgb(255,65,54)"
         },
         "mode": "lines",
         "text": [
          "location_in_to_help_we",
          "",
          "",
          "wireless_mobile_applications_of_devices"
         ],
         "type": "scatter",
         "x": [
          0,
          0.6111686971817575,
          0.6111686971817575,
          0
         ],
         "xaxis": "x",
         "y": [
          -1295,
          -1295,
          -1305,
          -1305
         ],
         "yaxis": "y"
        },
        {
         "hoverinfo": "text",
         "marker": {
          "color": "rgb(255,65,54)"
         },
         "mode": "lines",
         "text": [
          "documentation_development_technical_it_help",
          "",
          "",
          "wireless_location_mobile_in_to"
         ],
         "type": "scatter",
         "x": [
          0,
          0.662692489811613,
          0.662692489811613,
          0.6111686971817575
         ],
         "xaxis": "x",
         "y": [
          -1285,
          -1285,
          -1300,
          -1300
         ],
         "yaxis": "y"
        },
        {
         "hoverinfo": "text",
         "marker": {
          "color": "rgb(255,65,54)"
         },
         "mode": "lines",
         "text": [
          "wireless_location_mobile_in_to",
          "",
          "",
          "avocadoit_408_562_location_inc"
         ],
         "type": "scatter",
         "x": [
          0.662692489811613,
          0.7322114012830006,
          0.7322114012830006,
          0
         ],
         "xaxis": "x",
         "y": [
          -1292.5,
          -1292.5,
          -1315,
          -1315
         ],
         "yaxis": "y"
        },
        {
         "hoverinfo": "text",
         "marker": {
          "color": "rgb(255,65,54)"
         },
         "mode": "lines",
         "text": [
          "meeting_schedule_calendar_meetings_golf",
          "",
          "",
          "avocadoit_location_408_562_wireless"
         ],
         "type": "scatter",
         "x": [
          0,
          0.7551214158822523,
          0.7551214158822523,
          0.7322114012830006
         ],
         "xaxis": "x",
         "y": [
          -1275,
          -1275,
          -1303.75,
          -1303.75
         ],
         "yaxis": "y"
        },
        {
         "hoverinfo": "text",
         "marker": {
          "color": "rgb(255,65,54)"
         },
         "mode": "lines",
         "text": [
          "99_slides_presentation_fork_price",
          "",
          "",
          "avocadoit_location_408_562_wireless"
         ],
         "type": "scatter",
         "x": [
          0.8943948950316524,
          0.9098386799003737,
          0.9098386799003737,
          0.7551214158822523
         ],
         "xaxis": "x",
         "y": [
          -1252.5,
          -1252.5,
          -1289.375,
          -1289.375
         ],
         "yaxis": "y"
        },
        {
         "hoverinfo": "text",
         "marker": {
          "color": "rgb(255,65,54)"
         },
         "mode": "lines",
         "text": [
          "avocadoit_location_408_562_wireless",
          "",
          "",
          "hp_printer_drivers_canon_distrib"
         ],
         "type": "scatter",
         "x": [
          0.9098386799003737,
          0.9155878007982705,
          0.9155878007982705,
          0
         ],
         "xaxis": "x",
         "y": [
          -1270.9375,
          -1270.9375,
          -1325,
          -1325
         ],
         "yaxis": "y"
        },
        {
         "hoverinfo": "text",
         "marker": {
          "color": "rgb(255,65,54)"
         },
         "mode": "lines",
         "text": [
          "jsp_java_page_tomcat_content",
          "",
          "",
          "avocadoit_location_408_562_wireless"
         ],
         "type": "scatter",
         "x": [
          0.7981854276927307,
          0.9597084823562978,
          0.9597084823562978,
          0.9155878007982705
         ],
         "xaxis": "x",
         "y": [
          -1222.5,
          -1222.5,
          -1297.96875,
          -1297.96875
         ],
         "yaxis": "y"
        },
        {
         "hoverinfo": "text",
         "marker": {
          "color": "rgb(255,65,54)"
         },
         "mode": "lines",
         "text": [
          "accenture_sun_rfp_solaris_we",
          "",
          "",
          "avocadoit_location_408_562_wireless"
         ],
         "type": "scatter",
         "x": [
          0.8600281372555897,
          0.9842007791058759,
          0.9842007791058759,
          0.9597084823562978
         ],
         "xaxis": "x",
         "y": [
          -1197.5,
          -1197.5,
          -1260.234375,
          -1260.234375
         ],
         "yaxis": "y"
        },
        {
         "hoverinfo": "text",
         "marker": {
          "color": "rgb(35,205,205)"
         },
         "mode": "lines",
         "text": [
          "person_sales_marketing_selling_infobrella",
          "",
          "",
          "sales_marketing_prtm_market_business"
         ],
         "type": "scatter",
         "x": [
          0,
          0.6521244813486349,
          0.6521244813486349,
          0
         ],
         "xaxis": "x",
         "y": [
          -1335,
          -1335,
          -1345,
          -1345
         ],
         "yaxis": "y"
        },
        {
         "hoverinfo": "text",
         "marker": {
          "color": "rgb(35,205,205)"
         },
         "mode": "lines",
         "text": [
          "sales_marketing_business_selling_prtm",
          "",
          "",
          "commerce_customers_chains_supply_ibm"
         ],
         "type": "scatter",
         "x": [
          0.6521244813486349,
          0.8060403377415465,
          0.8060403377415465,
          0
         ],
         "xaxis": "x",
         "y": [
          -1340,
          -1340,
          -1355,
          -1355
         ],
         "yaxis": "y"
        },
        {
         "hoverinfo": "text",
         "marker": {
          "color": "rgb(35,205,205)"
         },
         "mode": "lines",
         "text": [
          "sales_marketing_commerce_customers_business",
          "",
          "",
          "led_business_specializes_patricia_seybold"
         ],
         "type": "scatter",
         "x": [
          0.8060403377415465,
          0.8603980061193853,
          0.8603980061193853,
          0
         ],
         "xaxis": "x",
         "y": [
          -1347.5,
          -1347.5,
          -1365,
          -1365
         ],
         "yaxis": "y"
        },
        {
         "hoverinfo": "text",
         "marker": {
          "color": "rgb(0,116,217)"
         },
         "mode": "lines",
         "text": [
          "avocadoit_location_408_562_wireless",
          "",
          "",
          "business_sales_commerce_marketing_customers"
         ],
         "type": "scatter",
         "x": [
          0.9842007791058759,
          1.0512662576612022,
          1.0512662576612022,
          0.8603980061193853
         ],
         "xaxis": "x",
         "y": [
          -1228.8671875,
          -1228.8671875,
          -1356.25,
          -1356.25
         ],
         "yaxis": "y"
        },
        {
         "hoverinfo": "text",
         "marker": {
          "color": "rgb(0,116,217)"
         },
         "mode": "lines",
         "text": [
          "device_specs_database_build_test",
          "",
          "",
          "avocadoit_location_408_562_wireless"
         ],
         "type": "scatter",
         "x": [
          1.1730920397760856,
          1.2816465595354927,
          1.2816465595354927,
          1.0512662576612022
         ],
         "xaxis": "x",
         "y": [
          -886.71875,
          -886.71875,
          -1292.55859375,
          -1292.55859375
         ],
         "yaxis": "y"
        },
        {
         "hoverinfo": "text",
         "marker": {
          "color": "rgb(0,116,217)"
         },
         "mode": "lines",
         "text": [
          "he_xp_her_him_she",
          "",
          "",
          "avocadoit_location_408_the_to"
         ],
         "type": "scatter",
         "x": [
          1.245695947585027,
          1.3188848237953903,
          1.3188848237953903,
          1.2816465595354927
         ],
         "xaxis": "x",
         "y": [
          -665.3125,
          -665.3125,
          -1089.638671875,
          -1089.638671875
         ],
         "yaxis": "y"
        },
        {
         "hoverinfo": "text",
         "marker": {
          "color": "rgb(0,116,217)"
         },
         "mode": "lines",
         "text": [
          "com_email_http_fast_fastcompany",
          "",
          "",
          "avocadoit_location_the_to_408"
         ],
         "type": "scatter",
         "x": [
          1.3598759063833827,
          1.4124743328907385,
          1.4124743328907385,
          1.3188848237953903
         ],
         "xaxis": "x",
         "y": [
          -453.046875,
          -453.046875,
          -877.4755859375,
          -877.4755859375
         ],
         "yaxis": "y"
        },
        {
         "hoverinfo": "text",
         "marker": {
          "color": "rgb(0,116,217)"
         },
         "mode": "lines",
         "text": [
          "look_take_at_please_changes",
          "",
          "",
          "avocadoit_location_com_the_to"
         ],
         "type": "scatter",
         "x": [
          0.9007426392879228,
          1.4758871994430978,
          1.4758871994430978,
          1.4124743328907385
         ],
         "xaxis": "x",
         "y": [
          -240,
          -240,
          -665.26123046875,
          -665.26123046875
         ],
         "yaxis": "y"
        },
        {
         "hoverinfo": "text",
         "marker": {
          "color": "rgb(61,153,112)"
         },
         "mode": "lines",
         "text": [
          "anyone_anybody_me_can_could",
          "",
          "",
          "need_me_help_out_please"
         ],
         "type": "scatter",
         "x": [
          0,
          0.5003941916518277,
          0.5003941916518277,
          0
         ],
         "xaxis": "x",
         "y": [
          -1395,
          -1395,
          -1405,
          -1405
         ],
         "yaxis": "y"
        },
        {
         "hoverinfo": "text",
         "marker": {
          "color": "rgb(61,153,112)"
         },
         "mode": "lines",
         "text": [
          "me_this_with_tony_can",
          "",
          "",
          "me_help_need_out_can"
         ],
         "type": "scatter",
         "x": [
          0,
          0.543493407055301,
          0.543493407055301,
          0.5003941916518277
         ],
         "xaxis": "x",
         "y": [
          -1385,
          -1385,
          -1400,
          -1400
         ],
         "yaxis": "y"
        },
        {
         "hoverinfo": "text",
         "marker": {
          "color": "rgb(61,153,112)"
         },
         "mode": "lines",
         "text": [
          "me_help_out_need_can",
          "",
          "",
          "person_this_thanks_ravi_bebe"
         ],
         "type": "scatter",
         "x": [
          0.543493407055301,
          0.7324630309181436,
          0.7324630309181436,
          0
         ],
         "xaxis": "x",
         "y": [
          -1392.5,
          -1392.5,
          -1415,
          -1415
         ],
         "yaxis": "y"
        },
        {
         "hoverinfo": "text",
         "marker": {
          "color": "rgb(61,153,112)"
         },
         "mode": "lines",
         "text": [
          "doolittle_need_your_slipped_helpone",
          "",
          "",
          "me_help_out_need_can"
         ],
         "type": "scatter",
         "x": [
          0,
          0.7700503151585673,
          0.7700503151585673,
          0.7324630309181436
         ],
         "xaxis": "x",
         "y": [
          -1375,
          -1375,
          -1403.75,
          -1403.75
         ],
         "yaxis": "y"
        },
        {
         "hoverinfo": "text",
         "marker": {
          "color": "rgb(61,153,112)"
         },
         "mode": "lines",
         "text": [
          "solve_problem_decipher_hi_me",
          "",
          "",
          "hi_introductions_facilitating_suggested_engage"
         ],
         "type": "scatter",
         "x": [
          0,
          0.7481889575541519,
          0.7481889575541519,
          0
         ],
         "xaxis": "x",
         "y": [
          -1425,
          -1425,
          -1435,
          -1435
         ],
         "yaxis": "y"
        },
        {
         "hoverinfo": "text",
         "marker": {
          "color": "rgb(61,153,112)"
         },
         "mode": "lines",
         "text": [
          "me_help_need_out_can",
          "",
          "",
          "hi_introductions_solve_facilitating_suggested"
         ],
         "type": "scatter",
         "x": [
          0.7700503151585673,
          0.9267126500407773,
          0.9267126500407773,
          0.7481889575541519
         ],
         "xaxis": "x",
         "y": [
          -1389.375,
          -1389.375,
          -1430,
          -1430
         ],
         "yaxis": "y"
        },
        {
         "hoverinfo": "text",
         "marker": {
          "color": "rgb(255,65,54)"
         },
         "mode": "lines",
         "text": [
          "appreciate_give_really_would_apreciate",
          "",
          "",
          "appreciate_your_really_greatly_help"
         ],
         "type": "scatter",
         "x": [
          0,
          0.24477963998586394,
          0.24477963998586394,
          0
         ],
         "xaxis": "x",
         "y": [
          -1445,
          -1445,
          -1455,
          -1455
         ],
         "yaxis": "y"
        },
        {
         "hoverinfo": "text",
         "marker": {
          "color": "rgb(35,205,205)"
         },
         "mode": "lines",
         "text": [
          "thanks_helping_many_appreciate_again",
          "",
          "",
          "helping_thanks_thank_much_mush"
         ],
         "type": "scatter",
         "x": [
          0,
          0.42575541820295104,
          0.42575541820295104,
          0
         ],
         "xaxis": "x",
         "y": [
          -1465,
          -1465,
          -1475,
          -1475
         ],
         "yaxis": "y"
        },
        {
         "hoverinfo": "text",
         "marker": {
          "color": "rgb(0,116,217)"
         },
         "mode": "lines",
         "text": [
          "appreciate_your_really_greatly_help",
          "",
          "",
          "thanks_helping_again_many_for"
         ],
         "type": "scatter",
         "x": [
          0.24477963998586394,
          1.0531532848595673,
          1.0531532848595673,
          0.42575541820295104
         ],
         "xaxis": "x",
         "y": [
          -1450,
          -1450,
          -1470,
          -1470
         ],
         "yaxis": "y"
        },
        {
         "hoverinfo": "text",
         "marker": {
          "color": "rgb(0,116,217)"
         },
         "mode": "lines",
         "text": [
          "me_hi_help_need_out",
          "",
          "",
          "appreciate_thanks_your_helping_really"
         ],
         "type": "scatter",
         "x": [
          0.9267126500407773,
          1.2709478051954335,
          1.2709478051954335,
          1.0531532848595673
         ],
         "xaxis": "x",
         "y": [
          -1409.6875,
          -1409.6875,
          -1460,
          -1460
         ],
         "yaxis": "y"
        },
        {
         "hoverinfo": "text",
         "marker": {
          "color": "rgb(0,116,217)"
         },
         "mode": "lines",
         "text": [
          "avocadoit_location_com_to_the",
          "",
          "",
          "appreciate_me_help_thanks_hi"
         ],
         "type": "scatter",
         "x": [
          1.4758871994430978,
          1.7756442092101514,
          1.7756442092101514,
          1.2709478051954335
         ],
         "xaxis": "x",
         "y": [
          -452.630615234375,
          -452.630615234375,
          -1434.84375,
          -1434.84375
         ],
         "yaxis": "y"
        },
        {
         "hoverinfo": "text",
         "marker": {
          "color": "rgb(0,116,217)"
         },
         "mode": "lines",
         "text": [
          "let_questions_know_any_please",
          "",
          "",
          "avocadoit_location_to_the_com"
         ],
         "type": "scatter",
         "x": [
          1.5132052891454741,
          2.559187049288112,
          2.559187049288112,
          1.7756442092101514
         ],
         "xaxis": "x",
         "y": [
          -93.06640625,
          -93.06640625,
          -943.7371826171875,
          -943.7371826171875
         ],
         "yaxis": "y"
        },
        {
         "hoverinfo": "text",
         "hovertext": [
          "contact_myself_or_questions_person",
          "call_feel_free_questions_any",
          "hesitate_do_ask_call_questions",
          "let_know_questions_please_me",
          "let_questions_know_any_please",
          "let_know_questions_any_please",
          "let_know_me_any_if",
          "contact_questions_call_hesitate_any",
          "changes_items_change_take_look",
          "look_take_at_please_it",
          "privacy_unsubscribe_policy_cahnersdirect_officemax",
          "qi_password_account_quickinspirations_inspirations",
          "email_mail_problems_having_emails",
          "fastcompany_fast_privacy_unsubscribe_com",
          "event_hosting_ticket_referencing_concerns",
          "desk_hotel_conference_professionals_center",
          "bernsen_loewy_fragomen_legal_whom",
          "baby_babycenter_1fc7nw_le_click",
          "debt_fund_mailbox_cleaning_rates",
          "baby_streaming_media_babycenter_1fc7nw",
          "channelwave_loewy_bernsen_fragomen_desk",
          "email_com_fastcompany_fast_privacy",
          "lot_helps_helped_bit_tremendously",
          "com_email_http_fast_fastcompany",
          "yourself_kitchen_yourselves_food_breakfast",
          "docs_doc_interests_improve_teaching",
          "them_others_we_helping_they",
          "xp_pair_programming_coding_code",
          "xp_pair_helping_them_it",
          "problem_fix_bug_issue_it",
          "xp_do_pair_problem_helping",
          "yourself_list_kitchen_yourselves_food",
          "her_she_man_he_helping",
          "xp_problem_bugzilla_do_bug",
          "test_testing_tests_qa_oca",
          "dependencies_planned_tasks_external_status",
          "build_cm_01_epservlet_wilhan",
          "demo_ae_aes_demos_we",
          "arun_trade_alerts_alert_rajeev",
          "ae_demo_arun_idc_trade",
          "roopak_ritesh_cybersure_take_vivek",
          "contract_nda_contracts_expense_section",
          "survey_form_submission_736_fill",
          "oracle_siebel_openitx_select_server",
          "webex_setting_meeting_up_4602",
          "oracle_siebel_openitx_installing_select",
          "survey_form_proposal_contract_xx",
          "emas_tools_emap_rdbms_say",
          "oracle_webex_survey_siebel_germana",
          "specs_device_database_palm_allnetdevices",
          "scoping_error_500_accessing_errors",
          "oracle_webex_survey_siebel_germana",
          "demo_ae_arun_idc_roopak",
          "build_test_cm_testing_xml",
          "accenture_rfp_seebeyond_petro_they",
          "wireless_location_mobile_in_to",
          "99_slides_presentation_fork_price",
          "avocadoit_location_408_562_wireless",
          "jsp_java_page_tomcat_content",
          "accenture_sun_rfp_solaris_we",
          "sales_marketing_business_selling_prtm",
          "sales_marketing_commerce_customers_business",
          "avocadoit_location_408_562_wireless",
          "device_specs_database_build_test",
          "he_xp_her_him_she",
          "com_email_http_fast_fastcompany",
          "look_take_at_please_changes",
          "me_help_out_need_can",
          "me_help_need_out_can",
          "appreciate_your_really_greatly_help",
          "me_hi_help_need_out",
          "avocadoit_location_com_to_the",
          "let_questions_know_any_please"
         ],
         "marker": {
          "color": "black"
         },
         "mode": "markers",
         "showlegend": false,
         "type": "scatter",
         "x": [
          0.6253601695629636,
          0.5058106110243017,
          0.4263082099621925,
          0.11296859817116511,
          0.5069371764493978,
          0.5973979564361173,
          0.6986882328066487,
          1.2273486858856564,
          0.7271928252897346,
          0.7389695051922283,
          0.7582688650694944,
          0.9415522425387953,
          0.7012271308204623,
          1.0336984876002204,
          0.8939903737186368,
          0.8734391734375306,
          0.9176527126447391,
          0.9182304636281823,
          0.9693779830103868,
          0.9880783742704842,
          1.0363148676118108,
          1.0716785190775568,
          0.6293526340425228,
          1.1437879815790666,
          0.7014670186890115,
          0.8928628144316333,
          0.6181816074036673,
          0.9495384073601009,
          0.9665147277683858,
          0.6040682889219383,
          0.9915758652689471,
          0.8947799610441316,
          0.6200108304060856,
          1.1677606120899473,
          0.8391791808122039,
          0.8859861087863616,
          0.9105555127130809,
          0.8121621290148416,
          0.9326143444773844,
          0.9569669782372593,
          0.9263415417521887,
          0.849189895696614,
          0.9122130427049249,
          0.8840283058321706,
          0.8551318974862478,
          0.966192797369742,
          0.9630827130934074,
          0.8984990648861971,
          1.0166020896820627,
          0.8580326182257635,
          0.9468330751095895,
          1.0353586737752758,
          1.0318279555983711,
          1.0267921430937004,
          0.8304164356711765,
          0.662692489811613,
          0.8943948950316524,
          0.9098386799003737,
          0.7981854276927307,
          0.8600281372555897,
          0.6521244813486349,
          0.8060403377415465,
          0.9842007791058759,
          1.1730920397760856,
          1.245695947585027,
          1.3598759063833827,
          0.9007426392879228,
          0.543493407055301,
          0.7700503151585673,
          0.24477963998586394,
          0.9267126500407773,
          1.4758871994430978,
          1.5132052891454741
         ],
         "y": [
          -60,
          -40,
          -12.5,
          -120,
          -116.25,
          -114.0625,
          -113.515625,
          -33.125,
          -250,
          -222.5,
          -310,
          -282.5,
          -340,
          -300,
          -410,
          -390,
          -370,
          -470,
          -442.5,
          -460,
          -386.875,
          -323.75,
          -520,
          -378.59375,
          -550,
          -580,
          -620,
          -590,
          -610,
          -680,
          -635,
          -557.5,
          -710,
          -609.375,
          -812.5,
          -790,
          -762.5,
          -900,
          -872.5,
          -891.25,
          -850,
          -980,
          -960,
          -1010,
          -1050,
          -1020,
          -973.75,
          -1080,
          -1006.25,
          -1150,
          -1122.5,
          -1048.125,
          -882.8125,
          -784.6875,
          -1190,
          -1292.5,
          -1252.5,
          -1270.9375,
          -1222.5,
          -1197.5,
          -1340,
          -1347.5,
          -1228.8671875,
          -886.71875,
          -665.3125,
          -453.046875,
          -240,
          -1392.5,
          -1389.375,
          -1450,
          -1409.6875,
          -452.630615234375,
          -93.06640625
         ]
        },
        {
         "hoverinfo": "text",
         "hovertext": [
          "hesitate_ask_call_do_questions",
          "contact_800_questions_or_order",
          "contact_questions_call_800_any",
          "let_know_questions_any_me",
          "additional_clarification_let_know_questions",
          "let_know_questions_any_please",
          "let_know_problems_me_if",
          "let_know_me_any_if",
          "review_process_let_know_any",
          "review_process_let_know_anything",
          "let_know_me_any_if",
          "look_take_at_please_can",
          "changes_spreadsheet_look_take_items",
          "password_paytrust_account_login_ragingbull",
          "fastcompany_fast_privacy_unsubscribe_com",
          "email_mail_problems_having_emails",
          "channelwave_face_comdex_event_managers",
          "channelwave_desk_face_comdex_event",
          "debt_fund_rates_credit_funds",
          "baby_streaming_media_babycenter_1fc7nw",
          "finance_ipo_market_yahoo_rebound",
          "baby_streaming_media_click_babycenter",
          "channelwave_loewy_bernsen_baby_streaming",
          "hope_helps_lot_this_helped",
          "xp_pair_programming_coding_code",
          "person_helping_out_help_helped",
          "helping_them_others_out_we",
          "do_problem_problems_admitting_uts",
          "bugzilla_bug_bugs_problem_show_bug",
          "xp_problem_bugzilla_bug_do",
          "him_he_his_would_help",
          "he_him_his_would_help",
          "he_her_him_she_his",
          "build_cm_01_wilhan_problems",
          "test_testing_tests_qa_japanese",
          "test_testing_xml_tests_qa",
          "test_testing_xml_tests_qa",
          "trade_alerts_alert_de_tackle",
          "idc_technical_culture_job_project",
          "demo_ae_idc_aes_demos",
          "prakash_srik_official_reviewers_appreciated",
          "demo_ae_arun_idc_prakash",
          "proposal_contract_xx_nda_contracts",
          "installing_configuring_installation_realone_install",
          "webex_germana_setting_up_meeting",
          "oracle_webex_germana_siebel_setting",
          "sprint_menu_cmds3_contexts_pcs",
          "sprint_menu_contexts_cmds3_emas",
          "scoping_accessing_aesrvr1_folder_access",
          "vss_shailesh_files_look_take",
          "specs_device_database_palm_allnetdevices",
          "specs_device_database_palm_allnetdevices",
          "specs_device_database_palm_allnetdevices",
          "specs_device_database_palm_allnetdevices",
          "jsp_java_page_tomcat_interest",
          "slides_presentation_slide_presenters_deck",
          "wireless_location_mobile_in_to",
          "avocadoit_location_408_562_wireless",
          "avocadoit_location_408_562_wireless",
          "avocadoit_location_408_562_wireless",
          "avocadoit_location_408_562_wireless",
          "business_sales_commerce_marketing_customers",
          "avocadoit_location_408_562_wireless",
          "avocadoit_location_408_the_to",
          "avocadoit_location_the_to_408",
          "avocadoit_location_com_the_to",
          "me_help_need_out_can",
          "me_help_out_need_can",
          "hi_introductions_solve_facilitating_suggested",
          "thanks_helping_again_many_for",
          "appreciate_thanks_your_helping_really",
          "appreciate_me_help_thanks_hi",
          "avocadoit_location_to_the_com"
         ],
         "marker": {
          "color": "black"
         },
         "mode": "markers",
         "showlegend": false,
         "type": "scatter",
         "x": [
          0.3297218244877491,
          0.6928085904748855,
          0.8207763701292594,
          0.36370871061452426,
          0.473003771952757,
          0.5230756622618455,
          0.554275330045366,
          0.6630496476899024,
          0.7586263703499075,
          0.8492632567350067,
          0.9468664648704855,
          0.22874382856019237,
          0.7805928056446865,
          0.8323332265870396,
          0.9610043349537131,
          0.9200036134376812,
          0.9506272861084824,
          0.9542768005007516,
          0.947478848344864,
          0.9690261577665681,
          0.9061793572907442,
          0.9998280421947503,
          1.056781182542243,
          0.8245365917428055,
          0.8834932466967285,
          0.6751197556167229,
          0.8211983553051113,
          0.76244588900237,
          0.7445918198476329,
          1.0820544402857792,
          0.5685794972229066,
          0.7357086674327139,
          1.0598424715197334,
          0.825017575673044,
          0.7903038838057493,
          0.8643478617474568,
          0.9749639879622843,
          0.8711575653419796,
          0.849936950223076,
          0.9194320224237297,
          0.8983475531319473,
          0.9764131124617901,
          0.9253488634456273,
          0.8994621488360689,
          0.9267049286275824,
          0.9946563552952081,
          0.9633948703942263,
          0.982586699263816,
          0.834598966422778,
          0.9080868739268078,
          0.9969311101490886,
          1.0163633622039563,
          1.0528019706214486,
          1.0638779523742758,
          0.7481218973582936,
          0.8606575101057693,
          0.6111686971817575,
          0.7322114012830006,
          0.7551214158822523,
          0.9155878007982705,
          0.9597084823562978,
          0.8603980061193853,
          1.0512662576612022,
          1.2816465595354927,
          1.3188848237953903,
          1.4124743328907385,
          0.5003941916518277,
          0.7324630309181436,
          0.7481889575541519,
          0.42575541820295104,
          1.0531532848595673,
          1.2709478051954335,
          1.7756442092101514
         ],
         "y": [
          -20,
          -67.5,
          -53.75,
          -127.5,
          -150,
          -133.125,
          -170,
          -142.03125,
          -200,
          -192.5,
          -153.0078125,
          -230,
          -257.5,
          -290,
          -317.5,
          -347.5,
          -417.5,
          -403.75,
          -450,
          -477.5,
          -500,
          -480,
          -433.4375,
          -527.5,
          -600,
          -640,
          -630,
          -660,
          -687.5,
          -661.25,
          -740,
          -732.5,
          -721.25,
          -770,
          -820,
          -823.75,
          -806.875,
          -880,
          -920,
          -910,
          -940,
          -915.625,
          -987.5,
          -1030,
          -1057.5,
          -1038.75,
          -1100,
          -1090,
          -1130,
          -1170,
          -1160,
          -1141.25,
          -1094.6875,
          -988.75,
          -1230,
          -1260,
          -1300,
          -1303.75,
          -1289.375,
          -1297.96875,
          -1260.234375,
          -1356.25,
          -1292.55859375,
          -1089.638671875,
          -877.4755859375,
          -665.26123046875,
          -1400,
          -1403.75,
          -1430,
          -1470,
          -1460,
          -1434.84375,
          -943.7371826171875
         ]
        }
       ],
       "layout": {
        "autosize": false,
        "height": 2420,
        "hoverlabel": {
         "bgcolor": "white",
         "font": {
          "family": "Rockwell",
          "size": 16
         }
        },
        "hovermode": "closest",
        "plot_bgcolor": "#ECEFF1",
        "showlegend": false,
        "template": {
         "data": {
          "bar": [
           {
            "error_x": {
             "color": "#2a3f5f"
            },
            "error_y": {
             "color": "#2a3f5f"
            },
            "marker": {
             "line": {
              "color": "white",
              "width": 0.5
             },
             "pattern": {
              "fillmode": "overlay",
              "size": 10,
              "solidity": 0.2
             }
            },
            "type": "bar"
           }
          ],
          "barpolar": [
           {
            "marker": {
             "line": {
              "color": "white",
              "width": 0.5
             },
             "pattern": {
              "fillmode": "overlay",
              "size": 10,
              "solidity": 0.2
             }
            },
            "type": "barpolar"
           }
          ],
          "carpet": [
           {
            "aaxis": {
             "endlinecolor": "#2a3f5f",
             "gridcolor": "#C8D4E3",
             "linecolor": "#C8D4E3",
             "minorgridcolor": "#C8D4E3",
             "startlinecolor": "#2a3f5f"
            },
            "baxis": {
             "endlinecolor": "#2a3f5f",
             "gridcolor": "#C8D4E3",
             "linecolor": "#C8D4E3",
             "minorgridcolor": "#C8D4E3",
             "startlinecolor": "#2a3f5f"
            },
            "type": "carpet"
           }
          ],
          "choropleth": [
           {
            "colorbar": {
             "outlinewidth": 0,
             "ticks": ""
            },
            "type": "choropleth"
           }
          ],
          "contour": [
           {
            "colorbar": {
             "outlinewidth": 0,
             "ticks": ""
            },
            "colorscale": [
             [
              0,
              "#0d0887"
             ],
             [
              0.1111111111111111,
              "#46039f"
             ],
             [
              0.2222222222222222,
              "#7201a8"
             ],
             [
              0.3333333333333333,
              "#9c179e"
             ],
             [
              0.4444444444444444,
              "#bd3786"
             ],
             [
              0.5555555555555556,
              "#d8576b"
             ],
             [
              0.6666666666666666,
              "#ed7953"
             ],
             [
              0.7777777777777778,
              "#fb9f3a"
             ],
             [
              0.8888888888888888,
              "#fdca26"
             ],
             [
              1,
              "#f0f921"
             ]
            ],
            "type": "contour"
           }
          ],
          "contourcarpet": [
           {
            "colorbar": {
             "outlinewidth": 0,
             "ticks": ""
            },
            "type": "contourcarpet"
           }
          ],
          "heatmap": [
           {
            "colorbar": {
             "outlinewidth": 0,
             "ticks": ""
            },
            "colorscale": [
             [
              0,
              "#0d0887"
             ],
             [
              0.1111111111111111,
              "#46039f"
             ],
             [
              0.2222222222222222,
              "#7201a8"
             ],
             [
              0.3333333333333333,
              "#9c179e"
             ],
             [
              0.4444444444444444,
              "#bd3786"
             ],
             [
              0.5555555555555556,
              "#d8576b"
             ],
             [
              0.6666666666666666,
              "#ed7953"
             ],
             [
              0.7777777777777778,
              "#fb9f3a"
             ],
             [
              0.8888888888888888,
              "#fdca26"
             ],
             [
              1,
              "#f0f921"
             ]
            ],
            "type": "heatmap"
           }
          ],
          "heatmapgl": [
           {
            "colorbar": {
             "outlinewidth": 0,
             "ticks": ""
            },
            "colorscale": [
             [
              0,
              "#0d0887"
             ],
             [
              0.1111111111111111,
              "#46039f"
             ],
             [
              0.2222222222222222,
              "#7201a8"
             ],
             [
              0.3333333333333333,
              "#9c179e"
             ],
             [
              0.4444444444444444,
              "#bd3786"
             ],
             [
              0.5555555555555556,
              "#d8576b"
             ],
             [
              0.6666666666666666,
              "#ed7953"
             ],
             [
              0.7777777777777778,
              "#fb9f3a"
             ],
             [
              0.8888888888888888,
              "#fdca26"
             ],
             [
              1,
              "#f0f921"
             ]
            ],
            "type": "heatmapgl"
           }
          ],
          "histogram": [
           {
            "marker": {
             "pattern": {
              "fillmode": "overlay",
              "size": 10,
              "solidity": 0.2
             }
            },
            "type": "histogram"
           }
          ],
          "histogram2d": [
           {
            "colorbar": {
             "outlinewidth": 0,
             "ticks": ""
            },
            "colorscale": [
             [
              0,
              "#0d0887"
             ],
             [
              0.1111111111111111,
              "#46039f"
             ],
             [
              0.2222222222222222,
              "#7201a8"
             ],
             [
              0.3333333333333333,
              "#9c179e"
             ],
             [
              0.4444444444444444,
              "#bd3786"
             ],
             [
              0.5555555555555556,
              "#d8576b"
             ],
             [
              0.6666666666666666,
              "#ed7953"
             ],
             [
              0.7777777777777778,
              "#fb9f3a"
             ],
             [
              0.8888888888888888,
              "#fdca26"
             ],
             [
              1,
              "#f0f921"
             ]
            ],
            "type": "histogram2d"
           }
          ],
          "histogram2dcontour": [
           {
            "colorbar": {
             "outlinewidth": 0,
             "ticks": ""
            },
            "colorscale": [
             [
              0,
              "#0d0887"
             ],
             [
              0.1111111111111111,
              "#46039f"
             ],
             [
              0.2222222222222222,
              "#7201a8"
             ],
             [
              0.3333333333333333,
              "#9c179e"
             ],
             [
              0.4444444444444444,
              "#bd3786"
             ],
             [
              0.5555555555555556,
              "#d8576b"
             ],
             [
              0.6666666666666666,
              "#ed7953"
             ],
             [
              0.7777777777777778,
              "#fb9f3a"
             ],
             [
              0.8888888888888888,
              "#fdca26"
             ],
             [
              1,
              "#f0f921"
             ]
            ],
            "type": "histogram2dcontour"
           }
          ],
          "mesh3d": [
           {
            "colorbar": {
             "outlinewidth": 0,
             "ticks": ""
            },
            "type": "mesh3d"
           }
          ],
          "parcoords": [
           {
            "line": {
             "colorbar": {
              "outlinewidth": 0,
              "ticks": ""
             }
            },
            "type": "parcoords"
           }
          ],
          "pie": [
           {
            "automargin": true,
            "type": "pie"
           }
          ],
          "scatter": [
           {
            "fillpattern": {
             "fillmode": "overlay",
             "size": 10,
             "solidity": 0.2
            },
            "type": "scatter"
           }
          ],
          "scatter3d": [
           {
            "line": {
             "colorbar": {
              "outlinewidth": 0,
              "ticks": ""
             }
            },
            "marker": {
             "colorbar": {
              "outlinewidth": 0,
              "ticks": ""
             }
            },
            "type": "scatter3d"
           }
          ],
          "scattercarpet": [
           {
            "marker": {
             "colorbar": {
              "outlinewidth": 0,
              "ticks": ""
             }
            },
            "type": "scattercarpet"
           }
          ],
          "scattergeo": [
           {
            "marker": {
             "colorbar": {
              "outlinewidth": 0,
              "ticks": ""
             }
            },
            "type": "scattergeo"
           }
          ],
          "scattergl": [
           {
            "marker": {
             "colorbar": {
              "outlinewidth": 0,
              "ticks": ""
             }
            },
            "type": "scattergl"
           }
          ],
          "scattermapbox": [
           {
            "marker": {
             "colorbar": {
              "outlinewidth": 0,
              "ticks": ""
             }
            },
            "type": "scattermapbox"
           }
          ],
          "scatterpolar": [
           {
            "marker": {
             "colorbar": {
              "outlinewidth": 0,
              "ticks": ""
             }
            },
            "type": "scatterpolar"
           }
          ],
          "scatterpolargl": [
           {
            "marker": {
             "colorbar": {
              "outlinewidth": 0,
              "ticks": ""
             }
            },
            "type": "scatterpolargl"
           }
          ],
          "scatterternary": [
           {
            "marker": {
             "colorbar": {
              "outlinewidth": 0,
              "ticks": ""
             }
            },
            "type": "scatterternary"
           }
          ],
          "surface": [
           {
            "colorbar": {
             "outlinewidth": 0,
             "ticks": ""
            },
            "colorscale": [
             [
              0,
              "#0d0887"
             ],
             [
              0.1111111111111111,
              "#46039f"
             ],
             [
              0.2222222222222222,
              "#7201a8"
             ],
             [
              0.3333333333333333,
              "#9c179e"
             ],
             [
              0.4444444444444444,
              "#bd3786"
             ],
             [
              0.5555555555555556,
              "#d8576b"
             ],
             [
              0.6666666666666666,
              "#ed7953"
             ],
             [
              0.7777777777777778,
              "#fb9f3a"
             ],
             [
              0.8888888888888888,
              "#fdca26"
             ],
             [
              1,
              "#f0f921"
             ]
            ],
            "type": "surface"
           }
          ],
          "table": [
           {
            "cells": {
             "fill": {
              "color": "#EBF0F8"
             },
             "line": {
              "color": "white"
             }
            },
            "header": {
             "fill": {
              "color": "#C8D4E3"
             },
             "line": {
              "color": "white"
             }
            },
            "type": "table"
           }
          ]
         },
         "layout": {
          "annotationdefaults": {
           "arrowcolor": "#2a3f5f",
           "arrowhead": 0,
           "arrowwidth": 1
          },
          "autotypenumbers": "strict",
          "coloraxis": {
           "colorbar": {
            "outlinewidth": 0,
            "ticks": ""
           }
          },
          "colorscale": {
           "diverging": [
            [
             0,
             "#8e0152"
            ],
            [
             0.1,
             "#c51b7d"
            ],
            [
             0.2,
             "#de77ae"
            ],
            [
             0.3,
             "#f1b6da"
            ],
            [
             0.4,
             "#fde0ef"
            ],
            [
             0.5,
             "#f7f7f7"
            ],
            [
             0.6,
             "#e6f5d0"
            ],
            [
             0.7,
             "#b8e186"
            ],
            [
             0.8,
             "#7fbc41"
            ],
            [
             0.9,
             "#4d9221"
            ],
            [
             1,
             "#276419"
            ]
           ],
           "sequential": [
            [
             0,
             "#0d0887"
            ],
            [
             0.1111111111111111,
             "#46039f"
            ],
            [
             0.2222222222222222,
             "#7201a8"
            ],
            [
             0.3333333333333333,
             "#9c179e"
            ],
            [
             0.4444444444444444,
             "#bd3786"
            ],
            [
             0.5555555555555556,
             "#d8576b"
            ],
            [
             0.6666666666666666,
             "#ed7953"
            ],
            [
             0.7777777777777778,
             "#fb9f3a"
            ],
            [
             0.8888888888888888,
             "#fdca26"
            ],
            [
             1,
             "#f0f921"
            ]
           ],
           "sequentialminus": [
            [
             0,
             "#0d0887"
            ],
            [
             0.1111111111111111,
             "#46039f"
            ],
            [
             0.2222222222222222,
             "#7201a8"
            ],
            [
             0.3333333333333333,
             "#9c179e"
            ],
            [
             0.4444444444444444,
             "#bd3786"
            ],
            [
             0.5555555555555556,
             "#d8576b"
            ],
            [
             0.6666666666666666,
             "#ed7953"
            ],
            [
             0.7777777777777778,
             "#fb9f3a"
            ],
            [
             0.8888888888888888,
             "#fdca26"
            ],
            [
             1,
             "#f0f921"
            ]
           ]
          },
          "colorway": [
           "#636efa",
           "#EF553B",
           "#00cc96",
           "#ab63fa",
           "#FFA15A",
           "#19d3f3",
           "#FF6692",
           "#B6E880",
           "#FF97FF",
           "#FECB52"
          ],
          "font": {
           "color": "#2a3f5f"
          },
          "geo": {
           "bgcolor": "white",
           "lakecolor": "white",
           "landcolor": "white",
           "showlakes": true,
           "showland": true,
           "subunitcolor": "#C8D4E3"
          },
          "hoverlabel": {
           "align": "left"
          },
          "hovermode": "closest",
          "mapbox": {
           "style": "light"
          },
          "paper_bgcolor": "white",
          "plot_bgcolor": "white",
          "polar": {
           "angularaxis": {
            "gridcolor": "#EBF0F8",
            "linecolor": "#EBF0F8",
            "ticks": ""
           },
           "bgcolor": "white",
           "radialaxis": {
            "gridcolor": "#EBF0F8",
            "linecolor": "#EBF0F8",
            "ticks": ""
           }
          },
          "scene": {
           "xaxis": {
            "backgroundcolor": "white",
            "gridcolor": "#DFE8F3",
            "gridwidth": 2,
            "linecolor": "#EBF0F8",
            "showbackground": true,
            "ticks": "",
            "zerolinecolor": "#EBF0F8"
           },
           "yaxis": {
            "backgroundcolor": "white",
            "gridcolor": "#DFE8F3",
            "gridwidth": 2,
            "linecolor": "#EBF0F8",
            "showbackground": true,
            "ticks": "",
            "zerolinecolor": "#EBF0F8"
           },
           "zaxis": {
            "backgroundcolor": "white",
            "gridcolor": "#DFE8F3",
            "gridwidth": 2,
            "linecolor": "#EBF0F8",
            "showbackground": true,
            "ticks": "",
            "zerolinecolor": "#EBF0F8"
           }
          },
          "shapedefaults": {
           "line": {
            "color": "#2a3f5f"
           }
          },
          "ternary": {
           "aaxis": {
            "gridcolor": "#DFE8F3",
            "linecolor": "#A2B1C6",
            "ticks": ""
           },
           "baxis": {
            "gridcolor": "#DFE8F3",
            "linecolor": "#A2B1C6",
            "ticks": ""
           },
           "bgcolor": "white",
           "caxis": {
            "gridcolor": "#DFE8F3",
            "linecolor": "#A2B1C6",
            "ticks": ""
           }
          },
          "title": {
           "x": 0.05
          },
          "xaxis": {
           "automargin": true,
           "gridcolor": "#EBF0F8",
           "linecolor": "#EBF0F8",
           "ticks": "",
           "title": {
            "standoff": 15
           },
           "zerolinecolor": "#EBF0F8",
           "zerolinewidth": 2
          },
          "yaxis": {
           "automargin": true,
           "gridcolor": "#EBF0F8",
           "linecolor": "#EBF0F8",
           "ticks": "",
           "title": {
            "standoff": 15
           },
           "zerolinecolor": "#EBF0F8",
           "zerolinewidth": 2
          }
         }
        },
        "title": {
         "font": {
          "color": "Black",
          "size": 22
         },
         "text": "<b>Hierarchical Clustering</b>",
         "x": 0.5,
         "xanchor": "center",
         "yanchor": "top"
        },
        "width": 1000,
        "xaxis": {
         "mirror": "allticks",
         "rangemode": "tozero",
         "showgrid": false,
         "showline": true,
         "showticklabels": true,
         "ticks": "outside",
         "type": "linear",
         "zeroline": false
        },
        "yaxis": {
         "mirror": "allticks",
         "range": [
          -1480,
          0
         ],
         "rangemode": "tozero",
         "showgrid": false,
         "showline": true,
         "showticklabels": true,
         "tickmode": "array",
         "ticks": "outside",
         "ticktext": [
          "93_hesitate_contact_us",
          "122_hesitate_call_do",
          "129_hesitate_ask_do",
          "75_call_feel_free",
          "87_email_mail_free",
          "92_myself_contact_questions",
          "27_contact_ext_or",
          "12_800_order_contact",
          "28_concerns_or_let",
          "80_comments_let_know",
          "30_questions_any_ask",
          "64_let_know_questions",
          "25_let_know_questions",
          "45_assistance_let_know",
          "83_clarification_additional...",
          "145_additional_let_otherwise",
          "10_problems_let_know",
          "4_let_need_know",
          "124_anything_there_else",
          "73_process_let_know",
          "67_review_questions_comments",
          "108_feedback_give_take",
          "8_look_take_at",
          "38_look_take_at",
          "51_changes_change_add",
          "68_items_document_summary",
          "61_spreadsheet_excel_begin",
          "117_qi_quickinspirations_in...",
          "110_paytrust_ameritrade_acc...",
          "40_password_ragingbull_alta...",
          "70_privacy_policy_visit",
          "57_unsubscribe_cahnersdirec...",
          "120_fastcompany_fast_rsilve...",
          "116_emails_bouncing_verity",
          "6_email_problems_mail",
          "113_original_message_sent",
          "104_bernsen_loewy_fragomen",
          "99_law_legal_hrhero",
          "72_desk_conference_professi...",
          "39_hotel_travel_finding",
          "146_hosting_ticket_referenc...",
          "119_event_5165_mlgoldenberg",
          "49_channelwave_face_comdex",
          "142_mailbox_cleaning_771",
          "102_debt_rates_credit",
          "89_fund_funds_donate",
          "29_baby_babycenter_le",
          "77_win2000mag_pressed_spons...",
          "136_streaming_media_industry",
          "144_ipo_rebound_crash",
          "141_finance_yahoo_newswire",
          "100_lot_helped_helps",
          "103_lot_helps_tremendously",
          "53_hope_helps_this",
          "46_yourself_kitchen_food",
          "74_yourself_yourselves_really",
          "65_list_searching_clue",
          "125_doc_docs_health",
          "114_interests_improve_teach...",
          "47_pair_programming_coding",
          "33_xp_inward_looking",
          "48_happy_everything_want",
          "19_them_others_we",
          "15_person_helping_out",
          "66_able_also_prep",
          "54_problem_do_problems",
          "131_do_tamra_need",
          "20_problem_fix_look",
          "44_bug_bugs_person",
          "37_bugzilla_bugs_bug",
          "16_her_she_helping",
          "58_man_she_her",
          "60_he_resume_job",
          "9_him_he_his",
          "137_him_his_6963",
          "127_epservlet_opt_servlet",
          "24_build_cm_01",
          "138_cr_branch_between",
          "135_eai_gate_ac",
          "98_dependencies_planned_tasks",
          "123_oca_sp2_osa",
          "7_test_testing_tests",
          "31_japanese_miyuki_i18n",
          "52_xml_xsl_merged",
          "133_ritesh_cybersure_2520",
          "76_roopak_vivek_seen",
          "56_arun_rajeev_components",
          "126_trade_tackle_long",
          "90_alerts_alert_de",
          "43_demo_demos_pemex",
          "55_ae_aes_can",
          "79_idc_ide_estimates",
          "115_culture_job_project",
          "88_srik_sriram_srikant",
          "71_prakash_reviewers_official",
          "94_survey_736_202",
          "91_form_submission_fill",
          "86_contract_nda_contracts",
          "69_expense_department_accou...",
          "95_proposal_xx_portions",
          "84_oracle_openitx_webmethods",
          "106_siebel_client_select",
          "81_installing_installation_...",
          "143_operations_deployment_m...",
          "82_webex_meeting_4602",
          "109_setting_up_set",
          "105_germana_delegated_nt",
          "147_tools_layout_tool",
          "140_emas_emap_rdbms",
          "85_menu_cmds3_contexts",
          "139_sprint_pcs_cafe",
          "130_error_500_errors",
          "101_accessing_aesrvr1_folder",
          "134_scoping_template_mortgage",
          "17_specs_database_device",
          "34_palm_emulator_fine",
          "128_vss_files_aml",
          "112_shailesh_shakhar_testting",
          "26_accenture_seebeyond_petro",
          "78_rfp_rfi_rfps",
          "36_sun_solaris_iplanet",
          "62_site_macromedia_web",
          "22_netscape_page_browser",
          "3_jsp_java_tomcat",
          "18_99_fork_price",
          "111_leadership_library_subs...",
          "21_slides_presentation_slide",
          "11_meeting_schedule_calendar",
          "13_documentation_developmen...",
          "1_location_in_to",
          "2_wireless_mobile_applicati...",
          "0_avocadoit_408_562",
          "35_hp_printer_drivers",
          "42_person_sales_marketing",
          "14_sales_marketing_prtm",
          "59_commerce_customers_chains",
          "132_led_business_specializes",
          "63_doolittle_need_your",
          "121_me_this_with",
          "32_anyone_anybody_me",
          "5_need_me_help",
          "50_person_this_thanks",
          "97_solve_problem_decipher",
          "41_hi_introductions_facilit...",
          "107_appreciate_give_really",
          "23_appreciate_your_really",
          "96_thanks_helping_many",
          "118_helping_thanks_thank"
         ],
         "tickvals": [
          -5,
          -15,
          -25,
          -35,
          -45,
          -55,
          -65,
          -75,
          -85,
          -95,
          -105,
          -115,
          -125,
          -135,
          -145,
          -155,
          -165,
          -175,
          -185,
          -195,
          -205,
          -215,
          -225,
          -235,
          -245,
          -255,
          -265,
          -275,
          -285,
          -295,
          -305,
          -315,
          -325,
          -335,
          -345,
          -355,
          -365,
          -375,
          -385,
          -395,
          -405,
          -415,
          -425,
          -435,
          -445,
          -455,
          -465,
          -475,
          -485,
          -495,
          -505,
          -515,
          -525,
          -535,
          -545,
          -555,
          -565,
          -575,
          -585,
          -595,
          -605,
          -615,
          -625,
          -635,
          -645,
          -655,
          -665,
          -675,
          -685,
          -695,
          -705,
          -715,
          -725,
          -735,
          -745,
          -755,
          -765,
          -775,
          -785,
          -795,
          -805,
          -815,
          -825,
          -835,
          -845,
          -855,
          -865,
          -875,
          -885,
          -895,
          -905,
          -915,
          -925,
          -935,
          -945,
          -955,
          -965,
          -975,
          -985,
          -995,
          -1005,
          -1015,
          -1025,
          -1035,
          -1045,
          -1055,
          -1065,
          -1075,
          -1085,
          -1095,
          -1105,
          -1115,
          -1125,
          -1135,
          -1145,
          -1155,
          -1165,
          -1175,
          -1185,
          -1195,
          -1205,
          -1215,
          -1225,
          -1235,
          -1245,
          -1255,
          -1265,
          -1275,
          -1285,
          -1295,
          -1305,
          -1315,
          -1325,
          -1335,
          -1345,
          -1355,
          -1365,
          -1375,
          -1385,
          -1395,
          -1405,
          -1415,
          -1425,
          -1435,
          -1445,
          -1455,
          -1465,
          -1475
         ],
         "type": "linear",
         "zeroline": false
        }
       }
      }
     },
     "metadata": {},
     "output_type": "display_data"
    }
   ],
   "source": [
    "topic_model.visualize_hierarchy(hierarchical_topics=hierarchical_topics)"
   ]
  },
  {
   "cell_type": "markdown",
   "metadata": {},
   "source": [
    "## Merging Topics"
   ]
  },
  {
   "cell_type": "code",
   "execution_count": 733,
   "metadata": {},
   "outputs": [
    {
     "name": "stdout",
     "output_type": "stream",
     "text": [
      "-----------\n",
      "Topic: 6\n",
      "\n",
      "Top Words:\n",
      "slides, presentation, slide, the, need, help, you, your, to, can, \n",
      "\n",
      "Representative Target Sentences: \n",
      "My secretary can put your 3 - 5 PowerPoint slides together   if need any help on the slides .\n",
      "on that note -- do you still need help with the [PERSON] [PERSON] slides ?\n",
      "Betty ,    Take a look at the competition slides in this presentation .\n"
     ]
    }
   ],
   "source": [
    "topic_id = 6\n",
    "inspect_topic(topic_id)"
   ]
  },
  {
   "cell_type": "code",
   "execution_count": 735,
   "metadata": {},
   "outputs": [
    {
     "data": {
      "text/plain": [
       "['-1_the_person_to_help',\n",
       " '0_offer_help',\n",
       " '1_request_help',\n",
       " '2_jsp_java_code',\n",
       " '3_refer_help',\n",
       " '4_person_help_out_you',\n",
       " '5_it_problems',\n",
       " '6_problem_it_the_bug',\n",
       " '7_meeting_schedule_the_you',\n",
       " '8_slides_presentation_slide_the',\n",
       " '9_build_cm_01_problems',\n",
       " '10_bugzilla_bugs_bug_show_bug',\n",
       " '11_hesitate_do_questions_any',\n",
       " '12_demo_the_demos_we',\n",
       " '13_pair_programming_code_coding',\n",
       " '14_changes_change_let_know']"
      ]
     },
     "execution_count": 735,
     "metadata": {},
     "output_type": "execute_result"
    }
   ],
   "source": [
    "topic_model.custom_labels_"
   ]
  },
  {
   "cell_type": "code",
   "execution_count": 689,
   "metadata": {},
   "outputs": [],
   "source": [
    "topic_model.merge_topics(docs, [-1,topic_id])"
   ]
  },
  {
   "cell_type": "code",
   "execution_count": 732,
   "metadata": {},
   "outputs": [],
   "source": [
    "create_custom_label(\"it_problems\", topic_id=topic_id)"
   ]
  },
  {
   "cell_type": "code",
   "execution_count": 734,
   "metadata": {},
   "outputs": [
    {
     "name": "stdout",
     "output_type": "stream",
     "text": [
      "Number of Documents: 63\n",
      "\n",
      "Please let me know if you need any help getting others involvement with the presentation .\n",
      "I hope that the presentation and the audio can help you .\n",
      "i took a look at the presentation .\n",
      "on that note -- do you still need help with the [PERSON] [PERSON] slides ?\n",
      "Do you need my help preparing / formatting slides ?\n",
      "Presentation given to an Accenture Communications & High - Tech Executive Meeting    Let me know if you have any questions .\n",
      "His focus will be on helping the R&D presenters to hone their presentations to fit the timeframe available .\n",
      "If anyone has problems accessing the slides , please let me know\n",
      "You need help with the presentation this weekend .\n",
      "My secretary can put your 3 - 5 PowerPoint slides together   if need any help on the slides .\n",
      "Can you take a look at the attached slide and tell me if I 'm missing anything or inaccurate in any of the bullets .\n",
      "Can you please have your slide presentation doen here by then ?     [PERSON] R can help you with the other items .\n",
      "What do I need to help prepare for your presentation , now that you know what they want to hear ?   Amitabh :   Please note the reference to Symbian OS   David :   Please note their expectations of content and the non - agenda approach ( just like Symbian ... as you see in my e - mail below his response I did try to suggest a more defined agenda )\n",
      "[PERSON] ,    I was hoping that you would be able to help me with a few more slides .\n",
      "I need your help on 2 slides for board meeting this friday .    1 ) real closable opps for Q1   2 ) real pipeline with your partners    Thx .    [PERSON] [PERSON] [PERSON] [PERSON] [PERSON] [PERSON]   AvocadoIT   408 - 562 - 8080\n",
      "[PERSON] ,    Could you run this presentation by [PERSON] and get confirmation from her that it 's OK for us to take a look at this presentation ?    Thanks ,    [PERSON] .    PS :\n",
      "Please take a look at this slide .\n",
      "I would suggest that it would be good if you can make it a team presentation to include the relevant SE and ADR that might have been helping you out .\n",
      "Slide 22 - Can we express this in terms as how this helps them ?\n",
      "[PERSON] ,    We are having an email problem so I do n't know if you got   these slides already or not , so here they are again .\n"
     ]
    }
   ],
   "source": [
    "topic_docs = inspect_topic_docs(topic_id,n_docs=20)"
   ]
  },
  {
   "cell_type": "code",
   "execution_count": 427,
   "metadata": {},
   "outputs": [
    {
     "data": {
      "text/plain": [
       "59"
      ]
     },
     "execution_count": 427,
     "metadata": {},
     "output_type": "execute_result"
    }
   ],
   "source": [
    "len(topic_model.get_topics())"
   ]
  },
  {
   "cell_type": "code",
   "execution_count": 485,
   "metadata": {},
   "outputs": [
    {
     "name": "stderr",
     "output_type": "stream",
     "text": [
      "2024-11-06 15:37:29,646 - BERTopic - WARNING: When you use `pickle` to save/load a BERTopic model,please make sure that the environments in which you saveand load the model are **exactly** the same. The version of BERTopic,its dependencies, and python need to remain the same.\n"
     ]
    }
   ],
   "source": [
    "topic_model.save(\"../../../data/bertopic_models/intents/02_call/call_processed\")"
   ]
  },
  {
   "cell_type": "code",
   "execution_count": 707,
   "metadata": {},
   "outputs": [
    {
     "data": {
      "application/vnd.plotly.v1+json": {
       "config": {
        "plotlyServerURL": "https://plot.ly"
       },
       "data": [
        {
         "hoverinfo": "text",
         "marker": {
          "color": "rgb(61,153,112)"
         },
         "mode": "lines",
         "type": "scatter",
         "x": [
          0,
          0.7135074134039704,
          0.7135074134039704,
          0
         ],
         "xaxis": "x",
         "y": [
          -5,
          -5,
          -15,
          -15
         ],
         "yaxis": "y"
        },
        {
         "hoverinfo": "text",
         "marker": {
          "color": "rgb(61,153,112)"
         },
         "mode": "lines",
         "type": "scatter",
         "x": [
          0.7135074134039704,
          0.782191623138957,
          0.782191623138957,
          0
         ],
         "xaxis": "x",
         "y": [
          -10,
          -10,
          -25,
          -25
         ],
         "yaxis": "y"
        },
        {
         "hoverinfo": "text",
         "marker": {
          "color": "rgb(61,153,112)"
         },
         "mode": "lines",
         "type": "scatter",
         "x": [
          0,
          0.41372025659328127,
          0.41372025659328127,
          0
         ],
         "xaxis": "x",
         "y": [
          -55,
          -55,
          -65,
          -65
         ],
         "yaxis": "y"
        },
        {
         "hoverinfo": "text",
         "marker": {
          "color": "rgb(61,153,112)"
         },
         "mode": "lines",
         "type": "scatter",
         "x": [
          0,
          0.4963917020695075,
          0.4963917020695075,
          0.41372025659328127
         ],
         "xaxis": "x",
         "y": [
          -45,
          -45,
          -60,
          -60
         ],
         "yaxis": "y"
        },
        {
         "hoverinfo": "text",
         "marker": {
          "color": "rgb(61,153,112)"
         },
         "mode": "lines",
         "type": "scatter",
         "x": [
          0.4963917020695075,
          0.6016710001186739,
          0.6016710001186739,
          0
         ],
         "xaxis": "x",
         "y": [
          -52.5,
          -52.5,
          -75,
          -75
         ],
         "yaxis": "y"
        },
        {
         "hoverinfo": "text",
         "marker": {
          "color": "rgb(61,153,112)"
         },
         "mode": "lines",
         "type": "scatter",
         "x": [
          0,
          0.6460847665708855,
          0.6460847665708855,
          0.6016710001186739
         ],
         "xaxis": "x",
         "y": [
          -35,
          -35,
          -63.75,
          -63.75
         ],
         "yaxis": "y"
        },
        {
         "hoverinfo": "text",
         "marker": {
          "color": "rgb(61,153,112)"
         },
         "mode": "lines",
         "type": "scatter",
         "x": [
          0,
          0.6231178061391416,
          0.6231178061391416,
          0
         ],
         "xaxis": "x",
         "y": [
          -85,
          -85,
          -95,
          -95
         ],
         "yaxis": "y"
        },
        {
         "hoverinfo": "text",
         "marker": {
          "color": "rgb(61,153,112)"
         },
         "mode": "lines",
         "type": "scatter",
         "x": [
          0.6460847665708855,
          0.6713595286435246,
          0.6713595286435246,
          0.6231178061391416
         ],
         "xaxis": "x",
         "y": [
          -49.375,
          -49.375,
          -90,
          -90
         ],
         "yaxis": "y"
        },
        {
         "hoverinfo": "text",
         "marker": {
          "color": "rgb(61,153,112)"
         },
         "mode": "lines",
         "type": "scatter",
         "x": [
          0.6713595286435246,
          0.7168926590782941,
          0.7168926590782941,
          0
         ],
         "xaxis": "x",
         "y": [
          -69.6875,
          -69.6875,
          -105,
          -105
         ],
         "yaxis": "y"
        },
        {
         "hoverinfo": "text",
         "marker": {
          "color": "rgb(61,153,112)"
         },
         "mode": "lines",
         "type": "scatter",
         "x": [
          0.782191623138957,
          0.8133598225479437,
          0.8133598225479437,
          0.7168926590782941
         ],
         "xaxis": "x",
         "y": [
          -17.5,
          -17.5,
          -87.34375,
          -87.34375
         ],
         "yaxis": "y"
        },
        {
         "hoverinfo": "text",
         "marker": {
          "color": "rgb(61,153,112)"
         },
         "mode": "lines",
         "type": "scatter",
         "x": [
          0,
          0.4147949104296298,
          0.4147949104296298,
          0
         ],
         "xaxis": "x",
         "y": [
          -125,
          -125,
          -135,
          -135
         ],
         "yaxis": "y"
        },
        {
         "hoverinfo": "text",
         "marker": {
          "color": "rgb(61,153,112)"
         },
         "mode": "lines",
         "type": "scatter",
         "x": [
          0,
          0.6715955522001963,
          0.6715955522001963,
          0.4147949104296298
         ],
         "xaxis": "x",
         "y": [
          -115,
          -115,
          -130,
          -130
         ],
         "yaxis": "y"
        },
        {
         "hoverinfo": "text",
         "marker": {
          "color": "rgb(61,153,112)"
         },
         "mode": "lines",
         "type": "scatter",
         "x": [
          0.6715955522001963,
          0.8212887832841274,
          0.8212887832841274,
          0
         ],
         "xaxis": "x",
         "y": [
          -122.5,
          -122.5,
          -145,
          -145
         ],
         "yaxis": "y"
        },
        {
         "hoverinfo": "text",
         "marker": {
          "color": "rgb(61,153,112)"
         },
         "mode": "lines",
         "type": "scatter",
         "x": [
          0.8133598225479437,
          0.9241016126090494,
          0.9241016126090494,
          0.8212887832841274
         ],
         "xaxis": "x",
         "y": [
          -52.421875,
          -52.421875,
          -133.75,
          -133.75
         ],
         "yaxis": "y"
        }
       ],
       "layout": {
        "autosize": false,
        "height": 425,
        "hoverlabel": {
         "bgcolor": "white",
         "font": {
          "family": "Rockwell",
          "size": 16
         }
        },
        "hovermode": "closest",
        "plot_bgcolor": "#ECEFF1",
        "showlegend": false,
        "template": {
         "data": {
          "bar": [
           {
            "error_x": {
             "color": "#2a3f5f"
            },
            "error_y": {
             "color": "#2a3f5f"
            },
            "marker": {
             "line": {
              "color": "white",
              "width": 0.5
             },
             "pattern": {
              "fillmode": "overlay",
              "size": 10,
              "solidity": 0.2
             }
            },
            "type": "bar"
           }
          ],
          "barpolar": [
           {
            "marker": {
             "line": {
              "color": "white",
              "width": 0.5
             },
             "pattern": {
              "fillmode": "overlay",
              "size": 10,
              "solidity": 0.2
             }
            },
            "type": "barpolar"
           }
          ],
          "carpet": [
           {
            "aaxis": {
             "endlinecolor": "#2a3f5f",
             "gridcolor": "#C8D4E3",
             "linecolor": "#C8D4E3",
             "minorgridcolor": "#C8D4E3",
             "startlinecolor": "#2a3f5f"
            },
            "baxis": {
             "endlinecolor": "#2a3f5f",
             "gridcolor": "#C8D4E3",
             "linecolor": "#C8D4E3",
             "minorgridcolor": "#C8D4E3",
             "startlinecolor": "#2a3f5f"
            },
            "type": "carpet"
           }
          ],
          "choropleth": [
           {
            "colorbar": {
             "outlinewidth": 0,
             "ticks": ""
            },
            "type": "choropleth"
           }
          ],
          "contour": [
           {
            "colorbar": {
             "outlinewidth": 0,
             "ticks": ""
            },
            "colorscale": [
             [
              0,
              "#0d0887"
             ],
             [
              0.1111111111111111,
              "#46039f"
             ],
             [
              0.2222222222222222,
              "#7201a8"
             ],
             [
              0.3333333333333333,
              "#9c179e"
             ],
             [
              0.4444444444444444,
              "#bd3786"
             ],
             [
              0.5555555555555556,
              "#d8576b"
             ],
             [
              0.6666666666666666,
              "#ed7953"
             ],
             [
              0.7777777777777778,
              "#fb9f3a"
             ],
             [
              0.8888888888888888,
              "#fdca26"
             ],
             [
              1,
              "#f0f921"
             ]
            ],
            "type": "contour"
           }
          ],
          "contourcarpet": [
           {
            "colorbar": {
             "outlinewidth": 0,
             "ticks": ""
            },
            "type": "contourcarpet"
           }
          ],
          "heatmap": [
           {
            "colorbar": {
             "outlinewidth": 0,
             "ticks": ""
            },
            "colorscale": [
             [
              0,
              "#0d0887"
             ],
             [
              0.1111111111111111,
              "#46039f"
             ],
             [
              0.2222222222222222,
              "#7201a8"
             ],
             [
              0.3333333333333333,
              "#9c179e"
             ],
             [
              0.4444444444444444,
              "#bd3786"
             ],
             [
              0.5555555555555556,
              "#d8576b"
             ],
             [
              0.6666666666666666,
              "#ed7953"
             ],
             [
              0.7777777777777778,
              "#fb9f3a"
             ],
             [
              0.8888888888888888,
              "#fdca26"
             ],
             [
              1,
              "#f0f921"
             ]
            ],
            "type": "heatmap"
           }
          ],
          "heatmapgl": [
           {
            "colorbar": {
             "outlinewidth": 0,
             "ticks": ""
            },
            "colorscale": [
             [
              0,
              "#0d0887"
             ],
             [
              0.1111111111111111,
              "#46039f"
             ],
             [
              0.2222222222222222,
              "#7201a8"
             ],
             [
              0.3333333333333333,
              "#9c179e"
             ],
             [
              0.4444444444444444,
              "#bd3786"
             ],
             [
              0.5555555555555556,
              "#d8576b"
             ],
             [
              0.6666666666666666,
              "#ed7953"
             ],
             [
              0.7777777777777778,
              "#fb9f3a"
             ],
             [
              0.8888888888888888,
              "#fdca26"
             ],
             [
              1,
              "#f0f921"
             ]
            ],
            "type": "heatmapgl"
           }
          ],
          "histogram": [
           {
            "marker": {
             "pattern": {
              "fillmode": "overlay",
              "size": 10,
              "solidity": 0.2
             }
            },
            "type": "histogram"
           }
          ],
          "histogram2d": [
           {
            "colorbar": {
             "outlinewidth": 0,
             "ticks": ""
            },
            "colorscale": [
             [
              0,
              "#0d0887"
             ],
             [
              0.1111111111111111,
              "#46039f"
             ],
             [
              0.2222222222222222,
              "#7201a8"
             ],
             [
              0.3333333333333333,
              "#9c179e"
             ],
             [
              0.4444444444444444,
              "#bd3786"
             ],
             [
              0.5555555555555556,
              "#d8576b"
             ],
             [
              0.6666666666666666,
              "#ed7953"
             ],
             [
              0.7777777777777778,
              "#fb9f3a"
             ],
             [
              0.8888888888888888,
              "#fdca26"
             ],
             [
              1,
              "#f0f921"
             ]
            ],
            "type": "histogram2d"
           }
          ],
          "histogram2dcontour": [
           {
            "colorbar": {
             "outlinewidth": 0,
             "ticks": ""
            },
            "colorscale": [
             [
              0,
              "#0d0887"
             ],
             [
              0.1111111111111111,
              "#46039f"
             ],
             [
              0.2222222222222222,
              "#7201a8"
             ],
             [
              0.3333333333333333,
              "#9c179e"
             ],
             [
              0.4444444444444444,
              "#bd3786"
             ],
             [
              0.5555555555555556,
              "#d8576b"
             ],
             [
              0.6666666666666666,
              "#ed7953"
             ],
             [
              0.7777777777777778,
              "#fb9f3a"
             ],
             [
              0.8888888888888888,
              "#fdca26"
             ],
             [
              1,
              "#f0f921"
             ]
            ],
            "type": "histogram2dcontour"
           }
          ],
          "mesh3d": [
           {
            "colorbar": {
             "outlinewidth": 0,
             "ticks": ""
            },
            "type": "mesh3d"
           }
          ],
          "parcoords": [
           {
            "line": {
             "colorbar": {
              "outlinewidth": 0,
              "ticks": ""
             }
            },
            "type": "parcoords"
           }
          ],
          "pie": [
           {
            "automargin": true,
            "type": "pie"
           }
          ],
          "scatter": [
           {
            "fillpattern": {
             "fillmode": "overlay",
             "size": 10,
             "solidity": 0.2
            },
            "type": "scatter"
           }
          ],
          "scatter3d": [
           {
            "line": {
             "colorbar": {
              "outlinewidth": 0,
              "ticks": ""
             }
            },
            "marker": {
             "colorbar": {
              "outlinewidth": 0,
              "ticks": ""
             }
            },
            "type": "scatter3d"
           }
          ],
          "scattercarpet": [
           {
            "marker": {
             "colorbar": {
              "outlinewidth": 0,
              "ticks": ""
             }
            },
            "type": "scattercarpet"
           }
          ],
          "scattergeo": [
           {
            "marker": {
             "colorbar": {
              "outlinewidth": 0,
              "ticks": ""
             }
            },
            "type": "scattergeo"
           }
          ],
          "scattergl": [
           {
            "marker": {
             "colorbar": {
              "outlinewidth": 0,
              "ticks": ""
             }
            },
            "type": "scattergl"
           }
          ],
          "scattermapbox": [
           {
            "marker": {
             "colorbar": {
              "outlinewidth": 0,
              "ticks": ""
             }
            },
            "type": "scattermapbox"
           }
          ],
          "scatterpolar": [
           {
            "marker": {
             "colorbar": {
              "outlinewidth": 0,
              "ticks": ""
             }
            },
            "type": "scatterpolar"
           }
          ],
          "scatterpolargl": [
           {
            "marker": {
             "colorbar": {
              "outlinewidth": 0,
              "ticks": ""
             }
            },
            "type": "scatterpolargl"
           }
          ],
          "scatterternary": [
           {
            "marker": {
             "colorbar": {
              "outlinewidth": 0,
              "ticks": ""
             }
            },
            "type": "scatterternary"
           }
          ],
          "surface": [
           {
            "colorbar": {
             "outlinewidth": 0,
             "ticks": ""
            },
            "colorscale": [
             [
              0,
              "#0d0887"
             ],
             [
              0.1111111111111111,
              "#46039f"
             ],
             [
              0.2222222222222222,
              "#7201a8"
             ],
             [
              0.3333333333333333,
              "#9c179e"
             ],
             [
              0.4444444444444444,
              "#bd3786"
             ],
             [
              0.5555555555555556,
              "#d8576b"
             ],
             [
              0.6666666666666666,
              "#ed7953"
             ],
             [
              0.7777777777777778,
              "#fb9f3a"
             ],
             [
              0.8888888888888888,
              "#fdca26"
             ],
             [
              1,
              "#f0f921"
             ]
            ],
            "type": "surface"
           }
          ],
          "table": [
           {
            "cells": {
             "fill": {
              "color": "#EBF0F8"
             },
             "line": {
              "color": "white"
             }
            },
            "header": {
             "fill": {
              "color": "#C8D4E3"
             },
             "line": {
              "color": "white"
             }
            },
            "type": "table"
           }
          ]
         },
         "layout": {
          "annotationdefaults": {
           "arrowcolor": "#2a3f5f",
           "arrowhead": 0,
           "arrowwidth": 1
          },
          "autotypenumbers": "strict",
          "coloraxis": {
           "colorbar": {
            "outlinewidth": 0,
            "ticks": ""
           }
          },
          "colorscale": {
           "diverging": [
            [
             0,
             "#8e0152"
            ],
            [
             0.1,
             "#c51b7d"
            ],
            [
             0.2,
             "#de77ae"
            ],
            [
             0.3,
             "#f1b6da"
            ],
            [
             0.4,
             "#fde0ef"
            ],
            [
             0.5,
             "#f7f7f7"
            ],
            [
             0.6,
             "#e6f5d0"
            ],
            [
             0.7,
             "#b8e186"
            ],
            [
             0.8,
             "#7fbc41"
            ],
            [
             0.9,
             "#4d9221"
            ],
            [
             1,
             "#276419"
            ]
           ],
           "sequential": [
            [
             0,
             "#0d0887"
            ],
            [
             0.1111111111111111,
             "#46039f"
            ],
            [
             0.2222222222222222,
             "#7201a8"
            ],
            [
             0.3333333333333333,
             "#9c179e"
            ],
            [
             0.4444444444444444,
             "#bd3786"
            ],
            [
             0.5555555555555556,
             "#d8576b"
            ],
            [
             0.6666666666666666,
             "#ed7953"
            ],
            [
             0.7777777777777778,
             "#fb9f3a"
            ],
            [
             0.8888888888888888,
             "#fdca26"
            ],
            [
             1,
             "#f0f921"
            ]
           ],
           "sequentialminus": [
            [
             0,
             "#0d0887"
            ],
            [
             0.1111111111111111,
             "#46039f"
            ],
            [
             0.2222222222222222,
             "#7201a8"
            ],
            [
             0.3333333333333333,
             "#9c179e"
            ],
            [
             0.4444444444444444,
             "#bd3786"
            ],
            [
             0.5555555555555556,
             "#d8576b"
            ],
            [
             0.6666666666666666,
             "#ed7953"
            ],
            [
             0.7777777777777778,
             "#fb9f3a"
            ],
            [
             0.8888888888888888,
             "#fdca26"
            ],
            [
             1,
             "#f0f921"
            ]
           ]
          },
          "colorway": [
           "#636efa",
           "#EF553B",
           "#00cc96",
           "#ab63fa",
           "#FFA15A",
           "#19d3f3",
           "#FF6692",
           "#B6E880",
           "#FF97FF",
           "#FECB52"
          ],
          "font": {
           "color": "#2a3f5f"
          },
          "geo": {
           "bgcolor": "white",
           "lakecolor": "white",
           "landcolor": "white",
           "showlakes": true,
           "showland": true,
           "subunitcolor": "#C8D4E3"
          },
          "hoverlabel": {
           "align": "left"
          },
          "hovermode": "closest",
          "mapbox": {
           "style": "light"
          },
          "paper_bgcolor": "white",
          "plot_bgcolor": "white",
          "polar": {
           "angularaxis": {
            "gridcolor": "#EBF0F8",
            "linecolor": "#EBF0F8",
            "ticks": ""
           },
           "bgcolor": "white",
           "radialaxis": {
            "gridcolor": "#EBF0F8",
            "linecolor": "#EBF0F8",
            "ticks": ""
           }
          },
          "scene": {
           "xaxis": {
            "backgroundcolor": "white",
            "gridcolor": "#DFE8F3",
            "gridwidth": 2,
            "linecolor": "#EBF0F8",
            "showbackground": true,
            "ticks": "",
            "zerolinecolor": "#EBF0F8"
           },
           "yaxis": {
            "backgroundcolor": "white",
            "gridcolor": "#DFE8F3",
            "gridwidth": 2,
            "linecolor": "#EBF0F8",
            "showbackground": true,
            "ticks": "",
            "zerolinecolor": "#EBF0F8"
           },
           "zaxis": {
            "backgroundcolor": "white",
            "gridcolor": "#DFE8F3",
            "gridwidth": 2,
            "linecolor": "#EBF0F8",
            "showbackground": true,
            "ticks": "",
            "zerolinecolor": "#EBF0F8"
           }
          },
          "shapedefaults": {
           "line": {
            "color": "#2a3f5f"
           }
          },
          "ternary": {
           "aaxis": {
            "gridcolor": "#DFE8F3",
            "linecolor": "#A2B1C6",
            "ticks": ""
           },
           "baxis": {
            "gridcolor": "#DFE8F3",
            "linecolor": "#A2B1C6",
            "ticks": ""
           },
           "bgcolor": "white",
           "caxis": {
            "gridcolor": "#DFE8F3",
            "linecolor": "#A2B1C6",
            "ticks": ""
           }
          },
          "title": {
           "x": 0.05
          },
          "xaxis": {
           "automargin": true,
           "gridcolor": "#EBF0F8",
           "linecolor": "#EBF0F8",
           "ticks": "",
           "title": {
            "standoff": 15
           },
           "zerolinecolor": "#EBF0F8",
           "zerolinewidth": 2
          },
          "yaxis": {
           "automargin": true,
           "gridcolor": "#EBF0F8",
           "linecolor": "#EBF0F8",
           "ticks": "",
           "title": {
            "standoff": 15
           },
           "zerolinecolor": "#EBF0F8",
           "zerolinewidth": 2
          }
         }
        },
        "title": {
         "font": {
          "color": "Black",
          "size": 22
         },
         "text": "<b>Hierarchical Clustering</b>",
         "x": 0.5,
         "xanchor": "center",
         "yanchor": "top"
        },
        "width": 1000,
        "xaxis": {
         "mirror": "allticks",
         "rangemode": "tozero",
         "showgrid": false,
         "showline": true,
         "showticklabels": true,
         "ticks": "outside",
         "type": "linear",
         "zeroline": false
        },
        "yaxis": {
         "mirror": "allticks",
         "range": [
          -150,
          0
         ],
         "rangemode": "tozero",
         "showgrid": false,
         "showline": true,
         "showticklabels": true,
         "tickmode": "array",
         "ticks": "outside",
         "ticktext": [
          "12_webex_meeting_the",
          "8_demo_the_demos",
          "9_pair_programming_code",
          "6_slides_presentation_slide",
          "3_person_help_you",
          "5_problem_it_the",
          "1_look_take_me",
          "11_spreadsheet_look_take",
          "4_test_testing_tests",
          "2_jsp_java_the",
          "7_bugzilla_bugs_bug",
          "13_installing_need_installa...",
          "0_let_if_know",
          "10_changes_change_let",
          "14_siebel_client_select"
         ],
         "tickvals": [
          -5,
          -15,
          -25,
          -35,
          -45,
          -55,
          -65,
          -75,
          -85,
          -95,
          -105,
          -115,
          -125,
          -135,
          -145
         ],
         "type": "linear",
         "zeroline": false
        }
       }
      }
     },
     "metadata": {},
     "output_type": "display_data"
    }
   ],
   "source": [
    "topic_model.visualize_hierarchy(custom_labels=False)"
   ]
  },
  {
   "cell_type": "code",
   "execution_count": 1121,
   "metadata": {},
   "outputs": [
    {
     "name": "stderr",
     "output_type": "stream",
     "text": [
      "2024-11-06 17:34:41,016 - BERTopic - WARNING: When you use `pickle` to save/load a BERTopic model,please make sure that the environments in which you saveand load the model are **exactly** the same. The version of BERTopic,its dependencies, and python need to remain the same.\n"
     ]
    }
   ],
   "source": [
    "topic_model.save(\"../../../data/bertopic_models/intents/02_call/call_final\")"
   ]
  },
  {
   "cell_type": "markdown",
   "metadata": {},
   "source": [
    "### Create Dataset for intent 'help'"
   ]
  },
  {
   "cell_type": "markdown",
   "metadata": {},
   "source": [
    "####  Labels"
   ]
  },
  {
   "cell_type": "markdown",
   "metadata": {},
   "source": [
    "Created custom labels for topics\n",
    "\n",
    "| Label                             | Description                                       | Extraction Strings | Context needed |\n",
    "|-----------------------------------|---------------------------------------------------|--------------------|----------------|\n",
    "| '0_offer_help',\n",
    "| '1_request_help',\n",
    "| '2_jsp_java_code',\n",
    "| '3_refer_help',\n",
    "| '4_person_help_out_you',\n",
    "| '5_it_problems',"
   ]
  },
  {
   "cell_type": "markdown",
   "metadata": {},
   "source": [
    "#### Inspecting Topics"
   ]
  },
  {
   "cell_type": "code",
   "execution_count": 1672,
   "metadata": {},
   "outputs": [
    {
     "data": {
      "text/plain": [
       "'\\nfor  label in topic_model.custom_labels_:\\n   print(label)'"
      ]
     },
     "execution_count": 1672,
     "metadata": {},
     "output_type": "execute_result"
    }
   ],
   "source": [
    "'''\n",
    "for  label in topic_model.custom_labels_:\n",
    "   print(label)'''"
   ]
  },
  {
   "cell_type": "code",
   "execution_count": 3,
   "metadata": {},
   "outputs": [],
   "source": [
    "topic_model = BERTopic.load(\"../../data/bertopic_models/processed/send_final\")"
   ]
  },
  {
   "cell_type": "code",
   "execution_count": 758,
   "metadata": {},
   "outputs": [
    {
     "name": "stdout",
     "output_type": "stream",
     "text": [
      "Number of Documents: 106\n",
      "\n",
      "I also think that we will need help from [PERSON] on fixing some of the bugs which are filed by [PERSON] and hard to reproduce at [LOCATION] [LOCATION] .\n",
      "Micro$oft software is having problems similar to this and there have been patches made available for this problem for a couple weeks .\n",
      "Ravi ,   this is an interesting scenario , I think we have some problems with that , that needs to be fixed .\n",
      "Simple errors like this should n't require [PERSON] 's help to resolve , but she is getting pulled in to them .\n",
      "Hi Shailesh ,         Please try this patch for the project having problem .\n",
      "Clone of ' [PERSON] ' virus infects the Internet    Promising help in the mating game , a new Trojan virus similar to the \" [PERSON] \" bug is proliferating quickly across the Internet , computer security specialists cautioned this week .    - FULL STORY -    Sci - Tech index \t  -Next category- \t  - Back to top - \t      _ _ _ _ _\n",
      "We did n't have the second problem when we tested app locally , but when we   > put it on COLO , it happened .\n",
      "I too had the   similar problem and rectified that by above procedure but i do not rule out   any other better solutions .   -----\n",
      "If you could only start 1 line and only use that line ,   that would help us with debugging .\n",
      "Can you take a look and apply fixes accordingly , ASAP ?   >   >\n",
      "Issue # 4 should not be a problem , it should work as documented and I will provide help if it does n't .\n",
      "can you take a look to see what the problem is , mark ?\n",
      "[PERSON] = Internal Error : Unable to display help , report the problem to technical support .\n",
      "Hi    I would need your help to get more traces for fixing our recognition problems .\n",
      "Please take a look at this and see if you can reproduce this using the latest build .\n",
      "They have a workaround for now ; however , we might have to help them in the future .\n",
      "Steve-    Do't know where to start , I need help to pull all the resources to fix the problem , we still do n't even know whose problem is this , I ran out of ideas to fix the problem    any help out there ?\n",
      "[PERSON] ,   This should be fixed now I helped [PERSON] with his password today .\n",
      "[PERSON] ,    Thanks , uninstall and reinstalling did the trick ...   Appreciate the help .\n",
      "If you have had a chance to take a look at the project I sent and   understand the problem that I 'm having .\n"
     ]
    }
   ],
   "source": [
    "topic_id = 5\n",
    "topic_docs = inspect_topic_docs(topic_id=topic_id, n_docs=20)"
   ]
  },
  {
   "cell_type": "code",
   "execution_count": 759,
   "metadata": {},
   "outputs": [],
   "source": [
    "# Based on the inspection of the sentences\n",
    "white_list = [\n",
    "    \"\"\n",
    "]\n",
    "black_list = [\n",
    "\n",
    "]"
   ]
  },
  {
   "cell_type": "code",
   "execution_count": 760,
   "metadata": {},
   "outputs": [
    {
     "name": "stdout",
     "output_type": "stream",
     "text": [
      "Amount of sentences: 106\n"
     ]
    },
    {
     "data": {
      "text/plain": [
       "[\"My 2 cents :    - Old open bugs : Bugs can not be closed using [PERSON] 's help                            without seeing whether those bugs are relevant or not .\",\n",
       " 'have you had any problem with updating this spread sheet .',\n",
       " 'But that has not helped me in pointing out the problem on the colocation server .',\n",
       " 'Please take a look at this and see if you can reproduce this using the latest build .',\n",
       " \"We did n't have the second problem when we tested app locally , but when we put it on COLO , it happened .\",\n",
       " '[PERSON]    Can you help get some more information on this bug ?    Thanks   Srik',\n",
       " 'Also , can you have [PERSON] take a look again at the 8 purge failures   in OSA .',\n",
       " \"We did n't have the second problem when we tested app locally , but when we   > put it on COLO , it happened .\",\n",
       " \"[PERSON] ,    We may need Sreenivas ' help to reproduce bugs during weekend .\",\n",
       " 'Let us fix this then , this seems like a totally internal issue which will   help us all .',\n",
       " 'If you need some help fixing the problem , feel free to ask me .    -Jin',\n",
       " 'However we are having a problem on the configuration side of things .',\n",
       " 'I also think that we will need help from [PERSON] on fixing some of the bugs which are filed by [PERSON] and hard to reproduce at [LOCATION] [LOCATION] .',\n",
       " '[PERSON] ,   This should be fixed now I helped [PERSON] with his password today .',\n",
       " \"I need [PERSON] ' help in reproducing this bug .\",\n",
       " '[PERSON] ,    I need to help you with doing this bug report for rajeev .',\n",
       " '[PERSON] ,    Please take a look EMAS URLexception issue .',\n",
       " 'If you need our help with the fix let me know .',\n",
       " 'So this application still has problem somehow , but it should be removed .     Regards ,',\n",
       " \"If it does n't , then I may have to take [PERSON] 's help to see why it has failed and then try to resolve them .\",\n",
       " 'Your answers may help me lot to track down the problem ...    Thanks   Ashish',\n",
       " 'Could you take a look at it and add any more detail needed based on your knowlegde of the applications ( even in the details regarding the bug issue ) ?    Thanks .',\n",
       " 'I need some help reproduce this , but taking a quick look at the source , the only possible causes I can think of at the moment are :    * \\t Several iterations of a loop do not genrate any prompt , causing ECS to produce empty screens .',\n",
       " 'Hi Shailesh ,         Please try this patch for the project having problem .',\n",
       " \"If you have had a chance to take a look at the project I sent and   understand the problem that I 'm having .\",\n",
       " 'Can you take a look and apply fixes accordingly , ASAP ?   >   >',\n",
       " 'hi , Srik :    I have updated the doc with all the issues mentioned in your email , please take a look and then I will check in .',\n",
       " 'Can you take a look at this and see if you can make any progress or further able to analyze the problem ?',\n",
       " '[PERSON] , we need your help in getting a resolution to this bug / enhancement as soon as possible .',\n",
       " 'Also please mention which page in the project has this problem .',\n",
       " 'Can you please take a look at it and let [PERSON] now if it is in error so that it can be update .',\n",
       " '[PERSON] seems to be having problems with the filter because it does not show in the queries .',\n",
       " 'I too had the   similar problem and rectified that by above procedure but i do not rule out   any other better solutions .   -----',\n",
       " \"we have a problem reported from Werner(germany ) where we do n't have much expertise .\",\n",
       " 'Once you start using Globalrez please let me know if you have any problems with Globalrez or profile update .',\n",
       " 'If you got those problems again , could you please do a capture screen , and save it so I can take a look at it later .',\n",
       " '1 ) Helped Edward for bug 6294 , profileProperty BC download    For [PERSON] [PERSON]   1 ) Completed upload test cases for MVG based Parent - child .   2 ) Multiple parent download test case tested .',\n",
       " \"I 'll take a close look over the next few days and maybe we can review it in   depth -- I may have an issue or two or something I 'd suggest changing ..    [PERSON] [PERSON] [PERSON]   [PERSON] [PERSON]   ( x732 )                      dave.truman@sitraka.com    Technical Publications , Mobility         4162002292@txt.bellmobility.ca                  http://iwww.sitraka.com/mobility/rd/pubs/   _ _ _ _ _ _ _ _ _ _ _ _ _ _ _ _ _ _ _ _ _ _ _ _ _ _ _ _ _ _ _ _ _ _ _ _ _ _ _ _ _ _ _ _ _ _ _ _ _ _ _ _ _ _ _ _ _ _ _ _ _ _ _ _ _ _ _ _ _ _ _   /\",\n",
       " 'Also , try entering bad numbers to handle the possilbe error messages for Both 1 and 2 .    Thanks and please let me know if you have any questions .',\n",
       " \"The [PERSON] team needs the offline team 's help regarding bug 3863 .\",\n",
       " 'As I said , please let me know if you have any problems with [PERSON] 7.0.3 .',\n",
       " 'I have a question , are you aware of a virus called [PERSON] and have you placed a patch on your server for it ?',\n",
       " 'Do let me know in case you need any help to reproduce this problem .',\n",
       " 'Unfortunantely , [PERSON] will not be able to take a look at this issue right now , so I will try to see if someone else can help .',\n",
       " 'Please take a look at bug 3880 and fix it .',\n",
       " 'Hi [PERSON] [PERSON] [PERSON] this bug causes intermittent failures in the functional suite -   can someone take a look at it - it seems to be frequent   enough that we need to have it fixed .',\n",
       " \"We would like your group 's help in identifying this problem asap .\",\n",
       " \"I restarted and brought the t1 down then up and it did n't help anything .\",\n",
       " 'Hi ,     > I will ( shortly ) be able to help you with this issue , as well as   > several others .',\n",
       " 'Could you please take a look and tell me when it is fixed .',\n",
       " \"The status of the Sever Config doc so far is that I have it 's back broken , need some more help with one or two things .\",\n",
       " '[PERSON] ,    Thanks , uninstall and reinstalling did the trick ...   Appreciate the help .',\n",
       " 'Not sure why this is an issue ?    [PERSON] if you need help with this then contact [PERSON] .',\n",
       " \"Simple errors like this should n't require [PERSON] 's help to resolve , but she is getting pulled in to them .\",\n",
       " 'The errors have continued all weekend ?    Can you take a look at it or is it ?',\n",
       " 'thanks [PERSON] [PERSON] [PERSON] Can you log a bug for the memory usage and have someone ( [PERSON] [PERSON] [PERSON] )   take a look at it .',\n",
       " 'Please take a look at my comment below in the debugging part .',\n",
       " 'We have implemented a solution that should help this situation .',\n",
       " 'Perhaps this will help someone to recoginize the problem .',\n",
       " 'Do we have the [PERSON] to help us out debugging this problem . ?',\n",
       " 'Can somebody help me understand what happened ?    [PERSON] [PERSON]   Senior Software Engineer / GUI Gal   408 - 562 - 7977',\n",
       " 'Please try again.\\\\n \" ;           goto get_user_input ;       }    I noticed the label / goto is basically just a way to do inline function   declarations , and remembered yet another alternative :    int   getChoice ( ) {       int x = [PERSON] ( ) ;        if ( isInRange(x ) )           return x ;        outputErrorMessage ( ) ;        return [PERSON] ( ) ;   }    I think that reads perfectly , but it has the one problem of stack   overflow .',\n",
       " '[PERSON] = Internal Error : Unable to display help , report the problem to technical support .',\n",
       " 'please take a look   at your own bug list to fix some of the problems assigned to you .',\n",
       " 'can you take a look to see what the problem is , mark ?',\n",
       " 'Hope that helps trouble shoot the problem .',\n",
       " 'Thanks to [PERSON] for helping me out to troubleshoot this project .',\n",
       " 'Can you take a   look to see if you can replicate the failure ?    Thanks ,   Joe    >',\n",
       " 'Hi Babe ,    I saw [PERSON] and [PERSON] speak at DCI tradeshow - it went pretty well but had a tech   problem at the end ( I eventually fixed it for [PERSON] ( user error ) ) .',\n",
       " 'Can you take a look at the bugs and   > check if my assumption / assertion is correct .',\n",
       " \"[PERSON] used to give me an iPlanet 4.1 with higher SP # , which does n't have this problem .\",\n",
       " 'It still needs some work and the TOC has some problems because I changed the tags but I will fix them tomorrow .',\n",
       " 'They have a workaround for now ; however , we might have to help them in the future .',\n",
       " \"He might need [PERSON] 's help to verify the bug fix .\",\n",
       " '[PERSON] ,     Have you taken a look at the code that [PERSON] claims to fix the problem ?',\n",
       " \"I will need [PERSON] ' help on many of the bugs reported on synchronization .\",\n",
       " 'You will need to update your bugs and please take a look at the following bug :    http://bugzilla / bugzilla / show_bug.cgi?id=3159    Thanks .',\n",
       " 'so please take a look at what needs to be fixed & please start working on it .',\n",
       " \"please get anyone 's help in fixing them .\",\n",
       " 'This will help us in analyzing the problem and maybe even fix it .',\n",
       " '[PERSON] ,    [PERSON] [PERSON] , below , is the person with the weird database error that you helped us with -- read his comments below .',\n",
       " \"I appreciate your help , and hopefully they 'll be able to figure out   a solution .\",\n",
       " \"I 've spoken to [PERSON] a couple of times now ( to get help with disinfecting ws_mobility_1 ) ..\",\n",
       " 'If you could only   start 1 line and only use that line , that would help us with debugging .',\n",
       " \"Issue # 4 should not be a problem , it should work as documented and I will provide help if it does n't .\",\n",
       " '[PERSON] took a look a the problem a couple of times , but tonight he can not provide me with a fix .',\n",
       " 'it is version 2.11 so could that be the problem ?   >   > thanks in advance and hope that helps [PERSON] [PERSON] [PERSON]   > cheers ,   > j   >',\n",
       " 'I rebooted my PC ( I thought we did that when you helped me last ) and now it   seems to be working ...',\n",
       " 'Support wrote :    Hello -    We would really like to help you on this issue - we can only do this with a reproducible test case defining the bug .',\n",
       " \"Steve-    Do't know where to start , I need help to pull all the resources to fix the problem , we still do n't even know whose problem is this , I ran out of ideas to fix the problem    any help out there ?\",\n",
       " 'Please let me know if you would be able to take a look at it and possibly fix it .',\n",
       " 'Please click on the attachment below to take a look at the latest issue .',\n",
       " '[PERSON]    Please let me know if you have any problems with this build .',\n",
       " 'As of now the bug count is 10 :   \\t 8 with [PERSON]  \\t 1 with [PERSON]  \\t 1 with Rajdeep    Diva ,    If you need any help from [LOCATION] [LOCATION] please let [PERSON] know .',\n",
       " 'Hi    I would need your help to get more traces for fixing our recognition problems .',\n",
       " 'Could you please try with ECS 2.5 GA server and see if you still have the same problem .',\n",
       " 'Clone of \\' [PERSON] \\' virus infects the Internet    Promising help in the mating game , a new Trojan virus similar to the \" [PERSON] \" bug is proliferating quickly across the Internet , computer security specialists cautioned this week .    - FULL STORY -    Sci - Tech index \\t  -Next category- \\t  - Back to top - \\t      _ _ _ _ _',\n",
       " 'Micro$oft software is having problems similar to this and there have been patches made available for this problem for a couple weeks .',\n",
       " 'We appreciate any help you can provide on this problem that seems to be intermittent .',\n",
       " 'Somehow things got switched around ... take a look at the version that I have attached .',\n",
       " 'Ravi ,   this is an interesting scenario , I think we have some problems with that , that needs to be fixed .',\n",
       " \"[PERSON] is having some problems with the LC2000 which gives me some time to work on the QA 's problem .\",\n",
       " \"So I 'll try my best to fix the problems on this machine , but I ca n't do everything from here so at some point I will need your help .\",\n",
       " \"[PERSON]    does this have the changes [PERSON] was talking about ; if so , then we still have a problem   w/ siebel server 's memory usage being 1.79 G !    [PERSON] , any thoughts ?\",\n",
       " 'This worked until a couple of weeks ago .    HELP !',\n",
       " 'If you could only start 1 line and only use that line ,   that would help us with debugging .']"
      ]
     },
     "execution_count": 760,
     "metadata": {},
     "output_type": "execute_result"
    }
   ],
   "source": [
    "sents_to_keep, sents_to_discard = filter_topic_documents(topic_docs=topic_docs, white_list=white_list, black_list=black_list)\n",
    "sents_to_keep"
   ]
  },
  {
   "cell_type": "code",
   "execution_count": 761,
   "metadata": {},
   "outputs": [
    {
     "data": {
      "text/plain": [
       "[]"
      ]
     },
     "execution_count": 761,
     "metadata": {},
     "output_type": "execute_result"
    }
   ],
   "source": [
    "sents_to_discard"
   ]
  },
  {
   "cell_type": "code",
   "execution_count": 762,
   "metadata": {},
   "outputs": [
    {
     "data": {
      "text/html": [
       "<div>\n",
       "<style scoped>\n",
       "    .dataframe tbody tr th:only-of-type {\n",
       "        vertical-align: middle;\n",
       "    }\n",
       "\n",
       "    .dataframe tbody tr th {\n",
       "        vertical-align: top;\n",
       "    }\n",
       "\n",
       "    .dataframe thead th {\n",
       "        text-align: right;\n",
       "    }\n",
       "</style>\n",
       "<table border=\"1\" class=\"dataframe\">\n",
       "  <thead>\n",
       "    <tr style=\"text-align: right;\">\n",
       "      <th></th>\n",
       "      <th>text</th>\n",
       "      <th>label</th>\n",
       "    </tr>\n",
       "  </thead>\n",
       "  <tbody>\n",
       "    <tr>\n",
       "      <th>0</th>\n",
       "      <td>Please let me   know if you have any questions .</td>\n",
       "      <td>offer_help</td>\n",
       "    </tr>\n",
       "    <tr>\n",
       "      <th>1</th>\n",
       "      <td>( [PERSON] )    If you have questions , please...</td>\n",
       "      <td>offer_help</td>\n",
       "    </tr>\n",
       "    <tr>\n",
       "      <th>2</th>\n",
       "      <td>&gt;   &gt; Please let me know if you have any quest...</td>\n",
       "      <td>offer_help</td>\n",
       "    </tr>\n",
       "    <tr>\n",
       "      <th>3</th>\n",
       "      <td>If you have any   questions , please do not he...</td>\n",
       "      <td>offer_help</td>\n",
       "    </tr>\n",
       "    <tr>\n",
       "      <th>4</th>\n",
       "      <td>Please let me know if this helps and if you ha...</td>\n",
       "      <td>offer_help</td>\n",
       "    </tr>\n",
       "    <tr>\n",
       "      <th>...</th>\n",
       "      <td>...</td>\n",
       "      <td>...</td>\n",
       "    </tr>\n",
       "    <tr>\n",
       "      <th>987</th>\n",
       "      <td>[PERSON] is having some problems with the LC20...</td>\n",
       "      <td>it_problems</td>\n",
       "    </tr>\n",
       "    <tr>\n",
       "      <th>988</th>\n",
       "      <td>So I 'll try my best to fix the problems on th...</td>\n",
       "      <td>it_problems</td>\n",
       "    </tr>\n",
       "    <tr>\n",
       "      <th>989</th>\n",
       "      <td>[PERSON]    does this have the changes [PERSON...</td>\n",
       "      <td>it_problems</td>\n",
       "    </tr>\n",
       "    <tr>\n",
       "      <th>990</th>\n",
       "      <td>This worked until a couple of weeks ago .    H...</td>\n",
       "      <td>it_problems</td>\n",
       "    </tr>\n",
       "    <tr>\n",
       "      <th>991</th>\n",
       "      <td>If you could only start 1 line and only use th...</td>\n",
       "      <td>it_problems</td>\n",
       "    </tr>\n",
       "  </tbody>\n",
       "</table>\n",
       "<p>992 rows × 2 columns</p>\n",
       "</div>"
      ],
      "text/plain": [
       "                                                  text        label\n",
       "0     Please let me   know if you have any questions .   offer_help\n",
       "1    ( [PERSON] )    If you have questions , please...   offer_help\n",
       "2    >   > Please let me know if you have any quest...   offer_help\n",
       "3    If you have any   questions , please do not he...   offer_help\n",
       "4    Please let me know if this helps and if you ha...   offer_help\n",
       "..                                                 ...          ...\n",
       "987  [PERSON] is having some problems with the LC20...  it_problems\n",
       "988  So I 'll try my best to fix the problems on th...  it_problems\n",
       "989  [PERSON]    does this have the changes [PERSON...  it_problems\n",
       "990  This worked until a couple of weeks ago .    H...  it_problems\n",
       "991  If you could only start 1 line and only use th...  it_problems\n",
       "\n",
       "[992 rows x 2 columns]"
      ]
     },
     "execution_count": 762,
     "metadata": {},
     "output_type": "execute_result"
    }
   ],
   "source": [
    "fp = \"../../../data/labeled/help.tsv\"\n",
    "df = pd.DataFrame({\"text\": sents_to_keep, \"label\": get_label_from_topic_nr(topic_id)})\n",
    "concat_to_df(df, filepath=fp, overwrite=False)"
   ]
  },
  {
   "cell_type": "code",
   "execution_count": 1223,
   "metadata": {},
   "outputs": [
    {
     "data": {
      "text/html": [
       "<div>\n",
       "<style scoped>\n",
       "    .dataframe tbody tr th:only-of-type {\n",
       "        vertical-align: middle;\n",
       "    }\n",
       "\n",
       "    .dataframe tbody tr th {\n",
       "        vertical-align: top;\n",
       "    }\n",
       "\n",
       "    .dataframe thead th {\n",
       "        text-align: right;\n",
       "    }\n",
       "</style>\n",
       "<table border=\"1\" class=\"dataframe\">\n",
       "  <thead>\n",
       "    <tr style=\"text-align: right;\">\n",
       "      <th></th>\n",
       "      <th>text</th>\n",
       "      <th>label</th>\n",
       "    </tr>\n",
       "  </thead>\n",
       "  <tbody>\n",
       "    <tr>\n",
       "      <th>0</th>\n",
       "      <td>Once you have had a chance to review and if yo...</td>\n",
       "      <td>call_because_of_changes</td>\n",
       "    </tr>\n",
       "    <tr>\n",
       "      <th>1</th>\n",
       "      <td>All the changes are in TradingHistoryForm.aml ...</td>\n",
       "      <td>call_because_of_changes</td>\n",
       "    </tr>\n",
       "    <tr>\n",
       "      <th>2</th>\n",
       "      <td>Please give me a call if you have any question...</td>\n",
       "      <td>call_because_of_changes</td>\n",
       "    </tr>\n",
       "    <tr>\n",
       "      <th>3</th>\n",
       "      <td>If you 'd like to have the order changed to Di...</td>\n",
       "      <td>call_because_of_changes</td>\n",
       "    </tr>\n",
       "    <tr>\n",
       "      <th>4</th>\n",
       "      <td>blair , please review and call me asap   thank...</td>\n",
       "      <td>call_because_of_changes</td>\n",
       "    </tr>\n",
       "  </tbody>\n",
       "</table>\n",
       "</div>"
      ],
      "text/plain": [
       "                                                text                    label\n",
       "0  Once you have had a chance to review and if yo...  call_because_of_changes\n",
       "1  All the changes are in TradingHistoryForm.aml ...  call_because_of_changes\n",
       "2  Please give me a call if you have any question...  call_because_of_changes\n",
       "3  If you 'd like to have the order changed to Di...  call_because_of_changes\n",
       "4  blair , please review and call me asap   thank...  call_because_of_changes"
      ]
     },
     "execution_count": 1223,
     "metadata": {},
     "output_type": "execute_result"
    }
   ],
   "source": [
    "df.head()"
   ]
  },
  {
   "cell_type": "code",
   "execution_count": null,
   "metadata": {},
   "outputs": [],
   "source": []
  }
 ],
 "metadata": {
  "kernelspec": {
   "display_name": "ma_exp_intent",
   "language": "python",
   "name": "python3"
  },
  "language_info": {
   "codemirror_mode": {
    "name": "ipython",
    "version": 3
   },
   "file_extension": ".py",
   "mimetype": "text/x-python",
   "name": "python",
   "nbconvert_exporter": "python",
   "pygments_lexer": "ipython3",
   "version": "3.12.4"
  }
 },
 "nbformat": 4,
 "nbformat_minor": 2
}
