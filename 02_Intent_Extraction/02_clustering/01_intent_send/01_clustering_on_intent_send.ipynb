{
 "cells": [
  {
   "cell_type": "markdown",
   "metadata": {},
   "source": [
    "# Hierarchical Clustering on Target Sentences\n",
    "to help deriving a taxonomy for intents, hierarchical clustering is being leveraged."
   ]
  },
  {
   "cell_type": "markdown",
   "metadata": {},
   "source": [
    "#### Functions"
   ]
  },
  {
   "cell_type": "code",
   "execution_count": null,
   "metadata": {},
   "outputs": [],
   "source": [
    "def inspect_topic(topic_nr):\n",
    "    top_words = topic_model.get_topic(topic_nr)\n",
    "    print(\"Topic: \"+str(topic_nr)+\"\\n\\nTop Words:\")\n",
    "    for word in top_words:\n",
    "        print(word[0], end=\", \")\n",
    "    print('\\n\\nRepresentative Target Sentences: ')\n",
    "    for doc in topic_model.get_topic_info().iloc[topic_nr+1]['Representative_Docs']:\n",
    "        print(doc)\n",
    "\n",
    "def create_custom_label(custom_label, topic_id):\n",
    "    custom_labels = {\n",
    "        topic_id: str(topic_id)+\"_\"+custom_label,\n",
    "    }\n",
    "    topic_model.set_topic_labels(custom_labels)\n",
    "\n",
    "# Function to retrieve custom label from topic model\n",
    "def get_label_from_topic_nr(topic_nr):\n",
    "    for label in topic_model.custom_labels_:\n",
    "        if label.startswith(str(topic_nr)):\n",
    "            label = label\n",
    "            label = re.sub(r\"^\\d+_\", \"\", label)\n",
    "            return label\n",
    "    raise Exception('Provided Topic Number has no label assigned!')\n",
    "\n",
    "# Function to inspect a topic by its number and retrieve its documents\n",
    "def inspect_topic_and_its_docs(topic_nr,n_docs=50):\n",
    "    topic_docs = list(set([doc for doc, topic in zip(docs, topic_model.topics_) if topic == topic_nr]))\n",
    "    print(\"Label: \" + get_label_from_topic_nr(topic_nr)+\"\\n\")\n",
    "    print(\"Number of sentences for label: \"+str(len(topic_docs)))\n",
    "    print('\\nSentences:\\n')\n",
    "    if len(topic_docs) < n_docs:\n",
    "        n_docs = len(topic_docs)\n",
    "    for i in range(n_docs):\n",
    "        print(topic_docs[i])\n",
    "    return topic_docs\n",
    "\n",
    "# given a list of strings, returns a list of documents that contain at least one of the strings in the given list\n",
    "def filter_topic_documents(topic_docs, white_list, black_list=[] ):\n",
    "    sentences_to_keep = []\n",
    "    for doc in topic_docs:\n",
    "        if any(substring in doc for substring in white_list):\n",
    "            sentences_to_keep.append(doc)\n",
    "    sentences_to_keep = [\n",
    "    item for item in sentences_to_keep\n",
    "        if not any(substring in item for substring in black_list)\n",
    "    ]\n",
    "    sentences_to_keep = list(set(sentences_to_keep)) # remove duplicates\n",
    "    print('Amount of sentences: '+str(len(sentences_to_keep)))\n",
    "    return sentences_to_keep\n",
    "\n",
    "# Function to facilitate the concatenation of new DFs\n",
    "def concat_to_df(new_df,filepath, overwrite=False, ):\n",
    "    try:\n",
    "        df = pd.read_csv(filepath, sep='\\t')\n",
    "    except FileNotFoundError:\n",
    "        df = pd.DataFrame(columns=[\"text\", \"label\"])\n",
    "    if new_df.iloc[0]['label'] not in df['label'].values: # Make sure that DF does not already contain entry for label\n",
    "        new_df = new_df.reset_index(drop=True)\n",
    "        df = df.reset_index(drop=True)\n",
    "        df = pd.concat([df, new_df], ignore_index=True)\n",
    "        df = df.reset_index(drop=True)\n",
    "        df = df.loc[:, ~df.columns.str.contains('^Unnamed')]\n",
    "        df.to_csv(filepath, sep='\\t')\n",
    "        return df\n",
    "    else:\n",
    "        if overwrite:\n",
    "            df = df[~df['label'].str.contains(new_df.iloc[0]['label'])]\n",
    "            df = pd.concat([df, new_df], ignore_index=True)\n",
    "            df = df.loc[:, ~df.columns.str.contains('^Unnamed')]\n",
    "            df.to_csv(\"../../data/labeled/send.tsv\", sep='\\t', index=False)\n",
    "            return df\n",
    "        else:\n",
    "            print(\"Label '\"+new_df.iloc[0]['label']+\"' already in the final DF, so it's being skipped.\")\n"
   ]
  },
  {
   "cell_type": "markdown",
   "metadata": {},
   "source": [
    "####"
   ]
  },
  {
   "cell_type": "code",
   "execution_count": 2,
   "metadata": {},
   "outputs": [],
   "source": [
    "from bertopic import BERTopic\n",
    "from scipy.cluster import hierarchy as sch\n",
    "import pandas as pd\n",
    "import logging\n",
    "from sklearn.metrics.pairwise import cosine_distances\n",
    "from tqdm import tqdm\n",
    "import numpy as np\n",
    "from umap import UMAP\n",
    "from hdbscan import HDBSCAN\n",
    "from sentence_transformers import SentenceTransformer\n",
    "import re"
   ]
  },
  {
   "cell_type": "code",
   "execution_count": 2,
   "metadata": {},
   "outputs": [],
   "source": [
    "df = pd.read_parquet('../../data/processed/intents/send.parquet', engine='fastparquet')"
   ]
  },
  {
   "cell_type": "code",
   "execution_count": 3,
   "metadata": {},
   "outputs": [],
   "source": [
    "df['target'] = df['target'].str.replace(r'\\r\\n', ' ', regex=True)\n",
    "docs = list(set(df['target'].tolist()))#[:10000]"
   ]
  },
  {
   "cell_type": "code",
   "execution_count": 4,
   "metadata": {},
   "outputs": [
    {
     "data": {
      "text/plain": [
       "32283"
      ]
     },
     "execution_count": 4,
     "metadata": {},
     "output_type": "execute_result"
    }
   ],
   "source": [
    "# Amount of unique target sentences\n",
    "len(docs)"
   ]
  },
  {
   "cell_type": "markdown",
   "metadata": {},
   "source": [
    "## Training the Model"
   ]
  },
  {
   "cell_type": "code",
   "execution_count": 5,
   "metadata": {},
   "outputs": [],
   "source": [
    "# Configure logging\n",
    "logging.basicConfig(level=logging.INFO)\n",
    "logger = logging.getLogger(\"BERTopic\")\n",
    "logger.setLevel(logging.INFO)"
   ]
  },
  {
   "cell_type": "code",
   "execution_count": 6,
   "metadata": {},
   "outputs": [
    {
     "name": "stderr",
     "output_type": "stream",
     "text": [
      "INFO:sentence_transformers.SentenceTransformer:Use pytorch device_name: mps\n",
      "INFO:sentence_transformers.SentenceTransformer:Load pretrained SentenceTransformer: all-MiniLM-L6-v2\n",
      "2024-11-01 20:15:37,269 - BERTopic - Embedding - Transforming documents to embeddings.\n",
      "Batches: 100%|██████████| 1009/1009 [00:52<00:00, 19.29it/s]\n",
      "2024-11-01 20:16:29,985 - BERTopic - Embedding - Completed ✓\n",
      "2024-11-01 20:16:29,985 - BERTopic - Dimensionality - Fitting the dimensionality reduction algorithm\n",
      "OMP: Info #276: omp_set_nested routine deprecated, please use omp_set_max_active_levels instead.\n",
      "2024-11-01 20:16:56,361 - BERTopic - Dimensionality - Completed ✓\n",
      "2024-11-01 20:16:56,362 - BERTopic - Cluster - Start clustering the reduced embeddings\n",
      "huggingface/tokenizers: The current process just got forked, after parallelism has already been used. Disabling parallelism to avoid deadlocks...\n",
      "To disable this warning, you can either:\n",
      "\t- Avoid using `tokenizers` before the fork if possible\n",
      "\t- Explicitly set the environment variable TOKENIZERS_PARALLELISM=(true | false)\n",
      "huggingface/tokenizers: The current process just got forked, after parallelism has already been used. Disabling parallelism to avoid deadlocks...\n",
      "To disable this warning, you can either:\n",
      "\t- Avoid using `tokenizers` before the fork if possible\n",
      "\t- Explicitly set the environment variable TOKENIZERS_PARALLELISM=(true | false)\n",
      "huggingface/tokenizers: The current process just got forked, after parallelism has already been used. Disabling parallelism to avoid deadlocks...\n",
      "To disable this warning, you can either:\n",
      "\t- Avoid using `tokenizers` before the fork if possible\n",
      "\t- Explicitly set the environment variable TOKENIZERS_PARALLELISM=(true | false)\n",
      "huggingface/tokenizers: The current process just got forked, after parallelism has already been used. Disabling parallelism to avoid deadlocks...\n",
      "To disable this warning, you can either:\n",
      "\t- Avoid using `tokenizers` before the fork if possible\n",
      "\t- Explicitly set the environment variable TOKENIZERS_PARALLELISM=(true | false)\n",
      "huggingface/tokenizers: The current process just got forked, after parallelism has already been used. Disabling parallelism to avoid deadlocks...\n",
      "To disable this warning, you can either:\n",
      "\t- Avoid using `tokenizers` before the fork if possible\n",
      "\t- Explicitly set the environment variable TOKENIZERS_PARALLELISM=(true | false)\n",
      "2024-11-01 20:16:58,723 - BERTopic - Cluster - Completed ✓\n",
      "2024-11-01 20:16:58,731 - BERTopic - Representation - Extracting topics from clusters using representation models.\n",
      "2024-11-01 20:16:59,198 - BERTopic - Representation - Completed ✓\n"
     ]
    }
   ],
   "source": [
    "# Initialize UMAP with a fixed random state\n",
    "random_state = 1 # Other seeds sometimes caused negative values in the distanace matrix\n",
    "\n",
    "# Set global random seeds\n",
    "np.random.seed(random_state)\n",
    "\n",
    "embedding_model = SentenceTransformer(\"all-MiniLM-L6-v2\")\n",
    "umap_model = UMAP(n_neighbors=15, n_components=5, random_state=random_state)\n",
    "hdbscan_model = HDBSCAN(min_cluster_size=10, prediction_data=True)\n",
    "\n",
    "topic_model = BERTopic(verbose=True, umap_model=umap_model, hdbscan_model=hdbscan_model, embedding_model=embedding_model)\n",
    "topics, probs = topic_model.fit_transform(docs)"
   ]
  },
  {
   "cell_type": "code",
   "execution_count": 7,
   "metadata": {},
   "outputs": [
    {
     "name": "stderr",
     "output_type": "stream",
     "text": [
      "100%|██████████| 395/395 [00:00<00:00, 538.70it/s]\n"
     ]
    }
   ],
   "source": [
    "hierarchical_topics = topic_model.hierarchical_topics(docs)"
   ]
  },
  {
   "cell_type": "code",
   "execution_count": null,
   "metadata": {},
   "outputs": [],
   "source": [
    "topic_model.save(\"../../data/bertopic_models/intent/send/send_unprocessed\")"
   ]
  },
  {
   "cell_type": "markdown",
   "metadata": {},
   "source": [
    "## Inspecting clustering results"
   ]
  },
  {
   "cell_type": "code",
   "execution_count": 7,
   "metadata": {},
   "outputs": [],
   "source": [
    "#topic_model = BERTopic.load(\"../../data/bertopic_models/send\")"
   ]
  },
  {
   "cell_type": "code",
   "execution_count": 8,
   "metadata": {},
   "outputs": [
    {
     "data": {
      "application/vnd.plotly.v1+json": {
       "config": {
        "plotlyServerURL": "https://plot.ly"
       },
       "data": [
        {
         "hoverinfo": "text",
         "marker": {
          "color": "rgb(61,153,112)"
         },
         "mode": "lines",
         "text": [
          "panoptic_dossy_computer_network_web",
          "",
          "",
          "ontosys_programming_ronald_jeffries_879"
         ],
         "type": "scatter",
         "x": [
          0,
          0.7548561712705724,
          0.7548561712705724,
          0
         ],
         "xaxis": "x",
         "y": [
          -5,
          -5,
          -15,
          -15
         ],
         "yaxis": "y"
        },
        {
         "hoverinfo": "text",
         "marker": {
          "color": "rgb(61,153,112)"
         },
         "mode": "lines",
         "text": [
          "extremeprogramming_egroups_courtesy_post_objectmentor",
          "",
          "",
          "extremeprogramming_egroups_courtesy_post_ad"
         ],
         "type": "scatter",
         "x": [
          0,
          0.09068750083112476,
          0.09068750083112476,
          0
         ],
         "xaxis": "x",
         "y": [
          -85,
          -85,
          -95,
          -95
         ],
         "yaxis": "y"
        },
        {
         "hoverinfo": "text",
         "marker": {
          "color": "rgb(61,153,112)"
         },
         "mode": "lines",
         "text": [
          "extremeprogramming_egroups_courtesy_post_objectmentor",
          "",
          "",
          "extremeprogramming_egroups_courtesy_post_objectmentor"
         ],
         "type": "scatter",
         "x": [
          0,
          0.1101432498119009,
          0.1101432498119009,
          0.09068750083112476
         ],
         "xaxis": "x",
         "y": [
          -75,
          -75,
          -90,
          -90
         ],
         "yaxis": "y"
        },
        {
         "hoverinfo": "text",
         "marker": {
          "color": "rgb(61,153,112)"
         },
         "mode": "lines",
         "text": [
          "extremeprogramming_egroups_courtesy_post_objectmentor",
          "",
          "",
          "extremeprogramming_egroups_courtesy_post_objectmentor"
         ],
         "type": "scatter",
         "x": [
          0.1101432498119009,
          0.15119570575236058,
          0.15119570575236058,
          0
         ],
         "xaxis": "x",
         "y": [
          -82.5,
          -82.5,
          -105,
          -105
         ],
         "yaxis": "y"
        },
        {
         "hoverinfo": "text",
         "marker": {
          "color": "rgb(61,153,112)"
         },
         "mode": "lines",
         "text": [
          "extremeprogramming_egroups_courtesy_objectmentor_ad",
          "",
          "",
          "extremeprogramming_egroups_courtesy_post_objectmentor"
         ],
         "type": "scatter",
         "x": [
          0,
          0.1636285835010242,
          0.1636285835010242,
          0.15119570575236058
         ],
         "xaxis": "x",
         "y": [
          -65,
          -65,
          -93.75,
          -93.75
         ],
         "yaxis": "y"
        },
        {
         "hoverinfo": "text",
         "marker": {
          "color": "rgb(61,153,112)"
         },
         "mode": "lines",
         "text": [
          "extremeprogramming_egroups_ad_courtesy_objectmentor",
          "",
          "",
          "extremeprogramming_egroups_courtesy_objectmentor_ad"
         ],
         "type": "scatter",
         "x": [
          0,
          0.36564180671977675,
          0.36564180671977675,
          0.1636285835010242
         ],
         "xaxis": "x",
         "y": [
          -55,
          -55,
          -79.375,
          -79.375
         ],
         "yaxis": "y"
        },
        {
         "hoverinfo": "text",
         "marker": {
          "color": "rgb(61,153,112)"
         },
         "mode": "lines",
         "text": [
          "extremeprogramming_egroups_ad_courtesy_post",
          "",
          "",
          "extremeprogramming_egroups_ad_courtesy_objectmentor"
         ],
         "type": "scatter",
         "x": [
          0,
          0.31140864746101193,
          0.31140864746101193,
          0
         ],
         "xaxis": "x",
         "y": [
          -115,
          -115,
          -125,
          -125
         ],
         "yaxis": "y"
        },
        {
         "hoverinfo": "text",
         "marker": {
          "color": "rgb(61,153,112)"
         },
         "mode": "lines",
         "text": [
          "extremeprogramming_egroups_courtesy_objectmentor_ad",
          "",
          "",
          "extremeprogramming_egroups_ad_courtesy_post"
         ],
         "type": "scatter",
         "x": [
          0.36564180671977675,
          0.3793906837160533,
          0.3793906837160533,
          0.31140864746101193
         ],
         "xaxis": "x",
         "y": [
          -67.1875,
          -67.1875,
          -120,
          -120
         ],
         "yaxis": "y"
        },
        {
         "hoverinfo": "text",
         "marker": {
          "color": "rgb(61,153,112)"
         },
         "mode": "lines",
         "text": [
          "extremeprogramming_egroups_courtesy_post_objectmentor",
          "",
          "",
          "extremeprogramming_egroups_courtesy_objectmentor_ad"
         ],
         "type": "scatter",
         "x": [
          0,
          0.46304780513573396,
          0.46304780513573396,
          0.3793906837160533
         ],
         "xaxis": "x",
         "y": [
          -45,
          -45,
          -93.59375,
          -93.59375
         ],
         "yaxis": "y"
        },
        {
         "hoverinfo": "text",
         "marker": {
          "color": "rgb(61,153,112)"
         },
         "mode": "lines",
         "text": [
          "extremeprogramming_egroups_courtesy_objectmentor_ad",
          "",
          "",
          "xprogramming_objectmentor_www_extremeprogramming_egroups"
         ],
         "type": "scatter",
         "x": [
          0.46304780513573396,
          0.5054431345586289,
          0.5054431345586289,
          0
         ],
         "xaxis": "x",
         "y": [
          -69.296875,
          -69.296875,
          -135,
          -135
         ],
         "yaxis": "y"
        },
        {
         "hoverinfo": "text",
         "marker": {
          "color": "rgb(61,153,112)"
         },
         "mode": "lines",
         "text": [
          "extremeprogramming_egroups_objectmentor_courtesy_ad",
          "",
          "",
          "tests_unit_extremeprogramming_egroups_objectmentor"
         ],
         "type": "scatter",
         "x": [
          0.5054431345586289,
          0.5850686976983057,
          0.5850686976983057,
          0
         ],
         "xaxis": "x",
         "y": [
          -102.1484375,
          -102.1484375,
          -145,
          -145
         ],
         "yaxis": "y"
        },
        {
         "hoverinfo": "text",
         "marker": {
          "color": "rgb(61,153,112)"
         },
         "mode": "lines",
         "text": [
          "jim_extremeprogramming_egroups_later_courtesy",
          "",
          "",
          "extremeprogramming_egroups_objectmentor_courtesy_ad"
         ],
         "type": "scatter",
         "x": [
          0,
          0.6570392776227343,
          0.6570392776227343,
          0.5850686976983057
         ],
         "xaxis": "x",
         "y": [
          -35,
          -35,
          -123.57421875,
          -123.57421875
         ],
         "yaxis": "y"
        },
        {
         "hoverinfo": "text",
         "marker": {
          "color": "rgb(61,153,112)"
         },
         "mode": "lines",
         "text": [
          "extremeprogramming_egroups_objectmentor_courtesy_ad",
          "",
          "",
          "xp_extremeprogramming_egroups_courtesy_objectmentor"
         ],
         "type": "scatter",
         "x": [
          0.6570392776227343,
          0.7203470919444124,
          0.7203470919444124,
          0
         ],
         "xaxis": "x",
         "y": [
          -79.287109375,
          -79.287109375,
          -155,
          -155
         ],
         "yaxis": "y"
        },
        {
         "hoverinfo": "text",
         "marker": {
          "color": "rgb(61,153,112)"
         },
         "mode": "lines",
         "text": [
          "253d_berkeley_extremeprogramming_egroups_map",
          "",
          "",
          "extremeprogramming_egroups_objectmentor_courtesy_ad"
         ],
         "type": "scatter",
         "x": [
          0,
          0.7775997118523343,
          0.7775997118523343,
          0.7203470919444124
         ],
         "xaxis": "x",
         "y": [
          -25,
          -25,
          -117.1435546875,
          -117.1435546875
         ],
         "yaxis": "y"
        },
        {
         "hoverinfo": "text",
         "marker": {
          "color": "rgb(61,153,112)"
         },
         "mode": "lines",
         "text": [
          "extremeprogramming_egroups_objectmentor_courtesy_ad",
          "",
          "",
          "kent_extremeprogramming_egroups_courtesy_post"
         ],
         "type": "scatter",
         "x": [
          0.7775997118523343,
          0.7893664704213748,
          0.7893664704213748,
          0
         ],
         "xaxis": "x",
         "y": [
          -71.07177734375,
          -71.07177734375,
          -165,
          -165
         ],
         "yaxis": "y"
        },
        {
         "hoverinfo": "text",
         "marker": {
          "color": "rgb(61,153,112)"
         },
         "mode": "lines",
         "text": [
          "panoptic_dossy_computer_network_web",
          "",
          "",
          "extremeprogramming_egroups_objectmentor_courtesy_ad"
         ],
         "type": "scatter",
         "x": [
          0.7548561712705724,
          0.9782993136277364,
          0.9782993136277364,
          0.7893664704213748
         ],
         "xaxis": "x",
         "y": [
          -10,
          -10,
          -118.035888671875,
          -118.035888671875
         ],
         "yaxis": "y"
        },
        {
         "hoverinfo": "text",
         "marker": {
          "color": "rgb(255,65,54)"
         },
         "mode": "lines",
         "text": [
          "caughlin_89509_4790_pkwy_422",
          "",
          "",
          "evalueexpress_recurring_yourself_19504161_remove"
         ],
         "type": "scatter",
         "x": [
          0,
          0.5812770752216059,
          0.5812770752216059,
          0
         ],
         "xaxis": "x",
         "y": [
          -175,
          -175,
          -185,
          -185
         ],
         "yaxis": "y"
        },
        {
         "hoverinfo": "text",
         "marker": {
          "color": "rgb(255,65,54)"
         },
         "mode": "lines",
         "text": [
          "vaughn_36116_thesuperspecialsales_7956_al",
          "",
          "",
          "thesuperspecialsales_remove_recurring_yourself_33488063"
         ],
         "type": "scatter",
         "x": [
          0,
          0.4841349940912779,
          0.4841349940912779,
          0
         ],
         "xaxis": "x",
         "y": [
          -195,
          -195,
          -205,
          -205
         ],
         "yaxis": "y"
        },
        {
         "hoverinfo": "text",
         "marker": {
          "color": "rgb(255,65,54)"
         },
         "mode": "lines",
         "text": [
          "dealseveryday_14715846_amherst_03063_nh",
          "",
          "",
          "dealdelivery_37978415_clicking_recurring_yourself"
         ],
         "type": "scatter",
         "x": [
          0,
          0.591613160801332,
          0.591613160801332,
          0
         ],
         "xaxis": "x",
         "y": [
          -215,
          -215,
          -225,
          -225
         ],
         "yaxis": "y"
        },
        {
         "hoverinfo": "text",
         "marker": {
          "color": "rgb(255,65,54)"
         },
         "mode": "lines",
         "text": [
          "clicking_recurring_14715846_03063_amherst",
          "",
          "",
          "yourwebspecials_85255_8912_peak_432"
         ],
         "type": "scatter",
         "x": [
          0.591613160801332,
          0.796444828057568,
          0.796444828057568,
          0
         ],
         "xaxis": "x",
         "y": [
          -220,
          -220,
          -235,
          -235
         ],
         "yaxis": "y"
        },
        {
         "hoverinfo": "text",
         "marker": {
          "color": "rgb(255,65,54)"
         },
         "mode": "lines",
         "text": [
          "thesuperspecialsales_vaughn_36116_7956_al",
          "",
          "",
          "recurring_clicking_yourself_37978415_14715846"
         ],
         "type": "scatter",
         "x": [
          0.4841349940912779,
          0.8886835637308054,
          0.8886835637308054,
          0.796444828057568
         ],
         "xaxis": "x",
         "y": [
          -200,
          -200,
          -227.5,
          -227.5
         ],
         "yaxis": "y"
        },
        {
         "hoverinfo": "text",
         "marker": {
          "color": "rgb(255,65,54)"
         },
         "mode": "lines",
         "text": [
          "evalueexpress_4790_caughlin_89509_pkwy",
          "",
          "",
          "recurring_yourself_remove_mliang_unsub"
         ],
         "type": "scatter",
         "x": [
          0.5812770752216059,
          0.9849138405310346,
          0.9849138405310346,
          0.8886835637308054
         ],
         "xaxis": "x",
         "y": [
          -180,
          -180,
          -213.75,
          -213.75
         ],
         "yaxis": "y"
        },
        {
         "hoverinfo": "text",
         "marker": {
          "color": "rgb(35,205,205)"
         },
         "mode": "lines",
         "text": [
          "offers_78720_202885_33488063_tx",
          "",
          "",
          "offers_78720_202885_33488063_tx"
         ],
         "type": "scatter",
         "x": [
          0,
          0.01943056674238608,
          0.01943056674238608,
          0
         ],
         "xaxis": "x",
         "y": [
          -255,
          -255,
          -265,
          -265
         ],
         "yaxis": "y"
        },
        {
         "hoverinfo": "text",
         "marker": {
          "color": "rgb(35,205,205)"
         },
         "mode": "lines",
         "text": [
          "offers_78720_202885_33488063_tx",
          "",
          "",
          "c0olmail_202885_78720_tx_longer"
         ],
         "type": "scatter",
         "x": [
          0.01943056674238608,
          0.2085037498215887,
          0.2085037498215887,
          0
         ],
         "xaxis": "x",
         "y": [
          -260,
          -260,
          -275,
          -275
         ],
         "yaxis": "y"
        },
        {
         "hoverinfo": "text",
         "marker": {
          "color": "rgb(35,205,205)"
         },
         "mode": "lines",
         "text": [
          "offers_78720_202885_tx_33488063",
          "",
          "",
          "mail212_c0olmail_78720_202885_33488063"
         ],
         "type": "scatter",
         "x": [
          0.2085037498215887,
          0.37253821802537235,
          0.37253821802537235,
          0
         ],
         "xaxis": "x",
         "y": [
          -267.5,
          -267.5,
          -285,
          -285
         ],
         "yaxis": "y"
        },
        {
         "hoverinfo": "text",
         "marker": {
          "color": "rgb(35,205,205)"
         },
         "mode": "lines",
         "text": [
          "ms83_98526982_202885_78720_tx",
          "",
          "",
          "offers_202885_78720_tx_33488063"
         ],
         "type": "scatter",
         "x": [
          0,
          0.5306559119099798,
          0.5306559119099798,
          0.37253821802537235
         ],
         "xaxis": "x",
         "y": [
          -245,
          -245,
          -276.25,
          -276.25
         ],
         "yaxis": "y"
        },
        {
         "hoverinfo": "text",
         "marker": {
          "color": "rgb(35,205,205)"
         },
         "mode": "lines",
         "text": [
          "offers_78720_202885_tx_longer",
          "",
          "",
          "greatest_specials_pulsetv_ent_33488063"
         ],
         "type": "scatter",
         "x": [
          0.5306559119099798,
          0.5672930089633758,
          0.5672930089633758,
          0
         ],
         "xaxis": "x",
         "y": [
          -260.625,
          -260.625,
          -295,
          -295
         ],
         "yaxis": "y"
        },
        {
         "hoverinfo": "text",
         "marker": {
          "color": "rgb(0,116,217)"
         },
         "mode": "lines",
         "text": [
          "recurring_yourself_remove_unsub_postal",
          "",
          "",
          "offers_202885_78720_tx_longer"
         ],
         "type": "scatter",
         "x": [
          0.9849138405310346,
          1.6228238657607728,
          1.6228238657607728,
          0.5672930089633758
         ],
         "xaxis": "x",
         "y": [
          -196.875,
          -196.875,
          -277.8125,
          -277.8125
         ],
         "yaxis": "y"
        },
        {
         "hoverinfo": "text",
         "marker": {
          "color": "rgb(133,20,75)"
         },
         "mode": "lines",
         "text": [
          "java2d_signoff_body_listserv_include",
          "",
          "",
          "java2d_signoff_body_listserv_include"
         ],
         "type": "scatter",
         "x": [
          0,
          0.08423436711500576,
          0.08423436711500576,
          0
         ],
         "xaxis": "x",
         "y": [
          -305,
          -305,
          -315,
          -315
         ],
         "yaxis": "y"
        },
        {
         "hoverinfo": "text",
         "marker": {
          "color": "rgb(133,20,75)"
         },
         "mode": "lines",
         "text": [
          "signoff_body_interest_servlet_listserv",
          "",
          "",
          "servlet_archives_java_sun_listserv"
         ],
         "type": "scatter",
         "x": [
          0,
          0.311881078631718,
          0.311881078631718,
          0
         ],
         "xaxis": "x",
         "y": [
          -325,
          -325,
          -335,
          -335
         ],
         "yaxis": "y"
        },
        {
         "hoverinfo": "text",
         "marker": {
          "color": "rgb(133,20,75)"
         },
         "mode": "lines",
         "text": [
          "java2d_signoff_body_listserv_include",
          "",
          "",
          "servlet_java_archives_sun_listserv"
         ],
         "type": "scatter",
         "x": [
          0.08423436711500576,
          0.5755261227648518,
          0.5755261227648518,
          0.311881078631718
         ],
         "xaxis": "x",
         "y": [
          -310,
          -310,
          -330,
          -330
         ],
         "yaxis": "y"
        },
        {
         "hoverinfo": "text",
         "marker": {
          "color": "rgb(133,20,75)"
         },
         "mode": "lines",
         "text": [
          "java_servlet_listserv_interest_sun",
          "",
          "",
          "jdj_buyer_db2_permanently_offerings"
         ],
         "type": "scatter",
         "x": [
          0.5755261227648518,
          0.8039003307510147,
          0.8039003307510147,
          0
         ],
         "xaxis": "x",
         "y": [
          -320,
          -320,
          -345,
          -345
         ],
         "yaxis": "y"
        },
        {
         "hoverinfo": "text",
         "marker": {
          "color": "rgb(255,220,0)"
         },
         "mode": "lines",
         "text": [
          "group_rmallik_calling_forgive_ultimately",
          "",
          "",
          "st3ward_group_personal_yahoo_svamafriends"
         ],
         "type": "scatter",
         "x": [
          0,
          0.7327322784534506,
          0.7327322784534506,
          0
         ],
         "xaxis": "x",
         "y": [
          -355,
          -355,
          -365,
          -365
         ],
         "yaxis": "y"
        },
        {
         "hoverinfo": "text",
         "marker": {
          "color": "rgb(255,220,0)"
         },
         "mode": "lines",
         "text": [
          "mayan_soccer_yahoogroups_w7cslb_group_sponsor",
          "",
          "",
          "yahoogroups_tm_jetusaba_group_tiecon2002"
         ],
         "type": "scatter",
         "x": [
          0,
          0.5662959880096962,
          0.5662959880096962,
          0
         ],
         "xaxis": "x",
         "y": [
          -375,
          -375,
          -385,
          -385
         ],
         "yaxis": "y"
        },
        {
         "hoverinfo": "text",
         "marker": {
          "color": "rgb(255,220,0)"
         },
         "mode": "lines",
         "text": [
          "yahoogroups_tm_mayan_soccer_group_jetusaba",
          "",
          "",
          "2navlb_tm_mobile_java_umscaa"
         ],
         "type": "scatter",
         "x": [
          0.5662959880096962,
          0.7916257406199707,
          0.7916257406199707,
          0
         ],
         "xaxis": "x",
         "y": [
          -380,
          -380,
          -395,
          -395
         ],
         "yaxis": "y"
        },
        {
         "hoverinfo": "text",
         "marker": {
          "color": "rgb(255,220,0)"
         },
         "mode": "lines",
         "text": [
          "group_st3ward_personal_yahoo_svamafriends",
          "",
          "",
          "yahoogroups_tm_group_mayan_soccer_yahoo"
         ],
         "type": "scatter",
         "x": [
          0.7327322784534506,
          0.92277772290583,
          0.92277772290583,
          0.7916257406199707
         ],
         "xaxis": "x",
         "y": [
          -360,
          -360,
          -387.5,
          -387.5
         ],
         "yaxis": "y"
        },
        {
         "hoverinfo": "text",
         "marker": {
          "color": "rgb(40,35,35)"
         },
         "mode": "lines",
         "text": [
          "zingaris_yahoogroups_group_personal_unsubscribe",
          "",
          "",
          "zingaris_yahoogroups_group_zingari_dudes"
         ],
         "type": "scatter",
         "x": [
          0,
          0.19111863415056007,
          0.19111863415056007,
          0
         ],
         "xaxis": "x",
         "y": [
          -415,
          -415,
          -425,
          -425
         ],
         "yaxis": "y"
        },
        {
         "hoverinfo": "text",
         "marker": {
          "color": "rgb(40,35,35)"
         },
         "mode": "lines",
         "text": [
          "auctions_prices_buy_zingaris_topica",
          "",
          "",
          "zingaris_yahoogroups_group_unsubscribe_zingari"
         ],
         "type": "scatter",
         "x": [
          0,
          0.8515826408876302,
          0.8515826408876302,
          0.19111863415056007
         ],
         "xaxis": "x",
         "y": [
          -405,
          -405,
          -420,
          -420
         ],
         "yaxis": "y"
        },
        {
         "hoverinfo": "text",
         "marker": {
          "color": "rgb(40,35,35)"
         },
         "mode": "lines",
         "text": [
          "zingaris_yahoogroups_auctions_group_prices",
          "",
          "",
          "explorer_msn_download_intl_jbr"
         ],
         "type": "scatter",
         "x": [
          0.8515826408876302,
          0.922403919131325,
          0.922403919131325,
          0
         ],
         "xaxis": "x",
         "y": [
          -412.5,
          -412.5,
          -435,
          -435
         ],
         "yaxis": "y"
        },
        {
         "hoverinfo": "text",
         "marker": {
          "color": "rgb(0,116,217)"
         },
         "mode": "lines",
         "text": [
          "group_yahoogroups_tm_mayan_soccer_yahoo",
          "",
          "",
          "explorer_msn_zingaris_download_yahoogroups"
         ],
         "type": "scatter",
         "x": [
          0.92277772290583,
          1.064737070569779,
          1.064737070569779,
          0.922403919131325
         ],
         "xaxis": "x",
         "y": [
          -373.75,
          -373.75,
          -423.75,
          -423.75
         ],
         "yaxis": "y"
        },
        {
         "hoverinfo": "text",
         "marker": {
          "color": "rgb(61,153,112)"
         },
         "mode": "lines",
         "text": [
          "avocadoit_408_562_2211_95131",
          "",
          "",
          "wirelessly_8059_1052_margulies_avocadoit"
         ],
         "type": "scatter",
         "x": [
          0,
          0.4467277061528676,
          0.4467277061528676,
          0
         ],
         "xaxis": "x",
         "y": [
          -465,
          -465,
          -475,
          -475
         ],
         "yaxis": "y"
        },
        {
         "hoverinfo": "text",
         "marker": {
          "color": "rgb(61,153,112)"
         },
         "mode": "lines",
         "text": [
          "instructor_8744_857_7956_doug",
          "",
          "",
          "avocadoit_408_562_95131_2211"
         ],
         "type": "scatter",
         "x": [
          0,
          0.6729054165339806,
          0.6729054165339806,
          0.4467277061528676
         ],
         "xaxis": "x",
         "y": [
          -455,
          -455,
          -470,
          -470
         ],
         "yaxis": "y"
        },
        {
         "hoverinfo": "text",
         "marker": {
          "color": "rgb(61,153,112)"
         },
         "mode": "lines",
         "text": [
          "avocadoit_408_562_2211_95131",
          "",
          "",
          "unplugged_8000_newsworthy_circulated_basis"
         ],
         "type": "scatter",
         "x": [
          0.6729054165339806,
          0.7292760863072436,
          0.7292760863072436,
          0
         ],
         "xaxis": "x",
         "y": [
          -462.5,
          -462.5,
          -485,
          -485
         ],
         "yaxis": "y"
        },
        {
         "hoverinfo": "text",
         "marker": {
          "color": "rgb(61,153,112)"
         },
         "mode": "lines",
         "text": [
          "avocadoit_408_562_2211_95131",
          "",
          "",
          "era_8039_strategic_enabling_infrastructure"
         ],
         "type": "scatter",
         "x": [
          0.7292760863072436,
          0.8872501846774542,
          0.8872501846774542,
          0
         ],
         "xaxis": "x",
         "y": [
          -473.75,
          -473.75,
          -495,
          -495
         ],
         "yaxis": "y"
        },
        {
         "hoverinfo": "text",
         "marker": {
          "color": "rgb(61,153,112)"
         },
         "mode": "lines",
         "text": [
          "8030_piyer_founder_sr_cto",
          "",
          "",
          "avocadoit_408_562_2211_95131"
         ],
         "type": "scatter",
         "x": [
          0,
          0.9619108227030408,
          0.9619108227030408,
          0.8872501846774542
         ],
         "xaxis": "x",
         "y": [
          -445,
          -445,
          -484.375,
          -484.375
         ],
         "yaxis": "y"
        },
        {
         "hoverinfo": "text",
         "marker": {
          "color": "rgb(255,65,54)"
         },
         "mode": "lines",
         "text": [
          "mahesh_pmguid_pmg_zp_8oe3",
          "",
          "",
          "pmguid_pmg_16wor_mahesh_27"
         ],
         "type": "scatter",
         "x": [
          0,
          0.44059364415863855,
          0.44059364415863855,
          0
         ],
         "xaxis": "x",
         "y": [
          -505,
          -505,
          -515,
          -515
         ],
         "yaxis": "y"
        },
        {
         "hoverinfo": "text",
         "marker": {
          "color": "rgb(35,205,205)"
         },
         "mode": "lines",
         "text": [
          "javadevelopersjournal_sys_con_continuing_serve",
          "",
          "",
          "javadevelopersjournal_sys_con_mailbox_subscribed"
         ],
         "type": "scatter",
         "x": [
          0,
          0.24506354356929172,
          0.24506354356929172,
          0
         ],
         "xaxis": "x",
         "y": [
          -525,
          -525,
          -535,
          -535
         ],
         "yaxis": "y"
        },
        {
         "hoverinfo": "text",
         "marker": {
          "color": "rgb(61,153,112)"
         },
         "mode": "lines",
         "text": [
          "topica_murthy_subscribed_aveo2e_avxim5",
          "",
          "",
          "stcetsig_stc_34772p_rgantly_org"
         ],
         "type": "scatter",
         "x": [
          0,
          0.8682883418664231,
          0.8682883418664231,
          0
         ],
         "xaxis": "x",
         "y": [
          -555,
          -555,
          -565,
          -565
         ],
         "yaxis": "y"
        },
        {
         "hoverinfo": "text",
         "marker": {
          "color": "rgb(61,153,112)"
         },
         "mode": "lines",
         "text": [
          "cabot_isw_isw138ts_70861f_heritage",
          "",
          "",
          "stcetsig_stc_34772p_rgantly_subscribed"
         ],
         "type": "scatter",
         "x": [
          0,
          0.9732915602389264,
          0.9732915602389264,
          0.8682883418664231
         ],
         "xaxis": "x",
         "y": [
          -545,
          -545,
          -560,
          -560
         ],
         "yaxis": "y"
        },
        {
         "hoverinfo": "text",
         "marker": {
          "color": "rgb(61,153,112)"
         },
         "mode": "lines",
         "text": [
          "coffeecup_dundee_software_lyris_brew",
          "",
          "",
          "fuseletter_earth_efuse_264171e_lyris"
         ],
         "type": "scatter",
         "x": [
          0,
          0.8706373782207242,
          0.8706373782207242,
          0
         ],
         "xaxis": "x",
         "y": [
          -575,
          -575,
          -585,
          -585
         ],
         "yaxis": "y"
        },
        {
         "hoverinfo": "text",
         "marker": {
          "color": "rgb(61,153,112)"
         },
         "mode": "lines",
         "text": [
          "stcetsig_stc_34772p_rgantly_subscribed",
          "",
          "",
          "coffeecup_lyris_dundee_software_brew"
         ],
         "type": "scatter",
         "x": [
          0.9732915602389264,
          0.9936321683092437,
          0.9936321683092437,
          0.8706373782207242
         ],
         "xaxis": "x",
         "y": [
          -552.5,
          -552.5,
          -580,
          -580
         ],
         "yaxis": "y"
        },
        {
         "hoverinfo": "text",
         "marker": {
          "color": "rgb(0,116,217)"
         },
         "mode": "lines",
         "text": [
          "javadevelopersjournal_sys_con_mailbox_subscribed",
          "",
          "",
          "coffeecup_stcetsig_subscribed_currently_stc"
         ],
         "type": "scatter",
         "x": [
          0.24506354356929172,
          1.1807555686732196,
          1.1807555686732196,
          0.9936321683092437
         ],
         "xaxis": "x",
         "y": [
          -530,
          -530,
          -566.25,
          -566.25
         ],
         "yaxis": "y"
        },
        {
         "hoverinfo": "text",
         "marker": {
          "color": "rgb(0,116,217)"
         },
         "mode": "lines",
         "text": [
          "mahesh_pmguid_pmg_zp_8oe3",
          "",
          "",
          "coffeecup_subscribed_stcetsig_currently_leave"
         ],
         "type": "scatter",
         "x": [
          0.44059364415863855,
          1.3544615416573837,
          1.3544615416573837,
          1.1807555686732196
         ],
         "xaxis": "x",
         "y": [
          -510,
          -510,
          -548.125,
          -548.125
         ],
         "yaxis": "y"
        },
        {
         "hoverinfo": "text",
         "marker": {
          "color": "rgb(255,65,54)"
         },
         "mode": "lines",
         "text": [
          "newsletter_ivillage_newsletters_friend_tryhtml",
          "",
          "",
          "intel_intellor_program_members_membership_dialogic"
         ],
         "type": "scatter",
         "x": [
          0,
          0.8826131377327395,
          0.8826131377327395,
          0
         ],
         "xaxis": "x",
         "y": [
          -615,
          -615,
          -625,
          -625
         ],
         "yaxis": "y"
        },
        {
         "hoverinfo": "text",
         "marker": {
          "color": "rgb(255,65,54)"
         },
         "mode": "lines",
         "text": [
          "venturewire_digitrends_technologic_copyright_editor",
          "",
          "",
          "newsletter_intel_ivillage_intellor_newsletters"
         ],
         "type": "scatter",
         "x": [
          0,
          0.9722155687173684,
          0.9722155687173684,
          0.8826131377327395
         ],
         "xaxis": "x",
         "y": [
          -605,
          -605,
          -620,
          -620
         ],
         "yaxis": "y"
        },
        {
         "hoverinfo": "text",
         "marker": {
          "color": "rgb(255,65,54)"
         },
         "mode": "lines",
         "text": [
          "venturewire_newsletter_digitrends_technologic_copyright",
          "",
          "",
          "horoscope_romance_excite_astrology_choose"
         ],
         "type": "scatter",
         "x": [
          0.9722155687173684,
          0.9764855774183194,
          0.9764855774183194,
          0
         ],
         "xaxis": "x",
         "y": [
          -612.5,
          -612.5,
          -635,
          -635
         ],
         "yaxis": "y"
        },
        {
         "hoverinfo": "text",
         "marker": {
          "color": "rgb(255,65,54)"
         },
         "mode": "lines",
         "text": [
          "iw_ieletters_opinions_writing_thoughts",
          "",
          "",
          "venturewire_newsletter_digitrends_horoscope_technologic"
         ],
         "type": "scatter",
         "x": [
          0,
          0.9971159888042763,
          0.9971159888042763,
          0.9764855774183194
         ],
         "xaxis": "x",
         "y": [
          -595,
          -595,
          -623.75,
          -623.75
         ],
         "yaxis": "y"
        },
        {
         "hoverinfo": "text",
         "marker": {
          "color": "rgb(35,205,205)"
         },
         "mode": "lines",
         "text": [
          "internetwire_command_subscribe_instructions_digest",
          "",
          "",
          "thestandard_publisher_letters_advertising_click"
         ],
         "type": "scatter",
         "x": [
          0,
          0.9187715239070169,
          0.9187715239070169,
          0
         ],
         "xaxis": "x",
         "y": [
          -655,
          -655,
          -665,
          -665
         ],
         "yaxis": "y"
        },
        {
         "hoverinfo": "text",
         "marker": {
          "color": "rgb(35,205,205)"
         },
         "mode": "lines",
         "text": [
          "iprint_mailings_forwarded_simply_future",
          "",
          "",
          "thestandard_publisher_subscribe_letters_advertising"
         ],
         "type": "scatter",
         "x": [
          0,
          0.9485465453039815,
          0.9485465453039815,
          0.9187715239070169
         ],
         "xaxis": "x",
         "y": [
          -645,
          -645,
          -660,
          -660
         ],
         "yaxis": "y"
        },
        {
         "hoverinfo": "text",
         "marker": {
          "color": "rgb(35,205,205)"
         },
         "mode": "lines",
         "text": [
          "thestandard_publisher_subscribe_letters_iprint",
          "",
          "",
          "fiercewireless_fiercewirelesshtml_laser_sparklist_leave"
         ],
         "type": "scatter",
         "x": [
          0.9485465453039815,
          0.9630155134686309,
          0.9630155134686309,
          0
         ],
         "xaxis": "x",
         "y": [
          -652.5,
          -652.5,
          -675,
          -675
         ],
         "yaxis": "y"
        },
        {
         "hoverinfo": "text",
         "marker": {
          "color": "rgb(0,116,217)"
         },
         "mode": "lines",
         "text": [
          "venturewire_newsletter_digitrends_horoscope_technologic",
          "",
          "",
          "fiercewireless_thestandard_subscribe_publisher_fiercewirelesshtml"
         ],
         "type": "scatter",
         "x": [
          0.9971159888042763,
          1.0161635038495933,
          1.0161635038495933,
          0.9630155134686309
         ],
         "xaxis": "x",
         "y": [
          -609.375,
          -609.375,
          -663.75,
          -663.75
         ],
         "yaxis": "y"
        },
        {
         "hoverinfo": "text",
         "marker": {
          "color": "rgb(133,20,75)"
         },
         "mode": "lines",
         "text": [
          "htm_rsilverton_webeditor_hrheroline_clickz",
          "",
          "",
          "clickz_advertise_conferences_privacy_feedback"
         ],
         "type": "scatter",
         "x": [
          0,
          0.8624553062333776,
          0.8624553062333776,
          0
         ],
         "xaxis": "x",
         "y": [
          -685,
          -685,
          -695,
          -695
         ],
         "yaxis": "y"
        },
        {
         "hoverinfo": "text",
         "marker": {
          "color": "rgb(133,20,75)"
         },
         "mode": "lines",
         "text": [
          "clickz_advertise_conferences_privacy_feedback",
          "",
          "",
          "webgain_thecounter_submissions_article_countersubmissions"
         ],
         "type": "scatter",
         "x": [
          0.8624553062333776,
          0.9815722306265895,
          0.9815722306265895,
          0
         ],
         "xaxis": "x",
         "y": [
          -690,
          -690,
          -705,
          -705
         ],
         "yaxis": "y"
        },
        {
         "hoverinfo": "text",
         "marker": {
          "color": "rgb(0,116,217)"
         },
         "mode": "lines",
         "text": [
          "fiercewireless_subscribe_thestandard_venturewire_publisher",
          "",
          "",
          "clickz_advertise_conferences_webgain_privacy"
         ],
         "type": "scatter",
         "x": [
          1.0161635038495933,
          1.031404518465889,
          1.031404518465889,
          0.9815722306265895
         ],
         "xaxis": "x",
         "y": [
          -636.5625,
          -636.5625,
          -697.5,
          -697.5
         ],
         "yaxis": "y"
        },
        {
         "hoverinfo": "text",
         "marker": {
          "color": "rgb(255,220,0)"
         },
         "mode": "lines",
         "text": [
          "newsscan_subscribe_html_daily_version",
          "",
          "",
          "planetrx_590_770_0368_1017"
         ],
         "type": "scatter",
         "x": [
          0,
          0.8290236748431914,
          0.8290236748431914,
          0
         ],
         "xaxis": "x",
         "y": [
          -715,
          -715,
          -725,
          -725
         ],
         "yaxis": "y"
        },
        {
         "hoverinfo": "text",
         "marker": {
          "color": "rgb(40,35,35)"
         },
         "mode": "lines",
         "text": [
          "voice_voicegenie_speechworks_yankeegroup_nuance",
          "",
          "",
          "left_voicemail_voice_offensive_voicemails"
         ],
         "type": "scatter",
         "x": [
          0,
          0.822873704069587,
          0.822873704069587,
          0
         ],
         "xaxis": "x",
         "y": [
          -735,
          -735,
          -745,
          -745
         ],
         "yaxis": "y"
        },
        {
         "hoverinfo": "text",
         "marker": {
          "color": "rgb(0,116,217)"
         },
         "mode": "lines",
         "text": [
          "newsscan_subscribe_html_daily_planetrx",
          "",
          "",
          "voice_voicegenie_speechworks_yankeegroup_nuance"
         ],
         "type": "scatter",
         "x": [
          0.8290236748431914,
          1.0852513572044713,
          1.0852513572044713,
          0.822873704069587
         ],
         "xaxis": "x",
         "y": [
          -720,
          -720,
          -740,
          -740
         ],
         "yaxis": "y"
        },
        {
         "hoverinfo": "text",
         "marker": {
          "color": "rgb(0,116,217)"
         },
         "mode": "lines",
         "text": [
          "clickz_advertise_conferences_webgain_feedback",
          "",
          "",
          "newsscan_voice_subscribe_html_daily"
         ],
         "type": "scatter",
         "x": [
          1.031404518465889,
          1.1166160304595751,
          1.1166160304595751,
          1.0852513572044713
         ],
         "xaxis": "x",
         "y": [
          -667.03125,
          -667.03125,
          -730,
          -730
         ],
         "yaxis": "y"
        },
        {
         "hoverinfo": "text",
         "marker": {
          "color": "rgb(61,153,112)"
         },
         "mode": "lines",
         "text": [
          "cancel_microsoft_mailing_word_either",
          "",
          "",
          "removed_remove_removal_subject_list"
         ],
         "type": "scatter",
         "x": [
          0,
          0.7487384831446691,
          0.7487384831446691,
          0
         ],
         "xaxis": "x",
         "y": [
          -765,
          -765,
          -775,
          -775
         ],
         "yaxis": "y"
        },
        {
         "hoverinfo": "text",
         "marker": {
          "color": "rgb(61,153,112)"
         },
         "mode": "lines",
         "text": [
          "td_rro_uptilt_unsubscribe_rover",
          "",
          "",
          "cancel_mailing_subject_line_word"
         ],
         "type": "scatter",
         "x": [
          0,
          0.7912861737640902,
          0.7912861737640902,
          0.7487384831446691
         ],
         "xaxis": "x",
         "y": [
          -755,
          -755,
          -770,
          -770
         ],
         "yaxis": "y"
        },
        {
         "hoverinfo": "text",
         "marker": {
          "color": "rgb(61,153,112)"
         },
         "mode": "lines",
         "text": [
          "mailing_subject_line_cancel_click",
          "",
          "",
          "macromedia_classes_remove_rather_updates"
         ],
         "type": "scatter",
         "x": [
          0.7912861737640902,
          0.922192105014542,
          0.922192105014542,
          0
         ],
         "xaxis": "x",
         "y": [
          -762.5,
          -762.5,
          -785,
          -785
         ],
         "yaxis": "y"
        },
        {
         "hoverinfo": "text",
         "marker": {
          "color": "rgb(0,116,217)"
         },
         "mode": "lines",
         "text": [
          "clickz_advertise_conferences_subscribe_webgain",
          "",
          "",
          "subject_line_mailing_remove_cancel"
         ],
         "type": "scatter",
         "x": [
          1.1166160304595751,
          1.1729210537819206,
          1.1729210537819206,
          0.922192105014542
         ],
         "xaxis": "x",
         "y": [
          -698.515625,
          -698.515625,
          -773.75,
          -773.75
         ],
         "yaxis": "y"
        },
        {
         "hoverinfo": "text",
         "marker": {
          "color": "rgb(255,65,54)"
         },
         "mode": "lines",
         "text": [
          "coolwinning_wish_special_1609852_rdr",
          "",
          "",
          "valoffers_special_wish_offers_here"
         ],
         "type": "scatter",
         "x": [
          0,
          0.608761610692214,
          0.608761610692214,
          0
         ],
         "xaxis": "x",
         "y": [
          -805,
          -805,
          -815,
          -815
         ],
         "yaxis": "y"
        },
        {
         "hoverinfo": "text",
         "marker": {
          "color": "rgb(255,65,54)"
         },
         "mode": "lines",
         "text": [
          "tremendousbuys_1306473_wish_unsub_click",
          "",
          "",
          "coolwinning_valoffers_special_wish_here"
         ],
         "type": "scatter",
         "x": [
          0,
          0.9239519380755008,
          0.9239519380755008,
          0.608761610692214
         ],
         "xaxis": "x",
         "y": [
          -795,
          -795,
          -810,
          -810
         ],
         "yaxis": "y"
        },
        {
         "hoverinfo": "text",
         "marker": {
          "color": "rgb(0,116,217)"
         },
         "mode": "lines",
         "text": [
          "clickz_subscribe_advertise_conferences_subscription",
          "",
          "",
          "tremendousbuys_wish_1306473_coolwinning_valoffers"
         ],
         "type": "scatter",
         "x": [
          1.1729210537819206,
          1.2730931764397067,
          1.2730931764397067,
          0.9239519380755008
         ],
         "xaxis": "x",
         "y": [
          -736.1328125,
          -736.1328125,
          -802.5,
          -802.5
         ],
         "yaxis": "y"
        },
        {
         "hoverinfo": "text",
         "marker": {
          "color": "rgb(0,116,217)"
         },
         "mode": "lines",
         "text": [
          "coffeecup_subscribed_stcetsig_currently_leave",
          "",
          "",
          "clickz_subscribe_advertise_conferences_subscription"
         ],
         "type": "scatter",
         "x": [
          1.3544615416573837,
          1.3598624611505925,
          1.3598624611505925,
          1.2730931764397067
         ],
         "xaxis": "x",
         "y": [
          -529.0625,
          -529.0625,
          -769.31640625,
          -769.31640625
         ],
         "yaxis": "y"
        },
        {
         "hoverinfo": "text",
         "marker": {
          "color": "rgb(35,205,205)"
         },
         "mode": "lines",
         "text": [
          "parenting_tips_dilemma_babycenter_1fc7nw",
          "",
          "",
          "babycenter_newsletter_parentcenter_mom_line"
         ],
         "type": "scatter",
         "x": [
          0,
          0.6775172020822409,
          0.6775172020822409,
          0
         ],
         "xaxis": "x",
         "y": [
          -835,
          -835,
          -845,
          -845
         ],
         "yaxis": "y"
        },
        {
         "hoverinfo": "text",
         "marker": {
          "color": "rgb(35,205,205)"
         },
         "mode": "lines",
         "text": [
          "babycenter_tips_giants_person_pitcher",
          "",
          "",
          "babycenter_parenting_1fc7nw_le_ce"
         ],
         "type": "scatter",
         "x": [
          0,
          0.7922399073285288,
          0.7922399073285288,
          0.6775172020822409
         ],
         "xaxis": "x",
         "y": [
          -825,
          -825,
          -840,
          -840
         ],
         "yaxis": "y"
        },
        {
         "hoverinfo": "text",
         "marker": {
          "color": "rgb(61,153,112)"
         },
         "mode": "lines",
         "text": [
          "pregnancy_tips_best_browns_us",
          "",
          "",
          "baby_regular_track_mails_pregnancy"
         ],
         "type": "scatter",
         "x": [
          0,
          0.8038194192956261,
          0.8038194192956261,
          0
         ],
         "xaxis": "x",
         "y": [
          -855,
          -855,
          -865,
          -865
         ],
         "yaxis": "y"
        },
        {
         "hoverinfo": "text",
         "marker": {
          "color": "rgb(0,116,217)"
         },
         "mode": "lines",
         "text": [
          "babycenter_parenting_1fc7nw_le_ce",
          "",
          "",
          "pregnancy_tips_baby_best_regular"
         ],
         "type": "scatter",
         "x": [
          0.7922399073285288,
          1.0310501994413324,
          1.0310501994413324,
          0.8038194192956261
         ],
         "xaxis": "x",
         "y": [
          -832.5,
          -832.5,
          -860,
          -860
         ],
         "yaxis": "y"
        },
        {
         "hoverinfo": "text",
         "marker": {
          "color": "rgb(0,116,217)"
         },
         "mode": "lines",
         "text": [
          "leave_coffeecup_subscribed_clickz_subscribe",
          "",
          "",
          "babycenter_tips_pregnancy_parenting_1fc7nw"
         ],
         "type": "scatter",
         "x": [
          1.3598624611505925,
          1.4133388915849414,
          1.4133388915849414,
          1.0310501994413324
         ],
         "xaxis": "x",
         "y": [
          -649.189453125,
          -649.189453125,
          -846.25,
          -846.25
         ],
         "yaxis": "y"
        },
        {
         "hoverinfo": "text",
         "marker": {
          "color": "rgb(255,65,54)"
         },
         "mode": "lines",
         "text": [
          "mountain_bluemountain_blue_websiterules_rules",
          "",
          "",
          "bluemountain_greeting_card_www1_has"
         ],
         "type": "scatter",
         "x": [
          0,
          0.6654120007663777,
          0.6654120007663777,
          0
         ],
         "xaxis": "x",
         "y": [
          -875,
          -875,
          -885,
          -885
         ],
         "yaxis": "y"
        },
        {
         "hoverinfo": "text",
         "marker": {
          "color": "rgb(35,205,205)"
         },
         "mode": "lines",
         "text": [
          "music_greeting_mp3_greetings_card",
          "",
          "",
          "card_cards_greeting_free_personalized"
         ],
         "type": "scatter",
         "x": [
          0,
          0.7226607561970041,
          0.7226607561970041,
          0
         ],
         "xaxis": "x",
         "y": [
          -905,
          -905,
          -915,
          -915
         ],
         "yaxis": "y"
        },
        {
         "hoverinfo": "text",
         "marker": {
          "color": "rgb(35,205,205)"
         },
         "mode": "lines",
         "text": [
          "greetings_holiday_online_985_yahoo",
          "",
          "",
          "greeting_music_mp3_card_cards"
         ],
         "type": "scatter",
         "x": [
          0,
          0.9023539677107985,
          0.9023539677107985,
          0.7226607561970041
         ],
         "xaxis": "x",
         "y": [
          -895,
          -895,
          -910,
          -910
         ],
         "yaxis": "y"
        },
        {
         "hoverinfo": "text",
         "marker": {
          "color": "rgb(35,205,205)"
         },
         "mode": "lines",
         "text": [
          "bma_msg_boundary_picked_card_care2_been",
          "",
          "",
          "valentine_ecards_valentines_yahoo_workers"
         ],
         "type": "scatter",
         "x": [
          0,
          0.9696008479923248,
          0.9696008479923248,
          0
         ],
         "xaxis": "x",
         "y": [
          -925,
          -925,
          -935,
          -935
         ],
         "yaxis": "y"
        },
        {
         "hoverinfo": "text",
         "marker": {
          "color": "rgb(35,205,205)"
         },
         "mode": "lines",
         "text": [
          "greeting_music_mp3_card_cards",
          "",
          "",
          "ecards_valentine_bma_msg_boundary_picked_valentines"
         ],
         "type": "scatter",
         "x": [
          0.9023539677107985,
          0.9942539743317959,
          0.9942539743317959,
          0.9696008479923248
         ],
         "xaxis": "x",
         "y": [
          -902.5,
          -902.5,
          -930,
          -930
         ],
         "yaxis": "y"
        },
        {
         "hoverinfo": "text",
         "marker": {
          "color": "rgb(0,116,217)"
         },
         "mode": "lines",
         "text": [
          "bluemountain_mountain_blue_websiterules_card",
          "",
          "",
          "greeting_music_card_mp3_cards"
         ],
         "type": "scatter",
         "x": [
          0.6654120007663777,
          1.0315106748395921,
          1.0315106748395921,
          0.9942539743317959
         ],
         "xaxis": "x",
         "y": [
          -880,
          -880,
          -916.25,
          -916.25
         ],
         "yaxis": "y"
        },
        {
         "hoverinfo": "text",
         "marker": {
          "color": "rgb(0,116,217)"
         },
         "mode": "lines",
         "text": [
          "leave_coffeecup_subscribed_clickz_subscribe",
          "",
          "",
          "greeting_music_card_mp3_cards"
         ],
         "type": "scatter",
         "x": [
          1.4133388915849414,
          1.4417382931017104,
          1.4417382931017104,
          1.0315106748395921
         ],
         "xaxis": "x",
         "y": [
          -747.7197265625,
          -747.7197265625,
          -898.125,
          -898.125
         ],
         "yaxis": "y"
        },
        {
         "hoverinfo": "text",
         "marker": {
          "color": "rgb(0,116,217)"
         },
         "mode": "lines",
         "text": [
          "avocadoit_408_562_2211_95131",
          "",
          "",
          "leave_coffeecup_subscribed_click_clickz"
         ],
         "type": "scatter",
         "x": [
          0.9619108227030408,
          1.6527458313885857,
          1.6527458313885857,
          1.4417382931017104
         ],
         "xaxis": "x",
         "y": [
          -464.6875,
          -464.6875,
          -822.92236328125,
          -822.92236328125
         ],
         "yaxis": "y"
        },
        {
         "hoverinfo": "text",
         "marker": {
          "color": "rgb(133,20,75)"
         },
         "mode": "lines",
         "text": [
          "resume_resumes_my_cv_da",
          "",
          "",
          "resume_resumes_position_face_chick"
         ],
         "type": "scatter",
         "x": [
          0,
          0.3709644273453876,
          0.3709644273453876,
          0
         ],
         "xaxis": "x",
         "y": [
          -955,
          -955,
          -965,
          -965
         ],
         "yaxis": "y"
        },
        {
         "hoverinfo": "text",
         "marker": {
          "color": "rgb(133,20,75)"
         },
         "mode": "lines",
         "text": [
          "resume_his_bennett_talked_he",
          "",
          "",
          "resume_resumes_my_cv_hiring"
         ],
         "type": "scatter",
         "x": [
          0,
          0.5807624005699904,
          0.5807624005699904,
          0.3709644273453876
         ],
         "xaxis": "x",
         "y": [
          -945,
          -945,
          -960,
          -960
         ],
         "yaxis": "y"
        },
        {
         "hoverinfo": "text",
         "marker": {
          "color": "rgb(255,220,0)"
         },
         "mode": "lines",
         "text": [
          "apply_resume_how_salary_attn",
          "",
          "",
          "jobs_interactivehq_apply_edt_date"
         ],
         "type": "scatter",
         "x": [
          0,
          0.5904068986019992,
          0.5904068986019992,
          0
         ],
         "xaxis": "x",
         "y": [
          -985,
          -985,
          -995,
          -995
         ],
         "yaxis": "y"
        },
        {
         "hoverinfo": "text",
         "marker": {
          "color": "rgb(255,220,0)"
         },
         "mode": "lines",
         "text": [
          "mnc_cover_auspices_nonprofit_mba",
          "",
          "",
          "apply_jobs_resume_interactivehq_edt"
         ],
         "type": "scatter",
         "x": [
          0,
          0.8193618337209386,
          0.8193618337209386,
          0.5904068986019992
         ],
         "xaxis": "x",
         "y": [
          -975,
          -975,
          -990,
          -990
         ],
         "yaxis": "y"
        },
        {
         "hoverinfo": "text",
         "marker": {
          "color": "rgb(40,35,35)"
         },
         "mode": "lines",
         "text": [
          "aim_association_interactive_digest_community",
          "",
          "",
          "interactivehq_org_lists_join_politics"
         ],
         "type": "scatter",
         "x": [
          0,
          0.8598309776339281,
          0.8598309776339281,
          0
         ],
         "xaxis": "x",
         "y": [
          -1005,
          -1005,
          -1015,
          -1015
         ],
         "yaxis": "y"
        },
        {
         "hoverinfo": "text",
         "marker": {
          "color": "rgb(40,35,35)"
         },
         "mode": "lines",
         "text": [
          "aim_interactivehq_provided_interactive_association",
          "",
          "",
          "svase_valley_silicon_org_subscribe"
         ],
         "type": "scatter",
         "x": [
          0.8598309776339281,
          0.9281783819425085,
          0.9281783819425085,
          0
         ],
         "xaxis": "x",
         "y": [
          -1010,
          -1010,
          -1025,
          -1025
         ],
         "yaxis": "y"
        },
        {
         "hoverinfo": "text",
         "marker": {
          "color": "rgb(0,116,217)"
         },
         "mode": "lines",
         "text": [
          "apply_resume_jobs_interactivehq_edt",
          "",
          "",
          "svase_org_association_valley_silicon"
         ],
         "type": "scatter",
         "x": [
          0.8193618337209386,
          1.051515911054435,
          1.051515911054435,
          0.9281783819425085
         ],
         "xaxis": "x",
         "y": [
          -982.5,
          -982.5,
          -1017.5,
          -1017.5
         ],
         "yaxis": "y"
        },
        {
         "hoverinfo": "text",
         "marker": {
          "color": "rgb(0,116,217)"
         },
         "mode": "lines",
         "text": [
          "resume_resumes_my_cv_hiring",
          "",
          "",
          "apply_resume_interactivehq_jobs_org"
         ],
         "type": "scatter",
         "x": [
          0.5807624005699904,
          1.2573343269296149,
          1.2573343269296149,
          1.051515911054435
         ],
         "xaxis": "x",
         "y": [
          -952.5,
          -952.5,
          -1000,
          -1000
         ],
         "yaxis": "y"
        },
        {
         "hoverinfo": "text",
         "marker": {
          "color": "rgb(0,116,217)"
         },
         "mode": "lines",
         "text": [
          "avocadoit_408_562_2211_95131",
          "",
          "",
          "resume_apply_jobs_interactivehq_org"
         ],
         "type": "scatter",
         "x": [
          1.6527458313885857,
          1.6628800291118901,
          1.6628800291118901,
          1.2573343269296149
         ],
         "xaxis": "x",
         "y": [
          -643.804931640625,
          -643.804931640625,
          -976.25,
          -976.25
         ],
         "yaxis": "y"
        },
        {
         "hoverinfo": "text",
         "marker": {
          "color": "rgb(61,153,112)"
         },
         "mode": "lines",
         "text": [
          "internet_newsletters_662_203_http",
          "",
          "",
          "internet_662_newsletters_203_http"
         ],
         "type": "scatter",
         "x": [
          0,
          0.023360956416357714,
          0.023360956416357714,
          0
         ],
         "xaxis": "x",
         "y": [
          -1045,
          -1045,
          -1055,
          -1055
         ],
         "yaxis": "y"
        },
        {
         "hoverinfo": "text",
         "marker": {
          "color": "rgb(61,153,112)"
         },
         "mode": "lines",
         "text": [
          "ipw_alert_list4_internetcontent_mailto",
          "",
          "",
          "internet_newsletters_662_203_http"
         ],
         "type": "scatter",
         "x": [
          0,
          0.8737229505766584,
          0.8737229505766584,
          0.023360956416357714
         ],
         "xaxis": "x",
         "y": [
          -1035,
          -1035,
          -1050,
          -1050
         ],
         "yaxis": "y"
        },
        {
         "hoverinfo": "text",
         "marker": {
          "color": "rgb(255,65,54)"
         },
         "mode": "lines",
         "text": [
          "allnetdevices_reprinting_linking_text_permissions",
          "",
          "",
          "cyberatlas_reprinting_linking_text_permissions"
         ],
         "type": "scatter",
         "x": [
          0,
          0.3621710193060368,
          0.3621710193060368,
          0
         ],
         "xaxis": "x",
         "y": [
          -1085,
          -1085,
          -1095,
          -1095
         ],
         "yaxis": "y"
        },
        {
         "hoverinfo": "text",
         "marker": {
          "color": "rgb(255,65,54)"
         },
         "mode": "lines",
         "text": [
          "allnetdevices_corporation_list4_text_subscribed",
          "",
          "",
          "reprinting_linking_text_permissions_allnetdevices"
         ],
         "type": "scatter",
         "x": [
          0,
          0.5719306503733967,
          0.5719306503733967,
          0.3621710193060368
         ],
         "xaxis": "x",
         "y": [
          -1075,
          -1075,
          -1090,
          -1090
         ],
         "yaxis": "y"
        },
        {
         "hoverinfo": "text",
         "marker": {
          "color": "rgb(255,65,54)"
         },
         "mode": "lines",
         "text": [
          "allnetdevices_list3_internet_1249353n_html",
          "",
          "",
          "text_allnetdevices_list4_reprinting_linking"
         ],
         "type": "scatter",
         "x": [
          0,
          0.7773875015776361,
          0.7773875015776361,
          0.5719306503733967
         ],
         "xaxis": "x",
         "y": [
          -1065,
          -1065,
          -1082.5,
          -1082.5
         ],
         "yaxis": "y"
        },
        {
         "hoverinfo": "text",
         "marker": {
          "color": "rgb(0,116,217)"
         },
         "mode": "lines",
         "text": [
          "internet_newsletters_662_203_http",
          "",
          "",
          "allnetdevices_text_internet_list4_subscribed"
         ],
         "type": "scatter",
         "x": [
          0.8737229505766584,
          1.27556942991609,
          1.27556942991609,
          0.7773875015776361
         ],
         "xaxis": "x",
         "y": [
          -1042.5,
          -1042.5,
          -1073.75,
          -1073.75
         ],
         "yaxis": "y"
        },
        {
         "hoverinfo": "text",
         "marker": {
          "color": "rgb(0,116,217)"
         },
         "mode": "lines",
         "text": [
          "avocadoit_408_562_2211_95131",
          "",
          "",
          "internet_newsletters_http_662_203"
         ],
         "type": "scatter",
         "x": [
          1.6628800291118901,
          1.714866622426007,
          1.714866622426007,
          1.27556942991609
         ],
         "xaxis": "x",
         "y": [
          -810.0274658203125,
          -810.0274658203125,
          -1058.125,
          -1058.125
         ],
         "yaxis": "y"
        },
        {
         "hoverinfo": "text",
         "marker": {
          "color": "rgb(0,116,217)"
         },
         "mode": "lines",
         "text": [
          "explorer_msn_yahoogroups_group_zingaris",
          "",
          "",
          "avocadoit_internet_408_562_leave"
         ],
         "type": "scatter",
         "x": [
          1.064737070569779,
          1.8602212745621172,
          1.8602212745621172,
          1.714866622426007
         ],
         "xaxis": "x",
         "y": [
          -398.75,
          -398.75,
          -934.0762329101562,
          -934.0762329101562
         ],
         "yaxis": "y"
        },
        {
         "hoverinfo": "text",
         "marker": {
          "color": "rgb(0,116,217)"
         },
         "mode": "lines",
         "text": [
          "java_servlet_listserv_interest_sun",
          "",
          "",
          "avocadoit_internet_408_562_http"
         ],
         "type": "scatter",
         "x": [
          0.8039003307510147,
          1.9219118795780123,
          1.9219118795780123,
          1.8602212745621172
         ],
         "xaxis": "x",
         "y": [
          -332.5,
          -332.5,
          -666.4131164550781,
          -666.4131164550781
         ],
         "yaxis": "y"
        },
        {
         "hoverinfo": "text",
         "marker": {
          "color": "rgb(35,205,205)"
         },
         "mode": "lines",
         "text": [
          "test_tests_results_ravi_testing",
          "",
          "",
          "test_tests_testing_plan_results"
         ],
         "type": "scatter",
         "x": [
          0,
          0.43152024926191934,
          0.43152024926191934,
          0
         ],
         "xaxis": "x",
         "y": [
          -1115,
          -1115,
          -1125,
          -1125
         ],
         "yaxis": "y"
        },
        {
         "hoverinfo": "text",
         "marker": {
          "color": "rgb(35,205,205)"
         },
         "mode": "lines",
         "text": [
          "results_test_ou_cios_pleasure",
          "",
          "",
          "test_tests_testing_plan_results"
         ],
         "type": "scatter",
         "x": [
          0,
          0.8177087884934116,
          0.8177087884934116,
          0.43152024926191934
         ],
         "xaxis": "x",
         "y": [
          -1105,
          -1105,
          -1120,
          -1120
         ],
         "yaxis": "y"
        },
        {
         "hoverinfo": "text",
         "marker": {
          "color": "rgb(61,153,112)"
         },
         "mode": "lines",
         "text": [
          "project_plan_analysis_projects_doc",
          "",
          "",
          "project_plan_projects_visvanathan_create"
         ],
         "type": "scatter",
         "x": [
          0,
          0.37448437574654925,
          0.37448437574654925,
          0
         ],
         "xaxis": "x",
         "y": [
          -1135,
          -1135,
          -1145,
          -1145
         ],
         "yaxis": "y"
        },
        {
         "hoverinfo": "text",
         "marker": {
          "color": "rgb(0,116,217)"
         },
         "mode": "lines",
         "text": [
          "test_results_tests_testing_plan",
          "",
          "",
          "project_plan_projects_create_analysis"
         ],
         "type": "scatter",
         "x": [
          0.8177087884934116,
          1.2058862315671466,
          1.2058862315671466,
          0.37448437574654925
         ],
         "xaxis": "x",
         "y": [
          -1112.5,
          -1112.5,
          -1140,
          -1140
         ],
         "yaxis": "y"
        },
        {
         "hoverinfo": "text",
         "marker": {
          "color": "rgb(255,65,54)"
         },
         "mode": "lines",
         "text": [
          "report_pipeline_forecast_reports_weekly",
          "",
          "",
          "reports_report_30am_staff_rnd"
         ],
         "type": "scatter",
         "x": [
          0,
          0.6779507050314725,
          0.6779507050314725,
          0
         ],
         "xaxis": "x",
         "y": [
          -1155,
          -1155,
          -1165,
          -1165
         ],
         "yaxis": "y"
        },
        {
         "hoverinfo": "text",
         "marker": {
          "color": "rgb(255,65,54)"
         },
         "mode": "lines",
         "text": [
          "report_reports_pipeline_weekly_forecast",
          "",
          "",
          "status_reports_report_weekly_daily"
         ],
         "type": "scatter",
         "x": [
          0.6779507050314725,
          0.7577970629718849,
          0.7577970629718849,
          0
         ],
         "xaxis": "x",
         "y": [
          -1160,
          -1160,
          -1175,
          -1175
         ],
         "yaxis": "y"
        },
        {
         "hoverinfo": "text",
         "marker": {
          "color": "rgb(35,205,205)"
         },
         "mode": "lines",
         "text": [
          "changes_update_hyperras_tomorrow_updated",
          "",
          "",
          "changes_made_modifications_make_minor"
         ],
         "type": "scatter",
         "x": [
          0,
          0.5660475954703439,
          0.5660475954703439,
          0
         ],
         "xaxis": "x",
         "y": [
          -1195,
          -1195,
          -1205,
          -1205
         ],
         "yaxis": "y"
        },
        {
         "hoverinfo": "text",
         "marker": {
          "color": "rgb(35,205,205)"
         },
         "mode": "lines",
         "text": [
          "update_updates_progress_golflogix_later",
          "",
          "",
          "changes_made_update_modifications_additions"
         ],
         "type": "scatter",
         "x": [
          0,
          0.8372419170608808,
          0.8372419170608808,
          0.5660475954703439
         ],
         "xaxis": "x",
         "y": [
          -1185,
          -1185,
          -1200,
          -1200
         ],
         "yaxis": "y"
        },
        {
         "hoverinfo": "text",
         "marker": {
          "color": "rgb(133,20,75)"
         },
         "mode": "lines",
         "text": [
          "list_add_onward_cob_consolidation",
          "",
          "",
          "list_partys_xmas_qs_cricket"
         ],
         "type": "scatter",
         "x": [
          0,
          0.5461101713310402,
          0.5461101713310402,
          0
         ],
         "xaxis": "x",
         "y": [
          -1225,
          -1225,
          -1235,
          -1235
         ],
         "yaxis": "y"
        },
        {
         "hoverinfo": "text",
         "marker": {
          "color": "rgb(133,20,75)"
         },
         "mode": "lines",
         "text": [
          "features_feature_release_issues_list",
          "",
          "",
          "list_add_onward_cob_consolidation"
         ],
         "type": "scatter",
         "x": [
          0,
          0.878783655643351,
          0.878783655643351,
          0.5461101713310402
         ],
         "xaxis": "x",
         "y": [
          -1215,
          -1215,
          -1230,
          -1230
         ],
         "yaxis": "y"
        },
        {
         "hoverinfo": "text",
         "marker": {
          "color": "rgb(255,220,0)"
         },
         "mode": "lines",
         "text": [
          "bugs_bug_fixes_fixed_blocker",
          "",
          "",
          "bugzilla_bug_whn_kasi_2121"
         ],
         "type": "scatter",
         "x": [
          0,
          0.7304793136243635,
          0.7304793136243635,
          0
         ],
         "xaxis": "x",
         "y": [
          -1245,
          -1245,
          -1255,
          -1255
         ],
         "yaxis": "y"
        },
        {
         "hoverinfo": "text",
         "marker": {
          "color": "rgb(0,116,217)"
         },
         "mode": "lines",
         "text": [
          "list_features_feature_add_issues",
          "",
          "",
          "bugs_bug_bugzilla_fixes_fixed"
         ],
         "type": "scatter",
         "x": [
          0.878783655643351,
          1.1012135673960897,
          1.1012135673960897,
          0.7304793136243635
         ],
         "xaxis": "x",
         "y": [
          -1222.5,
          -1222.5,
          -1250,
          -1250
         ],
         "yaxis": "y"
        },
        {
         "hoverinfo": "text",
         "marker": {
          "color": "rgb(0,116,217)"
         },
         "mode": "lines",
         "text": [
          "changes_update_updates_made_modifications",
          "",
          "",
          "bugs_bug_list_bugzilla_features"
         ],
         "type": "scatter",
         "x": [
          0.8372419170608808,
          1.1641493095917506,
          1.1641493095917506,
          1.1012135673960897
         ],
         "xaxis": "x",
         "y": [
          -1192.5,
          -1192.5,
          -1236.25,
          -1236.25
         ],
         "yaxis": "y"
        },
        {
         "hoverinfo": "text",
         "marker": {
          "color": "rgb(40,35,35)"
         },
         "mode": "lines",
         "text": [
          "roopak_schema_dbupdate_experiencing_delays",
          "",
          "",
          "emds_emas_guide_ravi_preliminary"
         ],
         "type": "scatter",
         "x": [
          0,
          0.8954159645445852,
          0.8954159645445852,
          0
         ],
         "xaxis": "x",
         "y": [
          -1265,
          -1265,
          -1275,
          -1275
         ],
         "yaxis": "y"
        },
        {
         "hoverinfo": "text",
         "marker": {
          "color": "rgb(40,35,35)"
         },
         "mode": "lines",
         "text": [
          "alias_aliases_processes_om_fs",
          "",
          "",
          "installation_install_installer_installshield_installed"
         ],
         "type": "scatter",
         "x": [
          0,
          0.8811790550050091,
          0.8811790550050091,
          0
         ],
         "xaxis": "x",
         "y": [
          -1285,
          -1285,
          -1295,
          -1295
         ],
         "yaxis": "y"
        },
        {
         "hoverinfo": "text",
         "marker": {
          "color": "rgb(40,35,35)"
         },
         "mode": "lines",
         "text": [
          "installation_alias_install_installer_installshield",
          "",
          "",
          "srik_srikant_ritesh_coordinate_sriram"
         ],
         "type": "scatter",
         "x": [
          0.8811790550050091,
          0.9165982844067132,
          0.9165982844067132,
          0
         ],
         "xaxis": "x",
         "y": [
          -1290,
          -1290,
          -1305,
          -1305
         ],
         "yaxis": "y"
        },
        {
         "hoverinfo": "text",
         "marker": {
          "color": "rgb(40,35,35)"
         },
         "mode": "lines",
         "text": [
          "roopak_emds_emas_schema_dbupdate",
          "",
          "",
          "srik_installation_alias_install_installer"
         ],
         "type": "scatter",
         "x": [
          0.8954159645445852,
          0.9838012711776795,
          0.9838012711776795,
          0.9165982844067132
         ],
         "xaxis": "x",
         "y": [
          -1270,
          -1270,
          -1297.5,
          -1297.5
         ],
         "yaxis": "y"
        },
        {
         "hoverinfo": "text",
         "marker": {
          "color": "rgb(61,153,112)"
         },
         "mode": "lines",
         "text": [
          "build_builds_5_alerts_available_qa",
          "",
          "",
          "wilhan_build_qa_done_buid"
         ],
         "type": "scatter",
         "x": [
          0,
          0.5733097010294999,
          0.5733097010294999,
          0
         ],
         "xaxis": "x",
         "y": [
          -1315,
          -1315,
          -1325,
          -1325
         ],
         "yaxis": "y"
        },
        {
         "hoverinfo": "text",
         "marker": {
          "color": "rgb(0,116,217)"
         },
         "mode": "lines",
         "text": [
          "srik_roopak_alias_install_installation",
          "",
          "",
          "build_wilhan_qa_builds_available"
         ],
         "type": "scatter",
         "x": [
          0.9838012711776795,
          1.0467317955499262,
          1.0467317955499262,
          0.5733097010294999
         ],
         "xaxis": "x",
         "y": [
          -1283.75,
          -1283.75,
          -1320,
          -1320
         ],
         "yaxis": "y"
        },
        {
         "hoverinfo": "text",
         "marker": {
          "color": "rgb(0,116,217)"
         },
         "mode": "lines",
         "text": [
          "bugs_bug_list_bugzilla_changes",
          "",
          "",
          "build_srik_roopak_wilhan_alias"
         ],
         "type": "scatter",
         "x": [
          1.1641493095917506,
          1.2274960544830233,
          1.2274960544830233,
          1.0467317955499262
         ],
         "xaxis": "x",
         "y": [
          -1214.375,
          -1214.375,
          -1301.875,
          -1301.875
         ],
         "yaxis": "y"
        },
        {
         "hoverinfo": "text",
         "marker": {
          "color": "rgb(0,116,217)"
         },
         "mode": "lines",
         "text": [
          "status_report_reports_weekly_pipeline",
          "",
          "",
          "bugs_bug_list_build_srik"
         ],
         "type": "scatter",
         "x": [
          0.7577970629718849,
          1.2880934259595245,
          1.2880934259595245,
          1.2274960544830233
         ],
         "xaxis": "x",
         "y": [
          -1167.5,
          -1167.5,
          -1258.125,
          -1258.125
         ],
         "yaxis": "y"
        },
        {
         "hoverinfo": "text",
         "marker": {
          "color": "rgb(0,116,217)"
         },
         "mode": "lines",
         "text": [
          "test_project_plan_results_tests",
          "",
          "",
          "bugs_list_bug_build_srik"
         ],
         "type": "scatter",
         "x": [
          1.2058862315671466,
          1.3009422820959273,
          1.3009422820959273,
          1.2880934259595245
         ],
         "xaxis": "x",
         "y": [
          -1126.25,
          -1126.25,
          -1212.8125,
          -1212.8125
         ],
         "yaxis": "y"
        },
        {
         "hoverinfo": "text",
         "marker": {
          "color": "rgb(255,65,54)"
         },
         "mode": "lines",
         "text": [
          "comments_feedback_incorporating_directly_thanks",
          "",
          "",
          "comments_feedback_review_please_your"
         ],
         "type": "scatter",
         "x": [
          0,
          0.3748878703391124,
          0.3748878703391124,
          0
         ],
         "xaxis": "x",
         "y": [
          -1335,
          -1335,
          -1345,
          -1345
         ],
         "yaxis": "y"
        },
        {
         "hoverinfo": "text",
         "marker": {
          "color": "rgb(255,65,54)"
         },
         "mode": "lines",
         "text": [
          "review_document_before_comments_reviews",
          "",
          "",
          "review_saroya_revieweing_remark_outbox"
         ],
         "type": "scatter",
         "x": [
          0,
          0.5432406049120773,
          0.5432406049120773,
          0
         ],
         "xaxis": "x",
         "y": [
          -1355,
          -1355,
          -1365,
          -1365
         ],
         "yaxis": "y"
        },
        {
         "hoverinfo": "text",
         "marker": {
          "color": "rgb(255,65,54)"
         },
         "mode": "lines",
         "text": [
          "comments_feedback_review_please_feel",
          "",
          "",
          "review_document_before_reviews_reviewers"
         ],
         "type": "scatter",
         "x": [
          0.3748878703391124,
          0.9589134644921932,
          0.9589134644921932,
          0.5432406049120773
         ],
         "xaxis": "x",
         "y": [
          -1340,
          -1340,
          -1360,
          -1360
         ],
         "yaxis": "y"
        },
        {
         "hoverinfo": "text",
         "marker": {
          "color": "rgb(35,205,205)"
         },
         "mode": "lines",
         "text": [
          "draft_final_deck_tonight_wednesday",
          "",
          "",
          "draft_thru_erin_dahle_qt"
         ],
         "type": "scatter",
         "x": [
          0,
          0.17574430592250967,
          0.17574430592250967,
          0
         ],
         "xaxis": "x",
         "y": [
          -1375,
          -1375,
          -1385,
          -1385
         ],
         "yaxis": "y"
        },
        {
         "hoverinfo": "text",
         "marker": {
          "color": "rgb(0,116,217)"
         },
         "mode": "lines",
         "text": [
          "review_comments_feedback_please_feel",
          "",
          "",
          "draft_final_tonight_wednesday_done"
         ],
         "type": "scatter",
         "x": [
          0.9589134644921932,
          1.3330225108052085,
          1.3330225108052085,
          0.17574430592250967
         ],
         "xaxis": "x",
         "y": [
          -1350,
          -1350,
          -1380,
          -1380
         ],
         "yaxis": "y"
        },
        {
         "hoverinfo": "text",
         "marker": {
          "color": "rgb(0,116,217)"
         },
         "mode": "lines",
         "text": [
          "list_bugs_bug_build_srik",
          "",
          "",
          "draft_review_comments_feedback_please"
         ],
         "type": "scatter",
         "x": [
          1.3009422820959273,
          1.3832118628952172,
          1.3832118628952172,
          1.3330225108052085
         ],
         "xaxis": "x",
         "y": [
          -1169.53125,
          -1169.53125,
          -1365,
          -1365
         ],
         "yaxis": "y"
        },
        {
         "hoverinfo": "text",
         "marker": {
          "color": "rgb(61,153,112)"
         },
         "mode": "lines",
         "text": [
          "nursing_interesting_ahead_they_freak",
          "",
          "",
          "them_info_they_shorten_rwmem"
         ],
         "type": "scatter",
         "x": [
          0,
          0.7932615182077528,
          0.7932615182077528,
          0
         ],
         "xaxis": "x",
         "y": [
          -1395,
          -1395,
          -1405,
          -1405
         ],
         "yaxis": "y"
        },
        {
         "hoverinfo": "text",
         "marker": {
          "color": "rgb(61,153,112)"
         },
         "mode": "lines",
         "text": [
          "person_what_sent_this_it",
          "",
          "",
          "it_did_tomorrow_again_ll"
         ],
         "type": "scatter",
         "x": [
          0,
          0.521601418367102,
          0.521601418367102,
          0
         ],
         "xaxis": "x",
         "y": [
          -1425,
          -1425,
          -1435,
          -1435
         ],
         "yaxis": "y"
        },
        {
         "hoverinfo": "text",
         "marker": {
          "color": "rgb(61,153,112)"
         },
         "mode": "lines",
         "text": [
          "it_did_ll_sent_tomorrow",
          "",
          "",
          "location_sent_west_we_in"
         ],
         "type": "scatter",
         "x": [
          0.521601418367102,
          0.5758410915000541,
          0.5758410915000541,
          0
         ],
         "xaxis": "x",
         "y": [
          -1430,
          -1430,
          -1445,
          -1445
         ],
         "yaxis": "y"
        },
        {
         "hoverinfo": "text",
         "marker": {
          "color": "rgb(61,153,112)"
         },
         "mode": "lines",
         "text": [
          "them_these_those_ones_soon",
          "",
          "",
          "location_it_sent_this_did"
         ],
         "type": "scatter",
         "x": [
          0,
          0.6784365925949256,
          0.6784365925949256,
          0.5758410915000541
         ],
         "xaxis": "x",
         "y": [
          -1415,
          -1415,
          -1437.5,
          -1437.5
         ],
         "yaxis": "y"
        },
        {
         "hoverinfo": "text",
         "marker": {
          "color": "rgb(61,153,112)"
         },
         "mode": "lines",
         "text": [
          "emails_email_sent_an_person",
          "",
          "",
          "him_he_his_sent_told"
         ],
         "type": "scatter",
         "x": [
          0,
          0.6492495729489637,
          0.6492495729489637,
          0
         ],
         "xaxis": "x",
         "y": [
          -1455,
          -1455,
          -1465,
          -1465
         ],
         "yaxis": "y"
        },
        {
         "hoverinfo": "text",
         "marker": {
          "color": "rgb(61,153,112)"
         },
         "mode": "lines",
         "text": [
          "location_it_them_sent_ll",
          "",
          "",
          "him_he_his_sent_email"
         ],
         "type": "scatter",
         "x": [
          0.6784365925949256,
          0.8403229681123544,
          0.8403229681123544,
          0.6492495729489637
         ],
         "xaxis": "x",
         "y": [
          -1426.25,
          -1426.25,
          -1460,
          -1460
         ],
         "yaxis": "y"
        },
        {
         "hoverinfo": "text",
         "marker": {
          "color": "rgb(61,153,112)"
         },
         "mode": "lines",
         "text": [
          "them_they_nursing_info_raise",
          "",
          "",
          "him_he_location_sent_his"
         ],
         "type": "scatter",
         "x": [
          0.7932615182077528,
          0.9791308127380663,
          0.9791308127380663,
          0.8403229681123544
         ],
         "xaxis": "x",
         "y": [
          -1400,
          -1400,
          -1443.125,
          -1443.125
         ],
         "yaxis": "y"
        },
        {
         "hoverinfo": "text",
         "marker": {
          "color": "rgb(255,65,54)"
         },
         "mode": "lines",
         "text": [
          "problem_having_sendmail_trouble_wrong",
          "",
          "",
          "had_mistake_novell_hit_jumped"
         ],
         "type": "scatter",
         "x": [
          0,
          0.7829799345722619,
          0.7829799345722619,
          0
         ],
         "xaxis": "x",
         "y": [
          -1495,
          -1495,
          -1505,
          -1505
         ],
         "yaxis": "y"
        },
        {
         "hoverinfo": "text",
         "marker": {
          "color": "rgb(255,65,54)"
         },
         "mode": "lines",
         "text": [
          "realized_emails_faux_browny_pas",
          "",
          "",
          "problem_having_maybe_happend_had"
         ],
         "type": "scatter",
         "x": [
          0,
          0.8426325178651801,
          0.8426325178651801,
          0.7829799345722619
         ],
         "xaxis": "x",
         "y": [
          -1485,
          -1485,
          -1500,
          -1500
         ],
         "yaxis": "y"
        },
        {
         "hoverinfo": "text",
         "marker": {
          "color": "rgb(255,65,54)"
         },
         "mode": "lines",
         "text": [
          "aol_msierra_noemigp_aqs_address",
          "",
          "",
          "problem_emails_having_my_had"
         ],
         "type": "scatter",
         "x": [
          0,
          0.897655838595547,
          0.897655838595547,
          0.8426325178651801
         ],
         "xaxis": "x",
         "y": [
          -1475,
          -1475,
          -1492.5,
          -1492.5
         ],
         "yaxis": "y"
        },
        {
         "hoverinfo": "text",
         "marker": {
          "color": "rgb(35,205,205)"
         },
         "mode": "lines",
         "text": [
          "bhagavan_decoded_chaitanya_rejected_mail",
          "",
          "",
          "mail_yday_pmn_outy_magma"
         ],
         "type": "scatter",
         "x": [
          0,
          0.7754633944860541,
          0.7754633944860541,
          0
         ],
         "xaxis": "x",
         "y": [
          -1515,
          -1515,
          -1525,
          -1525
         ],
         "yaxis": "y"
        },
        {
         "hoverinfo": "text",
         "marker": {
          "color": "rgb(35,205,205)"
         },
         "mode": "lines",
         "text": [
          "mail_hour_reply_yday_pmn",
          "",
          "",
          "so_if_sendmxsmg_guis_mricktor"
         ],
         "type": "scatter",
         "x": [
          0.7754633944860541,
          0.8768424171488325,
          0.8768424171488325,
          0
         ],
         "xaxis": "x",
         "y": [
          -1520,
          -1520,
          -1535,
          -1535
         ],
         "yaxis": "y"
        },
        {
         "hoverinfo": "text",
         "marker": {
          "color": "rgb(0,116,217)"
         },
         "mode": "lines",
         "text": [
          "emails_problem_my_having_had",
          "",
          "",
          "so_mail_reply_me_if"
         ],
         "type": "scatter",
         "x": [
          0.897655838595547,
          1.0044943222108964,
          1.0044943222108964,
          0.8768424171488325
         ],
         "xaxis": "x",
         "y": [
          -1483.75,
          -1483.75,
          -1527.5,
          -1527.5
         ],
         "yaxis": "y"
        },
        {
         "hoverinfo": "text",
         "marker": {
          "color": "rgb(0,116,217)"
         },
         "mode": "lines",
         "text": [
          "him_he_location_sent_his",
          "",
          "",
          "mail_emails_so_address_email"
         ],
         "type": "scatter",
         "x": [
          0.9791308127380663,
          1.1087566517932934,
          1.1087566517932934,
          1.0044943222108964
         ],
         "xaxis": "x",
         "y": [
          -1421.5625,
          -1421.5625,
          -1505.625,
          -1505.625
         ],
         "yaxis": "y"
        },
        {
         "hoverinfo": "text",
         "marker": {
          "color": "rgb(133,20,75)"
         },
         "mode": "lines",
         "text": [
          "document_copy_documents_paper_white",
          "",
          "",
          "document_documents_conflict_paper_copy"
         ],
         "type": "scatter",
         "x": [
          0,
          0.48886297224407604,
          0.48886297224407604,
          0
         ],
         "xaxis": "x",
         "y": [
          -1555,
          -1555,
          -1565,
          -1565
         ],
         "yaxis": "y"
        },
        {
         "hoverinfo": "text",
         "marker": {
          "color": "rgb(133,20,75)"
         },
         "mode": "lines",
         "text": [
          "copy_soft_copies_final_me",
          "",
          "",
          "document_documents_copy_paper_white"
         ],
         "type": "scatter",
         "x": [
          0,
          0.7948981498454641,
          0.7948981498454641,
          0.48886297224407604
         ],
         "xaxis": "x",
         "y": [
          -1545,
          -1545,
          -1560,
          -1560
         ],
         "yaxis": "y"
        },
        {
         "hoverinfo": "text",
         "marker": {
          "color": "rgb(0,116,217)"
         },
         "mode": "lines",
         "text": [
          "him_he_sent_location_his",
          "",
          "",
          "copy_document_documents_soft_paper"
         ],
         "type": "scatter",
         "x": [
          1.1087566517932934,
          1.1840326332610422,
          1.1840326332610422,
          0.7948981498454641
         ],
         "xaxis": "x",
         "y": [
          -1463.59375,
          -1463.59375,
          -1552.5,
          -1552.5
         ],
         "yaxis": "y"
        },
        {
         "hoverinfo": "text",
         "marker": {
          "color": "rgb(255,220,0)"
         },
         "mode": "lines",
         "text": [
          "details_info_information_me_more",
          "",
          "",
          "conatct_info_eod_confirm_information"
         ],
         "type": "scatter",
         "x": [
          0,
          0.7218070139060717,
          0.7218070139060717,
          0
         ],
         "xaxis": "x",
         "y": [
          -1585,
          -1585,
          -1595,
          -1595
         ],
         "yaxis": "y"
        },
        {
         "hoverinfo": "text",
         "marker": {
          "color": "rgb(255,220,0)"
         },
         "mode": "lines",
         "text": [
          "transpired_avail_amli_b_3080287750_10316153_information",
          "",
          "",
          "details_info_information_me_more"
         ],
         "type": "scatter",
         "x": [
          0,
          0.8270009154402637,
          0.8270009154402637,
          0.7218070139060717
         ],
         "xaxis": "x",
         "y": [
          -1575,
          -1575,
          -1590,
          -1590
         ],
         "yaxis": "y"
        },
        {
         "hoverinfo": "text",
         "marker": {
          "color": "rgb(255,220,0)"
         },
         "mode": "lines",
         "text": [
          "contact_info_cparente_ivolio_6493",
          "",
          "",
          "contact_info_condrey_personal_jeannie"
         ],
         "type": "scatter",
         "x": [
          0,
          0.5573561994421232,
          0.5573561994421232,
          0
         ],
         "xaxis": "x",
         "y": [
          -1605,
          -1605,
          -1615,
          -1615
         ],
         "yaxis": "y"
        },
        {
         "hoverinfo": "text",
         "marker": {
          "color": "rgb(255,220,0)"
         },
         "mode": "lines",
         "text": [
          "details_info_information_me_more",
          "",
          "",
          "contact_info_information_condrey_me"
         ],
         "type": "scatter",
         "x": [
          0.8270009154402637,
          0.9320110131404983,
          0.9320110131404983,
          0.5573561994421232
         ],
         "xaxis": "x",
         "y": [
          -1582.5,
          -1582.5,
          -1610,
          -1610
         ],
         "yaxis": "y"
        },
        {
         "hoverinfo": "text",
         "marker": {
          "color": "rgb(0,116,217)"
         },
         "mode": "lines",
         "text": [
          "him_he_sent_location_it",
          "",
          "",
          "info_details_information_contact_me"
         ],
         "type": "scatter",
         "x": [
          1.1840326332610422,
          1.3312736982451632,
          1.3312736982451632,
          0.9320110131404983
         ],
         "xaxis": "x",
         "y": [
          -1508.046875,
          -1508.046875,
          -1596.25,
          -1596.25
         ],
         "yaxis": "y"
        },
        {
         "hoverinfo": "text",
         "marker": {
          "color": "rgb(0,116,217)"
         },
         "mode": "lines",
         "text": [
          "review_draft_list_comments_bugs",
          "",
          "",
          "him_he_sent_location_it"
         ],
         "type": "scatter",
         "x": [
          1.3832118628952172,
          1.517469993402831,
          1.517469993402831,
          1.3312736982451632
         ],
         "xaxis": "x",
         "y": [
          -1267.265625,
          -1267.265625,
          -1552.1484375,
          -1552.1484375
         ],
         "yaxis": "y"
        },
        {
         "hoverinfo": "text",
         "marker": {
          "color": "rgb(40,35,35)"
         },
         "mode": "lines",
         "text": [
          "video_delta_mro_props_lets",
          "",
          "",
          "video_985_emails_yahoo_suresh"
         ],
         "type": "scatter",
         "x": [
          0,
          0.5963210266926986,
          0.5963210266926986,
          0
         ],
         "xaxis": "x",
         "y": [
          -1635,
          -1635,
          -1645,
          -1645
         ],
         "yaxis": "y"
        },
        {
         "hoverinfo": "text",
         "marker": {
          "color": "rgb(40,35,35)"
         },
         "mode": "lines",
         "text": [
          "video_bandwidth_vcr_wan_clips",
          "",
          "",
          "video_985_emails_delta_yahoo"
         ],
         "type": "scatter",
         "x": [
          0,
          0.8203903111943841,
          0.8203903111943841,
          0.5963210266926986
         ],
         "xaxis": "x",
         "y": [
          -1625,
          -1625,
          -1640,
          -1640
         ],
         "yaxis": "y"
        },
        {
         "hoverinfo": "text",
         "marker": {
          "color": "rgb(61,153,112)"
         },
         "mode": "lines",
         "text": [
          "alerts_alert_devices_actionable_bitmo",
          "",
          "",
          "instant_alerts_yahoo_messages_do"
         ],
         "type": "scatter",
         "x": [
          0,
          0.7741542804352084,
          0.7741542804352084,
          0
         ],
         "xaxis": "x",
         "y": [
          -1655,
          -1655,
          -1665,
          -1665
         ],
         "yaxis": "y"
        },
        {
         "hoverinfo": "text",
         "marker": {
          "color": "rgb(255,65,54)"
         },
         "mode": "lines",
         "text": [
          "million_messages_cent_per_telstra",
          "",
          "",
          "sms_messages_messaging_mobile_service"
         ],
         "type": "scatter",
         "x": [
          0,
          0.644471539494116,
          0.644471539494116,
          0
         ],
         "xaxis": "x",
         "y": [
          -1675,
          -1675,
          -1685,
          -1685
         ],
         "yaxis": "y"
        },
        {
         "hoverinfo": "text",
         "marker": {
          "color": "rgb(255,65,54)"
         },
         "mode": "lines",
         "text": [
          "camera_pictures_users_equipped_sha",
          "",
          "",
          "sprint_pcs_intercept_volunteered_aircards"
         ],
         "type": "scatter",
         "x": [
          0,
          0.8590230763276706,
          0.8590230763276706,
          0
         ],
         "xaxis": "x",
         "y": [
          -1695,
          -1695,
          -1705,
          -1705
         ],
         "yaxis": "y"
        },
        {
         "hoverinfo": "text",
         "marker": {
          "color": "rgb(255,65,54)"
         },
         "mode": "lines",
         "text": [
          "sms_messages_messaging_mobile_text",
          "",
          "",
          "sprint_camera_pictures_users_equipped"
         ],
         "type": "scatter",
         "x": [
          0.644471539494116,
          0.9972491415835611,
          0.9972491415835611,
          0.8590230763276706
         ],
         "xaxis": "x",
         "y": [
          -1680,
          -1680,
          -1700,
          -1700
         ],
         "yaxis": "y"
        },
        {
         "hoverinfo": "text",
         "marker": {
          "color": "rgb(0,116,217)"
         },
         "mode": "lines",
         "text": [
          "alerts_alert_instant_messages_yahoo",
          "",
          "",
          "sms_messages_sprint_users_mobile"
         ],
         "type": "scatter",
         "x": [
          0.7741542804352084,
          1.0588930398491225,
          1.0588930398491225,
          0.9972491415835611
         ],
         "xaxis": "x",
         "y": [
          -1660,
          -1660,
          -1690,
          -1690
         ],
         "yaxis": "y"
        },
        {
         "hoverinfo": "text",
         "marker": {
          "color": "rgb(35,205,205)"
         },
         "mode": "lines",
         "text": [
          "pictures_picture_photos_photo_pics",
          "",
          "",
          "pics_photo_picture_allgraphics_hair"
         ],
         "type": "scatter",
         "x": [
          0,
          0.5655951352575956,
          0.5655951352575956,
          0
         ],
         "xaxis": "x",
         "y": [
          -1715,
          -1715,
          -1725,
          -1725
         ],
         "yaxis": "y"
        },
        {
         "hoverinfo": "text",
         "marker": {
          "color": "rgb(0,116,217)"
         },
         "mode": "lines",
         "text": [
          "alerts_sms_messages_instant_alert",
          "",
          "",
          "pictures_picture_photo_photos_pics"
         ],
         "type": "scatter",
         "x": [
          1.0588930398491225,
          1.2153825133575653,
          1.2153825133575653,
          0.5655951352575956
         ],
         "xaxis": "x",
         "y": [
          -1675,
          -1675,
          -1720,
          -1720
         ],
         "yaxis": "y"
        },
        {
         "hoverinfo": "text",
         "marker": {
          "color": "rgb(0,116,217)"
         },
         "mode": "lines",
         "text": [
          "video_985_emails_delta_yahoo",
          "",
          "",
          "alerts_sms_messages_pictures_instant"
         ],
         "type": "scatter",
         "x": [
          0.8203903111943841,
          1.3428320749606397,
          1.3428320749606397,
          1.2153825133575653
         ],
         "xaxis": "x",
         "y": [
          -1632.5,
          -1632.5,
          -1697.5,
          -1697.5
         ],
         "yaxis": "y"
        },
        {
         "hoverinfo": "text",
         "marker": {
          "color": "rgb(61,153,112)"
         },
         "mode": "lines",
         "text": [
          "template_templates_requirements_narrative_per",
          "",
          "",
          "template_templates_art_compact_platform"
         ],
         "type": "scatter",
         "x": [
          0,
          0.4476631159023604,
          0.4476631159023604,
          0
         ],
         "xaxis": "x",
         "y": [
          -1735,
          -1735,
          -1745,
          -1745
         ],
         "yaxis": "y"
        },
        {
         "hoverinfo": "text",
         "marker": {
          "color": "rgb(255,65,54)"
         },
         "mode": "lines",
         "text": [
          "prakash_rajeev_req_he_meeting",
          "",
          "",
          "rajeev_rajdeep_sreekanth_debbi_samskritam"
         ],
         "type": "scatter",
         "x": [
          0,
          0.8845917257103081,
          0.8845917257103081,
          0
         ],
         "xaxis": "x",
         "y": [
          -1755,
          -1755,
          -1765,
          -1765
         ],
         "yaxis": "y"
        },
        {
         "hoverinfo": "text",
         "marker": {
          "color": "rgb(35,205,205)"
         },
         "mode": "lines",
         "text": [
          "laptop_laptops_dell_battery_switch",
          "",
          "",
          "log_logs_files_loglevel_debug"
         ],
         "type": "scatter",
         "x": [
          0,
          0.9012943554434946,
          0.9012943554434946,
          0
         ],
         "xaxis": "x",
         "y": [
          -1775,
          -1775,
          -1785,
          -1785
         ],
         "yaxis": "y"
        },
        {
         "hoverinfo": "text",
         "marker": {
          "color": "rgb(35,205,205)"
         },
         "mode": "lines",
         "text": [
          "biogen_dna_biogen_release_rfi_srf",
          "",
          "",
          "rfp_rfi_boeing_rfq_response"
         ],
         "type": "scatter",
         "x": [
          0,
          0.9247274040911326,
          0.9247274040911326,
          0
         ],
         "xaxis": "x",
         "y": [
          -1795,
          -1795,
          -1805,
          -1805
         ],
         "yaxis": "y"
        },
        {
         "hoverinfo": "text",
         "marker": {
          "color": "rgb(35,205,205)"
         },
         "mode": "lines",
         "text": [
          "laptop_log_logs_laptops_dell",
          "",
          "",
          "biogen_rfp_rfi_dna_biogen_release"
         ],
         "type": "scatter",
         "x": [
          0.9012943554434946,
          0.9846034205665942,
          0.9846034205665942,
          0.9247274040911326
         ],
         "xaxis": "x",
         "y": [
          -1780,
          -1780,
          -1800,
          -1800
         ],
         "yaxis": "y"
        },
        {
         "hoverinfo": "text",
         "marker": {
          "color": "rgb(0,116,217)"
         },
         "mode": "lines",
         "text": [
          "prakash_rajeev_req_had_sent",
          "",
          "",
          "biogen_rfp_laptop_rfi_log"
         ],
         "type": "scatter",
         "x": [
          0.8845917257103081,
          1.0117535764023053,
          1.0117535764023053,
          0.9846034205665942
         ],
         "xaxis": "x",
         "y": [
          -1760,
          -1760,
          -1790,
          -1790
         ],
         "yaxis": "y"
        },
        {
         "hoverinfo": "text",
         "marker": {
          "color": "rgb(133,20,75)"
         },
         "mode": "lines",
         "text": [
          "pda_carry_vcalendar_pcdata_options",
          "",
          "",
          "vss_webbyphone_files_applicationsengineering_quicken"
         ],
         "type": "scatter",
         "x": [
          0,
          0.88642972158224,
          0.88642972158224,
          0
         ],
         "xaxis": "x",
         "y": [
          -1815,
          -1815,
          -1825,
          -1825
         ],
         "yaxis": "y"
        },
        {
         "hoverinfo": "text",
         "marker": {
          "color": "rgb(0,116,217)"
         },
         "mode": "lines",
         "text": [
          "prakash_biogen_rfp_rajeev_laptop",
          "",
          "",
          "vss_pda_webbyphone_files_applicationsengineering"
         ],
         "type": "scatter",
         "x": [
          1.0117535764023053,
          1.0391430832082813,
          1.0391430832082813,
          0.88642972158224
         ],
         "xaxis": "x",
         "y": [
          -1775,
          -1775,
          -1820,
          -1820
         ],
         "yaxis": "y"
        },
        {
         "hoverinfo": "text",
         "marker": {
          "color": "rgb(255,220,0)"
         },
         "mode": "lines",
         "text": [
          "class_classpath_file_saving_1424",
          "",
          "",
          "training_class_people_directions_course"
         ],
         "type": "scatter",
         "x": [
          0,
          0.8511916932229123,
          0.8511916932229123,
          0
         ],
         "xaxis": "x",
         "y": [
          -1835,
          -1835,
          -1845,
          -1845
         ],
         "yaxis": "y"
        },
        {
         "hoverinfo": "text",
         "marker": {
          "color": "rgb(255,220,0)"
         },
         "mode": "lines",
         "text": [
          "training_class_people_directions_course",
          "",
          "",
          "directions_pky_yestreday_product_id_d2"
         ],
         "type": "scatter",
         "x": [
          0.8511916932229123,
          0.9506961165279347,
          0.9506961165279347,
          0
         ],
         "xaxis": "x",
         "y": [
          -1840,
          -1840,
          -1855,
          -1855
         ],
         "yaxis": "y"
        },
        {
         "hoverinfo": "text",
         "marker": {
          "color": "rgb(0,116,217)"
         },
         "mode": "lines",
         "text": [
          "prakash_biogen_vss_rfp_rajeev",
          "",
          "",
          "training_directions_class_people_course"
         ],
         "type": "scatter",
         "x": [
          1.0391430832082813,
          1.068865410836551,
          1.068865410836551,
          0.9506961165279347
         ],
         "xaxis": "x",
         "y": [
          -1797.5,
          -1797.5,
          -1847.5,
          -1847.5
         ],
         "yaxis": "y"
        },
        {
         "hoverinfo": "text",
         "marker": {
          "color": "rgb(40,35,35)"
         },
         "mode": "lines",
         "text": [
          "demo_url_demos_afternoon_helpful",
          "",
          "",
          "demo_hud_follow_attended_teamsite"
         ],
         "type": "scatter",
         "x": [
          0,
          0.6633768392683463,
          0.6633768392683463,
          0
         ],
         "xaxis": "x",
         "y": [
          -1865,
          -1865,
          -1875,
          -1875
         ],
         "yaxis": "y"
        },
        {
         "hoverinfo": "text",
         "marker": {
          "color": "rgb(61,153,112)"
         },
         "mode": "lines",
         "text": [
          "webex_participants_password_webinar_meeting",
          "",
          "",
          "password_login_vpn_passwords_username"
         ],
         "type": "scatter",
         "x": [
          0,
          0.8714576353826352,
          0.8714576353826352,
          0
         ],
         "xaxis": "x",
         "y": [
          -1885,
          -1885,
          -1895,
          -1895
         ],
         "yaxis": "y"
        },
        {
         "hoverinfo": "text",
         "marker": {
          "color": "rgb(0,116,217)"
         },
         "mode": "lines",
         "text": [
          "demo_hud_requirements_follow_se",
          "",
          "",
          "password_webex_login_vpn_passwords"
         ],
         "type": "scatter",
         "x": [
          0.6633768392683463,
          1.0468390058581207,
          1.0468390058581207,
          0.8714576353826352
         ],
         "xaxis": "x",
         "y": [
          -1870,
          -1870,
          -1890,
          -1890
         ],
         "yaxis": "y"
        },
        {
         "hoverinfo": "text",
         "marker": {
          "color": "rgb(0,116,217)"
         },
         "mode": "lines",
         "text": [
          "prakash_training_biogen_vss_rfp",
          "",
          "",
          "password_demo_webex_login_passwords"
         ],
         "type": "scatter",
         "x": [
          1.068865410836551,
          1.1030623688893781,
          1.1030623688893781,
          1.0468390058581207
         ],
         "xaxis": "x",
         "y": [
          -1822.5,
          -1822.5,
          -1880,
          -1880
         ],
         "yaxis": "y"
        },
        {
         "hoverinfo": "text",
         "marker": {
          "color": "rgb(255,65,54)"
         },
         "mode": "lines",
         "text": [
          "biz_sales_company_partner_partners",
          "",
          "",
          "commerceworld_customers_advertising_promotions_beneficial"
         ],
         "type": "scatter",
         "x": [
          0,
          0.7760251491297434,
          0.7760251491297434,
          0
         ],
         "xaxis": "x",
         "y": [
          -1915,
          -1915,
          -1925,
          -1925
         ],
         "yaxis": "y"
        },
        {
         "hoverinfo": "text",
         "marker": {
          "color": "rgb(255,65,54)"
         },
         "mode": "lines",
         "text": [
          "wireless_essential_applications_research_wirelessdata",
          "",
          "",
          "sales_biz_information_company_customers"
         ],
         "type": "scatter",
         "x": [
          0,
          0.84234781239825,
          0.84234781239825,
          0.7760251491297434
         ],
         "xaxis": "x",
         "y": [
          -1905,
          -1905,
          -1920,
          -1920
         ],
         "yaxis": "y"
        },
        {
         "hoverinfo": "text",
         "marker": {
          "color": "rgb(255,65,54)"
         },
         "mode": "lines",
         "text": [
          "presentation_slides_presentations_powerpoint_slide",
          "",
          "",
          "sun_tear_regional_executives_sizing"
         ],
         "type": "scatter",
         "x": [
          0,
          0.8417807605103272,
          0.8417807605103272,
          0
         ],
         "xaxis": "x",
         "y": [
          -1935,
          -1935,
          -1945,
          -1945
         ],
         "yaxis": "y"
        },
        {
         "hoverinfo": "text",
         "marker": {
          "color": "rgb(255,65,54)"
         },
         "mode": "lines",
         "text": [
          "wireless_information_company_sales_customers",
          "",
          "",
          "presentation_slides_presentations_slide_powerpoint"
         ],
         "type": "scatter",
         "x": [
          0.84234781239825,
          0.9558727239611783,
          0.9558727239611783,
          0.8417807605103272
         ],
         "xaxis": "x",
         "y": [
          -1912.5,
          -1912.5,
          -1940,
          -1940
         ],
         "yaxis": "y"
        },
        {
         "hoverinfo": "text",
         "marker": {
          "color": "rgb(35,205,205)"
         },
         "mode": "lines",
         "text": [
          "jre122_java_documentation_jsa_sigs",
          "",
          "",
          "documentation_docs_document_updated_review"
         ],
         "type": "scatter",
         "x": [
          0,
          0.8080168025701178,
          0.8080168025701178,
          0
         ],
         "xaxis": "x",
         "y": [
          -1955,
          -1955,
          -1965,
          -1965
         ],
         "yaxis": "y"
        },
        {
         "hoverinfo": "text",
         "marker": {
          "color": "rgb(35,205,205)"
         },
         "mode": "lines",
         "text": [
          "team_nike_roster_sheesh_downlaod",
          "",
          "",
          "technical_nwoods_engineers_7952_8740"
         ],
         "type": "scatter",
         "x": [
          0,
          0.8851636443524663,
          0.8851636443524663,
          0
         ],
         "xaxis": "x",
         "y": [
          -1985,
          -1985,
          -1995,
          -1995
         ],
         "yaxis": "y"
        },
        {
         "hoverinfo": "text",
         "marker": {
          "color": "rgb(35,205,205)"
         },
         "mode": "lines",
         "text": [
          "design_requirements_studio_birdsall_detail",
          "",
          "",
          "technical_team_nwoods_engineers_8740"
         ],
         "type": "scatter",
         "x": [
          0,
          0.9255200278597765,
          0.9255200278597765,
          0.8851636443524663
         ],
         "xaxis": "x",
         "y": [
          -1975,
          -1975,
          -1990,
          -1990
         ],
         "yaxis": "y"
        },
        {
         "hoverinfo": "text",
         "marker": {
          "color": "rgb(35,205,205)"
         },
         "mode": "lines",
         "text": [
          "documentation_jre122_java_docs_document",
          "",
          "",
          "design_technical_team_requirements_nwoods"
         ],
         "type": "scatter",
         "x": [
          0.8080168025701178,
          0.9466971159834371,
          0.9466971159834371,
          0.9255200278597765
         ],
         "xaxis": "x",
         "y": [
          -1960,
          -1960,
          -1982.5,
          -1982.5
         ],
         "yaxis": "y"
        },
        {
         "hoverinfo": "text",
         "marker": {
          "color": "rgb(35,205,205)"
         },
         "mode": "lines",
         "text": [
          "application_spells_issues_spec_applications",
          "",
          "",
          "spec_specs_functional_ravi_matt_timberlake"
         ],
         "type": "scatter",
         "x": [
          0,
          0.8232857283634204,
          0.8232857283634204,
          0
         ],
         "xaxis": "x",
         "y": [
          -2005,
          -2005,
          -2015,
          -2015
         ],
         "yaxis": "y"
        },
        {
         "hoverinfo": "text",
         "marker": {
          "color": "rgb(35,205,205)"
         },
         "mode": "lines",
         "text": [
          "documentation_team_design_technical_requirements",
          "",
          "",
          "spec_specs_functional_application_spells"
         ],
         "type": "scatter",
         "x": [
          0.9466971159834371,
          0.9996137418870158,
          0.9996137418870158,
          0.8232857283634204
         ],
         "xaxis": "x",
         "y": [
          -1971.25,
          -1971.25,
          -2010,
          -2010
         ],
         "yaxis": "y"
        },
        {
         "hoverinfo": "text",
         "marker": {
          "color": "rgb(0,116,217)"
         },
         "mode": "lines",
         "text": [
          "presentation_slides_presentations_slide_powerpoint",
          "",
          "",
          "documentation_spec_team_specs_design"
         ],
         "type": "scatter",
         "x": [
          0.9558727239611783,
          1.031358952393089,
          1.031358952393089,
          0.9996137418870158
         ],
         "xaxis": "x",
         "y": [
          -1926.25,
          -1926.25,
          -1990.625,
          -1990.625
         ],
         "yaxis": "y"
        },
        {
         "hoverinfo": "text",
         "marker": {
          "color": "rgb(61,153,112)"
         },
         "mode": "lines",
         "text": [
          "action_aug_sachs_goldman_items",
          "",
          "",
          "siebel_dbhost_neon_view_alwayson_bat"
         ],
         "type": "scatter",
         "x": [
          0,
          0.8787277438868167,
          0.8787277438868167,
          0
         ],
         "xaxis": "x",
         "y": [
          -2035,
          -2035,
          -2045,
          -2045
         ],
         "yaxis": "y"
        },
        {
         "hoverinfo": "text",
         "marker": {
          "color": "rgb(61,153,112)"
         },
         "mode": "lines",
         "text": [
          "qa_test_plan_fully_guidelines",
          "",
          "",
          "siebel_action_dbhost_neon_view_alwayson"
         ],
         "type": "scatter",
         "x": [
          0,
          0.8896434003477941,
          0.8896434003477941,
          0.8787277438868167
         ],
         "xaxis": "x",
         "y": [
          -2025,
          -2025,
          -2040,
          -2040
         ],
         "yaxis": "y"
        },
        {
         "hoverinfo": "text",
         "marker": {
          "color": "rgb(0,116,217)"
         },
         "mode": "lines",
         "text": [
          "presentation_slides_presentations_slide_powerpoint",
          "",
          "",
          "siebel_action_qa_neon_view_dbhost"
         ],
         "type": "scatter",
         "x": [
          1.031358952393089,
          1.1013550801863594,
          1.1013550801863594,
          0.8896434003477941
         ],
         "xaxis": "x",
         "y": [
          -1958.4375,
          -1958.4375,
          -2032.5,
          -2032.5
         ],
         "yaxis": "y"
        },
        {
         "hoverinfo": "text",
         "marker": {
          "color": "rgb(0,116,217)"
         },
         "mode": "lines",
         "text": [
          "training_prakash_biogen_vss_password",
          "",
          "",
          "presentation_slides_slide_presentations_powerpoint"
         ],
         "type": "scatter",
         "x": [
          1.1030623688893781,
          1.1416947729757148,
          1.1416947729757148,
          1.1013550801863594
         ],
         "xaxis": "x",
         "y": [
          -1851.25,
          -1851.25,
          -1995.46875,
          -1995.46875
         ],
         "yaxis": "y"
        },
        {
         "hoverinfo": "text",
         "marker": {
          "color": "rgb(255,65,54)"
         },
         "mode": "lines",
         "text": [
          "marilisa_tightly_lung_sprikled_reemphasizing",
          "",
          "",
          "show_pre_marilisa_planning_tradeshow"
         ],
         "type": "scatter",
         "x": [
          0,
          0.8026064488979437,
          0.8026064488979437,
          0
         ],
         "xaxis": "x",
         "y": [
          -2055,
          -2055,
          -2065,
          -2065
         ],
         "yaxis": "y"
        },
        {
         "hoverinfo": "text",
         "marker": {
          "color": "rgb(255,65,54)"
         },
         "mode": "lines",
         "text": [
          "collateral_yesturday_srs_sheets_palms",
          "",
          "",
          "hp_sheets_60_fact_banamex"
         ],
         "type": "scatter",
         "x": [
          0,
          0.8677380082811071,
          0.8677380082811071,
          0
         ],
         "xaxis": "x",
         "y": [
          -2075,
          -2075,
          -2085,
          -2085
         ],
         "yaxis": "y"
        },
        {
         "hoverinfo": "text",
         "marker": {
          "color": "rgb(255,65,54)"
         },
         "mode": "lines",
         "text": [
          "show_marilisa_pre_planning_tradeshow",
          "",
          "",
          "hp_sheets_60_collateral_fact"
         ],
         "type": "scatter",
         "x": [
          0.8026064488979437,
          0.9562146972204604,
          0.9562146972204604,
          0.8677380082811071
         ],
         "xaxis": "x",
         "y": [
          -2060,
          -2060,
          -2080,
          -2080
         ],
         "yaxis": "y"
        },
        {
         "hoverinfo": "text",
         "marker": {
          "color": "rgb(35,205,205)"
         },
         "mode": "lines",
         "text": [
          "accenture_leveraged_booth_ucommerce_crm",
          "",
          "",
          "accenture_qwest_they_europe_amit"
         ],
         "type": "scatter",
         "x": [
          0,
          0.5968103485712346,
          0.5968103485712346,
          0
         ],
         "xaxis": "x",
         "y": [
          -2095,
          -2095,
          -2105,
          -2105
         ],
         "yaxis": "y"
        },
        {
         "hoverinfo": "text",
         "marker": {
          "color": "rgb(0,116,217)"
         },
         "mode": "lines",
         "text": [
          "hp_show_marilisa_pre_sheets",
          "",
          "",
          "accenture_leveraged_booth_ty_ucommerce"
         ],
         "type": "scatter",
         "x": [
          0.9562146972204604,
          1.1080886425335288,
          1.1080886425335288,
          0.5968103485712346
         ],
         "xaxis": "x",
         "y": [
          -2070,
          -2070,
          -2100,
          -2100
         ],
         "yaxis": "y"
        },
        {
         "hoverinfo": "text",
         "marker": {
          "color": "rgb(133,20,75)"
         },
         "mode": "lines",
         "text": [
          "attend_event_attendees_attending_attendee",
          "",
          "",
          "seminar_registration_dynamite_marriot_invite"
         ],
         "type": "scatter",
         "x": [
          0,
          0.8235415943940326,
          0.8235415943940326,
          0
         ],
         "xaxis": "x",
         "y": [
          -2125,
          -2125,
          -2135,
          -2135
         ],
         "yaxis": "y"
        },
        {
         "hoverinfo": "text",
         "marker": {
          "color": "rgb(133,20,75)"
         },
         "mode": "lines",
         "text": [
          "invite_invitation_invitations_invites_newsletter3817",
          "",
          "",
          "attend_event_seminar_attendees_attending"
         ],
         "type": "scatter",
         "x": [
          0,
          0.8266188412928858,
          0.8266188412928858,
          0.8235415943940326
         ],
         "xaxis": "x",
         "y": [
          -2115,
          -2115,
          -2130,
          -2130
         ],
         "yaxis": "y"
        },
        {
         "hoverinfo": "text",
         "marker": {
          "color": "rgb(133,20,75)"
         },
         "mode": "lines",
         "text": [
          "invite_invitation_invitations_invites_newsletter3817",
          "",
          "",
          "lunch_dinner_noon_arrives_attending"
         ],
         "type": "scatter",
         "x": [
          0.8266188412928858,
          0.9320322627194721,
          0.9320322627194721,
          0
         ],
         "xaxis": "x",
         "y": [
          -2122.5,
          -2122.5,
          -2145,
          -2145
         ],
         "yaxis": "y"
        },
        {
         "hoverinfo": "text",
         "marker": {
          "color": "rgb(0,116,217)"
         },
         "mode": "lines",
         "text": [
          "hp_accenture_show_marilisa_pre",
          "",
          "",
          "invite_invitation_invitations_invites_newsletter3817"
         ],
         "type": "scatter",
         "x": [
          1.1080886425335288,
          1.1414819191651724,
          1.1414819191651724,
          0.9320322627194721
         ],
         "xaxis": "x",
         "y": [
          -2085,
          -2085,
          -2133.75,
          -2133.75
         ],
         "yaxis": "y"
        },
        {
         "hoverinfo": "text",
         "marker": {
          "color": "rgb(0,116,217)"
         },
         "mode": "lines",
         "text": [
          "presentation_training_prakash_slides_biogen",
          "",
          "",
          "hp_accenture_show_invite_marilisa"
         ],
         "type": "scatter",
         "x": [
          1.1416947729757148,
          1.2014614348181856,
          1.2014614348181856,
          1.1414819191651724
         ],
         "xaxis": "x",
         "y": [
          -1923.359375,
          -1923.359375,
          -2109.375,
          -2109.375
         ],
         "yaxis": "y"
        },
        {
         "hoverinfo": "text",
         "marker": {
          "color": "rgb(0,116,217)"
         },
         "mode": "lines",
         "text": [
          "template_templates_art_compact_requirements",
          "",
          "",
          "presentation_hp_accenture_training_prakash"
         ],
         "type": "scatter",
         "x": [
          0.4476631159023604,
          1.2657246497826466,
          1.2657246497826466,
          1.2014614348181856
         ],
         "xaxis": "x",
         "y": [
          -1740,
          -1740,
          -2016.3671875,
          -2016.3671875
         ],
         "yaxis": "y"
        },
        {
         "hoverinfo": "text",
         "marker": {
          "color": "rgb(255,220,0)"
         },
         "mode": "lines",
         "text": [
          "gift_certificate_choice_webcertificate_gifts",
          "",
          "",
          "thank_gift_snd_wedding_family"
         ],
         "type": "scatter",
         "x": [
          0,
          0.7140407174659504,
          0.7140407174659504,
          0
         ],
         "xaxis": "x",
         "y": [
          -2175,
          -2175,
          -2185,
          -2185
         ],
         "yaxis": "y"
        },
        {
         "hoverinfo": "text",
         "marker": {
          "color": "rgb(255,220,0)"
         },
         "mode": "lines",
         "text": [
          "flooz_gift_lfmn_101509754_points",
          "",
          "",
          "gift_certificate_thank_gifts_choice"
         ],
         "type": "scatter",
         "x": [
          0,
          0.8398795305288314,
          0.8398795305288314,
          0.7140407174659504
         ],
         "xaxis": "x",
         "y": [
          -2165,
          -2165,
          -2180,
          -2180
         ],
         "yaxis": "y"
        },
        {
         "hoverinfo": "text",
         "marker": {
          "color": "rgb(255,220,0)"
         },
         "mode": "lines",
         "text": [
          "certificates_verisign_certificate_exalink_certicom",
          "",
          "",
          "gift_flooz_certificate_101509754_lfmn"
         ],
         "type": "scatter",
         "x": [
          0,
          0.959701215361289,
          0.959701215361289,
          0.8398795305288314
         ],
         "xaxis": "x",
         "y": [
          -2155,
          -2155,
          -2172.5,
          -2172.5
         ],
         "yaxis": "y"
        },
        {
         "hoverinfo": "text",
         "marker": {
          "color": "rgb(40,35,35)"
         },
         "mode": "lines",
         "text": [
          "thanks_sending_thank_for_regretting",
          "",
          "",
          "thanks_sending_amit_gents_jon"
         ],
         "type": "scatter",
         "x": [
          0,
          0.4792975688002328,
          0.4792975688002328,
          0
         ],
         "xaxis": "x",
         "y": [
          -2195,
          -2195,
          -2205,
          -2205
         ],
         "yaxis": "y"
        },
        {
         "hoverinfo": "text",
         "marker": {
          "color": "rgb(0,116,217)"
         },
         "mode": "lines",
         "text": [
          "gift_flooz_certificate_certificates_lfmn",
          "",
          "",
          "thanks_sending_thank_for_this"
         ],
         "type": "scatter",
         "x": [
          0.959701215361289,
          1.2182056969595694,
          1.2182056969595694,
          0.4792975688002328
         ],
         "xaxis": "x",
         "y": [
          -2163.75,
          -2163.75,
          -2200,
          -2200
         ],
         "yaxis": "y"
        },
        {
         "hoverinfo": "text",
         "marker": {
          "color": "rgb(61,153,112)"
         },
         "mode": "lines",
         "text": [
          "hotel_reservations_bloor_travel_room",
          "",
          "",
          "trips_trip_travel_hotwire_winner"
         ],
         "type": "scatter",
         "x": [
          0,
          0.866067805441058,
          0.866067805441058,
          0
         ],
         "xaxis": "x",
         "y": [
          -2215,
          -2215,
          -2225,
          -2225
         ],
         "yaxis": "y"
        },
        {
         "hoverinfo": "text",
         "marker": {
          "color": "rgb(255,65,54)"
         },
         "mode": "lines",
         "text": [
          "spotlight_lifeminders_archived_car_specials",
          "",
          "",
          "lifeminders_entertainment_auto_click_holiday"
         ],
         "type": "scatter",
         "x": [
          0,
          0.6082539298165175,
          0.6082539298165175,
          0
         ],
         "xaxis": "x",
         "y": [
          -2235,
          -2235,
          -2245,
          -2245
         ],
         "yaxis": "y"
        },
        {
         "hoverinfo": "text",
         "marker": {
          "color": "rgb(0,116,217)"
         },
         "mode": "lines",
         "text": [
          "travel_trips_hotel_trip_hotwire",
          "",
          "",
          "lifeminders_spotlight_archived_car_specials"
         ],
         "type": "scatter",
         "x": [
          0.866067805441058,
          1.0107420474363806,
          1.0107420474363806,
          0.6082539298165175
         ],
         "xaxis": "x",
         "y": [
          -2220,
          -2220,
          -2240,
          -2240
         ],
         "yaxis": "y"
        },
        {
         "hoverinfo": "text",
         "marker": {
          "color": "rgb(0,116,217)"
         },
         "mode": "lines",
         "text": [
          "gift_flooz_certificate_thank_thanks",
          "",
          "",
          "lifeminders_spotlight_archived_travel_car"
         ],
         "type": "scatter",
         "x": [
          1.2182056969595694,
          1.27332798730234,
          1.27332798730234,
          1.0107420474363806
         ],
         "xaxis": "x",
         "y": [
          -2181.875,
          -2181.875,
          -2230,
          -2230
         ],
         "yaxis": "y"
        },
        {
         "hoverinfo": "text",
         "marker": {
          "color": "rgb(35,205,205)"
         },
         "mode": "lines",
         "text": [
          "excel_sheet_msproject_spreadsheet_xl",
          "",
          "",
          "spreadsheet_excel_sheet_jup_column"
         ],
         "type": "scatter",
         "x": [
          0,
          0.5908340912462442,
          0.5908340912462442,
          0
         ],
         "xaxis": "x",
         "y": [
          -2255,
          -2255,
          -2265,
          -2265
         ],
         "yaxis": "y"
        },
        {
         "hoverinfo": "text",
         "marker": {
          "color": "rgb(61,153,112)"
         },
         "mode": "lines",
         "text": [
          "her_she_told_ll_sent",
          "",
          "",
          "germana_aec_cobra_german_attorney"
         ],
         "type": "scatter",
         "x": [
          0,
          0.8789324094258807,
          0.8789324094258807,
          0
         ],
         "xaxis": "x",
         "y": [
          -2285,
          -2285,
          -2295,
          -2295
         ],
         "yaxis": "y"
        },
        {
         "hoverinfo": "text",
         "marker": {
          "color": "rgb(61,153,112)"
         },
         "mode": "lines",
         "text": [
          "bio_973_photo_pbi_rmehta",
          "",
          "",
          "her_she_germana_sent_told"
         ],
         "type": "scatter",
         "x": [
          0,
          0.9594091010057968,
          0.9594091010057968,
          0.8789324094258807
         ],
         "xaxis": "x",
         "y": [
          -2275,
          -2275,
          -2290,
          -2290
         ],
         "yaxis": "y"
        },
        {
         "hoverinfo": "text",
         "marker": {
          "color": "rgb(255,65,54)"
         },
         "mode": "lines",
         "text": [
          "approval_mrs_approved_plea_facilitators",
          "",
          "",
          "schedule_objectives_schedules_week_revised"
         ],
         "type": "scatter",
         "x": [
          0,
          0.8987031300377318,
          0.8987031300377318,
          0
         ],
         "xaxis": "x",
         "y": [
          -2305,
          -2305,
          -2315,
          -2315
         ],
         "yaxis": "y"
        },
        {
         "hoverinfo": "text",
         "marker": {
          "color": "rgb(255,65,54)"
         },
         "mode": "lines",
         "text": [
          "timesheet_innova_timesheets_reporting_sheet",
          "",
          "",
          "reminder_launch_delineating_snafu_late"
         ],
         "type": "scatter",
         "x": [
          0,
          0.9244508573582118,
          0.9244508573582118,
          0
         ],
         "xaxis": "x",
         "y": [
          -2325,
          -2325,
          -2335,
          -2335
         ],
         "yaxis": "y"
        },
        {
         "hoverinfo": "text",
         "marker": {
          "color": "rgb(255,65,54)"
         },
         "mode": "lines",
         "text": [
          "contract_agreement_signed_sign_legal",
          "",
          "",
          "fax_faxes_number_efax_copy"
         ],
         "type": "scatter",
         "x": [
          0,
          0.8471177423836468,
          0.8471177423836468,
          0
         ],
         "xaxis": "x",
         "y": [
          -2355,
          -2355,
          -2365,
          -2365
         ],
         "yaxis": "y"
        },
        {
         "hoverinfo": "text",
         "marker": {
          "color": "rgb(255,65,54)"
         },
         "mode": "lines",
         "text": [
          "forms_form_irs_filled_fill",
          "",
          "",
          "fax_contract_agreement_faxes_signed"
         ],
         "type": "scatter",
         "x": [
          0,
          0.9108319504476472,
          0.9108319504476472,
          0.8471177423836468
         ],
         "xaxis": "x",
         "y": [
          -2345,
          -2345,
          -2360,
          -2360
         ],
         "yaxis": "y"
        },
        {
         "hoverinfo": "text",
         "marker": {
          "color": "rgb(255,65,54)"
         },
         "mode": "lines",
         "text": [
          "fax_contract_agreement_faxes_signed",
          "",
          "",
          "invoice_invoices_march_paid_po"
         ],
         "type": "scatter",
         "x": [
          0.9108319504476472,
          0.9420834225637618,
          0.9420834225637618,
          0
         ],
         "xaxis": "x",
         "y": [
          -2352.5,
          -2352.5,
          -2375,
          -2375
         ],
         "yaxis": "y"
        },
        {
         "hoverinfo": "text",
         "marker": {
          "color": "rgb(255,65,54)"
         },
         "mode": "lines",
         "text": [
          "timesheet_reminder_innova_timesheets_reporting",
          "",
          "",
          "fax_contract_invoice_agreement_faxes"
         ],
         "type": "scatter",
         "x": [
          0.9244508573582118,
          0.976352972205007,
          0.976352972205007,
          0.9420834225637618
         ],
         "xaxis": "x",
         "y": [
          -2330,
          -2330,
          -2363.75,
          -2363.75
         ],
         "yaxis": "y"
        },
        {
         "hoverinfo": "text",
         "marker": {
          "color": "rgb(255,65,54)"
         },
         "mode": "lines",
         "text": [
          "schedule_approved_approval_objectives_mrs",
          "",
          "",
          "fax_contract_invoice_agreement_faxes"
         ],
         "type": "scatter",
         "x": [
          0.8987031300377318,
          0.9932789567035953,
          0.9932789567035953,
          0.976352972205007
         ],
         "xaxis": "x",
         "y": [
          -2310,
          -2310,
          -2346.875,
          -2346.875
         ],
         "yaxis": "y"
        },
        {
         "hoverinfo": "text",
         "marker": {
          "color": "rgb(35,205,205)"
         },
         "mode": "lines",
         "text": [
          "note_notes_concurrency_welcoming_awkward",
          "",
          "",
          "notes_linger_dialled_ebi_nt"
         ],
         "type": "scatter",
         "x": [
          0,
          0.8780331954615709,
          0.8780331954615709,
          0
         ],
         "xaxis": "x",
         "y": [
          -2385,
          -2385,
          -2395,
          -2395
         ],
         "yaxis": "y"
        },
        {
         "hoverinfo": "text",
         "marker": {
          "color": "rgb(0,116,217)"
         },
         "mode": "lines",
         "text": [
          "fax_contract_invoice_agreement_faxes",
          "",
          "",
          "note_notes_linger_awkward_concurrency"
         ],
         "type": "scatter",
         "x": [
          0.9932789567035953,
          1.0147686611070068,
          1.0147686611070068,
          0.8780331954615709
         ],
         "xaxis": "x",
         "y": [
          -2328.4375,
          -2328.4375,
          -2390,
          -2390
         ],
         "yaxis": "y"
        },
        {
         "hoverinfo": "text",
         "marker": {
          "color": "rgb(0,116,217)"
         },
         "mode": "lines",
         "text": [
          "her_she_germana_bio_sent",
          "",
          "",
          "fax_contract_invoice_agreement_faxes"
         ],
         "type": "scatter",
         "x": [
          0.9594091010057968,
          1.0239275778567092,
          1.0239275778567092,
          1.0147686611070068
         ],
         "xaxis": "x",
         "y": [
          -2282.5,
          -2282.5,
          -2359.21875,
          -2359.21875
         ],
         "yaxis": "y"
        },
        {
         "hoverinfo": "text",
         "marker": {
          "color": "rgb(133,20,75)"
         },
         "mode": "lines",
         "text": [
          "ewap_ewrp_signed_nda_info",
          "",
          "",
          "nda_mutual_signed_kpmg_ours"
         ],
         "type": "scatter",
         "x": [
          0,
          0.8538854934325671,
          0.8538854934325671,
          0
         ],
         "xaxis": "x",
         "y": [
          -2405,
          -2405,
          -2415,
          -2415
         ],
         "yaxis": "y"
        },
        {
         "hoverinfo": "text",
         "marker": {
          "color": "rgb(0,116,217)"
         },
         "mode": "lines",
         "text": [
          "her_fax_contract_she_agreement",
          "",
          "",
          "nda_ewap_mutual_signed_ewrp"
         ],
         "type": "scatter",
         "x": [
          1.0239275778567092,
          1.062602683507969,
          1.062602683507969,
          0.8538854934325671
         ],
         "xaxis": "x",
         "y": [
          -2320.859375,
          -2320.859375,
          -2410,
          -2410
         ],
         "yaxis": "y"
        },
        {
         "hoverinfo": "text",
         "marker": {
          "color": "rgb(255,220,0)"
         },
         "mode": "lines",
         "text": [
          "expense_expenses_month_accounting_reports",
          "",
          "",
          "2002_bursts_newsfeed_beginners_columns"
         ],
         "type": "scatter",
         "x": [
          0,
          0.8758729379158969,
          0.8758729379158969,
          0
         ],
         "xaxis": "x",
         "y": [
          -2435,
          -2435,
          -2445,
          -2445
         ],
         "yaxis": "y"
        },
        {
         "hoverinfo": "text",
         "marker": {
          "color": "rgb(255,220,0)"
         },
         "mode": "lines",
         "text": [
          "loan_financials_finance_official_qsb",
          "",
          "",
          "2002_bursts_newsfeed_beginners_columns"
         ],
         "type": "scatter",
         "x": [
          0,
          0.9590899197645198,
          0.9590899197645198,
          0.8758729379158969
         ],
         "xaxis": "x",
         "y": [
          -2425,
          -2425,
          -2440,
          -2440
         ],
         "yaxis": "y"
        },
        {
         "hoverinfo": "text",
         "marker": {
          "color": "rgb(255,220,0)"
         },
         "mode": "lines",
         "text": [
          "down_shares_earnings_percent_winners",
          "",
          "",
          "att_acquisition_program_wireless_developers"
         ],
         "type": "scatter",
         "x": [
          0,
          0.9203807366318253,
          0.9203807366318253,
          0
         ],
         "xaxis": "x",
         "y": [
          -2455,
          -2455,
          -2465,
          -2465
         ],
         "yaxis": "y"
        },
        {
         "hoverinfo": "text",
         "marker": {
          "color": "rgb(255,220,0)"
         },
         "mode": "lines",
         "text": [
          "2002_bursts_newsfeed_beginners_columns",
          "",
          "",
          "down_shares_earnings_percent_its"
         ],
         "type": "scatter",
         "x": [
          0.9590899197645198,
          0.9765380149030184,
          0.9765380149030184,
          0.9203807366318253
         ],
         "xaxis": "x",
         "y": [
          -2432.5,
          -2432.5,
          -2460,
          -2460
         ],
         "yaxis": "y"
        },
        {
         "hoverinfo": "text",
         "marker": {
          "color": "rgb(40,35,35)"
         },
         "mode": "lines",
         "text": [
          "ctia_calea_attached_portal_case",
          "",
          "",
          "study_case_cases_studies_evaluations"
         ],
         "type": "scatter",
         "x": [
          0,
          0.8693165464954559,
          0.8693165464954559,
          0
         ],
         "xaxis": "x",
         "y": [
          -2475,
          -2475,
          -2485,
          -2485
         ],
         "yaxis": "y"
        },
        {
         "hoverinfo": "text",
         "marker": {
          "color": "rgb(61,153,112)"
         },
         "mode": "lines",
         "text": [
          "weblogic_pools_jndi_license_jin",
          "",
          "",
          "license_licenses_key_permanent_locked"
         ],
         "type": "scatter",
         "x": [
          0,
          0.8724356514483821,
          0.8724356514483821,
          0
         ],
         "xaxis": "x",
         "y": [
          -2495,
          -2495,
          -2505,
          -2505
         ],
         "yaxis": "y"
        },
        {
         "hoverinfo": "text",
         "marker": {
          "color": "rgb(0,116,217)"
         },
         "mode": "lines",
         "text": [
          "ctia_study_case_calea_studies",
          "",
          "",
          "license_weblogic_licenses_key_permanent"
         ],
         "type": "scatter",
         "x": [
          0.8693165464954559,
          1.055678276768231,
          1.055678276768231,
          0.8724356514483821
         ],
         "xaxis": "x",
         "y": [
          -2480,
          -2480,
          -2500,
          -2500
         ],
         "yaxis": "y"
        },
        {
         "hoverinfo": "text",
         "marker": {
          "color": "rgb(255,65,54)"
         },
         "mode": "lines",
         "text": [
          "fitness_7348_967_novell_ringalsbe",
          "",
          "",
          "registration_parking_driving_stamptm_car"
         ],
         "type": "scatter",
         "x": [
          0,
          0.9448544165179658,
          0.9448544165179658,
          0
         ],
         "xaxis": "x",
         "y": [
          -2515,
          -2515,
          -2525,
          -2525
         ],
         "yaxis": "y"
        },
        {
         "hoverinfo": "text",
         "marker": {
          "color": "rgb(35,205,205)"
         },
         "mode": "lines",
         "text": [
          "channelwave_streaming_prm_shockwave_exciting",
          "",
          "",
          "lead_leads_assessment_credit_qualified"
         ],
         "type": "scatter",
         "x": [
          0,
          0.9239749727586706,
          0.9239749727586706,
          0
         ],
         "xaxis": "x",
         "y": [
          -2545,
          -2545,
          -2555,
          -2555
         ],
         "yaxis": "y"
        },
        {
         "hoverinfo": "text",
         "marker": {
          "color": "rgb(35,205,205)"
         },
         "mode": "lines",
         "text": [
          "delay_apologize_apologies_sorry_twice",
          "",
          "",
          "channelwave_lead_leads_assessment_credit"
         ],
         "type": "scatter",
         "x": [
          0,
          0.9813881536187996,
          0.9813881536187996,
          0.9239749727586706
         ],
         "xaxis": "x",
         "y": [
          -2535,
          -2535,
          -2550,
          -2550
         ],
         "yaxis": "y"
        },
        {
         "hoverinfo": "text",
         "marker": {
          "color": "rgb(61,153,112)"
         },
         "mode": "lines",
         "text": [
          "pager_pagers_pin_airmessage_alphanumeric",
          "",
          "",
          "motorola_pk_mou_sector_il"
         ],
         "type": "scatter",
         "x": [
          0,
          0.9449233417189707,
          0.9449233417189707,
          0
         ],
         "xaxis": "x",
         "y": [
          -2575,
          -2575,
          -2585,
          -2585
         ],
         "yaxis": "y"
        },
        {
         "hoverinfo": "text",
         "marker": {
          "color": "rgb(61,153,112)"
         },
         "mode": "lines",
         "text": [
          "blackberry_handheld_net_wireless_my",
          "",
          "",
          "pager_motorola_pagers_pin_airmessage"
         ],
         "type": "scatter",
         "x": [
          0,
          0.9810188732551718,
          0.9810188732551718,
          0.9449233417189707
         ],
         "xaxis": "x",
         "y": [
          -2565,
          -2565,
          -2580,
          -2580
         ],
         "yaxis": "y"
        },
        {
         "hoverinfo": "text",
         "marker": {
          "color": "rgb(255,65,54)"
         },
         "mode": "lines",
         "text": [
          "shailesh_jeode_jaimemcneely_shachi_earlie",
          "",
          "",
          "ppt_kinkos_10cfr21_4608_xcl"
         ],
         "type": "scatter",
         "x": [
          0,
          0.9898750769619388,
          0.9898750769619388,
          0
         ],
         "xaxis": "x",
         "y": [
          -2595,
          -2595,
          -2605,
          -2605
         ],
         "yaxis": "y"
        },
        {
         "hoverinfo": "text",
         "marker": {
          "color": "rgb(255,65,54)"
         },
         "mode": "lines",
         "text": [
          "ppt_shailesh_kinkos_10cfr21_jaimemcneely",
          "",
          "",
          "jess_inferior_inf_defun_buffer"
         ],
         "type": "scatter",
         "x": [
          0.9898750769619388,
          0.9986070427616804,
          0.9986070427616804,
          0
         ],
         "xaxis": "x",
         "y": [
          -2600,
          -2600,
          -2615,
          -2615
         ],
         "yaxis": "y"
        },
        {
         "hoverinfo": "text",
         "marker": {
          "color": "rgb(0,116,217)"
         },
         "mode": "lines",
         "text": [
          "blackberry_pager_handheld_motorola_net",
          "",
          "",
          "jess_inferior_ppt_inf_defun"
         ],
         "type": "scatter",
         "x": [
          0.9810188732551718,
          1.0091378026433107,
          1.0091378026433107,
          0.9986070427616804
         ],
         "xaxis": "x",
         "y": [
          -2572.5,
          -2572.5,
          -2607.5,
          -2607.5
         ],
         "yaxis": "y"
        },
        {
         "hoverinfo": "text",
         "marker": {
          "color": "rgb(0,116,217)"
         },
         "mode": "lines",
         "text": [
          "channelwave_lead_leads_delay_apologize",
          "",
          "",
          "blackberry_jess_pager_inferior_handheld"
         ],
         "type": "scatter",
         "x": [
          0.9813881536187996,
          1.0214711166153443,
          1.0214711166153443,
          1.0091378026433107
         ],
         "xaxis": "x",
         "y": [
          -2542.5,
          -2542.5,
          -2590,
          -2590
         ],
         "yaxis": "y"
        },
        {
         "hoverinfo": "text",
         "marker": {
          "color": "rgb(0,116,217)"
         },
         "mode": "lines",
         "text": [
          "fitness_novell_7348_967_ringalsbe",
          "",
          "",
          "blackberry_pager_jess_channelwave_inferior"
         ],
         "type": "scatter",
         "x": [
          0.9448544165179658,
          1.024671512486747,
          1.024671512486747,
          1.0214711166153443
         ],
         "xaxis": "x",
         "y": [
          -2520,
          -2520,
          -2566.25,
          -2566.25
         ],
         "yaxis": "y"
        },
        {
         "hoverinfo": "text",
         "marker": {
          "color": "rgb(35,205,205)"
         },
         "mode": "lines",
         "text": [
          "checkbox_gartner_yes_1checkbox_study",
          "",
          "",
          "wap_toolkit_push_url_ppg"
         ],
         "type": "scatter",
         "x": [
          0,
          0.9336021871880815,
          0.9336021871880815,
          0
         ],
         "xaxis": "x",
         "y": [
          -2625,
          -2625,
          -2635,
          -2635
         ],
         "yaxis": "y"
        },
        {
         "hoverinfo": "text",
         "marker": {
          "color": "rgb(133,20,75)"
         },
         "mode": "lines",
         "text": [
          "cd_kmt_cds_rom_shipping",
          "",
          "",
          "bookpool_book_books_02568_387"
         ],
         "type": "scatter",
         "x": [
          0,
          0.9437735421836757,
          0.9437735421836757,
          0
         ],
         "xaxis": "x",
         "y": [
          -2645,
          -2645,
          -2655,
          -2655
         ],
         "yaxis": "y"
        },
        {
         "hoverinfo": "text",
         "marker": {
          "color": "rgb(133,20,75)"
         },
         "mode": "lines",
         "text": [
          "cd_kmt_bookpool_book_cds",
          "",
          "",
          "pdf_pdfs_electronic_bars_alex"
         ],
         "type": "scatter",
         "x": [
          0.9437735421836757,
          0.9661621054311267,
          0.9661621054311267,
          0
         ],
         "xaxis": "x",
         "y": [
          -2650,
          -2650,
          -2665,
          -2665
         ],
         "yaxis": "y"
        },
        {
         "hoverinfo": "text",
         "marker": {
          "color": "rgb(0,116,217)"
         },
         "mode": "lines",
         "text": [
          "checkbox_gartner_wap_yes_1checkbox",
          "",
          "",
          "cd_kmt_bookpool_book_pdf"
         ],
         "type": "scatter",
         "x": [
          0.9336021871880815,
          1.00406727752096,
          1.00406727752096,
          0.9661621054311267
         ],
         "xaxis": "x",
         "y": [
          -2630,
          -2630,
          -2657.5,
          -2657.5
         ],
         "yaxis": "y"
        },
        {
         "hoverinfo": "text",
         "marker": {
          "color": "rgb(0,116,217)"
         },
         "mode": "lines",
         "text": [
          "blackberry_pager_jess_channelwave_inferior",
          "",
          "",
          "checkbox_gartner_cd_wap_yes"
         ],
         "type": "scatter",
         "x": [
          1.024671512486747,
          1.037550489139893,
          1.037550489139893,
          1.00406727752096
         ],
         "xaxis": "x",
         "y": [
          -2543.125,
          -2543.125,
          -2643.75,
          -2643.75
         ],
         "yaxis": "y"
        },
        {
         "hoverinfo": "text",
         "marker": {
          "color": "rgb(255,220,0)"
         },
         "mode": "lines",
         "text": [
          "office_patrice_sabre_shd_power",
          "",
          "",
          "materials_material_mobilizer_limitations_village"
         ],
         "type": "scatter",
         "x": [
          0,
          0.9121500871515322,
          0.9121500871515322,
          0
         ],
         "xaxis": "x",
         "y": [
          -2675,
          -2675,
          -2685,
          -2685
         ],
         "yaxis": "y"
        },
        {
         "hoverinfo": "text",
         "marker": {
          "color": "rgb(255,220,0)"
         },
         "mode": "lines",
         "text": [
          "materials_office_patrice_material_sabre",
          "",
          "",
          "printed_print_job_batching_resulted"
         ],
         "type": "scatter",
         "x": [
          0.9121500871515322,
          0.9559521867790006,
          0.9559521867790006,
          0
         ],
         "xaxis": "x",
         "y": [
          -2680,
          -2680,
          -2695,
          -2695
         ],
         "yaxis": "y"
        },
        {
         "hoverinfo": "text",
         "marker": {
          "color": "rgb(40,35,35)"
         },
         "mode": "lines",
         "text": [
          "survey_surveys_onyx_moments_brief",
          "",
          "",
          "questionnaire_questionnaires_completed_haven¹t_labine"
         ],
         "type": "scatter",
         "x": [
          0,
          0.9212592394180938,
          0.9212592394180938,
          0
         ],
         "xaxis": "x",
         "y": [
          -2705,
          -2705,
          -2715,
          -2715
         ],
         "yaxis": "y"
        },
        {
         "hoverinfo": "text",
         "marker": {
          "color": "rgb(0,116,217)"
         },
         "mode": "lines",
         "text": [
          "materials_office_printed_print_job",
          "",
          "",
          "survey_questionnaire_surveys_onyx_moments"
         ],
         "type": "scatter",
         "x": [
          0.9559521867790006,
          1.0208057351880255,
          1.0208057351880255,
          0.9212592394180938
         ],
         "xaxis": "x",
         "y": [
          -2687.5,
          -2687.5,
          -2710,
          -2710
         ],
         "yaxis": "y"
        },
        {
         "hoverinfo": "text",
         "marker": {
          "color": "rgb(0,116,217)"
         },
         "mode": "lines",
         "text": [
          "blackberry_checkbox_gartner_pager_jess",
          "",
          "",
          "survey_questionnaire_surveys_materials_few"
         ],
         "type": "scatter",
         "x": [
          1.037550489139893,
          1.0416544755468953,
          1.0416544755468953,
          1.0208057351880255
         ],
         "xaxis": "x",
         "y": [
          -2593.4375,
          -2593.4375,
          -2698.75,
          -2698.75
         ],
         "yaxis": "y"
        },
        {
         "hoverinfo": "text",
         "marker": {
          "color": "rgb(61,153,112)"
         },
         "mode": "lines",
         "text": [
          "toshi_pipeline_assistant_8108_8520",
          "",
          "",
          "venk_signature_asked_00noon_prfs"
         ],
         "type": "scatter",
         "x": [
          0,
          0.9125551732005945,
          0.9125551732005945,
          0
         ],
         "xaxis": "x",
         "y": [
          -2725,
          -2725,
          -2735,
          -2735
         ],
         "yaxis": "y"
        },
        {
         "hoverinfo": "text",
         "marker": {
          "color": "rgb(255,65,54)"
         },
         "mode": "lines",
         "text": [
          "prasad_jam_robinsingh_cricketfans_aaaaiiiieeeegggggggaaaaa",
          "",
          "",
          "cc_ccing_cced_ialbert_diva"
         ],
         "type": "scatter",
         "x": [
          0,
          0.9267113340422587,
          0.9267113340422587,
          0
         ],
         "xaxis": "x",
         "y": [
          -2745,
          -2745,
          -2755,
          -2755
         ],
         "yaxis": "y"
        },
        {
         "hoverinfo": "text",
         "marker": {
          "color": "rgb(0,116,217)"
         },
         "mode": "lines",
         "text": [
          "venk_toshi_pipeline_assistant_8108",
          "",
          "",
          "cc_prasad_ccing_jam_cced"
         ],
         "type": "scatter",
         "x": [
          0.9125551732005945,
          1.0111896208726425,
          1.0111896208726425,
          0.9267113340422587
         ],
         "xaxis": "x",
         "y": [
          -2730,
          -2730,
          -2750,
          -2750
         ],
         "yaxis": "y"
        },
        {
         "hoverinfo": "text",
         "marker": {
          "color": "rgb(0,116,217)"
         },
         "mode": "lines",
         "text": [
          "blackberry_checkbox_gartner_survey_pager",
          "",
          "",
          "venk_toshi_cc_prasad_pipeline"
         ],
         "type": "scatter",
         "x": [
          1.0416544755468953,
          1.0520042118835373,
          1.0520042118835373,
          1.0111896208726425
         ],
         "xaxis": "x",
         "y": [
          -2646.09375,
          -2646.09375,
          -2740,
          -2740
         ],
         "yaxis": "y"
        },
        {
         "hoverinfo": "text",
         "marker": {
          "color": "rgb(0,116,217)"
         },
         "mode": "lines",
         "text": [
          "license_weblogic_ctia_case_study",
          "",
          "",
          "blackberry_checkbox_gartner_survey_pager"
         ],
         "type": "scatter",
         "x": [
          1.055678276768231,
          1.0788616198812344,
          1.0788616198812344,
          1.0520042118835373
         ],
         "xaxis": "x",
         "y": [
          -2490,
          -2490,
          -2693.046875,
          -2693.046875
         ],
         "yaxis": "y"
        },
        {
         "hoverinfo": "text",
         "marker": {
          "color": "rgb(0,116,217)"
         },
         "mode": "lines",
         "text": [
          "2002_bursts_newsfeed_beginners_columns",
          "",
          "",
          "blackberry_checkbox_gartner_survey_pager"
         ],
         "type": "scatter",
         "x": [
          0.9765380149030184,
          1.0826140514222398,
          1.0826140514222398,
          1.0788616198812344
         ],
         "xaxis": "x",
         "y": [
          -2446.25,
          -2446.25,
          -2591.5234375,
          -2591.5234375
         ],
         "yaxis": "y"
        },
        {
         "hoverinfo": "text",
         "marker": {
          "color": "rgb(35,205,205)"
         },
         "mode": "lines",
         "text": [
          "pricing_price_hilton_premium_drums",
          "",
          "",
          "proposal_proposals_plan_briefing_discuss"
         ],
         "type": "scatter",
         "x": [
          0,
          0.8931994130242085,
          0.8931994130242085,
          0
         ],
         "xaxis": "x",
         "y": [
          -2775,
          -2775,
          -2785,
          -2785
         ],
         "yaxis": "y"
        },
        {
         "hoverinfo": "text",
         "marker": {
          "color": "rgb(35,205,205)"
         },
         "mode": "lines",
         "text": [
          "estimate_estimates_idctasks_task_photography",
          "",
          "",
          "scoping_analysis_ae_document_completed"
         ],
         "type": "scatter",
         "x": [
          0,
          0.9301622482804165,
          0.9301622482804165,
          0
         ],
         "xaxis": "x",
         "y": [
          -2795,
          -2795,
          -2805,
          -2805
         ],
         "yaxis": "y"
        },
        {
         "hoverinfo": "text",
         "marker": {
          "color": "rgb(35,205,205)"
         },
         "mode": "lines",
         "text": [
          "pricing_price_proposal_hilton_premium",
          "",
          "",
          "scoping_estimate_analysis_ae_document"
         ],
         "type": "scatter",
         "x": [
          0.8931994130242085,
          0.9705046281195111,
          0.9705046281195111,
          0.9301622482804165
         ],
         "xaxis": "x",
         "y": [
          -2780,
          -2780,
          -2800,
          -2800
         ],
         "yaxis": "y"
        },
        {
         "hoverinfo": "text",
         "marker": {
          "color": "rgb(35,205,205)"
         },
         "mode": "lines",
         "text": [
          "quote_tapes_natubhai_tac_ergo",
          "",
          "",
          "scoping_pricing_estimate_price_proposal"
         ],
         "type": "scatter",
         "x": [
          0,
          0.9773381611134416,
          0.9773381611134416,
          0.9705046281195111
         ],
         "xaxis": "x",
         "y": [
          -2765,
          -2765,
          -2790,
          -2790
         ],
         "yaxis": "y"
        },
        {
         "hoverinfo": "text",
         "marker": {
          "color": "rgb(61,153,112)"
         },
         "mode": "lines",
         "text": [
          "hosting_deal_virtual_justification_agt",
          "",
          "",
          "ip_external_internal_addresses_servers"
         ],
         "type": "scatter",
         "x": [
          0,
          0.9105184447886052,
          0.9105184447886052,
          0
         ],
         "xaxis": "x",
         "y": [
          -2815,
          -2815,
          -2825,
          -2825
         ],
         "yaxis": "y"
        },
        {
         "hoverinfo": "text",
         "marker": {
          "color": "rgb(0,116,217)"
         },
         "mode": "lines",
         "text": [
          "scoping_pricing_estimate_quote_price",
          "",
          "",
          "ip_hosting_external_internal_using"
         ],
         "type": "scatter",
         "x": [
          0.9773381611134416,
          1.0225786082887567,
          1.0225786082887567,
          0.9105184447886052
         ],
         "xaxis": "x",
         "y": [
          -2777.5,
          -2777.5,
          -2820,
          -2820
         ],
         "yaxis": "y"
        },
        {
         "hoverinfo": "text",
         "marker": {
          "color": "rgb(0,116,217)"
         },
         "mode": "lines",
         "text": [
          "2002_bursts_newsfeed_beginners_guides",
          "",
          "",
          "scoping_pricing_ip_hosting_estimate"
         ],
         "type": "scatter",
         "x": [
          1.0826140514222398,
          1.088532850895423,
          1.088532850895423,
          1.0225786082887567
         ],
         "xaxis": "x",
         "y": [
          -2518.88671875,
          -2518.88671875,
          -2798.75,
          -2798.75
         ],
         "yaxis": "y"
        },
        {
         "hoverinfo": "text",
         "marker": {
          "color": "rgb(0,116,217)"
         },
         "mode": "lines",
         "text": [
          "her_fax_contract_she_nda",
          "",
          "",
          "2002_bursts_newsfeed_beginners_guides"
         ],
         "type": "scatter",
         "x": [
          1.062602683507969,
          1.1225254108621623,
          1.1225254108621623,
          1.088532850895423
         ],
         "xaxis": "x",
         "y": [
          -2365.4296875,
          -2365.4296875,
          -2658.818359375,
          -2658.818359375
         ],
         "yaxis": "y"
        },
        {
         "hoverinfo": "text",
         "marker": {
          "color": "rgb(255,65,54)"
         },
         "mode": "lines",
         "text": [
          "payment_credit_pay_house_84130",
          "",
          "",
          "check_cheque_checks_amount_payable"
         ],
         "type": "scatter",
         "x": [
          0,
          0.8161165994375889,
          0.8161165994375889,
          0
         ],
         "xaxis": "x",
         "y": [
          -2845,
          -2845,
          -2855,
          -2855
         ],
         "yaxis": "y"
        },
        {
         "hoverinfo": "text",
         "marker": {
          "color": "rgb(255,65,54)"
         },
         "mode": "lines",
         "text": [
          "paypal_money_account_commission_intead",
          "",
          "",
          "check_payment_cheque_checks_amount"
         ],
         "type": "scatter",
         "x": [
          0,
          0.9277480008026785,
          0.9277480008026785,
          0.8161165994375889
         ],
         "xaxis": "x",
         "y": [
          -2835,
          -2835,
          -2850,
          -2850
         ],
         "yaxis": "y"
        },
        {
         "hoverinfo": "text",
         "marker": {
          "color": "rgb(35,205,205)"
         },
         "mode": "lines",
         "text": [
          "fedex_ups_tracking_ship_packages",
          "",
          "",
          "receipt_return_duty_sick_home"
         ],
         "type": "scatter",
         "x": [
          0,
          0.919891430063428,
          0.919891430063428,
          0
         ],
         "xaxis": "x",
         "y": [
          -2865,
          -2865,
          -2875,
          -2875
         ],
         "yaxis": "y"
        },
        {
         "hoverinfo": "text",
         "marker": {
          "color": "rgb(0,116,217)"
         },
         "mode": "lines",
         "text": [
          "paypal_check_payment_cheque_checks",
          "",
          "",
          "fedex_ups_tracking_receipt_ship"
         ],
         "type": "scatter",
         "x": [
          0.9277480008026785,
          1.0034322147235146,
          1.0034322147235146,
          0.919891430063428
         ],
         "xaxis": "x",
         "y": [
          -2842.5,
          -2842.5,
          -2870,
          -2870
         ],
         "yaxis": "y"
        },
        {
         "hoverinfo": "text",
         "marker": {
          "color": "rgb(0,116,217)"
         },
         "mode": "lines",
         "text": [
          "2002_her_contract_fax_bursts",
          "",
          "",
          "fedex_paypal_check_payment_ups"
         ],
         "type": "scatter",
         "x": [
          1.1225254108621623,
          1.1338038109606927,
          1.1338038109606927,
          1.0034322147235146
         ],
         "xaxis": "x",
         "y": [
          -2512.1240234375,
          -2512.1240234375,
          -2856.25,
          -2856.25
         ],
         "yaxis": "y"
        },
        {
         "hoverinfo": "text",
         "marker": {
          "color": "rgb(133,20,75)"
         },
         "mode": "lines",
         "text": [
          "order_confirmation_placed_shipped_reassure",
          "",
          "",
          "confirmation_confirmations_shortly_martinez_opens"
         ],
         "type": "scatter",
         "x": [
          0,
          0.6711371285104512,
          0.6711371285104512,
          0
         ],
         "xaxis": "x",
         "y": [
          -2885,
          -2885,
          -2895,
          -2895
         ],
         "yaxis": "y"
        },
        {
         "hoverinfo": "text",
         "marker": {
          "color": "rgb(255,220,0)"
         },
         "mode": "lines",
         "text": [
          "flight_comair_tickets_american_upgrade",
          "",
          "",
          "itinerary_flight_tickets_arrive_nov"
         ],
         "type": "scatter",
         "x": [
          0,
          0.7701195433972692,
          0.7701195433972692,
          0
         ],
         "xaxis": "x",
         "y": [
          -2905,
          -2905,
          -2915,
          -2915
         ],
         "yaxis": "y"
        },
        {
         "hoverinfo": "text",
         "marker": {
          "color": "rgb(0,116,217)"
         },
         "mode": "lines",
         "text": [
          "confirmation_order_placed_shipped_reassure",
          "",
          "",
          "itinerary_flight_tickets_arrive_nov"
         ],
         "type": "scatter",
         "x": [
          0.6711371285104512,
          1.1091430789245222,
          1.1091430789245222,
          0.7701195433972692
         ],
         "xaxis": "x",
         "y": [
          -2890,
          -2890,
          -2910,
          -2910
         ],
         "yaxis": "y"
        },
        {
         "hoverinfo": "text",
         "marker": {
          "color": "rgb(0,116,217)"
         },
         "mode": "lines",
         "text": [
          "2002_her_contract_fax_bursts",
          "",
          "",
          "itinerary_flight_confirmation_tickets_order"
         ],
         "type": "scatter",
         "x": [
          1.1338038109606927,
          1.2094441203794464,
          1.2094441203794464,
          1.1091430789245222
         ],
         "xaxis": "x",
         "y": [
          -2684.18701171875,
          -2684.18701171875,
          -2900,
          -2900
         ],
         "yaxis": "y"
        },
        {
         "hoverinfo": "text",
         "marker": {
          "color": "rgb(0,116,217)"
         },
         "mode": "lines",
         "text": [
          "spreadsheet_excel_sheet_jup_column",
          "",
          "",
          "2002_her_contract_fax_bursts"
         ],
         "type": "scatter",
         "x": [
          0.5908340912462442,
          1.215849268132721,
          1.215849268132721,
          1.2094441203794464
         ],
         "xaxis": "x",
         "y": [
          -2260,
          -2260,
          -2792.093505859375,
          -2792.093505859375
         ],
         "yaxis": "y"
        },
        {
         "hoverinfo": "text",
         "marker": {
          "color": "rgb(40,35,35)"
         },
         "mode": "lines",
         "text": [
          "000_mails_million_total_each",
          "",
          "",
          "broadcast_000_programs_advertisement_stealth"
         ],
         "type": "scatter",
         "x": [
          0,
          0.6500566502210771,
          0.6500566502210771,
          0
         ],
         "xaxis": "x",
         "y": [
          -2925,
          -2925,
          -2935,
          -2935
         ],
         "yaxis": "y"
        },
        {
         "hoverinfo": "text",
         "marker": {
          "color": "rgb(61,153,112)"
         },
         "mode": "lines",
         "text": [
          "groups_terms_docs_yahoo_subject",
          "",
          "",
          "docs_doc_tnwtc_surgery_meliisa"
         ],
         "type": "scatter",
         "x": [
          0,
          0.7494211882756368,
          0.7494211882756368,
          0
         ],
         "xaxis": "x",
         "y": [
          -2945,
          -2945,
          -2955,
          -2955
         ],
         "yaxis": "y"
        },
        {
         "hoverinfo": "text",
         "marker": {
          "color": "rgb(255,65,54)"
         },
         "mode": "lines",
         "text": [
          "notice_notices_30day_interns_deviate",
          "",
          "",
          "cancellation_totally_cancel_refund_overwhelmingly"
         ],
         "type": "scatter",
         "x": [
          0,
          0.8980234778048778,
          0.8980234778048778,
          0
         ],
         "xaxis": "x",
         "y": [
          -2975,
          -2975,
          -2985,
          -2985
         ],
         "yaxis": "y"
        },
        {
         "hoverinfo": "text",
         "marker": {
          "color": "rgb(255,65,54)"
         },
         "mode": "lines",
         "text": [
          "ideas_methodology_suggestions_bit_learn",
          "",
          "",
          "cancellation_notice_totally_cancel_refund"
         ],
         "type": "scatter",
         "x": [
          0,
          0.9384752243089634,
          0.9384752243089634,
          0.8980234778048778
         ],
         "xaxis": "x",
         "y": [
          -2965,
          -2965,
          -2980,
          -2980
         ],
         "yaxis": "y"
        },
        {
         "hoverinfo": "text",
         "marker": {
          "color": "rgb(0,116,217)"
         },
         "mode": "lines",
         "text": [
          "docs_groups_terms_yahoo_subject",
          "",
          "",
          "cancellation_ideas_notice_methodology_suggestions"
         ],
         "type": "scatter",
         "x": [
          0.7494211882756368,
          1.0867232712467072,
          1.0867232712467072,
          0.9384752243089634
         ],
         "xaxis": "x",
         "y": [
          -2950,
          -2950,
          -2972.5,
          -2972.5
         ],
         "yaxis": "y"
        },
        {
         "hoverinfo": "text",
         "marker": {
          "color": "rgb(35,205,205)"
         },
         "mode": "lines",
         "text": [
          "people_who_friends_least_prayer",
          "",
          "",
          "likely_respond_least_who_responses"
         ],
         "type": "scatter",
         "x": [
          0,
          0.825815385471871,
          0.825815385471871,
          0
         ],
         "xaxis": "x",
         "y": [
          -3005,
          -3005,
          -3015,
          -3015
         ],
         "yaxis": "y"
        },
        {
         "hoverinfo": "text",
         "marker": {
          "color": "rgb(35,205,205)"
         },
         "mode": "lines",
         "text": [
          "remember_yours_back_refund_who",
          "",
          "",
          "people_who_least_friends_prayer"
         ],
         "type": "scatter",
         "x": [
          0,
          0.9193472159094445,
          0.9193472159094445,
          0.825815385471871
         ],
         "xaxis": "x",
         "y": [
          -2995,
          -2995,
          -3010,
          -3010
         ],
         "yaxis": "y"
        },
        {
         "hoverinfo": "text",
         "marker": {
          "color": "rgb(61,153,112)"
         },
         "mode": "lines",
         "text": [
          "jokes_funny_joke_smile_puns",
          "",
          "",
          "response_todya_inadvertantly_nickname_confuses"
         ],
         "type": "scatter",
         "x": [
          0,
          0.8862693156428625,
          0.8862693156428625,
          0
         ],
         "xaxis": "x",
         "y": [
          -3025,
          -3025,
          -3035,
          -3035
         ],
         "yaxis": "y"
        },
        {
         "hoverinfo": "text",
         "marker": {
          "color": "rgb(0,116,217)"
         },
         "mode": "lines",
         "text": [
          "people_who_least_friends_prayer",
          "",
          "",
          "jokes_funny_joke_smile_puns"
         ],
         "type": "scatter",
         "x": [
          0.9193472159094445,
          1.004507361900374,
          1.004507361900374,
          0.8862693156428625
         ],
         "xaxis": "x",
         "y": [
          -3002.5,
          -3002.5,
          -3030,
          -3030
         ],
         "yaxis": "y"
        },
        {
         "hoverinfo": "text",
         "marker": {
          "color": "rgb(255,65,54)"
         },
         "mode": "lines",
         "text": [
          "women_phenomenal_hugs_pounds_lose",
          "",
          "",
          "gap_sale_brands_jeans_often"
         ],
         "type": "scatter",
         "x": [
          0,
          0.8670668586090783,
          0.8670668586090783,
          0
         ],
         "xaxis": "x",
         "y": [
          -3045,
          -3045,
          -3055,
          -3055
         ],
         "yaxis": "y"
        },
        {
         "hoverinfo": "text",
         "marker": {
          "color": "rgb(35,205,205)"
         },
         "mode": "lines",
         "text": [
          "ebay_preferences_indicate_promotions_events",
          "",
          "",
          "managing_trade_notification_p1_being"
         ],
         "type": "scatter",
         "x": [
          0,
          0.9068667191822753,
          0.9068667191822753,
          0
         ],
         "xaxis": "x",
         "y": [
          -3065,
          -3065,
          -3075,
          -3075
         ],
         "yaxis": "y"
        },
        {
         "hoverinfo": "text",
         "marker": {
          "color": "rgb(0,116,217)"
         },
         "mode": "lines",
         "text": [
          "gap_women_sale_brands_jeans",
          "",
          "",
          "ebay_notification_managing_preferences_indicate"
         ],
         "type": "scatter",
         "x": [
          0.8670668586090783,
          1.0297967794398688,
          1.0297967794398688,
          0.9068667191822753
         ],
         "xaxis": "x",
         "y": [
          -3050,
          -3050,
          -3070,
          -3070
         ],
         "yaxis": "y"
        },
        {
         "hoverinfo": "text",
         "marker": {
          "color": "rgb(0,116,217)"
         },
         "mode": "lines",
         "text": [
          "people_who_least_jokes_friends",
          "",
          "",
          "ebay_promotions_notification_gap_women"
         ],
         "type": "scatter",
         "x": [
          1.004507361900374,
          1.121727608808602,
          1.121727608808602,
          1.0297967794398688
         ],
         "xaxis": "x",
         "y": [
          -3016.25,
          -3016.25,
          -3060,
          -3060
         ],
         "yaxis": "y"
        },
        {
         "hoverinfo": "text",
         "marker": {
          "color": "rgb(0,116,217)"
         },
         "mode": "lines",
         "text": [
          "docs_groups_terms_cancellation_notice",
          "",
          "",
          "people_ebay_promotions_notification_gap"
         ],
         "type": "scatter",
         "x": [
          1.0867232712467072,
          1.1513873597325222,
          1.1513873597325222,
          1.121727608808602
         ],
         "xaxis": "x",
         "y": [
          -2961.25,
          -2961.25,
          -3038.125,
          -3038.125
         ],
         "yaxis": "y"
        },
        {
         "hoverinfo": "text",
         "marker": {
          "color": "rgb(0,116,217)"
         },
         "mode": "lines",
         "text": [
          "000_broadcast_mails_people_total",
          "",
          "",
          "people_ebay_promotions_notification_docs"
         ],
         "type": "scatter",
         "x": [
          0.6500566502210771,
          1.185113004533409,
          1.185113004533409,
          1.1513873597325222
         ],
         "xaxis": "x",
         "y": [
          -2930,
          -2930,
          -2999.6875,
          -2999.6875
         ],
         "yaxis": "y"
        },
        {
         "hoverinfo": "text",
         "marker": {
          "color": "rgb(0,116,217)"
         },
         "mode": "lines",
         "text": [
          "2002_her_contract_fax_she",
          "",
          "",
          "people_ebay_promotions_notification_docs"
         ],
         "type": "scatter",
         "x": [
          1.215849268132721,
          1.2369977654420423,
          1.2369977654420423,
          1.185113004533409
         ],
         "xaxis": "x",
         "y": [
          -2526.0467529296875,
          -2526.0467529296875,
          -2964.84375,
          -2964.84375
         ],
         "yaxis": "y"
        },
        {
         "hoverinfo": "text",
         "marker": {
          "color": "rgb(133,20,75)"
         },
         "mode": "lines",
         "text": [
          "questions_any_citszone_feel_give",
          "",
          "",
          "questions_productive_busy_hrblock_theprofessor"
         ],
         "type": "scatter",
         "x": [
          0,
          0.7335621898053626,
          0.7335621898053626,
          0
         ],
         "xaxis": "x",
         "y": [
          -3095,
          -3095,
          -3105,
          -3105
         ],
         "yaxis": "y"
        },
        {
         "hoverinfo": "text",
         "marker": {
          "color": "rgb(133,20,75)"
         },
         "mode": "lines",
         "text": [
          "help4u_wcom_questions_should_any",
          "",
          "",
          "questions_any_citszone_feel_productive"
         ],
         "type": "scatter",
         "x": [
          0,
          0.9234880543053823,
          0.9234880543053823,
          0.7335621898053626
         ],
         "xaxis": "x",
         "y": [
          -3085,
          -3085,
          -3100,
          -3100
         ],
         "yaxis": "y"
        },
        {
         "hoverinfo": "text",
         "marker": {
          "color": "rgb(255,220,0)"
         },
         "mode": "lines",
         "text": [
          "helpdesk_assistance_support_emergencies_request",
          "",
          "",
          "facilities_concerns_x8042_relegated_containers"
         ],
         "type": "scatter",
         "x": [
          0,
          0.8774799438622687,
          0.8774799438622687,
          0
         ],
         "xaxis": "x",
         "y": [
          -3115,
          -3115,
          -3125,
          -3125
         ],
         "yaxis": "y"
        },
        {
         "hoverinfo": "text",
         "marker": {
          "color": "rgb(0,116,217)"
         },
         "mode": "lines",
         "text": [
          "help4u_wcom_questions_any_should",
          "",
          "",
          "facilities_helpdesk_assistance_request_requests"
         ],
         "type": "scatter",
         "x": [
          0.9234880543053823,
          1.0025593815036729,
          1.0025593815036729,
          0.8774799438622687
         ],
         "xaxis": "x",
         "y": [
          -3092.5,
          -3092.5,
          -3120,
          -3120
         ],
         "yaxis": "y"
        },
        {
         "hoverinfo": "text",
         "marker": {
          "color": "rgb(40,35,35)"
         },
         "mode": "lines",
         "text": [
          "enter_dial_press_accumulating_escalated",
          "",
          "",
          "conference_call_number_speakers_7453"
         ],
         "type": "scatter",
         "x": [
          0,
          0.8835096722641193,
          0.8835096722641193,
          0
         ],
         "xaxis": "x",
         "y": [
          -3135,
          -3135,
          -3145,
          -3145
         ],
         "yaxis": "y"
        },
        {
         "hoverinfo": "text",
         "marker": {
          "color": "rgb(40,35,35)"
         },
         "mode": "lines",
         "text": [
          "call_touch_me_5240_reach",
          "",
          "",
          "cell_number_phone_numbers_beeper"
         ],
         "type": "scatter",
         "x": [
          0,
          0.7612839476971329,
          0.7612839476971329,
          0
         ],
         "xaxis": "x",
         "y": [
          -3155,
          -3155,
          -3165,
          -3165
         ],
         "yaxis": "y"
        },
        {
         "hoverinfo": "text",
         "marker": {
          "color": "rgb(40,35,35)"
         },
         "mode": "lines",
         "text": [
          "cell_call_number_me_phone",
          "",
          "",
          "font_number_hook_okay_cocktails"
         ],
         "type": "scatter",
         "x": [
          0.7612839476971329,
          0.8607573623110577,
          0.8607573623110577,
          0
         ],
         "xaxis": "x",
         "y": [
          -3160,
          -3160,
          -3175,
          -3175
         ],
         "yaxis": "y"
        },
        {
         "hoverinfo": "text",
         "marker": {
          "color": "rgb(40,35,35)"
         },
         "mode": "lines",
         "text": [
          "conference_call_calls_number_dial",
          "",
          "",
          "cell_number_call_me_phone"
         ],
         "type": "scatter",
         "x": [
          0.8835096722641193,
          0.9809348481232167,
          0.9809348481232167,
          0.8607573623110577
         ],
         "xaxis": "x",
         "y": [
          -3140,
          -3140,
          -3167.5,
          -3167.5
         ],
         "yaxis": "y"
        },
        {
         "hoverinfo": "text",
         "marker": {
          "color": "rgb(0,116,217)"
         },
         "mode": "lines",
         "text": [
          "help4u_wcom_questions_helpdesk_facilities",
          "",
          "",
          "conference_call_number_cell_me"
         ],
         "type": "scatter",
         "x": [
          1.0025593815036729,
          1.1844044969878205,
          1.1844044969878205,
          0.9809348481232167
         ],
         "xaxis": "x",
         "y": [
          -3106.25,
          -3106.25,
          -3153.75,
          -3153.75
         ],
         "yaxis": "y"
        },
        {
         "hoverinfo": "text",
         "marker": {
          "color": "rgb(0,116,217)"
         },
         "mode": "lines",
         "text": [
          "2002_her_contract_fax_she",
          "",
          "",
          "help4u_call_conference_wcom_questions"
         ],
         "type": "scatter",
         "x": [
          1.2369977654420423,
          1.2856238031717862,
          1.2856238031717862,
          1.1844044969878205
         ],
         "xaxis": "x",
         "y": [
          -2745.4452514648438,
          -2745.4452514648438,
          -3130,
          -3130
         ],
         "yaxis": "y"
        },
        {
         "hoverinfo": "text",
         "marker": {
          "color": "rgb(0,116,217)"
         },
         "mode": "lines",
         "text": [
          "lifeminders_spotlight_archived_gift_travel",
          "",
          "",
          "2002_her_contract_fax_she"
         ],
         "type": "scatter",
         "x": [
          1.27332798730234,
          1.3109315774607428,
          1.3109315774607428,
          1.2856238031717862
         ],
         "xaxis": "x",
         "y": [
          -2205.9375,
          -2205.9375,
          -2937.722625732422,
          -2937.722625732422
         ],
         "yaxis": "y"
        },
        {
         "hoverinfo": "text",
         "marker": {
          "color": "rgb(0,116,217)"
         },
         "mode": "lines",
         "text": [
          "presentation_hp_accenture_training_prakash",
          "",
          "",
          "2002_her_contract_fax_she"
         ],
         "type": "scatter",
         "x": [
          1.2657246497826466,
          1.334145932280319,
          1.334145932280319,
          1.3109315774607428
         ],
         "xaxis": "x",
         "y": [
          -1878.18359375,
          -1878.18359375,
          -2571.830062866211,
          -2571.830062866211
         ],
         "yaxis": "y"
        },
        {
         "hoverinfo": "text",
         "marker": {
          "color": "rgb(61,153,112)"
         },
         "mode": "lines",
         "text": [
          "kits_press_kit_ino_gearing",
          "",
          "",
          "press_release_releases_approval_wire"
         ],
         "type": "scatter",
         "x": [
          0,
          0.6180612916121484,
          0.6180612916121484,
          0
         ],
         "xaxis": "x",
         "y": [
          -3185,
          -3185,
          -3195,
          -3195
         ],
         "yaxis": "y"
        },
        {
         "hoverinfo": "text",
         "marker": {
          "color": "rgb(61,153,112)"
         },
         "mode": "lines",
         "text": [
          "press_release_releases_kits_approval",
          "",
          "",
          "newstips_releases_interex_press_thestandard"
         ],
         "type": "scatter",
         "x": [
          0.6180612916121484,
          0.8091766146018601,
          0.8091766146018601,
          0
         ],
         "xaxis": "x",
         "y": [
          -3190,
          -3190,
          -3205,
          -3205
         ],
         "yaxis": "y"
        },
        {
         "hoverinfo": "text",
         "marker": {
          "color": "rgb(0,116,217)"
         },
         "mode": "lines",
         "text": [
          "2002_presentation_for_her_you",
          "",
          "",
          "press_releases_release_newstips_kits"
         ],
         "type": "scatter",
         "x": [
          1.334145932280319,
          1.3573488630955508,
          1.3573488630955508,
          0.8091766146018601
         ],
         "xaxis": "x",
         "y": [
          -2225.0068283081055,
          -2225.0068283081055,
          -3197.5,
          -3197.5
         ],
         "yaxis": "y"
        },
        {
         "hoverinfo": "text",
         "marker": {
          "color": "rgb(0,116,217)"
         },
         "mode": "lines",
         "text": [
          "alerts_sms_messages_pictures_instant",
          "",
          "",
          "2002_presentation_for_you_her"
         ],
         "type": "scatter",
         "x": [
          1.3428320749606397,
          1.3941145051191226,
          1.3941145051191226,
          1.3573488630955508
         ],
         "xaxis": "x",
         "y": [
          -1665,
          -1665,
          -2711.2534141540527,
          -2711.2534141540527
         ],
         "yaxis": "y"
        },
        {
         "hoverinfo": "text",
         "marker": {
          "color": "rgb(255,65,54)"
         },
         "mode": "lines",
         "text": [
          "meeting_calendar_dates_request_times",
          "",
          "",
          "meeting_request_meetings_minutes_notice"
         ],
         "type": "scatter",
         "x": [
          0,
          0.4496996416244293,
          0.4496996416244293,
          0
         ],
         "xaxis": "x",
         "y": [
          -3225,
          -3225,
          -3235,
          -3235
         ],
         "yaxis": "y"
        },
        {
         "hoverinfo": "text",
         "marker": {
          "color": "rgb(255,65,54)"
         },
         "mode": "lines",
         "text": [
          "calendar_calendars_meeting_iwkcalendar_cmp",
          "",
          "",
          "meeting_request_meetings_calendar_minutes"
         ],
         "type": "scatter",
         "x": [
          0,
          0.7259491902478334,
          0.7259491902478334,
          0.4496996416244293
         ],
         "xaxis": "x",
         "y": [
          -3215,
          -3215,
          -3230,
          -3230
         ],
         "yaxis": "y"
        },
        {
         "hoverinfo": "text",
         "marker": {
          "color": "rgb(35,205,205)"
         },
         "mode": "lines",
         "text": [
          "agenda_interview_sprang_annoyance_interviewing",
          "",
          "",
          "agenda_mpp98_explaning_agendas_revised"
         ],
         "type": "scatter",
         "x": [
          0,
          0.3268001411650271,
          0.3268001411650271,
          0
         ],
         "xaxis": "x",
         "y": [
          -3245,
          -3245,
          -3255,
          -3255
         ],
         "yaxis": "y"
        },
        {
         "hoverinfo": "text",
         "marker": {
          "color": "rgb(0,116,217)"
         },
         "mode": "lines",
         "text": [
          "meeting_calendar_request_meetings_calendars",
          "",
          "",
          "agenda_interview_detailed_out_next"
         ],
         "type": "scatter",
         "x": [
          0.7259491902478334,
          1.288304444135843,
          1.288304444135843,
          0.3268001411650271
         ],
         "xaxis": "x",
         "y": [
          -3222.5,
          -3222.5,
          -3250,
          -3250
         ],
         "yaxis": "y"
        },
        {
         "hoverinfo": "text",
         "marker": {
          "color": "rgb(0,116,217)"
         },
         "mode": "lines",
         "text": [
          "2002_presentation_for_you_me",
          "",
          "",
          "meeting_agenda_calendar_request_meetings"
         ],
         "type": "scatter",
         "x": [
          1.3941145051191226,
          1.413712673271359,
          1.413712673271359,
          1.288304444135843
         ],
         "xaxis": "x",
         "y": [
          -2188.1267070770264,
          -2188.1267070770264,
          -3236.25,
          -3236.25
         ],
         "yaxis": "y"
        },
        {
         "hoverinfo": "text",
         "marker": {
          "color": "rgb(61,153,112)"
         },
         "mode": "lines",
         "text": [
          "folders_public_paste_onto_etrade",
          "",
          "",
          "etrade_boxes_10mbit_centigrade_flaky"
         ],
         "type": "scatter",
         "x": [
          0,
          0.7741199606475088,
          0.7741199606475088,
          0
         ],
         "xaxis": "x",
         "y": [
          -3265,
          -3265,
          -3275,
          -3275
         ],
         "yaxis": "y"
        },
        {
         "hoverinfo": "text",
         "marker": {
          "color": "rgb(255,65,54)"
         },
         "mode": "lines",
         "text": [
          "ops_request_opssupport_op_operations",
          "",
          "",
          "requests_refrain_demanding_request_lates"
         ],
         "type": "scatter",
         "x": [
          0,
          0.8395177367741337,
          0.8395177367741337,
          0
         ],
         "xaxis": "x",
         "y": [
          -3295,
          -3295,
          -3305,
          -3305
         ],
         "yaxis": "y"
        },
        {
         "hoverinfo": "text",
         "marker": {
          "color": "rgb(255,65,54)"
         },
         "mode": "lines",
         "text": [
          "arun_arunlekha_ops_hotmail_riteshadval",
          "",
          "",
          "ops_request_requests_op_opssupport"
         ],
         "type": "scatter",
         "x": [
          0,
          0.9267184010163781,
          0.9267184010163781,
          0.8395177367741337
         ],
         "xaxis": "x",
         "y": [
          -3285,
          -3285,
          -3300,
          -3300
         ],
         "yaxis": "y"
        },
        {
         "hoverinfo": "text",
         "marker": {
          "color": "rgb(0,116,217)"
         },
         "mode": "lines",
         "text": [
          "etrade_folders_public_paste_onto",
          "",
          "",
          "ops_arun_request_requests_arunlekha"
         ],
         "type": "scatter",
         "x": [
          0.7741199606475088,
          1.1203140438717296,
          1.1203140438717296,
          0.9267184010163781
         ],
         "xaxis": "x",
         "y": [
          -3270,
          -3270,
          -3292.5,
          -3292.5
         ],
         "yaxis": "y"
        },
        {
         "hoverinfo": "text",
         "marker": {
          "color": "rgb(35,205,205)"
         },
         "mode": "lines",
         "text": [
          "japanese_miyuki_translation_idc_translated",
          "",
          "",
          "idc_diva_blocker_ae_bug"
         ],
         "type": "scatter",
         "x": [
          0,
          0.7807678888253694,
          0.7807678888253694,
          0
         ],
         "xaxis": "x",
         "y": [
          -3325,
          -3325,
          -3335,
          -3335
         ],
         "yaxis": "y"
        },
        {
         "hoverinfo": "text",
         "marker": {
          "color": "rgb(35,205,205)"
         },
         "mode": "lines",
         "text": [
          "translation_localization_language_translate_keys",
          "",
          "",
          "idc_japanese_miyuki_translation_translated"
         ],
         "type": "scatter",
         "x": [
          0,
          0.9104014265216107,
          0.9104014265216107,
          0.7807678888253694
         ],
         "xaxis": "x",
         "y": [
          -3315,
          -3315,
          -3330,
          -3330
         ],
         "yaxis": "y"
        },
        {
         "hoverinfo": "text",
         "marker": {
          "color": "rgb(133,20,75)"
         },
         "mode": "lines",
         "text": [
          "ae_aes_apache_aetest_10_checkin",
          "",
          "",
          "igo_battery3_ae_timestamp_amlid"
         ],
         "type": "scatter",
         "x": [
          0,
          0.8396051374640099,
          0.8396051374640099,
          0
         ],
         "xaxis": "x",
         "y": [
          -3345,
          -3345,
          -3355,
          -3355
         ],
         "yaxis": "y"
        },
        {
         "hoverinfo": "text",
         "marker": {
          "color": "rgb(255,220,0)"
         },
         "mode": "lines",
         "text": [
          "aml_files_pages_page_amlscript",
          "",
          "",
          "html_pages_htmlhost_magic_source"
         ],
         "type": "scatter",
         "x": [
          0,
          0.7796198302479863,
          0.7796198302479863,
          0
         ],
         "xaxis": "x",
         "y": [
          -3365,
          -3365,
          -3375,
          -3375
         ],
         "yaxis": "y"
        },
        {
         "hoverinfo": "text",
         "marker": {
          "color": "rgb(255,220,0)"
         },
         "mode": "lines",
         "text": [
          "aml_pages_files_html_page",
          "",
          "",
          "text_img_known_html_contend"
         ],
         "type": "scatter",
         "x": [
          0.7796198302479863,
          0.929337016076918,
          0.929337016076918,
          0
         ],
         "xaxis": "x",
         "y": [
          -3370,
          -3370,
          -3385,
          -3385
         ],
         "yaxis": "y"
        },
        {
         "hoverinfo": "text",
         "marker": {
          "color": "rgb(0,116,217)"
         },
         "mode": "lines",
         "text": [
          "ae_igo_battery3_timestamp_amlid",
          "",
          "",
          "aml_html_pages_files_page"
         ],
         "type": "scatter",
         "x": [
          0.8396051374640099,
          1.0048877728590917,
          1.0048877728590917,
          0.929337016076918
         ],
         "xaxis": "x",
         "y": [
          -3350,
          -3350,
          -3377.5,
          -3377.5
         ],
         "yaxis": "y"
        },
        {
         "hoverinfo": "text",
         "marker": {
          "color": "rgb(40,35,35)"
         },
         "mode": "lines",
         "text": [
          "samples_sample_evaluation_aim_simliar",
          "",
          "",
          "code_sample_gesture_screw_afraid"
         ],
         "type": "scatter",
         "x": [
          0,
          0.8853166824066443,
          0.8853166824066443,
          0
         ],
         "xaxis": "x",
         "y": [
          -3395,
          -3395,
          -3405,
          -3405
         ],
         "yaxis": "y"
        },
        {
         "hoverinfo": "text",
         "marker": {
          "color": "rgb(61,153,112)"
         },
         "mode": "lines",
         "text": [
          "visio_lower_screens_mabye_version",
          "",
          "",
          "version_versions_discard_older_distributing"
         ],
         "type": "scatter",
         "x": [
          0,
          0.9159713223771633,
          0.9159713223771633,
          0
         ],
         "xaxis": "x",
         "y": [
          -3415,
          -3415,
          -3425,
          -3425
         ],
         "yaxis": "y"
        },
        {
         "hoverinfo": "text",
         "marker": {
          "color": "rgb(61,153,112)"
         },
         "mode": "lines",
         "text": [
          "logo_logos_eps_color_horizontal",
          "",
          "",
          "icons_screen_screens_shot_gif"
         ],
         "type": "scatter",
         "x": [
          0,
          0.9220046516404454,
          0.9220046516404454,
          0
         ],
         "xaxis": "x",
         "y": [
          -3435,
          -3435,
          -3445,
          -3445
         ],
         "yaxis": "y"
        },
        {
         "hoverinfo": "text",
         "marker": {
          "color": "rgb(61,153,112)"
         },
         "mode": "lines",
         "text": [
          "visio_version_versions_lower_screens",
          "",
          "",
          "logo_logos_eps_icons_screen"
         ],
         "type": "scatter",
         "x": [
          0.9159713223771633,
          0.9847805813502707,
          0.9847805813502707,
          0.9220046516404454
         ],
         "xaxis": "x",
         "y": [
          -3420,
          -3420,
          -3440,
          -3440
         ],
         "yaxis": "y"
        },
        {
         "hoverinfo": "text",
         "marker": {
          "color": "rgb(0,116,217)"
         },
         "mode": "lines",
         "text": [
          "code_samples_sample_gesture_screw",
          "",
          "",
          "logo_visio_logos_eps_version"
         ],
         "type": "scatter",
         "x": [
          0.8853166824066443,
          1.0455655661323917,
          1.0455655661323917,
          0.9847805813502707
         ],
         "xaxis": "x",
         "y": [
          -3400,
          -3400,
          -3430,
          -3430
         ],
         "yaxis": "y"
        },
        {
         "hoverinfo": "text",
         "marker": {
          "color": "rgb(0,116,217)"
         },
         "mode": "lines",
         "text": [
          "aml_ae_html_igo_battery3",
          "",
          "",
          "logo_visio_logos_code_samples"
         ],
         "type": "scatter",
         "x": [
          1.0048877728590917,
          1.0623250742598456,
          1.0623250742598456,
          1.0455655661323917
         ],
         "xaxis": "x",
         "y": [
          -3363.75,
          -3363.75,
          -3415,
          -3415
         ],
         "yaxis": "y"
        },
        {
         "hoverinfo": "text",
         "marker": {
          "color": "rgb(0,116,217)"
         },
         "mode": "lines",
         "text": [
          "idc_japanese_translation_localization_miyuki",
          "",
          "",
          "aml_logo_ae_visio_html"
         ],
         "type": "scatter",
         "x": [
          0.9104014265216107,
          1.1280484857977995,
          1.1280484857977995,
          1.0623250742598456
         ],
         "xaxis": "x",
         "y": [
          -3322.5,
          -3322.5,
          -3389.375,
          -3389.375
         ],
         "yaxis": "y"
        },
        {
         "hoverinfo": "text",
         "marker": {
          "color": "rgb(0,116,217)"
         },
         "mode": "lines",
         "text": [
          "etrade_ops_arun_request_folders",
          "",
          "",
          "aml_idc_logo_ae_visio"
         ],
         "type": "scatter",
         "x": [
          1.1203140438717296,
          1.154864376823478,
          1.154864376823478,
          1.1280484857977995
         ],
         "xaxis": "x",
         "y": [
          -3281.25,
          -3281.25,
          -3355.9375,
          -3355.9375
         ],
         "yaxis": "y"
        },
        {
         "hoverinfo": "text",
         "marker": {
          "color": "rgb(255,65,54)"
         },
         "mode": "lines",
         "text": [
          "data_datacards_afterwards_against_rajev",
          "",
          "",
          "item_oca_osa_data_201"
         ],
         "type": "scatter",
         "x": [
          0,
          0.844569439927937,
          0.844569439927937,
          0
         ],
         "xaxis": "x",
         "y": [
          -3455,
          -3455,
          -3465,
          -3465
         ],
         "yaxis": "y"
        },
        {
         "hoverinfo": "text",
         "marker": {
          "color": "rgb(35,205,205)"
         },
         "mode": "lines",
         "text": [
          "problem_error_issue_reproduce_fix",
          "",
          "",
          "fix_patch_problem_issue_fixed"
         ],
         "type": "scatter",
         "x": [
          0,
          0.6524580478053205,
          0.6524580478053205,
          0
         ],
         "xaxis": "x",
         "y": [
          -3475,
          -3475,
          -3485,
          -3485
         ],
         "yaxis": "y"
        },
        {
         "hoverinfo": "text",
         "marker": {
          "color": "rgb(0,116,217)"
         },
         "mode": "lines",
         "text": [
          "item_oca_osa_data_201",
          "",
          "",
          "problem_issue_error_fix_errors"
         ],
         "type": "scatter",
         "x": [
          0.844569439927937,
          1.042795602410876,
          1.042795602410876,
          0.6524580478053205
         ],
         "xaxis": "x",
         "y": [
          -3460,
          -3460,
          -3480,
          -3480
         ],
         "yaxis": "y"
        },
        {
         "hoverinfo": "text",
         "marker": {
          "color": "rgb(61,153,112)"
         },
         "mode": "lines",
         "text": [
          "qm_quota_mean_reaches_intelligent",
          "",
          "",
          "smalltalk_object_method_argument_instruction"
         ],
         "type": "scatter",
         "x": [
          0,
          0.8957409497870155,
          0.8957409497870155,
          0
         ],
         "xaxis": "x",
         "y": [
          -3495,
          -3495,
          -3505,
          -3505
         ],
         "yaxis": "y"
        },
        {
         "hoverinfo": "text",
         "marker": {
          "color": "rgb(255,65,54)"
         },
         "mode": "lines",
         "text": [
          "jsp_method_page_servlet_bean",
          "",
          "",
          "htmlhost_server_cache_session_control"
         ],
         "type": "scatter",
         "x": [
          0,
          0.8171206269811474,
          0.8171206269811474,
          0
         ],
         "xaxis": "x",
         "y": [
          -3515,
          -3515,
          -3525,
          -3525
         ],
         "yaxis": "y"
        },
        {
         "hoverinfo": "text",
         "marker": {
          "color": "rgb(255,65,54)"
         },
         "mode": "lines",
         "text": [
          "device_header_deviceid_gateway_headers",
          "",
          "",
          "xml_spy_emas_hdml_feed"
         ],
         "type": "scatter",
         "x": [
          0,
          0.8066483339206014,
          0.8066483339206014,
          0
         ],
         "xaxis": "x",
         "y": [
          -3535,
          -3535,
          -3545,
          -3545
         ],
         "yaxis": "y"
        },
        {
         "hoverinfo": "text",
         "marker": {
          "color": "rgb(255,65,54)"
         },
         "mode": "lines",
         "text": [
          "jsp_page_method_browser_server",
          "",
          "",
          "xml_device_spy_emas_hdml"
         ],
         "type": "scatter",
         "x": [
          0.8171206269811474,
          0.9231935682907851,
          0.9231935682907851,
          0.8066483339206014
         ],
         "xaxis": "x",
         "y": [
          -3520,
          -3520,
          -3540,
          -3540
         ],
         "yaxis": "y"
        },
        {
         "hoverinfo": "text",
         "marker": {
          "color": "rgb(255,65,54)"
         },
         "mode": "lines",
         "text": [
          "parameters_utilization_cpu_server_config",
          "",
          "",
          "parameters_variables_param1_param2_parm2"
         ],
         "type": "scatter",
         "x": [
          0,
          0.8252723809108526,
          0.8252723809108526,
          0
         ],
         "xaxis": "x",
         "y": [
          -3555,
          -3555,
          -3565,
          -3565
         ],
         "yaxis": "y"
        },
        {
         "hoverinfo": "text",
         "marker": {
          "color": "rgb(255,65,54)"
         },
         "mode": "lines",
         "text": [
          "jsp_xml_device_browser_page",
          "",
          "",
          "parameters_variables_parm2_param1_param2"
         ],
         "type": "scatter",
         "x": [
          0.9231935682907851,
          0.9632822462578471,
          0.9632822462578471,
          0.8252723809108526
         ],
         "xaxis": "x",
         "y": [
          -3530,
          -3530,
          -3560,
          -3560
         ],
         "yaxis": "y"
        },
        {
         "hoverinfo": "text",
         "marker": {
          "color": "rgb(0,116,217)"
         },
         "mode": "lines",
         "text": [
          "smalltalk_object_method_messages_argument",
          "",
          "",
          "jsp_xml_server_device_browser"
         ],
         "type": "scatter",
         "x": [
          0.8957409497870155,
          1.0134391719885947,
          1.0134391719885947,
          0.9632822462578471
         ],
         "xaxis": "x",
         "y": [
          -3500,
          -3500,
          -3545,
          -3545
         ],
         "yaxis": "y"
        },
        {
         "hoverinfo": "text",
         "marker": {
          "color": "rgb(0,116,217)"
         },
         "mode": "lines",
         "text": [
          "item_oca_osa_data_201",
          "",
          "",
          "jsp_xml_method_server_device"
         ],
         "type": "scatter",
         "x": [
          1.042795602410876,
          1.0852035238653355,
          1.0852035238653355,
          1.0134391719885947
         ],
         "xaxis": "x",
         "y": [
          -3470,
          -3470,
          -3522.5,
          -3522.5
         ],
         "yaxis": "y"
        },
        {
         "hoverinfo": "text",
         "marker": {
          "color": "rgb(0,116,217)"
         },
         "mode": "lines",
         "text": [
          "aml_idc_logo_ae_visio",
          "",
          "",
          "item_oca_data_osa_201"
         ],
         "type": "scatter",
         "x": [
          1.154864376823478,
          1.1964583235996658,
          1.1964583235996658,
          1.0852035238653355
         ],
         "xaxis": "x",
         "y": [
          -3318.59375,
          -3318.59375,
          -3496.25,
          -3496.25
         ],
         "yaxis": "y"
        },
        {
         "hoverinfo": "text",
         "marker": {
          "color": "rgb(35,205,205)"
         },
         "mode": "lines",
         "text": [
          "url_offline_application_app_smartphone",
          "",
          "",
          "url_salesep_urls_sore_geotuch"
         ],
         "type": "scatter",
         "x": [
          0,
          0.6877762303521316,
          0.6877762303521316,
          0
         ],
         "xaxis": "x",
         "y": [
          -3585,
          -3585,
          -3595,
          -3595
         ],
         "yaxis": "y"
        },
        {
         "hoverinfo": "text",
         "marker": {
          "color": "rgb(35,205,205)"
         },
         "mode": "lines",
         "text": [
          "epservlet_opt_servlet_ini_traffic",
          "",
          "",
          "url_offline_application_app_salesep"
         ],
         "type": "scatter",
         "x": [
          0,
          0.9564161385480143,
          0.9564161385480143,
          0.6877762303521316
         ],
         "xaxis": "x",
         "y": [
          -3575,
          -3575,
          -3590,
          -3590
         ],
         "yaxis": "y"
        },
        {
         "hoverinfo": "text",
         "marker": {
          "color": "rgb(133,20,75)"
         },
         "mode": "lines",
         "text": [
          "pqa_application_test_updated_pqas",
          "",
          "",
          "palm_vii_emulator_pqa_application"
         ],
         "type": "scatter",
         "x": [
          0,
          0.7680222510686814,
          0.7680222510686814,
          0
         ],
         "xaxis": "x",
         "y": [
          -3605,
          -3605,
          -3615,
          -3615
         ],
         "yaxis": "y"
        },
        {
         "hoverinfo": "text",
         "marker": {
          "color": "rgb(133,20,75)"
         },
         "mode": "lines",
         "text": [
          "emulator_gateway_epoffline_voicestram_jphone",
          "",
          "",
          "pocketpc_pocket_pc_handles_harddisk"
         ],
         "type": "scatter",
         "x": [
          0,
          0.8482079613829816,
          0.8482079613829816,
          0
         ],
         "xaxis": "x",
         "y": [
          -3625,
          -3625,
          -3635,
          -3635
         ],
         "yaxis": "y"
        },
        {
         "hoverinfo": "text",
         "marker": {
          "color": "rgb(133,20,75)"
         },
         "mode": "lines",
         "text": [
          "pqa_palm_application_vii_test",
          "",
          "",
          "emulator_pocketpc_pocket_pc_handles"
         ],
         "type": "scatter",
         "x": [
          0.7680222510686814,
          0.9436964085933289,
          0.9436964085933289,
          0.8482079613829816
         ],
         "xaxis": "x",
         "y": [
          -3610,
          -3610,
          -3630,
          -3630
         ],
         "yaxis": "y"
        },
        {
         "hoverinfo": "text",
         "marker": {
          "color": "rgb(0,116,217)"
         },
         "mode": "lines",
         "text": [
          "epservlet_url_opt_application_servlet",
          "",
          "",
          "pqa_palm_emulator_application_vii"
         ],
         "type": "scatter",
         "x": [
          0.9564161385480143,
          1.0697009523304826,
          1.0697009523304826,
          0.9436964085933289
         ],
         "xaxis": "x",
         "y": [
          -3582.5,
          -3582.5,
          -3620,
          -3620
         ],
         "yaxis": "y"
        },
        {
         "hoverinfo": "text",
         "marker": {
          "color": "rgb(255,220,0)"
         },
         "mode": "lines",
         "text": [
          "rim_dds_rimulator_application_updated",
          "",
          "",
          "dds_final_doable_uncompleted_d2040"
         ],
         "type": "scatter",
         "x": [
          0,
          0.6417730440723488,
          0.6417730440723488,
          0
         ],
         "xaxis": "x",
         "y": [
          -3645,
          -3645,
          -3655,
          -3655
         ],
         "yaxis": "y"
        },
        {
         "hoverinfo": "text",
         "marker": {
          "color": "rgb(0,116,217)"
         },
         "mode": "lines",
         "text": [
          "pqa_palm_epservlet_emulator_url",
          "",
          "",
          "dds_rim_rimulator_application_updated"
         ],
         "type": "scatter",
         "x": [
          1.0697009523304826,
          1.1802330374510814,
          1.1802330374510814,
          0.6417730440723488
         ],
         "xaxis": "x",
         "y": [
          -3601.25,
          -3601.25,
          -3650,
          -3650
         ],
         "yaxis": "y"
        },
        {
         "hoverinfo": "text",
         "marker": {
          "color": "rgb(0,116,217)"
         },
         "mode": "lines",
         "text": [
          "item_oca_data_osa_aml",
          "",
          "",
          "pqa_palm_dds_epservlet_application"
         ],
         "type": "scatter",
         "x": [
          1.1964583235996658,
          1.2476511670946704,
          1.2476511670946704,
          1.1802330374510814
         ],
         "xaxis": "x",
         "y": [
          -3407.421875,
          -3407.421875,
          -3625.625,
          -3625.625
         ],
         "yaxis": "y"
        },
        {
         "hoverinfo": "text",
         "marker": {
          "color": "rgb(40,35,35)"
         },
         "mode": "lines",
         "text": [
          "virus_norton_attachment_antivirus_scan",
          "",
          "",
          "virus_itself_infected_worm_book"
         ],
         "type": "scatter",
         "x": [
          0,
          0.6739603503014042,
          0.6739603503014042,
          0
         ],
         "xaxis": "x",
         "y": [
          -3675,
          -3675,
          -3685,
          -3685
         ],
         "yaxis": "y"
        },
        {
         "hoverinfo": "text",
         "marker": {
          "color": "rgb(40,35,35)"
         },
         "mode": "lines",
         "text": [
          "digest_xp_disconnect_machine_virus",
          "",
          "",
          "virus_infected_attachment_scan_norton"
         ],
         "type": "scatter",
         "x": [
          0,
          0.8338893841312204,
          0.8338893841312204,
          0.6739603503014042
         ],
         "xaxis": "x",
         "y": [
          -3665,
          -3665,
          -3680,
          -3680
         ],
         "yaxis": "y"
        },
        {
         "hoverinfo": "text",
         "marker": {
          "color": "rgb(61,153,112)"
         },
         "mode": "lines",
         "text": [
          "mb_size_attachment_limit_incoming",
          "",
          "",
          "attachment_marrige_ment_murthy_explanation"
         ],
         "type": "scatter",
         "x": [
          0,
          0.8151864243217577,
          0.8151864243217577,
          0
         ],
         "xaxis": "x",
         "y": [
          -3695,
          -3695,
          -3705,
          -3705
         ],
         "yaxis": "y"
        },
        {
         "hoverinfo": "text",
         "marker": {
          "color": "rgb(255,65,54)"
         },
         "mode": "lines",
         "text": [
          "content_base64_disposition_encoding_filename",
          "",
          "",
          "personals_jul_mimeole_nerve_normal"
         ],
         "type": "scatter",
         "x": [
          0,
          0.8952481125425289,
          0.8952481125425289,
          0
         ],
         "xaxis": "x",
         "y": [
          -3715,
          -3715,
          -3725,
          -3725
         ],
         "yaxis": "y"
        },
        {
         "hoverinfo": "text",
         "marker": {
          "color": "rgb(0,116,217)"
         },
         "mode": "lines",
         "text": [
          "mb_attachment_size_limit_incoming",
          "",
          "",
          "content_encoding_base64_type_disposition"
         ],
         "type": "scatter",
         "x": [
          0.8151864243217577,
          1.0388970014213805,
          1.0388970014213805,
          0.8952481125425289
         ],
         "xaxis": "x",
         "y": [
          -3700,
          -3700,
          -3720,
          -3720
         ],
         "yaxis": "y"
        },
        {
         "hoverinfo": "text",
         "marker": {
          "color": "rgb(0,116,217)"
         },
         "mode": "lines",
         "text": [
          "virus_infected_attachment_perform_scan",
          "",
          "",
          "content_encoding_base64_type_disposition"
         ],
         "type": "scatter",
         "x": [
          0.8338893841312204,
          1.1321473074960922,
          1.1321473074960922,
          1.0388970014213805
         ],
         "xaxis": "x",
         "y": [
          -3672.5,
          -3672.5,
          -3710,
          -3710
         ],
         "yaxis": "y"
        },
        {
         "hoverinfo": "text",
         "marker": {
          "color": "rgb(35,205,205)"
         },
         "mode": "lines",
         "text": [
          "file_files_kaiperm_dist_persist",
          "",
          "",
          "file_files_wrong_folders_these"
         ],
         "type": "scatter",
         "x": [
          0,
          0.5093527858688001,
          0.5093527858688001,
          0
         ],
         "xaxis": "x",
         "y": [
          -3745,
          -3745,
          -3755,
          -3755
         ],
         "yaxis": "y"
        },
        {
         "hoverinfo": "text",
         "marker": {
          "color": "rgb(35,205,205)"
         },
         "mode": "lines",
         "text": [
          "zip_files_file_folder_everything",
          "",
          "",
          "file_files_kaiperm_folders_zip"
         ],
         "type": "scatter",
         "x": [
          0,
          0.7118092948707915,
          0.7118092948707915,
          0.5093527858688001
         ],
         "xaxis": "x",
         "y": [
          -3735,
          -3735,
          -3750,
          -3750
         ],
         "yaxis": "y"
        },
        {
         "hoverinfo": "text",
         "marker": {
          "color": "rgb(0,116,217)"
         },
         "mode": "lines",
         "text": [
          "content_attachment_virus_encoding_base64",
          "",
          "",
          "file_files_zip_kaiperm_persist"
         ],
         "type": "scatter",
         "x": [
          1.1321473074960922,
          1.2577587808983848,
          1.2577587808983848,
          0.7118092948707915
         ],
         "xaxis": "x",
         "y": [
          -3691.25,
          -3691.25,
          -3742.5,
          -3742.5
         ],
         "yaxis": "y"
        },
        {
         "hoverinfo": "text",
         "marker": {
          "color": "rgb(61,153,112)"
         },
         "mode": "lines",
         "text": [
          "resend_could_cud_iteninary_again",
          "",
          "",
          "resend_myhrvold_kcerrone_sorted_resending"
         ],
         "type": "scatter",
         "x": [
          0,
          0.3023576321042052,
          0.3023576321042052,
          0
         ],
         "xaxis": "x",
         "y": [
          -3765,
          -3765,
          -3775,
          -3775
         ],
         "yaxis": "y"
        },
        {
         "hoverinfo": "text",
         "marker": {
          "color": "rgb(0,116,217)"
         },
         "mode": "lines",
         "text": [
          "content_attachment_virus_encoding_base64",
          "",
          "",
          "resend_could_can_double_cud"
         ],
         "type": "scatter",
         "x": [
          1.2577587808983848,
          1.3112794364478149,
          1.3112794364478149,
          0.3023576321042052
         ],
         "xaxis": "x",
         "y": [
          -3716.875,
          -3716.875,
          -3770,
          -3770
         ],
         "yaxis": "y"
        },
        {
         "hoverinfo": "text",
         "marker": {
          "color": "rgb(0,116,217)"
         },
         "mode": "lines",
         "text": [
          "pqa_item_data_oca_osa",
          "",
          "",
          "content_attachment_virus_resend_encoding"
         ],
         "type": "scatter",
         "x": [
          1.2476511670946704,
          1.4271429096049202,
          1.4271429096049202,
          1.3112794364478149
         ],
         "xaxis": "x",
         "y": [
          -3516.5234375,
          -3516.5234375,
          -3743.4375,
          -3743.4375
         ],
         "yaxis": "y"
        },
        {
         "hoverinfo": "text",
         "marker": {
          "color": "rgb(0,116,217)"
         },
         "mode": "lines",
         "text": [
          "2002_for_presentation_you_me",
          "",
          "",
          "pqa_item_data_oca_content"
         ],
         "type": "scatter",
         "x": [
          1.413712673271359,
          1.557976189901175,
          1.557976189901175,
          1.4271429096049202
         ],
         "xaxis": "x",
         "y": [
          -2712.188353538513,
          -2712.188353538513,
          -3629.98046875,
          -3629.98046875
         ],
         "yaxis": "y"
        },
        {
         "hoverinfo": "text",
         "marker": {
          "color": "rgb(0,116,217)"
         },
         "mode": "lines",
         "text": [
          "him_he_me_please_sent",
          "",
          "",
          "the_for_you_will_me"
         ],
         "type": "scatter",
         "x": [
          1.517469993402831,
          1.6867692594546755,
          1.6867692594546755,
          1.557976189901175
         ],
         "xaxis": "x",
         "y": [
          -1409.70703125,
          -1409.70703125,
          -3171.0844111442566,
          -3171.0844111442566
         ],
         "yaxis": "y"
        },
        {
         "hoverinfo": "text",
         "marker": {
          "color": "rgb(0,116,217)"
         },
         "mode": "lines",
         "text": [
          "avocadoit_internet_http_408_562",
          "",
          "",
          "me_you_will_the_sent"
         ],
         "type": "scatter",
         "x": [
          1.9219118795780123,
          2.2452129348442518,
          2.2452129348442518,
          1.6867692594546755
         ],
         "xaxis": "x",
         "y": [
          -499.45655822753906,
          -499.45655822753906,
          -2290.3957211971283,
          -2290.3957211971283
         ],
         "yaxis": "y"
        },
        {
         "hoverinfo": "text",
         "marker": {
          "color": "rgb(0,116,217)"
         },
         "mode": "lines",
         "text": [
          "unsub_mliang_postal_offers_33488063",
          "",
          "",
          "avocadoit_location_internet_the_you"
         ],
         "type": "scatter",
         "x": [
          1.6228238657607728,
          2.471567809107405,
          2.471567809107405,
          2.2452129348442518
         ],
         "xaxis": "x",
         "y": [
          -237.34375,
          -237.34375,
          -1394.9261397123337,
          -1394.9261397123337
         ],
         "yaxis": "y"
        },
        {
         "hoverinfo": "text",
         "marker": {
          "color": "rgb(255,65,54)"
         },
         "mode": "lines",
         "text": [
          "csco_qqq_corp_sunw_intc",
          "",
          "",
          "inc_legend_000_corp_750"
         ],
         "type": "scatter",
         "x": [
          0,
          0.18025983516391875,
          0.18025983516391875,
          0
         ],
         "xaxis": "x",
         "y": [
          -3805,
          -3805,
          -3815,
          -3815
         ],
         "yaxis": "y"
        },
        {
         "hoverinfo": "text",
         "marker": {
          "color": "rgb(255,65,54)"
         },
         "mode": "lines",
         "text": [
          "corp_qqq_cisco_csco_intc",
          "",
          "",
          "inc_corp_csco_legend_000"
         ],
         "type": "scatter",
         "x": [
          0,
          0.34982491141148997,
          0.34982491141148997,
          0.18025983516391875
         ],
         "xaxis": "x",
         "y": [
          -3795,
          -3795,
          -3810,
          -3810
         ],
         "yaxis": "y"
        },
        {
         "hoverinfo": "text",
         "marker": {
          "color": "rgb(255,65,54)"
         },
         "mode": "lines",
         "text": [
          "corp_intel_oracle_de_intc",
          "",
          "",
          "inc_corp_csco_qqq_legend"
         ],
         "type": "scatter",
         "x": [
          0,
          0.6379232193493563,
          0.6379232193493563,
          0.34982491141148997
         ],
         "xaxis": "x",
         "y": [
          -3785,
          -3785,
          -3802.5,
          -3802.5
         ],
         "yaxis": "y"
        },
        {
         "hoverinfo": "text",
         "marker": {
          "color": "rgb(35,205,205)"
         },
         "mode": "lines",
         "text": [
          "index_portfolio_change_et_ameritrade",
          "",
          "",
          "portfolio_index_change_17_01"
         ],
         "type": "scatter",
         "x": [
          0,
          0.14698197832630522,
          0.14698197832630522,
          0
         ],
         "xaxis": "x",
         "y": [
          -3825,
          -3825,
          -3835,
          -3835
         ],
         "yaxis": "y"
        },
        {
         "hoverinfo": "text",
         "marker": {
          "color": "rgb(35,205,205)"
         },
         "mode": "lines",
         "text": [
          "change_portfolio_20_bvsn_volume",
          "",
          "",
          "portfolio_change_index_000_volume"
         ],
         "type": "scatter",
         "x": [
          0,
          0.16645385925455247,
          0.16645385925455247,
          0
         ],
         "xaxis": "x",
         "y": [
          -3845,
          -3845,
          -3855,
          -3855
         ],
         "yaxis": "y"
        },
        {
         "hoverinfo": "text",
         "marker": {
          "color": "rgb(35,205,205)"
         },
         "mode": "lines",
         "text": [
          "index_portfolio_change_ameritrade_composite",
          "",
          "",
          "change_portfolio_index_20_volume"
         ],
         "type": "scatter",
         "x": [
          0.14698197832630522,
          0.2923068704269499,
          0.2923068704269499,
          0.16645385925455247
         ],
         "xaxis": "x",
         "y": [
          -3830,
          -3830,
          -3850,
          -3850
         ],
         "yaxis": "y"
        },
        {
         "hoverinfo": "text",
         "marker": {
          "color": "rgb(35,205,205)"
         },
         "mode": "lines",
         "text": [
          "portfolio_index_change_20_14",
          "",
          "",
          "03_01_exdsq_26_00"
         ],
         "type": "scatter",
         "x": [
          0.2923068704269499,
          0.7682747598919051,
          0.7682747598919051,
          0
         ],
         "xaxis": "x",
         "y": [
          -3840,
          -3840,
          -3865,
          -3865
         ],
         "yaxis": "y"
        },
        {
         "hoverinfo": "text",
         "marker": {
          "color": "rgb(0,116,217)"
         },
         "mode": "lines",
         "text": [
          "corp_inc_csco_intc_qqq",
          "",
          "",
          "portfolio_index_change_20_00"
         ],
         "type": "scatter",
         "x": [
          0.6379232193493563,
          1.3085740652567794,
          1.3085740652567794,
          0.7682747598919051
         ],
         "xaxis": "x",
         "y": [
          -3793.75,
          -3793.75,
          -3852.5,
          -3852.5
         ],
         "yaxis": "y"
        },
        {
         "hoverinfo": "text",
         "marker": {
          "color": "rgb(133,20,75)"
         },
         "mode": "lines",
         "text": [
          "ritesh_techhelp_hello_ameritrade_2001",
          "",
          "",
          "ritesh_techhelp_hello_ameritrade_2001"
         ],
         "type": "scatter",
         "x": [
          0,
          0.04147677105145653,
          0.04147677105145653,
          0
         ],
         "xaxis": "x",
         "y": [
          -3895,
          -3895,
          -3905,
          -3905
         ],
         "yaxis": "y"
        },
        {
         "hoverinfo": "text",
         "marker": {
          "color": "rgb(133,20,75)"
         },
         "mode": "lines",
         "text": [
          "ritesh_techhelp_hello_ameritrade_2002",
          "",
          "",
          "ritesh_techhelp_hello_ameritrade_2001"
         ],
         "type": "scatter",
         "x": [
          0,
          0.13823266226050276,
          0.13823266226050276,
          0.04147677105145653
         ],
         "xaxis": "x",
         "y": [
          -3885,
          -3885,
          -3900,
          -3900
         ],
         "yaxis": "y"
        },
        {
         "hoverinfo": "text",
         "marker": {
          "color": "rgb(133,20,75)"
         },
         "mode": "lines",
         "text": [
          "ritesh_techhelp_hello_ameritrade_comments",
          "",
          "",
          "ritesh_techhelp_2000_ameritrade_hello"
         ],
         "type": "scatter",
         "x": [
          0.13823266226050276,
          0.1966658186802067,
          0.1966658186802067,
          0
         ],
         "xaxis": "x",
         "y": [
          -3892.5,
          -3892.5,
          -3915,
          -3915
         ],
         "yaxis": "y"
        },
        {
         "hoverinfo": "text",
         "marker": {
          "color": "rgb(133,20,75)"
         },
         "mode": "lines",
         "text": [
          "techhelp_ameritrade_2001_comments_questions",
          "",
          "",
          "ritesh_techhelp_hello_ameritrade_comments"
         ],
         "type": "scatter",
         "x": [
          0,
          0.4312074851432187,
          0.4312074851432187,
          0.1966658186802067
         ],
         "xaxis": "x",
         "y": [
          -3875,
          -3875,
          -3903.75,
          -3903.75
         ],
         "yaxis": "y"
        },
        {
         "hoverinfo": "text",
         "marker": {
          "color": "rgb(255,220,0)"
         },
         "mode": "lines",
         "text": [
          "praveen_evening_techhelp_good_ameritrade",
          "",
          "",
          "praveen_evening_techhelp_good_ameritrade"
         ],
         "type": "scatter",
         "x": [
          0,
          0.005928603051256642,
          0.005928603051256642,
          0
         ],
         "xaxis": "x",
         "y": [
          -3945,
          -3945,
          -3955,
          -3955
         ],
         "yaxis": "y"
        },
        {
         "hoverinfo": "text",
         "marker": {
          "color": "rgb(255,220,0)"
         },
         "mode": "lines",
         "text": [
          "praveen_evening_techhelp_good_ameritrade",
          "",
          "",
          "praveen_evening_techhelp_good_ameritrade"
         ],
         "type": "scatter",
         "x": [
          0,
          0.024797134199995286,
          0.024797134199995286,
          0.005928603051256642
         ],
         "xaxis": "x",
         "y": [
          -3935,
          -3935,
          -3950,
          -3950
         ],
         "yaxis": "y"
        },
        {
         "hoverinfo": "text",
         "marker": {
          "color": "rgb(255,220,0)"
         },
         "mode": "lines",
         "text": [
          "praveen_techhelp_hello_ameritrade_2000",
          "",
          "",
          "praveen_evening_techhelp_good_ameritrade"
         ],
         "type": "scatter",
         "x": [
          0,
          0.3843769346257111,
          0.3843769346257111,
          0.024797134199995286
         ],
         "xaxis": "x",
         "y": [
          -3925,
          -3925,
          -3942.5,
          -3942.5
         ],
         "yaxis": "y"
        },
        {
         "hoverinfo": "text",
         "marker": {
          "color": "rgb(0,116,217)"
         },
         "mode": "lines",
         "text": [
          "techhelp_ritesh_ameritrade_hello_comments",
          "",
          "",
          "praveen_techhelp_evening_ameritrade_good"
         ],
         "type": "scatter",
         "x": [
          0.4312074851432187,
          1.0503373476363533,
          1.0503373476363533,
          0.3843769346257111
         ],
         "xaxis": "x",
         "y": [
          -3889.375,
          -3889.375,
          -3933.75,
          -3933.75
         ],
         "yaxis": "y"
        },
        {
         "hoverinfo": "text",
         "marker": {
          "color": "rgb(0,116,217)"
         },
         "mode": "lines",
         "text": [
          "change_corp_portfolio_index_inc",
          "",
          "",
          "techhelp_ameritrade_ritesh_hello_comments"
         ],
         "type": "scatter",
         "x": [
          1.3085740652567794,
          2.405298755372893,
          2.405298755372893,
          1.0503373476363533
         ],
         "xaxis": "x",
         "y": [
          -3823.125,
          -3823.125,
          -3911.5625,
          -3911.5625
         ],
         "yaxis": "y"
        },
        {
         "hoverinfo": "text",
         "marker": {
          "color": "rgb(0,116,217)"
         },
         "mode": "lines",
         "text": [
          "avocadoit_location_email_you_this",
          "",
          "",
          "change_ameritrade_corp_portfolio_index"
         ],
         "type": "scatter",
         "x": [
          2.471567809107405,
          2.7800046385488453,
          2.7800046385488453,
          2.405298755372893
         ],
         "xaxis": "x",
         "y": [
          -816.1349448561668,
          -816.1349448561668,
          -3867.34375,
          -3867.34375
         ],
         "yaxis": "y"
        },
        {
         "hoverinfo": "text",
         "marker": {
          "color": "rgb(0,116,217)"
         },
         "mode": "lines",
         "text": [
          "extremeprogramming_egroups_objectmentor_courtesy_ad",
          "",
          "",
          "avocadoit_location_email_you_this"
         ],
         "type": "scatter",
         "x": [
          0.9782993136277364,
          3.3255426786629836,
          3.3255426786629836,
          2.7800046385488453
         ],
         "xaxis": "x",
         "y": [
          -64.0179443359375,
          -64.0179443359375,
          -2341.7393474280834,
          -2341.7393474280834
         ],
         "yaxis": "y"
        },
        {
         "hoverinfo": "text",
         "hovertext": [
          "extremeprogramming_egroups_courtesy_post_objectmentor",
          "extremeprogramming_egroups_courtesy_objectmentor_ad",
          "extremeprogramming_egroups_courtesy_objectmentor_ad",
          "extremeprogramming_egroups_objectmentor_courtesy_ad",
          "extremeprogramming_egroups_objectmentor_courtesy_ad",
          "extremeprogramming_egroups_objectmentor_courtesy_ad",
          "panoptic_dossy_computer_network_web",
          "clicking_recurring_14715846_03063_amherst",
          "thesuperspecialsales_vaughn_36116_7956_al",
          "evalueexpress_4790_caughlin_89509_pkwy",
          "offers_78720_202885_33488063_tx",
          "offers_78720_202885_tx_33488063",
          "offers_78720_202885_tx_longer",
          "recurring_yourself_remove_unsub_postal",
          "java2d_signoff_body_listserv_include",
          "java_servlet_listserv_interest_sun",
          "yahoogroups_tm_mayan_soccer_group_jetusaba",
          "group_st3ward_personal_yahoo_svamafriends",
          "zingaris_yahoogroups_auctions_group_prices",
          "group_yahoogroups_tm_mayan_soccer_yahoo",
          "avocadoit_408_562_2211_95131",
          "avocadoit_408_562_2211_95131",
          "stcetsig_stc_34772p_rgantly_subscribed",
          "javadevelopersjournal_sys_con_mailbox_subscribed",
          "mahesh_pmguid_pmg_zp_8oe3",
          "venturewire_newsletter_digitrends_technologic_copyright",
          "thestandard_publisher_subscribe_letters_iprint",
          "venturewire_newsletter_digitrends_horoscope_technologic",
          "clickz_advertise_conferences_privacy_feedback",
          "fiercewireless_subscribe_thestandard_venturewire_publisher",
          "newsscan_subscribe_html_daily_planetrx",
          "clickz_advertise_conferences_webgain_feedback",
          "mailing_subject_line_cancel_click",
          "clickz_advertise_conferences_subscribe_webgain",
          "clickz_subscribe_advertise_conferences_subscription",
          "coffeecup_subscribed_stcetsig_currently_leave",
          "babycenter_parenting_1fc7nw_le_ce",
          "leave_coffeecup_subscribed_clickz_subscribe",
          "greeting_music_mp3_card_cards",
          "bluemountain_mountain_blue_websiterules_card",
          "leave_coffeecup_subscribed_clickz_subscribe",
          "avocadoit_408_562_2211_95131",
          "aim_interactivehq_provided_interactive_association",
          "apply_resume_jobs_interactivehq_edt",
          "resume_resumes_my_cv_hiring",
          "avocadoit_408_562_2211_95131",
          "internet_newsletters_662_203_http",
          "avocadoit_408_562_2211_95131",
          "explorer_msn_yahoogroups_group_zingaris",
          "java_servlet_listserv_interest_sun",
          "test_results_tests_testing_plan",
          "report_reports_pipeline_weekly_forecast",
          "list_features_feature_add_issues",
          "changes_update_updates_made_modifications",
          "installation_alias_install_installer_installshield",
          "roopak_emds_emas_schema_dbupdate",
          "srik_roopak_alias_install_installation",
          "bugs_bug_list_bugzilla_changes",
          "status_report_reports_weekly_pipeline",
          "test_project_plan_results_tests",
          "comments_feedback_review_please_feel",
          "review_comments_feedback_please_feel",
          "list_bugs_bug_build_srik",
          "it_did_ll_sent_tomorrow",
          "location_it_them_sent_ll",
          "them_they_nursing_info_raise",
          "mail_hour_reply_yday_pmn",
          "emails_problem_my_having_had",
          "him_he_location_sent_his",
          "him_he_sent_location_his",
          "details_info_information_me_more",
          "him_he_sent_location_it",
          "review_draft_list_comments_bugs",
          "sms_messages_messaging_mobile_text",
          "alerts_alert_instant_messages_yahoo",
          "alerts_sms_messages_instant_alert",
          "video_985_emails_delta_yahoo",
          "laptop_log_logs_laptops_dell",
          "prakash_rajeev_req_had_sent",
          "prakash_biogen_rfp_rajeev_laptop",
          "training_class_people_directions_course",
          "prakash_biogen_vss_rfp_rajeev",
          "demo_hud_requirements_follow_se",
          "prakash_training_biogen_vss_rfp",
          "wireless_information_company_sales_customers",
          "documentation_jre122_java_docs_document",
          "documentation_team_design_technical_requirements",
          "presentation_slides_presentations_slide_powerpoint",
          "presentation_slides_presentations_slide_powerpoint",
          "training_prakash_biogen_vss_password",
          "show_marilisa_pre_planning_tradeshow",
          "hp_show_marilisa_pre_sheets",
          "invite_invitation_invitations_invites_newsletter3817",
          "hp_accenture_show_marilisa_pre",
          "presentation_training_prakash_slides_biogen",
          "template_templates_art_compact_requirements",
          "gift_flooz_certificate_certificates_lfmn",
          "travel_trips_hotel_trip_hotwire",
          "gift_flooz_certificate_thank_thanks",
          "fax_contract_agreement_faxes_signed",
          "timesheet_reminder_innova_timesheets_reporting",
          "schedule_approved_approval_objectives_mrs",
          "fax_contract_invoice_agreement_faxes",
          "her_she_germana_bio_sent",
          "her_fax_contract_she_agreement",
          "2002_bursts_newsfeed_beginners_columns",
          "ctia_study_case_calea_studies",
          "ppt_shailesh_kinkos_10cfr21_jaimemcneely",
          "blackberry_pager_handheld_motorola_net",
          "channelwave_lead_leads_delay_apologize",
          "fitness_novell_7348_967_ringalsbe",
          "cd_kmt_bookpool_book_cds",
          "checkbox_gartner_wap_yes_1checkbox",
          "blackberry_pager_jess_channelwave_inferior",
          "materials_office_patrice_material_sabre",
          "materials_office_printed_print_job",
          "blackberry_checkbox_gartner_pager_jess",
          "venk_toshi_pipeline_assistant_8108",
          "blackberry_checkbox_gartner_survey_pager",
          "license_weblogic_ctia_case_study",
          "2002_bursts_newsfeed_beginners_columns",
          "pricing_price_proposal_hilton_premium",
          "scoping_pricing_estimate_quote_price",
          "2002_bursts_newsfeed_beginners_guides",
          "her_fax_contract_she_nda",
          "paypal_check_payment_cheque_checks",
          "2002_her_contract_fax_bursts",
          "confirmation_order_placed_shipped_reassure",
          "2002_her_contract_fax_bursts",
          "spreadsheet_excel_sheet_jup_column",
          "docs_groups_terms_yahoo_subject",
          "people_who_least_friends_prayer",
          "gap_women_sale_brands_jeans",
          "people_who_least_jokes_friends",
          "docs_groups_terms_cancellation_notice",
          "000_broadcast_mails_people_total",
          "2002_her_contract_fax_she",
          "help4u_wcom_questions_any_should",
          "cell_call_number_me_phone",
          "conference_call_calls_number_dial",
          "help4u_wcom_questions_helpdesk_facilities",
          "2002_her_contract_fax_she",
          "lifeminders_spotlight_archived_gift_travel",
          "presentation_hp_accenture_training_prakash",
          "press_release_releases_kits_approval",
          "2002_presentation_for_her_you",
          "alerts_sms_messages_pictures_instant",
          "meeting_calendar_request_meetings_calendars",
          "2002_presentation_for_you_me",
          "etrade_folders_public_paste_onto",
          "aml_pages_files_html_page",
          "ae_igo_battery3_timestamp_amlid",
          "visio_version_versions_lower_screens",
          "code_samples_sample_gesture_screw",
          "aml_ae_html_igo_battery3",
          "idc_japanese_translation_localization_miyuki",
          "etrade_ops_arun_request_folders",
          "item_oca_osa_data_201",
          "jsp_page_method_browser_server",
          "jsp_xml_device_browser_page",
          "smalltalk_object_method_messages_argument",
          "item_oca_osa_data_201",
          "aml_idc_logo_ae_visio",
          "pqa_palm_application_vii_test",
          "epservlet_url_opt_application_servlet",
          "pqa_palm_epservlet_emulator_url",
          "item_oca_data_osa_aml",
          "mb_attachment_size_limit_incoming",
          "virus_infected_attachment_perform_scan",
          "content_attachment_virus_encoding_base64",
          "content_attachment_virus_encoding_base64",
          "pqa_item_data_oca_osa",
          "2002_for_presentation_you_me",
          "him_he_me_please_sent",
          "avocadoit_internet_http_408_562",
          "unsub_mliang_postal_offers_33488063",
          "index_portfolio_change_ameritrade_composite",
          "portfolio_index_change_20_14",
          "corp_inc_csco_intc_qqq",
          "ritesh_techhelp_hello_ameritrade_comments",
          "techhelp_ritesh_ameritrade_hello_comments",
          "change_corp_portfolio_index_inc",
          "avocadoit_location_email_you_this",
          "extremeprogramming_egroups_objectmentor_courtesy_ad"
         ],
         "marker": {
          "color": "black"
         },
         "mode": "markers",
         "showlegend": false,
         "type": "scatter",
         "x": [
          0.1101432498119009,
          0.36564180671977675,
          0.46304780513573396,
          0.5054431345586289,
          0.6570392776227343,
          0.7775997118523343,
          0.7548561712705724,
          0.591613160801332,
          0.4841349940912779,
          0.5812770752216059,
          0.01943056674238608,
          0.2085037498215887,
          0.5306559119099798,
          0.9849138405310346,
          0.08423436711500576,
          0.5755261227648518,
          0.5662959880096962,
          0.7327322784534506,
          0.8515826408876302,
          0.92277772290583,
          0.6729054165339806,
          0.7292760863072436,
          0.9732915602389264,
          0.24506354356929172,
          0.44059364415863855,
          0.9722155687173684,
          0.9485465453039815,
          0.9971159888042763,
          0.8624553062333776,
          1.0161635038495933,
          0.8290236748431914,
          1.031404518465889,
          0.7912861737640902,
          1.1166160304595751,
          1.1729210537819206,
          1.3544615416573837,
          0.7922399073285288,
          1.3598624611505925,
          0.9023539677107985,
          0.6654120007663777,
          1.4133388915849414,
          0.9619108227030408,
          0.8598309776339281,
          0.8193618337209386,
          0.5807624005699904,
          1.6527458313885857,
          0.8737229505766584,
          1.6628800291118901,
          1.064737070569779,
          0.8039003307510147,
          0.8177087884934116,
          0.6779507050314725,
          0.878783655643351,
          0.8372419170608808,
          0.8811790550050091,
          0.8954159645445852,
          0.9838012711776795,
          1.1641493095917506,
          0.7577970629718849,
          1.2058862315671466,
          0.3748878703391124,
          0.9589134644921932,
          1.3009422820959273,
          0.521601418367102,
          0.6784365925949256,
          0.7932615182077528,
          0.7754633944860541,
          0.897655838595547,
          0.9791308127380663,
          1.1087566517932934,
          0.8270009154402637,
          1.1840326332610422,
          1.3832118628952172,
          0.644471539494116,
          0.7741542804352084,
          1.0588930398491225,
          0.8203903111943841,
          0.9012943554434946,
          0.8845917257103081,
          1.0117535764023053,
          0.8511916932229123,
          1.0391430832082813,
          0.6633768392683463,
          1.068865410836551,
          0.84234781239825,
          0.8080168025701178,
          0.9466971159834371,
          0.9558727239611783,
          1.031358952393089,
          1.1030623688893781,
          0.8026064488979437,
          0.9562146972204604,
          0.8266188412928858,
          1.1080886425335288,
          1.1416947729757148,
          0.4476631159023604,
          0.959701215361289,
          0.866067805441058,
          1.2182056969595694,
          0.9108319504476472,
          0.9244508573582118,
          0.8987031300377318,
          0.9932789567035953,
          0.9594091010057968,
          1.0239275778567092,
          0.9590899197645198,
          0.8693165464954559,
          0.9898750769619388,
          0.9810188732551718,
          0.9813881536187996,
          0.9448544165179658,
          0.9437735421836757,
          0.9336021871880815,
          1.024671512486747,
          0.9121500871515322,
          0.9559521867790006,
          1.037550489139893,
          0.9125551732005945,
          1.0416544755468953,
          1.055678276768231,
          0.9765380149030184,
          0.8931994130242085,
          0.9773381611134416,
          1.0826140514222398,
          1.062602683507969,
          0.9277480008026785,
          1.1225254108621623,
          0.6711371285104512,
          1.1338038109606927,
          0.5908340912462442,
          0.7494211882756368,
          0.9193472159094445,
          0.8670668586090783,
          1.004507361900374,
          1.0867232712467072,
          0.6500566502210771,
          1.215849268132721,
          0.9234880543053823,
          0.7612839476971329,
          0.8835096722641193,
          1.0025593815036729,
          1.2369977654420423,
          1.27332798730234,
          1.2657246497826466,
          0.6180612916121484,
          1.334145932280319,
          1.3428320749606397,
          0.7259491902478334,
          1.3941145051191226,
          0.7741199606475088,
          0.7796198302479863,
          0.8396051374640099,
          0.9159713223771633,
          0.8853166824066443,
          1.0048877728590917,
          0.9104014265216107,
          1.1203140438717296,
          0.844569439927937,
          0.8171206269811474,
          0.9231935682907851,
          0.8957409497870155,
          1.042795602410876,
          1.154864376823478,
          0.7680222510686814,
          0.9564161385480143,
          1.0697009523304826,
          1.1964583235996658,
          0.8151864243217577,
          0.8338893841312204,
          1.1321473074960922,
          1.2577587808983848,
          1.2476511670946704,
          1.413712673271359,
          1.517469993402831,
          1.9219118795780123,
          1.6228238657607728,
          0.14698197832630522,
          0.2923068704269499,
          0.6379232193493563,
          0.13823266226050276,
          0.4312074851432187,
          1.3085740652567794,
          2.471567809107405,
          0.9782993136277364
         ],
         "y": [
          -82.5,
          -67.1875,
          -69.296875,
          -102.1484375,
          -79.287109375,
          -71.07177734375,
          -10,
          -220,
          -200,
          -180,
          -260,
          -267.5,
          -260.625,
          -196.875,
          -310,
          -320,
          -380,
          -360,
          -412.5,
          -373.75,
          -462.5,
          -473.75,
          -552.5,
          -530,
          -510,
          -612.5,
          -652.5,
          -609.375,
          -690,
          -636.5625,
          -720,
          -667.03125,
          -762.5,
          -698.515625,
          -736.1328125,
          -529.0625,
          -832.5,
          -649.189453125,
          -902.5,
          -880,
          -747.7197265625,
          -464.6875,
          -1010,
          -982.5,
          -952.5,
          -643.804931640625,
          -1042.5,
          -810.0274658203125,
          -398.75,
          -332.5,
          -1112.5,
          -1160,
          -1222.5,
          -1192.5,
          -1290,
          -1270,
          -1283.75,
          -1214.375,
          -1167.5,
          -1126.25,
          -1340,
          -1350,
          -1169.53125,
          -1430,
          -1426.25,
          -1400,
          -1520,
          -1483.75,
          -1421.5625,
          -1463.59375,
          -1582.5,
          -1508.046875,
          -1267.265625,
          -1680,
          -1660,
          -1675,
          -1632.5,
          -1780,
          -1760,
          -1775,
          -1840,
          -1797.5,
          -1870,
          -1822.5,
          -1912.5,
          -1960,
          -1971.25,
          -1926.25,
          -1958.4375,
          -1851.25,
          -2060,
          -2070,
          -2122.5,
          -2085,
          -1923.359375,
          -1740,
          -2163.75,
          -2220,
          -2181.875,
          -2352.5,
          -2330,
          -2310,
          -2328.4375,
          -2282.5,
          -2320.859375,
          -2432.5,
          -2480,
          -2600,
          -2572.5,
          -2542.5,
          -2520,
          -2650,
          -2630,
          -2543.125,
          -2680,
          -2687.5,
          -2593.4375,
          -2730,
          -2646.09375,
          -2490,
          -2446.25,
          -2780,
          -2777.5,
          -2518.88671875,
          -2365.4296875,
          -2842.5,
          -2512.1240234375,
          -2890,
          -2684.18701171875,
          -2260,
          -2950,
          -3002.5,
          -3050,
          -3016.25,
          -2961.25,
          -2930,
          -2526.0467529296875,
          -3092.5,
          -3160,
          -3140,
          -3106.25,
          -2745.4452514648438,
          -2205.9375,
          -1878.18359375,
          -3190,
          -2225.0068283081055,
          -1665,
          -3222.5,
          -2188.1267070770264,
          -3270,
          -3370,
          -3350,
          -3420,
          -3400,
          -3363.75,
          -3322.5,
          -3281.25,
          -3460,
          -3520,
          -3530,
          -3500,
          -3470,
          -3318.59375,
          -3610,
          -3582.5,
          -3601.25,
          -3407.421875,
          -3700,
          -3672.5,
          -3691.25,
          -3716.875,
          -3516.5234375,
          -2712.188353538513,
          -1409.70703125,
          -499.45655822753906,
          -237.34375,
          -3830,
          -3840,
          -3793.75,
          -3892.5,
          -3889.375,
          -3823.125,
          -816.1349448561668,
          -64.0179443359375
         ]
        },
        {
         "hoverinfo": "text",
         "hovertext": [
          "extremeprogramming_egroups_courtesy_post_objectmentor",
          "extremeprogramming_egroups_courtesy_post_objectmentor",
          "extremeprogramming_egroups_courtesy_objectmentor_ad",
          "extremeprogramming_egroups_ad_courtesy_post",
          "extremeprogramming_egroups_courtesy_objectmentor_ad",
          "extremeprogramming_egroups_objectmentor_courtesy_ad",
          "extremeprogramming_egroups_objectmentor_courtesy_ad",
          "extremeprogramming_egroups_objectmentor_courtesy_ad",
          "recurring_clicking_yourself_37978415_14715846",
          "recurring_yourself_remove_mliang_unsub",
          "offers_202885_78720_tx_33488063",
          "offers_202885_78720_tx_longer",
          "servlet_java_archives_sun_listserv",
          "yahoogroups_tm_group_mayan_soccer_yahoo",
          "zingaris_yahoogroups_group_unsubscribe_zingari",
          "explorer_msn_zingaris_download_yahoogroups",
          "avocadoit_408_562_95131_2211",
          "avocadoit_408_562_2211_95131",
          "stcetsig_stc_34772p_rgantly_subscribed",
          "coffeecup_lyris_dundee_software_brew",
          "coffeecup_stcetsig_subscribed_currently_stc",
          "coffeecup_subscribed_stcetsig_currently_leave",
          "newsletter_intel_ivillage_intellor_newsletters",
          "venturewire_newsletter_digitrends_horoscope_technologic",
          "thestandard_publisher_subscribe_letters_advertising",
          "fiercewireless_thestandard_subscribe_publisher_fiercewirelesshtml",
          "clickz_advertise_conferences_webgain_privacy",
          "voice_voicegenie_speechworks_yankeegroup_nuance",
          "newsscan_voice_subscribe_html_daily",
          "cancel_mailing_subject_line_word",
          "subject_line_mailing_remove_cancel",
          "coolwinning_valoffers_special_wish_here",
          "tremendousbuys_wish_1306473_coolwinning_valoffers",
          "clickz_subscribe_advertise_conferences_subscription",
          "babycenter_parenting_1fc7nw_le_ce",
          "pregnancy_tips_baby_best_regular",
          "babycenter_tips_pregnancy_parenting_1fc7nw",
          "greeting_music_mp3_card_cards",
          "ecards_valentine_bma_msg_boundary_picked_valentines",
          "greeting_music_card_mp3_cards",
          "greeting_music_card_mp3_cards",
          "leave_coffeecup_subscribed_click_clickz",
          "resume_resumes_my_cv_hiring",
          "apply_jobs_resume_interactivehq_edt",
          "svase_org_association_valley_silicon",
          "apply_resume_interactivehq_jobs_org",
          "resume_apply_jobs_interactivehq_org",
          "internet_newsletters_662_203_http",
          "reprinting_linking_text_permissions_allnetdevices",
          "text_allnetdevices_list4_reprinting_linking",
          "allnetdevices_text_internet_list4_subscribed",
          "internet_newsletters_http_662_203",
          "avocadoit_internet_408_562_leave",
          "avocadoit_internet_408_562_http",
          "test_tests_testing_plan_results",
          "project_plan_projects_create_analysis",
          "changes_made_update_modifications_additions",
          "list_add_onward_cob_consolidation",
          "bugs_bug_bugzilla_fixes_fixed",
          "bugs_bug_list_bugzilla_features",
          "srik_installation_alias_install_installer",
          "build_wilhan_qa_builds_available",
          "build_srik_roopak_wilhan_alias",
          "bugs_bug_list_build_srik",
          "bugs_list_bug_build_srik",
          "review_document_before_reviews_reviewers",
          "draft_final_tonight_wednesday_done",
          "draft_review_comments_feedback_please",
          "location_it_sent_this_did",
          "him_he_his_sent_email",
          "him_he_location_sent_his",
          "problem_having_maybe_happend_had",
          "problem_emails_having_my_had",
          "so_mail_reply_me_if",
          "mail_emails_so_address_email",
          "document_documents_copy_paper_white",
          "copy_document_documents_soft_paper",
          "details_info_information_me_more",
          "contact_info_information_condrey_me",
          "info_details_information_contact_me",
          "him_he_sent_location_it",
          "video_985_emails_delta_yahoo",
          "sprint_camera_pictures_users_equipped",
          "sms_messages_sprint_users_mobile",
          "pictures_picture_photo_photos_pics",
          "alerts_sms_messages_pictures_instant",
          "biogen_rfp_rfi_dna_biogen_release",
          "biogen_rfp_laptop_rfi_log",
          "vss_pda_webbyphone_files_applicationsengineering",
          "training_directions_class_people_course",
          "password_webex_login_vpn_passwords",
          "password_demo_webex_login_passwords",
          "sales_biz_information_company_customers",
          "presentation_slides_presentations_slide_powerpoint",
          "technical_team_nwoods_engineers_8740",
          "design_technical_team_requirements_nwoods",
          "spec_specs_functional_application_spells",
          "documentation_spec_team_specs_design",
          "siebel_action_dbhost_neon_view_alwayson",
          "siebel_action_qa_neon_view_dbhost",
          "presentation_slides_slide_presentations_powerpoint",
          "hp_sheets_60_collateral_fact",
          "accenture_leveraged_booth_ty_ucommerce",
          "attend_event_seminar_attendees_attending",
          "invite_invitation_invitations_invites_newsletter3817",
          "hp_accenture_show_invite_marilisa",
          "presentation_hp_accenture_training_prakash",
          "gift_certificate_thank_gifts_choice",
          "gift_flooz_certificate_101509754_lfmn",
          "thanks_sending_thank_for_this",
          "lifeminders_spotlight_archived_car_specials",
          "lifeminders_spotlight_archived_travel_car",
          "her_she_germana_sent_told",
          "fax_contract_agreement_faxes_signed",
          "fax_contract_invoice_agreement_faxes",
          "fax_contract_invoice_agreement_faxes",
          "note_notes_linger_awkward_concurrency",
          "fax_contract_invoice_agreement_faxes",
          "nda_ewap_mutual_signed_ewrp",
          "2002_bursts_newsfeed_beginners_columns",
          "down_shares_earnings_percent_its",
          "license_weblogic_licenses_key_permanent",
          "channelwave_lead_leads_assessment_credit",
          "pager_motorola_pagers_pin_airmessage",
          "jess_inferior_ppt_inf_defun",
          "blackberry_jess_pager_inferior_handheld",
          "blackberry_pager_jess_channelwave_inferior",
          "cd_kmt_bookpool_book_pdf",
          "checkbox_gartner_cd_wap_yes",
          "survey_questionnaire_surveys_onyx_moments",
          "survey_questionnaire_surveys_materials_few",
          "cc_prasad_ccing_jam_cced",
          "venk_toshi_cc_prasad_pipeline",
          "blackberry_checkbox_gartner_survey_pager",
          "blackberry_checkbox_gartner_survey_pager",
          "scoping_estimate_analysis_ae_document",
          "scoping_pricing_estimate_price_proposal",
          "ip_hosting_external_internal_using",
          "scoping_pricing_ip_hosting_estimate",
          "2002_bursts_newsfeed_beginners_guides",
          "check_payment_cheque_checks_amount",
          "fedex_ups_tracking_receipt_ship",
          "fedex_paypal_check_payment_ups",
          "itinerary_flight_tickets_arrive_nov",
          "itinerary_flight_confirmation_tickets_order",
          "2002_her_contract_fax_bursts",
          "cancellation_notice_totally_cancel_refund",
          "cancellation_ideas_notice_methodology_suggestions",
          "people_who_least_friends_prayer",
          "jokes_funny_joke_smile_puns",
          "ebay_notification_managing_preferences_indicate",
          "ebay_promotions_notification_gap_women",
          "people_ebay_promotions_notification_gap",
          "people_ebay_promotions_notification_docs",
          "people_ebay_promotions_notification_docs",
          "questions_any_citszone_feel_productive",
          "facilities_helpdesk_assistance_request_requests",
          "cell_number_call_me_phone",
          "conference_call_number_cell_me",
          "help4u_call_conference_wcom_questions",
          "2002_her_contract_fax_she",
          "2002_her_contract_fax_she",
          "press_releases_release_newstips_kits",
          "2002_presentation_for_you_her",
          "meeting_request_meetings_calendar_minutes",
          "agenda_interview_detailed_out_next",
          "meeting_agenda_calendar_request_meetings",
          "ops_request_requests_op_opssupport",
          "ops_arun_request_requests_arunlekha",
          "idc_japanese_miyuki_translation_translated",
          "aml_html_pages_files_page",
          "logo_logos_eps_icons_screen",
          "logo_visio_logos_eps_version",
          "logo_visio_logos_code_samples",
          "aml_logo_ae_visio_html",
          "aml_idc_logo_ae_visio",
          "problem_issue_error_fix_errors",
          "xml_device_spy_emas_hdml",
          "parameters_variables_parm2_param1_param2",
          "jsp_xml_server_device_browser",
          "jsp_xml_method_server_device",
          "item_oca_data_osa_201",
          "url_offline_application_app_salesep",
          "emulator_pocketpc_pocket_pc_handles",
          "pqa_palm_emulator_application_vii",
          "dds_rim_rimulator_application_updated",
          "pqa_palm_dds_epservlet_application",
          "virus_infected_attachment_scan_norton",
          "content_encoding_base64_type_disposition",
          "content_encoding_base64_type_disposition",
          "file_files_kaiperm_folders_zip",
          "file_files_zip_kaiperm_persist",
          "resend_could_can_double_cud",
          "content_attachment_virus_resend_encoding",
          "pqa_item_data_oca_content",
          "the_for_you_will_me",
          "me_you_will_the_sent",
          "avocadoit_location_internet_the_you",
          "inc_corp_csco_legend_000",
          "inc_corp_csco_qqq_legend",
          "change_portfolio_index_20_volume",
          "portfolio_index_change_20_00",
          "ritesh_techhelp_hello_ameritrade_2001",
          "ritesh_techhelp_hello_ameritrade_comments",
          "praveen_evening_techhelp_good_ameritrade",
          "praveen_evening_techhelp_good_ameritrade",
          "praveen_techhelp_evening_ameritrade_good",
          "techhelp_ameritrade_ritesh_hello_comments",
          "change_ameritrade_corp_portfolio_index",
          "avocadoit_location_email_you_this"
         ],
         "marker": {
          "color": "black"
         },
         "mode": "markers",
         "showlegend": false,
         "type": "scatter",
         "x": [
          0.09068750083112476,
          0.15119570575236058,
          0.1636285835010242,
          0.31140864746101193,
          0.3793906837160533,
          0.5850686976983057,
          0.7203470919444124,
          0.7893664704213748,
          0.796444828057568,
          0.8886835637308054,
          0.37253821802537235,
          0.5672930089633758,
          0.311881078631718,
          0.7916257406199707,
          0.19111863415056007,
          0.922403919131325,
          0.4467277061528676,
          0.8872501846774542,
          0.8682883418664231,
          0.8706373782207242,
          0.9936321683092437,
          1.1807555686732196,
          0.8826131377327395,
          0.9764855774183194,
          0.9187715239070169,
          0.9630155134686309,
          0.9815722306265895,
          0.822873704069587,
          1.0852513572044713,
          0.7487384831446691,
          0.922192105014542,
          0.608761610692214,
          0.9239519380755008,
          1.2730931764397067,
          0.6775172020822409,
          0.8038194192956261,
          1.0310501994413324,
          0.7226607561970041,
          0.9696008479923248,
          0.9942539743317959,
          1.0315106748395921,
          1.4417382931017104,
          0.3709644273453876,
          0.5904068986019992,
          0.9281783819425085,
          1.051515911054435,
          1.2573343269296149,
          0.023360956416357714,
          0.3621710193060368,
          0.5719306503733967,
          0.7773875015776361,
          1.27556942991609,
          1.714866622426007,
          1.8602212745621172,
          0.43152024926191934,
          0.37448437574654925,
          0.5660475954703439,
          0.5461101713310402,
          0.7304793136243635,
          1.1012135673960897,
          0.9165982844067132,
          0.5733097010294999,
          1.0467317955499262,
          1.2274960544830233,
          1.2880934259595245,
          0.5432406049120773,
          0.17574430592250967,
          1.3330225108052085,
          0.5758410915000541,
          0.6492495729489637,
          0.8403229681123544,
          0.7829799345722619,
          0.8426325178651801,
          0.8768424171488325,
          1.0044943222108964,
          0.48886297224407604,
          0.7948981498454641,
          0.7218070139060717,
          0.5573561994421232,
          0.9320110131404983,
          1.3312736982451632,
          0.5963210266926986,
          0.8590230763276706,
          0.9972491415835611,
          0.5655951352575956,
          1.2153825133575653,
          0.9247274040911326,
          0.9846034205665942,
          0.88642972158224,
          0.9506961165279347,
          0.8714576353826352,
          1.0468390058581207,
          0.7760251491297434,
          0.8417807605103272,
          0.8851636443524663,
          0.9255200278597765,
          0.8232857283634204,
          0.9996137418870158,
          0.8787277438868167,
          0.8896434003477941,
          1.1013550801863594,
          0.8677380082811071,
          0.5968103485712346,
          0.8235415943940326,
          0.9320322627194721,
          1.1414819191651724,
          1.2014614348181856,
          0.7140407174659504,
          0.8398795305288314,
          0.4792975688002328,
          0.6082539298165175,
          1.0107420474363806,
          0.8789324094258807,
          0.8471177423836468,
          0.9420834225637618,
          0.976352972205007,
          0.8780331954615709,
          1.0147686611070068,
          0.8538854934325671,
          0.8758729379158969,
          0.9203807366318253,
          0.8724356514483821,
          0.9239749727586706,
          0.9449233417189707,
          0.9986070427616804,
          1.0091378026433107,
          1.0214711166153443,
          0.9661621054311267,
          1.00406727752096,
          0.9212592394180938,
          1.0208057351880255,
          0.9267113340422587,
          1.0111896208726425,
          1.0520042118835373,
          1.0788616198812344,
          0.9301622482804165,
          0.9705046281195111,
          0.9105184447886052,
          1.0225786082887567,
          1.088532850895423,
          0.8161165994375889,
          0.919891430063428,
          1.0034322147235146,
          0.7701195433972692,
          1.1091430789245222,
          1.2094441203794464,
          0.8980234778048778,
          0.9384752243089634,
          0.825815385471871,
          0.8862693156428625,
          0.9068667191822753,
          1.0297967794398688,
          1.121727608808602,
          1.1513873597325222,
          1.185113004533409,
          0.7335621898053626,
          0.8774799438622687,
          0.8607573623110577,
          0.9809348481232167,
          1.1844044969878205,
          1.2856238031717862,
          1.3109315774607428,
          0.8091766146018601,
          1.3573488630955508,
          0.4496996416244293,
          0.3268001411650271,
          1.288304444135843,
          0.8395177367741337,
          0.9267184010163781,
          0.7807678888253694,
          0.929337016076918,
          0.9220046516404454,
          0.9847805813502707,
          1.0455655661323917,
          1.0623250742598456,
          1.1280484857977995,
          0.6524580478053205,
          0.8066483339206014,
          0.8252723809108526,
          0.9632822462578471,
          1.0134391719885947,
          1.0852035238653355,
          0.6877762303521316,
          0.8482079613829816,
          0.9436964085933289,
          0.6417730440723488,
          1.1802330374510814,
          0.6739603503014042,
          0.8952481125425289,
          1.0388970014213805,
          0.5093527858688001,
          0.7118092948707915,
          0.3023576321042052,
          1.3112794364478149,
          1.4271429096049202,
          1.557976189901175,
          1.6867692594546755,
          2.2452129348442518,
          0.18025983516391875,
          0.34982491141148997,
          0.16645385925455247,
          0.7682747598919051,
          0.04147677105145653,
          0.1966658186802067,
          0.005928603051256642,
          0.024797134199995286,
          0.3843769346257111,
          1.0503373476363533,
          2.405298755372893,
          2.7800046385488453
         ],
         "y": [
          -90,
          -93.75,
          -79.375,
          -120,
          -93.59375,
          -123.57421875,
          -117.1435546875,
          -118.035888671875,
          -227.5,
          -213.75,
          -276.25,
          -277.8125,
          -330,
          -387.5,
          -420,
          -423.75,
          -470,
          -484.375,
          -560,
          -580,
          -566.25,
          -548.125,
          -620,
          -623.75,
          -660,
          -663.75,
          -697.5,
          -740,
          -730,
          -770,
          -773.75,
          -810,
          -802.5,
          -769.31640625,
          -840,
          -860,
          -846.25,
          -910,
          -930,
          -916.25,
          -898.125,
          -822.92236328125,
          -960,
          -990,
          -1017.5,
          -1000,
          -976.25,
          -1050,
          -1090,
          -1082.5,
          -1073.75,
          -1058.125,
          -934.0762329101562,
          -666.4131164550781,
          -1120,
          -1140,
          -1200,
          -1230,
          -1250,
          -1236.25,
          -1297.5,
          -1320,
          -1301.875,
          -1258.125,
          -1212.8125,
          -1360,
          -1380,
          -1365,
          -1437.5,
          -1460,
          -1443.125,
          -1500,
          -1492.5,
          -1527.5,
          -1505.625,
          -1560,
          -1552.5,
          -1590,
          -1610,
          -1596.25,
          -1552.1484375,
          -1640,
          -1700,
          -1690,
          -1720,
          -1697.5,
          -1800,
          -1790,
          -1820,
          -1847.5,
          -1890,
          -1880,
          -1920,
          -1940,
          -1990,
          -1982.5,
          -2010,
          -1990.625,
          -2040,
          -2032.5,
          -1995.46875,
          -2080,
          -2100,
          -2130,
          -2133.75,
          -2109.375,
          -2016.3671875,
          -2180,
          -2172.5,
          -2200,
          -2240,
          -2230,
          -2290,
          -2360,
          -2363.75,
          -2346.875,
          -2390,
          -2359.21875,
          -2410,
          -2440,
          -2460,
          -2500,
          -2550,
          -2580,
          -2607.5,
          -2590,
          -2566.25,
          -2657.5,
          -2643.75,
          -2710,
          -2698.75,
          -2750,
          -2740,
          -2693.046875,
          -2591.5234375,
          -2800,
          -2790,
          -2820,
          -2798.75,
          -2658.818359375,
          -2850,
          -2870,
          -2856.25,
          -2910,
          -2900,
          -2792.093505859375,
          -2980,
          -2972.5,
          -3010,
          -3030,
          -3070,
          -3060,
          -3038.125,
          -2999.6875,
          -2964.84375,
          -3100,
          -3120,
          -3167.5,
          -3153.75,
          -3130,
          -2937.722625732422,
          -2571.830062866211,
          -3197.5,
          -2711.2534141540527,
          -3230,
          -3250,
          -3236.25,
          -3300,
          -3292.5,
          -3330,
          -3377.5,
          -3440,
          -3430,
          -3415,
          -3389.375,
          -3355.9375,
          -3480,
          -3540,
          -3560,
          -3545,
          -3522.5,
          -3496.25,
          -3590,
          -3630,
          -3620,
          -3650,
          -3625.625,
          -3680,
          -3720,
          -3710,
          -3750,
          -3742.5,
          -3770,
          -3743.4375,
          -3629.98046875,
          -3171.0844111442566,
          -2290.3957211971283,
          -1394.9261397123337,
          -3810,
          -3802.5,
          -3850,
          -3852.5,
          -3900,
          -3903.75,
          -3950,
          -3942.5,
          -3933.75,
          -3911.5625,
          -3867.34375,
          -2341.7393474280834
         ]
        }
       ],
       "layout": {
        "autosize": false,
        "height": 6140,
        "hoverlabel": {
         "bgcolor": "white",
         "font": {
          "family": "Rockwell",
          "size": 16
         }
        },
        "hovermode": "closest",
        "plot_bgcolor": "#ECEFF1",
        "showlegend": false,
        "template": {
         "data": {
          "bar": [
           {
            "error_x": {
             "color": "#2a3f5f"
            },
            "error_y": {
             "color": "#2a3f5f"
            },
            "marker": {
             "line": {
              "color": "white",
              "width": 0.5
             },
             "pattern": {
              "fillmode": "overlay",
              "size": 10,
              "solidity": 0.2
             }
            },
            "type": "bar"
           }
          ],
          "barpolar": [
           {
            "marker": {
             "line": {
              "color": "white",
              "width": 0.5
             },
             "pattern": {
              "fillmode": "overlay",
              "size": 10,
              "solidity": 0.2
             }
            },
            "type": "barpolar"
           }
          ],
          "carpet": [
           {
            "aaxis": {
             "endlinecolor": "#2a3f5f",
             "gridcolor": "#C8D4E3",
             "linecolor": "#C8D4E3",
             "minorgridcolor": "#C8D4E3",
             "startlinecolor": "#2a3f5f"
            },
            "baxis": {
             "endlinecolor": "#2a3f5f",
             "gridcolor": "#C8D4E3",
             "linecolor": "#C8D4E3",
             "minorgridcolor": "#C8D4E3",
             "startlinecolor": "#2a3f5f"
            },
            "type": "carpet"
           }
          ],
          "choropleth": [
           {
            "colorbar": {
             "outlinewidth": 0,
             "ticks": ""
            },
            "type": "choropleth"
           }
          ],
          "contour": [
           {
            "colorbar": {
             "outlinewidth": 0,
             "ticks": ""
            },
            "colorscale": [
             [
              0,
              "#0d0887"
             ],
             [
              0.1111111111111111,
              "#46039f"
             ],
             [
              0.2222222222222222,
              "#7201a8"
             ],
             [
              0.3333333333333333,
              "#9c179e"
             ],
             [
              0.4444444444444444,
              "#bd3786"
             ],
             [
              0.5555555555555556,
              "#d8576b"
             ],
             [
              0.6666666666666666,
              "#ed7953"
             ],
             [
              0.7777777777777778,
              "#fb9f3a"
             ],
             [
              0.8888888888888888,
              "#fdca26"
             ],
             [
              1,
              "#f0f921"
             ]
            ],
            "type": "contour"
           }
          ],
          "contourcarpet": [
           {
            "colorbar": {
             "outlinewidth": 0,
             "ticks": ""
            },
            "type": "contourcarpet"
           }
          ],
          "heatmap": [
           {
            "colorbar": {
             "outlinewidth": 0,
             "ticks": ""
            },
            "colorscale": [
             [
              0,
              "#0d0887"
             ],
             [
              0.1111111111111111,
              "#46039f"
             ],
             [
              0.2222222222222222,
              "#7201a8"
             ],
             [
              0.3333333333333333,
              "#9c179e"
             ],
             [
              0.4444444444444444,
              "#bd3786"
             ],
             [
              0.5555555555555556,
              "#d8576b"
             ],
             [
              0.6666666666666666,
              "#ed7953"
             ],
             [
              0.7777777777777778,
              "#fb9f3a"
             ],
             [
              0.8888888888888888,
              "#fdca26"
             ],
             [
              1,
              "#f0f921"
             ]
            ],
            "type": "heatmap"
           }
          ],
          "heatmapgl": [
           {
            "colorbar": {
             "outlinewidth": 0,
             "ticks": ""
            },
            "colorscale": [
             [
              0,
              "#0d0887"
             ],
             [
              0.1111111111111111,
              "#46039f"
             ],
             [
              0.2222222222222222,
              "#7201a8"
             ],
             [
              0.3333333333333333,
              "#9c179e"
             ],
             [
              0.4444444444444444,
              "#bd3786"
             ],
             [
              0.5555555555555556,
              "#d8576b"
             ],
             [
              0.6666666666666666,
              "#ed7953"
             ],
             [
              0.7777777777777778,
              "#fb9f3a"
             ],
             [
              0.8888888888888888,
              "#fdca26"
             ],
             [
              1,
              "#f0f921"
             ]
            ],
            "type": "heatmapgl"
           }
          ],
          "histogram": [
           {
            "marker": {
             "pattern": {
              "fillmode": "overlay",
              "size": 10,
              "solidity": 0.2
             }
            },
            "type": "histogram"
           }
          ],
          "histogram2d": [
           {
            "colorbar": {
             "outlinewidth": 0,
             "ticks": ""
            },
            "colorscale": [
             [
              0,
              "#0d0887"
             ],
             [
              0.1111111111111111,
              "#46039f"
             ],
             [
              0.2222222222222222,
              "#7201a8"
             ],
             [
              0.3333333333333333,
              "#9c179e"
             ],
             [
              0.4444444444444444,
              "#bd3786"
             ],
             [
              0.5555555555555556,
              "#d8576b"
             ],
             [
              0.6666666666666666,
              "#ed7953"
             ],
             [
              0.7777777777777778,
              "#fb9f3a"
             ],
             [
              0.8888888888888888,
              "#fdca26"
             ],
             [
              1,
              "#f0f921"
             ]
            ],
            "type": "histogram2d"
           }
          ],
          "histogram2dcontour": [
           {
            "colorbar": {
             "outlinewidth": 0,
             "ticks": ""
            },
            "colorscale": [
             [
              0,
              "#0d0887"
             ],
             [
              0.1111111111111111,
              "#46039f"
             ],
             [
              0.2222222222222222,
              "#7201a8"
             ],
             [
              0.3333333333333333,
              "#9c179e"
             ],
             [
              0.4444444444444444,
              "#bd3786"
             ],
             [
              0.5555555555555556,
              "#d8576b"
             ],
             [
              0.6666666666666666,
              "#ed7953"
             ],
             [
              0.7777777777777778,
              "#fb9f3a"
             ],
             [
              0.8888888888888888,
              "#fdca26"
             ],
             [
              1,
              "#f0f921"
             ]
            ],
            "type": "histogram2dcontour"
           }
          ],
          "mesh3d": [
           {
            "colorbar": {
             "outlinewidth": 0,
             "ticks": ""
            },
            "type": "mesh3d"
           }
          ],
          "parcoords": [
           {
            "line": {
             "colorbar": {
              "outlinewidth": 0,
              "ticks": ""
             }
            },
            "type": "parcoords"
           }
          ],
          "pie": [
           {
            "automargin": true,
            "type": "pie"
           }
          ],
          "scatter": [
           {
            "fillpattern": {
             "fillmode": "overlay",
             "size": 10,
             "solidity": 0.2
            },
            "type": "scatter"
           }
          ],
          "scatter3d": [
           {
            "line": {
             "colorbar": {
              "outlinewidth": 0,
              "ticks": ""
             }
            },
            "marker": {
             "colorbar": {
              "outlinewidth": 0,
              "ticks": ""
             }
            },
            "type": "scatter3d"
           }
          ],
          "scattercarpet": [
           {
            "marker": {
             "colorbar": {
              "outlinewidth": 0,
              "ticks": ""
             }
            },
            "type": "scattercarpet"
           }
          ],
          "scattergeo": [
           {
            "marker": {
             "colorbar": {
              "outlinewidth": 0,
              "ticks": ""
             }
            },
            "type": "scattergeo"
           }
          ],
          "scattergl": [
           {
            "marker": {
             "colorbar": {
              "outlinewidth": 0,
              "ticks": ""
             }
            },
            "type": "scattergl"
           }
          ],
          "scattermapbox": [
           {
            "marker": {
             "colorbar": {
              "outlinewidth": 0,
              "ticks": ""
             }
            },
            "type": "scattermapbox"
           }
          ],
          "scatterpolar": [
           {
            "marker": {
             "colorbar": {
              "outlinewidth": 0,
              "ticks": ""
             }
            },
            "type": "scatterpolar"
           }
          ],
          "scatterpolargl": [
           {
            "marker": {
             "colorbar": {
              "outlinewidth": 0,
              "ticks": ""
             }
            },
            "type": "scatterpolargl"
           }
          ],
          "scatterternary": [
           {
            "marker": {
             "colorbar": {
              "outlinewidth": 0,
              "ticks": ""
             }
            },
            "type": "scatterternary"
           }
          ],
          "surface": [
           {
            "colorbar": {
             "outlinewidth": 0,
             "ticks": ""
            },
            "colorscale": [
             [
              0,
              "#0d0887"
             ],
             [
              0.1111111111111111,
              "#46039f"
             ],
             [
              0.2222222222222222,
              "#7201a8"
             ],
             [
              0.3333333333333333,
              "#9c179e"
             ],
             [
              0.4444444444444444,
              "#bd3786"
             ],
             [
              0.5555555555555556,
              "#d8576b"
             ],
             [
              0.6666666666666666,
              "#ed7953"
             ],
             [
              0.7777777777777778,
              "#fb9f3a"
             ],
             [
              0.8888888888888888,
              "#fdca26"
             ],
             [
              1,
              "#f0f921"
             ]
            ],
            "type": "surface"
           }
          ],
          "table": [
           {
            "cells": {
             "fill": {
              "color": "#EBF0F8"
             },
             "line": {
              "color": "white"
             }
            },
            "header": {
             "fill": {
              "color": "#C8D4E3"
             },
             "line": {
              "color": "white"
             }
            },
            "type": "table"
           }
          ]
         },
         "layout": {
          "annotationdefaults": {
           "arrowcolor": "#2a3f5f",
           "arrowhead": 0,
           "arrowwidth": 1
          },
          "autotypenumbers": "strict",
          "coloraxis": {
           "colorbar": {
            "outlinewidth": 0,
            "ticks": ""
           }
          },
          "colorscale": {
           "diverging": [
            [
             0,
             "#8e0152"
            ],
            [
             0.1,
             "#c51b7d"
            ],
            [
             0.2,
             "#de77ae"
            ],
            [
             0.3,
             "#f1b6da"
            ],
            [
             0.4,
             "#fde0ef"
            ],
            [
             0.5,
             "#f7f7f7"
            ],
            [
             0.6,
             "#e6f5d0"
            ],
            [
             0.7,
             "#b8e186"
            ],
            [
             0.8,
             "#7fbc41"
            ],
            [
             0.9,
             "#4d9221"
            ],
            [
             1,
             "#276419"
            ]
           ],
           "sequential": [
            [
             0,
             "#0d0887"
            ],
            [
             0.1111111111111111,
             "#46039f"
            ],
            [
             0.2222222222222222,
             "#7201a8"
            ],
            [
             0.3333333333333333,
             "#9c179e"
            ],
            [
             0.4444444444444444,
             "#bd3786"
            ],
            [
             0.5555555555555556,
             "#d8576b"
            ],
            [
             0.6666666666666666,
             "#ed7953"
            ],
            [
             0.7777777777777778,
             "#fb9f3a"
            ],
            [
             0.8888888888888888,
             "#fdca26"
            ],
            [
             1,
             "#f0f921"
            ]
           ],
           "sequentialminus": [
            [
             0,
             "#0d0887"
            ],
            [
             0.1111111111111111,
             "#46039f"
            ],
            [
             0.2222222222222222,
             "#7201a8"
            ],
            [
             0.3333333333333333,
             "#9c179e"
            ],
            [
             0.4444444444444444,
             "#bd3786"
            ],
            [
             0.5555555555555556,
             "#d8576b"
            ],
            [
             0.6666666666666666,
             "#ed7953"
            ],
            [
             0.7777777777777778,
             "#fb9f3a"
            ],
            [
             0.8888888888888888,
             "#fdca26"
            ],
            [
             1,
             "#f0f921"
            ]
           ]
          },
          "colorway": [
           "#636efa",
           "#EF553B",
           "#00cc96",
           "#ab63fa",
           "#FFA15A",
           "#19d3f3",
           "#FF6692",
           "#B6E880",
           "#FF97FF",
           "#FECB52"
          ],
          "font": {
           "color": "#2a3f5f"
          },
          "geo": {
           "bgcolor": "white",
           "lakecolor": "white",
           "landcolor": "white",
           "showlakes": true,
           "showland": true,
           "subunitcolor": "#C8D4E3"
          },
          "hoverlabel": {
           "align": "left"
          },
          "hovermode": "closest",
          "mapbox": {
           "style": "light"
          },
          "paper_bgcolor": "white",
          "plot_bgcolor": "white",
          "polar": {
           "angularaxis": {
            "gridcolor": "#EBF0F8",
            "linecolor": "#EBF0F8",
            "ticks": ""
           },
           "bgcolor": "white",
           "radialaxis": {
            "gridcolor": "#EBF0F8",
            "linecolor": "#EBF0F8",
            "ticks": ""
           }
          },
          "scene": {
           "xaxis": {
            "backgroundcolor": "white",
            "gridcolor": "#DFE8F3",
            "gridwidth": 2,
            "linecolor": "#EBF0F8",
            "showbackground": true,
            "ticks": "",
            "zerolinecolor": "#EBF0F8"
           },
           "yaxis": {
            "backgroundcolor": "white",
            "gridcolor": "#DFE8F3",
            "gridwidth": 2,
            "linecolor": "#EBF0F8",
            "showbackground": true,
            "ticks": "",
            "zerolinecolor": "#EBF0F8"
           },
           "zaxis": {
            "backgroundcolor": "white",
            "gridcolor": "#DFE8F3",
            "gridwidth": 2,
            "linecolor": "#EBF0F8",
            "showbackground": true,
            "ticks": "",
            "zerolinecolor": "#EBF0F8"
           }
          },
          "shapedefaults": {
           "line": {
            "color": "#2a3f5f"
           }
          },
          "ternary": {
           "aaxis": {
            "gridcolor": "#DFE8F3",
            "linecolor": "#A2B1C6",
            "ticks": ""
           },
           "baxis": {
            "gridcolor": "#DFE8F3",
            "linecolor": "#A2B1C6",
            "ticks": ""
           },
           "bgcolor": "white",
           "caxis": {
            "gridcolor": "#DFE8F3",
            "linecolor": "#A2B1C6",
            "ticks": ""
           }
          },
          "title": {
           "x": 0.05
          },
          "xaxis": {
           "automargin": true,
           "gridcolor": "#EBF0F8",
           "linecolor": "#EBF0F8",
           "ticks": "",
           "title": {
            "standoff": 15
           },
           "zerolinecolor": "#EBF0F8",
           "zerolinewidth": 2
          },
          "yaxis": {
           "automargin": true,
           "gridcolor": "#EBF0F8",
           "linecolor": "#EBF0F8",
           "ticks": "",
           "title": {
            "standoff": 15
           },
           "zerolinecolor": "#EBF0F8",
           "zerolinewidth": 2
          }
         }
        },
        "title": {
         "font": {
          "color": "Black",
          "size": 22
         },
         "text": "<b>Hierarchical Clustering</b>",
         "x": 0.5,
         "xanchor": "center",
         "yanchor": "top"
        },
        "width": 1000,
        "xaxis": {
         "mirror": "allticks",
         "rangemode": "tozero",
         "showgrid": false,
         "showline": true,
         "showticklabels": true,
         "ticks": "outside",
         "type": "linear",
         "zeroline": false
        },
        "yaxis": {
         "mirror": "allticks",
         "range": [
          -3960,
          0
         ],
         "rangemode": "tozero",
         "showgrid": false,
         "showline": true,
         "showticklabels": true,
         "tickmode": "array",
         "ticks": "outside",
         "ticktext": [
          "37_panoptic_dossy_computer",
          "359_ontosys_programming_ron...",
          "290_253d_berkeley_extremepr...",
          "281_jim_extremeprogramming_...",
          "147_extremeprogramming_egro...",
          "295_extremeprogramming_egro...",
          "60_extremeprogramming_egrou...",
          "22_extremeprogramming_egrou...",
          "7_extremeprogramming_egroup...",
          "253_extremeprogramming_egro...",
          "257_extremeprogramming_egro...",
          "69_extremeprogramming_egrou...",
          "77_extremeprogramming_egrou...",
          "24_xprogramming_objectmento...",
          "201_tests_unit_extremeprogr...",
          "70_xp_extremeprogramming_eg...",
          "382_kent_extremeprogramming...",
          "328_caughlin_89509_4790",
          "357_evalueexpress_recurring...",
          "72_vaughn_36116_thesuperspe...",
          "259_thesuperspecialsales_re...",
          "127_dealseveryday_14715846_...",
          "164_dealdelivery_37978415_c...",
          "317_yourwebspecials_85255_8...",
          "344_ms83_98526982_202885",
          "168_offers_78720_202885",
          "15_offers_78720_202885",
          "75_c0olmail_202885_78720",
          "356_mail212_c0olmail_78720",
          "251_greatest_specials_pulsetv",
          "210_java2d_signoff_body",
          "85_java2d_signoff_body",
          "100_signoff_body_interest",
          "29_servlet_archives_java",
          "260_jdj_buyer_db2",
          "322_group_rmallik_calling",
          "227_st3ward_group_personal",
          "175_mayan_soccer_yahoogroup...",
          "81_yahoogroups_tm_jetusaba",
          "336_2navlb_tm_mobile",
          "338_auctions_prices_buy",
          "313_zingaris_yahoogroups_gr...",
          "223_zingaris_yahoogroups_gr...",
          "63_explorer_msn_download",
          "178_8030_piyer_founder",
          "216_instructor_8744_857",
          "0_avocadoit_408_562",
          "107_wirelessly_8059_1052",
          "368_unplugged_8000_newsworthy",
          "255_era_8039_strategic",
          "366_mahesh_pmguid_pmg",
          "330_pmguid_pmg_16wor",
          "199_javadevelopersjournal_s...",
          "157_javadevelopersjournal_s...",
          "309_cabot_isw_isw138ts",
          "231_topica_murthy_subscribed",
          "68_stcetsig_stc_34772p",
          "87_coffeecup_dundee_software",
          "348_fuseletter_earth_efuse",
          "284_iw_ieletters_opinions",
          "169_venturewire_digitrends_...",
          "49_newsletter_ivillage_news...",
          "272_intel_intellor_program_...",
          "374_horoscope_romance_excite",
          "329_iprint_mailings_forwarded",
          "213_internetwire_command_su...",
          "118_thestandard_publisher_l...",
          "80_fiercewireless_fiercewir...",
          "381_htm_rsilverton_webeditor",
          "12_clickz_advertise_confere...",
          "124_webgain_thecounter_subm...",
          "270_newsscan_subscribe_html",
          "367_planetrx_590_770",
          "117_voice_voicegenie_speech...",
          "332_left_voicemail_voice",
          "41_td_rro_uptilt",
          "160_cancel_microsoft_mailing",
          "122_removed_remove_removal",
          "363_macromedia_classes_remove",
          "181_tremendousbuys_1306473_...",
          "335_coolwinning_wish_special",
          "345_valoffers_special_wish",
          "376_babycenter_tips_giants",
          "174_parenting_tips_dilemma",
          "136_babycenter_newsletter_p...",
          "267_pregnancy_tips_best",
          "347_baby_regular_track",
          "350_mountain_bluemountain_b...",
          "354_bluemountain_greeting_c...",
          "304_greetings_holiday_online",
          "23_music_greeting_mp3",
          "32_card_cards_greeting",
          "353_bma_msg_boundary_picked...",
          "323_valentine_ecards_valent...",
          "355_resume_his_bennett",
          "40_resume_resumes_my",
          "186_resume_resumes_position",
          "393_mnc_cover_auspices",
          "99_apply_resume_how",
          "88_jobs_interactivehq_apply",
          "387_aim_association_interac...",
          "315_interactivehq_org_lists",
          "252_svase_valley_silicon",
          "222_ipw_alert_list4",
          "165_internet_newsletters_662",
          "171_internet_662_newsletters",
          "242_allnetdevices_list3_int...",
          "246_allnetdevices_corporati...",
          "230_allnetdevices_reprintin...",
          "379_cyberatlas_reprinting_l...",
          "218_results_test_ou",
          "139_test_tests_results",
          "46_test_tests_testing",
          "74_project_plan_analysis",
          "206_project_plan_projects",
          "167_report_pipeline_forecast",
          "261_reports_report_30am",
          "83_status_reports_report",
          "93_update_updates_progress",
          "79_changes_update_hyperras",
          "67_changes_made_modifications",
          "111_features_feature_release",
          "27_list_add_onward",
          "212_list_partys_xmas",
          "33_bugs_bug_fixes",
          "339_bugzilla_bug_whn",
          "192_roopak_schema_dbupdate",
          "249_emds_emas_guide",
          "277_alias_aliases_processes",
          "96_installation_install_ins...",
          "98_srik_srikant_ritesh",
          "151_build_builds_5_alerts",
          "250_wilhan_build_qa",
          "115_comments_feedback_incor...",
          "11_comments_feedback_review",
          "59_review_document_before",
          "292_review_saroya_revieweing",
          "104_draft_final_deck",
          "190_draft_thru_erin",
          "297_nursing_interesting_ahead",
          "202_them_info_they",
          "14_them_these_those",
          "5_person_what_sent",
          "3_it_did_tomorrow",
          "1_location_sent_west",
          "16_emails_email_sent",
          "2_him_he_his",
          "358_aol_msierra_noemigp",
          "221_realized_emails_faux",
          "119_problem_having_sendmail",
          "208_had_mistake_novell",
          "285_bhagavan_decoded_chaita...",
          "114_mail_yday_pmn",
          "188_so_if_sendmxsmg",
          "39_copy_soft_copies",
          "44_document_copy_documents",
          "82_document_documents_confl...",
          "264_transpired_avail_amli",
          "20_details_info_information",
          "391_conatct_info_eod",
          "158_contact_info_cparente",
          "209_contact_info_condrey",
          "383_video_bandwidth_vcr",
          "248_video_delta_mro",
          "301_video_985_emails",
          "56_alerts_alert_devices",
          "125_instant_alerts_yahoo",
          "182_million_messages_cent",
          "42_sms_messages_messaging",
          "256_camera_pictures_users",
          "236_sprint_pcs_intercept",
          "28_pictures_picture_photos",
          "193_pics_photo_picture",
          "245_template_templates_requ...",
          "204_template_templates_art",
          "34_prakash_rajeev_req",
          "215_rajeev_rajdeep_sreekanth",
          "134_laptop_laptops_dell",
          "144_log_logs_files",
          "51_biogen_dna_biogen_release",
          "108_rfp_rfi_boeing",
          "326_pda_carry_vcalendar",
          "106_vss_webbyphone_files",
          "311_class_classpath_file",
          "17_training_class_people",
          "294_directions_pky_yestreday",
          "143_demo_url_demos",
          "390_demo_hud_follow",
          "170_webex_participants_pass...",
          "64_password_login_vpn",
          "94_wireless_essential_appli...",
          "21_biz_sales_company",
          "53_commerceworld_customers_...",
          "4_presentation_slides_prese...",
          "76_sun_tear_regional",
          "197_jre122_java_documentation",
          "84_documentation_docs_docum...",
          "180_design_requirements_stu...",
          "183_team_nike_roster",
          "89_technical_nwoods_engineers",
          "121_application_spells_issues",
          "163_spec_specs_functional",
          "394_qa_test_plan",
          "303_action_aug_sachs",
          "220_siebel_dbhost_neon_view",
          "372_marilisa_tightly_lung",
          "172_show_pre_marilisa",
          "289_collateral_yesturday_srs",
          "31_hp_sheets_60",
          "384_accenture_leveraged_booth",
          "36_accenture_qwest_they",
          "19_invite_invitation_invita...",
          "66_attend_event_attendees",
          "254_seminar_registration_dy...",
          "287_lunch_dinner_noon",
          "286_certificates_verisign_c...",
          "146_flooz_gift_lfmn",
          "184_gift_certificate_choice",
          "214_thank_gift_snd",
          "116_thanks_sending_thank",
          "224_thanks_sending_amit",
          "112_hotel_reservations_bloor",
          "152_trips_trip_travel",
          "110_spotlight_lifeminders_a...",
          "276_lifeminders_entertainme...",
          "226_excel_sheet_msproject",
          "65_spreadsheet_excel_sheet",
          "312_bio_973_photo",
          "8_her_she_told",
          "145_germana_aec_cobra",
          "320_approval_mrs_approved",
          "128_schedule_objectives_sch...",
          "161_timesheet_innova_timesh...",
          "154_reminder_launch_delinea...",
          "97_forms_form_irs",
          "6_contract_agreement_signed",
          "13_fax_faxes_number",
          "54_invoice_invoices_march",
          "229_note_notes_concurrency",
          "279_notes_linger_dialled",
          "333_ewap_ewrp_signed",
          "52_nda_mutual_signed",
          "392_loan_financials_finance",
          "156_expense_expenses_month",
          "25_2002_bursts_newsfeed",
          "237_down_shares_earnings",
          "321_att_acquisition_program",
          "310_ctia_calea_attached",
          "395_study_case_cases",
          "293_weblogic_pools_jndi",
          "159_license_licenses_key",
          "324_fitness_7348_967",
          "282_registration_parking_dr...",
          "280_delay_apologize_apologies",
          "173_channelwave_streaming_prm",
          "232_lead_leads_assessment",
          "133_blackberry_handheld_net",
          "113_pager_pagers_pin",
          "380_motorola_pk_mou",
          "378_shailesh_jeode_jaimemcn...",
          "263_ppt_kinkos_10cfr21",
          "369_jess_inferior_inf",
          "150_checkbox_gartner_yes",
          "298_wap_toolkit_push",
          "103_cd_kmt_cds",
          "334_bookpool_book_books",
          "327_pdf_pdfs_electronic",
          "265_office_patrice_sabre",
          "316_materials_material_mobi...",
          "373_printed_print_job",
          "91_survey_surveys_onyx",
          "371_questionnaire_questionn...",
          "247_toshi_pipeline_assistant",
          "176_venk_signature_asked",
          "273_prasad_jam_robinsingh",
          "179_cc_ccing_cced",
          "291_quote_tapes_natubhai",
          "86_pricing_price_hilton",
          "217_proposal_proposals_plan",
          "305_estimate_estimates_idct...",
          "61_scoping_analysis_ae",
          "306_hosting_deal_virtual",
          "268_ip_external_internal",
          "203_paypal_money_account",
          "205_payment_credit_pay",
          "35_check_cheque_checks",
          "45_fedex_ups_tracking",
          "388_receipt_return_duty",
          "343_order_confirmation_placed",
          "365_confirmation_confirmati...",
          "351_flight_comair_tickets",
          "130_itinerary_flight_tickets",
          "296_000_mails_million",
          "238_broadcast_000_programs",
          "101_groups_terms_docs",
          "189_docs_doc_tnwtc",
          "266_ideas_methodology_sugge...",
          "364_notice_notices_30day",
          "300_cancellation_totally_ca...",
          "361_remember_yours_back",
          "18_people_who_friends",
          "375_likely_respond_least",
          "195_jokes_funny_joke",
          "239_response_todya_inadvert...",
          "360_women_phenomenal_hugs",
          "325_gap_sale_brands",
          "243_ebay_preferences_indicate",
          "141_managing_trade_notifica...",
          "196_help4u_wcom_questions",
          "194_questions_any_citszone",
          "346_questions_productive_busy",
          "102_helpdesk_assistance_sup...",
          "269_facilities_concerns_x8042",
          "385_enter_dial_press",
          "120_conference_call_number",
          "73_call_touch_me",
          "105_cell_number_phone",
          "389_font_number_hook",
          "342_kits_press_kit",
          "78_press_release_releases",
          "307_newstips_releases_interex",
          "235_calendar_calendars_meet...",
          "131_meeting_calendar_dates",
          "43_meeting_request_meetings",
          "200_agenda_interview_sprang",
          "191_agenda_mpp98_explaning",
          "340_folders_public_paste",
          "352_etrade_boxes_10mbit",
          "244_arun_arunlekha_ops",
          "140_ops_request_opssupport",
          "308_requests_refrain_demand...",
          "135_translation_localizatio...",
          "240_japanese_miyuki_transla...",
          "57_idc_diva_blocker",
          "142_ae_aes_apache",
          "219_igo_battery3_ae",
          "26_aml_files_pages",
          "137_html_pages_htmlhost",
          "241_text_img_known",
          "341_samples_sample_evaluation",
          "126_code_sample_gesture",
          "225_visio_lower_screens",
          "228_version_versions_discard",
          "47_logo_logos_eps",
          "331_icons_screen_screens",
          "370_data_datacards_afterwards",
          "10_item_oca_osa",
          "48_problem_error_issue",
          "233_fix_patch_problem",
          "288_qm_quota_mean",
          "271_smalltalk_object_method",
          "30_jsp_method_page",
          "90_htmlhost_server_cache",
          "138_device_header_deviceid",
          "71_xml_spy_emas",
          "148_parameters_utilization_...",
          "349_parameters_variables_pa...",
          "166_epservlet_opt_servlet",
          "302_url_offline_application",
          "185_url_salesep_urls",
          "9_pqa_application_test",
          "38_palm_vii_emulator",
          "278_emulator_gateway_epoffl...",
          "319_pocketpc_pocket_pc",
          "155_rim_dds_rimulator",
          "177_dds_final_doable",
          "362_digest_xp_disconnect",
          "234_virus_norton_attachment",
          "187_virus_itself_infected",
          "123_mb_size_attachment",
          "386_attachment_marrige_ment",
          "162_content_base64_disposit...",
          "92_personals_jul_mimeole",
          "149_zip_files_file",
          "50_file_files_kaiperm",
          "58_file_files_wrong",
          "95_resend_could_cud",
          "337_resend_myhrvold_kcerrone",
          "153_corp_intel_oracle",
          "211_corp_qqq_cisco",
          "198_csco_qqq_corp",
          "109_inc_legend_000",
          "258_index_portfolio_change",
          "275_portfolio_index_change",
          "129_change_portfolio_20",
          "207_portfolio_change_index",
          "274_03_01_exdsq",
          "132_techhelp_ameritrade_2001",
          "55_ritesh_techhelp_hello",
          "299_ritesh_techhelp_hello",
          "62_ritesh_techhelp_hello",
          "314_ritesh_techhelp_2000",
          "318_praveen_techhelp_hello",
          "262_praveen_evening_techhelp",
          "283_praveen_evening_techhelp",
          "377_praveen_evening_techhelp"
         ],
         "tickvals": [
          -5,
          -15,
          -25,
          -35,
          -45,
          -55,
          -65,
          -75,
          -85,
          -95,
          -105,
          -115,
          -125,
          -135,
          -145,
          -155,
          -165,
          -175,
          -185,
          -195,
          -205,
          -215,
          -225,
          -235,
          -245,
          -255,
          -265,
          -275,
          -285,
          -295,
          -305,
          -315,
          -325,
          -335,
          -345,
          -355,
          -365,
          -375,
          -385,
          -395,
          -405,
          -415,
          -425,
          -435,
          -445,
          -455,
          -465,
          -475,
          -485,
          -495,
          -505,
          -515,
          -525,
          -535,
          -545,
          -555,
          -565,
          -575,
          -585,
          -595,
          -605,
          -615,
          -625,
          -635,
          -645,
          -655,
          -665,
          -675,
          -685,
          -695,
          -705,
          -715,
          -725,
          -735,
          -745,
          -755,
          -765,
          -775,
          -785,
          -795,
          -805,
          -815,
          -825,
          -835,
          -845,
          -855,
          -865,
          -875,
          -885,
          -895,
          -905,
          -915,
          -925,
          -935,
          -945,
          -955,
          -965,
          -975,
          -985,
          -995,
          -1005,
          -1015,
          -1025,
          -1035,
          -1045,
          -1055,
          -1065,
          -1075,
          -1085,
          -1095,
          -1105,
          -1115,
          -1125,
          -1135,
          -1145,
          -1155,
          -1165,
          -1175,
          -1185,
          -1195,
          -1205,
          -1215,
          -1225,
          -1235,
          -1245,
          -1255,
          -1265,
          -1275,
          -1285,
          -1295,
          -1305,
          -1315,
          -1325,
          -1335,
          -1345,
          -1355,
          -1365,
          -1375,
          -1385,
          -1395,
          -1405,
          -1415,
          -1425,
          -1435,
          -1445,
          -1455,
          -1465,
          -1475,
          -1485,
          -1495,
          -1505,
          -1515,
          -1525,
          -1535,
          -1545,
          -1555,
          -1565,
          -1575,
          -1585,
          -1595,
          -1605,
          -1615,
          -1625,
          -1635,
          -1645,
          -1655,
          -1665,
          -1675,
          -1685,
          -1695,
          -1705,
          -1715,
          -1725,
          -1735,
          -1745,
          -1755,
          -1765,
          -1775,
          -1785,
          -1795,
          -1805,
          -1815,
          -1825,
          -1835,
          -1845,
          -1855,
          -1865,
          -1875,
          -1885,
          -1895,
          -1905,
          -1915,
          -1925,
          -1935,
          -1945,
          -1955,
          -1965,
          -1975,
          -1985,
          -1995,
          -2005,
          -2015,
          -2025,
          -2035,
          -2045,
          -2055,
          -2065,
          -2075,
          -2085,
          -2095,
          -2105,
          -2115,
          -2125,
          -2135,
          -2145,
          -2155,
          -2165,
          -2175,
          -2185,
          -2195,
          -2205,
          -2215,
          -2225,
          -2235,
          -2245,
          -2255,
          -2265,
          -2275,
          -2285,
          -2295,
          -2305,
          -2315,
          -2325,
          -2335,
          -2345,
          -2355,
          -2365,
          -2375,
          -2385,
          -2395,
          -2405,
          -2415,
          -2425,
          -2435,
          -2445,
          -2455,
          -2465,
          -2475,
          -2485,
          -2495,
          -2505,
          -2515,
          -2525,
          -2535,
          -2545,
          -2555,
          -2565,
          -2575,
          -2585,
          -2595,
          -2605,
          -2615,
          -2625,
          -2635,
          -2645,
          -2655,
          -2665,
          -2675,
          -2685,
          -2695,
          -2705,
          -2715,
          -2725,
          -2735,
          -2745,
          -2755,
          -2765,
          -2775,
          -2785,
          -2795,
          -2805,
          -2815,
          -2825,
          -2835,
          -2845,
          -2855,
          -2865,
          -2875,
          -2885,
          -2895,
          -2905,
          -2915,
          -2925,
          -2935,
          -2945,
          -2955,
          -2965,
          -2975,
          -2985,
          -2995,
          -3005,
          -3015,
          -3025,
          -3035,
          -3045,
          -3055,
          -3065,
          -3075,
          -3085,
          -3095,
          -3105,
          -3115,
          -3125,
          -3135,
          -3145,
          -3155,
          -3165,
          -3175,
          -3185,
          -3195,
          -3205,
          -3215,
          -3225,
          -3235,
          -3245,
          -3255,
          -3265,
          -3275,
          -3285,
          -3295,
          -3305,
          -3315,
          -3325,
          -3335,
          -3345,
          -3355,
          -3365,
          -3375,
          -3385,
          -3395,
          -3405,
          -3415,
          -3425,
          -3435,
          -3445,
          -3455,
          -3465,
          -3475,
          -3485,
          -3495,
          -3505,
          -3515,
          -3525,
          -3535,
          -3545,
          -3555,
          -3565,
          -3575,
          -3585,
          -3595,
          -3605,
          -3615,
          -3625,
          -3635,
          -3645,
          -3655,
          -3665,
          -3675,
          -3685,
          -3695,
          -3705,
          -3715,
          -3725,
          -3735,
          -3745,
          -3755,
          -3765,
          -3775,
          -3785,
          -3795,
          -3805,
          -3815,
          -3825,
          -3835,
          -3845,
          -3855,
          -3865,
          -3875,
          -3885,
          -3895,
          -3905,
          -3915,
          -3925,
          -3935,
          -3945,
          -3955
         ],
         "type": "linear",
         "zeroline": false
        }
       }
      }
     },
     "metadata": {},
     "output_type": "display_data"
    }
   ],
   "source": [
    "topic_model.visualize_hierarchy(hierarchical_topics=hierarchical_topics)"
   ]
  },
  {
   "cell_type": "markdown",
   "metadata": {},
   "source": [
    "## Merging Topics"
   ]
  },
  {
   "cell_type": "code",
   "execution_count": null,
   "metadata": {},
   "outputs": [],
   "source": []
  },
  {
   "cell_type": "code",
   "execution_count": 702,
   "metadata": {},
   "outputs": [
    {
     "name": "stdout",
     "output_type": "stream",
     "text": [
      "Topic: 19\n",
      "\n",
      "Top Words:\n",
      "servlet, archives, java, sun, listserv, interest, html, resources, user, manuals, \n",
      "\n",
      "Representative Target Sentences: \n",
      "_ _ _ _ _ _ _ _ _ _ _ _ _ _ _ _ _ _ _ _ _ _ _ _ _ _ _ _ _ _ _ _ _ _ _ _ _ _ _ _ _ _ _ _ _ _ _ _ _ _ _ _ _ _ _ _ _ _ _ _ _ _ _ _ _ _ _ _ _ _ _ _ _ _ _   To unsubscribe , send email to listserv@java.sun.com and include in the body   of the message \" signoff SERVLET - INTEREST \" .    Archives : http://archives.java.sun.com/archives/servlet-interest.html   Resources : http://java.sun.com/products/servlet/external-resources.html   LISTSERV Help : http://www.lsoft.com/manuals/user/user.html\n",
      "S.    _ _ _ _ _ _ _ _ _ _ _ _ _ _ _ _ _ _ _ _ _ _ _ _ _ _ _ _ _ _ _ _ _ _ _ _ _ _ _ _ _ _ _ _ _ _ _ _ _ _ _ _ _ _ _ _ _ _ _ _ _ _ _ _ _ _ _ _ _ _ _ _ _ _ _   To unsubscribe , send email to listserv@java.sun.com and include in the body   of the message \" signoff SERVLET - INTEREST \" .    Archives : http://archives.java.sun.com/archives/servlet-interest.html   Resources : http://java.sun.com/products/servlet/external-resources.html   LISTSERV Help : http://www.lsoft.com/manuals/user/user.html\n",
      "[PERSON]    _ _ _ _ _ _ _ _ _ _ _ _ _ _ _ _ _ _ _ _ _ _ _ _ _ _ _ _ _ _ _ _ _ _ _ _ _ _ _ _ _ _ _ _ _ _ _ _ _ _ _ _ _ _ _ _ _ _ _ _ _ _ _ _ _ _ _ _ _ _ _ _ _ _ _   To unsubscribe , send email to listserv@java.sun.com and include in the body   of the message \" signoff SERVLET - INTEREST \" .    Archives : http://archives.java.sun.com/archives/servlet-interest.html   Resources : http://java.sun.com/products/servlet/external-resources.html   LISTSERV Help : http://www.lsoft.com/manuals/user/user.html\n"
     ]
    }
   ],
   "source": [
    "topic_id = 19\n",
    "inspect_topic(topic_id)"
   ]
  },
  {
   "cell_type": "code",
   "execution_count": 703,
   "metadata": {},
   "outputs": [],
   "source": [
    "topic_model.merge_topics(docs, [-1,topic_id])"
   ]
  },
  {
   "cell_type": "code",
   "execution_count": 89,
   "metadata": {},
   "outputs": [],
   "source": [
    "create_custom_label(\"\", )"
   ]
  },
  {
   "cell_type": "code",
   "execution_count": 677,
   "metadata": {},
   "outputs": [
    {
     "name": "stdout",
     "output_type": "stream",
     "text": [
      "Number of Documents: 16\n",
      "\n",
      "We are going to send it today unless someone raises a flag that this is not a good idea .\n",
      "I think they are sending that to us .\n",
      "They do not always send these to us .\n",
      "you 're not sure what they believe , or what they will   > > > >       think of you for sending it to them .\n",
      "Are we sending this to them ?\n",
      "i thought we decided not to send this because it would raise more questions ?\n",
      "Let me know what you think of this -- it is much   stronger than what they sent us , so they might freak out .\n",
      "We can still send them to nursing home later on if it is not possible .\n",
      "Go ahead and send them through .\n",
      "We can still send   > them to nursing home later   > on if it is not possible .\n",
      "Alternatively , you can just send them the plug - in ahead of time .\n",
      "However , if you feel that we need to send them something like this , then go ahead .\n",
      "they need to send us the agmt .\n",
      "They send stuff to me once in a while , most of it is not interesting - this is very interesting .\n",
      "When in doubt , here , we should send it out ( to the VPs ) .\n",
      "we told them we 'd send this too .\n"
     ]
    },
    {
     "ename": "IndexError",
     "evalue": "list index out of range",
     "output_type": "error",
     "traceback": [
      "\u001b[0;31m---------------------------------------------------------------------------\u001b[0m",
      "\u001b[0;31mIndexError\u001b[0m                                Traceback (most recent call last)",
      "Cell \u001b[0;32mIn[677], line 4\u001b[0m\n\u001b[1;32m      2\u001b[0m \u001b[38;5;28mprint\u001b[39m(\u001b[38;5;124m'\u001b[39m\u001b[38;5;124mNumber of Documents: \u001b[39m\u001b[38;5;124m'\u001b[39m\u001b[38;5;241m+\u001b[39m\u001b[38;5;28mstr\u001b[39m(\u001b[38;5;28mlen\u001b[39m(documents))\u001b[38;5;241m+\u001b[39m\u001b[38;5;124m'\u001b[39m\u001b[38;5;130;01m\\n\u001b[39;00m\u001b[38;5;124m'\u001b[39m)\n\u001b[1;32m      3\u001b[0m \u001b[38;5;28;01mfor\u001b[39;00m i \u001b[38;5;129;01min\u001b[39;00m \u001b[38;5;28mrange\u001b[39m(\u001b[38;5;241m20\u001b[39m):\n\u001b[0;32m----> 4\u001b[0m     \u001b[38;5;28mprint\u001b[39m(\u001b[43mdocuments\u001b[49m\u001b[43m[\u001b[49m\u001b[43mi\u001b[49m\u001b[43m]\u001b[49m)\n",
      "\u001b[0;31mIndexError\u001b[0m: list index out of range"
     ]
    }
   ],
   "source": [
    "documents = [docs[i] for i, topic in enumerate(topic_model.topics_) if topic == topic_id]\n",
    "print('Number of Documents: '+str(len(documents))+'\\n')\n",
    "for i in range(20):\n",
    "    print(documents[i])"
   ]
  },
  {
   "cell_type": "code",
   "execution_count": 668,
   "metadata": {},
   "outputs": [
    {
     "data": {
      "text/plain": [
       "238"
      ]
     },
     "execution_count": 668,
     "metadata": {},
     "output_type": "execute_result"
    }
   ],
   "source": [
    "len(topic_model.get_topics())"
   ]
  },
  {
   "cell_type": "code",
   "execution_count": 704,
   "metadata": {},
   "outputs": [
    {
     "name": "stderr",
     "output_type": "stream",
     "text": [
      "2024-11-02 17:02:36,428 - BERTopic - WARNING: When you use `pickle` to save/load a BERTopic model,please make sure that the environments in which you saveand load the model are **exactly** the same. The version of BERTopic,its dependencies, and python need to remain the same.\n"
     ]
    }
   ],
   "source": [
    "topic_model.save(\"../../data/bertopic_models/intent/send_new/send_processed\")"
   ]
  },
  {
   "cell_type": "code",
   "execution_count": 705,
   "metadata": {},
   "outputs": [
    {
     "data": {
      "application/vnd.plotly.v1+json": {
       "config": {
        "plotlyServerURL": "https://plot.ly"
       },
       "data": [
        {
         "hoverinfo": "text",
         "marker": {
          "color": "rgb(61,153,112)"
         },
         "mode": "lines",
         "type": "scatter",
         "x": [
          0,
          0.16789165657656346,
          0.16789165657656346,
          0
         ],
         "xaxis": "x",
         "y": [
          -5,
          -5,
          -15,
          -15
         ],
         "yaxis": "y"
        },
        {
         "hoverinfo": "text",
         "marker": {
          "color": "rgb(255,65,54)"
         },
         "mode": "lines",
         "type": "scatter",
         "x": [
          0,
          0.48646556452993406,
          0.48646556452993406,
          0
         ],
         "xaxis": "x",
         "y": [
          -25,
          -25,
          -35,
          -35
         ],
         "yaxis": "y"
        },
        {
         "hoverinfo": "text",
         "marker": {
          "color": "rgb(255,65,54)"
         },
         "mode": "lines",
         "type": "scatter",
         "x": [
          0,
          0.3152661573425045,
          0.3152661573425045,
          0
         ],
         "xaxis": "x",
         "y": [
          -45,
          -45,
          -55,
          -55
         ],
         "yaxis": "y"
        },
        {
         "hoverinfo": "text",
         "marker": {
          "color": "rgb(255,65,54)"
         },
         "mode": "lines",
         "type": "scatter",
         "x": [
          0.48646556452993406,
          0.9400313388562889,
          0.9400313388562889,
          0.3152661573425045
         ],
         "xaxis": "x",
         "y": [
          -30,
          -30,
          -50,
          -50
         ],
         "yaxis": "y"
        },
        {
         "hoverinfo": "text",
         "marker": {
          "color": "rgb(0,116,217)"
         },
         "mode": "lines",
         "type": "scatter",
         "x": [
          0.16789165657656346,
          1.3210682893119485,
          1.3210682893119485,
          0.9400313388562889
         ],
         "xaxis": "x",
         "y": [
          -10,
          -10,
          -40,
          -40
         ],
         "yaxis": "y"
        },
        {
         "hoverinfo": "text",
         "marker": {
          "color": "rgb(35,205,205)"
         },
         "mode": "lines",
         "type": "scatter",
         "x": [
          0,
          0.38034701695560114,
          0.38034701695560114,
          0
         ],
         "xaxis": "x",
         "y": [
          -65,
          -65,
          -75,
          -75
         ],
         "yaxis": "y"
        },
        {
         "hoverinfo": "text",
         "marker": {
          "color": "rgb(133,20,75)"
         },
         "mode": "lines",
         "type": "scatter",
         "x": [
          0,
          0.47686710022218404,
          0.47686710022218404,
          0
         ],
         "xaxis": "x",
         "y": [
          -85,
          -85,
          -95,
          -95
         ],
         "yaxis": "y"
        },
        {
         "hoverinfo": "text",
         "marker": {
          "color": "rgb(133,20,75)"
         },
         "mode": "lines",
         "type": "scatter",
         "x": [
          0,
          0.6575947994427569,
          0.6575947994427569,
          0
         ],
         "xaxis": "x",
         "y": [
          -105,
          -105,
          -115,
          -115
         ],
         "yaxis": "y"
        },
        {
         "hoverinfo": "text",
         "marker": {
          "color": "rgb(133,20,75)"
         },
         "mode": "lines",
         "type": "scatter",
         "x": [
          0.47686710022218404,
          0.8393323563097199,
          0.8393323563097199,
          0.6575947994427569
         ],
         "xaxis": "x",
         "y": [
          -90,
          -90,
          -110,
          -110
         ],
         "yaxis": "y"
        },
        {
         "hoverinfo": "text",
         "marker": {
          "color": "rgb(0,116,217)"
         },
         "mode": "lines",
         "type": "scatter",
         "x": [
          0.38034701695560114,
          1.2376288817111016,
          1.2376288817111016,
          0.8393323563097199
         ],
         "xaxis": "x",
         "y": [
          -70,
          -70,
          -100,
          -100
         ],
         "yaxis": "y"
        },
        {
         "hoverinfo": "text",
         "marker": {
          "color": "rgb(255,220,0)"
         },
         "mode": "lines",
         "type": "scatter",
         "x": [
          0,
          0.8951667141708342,
          0.8951667141708342,
          0
         ],
         "xaxis": "x",
         "y": [
          -135,
          -135,
          -145,
          -145
         ],
         "yaxis": "y"
        },
        {
         "hoverinfo": "text",
         "marker": {
          "color": "rgb(255,220,0)"
         },
         "mode": "lines",
         "type": "scatter",
         "x": [
          0,
          0.9668025265340404,
          0.9668025265340404,
          0.8951667141708342
         ],
         "xaxis": "x",
         "y": [
          -125,
          -125,
          -140,
          -140
         ],
         "yaxis": "y"
        },
        {
         "hoverinfo": "text",
         "marker": {
          "color": "rgb(255,220,0)"
         },
         "mode": "lines",
         "type": "scatter",
         "x": [
          0,
          0.7071541085217083,
          0.7071541085217083,
          0
         ],
         "xaxis": "x",
         "y": [
          -155,
          -155,
          -165,
          -165
         ],
         "yaxis": "y"
        },
        {
         "hoverinfo": "text",
         "marker": {
          "color": "rgb(255,220,0)"
         },
         "mode": "lines",
         "type": "scatter",
         "x": [
          0,
          0.8429103821301855,
          0.8429103821301855,
          0
         ],
         "xaxis": "x",
         "y": [
          -175,
          -175,
          -185,
          -185
         ],
         "yaxis": "y"
        },
        {
         "hoverinfo": "text",
         "marker": {
          "color": "rgb(255,220,0)"
         },
         "mode": "lines",
         "type": "scatter",
         "x": [
          0.8429103821301855,
          0.8855722382217829,
          0.8855722382217829,
          0
         ],
         "xaxis": "x",
         "y": [
          -180,
          -180,
          -195,
          -195
         ],
         "yaxis": "y"
        },
        {
         "hoverinfo": "text",
         "marker": {
          "color": "rgb(255,220,0)"
         },
         "mode": "lines",
         "type": "scatter",
         "x": [
          0.7071541085217083,
          0.9227771409098912,
          0.9227771409098912,
          0.8855722382217829
         ],
         "xaxis": "x",
         "y": [
          -160,
          -160,
          -187.5,
          -187.5
         ],
         "yaxis": "y"
        },
        {
         "hoverinfo": "text",
         "marker": {
          "color": "rgb(255,220,0)"
         },
         "mode": "lines",
         "type": "scatter",
         "x": [
          0.9668025265340404,
          0.9875451926923975,
          0.9875451926923975,
          0.9227771409098912
         ],
         "xaxis": "x",
         "y": [
          -132.5,
          -132.5,
          -173.75,
          -173.75
         ],
         "yaxis": "y"
        },
        {
         "hoverinfo": "text",
         "marker": {
          "color": "rgb(40,35,35)"
         },
         "mode": "lines",
         "type": "scatter",
         "x": [
          0,
          0.6162743704736289,
          0.6162743704736289,
          0
         ],
         "xaxis": "x",
         "y": [
          -205,
          -205,
          -215,
          -215
         ],
         "yaxis": "y"
        },
        {
         "hoverinfo": "text",
         "marker": {
          "color": "rgb(40,35,35)"
         },
         "mode": "lines",
         "type": "scatter",
         "x": [
          0.6162743704736289,
          0.9100154016143246,
          0.9100154016143246,
          0
         ],
         "xaxis": "x",
         "y": [
          -210,
          -210,
          -225,
          -225
         ],
         "yaxis": "y"
        },
        {
         "hoverinfo": "text",
         "marker": {
          "color": "rgb(0,116,217)"
         },
         "mode": "lines",
         "type": "scatter",
         "x": [
          0.9875451926923975,
          1.0438920956544913,
          1.0438920956544913,
          0.9100154016143246
         ],
         "xaxis": "x",
         "y": [
          -153.125,
          -153.125,
          -217.5,
          -217.5
         ],
         "yaxis": "y"
        },
        {
         "hoverinfo": "text",
         "marker": {
          "color": "rgb(61,153,112)"
         },
         "mode": "lines",
         "type": "scatter",
         "x": [
          0,
          0.8448890411693863,
          0.8448890411693863,
          0
         ],
         "xaxis": "x",
         "y": [
          -245,
          -245,
          -255,
          -255
         ],
         "yaxis": "y"
        },
        {
         "hoverinfo": "text",
         "marker": {
          "color": "rgb(61,153,112)"
         },
         "mode": "lines",
         "type": "scatter",
         "x": [
          0,
          0.8957705063032722,
          0.8957705063032722,
          0.8448890411693863
         ],
         "xaxis": "x",
         "y": [
          -235,
          -235,
          -250,
          -250
         ],
         "yaxis": "y"
        },
        {
         "hoverinfo": "text",
         "marker": {
          "color": "rgb(61,153,112)"
         },
         "mode": "lines",
         "type": "scatter",
         "x": [
          0,
          0.7376810169677633,
          0.7376810169677633,
          0
         ],
         "xaxis": "x",
         "y": [
          -265,
          -265,
          -275,
          -275
         ],
         "yaxis": "y"
        },
        {
         "hoverinfo": "text",
         "marker": {
          "color": "rgb(61,153,112)"
         },
         "mode": "lines",
         "type": "scatter",
         "x": [
          0.8957705063032722,
          0.9691887864439188,
          0.9691887864439188,
          0.7376810169677633
         ],
         "xaxis": "x",
         "y": [
          -242.5,
          -242.5,
          -270,
          -270
         ],
         "yaxis": "y"
        },
        {
         "hoverinfo": "text",
         "marker": {
          "color": "rgb(255,65,54)"
         },
         "mode": "lines",
         "type": "scatter",
         "x": [
          0,
          0.5271457150355263,
          0.5271457150355263,
          0
         ],
         "xaxis": "x",
         "y": [
          -285,
          -285,
          -295,
          -295
         ],
         "yaxis": "y"
        },
        {
         "hoverinfo": "text",
         "marker": {
          "color": "rgb(255,65,54)"
         },
         "mode": "lines",
         "type": "scatter",
         "x": [
          0.5271457150355263,
          0.8094703939937892,
          0.8094703939937892,
          0
         ],
         "xaxis": "x",
         "y": [
          -290,
          -290,
          -305,
          -305
         ],
         "yaxis": "y"
        },
        {
         "hoverinfo": "text",
         "marker": {
          "color": "rgb(0,116,217)"
         },
         "mode": "lines",
         "type": "scatter",
         "x": [
          0.9691887864439188,
          1.0890770672403378,
          1.0890770672403378,
          0.8094703939937892
         ],
         "xaxis": "x",
         "y": [
          -256.25,
          -256.25,
          -297.5,
          -297.5
         ],
         "yaxis": "y"
        },
        {
         "hoverinfo": "text",
         "marker": {
          "color": "rgb(0,116,217)"
         },
         "mode": "lines",
         "type": "scatter",
         "x": [
          1.0438920956544913,
          1.1445530113091205,
          1.1445530113091205,
          1.0890770672403378
         ],
         "xaxis": "x",
         "y": [
          -185.3125,
          -185.3125,
          -276.875,
          -276.875
         ],
         "yaxis": "y"
        },
        {
         "hoverinfo": "text",
         "marker": {
          "color": "rgb(35,205,205)"
         },
         "mode": "lines",
         "type": "scatter",
         "x": [
          0,
          0.43755753619405857,
          0.43755753619405857,
          0
         ],
         "xaxis": "x",
         "y": [
          -315,
          -315,
          -325,
          -325
         ],
         "yaxis": "y"
        },
        {
         "hoverinfo": "text",
         "marker": {
          "color": "rgb(35,205,205)"
         },
         "mode": "lines",
         "type": "scatter",
         "x": [
          0.43755753619405857,
          0.7628962590827152,
          0.7628962590827152,
          0
         ],
         "xaxis": "x",
         "y": [
          -320,
          -320,
          -335,
          -335
         ],
         "yaxis": "y"
        },
        {
         "hoverinfo": "text",
         "marker": {
          "color": "rgb(0,116,217)"
         },
         "mode": "lines",
         "type": "scatter",
         "x": [
          1.1445530113091205,
          1.1566292828337739,
          1.1566292828337739,
          0.7628962590827152
         ],
         "xaxis": "x",
         "y": [
          -231.09375,
          -231.09375,
          -327.5,
          -327.5
         ],
         "yaxis": "y"
        },
        {
         "hoverinfo": "text",
         "marker": {
          "color": "rgb(61,153,112)"
         },
         "mode": "lines",
         "type": "scatter",
         "x": [
          0,
          0.4585260712643331,
          0.4585260712643331,
          0
         ],
         "xaxis": "x",
         "y": [
          -355,
          -355,
          -365,
          -365
         ],
         "yaxis": "y"
        },
        {
         "hoverinfo": "text",
         "marker": {
          "color": "rgb(61,153,112)"
         },
         "mode": "lines",
         "type": "scatter",
         "x": [
          0,
          0.6130551505358417,
          0.6130551505358417,
          0
         ],
         "xaxis": "x",
         "y": [
          -375,
          -375,
          -385,
          -385
         ],
         "yaxis": "y"
        },
        {
         "hoverinfo": "text",
         "marker": {
          "color": "rgb(61,153,112)"
         },
         "mode": "lines",
         "type": "scatter",
         "x": [
          0.4585260712643331,
          0.7292319025987057,
          0.7292319025987057,
          0.6130551505358417
         ],
         "xaxis": "x",
         "y": [
          -360,
          -360,
          -380,
          -380
         ],
         "yaxis": "y"
        },
        {
         "hoverinfo": "text",
         "marker": {
          "color": "rgb(61,153,112)"
         },
         "mode": "lines",
         "type": "scatter",
         "x": [
          0,
          0.8696405237811019,
          0.8696405237811019,
          0.7292319025987057
         ],
         "xaxis": "x",
         "y": [
          -345,
          -345,
          -370,
          -370
         ],
         "yaxis": "y"
        },
        {
         "hoverinfo": "text",
         "marker": {
          "color": "rgb(61,153,112)"
         },
         "mode": "lines",
         "type": "scatter",
         "x": [
          0,
          0.7417158192456283,
          0.7417158192456283,
          0
         ],
         "xaxis": "x",
         "y": [
          -405,
          -405,
          -415,
          -415
         ],
         "yaxis": "y"
        },
        {
         "hoverinfo": "text",
         "marker": {
          "color": "rgb(61,153,112)"
         },
         "mode": "lines",
         "type": "scatter",
         "x": [
          0,
          0.7817757108852684,
          0.7817757108852684,
          0.7417158192456283
         ],
         "xaxis": "x",
         "y": [
          -395,
          -395,
          -410,
          -410
         ],
         "yaxis": "y"
        },
        {
         "hoverinfo": "text",
         "marker": {
          "color": "rgb(61,153,112)"
         },
         "mode": "lines",
         "type": "scatter",
         "x": [
          0.7817757108852684,
          0.86875080560903,
          0.86875080560903,
          0
         ],
         "xaxis": "x",
         "y": [
          -402.5,
          -402.5,
          -425,
          -425
         ],
         "yaxis": "y"
        },
        {
         "hoverinfo": "text",
         "marker": {
          "color": "rgb(61,153,112)"
         },
         "mode": "lines",
         "type": "scatter",
         "x": [
          0.8696405237811019,
          0.9804458512859838,
          0.9804458512859838,
          0.86875080560903
         ],
         "xaxis": "x",
         "y": [
          -357.5,
          -357.5,
          -413.75,
          -413.75
         ],
         "yaxis": "y"
        },
        {
         "hoverinfo": "text",
         "marker": {
          "color": "rgb(0,116,217)"
         },
         "mode": "lines",
         "type": "scatter",
         "x": [
          1.1566292828337739,
          1.2134271521660058,
          1.2134271521660058,
          0.9804458512859838
         ],
         "xaxis": "x",
         "y": [
          -279.296875,
          -279.296875,
          -385.625,
          -385.625
         ],
         "yaxis": "y"
        },
        {
         "hoverinfo": "text",
         "marker": {
          "color": "rgb(0,116,217)"
         },
         "mode": "lines",
         "type": "scatter",
         "x": [
          1.2376288817111016,
          1.3157864733978706,
          1.3157864733978706,
          1.2134271521660058
         ],
         "xaxis": "x",
         "y": [
          -85,
          -85,
          -332.4609375,
          -332.4609375
         ],
         "yaxis": "y"
        },
        {
         "hoverinfo": "text",
         "marker": {
          "color": "rgb(0,116,217)"
         },
         "mode": "lines",
         "type": "scatter",
         "x": [
          1.3210682893119485,
          1.3884549109053579,
          1.3884549109053579,
          1.3157864733978706
         ],
         "xaxis": "x",
         "y": [
          -25,
          -25,
          -208.73046875,
          -208.73046875
         ],
         "yaxis": "y"
        },
        {
         "hoverinfo": "text",
         "marker": {
          "color": "rgb(255,65,54)"
         },
         "mode": "lines",
         "type": "scatter",
         "x": [
          0,
          0.3335469110938002,
          0.3335469110938002,
          0
         ],
         "xaxis": "x",
         "y": [
          -445,
          -445,
          -455,
          -455
         ],
         "yaxis": "y"
        },
        {
         "hoverinfo": "text",
         "marker": {
          "color": "rgb(255,65,54)"
         },
         "mode": "lines",
         "type": "scatter",
         "x": [
          0,
          0.5547832240364696,
          0.5547832240364696,
          0.3335469110938002
         ],
         "xaxis": "x",
         "y": [
          -435,
          -435,
          -450,
          -450
         ],
         "yaxis": "y"
        },
        {
         "hoverinfo": "text",
         "marker": {
          "color": "rgb(0,116,217)"
         },
         "mode": "lines",
         "type": "scatter",
         "x": [
          1.3884549109053579,
          1.5093827941278666,
          1.5093827941278666,
          0.5547832240364696
         ],
         "xaxis": "x",
         "y": [
          -116.865234375,
          -116.865234375,
          -442.5,
          -442.5
         ],
         "yaxis": "y"
        },
        {
         "hoverinfo": "text",
         "marker": {
          "color": "rgb(35,205,205)"
         },
         "mode": "lines",
         "type": "scatter",
         "x": [
          0,
          0.7016944230297922,
          0.7016944230297922,
          0
         ],
         "xaxis": "x",
         "y": [
          -465,
          -465,
          -475,
          -475
         ],
         "yaxis": "y"
        },
        {
         "hoverinfo": "text",
         "marker": {
          "color": "rgb(133,20,75)"
         },
         "mode": "lines",
         "type": "scatter",
         "x": [
          0,
          0.6082337287783621,
          0.6082337287783621,
          0
         ],
         "xaxis": "x",
         "y": [
          -485,
          -485,
          -495,
          -495
         ],
         "yaxis": "y"
        },
        {
         "hoverinfo": "text",
         "marker": {
          "color": "rgb(133,20,75)"
         },
         "mode": "lines",
         "type": "scatter",
         "x": [
          0,
          0.8505573256189298,
          0.8505573256189298,
          0
         ],
         "xaxis": "x",
         "y": [
          -505,
          -505,
          -515,
          -515
         ],
         "yaxis": "y"
        },
        {
         "hoverinfo": "text",
         "marker": {
          "color": "rgb(133,20,75)"
         },
         "mode": "lines",
         "type": "scatter",
         "x": [
          0.6082337287783621,
          0.9871973158466232,
          0.9871973158466232,
          0.8505573256189298
         ],
         "xaxis": "x",
         "y": [
          -490,
          -490,
          -510,
          -510
         ],
         "yaxis": "y"
        },
        {
         "hoverinfo": "text",
         "marker": {
          "color": "rgb(255,220,0)"
         },
         "mode": "lines",
         "type": "scatter",
         "x": [
          0,
          0.5457006797885586,
          0.5457006797885586,
          0
         ],
         "xaxis": "x",
         "y": [
          -525,
          -525,
          -535,
          -535
         ],
         "yaxis": "y"
        },
        {
         "hoverinfo": "text",
         "marker": {
          "color": "rgb(0,116,217)"
         },
         "mode": "lines",
         "type": "scatter",
         "x": [
          0.9871973158466232,
          1.1687187976377549,
          1.1687187976377549,
          0.5457006797885586
         ],
         "xaxis": "x",
         "y": [
          -500,
          -500,
          -530,
          -530
         ],
         "yaxis": "y"
        },
        {
         "hoverinfo": "text",
         "marker": {
          "color": "rgb(0,116,217)"
         },
         "mode": "lines",
         "type": "scatter",
         "x": [
          0.7016944230297922,
          1.1941667187288132,
          1.1941667187288132,
          1.1687187976377549
         ],
         "xaxis": "x",
         "y": [
          -470,
          -470,
          -515,
          -515
         ],
         "yaxis": "y"
        },
        {
         "hoverinfo": "text",
         "marker": {
          "color": "rgb(40,35,35)"
         },
         "mode": "lines",
         "type": "scatter",
         "x": [
          0,
          0.7931108206486281,
          0.7931108206486281,
          0
         ],
         "xaxis": "x",
         "y": [
          -555,
          -555,
          -565,
          -565
         ],
         "yaxis": "y"
        },
        {
         "hoverinfo": "text",
         "marker": {
          "color": "rgb(40,35,35)"
         },
         "mode": "lines",
         "type": "scatter",
         "x": [
          0.7931108206486281,
          0.9370731425538372,
          0.9370731425538372,
          0
         ],
         "xaxis": "x",
         "y": [
          -560,
          -560,
          -575,
          -575
         ],
         "yaxis": "y"
        },
        {
         "hoverinfo": "text",
         "marker": {
          "color": "rgb(40,35,35)"
         },
         "mode": "lines",
         "type": "scatter",
         "x": [
          0,
          0.9640240485220396,
          0.9640240485220396,
          0.9370731425538372
         ],
         "xaxis": "x",
         "y": [
          -545,
          -545,
          -567.5,
          -567.5
         ],
         "yaxis": "y"
        },
        {
         "hoverinfo": "text",
         "marker": {
          "color": "rgb(61,153,112)"
         },
         "mode": "lines",
         "type": "scatter",
         "x": [
          0,
          0.9675021237781835,
          0.9675021237781835,
          0
         ],
         "xaxis": "x",
         "y": [
          -585,
          -585,
          -595,
          -595
         ],
         "yaxis": "y"
        },
        {
         "hoverinfo": "text",
         "marker": {
          "color": "rgb(255,65,54)"
         },
         "mode": "lines",
         "type": "scatter",
         "x": [
          0,
          0.9184497000520717,
          0.9184497000520717,
          0
         ],
         "xaxis": "x",
         "y": [
          -615,
          -615,
          -625,
          -625
         ],
         "yaxis": "y"
        },
        {
         "hoverinfo": "text",
         "marker": {
          "color": "rgb(255,65,54)"
         },
         "mode": "lines",
         "type": "scatter",
         "x": [
          0,
          0.9894663410059125,
          0.9894663410059125,
          0.9184497000520717
         ],
         "xaxis": "x",
         "y": [
          -605,
          -605,
          -620,
          -620
         ],
         "yaxis": "y"
        },
        {
         "hoverinfo": "text",
         "marker": {
          "color": "rgb(0,116,217)"
         },
         "mode": "lines",
         "type": "scatter",
         "x": [
          0.9675021237781835,
          1.0236356445275774,
          1.0236356445275774,
          0.9894663410059125
         ],
         "xaxis": "x",
         "y": [
          -590,
          -590,
          -612.5,
          -612.5
         ],
         "yaxis": "y"
        },
        {
         "hoverinfo": "text",
         "marker": {
          "color": "rgb(35,205,205)"
         },
         "mode": "lines",
         "type": "scatter",
         "x": [
          0,
          0.9107885641494747,
          0.9107885641494747,
          0
         ],
         "xaxis": "x",
         "y": [
          -645,
          -645,
          -655,
          -655
         ],
         "yaxis": "y"
        },
        {
         "hoverinfo": "text",
         "marker": {
          "color": "rgb(35,205,205)"
         },
         "mode": "lines",
         "type": "scatter",
         "x": [
          0,
          0.9709614640527572,
          0.9709614640527572,
          0.9107885641494747
         ],
         "xaxis": "x",
         "y": [
          -635,
          -635,
          -650,
          -650
         ],
         "yaxis": "y"
        },
        {
         "hoverinfo": "text",
         "marker": {
          "color": "rgb(0,116,217)"
         },
         "mode": "lines",
         "type": "scatter",
         "x": [
          1.0236356445275774,
          1.0739890309466087,
          1.0739890309466087,
          0.9709614640527572
         ],
         "xaxis": "x",
         "y": [
          -601.25,
          -601.25,
          -642.5,
          -642.5
         ],
         "yaxis": "y"
        },
        {
         "hoverinfo": "text",
         "marker": {
          "color": "rgb(61,153,112)"
         },
         "mode": "lines",
         "type": "scatter",
         "x": [
          0,
          0.8550927605894529,
          0.8550927605894529,
          0
         ],
         "xaxis": "x",
         "y": [
          -665,
          -665,
          -675,
          -675
         ],
         "yaxis": "y"
        },
        {
         "hoverinfo": "text",
         "marker": {
          "color": "rgb(61,153,112)"
         },
         "mode": "lines",
         "type": "scatter",
         "x": [
          0.8550927605894529,
          0.9768844818281077,
          0.9768844818281077,
          0
         ],
         "xaxis": "x",
         "y": [
          -670,
          -670,
          -685,
          -685
         ],
         "yaxis": "y"
        },
        {
         "hoverinfo": "text",
         "marker": {
          "color": "rgb(0,116,217)"
         },
         "mode": "lines",
         "type": "scatter",
         "x": [
          1.0739890309466087,
          1.0808570829146296,
          1.0808570829146296,
          0.9768844818281077
         ],
         "xaxis": "x",
         "y": [
          -621.875,
          -621.875,
          -677.5,
          -677.5
         ],
         "yaxis": "y"
        },
        {
         "hoverinfo": "text",
         "marker": {
          "color": "rgb(0,116,217)"
         },
         "mode": "lines",
         "type": "scatter",
         "x": [
          0.9640240485220396,
          1.1336585059616189,
          1.1336585059616189,
          1.0808570829146296
         ],
         "xaxis": "x",
         "y": [
          -556.25,
          -556.25,
          -649.6875,
          -649.6875
         ],
         "yaxis": "y"
        },
        {
         "hoverinfo": "text",
         "marker": {
          "color": "rgb(255,65,54)"
         },
         "mode": "lines",
         "type": "scatter",
         "x": [
          0,
          0.8623569460990631,
          0.8623569460990631,
          0
         ],
         "xaxis": "x",
         "y": [
          -695,
          -695,
          -705,
          -705
         ],
         "yaxis": "y"
        },
        {
         "hoverinfo": "text",
         "marker": {
          "color": "rgb(35,205,205)"
         },
         "mode": "lines",
         "type": "scatter",
         "x": [
          0,
          0.896414964722081,
          0.896414964722081,
          0
         ],
         "xaxis": "x",
         "y": [
          -715,
          -715,
          -725,
          -725
         ],
         "yaxis": "y"
        },
        {
         "hoverinfo": "text",
         "marker": {
          "color": "rgb(35,205,205)"
         },
         "mode": "lines",
         "type": "scatter",
         "x": [
          0,
          0.9106754552280691,
          0.9106754552280691,
          0
         ],
         "xaxis": "x",
         "y": [
          -735,
          -735,
          -745,
          -745
         ],
         "yaxis": "y"
        },
        {
         "hoverinfo": "text",
         "marker": {
          "color": "rgb(35,205,205)"
         },
         "mode": "lines",
         "type": "scatter",
         "x": [
          0.896414964722081,
          0.9767292524117777,
          0.9767292524117777,
          0.9106754552280691
         ],
         "xaxis": "x",
         "y": [
          -720,
          -720,
          -740,
          -740
         ],
         "yaxis": "y"
        },
        {
         "hoverinfo": "text",
         "marker": {
          "color": "rgb(133,20,75)"
         },
         "mode": "lines",
         "type": "scatter",
         "x": [
          0,
          0.8964006021213606,
          0.8964006021213606,
          0
         ],
         "xaxis": "x",
         "y": [
          -775,
          -775,
          -785,
          -785
         ],
         "yaxis": "y"
        },
        {
         "hoverinfo": "text",
         "marker": {
          "color": "rgb(133,20,75)"
         },
         "mode": "lines",
         "type": "scatter",
         "x": [
          0,
          0.9167164033597008,
          0.9167164033597008,
          0.8964006021213606
         ],
         "xaxis": "x",
         "y": [
          -765,
          -765,
          -780,
          -780
         ],
         "yaxis": "y"
        },
        {
         "hoverinfo": "text",
         "marker": {
          "color": "rgb(133,20,75)"
         },
         "mode": "lines",
         "type": "scatter",
         "x": [
          0,
          0.9585045301054069,
          0.9585045301054069,
          0.9167164033597008
         ],
         "xaxis": "x",
         "y": [
          -755,
          -755,
          -772.5,
          -772.5
         ],
         "yaxis": "y"
        },
        {
         "hoverinfo": "text",
         "marker": {
          "color": "rgb(133,20,75)"
         },
         "mode": "lines",
         "type": "scatter",
         "x": [
          0,
          0.9281014137651487,
          0.9281014137651487,
          0
         ],
         "xaxis": "x",
         "y": [
          -795,
          -795,
          -805,
          -805
         ],
         "yaxis": "y"
        },
        {
         "hoverinfo": "text",
         "marker": {
          "color": "rgb(133,20,75)"
         },
         "mode": "lines",
         "type": "scatter",
         "x": [
          0.9281014137651487,
          0.9485738277872081,
          0.9485738277872081,
          0
         ],
         "xaxis": "x",
         "y": [
          -800,
          -800,
          -815,
          -815
         ],
         "yaxis": "y"
        },
        {
         "hoverinfo": "text",
         "marker": {
          "color": "rgb(133,20,75)"
         },
         "mode": "lines",
         "type": "scatter",
         "x": [
          0.9585045301054069,
          0.9750637634606143,
          0.9750637634606143,
          0.9485738277872081
         ],
         "xaxis": "x",
         "y": [
          -763.75,
          -763.75,
          -807.5,
          -807.5
         ],
         "yaxis": "y"
        },
        {
         "hoverinfo": "text",
         "marker": {
          "color": "rgb(0,116,217)"
         },
         "mode": "lines",
         "type": "scatter",
         "x": [
          0.9767292524117777,
          1.0174071621162646,
          1.0174071621162646,
          0.9750637634606143
         ],
         "xaxis": "x",
         "y": [
          -730,
          -730,
          -785.625,
          -785.625
         ],
         "yaxis": "y"
        },
        {
         "hoverinfo": "text",
         "marker": {
          "color": "rgb(255,220,0)"
         },
         "mode": "lines",
         "type": "scatter",
         "x": [
          0,
          0.8874568305952368,
          0.8874568305952368,
          0
         ],
         "xaxis": "x",
         "y": [
          -825,
          -825,
          -835,
          -835
         ],
         "yaxis": "y"
        },
        {
         "hoverinfo": "text",
         "marker": {
          "color": "rgb(255,220,0)"
         },
         "mode": "lines",
         "type": "scatter",
         "x": [
          0,
          0.8767889364095658,
          0.8767889364095658,
          0
         ],
         "xaxis": "x",
         "y": [
          -845,
          -845,
          -855,
          -855
         ],
         "yaxis": "y"
        },
        {
         "hoverinfo": "text",
         "marker": {
          "color": "rgb(255,220,0)"
         },
         "mode": "lines",
         "type": "scatter",
         "x": [
          0.8874568305952368,
          0.9901051496304268,
          0.9901051496304268,
          0.8767889364095658
         ],
         "xaxis": "x",
         "y": [
          -830,
          -830,
          -850,
          -850
         ],
         "yaxis": "y"
        },
        {
         "hoverinfo": "text",
         "marker": {
          "color": "rgb(0,116,217)"
         },
         "mode": "lines",
         "type": "scatter",
         "x": [
          1.0174071621162646,
          1.0522232869664219,
          1.0522232869664219,
          0.9901051496304268
         ],
         "xaxis": "x",
         "y": [
          -757.8125,
          -757.8125,
          -840,
          -840
         ],
         "yaxis": "y"
        },
        {
         "hoverinfo": "text",
         "marker": {
          "color": "rgb(0,116,217)"
         },
         "mode": "lines",
         "type": "scatter",
         "x": [
          0.8623569460990631,
          1.0618779997573804,
          1.0618779997573804,
          1.0522232869664219
         ],
         "xaxis": "x",
         "y": [
          -700,
          -700,
          -798.90625,
          -798.90625
         ],
         "yaxis": "y"
        },
        {
         "hoverinfo": "text",
         "marker": {
          "color": "rgb(40,35,35)"
         },
         "mode": "lines",
         "type": "scatter",
         "x": [
          0,
          0.8393449080849543,
          0.8393449080849543,
          0
         ],
         "xaxis": "x",
         "y": [
          -865,
          -865,
          -875,
          -875
         ],
         "yaxis": "y"
        },
        {
         "hoverinfo": "text",
         "marker": {
          "color": "rgb(61,153,112)"
         },
         "mode": "lines",
         "type": "scatter",
         "x": [
          0,
          0.9885563198003945,
          0.9885563198003945,
          0
         ],
         "xaxis": "x",
         "y": [
          -885,
          -885,
          -895,
          -895
         ],
         "yaxis": "y"
        },
        {
         "hoverinfo": "text",
         "marker": {
          "color": "rgb(255,65,54)"
         },
         "mode": "lines",
         "type": "scatter",
         "x": [
          0,
          0.9138812222358905,
          0.9138812222358905,
          0
         ],
         "xaxis": "x",
         "y": [
          -905,
          -905,
          -915,
          -915
         ],
         "yaxis": "y"
        },
        {
         "hoverinfo": "text",
         "marker": {
          "color": "rgb(0,116,217)"
         },
         "mode": "lines",
         "type": "scatter",
         "x": [
          0.9885563198003945,
          1.0017893248797574,
          1.0017893248797574,
          0.9138812222358905
         ],
         "xaxis": "x",
         "y": [
          -890,
          -890,
          -910,
          -910
         ],
         "yaxis": "y"
        },
        {
         "hoverinfo": "text",
         "marker": {
          "color": "rgb(35,205,205)"
         },
         "mode": "lines",
         "type": "scatter",
         "x": [
          0,
          0.9120612861018561,
          0.9120612861018561,
          0
         ],
         "xaxis": "x",
         "y": [
          -925,
          -925,
          -935,
          -935
         ],
         "yaxis": "y"
        },
        {
         "hoverinfo": "text",
         "marker": {
          "color": "rgb(35,205,205)"
         },
         "mode": "lines",
         "type": "scatter",
         "x": [
          0.9120612861018561,
          0.9756729923018431,
          0.9756729923018431,
          0
         ],
         "xaxis": "x",
         "y": [
          -930,
          -930,
          -945,
          -945
         ],
         "yaxis": "y"
        },
        {
         "hoverinfo": "text",
         "marker": {
          "color": "rgb(0,116,217)"
         },
         "mode": "lines",
         "type": "scatter",
         "x": [
          1.0017893248797574,
          1.013927042301223,
          1.013927042301223,
          0.9756729923018431
         ],
         "xaxis": "x",
         "y": [
          -900,
          -900,
          -937.5,
          -937.5
         ],
         "yaxis": "y"
        },
        {
         "hoverinfo": "text",
         "marker": {
          "color": "rgb(61,153,112)"
         },
         "mode": "lines",
         "type": "scatter",
         "x": [
          0,
          0.8778218696902411,
          0.8778218696902411,
          0
         ],
         "xaxis": "x",
         "y": [
          -955,
          -955,
          -965,
          -965
         ],
         "yaxis": "y"
        },
        {
         "hoverinfo": "text",
         "marker": {
          "color": "rgb(255,65,54)"
         },
         "mode": "lines",
         "type": "scatter",
         "x": [
          0,
          0.9048080286025122,
          0.9048080286025122,
          0
         ],
         "xaxis": "x",
         "y": [
          -975,
          -975,
          -985,
          -985
         ],
         "yaxis": "y"
        },
        {
         "hoverinfo": "text",
         "marker": {
          "color": "rgb(0,116,217)"
         },
         "mode": "lines",
         "type": "scatter",
         "x": [
          0.8778218696902411,
          1.0068325414135324,
          1.0068325414135324,
          0.9048080286025122
         ],
         "xaxis": "x",
         "y": [
          -960,
          -960,
          -980,
          -980
         ],
         "yaxis": "y"
        },
        {
         "hoverinfo": "text",
         "marker": {
          "color": "rgb(0,116,217)"
         },
         "mode": "lines",
         "type": "scatter",
         "x": [
          1.013927042301223,
          1.0376056290019438,
          1.0376056290019438,
          1.0068325414135324
         ],
         "xaxis": "x",
         "y": [
          -918.75,
          -918.75,
          -970,
          -970
         ],
         "yaxis": "y"
        },
        {
         "hoverinfo": "text",
         "marker": {
          "color": "rgb(35,205,205)"
         },
         "mode": "lines",
         "type": "scatter",
         "x": [
          0,
          0.8851046500178115,
          0.8851046500178115,
          0
         ],
         "xaxis": "x",
         "y": [
          -995,
          -995,
          -1005,
          -1005
         ],
         "yaxis": "y"
        },
        {
         "hoverinfo": "text",
         "marker": {
          "color": "rgb(0,116,217)"
         },
         "mode": "lines",
         "type": "scatter",
         "x": [
          1.0376056290019438,
          1.0503267498798932,
          1.0503267498798932,
          0.8851046500178115
         ],
         "xaxis": "x",
         "y": [
          -944.375,
          -944.375,
          -1000,
          -1000
         ],
         "yaxis": "y"
        },
        {
         "hoverinfo": "text",
         "marker": {
          "color": "rgb(0,116,217)"
         },
         "mode": "lines",
         "type": "scatter",
         "x": [
          0.8393449080849543,
          1.0688228930887496,
          1.0688228930887496,
          1.0503267498798932
         ],
         "xaxis": "x",
         "y": [
          -870,
          -870,
          -972.1875,
          -972.1875
         ],
         "yaxis": "y"
        },
        {
         "hoverinfo": "text",
         "marker": {
          "color": "rgb(0,116,217)"
         },
         "mode": "lines",
         "type": "scatter",
         "x": [
          1.0618779997573804,
          1.0908601886027907,
          1.0908601886027907,
          1.0688228930887496
         ],
         "xaxis": "x",
         "y": [
          -749.453125,
          -749.453125,
          -921.09375,
          -921.09375
         ],
         "yaxis": "y"
        },
        {
         "hoverinfo": "text",
         "marker": {
          "color": "rgb(0,116,217)"
         },
         "mode": "lines",
         "type": "scatter",
         "x": [
          1.1336585059616189,
          1.1461040184478877,
          1.1461040184478877,
          1.0908601886027907
         ],
         "xaxis": "x",
         "y": [
          -602.96875,
          -602.96875,
          -835.2734375,
          -835.2734375
         ],
         "yaxis": "y"
        },
        {
         "hoverinfo": "text",
         "marker": {
          "color": "rgb(133,20,75)"
         },
         "mode": "lines",
         "type": "scatter",
         "x": [
          0,
          0.8044144243432666,
          0.8044144243432666,
          0
         ],
         "xaxis": "x",
         "y": [
          -1015,
          -1015,
          -1025,
          -1025
         ],
         "yaxis": "y"
        },
        {
         "hoverinfo": "text",
         "marker": {
          "color": "rgb(133,20,75)"
         },
         "mode": "lines",
         "type": "scatter",
         "x": [
          0.8044144243432666,
          0.9176215727744301,
          0.9176215727744301,
          0
         ],
         "xaxis": "x",
         "y": [
          -1020,
          -1020,
          -1035,
          -1035
         ],
         "yaxis": "y"
        },
        {
         "hoverinfo": "text",
         "marker": {
          "color": "rgb(255,220,0)"
         },
         "mode": "lines",
         "type": "scatter",
         "x": [
          0,
          0.767927490953076,
          0.767927490953076,
          0
         ],
         "xaxis": "x",
         "y": [
          -1045,
          -1045,
          -1055,
          -1055
         ],
         "yaxis": "y"
        },
        {
         "hoverinfo": "text",
         "marker": {
          "color": "rgb(0,116,217)"
         },
         "mode": "lines",
         "type": "scatter",
         "x": [
          0.9176215727744301,
          1.1214910550174424,
          1.1214910550174424,
          0.767927490953076
         ],
         "xaxis": "x",
         "y": [
          -1027.5,
          -1027.5,
          -1050,
          -1050
         ],
         "yaxis": "y"
        },
        {
         "hoverinfo": "text",
         "marker": {
          "color": "rgb(0,116,217)"
         },
         "mode": "lines",
         "type": "scatter",
         "x": [
          1.1461040184478877,
          1.159556867338118,
          1.159556867338118,
          1.1214910550174424
         ],
         "xaxis": "x",
         "y": [
          -719.12109375,
          -719.12109375,
          -1038.75,
          -1038.75
         ],
         "yaxis": "y"
        },
        {
         "hoverinfo": "text",
         "marker": {
          "color": "rgb(40,35,35)"
         },
         "mode": "lines",
         "type": "scatter",
         "x": [
          0,
          0.5814044386578741,
          0.5814044386578741,
          0
         ],
         "xaxis": "x",
         "y": [
          -1075,
          -1075,
          -1085,
          -1085
         ],
         "yaxis": "y"
        },
        {
         "hoverinfo": "text",
         "marker": {
          "color": "rgb(40,35,35)"
         },
         "mode": "lines",
         "type": "scatter",
         "x": [
          0,
          0.9293808550218738,
          0.9293808550218738,
          0.5814044386578741
         ],
         "xaxis": "x",
         "y": [
          -1065,
          -1065,
          -1080,
          -1080
         ],
         "yaxis": "y"
        },
        {
         "hoverinfo": "text",
         "marker": {
          "color": "rgb(0,116,217)"
         },
         "mode": "lines",
         "type": "scatter",
         "x": [
          1.159556867338118,
          1.2300512808324993,
          1.2300512808324993,
          0.9293808550218738
         ],
         "xaxis": "x",
         "y": [
          -878.935546875,
          -878.935546875,
          -1072.5,
          -1072.5
         ],
         "yaxis": "y"
        },
        {
         "hoverinfo": "text",
         "marker": {
          "color": "rgb(61,153,112)"
         },
         "mode": "lines",
         "type": "scatter",
         "x": [
          0,
          0.800725046396243,
          0.800725046396243,
          0
         ],
         "xaxis": "x",
         "y": [
          -1095,
          -1095,
          -1105,
          -1105
         ],
         "yaxis": "y"
        },
        {
         "hoverinfo": "text",
         "marker": {
          "color": "rgb(255,65,54)"
         },
         "mode": "lines",
         "type": "scatter",
         "x": [
          0,
          0.8301540250474068,
          0.8301540250474068,
          0
         ],
         "xaxis": "x",
         "y": [
          -1115,
          -1115,
          -1125,
          -1125
         ],
         "yaxis": "y"
        },
        {
         "hoverinfo": "text",
         "marker": {
          "color": "rgb(0,116,217)"
         },
         "mode": "lines",
         "type": "scatter",
         "x": [
          0.800725046396243,
          1.0151977659559555,
          1.0151977659559555,
          0.8301540250474068
         ],
         "xaxis": "x",
         "y": [
          -1100,
          -1100,
          -1120,
          -1120
         ],
         "yaxis": "y"
        },
        {
         "hoverinfo": "text",
         "marker": {
          "color": "rgb(35,205,205)"
         },
         "mode": "lines",
         "type": "scatter",
         "x": [
          0,
          0.7152177065829973,
          0.7152177065829973,
          0
         ],
         "xaxis": "x",
         "y": [
          -1145,
          -1145,
          -1155,
          -1155
         ],
         "yaxis": "y"
        },
        {
         "hoverinfo": "text",
         "marker": {
          "color": "rgb(35,205,205)"
         },
         "mode": "lines",
         "type": "scatter",
         "x": [
          0,
          0.8205735269994386,
          0.8205735269994386,
          0.7152177065829973
         ],
         "xaxis": "x",
         "y": [
          -1135,
          -1135,
          -1150,
          -1150
         ],
         "yaxis": "y"
        },
        {
         "hoverinfo": "text",
         "marker": {
          "color": "rgb(35,205,205)"
         },
         "mode": "lines",
         "type": "scatter",
         "x": [
          0.8205735269994386,
          0.9370718271667915,
          0.9370718271667915,
          0
         ],
         "xaxis": "x",
         "y": [
          -1142.5,
          -1142.5,
          -1165,
          -1165
         ],
         "yaxis": "y"
        },
        {
         "hoverinfo": "text",
         "marker": {
          "color": "rgb(0,116,217)"
         },
         "mode": "lines",
         "type": "scatter",
         "x": [
          1.0151977659559555,
          1.1242642611460323,
          1.1242642611460323,
          0.9370718271667915
         ],
         "xaxis": "x",
         "y": [
          -1110,
          -1110,
          -1153.75,
          -1153.75
         ],
         "yaxis": "y"
        },
        {
         "hoverinfo": "text",
         "marker": {
          "color": "rgb(61,153,112)"
         },
         "mode": "lines",
         "type": "scatter",
         "x": [
          0,
          0.6813340174528946,
          0.6813340174528946,
          0
         ],
         "xaxis": "x",
         "y": [
          -1175,
          -1175,
          -1185,
          -1185
         ],
         "yaxis": "y"
        },
        {
         "hoverinfo": "text",
         "marker": {
          "color": "rgb(61,153,112)"
         },
         "mode": "lines",
         "type": "scatter",
         "x": [
          0.6813340174528946,
          0.9140583378660903,
          0.9140583378660903,
          0
         ],
         "xaxis": "x",
         "y": [
          -1180,
          -1180,
          -1195,
          -1195
         ],
         "yaxis": "y"
        },
        {
         "hoverinfo": "text",
         "marker": {
          "color": "rgb(0,116,217)"
         },
         "mode": "lines",
         "type": "scatter",
         "x": [
          1.1242642611460323,
          1.1815915714701217,
          1.1815915714701217,
          0.9140583378660903
         ],
         "xaxis": "x",
         "y": [
          -1131.875,
          -1131.875,
          -1187.5,
          -1187.5
         ],
         "yaxis": "y"
        },
        {
         "hoverinfo": "text",
         "marker": {
          "color": "rgb(0,116,217)"
         },
         "mode": "lines",
         "type": "scatter",
         "x": [
          1.2300512808324993,
          1.2862418134057745,
          1.2862418134057745,
          1.1815915714701217
         ],
         "xaxis": "x",
         "y": [
          -975.7177734375,
          -975.7177734375,
          -1159.6875,
          -1159.6875
         ],
         "yaxis": "y"
        },
        {
         "hoverinfo": "text",
         "marker": {
          "color": "rgb(255,65,54)"
         },
         "mode": "lines",
         "type": "scatter",
         "x": [
          0,
          0.6391879560862428,
          0.6391879560862428,
          0
         ],
         "xaxis": "x",
         "y": [
          -1205,
          -1205,
          -1215,
          -1215
         ],
         "yaxis": "y"
        },
        {
         "hoverinfo": "text",
         "marker": {
          "color": "rgb(35,205,205)"
         },
         "mode": "lines",
         "type": "scatter",
         "x": [
          0,
          0.7180128670801891,
          0.7180128670801891,
          0
         ],
         "xaxis": "x",
         "y": [
          -1235,
          -1235,
          -1245,
          -1245
         ],
         "yaxis": "y"
        },
        {
         "hoverinfo": "text",
         "marker": {
          "color": "rgb(35,205,205)"
         },
         "mode": "lines",
         "type": "scatter",
         "x": [
          0,
          0.9291166032625519,
          0.9291166032625519,
          0.7180128670801891
         ],
         "xaxis": "x",
         "y": [
          -1225,
          -1225,
          -1240,
          -1240
         ],
         "yaxis": "y"
        },
        {
         "hoverinfo": "text",
         "marker": {
          "color": "rgb(0,116,217)"
         },
         "mode": "lines",
         "type": "scatter",
         "x": [
          0.6391879560862428,
          1.2278523377540045,
          1.2278523377540045,
          0.9291166032625519
         ],
         "xaxis": "x",
         "y": [
          -1210,
          -1210,
          -1232.5,
          -1232.5
         ],
         "yaxis": "y"
        },
        {
         "hoverinfo": "text",
         "marker": {
          "color": "rgb(0,116,217)"
         },
         "mode": "lines",
         "type": "scatter",
         "x": [
          1.2862418134057745,
          1.3007527153484226,
          1.3007527153484226,
          1.2278523377540045
         ],
         "xaxis": "x",
         "y": [
          -1067.70263671875,
          -1067.70263671875,
          -1221.25,
          -1221.25
         ],
         "yaxis": "y"
        },
        {
         "hoverinfo": "text",
         "marker": {
          "color": "rgb(0,116,217)"
         },
         "mode": "lines",
         "type": "scatter",
         "x": [
          1.1941667187288132,
          1.305419008167875,
          1.305419008167875,
          1.3007527153484226
         ],
         "xaxis": "x",
         "y": [
          -492.5,
          -492.5,
          -1144.476318359375,
          -1144.476318359375
         ],
         "yaxis": "y"
        },
        {
         "hoverinfo": "text",
         "marker": {
          "color": "rgb(133,20,75)"
         },
         "mode": "lines",
         "type": "scatter",
         "x": [
          0,
          0.3186105008396585,
          0.3186105008396585,
          0
         ],
         "xaxis": "x",
         "y": [
          -1255,
          -1255,
          -1265,
          -1265
         ],
         "yaxis": "y"
        },
        {
         "hoverinfo": "text",
         "marker": {
          "color": "rgb(255,220,0)"
         },
         "mode": "lines",
         "type": "scatter",
         "x": [
          0,
          0.3896664947615094,
          0.3896664947615094,
          0
         ],
         "xaxis": "x",
         "y": [
          -1275,
          -1275,
          -1285,
          -1285
         ],
         "yaxis": "y"
        },
        {
         "hoverinfo": "text",
         "marker": {
          "color": "rgb(255,220,0)"
         },
         "mode": "lines",
         "type": "scatter",
         "x": [
          0.3896664947615094,
          0.7005429309568638,
          0.7005429309568638,
          0
         ],
         "xaxis": "x",
         "y": [
          -1280,
          -1280,
          -1295,
          -1295
         ],
         "yaxis": "y"
        },
        {
         "hoverinfo": "text",
         "marker": {
          "color": "rgb(0,116,217)"
         },
         "mode": "lines",
         "type": "scatter",
         "x": [
          0.3186105008396585,
          1.2818801637396133,
          1.2818801637396133,
          0.7005429309568638
         ],
         "xaxis": "x",
         "y": [
          -1260,
          -1260,
          -1287.5,
          -1287.5
         ],
         "yaxis": "y"
        },
        {
         "hoverinfo": "text",
         "marker": {
          "color": "rgb(40,35,35)"
         },
         "mode": "lines",
         "type": "scatter",
         "x": [
          0,
          0.6686201842829358,
          0.6686201842829358,
          0
         ],
         "xaxis": "x",
         "y": [
          -1305,
          -1305,
          -1315,
          -1315
         ],
         "yaxis": "y"
        },
        {
         "hoverinfo": "text",
         "marker": {
          "color": "rgb(61,153,112)"
         },
         "mode": "lines",
         "type": "scatter",
         "x": [
          0,
          0.7567654407771036,
          0.7567654407771036,
          0
         ],
         "xaxis": "x",
         "y": [
          -1325,
          -1325,
          -1335,
          -1335
         ],
         "yaxis": "y"
        },
        {
         "hoverinfo": "text",
         "marker": {
          "color": "rgb(0,116,217)"
         },
         "mode": "lines",
         "type": "scatter",
         "x": [
          0.6686201842829358,
          1.0975430608932524,
          1.0975430608932524,
          0.7567654407771036
         ],
         "xaxis": "x",
         "y": [
          -1310,
          -1310,
          -1330,
          -1330
         ],
         "yaxis": "y"
        },
        {
         "hoverinfo": "text",
         "marker": {
          "color": "rgb(255,65,54)"
         },
         "mode": "lines",
         "type": "scatter",
         "x": [
          0,
          0.5597514839901272,
          0.5597514839901272,
          0
         ],
         "xaxis": "x",
         "y": [
          -1345,
          -1345,
          -1355,
          -1355
         ],
         "yaxis": "y"
        },
        {
         "hoverinfo": "text",
         "marker": {
          "color": "rgb(35,205,205)"
         },
         "mode": "lines",
         "type": "scatter",
         "x": [
          0,
          0.8565332644375332,
          0.8565332644375332,
          0
         ],
         "xaxis": "x",
         "y": [
          -1365,
          -1365,
          -1375,
          -1375
         ],
         "yaxis": "y"
        },
        {
         "hoverinfo": "text",
         "marker": {
          "color": "rgb(35,205,205)"
         },
         "mode": "lines",
         "type": "scatter",
         "x": [
          0,
          0.8597163905283511,
          0.8597163905283511,
          0
         ],
         "xaxis": "x",
         "y": [
          -1395,
          -1395,
          -1405,
          -1405
         ],
         "yaxis": "y"
        },
        {
         "hoverinfo": "text",
         "marker": {
          "color": "rgb(35,205,205)"
         },
         "mode": "lines",
         "type": "scatter",
         "x": [
          0,
          0.9570445241586029,
          0.9570445241586029,
          0.8597163905283511
         ],
         "xaxis": "x",
         "y": [
          -1385,
          -1385,
          -1400,
          -1400
         ],
         "yaxis": "y"
        },
        {
         "hoverinfo": "text",
         "marker": {
          "color": "rgb(35,205,205)"
         },
         "mode": "lines",
         "type": "scatter",
         "x": [
          0.8565332644375332,
          0.9853947886427,
          0.9853947886427,
          0.9570445241586029
         ],
         "xaxis": "x",
         "y": [
          -1370,
          -1370,
          -1392.5,
          -1392.5
         ],
         "yaxis": "y"
        },
        {
         "hoverinfo": "text",
         "marker": {
          "color": "rgb(61,153,112)"
         },
         "mode": "lines",
         "type": "scatter",
         "x": [
          0,
          0.8320176444109618,
          0.8320176444109618,
          0
         ],
         "xaxis": "x",
         "y": [
          -1415,
          -1415,
          -1425,
          -1425
         ],
         "yaxis": "y"
        },
        {
         "hoverinfo": "text",
         "marker": {
          "color": "rgb(255,65,54)"
         },
         "mode": "lines",
         "type": "scatter",
         "x": [
          0,
          0.8563330247936025,
          0.8563330247936025,
          0
         ],
         "xaxis": "x",
         "y": [
          -1435,
          -1435,
          -1445,
          -1445
         ],
         "yaxis": "y"
        },
        {
         "hoverinfo": "text",
         "marker": {
          "color": "rgb(0,116,217)"
         },
         "mode": "lines",
         "type": "scatter",
         "x": [
          0.8320176444109618,
          1.0194241625860807,
          1.0194241625860807,
          0.8563330247936025
         ],
         "xaxis": "x",
         "y": [
          -1420,
          -1420,
          -1440,
          -1440
         ],
         "yaxis": "y"
        },
        {
         "hoverinfo": "text",
         "marker": {
          "color": "rgb(35,205,205)"
         },
         "mode": "lines",
         "type": "scatter",
         "x": [
          0,
          0.8166575620841359,
          0.8166575620841359,
          0
         ],
         "xaxis": "x",
         "y": [
          -1455,
          -1455,
          -1465,
          -1465
         ],
         "yaxis": "y"
        },
        {
         "hoverinfo": "text",
         "marker": {
          "color": "rgb(35,205,205)"
         },
         "mode": "lines",
         "type": "scatter",
         "x": [
          0,
          0.9121239226285227,
          0.9121239226285227,
          0
         ],
         "xaxis": "x",
         "y": [
          -1475,
          -1475,
          -1485,
          -1485
         ],
         "yaxis": "y"
        },
        {
         "hoverinfo": "text",
         "marker": {
          "color": "rgb(35,205,205)"
         },
         "mode": "lines",
         "type": "scatter",
         "x": [
          0.8166575620841359,
          0.994537376660226,
          0.994537376660226,
          0.9121239226285227
         ],
         "xaxis": "x",
         "y": [
          -1460,
          -1460,
          -1480,
          -1480
         ],
         "yaxis": "y"
        },
        {
         "hoverinfo": "text",
         "marker": {
          "color": "rgb(0,116,217)"
         },
         "mode": "lines",
         "type": "scatter",
         "x": [
          1.0194241625860807,
          1.0382488345419163,
          1.0382488345419163,
          0.994537376660226
         ],
         "xaxis": "x",
         "y": [
          -1430,
          -1430,
          -1470,
          -1470
         ],
         "yaxis": "y"
        },
        {
         "hoverinfo": "text",
         "marker": {
          "color": "rgb(0,116,217)"
         },
         "mode": "lines",
         "type": "scatter",
         "x": [
          0.9853947886427,
          1.0817256550501617,
          1.0817256550501617,
          1.0382488345419163
         ],
         "xaxis": "x",
         "y": [
          -1381.25,
          -1381.25,
          -1450,
          -1450
         ],
         "yaxis": "y"
        },
        {
         "hoverinfo": "text",
         "marker": {
          "color": "rgb(133,20,75)"
         },
         "mode": "lines",
         "type": "scatter",
         "x": [
          0,
          0.7932890723951022,
          0.7932890723951022,
          0
         ],
         "xaxis": "x",
         "y": [
          -1505,
          -1505,
          -1515,
          -1515
         ],
         "yaxis": "y"
        },
        {
         "hoverinfo": "text",
         "marker": {
          "color": "rgb(133,20,75)"
         },
         "mode": "lines",
         "type": "scatter",
         "x": [
          0,
          0.8021607534734422,
          0.8021607534734422,
          0.7932890723951022
         ],
         "xaxis": "x",
         "y": [
          -1495,
          -1495,
          -1510,
          -1510
         ],
         "yaxis": "y"
        },
        {
         "hoverinfo": "text",
         "marker": {
          "color": "rgb(133,20,75)"
         },
         "mode": "lines",
         "type": "scatter",
         "x": [
          0,
          0.8782439544504059,
          0.8782439544504059,
          0
         ],
         "xaxis": "x",
         "y": [
          -1525,
          -1525,
          -1535,
          -1535
         ],
         "yaxis": "y"
        },
        {
         "hoverinfo": "text",
         "marker": {
          "color": "rgb(133,20,75)"
         },
         "mode": "lines",
         "type": "scatter",
         "x": [
          0.8021607534734422,
          0.9311866405482849,
          0.9311866405482849,
          0.8782439544504059
         ],
         "xaxis": "x",
         "y": [
          -1502.5,
          -1502.5,
          -1530,
          -1530
         ],
         "yaxis": "y"
        },
        {
         "hoverinfo": "text",
         "marker": {
          "color": "rgb(255,220,0)"
         },
         "mode": "lines",
         "type": "scatter",
         "x": [
          0,
          0.8586813319593773,
          0.8586813319593773,
          0
         ],
         "xaxis": "x",
         "y": [
          -1555,
          -1555,
          -1565,
          -1565
         ],
         "yaxis": "y"
        },
        {
         "hoverinfo": "text",
         "marker": {
          "color": "rgb(255,220,0)"
         },
         "mode": "lines",
         "type": "scatter",
         "x": [
          0,
          0.9489575931596134,
          0.9489575931596134,
          0.8586813319593773
         ],
         "xaxis": "x",
         "y": [
          -1545,
          -1545,
          -1560,
          -1560
         ],
         "yaxis": "y"
        },
        {
         "hoverinfo": "text",
         "marker": {
          "color": "rgb(40,35,35)"
         },
         "mode": "lines",
         "type": "scatter",
         "x": [
          0,
          0.8848004921717304,
          0.8848004921717304,
          0
         ],
         "xaxis": "x",
         "y": [
          -1575,
          -1575,
          -1585,
          -1585
         ],
         "yaxis": "y"
        },
        {
         "hoverinfo": "text",
         "marker": {
          "color": "rgb(40,35,35)"
         },
         "mode": "lines",
         "type": "scatter",
         "x": [
          0,
          0.7652031113103293,
          0.7652031113103293,
          0
         ],
         "xaxis": "x",
         "y": [
          -1605,
          -1605,
          -1615,
          -1615
         ],
         "yaxis": "y"
        },
        {
         "hoverinfo": "text",
         "marker": {
          "color": "rgb(40,35,35)"
         },
         "mode": "lines",
         "type": "scatter",
         "x": [
          0.7652031113103293,
          0.8186091466276381,
          0.8186091466276381,
          0
         ],
         "xaxis": "x",
         "y": [
          -1610,
          -1610,
          -1625,
          -1625
         ],
         "yaxis": "y"
        },
        {
         "hoverinfo": "text",
         "marker": {
          "color": "rgb(40,35,35)"
         },
         "mode": "lines",
         "type": "scatter",
         "x": [
          0.8186091466276381,
          0.8381926099302627,
          0.8381926099302627,
          0
         ],
         "xaxis": "x",
         "y": [
          -1617.5,
          -1617.5,
          -1635,
          -1635
         ],
         "yaxis": "y"
        },
        {
         "hoverinfo": "text",
         "marker": {
          "color": "rgb(40,35,35)"
         },
         "mode": "lines",
         "type": "scatter",
         "x": [
          0,
          0.8580051110383043,
          0.8580051110383043,
          0.8381926099302627
         ],
         "xaxis": "x",
         "y": [
          -1595,
          -1595,
          -1626.25,
          -1626.25
         ],
         "yaxis": "y"
        },
        {
         "hoverinfo": "text",
         "marker": {
          "color": "rgb(40,35,35)"
         },
         "mode": "lines",
         "type": "scatter",
         "x": [
          0.8580051110383043,
          0.8843952062577687,
          0.8843952062577687,
          0
         ],
         "xaxis": "x",
         "y": [
          -1610.625,
          -1610.625,
          -1645,
          -1645
         ],
         "yaxis": "y"
        },
        {
         "hoverinfo": "text",
         "marker": {
          "color": "rgb(40,35,35)"
         },
         "mode": "lines",
         "type": "scatter",
         "x": [
          0.8848004921717304,
          0.9843850480064341,
          0.9843850480064341,
          0.8843952062577687
         ],
         "xaxis": "x",
         "y": [
          -1580,
          -1580,
          -1627.8125,
          -1627.8125
         ],
         "yaxis": "y"
        },
        {
         "hoverinfo": "text",
         "marker": {
          "color": "rgb(40,35,35)"
         },
         "mode": "lines",
         "type": "scatter",
         "x": [
          0,
          0.8741318283526922,
          0.8741318283526922,
          0
         ],
         "xaxis": "x",
         "y": [
          -1665,
          -1665,
          -1675,
          -1675
         ],
         "yaxis": "y"
        },
        {
         "hoverinfo": "text",
         "marker": {
          "color": "rgb(40,35,35)"
         },
         "mode": "lines",
         "type": "scatter",
         "x": [
          0.8741318283526922,
          0.9218604736062822,
          0.9218604736062822,
          0
         ],
         "xaxis": "x",
         "y": [
          -1670,
          -1670,
          -1685,
          -1685
         ],
         "yaxis": "y"
        },
        {
         "hoverinfo": "text",
         "marker": {
          "color": "rgb(40,35,35)"
         },
         "mode": "lines",
         "type": "scatter",
         "x": [
          0,
          0.943013997607812,
          0.943013997607812,
          0.9218604736062822
         ],
         "xaxis": "x",
         "y": [
          -1655,
          -1655,
          -1677.5,
          -1677.5
         ],
         "yaxis": "y"
        },
        {
         "hoverinfo": "text",
         "marker": {
          "color": "rgb(40,35,35)"
         },
         "mode": "lines",
         "type": "scatter",
         "x": [
          0.943013997607812,
          0.9555759521523165,
          0.9555759521523165,
          0
         ],
         "xaxis": "x",
         "y": [
          -1666.25,
          -1666.25,
          -1695,
          -1695
         ],
         "yaxis": "y"
        },
        {
         "hoverinfo": "text",
         "marker": {
          "color": "rgb(40,35,35)"
         },
         "mode": "lines",
         "type": "scatter",
         "x": [
          0.9843850480064341,
          0.9999320859182077,
          0.9999320859182077,
          0.9555759521523165
         ],
         "xaxis": "x",
         "y": [
          -1603.90625,
          -1603.90625,
          -1680.625,
          -1680.625
         ],
         "yaxis": "y"
        },
        {
         "hoverinfo": "text",
         "marker": {
          "color": "rgb(0,116,217)"
         },
         "mode": "lines",
         "type": "scatter",
         "x": [
          0.9489575931596134,
          1.0391206833958,
          1.0391206833958,
          0.9999320859182077
         ],
         "xaxis": "x",
         "y": [
          -1552.5,
          -1552.5,
          -1642.265625,
          -1642.265625
         ],
         "yaxis": "y"
        },
        {
         "hoverinfo": "text",
         "marker": {
          "color": "rgb(61,153,112)"
         },
         "mode": "lines",
         "type": "scatter",
         "x": [
          0,
          0.8813072359444933,
          0.8813072359444933,
          0
         ],
         "xaxis": "x",
         "y": [
          -1705,
          -1705,
          -1715,
          -1715
         ],
         "yaxis": "y"
        },
        {
         "hoverinfo": "text",
         "marker": {
          "color": "rgb(61,153,112)"
         },
         "mode": "lines",
         "type": "scatter",
         "x": [
          0,
          0.8680699433334474,
          0.8680699433334474,
          0
         ],
         "xaxis": "x",
         "y": [
          -1725,
          -1725,
          -1735,
          -1735
         ],
         "yaxis": "y"
        },
        {
         "hoverinfo": "text",
         "marker": {
          "color": "rgb(61,153,112)"
         },
         "mode": "lines",
         "type": "scatter",
         "x": [
          0.8680699433334474,
          0.9255149336034236,
          0.9255149336034236,
          0
         ],
         "xaxis": "x",
         "y": [
          -1730,
          -1730,
          -1745,
          -1745
         ],
         "yaxis": "y"
        },
        {
         "hoverinfo": "text",
         "marker": {
          "color": "rgb(61,153,112)"
         },
         "mode": "lines",
         "type": "scatter",
         "x": [
          0.8813072359444933,
          0.9600436343844113,
          0.9600436343844113,
          0.9255149336034236
         ],
         "xaxis": "x",
         "y": [
          -1710,
          -1710,
          -1737.5,
          -1737.5
         ],
         "yaxis": "y"
        },
        {
         "hoverinfo": "text",
         "marker": {
          "color": "rgb(61,153,112)"
         },
         "mode": "lines",
         "type": "scatter",
         "x": [
          0.9600436343844113,
          0.9769090476288411,
          0.9769090476288411,
          0
         ],
         "xaxis": "x",
         "y": [
          -1723.75,
          -1723.75,
          -1755,
          -1755
         ],
         "yaxis": "y"
        },
        {
         "hoverinfo": "text",
         "marker": {
          "color": "rgb(0,116,217)"
         },
         "mode": "lines",
         "type": "scatter",
         "x": [
          1.0391206833958,
          1.0520434543210442,
          1.0520434543210442,
          0.9769090476288411
         ],
         "xaxis": "x",
         "y": [
          -1597.3828125,
          -1597.3828125,
          -1739.375,
          -1739.375
         ],
         "yaxis": "y"
        },
        {
         "hoverinfo": "text",
         "marker": {
          "color": "rgb(0,116,217)"
         },
         "mode": "lines",
         "type": "scatter",
         "x": [
          0.9311866405482849,
          1.096929460116712,
          1.096929460116712,
          1.0520434543210442
         ],
         "xaxis": "x",
         "y": [
          -1516.25,
          -1516.25,
          -1668.37890625,
          -1668.37890625
         ],
         "yaxis": "y"
        },
        {
         "hoverinfo": "text",
         "marker": {
          "color": "rgb(0,116,217)"
         },
         "mode": "lines",
         "type": "scatter",
         "x": [
          1.0817256550501617,
          1.1048379490528553,
          1.1048379490528553,
          1.096929460116712
         ],
         "xaxis": "x",
         "y": [
          -1415.625,
          -1415.625,
          -1592.314453125,
          -1592.314453125
         ],
         "yaxis": "y"
        },
        {
         "hoverinfo": "text",
         "marker": {
          "color": "rgb(0,116,217)"
         },
         "mode": "lines",
         "type": "scatter",
         "x": [
          0.5597514839901272,
          1.1538579139868914,
          1.1538579139868914,
          1.1048379490528553
         ],
         "xaxis": "x",
         "y": [
          -1350,
          -1350,
          -1503.9697265625,
          -1503.9697265625
         ],
         "yaxis": "y"
        },
        {
         "hoverinfo": "text",
         "marker": {
          "color": "rgb(255,65,54)"
         },
         "mode": "lines",
         "type": "scatter",
         "x": [
          0,
          0.5927278190378915,
          0.5927278190378915,
          0
         ],
         "xaxis": "x",
         "y": [
          -1765,
          -1765,
          -1775,
          -1775
         ],
         "yaxis": "y"
        },
        {
         "hoverinfo": "text",
         "marker": {
          "color": "rgb(0,116,217)"
         },
         "mode": "lines",
         "type": "scatter",
         "x": [
          1.1538579139868914,
          1.1828108750718294,
          1.1828108750718294,
          0.5927278190378915
         ],
         "xaxis": "x",
         "y": [
          -1426.98486328125,
          -1426.98486328125,
          -1770,
          -1770
         ],
         "yaxis": "y"
        },
        {
         "hoverinfo": "text",
         "marker": {
          "color": "rgb(0,116,217)"
         },
         "mode": "lines",
         "type": "scatter",
         "x": [
          1.0975430608932524,
          1.2020793166249528,
          1.2020793166249528,
          1.1828108750718294
         ],
         "xaxis": "x",
         "y": [
          -1320,
          -1320,
          -1598.492431640625,
          -1598.492431640625
         ],
         "yaxis": "y"
        },
        {
         "hoverinfo": "text",
         "marker": {
          "color": "rgb(35,205,205)"
         },
         "mode": "lines",
         "type": "scatter",
         "x": [
          0,
          0.6393266555685138,
          0.6393266555685138,
          0
         ],
         "xaxis": "x",
         "y": [
          -1785,
          -1785,
          -1795,
          -1795
         ],
         "yaxis": "y"
        },
        {
         "hoverinfo": "text",
         "marker": {
          "color": "rgb(35,205,205)"
         },
         "mode": "lines",
         "type": "scatter",
         "x": [
          0.6393266555685138,
          0.7416434075874047,
          0.7416434075874047,
          0
         ],
         "xaxis": "x",
         "y": [
          -1790,
          -1790,
          -1805,
          -1805
         ],
         "yaxis": "y"
        },
        {
         "hoverinfo": "text",
         "marker": {
          "color": "rgb(0,116,217)"
         },
         "mode": "lines",
         "type": "scatter",
         "x": [
          1.2020793166249528,
          1.2924745431370788,
          1.2924745431370788,
          0.7416434075874047
         ],
         "xaxis": "x",
         "y": [
          -1459.2462158203125,
          -1459.2462158203125,
          -1797.5,
          -1797.5
         ],
         "yaxis": "y"
        },
        {
         "hoverinfo": "text",
         "marker": {
          "color": "rgb(0,116,217)"
         },
         "mode": "lines",
         "type": "scatter",
         "x": [
          1.2818801637396133,
          1.3570101754000137,
          1.3570101754000137,
          1.2924745431370788
         ],
         "xaxis": "x",
         "y": [
          -1273.75,
          -1273.75,
          -1628.3731079101562,
          -1628.3731079101562
         ],
         "yaxis": "y"
        },
        {
         "hoverinfo": "text",
         "marker": {
          "color": "rgb(0,116,217)"
         },
         "mode": "lines",
         "type": "scatter",
         "x": [
          1.305419008167875,
          1.4068369996374142,
          1.4068369996374142,
          1.3570101754000137
         ],
         "xaxis": "x",
         "y": [
          -818.4881591796875,
          -818.4881591796875,
          -1451.0615539550781,
          -1451.0615539550781
         ],
         "yaxis": "y"
        },
        {
         "hoverinfo": "text",
         "marker": {
          "color": "rgb(61,153,112)"
         },
         "mode": "lines",
         "type": "scatter",
         "x": [
          0,
          0.44261424154711415,
          0.44261424154711415,
          0
         ],
         "xaxis": "x",
         "y": [
          -1825,
          -1825,
          -1835,
          -1835
         ],
         "yaxis": "y"
        },
        {
         "hoverinfo": "text",
         "marker": {
          "color": "rgb(61,153,112)"
         },
         "mode": "lines",
         "type": "scatter",
         "x": [
          0.44261424154711415,
          0.6817838585462008,
          0.6817838585462008,
          0
         ],
         "xaxis": "x",
         "y": [
          -1830,
          -1830,
          -1845,
          -1845
         ],
         "yaxis": "y"
        },
        {
         "hoverinfo": "text",
         "marker": {
          "color": "rgb(61,153,112)"
         },
         "mode": "lines",
         "type": "scatter",
         "x": [
          0,
          0.8847875174719606,
          0.8847875174719606,
          0.6817838585462008
         ],
         "xaxis": "x",
         "y": [
          -1815,
          -1815,
          -1837.5,
          -1837.5
         ],
         "yaxis": "y"
        },
        {
         "hoverinfo": "text",
         "marker": {
          "color": "rgb(255,65,54)"
         },
         "mode": "lines",
         "type": "scatter",
         "x": [
          0,
          0.2808435463291712,
          0.2808435463291712,
          0
         ],
         "xaxis": "x",
         "y": [
          -1855,
          -1855,
          -1865,
          -1865
         ],
         "yaxis": "y"
        },
        {
         "hoverinfo": "text",
         "marker": {
          "color": "rgb(0,116,217)"
         },
         "mode": "lines",
         "type": "scatter",
         "x": [
          0.8847875174719606,
          1.3317027067165943,
          1.3317027067165943,
          0.2808435463291712
         ],
         "xaxis": "x",
         "y": [
          -1826.25,
          -1826.25,
          -1860,
          -1860
         ],
         "yaxis": "y"
        },
        {
         "hoverinfo": "text",
         "marker": {
          "color": "rgb(35,205,205)"
         },
         "mode": "lines",
         "type": "scatter",
         "x": [
          0,
          0.8736771557910545,
          0.8736771557910545,
          0
         ],
         "xaxis": "x",
         "y": [
          -1875,
          -1875,
          -1885,
          -1885
         ],
         "yaxis": "y"
        },
        {
         "hoverinfo": "text",
         "marker": {
          "color": "rgb(35,205,205)"
         },
         "mode": "lines",
         "type": "scatter",
         "x": [
          0,
          0.7849591872163293,
          0.7849591872163293,
          0
         ],
         "xaxis": "x",
         "y": [
          -1895,
          -1895,
          -1905,
          -1905
         ],
         "yaxis": "y"
        },
        {
         "hoverinfo": "text",
         "marker": {
          "color": "rgb(35,205,205)"
         },
         "mode": "lines",
         "type": "scatter",
         "x": [
          0,
          0.7897953699183529,
          0.7897953699183529,
          0
         ],
         "xaxis": "x",
         "y": [
          -1925,
          -1925,
          -1935,
          -1935
         ],
         "yaxis": "y"
        },
        {
         "hoverinfo": "text",
         "marker": {
          "color": "rgb(35,205,205)"
         },
         "mode": "lines",
         "type": "scatter",
         "x": [
          0.7897953699183529,
          0.88236561131068,
          0.88236561131068,
          0
         ],
         "xaxis": "x",
         "y": [
          -1930,
          -1930,
          -1945,
          -1945
         ],
         "yaxis": "y"
        },
        {
         "hoverinfo": "text",
         "marker": {
          "color": "rgb(35,205,205)"
         },
         "mode": "lines",
         "type": "scatter",
         "x": [
          0,
          0.9102161320229015,
          0.9102161320229015,
          0.88236561131068
         ],
         "xaxis": "x",
         "y": [
          -1915,
          -1915,
          -1937.5,
          -1937.5
         ],
         "yaxis": "y"
        },
        {
         "hoverinfo": "text",
         "marker": {
          "color": "rgb(35,205,205)"
         },
         "mode": "lines",
         "type": "scatter",
         "x": [
          0.7849591872163293,
          0.9288427985649154,
          0.9288427985649154,
          0.9102161320229015
         ],
         "xaxis": "x",
         "y": [
          -1900,
          -1900,
          -1926.25,
          -1926.25
         ],
         "yaxis": "y"
        },
        {
         "hoverinfo": "text",
         "marker": {
          "color": "rgb(35,205,205)"
         },
         "mode": "lines",
         "type": "scatter",
         "x": [
          0.8736771557910545,
          0.9995828363600617,
          0.9995828363600617,
          0.9288427985649154
         ],
         "xaxis": "x",
         "y": [
          -1880,
          -1880,
          -1913.125,
          -1913.125
         ],
         "yaxis": "y"
        },
        {
         "hoverinfo": "text",
         "marker": {
          "color": "rgb(133,20,75)"
         },
         "mode": "lines",
         "type": "scatter",
         "x": [
          0,
          0.619618872943693,
          0.619618872943693,
          0
         ],
         "xaxis": "x",
         "y": [
          -1955,
          -1955,
          -1965,
          -1965
         ],
         "yaxis": "y"
        },
        {
         "hoverinfo": "text",
         "marker": {
          "color": "rgb(255,220,0)"
         },
         "mode": "lines",
         "type": "scatter",
         "x": [
          0,
          0.7431571504879538,
          0.7431571504879538,
          0
         ],
         "xaxis": "x",
         "y": [
          -1985,
          -1985,
          -1995,
          -1995
         ],
         "yaxis": "y"
        },
        {
         "hoverinfo": "text",
         "marker": {
          "color": "rgb(255,220,0)"
         },
         "mode": "lines",
         "type": "scatter",
         "x": [
          0,
          0.8980114801320344,
          0.8980114801320344,
          0.7431571504879538
         ],
         "xaxis": "x",
         "y": [
          -1975,
          -1975,
          -1990,
          -1990
         ],
         "yaxis": "y"
        },
        {
         "hoverinfo": "text",
         "marker": {
          "color": "rgb(255,220,0)"
         },
         "mode": "lines",
         "type": "scatter",
         "x": [
          0,
          0.8816724937042069,
          0.8816724937042069,
          0
         ],
         "xaxis": "x",
         "y": [
          -2005,
          -2005,
          -2015,
          -2015
         ],
         "yaxis": "y"
        },
        {
         "hoverinfo": "text",
         "marker": {
          "color": "rgb(255,220,0)"
         },
         "mode": "lines",
         "type": "scatter",
         "x": [
          0.8980114801320344,
          0.9962771542012855,
          0.9962771542012855,
          0.8816724937042069
         ],
         "xaxis": "x",
         "y": [
          -1982.5,
          -1982.5,
          -2010,
          -2010
         ],
         "yaxis": "y"
        },
        {
         "hoverinfo": "text",
         "marker": {
          "color": "rgb(0,116,217)"
         },
         "mode": "lines",
         "type": "scatter",
         "x": [
          0.619618872943693,
          1.0250928784653393,
          1.0250928784653393,
          0.9962771542012855
         ],
         "xaxis": "x",
         "y": [
          -1960,
          -1960,
          -1996.25,
          -1996.25
         ],
         "yaxis": "y"
        },
        {
         "hoverinfo": "text",
         "marker": {
          "color": "rgb(0,116,217)"
         },
         "mode": "lines",
         "type": "scatter",
         "x": [
          0.9995828363600617,
          1.1209562081495812,
          1.1209562081495812,
          1.0250928784653393
         ],
         "xaxis": "x",
         "y": [
          -1896.5625,
          -1896.5625,
          -1978.125,
          -1978.125
         ],
         "yaxis": "y"
        },
        {
         "hoverinfo": "text",
         "marker": {
          "color": "rgb(40,35,35)"
         },
         "mode": "lines",
         "type": "scatter",
         "x": [
          0,
          0.8342795137111784,
          0.8342795137111784,
          0
         ],
         "xaxis": "x",
         "y": [
          -2025,
          -2025,
          -2035,
          -2035
         ],
         "yaxis": "y"
        },
        {
         "hoverinfo": "text",
         "marker": {
          "color": "rgb(40,35,35)"
         },
         "mode": "lines",
         "type": "scatter",
         "x": [
          0,
          0.7519761732887933,
          0.7519761732887933,
          0
         ],
         "xaxis": "x",
         "y": [
          -2045,
          -2045,
          -2055,
          -2055
         ],
         "yaxis": "y"
        },
        {
         "hoverinfo": "text",
         "marker": {
          "color": "rgb(40,35,35)"
         },
         "mode": "lines",
         "type": "scatter",
         "x": [
          0.8342795137111784,
          0.9318796259753348,
          0.9318796259753348,
          0.7519761732887933
         ],
         "xaxis": "x",
         "y": [
          -2030,
          -2030,
          -2050,
          -2050
         ],
         "yaxis": "y"
        },
        {
         "hoverinfo": "text",
         "marker": {
          "color": "rgb(61,153,112)"
         },
         "mode": "lines",
         "type": "scatter",
         "x": [
          0,
          0.6560549383762297,
          0.6560549383762297,
          0
         ],
         "xaxis": "x",
         "y": [
          -2075,
          -2075,
          -2085,
          -2085
         ],
         "yaxis": "y"
        },
        {
         "hoverinfo": "text",
         "marker": {
          "color": "rgb(61,153,112)"
         },
         "mode": "lines",
         "type": "scatter",
         "x": [
          0,
          0.9395425945664038,
          0.9395425945664038,
          0.6560549383762297
         ],
         "xaxis": "x",
         "y": [
          -2065,
          -2065,
          -2080,
          -2080
         ],
         "yaxis": "y"
        },
        {
         "hoverinfo": "text",
         "marker": {
          "color": "rgb(61,153,112)"
         },
         "mode": "lines",
         "type": "scatter",
         "x": [
          0,
          0.7877961573584598,
          0.7877961573584598,
          0
         ],
         "xaxis": "x",
         "y": [
          -2095,
          -2095,
          -2105,
          -2105
         ],
         "yaxis": "y"
        },
        {
         "hoverinfo": "text",
         "marker": {
          "color": "rgb(61,153,112)"
         },
         "mode": "lines",
         "type": "scatter",
         "x": [
          0.7877961573584598,
          0.8975105277052009,
          0.8975105277052009,
          0
         ],
         "xaxis": "x",
         "y": [
          -2100,
          -2100,
          -2115,
          -2115
         ],
         "yaxis": "y"
        },
        {
         "hoverinfo": "text",
         "marker": {
          "color": "rgb(61,153,112)"
         },
         "mode": "lines",
         "type": "scatter",
         "x": [
          0.9395425945664038,
          0.982998253666235,
          0.982998253666235,
          0.8975105277052009
         ],
         "xaxis": "x",
         "y": [
          -2072.5,
          -2072.5,
          -2107.5,
          -2107.5
         ],
         "yaxis": "y"
        },
        {
         "hoverinfo": "text",
         "marker": {
          "color": "rgb(0,116,217)"
         },
         "mode": "lines",
         "type": "scatter",
         "x": [
          0.9318796259753348,
          1.059768469646882,
          1.059768469646882,
          0.982998253666235
         ],
         "xaxis": "x",
         "y": [
          -2040,
          -2040,
          -2090,
          -2090
         ],
         "yaxis": "y"
        },
        {
         "hoverinfo": "text",
         "marker": {
          "color": "rgb(0,116,217)"
         },
         "mode": "lines",
         "type": "scatter",
         "x": [
          1.1209562081495812,
          1.2205259831875832,
          1.2205259831875832,
          1.059768469646882
         ],
         "xaxis": "x",
         "y": [
          -1937.34375,
          -1937.34375,
          -2065,
          -2065
         ],
         "yaxis": "y"
        },
        {
         "hoverinfo": "text",
         "marker": {
          "color": "rgb(255,65,54)"
         },
         "mode": "lines",
         "type": "scatter",
         "x": [
          0,
          0.43825207531965527,
          0.43825207531965527,
          0
         ],
         "xaxis": "x",
         "y": [
          -2125,
          -2125,
          -2135,
          -2135
         ],
         "yaxis": "y"
        },
        {
         "hoverinfo": "text",
         "marker": {
          "color": "rgb(35,205,205)"
         },
         "mode": "lines",
         "type": "scatter",
         "x": [
          0,
          0.7173343846031652,
          0.7173343846031652,
          0
         ],
         "xaxis": "x",
         "y": [
          -2145,
          -2145,
          -2155,
          -2155
         ],
         "yaxis": "y"
        },
        {
         "hoverinfo": "text",
         "marker": {
          "color": "rgb(61,153,112)"
         },
         "mode": "lines",
         "type": "scatter",
         "x": [
          0,
          0.45601344049427783,
          0.45601344049427783,
          0
         ],
         "xaxis": "x",
         "y": [
          -2165,
          -2165,
          -2175,
          -2175
         ],
         "yaxis": "y"
        },
        {
         "hoverinfo": "text",
         "marker": {
          "color": "rgb(61,153,112)"
         },
         "mode": "lines",
         "type": "scatter",
         "x": [
          0.45601344049427783,
          0.8390322956488423,
          0.8390322956488423,
          0
         ],
         "xaxis": "x",
         "y": [
          -2170,
          -2170,
          -2185,
          -2185
         ],
         "yaxis": "y"
        },
        {
         "hoverinfo": "text",
         "marker": {
          "color": "rgb(0,116,217)"
         },
         "mode": "lines",
         "type": "scatter",
         "x": [
          0.7173343846031652,
          1.0840906413602847,
          1.0840906413602847,
          0.8390322956488423
         ],
         "xaxis": "x",
         "y": [
          -2150,
          -2150,
          -2177.5,
          -2177.5
         ],
         "yaxis": "y"
        },
        {
         "hoverinfo": "text",
         "marker": {
          "color": "rgb(255,65,54)"
         },
         "mode": "lines",
         "type": "scatter",
         "x": [
          0,
          0.7727359901365025,
          0.7727359901365025,
          0
         ],
         "xaxis": "x",
         "y": [
          -2205,
          -2205,
          -2215,
          -2215
         ],
         "yaxis": "y"
        },
        {
         "hoverinfo": "text",
         "marker": {
          "color": "rgb(255,65,54)"
         },
         "mode": "lines",
         "type": "scatter",
         "x": [
          0,
          0.9077644281169482,
          0.9077644281169482,
          0.7727359901365025
         ],
         "xaxis": "x",
         "y": [
          -2195,
          -2195,
          -2210,
          -2210
         ],
         "yaxis": "y"
        },
        {
         "hoverinfo": "text",
         "marker": {
          "color": "rgb(255,65,54)"
         },
         "mode": "lines",
         "type": "scatter",
         "x": [
          0,
          0.886584147859269,
          0.886584147859269,
          0
         ],
         "xaxis": "x",
         "y": [
          -2225,
          -2225,
          -2235,
          -2235
         ],
         "yaxis": "y"
        },
        {
         "hoverinfo": "text",
         "marker": {
          "color": "rgb(255,65,54)"
         },
         "mode": "lines",
         "type": "scatter",
         "x": [
          0.9077644281169482,
          0.9575915229585164,
          0.9575915229585164,
          0.886584147859269
         ],
         "xaxis": "x",
         "y": [
          -2202.5,
          -2202.5,
          -2230,
          -2230
         ],
         "yaxis": "y"
        },
        {
         "hoverinfo": "text",
         "marker": {
          "color": "rgb(35,205,205)"
         },
         "mode": "lines",
         "type": "scatter",
         "x": [
          0,
          0.7642718090811766,
          0.7642718090811766,
          0
         ],
         "xaxis": "x",
         "y": [
          -2255,
          -2255,
          -2265,
          -2265
         ],
         "yaxis": "y"
        },
        {
         "hoverinfo": "text",
         "marker": {
          "color": "rgb(35,205,205)"
         },
         "mode": "lines",
         "type": "scatter",
         "x": [
          0,
          0.8997204009805512,
          0.8997204009805512,
          0.7642718090811766
         ],
         "xaxis": "x",
         "y": [
          -2245,
          -2245,
          -2260,
          -2260
         ],
         "yaxis": "y"
        },
        {
         "hoverinfo": "text",
         "marker": {
          "color": "rgb(0,116,217)"
         },
         "mode": "lines",
         "type": "scatter",
         "x": [
          0.9575915229585164,
          1.117867211369963,
          1.117867211369963,
          0.8997204009805512
         ],
         "xaxis": "x",
         "y": [
          -2216.25,
          -2216.25,
          -2252.5,
          -2252.5
         ],
         "yaxis": "y"
        },
        {
         "hoverinfo": "text",
         "marker": {
          "color": "rgb(0,116,217)"
         },
         "mode": "lines",
         "type": "scatter",
         "x": [
          1.0840906413602847,
          1.187573019323015,
          1.187573019323015,
          1.117867211369963
         ],
         "xaxis": "x",
         "y": [
          -2163.75,
          -2163.75,
          -2234.375,
          -2234.375
         ],
         "yaxis": "y"
        },
        {
         "hoverinfo": "text",
         "marker": {
          "color": "rgb(133,20,75)"
         },
         "mode": "lines",
         "type": "scatter",
         "x": [
          0,
          0.34288141297403807,
          0.34288141297403807,
          0
         ],
         "xaxis": "x",
         "y": [
          -2275,
          -2275,
          -2285,
          -2285
         ],
         "yaxis": "y"
        },
        {
         "hoverinfo": "text",
         "marker": {
          "color": "rgb(255,220,0)"
         },
         "mode": "lines",
         "type": "scatter",
         "x": [
          0,
          0.6328338933101891,
          0.6328338933101891,
          0
         ],
         "xaxis": "x",
         "y": [
          -2295,
          -2295,
          -2305,
          -2305
         ],
         "yaxis": "y"
        },
        {
         "hoverinfo": "text",
         "marker": {
          "color": "rgb(0,116,217)"
         },
         "mode": "lines",
         "type": "scatter",
         "x": [
          0.34288141297403807,
          1.1677032091113888,
          1.1677032091113888,
          0.6328338933101891
         ],
         "xaxis": "x",
         "y": [
          -2280,
          -2280,
          -2300,
          -2300
         ],
         "yaxis": "y"
        },
        {
         "hoverinfo": "text",
         "marker": {
          "color": "rgb(0,116,217)"
         },
         "mode": "lines",
         "type": "scatter",
         "x": [
          1.187573019323015,
          1.2361244795895747,
          1.2361244795895747,
          1.1677032091113888
         ],
         "xaxis": "x",
         "y": [
          -2199.0625,
          -2199.0625,
          -2290,
          -2290
         ],
         "yaxis": "y"
        },
        {
         "hoverinfo": "text",
         "marker": {
          "color": "rgb(0,116,217)"
         },
         "mode": "lines",
         "type": "scatter",
         "x": [
          0.43825207531965527,
          1.249716388664482,
          1.249716388664482,
          1.2361244795895747
         ],
         "xaxis": "x",
         "y": [
          -2130,
          -2130,
          -2244.53125,
          -2244.53125
         ],
         "yaxis": "y"
        },
        {
         "hoverinfo": "text",
         "marker": {
          "color": "rgb(40,35,35)"
         },
         "mode": "lines",
         "type": "scatter",
         "x": [
          0,
          0.38446956200328186,
          0.38446956200328186,
          0
         ],
         "xaxis": "x",
         "y": [
          -2315,
          -2315,
          -2325,
          -2325
         ],
         "yaxis": "y"
        },
        {
         "hoverinfo": "text",
         "marker": {
          "color": "rgb(40,35,35)"
         },
         "mode": "lines",
         "type": "scatter",
         "x": [
          0.38446956200328186,
          0.806350508334346,
          0.806350508334346,
          0
         ],
         "xaxis": "x",
         "y": [
          -2320,
          -2320,
          -2335,
          -2335
         ],
         "yaxis": "y"
        },
        {
         "hoverinfo": "text",
         "marker": {
          "color": "rgb(0,116,217)"
         },
         "mode": "lines",
         "type": "scatter",
         "x": [
          1.249716388664482,
          1.276561024667166,
          1.276561024667166,
          0.806350508334346
         ],
         "xaxis": "x",
         "y": [
          -2187.265625,
          -2187.265625,
          -2327.5,
          -2327.5
         ],
         "yaxis": "y"
        },
        {
         "hoverinfo": "text",
         "marker": {
          "color": "rgb(0,116,217)"
         },
         "mode": "lines",
         "type": "scatter",
         "x": [
          1.2205259831875832,
          1.3345611381833102,
          1.3345611381833102,
          1.276561024667166
         ],
         "xaxis": "x",
         "y": [
          -2001.171875,
          -2001.171875,
          -2257.3828125,
          -2257.3828125
         ],
         "yaxis": "y"
        },
        {
         "hoverinfo": "text",
         "marker": {
          "color": "rgb(0,116,217)"
         },
         "mode": "lines",
         "type": "scatter",
         "x": [
          1.3317027067165943,
          1.3863372488161436,
          1.3863372488161436,
          1.3345611381833102
         ],
         "xaxis": "x",
         "y": [
          -1843.125,
          -1843.125,
          -2129.27734375,
          -2129.27734375
         ],
         "yaxis": "y"
        },
        {
         "hoverinfo": "text",
         "marker": {
          "color": "rgb(0,116,217)"
         },
         "mode": "lines",
         "type": "scatter",
         "x": [
          1.4068369996374142,
          1.6075852851782801,
          1.6075852851782801,
          1.3863372488161436
         ],
         "xaxis": "x",
         "y": [
          -1134.7748565673828,
          -1134.7748565673828,
          -1986.201171875,
          -1986.201171875
         ],
         "yaxis": "y"
        },
        {
         "hoverinfo": "text",
         "marker": {
          "color": "rgb(0,116,217)"
         },
         "mode": "lines",
         "type": "scatter",
         "x": [
          1.5093827941278666,
          1.7002295844084134,
          1.7002295844084134,
          1.6075852851782801
         ],
         "xaxis": "x",
         "y": [
          -279.6826171875,
          -279.6826171875,
          -1560.4880142211914,
          -1560.4880142211914
         ],
         "yaxis": "y"
        }
       ],
       "layout": {
        "autosize": false,
        "height": 3710,
        "hoverlabel": {
         "bgcolor": "white",
         "font": {
          "family": "Rockwell",
          "size": 16
         }
        },
        "hovermode": "closest",
        "plot_bgcolor": "#ECEFF1",
        "showlegend": false,
        "template": {
         "data": {
          "bar": [
           {
            "error_x": {
             "color": "#2a3f5f"
            },
            "error_y": {
             "color": "#2a3f5f"
            },
            "marker": {
             "line": {
              "color": "white",
              "width": 0.5
             },
             "pattern": {
              "fillmode": "overlay",
              "size": 10,
              "solidity": 0.2
             }
            },
            "type": "bar"
           }
          ],
          "barpolar": [
           {
            "marker": {
             "line": {
              "color": "white",
              "width": 0.5
             },
             "pattern": {
              "fillmode": "overlay",
              "size": 10,
              "solidity": 0.2
             }
            },
            "type": "barpolar"
           }
          ],
          "carpet": [
           {
            "aaxis": {
             "endlinecolor": "#2a3f5f",
             "gridcolor": "#C8D4E3",
             "linecolor": "#C8D4E3",
             "minorgridcolor": "#C8D4E3",
             "startlinecolor": "#2a3f5f"
            },
            "baxis": {
             "endlinecolor": "#2a3f5f",
             "gridcolor": "#C8D4E3",
             "linecolor": "#C8D4E3",
             "minorgridcolor": "#C8D4E3",
             "startlinecolor": "#2a3f5f"
            },
            "type": "carpet"
           }
          ],
          "choropleth": [
           {
            "colorbar": {
             "outlinewidth": 0,
             "ticks": ""
            },
            "type": "choropleth"
           }
          ],
          "contour": [
           {
            "colorbar": {
             "outlinewidth": 0,
             "ticks": ""
            },
            "colorscale": [
             [
              0,
              "#0d0887"
             ],
             [
              0.1111111111111111,
              "#46039f"
             ],
             [
              0.2222222222222222,
              "#7201a8"
             ],
             [
              0.3333333333333333,
              "#9c179e"
             ],
             [
              0.4444444444444444,
              "#bd3786"
             ],
             [
              0.5555555555555556,
              "#d8576b"
             ],
             [
              0.6666666666666666,
              "#ed7953"
             ],
             [
              0.7777777777777778,
              "#fb9f3a"
             ],
             [
              0.8888888888888888,
              "#fdca26"
             ],
             [
              1,
              "#f0f921"
             ]
            ],
            "type": "contour"
           }
          ],
          "contourcarpet": [
           {
            "colorbar": {
             "outlinewidth": 0,
             "ticks": ""
            },
            "type": "contourcarpet"
           }
          ],
          "heatmap": [
           {
            "colorbar": {
             "outlinewidth": 0,
             "ticks": ""
            },
            "colorscale": [
             [
              0,
              "#0d0887"
             ],
             [
              0.1111111111111111,
              "#46039f"
             ],
             [
              0.2222222222222222,
              "#7201a8"
             ],
             [
              0.3333333333333333,
              "#9c179e"
             ],
             [
              0.4444444444444444,
              "#bd3786"
             ],
             [
              0.5555555555555556,
              "#d8576b"
             ],
             [
              0.6666666666666666,
              "#ed7953"
             ],
             [
              0.7777777777777778,
              "#fb9f3a"
             ],
             [
              0.8888888888888888,
              "#fdca26"
             ],
             [
              1,
              "#f0f921"
             ]
            ],
            "type": "heatmap"
           }
          ],
          "heatmapgl": [
           {
            "colorbar": {
             "outlinewidth": 0,
             "ticks": ""
            },
            "colorscale": [
             [
              0,
              "#0d0887"
             ],
             [
              0.1111111111111111,
              "#46039f"
             ],
             [
              0.2222222222222222,
              "#7201a8"
             ],
             [
              0.3333333333333333,
              "#9c179e"
             ],
             [
              0.4444444444444444,
              "#bd3786"
             ],
             [
              0.5555555555555556,
              "#d8576b"
             ],
             [
              0.6666666666666666,
              "#ed7953"
             ],
             [
              0.7777777777777778,
              "#fb9f3a"
             ],
             [
              0.8888888888888888,
              "#fdca26"
             ],
             [
              1,
              "#f0f921"
             ]
            ],
            "type": "heatmapgl"
           }
          ],
          "histogram": [
           {
            "marker": {
             "pattern": {
              "fillmode": "overlay",
              "size": 10,
              "solidity": 0.2
             }
            },
            "type": "histogram"
           }
          ],
          "histogram2d": [
           {
            "colorbar": {
             "outlinewidth": 0,
             "ticks": ""
            },
            "colorscale": [
             [
              0,
              "#0d0887"
             ],
             [
              0.1111111111111111,
              "#46039f"
             ],
             [
              0.2222222222222222,
              "#7201a8"
             ],
             [
              0.3333333333333333,
              "#9c179e"
             ],
             [
              0.4444444444444444,
              "#bd3786"
             ],
             [
              0.5555555555555556,
              "#d8576b"
             ],
             [
              0.6666666666666666,
              "#ed7953"
             ],
             [
              0.7777777777777778,
              "#fb9f3a"
             ],
             [
              0.8888888888888888,
              "#fdca26"
             ],
             [
              1,
              "#f0f921"
             ]
            ],
            "type": "histogram2d"
           }
          ],
          "histogram2dcontour": [
           {
            "colorbar": {
             "outlinewidth": 0,
             "ticks": ""
            },
            "colorscale": [
             [
              0,
              "#0d0887"
             ],
             [
              0.1111111111111111,
              "#46039f"
             ],
             [
              0.2222222222222222,
              "#7201a8"
             ],
             [
              0.3333333333333333,
              "#9c179e"
             ],
             [
              0.4444444444444444,
              "#bd3786"
             ],
             [
              0.5555555555555556,
              "#d8576b"
             ],
             [
              0.6666666666666666,
              "#ed7953"
             ],
             [
              0.7777777777777778,
              "#fb9f3a"
             ],
             [
              0.8888888888888888,
              "#fdca26"
             ],
             [
              1,
              "#f0f921"
             ]
            ],
            "type": "histogram2dcontour"
           }
          ],
          "mesh3d": [
           {
            "colorbar": {
             "outlinewidth": 0,
             "ticks": ""
            },
            "type": "mesh3d"
           }
          ],
          "parcoords": [
           {
            "line": {
             "colorbar": {
              "outlinewidth": 0,
              "ticks": ""
             }
            },
            "type": "parcoords"
           }
          ],
          "pie": [
           {
            "automargin": true,
            "type": "pie"
           }
          ],
          "scatter": [
           {
            "fillpattern": {
             "fillmode": "overlay",
             "size": 10,
             "solidity": 0.2
            },
            "type": "scatter"
           }
          ],
          "scatter3d": [
           {
            "line": {
             "colorbar": {
              "outlinewidth": 0,
              "ticks": ""
             }
            },
            "marker": {
             "colorbar": {
              "outlinewidth": 0,
              "ticks": ""
             }
            },
            "type": "scatter3d"
           }
          ],
          "scattercarpet": [
           {
            "marker": {
             "colorbar": {
              "outlinewidth": 0,
              "ticks": ""
             }
            },
            "type": "scattercarpet"
           }
          ],
          "scattergeo": [
           {
            "marker": {
             "colorbar": {
              "outlinewidth": 0,
              "ticks": ""
             }
            },
            "type": "scattergeo"
           }
          ],
          "scattergl": [
           {
            "marker": {
             "colorbar": {
              "outlinewidth": 0,
              "ticks": ""
             }
            },
            "type": "scattergl"
           }
          ],
          "scattermapbox": [
           {
            "marker": {
             "colorbar": {
              "outlinewidth": 0,
              "ticks": ""
             }
            },
            "type": "scattermapbox"
           }
          ],
          "scatterpolar": [
           {
            "marker": {
             "colorbar": {
              "outlinewidth": 0,
              "ticks": ""
             }
            },
            "type": "scatterpolar"
           }
          ],
          "scatterpolargl": [
           {
            "marker": {
             "colorbar": {
              "outlinewidth": 0,
              "ticks": ""
             }
            },
            "type": "scatterpolargl"
           }
          ],
          "scatterternary": [
           {
            "marker": {
             "colorbar": {
              "outlinewidth": 0,
              "ticks": ""
             }
            },
            "type": "scatterternary"
           }
          ],
          "surface": [
           {
            "colorbar": {
             "outlinewidth": 0,
             "ticks": ""
            },
            "colorscale": [
             [
              0,
              "#0d0887"
             ],
             [
              0.1111111111111111,
              "#46039f"
             ],
             [
              0.2222222222222222,
              "#7201a8"
             ],
             [
              0.3333333333333333,
              "#9c179e"
             ],
             [
              0.4444444444444444,
              "#bd3786"
             ],
             [
              0.5555555555555556,
              "#d8576b"
             ],
             [
              0.6666666666666666,
              "#ed7953"
             ],
             [
              0.7777777777777778,
              "#fb9f3a"
             ],
             [
              0.8888888888888888,
              "#fdca26"
             ],
             [
              1,
              "#f0f921"
             ]
            ],
            "type": "surface"
           }
          ],
          "table": [
           {
            "cells": {
             "fill": {
              "color": "#EBF0F8"
             },
             "line": {
              "color": "white"
             }
            },
            "header": {
             "fill": {
              "color": "#C8D4E3"
             },
             "line": {
              "color": "white"
             }
            },
            "type": "table"
           }
          ]
         },
         "layout": {
          "annotationdefaults": {
           "arrowcolor": "#2a3f5f",
           "arrowhead": 0,
           "arrowwidth": 1
          },
          "autotypenumbers": "strict",
          "coloraxis": {
           "colorbar": {
            "outlinewidth": 0,
            "ticks": ""
           }
          },
          "colorscale": {
           "diverging": [
            [
             0,
             "#8e0152"
            ],
            [
             0.1,
             "#c51b7d"
            ],
            [
             0.2,
             "#de77ae"
            ],
            [
             0.3,
             "#f1b6da"
            ],
            [
             0.4,
             "#fde0ef"
            ],
            [
             0.5,
             "#f7f7f7"
            ],
            [
             0.6,
             "#e6f5d0"
            ],
            [
             0.7,
             "#b8e186"
            ],
            [
             0.8,
             "#7fbc41"
            ],
            [
             0.9,
             "#4d9221"
            ],
            [
             1,
             "#276419"
            ]
           ],
           "sequential": [
            [
             0,
             "#0d0887"
            ],
            [
             0.1111111111111111,
             "#46039f"
            ],
            [
             0.2222222222222222,
             "#7201a8"
            ],
            [
             0.3333333333333333,
             "#9c179e"
            ],
            [
             0.4444444444444444,
             "#bd3786"
            ],
            [
             0.5555555555555556,
             "#d8576b"
            ],
            [
             0.6666666666666666,
             "#ed7953"
            ],
            [
             0.7777777777777778,
             "#fb9f3a"
            ],
            [
             0.8888888888888888,
             "#fdca26"
            ],
            [
             1,
             "#f0f921"
            ]
           ],
           "sequentialminus": [
            [
             0,
             "#0d0887"
            ],
            [
             0.1111111111111111,
             "#46039f"
            ],
            [
             0.2222222222222222,
             "#7201a8"
            ],
            [
             0.3333333333333333,
             "#9c179e"
            ],
            [
             0.4444444444444444,
             "#bd3786"
            ],
            [
             0.5555555555555556,
             "#d8576b"
            ],
            [
             0.6666666666666666,
             "#ed7953"
            ],
            [
             0.7777777777777778,
             "#fb9f3a"
            ],
            [
             0.8888888888888888,
             "#fdca26"
            ],
            [
             1,
             "#f0f921"
            ]
           ]
          },
          "colorway": [
           "#636efa",
           "#EF553B",
           "#00cc96",
           "#ab63fa",
           "#FFA15A",
           "#19d3f3",
           "#FF6692",
           "#B6E880",
           "#FF97FF",
           "#FECB52"
          ],
          "font": {
           "color": "#2a3f5f"
          },
          "geo": {
           "bgcolor": "white",
           "lakecolor": "white",
           "landcolor": "white",
           "showlakes": true,
           "showland": true,
           "subunitcolor": "#C8D4E3"
          },
          "hoverlabel": {
           "align": "left"
          },
          "hovermode": "closest",
          "mapbox": {
           "style": "light"
          },
          "paper_bgcolor": "white",
          "plot_bgcolor": "white",
          "polar": {
           "angularaxis": {
            "gridcolor": "#EBF0F8",
            "linecolor": "#EBF0F8",
            "ticks": ""
           },
           "bgcolor": "white",
           "radialaxis": {
            "gridcolor": "#EBF0F8",
            "linecolor": "#EBF0F8",
            "ticks": ""
           }
          },
          "scene": {
           "xaxis": {
            "backgroundcolor": "white",
            "gridcolor": "#DFE8F3",
            "gridwidth": 2,
            "linecolor": "#EBF0F8",
            "showbackground": true,
            "ticks": "",
            "zerolinecolor": "#EBF0F8"
           },
           "yaxis": {
            "backgroundcolor": "white",
            "gridcolor": "#DFE8F3",
            "gridwidth": 2,
            "linecolor": "#EBF0F8",
            "showbackground": true,
            "ticks": "",
            "zerolinecolor": "#EBF0F8"
           },
           "zaxis": {
            "backgroundcolor": "white",
            "gridcolor": "#DFE8F3",
            "gridwidth": 2,
            "linecolor": "#EBF0F8",
            "showbackground": true,
            "ticks": "",
            "zerolinecolor": "#EBF0F8"
           }
          },
          "shapedefaults": {
           "line": {
            "color": "#2a3f5f"
           }
          },
          "ternary": {
           "aaxis": {
            "gridcolor": "#DFE8F3",
            "linecolor": "#A2B1C6",
            "ticks": ""
           },
           "baxis": {
            "gridcolor": "#DFE8F3",
            "linecolor": "#A2B1C6",
            "ticks": ""
           },
           "bgcolor": "white",
           "caxis": {
            "gridcolor": "#DFE8F3",
            "linecolor": "#A2B1C6",
            "ticks": ""
           }
          },
          "title": {
           "x": 0.05
          },
          "xaxis": {
           "automargin": true,
           "gridcolor": "#EBF0F8",
           "linecolor": "#EBF0F8",
           "ticks": "",
           "title": {
            "standoff": 15
           },
           "zerolinecolor": "#EBF0F8",
           "zerolinewidth": 2
          },
          "yaxis": {
           "automargin": true,
           "gridcolor": "#EBF0F8",
           "linecolor": "#EBF0F8",
           "ticks": "",
           "title": {
            "standoff": 15
           },
           "zerolinecolor": "#EBF0F8",
           "zerolinewidth": 2
          }
         }
        },
        "title": {
         "font": {
          "color": "Black",
          "size": 22
         },
         "text": "<b>Hierarchical Clustering</b>",
         "x": 0.5,
         "xanchor": "center",
         "yanchor": "top"
        },
        "width": 1000,
        "xaxis": {
         "mirror": "allticks",
         "rangemode": "tozero",
         "showgrid": false,
         "showline": true,
         "showticklabels": true,
         "ticks": "outside",
         "type": "linear",
         "zeroline": false
        },
        "yaxis": {
         "mirror": "allticks",
         "range": [
          -2340,
          0
         ],
         "rangemode": "tozero",
         "showgrid": false,
         "showline": true,
         "showticklabels": true,
         "tickmode": "array",
         "ticks": "outside",
         "ticktext": [
          "126_draft_thru_pr",
          "63_draft_final_deck",
          "178_review_saroya_revieweing",
          "38_review_document_before",
          "8_comments_feedback_review",
          "75_comments_feedback_please",
          "137_thanks_sending_for",
          "76_thanks_sending_thank",
          "101_contact_info_information",
          "133_contact_info_condrey",
          "14_details_info_information",
          "230_info_conatct_information",
          "176_quote_tapes_tac",
          "195_materials_material_need",
          "164_office_patrice_sabre",
          "172_mail_decoded_bhagavan",
          "71_mail_me_please",
          "65_helpdesk_assistance_supp...",
          "113_so_if_sendmxsmg",
          "198_group_calling_rmallik",
          "128_them_they_info",
          "10_them_these_ll",
          "163_ideas_methodology_sugge...",
          "147_note_notes_positioned",
          "167_notes_dialled_linger",
          "114_team_nike_roster",
          "52_documentation_docs_docum...",
          "125_docs_doc_surgery",
          "43_changes_made_modifications",
          "48_changes_update_tomorrow",
          "56_update_updates_progress",
          "50_document_documents_copy",
          "29_document_copy_documents",
          "25_copy_soft_me",
          "153_response_todya_inadvert...",
          "1_it_did_tomorrow",
          "3_person_sent_what",
          "11_email_sent_emails",
          "0_him_he_his",
          "140_emails_realized_sent",
          "127_had_mistake_sent",
          "73_problem_having_sendmail",
          "221_aol_address_msierra",
          "220_resume_his_he",
          "24_resume_resumes_my",
          "115_resume_resumes_position",
          "154_video_delta_mro",
          "224_video_bandwidth_vcr",
          "120_messages_million_cent",
          "26_sms_messages_messaging",
          "158_camera_pictures_users",
          "151_sprint_pcs_volunteered",
          "18_pictures_picture_photos",
          "123_pics_photo_picture",
          "102_content_base64_disposit...",
          "79_mb_size_attachment",
          "232_attachment_marrige_ment",
          "118_virus_itself_infected",
          "211_fuseletter_earth_efuse",
          "186_cabot_isw_isw138ts",
          "217_jess_inferior_inf",
          "227_aim_interactive_associa...",
          "218_printed_print_job",
          "194_gap_sale_brands",
          "214_macromedia_classes_remove",
          "222_evalueexpress_recurring...",
          "97_flooz_gift_lfmn",
          "134_thank_gift_snd",
          "209_mountain_bluemountain_b...",
          "184_weblogic_license_pools",
          "99_license_licenses_key",
          "141_visio_lower_screens",
          "148_version_versions_discard",
          "31_logo_logos_eps",
          "199_icons_screen_screens",
          "189_pdf_pdfs_electronic",
          "67_rfp_rfi_boeing",
          "91_demo_url_afternoon",
          "119_design_requirements_stu...",
          "62_cd_kmt_cds",
          "188_wap_toolkit_push",
          "174_certificates_verisign_c...",
          "84_laptop_laptops_dell",
          "92_log_logs_files",
          "191_pda_carry_options",
          "66_vss_webbyphone_files",
          "34_nda_mutual_signed",
          "202_ewap_ewrp_signed",
          "179_directions_product_id_d2",
          "166_ppt_kinkos_10cfr21",
          "116_cc_ccing_cced",
          "169_prasad_jam_comments",
          "146_lead_leads_assessment",
          "110_channelwave_streaming_prm",
          "173_delay_apologize_apologies",
          "90_ae_aes_apache",
          "39_scoping_analysis_ae",
          "182_hosting_deal_virtual",
          "162_ip_external_internal",
          "216_notice_notices_30day",
          "187_cancellation_totally_ca...",
          "183_requests_refrain_demand...",
          "86_ops_request_opssupport",
          "152_arun_arunlekha_ops",
          "208_etrade_boxes_10mbit",
          "207_folders_public_paste",
          "103_timesheet_innova_timesh...",
          "41_spreadsheet_sheet_excel",
          "143_excel_sheet_msproject",
          "200_left_voicemail_voice",
          "74_voice_speechworks_voiceg...",
          "9_fax_faxes_number",
          "219_planetrx_590_770",
          "228_number_font_hook",
          "64_cell_number_phone",
          "45_call_me_touch",
          "69_pager_pagers_pin",
          "206_questions_productive_busy",
          "122_questions_any_feel",
          "165_praveen_evening_techhelp",
          "70_inc_000_corp",
          "159_index_portfolio_change",
          "226_htm_rsilverton_clickz",
          "106_internet_http_newsletters",
          "138_ipw_mailto_alert",
          "121_agenda_out_mpp98",
          "129_agenda_interview_sprang",
          "27_meeting_request_meetings",
          "83_meeting_calendar_dates",
          "145_calendar_calendars_meet...",
          "212_order_confirmation_placed",
          "223_confirmation_shortly_co...",
          "204_flight_tickets_comair",
          "82_itinerary_flight_tickets",
          "225_accenture_leveraged_booth",
          "22_accenture_qwest_they",
          "109_webex_participants_meet...",
          "40_password_login_vpn",
          "136_siebel_dbhost_neon_view",
          "77_conference_call_number",
          "231_enter_dial_press",
          "177_collateral_sheets_yestu...",
          "108_show_pre_marilisa",
          "180_ctia_calea_attached",
          "233_study_case_cases",
          "197_wireless_att_at",
          "58_wireless_essential_appli...",
          "57_survey_surveys_onyx",
          "215_questionnaire_questionn...",
          "13_invite_invitation_invita...",
          "42_attend_event_attendees",
          "160_seminar_registration_in...",
          "68_hotel_reservations_travel",
          "171_lunch_dinner_noon",
          "192_bio_photo_973",
          "5_her_she_sent",
          "93_germana_aec_cobra",
          "196_approval_mrs_approved",
          "81_schedule_objectives_sche...",
          "54_technical_nwoods_engineers",
          "4_contract_agreement_signed",
          "15_sales_company_partner",
          "2_presentation_slides_prese...",
          "12_training_class_people",
          "47_sun_tear_regional",
          "111_venk_signature_asked",
          "139_proposal_plan_proposals",
          "53_pricing_price_hilton",
          "61_forms_form_irs",
          "185_estimate_estimates_task",
          "229_loan_financials_finance",
          "100_expense_expenses_month",
          "28_fedex_ups_tracking",
          "21_check_checks_cheque",
          "35_invoice_invoices_march",
          "130_paypal_money_account",
          "49_press_release_releases",
          "213_kits_press_kit",
          "107_report_pipeline_forecast",
          "157_reports_report_30am",
          "51_status_reports_report",
          "190_class_classpath_file",
          "36_file_files_wrong",
          "33_file_files_kaiperm",
          "98_zip_files_file",
          "59_resend_could_can",
          "203_resend_myhrvold_kcerrone",
          "161_smalltalk_object_method",
          "175_qm_quota_mean",
          "87_device_header_deviceid",
          "44_xml_spy_emas",
          "7_item_oca_data",
          "60_server_htmlhost_cache",
          "19_jsp_method_page",
          "205_parameters_variables_pa...",
          "144_fix_problem_patch",
          "32_problem_error_issue",
          "149_text_html_img",
          "88_html_pages_htmlhost",
          "17_aml_files_pages",
          "80_code_sample_gesture",
          "210_samples_sample_evaluation",
          "193_pocketpc_pocket_pc",
          "170_emulator_gateway_voices...",
          "23_palm_vii_emulator",
          "6_pqa_application_test",
          "105_epservlet_opt_servlet",
          "181_url_application_offline",
          "117_url_salesep_urls",
          "96_parameters_utilization_cpu",
          "78_application_spells_issues",
          "104_spec_specs_functional",
          "155_template_templates_requ...",
          "131_template_templates_art",
          "201_bugzilla_bug_whn",
          "20_bugs_bug_fixes",
          "135_list_partys_sample",
          "16_list_add_onward",
          "72_features_feature_release",
          "168_alias_aliases_processes",
          "55_installation_install_ins...",
          "95_build_builds_available",
          "156_emds_emas_guide",
          "124_roopak_schema_dbupdate",
          "85_translation_localization...",
          "150_japanese_miyuki_transla...",
          "37_idc_diva_ae",
          "132_project_plan_projects",
          "46_project_plan_analysis",
          "94_rim_dds_rimulator",
          "112_dds_final_smart",
          "30_test_tests_testing",
          "89_test_tests_results",
          "142_results_test_ou"
         ],
         "tickvals": [
          -5,
          -15,
          -25,
          -35,
          -45,
          -55,
          -65,
          -75,
          -85,
          -95,
          -105,
          -115,
          -125,
          -135,
          -145,
          -155,
          -165,
          -175,
          -185,
          -195,
          -205,
          -215,
          -225,
          -235,
          -245,
          -255,
          -265,
          -275,
          -285,
          -295,
          -305,
          -315,
          -325,
          -335,
          -345,
          -355,
          -365,
          -375,
          -385,
          -395,
          -405,
          -415,
          -425,
          -435,
          -445,
          -455,
          -465,
          -475,
          -485,
          -495,
          -505,
          -515,
          -525,
          -535,
          -545,
          -555,
          -565,
          -575,
          -585,
          -595,
          -605,
          -615,
          -625,
          -635,
          -645,
          -655,
          -665,
          -675,
          -685,
          -695,
          -705,
          -715,
          -725,
          -735,
          -745,
          -755,
          -765,
          -775,
          -785,
          -795,
          -805,
          -815,
          -825,
          -835,
          -845,
          -855,
          -865,
          -875,
          -885,
          -895,
          -905,
          -915,
          -925,
          -935,
          -945,
          -955,
          -965,
          -975,
          -985,
          -995,
          -1005,
          -1015,
          -1025,
          -1035,
          -1045,
          -1055,
          -1065,
          -1075,
          -1085,
          -1095,
          -1105,
          -1115,
          -1125,
          -1135,
          -1145,
          -1155,
          -1165,
          -1175,
          -1185,
          -1195,
          -1205,
          -1215,
          -1225,
          -1235,
          -1245,
          -1255,
          -1265,
          -1275,
          -1285,
          -1295,
          -1305,
          -1315,
          -1325,
          -1335,
          -1345,
          -1355,
          -1365,
          -1375,
          -1385,
          -1395,
          -1405,
          -1415,
          -1425,
          -1435,
          -1445,
          -1455,
          -1465,
          -1475,
          -1485,
          -1495,
          -1505,
          -1515,
          -1525,
          -1535,
          -1545,
          -1555,
          -1565,
          -1575,
          -1585,
          -1595,
          -1605,
          -1615,
          -1625,
          -1635,
          -1645,
          -1655,
          -1665,
          -1675,
          -1685,
          -1695,
          -1705,
          -1715,
          -1725,
          -1735,
          -1745,
          -1755,
          -1765,
          -1775,
          -1785,
          -1795,
          -1805,
          -1815,
          -1825,
          -1835,
          -1845,
          -1855,
          -1865,
          -1875,
          -1885,
          -1895,
          -1905,
          -1915,
          -1925,
          -1935,
          -1945,
          -1955,
          -1965,
          -1975,
          -1985,
          -1995,
          -2005,
          -2015,
          -2025,
          -2035,
          -2045,
          -2055,
          -2065,
          -2075,
          -2085,
          -2095,
          -2105,
          -2115,
          -2125,
          -2135,
          -2145,
          -2155,
          -2165,
          -2175,
          -2185,
          -2195,
          -2205,
          -2215,
          -2225,
          -2235,
          -2245,
          -2255,
          -2265,
          -2275,
          -2285,
          -2295,
          -2305,
          -2315,
          -2325,
          -2335
         ],
         "type": "linear",
         "zeroline": false
        }
       }
      }
     },
     "metadata": {},
     "output_type": "display_data"
    }
   ],
   "source": [
    "topic_model.visualize_hierarchy(custom_labels=False)"
   ]
  },
  {
   "cell_type": "markdown",
   "metadata": {},
   "source": [
    "### Keep Intent-like Topics"
   ]
  },
  {
   "cell_type": "code",
   "execution_count": 1671,
   "metadata": {},
   "outputs": [
    {
     "name": "stdout",
     "output_type": "stream",
     "text": [
      "Topic: 20\n",
      "\n",
      "Top Words:\n",
      "call, cell, me, number, phone, or, touch, reach, home, at, \n",
      "\n",
      "Representative Target Sentences: \n",
      "If u have anything for me , call me on my cell or send me email .\n",
      "call me on the cell or send email .\n",
      "If you need me send email or call my cell .\n"
     ]
    }
   ],
   "source": [
    "topic_id = 20\n",
    "inspect_topic(topic_id)"
   ]
  },
  {
   "cell_type": "code",
   "execution_count": 1633,
   "metadata": {},
   "outputs": [],
   "source": [
    "topic_model.merge_topics(docs, [-1,topic_id])"
   ]
  },
  {
   "cell_type": "code",
   "execution_count": 1598,
   "metadata": {},
   "outputs": [
    {
     "name": "stdout",
     "output_type": "stream",
     "text": [
      "Number of Documents: 1790\n",
      "\n",
      "I 'll send it back to you as soon as I can finish it .\n",
      "Please send it to us !\n",
      "--------------------------   Sent from [PERSON] 's BB .   Instant E - mail messaging Rocks !\n",
      "I 'm gone next week but have been assured she 'll send it to you Monday .\n",
      "Please email him this along with the PDF I sent this am .\n",
      "I sent this to you already\n",
      "[PERSON] ,    This is the email that I had sent to [PERSON] on Friday in regards to the problem that I had talked to you about .\n",
      "ty ;    i will work on this tomorrow and send it to you .\n",
      "I 'll try to send it again , soon .\n",
      "He 's now sending updates like these .\n",
      "[PERSON] sent this to me .\n",
      "just what you feel , make her laugh out loud , recall a special moment you shared , or send a heart - felt thanks .\n",
      "I 'll copy you all on what I send to [PERSON] .\n",
      "Please send [PERSON] ( bullet point )\n",
      "I will send it to [PERSON] as soon as you receive it .\n",
      "[PERSON] ,    This info below is from [PERSON] :    The last email that you sent to me is this the HTML ?\n",
      "let me know , i can send this out tomorrow .\n",
      "I 'd like to send it to Blueshirt tomorrow morning so they can get the   WAC people to review it .\n",
      "also send me anything you have .\n",
      "I may have sent this to you previously .\n"
     ]
    }
   ],
   "source": [
    "documents = [docs[i] for i, topic in enumerate(topic_model.topics_) if topic == topic_id]\n",
    "print('Number of Documents: '+str(len(documents))+'\\n')\n",
    "for i in range(20):\n",
    "    print(documents[i])"
   ]
  },
  {
   "cell_type": "code",
   "execution_count": 1658,
   "metadata": {},
   "outputs": [],
   "source": [
    "create_custom_label(custom_label='send_check', topic_id=topic_id)"
   ]
  },
  {
   "cell_type": "code",
   "execution_count": 1659,
   "metadata": {},
   "outputs": [
    {
     "data": {
      "application/vnd.plotly.v1+json": {
       "config": {
        "plotlyServerURL": "https://plot.ly"
       },
       "data": [
        {
         "hoverinfo": "text",
         "marker": {
          "color": "rgb(61,153,112)"
         },
         "mode": "lines",
         "type": "scatter",
         "x": [
          0,
          0.8148398126625229,
          0.8148398126625229,
          0
         ],
         "xaxis": "x",
         "y": [
          -5,
          -5,
          -15,
          -15
         ],
         "yaxis": "y"
        },
        {
         "hoverinfo": "text",
         "marker": {
          "color": "rgb(61,153,112)"
         },
         "mode": "lines",
         "type": "scatter",
         "x": [
          0.8148398126625229,
          0.8801974630921071,
          0.8801974630921071,
          0
         ],
         "xaxis": "x",
         "y": [
          -10,
          -10,
          -25,
          -25
         ],
         "yaxis": "y"
        },
        {
         "hoverinfo": "text",
         "marker": {
          "color": "rgb(255,65,54)"
         },
         "mode": "lines",
         "type": "scatter",
         "x": [
          0,
          0.8083306177804389,
          0.8083306177804389,
          0
         ],
         "xaxis": "x",
         "y": [
          -45,
          -45,
          -55,
          -55
         ],
         "yaxis": "y"
        },
        {
         "hoverinfo": "text",
         "marker": {
          "color": "rgb(255,65,54)"
         },
         "mode": "lines",
         "type": "scatter",
         "x": [
          0,
          0.8797258723011755,
          0.8797258723011755,
          0.8083306177804389
         ],
         "xaxis": "x",
         "y": [
          -35,
          -35,
          -50,
          -50
         ],
         "yaxis": "y"
        },
        {
         "hoverinfo": "text",
         "marker": {
          "color": "rgb(35,205,205)"
         },
         "mode": "lines",
         "type": "scatter",
         "x": [
          0,
          0.7619704834781496,
          0.7619704834781496,
          0
         ],
         "xaxis": "x",
         "y": [
          -65,
          -65,
          -75,
          -75
         ],
         "yaxis": "y"
        },
        {
         "hoverinfo": "text",
         "marker": {
          "color": "rgb(35,205,205)"
         },
         "mode": "lines",
         "type": "scatter",
         "x": [
          0.7619704834781496,
          0.8711818642608719,
          0.8711818642608719,
          0
         ],
         "xaxis": "x",
         "y": [
          -70,
          -70,
          -85,
          -85
         ],
         "yaxis": "y"
        },
        {
         "hoverinfo": "text",
         "marker": {
          "color": "rgb(0,116,217)"
         },
         "mode": "lines",
         "type": "scatter",
         "x": [
          0.8797258723011755,
          1.0078209764510744,
          1.0078209764510744,
          0.8711818642608719
         ],
         "xaxis": "x",
         "y": [
          -42.5,
          -42.5,
          -77.5,
          -77.5
         ],
         "yaxis": "y"
        },
        {
         "hoverinfo": "text",
         "marker": {
          "color": "rgb(0,116,217)"
         },
         "mode": "lines",
         "type": "scatter",
         "x": [
          0.8801974630921071,
          1.0369879770162114,
          1.0369879770162114,
          1.0078209764510744
         ],
         "xaxis": "x",
         "y": [
          -17.5,
          -17.5,
          -60,
          -60
         ],
         "yaxis": "y"
        },
        {
         "hoverinfo": "text",
         "marker": {
          "color": "rgb(133,20,75)"
         },
         "mode": "lines",
         "type": "scatter",
         "x": [
          0,
          0.7944156166248404,
          0.7944156166248404,
          0
         ],
         "xaxis": "x",
         "y": [
          -95,
          -95,
          -105,
          -105
         ],
         "yaxis": "y"
        },
        {
         "hoverinfo": "text",
         "marker": {
          "color": "rgb(255,220,0)"
         },
         "mode": "lines",
         "type": "scatter",
         "x": [
          0,
          0.8657477526291475,
          0.8657477526291475,
          0
         ],
         "xaxis": "x",
         "y": [
          -115,
          -115,
          -125,
          -125
         ],
         "yaxis": "y"
        },
        {
         "hoverinfo": "text",
         "marker": {
          "color": "rgb(40,35,35)"
         },
         "mode": "lines",
         "type": "scatter",
         "x": [
          0,
          0.6309719529491862,
          0.6309719529491862,
          0
         ],
         "xaxis": "x",
         "y": [
          -145,
          -145,
          -155,
          -155
         ],
         "yaxis": "y"
        },
        {
         "hoverinfo": "text",
         "marker": {
          "color": "rgb(40,35,35)"
         },
         "mode": "lines",
         "type": "scatter",
         "x": [
          0.6309719529491862,
          0.7278708073662211,
          0.7278708073662211,
          0
         ],
         "xaxis": "x",
         "y": [
          -150,
          -150,
          -165,
          -165
         ],
         "yaxis": "y"
        },
        {
         "hoverinfo": "text",
         "marker": {
          "color": "rgb(40,35,35)"
         },
         "mode": "lines",
         "type": "scatter",
         "x": [
          0.7278708073662211,
          0.851958210687625,
          0.851958210687625,
          0
         ],
         "xaxis": "x",
         "y": [
          -157.5,
          -157.5,
          -175,
          -175
         ],
         "yaxis": "y"
        },
        {
         "hoverinfo": "text",
         "marker": {
          "color": "rgb(40,35,35)"
         },
         "mode": "lines",
         "type": "scatter",
         "x": [
          0,
          0.8599815650436604,
          0.8599815650436604,
          0.851958210687625
         ],
         "xaxis": "x",
         "y": [
          -135,
          -135,
          -166.25,
          -166.25
         ],
         "yaxis": "y"
        },
        {
         "hoverinfo": "text",
         "marker": {
          "color": "rgb(40,35,35)"
         },
         "mode": "lines",
         "type": "scatter",
         "x": [
          0.8599815650436604,
          0.9088317556410018,
          0.9088317556410018,
          0
         ],
         "xaxis": "x",
         "y": [
          -150.625,
          -150.625,
          -185,
          -185
         ],
         "yaxis": "y"
        },
        {
         "hoverinfo": "text",
         "marker": {
          "color": "rgb(40,35,35)"
         },
         "mode": "lines",
         "type": "scatter",
         "x": [
          0.9088317556410018,
          0.9411498928917131,
          0.9411498928917131,
          0
         ],
         "xaxis": "x",
         "y": [
          -167.8125,
          -167.8125,
          -195,
          -195
         ],
         "yaxis": "y"
        },
        {
         "hoverinfo": "text",
         "marker": {
          "color": "rgb(0,116,217)"
         },
         "mode": "lines",
         "type": "scatter",
         "x": [
          0.8657477526291475,
          1.0167607072094917,
          1.0167607072094917,
          0.9411498928917131
         ],
         "xaxis": "x",
         "y": [
          -120,
          -120,
          -181.40625,
          -181.40625
         ],
         "yaxis": "y"
        },
        {
         "hoverinfo": "text",
         "marker": {
          "color": "rgb(0,116,217)"
         },
         "mode": "lines",
         "type": "scatter",
         "x": [
          0.7944156166248404,
          1.0505200375932624,
          1.0505200375932624,
          1.0167607072094917
         ],
         "xaxis": "x",
         "y": [
          -100,
          -100,
          -150.703125,
          -150.703125
         ],
         "yaxis": "y"
        },
        {
         "hoverinfo": "text",
         "marker": {
          "color": "rgb(61,153,112)"
         },
         "mode": "lines",
         "type": "scatter",
         "x": [
          0,
          0.7379692078855825,
          0.7379692078855825,
          0
         ],
         "xaxis": "x",
         "y": [
          -215,
          -215,
          -225,
          -225
         ],
         "yaxis": "y"
        },
        {
         "hoverinfo": "text",
         "marker": {
          "color": "rgb(61,153,112)"
         },
         "mode": "lines",
         "type": "scatter",
         "x": [
          0.7379692078855825,
          0.7586424614487941,
          0.7586424614487941,
          0
         ],
         "xaxis": "x",
         "y": [
          -220,
          -220,
          -235,
          -235
         ],
         "yaxis": "y"
        },
        {
         "hoverinfo": "text",
         "marker": {
          "color": "rgb(61,153,112)"
         },
         "mode": "lines",
         "type": "scatter",
         "x": [
          0,
          0.8455058173629998,
          0.8455058173629998,
          0.7586424614487941
         ],
         "xaxis": "x",
         "y": [
          -205,
          -205,
          -227.5,
          -227.5
         ],
         "yaxis": "y"
        },
        {
         "hoverinfo": "text",
         "marker": {
          "color": "rgb(61,153,112)"
         },
         "mode": "lines",
         "type": "scatter",
         "x": [
          0.8455058173629998,
          0.88050446502512,
          0.88050446502512,
          0
         ],
         "xaxis": "x",
         "y": [
          -216.25,
          -216.25,
          -245,
          -245
         ],
         "yaxis": "y"
        },
        {
         "hoverinfo": "text",
         "marker": {
          "color": "rgb(61,153,112)"
         },
         "mode": "lines",
         "type": "scatter",
         "x": [
          0,
          0.8178781497318172,
          0.8178781497318172,
          0
         ],
         "xaxis": "x",
         "y": [
          -255,
          -255,
          -265,
          -265
         ],
         "yaxis": "y"
        },
        {
         "hoverinfo": "text",
         "marker": {
          "color": "rgb(61,153,112)"
         },
         "mode": "lines",
         "type": "scatter",
         "x": [
          0.88050446502512,
          0.996604838076482,
          0.996604838076482,
          0.8178781497318172
         ],
         "xaxis": "x",
         "y": [
          -230.625,
          -230.625,
          -260,
          -260
         ],
         "yaxis": "y"
        },
        {
         "hoverinfo": "text",
         "marker": {
          "color": "rgb(0,116,217)"
         },
         "mode": "lines",
         "type": "scatter",
         "x": [
          1.0505200375932624,
          1.0727010419568923,
          1.0727010419568923,
          0.996604838076482
         ],
         "xaxis": "x",
         "y": [
          -125.3515625,
          -125.3515625,
          -245.3125,
          -245.3125
         ],
         "yaxis": "y"
        },
        {
         "hoverinfo": "text",
         "marker": {
          "color": "rgb(255,65,54)"
         },
         "mode": "lines",
         "type": "scatter",
         "x": [
          0,
          0.6228940008273292,
          0.6228940008273292,
          0
         ],
         "xaxis": "x",
         "y": [
          -275,
          -275,
          -285,
          -285
         ],
         "yaxis": "y"
        },
        {
         "hoverinfo": "text",
         "marker": {
          "color": "rgb(0,116,217)"
         },
         "mode": "lines",
         "type": "scatter",
         "x": [
          1.0727010419568923,
          1.1822031708258867,
          1.1822031708258867,
          0.6228940008273292
         ],
         "xaxis": "x",
         "y": [
          -185.33203125,
          -185.33203125,
          -280,
          -280
         ],
         "yaxis": "y"
        },
        {
         "hoverinfo": "text",
         "marker": {
          "color": "rgb(0,116,217)"
         },
         "mode": "lines",
         "type": "scatter",
         "x": [
          1.0369879770162114,
          1.2235879288492229,
          1.2235879288492229,
          1.1822031708258867
         ],
         "xaxis": "x",
         "y": [
          -38.75,
          -38.75,
          -232.666015625,
          -232.666015625
         ],
         "yaxis": "y"
        },
        {
         "hoverinfo": "text",
         "marker": {
          "color": "rgb(35,205,205)"
         },
         "mode": "lines",
         "type": "scatter",
         "x": [
          0,
          0.6654751062052956,
          0.6654751062052956,
          0
         ],
         "xaxis": "x",
         "y": [
          -295,
          -295,
          -305,
          -305
         ],
         "yaxis": "y"
        },
        {
         "hoverinfo": "text",
         "marker": {
          "color": "rgb(61,153,112)"
         },
         "mode": "lines",
         "type": "scatter",
         "x": [
          0,
          0.77922965278261,
          0.77922965278261,
          0
         ],
         "xaxis": "x",
         "y": [
          -325,
          -325,
          -335,
          -335
         ],
         "yaxis": "y"
        },
        {
         "hoverinfo": "text",
         "marker": {
          "color": "rgb(61,153,112)"
         },
         "mode": "lines",
         "type": "scatter",
         "x": [
          0,
          0.9358070026832706,
          0.9358070026832706,
          0.77922965278261
         ],
         "xaxis": "x",
         "y": [
          -315,
          -315,
          -330,
          -330
         ],
         "yaxis": "y"
        },
        {
         "hoverinfo": "text",
         "marker": {
          "color": "rgb(255,65,54)"
         },
         "mode": "lines",
         "type": "scatter",
         "x": [
          0,
          0.8713136064629338,
          0.8713136064629338,
          0
         ],
         "xaxis": "x",
         "y": [
          -345,
          -345,
          -355,
          -355
         ],
         "yaxis": "y"
        },
        {
         "hoverinfo": "text",
         "marker": {
          "color": "rgb(0,116,217)"
         },
         "mode": "lines",
         "type": "scatter",
         "x": [
          0.9358070026832706,
          1.037485296363105,
          1.037485296363105,
          0.8713136064629338
         ],
         "xaxis": "x",
         "y": [
          -322.5,
          -322.5,
          -350,
          -350
         ],
         "yaxis": "y"
        },
        {
         "hoverinfo": "text",
         "marker": {
          "color": "rgb(35,205,205)"
         },
         "mode": "lines",
         "type": "scatter",
         "x": [
          0,
          0.8238943198155854,
          0.8238943198155854,
          0
         ],
         "xaxis": "x",
         "y": [
          -365,
          -365,
          -375,
          -375
         ],
         "yaxis": "y"
        },
        {
         "hoverinfo": "text",
         "marker": {
          "color": "rgb(133,20,75)"
         },
         "mode": "lines",
         "type": "scatter",
         "x": [
          0,
          0.8741719812386247,
          0.8741719812386247,
          0
         ],
         "xaxis": "x",
         "y": [
          -395,
          -395,
          -405,
          -405
         ],
         "yaxis": "y"
        },
        {
         "hoverinfo": "text",
         "marker": {
          "color": "rgb(133,20,75)"
         },
         "mode": "lines",
         "type": "scatter",
         "x": [
          0,
          0.9376449175070434,
          0.9376449175070434,
          0.8741719812386247
         ],
         "xaxis": "x",
         "y": [
          -385,
          -385,
          -400,
          -400
         ],
         "yaxis": "y"
        },
        {
         "hoverinfo": "text",
         "marker": {
          "color": "rgb(133,20,75)"
         },
         "mode": "lines",
         "type": "scatter",
         "x": [
          0,
          0.9218096212755238,
          0.9218096212755238,
          0
         ],
         "xaxis": "x",
         "y": [
          -415,
          -415,
          -425,
          -425
         ],
         "yaxis": "y"
        },
        {
         "hoverinfo": "text",
         "marker": {
          "color": "rgb(133,20,75)"
         },
         "mode": "lines",
         "type": "scatter",
         "x": [
          0,
          0.8791251073735532,
          0.8791251073735532,
          0
         ],
         "xaxis": "x",
         "y": [
          -435,
          -435,
          -445,
          -445
         ],
         "yaxis": "y"
        },
        {
         "hoverinfo": "text",
         "marker": {
          "color": "rgb(133,20,75)"
         },
         "mode": "lines",
         "type": "scatter",
         "x": [
          0,
          0.857552475890867,
          0.857552475890867,
          0
         ],
         "xaxis": "x",
         "y": [
          -455,
          -455,
          -465,
          -465
         ],
         "yaxis": "y"
        },
        {
         "hoverinfo": "text",
         "marker": {
          "color": "rgb(133,20,75)"
         },
         "mode": "lines",
         "type": "scatter",
         "x": [
          0.8791251073735532,
          0.9064379925193008,
          0.9064379925193008,
          0.857552475890867
         ],
         "xaxis": "x",
         "y": [
          -440,
          -440,
          -460,
          -460
         ],
         "yaxis": "y"
        },
        {
         "hoverinfo": "text",
         "marker": {
          "color": "rgb(133,20,75)"
         },
         "mode": "lines",
         "type": "scatter",
         "x": [
          0.9218096212755238,
          0.9414394046550323,
          0.9414394046550323,
          0.9064379925193008
         ],
         "xaxis": "x",
         "y": [
          -420,
          -420,
          -450,
          -450
         ],
         "yaxis": "y"
        },
        {
         "hoverinfo": "text",
         "marker": {
          "color": "rgb(133,20,75)"
         },
         "mode": "lines",
         "type": "scatter",
         "x": [
          0,
          0.9125427901158196,
          0.9125427901158196,
          0
         ],
         "xaxis": "x",
         "y": [
          -475,
          -475,
          -485,
          -485
         ],
         "yaxis": "y"
        },
        {
         "hoverinfo": "text",
         "marker": {
          "color": "rgb(133,20,75)"
         },
         "mode": "lines",
         "type": "scatter",
         "x": [
          0.9125427901158196,
          0.920447642289252,
          0.920447642289252,
          0
         ],
         "xaxis": "x",
         "y": [
          -480,
          -480,
          -495,
          -495
         ],
         "yaxis": "y"
        },
        {
         "hoverinfo": "text",
         "marker": {
          "color": "rgb(133,20,75)"
         },
         "mode": "lines",
         "type": "scatter",
         "x": [
          0,
          0.9097591008052447,
          0.9097591008052447,
          0
         ],
         "xaxis": "x",
         "y": [
          -505,
          -505,
          -515,
          -515
         ],
         "yaxis": "y"
        },
        {
         "hoverinfo": "text",
         "marker": {
          "color": "rgb(133,20,75)"
         },
         "mode": "lines",
         "type": "scatter",
         "x": [
          0.920447642289252,
          0.9369177823832003,
          0.9369177823832003,
          0.9097591008052447
         ],
         "xaxis": "x",
         "y": [
          -487.5,
          -487.5,
          -510,
          -510
         ],
         "yaxis": "y"
        },
        {
         "hoverinfo": "text",
         "marker": {
          "color": "rgb(133,20,75)"
         },
         "mode": "lines",
         "type": "scatter",
         "x": [
          0.9369177823832003,
          0.9662141532704187,
          0.9662141532704187,
          0
         ],
         "xaxis": "x",
         "y": [
          -498.75,
          -498.75,
          -525,
          -525
         ],
         "yaxis": "y"
        },
        {
         "hoverinfo": "text",
         "marker": {
          "color": "rgb(133,20,75)"
         },
         "mode": "lines",
         "type": "scatter",
         "x": [
          0.9414394046550323,
          0.975775524358632,
          0.975775524358632,
          0.9662141532704187
         ],
         "xaxis": "x",
         "y": [
          -435,
          -435,
          -511.875,
          -511.875
         ],
         "yaxis": "y"
        },
        {
         "hoverinfo": "text",
         "marker": {
          "color": "rgb(133,20,75)"
         },
         "mode": "lines",
         "type": "scatter",
         "x": [
          0.9376449175070434,
          0.9888978303774958,
          0.9888978303774958,
          0.975775524358632
         ],
         "xaxis": "x",
         "y": [
          -392.5,
          -392.5,
          -473.4375,
          -473.4375
         ],
         "yaxis": "y"
        },
        {
         "hoverinfo": "text",
         "marker": {
          "color": "rgb(255,220,0)"
         },
         "mode": "lines",
         "type": "scatter",
         "x": [
          0,
          0.791959761627222,
          0.791959761627222,
          0
         ],
         "xaxis": "x",
         "y": [
          -535,
          -535,
          -545,
          -545
         ],
         "yaxis": "y"
        },
        {
         "hoverinfo": "text",
         "marker": {
          "color": "rgb(0,116,217)"
         },
         "mode": "lines",
         "type": "scatter",
         "x": [
          0.9888978303774958,
          1.006089147568713,
          1.006089147568713,
          0.791959761627222
         ],
         "xaxis": "x",
         "y": [
          -432.96875,
          -432.96875,
          -540,
          -540
         ],
         "yaxis": "y"
        },
        {
         "hoverinfo": "text",
         "marker": {
          "color": "rgb(40,35,35)"
         },
         "mode": "lines",
         "type": "scatter",
         "x": [
          0,
          0.8504267180554668,
          0.8504267180554668,
          0
         ],
         "xaxis": "x",
         "y": [
          -565,
          -565,
          -575,
          -575
         ],
         "yaxis": "y"
        },
        {
         "hoverinfo": "text",
         "marker": {
          "color": "rgb(40,35,35)"
         },
         "mode": "lines",
         "type": "scatter",
         "x": [
          0,
          0.9070481342450901,
          0.9070481342450901,
          0.8504267180554668
         ],
         "xaxis": "x",
         "y": [
          -555,
          -555,
          -570,
          -570
         ],
         "yaxis": "y"
        },
        {
         "hoverinfo": "text",
         "marker": {
          "color": "rgb(40,35,35)"
         },
         "mode": "lines",
         "type": "scatter",
         "x": [
          0.9070481342450901,
          0.9634334067692986,
          0.9634334067692986,
          0
         ],
         "xaxis": "x",
         "y": [
          -562.5,
          -562.5,
          -585,
          -585
         ],
         "yaxis": "y"
        },
        {
         "hoverinfo": "text",
         "marker": {
          "color": "rgb(0,116,217)"
         },
         "mode": "lines",
         "type": "scatter",
         "x": [
          1.006089147568713,
          1.0133532705118802,
          1.0133532705118802,
          0.9634334067692986
         ],
         "xaxis": "x",
         "y": [
          -486.484375,
          -486.484375,
          -573.75,
          -573.75
         ],
         "yaxis": "y"
        },
        {
         "hoverinfo": "text",
         "marker": {
          "color": "rgb(0,116,217)"
         },
         "mode": "lines",
         "type": "scatter",
         "x": [
          0.8238943198155854,
          1.062029403102415,
          1.062029403102415,
          1.0133532705118802
         ],
         "xaxis": "x",
         "y": [
          -370,
          -370,
          -530.1171875,
          -530.1171875
         ],
         "yaxis": "y"
        },
        {
         "hoverinfo": "text",
         "marker": {
          "color": "rgb(0,116,217)"
         },
         "mode": "lines",
         "type": "scatter",
         "x": [
          1.037485296363105,
          1.0879816841599075,
          1.0879816841599075,
          1.062029403102415
         ],
         "xaxis": "x",
         "y": [
          -336.25,
          -336.25,
          -450.05859375,
          -450.05859375
         ],
         "yaxis": "y"
        },
        {
         "hoverinfo": "text",
         "marker": {
          "color": "rgb(61,153,112)"
         },
         "mode": "lines",
         "type": "scatter",
         "x": [
          0,
          0.9818331807227715,
          0.9818331807227715,
          0
         ],
         "xaxis": "x",
         "y": [
          -595,
          -595,
          -605,
          -605
         ],
         "yaxis": "y"
        },
        {
         "hoverinfo": "text",
         "marker": {
          "color": "rgb(61,153,112)"
         },
         "mode": "lines",
         "type": "scatter",
         "x": [
          0,
          0.8973852027825118,
          0.8973852027825118,
          0
         ],
         "xaxis": "x",
         "y": [
          -615,
          -615,
          -625,
          -625
         ],
         "yaxis": "y"
        },
        {
         "hoverinfo": "text",
         "marker": {
          "color": "rgb(61,153,112)"
         },
         "mode": "lines",
         "type": "scatter",
         "x": [
          0.9818331807227715,
          0.9937684255488981,
          0.9937684255488981,
          0.8973852027825118
         ],
         "xaxis": "x",
         "y": [
          -600,
          -600,
          -620,
          -620
         ],
         "yaxis": "y"
        },
        {
         "hoverinfo": "text",
         "marker": {
          "color": "rgb(255,65,54)"
         },
         "mode": "lines",
         "type": "scatter",
         "x": [
          0,
          0.8389048791475672,
          0.8389048791475672,
          0
         ],
         "xaxis": "x",
         "y": [
          -635,
          -635,
          -645,
          -645
         ],
         "yaxis": "y"
        },
        {
         "hoverinfo": "text",
         "marker": {
          "color": "rgb(35,205,205)"
         },
         "mode": "lines",
         "type": "scatter",
         "x": [
          0,
          0.8741622225058078,
          0.8741622225058078,
          0
         ],
         "xaxis": "x",
         "y": [
          -665,
          -665,
          -675,
          -675
         ],
         "yaxis": "y"
        },
        {
         "hoverinfo": "text",
         "marker": {
          "color": "rgb(35,205,205)"
         },
         "mode": "lines",
         "type": "scatter",
         "x": [
          0.8741622225058078,
          0.9160786402261037,
          0.9160786402261037,
          0
         ],
         "xaxis": "x",
         "y": [
          -670,
          -670,
          -685,
          -685
         ],
         "yaxis": "y"
        },
        {
         "hoverinfo": "text",
         "marker": {
          "color": "rgb(35,205,205)"
         },
         "mode": "lines",
         "type": "scatter",
         "x": [
          0,
          0.9505052741421617,
          0.9505052741421617,
          0.9160786402261037
         ],
         "xaxis": "x",
         "y": [
          -655,
          -655,
          -677.5,
          -677.5
         ],
         "yaxis": "y"
        },
        {
         "hoverinfo": "text",
         "marker": {
          "color": "rgb(61,153,112)"
         },
         "mode": "lines",
         "type": "scatter",
         "x": [
          0,
          0.9313563494400386,
          0.9313563494400386,
          0
         ],
         "xaxis": "x",
         "y": [
          -695,
          -695,
          -705,
          -705
         ],
         "yaxis": "y"
        },
        {
         "hoverinfo": "text",
         "marker": {
          "color": "rgb(61,153,112)"
         },
         "mode": "lines",
         "type": "scatter",
         "x": [
          0.9313563494400386,
          0.9698077928704314,
          0.9698077928704314,
          0
         ],
         "xaxis": "x",
         "y": [
          -700,
          -700,
          -715,
          -715
         ],
         "yaxis": "y"
        },
        {
         "hoverinfo": "text",
         "marker": {
          "color": "rgb(0,116,217)"
         },
         "mode": "lines",
         "type": "scatter",
         "x": [
          0.9505052741421617,
          1.0019352049560728,
          1.0019352049560728,
          0.9698077928704314
         ],
         "xaxis": "x",
         "y": [
          -666.25,
          -666.25,
          -707.5,
          -707.5
         ],
         "yaxis": "y"
        },
        {
         "hoverinfo": "text",
         "marker": {
          "color": "rgb(0,116,217)"
         },
         "mode": "lines",
         "type": "scatter",
         "x": [
          0.8389048791475672,
          1.021247446880476,
          1.021247446880476,
          1.0019352049560728
         ],
         "xaxis": "x",
         "y": [
          -640,
          -640,
          -686.875,
          -686.875
         ],
         "yaxis": "y"
        },
        {
         "hoverinfo": "text",
         "marker": {
          "color": "rgb(0,116,217)"
         },
         "mode": "lines",
         "type": "scatter",
         "x": [
          0.9937684255488981,
          1.0293761154844108,
          1.0293761154844108,
          1.021247446880476
         ],
         "xaxis": "x",
         "y": [
          -610,
          -610,
          -663.4375,
          -663.4375
         ],
         "yaxis": "y"
        },
        {
         "hoverinfo": "text",
         "marker": {
          "color": "rgb(255,65,54)"
         },
         "mode": "lines",
         "type": "scatter",
         "x": [
          0,
          0.8962037790943536,
          0.8962037790943536,
          0
         ],
         "xaxis": "x",
         "y": [
          -735,
          -735,
          -745,
          -745
         ],
         "yaxis": "y"
        },
        {
         "hoverinfo": "text",
         "marker": {
          "color": "rgb(255,65,54)"
         },
         "mode": "lines",
         "type": "scatter",
         "x": [
          0,
          0.9655212476409594,
          0.9655212476409594,
          0.8962037790943536
         ],
         "xaxis": "x",
         "y": [
          -725,
          -725,
          -740,
          -740
         ],
         "yaxis": "y"
        },
        {
         "hoverinfo": "text",
         "marker": {
          "color": "rgb(35,205,205)"
         },
         "mode": "lines",
         "type": "scatter",
         "x": [
          0,
          0.8758393681541459,
          0.8758393681541459,
          0
         ],
         "xaxis": "x",
         "y": [
          -755,
          -755,
          -765,
          -765
         ],
         "yaxis": "y"
        },
        {
         "hoverinfo": "text",
         "marker": {
          "color": "rgb(35,205,205)"
         },
         "mode": "lines",
         "type": "scatter",
         "x": [
          0.8758393681541459,
          0.9177673265062471,
          0.9177673265062471,
          0
         ],
         "xaxis": "x",
         "y": [
          -760,
          -760,
          -775,
          -775
         ],
         "yaxis": "y"
        },
        {
         "hoverinfo": "text",
         "marker": {
          "color": "rgb(0,116,217)"
         },
         "mode": "lines",
         "type": "scatter",
         "x": [
          0.9655212476409594,
          1.0085563490778715,
          1.0085563490778715,
          0.9177673265062471
         ],
         "xaxis": "x",
         "y": [
          -732.5,
          -732.5,
          -767.5,
          -767.5
         ],
         "yaxis": "y"
        },
        {
         "hoverinfo": "text",
         "marker": {
          "color": "rgb(0,116,217)"
         },
         "mode": "lines",
         "type": "scatter",
         "x": [
          1.0293761154844108,
          1.0468897876693448,
          1.0468897876693448,
          1.0085563490778715
         ],
         "xaxis": "x",
         "y": [
          -636.71875,
          -636.71875,
          -750,
          -750
         ],
         "yaxis": "y"
        },
        {
         "hoverinfo": "text",
         "marker": {
          "color": "rgb(133,20,75)"
         },
         "mode": "lines",
         "type": "scatter",
         "x": [
          0,
          0.851312329869536,
          0.851312329869536,
          0
         ],
         "xaxis": "x",
         "y": [
          -785,
          -785,
          -795,
          -795
         ],
         "yaxis": "y"
        },
        {
         "hoverinfo": "text",
         "marker": {
          "color": "rgb(0,116,217)"
         },
         "mode": "lines",
         "type": "scatter",
         "x": [
          1.0468897876693448,
          1.0555861645865874,
          1.0555861645865874,
          0.851312329869536
         ],
         "xaxis": "x",
         "y": [
          -693.359375,
          -693.359375,
          -790,
          -790
         ],
         "yaxis": "y"
        },
        {
         "hoverinfo": "text",
         "marker": {
          "color": "rgb(0,116,217)"
         },
         "mode": "lines",
         "type": "scatter",
         "x": [
          1.0879816841599075,
          1.1027431550074867,
          1.1027431550074867,
          1.0555861645865874
         ],
         "xaxis": "x",
         "y": [
          -393.154296875,
          -393.154296875,
          -741.6796875,
          -741.6796875
         ],
         "yaxis": "y"
        },
        {
         "hoverinfo": "text",
         "marker": {
          "color": "rgb(0,116,217)"
         },
         "mode": "lines",
         "type": "scatter",
         "x": [
          0.6654751062052956,
          1.1775701201714048,
          1.1775701201714048,
          1.1027431550074867
         ],
         "xaxis": "x",
         "y": [
          -300,
          -300,
          -567.4169921875,
          -567.4169921875
         ],
         "yaxis": "y"
        },
        {
         "hoverinfo": "text",
         "marker": {
          "color": "rgb(255,220,0)"
         },
         "mode": "lines",
         "type": "scatter",
         "x": [
          0,
          0.7034719842871132,
          0.7034719842871132,
          0
         ],
         "xaxis": "x",
         "y": [
          -815,
          -815,
          -825,
          -825
         ],
         "yaxis": "y"
        },
        {
         "hoverinfo": "text",
         "marker": {
          "color": "rgb(255,220,0)"
         },
         "mode": "lines",
         "type": "scatter",
         "x": [
          0,
          0.8152896285688497,
          0.8152896285688497,
          0.7034719842871132
         ],
         "xaxis": "x",
         "y": [
          -805,
          -805,
          -820,
          -820
         ],
         "yaxis": "y"
        },
        {
         "hoverinfo": "text",
         "marker": {
          "color": "rgb(255,220,0)"
         },
         "mode": "lines",
         "type": "scatter",
         "x": [
          0,
          0.6377452979820684,
          0.6377452979820684,
          0
         ],
         "xaxis": "x",
         "y": [
          -835,
          -835,
          -845,
          -845
         ],
         "yaxis": "y"
        },
        {
         "hoverinfo": "text",
         "marker": {
          "color": "rgb(255,220,0)"
         },
         "mode": "lines",
         "type": "scatter",
         "x": [
          0.6377452979820684,
          0.8556021683166519,
          0.8556021683166519,
          0
         ],
         "xaxis": "x",
         "y": [
          -840,
          -840,
          -855,
          -855
         ],
         "yaxis": "y"
        },
        {
         "hoverinfo": "text",
         "marker": {
          "color": "rgb(255,220,0)"
         },
         "mode": "lines",
         "type": "scatter",
         "x": [
          0.8152896285688497,
          0.9326188490897115,
          0.9326188490897115,
          0.8556021683166519
         ],
         "xaxis": "x",
         "y": [
          -812.5,
          -812.5,
          -847.5,
          -847.5
         ],
         "yaxis": "y"
        },
        {
         "hoverinfo": "text",
         "marker": {
          "color": "rgb(0,116,217)"
         },
         "mode": "lines",
         "type": "scatter",
         "x": [
          1.1775701201714048,
          1.252436818850252,
          1.252436818850252,
          0.9326188490897115
         ],
         "xaxis": "x",
         "y": [
          -433.70849609375,
          -433.70849609375,
          -830,
          -830
         ],
         "yaxis": "y"
        },
        {
         "hoverinfo": "text",
         "marker": {
          "color": "rgb(40,35,35)"
         },
         "mode": "lines",
         "type": "scatter",
         "x": [
          0,
          0.8301760740301423,
          0.8301760740301423,
          0
         ],
         "xaxis": "x",
         "y": [
          -875,
          -875,
          -885,
          -885
         ],
         "yaxis": "y"
        },
        {
         "hoverinfo": "text",
         "marker": {
          "color": "rgb(40,35,35)"
         },
         "mode": "lines",
         "type": "scatter",
         "x": [
          0,
          0.8754451179843975,
          0.8754451179843975,
          0.8301760740301423
         ],
         "xaxis": "x",
         "y": [
          -865,
          -865,
          -880,
          -880
         ],
         "yaxis": "y"
        },
        {
         "hoverinfo": "text",
         "marker": {
          "color": "rgb(40,35,35)"
         },
         "mode": "lines",
         "type": "scatter",
         "x": [
          0,
          0.5800324316010481,
          0.5800324316010481,
          0
         ],
         "xaxis": "x",
         "y": [
          -905,
          -905,
          -915,
          -915
         ],
         "yaxis": "y"
        },
        {
         "hoverinfo": "text",
         "marker": {
          "color": "rgb(40,35,35)"
         },
         "mode": "lines",
         "type": "scatter",
         "x": [
          0,
          0.695467302440986,
          0.695467302440986,
          0.5800324316010481
         ],
         "xaxis": "x",
         "y": [
          -895,
          -895,
          -910,
          -910
         ],
         "yaxis": "y"
        },
        {
         "hoverinfo": "text",
         "marker": {
          "color": "rgb(40,35,35)"
         },
         "mode": "lines",
         "type": "scatter",
         "x": [
          0.695467302440986,
          0.7911854907679335,
          0.7911854907679335,
          0
         ],
         "xaxis": "x",
         "y": [
          -902.5,
          -902.5,
          -925,
          -925
         ],
         "yaxis": "y"
        },
        {
         "hoverinfo": "text",
         "marker": {
          "color": "rgb(40,35,35)"
         },
         "mode": "lines",
         "type": "scatter",
         "x": [
          0.8754451179843975,
          0.9478128619285585,
          0.9478128619285585,
          0.7911854907679335
         ],
         "xaxis": "x",
         "y": [
          -872.5,
          -872.5,
          -913.75,
          -913.75
         ],
         "yaxis": "y"
        },
        {
         "hoverinfo": "text",
         "marker": {
          "color": "rgb(61,153,112)"
         },
         "mode": "lines",
         "type": "scatter",
         "x": [
          0,
          0.6385701029752708,
          0.6385701029752708,
          0
         ],
         "xaxis": "x",
         "y": [
          -945,
          -945,
          -955,
          -955
         ],
         "yaxis": "y"
        },
        {
         "hoverinfo": "text",
         "marker": {
          "color": "rgb(61,153,112)"
         },
         "mode": "lines",
         "type": "scatter",
         "x": [
          0,
          0.8272781438615906,
          0.8272781438615906,
          0.6385701029752708
         ],
         "xaxis": "x",
         "y": [
          -935,
          -935,
          -950,
          -950
         ],
         "yaxis": "y"
        },
        {
         "hoverinfo": "text",
         "marker": {
          "color": "rgb(0,116,217)"
         },
         "mode": "lines",
         "type": "scatter",
         "x": [
          0.9478128619285585,
          1.0507618091895687,
          1.0507618091895687,
          0.8272781438615906
         ],
         "xaxis": "x",
         "y": [
          -893.125,
          -893.125,
          -942.5,
          -942.5
         ],
         "yaxis": "y"
        },
        {
         "hoverinfo": "text",
         "marker": {
          "color": "rgb(255,65,54)"
         },
         "mode": "lines",
         "type": "scatter",
         "x": [
          0,
          0.8641387650700283,
          0.8641387650700283,
          0
         ],
         "xaxis": "x",
         "y": [
          -965,
          -965,
          -975,
          -975
         ],
         "yaxis": "y"
        },
        {
         "hoverinfo": "text",
         "marker": {
          "color": "rgb(255,65,54)"
         },
         "mode": "lines",
         "type": "scatter",
         "x": [
          0,
          0.8325671926624404,
          0.8325671926624404,
          0
         ],
         "xaxis": "x",
         "y": [
          -985,
          -985,
          -995,
          -995
         ],
         "yaxis": "y"
        },
        {
         "hoverinfo": "text",
         "marker": {
          "color": "rgb(255,65,54)"
         },
         "mode": "lines",
         "type": "scatter",
         "x": [
          0.8325671926624404,
          0.8893707708381943,
          0.8893707708381943,
          0
         ],
         "xaxis": "x",
         "y": [
          -990,
          -990,
          -1005,
          -1005
         ],
         "yaxis": "y"
        },
        {
         "hoverinfo": "text",
         "marker": {
          "color": "rgb(255,65,54)"
         },
         "mode": "lines",
         "type": "scatter",
         "x": [
          0.8641387650700283,
          0.9409660916389507,
          0.9409660916389507,
          0.8893707708381943
         ],
         "xaxis": "x",
         "y": [
          -970,
          -970,
          -997.5,
          -997.5
         ],
         "yaxis": "y"
        },
        {
         "hoverinfo": "text",
         "marker": {
          "color": "rgb(255,65,54)"
         },
         "mode": "lines",
         "type": "scatter",
         "x": [
          0,
          0.7591862990159193,
          0.7591862990159193,
          0
         ],
         "xaxis": "x",
         "y": [
          -1015,
          -1015,
          -1025,
          -1025
         ],
         "yaxis": "y"
        },
        {
         "hoverinfo": "text",
         "marker": {
          "color": "rgb(255,65,54)"
         },
         "mode": "lines",
         "type": "scatter",
         "x": [
          0.7591862990159193,
          0.7735759719253623,
          0.7735759719253623,
          0
         ],
         "xaxis": "x",
         "y": [
          -1020,
          -1020,
          -1035,
          -1035
         ],
         "yaxis": "y"
        },
        {
         "hoverinfo": "text",
         "marker": {
          "color": "rgb(255,65,54)"
         },
         "mode": "lines",
         "type": "scatter",
         "x": [
          0.9409660916389507,
          0.9823062211425598,
          0.9823062211425598,
          0.7735759719253623
         ],
         "xaxis": "x",
         "y": [
          -983.75,
          -983.75,
          -1027.5,
          -1027.5
         ],
         "yaxis": "y"
        },
        {
         "hoverinfo": "text",
         "marker": {
          "color": "rgb(35,205,205)"
         },
         "mode": "lines",
         "type": "scatter",
         "x": [
          0,
          0.7705824466162426,
          0.7705824466162426,
          0
         ],
         "xaxis": "x",
         "y": [
          -1055,
          -1055,
          -1065,
          -1065
         ],
         "yaxis": "y"
        },
        {
         "hoverinfo": "text",
         "marker": {
          "color": "rgb(35,205,205)"
         },
         "mode": "lines",
         "type": "scatter",
         "x": [
          0,
          0.790082792893437,
          0.790082792893437,
          0.7705824466162426
         ],
         "xaxis": "x",
         "y": [
          -1045,
          -1045,
          -1060,
          -1060
         ],
         "yaxis": "y"
        },
        {
         "hoverinfo": "text",
         "marker": {
          "color": "rgb(35,205,205)"
         },
         "mode": "lines",
         "type": "scatter",
         "x": [
          0.790082792893437,
          0.8350769069577909,
          0.8350769069577909,
          0
         ],
         "xaxis": "x",
         "y": [
          -1052.5,
          -1052.5,
          -1075,
          -1075
         ],
         "yaxis": "y"
        },
        {
         "hoverinfo": "text",
         "marker": {
          "color": "rgb(0,116,217)"
         },
         "mode": "lines",
         "type": "scatter",
         "x": [
          0.9823062211425598,
          1.107713496924574,
          1.107713496924574,
          0.8350769069577909
         ],
         "xaxis": "x",
         "y": [
          -1005.625,
          -1005.625,
          -1063.75,
          -1063.75
         ],
         "yaxis": "y"
        },
        {
         "hoverinfo": "text",
         "marker": {
          "color": "rgb(61,153,112)"
         },
         "mode": "lines",
         "type": "scatter",
         "x": [
          0,
          0.748675550606378,
          0.748675550606378,
          0
         ],
         "xaxis": "x",
         "y": [
          -1085,
          -1085,
          -1095,
          -1095
         ],
         "yaxis": "y"
        },
        {
         "hoverinfo": "text",
         "marker": {
          "color": "rgb(255,65,54)"
         },
         "mode": "lines",
         "type": "scatter",
         "x": [
          0,
          0.6986715048744914,
          0.6986715048744914,
          0
         ],
         "xaxis": "x",
         "y": [
          -1115,
          -1115,
          -1125,
          -1125
         ],
         "yaxis": "y"
        },
        {
         "hoverinfo": "text",
         "marker": {
          "color": "rgb(255,65,54)"
         },
         "mode": "lines",
         "type": "scatter",
         "x": [
          0,
          0.8638142285065612,
          0.8638142285065612,
          0.6986715048744914
         ],
         "xaxis": "x",
         "y": [
          -1105,
          -1105,
          -1120,
          -1120
         ],
         "yaxis": "y"
        },
        {
         "hoverinfo": "text",
         "marker": {
          "color": "rgb(255,65,54)"
         },
         "mode": "lines",
         "type": "scatter",
         "x": [
          0.8638142285065612,
          0.917072687873157,
          0.917072687873157,
          0
         ],
         "xaxis": "x",
         "y": [
          -1112.5,
          -1112.5,
          -1135,
          -1135
         ],
         "yaxis": "y"
        },
        {
         "hoverinfo": "text",
         "marker": {
          "color": "rgb(0,116,217)"
         },
         "mode": "lines",
         "type": "scatter",
         "x": [
          0.748675550606378,
          1.038188076381298,
          1.038188076381298,
          0.917072687873157
         ],
         "xaxis": "x",
         "y": [
          -1090,
          -1090,
          -1123.75,
          -1123.75
         ],
         "yaxis": "y"
        },
        {
         "hoverinfo": "text",
         "marker": {
          "color": "rgb(0,116,217)"
         },
         "mode": "lines",
         "type": "scatter",
         "x": [
          1.107713496924574,
          1.1339862417537527,
          1.1339862417537527,
          1.038188076381298
         ],
         "xaxis": "x",
         "y": [
          -1034.6875,
          -1034.6875,
          -1106.875,
          -1106.875
         ],
         "yaxis": "y"
        },
        {
         "hoverinfo": "text",
         "marker": {
          "color": "rgb(0,116,217)"
         },
         "mode": "lines",
         "type": "scatter",
         "x": [
          1.0507618091895687,
          1.156560762463851,
          1.156560762463851,
          1.1339862417537527
         ],
         "xaxis": "x",
         "y": [
          -917.8125,
          -917.8125,
          -1070.78125,
          -1070.78125
         ],
         "yaxis": "y"
        },
        {
         "hoverinfo": "text",
         "marker": {
          "color": "rgb(35,205,205)"
         },
         "mode": "lines",
         "type": "scatter",
         "x": [
          0,
          0.8156193779013926,
          0.8156193779013926,
          0
         ],
         "xaxis": "x",
         "y": [
          -1155,
          -1155,
          -1165,
          -1165
         ],
         "yaxis": "y"
        },
        {
         "hoverinfo": "text",
         "marker": {
          "color": "rgb(35,205,205)"
         },
         "mode": "lines",
         "type": "scatter",
         "x": [
          0,
          0.9141311766505077,
          0.9141311766505077,
          0.8156193779013926
         ],
         "xaxis": "x",
         "y": [
          -1145,
          -1145,
          -1160,
          -1160
         ],
         "yaxis": "y"
        },
        {
         "hoverinfo": "text",
         "marker": {
          "color": "rgb(35,205,205)"
         },
         "mode": "lines",
         "type": "scatter",
         "x": [
          0,
          0.8890641958366982,
          0.8890641958366982,
          0
         ],
         "xaxis": "x",
         "y": [
          -1175,
          -1175,
          -1185,
          -1185
         ],
         "yaxis": "y"
        },
        {
         "hoverinfo": "text",
         "marker": {
          "color": "rgb(35,205,205)"
         },
         "mode": "lines",
         "type": "scatter",
         "x": [
          0.9141311766505077,
          0.9488609344057074,
          0.9488609344057074,
          0.8890641958366982
         ],
         "xaxis": "x",
         "y": [
          -1152.5,
          -1152.5,
          -1180,
          -1180
         ],
         "yaxis": "y"
        },
        {
         "hoverinfo": "text",
         "marker": {
          "color": "rgb(133,20,75)"
         },
         "mode": "lines",
         "type": "scatter",
         "x": [
          0,
          0.6785606976579148,
          0.6785606976579148,
          0
         ],
         "xaxis": "x",
         "y": [
          -1195,
          -1195,
          -1205,
          -1205
         ],
         "yaxis": "y"
        },
        {
         "hoverinfo": "text",
         "marker": {
          "color": "rgb(133,20,75)"
         },
         "mode": "lines",
         "type": "scatter",
         "x": [
          0.6785606976579148,
          0.8127527585647705,
          0.8127527585647705,
          0
         ],
         "xaxis": "x",
         "y": [
          -1200,
          -1200,
          -1215,
          -1215
         ],
         "yaxis": "y"
        },
        {
         "hoverinfo": "text",
         "marker": {
          "color": "rgb(133,20,75)"
         },
         "mode": "lines",
         "type": "scatter",
         "x": [
          0,
          0.74775086364646,
          0.74775086364646,
          0
         ],
         "xaxis": "x",
         "y": [
          -1225,
          -1225,
          -1235,
          -1235
         ],
         "yaxis": "y"
        },
        {
         "hoverinfo": "text",
         "marker": {
          "color": "rgb(133,20,75)"
         },
         "mode": "lines",
         "type": "scatter",
         "x": [
          0.8127527585647705,
          0.9951329046651394,
          0.9951329046651394,
          0.74775086364646
         ],
         "xaxis": "x",
         "y": [
          -1207.5,
          -1207.5,
          -1230,
          -1230
         ],
         "yaxis": "y"
        },
        {
         "hoverinfo": "text",
         "marker": {
          "color": "rgb(0,116,217)"
         },
         "mode": "lines",
         "type": "scatter",
         "x": [
          0.9488609344057074,
          1.0366325902170552,
          1.0366325902170552,
          0.9951329046651394
         ],
         "xaxis": "x",
         "y": [
          -1166.25,
          -1166.25,
          -1218.75,
          -1218.75
         ],
         "yaxis": "y"
        },
        {
         "hoverinfo": "text",
         "marker": {
          "color": "rgb(255,220,0)"
         },
         "mode": "lines",
         "type": "scatter",
         "x": [
          0,
          0.8401294671399034,
          0.8401294671399034,
          0
         ],
         "xaxis": "x",
         "y": [
          -1245,
          -1245,
          -1255,
          -1255
         ],
         "yaxis": "y"
        },
        {
         "hoverinfo": "text",
         "marker": {
          "color": "rgb(255,220,0)"
         },
         "mode": "lines",
         "type": "scatter",
         "x": [
          0.8401294671399034,
          0.9100742270870832,
          0.9100742270870832,
          0
         ],
         "xaxis": "x",
         "y": [
          -1250,
          -1250,
          -1265,
          -1265
         ],
         "yaxis": "y"
        },
        {
         "hoverinfo": "text",
         "marker": {
          "color": "rgb(40,35,35)"
         },
         "mode": "lines",
         "type": "scatter",
         "x": [
          0,
          0.7544712833151787,
          0.7544712833151787,
          0
         ],
         "xaxis": "x",
         "y": [
          -1275,
          -1275,
          -1285,
          -1285
         ],
         "yaxis": "y"
        },
        {
         "hoverinfo": "text",
         "marker": {
          "color": "rgb(40,35,35)"
         },
         "mode": "lines",
         "type": "scatter",
         "x": [
          0.7544712833151787,
          0.8532693941014171,
          0.8532693941014171,
          0
         ],
         "xaxis": "x",
         "y": [
          -1280,
          -1280,
          -1295,
          -1295
         ],
         "yaxis": "y"
        },
        {
         "hoverinfo": "text",
         "marker": {
          "color": "rgb(40,35,35)"
         },
         "mode": "lines",
         "type": "scatter",
         "x": [
          0,
          0.7031922467868637,
          0.7031922467868637,
          0
         ],
         "xaxis": "x",
         "y": [
          -1315,
          -1315,
          -1325,
          -1325
         ],
         "yaxis": "y"
        },
        {
         "hoverinfo": "text",
         "marker": {
          "color": "rgb(40,35,35)"
         },
         "mode": "lines",
         "type": "scatter",
         "x": [
          0,
          0.7300164568618297,
          0.7300164568618297,
          0.7031922467868637
         ],
         "xaxis": "x",
         "y": [
          -1305,
          -1305,
          -1320,
          -1320
         ],
         "yaxis": "y"
        },
        {
         "hoverinfo": "text",
         "marker": {
          "color": "rgb(40,35,35)"
         },
         "mode": "lines",
         "type": "scatter",
         "x": [
          0,
          0.610852110548538,
          0.610852110548538,
          0
         ],
         "xaxis": "x",
         "y": [
          -1345,
          -1345,
          -1355,
          -1355
         ],
         "yaxis": "y"
        },
        {
         "hoverinfo": "text",
         "marker": {
          "color": "rgb(40,35,35)"
         },
         "mode": "lines",
         "type": "scatter",
         "x": [
          0,
          0.6683795122576107,
          0.6683795122576107,
          0.610852110548538
         ],
         "xaxis": "x",
         "y": [
          -1335,
          -1335,
          -1350,
          -1350
         ],
         "yaxis": "y"
        },
        {
         "hoverinfo": "text",
         "marker": {
          "color": "rgb(40,35,35)"
         },
         "mode": "lines",
         "type": "scatter",
         "x": [
          0.6683795122576107,
          0.7798547468723184,
          0.7798547468723184,
          0
         ],
         "xaxis": "x",
         "y": [
          -1342.5,
          -1342.5,
          -1365,
          -1365
         ],
         "yaxis": "y"
        },
        {
         "hoverinfo": "text",
         "marker": {
          "color": "rgb(40,35,35)"
         },
         "mode": "lines",
         "type": "scatter",
         "x": [
          0.7300164568618297,
          0.8249188728235899,
          0.8249188728235899,
          0.7798547468723184
         ],
         "xaxis": "x",
         "y": [
          -1312.5,
          -1312.5,
          -1353.75,
          -1353.75
         ],
         "yaxis": "y"
        },
        {
         "hoverinfo": "text",
         "marker": {
          "color": "rgb(40,35,35)"
         },
         "mode": "lines",
         "type": "scatter",
         "x": [
          0.8532693941014171,
          0.9034230293542382,
          0.9034230293542382,
          0.8249188728235899
         ],
         "xaxis": "x",
         "y": [
          -1287.5,
          -1287.5,
          -1333.125,
          -1333.125
         ],
         "yaxis": "y"
        },
        {
         "hoverinfo": "text",
         "marker": {
          "color": "rgb(40,35,35)"
         },
         "mode": "lines",
         "type": "scatter",
         "x": [
          0.9034230293542382,
          0.9351199312292668,
          0.9351199312292668,
          0
         ],
         "xaxis": "x",
         "y": [
          -1310.3125,
          -1310.3125,
          -1375,
          -1375
         ],
         "yaxis": "y"
        },
        {
         "hoverinfo": "text",
         "marker": {
          "color": "rgb(0,116,217)"
         },
         "mode": "lines",
         "type": "scatter",
         "x": [
          0.9100742270870832,
          1.0131375013218307,
          1.0131375013218307,
          0.9351199312292668
         ],
         "xaxis": "x",
         "y": [
          -1257.5,
          -1257.5,
          -1342.65625,
          -1342.65625
         ],
         "yaxis": "y"
        },
        {
         "hoverinfo": "text",
         "marker": {
          "color": "rgb(0,116,217)"
         },
         "mode": "lines",
         "type": "scatter",
         "x": [
          1.0366325902170552,
          1.0844251909310485,
          1.0844251909310485,
          1.0131375013218307
         ],
         "xaxis": "x",
         "y": [
          -1192.5,
          -1192.5,
          -1300.078125,
          -1300.078125
         ],
         "yaxis": "y"
        },
        {
         "hoverinfo": "text",
         "marker": {
          "color": "rgb(61,153,112)"
         },
         "mode": "lines",
         "type": "scatter",
         "x": [
          0,
          0.642665199074014,
          0.642665199074014,
          0
         ],
         "xaxis": "x",
         "y": [
          -1385,
          -1385,
          -1395,
          -1395
         ],
         "yaxis": "y"
        },
        {
         "hoverinfo": "text",
         "marker": {
          "color": "rgb(61,153,112)"
         },
         "mode": "lines",
         "type": "scatter",
         "x": [
          0.642665199074014,
          0.8416957628274646,
          0.8416957628274646,
          0
         ],
         "xaxis": "x",
         "y": [
          -1390,
          -1390,
          -1405,
          -1405
         ],
         "yaxis": "y"
        },
        {
         "hoverinfo": "text",
         "marker": {
          "color": "rgb(0,116,217)"
         },
         "mode": "lines",
         "type": "scatter",
         "x": [
          1.0844251909310485,
          1.1527313427351993,
          1.1527313427351993,
          0.8416957628274646
         ],
         "xaxis": "x",
         "y": [
          -1246.2890625,
          -1246.2890625,
          -1397.5,
          -1397.5
         ],
         "yaxis": "y"
        },
        {
         "hoverinfo": "text",
         "marker": {
          "color": "rgb(0,116,217)"
         },
         "mode": "lines",
         "type": "scatter",
         "x": [
          1.156560762463851,
          1.240498914852567,
          1.240498914852567,
          1.1527313427351993
         ],
         "xaxis": "x",
         "y": [
          -994.296875,
          -994.296875,
          -1321.89453125,
          -1321.89453125
         ],
         "yaxis": "y"
        },
        {
         "hoverinfo": "text",
         "marker": {
          "color": "rgb(0,116,217)"
         },
         "mode": "lines",
         "type": "scatter",
         "x": [
          1.252436818850252,
          1.3264996053071716,
          1.3264996053071716,
          1.240498914852567
         ],
         "xaxis": "x",
         "y": [
          -631.854248046875,
          -631.854248046875,
          -1158.095703125,
          -1158.095703125
         ],
         "yaxis": "y"
        },
        {
         "hoverinfo": "text",
         "marker": {
          "color": "rgb(0,116,217)"
         },
         "mode": "lines",
         "type": "scatter",
         "x": [
          1.2235879288492229,
          1.4567762767412902,
          1.4567762767412902,
          1.3264996053071716
         ],
         "xaxis": "x",
         "y": [
          -135.7080078125,
          -135.7080078125,
          -894.9749755859375,
          -894.9749755859375
         ],
         "yaxis": "y"
        }
       ],
       "layout": {
        "autosize": false,
        "height": 2315,
        "hoverlabel": {
         "bgcolor": "white",
         "font": {
          "family": "Rockwell",
          "size": 16
         }
        },
        "hovermode": "closest",
        "plot_bgcolor": "#ECEFF1",
        "showlegend": false,
        "template": {
         "data": {
          "bar": [
           {
            "error_x": {
             "color": "#2a3f5f"
            },
            "error_y": {
             "color": "#2a3f5f"
            },
            "marker": {
             "line": {
              "color": "white",
              "width": 0.5
             },
             "pattern": {
              "fillmode": "overlay",
              "size": 10,
              "solidity": 0.2
             }
            },
            "type": "bar"
           }
          ],
          "barpolar": [
           {
            "marker": {
             "line": {
              "color": "white",
              "width": 0.5
             },
             "pattern": {
              "fillmode": "overlay",
              "size": 10,
              "solidity": 0.2
             }
            },
            "type": "barpolar"
           }
          ],
          "carpet": [
           {
            "aaxis": {
             "endlinecolor": "#2a3f5f",
             "gridcolor": "#C8D4E3",
             "linecolor": "#C8D4E3",
             "minorgridcolor": "#C8D4E3",
             "startlinecolor": "#2a3f5f"
            },
            "baxis": {
             "endlinecolor": "#2a3f5f",
             "gridcolor": "#C8D4E3",
             "linecolor": "#C8D4E3",
             "minorgridcolor": "#C8D4E3",
             "startlinecolor": "#2a3f5f"
            },
            "type": "carpet"
           }
          ],
          "choropleth": [
           {
            "colorbar": {
             "outlinewidth": 0,
             "ticks": ""
            },
            "type": "choropleth"
           }
          ],
          "contour": [
           {
            "colorbar": {
             "outlinewidth": 0,
             "ticks": ""
            },
            "colorscale": [
             [
              0,
              "#0d0887"
             ],
             [
              0.1111111111111111,
              "#46039f"
             ],
             [
              0.2222222222222222,
              "#7201a8"
             ],
             [
              0.3333333333333333,
              "#9c179e"
             ],
             [
              0.4444444444444444,
              "#bd3786"
             ],
             [
              0.5555555555555556,
              "#d8576b"
             ],
             [
              0.6666666666666666,
              "#ed7953"
             ],
             [
              0.7777777777777778,
              "#fb9f3a"
             ],
             [
              0.8888888888888888,
              "#fdca26"
             ],
             [
              1,
              "#f0f921"
             ]
            ],
            "type": "contour"
           }
          ],
          "contourcarpet": [
           {
            "colorbar": {
             "outlinewidth": 0,
             "ticks": ""
            },
            "type": "contourcarpet"
           }
          ],
          "heatmap": [
           {
            "colorbar": {
             "outlinewidth": 0,
             "ticks": ""
            },
            "colorscale": [
             [
              0,
              "#0d0887"
             ],
             [
              0.1111111111111111,
              "#46039f"
             ],
             [
              0.2222222222222222,
              "#7201a8"
             ],
             [
              0.3333333333333333,
              "#9c179e"
             ],
             [
              0.4444444444444444,
              "#bd3786"
             ],
             [
              0.5555555555555556,
              "#d8576b"
             ],
             [
              0.6666666666666666,
              "#ed7953"
             ],
             [
              0.7777777777777778,
              "#fb9f3a"
             ],
             [
              0.8888888888888888,
              "#fdca26"
             ],
             [
              1,
              "#f0f921"
             ]
            ],
            "type": "heatmap"
           }
          ],
          "heatmapgl": [
           {
            "colorbar": {
             "outlinewidth": 0,
             "ticks": ""
            },
            "colorscale": [
             [
              0,
              "#0d0887"
             ],
             [
              0.1111111111111111,
              "#46039f"
             ],
             [
              0.2222222222222222,
              "#7201a8"
             ],
             [
              0.3333333333333333,
              "#9c179e"
             ],
             [
              0.4444444444444444,
              "#bd3786"
             ],
             [
              0.5555555555555556,
              "#d8576b"
             ],
             [
              0.6666666666666666,
              "#ed7953"
             ],
             [
              0.7777777777777778,
              "#fb9f3a"
             ],
             [
              0.8888888888888888,
              "#fdca26"
             ],
             [
              1,
              "#f0f921"
             ]
            ],
            "type": "heatmapgl"
           }
          ],
          "histogram": [
           {
            "marker": {
             "pattern": {
              "fillmode": "overlay",
              "size": 10,
              "solidity": 0.2
             }
            },
            "type": "histogram"
           }
          ],
          "histogram2d": [
           {
            "colorbar": {
             "outlinewidth": 0,
             "ticks": ""
            },
            "colorscale": [
             [
              0,
              "#0d0887"
             ],
             [
              0.1111111111111111,
              "#46039f"
             ],
             [
              0.2222222222222222,
              "#7201a8"
             ],
             [
              0.3333333333333333,
              "#9c179e"
             ],
             [
              0.4444444444444444,
              "#bd3786"
             ],
             [
              0.5555555555555556,
              "#d8576b"
             ],
             [
              0.6666666666666666,
              "#ed7953"
             ],
             [
              0.7777777777777778,
              "#fb9f3a"
             ],
             [
              0.8888888888888888,
              "#fdca26"
             ],
             [
              1,
              "#f0f921"
             ]
            ],
            "type": "histogram2d"
           }
          ],
          "histogram2dcontour": [
           {
            "colorbar": {
             "outlinewidth": 0,
             "ticks": ""
            },
            "colorscale": [
             [
              0,
              "#0d0887"
             ],
             [
              0.1111111111111111,
              "#46039f"
             ],
             [
              0.2222222222222222,
              "#7201a8"
             ],
             [
              0.3333333333333333,
              "#9c179e"
             ],
             [
              0.4444444444444444,
              "#bd3786"
             ],
             [
              0.5555555555555556,
              "#d8576b"
             ],
             [
              0.6666666666666666,
              "#ed7953"
             ],
             [
              0.7777777777777778,
              "#fb9f3a"
             ],
             [
              0.8888888888888888,
              "#fdca26"
             ],
             [
              1,
              "#f0f921"
             ]
            ],
            "type": "histogram2dcontour"
           }
          ],
          "mesh3d": [
           {
            "colorbar": {
             "outlinewidth": 0,
             "ticks": ""
            },
            "type": "mesh3d"
           }
          ],
          "parcoords": [
           {
            "line": {
             "colorbar": {
              "outlinewidth": 0,
              "ticks": ""
             }
            },
            "type": "parcoords"
           }
          ],
          "pie": [
           {
            "automargin": true,
            "type": "pie"
           }
          ],
          "scatter": [
           {
            "fillpattern": {
             "fillmode": "overlay",
             "size": 10,
             "solidity": 0.2
            },
            "type": "scatter"
           }
          ],
          "scatter3d": [
           {
            "line": {
             "colorbar": {
              "outlinewidth": 0,
              "ticks": ""
             }
            },
            "marker": {
             "colorbar": {
              "outlinewidth": 0,
              "ticks": ""
             }
            },
            "type": "scatter3d"
           }
          ],
          "scattercarpet": [
           {
            "marker": {
             "colorbar": {
              "outlinewidth": 0,
              "ticks": ""
             }
            },
            "type": "scattercarpet"
           }
          ],
          "scattergeo": [
           {
            "marker": {
             "colorbar": {
              "outlinewidth": 0,
              "ticks": ""
             }
            },
            "type": "scattergeo"
           }
          ],
          "scattergl": [
           {
            "marker": {
             "colorbar": {
              "outlinewidth": 0,
              "ticks": ""
             }
            },
            "type": "scattergl"
           }
          ],
          "scattermapbox": [
           {
            "marker": {
             "colorbar": {
              "outlinewidth": 0,
              "ticks": ""
             }
            },
            "type": "scattermapbox"
           }
          ],
          "scatterpolar": [
           {
            "marker": {
             "colorbar": {
              "outlinewidth": 0,
              "ticks": ""
             }
            },
            "type": "scatterpolar"
           }
          ],
          "scatterpolargl": [
           {
            "marker": {
             "colorbar": {
              "outlinewidth": 0,
              "ticks": ""
             }
            },
            "type": "scatterpolargl"
           }
          ],
          "scatterternary": [
           {
            "marker": {
             "colorbar": {
              "outlinewidth": 0,
              "ticks": ""
             }
            },
            "type": "scatterternary"
           }
          ],
          "surface": [
           {
            "colorbar": {
             "outlinewidth": 0,
             "ticks": ""
            },
            "colorscale": [
             [
              0,
              "#0d0887"
             ],
             [
              0.1111111111111111,
              "#46039f"
             ],
             [
              0.2222222222222222,
              "#7201a8"
             ],
             [
              0.3333333333333333,
              "#9c179e"
             ],
             [
              0.4444444444444444,
              "#bd3786"
             ],
             [
              0.5555555555555556,
              "#d8576b"
             ],
             [
              0.6666666666666666,
              "#ed7953"
             ],
             [
              0.7777777777777778,
              "#fb9f3a"
             ],
             [
              0.8888888888888888,
              "#fdca26"
             ],
             [
              1,
              "#f0f921"
             ]
            ],
            "type": "surface"
           }
          ],
          "table": [
           {
            "cells": {
             "fill": {
              "color": "#EBF0F8"
             },
             "line": {
              "color": "white"
             }
            },
            "header": {
             "fill": {
              "color": "#C8D4E3"
             },
             "line": {
              "color": "white"
             }
            },
            "type": "table"
           }
          ]
         },
         "layout": {
          "annotationdefaults": {
           "arrowcolor": "#2a3f5f",
           "arrowhead": 0,
           "arrowwidth": 1
          },
          "autotypenumbers": "strict",
          "coloraxis": {
           "colorbar": {
            "outlinewidth": 0,
            "ticks": ""
           }
          },
          "colorscale": {
           "diverging": [
            [
             0,
             "#8e0152"
            ],
            [
             0.1,
             "#c51b7d"
            ],
            [
             0.2,
             "#de77ae"
            ],
            [
             0.3,
             "#f1b6da"
            ],
            [
             0.4,
             "#fde0ef"
            ],
            [
             0.5,
             "#f7f7f7"
            ],
            [
             0.6,
             "#e6f5d0"
            ],
            [
             0.7,
             "#b8e186"
            ],
            [
             0.8,
             "#7fbc41"
            ],
            [
             0.9,
             "#4d9221"
            ],
            [
             1,
             "#276419"
            ]
           ],
           "sequential": [
            [
             0,
             "#0d0887"
            ],
            [
             0.1111111111111111,
             "#46039f"
            ],
            [
             0.2222222222222222,
             "#7201a8"
            ],
            [
             0.3333333333333333,
             "#9c179e"
            ],
            [
             0.4444444444444444,
             "#bd3786"
            ],
            [
             0.5555555555555556,
             "#d8576b"
            ],
            [
             0.6666666666666666,
             "#ed7953"
            ],
            [
             0.7777777777777778,
             "#fb9f3a"
            ],
            [
             0.8888888888888888,
             "#fdca26"
            ],
            [
             1,
             "#f0f921"
            ]
           ],
           "sequentialminus": [
            [
             0,
             "#0d0887"
            ],
            [
             0.1111111111111111,
             "#46039f"
            ],
            [
             0.2222222222222222,
             "#7201a8"
            ],
            [
             0.3333333333333333,
             "#9c179e"
            ],
            [
             0.4444444444444444,
             "#bd3786"
            ],
            [
             0.5555555555555556,
             "#d8576b"
            ],
            [
             0.6666666666666666,
             "#ed7953"
            ],
            [
             0.7777777777777778,
             "#fb9f3a"
            ],
            [
             0.8888888888888888,
             "#fdca26"
            ],
            [
             1,
             "#f0f921"
            ]
           ]
          },
          "colorway": [
           "#636efa",
           "#EF553B",
           "#00cc96",
           "#ab63fa",
           "#FFA15A",
           "#19d3f3",
           "#FF6692",
           "#B6E880",
           "#FF97FF",
           "#FECB52"
          ],
          "font": {
           "color": "#2a3f5f"
          },
          "geo": {
           "bgcolor": "white",
           "lakecolor": "white",
           "landcolor": "white",
           "showlakes": true,
           "showland": true,
           "subunitcolor": "#C8D4E3"
          },
          "hoverlabel": {
           "align": "left"
          },
          "hovermode": "closest",
          "mapbox": {
           "style": "light"
          },
          "paper_bgcolor": "white",
          "plot_bgcolor": "white",
          "polar": {
           "angularaxis": {
            "gridcolor": "#EBF0F8",
            "linecolor": "#EBF0F8",
            "ticks": ""
           },
           "bgcolor": "white",
           "radialaxis": {
            "gridcolor": "#EBF0F8",
            "linecolor": "#EBF0F8",
            "ticks": ""
           }
          },
          "scene": {
           "xaxis": {
            "backgroundcolor": "white",
            "gridcolor": "#DFE8F3",
            "gridwidth": 2,
            "linecolor": "#EBF0F8",
            "showbackground": true,
            "ticks": "",
            "zerolinecolor": "#EBF0F8"
           },
           "yaxis": {
            "backgroundcolor": "white",
            "gridcolor": "#DFE8F3",
            "gridwidth": 2,
            "linecolor": "#EBF0F8",
            "showbackground": true,
            "ticks": "",
            "zerolinecolor": "#EBF0F8"
           },
           "zaxis": {
            "backgroundcolor": "white",
            "gridcolor": "#DFE8F3",
            "gridwidth": 2,
            "linecolor": "#EBF0F8",
            "showbackground": true,
            "ticks": "",
            "zerolinecolor": "#EBF0F8"
           }
          },
          "shapedefaults": {
           "line": {
            "color": "#2a3f5f"
           }
          },
          "ternary": {
           "aaxis": {
            "gridcolor": "#DFE8F3",
            "linecolor": "#A2B1C6",
            "ticks": ""
           },
           "baxis": {
            "gridcolor": "#DFE8F3",
            "linecolor": "#A2B1C6",
            "ticks": ""
           },
           "bgcolor": "white",
           "caxis": {
            "gridcolor": "#DFE8F3",
            "linecolor": "#A2B1C6",
            "ticks": ""
           }
          },
          "title": {
           "x": 0.05
          },
          "xaxis": {
           "automargin": true,
           "gridcolor": "#EBF0F8",
           "linecolor": "#EBF0F8",
           "ticks": "",
           "title": {
            "standoff": 15
           },
           "zerolinecolor": "#EBF0F8",
           "zerolinewidth": 2
          },
          "yaxis": {
           "automargin": true,
           "gridcolor": "#EBF0F8",
           "linecolor": "#EBF0F8",
           "ticks": "",
           "title": {
            "standoff": 15
           },
           "zerolinecolor": "#EBF0F8",
           "zerolinewidth": 2
          }
         }
        },
        "title": {
         "font": {
          "color": "Black",
          "size": 22
         },
         "text": "<b>Hierarchical Clustering</b>",
         "x": 0.5,
         "xanchor": "center",
         "yanchor": "top"
        },
        "width": 1000,
        "xaxis": {
         "mirror": "allticks",
         "rangemode": "tozero",
         "showgrid": false,
         "showline": true,
         "showticklabels": true,
         "ticks": "outside",
         "type": "linear",
         "zeroline": false
        },
        "yaxis": {
         "mirror": "allticks",
         "range": [
          -1410,
          0
         ],
         "rangemode": "tozero",
         "showgrid": false,
         "showline": true,
         "showticklabels": true,
         "tickmode": "array",
         "ticks": "outside",
         "ticktext": [
          "132_order_confirmation_placed_shipped",
          "21_jsp_method_page_servlet",
          "99_seminar_registration_invite_thursday",
          "115_wap_push_toolkit_url",
          "23_check_checks_cheque_amount",
          "112_certificates_verisign_certificate_exalink",
          "65_html_pages_htmlhost_files",
          "37_survey_questionnaire_surveys_onyx",
          "97_video_delta_mro_props",
          "94_response_message_sent_todya",
          "61_code_sample_gesture_if",
          "51_helpdesk_assistance_support_request",
          "120_directions_yestreday_pky_product_id",
          "67_log_logs_files_loglevel",
          "63_laptop_laptops_dell_battery",
          "3_send_files",
          "12_meeting_calendar_request_meetings",
          "43_itinerary_flight_tickets_arrive",
          "121_class_classpath_file_saving",
          "124_materials_material_need_limitations",
          "6_send_pqa",
          "52_vss_files_webbyphone_quicken",
          "58_application_spells_issues_applications",
          "68_demo_url_so_afternoon",
          "66_device_header_deviceid_gateway",
          "125_pocketpc_pocket_pc_handles",
          "105_emulator_gateway_test_voicestram",
          "69_rim_dds_rimulator_application",
          "76_webex_participants_meeting_password",
          "134_notice_notices_interns_deviate",
          "130_parameters_variables_newline_param1",
          "110_qm_user_quota_mean",
          "31_press_release_releases_kits",
          "85_paypal_money_account_commission",
          "135_confirmation_shortly_soon_confirmations",
          "119_weblogic_license_pools_jndi",
          "27_logo_logos_eps_our",
          "126_pda_carry_options_pcdata",
          "133_samples_sample_evaluation_aim",
          "122_pdf_pdfs_electronic_file",
          "100_ideas_methodology_suggestions_bit",
          "109_delay_apologize_apologies_sorry",
          "62_translation_localization_language_translate",
          "28_nda_mutual_signed_our",
          "22_send_check",
          "8_send_fax",
          "49_form_forms_irs_filled",
          "138_loan_finance_financials_official",
          "90_visio_lower_screens_version",
          "36_resend_can_could_it",
          "17_send_resume",
          "77_dds_final_copy_smart",
          "96_text_html_known_img",
          "24_sms_messages_messaging_mobile",
          "74_spec_specs_functional_review",
          "117_requests_request_refrain_demanding",
          "88_emails_sent_realized_browny",
          "45_report_reports_pipeline_weekly",
          "108_mail_decoded_bhagavan_chaitanya",
          "83_them_they_info_but",
          "113_lunch_dinner_noon_arrives",
          "102_ip_external_internal_address",
          "114_hosting_deal_virtual_jill",
          "33_scoping_document_analysis_ae",
          "75_timesheet_innova_timesheets_reporting",
          "129_left_voicemail_voice_offensive",
          "123_group_calling_rmallik_numbers",
          "60_schedule_objectives_week_schedules",
          "93_version_versions_discard_older",
          "7_item_oca_data_osa",
          "86_thank_gift_snd_his",
          "103_office_patrice_sabre_come",
          "127_icons_screen_screens_shot",
          "128_ewap_ewrp_signed_info",
          "26_project_plan_projects_create",
          "87_proposal_plan_proposals_tomorrow",
          "92_note_notes_concurrency_briefed",
          "35_attend_event_attendees_attending",
          "71_parameters_server_utilization_cpu",
          "118_estimate_estimates_task_idctasks",
          "95_japanese_miyuki_idc_translation",
          "89_siebel_dbhost_neon_view_alwayson",
          "84_had_sent_mistake_that",
          "107_notes_out_later_dialled",
          "54_url_application_offline_app",
          "136_printed_print_job_batching",
          "101_smalltalk_object_method_argument",
          "82_questions_any_feel_if",
          "10_send_pictures",
          "18_resume_resumes_my_me",
          "14_send_details_information",
          "38_xml_emas_spy_hdml",
          "79_design_requirements_studio_birdsall",
          "46_pricing_price_hilton_premium",
          "81_docs_doc_ve_surgery",
          "131_questions_productive_busy_answers",
          "40_status_reports_report_weekly",
          "59_conference_call_number_siebel",
          "41_agenda_interview_out_will",
          "55_mail_me_please_an",
          "111_quote_tapes_tac_ergo",
          "98_emds_emas_guide_ravi",
          "34_password_login_vpn_passwords",
          "16_send_invitation",
          "11_send_meeting_request",
          "64_ops_request_opssupport_op",
          "116_cancellation_cancel_totally_refund",
          "50_template_templates_art_compact",
          "30_draft_final_tonight_first",
          "140_number_font_hook_okay",
          "57_features_feature_list_release",
          "20_bug_bugs_bugzilla_list",
          "139_enter_dial_press_call",
          "53_hotel_reservations_travel_room",
          "32_thanks_sending_for_thank",
          "48_installation_install_installer_installshield",
          "78_cc_ccing_cced_ialbert",
          "73_license_licenses_key_agreement",
          "106_alias_aliases_om_processes",
          "56_pager_pagers_pin_airmessage",
          "15_send_list",
          "19_send_bug_status",
          "47_technical_engineers_nwoods_8740",
          "70_build_available_builds_5_alerts",
          "104_ppt_kinkos_10cfr21_4608",
          "91_lead_leads_assessment_credit",
          "137_aol_address_msierra_noemigp",
          "13_send_test_results",
          "25_spreadsheet_excel_sheet_jup",
          "80_team_nike_roster_contact",
          "1_send_review",
          "9_send_update_changes",
          "42_documentation_document_docs_updated",
          "4_send_contract",
          "5_send_copy",
          "0_send_something",
          "2_send_presentation",
          "29_invoice_invoices_march_paid",
          "39_contact_info_information_me",
          "44_attachment_mb_size_limit",
          "72_expense_expenses_month_reports"
         ],
         "tickvals": [
          -5,
          -15,
          -25,
          -35,
          -45,
          -55,
          -65,
          -75,
          -85,
          -95,
          -105,
          -115,
          -125,
          -135,
          -145,
          -155,
          -165,
          -175,
          -185,
          -195,
          -205,
          -215,
          -225,
          -235,
          -245,
          -255,
          -265,
          -275,
          -285,
          -295,
          -305,
          -315,
          -325,
          -335,
          -345,
          -355,
          -365,
          -375,
          -385,
          -395,
          -405,
          -415,
          -425,
          -435,
          -445,
          -455,
          -465,
          -475,
          -485,
          -495,
          -505,
          -515,
          -525,
          -535,
          -545,
          -555,
          -565,
          -575,
          -585,
          -595,
          -605,
          -615,
          -625,
          -635,
          -645,
          -655,
          -665,
          -675,
          -685,
          -695,
          -705,
          -715,
          -725,
          -735,
          -745,
          -755,
          -765,
          -775,
          -785,
          -795,
          -805,
          -815,
          -825,
          -835,
          -845,
          -855,
          -865,
          -875,
          -885,
          -895,
          -905,
          -915,
          -925,
          -935,
          -945,
          -955,
          -965,
          -975,
          -985,
          -995,
          -1005,
          -1015,
          -1025,
          -1035,
          -1045,
          -1055,
          -1065,
          -1075,
          -1085,
          -1095,
          -1105,
          -1115,
          -1125,
          -1135,
          -1145,
          -1155,
          -1165,
          -1175,
          -1185,
          -1195,
          -1205,
          -1215,
          -1225,
          -1235,
          -1245,
          -1255,
          -1265,
          -1275,
          -1285,
          -1295,
          -1305,
          -1315,
          -1325,
          -1335,
          -1345,
          -1355,
          -1365,
          -1375,
          -1385,
          -1395,
          -1405
         ],
         "type": "linear",
         "zeroline": false
        }
       }
      }
     },
     "metadata": {},
     "output_type": "display_data"
    }
   ],
   "source": [
    "topic_model.visualize_hierarchy(custom_labels=True)"
   ]
  },
  {
   "cell_type": "code",
   "execution_count": 1660,
   "metadata": {},
   "outputs": [
    {
     "name": "stderr",
     "output_type": "stream",
     "text": [
      "2024-11-02 19:20:00,206 - BERTopic - WARNING: When you use `pickle` to save/load a BERTopic model,please make sure that the environments in which you saveand load the model are **exactly** the same. The version of BERTopic,its dependencies, and python need to remain the same.\n"
     ]
    }
   ],
   "source": [
    "topic_model.save(\"../../data/bertopic_models/intent/send_new/send_final\")"
   ]
  },
  {
   "cell_type": "markdown",
   "metadata": {},
   "source": [
    "### Create Dataset for intent 'send'"
   ]
  },
  {
   "cell_type": "markdown",
   "metadata": {},
   "source": [
    "####  Labels"
   ]
  },
  {
   "cell_type": "markdown",
   "metadata": {},
   "source": [
    "Created custom labels for topics\n",
    "\n",
    "| Label                             | Description                                       | Extraction Strings | Context needed |\n",
    "|-----------------------------------|---------------------------------------------------|--------------------|----------------|\n",
    "| send_it                           | Something is being send.                          | Data 2   |\n",
    "|0_send_something\n",
    "|1_send_review  ||'review', 'comment', 'suggestion', 'feedback', 'correction'|\n",
    "|2_send_presentation || 'powerpoint', 'presentation', 'slide', 'ppt', \n",
    "|3_send_files || ''\n",
    "|4_send_contract\n",
    "|5_send_copy   || copy\n",
    "|6_send_pqa || pqa\n",
    "|7_item_oca_data_osa\n",
    "|8_send_fax ||fax\n",
    "|9_send_update_changes || 'update','change' \n",
    "|10_send_pictures || 'pic','jpeg', 'image', 'photo'\n",
    "|11_send_meeting_request || 'meeting'\n",
    "|12_meeting_calendar_request_meetings\n",
    "|13_send_test_results\n",
    "|14_send_details_information || 'information', 'details'\n",
    "|15_send_list\n",
    "|16_send_invitation\n",
    "|17_send_resume\n",
    "|18_resume_resumes_my_me\n",
    "|19_send_bug_status"
   ]
  },
  {
   "cell_type": "markdown",
   "metadata": {},
   "source": [
    "#### Inspecting Topics"
   ]
  },
  {
   "cell_type": "code",
   "execution_count": 1672,
   "metadata": {},
   "outputs": [
    {
     "data": {
      "text/plain": [
       "'\\nfor  label in topic_model.custom_labels_:\\n   print(label)'"
      ]
     },
     "execution_count": 1672,
     "metadata": {},
     "output_type": "execute_result"
    }
   ],
   "source": [
    "'''\n",
    "for  label in topic_model.custom_labels_:\n",
    "   print(label)'''"
   ]
  },
  {
   "cell_type": "code",
   "execution_count": 3,
   "metadata": {},
   "outputs": [],
   "source": [
    "topic_model = BERTopic.load(\"../../data/bertopic_models/processed/send_final\")"
   ]
  },
  {
   "cell_type": "code",
   "execution_count": null,
   "metadata": {},
   "outputs": [],
   "source": []
  },
  {
   "cell_type": "code",
   "execution_count": 1833,
   "metadata": {},
   "outputs": [
    {
     "name": "stdout",
     "output_type": "stream",
     "text": [
      "Label: press_release_releases_kits\n",
      "\n",
      "Number of sentences for label: 67\n",
      "\n",
      "Sentences:\n",
      "\n",
      "Gents ,   Thanks for sending this along .\n",
      "Thanks a lot for sending this .\n",
      "Thanks for sending this our way .\n",
      "[PERSON] ,    Thanks for sending the other materials .\n",
      "Yes .     [PERSON] ,     Do you have one that you can send to me ?\n",
      "[PERSON] ,   Thanks for sending this .\n",
      "[PERSON] ,    Thank you for reading the things that I sent you .\n",
      "Thanks for sending this out .\n",
      "Send me what you have thus far .    Thanks ,    [PERSON] .\n",
      "[PERSON] , thanks for sending out the email earlier .\n",
      "[PERSON]    I meant to send this to you also .\n",
      "[PERSON] , thanks for sending this along .\n",
      "[PERSON] ,     Thanks for sending me the itineraries .\n",
      "[PERSON] , Thanks for sending the calculation over .\n",
      "[PERSON] ,    Thanks for sending this message .\n",
      "I thank you for sending a good guy over here .\n",
      "Thanks for sending these .\n",
      "Thanks for sending it out last night !     Amit .\n",
      "Thanks for the sending the request [PERSON] .    Regards ,   Shawn\n",
      "[ Sorry for the delay in sending this out . ]\n",
      "[PERSON] ;    This is the last thing I am going to send you tonite .\n",
      "[PERSON] ;    These are rough , however i will send you my first cut .\n",
      "[PERSON] ,    Thanks for sending this on .\n",
      "[PERSON] ,    Thanks for sending the insertion order .\n",
      "Hey [PERSON]    Thanks for sending that .\n",
      "[PERSON] ,    Thank you for sending this .\n",
      "[PERSON] ,    Thanks for sending me the details .\n",
      "[PERSON] ,   Thanks for sending the additional zip codes .\n",
      "Thanks for sending the snapshot .\n",
      "Jon-   Thanks for sending this .\n",
      "[PERSON] ,     Thanks so much for helping me out and sending me a reminder .\n",
      "[PERSON] , I will keep trying ... also , I will send over the itinerieries I have ticketed .\n",
      "[PERSON] ,    Thanks for sending this over , and for all your work to date .\n",
      "[PERSON] ,    Thanks for sending the info over .\n",
      "[PERSON] ,    thanks for sending this to out everyone .\n",
      "[PERSON] ,     Do n't know if I sent you this .\n",
      "Thanks for sending the link to the pix !\n",
      "[PERSON] ,    Thank you so much for sending this letter .\n",
      "[PERSON] ,    Thank you for sending us some equipments .\n",
      "Thanks for sending this to me ...\n",
      "Sreenivas ,    Thanks for sending this out .\n",
      "Amit , thanks for sending these .\n",
      "Thanks for   sending that to me .\n",
      "Venk ,    Thanks for sending this .\n",
      "Thanks and keep sending it to me ...\n",
      "hey [PERSON] ,    thanks for the urls ...   let me know what you think before i send it out to everyone .\n",
      "Thanks for sending them .\n",
      "Thank you for sending this out .\n",
      "( [PERSON] are n't you glad I   > > am sending this out for you , I bet you are regretting it now ! ) .\n",
      "thanks for the feedback [PERSON] .   may i see what you sent them as your pitch .\n",
      "Thanks [PERSON] , I was just about send my points on this .\n",
      "Thanks for sending this out to me tonight .\n",
      "[PERSON] ,   Thanks for sending these forms .\n",
      "[PERSON] ,    Thanks for sending out the email .\n",
      "[PERSON] Before I send this out let me know what you think .\n",
      "[PERSON] , please do n't send anything without me looking at it first .\n",
      "Great story , thanks for sending it ! ! !\n",
      "[PERSON] , I am sending this again .\n",
      "[PERSON] ,    Thanks for send us your projections earlier this week .\n",
      "Thanks for sending it .\n",
      "[PERSON] sent this out earlier , but thanks for making sure of it .\n",
      "[PERSON] [PERSON] ,    thanks for sending me your info .   have a great day at work .\n",
      "Thanks for sending this to me .\n",
      "[PERSON] ,    Thank you for sending this to me for my approval .\n",
      "[PERSON] ;    Thanks for the feedback on the comp i sent you yesterday .\n",
      "Thanks for sending this .\n",
      "Thanks [PERSON] for sending this out .\n"
     ]
    }
   ],
   "source": [
    "topic_nr_to_inspect = 31\n",
    "topic_docs = inspect_topic_and_its_docs(topic_nr=topic_nr_to_inspect, n_docs=100)"
   ]
  },
  {
   "cell_type": "code",
   "execution_count": 1817,
   "metadata": {},
   "outputs": [],
   "source": [
    "# Based on the inspection of the sentences\n",
    "white_list = [\n",
    "    'resume', 'cv', \n",
    "]\n",
    "black_list = [\n",
    "]"
   ]
  },
  {
   "cell_type": "code",
   "execution_count": 1818,
   "metadata": {},
   "outputs": [
    {
     "name": "stdout",
     "output_type": "stream",
     "text": [
      "Amount of sentences: 121\n"
     ]
    },
    {
     "data": {
      "text/plain": [
       "['Please send me your latest / updated resumes if you are still looking for .',\n",
       " \"If he is interested , send me his resume and I 'll get [PERSON] to   have the right people look at it .\",\n",
       " 'I thought that you might have sent the wrong copy of your resume .',\n",
       " 'I want   to get into Business Development and was wondering if you could send my   resume to your contacts .',\n",
       " 'The other night we talked on the hallway   and you asked me to send you my resume , which I am attaching .']"
      ]
     },
     "execution_count": 1818,
     "metadata": {},
     "output_type": "execute_result"
    }
   ],
   "source": [
    "sentences_to_keep = filter_topic_documents(topic_docs=topic_docs, white_list=white_list, black_list=black_list)\n",
    "sentences_to_keep[:5]"
   ]
  },
  {
   "cell_type": "code",
   "execution_count": 1819,
   "metadata": {},
   "outputs": [
    {
     "data": {
      "text/html": [
       "<div>\n",
       "<style scoped>\n",
       "    .dataframe tbody tr th:only-of-type {\n",
       "        vertical-align: middle;\n",
       "    }\n",
       "\n",
       "    .dataframe tbody tr th {\n",
       "        vertical-align: top;\n",
       "    }\n",
       "\n",
       "    .dataframe thead th {\n",
       "        text-align: right;\n",
       "    }\n",
       "</style>\n",
       "<table border=\"1\" class=\"dataframe\">\n",
       "  <thead>\n",
       "    <tr style=\"text-align: right;\">\n",
       "      <th></th>\n",
       "      <th>text</th>\n",
       "      <th>label</th>\n",
       "    </tr>\n",
       "  </thead>\n",
       "  <tbody>\n",
       "    <tr>\n",
       "      <th>0</th>\n",
       "      <td>Please send   your comments to me ASAP , but n...</td>\n",
       "      <td>send_review</td>\n",
       "    </tr>\n",
       "    <tr>\n",
       "      <th>1</th>\n",
       "      <td>Please review and send feedback .</td>\n",
       "      <td>send_review</td>\n",
       "    </tr>\n",
       "    <tr>\n",
       "      <th>2</th>\n",
       "      <td>If you would like ask a question , or if you j...</td>\n",
       "      <td>send_review</td>\n",
       "    </tr>\n",
       "    <tr>\n",
       "      <th>3</th>\n",
       "      <td>I am sending it to the customer to   review an...</td>\n",
       "      <td>send_review</td>\n",
       "    </tr>\n",
       "    <tr>\n",
       "      <th>4</th>\n",
       "      <td>Thanks for capturing all the feedback and send...</td>\n",
       "      <td>send_review</td>\n",
       "    </tr>\n",
       "    <tr>\n",
       "      <th>...</th>\n",
       "      <td>...</td>\n",
       "      <td>...</td>\n",
       "    </tr>\n",
       "    <tr>\n",
       "      <th>1293</th>\n",
       "      <td>Do you want me to send you my resume ?</td>\n",
       "      <td>send_resume</td>\n",
       "    </tr>\n",
       "    <tr>\n",
       "      <th>1294</th>\n",
       "      <td>I am not sure if you have already sent me your...</td>\n",
       "      <td>send_resume</td>\n",
       "    </tr>\n",
       "    <tr>\n",
       "      <th>1295</th>\n",
       "      <td>Per you request , I am sending you my resume .</td>\n",
       "      <td>send_resume</td>\n",
       "    </tr>\n",
       "    <tr>\n",
       "      <th>1296</th>\n",
       "      <td>I will look for my resume and send it to you .</td>\n",
       "      <td>send_resume</td>\n",
       "    </tr>\n",
       "    <tr>\n",
       "      <th>1297</th>\n",
       "      <td>You also mentioned a name there perhaps I will...</td>\n",
       "      <td>send_resume</td>\n",
       "    </tr>\n",
       "  </tbody>\n",
       "</table>\n",
       "<p>1298 rows × 2 columns</p>\n",
       "</div>"
      ],
      "text/plain": [
       "                                                   text        label\n",
       "0     Please send   your comments to me ASAP , but n...  send_review\n",
       "1                     Please review and send feedback .  send_review\n",
       "2     If you would like ask a question , or if you j...  send_review\n",
       "3     I am sending it to the customer to   review an...  send_review\n",
       "4     Thanks for capturing all the feedback and send...  send_review\n",
       "...                                                 ...          ...\n",
       "1293             Do you want me to send you my resume ?  send_resume\n",
       "1294  I am not sure if you have already sent me your...  send_resume\n",
       "1295     Per you request , I am sending you my resume .  send_resume\n",
       "1296     I will look for my resume and send it to you .  send_resume\n",
       "1297  You also mentioned a name there perhaps I will...  send_resume\n",
       "\n",
       "[1298 rows x 2 columns]"
      ]
     },
     "execution_count": 1819,
     "metadata": {},
     "output_type": "execute_result"
    }
   ],
   "source": [
    "df = pd.DataFrame({\"text\": sentences_to_keep, \"label\": get_label_from_topic_nr(topic_nr_to_inspect)})\n",
    "concat_to_df(df, filepath=\"../../data/labeled/send.tsv\", overwrite=True)"
   ]
  },
  {
   "cell_type": "code",
   "execution_count": 1770,
   "metadata": {},
   "outputs": [
    {
     "data": {
      "text/html": [
       "<div>\n",
       "<style scoped>\n",
       "    .dataframe tbody tr th:only-of-type {\n",
       "        vertical-align: middle;\n",
       "    }\n",
       "\n",
       "    .dataframe tbody tr th {\n",
       "        vertical-align: top;\n",
       "    }\n",
       "\n",
       "    .dataframe thead th {\n",
       "        text-align: right;\n",
       "    }\n",
       "</style>\n",
       "<table border=\"1\" class=\"dataframe\">\n",
       "  <thead>\n",
       "    <tr style=\"text-align: right;\">\n",
       "      <th></th>\n",
       "      <th>text</th>\n",
       "      <th>label</th>\n",
       "    </tr>\n",
       "  </thead>\n",
       "  <tbody>\n",
       "  </tbody>\n",
       "</table>\n",
       "</div>"
      ],
      "text/plain": [
       "Empty DataFrame\n",
       "Columns: [text, label]\n",
       "Index: []"
      ]
     },
     "execution_count": 1770,
     "metadata": {},
     "output_type": "execute_result"
    }
   ],
   "source": [
    "df.head()"
   ]
  },
  {
   "cell_type": "code",
   "execution_count": null,
   "metadata": {},
   "outputs": [],
   "source": []
  }
 ],
 "metadata": {
  "kernelspec": {
   "display_name": "ma_exp_intent",
   "language": "python",
   "name": "python3"
  },
  "language_info": {
   "codemirror_mode": {
    "name": "ipython",
    "version": 3
   },
   "file_extension": ".py",
   "mimetype": "text/x-python",
   "name": "python",
   "nbconvert_exporter": "python",
   "pygments_lexer": "ipython3",
   "version": "3.12.4"
  }
 },
 "nbformat": 4,
 "nbformat_minor": 2
}
