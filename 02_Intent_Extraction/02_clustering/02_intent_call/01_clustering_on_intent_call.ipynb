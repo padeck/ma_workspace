{
 "cells": [
  {
   "cell_type": "markdown",
   "metadata": {},
   "source": [
    "# Hierarchical Clustering on Target Sentences\n",
    "to help deriving a taxonomy for intents, hierarchical clustering is being leveraged."
   ]
  },
  {
   "cell_type": "markdown",
   "metadata": {},
   "source": [
    "#### Functions"
   ]
  },
  {
   "cell_type": "code",
   "execution_count": 1145,
   "metadata": {},
   "outputs": [],
   "source": [
    "def inspect_topic(topic_nr):\n",
    "    print('-----------')\n",
    "    top_words = topic_model.get_topic(topic_nr)\n",
    "    print(\"Topic: \"+str(topic_nr)+\"\\n\\nTop Words:\")\n",
    "    for word in top_words:\n",
    "        print(word[0], end=\", \")\n",
    "    print('\\n\\nRepresentative Target Sentences: ')\n",
    "    for doc in topic_model.get_topic_info().iloc[topic_nr+1]['Representative_Docs']:\n",
    "        print(doc)\n",
    "\n",
    "def create_custom_label(custom_label, topic_id):\n",
    "    custom_labels = {\n",
    "        topic_id: str(topic_id)+\"_\"+custom_label,\n",
    "    }\n",
    "    topic_model.set_topic_labels(custom_labels)\n",
    "\n",
    "# Function to retrieve custom label from topic model\n",
    "def get_label_from_topic_nr(topic_nr):\n",
    "    for label in topic_model.custom_labels_:\n",
    "        if label.startswith(str(topic_nr)):\n",
    "            label = label\n",
    "            label = re.sub(r\"^\\d+_\", \"\", label)\n",
    "            return label\n",
    "    raise Exception('Provided Topic Number has no label assigned!')\n",
    "\n",
    "# Function to inspect a topic by its number and retrieve its documents\n",
    "'''\n",
    "def inspect_topic_and_its_docs(topic_nr,n_docs=50):\n",
    "    topic_docs = list(set([doc for doc, topic in zip(docs, topic_model.topics_) if topic == topic_nr]))\n",
    "    print(\"Label: \" + get_label_from_topic_nr(topic_nr)+\"\\n\")\n",
    "    print(\"Number of sentences for label: \"+str(len(topic_docs)))\n",
    "    print('\\nSentences:\\n')\n",
    "    if len(topic_docs) < n_docs:\n",
    "        n_docs = len(topic_docs)\n",
    "    for i in range(n_docs):\n",
    "        print(topic_docs[i])\n",
    "    return topic_docs\n",
    "'''\n",
    "\n",
    "def inspect_topic_docs(topic_id, n_docs=20):\n",
    "    documents = [docs[i] for i, topic in enumerate(topic_model.topics_) if topic == topic_id]\n",
    "    print('Number of Documents: '+str(len(documents))+'\\n')\n",
    "    if len(documents) < n_docs:\n",
    "        n_docs = len(documents)\n",
    "    for i in range(n_docs):\n",
    "        print(documents[i])\n",
    "    return documents\n",
    "\n",
    "# given a list of strings, returns a list of documents that contain at least one of the strings in the given list\n",
    "def filter_topic_documents(topic_docs, white_list, black_list=[] ):\n",
    "    sentences_to_keep = []\n",
    "    sentences_to_discard = []\n",
    "    for doc in topic_docs:\n",
    "        if any(substring in doc for substring in white_list):\n",
    "            sentences_to_keep.append(doc)\n",
    "    sentences_to_keep = [\n",
    "    item for item in sentences_to_keep\n",
    "        if not any(substring in item for substring in black_list)\n",
    "    ]\n",
    "    sentences_to_keep = list(set(sentences_to_keep)) # remove duplicates\n",
    "    sentences_to_discard = list(set(topic_docs) - set(sentences_to_keep))\n",
    "    print('Amount of sentences: '+str(len(sentences_to_keep)))\n",
    "    return sentences_to_keep, sentences_to_discard\n",
    "\n",
    "# Function to facilitate the concatenation of new DFs\n",
    "def concat_to_df(new_df,filepath, overwrite=False, ):\n",
    "    try:\n",
    "        df = pd.read_csv(filepath, sep='\\t')\n",
    "    except FileNotFoundError:\n",
    "        df = pd.DataFrame(columns=[\"text\", \"label\"])\n",
    "    if new_df.iloc[0]['label'] not in df['label'].values: # Make sure that DF does not already contain entry for label\n",
    "        new_df = new_df.reset_index(drop=True)\n",
    "        df = df.reset_index(drop=True)\n",
    "        df = pd.concat([df, new_df], ignore_index=True)\n",
    "        df = df.reset_index(drop=True)\n",
    "        df = df.loc[:, ~df.columns.str.contains('^Unnamed')]\n",
    "        df.to_csv(filepath, sep='\\t')\n",
    "        return df\n",
    "    else:\n",
    "        if overwrite:\n",
    "            df = df[~df['label'].str.contains(new_df.iloc[0]['label'])]\n",
    "            df = pd.concat([df, new_df], ignore_index=True)\n",
    "            df = df.loc[:, ~df.columns.str.contains('^Unnamed')]\n",
    "            df.to_csv(\"../../data/labeled/send.tsv\", sep='\\t', index=False)\n",
    "            return df\n",
    "        else:\n",
    "            print(\"Label '\"+new_df.iloc[0]['label']+\"' already in the final DF, so it's being skipped.\")\n"
   ]
  },
  {
   "cell_type": "markdown",
   "metadata": {},
   "source": [
    "####"
   ]
  },
  {
   "cell_type": "code",
   "execution_count": 2,
   "metadata": {},
   "outputs": [],
   "source": [
    "from bertopic import BERTopic\n",
    "from scipy.cluster import hierarchy as sch\n",
    "import pandas as pd\n",
    "import logging\n",
    "from sklearn.metrics.pairwise import cosine_distances\n",
    "from tqdm import tqdm\n",
    "import numpy as np\n",
    "from umap import UMAP\n",
    "from hdbscan import HDBSCAN\n",
    "from sentence_transformers import SentenceTransformer\n",
    "import re"
   ]
  },
  {
   "cell_type": "code",
   "execution_count": 3,
   "metadata": {},
   "outputs": [],
   "source": [
    "df = pd.read_parquet('../../../data/processed/intents/call.parquet', engine='fastparquet')"
   ]
  },
  {
   "cell_type": "code",
   "execution_count": 4,
   "metadata": {},
   "outputs": [],
   "source": [
    "df['target'] = df['target'].str.replace(r'\\r\\n', ' ', regex=True)\n",
    "docs = list(set(df['target'].tolist()))"
   ]
  },
  {
   "cell_type": "code",
   "execution_count": 5,
   "metadata": {},
   "outputs": [
    {
     "data": {
      "text/plain": [
       "23376"
      ]
     },
     "execution_count": 5,
     "metadata": {},
     "output_type": "execute_result"
    }
   ],
   "source": [
    "# Amount of unique target sentences\n",
    "len(docs)"
   ]
  },
  {
   "cell_type": "markdown",
   "metadata": {},
   "source": [
    "## Training the Model"
   ]
  },
  {
   "cell_type": "code",
   "execution_count": 6,
   "metadata": {},
   "outputs": [],
   "source": [
    "# Configure logging\n",
    "logging.basicConfig(level=logging.INFO)\n",
    "logger = logging.getLogger(\"BERTopic\")\n",
    "logger.setLevel(logging.INFO)"
   ]
  },
  {
   "cell_type": "code",
   "execution_count": 7,
   "metadata": {},
   "outputs": [
    {
     "name": "stderr",
     "output_type": "stream",
     "text": [
      "INFO:sentence_transformers.SentenceTransformer:Use pytorch device_name: mps\n",
      "INFO:sentence_transformers.SentenceTransformer:Load pretrained SentenceTransformer: all-MiniLM-L6-v2\n",
      "2024-11-06 14:35:34,568 - BERTopic - Embedding - Transforming documents to embeddings.\n"
     ]
    },
    {
     "data": {
      "application/vnd.jupyter.widget-view+json": {
       "model_id": "b65fa9d462aa49978e6fe1484ed980be",
       "version_major": 2,
       "version_minor": 0
      },
      "text/plain": [
       "Batches:   0%|          | 0/731 [00:00<?, ?it/s]"
      ]
     },
     "metadata": {},
     "output_type": "display_data"
    },
    {
     "name": "stderr",
     "output_type": "stream",
     "text": [
      "2024-11-06 14:36:12,020 - BERTopic - Embedding - Completed ✓\n",
      "2024-11-06 14:36:12,020 - BERTopic - Dimensionality - Fitting the dimensionality reduction algorithm\n",
      "OMP: Info #276: omp_set_nested routine deprecated, please use omp_set_max_active_levels instead.\n",
      "2024-11-06 14:36:32,963 - BERTopic - Dimensionality - Completed ✓\n",
      "2024-11-06 14:36:32,964 - BERTopic - Cluster - Start clustering the reduced embeddings\n",
      "huggingface/tokenizers: The current process just got forked, after parallelism has already been used. Disabling parallelism to avoid deadlocks...\n",
      "To disable this warning, you can either:\n",
      "\t- Avoid using `tokenizers` before the fork if possible\n",
      "\t- Explicitly set the environment variable TOKENIZERS_PARALLELISM=(true | false)\n",
      "huggingface/tokenizers: The current process just got forked, after parallelism has already been used. Disabling parallelism to avoid deadlocks...\n",
      "To disable this warning, you can either:\n",
      "\t- Avoid using `tokenizers` before the fork if possible\n",
      "\t- Explicitly set the environment variable TOKENIZERS_PARALLELISM=(true | false)\n",
      "huggingface/tokenizers: The current process just got forked, after parallelism has already been used. Disabling parallelism to avoid deadlocks...\n",
      "To disable this warning, you can either:\n",
      "\t- Avoid using `tokenizers` before the fork if possible\n",
      "\t- Explicitly set the environment variable TOKENIZERS_PARALLELISM=(true | false)\n",
      "huggingface/tokenizers: The current process just got forked, after parallelism has already been used. Disabling parallelism to avoid deadlocks...\n",
      "To disable this warning, you can either:\n",
      "\t- Avoid using `tokenizers` before the fork if possible\n",
      "\t- Explicitly set the environment variable TOKENIZERS_PARALLELISM=(true | false)\n",
      "huggingface/tokenizers: The current process just got forked, after parallelism has already been used. Disabling parallelism to avoid deadlocks...\n",
      "To disable this warning, you can either:\n",
      "\t- Avoid using `tokenizers` before the fork if possible\n",
      "\t- Explicitly set the environment variable TOKENIZERS_PARALLELISM=(true | false)\n",
      "2024-11-06 14:36:34,927 - BERTopic - Cluster - Completed ✓\n",
      "2024-11-06 14:36:34,932 - BERTopic - Representation - Extracting topics from clusters using representation models.\n",
      "2024-11-06 14:36:35,182 - BERTopic - Representation - Completed ✓\n"
     ]
    }
   ],
   "source": [
    "# Initialize UMAP with a fixed random state\n",
    "random_state = 1 # Other seeds sometimes caused negative values in the distanace matrix\n",
    "\n",
    "# Set global random seeds\n",
    "np.random.seed(random_state)\n",
    "\n",
    "embedding_model = SentenceTransformer(\"all-MiniLM-L6-v2\")\n",
    "umap_model = UMAP(n_neighbors=15, n_components=5, random_state=random_state)\n",
    "hdbscan_model = HDBSCAN(min_cluster_size=10, prediction_data=True)\n",
    "\n",
    "topic_model = BERTopic(verbose=True, umap_model=umap_model, hdbscan_model=hdbscan_model, embedding_model=embedding_model)\n",
    "topics, probs = topic_model.fit_transform(docs)"
   ]
  },
  {
   "cell_type": "code",
   "execution_count": 8,
   "metadata": {},
   "outputs": [
    {
     "name": "stderr",
     "output_type": "stream",
     "text": [
      "100%|██████████| 196/196 [00:00<00:00, 703.68it/s]\n"
     ]
    }
   ],
   "source": [
    "hierarchical_topics = topic_model.hierarchical_topics(docs)"
   ]
  },
  {
   "cell_type": "code",
   "execution_count": 9,
   "metadata": {},
   "outputs": [
    {
     "name": "stderr",
     "output_type": "stream",
     "text": [
      "2024-11-06 14:36:35,815 - BERTopic - WARNING: When you use `pickle` to save/load a BERTopic model,please make sure that the environments in which you saveand load the model are **exactly** the same. The version of BERTopic,its dependencies, and python need to remain the same.\n"
     ]
    }
   ],
   "source": [
    "topic_model.save(\"../../../data/bertopic_models/intents/02_call/call_unprocessed\")"
   ]
  },
  {
   "cell_type": "markdown",
   "metadata": {},
   "source": [
    "## Inspecting clustering results"
   ]
  },
  {
   "cell_type": "code",
   "execution_count": 7,
   "metadata": {},
   "outputs": [],
   "source": [
    "#topic_model = BERTopic.load(\"../../data/bertopic_models/send\")"
   ]
  },
  {
   "cell_type": "code",
   "execution_count": 324,
   "metadata": {},
   "outputs": [
    {
     "data": {
      "application/vnd.plotly.v1+json": {
       "config": {
        "plotlyServerURL": "https://plot.ly"
       },
       "data": [
        {
         "hoverinfo": "text",
         "marker": {
          "color": "rgb(61,153,112)"
         },
         "mode": "lines",
         "text": [
          "ant_build_script_installer_deploy",
          "",
          "",
          "build_98480_54951_91_352"
         ],
         "type": "scatter",
         "x": [
          0,
          0.7653701060321599,
          0.7653701060321599,
          0
         ],
         "xaxis": "x",
         "y": [
          -15,
          -15,
          -25,
          -25
         ],
         "yaxis": "y"
        },
        {
         "hoverinfo": "text",
         "marker": {
          "color": "rgb(61,153,112)"
         },
         "mode": "lines",
         "text": [
          "roopak_wilhan_build_om_etrade",
          "",
          "",
          "build_98480_54951_91_352"
         ],
         "type": "scatter",
         "x": [
          0,
          0.8744531662989014,
          0.8744531662989014,
          0.7653701060321599
         ],
         "xaxis": "x",
         "y": [
          -5,
          -5,
          -20,
          -20
         ],
         "yaxis": "y"
        },
        {
         "hoverinfo": "text",
         "marker": {
          "color": "rgb(255,65,54)"
         },
         "mode": "lines",
         "text": [
          "demo_run_build_pocketpc_schedule",
          "",
          "",
          "demo_include_should_regarding_point"
         ],
         "type": "scatter",
         "x": [
          0,
          0.39493796585487506,
          0.39493796585487506,
          0
         ],
         "xaxis": "x",
         "y": [
          -35,
          -35,
          -45,
          -45
         ],
         "yaxis": "y"
        },
        {
         "hoverinfo": "text",
         "marker": {
          "color": "rgb(0,116,217)"
         },
         "mode": "lines",
         "text": [
          "demo_run_build_pocketpc_schedule",
          "",
          "",
          "demo_include_should_regarding_point"
         ],
         "type": "scatter",
         "x": [
          0.8744531662989014,
          1.1617917415501688,
          1.1617917415501688,
          0.39493796585487506
         ],
         "xaxis": "x",
         "y": [
          -12.5,
          -12.5,
          -40,
          -40
         ],
         "yaxis": "y"
        },
        {
         "hoverinfo": "text",
         "marker": {
          "color": "rgb(35,205,205)"
         },
         "mode": "lines",
         "text": [
          "testing_plan_test_qa_queries",
          "",
          "",
          "tests_test_unit_acceptance_interface"
         ],
         "type": "scatter",
         "x": [
          0,
          0.767753536909346,
          0.767753536909346,
          0
         ],
         "xaxis": "x",
         "y": [
          -55,
          -55,
          -65,
          -65
         ],
         "yaxis": "y"
        },
        {
         "hoverinfo": "text",
         "marker": {
          "color": "rgb(35,205,205)"
         },
         "mode": "lines",
         "text": [
          "jsp_servlet_bean_page_method",
          "",
          "",
          "method_object_class_methods_function"
         ],
         "type": "scatter",
         "x": [
          0,
          0.6207261065635645,
          0.6207261065635645,
          0
         ],
         "xaxis": "x",
         "y": [
          -75,
          -75,
          -85,
          -85
         ],
         "yaxis": "y"
        },
        {
         "hoverinfo": "text",
         "marker": {
          "color": "rgb(35,205,205)"
         },
         "mode": "lines",
         "text": [
          "jsp_method_servlet_bean_class",
          "",
          "",
          "code_arguments_replace_convertcase_precede"
         ],
         "type": "scatter",
         "x": [
          0.6207261065635645,
          0.8059195819007643,
          0.8059195819007643,
          0
         ],
         "xaxis": "x",
         "y": [
          -80,
          -80,
          -95,
          -95
         ],
         "yaxis": "y"
        },
        {
         "hoverinfo": "text",
         "marker": {
          "color": "rgb(35,205,205)"
         },
         "mode": "lines",
         "text": [
          "jsp_method_servlet_bean_class",
          "",
          "",
          "code_arguments_replace_convertcase_precede"
         ],
         "type": "scatter",
         "x": [
          0.767753536909346,
          0.9997251781677879,
          0.9997251781677879,
          0.8059195819007643
         ],
         "xaxis": "x",
         "y": [
          -60,
          -60,
          -87.5,
          -87.5
         ],
         "yaxis": "y"
        },
        {
         "hoverinfo": "text",
         "marker": {
          "color": "rgb(133,20,75)"
         },
         "mode": "lines",
         "text": [
          "xml_xsl_w3_xora_rajneel",
          "",
          "",
          "fonts_resbundle_setresourcebundle_file_property"
         ],
         "type": "scatter",
         "x": [
          0,
          0.9170803015746806,
          0.9170803015746806,
          0
         ],
         "xaxis": "x",
         "y": [
          -115,
          -115,
          -125,
          -125
         ],
         "yaxis": "y"
        },
        {
         "hoverinfo": "text",
         "marker": {
          "color": "rgb(133,20,75)"
         },
         "mode": "lines",
         "text": [
          "cpu_faults_elapsed_clock_pages",
          "",
          "",
          "fonts_resbundle_setresourcebundle_file_property"
         ],
         "type": "scatter",
         "x": [
          0,
          0.9673435007841868,
          0.9673435007841868,
          0.9170803015746806
         ],
         "xaxis": "x",
         "y": [
          -105,
          -105,
          -120,
          -120
         ],
         "yaxis": "y"
        },
        {
         "hoverinfo": "text",
         "marker": {
          "color": "rgb(133,20,75)"
         },
         "mode": "lines",
         "text": [
          "ibm_audium_websphere_started_mug",
          "",
          "",
          "microsoft_oracle_against_quits_ruling"
         ],
         "type": "scatter",
         "x": [
          0,
          0.9157049965188898,
          0.9157049965188898,
          0
         ],
         "xaxis": "x",
         "y": [
          -135,
          -135,
          -145,
          -145
         ],
         "yaxis": "y"
        },
        {
         "hoverinfo": "text",
         "marker": {
          "color": "rgb(133,20,75)"
         },
         "mode": "lines",
         "text": [
          "palm_emulator_detail_days_app",
          "",
          "",
          "new_add_account_insert_status"
         ],
         "type": "scatter",
         "x": [
          0,
          0.8634398119280129,
          0.8634398119280129,
          0
         ],
         "xaxis": "x",
         "y": [
          -155,
          -155,
          -165,
          -165
         ],
         "yaxis": "y"
        },
        {
         "hoverinfo": "text",
         "marker": {
          "color": "rgb(133,20,75)"
         },
         "mode": "lines",
         "text": [
          "palm_emulator_detail_days_app",
          "",
          "",
          "java_buttons_setuibuttonsize_dialog_screen"
         ],
         "type": "scatter",
         "x": [
          0.8634398119280129,
          0.9293015283930093,
          0.9293015283930093,
          0
         ],
         "xaxis": "x",
         "y": [
          -160,
          -160,
          -175,
          -175
         ],
         "yaxis": "y"
        },
        {
         "hoverinfo": "text",
         "marker": {
          "color": "rgb(133,20,75)"
         },
         "mode": "lines",
         "text": [
          "palm_emulator_detail_days_app",
          "",
          "",
          "java_buttons_setuibuttonsize_dialog_screen"
         ],
         "type": "scatter",
         "x": [
          0.9157049965188898,
          0.9818829390168089,
          0.9818829390168089,
          0.9293015283930093
         ],
         "xaxis": "x",
         "y": [
          -140,
          -140,
          -167.5,
          -167.5
         ],
         "yaxis": "y"
        },
        {
         "hoverinfo": "text",
         "marker": {
          "color": "rgb(133,20,75)"
         },
         "mode": "lines",
         "text": [
          "palm_emulator_detail_days_app",
          "",
          "",
          "java_buttons_setuibuttonsize_dialog_screen"
         ],
         "type": "scatter",
         "x": [
          0.9673435007841868,
          0.9897480711695213,
          0.9897480711695213,
          0.9818829390168089
         ],
         "xaxis": "x",
         "y": [
          -112.5,
          -112.5,
          -153.75,
          -153.75
         ],
         "yaxis": "y"
        },
        {
         "hoverinfo": "text",
         "marker": {
          "color": "rgb(255,220,0)"
         },
         "mode": "lines",
         "text": [
          "what_it_metaphor_waterfall_unconscious",
          "",
          "",
          "agile_prototype_program_what_rules"
         ],
         "type": "scatter",
         "x": [
          0,
          0.852359697280327,
          0.852359697280327,
          0
         ],
         "xaxis": "x",
         "y": [
          -185,
          -185,
          -195,
          -195
         ],
         "yaxis": "y"
        },
        {
         "hoverinfo": "text",
         "marker": {
          "color": "rgb(255,220,0)"
         },
         "mode": "lines",
         "text": [
          "what_it_metaphor_waterfall_unconscious",
          "",
          "",
          "xp_windows_process_practices_design"
         ],
         "type": "scatter",
         "x": [
          0.852359697280327,
          0.9138649403984423,
          0.9138649403984423,
          0
         ],
         "xaxis": "x",
         "y": [
          -190,
          -190,
          -205,
          -205
         ],
         "yaxis": "y"
        },
        {
         "hoverinfo": "text",
         "marker": {
          "color": "rgb(255,220,0)"
         },
         "mode": "lines",
         "text": [
          "what_it_metaphor_waterfall_unconscious",
          "",
          "",
          "estimates_share_stock_investors_revenue"
         ],
         "type": "scatter",
         "x": [
          0.9138649403984423,
          0.9446500683601712,
          0.9446500683601712,
          0
         ],
         "xaxis": "x",
         "y": [
          -197.5,
          -197.5,
          -215,
          -215
         ],
         "yaxis": "y"
        },
        {
         "hoverinfo": "text",
         "marker": {
          "color": "rgb(0,116,217)"
         },
         "mode": "lines",
         "text": [
          "what_it_metaphor_waterfall_unconscious",
          "",
          "",
          "estimates_share_stock_investors_revenue"
         ],
         "type": "scatter",
         "x": [
          0.9897480711695213,
          1.0330296625086968,
          1.0330296625086968,
          0.9446500683601712
         ],
         "xaxis": "x",
         "y": [
          -133.125,
          -133.125,
          -206.25,
          -206.25
         ],
         "yaxis": "y"
        },
        {
         "hoverinfo": "text",
         "marker": {
          "color": "rgb(40,35,35)"
         },
         "mode": "lines",
         "text": [
          "version_release_latest_x047_respond",
          "",
          "",
          "idc_servers_working_sj_roi"
         ],
         "type": "scatter",
         "x": [
          0,
          0.900936065746589,
          0.900936065746589,
          0
         ],
         "xaxis": "x",
         "y": [
          -225,
          -225,
          -235,
          -235
         ],
         "yaxis": "y"
        },
        {
         "hoverinfo": "text",
         "marker": {
          "color": "rgb(40,35,35)"
         },
         "mode": "lines",
         "text": [
          "application_appid_start_screen_parameter_start_url",
          "",
          "",
          "problem_support_resolved_gp_virus"
         ],
         "type": "scatter",
         "x": [
          0,
          0.8242526231347427,
          0.8242526231347427,
          0
         ],
         "xaxis": "x",
         "y": [
          -255,
          -255,
          -265,
          -265
         ],
         "yaxis": "y"
        },
        {
         "hoverinfo": "text",
         "marker": {
          "color": "rgb(40,35,35)"
         },
         "mode": "lines",
         "text": [
          "ae_aes_customer_application_needs",
          "",
          "",
          "problem_support_resolved_gp_virus"
         ],
         "type": "scatter",
         "x": [
          0,
          0.8687051012304086,
          0.8687051012304086,
          0.8242526231347427
         ],
         "xaxis": "x",
         "y": [
          -245,
          -245,
          -260,
          -260
         ],
         "yaxis": "y"
        },
        {
         "hoverinfo": "text",
         "marker": {
          "color": "rgb(40,35,35)"
         },
         "mode": "lines",
         "text": [
          "ae_aes_customer_application_needs",
          "",
          "",
          "problem_support_resolved_gp_virus"
         ],
         "type": "scatter",
         "x": [
          0.900936065746589,
          0.9490019339084045,
          0.9490019339084045,
          0.8687051012304086
         ],
         "xaxis": "x",
         "y": [
          -230,
          -230,
          -252.5,
          -252.5
         ],
         "yaxis": "y"
        },
        {
         "hoverinfo": "text",
         "marker": {
          "color": "rgb(40,35,35)"
         },
         "mode": "lines",
         "text": [
          "adr_customer_transfer_support_costly",
          "",
          "",
          "customer_service_7080_defective_functioning"
         ],
         "type": "scatter",
         "x": [
          0,
          0.7539113040599881,
          0.7539113040599881,
          0
         ],
         "xaxis": "x",
         "y": [
          -275,
          -275,
          -285,
          -285
         ],
         "yaxis": "y"
        },
        {
         "hoverinfo": "text",
         "marker": {
          "color": "rgb(40,35,35)"
         },
         "mode": "lines",
         "text": [
          "adr_customer_transfer_support_costly",
          "",
          "",
          "password_logon_4999_passwords_799"
         ],
         "type": "scatter",
         "x": [
          0.7539113040599881,
          0.9325984143993383,
          0.9325984143993383,
          0
         ],
         "xaxis": "x",
         "y": [
          -280,
          -280,
          -295,
          -295
         ],
         "yaxis": "y"
        },
        {
         "hoverinfo": "text",
         "marker": {
          "color": "rgb(40,35,35)"
         },
         "mode": "lines",
         "text": [
          "adr_customer_transfer_support_costly",
          "",
          "",
          "password_logon_4999_passwords_799"
         ],
         "type": "scatter",
         "x": [
          0.9490019339084045,
          0.9999468121414047,
          0.9999468121414047,
          0.9325984143993383
         ],
         "xaxis": "x",
         "y": [
          -241.25,
          -241.25,
          -287.5,
          -287.5
         ],
         "yaxis": "y"
        },
        {
         "hoverinfo": "text",
         "marker": {
          "color": "rgb(0,116,217)"
         },
         "mode": "lines",
         "text": [
          "adr_customer_transfer_support_costly",
          "",
          "",
          "password_logon_4999_passwords_799"
         ],
         "type": "scatter",
         "x": [
          1.0330296625086968,
          1.0732611662412666,
          1.0732611662412666,
          0.9999468121414047
         ],
         "xaxis": "x",
         "y": [
          -169.6875,
          -169.6875,
          -264.375,
          -264.375
         ],
         "yaxis": "y"
        },
        {
         "hoverinfo": "text",
         "marker": {
          "color": "rgb(61,153,112)"
         },
         "mode": "lines",
         "text": [
          "recall_examined_body_do_life",
          "",
          "",
          "sony_handsets_docomo_recalls_recall"
         ],
         "type": "scatter",
         "x": [
          0,
          0.8193419956735021,
          0.8193419956735021,
          0
         ],
         "xaxis": "x",
         "y": [
          -305,
          -305,
          -315,
          -315
         ],
         "yaxis": "y"
        },
        {
         "hoverinfo": "text",
         "marker": {
          "color": "rgb(61,153,112)"
         },
         "mode": "lines",
         "text": [
          "000_alerts_500_300_600",
          "",
          "",
          "pricing_price_jcrew_tbd_99"
         ],
         "type": "scatter",
         "x": [
          0,
          0.9191445933209348,
          0.9191445933209348,
          0
         ],
         "xaxis": "x",
         "y": [
          -325,
          -325,
          -335,
          -335
         ],
         "yaxis": "y"
        },
        {
         "hoverinfo": "text",
         "marker": {
          "color": "rgb(61,153,112)"
         },
         "mode": "lines",
         "text": [
          "000_alerts_500_300_600",
          "",
          "",
          "pricing_price_jcrew_tbd_99"
         ],
         "type": "scatter",
         "x": [
          0.8193419956735021,
          0.9962457595713283,
          0.9962457595713283,
          0.9191445933209348
         ],
         "xaxis": "x",
         "y": [
          -310,
          -310,
          -330,
          -330
         ],
         "yaxis": "y"
        },
        {
         "hoverinfo": "text",
         "marker": {
          "color": "rgb(0,116,217)"
         },
         "mode": "lines",
         "text": [
          "000_alerts_500_300_600",
          "",
          "",
          "pricing_price_jcrew_tbd_99"
         ],
         "type": "scatter",
         "x": [
          1.0732611662412666,
          1.1089537145273092,
          1.1089537145273092,
          0.9962457595713283
         ],
         "xaxis": "x",
         "y": [
          -217.03125,
          -217.03125,
          -320,
          -320
         ],
         "yaxis": "y"
        },
        {
         "hoverinfo": "text",
         "marker": {
          "color": "rgb(0,116,217)"
         },
         "mode": "lines",
         "text": [
          "000_alerts_500_300_600",
          "",
          "",
          "pricing_price_jcrew_tbd_99"
         ],
         "type": "scatter",
         "x": [
          0.9997251781677879,
          1.1600222740789337,
          1.1600222740789337,
          1.1089537145273092
         ],
         "xaxis": "x",
         "y": [
          -73.75,
          -73.75,
          -268.515625,
          -268.515625
         ],
         "yaxis": "y"
        },
        {
         "hoverinfo": "text",
         "marker": {
          "color": "rgb(0,116,217)"
         },
         "mode": "lines",
         "text": [
          "000_alerts_500_300_600",
          "",
          "",
          "pricing_price_jcrew_tbd_99"
         ],
         "type": "scatter",
         "x": [
          1.1617917415501688,
          1.2399598007822972,
          1.2399598007822972,
          1.1600222740789337
         ],
         "xaxis": "x",
         "y": [
          -26.25,
          -26.25,
          -171.1328125,
          -171.1328125
         ],
         "yaxis": "y"
        },
        {
         "hoverinfo": "text",
         "marker": {
          "color": "rgb(255,65,54)"
         },
         "mode": "lines",
         "text": [
          "callers_000_40_than_calls",
          "",
          "",
          "handle_callers_emergency_calls_unwanted"
         ],
         "type": "scatter",
         "x": [
          0,
          0.7867411488342111,
          0.7867411488342111,
          0
         ],
         "xaxis": "x",
         "y": [
          -345,
          -345,
          -355,
          -355
         ],
         "yaxis": "y"
        },
        {
         "hoverinfo": "text",
         "marker": {
          "color": "rgb(255,65,54)"
         },
         "mode": "lines",
         "text": [
          "emergency_an_iplace_rs88_my",
          "",
          "",
          "911_emergency_fcc_locate_location"
         ],
         "type": "scatter",
         "x": [
          0,
          0.7288637893791634,
          0.7288637893791634,
          0
         ],
         "xaxis": "x",
         "y": [
          -365,
          -365,
          -375,
          -375
         ],
         "yaxis": "y"
        },
        {
         "hoverinfo": "text",
         "marker": {
          "color": "rgb(255,65,54)"
         },
         "mode": "lines",
         "text": [
          "emergency_an_iplace_rs88_my",
          "",
          "",
          "911_emergency_fcc_locate_location"
         ],
         "type": "scatter",
         "x": [
          0.7867411488342111,
          0.9037009042123053,
          0.9037009042123053,
          0.7288637893791634
         ],
         "xaxis": "x",
         "y": [
          -350,
          -350,
          -370,
          -370
         ],
         "yaxis": "y"
        },
        {
         "hoverinfo": "text",
         "marker": {
          "color": "rgb(35,205,205)"
         },
         "mode": "lines",
         "text": [
          "distance_charges_long_orange_per",
          "",
          "",
          "international_foreign_card_stores_calling"
         ],
         "type": "scatter",
         "x": [
          0,
          0.8717388227831044,
          0.8717388227831044,
          0
         ],
         "xaxis": "x",
         "y": [
          -385,
          -385,
          -395,
          -395
         ],
         "yaxis": "y"
        },
        {
         "hoverinfo": "text",
         "marker": {
          "color": "rgb(0,116,217)"
         },
         "mode": "lines",
         "text": [
          "distance_charges_long_orange_per",
          "",
          "",
          "international_foreign_card_stores_calling"
         ],
         "type": "scatter",
         "x": [
          0.9037009042123053,
          1.0205409111973223,
          1.0205409111973223,
          0.8717388227831044
         ],
         "xaxis": "x",
         "y": [
          -360,
          -360,
          -390,
          -390
         ],
         "yaxis": "y"
        },
        {
         "hoverinfo": "text",
         "marker": {
          "color": "rgb(0,116,217)"
         },
         "mode": "lines",
         "text": [
          "distance_charges_long_orange_per",
          "",
          "",
          "international_foreign_card_stores_calling"
         ],
         "type": "scatter",
         "x": [
          1.2399598007822972,
          1.2681999662677284,
          1.2681999662677284,
          1.0205409111973223
         ],
         "xaxis": "x",
         "y": [
          -98.69140625,
          -98.69140625,
          -375,
          -375
         ],
         "yaxis": "y"
        },
        {
         "hoverinfo": "text",
         "marker": {
          "color": "rgb(61,153,112)"
         },
         "mode": "lines",
         "text": [
          "wireless_feel_contact_plans_free",
          "",
          "",
          "wireless_howard_person_applications_discuss"
         ],
         "type": "scatter",
         "x": [
          0,
          0.5261379293304135,
          0.5261379293304135,
          0
         ],
         "xaxis": "x",
         "y": [
          -415,
          -415,
          -425,
          -425
         ],
         "yaxis": "y"
        },
        {
         "hoverinfo": "text",
         "marker": {
          "color": "rgb(61,153,112)"
         },
         "mode": "lines",
         "text": [
          "wireless_internet_audio_gateway_gartner",
          "",
          "",
          "wireless_howard_person_applications_discuss"
         ],
         "type": "scatter",
         "x": [
          0,
          0.7892886281008712,
          0.7892886281008712,
          0.5261379293304135
         ],
         "xaxis": "x",
         "y": [
          -405,
          -405,
          -420,
          -420
         ],
         "yaxis": "y"
        },
        {
         "hoverinfo": "text",
         "marker": {
          "color": "rgb(255,65,54)"
         },
         "mode": "lines",
         "text": [
          "initiatives_critical_minute_wireless_issues",
          "",
          "",
          "initiatives_northeast_critical_20_minute"
         ],
         "type": "scatter",
         "x": [
          0,
          0.2578966497842925,
          0.2578966497842925,
          0
         ],
         "xaxis": "x",
         "y": [
          -435,
          -435,
          -445,
          -445
         ],
         "yaxis": "y"
        },
        {
         "hoverinfo": "text",
         "marker": {
          "color": "rgb(0,116,217)"
         },
         "mode": "lines",
         "text": [
          "initiatives_critical_minute_wireless_issues",
          "",
          "",
          "initiatives_northeast_critical_20_minute"
         ],
         "type": "scatter",
         "x": [
          0.7892886281008712,
          1.1009794465857634,
          1.1009794465857634,
          0.2578966497842925
         ],
         "xaxis": "x",
         "y": [
          -412.5,
          -412.5,
          -440,
          -440
         ],
         "yaxis": "y"
        },
        {
         "hoverinfo": "text",
         "marker": {
          "color": "rgb(0,116,217)"
         },
         "mode": "lines",
         "text": [
          "initiatives_critical_minute_wireless_issues",
          "",
          "",
          "initiatives_northeast_critical_20_minute"
         ],
         "type": "scatter",
         "x": [
          1.2681999662677284,
          1.4686050570799989,
          1.4686050570799989,
          1.1009794465857634
         ],
         "xaxis": "x",
         "y": [
          -236.845703125,
          -236.845703125,
          -426.25,
          -426.25
         ],
         "yaxis": "y"
        },
        {
         "hoverinfo": "text",
         "marker": {
          "color": "rgb(35,205,205)"
         },
         "mode": "lines",
         "text": [
          "conference_set_we_up_schedule",
          "",
          "",
          "conference_person_with_set_up"
         ],
         "type": "scatter",
         "x": [
          0,
          0.1714296305891555,
          0.1714296305891555,
          0
         ],
         "xaxis": "x",
         "y": [
          -465,
          -465,
          -475,
          -475
         ],
         "yaxis": "y"
        },
        {
         "hoverinfo": "text",
         "marker": {
          "color": "rgb(35,205,205)"
         },
         "mode": "lines",
         "text": [
          "conference_location_team_members_board",
          "",
          "",
          "conference_set_we_up_schedule"
         ],
         "type": "scatter",
         "x": [
          0,
          0.685657671679018,
          0.685657671679018,
          0.1714296305891555
         ],
         "xaxis": "x",
         "y": [
          -455,
          -455,
          -470,
          -470
         ],
         "yaxis": "y"
        },
        {
         "hoverinfo": "text",
         "marker": {
          "color": "rgb(133,20,75)"
         },
         "mode": "lines",
         "text": [
          "30_around_time_10_11",
          "",
          "",
          "pst_am_30_10_monday"
         ],
         "type": "scatter",
         "x": [
          0,
          0.4802959483603979,
          0.4802959483603979,
          0
         ],
         "xaxis": "x",
         "y": [
          -485,
          -485,
          -495,
          -495
         ],
         "yaxis": "y"
        },
        {
         "hoverinfo": "text",
         "marker": {
          "color": "rgb(133,20,75)"
         },
         "mode": "lines",
         "text": [
          "30_around_time_10_11",
          "",
          "",
          "con_conf_next_week_we"
         ],
         "type": "scatter",
         "x": [
          0.4802959483603979,
          0.7818192606080204,
          0.7818192606080204,
          0
         ],
         "xaxis": "x",
         "y": [
          -490,
          -490,
          -505,
          -505
         ],
         "yaxis": "y"
        },
        {
         "hoverinfo": "text",
         "marker": {
          "color": "rgb(133,20,75)"
         },
         "mode": "lines",
         "text": [
          "30_around_time_10_11",
          "",
          "",
          "concall_concalls_set_up_abiola"
         ],
         "type": "scatter",
         "x": [
          0.7818192606080204,
          0.9433842248839438,
          0.9433842248839438,
          0
         ],
         "xaxis": "x",
         "y": [
          -497.5,
          -497.5,
          -515,
          -515
         ],
         "yaxis": "y"
        },
        {
         "hoverinfo": "text",
         "marker": {
          "color": "rgb(0,116,217)"
         },
         "mode": "lines",
         "text": [
          "30_around_time_10_11",
          "",
          "",
          "concall_concalls_set_up_abiola"
         ],
         "type": "scatter",
         "x": [
          0.685657671679018,
          1.0054639122323046,
          1.0054639122323046,
          0.9433842248839438
         ],
         "xaxis": "x",
         "y": [
          -462.5,
          -462.5,
          -506.25,
          -506.25
         ],
         "yaxis": "y"
        },
        {
         "hoverinfo": "text",
         "marker": {
          "color": "rgb(255,220,0)"
         },
         "mode": "lines",
         "text": [
          "later_tomorrow_today_morning_tonight",
          "",
          "",
          "monday_weekend_week_ll_will"
         ],
         "type": "scatter",
         "x": [
          0,
          0.6899958889764224,
          0.6899958889764224,
          0
         ],
         "xaxis": "x",
         "y": [
          -535,
          -535,
          -545,
          -545
         ],
         "yaxis": "y"
        },
        {
         "hoverinfo": "text",
         "marker": {
          "color": "rgb(255,220,0)"
         },
         "mode": "lines",
         "text": [
          "ll_now_you_then_call",
          "",
          "",
          "monday_weekend_week_ll_will"
         ],
         "type": "scatter",
         "x": [
          0,
          0.727113177874363,
          0.727113177874363,
          0.6899958889764224
         ],
         "xaxis": "x",
         "y": [
          -525,
          -525,
          -540,
          -540
         ],
         "yaxis": "y"
        },
        {
         "hoverinfo": "text",
         "marker": {
          "color": "rgb(255,220,0)"
         },
         "mode": "lines",
         "text": [
          "ll_now_you_then_call",
          "",
          "",
          "follow_up_days_will_warranted"
         ],
         "type": "scatter",
         "x": [
          0.727113177874363,
          0.854999673492629,
          0.854999673492629,
          0
         ],
         "xaxis": "x",
         "y": [
          -532.5,
          -532.5,
          -555,
          -555
         ],
         "yaxis": "y"
        },
        {
         "hoverinfo": "text",
         "marker": {
          "color": "rgb(0,116,217)"
         },
         "mode": "lines",
         "text": [
          "ll_now_you_then_call",
          "",
          "",
          "follow_up_days_will_warranted"
         ],
         "type": "scatter",
         "x": [
          1.0054639122323046,
          1.1412445252044856,
          1.1412445252044856,
          0.854999673492629
         ],
         "xaxis": "x",
         "y": [
          -484.375,
          -484.375,
          -543.75,
          -543.75
         ],
         "yaxis": "y"
        },
        {
         "hoverinfo": "text",
         "marker": {
          "color": "rgb(40,35,35)"
         },
         "mode": "lines",
         "text": [
          "training_trainer_instructor_himself_really",
          "",
          "",
          "training_location_meridian_programs_working"
         ],
         "type": "scatter",
         "x": [
          0,
          0.5299527497109457,
          0.5299527497109457,
          0
         ],
         "xaxis": "x",
         "y": [
          -565,
          -565,
          -575,
          -575
         ],
         "yaxis": "y"
        },
        {
         "hoverinfo": "text",
         "marker": {
          "color": "rgb(61,153,112)"
         },
         "mode": "lines",
         "text": [
          "her_she_said_called_back",
          "",
          "",
          "she_server_browser_got_failure"
         ],
         "type": "scatter",
         "x": [
          0,
          0.7455606816319327,
          0.7455606816319327,
          0
         ],
         "xaxis": "x",
         "y": [
          -595,
          -595,
          -605,
          -605
         ],
         "yaxis": "y"
        },
        {
         "hoverinfo": "text",
         "marker": {
          "color": "rgb(61,153,112)"
         },
         "mode": "lines",
         "text": [
          "interview_hiring_lloyd_her_5729",
          "",
          "",
          "she_server_browser_got_failure"
         ],
         "type": "scatter",
         "x": [
          0,
          0.9027559853186762,
          0.9027559853186762,
          0.7455606816319327
         ],
         "xaxis": "x",
         "y": [
          -585,
          -585,
          -600,
          -600
         ],
         "yaxis": "y"
        },
        {
         "hoverinfo": "text",
         "marker": {
          "color": "rgb(255,65,54)"
         },
         "mode": "lines",
         "text": [
          "person_call_called_and_will",
          "",
          "",
          "him_he_his_called_will"
         ],
         "type": "scatter",
         "x": [
          0,
          0.38765304581831084,
          0.38765304581831084,
          0
         ],
         "xaxis": "x",
         "y": [
          -625,
          -625,
          -635,
          -635
         ],
         "yaxis": "y"
        },
        {
         "hoverinfo": "text",
         "marker": {
          "color": "rgb(255,65,54)"
         },
         "mode": "lines",
         "text": [
          "them_they_will_know_not",
          "",
          "",
          "him_he_person_his_called"
         ],
         "type": "scatter",
         "x": [
          0,
          0.7485089297235231,
          0.7485089297235231,
          0.38765304581831084
         ],
         "xaxis": "x",
         "y": [
          -615,
          -615,
          -630,
          -630
         ],
         "yaxis": "y"
        },
        {
         "hoverinfo": "text",
         "marker": {
          "color": "rgb(255,65,54)"
         },
         "mode": "lines",
         "text": [
          "location_in_jews_pkwy_give",
          "",
          "",
          "location_called_police_in_from"
         ],
         "type": "scatter",
         "x": [
          0,
          0.5154480759606641,
          0.5154480759606641,
          0
         ],
         "xaxis": "x",
         "y": [
          -645,
          -645,
          -655,
          -655
         ],
         "yaxis": "y"
        },
        {
         "hoverinfo": "text",
         "marker": {
          "color": "rgb(255,65,54)"
         },
         "mode": "lines",
         "text": [
          "location_in_jews_pkwy_give",
          "",
          "",
          "location_called_police_in_from"
         ],
         "type": "scatter",
         "x": [
          0.7485089297235231,
          0.8127748303756679,
          0.8127748303756679,
          0.5154480759606641
         ],
         "xaxis": "x",
         "y": [
          -622.5,
          -622.5,
          -650,
          -650
         ],
         "yaxis": "y"
        },
        {
         "hoverinfo": "text",
         "marker": {
          "color": "rgb(0,116,217)"
         },
         "mode": "lines",
         "text": [
          "location_in_jews_pkwy_give",
          "",
          "",
          "location_called_police_in_from"
         ],
         "type": "scatter",
         "x": [
          0.9027559853186762,
          1.0236579449606173,
          1.0236579449606173,
          0.8127748303756679
         ],
         "xaxis": "x",
         "y": [
          -592.5,
          -592.5,
          -636.25,
          -636.25
         ],
         "yaxis": "y"
        },
        {
         "hoverinfo": "text",
         "marker": {
          "color": "rgb(35,205,205)"
         },
         "mode": "lines",
         "text": [
          "reps_rep_ones_globe_dump",
          "",
          "",
          "sun_contacts_iforce_campus_waiting"
         ],
         "type": "scatter",
         "x": [
          0,
          0.8859386339487275,
          0.8859386339487275,
          0
         ],
         "xaxis": "x",
         "y": [
          -665,
          -665,
          -675,
          -675
         ],
         "yaxis": "y"
        },
        {
         "hoverinfo": "text",
         "marker": {
          "color": "rgb(35,205,205)"
         },
         "mode": "lines",
         "text": [
          "sprint_pcs_phone_customers_surf",
          "",
          "",
          "trade_occ_called_etrade_changed"
         ],
         "type": "scatter",
         "x": [
          0,
          0.9083737465563264,
          0.9083737465563264,
          0
         ],
         "xaxis": "x",
         "y": [
          -685,
          -685,
          -695,
          -695
         ],
         "yaxis": "y"
        },
        {
         "hoverinfo": "text",
         "marker": {
          "color": "rgb(35,205,205)"
         },
         "mode": "lines",
         "text": [
          "accenture_person_from_partner_team",
          "",
          "",
          "biogen_lab_prakash_regarding_conference"
         ],
         "type": "scatter",
         "x": [
          0,
          0.8488031996552206,
          0.8488031996552206,
          0
         ],
         "xaxis": "x",
         "y": [
          -715,
          -715,
          -725,
          -725
         ],
         "yaxis": "y"
        },
        {
         "hoverinfo": "text",
         "marker": {
          "color": "rgb(35,205,205)"
         },
         "mode": "lines",
         "text": [
          "att_localized_minn_who_vivace",
          "",
          "",
          "biogen_lab_prakash_regarding_conference"
         ],
         "type": "scatter",
         "x": [
          0,
          0.9247242904646223,
          0.9247242904646223,
          0.8488031996552206
         ],
         "xaxis": "x",
         "y": [
          -705,
          -705,
          -720,
          -720
         ],
         "yaxis": "y"
        },
        {
         "hoverinfo": "text",
         "marker": {
          "color": "rgb(35,205,205)"
         },
         "mode": "lines",
         "text": [
          "att_localized_minn_who_vivace",
          "",
          "",
          "biogen_lab_prakash_regarding_conference"
         ],
         "type": "scatter",
         "x": [
          0.9083737465563264,
          0.9697908317722371,
          0.9697908317722371,
          0.9247242904646223
         ],
         "xaxis": "x",
         "y": [
          -690,
          -690,
          -712.5,
          -712.5
         ],
         "yaxis": "y"
        },
        {
         "hoverinfo": "text",
         "marker": {
          "color": "rgb(35,205,205)"
         },
         "mode": "lines",
         "text": [
          "att_localized_minn_who_vivace",
          "",
          "",
          "biogen_lab_prakash_regarding_conference"
         ],
         "type": "scatter",
         "x": [
          0.8859386339487275,
          0.9779488518880585,
          0.9779488518880585,
          0.9697908317722371
         ],
         "xaxis": "x",
         "y": [
          -670,
          -670,
          -701.25,
          -701.25
         ],
         "yaxis": "y"
        },
        {
         "hoverinfo": "text",
         "marker": {
          "color": "rgb(61,153,112)"
         },
         "mode": "lines",
         "text": [
          "final_who_going_we_squared",
          "",
          "",
          "booty_appreciate_make_initiate_ll"
         ],
         "type": "scatter",
         "x": [
          0,
          0.8434104802499276,
          0.8434104802499276,
          0
         ],
         "xaxis": "x",
         "y": [
          -755,
          -755,
          -765,
          -765
         ],
         "yaxis": "y"
        },
        {
         "hoverinfo": "text",
         "marker": {
          "color": "rgb(61,153,112)"
         },
         "mode": "lines",
         "text": [
          "lunch_dinner_food_boxing_earning",
          "",
          "",
          "booty_appreciate_make_initiate_ll"
         ],
         "type": "scatter",
         "x": [
          0,
          0.8967144343994886,
          0.8967144343994886,
          0.8434104802499276
         ],
         "xaxis": "x",
         "y": [
          -745,
          -745,
          -760,
          -760
         ],
         "yaxis": "y"
        },
        {
         "hoverinfo": "text",
         "marker": {
          "color": "rgb(61,153,112)"
         },
         "mode": "lines",
         "text": [
          "srik_srinivas_srinath_raj_sriram",
          "",
          "",
          "booty_appreciate_make_initiate_ll"
         ],
         "type": "scatter",
         "x": [
          0,
          0.935856906304795,
          0.935856906304795,
          0.8967144343994886
         ],
         "xaxis": "x",
         "y": [
          -735,
          -735,
          -752.5,
          -752.5
         ],
         "yaxis": "y"
        },
        {
         "hoverinfo": "text",
         "marker": {
          "color": "rgb(61,153,112)"
         },
         "mode": "lines",
         "text": [
          "schedule_monday_looks_let_thanksgiving",
          "",
          "",
          "number_should_what_know_let"
         ],
         "type": "scatter",
         "x": [
          0,
          0.8329445780583603,
          0.8329445780583603,
          0
         ],
         "xaxis": "x",
         "y": [
          -785,
          -785,
          -795,
          -795
         ],
         "yaxis": "y"
        },
        {
         "hoverinfo": "text",
         "marker": {
          "color": "rgb(61,153,112)"
         },
         "mode": "lines",
         "text": [
          "venk_asked_president_works_concurrent",
          "",
          "",
          "number_should_what_know_let"
         ],
         "type": "scatter",
         "x": [
          0,
          0.9478926754797948,
          0.9478926754797948,
          0.8329445780583603
         ],
         "xaxis": "x",
         "y": [
          -775,
          -775,
          -790,
          -790
         ],
         "yaxis": "y"
        },
        {
         "hoverinfo": "text",
         "marker": {
          "color": "rgb(61,153,112)"
         },
         "mode": "lines",
         "text": [
          "venk_asked_president_works_concurrent",
          "",
          "",
          "ge_delivery_medical_beta_go"
         ],
         "type": "scatter",
         "x": [
          0.9478926754797948,
          0.9628727478792628,
          0.9628727478792628,
          0
         ],
         "xaxis": "x",
         "y": [
          -782.5,
          -782.5,
          -805,
          -805
         ],
         "yaxis": "y"
        },
        {
         "hoverinfo": "text",
         "marker": {
          "color": "rgb(61,153,112)"
         },
         "mode": "lines",
         "text": [
          "venk_asked_president_works_concurrent",
          "",
          "",
          "ge_delivery_medical_beta_go"
         ],
         "type": "scatter",
         "x": [
          0.935856906304795,
          0.9769097837086667,
          0.9769097837086667,
          0.9628727478792628
         ],
         "xaxis": "x",
         "y": [
          -743.75,
          -743.75,
          -793.75,
          -793.75
         ],
         "yaxis": "y"
        },
        {
         "hoverinfo": "text",
         "marker": {
          "color": "rgb(0,116,217)"
         },
         "mode": "lines",
         "text": [
          "venk_asked_president_works_concurrent",
          "",
          "",
          "ge_delivery_medical_beta_go"
         ],
         "type": "scatter",
         "x": [
          0.9779488518880585,
          1.0418526657747866,
          1.0418526657747866,
          0.9769097837086667
         ],
         "xaxis": "x",
         "y": [
          -685.625,
          -685.625,
          -768.75,
          -768.75
         ],
         "yaxis": "y"
        },
        {
         "hoverinfo": "text",
         "marker": {
          "color": "rgb(255,65,54)"
         },
         "mode": "lines",
         "text": [
          "vm_vmail_left_leave_344",
          "",
          "",
          "tried_but_times_trying_was"
         ],
         "type": "scatter",
         "x": [
          0,
          0.8214610917645359,
          0.8214610917645359,
          0
         ],
         "xaxis": "x",
         "y": [
          -815,
          -815,
          -825,
          -825
         ],
         "yaxis": "y"
        },
        {
         "hoverinfo": "text",
         "marker": {
          "color": "rgb(255,65,54)"
         },
         "mode": "lines",
         "text": [
          "germana_8135_register_her_bakerlawcorp",
          "",
          "",
          "fax_machine_7304_7385_834"
         ],
         "type": "scatter",
         "x": [
          0,
          0.8804344769850487,
          0.8804344769850487,
          0
         ],
         "xaxis": "x",
         "y": [
          -835,
          -835,
          -845,
          -845
         ],
         "yaxis": "y"
        },
        {
         "hoverinfo": "text",
         "marker": {
          "color": "rgb(255,65,54)"
         },
         "mode": "lines",
         "text": [
          "germana_8135_register_her_bakerlawcorp",
          "",
          "",
          "hotel_marriott_room_reservations_rooms"
         ],
         "type": "scatter",
         "x": [
          0.8804344769850487,
          0.9218261829519739,
          0.9218261829519739,
          0
         ],
         "xaxis": "x",
         "y": [
          -840,
          -840,
          -855,
          -855
         ],
         "yaxis": "y"
        },
        {
         "hoverinfo": "text",
         "marker": {
          "color": "rgb(255,65,54)"
         },
         "mode": "lines",
         "text": [
          "germana_8135_register_her_bakerlawcorp",
          "",
          "",
          "hotel_marriott_room_reservations_rooms"
         ],
         "type": "scatter",
         "x": [
          0.8214610917645359,
          0.9852022591094166,
          0.9852022591094166,
          0.9218261829519739
         ],
         "xaxis": "x",
         "y": [
          -820,
          -820,
          -847.5,
          -847.5
         ],
         "yaxis": "y"
        },
        {
         "hoverinfo": "text",
         "marker": {
          "color": "rgb(0,116,217)"
         },
         "mode": "lines",
         "text": [
          "germana_8135_register_her_bakerlawcorp",
          "",
          "",
          "hotel_marriott_room_reservations_rooms"
         ],
         "type": "scatter",
         "x": [
          1.0418526657747866,
          1.0843673292313318,
          1.0843673292313318,
          0.9852022591094166
         ],
         "xaxis": "x",
         "y": [
          -727.1875,
          -727.1875,
          -833.75,
          -833.75
         ],
         "yaxis": "y"
        },
        {
         "hoverinfo": "text",
         "marker": {
          "color": "rgb(0,116,217)"
         },
         "mode": "lines",
         "text": [
          "germana_8135_register_her_bakerlawcorp",
          "",
          "",
          "hotel_marriott_room_reservations_rooms"
         ],
         "type": "scatter",
         "x": [
          1.0236579449606173,
          1.0959104821008205,
          1.0959104821008205,
          1.0843673292313318
         ],
         "xaxis": "x",
         "y": [
          -614.375,
          -614.375,
          -780.46875,
          -780.46875
         ],
         "yaxis": "y"
        },
        {
         "hoverinfo": "text",
         "marker": {
          "color": "rgb(0,116,217)"
         },
         "mode": "lines",
         "text": [
          "germana_8135_register_her_bakerlawcorp",
          "",
          "",
          "hotel_marriott_room_reservations_rooms"
         ],
         "type": "scatter",
         "x": [
          0.5299527497109457,
          1.2248517057684396,
          1.2248517057684396,
          1.0959104821008205
         ],
         "xaxis": "x",
         "y": [
          -570,
          -570,
          -697.421875,
          -697.421875
         ],
         "yaxis": "y"
        },
        {
         "hoverinfo": "text",
         "marker": {
          "color": "rgb(35,205,205)"
         },
         "mode": "lines",
         "text": [
          "office_hi_morining_epindia02_phonecall",
          "",
          "",
          "office_desk_my_your_at"
         ],
         "type": "scatter",
         "x": [
          0,
          0.4035524693535293,
          0.4035524693535293,
          0
         ],
         "xaxis": "x",
         "y": [
          -875,
          -875,
          -885,
          -885
         ],
         "yaxis": "y"
        },
        {
         "hoverinfo": "text",
         "marker": {
          "color": "rgb(35,205,205)"
         },
         "mode": "lines",
         "text": [
          "office_hi_morining_epindia02_phonecall",
          "",
          "",
          "danbaca_6114_394_yahoo_reach"
         ],
         "type": "scatter",
         "x": [
          0.4035524693535293,
          0.8941569434218349,
          0.8941569434218349,
          0
         ],
         "xaxis": "x",
         "y": [
          -880,
          -880,
          -895,
          -895
         ],
         "yaxis": "y"
        },
        {
         "hoverinfo": "text",
         "marker": {
          "color": "rgb(35,205,205)"
         },
         "mode": "lines",
         "text": [
          "fedex_office_address_reston_location",
          "",
          "",
          "danbaca_6114_394_yahoo_reach"
         ],
         "type": "scatter",
         "x": [
          0,
          0.9188068048199656,
          0.9188068048199656,
          0.8941569434218349
         ],
         "xaxis": "x",
         "y": [
          -865,
          -865,
          -887.5,
          -887.5
         ],
         "yaxis": "y"
        },
        {
         "hoverinfo": "text",
         "marker": {
          "color": "rgb(0,116,217)"
         },
         "mode": "lines",
         "text": [
          "fedex_office_address_reston_location",
          "",
          "",
          "danbaca_6114_394_yahoo_reach"
         ],
         "type": "scatter",
         "x": [
          1.2248517057684396,
          1.254752188730922,
          1.254752188730922,
          0.9188068048199656
         ],
         "xaxis": "x",
         "y": [
          -633.7109375,
          -633.7109375,
          -876.25,
          -876.25
         ],
         "yaxis": "y"
        },
        {
         "hoverinfo": "text",
         "marker": {
          "color": "rgb(0,116,217)"
         },
         "mode": "lines",
         "text": [
          "fedex_office_address_reston_location",
          "",
          "",
          "danbaca_6114_394_yahoo_reach"
         ],
         "type": "scatter",
         "x": [
          1.1412445252044856,
          1.3422416555979604,
          1.3422416555979604,
          1.254752188730922
         ],
         "xaxis": "x",
         "y": [
          -514.0625,
          -514.0625,
          -754.98046875,
          -754.98046875
         ],
         "yaxis": "y"
        },
        {
         "hoverinfo": "text",
         "marker": {
          "color": "rgb(0,116,217)"
         },
         "mode": "lines",
         "text": [
          "fedex_office_address_reston_location",
          "",
          "",
          "danbaca_6114_394_yahoo_reach"
         ],
         "type": "scatter",
         "x": [
          1.4686050570799989,
          1.602416615654331,
          1.602416615654331,
          1.3422416555979604
         ],
         "xaxis": "x",
         "y": [
          -331.5478515625,
          -331.5478515625,
          -634.521484375,
          -634.521484375
         ],
         "yaxis": "y"
        },
        {
         "hoverinfo": "text",
         "marker": {
          "color": "rgb(133,20,75)"
         },
         "mode": "lines",
         "text": [
          "returning_sorry_hi_missed_thank",
          "",
          "",
          "sorry_returning_missed_yesterday_did"
         ],
         "type": "scatter",
         "x": [
          0,
          0.30667673847313404,
          0.30667673847313404,
          0
         ],
         "xaxis": "x",
         "y": [
          -915,
          -915,
          -925,
          -925
         ],
         "yaxis": "y"
        },
        {
         "hoverinfo": "text",
         "marker": {
          "color": "rgb(133,20,75)"
         },
         "mode": "lines",
         "text": [
          "returning_sorry_hi_missed_thank",
          "",
          "",
          "missed_sorry_missing_apologize_apologies"
         ],
         "type": "scatter",
         "x": [
          0.30667673847313404,
          0.4705890499905302,
          0.4705890499905302,
          0
         ],
         "xaxis": "x",
         "y": [
          -920,
          -920,
          -935,
          -935
         ],
         "yaxis": "y"
        },
        {
         "hoverinfo": "text",
         "marker": {
          "color": "rgb(133,20,75)"
         },
         "mode": "lines",
         "text": [
          "dork_sorry_did_nigga_back",
          "",
          "",
          "missed_sorry_missing_apologize_apologies"
         ],
         "type": "scatter",
         "x": [
          0,
          0.8856281446538058,
          0.8856281446538058,
          0.4705890499905302
         ],
         "xaxis": "x",
         "y": [
          -905,
          -905,
          -927.5,
          -927.5
         ],
         "yaxis": "y"
        },
        {
         "hoverinfo": "text",
         "marker": {
          "color": "rgb(0,116,217)"
         },
         "mode": "lines",
         "text": [
          "dork_sorry_did_nigga_back",
          "",
          "",
          "missed_sorry_missing_apologize_apologies"
         ],
         "type": "scatter",
         "x": [
          1.602416615654331,
          1.6762744648582821,
          1.6762744648582821,
          0.8856281446538058
         ],
         "xaxis": "x",
         "y": [
          -483.03466796875,
          -483.03466796875,
          -916.25,
          -916.25
         ],
         "yaxis": "y"
        },
        {
         "hoverinfo": "text",
         "marker": {
          "color": "rgb(255,220,0)"
         },
         "mode": "lines",
         "text": [
          "when_get_come_hen_in",
          "",
          "",
          "come_when_give_vinh_981"
         ],
         "type": "scatter",
         "x": [
          0,
          0.5589722731950836,
          0.5589722731950836,
          0
         ],
         "xaxis": "x",
         "y": [
          -955,
          -955,
          -965,
          -965
         ],
         "yaxis": "y"
        },
        {
         "hoverinfo": "text",
         "marker": {
          "color": "rgb(255,220,0)"
         },
         "mode": "lines",
         "text": [
          "when_minute_time_whenever_stop",
          "",
          "",
          "come_when_give_vinh_981"
         ],
         "type": "scatter",
         "x": [
          0,
          0.6166405964315069,
          0.6166405964315069,
          0.5589722731950836
         ],
         "xaxis": "x",
         "y": [
          -945,
          -945,
          -960,
          -960
         ],
         "yaxis": "y"
        },
        {
         "hoverinfo": "text",
         "marker": {
          "color": "rgb(40,35,35)"
         },
         "mode": "lines",
         "text": [
          "chance_when_get_whenever_job",
          "",
          "",
          "hi_chance_when_whenever_hello"
         ],
         "type": "scatter",
         "x": [
          0,
          0.45185326710136886,
          0.45185326710136886,
          0
         ],
         "xaxis": "x",
         "y": [
          -985,
          -985,
          -995,
          -995
         ],
         "yaxis": "y"
        },
        {
         "hoverinfo": "text",
         "marker": {
          "color": "rgb(40,35,35)"
         },
         "mode": "lines",
         "text": [
          "give_chance_ll_when_you",
          "",
          "",
          "hi_chance_when_whenever_hello"
         ],
         "type": "scatter",
         "x": [
          0,
          0.5226789299986104,
          0.5226789299986104,
          0.45185326710136886
         ],
         "xaxis": "x",
         "y": [
          -975,
          -975,
          -990,
          -990
         ],
         "yaxis": "y"
        },
        {
         "hoverinfo": "text",
         "marker": {
          "color": "rgb(0,116,217)"
         },
         "mode": "lines",
         "text": [
          "give_chance_ll_when_you",
          "",
          "",
          "hi_chance_when_whenever_hello"
         ],
         "type": "scatter",
         "x": [
          0.6166405964315069,
          1.0915421377562395,
          1.0915421377562395,
          0.5226789299986104
         ],
         "xaxis": "x",
         "y": [
          -952.5,
          -952.5,
          -982.5,
          -982.5
         ],
         "yaxis": "y"
        },
        {
         "hoverinfo": "text",
         "marker": {
          "color": "rgb(61,153,112)"
         },
         "mode": "lines",
         "text": [
          "discuss_give_further_me_detail",
          "",
          "",
          "discuss_3384_075830_mcgurl_earliest"
         ],
         "type": "scatter",
         "x": [
          0,
          0.5990544123858454,
          0.5990544123858454,
          0
         ],
         "xaxis": "x",
         "y": [
          -1015,
          -1015,
          -1025,
          -1025
         ],
         "yaxis": "y"
        },
        {
         "hoverinfo": "text",
         "marker": {
          "color": "rgb(61,153,112)"
         },
         "mode": "lines",
         "text": [
          "discuss_give_further_me_detail",
          "",
          "",
          "convenience_earliest_convience_your_holly"
         ],
         "type": "scatter",
         "x": [
          0.5990544123858454,
          0.8760837440395964,
          0.8760837440395964,
          0
         ],
         "xaxis": "x",
         "y": [
          -1020,
          -1020,
          -1035,
          -1035
         ],
         "yaxis": "y"
        },
        {
         "hoverinfo": "text",
         "marker": {
          "color": "rgb(61,153,112)"
         },
         "mode": "lines",
         "text": [
          "proposal_thoughts_incentivizes_usatoday_interests",
          "",
          "",
          "convenience_earliest_convience_your_holly"
         ],
         "type": "scatter",
         "x": [
          0,
          0.9110694125092411,
          0.9110694125092411,
          0.8760837440395964
         ],
         "xaxis": "x",
         "y": [
          -1005,
          -1005,
          -1027.5,
          -1027.5
         ],
         "yaxis": "y"
        },
        {
         "hoverinfo": "text",
         "marker": {
          "color": "rgb(255,65,54)"
         },
         "mode": "lines",
         "text": [
          "changes_changed_made_thw_propagated",
          "",
          "",
          "review_changes_chance_once_discuss"
         ],
         "type": "scatter",
         "x": [
          0,
          0.6680046303212,
          0.6680046303212,
          0
         ],
         "xaxis": "x",
         "y": [
          -1045,
          -1045,
          -1055,
          -1055
         ],
         "yaxis": "y"
        },
        {
         "hoverinfo": "text",
         "marker": {
          "color": "rgb(255,65,54)"
         },
         "mode": "lines",
         "text": [
          "document_portal_revised_excessive_backgrounder",
          "",
          "",
          "clarification_clarifications_further_98480_need"
         ],
         "type": "scatter",
         "x": [
          0,
          0.8650588782773898,
          0.8650588782773898,
          0
         ],
         "xaxis": "x",
         "y": [
          -1065,
          -1065,
          -1075,
          -1075
         ],
         "yaxis": "y"
        },
        {
         "hoverinfo": "text",
         "marker": {
          "color": "rgb(255,65,54)"
         },
         "mode": "lines",
         "text": [
          "document_portal_revised_excessive_backgrounder",
          "",
          "",
          "clarification_clarifications_further_98480_need"
         ],
         "type": "scatter",
         "x": [
          0.6680046303212,
          0.9853830360924876,
          0.9853830360924876,
          0.8650588782773898
         ],
         "xaxis": "x",
         "y": [
          -1050,
          -1050,
          -1070,
          -1070
         ],
         "yaxis": "y"
        },
        {
         "hoverinfo": "text",
         "marker": {
          "color": "rgb(0,116,217)"
         },
         "mode": "lines",
         "text": [
          "document_portal_revised_excessive_backgrounder",
          "",
          "",
          "clarification_clarifications_further_98480_need"
         ],
         "type": "scatter",
         "x": [
          0.9110694125092411,
          1.0913940268043723,
          1.0913940268043723,
          0.9853830360924876
         ],
         "xaxis": "x",
         "y": [
          -1016.25,
          -1016.25,
          -1060,
          -1060
         ],
         "yaxis": "y"
        },
        {
         "hoverinfo": "text",
         "marker": {
          "color": "rgb(35,205,205)"
         },
         "mode": "lines",
         "text": [
          "interested_contact_email_via_please",
          "",
          "",
          "information_contact_details_further_please"
         ],
         "type": "scatter",
         "x": [
          0,
          0.7065250405902648,
          0.7065250405902648,
          0
         ],
         "xaxis": "x",
         "y": [
          -1085,
          -1085,
          -1095,
          -1095
         ],
         "yaxis": "y"
        },
        {
         "hoverinfo": "text",
         "marker": {
          "color": "rgb(35,205,205)"
         },
         "mode": "lines",
         "text": [
          "agreement_partnership_contact_together_972",
          "",
          "",
          "services_about_organization_company_additional"
         ],
         "type": "scatter",
         "x": [
          0,
          0.7037346484639515,
          0.7037346484639515,
          0
         ],
         "xaxis": "x",
         "y": [
          -1105,
          -1105,
          -1115,
          -1115
         ],
         "yaxis": "y"
        },
        {
         "hoverinfo": "text",
         "marker": {
          "color": "rgb(35,205,205)"
         },
         "mode": "lines",
         "text": [
          "agreement_partnership_contact_together_972",
          "",
          "",
          "services_about_organization_company_additional"
         ],
         "type": "scatter",
         "x": [
          0.7065250405902648,
          0.830771136501129,
          0.830771136501129,
          0.7037346484639515
         ],
         "xaxis": "x",
         "y": [
          -1090,
          -1090,
          -1110,
          -1110
         ],
         "yaxis": "y"
        },
        {
         "hoverinfo": "text",
         "marker": {
          "color": "rgb(35,205,205)"
         },
         "mode": "lines",
         "text": [
          "meeting_meetings_will_meet_before",
          "",
          "",
          "technology_happy_appointment_our_webtrends"
         ],
         "type": "scatter",
         "x": [
          0,
          0.7784246900637016,
          0.7784246900637016,
          0
         ],
         "xaxis": "x",
         "y": [
          -1135,
          -1135,
          -1145,
          -1145
         ],
         "yaxis": "y"
        },
        {
         "hoverinfo": "text",
         "marker": {
          "color": "rgb(35,205,205)"
         },
         "mode": "lines",
         "text": [
          "presentation_fascinating_engaging_develop_ideas",
          "",
          "",
          "technology_happy_appointment_our_webtrends"
         ],
         "type": "scatter",
         "x": [
          0,
          0.8812354193504105,
          0.8812354193504105,
          0.7784246900637016
         ],
         "xaxis": "x",
         "y": [
          -1125,
          -1125,
          -1140,
          -1140
         ],
         "yaxis": "y"
        },
        {
         "hoverinfo": "text",
         "marker": {
          "color": "rgb(35,205,205)"
         },
         "mode": "lines",
         "text": [
          "presentation_fascinating_engaging_develop_ideas",
          "",
          "",
          "technical_support_pcpinpoint_pinpoint_9697"
         ],
         "type": "scatter",
         "x": [
          0.8812354193504105,
          0.929911122895293,
          0.929911122895293,
          0
         ],
         "xaxis": "x",
         "y": [
          -1132.5,
          -1132.5,
          -1155,
          -1155
         ],
         "yaxis": "y"
        },
        {
         "hoverinfo": "text",
         "marker": {
          "color": "rgb(35,205,205)"
         },
         "mode": "lines",
         "text": [
          "presentation_fascinating_engaging_develop_ideas",
          "",
          "",
          "technical_support_pcpinpoint_pinpoint_9697"
         ],
         "type": "scatter",
         "x": [
          0.830771136501129,
          0.9903702151944073,
          0.9903702151944073,
          0.929911122895293
         ],
         "xaxis": "x",
         "y": [
          -1100,
          -1100,
          -1143.75,
          -1143.75
         ],
         "yaxis": "y"
        },
        {
         "hoverinfo": "text",
         "marker": {
          "color": "rgb(0,116,217)"
         },
         "mode": "lines",
         "text": [
          "presentation_fascinating_engaging_develop_ideas",
          "",
          "",
          "technical_support_pcpinpoint_pinpoint_9697"
         ],
         "type": "scatter",
         "x": [
          1.0913940268043723,
          1.192292523775193,
          1.192292523775193,
          0.9903702151944073
         ],
         "xaxis": "x",
         "y": [
          -1038.125,
          -1038.125,
          -1121.875,
          -1121.875
         ],
         "yaxis": "y"
        },
        {
         "hoverinfo": "text",
         "marker": {
          "color": "rgb(61,153,112)"
         },
         "mode": "lines",
         "text": [
          "problems_issues_problem_any_there",
          "",
          "",
          "problems_contact_issues_any_please"
         ],
         "type": "scatter",
         "x": [
          0,
          0.2851081409851691,
          0.2851081409851691,
          0
         ],
         "xaxis": "x",
         "y": [
          -1175,
          -1175,
          -1185,
          -1185
         ],
         "yaxis": "y"
        },
        {
         "hoverinfo": "text",
         "marker": {
          "color": "rgb(61,153,112)"
         },
         "mode": "lines",
         "text": [
          "problems_4088294796_3997_issue_issues",
          "",
          "",
          "problems_contact_issues_any_please"
         ],
         "type": "scatter",
         "x": [
          0,
          0.6244061584935032,
          0.6244061584935032,
          0.2851081409851691
         ],
         "xaxis": "x",
         "y": [
          -1165,
          -1165,
          -1180,
          -1180
         ],
         "yaxis": "y"
        },
        {
         "hoverinfo": "text",
         "marker": {
          "color": "rgb(255,65,54)"
         },
         "mode": "lines",
         "text": [
          "cell_my_on_phone_408",
          "",
          "",
          "lobby_cell_am_pdt_206"
         ],
         "type": "scatter",
         "x": [
          0,
          0.5969711103752348,
          0.5969711103752348,
          0
         ],
         "xaxis": "x",
         "y": [
          -1205,
          -1205,
          -1215,
          -1215
         ],
         "yaxis": "y"
        },
        {
         "hoverinfo": "text",
         "marker": {
          "color": "rgb(255,65,54)"
         },
         "mode": "lines",
         "text": [
          "urgent_my_cell_171_mobile",
          "",
          "",
          "lobby_cell_am_pdt_206"
         ],
         "type": "scatter",
         "x": [
          0,
          0.8499552812109048,
          0.8499552812109048,
          0.5969711103752348
         ],
         "xaxis": "x",
         "y": [
          -1195,
          -1195,
          -1210,
          -1210
         ],
         "yaxis": "y"
        },
        {
         "hoverinfo": "text",
         "marker": {
          "color": "rgb(35,205,205)"
         },
         "mode": "lines",
         "text": [
          "650_408_at_me_8174",
          "",
          "",
          "give_4159909729_415_530_408"
         ],
         "type": "scatter",
         "x": [
          0,
          0.6974521802962227,
          0.6974521802962227,
          0
         ],
         "xaxis": "x",
         "y": [
          -1225,
          -1225,
          -1235,
          -1235
         ],
         "yaxis": "y"
        },
        {
         "hoverinfo": "text",
         "marker": {
          "color": "rgb(35,205,205)"
         },
         "mode": "lines",
         "text": [
          "person_415_at_408_650",
          "",
          "",
          "avocadoit_562_408_inc_location"
         ],
         "type": "scatter",
         "x": [
          0,
          0.617054292247177,
          0.617054292247177,
          0
         ],
         "xaxis": "x",
         "y": [
          -1245,
          -1245,
          -1255,
          -1255
         ],
         "yaxis": "y"
        },
        {
         "hoverinfo": "text",
         "marker": {
          "color": "rgb(35,205,205)"
         },
         "mode": "lines",
         "text": [
          "person_415_at_408_650",
          "",
          "",
          "avocadoit_562_408_inc_location"
         ],
         "type": "scatter",
         "x": [
          0.6974521802962227,
          0.8015482555948085,
          0.8015482555948085,
          0.617054292247177
         ],
         "xaxis": "x",
         "y": [
          -1230,
          -1230,
          -1250,
          -1250
         ],
         "yaxis": "y"
        },
        {
         "hoverinfo": "text",
         "marker": {
          "color": "rgb(0,116,217)"
         },
         "mode": "lines",
         "text": [
          "person_415_at_408_650",
          "",
          "",
          "avocadoit_562_408_inc_location"
         ],
         "type": "scatter",
         "x": [
          0.8499552812109048,
          1.0602055851718402,
          1.0602055851718402,
          0.8015482555948085
         ],
         "xaxis": "x",
         "y": [
          -1202.5,
          -1202.5,
          -1240,
          -1240
         ],
         "yaxis": "y"
        },
        {
         "hoverinfo": "text",
         "marker": {
          "color": "rgb(133,20,75)"
         },
         "mode": "lines",
         "text": [
          "email_contact_me_510_or",
          "",
          "",
          "need_8530_857_9149_831"
         ],
         "type": "scatter",
         "x": [
          0,
          0.721269771884506,
          0.721269771884506,
          0
         ],
         "xaxis": "x",
         "y": [
          -1265,
          -1265,
          -1275,
          -1275
         ],
         "yaxis": "y"
        },
        {
         "hoverinfo": "text",
         "marker": {
          "color": "rgb(133,20,75)"
         },
         "mode": "lines",
         "text": [
          "email_contact_me_510_or",
          "",
          "",
          "amis_need_needed_sit_tight"
         ],
         "type": "scatter",
         "x": [
          0.721269771884506,
          0.8401709770476162,
          0.8401709770476162,
          0
         ],
         "xaxis": "x",
         "y": [
          -1270,
          -1270,
          -1285,
          -1285
         ],
         "yaxis": "y"
        },
        {
         "hoverinfo": "text",
         "marker": {
          "color": "rgb(133,20,75)"
         },
         "mode": "lines",
         "text": [
          "anything_ayec_personally_if_so",
          "",
          "",
          "anything_else_need_contact_joel"
         ],
         "type": "scatter",
         "x": [
          0,
          0.47843878164208586,
          0.47843878164208586,
          0
         ],
         "xaxis": "x",
         "y": [
          -1295,
          -1295,
          -1305,
          -1305
         ],
         "yaxis": "y"
        },
        {
         "hoverinfo": "text",
         "marker": {
          "color": "rgb(133,20,75)"
         },
         "mode": "lines",
         "text": [
          "anything_ayec_personally_if_so",
          "",
          "",
          "anything_else_need_contact_joel"
         ],
         "type": "scatter",
         "x": [
          0.8401709770476162,
          0.9558944918955501,
          0.9558944918955501,
          0.47843878164208586
         ],
         "xaxis": "x",
         "y": [
          -1277.5,
          -1277.5,
          -1300,
          -1300
         ],
         "yaxis": "y"
        },
        {
         "hoverinfo": "text",
         "marker": {
          "color": "rgb(255,220,0)"
         },
         "mode": "lines",
         "text": [
          "x8112_x8028_x8025_x8017_ravi",
          "",
          "",
          "paalammmmmmmmm_coz_anytime_thanks_uli"
         ],
         "type": "scatter",
         "x": [
          0,
          0.8755663276294683,
          0.8755663276294683,
          0
         ],
         "xaxis": "x",
         "y": [
          -1315,
          -1315,
          -1325,
          -1325
         ],
         "yaxis": "y"
        },
        {
         "hoverinfo": "text",
         "marker": {
          "color": "rgb(255,220,0)"
         },
         "mode": "lines",
         "text": [
          "x8112_x8028_x8025_x8017_ravi",
          "",
          "",
          "arun_4212_257_8173_thanks"
         ],
         "type": "scatter",
         "x": [
          0.8755663276294683,
          0.9567502305767062,
          0.9567502305767062,
          0
         ],
         "xaxis": "x",
         "y": [
          -1320,
          -1320,
          -1335,
          -1335
         ],
         "yaxis": "y"
        },
        {
         "hoverinfo": "text",
         "marker": {
          "color": "rgb(0,116,217)"
         },
         "mode": "lines",
         "text": [
          "x8112_x8028_x8025_x8017_ravi",
          "",
          "",
          "arun_4212_257_8173_thanks"
         ],
         "type": "scatter",
         "x": [
          0.9558944918955501,
          1.0702749469106438,
          1.0702749469106438,
          0.9567502305767062
         ],
         "xaxis": "x",
         "y": [
          -1288.75,
          -1288.75,
          -1327.5,
          -1327.5
         ],
         "yaxis": "y"
        },
        {
         "hoverinfo": "text",
         "marker": {
          "color": "rgb(0,116,217)"
         },
         "mode": "lines",
         "text": [
          "x8112_x8028_x8025_x8017_ravi",
          "",
          "",
          "arun_4212_257_8173_thanks"
         ],
         "type": "scatter",
         "x": [
          1.0602055851718402,
          1.164462199806947,
          1.164462199806947,
          1.0702749469106438
         ],
         "xaxis": "x",
         "y": [
          -1221.25,
          -1221.25,
          -1308.125,
          -1308.125
         ],
         "yaxis": "y"
        },
        {
         "hoverinfo": "text",
         "marker": {
          "color": "rgb(0,116,217)"
         },
         "mode": "lines",
         "text": [
          "x8112_x8028_x8025_x8017_ravi",
          "",
          "",
          "arun_4212_257_8173_thanks"
         ],
         "type": "scatter",
         "x": [
          0.6244061584935032,
          1.3126919742010918,
          1.3126919742010918,
          1.164462199806947
         ],
         "xaxis": "x",
         "y": [
          -1172.5,
          -1172.5,
          -1264.6875,
          -1264.6875
         ],
         "yaxis": "y"
        },
        {
         "hoverinfo": "text",
         "marker": {
          "color": "rgb(0,116,217)"
         },
         "mode": "lines",
         "text": [
          "x8112_x8028_x8025_x8017_ravi",
          "",
          "",
          "arun_4212_257_8173_thanks"
         ],
         "type": "scatter",
         "x": [
          1.192292523775193,
          1.3326845743684983,
          1.3326845743684983,
          1.3126919742010918
         ],
         "xaxis": "x",
         "y": [
          -1080,
          -1080,
          -1218.59375,
          -1218.59375
         ],
         "yaxis": "y"
        },
        {
         "hoverinfo": "text",
         "marker": {
          "color": "rgb(40,35,35)"
         },
         "mode": "lines",
         "text": [
          "hesitate_assistance_do_help_not",
          "",
          "",
          "hesitate_do_questions_contact_any"
         ],
         "type": "scatter",
         "x": [
          0,
          0.24659364189264044,
          0.24659364189264044,
          0
         ],
         "xaxis": "x",
         "y": [
          -1355,
          -1355,
          -1365,
          -1365
         ],
         "yaxis": "y"
        },
        {
         "hoverinfo": "text",
         "marker": {
          "color": "rgb(40,35,35)"
         },
         "mode": "lines",
         "text": [
          "process_assistance_hesitate_contact_do",
          "",
          "",
          "hesitate_do_questions_contact_any"
         ],
         "type": "scatter",
         "x": [
          0,
          0.6034334186400129,
          0.6034334186400129,
          0.24659364189264044
         ],
         "xaxis": "x",
         "y": [
          -1345,
          -1345,
          -1360,
          -1360
         ],
         "yaxis": "y"
        },
        {
         "hoverinfo": "text",
         "marker": {
          "color": "rgb(40,35,35)"
         },
         "mode": "lines",
         "text": [
          "assistance_further_contact_interim_feel",
          "",
          "",
          "help_need_if_assistance_me"
         ],
         "type": "scatter",
         "x": [
          0,
          0.54331078341907,
          0.54331078341907,
          0
         ],
         "xaxis": "x",
         "y": [
          -1375,
          -1375,
          -1385,
          -1385
         ],
         "yaxis": "y"
        },
        {
         "hoverinfo": "text",
         "marker": {
          "color": "rgb(40,35,35)"
         },
         "mode": "lines",
         "text": [
          "assistance_further_contact_interim_feel",
          "",
          "",
          "help_need_if_assistance_me"
         ],
         "type": "scatter",
         "x": [
          0.6034334186400129,
          0.8914216935744532,
          0.8914216935744532,
          0.54331078341907
         ],
         "xaxis": "x",
         "y": [
          -1352.5,
          -1352.5,
          -1380,
          -1380
         ],
         "yaxis": "y"
        },
        {
         "hoverinfo": "text",
         "marker": {
          "color": "rgb(0,116,217)"
         },
         "mode": "lines",
         "text": [
          "assistance_further_contact_interim_feel",
          "",
          "",
          "help_need_if_assistance_me"
         ],
         "type": "scatter",
         "x": [
          1.3326845743684983,
          1.4087671569163427,
          1.4087671569163427,
          0.8914216935744532
         ],
         "xaxis": "x",
         "y": [
          -1149.296875,
          -1149.296875,
          -1366.25,
          -1366.25
         ],
         "yaxis": "y"
        },
        {
         "hoverinfo": "text",
         "marker": {
          "color": "rgb(0,116,217)"
         },
         "mode": "lines",
         "text": [
          "assistance_further_contact_interim_feel",
          "",
          "",
          "help_need_if_assistance_me"
         ],
         "type": "scatter",
         "x": [
          1.0915421377562395,
          1.6516691828880268,
          1.6516691828880268,
          1.4087671569163427
         ],
         "xaxis": "x",
         "y": [
          -967.5,
          -967.5,
          -1257.7734375,
          -1257.7734375
         ],
         "yaxis": "y"
        },
        {
         "hoverinfo": "text",
         "marker": {
          "color": "rgb(61,153,112)"
         },
         "mode": "lines",
         "text": [
          "questions_any_have_if_please",
          "",
          "",
          "give_questions_any_have_if"
         ],
         "type": "scatter",
         "x": [
          0,
          0.23713604499436036,
          0.23713604499436036,
          0
         ],
         "xaxis": "x",
         "y": [
          -1415,
          -1415,
          -1425,
          -1425
         ],
         "yaxis": "y"
        },
        {
         "hoverinfo": "text",
         "marker": {
          "color": "rgb(61,153,112)"
         },
         "mode": "lines",
         "text": [
          "questions_email_any_or_mail",
          "",
          "",
          "give_questions_any_have_if"
         ],
         "type": "scatter",
         "x": [
          0,
          0.3687765712783016,
          0.3687765712783016,
          0.23713604499436036
         ],
         "xaxis": "x",
         "y": [
          -1405,
          -1405,
          -1420,
          -1420
         ],
         "yaxis": "y"
        },
        {
         "hoverinfo": "text",
         "marker": {
          "color": "rgb(61,153,112)"
         },
         "mode": "lines",
         "text": [
          "questions_email_any_or_mail",
          "",
          "",
          "questions_any_feel_9729_please"
         ],
         "type": "scatter",
         "x": [
          0.3687765712783016,
          0.44356285121855266,
          0.44356285121855266,
          0
         ],
         "xaxis": "x",
         "y": [
          -1412.5,
          -1412.5,
          -1435,
          -1435
         ],
         "yaxis": "y"
        },
        {
         "hoverinfo": "text",
         "marker": {
          "color": "rgb(61,153,112)"
         },
         "mode": "lines",
         "text": [
          "contact_questions_any_comments_please",
          "",
          "",
          "stephen_questions_contact_any_comments"
         ],
         "type": "scatter",
         "x": [
          0,
          0.25872325458003864,
          0.25872325458003864,
          0
         ],
         "xaxis": "x",
         "y": [
          -1445,
          -1445,
          -1455,
          -1455
         ],
         "yaxis": "y"
        },
        {
         "hoverinfo": "text",
         "marker": {
          "color": "rgb(61,153,112)"
         },
         "mode": "lines",
         "text": [
          "contact_questions_any_comments_please",
          "",
          "",
          "stephen_questions_contact_any_comments"
         ],
         "type": "scatter",
         "x": [
          0.44356285121855266,
          0.584744204803197,
          0.584744204803197,
          0.25872325458003864
         ],
         "xaxis": "x",
         "y": [
          -1423.75,
          -1423.75,
          -1450,
          -1450
         ],
         "yaxis": "y"
        },
        {
         "hoverinfo": "text",
         "marker": {
          "color": "rgb(61,153,112)"
         },
         "mode": "lines",
         "text": [
          "concerns_questions_any_contact_or",
          "",
          "",
          "stephen_questions_contact_any_comments"
         ],
         "type": "scatter",
         "x": [
          0,
          0.7447450892740309,
          0.7447450892740309,
          0.584744204803197
         ],
         "xaxis": "x",
         "y": [
          -1395,
          -1395,
          -1436.875,
          -1436.875
         ],
         "yaxis": "y"
        },
        {
         "hoverinfo": "text",
         "marker": {
          "color": "rgb(255,65,54)"
         },
         "mode": "lines",
         "text": [
          "feel_free_bored_anytime_me",
          "",
          "",
          "feel_free_contact_anytime_asssistance"
         ],
         "type": "scatter",
         "x": [
          0,
          0.3455315724500124,
          0.3455315724500124,
          0
         ],
         "xaxis": "x",
         "y": [
          -1465,
          -1465,
          -1475,
          -1475
         ],
         "yaxis": "y"
        },
        {
         "hoverinfo": "text",
         "marker": {
          "color": "rgb(255,65,54)"
         },
         "mode": "lines",
         "text": [
          "feel_free_contact_questions_any",
          "",
          "",
          "feel_questions_free_any_arise"
         ],
         "type": "scatter",
         "x": [
          0,
          0.19047471400362193,
          0.19047471400362193,
          0
         ],
         "xaxis": "x",
         "y": [
          -1485,
          -1485,
          -1495,
          -1495
         ],
         "yaxis": "y"
        },
        {
         "hoverinfo": "text",
         "marker": {
          "color": "rgb(255,65,54)"
         },
         "mode": "lines",
         "text": [
          "feel_free_contact_questions_any",
          "",
          "",
          "feel_questions_free_any_arise"
         ],
         "type": "scatter",
         "x": [
          0.3455315724500124,
          0.4439525466030208,
          0.4439525466030208,
          0.19047471400362193
         ],
         "xaxis": "x",
         "y": [
          -1470,
          -1470,
          -1490,
          -1490
         ],
         "yaxis": "y"
        },
        {
         "hoverinfo": "text",
         "marker": {
          "color": "rgb(255,65,54)"
         },
         "mode": "lines",
         "text": [
          "feel_free_contact_questions_any",
          "",
          "",
          "meantime_feel_information_contact_free"
         ],
         "type": "scatter",
         "x": [
          0.4439525466030208,
          0.7396179358528325,
          0.7396179358528325,
          0
         ],
         "xaxis": "x",
         "y": [
          -1480,
          -1480,
          -1505,
          -1505
         ],
         "yaxis": "y"
        },
        {
         "hoverinfo": "text",
         "marker": {
          "color": "rgb(0,116,217)"
         },
         "mode": "lines",
         "text": [
          "feel_free_contact_questions_any",
          "",
          "",
          "meantime_feel_information_contact_free"
         ],
         "type": "scatter",
         "x": [
          0.7447450892740309,
          1.2545997216513602,
          1.2545997216513602,
          0.7396179358528325
         ],
         "xaxis": "x",
         "y": [
          -1415.9375,
          -1415.9375,
          -1492.5,
          -1492.5
         ],
         "yaxis": "y"
        },
        {
         "hoverinfo": "text",
         "marker": {
          "color": "rgb(0,116,217)"
         },
         "mode": "lines",
         "text": [
          "feel_free_contact_questions_any",
          "",
          "",
          "meantime_feel_information_contact_free"
         ],
         "type": "scatter",
         "x": [
          1.6516691828880268,
          1.9232910690280602,
          1.9232910690280602,
          1.2545997216513602
         ],
         "xaxis": "x",
         "y": [
          -1112.63671875,
          -1112.63671875,
          -1454.21875,
          -1454.21875
         ],
         "yaxis": "y"
        },
        {
         "hoverinfo": "text",
         "marker": {
          "color": "rgb(0,116,217)"
         },
         "mode": "lines",
         "text": [
          "feel_free_contact_questions_any",
          "",
          "",
          "meantime_feel_information_contact_free"
         ],
         "type": "scatter",
         "x": [
          1.6762744648582821,
          2.5132194558438554,
          2.5132194558438554,
          1.9232910690280602
         ],
         "xaxis": "x",
         "y": [
          -699.642333984375,
          -699.642333984375,
          -1283.427734375,
          -1283.427734375
         ],
         "yaxis": "y"
        },
        {
         "hoverinfo": "text",
         "hovertext": [
          "demo_run_build_pocketpc_schedule",
          "jsp_method_servlet_bean_class",
          "jsp_method_servlet_bean_class",
          "palm_emulator_detail_days_app",
          "palm_emulator_detail_days_app",
          "palm_emulator_detail_days_app",
          "what_it_metaphor_waterfall_unconscious",
          "what_it_metaphor_waterfall_unconscious",
          "what_it_metaphor_waterfall_unconscious",
          "ae_aes_customer_application_needs",
          "adr_customer_transfer_support_costly",
          "adr_customer_transfer_support_costly",
          "adr_customer_transfer_support_costly",
          "000_alerts_500_300_600",
          "000_alerts_500_300_600",
          "000_alerts_500_300_600",
          "000_alerts_500_300_600",
          "emergency_an_iplace_rs88_my",
          "distance_charges_long_orange_per",
          "distance_charges_long_orange_per",
          "initiatives_critical_minute_wireless_issues",
          "initiatives_critical_minute_wireless_issues",
          "30_around_time_10_11",
          "30_around_time_10_11",
          "30_around_time_10_11",
          "ll_now_you_then_call",
          "ll_now_you_then_call",
          "location_in_jews_pkwy_give",
          "location_in_jews_pkwy_give",
          "att_localized_minn_who_vivace",
          "att_localized_minn_who_vivace",
          "venk_asked_president_works_concurrent",
          "venk_asked_president_works_concurrent",
          "venk_asked_president_works_concurrent",
          "germana_8135_register_her_bakerlawcorp",
          "germana_8135_register_her_bakerlawcorp",
          "germana_8135_register_her_bakerlawcorp",
          "germana_8135_register_her_bakerlawcorp",
          "germana_8135_register_her_bakerlawcorp",
          "office_hi_morining_epindia02_phonecall",
          "fedex_office_address_reston_location",
          "fedex_office_address_reston_location",
          "fedex_office_address_reston_location",
          "returning_sorry_hi_missed_thank",
          "dork_sorry_did_nigga_back",
          "give_chance_ll_when_you",
          "discuss_give_further_me_detail",
          "document_portal_revised_excessive_backgrounder",
          "document_portal_revised_excessive_backgrounder",
          "agreement_partnership_contact_together_972",
          "presentation_fascinating_engaging_develop_ideas",
          "presentation_fascinating_engaging_develop_ideas",
          "presentation_fascinating_engaging_develop_ideas",
          "person_415_at_408_650",
          "person_415_at_408_650",
          "email_contact_me_510_or",
          "anything_ayec_personally_if_so",
          "x8112_x8028_x8025_x8017_ravi",
          "x8112_x8028_x8025_x8017_ravi",
          "x8112_x8028_x8025_x8017_ravi",
          "x8112_x8028_x8025_x8017_ravi",
          "x8112_x8028_x8025_x8017_ravi",
          "assistance_further_contact_interim_feel",
          "assistance_further_contact_interim_feel",
          "assistance_further_contact_interim_feel",
          "questions_email_any_or_mail",
          "contact_questions_any_comments_please",
          "feel_free_contact_questions_any",
          "feel_free_contact_questions_any",
          "feel_free_contact_questions_any",
          "feel_free_contact_questions_any",
          "feel_free_contact_questions_any"
         ],
         "marker": {
          "color": "black"
         },
         "mode": "markers",
         "showlegend": false,
         "type": "scatter",
         "x": [
          0.8744531662989014,
          0.6207261065635645,
          0.767753536909346,
          0.8634398119280129,
          0.9157049965188898,
          0.9673435007841868,
          0.852359697280327,
          0.9138649403984423,
          0.9897480711695213,
          0.900936065746589,
          0.7539113040599881,
          0.9490019339084045,
          1.0330296625086968,
          0.8193419956735021,
          1.0732611662412666,
          0.9997251781677879,
          1.1617917415501688,
          0.7867411488342111,
          0.9037009042123053,
          1.2399598007822972,
          0.7892886281008712,
          1.2681999662677284,
          0.4802959483603979,
          0.7818192606080204,
          0.685657671679018,
          0.727113177874363,
          1.0054639122323046,
          0.7485089297235231,
          0.9027559853186762,
          0.9083737465563264,
          0.8859386339487275,
          0.9478926754797948,
          0.935856906304795,
          0.9779488518880585,
          0.8804344769850487,
          0.8214610917645359,
          1.0418526657747866,
          1.0236579449606173,
          0.5299527497109457,
          0.4035524693535293,
          1.2248517057684396,
          1.1412445252044856,
          1.4686050570799989,
          0.30667673847313404,
          1.602416615654331,
          0.6166405964315069,
          0.5990544123858454,
          0.6680046303212,
          0.9110694125092411,
          0.7065250405902648,
          0.8812354193504105,
          0.830771136501129,
          1.0913940268043723,
          0.6974521802962227,
          0.8499552812109048,
          0.721269771884506,
          0.8401709770476162,
          0.8755663276294683,
          0.9558944918955501,
          1.0602055851718402,
          0.6244061584935032,
          1.192292523775193,
          0.6034334186400129,
          1.3326845743684983,
          1.0915421377562395,
          0.3687765712783016,
          0.44356285121855266,
          0.3455315724500124,
          0.4439525466030208,
          0.7447450892740309,
          1.6516691828880268,
          1.6762744648582821
         ],
         "y": [
          -12.5,
          -80,
          -60,
          -160,
          -140,
          -112.5,
          -190,
          -197.5,
          -133.125,
          -230,
          -280,
          -241.25,
          -169.6875,
          -310,
          -217.03125,
          -73.75,
          -26.25,
          -350,
          -360,
          -98.69140625,
          -412.5,
          -236.845703125,
          -490,
          -497.5,
          -462.5,
          -532.5,
          -484.375,
          -622.5,
          -592.5,
          -690,
          -670,
          -782.5,
          -743.75,
          -685.625,
          -840,
          -820,
          -727.1875,
          -614.375,
          -570,
          -880,
          -633.7109375,
          -514.0625,
          -331.5478515625,
          -920,
          -483.03466796875,
          -952.5,
          -1020,
          -1050,
          -1016.25,
          -1090,
          -1132.5,
          -1100,
          -1038.125,
          -1230,
          -1202.5,
          -1270,
          -1277.5,
          -1320,
          -1288.75,
          -1221.25,
          -1172.5,
          -1080,
          -1352.5,
          -1149.296875,
          -967.5,
          -1412.5,
          -1423.75,
          -1470,
          -1480,
          -1415.9375,
          -1112.63671875,
          -699.642333984375
         ]
        },
        {
         "hoverinfo": "text",
         "hovertext": [
          "build_98480_54951_91_352",
          "demo_include_should_regarding_point",
          "code_arguments_replace_convertcase_precede",
          "fonts_resbundle_setresourcebundle_file_property",
          "java_buttons_setuibuttonsize_dialog_screen",
          "java_buttons_setuibuttonsize_dialog_screen",
          "estimates_share_stock_investors_revenue",
          "problem_support_resolved_gp_virus",
          "problem_support_resolved_gp_virus",
          "password_logon_4999_passwords_799",
          "password_logon_4999_passwords_799",
          "pricing_price_jcrew_tbd_99",
          "pricing_price_jcrew_tbd_99",
          "pricing_price_jcrew_tbd_99",
          "pricing_price_jcrew_tbd_99",
          "911_emergency_fcc_locate_location",
          "international_foreign_card_stores_calling",
          "international_foreign_card_stores_calling",
          "wireless_howard_person_applications_discuss",
          "initiatives_northeast_critical_20_minute",
          "initiatives_northeast_critical_20_minute",
          "conference_set_we_up_schedule",
          "concall_concalls_set_up_abiola",
          "monday_weekend_week_ll_will",
          "follow_up_days_will_warranted",
          "she_server_browser_got_failure",
          "him_he_person_his_called",
          "location_called_police_in_from",
          "location_called_police_in_from",
          "biogen_lab_prakash_regarding_conference",
          "biogen_lab_prakash_regarding_conference",
          "biogen_lab_prakash_regarding_conference",
          "booty_appreciate_make_initiate_ll",
          "booty_appreciate_make_initiate_ll",
          "number_should_what_know_let",
          "ge_delivery_medical_beta_go",
          "ge_delivery_medical_beta_go",
          "hotel_marriott_room_reservations_rooms",
          "hotel_marriott_room_reservations_rooms",
          "hotel_marriott_room_reservations_rooms",
          "hotel_marriott_room_reservations_rooms",
          "danbaca_6114_394_yahoo_reach",
          "danbaca_6114_394_yahoo_reach",
          "danbaca_6114_394_yahoo_reach",
          "danbaca_6114_394_yahoo_reach",
          "missed_sorry_missing_apologize_apologies",
          "missed_sorry_missing_apologize_apologies",
          "come_when_give_vinh_981",
          "hi_chance_when_whenever_hello",
          "hi_chance_when_whenever_hello",
          "convenience_earliest_convience_your_holly",
          "clarification_clarifications_further_98480_need",
          "clarification_clarifications_further_98480_need",
          "services_about_organization_company_additional",
          "technology_happy_appointment_our_webtrends",
          "technical_support_pcpinpoint_pinpoint_9697",
          "technical_support_pcpinpoint_pinpoint_9697",
          "problems_contact_issues_any_please",
          "lobby_cell_am_pdt_206",
          "avocadoit_562_408_inc_location",
          "avocadoit_562_408_inc_location",
          "anything_else_need_contact_joel",
          "arun_4212_257_8173_thanks",
          "arun_4212_257_8173_thanks",
          "arun_4212_257_8173_thanks",
          "arun_4212_257_8173_thanks",
          "hesitate_do_questions_contact_any",
          "help_need_if_assistance_me",
          "help_need_if_assistance_me",
          "help_need_if_assistance_me",
          "give_questions_any_have_if",
          "stephen_questions_contact_any_comments",
          "stephen_questions_contact_any_comments",
          "feel_questions_free_any_arise",
          "meantime_feel_information_contact_free",
          "meantime_feel_information_contact_free",
          "meantime_feel_information_contact_free"
         ],
         "marker": {
          "color": "black"
         },
         "mode": "markers",
         "showlegend": false,
         "type": "scatter",
         "x": [
          0.7653701060321599,
          0.39493796585487506,
          0.8059195819007643,
          0.9170803015746806,
          0.9293015283930093,
          0.9818829390168089,
          0.9446500683601712,
          0.8242526231347427,
          0.8687051012304086,
          0.9325984143993383,
          0.9999468121414047,
          0.9191445933209348,
          0.9962457595713283,
          1.1089537145273092,
          1.1600222740789337,
          0.7288637893791634,
          0.8717388227831044,
          1.0205409111973223,
          0.5261379293304135,
          0.2578966497842925,
          1.1009794465857634,
          0.1714296305891555,
          0.9433842248839438,
          0.6899958889764224,
          0.854999673492629,
          0.7455606816319327,
          0.38765304581831084,
          0.5154480759606641,
          0.8127748303756679,
          0.8488031996552206,
          0.9247242904646223,
          0.9697908317722371,
          0.8434104802499276,
          0.8967144343994886,
          0.8329445780583603,
          0.9628727478792628,
          0.9769097837086667,
          0.9218261829519739,
          0.9852022591094166,
          1.0843673292313318,
          1.0959104821008205,
          0.8941569434218349,
          0.9188068048199656,
          1.254752188730922,
          1.3422416555979604,
          0.4705890499905302,
          0.8856281446538058,
          0.5589722731950836,
          0.45185326710136886,
          0.5226789299986104,
          0.8760837440395964,
          0.8650588782773898,
          0.9853830360924876,
          0.7037346484639515,
          0.7784246900637016,
          0.929911122895293,
          0.9903702151944073,
          0.2851081409851691,
          0.5969711103752348,
          0.617054292247177,
          0.8015482555948085,
          0.47843878164208586,
          0.9567502305767062,
          1.0702749469106438,
          1.164462199806947,
          1.3126919742010918,
          0.24659364189264044,
          0.54331078341907,
          0.8914216935744532,
          1.4087671569163427,
          0.23713604499436036,
          0.25872325458003864,
          0.584744204803197,
          0.19047471400362193,
          0.7396179358528325,
          1.2545997216513602,
          1.9232910690280602
         ],
         "y": [
          -20,
          -40,
          -87.5,
          -120,
          -167.5,
          -153.75,
          -206.25,
          -260,
          -252.5,
          -287.5,
          -264.375,
          -330,
          -320,
          -268.515625,
          -171.1328125,
          -370,
          -390,
          -375,
          -420,
          -440,
          -426.25,
          -470,
          -506.25,
          -540,
          -543.75,
          -600,
          -630,
          -650,
          -636.25,
          -720,
          -712.5,
          -701.25,
          -760,
          -752.5,
          -790,
          -793.75,
          -768.75,
          -847.5,
          -833.75,
          -780.46875,
          -697.421875,
          -887.5,
          -876.25,
          -754.98046875,
          -634.521484375,
          -927.5,
          -916.25,
          -960,
          -990,
          -982.5,
          -1027.5,
          -1070,
          -1060,
          -1110,
          -1140,
          -1143.75,
          -1121.875,
          -1180,
          -1210,
          -1250,
          -1240,
          -1300,
          -1327.5,
          -1308.125,
          -1264.6875,
          -1218.59375,
          -1360,
          -1380,
          -1366.25,
          -1257.7734375,
          -1420,
          -1450,
          -1436.875,
          -1490,
          -1492.5,
          -1454.21875,
          -1283.427734375
         ]
        }
       ],
       "layout": {
        "autosize": false,
        "height": 2465,
        "hoverlabel": {
         "bgcolor": "white",
         "font": {
          "family": "Rockwell",
          "size": 16
         }
        },
        "hovermode": "closest",
        "plot_bgcolor": "#ECEFF1",
        "showlegend": false,
        "template": {
         "data": {
          "bar": [
           {
            "error_x": {
             "color": "#2a3f5f"
            },
            "error_y": {
             "color": "#2a3f5f"
            },
            "marker": {
             "line": {
              "color": "white",
              "width": 0.5
             },
             "pattern": {
              "fillmode": "overlay",
              "size": 10,
              "solidity": 0.2
             }
            },
            "type": "bar"
           }
          ],
          "barpolar": [
           {
            "marker": {
             "line": {
              "color": "white",
              "width": 0.5
             },
             "pattern": {
              "fillmode": "overlay",
              "size": 10,
              "solidity": 0.2
             }
            },
            "type": "barpolar"
           }
          ],
          "carpet": [
           {
            "aaxis": {
             "endlinecolor": "#2a3f5f",
             "gridcolor": "#C8D4E3",
             "linecolor": "#C8D4E3",
             "minorgridcolor": "#C8D4E3",
             "startlinecolor": "#2a3f5f"
            },
            "baxis": {
             "endlinecolor": "#2a3f5f",
             "gridcolor": "#C8D4E3",
             "linecolor": "#C8D4E3",
             "minorgridcolor": "#C8D4E3",
             "startlinecolor": "#2a3f5f"
            },
            "type": "carpet"
           }
          ],
          "choropleth": [
           {
            "colorbar": {
             "outlinewidth": 0,
             "ticks": ""
            },
            "type": "choropleth"
           }
          ],
          "contour": [
           {
            "colorbar": {
             "outlinewidth": 0,
             "ticks": ""
            },
            "colorscale": [
             [
              0,
              "#0d0887"
             ],
             [
              0.1111111111111111,
              "#46039f"
             ],
             [
              0.2222222222222222,
              "#7201a8"
             ],
             [
              0.3333333333333333,
              "#9c179e"
             ],
             [
              0.4444444444444444,
              "#bd3786"
             ],
             [
              0.5555555555555556,
              "#d8576b"
             ],
             [
              0.6666666666666666,
              "#ed7953"
             ],
             [
              0.7777777777777778,
              "#fb9f3a"
             ],
             [
              0.8888888888888888,
              "#fdca26"
             ],
             [
              1,
              "#f0f921"
             ]
            ],
            "type": "contour"
           }
          ],
          "contourcarpet": [
           {
            "colorbar": {
             "outlinewidth": 0,
             "ticks": ""
            },
            "type": "contourcarpet"
           }
          ],
          "heatmap": [
           {
            "colorbar": {
             "outlinewidth": 0,
             "ticks": ""
            },
            "colorscale": [
             [
              0,
              "#0d0887"
             ],
             [
              0.1111111111111111,
              "#46039f"
             ],
             [
              0.2222222222222222,
              "#7201a8"
             ],
             [
              0.3333333333333333,
              "#9c179e"
             ],
             [
              0.4444444444444444,
              "#bd3786"
             ],
             [
              0.5555555555555556,
              "#d8576b"
             ],
             [
              0.6666666666666666,
              "#ed7953"
             ],
             [
              0.7777777777777778,
              "#fb9f3a"
             ],
             [
              0.8888888888888888,
              "#fdca26"
             ],
             [
              1,
              "#f0f921"
             ]
            ],
            "type": "heatmap"
           }
          ],
          "heatmapgl": [
           {
            "colorbar": {
             "outlinewidth": 0,
             "ticks": ""
            },
            "colorscale": [
             [
              0,
              "#0d0887"
             ],
             [
              0.1111111111111111,
              "#46039f"
             ],
             [
              0.2222222222222222,
              "#7201a8"
             ],
             [
              0.3333333333333333,
              "#9c179e"
             ],
             [
              0.4444444444444444,
              "#bd3786"
             ],
             [
              0.5555555555555556,
              "#d8576b"
             ],
             [
              0.6666666666666666,
              "#ed7953"
             ],
             [
              0.7777777777777778,
              "#fb9f3a"
             ],
             [
              0.8888888888888888,
              "#fdca26"
             ],
             [
              1,
              "#f0f921"
             ]
            ],
            "type": "heatmapgl"
           }
          ],
          "histogram": [
           {
            "marker": {
             "pattern": {
              "fillmode": "overlay",
              "size": 10,
              "solidity": 0.2
             }
            },
            "type": "histogram"
           }
          ],
          "histogram2d": [
           {
            "colorbar": {
             "outlinewidth": 0,
             "ticks": ""
            },
            "colorscale": [
             [
              0,
              "#0d0887"
             ],
             [
              0.1111111111111111,
              "#46039f"
             ],
             [
              0.2222222222222222,
              "#7201a8"
             ],
             [
              0.3333333333333333,
              "#9c179e"
             ],
             [
              0.4444444444444444,
              "#bd3786"
             ],
             [
              0.5555555555555556,
              "#d8576b"
             ],
             [
              0.6666666666666666,
              "#ed7953"
             ],
             [
              0.7777777777777778,
              "#fb9f3a"
             ],
             [
              0.8888888888888888,
              "#fdca26"
             ],
             [
              1,
              "#f0f921"
             ]
            ],
            "type": "histogram2d"
           }
          ],
          "histogram2dcontour": [
           {
            "colorbar": {
             "outlinewidth": 0,
             "ticks": ""
            },
            "colorscale": [
             [
              0,
              "#0d0887"
             ],
             [
              0.1111111111111111,
              "#46039f"
             ],
             [
              0.2222222222222222,
              "#7201a8"
             ],
             [
              0.3333333333333333,
              "#9c179e"
             ],
             [
              0.4444444444444444,
              "#bd3786"
             ],
             [
              0.5555555555555556,
              "#d8576b"
             ],
             [
              0.6666666666666666,
              "#ed7953"
             ],
             [
              0.7777777777777778,
              "#fb9f3a"
             ],
             [
              0.8888888888888888,
              "#fdca26"
             ],
             [
              1,
              "#f0f921"
             ]
            ],
            "type": "histogram2dcontour"
           }
          ],
          "mesh3d": [
           {
            "colorbar": {
             "outlinewidth": 0,
             "ticks": ""
            },
            "type": "mesh3d"
           }
          ],
          "parcoords": [
           {
            "line": {
             "colorbar": {
              "outlinewidth": 0,
              "ticks": ""
             }
            },
            "type": "parcoords"
           }
          ],
          "pie": [
           {
            "automargin": true,
            "type": "pie"
           }
          ],
          "scatter": [
           {
            "fillpattern": {
             "fillmode": "overlay",
             "size": 10,
             "solidity": 0.2
            },
            "type": "scatter"
           }
          ],
          "scatter3d": [
           {
            "line": {
             "colorbar": {
              "outlinewidth": 0,
              "ticks": ""
             }
            },
            "marker": {
             "colorbar": {
              "outlinewidth": 0,
              "ticks": ""
             }
            },
            "type": "scatter3d"
           }
          ],
          "scattercarpet": [
           {
            "marker": {
             "colorbar": {
              "outlinewidth": 0,
              "ticks": ""
             }
            },
            "type": "scattercarpet"
           }
          ],
          "scattergeo": [
           {
            "marker": {
             "colorbar": {
              "outlinewidth": 0,
              "ticks": ""
             }
            },
            "type": "scattergeo"
           }
          ],
          "scattergl": [
           {
            "marker": {
             "colorbar": {
              "outlinewidth": 0,
              "ticks": ""
             }
            },
            "type": "scattergl"
           }
          ],
          "scattermapbox": [
           {
            "marker": {
             "colorbar": {
              "outlinewidth": 0,
              "ticks": ""
             }
            },
            "type": "scattermapbox"
           }
          ],
          "scatterpolar": [
           {
            "marker": {
             "colorbar": {
              "outlinewidth": 0,
              "ticks": ""
             }
            },
            "type": "scatterpolar"
           }
          ],
          "scatterpolargl": [
           {
            "marker": {
             "colorbar": {
              "outlinewidth": 0,
              "ticks": ""
             }
            },
            "type": "scatterpolargl"
           }
          ],
          "scatterternary": [
           {
            "marker": {
             "colorbar": {
              "outlinewidth": 0,
              "ticks": ""
             }
            },
            "type": "scatterternary"
           }
          ],
          "surface": [
           {
            "colorbar": {
             "outlinewidth": 0,
             "ticks": ""
            },
            "colorscale": [
             [
              0,
              "#0d0887"
             ],
             [
              0.1111111111111111,
              "#46039f"
             ],
             [
              0.2222222222222222,
              "#7201a8"
             ],
             [
              0.3333333333333333,
              "#9c179e"
             ],
             [
              0.4444444444444444,
              "#bd3786"
             ],
             [
              0.5555555555555556,
              "#d8576b"
             ],
             [
              0.6666666666666666,
              "#ed7953"
             ],
             [
              0.7777777777777778,
              "#fb9f3a"
             ],
             [
              0.8888888888888888,
              "#fdca26"
             ],
             [
              1,
              "#f0f921"
             ]
            ],
            "type": "surface"
           }
          ],
          "table": [
           {
            "cells": {
             "fill": {
              "color": "#EBF0F8"
             },
             "line": {
              "color": "white"
             }
            },
            "header": {
             "fill": {
              "color": "#C8D4E3"
             },
             "line": {
              "color": "white"
             }
            },
            "type": "table"
           }
          ]
         },
         "layout": {
          "annotationdefaults": {
           "arrowcolor": "#2a3f5f",
           "arrowhead": 0,
           "arrowwidth": 1
          },
          "autotypenumbers": "strict",
          "coloraxis": {
           "colorbar": {
            "outlinewidth": 0,
            "ticks": ""
           }
          },
          "colorscale": {
           "diverging": [
            [
             0,
             "#8e0152"
            ],
            [
             0.1,
             "#c51b7d"
            ],
            [
             0.2,
             "#de77ae"
            ],
            [
             0.3,
             "#f1b6da"
            ],
            [
             0.4,
             "#fde0ef"
            ],
            [
             0.5,
             "#f7f7f7"
            ],
            [
             0.6,
             "#e6f5d0"
            ],
            [
             0.7,
             "#b8e186"
            ],
            [
             0.8,
             "#7fbc41"
            ],
            [
             0.9,
             "#4d9221"
            ],
            [
             1,
             "#276419"
            ]
           ],
           "sequential": [
            [
             0,
             "#0d0887"
            ],
            [
             0.1111111111111111,
             "#46039f"
            ],
            [
             0.2222222222222222,
             "#7201a8"
            ],
            [
             0.3333333333333333,
             "#9c179e"
            ],
            [
             0.4444444444444444,
             "#bd3786"
            ],
            [
             0.5555555555555556,
             "#d8576b"
            ],
            [
             0.6666666666666666,
             "#ed7953"
            ],
            [
             0.7777777777777778,
             "#fb9f3a"
            ],
            [
             0.8888888888888888,
             "#fdca26"
            ],
            [
             1,
             "#f0f921"
            ]
           ],
           "sequentialminus": [
            [
             0,
             "#0d0887"
            ],
            [
             0.1111111111111111,
             "#46039f"
            ],
            [
             0.2222222222222222,
             "#7201a8"
            ],
            [
             0.3333333333333333,
             "#9c179e"
            ],
            [
             0.4444444444444444,
             "#bd3786"
            ],
            [
             0.5555555555555556,
             "#d8576b"
            ],
            [
             0.6666666666666666,
             "#ed7953"
            ],
            [
             0.7777777777777778,
             "#fb9f3a"
            ],
            [
             0.8888888888888888,
             "#fdca26"
            ],
            [
             1,
             "#f0f921"
            ]
           ]
          },
          "colorway": [
           "#636efa",
           "#EF553B",
           "#00cc96",
           "#ab63fa",
           "#FFA15A",
           "#19d3f3",
           "#FF6692",
           "#B6E880",
           "#FF97FF",
           "#FECB52"
          ],
          "font": {
           "color": "#2a3f5f"
          },
          "geo": {
           "bgcolor": "white",
           "lakecolor": "white",
           "landcolor": "white",
           "showlakes": true,
           "showland": true,
           "subunitcolor": "#C8D4E3"
          },
          "hoverlabel": {
           "align": "left"
          },
          "hovermode": "closest",
          "mapbox": {
           "style": "light"
          },
          "paper_bgcolor": "white",
          "plot_bgcolor": "white",
          "polar": {
           "angularaxis": {
            "gridcolor": "#EBF0F8",
            "linecolor": "#EBF0F8",
            "ticks": ""
           },
           "bgcolor": "white",
           "radialaxis": {
            "gridcolor": "#EBF0F8",
            "linecolor": "#EBF0F8",
            "ticks": ""
           }
          },
          "scene": {
           "xaxis": {
            "backgroundcolor": "white",
            "gridcolor": "#DFE8F3",
            "gridwidth": 2,
            "linecolor": "#EBF0F8",
            "showbackground": true,
            "ticks": "",
            "zerolinecolor": "#EBF0F8"
           },
           "yaxis": {
            "backgroundcolor": "white",
            "gridcolor": "#DFE8F3",
            "gridwidth": 2,
            "linecolor": "#EBF0F8",
            "showbackground": true,
            "ticks": "",
            "zerolinecolor": "#EBF0F8"
           },
           "zaxis": {
            "backgroundcolor": "white",
            "gridcolor": "#DFE8F3",
            "gridwidth": 2,
            "linecolor": "#EBF0F8",
            "showbackground": true,
            "ticks": "",
            "zerolinecolor": "#EBF0F8"
           }
          },
          "shapedefaults": {
           "line": {
            "color": "#2a3f5f"
           }
          },
          "ternary": {
           "aaxis": {
            "gridcolor": "#DFE8F3",
            "linecolor": "#A2B1C6",
            "ticks": ""
           },
           "baxis": {
            "gridcolor": "#DFE8F3",
            "linecolor": "#A2B1C6",
            "ticks": ""
           },
           "bgcolor": "white",
           "caxis": {
            "gridcolor": "#DFE8F3",
            "linecolor": "#A2B1C6",
            "ticks": ""
           }
          },
          "title": {
           "x": 0.05
          },
          "xaxis": {
           "automargin": true,
           "gridcolor": "#EBF0F8",
           "linecolor": "#EBF0F8",
           "ticks": "",
           "title": {
            "standoff": 15
           },
           "zerolinecolor": "#EBF0F8",
           "zerolinewidth": 2
          },
          "yaxis": {
           "automargin": true,
           "gridcolor": "#EBF0F8",
           "linecolor": "#EBF0F8",
           "ticks": "",
           "title": {
            "standoff": 15
           },
           "zerolinecolor": "#EBF0F8",
           "zerolinewidth": 2
          }
         }
        },
        "title": {
         "font": {
          "color": "Black",
          "size": 22
         },
         "text": "<b>Hierarchical Clustering</b>",
         "x": 0.5,
         "xanchor": "center",
         "yanchor": "top"
        },
        "width": 1000,
        "xaxis": {
         "mirror": "allticks",
         "rangemode": "tozero",
         "showgrid": false,
         "showline": true,
         "showticklabels": true,
         "ticks": "outside",
         "type": "linear",
         "zeroline": false
        },
        "yaxis": {
         "mirror": "allticks",
         "range": [
          -1510,
          0
         ],
         "rangemode": "tozero",
         "showgrid": false,
         "showline": true,
         "showticklabels": true,
         "tickmode": "array",
         "ticks": "outside",
         "ticktext": [
          "109_roopak_wilhan_build",
          "71_ant_build_script",
          "140_build_98480_54951",
          "89_demo_run_build",
          "75_demo_include_should",
          "137_testing_plan_test",
          "36_tests_test_unit",
          "6_jsp_servlet_bean",
          "11_method_object_class",
          "133_code_arguments_replace",
          "144_cpu_faults_elapsed",
          "96_xml_xsl_w3",
          "148_fonts_resbundle_setreso...",
          "132_ibm_audium_websphere",
          "93_microsoft_oracle_against",
          "43_palm_emulator_detail",
          "30_new_add_account",
          "110_java_buttons_setuibutto...",
          "47_what_it_metaphor",
          "78_agile_prototype_program",
          "52_xp_windows_process",
          "129_estimates_share_stock",
          "101_version_release_latest",
          "72_idc_servers_working",
          "124_ae_aes_customer",
          "74_application_appid_start_...",
          "60_problem_support_resolved",
          "61_adr_customer_transfer",
          "81_customer_service_7080",
          "120_password_logon_4999",
          "85_recall_examined_body",
          "42_sony_handsets_docomo",
          "112_000_alerts_500",
          "116_pricing_price_jcrew",
          "87_callers_000_40",
          "146_handle_callers_emergency",
          "82_emergency_an_iplace",
          "64_911_emergency_fcc",
          "53_distance_charges_long",
          "145_international_foreign_c...",
          "86_wireless_internet_audio",
          "29_wireless_feel_contact",
          "54_wireless_howard_person",
          "58_initiatives_critical_min...",
          "95_initiatives_northeast_cr...",
          "138_conference_location_team",
          "4_conference_set_we",
          "9_conference_person_with",
          "21_30_around_time",
          "10_pst_am_30",
          "19_con_conf_next",
          "104_concall_concalls_set",
          "17_ll_now_you",
          "20_later_tomorrow_today",
          "34_monday_weekend_week",
          "111_follow_up_days",
          "108_training_trainer_instru...",
          "128_training_location_merid...",
          "97_interview_hiring_lloyd",
          "5_her_she_said",
          "100_she_server_browser",
          "22_them_they_will",
          "0_person_call_called",
          "2_him_he_his",
          "13_location_in_jews",
          "32_location_called_police",
          "131_reps_rep_ones",
          "45_sun_contacts_iforce",
          "65_sprint_pcs_phone",
          "62_trade_occ_called",
          "150_att_localized_minn",
          "18_accenture_person_from",
          "90_biogen_lab_prakash",
          "56_srik_srinivas_srinath",
          "67_lunch_dinner_food",
          "79_final_who_going",
          "57_booty_appreciate_make",
          "35_venk_asked_president",
          "141_schedule_monday_looks",
          "38_number_should_what",
          "119_ge_delivery_medical",
          "122_vm_vmail_left",
          "83_tried_but_times",
          "106_germana_8135_register",
          "66_fax_machine_7304",
          "27_hotel_marriott_room",
          "84_fedex_office_address",
          "117_office_hi_morining",
          "15_office_desk_my",
          "127_danbaca_6114_394",
          "44_dork_sorry_did",
          "63_returning_sorry_hi",
          "98_sorry_returning_missed",
          "88_missed_sorry_missing",
          "73_when_minute_time",
          "121_when_get_come",
          "142_come_when_give",
          "16_give_chance_ll",
          "125_chance_when_get",
          "76_hi_chance_when",
          "130_proposal_thoughts_incen...",
          "8_discuss_give_further",
          "143_discuss_3384_075830",
          "135_convenience_earliest_co...",
          "113_changes_changed_made",
          "50_review_changes_chance",
          "149_document_portal_revised",
          "102_clarification_clarifica...",
          "77_interested_contact_email",
          "92_information_contact_deta...",
          "37_agreement_partnership_co...",
          "91_services_about_organizat...",
          "123_presentation_fascinatin...",
          "24_meeting_meetings_will",
          "136_technology_happy_appoin...",
          "115_technical_support_pcpin...",
          "80_problems_4088294796_3997",
          "46_problems_issues_problem",
          "41_problems_contact_issues",
          "49_urgent_my_cell",
          "3_cell_my_on",
          "107_lobby_cell_am",
          "26_650_408_at",
          "31_give_4159909729_415",
          "7_person_415_at",
          "1_avocadoit_562_408",
          "55_email_contact_me",
          "39_need_8530_857",
          "134_amis_need_needed",
          "69_anything_ayec_personally",
          "147_anything_else_need",
          "126_x8112_x8028_x8025",
          "118_paalammmmmmmmm_coz_anyt...",
          "99_arun_4212_257",
          "68_process_assistance_hesit...",
          "70_hesitate_assistance_do",
          "14_hesitate_do_questions",
          "48_assistance_further_contact",
          "114_help_need_if",
          "33_concerns_questions_any",
          "94_questions_email_any",
          "23_questions_any_have",
          "28_give_questions_any",
          "12_questions_any_feel",
          "51_contact_questions_any",
          "139_stephen_questions_contact",
          "59_feel_free_bored",
          "103_feel_free_contact",
          "25_feel_free_contact",
          "40_feel_questions_free",
          "105_meantime_feel_information"
         ],
         "tickvals": [
          -5,
          -15,
          -25,
          -35,
          -45,
          -55,
          -65,
          -75,
          -85,
          -95,
          -105,
          -115,
          -125,
          -135,
          -145,
          -155,
          -165,
          -175,
          -185,
          -195,
          -205,
          -215,
          -225,
          -235,
          -245,
          -255,
          -265,
          -275,
          -285,
          -295,
          -305,
          -315,
          -325,
          -335,
          -345,
          -355,
          -365,
          -375,
          -385,
          -395,
          -405,
          -415,
          -425,
          -435,
          -445,
          -455,
          -465,
          -475,
          -485,
          -495,
          -505,
          -515,
          -525,
          -535,
          -545,
          -555,
          -565,
          -575,
          -585,
          -595,
          -605,
          -615,
          -625,
          -635,
          -645,
          -655,
          -665,
          -675,
          -685,
          -695,
          -705,
          -715,
          -725,
          -735,
          -745,
          -755,
          -765,
          -775,
          -785,
          -795,
          -805,
          -815,
          -825,
          -835,
          -845,
          -855,
          -865,
          -875,
          -885,
          -895,
          -905,
          -915,
          -925,
          -935,
          -945,
          -955,
          -965,
          -975,
          -985,
          -995,
          -1005,
          -1015,
          -1025,
          -1035,
          -1045,
          -1055,
          -1065,
          -1075,
          -1085,
          -1095,
          -1105,
          -1115,
          -1125,
          -1135,
          -1145,
          -1155,
          -1165,
          -1175,
          -1185,
          -1195,
          -1205,
          -1215,
          -1225,
          -1235,
          -1245,
          -1255,
          -1265,
          -1275,
          -1285,
          -1295,
          -1305,
          -1315,
          -1325,
          -1335,
          -1345,
          -1355,
          -1365,
          -1375,
          -1385,
          -1395,
          -1405,
          -1415,
          -1425,
          -1435,
          -1445,
          -1455,
          -1465,
          -1475,
          -1485,
          -1495,
          -1505
         ],
         "type": "linear",
         "zeroline": false
        }
       }
      }
     },
     "metadata": {},
     "output_type": "display_data"
    }
   ],
   "source": [
    "topic_model.visualize_hierarchy(hierarchical_topics=hierarchical_topics)"
   ]
  },
  {
   "cell_type": "markdown",
   "metadata": {},
   "source": [
    "## Merging Topics"
   ]
  },
  {
   "cell_type": "code",
   "execution_count": 1134,
   "metadata": {},
   "outputs": [
    {
     "name": "stdout",
     "output_type": "stream",
     "text": [
      "-----------\n",
      "Topic: 16\n",
      "\n",
      "Top Words:\n",
      "vm, left, vmail, leave, tried, you, me, 344, and, unable, \n",
      "\n",
      "Representative Target Sentences: \n",
      "I left you a VM , please feel free to call me later this afternoon .\n",
      "He called me with some info to pass onto you regarding your urgent vm to him and his discussions with Broadbeam , since he was unable to get through to you or leave you a message ( apparently , vm is not working this a.m. )   Please give me a call and I 'll fill you in .\n",
      "Left you a VM -- can you call me ?\n"
     ]
    }
   ],
   "source": [
    "topic_id = 16\n",
    "inspect_topic(topic_id)"
   ]
  },
  {
   "cell_type": "code",
   "execution_count": 1120,
   "metadata": {},
   "outputs": [
    {
     "data": {
      "text/plain": [
       "['-1_person_to_the_call',\n",
       " '0_contact_me_in_case_of_questions',\n",
       " '1_call_me_on_cell_phone',\n",
       " '2_set_up_conference_call',\n",
       " '3_promise_call',\n",
       " '4_jsp_code',\n",
       " '5_request_call',\n",
       " '6_call_method_code',\n",
       " '7_call_at_office',\n",
       " '8_have_conference_call',\n",
       " '9_call_with_meeting_as_context',\n",
       " '10_apologies_for_missing_call',\n",
       " '11_call_because_of_changes',\n",
       " '12_ask_for_number',\n",
       " '13_call_if_urgent',\n",
       " '14_call_about_lunch',\n",
       " '15_call_java_code',\n",
       " '16_left_voicemail',\n",
       " '17_vm_left_vmail_leave',\n",
       " '18_proposal_will_you_thoughts',\n",
       " '19_code_location_it_arguments']"
      ]
     },
     "execution_count": 1120,
     "metadata": {},
     "output_type": "execute_result"
    }
   ],
   "source": [
    "topic_model.custom_labels_"
   ]
  },
  {
   "cell_type": "code",
   "execution_count": 1113,
   "metadata": {},
   "outputs": [],
   "source": [
    "topic_model.merge_topics(docs, [-1,topic_id])"
   ]
  },
  {
   "cell_type": "code",
   "execution_count": null,
   "metadata": {},
   "outputs": [],
   "source": [
    "create_custom_label(\"call_\", topic_id=topic_id)"
   ]
  },
  {
   "cell_type": "code",
   "execution_count": 1151,
   "metadata": {},
   "outputs": [
    {
     "name": "stdout",
     "output_type": "stream",
     "text": [
      "Number of Documents: 15\n",
      "\n",
      "[PERSON] ,    I tried calling your number ( x-7965 ) and I was unable to leave a VM .\n",
      "Hi [PERSON] :    Received your vmail yesterday ... have tried calling you unsuccessfully ( your mailbox was full ) .\n",
      "He left me a vm this morning ( 7:35am ) and I am calling him back right now ( I   forgot once I checked the message ... )\n",
      "Please mark it up and fax it back to me at 650 344 - 9607 , or leave vm comments at x8069 , or call me at home , 650 344 - 9157 .\n",
      "If by chance you are still up call me at 1 617 568 6700 room 721 or my mobile 1 408 205 9958 and we can dicuss your vmail you left , otherwise I will call you first thing Friday am [LOCATION] time .\n",
      "He called me with some info to pass onto you regarding your urgent vm to him and his discussions with Broadbeam , since he was unable to get through to you or leave you a message ( apparently , vm is not working this a.m. )   Please give me a call and I 'll fill you in .\n",
      "V will be calling periumma today .\n",
      "Left you a VM -- can you call me ?\n",
      "I tried to call JM this morning but got his VM .\n",
      "During this period , if you need to reach me , you can either leave me a vm or call me on my cell at 408.891.8169 .\n",
      "Hi [PERSON] ,    Left you a vm as well ...    I 'd like to set up a call between you and one of our Engineers to go over a few things .\n",
      "I left you a VM , please feel free to call me later this afternoon .\n",
      "PLS call me when u get the kvm on the box and reboot it .\n",
      "I just tried to call you and left a v - mail .\n",
      "I 'll check vmail & email from home and will call you later .\n"
     ]
    },
    {
     "data": {
      "text/plain": [
       "['[PERSON] ,    I tried calling your number ( x-7965 ) and I was unable to leave a VM .',\n",
       " 'Hi [PERSON] :    Received your vmail yesterday ... have tried calling you unsuccessfully ( your mailbox was full ) .',\n",
       " 'He left me a vm this morning ( 7:35am ) and I am calling him back right now ( I   forgot once I checked the message ... )',\n",
       " 'Please mark it up and fax it back to me at 650 344 - 9607 , or leave vm comments at x8069 , or call me at home , 650 344 - 9157 .',\n",
       " 'If by chance you are still up call me at 1 617 568 6700 room 721 or my mobile 1 408 205 9958 and we can dicuss your vmail you left , otherwise I will call you first thing Friday am [LOCATION] time .',\n",
       " \"He called me with some info to pass onto you regarding your urgent vm to him and his discussions with Broadbeam , since he was unable to get through to you or leave you a message ( apparently , vm is not working this a.m. )   Please give me a call and I 'll fill you in .\",\n",
       " 'V will be calling periumma today .',\n",
       " 'Left you a VM -- can you call me ?',\n",
       " 'I tried to call JM this morning but got his VM .',\n",
       " 'During this period , if you need to reach me , you can either leave me a vm or call me on my cell at 408.891.8169 .',\n",
       " \"Hi [PERSON] ,    Left you a vm as well ...    I 'd like to set up a call between you and one of our Engineers to go over a few things .\",\n",
       " 'I left you a VM , please feel free to call me later this afternoon .',\n",
       " 'PLS call me when u get the kvm on the box and reboot it .',\n",
       " 'I just tried to call you and left a v - mail .',\n",
       " \"I 'll check vmail & email from home and will call you later .\"]"
      ]
     },
     "execution_count": 1151,
     "metadata": {},
     "output_type": "execute_result"
    }
   ],
   "source": [
    "inspect_topic_docs(topic_id,n_docs=20)"
   ]
  },
  {
   "cell_type": "code",
   "execution_count": 942,
   "metadata": {},
   "outputs": [
    {
     "data": {
      "text/plain": [
       "35"
      ]
     },
     "execution_count": 942,
     "metadata": {},
     "output_type": "execute_result"
    }
   ],
   "source": [
    "len(topic_model.get_topics())"
   ]
  },
  {
   "cell_type": "code",
   "execution_count": 485,
   "metadata": {},
   "outputs": [
    {
     "name": "stderr",
     "output_type": "stream",
     "text": [
      "2024-11-06 15:37:29,646 - BERTopic - WARNING: When you use `pickle` to save/load a BERTopic model,please make sure that the environments in which you saveand load the model are **exactly** the same. The version of BERTopic,its dependencies, and python need to remain the same.\n"
     ]
    }
   ],
   "source": [
    "topic_model.save(\"../../../data/bertopic_models/intents/02_call/call_processed\")"
   ]
  },
  {
   "cell_type": "code",
   "execution_count": 1119,
   "metadata": {},
   "outputs": [
    {
     "data": {
      "application/vnd.plotly.v1+json": {
       "config": {
        "plotlyServerURL": "https://plot.ly"
       },
       "data": [
        {
         "hoverinfo": "text",
         "marker": {
          "color": "rgb(61,153,112)"
         },
         "mode": "lines",
         "type": "scatter",
         "x": [
          0,
          0.47082241287647475,
          0.47082241287647475,
          0
         ],
         "xaxis": "x",
         "y": [
          -15,
          -15,
          -25,
          -25
         ],
         "yaxis": "y"
        },
        {
         "hoverinfo": "text",
         "marker": {
          "color": "rgb(61,153,112)"
         },
         "mode": "lines",
         "type": "scatter",
         "x": [
          0,
          0.8078497238455319,
          0.8078497238455319,
          0.47082241287647475
         ],
         "xaxis": "x",
         "y": [
          -5,
          -5,
          -20,
          -20
         ],
         "yaxis": "y"
        },
        {
         "hoverinfo": "text",
         "marker": {
          "color": "rgb(255,65,54)"
         },
         "mode": "lines",
         "type": "scatter",
         "x": [
          0,
          0.49053689585035376,
          0.49053689585035376,
          0
         ],
         "xaxis": "x",
         "y": [
          -35,
          -35,
          -45,
          -45
         ],
         "yaxis": "y"
        },
        {
         "hoverinfo": "text",
         "marker": {
          "color": "rgb(255,65,54)"
         },
         "mode": "lines",
         "type": "scatter",
         "x": [
          0,
          0.5484916745046357,
          0.5484916745046357,
          0
         ],
         "xaxis": "x",
         "y": [
          -65,
          -65,
          -75,
          -75
         ],
         "yaxis": "y"
        },
        {
         "hoverinfo": "text",
         "marker": {
          "color": "rgb(255,65,54)"
         },
         "mode": "lines",
         "type": "scatter",
         "x": [
          0,
          0.5075711611720692,
          0.5075711611720692,
          0
         ],
         "xaxis": "x",
         "y": [
          -85,
          -85,
          -95,
          -95
         ],
         "yaxis": "y"
        },
        {
         "hoverinfo": "text",
         "marker": {
          "color": "rgb(255,65,54)"
         },
         "mode": "lines",
         "type": "scatter",
         "x": [
          0.5484916745046357,
          0.7027449730345904,
          0.7027449730345904,
          0.5075711611720692
         ],
         "xaxis": "x",
         "y": [
          -70,
          -70,
          -90,
          -90
         ],
         "yaxis": "y"
        },
        {
         "hoverinfo": "text",
         "marker": {
          "color": "rgb(255,65,54)"
         },
         "mode": "lines",
         "type": "scatter",
         "x": [
          0,
          0.754903121096328,
          0.754903121096328,
          0.7027449730345904
         ],
         "xaxis": "x",
         "y": [
          -55,
          -55,
          -80,
          -80
         ],
         "yaxis": "y"
        },
        {
         "hoverinfo": "text",
         "marker": {
          "color": "rgb(255,65,54)"
         },
         "mode": "lines",
         "type": "scatter",
         "x": [
          0,
          0.840416626814979,
          0.840416626814979,
          0
         ],
         "xaxis": "x",
         "y": [
          -105,
          -105,
          -115,
          -115
         ],
         "yaxis": "y"
        },
        {
         "hoverinfo": "text",
         "marker": {
          "color": "rgb(255,65,54)"
         },
         "mode": "lines",
         "type": "scatter",
         "x": [
          0.754903121096328,
          0.8469339120847745,
          0.8469339120847745,
          0.840416626814979
         ],
         "xaxis": "x",
         "y": [
          -67.5,
          -67.5,
          -110,
          -110
         ],
         "yaxis": "y"
        },
        {
         "hoverinfo": "text",
         "marker": {
          "color": "rgb(255,65,54)"
         },
         "mode": "lines",
         "type": "scatter",
         "x": [
          0.49053689585035376,
          0.8952840783901157,
          0.8952840783901157,
          0.8469339120847745
         ],
         "xaxis": "x",
         "y": [
          -40,
          -40,
          -88.75,
          -88.75
         ],
         "yaxis": "y"
        },
        {
         "hoverinfo": "text",
         "marker": {
          "color": "rgb(35,205,205)"
         },
         "mode": "lines",
         "type": "scatter",
         "x": [
          0,
          0.44516152014092336,
          0.44516152014092336,
          0
         ],
         "xaxis": "x",
         "y": [
          -135,
          -135,
          -145,
          -145
         ],
         "yaxis": "y"
        },
        {
         "hoverinfo": "text",
         "marker": {
          "color": "rgb(35,205,205)"
         },
         "mode": "lines",
         "type": "scatter",
         "x": [
          0,
          0.5525293602766809,
          0.5525293602766809,
          0.44516152014092336
         ],
         "xaxis": "x",
         "y": [
          -125,
          -125,
          -140,
          -140
         ],
         "yaxis": "y"
        },
        {
         "hoverinfo": "text",
         "marker": {
          "color": "rgb(35,205,205)"
         },
         "mode": "lines",
         "type": "scatter",
         "x": [
          0.5525293602766809,
          0.6265203441968427,
          0.6265203441968427,
          0
         ],
         "xaxis": "x",
         "y": [
          -132.5,
          -132.5,
          -155,
          -155
         ],
         "yaxis": "y"
        },
        {
         "hoverinfo": "text",
         "marker": {
          "color": "rgb(35,205,205)"
         },
         "mode": "lines",
         "type": "scatter",
         "x": [
          0.6265203441968427,
          0.9781759064549214,
          0.9781759064549214,
          0
         ],
         "xaxis": "x",
         "y": [
          -143.75,
          -143.75,
          -165,
          -165
         ],
         "yaxis": "y"
        },
        {
         "hoverinfo": "text",
         "marker": {
          "color": "rgb(0,116,217)"
         },
         "mode": "lines",
         "type": "scatter",
         "x": [
          0.8952840783901157,
          1.0025458370963316,
          1.0025458370963316,
          0.9781759064549214
         ],
         "xaxis": "x",
         "y": [
          -64.375,
          -64.375,
          -154.375,
          -154.375
         ],
         "yaxis": "y"
        },
        {
         "hoverinfo": "text",
         "marker": {
          "color": "rgb(0,116,217)"
         },
         "mode": "lines",
         "type": "scatter",
         "x": [
          0.8078497238455319,
          1.205717674938663,
          1.205717674938663,
          1.0025458370963316
         ],
         "xaxis": "x",
         "y": [
          -12.5,
          -12.5,
          -109.375,
          -109.375
         ],
         "yaxis": "y"
        }
       ],
       "layout": {
        "autosize": false,
        "height": 455,
        "hoverlabel": {
         "bgcolor": "white",
         "font": {
          "family": "Rockwell",
          "size": 16
         }
        },
        "hovermode": "closest",
        "plot_bgcolor": "#ECEFF1",
        "showlegend": false,
        "template": {
         "data": {
          "bar": [
           {
            "error_x": {
             "color": "#2a3f5f"
            },
            "error_y": {
             "color": "#2a3f5f"
            },
            "marker": {
             "line": {
              "color": "white",
              "width": 0.5
             },
             "pattern": {
              "fillmode": "overlay",
              "size": 10,
              "solidity": 0.2
             }
            },
            "type": "bar"
           }
          ],
          "barpolar": [
           {
            "marker": {
             "line": {
              "color": "white",
              "width": 0.5
             },
             "pattern": {
              "fillmode": "overlay",
              "size": 10,
              "solidity": 0.2
             }
            },
            "type": "barpolar"
           }
          ],
          "carpet": [
           {
            "aaxis": {
             "endlinecolor": "#2a3f5f",
             "gridcolor": "#C8D4E3",
             "linecolor": "#C8D4E3",
             "minorgridcolor": "#C8D4E3",
             "startlinecolor": "#2a3f5f"
            },
            "baxis": {
             "endlinecolor": "#2a3f5f",
             "gridcolor": "#C8D4E3",
             "linecolor": "#C8D4E3",
             "minorgridcolor": "#C8D4E3",
             "startlinecolor": "#2a3f5f"
            },
            "type": "carpet"
           }
          ],
          "choropleth": [
           {
            "colorbar": {
             "outlinewidth": 0,
             "ticks": ""
            },
            "type": "choropleth"
           }
          ],
          "contour": [
           {
            "colorbar": {
             "outlinewidth": 0,
             "ticks": ""
            },
            "colorscale": [
             [
              0,
              "#0d0887"
             ],
             [
              0.1111111111111111,
              "#46039f"
             ],
             [
              0.2222222222222222,
              "#7201a8"
             ],
             [
              0.3333333333333333,
              "#9c179e"
             ],
             [
              0.4444444444444444,
              "#bd3786"
             ],
             [
              0.5555555555555556,
              "#d8576b"
             ],
             [
              0.6666666666666666,
              "#ed7953"
             ],
             [
              0.7777777777777778,
              "#fb9f3a"
             ],
             [
              0.8888888888888888,
              "#fdca26"
             ],
             [
              1,
              "#f0f921"
             ]
            ],
            "type": "contour"
           }
          ],
          "contourcarpet": [
           {
            "colorbar": {
             "outlinewidth": 0,
             "ticks": ""
            },
            "type": "contourcarpet"
           }
          ],
          "heatmap": [
           {
            "colorbar": {
             "outlinewidth": 0,
             "ticks": ""
            },
            "colorscale": [
             [
              0,
              "#0d0887"
             ],
             [
              0.1111111111111111,
              "#46039f"
             ],
             [
              0.2222222222222222,
              "#7201a8"
             ],
             [
              0.3333333333333333,
              "#9c179e"
             ],
             [
              0.4444444444444444,
              "#bd3786"
             ],
             [
              0.5555555555555556,
              "#d8576b"
             ],
             [
              0.6666666666666666,
              "#ed7953"
             ],
             [
              0.7777777777777778,
              "#fb9f3a"
             ],
             [
              0.8888888888888888,
              "#fdca26"
             ],
             [
              1,
              "#f0f921"
             ]
            ],
            "type": "heatmap"
           }
          ],
          "heatmapgl": [
           {
            "colorbar": {
             "outlinewidth": 0,
             "ticks": ""
            },
            "colorscale": [
             [
              0,
              "#0d0887"
             ],
             [
              0.1111111111111111,
              "#46039f"
             ],
             [
              0.2222222222222222,
              "#7201a8"
             ],
             [
              0.3333333333333333,
              "#9c179e"
             ],
             [
              0.4444444444444444,
              "#bd3786"
             ],
             [
              0.5555555555555556,
              "#d8576b"
             ],
             [
              0.6666666666666666,
              "#ed7953"
             ],
             [
              0.7777777777777778,
              "#fb9f3a"
             ],
             [
              0.8888888888888888,
              "#fdca26"
             ],
             [
              1,
              "#f0f921"
             ]
            ],
            "type": "heatmapgl"
           }
          ],
          "histogram": [
           {
            "marker": {
             "pattern": {
              "fillmode": "overlay",
              "size": 10,
              "solidity": 0.2
             }
            },
            "type": "histogram"
           }
          ],
          "histogram2d": [
           {
            "colorbar": {
             "outlinewidth": 0,
             "ticks": ""
            },
            "colorscale": [
             [
              0,
              "#0d0887"
             ],
             [
              0.1111111111111111,
              "#46039f"
             ],
             [
              0.2222222222222222,
              "#7201a8"
             ],
             [
              0.3333333333333333,
              "#9c179e"
             ],
             [
              0.4444444444444444,
              "#bd3786"
             ],
             [
              0.5555555555555556,
              "#d8576b"
             ],
             [
              0.6666666666666666,
              "#ed7953"
             ],
             [
              0.7777777777777778,
              "#fb9f3a"
             ],
             [
              0.8888888888888888,
              "#fdca26"
             ],
             [
              1,
              "#f0f921"
             ]
            ],
            "type": "histogram2d"
           }
          ],
          "histogram2dcontour": [
           {
            "colorbar": {
             "outlinewidth": 0,
             "ticks": ""
            },
            "colorscale": [
             [
              0,
              "#0d0887"
             ],
             [
              0.1111111111111111,
              "#46039f"
             ],
             [
              0.2222222222222222,
              "#7201a8"
             ],
             [
              0.3333333333333333,
              "#9c179e"
             ],
             [
              0.4444444444444444,
              "#bd3786"
             ],
             [
              0.5555555555555556,
              "#d8576b"
             ],
             [
              0.6666666666666666,
              "#ed7953"
             ],
             [
              0.7777777777777778,
              "#fb9f3a"
             ],
             [
              0.8888888888888888,
              "#fdca26"
             ],
             [
              1,
              "#f0f921"
             ]
            ],
            "type": "histogram2dcontour"
           }
          ],
          "mesh3d": [
           {
            "colorbar": {
             "outlinewidth": 0,
             "ticks": ""
            },
            "type": "mesh3d"
           }
          ],
          "parcoords": [
           {
            "line": {
             "colorbar": {
              "outlinewidth": 0,
              "ticks": ""
             }
            },
            "type": "parcoords"
           }
          ],
          "pie": [
           {
            "automargin": true,
            "type": "pie"
           }
          ],
          "scatter": [
           {
            "fillpattern": {
             "fillmode": "overlay",
             "size": 10,
             "solidity": 0.2
            },
            "type": "scatter"
           }
          ],
          "scatter3d": [
           {
            "line": {
             "colorbar": {
              "outlinewidth": 0,
              "ticks": ""
             }
            },
            "marker": {
             "colorbar": {
              "outlinewidth": 0,
              "ticks": ""
             }
            },
            "type": "scatter3d"
           }
          ],
          "scattercarpet": [
           {
            "marker": {
             "colorbar": {
              "outlinewidth": 0,
              "ticks": ""
             }
            },
            "type": "scattercarpet"
           }
          ],
          "scattergeo": [
           {
            "marker": {
             "colorbar": {
              "outlinewidth": 0,
              "ticks": ""
             }
            },
            "type": "scattergeo"
           }
          ],
          "scattergl": [
           {
            "marker": {
             "colorbar": {
              "outlinewidth": 0,
              "ticks": ""
             }
            },
            "type": "scattergl"
           }
          ],
          "scattermapbox": [
           {
            "marker": {
             "colorbar": {
              "outlinewidth": 0,
              "ticks": ""
             }
            },
            "type": "scattermapbox"
           }
          ],
          "scatterpolar": [
           {
            "marker": {
             "colorbar": {
              "outlinewidth": 0,
              "ticks": ""
             }
            },
            "type": "scatterpolar"
           }
          ],
          "scatterpolargl": [
           {
            "marker": {
             "colorbar": {
              "outlinewidth": 0,
              "ticks": ""
             }
            },
            "type": "scatterpolargl"
           }
          ],
          "scatterternary": [
           {
            "marker": {
             "colorbar": {
              "outlinewidth": 0,
              "ticks": ""
             }
            },
            "type": "scatterternary"
           }
          ],
          "surface": [
           {
            "colorbar": {
             "outlinewidth": 0,
             "ticks": ""
            },
            "colorscale": [
             [
              0,
              "#0d0887"
             ],
             [
              0.1111111111111111,
              "#46039f"
             ],
             [
              0.2222222222222222,
              "#7201a8"
             ],
             [
              0.3333333333333333,
              "#9c179e"
             ],
             [
              0.4444444444444444,
              "#bd3786"
             ],
             [
              0.5555555555555556,
              "#d8576b"
             ],
             [
              0.6666666666666666,
              "#ed7953"
             ],
             [
              0.7777777777777778,
              "#fb9f3a"
             ],
             [
              0.8888888888888888,
              "#fdca26"
             ],
             [
              1,
              "#f0f921"
             ]
            ],
            "type": "surface"
           }
          ],
          "table": [
           {
            "cells": {
             "fill": {
              "color": "#EBF0F8"
             },
             "line": {
              "color": "white"
             }
            },
            "header": {
             "fill": {
              "color": "#C8D4E3"
             },
             "line": {
              "color": "white"
             }
            },
            "type": "table"
           }
          ]
         },
         "layout": {
          "annotationdefaults": {
           "arrowcolor": "#2a3f5f",
           "arrowhead": 0,
           "arrowwidth": 1
          },
          "autotypenumbers": "strict",
          "coloraxis": {
           "colorbar": {
            "outlinewidth": 0,
            "ticks": ""
           }
          },
          "colorscale": {
           "diverging": [
            [
             0,
             "#8e0152"
            ],
            [
             0.1,
             "#c51b7d"
            ],
            [
             0.2,
             "#de77ae"
            ],
            [
             0.3,
             "#f1b6da"
            ],
            [
             0.4,
             "#fde0ef"
            ],
            [
             0.5,
             "#f7f7f7"
            ],
            [
             0.6,
             "#e6f5d0"
            ],
            [
             0.7,
             "#b8e186"
            ],
            [
             0.8,
             "#7fbc41"
            ],
            [
             0.9,
             "#4d9221"
            ],
            [
             1,
             "#276419"
            ]
           ],
           "sequential": [
            [
             0,
             "#0d0887"
            ],
            [
             0.1111111111111111,
             "#46039f"
            ],
            [
             0.2222222222222222,
             "#7201a8"
            ],
            [
             0.3333333333333333,
             "#9c179e"
            ],
            [
             0.4444444444444444,
             "#bd3786"
            ],
            [
             0.5555555555555556,
             "#d8576b"
            ],
            [
             0.6666666666666666,
             "#ed7953"
            ],
            [
             0.7777777777777778,
             "#fb9f3a"
            ],
            [
             0.8888888888888888,
             "#fdca26"
            ],
            [
             1,
             "#f0f921"
            ]
           ],
           "sequentialminus": [
            [
             0,
             "#0d0887"
            ],
            [
             0.1111111111111111,
             "#46039f"
            ],
            [
             0.2222222222222222,
             "#7201a8"
            ],
            [
             0.3333333333333333,
             "#9c179e"
            ],
            [
             0.4444444444444444,
             "#bd3786"
            ],
            [
             0.5555555555555556,
             "#d8576b"
            ],
            [
             0.6666666666666666,
             "#ed7953"
            ],
            [
             0.7777777777777778,
             "#fb9f3a"
            ],
            [
             0.8888888888888888,
             "#fdca26"
            ],
            [
             1,
             "#f0f921"
            ]
           ]
          },
          "colorway": [
           "#636efa",
           "#EF553B",
           "#00cc96",
           "#ab63fa",
           "#FFA15A",
           "#19d3f3",
           "#FF6692",
           "#B6E880",
           "#FF97FF",
           "#FECB52"
          ],
          "font": {
           "color": "#2a3f5f"
          },
          "geo": {
           "bgcolor": "white",
           "lakecolor": "white",
           "landcolor": "white",
           "showlakes": true,
           "showland": true,
           "subunitcolor": "#C8D4E3"
          },
          "hoverlabel": {
           "align": "left"
          },
          "hovermode": "closest",
          "mapbox": {
           "style": "light"
          },
          "paper_bgcolor": "white",
          "plot_bgcolor": "white",
          "polar": {
           "angularaxis": {
            "gridcolor": "#EBF0F8",
            "linecolor": "#EBF0F8",
            "ticks": ""
           },
           "bgcolor": "white",
           "radialaxis": {
            "gridcolor": "#EBF0F8",
            "linecolor": "#EBF0F8",
            "ticks": ""
           }
          },
          "scene": {
           "xaxis": {
            "backgroundcolor": "white",
            "gridcolor": "#DFE8F3",
            "gridwidth": 2,
            "linecolor": "#EBF0F8",
            "showbackground": true,
            "ticks": "",
            "zerolinecolor": "#EBF0F8"
           },
           "yaxis": {
            "backgroundcolor": "white",
            "gridcolor": "#DFE8F3",
            "gridwidth": 2,
            "linecolor": "#EBF0F8",
            "showbackground": true,
            "ticks": "",
            "zerolinecolor": "#EBF0F8"
           },
           "zaxis": {
            "backgroundcolor": "white",
            "gridcolor": "#DFE8F3",
            "gridwidth": 2,
            "linecolor": "#EBF0F8",
            "showbackground": true,
            "ticks": "",
            "zerolinecolor": "#EBF0F8"
           }
          },
          "shapedefaults": {
           "line": {
            "color": "#2a3f5f"
           }
          },
          "ternary": {
           "aaxis": {
            "gridcolor": "#DFE8F3",
            "linecolor": "#A2B1C6",
            "ticks": ""
           },
           "baxis": {
            "gridcolor": "#DFE8F3",
            "linecolor": "#A2B1C6",
            "ticks": ""
           },
           "bgcolor": "white",
           "caxis": {
            "gridcolor": "#DFE8F3",
            "linecolor": "#A2B1C6",
            "ticks": ""
           }
          },
          "title": {
           "x": 0.05
          },
          "xaxis": {
           "automargin": true,
           "gridcolor": "#EBF0F8",
           "linecolor": "#EBF0F8",
           "ticks": "",
           "title": {
            "standoff": 15
           },
           "zerolinecolor": "#EBF0F8",
           "zerolinewidth": 2
          },
          "yaxis": {
           "automargin": true,
           "gridcolor": "#EBF0F8",
           "linecolor": "#EBF0F8",
           "ticks": "",
           "title": {
            "standoff": 15
           },
           "zerolinecolor": "#EBF0F8",
           "zerolinewidth": 2
          }
         }
        },
        "title": {
         "font": {
          "color": "Black",
          "size": 22
         },
         "text": "<b>Hierarchical Clustering</b>",
         "x": 0.5,
         "xanchor": "center",
         "yanchor": "top"
        },
        "width": 1000,
        "xaxis": {
         "mirror": "allticks",
         "rangemode": "tozero",
         "showgrid": false,
         "showline": true,
         "showticklabels": true,
         "ticks": "outside",
         "type": "linear",
         "zeroline": false
        },
        "yaxis": {
         "mirror": "allticks",
         "range": [
          -170,
          0
         ],
         "rangemode": "tozero",
         "showgrid": false,
         "showline": true,
         "showticklabels": true,
         "tickmode": "array",
         "ticks": "outside",
         "ticktext": [
          "15_call_java_code",
          "4_jsp_code",
          "6_call_method_code",
          "13_call_if_urgent",
          "1_call_me_on_cell_phone",
          "14_call_about_lunch",
          "7_call_at_office",
          "5_request_call",
          "11_call_because_of_changes",
          "0_contact_me_in_case_of_questions",
          "12_ask_for_number",
          "16_left_voicemail",
          "8_have_conference_call",
          "3_promise_call",
          "2_set_up_conference_call",
          "9_call_with_meeting_as_context",
          "10_apologies_for_missing_call"
         ],
         "tickvals": [
          -5,
          -15,
          -25,
          -35,
          -45,
          -55,
          -65,
          -75,
          -85,
          -95,
          -105,
          -115,
          -125,
          -135,
          -145,
          -155,
          -165
         ],
         "type": "linear",
         "zeroline": false
        }
       }
      }
     },
     "metadata": {},
     "output_type": "display_data"
    }
   ],
   "source": [
    "topic_model.visualize_hierarchy(custom_labels=True)"
   ]
  },
  {
   "cell_type": "code",
   "execution_count": 1121,
   "metadata": {},
   "outputs": [
    {
     "name": "stderr",
     "output_type": "stream",
     "text": [
      "2024-11-06 17:34:41,016 - BERTopic - WARNING: When you use `pickle` to save/load a BERTopic model,please make sure that the environments in which you saveand load the model are **exactly** the same. The version of BERTopic,its dependencies, and python need to remain the same.\n"
     ]
    }
   ],
   "source": [
    "topic_model.save(\"../../../data/bertopic_models/intents/02_call/call_final\")"
   ]
  },
  {
   "cell_type": "markdown",
   "metadata": {},
   "source": [
    "### Create Dataset for intent 'send'"
   ]
  },
  {
   "cell_type": "markdown",
   "metadata": {},
   "source": [
    "####  Labels"
   ]
  },
  {
   "cell_type": "markdown",
   "metadata": {},
   "source": [
    "Created custom labels for topics\n",
    "\n",
    "| Label                             | Description                                       | Extraction Strings | Context needed |\n",
    "|-----------------------------------|---------------------------------------------------|--------------------|----------------|\n",
    "|'0_contact_me_in_case_of_questions',|\n",
    "| '1_call_me_on_cell_phone',|\n",
    "| '2_set_up_conference_call',|\n",
    "| '3_promise_call',|\n",
    "| '4_jsp_code',|\n",
    "| '5_request_call',|\n",
    "| '6_call_method_code',|\n",
    "| '7_call_at_office',|\n",
    "| '8_have_conference_call',|\n",
    "| '9_call_with_meeting_as_context',|\n",
    "| '10_apologies_for_missing_call',|\n",
    "| '11_call_because_of_changes',|\n",
    "| '12_ask_for_number',|\n",
    "| '13_call_if_urgent',|\n",
    "| '14_call_about_lunch',|\n",
    "| '15_call_java_code',|\n",
    "| '16_left_voicemail',|"
   ]
  },
  {
   "cell_type": "markdown",
   "metadata": {},
   "source": [
    "#### Inspecting Topics"
   ]
  },
  {
   "cell_type": "code",
   "execution_count": 1672,
   "metadata": {},
   "outputs": [
    {
     "data": {
      "text/plain": [
       "'\\nfor  label in topic_model.custom_labels_:\\n   print(label)'"
      ]
     },
     "execution_count": 1672,
     "metadata": {},
     "output_type": "execute_result"
    }
   ],
   "source": [
    "'''\n",
    "for  label in topic_model.custom_labels_:\n",
    "   print(label)'''"
   ]
  },
  {
   "cell_type": "code",
   "execution_count": 3,
   "metadata": {},
   "outputs": [],
   "source": [
    "topic_model = BERTopic.load(\"../../data/bertopic_models/processed/send_final\")"
   ]
  },
  {
   "cell_type": "code",
   "execution_count": 1218,
   "metadata": {},
   "outputs": [
    {
     "name": "stdout",
     "output_type": "stream",
     "text": [
      "Number of Documents: 52\n",
      "\n",
      "I will call you on Monday to get more information .    2 ) Header customization support .\n",
      "Please give me a call if you have any questions regarding the recent changes   to your account .\n",
      "Feel free to call me to discuss my changes .\n",
      "Please review and call me at your leisure .\n",
      "I think we have a deal ;   please look over the few minor changes we suggest and feel free to call me to discuss .\n",
      "If there are any changes that need to be made to the information above please contact me prior to noon our time today ( 2/19/01 - Monday PST ) .    thank you .\n",
      "Once you have had a chance to review and if you feel there need to be more edits , please call my mobile :   408.836.9657 and we can go through .\n",
      "Once you 've reviewed , please give me a call so can   further discuss .\n",
      "I do n't know who you called to get changed , etc .    We need to get this resolved now- during thw show .\n",
      "If you 'd like to have the order changed to Diverse T1 's , I 'll get a sales   person to call you and discuss it in more detail .\n",
      "I have made a few changes to it , which you might question so I 'd like to give you a call at 2:00 p.m. EST tomorrow to discuss these .\n",
      "Please call me with any questions and changes .\n",
      "Can you call for a final review   and close this ?    Thanks    Prakash\n",
      "i have only gotten one edit / change on the website so i think we are functioning at a level that is as good as can be expected .     going back home and back to bed .   just call me rip .. see you in 20yrs .\n",
      "Give me a call if you have any questions or want some help in modifying it .\n",
      "Please give me a call after you get a chance to review it and we can discuss your thoughts and make the necessary changes to accommodate your needs .\n",
      "Give me a call sometime and we can discuss this in more detail and see how best to handle a review .\n",
      "Feel free to call me to discuss any of these issues or any of my changes .\n",
      "I will call them later today and tell them of the changes .\n",
      "Take a look and give me a call once you 've had a chance to review .\n"
     ]
    }
   ],
   "source": [
    "topic_id = 11\n",
    "topic_docs = inspect_topic_docs(topic_id=topic_id, n_docs=20)"
   ]
  },
  {
   "cell_type": "code",
   "execution_count": 1219,
   "metadata": {},
   "outputs": [],
   "source": [
    "# Based on the inspection of the sentences\n",
    "white_list = [\n",
    "    'review', 'update', 'change', \n",
    "]\n",
    "black_list = [\n",
    "    \n",
    "]"
   ]
  },
  {
   "cell_type": "code",
   "execution_count": 1220,
   "metadata": {},
   "outputs": [
    {
     "name": "stdout",
     "output_type": "stream",
     "text": [
      "Amount of sentences: 50\n"
     ]
    },
    {
     "data": {
      "text/plain": [
       "['Once you have had a chance to review and if you feel there need to be more edits , please call my mobile :   408.836.9657 and we can go through .',\n",
       " 'All the changes are in TradingHistoryForm.aml    Call me @ ( 408 ) 857 8516 if you have any questions .',\n",
       " 'Please give me a call if you have any questions regarding the recent changes   to your account .',\n",
       " \"If you 'd like to have the order changed to Diverse T1 's , I 'll get a sales   person to call you and discuss it in more detail .\",\n",
       " 'blair , please review and call me asap   thank you',\n",
       " 'i have only gotten one edit / change on the website so i think we are functioning at a level that is as good as can be expected .     going back home and back to bed .   just call me rip .. see you in 20yrs .',\n",
       " 'Please give me a call after you get a chance to review it and we can discuss your thoughts and make the necessary changes to accommodate your needs .',\n",
       " 'If you want this changed , please call me and I can   tell you over the phone on how to do it .',\n",
       " 'Please contact me with any questions regarding these changes .',\n",
       " 'please review asap and call me asap',\n",
       " \"You should spin this as CRM .    Give me a call when you 've had a chance to review this .\",\n",
       " 'Please notify me when the changes are implemented and call me with any questions .',\n",
       " 'If you prefer , you can e - mail or call us ( numbers below ) to   request changes .',\n",
       " 'If there are any issues regarding this change ( i.e. , can not resolve name ) , please contact me immediately .',\n",
       " 'Thanks !    Feel free to call me at home this weekend if you have changes .',\n",
       " \"Bithi -   please let me know if you 'd like to have a call to review since you 've been   away .\",\n",
       " 'If there are any changes that need to be made to the information above please contact me prior to noon our time today ( 2/19/01 - Monday PST ) .    thank you .',\n",
       " \"Once you 've reviewed , please give me a call so can   further discuss .\",\n",
       " 'Give me a call sometime and we can discuss this in more detail and see how best to handle a review .',\n",
       " 'Feel free to call me to discuss my changes .',\n",
       " 'Once you have had   a chance to review , please call me with any questions you may have .',\n",
       " 'Can you call for a final review   and close this ?    Thanks    Prakash',\n",
       " \"I 'll review it and email / call you with any questions .\",\n",
       " 'Feel free to call me to discuss any of these issues or any of my changes .',\n",
       " 'Please review and call me to discuss or make changes .',\n",
       " 'If this change does not get propagated to your device , call me ASAP .',\n",
       " 'Please give me a call after your review so we can discuss how we want to respond to their recommended changes .',\n",
       " 'please call me asap if you need to discuss any of he changes .',\n",
       " \"If   >   you 'd like to make any changes , call us at 800 - 475 - 5000 ( please do not   > reply to   >   this e - mail ) .\",\n",
       " 'I looked through the multiple cards per deck cases for coverage but I would not call that a real review .    - [PERSON] .',\n",
       " 'I will call you as soon as I review it .',\n",
       " \"I 'll call you after I have reviewed the white paper .\",\n",
       " 'Looks like I missed your call regarding code review .',\n",
       " \"Maybe you can give me a call once you 've had the chance to review it .\",\n",
       " \"Take a look and give me a call once you 've had a chance to review .\",\n",
       " 'Please give me a time that will be best for me to call you to review your message below .',\n",
       " 'Please call me with any questions and changes .',\n",
       " \"If I can be of any assistance in your review process , please do n't hesitate to contact me .\",\n",
       " 'Thanks , please call me after you done reviewing   at(972 ) 516 9329 .',\n",
       " \"I 'll call an external review next Monday .    -yuyu\",\n",
       " 'Please review and call me at your leisure .',\n",
       " 'Once you have a chance to review it , please   contact me directly , at the number below , to discuss this opportunity .',\n",
       " 'Actually , it might be best , if you just give me a call and I can   walk you thru the changes I made and why .',\n",
       " 'I will call them later today and tell them of the changes .',\n",
       " \"I do n't know who you called to get changed , etc .    We need to get this resolved now- during thw show .\",\n",
       " 'If you can submit your changes to my email via the feedback form ( see direction below ) and/or call me then I can get to them on Sunday .',\n",
       " 'If anything changes I will call you .',\n",
       " 'I think we have a deal ;   please look over the few minor changes we suggest and feel free to call me to discuss .',\n",
       " \"If I can be of any assistance in the review process , please do n't hesitate to contact me .\",\n",
       " \"I have made a few changes to it , which you might question so I 'd like to give you a call at 2:00 p.m. EST tomorrow to discuss these .\"]"
      ]
     },
     "execution_count": 1220,
     "metadata": {},
     "output_type": "execute_result"
    }
   ],
   "source": [
    "sents_to_keep, sents_to_discard = filter_topic_documents(topic_docs=topic_docs, white_list=white_list, black_list=black_list)\n",
    "sents_to_keep"
   ]
  },
  {
   "cell_type": "code",
   "execution_count": 1221,
   "metadata": {},
   "outputs": [
    {
     "data": {
      "text/plain": [
       "['I will call you on Monday to get more information .    2 ) Header customization support .',\n",
       " 'Give me a call if you have any questions or want some help in modifying it .']"
      ]
     },
     "execution_count": 1221,
     "metadata": {},
     "output_type": "execute_result"
    }
   ],
   "source": [
    "sents_to_discard"
   ]
  },
  {
   "cell_type": "code",
   "execution_count": 1222,
   "metadata": {},
   "outputs": [
    {
     "data": {
      "text/html": [
       "<div>\n",
       "<style scoped>\n",
       "    .dataframe tbody tr th:only-of-type {\n",
       "        vertical-align: middle;\n",
       "    }\n",
       "\n",
       "    .dataframe tbody tr th {\n",
       "        vertical-align: top;\n",
       "    }\n",
       "\n",
       "    .dataframe thead th {\n",
       "        text-align: right;\n",
       "    }\n",
       "</style>\n",
       "<table border=\"1\" class=\"dataframe\">\n",
       "  <thead>\n",
       "    <tr style=\"text-align: right;\">\n",
       "      <th></th>\n",
       "      <th>text</th>\n",
       "      <th>label</th>\n",
       "    </tr>\n",
       "  </thead>\n",
       "  <tbody>\n",
       "    <tr>\n",
       "      <th>0</th>\n",
       "      <td>Please contact me if there is   anything else ...</td>\n",
       "      <td>contact_me_in_case_of_questions</td>\n",
       "    </tr>\n",
       "    <tr>\n",
       "      <th>1</th>\n",
       "      <td>If you have any questions , please do not hesi...</td>\n",
       "      <td>contact_me_in_case_of_questions</td>\n",
       "    </tr>\n",
       "    <tr>\n",
       "      <th>2</th>\n",
       "      <td>Call me if you need more help .</td>\n",
       "      <td>contact_me_in_case_of_questions</td>\n",
       "    </tr>\n",
       "    <tr>\n",
       "      <th>3</th>\n",
       "      <td>If you have any questions or comments regardin...</td>\n",
       "      <td>contact_me_in_case_of_questions</td>\n",
       "    </tr>\n",
       "    <tr>\n",
       "      <th>4</th>\n",
       "      <td>If you have questions as you look over our web...</td>\n",
       "      <td>contact_me_in_case_of_questions</td>\n",
       "    </tr>\n",
       "    <tr>\n",
       "      <th>...</th>\n",
       "      <td>...</td>\n",
       "      <td>...</td>\n",
       "    </tr>\n",
       "    <tr>\n",
       "      <th>2259</th>\n",
       "      <td>If you can submit your changes to my email via...</td>\n",
       "      <td>call_because_of_changes</td>\n",
       "    </tr>\n",
       "    <tr>\n",
       "      <th>2260</th>\n",
       "      <td>If anything changes I will call you .</td>\n",
       "      <td>call_because_of_changes</td>\n",
       "    </tr>\n",
       "    <tr>\n",
       "      <th>2261</th>\n",
       "      <td>I think we have a deal ;   please look over th...</td>\n",
       "      <td>call_because_of_changes</td>\n",
       "    </tr>\n",
       "    <tr>\n",
       "      <th>2262</th>\n",
       "      <td>If I can be of any assistance in the review pr...</td>\n",
       "      <td>call_because_of_changes</td>\n",
       "    </tr>\n",
       "    <tr>\n",
       "      <th>2263</th>\n",
       "      <td>I have made a few changes to it , which you mi...</td>\n",
       "      <td>call_because_of_changes</td>\n",
       "    </tr>\n",
       "  </tbody>\n",
       "</table>\n",
       "<p>2264 rows × 2 columns</p>\n",
       "</div>"
      ],
      "text/plain": [
       "                                                   text  \\\n",
       "0     Please contact me if there is   anything else ...   \n",
       "1     If you have any questions , please do not hesi...   \n",
       "2                       Call me if you need more help .   \n",
       "3     If you have any questions or comments regardin...   \n",
       "4     If you have questions as you look over our web...   \n",
       "...                                                 ...   \n",
       "2259  If you can submit your changes to my email via...   \n",
       "2260              If anything changes I will call you .   \n",
       "2261  I think we have a deal ;   please look over th...   \n",
       "2262  If I can be of any assistance in the review pr...   \n",
       "2263  I have made a few changes to it , which you mi...   \n",
       "\n",
       "                                label  \n",
       "0     contact_me_in_case_of_questions  \n",
       "1     contact_me_in_case_of_questions  \n",
       "2     contact_me_in_case_of_questions  \n",
       "3     contact_me_in_case_of_questions  \n",
       "4     contact_me_in_case_of_questions  \n",
       "...                               ...  \n",
       "2259          call_because_of_changes  \n",
       "2260          call_because_of_changes  \n",
       "2261          call_because_of_changes  \n",
       "2262          call_because_of_changes  \n",
       "2263          call_because_of_changes  \n",
       "\n",
       "[2264 rows x 2 columns]"
      ]
     },
     "execution_count": 1222,
     "metadata": {},
     "output_type": "execute_result"
    }
   ],
   "source": [
    "fp = \"../../../data/labeled/call.tsv\"\n",
    "df = pd.DataFrame({\"text\": sents_to_keep, \"label\": get_label_from_topic_nr(topic_id)})\n",
    "concat_to_df(df, filepath=fp, overwrite=False)"
   ]
  },
  {
   "cell_type": "code",
   "execution_count": null,
   "metadata": {},
   "outputs": [
    {
     "data": {
      "text/html": [
       "<div>\n",
       "<style scoped>\n",
       "    .dataframe tbody tr th:only-of-type {\n",
       "        vertical-align: middle;\n",
       "    }\n",
       "\n",
       "    .dataframe tbody tr th {\n",
       "        vertical-align: top;\n",
       "    }\n",
       "\n",
       "    .dataframe thead th {\n",
       "        text-align: right;\n",
       "    }\n",
       "</style>\n",
       "<table border=\"1\" class=\"dataframe\">\n",
       "  <thead>\n",
       "    <tr style=\"text-align: right;\">\n",
       "      <th></th>\n",
       "      <th>text</th>\n",
       "      <th>label</th>\n",
       "    </tr>\n",
       "  </thead>\n",
       "  <tbody>\n",
       "    <tr>\n",
       "      <th>0</th>\n",
       "      <td>Once you have had a chance to review and if yo...</td>\n",
       "      <td>call_because_of_changes</td>\n",
       "    </tr>\n",
       "    <tr>\n",
       "      <th>1</th>\n",
       "      <td>All the changes are in TradingHistoryForm.aml ...</td>\n",
       "      <td>call_because_of_changes</td>\n",
       "    </tr>\n",
       "    <tr>\n",
       "      <th>2</th>\n",
       "      <td>Please give me a call if you have any question...</td>\n",
       "      <td>call_because_of_changes</td>\n",
       "    </tr>\n",
       "    <tr>\n",
       "      <th>3</th>\n",
       "      <td>If you 'd like to have the order changed to Di...</td>\n",
       "      <td>call_because_of_changes</td>\n",
       "    </tr>\n",
       "    <tr>\n",
       "      <th>4</th>\n",
       "      <td>blair , please review and call me asap   thank...</td>\n",
       "      <td>call_because_of_changes</td>\n",
       "    </tr>\n",
       "  </tbody>\n",
       "</table>\n",
       "</div>"
      ],
      "text/plain": [
       "                                                text                    label\n",
       "0  Once you have had a chance to review and if yo...  call_because_of_changes\n",
       "1  All the changes are in TradingHistoryForm.aml ...  call_because_of_changes\n",
       "2  Please give me a call if you have any question...  call_because_of_changes\n",
       "3  If you 'd like to have the order changed to Di...  call_because_of_changes\n",
       "4  blair , please review and call me asap   thank...  call_because_of_changes"
      ]
     },
     "execution_count": 1223,
     "metadata": {},
     "output_type": "execute_result"
    },
    {
     "ename": "",
     "evalue": "",
     "output_type": "error",
     "traceback": [
      "\u001b[1;31mThe Kernel crashed while executing code in the current cell or a previous cell. \n",
      "\u001b[1;31mPlease review the code in the cell(s) to identify a possible cause of the failure. \n",
      "\u001b[1;31mClick <a href='https://aka.ms/vscodeJupyterKernelCrash'>here</a> for more info. \n",
      "\u001b[1;31mView Jupyter <a href='command:jupyter.viewOutput'>log</a> for further details."
     ]
    }
   ],
   "source": [
    "df.head()"
   ]
  },
  {
   "cell_type": "code",
   "execution_count": null,
   "metadata": {},
   "outputs": [],
   "source": []
  }
 ],
 "metadata": {
  "kernelspec": {
   "display_name": "ma_exp_intent",
   "language": "python",
   "name": "python3"
  },
  "language_info": {
   "codemirror_mode": {
    "name": "ipython",
    "version": 3
   },
   "file_extension": ".py",
   "mimetype": "text/x-python",
   "name": "python",
   "nbconvert_exporter": "python",
   "pygments_lexer": "ipython3",
   "version": "3.12.4"
  }
 },
 "nbformat": 4,
 "nbformat_minor": 2
}
