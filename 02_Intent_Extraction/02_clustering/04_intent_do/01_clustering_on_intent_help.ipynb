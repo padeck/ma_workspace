{
 "cells": [
  {
   "cell_type": "markdown",
   "metadata": {},
   "source": [
    "# Hierarchical Clustering on Target Sentences\n",
    "to help deriving a taxonomy for intents, hierarchical clustering is being leveraged."
   ]
  },
  {
   "cell_type": "markdown",
   "metadata": {},
   "source": [
    "#### Functions"
   ]
  },
  {
   "cell_type": "code",
   "execution_count": 1,
   "metadata": {},
   "outputs": [],
   "source": [
    "def inspect_topic(topic_nr):\n",
    "    print('-----------')\n",
    "    top_words = topic_model.get_topic(topic_nr)\n",
    "    print(\"Topic: \"+str(topic_nr)+\"\\n\\nTop Words:\")\n",
    "    for word in top_words:\n",
    "        print(word[0], end=\", \")\n",
    "    print('\\n\\nRepresentative Target Sentences: ')\n",
    "    for doc in topic_model.get_topic_info().iloc[topic_nr+1]['Representative_Docs']:\n",
    "        print(doc)\n",
    "\n",
    "def create_custom_label(custom_label, topic_id):\n",
    "    custom_labels = {\n",
    "        topic_id: str(topic_id)+\"_\"+custom_label,\n",
    "    }\n",
    "    topic_model.set_topic_labels(custom_labels)\n",
    "\n",
    "# Function to retrieve custom label from topic model\n",
    "def get_label_from_topic_nr(topic_nr):\n",
    "    for label in topic_model.custom_labels_:\n",
    "        if label.startswith(str(topic_nr)):\n",
    "            label = label\n",
    "            label = re.sub(r\"^\\d+_\", \"\", label)\n",
    "            return label\n",
    "    raise Exception('Provided Topic Number has no label assigned!')\n",
    "\n",
    "# Function to inspect a topic by its number and retrieve its documents\n",
    "'''\n",
    "def inspect_topic_and_its_docs(topic_nr,n_docs=50):\n",
    "    topic_docs = list(set([doc for doc, topic in zip(docs, topic_model.topics_) if topic == topic_nr]))\n",
    "    print(\"Label: \" + get_label_from_topic_nr(topic_nr)+\"\\n\")\n",
    "    print(\"Number of sentences for label: \"+str(len(topic_docs)))\n",
    "    print('\\nSentences:\\n')\n",
    "    if len(topic_docs) < n_docs:\n",
    "        n_docs = len(topic_docs)\n",
    "    for i in range(n_docs):\n",
    "        print(topic_docs[i])\n",
    "    return topic_docs\n",
    "'''\n",
    "\n",
    "def inspect_topic_docs(topic_id, n_docs=20):\n",
    "    documents = [docs[i] for i, topic in enumerate(topic_model.topics_) if topic == topic_id]\n",
    "    print('Number of Documents: '+str(len(documents))+'\\n')\n",
    "    if len(documents) < n_docs:\n",
    "        n_docs = len(documents)\n",
    "    for i in range(n_docs):\n",
    "        print(documents[i])\n",
    "    return documents\n",
    "\n",
    "# given a list of strings, returns a list of documents that contain at least one of the strings in the given list\n",
    "def filter_topic_documents(topic_docs, white_list, black_list=[] ):\n",
    "    sentences_to_keep = []\n",
    "    sentences_to_discard = []\n",
    "    for doc in topic_docs:\n",
    "        if any(substring in doc for substring in white_list):\n",
    "            sentences_to_keep.append(doc)\n",
    "    sentences_to_keep = [\n",
    "    item for item in sentences_to_keep\n",
    "        if not any(substring in item for substring in black_list)\n",
    "    ]\n",
    "    sentences_to_keep = list(set(sentences_to_keep)) # remove duplicates\n",
    "    sentences_to_discard = list(set(topic_docs) - set(sentences_to_keep))\n",
    "    print('Amount of sentences: '+str(len(sentences_to_keep)))\n",
    "    return sentences_to_keep, sentences_to_discard\n",
    "\n",
    "# Function to facilitate the concatenation of new DFs\n",
    "def concat_to_df(new_df,filepath, overwrite=False, ):\n",
    "    try:\n",
    "        df = pd.read_csv(filepath, sep='\\t')\n",
    "    except FileNotFoundError:\n",
    "        df = pd.DataFrame(columns=[\"text\", \"label\"])\n",
    "    if new_df.iloc[0]['label'] not in df['label'].values: # Make sure that DF does not already contain entry for label\n",
    "        new_df = new_df.reset_index(drop=True)\n",
    "        df = df.reset_index(drop=True)\n",
    "        df = pd.concat([df, new_df], ignore_index=True)\n",
    "        df = df.reset_index(drop=True)\n",
    "        df = df.loc[:, ~df.columns.str.contains('^Unnamed')]\n",
    "        df.to_csv(filepath, sep='\\t')\n",
    "        return df\n",
    "    else:\n",
    "        if overwrite:\n",
    "            df = df[~df['label'].str.contains(new_df.iloc[0]['label'])]\n",
    "            df = pd.concat([df, new_df], ignore_index=True)\n",
    "            df = df.loc[:, ~df.columns.str.contains('^Unnamed')]\n",
    "            df.to_csv(\"../../data/labeled/send.tsv\", sep='\\t', index=False)\n",
    "            return df\n",
    "        else:\n",
    "            print(\"Label '\"+new_df.iloc[0]['label']+\"' already in the final DF, so it's being skipped.\")\n"
   ]
  },
  {
   "cell_type": "markdown",
   "metadata": {},
   "source": [
    "####"
   ]
  },
  {
   "cell_type": "code",
   "execution_count": 2,
   "metadata": {},
   "outputs": [],
   "source": [
    "from bertopic import BERTopic\n",
    "from scipy.cluster import hierarchy as sch\n",
    "import pandas as pd\n",
    "import logging\n",
    "from sklearn.metrics.pairwise import cosine_distances\n",
    "from tqdm import tqdm\n",
    "import numpy as np\n",
    "from umap import UMAP\n",
    "from hdbscan import HDBSCAN\n",
    "from sentence_transformers import SentenceTransformer\n",
    "import re"
   ]
  },
  {
   "cell_type": "code",
   "execution_count": 4,
   "metadata": {},
   "outputs": [],
   "source": [
    "df = pd.read_parquet('../../../data/processed/intents/do.parquet', engine='fastparquet')"
   ]
  },
  {
   "cell_type": "code",
   "execution_count": 5,
   "metadata": {},
   "outputs": [],
   "source": [
    "df['target'] = df['target'].str.replace(r'\\r\\n', ' ', regex=True)\n",
    "docs = list(set(df['target'].tolist()))"
   ]
  },
  {
   "cell_type": "code",
   "execution_count": 6,
   "metadata": {},
   "outputs": [
    {
     "data": {
      "text/plain": [
       "16215"
      ]
     },
     "execution_count": 6,
     "metadata": {},
     "output_type": "execute_result"
    }
   ],
   "source": [
    "# Amount of unique target sentences\n",
    "len(docs)"
   ]
  },
  {
   "cell_type": "markdown",
   "metadata": {},
   "source": [
    "## Training the Model"
   ]
  },
  {
   "cell_type": "code",
   "execution_count": 7,
   "metadata": {},
   "outputs": [],
   "source": [
    "# Configure logging\n",
    "logging.basicConfig(level=logging.INFO)\n",
    "logger = logging.getLogger(\"BERTopic\")\n",
    "logger.setLevel(logging.INFO)"
   ]
  },
  {
   "cell_type": "code",
   "execution_count": 8,
   "metadata": {},
   "outputs": [
    {
     "name": "stderr",
     "output_type": "stream",
     "text": [
      "INFO:sentence_transformers.SentenceTransformer:Use pytorch device_name: mps\n",
      "INFO:sentence_transformers.SentenceTransformer:Load pretrained SentenceTransformer: all-MiniLM-L6-v2\n",
      "2024-11-06 20:47:35,588 - BERTopic - Embedding - Transforming documents to embeddings.\n"
     ]
    },
    {
     "data": {
      "application/vnd.jupyter.widget-view+json": {
       "model_id": "0f54adfa45cf441982b54486d4227c59",
       "version_major": 2,
       "version_minor": 0
      },
      "text/plain": [
       "Batches:   0%|          | 0/507 [00:00<?, ?it/s]"
      ]
     },
     "metadata": {},
     "output_type": "display_data"
    },
    {
     "name": "stderr",
     "output_type": "stream",
     "text": [
      "2024-11-06 20:48:03,823 - BERTopic - Embedding - Completed ✓\n",
      "2024-11-06 20:48:03,823 - BERTopic - Dimensionality - Fitting the dimensionality reduction algorithm\n",
      "OMP: Info #276: omp_set_nested routine deprecated, please use omp_set_max_active_levels instead.\n",
      "2024-11-06 20:48:20,210 - BERTopic - Dimensionality - Completed ✓\n",
      "2024-11-06 20:48:20,211 - BERTopic - Cluster - Start clustering the reduced embeddings\n",
      "2024-11-06 20:48:20,694 - BERTopic - Cluster - Completed ✓\n",
      "2024-11-06 20:48:20,697 - BERTopic - Representation - Extracting topics from clusters using representation models.\n",
      "2024-11-06 20:48:20,906 - BERTopic - Representation - Completed ✓\n"
     ]
    }
   ],
   "source": [
    "# Initialize UMAP with a fixed random state\n",
    "random_state = 1 # Other seeds sometimes caused negative values in the distanace matrix\n",
    "\n",
    "# Set global random seeds\n",
    "np.random.seed(random_state)\n",
    "\n",
    "embedding_model = SentenceTransformer(\"all-MiniLM-L6-v2\")\n",
    "umap_model = UMAP(n_neighbors=15, n_components=5, random_state=random_state)\n",
    "hdbscan_model = HDBSCAN(min_cluster_size=10, prediction_data=True)\n",
    "\n",
    "topic_model = BERTopic(verbose=True, umap_model=umap_model, hdbscan_model=hdbscan_model, embedding_model=embedding_model)\n",
    "topics, probs = topic_model.fit_transform(docs)"
   ]
  },
  {
   "cell_type": "code",
   "execution_count": 9,
   "metadata": {},
   "outputs": [
    {
     "name": "stderr",
     "output_type": "stream",
     "text": [
      "100%|██████████| 154/154 [00:00<00:00, 634.07it/s]\n"
     ]
    }
   ],
   "source": [
    "hierarchical_topics = topic_model.hierarchical_topics(docs)"
   ]
  },
  {
   "cell_type": "code",
   "execution_count": 11,
   "metadata": {},
   "outputs": [
    {
     "name": "stderr",
     "output_type": "stream",
     "text": [
      "2024-11-06 20:49:23,318 - BERTopic - WARNING: When you use `pickle` to save/load a BERTopic model,please make sure that the environments in which you saveand load the model are **exactly** the same. The version of BERTopic,its dependencies, and python need to remain the same.\n"
     ]
    }
   ],
   "source": [
    "topic_model.save(\"../../../data/bertopic_models/intents/04_do/do_unprocessed\")"
   ]
  },
  {
   "cell_type": "markdown",
   "metadata": {},
   "source": [
    "## Inspecting clustering results"
   ]
  },
  {
   "cell_type": "code",
   "execution_count": 7,
   "metadata": {},
   "outputs": [],
   "source": [
    "#topic_model = BERTopic.load(\"../../data/bertopic_models/send\")"
   ]
  },
  {
   "cell_type": "code",
   "execution_count": 53,
   "metadata": {},
   "outputs": [
    {
     "data": {
      "application/vnd.plotly.v1+json": {
       "config": {
        "plotlyServerURL": "https://plot.ly"
       },
       "data": [
        {
         "hoverinfo": "text",
         "marker": {
          "color": "rgb(61,153,112)"
         },
         "mode": "lines",
         "text": [
          "did_again_it_whoops_challenged",
          "",
          "",
          "did_anything_yep_badge_inviting"
         ],
         "type": "scatter",
         "x": [
          0,
          0.6143532899237103,
          0.6143532899237103,
          0
         ],
         "xaxis": "x",
         "y": [
          -5,
          -5,
          -15,
          -15
         ],
         "yaxis": "y"
        },
        {
         "hoverinfo": "text",
         "marker": {
          "color": "rgb(255,65,54)"
         },
         "mode": "lines",
         "text": [
          "what_can_about_nita_ideal",
          "",
          "",
          "what_we_else_do_can"
         ],
         "type": "scatter",
         "x": [
          0,
          0.576091331954868,
          0.576091331954868,
          0
         ],
         "xaxis": "x",
         "y": [
          -35,
          -35,
          -45,
          -45
         ],
         "yaxis": "y"
        },
        {
         "hoverinfo": "text",
         "marker": {
          "color": "rgb(255,65,54)"
         },
         "mode": "lines",
         "text": [
          "what_want_you_here_marilisa",
          "",
          "",
          "what_we_else_do_can"
         ],
         "type": "scatter",
         "x": [
          0,
          0.7393193624562966,
          0.7393193624562966,
          0.576091331954868
         ],
         "xaxis": "x",
         "y": [
          -25,
          -25,
          -40,
          -40
         ],
         "yaxis": "y"
        },
        {
         "hoverinfo": "text",
         "marker": {
          "color": "rgb(255,65,54)"
         },
         "mode": "lines",
         "text": [
          "what_want_you_here_marilisa",
          "",
          "",
          "can_fortunata_successfully_we_here"
         ],
         "type": "scatter",
         "x": [
          0.7393193624562966,
          0.8327131461553073,
          0.8327131461553073,
          0
         ],
         "xaxis": "x",
         "y": [
          -32.5,
          -32.5,
          -55,
          -55
         ],
         "yaxis": "y"
        },
        {
         "hoverinfo": "text",
         "marker": {
          "color": "rgb(0,116,217)"
         },
         "mode": "lines",
         "text": [
          "what_want_you_here_marilisa",
          "",
          "",
          "can_fortunata_successfully_we_here"
         ],
         "type": "scatter",
         "x": [
          0.6143532899237103,
          1.1482628304005058,
          1.1482628304005058,
          0.8327131461553073
         ],
         "xaxis": "x",
         "y": [
          -10,
          -10,
          -43.75,
          -43.75
         ],
         "yaxis": "y"
        },
        {
         "hoverinfo": "text",
         "marker": {
          "color": "rgb(35,205,205)"
         },
         "mode": "lines",
         "text": [
          "me_let_know_want_if",
          "",
          "",
          "let_me_want_know_what"
         ],
         "type": "scatter",
         "x": [
          0,
          0.25126219006152306,
          0.25126219006152306,
          0
         ],
         "xaxis": "x",
         "y": [
          -65,
          -65,
          -75,
          -75
         ],
         "yaxis": "y"
        },
        {
         "hoverinfo": "text",
         "marker": {
          "color": "rgb(35,205,205)"
         },
         "mode": "lines",
         "text": [
          "me_let_know_want_if",
          "",
          "",
          "let_me_know_please_help"
         ],
         "type": "scatter",
         "x": [
          0.25126219006152306,
          0.38672272185718837,
          0.38672272185718837,
          0
         ],
         "xaxis": "x",
         "y": [
          -70,
          -70,
          -85,
          -85
         ],
         "yaxis": "y"
        },
        {
         "hoverinfo": "text",
         "marker": {
          "color": "rgb(35,205,205)"
         },
         "mode": "lines",
         "text": [
          "me_let_know_want_if",
          "",
          "",
          "when_let_soon_me_know"
         ],
         "type": "scatter",
         "x": [
          0.38672272185718837,
          0.6724776980001107,
          0.6724776980001107,
          0
         ],
         "xaxis": "x",
         "y": [
          -77.5,
          -77.5,
          -95,
          -95
         ],
         "yaxis": "y"
        },
        {
         "hoverinfo": "text",
         "marker": {
          "color": "rgb(0,116,217)"
         },
         "mode": "lines",
         "text": [
          "me_let_know_want_if",
          "",
          "",
          "when_let_soon_me_know"
         ],
         "type": "scatter",
         "x": [
          1.1482628304005058,
          1.3227933408350492,
          1.3227933408350492,
          0.6724776980001107
         ],
         "xaxis": "x",
         "y": [
          -26.875,
          -26.875,
          -86.25,
          -86.25
         ],
         "yaxis": "y"
        },
        {
         "hoverinfo": "text",
         "marker": {
          "color": "rgb(133,20,75)"
         },
         "mode": "lines",
         "text": [
          "lunch_sometime_let_week_lets",
          "",
          "",
          "lunch_wsj_monday_breakfast_maybe"
         ],
         "type": "scatter",
         "x": [
          0,
          0.2487221093392311,
          0.2487221093392311,
          0
         ],
         "xaxis": "x",
         "y": [
          -105,
          -105,
          -115,
          -115
         ],
         "yaxis": "y"
        },
        {
         "hoverinfo": "text",
         "marker": {
          "color": "rgb(255,220,0)"
         },
         "mode": "lines",
         "text": [
          "venk_ablt_tuesday_like_22nd",
          "",
          "",
          "dinner_or_cook_monday_night"
         ],
         "type": "scatter",
         "x": [
          0,
          0.9020095462022228,
          0.9020095462022228,
          0
         ],
         "xaxis": "x",
         "y": [
          -125,
          -125,
          -135,
          -135
         ],
         "yaxis": "y"
        },
        {
         "hoverinfo": "text",
         "marker": {
          "color": "rgb(255,220,0)"
         },
         "mode": "lines",
         "text": [
          "tuesday_pm_monday_friday_pst",
          "",
          "",
          "original_message_2001_sent_person"
         ],
         "type": "scatter",
         "x": [
          0,
          0.7358188365586936,
          0.7358188365586936,
          0
         ],
         "xaxis": "x",
         "y": [
          -145,
          -145,
          -155,
          -155
         ],
         "yaxis": "y"
        },
        {
         "hoverinfo": "text",
         "marker": {
          "color": "rgb(255,220,0)"
         },
         "mode": "lines",
         "text": [
          "tuesday_pm_monday_friday_pst",
          "",
          "",
          "original_message_2001_sent_person"
         ],
         "type": "scatter",
         "x": [
          0.9020095462022228,
          0.9270993395025963,
          0.9270993395025963,
          0.7358188365586936
         ],
         "xaxis": "x",
         "y": [
          -130,
          -130,
          -150,
          -150
         ],
         "yaxis": "y"
        },
        {
         "hoverinfo": "text",
         "marker": {
          "color": "rgb(255,220,0)"
         },
         "mode": "lines",
         "text": [
          "meeting_board_11_meet_00",
          "",
          "",
          "meeting_person_suku_face_met"
         ],
         "type": "scatter",
         "x": [
          0,
          0.49097645516402255,
          0.49097645516402255,
          0
         ],
         "xaxis": "x",
         "y": [
          -165,
          -165,
          -175,
          -175
         ],
         "yaxis": "y"
        },
        {
         "hoverinfo": "text",
         "marker": {
          "color": "rgb(255,220,0)"
         },
         "mode": "lines",
         "text": [
          "meeting_board_11_meet_00",
          "",
          "",
          "meeting_person_suku_face_met"
         ],
         "type": "scatter",
         "x": [
          0.9270993395025963,
          0.9966296153166416,
          0.9966296153166416,
          0.49097645516402255
         ],
         "xaxis": "x",
         "y": [
          -140,
          -140,
          -170,
          -170
         ],
         "yaxis": "y"
        },
        {
         "hoverinfo": "text",
         "marker": {
          "color": "rgb(40,35,35)"
         },
         "mode": "lines",
         "text": [
          "training_ppt_comfortable_richard_person",
          "",
          "",
          "training_week_confirm_scheduled_suggested"
         ],
         "type": "scatter",
         "x": [
          0,
          0.36901804404938277,
          0.36901804404938277,
          0
         ],
         "xaxis": "x",
         "y": [
          -185,
          -185,
          -195,
          -195
         ],
         "yaxis": "y"
        },
        {
         "hoverinfo": "text",
         "marker": {
          "color": "rgb(0,116,217)"
         },
         "mode": "lines",
         "text": [
          "training_ppt_comfortable_richard_person",
          "",
          "",
          "demo_demos_we_presentation_show"
         ],
         "type": "scatter",
         "x": [
          0.9966296153166416,
          1.1531384224628916,
          1.1531384224628916,
          0.36901804404938277
         ],
         "xaxis": "x",
         "y": [
          -155,
          -155,
          -190,
          -190
         ],
         "yaxis": "y"
        },
        {
         "hoverinfo": "text",
         "marker": {
          "color": "rgb(61,153,112)"
         },
         "mode": "lines",
         "text": [
          "demo_inbursa_spoke_person_demos",
          "",
          "",
          "demo_demos_presentation_we_should"
         ],
         "type": "scatter",
         "x": [
          0,
          0.3506156757076426,
          0.3506156757076426,
          0
         ],
         "xaxis": "x",
         "y": [
          -205,
          -205,
          -215,
          -215
         ],
         "yaxis": "y"
        },
        {
         "hoverinfo": "text",
         "marker": {
          "color": "rgb(255,65,54)"
         },
         "mode": "lines",
         "text": [
          "presentation_slides_slide_presentations_powerpoint",
          "",
          "",
          "presentation_presentations_audience_person_professionalism"
         ],
         "type": "scatter",
         "x": [
          0,
          0.47559972553859287,
          0.47559972553859287,
          0
         ],
         "xaxis": "x",
         "y": [
          -225,
          -225,
          -235,
          -235
         ],
         "yaxis": "y"
        },
        {
         "hoverinfo": "text",
         "marker": {
          "color": "rgb(255,65,54)"
         },
         "mode": "lines",
         "text": [
          "presentation_slides_slide_presentations_powerpoint",
          "",
          "",
          "prakash_dci_salesforce_study_dilligence"
         ],
         "type": "scatter",
         "x": [
          0.47559972553859287,
          0.9336317990882365,
          0.9336317990882365,
          0
         ],
         "xaxis": "x",
         "y": [
          -230,
          -230,
          -245,
          -245
         ],
         "yaxis": "y"
        },
        {
         "hoverinfo": "text",
         "marker": {
          "color": "rgb(0,116,217)"
         },
         "mode": "lines",
         "text": [
          "presentation_slides_slide_presentations_powerpoint",
          "",
          "",
          "prakash_dci_salesforce_study_dilligence"
         ],
         "type": "scatter",
         "x": [
          0.3506156757076426,
          1.126931237347287,
          1.126931237347287,
          0.9336317990882365
         ],
         "xaxis": "x",
         "y": [
          -210,
          -210,
          -237.5,
          -237.5
         ],
         "yaxis": "y"
        },
        {
         "hoverinfo": "text",
         "marker": {
          "color": "rgb(0,116,217)"
         },
         "mode": "lines",
         "text": [
          "presentation_slides_slide_presentations_powerpoint",
          "",
          "",
          "prakash_dci_salesforce_study_dilligence"
         ],
         "type": "scatter",
         "x": [
          1.1531384224628916,
          1.1697115497489958,
          1.1697115497489958,
          1.126931237347287
         ],
         "xaxis": "x",
         "y": [
          -172.5,
          -172.5,
          -223.75,
          -223.75
         ],
         "yaxis": "y"
        },
        {
         "hoverinfo": "text",
         "marker": {
          "color": "rgb(0,116,217)"
         },
         "mode": "lines",
         "text": [
          "presentation_slides_slide_presentations_powerpoint",
          "",
          "",
          "prakash_dci_salesforce_study_dilligence"
         ],
         "type": "scatter",
         "x": [
          0.2487221093392311,
          1.260844228723741,
          1.260844228723741,
          1.1697115497489958
         ],
         "xaxis": "x",
         "y": [
          -110,
          -110,
          -198.125,
          -198.125
         ],
         "yaxis": "y"
        },
        {
         "hoverinfo": "text",
         "marker": {
          "color": "rgb(35,205,205)"
         },
         "mode": "lines",
         "text": [
          "asap_please_pls_advance_advise",
          "",
          "",
          "please_convenience_leave_ahead_yourself"
         ],
         "type": "scatter",
         "x": [
          0,
          0.7505582911558193,
          0.7505582911558193,
          0
         ],
         "xaxis": "x",
         "y": [
          -255,
          -255,
          -265,
          -265
         ],
         "yaxis": "y"
        },
        {
         "hoverinfo": "text",
         "marker": {
          "color": "rgb(61,153,112)"
         },
         "mode": "lines",
         "text": [
          "needful_needfull_please_rajeev_ravikumar",
          "",
          "",
          "rajeev_fountain_optimizing_kyocera_cola"
         ],
         "type": "scatter",
         "x": [
          0,
          0.8085945903075299,
          0.8085945903075299,
          0
         ],
         "xaxis": "x",
         "y": [
          -275,
          -275,
          -285,
          -285
         ],
         "yaxis": "y"
        },
        {
         "hoverinfo": "text",
         "marker": {
          "color": "rgb(0,116,217)"
         },
         "mode": "lines",
         "text": [
          "needful_needfull_please_rajeev_ravikumar",
          "",
          "",
          "rajeev_fountain_optimizing_kyocera_cola"
         ],
         "type": "scatter",
         "x": [
          0.7505582911558193,
          1.0428142385495933,
          1.0428142385495933,
          0.8085945903075299
         ],
         "xaxis": "x",
         "y": [
          -260,
          -260,
          -280,
          -280
         ],
         "yaxis": "y"
        },
        {
         "hoverinfo": "text",
         "marker": {
          "color": "rgb(255,65,54)"
         },
         "mode": "lines",
         "text": [
          "builds_build_cm_moment_blvd",
          "",
          "",
          "build_today_srik_willl_mai"
         ],
         "type": "scatter",
         "x": [
          0,
          0.6562702988574866,
          0.6562702988574866,
          0
         ],
         "xaxis": "x",
         "y": [
          -295,
          -295,
          -305,
          -305
         ],
         "yaxis": "y"
        },
        {
         "hoverinfo": "text",
         "marker": {
          "color": "rgb(255,65,54)"
         },
         "mode": "lines",
         "text": [
          "builds_build_cm_moment_blvd",
          "",
          "",
          "wilhan_build_please_0titanium_baseline"
         ],
         "type": "scatter",
         "x": [
          0.6562702988574866,
          0.7574127504253755,
          0.7574127504253755,
          0
         ],
         "xaxis": "x",
         "y": [
          -300,
          -300,
          -315,
          -315
         ],
         "yaxis": "y"
        },
        {
         "hoverinfo": "text",
         "marker": {
          "color": "rgb(0,116,217)"
         },
         "mode": "lines",
         "text": [
          "builds_build_cm_moment_blvd",
          "",
          "",
          "wilhan_build_please_0titanium_baseline"
         ],
         "type": "scatter",
         "x": [
          1.0428142385495933,
          1.1694959772848956,
          1.1694959772848956,
          0.7574127504253755
         ],
         "xaxis": "x",
         "y": [
          -270,
          -270,
          -307.5,
          -307.5
         ],
         "yaxis": "y"
        },
        {
         "hoverinfo": "text",
         "marker": {
          "color": "rgb(35,205,205)"
         },
         "mode": "lines",
         "text": [
          "investigation_errant_ikon_investigations_analyze",
          "",
          "",
          "javascript_supported_preliminary_supports_investigation"
         ],
         "type": "scatter",
         "x": [
          0,
          0.8600799813621042,
          0.8600799813621042,
          0
         ],
         "xaxis": "x",
         "y": [
          -325,
          -325,
          -335,
          -335
         ],
         "yaxis": "y"
        },
        {
         "hoverinfo": "text",
         "marker": {
          "color": "rgb(133,20,75)"
         },
         "mode": "lines",
         "text": [
          "page_frame_url_frames_yes",
          "",
          "",
          "head_html_color_font_tag"
         ],
         "type": "scatter",
         "x": [
          0,
          0.7533816707493338,
          0.7533816707493338,
          0
         ],
         "xaxis": "x",
         "y": [
          -355,
          -355,
          -365,
          -365
         ],
         "yaxis": "y"
        },
        {
         "hoverinfo": "text",
         "marker": {
          "color": "rgb(133,20,75)"
         },
         "mode": "lines",
         "text": [
          "jsp_servlet_servlets_page_bean",
          "",
          "",
          "head_html_color_font_tag"
         ],
         "type": "scatter",
         "x": [
          0,
          0.7869749416287813,
          0.7869749416287813,
          0.7533816707493338
         ],
         "xaxis": "x",
         "y": [
          -345,
          -345,
          -360,
          -360
         ],
         "yaxis": "y"
        },
        {
         "hoverinfo": "text",
         "marker": {
          "color": "rgb(133,20,75)"
         },
         "mode": "lines",
         "text": [
          "jsp_servlet_servlets_page_bean",
          "",
          "",
          "component_identification_id_components_duplicate"
         ],
         "type": "scatter",
         "x": [
          0.7869749416287813,
          0.8886597845887022,
          0.8886597845887022,
          0
         ],
         "xaxis": "x",
         "y": [
          -352.5,
          -352.5,
          -375,
          -375
         ],
         "yaxis": "y"
        },
        {
         "hoverinfo": "text",
         "marker": {
          "color": "rgb(0,116,217)"
         },
         "mode": "lines",
         "text": [
          "jsp_servlet_servlets_page_bean",
          "",
          "",
          "component_identification_id_components_duplicate"
         ],
         "type": "scatter",
         "x": [
          0.8600799813621042,
          1.038149693995081,
          1.038149693995081,
          0.8886597845887022
         ],
         "xaxis": "x",
         "y": [
          -330,
          -330,
          -363.75,
          -363.75
         ],
         "yaxis": "y"
        },
        {
         "hoverinfo": "text",
         "marker": {
          "color": "rgb(255,220,0)"
         },
         "mode": "lines",
         "text": [
          "oca_cab_application_oaoo_osa",
          "",
          "",
          "xml_xsl_xslt_cntr_tags"
         ],
         "type": "scatter",
         "x": [
          0,
          0.8590825540082986,
          0.8590825540082986,
          0
         ],
         "xaxis": "x",
         "y": [
          -385,
          -385,
          -395,
          -395
         ],
         "yaxis": "y"
        },
        {
         "hoverinfo": "text",
         "marker": {
          "color": "rgb(255,220,0)"
         },
         "mode": "lines",
         "text": [
          "jar_classpath_path_file_jsdk_home",
          "",
          "",
          "revision_templates_applframe_cvs_devel"
         ],
         "type": "scatter",
         "x": [
          0,
          0.9155815162651929,
          0.9155815162651929,
          0
         ],
         "xaxis": "x",
         "y": [
          -405,
          -405,
          -415,
          -415
         ],
         "yaxis": "y"
        },
        {
         "hoverinfo": "text",
         "marker": {
          "color": "rgb(255,220,0)"
         },
         "mode": "lines",
         "text": [
          "jar_classpath_path_file_jsdk_home",
          "",
          "",
          "revision_templates_applframe_cvs_devel"
         ],
         "type": "scatter",
         "x": [
          0.8590825540082986,
          0.9497572196806893,
          0.9497572196806893,
          0.9155815162651929
         ],
         "xaxis": "x",
         "y": [
          -390,
          -390,
          -410,
          -410
         ],
         "yaxis": "y"
        },
        {
         "hoverinfo": "text",
         "marker": {
          "color": "rgb(40,35,35)"
         },
         "mode": "lines",
         "text": [
          "consultation_java_sorry_search_ui",
          "",
          "",
          "jprobe_j2me_2002_17_june"
         ],
         "type": "scatter",
         "x": [
          0,
          0.8994569023504574,
          0.8994569023504574,
          0
         ],
         "xaxis": "x",
         "y": [
          -425,
          -425,
          -435,
          -435
         ],
         "yaxis": "y"
        },
        {
         "hoverinfo": "text",
         "marker": {
          "color": "rgb(0,116,217)"
         },
         "mode": "lines",
         "text": [
          "consultation_java_sorry_search_ui",
          "",
          "",
          "jprobe_j2me_2002_17_june"
         ],
         "type": "scatter",
         "x": [
          0.9497572196806893,
          1.0088913630118828,
          1.0088913630118828,
          0.8994569023504574
         ],
         "xaxis": "x",
         "y": [
          -400,
          -400,
          -430,
          -430
         ],
         "yaxis": "y"
        },
        {
         "hoverinfo": "text",
         "marker": {
          "color": "rgb(0,116,217)"
         },
         "mode": "lines",
         "text": [
          "consultation_java_sorry_search_ui",
          "",
          "",
          "jprobe_j2me_2002_17_june"
         ],
         "type": "scatter",
         "x": [
          1.038149693995081,
          1.0857782922051349,
          1.0857782922051349,
          1.0088913630118828
         ],
         "xaxis": "x",
         "y": [
          -346.875,
          -346.875,
          -415,
          -415
         ],
         "yaxis": "y"
        },
        {
         "hoverinfo": "text",
         "marker": {
          "color": "rgb(61,153,112)"
         },
         "mode": "lines",
         "text": [
          "validation_validations_side_client_menu",
          "",
          "",
          "cookie_cookies_usercookie_appreciated_login"
         ],
         "type": "scatter",
         "x": [
          0,
          0.9451461172983239,
          0.9451461172983239,
          0
         ],
         "xaxis": "x",
         "y": [
          -445,
          -445,
          -455,
          -455
         ],
         "yaxis": "y"
        },
        {
         "hoverinfo": "text",
         "marker": {
          "color": "rgb(61,153,112)"
         },
         "mode": "lines",
         "text": [
          "ie_browser_aligned_buttons_ignore",
          "",
          "",
          "upgrade_upgrades_completing_rational_eligible"
         ],
         "type": "scatter",
         "x": [
          0,
          0.8666824465798635,
          0.8666824465798635,
          0
         ],
         "xaxis": "x",
         "y": [
          -465,
          -465,
          -475,
          -475
         ],
         "yaxis": "y"
        },
        {
         "hoverinfo": "text",
         "marker": {
          "color": "rgb(61,153,112)"
         },
         "mode": "lines",
         "text": [
          "ie_browser_aligned_buttons_ignore",
          "",
          "",
          "upgrade_upgrades_completing_rational_eligible"
         ],
         "type": "scatter",
         "x": [
          0.9451461172983239,
          0.9806246274146374,
          0.9806246274146374,
          0.8666824465798635
         ],
         "xaxis": "x",
         "y": [
          -450,
          -450,
          -470,
          -470
         ],
         "yaxis": "y"
        },
        {
         "hoverinfo": "text",
         "marker": {
          "color": "rgb(255,65,54)"
         },
         "mode": "lines",
         "text": [
          "organs_mat_does_spokesperson_harmful",
          "",
          "",
          "release_point_queued_close_echo"
         ],
         "type": "scatter",
         "x": [
          0,
          0.866319257220801,
          0.866319257220801,
          0
         ],
         "xaxis": "x",
         "y": [
          -485,
          -485,
          -495,
          -495
         ],
         "yaxis": "y"
        },
        {
         "hoverinfo": "text",
         "marker": {
          "color": "rgb(255,65,54)"
         },
         "mode": "lines",
         "text": [
          "organs_mat_does_spokesperson_harmful",
          "",
          "",
          "installer_installshield_install_options_destination"
         ],
         "type": "scatter",
         "x": [
          0.866319257220801,
          0.9021946760090332,
          0.9021946760090332,
          0
         ],
         "xaxis": "x",
         "y": [
          -490,
          -490,
          -505,
          -505
         ],
         "yaxis": "y"
        },
        {
         "hoverinfo": "text",
         "marker": {
          "color": "rgb(0,116,217)"
         },
         "mode": "lines",
         "text": [
          "organs_mat_does_spokesperson_harmful",
          "",
          "",
          "installer_installshield_install_options_destination"
         ],
         "type": "scatter",
         "x": [
          0.9806246274146374,
          1.0025328442161419,
          1.0025328442161419,
          0.9021946760090332
         ],
         "xaxis": "x",
         "y": [
          -460,
          -460,
          -497.5,
          -497.5
         ],
         "yaxis": "y"
        },
        {
         "hoverinfo": "text",
         "marker": {
          "color": "rgb(35,205,205)"
         },
         "mode": "lines",
         "text": [
          "reams_ship_order_easier_shipping",
          "",
          "",
          "expense_report_records_complete_return"
         ],
         "type": "scatter",
         "x": [
          0,
          0.7959143652020867,
          0.7959143652020867,
          0
         ],
         "xaxis": "x",
         "y": [
          -515,
          -515,
          -525,
          -525
         ],
         "yaxis": "y"
        },
        {
         "hoverinfo": "text",
         "marker": {
          "color": "rgb(35,205,205)"
         },
         "mode": "lines",
         "text": [
          "reams_ship_order_easier_shipping",
          "",
          "",
          "information_report_yospace_requests_collateral"
         ],
         "type": "scatter",
         "x": [
          0.7959143652020867,
          0.8520438648914082,
          0.8520438648914082,
          0
         ],
         "xaxis": "x",
         "y": [
          -520,
          -520,
          -535,
          -535
         ],
         "yaxis": "y"
        },
        {
         "hoverinfo": "text",
         "marker": {
          "color": "rgb(0,116,217)"
         },
         "mode": "lines",
         "text": [
          "reams_ship_order_easier_shipping",
          "",
          "",
          "information_report_yospace_requests_collateral"
         ],
         "type": "scatter",
         "x": [
          1.0025328442161419,
          1.0291348645390668,
          1.0291348645390668,
          0.8520438648914082
         ],
         "xaxis": "x",
         "y": [
          -478.75,
          -478.75,
          -527.5,
          -527.5
         ],
         "yaxis": "y"
        },
        {
         "hoverinfo": "text",
         "marker": {
          "color": "rgb(61,153,112)"
         },
         "mode": "lines",
         "text": [
          "hosting_hosted_bluedomino_verio_audit",
          "",
          "",
          "herbal_they_crowd_natural_men"
         ],
         "type": "scatter",
         "x": [
          0,
          0.9321198327867085,
          0.9321198327867085,
          0
         ],
         "xaxis": "x",
         "y": [
          -545,
          -545,
          -555,
          -555
         ],
         "yaxis": "y"
        },
        {
         "hoverinfo": "text",
         "marker": {
          "color": "rgb(61,153,112)"
         },
         "mode": "lines",
         "text": [
          "group_solicit_advice_anyone_thus",
          "",
          "",
          "show_breakfast_tour_book_exhibitors"
         ],
         "type": "scatter",
         "x": [
          0,
          0.8980409694624811,
          0.8980409694624811,
          0
         ],
         "xaxis": "x",
         "y": [
          -565,
          -565,
          -575,
          -575
         ],
         "yaxis": "y"
        },
        {
         "hoverinfo": "text",
         "marker": {
          "color": "rgb(61,153,112)"
         },
         "mode": "lines",
         "text": [
          "pricing_price_scope_prices_situations",
          "",
          "",
          "fleet_pilot_leasing_pilots_boss"
         ],
         "type": "scatter",
         "x": [
          0,
          0.8619424732512921,
          0.8619424732512921,
          0
         ],
         "xaxis": "x",
         "y": [
          -585,
          -585,
          -595,
          -595
         ],
         "yaxis": "y"
        },
        {
         "hoverinfo": "text",
         "marker": {
          "color": "rgb(61,153,112)"
         },
         "mode": "lines",
         "text": [
          "pricing_price_scope_prices_situations",
          "",
          "",
          "fleet_pilot_leasing_pilots_boss"
         ],
         "type": "scatter",
         "x": [
          0.8980409694624811,
          0.9462913321496819,
          0.9462913321496819,
          0.8619424732512921
         ],
         "xaxis": "x",
         "y": [
          -570,
          -570,
          -590,
          -590
         ],
         "yaxis": "y"
        },
        {
         "hoverinfo": "text",
         "marker": {
          "color": "rgb(61,153,112)"
         },
         "mode": "lines",
         "text": [
          "pricing_price_scope_prices_situations",
          "",
          "",
          "fleet_pilot_leasing_pilots_boss"
         ],
         "type": "scatter",
         "x": [
          0.9321198327867085,
          0.960236242846317,
          0.960236242846317,
          0.9462913321496819
         ],
         "xaxis": "x",
         "y": [
          -550,
          -550,
          -580,
          -580
         ],
         "yaxis": "y"
        },
        {
         "hoverinfo": "text",
         "marker": {
          "color": "rgb(61,153,112)"
         },
         "mode": "lines",
         "text": [
          "sun_sizing_event_retail_document",
          "",
          "",
          "hp_sizing_00_ux_lab"
         ],
         "type": "scatter",
         "x": [
          0,
          0.8368883573160268,
          0.8368883573160268,
          0
         ],
         "xaxis": "x",
         "y": [
          -605,
          -605,
          -615,
          -615
         ],
         "yaxis": "y"
        },
        {
         "hoverinfo": "text",
         "marker": {
          "color": "rgb(61,153,112)"
         },
         "mode": "lines",
         "text": [
          "sun_sizing_event_retail_document",
          "",
          "",
          "hp_sizing_00_ux_lab"
         ],
         "type": "scatter",
         "x": [
          0.960236242846317,
          0.9734311103132229,
          0.9734311103132229,
          0.8368883573160268
         ],
         "xaxis": "x",
         "y": [
          -565,
          -565,
          -610,
          -610
         ],
         "yaxis": "y"
        },
        {
         "hoverinfo": "text",
         "marker": {
          "color": "rgb(61,153,112)"
         },
         "mode": "lines",
         "text": [
          "interview_phone_tv_him_candidate",
          "",
          "",
          "simplest_harder_subjective_easily_see"
         ],
         "type": "scatter",
         "x": [
          0,
          0.9442395685703356,
          0.9442395685703356,
          0
         ],
         "xaxis": "x",
         "y": [
          -625,
          -625,
          -635,
          -635
         ],
         "yaxis": "y"
        },
        {
         "hoverinfo": "text",
         "marker": {
          "color": "rgb(61,153,112)"
         },
         "mode": "lines",
         "text": [
          "interview_phone_tv_him_candidate",
          "",
          "",
          "simplest_harder_subjective_easily_see"
         ],
         "type": "scatter",
         "x": [
          0.9734311103132229,
          0.9915965635328872,
          0.9915965635328872,
          0.9442395685703356
         ],
         "xaxis": "x",
         "y": [
          -587.5,
          -587.5,
          -630,
          -630
         ],
         "yaxis": "y"
        },
        {
         "hoverinfo": "text",
         "marker": {
          "color": "rgb(0,116,217)"
         },
         "mode": "lines",
         "text": [
          "interview_phone_tv_him_candidate",
          "",
          "",
          "simplest_harder_subjective_easily_see"
         ],
         "type": "scatter",
         "x": [
          1.0291348645390668,
          1.0515712305223335,
          1.0515712305223335,
          0.9915965635328872
         ],
         "xaxis": "x",
         "y": [
          -503.125,
          -503.125,
          -608.75,
          -608.75
         ],
         "yaxis": "y"
        },
        {
         "hoverinfo": "text",
         "marker": {
          "color": "rgb(255,65,54)"
         },
         "mode": "lines",
         "text": [
          "wrong_am_tell_something_deserve",
          "",
          "",
          "asks_sheppard_said_rabbi_bartender"
         ],
         "type": "scatter",
         "x": [
          0,
          0.9201418640336989,
          0.9201418640336989,
          0
         ],
         "xaxis": "x",
         "y": [
          -645,
          -645,
          -655,
          -655
         ],
         "yaxis": "y"
        },
        {
         "hoverinfo": "text",
         "marker": {
          "color": "rgb(255,65,54)"
         },
         "mode": "lines",
         "text": [
          "favor_me_favour_expidite_please",
          "",
          "",
          "tickets_ticket_travel_territorism_unused"
         ],
         "type": "scatter",
         "x": [
          0,
          0.9144226407913393,
          0.9144226407913393,
          0
         ],
         "xaxis": "x",
         "y": [
          -675,
          -675,
          -685,
          -685
         ],
         "yaxis": "y"
        },
        {
         "hoverinfo": "text",
         "marker": {
          "color": "rgb(255,65,54)"
         },
         "mode": "lines",
         "text": [
          "card_lost_gets_angus_when",
          "",
          "",
          "tickets_ticket_travel_territorism_unused"
         ],
         "type": "scatter",
         "x": [
          0,
          0.9472850237399901,
          0.9472850237399901,
          0.9144226407913393
         ],
         "xaxis": "x",
         "y": [
          -665,
          -665,
          -680,
          -680
         ],
         "yaxis": "y"
        },
        {
         "hoverinfo": "text",
         "marker": {
          "color": "rgb(255,65,54)"
         },
         "mode": "lines",
         "text": [
          "card_lost_gets_angus_when",
          "",
          "",
          "miyuki_utf8_automation_conversion_already"
         ],
         "type": "scatter",
         "x": [
          0.9472850237399901,
          0.9803094019746729,
          0.9803094019746729,
          0
         ],
         "xaxis": "x",
         "y": [
          -672.5,
          -672.5,
          -695,
          -695
         ],
         "yaxis": "y"
        },
        {
         "hoverinfo": "text",
         "marker": {
          "color": "rgb(255,65,54)"
         },
         "mode": "lines",
         "text": [
          "card_lost_gets_angus_when",
          "",
          "",
          "miyuki_utf8_automation_conversion_already"
         ],
         "type": "scatter",
         "x": [
          0.9201418640336989,
          0.9868180103989425,
          0.9868180103989425,
          0.9803094019746729
         ],
         "xaxis": "x",
         "y": [
          -650,
          -650,
          -683.75,
          -683.75
         ],
         "yaxis": "y"
        },
        {
         "hoverinfo": "text",
         "marker": {
          "color": "rgb(0,116,217)"
         },
         "mode": "lines",
         "text": [
          "card_lost_gets_angus_when",
          "",
          "",
          "miyuki_utf8_automation_conversion_already"
         ],
         "type": "scatter",
         "x": [
          1.0515712305223335,
          1.0660635272092123,
          1.0660635272092123,
          0.9868180103989425
         ],
         "xaxis": "x",
         "y": [
          -555.9375,
          -555.9375,
          -666.875,
          -666.875
         ],
         "yaxis": "y"
        },
        {
         "hoverinfo": "text",
         "marker": {
          "color": "rgb(35,205,205)"
         },
         "mode": "lines",
         "text": [
          "tax_taxes_b59h_block_poll",
          "",
          "",
          "1fc7nw_babycenter_le_ce_baby"
         ],
         "type": "scatter",
         "x": [
          0,
          0.7392566526700634,
          0.7392566526700634,
          0
         ],
         "xaxis": "x",
         "y": [
          -705,
          -705,
          -715,
          -715
         ],
         "yaxis": "y"
        },
        {
         "hoverinfo": "text",
         "marker": {
          "color": "rgb(133,20,75)"
         },
         "mode": "lines",
         "text": [
          "font_800_fastest_longer_serif",
          "",
          "",
          "bandwidth_cable_traffic_cut_crawl"
         ],
         "type": "scatter",
         "x": [
          0,
          0.9624436913335941,
          0.9624436913335941,
          0
         ],
         "xaxis": "x",
         "y": [
          -725,
          -725,
          -735,
          -735
         ],
         "yaxis": "y"
        },
        {
         "hoverinfo": "text",
         "marker": {
          "color": "rgb(133,20,75)"
         },
         "mode": "lines",
         "text": [
          "font_800_fastest_longer_serif",
          "",
          "",
          "dance_song_euro_tm_filmi"
         ],
         "type": "scatter",
         "x": [
          0.9624436913335941,
          0.9940418459175674,
          0.9940418459175674,
          0
         ],
         "xaxis": "x",
         "y": [
          -730,
          -730,
          -745,
          -745
         ],
         "yaxis": "y"
        },
        {
         "hoverinfo": "text",
         "marker": {
          "color": "rgb(255,220,0)"
         },
         "mode": "lines",
         "text": [
          "location_presentations_rountine_pic_unheard",
          "",
          "",
          "location_8039_era_strategic_airtran"
         ],
         "type": "scatter",
         "x": [
          0,
          0.8473388640810335,
          0.8473388640810335,
          0
         ],
         "xaxis": "x",
         "y": [
          -755,
          -755,
          -765,
          -765
         ],
         "yaxis": "y"
        },
        {
         "hoverinfo": "text",
         "marker": {
          "color": "rgb(255,220,0)"
         },
         "mode": "lines",
         "text": [
          "aether_wireless_753_770_via",
          "",
          "",
          "blackberry_handheld_net_www_wireless"
         ],
         "type": "scatter",
         "x": [
          0,
          0.8962639277861225,
          0.8962639277861225,
          0
         ],
         "xaxis": "x",
         "y": [
          -775,
          -775,
          -785,
          -785
         ],
         "yaxis": "y"
        },
        {
         "hoverinfo": "text",
         "marker": {
          "color": "rgb(255,220,0)"
         },
         "mode": "lines",
         "text": [
          "aether_wireless_753_770_via",
          "",
          "",
          "nokia_october_2002_22_phone"
         ],
         "type": "scatter",
         "x": [
          0.8962639277861225,
          0.9356758167866925,
          0.9356758167866925,
          0
         ],
         "xaxis": "x",
         "y": [
          -780,
          -780,
          -795,
          -795
         ],
         "yaxis": "y"
        },
        {
         "hoverinfo": "text",
         "marker": {
          "color": "rgb(255,220,0)"
         },
         "mode": "lines",
         "text": [
          "aether_wireless_753_770_via",
          "",
          "",
          "nokia_october_2002_22_phone"
         ],
         "type": "scatter",
         "x": [
          0.8473388640810335,
          0.9948117237855112,
          0.9948117237855112,
          0.9356758167866925
         ],
         "xaxis": "x",
         "y": [
          -760,
          -760,
          -787.5,
          -787.5
         ],
         "yaxis": "y"
        },
        {
         "hoverinfo": "text",
         "marker": {
          "color": "rgb(0,116,217)"
         },
         "mode": "lines",
         "text": [
          "aether_wireless_753_770_via",
          "",
          "",
          "nokia_october_2002_22_phone"
         ],
         "type": "scatter",
         "x": [
          0.9940418459175674,
          1.0199457558758669,
          1.0199457558758669,
          0.9948117237855112
         ],
         "xaxis": "x",
         "y": [
          -737.5,
          -737.5,
          -773.75,
          -773.75
         ],
         "yaxis": "y"
        },
        {
         "hoverinfo": "text",
         "marker": {
          "color": "rgb(0,116,217)"
         },
         "mode": "lines",
         "text": [
          "aether_wireless_753_770_via",
          "",
          "",
          "nokia_october_2002_22_phone"
         ],
         "type": "scatter",
         "x": [
          0.7392566526700634,
          1.1209864096063669,
          1.1209864096063669,
          1.0199457558758669
         ],
         "xaxis": "x",
         "y": [
          -710,
          -710,
          -755.625,
          -755.625
         ],
         "yaxis": "y"
        },
        {
         "hoverinfo": "text",
         "marker": {
          "color": "rgb(0,116,217)"
         },
         "mode": "lines",
         "text": [
          "aether_wireless_753_770_via",
          "",
          "",
          "nokia_october_2002_22_phone"
         ],
         "type": "scatter",
         "x": [
          1.0660635272092123,
          1.12980966687244,
          1.12980966687244,
          1.1209864096063669
         ],
         "xaxis": "x",
         "y": [
          -611.40625,
          -611.40625,
          -732.8125,
          -732.8125
         ],
         "yaxis": "y"
        },
        {
         "hoverinfo": "text",
         "marker": {
          "color": "rgb(40,35,35)"
         },
         "mode": "lines",
         "text": [
          "forwarded_attached_yahoo_note_message",
          "",
          "",
          "laughaway_arya_3307_926_pathria"
         ],
         "type": "scatter",
         "x": [
          0,
          0.8826503271170231,
          0.8826503271170231,
          0
         ],
         "xaxis": "x",
         "y": [
          -815,
          -815,
          -825,
          -825
         ],
         "yaxis": "y"
        },
        {
         "hoverinfo": "text",
         "marker": {
          "color": "rgb(40,35,35)"
         },
         "mode": "lines",
         "text": [
          "content_attachment_disposition_base64_filename",
          "",
          "",
          "laughaway_arya_3307_926_pathria"
         ],
         "type": "scatter",
         "x": [
          0,
          0.9630058061051332,
          0.9630058061051332,
          0.8826503271170231
         ],
         "xaxis": "x",
         "y": [
          -805,
          -805,
          -820,
          -820
         ],
         "yaxis": "y"
        },
        {
         "hoverinfo": "text",
         "marker": {
          "color": "rgb(0,116,217)"
         },
         "mode": "lines",
         "text": [
          "content_attachment_disposition_base64_filename",
          "",
          "",
          "laughaway_arya_3307_926_pathria"
         ],
         "type": "scatter",
         "x": [
          1.12980966687244,
          1.1868283766695673,
          1.1868283766695673,
          0.9630058061051332
         ],
         "xaxis": "x",
         "y": [
          -672.109375,
          -672.109375,
          -812.5,
          -812.5
         ],
         "yaxis": "y"
        },
        {
         "hoverinfo": "text",
         "marker": {
          "color": "rgb(0,116,217)"
         },
         "mode": "lines",
         "text": [
          "content_attachment_disposition_base64_filename",
          "",
          "",
          "laughaway_arya_3307_926_pathria"
         ],
         "type": "scatter",
         "x": [
          1.0857782922051349,
          1.1969236686788358,
          1.1969236686788358,
          1.1868283766695673
         ],
         "xaxis": "x",
         "y": [
          -380.9375,
          -380.9375,
          -742.3046875,
          -742.3046875
         ],
         "yaxis": "y"
        },
        {
         "hoverinfo": "text",
         "marker": {
          "color": "rgb(0,116,217)"
         },
         "mode": "lines",
         "text": [
          "content_attachment_disposition_base64_filename",
          "",
          "",
          "laughaway_arya_3307_926_pathria"
         ],
         "type": "scatter",
         "x": [
          1.1694959772848956,
          1.347062499319087,
          1.347062499319087,
          1.1969236686788358
         ],
         "xaxis": "x",
         "y": [
          -288.75,
          -288.75,
          -561.62109375,
          -561.62109375
         ],
         "yaxis": "y"
        },
        {
         "hoverinfo": "text",
         "marker": {
          "color": "rgb(0,116,217)"
         },
         "mode": "lines",
         "text": [
          "content_attachment_disposition_base64_filename",
          "",
          "",
          "laughaway_arya_3307_926_pathria"
         ],
         "type": "scatter",
         "x": [
          1.260844228723741,
          1.4379860614200495,
          1.4379860614200495,
          1.347062499319087
         ],
         "xaxis": "x",
         "y": [
          -154.0625,
          -154.0625,
          -425.185546875,
          -425.185546875
         ],
         "yaxis": "y"
        },
        {
         "hoverinfo": "text",
         "marker": {
          "color": "rgb(61,153,112)"
         },
         "mode": "lines",
         "text": [
          "test_testing_person_tests_using",
          "",
          "",
          "test_tests_unit_write_code"
         ],
         "type": "scatter",
         "x": [
          0,
          0.5332143079367523,
          0.5332143079367523,
          0
         ],
         "xaxis": "x",
         "y": [
          -845,
          -845,
          -855,
          -855
         ],
         "yaxis": "y"
        },
        {
         "hoverinfo": "text",
         "marker": {
          "color": "rgb(61,153,112)"
         },
         "mode": "lines",
         "text": [
          "stress_test_testing_load_servers",
          "",
          "",
          "test_tests_unit_write_code"
         ],
         "type": "scatter",
         "x": [
          0,
          0.6541077054268669,
          0.6541077054268669,
          0.5332143079367523
         ],
         "xaxis": "x",
         "y": [
          -835,
          -835,
          -850,
          -850
         ],
         "yaxis": "y"
        },
        {
         "hoverinfo": "text",
         "marker": {
          "color": "rgb(61,153,112)"
         },
         "mode": "lines",
         "text": [
          "build_testing_tests_test_sanity",
          "",
          "",
          "qa_testing_test_tests_since"
         ],
         "type": "scatter",
         "x": [
          0,
          0.6850192660978234,
          0.6850192660978234,
          0
         ],
         "xaxis": "x",
         "y": [
          -865,
          -865,
          -875,
          -875
         ],
         "yaxis": "y"
        },
        {
         "hoverinfo": "text",
         "marker": {
          "color": "rgb(61,153,112)"
         },
         "mode": "lines",
         "text": [
          "build_testing_tests_test_sanity",
          "",
          "",
          "qa_testing_test_tests_since"
         ],
         "type": "scatter",
         "x": [
          0.6541077054268669,
          0.7301901173502908,
          0.7301901173502908,
          0.6850192660978234
         ],
         "xaxis": "x",
         "y": [
          -842.5,
          -842.5,
          -870,
          -870
         ],
         "yaxis": "y"
        },
        {
         "hoverinfo": "text",
         "marker": {
          "color": "rgb(255,65,54)"
         },
         "mode": "lines",
         "text": [
          "tasks_development_project_everything_smartly",
          "",
          "",
          "estimate_estimates_time_spent_hours"
         ],
         "type": "scatter",
         "x": [
          0,
          0.7747783191059983,
          0.7747783191059983,
          0
         ],
         "xaxis": "x",
         "y": [
          -895,
          -895,
          -905,
          -905
         ],
         "yaxis": "y"
        },
        {
         "hoverinfo": "text",
         "marker": {
          "color": "rgb(255,65,54)"
         },
         "mode": "lines",
         "text": [
          "we_government_need_think_job",
          "",
          "",
          "possible_it_not_this_whether"
         ],
         "type": "scatter",
         "x": [
          0,
          0.7528372205626238,
          0.7528372205626238,
          0
         ],
         "xaxis": "x",
         "y": [
          -925,
          -925,
          -935,
          -935
         ],
         "yaxis": "y"
        },
        {
         "hoverinfo": "text",
         "marker": {
          "color": "rgb(255,65,54)"
         },
         "mode": "lines",
         "text": [
          "partners_spouse_double_productivity_engage",
          "",
          "",
          "possible_it_not_this_whether"
         ],
         "type": "scatter",
         "x": [
          0,
          0.8274531690434057,
          0.8274531690434057,
          0.7528372205626238
         ],
         "xaxis": "x",
         "y": [
          -915,
          -915,
          -930,
          -930
         ],
         "yaxis": "y"
        },
        {
         "hoverinfo": "text",
         "marker": {
          "color": "rgb(255,65,54)"
         },
         "mode": "lines",
         "text": [
          "partners_spouse_double_productivity_engage",
          "",
          "",
          "possible_it_not_this_whether"
         ],
         "type": "scatter",
         "x": [
          0.7747783191059983,
          0.8712345925470734,
          0.8712345925470734,
          0.8274531690434057
         ],
         "xaxis": "x",
         "y": [
          -900,
          -900,
          -922.5,
          -922.5
         ],
         "yaxis": "y"
        },
        {
         "hoverinfo": "text",
         "marker": {
          "color": "rgb(255,65,54)"
         },
         "mode": "lines",
         "text": [
          "rankings_ease_transition_management_quality",
          "",
          "",
          "team_coach_practices_teams_begged"
         ],
         "type": "scatter",
         "x": [
          0,
          0.8859989694834965,
          0.8859989694834965,
          0
         ],
         "xaxis": "x",
         "y": [
          -945,
          -945,
          -955,
          -955
         ],
         "yaxis": "y"
        },
        {
         "hoverinfo": "text",
         "marker": {
          "color": "rgb(255,65,54)"
         },
         "mode": "lines",
         "text": [
          "rankings_ease_transition_management_quality",
          "",
          "",
          "team_coach_practices_teams_begged"
         ],
         "type": "scatter",
         "x": [
          0.8712345925470734,
          0.8964781347664088,
          0.8964781347664088,
          0.8859989694834965
         ],
         "xaxis": "x",
         "y": [
          -911.25,
          -911.25,
          -950,
          -950
         ],
         "yaxis": "y"
        },
        {
         "hoverinfo": "text",
         "marker": {
          "color": "rgb(255,65,54)"
         },
         "mode": "lines",
         "text": [
          "budget_700k_annually_mktg_agreements",
          "",
          "",
          "team_coach_practices_teams_begged"
         ],
         "type": "scatter",
         "x": [
          0,
          0.9032831923175026,
          0.9032831923175026,
          0.8964781347664088
         ],
         "xaxis": "x",
         "y": [
          -885,
          -885,
          -930.625,
          -930.625
         ],
         "yaxis": "y"
        },
        {
         "hoverinfo": "text",
         "marker": {
          "color": "rgb(35,205,205)"
         },
         "mode": "lines",
         "text": [
          "pair_programming_pairing_xp_pairs",
          "",
          "",
          "teamwork_design_programmers_programmer_favorite"
         ],
         "type": "scatter",
         "x": [
          0,
          0.7886352781939187,
          0.7886352781939187,
          0
         ],
         "xaxis": "x",
         "y": [
          -965,
          -965,
          -975,
          -975
         ],
         "yaxis": "y"
        },
        {
         "hoverinfo": "text",
         "marker": {
          "color": "rgb(35,205,205)"
         },
         "mode": "lines",
         "text": [
          "pair_programming_pairing_xp_pairs",
          "",
          "",
          "vi_programming_coding_gui_learning"
         ],
         "type": "scatter",
         "x": [
          0.7886352781939187,
          0.7934241763368388,
          0.7934241763368388,
          0
         ],
         "xaxis": "x",
         "y": [
          -970,
          -970,
          -985,
          -985
         ],
         "yaxis": "y"
        },
        {
         "hoverinfo": "text",
         "marker": {
          "color": "rgb(0,116,217)"
         },
         "mode": "lines",
         "text": [
          "pair_programming_pairing_xp_pairs",
          "",
          "",
          "vi_programming_coding_gui_learning"
         ],
         "type": "scatter",
         "x": [
          0.9032831923175026,
          1.0185974553245323,
          1.0185974553245323,
          0.7934241763368388
         ],
         "xaxis": "x",
         "y": [
          -907.8125,
          -907.8125,
          -977.5,
          -977.5
         ],
         "yaxis": "y"
        },
        {
         "hoverinfo": "text",
         "marker": {
          "color": "rgb(61,153,112)"
         },
         "mode": "lines",
         "text": [
          "stories_story_iteration_dac_span",
          "",
          "",
          "velocity_iteration_task_predictive_diagnostic"
         ],
         "type": "scatter",
         "x": [
          0,
          0.7645533525827402,
          0.7645533525827402,
          0
         ],
         "xaxis": "x",
         "y": [
          -995,
          -995,
          -1005,
          -1005
         ],
         "yaxis": "y"
        },
        {
         "hoverinfo": "text",
         "marker": {
          "color": "rgb(0,116,217)"
         },
         "mode": "lines",
         "text": [
          "stories_story_iteration_dac_span",
          "",
          "",
          "velocity_iteration_task_predictive_diagnostic"
         ],
         "type": "scatter",
         "x": [
          1.0185974553245323,
          1.0346194372102593,
          1.0346194372102593,
          0.7645533525827402
         ],
         "xaxis": "x",
         "y": [
          -942.65625,
          -942.65625,
          -1000,
          -1000
         ],
         "yaxis": "y"
        },
        {
         "hoverinfo": "text",
         "marker": {
          "color": "rgb(255,65,54)"
         },
         "mode": "lines",
         "text": [
          "code_elsewhere_string_fixed_234",
          "",
          "",
          "loop_bar_object_binary_does"
         ],
         "type": "scatter",
         "x": [
          0,
          0.8293963154648251,
          0.8293963154648251,
          0
         ],
         "xaxis": "x",
         "y": [
          -1025,
          -1025,
          -1035,
          -1035
         ],
         "yaxis": "y"
        },
        {
         "hoverinfo": "text",
         "marker": {
          "color": "rgb(255,65,54)"
         },
         "mode": "lines",
         "text": [
          "code_elsewhere_string_fixed_234",
          "",
          "",
          "pid_scripting_succeeded_gremlin_script"
         ],
         "type": "scatter",
         "x": [
          0.8293963154648251,
          0.8781801831789889,
          0.8781801831789889,
          0
         ],
         "xaxis": "x",
         "y": [
          -1030,
          -1030,
          -1045,
          -1045
         ],
         "yaxis": "y"
        },
        {
         "hoverinfo": "text",
         "marker": {
          "color": "rgb(255,65,54)"
         },
         "mode": "lines",
         "text": [
          "refactoring_patterns_refactorings_million_bigclass",
          "",
          "",
          "pid_scripting_succeeded_gremlin_script"
         ],
         "type": "scatter",
         "x": [
          0,
          0.9003649151010218,
          0.9003649151010218,
          0.8781801831789889
         ],
         "xaxis": "x",
         "y": [
          -1015,
          -1015,
          -1037.5,
          -1037.5
         ],
         "yaxis": "y"
        },
        {
         "hoverinfo": "text",
         "marker": {
          "color": "rgb(255,65,54)"
         },
         "mode": "lines",
         "text": [
          "database_query_oracle_sql_data",
          "",
          "",
          "ejbs_beans_database_simple_ordinary"
         ],
         "type": "scatter",
         "x": [
          0,
          0.7812292004649433,
          0.7812292004649433,
          0
         ],
         "xaxis": "x",
         "y": [
          -1055,
          -1055,
          -1065,
          -1065
         ],
         "yaxis": "y"
        },
        {
         "hoverinfo": "text",
         "marker": {
          "color": "rgb(255,65,54)"
         },
         "mode": "lines",
         "text": [
          "database_query_oracle_sql_data",
          "",
          "",
          "ejbs_beans_database_simple_ordinary"
         ],
         "type": "scatter",
         "x": [
          0.9003649151010218,
          0.9803860078020654,
          0.9803860078020654,
          0.7812292004649433
         ],
         "xaxis": "x",
         "y": [
          -1026.25,
          -1026.25,
          -1060,
          -1060
         ],
         "yaxis": "y"
        },
        {
         "hoverinfo": "text",
         "marker": {
          "color": "rgb(0,116,217)"
         },
         "mode": "lines",
         "text": [
          "database_query_oracle_sql_data",
          "",
          "",
          "ejbs_beans_database_simple_ordinary"
         ],
         "type": "scatter",
         "x": [
          1.0346194372102593,
          1.0600877659172823,
          1.0600877659172823,
          0.9803860078020654
         ],
         "xaxis": "x",
         "y": [
          -971.328125,
          -971.328125,
          -1043.125,
          -1043.125
         ],
         "yaxis": "y"
        },
        {
         "hoverinfo": "text",
         "marker": {
          "color": "rgb(35,205,205)"
         },
         "mode": "lines",
         "text": [
          "code_review_reviews_arun_scary",
          "",
          "",
          "review_feedback_reviews_quick_final"
         ],
         "type": "scatter",
         "x": [
          0,
          0.5250567816987661,
          0.5250567816987661,
          0
         ],
         "xaxis": "x",
         "y": [
          -1075,
          -1075,
          -1085,
          -1085
         ],
         "yaxis": "y"
        },
        {
         "hoverinfo": "text",
         "marker": {
          "color": "rgb(0,116,217)"
         },
         "mode": "lines",
         "text": [
          "code_review_reviews_arun_scary",
          "",
          "",
          "review_feedback_reviews_quick_final"
         ],
         "type": "scatter",
         "x": [
          1.0600877659172823,
          1.1287928660392876,
          1.1287928660392876,
          0.5250567816987661
         ],
         "xaxis": "x",
         "y": [
          -1007.2265625,
          -1007.2265625,
          -1080,
          -1080
         ],
         "yaxis": "y"
        },
        {
         "hoverinfo": "text",
         "marker": {
          "color": "rgb(133,20,75)"
         },
         "mode": "lines",
         "text": [
          "alerts_alert_transport_charts_coherent",
          "",
          "",
          "voice_speech_voicexml_recognition_demo"
         ],
         "type": "scatter",
         "x": [
          0,
          0.813934364811536,
          0.813934364811536,
          0
         ],
         "xaxis": "x",
         "y": [
          -1095,
          -1095,
          -1105,
          -1105
         ],
         "yaxis": "y"
        },
        {
         "hoverinfo": "text",
         "marker": {
          "color": "rgb(133,20,75)"
         },
         "mode": "lines",
         "text": [
          "accenture_rbc_crm_booth_their",
          "",
          "",
          "biogen_delivery_02_feb_drop"
         ],
         "type": "scatter",
         "x": [
          0,
          0.8514494837026471,
          0.8514494837026471,
          0
         ],
         "xaxis": "x",
         "y": [
          -1115,
          -1115,
          -1125,
          -1125
         ],
         "yaxis": "y"
        },
        {
         "hoverinfo": "text",
         "marker": {
          "color": "rgb(133,20,75)"
         },
         "mode": "lines",
         "text": [
          "accenture_rbc_crm_booth_their",
          "",
          "",
          "biogen_delivery_02_feb_drop"
         ],
         "type": "scatter",
         "x": [
          0.813934364811536,
          0.90112868396773,
          0.90112868396773,
          0.8514494837026471
         ],
         "xaxis": "x",
         "y": [
          -1100,
          -1100,
          -1120,
          -1120
         ],
         "yaxis": "y"
        },
        {
         "hoverinfo": "text",
         "marker": {
          "color": "rgb(133,20,75)"
         },
         "mode": "lines",
         "text": [
          "emas_emds_integration_restarting_server",
          "",
          "",
          "offline_browsing_analytics_channelseven_cheat"
         ],
         "type": "scatter",
         "x": [
          0,
          0.8737091447111152,
          0.8737091447111152,
          0
         ],
         "xaxis": "x",
         "y": [
          -1135,
          -1135,
          -1145,
          -1145
         ],
         "yaxis": "y"
        },
        {
         "hoverinfo": "text",
         "marker": {
          "color": "rgb(133,20,75)"
         },
         "mode": "lines",
         "text": [
          "emas_emds_integration_restarting_server",
          "",
          "",
          "offline_browsing_analytics_channelseven_cheat"
         ],
         "type": "scatter",
         "x": [
          0.90112868396773,
          0.932007108825315,
          0.932007108825315,
          0.8737091447111152
         ],
         "xaxis": "x",
         "y": [
          -1110,
          -1110,
          -1140,
          -1140
         ],
         "yaxis": "y"
        },
        {
         "hoverinfo": "text",
         "marker": {
          "color": "rgb(133,20,75)"
         },
         "mode": "lines",
         "text": [
          "bug_bugs_bugzilla_fix_error",
          "",
          "",
          "document_documentation_doc_copy_documents"
         ],
         "type": "scatter",
         "x": [
          0,
          0.7181149767359998,
          0.7181149767359998,
          0
         ],
         "xaxis": "x",
         "y": [
          -1165,
          -1165,
          -1175,
          -1175
         ],
         "yaxis": "y"
        },
        {
         "hoverinfo": "text",
         "marker": {
          "color": "rgb(133,20,75)"
         },
         "mode": "lines",
         "text": [
          "changes_feature_modifications_does_this",
          "",
          "",
          "server_sync_backup_password_backups"
         ],
         "type": "scatter",
         "x": [
          0,
          0.7081861805817647,
          0.7081861805817647,
          0
         ],
         "xaxis": "x",
         "y": [
          -1185,
          -1185,
          -1195,
          -1195
         ],
         "yaxis": "y"
        },
        {
         "hoverinfo": "text",
         "marker": {
          "color": "rgb(133,20,75)"
         },
         "mode": "lines",
         "text": [
          "changes_feature_modifications_does_this",
          "",
          "",
          "server_sync_backup_password_backups"
         ],
         "type": "scatter",
         "x": [
          0.7181149767359998,
          0.7563232368338011,
          0.7563232368338011,
          0.7081861805817647
         ],
         "xaxis": "x",
         "y": [
          -1170,
          -1170,
          -1190,
          -1190
         ],
         "yaxis": "y"
        },
        {
         "hoverinfo": "text",
         "marker": {
          "color": "rgb(133,20,75)"
         },
         "mode": "lines",
         "text": [
          "japanese_translation_english_localization_german",
          "",
          "",
          "server_sync_backup_password_backups"
         ],
         "type": "scatter",
         "x": [
          0,
          0.8152608759461013,
          0.8152608759461013,
          0.7563232368338011
         ],
         "xaxis": "x",
         "y": [
          -1155,
          -1155,
          -1180,
          -1180
         ],
         "yaxis": "y"
        },
        {
         "hoverinfo": "text",
         "marker": {
          "color": "rgb(133,20,75)"
         },
         "mode": "lines",
         "text": [
          "marketing_company_market_business_companies",
          "",
          "",
          "requirements_application_features_activeworks_issues"
         ],
         "type": "scatter",
         "x": [
          0,
          0.6458474887001173,
          0.6458474887001173,
          0
         ],
         "xaxis": "x",
         "y": [
          -1215,
          -1215,
          -1225,
          -1225
         ],
         "yaxis": "y"
        },
        {
         "hoverinfo": "text",
         "marker": {
          "color": "rgb(133,20,75)"
         },
         "mode": "lines",
         "text": [
          "person_ast_lucent_talked_website",
          "",
          "",
          "requirements_application_features_activeworks_issues"
         ],
         "type": "scatter",
         "x": [
          0,
          0.7221270122974947,
          0.7221270122974947,
          0.6458474887001173
         ],
         "xaxis": "x",
         "y": [
          -1205,
          -1205,
          -1220,
          -1220
         ],
         "yaxis": "y"
        },
        {
         "hoverinfo": "text",
         "marker": {
          "color": "rgb(133,20,75)"
         },
         "mode": "lines",
         "text": [
          "person_ast_lucent_talked_website",
          "",
          "",
          "license_licensing_software_licenses_agreement"
         ],
         "type": "scatter",
         "x": [
          0.7221270122974947,
          0.7677889191519429,
          0.7677889191519429,
          0
         ],
         "xaxis": "x",
         "y": [
          -1212.5,
          -1212.5,
          -1235,
          -1235
         ],
         "yaxis": "y"
        },
        {
         "hoverinfo": "text",
         "marker": {
          "color": "rgb(133,20,75)"
         },
         "mode": "lines",
         "text": [
          "customer_customers_service_feel_uts",
          "",
          "",
          "focus_attend_0ga_cdns_upbrowser"
         ],
         "type": "scatter",
         "x": [
          0,
          0.777222438963434,
          0.777222438963434,
          0
         ],
         "xaxis": "x",
         "y": [
          -1245,
          -1245,
          -1255,
          -1255
         ],
         "yaxis": "y"
        },
        {
         "hoverinfo": "text",
         "marker": {
          "color": "rgb(133,20,75)"
         },
         "mode": "lines",
         "text": [
          "customer_customers_service_feel_uts",
          "",
          "",
          "focus_attend_0ga_cdns_upbrowser"
         ],
         "type": "scatter",
         "x": [
          0.7677889191519429,
          0.8458136460037547,
          0.8458136460037547,
          0.777222438963434
         ],
         "xaxis": "x",
         "y": [
          -1223.75,
          -1223.75,
          -1250,
          -1250
         ],
         "yaxis": "y"
        },
        {
         "hoverinfo": "text",
         "marker": {
          "color": "rgb(133,20,75)"
         },
         "mode": "lines",
         "text": [
          "customer_customers_service_feel_uts",
          "",
          "",
          "commerce_business_online_internet_marketplace"
         ],
         "type": "scatter",
         "x": [
          0.8458136460037547,
          0.8599442947204545,
          0.8599442947204545,
          0
         ],
         "xaxis": "x",
         "y": [
          -1236.875,
          -1236.875,
          -1265,
          -1265
         ],
         "yaxis": "y"
        },
        {
         "hoverinfo": "text",
         "marker": {
          "color": "rgb(133,20,75)"
         },
         "mode": "lines",
         "text": [
          "customer_customers_service_feel_uts",
          "",
          "",
          "commerce_business_online_internet_marketplace"
         ],
         "type": "scatter",
         "x": [
          0.8152608759461013,
          0.9437989495240081,
          0.9437989495240081,
          0.8599442947204545
         ],
         "xaxis": "x",
         "y": [
          -1167.5,
          -1167.5,
          -1250.9375,
          -1250.9375
         ],
         "yaxis": "y"
        },
        {
         "hoverinfo": "text",
         "marker": {
          "color": "rgb(133,20,75)"
         },
         "mode": "lines",
         "text": [
          "customer_customers_service_feel_uts",
          "",
          "",
          "commerce_business_online_internet_marketplace"
         ],
         "type": "scatter",
         "x": [
          0.932007108825315,
          0.9795117755250621,
          0.9795117755250621,
          0.9437989495240081
         ],
         "xaxis": "x",
         "y": [
          -1125,
          -1125,
          -1209.21875,
          -1209.21875
         ],
         "yaxis": "y"
        },
        {
         "hoverinfo": "text",
         "marker": {
          "color": "rgb(255,220,0)"
         },
         "mode": "lines",
         "text": [
          "phone_sprint_midnight_calls_carriers",
          "",
          "",
          "call_conf_gots_bruthas_bidnezz"
         ],
         "type": "scatter",
         "x": [
          0,
          0.8755851995906843,
          0.8755851995906843,
          0
         ],
         "xaxis": "x",
         "y": [
          -1275,
          -1275,
          -1285,
          -1285
         ],
         "yaxis": "y"
        },
        {
         "hoverinfo": "text",
         "marker": {
          "color": "rgb(255,220,0)"
         },
         "mode": "lines",
         "text": [
          "idc_resource_resources_available_verizon",
          "",
          "",
          "webex_session_remote_presentation_fine"
         ],
         "type": "scatter",
         "x": [
          0,
          0.8977338200701838,
          0.8977338200701838,
          0
         ],
         "xaxis": "x",
         "y": [
          -1295,
          -1295,
          -1305,
          -1305
         ],
         "yaxis": "y"
        },
        {
         "hoverinfo": "text",
         "marker": {
          "color": "rgb(255,220,0)"
         },
         "mode": "lines",
         "text": [
          "idc_resource_resources_available_verizon",
          "",
          "",
          "laptop_backup_restore_activesync_remotely"
         ],
         "type": "scatter",
         "x": [
          0.8977338200701838,
          0.9346108836843087,
          0.9346108836843087,
          0
         ],
         "xaxis": "x",
         "y": [
          -1300,
          -1300,
          -1315,
          -1315
         ],
         "yaxis": "y"
        },
        {
         "hoverinfo": "text",
         "marker": {
          "color": "rgb(255,220,0)"
         },
         "mode": "lines",
         "text": [
          "idc_resource_resources_available_verizon",
          "",
          "",
          "laptop_backup_restore_activesync_remotely"
         ],
         "type": "scatter",
         "x": [
          0.8755851995906843,
          0.9696866073239558,
          0.9696866073239558,
          0.9346108836843087
         ],
         "xaxis": "x",
         "y": [
          -1280,
          -1280,
          -1307.5,
          -1307.5
         ],
         "yaxis": "y"
        },
        {
         "hoverinfo": "text",
         "marker": {
          "color": "rgb(255,220,0)"
         },
         "mode": "lines",
         "text": [
          "ae_aes_application_development_csg",
          "",
          "",
          "scoping_requirements_assumes_customizable_revised"
         ],
         "type": "scatter",
         "x": [
          0,
          0.8197269526421391,
          0.8197269526421391,
          0
         ],
         "xaxis": "x",
         "y": [
          -1325,
          -1325,
          -1335,
          -1335
         ],
         "yaxis": "y"
        },
        {
         "hoverinfo": "text",
         "marker": {
          "color": "rgb(255,220,0)"
         },
         "mode": "lines",
         "text": [
          "ae_aes_application_development_csg",
          "",
          "",
          "scoping_requirements_assumes_customizable_revised"
         ],
         "type": "scatter",
         "x": [
          0.9696866073239558,
          0.9974806681629974,
          0.9974806681629974,
          0.8197269526421391
         ],
         "xaxis": "x",
         "y": [
          -1293.75,
          -1293.75,
          -1330,
          -1330
         ],
         "yaxis": "y"
        },
        {
         "hoverinfo": "text",
         "marker": {
          "color": "rgb(40,35,35)"
         },
         "mode": "lines",
         "text": [
          "pqa_url_pda_starting_redirect",
          "",
          "",
          "palm_emulator_pocketpc_device_net"
         ],
         "type": "scatter",
         "x": [
          0,
          0.7369356116862937,
          0.7369356116862937,
          0
         ],
         "xaxis": "x",
         "y": [
          -1345,
          -1345,
          -1355,
          -1355
         ],
         "yaxis": "y"
        },
        {
         "hoverinfo": "text",
         "marker": {
          "color": "rgb(40,35,35)"
         },
         "mode": "lines",
         "text": [
          "rim_dds_device_ok_credit",
          "",
          "",
          "trade_april_give_launch_downage"
         ],
         "type": "scatter",
         "x": [
          0,
          0.8193880766037732,
          0.8193880766037732,
          0
         ],
         "xaxis": "x",
         "y": [
          -1365,
          -1365,
          -1375,
          -1375
         ],
         "yaxis": "y"
        },
        {
         "hoverinfo": "text",
         "marker": {
          "color": "rgb(40,35,35)"
         },
         "mode": "lines",
         "text": [
          "rim_dds_device_ok_credit",
          "",
          "",
          "trade_april_give_launch_downage"
         ],
         "type": "scatter",
         "x": [
          0.7369356116862937,
          0.9348643674223724,
          0.9348643674223724,
          0.8193880766037732
         ],
         "xaxis": "x",
         "y": [
          -1350,
          -1350,
          -1370,
          -1370
         ],
         "yaxis": "y"
        },
        {
         "hoverinfo": "text",
         "marker": {
          "color": "rgb(0,116,217)"
         },
         "mode": "lines",
         "text": [
          "rim_dds_device_ok_credit",
          "",
          "",
          "trade_april_give_launch_downage"
         ],
         "type": "scatter",
         "x": [
          0.9974806681629974,
          1.02751404350214,
          1.02751404350214,
          0.9348643674223724
         ],
         "xaxis": "x",
         "y": [
          -1311.875,
          -1311.875,
          -1360,
          -1360
         ],
         "yaxis": "y"
        },
        {
         "hoverinfo": "text",
         "marker": {
          "color": "rgb(0,116,217)"
         },
         "mode": "lines",
         "text": [
          "rim_dds_device_ok_credit",
          "",
          "",
          "trade_april_give_launch_downage"
         ],
         "type": "scatter",
         "x": [
          0.9795117755250621,
          1.096212020504231,
          1.096212020504231,
          1.02751404350214
         ],
         "xaxis": "x",
         "y": [
          -1167.109375,
          -1167.109375,
          -1335.9375,
          -1335.9375
         ],
         "yaxis": "y"
        },
        {
         "hoverinfo": "text",
         "marker": {
          "color": "rgb(0,116,217)"
         },
         "mode": "lines",
         "text": [
          "rim_dds_device_ok_credit",
          "",
          "",
          "trade_april_give_launch_downage"
         ],
         "type": "scatter",
         "x": [
          1.1287928660392876,
          1.2032092118924975,
          1.2032092118924975,
          1.096212020504231
         ],
         "xaxis": "x",
         "y": [
          -1043.61328125,
          -1043.61328125,
          -1251.5234375,
          -1251.5234375
         ],
         "yaxis": "y"
        },
        {
         "hoverinfo": "text",
         "marker": {
          "color": "rgb(61,153,112)"
         },
         "mode": "lines",
         "text": [
          "mail_email_mailbox_outlook_emails",
          "",
          "",
          "email_forward_tmn_mail_closed"
         ],
         "type": "scatter",
         "x": [
          0,
          0.5767155201047431,
          0.5767155201047431,
          0
         ],
         "xaxis": "x",
         "y": [
          -1395,
          -1395,
          -1405,
          -1405
         ],
         "yaxis": "y"
        },
        {
         "hoverinfo": "text",
         "marker": {
          "color": "rgb(61,153,112)"
         },
         "mode": "lines",
         "text": [
          "email_marketing_capability_save_emails",
          "",
          "",
          "email_forward_tmn_mail_closed"
         ],
         "type": "scatter",
         "x": [
          0,
          0.7697648046172456,
          0.7697648046172456,
          0.5767155201047431
         ],
         "xaxis": "x",
         "y": [
          -1385,
          -1385,
          -1400,
          -1400
         ],
         "yaxis": "y"
        },
        {
         "hoverinfo": "text",
         "marker": {
          "color": "rgb(61,153,112)"
         },
         "mode": "lines",
         "text": [
          "email_marketing_capability_save_emails",
          "",
          "",
          "blast_email_blasts_dm_webinar"
         ],
         "type": "scatter",
         "x": [
          0.7697648046172456,
          0.8089043204394322,
          0.8089043204394322,
          0
         ],
         "xaxis": "x",
         "y": [
          -1392.5,
          -1392.5,
          -1415,
          -1415
         ],
         "yaxis": "y"
        },
        {
         "hoverinfo": "text",
         "marker": {
          "color": "rgb(0,116,217)"
         },
         "mode": "lines",
         "text": [
          "email_marketing_capability_save_emails",
          "",
          "",
          "blast_email_blasts_dm_webinar"
         ],
         "type": "scatter",
         "x": [
          1.2032092118924975,
          1.298101951322675,
          1.298101951322675,
          0.8089043204394322
         ],
         "xaxis": "x",
         "y": [
          -1147.568359375,
          -1147.568359375,
          -1403.75,
          -1403.75
         ],
         "yaxis": "y"
        },
        {
         "hoverinfo": "text",
         "marker": {
          "color": "rgb(0,116,217)"
         },
         "mode": "lines",
         "text": [
          "email_marketing_capability_save_emails",
          "",
          "",
          "blast_email_blasts_dm_webinar"
         ],
         "type": "scatter",
         "x": [
          0.7301901173502908,
          1.3806517896427253,
          1.3806517896427253,
          1.298101951322675
         ],
         "xaxis": "x",
         "y": [
          -856.25,
          -856.25,
          -1275.6591796875,
          -1275.6591796875
         ],
         "yaxis": "y"
        },
        {
         "hoverinfo": "text",
         "marker": {
          "color": "rgb(0,116,217)"
         },
         "mode": "lines",
         "text": [
          "email_marketing_capability_save_emails",
          "",
          "",
          "blast_email_blasts_dm_webinar"
         ],
         "type": "scatter",
         "x": [
          1.4379860614200495,
          1.525843872571696,
          1.525843872571696,
          1.3806517896427253
         ],
         "xaxis": "x",
         "y": [
          -289.6240234375,
          -289.6240234375,
          -1065.95458984375,
          -1065.95458984375
         ],
         "yaxis": "y"
        },
        {
         "hoverinfo": "text",
         "marker": {
          "color": "rgb(0,116,217)"
         },
         "mode": "lines",
         "text": [
          "email_marketing_capability_save_emails",
          "",
          "",
          "blast_email_blasts_dm_webinar"
         ],
         "type": "scatter",
         "x": [
          1.3227933408350492,
          1.6072790271529371,
          1.6072790271529371,
          1.525843872571696
         ],
         "xaxis": "x",
         "y": [
          -56.5625,
          -56.5625,
          -677.789306640625,
          -677.789306640625
         ],
         "yaxis": "y"
        },
        {
         "hoverinfo": "text",
         "hovertext": [
          "what_want_you_here_marilisa",
          "what_want_you_here_marilisa",
          "me_let_know_want_if",
          "me_let_know_want_if",
          "me_let_know_want_if",
          "tuesday_pm_monday_friday_pst",
          "meeting_board_11_meet_00",
          "training_ppt_comfortable_richard_person",
          "presentation_slides_slide_presentations_powerpoint",
          "presentation_slides_slide_presentations_powerpoint",
          "presentation_slides_slide_presentations_powerpoint",
          "presentation_slides_slide_presentations_powerpoint",
          "needful_needfull_please_rajeev_ravikumar",
          "builds_build_cm_moment_blvd",
          "builds_build_cm_moment_blvd",
          "jsp_servlet_servlets_page_bean",
          "jsp_servlet_servlets_page_bean",
          "jar_classpath_path_file_jsdk_home",
          "consultation_java_sorry_search_ui",
          "consultation_java_sorry_search_ui",
          "ie_browser_aligned_buttons_ignore",
          "organs_mat_does_spokesperson_harmful",
          "organs_mat_does_spokesperson_harmful",
          "reams_ship_order_easier_shipping",
          "reams_ship_order_easier_shipping",
          "pricing_price_scope_prices_situations",
          "pricing_price_scope_prices_situations",
          "sun_sizing_event_retail_document",
          "interview_phone_tv_him_candidate",
          "interview_phone_tv_him_candidate",
          "card_lost_gets_angus_when",
          "card_lost_gets_angus_when",
          "card_lost_gets_angus_when",
          "font_800_fastest_longer_serif",
          "aether_wireless_753_770_via",
          "aether_wireless_753_770_via",
          "aether_wireless_753_770_via",
          "aether_wireless_753_770_via",
          "aether_wireless_753_770_via",
          "content_attachment_disposition_base64_filename",
          "content_attachment_disposition_base64_filename",
          "content_attachment_disposition_base64_filename",
          "content_attachment_disposition_base64_filename",
          "build_testing_tests_test_sanity",
          "partners_spouse_double_productivity_engage",
          "rankings_ease_transition_management_quality",
          "pair_programming_pairing_xp_pairs",
          "pair_programming_pairing_xp_pairs",
          "stories_story_iteration_dac_span",
          "code_elsewhere_string_fixed_234",
          "database_query_oracle_sql_data",
          "database_query_oracle_sql_data",
          "code_review_reviews_arun_scary",
          "accenture_rbc_crm_booth_their",
          "emas_emds_integration_restarting_server",
          "changes_feature_modifications_does_this",
          "person_ast_lucent_talked_website",
          "customer_customers_service_feel_uts",
          "customer_customers_service_feel_uts",
          "customer_customers_service_feel_uts",
          "customer_customers_service_feel_uts",
          "idc_resource_resources_available_verizon",
          "idc_resource_resources_available_verizon",
          "ae_aes_application_development_csg",
          "rim_dds_device_ok_credit",
          "rim_dds_device_ok_credit",
          "rim_dds_device_ok_credit",
          "rim_dds_device_ok_credit",
          "email_marketing_capability_save_emails",
          "email_marketing_capability_save_emails",
          "email_marketing_capability_save_emails",
          "email_marketing_capability_save_emails",
          "email_marketing_capability_save_emails"
         ],
         "marker": {
          "color": "black"
         },
         "mode": "markers",
         "showlegend": false,
         "type": "scatter",
         "x": [
          0.7393193624562966,
          0.6143532899237103,
          0.25126219006152306,
          0.38672272185718837,
          1.1482628304005058,
          0.9020095462022228,
          0.9270993395025963,
          0.9966296153166416,
          0.47559972553859287,
          0.3506156757076426,
          1.1531384224628916,
          0.2487221093392311,
          0.7505582911558193,
          0.6562702988574866,
          1.0428142385495933,
          0.7869749416287813,
          0.8600799813621042,
          0.8590825540082986,
          0.9497572196806893,
          1.038149693995081,
          0.9451461172983239,
          0.866319257220801,
          0.9806246274146374,
          0.7959143652020867,
          1.0025328442161419,
          0.8980409694624811,
          0.9321198327867085,
          0.960236242846317,
          0.9734311103132229,
          1.0291348645390668,
          0.9472850237399901,
          0.9201418640336989,
          1.0515712305223335,
          0.9624436913335941,
          0.8962639277861225,
          0.8473388640810335,
          0.9940418459175674,
          0.7392566526700634,
          1.0660635272092123,
          1.12980966687244,
          1.0857782922051349,
          1.1694959772848956,
          1.260844228723741,
          0.6541077054268669,
          0.7747783191059983,
          0.8712345925470734,
          0.7886352781939187,
          0.9032831923175026,
          1.0185974553245323,
          0.8293963154648251,
          0.9003649151010218,
          1.0346194372102593,
          1.0600877659172823,
          0.813934364811536,
          0.90112868396773,
          0.7181149767359998,
          0.7221270122974947,
          0.7677889191519429,
          0.8458136460037547,
          0.8152608759461013,
          0.932007108825315,
          0.8977338200701838,
          0.8755851995906843,
          0.9696866073239558,
          0.7369356116862937,
          0.9974806681629974,
          0.9795117755250621,
          1.1287928660392876,
          0.7697648046172456,
          1.2032092118924975,
          0.7301901173502908,
          1.4379860614200495,
          1.3227933408350492
         ],
         "y": [
          -32.5,
          -10,
          -70,
          -77.5,
          -26.875,
          -130,
          -140,
          -155,
          -230,
          -210,
          -172.5,
          -110,
          -260,
          -300,
          -270,
          -352.5,
          -330,
          -390,
          -400,
          -346.875,
          -450,
          -490,
          -460,
          -520,
          -478.75,
          -570,
          -550,
          -565,
          -587.5,
          -503.125,
          -672.5,
          -650,
          -555.9375,
          -730,
          -780,
          -760,
          -737.5,
          -710,
          -611.40625,
          -672.109375,
          -380.9375,
          -288.75,
          -154.0625,
          -842.5,
          -900,
          -911.25,
          -970,
          -907.8125,
          -942.65625,
          -1030,
          -1026.25,
          -971.328125,
          -1007.2265625,
          -1100,
          -1110,
          -1170,
          -1212.5,
          -1223.75,
          -1236.875,
          -1167.5,
          -1125,
          -1300,
          -1280,
          -1293.75,
          -1350,
          -1311.875,
          -1167.109375,
          -1043.61328125,
          -1392.5,
          -1147.568359375,
          -856.25,
          -289.6240234375,
          -56.5625
         ]
        },
        {
         "hoverinfo": "text",
         "hovertext": [
          "what_we_else_do_can",
          "can_fortunata_successfully_we_here",
          "when_let_soon_me_know",
          "original_message_2001_sent_person",
          "meeting_person_suku_face_met",
          "demo_demos_we_presentation_show",
          "prakash_dci_salesforce_study_dilligence",
          "prakash_dci_salesforce_study_dilligence",
          "prakash_dci_salesforce_study_dilligence",
          "rajeev_fountain_optimizing_kyocera_cola",
          "wilhan_build_please_0titanium_baseline",
          "head_html_color_font_tag",
          "component_identification_id_components_duplicate",
          "revision_templates_applframe_cvs_devel",
          "jprobe_j2me_2002_17_june",
          "jprobe_j2me_2002_17_june",
          "upgrade_upgrades_completing_rational_eligible",
          "installer_installshield_install_options_destination",
          "information_report_yospace_requests_collateral",
          "fleet_pilot_leasing_pilots_boss",
          "fleet_pilot_leasing_pilots_boss",
          "hp_sizing_00_ux_lab",
          "simplest_harder_subjective_easily_see",
          "simplest_harder_subjective_easily_see",
          "tickets_ticket_travel_territorism_unused",
          "miyuki_utf8_automation_conversion_already",
          "miyuki_utf8_automation_conversion_already",
          "nokia_october_2002_22_phone",
          "nokia_october_2002_22_phone",
          "nokia_october_2002_22_phone",
          "nokia_october_2002_22_phone",
          "laughaway_arya_3307_926_pathria",
          "laughaway_arya_3307_926_pathria",
          "laughaway_arya_3307_926_pathria",
          "laughaway_arya_3307_926_pathria",
          "laughaway_arya_3307_926_pathria",
          "test_tests_unit_write_code",
          "qa_testing_test_tests_since",
          "possible_it_not_this_whether",
          "possible_it_not_this_whether",
          "team_coach_practices_teams_begged",
          "team_coach_practices_teams_begged",
          "vi_programming_coding_gui_learning",
          "velocity_iteration_task_predictive_diagnostic",
          "pid_scripting_succeeded_gremlin_script",
          "ejbs_beans_database_simple_ordinary",
          "ejbs_beans_database_simple_ordinary",
          "review_feedback_reviews_quick_final",
          "biogen_delivery_02_feb_drop",
          "offline_browsing_analytics_channelseven_cheat",
          "server_sync_backup_password_backups",
          "server_sync_backup_password_backups",
          "requirements_application_features_activeworks_issues",
          "focus_attend_0ga_cdns_upbrowser",
          "commerce_business_online_internet_marketplace",
          "commerce_business_online_internet_marketplace",
          "laptop_backup_restore_activesync_remotely",
          "scoping_requirements_assumes_customizable_revised",
          "trade_april_give_launch_downage",
          "trade_april_give_launch_downage",
          "trade_april_give_launch_downage",
          "trade_april_give_launch_downage",
          "email_forward_tmn_mail_closed",
          "blast_email_blasts_dm_webinar",
          "blast_email_blasts_dm_webinar",
          "blast_email_blasts_dm_webinar",
          "blast_email_blasts_dm_webinar"
         ],
         "marker": {
          "color": "black"
         },
         "mode": "markers",
         "showlegend": false,
         "type": "scatter",
         "x": [
          0.576091331954868,
          0.8327131461553073,
          0.6724776980001107,
          0.7358188365586936,
          0.49097645516402255,
          0.36901804404938277,
          0.9336317990882365,
          1.126931237347287,
          1.1697115497489958,
          0.8085945903075299,
          0.7574127504253755,
          0.7533816707493338,
          0.8886597845887022,
          0.9155815162651929,
          0.8994569023504574,
          1.0088913630118828,
          0.8666824465798635,
          0.9021946760090332,
          0.8520438648914082,
          0.8619424732512921,
          0.9462913321496819,
          0.8368883573160268,
          0.9442395685703356,
          0.9915965635328872,
          0.9144226407913393,
          0.9803094019746729,
          0.9868180103989425,
          0.9356758167866925,
          0.9948117237855112,
          1.0199457558758669,
          1.1209864096063669,
          0.8826503271170231,
          0.9630058061051332,
          1.1868283766695673,
          1.1969236686788358,
          1.347062499319087,
          0.5332143079367523,
          0.6850192660978234,
          0.7528372205626238,
          0.8274531690434057,
          0.8859989694834965,
          0.8964781347664088,
          0.7934241763368388,
          0.7645533525827402,
          0.8781801831789889,
          0.7812292004649433,
          0.9803860078020654,
          0.5250567816987661,
          0.8514494837026471,
          0.8737091447111152,
          0.7081861805817647,
          0.7563232368338011,
          0.6458474887001173,
          0.777222438963434,
          0.8599442947204545,
          0.9437989495240081,
          0.9346108836843087,
          0.8197269526421391,
          0.8193880766037732,
          0.9348643674223724,
          1.02751404350214,
          1.096212020504231,
          0.5767155201047431,
          0.8089043204394322,
          1.298101951322675,
          1.3806517896427253,
          1.525843872571696
         ],
         "y": [
          -40,
          -43.75,
          -86.25,
          -150,
          -170,
          -190,
          -237.5,
          -223.75,
          -198.125,
          -280,
          -307.5,
          -360,
          -363.75,
          -410,
          -430,
          -415,
          -470,
          -497.5,
          -527.5,
          -590,
          -580,
          -610,
          -630,
          -608.75,
          -680,
          -683.75,
          -666.875,
          -787.5,
          -773.75,
          -755.625,
          -732.8125,
          -820,
          -812.5,
          -742.3046875,
          -561.62109375,
          -425.185546875,
          -850,
          -870,
          -930,
          -922.5,
          -950,
          -930.625,
          -977.5,
          -1000,
          -1037.5,
          -1060,
          -1043.125,
          -1080,
          -1120,
          -1140,
          -1190,
          -1180,
          -1220,
          -1250,
          -1250.9375,
          -1209.21875,
          -1307.5,
          -1330,
          -1370,
          -1360,
          -1335.9375,
          -1251.5234375,
          -1400,
          -1403.75,
          -1275.6591796875,
          -1065.95458984375,
          -677.789306640625
         ]
        }
       ],
       "layout": {
        "autosize": false,
        "height": 2330,
        "hoverlabel": {
         "bgcolor": "white",
         "font": {
          "family": "Rockwell",
          "size": 16
         }
        },
        "hovermode": "closest",
        "plot_bgcolor": "#ECEFF1",
        "showlegend": false,
        "template": {
         "data": {
          "bar": [
           {
            "error_x": {
             "color": "#2a3f5f"
            },
            "error_y": {
             "color": "#2a3f5f"
            },
            "marker": {
             "line": {
              "color": "white",
              "width": 0.5
             },
             "pattern": {
              "fillmode": "overlay",
              "size": 10,
              "solidity": 0.2
             }
            },
            "type": "bar"
           }
          ],
          "barpolar": [
           {
            "marker": {
             "line": {
              "color": "white",
              "width": 0.5
             },
             "pattern": {
              "fillmode": "overlay",
              "size": 10,
              "solidity": 0.2
             }
            },
            "type": "barpolar"
           }
          ],
          "carpet": [
           {
            "aaxis": {
             "endlinecolor": "#2a3f5f",
             "gridcolor": "#C8D4E3",
             "linecolor": "#C8D4E3",
             "minorgridcolor": "#C8D4E3",
             "startlinecolor": "#2a3f5f"
            },
            "baxis": {
             "endlinecolor": "#2a3f5f",
             "gridcolor": "#C8D4E3",
             "linecolor": "#C8D4E3",
             "minorgridcolor": "#C8D4E3",
             "startlinecolor": "#2a3f5f"
            },
            "type": "carpet"
           }
          ],
          "choropleth": [
           {
            "colorbar": {
             "outlinewidth": 0,
             "ticks": ""
            },
            "type": "choropleth"
           }
          ],
          "contour": [
           {
            "colorbar": {
             "outlinewidth": 0,
             "ticks": ""
            },
            "colorscale": [
             [
              0,
              "#0d0887"
             ],
             [
              0.1111111111111111,
              "#46039f"
             ],
             [
              0.2222222222222222,
              "#7201a8"
             ],
             [
              0.3333333333333333,
              "#9c179e"
             ],
             [
              0.4444444444444444,
              "#bd3786"
             ],
             [
              0.5555555555555556,
              "#d8576b"
             ],
             [
              0.6666666666666666,
              "#ed7953"
             ],
             [
              0.7777777777777778,
              "#fb9f3a"
             ],
             [
              0.8888888888888888,
              "#fdca26"
             ],
             [
              1,
              "#f0f921"
             ]
            ],
            "type": "contour"
           }
          ],
          "contourcarpet": [
           {
            "colorbar": {
             "outlinewidth": 0,
             "ticks": ""
            },
            "type": "contourcarpet"
           }
          ],
          "heatmap": [
           {
            "colorbar": {
             "outlinewidth": 0,
             "ticks": ""
            },
            "colorscale": [
             [
              0,
              "#0d0887"
             ],
             [
              0.1111111111111111,
              "#46039f"
             ],
             [
              0.2222222222222222,
              "#7201a8"
             ],
             [
              0.3333333333333333,
              "#9c179e"
             ],
             [
              0.4444444444444444,
              "#bd3786"
             ],
             [
              0.5555555555555556,
              "#d8576b"
             ],
             [
              0.6666666666666666,
              "#ed7953"
             ],
             [
              0.7777777777777778,
              "#fb9f3a"
             ],
             [
              0.8888888888888888,
              "#fdca26"
             ],
             [
              1,
              "#f0f921"
             ]
            ],
            "type": "heatmap"
           }
          ],
          "heatmapgl": [
           {
            "colorbar": {
             "outlinewidth": 0,
             "ticks": ""
            },
            "colorscale": [
             [
              0,
              "#0d0887"
             ],
             [
              0.1111111111111111,
              "#46039f"
             ],
             [
              0.2222222222222222,
              "#7201a8"
             ],
             [
              0.3333333333333333,
              "#9c179e"
             ],
             [
              0.4444444444444444,
              "#bd3786"
             ],
             [
              0.5555555555555556,
              "#d8576b"
             ],
             [
              0.6666666666666666,
              "#ed7953"
             ],
             [
              0.7777777777777778,
              "#fb9f3a"
             ],
             [
              0.8888888888888888,
              "#fdca26"
             ],
             [
              1,
              "#f0f921"
             ]
            ],
            "type": "heatmapgl"
           }
          ],
          "histogram": [
           {
            "marker": {
             "pattern": {
              "fillmode": "overlay",
              "size": 10,
              "solidity": 0.2
             }
            },
            "type": "histogram"
           }
          ],
          "histogram2d": [
           {
            "colorbar": {
             "outlinewidth": 0,
             "ticks": ""
            },
            "colorscale": [
             [
              0,
              "#0d0887"
             ],
             [
              0.1111111111111111,
              "#46039f"
             ],
             [
              0.2222222222222222,
              "#7201a8"
             ],
             [
              0.3333333333333333,
              "#9c179e"
             ],
             [
              0.4444444444444444,
              "#bd3786"
             ],
             [
              0.5555555555555556,
              "#d8576b"
             ],
             [
              0.6666666666666666,
              "#ed7953"
             ],
             [
              0.7777777777777778,
              "#fb9f3a"
             ],
             [
              0.8888888888888888,
              "#fdca26"
             ],
             [
              1,
              "#f0f921"
             ]
            ],
            "type": "histogram2d"
           }
          ],
          "histogram2dcontour": [
           {
            "colorbar": {
             "outlinewidth": 0,
             "ticks": ""
            },
            "colorscale": [
             [
              0,
              "#0d0887"
             ],
             [
              0.1111111111111111,
              "#46039f"
             ],
             [
              0.2222222222222222,
              "#7201a8"
             ],
             [
              0.3333333333333333,
              "#9c179e"
             ],
             [
              0.4444444444444444,
              "#bd3786"
             ],
             [
              0.5555555555555556,
              "#d8576b"
             ],
             [
              0.6666666666666666,
              "#ed7953"
             ],
             [
              0.7777777777777778,
              "#fb9f3a"
             ],
             [
              0.8888888888888888,
              "#fdca26"
             ],
             [
              1,
              "#f0f921"
             ]
            ],
            "type": "histogram2dcontour"
           }
          ],
          "mesh3d": [
           {
            "colorbar": {
             "outlinewidth": 0,
             "ticks": ""
            },
            "type": "mesh3d"
           }
          ],
          "parcoords": [
           {
            "line": {
             "colorbar": {
              "outlinewidth": 0,
              "ticks": ""
             }
            },
            "type": "parcoords"
           }
          ],
          "pie": [
           {
            "automargin": true,
            "type": "pie"
           }
          ],
          "scatter": [
           {
            "fillpattern": {
             "fillmode": "overlay",
             "size": 10,
             "solidity": 0.2
            },
            "type": "scatter"
           }
          ],
          "scatter3d": [
           {
            "line": {
             "colorbar": {
              "outlinewidth": 0,
              "ticks": ""
             }
            },
            "marker": {
             "colorbar": {
              "outlinewidth": 0,
              "ticks": ""
             }
            },
            "type": "scatter3d"
           }
          ],
          "scattercarpet": [
           {
            "marker": {
             "colorbar": {
              "outlinewidth": 0,
              "ticks": ""
             }
            },
            "type": "scattercarpet"
           }
          ],
          "scattergeo": [
           {
            "marker": {
             "colorbar": {
              "outlinewidth": 0,
              "ticks": ""
             }
            },
            "type": "scattergeo"
           }
          ],
          "scattergl": [
           {
            "marker": {
             "colorbar": {
              "outlinewidth": 0,
              "ticks": ""
             }
            },
            "type": "scattergl"
           }
          ],
          "scattermapbox": [
           {
            "marker": {
             "colorbar": {
              "outlinewidth": 0,
              "ticks": ""
             }
            },
            "type": "scattermapbox"
           }
          ],
          "scatterpolar": [
           {
            "marker": {
             "colorbar": {
              "outlinewidth": 0,
              "ticks": ""
             }
            },
            "type": "scatterpolar"
           }
          ],
          "scatterpolargl": [
           {
            "marker": {
             "colorbar": {
              "outlinewidth": 0,
              "ticks": ""
             }
            },
            "type": "scatterpolargl"
           }
          ],
          "scatterternary": [
           {
            "marker": {
             "colorbar": {
              "outlinewidth": 0,
              "ticks": ""
             }
            },
            "type": "scatterternary"
           }
          ],
          "surface": [
           {
            "colorbar": {
             "outlinewidth": 0,
             "ticks": ""
            },
            "colorscale": [
             [
              0,
              "#0d0887"
             ],
             [
              0.1111111111111111,
              "#46039f"
             ],
             [
              0.2222222222222222,
              "#7201a8"
             ],
             [
              0.3333333333333333,
              "#9c179e"
             ],
             [
              0.4444444444444444,
              "#bd3786"
             ],
             [
              0.5555555555555556,
              "#d8576b"
             ],
             [
              0.6666666666666666,
              "#ed7953"
             ],
             [
              0.7777777777777778,
              "#fb9f3a"
             ],
             [
              0.8888888888888888,
              "#fdca26"
             ],
             [
              1,
              "#f0f921"
             ]
            ],
            "type": "surface"
           }
          ],
          "table": [
           {
            "cells": {
             "fill": {
              "color": "#EBF0F8"
             },
             "line": {
              "color": "white"
             }
            },
            "header": {
             "fill": {
              "color": "#C8D4E3"
             },
             "line": {
              "color": "white"
             }
            },
            "type": "table"
           }
          ]
         },
         "layout": {
          "annotationdefaults": {
           "arrowcolor": "#2a3f5f",
           "arrowhead": 0,
           "arrowwidth": 1
          },
          "autotypenumbers": "strict",
          "coloraxis": {
           "colorbar": {
            "outlinewidth": 0,
            "ticks": ""
           }
          },
          "colorscale": {
           "diverging": [
            [
             0,
             "#8e0152"
            ],
            [
             0.1,
             "#c51b7d"
            ],
            [
             0.2,
             "#de77ae"
            ],
            [
             0.3,
             "#f1b6da"
            ],
            [
             0.4,
             "#fde0ef"
            ],
            [
             0.5,
             "#f7f7f7"
            ],
            [
             0.6,
             "#e6f5d0"
            ],
            [
             0.7,
             "#b8e186"
            ],
            [
             0.8,
             "#7fbc41"
            ],
            [
             0.9,
             "#4d9221"
            ],
            [
             1,
             "#276419"
            ]
           ],
           "sequential": [
            [
             0,
             "#0d0887"
            ],
            [
             0.1111111111111111,
             "#46039f"
            ],
            [
             0.2222222222222222,
             "#7201a8"
            ],
            [
             0.3333333333333333,
             "#9c179e"
            ],
            [
             0.4444444444444444,
             "#bd3786"
            ],
            [
             0.5555555555555556,
             "#d8576b"
            ],
            [
             0.6666666666666666,
             "#ed7953"
            ],
            [
             0.7777777777777778,
             "#fb9f3a"
            ],
            [
             0.8888888888888888,
             "#fdca26"
            ],
            [
             1,
             "#f0f921"
            ]
           ],
           "sequentialminus": [
            [
             0,
             "#0d0887"
            ],
            [
             0.1111111111111111,
             "#46039f"
            ],
            [
             0.2222222222222222,
             "#7201a8"
            ],
            [
             0.3333333333333333,
             "#9c179e"
            ],
            [
             0.4444444444444444,
             "#bd3786"
            ],
            [
             0.5555555555555556,
             "#d8576b"
            ],
            [
             0.6666666666666666,
             "#ed7953"
            ],
            [
             0.7777777777777778,
             "#fb9f3a"
            ],
            [
             0.8888888888888888,
             "#fdca26"
            ],
            [
             1,
             "#f0f921"
            ]
           ]
          },
          "colorway": [
           "#636efa",
           "#EF553B",
           "#00cc96",
           "#ab63fa",
           "#FFA15A",
           "#19d3f3",
           "#FF6692",
           "#B6E880",
           "#FF97FF",
           "#FECB52"
          ],
          "font": {
           "color": "#2a3f5f"
          },
          "geo": {
           "bgcolor": "white",
           "lakecolor": "white",
           "landcolor": "white",
           "showlakes": true,
           "showland": true,
           "subunitcolor": "#C8D4E3"
          },
          "hoverlabel": {
           "align": "left"
          },
          "hovermode": "closest",
          "mapbox": {
           "style": "light"
          },
          "paper_bgcolor": "white",
          "plot_bgcolor": "white",
          "polar": {
           "angularaxis": {
            "gridcolor": "#EBF0F8",
            "linecolor": "#EBF0F8",
            "ticks": ""
           },
           "bgcolor": "white",
           "radialaxis": {
            "gridcolor": "#EBF0F8",
            "linecolor": "#EBF0F8",
            "ticks": ""
           }
          },
          "scene": {
           "xaxis": {
            "backgroundcolor": "white",
            "gridcolor": "#DFE8F3",
            "gridwidth": 2,
            "linecolor": "#EBF0F8",
            "showbackground": true,
            "ticks": "",
            "zerolinecolor": "#EBF0F8"
           },
           "yaxis": {
            "backgroundcolor": "white",
            "gridcolor": "#DFE8F3",
            "gridwidth": 2,
            "linecolor": "#EBF0F8",
            "showbackground": true,
            "ticks": "",
            "zerolinecolor": "#EBF0F8"
           },
           "zaxis": {
            "backgroundcolor": "white",
            "gridcolor": "#DFE8F3",
            "gridwidth": 2,
            "linecolor": "#EBF0F8",
            "showbackground": true,
            "ticks": "",
            "zerolinecolor": "#EBF0F8"
           }
          },
          "shapedefaults": {
           "line": {
            "color": "#2a3f5f"
           }
          },
          "ternary": {
           "aaxis": {
            "gridcolor": "#DFE8F3",
            "linecolor": "#A2B1C6",
            "ticks": ""
           },
           "baxis": {
            "gridcolor": "#DFE8F3",
            "linecolor": "#A2B1C6",
            "ticks": ""
           },
           "bgcolor": "white",
           "caxis": {
            "gridcolor": "#DFE8F3",
            "linecolor": "#A2B1C6",
            "ticks": ""
           }
          },
          "title": {
           "x": 0.05
          },
          "xaxis": {
           "automargin": true,
           "gridcolor": "#EBF0F8",
           "linecolor": "#EBF0F8",
           "ticks": "",
           "title": {
            "standoff": 15
           },
           "zerolinecolor": "#EBF0F8",
           "zerolinewidth": 2
          },
          "yaxis": {
           "automargin": true,
           "gridcolor": "#EBF0F8",
           "linecolor": "#EBF0F8",
           "ticks": "",
           "title": {
            "standoff": 15
           },
           "zerolinecolor": "#EBF0F8",
           "zerolinewidth": 2
          }
         }
        },
        "title": {
         "font": {
          "color": "Black",
          "size": 22
         },
         "text": "<b>Hierarchical Clustering</b>",
         "x": 0.5,
         "xanchor": "center",
         "yanchor": "top"
        },
        "width": 1000,
        "xaxis": {
         "mirror": "allticks",
         "rangemode": "tozero",
         "showgrid": false,
         "showline": true,
         "showticklabels": true,
         "ticks": "outside",
         "type": "linear",
         "zeroline": false
        },
        "yaxis": {
         "mirror": "allticks",
         "range": [
          -1420,
          0
         ],
         "rangemode": "tozero",
         "showgrid": false,
         "showline": true,
         "showticklabels": true,
         "tickmode": "array",
         "ticks": "outside",
         "ticktext": [
          "44_did_again_it",
          "105_did_anything_yep",
          "96_what_want_you",
          "88_what_can_about",
          "37_what_we_else",
          "121_can_fortunata_successfu...",
          "69_me_let_know",
          "48_let_me_want",
          "9_let_me_know",
          "49_when_let_soon",
          "6_lunch_sometime_let",
          "90_lunch_wsj_monday",
          "120_venk_ablt_tuesday",
          "54_dinner_or_cook",
          "62_tuesday_pm_monday",
          "67_original_message_2001",
          "18_meeting_board_11",
          "46_meeting_person_suku",
          "73_training_ppt_comfortable",
          "15_training_week_confirm",
          "61_demo_inbursa_spoke",
          "3_demo_demos_presentation",
          "27_presentation_slides_slide",
          "55_presentation_presentatio...",
          "77_prakash_dci_salesforce",
          "118_asap_please_pls",
          "138_please_convenience_leave",
          "93_needful_needfull_please",
          "112_rajeev_fountain_optimiz...",
          "114_builds_build_cm",
          "116_build_today_srik",
          "42_wilhan_build_please",
          "133_investigation_errant_ikon",
          "127_javascript_supported_pr...",
          "0_jsp_servlet_servlets",
          "63_page_frame_url",
          "47_head_html_color",
          "57_component_identification...",
          "101_oca_cab_application",
          "20_xml_xsl_xslt",
          "83_jar_classpath_path",
          "28_revision_templates_applf...",
          "129_consultation_java_sorry",
          "124_jprobe_j2me_2002",
          "94_validation_validations_s...",
          "91_cookie_cookies_usercookie",
          "104_ie_browser_aligned",
          "119_upgrade_upgrades_comple...",
          "98_organs_mat_does",
          "107_release_point_queued",
          "92_installer_installshield_...",
          "78_reams_ship_order",
          "76_expense_report_records",
          "113_information_report_yosp...",
          "82_hosting_hosted_bluedomino",
          "81_herbal_they_crowd",
          "79_group_solicit_advice",
          "74_show_breakfast_tour",
          "106_pricing_price_scope",
          "60_fleet_pilot_leasing",
          "35_sun_sizing_event",
          "14_hp_sizing_00",
          "66_interview_phone_tv",
          "115_simplest_harder_subject...",
          "128_wrong_am_tell",
          "75_asks_sheppard_said",
          "126_card_lost_gets",
          "123_favor_me_favour",
          "109_tickets_ticket_travel",
          "111_miyuki_utf8_automation",
          "89_tax_taxes_b59h",
          "31_1fc7nw_babycenter_le",
          "117_font_800_fastest",
          "139_bandwidth_cable_traffic",
          "108_dance_song_euro",
          "137_location_presentations_...",
          "99_location_8039_era",
          "134_aether_wireless_753",
          "40_blackberry_handheld_net",
          "131_nokia_october_2002",
          "51_content_attachment_dispo...",
          "132_forwarded_attached_yahoo",
          "130_laughaway_arya_3307",
          "36_stress_test_testing",
          "23_test_testing_person",
          "2_test_tests_unit",
          "58_build_testing_tests",
          "43_qa_testing_test",
          "97_budget_700k_annually",
          "85_tasks_development_project",
          "26_estimate_estimates_time",
          "56_partners_spouse_double",
          "10_we_government_need",
          "52_possible_it_not",
          "136_rankings_ease_transition",
          "71_team_coach_practices",
          "53_pair_programming_pairing",
          "24_teamwork_design_programm...",
          "122_vi_programming_coding",
          "38_stories_story_iteration",
          "100_velocity_iteration_task",
          "25_refactoring_patterns_ref...",
          "141_code_elsewhere_string",
          "22_loop_bar_object",
          "80_pid_scripting_succeeded",
          "16_database_query_oracle",
          "125_ejbs_beans_database",
          "33_code_review_reviews",
          "5_review_feedback_reviews",
          "50_alerts_alert_transport",
          "17_voice_speech_voicexml",
          "11_accenture_rbc_crm",
          "59_biogen_delivery_02",
          "65_emas_emds_integration",
          "86_offline_browsing_analytics",
          "7_japanese_translation_engl...",
          "1_bug_bugs_bugzilla",
          "29_document_documentation_doc",
          "13_changes_feature_modifica...",
          "8_server_sync_backup",
          "45_person_ast_lucent",
          "4_marketing_company_market",
          "19_requirements_application...",
          "21_license_licensing_software",
          "30_customer_customers_service",
          "84_focus_attend_0ga",
          "41_commerce_business_online",
          "135_phone_sprint_midnight",
          "110_call_conf_gots",
          "68_idc_resource_resources",
          "64_webex_session_remote",
          "87_laptop_backup_restore",
          "32_ae_aes_application",
          "103_scoping_requirements_as...",
          "70_pqa_url_pda",
          "34_palm_emulator_pocketpc",
          "95_rim_dds_device",
          "140_trade_april_give",
          "72_email_marketing_capability",
          "12_mail_email_mailbox",
          "39_email_forward_tmn",
          "102_blast_email_blasts"
         ],
         "tickvals": [
          -5,
          -15,
          -25,
          -35,
          -45,
          -55,
          -65,
          -75,
          -85,
          -95,
          -105,
          -115,
          -125,
          -135,
          -145,
          -155,
          -165,
          -175,
          -185,
          -195,
          -205,
          -215,
          -225,
          -235,
          -245,
          -255,
          -265,
          -275,
          -285,
          -295,
          -305,
          -315,
          -325,
          -335,
          -345,
          -355,
          -365,
          -375,
          -385,
          -395,
          -405,
          -415,
          -425,
          -435,
          -445,
          -455,
          -465,
          -475,
          -485,
          -495,
          -505,
          -515,
          -525,
          -535,
          -545,
          -555,
          -565,
          -575,
          -585,
          -595,
          -605,
          -615,
          -625,
          -635,
          -645,
          -655,
          -665,
          -675,
          -685,
          -695,
          -705,
          -715,
          -725,
          -735,
          -745,
          -755,
          -765,
          -775,
          -785,
          -795,
          -805,
          -815,
          -825,
          -835,
          -845,
          -855,
          -865,
          -875,
          -885,
          -895,
          -905,
          -915,
          -925,
          -935,
          -945,
          -955,
          -965,
          -975,
          -985,
          -995,
          -1005,
          -1015,
          -1025,
          -1035,
          -1045,
          -1055,
          -1065,
          -1075,
          -1085,
          -1095,
          -1105,
          -1115,
          -1125,
          -1135,
          -1145,
          -1155,
          -1165,
          -1175,
          -1185,
          -1195,
          -1205,
          -1215,
          -1225,
          -1235,
          -1245,
          -1255,
          -1265,
          -1275,
          -1285,
          -1295,
          -1305,
          -1315,
          -1325,
          -1335,
          -1345,
          -1355,
          -1365,
          -1375,
          -1385,
          -1395,
          -1405,
          -1415
         ],
         "type": "linear",
         "zeroline": false
        }
       }
      }
     },
     "metadata": {},
     "output_type": "display_data"
    }
   ],
   "source": [
    "topic_model.visualize_hierarchy(hierarchical_topics=hierarchical_topics)"
   ]
  },
  {
   "cell_type": "markdown",
   "metadata": {},
   "source": [
    "## Merging Topics"
   ]
  },
  {
   "cell_type": "code",
   "execution_count": 52,
   "metadata": {},
   "outputs": [
    {
     "name": "stdout",
     "output_type": "stream",
     "text": [
      "-----------\n",
      "Topic: 7\n",
      "\n",
      "Top Words:\n",
      "japanese, translation, english, localization, german, language, documents, characters, kanji, i18n, \n",
      "\n",
      "Representative Target Sentences: \n",
      "All ,    I know we have done Japanese Kanji on a Japanese phone , but what about Chinese ?   Also , are there any devices in [LOCATION] that display Kanji characters ?   Does [PERSON] support Chinese on RIM ?\n",
      "I would like to show that we can do part of their site in i - mode Japanese .\n",
      "So you can use LANGUAGE_COUNTRY=\"en_US \" for every charset ( This will show all UI strings in english).Because we do not have translation available for other languages except for japanese which you have done earlier .\n"
     ]
    }
   ],
   "source": [
    "topic_id = 7\n",
    "inspect_topic(topic_id)"
   ]
  },
  {
   "cell_type": "code",
   "execution_count": 14,
   "metadata": {},
   "outputs": [],
   "source": [
    "#topic_model.custom_labels_"
   ]
  },
  {
   "cell_type": "code",
   "execution_count": 49,
   "metadata": {},
   "outputs": [],
   "source": [
    "topic_model.merge_topics(docs, [-1,topic_id])"
   ]
  },
  {
   "cell_type": "code",
   "execution_count": 732,
   "metadata": {},
   "outputs": [],
   "source": [
    "create_custom_label(\"it_problems\", topic_id=topic_id)"
   ]
  },
  {
   "cell_type": "code",
   "execution_count": 39,
   "metadata": {},
   "outputs": [
    {
     "name": "stdout",
     "output_type": "stream",
     "text": [
      "Number of Documents: 122\n",
      "\n",
      "do processing and return the result to the jsp page ( result show in   parent   > > window ) .\n",
      "On the other hand , if [LOCATION] is a JavaScript object , and you want the   invoked JSP to have access to the object itself , I do n't think you can do   that .\n",
      "Personally I have logic being mixed in with presentation , as such I 'd limit   the JSP code as much as possible , the way I 'd do this is by writing all the   logic as Beans which either then access the database directly or through   EJB 's .\n",
      "At the moment I do web applications ( Java / Servlets / XML )    > >\n",
      "How can i do it in JSP .\n",
      "Oh , wait , you want JSP to do it - which means   the client does n't have anything to do with it at * all * except to issue a   request to the JSP container .\n",
      "Cc : piyush goel   Sent : Friday , June 11 , 1999 7:36 AM   Subject : client interface     rajeev    i havea rudimentary jni thing working , but in order to integrate   i need to do some more things .\n",
      "How can i do it in struts framework ?\n",
      "Please tell how you have VC expert edition doing this .    which application server are you remote debugging with it ?    I 'd also like to hear from anybody who has JPadPro working with debugging   servlets with Orion ...    >\n",
      "However , when I tried to do the same thing in JSP , It 's   > giving me an Illgal State Exception .\n",
      "Can somebody tell some resource on learning to   use & do the settings on   > Visual Age , specifically for servlets / JSP programming ?   >   >\n",
      "I always   > > here that JSP can use all of he [LOCATION] libraries , but can it do all of the   > > AWT and Swing stuff ?\n",
      "i want to do this because it is not reloading the servlet even when i have   compled it again this might be because i am using   rmi   and i need to copy   the servlets class file in t the servers classpath , but i have tried to copy   the new classfile there but that does'nt work .\n",
      "Hi All     I try to write code that downloads file from jsp but always after I use           response.getOutputStream ( )    I get           IllegalStateException : ' OutputStream is already being used for this   request '      What can I do about it ?\n",
      "For   example , you could certainly do this :    function(file_obj ) {     Window.location=\"MyFile.jsp?fileparm= \" + file_obj ;   }    if the \" file_obj \" thing is a file NAME rather than a full - blown object that   you want your JSP to be able to deal with directly .\n",
      "One thing , however - I still was going to have the main   > \" controller \" servlet that was going to do the routine things - check for   > login , check for session , etc .\n",
      "Many servlet containers do this now , although apparently some do create   multiple instance of threadable servlets ( I do n't know which ) .\n",
      "I realize that this is probably because   I am get the request dispatcher from the servlet context but I do n't know   how else to do it .\n",
      "Resources :   >   http://java.sun.com/products/servlet/external-resources.html   > LISTSERV Help :   http://www.lsoft.com/manuals/user/user.html     _ _ _ _ _ _ _ _ _ _ _ _ _ _ _ _ _ _ _ _ _ _ _ _ _ _ _ _ _ _ _ _ _ _ _ _ _ _ _ _ _ _ _ _ _ _ _ _ _ _   Do You Yahoo ! ?   Get personalized email addresses from Yahoo !\n",
      ">   > How do I do this Object Serialization between JSP and Servlet .\n"
     ]
    }
   ],
   "source": [
    "topic_docs = inspect_topic_docs(topic_id,n_docs=20)"
   ]
  },
  {
   "cell_type": "code",
   "execution_count": 427,
   "metadata": {},
   "outputs": [
    {
     "data": {
      "text/plain": [
       "59"
      ]
     },
     "execution_count": 427,
     "metadata": {},
     "output_type": "execute_result"
    }
   ],
   "source": [
    "len(topic_model.get_topics())"
   ]
  },
  {
   "cell_type": "code",
   "execution_count": 485,
   "metadata": {},
   "outputs": [
    {
     "name": "stderr",
     "output_type": "stream",
     "text": [
      "2024-11-06 15:37:29,646 - BERTopic - WARNING: When you use `pickle` to save/load a BERTopic model,please make sure that the environments in which you saveand load the model are **exactly** the same. The version of BERTopic,its dependencies, and python need to remain the same.\n"
     ]
    }
   ],
   "source": [
    "topic_model.save(\"../../../data/bertopic_models/intents/02_call/call_processed\")"
   ]
  },
  {
   "cell_type": "code",
   "execution_count": 707,
   "metadata": {},
   "outputs": [
    {
     "data": {
      "application/vnd.plotly.v1+json": {
       "config": {
        "plotlyServerURL": "https://plot.ly"
       },
       "data": [
        {
         "hoverinfo": "text",
         "marker": {
          "color": "rgb(61,153,112)"
         },
         "mode": "lines",
         "type": "scatter",
         "x": [
          0,
          0.7135074134039704,
          0.7135074134039704,
          0
         ],
         "xaxis": "x",
         "y": [
          -5,
          -5,
          -15,
          -15
         ],
         "yaxis": "y"
        },
        {
         "hoverinfo": "text",
         "marker": {
          "color": "rgb(61,153,112)"
         },
         "mode": "lines",
         "type": "scatter",
         "x": [
          0.7135074134039704,
          0.782191623138957,
          0.782191623138957,
          0
         ],
         "xaxis": "x",
         "y": [
          -10,
          -10,
          -25,
          -25
         ],
         "yaxis": "y"
        },
        {
         "hoverinfo": "text",
         "marker": {
          "color": "rgb(61,153,112)"
         },
         "mode": "lines",
         "type": "scatter",
         "x": [
          0,
          0.41372025659328127,
          0.41372025659328127,
          0
         ],
         "xaxis": "x",
         "y": [
          -55,
          -55,
          -65,
          -65
         ],
         "yaxis": "y"
        },
        {
         "hoverinfo": "text",
         "marker": {
          "color": "rgb(61,153,112)"
         },
         "mode": "lines",
         "type": "scatter",
         "x": [
          0,
          0.4963917020695075,
          0.4963917020695075,
          0.41372025659328127
         ],
         "xaxis": "x",
         "y": [
          -45,
          -45,
          -60,
          -60
         ],
         "yaxis": "y"
        },
        {
         "hoverinfo": "text",
         "marker": {
          "color": "rgb(61,153,112)"
         },
         "mode": "lines",
         "type": "scatter",
         "x": [
          0.4963917020695075,
          0.6016710001186739,
          0.6016710001186739,
          0
         ],
         "xaxis": "x",
         "y": [
          -52.5,
          -52.5,
          -75,
          -75
         ],
         "yaxis": "y"
        },
        {
         "hoverinfo": "text",
         "marker": {
          "color": "rgb(61,153,112)"
         },
         "mode": "lines",
         "type": "scatter",
         "x": [
          0,
          0.6460847665708855,
          0.6460847665708855,
          0.6016710001186739
         ],
         "xaxis": "x",
         "y": [
          -35,
          -35,
          -63.75,
          -63.75
         ],
         "yaxis": "y"
        },
        {
         "hoverinfo": "text",
         "marker": {
          "color": "rgb(61,153,112)"
         },
         "mode": "lines",
         "type": "scatter",
         "x": [
          0,
          0.6231178061391416,
          0.6231178061391416,
          0
         ],
         "xaxis": "x",
         "y": [
          -85,
          -85,
          -95,
          -95
         ],
         "yaxis": "y"
        },
        {
         "hoverinfo": "text",
         "marker": {
          "color": "rgb(61,153,112)"
         },
         "mode": "lines",
         "type": "scatter",
         "x": [
          0.6460847665708855,
          0.6713595286435246,
          0.6713595286435246,
          0.6231178061391416
         ],
         "xaxis": "x",
         "y": [
          -49.375,
          -49.375,
          -90,
          -90
         ],
         "yaxis": "y"
        },
        {
         "hoverinfo": "text",
         "marker": {
          "color": "rgb(61,153,112)"
         },
         "mode": "lines",
         "type": "scatter",
         "x": [
          0.6713595286435246,
          0.7168926590782941,
          0.7168926590782941,
          0
         ],
         "xaxis": "x",
         "y": [
          -69.6875,
          -69.6875,
          -105,
          -105
         ],
         "yaxis": "y"
        },
        {
         "hoverinfo": "text",
         "marker": {
          "color": "rgb(61,153,112)"
         },
         "mode": "lines",
         "type": "scatter",
         "x": [
          0.782191623138957,
          0.8133598225479437,
          0.8133598225479437,
          0.7168926590782941
         ],
         "xaxis": "x",
         "y": [
          -17.5,
          -17.5,
          -87.34375,
          -87.34375
         ],
         "yaxis": "y"
        },
        {
         "hoverinfo": "text",
         "marker": {
          "color": "rgb(61,153,112)"
         },
         "mode": "lines",
         "type": "scatter",
         "x": [
          0,
          0.4147949104296298,
          0.4147949104296298,
          0
         ],
         "xaxis": "x",
         "y": [
          -125,
          -125,
          -135,
          -135
         ],
         "yaxis": "y"
        },
        {
         "hoverinfo": "text",
         "marker": {
          "color": "rgb(61,153,112)"
         },
         "mode": "lines",
         "type": "scatter",
         "x": [
          0,
          0.6715955522001963,
          0.6715955522001963,
          0.4147949104296298
         ],
         "xaxis": "x",
         "y": [
          -115,
          -115,
          -130,
          -130
         ],
         "yaxis": "y"
        },
        {
         "hoverinfo": "text",
         "marker": {
          "color": "rgb(61,153,112)"
         },
         "mode": "lines",
         "type": "scatter",
         "x": [
          0.6715955522001963,
          0.8212887832841274,
          0.8212887832841274,
          0
         ],
         "xaxis": "x",
         "y": [
          -122.5,
          -122.5,
          -145,
          -145
         ],
         "yaxis": "y"
        },
        {
         "hoverinfo": "text",
         "marker": {
          "color": "rgb(61,153,112)"
         },
         "mode": "lines",
         "type": "scatter",
         "x": [
          0.8133598225479437,
          0.9241016126090494,
          0.9241016126090494,
          0.8212887832841274
         ],
         "xaxis": "x",
         "y": [
          -52.421875,
          -52.421875,
          -133.75,
          -133.75
         ],
         "yaxis": "y"
        }
       ],
       "layout": {
        "autosize": false,
        "height": 425,
        "hoverlabel": {
         "bgcolor": "white",
         "font": {
          "family": "Rockwell",
          "size": 16
         }
        },
        "hovermode": "closest",
        "plot_bgcolor": "#ECEFF1",
        "showlegend": false,
        "template": {
         "data": {
          "bar": [
           {
            "error_x": {
             "color": "#2a3f5f"
            },
            "error_y": {
             "color": "#2a3f5f"
            },
            "marker": {
             "line": {
              "color": "white",
              "width": 0.5
             },
             "pattern": {
              "fillmode": "overlay",
              "size": 10,
              "solidity": 0.2
             }
            },
            "type": "bar"
           }
          ],
          "barpolar": [
           {
            "marker": {
             "line": {
              "color": "white",
              "width": 0.5
             },
             "pattern": {
              "fillmode": "overlay",
              "size": 10,
              "solidity": 0.2
             }
            },
            "type": "barpolar"
           }
          ],
          "carpet": [
           {
            "aaxis": {
             "endlinecolor": "#2a3f5f",
             "gridcolor": "#C8D4E3",
             "linecolor": "#C8D4E3",
             "minorgridcolor": "#C8D4E3",
             "startlinecolor": "#2a3f5f"
            },
            "baxis": {
             "endlinecolor": "#2a3f5f",
             "gridcolor": "#C8D4E3",
             "linecolor": "#C8D4E3",
             "minorgridcolor": "#C8D4E3",
             "startlinecolor": "#2a3f5f"
            },
            "type": "carpet"
           }
          ],
          "choropleth": [
           {
            "colorbar": {
             "outlinewidth": 0,
             "ticks": ""
            },
            "type": "choropleth"
           }
          ],
          "contour": [
           {
            "colorbar": {
             "outlinewidth": 0,
             "ticks": ""
            },
            "colorscale": [
             [
              0,
              "#0d0887"
             ],
             [
              0.1111111111111111,
              "#46039f"
             ],
             [
              0.2222222222222222,
              "#7201a8"
             ],
             [
              0.3333333333333333,
              "#9c179e"
             ],
             [
              0.4444444444444444,
              "#bd3786"
             ],
             [
              0.5555555555555556,
              "#d8576b"
             ],
             [
              0.6666666666666666,
              "#ed7953"
             ],
             [
              0.7777777777777778,
              "#fb9f3a"
             ],
             [
              0.8888888888888888,
              "#fdca26"
             ],
             [
              1,
              "#f0f921"
             ]
            ],
            "type": "contour"
           }
          ],
          "contourcarpet": [
           {
            "colorbar": {
             "outlinewidth": 0,
             "ticks": ""
            },
            "type": "contourcarpet"
           }
          ],
          "heatmap": [
           {
            "colorbar": {
             "outlinewidth": 0,
             "ticks": ""
            },
            "colorscale": [
             [
              0,
              "#0d0887"
             ],
             [
              0.1111111111111111,
              "#46039f"
             ],
             [
              0.2222222222222222,
              "#7201a8"
             ],
             [
              0.3333333333333333,
              "#9c179e"
             ],
             [
              0.4444444444444444,
              "#bd3786"
             ],
             [
              0.5555555555555556,
              "#d8576b"
             ],
             [
              0.6666666666666666,
              "#ed7953"
             ],
             [
              0.7777777777777778,
              "#fb9f3a"
             ],
             [
              0.8888888888888888,
              "#fdca26"
             ],
             [
              1,
              "#f0f921"
             ]
            ],
            "type": "heatmap"
           }
          ],
          "heatmapgl": [
           {
            "colorbar": {
             "outlinewidth": 0,
             "ticks": ""
            },
            "colorscale": [
             [
              0,
              "#0d0887"
             ],
             [
              0.1111111111111111,
              "#46039f"
             ],
             [
              0.2222222222222222,
              "#7201a8"
             ],
             [
              0.3333333333333333,
              "#9c179e"
             ],
             [
              0.4444444444444444,
              "#bd3786"
             ],
             [
              0.5555555555555556,
              "#d8576b"
             ],
             [
              0.6666666666666666,
              "#ed7953"
             ],
             [
              0.7777777777777778,
              "#fb9f3a"
             ],
             [
              0.8888888888888888,
              "#fdca26"
             ],
             [
              1,
              "#f0f921"
             ]
            ],
            "type": "heatmapgl"
           }
          ],
          "histogram": [
           {
            "marker": {
             "pattern": {
              "fillmode": "overlay",
              "size": 10,
              "solidity": 0.2
             }
            },
            "type": "histogram"
           }
          ],
          "histogram2d": [
           {
            "colorbar": {
             "outlinewidth": 0,
             "ticks": ""
            },
            "colorscale": [
             [
              0,
              "#0d0887"
             ],
             [
              0.1111111111111111,
              "#46039f"
             ],
             [
              0.2222222222222222,
              "#7201a8"
             ],
             [
              0.3333333333333333,
              "#9c179e"
             ],
             [
              0.4444444444444444,
              "#bd3786"
             ],
             [
              0.5555555555555556,
              "#d8576b"
             ],
             [
              0.6666666666666666,
              "#ed7953"
             ],
             [
              0.7777777777777778,
              "#fb9f3a"
             ],
             [
              0.8888888888888888,
              "#fdca26"
             ],
             [
              1,
              "#f0f921"
             ]
            ],
            "type": "histogram2d"
           }
          ],
          "histogram2dcontour": [
           {
            "colorbar": {
             "outlinewidth": 0,
             "ticks": ""
            },
            "colorscale": [
             [
              0,
              "#0d0887"
             ],
             [
              0.1111111111111111,
              "#46039f"
             ],
             [
              0.2222222222222222,
              "#7201a8"
             ],
             [
              0.3333333333333333,
              "#9c179e"
             ],
             [
              0.4444444444444444,
              "#bd3786"
             ],
             [
              0.5555555555555556,
              "#d8576b"
             ],
             [
              0.6666666666666666,
              "#ed7953"
             ],
             [
              0.7777777777777778,
              "#fb9f3a"
             ],
             [
              0.8888888888888888,
              "#fdca26"
             ],
             [
              1,
              "#f0f921"
             ]
            ],
            "type": "histogram2dcontour"
           }
          ],
          "mesh3d": [
           {
            "colorbar": {
             "outlinewidth": 0,
             "ticks": ""
            },
            "type": "mesh3d"
           }
          ],
          "parcoords": [
           {
            "line": {
             "colorbar": {
              "outlinewidth": 0,
              "ticks": ""
             }
            },
            "type": "parcoords"
           }
          ],
          "pie": [
           {
            "automargin": true,
            "type": "pie"
           }
          ],
          "scatter": [
           {
            "fillpattern": {
             "fillmode": "overlay",
             "size": 10,
             "solidity": 0.2
            },
            "type": "scatter"
           }
          ],
          "scatter3d": [
           {
            "line": {
             "colorbar": {
              "outlinewidth": 0,
              "ticks": ""
             }
            },
            "marker": {
             "colorbar": {
              "outlinewidth": 0,
              "ticks": ""
             }
            },
            "type": "scatter3d"
           }
          ],
          "scattercarpet": [
           {
            "marker": {
             "colorbar": {
              "outlinewidth": 0,
              "ticks": ""
             }
            },
            "type": "scattercarpet"
           }
          ],
          "scattergeo": [
           {
            "marker": {
             "colorbar": {
              "outlinewidth": 0,
              "ticks": ""
             }
            },
            "type": "scattergeo"
           }
          ],
          "scattergl": [
           {
            "marker": {
             "colorbar": {
              "outlinewidth": 0,
              "ticks": ""
             }
            },
            "type": "scattergl"
           }
          ],
          "scattermapbox": [
           {
            "marker": {
             "colorbar": {
              "outlinewidth": 0,
              "ticks": ""
             }
            },
            "type": "scattermapbox"
           }
          ],
          "scatterpolar": [
           {
            "marker": {
             "colorbar": {
              "outlinewidth": 0,
              "ticks": ""
             }
            },
            "type": "scatterpolar"
           }
          ],
          "scatterpolargl": [
           {
            "marker": {
             "colorbar": {
              "outlinewidth": 0,
              "ticks": ""
             }
            },
            "type": "scatterpolargl"
           }
          ],
          "scatterternary": [
           {
            "marker": {
             "colorbar": {
              "outlinewidth": 0,
              "ticks": ""
             }
            },
            "type": "scatterternary"
           }
          ],
          "surface": [
           {
            "colorbar": {
             "outlinewidth": 0,
             "ticks": ""
            },
            "colorscale": [
             [
              0,
              "#0d0887"
             ],
             [
              0.1111111111111111,
              "#46039f"
             ],
             [
              0.2222222222222222,
              "#7201a8"
             ],
             [
              0.3333333333333333,
              "#9c179e"
             ],
             [
              0.4444444444444444,
              "#bd3786"
             ],
             [
              0.5555555555555556,
              "#d8576b"
             ],
             [
              0.6666666666666666,
              "#ed7953"
             ],
             [
              0.7777777777777778,
              "#fb9f3a"
             ],
             [
              0.8888888888888888,
              "#fdca26"
             ],
             [
              1,
              "#f0f921"
             ]
            ],
            "type": "surface"
           }
          ],
          "table": [
           {
            "cells": {
             "fill": {
              "color": "#EBF0F8"
             },
             "line": {
              "color": "white"
             }
            },
            "header": {
             "fill": {
              "color": "#C8D4E3"
             },
             "line": {
              "color": "white"
             }
            },
            "type": "table"
           }
          ]
         },
         "layout": {
          "annotationdefaults": {
           "arrowcolor": "#2a3f5f",
           "arrowhead": 0,
           "arrowwidth": 1
          },
          "autotypenumbers": "strict",
          "coloraxis": {
           "colorbar": {
            "outlinewidth": 0,
            "ticks": ""
           }
          },
          "colorscale": {
           "diverging": [
            [
             0,
             "#8e0152"
            ],
            [
             0.1,
             "#c51b7d"
            ],
            [
             0.2,
             "#de77ae"
            ],
            [
             0.3,
             "#f1b6da"
            ],
            [
             0.4,
             "#fde0ef"
            ],
            [
             0.5,
             "#f7f7f7"
            ],
            [
             0.6,
             "#e6f5d0"
            ],
            [
             0.7,
             "#b8e186"
            ],
            [
             0.8,
             "#7fbc41"
            ],
            [
             0.9,
             "#4d9221"
            ],
            [
             1,
             "#276419"
            ]
           ],
           "sequential": [
            [
             0,
             "#0d0887"
            ],
            [
             0.1111111111111111,
             "#46039f"
            ],
            [
             0.2222222222222222,
             "#7201a8"
            ],
            [
             0.3333333333333333,
             "#9c179e"
            ],
            [
             0.4444444444444444,
             "#bd3786"
            ],
            [
             0.5555555555555556,
             "#d8576b"
            ],
            [
             0.6666666666666666,
             "#ed7953"
            ],
            [
             0.7777777777777778,
             "#fb9f3a"
            ],
            [
             0.8888888888888888,
             "#fdca26"
            ],
            [
             1,
             "#f0f921"
            ]
           ],
           "sequentialminus": [
            [
             0,
             "#0d0887"
            ],
            [
             0.1111111111111111,
             "#46039f"
            ],
            [
             0.2222222222222222,
             "#7201a8"
            ],
            [
             0.3333333333333333,
             "#9c179e"
            ],
            [
             0.4444444444444444,
             "#bd3786"
            ],
            [
             0.5555555555555556,
             "#d8576b"
            ],
            [
             0.6666666666666666,
             "#ed7953"
            ],
            [
             0.7777777777777778,
             "#fb9f3a"
            ],
            [
             0.8888888888888888,
             "#fdca26"
            ],
            [
             1,
             "#f0f921"
            ]
           ]
          },
          "colorway": [
           "#636efa",
           "#EF553B",
           "#00cc96",
           "#ab63fa",
           "#FFA15A",
           "#19d3f3",
           "#FF6692",
           "#B6E880",
           "#FF97FF",
           "#FECB52"
          ],
          "font": {
           "color": "#2a3f5f"
          },
          "geo": {
           "bgcolor": "white",
           "lakecolor": "white",
           "landcolor": "white",
           "showlakes": true,
           "showland": true,
           "subunitcolor": "#C8D4E3"
          },
          "hoverlabel": {
           "align": "left"
          },
          "hovermode": "closest",
          "mapbox": {
           "style": "light"
          },
          "paper_bgcolor": "white",
          "plot_bgcolor": "white",
          "polar": {
           "angularaxis": {
            "gridcolor": "#EBF0F8",
            "linecolor": "#EBF0F8",
            "ticks": ""
           },
           "bgcolor": "white",
           "radialaxis": {
            "gridcolor": "#EBF0F8",
            "linecolor": "#EBF0F8",
            "ticks": ""
           }
          },
          "scene": {
           "xaxis": {
            "backgroundcolor": "white",
            "gridcolor": "#DFE8F3",
            "gridwidth": 2,
            "linecolor": "#EBF0F8",
            "showbackground": true,
            "ticks": "",
            "zerolinecolor": "#EBF0F8"
           },
           "yaxis": {
            "backgroundcolor": "white",
            "gridcolor": "#DFE8F3",
            "gridwidth": 2,
            "linecolor": "#EBF0F8",
            "showbackground": true,
            "ticks": "",
            "zerolinecolor": "#EBF0F8"
           },
           "zaxis": {
            "backgroundcolor": "white",
            "gridcolor": "#DFE8F3",
            "gridwidth": 2,
            "linecolor": "#EBF0F8",
            "showbackground": true,
            "ticks": "",
            "zerolinecolor": "#EBF0F8"
           }
          },
          "shapedefaults": {
           "line": {
            "color": "#2a3f5f"
           }
          },
          "ternary": {
           "aaxis": {
            "gridcolor": "#DFE8F3",
            "linecolor": "#A2B1C6",
            "ticks": ""
           },
           "baxis": {
            "gridcolor": "#DFE8F3",
            "linecolor": "#A2B1C6",
            "ticks": ""
           },
           "bgcolor": "white",
           "caxis": {
            "gridcolor": "#DFE8F3",
            "linecolor": "#A2B1C6",
            "ticks": ""
           }
          },
          "title": {
           "x": 0.05
          },
          "xaxis": {
           "automargin": true,
           "gridcolor": "#EBF0F8",
           "linecolor": "#EBF0F8",
           "ticks": "",
           "title": {
            "standoff": 15
           },
           "zerolinecolor": "#EBF0F8",
           "zerolinewidth": 2
          },
          "yaxis": {
           "automargin": true,
           "gridcolor": "#EBF0F8",
           "linecolor": "#EBF0F8",
           "ticks": "",
           "title": {
            "standoff": 15
           },
           "zerolinecolor": "#EBF0F8",
           "zerolinewidth": 2
          }
         }
        },
        "title": {
         "font": {
          "color": "Black",
          "size": 22
         },
         "text": "<b>Hierarchical Clustering</b>",
         "x": 0.5,
         "xanchor": "center",
         "yanchor": "top"
        },
        "width": 1000,
        "xaxis": {
         "mirror": "allticks",
         "rangemode": "tozero",
         "showgrid": false,
         "showline": true,
         "showticklabels": true,
         "ticks": "outside",
         "type": "linear",
         "zeroline": false
        },
        "yaxis": {
         "mirror": "allticks",
         "range": [
          -150,
          0
         ],
         "rangemode": "tozero",
         "showgrid": false,
         "showline": true,
         "showticklabels": true,
         "tickmode": "array",
         "ticks": "outside",
         "ticktext": [
          "12_webex_meeting_the",
          "8_demo_the_demos",
          "9_pair_programming_code",
          "6_slides_presentation_slide",
          "3_person_help_you",
          "5_problem_it_the",
          "1_look_take_me",
          "11_spreadsheet_look_take",
          "4_test_testing_tests",
          "2_jsp_java_the",
          "7_bugzilla_bugs_bug",
          "13_installing_need_installa...",
          "0_let_if_know",
          "10_changes_change_let",
          "14_siebel_client_select"
         ],
         "tickvals": [
          -5,
          -15,
          -25,
          -35,
          -45,
          -55,
          -65,
          -75,
          -85,
          -95,
          -105,
          -115,
          -125,
          -135,
          -145
         ],
         "type": "linear",
         "zeroline": false
        }
       }
      }
     },
     "metadata": {},
     "output_type": "display_data"
    }
   ],
   "source": [
    "topic_model.visualize_hierarchy(custom_labels=False)"
   ]
  },
  {
   "cell_type": "code",
   "execution_count": 1121,
   "metadata": {},
   "outputs": [
    {
     "name": "stderr",
     "output_type": "stream",
     "text": [
      "2024-11-06 17:34:41,016 - BERTopic - WARNING: When you use `pickle` to save/load a BERTopic model,please make sure that the environments in which you saveand load the model are **exactly** the same. The version of BERTopic,its dependencies, and python need to remain the same.\n"
     ]
    }
   ],
   "source": [
    "topic_model.save(\"../../../data/bertopic_models/intents/02_call/call_final\")"
   ]
  },
  {
   "cell_type": "markdown",
   "metadata": {},
   "source": [
    "### Create Dataset for intent 'help'"
   ]
  },
  {
   "cell_type": "markdown",
   "metadata": {},
   "source": [
    "####  Labels"
   ]
  },
  {
   "cell_type": "markdown",
   "metadata": {},
   "source": [
    "Created custom labels for topics\n",
    "\n",
    "| Label                             | Description                                       | Extraction Strings | Context needed |\n",
    "|-----------------------------------|---------------------------------------------------|--------------------|----------------|\n",
    "| '0_offer_help',\n",
    "| '1_request_help',\n",
    "| '2_jsp_java_code',\n",
    "| '3_refer_help',\n",
    "| '4_person_help_out_you',\n",
    "| '5_it_problems',"
   ]
  },
  {
   "cell_type": "markdown",
   "metadata": {},
   "source": [
    "#### Inspecting Topics"
   ]
  },
  {
   "cell_type": "code",
   "execution_count": 1672,
   "metadata": {},
   "outputs": [
    {
     "data": {
      "text/plain": [
       "'\\nfor  label in topic_model.custom_labels_:\\n   print(label)'"
      ]
     },
     "execution_count": 1672,
     "metadata": {},
     "output_type": "execute_result"
    }
   ],
   "source": [
    "'''\n",
    "for  label in topic_model.custom_labels_:\n",
    "   print(label)'''"
   ]
  },
  {
   "cell_type": "code",
   "execution_count": 3,
   "metadata": {},
   "outputs": [],
   "source": [
    "topic_model = BERTopic.load(\"../../data/bertopic_models/processed/send_final\")"
   ]
  },
  {
   "cell_type": "code",
   "execution_count": 758,
   "metadata": {},
   "outputs": [
    {
     "name": "stdout",
     "output_type": "stream",
     "text": [
      "Number of Documents: 106\n",
      "\n",
      "I also think that we will need help from [PERSON] on fixing some of the bugs which are filed by [PERSON] and hard to reproduce at [LOCATION] [LOCATION] .\n",
      "Micro$oft software is having problems similar to this and there have been patches made available for this problem for a couple weeks .\n",
      "Ravi ,   this is an interesting scenario , I think we have some problems with that , that needs to be fixed .\n",
      "Simple errors like this should n't require [PERSON] 's help to resolve , but she is getting pulled in to them .\n",
      "Hi Shailesh ,         Please try this patch for the project having problem .\n",
      "Clone of ' [PERSON] ' virus infects the Internet    Promising help in the mating game , a new Trojan virus similar to the \" [PERSON] \" bug is proliferating quickly across the Internet , computer security specialists cautioned this week .    - FULL STORY -    Sci - Tech index \t  -Next category- \t  - Back to top - \t      _ _ _ _ _\n",
      "We did n't have the second problem when we tested app locally , but when we   > put it on COLO , it happened .\n",
      "I too had the   similar problem and rectified that by above procedure but i do not rule out   any other better solutions .   -----\n",
      "If you could only start 1 line and only use that line ,   that would help us with debugging .\n",
      "Can you take a look and apply fixes accordingly , ASAP ?   >   >\n",
      "Issue # 4 should not be a problem , it should work as documented and I will provide help if it does n't .\n",
      "can you take a look to see what the problem is , mark ?\n",
      "[PERSON] = Internal Error : Unable to display help , report the problem to technical support .\n",
      "Hi    I would need your help to get more traces for fixing our recognition problems .\n",
      "Please take a look at this and see if you can reproduce this using the latest build .\n",
      "They have a workaround for now ; however , we might have to help them in the future .\n",
      "Steve-    Do't know where to start , I need help to pull all the resources to fix the problem , we still do n't even know whose problem is this , I ran out of ideas to fix the problem    any help out there ?\n",
      "[PERSON] ,   This should be fixed now I helped [PERSON] with his password today .\n",
      "[PERSON] ,    Thanks , uninstall and reinstalling did the trick ...   Appreciate the help .\n",
      "If you have had a chance to take a look at the project I sent and   understand the problem that I 'm having .\n"
     ]
    }
   ],
   "source": [
    "topic_id = 5\n",
    "topic_docs = inspect_topic_docs(topic_id=topic_id, n_docs=20)"
   ]
  },
  {
   "cell_type": "code",
   "execution_count": 759,
   "metadata": {},
   "outputs": [],
   "source": [
    "# Based on the inspection of the sentences\n",
    "white_list = [\n",
    "    \"\"\n",
    "]\n",
    "black_list = [\n",
    "\n",
    "]"
   ]
  },
  {
   "cell_type": "code",
   "execution_count": 760,
   "metadata": {},
   "outputs": [
    {
     "name": "stdout",
     "output_type": "stream",
     "text": [
      "Amount of sentences: 106\n"
     ]
    },
    {
     "data": {
      "text/plain": [
       "[\"My 2 cents :    - Old open bugs : Bugs can not be closed using [PERSON] 's help                            without seeing whether those bugs are relevant or not .\",\n",
       " 'have you had any problem with updating this spread sheet .',\n",
       " 'But that has not helped me in pointing out the problem on the colocation server .',\n",
       " 'Please take a look at this and see if you can reproduce this using the latest build .',\n",
       " \"We did n't have the second problem when we tested app locally , but when we put it on COLO , it happened .\",\n",
       " '[PERSON]    Can you help get some more information on this bug ?    Thanks   Srik',\n",
       " 'Also , can you have [PERSON] take a look again at the 8 purge failures   in OSA .',\n",
       " \"We did n't have the second problem when we tested app locally , but when we   > put it on COLO , it happened .\",\n",
       " \"[PERSON] ,    We may need Sreenivas ' help to reproduce bugs during weekend .\",\n",
       " 'Let us fix this then , this seems like a totally internal issue which will   help us all .',\n",
       " 'If you need some help fixing the problem , feel free to ask me .    -Jin',\n",
       " 'However we are having a problem on the configuration side of things .',\n",
       " 'I also think that we will need help from [PERSON] on fixing some of the bugs which are filed by [PERSON] and hard to reproduce at [LOCATION] [LOCATION] .',\n",
       " '[PERSON] ,   This should be fixed now I helped [PERSON] with his password today .',\n",
       " \"I need [PERSON] ' help in reproducing this bug .\",\n",
       " '[PERSON] ,    I need to help you with doing this bug report for rajeev .',\n",
       " '[PERSON] ,    Please take a look EMAS URLexception issue .',\n",
       " 'If you need our help with the fix let me know .',\n",
       " 'So this application still has problem somehow , but it should be removed .     Regards ,',\n",
       " \"If it does n't , then I may have to take [PERSON] 's help to see why it has failed and then try to resolve them .\",\n",
       " 'Your answers may help me lot to track down the problem ...    Thanks   Ashish',\n",
       " 'Could you take a look at it and add any more detail needed based on your knowlegde of the applications ( even in the details regarding the bug issue ) ?    Thanks .',\n",
       " 'I need some help reproduce this , but taking a quick look at the source , the only possible causes I can think of at the moment are :    * \\t Several iterations of a loop do not genrate any prompt , causing ECS to produce empty screens .',\n",
       " 'Hi Shailesh ,         Please try this patch for the project having problem .',\n",
       " \"If you have had a chance to take a look at the project I sent and   understand the problem that I 'm having .\",\n",
       " 'Can you take a look and apply fixes accordingly , ASAP ?   >   >',\n",
       " 'hi , Srik :    I have updated the doc with all the issues mentioned in your email , please take a look and then I will check in .',\n",
       " 'Can you take a look at this and see if you can make any progress or further able to analyze the problem ?',\n",
       " '[PERSON] , we need your help in getting a resolution to this bug / enhancement as soon as possible .',\n",
       " 'Also please mention which page in the project has this problem .',\n",
       " 'Can you please take a look at it and let [PERSON] now if it is in error so that it can be update .',\n",
       " '[PERSON] seems to be having problems with the filter because it does not show in the queries .',\n",
       " 'I too had the   similar problem and rectified that by above procedure but i do not rule out   any other better solutions .   -----',\n",
       " \"we have a problem reported from Werner(germany ) where we do n't have much expertise .\",\n",
       " 'Once you start using Globalrez please let me know if you have any problems with Globalrez or profile update .',\n",
       " 'If you got those problems again , could you please do a capture screen , and save it so I can take a look at it later .',\n",
       " '1 ) Helped Edward for bug 6294 , profileProperty BC download    For [PERSON] [PERSON]   1 ) Completed upload test cases for MVG based Parent - child .   2 ) Multiple parent download test case tested .',\n",
       " \"I 'll take a close look over the next few days and maybe we can review it in   depth -- I may have an issue or two or something I 'd suggest changing ..    [PERSON] [PERSON] [PERSON]   [PERSON] [PERSON]   ( x732 )                      dave.truman@sitraka.com    Technical Publications , Mobility         4162002292@txt.bellmobility.ca                  http://iwww.sitraka.com/mobility/rd/pubs/   _ _ _ _ _ _ _ _ _ _ _ _ _ _ _ _ _ _ _ _ _ _ _ _ _ _ _ _ _ _ _ _ _ _ _ _ _ _ _ _ _ _ _ _ _ _ _ _ _ _ _ _ _ _ _ _ _ _ _ _ _ _ _ _ _ _ _ _ _ _ _   /\",\n",
       " 'Also , try entering bad numbers to handle the possilbe error messages for Both 1 and 2 .    Thanks and please let me know if you have any questions .',\n",
       " \"The [PERSON] team needs the offline team 's help regarding bug 3863 .\",\n",
       " 'As I said , please let me know if you have any problems with [PERSON] 7.0.3 .',\n",
       " 'I have a question , are you aware of a virus called [PERSON] and have you placed a patch on your server for it ?',\n",
       " 'Do let me know in case you need any help to reproduce this problem .',\n",
       " 'Unfortunantely , [PERSON] will not be able to take a look at this issue right now , so I will try to see if someone else can help .',\n",
       " 'Please take a look at bug 3880 and fix it .',\n",
       " 'Hi [PERSON] [PERSON] [PERSON] this bug causes intermittent failures in the functional suite -   can someone take a look at it - it seems to be frequent   enough that we need to have it fixed .',\n",
       " \"We would like your group 's help in identifying this problem asap .\",\n",
       " \"I restarted and brought the t1 down then up and it did n't help anything .\",\n",
       " 'Hi ,     > I will ( shortly ) be able to help you with this issue , as well as   > several others .',\n",
       " 'Could you please take a look and tell me when it is fixed .',\n",
       " \"The status of the Sever Config doc so far is that I have it 's back broken , need some more help with one or two things .\",\n",
       " '[PERSON] ,    Thanks , uninstall and reinstalling did the trick ...   Appreciate the help .',\n",
       " 'Not sure why this is an issue ?    [PERSON] if you need help with this then contact [PERSON] .',\n",
       " \"Simple errors like this should n't require [PERSON] 's help to resolve , but she is getting pulled in to them .\",\n",
       " 'The errors have continued all weekend ?    Can you take a look at it or is it ?',\n",
       " 'thanks [PERSON] [PERSON] [PERSON] Can you log a bug for the memory usage and have someone ( [PERSON] [PERSON] [PERSON] )   take a look at it .',\n",
       " 'Please take a look at my comment below in the debugging part .',\n",
       " 'We have implemented a solution that should help this situation .',\n",
       " 'Perhaps this will help someone to recoginize the problem .',\n",
       " 'Do we have the [PERSON] to help us out debugging this problem . ?',\n",
       " 'Can somebody help me understand what happened ?    [PERSON] [PERSON]   Senior Software Engineer / GUI Gal   408 - 562 - 7977',\n",
       " 'Please try again.\\\\n \" ;           goto get_user_input ;       }    I noticed the label / goto is basically just a way to do inline function   declarations , and remembered yet another alternative :    int   getChoice ( ) {       int x = [PERSON] ( ) ;        if ( isInRange(x ) )           return x ;        outputErrorMessage ( ) ;        return [PERSON] ( ) ;   }    I think that reads perfectly , but it has the one problem of stack   overflow .',\n",
       " '[PERSON] = Internal Error : Unable to display help , report the problem to technical support .',\n",
       " 'please take a look   at your own bug list to fix some of the problems assigned to you .',\n",
       " 'can you take a look to see what the problem is , mark ?',\n",
       " 'Hope that helps trouble shoot the problem .',\n",
       " 'Thanks to [PERSON] for helping me out to troubleshoot this project .',\n",
       " 'Can you take a   look to see if you can replicate the failure ?    Thanks ,   Joe    >',\n",
       " 'Hi Babe ,    I saw [PERSON] and [PERSON] speak at DCI tradeshow - it went pretty well but had a tech   problem at the end ( I eventually fixed it for [PERSON] ( user error ) ) .',\n",
       " 'Can you take a look at the bugs and   > check if my assumption / assertion is correct .',\n",
       " \"[PERSON] used to give me an iPlanet 4.1 with higher SP # , which does n't have this problem .\",\n",
       " 'It still needs some work and the TOC has some problems because I changed the tags but I will fix them tomorrow .',\n",
       " 'They have a workaround for now ; however , we might have to help them in the future .',\n",
       " \"He might need [PERSON] 's help to verify the bug fix .\",\n",
       " '[PERSON] ,     Have you taken a look at the code that [PERSON] claims to fix the problem ?',\n",
       " \"I will need [PERSON] ' help on many of the bugs reported on synchronization .\",\n",
       " 'You will need to update your bugs and please take a look at the following bug :    http://bugzilla / bugzilla / show_bug.cgi?id=3159    Thanks .',\n",
       " 'so please take a look at what needs to be fixed & please start working on it .',\n",
       " \"please get anyone 's help in fixing them .\",\n",
       " 'This will help us in analyzing the problem and maybe even fix it .',\n",
       " '[PERSON] ,    [PERSON] [PERSON] , below , is the person with the weird database error that you helped us with -- read his comments below .',\n",
       " \"I appreciate your help , and hopefully they 'll be able to figure out   a solution .\",\n",
       " \"I 've spoken to [PERSON] a couple of times now ( to get help with disinfecting ws_mobility_1 ) ..\",\n",
       " 'If you could only   start 1 line and only use that line , that would help us with debugging .',\n",
       " \"Issue # 4 should not be a problem , it should work as documented and I will provide help if it does n't .\",\n",
       " '[PERSON] took a look a the problem a couple of times , but tonight he can not provide me with a fix .',\n",
       " 'it is version 2.11 so could that be the problem ?   >   > thanks in advance and hope that helps [PERSON] [PERSON] [PERSON]   > cheers ,   > j   >',\n",
       " 'I rebooted my PC ( I thought we did that when you helped me last ) and now it   seems to be working ...',\n",
       " 'Support wrote :    Hello -    We would really like to help you on this issue - we can only do this with a reproducible test case defining the bug .',\n",
       " \"Steve-    Do't know where to start , I need help to pull all the resources to fix the problem , we still do n't even know whose problem is this , I ran out of ideas to fix the problem    any help out there ?\",\n",
       " 'Please let me know if you would be able to take a look at it and possibly fix it .',\n",
       " 'Please click on the attachment below to take a look at the latest issue .',\n",
       " '[PERSON]    Please let me know if you have any problems with this build .',\n",
       " 'As of now the bug count is 10 :   \\t 8 with [PERSON]  \\t 1 with [PERSON]  \\t 1 with Rajdeep    Diva ,    If you need any help from [LOCATION] [LOCATION] please let [PERSON] know .',\n",
       " 'Hi    I would need your help to get more traces for fixing our recognition problems .',\n",
       " 'Could you please try with ECS 2.5 GA server and see if you still have the same problem .',\n",
       " 'Clone of \\' [PERSON] \\' virus infects the Internet    Promising help in the mating game , a new Trojan virus similar to the \" [PERSON] \" bug is proliferating quickly across the Internet , computer security specialists cautioned this week .    - FULL STORY -    Sci - Tech index \\t  -Next category- \\t  - Back to top - \\t      _ _ _ _ _',\n",
       " 'Micro$oft software is having problems similar to this and there have been patches made available for this problem for a couple weeks .',\n",
       " 'We appreciate any help you can provide on this problem that seems to be intermittent .',\n",
       " 'Somehow things got switched around ... take a look at the version that I have attached .',\n",
       " 'Ravi ,   this is an interesting scenario , I think we have some problems with that , that needs to be fixed .',\n",
       " \"[PERSON] is having some problems with the LC2000 which gives me some time to work on the QA 's problem .\",\n",
       " \"So I 'll try my best to fix the problems on this machine , but I ca n't do everything from here so at some point I will need your help .\",\n",
       " \"[PERSON]    does this have the changes [PERSON] was talking about ; if so , then we still have a problem   w/ siebel server 's memory usage being 1.79 G !    [PERSON] , any thoughts ?\",\n",
       " 'This worked until a couple of weeks ago .    HELP !',\n",
       " 'If you could only start 1 line and only use that line ,   that would help us with debugging .']"
      ]
     },
     "execution_count": 760,
     "metadata": {},
     "output_type": "execute_result"
    }
   ],
   "source": [
    "sents_to_keep, sents_to_discard = filter_topic_documents(topic_docs=topic_docs, white_list=white_list, black_list=black_list)\n",
    "sents_to_keep"
   ]
  },
  {
   "cell_type": "code",
   "execution_count": 761,
   "metadata": {},
   "outputs": [
    {
     "data": {
      "text/plain": [
       "[]"
      ]
     },
     "execution_count": 761,
     "metadata": {},
     "output_type": "execute_result"
    }
   ],
   "source": [
    "sents_to_discard"
   ]
  },
  {
   "cell_type": "code",
   "execution_count": 762,
   "metadata": {},
   "outputs": [
    {
     "data": {
      "text/html": [
       "<div>\n",
       "<style scoped>\n",
       "    .dataframe tbody tr th:only-of-type {\n",
       "        vertical-align: middle;\n",
       "    }\n",
       "\n",
       "    .dataframe tbody tr th {\n",
       "        vertical-align: top;\n",
       "    }\n",
       "\n",
       "    .dataframe thead th {\n",
       "        text-align: right;\n",
       "    }\n",
       "</style>\n",
       "<table border=\"1\" class=\"dataframe\">\n",
       "  <thead>\n",
       "    <tr style=\"text-align: right;\">\n",
       "      <th></th>\n",
       "      <th>text</th>\n",
       "      <th>label</th>\n",
       "    </tr>\n",
       "  </thead>\n",
       "  <tbody>\n",
       "    <tr>\n",
       "      <th>0</th>\n",
       "      <td>Please let me   know if you have any questions .</td>\n",
       "      <td>offer_help</td>\n",
       "    </tr>\n",
       "    <tr>\n",
       "      <th>1</th>\n",
       "      <td>( [PERSON] )    If you have questions , please...</td>\n",
       "      <td>offer_help</td>\n",
       "    </tr>\n",
       "    <tr>\n",
       "      <th>2</th>\n",
       "      <td>&gt;   &gt; Please let me know if you have any quest...</td>\n",
       "      <td>offer_help</td>\n",
       "    </tr>\n",
       "    <tr>\n",
       "      <th>3</th>\n",
       "      <td>If you have any   questions , please do not he...</td>\n",
       "      <td>offer_help</td>\n",
       "    </tr>\n",
       "    <tr>\n",
       "      <th>4</th>\n",
       "      <td>Please let me know if this helps and if you ha...</td>\n",
       "      <td>offer_help</td>\n",
       "    </tr>\n",
       "    <tr>\n",
       "      <th>...</th>\n",
       "      <td>...</td>\n",
       "      <td>...</td>\n",
       "    </tr>\n",
       "    <tr>\n",
       "      <th>987</th>\n",
       "      <td>[PERSON] is having some problems with the LC20...</td>\n",
       "      <td>it_problems</td>\n",
       "    </tr>\n",
       "    <tr>\n",
       "      <th>988</th>\n",
       "      <td>So I 'll try my best to fix the problems on th...</td>\n",
       "      <td>it_problems</td>\n",
       "    </tr>\n",
       "    <tr>\n",
       "      <th>989</th>\n",
       "      <td>[PERSON]    does this have the changes [PERSON...</td>\n",
       "      <td>it_problems</td>\n",
       "    </tr>\n",
       "    <tr>\n",
       "      <th>990</th>\n",
       "      <td>This worked until a couple of weeks ago .    H...</td>\n",
       "      <td>it_problems</td>\n",
       "    </tr>\n",
       "    <tr>\n",
       "      <th>991</th>\n",
       "      <td>If you could only start 1 line and only use th...</td>\n",
       "      <td>it_problems</td>\n",
       "    </tr>\n",
       "  </tbody>\n",
       "</table>\n",
       "<p>992 rows × 2 columns</p>\n",
       "</div>"
      ],
      "text/plain": [
       "                                                  text        label\n",
       "0     Please let me   know if you have any questions .   offer_help\n",
       "1    ( [PERSON] )    If you have questions , please...   offer_help\n",
       "2    >   > Please let me know if you have any quest...   offer_help\n",
       "3    If you have any   questions , please do not he...   offer_help\n",
       "4    Please let me know if this helps and if you ha...   offer_help\n",
       "..                                                 ...          ...\n",
       "987  [PERSON] is having some problems with the LC20...  it_problems\n",
       "988  So I 'll try my best to fix the problems on th...  it_problems\n",
       "989  [PERSON]    does this have the changes [PERSON...  it_problems\n",
       "990  This worked until a couple of weeks ago .    H...  it_problems\n",
       "991  If you could only start 1 line and only use th...  it_problems\n",
       "\n",
       "[992 rows x 2 columns]"
      ]
     },
     "execution_count": 762,
     "metadata": {},
     "output_type": "execute_result"
    }
   ],
   "source": [
    "fp = \"../../../data/labeled/help.tsv\"\n",
    "df = pd.DataFrame({\"text\": sents_to_keep, \"label\": get_label_from_topic_nr(topic_id)})\n",
    "concat_to_df(df, filepath=fp, overwrite=False)"
   ]
  },
  {
   "cell_type": "code",
   "execution_count": 1223,
   "metadata": {},
   "outputs": [
    {
     "data": {
      "text/html": [
       "<div>\n",
       "<style scoped>\n",
       "    .dataframe tbody tr th:only-of-type {\n",
       "        vertical-align: middle;\n",
       "    }\n",
       "\n",
       "    .dataframe tbody tr th {\n",
       "        vertical-align: top;\n",
       "    }\n",
       "\n",
       "    .dataframe thead th {\n",
       "        text-align: right;\n",
       "    }\n",
       "</style>\n",
       "<table border=\"1\" class=\"dataframe\">\n",
       "  <thead>\n",
       "    <tr style=\"text-align: right;\">\n",
       "      <th></th>\n",
       "      <th>text</th>\n",
       "      <th>label</th>\n",
       "    </tr>\n",
       "  </thead>\n",
       "  <tbody>\n",
       "    <tr>\n",
       "      <th>0</th>\n",
       "      <td>Once you have had a chance to review and if yo...</td>\n",
       "      <td>call_because_of_changes</td>\n",
       "    </tr>\n",
       "    <tr>\n",
       "      <th>1</th>\n",
       "      <td>All the changes are in TradingHistoryForm.aml ...</td>\n",
       "      <td>call_because_of_changes</td>\n",
       "    </tr>\n",
       "    <tr>\n",
       "      <th>2</th>\n",
       "      <td>Please give me a call if you have any question...</td>\n",
       "      <td>call_because_of_changes</td>\n",
       "    </tr>\n",
       "    <tr>\n",
       "      <th>3</th>\n",
       "      <td>If you 'd like to have the order changed to Di...</td>\n",
       "      <td>call_because_of_changes</td>\n",
       "    </tr>\n",
       "    <tr>\n",
       "      <th>4</th>\n",
       "      <td>blair , please review and call me asap   thank...</td>\n",
       "      <td>call_because_of_changes</td>\n",
       "    </tr>\n",
       "  </tbody>\n",
       "</table>\n",
       "</div>"
      ],
      "text/plain": [
       "                                                text                    label\n",
       "0  Once you have had a chance to review and if yo...  call_because_of_changes\n",
       "1  All the changes are in TradingHistoryForm.aml ...  call_because_of_changes\n",
       "2  Please give me a call if you have any question...  call_because_of_changes\n",
       "3  If you 'd like to have the order changed to Di...  call_because_of_changes\n",
       "4  blair , please review and call me asap   thank...  call_because_of_changes"
      ]
     },
     "execution_count": 1223,
     "metadata": {},
     "output_type": "execute_result"
    }
   ],
   "source": [
    "df.head()"
   ]
  },
  {
   "cell_type": "code",
   "execution_count": null,
   "metadata": {},
   "outputs": [],
   "source": []
  }
 ],
 "metadata": {
  "kernelspec": {
   "display_name": "ma_exp_intent",
   "language": "python",
   "name": "python3"
  },
  "language_info": {
   "codemirror_mode": {
    "name": "ipython",
    "version": 3
   },
   "file_extension": ".py",
   "mimetype": "text/x-python",
   "name": "python",
   "nbconvert_exporter": "python",
   "pygments_lexer": "ipython3",
   "version": "3.12.4"
  }
 },
 "nbformat": 4,
 "nbformat_minor": 2
}
