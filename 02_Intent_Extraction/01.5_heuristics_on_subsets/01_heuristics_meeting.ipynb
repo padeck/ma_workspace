{
 "cells": [
  {
   "cell_type": "markdown",
   "metadata": {},
   "source": [
    "## Heuristics applied to pairs"
   ]
  },
  {
   "cell_type": "code",
   "execution_count": 1,
   "metadata": {},
   "outputs": [],
   "source": [
    "from bertopic import BERTopic\n",
    "from scipy.cluster import hierarchy as sch\n",
    "import pandas as pd\n",
    "import logging\n",
    "from sklearn.metrics.pairwise import cosine_distances\n",
    "from tqdm import tqdm\n",
    "import numpy as np\n",
    "from umap import UMAP\n",
    "from hdbscan import HDBSCAN\n",
    "from sentence_transformers import SentenceTransformer\n",
    "import re\n",
    "import sys\n",
    "sys.path.append('../../')\n",
    "from utility.utility_functions import *"
   ]
  },
  {
   "cell_type": "code",
   "execution_count": 2,
   "metadata": {},
   "outputs": [],
   "source": [
    "df_meeting = pd.read_parquet('../../data/processed/intents/meeting.parquet', engine='fastparquet')"
   ]
  },
  {
   "cell_type": "code",
   "execution_count": 3,
   "metadata": {},
   "outputs": [],
   "source": [
    "def create_count_df(df):\n",
    "    all_strings = [item for sublist in df['action_object_pairs'] for item in sublist]\n",
    "    all_strings = [s.lower() for s in all_strings]\n",
    "    # Step 2: Count occurrences of each full string\n",
    "    full_string_counts = Counter(all_strings)\n",
    "\n",
    "    # Step 3: Convert the Counter to a DataFrame and sort by counts in descending order\n",
    "    counts_df = pd.DataFrame(full_string_counts.items(), columns=['action_object_pairs', 'Count']).sort_values(by='Count', ascending=False)\n",
    "\n",
    "    # Reset index for neatness (optional)\n",
    "    counts_df = counts_df.reset_index(drop=True)\n",
    "    return counts_df"
   ]
  },
  {
   "cell_type": "markdown",
   "metadata": {},
   "source": [
    "## Meeting"
   ]
  },
  {
   "cell_type": "code",
   "execution_count": 4,
   "metadata": {},
   "outputs": [],
   "source": [
    "df_meeting_counts = create_count_df(df_meeting)"
   ]
  },
  {
   "cell_type": "code",
   "execution_count": 5,
   "metadata": {},
   "outputs": [
    {
     "data": {
      "text/html": [
       "<div>\n",
       "<style scoped>\n",
       "    .dataframe tbody tr th:only-of-type {\n",
       "        vertical-align: middle;\n",
       "    }\n",
       "\n",
       "    .dataframe tbody tr th {\n",
       "        vertical-align: top;\n",
       "    }\n",
       "\n",
       "    .dataframe thead th {\n",
       "        text-align: right;\n",
       "    }\n",
       "</style>\n",
       "<table border=\"1\" class=\"dataframe\">\n",
       "  <thead>\n",
       "    <tr style=\"text-align: right;\">\n",
       "      <th></th>\n",
       "      <th>action_object_pairs</th>\n",
       "      <th>Count</th>\n",
       "    </tr>\n",
       "  </thead>\n",
       "  <tbody>\n",
       "    <tr>\n",
       "      <th>0</th>\n",
       "      <td>call_me</td>\n",
       "      <td>6191</td>\n",
       "    </tr>\n",
       "    <tr>\n",
       "      <th>1</th>\n",
       "      <td>join_us</td>\n",
       "      <td>2507</td>\n",
       "    </tr>\n",
       "    <tr>\n",
       "      <th>2</th>\n",
       "      <td>have_meeting</td>\n",
       "      <td>2337</td>\n",
       "    </tr>\n",
       "    <tr>\n",
       "      <th>3</th>\n",
       "      <td>tell_me</td>\n",
       "      <td>2028</td>\n",
       "    </tr>\n",
       "    <tr>\n",
       "      <th>4</th>\n",
       "      <td>have_questions</td>\n",
       "      <td>1403</td>\n",
       "    </tr>\n",
       "    <tr>\n",
       "      <th>...</th>\n",
       "      <td>...</td>\n",
       "      <td>...</td>\n",
       "    </tr>\n",
       "    <tr>\n",
       "      <th>25999</th>\n",
       "      <td>buddy_accenture</td>\n",
       "      <td>1</td>\n",
       "    </tr>\n",
       "    <tr>\n",
       "      <th>26000</th>\n",
       "      <td>take_weds</td>\n",
       "      <td>1</td>\n",
       "    </tr>\n",
       "    <tr>\n",
       "      <th>26001</th>\n",
       "      <td>join_os</td>\n",
       "      <td>1</td>\n",
       "    </tr>\n",
       "    <tr>\n",
       "      <th>26002</th>\n",
       "      <td>join_set</td>\n",
       "      <td>1</td>\n",
       "    </tr>\n",
       "    <tr>\n",
       "      <th>26003</th>\n",
       "      <td>want_conversations</td>\n",
       "      <td>1</td>\n",
       "    </tr>\n",
       "  </tbody>\n",
       "</table>\n",
       "<p>26004 rows × 2 columns</p>\n",
       "</div>"
      ],
      "text/plain": [
       "      action_object_pairs  Count\n",
       "0                 call_me   6191\n",
       "1                 join_us   2507\n",
       "2            have_meeting   2337\n",
       "3                 tell_me   2028\n",
       "4          have_questions   1403\n",
       "...                   ...    ...\n",
       "25999     buddy_accenture      1\n",
       "26000           take_weds      1\n",
       "26001             join_os      1\n",
       "26002            join_set      1\n",
       "26003  want_conversations      1\n",
       "\n",
       "[26004 rows x 2 columns]"
      ]
     },
     "execution_count": 5,
     "metadata": {},
     "output_type": "execute_result"
    }
   ],
   "source": [
    "df_meeting_counts"
   ]
  },
  {
   "cell_type": "markdown",
   "metadata": {},
   "source": [
    "### Inspect Pairs and create groups"
   ]
  },
  {
   "cell_type": "code",
   "execution_count": 6,
   "metadata": {},
   "outputs": [
    {
     "data": {
      "text/html": [
       "<div>\n",
       "<style scoped>\n",
       "    .dataframe tbody tr th:only-of-type {\n",
       "        vertical-align: middle;\n",
       "    }\n",
       "\n",
       "    .dataframe tbody tr th {\n",
       "        vertical-align: top;\n",
       "    }\n",
       "\n",
       "    .dataframe thead th {\n",
       "        text-align: right;\n",
       "    }\n",
       "</style>\n",
       "<table border=\"1\" class=\"dataframe\">\n",
       "  <thead>\n",
       "    <tr style=\"text-align: right;\">\n",
       "      <th></th>\n",
       "      <th>action_object_pairs</th>\n",
       "      <th>Count</th>\n",
       "    </tr>\n",
       "  </thead>\n",
       "  <tbody>\n",
       "    <tr>\n",
       "      <th>0</th>\n",
       "      <td>call_me</td>\n",
       "      <td>6191</td>\n",
       "    </tr>\n",
       "    <tr>\n",
       "      <th>1</th>\n",
       "      <td>join_us</td>\n",
       "      <td>2507</td>\n",
       "    </tr>\n",
       "    <tr>\n",
       "      <th>2</th>\n",
       "      <td>have_meeting</td>\n",
       "      <td>2337</td>\n",
       "    </tr>\n",
       "    <tr>\n",
       "      <th>3</th>\n",
       "      <td>tell_me</td>\n",
       "      <td>2028</td>\n",
       "    </tr>\n",
       "    <tr>\n",
       "      <th>4</th>\n",
       "      <td>have_questions</td>\n",
       "      <td>1403</td>\n",
       "    </tr>\n",
       "    <tr>\n",
       "      <th>...</th>\n",
       "      <td>...</td>\n",
       "      <td>...</td>\n",
       "    </tr>\n",
       "    <tr>\n",
       "      <th>25999</th>\n",
       "      <td>buddy_accenture</td>\n",
       "      <td>1</td>\n",
       "    </tr>\n",
       "    <tr>\n",
       "      <th>26000</th>\n",
       "      <td>take_weds</td>\n",
       "      <td>1</td>\n",
       "    </tr>\n",
       "    <tr>\n",
       "      <th>26001</th>\n",
       "      <td>join_os</td>\n",
       "      <td>1</td>\n",
       "    </tr>\n",
       "    <tr>\n",
       "      <th>26002</th>\n",
       "      <td>join_set</td>\n",
       "      <td>1</td>\n",
       "    </tr>\n",
       "    <tr>\n",
       "      <th>26003</th>\n",
       "      <td>want_conversations</td>\n",
       "      <td>1</td>\n",
       "    </tr>\n",
       "  </tbody>\n",
       "</table>\n",
       "<p>26004 rows × 2 columns</p>\n",
       "</div>"
      ],
      "text/plain": [
       "      action_object_pairs  Count\n",
       "0                 call_me   6191\n",
       "1                 join_us   2507\n",
       "2            have_meeting   2337\n",
       "3                 tell_me   2028\n",
       "4          have_questions   1403\n",
       "...                   ...    ...\n",
       "25999     buddy_accenture      1\n",
       "26000           take_weds      1\n",
       "26001             join_os      1\n",
       "26002            join_set      1\n",
       "26003  want_conversations      1\n",
       "\n",
       "[26004 rows x 2 columns]"
      ]
     },
     "execution_count": 6,
     "metadata": {},
     "output_type": "execute_result"
    }
   ],
   "source": [
    "df_meeting_counts"
   ]
  },
  {
   "cell_type": "markdown",
   "metadata": {},
   "source": [
    "Based on the Inspection, the following groups will be created:\n",
    "\n",
    "\n",
    "\n",
    "reschedule_meeting\n",
    "\n",
    "schedule_meeting, arrange_meeting, schedule_meetings, set_meetings, set_meeting, setup_meeting, set_appointment, have_meeting, have_discussion, have_discussions, have_meetings, have_appointment, have_conversation, hold_meeting,\n",
    "\n",
    " attend_conference, attend_meeting, attend_meetings\n",
    "\n",
    "\n",
    "review_content"
   ]
  },
  {
   "cell_type": "code",
   "execution_count": 14,
   "metadata": {},
   "outputs": [],
   "source": [
    "plan = ['schedule_meeting', 'schedule_meetings', 'setup_meeting', 'set_meetings', 'set_appointment', 'set_meeting', 'arrange_meeting','have_meeting', 'have_discussion', 'have_discussions', 'have_meetings', 'have_appointment', 'have_conversation', 'hold_meeting','reschedule_meeting', 'move_meeting']\n"
   ]
  },
  {
   "cell_type": "markdown",
   "metadata": {},
   "source": []
  },
  {
   "cell_type": "code",
   "execution_count": null,
   "metadata": {},
   "outputs": [],
   "source": [
    "df_plan_meeting =  df_meeting[df_meeting['action_object_pairs'].apply(lambda pairs: any(item.lower() in plan for item in pairs))]"
   ]
  },
  {
   "cell_type": "code",
   "execution_count": 15,
   "metadata": {},
   "outputs": [
    {
     "data": {
      "text/plain": [
       "'[PERSON] has a meeting starting now at 6 pm EST , but call him soon to coordinate .'"
      ]
     },
     "execution_count": 15,
     "metadata": {},
     "output_type": "execute_result"
    }
   ],
   "source": [
    "df_plan_meeting.iloc[0]['target']"
   ]
  },
  {
   "cell_type": "code",
   "execution_count": 62,
   "metadata": {},
   "outputs": [],
   "source": [
    "# Define the set of words to look for (whitelist)\n",
    "whitelist_words = {'could we schedule a meeting', 'can we schedule a meeting',  'can we arrange a meeting', } \n",
    "\n",
    "# Define the set of words or phrases to exclude (blacklist)\n",
    "blacklist_words = {'I ',}  # Add any other terms to exclude\n",
    "\n",
    "# Join the words to form regular expression patterns for whitelist and blacklist\n",
    "whitelist_pattern = '|'.join(rf'\\b{word}\\b' for word in whitelist_words)\n",
    "blacklist_pattern = '|'.join(rf'\\b{word}\\b' for word in blacklist_words)\n",
    "\n",
    "# Filter the DataFrame to include rows that match whitelist and don't match blacklist\n",
    "df_plan_meeting_filtered = df_plan_meeting[\n",
    "    df_plan_meeting['target'].str.contains(whitelist_pattern, case=False, na=False) &\n",
    "    ~df_plan_meeting['target'].str.contains(blacklist_pattern, case=False, na=False)\n",
    "]"
   ]
  },
  {
   "cell_type": "code",
   "execution_count": 114,
   "metadata": {},
   "outputs": [
    {
     "data": {
      "text/plain": [
       "(301, 19)"
      ]
     },
     "execution_count": 114,
     "metadata": {},
     "output_type": "execute_result"
    }
   ],
   "source": [
    "df_plan_meeting_filtered.shape"
   ]
  },
  {
   "cell_type": "code",
   "execution_count": 64,
   "metadata": {},
   "outputs": [
    {
     "data": {
      "text/plain": [
       "'Can we arrange a meeting with interested parties to see what is involved in making this possible . \\r\\n\\r\\n Rajeev'"
      ]
     },
     "execution_count": 64,
     "metadata": {},
     "output_type": "execute_result"
    }
   ],
   "source": [
    "df_plan_meeting_filtered.iloc[9]['target']"
   ]
  },
  {
   "cell_type": "code",
   "execution_count": 112,
   "metadata": {},
   "outputs": [],
   "source": [
    "\n",
    "# Define the words or phrases to filter\n",
    "list_a = {'could we', 'can we', 'should we', 'could you', 'would you','let me know', 'can you'}\n",
    "list_b = {'schedule', 'arrange', 'set','have','hold'}\n",
    "list_c = {'appointment', 'meeting', }\n",
    "\n",
    "# Combine List A and List B using OR, then combine with List C using AND\n",
    "pattern_a = '|'.join(rf'\\b{word}\\b' for word in list_a)  \n",
    "pattern_b = '|'.join(rf'\\b{word}\\b' for word in list_b)   \n",
    "pattern_c = '|'.join(rf'\\b{word}\\b' for word in list_c)   \n",
    "\n",
    "# Apply the filter\n",
    "df_plan_meeting_filtered = df_plan_meeting[\n",
    "    df_plan_meeting['target'].str.contains(pattern_a, case=False, na=False) &     \n",
    "    df_plan_meeting['target'].str.contains(pattern_b, case=False, na=False) &    \n",
    "    df_plan_meeting['target'].str.contains(pattern_c, case=False, na=False) \n",
    "]\n",
    "\n",
    "df_non_matching = df_plan_meeting[~(\n",
    "    df_plan_meeting['target'].str.contains(pattern_a, case=False, na=False) &\n",
    "    df_plan_meeting['target'].str.contains(pattern_b, case=False, na=False) &\n",
    "    df_plan_meeting['target'].str.contains(pattern_c, case=False, na=False)\n",
    ")]"
   ]
  },
  {
   "cell_type": "code",
   "execution_count": 125,
   "metadata": {},
   "outputs": [
    {
     "data": {
      "text/plain": [
       "'If you need me to set up another meeting , please let me know .'"
      ]
     },
     "execution_count": 125,
     "metadata": {},
     "output_type": "execute_result"
    }
   ],
   "source": [
    "df_plan_meeting_filtered.iloc[8]['target']"
   ]
  },
  {
   "cell_type": "code",
   "execution_count": 110,
   "metadata": {},
   "outputs": [
    {
     "data": {
      "text/plain": [
       "'We appreciate your positioning AvocadoIT to the client and setting up an in - person client meeting .'"
      ]
     },
     "execution_count": 110,
     "metadata": {},
     "output_type": "execute_result"
    }
   ],
   "source": [
    "index = 121\n",
    "df_non_matching.iloc[index]['target']"
   ]
  },
  {
   "cell_type": "code",
   "execution_count": 128,
   "metadata": {},
   "outputs": [],
   "source": [
    "df_plan_meeting_filtered.to_csv('./meeting.tsv',sep='\\t')"
   ]
  },
  {
   "cell_type": "code",
   "execution_count": 129,
   "metadata": {},
   "outputs": [],
   "source": [
    "# Create dataset\n",
    "pd.DataFrame({\n",
    "    'text': df_plan_meeting_filtered['target'],         \n",
    "    'label': 'PlanMeeting'   \n",
    "}).to_csv(\"./meeting.tsv\",sep='\\t',index=False)"
   ]
  }
 ],
 "metadata": {
  "kernelspec": {
   "display_name": "Python 3",
   "language": "python",
   "name": "python3"
  },
  "language_info": {
   "codemirror_mode": {
    "name": "ipython",
    "version": 3
   },
   "file_extension": ".py",
   "mimetype": "text/x-python",
   "name": "python",
   "nbconvert_exporter": "python",
   "pygments_lexer": "ipython3",
   "version": "3.12.7"
  }
 },
 "nbformat": 4,
 "nbformat_minor": 2
}
