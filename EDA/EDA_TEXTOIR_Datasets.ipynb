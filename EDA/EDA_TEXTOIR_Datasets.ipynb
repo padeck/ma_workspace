{
 "cells": [
  {
   "cell_type": "markdown",
   "metadata": {},
   "source": [
    "# EDA for TEXTOIR Datasets"
   ]
  },
  {
   "cell_type": "code",
   "execution_count": 1,
   "metadata": {},
   "outputs": [],
   "source": [
    "import pandas as pd\n",
    "import sys\n",
    "import os\n",
    "\n",
    "current_dir = os.getcwd()\n",
    "parent_dir = os.path.abspath(os.path.join(current_dir, '../utility'))\n",
    "sys.path.append(parent_dir)\n",
    "from word_counter import get_most_common_words"
   ]
  },
  {
   "cell_type": "code",
   "execution_count": 2,
   "metadata": {},
   "outputs": [],
   "source": [
    "df_banking = pd.read_csv('../TEXTOIR/data/banking/train.tsv', sep='\\t')\n",
    "df_clinc = pd.read_csv('../TEXTOIR/data/clinc/train.tsv', sep='\\t')\n",
    "df_oos = pd.read_csv('../TEXTOIR/data/oos/train.tsv', sep='\\t')\n",
    "df_snips = pd.read_csv('../TEXTOIR/data/snips/train.tsv', sep='\\t')\n",
    "df_stack = pd.read_csv('../TEXTOIR/data/stackoverflow/train.tsv', sep='\\t')"
   ]
  },
  {
   "cell_type": "markdown",
   "metadata": {},
   "source": [
    "## EDA Banking"
   ]
  },
  {
   "cell_type": "code",
   "execution_count": 6,
   "metadata": {},
   "outputs": [
    {
     "data": {
      "text/html": [
       "<div>\n",
       "<style scoped>\n",
       "    .dataframe tbody tr th:only-of-type {\n",
       "        vertical-align: middle;\n",
       "    }\n",
       "\n",
       "    .dataframe tbody tr th {\n",
       "        vertical-align: top;\n",
       "    }\n",
       "\n",
       "    .dataframe thead th {\n",
       "        text-align: right;\n",
       "    }\n",
       "</style>\n",
       "<table border=\"1\" class=\"dataframe\">\n",
       "  <thead>\n",
       "    <tr style=\"text-align: right;\">\n",
       "      <th></th>\n",
       "      <th>text</th>\n",
       "      <th>label</th>\n",
       "    </tr>\n",
       "  </thead>\n",
       "  <tbody>\n",
       "    <tr>\n",
       "      <th>0</th>\n",
       "      <td>Could you help my figure out the exchange fee?</td>\n",
       "      <td>exchange_charge</td>\n",
       "    </tr>\n",
       "    <tr>\n",
       "      <th>1</th>\n",
       "      <td>I made a cash deposit to my account but i don'...</td>\n",
       "      <td>balance_not_updated_after_cheque_or_cash_deposit</td>\n",
       "    </tr>\n",
       "    <tr>\n",
       "      <th>2</th>\n",
       "      <td>Hello - I'm on the app and trying to purchase ...</td>\n",
       "      <td>beneficiary_not_allowed</td>\n",
       "    </tr>\n",
       "    <tr>\n",
       "      <th>3</th>\n",
       "      <td>Why is it saying I have a pending payment?</td>\n",
       "      <td>pending_card_payment</td>\n",
       "    </tr>\n",
       "    <tr>\n",
       "      <th>4</th>\n",
       "      <td>Is there an extra charge to exchange different...</td>\n",
       "      <td>exchange_charge</td>\n",
       "    </tr>\n",
       "  </tbody>\n",
       "</table>\n",
       "</div>"
      ],
      "text/plain": [
       "                                                text  \\\n",
       "0     Could you help my figure out the exchange fee?   \n",
       "1  I made a cash deposit to my account but i don'...   \n",
       "2  Hello - I'm on the app and trying to purchase ...   \n",
       "3         Why is it saying I have a pending payment?   \n",
       "4  Is there an extra charge to exchange different...   \n",
       "\n",
       "                                              label  \n",
       "0                                   exchange_charge  \n",
       "1  balance_not_updated_after_cheque_or_cash_deposit  \n",
       "2                           beneficiary_not_allowed  \n",
       "3                              pending_card_payment  \n",
       "4                                   exchange_charge  "
      ]
     },
     "execution_count": 6,
     "metadata": {},
     "output_type": "execute_result"
    }
   ],
   "source": [
    "df_banking.head()"
   ]
  },
  {
   "cell_type": "code",
   "execution_count": 3,
   "metadata": {},
   "outputs": [
    {
     "data": {
      "text/plain": [
       "[('card', 2408),\n",
       " ('account', 1224),\n",
       " ('money', 1023),\n",
       " ('transfer', 974),\n",
       " ('get', 725)]"
      ]
     },
     "execution_count": 3,
     "metadata": {},
     "output_type": "execute_result"
    }
   ],
   "source": [
    "get_most_common_words(df_banking['text'])"
   ]
  },
  {
   "cell_type": "markdown",
   "metadata": {},
   "source": [
    "## EDA Clinc"
   ]
  },
  {
   "cell_type": "code",
   "execution_count": 14,
   "metadata": {},
   "outputs": [
    {
     "data": {
      "text/html": [
       "<div>\n",
       "<style scoped>\n",
       "    .dataframe tbody tr th:only-of-type {\n",
       "        vertical-align: middle;\n",
       "    }\n",
       "\n",
       "    .dataframe tbody tr th {\n",
       "        vertical-align: top;\n",
       "    }\n",
       "\n",
       "    .dataframe thead th {\n",
       "        text-align: right;\n",
       "    }\n",
       "</style>\n",
       "<table border=\"1\" class=\"dataframe\">\n",
       "  <thead>\n",
       "    <tr style=\"text-align: right;\">\n",
       "      <th></th>\n",
       "      <th>text</th>\n",
       "      <th>label</th>\n",
       "    </tr>\n",
       "  </thead>\n",
       "  <tbody>\n",
       "    <tr>\n",
       "      <th>0</th>\n",
       "      <td>that is accurate</td>\n",
       "      <td>yes</td>\n",
       "    </tr>\n",
       "    <tr>\n",
       "      <th>1</th>\n",
       "      <td>i need to switch to a new insurance plan</td>\n",
       "      <td>insurance_change</td>\n",
       "    </tr>\n",
       "    <tr>\n",
       "      <th>2</th>\n",
       "      <td>please put annie's baby shower on march 30 in ...</td>\n",
       "      <td>calendar_update</td>\n",
       "    </tr>\n",
       "    <tr>\n",
       "      <th>3</th>\n",
       "      <td>what's the average time it takes for a new car...</td>\n",
       "      <td>replacement_card_duration</td>\n",
       "    </tr>\n",
       "    <tr>\n",
       "      <th>4</th>\n",
       "      <td>certainly not</td>\n",
       "      <td>no</td>\n",
       "    </tr>\n",
       "    <tr>\n",
       "      <th>5</th>\n",
       "      <td>will i need a visa to go to moldova</td>\n",
       "      <td>international_visa</td>\n",
       "    </tr>\n",
       "    <tr>\n",
       "      <th>6</th>\n",
       "      <td>yes, that's right</td>\n",
       "      <td>yes</td>\n",
       "    </tr>\n",
       "    <tr>\n",
       "      <th>7</th>\n",
       "      <td>has there been any changes in the status of my...</td>\n",
       "      <td>application_status</td>\n",
       "    </tr>\n",
       "    <tr>\n",
       "      <th>8</th>\n",
       "      <td>how long should i fry an egg for</td>\n",
       "      <td>cook_time</td>\n",
       "    </tr>\n",
       "    <tr>\n",
       "      <th>9</th>\n",
       "      <td>how long is the drive from sfo to fisherman's ...</td>\n",
       "      <td>distance</td>\n",
       "    </tr>\n",
       "  </tbody>\n",
       "</table>\n",
       "</div>"
      ],
      "text/plain": [
       "                                                text  \\\n",
       "0                                   that is accurate   \n",
       "1           i need to switch to a new insurance plan   \n",
       "2  please put annie's baby shower on march 30 in ...   \n",
       "3  what's the average time it takes for a new car...   \n",
       "4                                      certainly not   \n",
       "5                will i need a visa to go to moldova   \n",
       "6                                  yes, that's right   \n",
       "7  has there been any changes in the status of my...   \n",
       "8                   how long should i fry an egg for   \n",
       "9  how long is the drive from sfo to fisherman's ...   \n",
       "\n",
       "                       label  \n",
       "0                        yes  \n",
       "1           insurance_change  \n",
       "2            calendar_update  \n",
       "3  replacement_card_duration  \n",
       "4                         no  \n",
       "5         international_visa  \n",
       "6                        yes  \n",
       "7         application_status  \n",
       "8                  cook_time  \n",
       "9                   distance  "
      ]
     },
     "execution_count": 14,
     "metadata": {},
     "output_type": "execute_result"
    }
   ],
   "source": [
    "df_clinc.head(10)"
   ]
  },
  {
   "cell_type": "code",
   "execution_count": 17,
   "metadata": {},
   "outputs": [
    {
     "data": {
      "text/plain": [
       "[('need', 1565),\n",
       " ('card', 1354),\n",
       " ('please', 1335),\n",
       " ('tell', 1164),\n",
       " ('know', 1034),\n",
       " ('get', 900),\n",
       " ('credit', 827),\n",
       " ('account', 694),\n",
       " ('whats', 675),\n",
       " ('list', 618),\n",
       " ('car', 617),\n",
       " ('want', 617),\n",
       " ('like', 609),\n",
       " ('would', 515),\n",
       " ('change', 496),\n",
       " ('time', 466),\n",
       " ('new', 460),\n",
       " ('bank', 456),\n",
       " ('much', 442),\n",
       " ('many', 425)]"
      ]
     },
     "execution_count": 17,
     "metadata": {},
     "output_type": "execute_result"
    }
   ],
   "source": [
    "get_most_common_words(df_clinc['text'], n_words=20)"
   ]
  },
  {
   "cell_type": "markdown",
   "metadata": {},
   "source": [
    "## EDA OOS"
   ]
  },
  {
   "cell_type": "code",
   "execution_count": 8,
   "metadata": {},
   "outputs": [
    {
     "data": {
      "text/html": [
       "<div>\n",
       "<style scoped>\n",
       "    .dataframe tbody tr th:only-of-type {\n",
       "        vertical-align: middle;\n",
       "    }\n",
       "\n",
       "    .dataframe tbody tr th {\n",
       "        vertical-align: top;\n",
       "    }\n",
       "\n",
       "    .dataframe thead th {\n",
       "        text-align: right;\n",
       "    }\n",
       "</style>\n",
       "<table border=\"1\" class=\"dataframe\">\n",
       "  <thead>\n",
       "    <tr style=\"text-align: right;\">\n",
       "      <th></th>\n",
       "      <th>text</th>\n",
       "      <th>label</th>\n",
       "    </tr>\n",
       "  </thead>\n",
       "  <tbody>\n",
       "    <tr>\n",
       "      <th>0</th>\n",
       "      <td>what expression would i use to say i love you ...</td>\n",
       "      <td>translate</td>\n",
       "    </tr>\n",
       "    <tr>\n",
       "      <th>1</th>\n",
       "      <td>can you tell me how to say 'i do not speak muc...</td>\n",
       "      <td>translate</td>\n",
       "    </tr>\n",
       "    <tr>\n",
       "      <th>2</th>\n",
       "      <td>what is the equivalent of, 'life is good' in f...</td>\n",
       "      <td>translate</td>\n",
       "    </tr>\n",
       "    <tr>\n",
       "      <th>3</th>\n",
       "      <td>tell me how to say, 'it is a beautiful morning...</td>\n",
       "      <td>translate</td>\n",
       "    </tr>\n",
       "    <tr>\n",
       "      <th>4</th>\n",
       "      <td>if i were mongolian, how would i say that i am...</td>\n",
       "      <td>translate</td>\n",
       "    </tr>\n",
       "  </tbody>\n",
       "</table>\n",
       "</div>"
      ],
      "text/plain": [
       "                                                text      label\n",
       "0  what expression would i use to say i love you ...  translate\n",
       "1  can you tell me how to say 'i do not speak muc...  translate\n",
       "2  what is the equivalent of, 'life is good' in f...  translate\n",
       "3  tell me how to say, 'it is a beautiful morning...  translate\n",
       "4  if i were mongolian, how would i say that i am...  translate"
      ]
     },
     "execution_count": 8,
     "metadata": {},
     "output_type": "execute_result"
    }
   ],
   "source": [
    "df_oos.head()"
   ]
  },
  {
   "cell_type": "code",
   "execution_count": 18,
   "metadata": {},
   "outputs": [
    {
     "data": {
      "text/plain": [
       "[('need', 1307),\n",
       " ('please', 1144),\n",
       " ('card', 1137),\n",
       " ('tell', 998),\n",
       " ('know', 843),\n",
       " ('get', 749),\n",
       " ('credit', 685),\n",
       " ('whats', 594),\n",
       " ('account', 567),\n",
       " ('list', 530),\n",
       " ('car', 508),\n",
       " ('want', 507),\n",
       " ('like', 506),\n",
       " ('would', 429),\n",
       " ('change', 409),\n",
       " ('new', 382),\n",
       " ('bank', 379),\n",
       " ('time', 376),\n",
       " ('many', 360),\n",
       " ('much', 352)]"
      ]
     },
     "execution_count": 18,
     "metadata": {},
     "output_type": "execute_result"
    }
   ],
   "source": [
    "get_most_common_words(df_oos['text'], n_words=20)"
   ]
  },
  {
   "cell_type": "markdown",
   "metadata": {},
   "source": [
    "## EDA Snips"
   ]
  },
  {
   "cell_type": "code",
   "execution_count": 9,
   "metadata": {},
   "outputs": [
    {
     "data": {
      "text/html": [
       "<div>\n",
       "<style scoped>\n",
       "    .dataframe tbody tr th:only-of-type {\n",
       "        vertical-align: middle;\n",
       "    }\n",
       "\n",
       "    .dataframe tbody tr th {\n",
       "        vertical-align: top;\n",
       "    }\n",
       "\n",
       "    .dataframe thead th {\n",
       "        text-align: right;\n",
       "    }\n",
       "</style>\n",
       "<table border=\"1\" class=\"dataframe\">\n",
       "  <thead>\n",
       "    <tr style=\"text-align: right;\">\n",
       "      <th></th>\n",
       "      <th>text</th>\n",
       "      <th>label</th>\n",
       "    </tr>\n",
       "  </thead>\n",
       "  <tbody>\n",
       "    <tr>\n",
       "      <th>0</th>\n",
       "      <td>listen to westbam alumb allergic on google music</td>\n",
       "      <td>PlayMusic</td>\n",
       "    </tr>\n",
       "    <tr>\n",
       "      <th>1</th>\n",
       "      <td>add step to me to the 50 clásicos playlist</td>\n",
       "      <td>AddToPlaylist</td>\n",
       "    </tr>\n",
       "    <tr>\n",
       "      <th>2</th>\n",
       "      <td>i give this current textbook a rating value of...</td>\n",
       "      <td>RateBook</td>\n",
       "    </tr>\n",
       "    <tr>\n",
       "      <th>3</th>\n",
       "      <td>play the song little robin redbreast</td>\n",
       "      <td>PlayMusic</td>\n",
       "    </tr>\n",
       "    <tr>\n",
       "      <th>4</th>\n",
       "      <td>please add iris dement to my playlist this is ...</td>\n",
       "      <td>AddToPlaylist</td>\n",
       "    </tr>\n",
       "  </tbody>\n",
       "</table>\n",
       "</div>"
      ],
      "text/plain": [
       "                                                text          label\n",
       "0   listen to westbam alumb allergic on google music      PlayMusic\n",
       "1        add step to me to the 50 clásicos playlist   AddToPlaylist\n",
       "2  i give this current textbook a rating value of...       RateBook\n",
       "3               play the song little robin redbreast      PlayMusic\n",
       "4  please add iris dement to my playlist this is ...  AddToPlaylist"
      ]
     },
     "execution_count": 9,
     "metadata": {},
     "output_type": "execute_result"
    }
   ],
   "source": [
    "df_snips.head()"
   ]
  },
  {
   "cell_type": "code",
   "execution_count": 11,
   "metadata": {},
   "outputs": [
    {
     "data": {
      "text/plain": [
       "[('play', 1826),\n",
       " ('book', 1547),\n",
       " ('add', 1476),\n",
       " ('find', 1336),\n",
       " ('playlist', 1254),\n",
       " ('6', 1087),\n",
       " ('movie', 1049),\n",
       " ('rate', 955),\n",
       " ('weather', 839),\n",
       " ('show', 753)]"
      ]
     },
     "execution_count": 11,
     "metadata": {},
     "output_type": "execute_result"
    }
   ],
   "source": [
    "get_most_common_words(df_snips['text'], n_words=10)"
   ]
  },
  {
   "cell_type": "markdown",
   "metadata": {},
   "source": [
    "## EDA Stackoverflow"
   ]
  },
  {
   "cell_type": "code",
   "execution_count": 19,
   "metadata": {},
   "outputs": [
    {
     "data": {
      "text/html": [
       "<div>\n",
       "<style scoped>\n",
       "    .dataframe tbody tr th:only-of-type {\n",
       "        vertical-align: middle;\n",
       "    }\n",
       "\n",
       "    .dataframe tbody tr th {\n",
       "        vertical-align: top;\n",
       "    }\n",
       "\n",
       "    .dataframe thead th {\n",
       "        text-align: right;\n",
       "    }\n",
       "</style>\n",
       "<table border=\"1\" class=\"dataframe\">\n",
       "  <thead>\n",
       "    <tr style=\"text-align: right;\">\n",
       "      <th></th>\n",
       "      <th>text</th>\n",
       "      <th>label</th>\n",
       "    </tr>\n",
       "  </thead>\n",
       "  <tbody>\n",
       "    <tr>\n",
       "      <th>0</th>\n",
       "      <td>Scala Regex Multiple Block Capturing</td>\n",
       "      <td>scala</td>\n",
       "    </tr>\n",
       "    <tr>\n",
       "      <th>1</th>\n",
       "      <td>Use Oracle 6 from ASP.NET application</td>\n",
       "      <td>oracle</td>\n",
       "    </tr>\n",
       "    <tr>\n",
       "      <th>2</th>\n",
       "      <td>HQL 1 to many count() question</td>\n",
       "      <td>hibernate</td>\n",
       "    </tr>\n",
       "    <tr>\n",
       "      <th>3</th>\n",
       "      <td>scala syntax highlighting in bluefish</td>\n",
       "      <td>scala</td>\n",
       "    </tr>\n",
       "    <tr>\n",
       "      <th>4</th>\n",
       "      <td>Weird bindings issue</td>\n",
       "      <td>cocoa</td>\n",
       "    </tr>\n",
       "  </tbody>\n",
       "</table>\n",
       "</div>"
      ],
      "text/plain": [
       "                                    text      label\n",
       "0   Scala Regex Multiple Block Capturing      scala\n",
       "1  Use Oracle 6 from ASP.NET application     oracle\n",
       "2         HQL 1 to many count() question  hibernate\n",
       "3  scala syntax highlighting in bluefish      scala\n",
       "4                   Weird bindings issue      cocoa"
      ]
     },
     "execution_count": 19,
     "metadata": {},
     "output_type": "execute_result"
    }
   ],
   "source": [
    "df_stack.head()"
   ]
  },
  {
   "cell_type": "code",
   "execution_count": 20,
   "metadata": {},
   "outputs": [
    {
     "data": {
      "text/plain": [
       "[('using', 728),\n",
       " ('magento', 532),\n",
       " ('wordpress', 519),\n",
       " ('excel', 516),\n",
       " ('linq', 509),\n",
       " ('hibernate', 507),\n",
       " ('drupal', 503),\n",
       " ('matlab', 493),\n",
       " ('spring', 464),\n",
       " ('oracle', 460)]"
      ]
     },
     "execution_count": 20,
     "metadata": {},
     "output_type": "execute_result"
    }
   ],
   "source": [
    "get_most_common_words(df_stack['text'], n_words=10)"
   ]
  },
  {
   "cell_type": "code",
   "execution_count": null,
   "metadata": {},
   "outputs": [],
   "source": []
  }
 ],
 "metadata": {
  "kernelspec": {
   "display_name": "ma_exp_intent",
   "language": "python",
   "name": "python3"
  },
  "language_info": {
   "codemirror_mode": {
    "name": "ipython",
    "version": 3
   },
   "file_extension": ".py",
   "mimetype": "text/x-python",
   "name": "python",
   "nbconvert_exporter": "python",
   "pygments_lexer": "ipython3",
   "version": "3.12.4"
  }
 },
 "nbformat": 4,
 "nbformat_minor": 2
}
