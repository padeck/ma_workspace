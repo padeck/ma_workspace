{
 "cells": [
  {
   "cell_type": "markdown",
   "metadata": {},
   "source": [
    "# Calculate Silhouette Scores"
   ]
  },
  {
   "cell_type": "code",
   "execution_count": 6,
   "metadata": {},
   "outputs": [],
   "source": [
    "import matplotlib.pyplot as plt\n",
    "import pandas as pd\n",
    "from collections import Counter\n",
    "from sentence_transformers import SentenceTransformer\n",
    "from sklearn.metrics import silhouette_score\n",
    "from sklearn.preprocessing import LabelEncoder\n"
   ]
  },
  {
   "cell_type": "code",
   "execution_count": 2,
   "metadata": {},
   "outputs": [],
   "source": [
    "df_dev = pd.read_csv(\"../TEXTOIR/data/snips/dev.tsv\",sep='\\t')\n",
    "df_train = pd.read_csv(\"../TEXTOIR/data/snips/train.tsv\",sep='\\t')\n",
    "df_test = pd.read_csv(\"../TEXTOIR/data/snips/test.tsv\",sep='\\t')"
   ]
  },
  {
   "cell_type": "code",
   "execution_count": 18,
   "metadata": {},
   "outputs": [],
   "source": [
    "df_dev = pd.read_csv(\"../TEXTOIR/data/banking/dev.tsv\",sep='\\t')\n",
    "df_train = pd.read_csv(\"../TEXTOIR/data/banking/train.tsv\",sep='\\t')\n",
    "df_test = pd.read_csv(\"../TEXTOIR/data/banking/test.tsv\",sep='\\t')"
   ]
  },
  {
   "cell_type": "code",
   "execution_count": 23,
   "metadata": {},
   "outputs": [],
   "source": [
    "df_dev = pd.read_csv(\"../TEXTOIR/data/avocado/dev.tsv\",sep='\\t')\n",
    "df_train = pd.read_csv(\"../TEXTOIR/data/avocado/train.tsv\",sep='\\t')\n",
    "df_test = pd.read_csv(\"../TEXTOIR/data/avocado/test.tsv\",sep='\\t')"
   ]
  },
  {
   "cell_type": "code",
   "execution_count": 28,
   "metadata": {},
   "outputs": [],
   "source": [
    "df_dev = pd.read_csv(\"../TEXTOIR/data/feedback_meeting_problem_even/dev.tsv\",sep='\\t')\n",
    "df_train = pd.read_csv(\"../TEXTOIR/data/feedback_meeting_problem_even/train.tsv\",sep='\\t')\n",
    "df_test = pd.read_csv(\"../TEXTOIR/data/feedback_meeting_problem_even/test.tsv\",sep='\\t')"
   ]
  },
  {
   "cell_type": "code",
   "execution_count": 29,
   "metadata": {},
   "outputs": [],
   "source": [
    "# Load pre-trained BERT model\n",
    "model = SentenceTransformer('all-MiniLM-L6-v2')  # Use a lightweight version for efficiency\n"
   ]
  },
  {
   "cell_type": "code",
   "execution_count": 30,
   "metadata": {},
   "outputs": [
    {
     "name": "stdout",
     "output_type": "stream",
     "text": [
      "Silhouette Score with True Labels: 0.08396817\n"
     ]
    }
   ],
   "source": [
    "# Convert text to embeddings\n",
    "X = model.encode(df_train['text'].tolist())\n",
    "label_encoder = LabelEncoder()\n",
    "y = label_encoder.fit_transform(df_train['label'])\n",
    "silhouette_score_with_true_labels = silhouette_score(X, y)\n",
    "print(\"Silhouette Score with True Labels:\", silhouette_score_with_true_labels)"
   ]
  },
  {
   "cell_type": "code",
   "execution_count": 31,
   "metadata": {},
   "outputs": [
    {
     "name": "stdout",
     "output_type": "stream",
     "text": [
      "Silhouette Score with True Labels: 0.084592275\n"
     ]
    }
   ],
   "source": [
    "# Convert text to embeddings\n",
    "X = model.encode(df_dev['text'].tolist())\n",
    "label_encoder = LabelEncoder()\n",
    "y = label_encoder.fit_transform(df_dev['label'])\n",
    "silhouette_score_with_true_labels = silhouette_score(X, y)\n",
    "print(\"Silhouette Score with True Labels:\", silhouette_score_with_true_labels)"
   ]
  },
  {
   "cell_type": "code",
   "execution_count": 32,
   "metadata": {},
   "outputs": [
    {
     "name": "stdout",
     "output_type": "stream",
     "text": [
      "Silhouette Score with True Labels: 0.07969092\n"
     ]
    }
   ],
   "source": [
    "# Convert text to embeddings\n",
    "X = model.encode(df_test['text'].tolist())\n",
    "label_encoder = LabelEncoder()\n",
    "y = label_encoder.fit_transform(df_test['label'])\n",
    "silhouette_score_with_true_labels = silhouette_score(X, y)\n",
    "print(\"Silhouette Score with True Labels:\", silhouette_score_with_true_labels)"
   ]
  },
  {
   "cell_type": "code",
   "execution_count": null,
   "metadata": {},
   "outputs": [],
   "source": []
  }
 ],
 "metadata": {
  "kernelspec": {
   "display_name": "Python 3",
   "language": "python",
   "name": "python3"
  },
  "language_info": {
   "codemirror_mode": {
    "name": "ipython",
    "version": 3
   },
   "file_extension": ".py",
   "mimetype": "text/x-python",
   "name": "python",
   "nbconvert_exporter": "python",
   "pygments_lexer": "ipython3",
   "version": "3.12.7"
  }
 },
 "nbformat": 4,
 "nbformat_minor": 2
}
