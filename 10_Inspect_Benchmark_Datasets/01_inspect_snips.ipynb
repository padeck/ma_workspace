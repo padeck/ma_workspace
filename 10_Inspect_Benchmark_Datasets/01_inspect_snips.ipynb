{
 "cells": [
  {
   "cell_type": "markdown",
   "metadata": {},
   "source": [
    "# Inspect SNIPS Dataset"
   ]
  },
  {
   "cell_type": "code",
   "execution_count": 1,
   "metadata": {},
   "outputs": [],
   "source": [
    "import pandas as pd"
   ]
  },
  {
   "cell_type": "code",
   "execution_count": 2,
   "metadata": {},
   "outputs": [],
   "source": [
    "df_dev = pd.read_csv(\"../TEXTOIR/data/snips/dev.tsv\",sep=',')\n",
    "df_train = pd.read_csv(\"../TEXTOIR/data/snips/train.tsv\",sep=',')\n",
    "df_test = pd.read_csv(\"../TEXTOIR/data/snips/test.tsv\",sep=',')"
   ]
  },
  {
   "cell_type": "code",
   "execution_count": 4,
   "metadata": {},
   "outputs": [
    {
     "name": "stdout",
     "output_type": "stream",
     "text": [
      "All Labels are represented in every split.\n"
     ]
    }
   ],
   "source": [
    "if (df_dev.columns == df_train.columns) & (df_train.columns == df_test.columns):\n",
    "    print('All Labels are represented in every split.')\n",
    "else:\n",
    "    print('Dataset not properly stratisfied.')"
   ]
  },
  {
   "cell_type": "code",
   "execution_count": null,
   "metadata": {},
   "outputs": [],
   "source": []
  }
 ],
 "metadata": {
  "kernelspec": {
   "display_name": "Python 3",
   "language": "python",
   "name": "python3"
  },
  "language_info": {
   "codemirror_mode": {
    "name": "ipython",
    "version": 3
   },
   "file_extension": ".py",
   "mimetype": "text/x-python",
   "name": "python",
   "nbconvert_exporter": "python",
   "pygments_lexer": "ipython3",
   "version": "3.12.7"
  }
 },
 "nbformat": 4,
 "nbformat_minor": 2
}
