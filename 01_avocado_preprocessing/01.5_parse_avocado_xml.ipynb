{
 "cells": [
  {
   "cell_type": "code",
   "execution_count": 11,
   "metadata": {},
   "outputs": [],
   "source": [
    "import pandas as pd\n",
    "import zipfile\n",
    "import os\n",
    "import xml.etree.ElementTree as ET\n",
    "from tqdm import tqdm"
   ]
  },
  {
   "cell_type": "code",
   "execution_count": 12,
   "metadata": {},
   "outputs": [
    {
     "name": "stdout",
     "output_type": "stream",
     "text": [
      "Custodian File: custodians/001.xml\n",
      "Custodian File: custodians/002.xml\n",
      "Custodian File: custodians/003.xml\n",
      "Custodian File: custodians/004.xml\n",
      "Custodian File: custodians/005.xml\n",
      "Custodian File: custodians/006.xml\n",
      "Custodian File: custodians/007.xml\n",
      "Custodian File: custodians/008.xml\n",
      "Custodian File: custodians/009.xml\n",
      "Custodian File: custodians/010.xml\n",
      "Custodian File: custodians/011.xml\n",
      "Custodian File: custodians/012.xml\n",
      "Custodian File: custodians/013.xml\n",
      "Custodian File: custodians/014.xml\n",
      "Custodian File: custodians/015.xml\n",
      "Custodian File: custodians/016.xml\n",
      "Custodian File: custodians/017.xml\n",
      "Custodian File: custodians/018.xml\n",
      "Custodian File: custodians/019.xml\n",
      "Custodian File: custodians/020.xml\n",
      "Custodian File: custodians/021.xml\n",
      "Custodian File: custodians/022.xml\n",
      "Custodian File: custodians/023.xml\n",
      "Custodian File: custodians/024.xml\n",
      "Custodian File: custodians/025.xml\n",
      "Custodian File: custodians/026.xml\n",
      "Custodian File: custodians/027.xml\n",
      "Custodian File: custodians/028.xml\n",
      "Custodian File: custodians/029.xml\n",
      "Custodian File: custodians/030.xml\n",
      "Custodian File: custodians/031.xml\n",
      "Custodian File: custodians/032.xml\n",
      "Custodian File: custodians/033.xml\n",
      "Custodian File: custodians/034.xml\n",
      "Custodian File: custodians/035.xml\n",
      "Custodian File: custodians/036.xml\n",
      "Custodian File: custodians/037.xml\n",
      "Custodian File: custodians/038.xml\n",
      "Custodian File: custodians/039.xml\n",
      "Custodian File: custodians/040.xml\n",
      "Custodian File: custodians/041.xml\n",
      "Custodian File: custodians/042.xml\n",
      "Custodian File: custodians/043.xml\n",
      "Custodian File: custodians/044.xml\n",
      "Custodian File: custodians/045.xml\n",
      "Custodian File: custodians/046.xml\n",
      "Custodian File: custodians/047.xml\n",
      "Custodian File: custodians/048.xml\n",
      "Custodian File: custodians/049.xml\n",
      "Custodian File: custodians/050.xml\n",
      "Custodian File: custodians/051.xml\n",
      "Custodian File: custodians/052.xml\n",
      "Custodian File: custodians/053.xml\n",
      "Custodian File: custodians/054.xml\n",
      "Custodian File: custodians/055.xml\n",
      "Custodian File: custodians/056.xml\n",
      "Custodian File: custodians/057.xml\n",
      "Custodian File: custodians/058.xml\n",
      "Custodian File: custodians/059.xml\n",
      "Custodian File: custodians/060.xml\n",
      "Custodian File: custodians/061.xml\n",
      "Custodian File: custodians/062.xml\n",
      "Custodian File: custodians/063.xml\n",
      "Custodian File: custodians/064.xml\n",
      "Custodian File: custodians/065.xml\n",
      "Custodian File: custodians/066.xml\n",
      "Custodian File: custodians/067.xml\n",
      "Custodian File: custodians/068.xml\n",
      "Custodian File: custodians/069.xml\n",
      "Custodian File: custodians/070.xml\n",
      "Custodian File: custodians/071.xml\n",
      "Custodian File: custodians/072.xml\n",
      "Custodian File: custodians/073.xml\n",
      "Custodian File: custodians/074.xml\n",
      "Custodian File: custodians/075.xml\n",
      "Custodian File: custodians/076.xml\n",
      "Custodian File: custodians/077.xml\n",
      "Custodian File: custodians/078.xml\n",
      "Custodian File: custodians/079.xml\n",
      "Custodian File: custodians/080.xml\n",
      "Custodian File: custodians/081.xml\n",
      "Custodian File: custodians/082.xml\n",
      "Custodian File: custodians/083.xml\n",
      "Custodian File: custodians/084.xml\n",
      "Custodian File: custodians/085.xml\n",
      "Custodian File: custodians/086.xml\n",
      "Custodian File: custodians/087.xml\n",
      "Custodian File: custodians/088.xml\n",
      "Custodian File: custodians/089.xml\n",
      "Custodian File: custodians/090.xml\n",
      "Custodian File: custodians/091.xml\n",
      "Custodian File: custodians/092.xml\n",
      "Custodian File: custodians/093.xml\n",
      "Custodian File: custodians/094.xml\n",
      "Custodian File: custodians/095.xml\n",
      "Custodian File: custodians/096.xml\n",
      "Custodian File: custodians/097.xml\n",
      "Custodian File: custodians/098.xml\n",
      "Custodian File: custodians/099.xml\n",
      "Custodian File: custodians/100.xml\n",
      "Custodian File: custodians/101.xml\n",
      "Custodian File: custodians/102.xml\n",
      "Custodian File: custodians/103.xml\n",
      "Custodian File: custodians/104.xml\n",
      "Custodian File: custodians/105.xml\n",
      "Custodian File: custodians/106.xml\n",
      "Custodian File: custodians/107.xml\n",
      "Custodian File: custodians/108.xml\n",
      "Custodian File: custodians/109.xml\n",
      "Custodian File: custodians/110.xml\n",
      "Custodian File: custodians/111.xml\n",
      "Custodian File: custodians/112.xml\n",
      "Custodian File: custodians/114.xml\n",
      "Custodian File: custodians/115.xml\n",
      "Custodian File: custodians/116.xml\n",
      "Custodian File: custodians/117.xml\n",
      "Custodian File: custodians/118.xml\n",
      "Custodian File: custodians/119.xml\n",
      "Custodian File: custodians/120.xml\n",
      "Custodian File: custodians/121.xml\n",
      "Custodian File: custodians/122.xml\n",
      "Custodian File: custodians/123.xml\n",
      "Custodian File: custodians/124.xml\n",
      "Custodian File: custodians/125.xml\n",
      "Custodian File: custodians/126.xml\n",
      "Custodian File: custodians/127.xml\n",
      "Custodian File: custodians/128.xml\n",
      "Custodian File: custodians/129.xml\n",
      "Custodian File: custodians/130.xml\n",
      "Custodian File: custodians/131.xml\n",
      "Custodian File: custodians/132.xml\n",
      "Custodian File: custodians/133.xml\n",
      "Custodian File: custodians/134.xml\n",
      "Custodian File: custodians/135.xml\n",
      "Custodian File: custodians/136.xml\n",
      "Custodian File: custodians/137.xml\n",
      "Custodian File: custodians/138.xml\n",
      "Custodian File: custodians/139.xml\n",
      "Custodian File: custodians/140.xml\n",
      "Custodian File: custodians/141.xml\n",
      "Custodian File: custodians/142.xml\n",
      "Custodian File: custodians/143.xml\n",
      "Custodian File: custodians/144.xml\n",
      "Custodian File: custodians/145.xml\n",
      "Custodian File: custodians/146.xml\n",
      "Custodian File: custodians/147.xml\n",
      "Custodian File: custodians/148.xml\n",
      "Custodian File: custodians/149.xml\n",
      "Custodian File: custodians/150.xml\n",
      "Custodian File: custodians/151.xml\n",
      "Custodian File: custodians/152.xml\n",
      "Custodian File: custodians/153.xml\n",
      "Custodian File: custodians/154.xml\n",
      "Custodian File: custodians/155.xml\n",
      "Custodian File: custodians/156.xml\n",
      "Custodian File: custodians/157.xml\n",
      "Custodian File: custodians/158.xml\n",
      "Custodian File: custodians/159.xml\n",
      "Custodian File: custodians/160.xml\n",
      "Custodian File: custodians/161.xml\n",
      "Custodian File: custodians/162.xml\n",
      "Custodian File: custodians/163.xml\n",
      "Custodian File: custodians/164.xml\n",
      "Custodian File: custodians/165.xml\n",
      "Custodian File: custodians/166.xml\n",
      "Custodian File: custodians/167.xml\n",
      "Custodian File: custodians/168.xml\n",
      "Custodian File: custodians/169.xml\n",
      "Custodian File: custodians/170.xml\n",
      "Custodian File: custodians/171.xml\n",
      "Custodian File: custodians/172.xml\n",
      "Custodian File: custodians/173.xml\n",
      "Custodian File: custodians/174.xml\n",
      "Custodian File: custodians/175.xml\n",
      "Custodian File: custodians/176.xml\n",
      "Custodian File: custodians/177.xml\n",
      "Custodian File: custodians/178.xml\n",
      "Custodian File: custodians/179.xml\n",
      "Custodian File: custodians/180.xml\n",
      "Custodian File: custodians/181.xml\n",
      "Custodian File: custodians/183.xml\n",
      "Custodian File: custodians/184.xml\n",
      "Custodian File: custodians/185.xml\n",
      "Custodian File: custodians/186.xml\n",
      "Custodian File: custodians/187.xml\n",
      "Custodian File: custodians/188.xml\n",
      "Custodian File: custodians/189.xml\n",
      "Custodian File: custodians/190.xml\n",
      "Custodian File: custodians/191.xml\n",
      "Custodian File: custodians/192.xml\n",
      "Custodian File: custodians/193.xml\n",
      "Custodian File: custodians/195.xml\n",
      "Custodian File: custodians/196.xml\n",
      "Custodian File: custodians/197.xml\n",
      "Custodian File: custodians/198.xml\n",
      "Custodian File: custodians/199.xml\n",
      "Custodian File: custodians/200.xml\n",
      "Custodian File: custodians/201.xml\n",
      "Custodian File: custodians/202.xml\n",
      "Custodian File: custodians/203.xml\n",
      "Custodian File: custodians/204.xml\n",
      "Custodian File: custodians/205.xml\n",
      "Custodian File: custodians/206.xml\n",
      "Custodian File: custodians/207.xml\n",
      "Custodian File: custodians/208.xml\n",
      "Custodian File: custodians/209.xml\n",
      "Custodian File: custodians/210.xml\n",
      "Custodian File: custodians/211.xml\n",
      "Custodian File: custodians/212.xml\n",
      "Custodian File: custodians/213.xml\n",
      "Custodian File: custodians/214.xml\n",
      "Custodian File: custodians/215.xml\n",
      "Custodian File: custodians/216.xml\n",
      "Custodian File: custodians/217.xml\n",
      "Custodian File: custodians/218.xml\n",
      "Custodian File: custodians/219.xml\n",
      "Custodian File: custodians/220.xml\n",
      "Custodian File: custodians/221.xml\n",
      "Custodian File: custodians/222.xml\n",
      "Custodian File: custodians/223.xml\n",
      "Custodian File: custodians/224.xml\n",
      "Custodian File: custodians/225.xml\n",
      "Custodian File: custodians/226.xml\n",
      "Custodian File: custodians/227.xml\n",
      "Custodian File: custodians/228.xml\n",
      "Custodian File: custodians/229.xml\n",
      "Custodian File: custodians/230.xml\n",
      "Custodian File: custodians/231.xml\n",
      "Custodian File: custodians/232.xml\n",
      "Custodian File: custodians/233.xml\n",
      "Custodian File: custodians/234.xml\n",
      "Custodian File: custodians/235.xml\n",
      "Custodian File: custodians/236.xml\n",
      "Custodian File: custodians/237.xml\n",
      "Custodian File: custodians/238.xml\n",
      "Custodian File: custodians/239.xml\n",
      "Custodian File: custodians/240.xml\n",
      "Custodian File: custodians/241.xml\n",
      "Custodian File: custodians/242.xml\n",
      "Custodian File: custodians/243.xml\n",
      "Custodian File: custodians/244.xml\n",
      "Custodian File: custodians/245.xml\n",
      "Custodian File: custodians/246.xml\n",
      "Custodian File: custodians/247.xml\n",
      "Custodian File: custodians/248.xml\n",
      "Custodian File: custodians/249.xml\n",
      "Custodian File: custodians/250.xml\n",
      "Custodian File: custodians/251.xml\n",
      "Custodian File: custodians/252.xml\n",
      "Custodian File: custodians/253.xml\n",
      "Custodian File: custodians/254.xml\n",
      "Custodian File: custodians/255.xml\n",
      "Custodian File: custodians/256.xml\n",
      "Custodian File: custodians/257.xml\n",
      "Custodian File: custodians/258.xml\n",
      "Custodian File: custodians/259.xml\n",
      "Custodian File: custodians/260.xml\n",
      "Custodian File: custodians/261.xml\n",
      "Custodian File: custodians/262.xml\n",
      "Custodian File: custodians/263.xml\n",
      "Custodian File: custodians/264.xml\n",
      "Custodian File: custodians/265.xml\n",
      "Custodian File: custodians/266.xml\n",
      "Custodian File: custodians/267.xml\n",
      "Custodian File: custodians/268.xml\n",
      "Custodian File: custodians/269.xml\n",
      "Custodian File: custodians/270.xml\n",
      "Custodian File: custodians/271.xml\n",
      "Custodian File: custodians/272.xml\n",
      "Custodian File: custodians/273.xml\n",
      "Custodian File: custodians/274.xml\n",
      "Custodian File: custodians/275.xml\n",
      "Custodian File: custodians/276.xml\n",
      "Custodian File: custodians/277.xml\n",
      "Custodian File: custodians/278.xml\n",
      "Custodian File: custodians/279.xml\n",
      "Custodian File: custodians/280.xml\n",
      "Custodian File: custodians/281.xml\n",
      "Custodian File: custodians/283.xml\n"
     ]
    }
   ],
   "source": [
    "def parse_top_level_xml(file_path):\n",
    "    tree = ET.parse(file_path)\n",
    "    root = tree.getroot()\n",
    "    return root\n",
    "\n",
    "top_level_xml_path = './avocado-1.0.2/data/collection.xml'\n",
    "top_level_root = parse_top_level_xml(top_level_xml_path)\n",
    "\n",
    "custodians = []\n",
    "for include in top_level_root.findall('.//{http://www.w3.org/2001/XInclude}include'):\n",
    "    custodian_file = include.get('href')\n",
    "    custodians.append(custodian_file)\n",
    "\n",
    "# Example output\n",
    "for custodian_file in custodians:\n",
    "    print(f\"Custodian File: {custodian_file}\")"
   ]
  },
  {
   "cell_type": "code",
   "execution_count": 13,
   "metadata": {},
   "outputs": [],
   "source": []
  },
  {
   "cell_type": "code",
   "execution_count": 28,
   "metadata": {},
   "outputs": [
    {
     "name": "stderr",
     "output_type": "stream",
     "text": [
      "Processing Custodian XML Files:   0%|          | 0/279 [00:00<?, ?it/s]"
     ]
    },
    {
     "name": "stdout",
     "output_type": "stream",
     "text": [
      "Currently processing: 162.xml\n"
     ]
    },
    {
     "name": "stderr",
     "output_type": "stream",
     "text": [
      "Processing Custodian XML Files:   0%|          | 1/279 [01:34<7:18:28, 94.63s/it]"
     ]
    },
    {
     "name": "stdout",
     "output_type": "stream",
     "text": [
      "Currently processing: 176.xml\n"
     ]
    },
    {
     "name": "stderr",
     "output_type": "stream",
     "text": [
      "Processing Custodian XML Files:   0%|          | 1/279 [01:34<7:18:28, 94.63s/it]"
     ]
    },
    {
     "name": "stdout",
     "output_type": "stream",
     "text": [
      "Currently processing: 189.xml\n"
     ]
    },
    {
     "name": "stderr",
     "output_type": "stream",
     "text": [
      "Processing Custodian XML Files:   1%|          | 3/279 [02:31<3:29:03, 45.45s/it]"
     ]
    },
    {
     "name": "stdout",
     "output_type": "stream",
     "text": [
      "Currently processing: 214.xml\n"
     ]
    },
    {
     "name": "stderr",
     "output_type": "stream",
     "text": [
      "Processing Custodian XML Files:   1%|▏         | 4/279 [02:31<2:16:38, 29.81s/it]"
     ]
    },
    {
     "name": "stdout",
     "output_type": "stream",
     "text": [
      "Currently processing: 200.xml\n"
     ]
    },
    {
     "name": "stderr",
     "output_type": "stream",
     "text": [
      "Processing Custodian XML Files:   2%|▏         | 5/279 [03:50<3:30:49, 46.17s/it]"
     ]
    },
    {
     "name": "stdout",
     "output_type": "stream",
     "text": [
      "Currently processing: 228.xml\n"
     ]
    },
    {
     "name": "stderr",
     "output_type": "stream",
     "text": [
      "Processing Custodian XML Files:   2%|▏         | 6/279 [03:51<2:23:50, 31.61s/it]"
     ]
    },
    {
     "name": "stdout",
     "output_type": "stream",
     "text": [
      "Currently processing: 016.xml\n"
     ]
    },
    {
     "name": "stderr",
     "output_type": "stream",
     "text": [
      "Processing Custodian XML Files:   3%|▎         | 7/279 [06:05<4:49:01, 63.75s/it]"
     ]
    },
    {
     "name": "stdout",
     "output_type": "stream",
     "text": [
      "Currently processing: 002.xml\n"
     ]
    },
    {
     "name": "stderr",
     "output_type": "stream",
     "text": [
      "Processing Custodian XML Files:   3%|▎         | 7/279 [06:05<4:49:01, 63.75s/it]"
     ]
    },
    {
     "name": "stdout",
     "output_type": "stream",
     "text": [
      "Currently processing: 003.xml\n"
     ]
    },
    {
     "name": "stderr",
     "output_type": "stream",
     "text": [
      "Processing Custodian XML Files:   3%|▎         | 7/279 [06:05<4:49:01, 63.75s/it]"
     ]
    },
    {
     "name": "stdout",
     "output_type": "stream",
     "text": [
      "Currently processing: 017.xml\n"
     ]
    },
    {
     "name": "stderr",
     "output_type": "stream",
     "text": [
      "Processing Custodian XML Files:   4%|▎         | 10/279 [06:06<2:03:09, 27.47s/it]"
     ]
    },
    {
     "name": "stdout",
     "output_type": "stream",
     "text": [
      "Currently processing: 229.xml\n"
     ]
    },
    {
     "name": "stderr",
     "output_type": "stream",
     "text": [
      "Processing Custodian XML Files:   4%|▍         | 11/279 [06:07<1:36:46, 21.67s/it]"
     ]
    },
    {
     "name": "stdout",
     "output_type": "stream",
     "text": [
      "Currently processing: 201.xml\n"
     ]
    },
    {
     "name": "stderr",
     "output_type": "stream",
     "text": [
      "Processing Custodian XML Files:   4%|▍         | 12/279 [06:11<1:18:27, 17.63s/it]"
     ]
    },
    {
     "name": "stdout",
     "output_type": "stream",
     "text": [
      "Currently processing: 215.xml\n"
     ]
    },
    {
     "name": "stderr",
     "output_type": "stream",
     "text": [
      "Processing Custodian XML Files:   5%|▍         | 13/279 [07:39<2:36:14, 35.24s/it]"
     ]
    },
    {
     "name": "stdout",
     "output_type": "stream",
     "text": [
      "Currently processing: 188.xml\n"
     ]
    },
    {
     "name": "stderr",
     "output_type": "stream",
     "text": [
      "Processing Custodian XML Files:   5%|▌         | 14/279 [09:07<3:37:10, 49.17s/it]"
     ]
    },
    {
     "name": "stdout",
     "output_type": "stream",
     "text": [
      "Currently processing: 177.xml\n"
     ]
    },
    {
     "name": "stderr",
     "output_type": "stream",
     "text": [
      "Processing Custodian XML Files:   5%|▌         | 14/279 [09:07<3:37:10, 49.17s/it]"
     ]
    },
    {
     "name": "stdout",
     "output_type": "stream",
     "text": [
      "Currently processing: 163.xml\n"
     ]
    },
    {
     "name": "stderr",
     "output_type": "stream",
     "text": [
      "Processing Custodian XML Files:   6%|▌         | 16/279 [22:17<14:27:26, 197.90s/it]"
     ]
    },
    {
     "name": "stdout",
     "output_type": "stream",
     "text": [
      "Currently processing: 175.xml\n"
     ]
    },
    {
     "name": "stderr",
     "output_type": "stream",
     "text": [
      "Processing Custodian XML Files:   6%|▌         | 17/279 [23:26<12:11:28, 167.51s/it]"
     ]
    },
    {
     "name": "stdout",
     "output_type": "stream",
     "text": [
      "Currently processing: 161.xml\n"
     ]
    },
    {
     "name": "stderr",
     "output_type": "stream",
     "text": [
      "Processing Custodian XML Files:   6%|▋         | 18/279 [31:45<18:11:45, 250.98s/it]"
     ]
    },
    {
     "name": "stdout",
     "output_type": "stream",
     "text": [
      "Currently processing: 149.xml\n"
     ]
    },
    {
     "name": "stderr",
     "output_type": "stream",
     "text": [
      "Processing Custodian XML Files:   7%|▋         | 19/279 [31:46<13:20:27, 184.72s/it]"
     ]
    },
    {
     "name": "stdout",
     "output_type": "stream",
     "text": [
      "Currently processing: 203.xml\n"
     ]
    },
    {
     "name": "stderr",
     "output_type": "stream",
     "text": [
      "Processing Custodian XML Files:   7%|▋         | 20/279 [32:10<10:07:53, 140.82s/it]"
     ]
    },
    {
     "name": "stdout",
     "output_type": "stream",
     "text": [
      "Currently processing: 217.xml\n"
     ]
    },
    {
     "name": "stderr",
     "output_type": "stream",
     "text": [
      "Processing Custodian XML Files:   7%|▋         | 20/279 [32:10<10:07:53, 140.82s/it]"
     ]
    },
    {
     "name": "stdout",
     "output_type": "stream",
     "text": [
      "Currently processing: 001.xml\n"
     ]
    },
    {
     "name": "stderr",
     "output_type": "stream",
     "text": [
      "Processing Custodian XML Files:   8%|▊         | 22/279 [33:09<6:34:02, 91.99s/it]  "
     ]
    },
    {
     "name": "stdout",
     "output_type": "stream",
     "text": [
      "Currently processing: 015.xml\n"
     ]
    },
    {
     "name": "stderr",
     "output_type": "stream",
     "text": [
      "Processing Custodian XML Files:   8%|▊         | 23/279 [33:48<5:38:12, 79.27s/it]"
     ]
    },
    {
     "name": "stdout",
     "output_type": "stream",
     "text": [
      "Currently processing: 029.xml\n"
     ]
    },
    {
     "name": "stderr",
     "output_type": "stream",
     "text": [
      "Processing Custodian XML Files:   9%|▊         | 24/279 [34:10<4:35:27, 64.82s/it]"
     ]
    },
    {
     "name": "stdout",
     "output_type": "stream",
     "text": [
      "Currently processing: 028.xml\n"
     ]
    },
    {
     "name": "stderr",
     "output_type": "stream",
     "text": [
      "Processing Custodian XML Files:   9%|▊         | 24/279 [34:11<4:35:27, 64.82s/it]"
     ]
    },
    {
     "name": "stdout",
     "output_type": "stream",
     "text": [
      "Currently processing: 014.xml\n"
     ]
    },
    {
     "name": "stderr",
     "output_type": "stream",
     "text": [
      "Processing Custodian XML Files:   9%|▉         | 26/279 [34:34<2:59:03, 42.47s/it]"
     ]
    },
    {
     "name": "stdout",
     "output_type": "stream",
     "text": [
      "Currently processing: 216.xml\n"
     ]
    },
    {
     "name": "stderr",
     "output_type": "stream",
     "text": [
      "Processing Custodian XML Files:  10%|▉         | 27/279 [1:03:23<30:15:58, 432.38s/it]"
     ]
    },
    {
     "name": "stdout",
     "output_type": "stream",
     "text": [
      "Currently processing: 202.xml\n"
     ]
    },
    {
     "name": "stderr",
     "output_type": "stream",
     "text": [
      "Processing Custodian XML Files:  10%|█         | 28/279 [1:03:24<22:39:59, 325.10s/it]"
     ]
    },
    {
     "name": "stdout",
     "output_type": "stream",
     "text": [
      "Currently processing: 148.xml\n"
     ]
    },
    {
     "name": "stderr",
     "output_type": "stream",
     "text": [
      "Processing Custodian XML Files:  10%|█         | 28/279 [1:03:24<22:39:59, 325.10s/it]"
     ]
    },
    {
     "name": "stdout",
     "output_type": "stream",
     "text": [
      "Currently processing: 160.xml\n"
     ]
    },
    {
     "name": "stderr",
     "output_type": "stream",
     "text": [
      "Processing Custodian XML Files:  11%|█         | 30/279 [1:04:06<13:46:17, 199.11s/it]"
     ]
    },
    {
     "name": "stdout",
     "output_type": "stream",
     "text": [
      "Currently processing: 174.xml\n"
     ]
    },
    {
     "name": "stderr",
     "output_type": "stream",
     "text": [
      "Processing Custodian XML Files:  11%|█         | 31/279 [1:04:07<10:35:25, 153.73s/it]"
     ]
    },
    {
     "name": "stdout",
     "output_type": "stream",
     "text": [
      "Currently processing: 158.xml\n"
     ]
    },
    {
     "name": "stderr",
     "output_type": "stream",
     "text": [
      "Processing Custodian XML Files:  11%|█▏        | 32/279 [1:04:18<8:08:00, 118.54s/it] "
     ]
    },
    {
     "name": "stdout",
     "output_type": "stream",
     "text": [
      "Currently processing: 170.xml\n"
     ]
    },
    {
     "name": "stderr",
     "output_type": "stream",
     "text": [
      "Processing Custodian XML Files:  12%|█▏        | 33/279 [1:04:20<6:02:07, 88.32s/it] "
     ]
    },
    {
     "name": "stdout",
     "output_type": "stream",
     "text": [
      "Currently processing: 164.xml\n"
     ]
    },
    {
     "name": "stderr",
     "output_type": "stream",
     "text": [
      "Processing Custodian XML Files:  12%|█▏        | 34/279 [1:04:33<4:36:25, 67.69s/it]"
     ]
    },
    {
     "name": "stdout",
     "output_type": "stream",
     "text": [
      "Currently processing: 206.xml\n"
     ]
    },
    {
     "name": "stderr",
     "output_type": "stream",
     "text": [
      "Processing Custodian XML Files:  13%|█▎        | 35/279 [1:11:34<11:16:49, 166.43s/it]"
     ]
    },
    {
     "name": "stdout",
     "output_type": "stream",
     "text": [
      "Currently processing: 212.xml\n"
     ]
    },
    {
     "name": "stderr",
     "output_type": "stream",
     "text": [
      "Processing Custodian XML Files:  13%|█▎        | 36/279 [1:11:35<8:02:32, 119.15s/it] "
     ]
    },
    {
     "name": "stdout",
     "output_type": "stream",
     "text": [
      "Currently processing: 038.xml\n"
     ]
    },
    {
     "name": "stderr",
     "output_type": "stream",
     "text": [
      "Processing Custodian XML Files:  13%|█▎        | 37/279 [1:11:36<5:43:30, 85.17s/it] "
     ]
    },
    {
     "name": "stdout",
     "output_type": "stream",
     "text": [
      "Currently processing: 004.xml\n"
     ]
    },
    {
     "name": "stderr",
     "output_type": "stream",
     "text": [
      "Processing Custodian XML Files:  14%|█▎        | 38/279 [1:11:45<4:12:20, 62.83s/it]"
     ]
    },
    {
     "name": "stdout",
     "output_type": "stream",
     "text": [
      "Currently processing: 010.xml\n"
     ]
    },
    {
     "name": "stderr",
     "output_type": "stream",
     "text": [
      "Processing Custodian XML Files:  14%|█▎        | 38/279 [1:11:45<4:12:20, 62.83s/it]"
     ]
    },
    {
     "name": "stdout",
     "output_type": "stream",
     "text": [
      "Currently processing: 011.xml\n"
     ]
    },
    {
     "name": "stderr",
     "output_type": "stream",
     "text": [
      "Processing Custodian XML Files:  14%|█▍        | 40/279 [1:12:45<3:10:25, 47.81s/it]"
     ]
    },
    {
     "name": "stdout",
     "output_type": "stream",
     "text": [
      "Currently processing: 005.xml\n"
     ]
    },
    {
     "name": "stderr",
     "output_type": "stream",
     "text": [
      "Processing Custodian XML Files:  15%|█▍        | 41/279 [1:13:01<2:39:11, 40.13s/it]"
     ]
    },
    {
     "name": "stdout",
     "output_type": "stream",
     "text": [
      "Currently processing: 039.xml\n"
     ]
    },
    {
     "name": "stderr",
     "output_type": "stream",
     "text": [
      "Processing Custodian XML Files:  15%|█▌        | 42/279 [1:13:01<1:57:30, 29.75s/it]"
     ]
    },
    {
     "name": "stdout",
     "output_type": "stream",
     "text": [
      "Currently processing: 213.xml\n"
     ]
    },
    {
     "name": "stderr",
     "output_type": "stream",
     "text": [
      "Processing Custodian XML Files:  15%|█▌        | 43/279 [1:13:13<1:37:39, 24.83s/it]"
     ]
    },
    {
     "name": "stdout",
     "output_type": "stream",
     "text": [
      "Currently processing: 207.xml\n"
     ]
    },
    {
     "name": "stderr",
     "output_type": "stream",
     "text": [
      "Processing Custodian XML Files:  16%|█▌        | 44/279 [1:13:47<1:47:15, 27.38s/it]"
     ]
    },
    {
     "name": "stdout",
     "output_type": "stream",
     "text": [
      "Currently processing: 165.xml\n"
     ]
    },
    {
     "name": "stderr",
     "output_type": "stream",
     "text": [
      "Processing Custodian XML Files:  16%|█▌        | 45/279 [1:13:55<1:25:46, 22.00s/it]"
     ]
    },
    {
     "name": "stdout",
     "output_type": "stream",
     "text": [
      "Currently processing: 171.xml\n"
     ]
    },
    {
     "name": "stderr",
     "output_type": "stream",
     "text": [
      "Processing Custodian XML Files:  16%|█▌        | 45/279 [1:13:55<1:25:46, 22.00s/it]"
     ]
    },
    {
     "name": "stdout",
     "output_type": "stream",
     "text": [
      "Currently processing: 159.xml\n"
     ]
    },
    {
     "name": "stderr",
     "output_type": "stream",
     "text": [
      "Processing Custodian XML Files:  17%|█▋        | 47/279 [1:13:56<47:15, 12.22s/it]  "
     ]
    },
    {
     "name": "stdout",
     "output_type": "stream",
     "text": [
      "Currently processing: 167.xml\n"
     ]
    },
    {
     "name": "stderr",
     "output_type": "stream",
     "text": [
      "Processing Custodian XML Files:  17%|█▋        | 48/279 [1:28:53<14:34:12, 227.07s/it]"
     ]
    },
    {
     "name": "stdout",
     "output_type": "stream",
     "text": [
      "Currently processing: 173.xml\n"
     ]
    },
    {
     "name": "stderr",
     "output_type": "stream",
     "text": [
      "Processing Custodian XML Files:  18%|█▊        | 49/279 [1:50:39<32:14:32, 504.66s/it]"
     ]
    },
    {
     "name": "stdout",
     "output_type": "stream",
     "text": [
      "Currently processing: 198.xml\n"
     ]
    },
    {
     "name": "stderr",
     "output_type": "stream",
     "text": [
      "Processing Custodian XML Files:  18%|█▊        | 50/279 [1:51:01<23:50:56, 374.92s/it]"
     ]
    },
    {
     "name": "stdout",
     "output_type": "stream",
     "text": [
      "Currently processing: 239.xml\n"
     ]
    },
    {
     "name": "stderr",
     "output_type": "stream",
     "text": [
      "Processing Custodian XML Files:  18%|█▊        | 51/279 [1:53:20<19:36:11, 309.52s/it]"
     ]
    },
    {
     "name": "stdout",
     "output_type": "stream",
     "text": [
      "Currently processing: 211.xml\n"
     ]
    },
    {
     "name": "stderr",
     "output_type": "stream",
     "text": [
      "Processing Custodian XML Files:  19%|█▊        | 52/279 [1:54:24<15:07:10, 239.78s/it]"
     ]
    },
    {
     "name": "stdout",
     "output_type": "stream",
     "text": [
      "Currently processing: 205.xml\n"
     ]
    },
    {
     "name": "stderr",
     "output_type": "stream",
     "text": [
      "Processing Custodian XML Files:  19%|█▉        | 53/279 [2:01:44<18:40:53, 297.58s/it]"
     ]
    },
    {
     "name": "stdout",
     "output_type": "stream",
     "text": [
      "Currently processing: 013.xml\n"
     ]
    },
    {
     "name": "stderr",
     "output_type": "stream",
     "text": [
      "Processing Custodian XML Files:  19%|█▉        | 54/279 [2:01:44<13:10:35, 210.82s/it]"
     ]
    },
    {
     "name": "stdout",
     "output_type": "stream",
     "text": [
      "Currently processing: 007.xml\n"
     ]
    },
    {
     "name": "stderr",
     "output_type": "stream",
     "text": [
      "Processing Custodian XML Files:  20%|█▉        | 55/279 [2:14:54<23:42:36, 381.06s/it]"
     ]
    },
    {
     "name": "stdout",
     "output_type": "stream",
     "text": [
      "Currently processing: 006.xml\n"
     ]
    },
    {
     "name": "stderr",
     "output_type": "stream",
     "text": [
      "Processing Custodian XML Files:  20%|██        | 56/279 [2:15:00<16:44:07, 270.17s/it]"
     ]
    },
    {
     "name": "stdout",
     "output_type": "stream",
     "text": [
      "Currently processing: 012.xml\n"
     ]
    },
    {
     "name": "stderr",
     "output_type": "stream",
     "text": [
      "Processing Custodian XML Files:  20%|██        | 57/279 [2:15:17<12:00:56, 194.85s/it]"
     ]
    },
    {
     "name": "stdout",
     "output_type": "stream",
     "text": [
      "Currently processing: 204.xml\n"
     ]
    },
    {
     "name": "stderr",
     "output_type": "stream",
     "text": [
      "Processing Custodian XML Files:  21%|██        | 58/279 [2:16:14<9:26:03, 153.68s/it] "
     ]
    },
    {
     "name": "stdout",
     "output_type": "stream",
     "text": [
      "Currently processing: 210.xml\n"
     ]
    },
    {
     "name": "stderr",
     "output_type": "stream",
     "text": [
      "Processing Custodian XML Files:  21%|██        | 59/279 [2:17:26<7:54:48, 129.49s/it]"
     ]
    },
    {
     "name": "stdout",
     "output_type": "stream",
     "text": [
      "Currently processing: 238.xml\n"
     ]
    },
    {
     "name": "stderr",
     "output_type": "stream",
     "text": [
      "Processing Custodian XML Files:  22%|██▏       | 60/279 [2:17:34<5:39:36, 93.05s/it] "
     ]
    },
    {
     "name": "stdout",
     "output_type": "stream",
     "text": [
      "Currently processing: 199.xml\n"
     ]
    },
    {
     "name": "stderr",
     "output_type": "stream",
     "text": [
      "Processing Custodian XML Files:  22%|██▏       | 61/279 [2:17:34<3:57:01, 65.24s/it]"
     ]
    },
    {
     "name": "stdout",
     "output_type": "stream",
     "text": [
      "Currently processing: 172.xml\n"
     ]
    },
    {
     "name": "stderr",
     "output_type": "stream",
     "text": [
      "Processing Custodian XML Files:  22%|██▏       | 62/279 [2:19:21<4:41:30, 77.84s/it]"
     ]
    },
    {
     "name": "stdout",
     "output_type": "stream",
     "text": [
      "Currently processing: 166.xml\n"
     ]
    },
    {
     "name": "stderr",
     "output_type": "stream",
     "text": [
      "Processing Custodian XML Files:  23%|██▎       | 63/279 [2:20:06<4:04:55, 68.03s/it]"
     ]
    },
    {
     "name": "stdout",
     "output_type": "stream",
     "text": [
      "Currently processing: 101.xml\n"
     ]
    },
    {
     "name": "stderr",
     "output_type": "stream",
     "text": [
      "Processing Custodian XML Files:  23%|██▎       | 64/279 [2:20:08<2:52:47, 48.22s/it]"
     ]
    },
    {
     "name": "stdout",
     "output_type": "stream",
     "text": [
      "Currently processing: 115.xml\n"
     ]
    },
    {
     "name": "stderr",
     "output_type": "stream",
     "text": [
      "Processing Custodian XML Files:  23%|██▎       | 65/279 [2:20:33<2:26:40, 41.12s/it]"
     ]
    },
    {
     "name": "stdout",
     "output_type": "stream",
     "text": [
      "Currently processing: 129.xml\n"
     ]
    },
    {
     "name": "stderr",
     "output_type": "stream",
     "text": [
      "Processing Custodian XML Files:  24%|██▎       | 66/279 [2:20:34<1:42:57, 29.00s/it]"
     ]
    },
    {
     "name": "stdout",
     "output_type": "stream",
     "text": [
      "Currently processing: 277.xml\n"
     ]
    },
    {
     "name": "stderr",
     "output_type": "stream",
     "text": [
      "Processing Custodian XML Files:  24%|██▍       | 67/279 [2:39:46<21:32:48, 365.89s/it]"
     ]
    },
    {
     "name": "stdout",
     "output_type": "stream",
     "text": [
      "Currently processing: 263.xml\n"
     ]
    },
    {
     "name": "stderr",
     "output_type": "stream",
     "text": [
      "Processing Custodian XML Files:  24%|██▍       | 68/279 [2:41:21<16:41:15, 284.72s/it]"
     ]
    },
    {
     "name": "stdout",
     "output_type": "stream",
     "text": [
      "Currently processing: 075.xml\n"
     ]
    },
    {
     "name": "stderr",
     "output_type": "stream",
     "text": [
      "Processing Custodian XML Files:  24%|██▍       | 68/279 [2:41:21<16:41:15, 284.72s/it]"
     ]
    },
    {
     "name": "stdout",
     "output_type": "stream",
     "text": [
      "Currently processing: 061.xml\n"
     ]
    },
    {
     "name": "stderr",
     "output_type": "stream",
     "text": [
      "Processing Custodian XML Files:  25%|██▌       | 70/279 [2:41:49<9:16:23, 159.73s/it] "
     ]
    },
    {
     "name": "stdout",
     "output_type": "stream",
     "text": [
      "Currently processing: 049.xml\n"
     ]
    },
    {
     "name": "stderr",
     "output_type": "stream",
     "text": [
      "Processing Custodian XML Files:  25%|██▌       | 71/279 [2:42:22<7:24:34, 128.24s/it]"
     ]
    },
    {
     "name": "stdout",
     "output_type": "stream",
     "text": [
      "Currently processing: 048.xml\n"
     ]
    },
    {
     "name": "stderr",
     "output_type": "stream",
     "text": [
      "Processing Custodian XML Files:  26%|██▌       | 72/279 [2:42:57<5:58:59, 104.06s/it]"
     ]
    },
    {
     "name": "stdout",
     "output_type": "stream",
     "text": [
      "Currently processing: 060.xml\n"
     ]
    },
    {
     "name": "stderr",
     "output_type": "stream",
     "text": [
      "Processing Custodian XML Files:  26%|██▌       | 73/279 [2:45:39<6:51:07, 119.75s/it]"
     ]
    },
    {
     "name": "stdout",
     "output_type": "stream",
     "text": [
      "Currently processing: 074.xml\n"
     ]
    },
    {
     "name": "stderr",
     "output_type": "stream",
     "text": [
      "Processing Custodian XML Files:  26%|██▌       | 73/279 [2:45:39<6:51:07, 119.75s/it]"
     ]
    },
    {
     "name": "stdout",
     "output_type": "stream",
     "text": [
      "Currently processing: 262.xml\n"
     ]
    },
    {
     "name": "stderr",
     "output_type": "stream",
     "text": [
      "Processing Custodian XML Files:  27%|██▋       | 75/279 [2:45:39<3:49:16, 67.43s/it] "
     ]
    },
    {
     "name": "stdout",
     "output_type": "stream",
     "text": [
      "Currently processing: 276.xml\n"
     ]
    },
    {
     "name": "stderr",
     "output_type": "stream",
     "text": [
      "Processing Custodian XML Files:  27%|██▋       | 76/279 [2:45:52<3:03:56, 54.37s/it]"
     ]
    },
    {
     "name": "stdout",
     "output_type": "stream",
     "text": [
      "Currently processing: 128.xml\n"
     ]
    },
    {
     "name": "stderr",
     "output_type": "stream",
     "text": [
      "Processing Custodian XML Files:  28%|██▊       | 77/279 [2:46:25<2:44:43, 48.93s/it]"
     ]
    },
    {
     "name": "stdout",
     "output_type": "stream",
     "text": [
      "Currently processing: 114.xml\n"
     ]
    },
    {
     "name": "stderr",
     "output_type": "stream",
     "text": [
      "Processing Custodian XML Files:  28%|██▊       | 77/279 [2:46:25<2:44:43, 48.93s/it]"
     ]
    },
    {
     "name": "stdout",
     "output_type": "stream",
     "text": [
      "Currently processing: 100.xml\n"
     ]
    },
    {
     "name": "stderr",
     "output_type": "stream",
     "text": [
      "Processing Custodian XML Files:  28%|██▊       | 79/279 [2:46:25<1:34:38, 28.39s/it]"
     ]
    },
    {
     "name": "stdout",
     "output_type": "stream",
     "text": [
      "Currently processing: 116.xml\n"
     ]
    },
    {
     "name": "stderr",
     "output_type": "stream",
     "text": [
      "Processing Custodian XML Files:  29%|██▊       | 80/279 [2:46:32<1:17:53, 23.49s/it]"
     ]
    },
    {
     "name": "stdout",
     "output_type": "stream",
     "text": [
      "Currently processing: 102.xml\n"
     ]
    },
    {
     "name": "stderr",
     "output_type": "stream",
     "text": [
      "Processing Custodian XML Files:  29%|██▉       | 81/279 [2:46:33<58:38, 17.77s/it]  "
     ]
    },
    {
     "name": "stdout",
     "output_type": "stream",
     "text": [
      "Currently processing: 260.xml\n"
     ]
    },
    {
     "name": "stderr",
     "output_type": "stream",
     "text": [
      "Processing Custodian XML Files:  29%|██▉       | 81/279 [2:46:33<58:38, 17.77s/it]"
     ]
    },
    {
     "name": "stdout",
     "output_type": "stream",
     "text": [
      "Currently processing: 274.xml\n"
     ]
    },
    {
     "name": "stderr",
     "output_type": "stream",
     "text": [
      "Processing Custodian XML Files:  30%|██▉       | 83/279 [2:46:35<35:20, 10.82s/it]"
     ]
    },
    {
     "name": "stdout",
     "output_type": "stream",
     "text": [
      "Currently processing: 248.xml\n"
     ]
    },
    {
     "name": "stderr",
     "output_type": "stream",
     "text": [
      "Processing Custodian XML Files:  30%|██▉       | 83/279 [2:46:35<35:20, 10.82s/it]"
     ]
    },
    {
     "name": "stdout",
     "output_type": "stream",
     "text": [
      "Currently processing: 062.xml\n"
     ]
    },
    {
     "name": "stderr",
     "output_type": "stream",
     "text": [
      "Processing Custodian XML Files:  30%|███       | 85/279 [6:41:40<141:46:24, 2630.85s/it]"
     ]
    },
    {
     "name": "stdout",
     "output_type": "stream",
     "text": [
      "Currently processing: 076.xml\n"
     ]
    },
    {
     "name": "stderr",
     "output_type": "stream",
     "text": [
      "Processing Custodian XML Files:  31%|███       | 86/279 [6:46:13<114:29:48, 2135.69s/it]"
     ]
    },
    {
     "name": "stdout",
     "output_type": "stream",
     "text": [
      "Currently processing: 089.xml\n"
     ]
    },
    {
     "name": "stderr",
     "output_type": "stream",
     "text": [
      "Processing Custodian XML Files:  31%|███       | 87/279 [6:52:56<92:34:42, 1735.85s/it] "
     ]
    },
    {
     "name": "stdout",
     "output_type": "stream",
     "text": [
      "Currently processing: 088.xml\n"
     ]
    },
    {
     "name": "stderr",
     "output_type": "stream",
     "text": [
      "Processing Custodian XML Files:  32%|███▏      | 88/279 [6:52:56<69:16:22, 1305.67s/it]"
     ]
    },
    {
     "name": "stdout",
     "output_type": "stream",
     "text": [
      "Currently processing: 077.xml\n"
     ]
    },
    {
     "name": "stderr",
     "output_type": "stream",
     "text": [
      "Processing Custodian XML Files:  32%|███▏      | 89/279 [6:52:57<50:54:01, 964.43s/it] "
     ]
    },
    {
     "name": "stdout",
     "output_type": "stream",
     "text": [
      "Currently processing: 063.xml\n"
     ]
    },
    {
     "name": "stderr",
     "output_type": "stream",
     "text": [
      "Processing Custodian XML Files:  32%|███▏      | 90/279 [7:25:24<64:39:42, 1231.66s/it]"
     ]
    },
    {
     "name": "stdout",
     "output_type": "stream",
     "text": [
      "Currently processing: 249.xml\n"
     ]
    },
    {
     "name": "stderr",
     "output_type": "stream",
     "text": [
      "Processing Custodian XML Files:  33%|███▎      | 91/279 [7:25:24<46:19:29, 887.07s/it] "
     ]
    },
    {
     "name": "stdout",
     "output_type": "stream",
     "text": [
      "Currently processing: 275.xml\n"
     ]
    },
    {
     "name": "stderr",
     "output_type": "stream",
     "text": [
      "Processing Custodian XML Files:  33%|███▎      | 92/279 [7:25:40<33:09:13, 638.26s/it]"
     ]
    },
    {
     "name": "stdout",
     "output_type": "stream",
     "text": [
      "Currently processing: 261.xml\n"
     ]
    },
    {
     "name": "stderr",
     "output_type": "stream",
     "text": [
      "Processing Custodian XML Files:  33%|███▎      | 93/279 [7:26:26<24:06:44, 466.69s/it]"
     ]
    },
    {
     "name": "stdout",
     "output_type": "stream",
     "text": [
      "Currently processing: 103.xml\n"
     ]
    },
    {
     "name": "stderr",
     "output_type": "stream",
     "text": [
      "Processing Custodian XML Files:  34%|███▎      | 94/279 [7:26:47<17:16:12, 336.06s/it]"
     ]
    },
    {
     "name": "stdout",
     "output_type": "stream",
     "text": [
      "Currently processing: 117.xml\n"
     ]
    },
    {
     "name": "stderr",
     "output_type": "stream",
     "text": [
      "Processing Custodian XML Files:  34%|███▍      | 95/279 [7:31:51<16:41:30, 326.58s/it]"
     ]
    },
    {
     "name": "stdout",
     "output_type": "stream",
     "text": [
      "Currently processing: 107.xml\n"
     ]
    },
    {
     "name": "stderr",
     "output_type": "stream",
     "text": [
      "Processing Custodian XML Files:  34%|███▍      | 96/279 [7:43:15<21:59:46, 432.71s/it]"
     ]
    },
    {
     "name": "stdout",
     "output_type": "stream",
     "text": [
      "Currently processing: 259.xml\n"
     ]
    },
    {
     "name": "stderr",
     "output_type": "stream",
     "text": [
      "Processing Custodian XML Files:  35%|███▍      | 97/279 [7:43:30<15:35:07, 308.28s/it]"
     ]
    },
    {
     "name": "stdout",
     "output_type": "stream",
     "text": [
      "Currently processing: 265.xml\n"
     ]
    },
    {
     "name": "stderr",
     "output_type": "stream",
     "text": [
      "Processing Custodian XML Files:  35%|███▌      | 98/279 [7:43:30<10:52:43, 216.37s/it]"
     ]
    },
    {
     "name": "stdout",
     "output_type": "stream",
     "text": [
      "Currently processing: 271.xml\n"
     ]
    },
    {
     "name": "stderr",
     "output_type": "stream",
     "text": [
      "Processing Custodian XML Files:  35%|███▌      | 99/279 [7:43:33<7:37:51, 152.62s/it] "
     ]
    },
    {
     "name": "stdout",
     "output_type": "stream",
     "text": [
      "Currently processing: 067.xml\n"
     ]
    },
    {
     "name": "stderr",
     "output_type": "stream",
     "text": [
      "Processing Custodian XML Files:  35%|███▌      | 99/279 [7:43:33<7:37:51, 152.62s/it]"
     ]
    },
    {
     "name": "stdout",
     "output_type": "stream",
     "text": [
      "Currently processing: 073.xml\n"
     ]
    },
    {
     "name": "stderr",
     "output_type": "stream",
     "text": [
      "Processing Custodian XML Files:  35%|███▌      | 99/279 [7:43:33<7:37:51, 152.62s/it]"
     ]
    },
    {
     "name": "stdout",
     "output_type": "stream",
     "text": [
      "Currently processing: 098.xml\n"
     ]
    },
    {
     "name": "stderr",
     "output_type": "stream",
     "text": [
      "Processing Custodian XML Files:  37%|███▋      | 102/279 [7:43:36<3:19:25, 67.60s/it]"
     ]
    },
    {
     "name": "stdout",
     "output_type": "stream",
     "text": [
      "Currently processing: 099.xml\n"
     ]
    },
    {
     "name": "stderr",
     "output_type": "stream",
     "text": [
      "Processing Custodian XML Files:  37%|███▋      | 102/279 [7:43:36<3:19:25, 67.60s/it]"
     ]
    },
    {
     "name": "stdout",
     "output_type": "stream",
     "text": [
      "Currently processing: 072.xml\n"
     ]
    },
    {
     "name": "stderr",
     "output_type": "stream",
     "text": [
      "Processing Custodian XML Files:  37%|███▋      | 104/279 [7:43:37<2:08:33, 44.08s/it]"
     ]
    },
    {
     "name": "stdout",
     "output_type": "stream",
     "text": [
      "Currently processing: 066.xml\n"
     ]
    },
    {
     "name": "stderr",
     "output_type": "stream",
     "text": [
      "Processing Custodian XML Files:  37%|███▋      | 104/279 [7:43:37<2:08:33, 44.08s/it]"
     ]
    },
    {
     "name": "stdout",
     "output_type": "stream",
     "text": [
      "Currently processing: 270.xml\n"
     ]
    },
    {
     "name": "stderr",
     "output_type": "stream",
     "text": [
      "Processing Custodian XML Files:  38%|███▊      | 106/279 [7:46:00<2:33:36, 53.27s/it]"
     ]
    },
    {
     "name": "stdout",
     "output_type": "stream",
     "text": [
      "Currently processing: 264.xml\n"
     ]
    },
    {
     "name": "stderr",
     "output_type": "stream",
     "text": [
      "Processing Custodian XML Files:  38%|███▊      | 107/279 [7:46:00<2:03:31, 43.09s/it]"
     ]
    },
    {
     "name": "stdout",
     "output_type": "stream",
     "text": [
      "Currently processing: 258.xml\n"
     ]
    },
    {
     "name": "stderr",
     "output_type": "stream",
     "text": [
      "Processing Custodian XML Files:  39%|███▊      | 108/279 [7:46:44<2:03:04, 43.18s/it]"
     ]
    },
    {
     "name": "stdout",
     "output_type": "stream",
     "text": [
      "Currently processing: 106.xml\n"
     ]
    },
    {
     "name": "stderr",
     "output_type": "stream",
     "text": [
      "Processing Custodian XML Files:  39%|███▉      | 109/279 [7:46:50<1:37:27, 34.40s/it]"
     ]
    },
    {
     "name": "stdout",
     "output_type": "stream",
     "text": [
      "Currently processing: 112.xml\n"
     ]
    },
    {
     "name": "stderr",
     "output_type": "stream",
     "text": [
      "Processing Custodian XML Files:  39%|███▉      | 110/279 [7:48:55<2:41:34, 57.36s/it]"
     ]
    },
    {
     "name": "stdout",
     "output_type": "stream",
     "text": [
      "Currently processing: 138.xml\n"
     ]
    },
    {
     "name": "stderr",
     "output_type": "stream",
     "text": [
      "Processing Custodian XML Files:  39%|███▉      | 110/279 [7:48:55<2:41:34, 57.36s/it]"
     ]
    },
    {
     "name": "stdout",
     "output_type": "stream",
     "text": [
      "Currently processing: 104.xml\n"
     ]
    },
    {
     "name": "stderr",
     "output_type": "stream",
     "text": [
      "Processing Custodian XML Files:  40%|████      | 112/279 [7:48:57<1:33:45, 33.69s/it]"
     ]
    },
    {
     "name": "stdout",
     "output_type": "stream",
     "text": [
      "Currently processing: 110.xml\n"
     ]
    },
    {
     "name": "stderr",
     "output_type": "stream",
     "text": [
      "Processing Custodian XML Files:  40%|████      | 112/279 [7:48:57<1:33:45, 33.69s/it]"
     ]
    },
    {
     "name": "stdout",
     "output_type": "stream",
     "text": [
      "Currently processing: 272.xml\n"
     ]
    },
    {
     "name": "stderr",
     "output_type": "stream",
     "text": [
      "Processing Custodian XML Files:  41%|████      | 114/279 [7:49:00<59:38, 21.69s/it]  "
     ]
    },
    {
     "name": "stdout",
     "output_type": "stream",
     "text": [
      "Currently processing: 266.xml\n"
     ]
    },
    {
     "name": "stderr",
     "output_type": "stream",
     "text": [
      "Processing Custodian XML Files:  41%|████      | 115/279 [7:49:00<46:57, 17.18s/it]"
     ]
    },
    {
     "name": "stdout",
     "output_type": "stream",
     "text": [
      "Currently processing: 058.xml\n"
     ]
    },
    {
     "name": "stderr",
     "output_type": "stream",
     "text": [
      "Processing Custodian XML Files:  42%|████▏     | 116/279 [7:50:36<1:36:16, 35.44s/it]"
     ]
    },
    {
     "name": "stdout",
     "output_type": "stream",
     "text": [
      "Currently processing: 070.xml\n"
     ]
    },
    {
     "name": "stderr",
     "output_type": "stream",
     "text": [
      "Processing Custodian XML Files:  42%|████▏     | 117/279 [7:50:39<1:13:24, 27.19s/it]"
     ]
    },
    {
     "name": "stdout",
     "output_type": "stream",
     "text": [
      "Currently processing: 064.xml\n",
      "Zip file not found for XML: avocado-1.0.2/data/text/064.zip\n",
      "Currently processing: 065.xml\n"
     ]
    },
    {
     "name": "stderr",
     "output_type": "stream",
     "text": [
      "Processing Custodian XML Files:  43%|████▎     | 119/279 [7:50:45<45:48, 17.18s/it]  "
     ]
    },
    {
     "name": "stdout",
     "output_type": "stream",
     "text": [
      "Currently processing: 071.xml\n"
     ]
    },
    {
     "name": "stderr",
     "output_type": "stream",
     "text": [
      "Processing Custodian XML Files:  43%|████▎     | 120/279 [7:50:50<38:12, 14.42s/it]"
     ]
    },
    {
     "name": "stdout",
     "output_type": "stream",
     "text": [
      "Currently processing: 059.xml\n"
     ]
    },
    {
     "name": "stderr",
     "output_type": "stream",
     "text": [
      "Processing Custodian XML Files:  43%|████▎     | 121/279 [7:55:24<3:26:42, 78.50s/it]"
     ]
    },
    {
     "name": "stdout",
     "output_type": "stream",
     "text": [
      "Currently processing: 267.xml\n"
     ]
    },
    {
     "name": "stderr",
     "output_type": "stream",
     "text": [
      "Processing Custodian XML Files:  44%|████▎     | 122/279 [7:58:56<4:55:57, 113.11s/it]"
     ]
    },
    {
     "name": "stdout",
     "output_type": "stream",
     "text": [
      "Currently processing: 273.xml\n"
     ]
    },
    {
     "name": "stderr",
     "output_type": "stream",
     "text": [
      "Processing Custodian XML Files:  44%|████▍     | 123/279 [7:59:09<3:43:32, 85.97s/it] "
     ]
    },
    {
     "name": "stdout",
     "output_type": "stream",
     "text": [
      "Currently processing: 111.xml\n"
     ]
    },
    {
     "name": "stderr",
     "output_type": "stream",
     "text": [
      "Processing Custodian XML Files:  44%|████▍     | 124/279 [7:59:13<2:42:53, 63.06s/it]"
     ]
    },
    {
     "name": "stdout",
     "output_type": "stream",
     "text": [
      "Currently processing: 105.xml\n"
     ]
    },
    {
     "name": "stderr",
     "output_type": "stream",
     "text": [
      "Processing Custodian XML Files:  45%|████▍     | 125/279 [7:59:34<2:11:21, 51.18s/it]"
     ]
    },
    {
     "name": "stdout",
     "output_type": "stream",
     "text": [
      "Currently processing: 139.xml\n"
     ]
    },
    {
     "name": "stderr",
     "output_type": "stream",
     "text": [
      "Processing Custodian XML Files:  45%|████▌     | 126/279 [7:59:37<1:34:38, 37.11s/it]"
     ]
    },
    {
     "name": "stdout",
     "output_type": "stream",
     "text": [
      "Currently processing: 120.xml\n"
     ]
    },
    {
     "name": "stderr",
     "output_type": "stream",
     "text": [
      "Processing Custodian XML Files:  46%|████▌     | 127/279 [7:59:40<1:09:05, 27.27s/it]"
     ]
    },
    {
     "name": "stdout",
     "output_type": "stream",
     "text": [
      "Currently processing: 134.xml\n"
     ]
    },
    {
     "name": "stderr",
     "output_type": "stream",
     "text": [
      "Processing Custodian XML Files:  46%|████▌     | 128/279 [7:59:42<49:47, 19.78s/it]  "
     ]
    },
    {
     "name": "stdout",
     "output_type": "stream",
     "text": [
      "Currently processing: 108.xml\n"
     ]
    },
    {
     "name": "stderr",
     "output_type": "stream",
     "text": [
      "Processing Custodian XML Files:  46%|████▌     | 129/279 [8:00:09<54:46, 21.91s/it]"
     ]
    },
    {
     "name": "stdout",
     "output_type": "stream",
     "text": [
      "Currently processing: 256.xml\n"
     ]
    },
    {
     "name": "stderr",
     "output_type": "stream",
     "text": [
      "Processing Custodian XML Files:  47%|████▋     | 130/279 [8:00:10<38:42, 15.59s/it]"
     ]
    },
    {
     "name": "stdout",
     "output_type": "stream",
     "text": [
      "Currently processing: 242.xml\n"
     ]
    },
    {
     "name": "stderr",
     "output_type": "stream",
     "text": [
      "Processing Custodian XML Files:  47%|████▋     | 131/279 [8:00:48<55:28, 22.49s/it]"
     ]
    },
    {
     "name": "stdout",
     "output_type": "stream",
     "text": [
      "Currently processing: 281.xml\n"
     ]
    },
    {
     "name": "stderr",
     "output_type": "stream",
     "text": [
      "Processing Custodian XML Files:  47%|████▋     | 132/279 [8:07:28<5:31:05, 135.14s/it]"
     ]
    },
    {
     "name": "stdout",
     "output_type": "stream",
     "text": [
      "Currently processing: 054.xml\n"
     ]
    },
    {
     "name": "stderr",
     "output_type": "stream",
     "text": [
      "Processing Custodian XML Files:  48%|████▊     | 133/279 [8:07:28<3:50:35, 94.77s/it] "
     ]
    },
    {
     "name": "stdout",
     "output_type": "stream",
     "text": [
      "Currently processing: 040.xml\n"
     ]
    },
    {
     "name": "stderr",
     "output_type": "stream",
     "text": [
      "Processing Custodian XML Files:  48%|████▊     | 134/279 [8:09:31<4:09:11, 103.12s/it]"
     ]
    },
    {
     "name": "stdout",
     "output_type": "stream",
     "text": [
      "Currently processing: 068.xml\n"
     ]
    },
    {
     "name": "stderr",
     "output_type": "stream",
     "text": [
      "Processing Custodian XML Files:  48%|████▊     | 135/279 [8:12:58<5:21:56, 134.14s/it]"
     ]
    },
    {
     "name": "stdout",
     "output_type": "stream",
     "text": [
      "Currently processing: 097.xml\n"
     ]
    },
    {
     "name": "stderr",
     "output_type": "stream",
     "text": [
      "Processing Custodian XML Files:  49%|████▊     | 136/279 [8:13:06<3:50:09, 96.57s/it] "
     ]
    },
    {
     "name": "stdout",
     "output_type": "stream",
     "text": [
      "Currently processing: 083.xml\n"
     ]
    },
    {
     "name": "stderr",
     "output_type": "stream",
     "text": [
      "Processing Custodian XML Files:  49%|████▉     | 137/279 [8:13:09<2:41:40, 68.31s/it]"
     ]
    },
    {
     "name": "stdout",
     "output_type": "stream",
     "text": [
      "Currently processing: 082.xml\n"
     ]
    },
    {
     "name": "stderr",
     "output_type": "stream",
     "text": [
      "Processing Custodian XML Files:  49%|████▉     | 138/279 [8:13:25<2:04:11, 52.85s/it]"
     ]
    },
    {
     "name": "stdout",
     "output_type": "stream",
     "text": [
      "Currently processing: 096.xml\n"
     ]
    },
    {
     "name": "stderr",
     "output_type": "stream",
     "text": [
      "Processing Custodian XML Files:  50%|████▉     | 139/279 [8:18:09<4:45:08, 122.20s/it]"
     ]
    },
    {
     "name": "stdout",
     "output_type": "stream",
     "text": [
      "Currently processing: 069.xml\n"
     ]
    },
    {
     "name": "stderr",
     "output_type": "stream",
     "text": [
      "Processing Custodian XML Files:  50%|█████     | 140/279 [8:18:22<3:26:58, 89.34s/it] "
     ]
    },
    {
     "name": "stdout",
     "output_type": "stream",
     "text": [
      "Currently processing: 041.xml\n"
     ]
    },
    {
     "name": "stderr",
     "output_type": "stream",
     "text": [
      "Processing Custodian XML Files:  50%|█████     | 140/279 [8:18:22<3:26:58, 89.34s/it]"
     ]
    },
    {
     "name": "stdout",
     "output_type": "stream",
     "text": [
      "Currently processing: 055.xml\n"
     ]
    },
    {
     "name": "stderr",
     "output_type": "stream",
     "text": [
      "Processing Custodian XML Files:  51%|█████     | 142/279 [9:36:25<42:56:53, 1128.57s/it]"
     ]
    },
    {
     "name": "stdout",
     "output_type": "stream",
     "text": [
      "Currently processing: 280.xml\n"
     ]
    },
    {
     "name": "stderr",
     "output_type": "stream",
     "text": [
      "Processing Custodian XML Files:  51%|█████▏    | 143/279 [9:36:27<32:05:26, 849.46s/it] "
     ]
    },
    {
     "name": "stdout",
     "output_type": "stream",
     "text": [
      "Currently processing: 243.xml\n"
     ]
    },
    {
     "name": "stderr",
     "output_type": "stream",
     "text": [
      "Processing Custodian XML Files:  52%|█████▏    | 144/279 [9:37:52<24:21:07, 649.39s/it]"
     ]
    },
    {
     "name": "stdout",
     "output_type": "stream",
     "text": [
      "Currently processing: 257.xml\n"
     ]
    },
    {
     "name": "stderr",
     "output_type": "stream",
     "text": [
      "Processing Custodian XML Files:  52%|█████▏    | 145/279 [9:41:09<19:35:37, 526.40s/it]"
     ]
    },
    {
     "name": "stdout",
     "output_type": "stream",
     "text": [
      "Currently processing: 109.xml\n"
     ]
    },
    {
     "name": "stderr",
     "output_type": "stream",
     "text": [
      "Processing Custodian XML Files:  52%|█████▏    | 145/279 [9:41:09<19:35:37, 526.40s/it]"
     ]
    },
    {
     "name": "stdout",
     "output_type": "stream",
     "text": [
      "Currently processing: 135.xml\n"
     ]
    },
    {
     "name": "stderr",
     "output_type": "stream",
     "text": [
      "Processing Custodian XML Files:  53%|█████▎    | 147/279 [9:42:32<11:31:36, 314.37s/it]"
     ]
    },
    {
     "name": "stdout",
     "output_type": "stream",
     "text": [
      "Currently processing: 121.xml\n"
     ]
    },
    {
     "name": "stderr",
     "output_type": "stream",
     "text": [
      "Processing Custodian XML Files:  53%|█████▎    | 148/279 [9:42:43<8:48:24, 242.02s/it] "
     ]
    },
    {
     "name": "stdout",
     "output_type": "stream",
     "text": [
      "Currently processing: 137.xml\n"
     ]
    },
    {
     "name": "stderr",
     "output_type": "stream",
     "text": [
      "Processing Custodian XML Files:  53%|█████▎    | 149/279 [9:43:16<6:49:57, 189.21s/it]"
     ]
    },
    {
     "name": "stdout",
     "output_type": "stream",
     "text": [
      "Currently processing: 123.xml\n"
     ]
    },
    {
     "name": "stderr",
     "output_type": "stream",
     "text": [
      "Processing Custodian XML Files:  54%|█████▍    | 150/279 [9:43:22<5:01:30, 140.24s/it]"
     ]
    },
    {
     "name": "stdout",
     "output_type": "stream",
     "text": [
      "Currently processing: 241.xml\n"
     ]
    },
    {
     "name": "stderr",
     "output_type": "stream",
     "text": [
      "Processing Custodian XML Files:  54%|█████▍    | 151/279 [9:43:22<3:36:55, 101.69s/it]"
     ]
    },
    {
     "name": "stdout",
     "output_type": "stream",
     "text": [
      "Currently processing: 255.xml\n"
     ]
    },
    {
     "name": "stderr",
     "output_type": "stream",
     "text": [
      "Processing Custodian XML Files:  54%|█████▍    | 152/279 [9:43:23<2:34:51, 73.16s/it] "
     ]
    },
    {
     "name": "stdout",
     "output_type": "stream",
     "text": [
      "Currently processing: 269.xml\n"
     ]
    },
    {
     "name": "stderr",
     "output_type": "stream",
     "text": [
      "Processing Custodian XML Files:  55%|█████▍    | 153/279 [9:43:26<1:51:52, 53.27s/it]"
     ]
    },
    {
     "name": "stdout",
     "output_type": "stream",
     "text": [
      "Currently processing: 043.xml\n"
     ]
    },
    {
     "name": "stderr",
     "output_type": "stream",
     "text": [
      "Processing Custodian XML Files:  55%|█████▍    | 153/279 [9:43:26<1:51:52, 53.27s/it]"
     ]
    },
    {
     "name": "stdout",
     "output_type": "stream",
     "text": [
      "Currently processing: 057.xml\n"
     ]
    },
    {
     "name": "stderr",
     "output_type": "stream",
     "text": [
      "Processing Custodian XML Files:  56%|█████▌    | 155/279 [9:55:42<6:42:57, 194.98s/it]"
     ]
    },
    {
     "name": "stdout",
     "output_type": "stream",
     "text": [
      "Currently processing: 080.xml\n"
     ]
    },
    {
     "name": "stderr",
     "output_type": "stream",
     "text": [
      "Processing Custodian XML Files:  56%|█████▌    | 156/279 [10:03:34<8:58:19, 262.59s/it]"
     ]
    },
    {
     "name": "stdout",
     "output_type": "stream",
     "text": [
      "Currently processing: 094.xml\n"
     ]
    },
    {
     "name": "stderr",
     "output_type": "stream",
     "text": [
      "Processing Custodian XML Files:  56%|█████▋    | 157/279 [10:03:43<6:40:34, 197.00s/it]"
     ]
    },
    {
     "name": "stdout",
     "output_type": "stream",
     "text": [
      "Currently processing: 095.xml\n"
     ]
    },
    {
     "name": "stderr",
     "output_type": "stream",
     "text": [
      "Processing Custodian XML Files:  57%|█████▋    | 158/279 [10:04:02<5:00:57, 149.23s/it]"
     ]
    },
    {
     "name": "stdout",
     "output_type": "stream",
     "text": [
      "Currently processing: 081.xml\n"
     ]
    },
    {
     "name": "stderr",
     "output_type": "stream",
     "text": [
      "Processing Custodian XML Files:  57%|█████▋    | 159/279 [10:04:03<3:35:42, 107.86s/it]"
     ]
    },
    {
     "name": "stdout",
     "output_type": "stream",
     "text": [
      "Currently processing: 056.xml\n"
     ]
    },
    {
     "name": "stderr",
     "output_type": "stream",
     "text": [
      "Processing Custodian XML Files:  57%|█████▋    | 160/279 [10:04:25<2:45:43, 83.56s/it] "
     ]
    },
    {
     "name": "stdout",
     "output_type": "stream",
     "text": [
      "Currently processing: 042.xml\n"
     ]
    },
    {
     "name": "stderr",
     "output_type": "stream",
     "text": [
      "Processing Custodian XML Files:  57%|█████▋    | 160/279 [10:04:25<2:45:43, 83.56s/it]"
     ]
    },
    {
     "name": "stdout",
     "output_type": "stream",
     "text": [
      "Currently processing: 283.xml\n",
      "Zip file not found for XML: avocado-1.0.2/data/text/283.zip\n",
      "Currently processing: 268.xml\n"
     ]
    },
    {
     "name": "stderr",
     "output_type": "stream",
     "text": [
      "Processing Custodian XML Files:  57%|█████▋    | 160/279 [10:04:25<2:45:43, 83.56s/it]"
     ]
    },
    {
     "name": "stdout",
     "output_type": "stream",
     "text": [
      "Currently processing: 254.xml\n"
     ]
    },
    {
     "name": "stderr",
     "output_type": "stream",
     "text": [
      "Processing Custodian XML Files:  59%|█████▉    | 164/279 [10:04:25<1:01:05, 31.88s/it]"
     ]
    },
    {
     "name": "stdout",
     "output_type": "stream",
     "text": [
      "Currently processing: 240.xml\n"
     ]
    },
    {
     "name": "stderr",
     "output_type": "stream",
     "text": [
      "Processing Custodian XML Files:  59%|█████▉    | 165/279 [10:04:28<50:25, 26.54s/it]  "
     ]
    },
    {
     "name": "stdout",
     "output_type": "stream",
     "text": [
      "Currently processing: 122.xml\n"
     ]
    },
    {
     "name": "stderr",
     "output_type": "stream",
     "text": [
      "Processing Custodian XML Files:  59%|█████▉    | 166/279 [10:04:30<40:30, 21.51s/it]"
     ]
    },
    {
     "name": "stdout",
     "output_type": "stream",
     "text": [
      "Currently processing: 136.xml\n"
     ]
    },
    {
     "name": "stderr",
     "output_type": "stream",
     "text": [
      "Processing Custodian XML Files:  60%|█████▉    | 167/279 [10:04:30<31:05, 16.65s/it]"
     ]
    },
    {
     "name": "stdout",
     "output_type": "stream",
     "text": [
      "Currently processing: 132.xml\n"
     ]
    },
    {
     "name": "stderr",
     "output_type": "stream",
     "text": [
      "Processing Custodian XML Files:  60%|██████    | 168/279 [10:04:36<26:01, 14.07s/it]"
     ]
    },
    {
     "name": "stdout",
     "output_type": "stream",
     "text": [
      "Currently processing: 126.xml\n"
     ]
    },
    {
     "name": "stderr",
     "output_type": "stream",
     "text": [
      "Processing Custodian XML Files:  60%|██████    | 168/279 [10:04:36<26:01, 14.07s/it]"
     ]
    },
    {
     "name": "stdout",
     "output_type": "stream",
     "text": [
      "Currently processing: 278.xml\n"
     ]
    },
    {
     "name": "stderr",
     "output_type": "stream",
     "text": [
      "Processing Custodian XML Files:  61%|██████    | 170/279 [10:04:37<15:16,  8.40s/it]"
     ]
    },
    {
     "name": "stdout",
     "output_type": "stream",
     "text": [
      "Currently processing: 244.xml\n"
     ]
    },
    {
     "name": "stderr",
     "output_type": "stream",
     "text": [
      "Processing Custodian XML Files:  61%|██████▏   | 171/279 [10:05:11<25:46, 14.32s/it]"
     ]
    },
    {
     "name": "stdout",
     "output_type": "stream",
     "text": [
      "Currently processing: 250.xml\n"
     ]
    },
    {
     "name": "stderr",
     "output_type": "stream",
     "text": [
      "Processing Custodian XML Files:  62%|██████▏   | 172/279 [10:19:25<6:32:27, 220.07s/it]"
     ]
    },
    {
     "name": "stdout",
     "output_type": "stream",
     "text": [
      "Currently processing: 046.xml\n"
     ]
    },
    {
     "name": "stderr",
     "output_type": "stream",
     "text": [
      "Processing Custodian XML Files:  62%|██████▏   | 173/279 [10:21:15<5:38:27, 191.58s/it]"
     ]
    },
    {
     "name": "stdout",
     "output_type": "stream",
     "text": [
      "Currently processing: 052.xml\n"
     ]
    },
    {
     "name": "stderr",
     "output_type": "stream",
     "text": [
      "Processing Custodian XML Files:  62%|██████▏   | 174/279 [10:21:19<4:06:25, 140.81s/it]"
     ]
    },
    {
     "name": "stdout",
     "output_type": "stream",
     "text": [
      "Currently processing: 085.xml\n"
     ]
    },
    {
     "name": "stderr",
     "output_type": "stream",
     "text": [
      "Processing Custodian XML Files:  63%|██████▎   | 175/279 [10:21:49<3:10:35, 109.96s/it]"
     ]
    },
    {
     "name": "stdout",
     "output_type": "stream",
     "text": [
      "Currently processing: 091.xml\n"
     ]
    },
    {
     "name": "stderr",
     "output_type": "stream",
     "text": [
      "Processing Custodian XML Files:  63%|██████▎   | 176/279 [10:24:12<3:25:07, 119.49s/it]"
     ]
    },
    {
     "name": "stdout",
     "output_type": "stream",
     "text": [
      "Currently processing: 090.xml\n"
     ]
    },
    {
     "name": "stderr",
     "output_type": "stream",
     "text": [
      "Processing Custodian XML Files:  63%|██████▎   | 176/279 [10:24:12<3:25:07, 119.49s/it]"
     ]
    },
    {
     "name": "stdout",
     "output_type": "stream",
     "text": [
      "Currently processing: 084.xml\n"
     ]
    },
    {
     "name": "stderr",
     "output_type": "stream",
     "text": [
      "Processing Custodian XML Files:  64%|██████▍   | 178/279 [10:41:37<8:25:11, 300.11s/it]"
     ]
    },
    {
     "name": "stdout",
     "output_type": "stream",
     "text": [
      "Currently processing: 053.xml\n"
     ]
    },
    {
     "name": "stderr",
     "output_type": "stream",
     "text": [
      "Processing Custodian XML Files:  64%|██████▍   | 179/279 [10:44:24<7:26:16, 267.77s/it]"
     ]
    },
    {
     "name": "stdout",
     "output_type": "stream",
     "text": [
      "Currently processing: 047.xml\n"
     ]
    },
    {
     "name": "stderr",
     "output_type": "stream",
     "text": [
      "Processing Custodian XML Files:  65%|██████▍   | 180/279 [10:44:24<5:28:26, 199.06s/it]"
     ]
    },
    {
     "name": "stdout",
     "output_type": "stream",
     "text": [
      "Currently processing: 251.xml\n"
     ]
    },
    {
     "name": "stderr",
     "output_type": "stream",
     "text": [
      "Processing Custodian XML Files:  65%|██████▍   | 181/279 [10:44:30<4:00:11, 147.06s/it]"
     ]
    },
    {
     "name": "stdout",
     "output_type": "stream",
     "text": [
      "Currently processing: 245.xml\n"
     ]
    },
    {
     "name": "stderr",
     "output_type": "stream",
     "text": [
      "Processing Custodian XML Files:  65%|██████▌   | 182/279 [10:54:23<7:17:33, 270.65s/it]"
     ]
    },
    {
     "name": "stdout",
     "output_type": "stream",
     "text": [
      "Currently processing: 279.xml\n"
     ]
    },
    {
     "name": "stderr",
     "output_type": "stream",
     "text": [
      "Processing Custodian XML Files:  66%|██████▌   | 183/279 [10:56:57<6:20:07, 237.58s/it]"
     ]
    },
    {
     "name": "stdout",
     "output_type": "stream",
     "text": [
      "Currently processing: 127.xml\n"
     ]
    },
    {
     "name": "stderr",
     "output_type": "stream",
     "text": [
      "Processing Custodian XML Files:  66%|██████▌   | 184/279 [10:57:13<4:34:59, 173.67s/it]"
     ]
    },
    {
     "name": "stdout",
     "output_type": "stream",
     "text": [
      "Currently processing: 133.xml\n"
     ]
    },
    {
     "name": "stderr",
     "output_type": "stream",
     "text": [
      "Processing Custodian XML Files:  66%|██████▌   | 184/279 [10:57:13<4:34:59, 173.67s/it]"
     ]
    },
    {
     "name": "stdout",
     "output_type": "stream",
     "text": [
      "Currently processing: 119.xml\n"
     ]
    },
    {
     "name": "stderr",
     "output_type": "stream",
     "text": [
      "Processing Custodian XML Files:  67%|██████▋   | 186/279 [10:57:13<2:27:37, 95.24s/it] "
     ]
    },
    {
     "name": "stdout",
     "output_type": "stream",
     "text": [
      "Currently processing: 125.xml\n"
     ]
    },
    {
     "name": "stderr",
     "output_type": "stream",
     "text": [
      "Processing Custodian XML Files:  67%|██████▋   | 186/279 [10:57:13<2:27:37, 95.24s/it]"
     ]
    },
    {
     "name": "stdout",
     "output_type": "stream",
     "text": [
      "Currently processing: 131.xml\n"
     ]
    },
    {
     "name": "stderr",
     "output_type": "stream",
     "text": [
      "Processing Custodian XML Files:  67%|██████▋   | 188/279 [10:57:19<1:29:38, 59.11s/it]"
     ]
    },
    {
     "name": "stdout",
     "output_type": "stream",
     "text": [
      "Currently processing: 253.xml\n"
     ]
    },
    {
     "name": "stderr",
     "output_type": "stream",
     "text": [
      "Processing Custodian XML Files:  68%|██████▊   | 189/279 [10:57:20<1:09:23, 46.26s/it]"
     ]
    },
    {
     "name": "stdout",
     "output_type": "stream",
     "text": [
      "Currently processing: 247.xml\n"
     ]
    },
    {
     "name": "stderr",
     "output_type": "stream",
     "text": [
      "Processing Custodian XML Files:  68%|██████▊   | 189/279 [10:57:20<1:09:23, 46.26s/it]"
     ]
    },
    {
     "name": "stdout",
     "output_type": "stream",
     "text": [
      "Currently processing: 079.xml\n"
     ]
    },
    {
     "name": "stderr",
     "output_type": "stream",
     "text": [
      "Processing Custodian XML Files:  68%|██████▊   | 189/279 [10:57:20<1:09:23, 46.26s/it]"
     ]
    },
    {
     "name": "stdout",
     "output_type": "stream",
     "text": [
      "Currently processing: 051.xml\n"
     ]
    },
    {
     "name": "stderr",
     "output_type": "stream",
     "text": [
      "Processing Custodian XML Files:  69%|██████▉   | 192/279 [10:59:14<1:01:21, 42.32s/it]"
     ]
    },
    {
     "name": "stdout",
     "output_type": "stream",
     "text": [
      "Currently processing: 045.xml\n"
     ]
    },
    {
     "name": "stderr",
     "output_type": "stream",
     "text": [
      "Processing Custodian XML Files:  69%|██████▉   | 193/279 [10:59:16<49:45, 34.71s/it]  "
     ]
    },
    {
     "name": "stdout",
     "output_type": "stream",
     "text": [
      "Currently processing: 092.xml\n"
     ]
    },
    {
     "name": "stderr",
     "output_type": "stream",
     "text": [
      "Processing Custodian XML Files:  69%|██████▉   | 193/279 [10:59:16<49:45, 34.71s/it]"
     ]
    },
    {
     "name": "stdout",
     "output_type": "stream",
     "text": [
      "Currently processing: 086.xml\n"
     ]
    },
    {
     "name": "stderr",
     "output_type": "stream",
     "text": [
      "Processing Custodian XML Files:  70%|██████▉   | 195/279 [10:59:17<32:02, 22.88s/it]"
     ]
    },
    {
     "name": "stdout",
     "output_type": "stream",
     "text": [
      "Currently processing: 087.xml\n"
     ]
    },
    {
     "name": "stderr",
     "output_type": "stream",
     "text": [
      "Processing Custodian XML Files:  70%|██████▉   | 195/279 [10:59:17<32:02, 22.88s/it]"
     ]
    },
    {
     "name": "stdout",
     "output_type": "stream",
     "text": [
      "Currently processing: 093.xml\n"
     ]
    },
    {
     "name": "stderr",
     "output_type": "stream",
     "text": [
      "Processing Custodian XML Files:  71%|███████   | 197/279 [11:02:00<57:47, 42.29s/it]"
     ]
    },
    {
     "name": "stdout",
     "output_type": "stream",
     "text": [
      "Currently processing: 044.xml\n"
     ]
    },
    {
     "name": "stderr",
     "output_type": "stream",
     "text": [
      "Processing Custodian XML Files:  71%|███████   | 197/279 [11:02:00<57:47, 42.29s/it]"
     ]
    },
    {
     "name": "stdout",
     "output_type": "stream",
     "text": [
      "Currently processing: 050.xml\n"
     ]
    },
    {
     "name": "stderr",
     "output_type": "stream",
     "text": [
      "Processing Custodian XML Files:  71%|███████▏  | 199/279 [11:02:00<38:17, 28.72s/it]"
     ]
    },
    {
     "name": "stdout",
     "output_type": "stream",
     "text": [
      "Currently processing: 078.xml\n"
     ]
    },
    {
     "name": "stderr",
     "output_type": "stream",
     "text": [
      "Processing Custodian XML Files:  71%|███████▏  | 199/279 [11:02:00<38:17, 28.72s/it]"
     ]
    },
    {
     "name": "stdout",
     "output_type": "stream",
     "text": [
      "Currently processing: 246.xml\n"
     ]
    },
    {
     "name": "stderr",
     "output_type": "stream",
     "text": [
      "Processing Custodian XML Files:  72%|███████▏  | 201/279 [11:02:00<25:35, 19.69s/it]"
     ]
    },
    {
     "name": "stdout",
     "output_type": "stream",
     "text": [
      "Currently processing: 252.xml\n"
     ]
    },
    {
     "name": "stderr",
     "output_type": "stream",
     "text": [
      "Processing Custodian XML Files:  72%|███████▏  | 201/279 [11:02:00<25:35, 19.69s/it]"
     ]
    },
    {
     "name": "stdout",
     "output_type": "stream",
     "text": [
      "Currently processing: 130.xml\n"
     ]
    },
    {
     "name": "stderr",
     "output_type": "stream",
     "text": [
      "Processing Custodian XML Files:  72%|███████▏  | 201/279 [11:02:00<25:35, 19.69s/it]"
     ]
    },
    {
     "name": "stdout",
     "output_type": "stream",
     "text": [
      "Currently processing: 124.xml\n"
     ]
    },
    {
     "name": "stderr",
     "output_type": "stream",
     "text": [
      "Processing Custodian XML Files:  73%|███████▎  | 204/279 [11:02:01<14:45, 11.80s/it]"
     ]
    },
    {
     "name": "stdout",
     "output_type": "stream",
     "text": [
      "Currently processing: 118.xml\n"
     ]
    },
    {
     "name": "stderr",
     "output_type": "stream",
     "text": [
      "Processing Custodian XML Files:  73%|███████▎  | 205/279 [11:02:05<13:05, 10.62s/it]"
     ]
    },
    {
     "name": "stdout",
     "output_type": "stream",
     "text": [
      "Currently processing: 143.xml\n"
     ]
    },
    {
     "name": "stderr",
     "output_type": "stream",
     "text": [
      "Processing Custodian XML Files:  74%|███████▍  | 206/279 [11:02:12<12:03,  9.91s/it]"
     ]
    },
    {
     "name": "stdout",
     "output_type": "stream",
     "text": [
      "Currently processing: 157.xml\n"
     ]
    },
    {
     "name": "stderr",
     "output_type": "stream",
     "text": [
      "Processing Custodian XML Files:  74%|███████▍  | 207/279 [11:03:26<28:15, 23.54s/it]"
     ]
    },
    {
     "name": "stdout",
     "output_type": "stream",
     "text": [
      "Currently processing: 180.xml\n"
     ]
    },
    {
     "name": "stderr",
     "output_type": "stream",
     "text": [
      "Processing Custodian XML Files:  75%|███████▍  | 208/279 [11:03:27<21:32, 18.21s/it]"
     ]
    },
    {
     "name": "stdout",
     "output_type": "stream",
     "text": [
      "Currently processing: 235.xml\n"
     ]
    },
    {
     "name": "stderr",
     "output_type": "stream",
     "text": [
      "Processing Custodian XML Files:  75%|███████▍  | 209/279 [12:41:14<28:36:59, 1471.70s/it]"
     ]
    },
    {
     "name": "stdout",
     "output_type": "stream",
     "text": [
      "Currently processing: 221.xml\n"
     ]
    },
    {
     "name": "stderr",
     "output_type": "stream",
     "text": [
      "Processing Custodian XML Files:  75%|███████▌  | 210/279 [12:41:14<20:49:07, 1086.19s/it]"
     ]
    },
    {
     "name": "stdout",
     "output_type": "stream",
     "text": [
      "Currently processing: 209.xml\n"
     ]
    },
    {
     "name": "stderr",
     "output_type": "stream",
     "text": [
      "Processing Custodian XML Files:  76%|███████▌  | 211/279 [12:41:37<15:02:49, 796.61s/it] "
     ]
    },
    {
     "name": "stdout",
     "output_type": "stream",
     "text": [
      "Currently processing: 037.xml\n"
     ]
    },
    {
     "name": "stderr",
     "output_type": "stream",
     "text": [
      "Processing Custodian XML Files:  76%|███████▌  | 212/279 [12:44:00<11:25:09, 613.57s/it]"
     ]
    },
    {
     "name": "stdout",
     "output_type": "stream",
     "text": [
      "Currently processing: 023.xml\n"
     ]
    },
    {
     "name": "stderr",
     "output_type": "stream",
     "text": [
      "Processing Custodian XML Files:  76%|███████▌  | 212/279 [12:44:01<11:25:09, 613.57s/it]"
     ]
    },
    {
     "name": "stdout",
     "output_type": "stream",
     "text": [
      "Currently processing: 022.xml\n"
     ]
    },
    {
     "name": "stderr",
     "output_type": "stream",
     "text": [
      "Processing Custodian XML Files:  77%|███████▋  | 214/279 [12:44:20<6:14:01, 345.25s/it] "
     ]
    },
    {
     "name": "stdout",
     "output_type": "stream",
     "text": [
      "Currently processing: 036.xml\n"
     ]
    },
    {
     "name": "stderr",
     "output_type": "stream",
     "text": [
      "Processing Custodian XML Files:  77%|███████▋  | 215/279 [12:44:22<4:40:02, 262.54s/it]"
     ]
    },
    {
     "name": "stdout",
     "output_type": "stream",
     "text": [
      "Currently processing: 208.xml\n"
     ]
    },
    {
     "name": "stderr",
     "output_type": "stream",
     "text": [
      "Processing Custodian XML Files:  77%|███████▋  | 216/279 [12:44:49<3:32:06, 202.00s/it]"
     ]
    },
    {
     "name": "stdout",
     "output_type": "stream",
     "text": [
      "Currently processing: 220.xml\n"
     ]
    },
    {
     "name": "stderr",
     "output_type": "stream",
     "text": [
      "Processing Custodian XML Files:  78%|███████▊  | 217/279 [12:44:50<2:33:15, 148.31s/it]"
     ]
    },
    {
     "name": "stdout",
     "output_type": "stream",
     "text": [
      "Currently processing: 234.xml\n"
     ]
    },
    {
     "name": "stderr",
     "output_type": "stream",
     "text": [
      "Processing Custodian XML Files:  78%|███████▊  | 218/279 [12:45:15<1:55:55, 114.02s/it]"
     ]
    },
    {
     "name": "stdout",
     "output_type": "stream",
     "text": [
      "Currently processing: 195.xml\n"
     ]
    },
    {
     "name": "stderr",
     "output_type": "stream",
     "text": [
      "Processing Custodian XML Files:  78%|███████▊  | 218/279 [12:45:15<1:55:55, 114.02s/it]"
     ]
    },
    {
     "name": "stdout",
     "output_type": "stream",
     "text": [
      "Currently processing: 181.xml\n"
     ]
    },
    {
     "name": "stderr",
     "output_type": "stream",
     "text": [
      "Processing Custodian XML Files:  79%|███████▉  | 220/279 [12:45:15<1:02:39, 63.72s/it] "
     ]
    },
    {
     "name": "stdout",
     "output_type": "stream",
     "text": [
      "Currently processing: 156.xml\n"
     ]
    },
    {
     "name": "stderr",
     "output_type": "stream",
     "text": [
      "Processing Custodian XML Files:  79%|███████▉  | 221/279 [12:45:25<49:18, 51.01s/it]  "
     ]
    },
    {
     "name": "stdout",
     "output_type": "stream",
     "text": [
      "Currently processing: 142.xml\n"
     ]
    },
    {
     "name": "stderr",
     "output_type": "stream",
     "text": [
      "Processing Custodian XML Files:  80%|███████▉  | 222/279 [12:59:07<3:55:12, 247.58s/it]"
     ]
    },
    {
     "name": "stdout",
     "output_type": "stream",
     "text": [
      "Currently processing: 154.xml\n"
     ]
    },
    {
     "name": "stderr",
     "output_type": "stream",
     "text": [
      "Processing Custodian XML Files:  80%|███████▉  | 223/279 [13:11:10<5:49:36, 374.58s/it]"
     ]
    },
    {
     "name": "stdout",
     "output_type": "stream",
     "text": [
      "Currently processing: 140.xml\n"
     ]
    },
    {
     "name": "stderr",
     "output_type": "stream",
     "text": [
      "Processing Custodian XML Files:  80%|███████▉  | 223/279 [13:11:10<5:49:36, 374.58s/it]"
     ]
    },
    {
     "name": "stdout",
     "output_type": "stream",
     "text": [
      "Currently processing: 168.xml\n"
     ]
    },
    {
     "name": "stderr",
     "output_type": "stream",
     "text": [
      "Processing Custodian XML Files:  81%|████████  | 225/279 [13:11:10<3:11:13, 212.48s/it]"
     ]
    },
    {
     "name": "stdout",
     "output_type": "stream",
     "text": [
      "Currently processing: 197.xml\n"
     ]
    },
    {
     "name": "stderr",
     "output_type": "stream",
     "text": [
      "Processing Custodian XML Files:  81%|████████  | 226/279 [13:11:12<2:23:39, 162.63s/it]"
     ]
    },
    {
     "name": "stdout",
     "output_type": "stream",
     "text": [
      "Currently processing: 183.xml\n"
     ]
    },
    {
     "name": "stderr",
     "output_type": "stream",
     "text": [
      "Processing Custodian XML Files:  81%|████████  | 226/279 [13:11:12<2:23:39, 162.63s/it]"
     ]
    },
    {
     "name": "stdout",
     "output_type": "stream",
     "text": [
      "Currently processing: 222.xml\n"
     ]
    },
    {
     "name": "stderr",
     "output_type": "stream",
     "text": [
      "Processing Custodian XML Files:  81%|████████  | 226/279 [13:11:12<2:23:39, 162.63s/it]"
     ]
    },
    {
     "name": "stdout",
     "output_type": "stream",
     "text": [
      "Currently processing: 236.xml\n"
     ]
    },
    {
     "name": "stderr",
     "output_type": "stream",
     "text": [
      "Processing Custodian XML Files:  82%|████████▏ | 229/279 [13:11:25<1:09:18, 83.17s/it] "
     ]
    },
    {
     "name": "stdout",
     "output_type": "stream",
     "text": [
      "Currently processing: 020.xml\n"
     ]
    },
    {
     "name": "stderr",
     "output_type": "stream",
     "text": [
      "Processing Custodian XML Files:  82%|████████▏ | 230/279 [13:19:00<2:06:32, 154.96s/it]"
     ]
    },
    {
     "name": "stdout",
     "output_type": "stream",
     "text": [
      "Currently processing: 034.xml\n"
     ]
    },
    {
     "name": "stderr",
     "output_type": "stream",
     "text": [
      "Processing Custodian XML Files:  83%|████████▎ | 231/279 [13:19:01<1:37:15, 121.58s/it]"
     ]
    },
    {
     "name": "stdout",
     "output_type": "stream",
     "text": [
      "Currently processing: 008.xml\n"
     ]
    },
    {
     "name": "stderr",
     "output_type": "stream",
     "text": [
      "Processing Custodian XML Files:  83%|████████▎ | 232/279 [13:29:26<3:08:22, 240.48s/it]"
     ]
    },
    {
     "name": "stdout",
     "output_type": "stream",
     "text": [
      "Currently processing: 009.xml\n"
     ]
    },
    {
     "name": "stderr",
     "output_type": "stream",
     "text": [
      "Processing Custodian XML Files:  84%|████████▎ | 233/279 [13:29:28<2:18:10, 180.23s/it]"
     ]
    },
    {
     "name": "stdout",
     "output_type": "stream",
     "text": [
      "Currently processing: 035.xml\n"
     ]
    },
    {
     "name": "stderr",
     "output_type": "stream",
     "text": [
      "Processing Custodian XML Files:  84%|████████▍ | 234/279 [13:29:28<1:39:23, 132.53s/it]"
     ]
    },
    {
     "name": "stdout",
     "output_type": "stream",
     "text": [
      "Currently processing: 021.xml\n"
     ]
    },
    {
     "name": "stderr",
     "output_type": "stream",
     "text": [
      "Processing Custodian XML Files:  84%|████████▍ | 234/279 [13:29:28<1:39:23, 132.53s/it]"
     ]
    },
    {
     "name": "stdout",
     "output_type": "stream",
     "text": [
      "Currently processing: 237.xml\n"
     ]
    },
    {
     "name": "stderr",
     "output_type": "stream",
     "text": [
      "Processing Custodian XML Files:  85%|████████▍ | 236/279 [15:33:52<20:06:17, 1683.20s/it]"
     ]
    },
    {
     "name": "stdout",
     "output_type": "stream",
     "text": [
      "Currently processing: 223.xml\n"
     ]
    },
    {
     "name": "stderr",
     "output_type": "stream",
     "text": [
      "Processing Custodian XML Files:  85%|████████▍ | 237/279 [15:33:53<15:01:03, 1287.22s/it]"
     ]
    },
    {
     "name": "stdout",
     "output_type": "stream",
     "text": [
      "Currently processing: 196.xml\n"
     ]
    },
    {
     "name": "stderr",
     "output_type": "stream",
     "text": [
      "Processing Custodian XML Files:  85%|████████▌ | 238/279 [15:52:03<14:05:50, 1237.82s/it]"
     ]
    },
    {
     "name": "stdout",
     "output_type": "stream",
     "text": [
      "Currently processing: 169.xml\n"
     ]
    },
    {
     "name": "stderr",
     "output_type": "stream",
     "text": [
      "Processing Custodian XML Files:  86%|████████▌ | 239/279 [15:52:04<10:07:04, 910.60s/it] "
     ]
    },
    {
     "name": "stdout",
     "output_type": "stream",
     "text": [
      "Currently processing: 141.xml\n"
     ]
    },
    {
     "name": "stderr",
     "output_type": "stream",
     "text": [
      "Processing Custodian XML Files:  86%|████████▌ | 240/279 [15:52:29<7:14:14, 668.06s/it] "
     ]
    },
    {
     "name": "stdout",
     "output_type": "stream",
     "text": [
      "Currently processing: 155.xml\n"
     ]
    },
    {
     "name": "stderr",
     "output_type": "stream",
     "text": [
      "Processing Custodian XML Files:  86%|████████▋ | 241/279 [15:52:37<5:05:27, 482.30s/it]"
     ]
    },
    {
     "name": "stdout",
     "output_type": "stream",
     "text": [
      "Currently processing: 179.xml\n"
     ]
    },
    {
     "name": "stderr",
     "output_type": "stream",
     "text": [
      "Processing Custodian XML Files:  87%|████████▋ | 242/279 [15:52:38<3:32:15, 344.19s/it]"
     ]
    },
    {
     "name": "stdout",
     "output_type": "stream",
     "text": [
      "Currently processing: 151.xml\n"
     ]
    },
    {
     "name": "stderr",
     "output_type": "stream",
     "text": [
      "Processing Custodian XML Files:  87%|████████▋ | 243/279 [15:52:58<2:30:01, 250.03s/it]"
     ]
    },
    {
     "name": "stdout",
     "output_type": "stream",
     "text": [
      "Currently processing: 145.xml\n"
     ]
    },
    {
     "name": "stderr",
     "output_type": "stream",
     "text": [
      "Processing Custodian XML Files:  87%|████████▋ | 243/279 [15:52:58<2:30:01, 250.03s/it]"
     ]
    },
    {
     "name": "stdout",
     "output_type": "stream",
     "text": [
      "Currently processing: 192.xml\n"
     ]
    },
    {
     "name": "stderr",
     "output_type": "stream",
     "text": [
      "Processing Custodian XML Files:  87%|████████▋ | 243/279 [15:52:58<2:30:01, 250.03s/it]"
     ]
    },
    {
     "name": "stdout",
     "output_type": "stream",
     "text": [
      "Currently processing: 186.xml\n"
     ]
    },
    {
     "name": "stderr",
     "output_type": "stream",
     "text": [
      "Processing Custodian XML Files:  88%|████████▊ | 246/279 [15:54:15<1:09:04, 125.59s/it]"
     ]
    },
    {
     "name": "stdout",
     "output_type": "stream",
     "text": [
      "Currently processing: 227.xml\n"
     ]
    },
    {
     "name": "stderr",
     "output_type": "stream",
     "text": [
      "Processing Custodian XML Files:  89%|████████▊ | 247/279 [15:54:41<55:53, 104.81s/it]  "
     ]
    },
    {
     "name": "stdout",
     "output_type": "stream",
     "text": [
      "Currently processing: 233.xml\n"
     ]
    },
    {
     "name": "stderr",
     "output_type": "stream",
     "text": [
      "Processing Custodian XML Files:  89%|████████▉ | 248/279 [16:04:10<1:49:15, 211.46s/it]"
     ]
    },
    {
     "name": "stdout",
     "output_type": "stream",
     "text": [
      "Currently processing: 019.xml\n"
     ]
    },
    {
     "name": "stderr",
     "output_type": "stream",
     "text": [
      "Processing Custodian XML Files:  89%|████████▉ | 249/279 [16:04:15<1:20:11, 160.39s/it]"
     ]
    },
    {
     "name": "stdout",
     "output_type": "stream",
     "text": [
      "Currently processing: 025.xml\n"
     ]
    },
    {
     "name": "stderr",
     "output_type": "stream",
     "text": [
      "Processing Custodian XML Files:  89%|████████▉ | 249/279 [16:04:15<1:20:11, 160.39s/it]"
     ]
    },
    {
     "name": "stdout",
     "output_type": "stream",
     "text": [
      "Currently processing: 031.xml\n"
     ]
    },
    {
     "name": "stderr",
     "output_type": "stream",
     "text": [
      "Processing Custodian XML Files:  90%|████████▉ | 251/279 [16:04:26<44:54, 96.22s/it]   "
     ]
    },
    {
     "name": "stdout",
     "output_type": "stream",
     "text": [
      "Currently processing: 030.xml\n"
     ]
    },
    {
     "name": "stderr",
     "output_type": "stream",
     "text": [
      "Processing Custodian XML Files:  90%|█████████ | 252/279 [16:04:26<33:26, 74.32s/it]"
     ]
    },
    {
     "name": "stdout",
     "output_type": "stream",
     "text": [
      "Currently processing: 024.xml\n"
     ]
    },
    {
     "name": "stderr",
     "output_type": "stream",
     "text": [
      "Processing Custodian XML Files:  91%|█████████ | 253/279 [16:07:42<45:09, 104.19s/it]"
     ]
    },
    {
     "name": "stdout",
     "output_type": "stream",
     "text": [
      "Currently processing: 018.xml\n"
     ]
    },
    {
     "name": "stderr",
     "output_type": "stream",
     "text": [
      "Processing Custodian XML Files:  91%|█████████ | 254/279 [16:09:35<44:23, 106.54s/it]"
     ]
    },
    {
     "name": "stdout",
     "output_type": "stream",
     "text": [
      "Currently processing: 232.xml\n"
     ]
    },
    {
     "name": "stderr",
     "output_type": "stream",
     "text": [
      "Processing Custodian XML Files:  91%|█████████▏| 255/279 [16:22:43<1:56:26, 291.10s/it]"
     ]
    },
    {
     "name": "stdout",
     "output_type": "stream",
     "text": [
      "Currently processing: 226.xml\n"
     ]
    },
    {
     "name": "stderr",
     "output_type": "stream",
     "text": [
      "Processing Custodian XML Files:  91%|█████████▏| 255/279 [16:22:43<1:56:26, 291.10s/it]"
     ]
    },
    {
     "name": "stdout",
     "output_type": "stream",
     "text": [
      "Currently processing: 187.xml\n"
     ]
    },
    {
     "name": "stderr",
     "output_type": "stream",
     "text": [
      "Processing Custodian XML Files:  92%|█████████▏| 257/279 [16:22:44<1:00:12, 164.22s/it]"
     ]
    },
    {
     "name": "stdout",
     "output_type": "stream",
     "text": [
      "Currently processing: 193.xml\n"
     ]
    },
    {
     "name": "stderr",
     "output_type": "stream",
     "text": [
      "Processing Custodian XML Files:  92%|█████████▏| 258/279 [16:23:02<45:23, 129.67s/it]  "
     ]
    },
    {
     "name": "stdout",
     "output_type": "stream",
     "text": [
      "Currently processing: 144.xml\n"
     ]
    },
    {
     "name": "stderr",
     "output_type": "stream",
     "text": [
      "Processing Custodian XML Files:  93%|█████████▎| 259/279 [16:43:23<2:15:23, 406.19s/it]"
     ]
    },
    {
     "name": "stdout",
     "output_type": "stream",
     "text": [
      "Currently processing: 150.xml\n"
     ]
    },
    {
     "name": "stderr",
     "output_type": "stream",
     "text": [
      "Processing Custodian XML Files:  93%|█████████▎| 260/279 [16:45:02<1:42:44, 324.46s/it]"
     ]
    },
    {
     "name": "stdout",
     "output_type": "stream",
     "text": [
      "Currently processing: 178.xml\n"
     ]
    },
    {
     "name": "stderr",
     "output_type": "stream",
     "text": [
      "Processing Custodian XML Files:  94%|█████████▎| 261/279 [17:08:53<3:08:42, 629.03s/it]"
     ]
    },
    {
     "name": "stdout",
     "output_type": "stream",
     "text": [
      "Currently processing: 146.xml\n"
     ]
    },
    {
     "name": "stderr",
     "output_type": "stream",
     "text": [
      "Processing Custodian XML Files:  94%|█████████▍| 262/279 [17:09:27<2:10:35, 460.91s/it]"
     ]
    },
    {
     "name": "stdout",
     "output_type": "stream",
     "text": [
      "Currently processing: 152.xml\n"
     ]
    },
    {
     "name": "stderr",
     "output_type": "stream",
     "text": [
      "Processing Custodian XML Files:  94%|█████████▍| 263/279 [17:09:42<1:28:48, 333.01s/it]"
     ]
    },
    {
     "name": "stdout",
     "output_type": "stream",
     "text": [
      "Currently processing: 185.xml\n"
     ]
    },
    {
     "name": "stderr",
     "output_type": "stream",
     "text": [
      "Processing Custodian XML Files:  95%|█████████▍| 264/279 [17:09:45<59:11, 236.74s/it]  "
     ]
    },
    {
     "name": "stdout",
     "output_type": "stream",
     "text": [
      "Currently processing: 191.xml\n"
     ]
    },
    {
     "name": "stderr",
     "output_type": "stream",
     "text": [
      "Processing Custodian XML Files:  95%|█████████▍| 264/279 [17:09:45<59:11, 236.74s/it]"
     ]
    },
    {
     "name": "stdout",
     "output_type": "stream",
     "text": [
      "Currently processing: 218.xml\n"
     ]
    },
    {
     "name": "stderr",
     "output_type": "stream",
     "text": [
      "Processing Custodian XML Files:  95%|█████████▌| 266/279 [17:11:40<33:40, 155.43s/it]"
     ]
    },
    {
     "name": "stdout",
     "output_type": "stream",
     "text": [
      "Currently processing: 230.xml\n"
     ]
    },
    {
     "name": "stderr",
     "output_type": "stream",
     "text": [
      "Processing Custodian XML Files:  96%|█████████▌| 267/279 [17:11:42<23:33, 117.81s/it]"
     ]
    },
    {
     "name": "stdout",
     "output_type": "stream",
     "text": [
      "Currently processing: 224.xml\n"
     ]
    },
    {
     "name": "stderr",
     "output_type": "stream",
     "text": [
      "Processing Custodian XML Files:  96%|█████████▌| 268/279 [17:11:42<16:00, 87.31s/it] "
     ]
    },
    {
     "name": "stdout",
     "output_type": "stream",
     "text": [
      "Currently processing: 032.xml\n"
     ]
    },
    {
     "name": "stderr",
     "output_type": "stream",
     "text": [
      "Processing Custodian XML Files:  96%|█████████▋| 269/279 [17:14:34<18:23, 110.35s/it]"
     ]
    },
    {
     "name": "stdout",
     "output_type": "stream",
     "text": [
      "Currently processing: 026.xml\n"
     ]
    },
    {
     "name": "stderr",
     "output_type": "stream",
     "text": [
      "Processing Custodian XML Files:  97%|█████████▋| 270/279 [17:14:39<12:07, 80.80s/it] "
     ]
    },
    {
     "name": "stdout",
     "output_type": "stream",
     "text": [
      "Currently processing: 027.xml\n"
     ]
    },
    {
     "name": "stderr",
     "output_type": "stream",
     "text": [
      "Processing Custodian XML Files:  97%|█████████▋| 271/279 [17:14:39<07:42, 57.85s/it]"
     ]
    },
    {
     "name": "stdout",
     "output_type": "stream",
     "text": [
      "Currently processing: 033.xml\n"
     ]
    },
    {
     "name": "stderr",
     "output_type": "stream",
     "text": [
      "Processing Custodian XML Files:  97%|█████████▋| 272/279 [17:14:39<04:48, 41.18s/it]"
     ]
    },
    {
     "name": "stdout",
     "output_type": "stream",
     "text": [
      "Currently processing: 225.xml\n"
     ]
    },
    {
     "name": "stderr",
     "output_type": "stream",
     "text": [
      "Processing Custodian XML Files:  97%|█████████▋| 272/279 [17:14:39<04:48, 41.18s/it]"
     ]
    },
    {
     "name": "stdout",
     "output_type": "stream",
     "text": [
      "Currently processing: 231.xml\n"
     ]
    },
    {
     "name": "stderr",
     "output_type": "stream",
     "text": [
      "Processing Custodian XML Files:  98%|█████████▊| 274/279 [17:14:42<01:56, 23.27s/it]"
     ]
    },
    {
     "name": "stdout",
     "output_type": "stream",
     "text": [
      "Currently processing: 219.xml\n"
     ]
    },
    {
     "name": "stderr",
     "output_type": "stream",
     "text": [
      "Processing Custodian XML Files:  99%|█████████▊| 275/279 [17:17:30<03:54, 58.72s/it]"
     ]
    },
    {
     "name": "stdout",
     "output_type": "stream",
     "text": [
      "Currently processing: 190.xml\n"
     ]
    },
    {
     "name": "stderr",
     "output_type": "stream",
     "text": [
      "Processing Custodian XML Files:  99%|█████████▉| 276/279 [17:18:21<02:49, 56.53s/it]"
     ]
    },
    {
     "name": "stdout",
     "output_type": "stream",
     "text": [
      "Currently processing: 184.xml\n"
     ]
    },
    {
     "name": "stderr",
     "output_type": "stream",
     "text": [
      "Processing Custodian XML Files:  99%|█████████▉| 277/279 [17:18:21<01:22, 41.32s/it]"
     ]
    },
    {
     "name": "stdout",
     "output_type": "stream",
     "text": [
      "Currently processing: 153.xml\n"
     ]
    },
    {
     "name": "stderr",
     "output_type": "stream",
     "text": [
      "Processing Custodian XML Files: 100%|█████████▉| 278/279 [17:18:21<00:29, 29.88s/it]"
     ]
    },
    {
     "name": "stdout",
     "output_type": "stream",
     "text": [
      "Currently processing: 147.xml\n"
     ]
    },
    {
     "name": "stderr",
     "output_type": "stream",
     "text": [
      "Processing Custodian XML Files: 100%|██████████| 279/279 [17:19:31<00:00, 223.55s/it]\n"
     ]
    }
   ],
   "source": [
    "import os\n",
    "import zipfile\n",
    "import xml.etree.ElementTree as ET\n",
    "import pandas as pd\n",
    "from tqdm import tqdm\n",
    "\n",
    "def parse_custodian_xml(file_path):\n",
    "    try:\n",
    "        tree = ET.parse(file_path)\n",
    "        root = tree.getroot()\n",
    "        return root\n",
    "    except FileNotFoundError:\n",
    "        print(f\"File not found: {file_path}\")\n",
    "        return None\n",
    "    except ET.ParseError as e:\n",
    "        print(f\"Error parsing file {file_path}: {e}\")\n",
    "        return None\n",
    "\n",
    "def extract_metadata(custodian_root):\n",
    "    emails = []\n",
    "    if custodian_root is not None:\n",
    "        items = custodian_root.findall('.//item[@type=\"email\"]')\n",
    "        for item in items:\n",
    "            email_data = {field.get('name'): field.text.strip() if field.text else '' for field in item.findall('.//metadata/field')}\n",
    "            body_file_path = item.find('.//file').get('path', '') if item.find('.//file') is not None else ''\n",
    "            email_data['body_file_path'] = body_file_path\n",
    "            emails.append(email_data)\n",
    "    return emails\n",
    "\n",
    "def read_body_file_from_zip(zip_file_path, body_file_path):\n",
    "    try:\n",
    "        with zipfile.ZipFile(zip_file_path, 'r') as zip_ref:\n",
    "            normalized_path = body_file_path.lstrip('text/')\n",
    "            if normalized_path in zip_ref.namelist():\n",
    "                with zip_ref.open(normalized_path) as body_file:\n",
    "                    return body_file.read().decode('utf-8')\n",
    "            else:\n",
    "                print(f\"File {normalized_path} not found in zip {zip_file_path}\")\n",
    "                return ''\n",
    "    except FileNotFoundError:\n",
    "        print(f\"Zip file not found: {zip_file_path}\")\n",
    "        return ''\n",
    "    except Exception as e:\n",
    "        print(f\"Error reading {body_file_path} from {zip_file_path}: {e}\")\n",
    "        return ''\n",
    "\n",
    "# Base path where XML and zip files are located\n",
    "base_path = 'avocado-1.0.2/data/'\n",
    "custodian_folder = 'custodians/'\n",
    "text_folder = 'text/'\n",
    "\n",
    "# List all custodian XML files\n",
    "custodian_path = os.path.join(base_path, custodian_folder)\n",
    "text_path = os.path.join(base_path, text_folder)\n",
    "xml_files = [f for f in os.listdir(custodian_path) if f.endswith('.xml')]\n",
    "\n",
    "# CSV file to write the emails incrementally\n",
    "csv_file_path = 'emails_new.csv'\n",
    "\n",
    "# Function to write email data to CSV\n",
    "def write_emails_to_csv(emails, file_path, mode='a', header=False):\n",
    "    df = pd.DataFrame(emails)\n",
    "    df.to_csv(file_path, mode=mode, header=header, index=False)\n",
    "\n",
    "first_write = True\n",
    "\n",
    "# Process each XML file with tqdm progress bar\n",
    "for xml_file in tqdm(xml_files, desc=\"Processing Custodian XML Files\"):\n",
    "    tqdm.write(f\"Currently processing: {xml_file}\")\n",
    "    xml_path = os.path.join(custodian_path, xml_file)\n",
    "    \n",
    "    # Parse XML and extract metadata\n",
    "    custodian_root = parse_custodian_xml(xml_path)\n",
    "    if custodian_root is None:\n",
    "        continue\n",
    "    emails = extract_metadata(custodian_root)\n",
    "    \n",
    "    # Determine corresponding zip file\n",
    "    zip_file_name = xml_file.replace('.xml', '.zip')\n",
    "    zip_file_path = os.path.join(text_path, zip_file_name)\n",
    "    \n",
    "    if os.path.exists(zip_file_path):\n",
    "        # Add body content to email data with tqdm progress bar\n",
    "        for email in tqdm(emails, desc=f\"Processing Emails in {xml_file}\", leave=False):\n",
    "            body_file_path = email.get('body_file_path')\n",
    "            if body_file_path:\n",
    "                email['body_content'] = read_body_file_from_zip(zip_file_path, body_file_path)\n",
    "            else:\n",
    "                email['body_content'] = ''\n",
    "        \n",
    "        # Write emails to CSV\n",
    "        write_emails_to_csv(emails, csv_file_path, mode='a', header=first_write)\n",
    "        if first_write:\n",
    "            first_write = False\n",
    "    else:\n",
    "        print(f\"Zip file not found for XML: {zip_file_path}\")\n"
   ]
  }
 ],
 "metadata": {
  "kernelspec": {
   "display_name": "ma_exp_intent",
   "language": "python",
   "name": "python3"
  },
  "language_info": {
   "codemirror_mode": {
    "name": "ipython",
    "version": 3
   },
   "file_extension": ".py",
   "mimetype": "text/x-python",
   "name": "python",
   "nbconvert_exporter": "python",
   "pygments_lexer": "ipython3",
   "version": "3.12.4"
  }
 },
 "nbformat": 4,
 "nbformat_minor": 2
}
