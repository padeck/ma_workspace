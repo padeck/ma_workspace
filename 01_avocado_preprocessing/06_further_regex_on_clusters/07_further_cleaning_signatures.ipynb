{
 "cells": [
  {
   "cell_type": "code",
   "execution_count": 2,
   "metadata": {},
   "outputs": [],
   "source": [
    "from bertopic import BERTopic\n",
    "from scipy.cluster import hierarchy as sch\n",
    "import pandas as pd\n",
    "import logging\n",
    "from sklearn.metrics.pairwise import cosine_distances\n",
    "from tqdm import tqdm\n",
    "import numpy as np\n",
    "from umap import UMAP\n",
    "from hdbscan import HDBSCAN\n",
    "from sentence_transformers import SentenceTransformer\n",
    "import re\n",
    "import sys\n",
    "sys.path.append('../../')\n",
    "from utility.utility_functions import *"
   ]
  },
  {
   "cell_type": "code",
   "execution_count": 3,
   "metadata": {},
   "outputs": [],
   "source": [
    "#  '\\\\\\\\Cm\\\\CM\\\\'"
   ]
  },
  {
   "cell_type": "code",
   "execution_count": null,
   "metadata": {},
   "outputs": [
    {
     "name": "stdout",
     "output_type": "stream",
     "text": [
      "'\\r\\n--------------------------\\r\\nSent from my BlackBerry Wireless Handheld (www.BlackBerry.net)',\n"
     ]
    }
   ],
   "source": []
  },
  {
   "cell_type": "code",
   "execution_count": null,
   "metadata": {},
   "outputs": [
    {
     "data": {
      "text/html": [
       "<div>\n",
       "<style scoped>\n",
       "    .dataframe tbody tr th:only-of-type {\n",
       "        vertical-align: middle;\n",
       "    }\n",
       "\n",
       "    .dataframe tbody tr th {\n",
       "        vertical-align: top;\n",
       "    }\n",
       "\n",
       "    .dataframe thead th {\n",
       "        text-align: right;\n",
       "    }\n",
       "</style>\n",
       "<table border=\"1\" class=\"dataframe\">\n",
       "  <thead>\n",
       "    <tr style=\"text-align: right;\">\n",
       "      <th></th>\n",
       "      <th>text</th>\n",
       "    </tr>\n",
       "  </thead>\n",
       "  <tbody>\n",
       "    <tr>\n",
       "      <th>0</th>\n",
       "      <td>Bug 5539\\r\\nThe screen wizard now ignores the ...</td>\n",
       "    </tr>\n",
       "    <tr>\n",
       "      <th>1</th>\n",
       "      <td>At 02:50 PM 3/15/2001 +0100, it seemed like Ma...</td>\n",
       "    </tr>\n",
       "    <tr>\n",
       "      <th>2</th>\n",
       "      <td>All,\\r\\nWe are still in a Nor'easter, but the ...</td>\n",
       "    </tr>\n",
       "    <tr>\n",
       "      <th>3</th>\n",
       "      <td>Responding to Robert Sartin (07:02 AM 6/14/200...</td>\n",
       "    </tr>\n",
       "    <tr>\n",
       "      <th>4</th>\n",
       "      <td>I will try to get the real secure up at the fi...</td>\n",
       "    </tr>\n",
       "    <tr>\n",
       "      <th>...</th>\n",
       "      <td>...</td>\n",
       "    </tr>\n",
       "    <tr>\n",
       "      <th>128640</th>\n",
       "      <td>Checked in WinInetBrowser.java to fix a bug in...</td>\n",
       "    </tr>\n",
       "    <tr>\n",
       "      <th>128641</th>\n",
       "      <td>Just wanted to make sure that you know I did t...</td>\n",
       "    </tr>\n",
       "    <tr>\n",
       "      <th>128642</th>\n",
       "      <td>In the end, you will always fail to think of e...</td>\n",
       "    </tr>\n",
       "    <tr>\n",
       "      <th>128643</th>\n",
       "      <td>Yes, it's valid for Europe, as well.  Venk for...</td>\n",
       "    </tr>\n",
       "    <tr>\n",
       "      <th>128644</th>\n",
       "      <td>Hey John,\\r\\nThe Siebel Adapter will allow you...</td>\n",
       "    </tr>\n",
       "  </tbody>\n",
       "</table>\n",
       "<p>128641 rows × 1 columns</p>\n",
       "</div>"
      ],
      "text/plain": [
       "                                                     text\n",
       "0       Bug 5539\\r\\nThe screen wizard now ignores the ...\n",
       "1       At 02:50 PM 3/15/2001 +0100, it seemed like Ma...\n",
       "2       All,\\r\\nWe are still in a Nor'easter, but the ...\n",
       "3       Responding to Robert Sartin (07:02 AM 6/14/200...\n",
       "4       I will try to get the real secure up at the fi...\n",
       "...                                                   ...\n",
       "128640  Checked in WinInetBrowser.java to fix a bug in...\n",
       "128641  Just wanted to make sure that you know I did t...\n",
       "128642  In the end, you will always fail to think of e...\n",
       "128643  Yes, it's valid for Europe, as well.  Venk for...\n",
       "128644  Hey John,\\r\\nThe Siebel Adapter will allow you...\n",
       "\n",
       "[128641 rows x 1 columns]"
      ]
     },
     "execution_count": 4,
     "metadata": {},
     "output_type": "execute_result"
    }
   ],
   "source": [
    "df = pd.read_parquet('../../data/processed/05_avocado_cleaned_clustered_wip.parquet', engine='pyarrow')"
   ]
  },
  {
   "cell_type": "code",
   "execution_count": 5,
   "metadata": {},
   "outputs": [],
   "source": [
    "texts = df['text']"
   ]
  },
  {
   "cell_type": "code",
   "execution_count": 9,
   "metadata": {},
   "outputs": [
    {
     "data": {
      "text/plain": [
       "['\\\\\\\\Cm\\\\Burn\\\\4.5GA_Germanium.x\\\\05-06-2002\\\\003\\\\fullinstaller',\n",
       " \"\\\\\\\\Cm\\\\CM\\\\Build\\\\4.0GA_palladium.x\\\\04-01-2002\\\\136\\\\fullinstaller\\\\setup.exe\\r\\nWith this build, Full Installer seems working fine, but there are problems.\\r\\n1. You can not run OCA.  If you try to run OCA, from d:\\\\build\\\\bin\\\\runOCA.bat --> it just doesn't run\\r\\n2. If you try to write your own batch file to run OCA, since the schema.xml is not there, the Biogen Application won't run\\r\\n3. The convertutil.jar is not there in the build.  So we can not use Roopak's utility.\\r\\nSreenivas\",\n",
       " '\\\\\\\\Cm\\\\CM\\\\Build\\\\4.5GA_Germanium.x\\\\05-07-2002\\\\004\\\\fullinstaller',\n",
       " '\\\\\\\\Cm\\\\CM\\\\Build\\\\4.5GA_Germanium.x\\\\06-26-2002\\\\1090\\\\fullinstaller\\\\setup.exe\\r\\nHi Wilhan,\\r\\nInstaller fails to install the online.  Do you know how to proceed?',\n",
       " '\\\\\\\\Cm\\\\CM\\\\Build\\\\4.5GA_Germanium.x\\\\06-27-2002\\\\037\\\\fullinstaller',\n",
       " '\\\\\\\\Cm\\\\CM\\\\Build\\\\4.5GA_Germanium.x\\\\07-08-2002\\\\039\\\\fullinstaller',\n",
       " '\\\\\\\\Cm\\\\CM\\\\Build\\\\4.5GA_Germanium.x\\\\07-23-2002\\\\052\\\\fullinstaller',\n",
       " '\\\\\\\\Cm\\\\CM\\\\Build\\\\4.5GA_Germanium.x\\\\09-11-2002\\\\103\\\\fullinstaller',\n",
       " '\\\\\\\\Cm\\\\CM\\\\Build\\\\4.5GA_Germanium.x\\\\09-12-2002\\\\104\\\\fullinstaller',\n",
       " '\\\\\\\\Cm\\\\CM\\\\Build\\\\4.5GA_Germanium.x\\\\09-12-2002\\\\105\\\\fullinstaller',\n",
       " '\\\\\\\\Cm\\\\CM\\\\Build\\\\4.5GA_Germanium.x\\\\09-13-2002\\\\106\\\\fullinstaller',\n",
       " '\\\\\\\\Cm\\\\CM\\\\Build\\\\4.5GA_Germanium.x\\\\09-14-2002\\\\107\\\\fullinstaller',\n",
       " '\\\\\\\\Cm\\\\CM\\\\Build\\\\4.5GA_Germanium.x\\\\09-17-2002\\\\109\\\\fullinstaller',\n",
       " '\\\\\\\\Cm\\\\CM\\\\Build\\\\4.5GA_Germanium.x\\\\09-18-2002\\\\110\\\\fullinstaller',\n",
       " '\\\\\\\\Cm\\\\CM\\\\Build\\\\4.5GA_Germanium.x\\\\09-19-2002\\\\111\\\\fullinstaller',\n",
       " '\\\\\\\\Cm\\\\CM\\\\Build\\\\4.5GA_Germanium.x\\\\09-20-2002\\\\115\\\\fullinstaller',\n",
       " '\\\\\\\\Cm\\\\CM\\\\Build\\\\4.5GA_Germanium.x\\\\09-23-2002\\\\117\\\\fullinstaller',\n",
       " '\\\\\\\\Cm\\\\CM\\\\Build\\\\4.5GA_Germanium.x\\\\09-24-2002\\\\119\\\\fullinstaller',\n",
       " '\\\\\\\\Cm\\\\CM\\\\Build\\\\4.5GA_Germanium.x\\\\09-25-2002\\\\120\\\\fullinstaller',\n",
       " '\\\\\\\\Cm\\\\CM\\\\Build\\\\4.5GA_Germanium.x\\\\09-26-2002\\\\122\\\\fullinstaller',\n",
       " '\\\\\\\\Cm\\\\CM\\\\Build\\\\4.5GA_Germanium.x\\\\09-27-2002\\\\123\\\\fullinstaller',\n",
       " '\\\\\\\\Cm\\\\CM\\\\Build\\\\4.5GA_Germanium.x\\\\09-30-2002\\\\128\\\\fullinstaller',\n",
       " '\\\\\\\\Cm\\\\CM\\\\Build\\\\4.5GA_Germanium.x\\\\09-30-2002\\\\129',\n",
       " '\\\\\\\\Cm\\\\CM\\\\Build\\\\4.5GA_Germanium.x\\\\10-02-2002\\\\131\\\\fullinstaller',\n",
       " '\\\\\\\\Cm\\\\CM\\\\Build\\\\4.5GA_Germanium.x\\\\10-03-2002\\\\132\\\\fullinstaller',\n",
       " '\\\\\\\\Cm\\\\CM\\\\Build\\\\4.5GA_Germanium.x\\\\10-05-2002\\\\134\\\\fullinstaller',\n",
       " '\\\\\\\\Cm\\\\CM\\\\Build\\\\4.5GA_Germanium.x\\\\10-07-2002\\\\135\\\\fullinstaller',\n",
       " '\\\\\\\\Cm\\\\CM\\\\Build\\\\4.5GA_Germanium.x\\\\10-08-2002\\\\136\\\\fullinstaller',\n",
       " '\\\\\\\\Cm\\\\CM\\\\Build\\\\4.5GA_Germanium.x\\\\10-09-2002\\\\137\\\\fullinstaller',\n",
       " '\\\\\\\\Cm\\\\CM\\\\Build\\\\4.5GA_Germanium.x\\\\10-10-2002\\\\138\\\\fullinstaller\\r\\nIt has the fix 5940',\n",
       " '\\\\\\\\Cm\\\\CM\\\\Build\\\\4.5GA_Germanium.x\\\\10-11-2002\\\\139\\\\fullinstaller',\n",
       " '\\\\\\\\Cm\\\\CM\\\\Build\\\\4.5GA_Germanium.x\\\\10-12-2002\\\\139\\\\fullinstaller',\n",
       " '\\\\\\\\Cm\\\\CM\\\\Build\\\\4.5GA_Germanium.x\\\\10-14-2002\\\\140\\\\fullinstaller',\n",
       " '\\\\\\\\Cm\\\\CM\\\\Build\\\\4.5GA_Germanium.x\\\\10-15-2002\\\\143\\\\fullinstaller',\n",
       " '\\\\\\\\Cm\\\\CM\\\\Build\\\\4.5GA_Germanium.x\\\\10-15-2002\\\\143a\\\\fullinstaller',\n",
       " '\\\\\\\\Cm\\\\CM\\\\Build\\\\4.5GA_Germanium.x\\\\10-15-2002\\\\143a_new\\\\fullinstaller',\n",
       " '\\\\\\\\Cm\\\\CM\\\\Build\\\\4.5GA_Germanium.x\\\\10-21-2002\\\\144\\\\fullinstaller',\n",
       " '\\\\\\\\Cm\\\\CM\\\\Build\\\\4.5GA_Germanium.x\\\\12-18-2002\\\\201\\\\fullinstaller',\n",
       " '\\\\\\\\Cm\\\\CM\\\\Build\\\\4.5GA_Germanium.x\\\\12-27-2002\\\\202\\\\fullinstaller',\n",
       " '\\\\\\\\Cm\\\\CM\\\\Build\\\\4.6GA_Neon.x\\\\12-25-2002\\\\043\\\\fullinstaller\\r\\nThe EMDS online tests have passed over this build.\\r\\nSreenivas',\n",
       " '\\\\\\\\UTILITYSRV1\\\\HOME\\\\LEAPFROG\\\\SiebelCLIENT.',\n",
       " '\\\\\\\\Utilitysrv1\\\\D_Drive\\\\Vivek\\\\Alerts\\\\AlertsDesignDoc.doc\\r\\n\\\\\\\\Utilitysrv1\\\\D_Drive\\\\Vivek\\\\Alerts\\\\EP Alerts Solution Delivery Phase 1 FS.doc\\r\\n\\\\\\\\Utilitysrv1\\\\D_Drive\\\\Vivek\\\\Alerts\\\\EP Alerts Solution Delivery Phase 1 MRD v1.7.doc',\n",
       " '\\\\\\\\Utilitysrv1\\\\Misc\\\\MKSToolKit6.2',\n",
       " '\\\\\\\\Utilitysrv1\\\\Ops_IT\\\\aclogs',\n",
       " '\\\\\\\\Utilitysrv1\\\\home\\\\Marketign\\\\Website Photos',\n",
       " '\\\\\\\\Utilitysrv1\\\\home\\\\Marketing\\\\Gartner-ITExpo-2002 - then double click on autorun',\n",
       " '\\\\\\\\Utilitysrv1\\\\home\\\\Marketing\\\\solutions_folder',\n",
       " '\\\\\\\\Utilitysrv1\\\\home\\\\QA\\\\RobotLicenses',\n",
       " '\\\\\\\\Utilitysrv1\\\\home\\\\Training\\\\Course Info\\r\\nDoug Field',\n",
       " '\\\\\\\\Ws_mobility_1\\\\d-drive\\\\Common\\\\downloads\\\\Weblogic\\r\\nThe WL6 setup is in that dir\\r\\n----- Original Message ----- \\r\\n> Hi Scott,\\r\\n> \\r\\n> Can you put WL 6 on ws_mobility_1. Iain is looking for it.\\r\\n> \\r\\n> thx,\\r\\n> kgr\\r\\n> \\r\\n> \\r\\n> --\\r\\n> Keith Ritchie\\r\\n> Team Lead\\r\\n> Mobile Infrastructure\\r\\n> Sitraka Mobility\\r\\n> http://www.sitraka.com/mobility\\r\\n> Work  - (416) 366-6425 x 306\\r\\n> Cell  - (905) 467-1181\\r\\n> Fax  - (416) 214-1235\\r\\n> Email  - keith.ritchie@sitraka.com\\r\\n> Blackberry - sitraka2@mobile.rogers.com\\r\\n> \\r\\n> \\r\\n>\\r\\n',\n",
       " '\\\\\\\\coffee has changed to \\\\\\\\Utilitysrv1',\n",
       " '\\\\\\\\coffee\\\\D:\\\\parser_tests has the latest version. I am also attaching\\r\\n.vox files that I have. I recall modifying news.vox and trades.vox while \\r\\ntesting my changes to support visible attribute for a component.\\r\\n>From: amitabhsinha@mindspring.com\\r\\n>To: \"prasad krothapalli\" <vkrothapalli@hotmail.com>\\r\\n>CC: \"mark tracy\" <mjtracy@acm.org>\\r\\n>Subject: latest parser_Tests\\r\\n>Date: Tue, 22 Jun 1999 15:57:38 -0500\\r\\n>\\r\\n>is it in source safe somewhere?\\r\\n>or, prasad can you send me your latest version... i am going to make some\\r\\n>modifications to test our continue/break in loops.\\r\\n>\\r\\n>amitabh\\r\\n>---------------------------------------------------------------------------\\r\\n>amitabh b. sinha\\r\\n>2403 s. pond/urbana/il/61801\\r\\n>(217)-344-7256\\r\\n>\\r\\n_______________________________________________________________\\r\\nGet Free Email and Do More On The Web. Visit http://www.msn.com\\r\\n',\n",
       " '\\\\\\\\ferball2001\\\\mp3',\n",
       " '\\\\\\\\idccm\\\\software\\\\weblogic_6.1\\r\\nPlease use license key provided there.  If you have any doubts, let me know\\r\\nSrinivas',\n",
       " '\\\\\\\\rdadi2k\\\\D\\\\sreenivas\\\\downloads\\\\PocketControllerSetup.exe\\r\\nYou can install the PocketPC Controller on Desktop by cradling the device and connecting that to the desktop thru Active Sync.\\r\\nSreenivas',\n",
       " \"\\\\\\\\utilitysrv1\\\\home\\\\SalesEngineering\\\\- People's Folders -\\\\Ricardo\\\\presentations\\\\EPTech-Q2-Ricardo-Short.ppt\\r\\n--------------------------\\r\\nRicardo Garcia\\r\\nSales Engineer\\r\\nAvocadoIT, Inc.\\r\\n2211 North First Street, Suite 200\\r\\nSan Jose, CA 95131\\r\\n(408) 562-7984 (direct)\\r\\n(408) 829-4827 (mobile)\\r\\nAvocadoIT, Your Business Everywhere!\",\n",
       " '\\\\\\\\utilitysrv1\\\\home\\\\SalesEngineering\\\\Account Info\\\\Sun Microsystems',\n",
       " '\\\\\\\\utilitysrv1\\\\home\\\\SalesEngineering\\\\Account Info\\\\Sun Microsystems\\\\RFP 04.01\\\\AvocadoIT\\\\Demo Slides.ppt\\r\\n--------------------------\\r\\nRicardo Garcia\\r\\nSales Engineer\\r\\nAvocadoIT, Inc.\\r\\n2211 North First Street, Suite 200\\r\\nSan Jose, CA 95131\\r\\n(408) 562-7984 (direct)\\r\\n(408) 829-4827 (mobile)\\r\\nAvocadoIT, Your Business Everywhere!',\n",
       " '\\\\\\\\utilitysrv1\\\\home\\\\cdo\\\\process documents',\n",
       " '\\\\\\\\utilitysrv1\\\\home\\\\marketing\\\\avantgo\\r\\nTnx,',\n",
       " '\\\\\\\\utilitysrv1\\\\it\\\\documentations\\\\inventory\\\\eng_inventory01.xls\\r\\nI think you should delete all the COLO stuff and save it as a different file and then give it to him.\\r\\nThanks\\r\\nNadir',\n",
       " '\\\\\\\\utilitysrv1\\\\misc\\\\deleteme',\n",
       " '\\\\\\\\utilitysrv1\\\\misc\\\\it\\\\software\\\\',\n",
       " \"\\\\\\\\utilitysrv1\\\\misc\\\\it\\\\software\\\\acrobat4.05\\r\\nSerial number is on a .txt file on this same folder. Regarding the license, we will make a note of this when we inventory everyone's machines.\\r\\nThanks\\r\\nFernand\",\n",
       " '\\\\\\\\utilitysrv1\\\\public\\\\documents\\r\\nor',\n",
       " '\\\\\\\\utilitysrv1\\\\public\\\\techsupport\\\\processes\\\\IE_App_Test_Matrix.doc\\r\\nHere.\\r\\nYour Humble Servant',\n",
       " '\\\\\\\\utilitysrv1\\\\public\\\\techsupport\\\\stephen\\\\quote032201.xls',\n",
       " '\\\\\\\\yuyu\\\\software\\\\jeode\\r\\nClick on the icon.\\r\\nIt will install on the local box\\r\\nWhen you sync, it will automatically install',\n",
       " \"\\\\\\\\yuyu\\\\software\\\\jprobe\\r\\nThe only serial key I know is Geoff's: 65PTUL3-RT-TE6XU2\\r\\nI am not sure whether it's free to use, you'd better ask Geoff about this.\\r\\nHave fun!\\r\\n-yuyu\",\n",
       " '\\\\\\\\yuyu\\\\software\\\\jprobe\\r\\ncheck sno.txt for license key.\\r\\n-yuyu']"
      ]
     },
     "execution_count": 9,
     "metadata": {},
     "output_type": "execute_result"
    }
   ],
   "source": [
    "test = texts[texts.str.startswith('\\\\\\\\')]\n",
    "testest = test.tolist()\n",
    "testest.sort()\n",
    "testest"
   ]
  },
  {
   "cell_type": "code",
   "execution_count": 8,
   "metadata": {},
   "outputs": [
    {
     "name": "stdout",
     "output_type": "stream",
     "text": [
      "\"\\\\\\\\Cm\\\\CM\\\\Build\\\\4.0GA_palladium.x\\\\04-01-2002\\\\136\\\\fullinstaller\\\\setup.exe\\r\\nWith this build, Full Installer seems working fine, but there are problems.\\r\\n1. You can not run OCA.  If you try to run OCA, from d:\\\\build\\\\bin\\\\runOCA.bat --> it just doesn't run\\r\\n2. If you try to write your own batch file to run OCA, since the schema.xml is not there, the Biogen Application won't run\\r\\n3. The convertutil.jar is not there in the build.  So we can not use Roopak's utility.\\r\\nSreenivas\"\n",
      "'\\\\\\\\Cm\\\\CM\\\\Build\\\\4.5GA_Germanium.x\\\\10-03-2002\\\\132\\\\fullinstaller'\n",
      "'\\\\\\\\Cm\\\\CM\\\\Build\\\\4.6GA_Neon.x\\\\12-25-2002\\\\043\\\\fullinstaller\\r\\nThe EMDS online tests have passed over this build.\\r\\nSreenivas'\n",
      "'\\\\\\\\yuyu\\\\software\\\\jprobe\\r\\ncheck sno.txt for license key.\\r\\n-yuyu'\n",
      "'\\\\\\\\Cm\\\\CM\\\\Build\\\\4.5GA_Germanium.x\\\\10-14-2002\\\\140\\\\fullinstaller'\n",
      "'\\\\\\\\Cm\\\\CM\\\\Build\\\\4.5GA_Germanium.x\\\\09-30-2002\\\\129'\n",
      "'\\\\\\\\Utilitysrv1\\\\home\\\\Marketing\\\\solutions_folder'\n",
      "'\\\\\\\\utilitysrv1\\\\home\\\\SalesEngineering\\\\Account Info\\\\Sun Microsystems'\n",
      "'\\\\\\\\Cm\\\\CM\\\\Build\\\\4.5GA_Germanium.x\\\\09-26-2002\\\\122\\\\fullinstaller'\n",
      "'\\\\\\\\Cm\\\\CM\\\\Build\\\\4.5GA_Germanium.x\\\\09-18-2002\\\\110\\\\fullinstaller'\n",
      "'\\\\\\\\Utilitysrv1\\\\home\\\\Marketing\\\\Gartner-ITExpo-2002 - then double click on autorun'\n",
      "'\\\\\\\\coffee\\\\D:\\\\parser_tests has the latest version. I am also attaching\\r\\n.vox files that I have. I recall modifying news.vox and trades.vox while \\r\\ntesting my changes to support visible attribute for a component.\\r\\n>From: amitabhsinha@mindspring.com\\r\\n>To: \"prasad krothapalli\" <vkrothapalli@hotmail.com>\\r\\n>CC: \"mark tracy\" <mjtracy@acm.org>\\r\\n>Subject: latest parser_Tests\\r\\n>Date: Tue, 22 Jun 1999 15:57:38 -0500\\r\\n>\\r\\n>is it in source safe somewhere?\\r\\n>or, prasad can you send me your latest version... i am going to make some\\r\\n>modifications to test our continue/break in loops.\\r\\n>\\r\\n>amitabh\\r\\n>---------------------------------------------------------------------------\\r\\n>amitabh b. sinha\\r\\n>2403 s. pond/urbana/il/61801\\r\\n>(217)-344-7256\\r\\n>\\r\\n_______________________________________________________________\\r\\nGet Free Email and Do More On The Web. Visit http://www.msn.com\\r\\n'\n",
      "'\\\\\\\\Cm\\\\CM\\\\Build\\\\4.5GA_Germanium.x\\\\09-30-2002\\\\128\\\\fullinstaller'\n",
      "'\\\\\\\\Utilitysrv1\\\\home\\\\Training\\\\Course Info\\r\\nDoug Field'\n",
      "'\\\\\\\\Cm\\\\CM\\\\Build\\\\4.5GA_Germanium.x\\\\10-11-2002\\\\139\\\\fullinstaller'\n",
      "'\\\\\\\\Cm\\\\CM\\\\Build\\\\4.5GA_Germanium.x\\\\09-12-2002\\\\105\\\\fullinstaller'\n",
      "\"\\\\\\\\utilitysrv1\\\\misc\\\\it\\\\software\\\\acrobat4.05\\r\\nSerial number is on a .txt file on this same folder. Regarding the license, we will make a note of this when we inventory everyone's machines.\\r\\nThanks\\r\\nFernand\"\n",
      "'\\\\\\\\rdadi2k\\\\D\\\\sreenivas\\\\downloads\\\\PocketControllerSetup.exe\\r\\nYou can install the PocketPC Controller on Desktop by cradling the device and connecting that to the desktop thru Active Sync.\\r\\nSreenivas'\n",
      "'\\\\\\\\Cm\\\\CM\\\\Build\\\\4.5GA_Germanium.x\\\\10-09-2002\\\\137\\\\fullinstaller'\n",
      "'\\\\\\\\Cm\\\\CM\\\\Build\\\\4.5GA_Germanium.x\\\\09-24-2002\\\\119\\\\fullinstaller'\n",
      "'\\\\\\\\Utilitysrv1\\\\Misc\\\\MKSToolKit6.2'\n",
      "'\\\\\\\\Cm\\\\CM\\\\Build\\\\4.5GA_Germanium.x\\\\10-07-2002\\\\135\\\\fullinstaller'\n",
      "'\\\\\\\\utilitysrv1\\\\home\\\\cdo\\\\process documents'\n",
      "'\\\\\\\\idccm\\\\software\\\\weblogic_6.1\\r\\nPlease use license key provided there.  If you have any doubts, let me know\\r\\nSrinivas'\n",
      "'\\\\\\\\Cm\\\\CM\\\\Build\\\\4.5GA_Germanium.x\\\\09-27-2002\\\\123\\\\fullinstaller'\n",
      "'\\\\\\\\Cm\\\\CM\\\\Build\\\\4.5GA_Germanium.x\\\\10-05-2002\\\\134\\\\fullinstaller'\n",
      "'\\\\\\\\Cm\\\\CM\\\\Build\\\\4.5GA_Germanium.x\\\\10-02-2002\\\\131\\\\fullinstaller'\n",
      "'\\\\\\\\Cm\\\\CM\\\\Build\\\\4.5GA_Germanium.x\\\\10-15-2002\\\\143\\\\fullinstaller'\n",
      "'\\\\\\\\utilitysrv1\\\\public\\\\documents\\r\\nor'\n",
      "'\\\\\\\\Cm\\\\CM\\\\Build\\\\4.5GA_Germanium.x\\\\10-08-2002\\\\136\\\\fullinstaller'\n",
      "'\\\\\\\\Utilitysrv1\\\\Ops_IT\\\\aclogs'\n",
      "'\\\\\\\\ferball2001\\\\mp3'\n",
      "'\\\\\\\\Cm\\\\CM\\\\Build\\\\4.5GA_Germanium.x\\\\10-15-2002\\\\143a\\\\fullinstaller'\n",
      "'\\\\\\\\Cm\\\\CM\\\\Build\\\\4.5GA_Germanium.x\\\\12-18-2002\\\\201\\\\fullinstaller'\n",
      "'\\\\\\\\UTILITYSRV1\\\\HOME\\\\LEAPFROG\\\\SiebelCLIENT.'\n",
      "'\\\\\\\\Cm\\\\CM\\\\Build\\\\4.5GA_Germanium.x\\\\09-19-2002\\\\111\\\\fullinstaller'\n",
      "'\\\\\\\\utilitysrv1\\\\it\\\\documentations\\\\inventory\\\\eng_inventory01.xls\\r\\nI think you should delete all the COLO stuff and save it as a different file and then give it to him.\\r\\nThanks\\r\\nNadir'\n",
      "'\\\\\\\\Cm\\\\CM\\\\Build\\\\4.5GA_Germanium.x\\\\10-12-2002\\\\139\\\\fullinstaller'\n",
      "'\\\\\\\\utilitysrv1\\\\misc\\\\it\\\\software\\\\'\n",
      "'\\\\\\\\utilitysrv1\\\\home\\\\SalesEngineering\\\\Account Info\\\\Sun Microsystems\\\\RFP 04.01\\\\AvocadoIT\\\\Demo Slides.ppt\\r\\n--------------------------\\r\\nRicardo Garcia\\r\\nSales Engineer\\r\\nAvocadoIT, Inc.\\r\\n2211 North First Street, Suite 200\\r\\nSan Jose, CA 95131\\r\\n(408) 562-7984 (direct)\\r\\n(408) 829-4827 (mobile)\\r\\nAvocadoIT, Your Business Everywhere!'\n",
      "\"\\\\\\\\yuyu\\\\software\\\\jprobe\\r\\nThe only serial key I know is Geoff's: 65PTUL3-RT-TE6XU2\\r\\nI am not sure whether it's free to use, you'd better ask Geoff about this.\\r\\nHave fun!\\r\\n-yuyu\"\n",
      "'\\\\\\\\Cm\\\\CM\\\\Build\\\\4.5GA_Germanium.x\\\\10-15-2002\\\\143a_new\\\\fullinstaller'\n",
      "'\\\\\\\\utilitysrv1\\\\home\\\\marketing\\\\avantgo\\r\\nTnx,'\n",
      "'\\\\\\\\utilitysrv1\\\\public\\\\techsupport\\\\stephen\\\\quote032201.xls'\n",
      "'\\\\\\\\Utilitysrv1\\\\home\\\\QA\\\\RobotLicenses'\n",
      "'\\\\\\\\Cm\\\\CM\\\\Build\\\\4.5GA_Germanium.x\\\\06-27-2002\\\\037\\\\fullinstaller'\n",
      "'\\\\\\\\Cm\\\\CM\\\\Build\\\\4.5GA_Germanium.x\\\\09-17-2002\\\\109\\\\fullinstaller'\n",
      "'\\\\\\\\Cm\\\\CM\\\\Build\\\\4.5GA_Germanium.x\\\\09-11-2002\\\\103\\\\fullinstaller'\n",
      "'\\\\\\\\Cm\\\\CM\\\\Build\\\\4.5GA_Germanium.x\\\\09-20-2002\\\\115\\\\fullinstaller'\n",
      "'\\\\\\\\Utilitysrv1\\\\home\\\\Marketign\\\\Website Photos'\n",
      "'\\\\\\\\Cm\\\\CM\\\\Build\\\\4.5GA_Germanium.x\\\\10-21-2002\\\\144\\\\fullinstaller'\n",
      "'\\\\\\\\Cm\\\\CM\\\\Build\\\\4.5GA_Germanium.x\\\\09-23-2002\\\\117\\\\fullinstaller'\n",
      "'\\\\\\\\Cm\\\\CM\\\\Build\\\\4.5GA_Germanium.x\\\\05-07-2002\\\\004\\\\fullinstaller'\n",
      "'\\\\\\\\Cm\\\\CM\\\\Build\\\\4.5GA_Germanium.x\\\\09-12-2002\\\\104\\\\fullinstaller'\n",
      "\"\\\\\\\\utilitysrv1\\\\home\\\\SalesEngineering\\\\- People's Folders -\\\\Ricardo\\\\presentations\\\\EPTech-Q2-Ricardo-Short.ppt\\r\\n--------------------------\\r\\nRicardo Garcia\\r\\nSales Engineer\\r\\nAvocadoIT, Inc.\\r\\n2211 North First Street, Suite 200\\r\\nSan Jose, CA 95131\\r\\n(408) 562-7984 (direct)\\r\\n(408) 829-4827 (mobile)\\r\\nAvocadoIT, Your Business Everywhere!\"\n",
      "'\\\\\\\\Cm\\\\CM\\\\Build\\\\4.5GA_Germanium.x\\\\10-10-2002\\\\138\\\\fullinstaller\\r\\nIt has the fix 5940'\n",
      "'\\\\\\\\Cm\\\\CM\\\\Build\\\\4.5GA_Germanium.x\\\\09-13-2002\\\\106\\\\fullinstaller'\n",
      "'\\\\\\\\Cm\\\\CM\\\\Build\\\\4.5GA_Germanium.x\\\\07-23-2002\\\\052\\\\fullinstaller'\n",
      "'\\\\\\\\Cm\\\\CM\\\\Build\\\\4.5GA_Germanium.x\\\\12-27-2002\\\\202\\\\fullinstaller'\n",
      "'\\\\\\\\Cm\\\\Burn\\\\4.5GA_Germanium.x\\\\05-06-2002\\\\003\\\\fullinstaller'\n",
      "'\\\\\\\\utilitysrv1\\\\misc\\\\deleteme'\n",
      "'\\\\\\\\Ws_mobility_1\\\\d-drive\\\\Common\\\\downloads\\\\Weblogic\\r\\nThe WL6 setup is in that dir\\r\\n----- Original Message ----- \\r\\n> Hi Scott,\\r\\n> \\r\\n> Can you put WL 6 on ws_mobility_1. Iain is looking for it.\\r\\n> \\r\\n> thx,\\r\\n> kgr\\r\\n> \\r\\n> \\r\\n> --\\r\\n> Keith Ritchie\\r\\n> Team Lead\\r\\n> Mobile Infrastructure\\r\\n> Sitraka Mobility\\r\\n> http://www.sitraka.com/mobility\\r\\n> Work  - (416) 366-6425 x 306\\r\\n> Cell  - (905) 467-1181\\r\\n> Fax  - (416) 214-1235\\r\\n> Email  - keith.ritchie@sitraka.com\\r\\n> Blackberry - sitraka2@mobile.rogers.com\\r\\n> \\r\\n> \\r\\n>\\r\\n'\n",
      "'\\\\\\\\Cm\\\\CM\\\\Build\\\\4.5GA_Germanium.x\\\\06-26-2002\\\\1090\\\\fullinstaller\\\\setup.exe\\r\\nHi Wilhan,\\r\\nInstaller fails to install the online.  Do you know how to proceed?'\n",
      "'\\\\\\\\Cm\\\\CM\\\\Build\\\\4.5GA_Germanium.x\\\\09-25-2002\\\\120\\\\fullinstaller'\n",
      "'\\\\\\\\Cm\\\\CM\\\\Build\\\\4.5GA_Germanium.x\\\\07-08-2002\\\\039\\\\fullinstaller'\n",
      "'\\\\\\\\yuyu\\\\software\\\\jeode\\r\\nClick on the icon.\\r\\nIt will install on the local box\\r\\nWhen you sync, it will automatically install'\n",
      "'\\\\\\\\utilitysrv1\\\\public\\\\techsupport\\\\processes\\\\IE_App_Test_Matrix.doc\\r\\nHere.\\r\\nYour Humble Servant'\n",
      "'\\\\\\\\coffee has changed to \\\\\\\\Utilitysrv1'\n",
      "'\\\\\\\\Cm\\\\CM\\\\Build\\\\4.5GA_Germanium.x\\\\09-14-2002\\\\107\\\\fullinstaller'\n",
      "'\\\\\\\\Utilitysrv1\\\\D_Drive\\\\Vivek\\\\Alerts\\\\AlertsDesignDoc.doc\\r\\n\\\\\\\\Utilitysrv1\\\\D_Drive\\\\Vivek\\\\Alerts\\\\EP Alerts Solution Delivery Phase 1 FS.doc\\r\\n\\\\\\\\Utilitysrv1\\\\D_Drive\\\\Vivek\\\\Alerts\\\\EP Alerts Solution Delivery Phase 1 MRD v1.7.doc'\n"
     ]
    }
   ],
   "source": [
    "for t in test:\n",
    "    print(repr(t))"
   ]
  },
  {
   "cell_type": "code",
   "execution_count": null,
   "metadata": {},
   "outputs": [],
   "source": [
    "with open(\"signatures.txt\", \"r\") as file:\n",
    "    signature_list = [line.strip() for line in file]\n",
    "\n",
    "for signature in signature_list:\n",
    "    texts = texts.str.replace(signature,\"\")"
   ]
  },
  {
   "cell_type": "code",
   "execution_count": null,
   "metadata": {},
   "outputs": [],
   "source": [
    "texts = texts[~(   texts.str.contains('Whether you are directly or indirectly')  )]"
   ]
  },
  {
   "cell_type": "code",
   "execution_count": null,
   "metadata": {},
   "outputs": [
    {
     "data": {
      "text/plain": [
       "0         Bug 5539\\r\\nThe screen wizard now ignores the ...\n",
       "1         At 02:50 PM 3/15/2001 +0100, it seemed like Ma...\n",
       "2         All,\\r\\nWe are still in a Nor'easter, but the ...\n",
       "3         Responding to Robert Sartin (07:02 AM 6/14/200...\n",
       "4         I will try to get the real secure up at the fi...\n",
       "                                ...                        \n",
       "128640    Checked in WinInetBrowser.java to fix a bug in...\n",
       "128641    Just wanted to make sure that you know I did t...\n",
       "128642    In the end, you will always fail to think of e...\n",
       "128643    Yes, it's valid for Europe, as well.  Venk for...\n",
       "128644    Hey John,\\r\\nThe Siebel Adapter will allow you...\n",
       "Name: text, Length: 128641, dtype: object"
      ]
     },
     "execution_count": 10,
     "metadata": {},
     "output_type": "execute_result"
    }
   ],
   "source": [
    "pattern = re.compile(pattern=r'\\r\\n----- Original Message -----\\r\\n.*',flags=re.DOTALL|re.MULTILINE)\n",
    "texts = texts.apply(lambda x: re.sub(pattern,\"\", x))\n",
    "\n",
    "texts = texts[~texts.str.contains('If you would like to stop or modify the delivery of Research via Email')]\n",
    "texts = texts[~texts.str.contains('You are invited to join a meeting on the web, using WebEx.')]\n",
    "texts = texts[~texts.str.contains('REGISTER TODAY')]\n",
    "texts = texts[~texts.str.contains('-------------------------------------------------------------------------\\r\\nThis message has been sent to you electronically')]\n",
    "texts = texts[~texts.str.startswith('~~~~~~~~~~~~~~~~~~~~~~~~~~~~~~~~~~~~~~~~~~~~~~~~~~~~~~~~~~~')]\n",
    "\n",
    "# Remove Yahoo\n",
    "pattern = re.compile(pattern=r'(?:\\r\\n)?\\_+\\r\\nDo You Yahoo!\\?\\r\\n.*?yahoo\\.com.*?\\r\\n', flags=re.DOTALL | re.MULTILINE )\n",
    "texts = texts.apply(lambda x: re.sub(pattern,\"\", x))\n",
    "\n",
    "\n",
    "pt = r'^Return-Path: <.*?@.*?\\.\\w{2,3}>\\r\\n'\n",
    "pt = re.compile(pt,flags=re.DOTALL|re.MULTILINE | re.IGNORECASE)\n",
    "texts = texts.apply(lambda x: re.sub(pt,\"\", x))\n",
    "\n",
    "pt = re.compile(r'^--=_alternative\\s[A-F\\d]{16}_=--(?:\\r\\n)?',flags=re.DOTALL|re.MULTILINE | re.IGNORECASE)\n",
    "texts = texts.apply(lambda x: re.sub(pt,\"\", x))\n",
    "\n",
    "pt = re.compile(r'^--=_related\\s[A-F\\d]{16}_=.*?[A-F\\d]{16}_=--\\r\\n',flags=re.DOTALL|re.MULTILINE | re.IGNORECASE)\n",
    "texts = texts.apply(lambda x: re.sub(pt,\"\", x))\n",
    "\n",
    "pt = re.compile(r'^-{5}\\sOriginal\\sMessage\\s-{5}(?:\\s)?\\r\\n(?:From:.*?\\r\\nTo:.*?\\r\\nSubject:.*?\\r\\n)?',flags=re.DOTALL|re.MULTILINE | re.IGNORECASE)\n",
    "texts = texts.apply(lambda x: re.sub(pt,\"\", x))\n",
    "\n",
    "pt = re.compile(r'^Date:.*?Message-ID:.*?\\r\\n',flags=re.DOTALL|re.MULTILINE | re.IGNORECASE)\n",
    "texts = texts.apply(lambda x: re.sub(pt,\"\", x))\n",
    "\n",
    "pt = re.compile(r'^Date:.*?may not be legible.\\r\\n',flags=re.DOTALL|re.MULTILINE | re.IGNORECASE)\n",
    "texts = texts.apply(lambda x: re.sub(pt,\"\", x))\n",
    "\n",
    "pt = re.compile(r'^Date:.*?iso-8859-1\"\\r\\n',flags=re.DOTALL|re.MULTILINE | re.IGNORECASE)\n",
    "texts = texts.apply(lambda x: re.sub(pt,\"\", x))\n",
    "\n",
    "pt = re.compile(r'^Date:  [\\/\\d]{10}\\s[\\d:]{8}\\r\\n',flags=re.DOTALL|re.MULTILINE | re.IGNORECASE)\n",
    "texts = texts.apply(lambda x: re.sub(pt,\"\", x))\n",
    "\n",
    "pt = re.compile(r'^Date: .*?MIME-Version.*text\\/plain\\r\\n',flags=re.DOTALL|re.MULTILINE | re.IGNORECASE)\n",
    "texts = texts.apply(lambda x: re.sub(pt,\"\", x))\n",
    "\n",
    "pt = re.compile(r'^From: \".+?\" <.*?\\@.*?\\.[a-z]{2,3}>\\r\\n',flags=re.DOTALL|re.MULTILINE | re.IGNORECASE)\n",
    "texts = texts.apply(lambda x: re.sub(pt,\"\", x))\n",
    "\n",
    "pt = re.compile(r'\\s\\(www\\.avocadoit.com\\)$',flags=re.DOTALL|re.MULTILINE | re.IGNORECASE)\n",
    "texts = texts.apply(lambda x: re.sub(pt,\"\", x))"
   ]
  },
  {
   "cell_type": "markdown",
   "metadata": {},
   "source": [
    "## Save to DF"
   ]
  },
  {
   "cell_type": "code",
   "execution_count": 11,
   "metadata": {},
   "outputs": [],
   "source": [
    "df = texts.to_frame()\n",
    "df.to_parquet('../../data/processed/05_avocado_cleaned_clustered_wip_7.parquet', engine='pyarrow')"
   ]
  },
  {
   "cell_type": "code",
   "execution_count": null,
   "metadata": {},
   "outputs": [],
   "source": [
    "len(df)"
   ]
  }
 ],
 "metadata": {
  "kernelspec": {
   "display_name": "ma_env",
   "language": "python",
   "name": "python3"
  },
  "language_info": {
   "codemirror_mode": {
    "name": "ipython",
    "version": 3
   },
   "file_extension": ".py",
   "mimetype": "text/x-python",
   "name": "python",
   "nbconvert_exporter": "python",
   "pygments_lexer": "ipython3",
   "version": "3.12.7"
  }
 },
 "nbformat": 4,
 "nbformat_minor": 2
}
