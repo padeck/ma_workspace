{
 "cells": [
  {
   "cell_type": "markdown",
   "metadata": {},
   "source": [
    "## Avocado EDA"
   ]
  },
  {
   "cell_type": "code",
   "execution_count": 34,
   "metadata": {},
   "outputs": [],
   "source": [
    "import pandas as pd\n",
    "import re\n",
    "from tqdm import tqdm\n",
    "from mailparser_reply import EmailReplyParser,EmailMessage\n",
    "\n",
    "#from email_reply_parser import EmailReplyParser\n",
    "tqdm.pandas()  # Register tqdm with pandas"
   ]
  },
  {
   "cell_type": "code",
   "execution_count": 19,
   "metadata": {},
   "outputs": [],
   "source": [
    "df = pd.read_parquet('../data/avocado_full.parquet') \n",
    "     "
   ]
  },
  {
   "cell_type": "code",
   "execution_count": 20,
   "metadata": {},
   "outputs": [
    {
     "data": {
      "text/plain": [
       "(938035, 243)"
      ]
     },
     "execution_count": 20,
     "metadata": {},
     "output_type": "execute_result"
    }
   ],
   "source": [
    "df.shape"
   ]
  },
  {
   "cell_type": "code",
   "execution_count": 5,
   "metadata": {},
   "outputs": [
    {
     "name": "stdout",
     "output_type": "stream",
     "text": [
      "arrival_date\n",
      "cc_address\n",
      "create_date\n",
      "delete_after_submit\n",
      "delivery_report\n",
      "file_as\n",
      "flags\n",
      "importance\n",
      "message_cc_me\n",
      "message_recip_me\n",
      "message_to_me\n",
      "messageid\n",
      "modify_date\n",
      "original_sensitivity\n",
      "outlook_recipient_name\n",
      "outlook_sender_name\n",
      "priority\n",
      "processed_subject\n",
      "read_receipt\n",
      "recip_access\n",
      "recip_address\n",
      "reply_requested\n",
      "response_requested\n",
      "sender2_access\n",
      "sender2_address\n",
      "sender_access\n",
      "sender_address\n",
      "sensitivity\n",
      "sent_date\n",
      "sentto_address\n",
      "subject\n",
      "body_file_path\n",
      "body_content\n",
      "autoforward\n",
      "outlook_version\n",
      "in_reply_to\n",
      "reply_to\n",
      "Keywords\n",
      "bcc_address\n",
      "X-Mailer\n",
      "X-MimeOLE\n",
      "X-Received\n",
      "X-UIDL\n",
      "return_path_address\n",
      "X-Juno-Att\n",
      "X-Juno-Line-Breaks\n",
      "X-Juno-RefParts\n",
      "X-LSV-ListID\n",
      "X-List-Host\n",
      "X-URL\n",
      "X-Sender\n",
      "X-AMAZON-TRACK\n",
      "X-AMAZON-TRACK-2\n",
      "X-eGroups-Return\n",
      "X-Authentication-Warning\n",
      "X-MIMETrack\n",
      "X-Accept-Language\n",
      "X-apix\n",
      "X-ListID\n",
      "X-MsgID\n",
      "X-Att-Encode\n",
      "X-SohoMail-UID\n",
      "X-SohoMail-version\n",
      "X-Listprocessor\n",
      "X-SubID\n",
      "X-Server-Uuid\n",
      "X-WSS-ID\n",
      "X-To\n",
      "X-MnM-Date\n",
      "X-MnM-JobId\n",
      "X-MnM-MsgId\n",
      "X-MnM-Software\n",
      "X-Originating-IP\n",
      "X-cid\n",
      "X-Message-Id\n",
      "X-OriginalArrivalTime\n",
      "X-Lotus-FromDomain\n",
      "X-eGroups-Approved-By\n",
      "X-Sent\n",
      "X-AT_T-Hype\n",
      "X-Loop-Detect\n",
      "X-MIME-Autoconverted\n",
      "X-Magic-Cap-Form\n",
      "X-Actual-From\n",
      "X-MDRcpt-To\n",
      "X-MDRemoteIP\n",
      "X-MDaemon-Deliver-To\n",
      "X-Return-Path\n",
      "X-Internal-ID\n",
      "X-Uboat-Death-Message\n",
      "X-QPED-ID\n",
      "X-Mailer-Version\n",
      "X-Emacs-Acronym\n",
      "X-MailList-Unsubscribe-URL\n",
      "X-Types\n",
      "X-eGroups-From\n",
      "X-From\n",
      "X-Mozilla-Draft-Info\n",
      "X-MTS-LoopDetect\n",
      "X-MTS-Ticket\n",
      "X-DeepCanyon-Tag\n",
      "original_to\n",
      "X-WM-Posted-At\n",
      "X-Sender-Ip\n",
      "X-Sent-Mail\n",
      "X-Palm-Loop\n",
      "Allowed Attempts\n",
      "Attempts Remaining\n",
      "Completion Date\n",
      "Current Status\n",
      "Current Status Detail\n",
      "Entry Number\n",
      "Fax Number\n",
      "Pages Sent\n",
      "Process After\n",
      "Recipient Name\n",
      "Retry Interval\n",
      "Submitted\n",
      "X-Mozilla-Status\n",
      "X-Mozilla-Status2\n",
      "X-Complaints-To\n",
      "X-Trace\n",
      "X-VM-v5-Data\n",
      "X-Newsreader\n",
      "X-Comments-To\n",
      "X-WebsiteAccess-GMT\n",
      "X-WebsiteUser-IP\n",
      "X-LSMTP-Document-ID\n",
      "X-Attachments\n",
      "X-VM-Bookmark\n",
      "X-VM-Labels\n",
      "X-VM-Summary-Format\n",
      "X-VM-VHeader\n",
      "X-MS-TNEF-Correlator\n",
      "X-Face\n",
      "X-Orcl-Application\n",
      "Partial Message Id\n",
      "X-WebTV-Signature\n",
      "X-Loop\n",
      "X-Department\n",
      "X-Organization\n",
      "X-Quote\n",
      "X-MailCaster-ID\n",
      "X-Client\n",
      "X-Mailing-List\n",
      "X-Orcl-Priority\n",
      "X-MS-Attachment\n",
      "Files\n",
      "ForBugorIssue\n",
      "ReviewedBy\n",
      "original_cc\n",
      "AttachToActProp\n",
      "X-Disappearing-SendThisMsgDE\n",
      "X-NAV-TimeoutProtection0\n",
      "X-NAV-TimeoutProtection1\n",
      "X-NAV-TimeoutProtection2\n",
      "X-NAV-TimeoutProtection3\n",
      "X-NAV-TimeoutProtection4\n",
      "X-NAV-TimeoutProtection5\n",
      "X-NAV-TimeoutProtection6\n",
      "X-NAV-TimeoutProtection7\n",
      "X-Comment\n",
      "X-SubService\n",
      "X-EntryID\n",
      "X-Disappearing-EncryptAttachments\n",
      "X-Apparently-To\n",
      "X-BeenThere\n",
      "X-Mailman-Version\n",
      "X-Reply-To\n",
      "X-No-Archive\n",
      "X-UnityID\n",
      "X-UnityUser\n",
      "D\n",
      "Disappears\n",
      "X-Disappearing-Boilerplate-Body\n",
      "X-Disappearing-Expires-At\n",
      "X-Disappearing-User-Key-URLs\n",
      "X-PMFLAGS\n",
      "X-NAV-TimeoutProtection8\n",
      "X-NAV-TimeoutProtection9\n",
      "X-NAV-TimeoutProtection10\n",
      "X-NAV-TimeoutProtection11\n",
      "X-NAV-TimeoutProtection12\n",
      "X-NAV-TimeoutProtection13\n",
      "X-NAV-TimeoutProtection14\n",
      "X-NAV-TimeoutProtection15\n",
      "X-NAV-TimeoutProtection16\n",
      "X-NAV-TimeoutProtection17\n",
      "X-NAV-TimeoutProtection18\n",
      "X-MIMEOLE\n",
      "X-Sent-From\n",
      "X-DeliverBy\n",
      "X-MSMailPriority\n",
      "X-Oa\n",
      "X-Officeagent\n",
      "X-Info\n",
      "X-PMG-Msgid\n",
      "X-PMG-Recipient\n",
      "X-PMG-Userid\n",
      "X-Yahoo-Forwarded\n",
      "X-vsuite-type\n",
      "X-OpenMail-Hops\n",
      "X-BFT\n",
      "X-Apparently-From\n",
      "X-Mimeole\n",
      "X-Cq_Job\n",
      "X-Processed-By\n",
      "X-WDR-Disclaimer\n",
      "X-Sybari-Trust\n",
      "X-Header-Date\n",
      "X-Header-Partid\n",
      "X-Header-Pitchid\n",
      "X-Header-Userid\n",
      "X-Campaign\n",
      "X-Form\n",
      "X-Lyris-Type\n",
      "X-AddressID\n",
      "X-EM-Registration\n",
      "X-EM-Version\n",
      "x-receiver\n",
      "X-Failed-Recipients\n",
      "X-legal\n",
      "X-cc\n",
      "X-SLUIDL\n",
      "X-Engine\n",
      "X-Auto\n",
      "X-OptioDCS-Version\n",
      "X-CampaignID\n",
      "X-Interface\n",
      "X-sparklist-type\n",
      "Recipient Company\n",
      "X-Hops\n",
      "X-VirusChecked\n",
      "X-Authenticated-IP\n",
      "X-Authenticated-Sender\n",
      "X-Flags\n",
      "X-NAV-TimeoutProtection19\n",
      "X-NAV-TimeoutProtection20\n",
      "X-NAV-TimeoutProtection21\n",
      "X-NAV-TimeoutProtection22\n",
      "X-NAV-TimeoutProtection23\n",
      "X-NAV-TimeoutProtection24\n",
      "X-Talk21Ref\n"
     ]
    }
   ],
   "source": [
    "for column in df.columns:\n",
    "    print(column)"
   ]
  },
  {
   "cell_type": "code",
   "execution_count": null,
   "metadata": {},
   "outputs": [],
   "source": [
    "df.head()"
   ]
  },
  {
   "cell_type": "code",
   "execution_count": 21,
   "metadata": {},
   "outputs": [],
   "source": [
    "new_cols = [\"messageid\", \"sender_access\", \"outlook_sender_name\", \"outlook_recipient_name\", \"sentto_address\", \"cc_address\", \"subject\", \"processed_subject\", \"sent_date\", \"arrival_date\", \"body_file_path\", \"body_content\", \"in_reply_to\"   ,  \"Keywords\",  ]\n",
    "df_man = df.loc[:, new_cols]"
   ]
  },
  {
   "cell_type": "code",
   "execution_count": 23,
   "metadata": {},
   "outputs": [
    {
     "data": {
      "text/plain": [
       "'From: \"Fortunata Hermoso\" <fortunata.hermoso@avocadoit.com>\\r\\nTo: \"Meshele Ko\" <mko@avocadoit.com>\\r\\nCc: ray_rahamin@hp.com, \"Dan Baca\" <dbaca@avocadoit.com>, \"Elba Linscott\" <elinscott@avocadoit.com>\\r\\nSubject: Fw: RE: AvocadoIT\\'s CEO committed to winning Banamex deal\\r\\nDate: 12 Apr 2001 22:02:41 UTC\\r\\nMessage-ID: <FC38A9406AA4D411AB62009027DE9DA5E6545D@HQEXCH01>\\r\\n\\r\\nFyi on Venks commitment on Banamex. The next step is to set a conference call with Nicollo and Venk next week. EP is committed to do whatever it takes to close this accoiunt.\\r\\n\\r\\nWe have a lot of support. Let\\'s keep the communcation going. Please use me to escalate any support needed to close this account.\\r\\n--------------------------\\r\\nFortunata Hermoso\\r\\nAvocadoIT, Inc.\\r\\nGlobal Alliance Manager\\r\\nMobile Phone: 408.464.8998\\r\\nemail: fortunata.hermoso@avocadoit.com\\r\\n\\r\\n\\r\\n-----Original Message-----\\r\\nFrom: Venk Shukla <shukla@avocadoit.com>\\r\\nTo: \\'DEPERALTA,AIREEN (HP-Cupertino,ex1)\\' <aireen_deperalta@hp.com>; Venk Shukla <shukla@avocadoit.com>; ARENAS,MARTHA (HP-Mexico,ex1) <martha_arenas@hp.com>; SPATARO,NICCOLO (HP-Mexico,ex1) <niccolo_spataro@hp.com>\\r\\nCC: KOMORI,ZENKI (HP-Mexico,ex1) <zenki_komori@hp.com>; ZAMORA,EDUARDO (HP-Mexico,ex1) <eduardo_zamora@hp.com>; Fortunata Hermoso <Fortunata.Hermoso@avocadoit.com>; WATSON,JULIE (HP-Cupertino,ex1) <julie_watson@hp.com>; GRATTON,RANDOLPH (HP-UK,unix1) <randolph_gratton@hp.com>; Ray Rahamin <Ray.Rahamin@avocadoit.com>\\r\\nSent: Thu Apr 12 14:11:07 2001\\r\\nSubject: RE: AvocadoIT\\'s CEO committed to winning Banamex deal\\r\\n\\r\\nThanks for your initiative. We look to Benamex as a potential \"anchor\" account for our banking industry initiative. Goodwill and great reference from anchor accounts are vital to our strategy for success. Our existing customers such as ETrade and Alaska Airlines have nothing but great things to say about our level of commitment to them. We want to add Benamex to this list as well. Winning this account is even more crucial because of our connection to HP. We hope our success here will provide a model for how to work together to crack big accounts.  I am excited about this opportunity and am happy to offer whatever help I can provide in moving the sales process forward.\\r\\n\\r\\n\\r\\n\\r\\nVenktesh Shukla\\r\\nChief Executive Officer\\r\\n\\r\\nAvocadoIT, Inc.\\r\\n2211 No. First Street, Ste. 200\\r\\nSan Jose, CA  95131\\r\\n\\r\\nDirect:   (408) 562-8010\\r\\nPager:   (888) 763-0797\\r\\nFax:      (408) 562-8108\\r\\n\\r\\n\\r\\n-----Original Message-----\\r\\nFrom: DEPERALTA,AIREEN (HP-Cupertino,ex1)\\r\\n[mailto:aireen_deperalta@hp.com]\\r\\nSent: Wednesday, April 11, 2001 1:51 PM\\r\\nTo: \\'venk.shukla@avocadoit.com\\'; ARENAS,MARTHA (HP-Mexico,ex1);\\r\\nSPATARO,NICCOLO (HP-Mexico,ex1)\\r\\nCc: KOMORI,ZENKI (HP-Mexico,ex1); ZAMORA,EDUARDO (HP-Mexico,ex1);\\r\\n\\'fortunata hermoso\\'; WATSON,JULIE (HP-Cupertino,ex1); GRATTON,RANDOLPH\\r\\n(HP-UK,unix1)\\r\\nSubject: AvocadoIT\\'s CEO committed to winning Banamex deal\\r\\n\\r\\n\\r\\nHola, Martha and Niccolo,\\r\\n\\r\\nI would like to introduce you to Venk Shukla, CEO of AvocadoIT, one of the\\r\\nE-services Partner Division\\'s (ESPD) mobile partners. We are currently\\r\\nworking with them on creating a qualified worldwide funnel and closing some\\r\\ndeals. I am their Sales Engagement manager incented to making this happen,\\r\\nand I have been in touch with Eduardo and Zenki to provide help in moving\\r\\nthe process along.\\r\\n\\r\\nVenk is making himself available to help win the deal at Banamex against\\r\\nEdify/Unisys. He\\'s aware that Unisys is the incumbent since they implemented\\r\\nBanamex\\'s internet banking solution and may have an advantage. Please feel\\r\\nfree to pull him in when talking to the executives at Banamex so that we can\\r\\nprovide a unified team. His number is 408-562-8010,\\r\\nVenk.Shukla@avocadoit.com. I\\'ve copied Venk on this message.\\r\\n\\r\\nVenk, \\r\\n\\r\\nThe Mexico team is doing their best to win this deal, also. Banamex is one\\r\\nof our \"Must Win\" accounts, so you can be sure that all levels of HP\\r\\nmanagement are going to get involved to win this one. Marta is the GM of\\r\\nFinancial Services and Nicolo is the GM of HPC in Mexico. They will be\\r\\nmeeting with one of the Banamex directors next week. HP Mexico has a good\\r\\nrelationship with Banamex, who is one of our top customers, so this should\\r\\nhelp us in the decision-making.\\r\\n\\r\\nThank you for offering your services and showing your commitment to close\\r\\nBanamex. Fortunata and I will keep you updated as these discussions\\r\\nprogress. \\r\\n\\r\\nLet me know if anyone needs anything else,\\r\\n\\r\\n-Aireen de Peralta\\r\\ntn 447-8740\\r\\n'"
      ]
     },
     "execution_count": 23,
     "metadata": {},
     "output_type": "execute_result"
    }
   ],
   "source": [
    "df_man.iloc[0]['body_content']"
   ]
  },
  {
   "cell_type": "code",
   "execution_count": 7,
   "metadata": {},
   "outputs": [
    {
     "name": "stdout",
     "output_type": "stream",
     "text": [
      "\"'Eileen Wong'\" <eileenpwong@yahoo.com>,\n",
      "\"'George Chen'\" <gchen@infotechsm.com>,\n",
      "\"'Soo Hur'\" <kyungsoohur@hotmail.com>, \"'Jenny Tao'\" <jy_tao@yahoo.com>,\n",
      "\"'Brad Goldman'\" <muttrox@mediaone.net>,\n",
      "\"'Marcella Lee Kuo'\" <marcellaleekuo@mediaone.net>,\n",
      "\"'Tony Tiger Kuo'\" <tkuo@peoplepc.com>,\n",
      "\"'richard_tawney@hp.com'\" <richard_tawney@hp.com>,\n",
      "\"'Teresa Kuo'\" <twena2@yahoo.com>, \"'Amy Moore'\" <Amy.Moore@avocadoit.com>\n",
      "Cc: \"Erinn Hoag \\(E-mail\\)\" <ehoag@emory.edu>,\n",
      "\"Mehome \\(E-mail\\)\" <muttrox@bellsouth.net>\n",
      "In-Reply-To: <2AE36192DC1E24479B195A804DE811B53D6441@at0exc00.autoconnect>\n",
      "MIME-Version: 1.0\n",
      "Content-Type: multipart/alternative; boundary=\"0-1527988968-1015272233=:47503\"\n",
      "\n",
      "--0-1527988968-1015272233=:47503\n",
      "Content-Type: text/plain; charset=us-ascii\n",
      "\n",
      "--0-1527988968-1015272233=:47503\n",
      "Content-Type: text/html; charset=us-ascii\n",
      "\n",
      "--0-1527988968-1015272233=:47503--\n",
      "\n",
      "Once someone gets booted, I will remove the name from \"Tony's Crazy Game\", but that person will remain in the individual one - \"Patriots\".\n",
      "\n",
      "Brad- perhaps there's a way for you to check email w/o looking at who sent it while tallying the votes, then you wouldn't have to disclose who voted for who?\n",
      "\n",
      "\n",
      "\n",
      "\"Goldman, Brad (AT-Atlanta)\" <Brad.Goldman@AutoTrader.com> wrote:\n",
      "\n",
      "Oh. Well then, here are the official emailing instructions.\n",
      "\n",
      "1) Write the email with your pick for who is to be voted off. Make it a\n",
      "legal pick. To be extra safe, add ~30 blank lines to the beginning of your\n",
      "email, so I don't accidently see your pick on preview. I strongly suggest\n",
      "that you don't write the name \"Brad\" in the text of your message, as I'll be\n",
      "pissed off you're voting for me. I'm a nice guy, why would you vote for me,\n",
      "what have I ever done to you?\n",
      "\n",
      "2) Send it to me at muttrox@bellsouth.net I have also cc:d that email\n",
      "address on this email.\n",
      "\n",
      "3) Make the email subject crystal clear so I don't read it by accident. I\n",
      "suggest --\n",
      "Subject:\n",
      "Don't Read! Week SURVIVOR picks: DON'T READ!\n",
      "\n",
      "4) That's it. I will move all the emails to a seperate folder without\n",
      "reading them. When all picks are in, or the deadline has passed, I will\n",
      "read them all and announce the tallys. Since I know who voted for who I\n",
      "will also make that information public even though that's breaking our\n",
      "Survivor model.\n",
      "\n",
      "\n",
      "------------------------\n",
      "Tony and co., I see the deadline is Wednesday. I suggest Tuesday night,\n",
      "because I won't see Wednesday's votes until Wednesday night leaving very\n",
      "little \"reaction time\" for a team after someoen has been voted off. I would\n",
      "send an email to the group on Monday telling them who hasn't voted. For\n",
      "this special case of Week 1 where we are still feeling our way along, I\n",
      "think we shouldn't have a deadline at all.\n",
      "\n",
      "Also -- i hate to say it, but what if someone gets voted off and keeps\n",
      "playing? Does Pete or someone have administrator rights to do the official\n",
      "Yahoo booting?\n",
      "\n",
      "Brad\n",
      "\n",
      "\n",
      "> Brad,\n",
      ">\n",
      "> Yes....people are waiting for you to send them the email to\n",
      "> mail their votes to. I thought it was different than the one\n",
      "> I'm writing to right now. Is it?\n",
      ">\n",
      "> Also ju! st let them know how to SUBJECT: (Eg. Week 1 Voting)\n",
      "> their emails so you know its for the voting. Thanks.\n",
      "\n",
      "\n",
      "\n",
      "_____\n",
      "\n",
      "Do You Yahoo!?\n",
      "Yahoo! Sports - Sign up for Fantasy Baseball\n"
     ]
    }
   ],
   "source": [
    "test = '\"\\'Eileen Wong\\'\" <eileenpwong@yahoo.com>,\\n\"\\'George Chen\\'\" <gchen@infotechsm.com>,\\n\"\\'Soo Hur\\'\" <kyungsoohur@hotmail.com>, \"\\'Jenny Tao\\'\" <jy_tao@yahoo.com>,\\n\"\\'Brad Goldman\\'\" <muttrox@mediaone.net>,\\n\"\\'Marcella Lee Kuo\\'\" <marcellaleekuo@mediaone.net>,\\n\"\\'Tony Tiger Kuo\\'\" <tkuo@peoplepc.com>,\\n\"\\'richard_tawney@hp.com\\'\" <richard_tawney@hp.com>,\\n\"\\'Teresa Kuo\\'\" <twena2@yahoo.com>, \"\\'Amy Moore\\'\" <Amy.Moore@avocadoit.com>\\nCc: \"Erinn Hoag \\\\(E-mail\\\\)\" <ehoag@emory.edu>,\\n\"Mehome \\\\(E-mail\\\\)\" <muttrox@bellsouth.net>\\nIn-Reply-To: <2AE36192DC1E24479B195A804DE811B53D6441@at0exc00.autoconnect>\\nMIME-Version: 1.0\\nContent-Type: multipart/alternative; boundary=\"0-1527988968-1015272233=:47503\"\\n\\n--0-1527988968-1015272233=:47503\\nContent-Type: text/plain; charset=us-ascii\\n\\n--0-1527988968-1015272233=:47503\\nContent-Type: text/html; charset=us-ascii\\n\\n--0-1527988968-1015272233=:47503--\\n\\nOnce someone gets booted, I will remove the name from \"Tony\\'s Crazy Game\", but that person will remain in the individual one - \"Patriots\".\\n\\nBrad- perhaps there\\'s a way for you to check email w/o looking at who sent it while tallying the votes, then you wouldn\\'t have to disclose who voted for who?\\n\\n\\n\\n\"Goldman, Brad (AT-Atlanta)\" <Brad.Goldman@AutoTrader.com> wrote:\\n\\nOh. Well then, here are the official emailing instructions.\\n\\n1) Write the email with your pick for who is to be voted off. Make it a\\nlegal pick. To be extra safe, add ~30 blank lines to the beginning of your\\nemail, so I don\\'t accidently see your pick on preview. I strongly suggest\\nthat you don\\'t write the name \"Brad\" in the text of your message, as I\\'ll be\\npissed off you\\'re voting for me. I\\'m a nice guy, why would you vote for me,\\nwhat have I ever done to you?\\n\\n2) Send it to me at muttrox@bellsouth.net I have also cc:d that email\\naddress on this email.\\n\\n3) Make the email subject crystal clear so I don\\'t read it by accident. I\\nsuggest --\\nSubject:\\nDon\\'t Read! Week SURVIVOR picks: DON\\'T READ!\\n\\n4) That\\'s it. I will move all the emails to a seperate folder without\\nreading them. When all picks are in, or the deadline has passed, I will\\nread them all and announce the tallys. Since I know who voted for who I\\nwill also make that information public even though that\\'s breaking our\\nSurvivor model.\\n\\n\\n------------------------\\nTony and co., I see the deadline is Wednesday. I suggest Tuesday night,\\nbecause I won\\'t see Wednesday\\'s votes until Wednesday night leaving very\\nlittle \"reaction time\" for a team after someoen has been voted off. I would\\nsend an email to the group on Monday telling them who hasn\\'t voted. For\\nthis special case of Week 1 where we are still feeling our way along, I\\nthink we shouldn\\'t have a deadline at all.\\n\\nAlso -- i hate to say it, but what if someone gets voted off and keeps\\nplaying? Does Pete or someone have administrator rights to do the official\\nYahoo booting?\\n\\nBrad\\n\\n\\n> Brad,\\n>\\n> Yes....people are waiting for you to send them the email to\\n> mail their votes to. I thought it was different than the one\\n> I\\'m writing to right now. Is it?\\n>\\n> Also ju! st let them know how to SUBJECT: (Eg. Week 1 Voting)\\n> their emails so you know its for the voting. Thanks.\\n\\n\\n\\n_____\\n\\nDo You Yahoo!?\\nYahoo! Sports - Sign up for Fantasy Baseball'\n",
    "print(test)"
   ]
  },
  {
   "cell_type": "code",
   "execution_count": 32,
   "metadata": {},
   "outputs": [
    {
     "name": "stdout",
     "output_type": "stream",
     "text": [
      "\"Fyi on Venks commitment on Banamex. The next step is to set a conference call with Nicollo and Venk next week. EP is committed to do whatever it takes to close this accoiunt.\\n\\nWe have a lot of support. Let's keep the communcation going. Please use me to escalate any support needed to close this account.\\n--------------------------\\nFortunata Hermoso\\nAvocadoIT, Inc.\\nGlobal Alliance Manager\\nMobile Phone: 408.464.8998\\nemail: fortunata.hermoso@avocadoit.com\"\n",
      "''\n",
      "'Thanks for your initiative. We look to Benamex as a potential \"anchor\" account for our banking industry initiative. Goodwill and great reference from anchor accounts are vital to our strategy for success. Our existing customers such as ETrade and Alaska Airlines have nothing but great things to say about our level of commitment to them. We want to add Benamex to this list as well. Winning this account is even more crucial because of our connection to HP. We hope our success here will provide a model for how to work together to crack big accounts.  I am excited about this opportunity and am happy to offer whatever help I can provide in moving the sales process forward.\\n\\n\\n\\nVenktesh Shukla\\nChief Executive Officer\\n\\nAvocadoIT, Inc.\\n2211 No. First Street, Ste. 200\\nSan Jose, CA  95131\\n\\nDirect:   (408) 562-8010\\nPager:   (888) 763-0797\\nFax:      (408) 562-8108'\n",
      "'From: DEPERALTA,AIREEN (HP-Cupertino,ex1)\\n[mailto:aireen_deperalta@hp.com]'\n",
      "'Cc: KOMORI,ZENKI (HP-Mexico,ex1); ZAMORA,EDUARDO (HP-Mexico,ex1);\\n\\'fortunata hermoso\\'; WATSON,JULIE (HP-Cupertino,ex1); GRATTON,RANDOLPH\\n(HP-UK,unix1)\\nSubject: AvocadoIT\\'s CEO committed to winning Banamex deal\\n\\n\\nHola, Martha and Niccolo,\\n\\nI would like to introduce you to Venk Shukla, CEO of AvocadoIT, one of the\\nE-services Partner Division\\'s (ESPD) mobile partners. We are currently\\nworking with them on creating a qualified worldwide funnel and closing some\\ndeals. I am their Sales Engagement manager incented to making this happen,\\nand I have been in touch with Eduardo and Zenki to provide help in moving\\nthe process along.\\n\\nVenk is making himself available to help win the deal at Banamex against\\nEdify/Unisys. He\\'s aware that Unisys is the incumbent since they implemented\\nBanamex\\'s internet banking solution and may have an advantage. Please feel\\nfree to pull him in when talking to the executives at Banamex so that we can\\nprovide a unified team. His number is 408-562-8010,\\nVenk.Shukla@avocadoit.com. I\\'ve copied Venk on this message.\\n\\nVenk,\\n\\nThe Mexico team is doing their best to win this deal, also. Banamex is one\\nof our \"Must Win\" accounts, so you can be sure that all levels of HP\\nmanagement are going to get involved to win this one. Marta is the GM of\\nFinancial Services and Nicolo is the GM of HPC in Mexico. They will be\\nmeeting with one of the Banamex directors next week. HP Mexico has a good\\nrelationship with Banamex, who is one of our top customers, so this should\\nhelp us in the decision-making.\\n\\nThank you for offering your services and showing your commitment to close\\nBanamex. Fortunata and I will keep you updated as these discussions\\nprogress.\\n\\nLet me know if anyone needs anything else,'\n"
     ]
    }
   ],
   "source": [
    "languages = ['en', 'de', 'es']\n",
    "mail_message = EmailReplyParser(languages=languages,).read(text=df_man.iloc[0]['body_content'])\n",
    "res = [reply.body for reply in mail_message.replies]\n",
    "for r in res:\n",
    "    print(repr(r))"
   ]
  },
  {
   "cell_type": "code",
   "execution_count": 86,
   "metadata": {},
   "outputs": [],
   "source": [
    "def extract_texts(row):\n",
    "    text = row['body_content']\n",
    "    if text is None:\n",
    "        return []  # Handle missing text gracefully\n",
    "    languages = ['en', 'de', 'es']\n",
    "    mail_message = EmailReplyParser(languages=languages).read(text=text)\n",
    "    return [reply.body for reply in mail_message.replies]"
   ]
  },
  {
   "cell_type": "code",
   "execution_count": 87,
   "metadata": {},
   "outputs": [
    {
     "name": "stderr",
     "output_type": "stream",
     "text": [
      "100%|██████████| 938035/938035 [21:03<00:00, 742.40it/s]   \n"
     ]
    }
   ],
   "source": [
    "df_new = df_man.progress_apply(extract_texts,axis=1)"
   ]
  },
  {
   "cell_type": "code",
   "execution_count": 91,
   "metadata": {},
   "outputs": [],
   "source": [
    "df_new = df_new.explode()"
   ]
  },
  {
   "cell_type": "code",
   "execution_count": 93,
   "metadata": {},
   "outputs": [],
   "source": [
    "texts = list(set(df_new.tolist()))"
   ]
  },
  {
   "cell_type": "code",
   "execution_count": 97,
   "metadata": {},
   "outputs": [],
   "source": [
    "texts = [str(x) for x in texts]"
   ]
  },
  {
   "cell_type": "code",
   "execution_count": 98,
   "metadata": {},
   "outputs": [],
   "source": [
    "texts.sort()"
   ]
  },
  {
   "cell_type": "code",
   "execution_count": 100,
   "metadata": {},
   "outputs": [],
   "source": [
    "texts = pd.Series(texts,name='text')"
   ]
  },
  {
   "cell_type": "code",
   "execution_count": 172,
   "metadata": {},
   "outputs": [],
   "source": [
    "df = texts.to_frame()\n",
    "df.to_parquet('../data/processed/05_avocado_parser_01.parquet', engine='pyarrow')"
   ]
  },
  {
   "cell_type": "code",
   "execution_count": null,
   "metadata": {},
   "outputs": [],
   "source": []
  }
 ],
 "metadata": {
  "kernelspec": {
   "display_name": "ma_env",
   "language": "python",
   "name": "python3"
  },
  "language_info": {
   "codemirror_mode": {
    "name": "ipython",
    "version": 3
   },
   "file_extension": ".py",
   "mimetype": "text/x-python",
   "name": "python",
   "nbconvert_exporter": "python",
   "pygments_lexer": "ipython3",
   "version": "3.12.7"
  }
 },
 "nbformat": 4,
 "nbformat_minor": 2
}
