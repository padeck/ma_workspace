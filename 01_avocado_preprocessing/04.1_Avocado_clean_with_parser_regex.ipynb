{
 "cells": [
  {
   "cell_type": "markdown",
   "metadata": {},
   "source": [
    "## Avocado EDA"
   ]
  },
  {
   "cell_type": "code",
   "execution_count": 1,
   "metadata": {},
   "outputs": [],
   "source": [
    "import pandas as pd\n",
    "import re\n",
    "from tqdm import tqdm\n",
    "from mailparser_reply import EmailReplyParser\n",
    "import re\n",
    "\n",
    "\n",
    "tqdm.pandas()  # Register tqdm with pandas"
   ]
  },
  {
   "cell_type": "code",
   "execution_count": 2,
   "metadata": {},
   "outputs": [],
   "source": [
    "df = pd.read_parquet('../data/processed/05_avocado_parser_01.parquet', engine='pyarrow')"
   ]
  },
  {
   "cell_type": "code",
   "execution_count": 3,
   "metadata": {},
   "outputs": [],
   "source": [
    "df = df[~df['text'].str.startswith('Received: from')]"
   ]
  },
  {
   "cell_type": "code",
   "execution_count": 6,
   "metadata": {},
   "outputs": [],
   "source": [
    "df.to_parquet('../data/processed/05_avocado_parser_02.parquet', engine='pyarrow')"
   ]
  },
  {
   "cell_type": "code",
   "execution_count": 4,
   "metadata": {},
   "outputs": [],
   "source": [
    "texts= df['text'].tolist()\n",
    "texts_series = pd.Series(texts,name='text')"
   ]
  },
  {
   "cell_type": "code",
   "execution_count": null,
   "metadata": {},
   "outputs": [],
   "source": [
    "test = texts_series"
   ]
  },
  {
   "cell_type": "code",
   "execution_count": null,
   "metadata": {},
   "outputs": [],
   "source": [
    "test = texts_series[texts_series.str.startswith('From:')]"
   ]
  },
  {
   "cell_type": "code",
   "execution_count": null,
   "metadata": {},
   "outputs": [],
   "source": [
    "clean = [\n",
    "    'From: wecaputo@thoughtworks.com','From: Laurent Bossavit','From: \"Jonathan Rasmusson\"','From: \"Joseph Ottinger\"','From: \"Kathi Frey\"','From: \"LANGE,MANFRED',\n",
    "    'From: timothy.p.shea@accenture.com', 'From:\\tDavid Blyth','From: \"Kenneth Tyler\"','From: \"L. A. Nichols\"','From: \"Larmore, Edward\"','From: \"Leon Daanen\"',\n",
    "    'From: Ryan King', 'From:\\tAmy Moore','From:\\tMarcia Kadanoff\\n','From: \"Kevin McQuillan\"','From: \"MGerard Lee\"',''\n",
    "    'From: Ron Jeffries', 'From:\\tTiffany Sievers','From:\\tTrish Lady\\n',\n",
    "    'From: Ron Crocker', 'From:\\n\\n','From:\\nJared M Cluff','From: \\tBarry Phillips','From: \\tBrandi Bernazzani','From: \\tDave Sulcer','From: \\tDoug Field'\n",
    "    'From: Robert Watkins','From: \\tSrikanth','From:      \\tBarry Phillips','From:   Gerry Purdy','From:   Maybury, Michelle', 'From:  Phil Hedley@MITEL',\n",
    "    'From: Robert C. Martin', 'From: \"Alice Sun\"','From: \"Andy Morris\"','From: \"Arundathi Gunawardena\"','From: \"Betty Chanauza\"','From: \"Bill Sanders\"',''\n",
    "    'From: Robert Birch', 'From: \"Brian C. Robinson\"','From: \"Brian Christopher Robinson\"','From: \"Christian Buss\"','From: \"Cogley, Jonathan\"','From: \"DeAnna Bradley\"',\n",
    "    'From: Rob Jefferies','From: \"Dave Stagner\"', 'From: \"Dave Thomas\"','From: \"Dave Winson\"','From: \"David Blyth\"','From: \"David Corbin\"','From: \"Dinwiddie, George\"'\n",
    "    'From: Rob Diana', 'From \"Dinwiddi', 'From: \"Dossy\"','From: \"Elizabeth Jolissaint\"','From: \"Eric Hodges\"','From: \"Gar','From: \"Girts Kalnins\"','From: \"Glen B. Alleman\"',\n",
    "    'From: Rex_Jolliff@notes.ymp.gov', 'From: \"Glenn Vanderburg\"','From: \"Glew, Andy\"','From: \"Helen Landowski\"','From: \"Hosegood, Chris W (EDU)\"','From: \"Janet Morgan\"',\n",
    "    'From: Randall R Schulz', 'From: \"Jillian Marcus\"','From: \"John Carter\"','From: \"John P Pinnix\"',''\n",
    "    'From: Ralph Johnson',\n",
    "    'From: Rajesh Gupta',\n",
    "    'From: Purna Mohanty',\n",
    "    'From: Phlip <pplumlee@omnigon.com>',\n",
    "    'From: Phlip <phlip_cpp@my-deja.com>',\n",
    "    'From: Philip Moschovas',\n",
    "    'From: Phil lewis',\n",
    "    'From: Phil Goodwin',\n",
    "    'From: Peter Thoeny',\n",
    "    'From: Peter Morrone',\n",
    "    'From: Peter Choe',\n",
    "    'From: Paul Webber',\n",
    "    'From: Paul Michali',\n",
    "    'From: Paolo Perrotta',\n",
    "    'From: PHP Classes',\n",
    "    'From: Om Sonie',\n",
    "    'From: ORLANDO.PEREDA',\n",
    "    'From: Nick Fortescue',\n",
    "    'From: Morris, Chris',\n",
    "    'From: Mor abraham',\n",
    "    'From: Mike Clark',\n",
    "    'From: Mike Bowler',\n",
    "    'From: Mike Birdsall',\n",
    "    'From: Michael Larionov',\n",
    "    'From: Michael Finney',\n",
    "    'From: Michael C. Feathers',\n",
    "    'From: Meshele Ko',\n",
    "    'From: Matt Sweeney',\n",
    "    'From: Martin Wegner',\n",
    "    'From: Mark Bailey',\n",
    "    'From: Marcia Kadanoff',\n",
    "    'From: Liu, Kenneth Albert',\n",
    "    'From: Lianne Thompson',\n",
    "    'From: Lee <lvbis@lvcm.com>',\n",
    "        'From: \"Mark Bradley\"','From: \"Mark Stewart\"','From: \"Mary Connor\"','From: \"Mary J Darr\"','From: \"Matthew Davis\"','From: \"Michael Campbell\"','From: \"Rachel Hutchinson\"',\n",
    "    'From: \"Michael D. Hill\"','From: \"Michael Feathers\"','From: \"Nic Ferrier\"','From: \"Pereira, Brenda\"','From: \"Peter Boisvert\"','From: \"Prashant Sinha\"','From: \"Susan Peterson\"',\n",
    "    'From: \"Ralph Johnson\"','From: \"Randy & Val Coulman\"','From: \"Rhonda K. Holloway (BHAM)\"','From: \"Robert C. Martin\"','From: \"Steve Fox','From: \"Steve Jarvis\"',\n",
    "    'From: \"Robert Sartin\"','From: \"Robert Watkins\"','From: \"Ron Jeffries\"','From: \"Ryan King\"','From: \"Simon Monk\"','From: \"Steve Ropa\"','From: \"Sujoy\"','From: \"Tara Meehan\"',\n",
    "    'From: \"Venk Shukla\"','From: \"Wang Ying (NSL)\"','From: \"Wayne Mark Thomas\"','From: \"Wilhan Martono \"','From: \"William L Leacock\"','From: \"gina\" <gslim@SINGNET.COM.SG',\n",
    "    'From: \"khamis_allam2002\"','From: \"rjedward\"','From: <David.Brady@realimage.com>','From: <Easwara> <Moorthi>','From: <azami@speakeasy.net>','From: <davechaplin@yahoo.co.uk>'\n",
    "    'From: <Jennifer.Childress@midata.com>','From: <Tom_Copeland@realeum.com>','From: <abe_78209@yahoo.com>','From: <acockburn@aol.com>','From: <dmitry@yahoo.com>',\n",
    "    'From: <drawstho@aol.com>','From: <ericheikkila@yahoo.com>','From: <fadrian@qwest.net>','From: <jeff621@yahoo.com>','From: <sommerlad@itopia.ch>','From: <umciggy2000@yahoo.com>',\n",
    "    'From: <kentbeck@csi.com>','From: <mattias@st.se>','From: <nevin@smalltalk.org>','From: <ronjeffries@acm.org>\\n>','From: <russell.walters@firepond.com>',\n",
    "    'From: <wecaputo@thoughtworks.com>','From: Abinov\\nVishen','From: Adam Wildavsky','From: Alan Francis','From: Alliances','From: Amit Sethi',\n",
    "    'From: Anders Bengtsson','From: Andre Cadet@EDF','From: Andrea_Cornish@bdo.co.uk','From: Andrew Hunt','From: Arrizza, John','From: AvocadoIT<avocadoit@emailprovider',\n",
    "    'From: Baker, Bram','From: Barbara C. Coll','From: Barry Phillips','From: Bill McKeeman','From: Blum, Robert','From: Bob Whiteside','From: Brad Appleton',\n",
    "    'From: Brian C. Robinson','From: Brian Christopher Robinson','From: Carl Kinkade','From: Cheng,\\nJeffrey','From: Cheng, Jeffrey','From: Colin Lew','From: Dale Emery',\n",
    "    'From: Darin','From: Dave Fortney','From: Dave James','From: Dave Thomas','From: David Binetti','From: David Corbin','From: David Rosenstrauch','From: David.Brady@realimage.com',\n",
    "    'From: Declan O\\'Reilly','From: Dharmesh Makhijani','From: Dinwiddie, George','From: Dirk Riehle','From: Don Wells','From: Donald F. McLean','From: Doner, Brian',\n",
    "    'From: Dossy','From: Doug Swartz','From: Eric Hodges','From: Farheen','From: Frank McGeough','From: GH','From: Gareth Reeves','From: Gaurav Chawla',\n",
    "    'From: Gee','From: George Richard','From: Glen B. Alleman','From: Gleep','From: Glew, Andy','From: Grant Frederiksen','From: Halil Geries','From: Hayhurst, Lyle',\n",
    "    'From: Hewlett-Packard CSPP Team','From: Hideki Fujita','From: Holden Glova','From: Hoyt, Kurt','From: IMK Web sites','From: Ilja Preu','From: Ivan Tomek',\n",
    "    'From: JUDD John','From: Jaime McNeely','From: Jason Rogers','From: Jeff Miller','From: Jennifer Tingom','From: Jim Murphy','From: John Carter','From: John Schemena',\n",
    "    \"From: Joshua Kerievsky\",'From: Joshua Macy','From: Kartik Jaggi ','From: Keith Nicholas','From: Kenneth Tyler','From: Kerns, Bob','From: Kevin Mukhar',\n",
    "    'From: Kevin Ryan','From: Kevin Smith','From: Kimberley Emmerson','From: LANGE,MANFRED','From: LOPEZ,NANCY','From: Larry Constantine',\n",
    "    'From: Larry O\\'Brien',\n",
    "\n",
    "]\n",
    "clean.sort()"
   ]
  },
  {
   "cell_type": "code",
   "execution_count": null,
   "metadata": {},
   "outputs": [],
   "source": [
    "# RegExes:\n",
    "regexs = [\n",
    "    r'^Content-Type: multipart\\/mixed; boundary=.*?\\n.*?Content-Type:.*?Content-Transfer-Encoding:.*?Content-Disposition.*?Content-Type:.*?Content-Transfer-Encoding:.*?Content-Disposition:.*?Content-Type.*?Content-Disposition.*?JavaMail.*--$',\n",
    "    r'^Content-Type:.*?Content-Transfer-Encoding.*Screen: start.*unrecognized response$',\n",
    "    r'^Content-Type: .*?Content-Transfer-Encoding.*?Error Message:.*?Unexpected flow reached by the server.*?screen=start.*?Server in state:.*',\n",
    "    r'^Content-Type: .*?multipart\\/mixed; boundary=.*?Content-Transfer-Encoding.*?Content-Type.*?Content-Type.*Content-Disposition: attachment.*?htm\\.browser\\.htm\"\\n\\n---.*?--$',\n",
    "]\n",
    "# Combine patterns with `|` to match any of them\n",
    "combined_pattern = '|'.join(regexs)\n",
    "\n",
    "test = test[~test.str.contains(combined_pattern, flags=re.DOTALL | re.MULTILINE | re.IGNORECASE, regex=True)]\n",
    "\n",
    "\n"
   ]
  },
  {
   "cell_type": "code",
   "execution_count": null,
   "metadata": {},
   "outputs": [],
   "source": [
    "for re in regexs:\n",
    "    print(re)"
   ]
  },
  {
   "cell_type": "code",
   "execution_count": null,
   "metadata": {},
   "outputs": [],
   "source": [
    "from_good_list = []\n",
    "\n",
    "for c in clean:\n",
    "    slice = texts_series[texts_series.str.startswith(c)].tolist()\n",
    "    from_good_list += slice"
   ]
  },
  {
   "cell_type": "code",
   "execution_count": null,
   "metadata": {},
   "outputs": [],
   "source": [
    "from_good_list.sort()"
   ]
  },
  {
   "cell_type": "code",
   "execution_count": null,
   "metadata": {},
   "outputs": [],
   "source": [
    "from_good_list"
   ]
  },
  {
   "cell_type": "code",
   "execution_count": null,
   "metadata": {},
   "outputs": [],
   "source": [
    "test = from_good_list"
   ]
  },
  {
   "cell_type": "code",
   "execution_count": null,
   "metadata": {},
   "outputs": [],
   "source": [
    "test = test[test.str.startswith(\"From:\")]"
   ]
  },
  {
   "cell_type": "code",
   "execution_count": null,
   "metadata": {},
   "outputs": [],
   "source": [
    "for t in test:\n",
    "    print(repr(t))"
   ]
  },
  {
   "cell_type": "code",
   "execution_count": null,
   "metadata": {},
   "outputs": [],
   "source": [
    "removal_list = [\n",
    "   'From: Rajesh Gupta [ mailto:ragupta@cisco.com <mailto:ragupta@cisco.com>\\n',\n",
    "   'From: \"Glew, Andy\" <andy.glew@intel.com>\\nMIME-Version: 1.0\\nMailing-List: list extremeprogramming@yahoogroups.com; contact extremeprogramming-owner@yahoogroups.com\\nDelivered-To: mailing list extremeprogramming@yahoogroups.com\\nPrecedence: bulk\\nList-Unsubscribe: <mailto:extremeprogramming-unsubscribe@yahoogroups.com>\\nDate: Wed, 9 May 2001 07:20:43 -0700\\nReply-To: extremeprogramming@yahoogroups.com\\nSubject: RE: [XP] Unit Tests Considered Harmful (was Re: Writing Unit test to existing code)\\nContent-Type: text/plain; charset=US-ASCII\\nContent-Transfer-Encoding: 7bit\\n\\n',\n",
    "   'From: \"Glenn Vanderburg\" <glv@vanderburg.org>\\n',\n",
    "   'From: \"Glen B. Alleman\" <galleman@niwotridge.com>\\n',\n",
    "   'From: \"Girts Kalnins\" <girtsk@latnet.lv>\\n',\n",
    "   'From: \"Garth Somerville\" <garth.somerville@RALEIGH.HCL.COM>\\n\\n\\n\\n',\n",
    "   'From: \"Gareth Reeves\" <reevesg@pobox.com>\\n',\n",
    "   'From: \"Eric Hodges\" <eric.hodges@mongoosetech.com>\\n',\n",
    "   'From: \"DeAnna Bradley\" <DeAnna_Bradley@specialized.com>\\nSender: \"DeAnna Bradley\" <DeAnna_Bradley@specialized.com>\\nReply-To: \"DeAnna Bradley\" <DeAnna_Bradley@specialized.com>\\nReceived: from ccMail by specialized.com (ccMail Link to SMTP R8.52.03.1)\\nid 3177189843; Fri, 07 Sep 2001 08:31:23 -0700\\nImportance: normal\\nPriority: normal\\nSubject: Employee Horoscope\\nMessage-Id: <3177189843@specialized.com>\\nX-MIME-Engine: v0.90\\nMIME-Version: 1.0\\nContent-Type: text/plain; charset=US-ASCII\\nContent-Id: <3177189843-1@specialized.com>\\nContent-Transfer-Encoding: 7bit\\n\\nWHAT KIND OF EMPLOYEE ARE YOU?\\n(click on your star sign below)\\n\\n\\n\\n\\n\\nAries Employee Profile\\n==================\\n\\n',\n",
    "   'From: \"Dossy\" <dossy@panoptic.com>\\n',\n",
    "   'From: \"David Corbin\" <dcorbin@machturtle.com>\\n',\n",
    "   'From: \"David Blyth\" <dblyth@qualcomm.com>\\n',\n",
    "   'From: \"Brian Christopher Robinson\" <brian@dungeoncrawl.org>\\n',\n",
    "   'From: \"Christian Buss\" <CBuss@Forrester.com>\\nMessage-ID: <OFCBEBDE63.A77584DB-ON852569DA.0049BD19@forrester.com>\\nDate: Sat, 20 Jan 2001 12:24:09 -0500\\nX-MIMETrack: MIME-CD by Notes Server on CAMB-MTA01/Forrester Research(Release 5.0.3 |March\\n21, 2000) at 01/20/2001 12:25:58 PM,\\nMIME-CD complete at 01/20/2001 12:25:58 PM,\\nSerialize by Router on CAMB-MTA01/Forrester Research(Release 5.0.3 |March\\n21, 2000) at 01/20/2001 12:25:59 PM\\nMIME-Version: 1.0\\nContent-type: multipart/mixed;\\nBoundary=\"0__=852569DA0049BD208f9e8a93df938690918c852569DA0049BD20\"\\nContent-Disposition: inline\\n\\n--0__=852569DA0049BD208f9e8a93df938690918c852569DA0049BD20\\nContent-type: text/plain; charset=iso-8859-1\\nContent-transfer-encoding: quoted-printable\\n\\n--0__=852569DA0049BD208f9e8a93df938690918c852569DA0049BD20\\nContent-type: application/msword;\\nname=\"=?iso-8859-1?Q?Vendor_Premise_-_Mobile_4.doc?=\"\\nContent-Disposition: attachment; filename=\"=?iso-8859-1?Q?Vendor_Premise_-_Mobile_4.doc?=\"\\nContent-transfer-encoding: base64\\nContent-Description: Microsoft Word 4\\n\\n--0__=852569DA0049BD208f9e8a93df938690918c852569DA0049BD20--\\n\\n',\n",
    "   'From: \"Cogley, Jonathan\" <Jonathan.Cogley@GIANTEAGLE.COM>\\nReply-To: A mailing list about Java Server Pages specification and\\nDate:         Fri, 27 Oct 2000 07:40:14 -0400\\n\\n',\n",
    "   'From: \"Dave Stagner\" <dave@spnz.org>\\n>\\n',\n",
    "   'From: \"Dave Thomas\" <Dave@thomases.com>\\n',\n",
    "   'From: \"Dave Winson\" <davew@unlistednet.com>\\nReply-To: resume-reply@unlistednet.com\\nContent-Type: text/html;\\ncharset=\"iso-8859-1\"\\nContent-Transfer-Encoding: 8BIT\\n\\nFrom: David Winsen - Director - High Tech Executive Search\\n\\n',\n",
    "   '',\n",
    "   'From: \"Brian C. Robinson\" <brian.c.robinson@trw.com>\\n',\n",
    "   'From: \"Bill Sanders\" <bsanders@scribble-count.com>\\n\\n',\n",
    "   \"From:\\tAbinov Vishen [mailto:avishen@etrade.com]\\n<mailto:[mailto:avishen@etrade.com]>\",\n",
    "   \"\"\n",
    "   \"From:\\tAmy Moore\\n[mailto:Amy.Moore@avocadoit.com]\\nSent:\\tThursday, May 09,\\n2002 11:19 AM\",\n",
    "   \"From:\\tAmy Moore\\n[mailto:Amy.Moore@avocadoit.com]\\nSent:\\tThursday, May 09,\\n2002 11:05 AM\\nTo:\\tMatt DiMaria;\\n'Doner, Brian'\\nSubject:\\tRE:\\nAvocadoIT & AMR Research\\nWireless Apps\\n\\n\",\n",
    "   \"From:\\tAmy Moore\\n[mailto:Amy.Moore@avocadoit.com]\\nSent:\\tThursday, May 09,\\n2002 11:19 AM\",\n",
    "   'From:\\tAmy Moore\\n[mailto:Amy.Moore@avocadoit.com]',\n",
    "   \"From:\\tMarcia Kadanoff\\n[mailto:MKadanoff@iq.com]\\nSent:\\tThursday, October\\n07, 1999 8:40 PM\\nTo:\\t'Comley, Ellen';\\n'John Neitzel'\\nSubject:\\tRE: Took a\\nwild & crazy\\nguess\\n\\n\",\n",
    "   \"From:\\tMarcia Kadanoff\\n[mailto:MKadanoff@iq.com]\",\n",
    "   \"From:\\tMarcia Kadanoff\\n[mailto:marciak@avocadoit.com]\",\n",
    "   \"From:\\tTiffany Sievers [mailto:tsievers@bncmortgage.com]\\n<mailto:[mailto:tsievers@bncmortgage.com]>\\nSubject:\\tUnified Americans Will Stand- Friday Sept. 14th\\n\\n\",\n",
    "   \"From:\\tTrish Lady\\n[mailto:tlady@avocadoit.com]\\nSent:\\tTuesday, January 30,\\n2001 8:43 PM\\nTo:\\tTodd Madeiros\\n(E-mail)\\nSubject:\\tRevised\\ncontract attached\\n\\n<< File: eBay_Linking\\nAgreementRL_1.30.01.DOC >> \",\n",
    "   \"From:\\tTrish Lady\\n[mailto:tlady@avocadoit.com]\",\n",
    "   \"From:\\n\\n\",\n",
    "   \"From:\\nJared M Cluff\\n\\nSent:\\nTuesday, September\\n19, 2000 2:33 PM\\n\\nTo:\\nAbinov Vishen\\n\\nCc:\\nSanjay Sharma\\n\\nSubject:\\nAvocadoIT\\ndata metrics\\n\\n\\n\",\n",
    "   \"From: \\tBarry Phillips\\n\\n\",\n",
    "   \"From: \\tBrandi Bernazzani\\nSent:\\tThursday, November 02, 2000 9:06 AM\\nTo:\\tBryan Wiens\\nSubject:\\n\\n\",\n",
    "   \"From: \\tDave Sulcer\\nSent:\\tThursday, February 22, 2001 2:49 PM\\nTo:\\tDeviprasad Malladi\\nCc:\\tTony Raj\\nSubject:\\n\\n\",\n",
    "   'From:\\tDavid Blyth [SMTP:dblyth@qualcomm.com]\\n\\n',\n",
    "   \"From: \\tSrikanth Raghavan\\n\\n\",\n",
    "   \"From:      \\tBarry Phillips\\n:\\tPRESS RELEASES:  AvocadoIT Japan release AND eBANK release\\n\\n\",\n",
    "   \"From:   Gerry Purdy\\n\\nSent:   Monday, June 11, 2001 11:54 AM\\n\\nTo:     \\'surendra.arora@intel.com\\'; \\'davidwei@handspring.com\\'; \\'josh@viafone.com\\'; \\'Ron Silverton (E-mail)\\'; \\'avery.sheffield@openwave.com\\'\\n\\nCc:     \\'jjoblon@cmp.com\\'; \\'Kimberly Boyd\\'; \\'Ruben Simpliciano\\'\\n\\nSubject:        RE: eBusiness Conference and Expo: Targeting Real mCommerce Opportunities  Tuesday, June 12, 1:30 to 2:30 ** Update 1 **\\n\\n\",\n",
    "   'From:   Gerry Purdy\\n\\nSent:   Sunday, June 10, 2001 10:21 AM\\n\\nTo:     \\'surendra.arora@intel.com\\'; \\'davidwei@handspring.com\\'; \\'josh@viafone.com\\'; Ron Silverton (E-mail)\\n\\nCc:     \\'jjoblon@cmp.com\\'; \\'Kimberly Boyd\\'; \\'Ruben Simpliciano\\'\\n\\nSubject:        RE: eBusiness Conference and Expo: Targeting Real mCommerce Opportunities\\n\\nTo:     eBusiness Conference & Expo\\n\\n\"Targeting Real mCommerce Opportunities\"\\n\\nTuesday, June 12th, 2001, 1:30pm-2:30pm\\n\\nSan Jose Convention Center\\n\\n',\n",
    "   \"From:   Gerry Purdy\\n\\nSent:   Tuesday, June 12, 2001 10:42 PM\\n\\nTo:     'surendra.arora@intel.com'; 'davidwei@handspring.com'; 'josh@viafone.com'; 'Ron Silverton (E-mail)'; 'avery.sheffield@openwave.com'; 'JHansen@2roam.com'\\n\\nCc:     'jjoblon@cmp.com'; 'Kimberly Boyd'; 'Ruben Simpliciano'; 'tamie.zrecny@openwave.com'; 'charles@phocaspartners.com'\\n\\nSubject:        Thanks for Participating in the eBusiness Conference and Expo: Targeting Real mCommerce Opportunities\\n\\n\",\n",
    "   'From:   Gerry Purdy\\n\\nSent:   Tuesday, May 29, 2001 8:42 PM\\n\\nTo:     \\'richard.wong@openwave.com\\'; \\'surendra.arora@intel.com\\'; \\'davidwei@handspring.com\\'; \\'josh@viafone.com\\'\\n\\nCc:     \\'jjoblon@cmp.com\\'\\n\\nSubject:        eBusiness Conference and Expo: Targeting Real mCommerce Opportunities\\n\\nTo:     eBusiness Conference & Expo\\n\\n\"Targeting Real mCommerce Opportunities\"\\n\\nTuesday, June 12th, 2001, 1:30pm-2:30pm\\n\\nSan Jose Convention Center\\n\\n',\n",
    "   \"From:  Phil Hedley@MITEL on 10/16/2000 01:27 PM GDT\\n\",\n",
    "   \"From:  Phil Hedley@MITEL on 11/07/2000 11:52 AM GMT\\n\",\n",
    "   \"From:  Phil Hedley@MITEL on 11/13/2000 09:47 AM GMT\\n\",\n",
    "   \"From: Amit Sethi [ mailto:Amit.Sethi@avocadoit.com\\n< mailto:Amit.Sethi@avocadoit.com> ]\\n\\nSent: Thursday, March 14, 2002 2:41 PM\\n\\nTo: 'Kartik Jaggi'; 'Dharmesh Makhijani'; Rajesh Gupta - Work; Amit\\nSethi\\n\\nSubject: RE: Lunch Tomorrow\\n\\n\\n\\n\",\n",
    "   \"From:   Maybury, Michelle (US - San Francisco)\\n\\nSent:   Thursday, January 27, 2000 3:00 PM\\n\\nTo:     'npetrone@avocadoit.com'\\n\\nCc:     'David Chan (Business Fax)'\\n\\nSubject:        February Meeting\\n\\n\",\n",
    "   \"From:  Phil Hedley@MITEL on 11/14/2000 09:24 AM GMT\\n\\n\",\n",
    "   \"From:  Phil Hedley@MITEL on 11/16/2000 09:27 AM GMT\\n\\n\",\n",
    "   \"From:  Phil Hedley@MITEL on 11/16/2000 09:27 AM GMT\\n\\n\",\n",
    "   \"From:  Phil Hedley@MITEL on 11/17/2000 11:16 AM GMT\\n\\n\",\n",
    "   'From: \"Alice Sun\" <asun@avocadoit.com>\\nTo: \"Paiman Komeilizadeh\" <pkomeilizadeh@avocadoit.com>\\nCc: \"Susan Simmons\" <ssimmons@avocadoit.com>\\nSubject: RE: Please Approve, in writting, then forward to Susan Simmons.  dbm\\nDate: 20 Mar 2000 22:39:46 UTC\\nMessage-ID: <19B3B310D020D311B57E00105A9A552416CD72@COFFEE>\\nIn-Reply-To: <19B3B310D020D311B57E00105A9A55241D5925@COFFEE>\\n\\n',\n",
    "   'From: \"Andy Morris\" <AndyMorris@bigfoot.com>\\n>',\n",
    "   'From: \"Arundathi Gunawardena\" <arundathi_gunawardena@hp.com>\\n\\n',\n",
    "   'From: \"Betty Chanauza\" <betty.bauza@avocadoit.com>\\nTo: TCB6491@aol.com\\nSubject: RE: Plans Confirmed?\\nDate: 01 May 2001 22:59:00 UTC\\nMessage-ID: <FC38A9406AA4D411AB62009027DE9DA5837363@HQEXCH01>\\nIn-Reply-To: <ee.14c78210.28204aa7@aol.com>\\n\\n',\n",
    "   \"From: Ron Jeffries [mailto:ronjeffries@acm.org]\\n[snip]\\n\",\n",
    "   \"From: wecaputo@thoughtworks.com\\n\\n\",\n",
    "   \"From: timothy.p.shea@accenture.com [mailto:timothy.p.shea@accenture.com]\\n\\n\",\n",
    "   \"From: wecaputo@thoughtworks.com>\\n>\",\n",
    "   \"From: wecaputo@thoughtworks.com [mailto:wecaputo@thoughtworks.com]\\n[snip]\\n\",\n",
    "   \"From: wecaputo@thoughtworks.com <wecaputo@thoughtworks.com>\\n\",\n",
    "   \"From: Ryan King <rking@caseta.com>\\n\",\n",
    "   \"From: Ron Jeffries [mailto:ronjeffries@acm.org]\\n\\n\",\n",
    "   \"From: Ron Jeffries <ronjeffries@acm.org>\\n\",\n",
    "   \"From: Ron Jeffries [mailto:ronjeffries@acm.org]\\n>\\n\",\n",
    "   \"From: Robert C. Martin <rmartin@objectmentor.com>\\n\",\n",
    "   \"From: Ron Crocker\\n\\n\",\n",
    "   \"From: Rob Jefferies <sigwebsite@yahoo.com>\\n\",\n",
    "   'From: \"Brian C. Robinson\" <brian.c.robinson@trw.com>\\n\\n',\n",
    "   \"From: 'Bill Sanders' <bsanders@scribble-count.com>\\n\\n\",\n",
    "   \"\",\n",
    "]   \n",
    "\n",
    "\n",
    "# Regex patterns\n",
    "\n",
    "for item in removal_list:\n",
    "   #texts = texts.str.replace(item,\"\")\n",
    "    \n",
    "   test = test.str.replace(item,\"\")\n"
   ]
  },
  {
   "cell_type": "code",
   "execution_count": null,
   "metadata": {},
   "outputs": [],
   "source": [
    "df_wo_from = df[~df['text'].str.startswith('From')]"
   ]
  },
  {
   "cell_type": "code",
   "execution_count": null,
   "metadata": {},
   "outputs": [],
   "source": [
    "df_wo_from[df_wo_from['text'].str.contains('from')].iloc[12]['text']"
   ]
  },
  {
   "cell_type": "code",
   "execution_count": null,
   "metadata": {},
   "outputs": [],
   "source": []
  }
 ],
 "metadata": {
  "kernelspec": {
   "display_name": "ma_env",
   "language": "python",
   "name": "python3"
  },
  "language_info": {
   "codemirror_mode": {
    "name": "ipython",
    "version": 3
   },
   "file_extension": ".py",
   "mimetype": "text/x-python",
   "name": "python",
   "nbconvert_exporter": "python",
   "pygments_lexer": "ipython3",
   "version": "3.12.7"
  }
 },
 "nbformat": 4,
 "nbformat_minor": 2
}
