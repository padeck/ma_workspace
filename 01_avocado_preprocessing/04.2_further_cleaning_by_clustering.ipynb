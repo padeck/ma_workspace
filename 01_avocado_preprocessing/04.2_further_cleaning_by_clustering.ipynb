{
 "cells": [
  {
   "cell_type": "code",
   "execution_count": 1,
   "metadata": {},
   "outputs": [],
   "source": [
    "from bertopic import BERTopic\n",
    "from scipy.cluster import hierarchy as sch\n",
    "import pandas as pd\n",
    "import logging\n",
    "from sklearn.metrics.pairwise import cosine_distances\n",
    "from tqdm import tqdm\n",
    "import numpy as np\n",
    "from umap import UMAP\n",
    "from hdbscan import HDBSCAN\n",
    "from sentence_transformers import SentenceTransformer\n",
    "import re\n",
    "import sys\n",
    "sys.path.append('../')\n",
    "from utility.utility_functions import *"
   ]
  },
  {
   "cell_type": "code",
   "execution_count": 2,
   "metadata": {},
   "outputs": [],
   "source": [
    "df = pd.read_parquet('../data/avocado_preprocessing_wip/avocado_parser_25_le_1000.parquet', engine='pyarrow')"
   ]
  },
  {
   "cell_type": "code",
   "execution_count": 3,
   "metadata": {},
   "outputs": [],
   "source": [
    "#df['extracted_text'] = df['extracted_text'].str.replace(r'\\r\\n', ' ', regex=True)\n",
    "docs = list(set(df['text'].tolist()))#[:10000]"
   ]
  },
  {
   "cell_type": "code",
   "execution_count": 4,
   "metadata": {},
   "outputs": [
    {
     "data": {
      "text/plain": [
       "505150"
      ]
     },
     "execution_count": 4,
     "metadata": {},
     "output_type": "execute_result"
    }
   ],
   "source": [
    "len(docs)"
   ]
  },
  {
   "cell_type": "code",
   "execution_count": 5,
   "metadata": {},
   "outputs": [
    {
     "name": "stderr",
     "output_type": "stream",
     "text": [
      "2024-11-30 12:38:20,754 - BERTopic - Embedding - Transforming documents to embeddings.\n"
     ]
    },
    {
     "data": {
      "application/vnd.jupyter.widget-view+json": {
       "model_id": "6e4e5b677b7a4e01b4fed51befedab96",
       "version_major": 2,
       "version_minor": 0
      },
      "text/plain": [
       "Batches:   0%|          | 0/15786 [00:00<?, ?it/s]"
      ]
     },
     "metadata": {},
     "output_type": "display_data"
    },
    {
     "name": "stderr",
     "output_type": "stream",
     "text": [
      "2024-11-30 12:54:41,622 - BERTopic - Embedding - Completed ✓\n",
      "2024-11-30 12:54:41,623 - BERTopic - Dimensionality - Fitting the dimensionality reduction algorithm\n",
      "2024-11-30 13:02:00,142 - BERTopic - Dimensionality - Completed ✓\n",
      "2024-11-30 13:02:00,149 - BERTopic - Cluster - Start clustering the reduced embeddings\n",
      "huggingface/tokenizers: The current process just got forked, after parallelism has already been used. Disabling parallelism to avoid deadlocks...\n",
      "To disable this warning, you can either:\n",
      "\t- Avoid using `tokenizers` before the fork if possible\n",
      "\t- Explicitly set the environment variable TOKENIZERS_PARALLELISM=(true | false)\n",
      "huggingface/tokenizers: The current process just got forked, after parallelism has already been used. Disabling parallelism to avoid deadlocks...\n",
      "To disable this warning, you can either:\n",
      "\t- Avoid using `tokenizers` before the fork if possible\n",
      "\t- Explicitly set the environment variable TOKENIZERS_PARALLELISM=(true | false)\n",
      "huggingface/tokenizers: The current process just got forked, after parallelism has already been used. Disabling parallelism to avoid deadlocks...\n",
      "To disable this warning, you can either:\n",
      "\t- Avoid using `tokenizers` before the fork if possible\n",
      "\t- Explicitly set the environment variable TOKENIZERS_PARALLELISM=(true | false)\n",
      "huggingface/tokenizers: The current process just got forked, after parallelism has already been used. Disabling parallelism to avoid deadlocks...\n",
      "To disable this warning, you can either:\n",
      "\t- Avoid using `tokenizers` before the fork if possible\n",
      "\t- Explicitly set the environment variable TOKENIZERS_PARALLELISM=(true | false)\n",
      "huggingface/tokenizers: The current process just got forked, after parallelism has already been used. Disabling parallelism to avoid deadlocks...\n",
      "To disable this warning, you can either:\n",
      "\t- Avoid using `tokenizers` before the fork if possible\n",
      "\t- Explicitly set the environment variable TOKENIZERS_PARALLELISM=(true | false)\n",
      "2024-11-30 13:03:07,488 - BERTopic - Cluster - Completed ✓\n",
      "2024-11-30 13:03:07,542 - BERTopic - Representation - Extracting topics from clusters using representation models.\n",
      "2024-11-30 13:03:15,956 - BERTopic - Representation - Completed ✓\n"
     ]
    }
   ],
   "source": [
    "# Initialize UMAP with a fixed random state\n",
    "random_state = 42 # Other seeds sometimes caused negative values in the distanace matrix\n",
    "\n",
    "# Set global random seeds\n",
    "np.random.seed(random_state)\n",
    "\n",
    "embedding_model = SentenceTransformer(\"all-MiniLM-L6-v2\")\n",
    "umap_model = UMAP(n_neighbors=15, n_components=5, random_state=random_state)\n",
    "hdbscan_model = HDBSCAN(min_cluster_size=100, prediction_data=True,)\n",
    "\n",
    "topic_model = BERTopic(verbose=True, umap_model=umap_model, hdbscan_model=hdbscan_model, embedding_model=embedding_model)\n",
    "topics, probs = topic_model.fit_transform(docs)"
   ]
  },
  {
   "cell_type": "code",
   "execution_count": 6,
   "metadata": {},
   "outputs": [
    {
     "name": "stderr",
     "output_type": "stream",
     "text": [
      "100%|██████████| 458/458 [00:03<00:00, 150.79it/s]\n"
     ]
    }
   ],
   "source": [
    "hierarchical_topics = topic_model.hierarchical_topics(docs)"
   ]
  },
  {
   "cell_type": "code",
   "execution_count": 7,
   "metadata": {},
   "outputs": [
    {
     "data": {
      "application/vnd.plotly.v1+json": {
       "config": {
        "plotlyServerURL": "https://plot.ly"
       },
       "data": [
        {
         "hoverinfo": "text",
         "marker": {
          "color": "rgb(61,153,112)"
         },
         "mode": "lines",
         "text": [
          "2001_date_0800_0700_17",
          "",
          "",
          "2001_bugzilla_nobody_sender_0500"
         ],
         "type": "scatter",
         "x": [
          0,
          0.4750986412122752,
          0.4750986412122752,
          0
         ],
         "xaxis": "x",
         "y": [
          -15,
          -15,
          -25,
          -25
         ],
         "yaxis": "y"
        },
        {
         "hoverinfo": "text",
         "marker": {
          "color": "rgb(61,153,112)"
         },
         "mode": "lines",
         "text": [
          "2001_bugzilla_nobody_0500_sender",
          "",
          "",
          "bugs_opened_verified_mass_resolved"
         ],
         "type": "scatter",
         "x": [
          0.4750986412122752,
          0.8125388544497134,
          0.8125388544497134,
          0
         ],
         "xaxis": "x",
         "y": [
          -20,
          -20,
          -35,
          -35
         ],
         "yaxis": "y"
        },
        {
         "hoverinfo": "text",
         "marker": {
          "color": "rgb(61,153,112)"
         },
         "mode": "lines",
         "text": [
          "butters_edt_end_aug_2001",
          "",
          "",
          "verified_2000_bugs_opened_mass"
         ],
         "type": "scatter",
         "x": [
          0,
          0.8765933524560617,
          0.8765933524560617,
          0.8125388544497134
         ],
         "xaxis": "x",
         "y": [
          -5,
          -5,
          -27.5,
          -27.5
         ],
         "yaxis": "y"
        },
        {
         "hoverinfo": "text",
         "marker": {
          "color": "rgb(255,65,54)"
         },
         "mode": "lines",
         "text": [
          "windows_nt_rel_2_version_os",
          "",
          "",
          "rel_2_version_os_resolution_severity"
         ],
         "type": "scatter",
         "x": [
          0,
          0.10442796133120524,
          0.10442796133120524,
          0
         ],
         "xaxis": "x",
         "y": [
          -85,
          -85,
          -95,
          -95
         ],
         "yaxis": "y"
        },
        {
         "hoverinfo": "text",
         "marker": {
          "color": "rgb(255,65,54)"
         },
         "mode": "lines",
         "text": [
          "rel_2_version_os_resolution_platform",
          "",
          "",
          "rel_2_version_os_resolution_severity"
         ],
         "type": "scatter",
         "x": [
          0,
          0.12394449787451291,
          0.12394449787451291,
          0.10442796133120524
         ],
         "xaxis": "x",
         "y": [
          -75,
          -75,
          -90,
          -90
         ],
         "yaxis": "y"
        },
        {
         "hoverinfo": "text",
         "marker": {
          "color": "rgb(255,65,54)"
         },
         "mode": "lines",
         "text": [
          "none_version_os_resolution_platform",
          "",
          "",
          "rel_2_version_os_resolution_severity"
         ],
         "type": "scatter",
         "x": [
          0,
          0.26166707573868475,
          0.26166707573868475,
          0.12394449787451291
         ],
         "xaxis": "x",
         "y": [
          -65,
          -65,
          -82.5,
          -82.5
         ],
         "yaxis": "y"
        },
        {
         "hoverinfo": "text",
         "marker": {
          "color": "rgb(255,65,54)"
         },
         "mode": "lines",
         "text": [
          "p2_version_resolution_severity_os",
          "",
          "",
          "version_os_resolution_severity_platform"
         ],
         "type": "scatter",
         "x": [
          0,
          0.4037455839008508,
          0.4037455839008508,
          0.26166707573868475
         ],
         "xaxis": "x",
         "y": [
          -55,
          -55,
          -73.75,
          -73.75
         ],
         "yaxis": "y"
        },
        {
         "hoverinfo": "text",
         "marker": {
          "color": "rgb(255,65,54)"
         },
         "mode": "lines",
         "text": [
          "mobilesiebeldeveloper_2003_targetcust_2002_yoza",
          "",
          "",
          "version_os_resolution_severity_platform"
         ],
         "type": "scatter",
         "x": [
          0,
          0.7758193273320281,
          0.7758193273320281,
          0.4037455839008508
         ],
         "xaxis": "x",
         "y": [
          -45,
          -45,
          -64.375,
          -64.375
         ],
         "yaxis": "y"
        },
        {
         "hoverinfo": "text",
         "marker": {
          "color": "rgb(255,65,54)"
         },
         "mode": "lines",
         "text": [
          "assignedto_reportedby_component_priority_shadow",
          "",
          "",
          "audio_flow_designer_component_reportedby"
         ],
         "type": "scatter",
         "x": [
          0,
          0.20388866940221861,
          0.20388866940221861,
          0
         ],
         "xaxis": "x",
         "y": [
          -115,
          -115,
          -125,
          -125
         ],
         "yaxis": "y"
        },
        {
         "hoverinfo": "text",
         "marker": {
          "color": "rgb(255,65,54)"
         },
         "mode": "lines",
         "text": [
          "webbyphone_shadow_reportedby_assignedto_component",
          "",
          "",
          "assignedto_reportedby_component_priority_designer"
         ],
         "type": "scatter",
         "x": [
          0,
          0.2523743187322826,
          0.2523743187322826,
          0.20388866940221861
         ],
         "xaxis": "x",
         "y": [
          -105,
          -105,
          -120,
          -120
         ],
         "yaxis": "y"
        },
        {
         "hoverinfo": "text",
         "marker": {
          "color": "rgb(255,65,54)"
         },
         "mode": "lines",
         "text": [
          "sep_2000_simulator_rpalanisamy_smadiraju",
          "",
          "",
          "scroll_vertical_sep_2363_2000"
         ],
         "type": "scatter",
         "x": [
          0,
          0.4673942435113727,
          0.4673942435113727,
          0
         ],
         "xaxis": "x",
         "y": [
          -135,
          -135,
          -145,
          -145
         ],
         "yaxis": "y"
        },
        {
         "hoverinfo": "text",
         "marker": {
          "color": "rgb(255,65,54)"
         },
         "mode": "lines",
         "text": [
          "assignedto_reportedby_component_shadow_priority",
          "",
          "",
          "sep_scroll_vertical_2000_rpalanisamy"
         ],
         "type": "scatter",
         "x": [
          0.2523743187322826,
          0.7402415996572544,
          0.7402415996572544,
          0.4673942435113727
         ],
         "xaxis": "x",
         "y": [
          -112.5,
          -112.5,
          -140,
          -140
         ],
         "yaxis": "y"
        },
        {
         "hoverinfo": "text",
         "marker": {
          "color": "rgb(255,65,54)"
         },
         "mode": "lines",
         "text": [
          "version_resolution_os_severity_shadow",
          "",
          "",
          "assignedto_reportedby_component_shadow_priority"
         ],
         "type": "scatter",
         "x": [
          0.7758193273320281,
          0.8702687858110572,
          0.8702687858110572,
          0.7402415996572544
         ],
         "xaxis": "x",
         "y": [
          -54.6875,
          -54.6875,
          -126.25,
          -126.25
         ],
         "yaxis": "y"
        },
        {
         "hoverinfo": "text",
         "marker": {
          "color": "rgb(0,116,217)"
         },
         "mode": "lines",
         "text": [
          "verified_2000_bugs_opened_2001",
          "",
          "",
          "shadow_severity_version_component_2000"
         ],
         "type": "scatter",
         "x": [
          0.8765933524560617,
          1.0517802552079698,
          1.0517802552079698,
          0.8702687858110572
         ],
         "xaxis": "x",
         "y": [
          -16.25,
          -16.25,
          -90.46875,
          -90.46875
         ],
         "yaxis": "y"
        },
        {
         "hoverinfo": "text",
         "marker": {
          "color": "rgb(35,205,205)"
         },
         "mode": "lines",
         "text": [
          "attachment_created_id_bugzilla_additional",
          "",
          "",
          "bugzilla_additional_comments_show_bug_cgi"
         ],
         "type": "scatter",
         "x": [
          0,
          0.34479333744058827,
          0.34479333744058827,
          0
         ],
         "xaxis": "x",
         "y": [
          -155,
          -155,
          -165,
          -165
         ],
         "yaxis": "y"
        },
        {
         "hoverinfo": "text",
         "marker": {
          "color": "rgb(35,205,205)"
         },
         "mode": "lines",
         "text": [
          "duplicate_marked_bug_bugzilla_additional",
          "",
          "",
          "duplicate_marked_value_old_bugzilla"
         ],
         "type": "scatter",
         "x": [
          0,
          0.22383809807592714,
          0.22383809807592714,
          0
         ],
         "xaxis": "x",
         "y": [
          -175,
          -175,
          -185,
          -185
         ],
         "yaxis": "y"
        },
        {
         "hoverinfo": "text",
         "marker": {
          "color": "rgb(35,205,205)"
         },
         "mode": "lines",
         "text": [
          "id_bugzilla_attachment_additional_comments",
          "",
          "",
          "duplicate_marked_bug_bugzilla_value"
         ],
         "type": "scatter",
         "x": [
          0.34479333744058827,
          0.8656807075133782,
          0.8656807075133782,
          0.22383809807592714
         ],
         "xaxis": "x",
         "y": [
          -160,
          -160,
          -180,
          -180
         ],
         "yaxis": "y"
        },
        {
         "hoverinfo": "text",
         "marker": {
          "color": "rgb(133,20,75)"
         },
         "mode": "lines",
         "text": [
          "closed_palanisamy_ravikumar_verified_value",
          "",
          "",
          "palanisamy_closed_ravikumar_value_verified"
         ],
         "type": "scatter",
         "x": [
          0,
          0.019222590865421885,
          0.019222590865421885,
          0
         ],
         "xaxis": "x",
         "y": [
          -195,
          -195,
          -205,
          -205
         ],
         "yaxis": "y"
        },
        {
         "hoverinfo": "text",
         "marker": {
          "color": "rgb(133,20,75)"
         },
         "mode": "lines",
         "text": [
          "value_old_changed_bugzilla_show_bug",
          "",
          "",
          "value_emds_old_changed_bugzilla"
         ],
         "type": "scatter",
         "x": [
          0,
          0.17129614554090955,
          0.17129614554090955,
          0
         ],
         "xaxis": "x",
         "y": [
          -225,
          -225,
          -235,
          -235
         ],
         "yaxis": "y"
        },
        {
         "hoverinfo": "text",
         "marker": {
          "color": "rgb(133,20,75)"
         },
         "mode": "lines",
         "text": [
          "value_nagy_verified_resolved_nora",
          "",
          "",
          "value_old_changed_bugzilla_show_bug"
         ],
         "type": "scatter",
         "x": [
          0,
          0.454919240216085,
          0.454919240216085,
          0.17129614554090955
         ],
         "xaxis": "x",
         "y": [
          -215,
          -215,
          -230,
          -230
         ],
         "yaxis": "y"
        },
        {
         "hoverinfo": "text",
         "marker": {
          "color": "rgb(133,20,75)"
         },
         "mode": "lines",
         "text": [
          "closed_palanisamy_ravikumar_value_verified",
          "",
          "",
          "value_old_changed_bugzilla_show_bug"
         ],
         "type": "scatter",
         "x": [
          0.019222590865421885,
          0.5410774931319431,
          0.5410774931319431,
          0.454919240216085
         ],
         "xaxis": "x",
         "y": [
          -200,
          -200,
          -222.5,
          -222.5
         ],
         "yaxis": "y"
        },
        {
         "hoverinfo": "text",
         "marker": {
          "color": "rgb(133,20,75)"
         },
         "mode": "lines",
         "text": [
          "value_old_bugzilla_changed_show_bug",
          "",
          "",
          "pachipala_ravi_assigned_value_2002"
         ],
         "type": "scatter",
         "x": [
          0.5410774931319431,
          0.7512846247277783,
          0.7512846247277783,
          0
         ],
         "xaxis": "x",
         "y": [
          -211.25,
          -211.25,
          -245,
          -245
         ],
         "yaxis": "y"
        },
        {
         "hoverinfo": "text",
         "marker": {
          "color": "rgb(0,116,217)"
         },
         "mode": "lines",
         "text": [
          "bugzilla_id_show_bug_additional_cgi",
          "",
          "",
          "value_old_bugzilla_changed_show_bug"
         ],
         "type": "scatter",
         "x": [
          0.8656807075133782,
          1.028250575356157,
          1.028250575356157,
          0.7512846247277783
         ],
         "xaxis": "x",
         "y": [
          -170,
          -170,
          -228.125,
          -228.125
         ],
         "yaxis": "y"
        },
        {
         "hoverinfo": "text",
         "marker": {
          "color": "rgb(0,116,217)"
         },
         "mode": "lines",
         "text": [
          "shadow_2000_severity_version_resolution",
          "",
          "",
          "value_bugzilla_old_show_bug_cgi"
         ],
         "type": "scatter",
         "x": [
          1.0517802552079698,
          2.1779123780149283,
          2.1779123780149283,
          1.028250575356157
         ],
         "xaxis": "x",
         "y": [
          -53.359375,
          -53.359375,
          -199.0625,
          -199.0625
         ],
         "yaxis": "y"
        },
        {
         "hoverinfo": "text",
         "marker": {
          "color": "rgb(255,220,0)"
         },
         "mode": "lines",
         "text": [
          "wilhan_om_jagrati_thanks_srik",
          "",
          "",
          "build_wilhan_builds_srik_start"
         ],
         "type": "scatter",
         "x": [
          0,
          0.43375073966983624,
          0.43375073966983624,
          0
         ],
         "xaxis": "x",
         "y": [
          -255,
          -255,
          -265,
          -265
         ],
         "yaxis": "y"
        },
        {
         "hoverinfo": "text",
         "marker": {
          "color": "rgb(40,35,35)"
         },
         "mode": "lines",
         "text": [
          "6ga_neon_cm_fullinstaller_2003_build",
          "",
          "",
          "cm_build_5ga_daily_wilhan"
         ],
         "type": "scatter",
         "x": [
          0,
          0.457092108030961,
          0.457092108030961,
          0
         ],
         "xaxis": "x",
         "y": [
          -275,
          -275,
          -285,
          -285
         ],
         "yaxis": "y"
        },
        {
         "hoverinfo": "text",
         "marker": {
          "color": "rgb(40,35,35)"
         },
         "mode": "lines",
         "text": [
          "cm_6ga_neon_fullinstaller_build_2003",
          "",
          "",
          "germanium_palladium_cm_fullinstaller_titanium"
         ],
         "type": "scatter",
         "x": [
          0.457092108030961,
          0.684044043904567,
          0.684044043904567,
          0
         ],
         "xaxis": "x",
         "y": [
          -280,
          -280,
          -295,
          -295
         ],
         "yaxis": "y"
        },
        {
         "hoverinfo": "text",
         "marker": {
          "color": "rgb(0,116,217)"
         },
         "mode": "lines",
         "text": [
          "wilhan_build_om_builds_srik",
          "",
          "",
          "cm_germanium_palladium_fullinstaller_build"
         ],
         "type": "scatter",
         "x": [
          0.43375073966983624,
          1.1426369869608515,
          1.1426369869608515,
          0.684044043904567
         ],
         "xaxis": "x",
         "y": [
          -260,
          -260,
          -287.5,
          -287.5
         ],
         "yaxis": "y"
        },
        {
         "hoverinfo": "text",
         "marker": {
          "color": "rgb(61,153,112)"
         },
         "mode": "lines",
         "text": [
          "osa_adapter_osaconfig_packet_xml",
          "",
          "",
          "sync_contact_insert_siebel_parent"
         ],
         "type": "scatter",
         "x": [
          0,
          0.6667041245322772,
          0.6667041245322772,
          0
         ],
         "xaxis": "x",
         "y": [
          -325,
          -325,
          -335,
          -335
         ],
         "yaxis": "y"
        },
        {
         "hoverinfo": "text",
         "marker": {
          "color": "rgb(61,153,112)"
         },
         "mode": "lines",
         "text": [
          "oca_offline_sources_ocaconfig_osa",
          "",
          "",
          "osa_adapter_sync_contact_siebel"
         ],
         "type": "scatter",
         "x": [
          0,
          0.7390513405963699,
          0.7390513405963699,
          0.6667041245322772
         ],
         "xaxis": "x",
         "y": [
          -315,
          -315,
          -330,
          -330
         ],
         "yaxis": "y"
        },
        {
         "hoverinfo": "text",
         "marker": {
          "color": "rgb(61,153,112)"
         },
         "mode": "lines",
         "text": [
          "domino_adapter_dominoadapter_jdbc_ravi",
          "",
          "",
          "oca_offline_osa_sources_sync"
         ],
         "type": "scatter",
         "x": [
          0,
          0.8606118943374292,
          0.8606118943374292,
          0.7390513405963699
         ],
         "xaxis": "x",
         "y": [
          -305,
          -305,
          -322.5,
          -322.5
         ],
         "yaxis": "y"
        },
        {
         "hoverinfo": "text",
         "marker": {
          "color": "rgb(255,65,54)"
         },
         "mode": "lines",
         "text": [
          "siebel_ittoolbox_newbie_openitx_andy",
          "",
          "",
          "siebel_aesblsrv1_michael_server_siebel5"
         ],
         "type": "scatter",
         "x": [
          0,
          0.348036833154337,
          0.348036833154337,
          0
         ],
         "xaxis": "x",
         "y": [
          -345,
          -345,
          -355,
          -355
         ],
         "yaxis": "y"
        },
        {
         "hoverinfo": "text",
         "marker": {
          "color": "rgb(35,205,205)"
         },
         "mode": "lines",
         "text": [
          "oracle_database_sql_hung_8i",
          "",
          "",
          "jdbc_driver_oracle_odbc_drivers"
         ],
         "type": "scatter",
         "x": [
          0,
          0.6341572502457956,
          0.6341572502457956,
          0
         ],
         "xaxis": "x",
         "y": [
          -365,
          -365,
          -375,
          -375
         ],
         "yaxis": "y"
        },
        {
         "hoverinfo": "text",
         "marker": {
          "color": "rgb(0,116,217)"
         },
         "mode": "lines",
         "text": [
          "siebel_aesblsrv1_michael_server_siebel5",
          "",
          "",
          "oracle_jdbc_driver_database_sql"
         ],
         "type": "scatter",
         "x": [
          0.348036833154337,
          1.097196296952977,
          1.097196296952977,
          0.6341572502457956
         ],
         "xaxis": "x",
         "y": [
          -350,
          -350,
          -370,
          -370
         ],
         "yaxis": "y"
        },
        {
         "hoverinfo": "text",
         "marker": {
          "color": "rgb(0,116,217)"
         },
         "mode": "lines",
         "text": [
          "oca_offline_osa_sources_adapter",
          "",
          "",
          "siebel_oracle_jdbc_database_driver"
         ],
         "type": "scatter",
         "x": [
          0.8606118943374292,
          1.162239924448314,
          1.162239924448314,
          1.097196296952977
         ],
         "xaxis": "x",
         "y": [
          -313.75,
          -313.75,
          -360,
          -360
         ],
         "yaxis": "y"
        },
        {
         "hoverinfo": "text",
         "marker": {
          "color": "rgb(61,153,112)"
         },
         "mode": "lines",
         "text": [
          "ant_jar_build_jars_nightlytest",
          "",
          "",
          "sources_jar_classes_mobilestudio_installer"
         ],
         "type": "scatter",
         "x": [
          0,
          0.5963052632168819,
          0.5963052632168819,
          0
         ],
         "xaxis": "x",
         "y": [
          -405,
          -405,
          -415,
          -415
         ],
         "yaxis": "y"
        },
        {
         "hoverinfo": "text",
         "marker": {
          "color": "rgb(61,153,112)"
         },
         "mode": "lines",
         "text": [
          "jar_ant_classes_sources_build",
          "",
          "",
          "jre_jbuilder_jdk_visualcafe_jar"
         ],
         "type": "scatter",
         "x": [
          0.5963052632168819,
          0.7319532778899223,
          0.7319532778899223,
          0
         ],
         "xaxis": "x",
         "y": [
          -410,
          -410,
          -425,
          -425
         ],
         "yaxis": "y"
        },
        {
         "hoverinfo": "text",
         "marker": {
          "color": "rgb(61,153,112)"
         },
         "mode": "lines",
         "text": [
          "bat_classpath_batch_build_class",
          "",
          "",
          "jar_ant_jre_classes_jbuilder"
         ],
         "type": "scatter",
         "x": [
          0,
          0.7858903840318069,
          0.7858903840318069,
          0.7319532778899223
         ],
         "xaxis": "x",
         "y": [
          -395,
          -395,
          -417.5,
          -417.5
         ],
         "yaxis": "y"
        },
        {
         "hoverinfo": "text",
         "marker": {
          "color": "rgb(61,153,112)"
         },
         "mode": "lines",
         "text": [
          "weblogic_bea_server_build_xml",
          "",
          "",
          "jar_ant_classes_bat_jre"
         ],
         "type": "scatter",
         "x": [
          0,
          0.8375802090856831,
          0.8375802090856831,
          0.7858903840318069
         ],
         "xaxis": "x",
         "y": [
          -385,
          -385,
          -406.25,
          -406.25
         ],
         "yaxis": "y"
        },
        {
         "hoverinfo": "text",
         "marker": {
          "color": "rgb(0,116,217)"
         },
         "mode": "lines",
         "text": [
          "oca_siebel_oracle_jdbc_offline",
          "",
          "",
          "weblogic_jar_ant_classes_build"
         ],
         "type": "scatter",
         "x": [
          1.162239924448314,
          1.2259649147734768,
          1.2259649147734768,
          0.8375802090856831
         ],
         "xaxis": "x",
         "y": [
          -336.875,
          -336.875,
          -395.625,
          -395.625
         ],
         "yaxis": "y"
        },
        {
         "hoverinfo": "text",
         "marker": {
          "color": "rgb(255,65,54)"
         },
         "mode": "lines",
         "text": [
          "vss_files_checked_updated_folder",
          "",
          "",
          "applicationsengineering_webbyphone_vss_hdml_pda"
         ],
         "type": "scatter",
         "x": [
          0,
          0.6205784430382223,
          0.6205784430382223,
          0
         ],
         "xaxis": "x",
         "y": [
          -435,
          -435,
          -445,
          -445
         ],
         "yaxis": "y"
        },
        {
         "hoverinfo": "text",
         "marker": {
          "color": "rgb(35,205,205)"
         },
         "mode": "lines",
         "text": [
          "krishna_ravi_prasad_cheers_look",
          "",
          "",
          "java_screensession_reviewed_fix_checked"
         ],
         "type": "scatter",
         "x": [
          0,
          0.8530752904228154,
          0.8530752904228154,
          0
         ],
         "xaxis": "x",
         "y": [
          -455,
          -455,
          -465,
          -465
         ],
         "yaxis": "y"
        },
        {
         "hoverinfo": "text",
         "marker": {
          "color": "rgb(133,20,75)"
         },
         "mode": "lines",
         "text": [
          "test_tests_testing_qa_cases",
          "",
          "",
          "sessions_concurrent_memory_stress_emas"
         ],
         "type": "scatter",
         "x": [
          0,
          0.6268195032342168,
          0.6268195032342168,
          0
         ],
         "xaxis": "x",
         "y": [
          -485,
          -485,
          -495,
          -495
         ],
         "yaxis": "y"
        },
        {
         "hoverinfo": "text",
         "marker": {
          "color": "rgb(133,20,75)"
         },
         "mode": "lines",
         "text": [
          "test_sessions_tests_testing_concurrent",
          "",
          "",
          "solaris_cpu_nt_machine_box"
         ],
         "type": "scatter",
         "x": [
          0.6268195032342168,
          0.7685809465727923,
          0.7685809465727923,
          0
         ],
         "xaxis": "x",
         "y": [
          -490,
          -490,
          -505,
          -505
         ],
         "yaxis": "y"
        },
        {
         "hoverinfo": "text",
         "marker": {
          "color": "rgb(133,20,75)"
         },
         "mode": "lines",
         "text": [
          "canon_canons_failures_release2_output",
          "",
          "",
          "test_sessions_solaris_tests_testing"
         ],
         "type": "scatter",
         "x": [
          0,
          0.9097645445997581,
          0.9097645445997581,
          0.7685809465727923
         ],
         "xaxis": "x",
         "y": [
          -475,
          -475,
          -497.5,
          -497.5
         ],
         "yaxis": "y"
        },
        {
         "hoverinfo": "text",
         "marker": {
          "color": "rgb(133,20,75)"
         },
         "mode": "lines",
         "text": [
          "tool_admin_deployment_migration_migrating",
          "",
          "",
          "srik_prasad_rajeev_ravi_om"
         ],
         "type": "scatter",
         "x": [
          0,
          0.7867748824659494,
          0.7867748824659494,
          0
         ],
         "xaxis": "x",
         "y": [
          -515,
          -515,
          -525,
          -525
         ],
         "yaxis": "y"
        },
        {
         "hoverinfo": "text",
         "marker": {
          "color": "rgb(133,20,75)"
         },
         "mode": "lines",
         "text": [
          "srik_prasad_rajeev_ravi_om",
          "",
          "",
          "installer_install_installshield_installation_praveen"
         ],
         "type": "scatter",
         "x": [
          0.7867748824659494,
          0.8024278088981646,
          0.8024278088981646,
          0
         ],
         "xaxis": "x",
         "y": [
          -520,
          -520,
          -535,
          -535
         ],
         "yaxis": "y"
        },
        {
         "hoverinfo": "text",
         "marker": {
          "color": "rgb(133,20,75)"
         },
         "mode": "lines",
         "text": [
          "japanese_i18n_english_translation_miyuki",
          "",
          "",
          "emds_emas_srik_bugs_guide"
         ],
         "type": "scatter",
         "x": [
          0,
          0.6957312713713882,
          0.6957312713713882,
          0
         ],
         "xaxis": "x",
         "y": [
          -545,
          -545,
          -555,
          -555
         ],
         "yaxis": "y"
        },
        {
         "hoverinfo": "text",
         "marker": {
          "color": "rgb(133,20,75)"
         },
         "mode": "lines",
         "text": [
          "japanese_emds_emas_i18n_english",
          "",
          "",
          "screen_step_loop_anchor_screenprompt"
         ],
         "type": "scatter",
         "x": [
          0.6957312713713882,
          0.7791285878834636,
          0.7791285878834636,
          0
         ],
         "xaxis": "x",
         "y": [
          -550,
          -550,
          -565,
          -565
         ],
         "yaxis": "y"
        },
        {
         "hoverinfo": "text",
         "marker": {
          "color": "rgb(133,20,75)"
         },
         "mode": "lines",
         "text": [
          "srik_prasad_installer_rajeev_ravi",
          "",
          "",
          "emds_japanese_emas_i18n_english"
         ],
         "type": "scatter",
         "x": [
          0.8024278088981646,
          0.8926884279688991,
          0.8926884279688991,
          0.7791285878834636
         ],
         "xaxis": "x",
         "y": [
          -527.5,
          -527.5,
          -557.5,
          -557.5
         ],
         "yaxis": "y"
        },
        {
         "hoverinfo": "text",
         "marker": {
          "color": "rgb(133,20,75)"
         },
         "mode": "lines",
         "text": [
          "test_sessions_solaris_tests_testing",
          "",
          "",
          "emds_japanese_srik_emas_i18n"
         ],
         "type": "scatter",
         "x": [
          0.9097645445997581,
          0.95931622521272,
          0.95931622521272,
          0.8926884279688991
         ],
         "xaxis": "x",
         "y": [
          -486.25,
          -486.25,
          -542.5,
          -542.5
         ],
         "yaxis": "y"
        },
        {
         "hoverinfo": "text",
         "marker": {
          "color": "rgb(255,220,0)"
         },
         "mode": "lines",
         "text": [
          "frames_frameset_javascript_framesets_script",
          "",
          "",
          "ert_ecs_8006_tracy_guide"
         ],
         "type": "scatter",
         "x": [
          0,
          0.8090878422394511,
          0.8090878422394511,
          0
         ],
         "xaxis": "x",
         "y": [
          -575,
          -575,
          -585,
          -585
         ],
         "yaxis": "y"
        },
        {
         "hoverinfo": "text",
         "marker": {
          "color": "rgb(255,220,0)"
         },
         "mode": "lines",
         "text": [
          "ie_ie5_install_machine_problem",
          "",
          "",
          "pocketpc_pocket_pc_ce_device"
         ],
         "type": "scatter",
         "x": [
          0,
          0.8144072462533378,
          0.8144072462533378,
          0
         ],
         "xaxis": "x",
         "y": [
          -595,
          -595,
          -605,
          -605
         ],
         "yaxis": "y"
        },
        {
         "hoverinfo": "text",
         "marker": {
          "color": "rgb(255,220,0)"
         },
         "mode": "lines",
         "text": [
          "ert_frames_frameset_javascript_ecs",
          "",
          "",
          "pocketpc_ie_pocket_pc_ce"
         ],
         "type": "scatter",
         "x": [
          0.8090878422394511,
          0.9294156271392834,
          0.9294156271392834,
          0.8144072462533378
         ],
         "xaxis": "x",
         "y": [
          -580,
          -580,
          -600,
          -600
         ],
         "yaxis": "y"
        },
        {
         "hoverinfo": "text",
         "marker": {
          "color": "rgb(0,116,217)"
         },
         "mode": "lines",
         "text": [
          "test_emds_japanese_tests_sessions",
          "",
          "",
          "ert_pocketpc_ie_pocket_frames"
         ],
         "type": "scatter",
         "x": [
          0.95931622521272,
          1.0134268703253755,
          1.0134268703253755,
          0.9294156271392834
         ],
         "xaxis": "x",
         "y": [
          -514.375,
          -514.375,
          -590,
          -590
         ],
         "yaxis": "y"
        },
        {
         "hoverinfo": "text",
         "marker": {
          "color": "rgb(40,35,35)"
         },
         "mode": "lines",
         "text": [
          "log_logs_file_logfile_txt",
          "",
          "",
          "proxy_netscape_utility_server_webserver"
         ],
         "type": "scatter",
         "x": [
          0,
          0.8809119140990868,
          0.8809119140990868,
          0
         ],
         "xaxis": "x",
         "y": [
          -625,
          -625,
          -635,
          -635
         ],
         "yaxis": "y"
        },
        {
         "hoverinfo": "text",
         "marker": {
          "color": "rgb(40,35,35)"
         },
         "mode": "lines",
         "text": [
          "ftp_site_password_username_isje",
          "",
          "",
          "proxy_netscape_log_logs_utility"
         ],
         "type": "scatter",
         "x": [
          0,
          0.8996553908398393,
          0.8996553908398393,
          0.8809119140990868
         ],
         "xaxis": "x",
         "y": [
          -615,
          -615,
          -630,
          -630
         ],
         "yaxis": "y"
        },
        {
         "hoverinfo": "text",
         "marker": {
          "color": "rgb(40,35,35)"
         },
         "mode": "lines",
         "text": [
          "aml_files_amlscript_pages_page",
          "",
          "",
          "error_unzipping_errors_aml_messages"
         ],
         "type": "scatter",
         "x": [
          0,
          0.7661182176769797,
          0.7661182176769797,
          0
         ],
         "xaxis": "x",
         "y": [
          -645,
          -645,
          -655,
          -655
         ],
         "yaxis": "y"
        },
        {
         "hoverinfo": "text",
         "marker": {
          "color": "rgb(40,35,35)"
         },
         "mode": "lines",
         "text": [
          "ftp_proxy_netscape_log_site",
          "",
          "",
          "aml_files_amlscript_pages_error"
         ],
         "type": "scatter",
         "x": [
          0.8996553908398393,
          0.9577615082425028,
          0.9577615082425028,
          0.7661182176769797
         ],
         "xaxis": "x",
         "y": [
          -622.5,
          -622.5,
          -650,
          -650
         ],
         "yaxis": "y"
        },
        {
         "hoverinfo": "text",
         "marker": {
          "color": "rgb(61,153,112)"
         },
         "mode": "lines",
         "text": [
          "mpharma_installer_applframe_cvs_data",
          "",
          "",
          "cab_file_cabwiz_files_build"
         ],
         "type": "scatter",
         "x": [
          0,
          0.8824689930274128,
          0.8824689930274128,
          0
         ],
         "xaxis": "x",
         "y": [
          -665,
          -665,
          -675,
          -675
         ],
         "yaxis": "y"
        },
        {
         "hoverinfo": "text",
         "marker": {
          "color": "rgb(61,153,112)"
         },
         "mode": "lines",
         "text": [
          "pcanywhere_machine_access_chf_jyothi",
          "",
          "",
          "clearcase_wilhan_view_files_rational"
         ],
         "type": "scatter",
         "x": [
          0,
          0.8984966695723673,
          0.8984966695723673,
          0
         ],
         "xaxis": "x",
         "y": [
          -685,
          -685,
          -695,
          -695
         ],
         "yaxis": "y"
        },
        {
         "hoverinfo": "text",
         "marker": {
          "color": "rgb(61,153,112)"
         },
         "mode": "lines",
         "text": [
          "clearcase_pcanywhere_machine_wilhan_files",
          "",
          "",
          "dll_dlls_msvcp60_mfc42_msvcrt"
         ],
         "type": "scatter",
         "x": [
          0.8984966695723673,
          0.9469659218354697,
          0.9469659218354697,
          0
         ],
         "xaxis": "x",
         "y": [
          -690,
          -690,
          -705,
          -705
         ],
         "yaxis": "y"
        },
        {
         "hoverinfo": "text",
         "marker": {
          "color": "rgb(61,153,112)"
         },
         "mode": "lines",
         "text": [
          "mpharma_cab_installer_applframe_file",
          "",
          "",
          "clearcase_dll_dlls_pcanywhere_machine"
         ],
         "type": "scatter",
         "x": [
          0.8824689930274128,
          0.9913525528445472,
          0.9913525528445472,
          0.9469659218354697
         ],
         "xaxis": "x",
         "y": [
          -670,
          -670,
          -697.5,
          -697.5
         ],
         "yaxis": "y"
        },
        {
         "hoverinfo": "text",
         "marker": {
          "color": "rgb(0,116,217)"
         },
         "mode": "lines",
         "text": [
          "aml_ftp_files_proxy_netscape",
          "",
          "",
          "clearcase_mpharma_dll_cab_dlls"
         ],
         "type": "scatter",
         "x": [
          0.9577615082425028,
          1.0091175457354615,
          1.0091175457354615,
          0.9913525528445472
         ],
         "xaxis": "x",
         "y": [
          -636.25,
          -636.25,
          -683.75,
          -683.75
         ],
         "yaxis": "y"
        },
        {
         "hoverinfo": "text",
         "marker": {
          "color": "rgb(0,116,217)"
         },
         "mode": "lines",
         "text": [
          "test_emds_japanese_tests_solaris",
          "",
          "",
          "aml_clearcase_ftp_mpharma_dll"
         ],
         "type": "scatter",
         "x": [
          1.0134268703253755,
          1.0694152697974857,
          1.0694152697974857,
          1.0091175457354615
         ],
         "xaxis": "x",
         "y": [
          -552.1875,
          -552.1875,
          -660,
          -660
         ],
         "yaxis": "y"
        },
        {
         "hoverinfo": "text",
         "marker": {
          "color": "rgb(0,116,217)"
         },
         "mode": "lines",
         "text": [
          "krishna_java_screensession_reviewed_fix",
          "",
          "",
          "test_emds_japanese_tests_solaris"
         ],
         "type": "scatter",
         "x": [
          0.8530752904228154,
          1.0897869710676735,
          1.0897869710676735,
          1.0694152697974857
         ],
         "xaxis": "x",
         "y": [
          -460,
          -460,
          -606.09375,
          -606.09375
         ],
         "yaxis": "y"
        },
        {
         "hoverinfo": "text",
         "marker": {
          "color": "rgb(255,65,54)"
         },
         "mode": "lines",
         "text": [
          "jphone_sky_hideki_phone_mml",
          "",
          "",
          "hideki_miyuki_thank_om_toshi"
         ],
         "type": "scatter",
         "x": [
          0,
          0.6817668152446852,
          0.6817668152446852,
          0
         ],
         "xaxis": "x",
         "y": [
          -715,
          -715,
          -725,
          -725
         ],
         "yaxis": "y"
        },
        {
         "hoverinfo": "text",
         "marker": {
          "color": "rgb(0,116,217)"
         },
         "mode": "lines",
         "text": [
          "test_emds_tests_japanese_solaris",
          "",
          "",
          "hideki_miyuki_jphone_sky_phone"
         ],
         "type": "scatter",
         "x": [
          1.0897869710676735,
          1.115005888343684,
          1.115005888343684,
          0.6817668152446852
         ],
         "xaxis": "x",
         "y": [
          -533.046875,
          -533.046875,
          -720,
          -720
         ],
         "yaxis": "y"
        },
        {
         "hoverinfo": "text",
         "marker": {
          "color": "rgb(0,116,217)"
         },
         "mode": "lines",
         "text": [
          "vss_applicationsengineering_webbyphone_hdml_pda",
          "",
          "",
          "test_emds_japanese_tests_solaris"
         ],
         "type": "scatter",
         "x": [
          0.6205784430382223,
          1.174429463579403,
          1.174429463579403,
          1.115005888343684
         ],
         "xaxis": "x",
         "y": [
          -440,
          -440,
          -626.5234375,
          -626.5234375
         ],
         "yaxis": "y"
        },
        {
         "hoverinfo": "text",
         "marker": {
          "color": "rgb(35,205,205)"
         },
         "mode": "lines",
         "text": [
          "bugzilla_cgi_show_bug_bugs_id",
          "",
          "",
          "bug_bugs_fix_fixed_filed"
         ],
         "type": "scatter",
         "x": [
          0,
          0.5072570181581687,
          0.5072570181581687,
          0
         ],
         "xaxis": "x",
         "y": [
          -735,
          -735,
          -745,
          -745
         ],
         "yaxis": "y"
        },
        {
         "hoverinfo": "text",
         "marker": {
          "color": "rgb(35,205,205)"
         },
         "mode": "lines",
         "text": [
          "bug_bugs_bugzilla_fix_fixed",
          "",
          "",
          "blockers_blocker_bugs_bug_bugzilla"
         ],
         "type": "scatter",
         "x": [
          0.5072570181581687,
          0.6296656801649467,
          0.6296656801649467,
          0
         ],
         "xaxis": "x",
         "y": [
          -740,
          -740,
          -755,
          -755
         ],
         "yaxis": "y"
        },
        {
         "hoverinfo": "text",
         "marker": {
          "color": "rgb(0,116,217)"
         },
         "mode": "lines",
         "text": [
          "test_vss_aml_emds_japanese",
          "",
          "",
          "bug_bugs_bugzilla_fix_fixed"
         ],
         "type": "scatter",
         "x": [
          1.174429463579403,
          1.202374420872882,
          1.202374420872882,
          0.6296656801649467
         ],
         "xaxis": "x",
         "y": [
          -533.26171875,
          -533.26171875,
          -747.5,
          -747.5
         ],
         "yaxis": "y"
        },
        {
         "hoverinfo": "text",
         "marker": {
          "color": "rgb(0,116,217)"
         },
         "mode": "lines",
         "text": [
          "oca_siebel_weblogic_oracle_jar",
          "",
          "",
          "test_vss_aml_emds_japanese"
         ],
         "type": "scatter",
         "x": [
          1.2259649147734768,
          1.259710705140565,
          1.259710705140565,
          1.202374420872882
         ],
         "xaxis": "x",
         "y": [
          -366.25,
          -366.25,
          -640.380859375,
          -640.380859375
         ],
         "yaxis": "y"
        },
        {
         "hoverinfo": "text",
         "marker": {
          "color": "rgb(0,116,217)"
         },
         "mode": "lines",
         "text": [
          "build_cm_wilhan_germanium_palladium",
          "",
          "",
          "oca_test_siebel_files_tests"
         ],
         "type": "scatter",
         "x": [
          1.1426369869608515,
          1.5103359195947106,
          1.5103359195947106,
          1.259710705140565
         ],
         "xaxis": "x",
         "y": [
          -273.75,
          -273.75,
          -503.3154296875,
          -503.3154296875
         ],
         "yaxis": "y"
        },
        {
         "hoverinfo": "text",
         "marker": {
          "color": "rgb(61,153,112)"
         },
         "mode": "lines",
         "text": [
          "jsp_jguru_faq_servlets_faqpage",
          "",
          "",
          "resultset_jsp_jguru_faq_rs"
         ],
         "type": "scatter",
         "x": [
          0,
          0.2781893807948541,
          0.2781893807948541,
          0
         ],
         "xaxis": "x",
         "y": [
          -775,
          -775,
          -785,
          -785
         ],
         "yaxis": "y"
        },
        {
         "hoverinfo": "text",
         "marker": {
          "color": "rgb(61,153,112)"
         },
         "mode": "lines",
         "text": [
          "date_simpledateformat_mm_yyyy_dd",
          "",
          "",
          "jsp_jguru_faq_servlets_faqpage"
         ],
         "type": "scatter",
         "x": [
          0,
          0.6290643560933432,
          0.6290643560933432,
          0.2781893807948541
         ],
         "xaxis": "x",
         "y": [
          -765,
          -765,
          -780,
          -780
         ],
         "yaxis": "y"
        },
        {
         "hoverinfo": "text",
         "marker": {
          "color": "rgb(61,153,112)"
         },
         "mode": "lines",
         "text": [
          "jsp_jguru_faq_servlets_faqpage",
          "",
          "",
          "java2d_listserv_body_include_image"
         ],
         "type": "scatter",
         "x": [
          0.6290643560933432,
          0.8570701311559571,
          0.8570701311559571,
          0
         ],
         "xaxis": "x",
         "y": [
          -772.5,
          -772.5,
          -795,
          -795
         ],
         "yaxis": "y"
        },
        {
         "hoverinfo": "text",
         "marker": {
          "color": "rgb(255,65,54)"
         },
         "mode": "lines",
         "text": [
          "xml_interest_archives_java_xsl",
          "",
          "",
          "xml_feed_xsl_dtd_dan"
         ],
         "type": "scatter",
         "x": [
          0,
          0.4108113326335213,
          0.4108113326335213,
          0
         ],
         "xaxis": "x",
         "y": [
          -805,
          -805,
          -815,
          -815
         ],
         "yaxis": "y"
        },
        {
         "hoverinfo": "text",
         "marker": {
          "color": "rgb(0,116,217)"
         },
         "mode": "lines",
         "text": [
          "jsp_jguru_faq_servlets_faqpage",
          "",
          "",
          "xml_interest_archives_xsl_java"
         ],
         "type": "scatter",
         "x": [
          0.8570701311559571,
          1.1214304961523351,
          1.1214304961523351,
          0.4108113326335213
         ],
         "xaxis": "x",
         "y": [
          -783.75,
          -783.75,
          -810,
          -810
         ],
         "yaxis": "y"
        },
        {
         "hoverinfo": "text",
         "marker": {
          "color": "rgb(0,116,217)"
         },
         "mode": "lines",
         "text": [
          "build_oca_test_siebel_files",
          "",
          "",
          "jsp_jguru_faq_servlets_java"
         ],
         "type": "scatter",
         "x": [
          1.5103359195947106,
          1.5830901106335842,
          1.5830901106335842,
          1.1214304961523351
         ],
         "xaxis": "x",
         "y": [
          -388.53271484375,
          -388.53271484375,
          -796.875,
          -796.875
         ],
         "yaxis": "y"
        },
        {
         "hoverinfo": "text",
         "marker": {
          "color": "rgb(35,205,205)"
         },
         "mode": "lines",
         "text": [
          "jaime_jamie_thank_thanks_she",
          "",
          "",
          "emarketing_8144_8015_mcneely_891"
         ],
         "type": "scatter",
         "x": [
          0,
          0.6915590455902029,
          0.6915590455902029,
          0
         ],
         "xaxis": "x",
         "y": [
          -825,
          -825,
          -835,
          -835
         ],
         "yaxis": "y"
        },
        {
         "hoverinfo": "text",
         "marker": {
          "color": "rgb(133,20,75)"
         },
         "mode": "lines",
         "text": [
          "logo_logos_eps_standards_horizontal",
          "",
          "",
          "logo_logos_eps_jaime_color"
         ],
         "type": "scatter",
         "x": [
          0,
          0.12049745624858166,
          0.12049745624858166,
          0
         ],
         "xaxis": "x",
         "y": [
          -845,
          -845,
          -855,
          -855
         ],
         "yaxis": "y"
        },
        {
         "hoverinfo": "text",
         "marker": {
          "color": "rgb(0,116,217)"
         },
         "mode": "lines",
         "text": [
          "jaime_emarketing_8144_mcneely_8015",
          "",
          "",
          "logo_logos_eps_jaime_format"
         ],
         "type": "scatter",
         "x": [
          0.6915590455902029,
          1.0769183745781608,
          1.0769183745781608,
          0.12049745624858166
         ],
         "xaxis": "x",
         "y": [
          -830,
          -830,
          -850,
          -850
         ],
         "yaxis": "y"
        },
        {
         "hoverinfo": "text",
         "marker": {
          "color": "rgb(255,220,0)"
         },
         "mode": "lines",
         "text": [
          "toshi_japan_tokyo_japanese_thanks",
          "",
          "",
          "japan_toshi_tokyo_8060_cstewart"
         ],
         "type": "scatter",
         "x": [
          0,
          0.38882983129699433,
          0.38882983129699433,
          0
         ],
         "xaxis": "x",
         "y": [
          -865,
          -865,
          -875,
          -875
         ],
         "yaxis": "y"
        },
        {
         "hoverinfo": "text",
         "marker": {
          "color": "rgb(255,220,0)"
         },
         "mode": "lines",
         "text": [
          "8060_telecom_stewart______________________________cstewart",
          "",
          "",
          "stewart_8042_mark_facility_mstewart"
         ],
         "type": "scatter",
         "x": [
          0,
          0.7970315339323721,
          0.7970315339323721,
          0
         ],
         "xaxis": "x",
         "y": [
          -885,
          -885,
          -895,
          -895
         ],
         "yaxis": "y"
        },
        {
         "hoverinfo": "text",
         "marker": {
          "color": "rgb(255,220,0)"
         },
         "mode": "lines",
         "text": [
          "toshi_japan_tokyo_otani_81",
          "",
          "",
          "stewart_8060_telecom______________________________cstewart"
         ],
         "type": "scatter",
         "x": [
          0.38882983129699433,
          0.9747268406487323,
          0.9747268406487323,
          0.7970315339323721
         ],
         "xaxis": "x",
         "y": [
          -870,
          -870,
          -890,
          -890
         ],
         "yaxis": "y"
        },
        {
         "hoverinfo": "text",
         "marker": {
          "color": "rgb(40,35,35)"
         },
         "mode": "lines",
         "text": [
          "phillips_8016_barry_marketing_direct",
          "",
          "",
          "barry_jm_jaime_mary_mk"
         ],
         "type": "scatter",
         "x": [
          0,
          0.5934802362938012,
          0.5934802362938012,
          0
         ],
         "xaxis": "x",
         "y": [
          -905,
          -905,
          -915,
          -915
         ],
         "yaxis": "y"
        },
        {
         "hoverinfo": "text",
         "marker": {
          "color": "rgb(61,153,112)"
         },
         "mode": "lines",
         "text": [
          "margulies_debbie_8059_1052_393",
          "",
          "",
          "8105_tapling_8050_ceo_president"
         ],
         "type": "scatter",
         "x": [
          0,
          0.840159759540534,
          0.840159759540534,
          0
         ],
         "xaxis": "x",
         "y": [
          -955,
          -955,
          -965,
          -965
         ],
         "yaxis": "y"
        },
        {
         "hoverinfo": "text",
         "marker": {
          "color": "rgb(61,153,112)"
         },
         "mode": "lines",
         "text": [
          "wang_ty_7945_business_development",
          "",
          "",
          "margulies_debbie_8059_1052_393"
         ],
         "type": "scatter",
         "x": [
          0,
          0.8835342154347936,
          0.8835342154347936,
          0.840159759540534
         ],
         "xaxis": "x",
         "y": [
          -945,
          -945,
          -960,
          -960
         ],
         "yaxis": "y"
        },
        {
         "hoverinfo": "text",
         "marker": {
          "color": "rgb(61,153,112)"
         },
         "mode": "lines",
         "text": [
          "margulies_debbie_8059_1052_393",
          "",
          "",
          "8065_shirata_steven_hirata_networks"
         ],
         "type": "scatter",
         "x": [
          0.8835342154347936,
          0.8914777521720202,
          0.8914777521720202,
          0
         ],
         "xaxis": "x",
         "y": [
          -952.5,
          -952.5,
          -975,
          -975
         ],
         "yaxis": "y"
        },
        {
         "hoverinfo": "text",
         "marker": {
          "color": "rgb(61,153,112)"
         },
         "mode": "lines",
         "text": [
          "tran_alex_8068_3877_420",
          "",
          "",
          "margulies_debbie_8059_1052_393"
         ],
         "type": "scatter",
         "x": [
          0,
          0.9177512885311317,
          0.9177512885311317,
          0.8914777521720202
         ],
         "xaxis": "x",
         "y": [
          -935,
          -935,
          -963.75,
          -963.75
         ],
         "yaxis": "y"
        },
        {
         "hoverinfo": "text",
         "marker": {
          "color": "rgb(61,153,112)"
         },
         "mode": "lines",
         "text": [
          "margulies_debbie_8059_1052_393",
          "",
          "",
          "rayhan_abdulmughnee_7964_8122_systems"
         ],
         "type": "scatter",
         "x": [
          0.9177512885311317,
          0.9470336602479492,
          0.9470336602479492,
          0
         ],
         "xaxis": "x",
         "y": [
          -949.375,
          -949.375,
          -985,
          -985
         ],
         "yaxis": "y"
        },
        {
         "hoverinfo": "text",
         "marker": {
          "color": "rgb(61,153,112)"
         },
         "mode": "lines",
         "text": [
          "wagoner_andrew_8174_purchasing_agent",
          "",
          "",
          "margulies_debbie_8059_1052_393"
         ],
         "type": "scatter",
         "x": [
          0,
          0.9839341194445625,
          0.9839341194445625,
          0.9470336602479492
         ],
         "xaxis": "x",
         "y": [
          -925,
          -925,
          -967.1875,
          -967.1875
         ],
         "yaxis": "y"
        },
        {
         "hoverinfo": "text",
         "marker": {
          "color": "rgb(255,65,54)"
         },
         "mode": "lines",
         "text": [
          "simmons_susan_8022_administration_corporate",
          "",
          "",
          "mary_susan_debbie_marie_amy"
         ],
         "type": "scatter",
         "x": [
          0,
          0.8495394642708731,
          0.8495394642708731,
          0
         ],
         "xaxis": "x",
         "y": [
          -995,
          -995,
          -1005,
          -1005
         ],
         "yaxis": "y"
        },
        {
         "hoverinfo": "text",
         "marker": {
          "color": "rgb(0,116,217)"
         },
         "mode": "lines",
         "text": [
          "margulies_debbie_8059_1052_393",
          "",
          "",
          "susan_simmons_8022_mary_administration"
         ],
         "type": "scatter",
         "x": [
          0.9839341194445625,
          1.0436608023407004,
          1.0436608023407004,
          0.8495394642708731
         ],
         "xaxis": "x",
         "y": [
          -946.09375,
          -946.09375,
          -1000,
          -1000
         ],
         "yaxis": "y"
        },
        {
         "hoverinfo": "text",
         "marker": {
          "color": "rgb(35,205,205)"
         },
         "mode": "lines",
         "text": [
          "adval_bugs_8035_ritesh_bug",
          "",
          "",
          "8006_tracy_0060_588_mark"
         ],
         "type": "scatter",
         "x": [
          0,
          0.5687165010317676,
          0.5687165010317676,
          0
         ],
         "xaxis": "x",
         "y": [
          -1025,
          -1025,
          -1035,
          -1035
         ],
         "yaxis": "y"
        },
        {
         "hoverinfo": "text",
         "marker": {
          "color": "rgb(35,205,205)"
         },
         "mode": "lines",
         "text": [
          "schemena_8028_john_jschemena_sincerely",
          "",
          "",
          "8006_tracy_0060_588_mark"
         ],
         "type": "scatter",
         "x": [
          0,
          0.8099845826206185,
          0.8099845826206185,
          0.5687165010317676
         ],
         "xaxis": "x",
         "y": [
          -1015,
          -1015,
          -1030,
          -1030
         ],
         "yaxis": "y"
        },
        {
         "hoverinfo": "text",
         "marker": {
          "color": "rgb(35,205,205)"
         },
         "mode": "lines",
         "text": [
          "8006_tracy_0060_588_schemena",
          "",
          "",
          "jkouragian_kouragian_8012_jennifer_0060"
         ],
         "type": "scatter",
         "x": [
          0.8099845826206185,
          0.8597979732915922,
          0.8597979732915922,
          0
         ],
         "xaxis": "x",
         "y": [
          -1022.5,
          -1022.5,
          -1045,
          -1045
         ],
         "yaxis": "y"
        },
        {
         "hoverinfo": "text",
         "marker": {
          "color": "rgb(0,116,217)"
         },
         "mode": "lines",
         "text": [
          "margulies_debbie_8059_1052_393",
          "",
          "",
          "0060_8006_588_tracy_jkouragian"
         ],
         "type": "scatter",
         "x": [
          1.0436608023407004,
          1.1097163624864448,
          1.1097163624864448,
          0.8597979732915922
         ],
         "xaxis": "x",
         "y": [
          -973.046875,
          -973.046875,
          -1033.75,
          -1033.75
         ],
         "yaxis": "y"
        },
        {
         "hoverinfo": "text",
         "marker": {
          "color": "rgb(0,116,217)"
         },
         "mode": "lines",
         "text": [
          "barry_phillips_8016_marketing_direct",
          "",
          "",
          "margulies_debbie_8059_1052_393"
         ],
         "type": "scatter",
         "x": [
          0.5934802362938012,
          1.1843417592257373,
          1.1843417592257373,
          1.1097163624864448
         ],
         "xaxis": "x",
         "y": [
          -910,
          -910,
          -1003.3984375,
          -1003.3984375
         ],
         "yaxis": "y"
        },
        {
         "hoverinfo": "text",
         "marker": {
          "color": "rgb(61,153,112)"
         },
         "mode": "lines",
         "text": [
          "kelsey_kelseys_her_jim_sacto",
          "",
          "",
          "kkerr_8036_kerr_kelsey_1054"
         ],
         "type": "scatter",
         "x": [
          0,
          0.6303849416453307,
          0.6303849416453307,
          0
         ],
         "xaxis": "x",
         "y": [
          -1055,
          -1055,
          -1065,
          -1065
         ],
         "yaxis": "y"
        },
        {
         "hoverinfo": "text",
         "marker": {
          "color": "rgb(255,65,54)"
         },
         "mode": "lines",
         "text": [
          "8186_brett_welborn_1103_355",
          "",
          "",
          "8187_henderson_laura_1103_355"
         ],
         "type": "scatter",
         "x": [
          0,
          0.6887307334969986,
          0.6887307334969986,
          0
         ],
         "xaxis": "x",
         "y": [
          -1075,
          -1075,
          -1085,
          -1085
         ],
         "yaxis": "y"
        },
        {
         "hoverinfo": "text",
         "marker": {
          "color": "rgb(0,116,217)"
         },
         "mode": "lines",
         "text": [
          "kelsey_kkerr_kerr_8036_1054",
          "",
          "",
          "8186_brett_welborn_1103_355"
         ],
         "type": "scatter",
         "x": [
          0.6303849416453307,
          1.1626772048971226,
          1.1626772048971226,
          0.6887307334969986
         ],
         "xaxis": "x",
         "y": [
          -1060,
          -1060,
          -1080,
          -1080
         ],
         "yaxis": "y"
        },
        {
         "hoverinfo": "text",
         "marker": {
          "color": "rgb(0,116,217)"
         },
         "mode": "lines",
         "text": [
          "margulies_debbie_8059_1052_393",
          "",
          "",
          "8186_brett_welborn_1103_355"
         ],
         "type": "scatter",
         "x": [
          1.1843417592257373,
          1.2141846532506066,
          1.2141846532506066,
          1.1626772048971226
         ],
         "xaxis": "x",
         "y": [
          -956.69921875,
          -956.69921875,
          -1070,
          -1070
         ],
         "yaxis": "y"
        },
        {
         "hoverinfo": "text",
         "marker": {
          "color": "rgb(0,116,217)"
         },
         "mode": "lines",
         "text": [
          "toshi_stewart_8060_japan_telecom",
          "",
          "",
          "margulies_debbie_8059_1052_393"
         ],
         "type": "scatter",
         "x": [
          0.9747268406487323,
          1.2543599871875004,
          1.2543599871875004,
          1.2141846532506066
         ],
         "xaxis": "x",
         "y": [
          -880,
          -880,
          -1013.349609375,
          -1013.349609375
         ],
         "yaxis": "y"
        },
        {
         "hoverinfo": "text",
         "marker": {
          "color": "rgb(35,205,205)"
         },
         "mode": "lines",
         "text": [
          "7984_4827_829_everywhere_north",
          "",
          "",
          "garcia_ricardo_7984_4827_829"
         ],
         "type": "scatter",
         "x": [
          0,
          0.36521284666698484,
          0.36521284666698484,
          0
         ],
         "xaxis": "x",
         "y": [
          -1095,
          -1095,
          -1105,
          -1105
         ],
         "yaxis": "y"
        },
        {
         "hoverinfo": "text",
         "marker": {
          "color": "rgb(35,205,205)"
         },
         "mode": "lines",
         "text": [
          "garcia_ricardo_7984_4827_829",
          "",
          "",
          "ricardo_dan_thanks_glenn_dave"
         ],
         "type": "scatter",
         "x": [
          0.36521284666698484,
          0.7979743992402182,
          0.7979743992402182,
          0
         ],
         "xaxis": "x",
         "y": [
          -1100,
          -1100,
          -1115,
          -1115
         ],
         "yaxis": "y"
        },
        {
         "hoverinfo": "text",
         "marker": {
          "color": "rgb(0,116,217)"
         },
         "mode": "lines",
         "text": [
          "margulies_debbie_8059_562_1052",
          "",
          "",
          "ricardo_garcia_7984_4827_829"
         ],
         "type": "scatter",
         "x": [
          1.2543599871875004,
          1.324956554456734,
          1.324956554456734,
          0.7979743992402182
         ],
         "xaxis": "x",
         "y": [
          -946.6748046875,
          -946.6748046875,
          -1107.5,
          -1107.5
         ],
         "yaxis": "y"
        },
        {
         "hoverinfo": "text",
         "marker": {
          "color": "rgb(0,116,217)"
         },
         "mode": "lines",
         "text": [
          "logo_jaime_logos_eps_mcneely",
          "",
          "",
          "margulies_debbie_562_408_8059"
         ],
         "type": "scatter",
         "x": [
          1.0769183745781608,
          1.349154841173239,
          1.349154841173239,
          1.324956554456734
         ],
         "xaxis": "x",
         "y": [
          -840,
          -840,
          -1027.08740234375,
          -1027.08740234375
         ],
         "yaxis": "y"
        },
        {
         "hoverinfo": "text",
         "marker": {
          "color": "rgb(133,20,75)"
         },
         "mode": "lines",
         "text": [
          "silverton_era_rsilverton_enabling_infrastructure",
          "",
          "",
          "era_rsilverton_enabling_infrastructure_8039"
         ],
         "type": "scatter",
         "x": [
          0,
          0.0670975200891556,
          0.0670975200891556,
          0
         ],
         "xaxis": "x",
         "y": [
          -1135,
          -1135,
          -1145,
          -1145
         ],
         "yaxis": "y"
        },
        {
         "hoverinfo": "text",
         "marker": {
          "color": "rgb(133,20,75)"
         },
         "mode": "lines",
         "text": [
          "silverton_8039_6789_845_ron",
          "",
          "",
          "era_rsilverton_enabling_silverton_infrastructure"
         ],
         "type": "scatter",
         "x": [
          0,
          0.4405110321649312,
          0.4405110321649312,
          0.0670975200891556
         ],
         "xaxis": "x",
         "y": [
          -1125,
          -1125,
          -1140,
          -1140
         ],
         "yaxis": "y"
        },
        {
         "hoverinfo": "text",
         "marker": {
          "color": "rgb(0,116,217)"
         },
         "mode": "lines",
         "text": [
          "margulies_debbie_562_408_8059",
          "",
          "",
          "silverton_8039_6789_845_ron"
         ],
         "type": "scatter",
         "x": [
          1.349154841173239,
          1.415524091113102,
          1.415524091113102,
          0.4405110321649312
         ],
         "xaxis": "x",
         "y": [
          -933.543701171875,
          -933.543701171875,
          -1132.5,
          -1132.5
         ],
         "yaxis": "y"
        },
        {
         "hoverinfo": "text",
         "marker": {
          "color": "rgb(255,220,0)"
         },
         "mode": "lines",
         "text": [
          "venk_0797_763_8010_888",
          "",
          "",
          "shukla_8108_amy_8032_assistant"
         ],
         "type": "scatter",
         "x": [
          0,
          0.44592039877357004,
          0.44592039877357004,
          0
         ],
         "xaxis": "x",
         "y": [
          -1165,
          -1165,
          -1175,
          -1175
         ],
         "yaxis": "y"
        },
        {
         "hoverinfo": "text",
         "marker": {
          "color": "rgb(255,220,0)"
         },
         "mode": "lines",
         "text": [
          "1519_petrone_noemi_8032_administrator",
          "",
          "",
          "venk_0797_763_executive_8010"
         ],
         "type": "scatter",
         "x": [
          0,
          0.710518411881292,
          0.710518411881292,
          0.44592039877357004
         ],
         "xaxis": "x",
         "y": [
          -1155,
          -1155,
          -1170,
          -1170
         ],
         "yaxis": "y"
        },
        {
         "hoverinfo": "text",
         "marker": {
          "color": "rgb(255,220,0)"
         },
         "mode": "lines",
         "text": [
          "venk_executive_shukla_0797_763",
          "",
          "",
          "venktesh_shukla_everywhere_business_your"
         ],
         "type": "scatter",
         "x": [
          0.710518411881292,
          0.8869519641608187,
          0.8869519641608187,
          0
         ],
         "xaxis": "x",
         "y": [
          -1162.5,
          -1162.5,
          -1185,
          -1185
         ],
         "yaxis": "y"
        },
        {
         "hoverinfo": "text",
         "marker": {
          "color": "rgb(40,35,35)"
         },
         "mode": "lines",
         "text": [
          "whaley_elisabeth_assit_srvcs_8103",
          "",
          "",
          "whaley_elisabeth_8189_prof_srvcs"
         ],
         "type": "scatter",
         "x": [
          0,
          0.22944200419740135,
          0.22944200419740135,
          0
         ],
         "xaxis": "x",
         "y": [
          -1195,
          -1195,
          -1205,
          -1205
         ],
         "yaxis": "y"
        },
        {
         "hoverinfo": "text",
         "marker": {
          "color": "rgb(61,153,112)"
         },
         "mode": "lines",
         "text": [
          "fx_recruiting_8135_martinez_ph",
          "",
          "",
          "8135_8107_martinez_coordinator_human"
         ],
         "type": "scatter",
         "x": [
          0,
          0.3493634566506192,
          0.3493634566506192,
          0
         ],
         "xaxis": "x",
         "y": [
          -1225,
          -1225,
          -1235,
          -1235
         ],
         "yaxis": "y"
        },
        {
         "hoverinfo": "text",
         "marker": {
          "color": "rgb(61,153,112)"
         },
         "mode": "lines",
         "text": [
          "8135_martinez_coordinator_8107_germana",
          "",
          "",
          "germana_german_germany_ann_amy"
         ],
         "type": "scatter",
         "x": [
          0.3493634566506192,
          0.7884493880310358,
          0.7884493880310358,
          0
         ],
         "xaxis": "x",
         "y": [
          -1230,
          -1230,
          -1245,
          -1245
         ],
         "yaxis": "y"
        },
        {
         "hoverinfo": "text",
         "marker": {
          "color": "rgb(61,153,112)"
         },
         "mode": "lines",
         "text": [
          "massage_massages_linda_foot_sign",
          "",
          "",
          "germana_8135_martinez_coordinator_8107"
         ],
         "type": "scatter",
         "x": [
          0,
          0.8845126829350252,
          0.8845126829350252,
          0.7884493880310358
         ],
         "xaxis": "x",
         "y": [
          -1215,
          -1215,
          -1237.5,
          -1237.5
         ],
         "yaxis": "y"
        },
        {
         "hoverinfo": "text",
         "marker": {
          "color": "rgb(0,116,217)"
         },
         "mode": "lines",
         "text": [
          "whaley_elisabeth_8189_srvcs_prof",
          "",
          "",
          "germana_8135_martinez_coordinator_8107"
         ],
         "type": "scatter",
         "x": [
          0.22944200419740135,
          1.3386010523525345,
          1.3386010523525345,
          0.8845126829350252
         ],
         "xaxis": "x",
         "y": [
          -1200,
          -1200,
          -1226.25,
          -1226.25
         ],
         "yaxis": "y"
        },
        {
         "hoverinfo": "text",
         "marker": {
          "color": "rgb(0,116,217)"
         },
         "mode": "lines",
         "text": [
          "shukla_venk_executive_0797_763",
          "",
          "",
          "whaley_elisabeth_8189_srvcs_germana"
         ],
         "type": "scatter",
         "x": [
          0.8869519641608187,
          1.414919184571767,
          1.414919184571767,
          1.3386010523525345
         ],
         "xaxis": "x",
         "y": [
          -1173.75,
          -1173.75,
          -1213.125,
          -1213.125
         ],
         "yaxis": "y"
        },
        {
         "hoverinfo": "text",
         "marker": {
          "color": "rgb(0,116,217)"
         },
         "mode": "lines",
         "text": [
          "8100_562_408_silverton_margulies",
          "",
          "",
          "whaley_elisabeth_executive_shukla_8189"
         ],
         "type": "scatter",
         "x": [
          1.415524091113102,
          1.4481690328201893,
          1.4481690328201893,
          1.414919184571767
         ],
         "xaxis": "x",
         "y": [
          -1033.0218505859375,
          -1033.0218505859375,
          -1193.4375,
          -1193.4375
         ],
         "yaxis": "y"
        },
        {
         "hoverinfo": "text",
         "marker": {
          "color": "rgb(255,65,54)"
         },
         "mode": "lines",
         "text": [
          "richman_mike_forwards_0644_460",
          "",
          "",
          "richman_mike_460_0644_forwards"
         ],
         "type": "scatter",
         "x": [
          0,
          0.019495232015259156,
          0.019495232015259156,
          0
         ],
         "xaxis": "x",
         "y": [
          -1265,
          -1265,
          -1275,
          -1275
         ],
         "yaxis": "y"
        },
        {
         "hoverinfo": "text",
         "marker": {
          "color": "rgb(255,65,54)"
         },
         "mode": "lines",
         "text": [
          "everywhere_business_mike_0644_460",
          "",
          "",
          "richman_mike_0644_forwards_460"
         ],
         "type": "scatter",
         "x": [
          0,
          0.6367901393897888,
          0.6367901393897888,
          0.019495232015259156
         ],
         "xaxis": "x",
         "y": [
          -1255,
          -1255,
          -1270,
          -1270
         ],
         "yaxis": "y"
        },
        {
         "hoverinfo": "text",
         "marker": {
          "color": "rgb(0,116,217)"
         },
         "mode": "lines",
         "text": [
          "562_408_8100_ca_2211",
          "",
          "",
          "richman_mike_0644_460_forwards"
         ],
         "type": "scatter",
         "x": [
          1.4481690328201893,
          1.4541925842959684,
          1.4541925842959684,
          0.6367901393897888
         ],
         "xaxis": "x",
         "y": [
          -1113.2296752929688,
          -1113.2296752929688,
          -1262.5,
          -1262.5
         ],
         "yaxis": "y"
        },
        {
         "hoverinfo": "text",
         "marker": {
          "color": "rgb(35,205,205)"
         },
         "mode": "lines",
         "text": [
          "mobilized_engr_8041_6114_dbaca",
          "",
          "",
          "mobilized_mobilization_site_form_mobilize"
         ],
         "type": "scatter",
         "x": [
          0,
          0.5166389348208835,
          0.5166389348208835,
          0
         ],
         "xaxis": "x",
         "y": [
          -1295,
          -1295,
          -1305,
          -1305
         ],
         "yaxis": "y"
        },
        {
         "hoverinfo": "text",
         "marker": {
          "color": "rgb(35,205,205)"
         },
         "mode": "lines",
         "text": [
          "isgitt_512_6424_1275_514",
          "",
          "",
          "mobilized_engr_mobilization_8041_6114"
         ],
         "type": "scatter",
         "x": [
          0,
          0.8974020928690271,
          0.8974020928690271,
          0.5166389348208835
         ],
         "xaxis": "x",
         "y": [
          -1285,
          -1285,
          -1300,
          -1300
         ],
         "yaxis": "y"
        },
        {
         "hoverinfo": "text",
         "marker": {
          "color": "rgb(61,153,112)"
         },
         "mode": "lines",
         "text": [
          "engr_dbaca_8041_6114_baca",
          "",
          "",
          "dbaca_6114_8041_baca_394"
         ],
         "type": "scatter",
         "x": [
          0,
          0.2673941866597954,
          0.2673941866597954,
          0
         ],
         "xaxis": "x",
         "y": [
          -1315,
          -1315,
          -1325,
          -1325
         ],
         "yaxis": "y"
        },
        {
         "hoverinfo": "text",
         "marker": {
          "color": "rgb(61,153,112)"
         },
         "mode": "lines",
         "text": [
          "dbaca_6114_8041_baca_394",
          "",
          "",
          "demo_dan_8041_6114_dbaca"
         ],
         "type": "scatter",
         "x": [
          0.2673941866597954,
          0.401654313070409,
          0.401654313070409,
          0
         ],
         "xaxis": "x",
         "y": [
          -1320,
          -1320,
          -1335,
          -1335
         ],
         "yaxis": "y"
        },
        {
         "hoverinfo": "text",
         "marker": {
          "color": "rgb(0,116,217)"
         },
         "mode": "lines",
         "text": [
          "mobilized_isgitt_512_6424_1275",
          "",
          "",
          "dbaca_6114_8041_baca_394"
         ],
         "type": "scatter",
         "x": [
          0.8974020928690271,
          1.1473315779880549,
          1.1473315779880549,
          0.401654313070409
         ],
         "xaxis": "x",
         "y": [
          -1292.5,
          -1292.5,
          -1327.5,
          -1327.5
         ],
         "yaxis": "y"
        },
        {
         "hoverinfo": "text",
         "marker": {
          "color": "rgb(255,65,54)"
         },
         "mode": "lines",
         "text": [
          "rfp_boeing_rfps_dan_8041",
          "",
          "",
          "rfp_qwest_rfi_bevocal_response"
         ],
         "type": "scatter",
         "x": [
          0,
          0.2457390329819128,
          0.2457390329819128,
          0
         ],
         "xaxis": "x",
         "y": [
          -1345,
          -1345,
          -1355,
          -1355
         ],
         "yaxis": "y"
        },
        {
         "hoverinfo": "text",
         "marker": {
          "color": "rgb(0,116,217)"
         },
         "mode": "lines",
         "text": [
          "dbaca_6114_8041_baca_394",
          "",
          "",
          "rfp_qwest_rfi_rfps_response"
         ],
         "type": "scatter",
         "x": [
          1.1473315779880549,
          1.2106314469967798,
          1.2106314469967798,
          0.2457390329819128
         ],
         "xaxis": "x",
         "y": [
          -1310,
          -1310,
          -1350,
          -1350
         ],
         "yaxis": "y"
        },
        {
         "hoverinfo": "text",
         "marker": {
          "color": "rgb(35,205,205)"
         },
         "mode": "lines",
         "text": [
          "ko_meshele_9665_8034_mko",
          "",
          "",
          "meshele_ko_jim_synteleos_outpost"
         ],
         "type": "scatter",
         "x": [
          0,
          0.5457492437349285,
          0.5457492437349285,
          0
         ],
         "xaxis": "x",
         "y": [
          -1375,
          -1375,
          -1385,
          -1385
         ],
         "yaxis": "y"
        },
        {
         "hoverinfo": "text",
         "marker": {
          "color": "rgb(35,205,205)"
         },
         "mode": "lines",
         "text": [
          "existing_web_enables_telephones_pdas",
          "",
          "",
          "meshele_ko_9665_8034_836"
         ],
         "type": "scatter",
         "x": [
          0,
          0.7977820548747923,
          0.7977820548747923,
          0.5457492437349285
         ],
         "xaxis": "x",
         "y": [
          -1365,
          -1365,
          -1380,
          -1380
         ],
         "yaxis": "y"
        },
        {
         "hoverinfo": "text",
         "marker": {
          "color": "rgb(133,20,75)"
         },
         "mode": "lines",
         "text": [
          "cashedge_mime_0800_funds_nov",
          "",
          "",
          "cashedge_darshan_bdft_application_scoping"
         ],
         "type": "scatter",
         "x": [
          0,
          0.632156679688557,
          0.632156679688557,
          0
         ],
         "xaxis": "x",
         "y": [
          -1395,
          -1395,
          -1405,
          -1405
         ],
         "yaxis": "y"
        },
        {
         "hoverinfo": "text",
         "marker": {
          "color": "rgb(255,220,0)"
         },
         "mode": "lines",
         "text": [
          "mehrak_jarmen_nother_jm_he",
          "",
          "",
          "xsellsys_mehrak_487_scoping_sriram"
         ],
         "type": "scatter",
         "x": [
          0,
          0.8363936944275725,
          0.8363936944275725,
          0
         ],
         "xaxis": "x",
         "y": [
          -1415,
          -1415,
          -1425,
          -1425
         ],
         "yaxis": "y"
        },
        {
         "hoverinfo": "text",
         "marker": {
          "color": "rgb(255,220,0)"
         },
         "mode": "lines",
         "text": [
          "scoping_analysis_darshan_template_art",
          "",
          "",
          "darshan_rishi_thanks_eta_ll"
         ],
         "type": "scatter",
         "x": [
          0,
          0.7966535064049767,
          0.7966535064049767,
          0
         ],
         "xaxis": "x",
         "y": [
          -1435,
          -1435,
          -1445,
          -1445
         ],
         "yaxis": "y"
        },
        {
         "hoverinfo": "text",
         "marker": {
          "color": "rgb(255,220,0)"
         },
         "mode": "lines",
         "text": [
          "scoping_darshan_rishi_analysis_template",
          "",
          "",
          "dds_art_darshan_customer_mehrak"
         ],
         "type": "scatter",
         "x": [
          0.7966535064049767,
          0.841116093396066,
          0.841116093396066,
          0
         ],
         "xaxis": "x",
         "y": [
          -1440,
          -1440,
          -1455,
          -1455
         ],
         "yaxis": "y"
        },
        {
         "hoverinfo": "text",
         "marker": {
          "color": "rgb(255,220,0)"
         },
         "mode": "lines",
         "text": [
          "xsellsys_mehrak_487_scoping_sriram",
          "",
          "",
          "scoping_darshan_dds_rishi_analysis"
         ],
         "type": "scatter",
         "x": [
          0.8363936944275725,
          0.9668611592702127,
          0.9668611592702127,
          0.841116093396066
         ],
         "xaxis": "x",
         "y": [
          -1420,
          -1420,
          -1447.5,
          -1447.5
         ],
         "yaxis": "y"
        },
        {
         "hoverinfo": "text",
         "marker": {
          "color": "rgb(40,35,35)"
         },
         "mode": "lines",
         "text": [
          "pqa_darshan_pqas_images_rishi",
          "",
          "",
          "palm_pqa_vii_emulator_application"
         ],
         "type": "scatter",
         "x": [
          0,
          0.6497388177931451,
          0.6497388177931451,
          0
         ],
         "xaxis": "x",
         "y": [
          -1475,
          -1475,
          -1485,
          -1485
         ],
         "yaxis": "y"
        },
        {
         "hoverinfo": "text",
         "marker": {
          "color": "rgb(40,35,35)"
         },
         "mode": "lines",
         "text": [
          "testsrvr1_testsrvr3_testsrvr6_testsrvr4_pqa",
          "",
          "",
          "palm_pqa_vii_emulator_application"
         ],
         "type": "scatter",
         "x": [
          0,
          0.7477466868540747,
          0.7477466868540747,
          0.6497388177931451
         ],
         "xaxis": "x",
         "y": [
          -1465,
          -1465,
          -1480,
          -1480
         ],
         "yaxis": "y"
        },
        {
         "hoverinfo": "text",
         "marker": {
          "color": "rgb(40,35,35)"
         },
         "mode": "lines",
         "text": [
          "palm_pqa_vii_emulator_application",
          "",
          "",
          "quicken_pqa_darshan_quicken1_application"
         ],
         "type": "scatter",
         "x": [
          0.7477466868540747,
          0.836428107373009,
          0.836428107373009,
          0
         ],
         "xaxis": "x",
         "y": [
          -1472.5,
          -1472.5,
          -1495,
          -1495
         ],
         "yaxis": "y"
        },
        {
         "hoverinfo": "text",
         "marker": {
          "color": "rgb(0,116,217)"
         },
         "mode": "lines",
         "text": [
          "scoping_darshan_xsellsys_mehrak_dds",
          "",
          "",
          "palm_pqa_vii_emulator_application"
         ],
         "type": "scatter",
         "x": [
          0.9668611592702127,
          1.039860653619106,
          1.039860653619106,
          0.836428107373009
         ],
         "xaxis": "x",
         "y": [
          -1433.75,
          -1433.75,
          -1483.75,
          -1483.75
         ],
         "yaxis": "y"
        },
        {
         "hoverinfo": "text",
         "marker": {
          "color": "rgb(0,116,217)"
         },
         "mode": "lines",
         "text": [
          "cashedge_mime_funds_0800_nov",
          "",
          "",
          "palm_pqa_darshan_scoping_vii"
         ],
         "type": "scatter",
         "x": [
          0.632156679688557,
          1.1697771163085458,
          1.1697771163085458,
          1.039860653619106
         ],
         "xaxis": "x",
         "y": [
          -1400,
          -1400,
          -1458.75,
          -1458.75
         ],
         "yaxis": "y"
        },
        {
         "hoverinfo": "text",
         "marker": {
          "color": "rgb(61,153,112)"
         },
         "mode": "lines",
         "text": [
          "elba_thank_hubba_thanks_care",
          "",
          "",
          "banamex_zenki_elba_meshele_demo"
         ],
         "type": "scatter",
         "x": [
          0,
          0.826955417228209,
          0.826955417228209,
          0
         ],
         "xaxis": "x",
         "y": [
          -1505,
          -1505,
          -1515,
          -1515
         ],
         "yaxis": "y"
        },
        {
         "hoverinfo": "text",
         "marker": {
          "color": "rgb(61,153,112)"
         },
         "mode": "lines",
         "text": [
          "pemex_certificate_gas_demo_carlos",
          "",
          "",
          "certificate_verisign_certificates_https_mamax"
         ],
         "type": "scatter",
         "x": [
          0,
          0.748965376006562,
          0.748965376006562,
          0
         ],
         "xaxis": "x",
         "y": [
          -1525,
          -1525,
          -1535,
          -1535
         ],
         "yaxis": "y"
        },
        {
         "hoverinfo": "text",
         "marker": {
          "color": "rgb(61,153,112)"
         },
         "mode": "lines",
         "text": [
          "banamex_zenki_elba_meshele_demo",
          "",
          "",
          "pemex_certificate_verisign_certificates_ssl"
         ],
         "type": "scatter",
         "x": [
          0.826955417228209,
          0.9951567365007038,
          0.9951567365007038,
          0.748965376006562
         ],
         "xaxis": "x",
         "y": [
          -1510,
          -1510,
          -1530,
          -1530
         ],
         "yaxis": "y"
        },
        {
         "hoverinfo": "text",
         "marker": {
          "color": "rgb(255,65,54)"
         },
         "mode": "lines",
         "text": [
          "wap_gateway_openwave_phones_nokia",
          "",
          "",
          "rim_neomar_browser_goamerica_application"
         ],
         "type": "scatter",
         "x": [
          0,
          0.7712929370280056,
          0.7712929370280056,
          0
         ],
         "xaxis": "x",
         "y": [
          -1565,
          -1565,
          -1575,
          -1575
         ],
         "yaxis": "y"
        },
        {
         "hoverinfo": "text",
         "marker": {
          "color": "rgb(255,65,54)"
         },
         "mode": "lines",
         "text": [
          "rim_neomar_browser_wap_gateway",
          "",
          "",
          "emulator_emulators_skins_real_device"
         ],
         "type": "scatter",
         "x": [
          0.7712929370280056,
          0.8667850329339268,
          0.8667850329339268,
          0
         ],
         "xaxis": "x",
         "y": [
          -1570,
          -1570,
          -1585,
          -1585
         ],
         "yaxis": "y"
        },
        {
         "hoverinfo": "text",
         "marker": {
          "color": "rgb(255,65,54)"
         },
         "mode": "lines",
         "text": [
          "j2me_motorola_iden_j2ee_java",
          "",
          "",
          "rim_neomar_browser_wap_emulator"
         ],
         "type": "scatter",
         "x": [
          0,
          0.9086026560872733,
          0.9086026560872733,
          0.8667850329339268
         ],
         "xaxis": "x",
         "y": [
          -1555,
          -1555,
          -1577.5,
          -1577.5
         ],
         "yaxis": "y"
        },
        {
         "hoverinfo": "text",
         "marker": {
          "color": "rgb(255,65,54)"
         },
         "mode": "lines",
         "text": [
          "rim_neomar_browser_wap_emulator",
          "",
          "",
          "earthlink_airwallet_kbkids_bellsouthwd_demo"
         ],
         "type": "scatter",
         "x": [
          0.9086026560872733,
          0.9387243506547083,
          0.9387243506547083,
          0
         ],
         "xaxis": "x",
         "y": [
          -1566.25,
          -1566.25,
          -1595,
          -1595
         ],
         "yaxis": "y"
        },
        {
         "hoverinfo": "text",
         "marker": {
          "color": "rgb(255,65,54)"
         },
         "mode": "lines",
         "text": [
          "cookies_cookie_persistent_device_stored",
          "",
          "",
          "rim_neomar_browser_wap_emulator"
         ],
         "type": "scatter",
         "x": [
          0,
          0.9411656382321151,
          0.9411656382321151,
          0.9387243506547083
         ],
         "xaxis": "x",
         "y": [
          -1545,
          -1545,
          -1580.625,
          -1580.625
         ],
         "yaxis": "y"
        },
        {
         "hoverinfo": "text",
         "marker": {
          "color": "rgb(255,65,54)"
         },
         "mode": "lines",
         "text": [
          "packet_size_packetsize_max_pda_packetsize_ini",
          "",
          "",
          "hdml_wml_pda_tested_device"
         ],
         "type": "scatter",
         "x": [
          0,
          0.8134993834313357,
          0.8134993834313357,
          0
         ],
         "xaxis": "x",
         "y": [
          -1605,
          -1605,
          -1615,
          -1615
         ],
         "yaxis": "y"
        },
        {
         "hoverinfo": "text",
         "marker": {
          "color": "rgb(255,65,54)"
         },
         "mode": "lines",
         "text": [
          "packet_size_hdml_wml_packetsize",
          "",
          "",
          "epservlet_opt_servlet_ini_url"
         ],
         "type": "scatter",
         "x": [
          0.8134993834313357,
          0.8493168294497723,
          0.8493168294497723,
          0
         ],
         "xaxis": "x",
         "y": [
          -1610,
          -1610,
          -1625,
          -1625
         ],
         "yaxis": "y"
        },
        {
         "hoverinfo": "text",
         "marker": {
          "color": "rgb(255,65,54)"
         },
         "mode": "lines",
         "text": [
          "rim_neomar_browser_cookies_wap",
          "",
          "",
          "epservlet_opt_servlet_ini_hdml"
         ],
         "type": "scatter",
         "x": [
          0.9411656382321151,
          0.964494740869959,
          0.964494740869959,
          0.8493168294497723
         ],
         "xaxis": "x",
         "y": [
          -1562.8125,
          -1562.8125,
          -1617.5,
          -1617.5
         ],
         "yaxis": "y"
        },
        {
         "hoverinfo": "text",
         "marker": {
          "color": "rgb(35,205,205)"
         },
         "mode": "lines",
         "text": [
          "voice_voicexml_voicegenie_speech_demo",
          "",
          "",
          "voicemail_voice_mail_message_messages"
         ],
         "type": "scatter",
         "x": [
          0,
          0.5602068934487093,
          0.5602068934487093,
          0
         ],
         "xaxis": "x",
         "y": [
          -1645,
          -1645,
          -1655,
          -1655
         ],
         "yaxis": "y"
        },
        {
         "hoverinfo": "text",
         "marker": {
          "color": "rgb(35,205,205)"
         },
         "mode": "lines",
         "text": [
          "speechworks_grammar_ups_telephony_ashish",
          "",
          "",
          "voice_voicexml_voicegenie_speech_demo"
         ],
         "type": "scatter",
         "x": [
          0,
          0.8564009256209564,
          0.8564009256209564,
          0.5602068934487093
         ],
         "xaxis": "x",
         "y": [
          -1635,
          -1635,
          -1650,
          -1650
         ],
         "yaxis": "y"
        },
        {
         "hoverinfo": "text",
         "marker": {
          "color": "rgb(0,116,217)"
         },
         "mode": "lines",
         "text": [
          "epservlet_rim_opt_neomar_servlet",
          "",
          "",
          "voice_voicexml_speechworks_voicegenie_speech"
         ],
         "type": "scatter",
         "x": [
          0.964494740869959,
          1.0932186363632783,
          1.0932186363632783,
          0.8564009256209564
         ],
         "xaxis": "x",
         "y": [
          -1590.15625,
          -1590.15625,
          -1642.5,
          -1642.5
         ],
         "yaxis": "y"
        },
        {
         "hoverinfo": "text",
         "marker": {
          "color": "rgb(0,116,217)"
         },
         "mode": "lines",
         "text": [
          "banamex_pemex_certificate_zenki_elba",
          "",
          "",
          "epservlet_rim_voice_opt_neomar"
         ],
         "type": "scatter",
         "x": [
          0.9951567365007038,
          1.1200224600512365,
          1.1200224600512365,
          1.0932186363632783
         ],
         "xaxis": "x",
         "y": [
          -1520,
          -1520,
          -1616.328125,
          -1616.328125
         ],
         "yaxis": "y"
        },
        {
         "hoverinfo": "text",
         "marker": {
          "color": "rgb(61,153,112)"
         },
         "mode": "lines",
         "text": [
          "action_items_item_notes_truncated",
          "",
          "",
          "impacted_3797_866_issue_238"
         ],
         "type": "scatter",
         "x": [
          0,
          0.8341919496931058,
          0.8341919496931058,
          0
         ],
         "xaxis": "x",
         "y": [
          -1665,
          -1665,
          -1675,
          -1675
         ],
         "yaxis": "y"
        },
        {
         "hoverinfo": "text",
         "marker": {
          "color": "rgb(255,65,54)"
         },
         "mode": "lines",
         "text": [
          "ad_ads_marilisa_jessica_817",
          "",
          "",
          "paytrust_phani_xml_application_billcenter5"
         ],
         "type": "scatter",
         "x": [
          0,
          0.8617880237029065,
          0.8617880237029065,
          0
         ],
         "xaxis": "x",
         "y": [
          -1685,
          -1685,
          -1695,
          -1695
         ],
         "yaxis": "y"
        },
        {
         "hoverinfo": "text",
         "marker": {
          "color": "rgb(255,65,54)"
         },
         "mode": "lines",
         "text": [
          "trade_canada_kavitha_john_kelsey",
          "",
          "",
          "etrade_uschinese_trade_craig_servers"
         ],
         "type": "scatter",
         "x": [
          0,
          0.7326839541781855,
          0.7326839541781855,
          0
         ],
         "xaxis": "x",
         "y": [
          -1715,
          -1715,
          -1725,
          -1725
         ],
         "yaxis": "y"
        },
        {
         "hoverinfo": "text",
         "marker": {
          "color": "rgb(255,65,54)"
         },
         "mode": "lines",
         "text": [
          "fidelity_canada_knox_investments_john",
          "",
          "",
          "etrade_trade_canada_uschinese_craig"
         ],
         "type": "scatter",
         "x": [
          0,
          0.8752242466902831,
          0.8752242466902831,
          0.7326839541781855
         ],
         "xaxis": "x",
         "y": [
          -1705,
          -1705,
          -1720,
          -1720
         ],
         "yaxis": "y"
        },
        {
         "hoverinfo": "text",
         "marker": {
          "color": "rgb(255,65,54)"
         },
         "mode": "lines",
         "text": [
          "paytrust_ad_ads_phani_marilisa",
          "",
          "",
          "etrade_fidelity_trade_canada_john"
         ],
         "type": "scatter",
         "x": [
          0.8617880237029065,
          0.9601702721813196,
          0.9601702721813196,
          0.8752242466902831
         ],
         "xaxis": "x",
         "y": [
          -1690,
          -1690,
          -1712.5,
          -1712.5
         ],
         "yaxis": "y"
        },
        {
         "hoverinfo": "text",
         "marker": {
          "color": "rgb(255,65,54)"
         },
         "mode": "lines",
         "text": [
          "brauner_wendy_9223_1752_479",
          "",
          "",
          "omnisky_962_______________________________morgan_9781"
         ],
         "type": "scatter",
         "x": [
          0,
          0.9261997373053019,
          0.9261997373053019,
          0
         ],
         "xaxis": "x",
         "y": [
          -1735,
          -1735,
          -1745,
          -1745
         ],
         "yaxis": "y"
        },
        {
         "hoverinfo": "text",
         "marker": {
          "color": "rgb(255,65,54)"
         },
         "mode": "lines",
         "text": [
          "etrade_fidelity_paytrust_trade_ad",
          "",
          "",
          "omnisky_brauner_wendy_9223_1752"
         ],
         "type": "scatter",
         "x": [
          0.9601702721813196,
          0.989882654516718,
          0.989882654516718,
          0.9261997373053019
         ],
         "xaxis": "x",
         "y": [
          -1701.25,
          -1701.25,
          -1740,
          -1740
         ],
         "yaxis": "y"
        },
        {
         "hoverinfo": "text",
         "marker": {
          "color": "rgb(0,116,217)"
         },
         "mode": "lines",
         "text": [
          "action_impacted_3797_866_issue",
          "",
          "",
          "trade_etrade_fidelity_paytrust_omnisky"
         ],
         "type": "scatter",
         "x": [
          0.8341919496931058,
          1.027299005513375,
          1.027299005513375,
          0.989882654516718
         ],
         "xaxis": "x",
         "y": [
          -1670,
          -1670,
          -1720.625,
          -1720.625
         ],
         "yaxis": "y"
        },
        {
         "hoverinfo": "text",
         "marker": {
          "color": "rgb(0,116,217)"
         },
         "mode": "lines",
         "text": [
          "epservlet_rim_voice_opt_neomar",
          "",
          "",
          "trade_etrade_fidelity_paytrust_omnisky"
         ],
         "type": "scatter",
         "x": [
          1.1200224600512365,
          1.121420336386541,
          1.121420336386541,
          1.027299005513375
         ],
         "xaxis": "x",
         "y": [
          -1568.1640625,
          -1568.1640625,
          -1695.3125,
          -1695.3125
         ],
         "yaxis": "y"
        },
        {
         "hoverinfo": "text",
         "marker": {
          "color": "rgb(0,116,217)"
         },
         "mode": "lines",
         "text": [
          "palm_pqa_darshan_scoping_cashedge",
          "",
          "",
          "epservlet_rim_voice_opt_neomar"
         ],
         "type": "scatter",
         "x": [
          1.1697771163085458,
          1.2503494788367402,
          1.2503494788367402,
          1.121420336386541
         ],
         "xaxis": "x",
         "y": [
          -1429.375,
          -1429.375,
          -1631.73828125,
          -1631.73828125
         ],
         "yaxis": "y"
        },
        {
         "hoverinfo": "text",
         "marker": {
          "color": "rgb(35,205,205)"
         },
         "mode": "lines",
         "text": [
          "betty_pager_via_rim_sent",
          "",
          "",
          "pager_599_airmessage_pagers_ops"
         ],
         "type": "scatter",
         "x": [
          0,
          0.5931534691574969,
          0.5931534691574969,
          0
         ],
         "xaxis": "x",
         "y": [
          -1755,
          -1755,
          -1765,
          -1765
         ],
         "yaxis": "y"
        },
        {
         "hoverinfo": "text",
         "marker": {
          "color": "rgb(133,20,75)"
         },
         "mode": "lines",
         "text": [
          "ip_255_external_dns_63",
          "",
          "",
          "ip_net_access_server_63"
         ],
         "type": "scatter",
         "x": [
          0,
          0.40383823393691665,
          0.40383823393691665,
          0
         ],
         "xaxis": "x",
         "y": [
          -1785,
          -1785,
          -1795,
          -1795
         ],
         "yaxis": "y"
        },
        {
         "hoverinfo": "text",
         "marker": {
          "color": "rgb(133,20,75)"
         },
         "mode": "lines",
         "text": [
          "exodus_uunet_255_64_craig",
          "",
          "",
          "ip_255_external_dns_63"
         ],
         "type": "scatter",
         "x": [
          0,
          0.8314730496008265,
          0.8314730496008265,
          0.40383823393691665
         ],
         "xaxis": "x",
         "y": [
          -1775,
          -1775,
          -1790,
          -1790
         ],
         "yaxis": "y"
        },
        {
         "hoverinfo": "text",
         "marker": {
          "color": "rgb(255,220,0)"
         },
         "mode": "lines",
         "text": [
          "craig_thanx_ops_care_himmat",
          "",
          "",
          "laden_rf_rm_bin_taliban"
         ],
         "type": "scatter",
         "x": [
          0,
          0.75224293030857,
          0.75224293030857,
          0
         ],
         "xaxis": "x",
         "y": [
          -1805,
          -1805,
          -1815,
          -1815
         ],
         "yaxis": "y"
        },
        {
         "hoverinfo": "text",
         "marker": {
          "color": "rgb(0,116,217)"
         },
         "mode": "lines",
         "text": [
          "ip_exodus_255_dns_external",
          "",
          "",
          "laden_rm_rf_craig_bin"
         ],
         "type": "scatter",
         "x": [
          0.8314730496008265,
          1.0881379629818453,
          1.0881379629818453,
          0.75224293030857
         ],
         "xaxis": "x",
         "y": [
          -1782.5,
          -1782.5,
          -1810,
          -1810
         ],
         "yaxis": "y"
        },
        {
         "hoverinfo": "text",
         "marker": {
          "color": "rgb(0,116,217)"
         },
         "mode": "lines",
         "text": [
          "pager_betty_rim_via_599",
          "",
          "",
          "craig_laden_rf_rm_ip"
         ],
         "type": "scatter",
         "x": [
          0.5931534691574969,
          1.2187950849127738,
          1.2187950849127738,
          1.0881379629818453
         ],
         "xaxis": "x",
         "y": [
          -1760,
          -1760,
          -1796.25,
          -1796.25
         ],
         "yaxis": "y"
        },
        {
         "hoverinfo": "text",
         "marker": {
          "color": "rgb(0,116,217)"
         },
         "mode": "lines",
         "text": [
          "palm_epservlet_rim_pqa_voice",
          "",
          "",
          "craig_laden_rm_rf_ip"
         ],
         "type": "scatter",
         "x": [
          1.2503494788367402,
          1.3036449685271079,
          1.3036449685271079,
          1.2187950849127738
         ],
         "xaxis": "x",
         "y": [
          -1530.556640625,
          -1530.556640625,
          -1778.125,
          -1778.125
         ],
         "yaxis": "y"
        },
        {
         "hoverinfo": "text",
         "marker": {
          "color": "rgb(0,116,217)"
         },
         "mode": "lines",
         "text": [
          "meshele_ko_9665_mko_836",
          "",
          "",
          "palm_epservlet_rim_pqa_application"
         ],
         "type": "scatter",
         "x": [
          0.7977820548747923,
          1.351247799920945,
          1.351247799920945,
          1.3036449685271079
         ],
         "xaxis": "x",
         "y": [
          -1372.5,
          -1372.5,
          -1654.3408203125,
          -1654.3408203125
         ],
         "yaxis": "y"
        },
        {
         "hoverinfo": "text",
         "marker": {
          "color": "rgb(40,35,35)"
         },
         "mode": "lines",
         "text": [
          "pda_application_pqa_images_smartphone",
          "",
          "",
          "pda_notes_679_sync_synched"
         ],
         "type": "scatter",
         "x": [
          0,
          0.5831044224601615,
          0.5831044224601615,
          0
         ],
         "xaxis": "x",
         "y": [
          -1825,
          -1825,
          -1835,
          -1835
         ],
         "yaxis": "y"
        },
        {
         "hoverinfo": "text",
         "marker": {
          "color": "rgb(40,35,35)"
         },
         "mode": "lines",
         "text": [
          "biogen_diana_srik_drop_nilesh",
          "",
          "",
          "biogen_781_smialek_617_everywhere"
         ],
         "type": "scatter",
         "x": [
          0,
          0.2855068673246317,
          0.2855068673246317,
          0
         ],
         "xaxis": "x",
         "y": [
          -1845,
          -1845,
          -1855,
          -1855
         ],
         "yaxis": "y"
        },
        {
         "hoverinfo": "text",
         "marker": {
          "color": "rgb(40,35,35)"
         },
         "mode": "lines",
         "text": [
          "pda_notes_679_biogen_depalma",
          "",
          "",
          "biogen_diana_drop_srik_nilesh"
         ],
         "type": "scatter",
         "x": [
          0.5831044224601615,
          0.9811773195320215,
          0.9811773195320215,
          0.2855068673246317
         ],
         "xaxis": "x",
         "y": [
          -1830,
          -1830,
          -1850,
          -1850
         ],
         "yaxis": "y"
        },
        {
         "hoverinfo": "text",
         "marker": {
          "color": "rgb(61,153,112)"
         },
         "mode": "lines",
         "text": [
          "8030_piyer_founder_wirelessly_cto",
          "",
          "",
          "iyer_founder_8030_piyer_cto"
         ],
         "type": "scatter",
         "x": [
          0,
          0.23876933167746894,
          0.23876933167746894,
          0
         ],
         "xaxis": "x",
         "y": [
          -1865,
          -1865,
          -1875,
          -1875
         ],
         "yaxis": "y"
        },
        {
         "hoverinfo": "text",
         "marker": {
          "color": "rgb(0,116,217)"
         },
         "mode": "lines",
         "text": [
          "biogen_pda_679_notes_617",
          "",
          "",
          "8030_piyer_founder_iyer_cto"
         ],
         "type": "scatter",
         "x": [
          0.9811773195320215,
          1.2772476834599682,
          1.2772476834599682,
          0.23876933167746894
         ],
         "xaxis": "x",
         "y": [
          -1840,
          -1840,
          -1870,
          -1870
         ],
         "yaxis": "y"
        },
        {
         "hoverinfo": "text",
         "marker": {
          "color": "rgb(0,116,217)"
         },
         "mode": "lines",
         "text": [
          "palm_epservlet_rim_pqa_application",
          "",
          "",
          "8030_piyer_founder_biogen_iyer"
         ],
         "type": "scatter",
         "x": [
          1.351247799920945,
          1.4497779673581268,
          1.4497779673581268,
          1.2772476834599682
         ],
         "xaxis": "x",
         "y": [
          -1513.42041015625,
          -1513.42041015625,
          -1855,
          -1855
         ],
         "yaxis": "y"
        },
        {
         "hoverinfo": "text",
         "marker": {
          "color": "rgb(255,65,54)"
         },
         "mode": "lines",
         "text": [
          "password_login_username_user_passwords",
          "",
          "",
          "password_login_username_user_iltwae"
         ],
         "type": "scatter",
         "x": [
          0,
          0.2643715232235192,
          0.2643715232235192,
          0
         ],
         "xaxis": "x",
         "y": [
          -1885,
          -1885,
          -1895,
          -1895
         ],
         "yaxis": "y"
        },
        {
         "hoverinfo": "text",
         "marker": {
          "color": "rgb(35,205,205)"
         },
         "mode": "lines",
         "text": [
          "nawabzada_8044_7289_administrator_205",
          "",
          "",
          "nadir_fernand_done_fern_ok"
         ],
         "type": "scatter",
         "x": [
          0,
          0.7620365039974377,
          0.7620365039974377,
          0
         ],
         "xaxis": "x",
         "y": [
          -1915,
          -1915,
          -1925,
          -1925
         ],
         "yaxis": "y"
        },
        {
         "hoverinfo": "text",
         "marker": {
          "color": "rgb(35,205,205)"
         },
         "mode": "lines",
         "text": [
          "nadir_nawabzada_8044_7289_administrator",
          "",
          "",
          "vpn_nadir_password_extranet_access"
         ],
         "type": "scatter",
         "x": [
          0.7620365039974377,
          0.8416463083813095,
          0.8416463083813095,
          0
         ],
         "xaxis": "x",
         "y": [
          -1920,
          -1920,
          -1935,
          -1935
         ],
         "yaxis": "y"
        },
        {
         "hoverinfo": "text",
         "marker": {
          "color": "rgb(35,205,205)"
         },
         "mode": "lines",
         "text": [
          "laptop_dell_laptops_docking_monitor",
          "",
          "",
          "upgrade_windows_win2k_2000_nt"
         ],
         "type": "scatter",
         "x": [
          0,
          0.7465483430250928,
          0.7465483430250928,
          0
         ],
         "xaxis": "x",
         "y": [
          -1945,
          -1945,
          -1955,
          -1955
         ],
         "yaxis": "y"
        },
        {
         "hoverinfo": "text",
         "marker": {
          "color": "rgb(35,205,205)"
         },
         "mode": "lines",
         "text": [
          "vpn_nadir_nawabzada_8044_7289",
          "",
          "",
          "laptop_dell_laptops_nadir_docking"
         ],
         "type": "scatter",
         "x": [
          0.8416463083813095,
          0.8784000974422626,
          0.8784000974422626,
          0.7465483430250928
         ],
         "xaxis": "x",
         "y": [
          -1927.5,
          -1927.5,
          -1950,
          -1950
         ],
         "yaxis": "y"
        },
        {
         "hoverinfo": "text",
         "marker": {
          "color": "rgb(35,205,205)"
         },
         "mode": "lines",
         "text": [
          "fernand_braganza_8133_7537_205",
          "",
          "",
          "vpn_nadir_laptop_dell_nawabzada"
         ],
         "type": "scatter",
         "x": [
          0,
          0.9487177074212476,
          0.9487177074212476,
          0.8784000974422626
         ],
         "xaxis": "x",
         "y": [
          -1905,
          -1905,
          -1938.75,
          -1938.75
         ],
         "yaxis": "y"
        },
        {
         "hoverinfo": "text",
         "marker": {
          "color": "rgb(0,116,217)"
         },
         "mode": "lines",
         "text": [
          "password_login_username_user_passwords",
          "",
          "",
          "vpn_nadir_laptop_fernand_dell"
         ],
         "type": "scatter",
         "x": [
          0.2643715232235192,
          1.1321350028800459,
          1.1321350028800459,
          0.9487177074212476
         ],
         "xaxis": "x",
         "y": [
          -1890,
          -1890,
          -1921.875,
          -1921.875
         ],
         "yaxis": "y"
        },
        {
         "hoverinfo": "text",
         "marker": {
          "color": "rgb(0,116,217)"
         },
         "mode": "lines",
         "text": [
          "palm_epservlet_rim_pqa_application",
          "",
          "",
          "password_vpn_nadir_laptop_fernand"
         ],
         "type": "scatter",
         "x": [
          1.4497779673581268,
          1.4726120537411977,
          1.4726120537411977,
          1.1321350028800459
         ],
         "xaxis": "x",
         "y": [
          -1684.210205078125,
          -1684.210205078125,
          -1905.9375,
          -1905.9375
         ],
         "yaxis": "y"
        },
        {
         "hoverinfo": "text",
         "marker": {
          "color": "rgb(0,116,217)"
         },
         "mode": "lines",
         "text": [
          "dbaca_6114_8041_394_baca",
          "",
          "",
          "palm_epservlet_rim_application_pqa"
         ],
         "type": "scatter",
         "x": [
          1.2106314469967798,
          1.7078985544852938,
          1.7078985544852938,
          1.4726120537411977
         ],
         "xaxis": "x",
         "y": [
          -1330,
          -1330,
          -1795.0738525390625,
          -1795.0738525390625
         ],
         "yaxis": "y"
        },
        {
         "hoverinfo": "text",
         "marker": {
          "color": "rgb(61,153,112)"
         },
         "mode": "lines",
         "text": [
          "training_dma_course_chris_class",
          "",
          "",
          "longstaffe_chris_training_8132_7573"
         ],
         "type": "scatter",
         "x": [
          0,
          0.4623714096801038,
          0.4623714096801038,
          0
         ],
         "xaxis": "x",
         "y": [
          -1975,
          -1975,
          -1985,
          -1985
         ],
         "yaxis": "y"
        },
        {
         "hoverinfo": "text",
         "marker": {
          "color": "rgb(61,153,112)"
         },
         "mode": "lines",
         "text": [
          "donivan_his_ledoux_training_brough",
          "",
          "",
          "training_chris_longstaffe_8132_7573"
         ],
         "type": "scatter",
         "x": [
          0,
          0.950533995833502,
          0.950533995833502,
          0.4623714096801038
         ],
         "xaxis": "x",
         "y": [
          -1965,
          -1965,
          -1980,
          -1980
         ],
         "yaxis": "y"
        },
        {
         "hoverinfo": "text",
         "marker": {
          "color": "rgb(255,65,54)"
         },
         "mode": "lines",
         "text": [
          "doug_7956_ep036_8744_instructor",
          "",
          "",
          "douga_doug_jon_jeff_thanks"
         ],
         "type": "scatter",
         "x": [
          0,
          0.7853749671428738,
          0.7853749671428738,
          0
         ],
         "xaxis": "x",
         "y": [
          -1995,
          -1995,
          -2005,
          -2005
         ],
         "yaxis": "y"
        },
        {
         "hoverinfo": "text",
         "marker": {
          "color": "rgb(0,116,217)"
         },
         "mode": "lines",
         "text": [
          "training_chris_longstaffe_8132_7573",
          "",
          "",
          "doug_7956_ep036_8744_instructor"
         ],
         "type": "scatter",
         "x": [
          0.950533995833502,
          1.0781896778916482,
          1.0781896778916482,
          0.7853749671428738
         ],
         "xaxis": "x",
         "y": [
          -1972.5,
          -1972.5,
          -2000,
          -2000
         ],
         "yaxis": "y"
        },
        {
         "hoverinfo": "text",
         "marker": {
          "color": "rgb(35,205,205)"
         },
         "mode": "lines",
         "text": [
          "dentist_dental_appointment_appt_teeth",
          "",
          "",
          "doctor_appt_appointment_doctors_dr"
         ],
         "type": "scatter",
         "x": [
          0,
          0.7801887218051166,
          0.7801887218051166,
          0
         ],
         "xaxis": "x",
         "y": [
          -2015,
          -2015,
          -2025,
          -2025
         ],
         "yaxis": "y"
        },
        {
         "hoverinfo": "text",
         "marker": {
          "color": "rgb(133,20,75)"
         },
         "mode": "lines",
         "text": [
          "office_out_monday_returning_friday",
          "",
          "",
          "office_urgent_out_checking_monday"
         ],
         "type": "scatter",
         "x": [
          0,
          0.41343688349088137,
          0.41343688349088137,
          0
         ],
         "xaxis": "x",
         "y": [
          -2035,
          -2035,
          -2045,
          -2045
         ],
         "yaxis": "y"
        },
        {
         "hoverinfo": "text",
         "marker": {
          "color": "rgb(0,116,217)"
         },
         "mode": "lines",
         "text": [
          "dentist_appt_appointment_doctor_dental",
          "",
          "",
          "office_urgent_out_monday_return"
         ],
         "type": "scatter",
         "x": [
          0.7801887218051166,
          1.0622221186717569,
          1.0622221186717569,
          0.41343688349088137
         ],
         "xaxis": "x",
         "y": [
          -2020,
          -2020,
          -2040,
          -2040
         ],
         "yaxis": "y"
        },
        {
         "hoverinfo": "text",
         "marker": {
          "color": "rgb(255,220,0)"
         },
         "mode": "lines",
         "text": [
          "badge_badges_visitor_lobby_novell",
          "",
          "",
          "printer_toner_printers_color_cartridges"
         ],
         "type": "scatter",
         "x": [
          0,
          0.9250138150090699,
          0.9250138150090699,
          0
         ],
         "xaxis": "x",
         "y": [
          -2065,
          -2065,
          -2075,
          -2075
         ],
         "yaxis": "y"
        },
        {
         "hoverinfo": "text",
         "marker": {
          "color": "rgb(255,220,0)"
         },
         "mode": "lines",
         "text": [
          "furniture_chairs_move_moving_cubes",
          "",
          "",
          "keys_key_cabinet_kp_cabinets"
         ],
         "type": "scatter",
         "x": [
          0,
          0.7733723510944199,
          0.7733723510944199,
          0
         ],
         "xaxis": "x",
         "y": [
          -2085,
          -2085,
          -2095,
          -2095
         ],
         "yaxis": "y"
        },
        {
         "hoverinfo": "text",
         "marker": {
          "color": "rgb(255,220,0)"
         },
         "mode": "lines",
         "text": [
          "printer_badge_badges_toner_printers",
          "",
          "",
          "keys_furniture_key_cabinet_chairs"
         ],
         "type": "scatter",
         "x": [
          0.9250138150090699,
          0.9352015353664196,
          0.9352015353664196,
          0.7733723510944199
         ],
         "xaxis": "x",
         "y": [
          -2070,
          -2070,
          -2090,
          -2090
         ],
         "yaxis": "y"
        },
        {
         "hoverinfo": "text",
         "marker": {
          "color": "rgb(255,220,0)"
         },
         "mode": "lines",
         "text": [
          "shirts_shirt_denim_blue_size",
          "",
          "",
          "printer_badge_keys_badges_furniture"
         ],
         "type": "scatter",
         "x": [
          0,
          0.9550746639103876,
          0.9550746639103876,
          0.9352015353664196
         ],
         "xaxis": "x",
         "y": [
          -2055,
          -2055,
          -2080,
          -2080
         ],
         "yaxis": "y"
        },
        {
         "hoverinfo": "text",
         "marker": {
          "color": "rgb(40,35,35)"
         },
         "mode": "lines",
         "text": [
          "hotel_rooms_hotels_marriott_room",
          "",
          "",
          "apartment_rent_bedroom_room_house"
         ],
         "type": "scatter",
         "x": [
          0,
          0.8611420910159371,
          0.8611420910159371,
          0
         ],
         "xaxis": "x",
         "y": [
          -2115,
          -2115,
          -2125,
          -2125
         ],
         "yaxis": "y"
        },
        {
         "hoverinfo": "text",
         "marker": {
          "color": "rgb(40,35,35)"
         },
         "mode": "lines",
         "text": [
          "projector_room_projectors_kathi_lcd",
          "",
          "",
          "hotel_room_apartment_rent_bedroom"
         ],
         "type": "scatter",
         "x": [
          0,
          0.8982579258171682,
          0.8982579258171682,
          0.8611420910159371
         ],
         "xaxis": "x",
         "y": [
          -2105,
          -2105,
          -2120,
          -2120
         ],
         "yaxis": "y"
        },
        {
         "hoverinfo": "text",
         "marker": {
          "color": "rgb(40,35,35)"
         },
         "mode": "lines",
         "text": [
          "projector_hotel_room_rent_rooms",
          "",
          "",
          "onto_exit_turn_directions_left"
         ],
         "type": "scatter",
         "x": [
          0.8982579258171682,
          0.9286295456076274,
          0.9286295456076274,
          0
         ],
         "xaxis": "x",
         "y": [
          -2112.5,
          -2112.5,
          -2135,
          -2135
         ],
         "yaxis": "y"
        },
        {
         "hoverinfo": "text",
         "marker": {
          "color": "rgb(0,116,217)"
         },
         "mode": "lines",
         "text": [
          "printer_badge_keys_badges_furniture",
          "",
          "",
          "projector_hotel_room_onto_exit"
         ],
         "type": "scatter",
         "x": [
          0.9550746639103876,
          1.0073832034717332,
          1.0073832034717332,
          0.9286295456076274
         ],
         "xaxis": "x",
         "y": [
          -2067.5,
          -2067.5,
          -2123.75,
          -2123.75
         ],
         "yaxis": "y"
        },
        {
         "hoverinfo": "text",
         "marker": {
          "color": "rgb(61,153,112)"
         },
         "mode": "lines",
         "text": [
          "flight_ticket_fare_sfo_itinerary",
          "",
          "",
          "tapling_itinerary_mr_pittsburgh_amy"
         ],
         "type": "scatter",
         "x": [
          0,
          0.6241788977197857,
          0.6241788977197857,
          0
         ],
         "xaxis": "x",
         "y": [
          -2145,
          -2145,
          -2155,
          -2155
         ],
         "yaxis": "y"
        },
        {
         "hoverinfo": "text",
         "marker": {
          "color": "rgb(0,116,217)"
         },
         "mode": "lines",
         "text": [
          "projector_printer_hotel_badge_room",
          "",
          "",
          "flight_ticket_itinerary_fare_sfo"
         ],
         "type": "scatter",
         "x": [
          1.0073832034717332,
          1.1228025860511102,
          1.1228025860511102,
          0.6241788977197857
         ],
         "xaxis": "x",
         "y": [
          -2095.625,
          -2095.625,
          -2150,
          -2150
         ],
         "yaxis": "y"
        },
        {
         "hoverinfo": "text",
         "marker": {
          "color": "rgb(0,116,217)"
         },
         "mode": "lines",
         "text": [
          "dentist_office_appt_urgent_appointment",
          "",
          "",
          "projector_flight_ticket_hotel_itinerary"
         ],
         "type": "scatter",
         "x": [
          1.0622221186717569,
          1.1596726471039271,
          1.1596726471039271,
          1.1228025860511102
         ],
         "xaxis": "x",
         "y": [
          -2030,
          -2030,
          -2122.8125,
          -2122.8125
         ],
         "yaxis": "y"
        },
        {
         "hoverinfo": "text",
         "marker": {
          "color": "rgb(0,116,217)"
         },
         "mode": "lines",
         "text": [
          "training_doug_chris_longstaffe_instructor",
          "",
          "",
          "flight_projector_ticket_hotel_itinerary"
         ],
         "type": "scatter",
         "x": [
          1.0781896778916482,
          1.2079040688336071,
          1.2079040688336071,
          1.1596726471039271
         ],
         "xaxis": "x",
         "y": [
          -1986.25,
          -1986.25,
          -2076.40625,
          -2076.40625
         ],
         "yaxis": "y"
        },
        {
         "hoverinfo": "text",
         "marker": {
          "color": "rgb(255,65,54)"
         },
         "mode": "lines",
         "text": [
          "forecast_pipeline_forecasted_cw_probability",
          "",
          "",
          "lead_leads_cw_mitch_partner"
         ],
         "type": "scatter",
         "x": [
          0,
          0.7213084026301705,
          0.7213084026301705,
          0
         ],
         "xaxis": "x",
         "y": [
          -2175,
          -2175,
          -2185,
          -2185
         ],
         "yaxis": "y"
        },
        {
         "hoverinfo": "text",
         "marker": {
          "color": "rgb(255,65,54)"
         },
         "mode": "lines",
         "text": [
          "lead_leads_forecast_cw_pipeline",
          "",
          "",
          "channelwave_channel_wave_ruyben_mitch"
         ],
         "type": "scatter",
         "x": [
          0.7213084026301705,
          0.8027655838918938,
          0.8027655838918938,
          0
         ],
         "xaxis": "x",
         "y": [
          -2180,
          -2180,
          -2195,
          -2195
         ],
         "yaxis": "y"
        },
        {
         "hoverinfo": "text",
         "marker": {
          "color": "rgb(255,65,54)"
         },
         "mode": "lines",
         "text": [
          "mitch_yer_cj_hot_anybody",
          "",
          "",
          "ewap_ewrp_referral_program_toni"
         ],
         "type": "scatter",
         "x": [
          0,
          0.8679145500309883,
          0.8679145500309883,
          0
         ],
         "xaxis": "x",
         "y": [
          -2205,
          -2205,
          -2215,
          -2215
         ],
         "yaxis": "y"
        },
        {
         "hoverinfo": "text",
         "marker": {
          "color": "rgb(255,65,54)"
         },
         "mode": "lines",
         "text": [
          "channelwave_lead_leads_forecast_cw",
          "",
          "",
          "ewap_mitch_ewrp_referral_program"
         ],
         "type": "scatter",
         "x": [
          0.8027655838918938,
          0.9325888628156319,
          0.9325888628156319,
          0.8679145500309883
         ],
         "xaxis": "x",
         "y": [
          -2187.5,
          -2187.5,
          -2210,
          -2210
         ],
         "yaxis": "y"
        },
        {
         "hoverinfo": "text",
         "marker": {
          "color": "rgb(255,65,54)"
         },
         "mode": "lines",
         "text": [
          "feedback_form_msie_mozilla_writes_compatible",
          "",
          "",
          "channelwave_lead_leads_mitch_forecast"
         ],
         "type": "scatter",
         "x": [
          0,
          0.9544557858661005,
          0.9544557858661005,
          0.9325888628156319
         ],
         "xaxis": "x",
         "y": [
          -2165,
          -2165,
          -2198.75,
          -2198.75
         ],
         "yaxis": "y"
        },
        {
         "hoverinfo": "text",
         "marker": {
          "color": "rgb(35,205,205)"
         },
         "mode": "lines",
         "text": [
          "rational_license_licenses_robot_teststudio",
          "",
          "",
          "license_licenses_licensing_agreement_software"
         ],
         "type": "scatter",
         "x": [
          0,
          0.551045713382948,
          0.551045713382948,
          0
         ],
         "xaxis": "x",
         "y": [
          -2225,
          -2225,
          -2235,
          -2235
         ],
         "yaxis": "y"
        },
        {
         "hoverinfo": "text",
         "marker": {
          "color": "rgb(61,153,112)"
         },
         "mode": "lines",
         "text": [
          "leaders_70m_primed_funded_industries",
          "",
          "",
          "sybase_ianywhere_gideon_westover_diligence"
         ],
         "type": "scatter",
         "x": [
          0,
          0.8449520785112563,
          0.8449520785112563,
          0
         ],
         "xaxis": "x",
         "y": [
          -2245,
          -2245,
          -2255,
          -2255
         ],
         "yaxis": "y"
        },
        {
         "hoverinfo": "text",
         "marker": {
          "color": "rgb(255,65,54)"
         },
         "mode": "lines",
         "text": [
          "intro_ep_itf_mtg_toshiba",
          "",
          "",
          "bayer_issue_hideki_sp2_japan"
         ],
         "type": "scatter",
         "x": [
          0,
          0.8486256089147435,
          0.8486256089147435,
          0
         ],
         "xaxis": "x",
         "y": [
          -2275,
          -2275,
          -2285,
          -2285
         ],
         "yaxis": "y"
        },
        {
         "hoverinfo": "text",
         "marker": {
          "color": "rgb(255,65,54)"
         },
         "mode": "lines",
         "text": [
          "sap_labs_partnership_chris_emma",
          "",
          "",
          "bayer_intro_ep_toshiba_itf"
         ],
         "type": "scatter",
         "x": [
          0,
          0.9506453660467764,
          0.9506453660467764,
          0.8486256089147435
         ],
         "xaxis": "x",
         "y": [
          -2265,
          -2265,
          -2280,
          -2280
         ],
         "yaxis": "y"
        },
        {
         "hoverinfo": "text",
         "marker": {
          "color": "rgb(0,116,217)"
         },
         "mode": "lines",
         "text": [
          "sybase_leaders_70m_primed_funded",
          "",
          "",
          "bayer_sap_intro_ep_toshiba"
         ],
         "type": "scatter",
         "x": [
          0.8449520785112563,
          1.065684468201252,
          1.065684468201252,
          0.9506453660467764
         ],
         "xaxis": "x",
         "y": [
          -2250,
          -2250,
          -2272.5,
          -2272.5
         ],
         "yaxis": "y"
        },
        {
         "hoverinfo": "text",
         "marker": {
          "color": "rgb(35,205,205)"
         },
         "mode": "lines",
         "text": [
          "blackberry_handheld_net_sent_wireless",
          "",
          "",
          "strategy_emailed_clients_success_similar"
         ],
         "type": "scatter",
         "x": [
          0,
          0.936753861420484,
          0.936753861420484,
          0
         ],
         "xaxis": "x",
         "y": [
          -2305,
          -2305,
          -2315,
          -2315
         ],
         "yaxis": "y"
        },
        {
         "hoverinfo": "text",
         "marker": {
          "color": "rgb(35,205,205)"
         },
         "mode": "lines",
         "text": [
          "nike_stuart_tom_symbol_project",
          "",
          "",
          "blackberry_handheld_net_sent_wireless"
         ],
         "type": "scatter",
         "x": [
          0,
          0.9553698947881998,
          0.9553698947881998,
          0.936753861420484
         ],
         "xaxis": "x",
         "y": [
          -2295,
          -2295,
          -2310,
          -2310
         ],
         "yaxis": "y"
        },
        {
         "hoverinfo": "text",
         "marker": {
          "color": "rgb(133,20,75)"
         },
         "mode": "lines",
         "text": [
          "verizon_attws_wireless_att_at",
          "",
          "",
          "sprint_pcs_sprintspectrum_sprintpcs_scott"
         ],
         "type": "scatter",
         "x": [
          0,
          0.817872066932819,
          0.817872066932819,
          0
         ],
         "xaxis": "x",
         "y": [
          -2335,
          -2335,
          -2345,
          -2345
         ],
         "yaxis": "y"
        },
        {
         "hoverinfo": "text",
         "marker": {
          "color": "rgb(133,20,75)"
         },
         "mode": "lines",
         "text": [
          "portal_7th_episode_seventh_shockwave",
          "",
          "",
          "sprint_pcs_verizon_scott_sprintspectrum"
         ],
         "type": "scatter",
         "x": [
          0,
          0.8940619924492917,
          0.8940619924492917,
          0.817872066932819
         ],
         "xaxis": "x",
         "y": [
          -2325,
          -2325,
          -2340,
          -2340
         ],
         "yaxis": "y"
        },
        {
         "hoverinfo": "text",
         "marker": {
          "color": "rgb(133,20,75)"
         },
         "mode": "lines",
         "text": [
          "ipaq_ipaqs_compaq_device_cdma",
          "",
          "",
          "andy_jm_girlfriend_americancentury_thanks"
         ],
         "type": "scatter",
         "x": [
          0,
          0.868976567065145,
          0.868976567065145,
          0
         ],
         "xaxis": "x",
         "y": [
          -2355,
          -2355,
          -2365,
          -2365
         ],
         "yaxis": "y"
        },
        {
         "hoverinfo": "text",
         "marker": {
          "color": "rgb(133,20,75)"
         },
         "mode": "lines",
         "text": [
          "sprint_pcs_verizon_portal_scott",
          "",
          "",
          "ipaq_andy_ipaqs_compaq_device"
         ],
         "type": "scatter",
         "x": [
          0.8940619924492917,
          0.9849263776331427,
          0.9849263776331427,
          0.868976567065145
         ],
         "xaxis": "x",
         "y": [
          -2332.5,
          -2332.5,
          -2360,
          -2360
         ],
         "yaxis": "y"
        },
        {
         "hoverinfo": "text",
         "marker": {
          "color": "rgb(0,116,217)"
         },
         "mode": "lines",
         "text": [
          "blackberry_handheld_net_sent_wireless",
          "",
          "",
          "sprint_ipaq_pcs_andy_verizon"
         ],
         "type": "scatter",
         "x": [
          0.9553698947881998,
          1.0101061172955559,
          1.0101061172955559,
          0.9849263776331427
         ],
         "xaxis": "x",
         "y": [
          -2302.5,
          -2302.5,
          -2346.25,
          -2346.25
         ],
         "yaxis": "y"
        },
        {
         "hoverinfo": "text",
         "marker": {
          "color": "rgb(255,220,0)"
         },
         "mode": "lines",
         "text": [
          "order_shipping_ship_shipped_package",
          "",
          "",
          "fedex_tracking_shipment_ship_fed"
         ],
         "type": "scatter",
         "x": [
          0,
          0.7854735501121759,
          0.7854735501121759,
          0
         ],
         "xaxis": "x",
         "y": [
          -2375,
          -2375,
          -2385,
          -2385
         ],
         "yaxis": "y"
        },
        {
         "hoverinfo": "text",
         "marker": {
          "color": "rgb(0,116,217)"
         },
         "mode": "lines",
         "text": [
          "blackberry_handheld_net_sent_wireless",
          "",
          "",
          "fedex_tracking_shipment_ship_shipping"
         ],
         "type": "scatter",
         "x": [
          1.0101061172955559,
          1.0211406464678479,
          1.0211406464678479,
          0.7854735501121759
         ],
         "xaxis": "x",
         "y": [
          -2324.375,
          -2324.375,
          -2380,
          -2380
         ],
         "yaxis": "y"
        },
        {
         "hoverinfo": "text",
         "marker": {
          "color": "rgb(0,116,217)"
         },
         "mode": "lines",
         "text": [
          "sybase_bayer_leaders_sap_intro",
          "",
          "",
          "blackberry_handheld_net_sent_wireless"
         ],
         "type": "scatter",
         "x": [
          1.065684468201252,
          1.0748259553824058,
          1.0748259553824058,
          1.0211406464678479
         ],
         "xaxis": "x",
         "y": [
          -2261.25,
          -2261.25,
          -2352.1875,
          -2352.1875
         ],
         "yaxis": "y"
        },
        {
         "hoverinfo": "text",
         "marker": {
          "color": "rgb(40,35,35)"
         },
         "mode": "lines",
         "text": [
          "state_synopsis_changed_responsible_webgnats",
          "",
          "",
          "0000462763_fon_frm_msg_01"
         ],
         "type": "scatter",
         "x": [
          0,
          0.9110711121048716,
          0.9110711121048716,
          0
         ],
         "xaxis": "x",
         "y": [
          -2395,
          -2395,
          -2405,
          -2405
         ],
         "yaxis": "y"
        },
        {
         "hoverinfo": "text",
         "marker": {
          "color": "rgb(40,35,35)"
         },
         "mode": "lines",
         "text": [
          "suffix_role_prefix_datasheet_province",
          "",
          "",
          "newsletter_newsletters_unplugged_primus_marilisa"
         ],
         "type": "scatter",
         "x": [
          0,
          0.8921327920910813,
          0.8921327920910813,
          0
         ],
         "xaxis": "x",
         "y": [
          -2415,
          -2415,
          -2425,
          -2425
         ],
         "yaxis": "y"
        },
        {
         "hoverinfo": "text",
         "marker": {
          "color": "rgb(40,35,35)"
         },
         "mode": "lines",
         "text": [
          "state_synopsis_changed_responsible_webgnats",
          "",
          "",
          "newsletter_suffix_role_prefix_datasheet"
         ],
         "type": "scatter",
         "x": [
          0.9110711121048716,
          0.9955427166428238,
          0.9955427166428238,
          0.8921327920910813
         ],
         "xaxis": "x",
         "y": [
          -2400,
          -2400,
          -2420,
          -2420
         ],
         "yaxis": "y"
        },
        {
         "hoverinfo": "text",
         "marker": {
          "color": "rgb(61,153,112)"
         },
         "mode": "lines",
         "text": [
          "survey_surveys_questionnaire_radford_zoomerang",
          "",
          "",
          "survey_service_meetme_schorr_deliver"
         ],
         "type": "scatter",
         "x": [
          0,
          0.7421476593614027,
          0.7421476593614027,
          0
         ],
         "xaxis": "x",
         "y": [
          -2435,
          -2435,
          -2445,
          -2445
         ],
         "yaxis": "y"
        },
        {
         "hoverinfo": "text",
         "marker": {
          "color": "rgb(0,116,217)"
         },
         "mode": "lines",
         "text": [
          "state_synopsis_changed_responsible_webgnats",
          "",
          "",
          "survey_service_meetme_schorr_deliver"
         ],
         "type": "scatter",
         "x": [
          0.9955427166428238,
          1.0878405569706755,
          1.0878405569706755,
          0.7421476593614027
         ],
         "xaxis": "x",
         "y": [
          -2410,
          -2410,
          -2440,
          -2440
         ],
         "yaxis": "y"
        },
        {
         "hoverinfo": "text",
         "marker": {
          "color": "rgb(255,65,54)"
         },
         "mode": "lines",
         "text": [
          "ruyben_sharyn_cj_fyi_intranet",
          "",
          "",
          "jamcracker_openair_fortune_ruyben_sharyn"
         ],
         "type": "scatter",
         "x": [
          0,
          0.8106031640591518,
          0.8106031640591518,
          0
         ],
         "xaxis": "x",
         "y": [
          -2455,
          -2455,
          -2465,
          -2465
         ],
         "yaxis": "y"
        },
        {
         "hoverinfo": "text",
         "marker": {
          "color": "rgb(255,65,54)"
         },
         "mode": "lines",
         "text": [
          "jamcracker_ruyben_openair_sharyn_fortune",
          "",
          "",
          "webex_meeting_join_confid_tm"
         ],
         "type": "scatter",
         "x": [
          0.8106031640591518,
          0.950918008662847,
          0.950918008662847,
          0
         ],
         "xaxis": "x",
         "y": [
          -2460,
          -2460,
          -2475,
          -2475
         ],
         "yaxis": "y"
        },
        {
         "hoverinfo": "text",
         "marker": {
          "color": "rgb(35,205,205)"
         },
         "mode": "lines",
         "text": [
          "ffe_scholarship_india_seshan_foundation",
          "",
          "",
          "tie_tiecon_kailash_venk_vish"
         ],
         "type": "scatter",
         "x": [
          0,
          0.8791992324742848,
          0.8791992324742848,
          0
         ],
         "xaxis": "x",
         "y": [
          -2495,
          -2495,
          -2505,
          -2505
         ],
         "yaxis": "y"
        },
        {
         "hoverinfo": "text",
         "marker": {
          "color": "rgb(35,205,205)"
         },
         "mode": "lines",
         "text": [
          "tie_tiecon_ffe_india_kailash",
          "",
          "",
          "agenda_updated_doc_chris_staff"
         ],
         "type": "scatter",
         "x": [
          0.8791992324742848,
          0.9701916394090728,
          0.9701916394090728,
          0
         ],
         "xaxis": "x",
         "y": [
          -2500,
          -2500,
          -2515,
          -2515
         ],
         "yaxis": "y"
        },
        {
         "hoverinfo": "text",
         "marker": {
          "color": "rgb(35,205,205)"
         },
         "mode": "lines",
         "text": [
          "jai_srimannarayana_sri_jeeyar_swamiji",
          "",
          "",
          "tie_tiecon_ffe_agenda_india"
         ],
         "type": "scatter",
         "x": [
          0,
          0.9814233200958427,
          0.9814233200958427,
          0.9701916394090728
         ],
         "xaxis": "x",
         "y": [
          -2485,
          -2485,
          -2507.5,
          -2507.5
         ],
         "yaxis": "y"
        },
        {
         "hoverinfo": "text",
         "marker": {
          "color": "rgb(61,153,112)"
         },
         "mode": "lines",
         "text": [
          "ron_he_daddy_sarah_his",
          "",
          "",
          "spanish_spain_barcelona_madrid_intensive"
         ],
         "type": "scatter",
         "x": [
          0,
          0.8520525547454065,
          0.8520525547454065,
          0
         ],
         "xaxis": "x",
         "y": [
          -2535,
          -2535,
          -2545,
          -2545
         ],
         "yaxis": "y"
        },
        {
         "hoverinfo": "text",
         "marker": {
          "color": "rgb(61,153,112)"
         },
         "mode": "lines",
         "text": [
          "gartner_study_webcast_analysts_quote",
          "",
          "",
          "ron_spanish_spain_barcelona_madrid"
         ],
         "type": "scatter",
         "x": [
          0,
          0.9312997223145095,
          0.9312997223145095,
          0.8520525547454065
         ],
         "xaxis": "x",
         "y": [
          -2525,
          -2525,
          -2540,
          -2540
         ],
         "yaxis": "y"
        },
        {
         "hoverinfo": "text",
         "marker": {
          "color": "rgb(0,116,217)"
         },
         "mode": "lines",
         "text": [
          "tie_tiecon_jai_ffe_srimannarayana",
          "",
          "",
          "gartner_ron_spanish_spain_barcelona"
         ],
         "type": "scatter",
         "x": [
          0.9814233200958427,
          1.0127786542064314,
          1.0127786542064314,
          0.9312997223145095
         ],
         "xaxis": "x",
         "y": [
          -2496.25,
          -2496.25,
          -2532.5,
          -2532.5
         ],
         "yaxis": "y"
        },
        {
         "hoverinfo": "text",
         "marker": {
          "color": "rgb(255,65,54)"
         },
         "mode": "lines",
         "text": [
          "list_lists_alphabetize_here_rocco",
          "",
          "",
          "mailer_content_subscription_unsubscribe_2653"
         ],
         "type": "scatter",
         "x": [
          0,
          0.8618436108456666,
          0.8618436108456666,
          0
         ],
         "xaxis": "x",
         "y": [
          -2555,
          -2555,
          -2565,
          -2565
         ],
         "yaxis": "y"
        },
        {
         "hoverinfo": "text",
         "marker": {
          "color": "rgb(255,65,54)"
         },
         "mode": "lines",
         "text": [
          "stcetsig_stc_34772p_subscribed_rgantly",
          "",
          "",
          "visio_dds_diagram_document_word"
         ],
         "type": "scatter",
         "x": [
          0,
          0.9350458096795699,
          0.9350458096795699,
          0
         ],
         "xaxis": "x",
         "y": [
          -2575,
          -2575,
          -2585,
          -2585
         ],
         "yaxis": "y"
        },
        {
         "hoverinfo": "text",
         "marker": {
          "color": "rgb(255,65,54)"
         },
         "mode": "lines",
         "text": [
          "mailer_list_content_subscription_unsubscribe",
          "",
          "",
          "stcetsig_stc_34772p_subscribed_visio"
         ],
         "type": "scatter",
         "x": [
          0.8618436108456666,
          0.9799220437971209,
          0.9799220437971209,
          0.9350458096795699
         ],
         "xaxis": "x",
         "y": [
          -2560,
          -2560,
          -2580,
          -2580
         ],
         "yaxis": "y"
        },
        {
         "hoverinfo": "text",
         "marker": {
          "color": "rgb(0,116,217)"
         },
         "mode": "lines",
         "text": [
          "tie_tiecon_gartner_jai_ffe",
          "",
          "",
          "stcetsig_stc_34772p_subscribed_visio"
         ],
         "type": "scatter",
         "x": [
          1.0127786542064314,
          1.0416911289805917,
          1.0416911289805917,
          0.9799220437971209
         ],
         "xaxis": "x",
         "y": [
          -2514.375,
          -2514.375,
          -2570,
          -2570
         ],
         "yaxis": "y"
        },
        {
         "hoverinfo": "text",
         "marker": {
          "color": "rgb(0,116,217)"
         },
         "mode": "lines",
         "text": [
          "webex_jamcracker_ruyben_meeting_join",
          "",
          "",
          "stcetsig_stc_34772p_subscribed_tie"
         ],
         "type": "scatter",
         "x": [
          0.950918008662847,
          1.087943937865926,
          1.087943937865926,
          1.0416911289805917
         ],
         "xaxis": "x",
         "y": [
          -2467.5,
          -2467.5,
          -2542.1875,
          -2542.1875
         ],
         "yaxis": "y"
        },
        {
         "hoverinfo": "text",
         "marker": {
          "color": "rgb(0,116,217)"
         },
         "mode": "lines",
         "text": [
          "state_survey_responsible_synopsis_changed",
          "",
          "",
          "webex_stcetsig_jamcracker_ruyben_stc"
         ],
         "type": "scatter",
         "x": [
          1.0878405569706755,
          1.1095796242237945,
          1.1095796242237945,
          1.087943937865926
         ],
         "xaxis": "x",
         "y": [
          -2425,
          -2425,
          -2504.84375,
          -2504.84375
         ],
         "yaxis": "y"
        },
        {
         "hoverinfo": "text",
         "marker": {
          "color": "rgb(0,116,217)"
         },
         "mode": "lines",
         "text": [
          "blackberry_handheld_net_sent_wireless",
          "",
          "",
          "webex_stcetsig_state_jamcracker_ruyben"
         ],
         "type": "scatter",
         "x": [
          1.0748259553824058,
          1.1336375581141724,
          1.1336375581141724,
          1.1095796242237945
         ],
         "xaxis": "x",
         "y": [
          -2306.71875,
          -2306.71875,
          -2464.921875,
          -2464.921875
         ],
         "yaxis": "y"
        },
        {
         "hoverinfo": "text",
         "marker": {
          "color": "rgb(35,205,205)"
         },
         "mode": "lines",
         "text": [
          "alice_process_vinnie_paiman_cordinate",
          "",
          "",
          "expense_expenses_receipts_report_alice"
         ],
         "type": "scatter",
         "x": [
          0,
          0.7831882549921295,
          0.7831882549921295,
          0
         ],
         "xaxis": "x",
         "y": [
          -2595,
          -2595,
          -2605,
          -2605
         ],
         "yaxis": "y"
        },
        {
         "hoverinfo": "text",
         "marker": {
          "color": "rgb(133,20,75)"
         },
         "mode": "lines",
         "text": [
          "insurance_enrollment_medical_ppo_coverage",
          "",
          "",
          "h1_visa_ins_immigration_kathy"
         ],
         "type": "scatter",
         "x": [
          0,
          0.8220155844106376,
          0.8220155844106376,
          0
         ],
         "xaxis": "x",
         "y": [
          -2615,
          -2615,
          -2625,
          -2625
         ],
         "yaxis": "y"
        },
        {
         "hoverinfo": "text",
         "marker": {
          "color": "rgb(133,20,75)"
         },
         "mode": "lines",
         "text": [
          "bonus_pay_salary_bonuses_paid",
          "",
          "",
          "invoice_invoices_payment_alice_outstanding"
         ],
         "type": "scatter",
         "x": [
          0,
          0.8414234858736582,
          0.8414234858736582,
          0
         ],
         "xaxis": "x",
         "y": [
          -2645,
          -2645,
          -2655,
          -2655
         ],
         "yaxis": "y"
        },
        {
         "hoverinfo": "text",
         "marker": {
          "color": "rgb(133,20,75)"
         },
         "mode": "lines",
         "text": [
          "stock_vesting_shares_options_option",
          "",
          "",
          "invoice_invoices_bonus_payment_paid"
         ],
         "type": "scatter",
         "x": [
          0,
          0.862819892019535,
          0.862819892019535,
          0.8414234858736582
         ],
         "xaxis": "x",
         "y": [
          -2635,
          -2635,
          -2650,
          -2650
         ],
         "yaxis": "y"
        },
        {
         "hoverinfo": "text",
         "marker": {
          "color": "rgb(133,20,75)"
         },
         "mode": "lines",
         "text": [
          "h1_visa_insurance_kathy_enrollment",
          "",
          "",
          "invoice_invoices_bonus_payment_stock"
         ],
         "type": "scatter",
         "x": [
          0.8220155844106376,
          0.9303537102187657,
          0.9303537102187657,
          0.862819892019535
         ],
         "xaxis": "x",
         "y": [
          -2620,
          -2620,
          -2642.5,
          -2642.5
         ],
         "yaxis": "y"
        },
        {
         "hoverinfo": "text",
         "marker": {
          "color": "rgb(255,220,0)"
         },
         "mode": "lines",
         "text": [
          "xls_spreadsheet_excel_sheet_worksheet",
          "",
          "",
          "timesheet_timesheets_sheet_01_rejected"
         ],
         "type": "scatter",
         "x": [
          0,
          0.8308588623534865,
          0.8308588623534865,
          0
         ],
         "xaxis": "x",
         "y": [
          -2665,
          -2665,
          -2675,
          -2675
         ],
         "yaxis": "y"
        },
        {
         "hoverinfo": "text",
         "marker": {
          "color": "rgb(255,220,0)"
         },
         "mode": "lines",
         "text": [
          "timesheet_sheet_xls_timesheets_spreadsheet",
          "",
          "",
          "approved_approve_approval_nurisio_mnurisio"
         ],
         "type": "scatter",
         "x": [
          0.8308588623534865,
          0.9414092003211788,
          0.9414092003211788,
          0
         ],
         "xaxis": "x",
         "y": [
          -2670,
          -2670,
          -2685,
          -2685
         ],
         "yaxis": "y"
        },
        {
         "hoverinfo": "text",
         "marker": {
          "color": "rgb(0,116,217)"
         },
         "mode": "lines",
         "text": [
          "invoice_invoices_bonus_payment_h1",
          "",
          "",
          "timesheet_sheet_xls_timesheets_spreadsheet"
         ],
         "type": "scatter",
         "x": [
          0.9303537102187657,
          1.0050328976270546,
          1.0050328976270546,
          0.9414092003211788
         ],
         "xaxis": "x",
         "y": [
          -2631.25,
          -2631.25,
          -2677.5,
          -2677.5
         ],
         "yaxis": "y"
        },
        {
         "hoverinfo": "text",
         "marker": {
          "color": "rgb(0,116,217)"
         },
         "mode": "lines",
         "text": [
          "expense_alice_expenses_receipts_report",
          "",
          "",
          "timesheet_invoice_invoices_bonus_sheet"
         ],
         "type": "scatter",
         "x": [
          0.7831882549921295,
          1.0734320125522065,
          1.0734320125522065,
          1.0050328976270546
         ],
         "xaxis": "x",
         "y": [
          -2600,
          -2600,
          -2654.375,
          -2654.375
         ],
         "yaxis": "y"
        },
        {
         "hoverinfo": "text",
         "marker": {
          "color": "rgb(40,35,35)"
         },
         "mode": "lines",
         "text": [
          "press_release_releases_pr_wire",
          "",
          "",
          "kits_press_stapled_letterhead_copies"
         ],
         "type": "scatter",
         "x": [
          0,
          0.6355806226934315,
          0.6355806226934315,
          0
         ],
         "xaxis": "x",
         "y": [
          -2695,
          -2695,
          -2705,
          -2705
         ],
         "yaxis": "y"
        },
        {
         "hoverinfo": "text",
         "marker": {
          "color": "rgb(40,35,35)"
         },
         "mode": "lines",
         "text": [
          "press_kits_release_stapled_letterhead",
          "",
          "",
          "ryan_donna_thanks_gloria_adams"
         ],
         "type": "scatter",
         "x": [
          0.6355806226934315,
          0.9387096363964288,
          0.9387096363964288,
          0
         ],
         "xaxis": "x",
         "y": [
          -2700,
          -2700,
          -2715,
          -2715
         ],
         "yaxis": "y"
        },
        {
         "hoverinfo": "text",
         "marker": {
          "color": "rgb(0,116,217)"
         },
         "mode": "lines",
         "text": [
          "timesheet_invoice_invoices_expense_alice",
          "",
          "",
          "press_ryan_kits_release_stapled"
         ],
         "type": "scatter",
         "x": [
          1.0734320125522065,
          1.1577463292659498,
          1.1577463292659498,
          0.9387096363964288
         ],
         "xaxis": "x",
         "y": [
          -2627.1875,
          -2627.1875,
          -2707.5,
          -2707.5
         ],
         "yaxis": "y"
        },
        {
         "hoverinfo": "text",
         "marker": {
          "color": "rgb(0,116,217)"
         },
         "mode": "lines",
         "text": [
          "blackberry_handheld_net_sent_wireless",
          "",
          "",
          "invoice_timesheet_invoices_expense_alice"
         ],
         "type": "scatter",
         "x": [
          1.1336375581141724,
          1.1875105710877896,
          1.1875105710877896,
          1.1577463292659498
         ],
         "xaxis": "x",
         "y": [
          -2385.8203125,
          -2385.8203125,
          -2667.34375,
          -2667.34375
         ],
         "yaxis": "y"
        },
        {
         "hoverinfo": "text",
         "marker": {
          "color": "rgb(0,116,217)"
         },
         "mode": "lines",
         "text": [
          "license_rational_licenses_licensing_robot",
          "",
          "",
          "blackberry_handheld_net_sent_wireless"
         ],
         "type": "scatter",
         "x": [
          0.551045713382948,
          1.2058157934808609,
          1.2058157934808609,
          1.1875105710877896
         ],
         "xaxis": "x",
         "y": [
          -2230,
          -2230,
          -2526.58203125,
          -2526.58203125
         ],
         "yaxis": "y"
        },
        {
         "hoverinfo": "text",
         "marker": {
          "color": "rgb(0,116,217)"
         },
         "mode": "lines",
         "text": [
          "channelwave_lead_leads_mitch_forecast",
          "",
          "",
          "blackberry_handheld_net_sent_wireless"
         ],
         "type": "scatter",
         "x": [
          0.9544557858661005,
          1.2484797034114503,
          1.2484797034114503,
          1.2058157934808609
         ],
         "xaxis": "x",
         "y": [
          -2181.875,
          -2181.875,
          -2378.291015625,
          -2378.291015625
         ],
         "yaxis": "y"
        },
        {
         "hoverinfo": "text",
         "marker": {
          "color": "rgb(61,153,112)"
         },
         "mode": "lines",
         "text": [
          "resume_position_interested_opportunities_hiring",
          "",
          "",
          "resume_resumes_position_experience_skills"
         ],
         "type": "scatter",
         "x": [
          0,
          0.31845448995537706,
          0.31845448995537706,
          0
         ],
         "xaxis": "x",
         "y": [
          -2735,
          -2735,
          -2745,
          -2745
         ],
         "yaxis": "y"
        },
        {
         "hoverinfo": "text",
         "marker": {
          "color": "rgb(61,153,112)"
         },
         "mode": "lines",
         "text": [
          "interview_prem_interviews_kumar_6514",
          "",
          "",
          "resume_position_resumes_experience_my"
         ],
         "type": "scatter",
         "x": [
          0,
          0.8496614607773255,
          0.8496614607773255,
          0.31845448995537706
         ],
         "xaxis": "x",
         "y": [
          -2725,
          -2725,
          -2740,
          -2740
         ],
         "yaxis": "y"
        },
        {
         "hoverinfo": "text",
         "marker": {
          "color": "rgb(255,65,54)"
         },
         "mode": "lines",
         "text": [
          "years_experience_citizen_details_willing",
          "",
          "",
          "____salary_apply_experience_description"
         ],
         "type": "scatter",
         "x": [
          0,
          0.9019750998200733,
          0.9019750998200733,
          0
         ],
         "xaxis": "x",
         "y": [
          -2755,
          -2755,
          -2765,
          -2765
         ],
         "yaxis": "y"
        },
        {
         "hoverinfo": "text",
         "marker": {
          "color": "rgb(0,116,217)"
         },
         "mode": "lines",
         "text": [
          "resume_interview_position_resumes_experience",
          "",
          "",
          "____salary_experience_apply_description"
         ],
         "type": "scatter",
         "x": [
          0.8496614607773255,
          1.0682393785828317,
          1.0682393785828317,
          0.9019750998200733
         ],
         "xaxis": "x",
         "y": [
          -2732.5,
          -2732.5,
          -2760,
          -2760
         ],
         "yaxis": "y"
        },
        {
         "hoverinfo": "text",
         "marker": {
          "color": "rgb(0,116,217)"
         },
         "mode": "lines",
         "text": [
          "blackberry_handheld_net_sent_wireless",
          "",
          "",
          "____resume_experience_salary_job"
         ],
         "type": "scatter",
         "x": [
          1.2484797034114503,
          1.256952682096624,
          1.256952682096624,
          1.0682393785828317
         ],
         "xaxis": "x",
         "y": [
          -2280.0830078125,
          -2280.0830078125,
          -2746.25,
          -2746.25
         ],
         "yaxis": "y"
        },
        {
         "hoverinfo": "text",
         "marker": {
          "color": "rgb(35,205,205)"
         },
         "mode": "lines",
         "text": [
          "trish_lady_her_she_flycast",
          "",
          "",
          "lady_trish_vp_ready_web"
         ],
         "type": "scatter",
         "x": [
          0,
          0.42411700355688287,
          0.42411700355688287,
          0
         ],
         "xaxis": "x",
         "y": [
          -2775,
          -2775,
          -2785,
          -2785
         ],
         "yaxis": "y"
        },
        {
         "hoverinfo": "text",
         "marker": {
          "color": "rgb(0,116,217)"
         },
         "mode": "lines",
         "text": [
          "blackberry_handheld_____net_sent",
          "",
          "",
          "trish_lady_vp_ready_web"
         ],
         "type": "scatter",
         "x": [
          1.256952682096624,
          1.2621188159919625,
          1.2621188159919625,
          0.42411700355688287
         ],
         "xaxis": "x",
         "y": [
          -2513.16650390625,
          -2513.16650390625,
          -2780,
          -2780
         ],
         "yaxis": "y"
        },
        {
         "hoverinfo": "text",
         "marker": {
          "color": "rgb(0,116,217)"
         },
         "mode": "lines",
         "text": [
          "training_doug_chris_longstaffe_instructor",
          "",
          "",
          "blackberry_handheld_____net_sent"
         ],
         "type": "scatter",
         "x": [
          1.2079040688336071,
          1.3076753618469883,
          1.3076753618469883,
          1.2621188159919625
         ],
         "xaxis": "x",
         "y": [
          -2031.328125,
          -2031.328125,
          -2646.583251953125,
          -2646.583251953125
         ],
         "yaxis": "y"
        },
        {
         "hoverinfo": "text",
         "marker": {
          "color": "rgb(61,153,112)"
         },
         "mode": "lines",
         "text": [
          "recipient_prohibited_privileged_notify_confidential",
          "",
          "",
          "recipient_prohibited_privileged_contain_designated"
         ],
         "type": "scatter",
         "x": [
          0,
          0.06225119391548217,
          0.06225119391548217,
          0
         ],
         "xaxis": "x",
         "y": [
          -2805,
          -2805,
          -2815,
          -2815
         ],
         "yaxis": "y"
        },
        {
         "hoverinfo": "text",
         "marker": {
          "color": "rgb(61,153,112)"
         },
         "mode": "lines",
         "text": [
          "nextaxiom_251_925_darren_linscott_1035",
          "",
          "",
          "recipient_prohibited_privileged_notify_contain"
         ],
         "type": "scatter",
         "x": [
          0,
          0.9909317716563553,
          0.9909317716563553,
          0.06225119391548217
         ],
         "xaxis": "x",
         "y": [
          -2795,
          -2795,
          -2810,
          -2810
         ],
         "yaxis": "y"
        },
        {
         "hoverinfo": "text",
         "marker": {
          "color": "rgb(255,65,54)"
         },
         "mode": "lines",
         "text": [
          "vbs_quarantined_loveletter_infected_attachment",
          "",
          "",
          "attachment_attachments_resend_forgot_attach"
         ],
         "type": "scatter",
         "x": [
          0,
          0.7142143844531881,
          0.7142143844531881,
          0
         ],
         "xaxis": "x",
         "y": [
          -2835,
          -2835,
          -2845,
          -2845
         ],
         "yaxis": "y"
        },
        {
         "hoverinfo": "text",
         "marker": {
          "color": "rgb(255,65,54)"
         },
         "mode": "lines",
         "text": [
          "virus_norton_antivirus_worm_viruses",
          "",
          "",
          "attachment_vbs_quarantined_attachments_loveletter"
         ],
         "type": "scatter",
         "x": [
          0,
          0.8168185192260138,
          0.8168185192260138,
          0.7142143844531881
         ],
         "xaxis": "x",
         "y": [
          -2825,
          -2825,
          -2840,
          -2840
         ],
         "yaxis": "y"
        },
        {
         "hoverinfo": "text",
         "marker": {
          "color": "rgb(0,116,217)"
         },
         "mode": "lines",
         "text": [
          "privileged_recipient_prohibited_confidential_intended",
          "",
          "",
          "virus_attachment_vbs_quarantined_attachments"
         ],
         "type": "scatter",
         "x": [
          0.9909317716563553,
          1.2383477295876462,
          1.2383477295876462,
          0.8168185192260138
         ],
         "xaxis": "x",
         "y": [
          -2802.5,
          -2802.5,
          -2832.5,
          -2832.5
         ],
         "yaxis": "y"
        },
        {
         "hoverinfo": "text",
         "marker": {
          "color": "rgb(35,205,205)"
         },
         "mode": "lines",
         "text": [
          "message_re_cdw_quote_moon",
          "",
          "",
          "fw_subject_fwd_tattoo_jpg"
         ],
         "type": "scatter",
         "x": [
          0,
          0.8278919492997495,
          0.8278919492997495,
          0
         ],
         "xaxis": "x",
         "y": [
          -2855,
          -2855,
          -2865,
          -2865
         ],
         "yaxis": "y"
        },
        {
         "hoverinfo": "text",
         "marker": {
          "color": "rgb(35,205,205)"
         },
         "mode": "lines",
         "text": [
          "receipt_wgm_return_sv_received",
          "",
          "",
          "aol_path_full_aolnews_return"
         ],
         "type": "scatter",
         "x": [
          0,
          0.9209069740631499,
          0.9209069740631499,
          0
         ],
         "xaxis": "x",
         "y": [
          -2875,
          -2875,
          -2885,
          -2885
         ],
         "yaxis": "y"
        },
        {
         "hoverinfo": "text",
         "marker": {
          "color": "rgb(35,205,205)"
         },
         "mode": "lines",
         "text": [
          "fw_subject_fwd_message_tattoo",
          "",
          "",
          "aol_return_receipt_path_wgm"
         ],
         "type": "scatter",
         "x": [
          0.8278919492997495,
          0.9928095504783998,
          0.9928095504783998,
          0.9209069740631499
         ],
         "xaxis": "x",
         "y": [
          -2860,
          -2860,
          -2880,
          -2880
         ],
         "yaxis": "y"
        },
        {
         "hoverinfo": "text",
         "marker": {
          "color": "rgb(133,20,75)"
         },
         "mode": "lines",
         "text": [
          "klgroup_klg_esmtp_1999_path",
          "",
          "",
          "listserv1_localbusiness_smtp_klg_0700"
         ],
         "type": "scatter",
         "x": [
          0,
          0.5541627649620362,
          0.5541627649620362,
          0
         ],
         "xaxis": "x",
         "y": [
          -2895,
          -2895,
          -2905,
          -2905
         ],
         "yaxis": "y"
        },
        {
         "hoverinfo": "text",
         "marker": {
          "color": "rgb(0,116,217)"
         },
         "mode": "lines",
         "text": [
          "aol_fw_return_receipt_path",
          "",
          "",
          "klgroup_klg_esmtp_listserv1_1999"
         ],
         "type": "scatter",
         "x": [
          0.9928095504783998,
          1.1535476530908202,
          1.1535476530908202,
          0.5541627649620362
         ],
         "xaxis": "x",
         "y": [
          -2870,
          -2870,
          -2900,
          -2900
         ],
         "yaxis": "y"
        },
        {
         "hoverinfo": "text",
         "marker": {
          "color": "rgb(0,116,217)"
         },
         "mode": "lines",
         "text": [
          "recipient_privileged_prohibited_confidential_intended",
          "",
          "",
          "klgroup_klg_return_esmtp_path"
         ],
         "type": "scatter",
         "x": [
          1.2383477295876462,
          1.3043863390969639,
          1.3043863390969639,
          1.1535476530908202
         ],
         "xaxis": "x",
         "y": [
          -2817.5,
          -2817.5,
          -2885,
          -2885
         ],
         "yaxis": "y"
        },
        {
         "hoverinfo": "text",
         "marker": {
          "color": "rgb(255,220,0)"
         },
         "mode": "lines",
         "text": [
          "explorer_msn_download___________________________________________________________________free",
          "",
          "",
          "yahoo_hotmail_msn_mail_messenger"
         ],
         "type": "scatter",
         "x": [
          0,
          0.7345548156087981,
          0.7345548156087981,
          0
         ],
         "xaxis": "x",
         "y": [
          -2915,
          -2915,
          -2925,
          -2925
         ],
         "yaxis": "y"
        },
        {
         "hoverinfo": "text",
         "marker": {
          "color": "rgb(40,35,35)"
         },
         "mode": "lines",
         "text": [
          "yahoo_mayan_soccer_groups_yahoogroups_unsubscribe",
          "",
          "",
          "xp_extremeprogramming_egroups_groups_yahoo"
         ],
         "type": "scatter",
         "x": [
          0,
          0.5747994159992523,
          0.5747994159992523,
          0
         ],
         "xaxis": "x",
         "y": [
          -2935,
          -2935,
          -2945,
          -2945
         ],
         "yaxis": "y"
        },
        {
         "hoverinfo": "text",
         "marker": {
          "color": "rgb(0,116,217)"
         },
         "mode": "lines",
         "text": [
          "msn_explorer_yahoo_hotmail_free",
          "",
          "",
          "xp_groups_yahoo_extremeprogramming_egroups"
         ],
         "type": "scatter",
         "x": [
          0.7345548156087981,
          1.0148980036152353,
          1.0148980036152353,
          0.5747994159992523
         ],
         "xaxis": "x",
         "y": [
          -2920,
          -2920,
          -2940,
          -2940
         ],
         "yaxis": "y"
        },
        {
         "hoverinfo": "text",
         "marker": {
          "color": "rgb(61,153,112)"
         },
         "mode": "lines",
         "text": [
          "greeting_card_bluemountain_greetings_view",
          "",
          "",
          "bluemountain_mountain_card_blue_cards"
         ],
         "type": "scatter",
         "x": [
          0,
          0.5041460460632887,
          0.5041460460632887,
          0
         ],
         "xaxis": "x",
         "y": [
          -2965,
          -2965,
          -2975,
          -2975
         ],
         "yaxis": "y"
        },
        {
         "hoverinfo": "text",
         "marker": {
          "color": "rgb(61,153,112)"
         },
         "mode": "lines",
         "text": [
          "cards_card_business_order_andrew",
          "",
          "",
          "bluemountain_card_greeting_cards_mountain"
         ],
         "type": "scatter",
         "x": [
          0,
          0.7506257531543478,
          0.7506257531543478,
          0.5041460460632887
         ],
         "xaxis": "x",
         "y": [
          -2955,
          -2955,
          -2970,
          -2970
         ],
         "yaxis": "y"
        },
        {
         "hoverinfo": "text",
         "marker": {
          "color": "rgb(0,116,217)"
         },
         "mode": "lines",
         "text": [
          "yahoo_xp_groups_extremeprogramming_egroups",
          "",
          "",
          "card_bluemountain_cards_greeting_mountain"
         ],
         "type": "scatter",
         "x": [
          1.0148980036152353,
          1.3037533732344933,
          1.3037533732344933,
          0.7506257531543478
         ],
         "xaxis": "x",
         "y": [
          -2930,
          -2930,
          -2962.5,
          -2962.5
         ],
         "yaxis": "y"
        },
        {
         "hoverinfo": "text",
         "marker": {
          "color": "rgb(0,116,217)"
         },
         "mode": "lines",
         "text": [
          "recipient_privileged_prohibited_confidential_intended",
          "",
          "",
          "yahoo_xp_groups_card_extremeprogramming"
         ],
         "type": "scatter",
         "x": [
          1.3043863390969639,
          1.401658996192562,
          1.401658996192562,
          1.3037533732344933
         ],
         "xaxis": "x",
         "y": [
          -2851.25,
          -2851.25,
          -2946.25,
          -2946.25
         ],
         "yaxis": "y"
        },
        {
         "hoverinfo": "text",
         "marker": {
          "color": "rgb(255,65,54)"
         },
         "mode": "lines",
         "text": [
          "gantly_ruth_8033_products_manager",
          "",
          "",
          "ruth_jacinda_om_gantly_ascend"
         ],
         "type": "scatter",
         "x": [
          0,
          0.37859125443466857,
          0.37859125443466857,
          0
         ],
         "xaxis": "x",
         "y": [
          -2985,
          -2985,
          -2995,
          -2995
         ],
         "yaxis": "y"
        },
        {
         "hoverinfo": "text",
         "marker": {
          "color": "rgb(35,205,205)"
         },
         "mode": "lines",
         "text": [
          "858_meltzer_0033_3567_547",
          "",
          "",
          "wirelessly_esq_leading_enterprise_mobility"
         ],
         "type": "scatter",
         "x": [
          0,
          0.8319963710008829,
          0.8319963710008829,
          0
         ],
         "xaxis": "x",
         "y": [
          -3015,
          -3015,
          -3025,
          -3025
         ],
         "yaxis": "y"
        },
        {
         "hoverinfo": "text",
         "marker": {
          "color": "rgb(35,205,205)"
         },
         "mode": "lines",
         "text": [
          "dave_chris_call_thanks_brad",
          "",
          "",
          "meltzer_858_wirelessly_3567_0033"
         ],
         "type": "scatter",
         "x": [
          0,
          0.8882857166010887,
          0.8882857166010887,
          0.8319963710008829
         ],
         "xaxis": "x",
         "y": [
          -3005,
          -3005,
          -3020,
          -3020
         ],
         "yaxis": "y"
        },
        {
         "hoverinfo": "text",
         "marker": {
          "color": "rgb(61,153,112)"
         },
         "mode": "lines",
         "text": [
          "david_fyi_george_amit_discuss",
          "",
          "",
          "8080_chan_vp_david_development"
         ],
         "type": "scatter",
         "x": [
          0,
          0.741726252510155,
          0.741726252510155,
          0
         ],
         "xaxis": "x",
         "y": [
          -3045,
          -3045,
          -3055,
          -3055
         ],
         "yaxis": "y"
        },
        {
         "hoverinfo": "text",
         "marker": {
          "color": "rgb(61,153,112)"
         },
         "mode": "lines",
         "text": [
          "marcus_7978_9010_281_david",
          "",
          "",
          "8080_chan_vp_david_development"
         ],
         "type": "scatter",
         "x": [
          0,
          0.8816444440843573,
          0.8816444440843573,
          0.741726252510155
         ],
         "xaxis": "x",
         "y": [
          -3035,
          -3035,
          -3050,
          -3050
         ],
         "yaxis": "y"
        },
        {
         "hoverinfo": "text",
         "marker": {
          "color": "rgb(0,116,217)"
         },
         "mode": "lines",
         "text": [
          "meltzer_dave_858_wirelessly_3567",
          "",
          "",
          "marcus_david_8080_7978_chan"
         ],
         "type": "scatter",
         "x": [
          0.8882857166010887,
          1.0997746233257168,
          1.0997746233257168,
          0.8816444440843573
         ],
         "xaxis": "x",
         "y": [
          -3012.5,
          -3012.5,
          -3042.5,
          -3042.5
         ],
         "yaxis": "y"
        },
        {
         "hoverinfo": "text",
         "marker": {
          "color": "rgb(255,65,54)"
         },
         "mode": "lines",
         "text": [
          "carlos_lupe_experio_torres_him",
          "",
          "",
          "restrepo_carlos_8052_4083909518_9518"
         ],
         "type": "scatter",
         "x": [
          0,
          0.6207994283535004,
          0.6207994283535004,
          0
         ],
         "xaxis": "x",
         "y": [
          -3065,
          -3065,
          -3075,
          -3075
         ],
         "yaxis": "y"
        },
        {
         "hoverinfo": "text",
         "marker": {
          "color": "rgb(35,205,205)"
         },
         "mode": "lines",
         "text": [
          "cerrone_kimberlie_9157_8109_8069",
          "",
          "",
          "kimberlie_her_luck_kim_ask"
         ],
         "type": "scatter",
         "x": [
          0,
          0.6448123530226744,
          0.6448123530226744,
          0
         ],
         "xaxis": "x",
         "y": [
          -3085,
          -3085,
          -3095,
          -3095
         ],
         "yaxis": "y"
        },
        {
         "hoverinfo": "text",
         "marker": {
          "color": "rgb(133,20,75)"
         },
         "mode": "lines",
         "text": [
          "sanjay_ravi_hung_rajeev_doobey",
          "",
          "",
          "offline_browsing_outline_sanjay_online"
         ],
         "type": "scatter",
         "x": [
          0,
          0.829572707753184,
          0.829572707753184,
          0
         ],
         "xaxis": "x",
         "y": [
          -3105,
          -3105,
          -3115,
          -3115
         ],
         "yaxis": "y"
        },
        {
         "hoverinfo": "text",
         "marker": {
          "color": "rgb(255,220,0)"
         },
         "mode": "lines",
         "text": [
          "helen_she_jon_disengaged_her",
          "",
          "",
          "fortunata_regional_toni_helen_tucows"
         ],
         "type": "scatter",
         "x": [
          0,
          0.9082832462296051,
          0.9082832462296051,
          0
         ],
         "xaxis": "x",
         "y": [
          -3145,
          -3145,
          -3155,
          -3155
         ],
         "yaxis": "y"
        },
        {
         "hoverinfo": "text",
         "marker": {
          "color": "rgb(255,220,0)"
         },
         "mode": "lines",
         "text": [
          "base_touch_anyn_week_ll",
          "",
          "",
          "fortunata_helen_regional_toni_she"
         ],
         "type": "scatter",
         "x": [
          0,
          0.9545387431343144,
          0.9545387431343144,
          0.9082832462296051
         ],
         "xaxis": "x",
         "y": [
          -3135,
          -3135,
          -3150,
          -3150
         ],
         "yaxis": "y"
        },
        {
         "hoverinfo": "text",
         "marker": {
          "color": "rgb(255,220,0)"
         },
         "mode": "lines",
         "text": [
          "cisco_oooo____________________________oo0o_________________________abottazz",
          "",
          "",
          "fortunata_helen_base_touch_regional"
         ],
         "type": "scatter",
         "x": [
          0,
          0.9683425791054996,
          0.9683425791054996,
          0.9545387431343144
         ],
         "xaxis": "x",
         "y": [
          -3125,
          -3125,
          -3142.5,
          -3142.5
         ],
         "yaxis": "y"
        },
        {
         "hoverinfo": "text",
         "marker": {
          "color": "rgb(255,220,0)"
         },
         "mode": "lines",
         "text": [
          "attend_attending_hedges_maxine_like",
          "",
          "",
          "lisa_crowder_her_she_pel"
         ],
         "type": "scatter",
         "x": [
          0,
          0.9386654840772267,
          0.9386654840772267,
          0
         ],
         "xaxis": "x",
         "y": [
          -3165,
          -3165,
          -3175,
          -3175
         ],
         "yaxis": "y"
        },
        {
         "hoverinfo": "text",
         "marker": {
          "color": "rgb(255,220,0)"
         },
         "mode": "lines",
         "text": [
          "fortunata_cisco_helen_base_touch",
          "",
          "",
          "attend_lisa_attending_hedges_she"
         ],
         "type": "scatter",
         "x": [
          0.9683425791054996,
          0.9801348605224643,
          0.9801348605224643,
          0.9386654840772267
         ],
         "xaxis": "x",
         "y": [
          -3133.75,
          -3133.75,
          -3170,
          -3170
         ],
         "yaxis": "y"
        },
        {
         "hoverinfo": "text",
         "marker": {
          "color": "rgb(40,35,35)"
         },
         "mode": "lines",
         "text": [
          "fyi_below_folo_action_heads",
          "",
          "",
          "glenn_pereira_fyi_thanks_om"
         ],
         "type": "scatter",
         "x": [
          0,
          0.9348041840092132,
          0.9348041840092132,
          0
         ],
         "xaxis": "x",
         "y": [
          -3185,
          -3185,
          -3195,
          -3195
         ],
         "yaxis": "y"
        },
        {
         "hoverinfo": "text",
         "marker": {
          "color": "rgb(0,116,217)"
         },
         "mode": "lines",
         "text": [
          "fortunata_cisco_attend_helen_base",
          "",
          "",
          "glenn_fyi_pereira_om_thanks"
         ],
         "type": "scatter",
         "x": [
          0.9801348605224643,
          1.0068307795095006,
          1.0068307795095006,
          0.9348041840092132
         ],
         "xaxis": "x",
         "y": [
          -3151.875,
          -3151.875,
          -3190,
          -3190
         ],
         "yaxis": "y"
        },
        {
         "hoverinfo": "text",
         "marker": {
          "color": "rgb(61,153,112)"
         },
         "mode": "lines",
         "text": [
          "funny_ha_lol_rofl_oh",
          "",
          "",
          "another_one_more_nn_here"
         ],
         "type": "scatter",
         "x": [
          0,
          0.8937435224894809,
          0.8937435224894809,
          0
         ],
         "xaxis": "x",
         "y": [
          -3215,
          -3215,
          -3225,
          -3225
         ],
         "yaxis": "y"
        },
        {
         "hoverinfo": "text",
         "marker": {
          "color": "rgb(61,153,112)"
         },
         "mode": "lines",
         "text": [
          "calendar_put_calendars_my_pumps",
          "",
          "",
          "funny_ha_lol_rofl_oh"
         ],
         "type": "scatter",
         "x": [
          0,
          0.9664222819026123,
          0.9664222819026123,
          0.8937435224894809
         ],
         "xaxis": "x",
         "y": [
          -3205,
          -3205,
          -3220,
          -3220
         ],
         "yaxis": "y"
        },
        {
         "hoverinfo": "text",
         "marker": {
          "color": "rgb(255,65,54)"
         },
         "mode": "lines",
         "text": [
          "arun_srik_thanks_kalasapudi_om",
          "",
          "",
          "tony_craig_he_la_om"
         ],
         "type": "scatter",
         "x": [
          0,
          0.9286236574175455,
          0.9286236574175455,
          0
         ],
         "xaxis": "x",
         "y": [
          -3245,
          -3245,
          -3255,
          -3255
         ],
         "yaxis": "y"
        },
        {
         "hoverinfo": "text",
         "marker": {
          "color": "rgb(255,65,54)"
         },
         "mode": "lines",
         "text": [
          "bithi_she_boy_nilesh_brandon",
          "",
          "",
          "arun_tony_srik_thanks_om"
         ],
         "type": "scatter",
         "x": [
          0,
          0.975806470087672,
          0.975806470087672,
          0.9286236574175455
         ],
         "xaxis": "x",
         "y": [
          -3235,
          -3235,
          -3250,
          -3250
         ],
         "yaxis": "y"
        },
        {
         "hoverinfo": "text",
         "marker": {
          "color": "rgb(255,65,54)"
         },
         "mode": "lines",
         "text": [
          "hung_pokemon_steve_abinov_pinball",
          "",
          "",
          "cd_cds_burner_burn_cdnow"
         ],
         "type": "scatter",
         "x": [
          0,
          0.937897615196223,
          0.937897615196223,
          0
         ],
         "xaxis": "x",
         "y": [
          -3265,
          -3265,
          -3275,
          -3275
         ],
         "yaxis": "y"
        },
        {
         "hoverinfo": "text",
         "marker": {
          "color": "rgb(255,65,54)"
         },
         "mode": "lines",
         "text": [
          "arun_tony_bithi_thanks_srik",
          "",
          "",
          "cd_hung_cds_burner_burn"
         ],
         "type": "scatter",
         "x": [
          0.975806470087672,
          0.9834095781817874,
          0.9834095781817874,
          0.937897615196223
         ],
         "xaxis": "x",
         "y": [
          -3242.5,
          -3242.5,
          -3270,
          -3270
         ],
         "yaxis": "y"
        },
        {
         "hoverinfo": "text",
         "marker": {
          "color": "rgb(35,205,205)"
         },
         "mode": "lines",
         "text": [
          "vinayak_srik_daisy_sharon_sreeni",
          "",
          "",
          "roopak_prasad_ravi_thats_cheers"
         ],
         "type": "scatter",
         "x": [
          0,
          0.9472314631084842,
          0.9472314631084842,
          0
         ],
         "xaxis": "x",
         "y": [
          -3285,
          -3285,
          -3295,
          -3295
         ],
         "yaxis": "y"
        },
        {
         "hoverinfo": "text",
         "marker": {
          "color": "rgb(35,205,205)"
         },
         "mode": "lines",
         "text": [
          "roopak_vinayak_srik_ravi_prasad",
          "",
          "",
          "shailesh_jin_shari_baxish_thanks"
         ],
         "type": "scatter",
         "x": [
          0.9472314631084842,
          0.9636066376348634,
          0.9636066376348634,
          0
         ],
         "xaxis": "x",
         "y": [
          -3290,
          -3290,
          -3305,
          -3305
         ],
         "yaxis": "y"
        },
        {
         "hoverinfo": "text",
         "marker": {
          "color": "rgb(35,205,205)"
         },
         "mode": "lines",
         "text": [
          "roopak_vinayak_shailesh_srik_ravi",
          "",
          "",
          "kc_paiman_lorraine_kishor_kcstar"
         ],
         "type": "scatter",
         "x": [
          0.9636066376348634,
          0.9935726402465012,
          0.9935726402465012,
          0
         ],
         "xaxis": "x",
         "y": [
          -3297.5,
          -3297.5,
          -3315,
          -3315
         ],
         "yaxis": "y"
        },
        {
         "hoverinfo": "text",
         "marker": {
          "color": "rgb(0,116,217)"
         },
         "mode": "lines",
         "text": [
          "cd_arun_hung_tony_bithi",
          "",
          "",
          "roopak_kc_vinayak_shailesh_paiman"
         ],
         "type": "scatter",
         "x": [
          0.9834095781817874,
          1.0074470921005572,
          1.0074470921005572,
          0.9935726402465012
         ],
         "xaxis": "x",
         "y": [
          -3256.25,
          -3256.25,
          -3306.25,
          -3306.25
         ],
         "yaxis": "y"
        },
        {
         "hoverinfo": "text",
         "marker": {
          "color": "rgb(0,116,217)"
         },
         "mode": "lines",
         "text": [
          "funny_ha_calendar_lol_rofl",
          "",
          "",
          "cd_arun_hung_roopak_tony"
         ],
         "type": "scatter",
         "x": [
          0.9664222819026123,
          1.0404897327752218,
          1.0404897327752218,
          1.0074470921005572
         ],
         "xaxis": "x",
         "y": [
          -3212.5,
          -3212.5,
          -3281.25,
          -3281.25
         ],
         "yaxis": "y"
        },
        {
         "hoverinfo": "text",
         "marker": {
          "color": "rgb(0,116,217)"
         },
         "mode": "lines",
         "text": [
          "glenn_fortunata_fyi_cisco_attend",
          "",
          "",
          "cd_arun_hung_funny_roopak"
         ],
         "type": "scatter",
         "x": [
          1.0068307795095006,
          1.0476641339318,
          1.0476641339318,
          1.0404897327752218
         ],
         "xaxis": "x",
         "y": [
          -3170.9375,
          -3170.9375,
          -3246.875,
          -3246.875
         ],
         "yaxis": "y"
        },
        {
         "hoverinfo": "text",
         "marker": {
          "color": "rgb(0,116,217)"
         },
         "mode": "lines",
         "text": [
          "sanjay_offline_browsing_outline_ann",
          "",
          "",
          "glenn_cd_arun_fortunata_hung"
         ],
         "type": "scatter",
         "x": [
          0.829572707753184,
          1.0567617940663614,
          1.0567617940663614,
          1.0476641339318
         ],
         "xaxis": "x",
         "y": [
          -3110,
          -3110,
          -3208.90625,
          -3208.90625
         ],
         "yaxis": "y"
        },
        {
         "hoverinfo": "text",
         "marker": {
          "color": "rgb(61,153,112)"
         },
         "mode": "lines",
         "text": [
          "collateral_emma_joint_pieces_ep",
          "",
          "",
          "emma_advise_fyi_thanks_awesome"
         ],
         "type": "scatter",
         "x": [
          0,
          0.801295262414107,
          0.801295262414107,
          0
         ],
         "xaxis": "x",
         "y": [
          -3325,
          -3325,
          -3335,
          -3335
         ],
         "yaxis": "y"
        },
        {
         "hoverinfo": "text",
         "marker": {
          "color": "rgb(0,116,217)"
         },
         "mode": "lines",
         "text": [
          "glenn_cd_arun_fortunata_hung",
          "",
          "",
          "collateral_emma_joint_advise_pieces"
         ],
         "type": "scatter",
         "x": [
          1.0567617940663614,
          1.0878402209970248,
          1.0878402209970248,
          0.801295262414107
         ],
         "xaxis": "x",
         "y": [
          -3159.453125,
          -3159.453125,
          -3330,
          -3330
         ],
         "yaxis": "y"
        },
        {
         "hoverinfo": "text",
         "marker": {
          "color": "rgb(255,65,54)"
         },
         "mode": "lines",
         "text": [
          "thank_thanks_much_sir_very",
          "",
          "",
          "great_cool_thanks_awesome_excellent"
         ],
         "type": "scatter",
         "x": [
          0,
          0.7463327764798477,
          0.7463327764798477,
          0
         ],
         "xaxis": "x",
         "y": [
          -3345,
          -3345,
          -3355,
          -3355
         ],
         "yaxis": "y"
        },
        {
         "hoverinfo": "text",
         "marker": {
          "color": "rgb(35,205,205)"
         },
         "mode": "lines",
         "text": [
          "amit_sounds_good_thanks_thx",
          "",
          "",
          "stellcom_amit_bernie_hanks_amr"
         ],
         "type": "scatter",
         "x": [
          0,
          0.8307278952894354,
          0.8307278952894354,
          0
         ],
         "xaxis": "x",
         "y": [
          -3365,
          -3365,
          -3375,
          -3375
         ],
         "yaxis": "y"
        },
        {
         "hoverinfo": "text",
         "marker": {
          "color": "rgb(133,20,75)"
         },
         "mode": "lines",
         "text": [
          "781_6774_smialek_238_regional",
          "",
          "",
          "7699_413_18940_trumbull_newtown"
         ],
         "type": "scatter",
         "x": [
          0,
          0.868265359277979,
          0.868265359277979,
          0
         ],
         "xaxis": "x",
         "y": [
          -3385,
          -3385,
          -3395,
          -3395
         ],
         "yaxis": "y"
        },
        {
         "hoverinfo": "text",
         "marker": {
          "color": "rgb(0,116,217)"
         },
         "mode": "lines",
         "text": [
          "stellcom_amit_bernie_hanks_amr",
          "",
          "",
          "781_6774_smialek_238_regional"
         ],
         "type": "scatter",
         "x": [
          0.8307278952894354,
          1.0614891602145435,
          1.0614891602145435,
          0.868265359277979
         ],
         "xaxis": "x",
         "y": [
          -3370,
          -3370,
          -3390,
          -3390
         ],
         "yaxis": "y"
        },
        {
         "hoverinfo": "text",
         "marker": {
          "color": "rgb(0,116,217)"
         },
         "mode": "lines",
         "text": [
          "thank_thanks_great_cool_much",
          "",
          "",
          "781_6774_smialek_238_peter"
         ],
         "type": "scatter",
         "x": [
          0.7463327764798477,
          1.112752788033289,
          1.112752788033289,
          1.0614891602145435
         ],
         "xaxis": "x",
         "y": [
          -3350,
          -3350,
          -3380,
          -3380
         ],
         "yaxis": "y"
        },
        {
         "hoverinfo": "text",
         "marker": {
          "color": "rgb(0,116,217)"
         },
         "mode": "lines",
         "text": [
          "glenn_collateral_cd_arun_fortunata",
          "",
          "",
          "781_6774_smialek_238_peter"
         ],
         "type": "scatter",
         "x": [
          1.0878402209970248,
          1.1649989864431847,
          1.1649989864431847,
          1.112752788033289
         ],
         "xaxis": "x",
         "y": [
          -3244.7265625,
          -3244.7265625,
          -3365,
          -3365
         ],
         "yaxis": "y"
        },
        {
         "hoverinfo": "text",
         "marker": {
          "color": "rgb(255,220,0)"
         },
         "mode": "lines",
         "text": [
          "gif_gifs_images_file_animated",
          "",
          "",
          "icons_icon_bmp_gif_bhagvan"
         ],
         "type": "scatter",
         "x": [
          0,
          0.7918839112935403,
          0.7918839112935403,
          0
         ],
         "xaxis": "x",
         "y": [
          -3415,
          -3415,
          -3425,
          -3425
         ],
         "yaxis": "y"
        },
        {
         "hoverinfo": "text",
         "marker": {
          "color": "rgb(255,220,0)"
         },
         "mode": "lines",
         "text": [
          "jpg_jpeg_mvc_file_interchange",
          "",
          "",
          "icons_gif_icon_bmp_gifs"
         ],
         "type": "scatter",
         "x": [
          0,
          0.9596511199208553,
          0.9596511199208553,
          0.7918839112935403
         ],
         "xaxis": "x",
         "y": [
          -3405,
          -3405,
          -3420,
          -3420
         ],
         "yaxis": "y"
        },
        {
         "hoverinfo": "text",
         "marker": {
          "color": "rgb(40,35,35)"
         },
         "mode": "lines",
         "text": [
          "que_de_el_la_en",
          "",
          "",
          "243_773_mccann_60631_0324"
         ],
         "type": "scatter",
         "x": [
          0,
          0.9963381275228713,
          0.9963381275228713,
          0
         ],
         "xaxis": "x",
         "y": [
          -3445,
          -3445,
          -3455,
          -3455
         ],
         "yaxis": "y"
        },
        {
         "hoverinfo": "text",
         "marker": {
          "color": "rgb(40,35,35)"
         },
         "mode": "lines",
         "text": [
          "gene_garrett_7663_704_968",
          "",
          "",
          "tucker_tennille_shit_boo_nigga"
         ],
         "type": "scatter",
         "x": [
          0,
          0.993358497305037,
          0.993358497305037,
          0
         ],
         "xaxis": "x",
         "y": [
          -3465,
          -3465,
          -3475,
          -3475
         ],
         "yaxis": "y"
        },
        {
         "hoverinfo": "text",
         "marker": {
          "color": "rgb(40,35,35)"
         },
         "mode": "lines",
         "text": [
          "que_de_el_la_en",
          "",
          "",
          "tucker_tennille_gene_garrett_7663"
         ],
         "type": "scatter",
         "x": [
          0.9963381275228713,
          0.9967080952589744,
          0.9967080952589744,
          0.993358497305037
         ],
         "xaxis": "x",
         "y": [
          -3450,
          -3450,
          -3470,
          -3470
         ],
         "yaxis": "y"
        },
        {
         "hoverinfo": "text",
         "marker": {
          "color": "rgb(0,116,217)"
         },
         "mode": "lines",
         "text": [
          "orca_orcadir_percol_orcallator_u01",
          "",
          "",
          "que_de_el_la_en"
         ],
         "type": "scatter",
         "x": [
          0,
          1.000963496183611,
          1.000963496183611,
          0.9967080952589744
         ],
         "xaxis": "x",
         "y": [
          -3435,
          -3435,
          -3460,
          -3460
         ],
         "yaxis": "y"
        },
        {
         "hoverinfo": "text",
         "marker": {
          "color": "rgb(61,153,112)"
         },
         "mode": "lines",
         "text": [
          "chen_diana_4689_8143_829",
          "",
          "",
          "8096_fang_khou_recruiting_kfang"
         ],
         "type": "scatter",
         "x": [
          0,
          0.9534992085345559,
          0.9534992085345559,
          0
         ],
         "xaxis": "x",
         "y": [
          -3495,
          -3495,
          -3505,
          -3505
         ],
         "yaxis": "y"
        },
        {
         "hoverinfo": "text",
         "marker": {
          "color": "rgb(61,153,112)"
         },
         "mode": "lines",
         "text": [
          "gaskill_7977_gal_gui_dondi",
          "",
          "",
          "8096_fang_khou_recruiting_chen"
         ],
         "type": "scatter",
         "x": [
          0,
          0.9773665649789914,
          0.9773665649789914,
          0.9534992085345559
         ],
         "xaxis": "x",
         "y": [
          -3485,
          -3485,
          -3500,
          -3500
         ],
         "yaxis": "y"
        },
        {
         "hoverinfo": "text",
         "marker": {
          "color": "rgb(61,153,112)"
         },
         "mode": "lines",
         "text": [
          "8096_fang_khou_gaskill_7977",
          "",
          "",
          "jivaroinc_jivaro_733_headhunters_5156"
         ],
         "type": "scatter",
         "x": [
          0.9773665649789914,
          0.9926070381970098,
          0.9926070381970098,
          0
         ],
         "xaxis": "x",
         "y": [
          -3492.5,
          -3492.5,
          -3515,
          -3515
         ],
         "yaxis": "y"
        },
        {
         "hoverinfo": "text",
         "marker": {
          "color": "rgb(0,116,217)"
         },
         "mode": "lines",
         "text": [
          "que_de_el_la_en",
          "",
          "",
          "8096_fang_khou_gaskill_7977"
         ],
         "type": "scatter",
         "x": [
          1.000963496183611,
          1.024599597801966,
          1.024599597801966,
          0.9926070381970098
         ],
         "xaxis": "x",
         "y": [
          -3447.5,
          -3447.5,
          -3503.75,
          -3503.75
         ],
         "yaxis": "y"
        },
        {
         "hoverinfo": "text",
         "marker": {
          "color": "rgb(255,65,54)"
         },
         "mode": "lines",
         "text": [
          "news_cnet_html_http_asp",
          "",
          "",
          "laporte_jon_9163_2040_985"
         ],
         "type": "scatter",
         "x": [
          0,
          0.948394565429252,
          0.948394565429252,
          0
         ],
         "xaxis": "x",
         "y": [
          -3535,
          -3535,
          -3545,
          -3545
         ],
         "yaxis": "y"
        },
        {
         "hoverinfo": "text",
         "marker": {
          "color": "rgb(255,65,54)"
         },
         "mode": "lines",
         "text": [
          "753_770_grant_8238_9581",
          "",
          "",
          "laporte_jon_9163_2040_985"
         ],
         "type": "scatter",
         "x": [
          0,
          0.976863330581596,
          0.976863330581596,
          0.948394565429252
         ],
         "xaxis": "x",
         "y": [
          -3525,
          -3525,
          -3540,
          -3540
         ],
         "yaxis": "y"
        },
        {
         "hoverinfo": "text",
         "marker": {
          "color": "rgb(35,205,205)"
         },
         "mode": "lines",
         "text": [
          "btopi_bt_weboe_btorder_num",
          "",
          "",
          "below_comments_see_my_embedded"
         ],
         "type": "scatter",
         "x": [
          0,
          0.9361106311014454,
          0.9361106311014454,
          0
         ],
         "xaxis": "x",
         "y": [
          -3555,
          -3555,
          -3565,
          -3565
         ],
         "yaxis": "y"
        },
        {
         "hoverinfo": "text",
         "marker": {
          "color": "rgb(0,116,217)"
         },
         "mode": "lines",
         "text": [
          "laporte_753_770_jon_9163",
          "",
          "",
          "btopi_bt_weboe_btorder_num"
         ],
         "type": "scatter",
         "x": [
          0.976863330581596,
          1.0436763010954675,
          1.0436763010954675,
          0.9361106311014454
         ],
         "xaxis": "x",
         "y": [
          -3532.5,
          -3532.5,
          -3560,
          -3560
         ],
         "yaxis": "y"
        },
        {
         "hoverinfo": "text",
         "marker": {
          "color": "rgb(0,116,217)"
         },
         "mode": "lines",
         "text": [
          "que_de_el_la_en",
          "",
          "",
          "btopi_bt_laporte_753_770"
         ],
         "type": "scatter",
         "x": [
          1.024599597801966,
          1.049394314160356,
          1.049394314160356,
          1.0436763010954675
         ],
         "xaxis": "x",
         "y": [
          -3475.625,
          -3475.625,
          -3546.25,
          -3546.25
         ],
         "yaxis": "y"
        },
        {
         "hoverinfo": "text",
         "marker": {
          "color": "rgb(61,153,112)"
         },
         "mode": "lines",
         "text": [
          "vm_left_got_amit_206",
          "",
          "",
          "206_5105_6105_604_weller"
         ],
         "type": "scatter",
         "x": [
          0,
          0.8642462501689819,
          0.8642462501689819,
          0
         ],
         "xaxis": "x",
         "y": [
          -3575,
          -3575,
          -3585,
          -3585
         ],
         "yaxis": "y"
        },
        {
         "hoverinfo": "text",
         "marker": {
          "color": "rgb(255,65,54)"
         },
         "mode": "lines",
         "text": [
          "857_650_8254_1230_848",
          "",
          "",
          "cell_number_call_my_phone"
         ],
         "type": "scatter",
         "x": [
          0,
          0.8175520574510868,
          0.8175520574510868,
          0
         ],
         "xaxis": "x",
         "y": [
          -3595,
          -3595,
          -3605,
          -3605
         ],
         "yaxis": "y"
        },
        {
         "hoverinfo": "text",
         "marker": {
          "color": "rgb(255,65,54)"
         },
         "mode": "lines",
         "text": [
          "cell_number_call_my_phone",
          "",
          "",
          "digitalenterprises_5025_892_dfradin_0974"
         ],
         "type": "scatter",
         "x": [
          0.8175520574510868,
          0.9742182873563913,
          0.9742182873563913,
          0
         ],
         "xaxis": "x",
         "y": [
          -3600,
          -3600,
          -3615,
          -3615
         ],
         "yaxis": "y"
        },
        {
         "hoverinfo": "text",
         "marker": {
          "color": "rgb(0,116,217)"
         },
         "mode": "lines",
         "text": [
          "206_5105_6105_604_weller",
          "",
          "",
          "cell_digitalenterprises_892_5025_dfradin"
         ],
         "type": "scatter",
         "x": [
          0.8642462501689819,
          1.0187423040380077,
          1.0187423040380077,
          0.9742182873563913
         ],
         "xaxis": "x",
         "y": [
          -3580,
          -3580,
          -3607.5,
          -3607.5
         ],
         "yaxis": "y"
        },
        {
         "hoverinfo": "text",
         "marker": {
          "color": "rgb(0,116,217)"
         },
         "mode": "lines",
         "text": [
          "que_de_el_la_en",
          "",
          "",
          "cell_digitalenterprises_206_892_5025"
         ],
         "type": "scatter",
         "x": [
          1.049394314160356,
          1.1208104022269545,
          1.1208104022269545,
          1.0187423040380077
         ],
         "xaxis": "x",
         "y": [
          -3510.9375,
          -3510.9375,
          -3593.75,
          -3593.75
         ],
         "yaxis": "y"
        },
        {
         "hoverinfo": "text",
         "marker": {
          "color": "rgb(0,116,217)"
         },
         "mode": "lines",
         "text": [
          "icons_jpg_gif_icon_file",
          "",
          "",
          "que_de_el_la_en"
         ],
         "type": "scatter",
         "x": [
          0.9596511199208553,
          1.1570981393535165,
          1.1570981393535165,
          1.1208104022269545
         ],
         "xaxis": "x",
         "y": [
          -3412.5,
          -3412.5,
          -3552.34375,
          -3552.34375
         ],
         "yaxis": "y"
        },
        {
         "hoverinfo": "text",
         "marker": {
          "color": "rgb(35,205,205)"
         },
         "mode": "lines",
         "text": [
          "270_4309_kadanoff_8050_officer",
          "",
          "",
          "iq_777_insiteful_promotions_mkadanoff"
         ],
         "type": "scatter",
         "x": [
          0,
          0.7337793031541977,
          0.7337793031541977,
          0
         ],
         "xaxis": "x",
         "y": [
          -3625,
          -3625,
          -3635,
          -3635
         ],
         "yaxis": "y"
        },
        {
         "hoverinfo": "text",
         "marker": {
          "color": "rgb(0,116,217)"
         },
         "mode": "lines",
         "text": [
          "que_de_el_la_en",
          "",
          "",
          "iq_777_insiteful_promotions_kadanoff"
         ],
         "type": "scatter",
         "x": [
          1.1570981393535165,
          1.1747850532150985,
          1.1747850532150985,
          0.7337793031541977
         ],
         "xaxis": "x",
         "y": [
          -3482.421875,
          -3482.421875,
          -3630,
          -3630
         ],
         "yaxis": "y"
        },
        {
         "hoverinfo": "text",
         "marker": {
          "color": "rgb(133,20,75)"
         },
         "mode": "lines",
         "text": [
          "car_miles_toyota_honda_oocl",
          "",
          "",
          "oocl_bacadi_reefer_diane_specialist"
         ],
         "type": "scatter",
         "x": [
          0,
          0.7126758176778112,
          0.7126758176778112,
          0
         ],
         "xaxis": "x",
         "y": [
          -3645,
          -3645,
          -3655,
          -3655
         ],
         "yaxis": "y"
        },
        {
         "hoverinfo": "text",
         "marker": {
          "color": "rgb(0,116,217)"
         },
         "mode": "lines",
         "text": [
          "iq_que_777_insiteful_promotions",
          "",
          "",
          "oocl_bacadi_reefer_diane_specialist"
         ],
         "type": "scatter",
         "x": [
          1.1747850532150985,
          1.185515769783747,
          1.185515769783747,
          0.7126758176778112
         ],
         "xaxis": "x",
         "y": [
          -3556.2109375,
          -3556.2109375,
          -3650,
          -3650
         ],
         "yaxis": "y"
        },
        {
         "hoverinfo": "text",
         "marker": {
          "color": "rgb(255,220,0)"
         },
         "mode": "lines",
         "text": [
          "ray_canuel_rahamin_aventis_rayhan",
          "",
          "",
          "canuel_703_281_4223_ray"
         ],
         "type": "scatter",
         "x": [
          0,
          0.7166982692906864,
          0.7166982692906864,
          0
         ],
         "xaxis": "x",
         "y": [
          -3665,
          -3665,
          -3675,
          -3675
         ],
         "yaxis": "y"
        },
        {
         "hoverinfo": "text",
         "marker": {
          "color": "rgb(0,116,217)"
         },
         "mode": "lines",
         "text": [
          "iq_que_777_insiteful_promotions",
          "",
          "",
          "ray_canuel_703_281_4223"
         ],
         "type": "scatter",
         "x": [
          1.185515769783747,
          1.1875223320288901,
          1.1875223320288901,
          0.7166982692906864
         ],
         "xaxis": "x",
         "y": [
          -3603.10546875,
          -3603.10546875,
          -3670,
          -3670
         ],
         "yaxis": "y"
        },
        {
         "hoverinfo": "text",
         "marker": {
          "color": "rgb(0,116,217)"
         },
         "mode": "lines",
         "text": [
          "781_6774_smialek_238_regional",
          "",
          "",
          "iq_que_777_insiteful_promotions"
         ],
         "type": "scatter",
         "x": [
          1.1649989864431847,
          1.2030665116695962,
          1.2030665116695962,
          1.1875223320288901
         ],
         "xaxis": "x",
         "y": [
          -3304.86328125,
          -3304.86328125,
          -3636.552734375,
          -3636.552734375
         ],
         "yaxis": "y"
        },
        {
         "hoverinfo": "text",
         "marker": {
          "color": "rgb(0,116,217)"
         },
         "mode": "lines",
         "text": [
          "kimberlie_cerrone_9157_8109_8069",
          "",
          "",
          "iq_que_777_insiteful_promotions"
         ],
         "type": "scatter",
         "x": [
          0.6448123530226744,
          1.2210317117518978,
          1.2210317117518978,
          1.2030665116695962
         ],
         "xaxis": "x",
         "y": [
          -3090,
          -3090,
          -3470.7080078125,
          -3470.7080078125
         ],
         "yaxis": "y"
        },
        {
         "hoverinfo": "text",
         "marker": {
          "color": "rgb(0,116,217)"
         },
         "mode": "lines",
         "text": [
          "carlos_restrepo_8052_4083909518_9518",
          "",
          "",
          "iq_que_777_insiteful_promotions"
         ],
         "type": "scatter",
         "x": [
          0.6207994283535004,
          1.2283226608551265,
          1.2283226608551265,
          1.2210317117518978
         ],
         "xaxis": "x",
         "y": [
          -3070,
          -3070,
          -3280.35400390625,
          -3280.35400390625
         ],
         "yaxis": "y"
        },
        {
         "hoverinfo": "text",
         "marker": {
          "color": "rgb(40,35,35)"
         },
         "mode": "lines",
         "text": [
          "federer_uk_wicharz_christoph_gibson",
          "",
          "",
          "35874_rromain_49_89_rené"
         ],
         "type": "scatter",
         "x": [
          0,
          0.8980827035168593,
          0.8980827035168593,
          0
         ],
         "xaxis": "x",
         "y": [
          -3685,
          -3685,
          -3695,
          -3695
         ],
         "yaxis": "y"
        },
        {
         "hoverinfo": "text",
         "marker": {
          "color": "rgb(40,35,35)"
         },
         "mode": "lines",
         "text": [
          "ich_die_und_der_das",
          "",
          "",
          "werner_lot_rolf_prema_chaitanya"
         ],
         "type": "scatter",
         "x": [
          0,
          0.8310463156803871,
          0.8310463156803871,
          0
         ],
         "xaxis": "x",
         "y": [
          -3705,
          -3705,
          -3715,
          -3715
         ],
         "yaxis": "y"
        },
        {
         "hoverinfo": "text",
         "marker": {
          "color": "rgb(40,35,35)"
         },
         "mode": "lines",
         "text": [
          "rromain_35874_49_89_federer",
          "",
          "",
          "ich_die_und_der_das"
         ],
         "type": "scatter",
         "x": [
          0.8980827035168593,
          0.9561156451985916,
          0.9561156451985916,
          0.8310463156803871
         ],
         "xaxis": "x",
         "y": [
          -3690,
          -3690,
          -3710,
          -3710
         ],
         "yaxis": "y"
        },
        {
         "hoverinfo": "text",
         "marker": {
          "color": "rgb(0,116,217)"
         },
         "mode": "lines",
         "text": [
          "iq_que_777_insiteful_de",
          "",
          "",
          "ich_die_und_der_werner"
         ],
         "type": "scatter",
         "x": [
          1.2283226608551265,
          1.2449908894239516,
          1.2449908894239516,
          0.9561156451985916
         ],
         "xaxis": "x",
         "y": [
          -3175.177001953125,
          -3175.177001953125,
          -3700,
          -3700
         ],
         "yaxis": "y"
        },
        {
         "hoverinfo": "text",
         "marker": {
          "color": "rgb(0,116,217)"
         },
         "mode": "lines",
         "text": [
          "david_marcus_meltzer_dave_858",
          "",
          "",
          "iq_ich_que_die_de"
         ],
         "type": "scatter",
         "x": [
          1.0997746233257168,
          1.2750093689339554,
          1.2750093689339554,
          1.2449908894239516
         ],
         "xaxis": "x",
         "y": [
          -3027.5,
          -3027.5,
          -3437.5885009765625,
          -3437.5885009765625
         ],
         "yaxis": "y"
        },
        {
         "hoverinfo": "text",
         "marker": {
          "color": "rgb(0,116,217)"
         },
         "mode": "lines",
         "text": [
          "ruth_gantly_8033_products_manager",
          "",
          "",
          "iq_ich_que_die_de"
         ],
         "type": "scatter",
         "x": [
          0.37859125443466857,
          1.3254926062925412,
          1.3254926062925412,
          1.2750093689339554
         ],
         "xaxis": "x",
         "y": [
          -2990,
          -2990,
          -3232.5442504882812,
          -3232.5442504882812
         ],
         "yaxis": "y"
        },
        {
         "hoverinfo": "text",
         "marker": {
          "color": "rgb(61,153,112)"
         },
         "mode": "lines",
         "text": [
          "hong_organizer_blaine_416_jhong",
          "",
          "",
          "sitraka_mobility_416_iwww_643"
         ],
         "type": "scatter",
         "x": [
          0,
          0.8043240293963934,
          0.8043240293963934,
          0
         ],
         "xaxis": "x",
         "y": [
          -3725,
          -3725,
          -3735,
          -3735
         ],
         "yaxis": "y"
        },
        {
         "hoverinfo": "text",
         "marker": {
          "color": "rgb(61,153,112)"
         },
         "mode": "lines",
         "text": [
          "salzmann_nor_darcysalzmann_infotriever_sitraka",
          "",
          "",
          "ontario_toronto_3593_darcysalzmann_lotus"
         ],
         "type": "scatter",
         "x": [
          0,
          0.5668902208533775,
          0.5668902208533775,
          0
         ],
         "xaxis": "x",
         "y": [
          -3745,
          -3745,
          -3755,
          -3755
         ],
         "yaxis": "y"
        },
        {
         "hoverinfo": "text",
         "marker": {
          "color": "rgb(61,153,112)"
         },
         "mode": "lines",
         "text": [
          "sitraka_mobility_hong_416_organizer",
          "",
          "",
          "darcysalzmann_infotriever_3593_toronto_416"
         ],
         "type": "scatter",
         "x": [
          0.8043240293963934,
          0.940470331191547,
          0.940470331191547,
          0.5668902208533775
         ],
         "xaxis": "x",
         "y": [
          -3730,
          -3730,
          -3750,
          -3750
         ],
         "yaxis": "y"
        },
        {
         "hoverinfo": "text",
         "marker": {
          "color": "rgb(0,116,217)"
         },
         "mode": "lines",
         "text": [
          "iq_ich_que_die_de",
          "",
          "",
          "infotriever_416_darcysalzmann_sitraka_3593"
         ],
         "type": "scatter",
         "x": [
          1.3254926062925412,
          1.4152141703126992,
          1.4152141703126992,
          0.940470331191547
         ],
         "xaxis": "x",
         "y": [
          -3111.2721252441406,
          -3111.2721252441406,
          -3740,
          -3740
         ],
         "yaxis": "y"
        },
        {
         "hoverinfo": "text",
         "marker": {
          "color": "rgb(0,116,217)"
         },
         "mode": "lines",
         "text": [
          "yahoo_xp_recipient_message_groups",
          "",
          "",
          "iq_ich_que_die_de"
         ],
         "type": "scatter",
         "x": [
          1.401658996192562,
          1.463774934835024,
          1.463774934835024,
          1.4152141703126992
         ],
         "xaxis": "x",
         "y": [
          -2898.75,
          -2898.75,
          -3425.6360626220703,
          -3425.6360626220703
         ],
         "yaxis": "y"
        },
        {
         "hoverinfo": "text",
         "marker": {
          "color": "rgb(0,116,217)"
         },
         "mode": "lines",
         "text": [
          "blackberry_handheld_net_____sent",
          "",
          "",
          "iq_yahoo_ich_xp_recipient"
         ],
         "type": "scatter",
         "x": [
          1.3076753618469883,
          1.5261580197939046,
          1.5261580197939046,
          1.463774934835024
         ],
         "xaxis": "x",
         "y": [
          -2338.9556884765625,
          -2338.9556884765625,
          -3162.193031311035,
          -3162.193031311035
         ],
         "yaxis": "y"
        },
        {
         "hoverinfo": "text",
         "marker": {
          "color": "rgb(255,65,54)"
         },
         "mode": "lines",
         "text": [
          "active_session_count_pdt_crossed_limit_45",
          "",
          "",
          "host_ok_pst_state_102"
         ],
         "type": "scatter",
         "x": [
          0,
          0.7562184555861661,
          0.7562184555861661,
          0
         ],
         "xaxis": "x",
         "y": [
          -3765,
          -3765,
          -3775,
          -3775
         ],
         "yaxis": "y"
        },
        {
         "hoverinfo": "text",
         "marker": {
          "color": "rgb(255,65,54)"
         },
         "mode": "lines",
         "text": [
          "ping_rta_loss_packet_critical",
          "",
          "",
          "ping_uu_pix_rta_114_112"
         ],
         "type": "scatter",
         "x": [
          0,
          0.18863555426913825,
          0.18863555426913825,
          0
         ],
         "xaxis": "x",
         "y": [
          -3785,
          -3785,
          -3795,
          -3795
         ],
         "yaxis": "y"
        },
        {
         "hoverinfo": "text",
         "marker": {
          "color": "rgb(255,65,54)"
         },
         "mode": "lines",
         "text": [
          "active_session_count_pdt_host_crossed_ok",
          "",
          "",
          "ping_rta_loss_packet_ms"
         ],
         "type": "scatter",
         "x": [
          0.7562184555861661,
          0.9665338262861063,
          0.9665338262861063,
          0.18863555426913825
         ],
         "xaxis": "x",
         "y": [
          -3770,
          -3770,
          -3790,
          -3790
         ],
         "yaxis": "y"
        },
        {
         "hoverinfo": "text",
         "marker": {
          "color": "rgb(0,116,217)"
         },
         "mode": "lines",
         "text": [
          "blackberry_handheld_net_sent____",
          "",
          "",
          "ping_rta_host_loss_state"
         ],
         "type": "scatter",
         "x": [
          1.5261580197939046,
          1.5776026026461345,
          1.5776026026461345,
          0.9665338262861063
         ],
         "xaxis": "x",
         "y": [
          -2750.574359893799,
          -2750.574359893799,
          -3780,
          -3780
         ],
         "yaxis": "y"
        },
        {
         "hoverinfo": "text",
         "marker": {
          "color": "rgb(35,205,205)"
         },
         "mode": "lines",
         "text": [
          "4368397_mochizuki_neon_cmadm_cmbuild3",
          "",
          "",
          "neon_mochizuki_nightly_4368397_tantravahi"
         ],
         "type": "scatter",
         "x": [
          0,
          0.06873146459240953,
          0.06873146459240953,
          0
         ],
         "xaxis": "x",
         "y": [
          -3815,
          -3815,
          -3825,
          -3825
         ],
         "yaxis": "y"
        },
        {
         "hoverinfo": "text",
         "marker": {
          "color": "rgb(35,205,205)"
         },
         "mode": "lines",
         "text": [
          "5773188_mochizuki_cmadm_cmbuild3_javamail",
          "",
          "",
          "4368397_neon_mochizuki_tantravahi_nightly"
         ],
         "type": "scatter",
         "x": [
          0,
          0.30267472510956667,
          0.30267472510956667,
          0.06873146459240953
         ],
         "xaxis": "x",
         "y": [
          -3805,
          -3805,
          -3820,
          -3820
         ],
         "yaxis": "y"
        },
        {
         "hoverinfo": "text",
         "marker": {
          "color": "rgb(0,116,217)"
         },
         "mode": "lines",
         "text": [
          "blackberry_handheld_net_sent____",
          "",
          "",
          "mochizuki_tantravahi_cmadm_cmbuild3_javamail"
         ],
         "type": "scatter",
         "x": [
          1.5776026026461345,
          1.734994887813413,
          1.734994887813413,
          0.30267472510956667
         ],
         "xaxis": "x",
         "y": [
          -3265.2871799468994,
          -3265.2871799468994,
          -3812.5,
          -3812.5
         ],
         "yaxis": "y"
        },
        {
         "hoverinfo": "text",
         "marker": {
          "color": "rgb(0,116,217)"
         },
         "mode": "lines",
         "text": [
          "palm_epservlet_rim_engineering_application",
          "",
          "",
          "blackberry_handheld_net_sent____"
         ],
         "type": "scatter",
         "x": [
          1.7078985544852938,
          1.8127252719261966,
          1.8127252719261966,
          1.734994887813413
         ],
         "xaxis": "x",
         "y": [
          -1562.5369262695312,
          -1562.5369262695312,
          -3538.8935899734497,
          -3538.8935899734497
         ],
         "yaxis": "y"
        },
        {
         "hoverinfo": "text",
         "marker": {
          "color": "rgb(0,116,217)"
         },
         "mode": "lines",
         "text": [
          "562_408_2211_ca_95131",
          "",
          "",
          "blackberry_handheld_net_sent_palm"
         ],
         "type": "scatter",
         "x": [
          1.4541925842959684,
          2.1291937649238353,
          2.1291937649238353,
          1.8127252719261966
         ],
         "xaxis": "x",
         "y": [
          -1187.8648376464844,
          -1187.8648376464844,
          -2550.7152581214905,
          -2550.7152581214905
         ],
         "yaxis": "y"
        },
        {
         "hoverinfo": "text",
         "marker": {
          "color": "rgb(0,116,217)"
         },
         "mode": "lines",
         "text": [
          "jsp_jguru_faq_java_servlets",
          "",
          "",
          "blackberry_408_562_inc_avocadoit"
         ],
         "type": "scatter",
         "x": [
          1.5830901106335842,
          2.320230819719836,
          2.320230819719836,
          2.1291937649238353
         ],
         "xaxis": "x",
         "y": [
          -592.703857421875,
          -592.703857421875,
          -1869.2900478839874,
          -1869.2900478839874
         ],
         "yaxis": "y"
        },
        {
         "hoverinfo": "text",
         "marker": {
          "color": "rgb(61,153,112)"
         },
         "mode": "lines",
         "text": [
          "hp_fortunata_reps_packard_hewlett",
          "",
          "",
          "hp_fortunata_447_hewlett_packard"
         ],
         "type": "scatter",
         "x": [
          0,
          0.19194484385954158,
          0.19194484385954158,
          0
         ],
         "xaxis": "x",
         "y": [
          -3855,
          -3855,
          -3865,
          -3865
         ],
         "yaxis": "y"
        },
        {
         "hoverinfo": "text",
         "marker": {
          "color": "rgb(61,153,112)"
         },
         "mode": "lines",
         "text": [
          "hp_ux_porting_hpux_port",
          "",
          "",
          "hp_fortunata_hewlett_packard_reps"
         ],
         "type": "scatter",
         "x": [
          0,
          0.4686470980617256,
          0.4686470980617256,
          0.19194484385954158
         ],
         "xaxis": "x",
         "y": [
          -3845,
          -3845,
          -3860,
          -3860
         ],
         "yaxis": "y"
        },
        {
         "hoverinfo": "text",
         "marker": {
          "color": "rgb(61,153,112)"
         },
         "mode": "lines",
         "text": [
          "sizing_study_lily_hp_report",
          "",
          "",
          "hp_fortunata_hewlett_packard_reps"
         ],
         "type": "scatter",
         "x": [
          0,
          0.9502957905221813,
          0.9502957905221813,
          0.4686470980617256
         ],
         "xaxis": "x",
         "y": [
          -3835,
          -3835,
          -3852.5,
          -3852.5
         ],
         "yaxis": "y"
        },
        {
         "hoverinfo": "text",
         "marker": {
          "color": "rgb(255,65,54)"
         },
         "mode": "lines",
         "text": [
          "sun_shawn_8067_5163_sswanson",
          "",
          "",
          "sun_iplanet_helen_shawn_reps"
         ],
         "type": "scatter",
         "x": [
          0,
          0.35930593992522897,
          0.35930593992522897,
          0
         ],
         "xaxis": "x",
         "y": [
          -3885,
          -3885,
          -3895,
          -3895
         ],
         "yaxis": "y"
        },
        {
         "hoverinfo": "text",
         "marker": {
          "color": "rgb(255,65,54)"
         },
         "mode": "lines",
         "text": [
          "5163_8067_sswanson_377_shawn",
          "",
          "",
          "sun_helen_iplanet_shawn_reps"
         ],
         "type": "scatter",
         "x": [
          0,
          0.7874902086855013,
          0.7874902086855013,
          0.35930593992522897
         ],
         "xaxis": "x",
         "y": [
          -3875,
          -3875,
          -3890,
          -3890
         ],
         "yaxis": "y"
        },
        {
         "hoverinfo": "text",
         "marker": {
          "color": "rgb(35,205,205)"
         },
         "mode": "lines",
         "text": [
          "tamra_wong_awong_8131_andrew",
          "",
          "",
          "pricing_hosting_price_fee_month"
         ],
         "type": "scatter",
         "x": [
          0,
          0.5810916491658844,
          0.5810916491658844,
          0
         ],
         "xaxis": "x",
         "y": [
          -3915,
          -3915,
          -3925,
          -3925
         ],
         "yaxis": "y"
        },
        {
         "hoverinfo": "text",
         "marker": {
          "color": "rgb(35,205,205)"
         },
         "mode": "lines",
         "text": [
          "contract_legal_agreement_kimberlie_contracts",
          "",
          "",
          "pricing_price_hosting_fee_000"
         ],
         "type": "scatter",
         "x": [
          0,
          0.6354321716987064,
          0.6354321716987064,
          0.5810916491658844
         ],
         "xaxis": "x",
         "y": [
          -3905,
          -3905,
          -3920,
          -3920
         ],
         "yaxis": "y"
        },
        {
         "hoverinfo": "text",
         "marker": {
          "color": "rgb(35,205,205)"
         },
         "mode": "lines",
         "text": [
          "alerts_alert_sms_mobilesys_delivery",
          "",
          "",
          "slides_presentation_slide_powerpoint_presentations"
         ],
         "type": "scatter",
         "x": [
          0,
          0.7971010928367324,
          0.7971010928367324,
          0
         ],
         "xaxis": "x",
         "y": [
          -3935,
          -3935,
          -3945,
          -3945
         ],
         "yaxis": "y"
        },
        {
         "hoverinfo": "text",
         "marker": {
          "color": "rgb(35,205,205)"
         },
         "mode": "lines",
         "text": [
          "212_0852_connell_749_3937",
          "",
          "",
          "partner_biz_partners_dev_sales"
         ],
         "type": "scatter",
         "x": [
          0,
          0.5152794475649711,
          0.5152794475649711,
          0
         ],
         "xaxis": "x",
         "y": [
          -3965,
          -3965,
          -3975,
          -3975
         ],
         "yaxis": "y"
        },
        {
         "hoverinfo": "text",
         "marker": {
          "color": "rgb(35,205,205)"
         },
         "mode": "lines",
         "text": [
          "wireless_hearing_follow_wanted_greetings",
          "",
          "",
          "wireless_8186_brett_1103_355"
         ],
         "type": "scatter",
         "x": [
          0,
          0.23124780344075713,
          0.23124780344075713,
          0
         ],
         "xaxis": "x",
         "y": [
          -3985,
          -3985,
          -3995,
          -3995
         ],
         "yaxis": "y"
        },
        {
         "hoverinfo": "text",
         "marker": {
          "color": "rgb(35,205,205)"
         },
         "mode": "lines",
         "text": [
          "partner_biz_partners_dev_sales",
          "",
          "",
          "wireless_hearing_brett_strategy_8186"
         ],
         "type": "scatter",
         "x": [
          0.5152794475649711,
          0.6449547961481541,
          0.6449547961481541,
          0.23124780344075713
         ],
         "xaxis": "x",
         "y": [
          -3970,
          -3970,
          -3990,
          -3990
         ],
         "yaxis": "y"
        },
        {
         "hoverinfo": "text",
         "marker": {
          "color": "rgb(35,205,205)"
         },
         "mode": "lines",
         "text": [
          "event_seminar_speaker_speakers_conference",
          "",
          "",
          "wireless_partner_hearing_our_strategy"
         ],
         "type": "scatter",
         "x": [
          0,
          0.7231638941925463,
          0.7231638941925463,
          0.6449547961481541
         ],
         "xaxis": "x",
         "y": [
          -3955,
          -3955,
          -3980,
          -3980
         ],
         "yaxis": "y"
        },
        {
         "hoverinfo": "text",
         "marker": {
          "color": "rgb(35,205,205)"
         },
         "mode": "lines",
         "text": [
          "wireless_partner_our_hearing_strategy",
          "",
          "",
          "europe_european_germany_uk_peter"
         ],
         "type": "scatter",
         "x": [
          0.7231638941925463,
          0.7944377906660283,
          0.7944377906660283,
          0
         ],
         "xaxis": "x",
         "y": [
          -3967.5,
          -3967.5,
          -4005,
          -4005
         ],
         "yaxis": "y"
        },
        {
         "hoverinfo": "text",
         "marker": {
          "color": "rgb(35,205,205)"
         },
         "mode": "lines",
         "text": [
          "alerts_alert_slides_presentation_slide",
          "",
          "",
          "wireless_partner_our_hearing_strategy"
         ],
         "type": "scatter",
         "x": [
          0.7971010928367324,
          0.8498449384982664,
          0.8498449384982664,
          0.7944377906660283
         ],
         "xaxis": "x",
         "y": [
          -3940,
          -3940,
          -3986.25,
          -3986.25
         ],
         "yaxis": "y"
        },
        {
         "hoverinfo": "text",
         "marker": {
          "color": "rgb(35,205,205)"
         },
         "mode": "lines",
         "text": [
          "contract_pricing_agreement_legal_price",
          "",
          "",
          "wireless_alerts_alert_presentation_slides"
         ],
         "type": "scatter",
         "x": [
          0.6354321716987064,
          0.9264130375599048,
          0.9264130375599048,
          0.8498449384982664
         ],
         "xaxis": "x",
         "y": [
          -3912.5,
          -3912.5,
          -3963.125,
          -3963.125
         ],
         "yaxis": "y"
        },
        {
         "hoverinfo": "text",
         "marker": {
          "color": "rgb(133,20,75)"
         },
         "mode": "lines",
         "text": [
          "accenture_slides_presentation_ty_slide",
          "",
          "",
          "accenture_amit_ty_tom_partner"
         ],
         "type": "scatter",
         "x": [
          0,
          0.25435247924923754,
          0.25435247924923754,
          0
         ],
         "xaxis": "x",
         "y": [
          -4015,
          -4015,
          -4025,
          -4025
         ],
         "yaxis": "y"
        },
        {
         "hoverinfo": "text",
         "marker": {
          "color": "rgb(133,20,75)"
         },
         "mode": "lines",
         "text": [
          "accenture_amit_ty_slides_presentation",
          "",
          "",
          "accenture_andersen_consulting_january_2001"
         ],
         "type": "scatter",
         "x": [
          0.25435247924923754,
          0.6585425063386174,
          0.6585425063386174,
          0
         ],
         "xaxis": "x",
         "y": [
          -4020,
          -4020,
          -4035,
          -4035
         ],
         "yaxis": "y"
        },
        {
         "hoverinfo": "text",
         "marker": {
          "color": "rgb(0,116,217)"
         },
         "mode": "lines",
         "text": [
          "wireless_alerts_alert_presentation_pricing",
          "",
          "",
          "accenture_amit_ty_slides_andersen"
         ],
         "type": "scatter",
         "x": [
          0.9264130375599048,
          1.1556463219226036,
          1.1556463219226036,
          0.6585425063386174
         ],
         "xaxis": "x",
         "y": [
          -3937.8125,
          -3937.8125,
          -4027.5,
          -4027.5
         ],
         "yaxis": "y"
        },
        {
         "hoverinfo": "text",
         "marker": {
          "color": "rgb(0,116,217)"
         },
         "mode": "lines",
         "text": [
          "sun_shawn_8067_5163_sswanson",
          "",
          "",
          "accenture_wireless_alerts_presentation_slides"
         ],
         "type": "scatter",
         "x": [
          0.7874902086855013,
          1.2137015620713323,
          1.2137015620713323,
          1.1556463219226036
         ],
         "xaxis": "x",
         "y": [
          -3882.5,
          -3882.5,
          -3982.65625,
          -3982.65625
         ],
         "yaxis": "y"
        },
        {
         "hoverinfo": "text",
         "marker": {
          "color": "rgb(255,220,0)"
         },
         "mode": "lines",
         "text": [
          "nda_sign_mutual_signed_faxed",
          "",
          "",
          "nda_mutual_signed_sign_ndas"
         ],
         "type": "scatter",
         "x": [
          0,
          0.12873798270468528,
          0.12873798270468528,
          0
         ],
         "xaxis": "x",
         "y": [
          -4045,
          -4045,
          -4055,
          -4055
         ],
         "yaxis": "y"
        },
        {
         "hoverinfo": "text",
         "marker": {
          "color": "rgb(255,220,0)"
         },
         "mode": "lines",
         "text": [
          "sign_signed_signature_document_signatures",
          "",
          "",
          "fax_faxed_number_faxes_signed"
         ],
         "type": "scatter",
         "x": [
          0,
          0.6127303097489978,
          0.6127303097489978,
          0
         ],
         "xaxis": "x",
         "y": [
          -4065,
          -4065,
          -4075,
          -4075
         ],
         "yaxis": "y"
        },
        {
         "hoverinfo": "text",
         "marker": {
          "color": "rgb(255,220,0)"
         },
         "mode": "lines",
         "text": [
          "fax_faxed_signed_sign_number",
          "",
          "",
          "copy_soft_copies_hard_send"
         ],
         "type": "scatter",
         "x": [
          0.6127303097489978,
          0.7938720029251326,
          0.7938720029251326,
          0
         ],
         "xaxis": "x",
         "y": [
          -4070,
          -4070,
          -4085,
          -4085
         ],
         "yaxis": "y"
        },
        {
         "hoverinfo": "text",
         "marker": {
          "color": "rgb(255,220,0)"
         },
         "mode": "lines",
         "text": [
          "nda_mutual_sign_signed_faxed",
          "",
          "",
          "fax_faxed_signed_copy_sign"
         ],
         "type": "scatter",
         "x": [
          0.12873798270468528,
          0.9909568054371056,
          0.9909568054371056,
          0.7938720029251326
         ],
         "xaxis": "x",
         "y": [
          -4050,
          -4050,
          -4077.5,
          -4077.5
         ],
         "yaxis": "y"
        },
        {
         "hoverinfo": "text",
         "marker": {
          "color": "rgb(0,116,217)"
         },
         "mode": "lines",
         "text": [
          "accenture_wireless_alerts_presentation_slides",
          "",
          "",
          "nda_signed_sign_fax_faxed"
         ],
         "type": "scatter",
         "x": [
          1.2137015620713323,
          1.3228862681390874,
          1.3228862681390874,
          0.9909568054371056
         ],
         "xaxis": "x",
         "y": [
          -3932.578125,
          -3932.578125,
          -4063.75,
          -4063.75
         ],
         "yaxis": "y"
        },
        {
         "hoverinfo": "text",
         "marker": {
          "color": "rgb(0,116,217)"
         },
         "mode": "lines",
         "text": [
          "hp_sizing_fortunata_robert_hewlett",
          "",
          "",
          "accenture_wireless_alerts_nda_presentation"
         ],
         "type": "scatter",
         "x": [
          0.9502957905221813,
          1.4088649388452528,
          1.4088649388452528,
          1.3228862681390874
         ],
         "xaxis": "x",
         "y": [
          -3843.75,
          -3843.75,
          -3998.1640625,
          -3998.1640625
         ],
         "yaxis": "y"
        },
        {
         "hoverinfo": "text",
         "marker": {
          "color": "rgb(40,35,35)"
         },
         "mode": "lines",
         "text": [
          "look_into_check_looking_ll",
          "",
          "",
          "check_cheque_checks_mailed_tennille"
         ],
         "type": "scatter",
         "x": [
          0,
          0.7398373487787064,
          0.7398373487787064,
          0
         ],
         "xaxis": "x",
         "y": [
          -4095,
          -4095,
          -4105,
          -4105
         ],
         "yaxis": "y"
        },
        {
         "hoverinfo": "text",
         "marker": {
          "color": "rgb(40,35,35)"
         },
         "mode": "lines",
         "text": [
          "problem_fix_issue_resolved_fixed",
          "",
          "",
          "email_emails_mail_message_forwarded"
         ],
         "type": "scatter",
         "x": [
          0,
          0.6037039805239115,
          0.6037039805239115,
          0
         ],
         "xaxis": "x",
         "y": [
          -4135,
          -4135,
          -4145,
          -4145
         ],
         "yaxis": "y"
        },
        {
         "hoverinfo": "text",
         "marker": {
          "color": "rgb(40,35,35)"
         },
         "mode": "lines",
         "text": [
          "email_emails_mail_problem_message",
          "",
          "",
          "sent_send_received_sending_it"
         ],
         "type": "scatter",
         "x": [
          0.6037039805239115,
          0.7175209651134566,
          0.7175209651134566,
          0
         ],
         "xaxis": "x",
         "y": [
          -4140,
          -4140,
          -4155,
          -4155
         ],
         "yaxis": "y"
        },
        {
         "hoverinfo": "text",
         "marker": {
          "color": "rgb(40,35,35)"
         },
         "mode": "lines",
         "text": [
          "server_restarted_restart_servers_reboot",
          "",
          "",
          "email_emails_mail_problem_message"
         ],
         "type": "scatter",
         "x": [
          0,
          0.7915264290879638,
          0.7915264290879638,
          0.7175209651134566
         ],
         "xaxis": "x",
         "y": [
          -4125,
          -4125,
          -4147.5,
          -4147.5
         ],
         "yaxis": "y"
        },
        {
         "hoverinfo": "text",
         "marker": {
          "color": "rgb(40,35,35)"
         },
         "mode": "lines",
         "text": [
          "works_working_worked_work_tried",
          "",
          "",
          "email_emails_mail_problem_message"
         ],
         "type": "scatter",
         "x": [
          0,
          0.8241346965747048,
          0.8241346965747048,
          0.7915264290879638
         ],
         "xaxis": "x",
         "y": [
          -4115,
          -4115,
          -4136.25,
          -4136.25
         ],
         "yaxis": "y"
        },
        {
         "hoverinfo": "text",
         "marker": {
          "color": "rgb(40,35,35)"
         },
         "mode": "lines",
         "text": [
          "email_emails_mail_problem_message",
          "",
          "",
          "care_jm_taken_problem_take"
         ],
         "type": "scatter",
         "x": [
          0.8241346965747048,
          0.8974547005795015,
          0.8974547005795015,
          0
         ],
         "xaxis": "x",
         "y": [
          -4125.625,
          -4125.625,
          -4165,
          -4165
         ],
         "yaxis": "y"
        },
        {
         "hoverinfo": "text",
         "marker": {
          "color": "rgb(40,35,35)"
         },
         "mode": "lines",
         "text": [
          "check_cheque_checks_look_into",
          "",
          "",
          "email_problem_emails_mail_message"
         ],
         "type": "scatter",
         "x": [
          0.7398373487787064,
          0.9702180116466197,
          0.9702180116466197,
          0.8974547005795015
         ],
         "xaxis": "x",
         "y": [
          -4100,
          -4100,
          -4145.3125,
          -4145.3125
         ],
         "yaxis": "y"
        },
        {
         "hoverinfo": "text",
         "marker": {
          "color": "rgb(61,153,112)"
         },
         "mode": "lines",
         "text": [
          "document_documents_review_copy_here",
          "",
          "",
          "review_feedback_reviews_reviewed_essay"
         ],
         "type": "scatter",
         "x": [
          0,
          0.6634079675659285,
          0.6634079675659285,
          0
         ],
         "xaxis": "x",
         "y": [
          -4195,
          -4195,
          -4205,
          -4205
         ],
         "yaxis": "y"
        },
        {
         "hoverinfo": "text",
         "marker": {
          "color": "rgb(61,153,112)"
         },
         "mode": "lines",
         "text": [
          "changes_made_change_make_minor",
          "",
          "",
          "document_review_documents_feedback_here"
         ],
         "type": "scatter",
         "x": [
          0,
          0.8164215490925727,
          0.8164215490925727,
          0.6634079675659285
         ],
         "xaxis": "x",
         "y": [
          -4185,
          -4185,
          -4200,
          -4200
         ],
         "yaxis": "y"
        },
        {
         "hoverinfo": "text",
         "marker": {
          "color": "rgb(61,153,112)"
         },
         "mode": "lines",
         "text": [
          "document_changes_review_documents_made",
          "",
          "",
          "draft_doni_drafts_final_review"
         ],
         "type": "scatter",
         "x": [
          0.8164215490925727,
          0.8538812433601071,
          0.8538812433601071,
          0
         ],
         "xaxis": "x",
         "y": [
          -4192.5,
          -4192.5,
          -4215,
          -4215
         ],
         "yaxis": "y"
        },
        {
         "hoverinfo": "text",
         "marker": {
          "color": "rgb(61,153,112)"
         },
         "mode": "lines",
         "text": [
          "spec_functional_specs_fs_review",
          "",
          "",
          "draft_document_changes_review_documents"
         ],
         "type": "scatter",
         "x": [
          0,
          0.8776827801974724,
          0.8776827801974724,
          0.8538812433601071
         ],
         "xaxis": "x",
         "y": [
          -4175,
          -4175,
          -4203.75,
          -4203.75
         ],
         "yaxis": "y"
        },
        {
         "hoverinfo": "text",
         "marker": {
          "color": "rgb(61,153,112)"
         },
         "mode": "lines",
         "text": [
          "documentation_publications_utilitysrv1_release_docs",
          "",
          "",
          "files_zip_utilitysrv1_file_folder"
         ],
         "type": "scatter",
         "x": [
          0,
          0.6762994367347734,
          0.6762994367347734,
          0
         ],
         "xaxis": "x",
         "y": [
          -4235,
          -4235,
          -4245,
          -4245
         ],
         "yaxis": "y"
        },
        {
         "hoverinfo": "text",
         "marker": {
          "color": "rgb(61,153,112)"
         },
         "mode": "lines",
         "text": [
          "doc_docs_dean_guidant_rbhagat",
          "",
          "",
          "utilitysrv1_files_zip_file_folder"
         ],
         "type": "scatter",
         "x": [
          0,
          0.734506597643822,
          0.734506597643822,
          0.6762994367347734
         ],
         "xaxis": "x",
         "y": [
          -4225,
          -4225,
          -4240,
          -4240
         ],
         "yaxis": "y"
        },
        {
         "hoverinfo": "text",
         "marker": {
          "color": "rgb(61,153,112)"
         },
         "mode": "lines",
         "text": [
          "draft_spec_functional_document_review",
          "",
          "",
          "utilitysrv1_files_zip_file_folder"
         ],
         "type": "scatter",
         "x": [
          0.8776827801974724,
          0.9113538868809568,
          0.9113538868809568,
          0.734506597643822
         ],
         "xaxis": "x",
         "y": [
          -4189.375,
          -4189.375,
          -4232.5,
          -4232.5
         ],
         "yaxis": "y"
        },
        {
         "hoverinfo": "text",
         "marker": {
          "color": "rgb(255,65,54)"
         },
         "mode": "lines",
         "text": [
          "steve_john_richard_stephen_michael",
          "",
          "",
          "alaska_airlines_visto_alaskaair_air"
         ],
         "type": "scatter",
         "x": [
          0,
          0.8193414313655965,
          0.8193414313655965,
          0
         ],
         "xaxis": "x",
         "y": [
          -4255,
          -4255,
          -4265,
          -4265
         ],
         "yaxis": "y"
        },
        {
         "hoverinfo": "text",
         "marker": {
          "color": "rgb(255,65,54)"
         },
         "mode": "lines",
         "text": [
          "release_features_ga_rajeev_feature",
          "",
          "",
          "project_requirements_estimates_estimate_plan"
         ],
         "type": "scatter",
         "x": [
          0,
          0.49708624507347954,
          0.49708624507347954,
          0
         ],
         "xaxis": "x",
         "y": [
          -4285,
          -4285,
          -4295,
          -4295
         ],
         "yaxis": "y"
        },
        {
         "hoverinfo": "text",
         "marker": {
          "color": "rgb(255,65,54)"
         },
         "mode": "lines",
         "text": [
          "project_requirements_estimates_release_estimate",
          "",
          "",
          "application_darshan_applications_customer_everything"
         ],
         "type": "scatter",
         "x": [
          0.49708624507347954,
          0.6134959161196257,
          0.6134959161196257,
          0
         ],
         "xaxis": "x",
         "y": [
          -4290,
          -4290,
          -4305,
          -4305
         ],
         "yaxis": "y"
        },
        {
         "hoverinfo": "text",
         "marker": {
          "color": "rgb(255,65,54)"
         },
         "mode": "lines",
         "text": [
          "project_requirements_estimates_release_estimate",
          "",
          "",
          "ae_aes_ae2_darshan_resource"
         ],
         "type": "scatter",
         "x": [
          0.6134959161196257,
          0.7091996295158149,
          0.7091996295158149,
          0
         ],
         "xaxis": "x",
         "y": [
          -4297.5,
          -4297.5,
          -4315,
          -4315
         ],
         "yaxis": "y"
        },
        {
         "hoverinfo": "text",
         "marker": {
          "color": "rgb(255,65,54)"
         },
         "mode": "lines",
         "text": [
          "demo_demos_elba_we_show",
          "",
          "",
          "ae_aes_project_requirements_darshan"
         ],
         "type": "scatter",
         "x": [
          0,
          0.7161039826323473,
          0.7161039826323473,
          0.7091996295158149
         ],
         "xaxis": "x",
         "y": [
          -4275,
          -4275,
          -4306.25,
          -4306.25
         ],
         "yaxis": "y"
        },
        {
         "hoverinfo": "text",
         "marker": {
          "color": "rgb(255,65,54)"
         },
         "mode": "lines",
         "text": [
          "demo_ae_aes_demos_project",
          "",
          "",
          "idc_divakar_darshan_issues_shailesh"
         ],
         "type": "scatter",
         "x": [
          0.7161039826323473,
          0.8370017644302843,
          0.8370017644302843,
          0
         ],
         "xaxis": "x",
         "y": [
          -4290.625,
          -4290.625,
          -4325,
          -4325
         ],
         "yaxis": "y"
        },
        {
         "hoverinfo": "text",
         "marker": {
          "color": "rgb(255,65,54)"
         },
         "mode": "lines",
         "text": [
          "alaska_airlines_steve_visto_john",
          "",
          "",
          "demo_idc_ae_aes_project"
         ],
         "type": "scatter",
         "x": [
          0.8193414313655965,
          0.8931777660873532,
          0.8931777660873532,
          0.8370017644302843
         ],
         "xaxis": "x",
         "y": [
          -4260,
          -4260,
          -4307.8125,
          -4307.8125
         ],
         "yaxis": "y"
        },
        {
         "hoverinfo": "text",
         "marker": {
          "color": "rgb(255,65,54)"
         },
         "mode": "lines",
         "text": [
          "demo_alaska_ae_idc_airlines",
          "",
          "",
          "intranet_ashwin_rao_intrasmart_extranet"
         ],
         "type": "scatter",
         "x": [
          0.8931777660873532,
          0.9085026358516844,
          0.9085026358516844,
          0
         ],
         "xaxis": "x",
         "y": [
          -4283.90625,
          -4283.90625,
          -4335,
          -4335
         ],
         "yaxis": "y"
        },
        {
         "hoverinfo": "text",
         "marker": {
          "color": "rgb(0,116,217)"
         },
         "mode": "lines",
         "text": [
          "utilitysrv1_files_doc_file_zip",
          "",
          "",
          "demo_alaska_ae_idc_airlines"
         ],
         "type": "scatter",
         "x": [
          0.9113538868809568,
          1.062289886308509,
          1.062289886308509,
          0.9085026358516844
         ],
         "xaxis": "x",
         "y": [
          -4210.9375,
          -4210.9375,
          -4309.453125,
          -4309.453125
         ],
         "yaxis": "y"
        },
        {
         "hoverinfo": "text",
         "marker": {
          "color": "rgb(0,116,217)"
         },
         "mode": "lines",
         "text": [
          "email_check_problem_emails_mail",
          "",
          "",
          "demo_alaska_ae_idc_airlines"
         ],
         "type": "scatter",
         "x": [
          0.9702180116466197,
          1.1895108883164334,
          1.1895108883164334,
          1.062289886308509
         ],
         "xaxis": "x",
         "y": [
          -4122.65625,
          -4122.65625,
          -4260.1953125,
          -4260.1953125
         ],
         "yaxis": "y"
        },
        {
         "hoverinfo": "text",
         "marker": {
          "color": "rgb(0,116,217)"
         },
         "mode": "lines",
         "text": [
          "accenture_wireless_alerts_hp_nda",
          "",
          "",
          "demo_alaska_idc_ae_airlines"
         ],
         "type": "scatter",
         "x": [
          1.4088649388452528,
          1.482622432342408,
          1.482622432342408,
          1.1895108883164334
         ],
         "xaxis": "x",
         "y": [
          -3920.95703125,
          -3920.95703125,
          -4191.42578125,
          -4191.42578125
         ],
         "yaxis": "y"
        },
        {
         "hoverinfo": "text",
         "marker": {
          "color": "rgb(35,205,205)"
         },
         "mode": "lines",
         "text": [
          "tijuana_gmt_pacific_00_canada",
          "",
          "",
          "room_conference_sausalito_where_rooms"
         ],
         "type": "scatter",
         "x": [
          0,
          0.7913591428763498,
          0.7913591428763498,
          0
         ],
         "xaxis": "x",
         "y": [
          -4345,
          -4345,
          -4355,
          -4355
         ],
         "yaxis": "y"
        },
        {
         "hoverinfo": "text",
         "marker": {
          "color": "rgb(35,205,205)"
         },
         "mode": "lines",
         "text": [
          "meeting_meetings_meet_reschedule_30",
          "",
          "",
          "meeting_conference_avocadoit_call_meet"
         ],
         "type": "scatter",
         "x": [
          0,
          0.28640916582095766,
          0.28640916582095766,
          0
         ],
         "xaxis": "x",
         "y": [
          -4365,
          -4365,
          -4375,
          -4375
         ],
         "yaxis": "y"
        },
        {
         "hoverinfo": "text",
         "marker": {
          "color": "rgb(35,205,205)"
         },
         "mode": "lines",
         "text": [
          "conference_call_dial_pst_number",
          "",
          "",
          "call_pst_time_30_00"
         ],
         "type": "scatter",
         "x": [
          0,
          0.4101295095185826,
          0.4101295095185826,
          0
         ],
         "xaxis": "x",
         "y": [
          -4385,
          -4385,
          -4395,
          -4395
         ],
         "yaxis": "y"
        },
        {
         "hoverinfo": "text",
         "marker": {
          "color": "rgb(35,205,205)"
         },
         "mode": "lines",
         "text": [
          "meeting_meet_meetings_00_30",
          "",
          "",
          "conference_call_pst_dial_number"
         ],
         "type": "scatter",
         "x": [
          0.28640916582095766,
          0.5921461350529434,
          0.5921461350529434,
          0.4101295095185826
         ],
         "xaxis": "x",
         "y": [
          -4370,
          -4370,
          -4390,
          -4390
         ],
         "yaxis": "y"
        },
        {
         "hoverinfo": "text",
         "marker": {
          "color": "rgb(35,205,205)"
         },
         "mode": "lines",
         "text": [
          "meeting_conference_call_00_meet",
          "",
          "",
          "30_00_11_12_how"
         ],
         "type": "scatter",
         "x": [
          0.5921461350529434,
          0.6199358486559506,
          0.6199358486559506,
          0
         ],
         "xaxis": "x",
         "y": [
          -4380,
          -4380,
          -4405,
          -4405
         ],
         "yaxis": "y"
        },
        {
         "hoverinfo": "text",
         "marker": {
          "color": "rgb(35,205,205)"
         },
         "mode": "lines",
         "text": [
          "room_conference_tijuana_sausalito_where",
          "",
          "",
          "meeting_conference_30_call_00"
         ],
         "type": "scatter",
         "x": [
          0.7913591428763498,
          0.9518753284142232,
          0.9518753284142232,
          0.6199358486559506
         ],
         "xaxis": "x",
         "y": [
          -4350,
          -4350,
          -4392.5,
          -4392.5
         ],
         "yaxis": "y"
        },
        {
         "hoverinfo": "text",
         "marker": {
          "color": "rgb(61,153,112)"
         },
         "mode": "lines",
         "text": [
          "prakash_amitabh_he_meeting_calendar",
          "",
          "",
          "venk_amy_meeting_he_noemi"
         ],
         "type": "scatter",
         "x": [
          0,
          0.6632975260574558,
          0.6632975260574558,
          0
         ],
         "xaxis": "x",
         "y": [
          -4425,
          -4425,
          -4435,
          -4435
         ],
         "yaxis": "y"
        },
        {
         "hoverinfo": "text",
         "marker": {
          "color": "rgb(61,153,112)"
         },
         "mode": "lines",
         "text": [
          "him_his_he_call_guy",
          "",
          "",
          "venk_prakash_amy_meeting_amitabh"
         ],
         "type": "scatter",
         "x": [
          0,
          0.7351245316967138,
          0.7351245316967138,
          0.6632975260574558
         ],
         "xaxis": "x",
         "y": [
          -4415,
          -4415,
          -4430,
          -4430
         ],
         "yaxis": "y"
        },
        {
         "hoverinfo": "text",
         "marker": {
          "color": "rgb(61,153,112)"
         },
         "mode": "lines",
         "text": [
          "venk_prakash_him_amy_he",
          "",
          "",
          "matt_peter_amy_00am_00pm"
         ],
         "type": "scatter",
         "x": [
          0.7351245316967138,
          0.8132396879960605,
          0.8132396879960605,
          0
         ],
         "xaxis": "x",
         "y": [
          -4422.5,
          -4422.5,
          -4445,
          -4445
         ],
         "yaxis": "y"
        },
        {
         "hoverinfo": "text",
         "marker": {
          "color": "rgb(0,116,217)"
         },
         "mode": "lines",
         "text": [
          "conference_meeting_00_room_30",
          "",
          "",
          "venk_prakash_him_amy_matt"
         ],
         "type": "scatter",
         "x": [
          0.9518753284142232,
          1.0427479274037084,
          1.0427479274037084,
          0.8132396879960605
         ],
         "xaxis": "x",
         "y": [
          -4371.25,
          -4371.25,
          -4433.75,
          -4433.75
         ],
         "yaxis": "y"
        },
        {
         "hoverinfo": "text",
         "marker": {
          "color": "rgb(255,65,54)"
         },
         "mode": "lines",
         "text": [
          "baby_shower_elba_love_mom",
          "",
          "",
          "love_night_mom_fun_weekend"
         ],
         "type": "scatter",
         "x": [
          0,
          0.4609700501928823,
          0.4609700501928823,
          0
         ],
         "xaxis": "x",
         "y": [
          -4475,
          -4475,
          -4485,
          -4485
         ],
         "yaxis": "y"
        },
        {
         "hoverinfo": "text",
         "marker": {
          "color": "rgb(255,65,54)"
         },
         "mode": "lines",
         "text": [
          "baby_love_mom_hope_shower",
          "",
          "",
          "india_ki_bye_amma_ur"
         ],
         "type": "scatter",
         "x": [
          0.4609700501928823,
          0.6607395846976646,
          0.6607395846976646,
          0
         ],
         "xaxis": "x",
         "y": [
          -4480,
          -4480,
          -4495,
          -4495
         ],
         "yaxis": "y"
        },
        {
         "hoverinfo": "text",
         "marker": {
          "color": "rgb(255,65,54)"
         },
         "mode": "lines",
         "text": [
          "flu_sick_stomach_feeling_cold",
          "",
          "",
          "baby_india_love_hope_care"
         ],
         "type": "scatter",
         "x": [
          0,
          0.7252120438556995,
          0.7252120438556995,
          0.6607395846976646
         ],
         "xaxis": "x",
         "y": [
          -4465,
          -4465,
          -4487.5,
          -4487.5
         ],
         "yaxis": "y"
        },
        {
         "hoverinfo": "text",
         "marker": {
          "color": "rgb(255,65,54)"
         },
         "mode": "lines",
         "text": [
          "man_says_she_his_her",
          "",
          "",
          "her_she_call_called_left"
         ],
         "type": "scatter",
         "x": [
          0,
          0.6398354994738571,
          0.6398354994738571,
          0
         ],
         "xaxis": "x",
         "y": [
          -4505,
          -4505,
          -4515,
          -4515
         ],
         "yaxis": "y"
        },
        {
         "hoverinfo": "text",
         "marker": {
          "color": "rgb(255,65,54)"
         },
         "mode": "lines",
         "text": [
          "baby_india_love_hope_care",
          "",
          "",
          "her_she_man_says_his"
         ],
         "type": "scatter",
         "x": [
          0.7252120438556995,
          0.895335479902281,
          0.895335479902281,
          0.6398354994738571
         ],
         "xaxis": "x",
         "y": [
          -4476.25,
          -4476.25,
          -4510,
          -4510
         ],
         "yaxis": "y"
        },
        {
         "hoverinfo": "text",
         "marker": {
          "color": "rgb(255,65,54)"
         },
         "mode": "lines",
         "text": [
          "merry_christmas_happy_year_holidays",
          "",
          "",
          "her_she_baby_india_love"
         ],
         "type": "scatter",
         "x": [
          0,
          0.945333378071401,
          0.945333378071401,
          0.895335479902281
         ],
         "xaxis": "x",
         "y": [
          -4455,
          -4455,
          -4493.125,
          -4493.125
         ],
         "yaxis": "y"
        },
        {
         "hoverinfo": "text",
         "marker": {
          "color": "rgb(35,205,205)"
         },
         "mode": "lines",
         "text": [
          "food_pizza_dinner_vegetarian_chicken",
          "",
          "",
          "lunch_dinner_eat_go_tomorrow"
         ],
         "type": "scatter",
         "x": [
          0,
          0.7431884421930495,
          0.7431884421930495,
          0
         ],
         "xaxis": "x",
         "y": [
          -4525,
          -4525,
          -4535,
          -4535
         ],
         "yaxis": "y"
        },
        {
         "hoverinfo": "text",
         "marker": {
          "color": "rgb(35,205,205)"
         },
         "mode": "lines",
         "text": [
          "play_tennis_tournament_game_playing",
          "",
          "",
          "golf_play_golfing_tournament_course"
         ],
         "type": "scatter",
         "x": [
          0,
          0.7531693265349926,
          0.7531693265349926,
          0
         ],
         "xaxis": "x",
         "y": [
          -4545,
          -4545,
          -4555,
          -4555
         ],
         "yaxis": "y"
        },
        {
         "hoverinfo": "text",
         "marker": {
          "color": "rgb(35,205,205)"
         },
         "mode": "lines",
         "text": [
          "lunch_dinner_food_pizza_eat",
          "",
          "",
          "golf_play_tournament_tennis_game"
         ],
         "type": "scatter",
         "x": [
          0.7431884421930495,
          0.9874621744831917,
          0.9874621744831917,
          0.7531693265349926
         ],
         "xaxis": "x",
         "y": [
          -4530,
          -4530,
          -4550,
          -4550
         ],
         "yaxis": "y"
        },
        {
         "hoverinfo": "text",
         "marker": {
          "color": "rgb(133,20,75)"
         },
         "mode": "lines",
         "text": [
          "vinny_ride_rose_bike_sabine",
          "",
          "",
          "thursday_wednesday_tuesday_friday_fine"
         ],
         "type": "scatter",
         "x": [
          0,
          0.8291354666178758,
          0.8291354666178758,
          0
         ],
         "xaxis": "x",
         "y": [
          -4565,
          -4565,
          -4575,
          -4575
         ],
         "yaxis": "y"
        },
        {
         "hoverinfo": "text",
         "marker": {
          "color": "rgb(133,20,75)"
         },
         "mode": "lines",
         "text": [
          "vinny_ride_rose_bike_sabine",
          "",
          "",
          "sounds_good_great_yeah_fine"
         ],
         "type": "scatter",
         "x": [
          0.8291354666178758,
          0.9250201819532375,
          0.9250201819532375,
          0
         ],
         "xaxis": "x",
         "y": [
          -4570,
          -4570,
          -4585,
          -4585
         ],
         "yaxis": "y"
        },
        {
         "hoverinfo": "text",
         "marker": {
          "color": "rgb(0,116,217)"
         },
         "mode": "lines",
         "text": [
          "lunch_golf_play_dinner_tournament",
          "",
          "",
          "vinny_sounds_ride_rose_bike"
         ],
         "type": "scatter",
         "x": [
          0.9874621744831917,
          1.0024254050686117,
          1.0024254050686117,
          0.9250201819532375
         ],
         "xaxis": "x",
         "y": [
          -4540,
          -4540,
          -4577.5,
          -4577.5
         ],
         "yaxis": "y"
        },
        {
         "hoverinfo": "text",
         "marker": {
          "color": "rgb(0,116,217)"
         },
         "mode": "lines",
         "text": [
          "her_she_baby_india_love",
          "",
          "",
          "lunch_golf_play_dinner_tournament"
         ],
         "type": "scatter",
         "x": [
          0.945333378071401,
          1.1168331206401345,
          1.1168331206401345,
          1.0024254050686117
         ],
         "xaxis": "x",
         "y": [
          -4474.0625,
          -4474.0625,
          -4558.75,
          -4558.75
         ],
         "yaxis": "y"
        },
        {
         "hoverinfo": "text",
         "marker": {
          "color": "rgb(0,116,217)"
         },
         "mode": "lines",
         "text": [
          "venk_meeting_conference_prakash_00",
          "",
          "",
          "lunch_her_she_baby_love"
         ],
         "type": "scatter",
         "x": [
          1.0427479274037084,
          1.4201125890970692,
          1.4201125890970692,
          1.1168331206401345
         ],
         "xaxis": "x",
         "y": [
          -4402.5,
          -4402.5,
          -4516.40625,
          -4516.40625
         ],
         "yaxis": "y"
        },
        {
         "hoverinfo": "text",
         "marker": {
          "color": "rgb(0,116,217)"
         },
         "mode": "lines",
         "text": [
          "accenture_wireless_alerts_hp_our",
          "",
          "",
          "venk_meeting_conference_prakash_lunch"
         ],
         "type": "scatter",
         "x": [
          1.482622432342408,
          1.6620072596054285,
          1.6620072596054285,
          1.4201125890970692
         ],
         "xaxis": "x",
         "y": [
          -4056.19140625,
          -4056.19140625,
          -4459.453125,
          -4459.453125
         ],
         "yaxis": "y"
        },
        {
         "hoverinfo": "text",
         "marker": {
          "color": "rgb(0,116,217)"
         },
         "mode": "lines",
         "text": [
          "jsp_jguru_www_blackberry_java",
          "",
          "",
          "accenture_meeting_wireless_venk_you"
         ],
         "type": "scatter",
         "x": [
          2.320230819719836,
          2.4373343556055427,
          2.4373343556055427,
          1.6620072596054285
         ],
         "xaxis": "x",
         "y": [
          -1230.9969526529312,
          -1230.9969526529312,
          -4257.822265625,
          -4257.822265625
         ],
         "yaxis": "y"
        },
        {
         "hoverinfo": "text",
         "marker": {
          "color": "rgb(0,116,217)"
         },
         "mode": "lines",
         "text": [
          "bugzilla_shadow_show_bug_cgi_id",
          "",
          "",
          "jsp_www_jguru_408_blackberry"
         ],
         "type": "scatter",
         "x": [
          2.1779123780149283,
          3.3764464760279695,
          3.3764464760279695,
          2.4373343556055427
         ],
         "xaxis": "x",
         "y": [
          -126.2109375,
          -126.2109375,
          -2744.4096091389656,
          -2744.4096091389656
         ],
         "yaxis": "y"
        },
        {
         "hoverinfo": "text",
         "hovertext": [
          "2001_bugzilla_nobody_0500_sender",
          "assignedto_reportedby_component_shadow_priority",
          "version_resolution_os_severity_shadow",
          "verified_2000_bugs_opened_2001",
          "id_bugzilla_attachment_additional_comments",
          "closed_palanisamy_ravikumar_value_verified",
          "value_old_bugzilla_changed_show_bug",
          "bugzilla_id_show_bug_additional_cgi",
          "shadow_2000_severity_version_resolution",
          "cm_6ga_neon_fullinstaller_build_2003",
          "wilhan_build_om_builds_srik",
          "siebel_aesblsrv1_michael_server_siebel5",
          "oca_offline_osa_sources_adapter",
          "jar_ant_classes_sources_build",
          "oca_siebel_oracle_jdbc_offline",
          "test_sessions_tests_testing_concurrent",
          "srik_prasad_rajeev_ravi_om",
          "japanese_emds_emas_i18n_english",
          "srik_prasad_installer_rajeev_ravi",
          "test_sessions_solaris_tests_testing",
          "ert_frames_frameset_javascript_ecs",
          "test_emds_japanese_tests_sessions",
          "ftp_proxy_netscape_log_site",
          "clearcase_pcanywhere_machine_wilhan_files",
          "mpharma_cab_installer_applframe_file",
          "aml_ftp_files_proxy_netscape",
          "test_emds_japanese_tests_solaris",
          "krishna_java_screensession_reviewed_fix",
          "test_emds_tests_japanese_solaris",
          "vss_applicationsengineering_webbyphone_hdml_pda",
          "bug_bugs_bugzilla_fix_fixed",
          "test_vss_aml_emds_japanese",
          "oca_siebel_weblogic_oracle_jar",
          "build_cm_wilhan_germanium_palladium",
          "jsp_jguru_faq_servlets_faqpage",
          "jsp_jguru_faq_servlets_faqpage",
          "build_oca_test_siebel_files",
          "jaime_emarketing_8144_mcneely_8015",
          "toshi_japan_tokyo_otani_81",
          "margulies_debbie_8059_1052_393",
          "margulies_debbie_8059_1052_393",
          "margulies_debbie_8059_1052_393",
          "8006_tracy_0060_588_schemena",
          "margulies_debbie_8059_1052_393",
          "barry_phillips_8016_marketing_direct",
          "kelsey_kkerr_kerr_8036_1054",
          "margulies_debbie_8059_1052_393",
          "toshi_stewart_8060_japan_telecom",
          "garcia_ricardo_7984_4827_829",
          "margulies_debbie_8059_562_1052",
          "logo_jaime_logos_eps_mcneely",
          "margulies_debbie_562_408_8059",
          "venk_executive_shukla_0797_763",
          "8135_martinez_coordinator_8107_germana",
          "whaley_elisabeth_8189_srvcs_prof",
          "shukla_venk_executive_0797_763",
          "8100_562_408_silverton_margulies",
          "562_408_8100_ca_2211",
          "dbaca_6114_8041_baca_394",
          "mobilized_isgitt_512_6424_1275",
          "dbaca_6114_8041_baca_394",
          "scoping_darshan_rishi_analysis_template",
          "xsellsys_mehrak_487_scoping_sriram",
          "palm_pqa_vii_emulator_application",
          "scoping_darshan_xsellsys_mehrak_dds",
          "cashedge_mime_funds_0800_nov",
          "banamex_zenki_elba_meshele_demo",
          "rim_neomar_browser_wap_gateway",
          "rim_neomar_browser_wap_emulator",
          "packet_size_hdml_wml_packetsize",
          "rim_neomar_browser_cookies_wap",
          "epservlet_rim_opt_neomar_servlet",
          "banamex_pemex_certificate_zenki_elba",
          "paytrust_ad_ads_phani_marilisa",
          "etrade_fidelity_paytrust_trade_ad",
          "action_impacted_3797_866_issue",
          "epservlet_rim_voice_opt_neomar",
          "palm_pqa_darshan_scoping_cashedge",
          "ip_exodus_255_dns_external",
          "pager_betty_rim_via_599",
          "palm_epservlet_rim_pqa_voice",
          "meshele_ko_9665_mko_836",
          "pda_notes_679_biogen_depalma",
          "biogen_pda_679_notes_617",
          "palm_epservlet_rim_pqa_application",
          "nadir_nawabzada_8044_7289_administrator",
          "vpn_nadir_nawabzada_8044_7289",
          "password_login_username_user_passwords",
          "palm_epservlet_rim_pqa_application",
          "dbaca_6114_8041_394_baca",
          "training_chris_longstaffe_8132_7573",
          "dentist_appt_appointment_doctor_dental",
          "printer_badge_badges_toner_printers",
          "projector_hotel_room_rent_rooms",
          "printer_badge_keys_badges_furniture",
          "projector_printer_hotel_badge_room",
          "dentist_office_appt_urgent_appointment",
          "training_doug_chris_longstaffe_instructor",
          "lead_leads_forecast_cw_pipeline",
          "channelwave_lead_leads_forecast_cw",
          "sybase_leaders_70m_primed_funded",
          "sprint_pcs_verizon_portal_scott",
          "blackberry_handheld_net_sent_wireless",
          "blackberry_handheld_net_sent_wireless",
          "sybase_bayer_leaders_sap_intro",
          "state_synopsis_changed_responsible_webgnats",
          "state_synopsis_changed_responsible_webgnats",
          "jamcracker_ruyben_openair_sharyn_fortune",
          "tie_tiecon_ffe_india_kailash",
          "tie_tiecon_jai_ffe_srimannarayana",
          "mailer_list_content_subscription_unsubscribe",
          "tie_tiecon_gartner_jai_ffe",
          "webex_jamcracker_ruyben_meeting_join",
          "state_survey_responsible_synopsis_changed",
          "blackberry_handheld_net_sent_wireless",
          "h1_visa_insurance_kathy_enrollment",
          "timesheet_sheet_xls_timesheets_spreadsheet",
          "invoice_invoices_bonus_payment_h1",
          "expense_alice_expenses_receipts_report",
          "press_kits_release_stapled_letterhead",
          "timesheet_invoice_invoices_expense_alice",
          "blackberry_handheld_net_sent_wireless",
          "license_rational_licenses_licensing_robot",
          "channelwave_lead_leads_mitch_forecast",
          "resume_interview_position_resumes_experience",
          "blackberry_handheld_net_sent_wireless",
          "blackberry_handheld_____net_sent",
          "training_doug_chris_longstaffe_instructor",
          "privileged_recipient_prohibited_confidential_intended",
          "fw_subject_fwd_message_tattoo",
          "aol_fw_return_receipt_path",
          "recipient_privileged_prohibited_confidential_intended",
          "msn_explorer_yahoo_hotmail_free",
          "yahoo_xp_groups_extremeprogramming_egroups",
          "recipient_privileged_prohibited_confidential_intended",
          "meltzer_dave_858_wirelessly_3567",
          "fortunata_cisco_helen_base_touch",
          "fortunata_cisco_attend_helen_base",
          "arun_tony_bithi_thanks_srik",
          "roopak_vinayak_srik_ravi_prasad",
          "roopak_vinayak_shailesh_srik_ravi",
          "cd_arun_hung_tony_bithi",
          "funny_ha_calendar_lol_rofl",
          "glenn_fortunata_fyi_cisco_attend",
          "sanjay_offline_browsing_outline_ann",
          "glenn_cd_arun_fortunata_hung",
          "stellcom_amit_bernie_hanks_amr",
          "thank_thanks_great_cool_much",
          "glenn_collateral_cd_arun_fortunata",
          "que_de_el_la_en",
          "8096_fang_khou_gaskill_7977",
          "que_de_el_la_en",
          "laporte_753_770_jon_9163",
          "que_de_el_la_en",
          "cell_number_call_my_phone",
          "206_5105_6105_604_weller",
          "que_de_el_la_en",
          "icons_jpg_gif_icon_file",
          "que_de_el_la_en",
          "iq_que_777_insiteful_promotions",
          "iq_que_777_insiteful_promotions",
          "781_6774_smialek_238_regional",
          "kimberlie_cerrone_9157_8109_8069",
          "carlos_restrepo_8052_4083909518_9518",
          "rromain_35874_49_89_federer",
          "iq_que_777_insiteful_de",
          "david_marcus_meltzer_dave_858",
          "ruth_gantly_8033_products_manager",
          "sitraka_mobility_hong_416_organizer",
          "iq_ich_que_die_de",
          "yahoo_xp_recipient_message_groups",
          "blackberry_handheld_net_____sent",
          "active_session_count_pdt_host_crossed_ok",
          "blackberry_handheld_net_sent____",
          "blackberry_handheld_net_sent____",
          "palm_epservlet_rim_engineering_application",
          "562_408_2211_ca_95131",
          "jsp_jguru_faq_java_servlets",
          "partner_biz_partners_dev_sales",
          "wireless_partner_our_hearing_strategy",
          "alerts_alert_slides_presentation_slide",
          "contract_pricing_agreement_legal_price",
          "accenture_amit_ty_slides_presentation",
          "wireless_alerts_alert_presentation_pricing",
          "sun_shawn_8067_5163_sswanson",
          "fax_faxed_signed_sign_number",
          "nda_mutual_sign_signed_faxed",
          "accenture_wireless_alerts_presentation_slides",
          "hp_sizing_fortunata_robert_hewlett",
          "email_emails_mail_problem_message",
          "email_emails_mail_problem_message",
          "check_cheque_checks_look_into",
          "document_changes_review_documents_made",
          "draft_spec_functional_document_review",
          "project_requirements_estimates_release_estimate",
          "project_requirements_estimates_release_estimate",
          "demo_ae_aes_demos_project",
          "alaska_airlines_steve_visto_john",
          "demo_alaska_ae_idc_airlines",
          "utilitysrv1_files_doc_file_zip",
          "email_check_problem_emails_mail",
          "accenture_wireless_alerts_hp_nda",
          "meeting_meet_meetings_00_30",
          "meeting_conference_call_00_meet",
          "room_conference_tijuana_sausalito_where",
          "venk_prakash_him_amy_he",
          "conference_meeting_00_room_30",
          "baby_love_mom_hope_shower",
          "baby_india_love_hope_care",
          "lunch_dinner_food_pizza_eat",
          "vinny_ride_rose_bike_sabine",
          "lunch_golf_play_dinner_tournament",
          "her_she_baby_india_love",
          "venk_meeting_conference_prakash_00",
          "accenture_wireless_alerts_hp_our",
          "jsp_jguru_www_blackberry_java",
          "bugzilla_shadow_show_bug_cgi_id"
         ],
         "marker": {
          "color": "black"
         },
         "mode": "markers",
         "showlegend": false,
         "type": "scatter",
         "x": [
          0.4750986412122752,
          0.2523743187322826,
          0.7758193273320281,
          0.8765933524560617,
          0.34479333744058827,
          0.019222590865421885,
          0.5410774931319431,
          0.8656807075133782,
          1.0517802552079698,
          0.457092108030961,
          0.43375073966983624,
          0.348036833154337,
          0.8606118943374292,
          0.5963052632168819,
          1.162239924448314,
          0.6268195032342168,
          0.7867748824659494,
          0.6957312713713882,
          0.8024278088981646,
          0.9097645445997581,
          0.8090878422394511,
          0.95931622521272,
          0.8996553908398393,
          0.8984966695723673,
          0.8824689930274128,
          0.9577615082425028,
          1.0134268703253755,
          0.8530752904228154,
          1.0897869710676735,
          0.6205784430382223,
          0.5072570181581687,
          1.174429463579403,
          1.2259649147734768,
          1.1426369869608515,
          0.6290643560933432,
          0.8570701311559571,
          1.5103359195947106,
          0.6915590455902029,
          0.38882983129699433,
          0.8835342154347936,
          0.9177512885311317,
          0.9839341194445625,
          0.8099845826206185,
          1.0436608023407004,
          0.5934802362938012,
          0.6303849416453307,
          1.1843417592257373,
          0.9747268406487323,
          0.36521284666698484,
          1.2543599871875004,
          1.0769183745781608,
          1.349154841173239,
          0.710518411881292,
          0.3493634566506192,
          0.22944200419740135,
          0.8869519641608187,
          1.415524091113102,
          1.4481690328201893,
          0.2673941866597954,
          0.8974020928690271,
          1.1473315779880549,
          0.7966535064049767,
          0.8363936944275725,
          0.7477466868540747,
          0.9668611592702127,
          0.632156679688557,
          0.826955417228209,
          0.7712929370280056,
          0.9086026560872733,
          0.8134993834313357,
          0.9411656382321151,
          0.964494740869959,
          0.9951567365007038,
          0.8617880237029065,
          0.9601702721813196,
          0.8341919496931058,
          1.1200224600512365,
          1.1697771163085458,
          0.8314730496008265,
          0.5931534691574969,
          1.2503494788367402,
          0.7977820548747923,
          0.5831044224601615,
          0.9811773195320215,
          1.351247799920945,
          0.7620365039974377,
          0.8416463083813095,
          0.2643715232235192,
          1.4497779673581268,
          1.2106314469967798,
          0.950533995833502,
          0.7801887218051166,
          0.9250138150090699,
          0.8982579258171682,
          0.9550746639103876,
          1.0073832034717332,
          1.0622221186717569,
          1.0781896778916482,
          0.7213084026301705,
          0.8027655838918938,
          0.8449520785112563,
          0.8940619924492917,
          0.9553698947881998,
          1.0101061172955559,
          1.065684468201252,
          0.9110711121048716,
          0.9955427166428238,
          0.8106031640591518,
          0.8791992324742848,
          0.9814233200958427,
          0.8618436108456666,
          1.0127786542064314,
          0.950918008662847,
          1.0878405569706755,
          1.0748259553824058,
          0.8220155844106376,
          0.8308588623534865,
          0.9303537102187657,
          0.7831882549921295,
          0.6355806226934315,
          1.0734320125522065,
          1.1336375581141724,
          0.551045713382948,
          0.9544557858661005,
          0.8496614607773255,
          1.2484797034114503,
          1.256952682096624,
          1.2079040688336071,
          0.9909317716563553,
          0.8278919492997495,
          0.9928095504783998,
          1.2383477295876462,
          0.7345548156087981,
          1.0148980036152353,
          1.3043863390969639,
          0.8882857166010887,
          0.9683425791054996,
          0.9801348605224643,
          0.975806470087672,
          0.9472314631084842,
          0.9636066376348634,
          0.9834095781817874,
          0.9664222819026123,
          1.0068307795095006,
          0.829572707753184,
          1.0567617940663614,
          0.8307278952894354,
          0.7463327764798477,
          1.0878402209970248,
          0.9963381275228713,
          0.9773665649789914,
          1.000963496183611,
          0.976863330581596,
          1.024599597801966,
          0.8175520574510868,
          0.8642462501689819,
          1.049394314160356,
          0.9596511199208553,
          1.1570981393535165,
          1.1747850532150985,
          1.185515769783747,
          1.1649989864431847,
          0.6448123530226744,
          0.6207994283535004,
          0.8980827035168593,
          1.2283226608551265,
          1.0997746233257168,
          0.37859125443466857,
          0.8043240293963934,
          1.3254926062925412,
          1.401658996192562,
          1.3076753618469883,
          0.7562184555861661,
          1.5261580197939046,
          1.5776026026461345,
          1.7078985544852938,
          1.4541925842959684,
          1.5830901106335842,
          0.5152794475649711,
          0.7231638941925463,
          0.7971010928367324,
          0.6354321716987064,
          0.25435247924923754,
          0.9264130375599048,
          0.7874902086855013,
          0.6127303097489978,
          0.12873798270468528,
          1.2137015620713323,
          0.9502957905221813,
          0.6037039805239115,
          0.8241346965747048,
          0.7398373487787064,
          0.8164215490925727,
          0.8776827801974724,
          0.49708624507347954,
          0.6134959161196257,
          0.7161039826323473,
          0.8193414313655965,
          0.8931777660873532,
          0.9113538868809568,
          0.9702180116466197,
          1.4088649388452528,
          0.28640916582095766,
          0.5921461350529434,
          0.7913591428763498,
          0.7351245316967138,
          0.9518753284142232,
          0.4609700501928823,
          0.7252120438556995,
          0.7431884421930495,
          0.8291354666178758,
          0.9874621744831917,
          0.945333378071401,
          1.0427479274037084,
          1.482622432342408,
          2.320230819719836,
          2.1779123780149283
         ],
         "y": [
          -20,
          -112.5,
          -54.6875,
          -16.25,
          -160,
          -200,
          -211.25,
          -170,
          -53.359375,
          -280,
          -260,
          -350,
          -313.75,
          -410,
          -336.875,
          -490,
          -520,
          -550,
          -527.5,
          -486.25,
          -580,
          -514.375,
          -622.5,
          -690,
          -670,
          -636.25,
          -552.1875,
          -460,
          -533.046875,
          -440,
          -740,
          -533.26171875,
          -366.25,
          -273.75,
          -772.5,
          -783.75,
          -388.53271484375,
          -830,
          -870,
          -952.5,
          -949.375,
          -946.09375,
          -1022.5,
          -973.046875,
          -910,
          -1060,
          -956.69921875,
          -880,
          -1100,
          -946.6748046875,
          -840,
          -933.543701171875,
          -1162.5,
          -1230,
          -1200,
          -1173.75,
          -1033.0218505859375,
          -1113.2296752929688,
          -1320,
          -1292.5,
          -1310,
          -1440,
          -1420,
          -1472.5,
          -1433.75,
          -1400,
          -1510,
          -1570,
          -1566.25,
          -1610,
          -1562.8125,
          -1590.15625,
          -1520,
          -1690,
          -1701.25,
          -1670,
          -1568.1640625,
          -1429.375,
          -1782.5,
          -1760,
          -1530.556640625,
          -1372.5,
          -1830,
          -1840,
          -1513.42041015625,
          -1920,
          -1927.5,
          -1890,
          -1684.210205078125,
          -1330,
          -1972.5,
          -2020,
          -2070,
          -2112.5,
          -2067.5,
          -2095.625,
          -2030,
          -1986.25,
          -2180,
          -2187.5,
          -2250,
          -2332.5,
          -2302.5,
          -2324.375,
          -2261.25,
          -2400,
          -2410,
          -2460,
          -2500,
          -2496.25,
          -2560,
          -2514.375,
          -2467.5,
          -2425,
          -2306.71875,
          -2620,
          -2670,
          -2631.25,
          -2600,
          -2700,
          -2627.1875,
          -2385.8203125,
          -2230,
          -2181.875,
          -2732.5,
          -2280.0830078125,
          -2513.16650390625,
          -2031.328125,
          -2802.5,
          -2860,
          -2870,
          -2817.5,
          -2920,
          -2930,
          -2851.25,
          -3012.5,
          -3133.75,
          -3151.875,
          -3242.5,
          -3290,
          -3297.5,
          -3256.25,
          -3212.5,
          -3170.9375,
          -3110,
          -3159.453125,
          -3370,
          -3350,
          -3244.7265625,
          -3450,
          -3492.5,
          -3447.5,
          -3532.5,
          -3475.625,
          -3600,
          -3580,
          -3510.9375,
          -3412.5,
          -3482.421875,
          -3556.2109375,
          -3603.10546875,
          -3304.86328125,
          -3090,
          -3070,
          -3690,
          -3175.177001953125,
          -3027.5,
          -2990,
          -3730,
          -3111.2721252441406,
          -2898.75,
          -2338.9556884765625,
          -3770,
          -2750.574359893799,
          -3265.2871799468994,
          -1562.5369262695312,
          -1187.8648376464844,
          -592.703857421875,
          -3970,
          -3967.5,
          -3940,
          -3912.5,
          -4020,
          -3937.8125,
          -3882.5,
          -4070,
          -4050,
          -3932.578125,
          -3843.75,
          -4140,
          -4125.625,
          -4100,
          -4192.5,
          -4189.375,
          -4290,
          -4297.5,
          -4290.625,
          -4260,
          -4283.90625,
          -4210.9375,
          -4122.65625,
          -3920.95703125,
          -4370,
          -4380,
          -4350,
          -4422.5,
          -4371.25,
          -4480,
          -4476.25,
          -4530,
          -4570,
          -4540,
          -4474.0625,
          -4402.5,
          -4056.19140625,
          -1230.9969526529312,
          -126.2109375
         ]
        },
        {
         "hoverinfo": "text",
         "hovertext": [
          "verified_2000_bugs_opened_mass",
          "rel_2_version_os_resolution_severity",
          "rel_2_version_os_resolution_severity",
          "version_os_resolution_severity_platform",
          "version_os_resolution_severity_platform",
          "assignedto_reportedby_component_priority_designer",
          "sep_scroll_vertical_2000_rpalanisamy",
          "assignedto_reportedby_component_shadow_priority",
          "shadow_severity_version_component_2000",
          "duplicate_marked_bug_bugzilla_value",
          "value_old_changed_bugzilla_show_bug",
          "value_old_changed_bugzilla_show_bug",
          "value_old_bugzilla_changed_show_bug",
          "value_bugzilla_old_show_bug_cgi",
          "cm_germanium_palladium_fullinstaller_build",
          "osa_adapter_sync_contact_siebel",
          "oca_offline_osa_sources_sync",
          "oracle_jdbc_driver_database_sql",
          "siebel_oracle_jdbc_database_driver",
          "jar_ant_jre_classes_jbuilder",
          "jar_ant_classes_bat_jre",
          "weblogic_jar_ant_classes_build",
          "test_sessions_solaris_tests_testing",
          "emds_japanese_emas_i18n_english",
          "emds_japanese_srik_emas_i18n",
          "pocketpc_ie_pocket_pc_ce",
          "ert_pocketpc_ie_pocket_frames",
          "proxy_netscape_log_logs_utility",
          "aml_files_amlscript_pages_error",
          "clearcase_dll_dlls_pcanywhere_machine",
          "clearcase_mpharma_dll_cab_dlls",
          "aml_clearcase_ftp_mpharma_dll",
          "test_emds_japanese_tests_solaris",
          "hideki_miyuki_jphone_sky_phone",
          "test_emds_japanese_tests_solaris",
          "bug_bugs_bugzilla_fix_fixed",
          "test_vss_aml_emds_japanese",
          "oca_test_siebel_files_tests",
          "jsp_jguru_faq_servlets_faqpage",
          "xml_interest_archives_xsl_java",
          "jsp_jguru_faq_servlets_java",
          "logo_logos_eps_jaime_format",
          "stewart_8060_telecom______________________________cstewart",
          "margulies_debbie_8059_1052_393",
          "margulies_debbie_8059_1052_393",
          "margulies_debbie_8059_1052_393",
          "susan_simmons_8022_mary_administration",
          "8006_tracy_0060_588_mark",
          "0060_8006_588_tracy_jkouragian",
          "margulies_debbie_8059_1052_393",
          "8186_brett_welborn_1103_355",
          "8186_brett_welborn_1103_355",
          "margulies_debbie_8059_1052_393",
          "ricardo_garcia_7984_4827_829",
          "margulies_debbie_562_408_8059",
          "era_rsilverton_enabling_silverton_infrastructure",
          "silverton_8039_6789_845_ron",
          "venk_0797_763_executive_8010",
          "germana_8135_martinez_coordinator_8107",
          "germana_8135_martinez_coordinator_8107",
          "whaley_elisabeth_8189_srvcs_germana",
          "whaley_elisabeth_executive_shukla_8189",
          "richman_mike_0644_forwards_460",
          "richman_mike_0644_460_forwards",
          "mobilized_engr_mobilization_8041_6114",
          "dbaca_6114_8041_baca_394",
          "rfp_qwest_rfi_rfps_response",
          "meshele_ko_9665_8034_836",
          "scoping_darshan_dds_rishi_analysis",
          "palm_pqa_vii_emulator_application",
          "palm_pqa_vii_emulator_application",
          "palm_pqa_darshan_scoping_vii",
          "pemex_certificate_verisign_certificates_ssl",
          "rim_neomar_browser_wap_emulator",
          "rim_neomar_browser_wap_emulator",
          "epservlet_opt_servlet_ini_hdml",
          "voice_voicexml_voicegenie_speech_demo",
          "voice_voicexml_speechworks_voicegenie_speech",
          "epservlet_rim_voice_opt_neomar",
          "etrade_trade_canada_uschinese_craig",
          "etrade_fidelity_trade_canada_john",
          "omnisky_brauner_wendy_9223_1752",
          "trade_etrade_fidelity_paytrust_omnisky",
          "trade_etrade_fidelity_paytrust_omnisky",
          "epservlet_rim_voice_opt_neomar",
          "ip_255_external_dns_63",
          "laden_rm_rf_craig_bin",
          "craig_laden_rf_rm_ip",
          "craig_laden_rm_rf_ip",
          "palm_epservlet_rim_pqa_application",
          "biogen_diana_drop_srik_nilesh",
          "8030_piyer_founder_iyer_cto",
          "8030_piyer_founder_biogen_iyer",
          "laptop_dell_laptops_nadir_docking",
          "vpn_nadir_laptop_dell_nawabzada",
          "vpn_nadir_laptop_fernand_dell",
          "password_vpn_nadir_laptop_fernand",
          "palm_epservlet_rim_application_pqa",
          "training_chris_longstaffe_8132_7573",
          "doug_7956_ep036_8744_instructor",
          "office_urgent_out_monday_return",
          "keys_furniture_key_cabinet_chairs",
          "printer_badge_keys_badges_furniture",
          "hotel_room_apartment_rent_bedroom",
          "projector_hotel_room_onto_exit",
          "flight_ticket_itinerary_fare_sfo",
          "projector_flight_ticket_hotel_itinerary",
          "flight_projector_ticket_hotel_itinerary",
          "ewap_mitch_ewrp_referral_program",
          "channelwave_lead_leads_mitch_forecast",
          "bayer_intro_ep_toshiba_itf",
          "bayer_sap_intro_ep_toshiba",
          "blackberry_handheld_net_sent_wireless",
          "sprint_pcs_verizon_scott_sprintspectrum",
          "ipaq_andy_ipaqs_compaq_device",
          "sprint_ipaq_pcs_andy_verizon",
          "fedex_tracking_shipment_ship_shipping",
          "blackberry_handheld_net_sent_wireless",
          "newsletter_suffix_role_prefix_datasheet",
          "survey_service_meetme_schorr_deliver",
          "tie_tiecon_ffe_agenda_india",
          "ron_spanish_spain_barcelona_madrid",
          "gartner_ron_spanish_spain_barcelona",
          "stcetsig_stc_34772p_subscribed_visio",
          "stcetsig_stc_34772p_subscribed_visio",
          "stcetsig_stc_34772p_subscribed_tie",
          "webex_stcetsig_jamcracker_ruyben_stc",
          "webex_stcetsig_state_jamcracker_ruyben",
          "invoice_invoices_bonus_payment_paid",
          "invoice_invoices_bonus_payment_stock",
          "timesheet_sheet_xls_timesheets_spreadsheet",
          "timesheet_invoice_invoices_bonus_sheet",
          "press_ryan_kits_release_stapled",
          "invoice_timesheet_invoices_expense_alice",
          "blackberry_handheld_net_sent_wireless",
          "blackberry_handheld_net_sent_wireless",
          "resume_position_resumes_experience_my",
          "____salary_experience_apply_description",
          "____resume_experience_salary_job",
          "trish_lady_vp_ready_web",
          "blackberry_handheld_____net_sent",
          "recipient_prohibited_privileged_notify_contain",
          "attachment_vbs_quarantined_attachments_loveletter",
          "virus_attachment_vbs_quarantined_attachments",
          "aol_return_receipt_path_wgm",
          "klgroup_klg_esmtp_listserv1_1999",
          "klgroup_klg_return_esmtp_path",
          "xp_groups_yahoo_extremeprogramming_egroups",
          "bluemountain_card_greeting_cards_mountain",
          "card_bluemountain_cards_greeting_mountain",
          "yahoo_xp_groups_card_extremeprogramming",
          "meltzer_858_wirelessly_3567_0033",
          "8080_chan_vp_david_development",
          "marcus_david_8080_7978_chan",
          "fortunata_helen_regional_toni_she",
          "fortunata_helen_base_touch_regional",
          "attend_lisa_attending_hedges_she",
          "glenn_fyi_pereira_om_thanks",
          "funny_ha_lol_rofl_oh",
          "arun_tony_srik_thanks_om",
          "cd_hung_cds_burner_burn",
          "roopak_kc_vinayak_shailesh_paiman",
          "cd_arun_hung_roopak_tony",
          "cd_arun_hung_funny_roopak",
          "glenn_cd_arun_fortunata_hung",
          "collateral_emma_joint_advise_pieces",
          "781_6774_smialek_238_regional",
          "781_6774_smialek_238_peter",
          "781_6774_smialek_238_peter",
          "icons_gif_icon_bmp_gifs",
          "tucker_tennille_gene_garrett_7663",
          "que_de_el_la_en",
          "8096_fang_khou_recruiting_chen",
          "8096_fang_khou_gaskill_7977",
          "laporte_jon_9163_2040_985",
          "btopi_bt_weboe_btorder_num",
          "btopi_bt_laporte_753_770",
          "cell_digitalenterprises_892_5025_dfradin",
          "cell_digitalenterprises_206_892_5025",
          "que_de_el_la_en",
          "iq_777_insiteful_promotions_kadanoff",
          "oocl_bacadi_reefer_diane_specialist",
          "ray_canuel_703_281_4223",
          "iq_que_777_insiteful_promotions",
          "iq_que_777_insiteful_promotions",
          "iq_que_777_insiteful_promotions",
          "ich_die_und_der_das",
          "ich_die_und_der_werner",
          "iq_ich_que_die_de",
          "iq_ich_que_die_de",
          "darcysalzmann_infotriever_3593_toronto_416",
          "infotriever_416_darcysalzmann_sitraka_3593",
          "iq_ich_que_die_de",
          "iq_yahoo_ich_xp_recipient",
          "ping_rta_loss_packet_ms",
          "ping_rta_host_loss_state",
          "4368397_neon_mochizuki_tantravahi_nightly",
          "mochizuki_tantravahi_cmadm_cmbuild3_javamail",
          "blackberry_handheld_net_sent____",
          "blackberry_handheld_net_sent_palm",
          "blackberry_408_562_inc_avocadoit",
          "hp_fortunata_hewlett_packard_reps",
          "hp_fortunata_hewlett_packard_reps",
          "sun_helen_iplanet_shawn_reps",
          "pricing_price_hosting_fee_000",
          "wireless_hearing_brett_strategy_8186",
          "wireless_partner_hearing_our_strategy",
          "wireless_partner_our_hearing_strategy",
          "wireless_alerts_alert_presentation_slides",
          "accenture_amit_ty_slides_andersen",
          "accenture_wireless_alerts_presentation_slides",
          "fax_faxed_signed_copy_sign",
          "nda_signed_sign_fax_faxed",
          "accenture_wireless_alerts_nda_presentation",
          "email_emails_mail_problem_message",
          "email_emails_mail_problem_message",
          "email_problem_emails_mail_message",
          "document_review_documents_feedback_here",
          "draft_document_changes_review_documents",
          "utilitysrv1_files_zip_file_folder",
          "utilitysrv1_files_zip_file_folder",
          "ae_aes_project_requirements_darshan",
          "demo_idc_ae_aes_project",
          "demo_alaska_ae_idc_airlines",
          "demo_alaska_ae_idc_airlines",
          "demo_alaska_idc_ae_airlines",
          "conference_call_pst_dial_number",
          "meeting_conference_30_call_00",
          "venk_prakash_amy_meeting_amitabh",
          "venk_prakash_him_amy_matt",
          "baby_india_love_hope_care",
          "her_she_man_says_his",
          "her_she_baby_india_love",
          "golf_play_tournament_tennis_game",
          "vinny_sounds_ride_rose_bike",
          "lunch_golf_play_dinner_tournament",
          "lunch_her_she_baby_love",
          "venk_meeting_conference_prakash_lunch",
          "accenture_meeting_wireless_venk_you",
          "jsp_www_jguru_408_blackberry"
         ],
         "marker": {
          "color": "black"
         },
         "mode": "markers",
         "showlegend": false,
         "type": "scatter",
         "x": [
          0.8125388544497134,
          0.10442796133120524,
          0.12394449787451291,
          0.26166707573868475,
          0.4037455839008508,
          0.20388866940221861,
          0.4673942435113727,
          0.7402415996572544,
          0.8702687858110572,
          0.22383809807592714,
          0.17129614554090955,
          0.454919240216085,
          0.7512846247277783,
          1.028250575356157,
          0.684044043904567,
          0.6667041245322772,
          0.7390513405963699,
          0.6341572502457956,
          1.097196296952977,
          0.7319532778899223,
          0.7858903840318069,
          0.8375802090856831,
          0.7685809465727923,
          0.7791285878834636,
          0.8926884279688991,
          0.8144072462533378,
          0.9294156271392834,
          0.8809119140990868,
          0.7661182176769797,
          0.9469659218354697,
          0.9913525528445472,
          1.0091175457354615,
          1.0694152697974857,
          0.6817668152446852,
          1.115005888343684,
          0.6296656801649467,
          1.202374420872882,
          1.259710705140565,
          0.2781893807948541,
          0.4108113326335213,
          1.1214304961523351,
          0.12049745624858166,
          0.7970315339323721,
          0.840159759540534,
          0.8914777521720202,
          0.9470336602479492,
          0.8495394642708731,
          0.5687165010317676,
          0.8597979732915922,
          1.1097163624864448,
          0.6887307334969986,
          1.1626772048971226,
          1.2141846532506066,
          0.7979743992402182,
          1.324956554456734,
          0.0670975200891556,
          0.4405110321649312,
          0.44592039877357004,
          0.7884493880310358,
          0.8845126829350252,
          1.3386010523525345,
          1.414919184571767,
          0.019495232015259156,
          0.6367901393897888,
          0.5166389348208835,
          0.401654313070409,
          0.2457390329819128,
          0.5457492437349285,
          0.841116093396066,
          0.6497388177931451,
          0.836428107373009,
          1.039860653619106,
          0.748965376006562,
          0.8667850329339268,
          0.9387243506547083,
          0.8493168294497723,
          0.5602068934487093,
          0.8564009256209564,
          1.0932186363632783,
          0.7326839541781855,
          0.8752242466902831,
          0.9261997373053019,
          0.989882654516718,
          1.027299005513375,
          1.121420336386541,
          0.40383823393691665,
          0.75224293030857,
          1.0881379629818453,
          1.2187950849127738,
          1.3036449685271079,
          0.2855068673246317,
          0.23876933167746894,
          1.2772476834599682,
          0.7465483430250928,
          0.8784000974422626,
          0.9487177074212476,
          1.1321350028800459,
          1.4726120537411977,
          0.4623714096801038,
          0.7853749671428738,
          0.41343688349088137,
          0.7733723510944199,
          0.9352015353664196,
          0.8611420910159371,
          0.9286295456076274,
          0.6241788977197857,
          1.1228025860511102,
          1.1596726471039271,
          0.8679145500309883,
          0.9325888628156319,
          0.8486256089147435,
          0.9506453660467764,
          0.936753861420484,
          0.817872066932819,
          0.868976567065145,
          0.9849263776331427,
          0.7854735501121759,
          1.0211406464678479,
          0.8921327920910813,
          0.7421476593614027,
          0.9701916394090728,
          0.8520525547454065,
          0.9312997223145095,
          0.9350458096795699,
          0.9799220437971209,
          1.0416911289805917,
          1.087943937865926,
          1.1095796242237945,
          0.8414234858736582,
          0.862819892019535,
          0.9414092003211788,
          1.0050328976270546,
          0.9387096363964288,
          1.1577463292659498,
          1.1875105710877896,
          1.2058157934808609,
          0.31845448995537706,
          0.9019750998200733,
          1.0682393785828317,
          0.42411700355688287,
          1.2621188159919625,
          0.06225119391548217,
          0.7142143844531881,
          0.8168185192260138,
          0.9209069740631499,
          0.5541627649620362,
          1.1535476530908202,
          0.5747994159992523,
          0.5041460460632887,
          0.7506257531543478,
          1.3037533732344933,
          0.8319963710008829,
          0.741726252510155,
          0.8816444440843573,
          0.9082832462296051,
          0.9545387431343144,
          0.9386654840772267,
          0.9348041840092132,
          0.8937435224894809,
          0.9286236574175455,
          0.937897615196223,
          0.9935726402465012,
          1.0074470921005572,
          1.0404897327752218,
          1.0476641339318,
          0.801295262414107,
          0.868265359277979,
          1.0614891602145435,
          1.112752788033289,
          0.7918839112935403,
          0.993358497305037,
          0.9967080952589744,
          0.9534992085345559,
          0.9926070381970098,
          0.948394565429252,
          0.9361106311014454,
          1.0436763010954675,
          0.9742182873563913,
          1.0187423040380077,
          1.1208104022269545,
          0.7337793031541977,
          0.7126758176778112,
          0.7166982692906864,
          1.1875223320288901,
          1.2030665116695962,
          1.2210317117518978,
          0.8310463156803871,
          0.9561156451985916,
          1.2449908894239516,
          1.2750093689339554,
          0.5668902208533775,
          0.940470331191547,
          1.4152141703126992,
          1.463774934835024,
          0.18863555426913825,
          0.9665338262861063,
          0.06873146459240953,
          0.30267472510956667,
          1.734994887813413,
          1.8127252719261966,
          2.1291937649238353,
          0.19194484385954158,
          0.4686470980617256,
          0.35930593992522897,
          0.5810916491658844,
          0.23124780344075713,
          0.6449547961481541,
          0.7944377906660283,
          0.8498449384982664,
          0.6585425063386174,
          1.1556463219226036,
          0.7938720029251326,
          0.9909568054371056,
          1.3228862681390874,
          0.7175209651134566,
          0.7915264290879638,
          0.8974547005795015,
          0.6634079675659285,
          0.8538812433601071,
          0.6762994367347734,
          0.734506597643822,
          0.7091996295158149,
          0.8370017644302843,
          0.9085026358516844,
          1.062289886308509,
          1.1895108883164334,
          0.4101295095185826,
          0.6199358486559506,
          0.6632975260574558,
          0.8132396879960605,
          0.6607395846976646,
          0.6398354994738571,
          0.895335479902281,
          0.7531693265349926,
          0.9250201819532375,
          1.0024254050686117,
          1.1168331206401345,
          1.4201125890970692,
          1.6620072596054285,
          2.4373343556055427
         ],
         "y": [
          -27.5,
          -90,
          -82.5,
          -73.75,
          -64.375,
          -120,
          -140,
          -126.25,
          -90.46875,
          -180,
          -230,
          -222.5,
          -228.125,
          -199.0625,
          -287.5,
          -330,
          -322.5,
          -370,
          -360,
          -417.5,
          -406.25,
          -395.625,
          -497.5,
          -557.5,
          -542.5,
          -600,
          -590,
          -630,
          -650,
          -697.5,
          -683.75,
          -660,
          -606.09375,
          -720,
          -626.5234375,
          -747.5,
          -640.380859375,
          -503.3154296875,
          -780,
          -810,
          -796.875,
          -850,
          -890,
          -960,
          -963.75,
          -967.1875,
          -1000,
          -1030,
          -1033.75,
          -1003.3984375,
          -1080,
          -1070,
          -1013.349609375,
          -1107.5,
          -1027.08740234375,
          -1140,
          -1132.5,
          -1170,
          -1237.5,
          -1226.25,
          -1213.125,
          -1193.4375,
          -1270,
          -1262.5,
          -1300,
          -1327.5,
          -1350,
          -1380,
          -1447.5,
          -1480,
          -1483.75,
          -1458.75,
          -1530,
          -1577.5,
          -1580.625,
          -1617.5,
          -1650,
          -1642.5,
          -1616.328125,
          -1720,
          -1712.5,
          -1740,
          -1720.625,
          -1695.3125,
          -1631.73828125,
          -1790,
          -1810,
          -1796.25,
          -1778.125,
          -1654.3408203125,
          -1850,
          -1870,
          -1855,
          -1950,
          -1938.75,
          -1921.875,
          -1905.9375,
          -1795.0738525390625,
          -1980,
          -2000,
          -2040,
          -2090,
          -2080,
          -2120,
          -2123.75,
          -2150,
          -2122.8125,
          -2076.40625,
          -2210,
          -2198.75,
          -2280,
          -2272.5,
          -2310,
          -2340,
          -2360,
          -2346.25,
          -2380,
          -2352.1875,
          -2420,
          -2440,
          -2507.5,
          -2540,
          -2532.5,
          -2580,
          -2570,
          -2542.1875,
          -2504.84375,
          -2464.921875,
          -2650,
          -2642.5,
          -2677.5,
          -2654.375,
          -2707.5,
          -2667.34375,
          -2526.58203125,
          -2378.291015625,
          -2740,
          -2760,
          -2746.25,
          -2780,
          -2646.583251953125,
          -2810,
          -2840,
          -2832.5,
          -2880,
          -2900,
          -2885,
          -2940,
          -2970,
          -2962.5,
          -2946.25,
          -3020,
          -3050,
          -3042.5,
          -3150,
          -3142.5,
          -3170,
          -3190,
          -3220,
          -3250,
          -3270,
          -3306.25,
          -3281.25,
          -3246.875,
          -3208.90625,
          -3330,
          -3390,
          -3380,
          -3365,
          -3420,
          -3470,
          -3460,
          -3500,
          -3503.75,
          -3540,
          -3560,
          -3546.25,
          -3607.5,
          -3593.75,
          -3552.34375,
          -3630,
          -3650,
          -3670,
          -3636.552734375,
          -3470.7080078125,
          -3280.35400390625,
          -3710,
          -3700,
          -3437.5885009765625,
          -3232.5442504882812,
          -3750,
          -3740,
          -3425.6360626220703,
          -3162.193031311035,
          -3790,
          -3780,
          -3820,
          -3812.5,
          -3538.8935899734497,
          -2550.7152581214905,
          -1869.2900478839874,
          -3860,
          -3852.5,
          -3890,
          -3920,
          -3990,
          -3980,
          -3986.25,
          -3963.125,
          -4027.5,
          -3982.65625,
          -4077.5,
          -4063.75,
          -3998.1640625,
          -4147.5,
          -4136.25,
          -4145.3125,
          -4200,
          -4203.75,
          -4240,
          -4232.5,
          -4306.25,
          -4307.8125,
          -4309.453125,
          -4260.1953125,
          -4191.42578125,
          -4390,
          -4392.5,
          -4430,
          -4433.75,
          -4487.5,
          -4510,
          -4493.125,
          -4550,
          -4577.5,
          -4558.75,
          -4516.40625,
          -4459.453125,
          -4257.822265625,
          -2744.4096091389656
         ]
        }
       ],
       "layout": {
        "autosize": false,
        "height": 7085,
        "hoverlabel": {
         "bgcolor": "white",
         "font": {
          "family": "Rockwell",
          "size": 16
         }
        },
        "hovermode": "closest",
        "plot_bgcolor": "#ECEFF1",
        "showlegend": false,
        "template": {
         "data": {
          "bar": [
           {
            "error_x": {
             "color": "#2a3f5f"
            },
            "error_y": {
             "color": "#2a3f5f"
            },
            "marker": {
             "line": {
              "color": "white",
              "width": 0.5
             },
             "pattern": {
              "fillmode": "overlay",
              "size": 10,
              "solidity": 0.2
             }
            },
            "type": "bar"
           }
          ],
          "barpolar": [
           {
            "marker": {
             "line": {
              "color": "white",
              "width": 0.5
             },
             "pattern": {
              "fillmode": "overlay",
              "size": 10,
              "solidity": 0.2
             }
            },
            "type": "barpolar"
           }
          ],
          "carpet": [
           {
            "aaxis": {
             "endlinecolor": "#2a3f5f",
             "gridcolor": "#C8D4E3",
             "linecolor": "#C8D4E3",
             "minorgridcolor": "#C8D4E3",
             "startlinecolor": "#2a3f5f"
            },
            "baxis": {
             "endlinecolor": "#2a3f5f",
             "gridcolor": "#C8D4E3",
             "linecolor": "#C8D4E3",
             "minorgridcolor": "#C8D4E3",
             "startlinecolor": "#2a3f5f"
            },
            "type": "carpet"
           }
          ],
          "choropleth": [
           {
            "colorbar": {
             "outlinewidth": 0,
             "ticks": ""
            },
            "type": "choropleth"
           }
          ],
          "contour": [
           {
            "colorbar": {
             "outlinewidth": 0,
             "ticks": ""
            },
            "colorscale": [
             [
              0,
              "#0d0887"
             ],
             [
              0.1111111111111111,
              "#46039f"
             ],
             [
              0.2222222222222222,
              "#7201a8"
             ],
             [
              0.3333333333333333,
              "#9c179e"
             ],
             [
              0.4444444444444444,
              "#bd3786"
             ],
             [
              0.5555555555555556,
              "#d8576b"
             ],
             [
              0.6666666666666666,
              "#ed7953"
             ],
             [
              0.7777777777777778,
              "#fb9f3a"
             ],
             [
              0.8888888888888888,
              "#fdca26"
             ],
             [
              1,
              "#f0f921"
             ]
            ],
            "type": "contour"
           }
          ],
          "contourcarpet": [
           {
            "colorbar": {
             "outlinewidth": 0,
             "ticks": ""
            },
            "type": "contourcarpet"
           }
          ],
          "heatmap": [
           {
            "colorbar": {
             "outlinewidth": 0,
             "ticks": ""
            },
            "colorscale": [
             [
              0,
              "#0d0887"
             ],
             [
              0.1111111111111111,
              "#46039f"
             ],
             [
              0.2222222222222222,
              "#7201a8"
             ],
             [
              0.3333333333333333,
              "#9c179e"
             ],
             [
              0.4444444444444444,
              "#bd3786"
             ],
             [
              0.5555555555555556,
              "#d8576b"
             ],
             [
              0.6666666666666666,
              "#ed7953"
             ],
             [
              0.7777777777777778,
              "#fb9f3a"
             ],
             [
              0.8888888888888888,
              "#fdca26"
             ],
             [
              1,
              "#f0f921"
             ]
            ],
            "type": "heatmap"
           }
          ],
          "heatmapgl": [
           {
            "colorbar": {
             "outlinewidth": 0,
             "ticks": ""
            },
            "colorscale": [
             [
              0,
              "#0d0887"
             ],
             [
              0.1111111111111111,
              "#46039f"
             ],
             [
              0.2222222222222222,
              "#7201a8"
             ],
             [
              0.3333333333333333,
              "#9c179e"
             ],
             [
              0.4444444444444444,
              "#bd3786"
             ],
             [
              0.5555555555555556,
              "#d8576b"
             ],
             [
              0.6666666666666666,
              "#ed7953"
             ],
             [
              0.7777777777777778,
              "#fb9f3a"
             ],
             [
              0.8888888888888888,
              "#fdca26"
             ],
             [
              1,
              "#f0f921"
             ]
            ],
            "type": "heatmapgl"
           }
          ],
          "histogram": [
           {
            "marker": {
             "pattern": {
              "fillmode": "overlay",
              "size": 10,
              "solidity": 0.2
             }
            },
            "type": "histogram"
           }
          ],
          "histogram2d": [
           {
            "colorbar": {
             "outlinewidth": 0,
             "ticks": ""
            },
            "colorscale": [
             [
              0,
              "#0d0887"
             ],
             [
              0.1111111111111111,
              "#46039f"
             ],
             [
              0.2222222222222222,
              "#7201a8"
             ],
             [
              0.3333333333333333,
              "#9c179e"
             ],
             [
              0.4444444444444444,
              "#bd3786"
             ],
             [
              0.5555555555555556,
              "#d8576b"
             ],
             [
              0.6666666666666666,
              "#ed7953"
             ],
             [
              0.7777777777777778,
              "#fb9f3a"
             ],
             [
              0.8888888888888888,
              "#fdca26"
             ],
             [
              1,
              "#f0f921"
             ]
            ],
            "type": "histogram2d"
           }
          ],
          "histogram2dcontour": [
           {
            "colorbar": {
             "outlinewidth": 0,
             "ticks": ""
            },
            "colorscale": [
             [
              0,
              "#0d0887"
             ],
             [
              0.1111111111111111,
              "#46039f"
             ],
             [
              0.2222222222222222,
              "#7201a8"
             ],
             [
              0.3333333333333333,
              "#9c179e"
             ],
             [
              0.4444444444444444,
              "#bd3786"
             ],
             [
              0.5555555555555556,
              "#d8576b"
             ],
             [
              0.6666666666666666,
              "#ed7953"
             ],
             [
              0.7777777777777778,
              "#fb9f3a"
             ],
             [
              0.8888888888888888,
              "#fdca26"
             ],
             [
              1,
              "#f0f921"
             ]
            ],
            "type": "histogram2dcontour"
           }
          ],
          "mesh3d": [
           {
            "colorbar": {
             "outlinewidth": 0,
             "ticks": ""
            },
            "type": "mesh3d"
           }
          ],
          "parcoords": [
           {
            "line": {
             "colorbar": {
              "outlinewidth": 0,
              "ticks": ""
             }
            },
            "type": "parcoords"
           }
          ],
          "pie": [
           {
            "automargin": true,
            "type": "pie"
           }
          ],
          "scatter": [
           {
            "fillpattern": {
             "fillmode": "overlay",
             "size": 10,
             "solidity": 0.2
            },
            "type": "scatter"
           }
          ],
          "scatter3d": [
           {
            "line": {
             "colorbar": {
              "outlinewidth": 0,
              "ticks": ""
             }
            },
            "marker": {
             "colorbar": {
              "outlinewidth": 0,
              "ticks": ""
             }
            },
            "type": "scatter3d"
           }
          ],
          "scattercarpet": [
           {
            "marker": {
             "colorbar": {
              "outlinewidth": 0,
              "ticks": ""
             }
            },
            "type": "scattercarpet"
           }
          ],
          "scattergeo": [
           {
            "marker": {
             "colorbar": {
              "outlinewidth": 0,
              "ticks": ""
             }
            },
            "type": "scattergeo"
           }
          ],
          "scattergl": [
           {
            "marker": {
             "colorbar": {
              "outlinewidth": 0,
              "ticks": ""
             }
            },
            "type": "scattergl"
           }
          ],
          "scattermapbox": [
           {
            "marker": {
             "colorbar": {
              "outlinewidth": 0,
              "ticks": ""
             }
            },
            "type": "scattermapbox"
           }
          ],
          "scatterpolar": [
           {
            "marker": {
             "colorbar": {
              "outlinewidth": 0,
              "ticks": ""
             }
            },
            "type": "scatterpolar"
           }
          ],
          "scatterpolargl": [
           {
            "marker": {
             "colorbar": {
              "outlinewidth": 0,
              "ticks": ""
             }
            },
            "type": "scatterpolargl"
           }
          ],
          "scatterternary": [
           {
            "marker": {
             "colorbar": {
              "outlinewidth": 0,
              "ticks": ""
             }
            },
            "type": "scatterternary"
           }
          ],
          "surface": [
           {
            "colorbar": {
             "outlinewidth": 0,
             "ticks": ""
            },
            "colorscale": [
             [
              0,
              "#0d0887"
             ],
             [
              0.1111111111111111,
              "#46039f"
             ],
             [
              0.2222222222222222,
              "#7201a8"
             ],
             [
              0.3333333333333333,
              "#9c179e"
             ],
             [
              0.4444444444444444,
              "#bd3786"
             ],
             [
              0.5555555555555556,
              "#d8576b"
             ],
             [
              0.6666666666666666,
              "#ed7953"
             ],
             [
              0.7777777777777778,
              "#fb9f3a"
             ],
             [
              0.8888888888888888,
              "#fdca26"
             ],
             [
              1,
              "#f0f921"
             ]
            ],
            "type": "surface"
           }
          ],
          "table": [
           {
            "cells": {
             "fill": {
              "color": "#EBF0F8"
             },
             "line": {
              "color": "white"
             }
            },
            "header": {
             "fill": {
              "color": "#C8D4E3"
             },
             "line": {
              "color": "white"
             }
            },
            "type": "table"
           }
          ]
         },
         "layout": {
          "annotationdefaults": {
           "arrowcolor": "#2a3f5f",
           "arrowhead": 0,
           "arrowwidth": 1
          },
          "autotypenumbers": "strict",
          "coloraxis": {
           "colorbar": {
            "outlinewidth": 0,
            "ticks": ""
           }
          },
          "colorscale": {
           "diverging": [
            [
             0,
             "#8e0152"
            ],
            [
             0.1,
             "#c51b7d"
            ],
            [
             0.2,
             "#de77ae"
            ],
            [
             0.3,
             "#f1b6da"
            ],
            [
             0.4,
             "#fde0ef"
            ],
            [
             0.5,
             "#f7f7f7"
            ],
            [
             0.6,
             "#e6f5d0"
            ],
            [
             0.7,
             "#b8e186"
            ],
            [
             0.8,
             "#7fbc41"
            ],
            [
             0.9,
             "#4d9221"
            ],
            [
             1,
             "#276419"
            ]
           ],
           "sequential": [
            [
             0,
             "#0d0887"
            ],
            [
             0.1111111111111111,
             "#46039f"
            ],
            [
             0.2222222222222222,
             "#7201a8"
            ],
            [
             0.3333333333333333,
             "#9c179e"
            ],
            [
             0.4444444444444444,
             "#bd3786"
            ],
            [
             0.5555555555555556,
             "#d8576b"
            ],
            [
             0.6666666666666666,
             "#ed7953"
            ],
            [
             0.7777777777777778,
             "#fb9f3a"
            ],
            [
             0.8888888888888888,
             "#fdca26"
            ],
            [
             1,
             "#f0f921"
            ]
           ],
           "sequentialminus": [
            [
             0,
             "#0d0887"
            ],
            [
             0.1111111111111111,
             "#46039f"
            ],
            [
             0.2222222222222222,
             "#7201a8"
            ],
            [
             0.3333333333333333,
             "#9c179e"
            ],
            [
             0.4444444444444444,
             "#bd3786"
            ],
            [
             0.5555555555555556,
             "#d8576b"
            ],
            [
             0.6666666666666666,
             "#ed7953"
            ],
            [
             0.7777777777777778,
             "#fb9f3a"
            ],
            [
             0.8888888888888888,
             "#fdca26"
            ],
            [
             1,
             "#f0f921"
            ]
           ]
          },
          "colorway": [
           "#636efa",
           "#EF553B",
           "#00cc96",
           "#ab63fa",
           "#FFA15A",
           "#19d3f3",
           "#FF6692",
           "#B6E880",
           "#FF97FF",
           "#FECB52"
          ],
          "font": {
           "color": "#2a3f5f"
          },
          "geo": {
           "bgcolor": "white",
           "lakecolor": "white",
           "landcolor": "white",
           "showlakes": true,
           "showland": true,
           "subunitcolor": "#C8D4E3"
          },
          "hoverlabel": {
           "align": "left"
          },
          "hovermode": "closest",
          "mapbox": {
           "style": "light"
          },
          "paper_bgcolor": "white",
          "plot_bgcolor": "white",
          "polar": {
           "angularaxis": {
            "gridcolor": "#EBF0F8",
            "linecolor": "#EBF0F8",
            "ticks": ""
           },
           "bgcolor": "white",
           "radialaxis": {
            "gridcolor": "#EBF0F8",
            "linecolor": "#EBF0F8",
            "ticks": ""
           }
          },
          "scene": {
           "xaxis": {
            "backgroundcolor": "white",
            "gridcolor": "#DFE8F3",
            "gridwidth": 2,
            "linecolor": "#EBF0F8",
            "showbackground": true,
            "ticks": "",
            "zerolinecolor": "#EBF0F8"
           },
           "yaxis": {
            "backgroundcolor": "white",
            "gridcolor": "#DFE8F3",
            "gridwidth": 2,
            "linecolor": "#EBF0F8",
            "showbackground": true,
            "ticks": "",
            "zerolinecolor": "#EBF0F8"
           },
           "zaxis": {
            "backgroundcolor": "white",
            "gridcolor": "#DFE8F3",
            "gridwidth": 2,
            "linecolor": "#EBF0F8",
            "showbackground": true,
            "ticks": "",
            "zerolinecolor": "#EBF0F8"
           }
          },
          "shapedefaults": {
           "line": {
            "color": "#2a3f5f"
           }
          },
          "ternary": {
           "aaxis": {
            "gridcolor": "#DFE8F3",
            "linecolor": "#A2B1C6",
            "ticks": ""
           },
           "baxis": {
            "gridcolor": "#DFE8F3",
            "linecolor": "#A2B1C6",
            "ticks": ""
           },
           "bgcolor": "white",
           "caxis": {
            "gridcolor": "#DFE8F3",
            "linecolor": "#A2B1C6",
            "ticks": ""
           }
          },
          "title": {
           "x": 0.05
          },
          "xaxis": {
           "automargin": true,
           "gridcolor": "#EBF0F8",
           "linecolor": "#EBF0F8",
           "ticks": "",
           "title": {
            "standoff": 15
           },
           "zerolinecolor": "#EBF0F8",
           "zerolinewidth": 2
          },
          "yaxis": {
           "automargin": true,
           "gridcolor": "#EBF0F8",
           "linecolor": "#EBF0F8",
           "ticks": "",
           "title": {
            "standoff": 15
           },
           "zerolinecolor": "#EBF0F8",
           "zerolinewidth": 2
          }
         }
        },
        "title": {
         "font": {
          "color": "Black",
          "size": 22
         },
         "text": "<b>Hierarchical Clustering</b>",
         "x": 0.5,
         "xanchor": "center",
         "yanchor": "top"
        },
        "width": 1000,
        "xaxis": {
         "mirror": "allticks",
         "rangemode": "tozero",
         "showgrid": false,
         "showline": true,
         "showticklabels": true,
         "ticks": "outside",
         "type": "linear",
         "zeroline": false
        },
        "yaxis": {
         "mirror": "allticks",
         "range": [
          -4590,
          0
         ],
         "rangemode": "tozero",
         "showgrid": false,
         "showline": true,
         "showticklabels": true,
         "tickmode": "array",
         "ticks": "outside",
         "ticktext": [
          "340_butters_edt_end",
          "244_2001_date_0800",
          "100_2001_bugzilla_nobody",
          "288_bugs_opened_verified",
          "285_mobilesiebeldeveloper_2...",
          "78_p2_version_resolution",
          "331_none_version_os",
          "237_rel_2_version_os",
          "286_windows_nt_rel_2",
          "191_rel_2_version_os",
          "55_webbyphone_shadow_report...",
          "54_assignedto_reportedby_co...",
          "132_audio_flow_designer",
          "372_sep_2000_simulator",
          "210_scroll_vertical_sep",
          "119_attachment_created_id",
          "111_bugzilla_additional_com...",
          "390_duplicate_marked_bug",
          "352_duplicate_marked_value",
          "377_closed_palanisamy_ravik...",
          "168_palanisamy_closed_ravik...",
          "310_value_nagy_verified",
          "2_value_old_changed",
          "426_value_emds_old",
          "405_pachipala_ravi_assigned",
          "274_wilhan_om_jagrati",
          "42_build_wilhan_builds",
          "400_6ga_neon_cm_fullinstaller",
          "455_cm_build_5ga",
          "50_germanium_palladium_cm",
          "328_domino_adapter_dominoad...",
          "22_oca_offline_sources",
          "297_osa_adapter_osaconfig",
          "105_sync_contact_insert",
          "118_siebel_ittoolbox_newbie",
          "51_siebel_aesblsrv1_michael",
          "40_oracle_database_sql",
          "137_jdbc_driver_oracle",
          "61_weblogic_bea_server",
          "141_bat_classpath_batch",
          "143_ant_jar_build",
          "117_sources_jar_classes",
          "97_jre_jbuilder_jdk",
          "79_vss_files_checked",
          "162_applicationsengineering...",
          "319_krishna_ravi_prasad",
          "226_java_screensession_revi...",
          "236_canon_canons_failures",
          "6_test_tests_testing",
          "31_sessions_concurrent_memory",
          "77_solaris_cpu_nt",
          "389_tool_admin_deployment",
          "14_srik_prasad_rajeev",
          "116_installer_install_insta...",
          "7_japanese_i18n_english",
          "36_emds_emas_srik",
          "109_screen_step_loop",
          "246_frames_frameset_javascr...",
          "204_ert_ecs_8006",
          "338_ie_ie5_install",
          "198_pocketpc_pocket_pc",
          "189_ftp_site_password",
          "251_log_logs_file",
          "227_proxy_netscape_utility",
          "67_aml_files_amlscript",
          "341_error_unzipping_errors",
          "256_mpharma_installer_applf...",
          "419_cab_file_cabwiz",
          "382_pcanywhere_machine_access",
          "112_clearcase_wilhan_view",
          "266_dll_dlls_msvcp60",
          "385_jphone_sky_hideki",
          "197_hideki_miyuki_thank",
          "84_bugzilla_cgi_show_bug",
          "32_bug_bugs_fix",
          "456_blockers_blocker_bugs",
          "345_date_simpledateformat_mm",
          "0_jsp_jguru_faq",
          "103_resultset_jsp_jguru",
          "158_java2d_listserv_body",
          "71_xml_interest_archives",
          "62_xml_feed_xsl",
          "115_jaime_jamie_thank",
          "261_emarketing_8144_8015",
          "214_logo_logos_eps",
          "92_logo_logos_eps",
          "37_toshi_japan_tokyo",
          "157_japan_toshi_tokyo",
          "89_8060_telecom_stewart",
          "271_stewart_8042_mark",
          "249_phillips_8016_barry",
          "223_barry_jm_jaime",
          "224_wagoner_andrew_8174",
          "289_tran_alex_8068",
          "446_wang_ty_7945",
          "11_margulies_debbie_8059",
          "172_8105_tapling_8050",
          "212_8065_shirata_steven",
          "156_rayhan_abdulmughnee_7964",
          "304_simmons_susan_8022",
          "99_mary_susan_debbie",
          "316_schemena_8028_john",
          "242_adval_bugs_8035",
          "173_8006_tracy_0060",
          "351_jkouragian_kouragian_8012",
          "270_kelsey_kelseys_her",
          "452_kkerr_8036_kerr",
          "63_8186_brett_welborn",
          "406_8187_henderson_laura",
          "393_7984_4827_829",
          "176_garcia_ricardo_7984",
          "248_ricardo_dan_thanks",
          "28_silverton_8039_6789",
          "13_silverton_era_rsilverton",
          "123_era_rsilverton_enabling",
          "361_1519_petrone_noemi",
          "59_venk_0797_763",
          "376_shukla_8108_amy",
          "247_venktesh_shukla_everywh...",
          "192_whaley_elisabeth_assit",
          "106_whaley_elisabeth_8189",
          "252_massage_massages_linda",
          "200_fx_recruiting_8135",
          "163_8135_8107_martinez",
          "222_germana_german_germany",
          "48_everywhere_business_mike",
          "260_richman_mike_forwards",
          "126_richman_mike_460",
          "457_isgitt_512_6424",
          "283_mobilized_engr_8041",
          "343_mobilized_mobilization_...",
          "401_engr_dbaca_8041",
          "18_dbaca_6114_8041",
          "335_demo_dan_8041",
          "379_rfp_boeing_rfps",
          "129_rfp_qwest_rfi",
          "411_existing_web_enables",
          "391_ko_meshele_9665",
          "150_meshele_ko_jim",
          "429_cashedge_mime_0800",
          "403_cashedge_darshan_bdft",
          "290_mehrak_jarmen_nother",
          "201_xsellsys_mehrak_487",
          "153_scoping_analysis_darshan",
          "94_darshan_rishi_thanks",
          "371_dds_art_darshan",
          "453_testsrvr1_testsrvr3_tes...",
          "120_pqa_darshan_pqas",
          "3_palm_pqa_vii",
          "346_quicken_pqa_darshan",
          "422_elba_thank_hubba",
          "93_banamex_zenki_elba",
          "301_pemex_certificate_gas",
          "133_certificate_verisign_ce...",
          "146_cookies_cookie_persistent",
          "359_j2me_motorola_iden",
          "152_wap_gateway_openwave",
          "16_rim_neomar_browser",
          "356_emulator_emulators_skins",
          "416_earthlink_airwallet_kbk...",
          "298_packet_size_packetsize",
          "368_hdml_wml_pda",
          "19_epservlet_opt_servlet",
          "185_speechworks_grammar_ups",
          "24_voice_voicexml_voicegenie",
          "438_voicemail_voice_mail",
          "312_action_items_item",
          "383_impacted_3797_866",
          "369_ad_ads_marilisa",
          "215_paytrust_phani_xml",
          "179_fidelity_canada_knox",
          "154_trade_canada_kavitha",
          "127_etrade_uschinese_trade",
          "363_brauner_wendy_9223",
          "295_omnisky_962____________...",
          "410_betty_pager_via",
          "238_pager_599_airmessage",
          "228_exodus_uunet_255",
          "70_ip_255_external",
          "357_ip_net_access",
          "122_craig_thanx_ops",
          "88_laden_rf_rm",
          "296_pda_application_pqa",
          "324_pda_notes_679",
          "65_biogen_diana_srik",
          "367_biogen_781_smialek",
          "49_8030_piyer_founder",
          "404_iyer_founder_8030",
          "33_password_login_username",
          "436_password_login_username",
          "439_fernand_braganza_8133",
          "273_nawabzada_8044_7289",
          "75_nadir_fernand_done",
          "69_vpn_nadir_password",
          "29_laptop_dell_laptops",
          "412_upgrade_windows_win2k",
          "417_donivan_his_ledoux",
          "23_training_dma_course",
          "125_longstaffe_chris_training",
          "149_doug_7956_ep036",
          "131_douga_doug_jon",
          "305_dentist_dental_appointm...",
          "435_doctor_appt_appointment",
          "415_office_out_monday",
          "183_office_urgent_out",
          "414_shirts_shirt_denim",
          "302_badge_badges_visitor",
          "199_printer_toner_printers",
          "206_furniture_chairs_move",
          "230_keys_key_cabinet",
          "188_projector_room_projectors",
          "171_hotel_rooms_hotels",
          "366_apartment_rent_bedroom",
          "325_onto_exit_turn",
          "46_flight_ticket_fare",
          "375_tapling_itinerary_mr",
          "232_feedback_form_msie_mozi...",
          "208_forecast_pipeline_forec...",
          "80_lead_leads_cw",
          "72_channelwave_channel_wave",
          "291_mitch_yer_cj",
          "388_ewap_ewrp_referral",
          "353_rational_license_licenses",
          "202_license_licenses_licens...",
          "447_leaders_70m_primed",
          "216_sybase_ianywhere_gideon",
          "440_sap_labs_partnership",
          "370_intro_ep_itf",
          "257_bayer_issue_hideki",
          "311_nike_stuart_tom",
          "1_blackberry_handheld_net",
          "280_strategy_emailed_clients",
          "450_portal_7th_episode",
          "275_verizon_attws_wireless",
          "95_sprint_pcs_sprintspectrum",
          "203_ipaq_ipaqs_compaq",
          "184_andy_jm_girlfriend",
          "276_order_shipping_ship",
          "130_fedex_tracking_shipment",
          "140_state_synopsis_changed",
          "445_0000462763_fon_frm",
          "281_suffix_role_prefix",
          "243_newsletter_newsletters_...",
          "186_survey_surveys_question...",
          "254_survey_service_meetme",
          "102_ruyben_sharyn_cj",
          "147_jamcracker_openair_fort...",
          "74_webex_meeting_join",
          "318_jai_srimannarayana_sri",
          "442_ffe_scholarship_india",
          "190_tie_tiecon_kailash",
          "386_agenda_updated_doc",
          "321_gartner_study_webcast",
          "151_ron_he_daddy",
          "292_spanish_spain_barcelona",
          "373_list_lists_alphabetize",
          "220_mailer_content_subscrip...",
          "142_stcetsig_stc_34772p",
          "250_visio_dds_diagram",
          "384_alice_process_vinnie",
          "166_expense_expenses_receipts",
          "259_insurance_enrollment_me...",
          "167_h1_visa_ins",
          "217_stock_vesting_shares",
          "221_bonus_pay_salary",
          "86_invoice_invoices_payment",
          "68_xls_spreadsheet_excel",
          "81_timesheet_timesheets_sheet",
          "327_approved_approve_approval",
          "358_press_release_releases",
          "293_kits_press_stapled",
          "323_ryan_donna_thanks",
          "380_interview_prem_interviews",
          "339_resume_position_interes...",
          "43_resume_resumes_position",
          "381_years_experience_citizen",
          "178_____salary_apply",
          "231_trish_lady_her",
          "378_lady_trish_vp",
          "395_nextaxiom_251_925",
          "45_recipient_prohibited_pri...",
          "294_recipient_prohibited_pr...",
          "161_virus_norton_antivirus",
          "362_vbs_quarantined_lovelet...",
          "108_attachment_attachments_...",
          "458_message_re_cdw",
          "218_fw_subject_fwd",
          "409_receipt_wgm_return",
          "392_aol_path_full",
          "317_klgroup_klg_esmtp",
          "418_listserv1_localbusiness...",
          "337_explorer_msn_download",
          "128_yahoo_hotmail_msn",
          "277_yahoo_mayan_soccer_groups",
          "17_xp_extremeprogramming_eg...",
          "101_cards_card_business",
          "138_greeting_card_bluemount...",
          "423_bluemountain_mountain_c...",
          "374_gantly_ruth_8033",
          "160_ruth_jacinda_om",
          "113_dave_chris_call",
          "320_858_meltzer_0033",
          "181_wirelessly_esq_leading",
          "205_marcus_7978_9010",
          "284_david_fyi_george",
          "144_8080_chan_vp",
          "397_carlos_lupe_experio",
          "282_restrepo_carlos_8052",
          "211_cerrone_kimberlie_9157",
          "315_kimberlie_her_luck",
          "314_sanjay_ravi_hung",
          "420_offline_browsing_outline",
          "413_cisco_oooo_____________...",
          "451_base_touch_anyn",
          "433_helen_she_jon",
          "235_fortunata_regional_toni",
          "239_attend_attending_hedges",
          "396_lisa_crowder_her",
          "187_fyi_below_folo",
          "135_glenn_pereira_fyi",
          "427_calendar_put_calendars",
          "38_funny_ha_lol",
          "454_another_one_more",
          "387_bithi_she_boy",
          "170_arun_srik_thanks",
          "279_tony_craig_he",
          "233_hung_pokemon_steve",
          "159_cd_cds_burner",
          "360_vinayak_srik_daisy",
          "195_roopak_prasad_ravi",
          "408_shailesh_jin_shari",
          "437_kc_paiman_lorraine",
          "229_collateral_emma_joint",
          "365_emma_advise_fyi",
          "196_thank_thanks_much",
          "355_great_cool_thanks",
          "307_amit_sounds_good",
          "299_stellcom_amit_bernie",
          "104_781_6774_smialek",
          "272_7699_413_18940",
          "430_jpg_jpeg_mvc",
          "441_gif_gifs_images",
          "308_icons_icon_bmp",
          "394_orca_orcadir_percol",
          "73_que_de_el",
          "265_243_773_mccann",
          "364_gene_garrett_7663",
          "398_tucker_tennille_shit",
          "174_gaskill_7977_gal",
          "241_chen_diana_4689",
          "136_8096_fang_khou",
          "434_jivaroinc_jivaro_733",
          "326_753_770_grant",
          "348_news_cnet_html",
          "253_laporte_jon_9163",
          "421_btopi_bt_weboe",
          "332_below_comments_see",
          "428_vm_left_got",
          "431_206_5105_6105",
          "193_857_650_8254",
          "56_cell_number_call",
          "449_digitalenterprises_5025...",
          "268_270_4309_kadanoff",
          "47_iq_777_insiteful",
          "342_car_miles_toyota",
          "269_oocl_bacadi_reefer",
          "219_ray_canuel_rahamin",
          "333_canuel_703_281",
          "432_federer_uk_wicharz",
          "262_35874_rromain_49",
          "8_ich_die_und",
          "402_werner_lot_rolf",
          "407_hong_organizer_blaine",
          "148_sitraka_mobility_416",
          "169_salzmann_nor_darcysalzm...",
          "114_ontario_toronto_3593",
          "303_active_session_count_pd...",
          "399_host_ok_pst",
          "258_ping_rta_loss",
          "424_ping_uu_pix_rta",
          "245_5773188_mochizuki_cmadm",
          "425_4368397_mochizuki_neon",
          "322_neon_mochizuki_nightly",
          "309_sizing_study_lily",
          "443_hp_ux_porting",
          "52_hp_fortunata_reps",
          "300_hp_fortunata_447",
          "336_5163_8067_sswanson",
          "263_sun_shawn_8067",
          "39_sun_iplanet_helen",
          "34_contract_legal_agreement",
          "124_tamra_wong_awong",
          "41_pricing_hosting_price",
          "12_alerts_alert_sms",
          "21_slides_presentation_slide",
          "278_event_seminar_speaker",
          "194_212_0852_connell",
          "20_partner_biz_partners",
          "4_wireless_hearing_follow",
          "26_wireless_8186_brett",
          "225_europe_european_germany",
          "83_accenture_slides_present...",
          "25_accenture_amit_ty",
          "330_accenture_andersen_cons...",
          "66_nda_sign_mutual",
          "334_nda_mutual_signed",
          "347_sign_signed_signature",
          "53_fax_faxed_number",
          "448_copy_soft_copies",
          "209_look_into_check",
          "175_check_cheque_checks",
          "177_works_working_worked",
          "182_server_restarted_restart",
          "90_problem_fix_issue",
          "27_email_emails_mail",
          "207_sent_send_received",
          "110_care_jm_taken",
          "213_spec_functional_specs",
          "180_changes_made_change",
          "164_document_documents_review",
          "444_review_feedback_reviews",
          "267_draft_doni_drafts",
          "240_doc_docs_dean",
          "255_documentation_publicati...",
          "15_files_zip_utilitysrv1",
          "91_steve_john_richard",
          "60_alaska_airlines_visto",
          "35_demo_demos_elba",
          "145_release_features_ga",
          "64_project_requirements_est...",
          "264_application_darshan_app...",
          "85_ae_aes_ae2",
          "121_idc_divakar_darshan",
          "344_intranet_ashwin_rao",
          "329_tijuana_gmt_pacific",
          "87_room_conference_sausalito",
          "9_meeting_meetings_meet",
          "30_meeting_conference_avoca...",
          "76_conference_call_dial",
          "234_call_pst_time",
          "58_30_00_11",
          "82_him_his_he",
          "10_prakash_amitabh_he",
          "5_venk_amy_meeting",
          "96_matt_peter_amy",
          "354_merry_christmas_happy",
          "287_flu_sick_stomach",
          "134_baby_shower_elba",
          "139_love_night_mom",
          "44_india_ki_bye",
          "155_man_says_she",
          "107_her_she_call",
          "165_food_pizza_dinner",
          "57_lunch_dinner_eat",
          "98_play_tennis_tournament",
          "306_golf_play_golfing",
          "350_vinny_ride_rose",
          "313_thursday_wednesday_tues...",
          "349_sounds_good_great"
         ],
         "tickvals": [
          -5,
          -15,
          -25,
          -35,
          -45,
          -55,
          -65,
          -75,
          -85,
          -95,
          -105,
          -115,
          -125,
          -135,
          -145,
          -155,
          -165,
          -175,
          -185,
          -195,
          -205,
          -215,
          -225,
          -235,
          -245,
          -255,
          -265,
          -275,
          -285,
          -295,
          -305,
          -315,
          -325,
          -335,
          -345,
          -355,
          -365,
          -375,
          -385,
          -395,
          -405,
          -415,
          -425,
          -435,
          -445,
          -455,
          -465,
          -475,
          -485,
          -495,
          -505,
          -515,
          -525,
          -535,
          -545,
          -555,
          -565,
          -575,
          -585,
          -595,
          -605,
          -615,
          -625,
          -635,
          -645,
          -655,
          -665,
          -675,
          -685,
          -695,
          -705,
          -715,
          -725,
          -735,
          -745,
          -755,
          -765,
          -775,
          -785,
          -795,
          -805,
          -815,
          -825,
          -835,
          -845,
          -855,
          -865,
          -875,
          -885,
          -895,
          -905,
          -915,
          -925,
          -935,
          -945,
          -955,
          -965,
          -975,
          -985,
          -995,
          -1005,
          -1015,
          -1025,
          -1035,
          -1045,
          -1055,
          -1065,
          -1075,
          -1085,
          -1095,
          -1105,
          -1115,
          -1125,
          -1135,
          -1145,
          -1155,
          -1165,
          -1175,
          -1185,
          -1195,
          -1205,
          -1215,
          -1225,
          -1235,
          -1245,
          -1255,
          -1265,
          -1275,
          -1285,
          -1295,
          -1305,
          -1315,
          -1325,
          -1335,
          -1345,
          -1355,
          -1365,
          -1375,
          -1385,
          -1395,
          -1405,
          -1415,
          -1425,
          -1435,
          -1445,
          -1455,
          -1465,
          -1475,
          -1485,
          -1495,
          -1505,
          -1515,
          -1525,
          -1535,
          -1545,
          -1555,
          -1565,
          -1575,
          -1585,
          -1595,
          -1605,
          -1615,
          -1625,
          -1635,
          -1645,
          -1655,
          -1665,
          -1675,
          -1685,
          -1695,
          -1705,
          -1715,
          -1725,
          -1735,
          -1745,
          -1755,
          -1765,
          -1775,
          -1785,
          -1795,
          -1805,
          -1815,
          -1825,
          -1835,
          -1845,
          -1855,
          -1865,
          -1875,
          -1885,
          -1895,
          -1905,
          -1915,
          -1925,
          -1935,
          -1945,
          -1955,
          -1965,
          -1975,
          -1985,
          -1995,
          -2005,
          -2015,
          -2025,
          -2035,
          -2045,
          -2055,
          -2065,
          -2075,
          -2085,
          -2095,
          -2105,
          -2115,
          -2125,
          -2135,
          -2145,
          -2155,
          -2165,
          -2175,
          -2185,
          -2195,
          -2205,
          -2215,
          -2225,
          -2235,
          -2245,
          -2255,
          -2265,
          -2275,
          -2285,
          -2295,
          -2305,
          -2315,
          -2325,
          -2335,
          -2345,
          -2355,
          -2365,
          -2375,
          -2385,
          -2395,
          -2405,
          -2415,
          -2425,
          -2435,
          -2445,
          -2455,
          -2465,
          -2475,
          -2485,
          -2495,
          -2505,
          -2515,
          -2525,
          -2535,
          -2545,
          -2555,
          -2565,
          -2575,
          -2585,
          -2595,
          -2605,
          -2615,
          -2625,
          -2635,
          -2645,
          -2655,
          -2665,
          -2675,
          -2685,
          -2695,
          -2705,
          -2715,
          -2725,
          -2735,
          -2745,
          -2755,
          -2765,
          -2775,
          -2785,
          -2795,
          -2805,
          -2815,
          -2825,
          -2835,
          -2845,
          -2855,
          -2865,
          -2875,
          -2885,
          -2895,
          -2905,
          -2915,
          -2925,
          -2935,
          -2945,
          -2955,
          -2965,
          -2975,
          -2985,
          -2995,
          -3005,
          -3015,
          -3025,
          -3035,
          -3045,
          -3055,
          -3065,
          -3075,
          -3085,
          -3095,
          -3105,
          -3115,
          -3125,
          -3135,
          -3145,
          -3155,
          -3165,
          -3175,
          -3185,
          -3195,
          -3205,
          -3215,
          -3225,
          -3235,
          -3245,
          -3255,
          -3265,
          -3275,
          -3285,
          -3295,
          -3305,
          -3315,
          -3325,
          -3335,
          -3345,
          -3355,
          -3365,
          -3375,
          -3385,
          -3395,
          -3405,
          -3415,
          -3425,
          -3435,
          -3445,
          -3455,
          -3465,
          -3475,
          -3485,
          -3495,
          -3505,
          -3515,
          -3525,
          -3535,
          -3545,
          -3555,
          -3565,
          -3575,
          -3585,
          -3595,
          -3605,
          -3615,
          -3625,
          -3635,
          -3645,
          -3655,
          -3665,
          -3675,
          -3685,
          -3695,
          -3705,
          -3715,
          -3725,
          -3735,
          -3745,
          -3755,
          -3765,
          -3775,
          -3785,
          -3795,
          -3805,
          -3815,
          -3825,
          -3835,
          -3845,
          -3855,
          -3865,
          -3875,
          -3885,
          -3895,
          -3905,
          -3915,
          -3925,
          -3935,
          -3945,
          -3955,
          -3965,
          -3975,
          -3985,
          -3995,
          -4005,
          -4015,
          -4025,
          -4035,
          -4045,
          -4055,
          -4065,
          -4075,
          -4085,
          -4095,
          -4105,
          -4115,
          -4125,
          -4135,
          -4145,
          -4155,
          -4165,
          -4175,
          -4185,
          -4195,
          -4205,
          -4215,
          -4225,
          -4235,
          -4245,
          -4255,
          -4265,
          -4275,
          -4285,
          -4295,
          -4305,
          -4315,
          -4325,
          -4335,
          -4345,
          -4355,
          -4365,
          -4375,
          -4385,
          -4395,
          -4405,
          -4415,
          -4425,
          -4435,
          -4445,
          -4455,
          -4465,
          -4475,
          -4485,
          -4495,
          -4505,
          -4515,
          -4525,
          -4535,
          -4545,
          -4555,
          -4565,
          -4575,
          -4585
         ],
         "type": "linear",
         "zeroline": false
        }
       }
      }
     },
     "metadata": {},
     "output_type": "display_data"
    }
   ],
   "source": [
    "topic_model.visualize_hierarchy(hierarchical_topics=hierarchical_topics)"
   ]
  },
  {
   "cell_type": "markdown",
   "metadata": {},
   "source": [
    "### Remove bad entries"
   ]
  },
  {
   "cell_type": "code",
   "execution_count": null,
   "metadata": {},
   "outputs": [],
   "source": [
    "docs_to_remove = []"
   ]
  },
  {
   "cell_type": "code",
   "execution_count": 8,
   "metadata": {},
   "outputs": [
    {
     "name": "stdout",
     "output_type": "stream",
     "text": [
      "Topic: 161\n",
      "\n",
      "Top Words:\n",
      "virus, norton, antivirus, worm, viruses, mcafee, liveupdate, infected, scan, attachment, \n",
      "\n",
      "Representative Target Sentences: \n",
      "The attachment has a virus.\n",
      "Yes, it was a virus!\n",
      "That's a virus!!!!\n"
     ]
    }
   ],
   "source": [
    "topic_nr = 161\n",
    "inspect_topic(topic_model,topic_nr)"
   ]
  },
  {
   "cell_type": "code",
   "execution_count": 9,
   "metadata": {},
   "outputs": [
    {
     "name": "stdout",
     "output_type": "stream",
     "text": [
      "Number of Documents: 320\n",
      "\n",
      "Freier WAP Browser für Win 9x: http://www.numeric.de/m3gate/\n",
      "Freier Virenscanner für Win 9x NT/WS: http://antivirus.cai.com/\n",
      "\n",
      "Immer als Privatperson anmelden!\n",
      "If you have Norton antivirus running, it will detect the virus and will not\n",
      "let you open the attachment.\n",
      "\n",
      "Joe Hong\n",
      "AvocadoIT Canada Corp.\n",
      "http://www.avocadoit.com\n",
      "\n",
      "Email: joe.hong@avocadoit.com\n",
      "Phone: 416-643-4864\n",
      "Mobile: 416-346-2729\n",
      "_________________________________________________________________\n",
      "Click to add my contact info to your organizer:\n",
      "http://my.infotriever.com/jhong\n",
      "_____\n",
      "\n",
      "Protect your PC - Click here for McAfee.com VirusScan Online\n",
      "Proclaimed Dossy from the mountaintops:\n",
      "\n",
      "> Most anti-viral filters in mailservers don't actually look for\n",
      "> dangerous payloads.  They simply do string-compares against the\n",
      "> subject lines used.  (Which is why, of course, good email-borne\n",
      "> viruses should be slightly polymorphic, and randomly change the\n",
      "> subject ...)\n",
      "\n",
      "This has eerie parallels with how biological viruses deliberately mutate\n",
      "themselves to avoid host immune systems from matching their surface\n",
      "proteins to known templates. Viri evolve themselves to fit each host; they\n",
      "RefactorMercilessly their own DNA, in short iterations, and\n",
      "acceptance-test themselves against the immune system until they find a\n",
      "passing code sequence!\n",
      "\n",
      "(Of course only highly homogeneous populations get viral attacks easily,\n",
      "which is why Microsoft-based viri can destabilize the global economy!)\n",
      "New virus\n",
      "someone is sending a screensave of the Budweiser frogs.  If you download it,\n",
      "you will lose everything on your hard drive and someone from the internet\n",
      "will get your screen name and password.\n",
      "Hi Nadir,\n",
      "\n",
      "My friend has email me that her computer has been infected by this virus called\n",
      "jdbgmgr.exe which is not detected by Norton or McAfee. It's been found under in\n",
      "my C:\\ and that means my computer is already infected. This virus sits quietly for\n",
      "14 days before damaging the system. It is sent automatically by messenger and\n",
      "by the address book, whether or not you sent emails toyour contacts.\n",
      "\n",
      "Other than cleaning up this file, what else should I do?\n",
      "Apologies to all but the good news is that you can rest easy!\n",
      "\n",
      "The VIRUS alert was a HOAX message that has been circulating. It started in April and re-emerged a few days ago. You DO NOT need to delete the jdbgmgr file - it is a normal windows java component.\n",
      "\n",
      "You can find out more by going to Yahoo or Google and doing a search for jdbgmgr.exe where various sites like symantec, mcafee and f-secure will tell you all about it!\n",
      "\n",
      "Enjoy your weekend!\n",
      "I sent it, I got it from other friends and forwarded over to you. It is not a virus, thanks for checking though.\n",
      "\n",
      "Nadir\n",
      "Subject: Virus Warning\n",
      "\n",
      "\n",
      "** High Priority **\n",
      "\n",
      "Once again it appears that we are getting hit with not 1, but 2 strains of Virus'.\n",
      "\n",
      "1) Appears with the Subject Title of \" Funny,\" \"Jokes,\" or \"Life Stages \"\n",
      "2) Email from PAUL EHRLICH\n",
      "\n",
      "Both are High Risk, but the email from Paul Ehrlich is more proactive. Meaning that you don't have to click on an attachment to become infected. The Virus is the Auto Signature in His Email's. So once you open the email, your PC becomes infected.\n",
      "\n",
      "PLEASE EVERYONE, once again DO NOT open any Email's from 1) People you don't know, 2) Clicking on attachments that you are unaware of the If at anytime you receive an email from someone you don't know, please delete it. If you receive attachments that you are unfamiliar with, please contact MIS for further assistance.\n",
      "there's a worm rolling around for the last couple of months...  But, this time, the worm's beneficial.  it goes in the same way as normal worms but instead of doing harm, it fixes holes by updating the .conf files on unix boxes, and closes loopholes down then sends an email to hostmaster@domain from that domain stating that it done so.\n",
      "\n",
      "heh, deanza got hit by that puppy over the weekend and shut down some of their open boxes *grin*  TOO funny....\n",
      "\n",
      "this is the beginning of the end my friends of what we do for a living.  some day, normal people will be replaced by robots, while we will be replaced by ummm worms....  yeah, worms... that's the ticket....\n",
      "\n",
      "I sorta feel like a tape worm right now!  hmm, looking for a stomach to encroach.  piyer... PIYERRRRRR....... I'm commin to gettya!  *rofl*\n",
      "\n",
      "\"rm -Rf /bin/laden\"\n",
      "\n",
      "Craig\n",
      "((((((((((((((((((( McAfee eSecurity News ))))))))))))))))))\n",
      "\n",
      "Issue 8: February 2003\n",
      "2 - McAfee Store Offer: QuickClean 3.0 for $24.99\n",
      "7 - Anti-Spam Central: Spam—This Is Your Life\n",
      "------------------------------------------------------------\n",
      "Who sent the first spam email? Who used it first to make a\n",
      "fortune? Who's trying to put an end to it? We trace the\n",
      "online history of unsolicited email.  Read On:\n",
      "==> http://clinic.mcafee.com/clinic/ibuy/campaign.asp?cid=5025\n",
      "Tested, no viruses\n",
      "Over the weekend I contracted an email virus named SirCam on my home computer.  I thought that it was confined to addresses from my personal address book but I have learned that some of you may be getting emails with attachments from me from an \"rxs15\" email address.\n",
      "\n",
      "Do not open any of these!!  Hopefully, this was just confined to a few individuals.\n",
      "\n",
      "I've contacted computer support, but I wanted to forewarn you all as well.\n",
      "\n",
      "This is a virus !!!!\n",
      "The virus is know as VBS.SST@mm or VBS.Lee-o or VBS.OnTheFly\n",
      "\n",
      "It arrives in an attachment named AnnaKournikova.jpg.vbs\n",
      "\n",
      "When executed, the worm emails itself to everyone in your Microsoft\n",
      "Outlook address book.\n",
      "\n",
      "On January 26, the worm will attempt to direct your Web browser to an\n",
      "Internet address located in The Netherlands.\n",
      "-----\n",
      "\n",
      "Please read this and be careful. Please DO NOT open suspicious attachments, contact IT immediately if you spot one.\n",
      "\n",
      "\n",
      "Thank You\n",
      "\n",
      "The IT Team\n",
      "forget that virus thing, guess it's a hoax.  sorry again.\n",
      "W32.Elkern is a very dangerous virus that can infect on Win98/Me/2000/XP.\n",
      "F-Secure give you the very W32.Elkern removal tools\n",
      "\n",
      "For more information,please visit http://www.F-Secure.com\n",
      "you're not sending us viruses are you? :-)\n",
      "Dear Venk:\n",
      "\n",
      "Best wishes to you and family for a wonderful and prosperous new year!\n",
      "\n",
      "regards\n",
      "Avinash Vaidya\n",
      "Vice President\n",
      "SIPA\n",
      "http://www.sipa.org\n",
      "510-589-6906 - cell\n",
      "\n",
      "MSN 8 helps eliminate e-mail viruses. Get 2 months FREE*\n",
      "http://join.msn.com/?page=features/virus\n",
      "New \"SQLsnake\" Microsoft Worm\n",
      "\n",
      "Posted by CmdrTaco on Wednesday May 22, @10:38AM\n",
      "from the beware-the-worm-snake dept.\n",
      "sevenn writes \"A new worm, targeting the Microsoft SQL daemon, has been sweeping the net. It uses massive scanning, default passwords, exploits against vulnerable versions and even attempts to brute force passwords. Here is the (vague) Microsoft bulliten, the SANS analysis, and a securityfocus article\" Already over a thousand compromised system- you're apparently only vulnerable if you run MS SQL, but the worm is causing a substantial spike in traffic to port 1433 on the net.\n",
      "\n",
      "http://www.microsoft.com/security/security_bulletins/ms02020_sql.asp\n",
      "http://www.incidents.org/diary/diary.php?id_6\n",
      "http://online.securityfocus.com/news/429\n",
      "\n",
      "I know we got a bunch of sql servers.  are any exposed to outside?  I'll check f/w.\n",
      "\n",
      "\n",
      "\"rm -Rf /bin/laden\"\n",
      "\n",
      "Craig\n"
     ]
    }
   ],
   "source": [
    "topic_docs = inspect_topic_docs(topic_model, topic_nr, docs,)"
   ]
  },
  {
   "cell_type": "code",
   "execution_count": null,
   "metadata": {},
   "outputs": [],
   "source": [
    "for doc in topic_docs:\n",
    "    print(repr(doc))"
   ]
  },
  {
   "cell_type": "code",
   "execution_count": null,
   "metadata": {},
   "outputs": [],
   "source": [
    "docs_to_remove += topic_docs\n",
    "docs_to_remove = list(set(docs_to_remove))"
   ]
  },
  {
   "cell_type": "code",
   "execution_count": null,
   "metadata": {},
   "outputs": [],
   "source": [
    "len(docs_to_remove)"
   ]
  },
  {
   "cell_type": "code",
   "execution_count": null,
   "metadata": {},
   "outputs": [],
   "source": [
    "docs_to_remove += topic_docs\n",
    "docs_to_remove = list(set(docs_to_remove))\n",
    "df_docs_to_remove = pd.Series(docs_to_remove, name='text').to_frame()\n",
    "df_docs_to_remove.to_parquet('./docs_to_remove/docs_to_remove_7.parquet', engine='pyarrow')\n"
   ]
  },
  {
   "cell_type": "markdown",
   "metadata": {},
   "source": [
    "### Save Progress"
   ]
  },
  {
   "cell_type": "code",
   "execution_count": null,
   "metadata": {},
   "outputs": [],
   "source": [
    "topic_docs = inspect_topic_docs(topic_model, 402,docs)"
   ]
  },
  {
   "cell_type": "code",
   "execution_count": null,
   "metadata": {},
   "outputs": [],
   "source": [
    "data = []\n",
    "\n",
    "# Assuming topic_model.get_topics() returns a list or similar iterable of topics\n",
    "for i in range(len(topic_model.get_topics())):\n",
    "    # Get the documents for the current topic\n",
    "    topic_docs = inspect_topic_docs(topic_model, i, docs)\n",
    "    \n",
    "    # Add each document to the list as a dictionary with the key \"text\"\n",
    "    for doc in topic_docs:\n",
    "        data.append({\"text\": doc})\n",
    "\n",
    "# Convert the list of dictionaries to a DataFrame\n",
    "df_new = pd.DataFrame(data)\n",
    "df_new.to_parquet('../data/processed/05_avocado_cleaned_clustered_wip.parquet', engine='pyarrow')"
   ]
  },
  {
   "cell_type": "code",
   "execution_count": null,
   "metadata": {},
   "outputs": [],
   "source": [
    "topic_name = \"_\".join([word[0] for word in topic_model.get_topic(len(topic_model.get_topics())-2)])\n",
    "topic_name"
   ]
  },
  {
   "cell_type": "code",
   "execution_count": null,
   "metadata": {},
   "outputs": [],
   "source": [
    "#msdirect"
   ]
  }
 ],
 "metadata": {
  "kernelspec": {
   "display_name": "ma_env",
   "language": "python",
   "name": "python3"
  },
  "language_info": {
   "codemirror_mode": {
    "name": "ipython",
    "version": 3
   },
   "file_extension": ".py",
   "mimetype": "text/x-python",
   "name": "python",
   "nbconvert_exporter": "python",
   "pygments_lexer": "ipython3",
   "version": "3.12.7"
  }
 },
 "nbformat": 4,
 "nbformat_minor": 2
}
