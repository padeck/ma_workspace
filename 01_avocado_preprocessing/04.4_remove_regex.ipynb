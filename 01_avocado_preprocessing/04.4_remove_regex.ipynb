{
 "cells": [
  {
   "cell_type": "code",
   "execution_count": null,
   "metadata": {},
   "outputs": [],
   "source": [
    "# Subject:\n",
    "# contains MIME-Version\n",
    "# Begin Forwarded Message\n",
    "# End Included Message\n",
    "# Date (start)\n",
    "# \\tHome\\t\n",
    "# > on \n",
    "# References: <\n",
    "# rosh.nair@avocadoit.com, (mail at start)\n",
    "# Comments: To:\n",
    "# reference <JSP-INTEREST\n",
    "# List-Subscribe:\n",
    "# List-Unsubscribe\n",
    "# Return-Path:\n",
    "# rikanth Raghavan <sraghavan@avocadoit.com>\n",
    "# adrian.delagarza@pgcadvertising.com, patti.goodwyn@pgcadvertising.com,\n",
    "# The time sheet called\n",
    "# Received: by COFFEE\n",
    "# n+ Summary\n",
    "# To unsubscribe send a blank\n",
    "\n",
    "# Synopsis:"
   ]
  },
  {
   "cell_type": "code",
   "execution_count": 1,
   "metadata": {},
   "outputs": [],
   "source": [
    "from bertopic import BERTopic\n",
    "from scipy.cluster import hierarchy as sch\n",
    "import pandas as pd\n",
    "import logging\n",
    "from sklearn.metrics.pairwise import cosine_distances\n",
    "from tqdm import tqdm\n",
    "import numpy as np\n",
    "from umap import UMAP\n",
    "from hdbscan import HDBSCAN\n",
    "from sentence_transformers import SentenceTransformer\n",
    "import ast\n",
    "import re \n",
    "import sys\n",
    "sys.path.append('../')\n",
    "from utility.utility_functions import *"
   ]
  },
  {
   "cell_type": "code",
   "execution_count": 2,
   "metadata": {},
   "outputs": [],
   "source": [
    "df_version_file = '../data/avocado_preprocessing_wip/avocado_parser_28_le_1000.parquet'"
   ]
  },
  {
   "cell_type": "code",
   "execution_count": 3,
   "metadata": {},
   "outputs": [],
   "source": [
    "df = pd.read_parquet(df_version_file, engine='pyarrow')"
   ]
  },
  {
   "cell_type": "markdown",
   "metadata": {},
   "source": [
    "## RegExs"
   ]
  },
  {
   "cell_type": "code",
   "execution_count": null,
   "metadata": {},
   "outputs": [],
   "source": [
    "df = df[~df['text'].str.contains('Below is the result of your feedback form')]"
   ]
  },
  {
   "cell_type": "code",
   "execution_count": null,
   "metadata": {},
   "outputs": [],
   "source": [
    "pt = r'^In-Reply-To:\\s+<.*?>'\n",
    "pattern = re.compile(pt,flags=re.DOTALL|re.IGNORECASE)\n",
    "\n",
    "df['text'] = df['text'].apply(lambda x: re.sub(pattern,\"\",x))"
   ]
  },
  {
   "cell_type": "code",
   "execution_count": null,
   "metadata": {},
   "outputs": [],
   "source": [
    "pt= r'^X-Mailer: Internet Mail Service \\([\\d\\.]{11}\\)\\nContent-Type: text\\/plain(?:;\\ncharset=\"iso-8859-1\")?\\n\\n'\n",
    "pattern = re.compile(pt,flags=re.DOTALL|re.IGNORECASE)\n",
    "\n",
    "df['text'] = df['text'].apply(lambda x: re.sub(pattern,\"\",x))"
   ]
  },
  {
   "cell_type": "code",
   "execution_count": null,
   "metadata": {},
   "outputs": [],
   "source": [
    "pt= r'^Message-ID: <.*?@accenture\\.com>'\n",
    "pattern = re.compile(pt,flags=re.DOTALL|re.IGNORECASE)\n",
    "\n",
    "df['text'] = df['text'].apply(lambda x: re.sub(pattern,\"\",x))"
   ]
  },
  {
   "cell_type": "code",
   "execution_count": null,
   "metadata": {},
   "outputs": [],
   "source": [
    "pt = r'^Content-Type: text\\/plain; .*?Message-ID: <.*?@.*?>\\nX-OriginalArrivalTime: .*FILETIME=\\[.*?:.*?\\]'\n",
    "pattern = re.compile(pt,flags=re.DOTALL|re.IGNORECASE)\n",
    "\n",
    "df['text'] = df['text'].apply(lambda x: re.sub(pattern,\"\",x))"
   ]
  },
  {
   "cell_type": "code",
   "execution_count": null,
   "metadata": {},
   "outputs": [],
   "source": [
    "pt = r'^Content-type:  text\\/(?:html|plain)\\\\nContent-Description:.*?Content-Transfer-Encoding:  (?:quoted-printable\\\\nStatus:\\s+(?:U|RO)\\\\nX-UIDL.*?|7bit)\\n\\n'\n",
    "pattern = re.compile(pt,flags=re.DOTALL|re.IGNORECASE)\n",
    "\n",
    "df['text'] = df['text'].apply(lambda x: re.sub(pattern,\"\",x))"
   ]
  },
  {
   "cell_type": "code",
   "execution_count": null,
   "metadata": {},
   "outputs": [],
   "source": [
    "pt = r'^MIME-Version:.*?(?=\\n\\n)'\n",
    "pattern = re.compile(pt,flags=re.DOTALL|re.IGNORECASE)\n",
    "\n",
    "df['text'] = df['text'].apply(lambda x: re.sub(pattern,\"\",x))"
   ]
  },
  {
   "cell_type": "code",
   "execution_count": null,
   "metadata": {},
   "outputs": [],
   "source": [
    "df = df[~(df['text'].str.startswith('MIME-Version') & ~df['text'].str.contains('\\n\\n'))]\n",
    "df = df[~(df['text'].str.startswith('MIME-version') & ~df['text'].str.contains('\\n\\n'))]"
   ]
  },
  {
   "cell_type": "code",
   "execution_count": null,
   "metadata": {},
   "outputs": [],
   "source": [
    "pt = r'^Content-Type: multipart\\/alternative.*?(?:Next)?(?:p|P)art.*?--\\n\\n'\n",
    "pattern = re.compile(pt,flags=re.DOTALL|re.IGNORECASE)\n",
    "\n",
    "df['text'] = df['text'].apply(lambda x: re.sub(pattern,\"\",x))"
   ]
  },
  {
   "cell_type": "code",
   "execution_count": null,
   "metadata": {},
   "outputs": [],
   "source": [
    "pt = r'^X-Mailer.*?(?=--\\n\\n)'\n",
    "pattern = re.compile(pt,flags=re.DOTALL|re.IGNORECASE)\n",
    "\n",
    "df['text'] = df['text'].apply(lambda x: re.sub(pattern,\"\",x))"
   ]
  },
  {
   "cell_type": "code",
   "execution_count": null,
   "metadata": {},
   "outputs": [],
   "source": [
    "pt = r'^X-Mailer.*?(?=--\\n\\n)'\n",
    "pattern = re.compile(pt,flags=re.DOTALL|re.IGNORECASE)\n",
    "\n",
    "df['text'] = df['text'].apply(lambda x: re.sub(pattern,\"\",x))"
   ]
  },
  {
   "cell_type": "code",
   "execution_count": null,
   "metadata": {},
   "outputs": [],
   "source": [
    "pt = r'X-Mailer: ACCESS.*?(?=\\n\\n)'\n",
    "pattern = re.compile(pt,flags=re.DOTALL|re.IGNORECASE)\n",
    "\n",
    "df['text'] = df['text'].apply(lambda x: re.sub(pattern,\"\",x))\n"
   ]
  },
  {
   "cell_type": "code",
   "execution_count": null,
   "metadata": {},
   "outputs": [],
   "source": [
    "pt = r'^X-Mailer: AOL.*?--.*?\"$'\n",
    "pattern = re.compile(pt,flags=re.DOTALL|re.IGNORECASE)\n",
    "\n",
    "df['text'] = df['text'].apply(lambda x: re.sub(pattern,\"\",x))"
   ]
  },
  {
   "cell_type": "code",
   "execution_count": null,
   "metadata": {},
   "outputs": [],
   "source": [
    "pt = r'-+\\s*Original Message\\s*-+$'\n",
    "pattern = re.compile(pt,flags=re.DOTALL|re.IGNORECASE)\n",
    "\n",
    "df['text'] = df['text'].apply(lambda x: re.sub(pattern,\"\",x))"
   ]
  },
  {
   "cell_type": "code",
   "execution_count": null,
   "metadata": {},
   "outputs": [],
   "source": [
    "pt = r'^Message-ID:.*?(?=\\n\\n)'\n",
    "pattern = re.compile(pt,flags=re.DOTALL|re.IGNORECASE)\n",
    "\n",
    "df['text'] = df['text'].apply(lambda x: re.sub(pattern,\"\",x))"
   ]
  },
  {
   "cell_type": "code",
   "execution_count": null,
   "metadata": {},
   "outputs": [],
   "source": [
    "df = df[~(df['text'].str.startswith('Message-ID') & ~df['text'].str.contains('\\n\\n'))]\n",
    "df = df[~(df['text'].str.startswith('Message-id') & ~df['text'].str.contains('\\n\\n'))]\n",
    "df = df[~(df['text'].str.startswith('Message-Id') & ~df['text'].str.contains('\\n\\n'))]"
   ]
  },
  {
   "cell_type": "code",
   "execution_count": null,
   "metadata": {},
   "outputs": [],
   "source": [
    "pt = r'X-Mailer.*?(?=\\n\\n)'\n",
    "pattern = re.compile(pt,flags=re.DOTALL|re.IGNORECASE)\n",
    "\n",
    "df['text'] = df['text'].apply(lambda x: re.sub(pattern,\"\",x))"
   ]
  },
  {
   "cell_type": "code",
   "execution_count": null,
   "metadata": {},
   "outputs": [],
   "source": [
    "df = df[~(df['text'].str.startswith('X-Mailer') & ~df['text'].str.contains('\\n\\n'))]"
   ]
  },
  {
   "cell_type": "code",
   "execution_count": null,
   "metadata": {},
   "outputs": [],
   "source": [
    "pt = r'^Content-Disposition.*?(?=\\n\\n)'\n",
    "pattern = re.compile(pt,flags=re.DOTALL|re.IGNORECASE)\n",
    "\n",
    "df['text'] = df['text'].apply(lambda x: re.sub(pattern,\"\",x))"
   ]
  },
  {
   "cell_type": "code",
   "execution_count": null,
   "metadata": {},
   "outputs": [],
   "source": [
    "pt = r'^Content-Type:.*?(?=\\n\\n)'\n",
    "pattern = re.compile(pt,flags=re.DOTALL|re.IGNORECASE)\n",
    "\n",
    "df['text'] = df['text'].apply(lambda x: re.sub(pattern,\"\",x))\n",
    "df = df[~(df['text'].str.startswith('Content-Type:') & ~df['text'].str.contains('\\n\\n'))]"
   ]
  },
  {
   "cell_type": "code",
   "execution_count": null,
   "metadata": {},
   "outputs": [],
   "source": [
    "pt = r'^(?:\\n)+'\n",
    "pattern = re.compile(pt,flags=re.DOTALL|re.IGNORECASE)\n",
    "\n",
    "df['text'] = df['text'].apply(lambda x: re.sub(pattern,\"\",x))"
   ]
  },
  {
   "cell_type": "code",
   "execution_count": null,
   "metadata": {},
   "outputs": [],
   "source": [
    "pt = r'''^(?:\")(?:\\t|\\').*<.*?>.*?(?=\\n\\n)'''\n",
    "\n",
    "\n",
    "pattern = re.compile(pt,flags=re.DOTALL|re.IGNORECASE)\n",
    "\n",
    "df['text'] = df['text'].apply(lambda x: re.sub(pattern,\"\",x))"
   ]
  },
  {
   "cell_type": "code",
   "execution_count": null,
   "metadata": {},
   "outputs": [],
   "source": [
    "pt = r'^(?:\\n)+'\n",
    "pattern = re.compile(pt,flags=re.DOTALL|re.IGNORECASE)\n",
    "\n",
    "df['text'] = df['text'].apply(lambda x: re.sub(pattern,\"\",x))"
   ]
  },
  {
   "cell_type": "code",
   "execution_count": null,
   "metadata": {},
   "outputs": [],
   "source": [
    "pt = r'^------_=_NextPart.*?(?=\\n\\n)'\n",
    "pattern = re.compile(pt,flags=re.DOTALL|re.IGNORECASE|re.MULTILINE)\n",
    "\n",
    "df['text'] = df['text'].apply(lambda x: re.sub(pattern,\"\",x))\n",
    "pt = r'^(?:\\n)+'\n",
    "pattern = re.compile(pt,flags=re.DOTALL|re.IGNORECASE)\n",
    "\n",
    "df['text'] = df['text'].apply(lambda x: re.sub(pattern,\"\",x))"
   ]
  },
  {
   "cell_type": "code",
   "execution_count": null,
   "metadata": {},
   "outputs": [],
   "source": [
    "pt = r'^This is a multi-part.*?\\n\\n(?:.*?NextPart.*?\\n\\n)+'\n",
    "pattern = re.compile(pt,flags=re.DOTALL|re.IGNORECASE)\n",
    "\n",
    "df['text'] = df['text'].apply(lambda x: re.sub(pattern,\"\",x))\n",
    "pt = r'^(?:\\n)+'\n",
    "pattern = re.compile(pt,flags=re.DOTALL|re.IGNORECASE)\n",
    "\n",
    "df['text'] = df['text'].apply(lambda x: re.sub(pattern,\"\",x))"
   ]
  },
  {
   "cell_type": "code",
   "execution_count": null,
   "metadata": {},
   "outputs": [],
   "source": [
    "pt = r'^This is a multi-part.*?\\n\\n'\n",
    "pattern = re.compile(pt,flags=re.DOTALL|re.IGNORECASE)\n",
    "df['text'] = df['text'].apply(lambda x: re.sub(pattern,\"\",x))\n",
    "\n",
    "pt = r'^(?:\\n)+'\n",
    "pattern = re.compile(pt,flags=re.DOTALL|re.IGNORECASE)\n",
    "df['text'] = df['text'].apply(lambda x: re.sub(pattern,\"\",x))"
   ]
  },
  {
   "cell_type": "code",
   "execution_count": null,
   "metadata": {},
   "outputs": [],
   "source": [
    "pt = r'^-+=_NextPart.*?(?=\\n\\n)'\n",
    "pattern = re.compile(pt,flags=re.DOTALL|re.IGNORECASE|re.MULTILINE)\n",
    "df['text'] = df['text'].apply(lambda x: re.sub(pattern,\"\",x))\n",
    "\n",
    "pt = r'^(?:\\n)+'\n",
    "pattern = re.compile(pt,flags=re.DOTALL|re.IGNORECASE)\n",
    "\n",
    "df['text'] = df['text'].apply(lambda x: re.sub(pattern,\"\",x))"
   ]
  },
  {
   "cell_type": "code",
   "execution_count": null,
   "metadata": {},
   "outputs": [],
   "source": [
    "pt=r'^------=_NextPart_000_0002_01BDC145.51D0BB20 Content-Type: text/plain; charset=\"iso-8859-1\" Content-Transfer-Encoding: 7bit'\n",
    "pattern = re.compile(pt,flags=re.DOTALL|re.IGNORECASE|re.MULTILINE)\n",
    "df['text'] = df['text'].apply(lambda x: re.sub(pattern,\"\",x))\n",
    "\n",
    "pt = r'^(?:\\n)+'\n",
    "pattern = re.compile(pt,flags=re.DOTALL|re.IGNORECASE)\n",
    "\n",
    "df['text'] = df['text'].apply(lambda x: re.sub(pattern,\"\",x))"
   ]
  },
  {
   "cell_type": "code",
   "execution_count": null,
   "metadata": {},
   "outputs": [],
   "source": [
    "df = df[~df['text'].str.startswith('------=_NextPart')]\n",
    "df = df[~df['text'].str.startswith('-----=_NEXT')]\n"
   ]
  },
  {
   "cell_type": "code",
   "execution_count": null,
   "metadata": {},
   "outputs": [],
   "source": [
    "pt=r'^-----Original Task.*?(?=Requested by)'\n",
    "pattern = re.compile(pt,flags=re.DOTALL|re.IGNORECASE|re.MULTILINE)\n",
    "df['text'] = df['text'].apply(lambda x: re.sub(pattern,\"\",x))\n",
    "pt=r'^Requested by.*?\\n\\n(?:\\n------------\\n)?'\n",
    "pattern = re.compile(pt,flags=re.DOTALL|re.IGNORECASE|re.MULTILINE)\n",
    "df['text'] = df['text'].apply(lambda x: re.sub(pattern,\"\",x))\n",
    "pt = r'^(?:\\n)+'\n",
    "pattern = re.compile(pt,flags=re.DOTALL|re.IGNORECASE)\n",
    "\n",
    "df['text'] = df['text'].apply(lambda x: re.sub(pattern,\"\",x))"
   ]
  },
  {
   "cell_type": "code",
   "execution_count": null,
   "metadata": {},
   "outputs": [],
   "source": [
    "df = df[~df['text'].str.startswith('Requested by')]\n",
    "df = df[~df['text'].str.startswith('------_=_')]"
   ]
  },
  {
   "cell_type": "code",
   "execution_count": null,
   "metadata": {},
   "outputs": [],
   "source": [
    "df = df[~df['text'].str.contains('This is a multi-part message in MIME')]"
   ]
  },
  {
   "cell_type": "code",
   "execution_count": null,
   "metadata": {},
   "outputs": [],
   "source": [
    "df = df[~(df['text'].str.contains('Error Message:') & df['text'].str.startswith('Script:'))]"
   ]
  },
  {
   "cell_type": "code",
   "execution_count": null,
   "metadata": {},
   "outputs": [],
   "source": [
    "pt=r'^This message is in MIME format.*?\\n\\n'\n",
    "pattern = re.compile(pt,flags=re.DOTALL|re.IGNORECASE|re.MULTILINE)\n",
    "df['text'] = df['text'].apply(lambda x: re.sub(pattern,\"\",x))\n",
    "\n",
    "pt = r'^(?:\\n)+'\n",
    "pattern = re.compile(pt,flags=re.DOTALL|re.IGNORECASE)\n",
    "df['text'] = df['text'].apply(lambda x: re.sub(pattern,\"\",x))"
   ]
  },
  {
   "cell_type": "code",
   "execution_count": null,
   "metadata": {},
   "outputs": [],
   "source": [
    "df = df[~( df['text'].str.startswith('------_') | df['text'].str.startswith('Message-') )]"
   ]
  },
  {
   "cell_type": "code",
   "execution_count": null,
   "metadata": {},
   "outputs": [],
   "source": [
    "df = df[~( df['text'].str.startswith('Script: session') )]"
   ]
  },
  {
   "cell_type": "code",
   "execution_count": null,
   "metadata": {},
   "outputs": [],
   "source": [
    "pt = r'^(?:--.*?\\n\\n)+'\n",
    "pattern = re.compile(pt,flags=re.DOTALL|re.IGNORECASE)\n",
    "df['text'] = df['text'].apply(lambda x: re.sub(pattern,\"\",x))\n",
    "\n",
    "pt = r'^(?:\\n)+'\n",
    "pattern = re.compile(pt,flags=re.DOTALL|re.IGNORECASE)\n",
    "df['text'] = df['text'].apply(lambda x: re.sub(pattern,\"\",x))"
   ]
  },
  {
   "cell_type": "code",
   "execution_count": null,
   "metadata": {},
   "outputs": [],
   "source": [
    "df = df[~( df['text'].str.startswith('--') & ~df['text'].str.contains('\\n') & ~df['text'].str.contains('Airways') )]"
   ]
  },
  {
   "cell_type": "code",
   "execution_count": null,
   "metadata": {},
   "outputs": [],
   "source": [
    "df = df[~ (df['text'].str.contains('The following addresses had permanent fatal errors') | df['text'].str.contains('Service unavailable') ) ]"
   ]
  },
  {
   "cell_type": "code",
   "execution_count": null,
   "metadata": {},
   "outputs": [],
   "source": [
    "pt = r'^To:.*?(?=\\n\\n)' # Needs to be applied recursively\n",
    "pattern = re.compile(pt,flags=re.DOTALL|re.IGNORECASE)\n",
    "df['text'] = df['text'].apply(lambda x: re.sub(pattern,\"\",x))\n",
    "\n",
    "pt = r'^(?:\\n)+'\n",
    "pattern = re.compile(pt,flags=re.DOTALL|re.IGNORECASE)\n",
    "df['text'] = df['text'].apply(lambda x: re.sub(pattern,\"\",x))"
   ]
  },
  {
   "cell_type": "code",
   "execution_count": null,
   "metadata": {},
   "outputs": [],
   "source": [
    "df = df[ ~( df['text'].str.startswith('To:') & ~ df['text'].str.contains('\\n\\n') ) ]"
   ]
  },
  {
   "cell_type": "code",
   "execution_count": null,
   "metadata": {},
   "outputs": [],
   "source": [
    "df = df[~ (df['text'].str.contains(' newsletter') & df['text'].str.contains('unsubscribe') ) ]"
   ]
  },
  {
   "cell_type": "code",
   "execution_count": null,
   "metadata": {},
   "outputs": [],
   "source": [
    "pt = r'^Content-Transfer-Encoding.*?(?=\\n\\n)'\n",
    "pattern = re.compile(pt,flags=re.DOTALL|re.IGNORECASE)\n",
    "df['text'] = df['text'].apply(lambda x: re.sub(pattern,\"\",x))\n",
    "\n",
    "pt = r'^(?:\\n)+'\n",
    "pattern = re.compile(pt,flags=re.DOTALL|re.IGNORECASE)\n",
    "df['text'] = df['text'].apply(lambda x: re.sub(pattern,\"\",x))"
   ]
  },
  {
   "cell_type": "code",
   "execution_count": null,
   "metadata": {},
   "outputs": [],
   "source": [
    "pt = r'^Content-.*?(?=\\n\\n)'\n",
    "pattern = re.compile(pt,flags=re.DOTALL|re.IGNORECASE)\n",
    "df['text'] = df['text'].apply(lambda x: re.sub(pattern,\"\",x))\n",
    "\n",
    "pt = r'^(?:\\n)+'\n",
    "pattern = re.compile(pt,flags=re.DOTALL|re.IGNORECASE)\n",
    "df['text'] = df['text'].apply(lambda x: re.sub(pattern,\"\",x))"
   ]
  },
  {
   "cell_type": "code",
   "execution_count": null,
   "metadata": {},
   "outputs": [],
   "source": [
    "df = df[ ~(df['text'].str.startswith('Content-') & ~df['text'].str.contains('\\n\\n') ) ]"
   ]
  },
  {
   "cell_type": "code",
   "execution_count": null,
   "metadata": {},
   "outputs": [],
   "source": [
    "pt = r'^(?:-+=+.*?\\n\\n)+'\n",
    "pattern = re.compile(pt,flags=re.DOTALL|re.IGNORECASE|re.MULTILINE)\n",
    "df['text'] = df['text'].apply(lambda x: re.sub(pattern,\"\",x))\n",
    "\n",
    "pt = r'^(?:\\n)+'\n",
    "pattern = re.compile(pt,flags=re.DOTALL|re.IGNORECASE)\n",
    "df['text'] = df['text'].apply(lambda x: re.sub(pattern,\"\",x))"
   ]
  },
  {
   "cell_type": "code",
   "execution_count": null,
   "metadata": {},
   "outputs": [],
   "source": [
    "df = df[ ~(df['text'].str.startswith('--=') & ~df['text'].str.contains('\\n\\n')  ) ]"
   ]
  },
  {
   "cell_type": "code",
   "execution_count": null,
   "metadata": {},
   "outputs": [],
   "source": [
    "pt = r'^X-.*?:.*?\\n\\n'\n",
    "pattern = re.compile(pt,flags=re.DOTALL|re.IGNORECASE|re.MULTILINE)\n",
    "df['text'] = df['text'].apply(lambda x: re.sub(pattern,\"\",x))\n",
    "\n",
    "pt = r'^(?:\\n)+'\n",
    "pattern = re.compile(pt,flags=re.DOTALL|re.IGNORECASE)\n",
    "df['text'] = df['text'].apply(lambda x: re.sub(pattern,\"\",x))"
   ]
  },
  {
   "cell_type": "code",
   "execution_count": null,
   "metadata": {},
   "outputs": [],
   "source": [
    "df = df[ ~(df['text'].str.startswith('X-') & ~df['text'].str.contains('\\n\\n') ) ]"
   ]
  },
  {
   "cell_type": "code",
   "execution_count": null,
   "metadata": {},
   "outputs": [],
   "source": [
    "pt = r'^(?:-+=+.*?\\n\\n)+'\n",
    "pattern = re.compile(pt,flags=re.DOTALL|re.IGNORECASE|re.MULTILINE)\n",
    "df['text'] = df['text'].apply(lambda x: re.sub(pattern,\"\",x))\n",
    "\n",
    "pt = r'^(?:\\n)+'\n",
    "pattern = re.compile(pt,flags=re.DOTALL|re.IGNORECASE)\n",
    "df['text'] = df['text'].apply(lambda x: re.sub(pattern,\"\",x))"
   ]
  },
  {
   "cell_type": "code",
   "execution_count": null,
   "metadata": {},
   "outputs": [],
   "source": [
    "pt = r'^(?:-+.*?Content.*?\\n\\n)+'\n",
    "pattern = re.compile(pt,flags=re.DOTALL|re.IGNORECASE|re.MULTILINE)\n",
    "df['text'] = df['text'].apply(lambda x: re.sub(pattern,\"\",x))\n",
    "\n",
    "pt = r'^(?:\\n)+'\n",
    "pattern = re.compile(pt,flags=re.DOTALL|re.IGNORECASE)\n",
    "df['text'] = df['text'].apply(lambda x: re.sub(pattern,\"\",x))"
   ]
  },
  {
   "cell_type": "code",
   "execution_count": null,
   "metadata": {},
   "outputs": [],
   "source": [
    "pt = r'^(?:-+[^\\s]+)\\n\\n'\n",
    "pattern = re.compile(pt,flags=re.DOTALL|re.IGNORECASE|re.MULTILINE)\n",
    "df['text'] = df['text'].apply(lambda x: re.sub(pattern,\"\",x))\n",
    "\n",
    "pt = r'^(?:\\n)+'\n",
    "pattern = re.compile(pt,flags=re.DOTALL|re.IGNORECASE)\n",
    "df['text'] = df['text'].apply(lambda x: re.sub(pattern,\"\",x))"
   ]
  },
  {
   "cell_type": "code",
   "execution_count": null,
   "metadata": {},
   "outputs": [],
   "source": [
    "df = df[~ (df['text'].str.startswith('--') & df['text'].str.contains('Content') & ~df['text'].str.startswith('--- Geeta Kottapalli') ) ]"
   ]
  },
  {
   "cell_type": "code",
   "execution_count": null,
   "metadata": {},
   "outputs": [],
   "source": [
    "# Remove Massage Sign-Up Messages\n",
    "df = df[~df['text'].str.startswith('Massage Sign-Up')]"
   ]
  },
  {
   "cell_type": "code",
   "execution_count": null,
   "metadata": {},
   "outputs": [],
   "source": [
    "# Remove Error Messages\n",
    "df = df[~df['text'].str.contains('memory_application crossed high limit')]\n",
    "df = df[~df['text'].str.contains('Dear Amazon Customer')]\n",
    "df = df[~df['text'].str.contains('E-card')]\n",
    "df = df[~df['text'].str.contains('was delivered to the following recipient')]"
   ]
  },
  {
   "cell_type": "code",
   "execution_count": null,
   "metadata": {},
   "outputs": [],
   "source": [
    "df = df[~df['text'].str.contains('Daily NewsBrief')]\n",
    "df = df[~df['text'].str.contains('high-tech management news')]\n",
    "df = df[~df['text'].str.contains('link2buy.com')]\n",
    "df = df[~df['text'].str.contains('The following reply was made to PR')]\n",
    "df = df[~df['text'].str.contains('ashampoo')]"
   ]
  },
  {
   "cell_type": "code",
   "execution_count": null,
   "metadata": {},
   "outputs": [],
   "source": [
    "df = df[~df['text'].str.contains('Your fax which was sent to')]\n",
    "df = df[~df['text'].str.contains('You have just received a new inbound')]\n",
    "df = df[~df['text'].str.contains('If you would like to stop or modify')]\n",
    "df = df[~df['text'].str.contains('If you wish to update your information or be removed from DCI')]"
   ]
  },
  {
   "cell_type": "code",
   "execution_count": null,
   "metadata": {},
   "outputs": [],
   "source": [
    "df = df[~df['text'].str.contains('Following tests FAILED')]\n",
    "df = df[~df['text'].str.contains('VentureWire')]\n",
    "df = df[~df['text'].str.contains('Purchase Requisition\\nForm')]\n",
    "df = df[~df['text'].str.contains('Sender of the infected attachment')]"
   ]
  },
  {
   "cell_type": "code",
   "execution_count": null,
   "metadata": {},
   "outputs": [],
   "source": [
    "df = df[~df['text'].str.contains('Norton AntiVirus found a virus')]\n",
    "df = df[~df['text'].str.contains('McAfee.com eSecurity News')]\n",
    "df = df[~df['text'].str.startswith('Thank you for registering')]\n",
    "df = df[~(df['text'].str.startswith('Received:') & df['text'].str.endswith('>') )]"
   ]
  },
  {
   "cell_type": "code",
   "execution_count": null,
   "metadata": {},
   "outputs": [],
   "source": [
    "df = df[~df['text'].str.contains('Connection refused by host')]\n",
    "df = df[~df['text'].str.contains('Brainbench Test Alert')]\n",
    "df = df[~df['text'].str.contains('No data received from host')]\n",
    "df = df[~df['text'].str.contains('Please do not use the \"Reply\" button to respond to this email')]\n",
    "df = df[~df['text'].str.contains('Synchronizing Mailbox')]\n",
    "df = df[~df['text'].str.contains('Alerts on your MLX Profiles and Portfolios')]"
   ]
  },
  {
   "cell_type": "code",
   "execution_count": null,
   "metadata": {},
   "outputs": [],
   "source": [
    "df = df[~df['text'].str.contains('THE INDUSTRY STANDARD')]\n",
    "df = df[~df['text'].str.startswith('eFlash')]\n",
    "df = df[~df['text'].str.contains('PostMasterDirect.com')]\n",
    "df = df[~df['text'].str.startswith('NewsScan Daily')]\n",
    "df = df[~df['text'].str.contains('The electronic newsletter')]\n",
    "df = df[~df['text'].str.contains('PlanetFeedback.com offers')]\n",
    "df = df[~df['text'].str.contains('WHAT\\'S NEW NOW')]"
   ]
  },
  {
   "cell_type": "code",
   "execution_count": null,
   "metadata": {},
   "outputs": [],
   "source": [
    "df = df[~df['text'].str.startswith('------------- Begin Forwarded Message')]\n",
    "pt = r'(?:\\n)*-+ Begin Forwarded Message -+$'\n",
    "pattern = re.compile(pt,flags=re.DOTALL|re.IGNORECASE)\n",
    "df['text'] = df['text'].apply(lambda x: re.sub(pattern,\"\",x))\n",
    "\n",
    "pt = r'(?:\\n>)*-+ Begin Forwarded Message -+\\n>$'\n",
    "pattern = re.compile(pt,flags=re.DOTALL|re.IGNORECASE)\n",
    "df['text'] = df['text'].apply(lambda x: re.sub(pattern,\"\",x))\n",
    "\n",
    "pt = r'(?:\\n>)*-+ Begin Forwarded Message -+\\n>$'\n",
    "pattern = re.compile(pt,flags=re.DOTALL|re.IGNORECASE)\n",
    "df['text'] = df['text'].apply(lambda x: re.sub(pattern,\"\",x))"
   ]
  },
  {
   "cell_type": "code",
   "execution_count": null,
   "metadata": {},
   "outputs": [],
   "source": [
    "pt = r'^Subject:.*?\\n\\n'\n",
    "pattern = re.compile(pt,flags=re.DOTALL|re.IGNORECASE|re.MULTILINE)\n",
    "df['text'] = df['text'].apply(lambda x: re.sub(pattern,\"\",x))"
   ]
  },
  {
   "cell_type": "code",
   "execution_count": null,
   "metadata": {},
   "outputs": [],
   "source": [
    "df = df[~(df['text'].str.startswith('WHAT\\'S NEW NOW') & ~df['text'].str.contains('\\n\\n'))]"
   ]
  },
  {
   "cell_type": "code",
   "execution_count": null,
   "metadata": {},
   "outputs": [],
   "source": [
    "pt = r'^MIME-Version.*?\\n\\n'\n",
    "pattern = re.compile(pt,flags=re.DOTALL|re.IGNORECASE|re.MULTILINE)\n",
    "df['text'] = df['text'].apply(lambda x: re.sub(pattern,\"\",x))"
   ]
  },
  {
   "cell_type": "code",
   "execution_count": null,
   "metadata": {},
   "outputs": [],
   "source": [
    "pt = r'^Return-Path:.*?\\n\\n'\n",
    "pattern = re.compile(pt,flags=re.DOTALL|re.IGNORECASE|re.MULTILINE)\n",
    "df['text'] = df['text'].apply(lambda x: re.sub(pattern,\"\",x))"
   ]
  },
  {
   "cell_type": "code",
   "execution_count": null,
   "metadata": {},
   "outputs": [],
   "source": [
    "df =df[~(df['text'].str.startswith('''Return-Path:'''))]\n",
    "df =df[~(df['text'].str.startswith('''From''') & df['text'].str.endswith('COFFEE>') )]"
   ]
  },
  {
   "cell_type": "code",
   "execution_count": null,
   "metadata": {},
   "outputs": [],
   "source": [
    "pt = r'^Comments: To: .*?\\n\\n'\n",
    "pattern = re.compile(pt,flags=re.DOTALL|re.IGNORECASE|re.MULTILINE)\n",
    "df['text'] = df['text'].apply(lambda x: re.sub(pattern,\"\",x))"
   ]
  },
  {
   "cell_type": "code",
   "execution_count": null,
   "metadata": {},
   "outputs": [],
   "source": [
    "df =df[~(df['text'].str.contains('''was not delivered to'''))]"
   ]
  },
  {
   "cell_type": "code",
   "execution_count": null,
   "metadata": {},
   "outputs": [],
   "source": [
    "pt = r'^Mailing-List: (?:.*?@yahoogroups.com)+'\n",
    "pattern = re.compile(pt,flags=re.DOTALL|re.IGNORECASE|re.MULTILINE)\n",
    "df['text'] = df['text'].apply(lambda x: re.sub(pattern,\"\",x))\n",
    "\n",
    "pt = r'^(?:\\n)+'\n",
    "pattern = re.compile(pt,flags=re.DOTALL|re.IGNORECASE)\n",
    "df['text'] = df['text'].apply(lambda x: re.sub(pattern,\"\",x))"
   ]
  },
  {
   "cell_type": "code",
   "execution_count": null,
   "metadata": {},
   "outputs": [],
   "source": [
    "pt = r'^Date:.*?\\n\\n'\n",
    "pattern = re.compile(pt,flags=re.DOTALL|re.IGNORECASE|re.MULTILINE)\n",
    "df['text'] = df['text'].apply(lambda x: re.sub(pattern,\"\",x))\n",
    "\n",
    "pt = r'^(?:\\n)+'\n",
    "pattern = re.compile(pt,flags=re.DOTALL|re.IGNORECASE)\n",
    "df['text'] = df['text'].apply(lambda x: re.sub(pattern,\"\",x))"
   ]
  },
  {
   "cell_type": "code",
   "execution_count": null,
   "metadata": {},
   "outputs": [],
   "source": [
    "pt = r'^Date:.*?\\n'\n",
    "pattern = re.compile(pt,flags=re.DOTALL|re.IGNORECASE|re.MULTILINE)\n",
    "df['text'] = df['text'].apply(lambda x: re.sub(pattern,\"\",x))\n",
    "\n",
    "pt = r'^(?:\\n)+'\n",
    "pattern = re.compile(pt,flags=re.DOTALL|re.IGNORECASE)\n",
    "df['text'] = df['text'].apply(lambda x: re.sub(pattern,\"\",x))"
   ]
  },
  {
   "cell_type": "code",
   "execution_count": null,
   "metadata": {},
   "outputs": [],
   "source": [
    "df = df[~df['text'].str.startswith('Date:')]"
   ]
  },
  {
   "cell_type": "code",
   "execution_count": null,
   "metadata": {},
   "outputs": [],
   "source": [
    "pt = r'^Priority:.*?\\n\\n'\n",
    "pattern = re.compile(pt,flags=re.DOTALL|re.IGNORECASE|re.MULTILINE)\n",
    "df['text'] = df['text'].apply(lambda x: re.sub(pattern,\"\",x))\n",
    "\n",
    "pt = r'^(?:\\n)+'\n",
    "pattern = re.compile(pt,flags=re.DOTALL|re.IGNORECASE)\n",
    "df['text'] = df['text'].apply(lambda x: re.sub(pattern,\"\",x))"
   ]
  },
  {
   "cell_type": "code",
   "execution_count": null,
   "metadata": {},
   "outputs": [],
   "source": [
    "df = df[~df['text'].str.startswith('Priority:')]"
   ]
  },
  {
   "cell_type": "code",
   "execution_count": null,
   "metadata": {},
   "outputs": [],
   "source": [
    "pt = r'^reference <JSP-INTEREST@www.javasoft.com>.*?\\nTo: JSP-INTEREST@www.javasoft.com\\n\\n'\n",
    "pattern = re.compile(pt,flags=re.DOTALL|re.IGNORECASE|re.MULTILINE)\n",
    "df['text'] = df['text'].apply(lambda x: re.sub(pattern,\"\",x))\n",
    "\n",
    "pt = r'^(?:\\n)+'\n",
    "pattern = re.compile(pt,flags=re.DOTALL|re.IGNORECASE)\n",
    "df['text'] = df['text'].apply(lambda x: re.sub(pattern,\"\",x))"
   ]
  },
  {
   "cell_type": "code",
   "execution_count": null,
   "metadata": {},
   "outputs": [],
   "source": [
    "pt = r'^reference <JSP-INTEREST@www.javasoft.com>\\nTo: JSP-INTEREST@www.javasoft.com\\n'\n",
    "pattern = re.compile(pt,flags=re.DOTALL|re.IGNORECASE|re.MULTILINE)\n",
    "df['text'] = df['text'].apply(lambda x: re.sub(pattern,\"\",x))\n",
    "\n",
    "pt = r'^(?:\\n)+'\n",
    "pattern = re.compile(pt,flags=re.DOTALL|re.IGNORECASE)\n",
    "df['text'] = df['text'].apply(lambda x: re.sub(pattern,\"\",x))"
   ]
  },
  {
   "cell_type": "code",
   "execution_count": null,
   "metadata": {},
   "outputs": [],
   "source": [
    "pt = r'^In-Reply-To:.*?\\n\\n'\n",
    "pattern = re.compile(pt,flags=re.DOTALL|re.IGNORECASE|re.MULTILINE)\n",
    "df['text'] = df['text'].apply(lambda x: re.sub(pattern,\"\",x))\n",
    "\n",
    "pt = r'^(?:\\n)+'\n",
    "pattern = re.compile(pt,flags=re.DOTALL|re.IGNORECASE)\n",
    "df['text'] = df['text'].apply(lambda x: re.sub(pattern,\"\",x))\n"
   ]
  },
  {
   "cell_type": "code",
   "execution_count": null,
   "metadata": {},
   "outputs": [],
   "source": [
    "pt = r'^In-Reply-To:.*?7bit\\n'\n",
    "pattern = re.compile(pt,flags=re.DOTALL|re.IGNORECASE|re.MULTILINE)\n",
    "df['text'] = df['text'].apply(lambda x: re.sub(pattern,\"\",x))"
   ]
  },
  {
   "cell_type": "code",
   "execution_count": null,
   "metadata": {},
   "outputs": [],
   "source": [
    "df =df[~(df['text'].str.startswith('In-Reply-To: Yolanda Vasquez'))]"
   ]
  },
  {
   "cell_type": "code",
   "execution_count": null,
   "metadata": {},
   "outputs": [],
   "source": [
    "df =df[~(df['text'].str.startswith('Mime-Version'))]\n",
    "df =df[~(df['text'].str.startswith('MIME-Version'))]\n",
    "df =df[~(df['text'].str.startswith('Return-path:'))]\n",
    "df =df[~(df['text'].str.startswith('Return Receipt\\n'))]\n",
    "df =df[~(df['text'].str.startswith('Return Receipt From'))]"
   ]
  },
  {
   "cell_type": "code",
   "execution_count": null,
   "metadata": {},
   "outputs": [],
   "source": [
    "pt = r'Return-Receipt-To:.*?\\n\\n'\n",
    "pattern = re.compile(pt,flags=re.DOTALL|re.IGNORECASE|re.MULTILINE)\n",
    "df['text'] = df['text'].apply(lambda x: re.sub(pattern,\"\",x))\n",
    "\n",
    "pt = r'^(?:\\n)+'\n",
    "pattern = re.compile(pt,flags=re.DOTALL|re.IGNORECASE)\n",
    "df['text'] = df['text'].apply(lambda x: re.sub(pattern,\"\",x))"
   ]
  },
  {
   "cell_type": "code",
   "execution_count": null,
   "metadata": {},
   "outputs": [],
   "source": [
    "df =df[~(df['text'].str.startswith('------=_'))]\n",
    "df =df[~(df['text'].str.contains('You signed up to receive special offers'))] # newsletter\n",
    "df =df[~(df['text'].str.startswith('Received:'))]"
   ]
  },
  {
   "cell_type": "code",
   "execution_count": null,
   "metadata": {},
   "outputs": [],
   "source": [
    "pt = r'Mime-version:.*?\\n\\n'\n",
    "pattern = re.compile(pt,flags=re.DOTALL|re.IGNORECASE|re.MULTILINE)\n",
    "df['text'] = df['text'].apply(lambda x: re.sub(pattern,\"\",x))\n",
    "\n",
    "pt = r'^(?:\\n)+'\n",
    "pattern = re.compile(pt,flags=re.DOTALL|re.IGNORECASE)\n",
    "df['text'] = df['text'].apply(lambda x: re.sub(pattern,\"\",x))\n"
   ]
  },
  {
   "cell_type": "code",
   "execution_count": null,
   "metadata": {},
   "outputs": [],
   "source": [
    "pt = r'Mime-version:.*?\\n'\n",
    "pattern = re.compile(pt,flags=re.DOTALL|re.IGNORECASE|re.MULTILINE)\n",
    "df['text'] = df['text'].apply(lambda x: re.sub(pattern,\"\",x))\n",
    "\n",
    "pt = r'^(?:\\n)+'\n",
    "pattern = re.compile(pt,flags=re.DOTALL|re.IGNORECASE)\n",
    "df['text'] = df['text'].apply(lambda x: re.sub(pattern,\"\",x))\n"
   ]
  },
  {
   "cell_type": "code",
   "execution_count": null,
   "metadata": {},
   "outputs": [],
   "source": [
    "df =df[~(df['text'].str.startswith('Mime'))]"
   ]
  },
  {
   "cell_type": "code",
   "execution_count": null,
   "metadata": {},
   "outputs": [],
   "source": [
    "pt = r'Content.*?\\n\\n'\n",
    "pattern = re.compile(pt,flags=re.DOTALL|re.IGNORECASE|re.MULTILINE)\n",
    "df['text'] = df['text'].apply(lambda x: re.sub(pattern,\"\",x))\n",
    "\n",
    "pt = r'^(?:\\n)+'\n",
    "pattern = re.compile(pt,flags=re.DOTALL|re.IGNORECASE)\n",
    "df['text'] = df['text'].apply(lambda x: re.sub(pattern,\"\",x))\n"
   ]
  },
  {
   "cell_type": "code",
   "execution_count": null,
   "metadata": {},
   "outputs": [],
   "source": [
    "df['text'] = df[~(df['text'].str.startswith('Content-') & ~df['text'].str.contains('7bit') )]"
   ]
  },
  {
   "cell_type": "code",
   "execution_count": null,
   "metadata": {},
   "outputs": [],
   "source": [
    "pt = r'Return-.*?\\n\\n'\n",
    "pattern = re.compile(pt,flags=re.DOTALL|re.IGNORECASE|re.MULTILINE)\n",
    "df['text'] = df['text'].apply(lambda x: re.sub(pattern,\"\",x))\n",
    "\n",
    "pt = r'^(?:\\n)+'\n",
    "pattern = re.compile(pt,flags=re.DOTALL|re.IGNORECASE)\n",
    "df['text'] = df['text'].apply(lambda x: re.sub(pattern,\"\",x))"
   ]
  },
  {
   "cell_type": "code",
   "execution_count": null,
   "metadata": {},
   "outputs": [],
   "source": [
    "df = df[~df['text'].str.startswith(r'Return-')]"
   ]
  },
  {
   "cell_type": "code",
   "execution_count": null,
   "metadata": {},
   "outputs": [],
   "source": [
    "pt = r'^Date:.*?\\n\\n'\n",
    "pattern = re.compile(pt,flags=re.DOTALL|re.IGNORECASE|re.MULTILINE)\n",
    "df['text'] = df['text'].apply(lambda x: re.sub(pattern,\"\",x))\n",
    "\n",
    "pt = r'^(?:\\n)+'\n",
    "pattern = re.compile(pt,flags=re.DOTALL|re.IGNORECASE)\n",
    "df['text'] = df['text'].apply(lambda x: re.sub(pattern,\"\",x))\n"
   ]
  },
  {
   "cell_type": "code",
   "execution_count": null,
   "metadata": {},
   "outputs": [],
   "source": [
    "pt = r'^Date:.*?\\n'\n",
    "pattern = re.compile(pt,flags=re.DOTALL|re.IGNORECASE|re.MULTILINE)\n",
    "df['text'] = df['text'].apply(lambda x: re.sub(pattern,\"\",x))\n",
    "\n",
    "pt = r'^(?:\\n)+'\n",
    "pattern = re.compile(pt,flags=re.DOTALL|re.IGNORECASE)\n",
    "df['text'] = df['text'].apply(lambda x: re.sub(pattern,\"\",x))\n"
   ]
  },
  {
   "cell_type": "code",
   "execution_count": null,
   "metadata": {},
   "outputs": [],
   "source": [
    "df = df[~df['text'].str.startswith('X-Mailer:')]\n",
    "df = df[~df['text'].str.startswith('Content-Type:')]\n",
    "df = df[~(df['text'].str.contains('Message-ID') & ~df['text'].str.contains('\\n') )]"
   ]
  },
  {
   "cell_type": "code",
   "execution_count": null,
   "metadata": {},
   "outputs": [],
   "source": [
    "pt = r'^Message-ID:.*?LocalDomain>\\n'\n",
    "pattern = re.compile(pt,flags=re.DOTALL|re.IGNORECASE|re.MULTILINE)\n",
    "df['text'] = df['text'].apply(lambda x: re.sub(pattern,\"\",x))\n",
    "\n",
    "pt = r'^(?:\\n)+'\n",
    "pattern = re.compile(pt,flags=re.DOTALL|re.IGNORECASE)\n",
    "df['text'] = df['text'].apply(lambda x: re.sub(pattern,\"\",x))"
   ]
  },
  {
   "cell_type": "code",
   "execution_count": null,
   "metadata": {},
   "outputs": [],
   "source": [
    "pt = r'^Message-ID:.*?MCKINSEY.COM>\\n'\n",
    "pattern = re.compile(pt,flags=re.DOTALL|re.IGNORECASE|re.MULTILINE)\n",
    "df['text'] = df['text'].apply(lambda x: re.sub(pattern,\"\",x))\n",
    "\n",
    "pt = r'^(?:\\n)+'\n",
    "pattern = re.compile(pt,flags=re.DOTALL|re.IGNORECASE)\n",
    "df['text'] = df['text'].apply(lambda x: re.sub(pattern,\"\",x))"
   ]
  },
  {
   "cell_type": "code",
   "execution_count": null,
   "metadata": {},
   "outputs": [],
   "source": [
    "df = df[~(df['text'].str.startswith('Message-ID')  )]\n",
    "df = df[~(df['text'].str.startswith('Message-Id')  )] \n",
    "df = df[~(df['text'].str.startswith('X-Sent-Mail')  )]"
   ]
  },
  {
   "cell_type": "code",
   "execution_count": null,
   "metadata": {},
   "outputs": [],
   "source": [
    "pt = r'^> This message is in MIME format. Since your mail reader does not understand\\nthis format, some or all of this message may not be legible.\\n\\n'\n",
    "pattern = re.compile(pt,flags=re.DOTALL|re.IGNORECASE|re.MULTILINE)\n",
    "df['text'] = df['text'].apply(lambda x: re.sub(pattern,\"\",x))\n",
    "\n",
    "pt = r'^(?:\\n)+'\n",
    "pattern = re.compile(pt,flags=re.DOTALL|re.IGNORECASE)\n",
    "df['text'] = df['text'].apply(lambda x: re.sub(pattern,\"\",x))"
   ]
  },
  {
   "cell_type": "code",
   "execution_count": null,
   "metadata": {},
   "outputs": [],
   "source": [
    "pt = r'^CC:.*?\\n'\n",
    "pattern = re.compile(pt,flags=re.DOTALL|re.IGNORECASE|re.MULTILINE)\n",
    "df['text'] = df['text'].apply(lambda x: re.sub(pattern,\"\",x))\n",
    "\n",
    "pt = r'^(?:\\n)+'\n",
    "pattern = re.compile(pt,flags=re.DOTALL|re.IGNORECASE)\n",
    "df['text'] = df['text'].apply(lambda x: re.sub(pattern,\"\",x))\n"
   ]
  },
  {
   "cell_type": "code",
   "execution_count": null,
   "metadata": {},
   "outputs": [],
   "source": [
    "df['text'] = df[~(df['text'].str.contains('??????????'  ,regex=False))]"
   ]
  },
  {
   "cell_type": "code",
   "execution_count": null,
   "metadata": {},
   "outputs": [],
   "source": [
    "pt = r'^Message-.*?\\n'\n",
    "pattern = re.compile(pt,flags=re.DOTALL|re.IGNORECASE|re.MULTILINE)\n",
    "df['text'] = df['text'].apply(lambda x: re.sub(pattern,\"\",x))\n",
    "\n",
    "pt = r'^(?:\\n)+'\n",
    "pattern = re.compile(pt,flags=re.DOTALL|re.IGNORECASE)\n",
    "df['text'] = df['text'].apply(lambda x: re.sub(pattern,\"\",x))\n"
   ]
  },
  {
   "cell_type": "code",
   "execution_count": null,
   "metadata": {},
   "outputs": [],
   "source": [
    "df['text'] = df[~(df['text'].str.startswith('Message-'))]"
   ]
  },
  {
   "cell_type": "code",
   "execution_count": null,
   "metadata": {},
   "outputs": [],
   "source": [
    "pt = r'^References:.*?\\n'\n",
    "pattern = re.compile(pt,flags=re.DOTALL|re.IGNORECASE|re.MULTILINE)\n",
    "df['text'] = df['text'].apply(lambda x: re.sub(pattern,\"\",x))\n",
    "\n",
    "pt = r'^(?:\\n)+'\n",
    "pattern = re.compile(pt,flags=re.DOTALL|re.IGNORECASE)\n",
    "df['text'] = df['text'].apply(lambda x: re.sub(pattern,\"\",x))"
   ]
  },
  {
   "cell_type": "code",
   "execution_count": null,
   "metadata": {},
   "outputs": [],
   "source": [
    "df['text'] = df[~(df['text'].str.startswith('References:'))]"
   ]
  },
  {
   "cell_type": "code",
   "execution_count": null,
   "metadata": {},
   "outputs": [],
   "source": [
    "pt = r'^In-Reply-To:.*?\\n'\n",
    "pattern = re.compile(pt,flags=re.DOTALL|re.IGNORECASE|re.MULTILINE)\n",
    "df['text'] = df['text'].apply(lambda x: re.sub(pattern,\"\",x))\n",
    "\n",
    "pt = r'^(?:\\n)+'\n",
    "pattern = re.compile(pt,flags=re.DOTALL|re.IGNORECASE)\n",
    "df['text'] = df['text'].apply(lambda x: re.sub(pattern,\"\",x))"
   ]
  },
  {
   "cell_type": "code",
   "execution_count": null,
   "metadata": {},
   "outputs": [],
   "source": [
    "pt = r'^From:.*?\\n'\n",
    "pattern = re.compile(pt,flags=re.DOTALL|re.IGNORECASE|re.MULTILINE)\n",
    "df['text'] = df['text'].apply(lambda x: re.sub(pattern,\"\",x))\n",
    "\n",
    "pt = r'^(?:\\n)+'\n",
    "pattern = re.compile(pt,flags=re.DOTALL|re.IGNORECASE)\n",
    "df['text'] = df['text'].apply(lambda x: re.sub(pattern,\"\",x))\n",
    "df['text'] = df[~(df['text'].str.startswith('From:'))]"
   ]
  },
  {
   "cell_type": "code",
   "execution_count": null,
   "metadata": {},
   "outputs": [],
   "source": [
    "df = df[~(df['text'].str.contains('The Following Tests Failed!'))]"
   ]
  },
  {
   "cell_type": "code",
   "execution_count": null,
   "metadata": {},
   "outputs": [],
   "source": [
    "pt = r'^Priority:.*?\\n\\n'\n",
    "pattern = re.compile(pt,flags=re.DOTALL|re.IGNORECASE|re.MULTILINE)\n",
    "df['text'] = df['text'].apply(lambda x: re.sub(pattern,\"\",x))\n",
    "\n",
    "pt = r'^(?:\\n)+'\n",
    "pattern = re.compile(pt,flags=re.DOTALL|re.IGNORECASE)\n",
    "df['text'] = df['text'].apply(lambda x: re.sub(pattern,\"\",x))\n"
   ]
  },
  {
   "cell_type": "code",
   "execution_count": null,
   "metadata": {},
   "outputs": [],
   "source": [
    "df = df[~(df['text'].str.contains('ADVERTISEMENT='))]"
   ]
  },
  {
   "cell_type": "code",
   "execution_count": null,
   "metadata": {},
   "outputs": [],
   "source": [
    "pt = r'^This is a MIME.*?\\n\\n'\n",
    "pattern = re.compile(pt,flags=re.DOTALL|re.IGNORECASE|re.MULTILINE)\n",
    "df['text'] = df['text'].apply(lambda x: re.sub(pattern,\"\",x))\n",
    "\n",
    "pt = r'^(?:\\n)+'\n",
    "pattern = re.compile(pt,flags=re.DOTALL|re.IGNORECASE)\n",
    "df['text'] = df['text'].apply(lambda x: re.sub(pattern,\"\",x))"
   ]
  },
  {
   "cell_type": "code",
   "execution_count": null,
   "metadata": {},
   "outputs": [],
   "source": [
    "df = df[~(df['text'].str.startswith('Received:'))]\n",
    "df = df[~(df['text'].str.startswith('The original message was received at'))]\n",
    "df = df[~(df['text'].str.contains('subscribe for free'))]\n",
    "df = df[~(df['text'].str.startswith('Return-Path:'))]"
   ]
  },
  {
   "cell_type": "code",
   "execution_count": null,
   "metadata": {},
   "outputs": [],
   "source": [
    "pt = r'^boundary=.*?\\n'\n",
    "pattern = re.compile(pt,flags=re.DOTALL|re.IGNORECASE|re.MULTILINE)\n",
    "df['text'] = df['text'].apply(lambda x: re.sub(pattern,\"\",x))\n",
    "\n",
    "pt = r'^(?:\\n)+'\n",
    "pattern = re.compile(pt,flags=re.DOTALL|re.IGNORECASE)\n",
    "df['text'] = df['text'].apply(lambda x: re.sub(pattern,\"\",x))\n"
   ]
  },
  {
   "cell_type": "code",
   "execution_count": null,
   "metadata": {},
   "outputs": [],
   "source": [
    "pt = r'^List-Unsubscribe: <mailto:leave-stcetsig-l-34772P@stc.org>\\nList-Subscribe: <mailto:subscribe-stcetsig-l@stc.org>\\nList-Owner: <mailto:owner-stcetsig-l@stc.org>.*?\\n'\n",
    "pattern = re.compile(pt,flags=re.DOTALL|re.IGNORECASE|re.MULTILINE)\n",
    "df['text'] = df['text'].apply(lambda x: re.sub(pattern,\"\",x))\n",
    "\n",
    "pt = r'^(?:\\n)+'\n",
    "pattern = re.compile(pt,flags=re.DOTALL|re.IGNORECASE)\n",
    "df['text'] = df['text'].apply(lambda x: re.sub(pattern,\"\",x))\n"
   ]
  },
  {
   "cell_type": "code",
   "execution_count": null,
   "metadata": {},
   "outputs": [],
   "source": [
    "df = df[~(df['text'].str.startswith('List-Unsubscribe:'))] "
   ]
  },
  {
   "cell_type": "code",
   "execution_count": null,
   "metadata": {},
   "outputs": [],
   "source": [
    "pt = r'(?<=<<AvocadoIT_DoniSteward\\.ppt>>).*'\n",
    "pattern = re.compile(pt,flags=re.DOTALL|re.IGNORECASE|re.MULTILINE)\n",
    "df['text'] = df['text'].apply(lambda x: re.sub(pattern,\"\",x))"
   ]
  },
  {
   "cell_type": "code",
   "execution_count": null,
   "metadata": {},
   "outputs": [],
   "source": [
    "pt = r'(?<=<<AvocadoIT uComm CHT 060601\\.ppt>>).*'\n",
    "pattern = re.compile(pt,flags=re.DOTALL|re.IGNORECASE|re.MULTILINE)\n",
    "df['text'] = df['text'].apply(lambda x: re.sub(pattern,\"\",x))"
   ]
  },
  {
   "cell_type": "code",
   "execution_count": null,
   "metadata": {},
   "outputs": [],
   "source": [
    "pt = r'(?<=filename=\"GG-Wireless Application Magic Quadrant Market Note\\.pdf).*'\n",
    "pattern = re.compile(pt,flags=re.DOTALL|re.IGNORECASE|re.MULTILINE)\n",
    "df['text'] = df['text'].apply(lambda x: re.sub(pattern,\"\",x))"
   ]
  },
  {
   "cell_type": "code",
   "execution_count": null,
   "metadata": {},
   "outputs": [],
   "source": [
    "pt = r'0M8R4KGxGuEAAAAAAAAAAAAAAAAAAAAAPgADAP7.*'   # removes powerpoints\n",
    "pattern = re.compile(pt,flags=re.DOTALL|re.IGNORECASE|re.MULTILINE)\n",
    "df['text'] = df['text'].apply(lambda x: re.sub(pattern,\"\",x))"
   ]
  },
  {
   "cell_type": "code",
   "execution_count": null,
   "metadata": {},
   "outputs": [],
   "source": [
    "df = df[~df['text'].str.contains('phonebooth.au')]"
   ]
  },
  {
   "cell_type": "code",
   "execution_count": null,
   "metadata": {},
   "outputs": [],
   "source": [
    "df = df[~df['text'].str.contains('Componant /etc/default/login has been')]"
   ]
  },
  {
   "cell_type": "code",
   "execution_count": null,
   "metadata": {},
   "outputs": [],
   "source": [
    "df = df[~df['text'].str.contains(\"Here's the list of files changed:\")]"
   ]
  },
  {
   "cell_type": "code",
   "execution_count": null,
   "metadata": {},
   "outputs": [],
   "source": [
    "df = df[~(df[\"text\"].str.len()>20000)]"
   ]
  },
  {
   "cell_type": "code",
   "execution_count": null,
   "metadata": {},
   "outputs": [],
   "source": [
    "def split_messages(text):\n",
    "    pattern = r'At \\d.*?wrote:'  # This matches: At <Date> <somebody> wrote:\n",
    "    parts = re.split(pattern, text)\n",
    "    return [part.strip() for part in parts if part.strip()]\n",
    "\n",
    "# Create subset of DF that contain multi-messages, remove subset from the original DF\n",
    "df_multi = df[(df['text'].str.contains('At ') & df['text'].str.contains('wrote:'))]\n",
    "df = df[~(df['text'].str.contains('At ') & df['text'].str.contains('wrote:'))]\n",
    "\n",
    "# Then collect all multi-messages in subset, explode the DF\n",
    "df_multi['parts'] = df_multi['text'].apply(split_messages)\n",
    "df_multi = df_multi.explode('parts')\n",
    "df_multi = df_multi['parts'].to_frame()\n",
    "\n",
    "#reassamble DFs\n",
    "df_multi = df_multi.rename(columns={'parts': 'text'})\n",
    "df = df['text'].to_frame()\n",
    "df = pd.concat([df,df_multi])"
   ]
  },
  {
   "cell_type": "code",
   "execution_count": null,
   "metadata": {},
   "outputs": [],
   "source": [
    "def remove_leading_gt(text):\n",
    "    # Check if the text is a string (and not NaN or a float)\n",
    "    if isinstance(text, str):\n",
    "        # Split the text into lines\n",
    "        lines = text.splitlines()\n",
    "        \n",
    "        # Check if every line starts with '>'\n",
    "        if all(line.startswith('>') for line in lines):\n",
    "            # Remove the '>' from the start of each line\n",
    "            cleaned_lines = [line[1:].lstrip() for line in lines]\n",
    "            # Join the lines back together into a single string\n",
    "            return '\\n'.join(cleaned_lines)\n",
    "        else:\n",
    "            # Return the text unchanged if not all lines start with '>'\n",
    "            return text\n",
    "    else:\n",
    "        # If text is not a string, return it unchanged\n",
    "        return text"
   ]
  },
  {
   "cell_type": "code",
   "execution_count": null,
   "metadata": {},
   "outputs": [],
   "source": [
    "def split_and_remove_wrote(text):\n",
    "    # Split the text into lines\n",
    "    lines = text.splitlines()\n",
    "\n",
    "    # Initialize a list to store the parts\n",
    "    parts = []\n",
    "\n",
    "    # Temporary list to accumulate lines for each part (before or after \"wrote:\")\n",
    "    current_part = []\n",
    "\n",
    "    for line in lines:\n",
    "        if 'wrote:' in line:\n",
    "            # If we encounter a \"wrote:\" line, push the current part to the list and reset it\n",
    "            if current_part:\n",
    "                # Join the accumulated lines with actual line breaks\n",
    "                parts.append('\\n'.join(current_part))  # Keep line breaks within the part\n",
    "            current_part = []  # Reset for the next part\n",
    "        else:\n",
    "            # Accumulate the lines that are not \"wrote:\"\n",
    "            current_part.append(line)\n",
    "    \n",
    "    # If there are any remaining lines in the current part, add them as the last part\n",
    "    if current_part:\n",
    "        parts.append('\\n'.join(current_part))  # Keep line breaks in the final part\n",
    "\n",
    "    return parts\n",
    "\n",
    "df_multi = df[ (df['text'].str.contains('''wrote:''')) ]\n",
    "df = df[ ~(df['text'].str.contains('''wrote:''')) ]\n",
    "\n",
    "df_multi['parts'] = df_multi['text'].apply(split_and_remove_wrote)\n",
    "df_multi = df_multi.explode('parts')\n",
    "df_multi = df_multi['parts'].to_frame()\n",
    "\n",
    "#reassamble DFs\n",
    "df_multi = df_multi.rename(columns={'parts': 'text'})\n",
    "df = df['text'].to_frame()\n",
    "df = pd.concat([df,df_multi])"
   ]
  },
  {
   "cell_type": "code",
   "execution_count": null,
   "metadata": {},
   "outputs": [],
   "source": [
    "df['text'] = df['text'].apply(remove_leading_gt)\n",
    "df['text'] = df['text'].apply(remove_leading_gt)\n",
    "df['text'] = df['text'].apply(remove_leading_gt)\n",
    "df['text'] = df['text'].apply(remove_leading_gt)\n",
    "df = df[df['text'] != '']"
   ]
  },
  {
   "cell_type": "code",
   "execution_count": null,
   "metadata": {},
   "outputs": [],
   "source": [
    "df = df.dropna(subset=['text'])"
   ]
  },
  {
   "cell_type": "code",
   "execution_count": null,
   "metadata": {},
   "outputs": [],
   "source": [
    "pt = r'^Mailing-List.*?Subject:.*?\\n'\n",
    "pattern = re.compile(pt,flags=re.DOTALL|re.IGNORECASE|re.MULTILINE)\n",
    "df['text'] = df['text'].apply(lambda x: re.sub(pattern,\"\",x))\n",
    "df = df[ ~(df['text'].str.startswith('''Mailing-List:''')) ]"
   ]
  },
  {
   "cell_type": "code",
   "execution_count": null,
   "metadata": {},
   "outputs": [],
   "source": [
    "pt = r'^Content-Type.*?\\n\\n'\n",
    "pattern = re.compile(pt,flags=re.DOTALL|re.IGNORECASE|re.MULTILINE)\n",
    "df['text'] = df['text'].apply(lambda x: re.sub(pattern,\"\",x))\n",
    "df = df[ ~(df['text'].str.startswith('''Content-Type''')) ]"
   ]
  },
  {
   "cell_type": "code",
   "execution_count": null,
   "metadata": {},
   "outputs": [],
   "source": [
    "df = df[ ~(df['text'].str.startswith('''--''') & ~df['text'].str.contains('''\\n\\n''') ) ]\n",
    "df = df[ ~(df['text'].str.startswith('''--''') & ~df['text'].str.contains('''had trouble''') ) ]"
   ]
  },
  {
   "cell_type": "code",
   "execution_count": null,
   "metadata": {},
   "outputs": [],
   "source": [
    "pt = r'^--.*?\\n\\n'\n",
    "pattern = re.compile(pt,flags=re.DOTALL|re.IGNORECASE|re.MULTILINE)\n",
    "df['text'] = df['text'].apply(lambda x: re.sub(pattern,\"\",x))"
   ]
  },
  {
   "cell_type": "code",
   "execution_count": null,
   "metadata": {},
   "outputs": [],
   "source": [
    "pt = r'\\n\\n-+\\s*Original\\s*Appointment\\s*-+'\n",
    "pattern = re.compile(pt,flags=re.DOTALL|re.IGNORECASE|re.MULTILINE)\n",
    "df['text'] = df['text'].apply(lambda x: re.sub(pattern,\"\",x))"
   ]
  },
  {
   "cell_type": "code",
   "execution_count": null,
   "metadata": {},
   "outputs": [],
   "source": [
    "pt = r'\\n\\n-+\\s*Original\\s*Message-+\\nFrom:.*'\n",
    "pattern = re.compile(pt,flags=re.DOTALL|re.IGNORECASE|re.MULTILINE)\n",
    "df['text'] = df['text'].apply(lambda x: re.sub(pattern,\"\",x))"
   ]
  },
  {
   "cell_type": "code",
   "execution_count": null,
   "metadata": {},
   "outputs": [],
   "source": [
    "pt = r'(?:\\n>)+\\s*-+Original\\s*Message\\s*-+(?:\\n>)\\s*From:.*'\n",
    "pattern = re.compile(pt,flags=re.DOTALL|re.IGNORECASE|re.MULTILINE)\n",
    "df['text'] = df['text'].apply(lambda x: re.sub(pattern,\"\",x))"
   ]
  },
  {
   "cell_type": "code",
   "execution_count": null,
   "metadata": {},
   "outputs": [],
   "source": [
    "pt = r'(?:\\n)*-*Original\\s*Message\\s*Follows(?::)(?:\\n)*-+$'\n",
    "pattern = re.compile(pt,flags=re.DOTALL|re.IGNORECASE|re.MULTILINE)\n",
    "df['text'] = df['text'].apply(lambda x: re.sub(pattern,\"\",x))"
   ]
  },
  {
   "cell_type": "code",
   "execution_count": null,
   "metadata": {},
   "outputs": [],
   "source": [
    "def split_messages(text):\n",
    "    pattern = r'Original Message Follows:'  # This matches: At <Date> <somebody> wrote:\n",
    "    parts = re.split(pattern, text)\n",
    "    return [part.strip() for part in parts if part.strip()]"
   ]
  },
  {
   "cell_type": "code",
   "execution_count": null,
   "metadata": {},
   "outputs": [],
   "source": [
    "df_follows = df[ (  df['text'].str.contains('''Original Message Follows:''') ) ]\n",
    "df =  df[ ~(  df['text'].str.contains('''Original Message Follows:''') ) ]\n",
    "\n",
    "df_follows['parts'] = df_follows['text'].apply(split_messages)\n",
    "df_follows = df_follows.explode('parts')\n",
    "df_follows = df_follows['parts'].to_frame()\n",
    "\n",
    "df_follows = df_follows.rename(columns={'parts': 'text'})\n",
    "df = df['text'].to_frame()\n",
    "df = pd.concat([df,df_multi])"
   ]
  },
  {
   "cell_type": "code",
   "execution_count": null,
   "metadata": {},
   "outputs": [],
   "source": [
    "df['text'] = df['text'].apply(remove_leading_gt)\n",
    "df['text'] = df['text'].apply(remove_leading_gt)\n",
    "df['text'] = df['text'].apply(remove_leading_gt)\n",
    "df['text'] = df['text'].apply(remove_leading_gt)\n",
    "df = df[df['text'] != '']"
   ]
  },
  {
   "cell_type": "code",
   "execution_count": null,
   "metadata": {},
   "outputs": [],
   "source": [
    "pt = r'To\\s+Post\\s+a\\s+message,\\s+send\\s+it\\s+to:\\s+extremeprogramming@eGroups\\.com(?:\\n(?:>)?)*To\\s+Unsubscribe,\\s+send\\s+a\\s+blank\\s+message\\s+to:(?:\\n(?:>)?)*\\s*extremeprogramming-unsubscribe@eGroups\\.com(?:\\n(?:>)?)*Ad-free courtesy of objectmentor\\.com(?:\\n(?:>)?)*$'\n",
    "pattern = re.compile(pt,flags=re.DOTALL|re.IGNORECASE|re.MULTILINE)\n",
    "df['text'] = df['text'].apply(lambda x: re.sub(pattern,\"\",x))"
   ]
  },
  {
   "cell_type": "code",
   "execution_count": null,
   "metadata": {},
   "outputs": [],
   "source": [
    "pt = r'^Date: (?:\\d|\\w).*?(?=\\n)'\n",
    "pattern = re.compile(pt,flags=re.DOTALL|re.IGNORECASE|re.MULTILINE)\n",
    "df['text'] = df['text'].apply(lambda x: re.sub(pattern,\"\",x))\n",
    "\n",
    "pt = r'^(?:\\n)+'\n",
    "pattern = re.compile(pt,flags=re.DOTALL|re.IGNORECASE)\n",
    "df['text'] = df['text'].apply(lambda x: re.sub(pattern,\"\",x))"
   ]
  },
  {
   "cell_type": "code",
   "execution_count": null,
   "metadata": {},
   "outputs": [],
   "source": [
    "pt = r'^Sender.*?(?=\\n)'\n",
    "pattern = re.compile(pt,flags=re.DOTALL|re.IGNORECASE|re.MULTILINE)\n",
    "df['text'] = df['text'].apply(lambda x: re.sub(pattern,\"\",x))\n",
    "\n",
    "pt = r'^(?:\\n)+'\n",
    "pattern = re.compile(pt,flags=re.DOTALL|re.IGNORECASE)\n",
    "df['text'] = df['text'].apply(lambda x: re.sub(pattern,\"\",x))"
   ]
  },
  {
   "cell_type": "code",
   "execution_count": null,
   "metadata": {},
   "outputs": [],
   "source": [
    "pt = r'^(?:>|\\n|\\s)*Responding to.*?(?=\\n)'\n",
    "pattern = re.compile(pt,flags=re.DOTALL|re.IGNORECASE|re.MULTILINE)\n",
    "df['text'] = df['text'].apply(lambda x: re.sub(pattern,\"\",x))\n",
    "\n",
    "pt = r'^(?:\\n)+'\n",
    "pattern = re.compile(pt,flags=re.DOTALL|re.IGNORECASE)\n",
    "df['text'] = df['text'].apply(lambda x: re.sub(pattern,\"\",x))"
   ]
  },
  {
   "cell_type": "code",
   "execution_count": null,
   "metadata": {},
   "outputs": [],
   "source": [
    "df = df[~df['text'].str.startswith('Responding to')]"
   ]
  },
  {
   "cell_type": "code",
   "execution_count": null,
   "metadata": {},
   "outputs": [],
   "source": [
    "pt = r'^\\s\\(added by.*?(?=\\n)'\n",
    "pattern = re.compile(pt,flags=re.DOTALL|re.IGNORECASE|re.MULTILINE)\n",
    "df['text'] = df['text'].apply(lambda x: re.sub(pattern,\"\",x))\n",
    "\n",
    "pt = r'^(?:\\n)+'\n",
    "pattern = re.compile(pt,flags=re.DOTALL|re.IGNORECASE)\n",
    "df['text'] = df['text'].apply(lambda x: re.sub(pattern,\"\",x))"
   ]
  },
  {
   "cell_type": "code",
   "execution_count": null,
   "metadata": {},
   "outputs": [],
   "source": [
    "df = df[~(df['text'].str.startswith(' (added by'))]\n",
    "df = df[~(df['text'].str.startswith(\"\\x1b\"))]\n",
    "df = df[~(df['text']=='')]"
   ]
  },
  {
   "cell_type": "code",
   "execution_count": null,
   "metadata": {},
   "outputs": [],
   "source": [
    "pt = r'^Subject:.*?(?=\\n\\n)'\n",
    "pattern = re.compile(pt,flags=re.DOTALL|re.IGNORECASE|re.MULTILINE)\n",
    "df['text'] = df['text'].apply(lambda x: re.sub(pattern,\"\",x))\n",
    "\n",
    "pt = r'^(?:\\n)+'\n",
    "pattern = re.compile(pt,flags=re.DOTALL|re.IGNORECASE)\n",
    "df['text'] = df['text'].apply(lambda x: re.sub(pattern,\"\",x))"
   ]
  },
  {
   "cell_type": "code",
   "execution_count": null,
   "metadata": {},
   "outputs": [],
   "source": [
    "pt = r'^Subject:.*?(?=\\n)'\n",
    "pattern = re.compile(pt,flags=re.DOTALL|re.IGNORECASE|re.MULTILINE)\n",
    "df['text'] = df['text'].apply(lambda x: re.sub(pattern,\"\",x))\n",
    "\n",
    "pt = r'^(?:\\n)+'\n",
    "pattern = re.compile(pt,flags=re.DOTALL|re.IGNORECASE)\n",
    "df['text'] = df['text'].apply(lambda x: re.sub(pattern,\"\",x))"
   ]
  },
  {
   "cell_type": "code",
   "execution_count": null,
   "metadata": {},
   "outputs": [],
   "source": [
    "df = df[~(df['text'].str.startswith(\"Subject:\"))]\n",
    "df = df[~(df['text'].str.startswith(\"Message-\"))]\n",
    "df = df[~(df['text'].str.startswith(\"--\"))]"
   ]
  },
  {
   "cell_type": "code",
   "execution_count": null,
   "metadata": {},
   "outputs": [],
   "source": [
    "# Removing Dates at the start of a string\n",
    "pt = r'^\\d{2}\\/\\d{2}\\/\\d{4}.*?(?=\\n)'\n",
    "pattern = re.compile(pt,flags=re.DOTALL|re.IGNORECASE|re.MULTILINE)\n",
    "df['text'] = df['text'].apply(lambda x: re.sub(pattern,\"\",x))\n",
    "\n",
    "pt = r'^(?:\\n)+'\n",
    "pattern = re.compile(pt,flags=re.DOTALL|re.IGNORECASE)\n",
    "df['text'] = df['text'].apply(lambda x: re.sub(pattern,\"\",x))\n",
    "df = df[~(df['text']=='')]"
   ]
  },
  {
   "cell_type": "code",
   "execution_count": null,
   "metadata": {},
   "outputs": [],
   "source": [
    "# Removing Adressants at the start of a string\n",
    "\n",
    "pt = r\"^(?:(?:(?:'[\\w\\.]+@\\w+\\.\\w{2,3}'|[\\w\\s\\(\\)\\.\\-\\n]+);)(?:\\s|\\n)){2,100}.*?\\n\"\n",
    "pattern = re.compile(pt,flags=re.DOTALL|re.IGNORECASE|re.MULTILINE)\n",
    "df['text'] = df['text'].apply(lambda x: re.sub(pattern,\"\",x))\n",
    "\n",
    "pt = r'^(?:\\n)+'\n",
    "pattern = re.compile(pt,flags=re.DOTALL|re.IGNORECASE)\n",
    "df['text'] = df['text'].apply(lambda x: re.sub(pattern,\"\",x))\n",
    "df = df[~(df['text']=='')]"
   ]
  },
  {
   "cell_type": "code",
   "execution_count": null,
   "metadata": {},
   "outputs": [],
   "source": [
    "# Removing Adressants at the start of a string\n",
    "\n",
    "pt = r\"^(?:(?:(?:'[\\w\\.]+@\\w+\\.\\w{2,3}'|(?:')?[\\w\\s\\(\\)\\.\\-\\\\n\\,]+(?:')?);)(?:\\s|\\n)){1,100}.*?\\n\"\n",
    "pattern = re.compile(pt,flags=re.DOTALL|re.IGNORECASE|re.MULTILINE)\n",
    "df['text'] = df['text'].apply(lambda x: re.sub(pattern,\"\",x))\n",
    "\n",
    "pt = r'^(?:\\n)+'\n",
    "pattern = re.compile(pt,flags=re.DOTALL|re.IGNORECASE)\n",
    "df['text'] = df['text'].apply(lambda x: re.sub(pattern,\"\",x))\n",
    "df = df[~(df['text']=='')]"
   ]
  },
  {
   "cell_type": "code",
   "execution_count": null,
   "metadata": {},
   "outputs": [],
   "source": [
    "pt = r\"^'[\\w]+@[\\w\\.]+\\.\\w{2,3}'\\n\"\n",
    "pattern = re.compile(pt,flags=re.DOTALL|re.IGNORECASE|re.MULTILINE)\n",
    "df['text'] = df['text'].apply(lambda x: re.sub(pattern,\"\",x))\n",
    "\n",
    "pt = r'^(?:\\n)+'\n",
    "pattern = re.compile(pt,flags=re.DOTALL|re.IGNORECASE)\n",
    "df['text'] = df['text'].apply(lambda x: re.sub(pattern,\"\",x))\n",
    "df = df[~(df['text']=='')]"
   ]
  },
  {
   "cell_type": "code",
   "execution_count": null,
   "metadata": {},
   "outputs": [],
   "source": [
    "pt = r\"^[\\w]+@[\\w\\.\\-]+\\.\\w{2,3}\\n\"\n",
    "pattern = re.compile(pt,flags=re.DOTALL|re.IGNORECASE|re.MULTILINE)\n",
    "df['text'] = df['text'].apply(lambda x: re.sub(pattern,\"\",x))\n",
    "\n",
    "pt = r'^(?:\\n)+'\n",
    "pattern = re.compile(pt,flags=re.DOTALL|re.IGNORECASE)\n",
    "df['text'] = df['text'].apply(lambda x: re.sub(pattern,\"\",x))\n",
    "df = df[~(df['text']=='')]"
   ]
  },
  {
   "cell_type": "code",
   "execution_count": null,
   "metadata": {},
   "outputs": [],
   "source": [
    "pt = r\"^Sent:.*?To:.*?\\n\\n\"\n",
    "pattern = re.compile(pt,flags=re.DOTALL|re.IGNORECASE|re.MULTILINE)\n",
    "df['text'] = df['text'].apply(lambda x: re.sub(pattern,\"\",x))\n",
    "\n",
    "pt = r'^(?:\\n)+'\n",
    "pattern = re.compile(pt,flags=re.DOTALL|re.IGNORECASE)\n",
    "df['text'] = df['text'].apply(lambda x: re.sub(pattern,\"\",x))\n",
    "df = df[~(df['text']=='')]\n",
    "df = df[~(df['text'].str.startswith('Sent:'))]"
   ]
  },
  {
   "cell_type": "code",
   "execution_count": null,
   "metadata": {},
   "outputs": [],
   "source": [
    "df = df[~(df['text'].str.startswith(r\"Subject:\") & ~df['text'].str.contains('>'))]\n",
    "df = df[~(df['text'].str.startswith(r\"amitabh.\") )]"
   ]
  },
  {
   "cell_type": "code",
   "execution_count": null,
   "metadata": {},
   "outputs": [],
   "source": [
    "pt = r\"^From:.*?(?=\\n)\"\n",
    "pattern = re.compile(pt,flags=re.DOTALL|re.IGNORECASE|re.MULTILINE)\n",
    "df['text'] = df['text'].apply(lambda x: re.sub(pattern,\"\",x))\n",
    "\n",
    "pt = r'^(?:\\n)+'\n",
    "pattern = re.compile(pt,flags=re.DOTALL|re.IGNORECASE)\n",
    "df['text'] = df['text'].apply(lambda x: re.sub(pattern,\"\",x))"
   ]
  },
  {
   "cell_type": "code",
   "execution_count": null,
   "metadata": {},
   "outputs": [],
   "source": [
    "df = df[~(df['text'].str.contains(r\"^From:\",regex=True) )]\n",
    "df = df[~(df['text'].str.contains(r\"^Received:\",regex=True) )]\n",
    "df = df[~(df['text'].str.contains(r\"^Sent:\",regex=True) )]"
   ]
  },
  {
   "cell_type": "code",
   "execution_count": null,
   "metadata": {},
   "outputs": [],
   "source": [
    "pt = r\"^Reply-To:.*?(?=\\n\\n)\"\n",
    "pattern = re.compile(pt,flags=re.DOTALL|re.IGNORECASE|re.MULTILINE)\n",
    "df['text'] = df['text'].apply(lambda x: re.sub(pattern,\"\",x))\n",
    "\n",
    "pt = r'^(?:\\n)+'\n",
    "pattern = re.compile(pt,flags=re.DOTALL|re.IGNORECASE)\n",
    "df['text'] = df['text'].apply(lambda x: re.sub(pattern,\"\",x))"
   ]
  },
  {
   "cell_type": "code",
   "execution_count": null,
   "metadata": {},
   "outputs": [],
   "source": [
    "df = df[~(df['text'].str.contains(r\"^Reply-To:\",regex=True) )]\n",
    "df = df[~(df['text'].str.contains(r\"You have subscribed\",regex=True) )]\n",
    "df = df[~(df['text'].str.contains(r\"^--\",regex=True) )]"
   ]
  },
  {
   "cell_type": "code",
   "execution_count": null,
   "metadata": {},
   "outputs": [],
   "source": [
    "df = df[~(df['text'].str.contains(r\"^From -\",regex=True,flags=re.IGNORECASE) )]\n",
    "df = df[~(df['text'].str.contains(r\"^return-path\",regex=True,flags=re.IGNORECASE) )]"
   ]
  },
  {
   "cell_type": "code",
   "execution_count": null,
   "metadata": {},
   "outputs": [],
   "source": [
    "df = df[~(df['text'].str.contains(r\"^This multi-part\",regex=True,flags=re.IGNORECASE) )]"
   ]
  },
  {
   "cell_type": "code",
   "execution_count": null,
   "metadata": {},
   "outputs": [],
   "source": [
    "df = df[~(df['text'].str.contains(r\"message-id\",regex=True,flags=re.IGNORECASE) & df['text'].str.startswith('From ') )]"
   ]
  },
  {
   "cell_type": "code",
   "execution_count": null,
   "metadata": {},
   "outputs": [],
   "source": [
    "pt = r\"^Note: forwarded message attached.\"\n",
    "pattern = re.compile(pt,flags=re.DOTALL|re.IGNORECASE)\n",
    "df['text'] = df['text'].apply(lambda x: re.sub(pattern,\"\",x))\n",
    "\n",
    "pt = r'^(?:\\n)+'\n",
    "pattern = re.compile(pt,flags=re.DOTALL|re.IGNORECASE)\n",
    "df['text'] = df['text'].apply(lambda x: re.sub(pattern,\"\",x))"
   ]
  },
  {
   "cell_type": "code",
   "execution_count": null,
   "metadata": {},
   "outputs": [],
   "source": [
    "pt = r\"^Do you Yahoo.*?(?=\\n\\n)\"\n",
    "pattern = re.compile(pt,flags=re.DOTALL|re.IGNORECASE)\n",
    "df['text'] = df['text'].apply(lambda x: re.sub(pattern,\"\",x))\n",
    "\n",
    "pt = r'^(?:\\n)+'\n",
    "pattern = re.compile(pt,flags=re.DOTALL|re.IGNORECASE)\n",
    "df['text'] = df['text'].apply(lambda x: re.sub(pattern,\"\",x))"
   ]
  },
  {
   "cell_type": "code",
   "execution_count": null,
   "metadata": {},
   "outputs": [],
   "source": [
    "df = df[~(df['text'].str.contains(r\"^Do you Yahoo\",regex=True,flags=re.IGNORECASE) )]"
   ]
  },
  {
   "cell_type": "code",
   "execution_count": null,
   "metadata": {},
   "outputs": [],
   "source": [
    "pt = r\"^(?:(?:,|;)?(?:\\s|\\\\n)?[\\w\\.]+@[\\w\\.\\-]+)+.*?\\n\"     # Email Lists at the start of strings\n",
    "pattern = re.compile(pt,flags=re.DOTALL|re.IGNORECASE)\n",
    "df['text'] = df['text'].apply(lambda x: re.sub(pattern,\"\",x))\n",
    "\n",
    "pt = r'^(?:\\n)+'\n",
    "pattern = re.compile(pt,flags=re.DOTALL|re.IGNORECASE)\n",
    "df['text'] = df['text'].apply(lambda x: re.sub(pattern,\"\",x))"
   ]
  },
  {
   "cell_type": "code",
   "execution_count": null,
   "metadata": {},
   "outputs": [],
   "source": [
    "df = df[~(df['text'].str.contains(r\"^message-id\",regex=True,flags=re.IGNORECASE) )]\n",
    "df = df[~(df['text'].str.contains(r\"^return-path\",regex=True,flags=re.IGNORECASE) )]\n",
    "df = df[~(df['text'].str.contains(r\"^Reporting-MTA\",regex=True,flags=re.IGNORECASE) )]\n",
    "df = df[~(df['text'].str.contains(r\"does not like recipient\",regex=True,flags=re.IGNORECASE) )]\n",
    "df = df[~(df['text'].str.contains(r\"Hi. This is the qmail-send program\",regex=True,flags=re.IGNORECASE) )]"
   ]
  },
  {
   "cell_type": "code",
   "execution_count": null,
   "metadata": {},
   "outputs": [],
   "source": [
    "df = df[~(df['text'].str.contains(r\"mailbox has exceeded\",regex=True,flags=re.IGNORECASE) )]\n",
    "df = df[~(df['text'].str.contains(r\"This message could not be delivered\",regex=True,flags=re.IGNORECASE) )]"
   ]
  },
  {
   "cell_type": "code",
   "execution_count": null,
   "metadata": {},
   "outputs": [],
   "source": [
    "pt = r\"^In a message dated.*?writes:\\n\"\n",
    "pattern = re.compile(pt,flags=re.DOTALL|re.IGNORECASE)\n",
    "df['text'] = df['text'].apply(lambda x: re.sub(pattern,\"\",x))\n",
    "\n",
    "pt = r'^(?:\\n)+'\n",
    "pattern = re.compile(pt,flags=re.DOTALL|re.IGNORECASE)\n",
    "df['text'] = df['text'].apply(lambda x: re.sub(pattern,\"\",x))"
   ]
  },
  {
   "cell_type": "code",
   "execution_count": null,
   "metadata": {},
   "outputs": [],
   "source": [
    "df = df[~(df['text'].str.contains(r\"^<\\?xml version\",regex=True,flags=re.IGNORECASE) )]"
   ]
  },
  {
   "cell_type": "code",
   "execution_count": null,
   "metadata": {},
   "outputs": [],
   "source": [
    "pt = r\"^<\\?xml.*?>\"\n",
    "pattern = re.compile(pt,flags=re.DOTALL|re.IGNORECASE)\n",
    "df['text'] = df['text'].apply(lambda x: re.sub(pattern,\"\",x))\n",
    "\n",
    "pt = r'^(?:\\n)+'\n",
    "pattern = re.compile(pt,flags=re.DOTALL|re.IGNORECASE)\n",
    "df['text'] = df['text'].apply(lambda x: re.sub(pattern,\"\",x))"
   ]
  },
  {
   "cell_type": "code",
   "execution_count": null,
   "metadata": {},
   "outputs": [],
   "source": [
    "pt = r\"^xml\\-interest:.*?\\n\\n\"\n",
    "pattern = re.compile(pt,flags=re.DOTALL|re.IGNORECASE)\n",
    "df['text'] = df['text'].apply(lambda x: re.sub(pattern,\"\",x))\n",
    "\n",
    "pt = r'^(?:\\n)+'\n",
    "pattern = re.compile(pt,flags=re.DOTALL|re.IGNORECASE)\n",
    "df['text'] = df['text'].apply(lambda x: re.sub(pattern,\"\",x))"
   ]
  },
  {
   "cell_type": "code",
   "execution_count": null,
   "metadata": {},
   "outputs": [],
   "source": [
    "pt = r\"^xml\\-interest:.*?\\n\\n\"\n",
    "pattern = re.compile(pt,flags=re.DOTALL|re.IGNORECASE)\n",
    "df['text'] = df['text'].apply(lambda x: re.sub(pattern,\"\",x))\n",
    "\n",
    "pt = r'^(?:\\n)+'\n",
    "pattern = re.compile(pt,flags=re.DOTALL|re.IGNORECASE)\n",
    "df['text'] = df['text'].apply(lambda x: re.sub(pattern,\"\",x))"
   ]
  },
  {
   "cell_type": "code",
   "execution_count": null,
   "metadata": {},
   "outputs": [],
   "source": [
    "df = df[~(df['text'].str.contains(r\"^xml-interest\",regex=True,flags=re.IGNORECASE) )]\n",
    "df = df[~(df['text'].str.contains(r\"^--\",regex=True,flags=re.IGNORECASE) )]"
   ]
  },
  {
   "cell_type": "code",
   "execution_count": null,
   "metadata": {},
   "outputs": [],
   "source": [
    "pt = r\"^Importance:.*?\\n\"\n",
    "pattern = re.compile(pt,flags=re.DOTALL|re.IGNORECASE)\n",
    "df['text'] = df['text'].apply(lambda x: re.sub(pattern,\"\",x))\n",
    "\n",
    "pt = r'^(?:\\n)+'\n",
    "pattern = re.compile(pt,flags=re.DOTALL|re.IGNORECASE)\n",
    "df['text'] = df['text'].apply(lambda x: re.sub(pattern,\"\",x))"
   ]
  },
  {
   "cell_type": "code",
   "execution_count": null,
   "metadata": {},
   "outputs": [],
   "source": [
    "pt = r\"^Importance :.*?\\n\"\n",
    "pattern = re.compile(pt,flags=re.DOTALL|re.IGNORECASE)\n",
    "df['text'] = df['text'].apply(lambda x: re.sub(pattern,\"\",x))\n",
    "\n",
    "pt = r'^(?:\\n)+'\n",
    "pattern = re.compile(pt,flags=re.DOTALL|re.IGNORECASE)\n",
    "df['text'] = df['text'].apply(lambda x: re.sub(pattern,\"\",x))"
   ]
  },
  {
   "cell_type": "code",
   "execution_count": null,
   "metadata": {},
   "outputs": [],
   "source": [
    "df = df[~(df['text'].str.contains(r\"^Importance:\",regex=True,flags=re.IGNORECASE) )]\n",
    "df = df[~(df['text'].str.contains(r\"^(?:>)?received:\",regex=True,flags=re.IGNORECASE) )]"
   ]
  },
  {
   "cell_type": "code",
   "execution_count": null,
   "metadata": {},
   "outputs": [],
   "source": [
    "pt = r\"^(?:>)*x-mailer:.*?\\n\"\n",
    "pattern = re.compile(pt,flags=re.DOTALL|re.IGNORECASE)\n",
    "df['text'] = df['text'].apply(lambda x: re.sub(pattern,\"\",x))\n",
    "\n",
    "pt = r'^(?:\\n)+'\n",
    "pattern = re.compile(pt,flags=re.DOTALL|re.IGNORECASE)\n",
    "df['text'] = df['text'].apply(lambda x: re.sub(pattern,\"\",x))\n",
    "df = df[~(df['text'].str.contains(r\"^(?:>)*x-mailer:\",regex=True,flags=re.IGNORECASE) )]"
   ]
  },
  {
   "cell_type": "code",
   "execution_count": null,
   "metadata": {},
   "outputs": [],
   "source": [
    "pt = r\"^content-type:.*?\\n\"\n",
    "pattern = re.compile(pt,flags=re.DOTALL|re.IGNORECASE)\n",
    "df['text'] = df['text'].apply(lambda x: re.sub(pattern,\"\",x))\n",
    "\n",
    "pt = r'^(?:\\n)+'\n",
    "pattern = re.compile(pt,flags=re.DOTALL|re.IGNORECASE)\n",
    "df['text'] = df['text'].apply(lambda x: re.sub(pattern,\"\",x))\n",
    "df = df[~(df['text'].str.contains(r\"^content-type\",regex=True,flags=re.IGNORECASE) )]\n",
    "df = df[~(df['text'].str.contains(r\"^boundary\",regex=True,flags=re.IGNORECASE) )]"
   ]
  },
  {
   "cell_type": "code",
   "execution_count": null,
   "metadata": {},
   "outputs": [],
   "source": [
    "pt = r\"^charset=.*?\\n\"\n",
    "pattern = re.compile(pt,flags=re.DOTALL|re.IGNORECASE)\n",
    "df['text'] = df['text'].apply(lambda x: re.sub(pattern,\"\",x))\n",
    "\n",
    "pt = r'^(?:\\n)+'\n",
    "pattern = re.compile(pt,flags=re.DOTALL|re.IGNORECASE)\n",
    "df['text'] = df['text'].apply(lambda x: re.sub(pattern,\"\",x))"
   ]
  },
  {
   "cell_type": "code",
   "execution_count": null,
   "metadata": {},
   "outputs": [],
   "source": [
    "df = df[~(df['text'].str.contains(r\"^charset=\",regex=True,flags=re.IGNORECASE) )]\n",
    "df = df[~(df['text'].str.contains(r\"^--\",regex=True,flags=re.IGNORECASE) )]"
   ]
  },
  {
   "cell_type": "code",
   "execution_count": null,
   "metadata": {},
   "outputs": [],
   "source": [
    "pt = r\"^content-.*?\\n\"\n",
    "pattern = re.compile(pt,flags=re.DOTALL|re.IGNORECASE)\n",
    "df['text'] = df['text'].apply(lambda x: re.sub(pattern,\"\",x))\n",
    "\n",
    "pt = r'^(?:\\n)+'\n",
    "pattern = re.compile(pt,flags=re.DOTALL|re.IGNORECASE)\n",
    "df['text'] = df['text'].apply(lambda x: re.sub(pattern,\"\",x))"
   ]
  },
  {
   "cell_type": "code",
   "execution_count": null,
   "metadata": {},
   "outputs": [],
   "source": [
    "df = df[~(df['text'].str.contains(r\"^content-\",regex=True,flags=re.IGNORECASE) )]"
   ]
  },
  {
   "cell_type": "code",
   "execution_count": null,
   "metadata": {},
   "outputs": [],
   "source": [
    "pt = r\"This message is in MIME format. Since your mail reader does not understand\\nthis format, some or all of this message may not be legible.*?\\n\"\n",
    "pattern = re.compile(pt,flags=re.DOTALL|re.IGNORECASE)\n",
    "df['text'] = df['text'].apply(lambda x: re.sub(pattern,\"\",x))\n",
    "\n",
    "pt = r'^(?:\\n)+'\n",
    "pattern = re.compile(pt,flags=re.DOTALL|re.IGNORECASE)\n",
    "df['text'] = df['text'].apply(lambda x: re.sub(pattern,\"\",x))"
   ]
  },
  {
   "cell_type": "markdown",
   "metadata": {},
   "source": [
    "# WIP"
   ]
  },
  {
   "cell_type": "code",
   "execution_count": null,
   "metadata": {},
   "outputs": [],
   "source": [
    "# Responding to\n",
    "# Note from"
   ]
  },
  {
   "cell_type": "code",
   "execution_count": null,
   "metadata": {},
   "outputs": [],
   "source": [
    "test_list = df['text']\n",
    "test_list = test_list.tolist()\n",
    "test_list.sort()"
   ]
  },
  {
   "cell_type": "code",
   "execution_count": null,
   "metadata": {},
   "outputs": [],
   "source": [
    "test_list"
   ]
  },
  {
   "cell_type": "code",
   "execution_count": 12,
   "metadata": {},
   "outputs": [],
   "source": [
    "#test = df[(df['text'].str.contains(r\"^[\\w]+@[\\w\\.\\-]+\\.\\w{2,3}\\n\",regex=True))]['text']\n",
    "test = df[(df['text'].str.contains(r\"from:.*?>$\",regex=True,flags=re.IGNORECASE|re.MULTILINE) )]['text']"
   ]
  },
  {
   "cell_type": "code",
   "execution_count": null,
   "metadata": {},
   "outputs": [],
   "source": [
    "pt = r\"This message is in MIME format. Since your mail reader does not understand\\nthis format, some or all of this message may not be legible.*?\\n\"\n",
    "pattern = re.compile(pt,flags=re.DOTALL|re.IGNORECASE)\n",
    "test_res = test.apply(lambda x: re.sub(pattern,\"\",x))\n",
    "\n",
    "pt = r'^(?:\\n)+'\n",
    "pattern = re.compile(pt,flags=re.DOTALL|re.IGNORECASE)\n",
    "test_res = test_res.apply(lambda x: re.sub(pattern,\"\",x))"
   ]
  },
  {
   "cell_type": "code",
   "execution_count": 13,
   "metadata": {},
   "outputs": [
    {
     "data": {
      "text/plain": [
       "761"
      ]
     },
     "execution_count": 13,
     "metadata": {},
     "output_type": "execute_result"
    }
   ],
   "source": [
    "len(test)"
   ]
  },
  {
   "cell_type": "code",
   "execution_count": 14,
   "metadata": {},
   "outputs": [
    {
     "name": "stdout",
     "output_type": "stream",
     "text": [
      "'Class newClass =\\nClass.forName(\"oracle.jdbc.driver.OracleDriver\").newInstance();\\n\\n\\n\\n\\n\\n>From: Ravi N <ravi.nallakukalla@WIPRO.COM>\\n>Reply-To: A mailing list about Java Server Pages specification and\\n>     reference <JSP-INTEREST@java.sun.com>'\n",
      "'Hi Ramesh,\\nI can suggest you some good policies.\\n1. Use BufferedStreams to write to the file.\\n2. You can use threads to allow the main servlet to do something while\\nthings are being written.\\n3. You can make the Query faster using PreparedStatements.\\n\\nHope this would be of some help.\\n\\nBye,\\nJiger\\n\\n\\n\\n>From: \"Ramesh, Kesav\" <kesav.ramesh@EDS.COM>\\n>Reply-To: \"A mailing list for discussion about Sun Microsystem\\'s Java\\n>        Servlet API Technology.\" <SERVLET-INTEREST@java.sun.com>'\n",
      "\"which jdk is installed on the red hat box?  i think it usually defaults to\\nthe kaffe jre, which means that when you invoke 'java' or 'javac' you are\\nactually invoking 'kaffe'.  i dont think that is jdk1.2 compliant (i may be\\nwrong).\\n\\ndownload jdk1.2.2 rc4 from blackdown.org, install it, and then edit the link\\nfile 'java' in (i believe) /usr/bin/.  change it to point to .java_wrapper\\nin the jdk directory and you should be set.\\n\\n\\n>From: Chris Probert <chris@ETS-EDI.CO.UK>\\n>Reply-To: A mailing list about Java Server Pages specification and\\n>     reference <JSP-INTEREST@java.sun.com>\"\n",
      "'Try JRun. It is great.\\n\\n>From: Sudheendra Hebbagilu <sudheendra@INSAGE.COM>\\n>Reply-To: A mailing list about Java Server Pages specification and\\n>     reference <JSP-INTEREST@java.sun.com>'\n",
      "'> >\\n> >How do I do it? Please explain to me. Thanks\\n> >\\n> >Shirley\\n> >\\n> >\\n> > >From: Justin Owens <justin@EOVISION.COM>\\n> > >Reply-To: A mailing list about Java Server Pages\\nspecification and\\n> > >     reference <JSP-INTEREST@java.sun.com>'\n",
      "'Go for Tomcat. Supports both servlets and JSP.\\n\\n\\n>From: DUY HA <tidenbz@YAHOO.COM>\\n>Reply-To: A mailing list about Java Server Pages specification and\\n>     reference <JSP-INTEREST@java.sun.com>'\n",
      "'I have used both dreamweaver 3.0 and homesite 4.5.1\\n\\nHomesite is better suited for JSP. I also use forte as a JSP editor.\\n\\nHonestly I use both Forte and Homesite for my JSP editing. I used Homesite\\nfor when I am editing my web site. However, since I spend alot of time\\nbuilding Java Beans , I build my beans from Forte, and when Forte is open,\\ninstead of opening Homesite, I just edit my JSP pages straight from the\\nForte editor.\\n\\nThe JSP tools are still in earlier development and from all I have seen.\\nThere is no killer APP or IDE for JSP yet.\\n\\nCasey Kochmer\\nwww.jspinsider.com\\n\\n\\n>From: \"Menard, Demetria\" <DMenard@CORAL-ENERGY.COM>\\n>Reply-To: A mailing list about Java Server Pages specification and\\n>     reference <JSP-INTEREST@java.sun.com>'\n",
      "'Jaspreet,\\n\\nTry\\nhttp://jakarta.apache.org/tomcat/jakarta-tomcat/src/doc/NT-Service-howto.html\\n\\nCraig\\n\\n\\n>From: jaspreet <jsingh@IISINCORP.COM>\\n>Reply-To: A mailing list about Java Server Pages specification and\\n>     reference <JSP-INTEREST@java.sun.com>'\n",
      "'> >\\n> > > Please tell me this is a joke... and if it\\'s not, please let the\\nentire\\n> >list\\n> > > know which site this is, so we can avoid it.\\n> > >\\n> > > 1) Deciding that JSP and JSP alone is all you\\'ll use is typically a\\nBad\\n> > > Idea. The existence of JSP implies an array of resources. Use them.\\n(And\\n> > > yes, I\\'ve made this mistake myself.)\\n> > >\\n> > > 2) Access is a stupid, stupid, stupid idea for any kind of reliable\\n> > > database. In addition, the JDBC drivers for it tend to.. um... suck.\\n> > >\\n> > > You should really look at using J2EE the way it\\'s meant to be used.\\nThis\\n> > > kind of \"I\\'ll port straight from ASP!\" approach gives JSP - and you -\\na\\n> >bad\\n> > > reputation, undeservedly.\\n> > >\\n> > > >From: Ruaidhrí Fernandes <ruaidhri_fernandes@YAHOO.COM>\\n> > > >Reply-To: A mailing list about Java Server Pages specification and\\n> > > >     reference <JSP-INTEREST@java.sun.com>'\n",
      "\"You're doing too much work. The HTTP protocol allows authentication and\\nportable than a hand-written solution.\\n\\nDon't store user/pass in sessions!\\n\\n\\n>From: CJ Smessaert <cj@IGNITIONSTATE.COM>\\n>Reply-To: A mailing list about Java Server Pages specification and\\n>     reference <JSP-INTEREST@java.sun.com>\"\n",
      "'There is 1 message in this issue.\\n\\nTopics in this digest:\\n\\n1. Re: Message from Gyan Jyoti Foundation\\nFrom: \"Rakesh Mathur\" <rakesh@itil.com.au>'\n",
      "'Hi, I used Tomcat and jdk1.3, and I am sure I have JAVAX API, its path is:\\n\\n\\nC:\\\\Program Files\\\\Apache\\nGroup\\\\jakarta-tomcat-3.2.1\\\\webapps\\\\ROOT\\\\docs\\\\api\\\\javax\\\\servlet\\n\\nwhat is JSDK2.2 and why I need it?\\n\\nthanks.\\n\\ncoco\\n\\n>From: Srinivas Haran <SrinivasHaran@FIRSTHEALTH.COM>\\n>Reply-To: \"A mailing list for discussion about Sun Microsystem\\'s Java\\n>        Servlet API Technology.\" <SERVLET-INTEREST@java.sun.com>'\n",
      "\">From: Andrew Hunt <andy@toolshed.com>\\n\\n>Many of the project management failures that I've\\n>personally witnessed as of late stem from a mismatch of\\n>expectations between the team and their management, so I\\n>think enumerating the rights and responsibilties of all\\n>concerned is a great idea.\\n>\\n\\nOoh - real examples! Would you be willing to sketch out a few of these?\\n\"\n",
      "'I am sorry it is an 500 - Internal Server Error that is gives.\\n\\n>From: Hari G Puthalapat <haripg29@HOTMAIL.COM>\\n>Reply-To: A mailing list about Java Server Pages specification and\\n>     reference <JSP-INTEREST@java.sun.com>'\n",
      "'> >\\n> > > <%! declares variable at class level while <% declares variable at\\n> service\\n> > > method level.  Therefore, <%! variables are shared by all clients\\n> > accessing\\n> > > page and need to be made thread safe ect, but <% variables will only\\nbe\\n> > > access in the scope of a single request.\\n> > >\\n> > >\\n> > > >From: Ashish Bhatia <AshishB@NIIT.COM>\\n> > > >Reply-To: A mailing list about Java Server Pages specification and\\n> > > >     reference <JSP-INTEREST@java.sun.com>'\n",
      "'> right out of the document\\n>\\n> \"IIS first searches it for any ASP script. If there is none, the file is\\n> treated as a normal .HTM file and sent directly to the browser.\"\\n>\\n>\\n>\\n>\\n> >From: Shrisha Radhakrishna <shrisha_radhakrishna@YAHOO.COM>\\n> >Reply-To: A mailing list about Java Server Pages specification and\\n> >     reference <JSP-INTEREST@java.sun.com>'\n",
      "'You can do this with HTML/javascript; thus, JSP is a valid solution. You\\nshould use applets, IMHO, only when HTML and/or javascript simply cannot\\nsuffice, which is rarer than you might think.\\n\\n\\n>From: Andy Oei <Andy.Oei@MARCONI.COM>\\n>Reply-To: A mailing list about Java Server Pages specification and\\n>     reference <JSP-INTEREST@java.sun.com>'\n",
      "'X-eGroups-From: michaelkenny <michaelkenny@onetelnet.ch>\\nContent-Type: text/plain; charset=US-ASCII\\nContent-Transfer-Encoding: 7bit'\n",
      "'I think you have some confusion.\\n\\nJsp is server side script, so you cant directly modify behavior of form\\nelements, you need to use html,javascript and dhtml to do that with.\\n\\nYou can choose to ignore the changed value and reset it back from the jsp.\\nBut that isnt what you want.\\n\\nBut if you want a non editable form field it would be better to build a\\npseudo field based on a table / borders or something similiar. Or use\\njavascript to make value unchanging. But JSP cannot change the way HTML\\nworks while on the client, IT can generate the output, but after\\nthat , you\\nmust use the client side tools in your tool kit\\n\\nCasey Kochmer\\nwww.jspinsider.com\\n\\n>From: Anup Vachali <avachali@FREYA.CORP.FEDEX.COM>\\n>Reply-To: A mailing list about Java Server Pages specification and\\n>     reference <JSP-INTEREST@java.sun.com>'\n",
      "\"check out the following 2 sites:\\n\\nhttp://ourworld.compuserve.com/homepages/Ken_North/jdbcvend.htm\\n\\nand\\n\\nhttp://industry.java.sun.com/products/jdbc/drivers\\n\\nThese are the 2 best driver lists I have found.\\n\\nOf course dont expect to find any from microsoft. For some strange reason\\nBill doesn't like his people building JDBC drivers.\\n\\nCasey Kochmer\\nwww.jspinsider.com\\n\\n\\n>From: sufi malak <sufi_m@HOTMAIL.COM>\\n>Reply-To: A mailing list about Java Server Pages specification and\\n>     reference <JSP-INTEREST@java.sun.com>\"\n",
      "'Thanks for your help,\\n\\nok, now in the browser which port should I go, the apache one or the JRun\\none, I meant :\\nlocalhost:80/...\\nor\\nlocalhost:8100/...\\nThanks again.\\n\\n>From: Amy Wan <AmyW@MEGASTATION.COM>\\n>Reply-To: A mailing list about Java Server Pages specification and\\n>     reference <JSP-INTEREST@java.sun.com>'\n",
      "'HI Nic,\\nThanks for the explanation it was great. Yes tomcat was giving me\\nback 302 found. But one more thing. I had wrote a Server long time ago which\\njust printed the request a browser sends (to see the headers etc) when I\\nused that with IE. I received the request from IE (which was printed on\\nServers console) & then I wrote back a 302 Found response back to IE so that\\nnow it should send a second response its it. But it didnt send any response\\nthe second time.\\nWhy was it so.\\n\\nThanks for the explanation once again.\\n\\nBye,\\nJiger\\n\\n\\n>From: Nic Ferrier <nferrier@TAPSELLFERRIER.CO.UK>\\n>Reply-To: \"A mailing list for discussion about Sun Microsystem\\'s Java\\n>        Servlet API Technology.\" <SERVLET-INTEREST@java.sun.com>'\n",
      "\"Bzzt! You miss out on the 10 points being offered for the right answer to\\nthis question. However, you get 150 points for telling him the right thing\\nto do regardless.\\n\\nChances are he's got extraneous newlines being written before the file is\\nbeing spooled. However... one wonders why he didn't jsut provide a mapping\\nto the text file anyway, or if it's not text, why he's using JSP at all\\ninstead of a servlet.\\n\\n>From: Hardeep Singh <hardeep.singh@IN.VELOCIENT.COM>\\n>Reply-To: A mailing list about Java Server Pages specification and\\n>     reference <JSP-INTEREST@java.sun.com>\"\n",
      "'Thanks.\\nThat solved my problem.\\n\\nJim,\\n\\n\\n>From: \"Craig R. McClanahan\" <Craig.McClanahan@ENG.SUN.COM>\\n>Reply-To: A mailing list about Java Server Pages specification and\\n>     reference <JSP-INTEREST@java.sun.com>'\n",
      "'> Hi\\n>      IIS doent support servlets i suppose.. it needs an iPlanet Web server\\n> or java web server for running servlets .. and JSP..\\n> hope this helps..\\n> bye\\n> sudhakar\\n>\\n> >From: VEDA <vedanajy@CHENNAI.TCS.CO.IN>\\n> >Reply-To: A mailing list about Java Server Pages specification and\\n> >     reference <JSP-INTEREST@java.sun.com>'\n",
      "\"Nipa:\\nHey! I'm in Miami this weekend. Will be back tomorrow - will catch up with\\nyou after that!\\nPadma\\n\\n>From: nipa diwanji-sheth <nipa_sheth@yahoo.com>\\n>Reply-To: zingari@ecircles.com\"\n",
      "'Comments: To: JSP-INTEREST@www.javasoft.com\\nTo: JSP-INTEREST@www.javasoft.com\\n\\nMany thanks to Jim Preston!\\n\\nTom\\n\\n\\n>From: Jim Preston <jpreston@STOCKMASTER.COM>\\n>Reply-To: A mailing list about Java Server Pages specification and\\n>     reference <JSP-INTEREST@java.sun.com>'\n",
      "\"> Interesting that nobody mentioned the performance of PHP vs JSP.\\n> On a JSP list, could that be because JSP doesn't measure up as far as\\nperformance goes?\\n>\\n> We all have opinions but anybody have a more objective statement about it?\\n>\\n> Tony\\n>\\n> > You will probably be able to get away with much more lax\\n> > designs in PHP than\\n> > you will with JSP. I'm not saying that you WILL design more\\n> > poorly in PHP,\\n> > but that PHP doesn't really make you think about issues that\\n> > JSP more or\\n> > less guides you in.\\n> >\\n> > I don't really consider that a strength for PHP.\\n> >\\n> >\\n> > >From: Irfan Mohammed <IrfanM@IISWEB.COM>\\n> > >Reply-To: A mailing list about Java Server Pages specification and\\n> > >     reference <JSP-INTEREST@java.sun.com>\"\n",
      "'Yes i understand that i have to bring only 100 records to client , but\\nwhen the client wants next 100 records from where will I get them on the\\nserver(i can find them only if i saved them somewhere on my server ), only\\nway is to requery the database and that is even more expensive in my case\\nbecuse iam using 3 tier system, so everytime goin back to database server\\nis\\nvery expensive.\\nregards\\nkaran\\n\\n>From: Selvamani Jayakumar <maniyengar@HOTMAIL.COM>\\n>Reply-To: A mailing list about Java Server Pages specification and\\n>     reference <JSP-INTEREST@java.sun.com>'\n",
      "'Excellent Idea :)  Thanks :)  Rita\\n\\n\\n>From: \"Luis Ignacio (Nacho) Nava\" <nachoice@RICOCHET.NET>\\n>Reply-To: Magic Cap Discussion List <MAGICCAP@LISTSERV.BROWN.EDU>'\n",
      "\"> > where is the wbpsimulator?\\n> >\\n> > I can't find it in sourcesafe...\\n> >\\n> > Thanks.\\n> >\\n> > Mark\\n> >\\n> > -----Original Message-----\\n> > From: amitabhsinha@mindspring.com <mailto:amitabhsinha@mindspring.com>\\n[\\n> > mailto:amitabhsinha@mindspring.com\\n<mailto:amitabhsinha@mindspring.com> ]\"\n",
      "'> Forget about Taglib....I am not able to run the simple hello world\\n> program.... I am now really frustrated.... I dont know whether it has got\\nto\\n> do with classpath settings... can anyone tell me what should be the\\nclaspath\\n> settings...I think that is the only thing I need to check again now..\\n>\\n>\\n> >From: Marco M <Marco.Mistroni@NOKIA.COM>\\n> >Reply-To: A mailing list about Java Server Pages specification and\\n> >     reference <JSP-INTEREST@java.sun.com>'\n",
      "\"Don't do this. This is not an application-level problem; this is a\\ncontainer-level problem, and as such, whatever server you're using is\\nresponsible for handling user logins. Doing it manually is easy, but wrong.\\n\\n\\n>From: Thuy Murphy <thuymurphy@HOTMAIL.COM>\\n>Reply-To: A mailing list about Java Server Pages specification and\\n>     reference <JSP-INTEREST@java.sun.com>\"\n",
      "'Hi,\\n\\nI would make some suggestions. One instead of casting your object\\ninto a string\\n>(java.lang.String) valueAtColumnRow(BV_NBR_COLUMN, index);\\n\\nI find it easier to convert the data straight to a string when\\ngetting the object data from the sql statement\\n\\nso for example:\\nyour_recordset.getObject(1).toString()\\n\\nOf course this won\\'t work if you need to use the data element as other\\nthan a string, but most of the time in a JSP you really only care about\\nthe string representation of the data.\\n\\nOn the actual problem\\nI would trim the data and check after the trim. If that doesn\\'t work\\nliterally print out the values of each to the screen side by side and double\\ncheck what you have is actually what you think it is.\\n\\nCasey Kochmer\\n\\n\\n\\n\\n\\n>From: \"Jay H. Lang\" <jay@TPMQ-EXPERTS.COM>\\n>Reply-To: A mailing list about Java Server Pages specification and\\n>     reference <JSP-INTEREST@java.sun.com>'\n",
      "'Look at the sequel statement and there check the syntax.I had a nightmarinsh\\nexperience with JWS and Oracle driver due to a small syntax error.If you\\nhave the correct catch block with print statements there it will neatly\\nprint the exact error number ORA-- error.That helped me to identify where\\nthe lapse is.\\nHope this is useful to you.\\nSrinivas\\n\\n\\n>From: Visakh Menon <chandumenon@HOTMAIL.COM>\\n>Reply-To: A mailing list about Java Server Pages specification and\\n>     reference <JSP-INTEREST@java.sun.com>'\n",
      "'There is 1 message in this issue.\\n\\nTopics in this digest:\\n\\n1. Is there any one who knows email ids of Pawan Tyagi and Vinay Paliya?\\nFrom: Amit Agrawal <amit_agr@yahoo.com>'\n",
      "'>\\n> Thanks for replying.  But my boss insists that I\\nuse array because vector\\n> costs more memory and time.\\n>\\n>\\n>\\n> >From: Shawn Zhu <Shawn.Zhu@MEDEM.COM>\\n> >Reply-To: A mailing list about Java Server Pages\\nspecification and\\n> >     reference <JSP-INTEREST@java.sun.com>'\n",
      "\"I am so sorry, I did not mean to create a kind discussion, But I am still\\nconsidering myself newbie, it's not easy to learn everything at once, and I\\nam doing JSP, javascript, beans with JRUN, all of them are new for me, but\\nasking questions from everybody here in this list because I want to learn\\nand find solution to my problems, please if anybody fell that I am bothering\\nhim or her reply and say it, and then I will quit posting in this list.\\nThanks\\n\\n\\n>From: Chandhan Rangarajan <chandhan.rangarajan@LINCMEDIA.CO.JP>\\n>Reply-To: A mailing list about Java Server Pages specification and\\n>     reference <JSP-INTEREST@java.sun.com>\"\n",
      "'What if you use Node.getParentNode that returns a Node Object, and then you\\nwill have access to the parent properties.\\n\\nJoubin\\n\\n\\n>From: Majak Tomas <Tomas.Majak@SPEEDYTOMATO.NET>\\n>Reply-To: XML technologies in the Java Platform <XML-INTEREST@java.sun.com>'\n",
      "'There are 2 messages in this issue.\\n\\nTopics in this digest:\\n\\n1. Re: Is it not an Insult?\\n2. Re: Is it not an Insult?\\nFrom: sureshv <sureshv@qualcomm.com>'\n",
      "'> *sigh* This again.\\n>\\n> I think you\\'re being overly sensitive on someone else\\'s\\nbehalf. I didn\\'t\\nsay\\n> he was a moron. Maybe I should have, but I was giving him\\nthe benefit of\\nthe\\n> doubt. If you read what I said, you\\'ll see that I indicated\\nthat he didn\\'t\\n> want to have a bad reputation undeservedly. If you can\\nfigure out how to\\n> read between the lines, and back off from your\\napparently-chosen stance of\\n> \"Everybody\\'s so INSULTING!\", you\\'d see that I was giving\\nhim the benefit\\nof\\n> the doubt.\\n>\\n> >From: King Maurice <maurice@ALLTECHNEEDS.COM>\\n> >Reply-To: A mailing list about Java Server Pages specification and\\n> >     reference <JSP-INTEREST@java.sun.com>'\n",
      "'Thanks a lot.It worked.\\n\\nRaj\\n\\n\\n>From: Shiraz Wasim Zaidi <swzaidi@FLASH.NET>\\n>Reply-To: A mailing list about Java Server Pages specification and\\n>     reference <JSP-INTEREST@java.sun.com>'\n",
      "'You must have your files under your classes subdirectory in WEB-INF.  For\\nexample if you have a directory (lets say myDirectory) where you have all\\nyour .jsp .html etc files then all the class files must be inside the\\nmyDirectory/WEB-INF/classes. In your case it must be something like:\\nmyDirectory/WEB-INF/classes/dates/JspCalendar. As you can see the packet\\nalso goes into the classes subdirectory.\\nAlso make sure that all the classpaths are configured properly.\\nHope this helps.\\n\\nPanos\\n\\n\\n>From: \"YI,LI (HP-USA,ex1)\" <li_yi@HP.COM>\\n>Reply-To: A mailing list about Java Server Pages specification and\\n>     reference <JSP-INTEREST@java.sun.com>'\n",
      "\"Thanks for the response though your answer didn't help me much. It started\\nworking after I put oracle.jar file under classpath in jrun's jsm.properties\\nfile. But now I have another issue. I'm able to run servlets, access\\ndatabase, read and write from database. but in one particular servlet,\\nnetscape is throwing the infamous 'Document contains no data' error. I\\nthought It would be some database connection problem. but since my other\\nservlets are running perfectly (using the same DB connection classes) it\\ncan't be JDBC problem, right ? When all we usually get this 'Document\\ncontains no data' error ? Any help appreciated.\\n\\nVis..\\n\\n\\n>From: mahesh bapu <mbapu@USA.NET>\\n>Reply-To: A mailing list about Java Server Pages specification and\\n>     reference <JSP-INTEREST@java.sun.com>\"\n",
      "'I found a solution that makes the file work, just I\\nused int instead of\\nString, but I am still wandering why it did not work\\nusing String, please I\\nwill appreciate any further explaination.\\nThanks\\n\\n\\n>From: sufi malak <sufi_m@HOTMAIL.COM>\\n>Reply-To: A mailing list about Java Server Pages\\nspecification and\\n>     reference <JSP-INTEREST@java.sun.com>'\n",
      "'u meanie!!! neway guys neone interested in that drama \"shaadi@barbaadi.com\"?\\nlemme know so i can try to get some tix.\\n\\n\\n>\\n>Namrate... Shant balike shant... tumhari uttejana\\n>badi hi swabahvik hai. Badi kathur sadhana ke baad tum\\n>ne len-den ka prashna suljhaya.\\n>\\n>Yeh to matra eak prayas tha tumhe yaha batane ka, ki\\n>tumhari sadhana kitni vifal hoti agar hum me se koi\\n>bhi nishan chuk jaata..... Wah, Arjun wah..... ;)\\n>\\n>Just kidding babe, you did good.\\n>\\n>GL = General ledger. You will have to do double\\n>entry book-keeping first.\\n>\\n>ciao,\\n>\\t--- hiten patel.\\n>\\n> >From: \"Namrata Vora\" <namrata_v@hotmail.com>\\n> >Reply-To: zingaris@yahoogroups.com'\n",
      "'See the security package.\\n\\n>From: Raghu Movva <movvaraghu@HOTMAIL.COM>\\n>Reply-To: A mailing list about Java Server Pages specification and\\n>     reference <JSP-INTEREST@java.sun.com>'\n",
      "'Thanx Ron n Gunaseelan\\nresult.next() solved the problem\\n\\nRegards\\nSanjay\\n\\n>From: Gunaseelan Nagarajan <jsp_naga@YAHOO.COM>\\n>Reply-To: A mailing list about Java Server Pages specification and\\n>     reference <JSP-INTEREST@java.sun.com>'\n",
      "'> It seemes the compiler did not find your JDBC driver. You are using\\n> JDBC:ODBC, then use\"Class.forName(\"jdbc:odbc:JdbcOdbcDriver\")\". It is in the\\n> java.sql package.\\n> good luck\\n>\\n> >From: JEANCHG <scchiang@DIGI-AGE.COM.TW>\\n> >Reply-To: A mailing list about Java Server Pages specification and\\n> >     reference <JSP-INTEREST@java.sun.com>'\n",
      "'Jai SrimanNarayana\\nThere are 5 messages in this issue.\\n\\nTopics in this digest:\\n\\n1. A Very Inspiring Song\\n2. Acharya\\'s unique and unparallel role - More Answers.....Note2.\\n3. melbourne dhanurmaasa mahotsavamulu\\n4. qualities of an acharya\\n5.\\nFrom: \"padmakant khambhati\" <padma1k@hotmail.com>'\n",
      "'http is a stateless disconnect protocol.  The browser requests resource from\\nserver, server replies, connection is then disconnected.  If you want the\\nserver to pass another html file to the client with the new time, you have\\nto request the resource again (can be done automatically thru javascript),\\nor, instead of getting info from server side, you can do work on client side\\nwith javascript instead (then you would not be displaying server time\\nthough).\\n\\n\\n>From: Henki Lubis <hlubis@BALICAMP.COM>\\n>Reply-To: A mailing list about Java Server Pages specification and\\n>     reference <JSP-INTEREST@java.sun.com>'\n",
      "'you can keep your EJB classes anywhere but the complete class name (i.e.\\nwith package) should be given, if you can help me just help me that while\\ndeploying i am getting error that set up working directory what it means and\\nhow to come out of it.\\n\\n>From: Khan Kamran <Kamran.Khan@CHURCHILL.COM>\\n>Reply-To: A mailing list about Java Server Pages specification and\\n>     reference <JSP-INTEREST@java.sun.com>'\n",
      "'There is a directory called classes which gets created by default when u\\ninstall Java WebServer.You dont have to declae it in the classpath if u r\\nplacing it in the classes directory\\n\\nThe other option is to put ur bean directory name in the classpath n include\\nit in ur JSP file by usine the JSP:INCLUDE tag\\n\\nHope this helps\\nSanjay\\n\\nThe other\\n>From: Paras Sharma <paras_sharma@USA.NET>\\n>Reply-To: A mailing list about Java Server Pages specification and\\n>     reference <JSP-INTEREST@java.sun.com>'\n",
      "'Try this:\\nresponse.setHeader(\"Pragma\", \"no-cache\");\\nresponse.setHeader( \"Cache-Control\",\"no-cache\" );\\nresponse.setHeader( \"Cache-Control\",\"no-store\" );\\nresponse.setDateHeader( \"Expires\", 0 );\\nin a JSP page.\\n\\nIt works on our pages using either IE 4x or NN 4x or higher.  Maybe the\\ndifference is the response.setDateHeader() statement, or it could be your\\nJSP engine.\\nWe\\'re using iPlanet 4.1 web server for our JSP engine.\\n\\nGood luck.\\n\\nJeffrey\\n\\n>From: Manish Bhatnagar <manish@ACCORD-PRODUCTS.COM>\\n>Reply-To: A mailing list about Java Server Pages specification and\\n>     reference <JSP-INTEREST@java.sun.com>'\n",
      "'Hi\\nIf your form action is set to post then the query string will not be\\nappended to the url. so you will just see www.yoursite.com not\\nwww.yoursite.com?name=harry&age=23.....\\n\\nDamien\\n\\n\\n>From: Manish <manish@OPTECHSOLUTIONS.COM>\\n>Reply-To: A mailing list about Java Server Pages specification and\\n>     reference <JSP-INTEREST@java.sun.com>'\n",
      "'here i feel the ul has a parameter passed through out which has a seperate\\nid info for each instance. i.e each instance of browser will have a seperate\\nid irrespective of it being IE or Netscape\\n\\nsandarbh\\n\\n\\n>From: Bhavesh Vakil <java_quest2001@YAHOO.COM>\\n>Reply-To: A mailing list about Java Server Pages specification and\\n>     reference <JSP-INTEREST@java.sun.com>'\n",
      "'> >\\n> >I am still struggling with the same problem, could you please tell me\\nwhy\\n> >is\\n> >this error :\\n> >javax.servlet.ServletException: java.sql.SQLException: Column not found:\\n> >Unknown column \\'Big\\' in \\'where clause\\'\\n> >\\n> >The code is like this :\\n> ><sql:query>\\n> >     select * from description where name = <%=\\n> >request.getParameter(\"name\")\\n> >%>\\n> >   </sql:query>\\n> >\\n> >Thanks\\n> >\\n> >\\n> > >From: sufi malak <sufi_m@HOTMAIL.COM>\\n> > >Reply-To: A mailing list about Java Server Pages specification and\\n> > >     reference <JSP-INTEREST@java.sun.com>'\n",
      "'There is 1 message in this issue.\\n\\nTopics in this digest:\\n\\n1. Why Agra Summit Failed???\\nFrom: Prashant Sethia <psethia@lsil.com>'\n",
      "'a Typical No Argument constructor\\n\\npublic DbBean()\\n{\\n\\nSanjay\\n\\n>From: Veena <veenak@WISOR.COM>\\n>Reply-To: A mailing list about Java Server Pages specification and\\n>     reference <JSP-INTEREST@java.sun.com>'\n",
      "'Thanks Dominic. It works if I put xml in tomcat_home/bin.\\n\\nPeter\\n\\n\\n>From: \"Dominic O\\'Reirdan\" <doreirdan@CW.NET>\\n>Reply-To: \"A mailing list for discussion about Sun Microsystem\\'s Java\\n>        Servlet API Technology.\" <SERVLET-INTEREST@java.sun.com>'\n",
      "'Hi,\\nAlways I have the same error :\\ncom.sun.server.http.pagecompile.jsp.JspException: Class: ConceptBean not\\nfound.\\n\\n\\n>From: Shiraz Wasim Zaidi <swzaidi@FLASH.NET>\\n>Reply-To: A mailing list about Java Server Pages specification and\\n>     reference <JSP-INTEREST@java.sun.com>'\n",
      "'Using an action:\\n\\n<jsp:forward page=\"home/Default.jsp\" / >\\n\\nOR with parameters\\n<jsp:forward page=\"home/Default.jsp\" >\\n<jsp:param name=\"source\" value=\"entry\"/>\\n</jsp:forward>\\n\\nYou may pass as many parameters as you need using this\\nmethod by using the param tag.\\n\\nThe forward action ends execution of the current JSP page and\\nremoves any existing buffered output. The new page has access to\\nfollowing objects (Application, Request, Session) as the starting\\nfile. A new pageContext object is generated for the page. To the\\nbrowser it will appear you have the originally requested page not\\nthe page to which you are transferred.\\n\\nfor more info see:\\nhttp://www.jspinsider.com/reference/jspredirection.html\\n\\nhope this helps\\n\\nCasey Kochmer\\n\\n\\n\\n\\n>From: subramanian Athimoolam <athimani@HOTMAIL.COM>\\n>Reply-To: A mailing list about Java Server Pages specification and\\n>     reference <JSP-INTEREST@java.sun.com>'\n",
      "'YES!!!!!! THIS WORKED....THANKS VERY MUCH WAYNE....I FEEL GOOD NOW....\\n\\nTHANKS ALL....\\n\\n\\n>From: \"Wayne Anderson\" <wayne@pt.com.sg>\\n>Reply-To: \"Wayne Anderson\" <wayne@pt.com.sg>'\n",
      "'Jai SrimanNarayana\\nThere are 3 messages in this issue.\\n\\nTopics in this digest:\\n\\n1. Re: How sincere we are ...!\\n2. Dhanurveda & Ksatriya dharma\\n3. Paratatva Nirnayam based on Trivikramavataramu\\nFrom: \"Rama Krishna K\" <kramakrishna@bhelrnd.co.in>'\n",
      "'I have seen it to with javawebserver2.0. When I have big changes I usaly\\nremoves the folder and all files under Javawebserver2.0/tmpdir/default\\n\\nThis forces everyting to recompile. Not a good solution but it works.\\n/NJ\\n\\n\\n>From: Raj S <rajs13@HOTMAIL.COM>\\n>Reply-To: A mailing list about Java Server Pages specification and\\n>     reference <JSP-INTEREST@java.sun.com>'\n",
      "'Hi all:\\nI\\'m trying to run Japplets using Swing 1.1 API. I downloaded the Java\\nPlug-in 1.3. It works fine in Internet Explorer. But It doesn\\'t work in\\nNetscape. When I run an applet, it freezes with the message \"Loading Java\\nApplet\".\\nThe status line reads: \"Applet MyApplet notinited.\", where MyApplet is the\\nname of the applet I\\'m trying to run.\\nBy the way, I\\'m using the sample EMBED tag HTML specification from some\\nsample codes. I think the HTML tag specifications are correct. There must be\\nsomething else wrong. Any suggestions? Thanks for your help.\\n\\nTom\\n\\n\\n\\n>From: Dennis Huang <DennisH@DATACOM.COM.AU>\\n>Reply-To: A mailing list about Java Server Pages specification and\\n>     reference <JSP-INTEREST@java.sun.com>'\n",
      "'You probably need to have your Oracle timeout taken out.  When you bring up\\nthe server, the server grabs 50 connections.  When the connections go unused\\nin the pool they will be timing out on you.  There is probably some work\\naround for this with your app server.  Probably you should review doc for\\nyour app server with regard to Oracle and connection pooling.\\n\\n\\n>From: \"Aggarwal, Pawan\" <pawan.aggarwal@HPSGLOBAL.COM>\\n>Reply-To: A mailing list about Java Server Pages specification and\\n>     reference <JSP-INTEREST@java.sun.com>'\n",
      "'I think you have some confusion.\\n\\nJsp is server side script, so you cant directly modify behavior of form\\nelements, you need to use html,javascript and dhtml to do that with.\\n\\nYou can choose to ignore the changed value and reset it back from the jsp.\\nBut that isnt what you want.\\n\\nBut if you want a non editable form field it would be better to build a\\npseudo field based on a table / borders or something similiar. Or use\\njavascript to make value unchanging. But JSP cannot change the way HTML\\nworks while on the client, IT can generate the output, but after that , you\\nmust use the client side tools in your tool kit\\n\\nCasey Kochmer\\nwww.jspinsider.com\\n\\n>From: Anup Vachali <avachali@FREYA.CORP.FEDEX.COM>\\n>Reply-To: A mailing list about Java Server Pages specification and\\n>     reference <JSP-INTEREST@java.sun.com>'\n",
      "'There is 1 message in this issue.\\n\\nTopics in this digest:\\n\\n1. Very Urgent........(Bombay)\\nFrom: Anurag Gaur <agaur@yahoo.com>'\n",
      "'interesting...\\n\\nI wonder how MS knows that the .asp page has no dynamic \\n\\n\\n>From: Shrisha Radhakrishna <shrisha_radhakrishna@YAHOO.COM>\\n>Reply-To: A mailing list about Java Server Pages specification and\\n>     reference <JSP-INTEREST@java.sun.com>'\n",
      "\"Interesting that nobody mentioned the performance of PHP vs JSP.\\nOn a JSP list, could that be because JSP doesn't measure up as far as\\nperformance goes?\\n\\nWe all have opinions but anybody have a more objective statement about it?\\n\\nTony\\n\\n> You will probably be able to get away with much more lax\\n> designs in PHP than\\n> you will with JSP. I'm not saying that you WILL design more\\n> poorly in PHP,\\n> but that PHP doesn't really make you think about issues that\\n> JSP more or\\n> less guides you in.\\n>\\n> I don't really consider that a strength for PHP.\\n>\\n>\\n> >From: Irfan Mohammed <IrfanM@IISWEB.COM>\\n> >Reply-To: A mailing list about Java Server Pages specification and\\n> >     reference <JSP-INTEREST@java.sun.com>\"\n",
      "'<html><body>\\n<tt>\\nHi !!<BR>\\ni dunno re, ghar ka shud work. works for others.<BR>\\nmake sure u have the right number : its  469-467-9890<BR>\\n<BR>\\nanyways kal ka match nahin dekha. it was too late in the nite to stay up & <BR>\\nwatch.<BR>\\nCheers,<BR>\\nRavi<BR>\\n<BR>\\n>From: SHIBANI PARULEKAR <pshibani@usa.net><BR>\\n>Reply-To: crcecomp98@yahoogroups.com<BR>'\n",
      "'Yes. See \"The Struts Framework\", is part of the Jakarta Project,\\nand it\\'s free:\\n\\nhttp://jakarta.apache.org/struts/\\n\\n\\n>From: Matthew Schroeder <MSchroeder@PMAI.ORG>\\n>Reply-To: A mailing list about Java Server Pages specification and\\n>     reference <JSP-INTEREST@java.sun.com>'\n",
      "'Hi Aravind,\\nWhat you have to do is simple. Simply open userconfig.bat\\nin j2ee bin folder & set the Following variable.\\n\\nset JAVA_HOME=d:\\\\jdk1.3\\nset J2EE_HOME=c:\\\\j2sdkee1.2.1\\n\\nLo & Behold all your problems are solved.\\n\\nBye,\\nJiger\\n\\nJoin ServerSide-India Java Users Group at\\nhttp://ServerSideIndia.patelsoftware.com\\n\\n\\n\\n>From: Aravind <aravindan@MCDECOM.NET>\\n>Reply-To: \"A mailing list for discussion about Sun Microsystem\\'s Java\\n>        Servlet API Technology.\" <SERVLET-INTEREST@java.sun.com>'\n",
      "'Thanks for replying.  But my boss insists that I use array\\nbecause vector\\ncosts more memory and time.\\n\\n\\n\\n>From: Shawn Zhu <Shawn.Zhu@MEDEM.COM>\\n>Reply-To: A mailing list about Java Server Pages specification and\\n>     reference <JSP-INTEREST@java.sun.com>'\n",
      "'>Jai SrimanNarayana\\n>-----------------------------------------------------------------------\\n-\\n>\\n>There is 1 message in this issue.\\n>\\n>Topics in this digest:\\n>\\n>       1. Acharya & Guru? How to find the real one.\\n>            From: \"ramanujausa\" <ramanujausa@yahoo.com>\\n>\\n>\\n>_______________________________________________________________________\\n_\\n>_______________________________________________________________________\\n_\\n>\\n>Message: 1'\n",
      "'U R right DON. with you\\nsandarbh\\n\\n>From: Don Makoviney <DonM@ALLENSYSGROUP.COM>\\n>Reply-To: A mailing list about Java Server Pages specification and\\n>     reference <JSP-INTEREST@java.sun.com>'\n",
      "'Too much acid last night. I mean you can declare a method of type String\\nlike this.\\n\\npublic String printThis()\\n{\\n}\\n\\nand not like\\n\\npublic void String printThis()\\n{\\n}\\n\\n\\n\\n>From: Panos Konstantinidis <p_konstantinidis@HOTMAIL.COM>\\n>Reply-To: A mailing list about Java Server Pages specification and\\n>     reference <JSP-INTEREST@java.sun.com>'\n",
      "'Multiedit is a good one .\\nIt also does compiling by automatically detecting ur compiler directory and\\nrunning the Java program using that\\nRegards\\nSanjay\\n\\n\\n>From: Brad Miley <bradmiley@HOTMAIL.COM>\\n>Reply-To: A mailing list about Java Server Pages specification and\\n>     reference <JSP-INTEREST@java.sun.com>'\n",
      "'Jai SrimanNarayana\\nThere is 1 message in this issue.\\n\\nTopics in this digest:\\n\\n1. Acharya & Guru? How to find the real one.\\nFrom: \"ramanujausa\" <ramanujausa@yahoo.com>'\n",
      "'Yes, you use the onclick event for each button to send it to its own\\njavascript function, or a single function which reacts differently relative\\nto a parm passed\\n\\nonclick=\"return F_Load_User_Data()\"\\n\\nin your called javascript function you can then do your processing or even\\nsubmit your form, or change the action of the submitted form, There really\\nis almost no limit to what you can do.\\n\\n\\n\\n>From: Angela Chow <amlchow@YAHOO.COM>\\n>Reply-To: A mailing list about Java Server Pages specification and\\n>     reference <JSP-INTEREST@java.sun.com>'\n",
      "'Hi all,\\nThanks Manne, but actually I want to access the parameter in the first page.\\nI guess in this way using \"meta\" tag I\\'ll not be able to. is there any way\\nto do it using the jsp forward tag?\\nThanks all...\\n\\n\\n>From: Manne Fagerlind <manne.fagerlind@ICONMEDIALAB.SE>\\n>Reply-To: A mailing list about Java Server Pages specification and\\n>     reference <JSP-INTEREST@java.sun.com>'\n",
      "\"Hi,\\nthis one sounds nice.. where I can get the sdk? is it freeware?\\n\\ncan pls you tell me how to get rid of 'deprecated API' warning message when\\ncompiling java source?\\n\\nThanks & regards,\\nMuliawan\\n\\n>From: Irfan Mohammed <IrfanM@IISWEB.COM>\\n>Reply-To: A mailing list about Java Server Pages specification and\\n>     reference <JSP-INTEREST@java.sun.com>\"\n",
      "'The problem with using ROWS is that 1) not all databases support it, and 2)\\nthe underlying data could change, so that when you scrolled back, new\\nrecords were inserted into the stream.\\n\\n\\n>From: Peter Pilgrim <peter.pilgrim@DB.COM>\\n>Reply-To: A mailing list about Java Server Pages specification and\\n>     reference <JSP-INTEREST@java.sun.com>'\n",
      "'Hi Sonal\\nAs I understand that jsp combines html with servlet features. With servlet\\nyou have to have html. Jsp inserts its text directly into html file after\\nwhich it has to have extension of jsp with appropriate header lines to be\\nread as jsp.\\nElena\\n\\n\\n>From: sonal bhasin <sonal_bhasin@HOTMAIL.COM>\\n>Reply-To: A mailing list about Java Server Pages specification and\\n>     reference <JSP-INTEREST@java.sun.com>'\n",
      "'i will do the meeting this monday (22 april) and next monday (29 april) - i\\nhope! (there are lots of things happening at sun so i am in town but we have\\nlots of internal meeting\\nwhat shd we do for wednesday 24 april and 1may? madhav - are you available?\\nrgds\\n\\n{}  From: Venk Shukla <shukla@avocadoit.com>\\n{}  To: \"\\'Shanker Trivedi\\'\" <Shanker.Trivedi@sun.com>\\n{}  Subject: RE: TiEcon Meeting\\n{}  Date: Thu, 18 Apr 2002 18:53:35 -0700\\n{}  \\n/_____/\\\\\\n/_____\\\\\\\\ \\\\               Shanker Trivedi\\n/_____\\\\ \\\\\\\\ /              10 Network Circle\\n/_____/ \\\\/ / /             UMPK10-212\\n/_____/ /   \\\\//\\\\            Menlo Park, CA 94025\\n\\\\_____\\\\//\\\\   / /\\n\\\\_____/ / /\\\\ /\\n\\\\_____/ \\\\\\\\ \\\\              Phone: 650-786-8563\\n\\\\_____\\\\ \\\\\\\\               Fax:   650-786-8397\\n\\\\_____\\\\/                E-mail:shanker.trivedi@sun.com'\n",
      "'Heh, this sounds like someone else\\'s response to me a while back: \"If\\nyou\\'re\\nso smart, why are you here?\"\\n\\nI didn\\'t point out the obvious, that the person who said that was basically\\nsaying, \"This list is for morons only.\"\\nAs one who\\'s interested in JSP, I\\'m on the list. Easy to work out, don\\'t\\nyou\\nthink?\\n\\nAs far as why I stay on the list despite so many offtopic or misinformed\\nquestions... well, what can I say? Hope springs eternal.\\n\\n>From: Beth Johnson <beth.jim@NS.SYMPATICO.CA>\\n>Reply-To: A mailing list about Java Server Pages specification and\\n>     reference <JSP-INTEREST@java.sun.com>'\n",
      "'Jai SrimanNarayana\\nThere are 3 messages in this issue.\\n\\nTopics in this digest:\\n\\n1. JETUSATLHVT monthly meet (Sri Vishnu Sahasranama Parayanam)\\n2. Bhakti Nivedana\\n3. yawning\\nFrom: sreenivas tanikella <sreetanikella@yahoo.com>'\n",
      "'Forget about Taglib....I am not able to run the simple hello world\\nprogram.... I am now really frustrated.... I dont know whether it has got\\nto\\ndo with classpath settings... can anyone tell me what should be the\\nclaspath\\nsettings...I think that is the only thing I need to check again now..\\n\\n\\n>From: Marco M <Marco.Mistroni@NOKIA.COM>\\n>Reply-To: A mailing list about Java Server Pages specification and\\n>     reference <JSP-INTEREST@java.sun.com>'\n",
      "'i think you may use scope=\"request\" or scope=\"page\", because when scope is\\nsession only one instance of the bean is created...\\n\\n\\ns.b.\\n\\n>From: Nitin Khattar <nitin@BLUEMARTINI.COM>\\n>Reply-To: A mailing list about Java Server Pages specification and\\n>     reference <JSP-INTEREST@java.sun.com>'\n",
      "'I havent done this yet, so Not 100% sure if it will work,\\n\\nBut you might be able to use\\nURL = getResource(String path) a method from the application object\\nto access resources from within your script. Its one thing I have meaning to\\ninvestigate, but haven\\'t run the across the need to do it yet.\\n\\n\\nCasey Kochmer\\n\\n\\n>From: \"Holmes III, William S\" <william.s.holmes.iii@LMCO.COM>\\n>Reply-To: A mailing list about Java Server Pages specification and\\n>     reference <JSP-INTEREST@java.sun.com>'\n",
      "'How about www.jsptut.com or www.jspinsider.com.\\n\\n\\n\\n\\n\\n>From: \"Mathew, Aswin (CTS)\" <MAswin@CHN.COGNIZANT.COM>\\n>Reply-To: A mailing list about Java Server Pages specification and\\n>     reference <JSP-INTEREST@java.sun.com>'\n",
      "'Do this.\\n\\n>1. Class.forName(\"sun.jdbc.odbc.JdbcOdbcDriver\");\\n>\\n>2. Connection conn =\\n>DriverManager.getConnection(\"jdbc:odbc:DSNName\",\"user\",\"pw\");\\n>\\n>3. Statement stmt = conn.createStatement(\"SELECT * FROM MYTable\");\\n>(ResultSet.TYPE_SCROLL_INSENSITIVE,\\n>ResultSet.CONCUR_UPDATABLE);\\n>\\n>4. ResultSet rs = stmt.executeQuery();\\n\\n\\n\\n>From: Hai Ram <hai_ram@HOTMAIL.COM>\\n>Reply-To: \"A mailing list for discussion about Sun Microsystem\\'s Java\\n>        Servlet API Technology.\" <SERVLET-INTEREST@java.sun.com>'\n",
      "'I got it, thanks James Klicman .\\n\\n\\n>From: sufi malak <sufi_m@HOTMAIL.COM>\\n>Reply-To: A mailing list about Java Server Pages specification and\\n>     reference <JSP-INTEREST@java.sun.com>'\n",
      "'try using javascipt and give the button a name\\n\\n>From: sudha <sudha@AQUILA.SOFT.NET>\\n>Reply-To: A mailing list about Java Server Pages specification and\\n>     reference <JSP-INTEREST@java.sun.com>'\n",
      "'This is going to come as a complete surprise:\\n\\nYou can\\'t convert an int to a boolean.\\n\\nYou\\'ve never been able to, in Java.\\n\\nYou can\\'t now.\\n\\nYou\\'re not likely to be able to in the future.\\n\\nThe error message doesn\\'t say \"You can\\'t eat chop suey on Fridays\" when it\\nmeans \"can\\'t convert int to boolean.\" If it did, I\\'d have a little more\\ncompassion.\\n\\nWhat does it mean? It means the language is looking for a boolean, and\\nyou\\'re giving it an int.\\n\\nAs well, you\\'re doing an awful lot of assignments instead of the\\ncomparisons\\nI think you mean....\\n\\n\\n>From: sufi malak <sufi_m@HOTMAIL.COM>\\n>Reply-To: A mailing list about Java Server Pages specification and\\n>     reference <JSP-INTEREST@java.sun.com>'\n",
      "'Hi, thanks\\nwhere can I find an example please.\\n\\n>From: Joseph Ottinger <epesh@HOTMAIL.COM>\\n>Reply-To: A mailing list about Java Server Pages specification and\\n>     reference <JSP-INTEREST@java.sun.com>'\n",
      "'hi S. Jyotinarayan,\\nU can start with tomcat.\\nnanda kishore rudraraju.\\n\\n\\n>From: \"Craig R. McClanahan\" <Craig.McClanahan@ENG.SUN.COM>\\n>Reply-To: A mailing list about Java Server Pages specification and\\n>     reference <JSP-INTEREST@java.sun.com>'\n",
      "'> Jai SrimanNarayana\\n>\\n------------------------------------------------------------------------\\n>\\n> There is 1 message in this issue.\\n>\\n> Topics in this digest:\\n>\\n>       1. Acharya & Guru? How to find the real one.\\n>            From: \"ramanujausa\" <ramanujausa@yahoo.com>\\n>\\n>\\n>\\n________________________________________________________________________\\n>\\n________________________________________________________________________\\n>\\n> Message: 1'\n",
      "'Hi Dan\\nHow many hits can JRun hold simultaneously and how good it works with EJB?\\nElena\\n\\n>From: Dan Lopez <dan_lopez00@YAHOO.COM>\\n>Reply-To: A mailing list about Java Server Pages specification and\\n>     reference <JSP-INTEREST@java.sun.com>'\n",
      "\"There is 1 message in this issue.\\n\\nTopics in this digest:\\n\\n1. Dr.Kalam's Speech!\\nFrom: nitin vohra <nitin_vohra@yahoo.com>\"\n",
      "'Richard,\\nWe keep a list of opensource JSP / Servlet code at the JspInsider\\n\\nhttp://www.jspinsider.com/beans/index.html\\n\\nfor the index of the various kits and code\\n\\nCasey Kochmer\\n\\nAlso if you know of other open source Java/JSP please let me know so I can\\nupdate the list\\n\\n>From: Richard Diaz <richdiaz99@YAHOO.COM>\\n>Reply-To: A mailing list about Java Server Pages specification and\\n>     reference <JSP-INTEREST@java.sun.com>'\n",
      "'Hello\\nPlease use main function and everthinh will be resolved. okey\\n\\n\\n>From: Marcel van Kooy <m.vankooy@UNIFY.NL>\\n>Reply-To: A mailing list about Java Server Pages specification and\\n>     reference <JSP-INTEREST@java.sun.com>'\n",
      "'> Look at JARKARTA project at apache.org. Here you will find the Tomcat,\\n> which\\n> is an servlet container ready for use together with apache...\\n>\\n> Please read the user guide for further reference on the configuration\\nof\\n> apache..\\n>\\n> BR\\n> Carsten Nielsen\\n>\\n>\\n> >From: Marcos <marcos@SECOND.IVAL.ES>\\n> >Reply-To: A mailing list about Java Server Pages specification and\\n> >     reference <JSP-INTEREST@java.sun.com>'\n",
      "\"I guess the real problem is I have a file name with space such as /program\\nfiles/apache group/, DOS won't take it.  is there any way that I can use\\nother name to refer this actual name?\\n\\n\\n>From: Raghu <s_raghu20@yahoo.com>\\n>Reply-To: getraghav@yahoo.com\"\n",
      "'Open dos window, right click on msdos icon in upper left corner, properties,\\nlayout, screen buffer height set to 2000, now you have big scrolling buffer.\\nOr do same from start, settings, control panel, ms dos console to do for\\nall ms dos window invokations default.\\n\\n\\n>From: B R Nair <b.r.nair@VSNL.COM>\\n>Reply-To: A mailing list about Java Server Pages specification and\\n>     reference <JSP-INTEREST@java.sun.com>'\n",
      "'> *sigh* This again.\\n>\\n> I think you\\'re being overly sensitive on someone else\\'s behalf. I didn\\'t\\nsay\\n> he was a moron. Maybe I should have, but I was giving him the benefit of\\nthe\\n> doubt. If you read what I said, you\\'ll see that I indicated that he didn\\'t\\n> want to have a bad reputation undeservedly. If you can figure out how to\\n> read between the lines, and back off from your apparently-chosen stance of\\n> \"Everybody\\'s so INSULTING!\", you\\'d see that I was giving him the benefit\\nof\\n> the doubt.\\n>\\n> >From: King Maurice <maurice@ALLTECHNEEDS.COM>\\n> >Reply-To: A mailing list about Java Server Pages specification and\\n> >     reference <JSP-INTEREST@java.sun.com>'\n",
      "'You should look up the API for the java.util.StringTokenizer class, and stop\\nasking a list for Java Server Pages off-topic questions. Also see\\nhttp://java.sun.com/tutorial/, and pay attention in class next time.\\n\\n\\n>From: \"R.Muthukumar\" <muthu@WISDOM.CO.IN>\\n>Reply-To: A mailing list about Java Server Pages specification and\\n>     reference <JSP-INTEREST@java.sun.com>'\n",
      "'Use the <jsp:useBean> tag.\\n\\n\\n>From: Mutahar Qayum <Mutahar@MDISOURCE.COM>\\n>Reply-To: A mailing list about Java Server Pages specification and\\n>     reference <JSP-INTEREST@java.sun.com>'\n",
      "\"Use StringBuffer.append.  Don't use += of String for large Strings because\\neverytime you use += a new String is constructed and the previous String is\\ngarbage Collected.  StringBuffer.append, on the other hand, truly appends\\nthe String to the StringBuffer and no garbage collecting is done.  Hence it\\nis a lot faster compared to += for large Strings.\\n\\nEric R. Dunstan\\n2000 A.D.\\n\\n\\n>From: Kalyan Rizvanovich <gocommerce@HOTMAIL.COM>\\n>Reply-To: A mailing list about Java Server Pages specification and\\n>     reference <JSP-INTEREST@java.sun.com>\"\n",
      "'Try xml spy is very very good. Ok it is not free but is good if u can get\\none. At the  basic edition if it has one.\\n\\nBye,\\nJiger\\n\\n\\n>From: Danny Ayers <danny@PANLANKA.NET>\\n>Reply-To: XML technologies in the Java Platform\\n<XML-INTEREST@java.sun.com>'\n",
      "'> > > >Date: Thu, 19 Apr 2001 11:06:15 -0700\\n> > > >\\n> > > >Hi!\\n> > > >\\n> > > >you can tell me by the weekend :-), actually\\nI\\n> > > haven\\'t even decided which\\n> > > >tickets to buy .... probably the $50\\nones...??\\n> > > >let me know.\\n> > > >\\n> > > >I am in for the Shivkumar and Zakir concert\\n> > > >I thought Priyank was going to buy tickets\\nfor\\n> > > those ???\\n> > > >\\n> > > >Minal\\n> > > >\\n> > > >\\n> > > >From: \"Hiten Patel\" <hitpats@hotmail.com>\\n> > > >Reply-To: zingaris@yahoogroups.com'\n",
      "'It should last to the next page where it will be displayed. Would a\\n\"request\" be the best choice?\\n\\nWhat if I wanted to persist my results for more than one\\nuser, to save the\\nround trips to the all the way back to the webserver->EJB->database?\\n\\njulian\\n\\n\\n>From: Kevin Jones <kevinj@DEVELOP.COM>\\n>Reply-To: A mailing list about Java Server Pages specification and\\n>     reference <JSP-INTEREST@java.sun.com>'\n",
      "'> Hi\\n> Jrun 3.0 can be configured with the iis 5.0 as the jsp and\\nservlet engine\\n>\\n>\\n> >From: Zahid Khan <zkjsp@YAHOO.COM>\\n> >Reply-To: A mailing list about Java Server Pages specification and\\n> >     reference <JSP-INTEREST@java.sun.com>'\n",
      "'see, you have a form on submit event you call a method to disable submit\\nbutton of the form. So, in next page when you press back button of browser\\nyou will see the page but the button will be disabled hence disabling the\\nuser from submitting the information again\\n\\nsandarbh\\n\\n>From: \"<John Thomas>\" <JohnT@IBSPLC.COM>\\n>Reply-To: A mailing list about Java Server Pages specification and\\n>     reference <JSP-INTEREST@java.sun.com>'\n",
      "'This is a question for the EJB-INTEREST group instead of JSP-INTEREST.\\n\\nThe answer is yes, you can use a db connection pool with stateless session\\nbean.\\n\\n\\n>From: Diwakar Killamsetty <kdiwakar@WILCO-INT.COM>\\n>Reply-To: A mailing list about Java Server Pages specification and\\n>     reference <JSP-INTEREST@java.sun.com>'\n",
      "'why dont you put the text in html tags between the jsp ones just like:\\n\\n<% some.jsp.code.here();\\nString foo = \"foo bar\";\\n%>\\n\\n<h1><%= foo %></h1>\\n...\\n\\n<% more.jsp.code.here();\\n...\\n%>\\n\\n>From: hua ge <hge88@HOTMAIL.COM>\\n>Reply-To: A mailing list about Java Server Pages specification and\\n>     reference <JSP-INTEREST@java.sun.com>'\n",
      "'> interesting...\\n>\\n> I wonder how MS knows that the .asp page has no dynamic content\\n> without interpreting it.\\n>\\n>\\n>\\n>\\n> >From: Shrisha Radhakrishna <shrisha_radhakrishna@YAHOO.COM>\\n> >Reply-To: A mailing list about Java Server Pages specification and\\n> >     reference <JSP-INTEREST@java.sun.com>'\n",
      "\"Thanks for the response though your answer didn't help me much. It started\\nworking after I put oracle.jar file under classpath in jrun's\\njsm.properties\\nfile. But now I have another issue. I'm able to run servlets, access\\ndatabase, read and write from database. but in one particular servlet,\\nnetscape is throwing the infamous 'Document contains no data' error. I\\nthought It would be some database connection problem. but since my other\\nservlets are running perfectly (using the same DB connection classes) it\\ncan't be JDBC problem, right ? When all we usually get this 'Document\\ncontains no data' error ? Any help appreciated.\\n\\nVis..\\n\\n\\n>From: mahesh bapu <mbapu@USA.NET>\\n>Reply-To: A mailing list about Java Server Pages specification and\\n>     reference <JSP-INTEREST@java.sun.com>\"\n",
      "'Samir,\\n\\nWhat I have done in the past is to have an additional thread running who\\'s\\njob it was to invalidateSessions and free related resources.\\n\\nYou need an object to hold a ref to the Session objet and to the Thread so\\nthat when each Session is invalidated, you can destroy the thread.\\n\\nI may be able to give more detail if needed.\\n\\nLee\\n\\n\\n>From: \"Gharse, Samir (Exchange)\" <sgharse@BEAR.COM>\\n>Reply-To: A mailing list about Java Server Pages specification and\\n>     reference <JSP-INTEREST@java.sun.com>'\n",
      "'The id parameter is returning a null value.  The method in the form should\\nbe <FORM METHOD=GET ACTION=\"/servlet/NameOfServlet>\\n\\n>From: \"Jonathan Silvergran, SM3OJR\" <sm3ojr@JONIT.COM>\\n>Reply-To: \"A mailing list for discussion about Sun Microsystem\\'s Java\\n>        Servlet API Technology.\" <SERVLET-INTEREST@java.sun.com>'\n",
      "'<%@ page import=\"java.io.*\" %>\\n\\ntry\\n{\\nBufferedReader in = new BufferedReader(new FileReader\\n\"myFile.html\"));      // Open file.\\nString myString = \"\";\\n\\nwhile((c = in.read()) != -1)\\n// If not EOF.\\n{\\nmyString = myString + (char) c;\\n}\\n\\n}  // end try\\ncatch (Exception e)\\n{\\nSystem.out.println(\"Exception occured \" + e);\\n\\n>From: Rosario Samanez <rsamanez@LATINKA.COM>\\n>Reply-To: A mailing list about Java Server Pages specification and\\n>     reference <JSP-INTEREST@java.sun.com>'\n",
      "'You can find a list of them at http://archives.java.sun.com\\nSanjay\\n\\n>From: Ritu Kama <ritu.kama@NUCLEUS.STPN.SOFT.NET>\\n>Reply-To: A mailing list about Java Server Pages specification and\\n>     reference <JSP-INTEREST@java.sun.com>'\n",
      "'can someone tell me how to valide my XML against a DTD.\\nI\\'m doing this way.\\nSay xml file: xfile\\nDTD name: dtdfile\\n\\nClass c = Class.forName(\"com.ibm.xml.parsers.SAXParser\");\\n// create instance of the class\\nParser parser = (Parser) c.newInstance();\\n// create document handler,\\n// and register it\\n\\nThis is not working. It goes fine even against the invalid XML.\\nHelp me\\nUpender\\n\\n\\n>From: Kjell Bengtsson <Kjell.Bengtsson@EPMTECH.JOTNE.COM>\\n>Reply-To: XML technologies in the Java Platform\\n<XML-INTEREST@java.sun.com>'\n",
      "'Thank you for voting NO on 22 and have a wonderful week!!\\n\\n>From: \"Elyanne\" <edomi@earthlink.net>\\n>Reply-To: \"Elyanne\" <edomi@earthlink.net>'\n",
      "'Hi Nalini,\\n\\nHow r u? How is work. Did u talk regarding the projects.\\n\\nI am planning to go to Colorado springs this friday. Got the tickets. I will\\nbe there for two days. Returning on Monday.\\n\\nI will talk to Amma/Appa today or tomorrow. I will talk to you sometime this\\nweek.\\n\\nTake care ...\\nMahesh\\n\\n\\n\\n>From: \"Nalini rangamani\" <sureshna@lycos.com>\\n>Reply-To: sureshna@lycos.com'\n",
      "\"Biggest problem .NET is going to have, IMHO, is that it's going to have to\\nfill the same space that J2EE already has. Who knows? I'm of the opinion\\nthat .NET will be good for J2EE, really, and I think MS will continue their\\ngreat work on scalability, just like they always have. (sarcasm intended. :)\\n\\nI'd also add that a given language tends to lend itself to acheiving certain\\ntasks...\\n\\n>From: Don Makoviney <DonM@ALLENSYSGROUP.COM>\\n>Reply-To: A mailing list about Java Server Pages specification and\\n>     reference <JSP-INTEREST@java.sun.com>\"\n",
      "'hi leena\\n\\nu cannot embed JSP tag inside a Javascript Function.\\nif it is a client side validation , u dont need to get the\\nError Message from Server. Instead of having a interface , u can store it\\nas\\na Constant variable like \"var MSG01\" , u store all these constants in a\\nseparate javascript file and u can include in ur JSP program.\\n\\n\\n\\n\\n\\n\\n>From: Leena Albert <leenasanjay@REDIFFMAIL.COM>\\n>Reply-To: A mailing list about Java Server Pages specification and\\n>     reference <JSP-INTEREST@java.sun.com>'\n",
      "'Hi all,\\n\\nI didnot know that you could not put a jsp:include tag in the body of a\\ncustom tag.\\n\\nCould someone tell me WHY that is???\\n\\nI thought as long as you specified that the Body TIA,\\nLee\\n\\n>From: JSP Insider <jspinsider@HOTMAIL.COM>\\n>Reply-To: A mailing list about Java Server Pages specification and\\n>     reference <JSP-INTEREST@java.sun.com>'\n",
      "'Hello Experts,\\n\\nCan anyone tell me how can i refresh my page say after 4-5 minutes\\n\\nRegards\\nSumit\\n\\n\\n\\n\\n\\n>From: \"Hensley, Zachary\" <Zachary.Hensley@VALUEOPTIONS.COM>\\n>Reply-To: A mailing list about Java Server Pages specification and\\n>     reference <JSP-INTEREST@java.sun.com>'\n",
      "\"There are 18 messages in this issue.\\n\\nTopics in this digest:\\n\\n1. Re:  XP take up\\n2. Re:  XP take up\\n3. Re: Need Delphi XP example!\\n4. Re: XP take up\\n5. RE: dW at JavaOne: Does anyone really XP? article\\n6. RE: Junit/Ejbs/Atg Dynamo 5\\n7. Re: dW at JavaOne: Does anyone really XP? article\\n8. Re: Re: OT: Cyclomatic complexity... (was short-time memory\\nand code)\\n9. Money Maker! (as seen on TV)\\n10. Re: XP take up\\n11. Re: dW at JavaOne: Does anyone really XP? article\\n12. Re: XP take up\\n13. RE: XP take up\\n14. RE: XP take up\\n15. Java AT's and AWT.Robot?\\n16. Re:  Re: XPExaggerated\\n17. Re:  XP take up\\n18. Re:  XP take up\\nFrom: Ron Jeffries <ronjeffries@acm.org>\"\n",
      "'You have to tell us what JSP engine you are using. Each JSP engine has\\ndifferent directories for the class files. If you are using Tomcat put them\\nin the \"webapps\" directory. If you are using JRun put them in the \"servers\"\\ndirectory.\\n\\nHope this helps\\n\\n\\n>From: fau k <fau13@HOTMAIL.COM>\\n>Reply-To: A mailing list about Java Server Pages specification and\\n>     reference <JSP-INTEREST@java.sun.com>'\n",
      "'to make the page reload use the javacript and a form like:\\n<% if (1stLoad) { %>\\n<form id=\"foo\" action\"thesame.jsp\" method=\"post\">\\n<script language=\"JavaScript\">\\n</form>\\n<% } else {\\n...\\n%>\\n\\n>From: Geeta Kottapalli <gkottapalli@YAHOO.COM>\\n>Reply-To: A mailing list about Java Server Pages specification and\\n>     reference <JSP-INTEREST@java.sun.com>'\n",
      "'Try this\\n<%=server.encodeURL(\"username\")%>\\nsujith\\n\\n\\n>From: krishna srinivasan <krishsrinivasan@HOTMAIL.COM>\\n>Reply-To: A mailing list about Java Server Pages specification and\\n>     reference <JSP-INTEREST@java.sun.com>'\n",
      "'Another thing is u dont have to use both java webserver and jswdk .\\nBoth r web servers , so what r u trying to do by combining both .Any one of\\nthem is enough to run JSps\\nSanjay\\n\\n\\n\\n>From: Raghunath Raman <raghu@NETVIGATOR.COM>\\n>Reply-To: A mailing list about Java Server Pages specification and\\n>     reference <JSP-INTEREST@java.sun.com>'\n",
      "'Could you tell me how i can use the two forms??\\n\\nbasically i am having this problem becos i need to validate the text fields\\nbefore i go ahead and upload the file to the database and so the multipart\\nrequest which goes through the inputstream doesnt work well.\\nMaybe i can use the two forms too?\\n\\nThanks.\\n\\n\\n>From: Kevin Duffey <kduffey@BUYMEDIA.COM>\\n>Reply-To: A mailing list about Java Server Pages specification and\\n>     reference <JSP-INTEREST@java.sun.com>'\n",
      "'> <%! declares variable at class level while <% declares variable at service\\n> method level.  Therefore, <%! variables are shared by all clients\\naccessing\\n> page and need to be made thread safe ect, but <% variables will only be\\n> access in the scope of a single request.\\n>\\n>\\n> >From: Ashish Bhatia <AshishB@NIIT.COM>\\n> >Reply-To: A mailing list about Java Server Pages specification and\\n> >     reference <JSP-INTEREST@java.sun.com>'\n",
      "'I´ve found out what was happenning. My Oracle 8.0.5 JDBC\\ndriver does not support JDBC 2.0. I think that Oracle 8i\\nsupports, do you know if I download only de JDBC driver\\nfor Oracle 8i it will work with 8.0.5. I plan to put\\ntheses classes of Oracle 8i in the subdirectory jdbc/lib\\nof Oracle installation.\\n\\nLuiz Fernando\\n\\n\\n> Hi Luiz,\\n>            Your stack trace clearly say\\nAbstractMethodError in other words\\n> your are trying to invoke a method that is Abstract.\\nFrom what I can see,\\n> you are using JDBC1.0 & using a method of JDBC 2.0\\nwhich has facility to go\\n> up & down a result set.\\n>\\n> Hope this helps.\\n>\\n> Bye,\\n> Jiger\\n>\\n>\\n> >From: Luiz Fernando Estivalet <mcc2209@BOL.COM.BR>\\n> >Reply-To: \"A mailing list for discussion about Sun\\nMicrosystem\\'s Java\\n> >        Servlet API Technology.\" <SERVLET-\\nINTEREST@java.sun.com>'\n",
      "'Kal,\\nI recently wrote a SMTP bean at\\nhttp://www.jspinsider.com/beans/beans/email/BeanMailer/index.html it\\nprovides a great example of  passing parameters with a form. Hopefully it\\nwill answer your question.\\n\\n\\n\\n\\n\\n>From: Kal Iyer <ksiyer3@HOME.COM>\\n>Reply-To: A mailing list about Java Server Pages specification and\\n>     reference <JSP-INTEREST@java.sun.com>'\n",
      "'Hi willy,\\n\\nSince the menu resides on the client side, that leaves little alternative\\nin the design of interactive menus for html pages.\\n\\nWhile I build dynamic menus in several different manners, the method which\\ncomes closest to what you want is a merging of JSP and a DHTML menu\\nsimiliar to what you see on our www.jspinsider.com site.\\n\\nWhat we do on some projects is drive the actual menu element design from a\\ndatabase. When the user logs on, we build up a unique version of the menu\\nelements relative to their security and access rights. Then store the\\nresults in the session object. Then when a JSP page is called, a DHTML menu\\nstructure is built relative to the data in the session object.\\nAt that point everything is back in dhtml and javascript.\\n\\nCasey Kochmer\\nPresident Amberjack Software LLC\\n\\n>From: Willy LEGIMAN <Willy.LEGIMAN@FINEMORES.COM.AU>\\n>Reply-To: A mailing list about Java Server Pages specification and\\n>     reference <JSP-INTEREST@java.sun.com>'\n",
      "'Try %substring%\\nSanjay\\n\\n\\n>From: Khem Chand Sachdeva <ksuchdeva@NPI.STPN.SOFT.NET>\\n>Reply-To: A mailing list about Java Server Pages specification and\\n>     reference <JSP-INTEREST@java.sun.com>'\n",
      "\"ooups, sorry!\\ni made a mistake\\n>you must put this\\n'<jsp:useBean>' element in every jsp page, where\\n>you want\\n>to access it's members..\\nsorry...\\n\\ns.b.\\n\\n\\n\\n>From: Stefan Bushev <stbushev@HOTMAIL.COM>\\n>Reply-To: A mailing list about Java Server Pages specification and\\n>     reference <JSP-INTEREST@java.sun.com>\"\n",
      "\"OK - I think we are awaiting the confirmation from the COO of Yipes, because we requested a Thursday 3/1 meeting. I'll keep you posted.\\n\\n**> -----Original Message-----\\n**> From: George Richard\\n**> Sent: Tuesday, February 27, 2001 5:08 PM\\n**> To: Betty Chan-Bauza\\n**> Subject: Re: Lunch with CGEY (Abiola)\\n**>\\n**>\\n**> Let's do thursday if possible. I'm on the road w a client on wed\\n**> --------------------------\\n**> Sent from my BlackBerry Wireless Handheld (www.BlackBerry.net)\\n**>\\n**>\\n**> -----Original Message-----\\n**> From: Betty Chan-Bauza <Betty.Bauza@avocadoit.com>\\n**> To: George Richard <George.Richard@avocadoit.com>\\n**> Sent: Tue Feb 27 15:29:16 2001\\n**> Subject: Lunch with CGEY (Abiola)\\n**>\\n**> When: Wednesday, February 28, 2001 12:30 PM-1:30 PM\\n**> (GMT-08:00) Pacific Time (US & Canada); Tijuana.\\n**>\\n**> *~*~*~*~*~*~*~*~*~*\\n**>\\n**>\\n**>\"\n",
      "'This is going to come as a complete surprise:\\n\\nYou can\\'t convert an int to a boolean.\\n\\nYou\\'ve never been able to, in Java.\\n\\nYou can\\'t now.\\n\\nYou\\'re not likely to be able to in the future.\\n\\nThe error message doesn\\'t say \"You can\\'t eat chop suey on Fridays\" when it\\nmeans \"can\\'t convert int to boolean.\" If it did, I\\'d have a little more\\ncompassion.\\n\\nWhat does it mean? It means the language is looking for a boolean, and\\nyou\\'re giving it an int.\\n\\nAs well, you\\'re doing an awful lot of assignments instead of the comparisons\\nI think you mean....\\n\\n\\n>From: sufi malak <sufi_m@HOTMAIL.COM>\\n>Reply-To: A mailing list about Java Server Pages specification and\\n>     reference <JSP-INTEREST@java.sun.com>'\n",
      "\"I wrote a code generator for Entity Beans.  THis is fairly easy because the\\nDB meta data can tell you about the tables and there relationships.  This\\ncode is core to much of the system that I work on and now I can add code gen\\nfor other repetitive tasks that access the entity layer.  When writing code\\ngens you need to understand the task (it's repetitive nature) very well.\\nAfter you write parts by hand a couple of times, you will identify how the\\ntask should be done with a code generator.\\n\\n\\n>From: Sachdeva Deepika <Deepika.Sachdeva@SISL.CO.IN>\\n>Reply-To: A mailing list about Java Server Pages specification and\\n>     reference <JSP-INTEREST@java.sun.com>\"\n",
      "'> > >\\n> > > >   THIS IS A BLOODY JSP LIST NOT AN ASP.\\n> > > >\\n> > > >\\n> > > > >From: \"Srinivas K. R.\" <srinivas.ras@WIPRO.COM>\\n> > > > >Reply-To: A mailing list about Java Server Pages\\nspecification and\\n> > > > >     reference <JSP-INTEREST@java.sun.com>'\n",
      "\"Hi,\\nWhere does come from the Document.importNode() method? It doesn't appear in\\nthe JAXP API!!\\n\\nThanks\\nSamuel\\n\\n\\n>From: Schwarz Niko <igel@SURF-CALLINO.DE>\\n>Reply-To: XML technologies in the Java Platform <XML-INTEREST@java.sun.com>\"\n",
      "'> >Multiedit is a good one .\\n> >It also does compiling by automatically detecting\\nur compiler directory\\n>and\\n> >running the Java program using that\\n> >Regards\\n> >Sanjay\\n> >\\n> >\\n> > >From: Brad Miley <bradmiley@HOTMAIL.COM>\\n> > >Reply-To: A mailing list about Java Server\\nPages specification and\\n> > >     reference <JSP-INTEREST@java.sun.com>'\n",
      "\"Hi RoBo,\\n\\nThe problem is i'm not using frames.\\n\\n\\n\\n>From: Robo ®ilka <rzilka@SKNET.COM>\\n>Reply-To: A mailing list about Java Server Pages specification and\\n>     reference <JSP-INTEREST@java.sun.com>\"\n",
      "'the sql works fine in SQL+.\\nI used UNION .\\n\\nIn java code, it still not work.\\n\\n>From: Joe Milora <JoeM@EAGLECMMS.COM>\\n>Reply-To: A mailing list about Java Server Pages specification and\\n>     reference <JSP-INTEREST@java.sun.com>'\n",
      "'There is 1 message in this issue.\\n\\nTopics in this digest:\\n\\n1. UOR Hyderabad Chaper News\\nFrom: UOR HYD <uor_hyd@yahoo.com>'\n",
      "'I downloaded a javaserver 60 days version and had made smaple jsp pages in\\nthe http_public folder and it worked fine.\\nI guess your problem could be the directory in which the jsp files are\\nlocated.\\n\\n>From: LISTS <lists@2XDIGI.COM>\\n>Reply-To: A mailing list about Java Server Pages specification and\\n>     reference <JSP-INTEREST@java.sun.com>'\n",
      "'why dont u use hidden variables in forms. u can pass the session id in all\\nforms. when the user logs out u can invalidte the session.\\n\\nram\\n\\n\\n>From: dkabali <dkabali@ACSYSINDIA.COM>\\n>Reply-To: \"A mailing list for discussion about Sun Microsystem\\'s Java\\n>        Servlet API Technology.\" <SERVLET-INTEREST@java.sun.com>'\n",
      "'> Thanks for replying.  But my boss insists that I use array because vector\\n> costs more memory and time.\\n>\\n> >From: Shawn Zhu <Shawn.Zhu@MEDEM.COM>\\n> >Reply-To: A mailing list about Java Server Pages specification and\\n> >     reference <JSP-INTEREST@java.sun.com>'\n",
      "'Jai SrimanNarayana\\nThere are 2 messages in this issue.\\n\\nTopics in this digest:\\n\\n1. Valmiki Jayanthi\\n2. Qs about Nachiketas Qs\\nFrom: \"raghu M\" <rmudumbai@hotmail.com>'\n",
      "'I guess my point was that it had to parsed.\\nfor dynamic \\n\\n>From: Shrisha Radhakrishna <shrisha_radhakrishna@YAHOO.COM>\\n>Reply-To: A mailing list about Java Server Pages specification and\\n>     reference <JSP-INTEREST@java.sun.com>'\n",
      "'Syamala,\\n\\nCheck out the following :-\\nIN your MS-DOS program settings increase the memory from auto to 4096.\\nThis info is given in the readme notes of JSWK.\\nYour files if they are servlets should be placed in the directory\\nc:\\\\jswdk-~1.1\\\\webpages\\\\web-inf\\\\servlets\\nJsp pages should also be placed here.\\nHTML pages need to be placed in the Webpages directory.\\nAlso you need to add entries in your mapping.properties and\\nservlets.propoerties file which are under\\nc:.....\\\\webpages\\\\web-inf\\nYOu can configure the location of your pages by editing the\\nweb-app.properties file.\\nhope this helps.\\nCheers\\n\\n\\n\\n>From: Syamala kotamraju <syamalak@ELECTRONMAIL.COM>\\n>Reply-To: A mailing list about Java Server Pages specification and\\n>     reference <JSP-INTEREST@java.sun.com>'\n",
      "'Set up an HttpSessionListener. Professional JSP, from Wrox Press, details\\nthis, as I recall... or you could always look it up yourself.\\n\\n\\n>From: Uday Prajapati <U.Prajapati@ZENSAR.COM>\\n>Reply-To: A mailing list about Java Server Pages specification and\\n>     reference <JSP-INTEREST@java.sun.com>'\n",
      "'I once did it in the include tag, hope it works in the forward tag also.\\n\\n<% String filename = application.getRealPath(request.getServletPath()); %>\\n\\n<jsp:include page=\"/copyright.jsp\" flush=\"true\" >\\n<jsp:param name=\"filename\" value = \\'<%=filename %>\\' />\\n</jsp:include>\\n\\n\\n>From: stewart hsiao <stewart_hsiao@YAHOO.COM>\\n>Reply-To: A mailing list about Java Server Pages specification and\\n>     reference <JSP-INTEREST@java.sun.com>'\n",
      "'You can always try using poolman from http://www.codestudio.com/index.shtml\\nIts easy enough to plug into a project. It does have one bug in its current\\nhashtable method of storing data from result sets. But if you use the\\nsoftware for pooling management only and deal with your own result sets,\\nthis bug wont impact you. (the authors know about this bug and are fixing\\nit, but not sure if fix is in curent release)\\n\\nCasey Kochmer\\n\\n\\n>From: hua ge <hge88@HOTMAIL.COM>\\n>Reply-To: A mailing list about Java Server Pages specification and\\n>     reference <JSP-INTEREST@java.sun.com>'\n",
      "'> It seemes the compiler did not find your JDBC\\ndriver. You are using\\n> JDBC:ODBC, then\\nuse\"Class.forName(\"jdbc:odbc:JdbcOdbcDriver\")\". It\\nis in the\\n> java.sql package.\\n> good luck\\n>\\n> >From: JEANCHG <scchiang@DIGI-AGE.COM.TW>\\n> >Reply-To: A mailing list about Java Server Pages\\nspecification and\\n> >     reference <JSP-INTEREST@java.sun.com>'\n",
      "'you may use javascript for doing that\\n\\ns.b.\\n\\n>From: sufi malak <sufi_m@HOTMAIL.COM>\\n>Reply-To: A mailing list about Java Server Pages specification and\\n>     reference <JSP-INTEREST@java.sun.com>'\n",
      "'I am not sure, but I think that you hgave to return a value (for example\\nreturn 1, or return true - if your method is of type boolean).\\nNow if you just want to exit the method (or a block of code) you can use\\nthe break statement.\\nHope this helps.\\n\\nPanos\\n\\n\\n>From: Mengyuan Yuan <ydreaming@263.NET>\\n>Reply-To: A mailing list about Java Server Pages specification and\\n>     reference <JSP-INTEREST@java.sun.com>'\n",
      "'ObPointer: You know Tomcat has a mailing list or two dedicated to it, right?\\n...\\n\\nAt any rate, see \"Professional JSP,\" by Wrox Press. It actually has an LDAP\\nauthenticator in it for Tomcat as an example, as I recall.\\n\\n\\n>From: Martin Smith <mfsmith@EROLS.COM>\\n>Reply-To: A mailing list about Java Server Pages specification and\\n>     reference <JSP-INTEREST@java.sun.com>'\n",
      "'What version do you use ?\\n\\nThe last released is 4.1 SP1 which is the only one supporting custom tag\\nlibrary.\\n\\n\\n>From: Manoj Kumar <ManojK@PLANETASIA.COM>\\n>Reply-To: A mailing list about Java Server Pages specification and\\n>     reference <JSP-INTEREST@java.sun.com>'\n",
      "'Hi,\\ndid you set up your classpath to $TOMCAT_HOME\\\\examples\\\\WEB_INF\\\\classes ?\\n\\n>From: tonney <liu.dongsheng@ETANG.NET>\\n>Reply-To: A mailing list about Java Server Pages specification and\\n>     reference <JSP-INTEREST@java.sun.com>'\n",
      "'I found a solution that makes the file work, just I used int instead of\\nString, but I am still wandering why it did not work using String, please I\\nwill appreciate any further explaination.\\nThanks\\n\\n\\n>From: sufi malak <sufi_m@HOTMAIL.COM>\\n>Reply-To: A mailing list about Java Server Pages specification and\\n>     reference <JSP-INTEREST@java.sun.com>'\n",
      "'Jai SrimanNarayana\\nThere is 1 message in this issue.\\n\\nTopics in this digest:\\n\\n1. Re: Digest Number 224\\nFrom: kvt charyulu <charyulukvt@yahoo.com>'\n",
      "'Use <jsp:useBean> and set the scope to \"request\" - it\\'ll survive between\\nforwards. If you\\'re using redirects, stop.\\n\\n\\n>From: \"R.Muthukumar\" <muthu@WISDOM.CO.IN>\\n>Reply-To: A mailing list about Java Server Pages specification and\\n>     reference <JSP-INTEREST@java.sun.com>'\n",
      "'I\\'d be willing to moderate. It\\'d be a really easy job, for the most part:\\n\\n\"Oh, look... a JSPI mail. [delete]\"\\n\\nI\\'m joking, of course... that\\'d be the response MOST of the time, although\\nI\\'d probably reply \"This should be on a generic Java list\" or \"This should\\nbe on your application server\\'s list\" or \"Gee, learn Java, would you?\"\\n\\nHere\\'s hoping nobody takes this as an offer for ME to moderate. :)\\n\\n>From: Flava Flave <flava@MORPH.PLUS.COM>\\n>Reply-To: A mailing list about Java Server Pages specification and\\n>     reference <JSP-INTEREST@java.sun.com>'\n",
      "'Hi again\\n\\nI got the PreparedStatement to work thanks a lot !!\\n\\nDamien\\n\\n>From: Gavin Meehan <gavin_meehan@HOTMAIL.COM>\\n>Reply-To: A mailing list about Java Server Pages specification and\\n>     reference <JSP-INTEREST@java.sun.com>'\n",
      "'right out of the document\\n\\n\"IIS first searches it for any ASP script. If there is none, the file is\\ntreated as a normal .HTM file and sent directly to the browser.\"\\n\\n\\n\\n\\n>From: Shrisha Radhakrishna <shrisha_radhakrishna@YAHOO.COM>\\n>Reply-To: A mailing list about Java Server Pages specification and\\n>     reference <JSP-INTEREST@java.sun.com>'\n",
      "\"yes, the objects are available in another <% %> when they are in the same\\nfile.. and if you tell the useBean element's scope to be 'session' you may\\nuse these objects in other jsp files too\\n\\n\\n>From: Kai Hackemesser <kaha@GMX.DE>\\n>Reply-To: A mailing list about Java Server Pages specification and\\n>     reference <JSP-INTEREST@java.sun.com>\"\n",
      "'good question, I would like to know the answer\\n\\n\\n>From: \"Sumeet Aggarwal , Gurgaon\" <sumeeta@GGN.HCLTECH.COM>\\n>Reply-To: A mailing list about Java Server Pages specification and\\n>     reference <JSP-INTEREST@java.sun.com>'\n",
      "'like you\\'re being spoiled by JSP\\'s autorecompilation feature. :)\\n\\n\\n>From: \"Jitu Sarwate (CFIS)\" <jitu@ACEFIS.COM>\\n>Reply-To: A mailing list about Java Server Pages specification and\\n>     reference <JSP-INTEREST@java.sun.com>'\n",
      "'use foundation with tomcat - works fine.\\n\\nmartin\\n\\n\\n>From: Louis <louis@ALLSOFTS.COM>\\n>Reply-To: A mailing list about Java Server Pages specification and\\n>     reference <JSP-INTEREST@java.sun.com>'\n",
      "'Jai SrimanNarayana\\nThere are 6 messages in this issue.\\n\\nTopics in this digest:\\n\\n1. Katho:panishad - III\\n2. Reagarding Acharyas\\n3. Chanting Lord Krishna\\'s names !! Only way to clear Mega\\nindebtedness/insincerity\\n4. Vishnu Sahasranamalu\\n5. WHO IS A REAL GURU\\n6. life\\nFrom: \"ganesh\"<ganesh_vid@hotmail.com>'\n",
      "'I dont understand.  Do you want to also display the\\ndata in \"tab deliminated\" format in the browser?\\n\\nIf so, then use an HTML table!\\n\\n\\n<TABLE rows=\"<%=results.length() %> cols=\"4\">\\n<%\\nfor (int i=0; i<num_rows; i++;) {\\n%> <TR>\\n<TD> <%=results[i].name %> </TD>\\n<TD> <%=results[i].address%> </TD>\\n<TD> <%=results[i].city %> </TD>\\n<TD> <%=results[i].phone %> </TD>\\n</TR> <%\\n}\\n\\n</TABLE>\\n\\n(the array reference is just for illustration.  You should probably use a vector.)\\n\\nThen also have a download button that goes to a _servlet_ and the\\nservlet just sends back the tab deliminated file with the appropriate\\nmime type.  That way the browser will see the response as, say, an\\nexcel file and save it correctly.   If you want to download, you\\'ll need\\na different mime type for the response, otherwise the browser will\\njust try to display it.\\n\\n\\n>\\n>>From: hua ge <hge88@HOTMAIL.COM>\\n>>Reply-To: A mailing list about Java Server Pages specification and\\n>>     reference <JSP-INTEREST@java.sun.com>'\n",
      "'Multiedit is a good one .\\nIt also does compiling by automatically detecting ur compiler\\ndirectory and\\nrunning the Java program using that\\nRegards\\nSanjay\\n\\n\\n>From: Brad Miley <bradmiley@HOTMAIL.COM>\\n>Reply-To: A mailing list about Java Server Pages specification and\\n>     reference <JSP-INTEREST@java.sun.com>'\n",
      "'it works when right clicking, but does not when you go to View --> source.\\n\\n\\n>From: Prakasan OK <prakasank@IBSPLC.COM>\\n>Reply-To: A mailing list about Java Server Pages specification and\\n>     reference <JSP-INTEREST@java.sun.com>'\n",
      "'Why do you need to use jsp to do it? It would be easier to use XSL. If you\\nwant you can use XSL commands and save it in a .jsp file (I guess this would\\nwork - I am not entirely sure though). Then call this .jsp file as if you\\nwere calling a proper .jsp file. If you need any more help of how to\\ntransform XML into HTML usign XSLT send me an e-mail. This mailing list is\\nonly for jsp related stuff.\\n\\nHope this helps.\\n\\n\\n>From: Deepak Kumar <mysql_in@YAHOO.COM>\\n>Reply-To: A mailing list about Java Server Pages specification and\\n>     reference <JSP-INTEREST@java.sun.com>'\n",
      "'This is more of an EJB question (obviously) than a JSP question. There\\'s an\\nEJB-interest list, but I understand it\\'s as clogged as this one is.\\nsame thing myself in forwarding messages to message-driven beans.\\n\\n\\n>From: \"Xu, Li\" <lxu@ASAPSC.COM>\\n>Reply-To: A mailing list about Java Server Pages specification and\\n>     reference <JSP-INTEREST@java.sun.com>'\n",
      "'The same query from the command line is working fine.\\n\\n>From: Nishit Trivedi <nishit.trivedi@INSAGE.COM>\\n>Reply-To: A mailing list about Java Server Pages specification and\\n>     reference <JSP-INTEREST@java.sun.com>'\n",
      "'Hi Rema,\\nThanx I tihnk its in the JSDK2.1 .Ill have to download that\\nMine is JSDK2.0 ,hence the prob\\n\\nthanx\\nRegards\\nSanjay\\n\\n>From: Rema Kumar <rema.kumar@RAREMEDIUM.COM>\\n>Reply-To: A mailing list about Java Server Pages specification and\\n>     reference <JSP-INTEREST@java.sun.com>'\n",
      "'use javascript for client side validation\\n\\ns.b.\\n\\n>From: Brian Slezak <bslezak@KC.RR.COM>\\n>Reply-To: A mailing list about Java Server Pages specification and\\n>     reference <JSP-INTEREST@java.sun.com>'\n",
      "'Have you got a home email I can send stuff like this to. I have contacted a number of friends/associates to see what they have open but this is the type of work that is in high, high demand. I\\'ll call soon.\\n\\nBarbara\\n\\n>X-Lotus-FromDomain: CRIMSON\\n>From: \"Consultant Services\" <consultants@crimsonconsulting.com>\\n>Reply-To: consultants@crimson-consulting.com'\n",
      "'> >\\n> > Thanks for replying.  But my boss insists that I\\n> use array because vector\\n> > costs more memory and time.\\n> >\\n> >\\n> >\\n> > >From: Shawn Zhu <Shawn.Zhu@MEDEM.COM>\\n> > >Reply-To: A mailing list about Java Server\\nPages\\n> specification and\\n> > >     reference <JSP-INTEREST@java.sun.com>'\n",
      "'Hi,\\ntry :\\nEither:\\ntomcat run\\ntomcat start\\nPrasad.\\n\\n\\n>From: sufi malak <sufi_m@HOTMAIL.COM>\\n>Reply-To: A mailing list about Java Server Pages specification and\\n>     reference <JSP-INTEREST@java.sun.com>'\n",
      "'Jai SrimanNarayana\\nThere are 4 messages in this issue.\\n\\nTopics in this digest:\\n\\n1. About Saraswathi Pooja\\n2. Qs: Rama prayed to Shiva Linga?\\n3. Re: Anand, Bradford\\n4. Re: adharma?\\nFrom: chinna jeeyar <acharya27@yahoo.com>'\n",
      "'Hi, Rakesh.\\nThe easiest way to do this is by using javascipt, because it seems to be\\nharder to pass these values between jsp files after the submission and you\\nneed more bandiwdth. So i recommend you to do something like this:\\n<form id=\"foo\" action=\"bla\" onSubmit=\"return foobar()\">\\n<input type=text name=txt1>\\n<input type=text name=txt2>\\n<input type=text name=txt3>\\n</form>\\n<script language=\"JavaScript\">\\nfunction foobar() {\\nif (  (foo.txt1.value.value.length == 0) ||\\n(foo.txt2.value.value.length == 0) ||\\n(foo.txt3.value.value.length == 0) ) {\\nalert(\"please fill all of them\");\\n</script>\\n\\n\\n>From: Rakesh Bhat <rakesh.bhat@ORACLE.COM>\\n>Reply-To: A mailing list about Java Server Pages specification and\\n>     reference <JSP-INTEREST@java.sun.com>'\n",
      "'You have to tell us what JSP engine you are using. Each JSP engine has\\ndifferent directories for the class files. If you are using Tomcat put\\nthem\\nin the \"webapps\" directory. If you are using JRun put them in the\\n\"servers\"\\ndirectory.\\n\\nHope this helps\\n\\n\\n>From: fau k <fau13@HOTMAIL.COM>\\n>Reply-To: A mailing list about Java Server Pages specification and\\n>     reference <JSP-INTEREST@java.sun.com>'\n",
      "'C\\'est facile, lorseque tu save met the fichier entre \" \", example :\\n\"myfile.jsp\"  biensure en mode text.\\n\\n\\n\\n>From: Erwan TROEL <erwan.troel@HIGHWAVE-TECH.COM>\\n>Reply-To: A mailing list about Java Server Pages specification and\\n>     reference <JSP-INTEREST@java.sun.com>'\n",
      "'Hello guys,\\nI Was able to solve the problem.The solution is to put the bean in a package\\nand place it in the classes directory .Without that it wouldnt work\\n\\nRegards\\nSanjay Gomes\\n\\n\\n>From: Sanjay Gomes <san_gomes@HOTMAIL.COM>\\n>Reply-To: A mailing list about Java Server Pages specification and\\n>     reference <JSP-INTEREST@java.sun.com>'\n",
      "'Tiana,\\n\\n// static method File.createTempFile() will produce a File Object\\nrepresenting a UNIQUE File. You pass a 3rd parameter (File dir) if you want\\nto specify a certain directory.\\n\\nFile f = File.createTempFile(\"jspGen\", \"*.html\");\\nString strFilename = f.getAbsolutePath();\\n\\nLee\\n\\n>From: Tiana Zhang <Tiana.Zhang@METRISCOMPANIES.COM>\\n>Reply-To: A mailing list about Java Server Pages specification and\\n>     reference <JSP-INTEREST@java.sun.com>'\n",
      "'Jai SrimanNarayana\\nThere are 4 messages in this issue.\\n\\nTopics in this digest:\\n\\n1. Lord Krishna is Omnipresent::  Bhagvad Gita now in Dutch\\n2. WebPrapancham ...\\n3. Re: Digest Number 218\\n4. HH Jeeyar Swami\\'s reply on Ekadasi from archives.\\nFrom: \"Subrahmanyeswara Rao Nekkalapudi\" <snekkala@hotmail.com>'\n",
      "'you can make a view in database\\n*******************\\nas create or replace view ordertransdate as\\nselect * from table1 order by trans_date desc\\n\\n\\nin your query add the following\\nselect * from ordertransdate where rownum <101 order by trans_date desc\\n*******************\\ntry this and let me know please\\n\\nsandarbh\\n\\nhope this helps\\nbyeeee\\n\\n>From: \"S. Chen\" <shirleyxychen@HOTMAIL.COM>\\n>Reply-To: A mailing list about Java Server Pages specification and\\n>     reference <JSP-INTEREST@java.sun.com>'\n",
      "'please telephone Richard Adler  in the office 0207 368 3388 for more\\ndetails.\\n\\n\\n> From: David Chan <david.chan@avocadoit.com>\\n> Reply-To: david.chan@avocadoit.com (David Chan)'\n",
      "'There is 1 message in this issue.\\n\\nTopics in this digest:\\n\\n1. (unknown)\\nFrom: MUKESH ARYA <mukesh_arya@yahoo.com>'\n",
      "\"Hi Narendra,\\nCould you tell me where I should add the class path in Jrun ? I tried in a\\ncouple of places and I'm getting a Jrun Connector protocol error. I couldn't\\nmake out where I should add class path to tyhe oracle jar file.\\nThanks\\n\\nVis..\\n\\n\\n>From: Narendra Acharya <narendra.acharya@TWC-ASIA.COM>\\n>Reply-To: A mailing list about Java Server Pages specification and\\n>     reference <JSP-INTEREST@java.sun.com>\"\n",
      "'You cannot compare String like this. Use the \"equals\" keyword instead.\\nFor example :\\nif (mystring.substring(something).equals(somethingElse) )\\n\\nHope this helps.\\n\\n\\n>From: Jean Chiang(¦¿²Q§g) <scchiang@DIGI-AGE.COM.TW>\\n>Reply-To: A mailing list about Java Server Pages specification and\\n>     reference <JSP-INTEREST@java.sun.com>'\n",
      "'towards the end of this mail\\n\\n\\n>From: Mark Galbreath <markg@NTERCEPT.COM>\\n>Reply-To: \"A mailing list for discussion about Sun Microsystem\\'s Java\\n>        Servlet API Technology.\" <SERVLET-INTEREST@java.sun.com>'\n",
      "'To help solve TomCat problems, visit\\n\\nhttp://www.metronet.com/~wjm/tomcat/\\n\\nThis site has the archive of the emails with similiar questions, I have\\nalways used it and it has always had the answer I have needed to getting\\ntomcat to work for me...\\n\\nCasey Kochmer\\nwww.jspinsider.com\\n\\n\\n>From: Asha Patel <patelasha@HOTMAIL.COM>\\n>Reply-To: A mailing list about Java Server Pages specification and\\n>     reference <JSP-INTEREST@java.sun.com>'\n",
      "'JSWDK has its own web server...just run the startserver.bat file in the root directory\\n\\n>>> to_tli@HOTMAIL.COM 8/1/00 4:43 >>>\\nyes, you need a web server to host the jsp files. try javawebserver\\n\\n\\n>From: Wei Qin <wqin@WORLDSITES.NET>\\n>Reply-To: A mailing list about Java Server Pages specification and\\n>     reference <JSP-INTEREST@java.sun.com>'\n",
      "\"Joe, isn't it a little curious to the company that in order\\nto deliver an\\nexample that should have taken a week, it's taken you months?\\n\\nAdditionally, it took you months to get the server and servlet engine\\nrunning.\\n\\nI'm not sure how that looks to this company, however they may\\nbe thinking\\ntwice about hiring you.\\n\\nThis is not the end of the world, however.  If you know they\\nhave a need,\\nyou can still deliver the application.  However, I'm sure\\nthey don't have\\nmuch confidence in you.\\n\\nI am an independent contractor and have been coding server\\nside java using\\nj2ee for years and can help you.  However, this sounds like\\nsomething that\\nwould involve alot of time and that means that you should\\nconsider using\\nprofessionals and billing for it.\\n\\n\\n>From: Jsp Joe <twocool@POWERSURFER.NET>\\n>Reply-To: A mailing list about Java Server Pages specification and\\n>     reference <JSP-INTEREST@java.sun.com>\"\n",
      "'Hello,\\n\\nI do it as follows:\\n\\n1- Instantiate the bean in the servlet\\n2- Set it in the request, logical name must match the ID field in the\\n<jsp:useBean ID> tag\\n3- Include the target jsp, (forward may not be possible)\\n\\n\\n// in the Servlet\\nTodayInfo todayInfo = new TodayInfo();          request.setAttribute(\"today\",\\n\\n// in the JSP page\\n<jsp:useBean id=\"today\" class=\"measureBeans.TodayInfo\" scope=\"request\"/>\\n\\n\\nI hope it helps\\n\\nBulent\\n\\n\\n\\n\\n>From: \"Craig R. McClanahan\" <Craig.McClanahan@ENG.SUN.COM>\\n>Reply-To: A mailing list about Java Server Pages specification and\\n>     reference <JSP-INTEREST@java.sun.com>'\n",
      "'Its $10 all night (including the class)\\n\\nNaveen\\n\\n\\n>From: Minal Parikh <minalnparikh@yahoo.com>\\n>Reply-To: zingaris@yahoogroups.com'\n",
      "'Jai SrimanNarayana\\nThere is 1 message in this issue.\\n\\nTopics in this digest:\\n\\n1. va:lmi:ki Ra:ma:yana, no worship to Lord Siva by Sri Rama.\\nFrom: chinna jeeyar <acharya27@yahoo.com>'\n",
      "'> > >\\n> > >Thanks. But how can I refer to doc2Body.jsp in onLoad=\"...\"?\\n> > >\\n> > >\\n> > >\\n> > > >From: Tarik Makota <makota-tarik@WORLDNET.ATT.NET>\\n> > > >Reply-To: A mailing list about Java Server Pages\\nspecification and\\n> > > >     reference <JSP-INTEREST@java.sun.com>'\n",
      "\"> Which class file you're talking about ? Are you using Jrun ?\\n>\\n> >From: Pedro Meza <pmeza@USWEST.COM>\\n> >Reply-To: A mailing list about Java Server Pages specification and\\n> >     reference <JSP-INTEREST@java.sun.com>\"\n",
      "'I think the only way for JSP to invoke a JSP page on another Machine is by\\nPost method, the same method Applets can Post to their home server, but JSP\\nwould be less restrictive.\\nAnother way to Communicate from JSP to another machine is to use RMI.\\n\\nERD 2000 A.D.\\n\\n\\n>From: Reed Sylvester <sreed@TRIBUNE.COM>\\n>Reply-To: A mailing list about Java Server Pages specification and\\n>     reference <JSP-INTEREST@java.sun.com>'\n",
      "'JDBC, not JSP...\\n\\nCheck the ResultSetMetaData from the ResultSet.\\n\\n\\n>From: Marino Vittorio <vittorio.marino@FASTWEB.IT>\\n>Reply-To: A mailing list about Java Server Pages specification and\\n>     reference <JSP-INTEREST@java.sun.com>'\n",
      "'<%! declares variable at class level while <% declares variable at service\\nmethod level.  Therefore, <%! variables are shared by all clients accessing\\npage and need to be made thread safe ect, but <% variables will only be\\naccess in the scope of a single request.\\n\\n\\n>From: Ashish Bhatia <AshishB@NIIT.COM>\\n>Reply-To: A mailing list about Java Server Pages specification and\\n>     reference <JSP-INTEREST@java.sun.com>'\n",
      "'Jai SrimanNarayana\\nThere are 2 messages in this issue.\\n\\nTopics in this digest:\\n\\n1. U.S. Attacked\\n2. Re: Question to Sri Chinna Jeeyar about Gaudiya Vaishnavism and\\nKrishna avatara.\\nFrom: chinna jeeyar <acharya27@yahoo.com>'\n",
      "'sendRedirect will work if you don\\'t need to preserve the originating request\\ndata - as it returns to the browser before redirecting it behaves as a new\\nrequest would.\\nAnother option would be to use the request dispatcher which can do an\\ninclude or a forward.\\n\\neg to include a html or jsp ...\\n\\nPrintWriter out = response.getWriter;\\nout.Println(\"<HTML>\");\\nout.Println(\"<BODY>\");\\n\\nRequestDispatcher rd = request.getRequestDispatcher(\"destinationURL\");\\nout.Println(\"</BODY>\");\\nout.Println(\"</HTML>\");\\n\\n\\nGareth\\n\\n\\n\\n\\n>From: Manish Bhatnagar <manish@ACCORD-SOFT.COM>\\n>Reply-To: \"A mailing list for discussion about Sun Microsystem\\'s Java\\n>        Servlet API Technology.\" <SERVLET-INTEREST@java.sun.com>'\n",
      "'Look at JARKARTA project at apache.org. Here you will find the Tomcat,\\nwhich\\nis an servlet container ready for use together with apache...\\n\\nPlease read the user guide for further reference on the configuration of\\napache..\\n\\nBR\\nCarsten Nielsen\\n\\n\\n>From: Marcos <marcos@SECOND.IVAL.ES>\\n>Reply-To: A mailing list about Java Server Pages specification and\\n>     reference <JSP-INTEREST@java.sun.com>'\n",
      "'DSeibert is 100% correct.If you are using RequestDispatcher to send some\\ninfo to a JSP page you can not use PrintWriter in servlet.\\n\\nRemove PrintWriter code entirely in servlet and get the same in the JSP\\npage.\\n\\n\\n\\n>From: \"Seibert, Dan\" <DSeibert@ROADNET.COM>\\n>Reply-To: A mailing list about Java Server Pages specification and\\n>     reference <JSP-INTEREST@java.sun.com>'\n",
      "\"You don't.\\n\\nOnly use <%! declaration if you really understand the timing.\\n\\nfor a quick 5 sec definition read\\nhttp://www.jspinsider.com/reference/jsp/jspscript.html\\n\\nBut I suggest reading the JSP specifications for more information.\\nhttp://java.sun.com/products/jsp/download.html\\n\\nFor your current problem move your function to a javabean or maybe\\ncreate a custom tag to perform the work within.\\n\\n\\nCasey Kochmer\\nwww.jspinsider.com\\n\\n>From: Nishit Trivedi <nishit.trivedi@INSAGE.COM>\\n>Reply-To: A mailing list about Java Server Pages specification and\\n>     reference <JSP-INTEREST@java.sun.com>\"\n",
      "'If *every* jsp page needs to include same head and foot, you can consider\\nusing \"server side indudes\" i think.\\n\\n\\n>From: \"Williams, Stephen\" <saw@HNC.COM>\\n>Reply-To: A mailing list about Java Server Pages specification and\\n>     reference <JSP-INTEREST@java.sun.com>'\n",
      "'Hi, we are releasing the opensource JSPKit (www.jspinsider.com) this\\nweekend, and within it will be a series of Classes and Beans\\nwhich will show you how to perform Database connectivity.\\n\\nAnother good example is the PoolMan software\\nhttp://www.codestudio.com/\\n\\nAlso You can refer to the JDBC API tutorial printed by Addison Wesley\\n\\nYou will find the Switch over from using the ADO object to JSP to be a\\nlittle frustrating at first. Since the ADO currently has more features and\\nis very easy to use. I highly recommend the JDBC API reference in helping\\nyou in the issue.\\n\\nCasey Kochmer\\n\\n\\n>From: Dennis Huang <DennisH@DATACOM.COM.AU>\\n>Reply-To: A mailing list about Java Server Pages specification and\\n>     reference <JSP-INTEREST@java.sun.com>'\n",
      "'use\\n\\nvoid setAttribute(java.lang.String name, java.lang.Object value)\\nin ver 2.2\\n\\nand\\n\\nvoid putValue(java.lang.String name, java.lang.Object value)\\n\\nin earlier versions\\n\\ncheers\\n\\nTripat\\n\\n>From: hotmail <manish153@HOTMAIL.COM>\\n>Reply-To: A mailing list about Java Server Pages specification and\\n>     reference <JSP-INTEREST@java.sun.com>'\n",
      "'> Jai SrimanNarayana\\n>\\n------------------------------------------------------------------------\\n>\\n> There is 1 message in this issue.\\n>\\n> Topics in this digest:\\n>\\n>       1. Katho:panishad - I\\n>            From: \"Ch. Sheshagiri\" <cseshu@yahoo.com>\\n>\\n>\\n>\\n________________________________________________________________________\\n>\\n________________________________________________________________________\\n>\\n> Message: 1'\n",
      "'Why do you need to use jsp to do it? It would be easier to\\nuse XSL. If you\\nwant you can use XSL commands and save it in a .jsp file (I\\nguess this would\\nwork - I am not entirely sure though). Then call this .jsp\\nfile as if you\\nwere calling a proper .jsp file. If you need any more help of how to\\ntransform XML into HTML usign XSLT send me an e-mail. This\\nmailing list is\\nonly for jsp related stuff.\\n\\nHope this helps.\\n\\n\\n>From: Deepak Kumar <mysql_in@YAHOO.COM>\\n>Reply-To: A mailing list about Java Server Pages specification and\\n>     reference <JSP-INTEREST@java.sun.com>'\n",
      "\"I think this is email client,\\nI'm looking for chat (as in chatrooms) software.\\nAnyone ?\\n\\n\\n>From: Ron Chan <rmlchan@YAHOO.COM>\\n>Reply-To: A mailing list about Java Server Pages specification and\\n>     reference <JSP-INTEREST@java.sun.com>\"\n",
      "'Fortunately there already exist one which deals with Advance Java like J2EE,\\nXML ,etc it is called ServerSide-India. To  subscribe send a blank mail to\\nServerSide-India-subscribe@yahoogroups.com (formally egroups).\\nyou can also visit their website at http://ServerSideIndia.patelsoftware.com\\n\\n\\n\\n\\n\\n>From: Arnaud D <adostes@YAHOO.COM>\\n>Reply-To: \"A mailing list for discussion about Sun Microsystem\\'s Java\\n>        Servlet API Technology.\" <SERVLET-INTEREST@java.sun.com>'\n",
      "'use jax to interact with java applications and xml\\nthanks.\\n\\n>From: Modassir Sattar <modassir@ELECTRAMEDIA.COM>\\n>Reply-To: XML technologies in the Java Platform <XML-INTEREST@java.sun.com>'\n",
      "'Thanks for your reply.\\nYes, I have set jdk1.2 in my classpath. The servlets examples all work fine\\ni.e. in /examples there are servlet and jsp examples; the jsp examples work\\npartially i.e. it asks me for an input i.e. namy my favorite colors say and\\nwhen i submit this, it does not react.\\n\\nKen\\n\\n\\n>From: sufi malak <sufi_m@HOTMAIL.COM>\\n>Reply-To: A mailing list about Java Server Pages specification and\\n>     reference <JSP-INTEREST@java.sun.com>'\n",
      "'I got it, I forgot, I put = instead of ==\\n\\nThanks\\n\\n\\n>From: Joseph Ottinger <epesh@HOTMAIL.COM>\\n>Reply-To: A mailing list about Java Server Pages specification and\\n>     reference <JSP-INTEREST@java.sun.com>'\n",
      "'The JSP container class is the server processing your JSP request.\\n\\nTomcat, Resin, Orion and websphere are all examples of a container class.\\nKeep in mind the more the server does for you, the more time you will have\\nto put towards learning its capabilities.\\n\\nAs far as Enterprise Java Beans, that is an area I still to expand into\\nmyself, so cannot recommend a training schedule.\\n\\nAnyone else have a decent approach for learning EJB?\\n\\nCasey Kochmer\\nwww.jspinsider.com\\n\\n>From: Scott Evans <SCOTTE@AMDOCS.COM>\\n>Reply-To: A mailing list about Java Server Pages specification and\\n>     reference <JSP-INTEREST@java.sun.com>'\n",
      "'>   THIS IS A BLOODY JSP LIST NOT AN ASP.\\n>\\n>\\n> >From: \"Srinivas K. R.\" <srinivas.ras@WIPRO.COM>\\n> >Reply-To: A mailing list about Java Server Pages specification and\\n> >     reference <JSP-INTEREST@java.sun.com>'\n",
      "'Use the forward tag:\\n<jsp:forward page=\"mymainjsp.jsp\"/>\\n\\n\\n>From: Mohan Radhakrishnan <mohan@INFORMATIVE.COM>\\n>Reply-To: A mailing list about Java Server Pages specification and\\n>     reference <JSP-INTEREST@java.sun.com>'\n",
      "'Hi,\\nI am not sure whether the back button can be disabled , but if your previous\\npage is some kind of a form you can disable the submit button of the\\nprevious page (using javaScript) so that even if the user goes back he is\\nnot able to submit the info.\\n\\nsandarbh\\n\\n>From: Ben Li <ben_li@OCTASOFT.COM>\\n>Reply-To: A mailing list about Java Server Pages specification and\\n>     reference <JSP-INTEREST@java.sun.com>'\n",
      "'At the risk of sounding elitist... aw, heck, I *am* elitist. Let\\'s go for\\nit. :)\\n\\nI\\'m reminded of the old joke: \"Doctor, it hurts when I do this.\" The\\ndoctor\\'s response: \"Don\\'t do that.\"\\nfor example, is a far faster web server than Apache, and is a far better\\ncontainer than Tomcat. If you absolutely HAVE to have apache serve as a\\nfront end, that\\'s easy as well: see\\nhttp://www.orionsupport.com/articles/apachefrontend.html for details.\\n\\n\\n>From: Jim King <j_king_1@HOTMAIL.COM>\\n>Reply-To: A mailing list about Java Server Pages specification and\\n>     reference <JSP-INTEREST@java.sun.com>'\n",
      "'Use the method session.isAlive() to check if it alive or not.\\n\\nRaj.\\n\\n>From: viliandy leonardo <vili_exisu@HOTMAIL.COM>\\n>Reply-To: A mailing list about Java Server Pages specification and\\n>     reference <JSP-INTEREST@java.sun.com>'\n",
      "\"any question is legitimate if the poster makes clear that he/she\\nhas looked\\nin all the obvious places, has tried a number of approaches, and is still\\nstuck.  i have no complaint with them.  i have been there myself..\\n\\nyet the percentage of one-liners asking where to find info about java is\\nskyrocketing, and just identifying and deleting those has become\\nquite time\\nconsuming.  it just seems odd that someone who can figure out how to join\\nthe list and post an inane question doesn't have the skills to find the\\ninformation they need..\\n\\ni'll quit grousing now.  it will do no good in any event..\\n\\nbradley mclain\\n\\n>From: Kevin Duffey <kduffey@BUYMEDIA.COM>\\n>Reply-To: A mailing list about Java Server Pages specification and\\n>     reference <JSP-INTEREST@java.sun.com>\"\n",
      "'I do not think you can do it without restarting the server. I have exactly\\nthe same problem. Every time I change something in my Bean I have to restrat\\nthe JRun. This is kind of annoying.\\n\\n\\n>From: Martin Nwalal <mnm@CYBER-NETWORKS.FR>\\n>Reply-To: A mailing list about Java Server Pages specification and\\n>     reference <JSP-INTEREST@java.sun.com>'\n",
      "'while your out smack Finnegan around for me\\n\\n>From: \"Happ, Wayne (Exchange)\" <whapp@BEAR.COM>\\n>Reply-To: A mailing list about Java Server Pages specification and\\n>     reference <JSP-INTEREST@java.sun.com>'\n",
      "'is it working fine for size < 1MB\\n\\n>From: Risto Reinpõld <risto.reinpold@MICROLINK.EE>\\n>Reply-To: A mailing list about Java Server Pages specification and\\n>     reference <JSP-INTEREST@java.sun.com>'\n",
      "'Do you have cookies enabled?\\n\\nOn the close out question. You can use Javascript,\\nput code in the document\\nclose event. This code can trigger opening another\\npage which then performs\\nthe required operation. (the other page can then\\nclose itself in the open\\nevent.) We have coded something similiar for an ASP\\napp we built a while\\nago, so I know, that it should work. At least in\\ntheory...\\nOther than coding a trick like this, you cant know\\nwhen the using just shuts\\nthe window. one of the disadvantages of a web\\napplication.\\n\\nCasey Kochmer\\n\\n\\n>From: Angela Chow <amlchow@YAHOO.COM>\\n>Reply-To: A mailing list about Java Server Pages\\nspecification and\\n>     reference <JSP-INTEREST@java.sun.com>'\n",
      "'Here is a list of providers\\n\\nhttp://www.jspinsider.com/links/jsphosts.html\\n\\nIf you are just starting there are a few free sites on the list.\\n\\nIf you have a production level system\\n\\nthen try www.spinweb.com\\n\\nCasey\\n\\n\\n\\n>From: kaab kaoutar <kaab_k@HOTMAIL.COM>\\n>Reply-To: A mailing list about Java Server Pages specification and\\n>     reference <JSP-INTEREST@java.sun.com>'\n",
      "'1) Use a better JSP server.\\n2) Use a faster compiler to compile the JSP.\\n3) Change your JSP less often. :)\\n\\n\\n>From: Jon Shoberg <jshoberg@CBD.NET>\\n>Reply-To: A mailing list about Java Server Pages specification and\\n>     reference <JSP-INTEREST@java.sun.com>'\n",
      "'This would be more appropriate on a JDBC list, as it doesn\\'t mention JSP at\\nall. However, when I looked on http://archives.java.sun.com/archives/, I\\ndidn\\'t find a reference to one. Perhaps someone else has a pointer for a\\nJDBC-specific list?\\n\\nYou can use \"like\" in a prepared statement; as I recall, all you\\'d need is\\nto make sure the string you\\'re setting has the wildcards. To wit:\\n\\nPreparedStatement ps=connection.createPreparedStatement(\\n\"select * from products where name like ?\");\\nps.setString(1, \"%\"+searchName+\"%\");\\n\\nI\\'ve not tested that code, and I don\\'t usually use JDBC directly any more\\n(EJBs much preferred) so you may have to tweak some.\\n\\n\\n>From: blueless <blueless@NSMEDIA.NET>\\n>Reply-To: A mailing list about Java Server Pages specification and\\n>     reference <JSP-INTEREST@java.sun.com>'\n",
      "\"I don't know why it is getting that error.  However, why do you cast your\\nresult set to an OracleResultSet.  The jdbc api is designed to abstract\\nvender specific code.  I would go to basics and verify that everything is\\nset up correctly and make sure the column selected can in fact converted to\\na string.\\n\\n\\n>From: qfjiang <iwin@188.CC>\\n>Reply-To: A mailing list about Java Server Pages specification and\\n>     reference <JSP-INTEREST@java.sun.com>\"\n",
      "'Bob,\\n\\nwhat does your application wants to do so that we could figure out the\\nalternative that we can offer.\\n\\nJoy\\n\\n\\n>From: Bob Carpenter <bobc@ENGINEER.COM>\\n>Reply-To: A mailing list about Java Server Pages specification and\\n>     reference <JSP-INTEREST@java.sun.com>'\n",
      "'from my exp,I think you should check the the location of your taglib class\\nfile.for tomcat I think you just put it in classes dir and check your\\nweb.xml,make it correct.\\n\\n\\n>From: David Castro <thetechwriter@YAHOO.COM>\\n>Reply-To: A mailing list about Java Server Pages specification and\\n>     reference <JSP-INTEREST@java.sun.com>'\n",
      "'thanks .\\n\\n>From: \"Karau, Joe\" <Joe.Karau@KINGLAND.COM>\\n>Reply-To: A mailing list about Java Server Pages specification and\\n>     reference <JSP-INTEREST@java.sun.com>'\n",
      "'class CalendarDateDemo {\\npublic static void main(String args[]) {\\nyear = calendar.get(Calendar.YEAR);\\nmonth = calendar.get(Calendar.MONTH)+1;\\nday   = calendar.get(Calendar.DAY_OF_MONTH);\\n}\\n}\\n\\nThis will display the moth day and year.\\nYou can use the propertiy file concept and save the Time zone there.\\nRead the appropriate time zone and get the date.\\nBy default it will pick you current time zone.\\n\\nSee the documentation for above used API and you can get the TIME ZONE too.\\n\\nRajendra Pal Singh\\nIncredible Solutions Inc.\\n\\n>From: Andrés Wagner <awagner@MAC.COM>\\n>Reply-To: \"A mailing list for discussion about Sun Microsystem\\'s Java\\n>        Servlet API Technology.\" <SERVLET-INTEREST@java.sun.com>'\n",
      "'This is not valid code.  A Vector is a collection of objects, not a mapping\\nof keys to values.  You are interested in using a hashtable or extension\\nthereof.\\n\\n\\n\\n>From: Manish Joshi <manish153@HOTMAIL.COM>\\n>Reply-To: A mailing list about Java Server Pages specification and\\n>     reference <JSP-INTEREST@java.sun.com>'\n",
      "'Here is what I have my environment variables set too.\\n\\nSET JAVA_HOME=C:\\\\jdk1.2.2\\nSET TOMCAT_HOME=C:\\\\tomcat\\n\\nSET\\nCLASSPATH=C:\\\\jdk1.2.2\\\\lib\\\\tools.jar;C:\\\\jdk1.2.2\\\\jre\\\\lib;C:\\\\jdk1.2.2\\\\bin;C:\\\\tomcat\\\\lib;C:\\\\tomcat\\\\classes;\\n\\nBut I am still getting the following message when I try to access the JSP\\nexamples:\\n\\n> > Error: 500\\n> > Location: /examples/jsp/num/numguess.jsp\\n> > sun/tools/javac/Main\\n\\nI am getting this error in the tomcat startup window:\\n\\njava.lang.NoClassDefFoundError: sun/tools/javac/Main\\nat org.apache.jasper.compiler.Compiler(Compiler.java, Compiled Code).....\\n\\nThe servlet examples work fine.\\n\\nAny help is appreciated\\ntj\\n\\n\\n>From: \"Craig R. McClanahan\" <Craig.McClanahan@ENG.SUN.COM>\\n>Reply-To: A mailing list about Java Server Pages specification and\\n>     reference <JSP-INTEREST@java.sun.com>'\n",
      "\"You will probably be able to get away with much more lax designs in PHP than\\nyou will with JSP. I'm not saying that you WILL design more poorly in PHP,\\nbut that PHP doesn't really make you think about issues that JSP more or\\nless guides you in.\\n\\nI don't really consider that a strength for PHP.\\n\\n\\n>From: Irfan Mohammed <IrfanM@IISWEB.COM>\\n>Reply-To: A mailing list about Java Server Pages specification and\\n>     reference <JSP-INTEREST@java.sun.com>\"\n",
      "\"i find this very vague and thus difficult to believe.  a few questions:\\n\\nfor a real test of jsp/servlet scalability look here:\\nhttp://www.orionserver.com  --  go to 'benchmarks'\\n\\nand remember, speed isn't everything.  bear these advantages of the java\\nworld in mind:\\nbradley mclain\\n\\n\\n>From: skeptical <skeptical__@HOTMAIL.COM>\\n>Reply-To: A mailing list about Java Server Pages specification and\\n>     reference <JSP-INTEREST@java.sun.com>\"\n",
      "\"hi ,\\ni am spilling beans on websphere, th problem i am facing is while deploying\\nit throws an error saying that set up working directory, though i deployed\\nmany beans in the similar fashion but this problem persists. i kept shared\\nmy working directory but that does'nt workout, anyone who knows please\\nsuggest the remedy.\\n\\n\\n>From: Tamanna Kher <khertamanna@ITIL.COM>\\n>Reply-To: A mailing list about Java Server Pages specification and\\n>     reference <JSP-INTEREST@java.sun.com>\"\n",
      "'if  you are using session variables then frames do not make a difference,the\\nvariable will have session across the frames\\nsandarbh\\n>From: Rueda Prucksawatnont <rueda001@HOTMAIL.COM>\\n>Reply-To: A mailing list about Java Server Pages specification and\\n>     reference <JSP-INTEREST@java.sun.com>'\n",
      "'There are cases where you may need to store some info about the user\\'s\\nauthentication or privilege information in a session.  Saying \"don\\'t ever\\nput authentication information in a session\" is wrong.  You may have a set\\nof private pages (or sites) that should only be seen by a certain set of\\nusers.  It is not unacceptable on user login to store some info about this\\nuser\\'s privs in the session....that way you don\\'t continually go back to the\\ndb to check if it is ok for the user to see this page.  You prob don\\'t want\\nto store the username/password in the session, but storing the users privs\\nin memory is not necessarily bad....these auth questions often have to do\\nwith number of sites/pages that you support, different sets of users that\\nyou support, and total number of users that you support.  This is not so\\nblack and white.\\n\\n\\n>From: Joseph Ottinger <epesh@HOTMAIL.COM>\\n>Reply-To: A mailing list about Java Server Pages specification and\\n>     reference <JSP-INTEREST@java.sun.com>'\n",
      "\"try nakenchat it is pretty cool...it has a c server abd java applet client.\\nyou can search for it on www.freshmeat.net. hope it helps.\\n\\nparvez\\n\\n\\n\\nAnd Then  Ross L wrote .............\\n\\n> I think this is email client,\\n> I'm looking for chat (as in chatrooms) software.\\n> Anyone ?\\n>\\n>\\n> >From: Ron Chan <rmlchan@YAHOO.COM>\\n> >Reply-To: A mailing list about Java Server Pages specification and\\n> >     reference <JSP-INTEREST@java.sun.com>\"\n",
      "'actually you have a typo it looks like in one line you are using\\nrs = cs.getResultSet(); and then you use\\n\\nrs = ps.getResultSet();\\n\\nso ps should be cs?\\n\\nCasey Kochmer\\n\\n\\n\\n>From: Jimmi Dyson <JimmiD@ILLYCORP.COM>\\n>Reply-To: A mailing list about Java Server Pages specification and\\n>     reference <JSP-INTEREST@java.sun.com>'\n",
      "'Not true, JSP is alive and well,\\n\\nAs both JSP Trainers and the operators of JSPInsider web site\\nwe are seeing increasing demand for JSP and Java on the web. In fact\\nI am also happy to say the interest in JSP is evenly distributed around\\nthe world and it has become very much an international tool of choice for\\nmany companies and people.\\n\\nThe market is both strong and growing. The problem is one of not enough\\nresources to meet market needs.\\n\\nIn fact ZD Net rated JSP as one of the hottest technologies to watch this\\nyear!\\n\\nCasey Kochmer\\nPresident Amberjack Software LLC\\n\\n\\n>From: \"Mathew, Binoy (CORP, GEITC)\" <Binoy.Mathew@GEIND.GE.COM>\\n>Reply-To: A mailing list about Java Server Pages specification and\\n>     reference <JSP-INTEREST@java.sun.com>'\n",
      "'I have checked my Servel.XML and it has got the following as context\\npath. Does this setting needs to be changed?\\n\\n<Context path=\"/examples\" docBase=\"webapps/examples\" debug=\"0\"\\nreloadable=\"true\" >\\n</Context>\\n<!-- example - how to override AutoSetup actions -->\\n<Context path=\"\" docBase=\"webapps/ROOT\" debug=\"0\" reloadable=\"true\" >\\n</Context>\\n\\n<Context path=\"/test\" docBase=\"webapps/test\" debug=\"0\" reloadable=\"true\" >\\n</Context>\\n\\nYesterday When I was running tomcat by typing\\nhttp://localhost:8080/hello.jsp it was showing me the source code in browser\\nwindow and today again started showing the HTML output ignoring the JSP\\ntags. In the both the case it is still not working as expected. Does someone\\nhave the idea why?\\n\\nAlso do I need to set TOMCAT_HOME explicitly?\\n\\nThanks....\\n\\n\\n>From: Agarwal Gokul <gokul_a@IOCL.CO.IN>\\n>Reply-To: A mailing list about Java Server Pages specification and\\n>     reference <JSP-INTEREST@java.sun.com>'\n",
      "'> Try %substring%\\n> Sanjay\\n>\\n>\\n> >From: Khem Chand Sachdeva <ksuchdeva@NPI.STPN.SOFT.NET>\\n> >Reply-To: A mailing list about Java Server Pages specification and\\n> >     reference <JSP-INTEREST@java.sun.com>'\n",
      "'Sello,\\n\\nwhat is usually do is to create an SQL statement that goes something like:\\n\"SELECT * from usertable where username=theEncodedUsernameHere and password\\n= theEncodedPasswordHere\"\\n\\nThen create a ResultSet that executes the said statement above.\\nAfter that check your ResultSet if it is not null (this means you have an\\nexisting user with the username and password that he encoded. this is done\\nvia the statement:\\n\\nif (ResultSetObject.next()){\\n\\n//your code here}\\nelse { //throw an error message here }\\n\\nhope this one helps..\\n\\n\\nJoy\\n\\n\\n>From: Sello Mathibe <smt@XCEL.CO.ZA>\\n>Reply-To: A mailing list about Java Server Pages specification and\\n>     reference <JSP-INTEREST@java.sun.com>'\n",
      "'>\\n>hi JAY SHRI KRISHANA,\\n>  place the compiled servlet file in WEB-INF\\\\classes folder and try\\ncalling\\n>the servlet.\\n>  if it is a problem with compiling set the classpath to servlet.jar\\nfile.\\n>\\n>nanda kishore\\n>\\n>\\n>\\n>\\n>\\n>>From: hiteshonline <hiteshonline2000@EGUJARAT.NET>\\n>>Reply-To: A mailing list about Java Server Pages specification and\\n>>     reference <JSP-INTEREST@java.sun.com>'\n",
      "'Yes i understand that i have to bring only 100 records to client , but\\nwhen the client wants next 100 records from where will I get them on the\\nserver(i can find them only if i saved them somewhere on my server ), only\\nway is to requery the database and that is even more expensive in my case\\nbecuse iam using 3 tier system, so everytime goin back to database server is\\nvery expensive.\\nregards\\nkaran\\n\\n>From: Selvamani Jayakumar <maniyengar@HOTMAIL.COM>\\n>Reply-To: A mailing list about Java Server Pages specification and\\n>     reference <JSP-INTEREST@java.sun.com>'\n",
      "'How did you do it please ?\\n\\n\\n>From: \"Ortiz, William J\" <William.J.Ortiz@USA.XEROX.COM>\\n>Reply-To: A mailing list about Java Server Pages specification and\\n>     reference <JSP-INTEREST@java.sun.com>'\n",
      "'Paul\\n\\nCheck out our web site jsp insider (www.jspinsider.com)\\nJayson has written a bean component for sending email using smtp\\nand there is sample code on how to use it with JSP.\\nAll the code is availible and free to use.\\n\\nCasey Kochmer\\n\\n>From: Paul Enriquez <Pablo.Enriquez@JCI.COM>\\n>Reply-To: A mailing list about Java Server Pages specification and\\n>     reference <JSP-INTEREST@java.sun.com>'\n",
      "'I would like to add for small datasets, using arrays would be a fine way to\\ngo, If you dataset is overly large it might be a problem and slow.\\n\\nI have code in the JSPKit (www.jspinsider.com) which shows you how to build\\na report object and stash the data into the report object using Array Lists.\\nOnce the data is in the report object you can manage data any way you\\ndesire.\\n\\nCurrently the sorting is not built into it, but if you are interested we\\ncould  add sorting to the report object.\\n\\nCasey Kochmer\\n\\n\\n>From: Dan Lopez <dan_lopez00@YAHOO.COM>\\n>Reply-To: A mailing list about Java Server Pages specification and\\n>     reference <JSP-INTEREST@java.sun.com>'\n",
      "'I do not think you can do it without restarting\\nthe server. I have exactly\\nthe same problem. Every time I change something in\\nmy Bean I have to restrat\\nthe JRun. This is kind of annoying.\\n\\n\\n>From: Martin Nwalal <mnm@CYBER-NETWORKS.FR>\\n>Reply-To: A mailing list about Java Server Pages\\nspecification and\\n>     reference <JSP-INTEREST@java.sun.com>'\n",
      "\"You're leaving off instantiation, and your use model is rather incomplete,\\nas his was... :)\\n\\n\\n>From: Casper Madsen <casper.madsen@ADCORE.COM>\\n>Reply-To: A mailing list about Java Server Pages specification and\\n>     reference <JSP-INTEREST@java.sun.com>\"\n",
      "'Are you redirecting to an errorpage on error?  If\\nso, redirecting to error\\npage can\\'t be done if the buffer has been\\n\"committed\".  If this is the\\nproblem, then you are getting an exception on the\\npage somewhere...\\n\\n\\n>From: \"Sachin S. Khanna\" <emailanorder@VSNL.COM>\\n>Reply-To: A mailing list about Java Server Pages\\nspecification and\\n>     reference <JSP-INTEREST@java.sun.com>'\n",
      "'> Jaspreet,\\n>\\n> Try\\n> http://jakarta.apache.org/tomcat/jakarta-tomcat/src/doc/NT-Service-howto.html\\n>\\n> Craig\\n>\\n> >From: jaspreet <jsingh@IISINCORP.COM>\\n> >Reply-To: A mailing list about Java Server Pages specification and\\n> >     reference <JSP-INTEREST@java.sun.com>'\n",
      "'No - Spanish Bay?\\n\\n**> -----Original Message-----\\n**> From: Rick L. Chan [mailto:rc888@pacbell.net]\\n**> Sent: Thursday, May 10, 2001 2:00 PM\\n**> To: Betty Chan-Bauza\\n**> Subject: Re: Sunday\\n**>\\n**>\\n**> have fun!  are you playing pebble beach?\\n**>\\n**> ----- Original Message -----\\n**> From: \"Betty Chan-Bauza\" <Betty.Bauza@avocadoit.com>\\n**> To: \"Richard Chan (E-mail)\" <rc888@pacbell.net>\\n**> Sent: Thursday, May 10, 2001 2:03 PM\\n**> Subject: Sunday\\n**>\\n**>\\n**> > We have tee times at 11:30 in Monterrey on Sunday - so we\\n**> will be gone all\\n**> > day.\\n**> >\\n**> > Betty Chan-Bauza\\n**> > Global Alliance Manager\\n**> > AvocadoIT, Inc.\\n**> > Direct: 1.408.562.8192\\n**> > Mobile: 1.408.393.3120\\n**> > Fax: 1.408-562.8100\\n**> > betty.bauza@avocadoit.com\\n**> >\\n**> >\\n**>'\n",
      "'I already have the properties file setup the way u had specified,\\n\\nI have the login bean for the initial database connection, then i get the\\nusername and password entered and compare it with the values specified in\\nmy\\ncustomer table. After validation i need to go to the next jsp page. My\\nquestion is that will I have the connection to the database throughout the\\nsession so that when i go to the different jsp pages and need to retrieve\\ndata from the database, how do i do it?\\n\\nThanks\\n\\n\\n>From: \"Jaffa, Dan\" <dan.jaffa@PFIZER.COM>\\n>Reply-To: A mailing list about Java Server Pages specification and\\n>     reference <JSP-INTEREST@java.sun.com>'\n",
      "'To unsubscribe from this group, send an email to:\\njava-mobile-unsubscribe@egroups.com\\n\\n\\nThere is 1 message in this issue.\\n\\nTopics in this digest:\\n\\n1. RE: Digest Number 66\\nFrom: \"Sergey Zolotnitsky\" <sergeyzo@port-soft.com>'\n",
      "'Hi,\\nI suppose key is a String,in that case you will need to do this\\nif(key.equals(\"AT\").\\n\\n\\nHope this helps.\\n\\n\\n\\n>From: Aaron Prohaska <verdesoft@VERDESOFT.NET>\\n>Reply-To: A mailing list about Java Server Pages specification and\\n>     reference <JSP-INTEREST@java.sun.com>'\n",
      "\"Shawn,\\n\\nDon't be so mean.  Everybody has the first time doing things.  You know\\nsomething doesn't give you the right to tease other people.  Yes, I am the\\nbeginner at jsp.  But  you sure are the beginner as a decent human being.\\nSo work on that.\\n\\nShirley\\n\\n\\n>From: Shawn Zhu <Shawn.Zhu@MEDEM.COM>\\n>Reply-To: A mailing list about Java Server Pages specification and\\n>     reference <JSP-INTEREST@java.sun.com>\"\n",
      "'Comments: To: janet@CHINASYSTEMS-CN.COM\\nTo: JAVA2D-INTEREST@JAVA.SUN.COM\\n\\nDid you call super.paintComponent inside your paintComponent method?\\n\\nA.\\n\\n\\n>From: janet <janet@CHINASYSTEMS-CN.COM>\\n>Reply-To: janet <janet@CHINASYSTEMS-CN.COM>'\n",
      "'SQLException \"ORA-00997 illegal use of Long data type\"\\n\\n\\n>From: Joe Milora <JoeM@EAGLECMMS.COM>\\n>Reply-To: A mailing list about Java Server Pages specification and\\n>     reference <JSP-INTEREST@java.sun.com>'\n",
      "'> Sello,\\n>\\n> what is usually do is to create an SQL statement\\nthat goes something like:\\n> \"SELECT * from usertable where\\nusername=theEncodedUsernameHere and\\npassword\\n> = theEncodedPasswordHere\"\\n>\\n> Then create a ResultSet that executes the said\\nstatement above.\\n> After that check your ResultSet if it is not null\\n(this means you have an\\n> existing user with the username and password that\\nhe encoded. this is done\\n> via the statement:\\n>\\n>   if (ResultSetObject.next()){\\n>\\n>          file://your code here}\\n>   else { file://throw an error message here }\\n>\\n> hope this one helps..\\n>\\n>\\n> Joy\\n>\\n>\\n> >From: Sello Mathibe <smt@XCEL.CO.ZA>\\n> >Reply-To: A mailing list about Java Server Pages\\nspecification and\\n> >     reference <JSP-INTEREST@java.sun.com>'\n",
      "'No, it\\'s not because of the last parenthesis ( I just missed it when typing\\nthis question).\\nthe error is :\\norg.apache.jasper.JasperException: Unable to compile class for\\nJSPC:\\\\tomcat321\\\\work\\\\localhost_8080%2FCareer\\\\_0002fpager_0002djdbc_0002ejspp\\nager_0002djdbc_jsp_9.java:490:\\nMissing term.\\nif ( == \"yes\") {\\n^\\n\\n\\n\\n>From: \"Middleton, Jorge Luis\" <jmiddleton@SETA.COM.AR>\\n>Reply-To: A mailing list about Java Server Pages specification and\\n>     reference <JSP-INTEREST@java.sun.com>'\n",
      "'It is, you can import as many packets as you think are neccessary.\\nTo avoid the following error type :\\n\\n<% java.util.Date() date = new java.util.Date(); %>\\n\\nthe current date is <$ =date %>\\n\\n\\n>From: Federico Delpino <delpino@BO.ASTRO.IT>\\n>Reply-To: A mailing list about Java Server Pages specification and\\n>     reference <JSP-INTEREST@java.sun.com>'\n",
      "'hi JAY SHRI KRISHANA,\\nI had not tried any thing like that but i think we can do that by changing\\nthe web.xml file in web-inf directory of tomcat.u have to give the servlet &\\nservlet-mapping to do that .try that.\\nnanda kishore rudraraju\\n\\n>From: hiteshonline <hiteshonline2000@EGUJARAT.NET>\\n>Reply-To: A mailing list about Java Server Pages specification and\\n>     reference <JSP-INTEREST@java.sun.com>'\n",
      "'It\\'s not browser specific.  It is based on the browser session.  All windows\\nof any browser application have the same session.  The difference in session\\nID didn\\'t have to do with the difference in browser type, but the fact that\\na \"NEW\" browser application instance was created.\\n\\n\\n>From: SANDARBH SHARMA <sandarbh@HOTMAIL.COM>\\n>Reply-To: A mailing list about Java Server Pages specification and\\n>     reference <JSP-INTEREST@java.sun.com>'\n",
      "'How about Nov 17th, 18th, or 19th?  And about the cooking part, I think\\nthere should be some exception:)\\n\\n\\n\\n\\n>From: \"Toakase Panisi\" <tpanisi@scif.com>\\n>Reply-To: <tpanisi@scif.com>\\n>To: <rxvitthal@yahoo.com>, <bunny_k@hotmail.com>, <liews@aol.com>,\\n><michelle@nvidia.com>, <SVitthal@avocadoit.com>, <sliew@sesd.org>,\\n><L369L@hotmail.com>, <douang1@prodigy.net>, <VTWAKKO@aol.com>'\n",
      "\"Interesting that nobody mentioned the performance of PHP vs JSP.\\nOn a JSP list, could that be because JSP doesn't measure up as far as performance goes?\\n\\nWe all have opinions but anybody have a more objective statement about it?\\n\\nTony\\n\\n> You will probably be able to get away with much more lax\\n> designs in PHP than\\n> you will with JSP. I'm not saying that you WILL design more\\n> poorly in PHP,\\n> but that PHP doesn't really make you think about issues that\\n> JSP more or\\n> less guides you in.\\n>\\n> I don't really consider that a strength for PHP.\\n>\\n>\\n> >From: Irfan Mohammed <IrfanM@IISWEB.COM>\\n> >Reply-To: A mailing list about Java Server Pages specification and\\n> >     reference <JSP-INTEREST@java.sun.com>\"\n",
      "'Have you tried ColdFusion?\\n\\n\\n>From: \"Nestel, Frank\" <frank.nestel@COI.DE>\\n>Reply-To: A mailing list about Java Server Pages specification and\\n>     reference <JSP-INTEREST@java.sun.com>'\n",
      "'Jai SrimanNarayana\\nThere is 1 message in this issue.\\n\\nTopics in this digest:\\n\\n1. Tele-Stotra & Text by HH Jeeyar Swami (Live) Every Wednesday 8:00PM\\nCST. (Next few months)\\nFrom: Pattangi <danp@uic.edu>'\n",
      "\"> Beat me to it.  I was thinking of the same metaphor.  You may want to open\\nsource the code\\n> when you're done, in the interest of building a better democracy.\\n>\\n> ----- Original Message -----\\n> From: Steve Ropa <steve@miner.com>\\n>\\n>>This might be a dangerous topic, but I kind of saw election returns, with\\n>>each of the object instances being a precinct.  You can have fun then, and\\n>>even create a Peter Jennings object that will do the reporting.\\n\\nWhile not strictly open source, the code is freely (but not easily)\\navailable. Of course, unless you're an astronomer I'm not sure\\nwhat good it would be.\"\n",
      "'I have had a somewhat similiar problem occur twice with my 97 Disco.  No\\nloud bang, but for no reason, the trans will begin to grind loudly!! while\\nshifting gears, it does this everywhere but Nuetral. EVEN PARK.  I simply\\nshut it off restart and it is fine.  Where to begin?\\n\\nDaniel North\\n1997 Disco\\n\\n>From: \"Jeff & Laura Kessler\" <lmkessler@srnet.com>\\n>Reply-To: rro@koan.team.net'\n",
      "'> You are trying to access a variable that hasn\\'t been declared yet.  The\\n<%!\\n> %> code gets generated and run during initialization.  The <% %> code is\\nRUN\\n> during http requests, AFTER initialization.  You are trying to access a\\n> \"method\" variable in an initialization process.  Remember, the JSP gets\\n> converted to a servlet.  If you aren\\'t familiar with servlets you should\\n> acquaint yourself with them because that is the best way to become good\\nwith\\n> JSP and understand issues like the one you are asking about.\\n>\\n> >From: Nishit Trivedi <nishit.trivedi@INSAGE.COM>\\n> >Reply-To: A mailing list about Java Server Pages specification and\\n> >     reference <JSP-INTEREST@java.sun.com>'\n",
      "'hi\\n\\nNormally all search engine works like that. You have to query\\neverytime to the Database Server even in 3 tier architecture.\\nOne more alternate is using XML , where you can store all information\\nin XML file and generate the result. The XML file will have\\nmapping to the Table fields.\\n\\nOne disadvantage of using XML is only IE 5.0 browser supports, even\\nNetscape 6 doesnt support this.\\n\\n\\n\\n\\n>From: Karanjit Singh <iamkaran@HOTMAIL.COM>\\n>Reply-To: A mailing list about Java Server Pages specification and\\n>     reference <JSP-INTEREST@java.sun.com>'\n",
      "'I am still not able to run tomcat successfully...JSP tags are still ignored.\\n\\nCould anyone please list down all the steps required to install TOMCAT 3.1\\nin win 98 machine, the prerequisites softwares to be installed, the class\\npath and java_home path settings, the windows system memeory settings,\\netc...\\n\\nI beleive that it will be of great help to everyone. Personally I think even\\nmany links of installing tomcat are incomplete or not very friendly to new\\ncomers...\\n\\nThanks again\\n\\n\\n>From: Agarwal Gokul <gokul_a@IOCL.CO.IN>\\n>Reply-To: A mailing list about Java Server Pages specification and\\n>     reference <JSP-INTEREST@java.sun.com>'\n",
      "'Put in in the properties directory.  Works for my Websphere.  Should be the\\nsame for others.  You might have to bounce the server.\\n\\n\\n\\n\\n>From: Eduardo Miguel Oliveira <eduardo.oliveira@s-tecno.pt>\\n>Reply-To: eduardo.oliveira@s-tecno.pt'\n",
      "'Yeah right Thanx\\nSanjay\\n\\n>From: KRISHNAN <krishnan.venkatachalam@WIPRO.COM>\\n>Reply-To: A mailing list about Java Server Pages specification and\\n>     reference <JSP-INTEREST@java.sun.com>'\n",
      "'I think we have answered this one about a week ago.\\n\\n\\n>From: Hariharan N <hariharan_n@TRIGENT.COM>\\n>Reply-To: A mailing list about Java Server Pages specification and\\n>     reference <JSP-INTEREST@java.sun.com>'\n",
      "'Jai SrimanNarayana\\nThere is 1 message in this issue.\\n\\nTopics in this digest:\\n\\n1. Re: who is terkalwar?\\nFrom: chinna jeeyar <acharya27@yahoo.com>'\n",
      "'Yes you need this file. Without it apache will not load up at all in fact,\\nsince the tomcat configuation changes required, actually specify this module\\ndirectly.\\n\\nYou can download it from the Jserv module which is located\\nhttp://java.apache.org/jserv/dist/. Its been a few months since I did my\\ninstall so i am relying on memory here for the source of\\nApacheModuleJServ.dll\\n\\n\\n\\n\\n\\n>From: Laiwu Luo <laiwu_luo@GLOBALCROSSING.COM>\\n>Reply-To: A mailing list about Java Server Pages specification and\\n>     reference <JSP-INTEREST@java.sun.com>'\n",
      "\"I really don't know the exact reason behind this,but I have faced similar\\nproblems.What I did was just copied and pasted that file with a new name and\\nit worked.Sometimes restarting the machine also helped.Make sure that ur\\nJava Web Serve has not expired and that u have'nt set the system date to a\\nback date.\\n\\nRaj\\n\\n>From: sumit deogharia <sumit_kd@37.COM>\\n>Reply-To: A mailing list about Java Server Pages specification and\\n>     reference <JSP-INTEREST@java.sun.com>\"\n",
      "\"So who's up for the Hana Relay...\\n\\nLisa\\n\\n>From: Bruce Bartlett <Bruce.Bartlett@eng.sun.com>\\n>Reply-To: Bruce Bartlett <Bruce.Bartlett@eng.sun.com>\\n>To: ARSYETSO@aol.com, Dolores.Priegnitz@west.sun.com,\\n>Art.Mitchum@eng.sun.com,        BGarcia@replaytv.com,\\n>cwurzner@carstation.com,        dolores.priegnitz@sun.com, Heysax@aol.com,\\n>jdsohn@yahoo.com,        lisakelly4@home.com, pamdoc@msn.com,\\n>rgantly@avocadoit.com,        srosenberg@replaytv.com,\\n>ted.weber@mindspring.com\"\n",
      "'No Sneha actually iam not trying to creat any search engine, its some\\nother application where i have to display results which have got millions of\\nrecords.\\nregards\\nKaran\\n\\n\\n>From: Sneha Sharma <ssharma@CONTEXT.COM>\\n>Reply-To: A mailing list about Java Server Pages specification and\\n>     reference <JSP-INTEREST@java.sun.com>'\n",
      "'No chance you could advocate the use of PreparedStatement, to\\neliminate the\\nneed to escape the data at all, is there?\\n\\nAfter all, st.executeQuery(\"select * from tablename where\\nfield=\"+SQLUtil.escapeText(fielddata)); can be slower and less\\ncorrect than\\nrelying on the driver to handle proper escaping (if necessary) for\\na given\\ndatabase.\\n\\nNo need to mention something like\\n\\nPreparedStatement ps=con.prepareStatement(\"select * from tablename\\nwherefield=?\");\\nOh - wait, I just mentioned it!\\n\\nMore seriously: you really should use PreparedStatements over the\\nalternatives, in all but the most simple cases. Really and truly.\\n\\n\\n>From: T A Flores <abflores@MYSUN.COM>\\n>Reply-To: A mailing list about Java Server Pages specification and\\n>     reference <JSP-INTEREST@java.sun.com>'\n",
      "'can someone tell me how to valide my XML against a DTD.\\nI\\'m doing this way.\\nSay xml file: xfile\\nDTD name: dtdfile\\n\\nClass c = Class.forName(\"com.ibm.xml.parsers.SAXParser\");\\n// create instance of the class\\nParser parser = (Parser) c.newInstance();\\n// create document handler,\\n// and register it\\n\\nThis is not working. It goes fine even against the invalid XML.\\nHelp me\\nUpender\\n\\n\\n>From: Kjell Bengtsson <Kjell.Bengtsson@EPMTECH.JOTNE.COM>\\n>Reply-To: XML technologies in the Java Platform <XML-INTEREST@java.sun.com>'\n",
      "'Hi\\n\\nI think you need to increase the tablespace that is assigned to this user.\\nTo view the different table spaces do a select over the USER_TS_QUOTAS table\\n(you will need DBA permissions), using an alter command you can and setting\\nMAX_BYTES and MAX_BLOCKS to 0 will allow any amount of space.\\n\\nDamien\\n\\n\\n>From: sandarbh <sandarbh@HOTMAIL.COM>\\n>Reply-To: A mailing list about Java Server Pages specification and\\n>     reference <JSP-INTEREST@java.sun.com>'\n",
      "'Try this...\\n\\nString stringDate = \"20/01/1999\";\\n\\ntry\\n{\\nSimpleDateFormat formatter = new SimpleDateFormat\\n(\"dd/MM/yyyy\");\\nParsePosition pos = new ParsePosition(0);\\nDate date = formatter.parse(stringDate, pos);\\n}\\ncatch (Exception e)\\n{\\n//Date is not valid\\n\\n\\nKishore\\n\\n\\n>From: \"Arun M. Thomas\" <arun@IPIN.COM>\\n>Reply-To: A mailing list about Java Server Pages specification and\\n>     reference <JSP-INTEREST@java.sun.com>'\n",
      "'Dear Maheshji:\\n\\nI truelly admire you & Santhala and would deem it a privilege to continue\\nassociation with you.  Visiting jaipur should be a link in that process.\\n\\nWe can only do our best and that\\'s true for our role in FFE.  You did so\\nmuch for FFE.  Often times I pushed you too much inspite of pressures on\\nyour time. I appreciate that you didn\\'t mind it. I am also sure you will\\ncontinue your support.\\nEveryone at FFE feels grateful to you and I am positive that your lead will\\nbe followed up because Venk & Ashok are completely supportive of this idea &\\nso are many others.  Those who are not  would fall in line once the fear of\\nthe unknown technology goes away.\\n\\nRegards.\\n\\nBL\\n\\n\\n>From: \"Mahesh Nagarajaiah\" <mahesh@infobaseusa.com>\\n>Reply-To: <mahesh@infobaseusa.com>'\n",
      "'Hi,\\nSome time it happens to me also.\\nCheck your *.jsp file...\\nThere might be some small mistype, which causes this problem\\nhope you will get it.\\n\\n\\n>From: JSP Ask <askjsp@HOTMAIL.COM>\\n>Reply-To: A mailing list about Java Server Pages specification and\\n>     reference <JSP-INTEREST@java.sun.com>'\n",
      "'Hello Jim,\\nWhat about the sessions between different JSP pages\\nor between a jsp and a servlet ,how do i the data transfer between them\\nthe session object is unique for each jsp ?\\n\\nSanjay\\n>From: Jim Preston <jpreston@STOCKMASTER.COM>\\n>Reply-To: A mailing list about Java Server Pages specification and\\n>     reference <JSP-INTEREST@java.sun.com>'\n",
      "'To unsubscribe from this group, send an email to:\\njava-mobile-unsubscribe@egroups.com\\n\\n\\nThere is 1 message in this issue.\\n\\nTopics in this digest:\\n\\n1. Re: Digest Number 64\\nFrom: \"Loren J. Erickson\" <lorenjerickson@yahoo.com>'\n",
      "\"> I am so sorry, I did not mean to create a kind discussion, But I am still\\n> considering myself newbie, it's not easy to learn everything at once, and\\nI\\n> am doing JSP, javascript, beans with JRUN, all of them are new for me, but\\n> asking questions from everybody here in this list because I want to learn\\n> and find solution to my problems, please if anybody fell that I am\\nbothering\\n> him or her reply and say it, and then I will quit posting in this list.\\n> Thanks\\n>\\n>\\n> >From: Chandhan Rangarajan <chandhan.rangarajan@LINCMEDIA.CO.JP>\\n> >Reply-To: A mailing list about Java Server Pages specification and\\n> >     reference <JSP-INTEREST@java.sun.com>\"\n",
      "\"Jai SrimanNarayana\\nThere are 6 messages in this issue.\\n\\nTopics in this digest:\\n\\n1. Qualities Of Devotees - VI\\n2. Re: Nava Rathri Celebrations\\n3. HariHara Putra - Clarification\\n4. Re: Fwd: The Lord's Acharyan (ManavalaMaMunigal) - And his\\nVaibhavam.\\n5. Re: ignorance\\n6. Re: Need bhagavathas help\\nFrom: chinna jeeyar <acharya27@yahoo.com>\"\n",
      "'try\\n<%= (inputparams.getAreatype()).equals(\"Nativeforest\")?\"Checked\" :\\n\"Notchecked\" %>\\nNote the extra Parenthesis around the (inputparams.getAreatype())\\n\\nERD 2000 A.D.\\n\\n>From: Peter Hutchinson <Peter.Hutchinson@FORESTRYTAS.COM.AU>\\n>Reply-To: A mailing list about Java Server Pages specification and\\n>     reference <JSP-INTEREST@java.sun.com>'\n",
      "'I have classpath as:\\n\\nSet CLASSPATH=C:\\\\JDK1.2\\\\BIN;C:\\\\JDK1.2\\\\lib\\\\tools.jar;\\n\\nWhat else should come here....\\n\\n\\n>From: Jasthi <siva.jasthi@METAPHASETECH.COM>\\n>Reply-To: A mailing list about Java Server Pages specification and\\n>     reference <JSP-INTEREST@java.sun.com>'\n",
      "'In win 98 u can set those values in autoexec.bat file.\\n\\nset those values and restart the machine.\\n\\nHope this helps\\nram\\n\\n>From: Aravind <aravindan@MCDECOM.NET>\\n>Reply-To: \"A mailing list for discussion about Sun Microsystem\\'s Java\\n>        Servlet API Technology.\" <SERVLET-INTEREST@java.sun.com>'\n",
      "'>From: \"Joseph Ottinger\" <epesh@HOTMAIL.COM>\\n> > As far as why I stay on the list despite so many offtopic or misinformed\\n> > questions... well, what can I say? Hope springs eternal.\\n>\\n>I too think this list is a bit noisy with a far too many questions on\\n>everything other than JSP. Why don\\'t we setup a new \\'advanced JSP\\'\\n>discussion list somewhere, such as (http://www.egroups.com)?\\n\\nGet your FREE download of MSN Explorer at http://explorer.msn.com\\n\\n===========================================================================\\nTo unsubscribe: mailto listserv@java.sun.com with body: \"signoff JSP-INTEREST\".\\nFor digest: mailto listserv@java.sun.com with body: \"set JSP-INTEREST DIGEST\".\\nSome relevant FAQs on JSP/Servlets can be found at:\\n\\nhttp://java.sun.com/products/jsp/faq.html\\nhttp://www.esperanto.org.nz/jsp/jspfaq.html\\nhttp://www.jguru.com/jguru/faq/faqpage.jsp?name=JSP\\nhttp://www.jguru.com/jguru/faq/faqpage.jsp?name=Servlets'\n",
      "'No chance you could tell us anything more about HelloWorld other than that\\nit has a ClassCastException error, is there? (Check its inheritance tree, is\\nall I can tell you without more information.)\\n\\n\\n>From: Vladimir Kositsky <vladimirkositskyjsp@HOTMAIL.COM>\\n>Reply-To: A mailing list about Java Server Pages specification and\\n>     reference <JSP-INTEREST@java.sun.com>'\n",
      "'Sorry for a repost, but I decided to get off my lazy butt for once and look\\nsomething up for myself. (If you don\\'t get the sarcasm here, tough.)\\n\\nI went to:\\nhttp://jakarta.apache.org/tomcat/jakarta-tomcat/src/doc/JDBCRealm.howto,\\nwhich happens to have a JDBC authentication mechanism documented -- using\\nmysql, as it turns out. Five links: http://jakarta.apache.org/, to tomcat,\\nto docs, to 3.2, then to \"JDBCRealm.\" Hardly difficult to find. I don\\'t like\\nthe looks of it, but then again... that\\'s okay, Tomcat had to find a way to\\ndo it.\\n\\n\\n>From: Shailendra <Shailendrak@INSPIRA.COM>\\n>Reply-To: A mailing list about Java Server Pages specification and\\n>     reference <JSP-INTEREST@java.sun.com>'\n",
      "'Install Java webserver which comes for  win9x\\nUsing this u can run servlets and u don\\'t have need any LAN connection for\\nthis.\\n\\n\\n>\\n> >From: keesara dinesh <kdineshreddy123@REDIFFMAIL.COM>\\n> >Reply-To: \"A mailing list for discussion about Sun Microsystem\\'s Java\\n> >        Servlet API Technology.\" <SERVLET-INTEREST@java.sun.com>'\n",
      "'Here, you should be able to do that:\\n\\nhttp://jakarta.apache.org/builds/tomcat/release/v3.1/bin/win32/i386/\\n\\n\\n>From: Laiwu Luo <laiwu_luo@GLOBALCROSSING.COM>\\n>Reply-To: A mailing list about Java Server Pages specification and\\n>     reference <JSP-INTEREST@java.sun.com>'\n",
      "'It seemes the compiler did not find your JDBC driver. You are using\\nJDBC:ODBC, then use\"Class.forName(\"jdbc:odbc:JdbcOdbcDriver\")\". It is in the\\njava.sql package.\\ngood luck\\n\\n\\n>From: JEANCHG <scchiang@DIGI-AGE.COM.TW>\\n>Reply-To: A mailing list about Java Server Pages specification and\\n>     reference <JSP-INTEREST@java.sun.com>'\n",
      "'Unsubscribe jsp-interest\\n\\n>From: Pierangelo <Server@ERGONSISTEMI.IT>\\n>Reply-To: A mailing list about Java Server Pages specification and\\n>     reference <JSP-INTEREST@java.sun.com>'\n",
      "'the function \"javascript:submit_button()\" is not being called onClick.\\n\\n\\n>From: \"Chandra, Debmalya (CAP, RAIL)\" <Debmalya.Chandra@GECAPITAL.COM>\\n>Reply-To: A mailing list about Java Server Pages specification and\\n>     reference <JSP-INTEREST@java.sun.com>'\n",
      "'Thanks.  At least I can make the doc2Body reload when doc1Body gets\\nrefreshed.  The next question is how can I pass parameters from doc1Body to\\ndoc2Body while I am doing <body\\nonload=\"parent.doc2Frame.doc2Body.window.location.href = \"doc2Body.jsp\"\">?\\n\\n\\n\\n>From: Justin Owens <justin@EOVISION.COM>\\n>Reply-To: A mailing list about Java Server Pages specification and\\n>     reference <JSP-INTEREST@java.sun.com>'\n",
      "'It should last to the next page where it will be displayed. Would a\\n\"request\" be the best choice?\\n\\nWhat if I wanted to persist my results for more than one user, to save the\\nround trips to the all the way back to the webserver->EJB->database?\\n\\njulian\\n\\n\\n>From: Kevin Jones <kevinj@DEVELOP.COM>\\n>Reply-To: A mailing list about Java Server Pages specification and\\n>     reference <JSP-INTEREST@java.sun.com>'\n",
      "'I am a lazy guy so I would go for the first, but it is better to separate\\nlogic from Hope this helps.\\n\\n\\n>From: Hariharan N <hariharan_n@TRIGENT.COM>\\n>Reply-To: A mailing list about Java Server Pages specification and\\n>     reference <JSP-INTEREST@java.sun.com>'\n",
      "'Hi,\\nIs your file http.conf really looks like this:\\n\\ninclude c:/program files/apache\\ngroup/jakarta-tomcat/conf/tomcat-apache.conf\\n\\non two lines ?\\n\\nTry to put it on one line :\\ninclude c:/program files/apache group/jakarta-tomcat/conf/tomcat-apache.conf\\nor try with \" :\\ninclude c:/\"program files\"/\"apache group\"/jakarta-tomcat/conf/tomcat-apache.conf\\n\\nBye.\\n\\ncocojava chen a écrit :\\n\\n> I guess the real problem is I have a file name with space such as /program\\n> files/apache group/, DOS won\\'t take it.  is there any way that I can use\\n> other name to refer this actual name?\\n>\\n> >From: Raghu <s_raghu20@yahoo.com>\\n> >Reply-To: getraghav@yahoo.com'\n",
      "'this is how it is. even WLS 5.1 has no alternative. I was expecting it to be\\nbetter than 4.5 in this aspect as well\\nsandarbh\\n\\n>From: Panos Konstantinidis <p_konstantinidis@HOTMAIL.COM>\\n>Reply-To: A mailing list about Java Server Pages specification and\\n>     reference <JSP-INTEREST@java.sun.com>'\n",
      "'> Yes you need this file. Without it apache will not load up at all in\\nfact,\\n> since the tomcat configuation changes required, actually specify this\\nmodule\\n> directly.\\n>\\n> You can download it from the Jserv module which is located\\n> http://java.apache.org/jserv/dist/. Its been a few months since I did my\\n> install so i am relying on memory here for the source of\\n> ApacheModuleJServ.dll\\n>\\n>\\n>\\n>\\n>\\n> >From: Laiwu Luo <laiwu_luo@GLOBALCROSSING.COM>\\n> >Reply-To: A mailing list about Java Server Pages specification and\\n> >     reference <JSP-INTEREST@java.sun.com>'\n",
      "'Jun 05, 2000 01:05:16 PM\\n\\nAhh good point!  How would you declare client-side vars, other than a\\nSession object, in JSP?  Can you declare them as you would any VBScript\\nvar?\\n\\nMark\\n\\n>\\n> Actually, you don\\'t want to make your variables class variables in JSP\\n> (within the <%!   %>) nor in a servlet unless you don\\'t mind different\\n> clients accessing the same variables and variable data.\\n> Instead, declare your variables in the first <% %> block before any if\\n> /else, or loop statements and your variables will exist in all following <%\\n> %> blocks.\\n>\\n> Eric Dunstan\\n>\\n>\\n> >From: \"Mark G. Franz\" <mgfranz@PE.NET>\\n> >Reply-To: A mailing list about Java Server Pages specification and\\n> >     reference <JSP-INTEREST@java.sun.com>'\n",
      "\"password just received by specifying environment properties.\\n\\nIf you are able to get it's directory context,then connection is\\nsuccessful.In that case you can return the name of the JSP,where you want to\\nforward it,and if not authenticated,then you can return name of an Error\\njsp.\\n\\nHope this help.\\n\\nRaj S\\n\\n\\n\\n>From: Mutahar Qayum <mutahar@MDISOURCE.COM>\\n>Reply-To: A mailing list about Java Server Pages specification and\\n>     reference <JSP-INTEREST@java.sun.com>\"\n",
      "'Jai Srimannarayana:\\nI would like to get a cassette and please let me know where to send the\\nmoney and the adress to send the cassette will be on the check.\\n\\nWith love,\\n\\nMannar\\n\\n>From: chinna jeeyar <acharya27@yahoo.com>\\n>Reply-To: jetusa@yahoogroups.com'\n",
      "\"I have been trying to run tomcat on win98, but I have never succeeded.\\nDoes it run only on NT?\\nIt seems there's no enough place in my environment to set all the variables values.\\nDid you succeed to start TOMCAT?\\nHow?\\n\\nThanks!\\n\\n\\nAsha Patel ha escrito:\\n\\n> I am still not able to run tomcat successfully...JSP tags are still ignored.\\n>\\n> Could anyone please list down all the steps required to install TOMCAT 3.1\\n> in win 98 machine, the prerequisites softwares to be installed, the class\\n> path and java_home path settings, the windows system memeory settings,\\n> etc...\\n>\\n> I beleive that it will be of great help to everyone. Personally I think even\\n> many links of installing tomcat are incomplete or not very friendly to new\\n> comers...\\n>\\n> Thanks again\\n> ---------------------\\n>\\n> >From: Agarwal Gokul <gokul_a@IOCL.CO.IN>\\n> >Reply-To: A mailing list about Java Server Pages specification and\\n> >     reference <JSP-INTEREST@java.sun.com>\"\n",
      "\">\\n> ----- Original Message -----\\n> From: Dossy <dossy@panoptic.com>\\n> > How would you implement a swap function?  Something\\n> > that looked like this:\\n> >\\n> > swap(source, destination) {\\n> >     temporary = destination;\\n> >     destination = source;\\n> >     source = temporary;\\n> > }\\n>\\n> I'd opt for 'pass by value' semantics and do:\\n>\\n> Pair swap (Pair original) {\\n>     return new Pair (original.destination, original.source);\\n> }\\n\\nTo Post a message, send it to:   extremeprogramming@eGroups.com\\n\\nTo Unsubscribe, send a blank message to: extremeprogramming-unsubscribe@eGroups.com\\n\\nDon't miss XP UNIVERSE, the first US conference on XP and Agile Methods.  see www.xpuniverse.com for details and registration.\\n\\nYour use of Yahoo! Groups is subject to http://docs.yahoo.com/info/terms/\"\n",
      "'> Yes, but I am sure there is a way that you can pass a parameter from\\n> <%= the_jsp_output %> to the applet, I saw this somewhere but could not\\n> remember where.\\n> Thanks\\n>\\n> >From: \"Karau, Joe\" <Joe.Karau@KINGLAND.COM>\\n> >Reply-To: A mailing list about Java Server Pages specification and\\n> >     reference <JSP-INTEREST@java.sun.com>'\n",
      "'Thanks for replying.\\n\\nI think if we can get all the messages from the database in some kind of\\norder, said,\\n\"message1, reply to message1, reply to message1, message2, reply to message2\\n...\"\\nthen we can do something like this:\\n\\n\"<%if (message == topic)\\n{%>\\n<tr>\\n<td colspan=2>topic(e.g. message1...)</td>\\n</tr>\\n<%}else if (message == reply){%>\\n<tr>\\n<td><img src=blank.gif width=10></td><td>replies(e.g. reply to\\nmessage1...)</td>\\n</tr>\\n<%}%>\"\\nThat will make the replies indent.\\n\\nBut how can I get the messages from the database right?\\n\\nshirley\\n\\n\\n\\n\\n>From: Antillon Reyes Rafael Martin - EXT <ExtRAntil@VTO.COM>\\n>Reply-To: A mailing list about Java Server Pages specification and\\n>     reference <JSP-INTEREST@java.sun.com>'\n",
      "'hi friends,\\nif u make changes in the bean and want ur server to take the changes\\nthere is one possible way which i can think of is that u delete the servlet\\ncreated by the server  .  then it will create the servlet again so the\\nchanges r taken even if u dont restart the server .\\n\\nnanda kishore rudraraju.\\n\\n\\n>From: Surya Prakash <surya@AKSHAY.CO.IN>\\n>Reply-To: A mailing list about Java Server Pages specification and\\n>     reference <JSP-INTEREST@java.sun.com>'\n",
      "'Connection conn =\\n\\nDriverManager.getConnection(jdbc:oracle:thin:@kalyan:1521:orc1\",\"scott\",\\n\"tiger\");\\n\\nIn ur code ur using jdbc Odbc bridge .In this u dont need the bridge too\\n\\nSanjay\\n\\n\\n\\n>From: N Hari Babu <nhari.babu@IN.VELOCIENT.COM>\\n>Reply-To: A mailing list about Java Server Pages specification and\\n>     reference <JSP-INTEREST@java.sun.com>'\n",
      "'> Thanks. But how can I refer to doc2Body.jsp in onLoad=\"...\"?\\n>\\n\\nonLoad=\"window.open(\"doc2Body.jsp\",\"Doc2Body\")\"\\n\\n>\\n>\\n> >From: Tarik Makota <makota-tarik@WORLDNET.ATT.NET>\\n> >Reply-To: A mailing list about Java Server Pages specification and\\n> >     reference <JSP-INTEREST@java.sun.com>'\n",
      "'Did you put jdbc.jar in your classpath ?\\n\\n\\n>From: Padmakar Neelapareddy <pneelapa@VANENBURG.COM>\\n>Reply-To: A mailing list about Java Server Pages specification and\\n>     reference <JSP-INTEREST@java.sun.com>'\n",
      "'Are you redirecting to an errorpage on error?  If so, redirecting to error\\npage can\\'t be done if the buffer has been \"committed\".  If this is the\\nproblem, then you are getting an exception on the page somewhere...\\n\\n\\n>From: \"Sachin S. Khanna\" <emailanorder@VSNL.COM>\\n>Reply-To: A mailing list about Java Server Pages specification and\\n>     reference <JSP-INTEREST@java.sun.com>'\n",
      "'You cannot call methods of JSP or Serlvets from outside.\\nA calling servlet or jsp is one that forwards itself to\\nanother jsp or serlvet and does not return.\\n\\nA Servlet or JSP loads once and thereafter is loaded, until changed again.\\nOnce loaded, a calling jsp or serlvet will not cause it to reload.  It is\\nlike a mini server -- running or waiting always.\\n\\nTo pass String values in a forwarding process do this:\\nrequest.setAttribute(\"SomeNum\", \"1234567\");\\n\\nthen:\\n<jsp:forward page=\"MyRelativeURL.jsp\"/>\\n\\nAnd in the called JSP:\\n<%\\nint Num = Integer.parseInt(request.getAttribute(\"SomeNum\"));\\n%>\\n\\n>From: \"Choi Jong Myung(SS)\" <jmchoi@IT.SOONGSIL.AC.KR>\\n>Reply-To: A mailing list about Java Server Pages specification and\\n>     reference <JSP-INTEREST@java.sun.com>'\n",
      "\"WHy don't you try them out and see for yourself?\\n\\n\\n>From: Laurent Bruynooghe <Laurent@COMPUBASE-EUROPE.COM>\\n>Reply-To: A mailing list about Java Server Pages specification and\\n>     reference <JSP-INTEREST@java.sun.com>\"\n",
      "'Yeo all,\\n\\n1. Yahoogroups sucks big time....\\n\\n2. ... how does friday look for ya all ?? We could try the Ruby Sky\\nor some other joint in SF ?? Shoot in your yeas/nays....\\nSat is bad, Pt. Jasraj concert.\\n\\n3. Got Shivkr, Zakir ticks. for May 20.(Priyank, Ramas, Naveen, Samip,\\nMinal, Kalps, Sid and moiself incl) Damages : $36.00 each.\\n\\nSee ya all soon.\\n\\nkeep groovin,\\n\\n>From: nipa diwanji-sheth <nipa_sheth@yahoo.com>\\n>Reply-To: zingaris@yahoogroups.com'\n",
      "'I dont know of any tools to convert asp to JSP, But I did write up some\\ncharts http://www.jspinsider.com/articles/jspasp/asp_to_jsp.html\\n\\nto help asp programmers make the switch easier.\\n\\nHope they help\\n\\nCasey\\n\\n\\n\\n>From: Nova Bhojwani <novabhojwani@YAHOO.COM>\\n>Reply-To: A mailing list about Java Server Pages specification and\\n>     reference <JSP-INTEREST@java.sun.com>'\n",
      "'Jai SrimanNarayana\\nThere are 2 messages in this issue.\\n\\nTopics in this digest:\\n\\n1. Re: Anand, Bradford\\n2. Re: Sri Rama Sivapuja\\nFrom: chinna jeeyar <acharya27@yahoo.com>'\n",
      "'That will depend on what bean scope you have given in the usebean tag ,if it\\nis session it will last for the full session\\nSanjay\\n\\n\\n>From: Rupali Bains Goswami <bains_goswami@HOTMAIL.COM>\\n>Reply-To: A mailing list about Java Server Pages specification and\\n>     reference <JSP-INTEREST@java.sun.com>'\n",
      "'Jai SrimanNarayana\\nThere are 2 messages in this issue.\\n\\nTopics in this digest:\\n\\n1. Waiting For Some Replys...\\n2. Monthly meet (Sri Vishnu Sahasranama Parayanam)\\nFrom: \"ramnivas2001\" <nivasp@mail.com>'\n",
      "\"Taglibs aren't complicating the workflow; they're just representing the\\nworkflow *differently*. Beans are great, but JSP tends to view them as\\nas processes, certainly. (Most people use them this way, to be sure.)\\nHowever, a taglib allows you do perform actions without any scriptlets\\nwhatsoever, which to my way of thinking hides the bean mechanism very well.\\nThere are still things you can do with embedded scriptlets that you can't do\\nwith tags, of course, but perhaps the next JSP spec will improve that, with\\nbetter taglib attribute support and possibly even JSPT, which would be VERY\\nnice (but unlikely.)\\n\\n\\n>From: Raghu Movva <rmovva@MELSTAR.COM>\\n>Reply-To: A mailing list about Java Server Pages specification and\\n>     reference <JSP-INTEREST@java.sun.com>\"\n",
      "'>Hi!\\n>\\n>you can tell me by the weekend :-), actually I haven\\'t\\neven decided which\\n>tickets to buy .... probably the $50 ones...??\\n>let me know.\\n>\\n>I am in for the Shivkumar and Zakir concert\\n>I thought Priyank was going to buy tickets for those ???\\n>\\n>Minal\\n>\\n>\\n>From: \"Hiten Patel\" <hitpats@hotmail.com>\\n>Reply-To: zingaris@yahoogroups.com'\n",
      "'THIS IS A BLOODY JSP LIST NOT AN ASP.\\n\\n\\n>From: \"Srinivas K. R.\" <srinivas.ras@WIPRO.COM>\\n>Reply-To: A mailing list about Java Server Pages specification and\\n>     reference <JSP-INTEREST@java.sun.com>'\n",
      "'It does not work inside the body tags, I just changed it outside to body\\ntags, but it (the frameset) does not appear in both cases\\n\\n\\n>From: \"Martin, Janet\" <Janet_Martin@SRA.COM>\\n>Reply-To: A mailing list about Java Server Pages specification and\\n>     reference <JSP-INTEREST@java.sun.com>'\n",
      "\"I really don't know the exact reason behind this,but I have faced similar\\nproblems.What I did was just copied and pasted that file with a new name\\nand\\nit worked.Sometimes restarting the machine also helped.Make sure that ur\\nJava Web Serve has not expired and that u have'nt set the system date to a\\nback date.\\n\\nRaj\\n\\n>From: sumit deogharia <sumit_kd@37.COM>\\n>Reply-To: A mailing list about Java Server Pages specification and\\n>     reference <JSP-INTEREST@java.sun.com>\"\n",
      "'drew w£¬ÄúºÃ£¡\\n\\nis it free?\\n\\nÔÚ 2001-04-26 18:04:00 ÄúÐ´µÀ£º\\n>What about NetDirect Standard Edition.\\n>\\n>\\n>\\n>>From: Celeste Haseltine <chaseltine@MAGTICKET.COM>\\n>>Reply-To: A mailing list about Java Server Pages specification and\\n>>     reference <JSP-INTEREST@java.sun.com>'\n",
      "'David,\\n\\nwhich web server r u using? I am also having the same problem in JWS. I was\\ntold that there are a few configurations to be set in the JW. I dunno what r\\nthose? AH, my suggestion is put this block in try-catch block. But now your\\nerror will not be program error but jws error.\\n\\nsrinivas.\\n\\n\\n>From: David Reck <david.j.reck@US.ARTHURANDERSEN.COM>\\n>Reply-To: A mailing list about Java Server Pages specification and\\n>     reference <JSP-INTEREST@java.sun.com>'\n",
      "'put a forward command at the end of your page:\\n<jsp:forward page=\"mymainjsp.jsp\"/>\\n\\n>From: Mohan Radhakrishnan <mohan@INFORMATIVE.COM>\\n>Reply-To: A mailing list about Java Server Pages specification and\\n>     reference <JSP-INTEREST@java.sun.com>'\n",
      "\"Jai SrimanNarayana\\nThere are 11 messages in this issue.\\n\\nTopics in this digest:\\n\\n1. Qs: Lord's relationship with Atharva Veda?\\n2. Acharya's unique and unparallel role - More Questions?\\n3. Re: Acharya's unique and unparallal role.\\n4. Regarding guru ...\\n5. Sloka which says all are equal  for Paramatma\\n6. Re: Acharya & Guru? How to find the real one.\\n7. How sincere we are ...\\n8. Book explaining the Thousand names\\n9. [Fwd: Real  Acharya]\\n10. Acharya & Guru? How to find the real one.\\n11. life not uniform?\\nFrom: <sunilkumara_1963@yahoo.co.in>\"\n",
      "\"Hi Stephen,\\nI followed your instructions on how to configure visual cafe\\n4 to run the\\njrun engine, however visual cafe can't load the main class\\ncom.livesoftware.jrun.service.ServiceManager. Do you have an\\nidea of what\\ncould be wrong??\\nThanks in advance,\\nClaire Ryan\\n\\n>From: Scott Stirling <sstirling@MEDIAONE.NET>\\n>Reply-To: A mailing list about Java Server Pages specification and\\n>     reference <JSP-INTEREST@java.sun.com>\"\n",
      "\"Dear all,\\n\\nNow that all have contributed to this chain and everyone has given a piece\\nof his/her mind let's stop it and get on with the cause for which we have it\\nin first place as for stupid ads we will block the senders of such mails, I\\nhave recently joined and am a beginner and also have gained a lot from this\\nin past three days and don't want good people to leave because of any reason\\nwhich can be sorted out\\n\\nSo guys lets all live in peace , contribute to maximum of our capability and\\ngain the maximum , because in IT even a beginner can contribute where a\\nprofessional might fail\\n\\nsandarbh\\n\\n>From: Kevin Duffey <kevin.duffey@HOME.COM>\\n>Reply-To: A mailing list about Java Server Pages specification and\\n>     reference <JSP-INTEREST@java.sun.com>\"\n",
      "\"> Hi Patrik,\\n> even i would like to know the reply.\\n> Can anybody advice me some good company doing delopment in WAP.\\n> I have to change my job ASAP and I'm looking forward to work in WAP,\\nWML,\\n> XML, EJB, Corba in the same priority order. Or can anybody help forward\\nmy\\n> resume in his/her company. I'm looking for a permanent position.\\n> I will really appreciate efforts in this regard\\n> Upender\\n>\\n> >From: Patrick Haggerty <hagg@MINDSPRING.COM>\\n> >Reply-To: XML technologies in the Java Platform\\n<XML-INTEREST@java.sun.com>\"\n",
      "'Hi\\nJrun 3.0 can be configured with the iis 5.0 as the jsp and servlet engine\\n\\n\\n>From: Zahid Khan <zkjsp@YAHOO.COM>\\n>Reply-To: A mailing list about Java Server Pages specification and\\n>     reference <JSP-INTEREST@java.sun.com>'\n",
      "'Hi Sweta,\\nIt seems that LoanCalculator Servler is not a Servlet. In\\notherwords it doesnot inherit either Generic or Http Servlet Classes. Check\\nit out.\\n\\nBye,\\nJiger\\n\\n\\n>From: Sweta Singh <sweta.singh@WIPRO.COM>\\n>Reply-To: \"A mailing list for discussion about Sun Microsystem\\'s Java\\n>        Servlet API Technology.\" <SERVLET-INTEREST@java.sun.com>'\n",
      "'Jai SrimanNarayana\\nThere are 4 messages in this issue.\\n\\nTopics in this digest:\\n\\n1. Celebration of Lord Sri Ranganatha Godha devi Kalyanam\\n2. Nitya Pooja Vidhanam\\n3. Annamaacharya\\'s Sankeerthana\\n4. About recitation of tiruvaimozhi & tiruppavai in pushya masam\\nFrom: \"chinna_8161\" <chinna_8161@rediff.com>'\n",
      "'Does anyone knows newsgroup for\\nTOMCAT\\nhaving problems running new version of it 3.2.1\\nafter dynamic loading mod_jk.so\\napxs -o mod_jk.so -DSOLARIS -I../jk .......etc\\ntomcat starts ok\\napache1.3.12 could not load /usr/local/apache/libexec/mod_jk.so\\nfile not found\\ncopying mod_jk.so from src of tomcat does not work (of course)\\nthe older version mod_jserv.so works fine with both versions of tomcat.\\n\\nAny clues?\\n\\n\\n>From: Bilmopu <bilmopu@YAHOO.COM>\\n>Reply-To: A mailing list about Java Server Pages specification and\\n>     reference <JSP-INTEREST@java.sun.com>'\n",
      "'edit your setEnv file to.\\n\\n\\n>From: \"R.B. Gurung\" <rgurung@SSIND.STPN.SOFT.NET>\\n>Reply-To: A mailing list about Java Server Pages specification and\\n>     reference <JSP-INTEREST@java.sun.com>'\n",
      "\"I think it's a stupid question !!!\\n\\nAre you professional ? Sometimes, it's a good way to ask people about the\\ndifferences\\nbitween products.\\nIf you don't want to answer to this kind of question, just shut up !!!\\n\\n\\nLaurent BRUYNOOGHE\\n\\nVisit our new web site : http://www.compubase-europe.com !\\n\\ne-mail:lbruynooghe@compubase-europe.com\\ntel : 01 69 47 27 11\\n\\ncompuBase\\n8-10 rue du Bois Sauvage\\n91055 Evry FRANCE\\n\\n\\n\\n\\n> -----Message d'origine-----\\n> De:   Joseph Ottinger [SMTP:epesh@HOTMAIL.COM]\\n> Date: mercredi 21 février 2001 16:59\\n> À:    JSP-INTEREST@JAVA.SUN.COM\\n> Objet:        Re: JDBC Drivers comparing\\n>\\n> WHy don't you try them out and see for yourself?\\n>\\n>\\n> >From: Laurent Bruynooghe <Laurent@COMPUBASE-EUROPE.COM>\\n> >Reply-To: A mailing list about Java Server Pages specification and\\n> >     reference <JSP-INTEREST@java.sun.com>\"\n",
      "'You need to specify the app-level URI when you\\'re doing the redirection,\\nsounds like. Why, by the way, are you doing manual authentication?\\n\\n\\n>From: \"Karau, Joe\" <Joe.Karau@KINGLAND.COM>\\n>Reply-To: A mailing list about Java Server Pages specification and\\n>     reference <JSP-INTEREST@java.sun.com>'\n",
      "'I would think that it\\'d be far more appropriate to forward to the local web\\ncontext rather than an absolute file like that - except you\\'re not QUITE\\neven doing that.\\n\\nYou want to forward to \"/servlets/CookieJsp\", I\\'d suppose, rather than a\\nfile on the local filesystem, especially one referred to absolutely like\\nthat. What\\'s more, I\\'d think \"CookieJsp\" would be better off not being in\\nyour sevlets directory whatsoever.\\n\\n\\n>From: anurag dewan <anu_dewan@YAHOO.CO.UK>\\n>Reply-To: A mailing list about Java Server Pages specification and\\n>     reference <JSP-INTEREST@java.sun.com>'\n",
      "'I found a solution, thanks\\njust I changed <url-pattern>UploadTest</url-pattern>\\nto\\n<url-pattern>/UploadTest</url-pattern>\\n\\n\\n>From: sufi malak <sufi_m@HOTMAIL.COM>\\n>Reply-To: A mailing list about Java Server Pages specification and\\n>     reference <JSP-INTEREST@java.sun.com>'\n",
      "\"of help with a GUI issue, and compilation error is usually pretty easy to\\nwork out anyway. I *knew* where it belonged; I figured that if he didn't and\\nnobody else seemed to care, it didn't matter.\\n\\nLast note: you should have told the original poster it was off-topic\\ninstead... :)\\n\\n>From: Luis Javier Beltran <lbeltran@MIATECH.NET>\\n>Reply-To: A mailing list about Java Server Pages specification and\\n>     reference <JSP-INTEREST@java.sun.com>\"\n",
      "'You need to use the alert or prompt in JavaScript...!\\n\\n\\n>From: \"Sachin S. Khanna\" <emailanorder@VSNL.COM>\\n>Reply-To: A mailing list about Java Server Pages specification and\\n>     reference <JSP-INTEREST@java.sun.com>'\n",
      "'the application implicit object has methods for this:\\n\\nexample of this is as follows:\\n\\n<%\\nint li_major = application.getMajorVersion() ;\\nint li_minor = application.getMinorVersion() ;\\n%>\\n\\n\\nCasey Kochmer\\nwww.jspinsider.com\\n\\n>From: Sushil Singh <ssingh@MACYS.COM>\\n>Reply-To: A mailing list about Java Server Pages specification and\\n>     reference <JSP-INTEREST@java.sun.com>'\n",
      "\"Jai SrimanNarayana\\nThere is 1 message in this issue.\\n\\nTopics in this digest:\\n\\n1. Sri Swamiji's discourse on Katho:panishad on 10/27/2001 - Part\\n1of 2\\nFrom: Sai Sambaraju <sai-sambaraju@rocketmail.com>\"\n",
      "'Hi,\\nthis is the sample code I try to pass a variable to javascript function from\\njsp. it works.\\n\\nbut if I try to pass Properties object prop to that function, it won\\'t work.\\n\\nI like to know to pass the object?\\n\\n\\n<%@page import=\"java.util.*\" %>\\n\\n<% // the page is forwarded from another jsp page which\\n// set request.setAttribute(\"prop\",value).\\n\\nProperties prop = new Properties();\\nprop = (Properties)request.getAttribute(\"prop\");\\nString name = prop.getProperty(\"name1\");\\n%>\\n\\n<html>\\n<head>\\n<title>MAMSI- Group Eligibility</title>\\n\\n<script Language=\"JavaScript\">\\n\\n\\nfunction go(name1)\\n{\\n\\nalert(\"name=\" + name1);\\n}\\n</script>\\n</head>\\n\\n\\n\\n<body>\\n\\n<a href=\"javascript:go(\\'<%=name%>\\')\"> click here to pass property </a>\\n</body>\\n</html\\n\\n>From: Andy Purshottam <andrew@C2LABS.COM>\\n>Reply-To: A mailing list about Java Server Pages specification and\\n>     reference <JSP-INTEREST@java.sun.com>'\n",
      "'All of the objects contained within this object must also be serializable.\\nFor example, you could have an object of MyObject type which is not\\nserializable, you could put it into a Vector.  The Vector is a serializable\\nobject, but since it holds reference to non-serializable object, the\\nstreaming of the Vector to the session will fail with not serializable\\nexception.\\n\\n\\n>From: John Gbur <jgbur@CSFCORP.COM>\\n>Reply-To: A mailing list about Java Server Pages specification and\\n>     reference <JSP-INTEREST@java.sun.com>'\n",
      "'Another thing you can do is make an object that implements Enumeration and\\nthat takes an array as an arguemnt, or an Enumeration to construct an array\\nfrom it.\\nThen with an internal Array, you can have additional methods to reset the\\nEnumeration or reverse it.\\nOf course, you will probably want to construct a new interface that extends\\nEnumeration and declare your new methods to be implemented by your new\\nObject (perhaps an inner class) so that you can return it from a method as\\nan Object of that new interface type and hence do real Object Oriented\\nProgramming.\\n\\nEric R. Dunstan\\nKeepSmart 2000 A.D.\\n\\n\\n>From: Rob van Oostrum <rvanoo@CTP.COM>\\n>Reply-To: A mailing list about Java Server Pages specification and\\n>     reference <JSP-INTEREST@java.sun.com>'\n",
      "'Hi Adam\\n\\nYou can always send news announcement to News@JspInsider.com\\nWe will announce news items such as new tools in the JSP Buzz\\nnewsletter.\\n\\nAlso if it is an open source product for JSP we will list it\\nin the open source tool/Code list we maintain at the JSP Insider site.\\n\\nCasey Kochmer\\nwww.jspinsider.com\\n\\n>From: Adam Stock <JSP-INTEREST@YESSOFTWARE.COM>\\n>Reply-To: A mailing list about Java Server Pages specification and\\n>     reference <JSP-INTEREST@java.sun.com>'\n",
      "'Hi,\\nthis is the sample code I try to pass a variable to javascript function\\nfrom\\njsp. it works.\\n\\nbut if I try to pass Properties object prop to that function, it won\\'t\\nwork.\\n\\nI like to know to pass the object?\\n\\n\\n<%@page import=\"java.util.*\" %>\\n\\n<% // the page is forwarded from another jsp page which\\n// set request.setAttribute(\"prop\",value).\\n\\nProperties prop = new Properties();\\nprop = (Properties)request.getAttribute(\"prop\");\\nString name = prop.getProperty(\"name1\");\\n%>\\n\\n<html>\\n<head>\\n<title>MAMSI- Group Eligibility</title>\\n\\n<script Language=\"JavaScript\">\\n\\n\\nfunction go(name1)\\n{\\n\\nalert(\"name=\" + name1);\\n}\\n</script>\\n</head>\\n\\n\\n\\n<body>\\n\\n<a href=\"javascript:go(\\'<%=name%>\\')\"> click here to pass property </a>\\n</body>\\n</html\\n\\n>From: Andy Purshottam <andrew@C2LABS.COM>\\n>Reply-To: A mailing list about Java Server Pages specification and\\n>     reference <JSP-INTEREST@java.sun.com>'\n",
      "'No chance you could advocate the use of PreparedStatement, to eliminate the\\nneed to escape the data at all, is there?\\n\\nAfter all, st.executeQuery(\"select * from tablename where\\nfield=\"+SQLUtil.escapeText(fielddata)); can be slower and less correct than\\nrelying on the driver to handle proper escaping (if necessary) for a given\\ndatabase.\\n\\nNo need to mention something like\\n\\nPreparedStatement ps=con.prepareStatement(\"select * from tablename where\\nfield=?\");\\nOh - wait, I just mentioned it!\\n\\nMore seriously: you really should use PreparedStatements over the\\nalternatives, in all but the most simple cases. Really and truly.\\n\\n\\n>From: T A Flores <abflores@MYSUN.COM>\\n>Reply-To: A mailing list about Java Server Pages specification and\\n>     reference <JSP-INTEREST@java.sun.com>'\n",
      "'Hi Rosh,\\nCall a bean from the JSP.In the bean use the parsers and generate the xml.\\n\\n\\n\\n\\n>From: Rosh Nair <Rosh.nair@AVOCADOIT.COM>\\n>Reply-To: XML technologies in the Java Platform <XML-INTEREST@java.sun.com>'\n",
      "'Yes\\n\\n\\n>From: \"Mr. chen\" <chenzhuang@SITECH2000.COM>\\n>Reply-To: A mailing list about Java Server Pages specification and\\n>     reference <JSP-INTEREST@java.sun.com>'\n",
      "\"Malini,\\n\\nI wrote a piece some classes to do that not long ago. If you look in the\\narchives of this list (TOPIC='RE: session cleanup'). I don't have to code\\nright now but I posted it to the list. If you can't find it let me know and\\nI will find it and repost it.\\n\\nWhat it basically did was to create a thread that monitors the sessions that\\nare added to the monitor. There is a sessionExpired event that you can\\nlisten for. In that event handler, you can do what ever is needed when the\\nsession is no longer in use (eg. Kill threads, close connections to\\ndatabase, etc.)\\n\\nLee\\n\\n\\n>From: MALINI KRISHNAMURTHY <malini.krishnamurthy@WIPRO.COM>\\n>Reply-To: A mailing list about Java Server Pages specification and\\n>     reference <JSP-INTEREST@java.sun.com>\"\n",
      "'> Sello,\\n>\\n> what is usually do is to create an SQL statement that goes something like:\\n> \"SELECT * from usertable where username=theEncodedUsernameHere and\\npassword\\n> = theEncodedPasswordHere\"\\n>\\n> Then create a ResultSet that executes the said statement above.\\n> After that check your ResultSet if it is not null (this means you have an\\n> existing user with the username and password that he encoded. this is done\\n> via the statement:\\n>\\n>   if (ResultSetObject.next()){\\n>\\n>          file://your code here}\\n>   else { file://throw an error message here }\\n>\\n> hope this one helps..\\n>\\n>\\n> Joy\\n>\\n>\\n> >From: Sello Mathibe <smt@XCEL.CO.ZA>\\n> >Reply-To: A mailing list about Java Server Pages specification and\\n> >     reference <JSP-INTEREST@java.sun.com>'\n",
      "'Hi,\\n\\n\\nThank your very much. I am trying to solve this problem this morning\\nonwards.. Ok I got it..\\n\\nThanks alot..\\n\\nThanks  & Regards,\\nMalla Reddy\\n\\n>From: \"Thomas, Omar\" <Omar_Thomas@BMC.COM>\\n>Reply-To: A mailing list about Java Server Pages specification and\\n>     reference <JSP-INTEREST@java.sun.com>'\n",
      "'this is getting confusing if the servlet is displaying session id then it\\nshould not be browser specific as servlet runs at the server side and not\\nat\\nclient side, It should give seperate id irrespective of browser\\nsandarbh\\n\\n\\n>From: \"Nimmons, Buster\" <bustern@SBEC.COM>\\n>Reply-To: A mailing list about Java Server Pages specification and\\n>     reference <JSP-INTEREST@java.sun.com>'\n",
      "'Does x has to be a variable of Whatever ?\\n\\n\\n>From: \"Ortiz, William J\" <William.J.Ortiz@USA.XEROX.COM>\\n>Reply-To: A mailing list about Java Server Pages specification and\\n>     reference <JSP-INTEREST@java.sun.com>'\n",
      "'good point - venk!\\nare we staying with the existing TiE logo?\\nif so, there is not much similarity between either of the two proposed TiECon\\nlogos and the TiE logo!\\nrgds\\ns\\n\\n{}  From: Venk Shukla <shukla@avocadoit.com>\\n{}  To: \"\\'Brad Sharek\\'\" <brad@sharek.com>, Vish Mishra <VMishra@aol.com>, Sridar\\nA Iyengar <siyengar@kpmg.com>, Shanker Trivedi <shanker.trivedi@sun.com>\\n{}  Subject: RE: 2 finalists for TiEcon 2002 logo -- NEED TO DECIDE\\n{}  Date: Thu, 7 Mar 2002 17:47:16 -0800\\n{}  \\n/_____/\\\\\\n/_____\\\\\\\\ \\\\               Shanker Trivedi\\n/_____\\\\ \\\\\\\\ /              10 Network Circle\\n/_____/ \\\\/ / /             UMPK10-212\\n/_____/ /   \\\\//\\\\            Menlo Park, CA 94025\\n\\\\_____\\\\//\\\\   / /\\n\\\\_____/ / /\\\\ /\\n\\\\_____/ \\\\\\\\ \\\\              Phone: 650-786-8563\\n\\\\_____\\\\ \\\\\\\\               Fax:   650-786-8397\\n\\\\_____\\\\/                E-mail:shanker.trivedi@sun.com'\n",
      "'Not sure exactly what you mean. Perhaps the tomcat mailing list\\n(tomcat-user@jakarta.apache.org) would know?\\n\\n\\n>From: Waleed Dabbour <waleedpc@YAHOO.COM>\\n>Reply-To: A mailing list about Java Server Pages specification and\\n>     reference <JSP-INTEREST@java.sun.com>'\n",
      "\"> > BGarcia@replaytv.com; cwurzner@carstation.com;\\n> > dolores.priegnitz@sun.com; Heysax@aol.com; jdsohn@yahoo.com;\\n> > lisakelly4@home.com; pamdoc@msn.com; rgantly@avocadoit.com;\\n> > srosenberg@replaytv.com; ted.weber@mindspring.com\\n> > Subject: Re: Happy Thanksgiving\\n> >\\n> > So who's up for the Hana Relay...\\n> >\\n> > Lisa\\n> >\\n> > >From: Bruce Bartlett <Bruce.Bartlett@eng.sun.com>\\n> > >Reply-To: Bruce Bartlett <Bruce.Bartlett@eng.sun.com>\\n> > >To: ARSYETSO@aol.com, Dolores.Priegnitz@west.sun.com,\\n> > >Art.Mitchum@eng.sun.com,        BGarcia@replaytv.com,\\n> > >cwurzner@carstation.com,        dolores.priegnitz@sun.com,\\nHeysax@aol.com,\\n> > >jdsohn@yahoo.com,        lisakelly4@home.com, pamdoc@msn.com,\\n> > >rgantly@avocadoit.com,        srosenberg@replaytv.com,\\n> > >ted.weber@mindspring.com\"\n",
      "'This is NOT a JSP-related question. And no, of course there is no Java api\\nthat does this.\\n\\n>From: Kevin Duffey <kevin.duffey@HOME.COM>\\n>Reply-To: A mailing list about Java Server Pages specification and\\n>     reference <JSP-INTEREST@java.sun.com>'\n",
      "'> From: \"John Carter\" <john.carter@tait.co.nz>\\n> > Hmm. Lots more of these patterns I recognise from dark histories\\n> > and nasty times. Perhaps I should write the subordinates guide to\\n> > surviving leadership tactics.\\n> >\\n> > Nah. Bad memories of different times in different countries are just\\n> > depressing me again.\\n>\\n> Tell us more, please, John. Are you saying \"leadership is bad\"? Or\\n> \"leadership techniques are bad\"? I\\'m supposing not. What, then? If we\\n> feel like influencing events, what can we do, how can we do it?\\n\\nIn his defense, he said \"*these* patterns\", and the context of the message\\nbacked up that he was indeed referring to only a certain kind of\\nleadership and leadership techniques.\\n\\nI\\'m not going to try to further explain what he was saying, or what his\\nimplications were for Kent\\'s book -- I just want to vouch that he didn\\'t\\nsay anything that would beg those particular questions, in my opinion.'\n",
      "'> Look at http://java.sun.com/products/jsp, and read the tutorial, for one\\n> thing.\\n>\\nI have looked at that and what i wanted wasn\\'t there!\\n\\n> There are a few ways to do it, depending on what your needs and desires\\nare.\\n> For example:\\n>\\n> <% car mycar=new car();\\n> car.doSomething(); %>\\n\\nI know how to do this, but where is the above \\'car object located?\\n>\\n> or the more appropriate\\n>\\n> <jsp:useBean id=\"car\" scope=\"request\" type=\"car\" />\\n\\nI dont want to use a bean!\\n>\\n>\\n> >From: Scott Fitzgerald <sfitzgerld@MATHS1.KST.DIT.IE>\\n> >Reply-To: A mailing list about Java Server Pages specification and\\n> >     reference <JSP-INTEREST@java.sun.com>'\n",
      "'I Agree with Stephen,\\n\\nI also am here to learn more about the latest and greatest toys.  I also\\nwould like to stay current with what\\'s hot, and gain ideas for my work.\\n\\nIn my opinion this is a great way to do just that!\\n\\nDebbie St.Clair\\nEnvision\\nTechnical Writer\\n602-437-6330\\n\\n>From: Stephen Wertzbaugher <Stephen@imrgold.com>\\n>Reply-To: \"STC Emerging Technologies SIG discussions\" <stcetsig-l@stc.org>'\n",
      "'Look at http://java.sun.com/products/jsp, and read the tutorial, for one\\nthing.\\n\\nThere are a few ways to do it, depending on what your needs and desires are.\\nFor example:\\n\\n<% car mycar=new car();\\n\\nor the more appropriate\\n\\n<jsp:useBean id=\"car\" scope=\"request\" type=\"car\" />\\n\\n\\n>From: Scott Fitzgerald <sfitzgerld@MATHS1.KST.DIT.IE>\\n>Reply-To: A mailing list about Java Server Pages specification and\\n>     reference <JSP-INTEREST@java.sun.com>'\n",
      "'I got the solution sendRedirect take a string.\\n\\n>From: sufi malak <sufi_m@HOTMAIL.COM>\\n>Reply-To: A mailing list about Java Server Pages specification and\\n>     reference <JSP-INTEREST@java.sun.com>'\n",
      "'MultipartRequest is a class written by Jason Hunter, and is available at\\nwww.servelets.com\\n\\n\\n>From: Joe Hanink <jhanink@ICONIXX.COM>\\n>Reply-To: A mailing list about Java Server Pages specification and\\n>     reference <JSP-INTEREST@java.sun.com>'\n",
      "'Hey Rajesh,\\n\\nOur friends are coming over from San Diego on Saturday...their plan is\\ntentative yet...but for now count us out. I will confirm as soon as I get\\nmore about their plans\\n\\n\\n\\n\\n\\n>From: Rajesh Sundaram <rajeshs@netapp.com>\\n>Reply-To: Rajesh Sundaram <rajeshs@netapp.com>'\n",
      "'Look at JARKARTA project at apache.org. Here you will find the Tomcat, which\\nis an servlet container ready for use together with apache...\\n\\nPlease read the user guide for further reference on the configuration of\\napache..\\n\\nBR\\nCarsten Nielsen\\n\\n\\n>From: Marcos <marcos@SECOND.IVAL.ES>\\n>Reply-To: A mailing list about Java Server Pages specification and\\n>     reference <JSP-INTEREST@java.sun.com>'\n",
      "'>My application thro DSNs is working perfectly using the Windows odbc\\ndrives\\n>using\\n>class.forName(sun.jdbc.odbc.JdbcOdbcDriver)\\n>\\n>But want to test out the Oracle drivers that r there which do not require\\n>the DSN setup\\n>\\n>Sanjay\\n>\\n>>From: Henki Lubis <hlubis@BALICAMP.COM>\\n>>Reply-To: A mailing list about Java Server Pages specification and\\n>>     reference <JSP-INTEREST@java.sun.com>'\n",
      "'I need to validate the values in the textfield against some values from the\\ndatabase and so javascript would help.\\nI guess the work around would be to have a form with the text fields,\\nvalidate and if successful go to another screen which allows the file to be\\nuploaded.\\n\\nif someone can tell me how i can use two forms on the same page that would\\nbe great... not sure if that is possible but any help is appreciated.\\n\\nThanks\\n\\n\\n>From: Tommy Enqvist <tommy.enqvist@MIND.COM>\\n>Reply-To: A mailing list about Java Server Pages specification and\\n>     reference <JSP-INTEREST@java.sun.com>'\n",
      "'You\\'re still executing the rest of the page, IIRC... add \"return;\" after the\\nsendRedirect().\\n\\n\\n>From: \"Singh, Jasbinder\" <JAsingh@VISA.COM>\\n>Reply-To: A mailing list about Java Server Pages specification and\\n>     reference <JSP-INTEREST@java.sun.com>'\n",
      "'hiii deepika\\nwell, to tell u  i am also workingon the same kind of problem in\\nmy company......incidentally i saw ur question in my mailbox and thought i\\ncould help u little bit  with my thoughts.... i am right now using XML for\\ndoing such stuff..... which gives lot of flexibility in doing such database\\ndisplays over the web....\\nhope u got the answer if not reply back to\\n\\nthanks  & regards\\nsudhakar\\ns/w enggr\\nWIPRO INFOTECH\\n\\n\\n\\n\\n>From: Sachdeva Deepika <Deepika.Sachdeva@SISL.CO.IN>\\n>Reply-To: A mailing list about Java Server Pages specification and\\n>     reference <JSP-INTEREST@java.sun.com>'\n",
      "'hi,\\ndid you specified your servlet under web applications(ie default app) under\\nservlet engine and again you need to add the servlet alias under\\ndefault_host and give the complete path to the servlet and it is must, also\\njust check in case other servlet engine should not run in the same machine.\\nalso kindly please help me in deploying my beans in the\\ncontainer the error says that (open deployment failed:set up working\\ndirectory)also let me know that how you are creating your jar files.\\n\\n>From: \"Kommana, Sridhar\" <sridhar.kommana@INGRAMBOOK.COM>\\n>Reply-To: A mailing list about Java Server Pages specification and\\n>     reference <JSP-INTEREST@java.sun.com>'\n",
      "\"I mailed yesterday also but i think u missed that mail I said go to the\\nframe head mean to say go to the location on top where its written ms dos\\nthere do a right click go to properties and then goto layout tab in that\\nincrese the size of vertical and horizontal buffers cach size, and ur\\nproblem will be solved as u'll get scroll bars.\\nMandeep\\n\\n\\n\\n\\n>From: Jay Thoden Van Velzen <JVanvelzen@BUSINESSOBJECTS.COM>\\n>Reply-To: A mailing list about Java Server Pages specification and\\n>     reference <JSP-INTEREST@java.sun.com>\"\n",
      "\"For an example check out\\nhttp://www.jspinsider.com/reference/jsp/jspsession.html\\n\\nBe aware your JSP container needs to support url rewriting for you to use\\nthat as a session management method. Tomcat doesn't support this as of yet.\\n\\nCasey Kochmer\\nwww.jspinsider.com\\n\\n\\n>From: Marco Salvador <marcojsp@FREEMAIL.IT>\\n>Reply-To: A mailing list about Java Server Pages specification and\\n>     reference <JSP-INTEREST@java.sun.com>\"\n",
      "'Faxin,\\n\\nTry request.getRemoteAddr().\\n\\nCraig\\n\\n\\n>From: Faxin Zhao <Faxin.Zhao@EMAIL.MOORE.COM>\\n>Reply-To: A mailing list about Java Server Pages specification and\\n>     reference <JSP-INTEREST@java.sun.com>'\n",
      "'Hi\\n\\nYou have to close the result set and connection etc. Pl try that. That\\nshould take care of the problem.\\n\\nSatya\\n\\n\\n>From: \"Madhavi, Aaji (IE10)\" <Madhavi.Aaji@HONEYWELL.COM>\\n>Reply-To: A mailing list about Java Server Pages specification and\\n>     reference <JSP-INTEREST@java.sun.com>'\n",
      "'Hi, thanks, I got them, I put page-taglib.tld in\\n/WEB-INF/tlds/pager-taglib.tld the pager-demo.jsp\\n\\nand in pager-demo.jsp I have :\\n<%@ page session=\"false\" %>\\n<%@ taglib uri== \"/WEB-INF/tlds/pager-taglib.tld\"  prefix=\"pg\" %>\\n<html>\\n<head>\\n<title>Pager Tag Library Demo</title>\\n.........more code\\n\\nBUT WHEN CALLING pager-demo.jsp I GOT THIS ERROR :\\nA Servlet Exception Has Occurred\\norg.apache.jasper.compiler.ParseException:\\nC:\\\\tomcat4\\\\webapps\\\\google\\\\pager-demo.jsp(1,15) Attribute value should be\\nquoted\\nat\\norg.apache.jasper.compiler.JspReader.parseToken(JspReader.java:524)\\n\\nThanks.\\n\\n\\n>From: James Klicman <james@JSPTAGS.COM>\\n>Reply-To: A mailing list about Java Server Pages specification and\\n>     reference <JSP-INTEREST@java.sun.com>'\n",
      "'How do I find out the classpath of my JSP engine\\nI am using Java Web Server 2.0\\nRegards\\nSanjay\\n\\n>From: \"Matthews,Paul\" <paul.matthews@FACTORE.NET>\\n>Reply-To: A mailing list about Java Server Pages specification and\\n>     reference <JSP-INTEREST@java.sun.com>'\n",
      "'Hi,\\nI\\'m using m/c with 128MB ram,Windows Nt 4.0 O/S.\\n\\n\\n>From: \"Manos M. Batsis\" <manosb@PROFILE.GR>\\n>Reply-To: A mailing list about Java Server Pages specification and\\n>     reference <JSP-INTEREST@java.sun.com>'\n",
      "'Thanks.I dont have much idea about using these tags,but I will see how it\\nworks.\\n\\n\\n\\n>From: Priya Pinto <itfresher@REDIFFMAIL.COM>\\n>Reply-To: A mailing list about Java Server Pages specification and\\n>     reference <JSP-INTEREST@java.sun.com>'\n",
      "\"place YourBean.class in the <JWSRoot>/classes folder or in folder under\\n/classes which maps your bean's package.\\n\\nMustaq\\n\\n\\n>From: Duc Nguyen <ntienduc23@HOTMAIL.COM>\\n>Reply-To: A mailing list about Java Server Pages specification and\\n>     reference <JSP-INTEREST@java.sun.com>\"\n",
      "'There is 1 message in this issue.\\n\\nTopics in this digest:\\n\\n1. Fw: [roorkee-arch] Fwd: Greetings !\\nFrom: \"shh zzz\" <sleeper@rediffmail.com>'\n",
      "'What about NetDirect Standard Edition.\\n\\n\\n\\n>From: Celeste Haseltine <chaseltine@MAGTICKET.COM>\\n>Reply-To: A mailing list about Java Server Pages specification and\\n>     reference <JSP-INTEREST@java.sun.com>'\n",
      "\"I tried passing the hidden form values and it didn't work. Well, some\\nreasons for using frames are: 1. too much information needed to be\\ndisplayed. 2. each screen need have header, menu and main text area.\\nSometimes, the menu item could be quite long, since the frames have\\nscrolling bar feature, we can use limited space to display long text.\\n\\nHow do I save variable in session object?\\n\\nShirley\\n\\n\\n>From: Justin Owens <justin@EOVISION.COM>\\n>Reply-To: A mailing list about Java Server Pages specification and\\n>     reference <JSP-INTEREST@java.sun.com>\"\n",
      "'I get the same error again. I coundn\\'t create an updatable recordset.\\n\\nthanks and regards,\\nram\\n\\n\\n>From: tripat kharbanda <tripatsingh@HOTMAIL.COM>\\n>Reply-To: \"A mailing list for discussion about Sun Microsystem\\'s Java\\n>        Servlet API Technology.\" <SERVLET-INTEREST@java.sun.com>'\n",
      "'I\\'d be willing to moderate. It\\'d be a really easy job, for the most part:\\n\\n\"Oh, look... a JSPI mail. [delete]\"\\n\\nI\\'m joking, of course... that\\'d be the response MOST of the time, although\\nI\\'d probably reply \"This should be on a generic Java list\" or \"This should\\nbe on your application server\\'s list\" or \"Gee, learn Java, would you?\"\\n\\nHere\\'s hoping nobody takes this as an offer for ME to moderate. :)\\n\\n\\n>From: Flava Flave <flava@MORPH.PLUS.COM>\\n>Reply-To: A mailing list about Java Server Pages specification and\\n>     reference <JSP-INTEREST@java.sun.com>'\n",
      "'Thanks everybody,\\n\\nI finally find the error.  You are right, Doug, it is not in the code I send\\nyou.  I have the error when I collect the data.\\n\\nI really appreciate all your help.\\n\\n\\n\\n>From: \"Doug Turner\" <dturner@panix.com>\\n>Reply-To: \"Doug Turner\" <dturner@panix.com>\\n>To: \"A mailing list about Java Server Pages specification and reference\"\\n><JSP-INTEREST@java.sun.com>'\n",
      "\"NES 4.0 works with JSP .92 Specs only. It doesn't take <jsp:usebean> tag\\nwhich came with JSP 1.0. So you either try using old <USEBEAN> or start\\nusing a webserver that supports Jsp 1.0 / 1.1.\\niPlanet 4.1 (NES 4.1) supports jsp 1.1. Otherwise try using jrun as servlet\\nengine.\\n\\nThere were quite a few mails in this list about this problem. Just browse\\nthrough the archive. It will surely help you.\\n\\nCheers\\n\\nVis..\\n\\n\\n\\n>From: Pedro Meza <pmeza@USWEST.COM>\\n>Reply-To: A mailing list about Java Server Pages specification and\\n>     reference <JSP-INTEREST@java.sun.com>\"\n",
      "'There is a directory called classes which gets created\\nby default when u\\ninstall Java WebServer.You dont have to declae it in\\nthe classpath if u r\\nplacing it in the classes directory\\n\\nThe other option is to put ur bean directory name in\\nthe classpath n include\\nit in ur JSP file by usine the JSP:INCLUDE tag\\n\\nHope this helps\\nSanjay\\n\\nThe other\\n>From: Paras Sharma <paras_sharma@USA.NET>\\n>Reply-To: A mailing list about Java Server Pages\\nspecification and\\n>     reference <JSP-INTEREST@java.sun.com>'\n",
      "'There is 1 message in this issue.\\n\\nTopics in this digest:\\n\\n1. souvenir\\nFrom: \"Gyan Jyoti Foundation\" <gyanjyoti@vsnl.net>'\n",
      "'Use the java class StringTokenizer.\\n\\n\\n>From: \"R.Muthukumar\" <muthu@WISDOM.CO.IN>\\n>Reply-To: A mailing list about Java Server Pages specification and\\n>     reference <JSP-INTEREST@java.sun.com>'\n",
      "\"> yes, testing this kind of mock is going too far. As you point out, the\\ntesting has to stop somewhere. If you're worried about the string splitting,\\nthen pass in a collection of strings and pop the next one off the top each\\ntime.\\n>\\n> Steve\\n>\\n> From: <nigel_thorne@yahoo.co.uk>\\n> > I've been writing some code, where I wanted to create a mock object\\n> > to prevent a test from creating and deleting files.\\n> >\\n> > I defined a simple interface. It's methods are :\\n> >     boolean LoadFile(String filename);\\n> >     String getLine();\\n> >\\n> > The mock object takes a string in its constructor that it pretends\\n> > was the \\nTo Post a message, send it to:   extremeprogramming@eGroups.com\\n\\nTo Unsubscribe, send a blank message to: extremeprogramming-unsubscribe@eGroups.com\\n\\nDon't miss XP UNIVERSE, the first US conference on XP and Agile Methods.  see www.xpuniverse.com for details and registration.\\n\\nYour use of Yahoo! Groups is subject to http://docs.yahoo.com/info/terms/\"\n",
      "\"Which class file you're talking about ? Are you using Jrun ?\\n\\n\\n>From: Pedro Meza <pmeza@USWEST.COM>\\n>Reply-To: A mailing list about Java Server Pages specification and\\n>     reference <JSP-INTEREST@java.sun.com>\"\n",
      "'hi albert,\\nno you cant deploy EJB in jrun since for deployment EJB Specified\\ncontainer is required, which jrun do not have ,ou have to go for application\\nservers such as j2ee , weblogic.\\n\\n>From: Albert <kwachow@NETVIGATOR.COM>\\n>Reply-To: A mailing list about Java Server Pages specification and\\n>     reference <JSP-INTEREST@java.sun.com>'\n",
      "'hi\\n\\nyou can change the SQL statement to avoid null. Check the fields\\nwhich will be null and replace with space. You can use\\nthe NVL funct in Oracle and ISNULL funct in SQL Serv.\\nBy this way you can avoid null values before getString.\\nIt doesnt chnge your database values too.\\n\\n\\n\\n\\n\\n>From: Magnus Walter <magnus.walter.sigmanbit@SKANDIA.SE>\\n>Reply-To: A mailing list about Java Server Pages specification and\\n>     reference <JSP-INTEREST@java.sun.com>'\n",
      "'You can get a long value representing the number of milliseconds since\\n1/1/1970 by using the getTime() method.  Store this value in the session\\nobject and then when the user logs off, get another date and do the\\ngetTime() method to retrieve another long.  The subtract it and you have the\\nnumber of milliseconds the user was on the system.  Then multiply it by 1000\\nto get the number of seconds or 60000 to get the number of minutes\\n\\n\\n>From: Pradeep Shekade <pradeepjsp@YAHOO.COM>\\n>Reply-To: A mailing list about Java Server Pages specification and\\n>     reference <JSP-INTEREST@java.sun.com>'\n",
      "'hi\\nput your bean file in the package.and put your package\\nin the class directory which is in the javawebserver.o.k\\n\\nravi\\n\\n\\n>From: Uday Prajapati <U.Prajapati@ZENSAR.COM>\\n>Reply-To: A mailing list about Java Server Pages specification and\\n>     reference <JSP-INTEREST@java.sun.com>'\n",
      "'Hii vishnu,\\nCan i have some code for a singleton class.. i hope this would\\nenable me understand the concept better.. thanks for ur reply\\nsudhakar\\n\\n\\n\\n>From: Vishnu Akkaraju <vakkaraju@ELDERVISION.NET>\\n>Reply-To: A mailing list about Java Server Pages specification and\\n>     reference <JSP-INTEREST@java.sun.com>'\n",
      "'> >\\n> > > right out of the document\\n> > >\\n> > > \"IIS first searches it for any ASP script. If there is none, the file\\nis\\n> > > treated as a normal .HTM file and sent directly to the browser.\"\\n> > >\\n> > >\\n> > >\\n> > >\\n> > > >From: Shrisha Radhakrishna <shrisha_radhakrishna@YAHOO.COM>\\n> > > >Reply-To: A mailing list about Java Server Pages specification and\\n> > > >     reference <JSP-INTEREST@java.sun.com>'\n",
      "'I was mulling over this a bit more, and some more things dropped out:\\n\\nWhat JSP container are you using? If my supposition was correct, *most*\\ncontainers will tell you that the bean referenced from <jsp:getProperty />\\ndidn\\'t exist; I don\\'t know specifically of any that don\\'t, but it\\'s possible\\nthat the error lies there.\\n\\nI\\'m also not sure what the implications are of using the underscore in the\\nproperty name. That *shouldn\\'t* cause a problem, but just because it\\nshouldn\\'t doesn\\'t mean that it doesn\\'t. (See \"What JSP container are you\\nusing?\" :)\\nand jakarta has yet another one (although Shawn Bayern\\'s isn\\'t built for\\npopulating form data from a bean the way you\\'re doing it.)\\n\\n\\n>From: Joseph Ottinger <epesh@HOTMAIL.COM>\\n>Reply-To: A mailing list about Java Server Pages specification and\\n>     reference <JSP-INTEREST@java.sun.com>'\n",
      "'Hi, please is there any code example on how to use this three steps.\\nThanks your help will be appreciated.\\nsufi\\n\\n\\n>From: Steven Zhao <jsp@188.CC>\\n>Reply-To: A mailing list about Java Server Pages specification and\\n>     reference <JSP-INTEREST@java.sun.com>'\n",
      "'Ok lets get things done. So all your class files are in the\\nc:\\\\classes\\\\com\\\\oreilly\\\\servlet. Is that true? If it is then set the class\\npath to c:\\\\classes. (without the . at the end) You do not have to enter the\\nwhole class path. If you set the class path to\\nc:\\\\classes\\\\com\\\\oreilly\\\\servlet then the java compiler will try to look at\\nthe c:\\\\classes\\\\com\\\\oreilly\\\\servlet\\\\com\\\\oreilly\\\\servlet.\\nTry to set the classpath to c:\\\\classes and tell us what happens.\\n\\n\\n>From: fau k <fau13@HOTMAIL.COM>\\n>Reply-To: A mailing list about Java Server Pages specification and\\n>     reference <JSP-INTEREST@java.sun.com>'\n",
      "'NO limit at all. You can have as many lines of code as you want.\\n\\ntry this simple one an tell us if it crashes.\\n\\n<% out.println(\"hello world\"); %>\\n\\nor <% =(\"hello world\") %>\\n\\nIf there is still problem maybe you have not configured JRun properly.\\n\\nI am using JRun myself and everything is fine.\\n\\n>From: \"Shah, Maulik (GEAE, Foreign National)\" <maulik.shah@AE.GE.COM>\\n>Reply-To: A mailing list about Java Server Pages specification and\\n>     reference <JSP-INTEREST@java.sun.com>'\n",
      "'Thanks.\\nI have never used Javascript...can u help with some suggestive code..\\n\\n\\n>From: \"Antonio W. Lagnada\" <nfet@ZDNETONEBOX.COM>\\n>Reply-To: A mailing list about Java Server Pages specification and\\n>     reference <JSP-INTEREST@java.sun.com>'\n",
      "'Jai SrimanNarayana\\nThere are 3 messages in this issue.\\n\\nTopics in this digest:\\n\\n1. SandhyaVandanam, Prathasmaraneeyam and Vishu Sahasranamam\\nAvailable.\\n2. Re: Yawning - My Opinion\\n3. Re: Bhakti Nivedana\\nFrom: chinna jeeyar <acharya27@yahoo.com>'\n",
      "'> All,\\n>\\n> Please find below attached the list of phones that support bitmap images\\nas\\n> per our discussion yesterday.\\n>\\n> Andy,\\n>\\n> Can you also please investigate incomplete \"</FORM>\" tags in the \"Markets\"\\n> HTML pages. We have discovered that there are no </FORM> tags and this\\n> affects the form submission on smart phone application.\\n>\\n> Thank you for your time,\\n>\\n>\\n> Baxish Sheth\\n> Application Engineer\\n> 3231 Scott Blvd.\\n> Santa Clara, Ca 95054\\n> Direct (408) 562 8124\\n> bsheth@avocadoit.com\\n>\\n>\\n>\\n> -----Original Message-----\\n> From: Liana Sangeorzan [  <mailto:lsangeorzan@tradeit.com>\\nmailto:lsangeorzan@tradeit.com]'\n",
      "'The query string is\\n\\nstrsql = \"SELECT EmployeeName,ReferenceNo,ProjectName,Task, \" & _\\n\"TaskStatus,CurDate,StartTime,EndTime,Duration, \" & _\\n\"Customer,Deliverables,Notes \" & _\\n\"FROM TIMELOG \" & _\\n\"WHERE EmpID=\" + request(\"EmpID\")  & _\\n\"AND TimeLogID=\" + request(\"ColTimeID\")\\n\\nColumns CurDate, StartTime and Notes have length of 50-255 chra in\\nMS-Access.\\n\\nWhen displayed on HTML like\\n<TD><INPUT TYPE=\"TEXT\" name=\"CurDate\" value=<%= rs(\"CurDate\")%>\\nsize=\"300\"></TD>\\n\\ni get onlt the first chrs with no spaces.\\nEx Tue 20 June 2000 CDT .. is displayed as \"Tue\"..\\n\\nThanx\\n\\n>From: Lee Elenbaas <lee@RTS.CO.IL>\\n>Reply-To: A mailing list about Java Server Pages specification and\\n>     reference <JSP-INTEREST@java.sun.com>'\n",
      "'Depends on which Web server r u using to deploy the JSP\\nSanjay\\n\\n\\n>From: Paras Sharma <paras_sharma@USA.NET>\\n>Reply-To: A mailing list about Java Server Pages specification and\\n>     reference <JSP-INTEREST@java.sun.com>'\n",
      "'> ....\\n> > > > >Date: Thu, 19 Apr 2001 11:06:15 -0700\\n> > > > >\\n> > > > >Hi!\\n> > > > >\\n> > > > >you can tell me by the weekend :-),\\nactually\\n> I\\n> > > > haven\\'t even decided which\\n> > > > >tickets to buy .... probably the $50\\n> ones...??\\n> > > > >let me know.\\n> > > > >\\n> > > > >I am in for the Shivkumar and Zakir concert\\n> > > > >I thought Priyank was going to buy tickets\\n> for\\n> > > > those ???\\n> > > > >\\n> > > > >Minal\\n> > > > >\\n> > > > >\\n> > > > >From: \"Hiten Patel\" <hitpats@hotmail.com>\\n> > > > >Reply-To: zingaris@yahoogroups.com'\n",
      "'Use a connection pool. Easy, well-documented, obvious. (At the very least,\\ndon\\'t reconnect on every page request...)\\n\\n\\n>From: \"Shah, Maulik (GEAE, Foreign National)\" <maulik.shah@AE.GE.COM>\\n>Reply-To: A mailing list about Java Server Pages specification and\\n>     reference <JSP-INTEREST@java.sun.com>'\n",
      "\"You may have to use the Java Script for this.Confirm with a message will\\nbring up a pop-up with yes or no buttons.\\n\\nYou need to call this function from the OnClick() event of this 'Delete'\\nbutton and to this function you will be passing some info identifying the\\nrecord selected for deletion.\\n\\nIf you have further doubts , give me a mail.\\nSrinivas\\n\\n\\n>From: Rupali Bains Goswami <bains_goswami@HOTMAIL.COM>\\n>Reply-To: A mailing list about Java Server Pages specification and\\n>     reference <JSP-INTEREST@java.sun.com>\"\n",
      "'Hello\\nBut can u give us the procedure how to do it\\n\\nSanjay\\n\\n\\n\\n>From: Kapoor Ajay <Ajaypk@AOL.COM>\\n>Reply-To: A mailing list about Java Server Pages specification and\\n>     reference <JSP-INTEREST@java.sun.com>'\n",
      "'>\\n>cool... Jenny, it seems I may be reaching San Francisco in time to join\\nin\\n>the celeberations!\\n>\\n>See you..\\n>\\n>Punit \"I love Veggies\" Modhgil.\\n>\\n>\\n> >From: Jenny Sandelson <jsandelson@earthlink.net>\\n> >Reply-To: jsandelson@earthlink.net'\n",
      "'I\\'m using NT. I\\'ve set class path the driver in my NT setting. Do I have\\nto\\ndo it again in NES or Jrun ? If so where do I do it ?\\n\\n>From: \"Cogley, Jonathan\" <Jonathan.Cogley@GIANTEAGLE.COM>\\n>Reply-To: A mailing list about Java Server Pages specification and\\n>     reference <JSP-INTEREST@java.sun.com>'\n",
      "'Hi\\nIIS doent support servlets i suppose.. it needs an iPlanet Web server\\nor java web server for running servlets .. and JSP..\\nhope this helps..\\nbye\\nsudhakar\\n\\n\\n>From: VEDA <vedanajy@CHENNAI.TCS.CO.IN>\\n>Reply-To: A mailing list about Java Server Pages specification and\\n>     reference <JSP-INTEREST@java.sun.com>'\n",
      "'Jennifer,\\n\\nI use textPad all the time, and I never have problems like that.  Try this:\\nwhen you do save as, use double quotes around the name e.g. \"name.jsp\".\\n\\nGood luck!\\n\\n\\n\\n>From: Jennifer Feeney <jennifer.feeney@IRELAND.COM>\\n>Reply-To: A mailing list about Java Server Pages specification and\\n>     reference <JSP-INTEREST@java.sun.com>'\n",
      "'To \"get\" jsp, you should be able to understand servlet api because jsp\\'s are\\nconverted to servlets by your app server and then the servlets that are\\ngenerated are compiled and run.  App servers all have some way to\\n\"keepgenerated\" code.  Find out how your app server does this, and view the\\nservlet code that is generated from your jsp and you will understand jsp\\nbetter.\\n\\n\\n>From: Devon Manelski <devonm@CONSULTANT.COM>\\n>Reply-To: A mailing list about Java Server Pages specification and\\n>     reference <JSP-INTEREST@java.sun.com>'\n",
      "'Hi,\\nI faced the same problem few days back. It was resolved by putting the bean\\nclasses in a package and add the path to the weblogic classpath in\\nstartweblogic.cmd as\\nset\\nWEBLOGIC_CLASSPATH=.\\\\license;.\\\\classes;.\\\\lib\\\\weblogicaux.jar;.\\\\myserver\\\\serverclasses;c:\\\\;c:\\\\abc;\\n\\nmy classes are kept in xyz package under abc directory.\\n\\nThis simple method works fine with any other classes which u want to import\\nin JSP or servlets.\\n\\nHope this will solve your problem.\\n\\nShishir\\n\\n>From: Marco M <Marco.Mistroni@NOKIA.COM>\\n>Reply-To: A mailing list about Java Server Pages specification and\\n>     reference <JSP-INTEREST@java.sun.com>'\n",
      "'Hi stefan,\\n\\nHey thnx for the reply. But I wanted to encode the parameter in the URL not\\ndisplay it raw. I dont want to use dopost also. and encodeRedirectURL() is\\nnot working as well. pls help me.\\n\\nthnx\\nsrinivas.\\n\\n\\n>From: Stefan Bushev <stbushev@HOTMAIL.COM>\\n>Reply-To: A mailing list about Java Server Pages specification and\\n>     reference <JSP-INTEREST@java.sun.com>'\n",
      "'I am still struggling with the same problem, could you please tell me why\\nis\\nthis error :\\njavax.servlet.ServletException: java.sql.SQLException: Column not found:\\nUnknown column \\'Big\\' in \\'where clause\\'\\n\\nThe code is like this :\\n<sql:query>\\nselect * from description where name = <%=\\nrequest.getParameter(\"name\")\\n%>\\n</sql:query>\\n\\nThanks\\n\\n\\n>From: sufi malak <sufi_m@HOTMAIL.COM>\\n>Reply-To: A mailing list about Java Server Pages specification and\\n>     reference <JSP-INTEREST@java.sun.com>'\n",
      "'Hi, thanks for your help, could you please show me how to do it ?\\nThanks your help will be appreciated.\\nSufi\\n\\n>From: \"Antonio W. Lagnada\" <nfet@ZDNETONEBOX.COM>\\n>Reply-To: A mailing list about Java Server Pages specification and\\n>     reference <JSP-INTEREST@java.sun.com>'\n",
      "\"> >  From: Robert Watkins <robertw@qsipayments.com>\\n> >\\n> >  By avoiding specialisation, XP seeks to minimise  the damage\\n> >  caused by turnover. The knowledge transfer mechanisms in XP also\\n> >  promotes a fast learning-curve for new staff.\\n>\\n> From: J. B. Rainsberger\\n>\\n> Rapid turnover? In an XP project?\\n> Who would ever want to leave?!\\n>\\n\\nThere are reasons other than process that people leave a project,\\n(There is a big world out there after all).\\nOne of the teams I'm coaching has had allot of turnover.\\n\\nThe reasons for turnover include:\"\n",
      "'I am sorry, it was my mistake, by mistake I had WEB_INF instead of WEB-INF\\n\\nThank you anyway for your help.\\n\\n\\n>From: \"Richardson, Derek\" <drichardson@COMPBENEFITS.COM>\\n>Reply-To: A mailing list about Java Server Pages specification and\\n>     reference <JSP-INTEREST@java.sun.com>'\n",
      "'Yes it is available, provided local scoping conditions are met.  In other\\nwords, you still are following\\nThe overall rules of Java Scripting Scope.\\n\\n\\nFor more infomation check out\\nhttp://www.jspinsider.com/reference/jsp/index.html\\n\\nCasey Kochmer\\n\\n\\n>From: Kai Hackemesser <kaha@GMX.DE>\\n>Reply-To: A mailing list about Java Server Pages specification and\\n>     reference <JSP-INTEREST@java.sun.com>'\n",
      "'>\\n> > Hi\\n> > Jrun 3.0 can be configured with the iis 5.0 as the jsp and servlet\\nengine\\n> >\\n> >\\n> > >From: Zahid Khan <zkjsp@YAHOO.COM>\\n> > >Reply-To: A mailing list about Java Server Pages specification and\\n> > >     reference <JSP-INTEREST@java.sun.com>'\n",
      "'any one there knows what this error means (setting up working directory)\\ni am trying to deploy beans using websphere and this error still persists ,\\ncan anyone worked with websphere could please help me.\\n\\n>From: Ashish Bhatia <AshishB@NIIT.COM>\\n>Reply-To: A mailing list about Java Server Pages specification and\\n>     reference <JSP-INTEREST@java.sun.com>'\n",
      "'Brenda,\\n\\nYou can use the \\'script\\' tag to signify javascript code in a JSP or HTML\\nfile (coded within the Head, referenced in the Body).\\n\\nExample:\\n<HEAD>\\n<TITLE>SomeTitle</TITLE>\\n<SCRIPT language=\"javascript\">\\n\\nfunction functionName(parameters){\\n***** function code goes here ****  }\\n\\n</SCRIPT> </HEAD>\\n\\nHope this helps.\\nScott\\n\\n>From: Brenda Tung <eng70489@LEONIS.NUS.EDU.SG>\\n>Reply-To: A mailing list about Java Server Pages specification and\\n>     reference <JSP-INTEREST@java.sun.com>'\n",
      "'Do you have cookies enabled?\\n\\nOn the close out question. You can use Javascript, put code in the document\\nclose event. This code can trigger opening another page which then performs\\nthe required operation. (the other page can then close itself in the open\\nevent.) We have coded something similiar for an ASP app we built a while\\nago, so I know, that it should work. At least in theory...\\nOther than coding a trick like this, you cant know when the using just shuts\\nthe window. one of the disadvantages of a web application.\\n\\nCasey Kochmer\\n\\n\\n>From: Angela Chow <amlchow@YAHOO.COM>\\n>Reply-To: A mailing list about Java Server Pages specification and\\n>     reference <JSP-INTEREST@java.sun.com>'\n",
      "'Why donot you use update statement?\\n\\nMike\\n\\n>From: Mutahar Qayum <mutahar@MDISOURCE.COM>\\n>Reply-To: A mailing list about Java Server Pages specification and\\n>     reference <JSP-INTEREST@java.sun.com>'\n",
      "'is this a wl 5.1 or 6.0 thing?\\n\\n\\n\\n\\n>From: \"T.A. Flores\" <taflores@MYSUN.COM>\\n>Reply-To: A mailing list about Java Server Pages specification and\\n>     reference <JSP-INTEREST@java.sun.com>'\n",
      "'Hi,\\n\\nI use JRun to deploy Servlet and jsp, it works fine.\\nBut when I try to deploy a .ear file with EJB.(which is packaged by\\ndeploytool of j2sdk221.2.1).\\nIt cannot lookup the ejb,  I cannot fix this problem so I give up.\\n\\nIf anybody know how to deploy ear in JRun, please tell me.\\nThanks in advance.\\n\\ngary\\n\\n\\n\\n>From: Emeline Barns <emeline20@HOTMAIL.COM>\\n>Reply-To: A mailing list about Java Server Pages specification and\\n>     reference <JSP-INTEREST@java.sun.com>'\n",
      "'do you use request.getParameter() to get it\\'s value?\\njust like:\\n<input type=hidden name=blah value=\"Directory Manager\">\\n...\\n\\nso in the jsp:\\n<%=request.getParameter(\"blah\")%>\\nshould return:\\nDirectory Manager\\n\\ns.b.\\n\\n>From: Raj S <rajs13@HOTMAIL.COM>\\n>Reply-To: A mailing list about Java Server Pages specification and\\n>     reference <JSP-INTEREST@java.sun.com>'\n",
      "'I am still not able to run tomcat successfully...JSP tags are\\nstill ignored.\\n\\nCould anyone please list down all the steps required to\\ninstall TOMCAT 3.1\\nin win 98 machine, the prerequisites softwares to be\\ninstalled, the class\\npath and java_home path settings, the windows system memeory settings,\\netc...\\n\\nI beleive that it will be of great help to everyone.\\nPersonally I think even\\nmany links of installing tomcat are incomplete or not very\\nfriendly to new\\ncomers...\\n\\nThanks again\\n\\n\\n>From: Agarwal Gokul <gokul_a@IOCL.CO.IN>\\n>Reply-To: A mailing list about Java Server Pages specification and\\n>     reference <JSP-INTEREST@java.sun.com>'\n",
      "\"BAX, actually I'll be staying back - so u have company (oops! I don't think\\nu liked it)\\n\\nso we two can go together on friday night, so when u rent it, add my name as\\na driver (Raghu Pattipati)\\n\\n\\n\\n\\n>From: Baxish Sheth <bsheth@avocadoit.com>\\n>Reply-To: zingaris@yahoogroups.com\"\n",
      "'Goto www.archives.java.sun.com and find jsp-interest modify ur subscription\\nthere\\n\\nIf still have probs mail me at san_gomes@hotmail.com.Hvae gone thro the same\\nprob\\nSanjay\\n\\n>From: Tai <_lineman@EXCITE.COM>\\n>Reply-To: A mailing list about Java Server Pages specification and\\n>     reference <JSP-INTEREST@java.sun.com>'\n",
      "'thanx\\nI am trying\\n\\n\\n>From: Jaisinh Nimbalkar <J.Nimbalkar@ZENSAR.COM>\\n>Reply-To: A mailing list about Java Server Pages specification and\\n>     reference <JSP-INTEREST@java.sun.com>'\n",
      "'>\\n> > <%! declares variable at class level while <% declares variable at\\nservice\\n> > method level.  Therefore, <%! variables are shared by all clients\\n> accessing\\n> > page and need to be made thread safe ect, but <% variables will only be\\n> > access in the scope of a single request.\\n> >\\n> >\\n> > >From: Ashish Bhatia <AshishB@NIIT.COM>\\n> > >Reply-To: A mailing list about Java Server Pages specification and\\n> > >     reference <JSP-INTEREST@java.sun.com>'\n",
      "'This isn\\'t the correct forum for this kind of question. However, you\\'re in\\n(some limited) luck: a quick search for \"fax\" and \"modem\" at\\nhttp://java.sun.com/ provided a link to the Java Communications API, at\\nhttp://java.sun.com/products/javacomm/ - which would handle the modem part\\nof your question. It doesn\\'t address \"fax,\" though - for that I ran \"fax\\nmodem\" through the search at http://www.jguru.com/ which yielded a few pages\\nof results. Check them out. Some may be useful to you.\\n\\n\\n>From: niezm <niezm@NEU-ALPINE.COM>\\n>Reply-To: A mailing list about Java Server Pages specification and\\n>     reference <JSP-INTEREST@java.sun.com>'\n",
      "\"I agree, it's a good way to find out things - to ask people about the\\ndifferences between products.\\n\\nSo, which do *you* like better? The Honda Accord or the Toyota Camry?\\n\\nOh, wait, that might be offtopic for JSP-Interest, too... but who cares,\\nsend me an answer. Everybody else expects it here...\\n\\n>From: Laurent Bruynooghe <Laurent@COMPUBASE-EUROPE.COM>\\n>Reply-To: A mailing list about Java Server Pages specification and\\n>     reference <JSP-INTEREST@java.sun.com>\"\n",
      "'A lot of people skim thru the subject headings in order to read postings\\nthat might be relevant to them. Your subject of \"URGENT HELP ME!!!!!\" is not\\ngoing to make anyone want to read your post, rather, they will delete it\\nimmediately\\n\\n>From: christian hamann <chamannl@USMP.EDU.PE>\\n>Reply-To: A mailing list about Java Server Pages specification and\\n>     reference <JSP-INTEREST@java.sun.com>'\n",
      "\"Minal, how late do you need to know ?\\n\\nPt. Shivkumar Sharma and Ust. Zakir are performing on May 20th, 7:00pm.\\nHerbst Theatre, Van Ness, SF.\\nI'll be booking tickets in a weeks time. Any takers for this one?\\n\\nciao,\\n>From: Minal Parikh <minalnparikh@yahoo.com>\\n>Reply-To: zingaris@yahoogroups.com\"\n",
      "'Tiana,\\n\\nIf you are doing this cleanup when the App is ending then you don\\'t want to\\nput the file info in the Session. Sessions are for data that lasts only as\\nlong as a user\\'s session lasts - Session scope. Since you\\'re using\\njspDestroy() i will assume you mean to give it Application scope. To achieve\\nthis you can use something like:\\n\\npublic jspInit()\\n{\\ngetContext().setAttribute(\"outfile1\", \\' BLA \\');\\ngetContext().setAttribute(\"outfile2, \\' BLA \\');\\n}\\n\\npublic jspDestroy()\\n{\\nfilename = getContext().getAttribute(\"outfile1\");\\nfilename = getContext().getAttribute(\"outfile2\");\\n\\nLee\\n\\n>From: Tiana Zhang <Tiana.Zhang@METRISCOMPANIES.COM>\\n>Reply-To: A mailing list about Java Server Pages specification and\\n>     reference <JSP-INTEREST@java.sun.com>'\n",
      "'Hello,\\nbut the sql works in SQL/PLUS.\\ncan you give me more infor?\\n\\nthanks\\n\\n>From: Joe Milora <JoeM@EAGLECMMS.COM>\\n>Reply-To: A mailing list about Java Server Pages specification and\\n>     reference <JSP-INTEREST@java.sun.com>'\n",
      "'Hi,\\n\\nYou can use something like this\\nthis.getServletContext().getRealPath(\"file.y\")\\n\\nYou only need to figure out the path return on NT and Solaris. In this way\\nyou don\\'t have to change your JSP code.\\n\\nHopes it helps.\\nNils\\n\\n\\n>From: sandarbh <sandarbh@HOTMAIL.COM>\\n>Reply-To: A mailing list about Java Server Pages specification and\\n>     reference <JSP-INTEREST@java.sun.com>'\n",
      "'Jai SrimanNarayan\\nThere are 5 messages in this issue.\\n\\nTopics in this digest:\\n\\n1. Question to Sri Chinna Jeeyar about Gaudiya Vaishnavism and Krishna\\navatara.\\n2. why do we change Yagyopaveetham on Shravana Poornima\\n3. Re: Digest Number 207\\n4. Qualities Of Devotees - V\\n5. Re: why do we change Yagyopaveetham on Shravana Poornima\\nFrom: chinna jeeyar <acharya27@yahoo.com>'\n",
      "'I already have the properties file setup the way u had specified,\\n\\nI have the login bean for the initial database connection, then i get the\\nusername and password entered and compare it with the values specified in my\\ncustomer table. After validation i need to go to the next jsp page. My\\nquestion is that will I have the connection to the database throughout the\\nsession so that when i go to the different jsp pages and need to retrieve\\ndata from the database, how do i do it?\\n\\nThanks\\n\\n\\n>From: \"Jaffa, Dan\" <dan.jaffa@PFIZER.COM>\\n>Reply-To: A mailing list about Java Server Pages specification and\\n>     reference <JSP-INTEREST@java.sun.com>'\n",
      "'Hi, please can I have a copy of your example of jsp calling an applet.\\nThanks\\n\\n\\n>From: \"Menard, Demetria\" <DMenard@CORAL-ENERGY.COM>\\n>Reply-To: A mailing list about Java Server Pages specification and\\n>     reference <JSP-INTEREST@java.sun.com>'\n",
      "'Hello:\\n\\nThe amount to be charged my credit card is incorrect.\\n\\nI am a print subscriber to Daily Graphs - account # 508231-001, print IBD\\nsubscriber - account # 98951814.\\n\\nI recently took advantage of the $19.95 trial period for daily graphs\\nonline.  I would like to apply that $19.95 towards my discounted annual\\nsubscription of $99 (due to printed Daily Graphs for both NYSE and NASDAQ).\\n\\nPlease confirm that this is correct and I will not be billed $700.05.\\n\\nThank you.\\n\\nChris Quinter\\n\\n\\n>From: \"Daily Graphs Registration\" <registration@dailygraphs.com>\\n>Reply-To: <registration@dailygraphs.com>'\n",
      "'sort of ....\\n\\nbut why bother writing an .asp file without any asp\\nwhen you take a (small) performance hit because the server has\\nto check and flag that it does not have any asp\\n\\nbetter off with HTML page\\n\\nya ya?\\n\\n\\n\\n\\n>From: Shrisha Radhakrishna <shrisha_radhakrishna@YAHOO.COM>\\n>Reply-To: A mailing list about Java Server Pages specification and\\n>     reference <JSP-INTEREST@java.sun.com>'\n",
      "'Hi,\\nWhy donot write a func to convert all item in array in to one string?\\nlike:\\n//myval[0]=\"one\"\\nString u += myval[i];\\n}\\nhope this will be helpful.\\n\\nMike\\n>From: Bansal Peeyush <IT-HELPDESK-PONDY@EMAIL.WHIRLPOOL.COM>\\n>Reply-To: A mailing list about Java Server Pages specification and\\n>     reference <JSP-INTEREST@java.sun.com>'\n",
      "'Jsp and wml merge is still a dream which has to come in near future, jsp is\\nlimited to browsers but wml is something to plunge your cellphones or\\npalmsets.\\n\\n\\n>From: Asri Ismail <asri@PLANETARANIUM.COM>\\n>Reply-To: A mailing list about Java Server Pages specification and\\n>     reference <JSP-INTEREST@java.sun.com>'\n",
      "'Jai SrimanNarayana\\nThere are 9 messages in this issue.\\n\\nTopics in this digest:\\n\\n1. Re: Nava Rathri Celebrations\\n2. Bhakti Nivedana\\n3. Re: [ramanuja_society] About Saraswathi Pooja\\n4. Re: om tat sat\\n5. Re: Questions from arun tamirisa [jet office]\\n6. Re: Questions Regarding No Worship of Shiva By Rama\\n7. Re: Re: [ramanuja_society] About Saraswathi Pooja\\n8. Re: HariHara Putra - Clarification\\n9. Qs: Rama prayed to Shiva Linga?\\nFrom: \"Thara Narasimhan\" <tnarasimhan@earthlink.net>'\n",
      "'> > >\\n> > > > Hi\\n> > > > Jrun 3.0 can be configured with the iis 5.0 as the jsp and\\n> > > servlet engine\\n> > > >\\n> > > >\\n> > > > >From: Zahid Khan <zkjsp@YAHOO.COM>\\n> > > > >Reply-To: A mailing list about Java Server Pages specification\\nand\\n> > > > >     reference <JSP-INTEREST@java.sun.com>'\n",
      "'how can it be done in asp tell please\\n\\nsandarbh\\n\\n>From: Steve <beforewisdom@YAHOO.COM>\\n>Reply-To: A mailing list about Java Server Pages specification and\\n>     reference <JSP-INTEREST@java.sun.com>'\n",
      "'Forget about Taglib....I am not able to run the simple hello world\\nprogram.... I am now really frustrated.... I dont know whether it has got to\\ndo with classpath settings... can anyone tell me what should be the claspath\\nsettings...I think that is the only thing I need to check again now..\\n\\n\\n>From: Marco M <Marco.Mistroni@NOKIA.COM>\\n>Reply-To: A mailing list about Java Server Pages specification and\\n>     reference <JSP-INTEREST@java.sun.com>'\n",
      "'> >\\n> > > Forget about Taglib....I am not able to run the simple hello world\\n> > > program.... I am now really frustrated.... I dont know whether it\\nhas\\n> >got\\n> >to\\n> > > do with classpath settings... can anyone tell me what should be the\\n> >claspath\\n> > > settings...I think that is the only thing I need to check again\\nnow..\\n> > >\\n> > >\\n> > > >From: Marco M <Marco.Mistroni@NOKIA.COM>\\n> > > >Reply-To: A mailing list about Java Server Pages specification and\\n> > > >     reference <JSP-INTEREST@java.sun.com>'\n",
      "'>Multiedit is a good one .\\n>It also does compiling by automatically detecting ur compiler directory\\nand\\n>running the Java program using that\\n>Regards\\n>Sanjay\\n>\\n>\\n> >From: Brad Miley <bradmiley@HOTMAIL.COM>\\n> >Reply-To: A mailing list about Java Server Pages specification and\\n> >     reference <JSP-INTEREST@java.sun.com>'\n",
      "'hii\\nu can visit this site:\\nwww.coolservlets.com\\nhere u can find a email package with source code which will certainly give u\\nsome idea of how to go abt it. if u want more information on this matter,\\nplease mail me at :sudha390@hotmail.com\\nbye\\nsudhakar\\n\\n\\n>From: Bhuvaneswari Palanivel <Bhuvaneshwari_Palanivel@SATYAM.COM>\\n>Reply-To: A mailing list about Java Server Pages specification and\\n>     reference <JSP-INTEREST@java.sun.com>'\n",
      "'Additional information.\\n\\n\\n>From: Panos Konstantinidis <p_konstantinidis@HOTMAIL.COM>\\n>Reply-To: A mailing list about Java Server Pages specification and\\n>     reference <JSP-INTEREST@java.sun.com>'\n",
      "\"visual age for java can reload classes while tomcat is running.\\ndownload the free version from ibm ( search for visual age on the front\\npage)\\nmartin\\n\\n\\n>From: Dave Daniels <dave@MUSICCITY.NET>\\n>\\n>As a JSP newbie myself, I've been dealing with this problem as well. Yeah,\\n>it would be nice to have the class reloaded after it is recompiled, but I\\n>think I read where it's not, and right now there's not a good solution.\\n>Let's hope they add it in the future. What I'm doing is using the class as\\n>a\\n>scriplet during testing, then compiling it and adding the bean tags when\\n>everything looks ok. If someone has a better solution, I would definitely\\n>be\\n>interested...\\n>\\n>\\n>\"\n",
      "'To unsubscribe from this group, send an email to:\\njava-mobile-unsubscribe@egroups.com\\n\\n\\nThere is 1 message in this issue.\\n\\nTopics in this digest:\\n\\n1. Re: Digest Number 60\\nFrom: Manish Talwar <manish@csit.fsu.edu>'\n",
      "'Hello Phil\\nI just recently wrote an article discussing your questions topic.\\nThe article is called ASP Vs JSP and it is the first of several installments\\non this topic.\\n\\nYou can read the article at\\nhttp://www.jspinsider.com/articles/jspasp/jspasp1.html\\n\\nAt this time I suppose I can also announce a new JSP web site Called: JSP\\nInsider.\\nThe URL is http://www.jspinsider.com\\n\\nWe are in pilot mode for the month of July and would appreciate any feedback\\nthe JSP community might have to help us make the best possible JSP resource\\nsite. Our goal is to help people have an easy time using and learning JSP\\nand also offering access to the tools to make us successful as developers.\\n\\nCasey Kochmer\\n\\n\\n>From: Phil Campbell <pcamp@JPS.NET>\\n>Reply-To: A mailing list about Java Server Pages specification and\\n>     reference <JSP-INTEREST@java.sun.com>'\n",
      "'Thanks Chris, it works if I gives the absolute path of the file to\\nFileReader constructor, such as\\nC:\\\\\\\\jakarta-tomcat\\\\\\\\webapps\\\\\\\\ROOT\\\\\\\\WEB-INF\\\\\\\\classes\\\\\\\\normal.xml\\n\\nPeter\\n\\n\\n>From: \"Christopher K. St. John\" <cstjohn@QUIK.COM>\\n>Reply-To: \"A mailing list for discussion about Sun Microsystem\\'s Java\\n>        Servlet API Technology.\" <SERVLET-INTEREST@java.sun.com>'\n",
      "'> >\\n> > It sounds like you have a servlet which is doing response.getWriter()\\n(or\\n> > response.getOutputStream()), then including or forwarding to\\n> > another servlet\\n> > which does it again and that isn\\'t allowed - you can only get the\\n> > outputStream once per response.\\n> >\\n> >\\n> >\\n> > >From: Amar Das <adas@STGEORGECONSULTING.COM>\\n> > >Reply-To: \"A mailing list for discussion about Sun Microsystem\\'s Java\\n> > >        Servlet API Technology.\" <SERVLET-INTEREST@java.sun.com>'\n",
      "'Hey Guys, I\\'m in for the Zakir show..\\n\\nNaveen\\n\\n\\n>From: \"Hiten Patel\" <hitpats@hotmail.com>\\n>Reply-To: zingaris@yahoogroups.com'\n",
      "'my bad,\\n\\nI thought I saw the\\n\\n<% %> within the <%! %>\\n\\nGeerts answer hits the mark\\n\\nGads I need to get some sleep ;)\\n\\nCasey\\n\\n>From: JSP Insider <jspinsider@HOTMAIL.COM>\\n>Reply-To: A mailing list about Java Server Pages specification and\\n>     reference <JSP-INTEREST@java.sun.com>'\n",
      "'NO, Limit is not standard, I wish it was!!!!\\n\\nHowever, it is begining to make its way into more and more databases, I am\\nnot sure if it is making in with the same format across the databases.\\n\\nCasey Kochmer\\n\\n>From: Donald Vandenbeld <devanden@UCALGARY.CA>\\n>Reply-To: A mailing list about Java Server Pages specification and\\n>     reference <JSP-INTEREST@java.sun.com>'\n",
      "'Do you know anyone who would be interested in being interviewed for this\\nfilm?\\n\\n\\n>From: \"Justine Jacob\" <Justine@digitallivesfilm.com>\\n>Reply-To: <Justine@digitallivesfilm.com>'\n",
      "'>> >>\\n>> >> >go to the frame header right click gointo properties and then increas\\ne\\n>> >> >buffer size u will be able to scroll across ur errors.\\n>> >> >mandeep\\n>> >> >\\n>> >> >\\n>> >> >>From: B R Nair <b.r.nair@VSNL.COM>\\n>> >> >>Reply-To: A mailing list about Java Server Pages specification and\\n>> >> >>     reference <JSP-INTEREST@java.sun.com>'\n",
      "'Most likely, you are facing the problem on request.forward() call. Try\\nresponse.sendRedirect() instead. I think it is a bug.\\n\\nSree\\n\\n\\n>From: Marco M <Marco.Mistroni@NOKIA.COM>\\n>Reply-To: A mailing list about Java Server Pages specification and\\n>     reference <JSP-INTEREST@java.sun.com>'\n",
      "\"You *are* trying to solve the wrong problem. Write a bean to wrap what\\nyou're trying to do. Test outside of JSP. Debug outside of JSP. Then sue it\\nINSIDE JSP - and it still looks to me like you're doing something you\\nshouldn't have to, with regards to user management.\\n\\n\\n>From: Paulo Chitas <pchitas@STUDENT.DEI.UC.PT>\\n>Reply-To: A mailing list about Java Server Pages specification and\\n>     reference <JSP-INTEREST@java.sun.com>\"\n",
      "'There are 3 messages in this issue.\\n\\nTopics in this digest:\\n\\n1. Fill 7 Inkjet Cartridges For The Cost Of 1!                                                   rrbgx\\n2. Re: Hello\\n3. Re: Re: Hello\\nFrom: sureshv <sureshv@qualcomm.com>'\n",
      "'No chance you could have tried http://www.mysql.com/, or even looked on the\\nweb for \"mysql,\" or looked on http://freshmeat.net/, hmm?\\n\\n\\n>From: Antillon Reyes Rafael Martin - EXT <ExtRAntil@VTO.COM>\\n>Reply-To: A mailing list about Java Server Pages specification and\\n>     reference <JSP-INTEREST@java.sun.com>'\n",
      "'Hi,\\nUse the include directive for calling the bean &  call tye methods in the\\nscriptlets part of the jsp.\\nThis will solve the problem.\\n\\nHemant\\n\\n\\n>From: \"Gunaseelan , R.\" <gunaseelan@HOTMAIL.COM>\\n>Reply-To: A mailing list about Java Server Pages specification and\\n>     reference <JSP-INTEREST@java.sun.com>'\n",
      "'> I did that..\\n>\\n>\\n> >From: Wayne Anderson <wayne@pt.com.sg>\\n> >Reply-To: Wayne Anderson <wayne@pt.com.sg>'\n",
      "\"Can anybody advice me some good company doing delopment in WAP.\\nI have to change my job ASAP and I'm looking forward to work in WAP, WML,\\nXML, EJB, Corba in the same priority order. Or can anybody help forward my\\nresume in his/her company. I'm looking for a permanent position.\\nI will really appreciate efforts in this regard\\nUpender\\n\\n\\n>From: Patrick Haggerty <hagg@MINDSPRING.COM>\\n>Reply-To: XML technologies in the Java Platform <XML-INTEREST@java.sun.com>\"\n",
      "\"Tomcat doesn't support URL rewriting in the current release.\\n\\nCasey Kochmer\\nwww.jspinsider.com\\n\\n>From: Anjana M <anjana_m@HOTMAIL.COM>\\n>Reply-To: A mailing list about Java Server Pages specification and\\n>     reference <JSP-INTEREST@java.sun.com>\"\n",
      "'retrieving multiple results is very easy, You just need to use the\\ngetMoreResults function.\\n\\na very simplified code snippet would look like:\\n\\n// get the first result set\\n\\n//logic to do what you want with current result set\\n\\n// Move on to next result set\\nlb_found_rs =   luo_stmt.getMoreResults();\\nlrs_data    =   luo_stmt.getResultSet();\\n\\nCasey Kochmer\\n\\n>From: Jimmi Dyson <JimmiD@ILLYCORP.COM>\\n>Reply-To: A mailing list about Java Server Pages specification and\\n>     reference <JSP-INTEREST@java.sun.com>'\n",
      "'Jai SrimanNarayana\\nThere are 4 messages in this issue.\\n\\nTopics in this digest:\\n\\n1. How sincere we are ...!\\n2. moksham how is it possible?\\n3. Re: A Very Inspiring Song\\n4. Hence the importance of this month\\nFrom: Thara Narasimhan <tnarasimhan@earthlink.net>'\n",
      "'Hi, thanks for the link, but when downloading I got only the jar file ,\\nthere is no examples or pager-taglib.tld, please where are they ?\\nThanks\\n\\n\\n>From: James Klicman <james@JSPTAGS.COM>\\n>Reply-To: A mailing list about Java Server Pages specification and\\n>     reference <JSP-INTEREST@java.sun.com>'\n",
      "'Heh, this sounds like someone else\\'s response to me a while back: \"If you\\'re\\nso smart, why are you here?\"\\n\\nI didn\\'t point out the obvious, that the person who said that was basically\\nsaying, \"This list is for morons only.\"\\nAs one who\\'s interested in JSP, I\\'m on the list. Easy to work out, don\\'t you\\nthink?\\n\\nAs far as why I stay on the list despite so many offtopic or misinformed\\nquestions... well, what can I say? Hope springs eternal.\\n\\n>From: Beth Johnson <beth.jim@NS.SYMPATICO.CA>\\n>Reply-To: A mailing list about Java Server Pages specification and\\n>     reference <JSP-INTEREST@java.sun.com>'\n",
      "'hi,\\nvaishali the thing is that so much of exceptions were thrown while the admin\\nconsole is getting up,otherwise most of the logs generated are of 0kb, i\\nbelieve most of the exceptions thrown in the websphere (what you must be\\ngetting) are of iiop,orb nature hence you need to reinstall your websphere\\nalso let me know taht are you really satrted to put applications on the\\ncontainers and default host,\\nplease let me know fast and even i have a question for\\nyou.\\nthanks\\n\\n>From: Vaishali Joshi <vaishalijoshi@HOTMAIL.COM>\\n>Reply-To: A mailing list about Java Server Pages specification and\\n>     reference <JSP-INTEREST@java.sun.com>'\n",
      "'OK if a class is in a package the directory stryuctur should look like the\\npackage.\\nDirectory structur should be:\\nweb-inf\\npoint classpath to c:\\\\...\\\\classes\\ncompile with:\\njavac com.oreilly.servlet.MultipartRequest.UploadTest.java\\n:\\n\\n\\nNo, you misunderstood my question, UploadTest.java is not in com, but in\\nWEB-INF\\\\classes\\n\\n\\n>From: Nicholas Larsson <nlarsson@HOME.SE>\\n>Reply-To: A mailing list about Java Server Pages specification and\\n>     reference <JSP-INTEREST@java.sun.com>'\n",
      "'What it all boils down to for 90% of situations, is how well you can\\nconfigure your system. I have seen, tests showing apache being god, I have\\nseen tests showing iis being god. The real trick is configuring the system\\nto meet your needs. It wont make a difference if one is faster, if you can\\'t\\nconfigure the system correctly.\\n\\nSo the most important aspect to to stay with the web server you are good at,\\nsince both web servers are acceptable solutions.\\n\\nI acually use both apache and IIS, and think they are both awesome tools.\\nAnd while I have 3 years of experience in IIS I now perfer to use apache,\\njust becuase it nice being able to use the same web server on different\\nplatforms.\\n\\nMy cents on this debate\\n\\nCasey Kochmer\\n\\n>From: \"Doshi, Gunjan\" <gunjan_doshi@MERCK.COM>\\n>Reply-To: A mailing list about Java Server Pages specification and\\n>     reference <JSP-INTEREST@java.sun.com>'\n",
      "'Hi Arvind,\\nWin95/98 keeps a very small memory space for user variable\\nso classpath setting etc is making it go out of space. Increase the memory\\nby right clicking the shortcut, click on memory tab, & increase the Intial\\nEnvironment to something big say 2560 or so & then run it will work.\\n\\nBye,\\nJiger\\n\\nJoin ServerSide-India JUG at http://ServerSideIndia.patelsoftware.com\\n\\n\\n\\n\\n>From: Aravind <aravindan@MCDECOM.NET>\\n>Reply-To: \"A mailing list for discussion about Sun Microsystem\\'s Java\\n>        Servlet API Technology.\" <SERVLET-INTEREST@java.sun.com>'\n",
      "'Use\\nrequest.getHeader(\"user-agent\");\\n\\n\\nfor example a client with internet explorer 5.5 will return\\na user agent of:\\n\\nMozilla/4.0 (compatible; MSIE 5.5; Windows NT 4.0; ZDNetSL)\\n\\n\\nCasey Kochmer\\nwww.jspinsider.com\\n\\n>From: Brad Miley <bradmiley@HOTMAIL.COM>\\n>Reply-To: A mailing list about Java Server Pages specification and\\n>     reference <JSP-INTEREST@java.sun.com>'\n",
      "\"Hi Stephen,\\nI followed your instructions on how to configure visual cafe 4 to run the\\njrun engine, however visual cafe can't load the main class\\ncom.livesoftware.jrun.service.ServiceManager. Do you have an idea of what\\ncould be wrong??\\nThanks in advance,\\nClaire Ryan\\n\\n>From: Scott Stirling <sstirling@MEDIAONE.NET>\\n>Reply-To: A mailing list about Java Server Pages specification and\\n>     reference <JSP-INTEREST@java.sun.com>\"\n",
      "'Thank you Delfi,\\nBut can I access through browser... by\\n\\nhttp://localhost:8080/admin/...\\n\\nPlease do reply me....\\nBye!\\n\\n\\n>From: \"Robuschi (Delfi)\" <r.robuschi@DELFI.IT>\\n>Reply-To: A mailing list about Java Server Pages specification and\\n>     reference <JSP-INTEREST@java.sun.com>'\n",
      "'hi,\\nmy jsp page doesnt do any great things.I wanted to test a code and the\\ntest page doesnt have anything but it gets a value from the previous page or\\nan querystring by request.getParameter(\"number\") and printing something out\\nthat many times using a for loop.\\ni dont know whats wrong.if sometimes i try to save the file with  a\\ndifferent name, then it works. But thats too rare.\\n\\nPlease help,\\nI think something to do with IBM Websphere.\\nthanks.\\n\\n\\n\\n\\n>From: Nathan Revo <nrevo@ICONFITNESS.COM>\\n>Reply-To: A mailing list about Java Server Pages specification and\\n>     reference <JSP-INTEREST@java.sun.com>'\n",
      "'Hi,\\nCreate a new Session and put values of LoginName and password.\\nand use getValue() to get those values.\\n\\nHsession.putValue(\"LoginName\",LoginName);\\nHsession.putValue(\"Password\",Password);\\nString slog= (String)Hsession.getValue(\"LoginName\");\\nString spasswd= (String)Hsession.getValue(\"Password\");\\n\\n\\nHope this helps,\\nRaj\\n\\n\\n>From: sufi malak <sufi_m@HOTMAIL.COM>\\n>Reply-To: A mailing list about Java Server Pages specification and\\n>     reference <JSP-INTEREST@java.sun.com>'\n",
      "\">\\n>\\n> ----- Original Message -----\\n> From: Steve Freeman <steve@m3p.co.uk>\\n> > If nothing else, it's often a pain in the neck to test singleton-based\\n> code.\\n>\\n> Amen.\\n>\\n>\\n> ---------------------------------------------------\\n> Michael Feathers  mfeathers@objectmentor.com\\n> Object Mentor Inc. www.objectmentor.com\\n> XP & OO Training/Mentoring/Development\\n> www.xprogramming.com / www.junit.org\\n> ---------------------------------------------------\\n>\\n>\\n>\\n>\\n> To Post a message, send it to:   extremeprogramming@eGroups.com\\n>\\n> To Unsubscribe, send a blank message to:\\n> extremeprogramming-unsubscribe@eGroups.com\\n>\\n> Ad-free courtesy of objectmentor.com\\n>\\n> Your use of Yahoo! Groups is subject to http://docs.yahoo.com/info/terms/\\n>\\n>\\n\\n\\n\\nYour use of Yahoo! Groups is subject to http://docs.yahoo.com/info/terms/\"\n",
      "'Ok.  So let\\'s call it a role instead of a priv (a role being a set of\\nprivs).  Somehow the work to tie the user making a webserver request to a\\nrole has to be done in order for the javabean to return its boolean\\nresponse:\\n<utils:ifInRole name=\"managers\">\\n<a href=\"managerlink/\">\\nManagerLink\\n</a>\\n</utils:ifInRole>\\n\\nThe javabean might as well be called \"ifUserInRole\".  So, the question is\\nhow are you authenticating universally that the user is in the role.  You\\ncan go to the DB every time that you see this bean, but you pay to do that\\nif the whole site is role based, or you can store the roles (as very small\\nstrings) in the servlet session.\\n\\n\\n>From: Joseph Ottinger <epesh@HOTMAIL.COM>\\n>Reply-To: A mailing list about Java Server Pages specification and\\n>     reference <JSP-INTEREST@java.sun.com>'\n",
      "'i too like Image 2 - coloured circles\\nbest rgds\\ns\\n\\n{}  From: \"Brad Sharek\" <brad@sharek.com>\\n{}  To: \"Vish Mishra\" <VMishra@aol.com>, \"Venk Shukla\" <venk@shukla.net>,\\n\"Sridar A Iyengar\" <siyengar@kpmg.com>, \"Shanker Trivedi\"\\n<shanker.trivedi@sun.com>\\n{}  Subject: 2 finalists for TiEcon 2002 logo -- NEED TO DECIDE\\n{}  Date: Thu, 7 Mar 2002 14:59:24 -0800\\n{}  \\n/_____/\\\\\\n/_____\\\\\\\\ \\\\               Shanker Trivedi\\n/_____\\\\ \\\\\\\\ /              10 Network Circle\\n/_____/ \\\\/ / /             UMPK10-212\\n/_____/ /   \\\\//\\\\            Menlo Park, CA 94025\\n\\\\_____\\\\//\\\\   / /\\n\\\\_____/ / /\\\\ /\\n\\\\_____/ \\\\\\\\ \\\\              Phone: 650-786-8563\\n\\\\_____\\\\ \\\\\\\\               Fax:   650-786-8397\\n\\\\_____\\\\/                E-mail:shanker.trivedi@sun.com'\n",
      "\"Jai SrimanNarayan\\nThere are 4 messages in this issue.\\n\\nTopics in this digest:\\n\\n1. Sri Jeeyar Swamiji's schedule in NJ Aug 9th to Aug 13th\\n2. (unknown)\\n3. Re: (unknown)\\n4. Re: Narayana/Vishnu/Vasudeva/Krishna\\nFrom: chinna jeeyar <acharya27@yahoo.com>\"\n",
      "'Hello Kai,\\njust right click the dos wondow and go to:\\nProperties:-> memeory and increase to 4096... then try.\\nhope works...\\n\\n\\n>From: Kai Hackemesser <kaha@GMX.DE>\\n>Reply-To: A mailing list about Java Server Pages specification and\\n>     reference <JSP-INTEREST@java.sun.com>'\n",
      "'> From:    \"Jim.Hyslop\" <jim.hyslop@leitch.com>\\n> > .... Nothing in the posted code said \\'i\\' was an integer.\\n\\n> this is starting to get OT\\nStarting?!? :-)\\n\\n> but what about\\n> the initial assignment i=0 ?\\n> seems to me that makes i numerical in the widest context.\\nSorry, my fault. By \"integer\" I meant \"an integral type\" as in \"int\",\\n\"short\" or \"long\", not the general \"numeric\" sense of the word.\\n\\nBesides, anyone who writes the nasty increment operators mentioned earlier\\nwould not be above writing a conversion constructor, to implicitly convert\\nfrom \\'int\\'. A class like this, for example would work (for some... shall we\\nsay... unusual definition of \"work\"):\\n\\nclass DontDoThis\\n{\\npublic:\\nDontDoThis operator ++(int); // does one thing\\nDontDoThis & operator ++(); // does something else\\nDontDoThis(int);\\n};'\n",
      "'web-inf\\nBut it does not work.\\n\\n>From: Nicholas Larsson <nlarsson@HOME.SE>\\n>Reply-To: A mailing list about Java Server Pages specification and\\n>     reference <JSP-INTEREST@java.sun.com>'\n",
      "\"I believe that session information will be stored as cookies at the client\\nmachine and won't cause too much load on the server.\\n\\nI think it will be more effecient than doing database calls.\\n\\nSaurabh\\n\\n\\n\\n>From: Vaishali Joshi <vaishalijoshi@HOTMAIL.COM>\\n>Reply-To: A mailing list about Java Server Pages specification and\\n>     reference <JSP-INTEREST@java.sun.com>\"\n",
      "'3. Yes, doGet(HttpServletRequest, HttpServletresponse) and\\ndoPost(HttpServletRequest, HttpServletresponse).\\n\\nMustaq\\n\\n\\n>From: \"Artigas, Ricardo Y.\" <rya@EASYCALL.NET.PH>\\n>Reply-To: A mailing list about Java Server Pages specification and\\n>     reference <JSP-INTEREST@java.sun.com>'\n",
      "'>From: meiyi leong <p9710975@MMU.EDU.MY>\\n>Reply-To: A mailing list about Java Server Pages specification and\\n>     reference <JSP-INTEREST@java.sun.com>'\n",
      "'use JAI api\\n\\nsandarbh\\n\\n>From: Bilmopu <bilmopu@YAHOO.COM>\\n>Reply-To: A mailing list about Java Server Pages specification and\\n>     reference <JSP-INTEREST@java.sun.com>'\n",
      "'Actually, you don\\'t want to make your variables class variables in JSP\\n(within the <%!   %>) nor in a servlet unless you don\\'t mind different\\nclients accessing the same variables and variable data.\\nInstead, declare your variables in the first <% %> block before any if\\n/else, or loop statements and your variables will exist in all following <%\\n%> blocks.\\n\\nEric Dunstan\\n\\n\\n>From: \"Mark G. Franz\" <mgfranz@PE.NET>\\n>Reply-To: A mailing list about Java Server Pages specification and\\n>     reference <JSP-INTEREST@java.sun.com>'\n",
      "'I am using JNDI, to access LDAP server to delete ,modify and add attributes\\n,I have to provide the username and password in the context.\\nThis is the reason I have to forward the password and username from one JSP\\nto another.\\n\\n>From: Artem Babenko <artem@SENDMAIL.RU>\\n>Reply-To: A mailing list about Java Server Pages specification and\\n>     reference <JSP-INTEREST@java.sun.com>'\n",
      "'User-Agent: Mutt/1.2.5i\\nX-OS: FreeBSD <http://www.freebsd.org>\\nX-eGroups-From: GH <grasshacker@over-yonder.net>\\nContent-Type: text/plain; charset=US-ASCII\\nContent-Transfer-Encoding: 7bit'\n",
      "'MultiEdit\\'s really nice: http://www.amcyber.com/ :)\\n\\n(Old ME user from way back. :)\\n\\n\\n>From: \"Hines, Bill\" <bhines@HERSHEYS.COM>\\n>Reply-To: A mailing list about Java Server Pages specification and\\n>     reference <JSP-INTEREST@java.sun.com>'\n",
      "'Hi, thanks for your reply, now when I call a jsp file that start like this :\\n<% @ page import=\"myproject.beans.*\"\\nerrorPage=\"error.jsp\" %>\\n<jsp:useBean id=\"concept\" class=\"ConceptBean\"/>\\n<%\\nConceptBean[] concepts = ConceptBeanrequest.getConceptBeans();\\n%>\\n<html>\\n<head>\\n<title>Untitled Document</title>\\n\\nI got this error :\\n\\n500 Internal Server Error\\nJava Server Page Translation Error\\nError during page parsing:\\ncom.sun.server.http.pagecompile.jsp.JspException: Class: ConceptBean not\\nfound\\n\\nCould you please help me, your help will be appreciated.\\nthanks\\nSufi\\n\\n\\n>From: Shiraz Wasim Zaidi <swzaidi@FLASH.NET>\\n>Reply-To: A mailing list about Java Server Pages specification and\\n>     reference <JSP-INTEREST@java.sun.com>'\n",
      "'Jai SrimanNarayana\\nThere are 2 messages in this issue.\\n\\nTopics in this digest:\\n\\n1. Repeating of Slokas After Sri Swamiji\\n2. Text for Tele-Stortam\\nFrom: Dan Pattangi <danp@uic.edu>'\n",
      "'Hi, I just read the documentation again, from apache site :\\nhttp://jakarta.apache.org/taglibs/doc/jdbc-doc/index.html#escapeSql\\nAnd I changed the sql quer to :\\n\\n<sql:query>\\nselect * from description where name =\\n\\'<sql:escapeSql><%=request.getParameter(\"name\")%></sql:escapeSql>\\'\\n</sql:query>\\nBUT STILL DOES NOT WORK, ALWAYS I get no rows selected.\\n\\n\\n\\n\\n>From: sufi malak <sufi_m@HOTMAIL.COM>\\n>Reply-To: A mailing list about Java Server Pages specification and\\n>     reference <JSP-INTEREST@java.sun.com>'\n",
      "'Excuse my typo... =0\\nOf course I meant... she DOES have feeling for you!  ;)\\n\\nElysia\\n\\n\\n>From: \"Emile Khan\" <emile.khan@avocadoit.com>\\n>Reply-To: <emile.khan@avocadoit.com>'\n",
      "\"> From: <kevinxp@qualitycode.com>\\n> > THE most important lesson I somehow learned as a child was cause and\\n> effect. Consequences. Personal responsibility.\\n> >\\n> That's true personal responsibility is very important. Sometimes children\\n> don't realize that when they do something, they are ultimately responsible\\n> for their actions, whether they get caught or not. That is difference\\n> between\\n> adults and children, adults are capable of determining right from wrong,\\n> and taking responsibility for their actions. The key to management.\\n>\\n\\n\\nTo Post a message, send it to:   extremeprogramming@eGroups.com\\n\\nTo Unsubscribe, send a blank message to: extremeprogramming-unsubscribe@eGroups.com\\n\\nDon't miss XP UNIVERSE, the first US conference on XP and Agile Methods.  see www.xpuniverse.com for details and registration.\\n\\nYour use of Yahoo! Groups is subject to http://docs.yahoo.com/info/terms/\"\n",
      "'Thanks for replying.  But my boss insists that I use array because vector\\ncosts more memory and time.\\n\\n\\n\\n>From: Shawn Zhu <Shawn.Zhu@MEDEM.COM>\\n>Reply-To: A mailing list about Java Server Pages specification and\\n>     reference <JSP-INTEREST@java.sun.com>'\n",
      "'Jai SrimanNarayana\\nThere are 4 messages in this issue.\\n\\nTopics in this digest:\\n\\n1. Re: Digest Number 298\\n2. sai gita prachara samiti, hyderabad/adilabad\\n3. How sincere we are ....!\\n4. How to concentrate?\\nFrom: \"kanth\" <kanth7588@rediff.com>'\n",
      "'When you say served by Tomcat. Do you mean you are also using Tomcat as your\\nHttp web server in addition to it functioning as a JSP container? Or are you\\nusing apache as your web server and Tomcat as the Jsp Container?\\n\\nCasey Kochmer\\n\\n>From: David Castro <thetechwriter@YAHOO.COM>\\n>Reply-To: A mailing list about Java Server Pages specification and\\n>     reference <JSP-INTEREST@java.sun.com>'\n",
      "\"> BGarcia@replaytv.com; cwurzner@carstation.com;\\n> dolores.priegnitz@sun.com; Heysax@aol.com; jdsohn@yahoo.com;\\n> lisakelly4@home.com; pamdoc@msn.com; rgantly@avocadoit.com;\\n> srosenberg@replaytv.com; ted.weber@mindspring.com\\n> Subject: Re: Happy Thanksgiving\\n>\\n>\\n> So who's up for the Hana Relay...\\n>\\n> Lisa\\n>\\n> >From: Bruce Bartlett <Bruce.Bartlett@eng.sun.com>\\n> >Reply-To: Bruce Bartlett <Bruce.Bartlett@eng.sun.com>\\n> >To: ARSYETSO@aol.com, Dolores.Priegnitz@west.sun.com,\\n> >Art.Mitchum@eng.sun.com,        BGarcia@replaytv.com,\\n> >cwurzner@carstation.com,        dolores.priegnitz@sun.com,\\nHeysax@aol.com,\\n> >jdsohn@yahoo.com,        lisakelly4@home.com, pamdoc@msn.com,\\n> >rgantly@avocadoit.com,        srosenberg@replaytv.com,\\n> >ted.weber@mindspring.com\"\n",
      "'Try xml spy is very very good. Ok it is not free but is good if u can get\\none. At the  basic edition if it has one.\\n\\nBye,\\nJiger\\n\\n\\n>From: Danny Ayers <danny@PANLANKA.NET>\\n>Reply-To: XML technologies in the Java Platform <XML-INTEREST@java.sun.com>'\n",
      "'There\\'s that \"gurus\" again, when I\\'ve seen only one active on the list\\nlately (and it ain\\'t me...) -- and where do you WANT them to put their\\nbrains?\\n\\nIf you CREATE a java bean, it will be instantiated based on scope. If you\\nscope it to session, it\\'ll be instantiated once per session. Per page, once\\nhttp://java.sun.com/products/jsp/, which has the white paper for JSP as well\\nas other information (such as tutorials.)\\n\\n>From: Raghu Movva <movvaraghu@HOTMAIL.COM>\\n>Reply-To: A mailing list about Java Server Pages specification and\\n>     reference <JSP-INTEREST@java.sun.com>'\n",
      "\"Jai SrimanNarayan\\nThere are 4 messages in this issue.\\n\\nTopics in this digest:\\n\\n1. Bakthi Nivedana :Spritiual and Philosophical magazine\\n2. Tele-Stotra Patham by HH Jeeyar Swami\\n3. Bakthi Nivedana : Order Online. www.radioramanuja.com/magazine.htm\\n4. want cassets and CD's\\nFrom: karuna purnapu <trimurtika@yahoo.com>\"\n",
      "'It sounds like you have a servlet which is doing response.getWriter() (or\\nresponse.getOutputStream()), then including or forwarding to another servlet\\nwhich does it again and that isn\\'t allowed - you can only get the\\noutputStream once per response.\\n\\n\\n\\n>From: Amar Das <adas@STGEORGECONSULTING.COM>\\n>Reply-To: \"A mailing list for discussion about Sun Microsystem\\'s Java\\n>        Servlet API Technology.\" <SERVLET-INTEREST@java.sun.com>'\n",
      "'hi albert,\\nno you cant deploy EJB in jrun since for\\ndeployment EJB Specified\\ncontainer is required, which jrun do not have ,ou\\nhave to go for application\\nservers such as j2ee , weblogic.\\n\\n\\n>From: Albert <kwachow@NETVIGATOR.COM>\\n>Reply-To: A mailing list about Java Server Pages\\nspecification and\\n>     reference <JSP-INTEREST@java.sun.com>'\n",
      "'You can check out\\n\\nhttp://www.jspinsider.com/articles/jspasp/asp_to_jsp.html\\n\\nI realize the format is in comparing the asp implicit objects to the jsp\\nimplicit objects, But It still is a list of all the JSP implicit objects\\nwith a function/attribute list done in chart format for reference purposes.\\nit might be of help.\\n\\nCasey Kochmer\\nwww.jspinsider.com\\n\\n>From: manish jain <manishj@OBVISION.COM>\\n>Reply-To: A mailing list about Java Server Pages specification and\\n>     reference <JSP-INTEREST@java.sun.com>'\n",
      "\"Why don't you remove the bean from the session once you're done with it:\\n\\n\\n>From: Graham Cruickshanks <grahamc@INRS.CO.UK>\\n>Reply-To: A mailing list about Java Server Pages specification and\\n>     reference <JSP-INTEREST@java.sun.com>\"\n",
      "'Hi Guys\\nThanks for the suggestions, which i tried, but im still getting the same\\nerror. If for example i entered \"it\\'s red\" in the description field.  the\\ncode is shown, i would be greatful for any further comments:\\n\\nThanks\\n\\n\\n//Create SQL query\\nString query = \"INSERT INTO events \" +\\n\"VALUES(null, \" +\\n\"\\'\" + type + \"\\', \" +\\n\"\\'\" + description + \"\\', \" +\\n\"\\'\" + date + \"\\', \" +\\n\"\\'\" + today + \"\\')\";\\n\\n//debug\\ntry {\\nPreparedStatement s = dbCon.prepareStatement(query);\\n}catch(SQLException e) {\\n\\n}\\n\\n>From: Clayton Nash <clayton@IONICOM.CO.UK>\\n>Reply-To: A mailing list about Java Server Pages specification and\\n>     reference <JSP-INTEREST@java.sun.com>'\n",
      "'Priyank, you want Kalpana at 510 682 3851.\\n\\nNaveen, Gaurav, Micky to confirm for Shiv kr./ Zakir show.\\n( May 20th, 7:00pm.,Herbst Theatre, Van Ness, SF )\\nI have got Ramas down.\\n\\nMicky, lemme know if you find somethin on tap dancing.\\n\\nciao,\\n>From: Priyank <priyankdesai@yahoo.com>\\n>Reply-To: zingaris@yahoogroups.com'\n",
      "'Dear arun,\\nI think there is no way to validate it. You may have to make the user enter\\nin a particular format (ie MM/dd/yyyy or dd/mm/yyyy).\\nOr use drop down in the form to selct the day and month.\\nrgds\\nsujith\\n\\n\\n\\n\\n\\n>From: \"Arun M. Thomas\" <arun@IPIN.COM>\\n>Reply-To: A mailing list about Java Server Pages specification and\\n>     reference <JSP-INTEREST@java.sun.com>'\n",
      "'I\\'m using NT. I\\'ve set class path the driver in my NT setting. Do I have to\\ndo it again in NES or Jrun ? If so where do I do it ?\\n\\n>From: \"Cogley, Jonathan\" <Jonathan.Cogley@GIANTEAGLE.COM>\\n>Reply-To: A mailing list about Java Server Pages specification and\\n>     reference <JSP-INTEREST@java.sun.com>'\n",
      "'Hi:\\nWhen you download from the Sun website, open the Servlet API folders and\\ncheck to make sure that all the java files have been compiled into class\\nfiles. If not, then compile them before you start programming any serlets.\\nAlso make sure that your classpath is set correctly.\\nGoodluck and have fun.\\nHappy Holidays!\\nEric\\n\\n\\n>From: Tripat Singh <tripatsingh@HOTMAIL.COM>\\n>Reply-To: \"A mailing list for discussion about Sun Microsystem\\'s Java\\n>        Servlet API Technology.\" <SERVLET-INTEREST@java.sun.com>'\n",
      "'There is 1 message in this issue.\\n\\nTopics in this digest:\\n\\n1. (unknown)\\nFrom: \"Prakash Jain\" <jainp@hotmail.com>'\n",
      "'HI,\\n\\nOpen a dos window and go to <tomcat_home>/bin and type\\n\\ntomcat run\\n\\nIn this way you will run tomcat in the same dos window and will be able to\\nsee the error messages.\\n\\n/Nils\\n\\n\\n>From: seema gupta <seema_a6@HOTMAIL.COM>\\n>Reply-To: A mailing list about Java Server Pages specification and\\n>     reference <JSP-INTEREST@java.sun.com>'\n",
      "'> Look at http://java.sun.com/products/jsp, and read the tutorial, for one\\n> thing.\\n>\\nI have looked at that and what i wanted wasn\\'t there!\\n\\n> There are a few ways to do it, depending on what your needs and desires are.\\n> For example:\\n>\\n> <% car mycar=new car();\\n> car.doSomething(); %>\\n\\nI know how to do this, but where is the above \\'car object located?\\n>\\n> or the more appropriate\\n>\\n> <jsp:useBean id=\"car\" scope=\"request\" type=\"car\" />\\n\\nI dont want to use a bean!\\n>\\n>\\n> >From: Scott Fitzgerald <sfitzgerld@MATHS1.KST.DIT.IE>\\n> >Reply-To: A mailing list about Java Server Pages specification and\\n> >     reference <JSP-INTEREST@java.sun.com>'\n",
      "'well Just to let you know I heard at a CFUG meeting on the west Coast that\\nthe next server to be shipped from allaire is going to be a combination of\\nthe CF server and Jrun that they market Now. I veryfied this info. So well\\nThis is going to consider the relative advantages and disadvantages of both.\\nI am betting on that product.\\n\\n\\n>From: David Wall <dwall@myEastside.com>\\n>Reply-To: David Wall <dwall@myEastside.com>'\n",
      "'Nope no global.jsa files last time I looked.\\n\\nAs a side point, with the release of JSP 1.2 you have filters,events\\nand such. This will mean you can now effectivily perform\\nany global.asa feature within a container that supports JSP 1.2\\n\\nI haven\\'t played with this feature much yet and so I am not sure how far\\nalong Tomcat 4.0 is in supporting this. However, if you do want global.asa\\nfunctionality in Tomcat then Tomcat 4 is your best bet.\\n\\nCasey Kochmer\\nPresident Amberjack Software LLC\\nwww.jspinsider.com\\n\\n>From: \"A. C.\" <darklord@LIBERO.IT>\\n>Reply-To: A mailing list about Java Server Pages specification and\\n>     reference <JSP-INTEREST@java.sun.com>'\n",
      "'Well, obviously it cannot find the \"test.jsp\" file. Check if this file is\\nin the correct subdirectory or if the class path is correctly set up and all\\nthe relevant files can be found. Also, check the configuration files in\\nTomcat/Apache (whatever you are using).\\n\\nPanos\\n\\n\\n>From: Risto Reinpold <Risto.Reinpold@MICROLINK.EE>\\n>Reply-To: A mailing list about Java Server Pages specification and\\n>     reference <JSP-INTEREST@java.sun.com>'\n",
      "'class CalendarDateDemo {\\npublic static void main(String args[]) {\\nyear = calendar.get(Calendar.YEAR);\\nmonth = calendar.get(Calendar.MONTH)+1;\\nday   = calendar.get(Calendar.DAY_OF_MONTH);\\n}\\n}\\n\\nThis will display the moth day and year.\\nYou can use the propertiy file concept and save the Time\\nzone there.\\nRead the appropriate time zone and get the date.\\nBy default it will pick you current time zone.\\n\\nSee the documentation for above used API and you can get the\\nTIME ZONE too.\\n\\nRajendra Pal Singh\\nIncredible Solutions Inc.\\n\\n>From: Andrés Wagner <awagner@MAC.COM>\\n>Reply-To: \"A mailing list for discussion about Sun\\nMicrosystem\\'s Java\\n>        Servlet API Technology.\"\\n<SERVLET-INTEREST@java.sun.com>'\n",
      "'try the forward element:\\n<jsp:forward page=\"foobar.jsp\" />\\n\\nregads, Stefan Bushev\\n\\n>From: Ibrahim <iakenku@YAHOO.COM>\\n>Reply-To: A mailing list about Java Server Pages specification and\\n>     reference <JSP-INTEREST@java.sun.com>'\n",
      "'You probably need to have your Oracle timeout taken out.  When you bring up\\nthe server, the server grabs 50 connections.  When the connections go\\nunused\\nin the pool they will be timing out on you.  There is probably some work\\naround for this with your app server.  Probably you should review doc for\\nyour app server with regard to Oracle and connection pooling.\\n\\n\\n>From: \"Aggarwal, Pawan\" <pawan.aggarwal@HPSGLOBAL.COM>\\n>Reply-To: A mailing list about Java Server Pages specification and\\n>     reference <JSP-INTEREST@java.sun.com>'\n",
      "'that launcher only works on the windows platform\\n\\n\\n>From: Pete Ehli <peteehli@TELEPORT.COM>\\n>Reply-To: A mailing list about Java Server Pages specification and\\n>     reference <JSP-INTEREST@java.sun.com>'\n",
      "'<meta http-equiv=\"Expires\" content=\"0\">\\n\\n\\n>From: \"Narayanan, Hariharan\" <hariharan.narayanan@EDS.COM>\\n>Reply-To: A mailing list about Java Server Pages specification and\\n>     reference <JSP-INTEREST@java.sun.com>'\n",
      "\"There are several really good JDBC driver which will run around 500.00\\n\\nThis cost is minimal compared to learning costs of using ASP if you don't\\nalready know asp. So if you have experience in Java but none in ASP then\\nfactor that into your consideration.\\n\\nIf you already know ASP then this will not be an issue.\\n\\nBut if you want to use JSP then there is a issue that is driving this. If it\\nis related to portability, code reuse or leveraging existing skills. Then\\n500.00 is a small price to pay relative to amount of time or effort you will\\nlose to these other issues.\\n\\n\\nCasey Kochmer\\n\\n>From: Taku Sugimoto <PED05327@NIFTY.NE.JP>\\n>Reply-To: A mailing list about Java Server Pages specification and\\n>     reference <JSP-INTEREST@java.sun.com>\"\n",
      "'Maheshji:\\n\\nI am finally moving to India & we are looking for a replacement for the\\nposition of Ex. Director.  Venk was going to send and ad. for the India\\nWest.  If you have someone in view you could help by telling Venk.\\n\\nYou have done so much for the FFE and as we moved together on this road we\\nalso built such a good chemistry between us that I am hoping we will keep\\nin\\ntouch.  Come & stay with us in Jaipur. This is my permanent e mail address.\\nHave an enjoyable trip to Mexico.\\n\\nRegards.\\n\\nBLJ\\n\\n\\n>From: \"Mahesh Nagarajaiah\" <mahesh@infobaseusa.com>\\n>Reply-To: <mahesh@infobaseusa.com>'\n",
      "'sven,\\n\\nI have already added c:\\\\jdk1.3\\\\lib\\\\tools.jar into my classpath, is that\\nright for this?\\nthanks\\n\\n\\n>From: \"Sven van \\'t Veer\" <sven@vip.br>\\n>Reply-To: sven@vip.br'\n",
      "'this is a good one for beginners too.\\n\\nInstant Java Server Pages\\n\\nhttp://www.amazon.com/exec/obidos/ASIN/0072126019/qid=964109490/sr=1-1/002-4\\n204792-6811260\\n\\n\\n\\nlou\\n\\n> From: Sicaud Patrice <sicaudp@WELLSFARGO.COM>\\n> Reply-To: A mailing list about Java Server Pages specification and reference\\n> <JSP-INTEREST@java.sun.com>'\n",
      "'> > > >\\n> > > > > <%! declares variable at class level while <% declares variable at\\n> > > service\\n> > > > > method level.  Therefore, <%! variables are shared by all clients\\n> > > > accessing\\n> > > > > page and need to be made thread safe ect, but <% variables will\\nonly\\n> > be\\n> > > > > access in the scope of a single request.\\n> > > > >\\n> > > > >\\n> > > > > >From: Ashish Bhatia <AshishB@NIIT.COM>\\n> > > > > >Reply-To: A mailing list about Java Server Pages specification\\nand\\n> > > > > >     reference <JSP-INTEREST@java.sun.com>'\n",
      "'Hi mark,\\nhappy new year, sorry for not answering you before but i worked a lot. So\\nhow is your life ? And Web on phone, please give me some news and say hello\\nand thank you to every body (I\\'ve lost their mail).\\nsee you soon,*\\nmarie\\n\\n\\n>From: \"mark tracy\" <mjtracy@ix.netcom.com>\\n>Reply-To: \"mark tracy\" <mjtracy@acm.org>'\n",
      "'You have already included the two main jar files needed.Check out if you\\nneed to add these in the classpath of iPlanet.\\nAlso check if you really should put your JSP\\'s in docs directory.\\n\\nHowever if nothing works out,copy your servlet.jar in a separate\\ndirectory ,unjar it and point the classpath to GenericServlet.jar\\n\\n\\n>From: \"Matthes, Detlev\" <Detlev.Matthes@TELEKOM.DE>\\n>Reply-To: A mailing list about Java Server Pages specification and\\n>     reference <JSP-INTEREST@java.sun.com>'\n",
      "\"Jai SrimanNarayana\\nThere are 3 messages in this issue.\\n\\nTopics in this digest:\\n\\n1. Re: Nava Rathri Celebrations\\n2. Re: Manavala Maha Munigal\\n3. Live on Oct 27th: 10AM CST HH Sri Sri ChinnaJeeyar Swami's\\nDiscourse on Upanisads.\\nFrom: Pattangi <danp@uic.edu>\"\n",
      "'Thank you for your reply,\\nBut I am using two products, one is jsp from jspsmart for uploading files,\\nand for sending emailto the admin , I am using a servlet from\\ncoolservlets.com,\\nThanks\\n\\n\\n>From: christopher brown <dev@REFLEXE.FR>\\n>Reply-To: A mailing list about Java Server Pages specification and\\n>     reference <JSP-INTEREST@java.sun.com>'\n",
      "'go to the frame header right click gointo properties and then increase\\nbuffer size u will be able to scroll across ur errors.\\nmandeep\\n\\n\\n>From: B R Nair <b.r.nair@VSNL.COM>\\n>Reply-To: A mailing list about Java Server Pages specification and\\n>     reference <JSP-INTEREST@java.sun.com>'\n",
      "'hi albert,\\nno you cant deploy EJB in jrun since for deployment EJB Specified\\ncontainer is required, which jrun do not have ,ou have to go for application\\nservers such as j2ee , weblogic.\\n\\n\\n>From: Albert <kwachow@NETVIGATOR.COM>\\n>Reply-To: A mailing list about Java Server Pages specification and\\n>     reference <JSP-INTEREST@java.sun.com>'\n",
      "'Hello ,\\nIt gives the following error when i try\\n\\nclass oracle.jdbc.driver.OracleDriver not found.\\n\\nIts not finding the driver .Whats the problem\\nsince Ive include the classess111.zip in the classpath\\nand the oci8jdbc.dll in  the path settings\\n\\nThere is no need of DSN here right?\\n\\nRegards\\nsanjay\\n\\n>From: N Hari Babu <nhari.babu@IN.VELOCIENT.COM>\\n>Reply-To: A mailing list about Java Server Pages specification and\\n>     reference <JSP-INTEREST@java.sun.com>'\n",
      "'Did you configure the tomcat-apache file properly? And have you configured\\nthe httpd.conf file (in the apache/conf dir) to include the newly configured\\ntomcat-apache file. I have a new tomcat-apache file (I call it\\ntomcat-apache-jsp.conf) where I have added the lines\\n\\nAddType text/xml .xml\\nAddHandler jserv-servlet .xml\\n\\nand everything works fine. I do not know what exactly the problem is but I\\nhope this helps.\\n\\n\\n>From: Ed Swartz <ed.swartz@SANDYPONDCONSULTING.COM>\\n>Reply-To: A mailing list about Java Server Pages specification and\\n>     reference <JSP-INTEREST@java.sun.com>'\n",
      "'At the risk of incurring the wrath of all of those on the list who hate\\nhaving the obvious pointed out...\\n\\nYou should read the error message. :) You need to reinstall the ODBC\\ncomponents.\\n\\n>From: Roland Dong <RB-Dong@WIU.EDU>\\n>Reply-To: A mailing list about Java Server Pages specification and\\n>     reference <JSP-INTEREST@java.sun.com>'\n",
      "'Hi Mohan,\\nWhere do u keep the jsp files in the jswdk and also\\nthe bean classes,I am\\nusing Java Web Server which works fine but would\\nlike to know\\nSanjay\\n\\n\\n>From: Mohan Nai <javalistm@YAHOO.COM>\\n>Reply-To: A mailing list about Java Server Pages\\nspecification and\\n>     reference <JSP-INTEREST@java.sun.com>'\n",
      "'Hi, here is a small script in javascript, it will do what are you looking\\nfor.\\n\\nStep 1.\\nPut the following script in the head of your page.\\n\\n<script>\\nfunction printWindow(){\\nbV = parseInt(navigator.appVersion)\\nif (bV >= 4) window.print()\\n}\\n</script>\\n\\nStep 2.\\nPut the following in the body of your page.\\n<a href=\"javascript:printWindow()\">Print This Page</a>\\n\\nGood luck\\nSufi\\n\\n>From: \"Agarwal, Shekhar (MED, TCS America)\" <Shekhar.Agarwal@MED.GE.COM>\\n>Reply-To: A mailing list about Java Server Pages specification and\\n>     reference <JSP-INTEREST@java.sun.com>'\n",
      "'>\\n>\\n>From: Glen B. Alleman <galleman@niwotridge.com>\\n>>I\\' d like to add that a simple pencil\\n>>and paper Markov queuing model using either closed form equations\\n>>or even an algebraic open form\\n>>estimates is the foundation of good performance analysis in the process\\n>>control and networking business. There are many problems in the computer\\n>>realm that can be \"started\" with pencil and paper prototype.\\n>\\n>I don\\'t disagree, but I wouldn\\'t call it a prototype either.  I would call\\n>that analysis, mathematical modeling, perhaps even simulation, but not a\\n>prototype.\\n>\\n>Don\\n\\n\\nTo Post a message, send it to:   extremeprogramming@eGroups.com\\n\\nTo Unsubscribe, send a blank message to: extremeprogramming-unsubscribe@eGroups.com\\n\\nDon\\'t miss XP UNIVERSE, the first US conference on XP and Agile Methods.  see www.xpuniverse.com for details and registration.\\n\\nYour use of Yahoo! Groups is subject to http://docs.yahoo.com/info/terms/'\n",
      "'pager-demo.jsp  :\\n\\n<%@ page session=\"false\" %>\\n<%@ taglib uri= \"/WEB-INF/tlds/pager-taglib.tld\"  prefix=\"pg\" %>\\n<html>\\n<head>\\n<title>Pager Tag Library Demo</title>\\n<%\\n........\\n\\nSTILL DOES NOT WORK, ERROR :\\nA Servlet Exception Has Occurred\\nException Report:\\norg.apache.jasper.JasperException: Unable to compile class for JSP\\n\\ntomcat\\\\webapps\\\\google\\\\WEB-INF\\\\lib\\\\pager-taglib.jar\\ntomcat\\\\webapps\\\\google\\\\WEB-INF\\\\tlds\\\\pager-taglib.tld\\ntomcat\\\\webapps\\\\google\\\\WEB-INF\\\\web.xml\\n\\n\\n\\n>From: \"Karau, Joe\" <Joe.Karau@KINGLAND.COM>\\n>Reply-To: A mailing list about Java Server Pages specification and\\n>     reference <JSP-INTEREST@java.sun.com>'\n",
      "\"Yeah, it seems like Sun's listserv software is spooling a lot of email back\\nout, so we're getting duplicates. Might be hotmail; I don't know. I'm\\ncertainly not resubmitting the same email again, nor am I responding to the\\nsame emails. :)\\n\\n\\n>From: sandarbh <sandarbh@HOTMAIL.COM>\\n>Reply-To: A mailing list about Java Server Pages specification and\\n>     reference <JSP-INTEREST@java.sun.com>\"\n",
      "'> > > > Depends on which Web server r u using to\\ndeploy the JSP\\n> > > > Sanjay\\n> > > >\\n> > > >\\n> > > > >From: Paras Sharma <paras_sharma@USA.NET>\\n> > > > >Reply-To: A mailing list about Java Server\\nPages specification and\\n> > > > >     reference <JSP-INTEREST@java.sun.com>'\n",
      "\"XML has huge advantages in that XML allows you to specify your data in ways\\nthat make sense for your data. Instead of <td>9053</td>, you can have\\n<streetnumber>9053</streetnumber>, for example, and you now know that you\\ncan't use that 9053 for, say, the phone number.\\n\\nI'm using XML to preserve structured data, running it through a\\ntransformation as needed to translate it into a presentation form. See\\nhttp://epesh.com/transformtags.jsp and http://epesh.com/changelog.jsp for\\nexamples and explanation (and a mechanism to do it with, for that matter.)\\n\\n\\n>From: Daniel Lynn <waylund@FAST.NET>\\n>Reply-To: A mailing list about Java Server Pages specification and\\n>     reference <JSP-INTEREST@java.sun.com>\"\n",
      "\"This is off-topic for a JSP list. This has two primary areas of concern:\\nJDBC and core Java: JDBC because you're retrieving a date from a database\\n(as a string, which is incorrect) and core Java because you're comparing two\\nDate objects.\\n\\nHowever, because Alan has put me in a good mood by asking a question and\\nthen requesting that I not answer...\\n\\nYou have a few solutions. One is to retrieve a timestamp from the DB instead\\nof a string, but this only works if it's stored as a date. Another solution\\nis to parse the string into a Date (via java.text.DateFormat) and compare\\nthe resulting objects that way. I'm sure other original minds can find more.\\n\\n\\n>From: ems vasudevan <vasu_ems@YAHOO.COM>\\n>Reply-To: A mailing list about Java Server Pages specification and\\n>     reference <JSP-INTEREST@java.sun.com>\"\n",
      "'this is getting confusing if the servlet is displaying session id then it\\nshould not be browser specific as servlet runs at the server side and not at\\nclient side, It should give seperate id irrespective of browser\\nsandarbh\\n\\n>From: \"Nimmons, Buster\" <bustern@SBEC.COM>\\n>Reply-To: A mailing list about Java Server Pages specification and\\n>     reference <JSP-INTEREST@java.sun.com>'\n",
      "'Change the type of the method. Do it String.\\nFor example\\n\\n\\n>From: Hariharan N <hariharan_n@TRIGENT.COM>\\n>Reply-To: A mailing list about Java Server Pages specification and\\n>     reference <JSP-INTEREST@java.sun.com>'\n",
      "\"It's easier to use a tag than it is to write a scriptlet, anyway. Tags for\\nsending email are readily available: see http://jsptags.com for a set (it's\\nnot responding for me right now, but hey!), Sourceforge has the jsptags\\nproject (which I'm part of) which has one, and I'm sure there are more.\\n\\n\\n>From: Hung Yee <yeeh@WEBVISION.COM>\\n>Reply-To: A mailing list about Java Server Pages specification and\\n>     reference <JSP-INTEREST@java.sun.com>\"\n",
      "'Priya Bhagawadbandhuvullara,\\nI am enclosing the most valuable for our  life now and thereafter for ever, i.e. the beautiful Tiruvadigal of Sri Sri Sri Tridandi Srimannarayana Ramanuja Chinna Jeeyar Swamiji.  If this is not included during the retransmission to all the subscribers of Yahoo groups you can receive the same individually if given your email addresses.\\n\\nJAISHRIMANNARAYANA\\n\\nSARVAPARADHAMULATO\\n\\nRAMAKRISHNA RAMANUJA DASAN\\n\\n\\n[Non-text portions of this message have been removed]\\n\\nDigest Number 291\\n\\n\\nJai SrimanNarayana\\nThere are 2 messages in this issue.\\n\\nTopics in this digest:\\n\\n1. New Year Mangalasasanams - 2002\\n2. HEARTY  GREETINGS and  BEST WISHES FOR A VERY PLEASURFUL, PROSPEROUS AND A VERY VERY HAPPY NEW YEAR 2002 TO U ALL\\nFrom: KANAKARAO CHINTAPALLI <kanakaraoc@yahoo.com>'\n",
      "'Angela if you visit my site, I recently wrote up a long description of the\\nsession object which will be of help to you.\\n\\nwww.jspinsider.com\\n\\nHope this helps\\nCasey Kochmer\\n\\n\\n\\n>From: Angela Chow <amlchow@YAHOO.COM>\\n>Reply-To: A mailing list about Java Server Pages specification and\\n>     reference <JSP-INTEREST@java.sun.com>'\n",
      "\"Hi Rico,\\nCould you send the URL to get this tool. I'm doing something similar to\\nthis.\\nUoender\\n\\n\\n>From: Enrico Lelina <elelina@STC.COM>\\n>Reply-To: XML technologies in the Java Platform <XML-INTEREST@java.sun.com>\"\n",
      "\"This is due to the fact explorer and netscape recognize mime types and act\\naccordingly. If a broswer doesn't recognize a mime type it will then prompt\\nyou to treat it as a file. For both good and bad. explorer is tightly\\nintegrated with other MS products and will usually open up a excel or word\\nin a sub window. Since this behavior can be also consider to be good, I dont\\nlike to undo it. Instead, I approach the problem froma different angle. You\\ncan set the \\n\\nCasey\\nwww.jspinsider.com\\n\\n\\n>From: sridhar r <sreedhar_ram@YAHOO.COM>\\n>Reply-To: A mailing list about Java Server Pages specification and\\n>     reference <JSP-INTEREST@java.sun.com>\"\n",
      "'If you want to forward control to another servlet then:\\ngetServletConfig().getServletContext().getRequestDispatcher(\"/servletpath\").forward(req,\\nHope this helps.                        }\\n\\n\\n>From: Alarcon Fabio <falarcon@ESSALUD.SLD.PE>\\n>Reply-To: A mailing list about Java Server Pages specification and\\n>     reference <JSP-INTEREST@java.sun.com>'\n",
      "'Jai SrimanNarayana\\nThere are 7 messages in this issue.\\n\\nTopics in this digest:\\n\\n1. Fwd: FW: Digest Number 303\\n2. (unknown)\\n3. Goda and Krishna vigraha\\n4. Spiritual [questions]\\n5. pooja vidhan\\n6. meaning\\n7. How sincere we are ...\\nFrom: \"murali_chris\" <murali_chris@hotmail.com>'\n",
      "'U r using many quotes in side a href attribute only a starting and ending\\nquote have to be used that gives you the problem.\\n\\n\\n>From: subramanian Athimoolam <athimani@HOTMAIL.COM>\\n>Reply-To: A mailing list about Java Server Pages specification and\\n>     reference <JSP-INTEREST@java.sun.com>'\n",
      "'What exactly are you trying to do? Do you need to remove objects from the\\nsession after use, if so, then:\\n\\n>From: Travis Reeder <travis@XABRE.COM>\\n>Reply-To: A mailing list about Java Server Pages specification and\\n>     reference <JSP-INTEREST@java.sun.com>'\n",
      "'This isn\\'t \"kinda\" offtopic, it\\'s WAY offtopic. And you know it, too,\\nbecause you say it\\'s related to applets and not JSP.\\n\\nHowever, you\\'re in luck: LiveConnect allows you to run Javascript from Java.\\nLook it up on Netscape:\\nhttp://developer.netscape.com/docs/manuals/js/client/jsguide/lc.htm\\n\\n\\n>From: JYOTHI BADE <jbade@EULER.WEBSCOPE3D.COM>\\n>Reply-To: A mailing list about Java Server Pages specification and\\n>     reference <JSP-INTEREST@java.sun.com>'\n",
      "'As a quick side note:\\nThe method William states here is the only way to 100% bust the IE 5+ cache.\\nHopefully IE 6.0 will pay more attention to the meta tags ;)\\n\\nCasey\\n\\n>From: \"Ortiz, William J\" <William.J.Ortiz@USA.XEROX.COM>\\n>Reply-To: A mailing list about Java Server Pages specification and\\n>     reference <JSP-INTEREST@java.sun.com>'\n",
      "'There is 1 message in this issue.\\n\\nTopics in this digest:\\n\\n1. Urgent\\nFrom: \"Prakash Jain\" <jainp@hotmail.com>'\n",
      "'I would recommend you build a stored procedure which accesses the view and\\nin the stored procedure build your select statement to return the dataset I\\nthe order you desire. This is what I do in my project using a Sybase\\ndatabase.\\n\\nIf you what to be able to change the sort order on the fly in the stored\\nprocedure, it gets a bit tricky, BUt you can still do it.\\n\\nStored procedures would be faster, are easy to manage and if your change\\nmanagement has difficulty accepting stored procedures, then I would say your\\nchange management crew has some serious misunderstandings on how to properly\\nbuild a distributed web application.\\n\\nCasey Kochmer\\nwww.jspinsider.com\\n\\n>From: Dan Lopez <dan_lopez00@YAHOO.COM>\\n>Reply-To: A mailing list about Java Server Pages specification and\\n>     reference <JSP-INTEREST@java.sun.com>'\n",
      "'You must have your files under your classes subdirectory in WEB-INF.\\nFor\\nexample if you have a directory (lets say myDirectory) where you have\\nall\\nyour .jsp .html etc files then all the class files must be inside the\\nmyDirectory/WEB-INF/classes. In your case it must be something like:\\nmyDirectory/WEB-INF/classes/dates/JspCalendar. As you can see the packet\\nalso goes into the classes subdirectory.\\nAlso make sure that all the classpaths are configured properly.\\nHope this helps.\\n\\nPanos\\n\\n\\n>From: \"YI,LI (HP-USA,ex1)\" <li_yi@HP.COM>\\n>Reply-To: A mailing list about Java Server Pages specification and\\n>     reference <JSP-INTEREST@java.sun.com>'\n",
      "'Thanks. But how can I refer to doc2Body.jsp in onLoad=\"...\"?\\n\\n\\n\\n>From: Tarik Makota <makota-tarik@WORLDNET.ATT.NET>\\n>Reply-To: A mailing list about Java Server Pages specification and\\n>     reference <JSP-INTEREST@java.sun.com>'\n",
      "'<meta http-equiv=\"Expires\" \\n>From: \"Narayanan, Hariharan\" <hariharan.narayanan@EDS.COM>\\n>Reply-To: A mailing list about Java Server Pages specification and\\n>     reference <JSP-INTEREST@java.sun.com>'\n",
      "'>go to the frame header right click gointo properties and then increase\\n>buffer size u will be able to scroll across ur errors.\\n>mandeep\\n>\\n>\\n>>From: B R Nair <b.r.nair@VSNL.COM>\\n>>Reply-To: A mailing list about Java Server Pages specification and\\n>>     reference <JSP-INTEREST@java.sun.com>'\n",
      "'Hi,\\n\\ntry setting up Tomcat with JBuilder.\\nThis might help.\\n\\nhttp://www.sys-con.com/jbuilder/archives/2%2D3/carson%5Fchan/index.html\\n\\nNorbert\\n\\n\\n>From: gaurav gehlot <gaurav_gehlot@HOTMAIL.COM>\\n>Reply-To: A mailing list about Java Server Pages specification and\\n>     reference <JSP-INTEREST@java.sun.com>'\n",
      "'Do it via Interfaces:\\nMake an interface that describes the methods of CorbaConnection\\nCall it CorbaInterface_A.\\nhave CorbaConnection implement CorbaInterface_A\\nNext say:\\nCorbaInterface_A corbacon  = con.get();\\n\\nThis is how true Object Oriented Programming Works.\\n\\nEric R. Dunstan\\nMay 30, 2000\\n\\n\\n>From: Jyotsna Bharadwaj <j_bharadwaj@HOTMAIL.COM>\\n>Reply-To: A mailing list about Java Server Pages specification and\\n>     reference <JSP-INTEREST@java.sun.com>'\n",
      "'Well, regarding to the three solutions proposed. It depends what you are\\nlooking for. If speed is the main issue then I would go for the second one,\\notherwise, if clarity is the main issue I would go for the third one.\\n\\n\\n>From: Manne Fagerlind <manne.fagerlind@ICONMEDIALAB.SE>\\n>Reply-To: A mailing list about Java Server Pages specification and\\n>     reference <JSP-INTEREST@java.sun.com>'\n",
      "'There is not tech reason why you would have to use the tag rather than\\ncalling out new instance directly. Your employer may have a preference\\nthough.\\n\\n\\n>From: Gunaseelan Nagarajan <jsp_naga@YAHOO.COM>\\n>Reply-To: A mailing list about Java Server Pages specification and\\n>     reference <JSP-INTEREST@java.sun.com>'\n",
      "'> Please tell me this is a joke... and if it\\'s not, please let the entire\\nlist\\n> know which site this is, so we can avoid it.\\n>\\n> 1) Deciding that JSP and JSP alone is all you\\'ll use is typically a Bad\\n> Idea. The existence of JSP implies an array of resources. Use them. (And\\n> yes, I\\'ve made this mistake myself.)\\n>\\n> 2) Access is a stupid, stupid, stupid idea for any kind of reliable\\n> database. In addition, the JDBC drivers for it tend to.. um... suck.\\n>\\n> You should really look at using J2EE the way it\\'s meant to be used. This\\n> kind of \"I\\'ll port straight from ASP!\" approach gives JSP - and you - a\\nbad\\n> reputation, undeservedly.\\n>\\n> >From: Ruaidhrí Fernandes <ruaidhri_fernandes@YAHOO.COM>\\n> >Reply-To: A mailing list about Java Server Pages specification and\\n> >     reference <JSP-INTEREST@java.sun.com>'\n",
      "'Comments: cc: wqin@WORLDSITES.NET\\nTo: JSP-INTEREST@www.javasoft.com\\n\\nyes, you need a web server to host the jsp files. try javawebserver\\n\\n\\n>From: Wei Qin <wqin@WORLDSITES.NET>\\n>Reply-To: A mailing list about Java Server Pages specification and\\n>     reference <JSP-INTEREST@java.sun.com>'\n",
      "'Jai SrimanNarayana\\nThere is 1 message in this issue.\\n\\nTopics in this digest:\\n\\n1. Re: we in america\\nFrom: chinna jeeyar <acharya27@yahoo.com>'\n",
      "'Somewhere in the east cost US.\\nI will appreciate ur help.\\nUpender\\n\\n\\n>From: Sheikh Sajjad Rashid <ssr@SYNEGORIE.COM>\\n>Reply-To: XML technologies in the Java Platform <XML-INTEREST@java.sun.com>'\n",
      "'Hi,\\n\\nwhbich web server r u using??\\n\\n>From: Wei Qin <wqin@WORLDSITES.NET>\\n>Reply-To: A mailing list about Java Server Pages specification and\\n>     reference <JSP-INTEREST@java.sun.com>'\n",
      "'>\\n>Susan,\\n>\\n>I am still expecting a letter regarding the number of options I hold as\\nof\\n>31st Dec 2001, from the company. I would appreciate if you could please\\nlet\\n>me know when can I get it.\\n>\\n>thanks\\n>\\n>Vivek.\\n>\\n>\\n> >From: \"VivekMundhra\" <vivekmundhra@hotmail.com>\\n> >Reply-To: \"VivekMundhra\" <vivekmundhra@hotmail.com>'\n",
      "\"Hi!\\n\\nHere they are, hope it'll help:\\n\\nwww3.org/XML/\\nwww.chez.com/xml/\\nwww.ucc.ie/xml/\\nnwalsh.com/sgml/index.html\\nwww3.org/TR/REC-smil\\nwww3.org/TR/REC-MathML\\nwww.venus.co.uk/omf/\\n\\n\\ncheers,\\nk.k\\n\\n\\n>From: Anthony Mak <tony@LIS.CO.JP>\\n>Reply-To: A mailing list about Java Server Pages specification and\\n>     reference <JSP-INTEREST@java.sun.com>\"\n",
      "'HI I do something similiar where I offer the ability for the user\\nto download a html report down to disk.\\n\\nThe simplified code looks like as the following:\\n( Note: I am using JavaBeans to produce the actual data)\\nThe <%@ page buffer=\"256k\"\\nautoFlush=\"true\"\\nimport=\"Felix.*\"\\n<%      // clear all output to client browser.\\n// Get my report and process it\\nWeb_Report DownloadBean = new\\nWeb_Report(request.getParameter(\"hd_storedprocedure\"));\\nJsp_Html   lbean_html   = new Jsp_Html();\\nDownloadBean = lbean_html.downloadReport(DownloadBean);\\n\\n//write to the output buffer the report %>\\n\\nHope this helps\\nCasey\\nwww.jspinsider.com\\n\\n>From: hua ge <hge88@HOTMAIL.COM>\\n>Reply-To: A mailing list about Java Server Pages specification and\\n>     reference <JSP-INTEREST@java.sun.com>'\n",
      "'*sigh* This again.\\n\\nI think you\\'re being overly sensitive on someone else\\'s behalf. I didn\\'t say\\nhe was a moron. Maybe I should have, but I was giving him the benefit of the\\ndoubt. If you read what I said, you\\'ll see that I indicated that he didn\\'t\\nwant to have a bad reputation undeservedly. If you can figure out how to\\nread between the lines, and back off from your apparently-chosen stance of\\n\"Everybody\\'s so INSULTING!\", you\\'d see that I was giving him the benefit of\\nthe doubt.\\n\\n>From: King Maurice <maurice@ALLTECHNEEDS.COM>\\n>Reply-To: A mailing list about Java Server Pages specification and\\n>     reference <JSP-INTEREST@java.sun.com>'\n",
      "'Hello Syamala,\\nIn Java Web Server you have to place the JSP in the public_html directory\\nNo other settings r required\\nSanjay\\n\\n\\n>From: Syamala kotamraju <syamalak@ELECTRONMAIL.COM>\\n>Reply-To: A mailing list about Java Server Pages specification and\\n>     reference <JSP-INTEREST@java.sun.com>'\n",
      "'CORRECTION!\\n\\nI forgot the \\'where\\' clause.\\nThe code should be:\\n\\n.\\n.\\n.\\nif (last_productname != null)\\n{\\nstrSQL += \" where productname = \\'\" + last_productname + \"\\'\";\\n}\\n\\n\\n\\n\\n>From: Lee Collins <spacelyx@HOTMAIL.COM>\\n>Reply-To: A mailing list about Java Server Pages specification and\\n>     reference <JSP-INTEREST@java.sun.com>'\n",
      "\"I'm good for anywhere or time.\\n\\ndb\\n\\n> From: Michael McColl <mccoll@travelinsider.com>\\n>\\n> You're the only one with a geographically convenient woman, right\\n> Pel?  I'd lean towards doing just the 4 of us, but will submit to the\\n> popular will.\\n>\\n> M\\n>\\n>\\n>> In. SF location, downtown. Not expensive. Men only, or women too?\\n>>\\n>> \\n>> From: Michael McColl <mccoll@travelinsider.com>\\n>>\\n>> Guys -- Pel and I theorized that we might all get together for dinner\\n>> this Monday night.  I leave for LA on Wednesday, so this is really\\n>> the only night that might work for me.  Ron requests that we do it\\n>> after 8pm, so he can join us.  What's the word, boys?  You in?\\n>>\\n>> Mike\\n\\nFREE Personalized Email at Mail.com\\nSign up at http://www.mail.com/?sr=signup\"\n",
      "'shall I? I think if *I* set it up, people wouldn\\'t be able to disassociate\\nwhatever emotion they have about me from the list, so I\\'d be a liability as\\na list owner, unless enough people think that\\'d be an advantage. (\"Scare off\\nthe fearful,\" I suppose, although I\\'d never be afraid of someone who\\nactually stayed on topic, nor do I understand all the heat I seem to\\ngenerate.)\\n\\nOpinions of those who would join?\\n\\n\\n>From: James Strachan <james@METASTUFF.COM>\\n>Reply-To: A mailing list about Java Server Pages specification and\\n>     reference <JSP-INTEREST@java.sun.com>'\n",
      "'Your are missing some entry in Jrun .\\nCheck out the configurations in Admin and Default Server.\\n\\n\\n>From: dion <d10n.jsp@mailandnews.com>\\n>Reply-To: d10n.jsp@mailandnews.com'\n",
      "\">From: Andrew Hunt <andy@toolshed.com>\\n\\n>Many of the project management failures that I've\\n>personally witnessed as of late stem from a mismatch of\\n>expectations between the team and their management, so I\\n>think enumerating the rights and responsibilties of all\\n>concerned is a great idea.\\n>\\n\\nOoh - real examples! Would you be willing to sketch out a few of these?\"\n",
      "'Hi Karan\\n\\nYou dont need to store that many records in a cursor or array.\\nSome search engines uses the concept of Previous, Next (ie displaying\\n100 or more records at a time ). Whenever user clicks on Previous\\nor Next , you just need to bring 100 records to the client. Even the\\nperformance wont get affected if there are more users.\\n\\nAlternate is paging concept, where you display 100 (or more) records\\nper page , and the no. of pages will be based on maximum no. of\\nrecords.\\n\\nYou can try either of these options.\\n\\n\\n>From: Karanjit Singh <iamkaran@HOTMAIL.COM>\\n>Reply-To: A mailing list about Java Server Pages specification and\\n>     reference <JSP-INTEREST@java.sun.com>'\n",
      "'Jai SrimanNarayana\\nThere are 2 messages in this issue.\\n\\nTopics in this digest:\\n\\n1. Re: who is terkalwar?\\n2. Re: who is terkalwar?\\nFrom: chinna jeeyar <acharya27@yahoo.com>'\n",
      "'It sounds like you have a servlet which is doing response.getWriter() (or\\nresponse.getOutputStream()), then including or forwarding to\\nanother servlet\\nwhich does it again and that isn\\'t allowed - you can only get the\\noutputStream once per response.\\n\\n\\n\\n>From: Amar Das <adas@STGEORGECONSULTING.COM>\\n>Reply-To: \"A mailing list for discussion about Sun Microsystem\\'s Java\\n>        Servlet API Technology.\" <SERVLET-INTEREST@java.sun.com>'\n",
      "'>\\n> > Thanks for replying.  But my boss insists that I use array because\\nvector\\n> > costs more memory and time.\\n> >\\n> > >From: Shawn Zhu <Shawn.Zhu@MEDEM.COM>\\n> > >Reply-To: A mailing list about Java Server Pages specification and\\n> > >     reference <JSP-INTEREST@java.sun.com>'\n",
      "'Jai SrimanNarayana\\nThere are 5 messages in this issue.\\n\\nTopics in this digest:\\n\\n1. Re: Digest Number 258\\n2. Question\\n3. Tele-Stotra (Also text in English) by HH Jeeyar Swami (Live)\\nEvery Wednesday 8:00PM CST. - Reminder.\\n4. The Power of Prayer in Medicine\\n5. Re: The Power of Prayer in Medicine\\nFrom: \"T. R.Govindarajan\" <tgovindarajan@lucent.com>'\n",
      "'I think it is the best one\\n\\n>From: \"[Robert Cuperus]\" <Robert.Cuperus@BORN.COM>\\n>Reply-To: A mailing list about Java Server Pages specification and\\n>     reference <JSP-INTEREST@java.sun.com>'\n",
      "'This is a javascript question. Javascript isn\\'t Java, and it\\'s certainly not\\n\"Java Server Pages.\" Please try to find a Javascript-specific list for this\\nstuff.\\n\\nI don\\'t know Javascript, and have little interest in it; otherwise, I\\'d try\\nto help you.\\n\\n\\n>From: João Mota <jmota@FINIBANCO.PT>\\n>Reply-To: A mailing list about Java Server Pages specification and\\n>     reference <JSP-INTEREST@java.sun.com>'\n",
      "\"hey nipa,\\nno hard feelings, we're a team, and we're all looking forward to putting up\\na great show. I'm sure all the co-ordinators will work with the commitee, to\\nturn out a performance of very high calibre. Lets go zingaris!\\n\\nNaveen\\n\\n\\n>From: nipa diwanji-sheth <nipa_sheth@yahoo.com>\\n>Reply-To: zingaris@yahoogroups.com\"\n",
      "'Put the bean in a package in the classes directory\\nand write the name of the package in the bean class\\neg\\nbean\\n\\npackage mypack\\n\\npublic class myclass{\\n\\n\\n\\n\\n}\\n\\n\\n.jsp\\n\\n<form method=post action=mypack.myclass>\\nSanjay\\n>From: Paras Sharma <paras_sharma@USA.NET>\\n>Reply-To: A mailing list about Java Server Pages specification and\\n>     reference <JSP-INTEREST@java.sun.com>'\n",
      "'I\\'m going to take a trip this weekend around the bay\\narea. Any one wants to\\ncome? I\\'m open to ideas. What date were you thinking\\nfor Vegas?  Jessica,\\nwhen do you want to do lunch or dinner?  Other\\ngirls, when do you want to\\nget together? -S.\\n\\n\\n>From: \"Toakase Panisi\" <tpanisi@scif.com>\\n>Reply-To: <tpanisi@scif.com>\\n>To: <rxvitthal@yahoo.com>, <bunny_k@hotmail.com>,\\n<liews@aol.com>,\\n><michelle@nvidia.com>, <SVitthal@avocadoit.com>,\\n<L369L@hotmail.com>,\\n>  <douang1@prodigy.net>, <VTWAKKO@aol.com>'\n",
      "'Hi All,\\n\\nWhile sending mail to the group , pl do write an appropriate subject.\\nPl do not leave the subject line blank.\\nThis will help in identifying which mail is of use to us.\\n\\nThanks\\nEldo\\n\\n\\n>From: Pratik <pratik@ELITECORE.COM>\\n>Reply-To: A mailing list about Java Server Pages specification and\\n>     reference <JSP-INTEREST@java.sun.com>'\n",
      "'> Hi,\\n> did you set up your classpath to $TOMCAT_HOME\\\\examples\\\\WEB_INF\\\\classes ?\\n>\\n\\nTomcat does that for you -- the WEB-INF/classes and all JAR files under WEB-INF/lib\\nare already added to the class path for your web application automatically.\\n\\n\\n> >From: tonney <liu.dongsheng@ETANG.NET>\\n> >Reply-To: A mailing list about Java Server Pages specification and\\n> >     reference <JSP-INTEREST@java.sun.com>'\n",
      "'You would pass the bean instance and session object as parameters in a JSP\\nfunction (called a method).\\n\\nFor Example, you would say:\\n<jsp:useBean id=\"chk\" scope=\"page\" class=\"Alpine.chkBean\" />\\n<%!\\nint chkID(String strBar, Alpine.chkBean chk,\\njavax.servlet.http.HttpSession session)\\n{\\nString strPassword=\"\"+session.getValue(\"Password\");\\nif(flag==1)\\n}%>\\nEric R. Dunstan\\nA.D.2000\\n\\n>From: karen <karen@NEU-KINGSTONE.COM>\\n>Reply-To: A mailing list about Java Server Pages specification and\\n>     reference <JSP-INTEREST@java.sun.com>'\n",
      "'> > Hi, thanks for the link, but when downloading I got only the jar file\\n,\\n> > there is no examples or pager-taglib.tld, please where are they ?\\n> > Thanks\\n> >\\n> >\\n> > >From: James Klicman <james@JSPTAGS.COM>\\n> > >Reply-To: A mailing list about Java Server Pages specification and\\n> > >     reference <JSP-INTEREST@java.sun.com>'\n",
      "'Use Apache + Tomcat\\n\\nIt is the standard configuration and you will be able to find the most help\\nwith this combination. I get quite a few emails at the JSPInsider site\\nasking to solve a Java Web Server problem in configuration or such. I have\\nfound that everytime I have the person switch to Tomcat they have less\\nproblems and have an easy time of learning JSP.\\n\\n\\nCasey Kochmer\\nPresident Amberjack Software llc\\nwww.jspinsider.com\\n\\n>From: LIM BOON PING <pizbp@HOTMAIL.COM>\\n>Reply-To: A mailing list about Java Server Pages specification and\\n>     reference <JSP-INTEREST@java.sun.com>'\n",
      "\"I take it BEA's public newsgroups and public documentation wasn't quite\\nenough? Check out http://www.bea.com/ - it has plenty of documentation. This\\nis part of the wonder of J2EE - you don't normally have to rely too much on\\ncustom deployment tools, unless you're mmMMFFF!!!!! (Shutting up because\\npointing out the obvious will surely hurt some tender feelings.)\\n\\nObjJSP: You can use taglibs to make EJB use much easier; see\\nhttp://www.orionserver.com/tags/ejbtags/ for an explanation.\\n\\n\\n>From: Deepak Kumar <mysql_in@YAHOO.COM>\\n>Reply-To: A mailing list about Java Server Pages specification and\\n>     reference <JSP-INTEREST@java.sun.com>\"\n",
      "'Jai SrimanNarayan\\nThere is 1 message in this issue.\\n\\nTopics in this digest:\\n\\n1. Chicago Area JETUSA Satsang - 2nd & 4th Wednesday Meet - 7:30PM\\nFrom: chinna jeeyar <acharya27@yahoo.com>'\n",
      "\"This is off-topic for a JSP list. This has two primary areas of concern:\\nJDBC and core Java: JDBC because you're retrieving a date from a\\ndatabase\\n(as a string, which is incorrect) and core Java because you're comparing\\ntwo\\nDate objects.\\n\\nHowever, because Alan has put me in a good mood by asking a question and\\nthen requesting that I not answer...\\n\\nYou have a few solutions. One is to retrieve a timestamp from the DB\\ninstead\\nof a string, but this only works if it's stored as a date. Another\\nsolution\\nis to parse the string into a Date (via java.text.DateFormat) and\\ncompare\\nthe resulting objects that way. I'm sure other original minds can find\\nmore.\\n\\n\\n>From: ems vasudevan <vasu_ems@YAHOO.COM>\\n>Reply-To: A mailing list about Java Server Pages specification and\\n>     reference <JSP-INTEREST@java.sun.com>\"\n",
      "'>Hi!\\n>\\n>you can tell me by the weekend :-), actually I\\nhaven\\'t even decided which\\n>tickets to buy .... probably the $50 ones...??\\n>let me know.\\n>\\n>I am in for the Shivkumar and Zakir concert\\n>I thought Priyank was going to buy tickets for\\nthose ???\\n>\\n>Minal\\n>\\n>\\n>From: \"Hiten Patel\" <hitpats@hotmail.com>\\n>Reply-To: zingaris@yahoogroups.com'\n",
      "'java.sql and javax.sql API docs, and see http://java.sun.com/products/jdbc/\\nperformance.\\n\\n(If you have more scriptlet code than you do HTML/JSP tags, that\\'s probably\\na sign that you need to use tag libraries or a servlet instead. This kind of\\napproach - \"How do I access a DB in JSP?\" - tends to create just that\\nscenario. While convenient, it\\'s not very efficient, and we all like good\\nperformance, right? .. Right?)\\n\\n\\n>From: Willy LEGIMAN <Willy.LEGIMAN@FINEMORES.COM.AU>\\n>Reply-To: A mailing list about Java Server Pages specification and\\n>     reference <JSP-INTEREST@java.sun.com>'\n",
      "'hi\\ngo to property  file change\\n\\n\\n\\n\\n\\n\\n>From: \"Kondapalli, Sreedevi\" <SKondapalli@QRS.COM>\\n>Reply-To: A mailing list about Java Server Pages specification and\\n>     reference <JSP-INTEREST@java.sun.com>'\n",
      "'But I am only using tomcat.\\nWhen I change the path ot my images from :\\n<img src=\"/images/next.gif\" border=0 hspace=5></a>\\nTo\\n<img src=\"../images/next.gif\" border=0 hspace=5></a>\\nand call the servlet for the firsr time like this :\\nhttp://test12345.ssb.com:8080/displayIBM/servlet/JSPSearchServlet\\n\\nI can see the tableView jsp file ( forwarded from JSPSearchServlet) with all\\nits images.\\nBut for example when I click in one of these images (next.gif for example)\\nall the images disappear and the only thing you can see is a broken link.\\n\\nI will appreciate your help.\\nThanks\\n\\n>From: Niraj Soni <niraj@WEBLINEINDIA.COM>\\n>Reply-To: A mailing list about Java Server Pages specification and\\n>     reference <JSP-INTEREST@java.sun.com>'\n",
      "'Jai SrimanNarayana\\nThere are 6 messages in this issue.\\n\\nTopics in this digest:\\n\\n1. Bhagavad Gita Chanting ...\\n2. Re: Qs about Nachiketas Qs\\n3. Re: Valmiki Jayanthi -Delhi Student\\n4. RE: Digest Number 255\\n5. 180 hours of TIRUPPAVAI AND TIRUMANTRARTHAM IN ONE CD\\n6. Naivedyam (Swa:ha:s Question)\\nFrom: chinna jeeyar <acharya27@yahoo.com>'\n",
      "\"i couldn't agree more.  i used to try to answer as many questions as i\\ncould, but it soon dawned on me that i was doing the legwork for lazy\\npeople.  they were getting a free ride on the many hours i had spent\\nfiguring out such things for myself.  it seems that about 95% of the posts\\nto this list have become just such as these.  now i just scan subject lines,\\nand only read mails posted by a group of about five.  the rest go in the\\nrubbish bin..\\n\\nbradley mclain\\n\\n\\n>From: Hans Bergsten <hans@GEFIONSOFTWARE.COM>\\n>Reply-To: A mailing list about Java Server Pages specification and\\n>     reference <JSP-INTEREST@java.sun.com>\"\n",
      "'you must be using Servlet 2.1 container. session.setAttribute() and\\ngetAttribute() is part of Servlet 2.2 API.\\n\\nSree Pillai\\n\\n>From: Rupali Bains Goswami <bains_goswami@HOTMAIL.COM>\\n>Reply-To: A mailing list about Java Server Pages specification and\\n>     reference <JSP-INTEREST@java.sun.com>'\n",
      "'You can approach the problem from the other direction.\\n\\nIf the session has expired then the current session will still be new.\\n<%\\nboolean lb_test = session.isNew() ;\\nif (lb_test) out.print(\"we have a new session\");\\n%>\\n\\nisNew\\nReturns \"true\" if a session object has been created but not accessed by\\nclient. Returns \"false\" if a session object has been used by the client.\\n\\n\\nOf course you can also tell by the fact if your session is invalidated then\\nyou will get a IllegalStateException exception and you can work from that\\nangle also\\n\\nCasey Kochmer\\nwww.jspinsider.com\\n\\n>From: \"Narayanaswamy, Kumaran (CTS)\" <NKumaran@CHN.CTS-CORP.COM>\\n>Reply-To: A mailing list about Java Server Pages specification and\\n>     reference <JSP-INTEREST@java.sun.com>'\n",
      "'> > Put the bean in a package in the classes directory\\n> > and write the name of the package in the bean\\nclass\\n> > eg\\n> > bean\\n> >\\n> > package mypack\\n> >\\n> > public class myclass{\\n> >\\n> >\\n> >\\n> >\\n> > }\\n> >\\n> >\\n> > .jsp\\n> >\\n> > <form method=post action=mypack.myclass>\\n> > Sanjay\\n> > >From: Paras Sharma <paras_sharma@USA.NET>\\n> > >Reply-To: A mailing list about Java Server Pages\\nspecification and\\n> > >     reference <JSP-INTEREST@java.sun.com>'\n",
      "\"No, I've not used Tomcat in quite some time, with few plans to change that.\\n\\n\\n>From: Shailendra <Shailendrak@INSPIRA.COM>\\n>Reply-To: A mailing list about Java Server Pages specification and\\n>     reference <JSP-INTEREST@java.sun.com>\"\n",
      "'Jai SrimanNarayan\\nThere are 2 messages in this issue.\\n\\nTopics in this digest:\\n\\n1. Re: Digest Number 215\\n2. saturday discourse\\nFrom: \"donoven kelley\" <naarayana@hotmail.com>'\n",
      "'Thank you Carlos, it is working. But I have to send only the file name\\ninstead of the whole path like : <jsp:forward page=\"something.jsp\">\\n\\nThanks again.\\n\\nPanos\\n\\n\\n>From: Carlos Telleria <ctelleria@ARAGOB.ES>\\n>Reply-To: A mailing list about Java Server Pages specification and\\n>     reference <JSP-INTEREST@java.sun.com>'\n",
      "'How do I do it? Please explain to me. Thanks\\n\\nShirley\\n\\n\\n>From: Justin Owens <justin@EOVISION.COM>\\n>Reply-To: A mailing list about Java Server Pages specification and\\n>     reference <JSP-INTEREST@java.sun.com>'\n",
      "'go to : http://www.j-netdirect.com/Pricing.htm\\nand scroll down to: JSQLConnect Pricing\\n\\n\\n>From: xin_kang <xin_kang@263.NET>\\n>Reply-To: A mailing list about Java Server Pages specification and\\n>     reference <JSP-INTEREST@java.sun.com>'\n",
      "'Hi, How to create a web application in JRUN ?\\nthanks\\n\\n\\n>From: Amy Wan <AmyW@MEGASTATION.COM>\\n>Reply-To: A mailing list about Java Server Pages specification and\\n>     reference <JSP-INTEREST@java.sun.com>'\n",
      "'This is exactly the same  problem i have ...\\n\\n\\n>From: Dilip Patel <dil_patel@HOTMAIL.COM>\\n>Reply-To: A mailing list about Java Server Pages specification and\\n>     reference <JSP-INTEREST@java.sun.com>'\n",
      "'Hi, could you please show me where to put OnClick event, I will appreciate\\nif someone give me a small  example of a form.\\nThanks\\n\\n\\n>From: Michael Quale <mquale@PCCWEB.COM>\\n>Reply-To: A mailing list about Java Server Pages specification and\\n>     reference <JSP-INTEREST@java.sun.com>'\n",
      "'>From: Celal Ceken <cceken@KOU.EDU.TR>\\n>\\n\\n>what is the difference between doGet and doPost. Thanks for your help...\\n\\n\\ndoGet is called when the browser does a HTTP GET request.\\ndoPost is called when the browser does a HTTP POST request.\\n\\nGET is usually sent when the user clicks on a link (href) or\\ntypes a url into the browser location.\\n\\nPOST is usually done in a form.  Eg <FORM action=\"servlet\" METHOD=\"post\"></FORM>\\n\\nthe big red \"Professional JSP\" by wrox press is a pretty good book.\\n\\n===========================================================================\\nTo unsubscribe: mailto listserv@java.sun.com with body: \"signoff JSP-INTEREST\".\\nSome relevant FAQs on JSP/Servlets can be found at:\\n\\nhttp://java.sun.com/products/jsp/faq.html\\nhttp://www.esperanto.org.nz/jsp/jspfaq.html\\nhttp://www.jguru.com/jguru/faq/faqpage.jsp?name=JSP\\nhttp://www.jguru.com/jguru/faq/faqpage.jsp?name=Servlets'\n",
      "'That\\'s because, as the original responder stated, they\\'re part of the\\ndownload for Javamail. To wit, look in the javamail-1.2/demo directory\\ninside the download archive.\\n\\n\\n>From: \"Boda, Ramakrishna Rao (Ramakrishna)\" <boda@LUCENT.COM>\\n>Reply-To: A mailing list about Java Server Pages specification and\\n>     reference <JSP-INTEREST@java.sun.com>'\n",
      "'> Yes you need this file. Without it apache will not load up at all in fact,\\n> since the tomcat configuation changes required, actually specify this\\nmodule\\n> directly.\\n>\\n> You can download it from the Jserv module which is located\\n> http://java.apache.org/jserv/dist/. Its been a few months since I did my\\n> install so i am relying on memory here for the source of\\n> ApacheModuleJServ.dll\\n>\\n>\\n>\\n>\\n>\\n> >From: Laiwu Luo <laiwu_luo@GLOBALCROSSING.COM>\\n> >Reply-To: A mailing list about Java Server Pages specification and\\n> >     reference <JSP-INTEREST@java.sun.com>'\n",
      "'I do not think you can do it without restarting the server. I have\\nexactly\\nthe same problem. Every time I change something in my Bean I have to\\nrestrat\\nthe JRun. This is kind of annoying.\\n\\n\\n>From: Martin Nwalal <mnm@CYBER-NETWORKS.FR>\\n>Reply-To: A mailing list about Java Server Pages specification and\\n>     reference <JSP-INTEREST@java.sun.com>'\n",
      "'> >I\\'m using NT. I\\'ve set class path the driver in my NT setting. Do I have\\nto\\n> >do it again in NES or Jrun ? If so where do I do it ?\\n> >\\n> > >From: \"Cogley, Jonathan\" <Jonathan.Cogley@GIANTEAGLE.COM>\\n> > >Reply-To: A mailing list about Java Server Pages specification and\\n> > >     reference <JSP-INTEREST@java.sun.com>'\n",
      "'maria\\nwhy are you taking the tension of this programme.\\nearth is  very big. enjoy life.\\nravi\\n\\n>From: Maria Baldassarri <Maria_Baldassarri@TIVOLI.COM>\\n>Reply-To: A mailing list about Java Server Pages specification and\\n>     reference <JSP-INTEREST@java.sun.com>'\n",
      "\"it seems that you have no file /ClientHandler\\nisn't it /ClientHandler.jsp or something?\\n\\ns.b.\\n\\n>From: Liu <liu@ININK.COM>\\n>Reply-To: A mailing list about Java Server Pages specification and\\n>     reference <JSP-INTEREST@java.sun.com>\"\n",
      "'Susan,\\n\\nI am still expecting a letter regarding the number of options I hold as of\\n31st Dec 2001, from the company. I would appreciate if you could please let\\nme know when can I get it.\\n\\nthanks\\n\\nVivek.\\n\\n\\n>From: \"VivekMundhra\" <vivekmundhra@hotmail.com>\\n>Reply-To: \"VivekMundhra\" <vivekmundhra@hotmail.com>'\n",
      "\"> Thanks for the response though your answer didn't help me much. It started\\n> working after I put oracle.jar file under classpath in jrun's\\njsm.properties\\n> file. But now I have another issue. I'm able to run servlets, access\\n> database, read and write from database. but in one particular servlet,\\n> netscape is throwing the infamous 'Document contains no data' error. I\\n> thought It would be some database connection problem. but since my other\\n> servlets are running perfectly (using the same DB connection classes) it\\n> can't be JDBC problem, right ? When all we usually get this 'Document\\n> contains no data' error ? Any help appreciated.\\n>\\n> Vis..\\n>\\n>\\n> >From: mahesh bapu <mbapu@USA.NET>\\n> >Reply-To: A mailing list about Java Server Pages specification and\\n> >     reference <JSP-INTEREST@java.sun.com>\"\n",
      "'Create a bean with session scope and then pass the form data directly into\\nyour bean.\\n\\nfor example:\\n\\n<jsp:useBean id=\"ReportBean\" scope=\"session\" class=\"MyBeans.Web_Report\"/>\\n\\n<jsp:setProperty name=\"ReportBean\" property=\"rowDisplayCount\"\\nparam=\"txt_size\"/>\\n\\nwhere param is the form feild you are sending directly into your bean.\\n\\nthen on future pages you can use the getProperty method to get back at the\\ndata stashed in your bean. as below\\n\\n<jsp:getProperty name=\"ReportBean\" property=\"rowDisplayCount\" />\\n\\nThis bean and its data will then be availible from all your Jsp pages.\\n\\n\\n>From: Helen Wan <helen@GSNET.COM>\\n>Reply-To: A mailing list about Java Server Pages specification and\\n>     reference <JSP-INTEREST@java.sun.com>'\n",
      "'>From: \"Sueh-Min Liew\" <sliew@sesd.org>\\n>Reply-To: sliew@sesd.org'\n",
      "\"A cachedrowset is a wonderful tool. The only problem is that its still in\\ndevelopment over at sun. As a result I would caution against its use in a\\nproduction enviroment.\\n\\nNow the best use of the cacherowset comes when it is used in conjunction\\nwith connectionpooling. You make a quick connection. Dump your data into the\\ncached row set. Close your connection. Then you pass the cachedrowset to\\nanother object to handle the data. This way you minimize your time connected\\nto the database and can easily pass your data as a complete object. (note\\nthis won't work with a result set since you are only pointing to one row at\\na time and you have a presistant dataconnection.)\\n\\nHope this helps.\\n\\nCasey Kochmer\\n\\n\\n>From: Robert Nicholson <robert@ELASTICA.COM>\\n>Reply-To: A mailing list about Java Server Pages specification and\\n>     reference <JSP-INTEREST@java.sun.com>\"\n",
      "\"Jai SrimanNarayana\\nThere are 10 messages in this issue.\\n\\nTopics in this digest:\\n\\n1. Artha Panchaka Gnanam\\n2. fated to get GURU\\n3. Acharya & Guru? How to find the real one.\\n4. Acharya & Guru? How to find the real -\\n5. Acharya & Guru? How to find the real one.\\n6. Thiruppaavai Maalai Samarpanam\\n7. Re: Acharya & Guru? How to find the real one.\\n8. Re: Digest Number 294\\n9. Acharya's unique and unparallal role.\\n10. Any book which explains Lord VISHNU's thousand names\\nFrom: Srilatha Nana <Srilatha.Nana@divine.com>\"\n",
      "'hi leena\\n\\nu cannot embed JSP tag inside a Javascript Function.\\nif it is a client side validation , u dont need to get the\\nError Message from Server. Instead of having a interface , u can store it as\\na Constant variable like \"var MSG01\" , u store all these constants in a\\nseparate javascript file and u can include in ur JSP program.\\n\\n\\n\\n\\n\\n\\n>From: Leena Albert <leenasanjay@REDIFFMAIL.COM>\\n>Reply-To: A mailing list about Java Server Pages specification and\\n>     reference <JSP-INTEREST@java.sun.com>'\n",
      "'hi JAY SHRI KRISHANA,\\nplace the compiled servlet file in WEB-INF\\\\classes folder and try calling\\nthe servlet.\\nif it is a problem with compiling set the classpath to servlet.jar file.\\n\\nnanda kishore\\n\\n\\n\\n\\n\\n>From: hiteshonline <hiteshonline2000@EGUJARAT.NET>\\n>Reply-To: A mailing list about Java Server Pages specification and\\n>     reference <JSP-INTEREST@java.sun.com>'\n",
      "'there exists an online PDF with some of the ideas of the book - i think its\\nan earlier document. do a web search. . .\\nmartin\\n\\n\\n>From: Vikram David <vdavid@USINTERACTIVE.COM>\\n>Reply-To: A mailing list about Java Server Pages specification and\\n>     reference <JSP-INTEREST@java.sun.com>'\n",
      "'hi\\n1) you can use expilcitly,call the servlets to control the session, as\\n2) you can use the getValue and PutValue functions in JSP, when you haev\\nspecified\\nin JSP tag that session=\"true\"\\nanil\\n\\n>From: Munish Talwar <mtalwar@FASHIONCHAIN.COM>\\n>Reply-To: A mailing list about Java Server Pages specification and\\n>     reference <JSP-INTEREST@java.sun.com>'\n",
      "\"Hi kanojiajogesh,\\n\\nI can't answer on where to get resource on creating a bean (because I used a\\nbook myself), but as far as connecting to a database:\\n\\nFor start, there's a demo in the standard development kit.  I have version\\n1.2.2 in Windows environment.\\n\\nC:\\\\jdk1.2.2\\\\demo\\\\jfc\\\\DBDemos\\n\\nThis demo assumes that you know how to create a DSN.  However there are\\nother books that will show you how to connect to a database without having\\nto create a DSN.\\n\\nAll you need to do is figure out how to create and use a bean and learn from\\nthe examples above and integrate this into your JSP.\\n\\n\\n>From: kanojiajogesh <kanojiajogesh@IGTECHNOLOGIES.COM>\\n>Reply-To: A mailing list about Java Server Pages specification and\\n>     reference <JSP-INTEREST@java.sun.com>\"\n",
      "'thanks!!\\n\\nworked like a charm\\n\\n\\n>From: \"Jaffa, Dan\" <dan.jaffa@PFIZER.COM>\\n>Reply-To: A mailing list about Java Server Pages specification and\\n>     reference <JSP-INTEREST@java.sun.com>'\n",
      "'My application thro DSNs is working perfectly using the Windows odbc drives\\nusing\\nclass.forName(sun.jdbc.odbc.JdbcOdbcDriver)\\n\\nBut want to test out the Oracle drivers that r there which do not require\\nthe DSN setup\\n\\nSanjay\\n\\n>From: Henki Lubis <hlubis@BALICAMP.COM>\\n>Reply-To: A mailing list about Java Server Pages specification and\\n>     reference <JSP-INTEREST@java.sun.com>'\n",
      "\"Thanks for u'r reply.I found that i was pushing some script that caused the\\ndelay.\\n\\n\\n>From: Brian Harvey <brian34ny@LOOKSMART.COM>\\n>Reply-To: A mailing list about Java Server Pages specification and\\n>     reference <JSP-INTEREST@java.sun.com>\"\n",
      "'>Specifically, most complexity (esp. headers/footers) are contained in\\n>section marks, so those are the puppies that you want to avoid carrying over\\n>when you cut-n-paste... Use Normal view to see them.\\n>\\n>----- Original Message -----\\n>From: \"Bill Sanders\" <bsanders@scribble-count.com>\\n>\\n>> There are kludges:\\n>>   *  Save frequently to a slightly different filename\\n>>   *  Wait to add as much of the complexity late in the process\\n>\\n>\\n>---\\n>You are currently subscribed to stcetsig-l as: bsanders@scribble-count.com\\n>To unsubscribe send a blank email to leave-stcetsig-l-33735M@stc.org\\n>\\n\\n---\\nYou are currently subscribed to stcetsig-l as: rgantly@avocadoit.com\\nTo unsubscribe send a blank email to leave-stcetsig-l-34772P@stc.org'\n",
      "\"which jdk is installed on the red hat box?  i think it usually defaults to\\nthe kaffe jre, which means that when you invoke 'java' or 'javac' you are\\nactually invoking 'kaffe'.  i dont think that is jdk1.2 compliant (i may be\\nwrong).\\n\\ndownload jdk1.2.2 rc4 from blackdown.org, install it, and then edit the\\nlink\\nfile 'java' in (i believe) /usr/bin/.  change it to point to .java_wrapper\\nin the jdk directory and you should be set.\\n\\n\\n>From: Chris Probert <chris@ETS-EDI.CO.UK>\\n>Reply-To: A mailing list about Java Server Pages specification and\\n>     reference <JSP-INTEREST@java.sun.com>\"\n",
      "'the ad is fine\\n\\nexcept that we want to have PHOTOGRAPHS of the speakers (as per my note this\\nmorning)\\n\\nrgds\\ns\\n\\n{}  X-Originating-IP: [12.235.78.134]\\n{}  From: \"Simonil Kakalia\" <simonilkakalia@hotmail.com>\\n{}  To: \"Venk Shukla\" <shukla@avocadoit.com>, \"Vish Mishra\"\\n<Vish.Mishra@tie.org>, \"Jayaram Bhat\" <jayaram@mindspring.com>, \"Ajay Rajput\"\\n<ar370@yahoo.com>, \"Shanker Trivedi\" <shanker.trivedi@sun.com>\\n{}  Subject: San Jose Merc reworked ad - for your approval please\\n{}  Date: Mon, 13 May 2002 13:36:49 -0700\\n{}  \\n/_____/\\\\\\n/_____\\\\\\\\ \\\\               Shanker Trivedi\\n/_____\\\\ \\\\\\\\ /              10 Network Circle\\n/_____/ \\\\/ / /             UMPK10-212\\n/_____/ /   \\\\//\\\\            Menlo Park, CA 94025\\n\\\\_____\\\\//\\\\   / /\\n\\\\_____/ / /\\\\ /\\n\\\\_____/ \\\\\\\\ \\\\              Phone: 650-786-8563\\n\\\\_____\\\\ \\\\\\\\               Fax:   650-786-8397\\n\\\\_____\\\\/                E-mail:shanker.trivedi@sun.com'\n",
      "'You dont have to make it into a .jar like u do it when\\nu r using it like a simple bean\\nWhile calling a bean from a Jsp we have to only use the class file and place\\nit in a package folder inside the classes directory\\nI just worked it out\\nRegards\\nSanjay\\n\\n\\n\\n>From: Sundaram Ramasamy <sundaram@icss-usa.com>\\n>Reply-To: Sundaram Ramasamy <sundaram@icss-usa.com>'\n",
      "'How about writing it to a database table.  Just make a single table that\\nholds info, make entity ejb which maps object to db table, use set methods\\nto on ejb object and you have persistence.\\n\\n\\n>From: Richard Diaz <richdiaz99@YAHOO.COM>\\n>Reply-To: A mailing list about Java Server Pages specification and\\n>     reference <JSP-INTEREST@java.sun.com>'\n",
      "'I would check out struts\\nhttp://jakarta.apache.org/struts/index.html\\n\\nfor a list of struts related resources check out\\n\\nhttp://www.husted.com/about/struts/\\n\\nA good article to read is\\n\\nhttp://www-106.ibm.com/developerworks/library/j-struts/?dwzone=java\\n\\nCasey Kochmer\\n\\n\\n\\n>From: Heath Cleland <HCleland@KNOWLEDGEMECHANICS.COM>\\n>Reply-To: A mailing list about Java Server Pages specification and\\n>     reference <JSP-INTEREST@java.sun.com>'\n",
      "'Compare something like <%= mybean.getSomething() %> to <jsp:getProperty\\nname=\"mybean\" property=\"something\" /> - one is well-formed, and more likely\\nto be understood by less-aware JSP programmers.\\n\\nIt also means your JSP isn\\'t clogged with tons of scriptlets that interface\\nrepositories. You can, for example, use a bean to hold your data and then a\\ntag to act upon it. That\\'s what most of *my* taglibs do, and that\\'s the\\nmodel I\\'ve found to be most efficient to me.\\n\\n\\n>From: Ganesh MohanRao <GMohanRao@ALTRA.COM>\\n>Reply-To: A mailing list about Java Server Pages specification and\\n>     reference <JSP-INTEREST@java.sun.com>'\n",
      "'Jai SrimanNarayana\\nThere are 3 messages in this issue.\\n\\nTopics in this digest:\\n\\n1. Re: who is terkalwar?\\n2. manthra arthham\\n3. we in america\\nFrom: \"Thara Narasimhan\" <tnarasimhan@earthlink.net>'\n",
      "'No, you are not missing an import.\\nThe problem is the JDK version you\\'re using does not support\\nsetAttribute(String, Object).  You have to use putValue(String, Object).\\n\\nTry\\nsession.putValue( \"blnIsLoggedIn\", true );\\n\\nand it will work!\\n\\n\\n\\n>From: Shawn Zhu <Shawn.Zhu@MEDEM.COM>\\n>Reply-To: A mailing list about Java Server Pages specification and\\n>     reference <JSP-INTEREST@java.sun.com>'\n",
      "'Hi,\\n1)\\n<sql:query>\\nselect * from description where name like <%= \"\\'\" +\\nrequest.getParameter(\"name\") + \"\\'\"%>\\n</sql:query>\\n2)\\n<sql:query>\\nselect * from description where name like \\'<%=\\nrequest.getParameter(\"name\") %>\\'\\n</sql:query>\\n\\nBoth (1) and (2) don\\'t work.\\n\\n\\n>From: Richard Yee <ryee@ZOHO.COM>\\n>Reply-To: A mailing list about Java Server Pages specification and\\n>     reference <JSP-INTEREST@java.sun.com>'\n",
      "'To unsubscribe from this group, send an email to:\\njava-mobile-unsubscribe@egroups.com\\n\\n\\nThere is 1 message in this issue.\\n\\nTopics in this digest:\\n\\n1. Re: Digest Number 62\\nFrom: \"Loren J. Erickson\" <lorenjerickson@yahoo.com>'\n",
      "'Yes, but I am sure there is a way that you can pass a parameter from\\n<%= the_jsp_output %> to the applet, I saw this somewhere but could not\\nremember where.\\nThanks\\n\\n>From: \"Karau, Joe\" <Joe.Karau@KINGLAND.COM>\\n>Reply-To: A mailing list about Java Server Pages specification and\\n>     reference <JSP-INTEREST@java.sun.com>'\n",
      "\"Comments: To: JSP-INTEREST@www.javasoft.com\\nTo: JSP-INTEREST@www.javasoft.com\\nAnd new question is how can I find best number of upper and lower limit of\\npool connection? And finally has there any way to let some of the pages has\\nhet more connection from the pool and some less?\\n\\nI'm using oracle 8i and tomcat 3.1\\n\\nIf you know and article about these thinks please let me know\\n\\nThanks\\n\\n>From: Rogério Saran <rsaran@ORGANOX.COM.BR>\\n>Reply-To: A mailing list about Java Server Pages specification and\\n>     reference <JSP-INTEREST@java.sun.com>\"\n",
      "'>\\n>Mahesh:\\n>\\n>That\\'s great news.  Was thinking of calling you today. I will be leaving\\n>for\\n>India on Monday evening and I hope that we can have it before that and\\nsee\\n>it so that you could then present it on Tuesday meeting.\\n>Many thanks for your help.  Will call you sometime today.\\n>\\n>Regards to you and to Santhala who helped us so much.\\n>\\n>BLJ\\n>\\n>\\n> >From: \"Mahesh Nagarajaiah\" <mahesh@infobaseusa.com>\\n> >Reply-To: <mahesh@infobaseusa.com>'\n",
      "\"Hey i tried what u suggested but did'nt work.But this worked...\\n\\n<a href=test.jsp?name=<%=URLEncoder.encode(username)%>click here</a>\\n\\n\\n>From: Veronique Dupierris <veronique.dupierris@INRIALPES.FR>\\n>Reply-To: A mailing list about Java Server Pages specification and\\n>     reference <JSP-INTEREST@java.sun.com>\"\n",
      "'It means the error is on line 14 character 1, usually I only pay attention\\nto the line number.\\n\\n\\n\\n>From: sufi malak <sufi_m@HOTMAIL.COM>\\n>Reply-To: A mailing list about Java Server Pages specification and\\n>     reference <JSP-INTEREST@java.sun.com>'\n",
      "'>> >>\\n>> >> >go to the frame header right click gointo properties and then\\nincreas\\ne\\n>> >> >buffer size u will be able to scroll across ur errors.\\n>> >> >mandeep\\n>> >> >\\n>> >> >\\n>> >> >>From: B R Nair <b.r.nair@VSNL.COM>\\n>> >> >>Reply-To: A mailing list about Java Server Pages specification and\\n>> >> >>     reference <JSP-INTEREST@java.sun.com>'\n",
      "'Thank you very much\\n\\n\\n>From: Dean Sheppard <dsheppard@CREDITWAVE.COM>\\n>Reply-To: A mailing list about Java Server Pages specification and\\n>     reference <JSP-INTEREST@java.sun.com>'\n",
      "'interesting...\\nI wonder how MS knows that the .asp page has no dynamic \\n\\n>From: Shrisha Radhakrishna <shrisha_radhakrishna@YAHOO.COM>\\n>Reply-To: A mailing list about Java Server Pages specification and\\n>     reference <JSP-INTEREST@java.sun.com>'\n",
      "'hi ,\\n\\nHappened with me too . was a frustrsting experience\\nHad to subscribe from my other mail account and again subscribe from my\\nother account\\nThis solved the problem\\n\\nbut its time the list manager solved the prolem\\nIt is still blocking my other mail account .I think it blocks your mail\\naddress\\n\\nRegards\\nSanjay\\n\\n\\n\\n>From: Tushar Kuwad <tushark@MAHINDRABT.COM>\\n>Reply-To: A mailing list about Java Server Pages specification and\\n>     reference <JSP-INTEREST@java.sun.com>'\n",
      "\"I agree, it's a good way to find out things - to ask people about the\\ndifferences between products.\\n\\nSo, which do *you* like better? The Honda Accord or the Toyota Camry?\\n\\nOh, wait, that might be offtopic for JSP-Interest, too... but who cares,\\nsend me an answer. Everybody else expects it here...\\n\\n\\n>From: Laurent Bruynooghe <Laurent@COMPUBASE-EUROPE.COM>\\n>Reply-To: A mailing list about Java Server Pages specification and\\n>     reference <JSP-INTEREST@java.sun.com>\"\n",
      "\"Joe, isn't it a little curious to the company that in order to deliver an\\nexample that should have taken a week, it's taken you months?\\n\\nAdditionally, it took you months to get the server and servlet engine\\nrunning.\\n\\nI'm not sure how that looks to this company, however they may be thinking\\ntwice about hiring you.\\n\\nThis is not the end of the world, however.  If you know they have a need,\\nyou can still deliver the application.  However, I'm sure they don't have\\nmuch confidence in you.\\n\\nI am an independent contractor and have been coding server side java using\\nj2ee for years and can help you.  However, this sounds like something that\\nwould involve alot of time and that means that you should consider using\\nprofessionals and billing for it.\\n\\n\\n>From: Jsp Joe <twocool@POWERSURFER.NET>\\n>Reply-To: A mailing list about Java Server Pages specification and\\n>     reference <JSP-INTEREST@java.sun.com>\"\n",
      "\"I suppose renaming the files in the explorer is beyond the realm of\\npossibility? Another option is using an editor that doesn't tack on stupid\\nextensions...\\n\\n\\n>From: Jennifer Feeney <jennifer.feeney@IRELAND.COM>\\n>Reply-To: A mailing list about Java Server Pages specification and\\n>     reference <JSP-INTEREST@java.sun.com>\"\n",
      "\"Thursday should be possible as the meeting with Yipes is confirmed for Friday in San Fran at 3pm. How does noon - 1pm suit you?\\n\\n**> -----Original Message-----\\n**> From: George Richard\\n**> Sent: Tuesday, February 27, 2001 5:08 PM\\n**> To: Betty Chan-Bauza\\n**> Subject: Re: Lunch with CGEY (Abiola)\\n**>\\n**>\\n**> Let's do thursday if possible. I'm on the road w a client on wed\\n**> --------------------------\\n**> Sent from my BlackBerry Wireless Handheld (www.BlackBerry.net)\\n**>\\n**>\\n**> -----Original Message-----\\n**> From: Betty Chan-Bauza <Betty.Bauza@avocadoit.com>\\n**> To: George Richard <George.Richard@avocadoit.com>\\n**> Sent: Tue Feb 27 15:29:16 2001\\n**> Subject: Lunch with CGEY (Abiola)\\n**>\\n**> When: Wednesday, February 28, 2001 12:30 PM-1:30 PM\\n**> (GMT-08:00) Pacific Time (US & Canada); Tijuana.\\n**>\\n**> *~*~*~*~*~*~*~*~*~*\\n**>\\n**>\\n**>\"\n",
      "'Well I just talked to her and I mentioned... maybe the 4th of July and she\\nwas so excited!  =)  she was screaming!  yeah!  So I really don\\'t think\\nshe\\'ll have a problem with seeing you.  She is at the house, call her!  =)\\nLemme know if you need anything and good luck... just call her!\\nElysia\\n\\n\\n>From: \"Emile Khan\" <emile.khan@avocadoit.com>\\n>Reply-To: <emile.khan@avocadoit.com>'\n",
      "\"Ah, plus ca change, plus ce la meme chose...\\n\\nSomeone else sent me the same kind of crap during the earlier flamefest on\\nthe same topic. I didn't think it was appropriate then, and I don't now\\neither... it mostly shows that you're trying to read in more than there is\\nto read.\\n\\nI never claimed to be a JSP god. I don't have all the answers. (See the\\nthere'd be too many claimants. I've been wrong, very wrong. I've also been\\nhonest about it. C'est la vie.)\\n\\nI also don't resent newbies; why would I? I don't resent questions, after\\npresumably focused on JSP being used for everything else. (BTW, so far, the\\nvotes for the Camry are ahead.)\\n\\n>From: Dave McHale <dmchale@HHINTERACTIVE.COM>\\n>Reply-To: A mailing list about Java Server Pages specification and\\n>     reference <JSP-INTEREST@java.sun.com>\"\n",
      "'I have had a similar problem.  I wrote a custom exception class, extending\\njava.lang.Exception abd wrapping the original exception instance.\\n\\nWhen an error occurs, I add a message containing localised and custom error\\nmessage info.  Then I propogate this exception to controller servlet and it\\nincludes the corresponding JSP error page.\\n\\nHere the error page displays it like a bean, not a with static <pre>\\n<%@ page language=\"Java\" isErrorPage=\"true\" session=false %>\\n<jsp:useBean id=\"errorBean\" class=\"java.lang.Exception\" scope=\"request\" />\\n<BR>\\n<h1><FONT COLOR=red> An error has occurred while processing your request.\\n</FONT></h1>\\n<BR>\\n\\n<jsp:getProperty name=\"errorBean\" property=\"message\" />\\n<BR>\\n\\n<BR>\\n</pre>\\n\\n\\n\\nIt worked fine for me, but it may not be adequete solutin for big and\\ncomplex applications.\\n\\nBulent\\n\\n\\n>From: \"Hines, Bill\" <bhines@HERSHEYS.COM>\\n>Reply-To: A mailing list about Java Server Pages specification and\\n>     reference <JSP-INTEREST@java.sun.com>'\n",
      "'>\\n> > Kal,\\n> >     I recently wrote a SMTP bean at\\n> > http://www.jspinsider.com/beans/beans/email/BeanMailer/index.html it\\n> > provides a great example of  passing parameters with a form. Hopefully\\nit\\n> > will answer your question.\\n> >\\n> > Jayson@jspinsider.com\\n> >\\n> >\\n> >\\n> >\\n> > >From: Kal Iyer <ksiyer3@HOME.COM>\\n> > >Reply-To: A mailing list about Java Server Pages specification and\\n> > >     reference <JSP-INTEREST@java.sun.com>'\n",
      "'Jai SrimanNarayana\\nThere are 2 messages in this issue.\\n\\nTopics in this digest:\\n\\n1. FWd::Info on an Indian victim ..............Can anyone help??\\n2. Interesting article !!!\\nFrom: \"Thara Narasimhan\" <tnarasimhan@earthlink.net>'\n",
      "\">\\n>\\n>Sridar, Dilan, Raman,\\n>\\n>Need some help.\\n>\\n>1) I still have not received this week's Weekly\\nTiEcon 2002 Update, that was\\n>due Wednesday. Can some help get this to me? Else we\\nmay have to push the\\n>program out by a week.\\n>\\n>2) Sridar, for subsequent updates can you nominate\\nsomeone from the content\\n>Team to get this to me every Wednesday.\\n>    I've sent mail to all the people  on the team\\n(Content Chairs), but no\\n>one has acknowledged their task (except Hemen\\nGodbole).\\n>\\n>Thanks........Vikram\\n>  _____\\n>\\n>\\n>----- Original Message -----\\n>From: Vikram  <mailto:vikrammodak@earthlink.net>\\nModak\"\n",
      "'> > > >\\n> > > > > interesting...\\n> > > > >\\n> > > > > I wonder how MS knows that the .asp page has no dynamic content\\n> > > > > without interpreting it.\\n> > > > >\\n> > > > >\\n> > > > >\\n> > > > >\\n> > > > > >From: Shrisha Radhakrishna <shrisha_radhakrishna@YAHOO.COM>\\n> > > > > >Reply-To: A mailing list about Java Server Pages specification\\nand\\n> > > > > >     reference <JSP-INTEREST@java.sun.com>'\n",
      "\"haven't done this myself, but there are some books with examples of porting\\nfrom ASP to JSP.\\n\\nsheck out Chapter 20 in 'Professional JSP' from wrox (or try their website -\\nwww.wrox.com)\\n\\nAndy.\\n\\n\\n>From: fau k <fau13@HOTMAIL.COM>\\n>Reply-To: A mailing list about Java Server Pages specification and\\n>     reference <JSP-INTEREST@java.sun.com>\"\n",
      "'How about this:\\n<ColoredCircle>\\n<Circle>\\n</Circle>\\n</ColoredCircle>\\nAny dependency rules can be defined in DTD. I believ it should work.\\n\\n\\n>From: \"Pullin, Tim\" <Tim.Pullin@NEXTEL.COM>\\n>Reply-To: XML technologies in the Java Platform <XML-INTEREST@java.sun.com>'\n",
      "'Piyush, who can we ask this ?\\n\\n>From: \"naveen\" <naveen@neoglobalinc.com>\\n>Manoj,\\n>\\n>We have not recieved avocadoit.com \\'s certificate yet and check has not\\nbeen\\n>cashed yet. Could you follow up?\\n>'\n",
      "'no, you need to put this:\\n<jsp:useBean id=\"beanConnect\" class=\"jsp.DbBean\" scope=\"session\"/>\\non every jsp in order to use the instance which is already created\\n\\ns.b.\\n\\n>From: Chin Sung Kit <chinsk@SAINS.COM.MY>\\n>Reply-To: A mailing list about Java Server Pages specification and\\n>     reference <JSP-INTEREST@java.sun.com>'\n",
      "\"Comments: cc: JSP-INTEREST@www.javasoft.com\\nTo: JSP-INTEREST@www.javasoft.com\\nHowever, there are a number of situations in which you would not see the\\nfeature to load and among those reasons, the most common are:\\n\\n1 - You are running your VA/Java image on Window 95/98. The WebSphere Tools\\nare only supported on VA/Java installed on NT/2000 (and AIX) because\\nWebSphere 3.0x is not supported on 95/98.\\n\\nIf you are on 95/98, you'll need to use NT or 2000 (or AIX).\\n\\n2 - You are using the Early Adopter's Edition JDK 1.2 PRO which does not\\nship with the WebSphere Tools. You'll need to install the JDK 1.1x version\\nof Pro 3.0.\\n\\nHope this helps,\\n\\nSheldon Bradley Wosnick\\nVisualAge for Java WebSphere Tools,\\nIBM Toronto Lab\\n\\n\\n\\n>From: Maciej Tylczyñski <maciej@ALATUS.COM.PL>\\n>Reply-To: A mailing list about Java Server Pages specification and\\n>     reference <JSP-INTEREST@java.sun.com>\"\n",
      "'Actually this is not the case,\\n\\nYes they are very closely related but there are differences\\n\\nThe two that come to mind are:\\n\\nJSP output writer is set up for text output, which means\\nif you want your JSP page to output binary, it really is not\\nup to the job and you should use servlets.\\n\\nTag libraries only work with JSP and not with servlets.\\n\\nThere are quite a few other differences, but\\nfor most things JSP is my perferred tool over servlets.\\nAs I find JSP pages easier to create and maintain.\\n\\nCasey Kochmer\\n\\n\\n>From: Ganesh MohanRao <GMohanRao@ALTRA.COM>\\n>Reply-To: A mailing list about Java Server Pages specification and\\n>     reference <JSP-INTEREST@java.sun.com>'\n",
      "'What is the error message?\\n\\n\\n\\n>From: Hyun-Chul KIM <freeagle@HOTMAIL.COM>\\n>Reply-To: A mailing list about Java Server Pages specification and\\n>     reference <JSP-INTEREST@java.sun.com>'\n",
      "'There is 1 message in this issue.\\n\\nTopics in this digest:\\n\\n1. Message from Gyan Jyoti Foundation\\nFrom: \"Gyan Jyoti Foundation\" <uor1979@vsnl.com>'\n",
      "'Oh, come off it, Geert, you KNOW resin sucks!\\n\\n>From: Geert Van Damme <geert.vandamme@Darling.be>\\n>Reply-To: geert.vandamme@Darling.be'\n",
      "'try executing the same logic in the bean from the command line.  This would\\nrequire a main method.  Step through it in a debugger if you have to.  There\\nis not enough information in your jsp code snippet to tell what the problem\\nis.  My first guess is that it is happening in your bean.\\n\\n\\n>From: \"Singh, Jasbinder\" <JAsingh@VISA.COM>\\n>Reply-To: A mailing list about Java Server Pages specification and\\n>     reference <JSP-INTEREST@java.sun.com>'\n",
      "'Check out:\\nhttp://www.jspinsider.com/reference/jspredirection.html\\nfor a complete page long description of the differences\\n\\nin a nutshell\\nresponse.sendRedirect(\"web/welcome.jsp\") is how to have your client\\'s\\nbrowser request a new page.\\n\\nand <jsp:forward page=\"web/welcome.jsp\" />\\nis a server redirection: How to have the server sent to a new page.\\n\\nCasey Kochmer\\n\\n>From: Brad Miley <bradmiley@HOTMAIL.COM>\\n>Reply-To: A mailing list about Java Server Pages specification and\\n>     reference <JSP-INTEREST@java.sun.com>'\n",
      "'> >From: Shailendra <Shailendrak@INSPIRA.COM>\\n> >Reply-To: A mailing list about Java Server Pages specification and\\n> >     reference <JSP-INTEREST@java.sun.com>'\n",
      "'you can very well keep your beans in the classes folder.\\n\\n\\n>From: Tamanna Kher <khertamanna@ITIL.COM>\\n>Reply-To: A mailing list about Java Server Pages specification and\\n>     reference <JSP-INTEREST@java.sun.com>'\n",
      "\"Comparators allow you to sort based on however many columns you want.\\n\\nSee the docs for Comparator, from\\nhttp://java.sun.com/j2se/1.3/docs/api/index.html for more information. If\\nyou still need help after checking the API, send another email and I'll see\\nwhat time I can find to write an example.\\n\\n>From: Jerson Chua <jerson@ROCKETMAIL.COM>\\n>Reply-To: A mailing list about Java Server Pages specification and\\n>     reference <JSP-INTEREST@java.sun.com>\"\n",
      "'Not sure if this is what you are looking for, but Marcomedia has a JSP E-com\\nversion for Drumbeat2000.  I used it for a demo and it seemed to have all\\nthe e-com functionality built in.\\n\\n~tjk~\\n\\n\\n>From: Kathy Wargo <kwargo@hotbot.com>\\n>Reply-To: kwargo@hotbot.com'\n",
      "\">A cachedrowset is a wonderful tool. The only problem is that its still in\\n>development over at sun. As a result I would caution against its use in a\\n>production enviroment.\\n>\\n>Now the best use of the cacherowset comes when it is used in conjunction\\n>with connectionpooling. You make a quick connection. Dump your data into\\nthe\\n>cached row set. Close your connection. Then you pass the cachedrowset to\\n>another object to handle the data. This way you minimize your time\\nconnected\\n>to the database and can easily pass your data as a complete object. (note\\n>this won't work with a result set since you are only pointing to one row at\\n>a time and you have a presistant dataconnection.)\\n>\\n>Hope this helps.\\n>\\n>Casey Kochmer\\n>JspInsider@hotmail.com\\n>\\n>\\n>>From: Robert Nicholson <robert@ELASTICA.COM>\\n>>Reply-To: A mailing list about Java Server Pages specification and\\n>>     reference <JSP-INTEREST@java.sun.com>\"\n",
      "'interesting...\\n\\nI wonder how MS knows that the .asp page has no dynamic content\\nwithout interpreting it.\\n\\n\\n\\n\\n>From: Shrisha Radhakrishna <shrisha_radhakrishna@YAHOO.COM>\\n>Reply-To: A mailing list about Java Server Pages specification and\\n>     reference <JSP-INTEREST@java.sun.com>'\n",
      "'Try clicking on Shift+Reload button, this will reload the cache.\\n\\nChao\\n\\n\\n>From: Ivan Handler <ihandler@IGC.ORG>\\n>Reply-To: A mailing list about Java Server Pages specification and\\n>     reference <JSP-INTEREST@java.sun.com>'\n",
      "'There is 1 message in this issue.\\n\\nTopics in this digest:\\n\\n1. Is it not an Insult?\\nFrom: \"Abhijeet A Dabke\" <Abhijeet_A_Dabke@ril.com>'\n",
      "\"any question is legitimate if the poster makes clear that he/she has looked\\nin all the obvious places, has tried a number of approaches, and is still\\nstuck.  i have no complaint with them.  i have been there myself..\\n\\nyet the percentage of one-liners asking where to find info about java is\\nskyrocketing, and just identifying and deleting those has become quite time\\nconsuming.  it just seems odd that someone who can figure out how to join\\nthe list and post an inane question doesn't have the skills to find the\\ninformation they need..\\n\\ni'll quit grousing now.  it will do no good in any event..\\n\\nbradley mclain\\n\\n>From: Kevin Duffey <kduffey@BUYMEDIA.COM>\\n>Reply-To: A mailing list about Java Server Pages specification and\\n>     reference <JSP-INTEREST@java.sun.com>\"\n",
      "'http://www.j-netdirect.com/Pricing.htm#JSQL\\n\\n\\n>From: Celeste Haseltine <chaseltine@MAGTICKET.COM>\\n>Reply-To: A mailing list about Java Server Pages specification and\\n>     reference <JSP-INTEREST@java.sun.com>'\n",
      "'>\\n> this is getting confusing if the servlet is\\n> displaying session id then it\\n> should not be browser specific as servlet runs at\\n> the server side and not at\\n> client side, It should give seperate id\\nirrespective\\n> of browser\\n> sandarbh\\n>\\n> >From: \"Nimmons, Buster\" <bustern@SBEC.COM>\\n> >Reply-To: A mailing list about Java Server Pages\\n> specification and\\n> >     reference <JSP-INTEREST@java.sun.com>'\n",
      "'I did but never works, and I have now a new error :\\n\\nA Servlet Exception Has Occurred\\norg.apache.jasper.JasperException: XML parsing error on file\\n/WEB-INF/tlds/taglib16.tld: (line 34, col -1): Element \"tag\" does\\n\\n\\nMy file is  portal.jsp :\\n\\n<%@ taglib uri=\"/WEB-INF/tlds/taglib16.tld\" prefix= \"port\" %>\\n\\n<html>\\n<port:Portal portlets=\"first.jsp,second.jsp\" columns=\"bgcolor=\\'#FFFFF\\'\\nwidth=30%, bgcolor=\\'#00FF00\\'\" table=\"cellspacing=20\"/>\\n</html>\\n\\nThanks\\n\\n>From: Tony Einarsson <Tony.Einarsson@SAS.COM>\\n>Reply-To: A mailing list about Java Server Pages specification and\\n>     reference <JSP-INTEREST@java.sun.com>'\n",
      "'Hi check out\\n\\nhttp://www.jspinsider.com/reference/jsp/jspsession.html\\n\\nI document the session object in full glory with code examples.\\n\\nand the quick answer is:\\n<%\\nString ls_validate = \"This is our original session\";\\nsession.setAttribute(\"Validate\", ls_validate);\\n%>\\n\\nCasey Kochmer\\nwww.jspinsider.com\\n\\n>From: TomyWang <TomyWang@TIMELESS.COM.HK>\\n>Reply-To: A mailing list about Java Server Pages specification and\\n>     reference <JSP-INTEREST@java.sun.com>'\n",
      "'Yes, there is a way to trigger the submit button. You may use JavaScript to\\ndo that like this:\\n<form action=\"/foo/bar.jsp\" onsubmit=\"return foobar()\">\\n...\\n</form>\\n<script language=\"JavaScript\">\\nfunction foobar() {\\nalert(\"foo!\");\\n}\\n\\n</script>\\n>From: Brian Slezak <bslezak@KC.RR.COM>\\n>Reply-To: A mailing list about Java Server Pages specification and\\n>     reference <JSP-INTEREST@java.sun.com>'\n",
      "'So they are triple posting!\\n\\n\\n>From: T A Flores <abflores@MYSUN.COM>\\n>Reply-To: A mailing list about Java Server Pages specification and\\n>     reference <JSP-INTEREST@java.sun.com>'\n",
      "'Put it under servlets  directory\\n\\n\\n>From: sufi malak <sufi_m@HOTMAIL.COM>\\n>Reply-To: A mailing list about Java Server Pages specification and\\n>     reference <JSP-INTEREST@java.sun.com>'\n",
      "'You see :\\norg.apache.jasper.JasperException: Unable to compile class for\\nJSPC:\\\\tomcat321\\\\work\\\\localhost_8080%2FCareer\\\\_0002fpager_0002djdbc_0002ejsppager_0002djdbc_jsp_9.java:490:\\nMissing term.\\nif (\"yes\".equals()) {\\n^\\nAlways the expression <sql:getColumn position=\"6\"/> is not evaluated, that\\'s\\nthe problem.\\n??\\n\\n\\n>From: \"Middleton, Jorge Luis\" <jmiddleton@SETA.COM.AR>\\n>Reply-To: A mailing list about Java Server Pages specification and\\n>     reference <JSP-INTEREST@java.sun.com>'\n",
      "'Hi, check out the following page\\nhttp://java.sun.com/products/jdbc/datasheet.html\\n\\nSun gives a full description of the driver types.\\nBasically type 4 driver:\\nThis style of driver converts JDBC calls into the network protocol used\\ndirectly by DBMSs, allowing a direct call from the client machine to the\\nDBMS server and providing a practical solution for intranet access.\\n\\nType two driver:\\nA native-API partly Java technology-enabled driver: This type of driver\\nconverts JDBC calls into calls on the client API for Oracle, Sybase,\\nInformix, DB2, or other DBMS. Note that, like the bridge driver, this style\\nof driver requires that some binary code be loaded on each client machine.\\n\\nCasey Kochmer\\n\\n\\n>From: Luc Saint-Elie <luc@INTERPASNET.COM>\\n>Reply-To: A mailing list about Java Server Pages specification and\\n>     reference <JSP-INTEREST@java.sun.com>'\n",
      "'Its in the signature of all the mails.\\n\\n\\n>From: shriram <shriramkelkar@HOTMAIL.COM>\\n>Reply-To: \"A mailing list for discussion about Sun Microsystem\\'s Java\\n>        Servlet API Technology.\" <SERVLET-INTEREST@java.sun.com>'\n",
      "'Forte is a free download.\\n\\nlocated at http://www.sun.com/forte/ffj/ce/download.html\\n\\nMake sure you have a fast machine and its recommended you also use java 1.3\\nto help speed things up. I run jvm 1.2 on a 300 mhz laptop with NT 4.0 and\\nforte is a bit on the slow side.\\n\\nCasey Kochmer\\nwww.jspinsider.com\\n\\n\\n>From: Naresh Thawani <nthawani@CSEDGE.COM>\\n>Reply-To: A mailing list about Java Server Pages specification and\\n>     reference <JSP-INTEREST@java.sun.com>'\n",
      "'Scott man you rule. I wanted to say these for a long time. I am with you\\nman.\\n\\n\\n>From: Scott Burkey <scott.burkey@PS.GE.COM>\\n>Reply-To: A mailing list about Java Server Pages specification and\\n>     reference <JSP-INTEREST@java.sun.com>'\n",
      "'plzz refer to :\\nhttp://www.jspsite.com/javaserverpages\\nbye\\n\\n\\n\\n>From: Meera Gajanan Nayak <meera.nayak@WIPRO.COM>\\n>Reply-To: A mailing list about Java Server Pages specification and\\n>     reference <JSP-INTEREST@java.sun.com>'\n",
      "'OK if a class is in a package the directory stryuctur should look like the\\npackage.\\nDirectory structur should be:\\nweb-inf\\n\\nNo, you misunderstood my question, UploadTest.java is not in com, but in\\nWEB-INF\\\\classes\\n\\n\\n>From: Nicholas Larsson <nlarsson@HOME.SE>\\n>Reply-To: A mailing list about Java Server Pages specification and\\n>     reference <JSP-INTEREST@java.sun.com>'\n",
      "'> >\\n> > Thanks for replying.  But my boss insists that I use array because\\nvector\\n> > costs more memory and time.\\n> >\\n> >\\n> >\\n> > >From: Shawn Zhu <Shawn.Zhu@MEDEM.COM>\\n> > >Reply-To: A mailing list about Java Server Pages specification and\\n> > >     reference <JSP-INTEREST@java.sun.com>'\n",
      "\"Ouch, he praiseth with faint damnation! :)\\n\\nI think you're reading too much emotion into what I say; I'm forceful, not\\nangry. I don't think I've gotten the least upset about a post in JSPI ever -\\nnot from the flames, not from the moronic questions. If there's an emotion\\nattached to JSP-I, it's sadness.\\n\\n\\n>From: Geoffrey Guthrie <geoff@COMPEST.COM>\\n>Reply-To: A mailing list about Java Server Pages specification and\\n>     reference <JSP-INTEREST@java.sun.com>\"\n",
      "\"Hi Patrik,\\neven i would like to know the reply.\\nCan anybody advice me some good company doing delopment in WAP.\\nI have to change my job ASAP and I'm looking forward to work in WAP, WML,\\nXML, EJB, Corba in the same priority order. Or can anybody help forward my\\nresume in his/her company. I'm looking for a permanent position.\\nI will really appreciate efforts in this regard\\nUpender\\n\\n\\n>From: Patrick Haggerty <hagg@MINDSPRING.COM>\\n>Reply-To: XML technologies in the Java Platform <XML-INTEREST@java.sun.com>\"\n",
      "'I havent done this yet, so Not 100% sure if it will work,\\n\\nBut you might be able to use\\nURL = getResource(String path) a method from the application object\\nto access resources from within your script. Its one thing I have meaning\\nto\\ninvestigate, but haven\\'t run the across the need to do it yet.\\n\\n\\nCasey Kochmer\\n\\n\\n>From: \"Holmes III, William S\" <william.s.holmes.iii@LMCO.COM>\\n>Reply-To: A mailing list about Java Server Pages specification and\\n>     reference <JSP-INTEREST@java.sun.com>'\n",
      "'Hi, I did that, and I deleted the cache too, but now it can not see the\\nbean.\\nThanks\\n\\n\\n>From: Daryani Santosh <Santosh_Daryani@AONCONS.COM>\\n>Reply-To: A mailing list about Java Server Pages specification and\\n>     reference <JSP-INTEREST@java.sun.com>'\n",
      "\"You may need to call the 1800  number of US to ask them the Sylvan Prometric\\nCenters.\\nAddress: UBRM12-175, 500 Eldorado Blvd., Broomfield, CO 80021\\nPhone: (800) 422-8020, (303) 464-4097 or fax (303) 464-4490.\\n\\nThese are the training center's details in New Zealand.They may be of some\\nhelp.\\nTraining Center Name:  undefined\\nAddress:  Level 5, 47 Wakefield Street\\nCountry:  Auckland, New Zealand\\nPhone Number:  +64 9 356 6800\\nFax Number:  +64 9 356 6810\\n\\nTraining Center Name:  Sun Microsystems House\\nAddress:  Wellington\\nCountry:  Wellington, New Zealand\\nPhone Number:  +64 4 499 2344\\nFax Number:  +64 4 499 2348\\n\\n\\nRaj.\\n\\n\\n>From: Raj Jain <reach_raj@HOTMAIL.COM>\\n>Reply-To: A mailing list about Java Server Pages specification and\\n>     reference <JSP-INTEREST@java.sun.com>\"\n",
      "\"Thanks to all for the input....Isn't it a pain to keep having to\\nregisterservlets in weblogic everytime you have a new\\none.....Isn't there an easier\\nway to do this?\\n\\n\\n\\n>From: Richard Yee <ryee@ZOHO.COM>\\n>Reply-To: A mailing list about Java Server Pages specification and\\n>     reference <JSP-INTEREST@java.sun.com>\"\n",
      "\">Which class file you're talking about ? Are you using Jrun ?\\n>\\n> >From: Pedro Meza <pmeza@USWEST.COM>\\n> >Reply-To: A mailing list about Java Server Pages specification and\\n> >     reference <JSP-INTEREST@java.sun.com>\"\n",
      "'Just install microsoft personal web server on your machine. ( it is in win\\n98 installation cd , add-ons folder). You can install JRun and connect with\\npersonal web server using the connector wizard.\\n\\nso u can run servlet in a single machine.\\n\\nHope this solves u\\'r problem.\\n\\nram\\n\\n\\n>From: keesara dinesh <kdineshreddy123@REDIFFMAIL.COM>\\n>Reply-To: \"A mailing list for discussion about Sun Microsystem\\'s Java\\n>        Servlet API Technology.\" <SERVLET-INTEREST@java.sun.com>'\n",
      "'Hi Mohan,\\nWhere do u keep the jsp files in the jswdk and also the bean classes,I am\\nusing Java Web Server which works fine but would like to know\\nSanjay\\n\\n\\n>From: Mohan Nai <javalistm@YAHOO.COM>\\n>Reply-To: A mailing list about Java Server Pages specification and\\n>     reference <JSP-INTEREST@java.sun.com>'\n",
      "'Hello,\\n\\nHow about having one submit form, action to 2/more forms synchronizely. Any\\nidea?\\n\\nfrizat.\\n\\n\\n>From: Lin Bai <lin.bai@gpc-biotech.com>\\n>Reply-To: lin.bai@gpc-biotech.com'\n",
      "'This is a WL specific problem and should be posted to WL group.\\n\\nYou need to have the classfile in your WEBLOGICCLASSPATH (edit your\\nstartWebLogic.cmd or .sh) file.\\n\\n\\n>From: \"Lamport, Mark\" <MLamport@EAEUROPE.COM>\\n>Reply-To: A mailing list about Java Server Pages specification and\\n>     reference <JSP-INTEREST@java.sun.com>'\n",
      "'>\\n>Thanks.  At least I can make the doc2Body reload when doc1Body gets\\n>refreshed.  The next question is how can I pass parameters\\nfrom doc1Body to\\n>doc2Body while I am doing <body\\n>onload=\"parent.doc2Frame.doc2Body.window.location.href =\\n\"doc2Body.jsp\"\">?\\n>\\n>\\n>\\n> >From: Justin Owens <justin@EOVISION.COM>\\n> >Reply-To: A mailing list about Java Server Pages specification and\\n> >     reference <JSP-INTEREST@java.sun.com>'\n",
      "'Hi Paras,\\nCouldnt acces ur mesage earlier\\nWere u able to solve the problem\\nSanjay\\n\\n\\n\\n>From: Paras Sharma <paras_sharma@USA.NET>\\n>Reply-To: A mailing list about Java Server Pages specification and\\n>     reference <JSP-INTEREST@java.sun.com>'\n",
      "\"Jai SrimanNarayana\\nThere is 1 message in this issue.\\n\\nTopics in this digest:\\n\\n1. notes from Chinna Jeeyar Swami's  TeleUpanyasam on Periya Jeeyar\\nFrom: Pattangi <danp@uic.edu>\"\n",
      "'I have tested following JSP with Weblogic connection pool. It worked fine\\nwith me. try if it works for u.\\n\\n\\n\\n<%@ page language = \"java\" import=\"java.sql.*\" %>\\n\\n<%\\ntry {\\nConnection con = null;\\n\\nClass.forName(\"weblogic.jdbc.pool.Driver\");\\n\\ncon = DriverManager.getConnection(\"jdbc:weblogic:pool:OraclePool\");\\n\\nStatement stmt = con.createStatement();\\n\\nResultSet rs = stmt.executeQuery(\"select * from aclentries\");\\n\\n//rs.next();\\nwhile(rs.next()) {\\nfor(int i=1;i<=2;i++) {\\n}\\n\\n\\n//out.println(rs.getString(1));\\nout.println(\"Exception\");\\n}\\n%>\\n\\n\\n>From: T A Flores <abflores@MYSUN.COM>\\n>Reply-To: A mailing list about Java Server Pages specification and\\n>     reference <JSP-INTEREST@java.sun.com>'\n",
      "'Have you set the jdk in your classpath ?\\n\\n>From: ken dias <kendias@HOTMAIL.COM>\\n>Reply-To: A mailing list about Java Server Pages specification and\\n>     reference <JSP-INTEREST@java.sun.com>'\n"
     ]
    }
   ],
   "source": [
    "for t in test:\n",
    "    print(repr(t))"
   ]
  },
  {
   "cell_type": "code",
   "execution_count": null,
   "metadata": {},
   "outputs": [],
   "source": [
    "#Message-Id\n",
    "#Subject\n",
    "#received\n",
    "# --\n",
    "# content-type\n",
    "# x-uidl\n",
    "# resent\n",
    "# x-\n",
    "# reply-to"
   ]
  },
  {
   "cell_type": "code",
   "execution_count": null,
   "metadata": {},
   "outputs": [],
   "source": [
    "for t in test_res:\n",
    "    print(repr(t))"
   ]
  },
  {
   "cell_type": "markdown",
   "metadata": {},
   "source": [
    "## Testing"
   ]
  },
  {
   "cell_type": "code",
   "execution_count": null,
   "metadata": {},
   "outputs": [],
   "source": [
    "test = df['text']\n",
    "test = test[ (test.str.contains('To Post a message, send it to:   extremeprogramming@eGroups.com\\n\\nTo Unsubscribe, send a blank message to: extremeprogramming-unsubscribe@eGroups.com\\n\\nAd-free courtesy of objectmentor.com') ) ]"
   ]
  },
  {
   "cell_type": "code",
   "execution_count": null,
   "metadata": {},
   "outputs": [],
   "source": [
    "for t in test:\n",
    "    print(repr(t))"
   ]
  },
  {
   "cell_type": "code",
   "execution_count": null,
   "metadata": {},
   "outputs": [],
   "source": [
    "for t in test_res:\n",
    "    print(repr(t))"
   ]
  },
  {
   "cell_type": "markdown",
   "metadata": {},
   "source": [
    "### Save DF"
   ]
  },
  {
   "cell_type": "code",
   "execution_count": null,
   "metadata": {},
   "outputs": [],
   "source": [
    "df = df[(df != \"\").all(axis=1)]"
   ]
  },
  {
   "cell_type": "code",
   "execution_count": null,
   "metadata": {},
   "outputs": [],
   "source": [
    "df = pd.Series(list(set(df['text'].tolist())),name='text').to_frame()"
   ]
  },
  {
   "cell_type": "code",
   "execution_count": null,
   "metadata": {},
   "outputs": [],
   "source": [
    "df = df.dropna(subset=['text'])"
   ]
  },
  {
   "cell_type": "code",
   "execution_count": null,
   "metadata": {},
   "outputs": [],
   "source": [
    "df.to_parquet('../data/avocado_preprocessing_wip/avocado_parser_28_le_1000.parquet', engine='pyarrow')"
   ]
  },
  {
   "cell_type": "code",
   "execution_count": null,
   "metadata": {},
   "outputs": [],
   "source": [
    "df.shape"
   ]
  },
  {
   "cell_type": "code",
   "execution_count": null,
   "metadata": {},
   "outputs": [],
   "source": [
    "print(df.iloc[11]['text'])"
   ]
  },
  {
   "cell_type": "code",
   "execution_count": null,
   "metadata": {},
   "outputs": [],
   "source": []
  }
 ],
 "metadata": {
  "kernelspec": {
   "display_name": "ma_env",
   "language": "python",
   "name": "python3"
  },
  "language_info": {
   "codemirror_mode": {
    "name": "ipython",
    "version": 3
   },
   "file_extension": ".py",
   "mimetype": "text/x-python",
   "name": "python",
   "nbconvert_exporter": "python",
   "pygments_lexer": "ipython3",
   "version": "3.12.7"
  }
 },
 "nbformat": 4,
 "nbformat_minor": 2
}
